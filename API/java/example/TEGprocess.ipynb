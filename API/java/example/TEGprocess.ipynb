{
 "cells": [
  {
   "cell_type": "markdown",
   "metadata": {},
   "source": [
    "# Test NeqSim process rest API\n",
    "\n",
    "This notebook will test the NeqSim Rest API for a imple process. \n",
    "\n",
    "Commands to build:\n",
    "mvn compile quarkus:dev:"
   ]
  },
  {
   "cell_type": "markdown",
   "metadata": {},
   "source": [
    "# How to use NeqSim API from a Python script\n",
    "\n",
    "The follwoing code demonstrates how to use the TEG process API from a Python script."
   ]
  },
  {
   "cell_type": "code",
   "execution_count": 1,
   "metadata": {},
   "outputs": [
    {
     "data": {
      "text/plain": [
       "dict_items([('success', True), ('errormessage', None), ('underlying_error', None), ('esthydratedewtemperature', -35.016027814844676), ('estwaterdewtemperature', -42.16385463581844), ('fineFilterCv', 0.0), ('reboilerDutykW', 239.66536076958033), ('tegInWaterFromOHReceiver', 0.2730715442275765), ('temperatureRichTEGafterRefluxCondenser', 42.638287914594855), ('hydrateTemperatureFeedGas', 16.251834273742304), ('tEGinDryGas', 0.7538393641925997), ('hydrateTemperatureFeedGasToAbsorber', 20.08096637748696), ('waterDewPointFeedGasToAbsorber', 32.95158985654416), ('absorberFsFactor', 0.9600668123450637), ('stillColumnFsFactor', 0.24682963184047865), ('absorberGasLoadFactor', 0.09455920662406377), ('flashDrumGasLoadFactor', 0.0002035235985544424), ('waterInWetGasppm', 595.3754556598095), ('waterInDryGasppm', 5.238460728762293), ('wetGasRatekghr', 146259.57979554767), ('waterInWetGaskgMSm3', 453.7678077026419), ('waterInDryGaskgMSm3', 3.992513997730307), ('wtLeanTEGFromReboiler', 98.86759471869999), ('waterInDryTEGwt', 0.1241244265536734), ('absorberWettingRate', 1.3092105745080889), ('wtLeanTEGFromStripper', 99.86168445049097), ('wtRichTEGFromAbsorber', 97.108871985593), ('richTEGtemperature', 35.800096312417395), ('waterInRichTEGkghr', 93.9975486859495), ('tEGcirculationratelitreperkg', 62.472111339984885), ('richTEGtemperatureAfterDepres', 40.26475371792054), ('condenserdutykW', -8.546613543363955), ('TEGmakeupkghr', 0.809266476734811), ('pumpDutykW', 25.968012038653367), ('flashGasRate', 54.54657189291144), ('gasToFlareRatekghr', 174.42088593587164), ('hCinleanTEGmgperkg', 141.74102633074153), ('waterToTreatment', 19.813777773787827), ('tEGinwatertoTreatmentwtprecent', 0.2730715442275765), ('richTEGflow', 5655.133880875527), ('coldLeanHX', {'name': 'lean/rich TEG heat-exchanger', 'feedTemperature1': 60.6896043780161, 'dischargeTemperature1': 147.03575759539382, 'HXthermalEfectiveness': 0.69539849596839, 'feedTemperature2': 187.82311063390875, 'dischargeTemperature2': 101.46955464835185, 'dutyBalance': 1.0}), ('hotLeanHX', {'name': 'rich TEG heat exchanger 1', 'feedTemperature1': 42.638287914594855, 'dischargeTemperature1': 60.6896043780161, 'HXthermalEfectiveness': 0.38885699911090466, 'feedTemperature2': 90.5348959894917, 'dischargeTemperature2': 72.33644785227119, 'dutyBalance': 1.0}), ('condenserHX', {'name': 'overhead condenser heat-exchanger', 'feedTemperature1': 80.0, 'dischargeTemperature1': 48.0, 'HXthermalEfectiveness': 0.6624920218345942, 'feedTemperature2': 18.0, 'dischargeTemperature2': 23.70369161053759, 'dutyBalance': 1.0}), ('overheadCondenserStream', {'name': 'overhead condenser heat-exchanger_Sout1', 'fluid': {'name': 'DefaultName', 'volumeFlow': 200.77811602738305, 'molarMass': 0.019232060561435747, 'massDensity': 1.0639569137846712, 'massflow': 194.2346637096595, 'compProp': {'molFraction': 3.567368477732397e-05, 'massFlow': 4.19934253863451e-07}, 'definedComponent': {'nitrogen': {'molFraction': 0.002632714578682054, 'massFlow': 0.7448546378631324}, 'CO2': {'molFraction': 0.052925080997416496, 'massFlow': 23.52312108501717}, 'propane': {'molFraction': 0.017650267288935054, 'massFlow': 7.860688811255255}, 'ipentane': {'molFraction': 0.0, 'massFlow': 0.0}, 'nhexane': {'molFraction': 0.0, 'massFlow': 0.0}, 'nbutane': {'molFraction': 0.0, 'massFlow': 0.0}, 'water': {'molFraction': 0.18780983302674353, 'massFlow': 15.233168931317637}, 'benzene': {'molFraction': 0.0051624548831794275, 'massFlow': 4.071924462695456}, 'ibutane': {'molFraction': 0.0, 'massFlow': 0.0}, 'ethane': {'molFraction': 0.03469341999885783, 'massFlow': 10.536087701041376}, 'npentane': {'molFraction': 0.0, 'massFlow': 0.0}, 'TEG': {'molFraction': 3.567368477732397e-05, 'massFlow': 4.19934253863451e-07}, 'methane': {'molFraction': 0.6990905555414083, 'massFlow': 113.27100369920974}}, 'oilComponent': {}}, 'temperature': 48.0, 'pressure': 1.2, 'volumeFlow': 200.77811602738305, 'molarMass': 0.019232060561435747, 'massDensity': 0.9674095342301592, 'massflow': 194.2346637096595, 'massflowGas': 175.24084974833403, 'massflowOil': 0.0, 'massflowAqueous': 18.993813961325408})])"
      ]
     },
     "execution_count": 1,
     "metadata": {},
     "output_type": "execute_result"
    }
   ],
   "source": [
    "import requests\n",
    "import json\n",
    "import requests\n",
    "import pandas as pd\n",
    "\n",
    "data = {\n",
    "  \"feedGasFlowRate\": 4.65,\n",
    "  \"feedGasTemperature\": 25.0,\n",
    "  \"feedGasPressure\": 70.0,\n",
    "  \"absorberFeedGasTemperature\": 35.0,\n",
    "  \"absorberFeedGasPressure\": 139.0,\n",
    "  \"leanTEGFlowRate\": 5500.0,\n",
    "  \"leanTEGTemperature\": 48.5,\n",
    "  \"flashDrumPressure\": 4.8,\n",
    "  \"reboilerPressure\": 1.2,\n",
    "  \"reboilerTemperature\": 197.5,\n",
    "  \"condenserTemperature\": 80.0,\n",
    "  \"condenserPressure\": 1.2,\n",
    "  'regenerationGasCoolerTemperature': 47.0,\n",
    "  \"strippingGasRate\": 180.0,\n",
    "  \"strippingGasFeedTemperature\": 78.3,\n",
    "  \"bufferTankTemperatureTEG\": 90.5,\n",
    "  'hotTEGpumpPressure': 3.0,\n",
    "  'finefilterdeltaP': 0.0,\n",
    "  \"numberOfStagesTEGabsorber\": 4,\n",
    "  \"stageEfficiencyTEGabsorber\": 0.7,\n",
    "  \"numberOfStagesStripper\": 2,\n",
    "  \"stageEfficiencyStripper\": 1,\n",
    "  \"UAvalueLeanRichTEGHeatExchanger\": 8316.0,\n",
    "  \"UAvalueLeanRichTEGHeatExchanger2\": 2224.0\n",
    "}\n",
    "headers = {'Content-type': 'application/json', 'Accept': 'application/json'}\n",
    "params={'key':''}\n",
    "\n",
    "response = requests.post('http://localhost:8080/ML/dehydTEGsim', data=json.dumps(data), params=params, headers=headers)\n",
    "\n",
    "response.json().items()"
   ]
  }
 ],
 "metadata": {
  "interpreter": {
   "hash": "a5df7bd4ca0d6bb9986d9d69faf4f6c25893f82bf7982e9868ee8495bd8c927f"
  },
  "kernelspec": {
   "display_name": "Python 3.7.9 64-bit ('base': conda)",
   "name": "python3"
  },
  "language_info": {
   "codemirror_mode": {
    "name": "ipython",
    "version": 3
   },
   "file_extension": ".py",
   "mimetype": "text/x-python",
   "name": "python",
   "nbconvert_exporter": "python",
   "pygments_lexer": "ipython3",
   "version": "3.7.9"
  },
  "orig_nbformat": 2
 },
 "nbformat": 4,
 "nbformat_minor": 2
}
