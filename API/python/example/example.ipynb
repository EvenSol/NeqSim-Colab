{
 "cells": [
  {
   "cell_type": "markdown",
   "metadata": {},
   "source": [
    "# Example of running API"
   ]
  },
  {
   "cell_type": "markdown",
   "metadata": {},
   "source": [
    "Calculation of the hydrocarbon dew point temperature of a gas mixture."
   ]
  },
  {
   "cell_type": "code",
   "execution_count": 2,
   "metadata": {},
   "outputs": [
    {
     "data": {
      "text/plain": [
       "{'dewpointtemperature': 12.608927409347018}"
      ]
     },
     "execution_count": 2,
     "metadata": {},
     "output_type": "execute_result"
    }
   ],
   "source": [
    "import json\n",
    "import requests\n",
    "import math\n",
    "\n",
    "datasphaseopt = {\n",
    "        \"N2\": 0.01,\n",
    "        \"CO2\": 0.02,\n",
    "        \"methane\": 0.9,\n",
    "        \"ethane\": 0.05,\n",
    "        \"propane\": 0.02,\n",
    "        \"ibutane\": 0.01,\n",
    "        \"nbutane\": 0.01,\n",
    "        \"npentane\": 0.01,\n",
    "        \"nhexane\": 0.01,\n",
    "        \"pressure_sep\": 10.0\n",
    "} \n",
    "data_json1 = json.dumps(datasphaseopt)\n",
    "\n",
    "try:\n",
    "        response = requests.post('http://localhost:8000/dewt', data_json1)    \n",
    "except:\n",
    "        print(\"No respons after max time...continuing\")\n",
    "\n",
    "response.json()"
   ]
  }
 ],
 "metadata": {
  "interpreter": {
   "hash": "57baa5815c940fdaff4d14510622de9616cae602444507ba5d0b6727c008cbd6"
  },
  "kernelspec": {
   "display_name": "Python 3.7.8 64-bit",
   "language": "python",
   "name": "python3"
  },
  "language_info": {
   "codemirror_mode": {
    "name": "ipython",
    "version": 3
   },
   "file_extension": ".py",
   "mimetype": "text/x-python",
   "name": "python",
   "nbconvert_exporter": "python",
   "pygments_lexer": "ipython3",
   "version": "3.7.9"
  },
  "orig_nbformat": 4
 },
 "nbformat": 4,
 "nbformat_minor": 2
}
