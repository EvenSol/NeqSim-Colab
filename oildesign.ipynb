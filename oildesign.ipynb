{
  "cells": [
    {
      "cell_type": "markdown",
      "metadata": {
        "id": "view-in-github",
        "colab_type": "text"
      },
      "source": [
        "<a href=\"https://colab.research.google.com/github/EvenSol/NeqSim-Colab/blob/master/oildesign.ipynb\" target=\"_parent\"><img src=\"https://colab.research.google.com/assets/colab-badge.svg\" alt=\"Open In Colab\"/></a>"
      ]
    },
    {
      "cell_type": "markdown",
      "metadata": {
        "id": "H9UfpoardJU0"
      },
      "source": [
        "# Initialize NeqSim Project"
      ]
    },
    {
      "cell_type": "code",
      "execution_count": 1,
      "metadata": {
        "colab": {
          "base_uri": "https://localhost:8080/"
        },
        "id": "epV_NOa_uVwt",
        "outputId": "21c5736b-04dd-4cae-d7b2-71de03e764ed"
      },
      "outputs": [
        {
          "output_type": "stream",
          "name": "stdout",
          "text": [
            "Collecting git+https://github.com/equinor/neqsimpython.git\n",
            "  Cloning https://github.com/equinor/neqsimpython.git to /tmp/pip-req-build-kghqd01g\n",
            "  Running command git clone --filter=blob:none --quiet https://github.com/equinor/neqsimpython.git /tmp/pip-req-build-kghqd01g\n",
            "  Resolved https://github.com/equinor/neqsimpython.git to commit 3387328f5ef4fc29ba6e58b7cd869a50d9609ae3\n",
            "  Installing build dependencies ... \u001b[?25l\u001b[?25hdone\n",
            "  Getting requirements to build wheel ... \u001b[?25l\u001b[?25hdone\n",
            "  Preparing metadata (pyproject.toml) ... \u001b[?25l\u001b[?25hdone\n",
            "Collecting jpype1 (from neqsim==2.5.8)\n",
            "  Downloading JPype1-1.4.1-cp310-cp310-manylinux_2_12_x86_64.manylinux2010_x86_64.whl (465 kB)\n",
            "\u001b[2K     \u001b[90m━━━━━━━━━━━━━━━━━━━━━━━━━━━━━━━━━━━━━━━━\u001b[0m \u001b[32m465.3/465.3 kB\u001b[0m \u001b[31m3.3 MB/s\u001b[0m eta \u001b[36m0:00:00\u001b[0m\n",
            "\u001b[?25hRequirement already satisfied: pandas in /usr/local/lib/python3.10/dist-packages (from neqsim==2.5.8) (1.5.3)\n",
            "Requirement already satisfied: packaging in /usr/local/lib/python3.10/dist-packages (from jpype1->neqsim==2.5.8) (23.2)\n",
            "Requirement already satisfied: python-dateutil>=2.8.1 in /usr/local/lib/python3.10/dist-packages (from pandas->neqsim==2.5.8) (2.8.2)\n",
            "Requirement already satisfied: pytz>=2020.1 in /usr/local/lib/python3.10/dist-packages (from pandas->neqsim==2.5.8) (2023.3.post1)\n",
            "Requirement already satisfied: numpy>=1.21.0 in /usr/local/lib/python3.10/dist-packages (from pandas->neqsim==2.5.8) (1.23.5)\n",
            "Requirement already satisfied: six>=1.5 in /usr/local/lib/python3.10/dist-packages (from python-dateutil>=2.8.1->pandas->neqsim==2.5.8) (1.16.0)\n",
            "Building wheels for collected packages: neqsim\n",
            "  Building wheel for neqsim (pyproject.toml) ... \u001b[?25l\u001b[?25hdone\n",
            "  Created wheel for neqsim: filename=neqsim-2.5.8-py3-none-any.whl size=28196076 sha256=433eb83b5ad72989ae05955af1e6449570f28d84c9880ac5c8a6bd04ed4baeaa\n",
            "  Stored in directory: /tmp/pip-ephem-wheel-cache-i3odegf6/wheels/68/ff/ac/70b246ceb8f74c0d2b14d9dd5b7c6f735610bc7e341ec8f5de\n",
            "Successfully built neqsim\n",
            "Installing collected packages: jpype1, neqsim\n",
            "Successfully installed jpype1-1.4.1 neqsim-2.5.8\n"
          ]
        }
      ],
      "source": [
        "#!pip install neqsim\n",
        "!pip install git+https://github.com/equinor/neqsimpython.git\n",
        "import neqsim\n",
        "from neqsim.thermo.thermoTools import *\n",
        "import matplotlib\n",
        "import numpy as np\n",
        "import matplotlib.pyplot as plt\n",
        "import math\n",
        "import pandas as pd"
      ]
    },
    {
      "cell_type": "markdown",
      "metadata": {
        "id": "uI8GKVAygpeB"
      },
      "source": [
        "#1. Project Strategy\n"
      ]
    },
    {
      "cell_type": "markdown",
      "metadata": {
        "id": "c-8g3tpbrAev"
      },
      "source": [
        "\n",
        "###Business case:\n",
        "Description of project consepts\n",
        "\n",
        "###Value drivers:\n",
        "NPV:\n",
        "* High NPV\n",
        "* Low BE (eg. 30 $/bbl)\n",
        "\n",
        "SSU:\n",
        "* CO2 emission; Less than 5 kg CO2/boe produced\n",
        "\n",
        "Hydrocarbon recovery\n",
        "* Maximize hydrocarbon recovery (resource recovery)\n",
        "\n"
      ]
    },
    {
      "cell_type": "markdown",
      "metadata": {
        "id": "jQbXEdM3vM87"
      },
      "source": [
        "## Risk handling"
      ]
    },
    {
      "cell_type": "markdown",
      "metadata": {
        "id": "vYOu0GgWvUrS"
      },
      "source": [
        "How to handle risk"
      ]
    },
    {
      "cell_type": "markdown",
      "metadata": {
        "id": "RiUNzkVB6Prg"
      },
      "source": [
        "## NPV calculation"
      ]
    },
    {
      "cell_type": "markdown",
      "metadata": {
        "id": "UyTRUNj66S9x"
      },
      "source": [
        "Calculating the Net Present Value (NPV) for an oil field development involves estimating the future cash flows generated by the project, discounting those cash flows back to present value using an appropriate discount rate, and then subtracting the initial investment cost. Here's a step-by-step guide on how to calculate NPV for an oil field development:\n",
        "\n",
        "Estimate Cash Flows:\n",
        "Estimate the future cash flows that the oil field development is expected to generate over its lifetime. These cash flows can include revenues from oil production, as well as operating expenses, taxes, and other relevant costs. It's important to take into account factors such as production levels, oil prices, operating costs, and any potential changes in regulations or market conditions.\n",
        "\n",
        "Determine Discount Rate:\n",
        "Choose an appropriate discount rate that reflects the time value of money and the risk associated with the project. The discount rate should account for the project's specific risks and uncertainties. The discount rate is often derived from the company's cost of capital or a suitable rate of return required by investors.\n",
        "\n",
        "Calculate Present Value of Cash Flows:\n",
        "For each year or period, calculate the present value of the estimated cash flows using the chosen discount rate. The formula for calculating the present value (PV) of a future cash flow (CF) is:"
      ]
    },
    {
      "cell_type": "code",
      "execution_count": null,
      "metadata": {
        "colab": {
          "base_uri": "https://localhost:8080/"
        },
        "id": "0B9OlcKQ6Zxg",
        "outputId": "ee07722c-2182-425d-c397-1471323fe157"
      },
      "outputs": [
        {
          "name": "stdout",
          "output_type": "stream",
          "text": [
            "PV  0.9523809523809523  MNOK\n"
          ]
        }
      ],
      "source": [
        "import math\n",
        "CF = 1e6\n",
        "r = 0.05\n",
        "t= 1.0\n",
        "PV = CF / math.pow((1 + r),t)\n",
        "print('PV ' , PV/1e6, ' MNOK')"
      ]
    },
    {
      "cell_type": "markdown",
      "metadata": {
        "id": "K8xH90IW6pP5"
      },
      "source": [
        "Where:\n",
        "\n",
        "PV = Present value of the cash flow\n",
        "CF = Future cash flow\n",
        "r = Discount rate\n",
        "t = Number of years in the future\n",
        "You'll need to calculate the present value for each year's cash flow.\n",
        "\n",
        "Sum the Present Values:\n",
        "Sum up all the present values of the estimated cash flows to get the total present value of the cash flows over the entire life of the project.\n",
        "\n",
        "Subtract Initial Investment:\n",
        "Subtract the initial investment cost required for the oil field development from the total present value of cash flows calculated in the previous step.\n",
        "\n",
        "Interpret the Result:\n",
        "\n",
        "If the calculated NPV is positive, it indicates that the project is expected to generate more cash inflows than outflows and is potentially a viable investment.\n",
        "If the NPV is negative, it suggests that the project's expected cash inflows are less than the outflows, which might make the project less attractive or not financially viable.\n",
        "It's important to note that NPV calculations heavily depend on the accuracy of the input data, such as cash flow estimates and discount rates. Additionally, sensitivity analysis can be performed by testing different scenarios and assumptions to understand the project's sensitivity to changes in variables like oil prices, production volumes, and costs.\n",
        "\n",
        "It's recommended to consult with financial experts, economists, and professionals with expertise in oil and gas industry evaluations when performing NPV calculations for complex projects like oil field developments."
      ]
    },
    {
      "cell_type": "markdown",
      "metadata": {
        "id": "7HqG9qAfmiKu"
      },
      "source": [
        "## Investment Equivalent (IE)"
      ]
    },
    {
      "cell_type": "markdown",
      "metadata": {
        "id": "zh3eVa-fl95s"
      },
      "source": [
        "\n",
        "Investment Equivalent (IE) is a method used in project analysis to compare the relative attractiveness of investments that require different amounts of capital. It is a calculation that determines the initial cash outlay required for an investment with equivalent cash flow to the proposed project. The investment equivalent analysis is used to evaluate the cost-effectiveness of different investment projects in a company's portfolio.\n",
        "\n",
        "The Investment Equivalent is calculated as follows:\n",
        "\n",
        "$IE = Investment A ×   ((1 + r)n  - 1) / (r × (1 + r)n)$\n",
        "\n",
        "Where:\n",
        "- Investment A is the initial investment required for one project\n",
        "- r is the discount rate or cost of capital\n",
        "- n is the number of years of the project's life\n",
        "\n",
        "The IE calculation helps to compare investments with different initial investment costs. By determining the investment equivalent, an investor can evaluate the cost-effectiveness of different investment projects and choose the project with the highest net present value (NPV) or highest returns per dollar invested.\n",
        "\n",
        "In summary, the investment equivalent is a useful tool for comparing the initial capital costs of different investment projects to determine which investment has the best financial return. It enables investors to make informed decisions on which projects to pursue in order to maximize their returns.\n",
        "\n",
        "Sure, here are the equations for calculating Investment Equivalent:\n",
        "\n",
        "IE = Investment A ×   ((1 + r)n  - 1) / (r × (1 + r)n)\n",
        "\n",
        "where:\n",
        "\n",
        "- IE = Investment Equivalent\n",
        "- Investment A = initial investment required for one project\n",
        "- r = discount rate or cost of capital\n",
        "- n = number of years of the project's life\n",
        "\n",
        "To illustrate the use of the Investment Equivalent equation, let's say we have two potential projects with different investment requirements and cash flows:\n",
        "\n",
        "Project A requires an initial investment of $100,000 and is expected to generate cash flows of $25,000 per year for 5 years at a discount rate (r) of 10%.\n",
        "\n",
        "Project B requires an initial investment of $150,000 and is expected to generate cash flows of $35,000 per year for 5 years at a discount rate of 10%.\n",
        "\n",
        "To compare these projects on an equal footing, we can calculate the Investment Equivalent for each project using the above equation:\n",
        "\n",
        "IE of Project A = $100,000 × ((1 + 0.1)^5 - 1) / (0.1 × (1 + 0.1)^5) = $281,031.05\n",
        "\n",
        "IE of Project B = $150,000 × ((1 + 0.1)^5 - 1) / (0.1 × (1 + 0.1)^5) = $421,546.58\n",
        "\n",
        "Based on the Investment Equivalent calculation, Project B has a higher IE value, indicating that it requires a greater amount of initial capital investment to generate the same cash flows as Project A. Investors can use this information to make informed decisions on which project to pursue by comparing the investment costs and projected returns of each project."
      ]
    },
    {
      "cell_type": "markdown",
      "metadata": {
        "id": "D7cL-Npd7vPk"
      },
      "source": [
        "## BE calculation"
      ]
    },
    {
      "cell_type": "markdown",
      "metadata": {
        "id": "UF_M4O6u7ydr"
      },
      "source": [
        "The breakeven oil price for an oil project is the price at which the project's revenues match its total costs, resulting in zero profit or loss. Calculating the breakeven oil price involves determining the point at which the project becomes financially self-sustaining. Here's how you can calculate the breakeven oil price for an oil project:\n",
        "\n",
        "Estimate Fixed Costs:\n",
        "Identify the fixed costs associated with the oil project. Fixed costs are those that do not vary with the level of production or sales. These could include items like lease or rental expenses, insurance, administrative salaries, etc.\n",
        "\n",
        "Estimate Variable Costs:\n",
        "Determine the variable costs related to the oil project. Variable costs change with the level of production. These costs might include expenses like drilling and extraction costs, transportation, labor directly tied to production, etc.\n",
        "\n",
        "Calculate Total Costs:\n",
        "Add up the fixed costs and variable costs to get the total costs for the project at a given level of production. The formula would be:"
      ]
    },
    {
      "cell_type": "code",
      "execution_count": null,
      "metadata": {
        "id": "TZ9UeFnS77ZD"
      },
      "outputs": [],
      "source": [
        "Fixed_Costs = 1e6\n",
        "Variable_Costs_per_Unit = 1\n",
        "Units_of_Production  = 1.0\n",
        "Total_Costs = Fixed_Costs + (Variable_Costs_per_Unit * Units_of_Production)"
      ]
    },
    {
      "cell_type": "markdown",
      "metadata": {
        "id": "iewTATXk8L1n"
      },
      "source": [
        "Estimate Revenue per Unit:\n",
        "Determine the revenue generated per unit of oil produced. This could be based on the expected sales price of the oil.\n",
        "\n",
        "Set Up Breakeven Equation:\n",
        "The breakeven equation is where the total costs equal the total revenue. At breakeven, the equation would be:\n",
        "\n",
        "Substituting in the revenue per unit and the total costs formula from earlier:"
      ]
    },
    {
      "cell_type": "code",
      "execution_count": null,
      "metadata": {
        "id": "M4SeqJAf8MvM"
      },
      "outputs": [],
      "source": [
        "Total_Revenue = Total_Costs\n",
        "#Fixed_Costs + (Variable Costs per Unit * Units of Production) = Revenue per Unit * Units of Production\n"
      ]
    },
    {
      "cell_type": "markdown",
      "metadata": {
        "id": "AraHl-DC8gdc"
      },
      "source": [
        "Solve for Breakeven Units:\n",
        "Solve the equation for the number of units of production (oil) needed to reach the breakeven point:"
      ]
    },
    {
      "cell_type": "code",
      "execution_count": null,
      "metadata": {
        "id": "dR0Zt9EL8hUU"
      },
      "outputs": [],
      "source": [
        "#Breakeven_Oil_Price = Total_Fixed_Costs / Breakeven_Units_of_Production\n"
      ]
    },
    {
      "cell_type": "markdown",
      "metadata": {
        "id": "nBEVip248imL"
      },
      "source": [
        "Calculate Breakeven Oil Price:\n",
        "Divide the total fixed costs by the breakeven units of production to determine the breakeven oil price. This price represents the price at which the project covers all its costs."
      ]
    },
    {
      "cell_type": "code",
      "execution_count": null,
      "metadata": {
        "id": "Q5ChSjhg8k3e"
      },
      "outputs": [],
      "source": [
        "#Breakevn_Oil Price = Total_Fixed_Costs / Breakeven_Units_of_Production"
      ]
    },
    {
      "cell_type": "markdown",
      "metadata": {
        "id": "kERD7eaB8mTc"
      },
      "source": [
        "Keep in mind that breakeven calculations are based on certain assumptions and estimates, which can change over time due to various factors such as fluctuations in oil prices, changes in production costs, and unforeseen operational challenges. Conducting sensitivity analysis by considering different cost and price scenarios can help assess the project's robustness to changes in these variables. It's also important to consult with industry experts and financial professionals when performing breakeven analyses for oil projects."
      ]
    },
    {
      "cell_type": "markdown",
      "metadata": {
        "id": "uBh1yTRi9JMN"
      },
      "source": [
        "## CO2 emission calculation"
      ]
    },
    {
      "cell_type": "markdown",
      "metadata": {
        "id": "kgx-rdP29Mh0"
      },
      "source": [
        "......"
      ]
    },
    {
      "cell_type": "markdown",
      "metadata": {
        "id": "-1mx70sde86a"
      },
      "source": [
        "# 2. Economy Basis"
      ]
    },
    {
      "cell_type": "markdown",
      "metadata": {
        "id": "CX7alcTJfBJb"
      },
      "source": [
        "Input to economy ealuations"
      ]
    },
    {
      "cell_type": "code",
      "execution_count": null,
      "metadata": {
        "id": "FSy4t_7RfE_y"
      },
      "outputs": [],
      "source": [
        "oilprice = 40.0 #US$/boe\n",
        "salesgasprice = 1.0 # US$/SM3\n",
        "LPGprice = 100 # US$/tonn\n",
        "C5price = 100 # US$/m3\n",
        "\n",
        "discountrate = 0.05\n",
        "streamdaysperyear = 360\n",
        "\n",
        "taxoil = 0.25\n",
        "taxgas = 0.25\n",
        "taxLPG = 0.25\n",
        "taxC5 = 0.25"
      ]
    },
    {
      "cell_type": "markdown",
      "metadata": {
        "id": "J00M6V9Zu80N"
      },
      "source": [
        "#  3. Design Basis\n"
      ]
    },
    {
      "cell_type": "markdown",
      "metadata": {
        "id": "Yt7JFy5t16om"
      },
      "source": [
        "##Description"
      ]
    },
    {
      "cell_type": "markdown",
      "metadata": {
        "id": "qTI8bL9i3w7r"
      },
      "source": [
        "Writing a design basis for an oil field involves providing a comprehensive outline of the project's objectives, requirements, and specifications. While the specific details may vary depending on the specific project and its location, here are the key components you should consider when writing a design basis for an oil field:\n",
        "\n",
        "1. Introduction:\n",
        "   - Provide a brief overview of the project, including its purpose and scope.\n",
        "   - Identify the stakeholders involved, such as the project owner, operators, and regulatory authorities.\n",
        "\n",
        "2. Project Objectives:\n",
        "   - Clearly state the primary objectives of the oil field project, such as maximizing production rates, optimizing recovery, or minimizing environmental impact.\n",
        "   - Specify any secondary objectives, such as cost efficiency, safety, or sustainability goals.\n",
        "\n",
        "3. Field Characteristics:\n",
        "   - Describe the geological and reservoir characteristics of the oil field, including the type of reservoir (conventional, unconventional, offshore, etc.), formation properties, fluid composition, and estimated reserves.\n",
        "   - Provide information on the field size, shape, and potential production rates.\n",
        "\n",
        "4. Facilities and Infrastructure:\n",
        "   - Outline the necessary facilities and infrastructure required for oil field operations, including drilling rigs, production platforms, pipelines, storage tanks, and processing facilities.\n",
        "   - Specify the anticipated production capacity and any planned expansions or phased development.\n",
        "\n",
        "5. Health, Safety, and Environment (HSE):\n",
        "   - Identify the key HSE considerations and standards to be followed throughout the project lifecycle, including regulatory compliance, risk assessment, emergency response plans, and environmental impact mitigation measures.\n",
        "   - Address specific concerns related to worker safety, pollution prevention, and ecosystem protection.\n",
        "\n",
        "6. Well Design and Drilling:\n",
        "   - Discuss the well design requirements, including the number and types of wells, well spacing, completion techniques, and well integrity measures.\n",
        "   - Define the drilling methods, casing and cementing procedures, and any special considerations for drilling in challenging environments.\n",
        "\n",
        "7. Production and Operations:\n",
        "   - Specify the production techniques and technologies to be employed, such as primary, secondary, or enhanced oil recovery methods.\n",
        "   - Describe the production processes, flow rates, separation and treatment facilities, and any associated transportation requirements.\n",
        "\n",
        "8. Monitoring and Control:\n",
        "   - Outline the monitoring and control systems to be implemented for production optimization, reservoir management, equipment performance, and safety.\n",
        "   - Identify the instrumentation, automation, and data management systems to be utilized.\n",
        "\n",
        "9. Project Schedule and Milestones:\n",
        "   - Provide a high-level timeline for the project, including key milestones, major activities, and anticipated durations.\n",
        "   - Identify any dependencies, critical path items, and potential risks or uncertainties.\n",
        "\n",
        "10. Project Execution and Quality Assurance:\n",
        "    - Describe the project execution strategy, including contracting approaches, procurement plans, and quality assurance and control procedures.\n",
        "    - Address any specific regulations, industry standards, or certifications required for compliance.\n",
        "\n",
        "11. Project Constraints and Assumptions:\n",
        "    - Highlight any known constraints or limitations that may impact the design or execution of the project, such as environmental restrictions, budgetary considerations, or technical challenges.\n",
        "    - Document any assumptions made during the design process that may affect the project outcomes.\n",
        "\n",
        "12. References:\n",
        "    - Include a list of references, such as industry standards, technical guidelines, or relevant research papers, that were consulted during the design basis preparation.\n",
        "\n",
        "Remember, this is a general framework, and you may need to adapt it to the specific requirements of your oil field project. Additionally, it is recommended to involve relevant subject matter experts, such as geologists, reservoir engineers, and HSE specialists, to ensure the accuracy and completeness of the design basis."
      ]
    },
    {
      "cell_type": "markdown",
      "metadata": {
        "id": "_WUr-A7aexa-"
      },
      "source": [
        "## Reservoir data"
      ]
    },
    {
      "cell_type": "code",
      "execution_count": 5,
      "metadata": {
        "colab": {
          "base_uri": "https://localhost:8080/"
        },
        "id": "9oKykqekeZBI",
        "outputId": "3403fdce-4827-49c6-a836-125f56bf65df"
      },
      "outputs": [
        {
          "output_type": "stream",
          "name": "stdout",
          "text": [
            "oil volume at res cond (estimated)  845.25  Mm3\n",
            "OOIP (estimated)  483.0  MSm3 oe\n",
            "recoverable oil volume (estimated) 241.5  MSm3 oe\n",
            "OOIP  508.7584  MMm3\n",
            "recoverable volume  254.3792  MSm3 oe\n"
          ]
        }
      ],
      "source": [
        "initialReservoirPressure = 907 #bara\n",
        "initialReservoirTemperature = 100 #C\n",
        "referenceDepth = 5946\n",
        "freeWaterDepth = 6268\n",
        "porosity = 10 #up to 15\n",
        "permeability = 100 # 1-1000 mD\n",
        "waterSaturation = 25 #%\n",
        "saturationPressure = 495 # bara\n",
        "BoatPi = 1.75\n",
        "oilViscosityatResCond = 0.5 # cP\n",
        "temperaturegradient = 0.0296 #C/m\n",
        "recoveryFactor = 0.5\n",
        "\n",
        "lengthreservoir= 7000\n",
        "widthreservoir = 5000\n",
        "heightreservoir = freeWaterDepth-referenceDepth\n",
        "areaReservoir = lengthreservoir*widthreservoir\n",
        "\n",
        "#original oil in place (OOIP)\n",
        "# see how to calculate:\n",
        "#https://wiki.aapg.org/Predicting_hydrocarbon_recovery\n",
        "OOIP = areaReservoir*heightreservoir * (porosity/100) * (1.0 - waterSaturation/100) / BoatPi\n",
        "oilvolumeatreservoirconditions = areaReservoir*heightreservoir * (porosity/100) * (1.0 - waterSaturation/100)\n",
        "print('oil volume at res cond (estimated) ', oilvolumeatreservoirconditions/1e6, ' Mm3')\n",
        "print('OOIP (estimated) ', OOIP/1e6, ' MSm3 oe')\n",
        "recoverableOil = OOIP*recoveryFactor\n",
        "print('recoverable oil volume (estimated)', recoverableOil/1e6, ' MSm3 oe')\n",
        "\n",
        "recoverableOilVolumeMMbbl = 1600\n",
        "recoverableOilVolume = recoverableOilVolumeMMbbl* 1e6 * 158.987/1000.0 # m3\n",
        "OOIP = recoverableOilVolume/recoveryFactor\n",
        "print('OOIP ', OOIP/1e6, ' MMm3')\n",
        "print('recoverable volume ', recoverableOilVolume/1e6, ' MSm3 oe')"
      ]
    },
    {
      "cell_type": "code",
      "execution_count": 8,
      "metadata": {
        "id": "Iu6KIfwQbHWz"
      },
      "outputs": [],
      "source": [
        "SWHP = 780 #bara\n",
        "FHWT = 120 #C\n",
        "welldesignpres = 900\n",
        "\n",
        "flowlinemaxpressure = 350 #bara\n",
        "\n",
        "seabedtemperature = 3 #\n",
        "\n",
        "designTemperatureProcessAfterSeaWaterCooler = 36.0"
      ]
    },
    {
      "cell_type": "markdown",
      "metadata": {
        "id": "26rBySZLZvv5"
      },
      "source": [
        "##Field info and links"
      ]
    },
    {
      "cell_type": "markdown",
      "metadata": {
        "id": "ZkPI83oTnEgZ"
      },
      "source": [
        "https://www.pgs.com/data-library/map/nsa/south-atlantic-margin/santos--campos/santos-vision/?lat=-25.301665629013435&long=-44.02997554747069&zoom=11\n",
        "\n",
        "\n",
        "https://www.rfdbase.com/web/Account/Login?ReturnUrl=%2Fweb"
      ]
    },
    {
      "cell_type": "markdown",
      "metadata": {
        "id": "oXCQ6IYp3SwL"
      },
      "source": [
        "## geo data"
      ]
    },
    {
      "cell_type": "markdown",
      "metadata": {
        "id": "so1JYnZSJV-2"
      },
      "source": [
        "Use libraries:\n",
        "\n",
        "https://github.com/gee-community/geemap\n",
        "\n",
        "https://developers.google.com/earth-engine\n",
        "\n",
        "https://www.youtube.com/watch?v=wGjpjh9IQ5I\n",
        "\n"
      ]
    },
    {
      "cell_type": "code",
      "execution_count": null,
      "metadata": {
        "id": "mfjgOp4WbSOt"
      },
      "outputs": [],
      "source": [
        "%%script false --no-raise-error\n",
        "\n",
        "!pip install geemap"
      ]
    },
    {
      "cell_type": "code",
      "execution_count": null,
      "metadata": {
        "id": "iR6ZopX0pX46"
      },
      "outputs": [],
      "source": [
        "%%script false --no-raise-error\n",
        "\n",
        "import ee\n",
        "import geemap\n",
        "\n",
        "u_lon = -23.650888\n",
        "u_lat = -45.505189\n",
        "zoom=10\n",
        "\n",
        "Map = geemap.Map(center=(u_lon, u_lat), zoom=zoom)\n",
        "\n",
        "\n",
        "dem = ee.Image('USGS/SRTMGL1_003')\n",
        "landcover = ee.Image(\"ESA/GLOBCOVER_L4_200901_200912_V2_3\").select('landcover')\n",
        "landsat7 = ee.Image('LANDSAT/LE7_TOA_5YEAR/1999_2003')\n",
        "states = ee.FeatureCollection(\"TIGER/2018/States\")\n",
        "\n",
        "dem_vis = {\n",
        "'min': 0,\n",
        "'max': 4000,\n",
        "'palette': ['006633', 'E5FFCC', '662A00', 'D8D8D8', 'F5F5F5']}\n",
        "\n",
        "landsat_vis = {\n",
        "    'min': 20,\n",
        "    'max': 200,\n",
        "    'bands': ['B4', 'B3', 'B2']\n",
        "}\n",
        "\n",
        "Map.addLayer(dem, dem_vis, 'SRTM DEM', True, 0.5)\n",
        "#Map.addLayer(landcover, {}, 'Land cover')\n",
        "#Map.addLayer(landsat7, landsat_vis, 'Landsat 7')\n",
        "\n",
        "Map"
      ]
    },
    {
      "cell_type": "code",
      "execution_count": null,
      "metadata": {
        "id": "dR7cWHnk0HCx"
      },
      "outputs": [],
      "source": [
        "%%script false --no-raise-error\n",
        "\n",
        "naip_ts = geemap.naip_timeseries(start_year=2009, end_year=2023)\n",
        "layer_names = ['NAIP ' + str(year) for year in range(2009, 2023)]\n",
        "print(layer_names)\n",
        "naip_vis = {'bands': ['N', 'R', 'G']}\n",
        "\n",
        "Map = geemap.Map(center=(u_lon, u_lat), zoom=zoom)\n",
        "Map.add_basemap('HYBRID')\n",
        "Map.ts_inspector(\n",
        "    left_ts=naip_ts,\n",
        "    right_ts=naip_ts,\n",
        "    left_names=layer_names,\n",
        "    right_names=layer_names,\n",
        "    left_vis=naip_vis,\n",
        "    right_vis=naip_vis,\n",
        ")\n",
        "Map"
      ]
    },
    {
      "cell_type": "code",
      "execution_count": null,
      "metadata": {
        "id": "RxUfHpWOvQm_"
      },
      "outputs": [],
      "source": [
        "%%script false --no-raise-error\n",
        "\n",
        "import ee\n",
        "\n",
        "# Trigger the authentication flow.\n",
        "ee.Authenticate()\n",
        "\n",
        "# Initialize the library.\n",
        "ee.Initialize()"
      ]
    },
    {
      "cell_type": "code",
      "execution_count": null,
      "metadata": {
        "id": "joK6xskq0yX_"
      },
      "outputs": [],
      "source": [
        "%%script false --no-raise-error\n",
        "\n",
        "# Define the urban location of interest as a point near Caraguatatuba, Brazil.\n",
        "u_lon = -23.650888\n",
        "u_lat = -45.505189\n",
        "u_poi = ee.Geometry.Point(u_lon, u_lat)\n",
        "\n",
        "u_lat2 = -25.3\n",
        "u_lon2 = -44.03"
      ]
    },
    {
      "cell_type": "code",
      "execution_count": null,
      "metadata": {
        "id": "BugQ_Rkhzb5r"
      },
      "outputs": [],
      "source": [
        "%%script false --no-raise-error\n",
        "\n",
        "import geopy.distance\n",
        "\n",
        "coords_1 = (u_lon, u_lat)\n",
        "coords_2 = (u_lon2, u_lat2)\n",
        "\n",
        "print(geopy.distance.geodesic(coords_1, coords_2).km)"
      ]
    },
    {
      "cell_type": "code",
      "execution_count": null,
      "metadata": {
        "id": "FLnct3UN1vyC"
      },
      "outputs": [],
      "source": [
        "%%script false --no-raise-error\n",
        "\n",
        "import folium\n",
        "\n",
        "# Define the center of our map.\n",
        "lat, lon =u_lon, u_lat\n",
        "\n",
        "my_map = folium.Map(location=[lat, lon], zoom_start=8)\n",
        "my_map.add_child(folium.LatLngPopup())\n",
        "folium.Marker(location=[u_lat2, u_lon2],popup='Field location',tooltip='Click here to see Popup').add_to(my_map)\n",
        "folium.Marker(location=[lat, lon],popup='New process plant location',tooltip='Click here to see Popup').add_to(my_map)\n",
        "\n",
        "\n",
        "\n",
        "my_map"
      ]
    },
    {
      "cell_type": "code",
      "execution_count": null,
      "metadata": {
        "id": "G-ZgHILZ0oMM"
      },
      "outputs": [],
      "source": [
        "%%script false --no-raise-error\n",
        "\n",
        "# Import the MODIS land cover collection.\n",
        "lc = ee.ImageCollection('MODIS/006/MCD12Q1')\n",
        "\n",
        "# Import the MODIS land surface temperature collection.\n",
        "lst = ee.ImageCollection('MODIS/006/MOD11A1')\n",
        "\n",
        "# Import the USGS ground elevation image.\n",
        "elv = ee.Image('USGS/SRTMGL1_003')\n",
        "\n",
        "# Import wind speed\n",
        "windSpeed = ee.ImageCollection('NOAA/GFS0P25')\n",
        "\n",
        "#ocean data\n",
        "oceandt = ee.ImageCollection('SIRGAS 2000')\n",
        "\n",
        "#bathdata\n",
        "bathy_dataset = ee.ImageCollection('NOAA/NGDC/ETOPO1')\n",
        "\n",
        "#landslides\n",
        "landslid = ee.ImageCollection('COPERNICUS/S2_HARMONIZED')"
      ]
    },
    {
      "cell_type": "code",
      "execution_count": null,
      "metadata": {
        "id": "r4Lw5O4lOCGv"
      },
      "outputs": [],
      "source": [
        "#scale = 100  # scale in meters\n",
        "#elv_urban_point = elv.sample(u_poi, scale).first().get('elevation').getInfo()\n",
        "#print('Ground elevation at point:', elv_urban_point, 'm')"
      ]
    },
    {
      "cell_type": "code",
      "execution_count": null,
      "metadata": {
        "id": "xB2bVmMu0tR_"
      },
      "outputs": [],
      "source": [
        "%%script false --no-raise-error\n",
        "\n",
        "# Initial date of interest (inclusive).\n",
        "i_date = '2017-01-01'\n",
        "\n",
        "# Final date of interest (exclusive).\n",
        "f_date = '2020-01-01'\n",
        "\n",
        "# Selection of appropriate bands and dates for LST.\n",
        "lst = lst.select('LST_Day_1km', 'QC_Day').filterDate(i_date, f_date)"
      ]
    },
    {
      "cell_type": "code",
      "execution_count": null,
      "metadata": {
        "id": "2RP2bBdDg8Ai"
      },
      "outputs": [],
      "source": [
        "%%script false --no-raise-error\n",
        "landslid = landslid.filter(ee.Filter.date(i_date, f_date)).median()"
      ]
    },
    {
      "cell_type": "code",
      "execution_count": null,
      "metadata": {
        "id": "LVLhN4iZDjKt"
      },
      "outputs": [],
      "source": [
        "%%script false --no-raise-error\n",
        "# Import a dataset focusing on oceans/surface water properties.\n",
        "# Surface water temperature for exampel:\n",
        "sst = ee.ImageCollection('NASA/OCEANDATA/MODIS-Aqua/L3SMI')\\\n",
        "    .select(['sst']).filterDate('2017-01-01', '2018-01-01')\n",
        "\n",
        "# Define the mask\n",
        "mask = sst.mean().gte(-10)\n",
        "\n",
        "#Apply the mask\n",
        "wind = windSpeed.select('LST_Day_1km', 'QC_Day').filterDate(i_date, f_date)\n",
        "wind_img_u=wind.select('u_component_of_wind_10m_above_ground').filterDate(i_date,f_date).first()\n",
        "wind_img_v=wind.select('v_component_of_wind_10m_above_ground').filterDate(i_date,f_date).first()\n",
        "wind_img_uv=wind_img_u.add(wind_img_v)\n",
        "wind_img_uv = wind_img_uv.updateMask(mask).select('LST_Day_1km')"
      ]
    },
    {
      "cell_type": "code",
      "execution_count": null,
      "metadata": {
        "id": "O7VNp_xu4GWR"
      },
      "outputs": [],
      "source": [
        "%%script false --no-raise-error\n",
        "from IPython.display import Image\n",
        "# Define a region of interest with a buffer zone of 1000 km around Caraguatatuba.\n",
        "roi = u_poi.buffer(1e6)\n",
        "# Make pixels with elevation below sea level transparent.\n",
        "elv_img = elv.updateMask(elv.gt(0))"
      ]
    },
    {
      "cell_type": "code",
      "execution_count": null,
      "metadata": {
        "id": "Ie4SbWC7235V"
      },
      "outputs": [],
      "source": [
        "%%script false --no-raise-error\n",
        "def add_ee_layer(self, ee_image_object, vis_params, name):\n",
        "    \"\"\"Adds a method for displaying Earth Engine image tiles to folium map.\"\"\"\n",
        "    map_id_dict = ee.Image(ee_image_object).getMapId(vis_params)\n",
        "    folium.raster_layers.TileLayer(\n",
        "        tiles=map_id_dict['tile_fetcher'].url_format,\n",
        "        attr='Map Data &copy; <a href=\"https://earthengine.google.com/\">Google Earth Engine</a>',\n",
        "        name=name,\n",
        "        overlay=True,\n",
        "        control=True\n",
        "    ).add_to(self)\n",
        "\n",
        "# Add Earth Engine drawing method to folium.\n",
        "folium.Map.add_ee_layer = add_ee_layer"
      ]
    },
    {
      "cell_type": "code",
      "execution_count": null,
      "metadata": {
        "id": "InE91tPT4byx"
      },
      "outputs": [],
      "source": [
        "%%script false --no-raise-error\n",
        "# Reduce the LST collection by mean.\n",
        "lst_img = lst.mean()\n",
        "\n",
        "# Adjust for scale factor.\n",
        "lst_img = lst_img.select('LST_Day_1km').multiply(0.02)\n",
        "\n",
        "# Convert Kelvin to Celsius.\n",
        "lst_img = lst_img.select('LST_Day_1km').add(-273.15)"
      ]
    },
    {
      "cell_type": "code",
      "execution_count": null,
      "metadata": {
        "id": "Vn803JE551xa"
      },
      "outputs": [],
      "source": [
        "%%script false --no-raise-error\n",
        "# Set visualization parameters for ground elevation.\n",
        "elv_vis_params = {\n",
        "    'min': 0, 'max': 4000,\n",
        "    'palette': ['006633', 'E5FFCC', '662A00', 'D8D8D8', 'F5F5F5']}\n",
        "\n",
        "# Set visualization parameters for land surface temperature.\n",
        "lst_vis_params = {\n",
        "    'min': 0, 'max': 40,\n",
        "    'palette': ['white', 'blue', 'green', 'yellow', 'orange', 'red']}\n",
        "\n",
        "# Select a specific band and dates for land cover.\n",
        "lc_img = lc.select('LC_Type1').filterDate(i_date).first()\n",
        "\n",
        "# Set visualization parameters for land cover.\n",
        "lc_vis_params = {\n",
        "    'min': 1,'max': 17,\n",
        "    'palette': ['05450a','086a10', '54a708', '78d203', '009900', 'c6b044',\n",
        "                'dcd159', 'dade48', 'fbff13', 'b6ff05', '27ff87', 'c24f44',\n",
        "                'a5a5a5', 'ff6d4c', '69fff8', 'f9ffa4', '1c0dff']\n",
        "}\n",
        "\n",
        "# Set visualization parameters for land surface temperature.\n",
        "wind_vis_params = {\n",
        "    'min': -14, 'max': 14,\n",
        "    'palette': ['orange', 'yellow', 'green', 'yellow', 'orange']}\n",
        "\n",
        "rgbVis = {\n",
        "    'min': 0.0, 'max': 3000,\n",
        "    'palette': ['orange', 'yellow', 'green', 'yellow', 'orange']\n",
        "    }\n",
        "\n",
        "# Arrange layers inside a list (elevation, LST and land cover).\n",
        "ee_tiles = [elv_img, lst_img, lc_img]#, landslid]\n",
        "\n",
        "# Arrange visualization parameters inside a list.\n",
        "ee_vis_params = [elv_vis_params, lst_vis_params, lc_vis_params]#, rgbVis]\n",
        "\n",
        "# Arrange layer names inside a list.\n",
        "ee_tiles_names = ['Elevation', 'Land Surface Temperature', 'Land Cover']#, 'Landslide']\n",
        "\n",
        "# Create a new map.\n",
        "lat, lon = u_lon, u_lat\n",
        "my_map = folium.Map(location=[lat, lon], zoom_start=10)\n",
        "\n",
        "# Add layers to the map using a loop.\n",
        "for tile, vis_param, name in zip(ee_tiles, ee_vis_params, ee_tiles_names):\n",
        "    my_map.add_ee_layer(tile, vis_param, name)\n",
        "\n",
        "folium.LayerControl(collapsed = False).add_to(my_map)\n",
        "\n",
        "folium.Marker(location=[u_lat2, u_lon2],popup='Field location',tooltip='Click here to see Popup').add_to(my_map)\n",
        "folium.Marker(location=[lat, lon],popup='New process plant location',tooltip='Click here to see Popup').add_to(my_map)\n",
        "\n",
        "my_map"
      ]
    },
    {
      "cell_type": "markdown",
      "metadata": {
        "id": "aLuiQBvnNmht"
      },
      "source": [
        "## Battery limits"
      ]
    },
    {
      "cell_type": "markdown",
      "metadata": {
        "id": "G6xIyGu-QfD5"
      },
      "source": [
        "...."
      ]
    },
    {
      "cell_type": "markdown",
      "metadata": {
        "id": "IJWp26K2P5or"
      },
      "source": [
        "## Operarion model"
      ]
    },
    {
      "cell_type": "markdown",
      "metadata": {
        "id": "JoJutiZaP8WF"
      },
      "source": [
        ".....\n",
        "PE target"
      ]
    },
    {
      "cell_type": "code",
      "execution_count": null,
      "metadata": {
        "id": "0t-vboYrQj6c"
      },
      "outputs": [],
      "source": [
        "PEtarget = 0.95\n",
        "turnaroundCycle = 3 #3 years\n",
        "turnaroundSuration = 14 #days"
      ]
    },
    {
      "cell_type": "markdown",
      "metadata": {
        "id": "e3aart2cNpu6"
      },
      "source": [
        "...."
      ]
    },
    {
      "cell_type": "markdown",
      "metadata": {
        "id": "PHjO5eu_O32o"
      },
      "source": [
        "## Design life"
      ]
    },
    {
      "cell_type": "code",
      "execution_count": null,
      "metadata": {
        "id": "Uze3MttKO6nm"
      },
      "outputs": [],
      "source": [
        "designlife = 30 #years"
      ]
    },
    {
      "cell_type": "markdown",
      "metadata": {
        "id": "PM3xPnu3MGju"
      },
      "source": [
        "## Production efficiency (PE)\n"
      ]
    },
    {
      "cell_type": "markdown",
      "metadata": {
        "id": "b5HjS86jMLK4"
      },
      "source": [
        "\n",
        "https://www.iso.org/obp/ui/#iso:std:iso:ts:3250:ed-1:v1:en\n",
        "\n",
        "Production efficiency (PE) is a term often used by operators for historic production availability in the operating phase. PE is a reported measure, and it can be compared with the predicted (or targeted) production availability made during a project development stage. Furthermore, PE is forecasted and tracked during the operating phase to allow tracking of performance. ISO 20815:2018 addresses production assurance activities including analytical methods for predicting production availability, and also includes a production loss categorization.\n",
        "PE = ratio of production to production potential (3.1.43) over a specified period of time"
      ]
    },
    {
      "cell_type": "markdown",
      "metadata": {
        "id": "nLnMx3Ttq_XF"
      },
      "source": []
    },
    {
      "cell_type": "markdown",
      "metadata": {
        "id": "fefSHgO44HUH"
      },
      "source": [
        "# 4. Fluids and characterization"
      ]
    },
    {
      "cell_type": "markdown",
      "metadata": {
        "id": "I7pHEcF64PZl"
      },
      "source": [
        "## fluid compostion"
      ]
    },
    {
      "cell_type": "code",
      "execution_count": 2,
      "metadata": {
        "colab": {
          "base_uri": "https://localhost:8080/"
        },
        "id": "_vWsNeXQ4wLA",
        "outputId": "6cf024e6-d5bf-449c-f12b-f6a5edefefdc"
      },
      "outputs": [
        {
          "output_type": "stream",
          "name": "stdout",
          "text": [
            "| 0                  | 1           | 2           | 3   | 4   | 5   | 6               |\n",
            "|:-------------------|:------------|:------------|:----|:----|:----|:----------------|\n",
            "|                    | total       | OIL         |     |     |     |                 |\n",
            "| nitrogen           | 5.99392E-3  | 5.99392E-3  |     |     |     | [mole fraction] |\n",
            "| CO2                | 7.22536E-5  | 7.22536E-5  |     |     |     | [mole fraction] |\n",
            "| methane            | 6.57167E-1  | 6.57167E-1  |     |     |     | [mole fraction] |\n",
            "| ethane             | 8.33727E-2  | 8.33727E-2  |     |     |     | [mole fraction] |\n",
            "| propane            | 5.0386E-2   | 5.0386E-2   |     |     |     | [mole fraction] |\n",
            "| i-butane           | 9.60861E-3  | 9.60861E-3  |     |     |     | [mole fraction] |\n",
            "| n-butane           | 1.89724E-2  | 1.89724E-2  |     |     |     | [mole fraction] |\n",
            "| i-pentane          | 7.01777E-3  | 7.01777E-3  |     |     |     | [mole fraction] |\n",
            "| n-pentane          | 8.24215E-3  | 8.24215E-3  |     |     |     | [mole fraction] |\n",
            "| n-hexane           | 9.1763E-3   | 9.1763E-3   |     |     |     | [mole fraction] |\n",
            "| C7_PC              | 1.21178E-2  | 1.21178E-2  |     |     |     | [mole fraction] |\n",
            "| C8_PC              | 1.26036E-2  | 1.26036E-2  |     |     |     | [mole fraction] |\n",
            "| C9_PC              | 7.62945E-3  | 7.62945E-3  |     |     |     | [mole fraction] |\n",
            "| C10-C11_PC         | 1.51309E-2  | 1.51309E-2  |     |     |     | [mole fraction] |\n",
            "| C12-C13_PC         | 1.31538E-2  | 1.31538E-2  |     |     |     | [mole fraction] |\n",
            "| C14-C15_PC         | 1.14407E-2  | 1.14407E-2  |     |     |     | [mole fraction] |\n",
            "| C16-C18_PC         | 1.44386E-2  | 1.44386E-2  |     |     |     | [mole fraction] |\n",
            "| C19-C20_PC         | 8.08192E-3  | 8.08192E-3  |     |     |     | [mole fraction] |\n",
            "| C21-C23_PC         | 1.02052E-2  | 1.02052E-2  |     |     |     | [mole fraction] |\n",
            "| C24-C29_PC         | 1.50362E-2  | 1.50362E-2  |     |     |     | [mole fraction] |\n",
            "| C30_PC             | 3.0153E-2   | 3.0153E-2   |     |     |     | [mole fraction] |\n",
            "|                    |             |             |     |     |     |                 |\n",
            "| Density            |             | 6.52559E2   |     |     |     | [kg/m^3]        |\n",
            "| PhaseFraction      |             | 1E0         |     |     |     | [mole fraction] |\n",
            "| MolarMass          | 6.15705E1   | 6.15705E1   |     |     |     | [kg/kmol]       |\n",
            "| Z factor           |             | 2.86201E0   |     |     |     | [-]             |\n",
            "| Heat Capacity (Cp) |             | 2.44686E0   |     |     |     | [kJ/kg*K]       |\n",
            "| Heat Capacity (Cv) |             | 2.15382E0   |     |     |     | [kJ/kg*K]       |\n",
            "| Speed of Sound     |             | 1.17248E3   |     |     |     | [m/sec]         |\n",
            "| Enthalpy           | -1.97718E1  | -1.97718E1  |     |     |     | [kJ/kg]         |\n",
            "| Entropy            | -5.91818E-1 | -5.91818E-1 |     |     |     | [kJ/kg*K]       |\n",
            "| JT coefficient     |             | -4.54486E-2 |     |     |     | [K/bar]         |\n",
            "|                    |             |             |     |     |     |                 |\n",
            "| Viscosity          |             | 2.02343E-4  |     |     |     | [kg/m*sec]      |\n",
            "| Conductivity       |             | 1.19814E-1  |     |     |     | [W/m*K]         |\n",
            "| SurfaceTension     |             |             |     |     |     | [N/m]           |\n",
            "|                    |             |             |     |     |     |                 |\n",
            "|                    |             |             |     |     |     |                 |\n",
            "|                    |             |             |     |     |     |                 |\n",
            "| Pressure           |             | 907.0       |     |     |     | [bar]           |\n",
            "| Temperature        |             | 373.15      |     |     |     | [K]             |\n",
            "|                    |             |             |     |     |     |                 |\n",
            "| Model              |             | SRK-EOS     |     |     |     | -               |\n",
            "| Mixing Rule        |             | classic     |     |     |     | -               |\n",
            "|                    |             |             |     |     |     |                 |\n",
            "| Stream             |             |             |     |     |     | -               |\n",
            "|                    |             |             |     |     |     |                 |\n",
            "|                    |             |             |     |     |     |                 |\n",
            "|                    |             |             |     |     |     |                 |\n",
            "|                    |             |             |     |     |     |                 |\n",
            "viscosity  0.20234312999290346\n",
            "API oil  31.105992916664263\n",
            "std viscosity oil  25.144731282847196 cP\n",
            "GOR  388.7032921212601  Sm3 gas / Sm3 oil\n"
          ]
        }
      ],
      "source": [
        "nitrogen = 0.599\n",
        "CO2 = 0.51\n",
        "methane = 62.794\n",
        "ethane = 8.124\n",
        "propane =  4.952\n",
        "ibutane =  1.25\n",
        "nbutane =  1.25\n",
        "ipentane =  0.25\n",
        "npentane = 0.25\n",
        "nhexane =  0.8125\n",
        "C7 =  10.05\n",
        "C7Molarmass =  218.0\n",
        "C7Density =  850.2\n",
        "\n",
        "\n",
        "resfluidcomposition = {'ComponentName':  [\"nitrogen\", \"CO2\", \"methane\", \"ethane\", \"propane\", \"i-butane\", \"n-butane\", \"i-pentane\", \"n-pentane\", \"n-hexane\", \"C7\", \"C8\", \"C9\", \"C10-C11\", \"C12-C13\", \"C14-C15\", \"C16-C18\", \"C19-C20\", \"C21-C23\", \"C24-C29\", \"C30\"],\n",
        "        'MolarComposition[-]':  [0.5948, 0.00717, 65.2132, 8.2734, 5.0, 0.9535, 1.8827, 0.6964, 0.8179, 0.9106,      1.2025, 1.2507, 0.7571, 1.5015, 1.3053, 1.1353, 1.4328, 0.802, 1.0127, 1.4921, 2.9922],\n",
        "        'MolarMass[kg/mol]': [None,None, None,None,None,None,None,None,None,None,0.09832, 0.11227, 0.12627, 0.14689, 0.174, 0.202, 0.237, 0.272, 0.307, 0.367, 0.594],\n",
        "        'RelativeDensity[-]': [None,None, None,None,None,None,None,None,None,None, 0.737, 0.758, 0.775, 0.794, 0.814, 0.830, 0.846, 0.860, 0.872, 0.889, 0.935]\n",
        "  }\n",
        "\n",
        "#fluidcomposition = {'ComponentName':  [\"nitrogen\", \"CO2\", \"methane\", \"ethane\", \"propane\", \"i-butane\", \"n-butane\", \"i-pentane\", \"n-pentane\", \"n-hexane\", \"C7\", \"C8\", \"C9\", \"C10-C11\", \"C12-C13\", \"C14-C15\", \"C16-C18\", \"C19-C20\", \"C21-C23\", \"C24-C29\", \"C30\"],\n",
        "#      'MolarComposition[-]':  [0.5901, 0.00704, 64.423, 8.0634, 4.8112, 0.9095, 1.7896, 0.6577, 0.7712, 0.8545, 1.2025, 1.2507, 0.7571, 1.5015, 1.3053, 1.1353, 1.4328, 0.802, 1.0127, 1.4921, 2.9922],\n",
        "#      'MolarMass[kg/mol]': [None,None, None,None,None,None,None,None,None,None,0.09832, 0.11227, 0.12627, 0.14689, 0.174, 0.202, 0.237, 0.272, 0.307, 0.367, 0.594],\n",
        "#      'RelativeDensity[-]': [None,None, None,None,None,None,None,None,None,None, 0.737, 0.758, 0.775, 0.794, 0.814, 0.830, 0.846, 0.860, 0.872, 0.889, 0.935]\n",
        "#}\n",
        "fluidcompositiondf = pd.DataFrame(resfluidcomposition)\n",
        "fluid1 = fluid_df(fluidcompositiondf, lastIsPlusFraction=False)\n",
        "fluid1.setMixingRule('classic')\n",
        "fluid1.setMultiPhaseCheck(True)\n",
        "\n",
        "reservoirPressure = 907\n",
        "fluid1.setPressure(reservoirPressure, 'bara')\n",
        "reservoirTemperature = 100.0 # C\n",
        "fluid1.setTemperature(reservoirTemperature, 'C')\n",
        "\n",
        "TPflash(fluid1)\n",
        "\n",
        "printFrame(fluid1)\n",
        "\n",
        "print('viscosity ', fluid1.getViscosity('cP'))\n",
        "\n",
        "\n",
        "standardPressure = 1.01325\n",
        "fluid1.setPressure(standardPressure, 'bara')\n",
        "standardTemperature = 20.0 # C\n",
        "fluid1.setTemperature(standardTemperature, 'C')\n",
        "\n",
        "TPflash(fluid1)\n",
        "fluid1.initProperties()\n",
        "stdoildensity = fluid1.getPhase('oil').getDensity('kg/m3')\n",
        "stdviscosity = fluid1.getPhase('oil').getViscosity('cP')\n",
        "stdGOR = fluid1.getPhase('gas').getVolume('m3')/fluid1.getPhase('oil').getVolume('m3')\n",
        "print('API oil ', (141.5/(stdoildensity/1e3)-131.5))\n",
        "print('std viscosity oil ', stdviscosity, 'cP')\n",
        "print('GOR ', stdGOR, ' Sm3 gas / Sm3 oil')\n"
      ]
    },
    {
      "cell_type": "code",
      "execution_count": 3,
      "metadata": {
        "colab": {
          "base_uri": "https://localhost:8080/",
          "height": 472
        },
        "id": "06JjMG8EOmHt",
        "outputId": "ae7e131e-7e4f-4c36-bea0-1953d155eda9"
      },
      "outputs": [
        {
          "output_type": "display_data",
          "data": {
            "text/plain": [
              "<Figure size 640x480 with 1 Axes>"
            ],
            "image/png": "[encoded data removed]"
          },
          "metadata": {}
        }
      ],
      "source": [
        "thermoOps = jNeqSim.thermodynamicOperations.ThermodynamicOperations(fluid1.clone())\n",
        "thermoOps.calcPTphaseEnvelope()\n",
        "\n",
        "\n",
        "plt.plot(list(thermoOps.getOperation().get(\"dewT\")),list(thermoOps.getOperation().get(\"dewP\")), label=\"dew point\")\n",
        "plt.plot(list(thermoOps.getOperation().get(\"bubT\")),list(thermoOps.getOperation().get(\"bubP\")), label=\"bubble point\")\n",
        "plt.plot(list(thermoOps.getOperation().get(\"dewT2\")),list(thermoOps.getOperation().get(\"dewP2\")), label=\"dew point\")\n",
        "plt.plot(list(thermoOps.getOperation().get(\"bubT2\")),list(thermoOps.getOperation().get(\"bubP2\")), label=\"bubble point\")\n",
        "plt.title('PT envelope')\n",
        "plt.xlabel('Temperature [K]')\n",
        "plt.ylabel('Pressure [bar]')\n",
        "plt.legend()\n",
        "plt.show()"
      ]
    },
    {
      "cell_type": "markdown",
      "metadata": {
        "id": "YWLQqhOK6dFd"
      },
      "source": [
        "Calculation of saturation pressure at reservoir temperature"
      ]
    },
    {
      "cell_type": "code",
      "execution_count": null,
      "metadata": {
        "colab": {
          "base_uri": "https://localhost:8080/"
        },
        "id": "1tnekVcG6iJj",
        "outputId": "5b1d527e-afc9-40c5-9d86-e0f267eaf15d"
      },
      "outputs": [
        {
          "name": "stdout",
          "output_type": "stream",
          "text": [
            "saturation pressure  577.7127513885498  [bara]\n"
          ]
        }
      ],
      "source": [
        "from neqsim import jNeqSim\n",
        "\n",
        "reservoirTemperature = 100.0 # C\n",
        "fluid1.setTemperature(reservoirTemperature, 'C')\n",
        "satSim = jNeqSim.PVTsimulation.simulation.SaturationPressure(fluid1.clone())\n",
        "satSim.run()\n",
        "print('saturation pressure ', satSim.getSaturationPressure(), ' [bara]')"
      ]
    },
    {
      "cell_type": "markdown",
      "metadata": {
        "id": "-AQguE-wXs_w"
      },
      "source": [
        "## Formation Water\n"
      ]
    },
    {
      "cell_type": "code",
      "execution_count": null,
      "metadata": {
        "id": "8BmwSY0TXx4V"
      },
      "outputs": [],
      "source": [
        "na = 0.1 #.."
      ]
    },
    {
      "cell_type": "markdown",
      "metadata": {
        "id": "UzN049aeXtZg"
      },
      "source": []
    },
    {
      "cell_type": "markdown",
      "metadata": {
        "id": "-w8z6dzBYKYW"
      },
      "source": [
        "## Fluid characterization"
      ]
    },
    {
      "cell_type": "code",
      "execution_count": null,
      "metadata": {
        "colab": {
          "base_uri": "https://localhost:8080/",
          "height": 465
        },
        "id": "X1aUuVwdYUkO",
        "outputId": "c1cfe754-3043-45a5-d209-5e2706a51d8c"
      },
      "outputs": [
        {
          "data": {
            "image/png": "[encoded data removed]",
            "text/plain": [
              "<Figure size 2000x500 with 2 Axes>"
            ]
          },
          "metadata": {},
          "output_type": "display_data"
        }
      ],
      "source": [
        "from neqsim.thermo.thermoTools import *\n",
        "\n",
        "pressure = [900.0, 800.0, 700.0, 600.0, 500.0, 400.0, 300.0, 200.0, 100.0, 1.01325]\n",
        "temperature = [273.15+100.0]*10\n",
        "GORdata = []\n",
        "Bo = []\n",
        "GOR(fluid1.clone(), pressure, temperature, GORdata, Bo)\n",
        "\n",
        "plt.figure(figsize=(20, 5))\n",
        "plt.subplot(131)\n",
        "plt.plot(pressure, GORdata, \"o\")\n",
        "plt.xlabel('Pressure [bara]')\n",
        "plt.ylabel('GORdata [Sm3 gas/Sm3 oil]')\n",
        "plt.subplot(132)\n",
        "plt.plot(pressure, Bo, \"o\")\n",
        "plt.xlabel('Pressure [bara]')\n",
        "plt.ylabel('Bo[m3/Sm3]')\n",
        "plt.show()\n"
      ]
    },
    {
      "cell_type": "code",
      "execution_count": null,
      "metadata": {
        "colab": {
          "base_uri": "https://localhost:8080/",
          "height": 932
        },
        "id": "v6zL69cv7h_2",
        "outputId": "99d3a63d-8eb0-4ec1-dc0f-fa187b5cde78"
      },
      "outputs": [
        {
          "data": {
            "text/plain": [
              "<Figure size 640x480 with 0 Axes>"
            ]
          },
          "execution_count": 40,
          "metadata": {},
          "output_type": "execute_result"
        },
        {
          "data": {
            "image/png": "[encoded data removed]",
            "text/plain": [
              "<Figure size 640x480 with 1 Axes>"
            ]
          },
          "metadata": {},
          "output_type": "display_data"
        },
        {
          "data": {
            "image/png": "[encoded data removed]",
            "text/plain": [
              "<Figure size 640x480 with 1 Axes>"
            ]
          },
          "metadata": {},
          "output_type": "display_data"
        },
        {
          "data": {
            "text/plain": [
              "<Figure size 640x480 with 0 Axes>"
            ]
          },
          "metadata": {},
          "output_type": "display_data"
        }
      ],
      "source": [
        "gasviscosity = []\n",
        "oilviscosity = []\n",
        "\n",
        "pressure = [900.0, 800.0, 700.0, 600, 500.0, 400.0, 300.0, 200.0, 100.0, 1.01325]\n",
        "temperature = [373.15]*10\n",
        "\n",
        "viscositysim(fluid1.clone(),pressure,temperature,gasviscosity,oilviscosity)\n",
        "\n",
        "plt.figure()\n",
        "plt.plot(pressure, gasviscosity, \"o\")\n",
        "plt.xlabel('Pressure [bara]')\n",
        "plt.ylabel('gasviscosity [kg/msec]')\n",
        "plt.figure()\n",
        "plt.plot(pressure, oilviscosity, \"o\")\n",
        "plt.xlabel('Pressure [bara]')\n",
        "plt.ylabel('oilviscosity [kg/msec]')\n",
        "plt.figure()"
      ]
    },
    {
      "cell_type": "markdown",
      "metadata": {
        "id": "4h_pAPIoYv1a"
      },
      "source": [
        "#5. Reservoir simulations"
      ]
    },
    {
      "cell_type": "code",
      "execution_count": 6,
      "metadata": {
        "colab": {
          "base_uri": "https://localhost:8080/",
          "height": 1000
        },
        "id": "uPoRoxzKY0I6",
        "outputId": "4726504b-516c-4ae8-9b91-d6237fba0e07"
      },
      "outputs": [
        {
          "output_type": "stream",
          "name": "stdout",
          "text": [
            "gas in place (GIP)  206.7059730775122  GSm3\n",
            "oil in place (OIP)  538.1164512982363  MSm3\n",
            "gas production  9.770017551516737  MSm3/day\n",
            "oil production  25446.98813258201  Sm3/day\n",
            "oil production  160061.55535394084  bbl/day\n",
            "water production  22.242652194075493  Sm3/hr\n",
            "gas production  9.86031249979216  MSm3/day\n",
            "oil production  25430.15215456133  Sm3/day\n",
            "oil production  159955.65705219077  bbl/day\n",
            "water production  22.345658360260092  Sm3/hr\n",
            "gas production  9.284735468170714  MSm3/day\n",
            "oil production  23721.142146968366  Sm3/day\n",
            "oil production  149205.98410443103  bbl/day\n",
            "water production  22.398098333588187  Sm3/hr\n",
            "gas production  8.828160954186814  MSm3/day\n",
            "oil production  22342.412707639676  Sm3/day\n",
            "oil production  140533.77593105356  bbl/day\n",
            "water production  22.434285208001313  Sm3/hr\n",
            "gas production  8.459639683443282  MSm3/day\n",
            "oil production  21207.72639764968  Sm3/day\n",
            "oil production  133396.59904121648  bbl/day\n",
            "water production  22.45933026016521  Sm3/hr\n",
            "oil production  total  41.56568006335695  MSm3 oe\n",
            "oil production  total  261.4481275985152  Mboe oe\n",
            "reservoir recovery  5.927609792060937  %\n"
          ]
        },
        {
          "output_type": "stream",
          "name": "stderr",
          "text": [
            "<ipython-input-6-f4ef59b96497>:105: MatplotlibDeprecationWarning: Auto-removal of overlapping axes is deprecated since 3.6 and will be removed two minor releases later; explicitly call ax.remove() as needed.\n",
            "  plt.subplot(7, 1, 1)\n"
          ]
        },
        {
          "output_type": "execute_result",
          "data": {
            "text/plain": [
              "Text(0, 0.5, 'CO2 in reservoir gas [mole frac]')"
            ]
          },
          "metadata": {},
          "execution_count": 6
        },
        {
          "output_type": "display_data",
          "data": {
            "text/plain": [
              "<Figure size 1000x2000 with 7 Axes>"
            ],
            "image/png": "[encoded data removed]"
          },
          "metadata": {}
        }
      ],
      "source": [
        "from neqsim.process.processTools import simplereservoir\n",
        "\n",
        "resFLuid = fluid1.clone()\n",
        "resFLuid.addComponent(\"water\", 15.0)\n",
        "resFLuid.setMixingRule(2)\n",
        "\n",
        "resFLuid.setPressure(initialReservoirPressure, 'bara')\n",
        "resFLuid.setTemperature(initialReservoirTemperature,'C')\n",
        "TPflash(resFLuid)\n",
        "\n",
        "reservoirOps = simplereservoir(resFLuid, \"Well 1 reservoir\", gasvolume=0.0, oilvolume=OOIP/recoveryFactor, watervolume=10.0e7)\n",
        "\n",
        "\n",
        "#oil producer wells\n",
        "producedOilStream = reservoirOps.addOilProducer(\"SLP_A32562O\")\n",
        "producedOilStream.setFlowRate(6500.0 / 0.86 * 1000.0, \"kg/day\") #max rate producer 6500 m3/day 6 producers\n",
        "\n",
        "producedOilStream2 = reservoirOps.addOilProducer(\"SLP_A325621\")\n",
        "producedOilStream2.setFlowRate(6500.0 / 0.86 * 1000.0, \"kg/day\")\n",
        "\n",
        "producedOilStream3 = reservoirOps.addOilProducer(\"SLP_A325622\")\n",
        "producedOilStream3.setFlowRate(6500.0 / 0.86 * 1000.0, \"kg/day\")\n",
        "\n",
        "producedOilStream4 = reservoirOps.addOilProducer(\"SLP_A3256222\")\n",
        "producedOilStream4.setFlowRate(6500.0 / 0.86 * 1000.0, \"kg/day\")\n",
        "\n",
        "\n",
        "#Gas Injection Wells\n",
        "injectionGasStream = reservoirOps.addGasInjector(\"SLP_A32562GI\")\n",
        "injgascomp = [0.0]*22\n",
        "injgascomp[2] = 1.0\n",
        "fluidComposition(injectionGasStream.getFluid(), injgascomp)\n",
        "injectionGasStream.setFlowRate(5.0, \"MSm3/day\") # Max rate for gas injextor 5 MSm3/day\n",
        "\n",
        "injectionGasStream2 = reservoirOps.addGasInjector(\"SLP_A32566GI\")\n",
        "fluidComposition(injectionGasStream.getFluid(), injgascomp)\n",
        "injectionGasStream2.setFlowRate(0.0, \"MSm3/day\") # Max rate for gas injextor 5 MSm3/day\n",
        "\n",
        "\n",
        "#Water injector wells\n",
        "injectionWaterStream = reservoirOps.addWaterInjector(\"SLP_A32562W\")\n",
        "injectionWaterStream.setFlowRate(8000.0 * 1000, \"kg/day\") #max rate water injector 8000 m3/day 1 injetors\n",
        "\n",
        "\n",
        "# Water producer\n",
        "producedWaterStream = reservoirOps.addWaterProducer(\"prod water 1\")\n",
        "producedWaterStream.setFlowRate(100000.0, \"kg/day\")\n",
        "\n",
        "producedWaterStream2 = reservoirOps.addWaterProducer(\"prod water 2\")\n",
        "producedWaterStream2.setFlowRate(90000.0, \"kg/day\")\n",
        "\n",
        "producedWaterStream3 = reservoirOps.addWaterProducer(\"prod water 3\")\n",
        "producedWaterStream3.setFlowRate(121100.0, \"kg/day\")\n",
        "\n",
        "producedWaterStream4 = reservoirOps.addWaterProducer(\"prod water 4\")\n",
        "producedWaterStream4.setFlowRate(90000.0, \"kg/day\")\n",
        "\n",
        "\n",
        "deltat = 24*60*60.0*365\n",
        "time = []\n",
        "pressure = []\n",
        "gasvolume = []\n",
        "watervolume = []\n",
        "oilvolume = []\n",
        "wateringas = []\n",
        "totalproducedoe = []\n",
        "co2reservoirgas = []\n",
        "\n",
        "reservoirOps.run()\n",
        "\n",
        "print(\"gas in place (GIP) \", reservoirOps.getGasInPlace(\"GSm3\"), \" GSm3\")\n",
        "print(\"oil in place (OIP) \", reservoirOps.getOilInPlace(\"MSm3\"), \" MSm3\")\n",
        "\n",
        "for t in range(5):\n",
        "    time.append(t*deltat/(24*60*60.0*365))\n",
        "    pressure.append(reservoirOps.getReservoirFluid().getPressure('bara'))\n",
        "    try:\n",
        "      gasvolume.append(reservoirOps.getReservoirFluid().getPhase(\"gas\").getVolume(\"m3\"))\n",
        "      wateringas.append(reservoirOps.getReservoirFluid().getPhase(\"gas\").getComponent('water').getx())\n",
        "    except:\n",
        "      gasvolume.append(0)\n",
        "      wateringas.append(0)\n",
        "    oilvolume.append(reservoirOps.getReservoirFluid().getPhase(\"oil\").getVolume(\"m3\"))\n",
        "    watervolume.append(reservoirOps.getReservoirFluid().getPhase(\"aqueous\").getVolume(\"m3\"))\n",
        "    totalproducedoe.append(reservoirOps.getProductionTotal('MSm3 oe'))\n",
        "    co2reservoirgas.append(reservoirOps.getReservoirFluid().getComponent('CO2').getz())\n",
        "    print('gas production ' , reservoirOps.getGasProdution('Sm3/day')/1e6, ' MSm3/day')\n",
        "    print('oil production ' , reservoirOps.getOilProdution('Sm3/day'), ' Sm3/day')\n",
        "    print('oil production ' , reservoirOps.getOilProdution('Sm3/day')*6.29, ' bbl/day')\n",
        "    print('water production ' , reservoirOps.getWaterProdution('Sm3/hr'), ' Sm3/hr')\n",
        "    producedOilStream.setFlowRate(6500.0 / 0.86 * 1000.0 * reservoirOps.getReservoirFluid().getPressure('bara')/900.0, \"kg/day\")\n",
        "    producedOilStream2.setFlowRate(6500.0 / 0.86 * 1000.0 * reservoirOps.getReservoirFluid().getPressure('bara')/900.0, \"kg/day\")\n",
        "    producedOilStream3.setFlowRate(6500.0 / 0.86 * 1000.0 * reservoirOps.getReservoirFluid().getPressure('bara')/900.0, \"kg/day\")\n",
        "    producedOilStream4.setFlowRate(6500.0 / 0.86 * 1000.0 * reservoirOps.getReservoirFluid().getPressure('bara')/900.0, \"kg/day\")\n",
        "    injectionGasStream.setFlowRate(5.0, \"MSm3/day\")\n",
        "    injectionGasStream2.setFlowRate(1.0, \"MSm3/day\")\n",
        "    reservoirOps.runTransient(deltat)\n",
        "\n",
        "print(\"oil production  total \", reservoirOps.getOilProductionTotal('MSm3'), \" MSm3 oe\")\n",
        "print(\"oil production  total \", reservoirOps.getOilProductionTotal('MSm3')*6.29, \" Mboe oe\")\n",
        "print(\"reservoir recovery \", reservoirOps.getOilProductionTotal('MSm3')/(reservoirOps.getOilInPlace(\"MSm3\")+ reservoirOps.getGasInPlace(\"GSm3\"))*100.0, \" %\")\n",
        "\n",
        "plt.rcParams['figure.figsize'] = [10, 20]\n",
        "fig, ax = plt.subplots()\n",
        "plt.subplot(7, 1, 1)\n",
        "plt.plot(time, pressure)\n",
        "plt.xlabel('Year [-]')\n",
        "plt.ylabel('Pressure [bara]')\n",
        "plt.subplot(7, 1, 2)\n",
        "plt.plot(time, gasvolume)\n",
        "plt.xlabel('Year [-]')\n",
        "plt.ylabel('gasVol [m3]')\n",
        "plt.subplot(7, 1, 3)\n",
        "plt.plot(time, oilvolume)\n",
        "plt.xlabel('Year [-]')\n",
        "plt.ylabel('oilVol [m3]')\n",
        "plt.subplot(7, 1, 4)\n",
        "plt.plot(time, watervolume)\n",
        "plt.xlabel('Year [-]')\n",
        "plt.ylabel('waterVol [m3]')\n",
        "plt.subplot(7, 1, 5)\n",
        "plt.plot(time, wateringas)\n",
        "plt.xlabel('Year [-]')\n",
        "plt.ylabel('water in gas [-]')\n",
        "plt.subplot(7, 1, 6)\n",
        "plt.plot(time, totalproducedoe)\n",
        "plt.xlabel('Year [-]')\n",
        "plt.ylabel('Total production [MSm3 oe]')\n",
        "plt.subplot(7, 1, 7)\n",
        "plt.plot(time, co2reservoirgas)\n",
        "plt.xlabel('Year [-]')\n",
        "plt.ylabel('CO2 in reservoir gas [mole frac]')"
      ]
    },
    {
      "cell_type": "markdown",
      "metadata": {
        "id": "d_LbU5b2Y9aO"
      },
      "source": [
        "#6. SURF and flow assurance"
      ]
    },
    {
      "cell_type": "markdown",
      "metadata": {
        "id": "8OPHcnReJSmR"
      },
      "source": [
        "## Wells and xmas tree"
      ]
    },
    {
      "cell_type": "code",
      "execution_count": 32,
      "metadata": {
        "colab": {
          "base_uri": "https://localhost:8080/"
        },
        "id": "YRqXna3FZJj5",
        "outputId": "e9fd8be3-02e1-43c7-93c6-3c9d32d82a34"
      },
      "outputs": [
        {
          "output_type": "stream",
          "name": "stdout",
          "text": [
            "prod tubing ID  16.25  cm\n",
            "flow line tubing ID  25.0  cm\n",
            "reservoir pressure  701.6049682668402  bara\n",
            "well head pressure  402.4537766838619  bara\n",
            "x-mas tree pressure  350.0  bara\n",
            "riser bottom pressure  330.46959676427906  bara\n",
            "pressure to FPSO  184.56649935185408  bara\n",
            "superficial velocity  2.8973793021073595  m/sec\n",
            "liquid holdup of FPSO feed  0.625815403279972  [-]\n",
            "gas feed to process  4.829251335869121 MSm3/day\n",
            "oil feed to process  1389.3290687936114 m3/hr\n",
            "water feed to process  132.49174607472156 m3/hr\n",
            "| 0                  | 1           | 2                  | 3                  | 4                  | 5   | 6               |\n",
            "|:-------------------|:------------|:-------------------|:-------------------|:-------------------|:----|:----------------|\n",
            "|                    | total       | GAS                | OIL                | AQUEOUS            |     |                 |\n",
            "| nitrogen           | 3.6526E-3   | 8.12029E-3         | 1.88107E-3         | 3.28762E-7         |     | [mole fraction] |\n",
            "| CO2                | 4.39505E-5  | 7.42638E-5         | 4.87521E-5         | 3.75373E-7         |     | [mole fraction] |\n",
            "| methane            | 4.24326E-1  | 8.2681E-1          | 3.49989E-1         | 4.61406E-5         |     | [mole fraction] |\n",
            "| ethane             | 5.09801E-2  | 7.73068E-2         | 6.6907E-2          | 3.73772E-7         |     | [mole fraction] |\n",
            "| propane            | 3.11261E-2  | 3.74452E-2         | 5.18557E-2         | 1.58554E-9         |     | [mole fraction] |\n",
            "| i-butane           | 6.05368E-3  | 6.10646E-3         | 1.14124E-2         | 4.85025E-12        |     | [mole fraction] |\n",
            "| n-butane           | 1.21537E-2  | 1.09843E-2         | 2.43509E-2         | 1.12277E-11        |     | [mole fraction] |\n",
            "| i-pentane          | 4.78522E-3  | 3.46032E-3         | 1.05629E-2         | 1.06413E-13        |     | [mole fraction] |\n",
            "| n-pentane          | 5.79083E-3  | 3.8637E-3          | 1.3148E-2          | 7.91528E-14        |     | [mole fraction] |\n",
            "| n-hexane           | 7.39268E-3  | 3.5859E-3          | 1.83042E-2         | 7.78608E-16        |     | [mole fraction] |\n",
            "| C7_PC              | 1.11159E-2  | 3.27479E-3         | 2.99113E-2         | 6.75808E-12        |     | [mole fraction] |\n",
            "| C8_PC              | 1.18485E-2  | 2.60227E-3         | 3.2885E-2          | 1.37368E-13        |     | [mole fraction] |\n",
            "| C9_PC              | 7.23274E-3  | 1.19265E-3         | 2.05207E-2         | 1.66838E-15        |     | [mole fraction] |\n",
            "| C10-C11_PC         | 1.43933E-2  | 1.5699E-3          | 4.1743E-2          | 1.19517E-17        |     | [mole fraction] |\n",
            "| C12-C13_PC         | 1.25226E-2  | 7.83076E-4         | 3.69752E-2         | 1.24923E-20        |     | [mole fraction] |\n",
            "| C14-C15_PC         | 1.08929E-2  | 3.74634E-4         | 3.2509E-2          | 2.17471E-23        |     | [mole fraction] |\n",
            "| C16-C18_PC         | 1.37475E-2  | 2.14794E-4         | 4.13195E-2         | 3.22446E-26        |     | [mole fraction] |\n",
            "| C19-C20_PC         | 7.69513E-3  | 5.19134E-5         | 2.32056E-2         | 6.79079E-29        |     | [mole fraction] |\n",
            "| C21-C23_PC         | 9.7167E-3   | 2.73371E-5         | 2.9345E-2          | 7.63646E-31        |     | [mole fraction] |\n",
            "| C24-C29_PC         | 1.43164E-2  | 8.60813E-6         | 4.32722E-2         | 1.51796E-33        |     | [mole fraction] |\n",
            "| C30_PC             | 2.87097E-2  | 7.02838E-8         | 8.67959E-2         | 7.75397E-40        |     | [mole fraction] |\n",
            "| water              | 3.11504E-1  | 1.21429E-2         | 3.30577E-2         | 9.99953E-1         |     | [mole fraction] |\n",
            "|                    |             |                    |                    |                    |     |                 |\n",
            "| Density            |             | 1.32255E2          | 7.42932E2          | 9.17973E2          |     | [kg/m^3]        |\n",
            "| PhaseFraction      |             | 3.73176E-1         | 3.30772E-1         | 2.96052E-1         |     | [mole fraction] |\n",
            "| MolarMass          | 5.83593E1   | 2.08046E1          | 1.36838E2          | 1.80149E1          |     | [kg/kmol]       |\n",
            "| Z factor           |             | 9.1885E-1          | 1.10754E0          | 1.47233E-1         |     | [-]             |\n",
            "| Heat Capacity (Cp) |             | 3.06856E0          | 2.38599E0          | 4.83613E0          |     | [kJ/kg*K]       |\n",
            "| Heat Capacity (Cv) |             | 2.03474E0          | 2.17084E0          | 3.22333E0          |     | [kJ/kg*K]       |\n",
            "| Speed of Sound     |             | 4.77462E2          | 8.65716E2          | 2.60017E3          |     | [m/sec]         |\n",
            "| Enthalpy           | -2.51366E2  | 1.07721E2          | -9.11292E1         | -2.13396E3         |     | [kJ/kg]         |\n",
            "| Entropy            | -7.13844E-1 | -1.32247E0         | -2.63422E-2        | -5.66244E0         |     | [kJ/kg*K]       |\n",
            "| JT coefficient     |             | 1.5437E-1          | -3.82451E-2        | -1.83914E-2        |     | [K/bar]         |\n",
            "|                    |             |                    |                    |                    |     |                 |\n",
            "| Viscosity          |             | 1.95069E-5         | 4.68102E-4         | 2.60254E-4         |     | [kg/m*sec]      |\n",
            "| Conductivity       |             | 5.89826E-2         | 1.07184E-1         | 6.92626E-1         |     | [W/m*K]         |\n",
            "| SurfaceTension     |             | 2.44637E-2         | 2.44637E-2         |                    |     | [N/m]           |\n",
            "|                    |             |                    | 9.93665E0          | 9.93665E0          |     | [N/m]           |\n",
            "|                    |             | 2.77041E0          |                    | 2.77041E0          |     | [N/m]           |\n",
            "|                    |             |                    |                    |                    |     |                 |\n",
            "| Pressure           |             | 184.56649935185408 | 184.56649935185408 | 184.56649935185408 |     | [bar]           |\n",
            "| Temperature        |             | 383.85826262496823 | 383.85826262496823 | 383.85826262496823 |     | [K]             |\n",
            "|                    |             |                    |                    |                    |     |                 |\n",
            "| Model              |             | SRK-EOS            | SRK-EOS            | SRK-EOS            |     | -               |\n",
            "| Mixing Rule        |             | classic            | classic            | classic            |     | -               |\n",
            "|                    |             |                    |                    |                    |     |                 |\n",
            "| Stream             |             |                    |                    |                    |     | -               |\n",
            "|                    |             |                    |                    |                    |     |                 |\n",
            "|                    |             |                    |                    |                    |     |                 |\n",
            "|                    |             |                    |                    |                    |     |                 |\n",
            "|                    |             |                    |                    |                    |     |                 |\n"
          ]
        }
      ],
      "source": [
        "from neqsim.process import mixer, valve\n",
        "\n",
        "prodtubingID = 6.5*0.025 # meter 7\" OD\n",
        "print('prod tubing ID ', prodtubingID*100, ' cm')\n",
        "\n",
        "flowline1ID = 10*0.025\n",
        "print('flow line tubing ID ', flowline1ID*100, ' cm')\n",
        "\n",
        "well1mix = mixer('well1mixer')\n",
        "well1mix.addStream(producedOilStream)\n",
        "well1mix.addStream(producedWaterStream)\n",
        "well1mix.run()\n",
        "\n",
        "well2mix = mixer('well2mixer')\n",
        "well2mix.addStream(producedOilStream2)\n",
        "well2mix.addStream(producedWaterStream2)\n",
        "well2mix.run()\n",
        "\n",
        "well3mix = mixer('well3mixer')\n",
        "well3mix.addStream(producedOilStream3)\n",
        "well3mix.addStream(producedWaterStream3)\n",
        "well3mix.run()\n",
        "\n",
        "well4mix = mixer('well3mixer')\n",
        "well4mix.addStream(producedOilStream4)\n",
        "well4mix.addStream(producedWaterStream4)\n",
        "well4mix.run()\n",
        "\n",
        "well1 = jNeqSim.processSimulation.processEquipment.pipeline.PipeBeggsAndBrills(well1mix.getOutStream());\n",
        "well1.setDiameter(prodtubingID);\n",
        "well1.setPipeWallRoughness(15e-6);\n",
        "well1.setLength(4000);\n",
        "well1.setElevation(4000.0);\n",
        "well1.setNumberOfIncrements(5);\n",
        "well1.run()\n",
        "\n",
        "well2 = jNeqSim.processSimulation.processEquipment.pipeline.PipeBeggsAndBrills(well2mix.getOutStream());\n",
        "well2.setDiameter(prodtubingID);\n",
        "well2.setPipeWallRoughness(15e-6);\n",
        "well2.setLength(4000);\n",
        "well2.setElevation(4000.0);\n",
        "well2.setNumberOfIncrements(5);\n",
        "well2.run()\n",
        "\n",
        "well3 = jNeqSim.processSimulation.processEquipment.pipeline.PipeBeggsAndBrills(well3mix.getOutStream());\n",
        "well3.setDiameter(prodtubingID);\n",
        "well3.setPipeWallRoughness(15e-6);\n",
        "well3.setLength(4000);\n",
        "well3.setElevation(4000.0);\n",
        "well3.setNumberOfIncrements(5);\n",
        "well3.run()\n",
        "\n",
        "well4 = jNeqSim.processSimulation.processEquipment.pipeline.PipeBeggsAndBrills(well4mix.getOutStream());\n",
        "well4.setDiameter(prodtubingID);\n",
        "well4.setPipeWallRoughness(15e-6);\n",
        "well4.setLength(4000);\n",
        "well4.setElevation(4000.0);\n",
        "well4.setNumberOfIncrements(5);\n",
        "well4.run()\n",
        "\n",
        "subseachoke1 = valve(well1.getOutletStream())\n",
        "subseachoke1.setName('choke 1')\n",
        "subseachoke1.setOutletPressure(flowlinemaxpressure, 'bara')\n",
        "\n",
        "subseachoke2 = valve(well2.getOutletStream())\n",
        "subseachoke2.setName('choke 2')\n",
        "subseachoke2.setOutletPressure(flowlinemaxpressure, 'bara')\n",
        "\n",
        "subseachoke3 = valve(well3.getOutletStream())\n",
        "subseachoke3.setName('choke 3')\n",
        "subseachoke3.setOutletPressure(flowlinemaxpressure, 'bara')\n",
        "\n",
        "subseachoke4 = valve(well4.getOutletStream())\n",
        "subseachoke4.setName('choke 4')\n",
        "subseachoke4.setOutletPressure(flowlinemaxpressure, 'bara')\n",
        "\n",
        "\n",
        "template1 = mixer('template 1')\n",
        "template1.addStream(subseachoke1.getOutStream())\n",
        "template1.addStream(subseachoke2.getOutStream())\n",
        "template1.addStream(subseachoke3.getOutStream())\n",
        "template1.addStream(subseachoke4.getOutStream())\n",
        "template1.run()\n",
        "import jpype\n",
        "from jpype.types import *\n",
        "flowset =  jNeqSim.processSimulation.processEquipment.util.FlowSetter(\"flowset\", template1.getOutStream())\n",
        "#pressureSep = [90.0, 22.0, 1.01325]\n",
        "#temperatureSep = [15.0, 15.0, 15.0]\n",
        "#flowset.setSeparationPT(JDouble[:](pressureSep), \"bara\", JDouble[:](temperatureSep), \"C\");\n",
        "flowset.setGasFlowRate(7.0, \"MSm3/day\")\n",
        "flowset.setOilFlowRate(1080.0, \"m3/hr\")\n",
        "flowset.setWaterFlowRate(108.0, \"m3/hr\")\n",
        "flowset.run()\n",
        "\n",
        "flowline1 = jNeqSim.processSimulation.processEquipment.pipeline.PipeBeggsAndBrills(flowset.getOutletStream());\n",
        "flowline1.setDiameter(flowline1ID*2);\n",
        "flowline1.setPipeWallRoughness(15e-6);\n",
        "flowline1.setLength(20000);\n",
        "flowline1.setElevation(0.0);\n",
        "flowline1.setNumberOfIncrements(5);\n",
        "flowline1.run()\n",
        "\n",
        "productionriser = jNeqSim.processSimulation.processEquipment.pipeline.PipeBeggsAndBrills(flowline1.getOutStream());\n",
        "productionriser.setDiameter(0.525);\n",
        "productionriser.setPipeWallRoughness(15e-6);\n",
        "productionriser.setLength(3500);\n",
        "productionriser.setElevation(2500.0);\n",
        "productionriser.setNumberOfIncrements(5);\n",
        "productionriser.run()\n",
        "\n",
        "print('reservoir pressure ', well3mix.getOutStream().getPressure('bara'), ' bara')\n",
        "print('well head pressure ', well1.getOutletStream().getPressure('bara'), ' bara')\n",
        "print('x-mas tree pressure ', template1.getOutStream().getPressure('bara'), ' bara')\n",
        "print('riser bottom pressure ', flowline1.getOutStream().getPressure('bara'), ' bara')\n",
        "print('pressure to FPSO ', productionriser.getOutStream().getPressure('bara'), ' bara')\n",
        "print('superficial velocity ' , flowline1.getSuperficialVelocity(), ' m/sec')\n",
        "print('liquid holdup of FPSO feed ', productionriser.getSegmentLiquidHoldup(5), ' [-]')\n",
        "print('gas feed to process ', productionriser.getOutStream().getFluid().getPhase('gas').getFlowRate('MSm3/day'), 'MSm3/day')\n",
        "print('oil feed to process ', productionriser.getOutStream().getFluid().getPhase('oil').getFlowRate('m3/hr'), 'm3/hr')\n",
        "print('water feed to process ', productionriser.getOutStream().getFluid().getPhase('aqueous').getFlowRate('m3/hr'), 'm3/hr')\n",
        "\n",
        "printFrame(productionriser.getOutStream().getFluid())"
      ]
    },
    {
      "cell_type": "markdown",
      "metadata": {
        "id": "p0APaL2xJgBR"
      },
      "source": [
        "## Multiphase flow regime"
      ]
    },
    {
      "cell_type": "code",
      "execution_count": null,
      "metadata": {
        "colab": {
          "base_uri": "https://localhost:8080/",
          "height": 599
        },
        "id": "4Fm6Y6eVG_Ob",
        "outputId": "02b3fff1-a8d0-4f7f-83b2-772b1930dfe2"
      },
      "outputs": [
        {
          "name": "stdout",
          "output_type": "stream",
          "text": [
            "failed\n",
            "failed\n",
            "failed\n"
          ]
        },
        {
          "data": {
            "image/png": "[encoded data removed]",
            "text/plain": [
              "<Figure size 800x600 with 2 Axes>"
            ]
          },
          "metadata": {},
          "output_type": "display_data"
        }
      ],
      "source": [
        "from neqsim.process import stream\n",
        "\n",
        "def define_fluid(diameter, liquid_us, gas_us):\n",
        "  area = 3.14 * diameter**2/4\n",
        "  gasFlowRate = gas_us*area\n",
        "  liquidFlowRate = liquid_us*area\n",
        "\n",
        "\n",
        "\n",
        "  gas_fluid = template1.getOutStream().getFluid().phaseToSystem(\"gas\")\n",
        "  gas_fluid.init(0)\n",
        "\n",
        "\n",
        "\n",
        "  water_fluid = template1.getOutStream().getFluid().phaseToSystem(\"aqueous\")\n",
        "  water_fluid.init(0)\n",
        "\n",
        "\n",
        "\n",
        "  gas_stream = stream(gas_fluid)\n",
        "  gas_stream.setFlowRate(gasFlowRate, \"Am3/sec\")\n",
        "  gas_stream.run()\n",
        "\n",
        "\n",
        "\n",
        "  water_stream = stream(water_fluid)\n",
        "  water_stream.setFlowRate(23.5*liquidFlowRate, \"Am3/sec\")\n",
        "  water_stream.run()\n",
        "\n",
        "\n",
        "\n",
        "  mixerStream = mixer()\n",
        "  mixerStream.addStream(gas_stream)\n",
        "  mixerStream.addStream(water_stream)\n",
        "  mixerStream.run()\n",
        "  return mixerStream.getOutStream()\n",
        "\n",
        "\n",
        "\n",
        "superficialGasVelocity = []\n",
        "superficialLiquidVelocity = []\n",
        "flowRegime = []\n",
        "\n",
        "\n",
        "\n",
        "superficialVelocityRangeGas = np.linspace(0.01, 5, 10)\n",
        "superficialVelocityRangeLiquid = np.linspace(0.01, 2.5, 10)\n",
        "\n",
        "\n",
        "\n",
        "for gas_us in superficialVelocityRangeGas:\n",
        "  for liquid_us in superficialVelocityRangeLiquid:\n",
        "    flowlineMap = jNeqSim.processSimulation.processEquipment.pipeline.PipeBeggsAndBrills(define_fluid(0.4, liquid_us, gas_us));\n",
        "    flowlineMap.setDiameter(0.40);\n",
        "    flowlineMap.setPipeWallRoughness(5e-6);\n",
        "    flowlineMap.setLength(10000);\n",
        "    flowlineMap.setElevation(3500.0);\n",
        "    flowlineMap.setNumberOfIncrements(1);\n",
        "    try:\n",
        "      flowlineMap.run()\n",
        "      superficialGasVelocity.append(list(flowlineMap.getGasSuperficialVelocityProfile())[0])\n",
        "      superficialLiquidVelocity.append(list(flowlineMap.getLiquidSuperficialVelocityProfile())[0])\n",
        "      flowRegime.append(list(flowlineMap.getFlowRegimeProfile())[0])\n",
        "    except:\n",
        "      print(\"failed\")\n",
        "\n",
        "\n",
        "\n",
        "\n",
        "\n",
        "# Create a color map dictionary for flow regimes\n",
        "\n",
        "\n",
        "# Set the figure size\n",
        "plt.figure(figsize=(8, 6))  # Adjust the width and height values as needed\n",
        "\n",
        "\n",
        "\n",
        "flow_regime_colors = {\n",
        "    'TRANSITION': 'nlue',\n",
        "    'INTERMITTENT': 'blue',\n",
        "    'DISTRIBUTED': 'green',\n",
        "    'SEGREGATED': 'orange',\n",
        "    'Single Phase': 'purple'\n",
        "}\n",
        "\n",
        "\n",
        "\n",
        "# Convert flowRegime to numeric values for colormap\n",
        "flow_regime_numeric = [list(flow_regime_colors.keys()).index(regime) for regime in flowRegime]\n",
        "\n",
        "# Operational\n",
        "operational_point_liq_velocity = [0.0299052078802805, 1.3876390158714877]\n",
        "operational_point_gas_velocity = [3.779541453948589, 3.056532086170634]\n",
        "\n",
        "# Plot the scatter plot with color mapping\n",
        "plt.scatter(superficialGasVelocity, superficialLiquidVelocity, c=flow_regime_numeric, cmap='viridis')\n",
        "plt.plot(operational_point_gas_velocity, operational_point_liq_velocity, color = \"red\", marker = \"o\")\n",
        "\n",
        "\n",
        "\n",
        "# Set axis labels\n",
        "plt.xlabel('Superficial Gas Velocity [m/s]')\n",
        "plt.ylabel('Superficial Liquid Velocity [m/s]')\n",
        "\n",
        "\n",
        "\n",
        "# Create a colorbar legend\n",
        "flow_regime_labels = list(flow_regime_colors.keys())\n",
        "cbar = plt.colorbar(ticks=np.arange(len(flow_regime_labels)))\n",
        "cbar.ax.set_yticklabels(flow_regime_labels)\n",
        "\n",
        "\n",
        "\n",
        "# Show the plot\n",
        "plt.show()"
      ]
    },
    {
      "cell_type": "markdown",
      "metadata": {
        "id": "dmtM1KlAiVIR"
      },
      "source": [
        "## Flow Assurance"
      ]
    },
    {
      "cell_type": "markdown",
      "metadata": {
        "id": "7c35KVjMibm4"
      },
      "source": [
        "### Hydrate formation"
      ]
    },
    {
      "cell_type": "code",
      "execution_count": null,
      "metadata": {
        "colab": {
          "base_uri": "https://localhost:8080/",
          "height": 561
        },
        "id": "v_sP_GTQilUB",
        "outputId": "612e39d6-742b-43f9-ff01-c2f5129f61dd"
      },
      "outputs": [
        {
          "data": {
            "text/plain": [
              "Text(0, 0.5, 'Pressure [bara]')"
            ]
          },
          "execution_count": 48,
          "metadata": {},
          "output_type": "execute_result"
        },
        {
          "data": {
            "image/png": "[encoded data removed]",
            "text/plain": [
              "<Figure size 800x600 with 1 Axes>"
            ]
          },
          "metadata": {},
          "output_type": "display_data"
        }
      ],
      "source": [
        "fluid1 = template1.getOutStream().getFluid().clone()\n",
        "\n",
        "minPressure = 10.0\n",
        "maxPressure = 1000.0\n",
        "\n",
        "def hydrateEqTemp(pressure):\n",
        "    fluid1.setPressure(pressure)\n",
        "    hydt(fluid1)\n",
        "    return fluid1.getTemperature('C')\n",
        "\n",
        "hydpressure = np.arange(minPressure, maxPressure, 50.0)\n",
        "hydtemperature = [hydrateEqTemp(P) for P in hydpressure]\n",
        "\n",
        "plt.figure(figsize=(8, 6))  # Adjust the width and height values as needed\n",
        "plt.plot(hydtemperature, hydpressure)\n",
        "plt.xlabel('Temperature [C]')\n",
        "plt.ylabel('Pressure [bara]')"
      ]
    },
    {
      "cell_type": "markdown",
      "metadata": {
        "id": "2emumCCuil-c"
      },
      "source": [
        "### Corrosion control and scaling"
      ]
    },
    {
      "cell_type": "markdown",
      "metadata": {
        "id": "LuCPNalzl8bq"
      },
      "source": [
        "to be updated with more realistic numbers numbers..."
      ]
    },
    {
      "cell_type": "code",
      "execution_count": null,
      "metadata": {
        "colab": {
          "base_uri": "https://localhost:8080/"
        },
        "id": "0kaXy2COipvh",
        "outputId": "5d96592c-c714-4c13-cc7e-1293e8bd8307"
      },
      "outputs": [
        {
          "name": "stdout",
          "output_type": "stream",
          "text": [
            "pH of water  4.582493404067516\n",
            "| 0                  | 1          | 2                  | 3                  | 4   | 5   | 6               |\n",
            "|:-------------------|:-----------|:-------------------|:-------------------|:----|:----|:----------------|\n",
            "|                    | total      | OIL                | AQUEOUS            |     |     |                 |\n",
            "| nitrogen           | 5.40717E-3 | 5.76077E-3         | 3.19432E-8         |     |     | [mole fraction] |\n",
            "| CO2                | 6.49641E-5 | 6.92035E-5         | 1.37171E-7         |     |     | [mole fraction] |\n",
            "| methane            | 6.27923E-1 | 6.68986E-1         | 2.31212E-6         |     |     | [mole fraction] |\n",
            "| ethane             | 7.52149E-2 | 8.01337E-2         | 1.9005E-9          |     |     | [mole fraction] |\n",
            "| propane            | 4.54562E-2 | 4.84289E-2         | 3.46374E-13        |     |     | [mole fraction] |\n",
            "| i-butane           | 8.66851E-3 | 9.23539E-3         | 7.94937E-17        |     |     | [mole fraction] |\n",
            "| n-butane           | 1.71161E-2 | 1.82354E-2         | 1.80298E-16        |     |     | [mole fraction] |\n",
            "| i-pentane          | 6.33108E-3 | 6.74511E-3         | 1.6014E-19         |     |     | [mole fraction] |\n",
            "| n-pentane          | 7.43574E-3 | 7.92201E-3         | 8.49638E-20        |     |     | [mole fraction] |\n",
            "| n-hexane           | 8.27842E-3 | 8.8198E-3          | 4.02206E-23        |     |     | [mole fraction] |\n",
            "| C7_PC              | 1.09322E-2 | 1.16471E-2         | 2.34562E-17        |     |     | [mole fraction] |\n",
            "| C8_PC              | 1.13704E-2 | 1.2114E-2          | 4.32827E-20        |     |     | [mole fraction] |\n",
            "| C9_PC              | 6.883E-3   | 7.33311E-3         | 5.06896E-23        |     |     | [mole fraction] |\n",
            "| C10-C11_PC         | 1.36504E-2 | 1.45431E-2         | 1.30091E-26        |     |     | [mole fraction] |\n",
            "| C12-C13_PC         | 1.18667E-2 | 1.26428E-2         | 2.59873E-31        |     |     | [mole fraction] |\n",
            "| C14-C15_PC         | 1.03212E-2 | 1.09962E-2         | 1.18024E-35        |     |     | [mole fraction] |\n",
            "| C16-C18_PC         | 1.30259E-2 | 1.38777E-2         | 3.34577E-40        |     |     | [mole fraction] |\n",
            "| C19-C20_PC         | 7.29119E-3 | 7.76801E-3         | 2.64138E-44        |     |     | [mole fraction] |\n",
            "| C21-C23_PC         | 9.20665E-3 | 9.80873E-3         | 1.82041E-47        |     |     | [mole fraction] |\n",
            "| C24-C29_PC         | 1.35649E-2 | 1.4452E-2          | 6.93708E-52        |     |     | [mole fraction] |\n",
            "| C30_PC             | 2.72027E-2 | 2.89816E-2         | 2.25473E-62        |     |     | [mole fraction] |\n",
            "| water              | 6.27889E-2 | 1.49958E-3         | 9.99998E-1         |     |     | [mole fraction] |\n",
            "|                    |            |                    |                    |     |     |                 |\n",
            "| Density            |            | 6.83709E2          | 1.00925E3          |     |     | [kg/m^3]        |\n",
            "| PhaseFraction      |            | 9.38618E-1         | 6.13815E-2         |     |     | [mole fraction] |\n",
            "| MolarMass          | 5.72396E1  | 5.98047E1          | 1.8015E1           |     |     | [kg/kmol]       |\n",
            "| Z factor           |            | 3.3876E0           | 8.82547E-1         |     |     | [-]             |\n",
            "| Heat Capacity (Cp) |            | 2.2327E0           | 4.68954E0          |     |     | [kJ/kg*K]       |\n",
            "| Heat Capacity (Cv) |            | 1.95021E0          | 3.50239E0          |     |     | [kJ/kg*K]       |\n",
            "| Speed of Sound     |            | 1.40442E3          | 3.70951E3          |     |     | [m/sec]         |\n",
            "| Enthalpy           | -2.04413E2 | -1.61022E2         | -2.40709E3         |     |     | [kJ/kg]         |\n",
            "| Entropy            | -1.16847E0 | -1.0584E0          | -6.75611E0         |     |     | [kJ/kg*K]       |\n",
            "| JT coefficient     |            | -5.27406E-2        | -2.27317E-2        |     |     | [K/bar]         |\n",
            "|                    |            |                    |                    |     |     |                 |\n",
            "| Viscosity          |            | 2.81482E-4         | 7.48981E-4         |     |     | [kg/m*sec]      |\n",
            "| Conductivity       |            | 1.34033E-1         | 6.31173E-1         |     |     | [W/m*K]         |\n",
            "| SurfaceTension     |            | 2.44637E-2         | 2.44637E-2         |     |     | [N/m]           |\n",
            "|                    |            |                    |                    |     |     |                 |\n",
            "|                    |            |                    |                    |     |     |                 |\n",
            "|                    |            |                    |                    |     |     |                 |\n",
            "| Pressure           |            | 960.0              | 960.0              |     |     | [bar]           |\n",
            "| Temperature        |            | 309.87001699958535 | 309.87001699958535 |     |     | [K]             |\n",
            "|                    |            |                    |                    |     |     |                 |\n",
            "| Model              |            | SRK-EOS            | SRK-EOS            |     |     | -               |\n",
            "| Mixing Rule        |            | classic            | classic            |     |     | -               |\n",
            "|                    |            |                    |                    |     |     |                 |\n",
            "| Stream             |            |                    |                    |     |     | -               |\n",
            "|                    |            |                    |                    |     |     |                 |\n",
            "|                    |            |                    |                    |     |     |                 |\n",
            "|                    |            |                    |                    |     |     |                 |\n",
            "|                    |            |                    |                    |     |     |                 |\n",
            "Composition of aqueous phase:\n",
            "| 0         | 1              | 2            | 3          |\n",
            "|:----------|:---------------|:-------------|:-----------|\n",
            "| Component | mmol/kgSolvent | mg/kgSolvent | Act.Coef   |\n",
            "| nitrogen  | 0.0073912      | 0.207053     | 9.43226E-7 |\n",
            "| CO2       | 0.341905       | 15.0472      | 1.02448    |\n",
            "| methane   | 1.52833        | 24.5191      | 1.02183    |\n",
            "| ethane    | 0.129297       | 3.88795      | 1.02922    |\n",
            "| propane   | 0.0114208      | 0.503625     | 1.03811    |\n",
            "| water     | 55509.3        | 1000000.0    | 1.00003    |\n",
            "| Na+       | 20.957         | 481.801      | 0.864912   |\n",
            "| Cl-       | 20.957         | 742.926      | 0.874832   |\n",
            "| Ca++      | 0.20957        | 8.39956      | 0.561159   |\n",
            "| Fe++      | 0.20957        | 11.7045      | 0.560018   |\n",
            "| OH-       | 1.76143E-5     | 2.99461E-4   | 0.874291   |\n",
            "| H3O+      | 0.0260958      | 0.496342     | 0.861623   |\n",
            "| HCO3-     | 0.233942       | 14.2705      | 0.871737   |\n",
            "| CO3--     | 8.5313E-4      | 0.0511725    | 0.557349   |\n",
            "|           |                |              |            |\n",
            "Relative solubility in salts:\n"
          ]
        }
      ],
      "source": [
        "fluidCorr = template1.getOutStream().getFluid().clone()\n",
        "\n",
        "from neqsim.thermo import fluid, TPflash, checkScalePotential\n",
        "nitrogen = 1.0 #@param {type:\"number\"}\n",
        "CO2 = 1.1 #@param {type:\"number\"}\n",
        "methane = 88.3  #@param {type:\"number\"}\n",
        "ethane = 5.0  #@param {type:\"number\"}\n",
        "propane =  1.5 #@param {type:\"number\"}\n",
        "water =  1.25 #@param {type:\"number\"}\n",
        "Naplus =  0.025 #@param {type:\"number\"}\n",
        "Clminus =  0.025 #@param {type:\"number\"}\n",
        "Caplus =  0.00025 #@param {type:\"number\"}\n",
        "Feplus =  0.00025 #@param {type:\"number\"}\n",
        "OHminus =  0.00025 #@param {type:\"number\"}\n",
        "\n",
        "formationWater = fluid('Electrolyte-CPA-EoS')\n",
        "formationWater.addComponent(\"nitrogen\", nitrogen)\n",
        "formationWater.addComponent(\"CO2\", CO2)\n",
        "formationWater.addComponent(\"methane\", methane)\n",
        "formationWater.addComponent(\"ethane\", ethane)\n",
        "formationWater.addComponent(\"propane\", propane)\n",
        "formationWater.addComponent(\"water\", water,\"kg/sec\")\n",
        "formationWater.addComponent(\"Na+\", Naplus,\"mol/sec\")\n",
        "formationWater.addComponent(\"Cl-\", Clminus,\"mol/sec\")\n",
        "formationWater.addComponent(\"Ca++\", Caplus,\"mol/sec\")\n",
        "formationWater.addComponent(\"Fe++\", Feplus,\"mol/sec\")\n",
        "formationWater.addComponent(\"OH-\", OHminus,\"mol/sec\")\n",
        "formationWater.chemicalReactionInit()\n",
        "formationWater.setMixingRule(10)\n",
        "\n",
        "TPflash(formationWater)\n",
        "ionCompResults = calcIonComposition(formationWater)\n",
        "scaleResults = checkScalePotential(formationWater)\n",
        "\n",
        "print(\"pH of water \",formationWater.getPhase(\"aqueous\").getpH())\n",
        "\n",
        "import pandas\n",
        "printFrame(fluid1)\n",
        "print(\"Composition of aqueous phase:\")\n",
        "print(pandas.DataFrame(ionCompResults).to_markdown(index=False))\n",
        "print(\"Relative solubility in salts:\")"
      ]
    },
    {
      "cell_type": "markdown",
      "metadata": {
        "id": "StAzp9DEiqcT"
      },
      "source": [
        "### Wax control"
      ]
    },
    {
      "cell_type": "markdown",
      "metadata": {
        "id": "JysD1fH2oefz"
      },
      "source": [
        "too be worked on...."
      ]
    },
    {
      "cell_type": "code",
      "execution_count": null,
      "metadata": {
        "id": "45IXVPRQiZyQ"
      },
      "outputs": [],
      "source": [
        "fluidWax = template1.getOutStream().getFluid().clone()\n",
        "fluidWax.removeComponent('water')\n",
        "fluidWax.getWaxModel().addTBPWax();\n",
        "#fluidWax.addSolidComplexPhase(\"wax\");\n",
        "fluidWax.setMultiphaseWaxCheck(True);\n",
        "fluidWax.setTemperature(20.112, \"C\")\n",
        "fluidWax.setPressure(10.0, \"bara\")\n",
        "\n",
        "#TPflash(fluidWax)\n",
        "#printFrame(fluidWax)\n",
        "#waxTemp = WAT(fluidWax)-273.15\n",
        "#printFrame(fluid1)\n",
        "#print(\"WAT \", waxTemp, \" °C\")"
      ]
    },
    {
      "cell_type": "markdown",
      "metadata": {
        "id": "aCq6NpNDZQl_"
      },
      "source": [
        "#7. Offshore process (FPSO)"
      ]
    },
    {
      "cell_type": "markdown",
      "metadata": {
        "id": "VFseuza94KOE"
      },
      "source": [
        "## Process design criteria"
      ]
    },
    {
      "cell_type": "markdown",
      "metadata": {
        "id": "GLU2D2gk4PMP"
      },
      "source": [
        ".... process design specifications"
      ]
    },
    {
      "cell_type": "markdown",
      "metadata": {
        "id": "NlhLj_s7GeGR"
      },
      "source": [
        "## Process simulation"
      ]
    },
    {
      "cell_type": "markdown",
      "metadata": {
        "id": "McRkZQBpLEeG"
      },
      "source": [
        "......."
      ]
    },
    {
      "cell_type": "code",
      "execution_count": 33,
      "metadata": {
        "id": "kNfuxLcpExGO"
      },
      "outputs": [],
      "source": [
        "inputdata = {\n",
        "  'topsidePressure': 90.0,\n",
        "  'topsideTemperature': 46.16,\n",
        "  'temperatureOilHeater' : 60.0,\n",
        "  'temperatureOilHeater2' : 91.0,\n",
        "  'secondStagePressure': 22.4,\n",
        "  'thirdStagePressure': 5.7,\n",
        "  'fourthStagePressure': 1.96,\n",
        "  'firstStageSuctionCoolerTemperature': 45.0,\n",
        "  'secondStageSuctionCoolerTemperature': 40.0,\n",
        "  'thirdStageSuctionCoolerTemperature':designTemperatureProcessAfterSeaWaterCooler,\n",
        "  'dewPointSuctionCoolerTemperature':designTemperatureProcessAfterSeaWaterCooler,\n",
        "  'firstStageExportCoolerTemperature': designTemperatureProcessAfterSeaWaterCooler,\n",
        "  'secondStageExportCoolerTemperature': designTemperatureProcessAfterSeaWaterCooler,\n",
        "  'thirdStageExportCoolerTemperature': designTemperatureProcessAfterSeaWaterCooler,\n",
        "  'firststageexportpressure': 250.0,\n",
        "  'secondstageexportpressure': 474.0,\n",
        "  'thirdstageexportpressure': 633.0,\n",
        "}"
      ]
    },
    {
      "cell_type": "code",
      "execution_count": 34,
      "metadata": {
        "colab": {
          "base_uri": "https://localhost:8080/"
        },
        "id": "Ei7FBCFY3mVo",
        "outputId": "dad59d6d-9bfb-4303-e655-43217112c7c7"
      },
      "outputs": [
        {
          "output_type": "stream",
          "name": "stdout",
          "text": [
            "[1.0, 1.0, 1.0, 1.0, 1.0, 1.0, 1.0, 1.0, 1.0, 1.0, 1.0, 1.0, 1.0, 1.0, 1.0, 1.0, 1.0, 1.0, 1.0, 1.0, 1.0, 0.0]\n"
          ]
        }
      ],
      "source": [
        "from neqsim.thermo import fluid, printFrame\n",
        "from neqsim.process import compsplitter, compressor, splitter, cooler, separator3phase, getProcess, clearProcess, mixer, heater, stream, pump, separator, runProcess, stream, saturator, valve, filters, heatExchanger, simpleTEGAbsorber,distillationColumn, waterStripperColumn, recycle2, setpoint, calculator\n",
        "\n",
        "clearProcess()\n",
        "\n",
        "wellFluid = stream(productionriser.getOutStream().clone())\n",
        "#wellFluid.setFlowRate(1757595.58297715, 'kg/hr')\n",
        "\n",
        "feedTPsetter = heater(wellFluid)\n",
        "feedTPsetter.setName('inletTP')\n",
        "feedTPsetter.setOutPressure(inputdata['topsidePressure'], \"bara\")\n",
        "feedTPsetter.setOutTemperature(inputdata['topsideTemperature'], \"C\")\n",
        "\n",
        "feedToOffshoreProcess = stream(feedTPsetter.getOutStream())\n",
        "feedToOffshoreProcess.setName(\"feed to offshore\")\n",
        "\n",
        "firstStageSeparator = separator3phase(feedToOffshoreProcess)\n",
        "firstStageSeparator.setName(\"1st stage separator\")\n",
        "\n",
        "oilThrotValve = valve(firstStageSeparator.getOilOutStream())\n",
        "oilThrotValve.setName(\"valve oil from first stage\")\n",
        "oilThrotValve.setOutletPressure(inputdata['secondStagePressure'])\n",
        "\n",
        "oilThirdStageToMix2 =  stream(wellFluid.clone())\n",
        "oilThirdStageToMix2.setName(\"resyc oil to mixer 2\")\n",
        "\n",
        "HPMixer = mixer(\"HP oil mixer\")\n",
        "HPMixer.addStream(oilThrotValve.getOutStream())\n",
        "HPMixer.addStream(oilThirdStageToMix2)\n",
        "\n",
        "oilHeaterFromFirstStage = heater(HPMixer.getOutStream())\n",
        "oilHeaterFromFirstStage.setName(\"oil heater second stage\")\n",
        "oilHeaterFromFirstStage.setOutTemperature(inputdata['temperatureOilHeater'],'C')\n",
        "\n",
        "secondStageSeparator = separator3phase(oilHeaterFromFirstStage.getOutStream())\n",
        "secondStageSeparator.addStream(oilThirdStageToMix2)\n",
        "secondStageSeparator.setName(\"2nd stage separator\")\n",
        "\n",
        "oilHeaterFromSecondStage = heater(secondStageSeparator.getOilOutStream())\n",
        "oilHeaterFromSecondStage.setName(\"oil heater third stage\")\n",
        "oilHeaterFromSecondStage.setOutTemperature(inputdata['temperatureOilHeater2'],'C')\n",
        "\n",
        "oilThrotValve2 = valve(oilHeaterFromSecondStage.getOutStream())\n",
        "oilThrotValve2.setName(\"valve oil from second stage\")\n",
        "oilThrotValve2.setOutletPressure(inputdata['thirdStagePressure'])\n",
        "\n",
        "thirdStageSeparator = separator3phase(oilThrotValve2.getOutStream())\n",
        "thirdStageSeparator.setName(\"3rd stage separator\")\n",
        "\n",
        "oilThirdStageToSep =  stream(wellFluid.clone())\n",
        "oilThirdStageToSep.setName(\"resyc oil\")\n",
        "thirdStageSeparator.addStream(oilThirdStageToSep)\n",
        "\n",
        "oilThrotValve3 = valve(thirdStageSeparator.getOilOutStream())\n",
        "oilThrotValve3.setName(\"valve oil from third stage\")\n",
        "oilThrotValve3.setOutletPressure(inputdata['fourthStagePressure'])\n",
        "\n",
        "fourthStageSeparator = separator3phase(oilThrotValve3.getOutStream())\n",
        "fourthStageSeparator.setName(\"4th stage separator\")\n",
        "\n",
        "stableOil = stream(fourthStageSeparator.getOilOutStream())\n",
        "stableOil.setName(\"stable oil\")\n",
        "\n",
        "stableOilPump = pump(stableOil,15.0,\"stable oil pump\")\n",
        "\n",
        "firstStageCooler = cooler(fourthStageSeparator.getGasOutStream())\n",
        "firstStageCooler.setName(\"1st stage cooler\")\n",
        "firstStageCooler.setOutTemperature(inputdata['firstStageSuctionCoolerTemperature'],'C')\n",
        "\n",
        "firstStageScrubber = separator(firstStageCooler.getOutStream())\n",
        "firstStageScrubber.setName(\"1st stage scrubber\")\n",
        "\n",
        "firstStageCompressor = compressor(firstStageScrubber.getGasOutStream())\n",
        "firstStageCompressor.setName(\"1st stage compressor\")\n",
        "firstStageCompressor.setOutletPressure(inputdata['thirdStagePressure'])\n",
        "firstStageCompressor.setIsentropicEfficiency(0.75)\n",
        "\n",
        "secondstageGasMixer = mixer(\"seccond Stage mixer\")\n",
        "secondstageGasMixer.addStream(firstStageCompressor.getOutStream())\n",
        "secondstageGasMixer.addStream(thirdStageSeparator.getGasOutStream())\n",
        "\n",
        "secondStageCooler = cooler(secondstageGasMixer.getOutStream())\n",
        "secondStageCooler.setName(\"2nd stage cooler\")\n",
        "secondStageCooler.setOutTemperature(inputdata['secondStageSuctionCoolerTemperature'],'C')\n",
        "\n",
        "secondStageScrubber = separator(secondStageCooler.getOutStream())\n",
        "secondStageScrubber.setName(\"2nd stage scrubber\")\n",
        "\n",
        "secondStageCompressor = compressor(secondStageScrubber.getGasOutStream())\n",
        "secondStageCompressor.setName(\"2nd stage compressor\")\n",
        "secondStageCompressor.setOutletPressure(inputdata['secondStagePressure'])\n",
        "secondStageCompressor.setIsentropicEfficiency(0.75)\n",
        "\n",
        "thirdstageGasMixer = mixer(\"third Stage mixer\")\n",
        "thirdstageGasMixer.addStream(secondStageCompressor.getOutStream())\n",
        "thirdstageGasMixer.addStream(secondStageSeparator.getGasOutStream())\n",
        "\n",
        "thirdStageCooler = cooler(thirdstageGasMixer.getOutStream())\n",
        "thirdStageCooler.setName(\"3rd stage cooler\")\n",
        "thirdStageCooler.setOutTemperature(inputdata['thirdStageSuctionCoolerTemperature'],'C')\n",
        "\n",
        "thirdStageScrubber = separator(thirdStageCooler.getOutStream())\n",
        "thirdStageScrubber.setName(\"3rd stage scrubber\")\n",
        "\n",
        "thirdStageCompressor = compressor(thirdStageScrubber.getGasOutStream())\n",
        "thirdStageCompressor.setName(\"3rd stage compressor\")\n",
        "thirdStageCompressor.setOutletPressure(inputdata['topsidePressure'])\n",
        "thirdStageCompressor.setIsentropicEfficiency(0.75)\n",
        "\n",
        "richGasMixer = mixer(\"fourth Stage mixer\")\n",
        "richGasMixer.addStream(thirdStageCompressor.getOutStream())\n",
        "richGasMixer.addStream(firstStageSeparator.getGasOutStream())\n",
        "\n",
        "dewPointControlCooler = cooler(richGasMixer.getOutStream())\n",
        "dewPointControlCooler.setName(\"dew point cooler\")\n",
        "dewPointControlCooler.setOutTemperature(inputdata['dewPointSuctionCoolerTemperature'],'C')\n",
        "\n",
        "dewPointScrubber = separator(dewPointControlCooler.getOutStream())\n",
        "dewPointScrubber.setName(\"dew point scrubber\")\n",
        "\n",
        "lpLiqmixer = mixer(\"LP liq mixer\");\n",
        "lpLiqmixer.addStream(firstStageScrubber.getLiquidOutStream());\n",
        "lpLiqmixer.addStream(secondStageScrubber.getLiquidOutStream());\n",
        "lpLiqmixer.addStream(thirdStageScrubber.getLiquidOutStream());\n",
        "\n",
        "hpResycle = recycle2(\"HP liq resycle\")\n",
        "hpResycle.addStream(dewPointScrubber.getLiquidOutStream())\n",
        "hpResycle.setOutletStream(oilThirdStageToMix2)\n",
        "\n",
        "lpResycle = recycle2(\"LP liq resycle\")\n",
        "lpResycle.addStream(lpLiqmixer.getOutStream())\n",
        "lpResycle.setOutletStream(oilThirdStageToSep)\n",
        "\n",
        "compsplits = [1.0]*dewPointScrubber.getGasOutStream().getFluid().getNumberOfComponents()\n",
        "compsplits[-1] = 0.0\n",
        "print(compsplits)\n",
        "\n",
        "compsplitter =  compsplitter(dewPointScrubber.getGasOutStream(), compsplits, name=\"comp slitter\")\n",
        "\n",
        "dehydratedgas = stream(compsplitter.getSplitStream(0))\n",
        "\n",
        "streamSplit = splitter(dehydratedgas)\n",
        "streamSplit.setFlowRates(JDouble[:]([-1, 0.73]), 'MSm3/day')\n",
        "\n",
        "fuelgas = stream(streamSplit.getSplitStream(1))\n",
        "fuelgas.setName('fuelgas')\n",
        "\n",
        "exportCompressor1 = compressor(streamSplit.getSplitStream(0))\n",
        "exportCompressor1.setName(\"export 1st stage\")\n",
        "exportCompressor1.setOutletPressure(inputdata['firststageexportpressure'])\n",
        "exportCompressor1.setIsentropicEfficiency(0.75)\n",
        "\n",
        "exportCooler = cooler(exportCompressor1.getOutStream())\n",
        "exportCooler.setName(\"export cooler\")\n",
        "exportCooler.setOutTemperature(inputdata['secondStageExportCoolerTemperature'],'C')\n",
        "\n",
        "splitter = splitter(exportCooler.getOutStream())#, [0.5, 0.5])\n",
        "splitter.setFlowRates(JDouble[:]([5.0, -1]), 'MSm3/day')\n",
        "\n",
        "exportGas = stream(splitter.getSplitStream(0))\n",
        "exportGas.setName(\"export gas\")\n",
        "\n",
        "injectionGas = stream(splitter.getSplitStream(1))\n",
        "injectionGas.setName(\"injection gas\")\n",
        "\n",
        "injectionCompressor1= compressor(injectionGas)\n",
        "injectionCompressor1.setName(\"injetion 1st stage\")\n",
        "injectionCompressor1.setOutletPressure(inputdata['secondstageexportpressure'])\n",
        "injectionCompressor1.setIsentropicEfficiency(0.8)\n",
        "\n",
        "injectionCooler = cooler(injectionCompressor1.getOutStream())\n",
        "injectionCooler.setName(\"injection cooler 1\")\n",
        "injectionCooler.setOutTemperature(inputdata['secondStageExportCoolerTemperature'],'C')\n",
        "\n",
        "injectionCompressor2= compressor(injectionCooler.getOutStream())\n",
        "injectionCompressor2.setName(\"injetion 2nd stage\")\n",
        "injectionCompressor2.setOutletPressure(inputdata['thirdstageexportpressure'])\n",
        "injectionCompressor2.setIsentropicEfficiency(0.70)\n",
        "\n",
        "injectionCooler2 = cooler(injectionCompressor2.getOutStream())\n",
        "injectionCooler2.setName(\"injection cooler 2\")\n",
        "injectionCooler2.setOutTemperature(inputdata['thirdStageExportCoolerTemperature'],'C')\n",
        "\n",
        "oilprocess = getProcess()\n"
      ]
    },
    {
      "cell_type": "code",
      "execution_count": 35,
      "metadata": {
        "colab": {
          "base_uri": "https://localhost:8080/"
        },
        "id": "8_tTbuP55o73",
        "outputId": "140b6481-c35d-478b-cea7-22cd76aa72aa"
      },
      "outputs": [
        {
          "output_type": "stream",
          "name": "stdout",
          "text": [
            "flow rate water to sea  3.071633209823204  m3/hr\n",
            "flow rate water to sea  0.46369374935491087  kbbl/day\n",
            "oil in water  0.014551236104942689  ppm mole\n"
          ]
        }
      ],
      "source": [
        "# Water handeling\n",
        "waterfromFirstStage = firstStageSeparator.getWaterOutStream()\n",
        "waterfromSecondStage = secondStageSeparator.getWaterOutStream()\n",
        "waterfromThirdStage = thirdStageSeparator.getWaterOutStream()\n",
        "\n",
        "watermixer = mixer('water mixer')\n",
        "watermixer.addStream(waterfromFirstStage)\n",
        "#watermixer.addStream(waterfromSecondStage)\n",
        "#watermixer.addStream(waterfromThirdStage)\n",
        "watermixer.run()\n",
        "\n",
        "waterheater = heater(watermixer.getOutletStream())\n",
        "waterheater.setOutTemperature(30.0, 'C')\n",
        "waterheater.setOutPressure(2.0, 'bara')\n",
        "waterheater.run()\n",
        "\n",
        "waterdegaser = separator3phase(waterheater.getOutletStream())\n",
        "waterdegaser.run()\n",
        "\n",
        "waterratetosea =  waterdegaser.getWaterOutStream()\n",
        "\n",
        "print('flow rate water to sea ', waterratetosea.getFlowRate('kg/hr')/1000.0, ' m3/hr')\n",
        "print('flow rate water to sea ', waterratetosea.getFlowRate('kg/hr')/1000.0*6.29*24/1e3, ' kbbl/day')\n",
        "\n",
        "print('oil in water ', (1-0-waterratetosea.getFluid().getPhase(0).getComponent('water').getx())*1e6, ' ppm mole')"
      ]
    },
    {
      "cell_type": "code",
      "execution_count": 36,
      "metadata": {
        "id": "CL--SLYe4GWL"
      },
      "outputs": [],
      "source": [
        "#oilprocess.run() #run this to finish thread before continuing\n",
        "thread = oilprocess.runAsThread()\n",
        "thread.join(50000) # set maximum time to 50000 msec before continuing"
      ]
    },
    {
      "cell_type": "code",
      "execution_count": 37,
      "metadata": {
        "colab": {
          "base_uri": "https://localhost:8080/"
        },
        "id": "ox8QIyd4giQn",
        "outputId": "150aea10-2cfa-4480-940e-e19e9c526532"
      },
      "outputs": [
        {
          "output_type": "stream",
          "name": "stdout",
          "text": [
            "massbalance  99.99663185420923\n"
          ]
        }
      ],
      "source": [
        "# Check mass balance of oil and gas in simulation (should be ~100%)\n",
        "massbalance = (exportGas.getFlowRate('kg/hr') + injectionGas.getFlowRate('kg/hr') + stableOilPump.getOutStream().getFlowRate('kg/hr') + fuelgas.getFlowRate('kg/hr')) / (feedToOffshoreProcess.getFluid().getPhase('gas').getFlowRate('kg/hr') + feedToOffshoreProcess.getFluid().getPhase('oil').getFlowRate('kg/hr'))\n",
        "print('massbalance ' , massbalance*100)"
      ]
    },
    {
      "cell_type": "markdown",
      "metadata": {
        "id": "bMsT6QnSc4zg"
      },
      "source": [
        "water injection\n"
      ]
    },
    {
      "cell_type": "code",
      "execution_count": 29,
      "metadata": {
        "colab": {
          "base_uri": "https://localhost:8080/"
        },
        "id": "GCBhe5nxc708",
        "outputId": "fa1c13c6-eda4-40f2-ef8b-db5c176c96ee"
      },
      "outputs": [
        {
          "output_type": "stream",
          "name": "stdout",
          "text": [
            "water injection pump power  6076.895431969226  kW\n"
          ]
        }
      ],
      "source": [
        "waterStream = injectionWaterStream.clone()\n",
        "waterStream.setPressure(1.0, 'bara')\n",
        "waterStream.setTemperature(20.0, 'C')\n",
        "waterStream.run()\n",
        "\n",
        "waterpump = pump(waterStream)\n",
        "waterpump.setOutletPressure(500.0)\n",
        "\n",
        "waterpump.run()\n",
        "\n",
        "print('water injection pump power ', waterpump.getPower()/1e3, ' kW')"
      ]
    },
    {
      "cell_type": "code",
      "execution_count": 30,
      "metadata": {
        "colab": {
          "base_uri": "https://localhost:8080/"
        },
        "id": "waRZD5U9ByL7",
        "outputId": "f7f541c7-dcea-4a8f-ecc1-49fe6b3064c4"
      },
      "outputs": [
        {
          "output_type": "stream",
          "name": "stdout",
          "text": [
            "| 0                  | 1          | 2                  | 3                  | 4                  | 5   | 6               |\n",
            "|:-------------------|:-----------|:-------------------|:-------------------|:-------------------|:----|:----------------|\n",
            "|                    | total      | GAS                | OIL                | AQUEOUS            |     |                 |\n",
            "| nitrogen           | 1.03623E-2 | 2.70841E-2         | 3.05732E-3         | 2.713E-8           |     | [mole fraction] |\n",
            "| CO2                | 6.74624E-5 | 1.27729E-4         | 7.88121E-5         | 1.50173E-7         |     | [mole fraction] |\n",
            "| methane            | 3.20627E-1 | 7.40367E-1         | 2.13355E-1         | 1.13715E-6         |     | [mole fraction] |\n",
            "| ethane             | 9.89745E-2 | 1.58642E-1         | 1.50861E-1         | 7.60094E-9         |     | [mole fraction] |\n",
            "| propane            | 5.27234E-2 | 5.49201E-2         | 1.16342E-1         | 3.07913E-12        |     | [mole fraction] |\n",
            "| i-butane           | 7.58758E-3 | 5.55944E-3         | 1.95937E-2         | 1.02215E-15        |     | [mole fraction] |\n",
            "| n-butane           | 1.29059E-2 | 7.58236E-3         | 3.56061E-2         | 2.06634E-15        |     | [mole fraction] |\n",
            "| i-pentane          | 3.92346E-3 | 1.46829E-3         | 1.18419E-2         | 2.57091E-18        |     | [mole fraction] |\n",
            "| n-pentane          | 4.40681E-3 | 1.38868E-3         | 1.36175E-2         | 1.39922E-18        |     | [mole fraction] |\n",
            "| n-hexane           | 4.55586E-3 | 7.50195E-4         | 1.49116E-2         | 1.13193E-21        |     | [mole fraction] |\n",
            "| C7_PC              | 6.37927E-3 | 3.62318E-4         | 2.17165E-2         | 3.28195E-16        |     | [mole fraction] |\n",
            "| C8_PC              | 6.94726E-3 | 2.20516E-4         | 2.38617E-2         | 1.05641E-18        |     | [mole fraction] |\n",
            "| C9_PC              | 4.41525E-3 | 8.00107E-5         | 1.52382E-2         | 2.14095E-21        |     | [mole fraction] |\n",
            "| C10-C11_PC         | 9.38923E-3 | 7.66051E-5         | 3.25184E-2         | 1.20116E-24        |     | [mole fraction] |\n",
            "| C12-C13_PC         | 8.93938E-3 | 2.55114E-5         | 3.10181E-2         | 6.1015E-29         |     | [mole fraction] |\n",
            "| C14-C15_PC         | 8.49424E-3 | 8.02745E-6         | 2.94933E-2         | 6.5379E-33         |     | [mole fraction] |\n",
            "| C16-C18_PC         | 1.18261E-2 | 2.67747E-6         | 4.10723E-2         | 4.66464E-37        |     | [mole fraction] |\n",
            "| C19-C20_PC         | 7.17405E-3 | 3.6566E-7          | 2.49171E-2         | 7.79674E-41        |     | [mole fraction] |\n",
            "| C21-C23_PC         | 9.6115E-3  | 1.05961E-7         | 3.33834E-2         | 9.94475E-44        |     | [mole fraction] |\n",
            "| C24-C29_PC         | 1.50383E-2 | 1.15648E-8         | 5.22324E-2         | 8.62847E-48        |     | [mole fraction] |\n",
            "| C30_PC             | 3.15198E-2 | 2.49519E-12        | 1.09478E-1         | 1.63188E-57        |     | [mole fraction] |\n",
            "| water              | 3.64131E-1 | 1.33362E-3         | 5.80593E-3         | 9.99999E-1         |     | [mole fraction] |\n",
            "|                    |            |                    |                    |                    |     |                 |\n",
            "| Density            |            | 8.78897E1          | 7.93468E2          | 9.83544E2          |     | [kg/m^3]        |\n",
            "| PhaseFraction      |            | 3.50096E-1         | 2.87911E-1         | 3.61993E-1         |     | [mole fraction] |\n",
            "| MolarMass          | 5.80447E1  | 2.09815E1          | 1.53443E2          | 1.8015E1           |     | [kg/kmol]       |\n",
            "| Z factor           |            | 8.14039E-1         | 6.7332E-1          | 8.1874E-2          |     | [-]             |\n",
            "| Heat Capacity (Cp) |            | 2.89526E0          | 2.11797E0          | 4.79107E0          |     | [kJ/kg*K]       |\n",
            "| Heat Capacity (Cv) |            | 1.74605E0          | 1.94296E0          | 3.44495E0          |     | [kJ/kg*K]       |\n",
            "| Speed of Sound     |            | 3.8395E2           | 1.06446E3          | 3.23253E3          |     | [m/sec]         |\n",
            "| Enthalpy           | -4.62573E2 | -1.52596E1         | -2.43084E2         | -2.45333E3         |     | [kJ/kg]         |\n",
            "| Entropy            | -1.2092E0  | -1.37418E0         | -3.95441E-1        | -6.53611E0         |     | [kJ/kg*K]       |\n",
            "| JT coefficient     |            | 4.07806E-1         | -4.69454E-2        | -2.12894E-2        |     | [K/bar]         |\n",
            "|                    |            |                    |                    |                    |     |                 |\n",
            "| Viscosity          |            | 1.47618E-5         | 8.87359E-4         | 5.84497E-4         |     | [kg/m*sec]      |\n",
            "| Conductivity       |            | 4.3239E-2          | 1.2166E-1          | 6.42899E-1         |     | [W/m*K]         |\n",
            "| SurfaceTension     |            | 2.44637E-2         | 2.44637E-2         |                    |     | [N/m]           |\n",
            "|                    |            |                    | 9.93665E0          | 9.93665E0          |     | [N/m]           |\n",
            "|                    |            | 2.77041E0          |                    | 2.77041E0          |     | [N/m]           |\n",
            "|                    |            |                    |                    |                    |     |                 |\n",
            "| Pressure           |            | 90.0               | 90.0               | 90.0               |     | [bar]           |\n",
            "| Temperature        |            | 319.30999999999995 | 319.30999999999995 | 319.30999999999995 |     | [K]             |\n",
            "|                    |            |                    |                    |                    |     |                 |\n",
            "| Model              |            | SRK-EOS            | SRK-EOS            | SRK-EOS            |     | -               |\n",
            "| Mixing Rule        |            | classic            | classic            | classic            |     | -               |\n",
            "|                    |            |                    |                    |                    |     |                 |\n",
            "| Stream             |            |                    |                    |                    |     | -               |\n",
            "|                    |            |                    |                    |                    |     |                 |\n",
            "|                    |            |                    |                    |                    |     |                 |\n",
            "|                    |            |                    |                    |                    |     |                 |\n",
            "|                    |            |                    |                    |                    |     |                 |\n"
          ]
        }
      ],
      "source": [
        "from neqsim.thermo import fluid, printFrame\n",
        "printFrame(feedToOffshoreProcess.getFluid())"
      ]
    },
    {
      "cell_type": "code",
      "execution_count": 38,
      "metadata": {
        "colab": {
          "base_uri": "https://localhost:8080/"
        },
        "id": "J_AWKAkE4L-T",
        "outputId": "f256a8b7-5504-4e3b-84c9-b1a3347931ca"
      },
      "outputs": [
        {
          "output_type": "stream",
          "name": "stdout",
          "text": [
            "feed flow [kg/hr]  1.3308482022115424\n",
            "cricondenbar [bara]  108.93902671146728\n",
            "recomp power 1 [kW]  341.98458526077127\n",
            "recomp power 2 [kW]  1346.4779931588475\n",
            "recomp power 3 [kW]  3549.346015866531\n",
            "exp power 1 [kW]  9940.5317053054\n",
            "injection power 1 [kW]  1098.821040854483\n",
            "injection power 2 [kW]  712.7270970214172\n",
            "fuel gas [MSm3/d]  0.7300000000000006\n",
            "gas export [MSm3/d]  5.0\n",
            "inj gasflow [MSm3/d]  1.0412992127744047\n",
            "oil export [m3/hr]  1147.3627999031582\n",
            "oil export [kbbl/day]  173.2058882733808\n",
            "oil export [10^6*kg/hr]  0.9589949691998992\n",
            "oil density [kg/m3]  835.8253982792905\n"
          ]
        }
      ],
      "source": [
        "#TVP = stableOil.TVP(20.0, 'C')\n",
        "cricondenbar = exportGas.CCB('bara')\n",
        "powerComp1 = oilprocess.getUnit(\"1st stage compressor\").getPower()/1.0e3\n",
        "powerComp2 = oilprocess.getUnit(\"2nd stage compressor\").getPower()/1.0e3\n",
        "powerComp3 = oilprocess.getUnit(\"3rd stage compressor\").getPower()/1.0e3\n",
        "powerExpComp1 = oilprocess.getUnit(\"export 1st stage\").getPower()/1.0e3\n",
        "powerInjComp1 = oilprocess.getUnit(\"injetion 1st stage\").getPower()/1.0e3\n",
        "powerInjComp2 = oilprocess.getUnit(\"injetion 2nd stage\").getPower()/1.0e3\n",
        "\n",
        "\n",
        "flowRate = exportGas.getFlowRate('MSm3/day')\n",
        "fuelGasflowRate = fuelgas.getFlowRate('MSm3/day')\n",
        "injflowRate = oilprocess.getUnit(\"injetion 2nd stage\").getOutStream().getFlowRate('MSm3/day')\n",
        "flowRateOil = stableOilPump.getOutStream().getFlowRate('kg/hr')\n",
        "oildensity = stableOilPump.getOutStream().getFluid().getDensity('kg/m3')\n",
        "oilkbblperday = flowRateOil/oildensity*6.29*24/1e3\n",
        "\n",
        "print('feed flow [kg/hr] ', feedToOffshoreProcess.getFlowRate('kg/hr')/1e6)\n",
        "#print('TVP [bara] ', TVP)\n",
        "print('cricondenbar [bara] ', cricondenbar)\n",
        "print('recomp power 1 [kW] ', powerComp1)\n",
        "print('recomp power 2 [kW] ', powerComp2)\n",
        "print('recomp power 3 [kW] ', powerComp3)\n",
        "print('exp power 1 [kW] ', powerExpComp1)\n",
        "print('injection power 1 [kW] ', powerInjComp1)\n",
        "print('injection power 2 [kW] ', powerInjComp2)\n",
        "print('fuel gas [MSm3/d] ', fuelGasflowRate)\n",
        "print('gas export [MSm3/d] ', flowRate)\n",
        "print('inj gasflow [MSm3/d] ', injflowRate)\n",
        "print('oil export [m3/hr] ', flowRateOil/oildensity)\n",
        "print('oil export [kbbl/day] ', flowRateOil/oildensity*6.29*24/1e3)\n",
        "print('oil export [10^6*kg/hr] ', flowRateOil/1e6)\n",
        "print('oil density [kg/m3] ', oildensity)"
      ]
    },
    {
      "cell_type": "code",
      "execution_count": null,
      "metadata": {
        "colab": {
          "base_uri": "https://localhost:8080/"
        },
        "id": "1f4NKB1i5f4z",
        "outputId": "dfa394b1-c353-48ef-9df8-a64db620ad3f"
      },
      "outputs": [
        {
          "name": "stdout",
          "output_type": "stream",
          "text": [
            "saturation pressure @0C  69.08944702148438  [bara]\n"
          ]
        }
      ],
      "source": [
        "from neqsim import jNeqSim\n",
        "\n",
        "reservoirTemperature = 0.0 # C\n",
        "fluidsat = exportGas.getFluid().clone()\n",
        "fluidsat.removeComponent('water')\n",
        "fluidsat.setTemperature(reservoirTemperature, 'C')\n",
        "satSim = jNeqSim.PVTsimulation.simulation.SaturationPressure(fluidsat)\n",
        "satSim.run()\n",
        "print('saturation pressure @0C ', fluidsat.getPressure(), ' [bara]')"
      ]
    },
    {
      "cell_type": "code",
      "execution_count": null,
      "metadata": {
        "colab": {
          "base_uri": "https://localhost:8080/"
        },
        "id": "ld6TEyN24Ybr",
        "outputId": "222c8bc6-e411-4a6e-d17a-c8633592990a"
      },
      "outputs": [
        {
          "name": "stdout",
          "output_type": "stream",
          "text": [
            "| 0                  | 1           | 2           | 3   | 4   | 5   | 6               |\n",
            "|:-------------------|:------------|:------------|:----|:----|:----|:----------------|\n",
            "|                    | total       | GAS         |     |     |     |                 |\n",
            "| nitrogen           | 7.03161E-3  | 7.03161E-3  |     |     |     | [mole fraction] |\n",
            "| CO2                | 8.35019E-5  | 8.35019E-5  |     |     |     | [mole fraction] |\n",
            "| methane            | 8.13103E-1  | 8.13103E-1  |     |     |     | [mole fraction] |\n",
            "| ethane             | 9.54389E-2  | 9.54389E-2  |     |     |     | [mole fraction] |\n",
            "| propane            | 5.33057E-2  | 5.33057E-2  |     |     |     | [mole fraction] |\n",
            "| i-butane           | 8.46724E-3  | 8.46724E-3  |     |     |     | [mole fraction] |\n",
            "| n-butane           | 1.44218E-2  | 1.44218E-2  |     |     |     | [mole fraction] |\n",
            "| i-pentane          | 3.14474E-3  | 3.14474E-3  |     |     |     | [mole fraction] |\n",
            "| n-pentane          | 2.96287E-3  | 2.96287E-3  |     |     |     | [mole fraction] |\n",
            "| n-hexane           | 1.18744E-3  | 1.18744E-3  |     |     |     | [mole fraction] |\n",
            "| C7_PC              | 4.42821E-4  | 4.42821E-4  |     |     |     | [mole fraction] |\n",
            "| C8_PC              | 2.38264E-4  | 2.38264E-4  |     |     |     | [mole fraction] |\n",
            "| C9_PC              | 7.88846E-5  | 7.88846E-5  |     |     |     | [mole fraction] |\n",
            "| C10-C11_PC         | 6.68642E-5  | 6.68642E-5  |     |     |     | [mole fraction] |\n",
            "| C12-C13_PC         | 1.90954E-5  | 1.90954E-5  |     |     |     | [mole fraction] |\n",
            "| C14-C15_PC         | 5.17297E-6  | 5.17297E-6  |     |     |     | [mole fraction] |\n",
            "| C16-C18_PC         | 1.45476E-6  | 1.45476E-6  |     |     |     | [mole fraction] |\n",
            "| C19-C20_PC         | 1.71294E-7  | 1.71294E-7  |     |     |     | [mole fraction] |\n",
            "| C21-C23_PC         | 4.38681E-8  | 4.38681E-8  |     |     |     | [mole fraction] |\n",
            "| C24-C29_PC         | 4.06551E-9  | 4.06551E-9  |     |     |     | [mole fraction] |\n",
            "| C30_PC             | 6.10835E-13 | 6.10835E-13 |     |     |     | [mole fraction] |\n",
            "| water              | 0E0         | 0E0         |     |     |     | [mole fraction] |\n",
            "|                    |             |             |     |     |     |                 |\n",
            "| Density            |             | 2.40666E2   |     |     |     | [kg/m^3]        |\n",
            "| PhaseFraction      |             | 1E0         |     |     |     | [mole fraction] |\n",
            "| MolarMass          | 2.0434E1    | 2.0434E1    |     |     |     | [kg/kmol]       |\n",
            "| Z factor           |             | 8.39176E-1  |     |     |     | [-]             |\n",
            "| Heat Capacity (Cp) |             | 3.41202E0   |     |     |     | [kJ/kg*K]       |\n",
            "| Heat Capacity (Cv) |             | 1.89946E0   |     |     |     | [kJ/kg*K]       |\n",
            "| Speed of Sound     |             | 5.57948E2   |     |     |     | [m/sec]         |\n",
            "| Enthalpy           | -1.58969E2  | -1.58969E2  |     |     |     | [kJ/kg]         |\n",
            "| Entropy            | -2.25551E0  | -2.25551E0  |     |     |     | [kJ/kg*K]       |\n",
            "| JT coefficient     |             | 7.95259E-2  |     |     |     | [K/bar]         |\n",
            "|                    |             |             |     |     |     |                 |\n",
            "| Viscosity          |             | 2.73001E-5  |     |     |     | [kg/m*sec]      |\n",
            "| Conductivity       |             | 6.9551E-2   |     |     |     | [W/m*K]         |\n",
            "| SurfaceTension     |             |             |     |     |     | [N/m]           |\n",
            "|                    |             |             |     |     |     |                 |\n",
            "|                    |             |             |     |     |     |                 |\n",
            "|                    |             |             |     |     |     |                 |\n",
            "| Pressure           |             | 250.0       |     |     |     | [bar]           |\n",
            "| Temperature        |             | 309.15      |     |     |     | [K]             |\n",
            "|                    |             |             |     |     |     |                 |\n",
            "| Model              |             | SRK-EOS     |     |     |     | -               |\n",
            "| Mixing Rule        |             | classic     |     |     |     | -               |\n",
            "|                    |             |             |     |     |     |                 |\n",
            "| Stream             |             |             |     |     |     | -               |\n",
            "|                    |             |             |     |     |     |                 |\n",
            "|                    |             |             |     |     |     |                 |\n",
            "|                    |             |             |     |     |     |                 |\n",
            "|                    |             |             |     |     |     |                 |\n",
            "| 0                  | 1           | 2                  | 3   | 4   | 5   | 6               |\n",
            "|:-------------------|:------------|:-------------------|:----|:----|:----|:----------------|\n",
            "|                    | total       | OIL                |     |     |     |                 |\n",
            "| nitrogen           | 5.7335E-8   | 5.7335E-8          |     |     |     | [mole fraction] |\n",
            "| CO2                | 4.58851E-7  | 4.58851E-7         |     |     |     | [mole fraction] |\n",
            "| methane            | 3.01979E-4  | 3.01979E-4         |     |     |     | [mole fraction] |\n",
            "| ethane             | 3.04316E-3  | 3.04316E-3         |     |     |     | [mole fraction] |\n",
            "| propane            | 1.89057E-2  | 1.89057E-2         |     |     |     | [mole fraction] |\n",
            "| i-butane           | 1.11322E-2  | 1.11322E-2         |     |     |     | [mole fraction] |\n",
            "| n-butane           | 3.24203E-2  | 3.24203E-2         |     |     |     | [mole fraction] |\n",
            "| i-pentane          | 2.20407E-2  | 2.20407E-2         |     |     |     | [mole fraction] |\n",
            "| n-pentane          | 2.92495E-2  | 2.92495E-2         |     |     |     | [mole fraction] |\n",
            "| n-hexane           | 4.22585E-2  | 4.22585E-2         |     |     |     | [mole fraction] |\n",
            "| C7_PC              | 6.52426E-2  | 6.52426E-2         |     |     |     | [mole fraction] |\n",
            "| C8_PC              | 6.89026E-2  | 6.89026E-2         |     |     |     | [mole fraction] |\n",
            "| C9_PC              | 4.20163E-2  | 4.20163E-2         |     |     |     | [mole fraction] |\n",
            "| C10-C11_PC         | 8.3749E-2   | 8.3749E-2          |     |     |     | [mole fraction] |\n",
            "| C12-C13_PC         | 7.29893E-2  | 7.29893E-2         |     |     |     | [mole fraction] |\n",
            "| C14-C15_PC         | 6.35369E-2  | 6.35369E-2         |     |     |     | [mole fraction] |\n",
            "| C16-C18_PC         | 8.02101E-2  | 8.02101E-2         |     |     |     | [mole fraction] |\n",
            "| C19-C20_PC         | 4.49002E-2  | 4.49002E-2         |     |     |     | [mole fraction] |\n",
            "| C21-C23_PC         | 5.66971E-2  | 5.66971E-2         |     |     |     | [mole fraction] |\n",
            "| C24-C29_PC         | 8.35368E-2  | 8.35368E-2         |     |     |     | [mole fraction] |\n",
            "| C30_PC             | 1.67522E-1  | 1.67522E-1         |     |     |     | [mole fraction] |\n",
            "| water              | 1.13448E-2  | 1.13448E-2         |     |     |     | [mole fraction] |\n",
            "|                    |             |                    |     |     |     |                 |\n",
            "| Density            |             | 8.35516E2          |     |     |     | [kg/m^3]        |\n",
            "| PhaseFraction      |             | 1E0                |     |     |     | [mole fraction] |\n",
            "| MolarMass          | 2.47095E2   | 2.47095E2          |     |     |     | [kg/kmol]       |\n",
            "| Z factor           |             | 1.56074E-1         |     |     |     | [-]             |\n",
            "| Heat Capacity (Cp) |             | 2.20501E0          |     |     |     | [kJ/kg*K]       |\n",
            "| Heat Capacity (Cv) |             | 2.08314E0          |     |     |     | [kJ/kg*K]       |\n",
            "| Speed of Sound     |             | 1.10125E3          |     |     |     | [m/sec]         |\n",
            "| Enthalpy           | -1.75026E2  | -1.75026E2         |     |     |     | [kJ/kg]         |\n",
            "| Entropy            | -7.78451E-2 | -7.78451E-2        |     |     |     | [kJ/kg*K]       |\n",
            "| JT coefficient     |             | -4.56471E-2        |     |     |     | [K/bar]         |\n",
            "|                    |             |                    |     |     |     |                 |\n",
            "| Viscosity          |             | 3.29931E-3         |     |     |     | [kg/m*sec]      |\n",
            "| Conductivity       |             | 1.15971E-1         |     |     |     | [W/m*K]         |\n",
            "| SurfaceTension     |             |                    |     |     |     | [N/m]           |\n",
            "|                    |             |                    |     |     |     |                 |\n",
            "|                    |             |                    |     |     |     |                 |\n",
            "|                    |             |                    |     |     |     |                 |\n",
            "| Pressure           |             | 15.0               |     |     |     | [bar]           |\n",
            "| Temperature        |             | 357.07453643600513 |     |     |     | [K]             |\n",
            "|                    |             |                    |     |     |     |                 |\n",
            "| Model              |             | SRK-EOS            |     |     |     | -               |\n",
            "| Mixing Rule        |             | classic            |     |     |     | -               |\n",
            "|                    |             |                    |     |     |     |                 |\n",
            "| Stream             |             |                    |     |     |     | -               |\n",
            "|                    |             |                    |     |     |     |                 |\n",
            "|                    |             |                    |     |     |     |                 |\n",
            "|                    |             |                    |     |     |     |                 |\n",
            "|                    |             |                    |     |     |     |                 |\n",
            "| 0                  | 1           | 2           | 3   | 4   | 5   | 6               |\n",
            "|:-------------------|:------------|:------------|:----|:----|:----|:----------------|\n",
            "|                    | total       | GAS         |     |     |     |                 |\n",
            "| nitrogen           | 2.02794E-3  | 2.02794E-3  |     |     |     | [mole fraction] |\n",
            "| CO2                | 1.11328E-4  | 1.11328E-4  |     |     |     | [mole fraction] |\n",
            "| methane            | 5.68037E-1  | 5.68037E-1  |     |     |     | [mole fraction] |\n",
            "| ethane             | 1.76686E-1  | 1.76686E-1  |     |     |     | [mole fraction] |\n",
            "| propane            | 1.52804E-1  | 1.52804E-1  |     |     |     | [mole fraction] |\n",
            "| i-butane           | 2.77398E-2  | 2.77398E-2  |     |     |     | [mole fraction] |\n",
            "| n-butane           | 4.93273E-2  | 4.93273E-2  |     |     |     | [mole fraction] |\n",
            "| i-pentane          | 9.96819E-3  | 9.96819E-3  |     |     |     | [mole fraction] |\n",
            "| n-pentane          | 8.91901E-3  | 8.91901E-3  |     |     |     | [mole fraction] |\n",
            "| n-hexane           | 1.969E-3    | 1.969E-3    |     |     |     | [mole fraction] |\n",
            "| C7_PC              | 1.55695E-4  | 1.55695E-4  |     |     |     | [mole fraction] |\n",
            "| C8_PC              | 1.96701E-5  | 1.96701E-5  |     |     |     | [mole fraction] |\n",
            "| C9_PC              | 1.82227E-6  | 1.82227E-6  |     |     |     | [mole fraction] |\n",
            "| C10-C11_PC         | 3.1272E-7   | 3.1272E-7   |     |     |     | [mole fraction] |\n",
            "| C12-C13_PC         | 1.32226E-8  | 1.32226E-8  |     |     |     | [mole fraction] |\n",
            "| C14-C15_PC         | 5.34258E-10 | 5.34258E-10 |     |     |     | [mole fraction] |\n",
            "| C16-C18_PC         | 1.44597E-11 | 1.44597E-11 |     |     |     | [mole fraction] |\n",
            "| C19-C20_PC         | 1.68032E-13 | 1.68032E-13 |     |     |     | [mole fraction] |\n",
            "| C21-C23_PC         | 4.35303E-15 | 4.35303E-15 |     |     |     | [mole fraction] |\n",
            "| C24-C29_PC         | 8.59802E-18 | 8.59802E-18 |     |     |     | [mole fraction] |\n",
            "| C30_PC             | 4.14263E-27 | 4.14263E-27 |     |     |     | [mole fraction] |\n",
            "| water              | 2.23323E-3  | 2.23323E-3  |     |     |     | [mole fraction] |\n",
            "|                    |             |             |     |     |     |                 |\n",
            "| Density            |             | 2.70194E1   |     |     |     | [kg/m^3]        |\n",
            "| PhaseFraction      |             | 1E0         |     |     |     | [mole fraction] |\n",
            "| MolarMass          | 2.72957E1   | 2.72957E1   |     |     |     | [kg/kmol]       |\n",
            "| Z factor           |             | 8.82553E-1  |     |     |     | [-]             |\n",
            "| Heat Capacity (Cp) |             | 2.15962E0   |     |     |     | [kJ/kg*K]       |\n",
            "| Heat Capacity (Cv) |             | 1.63786E0   |     |     |     | [kJ/kg*K]       |\n",
            "| Speed of Sound     |             | 3.0994E2    |     |     |     | [m/sec]         |\n",
            "| Enthalpy           | 2.96948E1   | 2.96948E1   |     |     |     | [kJ/kg]         |\n",
            "| Entropy            | -4.05295E-1 | -4.05295E-1 |     |     |     | [kJ/kg*K]       |\n",
            "| JT coefficient     |             | 8.38306E-1  |     |     |     | [K/bar]         |\n",
            "|                    |             |             |     |     |     |                 |\n",
            "| Viscosity          |             | 1.1169E-5   |     |     |     | [kg/m*sec]      |\n",
            "| Conductivity       |             | 3.0653E-2   |     |     |     | [W/m*K]         |\n",
            "| SurfaceTension     |             |             |     |     |     | [N/m]           |\n",
            "|                    |             |             |     |     |     |                 |\n",
            "|                    |             |             |     |     |     |                 |\n",
            "|                    |             |             |     |     |     |                 |\n",
            "| Pressure           |             | 22.4        |     |     |     | [bar]           |\n",
            "| Temperature        |             | 309.15      |     |     |     | [K]             |\n",
            "|                    |             |             |     |     |     |                 |\n",
            "| Model              |             | SRK-EOS     |     |     |     | -               |\n",
            "| Mixing Rule        |             | classic     |     |     |     | -               |\n",
            "|                    |             |             |     |     |     |                 |\n",
            "| Stream             |             |             |     |     |     | -               |\n",
            "|                    |             |             |     |     |     |                 |\n",
            "|                    |             |             |     |     |     |                 |\n",
            "|                    |             |             |     |     |     |                 |\n",
            "|                    |             |             |     |     |     |                 |\n"
          ]
        }
      ],
      "source": [
        "from neqsim.thermo import fluid, printFrame\n",
        "printFrame(exportGas.getFluid())\n",
        "printFrame(stableOilPump.getOutStream().getFluid())\n",
        "printFrame(thirdStageScrubber.getGasOutStream().getFluid())"
      ]
    },
    {
      "cell_type": "markdown",
      "metadata": {
        "id": "18KBpM9JAO6m"
      },
      "source": [
        "## calculation of ORF factors"
      ]
    },
    {
      "cell_type": "markdown",
      "metadata": {
        "id": "LtXYwoSA-WmU"
      },
      "source": []
    },
    {
      "cell_type": "code",
      "execution_count": null,
      "metadata": {
        "colab": {
          "base_uri": "https://localhost:8080/"
        },
        "id": "EtGlIyUj-E9A",
        "outputId": "5675c007-ede3-4e14-d00c-fe14de2d0d01"
      },
      "outputs": [
        {
          "name": "stdout",
          "output_type": "stream",
          "text": [
            "ORF.......................\n",
            "ORF  nitrogen   1.7355375698703026e-06\n",
            "ORF  CO2   0.0011681497852984411\n",
            "ORF  methane   7.904347495164078e-05\n",
            "ORF  ethane   0.006741029302419391\n",
            "ORF  propane   0.0701874604725518\n",
            "ORF  i-butane   0.2186231424625023\n",
            "ORF  n-butane   0.3235781982119941\n",
            "ORF  i-pentane   0.5985752787688043\n",
            "ORF  n-pentane   0.6774391277469581\n",
            "ORF  n-hexane   0.8833297365340528\n",
            "ORF  C7_PC   0.9690885578578582\n",
            "ORF  C8_PC   0.9840103230549445\n",
            "ORF  C9_PC   0.9912551213012379\n",
            "ORF  C10-C11_PC   0.9962626844581206\n",
            "ORF  C12-C13_PC   0.998772307931325\n",
            "ORF  C14-C15_PC   0.9996176251943801\n",
            "ORF  C16-C18_PC   0.9999147965536379\n",
            "ORF  C19-C20_PC   0.9999820769470477\n",
            "ORF  C21-C23_PC   0.9999963649566807\n",
            "ORF  C24-C29_PC   0.9999997713571901\n",
            "ORF  C30_PC   0.9999999999829406\n",
            "ORF  water   0.029551503628945854\n",
            "overall oil recovery factor  0.7225971583023082  [kg oil/kg HC feed]\n"
          ]
        }
      ],
      "source": [
        "componentNames = wellFluid.getFluid().getComponentNames()\n",
        "oilRecoveryFactors = []\n",
        "totalHC = 0.0\n",
        "print ('ORF.......................')\n",
        "for name in componentNames:\n",
        "  total = wellFluid.getFluid().getComponent(name).getTotalFlowRate('kg/hr')\n",
        "  ORF = stableOil.getFluid().getComponent(name).getTotalFlowRate('kg/hr')/total\n",
        "  oilRecoveryFactors.append(ORF)\n",
        "  print('ORF ', name, ' ', ORF)\n",
        "  if wellFluid.getFluid().getComponent(name).isHydrocarbon():\n",
        "    totalHC = totalHC + wellFluid.getFluid().getComponent(name).getTotalFlowRate('kg/hr')\n",
        "\n",
        "overallORF = stableOil.getFlowRate('kg/hr')/totalHC\n",
        "\n",
        "print('overall oil recovery factor ', overallORF, ' [kg oil/kg HC feed]')"
      ]
    },
    {
      "cell_type": "markdown",
      "metadata": {
        "id": "5FuFDjGdyE7F"
      },
      "source": [
        "## Power generation"
      ]
    },
    {
      "cell_type": "markdown",
      "metadata": {
        "id": "ACljRcqhyK4k"
      },
      "source": [
        "Total power requirements"
      ]
    },
    {
      "cell_type": "code",
      "execution_count": null,
      "metadata": {
        "colab": {
          "base_uri": "https://localhost:8080/"
        },
        "id": "KP-caCVGyM2E",
        "outputId": "cb3da8c6-7a6c-4757-ceb5-ab1f332b842f"
      },
      "outputs": [
        {
          "name": "stdout",
          "output_type": "stream",
          "text": [
            "total power need  52.857016077805106  MW\n",
            "total heat need  -39.30203046388925  MW\n",
            "total cooling need  -70.2806931149434  MW\n",
            "water injection power  6.076908450559199  MW\n",
            "GCV of export gas  48.78391544962622  MJ/Sm3\n",
            "power production efficiency  30.0 %\n",
            "gas needed for power production  0.3120458964825569  MSm3/day\n"
          ]
        }
      ],
      "source": [
        "waterinjectionpumpduty = waterpump.getDuty()/1e6\n",
        "totalPowerNeed = oilprocess.getPower('MW')+waterinjectionpumpduty\n",
        "totalHeatNeed = oilprocess.getHeaterDuty('W')/1e6\n",
        "totalCoolingNeed = oilprocess.getCoolerDuty('W')/1e6\n",
        "print('total power need ', totalPowerNeed, ' MW')\n",
        "print('total heat need ', totalHeatNeed, ' MW')\n",
        "print('total cooling need ', totalCoolingNeed, ' MW')\n",
        "\n",
        "print('water injection power ', waterinjectionpumpduty, ' MW')\n",
        "GCV = exportGas.GCV()/1e6\n",
        "print('GCV of export gas ', GCV, ' MJ/Sm3')\n",
        "powerProductionEfficicency = 0.3\n",
        "print('power production efficiency ', powerProductionEfficicency*100 , '%')\n",
        "gasforpowerproduction = totalPowerNeed/GCV/powerProductionEfficicency*3600/1e6*24\n",
        "\n",
        "print('gas needed for power production ', gasforpowerproduction, ' MSm3/day')\n",
        "\n",
        "\n",
        "\n"
      ]
    },
    {
      "cell_type": "markdown",
      "metadata": {
        "id": "StnN3m47F6q5"
      },
      "source": [
        "### Gas Turbine Design"
      ]
    },
    {
      "cell_type": "code",
      "execution_count": null,
      "metadata": {
        "id": "7DooCW9eGAAA"
      },
      "outputs": [],
      "source": [
        "#to be implemented\n",
        "stoichmetricair = 1.0"
      ]
    },
    {
      "cell_type": "markdown",
      "metadata": {
        "id": "H3ikTLlB35ia"
      },
      "source": [
        "## Oil and Gas quality"
      ]
    },
    {
      "cell_type": "markdown",
      "metadata": {
        "id": "ceyLgJKI3-dh"
      },
      "source": [
        "...check if oil and gas quality is according to design"
      ]
    },
    {
      "cell_type": "markdown",
      "metadata": {
        "id": "yojpbv48Gi2h"
      },
      "source": [
        "## Process equipment design"
      ]
    },
    {
      "cell_type": "code",
      "execution_count": null,
      "metadata": {
        "colab": {
          "base_uri": "https://localhost:8080/"
        },
        "id": "YVy_FaLZLAol",
        "outputId": "3d4ee616-5035-4927-90b6-9581cd9f8b93"
      },
      "outputs": [
        {
          "name": "stdout",
          "output_type": "stream",
          "text": [
            "total volume  102.0  m3\n",
            "total weight  inf  kg\n",
            "first stage separator inner diameter  2.2906942315762167  meter\n"
          ]
        }
      ],
      "source": [
        "design = jNeqSim.processSimulation.mechanicalDesign.SystemMechanicalDesign(oilprocess)\n",
        "design.runDesignCalculation()\n",
        "print('total volume ', design.getTotalVolume(), ' m3')\n",
        "print('total weight ', design.getTotalWeight(), ' kg')\n",
        "\n",
        "print('first stage separator inner diameter ', firstStageSeparator.getMechanicalDesign().innerDiameter, ' meter')"
      ]
    },
    {
      "cell_type": "code",
      "execution_count": null,
      "metadata": {
        "id": "IpoRNPqbKvUH"
      },
      "outputs": [],
      "source": [
        "## inlet separator\n"
      ]
    },
    {
      "cell_type": "markdown",
      "metadata": {
        "id": "OrTcHvCNBEy1"
      },
      "source": [
        "## Emissions"
      ]
    },
    {
      "cell_type": "markdown",
      "metadata": {
        "id": "ZQXlyTAQBIMN"
      },
      "source": [
        "Calculation of process efficiency and emissions\n",
        "\n",
        "https://www.ssb.no/_attachment/288060/binary/93858?_version=539789\n",
        "\n",
        "https://www.ssb.no/en/forskning/discussion-papers/_attachment/225118?_ts=14de17b6918"
      ]
    },
    {
      "cell_type": "code",
      "execution_count": null,
      "metadata": {
        "colab": {
          "base_uri": "https://localhost:8080/"
        },
        "id": "nHfOjCiYBYT3",
        "outputId": "3be7cd6c-30aa-44d2-8d29-230823f2197c"
      },
      "outputs": [
        {
          "name": "stdout",
          "output_type": "stream",
          "text": [
            "gas export [MSm3/d]  5.999999999999999\n",
            "oil export [m3/hr]  1488.030730986197\n",
            "production  35712.74354366873 oe/day\n",
            "Co2 efficiency  12.232727360791866  kg CO2/m3 oe\n",
            "Co2 efficiency  1.9448515629736822  kg CO2/fat oe\n"
          ]
        }
      ],
      "source": [
        "print('gas export [MSm3/d] ', flowRate)\n",
        "print('oil export [m3/hr] ', flowRateOil/oildensity)\n",
        "\n",
        "totalproductionoe = flowRate/1e3 + flowRateOil/oildensity*24\n",
        "\n",
        "print('production ', totalproductionoe, 'oe/day')\n",
        "\n",
        "emissionFactor = 2.0 #tonn CO2/ tons NG\n",
        "gasdensity = 0.7 # kg/Sm3\n",
        "CO2emission = gasforpowerproduction*gasdensity*1e6*emissionFactor/totalproductionoe\n",
        "\n",
        "fatperm3 = 6.2898\n",
        "print('Co2 efficiency ', CO2emission, ' kg CO2/m3 oe')\n",
        "print('Co2 efficiency ', CO2emission/fatperm3, ' kg CO2/fat oe')"
      ]
    },
    {
      "cell_type": "markdown",
      "metadata": {
        "id": "rnqyxV-tZpFd"
      },
      "source": [
        "#8. Gas export pipeline"
      ]
    },
    {
      "cell_type": "code",
      "execution_count": null,
      "metadata": {
        "id": "IixP4RfL8MGX"
      },
      "outputs": [],
      "source": [
        "import neqsim\n",
        "from neqsim.thermo.thermoTools import *\n",
        "import matplotlib\n",
        "import numpy as np\n",
        "import matplotlib.pyplot as plt\n",
        "import math\n",
        "plt.style.use('classic')\n",
        "%matplotlib inline"
      ]
    },
    {
      "cell_type": "code",
      "execution_count": null,
      "metadata": {
        "colab": {
          "base_uri": "https://localhost:8080/"
        },
        "id": "XYYhknwl8Q8p",
        "outputId": "056c2659-711b-438f-fd2c-0f7b221b94d9"
      },
      "outputs": [
        {
          "name": "stdout",
          "output_type": "stream",
          "text": [
            "inlet flow rate  5.999999999999999\n",
            "inlet pressure  250.0\n",
            "outlet pressure  226.0499497959108\n",
            "outlet temperature  4.754364683842425\n",
            "outlet velocity  4.754364683842425\n"
          ]
        }
      ],
      "source": [
        "from neqsim import methods\n",
        "from neqsim.thermo import fluid, TPflash, createfluid2\n",
        "from neqsim.process import pipe, pipeline, clearProcess, stream, runProcess\n",
        "\n",
        "#Creating stream and pipeline\n",
        "clearProcess()\n",
        "stream1 = stream(exportGas.getFluid().clone())\n",
        "#stream1.setFlowRate(7.0, 'MSm3/day') # Uncomment to test alternative flow rates\n",
        "stream1.run()\n",
        "\n",
        "diam = 17*0.025\n",
        "diameter = [diam, diam, diam, diam, diam] #meter\n",
        "roughnes = [5.0e-6, 5.0e-6, 5.0e-6, 5.0e-6, 5.0e-6] #meter\n",
        "position = [0.0, 5000.0, 10000.0, 20000.0, 270000.0] #meter\n",
        "height = [0.0, -2165.0, -2100.0, -900.0, 0.0] #meter\n",
        "outtemperatures =[278.15, 278.15, 278.15, 278.15, 278.15] #Kelvin\n",
        "outHeatU = [25.0, 25.0, 25.0, 25.0, 25.0] #W/m2K\n",
        "wallHeatU = [35.0, 35.0, 35.0, 35.0, 35.0] #W/m2K\n",
        "\n",
        "pipe1 = pipeline(stream1, position, diameter, height, outtemperatures, roughnes,outHeatU,wallHeatU)\n",
        "pipe1.setNumberOfNodesInLeg(10)\n",
        "runProcess()\n",
        "numberofnodes = pipe1.getPipe().getTotalNumberOfNodes()\n",
        "print('inlet flow rate ', stream1.getFlowRate('MSm3/day'))\n",
        "print('inlet pressure ', stream1.getPressure('bara'))\n",
        "print('outlet pressure ', pipe1.getPipe().getNode(numberofnodes-1).getBulkSystem().getPressure('bara'))\n",
        "print('outlet temperature ', pipe1.getPipe().getNode(numberofnodes-1).getBulkSystem().getTemperature('C'))\n",
        "print('outlet velocity ', pipe1.getPipe().getNode(numberofnodes-1).getBulkSystem().getTemperature('C'))"
      ]
    },
    {
      "cell_type": "code",
      "execution_count": null,
      "metadata": {
        "colab": {
          "base_uri": "https://localhost:8080/"
        },
        "id": "2gPrQ1XR8d4M",
        "outputId": "47097a18-60b0-41f4-d33e-3f8ffbaa0a1c"
      },
      "outputs": [
        {
          "data": {
            "text/plain": [
              "Text(0.5, 0, 'position [meter]')"
            ]
          },
          "execution_count": 58,
          "metadata": {},
          "output_type": "execute_result"
        },
        {
          "data": {
            "image/png": "[encoded data removed]",
            "text/plain": [
              "<Figure size 960x960 with 2 Axes>"
            ]
          },
          "metadata": {},
          "output_type": "display_data"
        },
        {
          "data": {
            "image/png": "[encoded data removed]",
            "text/plain": [
              "<Figure size 960x960 with 1 Axes>"
            ]
          },
          "metadata": {},
          "output_type": "display_data"
        },
        {
          "data": {
            "image/png": "[encoded data removed]",
            "text/plain": [
              "<Figure size 960x960 with 1 Axes>"
            ]
          },
          "metadata": {},
          "output_type": "display_data"
        },
        {
          "data": {
            "image/png": "[encoded data removed]",
            "text/plain": [
              "<Figure size 960x960 with 1 Axes>"
            ]
          },
          "metadata": {},
          "output_type": "display_data"
        }
      ],
      "source": [
        "pres = []\n",
        "temp = []\n",
        "length = []\n",
        "height = []\n",
        "calcdensity = []\n",
        "gasvelocity = []\n",
        "\n",
        "for node in range (0,pipe1.getPipe().getTotalNumberOfNodes()-1):\n",
        "  pres.append(pipe1.getPipe().getNode(node).getBulkSystem().getPressure('bara'))\n",
        "  temp.append(pipe1.getPipe().getNode(node).getBulkSystem().getTemperature('C'))\n",
        "  height.append(pipe1.getPipe().getNode(node).getVerticalPositionOfNode())\n",
        "  length.append(pipe1.getPipe().getNode(node).getDistanceToCenterOfNode())\n",
        "  calcdensity.append(pipe1.getPipe().getNode(node).getBulkSystem().getDensity('kg/m3'))\n",
        "  gasvelocity.append(pipe1.getPipe().getNode(node).getVelocity())\n",
        "\n",
        "plt.rcParams['figure.figsize'] = [12, 12]\n",
        "plt.figure()\n",
        "plt.subplot(5, 1, 1)\n",
        "plt.plot(length, pres, '-')\n",
        "plt.ylabel('Pressure [bara]')\n",
        "plt.xlabel('Length [meter]')\n",
        "\n",
        "plt.subplot(5, 1, 2)\n",
        "plt.plot(length, temp)\n",
        "plt.xlabel('Length [meter]')\n",
        "plt.ylabel('Temperature[C]')\n",
        "\n",
        "plt.figure()\n",
        "plt.subplot(5, 1, 3)\n",
        "plt.plot(length, calcdensity, '-')\n",
        "plt.ylabel('Density [kg/m3]')\n",
        "plt.xlabel('Length [meter]')\n",
        "\n",
        "plt.figure()\n",
        "plt.subplot(5, 1, 4)\n",
        "plt.plot(length, gasvelocity, '-')\n",
        "plt.ylabel('gasvelocity [m/sec]')\n",
        "plt.xlabel('Length [meter]')\n",
        "\n",
        "plt.figure()\n",
        "plt.subplot(5, 1, 5)\n",
        "plt.plot(length, height, '-')\n",
        "plt.ylabel('height [meter]')\n",
        "plt.xlabel('position [meter]')"
      ]
    },
    {
      "cell_type": "markdown",
      "metadata": {
        "id": "PBI9dCQoaHAf"
      },
      "source": [
        "#9. Onshore process"
      ]
    },
    {
      "cell_type": "markdown",
      "metadata": {
        "id": "fvY3C8cd4bLw"
      },
      "source": [
        "## Process design specifications"
      ]
    },
    {
      "cell_type": "markdown",
      "metadata": {
        "id": "EEe8UoY74e5Q"
      },
      "source": [
        "...process design specifications"
      ]
    },
    {
      "cell_type": "code",
      "execution_count": null,
      "metadata": {
        "id": "WB_sJC1d8O_n"
      },
      "outputs": [],
      "source": [
        "#contractGas = BaseContract(exportgas, \"central\", \"Brazil\")\n",
        "#contractGas.runCheck();\n",
        "#printtable(contractGas.getResultTable())\n",
        "\n",
        "#contractLPG = BaseContract(lpgstream, \"centralLPG\", \"Brazil\")\n",
        "#contractLPG.runCheck();\n",
        "#printtable(contractLPG.getResultTable())"
      ]
    },
    {
      "cell_type": "markdown",
      "metadata": {
        "id": "Ll2N08PmaUPj"
      },
      "source": [
        "## onshore process simulations"
      ]
    },
    {
      "cell_type": "code",
      "execution_count": null,
      "metadata": {
        "id": "LnyfqWPpajm7"
      },
      "outputs": [],
      "source": [
        "#NGL expander code\n",
        "from neqsim.process import expander, heater, compsplitter, separator, heatExchanger\n",
        "\n",
        "pressureNGL = 50.6\n",
        "onshoreplant_inlet_pressure = 110.0\n",
        "onshoreplant_inlet_temperature = 20.0\n",
        "\n",
        "clearProcess()\n",
        "\n",
        "inletheater = heater(pipe1.getOutStream())\n",
        "inletheater.setOutPressure(onshoreplant_inlet_pressure, 'bara')\n",
        "inletheater.setOutTemperature(onshoreplant_inlet_temperature, 'C')\n",
        "\n",
        "heatEx = heatExchanger(inletheater.getOutStream())\n",
        "heatEx.setName(\"cross heat-exchanger\")\n",
        "heatEx.setGuessOutTemperature(273.15 - 30.0)\n",
        "heatEx.setUAvalue(3000e3) #assumes an UA vlue of 3000 MW/m2K\n",
        "\n",
        "expanderKarsto = expander(heatEx.getOutStream(0), pressureNGL)\n",
        "expanderKarsto.setOutletPressure(pressureNGL)\n",
        "expanderKarsto.setIsentropicEfficiency(0.75) # assume same efficiency as for compressors\n",
        "\n",
        "scrubberNGL = separator(expanderKarsto.getOutletStream())\n",
        "\n",
        "recyOut = stream(scrubberNGL.getGasOutStream().clone())\n",
        "\n",
        "gasResycle = recycle2(\"gas resycle\")\n",
        "gasResycle.addStream(scrubberNGL.getGasOutStream())\n",
        "gasResycle.setOutletStream(recyOut)\n",
        "\n",
        "heatEx.setFeedStream(1, recyOut)\n",
        "\n",
        "gasfromdeethanizer = stream(heatEx.getOutStream(1).clone())\n",
        "\n",
        "gasmixer = mixer('gas mixer')\n",
        "gasmixer.addStream(heatEx.getOutStream(1))\n",
        "gasmixer.addStream(gasfromdeethanizer)\n",
        "\n",
        "dryGasExportCompressor = compressor(gasmixer.getOutletStream())\n",
        "dryGasExportCompressor.setOutletPressure(100.0, 'bara')\n",
        "dryGasExportCompressor.setIsentropicEfficiency(0.75)\n",
        "\n",
        "exportDryGas = stream(dryGasExportCompressor.getOutStream())\n",
        "\n",
        "NGLvalve1 = valve(scrubberNGL.getLiquidOutStream())\n",
        "NGLvalve1.setOutletPressure(30.0)\n",
        "\n",
        "#FRACTIONATION PROCESS\n",
        "deethanizer = distillationColumn(trays=5, reboil=True, condenser=False, name=\"deethanizer\")\n",
        "deethanizer.addFeedStream(NGLvalve1.getOutStream(),5)\n",
        "deethanizer.getReboiler().setOutTemperature(273.15+105.0)\n",
        "deethanizer.setTopPressure(30.0)\n",
        "deethanizer.setBottomPressure(32.0)\n",
        "\n",
        "compressorgasdeethanizer = compressor(deethanizer.getGasOutStream())\n",
        "compressorgasdeethanizer.setOutletPressure(pressureNGL, 'bara')\n",
        "\n",
        "nglGasResycle = recycle2(\"gas resycle 2\")\n",
        "nglGasResycle.addStream(compressorgasdeethanizer.getOutStream())\n",
        "nglGasResycle.setOutletStream(gasfromdeethanizer)\n",
        "\n",
        "valvetodebutanizer = valve(deethanizer.getLiquidOutStream())\n",
        "valvetodebutanizer.setOutletPressure(14.0)\n",
        "\n",
        "debutanizer = distillationColumn(trays=10, reboil=True, condenser=True, name=\"debutanizer\")\n",
        "debutanizer.addFeedStream(valvetodebutanizer.getOutStream(),9)\n",
        "debutanizer.getCondenser().setRefluxRatio(0.1)\n",
        "debutanizer.getCondenser().setTotalCondenser(True)\n",
        "debutanizer.getReboiler().setOutTemperature(273.15+163.0);\n",
        "debutanizer.setTopPressure(12.8)\n",
        "debutanizer.setBottomPressure(15.0)\n",
        "\n",
        "onshoreprocess = getProcess()"
      ]
    },
    {
      "cell_type": "code",
      "execution_count": null,
      "metadata": {
        "id": "8iGmLVT6jd3l"
      },
      "outputs": [],
      "source": [
        "thread = onshoreprocess.runAsThread()\n",
        "thread.join(60 * 60 * 1000)   # 60 min maks tid"
      ]
    },
    {
      "cell_type": "code",
      "execution_count": null,
      "metadata": {
        "colab": {
          "base_uri": "https://localhost:8080/"
        },
        "id": "yLCpv7JmMr86",
        "outputId": "57139ab5-aa52-4d76-cbb5-dc7e0365237f"
      },
      "outputs": [
        {
          "name": "stdout",
          "output_type": "stream",
          "text": [
            "mass lost %  2.86400727010578\n"
          ]
        }
      ],
      "source": [
        "#mass balance onshore process should be close to 0% lost\n",
        "massbalanceonshore = (pipe1.getOutStream().getFlowRate('kg/hr') - exportDryGas.getFlowRate('kg/hr') - debutanizer.getLiquidOutStream().getFlowRate('kg/hr') - debutanizer.getGasOutStream().getFlowRate('kg/hr') )/pipe1.getOutStream().getFlowRate('kg/hr')\n",
        "\n",
        "print('mass lost % ',massbalanceonshore*100)"
      ]
    },
    {
      "cell_type": "code",
      "execution_count": null,
      "metadata": {
        "colab": {
          "base_uri": "https://localhost:8080/"
        },
        "id": "YuS6lu2K6y-u",
        "outputId": "ea9c092a-7505-478f-e1dd-319e544478e4"
      },
      "outputs": [
        {
          "name": "stdout",
          "output_type": "stream",
          "text": [
            "feed gas\n",
            "| 0                  | 1           | 2           | 3   | 4   | 5   | 6               |\n",
            "|:-------------------|:------------|:------------|:----|:----|:----|:----------------|\n",
            "|                    | total       | GAS         |     |     |     |                 |\n",
            "| nitrogen           | 7.03161E-3  | 7.03161E-3  |     |     |     | [mole fraction] |\n",
            "| CO2                | 8.35019E-5  | 8.35019E-5  |     |     |     | [mole fraction] |\n",
            "| methane            | 8.13103E-1  | 8.13103E-1  |     |     |     | [mole fraction] |\n",
            "| ethane             | 9.54389E-2  | 9.54389E-2  |     |     |     | [mole fraction] |\n",
            "| propane            | 5.33057E-2  | 5.33057E-2  |     |     |     | [mole fraction] |\n",
            "| i-butane           | 8.46724E-3  | 8.46724E-3  |     |     |     | [mole fraction] |\n",
            "| n-butane           | 1.44218E-2  | 1.44218E-2  |     |     |     | [mole fraction] |\n",
            "| i-pentane          | 3.14474E-3  | 3.14474E-3  |     |     |     | [mole fraction] |\n",
            "| n-pentane          | 2.96287E-3  | 2.96287E-3  |     |     |     | [mole fraction] |\n",
            "| n-hexane           | 1.18744E-3  | 1.18744E-3  |     |     |     | [mole fraction] |\n",
            "| C7_PC              | 4.42821E-4  | 4.42821E-4  |     |     |     | [mole fraction] |\n",
            "| C8_PC              | 2.38264E-4  | 2.38264E-4  |     |     |     | [mole fraction] |\n",
            "| C9_PC              | 7.88846E-5  | 7.88846E-5  |     |     |     | [mole fraction] |\n",
            "| C10-C11_PC         | 6.68642E-5  | 6.68642E-5  |     |     |     | [mole fraction] |\n",
            "| C12-C13_PC         | 1.90954E-5  | 1.90954E-5  |     |     |     | [mole fraction] |\n",
            "| C14-C15_PC         | 5.17297E-6  | 5.17297E-6  |     |     |     | [mole fraction] |\n",
            "| C16-C18_PC         | 1.45476E-6  | 1.45476E-6  |     |     |     | [mole fraction] |\n",
            "| C19-C20_PC         | 1.71294E-7  | 1.71294E-7  |     |     |     | [mole fraction] |\n",
            "| C21-C23_PC         | 4.38681E-8  | 4.38681E-8  |     |     |     | [mole fraction] |\n",
            "| C24-C29_PC         | 4.06551E-9  | 4.06551E-9  |     |     |     | [mole fraction] |\n",
            "| C30_PC             | 6.10835E-13 | 6.10835E-13 |     |     |     | [mole fraction] |\n",
            "| water              | 0E0         | 0E0         |     |     |     | [mole fraction] |\n",
            "|                    |             |             |     |     |     |                 |\n",
            "| Density            |             | 1.31729E2   |     |     |     | [kg/m^3]        |\n",
            "| PhaseFraction      |             | 1E0         |     |     |     | [mole fraction] |\n",
            "| MolarMass          | 2.0434E1    | 2.0434E1    |     |     |     | [kg/kmol]       |\n",
            "| Z factor           |             | 7.06273E-1  |     |     |     | [-]             |\n",
            "| Heat Capacity (Cp) |             | 3.65717E0   |     |     |     | [kJ/kg*K]       |\n",
            "| Heat Capacity (Cv) |             | 1.75663E0   |     |     |     | [kJ/kg*K]       |\n",
            "| Speed of Sound     |             | 3.86043E2   |     |     |     | [m/sec]         |\n",
            "| Enthalpy           | -1.22711E2  | -1.22711E2  |     |     |     | [kJ/kg]         |\n",
            "| Entropy            | -1.8853E0   | -1.8853E0   |     |     |     | [kJ/kg*K]       |\n",
            "| JT coefficient     |             | 3.74821E-1  |     |     |     | [K/bar]         |\n",
            "|                    |             |             |     |     |     |                 |\n",
            "| Viscosity          |             | 1.63765E-5  |     |     |     | [kg/m*sec]      |\n",
            "| Conductivity       |             | 4.67532E-2  |     |     |     | [W/m*K]         |\n",
            "| SurfaceTension     |             |             |     |     |     | [N/m]           |\n",
            "|                    |             |             |     |     |     |                 |\n",
            "|                    |             |             |     |     |     |                 |\n",
            "|                    |             |             |     |     |     |                 |\n",
            "| Pressure           |             | 110.0       |     |     |     | [bar]           |\n",
            "| Temperature        |             | 293.15      |     |     |     | [K]             |\n",
            "|                    |             |             |     |     |     |                 |\n",
            "| Model              |             | SRK-EOS     |     |     |     | -               |\n",
            "| Mixing Rule        |             | classic     |     |     |     | -               |\n",
            "|                    |             |             |     |     |     |                 |\n",
            "| Stream             |             |             |     |     |     | -               |\n",
            "|                    |             |             |     |     |     |                 |\n",
            "|                    |             |             |     |     |     |                 |\n",
            "|                    |             |             |     |     |     |                 |\n",
            "|                    |             |             |     |     |     |                 |\n"
          ]
        }
      ],
      "source": [
        "print('feed gas')\n",
        "printFrame(inletheater.getOutStream().getFluid())"
      ]
    },
    {
      "cell_type": "code",
      "execution_count": null,
      "metadata": {
        "colab": {
          "base_uri": "https://localhost:8080/"
        },
        "id": "hEkRIUIBlF-z",
        "outputId": "a4d7d2dd-6885-4eae-921f-7206738bb057"
      },
      "outputs": [
        {
          "name": "stdout",
          "output_type": "stream",
          "text": [
            "propane in dry export gas  2.8434904876617453  mol%\n",
            "LPG production rate  841.8028390252096  Sm3/day\n",
            "C5+ rate  149.36636517454994  Sm3/day\n",
            "temperature in NGL scrubber  -40.968212906710306\n",
            "temperature LPG extraction reflux condenser  41.63514678510512\n",
            "GCV  44.671999517153544  MJ/m3\n",
            "duty deethanizer reboiler  7.1684859825422595  MW\n",
            "duty debutanizer reboiler  1.0998551496363158  MW\n",
            "duty debutanizer condenser  -2.2855354272230026  MW\n",
            "propane recovery  0.4966822954087431\n",
            "i-butane recovery  0.7747398445374913\n",
            "n-butane recovery  0.8407670482637131\n"
          ]
        }
      ],
      "source": [
        "print('propane in dry export gas ', exportDryGas.getFluid().getComponent('propane').getx()*100.0, ' mol%')\n",
        "print('LPG production rate ', debutanizer.getGasOutStream().getFlowRate('idSm3/hr')*24.0 , ' Sm3/day')\n",
        "print('C5+ rate ', debutanizer.getLiquidOutStream().getFlowRate('idSm3/hr')*24.0, ' Sm3/day')\n",
        "print('temperature in NGL scrubber ', expanderKarsto.getOutStream().getTemperature('C'))\n",
        "print('temperature LPG extraction reflux condenser ', debutanizer.getGasOutStream().getTemperature('C'))\n",
        "print('GCV ', exportDryGas.GCV()/1e6, ' MJ/m3')\n",
        "\n",
        "print('duty deethanizer reboiler ', deethanizer.getReboiler().getDuty()/1e6, ' MW')\n",
        "print('duty debutanizer reboiler ', debutanizer.getReboiler().getDuty()/1e6, ' MW')\n",
        "print('duty debutanizer condenser ', debutanizer.getCondenser().getDuty()/1e6, ' MW')\n",
        "propaneRecovery = 1.0 - exportDryGas.getFluid().getComponent('propane').getNumberOfmoles()/pipe1.getOutStream().getFluid().getComponent('propane').getNumberOfmoles()\n",
        "ibutaneRecovery = 1.0 - exportDryGas.getFluid().getComponent('i-butane').getNumberOfmoles()/pipe1.getOutStream().getFluid().getComponent('i-butane').getNumberOfmoles()\n",
        "nbutaneRecovery = 1.0 - exportDryGas.getFluid().getComponent('n-butane').getNumberOfmoles()/pipe1.getOutStream().getFluid().getComponent('n-butane').getNumberOfmoles()\n",
        "print('propane recovery ' ,propaneRecovery)\n",
        "print('i-butane recovery ' ,ibutaneRecovery)\n",
        "print('n-butane recovery ' ,nbutaneRecovery)\n",
        "\n"
      ]
    },
    {
      "cell_type": "markdown",
      "metadata": {
        "id": "8-Y-ezre4mdg"
      },
      "source": [
        "## Gas and liquid product quality"
      ]
    },
    {
      "cell_type": "markdown",
      "metadata": {
        "id": "hAcgEEw84qNg"
      },
      "source": [
        "--- onshore gas and LPG/C5+ quality control"
      ]
    },
    {
      "cell_type": "code",
      "execution_count": null,
      "metadata": {
        "colab": {
          "base_uri": "https://localhost:8080/"
        },
        "id": "o2WQMJvg7KR9",
        "outputId": "cd6d32bb-7efc-4b76-8338-746b59529ed3"
      },
      "outputs": [
        {
          "name": "stdout",
          "output_type": "stream",
          "text": [
            "export gas\n",
            "| 0                  | 1           | 2                  | 3   | 4   | 5   | 6               |\n",
            "|:-------------------|:------------|:-------------------|:----|:----|:----|:----------------|\n",
            "|                    | total       | GAS                |     |     |     |                 |\n",
            "| nitrogen           | 7.45215E-3  | 7.45215E-3         |     |     |     | [mole fraction] |\n",
            "| CO2                | 8.82677E-5  | 8.82677E-5         |     |     |     | [mole fraction] |\n",
            "| methane            | 8.6152E-1   | 8.6152E-1          |     |     |     | [mole fraction] |\n",
            "| ethane             | 9.76432E-2  | 9.76432E-2         |     |     |     | [mole fraction] |\n",
            "| propane            | 2.84349E-2  | 2.84349E-2         |     |     |     | [mole fraction] |\n",
            "| i-butane           | 2.02145E-3  | 2.02145E-3         |     |     |     | [mole fraction] |\n",
            "| n-butane           | 2.43383E-3  | 2.43383E-3         |     |     |     | [mole fraction] |\n",
            "| i-pentane          | 2.25742E-4  | 2.25742E-4         |     |     |     | [mole fraction] |\n",
            "| n-pentane          | 1.59823E-4  | 1.59823E-4         |     |     |     | [mole fraction] |\n",
            "| n-hexane           | 1.92054E-5  | 1.92054E-5         |     |     |     | [mole fraction] |\n",
            "| C7_PC              | 1.29718E-6  | 1.29718E-6         |     |     |     | [mole fraction] |\n",
            "| C8_PC              | 2.36865E-7  | 2.36865E-7         |     |     |     | [mole fraction] |\n",
            "| C9_PC              | 2.76009E-8  | 2.76009E-8         |     |     |     | [mole fraction] |\n",
            "| C10-C11_PC         | 5.28824E-9  | 5.28824E-9         |     |     |     | [mole fraction] |\n",
            "| C12-C13_PC         | 2.24902E-10 | 2.24902E-10        |     |     |     | [mole fraction] |\n",
            "| C14-C15_PC         | 8.78005E-12 | 8.78005E-12        |     |     |     | [mole fraction] |\n",
            "| C16-C18_PC         | 2.23247E-13 | 2.23247E-13        |     |     |     | [mole fraction] |\n",
            "| C19-C20_PC         | 2.40705E-15 | 2.40705E-15        |     |     |     | [mole fraction] |\n",
            "| C21-C23_PC         | 5.7699E-17  | 5.7699E-17         |     |     |     | [mole fraction] |\n",
            "| C24-C29_PC         | 1.00699E-19 | 1.00699E-19        |     |     |     | [mole fraction] |\n",
            "| C30_PC             | 4.0274E-29  | 4.0274E-29         |     |     |     | [mole fraction] |\n",
            "| water              | 0E0         | 0E0                |     |     |     | [mole fraction] |\n",
            "|                    |             |                    |     |     |     |                 |\n",
            "| Density            |             | 6.85478E1          |     |     |     | [kg/m^3]        |\n",
            "| PhaseFraction      |             | 1E0                |     |     |     | [mole fraction] |\n",
            "| MolarMass          | 1.85126E1   | 1.85126E1          |     |     |     | [kg/kmol]       |\n",
            "| Z factor           |             | 9.15603E-1         |     |     |     | [-]             |\n",
            "| Heat Capacity (Cp) |             | 2.78918E0          |     |     |     | [kJ/kg*K]       |\n",
            "| Heat Capacity (Cv) |             | 1.90083E0          |     |     |     | [kJ/kg*K]       |\n",
            "| Speed of Sound     |             | 4.52748E2          |     |     |     | [m/sec]         |\n",
            "| Enthalpy           | 9.70103E1   | 9.70103E1          |     |     |     | [kJ/kg]         |\n",
            "| Entropy            | -1.44074E0  | -1.44074E0         |     |     |     | [kJ/kg*K]       |\n",
            "| JT coefficient     |             | 2.65092E-1         |     |     |     | [K/bar]         |\n",
            "|                    |             |                    |     |     |     |                 |\n",
            "| Viscosity          |             | 1.52256E-5         |     |     |     | [kg/m*sec]      |\n",
            "| Conductivity       |             | 4.92632E-2         |     |     |     | [W/m*K]         |\n",
            "| SurfaceTension     |             |                    |     |     |     | [N/m]           |\n",
            "|                    |             |                    |     |     |     |                 |\n",
            "|                    |             |                    |     |     |     |                 |\n",
            "|                    |             |                    |     |     |     |                 |\n",
            "| Pressure           |             | 100.0              |     |     |     | [bar]           |\n",
            "| Temperature        |             | 356.12481528832035 |     |     |     | [K]             |\n",
            "|                    |             |                    |     |     |     |                 |\n",
            "| Model              |             | SRK-EOS            |     |     |     | -               |\n",
            "| Mixing Rule        |             | classic            |     |     |     | -               |\n",
            "|                    |             |                    |     |     |     |                 |\n",
            "| Stream             |             |                    |     |     |     | -               |\n",
            "|                    |             |                    |     |     |     |                 |\n",
            "|                    |             |                    |     |     |     |                 |\n",
            "|                    |             |                    |     |     |     |                 |\n",
            "|                    |             |                    |     |     |     |                 |\n"
          ]
        }
      ],
      "source": [
        "print('export gas')\n",
        "printFrame(exportDryGas.getFluid())"
      ]
    },
    {
      "cell_type": "code",
      "execution_count": null,
      "metadata": {
        "colab": {
          "base_uri": "https://localhost:8080/"
        },
        "id": "po00pydLvvOQ",
        "outputId": "dceb468e-9549-4b0a-8f52-5cc472690696"
      },
      "outputs": [
        {
          "name": "stdout",
          "output_type": "stream",
          "text": [
            "gas from deethanizer\n",
            "| 0                  | 1           | 2                 | 3   | 4   | 5   | 6               |\n",
            "|:-------------------|:------------|:------------------|:----|:----|:----|:----------------|\n",
            "|                    | total       | GAS               |     |     |     |                 |\n",
            "| nitrogen           | 1.97233E-3  | 1.97233E-3        |     |     |     | [mole fraction] |\n",
            "| CO2                | 1.48954E-4  | 1.48954E-4        |     |     |     | [mole fraction] |\n",
            "| methane            | 6.42432E-1  | 6.42432E-1        |     |     |     | [mole fraction] |\n",
            "| ethane             | 2.58045E-1  | 2.58045E-1        |     |     |     | [mole fraction] |\n",
            "| propane            | 8.4901E-2   | 8.4901E-2         |     |     |     | [mole fraction] |\n",
            "| i-butane           | 5.23394E-3  | 5.23394E-3        |     |     |     | [mole fraction] |\n",
            "| n-butane           | 6.24993E-3  | 6.24993E-3        |     |     |     | [mole fraction] |\n",
            "| i-pentane          | 5.61778E-4  | 5.61778E-4        |     |     |     | [mole fraction] |\n",
            "| n-pentane          | 4.01842E-4  | 4.01842E-4        |     |     |     | [mole fraction] |\n",
            "| n-hexane           | 4.86597E-5  | 4.86597E-5        |     |     |     | [mole fraction] |\n",
            "| C7_PC              | 3.78499E-6  | 3.78499E-6        |     |     |     | [mole fraction] |\n",
            "| C8_PC              | 7.1041E-7   | 7.1041E-7         |     |     |     | [mole fraction] |\n",
            "| C9_PC              | 8.51107E-8  | 8.51107E-8        |     |     |     | [mole fraction] |\n",
            "| C10-C11_PC         | 1.69785E-8  | 1.69785E-8        |     |     |     | [mole fraction] |\n",
            "| C12-C13_PC         | 7.61585E-10 | 7.61585E-10       |     |     |     | [mole fraction] |\n",
            "| C14-C15_PC         | 3.13962E-11 | 3.13962E-11       |     |     |     | [mole fraction] |\n",
            "| C16-C18_PC         | 8.52944E-13 | 8.52944E-13       |     |     |     | [mole fraction] |\n",
            "| C19-C20_PC         | 9.79386E-15 | 9.79386E-15       |     |     |     | [mole fraction] |\n",
            "| C21-C23_PC         | 2.48679E-16 | 2.48679E-16       |     |     |     | [mole fraction] |\n",
            "| C24-C29_PC         | 4.71861E-19 | 4.71861E-19       |     |     |     | [mole fraction] |\n",
            "| C30_PC             | 2.2211E-28  | 2.2211E-28        |     |     |     | [mole fraction] |\n",
            "| water              | 0E0         | 0E0               |     |     |     | [mole fraction] |\n",
            "|                    |             |                   |     |     |     |                 |\n",
            "| Density            |             | 3.68516E1         |     |     |     | [kg/m^3]        |\n",
            "| PhaseFraction      |             | 1E0               |     |     |     | [mole fraction] |\n",
            "| MolarMass          | 2.26133E1   | 2.26133E1         |     |     |     | [kg/kmol]       |\n",
            "| Z factor           |             | 8.24922E-1        |     |     |     | [-]             |\n",
            "| Heat Capacity (Cp) |             | 2.34103E0         |     |     |     | [kJ/kg*K]       |\n",
            "| Heat Capacity (Cv) |             | 1.53484E0         |     |     |     | [kJ/kg*K]       |\n",
            "| Speed of Sound     |             | 3.17441E2         |     |     |     | [m/sec]         |\n",
            "| Enthalpy           | -6.4053E1   | -6.4053E1         |     |     |     | [kJ/kg]         |\n",
            "| Entropy            | -1.08248E0  | -1.08248E0        |     |     |     | [kJ/kg*K]       |\n",
            "| JT coefficient     |             | 9.44009E-1        |     |     |     | [K/bar]         |\n",
            "|                    |             |                   |     |     |     |                 |\n",
            "| Viscosity          |             | 1.05958E-5        |     |     |     | [kg/m*sec]      |\n",
            "| Conductivity       |             | 2.94673E-2        |     |     |     | [W/m*K]         |\n",
            "| SurfaceTension     |             |                   |     |     |     | [N/m]           |\n",
            "|                    |             |                   |     |     |     |                 |\n",
            "|                    |             |                   |     |     |     |                 |\n",
            "|                    |             |                   |     |     |     |                 |\n",
            "| Pressure           |             | 30.0              |     |     |     | [bar]           |\n",
            "| Temperature        |             | 269.1272320673576 |     |     |     | [K]             |\n",
            "|                    |             |                   |     |     |     |                 |\n",
            "| Model              |             | SRK-EOS           |     |     |     | -               |\n",
            "| Mixing Rule        |             | classic           |     |     |     | -               |\n",
            "|                    |             |                   |     |     |     |                 |\n",
            "| Stream             |             |                   |     |     |     | -               |\n",
            "|                    |             |                   |     |     |     |                 |\n",
            "|                    |             |                   |     |     |     |                 |\n",
            "|                    |             |                   |     |     |     |                 |\n",
            "|                    |             |                   |     |     |     |                 |\n",
            "liquid from deethanizer\n",
            "| 0                  | 1           | 2           | 3   | 4   | 5   | 6               |\n",
            "|:-------------------|:------------|:------------|:----|:----|:----|:----------------|\n",
            "|                    | total       | GAS         |     |     |     |                 |\n",
            "| nitrogen           | 3.25682E-8  | 3.25682E-8  |     |     |     | [mole fraction] |\n",
            "| CO2                | 1.98622E-6  | 1.98622E-6  |     |     |     | [mole fraction] |\n",
            "| methane            | 5.11304E-4  | 5.11304E-4  |     |     |     | [mole fraction] |\n",
            "| ethane             | 5.42299E-2  | 5.42299E-2  |     |     |     | [mole fraction] |\n",
            "| propane            | 4.71416E-1  | 4.71416E-1  |     |     |     | [mole fraction] |\n",
            "| i-butane           | 1.17467E-1  | 1.17467E-1  |     |     |     | [mole fraction] |\n",
            "| n-butane           | 2.17239E-1  | 2.17239E-1  |     |     |     | [mole fraction] |\n",
            "| i-pentane          | 5.25482E-2  | 5.25482E-2  |     |     |     | [mole fraction] |\n",
            "| n-pentane          | 5.04031E-2  | 5.04031E-2  |     |     |     | [mole fraction] |\n",
            "| n-hexane           | 2.09504E-2  | 2.09504E-2  |     |     |     | [mole fraction] |\n",
            "| C7_PC              | 7.90624E-3  | 7.90624E-3  |     |     |     | [mole fraction] |\n",
            "| C8_PC              | 4.259E-3    | 4.259E-3    |     |     |     | [mole fraction] |\n",
            "| C9_PC              | 1.41012E-3  | 1.41012E-3  |     |     |     | [mole fraction] |\n",
            "| C10-C11_PC         | 1.19477E-3  | 1.19477E-3  |     |     |     | [mole fraction] |\n",
            "| C12-C13_PC         | 3.41043E-4  | 3.41043E-4  |     |     |     | [mole fraction] |\n",
            "| C14-C15_PC         | 9.2361E-5   | 9.2361E-5   |     |     |     | [mole fraction] |\n",
            "| C16-C18_PC         | 2.59692E-5  | 2.59692E-5  |     |     |     | [mole fraction] |\n",
            "| C19-C20_PC         | 3.05755E-6  | 3.05755E-6  |     |     |     | [mole fraction] |\n",
            "| C21-C23_PC         | 7.83009E-7  | 7.83009E-7  |     |     |     | [mole fraction] |\n",
            "| C24-C29_PC         | 7.25647E-8  | 7.25647E-8  |     |     |     | [mole fraction] |\n",
            "| C30_PC             | 1.09026E-11 | 1.09026E-11 |     |     |     | [mole fraction] |\n",
            "| water              | 0E0         | 0E0         |     |     |     | [mole fraction] |\n",
            "|                    |             |             |     |     |     |                 |\n",
            "| Density            |             | 3.62832E2   |     |     |     | [kg/m^3]        |\n",
            "| PhaseFraction      |             | 1E0         |     |     |     | [mole fraction] |\n",
            "| MolarMass          | 5.28089E1   | 5.28089E1   |     |     |     | [kg/kmol]       |\n",
            "| Z factor           |             | 1.55287E-1  |     |     |     | [-]             |\n",
            "| Heat Capacity (Cp) |             | 4.18721E0   |     |     |     | [kJ/kg*K]       |\n",
            "| Heat Capacity (Cv) |             | 2.08068E0   |     |     |     | [kJ/kg*K]       |\n",
            "| Speed of Sound     |             | 3.05937E2   |     |     |     | [m/sec]         |\n",
            "| Enthalpy           | -8.36425E1  | -8.36425E1  |     |     |     | [kJ/kg]         |\n",
            "| Entropy            | -3.60557E-1 | -3.60557E-1 |     |     |     | [kJ/kg*K]       |\n",
            "| JT coefficient     |             | 2.16559E-1  |     |     |     | [K/bar]         |\n",
            "|                    |             |             |     |     |     |                 |\n",
            "| Viscosity          |             | 5.09721E-5  |     |     |     | [kg/m*sec]      |\n",
            "| Conductivity       |             | 6.30942E-2  |     |     |     | [W/m*K]         |\n",
            "| SurfaceTension     |             |             |     |     |     | [N/m]           |\n",
            "|                    |             |             |     |     |     |                 |\n",
            "|                    |             |             |     |     |     |                 |\n",
            "|                    |             |             |     |     |     |                 |\n",
            "| Pressure           |             | 32.0        |     |     |     | [bar]           |\n",
            "| Temperature        |             | 378.15      |     |     |     | [K]             |\n",
            "|                    |             |             |     |     |     |                 |\n",
            "| Model              |             | SRK-EOS     |     |     |     | -               |\n",
            "| Mixing Rule        |             | classic     |     |     |     | -               |\n",
            "|                    |             |             |     |     |     |                 |\n",
            "| Stream             |             |             |     |     |     | -               |\n",
            "|                    |             |             |     |     |     |                 |\n",
            "|                    |             |             |     |     |     |                 |\n",
            "|                    |             |             |     |     |     |                 |\n",
            "|                    |             |             |     |     |     |                 |\n"
          ]
        }
      ],
      "source": [
        "#De-ethanizer results\n",
        "print('gas from deethanizer')\n",
        "printFrame(deethanizer.getGasOutStream().getFluid())\n",
        "print('liquid from deethanizer')\n",
        "printFrame(deethanizer.getLiquidOutStream().getFluid())"
      ]
    },
    {
      "cell_type": "code",
      "execution_count": null,
      "metadata": {
        "colab": {
          "base_uri": "https://localhost:8080/"
        },
        "id": "Mezh9ctFpwKF",
        "outputId": "2aee39fd-fb31-4a8d-ee00-659989db15ba"
      },
      "outputs": [
        {
          "name": "stdout",
          "output_type": "stream",
          "text": [
            "LPG from top debutanizer \n",
            "| 0                  | 1           | 2                 | 3   | 4   | 5   | 6               |\n",
            "|:-------------------|:------------|:------------------|:----|:----|:----|:----------------|\n",
            "|                    | total       | OIL               |     |     |     |                 |\n",
            "| nitrogen           | 4.45833E-8  | 4.45833E-8        |     |     |     | [mole fraction] |\n",
            "| CO2                | 2.69415E-6  | 2.69415E-6        |     |     |     | [mole fraction] |\n",
            "| methane            | 6.97423E-4  | 6.97423E-4        |     |     |     | [mole fraction] |\n",
            "| ethane             | 7.26606E-2  | 7.26606E-2        |     |     |     | [mole fraction] |\n",
            "| propane            | 5.91258E-1  | 5.91258E-1        |     |     |     | [mole fraction] |\n",
            "| i-butane           | 1.13192E-1  | 1.13192E-1        |     |     |     | [mole fraction] |\n",
            "| n-butane           | 1.76506E-1  | 1.76506E-1        |     |     |     | [mole fraction] |\n",
            "| i-pentane          | 2.37305E-2  | 2.37305E-2        |     |     |     | [mole fraction] |\n",
            "| n-pentane          | 1.88338E-2  | 1.88338E-2        |     |     |     | [mole fraction] |\n",
            "| n-hexane           | 2.83522E-3  | 2.83522E-3        |     |     |     | [mole fraction] |\n",
            "| C7_PC              | 2.44536E-4  | 2.44536E-4        |     |     |     | [mole fraction] |\n",
            "| C8_PC              | 3.56675E-5  | 3.56675E-5        |     |     |     | [mole fraction] |\n",
            "| C9_PC              | 3.06953E-6  | 3.06953E-6        |     |     |     | [mole fraction] |\n",
            "| C10-C11_PC         | 3.54685E-7  | 3.54685E-7        |     |     |     | [mole fraction] |\n",
            "| C12-C13_PC         | 7.5612E-9   | 7.5612E-9         |     |     |     | [mole fraction] |\n",
            "| C14-C15_PC         | 1.4482E-10  | 1.4482E-10        |     |     |     | [mole fraction] |\n",
            "| C16-C18_PC         | 1.52365E-12 | 1.52365E-12       |     |     |     | [mole fraction] |\n",
            "| C19-C20_PC         | 6.83525E-15 | 6.83525E-15       |     |     |     | [mole fraction] |\n",
            "| C21-C23_PC         | 6.82479E-17 | 6.82479E-17       |     |     |     | [mole fraction] |\n",
            "| C24-C29_PC         | 2.66029E-20 | 2.66029E-20       |     |     |     | [mole fraction] |\n",
            "| C30_PC             | 5.28472E-32 | 5.28472E-32       |     |     |     | [mole fraction] |\n",
            "| water              | 0E0         | 0E0               |     |     |     | [mole fraction] |\n",
            "|                    |             |                   |     |     |     |                 |\n",
            "| Density            |             | 4.76321E2         |     |     |     | [kg/m^3]        |\n",
            "| PhaseFraction      |             | 1E0               |     |     |     | [mole fraction] |\n",
            "| MolarMass          | 4.84509E1   | 4.84509E1         |     |     |     | [kg/kmol]       |\n",
            "| Z factor           |             | 5.3509E-2         |     |     |     | [-]             |\n",
            "| Heat Capacity (Cp) |             | 2.9251E0          |     |     |     | [kJ/kg*K]       |\n",
            "| Heat Capacity (Cv) |             | 1.87439E0         |     |     |     | [kJ/kg*K]       |\n",
            "| Speed of Sound     |             | 5.16036E2         |     |     |     | [m/sec]         |\n",
            "| Enthalpy           | -2.7894E2   | -2.7894E2         |     |     |     | [kJ/kg]         |\n",
            "| Entropy            | -1.02552E0  | -1.02552E0        |     |     |     | [kJ/kg*K]       |\n",
            "| JT coefficient     |             | 2.9814E-2         |     |     |     | [K/bar]         |\n",
            "|                    |             |                   |     |     |     |                 |\n",
            "| Viscosity          |             | 8.61676E-5        |     |     |     | [kg/m*sec]      |\n",
            "| Conductivity       |             | 8.14295E-2        |     |     |     | [W/m*K]         |\n",
            "| SurfaceTension     |             |                   |     |     |     | [N/m]           |\n",
            "|                    |             |                   |     |     |     |                 |\n",
            "|                    |             |                   |     |     |     |                 |\n",
            "|                    |             |                   |     |     |     |                 |\n",
            "| Pressure           |             | 13.0              |     |     |     | [bar]           |\n",
            "| Temperature        |             | 314.7851467851051 |     |     |     | [K]             |\n",
            "|                    |             |                   |     |     |     |                 |\n",
            "| Model              |             | SRK-EOS           |     |     |     | -               |\n",
            "| Mixing Rule        |             | classic           |     |     |     | -               |\n",
            "|                    |             |                   |     |     |     |                 |\n",
            "| Stream             |             |                   |     |     |     | -               |\n",
            "|                    |             |                   |     |     |     |                 |\n",
            "|                    |             |                   |     |     |     |                 |\n",
            "|                    |             |                   |     |     |     |                 |\n",
            "|                    |             |                   |     |     |     |                 |\n",
            "C5+ from bottom debutanizer \n",
            "| 0                  | 1           | 2           | 3   | 4   | 5   | 6               |\n",
            "|:-------------------|:------------|:------------|:----|:----|:----|:----------------|\n",
            "|                    | total       | OIL         |     |     |     |                 |\n",
            "| nitrogen           | 7.41091E-21 | 7.41091E-21 |     |     |     | [mole fraction] |\n",
            "| CO2                | 4.41261E-14 | 4.41261E-14 |     |     |     | [mole fraction] |\n",
            "| methane            | 1.2839E-13  | 1.2839E-13  |     |     |     | [mole fraction] |\n",
            "| ethane             | 2.76167E-7  | 2.76167E-7  |     |     |     | [mole fraction] |\n",
            "| propane            | 2.07792E-3  | 2.07792E-3  |     |     |     | [mole fraction] |\n",
            "| i-butane           | 2.17411E-2  | 2.17411E-2  |     |     |     | [mole fraction] |\n",
            "| n-butane           | 1.05943E-1  | 1.05943E-1  |     |     |     | [mole fraction] |\n",
            "| i-pentane          | 1.61722E-1  | 1.61722E-1  |     |     |     | [mole fraction] |\n",
            "| n-pentane          | 2.10105E-1  | 2.10105E-1  |     |     |     | [mole fraction] |\n",
            "| n-hexane           | 2.11033E-1  | 2.11033E-1  |     |     |     | [mole fraction] |\n",
            "| C7_PC              | 1.2658E-1   | 1.2658E-1   |     |     |     | [mole fraction] |\n",
            "| C8_PC              | 8.67523E-2  | 8.67523E-2  |     |     |     | [mole fraction] |\n",
            "| C9_PC              | 3.28031E-2  | 3.28031E-2  |     |     |     | [mole fraction] |\n",
            "| C10-C11_PC         | 2.98612E-2  | 2.98612E-2  |     |     |     | [mole fraction] |\n",
            "| C12-C13_PC         | 8.44809E-3  | 8.44809E-3  |     |     |     | [mole fraction] |\n",
            "| C14-C15_PC         | 2.22416E-3  | 2.22416E-3  |     |     |     | [mole fraction] |\n",
            "| C16-C18_PC         | 6.16295E-4  | 6.16295E-4  |     |     |     | [mole fraction] |\n",
            "| C19-C20_PC         | 7.24412E-5  | 7.24412E-5  |     |     |     | [mole fraction] |\n",
            "| C21-C23_PC         | 1.85634E-5  | 1.85634E-5  |     |     |     | [mole fraction] |\n",
            "| C24-C29_PC         | 1.72153E-6  | 1.72153E-6  |     |     |     | [mole fraction] |\n",
            "| C30_PC             | 2.5871E-10  | 2.5871E-10  |     |     |     | [mole fraction] |\n",
            "| water              | 0E0         | 0E0         |     |     |     | [mole fraction] |\n",
            "|                    |             |             |     |     |     |                 |\n",
            "| Density            |             | 4.79843E2   |     |     |     | [kg/m^3]        |\n",
            "| PhaseFraction      |             | 1E0         |     |     |     | [mole fraction] |\n",
            "| MolarMass          | 8.53314E1   | 8.53314E1   |     |     |     | [kg/kmol]       |\n",
            "| Z factor           |             | 7.98258E-2  |     |     |     | [-]             |\n",
            "| Heat Capacity (Cp) |             | 3.21265E0   |     |     |     | [kJ/kg*K]       |\n",
            "| Heat Capacity (Cv) |             | 2.33859E0   |     |     |     | [kJ/kg*K]       |\n",
            "| Speed of Sound     |             | 3.72509E2   |     |     |     | [m/sec]         |\n",
            "| Enthalpy           | 2.11629E1   | 2.11629E1   |     |     |     | [kJ/kg]         |\n",
            "| Entropy            | 1.97451E-1  | 1.97451E-1  |     |     |     | [kJ/kg*K]       |\n",
            "| JT coefficient     |             | 6.63625E-2  |     |     |     | [K/bar]         |\n",
            "|                    |             |             |     |     |     |                 |\n",
            "| Viscosity          |             | 8.86025E-5  |     |     |     | [kg/m*sec]      |\n",
            "| Conductivity       |             | 6.79941E-2  |     |     |     | [W/m*K]         |\n",
            "| SurfaceTension     |             |             |     |     |     | [N/m]           |\n",
            "|                    |             |             |     |     |     |                 |\n",
            "|                    |             |             |     |     |     |                 |\n",
            "|                    |             |             |     |     |     |                 |\n",
            "| Pressure           |             | 15.0        |     |     |     | [bar]           |\n",
            "| Temperature        |             | 436.15      |     |     |     | [K]             |\n",
            "|                    |             |             |     |     |     |                 |\n",
            "| Model              |             | SRK-EOS     |     |     |     | -               |\n",
            "| Mixing Rule        |             | classic     |     |     |     | -               |\n",
            "|                    |             |             |     |     |     |                 |\n",
            "| Stream             |             |             |     |     |     | -               |\n",
            "|                    |             |             |     |     |     |                 |\n",
            "|                    |             |             |     |     |     |                 |\n",
            "|                    |             |             |     |     |     |                 |\n",
            "|                    |             |             |     |     |     |                 |\n"
          ]
        }
      ],
      "source": [
        "#debutanizer results\n",
        "print('LPG from top debutanizer ')\n",
        "printFrame(debutanizer.getGasOutStream().getFluid())\n",
        "print('C5+ from bottom debutanizer ')\n",
        "printFrame(debutanizer.getLiquidOutStream().getFluid())"
      ]
    },
    {
      "cell_type": "code",
      "execution_count": null,
      "metadata": {
        "colab": {
          "base_uri": "https://localhost:8080/"
        },
        "id": "n6egzZIneDnJ",
        "outputId": "a372af3e-98c7-48e7-a08b-bf8cfc31747a"
      },
      "outputs": [
        {
          "name": "stdout",
          "output_type": "stream",
          "text": [
            "GCV  44.671999517153544  MJ/m3\n",
            "TVP of LPG product  11.879476306124367 bara\n",
            "TVP of C5+ product  1.0148269463267556 bara\n"
          ]
        }
      ],
      "source": [
        "print('GCV ', exportDryGas.GCV()/1e6, ' MJ/m3')\n",
        "print('TVP of LPG product ', debutanizer.getGasOutStream().TVP(37.4, 'C'), 'bara')\n",
        "print('TVP of C5+ product ', debutanizer.getLiquidOutStream().TVP(37.4, 'C'), 'bara')"
      ]
    },
    {
      "cell_type": "code",
      "execution_count": null,
      "metadata": {
        "id": "AL210ftLZ9rB"
      },
      "outputs": [],
      "source": [
        "%%script false --no-raise-error\n",
        "contractGas = BaseContract(exportgas, \"central\", \"Brazil\")\n",
        "contractGas.runCheck();\n",
        "printtable(contractGas.getResultTable())\n",
        "\n",
        "contractLPG = BaseContract(lpgstream, \"centralLPG\", \"Brazil\")\n",
        "contractLPG.runCheck();\n",
        "printtable(contractLPG.getResultTable())"
      ]
    },
    {
      "cell_type": "markdown",
      "metadata": {
        "id": "rRsfIS6T2pGg"
      },
      "source": [
        "## Onshore process design"
      ]
    },
    {
      "cell_type": "markdown",
      "metadata": {
        "id": "NdICiQTN2wiR"
      },
      "source": [
        "Process design calculations"
      ]
    },
    {
      "cell_type": "markdown",
      "metadata": {
        "id": "orV6M2goaLHC"
      },
      "source": [
        "## LPG and Nafta recovery factors"
      ]
    },
    {
      "cell_type": "code",
      "execution_count": null,
      "metadata": {
        "colab": {
          "base_uri": "https://localhost:8080/"
        },
        "id": "7yo50ecmaT3w",
        "outputId": "14494abf-8ba3-48f1-b744-27b8f7115f39"
      },
      "outputs": [
        {
          "name": "stdout",
          "output_type": "stream",
          "text": [
            "sales gas recovery  0.8548286940369464\n",
            "LPG recovery  0.09681168803528625\n",
            "C5+ recovery  0.019719545226709562\n"
          ]
        }
      ],
      "source": [
        "LPGrecovery = debutanizer.getGasOutStream().getFlowRate('kg/hr')/pipe1.getOutStream().getFlowRate('kg/hr')\n",
        "C5recovery = debutanizer.getLiquidOutStream().getFlowRate('kg/hr')/pipe1.getOutStream().getFlowRate('kg/hr')\n",
        "salesgasrecovery = exportDryGas.getFlowRate('kg/hr')/pipe1.getOutStream().getFlowRate('kg/hr')\n",
        "\n",
        "print('sales gas recovery ', salesgasrecovery)\n",
        "print('LPG recovery ', LPGrecovery)\n",
        "print('C5+ recovery ', C5recovery)"
      ]
    },
    {
      "cell_type": "markdown",
      "metadata": {
        "id": "p-eRlERJKoLV"
      },
      "source": [
        "#10. Energy efficiency and emissions\n"
      ]
    },
    {
      "cell_type": "markdown",
      "metadata": {
        "id": "zSaK_JWmLpQN"
      },
      "source": [
        "##Calculation of emission in field life time"
      ]
    },
    {
      "cell_type": "markdown",
      "metadata": {
        "id": "V0ngDy7FbKyP"
      },
      "source": [
        "# 11. Cost estimation"
      ]
    },
    {
      "cell_type": "code",
      "execution_count": null,
      "metadata": {
        "id": "UIDlBhclbV6N"
      },
      "outputs": [],
      "source": [
        "pythoncode9=23"
      ]
    },
    {
      "cell_type": "markdown",
      "metadata": {
        "id": "oYxUQtNHbmbG"
      },
      "source": [
        "## CAPEX"
      ]
    },
    {
      "cell_type": "code",
      "execution_count": null,
      "metadata": {
        "id": "HCmLTdX7b2uF"
      },
      "outputs": [],
      "source": [
        "pythoncpde=12"
      ]
    },
    {
      "cell_type": "markdown",
      "metadata": {
        "id": "uYSkwhvvb-C2"
      },
      "source": [
        "## OPEX"
      ]
    },
    {
      "cell_type": "code",
      "execution_count": null,
      "metadata": {
        "id": "4325x-g6cEaa"
      },
      "outputs": [],
      "source": [
        "code=12"
      ]
    },
    {
      "cell_type": "markdown",
      "metadata": {
        "id": "xyGeu0hALZpJ"
      },
      "source": [
        "## oil gas lpg c5+ production profile"
      ]
    },
    {
      "cell_type": "markdown",
      "metadata": {
        "id": "BxbYBDFILkFZ"
      },
      "source": [
        "......."
      ]
    },
    {
      "cell_type": "markdown",
      "metadata": {
        "id": "HNCfjOZucTfb"
      },
      "source": [
        "# 12. Asset Value estimation"
      ]
    },
    {
      "cell_type": "markdown",
      "metadata": {
        "id": "kL83xhJaecfp"
      },
      "source": [
        "## Total production in current year"
      ]
    },
    {
      "cell_type": "code",
      "execution_count": null,
      "metadata": {
        "colab": {
          "base_uri": "https://localhost:8080/"
        },
        "id": "jeCQBN3-gi-k",
        "outputId": "dbac7a61-883c-4ffd-a1f0-1d0e352d2320"
      },
      "outputs": [
        {
          "name": "stdout",
          "output_type": "stream",
          "text": [
            "oil production rate  224.6331191496763  kboe/day\n",
            "gas production rate  5.661286035687116  MS3/day\n",
            "LPG production rate  501.990509773624  tonns/day\n",
            "C5+ productionrate  149.36636517454994  Sm3/day\n"
          ]
        }
      ],
      "source": [
        "print('oil production rate ', oilkbblperday, ' kboe/day')\n",
        "print('gas production rate ', exportDryGas.getFlowRate('MSm3/day'), ' MS3/day')\n",
        "print('LPG production rate ', debutanizer.getGasOutStream().getFlowRate('kg/hr')*24.0/1e3 , ' tonns/day')\n",
        "print('C5+ productionrate ', debutanizer.getLiquidOutStream().getFlowRate('idSm3/hr')*24.0, ' Sm3/day')"
      ]
    },
    {
      "cell_type": "markdown",
      "metadata": {
        "id": "0opUn6ekgjqz"
      },
      "source": [
        "## Product recovery"
      ]
    },
    {
      "cell_type": "code",
      "execution_count": null,
      "metadata": {
        "colab": {
          "base_uri": "https://localhost:8080/"
        },
        "id": "qWQSTMVYcl88",
        "outputId": "7e5307fe-dd42-47a6-f0b1-3192e49918b9"
      },
      "outputs": [
        {
          "name": "stdout",
          "output_type": "stream",
          "text": [
            "overall oil recovery  0.7225971583023082  kg produced/kg reservoir feed \n",
            "sales gas recovery  0.23713190889057567  kg produced/kg reservoir feed \n",
            "overall LPG recovery  0.026855837370538836  kg produced/kg reservoir feed \n",
            "overall C5+ recovery  0.005470257882875387  kg produced/kg reservoir feed \n",
            "sum recovery  0.9920551624462981\n"
          ]
        }
      ],
      "source": [
        "oilRecovery = overallORF\n",
        "richGasRecovery = 1.0 - oilRecovery\n",
        "salesgasrecovery = richGasRecovery*salesgasrecovery\n",
        "lpgrecovery = richGasRecovery*LPGrecovery\n",
        "c5plusrecovery = richGasRecovery*C5recovery\n",
        "print('overall oil recovery ', oilRecovery, ' kg produced/kg reservoir feed ')\n",
        "print('sales gas recovery ', salesgasrecovery, ' kg produced/kg reservoir feed ')\n",
        "print('overall LPG recovery ', lpgrecovery, ' kg produced/kg reservoir feed ')\n",
        "print('overall C5+ recovery ', c5plusrecovery, ' kg produced/kg reservoir feed ')\n",
        "\n",
        "print('sum recovery ', (oilRecovery+salesgasrecovery+lpgrecovery+c5plusrecovery))"
      ]
    },
    {
      "cell_type": "markdown",
      "metadata": {
        "id": "aUBas_0OmxOD"
      },
      "source": [
        "## Product value"
      ]
    },
    {
      "cell_type": "code",
      "execution_count": null,
      "metadata": {
        "colab": {
          "base_uri": "https://localhost:8080/"
        },
        "id": "HrhAPRcoekEj",
        "outputId": "1f08e70c-4cd2-4302-f8c5-c4b28795aba2"
      },
      "outputs": [
        {
          "name": "stdout",
          "output_type": "stream",
          "text": [
            "oil revenue  3234.7169157553385  M US$/year\n",
            "gas revenue  2066.3694030257975  M US$/year\n",
            "lpg revenue  18.322653606737276  M US$/year\n",
            "C5+ revenue  3.7321361067446297  M US$/year\n"
          ]
        }
      ],
      "source": [
        "oilrevenue_annual = oilprice*oilkbblperday*1e3*streamdaysperyear/1e6 # MUS$\n",
        "gasrevenue_annual = salesgasprice*exportDryGas.getFlowRate('MSm3/day')*365 ## MUS$\n",
        "lpgrevenue_annual = LPGprice*debutanizer.getGasOutStream().getFlowRate('kg/hr')*24.0/1e3*365/1e6 ## MUS$\n",
        "c5plusrevenue_annual = C5price*debutanizer.getLiquidOutStream().getFlowRate('kg/hr')*24.0/1e3*365/1e6 ## US$\n",
        "\n",
        "print('oil revenue ' , oilrevenue_annual, ' M US$/year')\n",
        "print('gas revenue ' , gasrevenue_annual, ' M US$/year')\n",
        "print('lpg revenue ' , lpgrevenue_annual, ' M US$/year')\n",
        "print('C5+ revenue ' , c5plusrevenue_annual, ' M US$/year')"
      ]
    },
    {
      "cell_type": "markdown",
      "metadata": {
        "id": "cph5UhsHos1y"
      },
      "source": []
    },
    {
      "cell_type": "markdown",
      "metadata": {
        "id": "38ovitReoubq"
      },
      "source": [
        "##CAPEX and year"
      ]
    },
    {
      "cell_type": "markdown",
      "metadata": {
        "id": "AWnfGQHVoxfp"
      },
      "source": [
        "....."
      ]
    },
    {
      "cell_type": "markdown",
      "metadata": {
        "id": "O67ucmYhoyxs"
      },
      "source": [
        "## Revenue and year"
      ]
    },
    {
      "cell_type": "markdown",
      "metadata": {
        "id": "vldkZhCFo3gK"
      },
      "source": [
        "....\n",
        "https://www.linkedin.com/pulse/how-build-oil-gas-financial-model-python-rishabh-sharma/"
      ]
    },
    {
      "cell_type": "markdown",
      "metadata": {
        "id": "PvVbxuzOo5Vh"
      },
      "source": [
        "##NPV/BE calculation"
      ]
    },
    {
      "cell_type": "code",
      "execution_count": null,
      "metadata": {
        "colab": {
          "base_uri": "https://localhost:8080/"
        },
        "id": "PhdkXDwZyL0p",
        "outputId": "7e89b394-7d06-43c2-dc28-78009f81b609"
      },
      "outputs": [
        {
          "data": {
            "text/html": [
              "\n",
              "  <div id=\"df-de1a5a00-a7e6-4d8f-aee6-ee0bb4012b21\" class=\"colab-df-container\">\n",
              "    <div>\n",
              "<style scoped>\n",
              "    .dataframe tbody tr th:only-of-type {\n",
              "        vertical-align: middle;\n",
              "    }\n",
              "\n",
              "    .dataframe tbody tr th {\n",
              "        vertical-align: top;\n",
              "    }\n",
              "\n",
              "    .dataframe thead th {\n",
              "        text-align: right;\n",
              "    }\n",
              "</style>\n",
              "<table border=\"1\" class=\"dataframe\">\n",
              "  <thead>\n",
              "    <tr style=\"text-align: right;\">\n",
              "      <th></th>\n",
              "      <th>Year</th>\n",
              "      <th>oil</th>\n",
              "      <th>gas</th>\n",
              "      <th>LPG</th>\n",
              "      <th>C5plus</th>\n",
              "      <th>CAPEX</th>\n",
              "      <th>OPEX</th>\n",
              "      <th>Oil_Revenue</th>\n",
              "      <th>gas_Revenue</th>\n",
              "      <th>LPG_Revenue</th>\n",
              "      <th>C5_Revenue</th>\n",
              "      <th>taxOil_Revenue</th>\n",
              "      <th>taxgas_Revenue</th>\n",
              "      <th>taxLPG_Revenue</th>\n",
              "      <th>taxC5_Revenue</th>\n",
              "      <th>Cash Flow</th>\n",
              "      <th>Cumulative Cash Flows</th>\n",
              "    </tr>\n",
              "  </thead>\n",
              "  <tbody>\n",
              "    <tr>\n",
              "      <th>0</th>\n",
              "      <td>2023</td>\n",
              "      <td>0.000</td>\n",
              "      <td>0.000</td>\n",
              "      <td>0.000</td>\n",
              "      <td>0.000</td>\n",
              "      <td>1000000.0</td>\n",
              "      <td>0.0</td>\n",
              "      <td>0.00</td>\n",
              "      <td>0.000</td>\n",
              "      <td>0.0</td>\n",
              "      <td>0.0</td>\n",
              "      <td>0.00</td>\n",
              "      <td>0.00000</td>\n",
              "      <td>0.000</td>\n",
              "      <td>0.000</td>\n",
              "      <td>-1000000.00</td>\n",
              "      <td>-1000000.00</td>\n",
              "    </tr>\n",
              "    <tr>\n",
              "      <th>1</th>\n",
              "      <td>2024</td>\n",
              "      <td>0.000</td>\n",
              "      <td>0.000</td>\n",
              "      <td>0.000</td>\n",
              "      <td>0.000</td>\n",
              "      <td>1000000.0</td>\n",
              "      <td>0.0</td>\n",
              "      <td>0.00</td>\n",
              "      <td>0.000</td>\n",
              "      <td>0.0</td>\n",
              "      <td>0.0</td>\n",
              "      <td>0.00</td>\n",
              "      <td>0.00000</td>\n",
              "      <td>0.000</td>\n",
              "      <td>0.000</td>\n",
              "      <td>-1000000.00</td>\n",
              "      <td>-2000000.00</td>\n",
              "    </tr>\n",
              "    <tr>\n",
              "      <th>2</th>\n",
              "      <td>2025</td>\n",
              "      <td>0.000</td>\n",
              "      <td>0.000</td>\n",
              "      <td>0.000</td>\n",
              "      <td>0.000</td>\n",
              "      <td>1000000.0</td>\n",
              "      <td>0.0</td>\n",
              "      <td>0.00</td>\n",
              "      <td>0.000</td>\n",
              "      <td>0.0</td>\n",
              "      <td>0.0</td>\n",
              "      <td>0.00</td>\n",
              "      <td>0.00000</td>\n",
              "      <td>0.000</td>\n",
              "      <td>0.000</td>\n",
              "      <td>-1000000.00</td>\n",
              "      <td>-3000000.00</td>\n",
              "    </tr>\n",
              "    <tr>\n",
              "      <th>3</th>\n",
              "      <td>2025</td>\n",
              "      <td>0.000</td>\n",
              "      <td>0.000</td>\n",
              "      <td>0.000</td>\n",
              "      <td>0.000</td>\n",
              "      <td>1000000.0</td>\n",
              "      <td>0.0</td>\n",
              "      <td>0.00</td>\n",
              "      <td>0.000</td>\n",
              "      <td>0.0</td>\n",
              "      <td>0.0</td>\n",
              "      <td>0.00</td>\n",
              "      <td>0.00000</td>\n",
              "      <td>0.000</td>\n",
              "      <td>0.000</td>\n",
              "      <td>-1000000.00</td>\n",
              "      <td>-4000000.00</td>\n",
              "    </tr>\n",
              "    <tr>\n",
              "      <th>4</th>\n",
              "      <td>2025</td>\n",
              "      <td>0.000</td>\n",
              "      <td>0.000</td>\n",
              "      <td>0.000</td>\n",
              "      <td>0.000</td>\n",
              "      <td>1000000.0</td>\n",
              "      <td>0.0</td>\n",
              "      <td>0.00</td>\n",
              "      <td>0.000</td>\n",
              "      <td>0.0</td>\n",
              "      <td>0.0</td>\n",
              "      <td>0.00</td>\n",
              "      <td>0.00000</td>\n",
              "      <td>0.000</td>\n",
              "      <td>0.000</td>\n",
              "      <td>-1000000.00</td>\n",
              "      <td>-5000000.00</td>\n",
              "    </tr>\n",
              "    <tr>\n",
              "      <th>5</th>\n",
              "      <td>2025</td>\n",
              "      <td>0.000</td>\n",
              "      <td>0.000</td>\n",
              "      <td>0.000</td>\n",
              "      <td>0.000</td>\n",
              "      <td>1000000.0</td>\n",
              "      <td>0.0</td>\n",
              "      <td>0.00</td>\n",
              "      <td>0.000</td>\n",
              "      <td>0.0</td>\n",
              "      <td>0.0</td>\n",
              "      <td>0.00</td>\n",
              "      <td>0.00000</td>\n",
              "      <td>0.000</td>\n",
              "      <td>0.000</td>\n",
              "      <td>-1000000.00</td>\n",
              "      <td>-6000000.00</td>\n",
              "    </tr>\n",
              "    <tr>\n",
              "      <th>6</th>\n",
              "      <td>2027</td>\n",
              "      <td>0.000</td>\n",
              "      <td>0.000</td>\n",
              "      <td>0.000</td>\n",
              "      <td>0.000</td>\n",
              "      <td>1000000.0</td>\n",
              "      <td>0.0</td>\n",
              "      <td>0.00</td>\n",
              "      <td>0.000</td>\n",
              "      <td>0.0</td>\n",
              "      <td>0.0</td>\n",
              "      <td>0.00</td>\n",
              "      <td>0.00000</td>\n",
              "      <td>0.000</td>\n",
              "      <td>0.000</td>\n",
              "      <td>-1000000.00</td>\n",
              "      <td>-7000000.00</td>\n",
              "    </tr>\n",
              "    <tr>\n",
              "      <th>7</th>\n",
              "      <td>2028</td>\n",
              "      <td>224.633</td>\n",
              "      <td>224.633</td>\n",
              "      <td>224.633</td>\n",
              "      <td>24.633</td>\n",
              "      <td>0.0</td>\n",
              "      <td>200000.0</td>\n",
              "      <td>8985.32</td>\n",
              "      <td>224.633</td>\n",
              "      <td>22463.3</td>\n",
              "      <td>2463.3</td>\n",
              "      <td>2246.33</td>\n",
              "      <td>56.15825</td>\n",
              "      <td>5615.825</td>\n",
              "      <td>615.825</td>\n",
              "      <td>6738.99</td>\n",
              "      <td>-6993261.01</td>\n",
              "    </tr>\n",
              "    <tr>\n",
              "      <th>8</th>\n",
              "      <td>2029</td>\n",
              "      <td>224.633</td>\n",
              "      <td>224.633</td>\n",
              "      <td>224.633</td>\n",
              "      <td>24.633</td>\n",
              "      <td>0.0</td>\n",
              "      <td>200000.0</td>\n",
              "      <td>8985.32</td>\n",
              "      <td>224.633</td>\n",
              "      <td>22463.3</td>\n",
              "      <td>2463.3</td>\n",
              "      <td>2246.33</td>\n",
              "      <td>56.15825</td>\n",
              "      <td>5615.825</td>\n",
              "      <td>615.825</td>\n",
              "      <td>6738.99</td>\n",
              "      <td>-6986522.02</td>\n",
              "    </tr>\n",
              "    <tr>\n",
              "      <th>9</th>\n",
              "      <td>2030</td>\n",
              "      <td>224.633</td>\n",
              "      <td>224.633</td>\n",
              "      <td>224.633</td>\n",
              "      <td>24.633</td>\n",
              "      <td>0.0</td>\n",
              "      <td>200000.0</td>\n",
              "      <td>8985.32</td>\n",
              "      <td>224.633</td>\n",
              "      <td>22463.3</td>\n",
              "      <td>2463.3</td>\n",
              "      <td>2246.33</td>\n",
              "      <td>56.15825</td>\n",
              "      <td>5615.825</td>\n",
              "      <td>615.825</td>\n",
              "      <td>6738.99</td>\n",
              "      <td>-6979783.03</td>\n",
              "    </tr>\n",
              "    <tr>\n",
              "      <th>10</th>\n",
              "      <td>2040</td>\n",
              "      <td>224.633</td>\n",
              "      <td>224.633</td>\n",
              "      <td>224.633</td>\n",
              "      <td>24.633</td>\n",
              "      <td>0.0</td>\n",
              "      <td>200000.0</td>\n",
              "      <td>8985.32</td>\n",
              "      <td>224.633</td>\n",
              "      <td>22463.3</td>\n",
              "      <td>2463.3</td>\n",
              "      <td>2246.33</td>\n",
              "      <td>56.15825</td>\n",
              "      <td>5615.825</td>\n",
              "      <td>615.825</td>\n",
              "      <td>6738.99</td>\n",
              "      <td>-6973044.04</td>\n",
              "    </tr>\n",
              "  </tbody>\n",
              "</table>\n",
              "</div>\n",
              "    <div class=\"colab-df-buttons\">\n",
              "\n",
              "  <div class=\"colab-df-container\">\n",
              "    <button class=\"colab-df-convert\" onclick=\"convertToInteractive('df-de1a5a00-a7e6-4d8f-aee6-ee0bb4012b21')\"\n",
              "            title=\"Convert this dataframe to an interactive table.\"\n",
              "            style=\"display:none;\">\n",
              "\n",
              "  <svg xmlns=\"http://www.w3.org/2000/svg\" height=\"24px\" viewBox=\"0 -960 960 960\">\n",
              "    <path d=\"M120-120v-720h720v720H120Zm60-500h600v-160H180v160Zm220 220h160v-160H400v160Zm0 220h160v-160H400v160ZM180-400h160v-160H180v160Zm440 0h160v-160H620v160ZM180-180h160v-160H180v160Zm440 0h160v-160H620v160Z\"/>\n",
              "  </svg>\n",
              "    </button>\n",
              "\n",
              "  <style>\n",
              "    .colab-df-container {\n",
              "      display:flex;\n",
              "      gap: 12px;\n",
              "    }\n",
              "\n",
              "    .colab-df-convert {\n",
              "      background-color: #E8F0FE;\n",
              "      border: none;\n",
              "      border-radius: 50%;\n",
              "      cursor: pointer;\n",
              "      display: none;\n",
              "      fill: #1967D2;\n",
              "      height: 32px;\n",
              "      padding: 0 0 0 0;\n",
              "      width: 32px;\n",
              "    }\n",
              "\n",
              "    .colab-df-convert:hover {\n",
              "      background-color: #E2EBFA;\n",
              "      box-shadow: 0px 1px 2px rgba(60, 64, 67, 0.3), 0px 1px 3px 1px rgba(60, 64, 67, 0.15);\n",
              "      fill: #174EA6;\n",
              "    }\n",
              "\n",
              "    .colab-df-buttons div {\n",
              "      margin-bottom: 4px;\n",
              "    }\n",
              "\n",
              "    [theme=dark] .colab-df-convert {\n",
              "      background-color: #3B4455;\n",
              "      fill: #D2E3FC;\n",
              "    }\n",
              "\n",
              "    [theme=dark] .colab-df-convert:hover {\n",
              "      background-color: #434B5C;\n",
              "      box-shadow: 0px 1px 3px 1px rgba(0, 0, 0, 0.15);\n",
              "      filter: drop-shadow(0px 1px 2px rgba(0, 0, 0, 0.3));\n",
              "      fill: #FFFFFF;\n",
              "    }\n",
              "  </style>\n",
              "\n",
              "    <script>\n",
              "      const buttonEl =\n",
              "        document.querySelector('#df-de1a5a00-a7e6-4d8f-aee6-ee0bb4012b21 button.colab-df-convert');\n",
              "      buttonEl.style.display =\n",
              "        google.colab.kernel.accessAllowed ? 'block' : 'none';\n",
              "\n",
              "      async function convertToInteractive(key) {\n",
              "        const element = document.querySelector('#df-de1a5a00-a7e6-4d8f-aee6-ee0bb4012b21');\n",
              "        const dataTable =\n",
              "          await google.colab.kernel.invokeFunction('convertToInteractive',\n",
              "                                                    [key], {});\n",
              "        if (!dataTable) return;\n",
              "\n",
              "        const docLinkHtml = 'Like what you see? Visit the ' +\n",
              "          '<a target=\"_blank\" href=https://colab.research.google.com/notebooks/data_table.ipynb>data table notebook</a>'\n",
              "          + ' to learn more about interactive tables.';\n",
              "        element.innerHTML = '';\n",
              "        dataTable['output_type'] = 'display_data';\n",
              "        await google.colab.output.renderOutput(dataTable, element);\n",
              "        const docLink = document.createElement('div');\n",
              "        docLink.innerHTML = docLinkHtml;\n",
              "        element.appendChild(docLink);\n",
              "      }\n",
              "    </script>\n",
              "  </div>\n",
              "\n",
              "\n",
              "<div id=\"df-a3df8b92-a855-4c9d-ba28-1445dba8c0c7\">\n",
              "  <button class=\"colab-df-quickchart\" onclick=\"quickchart('df-a3df8b92-a855-4c9d-ba28-1445dba8c0c7')\"\n",
              "            title=\"Suggest charts.\"\n",
              "            style=\"display:none;\">\n",
              "\n",
              "<svg xmlns=\"http://www.w3.org/2000/svg\" height=\"24px\"viewBox=\"0 0 24 24\"\n",
              "     width=\"24px\">\n",
              "    <g>\n",
              "        <path d=\"M19 3H5c-1.1 0-2 .9-2 2v14c0 1.1.9 2 2 2h14c1.1 0 2-.9 2-2V5c0-1.1-.9-2-2-2zM9 17H7v-7h2v7zm4 0h-2V7h2v10zm4 0h-2v-4h2v4z\"/>\n",
              "    </g>\n",
              "</svg>\n",
              "  </button>\n",
              "\n",
              "<style>\n",
              "  .colab-df-quickchart {\n",
              "    background-color: #E8F0FE;\n",
              "    border: none;\n",
              "    border-radius: 50%;\n",
              "    cursor: pointer;\n",
              "    display: none;\n",
              "    fill: #1967D2;\n",
              "    height: 32px;\n",
              "    padding: 0 0 0 0;\n",
              "    width: 32px;\n",
              "  }\n",
              "\n",
              "  .colab-df-quickchart:hover {\n",
              "    background-color: #E2EBFA;\n",
              "    box-shadow: 0px 1px 2px rgba(60, 64, 67, 0.3), 0px 1px 3px 1px rgba(60, 64, 67, 0.15);\n",
              "    fill: #174EA6;\n",
              "  }\n",
              "\n",
              "  [theme=dark] .colab-df-quickchart {\n",
              "    background-color: #3B4455;\n",
              "    fill: #D2E3FC;\n",
              "  }\n",
              "\n",
              "  [theme=dark] .colab-df-quickchart:hover {\n",
              "    background-color: #434B5C;\n",
              "    box-shadow: 0px 1px 3px 1px rgba(0, 0, 0, 0.15);\n",
              "    filter: drop-shadow(0px 1px 2px rgba(0, 0, 0, 0.3));\n",
              "    fill: #FFFFFF;\n",
              "  }\n",
              "</style>\n",
              "\n",
              "  <script>\n",
              "    async function quickchart(key) {\n",
              "      const charts = await google.colab.kernel.invokeFunction(\n",
              "          'suggestCharts', [key], {});\n",
              "    }\n",
              "    (() => {\n",
              "      let quickchartButtonEl =\n",
              "        document.querySelector('#df-a3df8b92-a855-4c9d-ba28-1445dba8c0c7 button');\n",
              "      quickchartButtonEl.style.display =\n",
              "        google.colab.kernel.accessAllowed ? 'block' : 'none';\n",
              "    })();\n",
              "  </script>\n",
              "</div>\n",
              "    </div>\n",
              "  </div>\n"
            ],
            "text/plain": [
              "    Year      oil      gas      LPG  C5plus      CAPEX      OPEX  Oil_Revenue  \\\n",
              "0   2023    0.000    0.000    0.000   0.000  1000000.0       0.0         0.00   \n",
              "1   2024    0.000    0.000    0.000   0.000  1000000.0       0.0         0.00   \n",
              "2   2025    0.000    0.000    0.000   0.000  1000000.0       0.0         0.00   \n",
              "3   2025    0.000    0.000    0.000   0.000  1000000.0       0.0         0.00   \n",
              "4   2025    0.000    0.000    0.000   0.000  1000000.0       0.0         0.00   \n",
              "5   2025    0.000    0.000    0.000   0.000  1000000.0       0.0         0.00   \n",
              "6   2027    0.000    0.000    0.000   0.000  1000000.0       0.0         0.00   \n",
              "7   2028  224.633  224.633  224.633  24.633        0.0  200000.0      8985.32   \n",
              "8   2029  224.633  224.633  224.633  24.633        0.0  200000.0      8985.32   \n",
              "9   2030  224.633  224.633  224.633  24.633        0.0  200000.0      8985.32   \n",
              "10  2040  224.633  224.633  224.633  24.633        0.0  200000.0      8985.32   \n",
              "\n",
              "    gas_Revenue  LPG_Revenue  C5_Revenue  taxOil_Revenue  taxgas_Revenue  \\\n",
              "0         0.000          0.0         0.0            0.00         0.00000   \n",
              "1         0.000          0.0         0.0            0.00         0.00000   \n",
              "2         0.000          0.0         0.0            0.00         0.00000   \n",
              "3         0.000          0.0         0.0            0.00         0.00000   \n",
              "4         0.000          0.0         0.0            0.00         0.00000   \n",
              "5         0.000          0.0         0.0            0.00         0.00000   \n",
              "6         0.000          0.0         0.0            0.00         0.00000   \n",
              "7       224.633      22463.3      2463.3         2246.33        56.15825   \n",
              "8       224.633      22463.3      2463.3         2246.33        56.15825   \n",
              "9       224.633      22463.3      2463.3         2246.33        56.15825   \n",
              "10      224.633      22463.3      2463.3         2246.33        56.15825   \n",
              "\n",
              "    taxLPG_Revenue  taxC5_Revenue   Cash Flow  Cumulative Cash Flows  \n",
              "0            0.000          0.000 -1000000.00            -1000000.00  \n",
              "1            0.000          0.000 -1000000.00            -2000000.00  \n",
              "2            0.000          0.000 -1000000.00            -3000000.00  \n",
              "3            0.000          0.000 -1000000.00            -4000000.00  \n",
              "4            0.000          0.000 -1000000.00            -5000000.00  \n",
              "5            0.000          0.000 -1000000.00            -6000000.00  \n",
              "6            0.000          0.000 -1000000.00            -7000000.00  \n",
              "7         5615.825        615.825     6738.99            -6993261.01  \n",
              "8         5615.825        615.825     6738.99            -6986522.02  \n",
              "9         5615.825        615.825     6738.99            -6979783.03  \n",
              "10        5615.825        615.825     6738.99            -6973044.04  "
            ]
          },
          "execution_count": 77,
          "metadata": {},
          "output_type": "execute_result"
        }
      ],
      "source": [
        "import numpy as np\n",
        "import pandas as pd\n",
        "\n",
        "productionprofile = {'Year':  [2023,  2024, 2025, 2025, 2027, 2028, 2029, 2030, 2040],\n",
        "        'oil':                [0,   0,  0,  0,  0,  224.633,  224.633, 224.633, 224.633],\n",
        "        'gas':                [0,   0,  0,  0,  0,  224.633,  224.633, 224.633, 224.633],\n",
        "        'LPG':                [0,   0,  0,  0,  0,  224.633,  224.633, 224.633, 224.633],\n",
        "        'C5plus':             [0,   0,  0,  0,  0,  24.633,  24.633, 24.633, 24.633],\n",
        "  }\n",
        "\n",
        "\n",
        "investmentprofile = {'Year':  [2023,  2024, 2025, 2025, 2027, 2028, 2029, 2030, 2040],\n",
        "        'CAPEX':                [1e6,   1e6,  1e6,  1e6,  1e6,  0,  0, 0, 0],\n",
        "        'OPEX':                 [0, 0, 0, 0, 0, 200e3, 200e3,200e3,200e3],\n",
        "  }\n",
        "\n",
        "prodframe = pd.DataFrame(productionprofile)\n",
        "investframe = pd.DataFrame(investmentprofile)\n",
        "\n",
        "mergtab = pd.merge(prodframe, investframe, how='outer', on='Year')\n",
        "\n",
        "mergtab['Oil_Revenue'] = oilprice * mergtab['oil']\n",
        "mergtab['gas_Revenue'] = salesgasprice * mergtab['gas']\n",
        "mergtab['LPG_Revenue'] = LPGprice * mergtab['LPG']\n",
        "mergtab['C5_Revenue'] = C5price * mergtab['C5plus']\n",
        "\n",
        "mergtab['taxOil_Revenue'] = taxoil * mergtab['Oil_Revenue']\n",
        "mergtab['taxgas_Revenue'] = taxgas * mergtab['gas_Revenue']\n",
        "mergtab['taxLPG_Revenue'] = taxLPG * mergtab['LPG_Revenue']\n",
        "mergtab['taxC5_Revenue'] = taxC5 * mergtab['C5_Revenue']\n",
        "\n",
        "\n",
        "mergtab['Cash Flow'] = mergtab['Oil_Revenue'] - mergtab['taxOil_Revenue'] - mergtab['CAPEX']\n",
        "mergtab['Cumulative Cash Flows'] = np.cumsum(mergtab['Cash Flow'])\n",
        "\n",
        "mergtab"
      ]
    },
    {
      "cell_type": "markdown",
      "metadata": {
        "id": "o9ynoFqxo8b5"
      },
      "source": [
        "NPV is calculated using the formula:\n",
        "\n",
        "$NPV=\\Sigma\\frac{CF_t}{(1+r)^t}$\n",
        "\n",
        "$CF_t$ - Net cash flow at time t\n",
        "\n",
        "N - Total number of Periods\n",
        "\n",
        "r - Discount rate or rate of return"
      ]
    },
    {
      "cell_type": "code",
      "execution_count": null,
      "metadata": {
        "colab": {
          "base_uri": "https://localhost:8080/"
        },
        "id": "hsIj_BZy45gB",
        "outputId": "ea0f3d7c-7ef3-4762-b9f7-d32132a957ec"
      },
      "outputs": [
        {
          "name": "stdout",
          "output_type": "stream",
          "text": [
            "NPV : $ -5343202.581\n"
          ]
        }
      ],
      "source": [
        "cash_flow = mergtab['Cash Flow'].values\n",
        "mergtab['Year'] = [i for i in range(11)]\n",
        "t = mergtab['Year'].values\n",
        "\n",
        "def npv(irr, cashfs, t):\n",
        "    x =  np.sum(cashfs / (1 + irr) ** t)\n",
        "    return round(x, 3)\n",
        "\n",
        "\n",
        "print(\"NPV : $\", npv(irr=0.10, cashfs=cash_flow, t=t))"
      ]
    }
  ],
  "metadata": {
    "colab": {
      "collapsed_sections": [
        "RiUNzkVB6Prg",
        "7HqG9qAfmiKu",
        "D7cL-Npd7vPk",
        "uBh1yTRi9JMN",
        "26rBySZLZvv5",
        "aLuiQBvnNmht",
        "IJWp26K2P5or",
        "PHjO5eu_O32o",
        "-AQguE-wXs_w",
        "p0APaL2xJgBR",
        "StAzp9DEiqcT",
        "18KBpM9JAO6m",
        "5FuFDjGdyE7F",
        "StnN3m47F6q5",
        "H3ikTLlB35ia",
        "yojpbv48Gi2h",
        "OrTcHvCNBEy1",
        "rnqyxV-tZpFd",
        "PBI9dCQoaHAf",
        "fvY3C8cd4bLw",
        "8-Y-ezre4mdg",
        "orV6M2goaLHC",
        "p-eRlERJKoLV",
        "V0ngDy7FbKyP",
        "oYxUQtNHbmbG",
        "uYSkwhvvb-C2",
        "HNCfjOZucTfb",
        "kL83xhJaecfp",
        "0opUn6ekgjqz",
        "aUBas_0OmxOD",
        "38ovitReoubq",
        "O67ucmYhoyxs",
        "PvVbxuzOo5Vh"
      ],
      "provenance": [],
      "include_colab_link": true
    },
    "kernelspec": {
      "display_name": "Python 3",
      "name": "python3"
    },
    "language_info": {
      "name": "python"
    }
  },
  "nbformat": 4,
  "nbformat_minor": 0
}