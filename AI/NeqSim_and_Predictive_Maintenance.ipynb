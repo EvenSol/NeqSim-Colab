{
  "nbformat": 4,
  "nbformat_minor": 0,
  "metadata": {
    "colab": {
      "provenance": [],
      "authorship_tag": "ABX9TyMuFqbw7Pal1nmey/UDBg74",
      "include_colab_link": true
    },
    "kernelspec": {
      "name": "python3",
      "display_name": "Python 3"
    },
    "language_info": {
      "name": "python"
    }
  },
  "cells": [
    {
      "cell_type": "markdown",
      "metadata": {
        "id": "view-in-github",
        "colab_type": "text"
      },
      "source": [
        "<a href=\"https://colab.research.google.com/github/EvenSol/NeqSim-Colab/blob/master/AI/NeqSim_and_Predictive_Maintenance.ipynb\" target=\"_parent\"><img src=\"https://colab.research.google.com/assets/colab-badge.svg\" alt=\"Open In Colab\"/></a>"
      ]
    },
    {
      "cell_type": "code",
      "execution_count": 3,
      "metadata": {
        "id": "HR4Fo7OZbJiR"
      },
      "outputs": [],
      "source": [
        "%%capture\n",
        "!pip install neqsim\n",
        "!pip install pandas scikit-learn matplotlib tensorflow"
      ]
    },
    {
      "cell_type": "markdown",
      "source": [
        "#  NeqSim and Predictive Maintenance\n",
        "\n",
        "### Introduction\n",
        "In this Colab notebook, we will demonstrate how to leverage the NeqSim Python package in combination with other popular Python libraries to develop a predictive maintenance model for a gas processing system. The notebook will use simulated data to predict component failures and estimate the optimal maintenance schedules to reduce downtime and ensure reliable operations. We will make use of libraries such as Pandas, Scikit-Learn, Matplotlib, and TensorFlow to explore the predictive maintenance concepts.\n",
        "\n",
        "The focus of this notebook will be:\n",
        "1. Generating synthetic data for the predictive maintenance scenario.\n",
        "2. Implementing a predictive model using machine learning.\n",
        "3. Creating visualization and metrics to assess the model's performance.\n",
        "4. Integrating NeqSim to simulate various process conditions and analyze their impacts on equipment.\n",
        "\n",
        "### Step 1: Setup and Installation\n",
        "First, we'll need to install the required libraries.\n",
        "\n",
        "### Step 2: Import Libraries\n",
        "Importing necessary libraries for data analysis, visualization, and predictive modeling."
      ],
      "metadata": {
        "id": "wfUlHfrobMlT"
      }
    },
    {
      "cell_type": "code",
      "source": [
        "import neqsim\n",
        "import pandas as pd\n",
        "import numpy as np\n",
        "from sklearn.model_selection import train_test_split\n",
        "from sklearn.preprocessing import StandardScaler\n",
        "from sklearn.ensemble import RandomForestClassifier\n",
        "import tensorflow as tf\n",
        "import matplotlib.pyplot as plt"
      ],
      "metadata": {
        "id": "1Ka3c72hbU9H"
      },
      "execution_count": 4,
      "outputs": []
    },
    {
      "cell_type": "markdown",
      "source": [
        "### Step 3: Generating Synthetic Data\n",
        "To simulate data for predictive maintenance, we'll create data representing equipment conditions, including compressor pressure, temperature, vibration levels, flow rates, and potential faults.\n"
      ],
      "metadata": {
        "id": "bTM7cySabnXW"
      }
    },
    {
      "cell_type": "code",
      "source": [
        "np.random.seed(42)\n",
        "num_samples = 1000\n",
        "\n",
        "data = {\n",
        "    'Pressure': np.random.normal(50, 10, num_samples),  # Compressor pressure in bar\n",
        "    'Temperature': np.random.normal(120, 20, num_samples),  # Temperature in °C\n",
        "    'Vibration': np.random.normal(5, 1.5, num_samples),  # Vibration level in mm/s\n",
        "    'FlowRate': np.random.normal(100, 15, num_samples),  # Flow rate in m3/hr\n",
        "    'Fault': np.random.choice([0, 1], size=num_samples, p=[0.9, 0.1])  # Binary fault indicator (0 = No Fault, 1 = Fault)\n",
        "}\n",
        "\n",
        "# Create a DataFrame\n",
        "df = pd.DataFrame(data)\n",
        "\n",
        "# Display first few rows of data\n",
        "df.head()"
      ],
      "metadata": {
        "colab": {
          "base_uri": "https://localhost:8080/",
          "height": 206
        },
        "id": "tHAaLGC3brTB",
        "outputId": "00527c52-1510-4d0b-b202-aae0f05e8d4b"
      },
      "execution_count": 6,
      "outputs": [
        {
          "output_type": "execute_result",
          "data": {
            "text/plain": [
              "    Pressure  Temperature  Vibration    FlowRate  Fault\n",
              "0  54.967142   147.987109   3.987233   71.382887      0\n",
              "1  48.617357   138.492674   4.783222   87.094225      0\n",
              "2  56.476885   121.192607   3.811370   93.795917      1\n",
              "3  65.230299   107.061264   4.538058  128.315315      0\n",
              "4  47.658466   133.964466   2.159578  108.348297      0"
            ],
            "text/html": [
              "\n",
              "  <div id=\"df-13e4a64f-bbca-4f75-a862-5f797dbd11f3\" class=\"colab-df-container\">\n",
              "    <div>\n",
              "<style scoped>\n",
              "    .dataframe tbody tr th:only-of-type {\n",
              "        vertical-align: middle;\n",
              "    }\n",
              "\n",
              "    .dataframe tbody tr th {\n",
              "        vertical-align: top;\n",
              "    }\n",
              "\n",
              "    .dataframe thead th {\n",
              "        text-align: right;\n",
              "    }\n",
              "</style>\n",
              "<table border=\"1\" class=\"dataframe\">\n",
              "  <thead>\n",
              "    <tr style=\"text-align: right;\">\n",
              "      <th></th>\n",
              "      <th>Pressure</th>\n",
              "      <th>Temperature</th>\n",
              "      <th>Vibration</th>\n",
              "      <th>FlowRate</th>\n",
              "      <th>Fault</th>\n",
              "    </tr>\n",
              "  </thead>\n",
              "  <tbody>\n",
              "    <tr>\n",
              "      <th>0</th>\n",
              "      <td>54.967142</td>\n",
              "      <td>147.987109</td>\n",
              "      <td>3.987233</td>\n",
              "      <td>71.382887</td>\n",
              "      <td>0</td>\n",
              "    </tr>\n",
              "    <tr>\n",
              "      <th>1</th>\n",
              "      <td>48.617357</td>\n",
              "      <td>138.492674</td>\n",
              "      <td>4.783222</td>\n",
              "      <td>87.094225</td>\n",
              "      <td>0</td>\n",
              "    </tr>\n",
              "    <tr>\n",
              "      <th>2</th>\n",
              "      <td>56.476885</td>\n",
              "      <td>121.192607</td>\n",
              "      <td>3.811370</td>\n",
              "      <td>93.795917</td>\n",
              "      <td>1</td>\n",
              "    </tr>\n",
              "    <tr>\n",
              "      <th>3</th>\n",
              "      <td>65.230299</td>\n",
              "      <td>107.061264</td>\n",
              "      <td>4.538058</td>\n",
              "      <td>128.315315</td>\n",
              "      <td>0</td>\n",
              "    </tr>\n",
              "    <tr>\n",
              "      <th>4</th>\n",
              "      <td>47.658466</td>\n",
              "      <td>133.964466</td>\n",
              "      <td>2.159578</td>\n",
              "      <td>108.348297</td>\n",
              "      <td>0</td>\n",
              "    </tr>\n",
              "  </tbody>\n",
              "</table>\n",
              "</div>\n",
              "    <div class=\"colab-df-buttons\">\n",
              "\n",
              "  <div class=\"colab-df-container\">\n",
              "    <button class=\"colab-df-convert\" onclick=\"convertToInteractive('df-13e4a64f-bbca-4f75-a862-5f797dbd11f3')\"\n",
              "            title=\"Convert this dataframe to an interactive table.\"\n",
              "            style=\"display:none;\">\n",
              "\n",
              "  <svg xmlns=\"http://www.w3.org/2000/svg\" height=\"24px\" viewBox=\"0 -960 960 960\">\n",
              "    <path d=\"M120-120v-720h720v720H120Zm60-500h600v-160H180v160Zm220 220h160v-160H400v160Zm0 220h160v-160H400v160ZM180-400h160v-160H180v160Zm440 0h160v-160H620v160ZM180-180h160v-160H180v160Zm440 0h160v-160H620v160Z\"/>\n",
              "  </svg>\n",
              "    </button>\n",
              "\n",
              "  <style>\n",
              "    .colab-df-container {\n",
              "      display:flex;\n",
              "      gap: 12px;\n",
              "    }\n",
              "\n",
              "    .colab-df-convert {\n",
              "      background-color: #E8F0FE;\n",
              "      border: none;\n",
              "      border-radius: 50%;\n",
              "      cursor: pointer;\n",
              "      display: none;\n",
              "      fill: #1967D2;\n",
              "      height: 32px;\n",
              "      padding: 0 0 0 0;\n",
              "      width: 32px;\n",
              "    }\n",
              "\n",
              "    .colab-df-convert:hover {\n",
              "      background-color: #E2EBFA;\n",
              "      box-shadow: 0px 1px 2px rgba(60, 64, 67, 0.3), 0px 1px 3px 1px rgba(60, 64, 67, 0.15);\n",
              "      fill: #174EA6;\n",
              "    }\n",
              "\n",
              "    .colab-df-buttons div {\n",
              "      margin-bottom: 4px;\n",
              "    }\n",
              "\n",
              "    [theme=dark] .colab-df-convert {\n",
              "      background-color: #3B4455;\n",
              "      fill: #D2E3FC;\n",
              "    }\n",
              "\n",
              "    [theme=dark] .colab-df-convert:hover {\n",
              "      background-color: #434B5C;\n",
              "      box-shadow: 0px 1px 3px 1px rgba(0, 0, 0, 0.15);\n",
              "      filter: drop-shadow(0px 1px 2px rgba(0, 0, 0, 0.3));\n",
              "      fill: #FFFFFF;\n",
              "    }\n",
              "  </style>\n",
              "\n",
              "    <script>\n",
              "      const buttonEl =\n",
              "        document.querySelector('#df-13e4a64f-bbca-4f75-a862-5f797dbd11f3 button.colab-df-convert');\n",
              "      buttonEl.style.display =\n",
              "        google.colab.kernel.accessAllowed ? 'block' : 'none';\n",
              "\n",
              "      async function convertToInteractive(key) {\n",
              "        const element = document.querySelector('#df-13e4a64f-bbca-4f75-a862-5f797dbd11f3');\n",
              "        const dataTable =\n",
              "          await google.colab.kernel.invokeFunction('convertToInteractive',\n",
              "                                                    [key], {});\n",
              "        if (!dataTable) return;\n",
              "\n",
              "        const docLinkHtml = 'Like what you see? Visit the ' +\n",
              "          '<a target=\"_blank\" href=https://colab.research.google.com/notebooks/data_table.ipynb>data table notebook</a>'\n",
              "          + ' to learn more about interactive tables.';\n",
              "        element.innerHTML = '';\n",
              "        dataTable['output_type'] = 'display_data';\n",
              "        await google.colab.output.renderOutput(dataTable, element);\n",
              "        const docLink = document.createElement('div');\n",
              "        docLink.innerHTML = docLinkHtml;\n",
              "        element.appendChild(docLink);\n",
              "      }\n",
              "    </script>\n",
              "  </div>\n",
              "\n",
              "\n",
              "<div id=\"df-a9120884-b524-4086-8ba7-981243a2805e\">\n",
              "  <button class=\"colab-df-quickchart\" onclick=\"quickchart('df-a9120884-b524-4086-8ba7-981243a2805e')\"\n",
              "            title=\"Suggest charts\"\n",
              "            style=\"display:none;\">\n",
              "\n",
              "<svg xmlns=\"http://www.w3.org/2000/svg\" height=\"24px\"viewBox=\"0 0 24 24\"\n",
              "     width=\"24px\">\n",
              "    <g>\n",
              "        <path d=\"M19 3H5c-1.1 0-2 .9-2 2v14c0 1.1.9 2 2 2h14c1.1 0 2-.9 2-2V5c0-1.1-.9-2-2-2zM9 17H7v-7h2v7zm4 0h-2V7h2v10zm4 0h-2v-4h2v4z\"/>\n",
              "    </g>\n",
              "</svg>\n",
              "  </button>\n",
              "\n",
              "<style>\n",
              "  .colab-df-quickchart {\n",
              "      --bg-color: #E8F0FE;\n",
              "      --fill-color: #1967D2;\n",
              "      --hover-bg-color: #E2EBFA;\n",
              "      --hover-fill-color: #174EA6;\n",
              "      --disabled-fill-color: #AAA;\n",
              "      --disabled-bg-color: #DDD;\n",
              "  }\n",
              "\n",
              "  [theme=dark] .colab-df-quickchart {\n",
              "      --bg-color: #3B4455;\n",
              "      --fill-color: #D2E3FC;\n",
              "      --hover-bg-color: #434B5C;\n",
              "      --hover-fill-color: #FFFFFF;\n",
              "      --disabled-bg-color: #3B4455;\n",
              "      --disabled-fill-color: #666;\n",
              "  }\n",
              "\n",
              "  .colab-df-quickchart {\n",
              "    background-color: var(--bg-color);\n",
              "    border: none;\n",
              "    border-radius: 50%;\n",
              "    cursor: pointer;\n",
              "    display: none;\n",
              "    fill: var(--fill-color);\n",
              "    height: 32px;\n",
              "    padding: 0;\n",
              "    width: 32px;\n",
              "  }\n",
              "\n",
              "  .colab-df-quickchart:hover {\n",
              "    background-color: var(--hover-bg-color);\n",
              "    box-shadow: 0 1px 2px rgba(60, 64, 67, 0.3), 0 1px 3px 1px rgba(60, 64, 67, 0.15);\n",
              "    fill: var(--button-hover-fill-color);\n",
              "  }\n",
              "\n",
              "  .colab-df-quickchart-complete:disabled,\n",
              "  .colab-df-quickchart-complete:disabled:hover {\n",
              "    background-color: var(--disabled-bg-color);\n",
              "    fill: var(--disabled-fill-color);\n",
              "    box-shadow: none;\n",
              "  }\n",
              "\n",
              "  .colab-df-spinner {\n",
              "    border: 2px solid var(--fill-color);\n",
              "    border-color: transparent;\n",
              "    border-bottom-color: var(--fill-color);\n",
              "    animation:\n",
              "      spin 1s steps(1) infinite;\n",
              "  }\n",
              "\n",
              "  @keyframes spin {\n",
              "    0% {\n",
              "      border-color: transparent;\n",
              "      border-bottom-color: var(--fill-color);\n",
              "      border-left-color: var(--fill-color);\n",
              "    }\n",
              "    20% {\n",
              "      border-color: transparent;\n",
              "      border-left-color: var(--fill-color);\n",
              "      border-top-color: var(--fill-color);\n",
              "    }\n",
              "    30% {\n",
              "      border-color: transparent;\n",
              "      border-left-color: var(--fill-color);\n",
              "      border-top-color: var(--fill-color);\n",
              "      border-right-color: var(--fill-color);\n",
              "    }\n",
              "    40% {\n",
              "      border-color: transparent;\n",
              "      border-right-color: var(--fill-color);\n",
              "      border-top-color: var(--fill-color);\n",
              "    }\n",
              "    60% {\n",
              "      border-color: transparent;\n",
              "      border-right-color: var(--fill-color);\n",
              "    }\n",
              "    80% {\n",
              "      border-color: transparent;\n",
              "      border-right-color: var(--fill-color);\n",
              "      border-bottom-color: var(--fill-color);\n",
              "    }\n",
              "    90% {\n",
              "      border-color: transparent;\n",
              "      border-bottom-color: var(--fill-color);\n",
              "    }\n",
              "  }\n",
              "</style>\n",
              "\n",
              "  <script>\n",
              "    async function quickchart(key) {\n",
              "      const quickchartButtonEl =\n",
              "        document.querySelector('#' + key + ' button');\n",
              "      quickchartButtonEl.disabled = true;  // To prevent multiple clicks.\n",
              "      quickchartButtonEl.classList.add('colab-df-spinner');\n",
              "      try {\n",
              "        const charts = await google.colab.kernel.invokeFunction(\n",
              "            'suggestCharts', [key], {});\n",
              "      } catch (error) {\n",
              "        console.error('Error during call to suggestCharts:', error);\n",
              "      }\n",
              "      quickchartButtonEl.classList.remove('colab-df-spinner');\n",
              "      quickchartButtonEl.classList.add('colab-df-quickchart-complete');\n",
              "    }\n",
              "    (() => {\n",
              "      let quickchartButtonEl =\n",
              "        document.querySelector('#df-a9120884-b524-4086-8ba7-981243a2805e button');\n",
              "      quickchartButtonEl.style.display =\n",
              "        google.colab.kernel.accessAllowed ? 'block' : 'none';\n",
              "    })();\n",
              "  </script>\n",
              "</div>\n",
              "\n",
              "    </div>\n",
              "  </div>\n"
            ],
            "application/vnd.google.colaboratory.intrinsic+json": {
              "type": "dataframe",
              "variable_name": "df",
              "summary": "{\n  \"name\": \"df\",\n  \"rows\": 1000,\n  \"fields\": [\n    {\n      \"column\": \"Pressure\",\n      \"properties\": {\n        \"dtype\": \"number\",\n        \"std\": 9.792159381796756,\n        \"min\": 17.58732659930927,\n        \"max\": 88.52731490654722,\n        \"num_unique_values\": 1000,\n        \"samples\": [\n          55.43360192379935,\n          59.82690983945514,\n          31.591257686683548\n        ],\n        \"semantic_type\": \"\",\n        \"description\": \"\"\n      }\n    },\n    {\n      \"column\": \"Temperature\",\n      \"properties\": {\n        \"dtype\": \"number\",\n        \"std\": 19.949087544548405,\n        \"min\": 61.19222730671439,\n        \"max\": 183.86215135689721,\n        \"num_unique_values\": 1000,\n        \"samples\": [\n          131.6419540693723,\n          98.64394156841614,\n          117.91101562925057\n        ],\n        \"semantic_type\": \"\",\n        \"description\": \"\"\n      }\n    },\n    {\n      \"column\": \"Vibration\",\n      \"properties\": {\n        \"dtype\": \"number\",\n        \"std\": 1.4751814216531105,\n        \"min\": 0.470731766268762,\n        \"max\": 10.889356559654491,\n        \"num_unique_values\": 1000,\n        \"samples\": [\n          9.477888503905115,\n          5.5135067517344325,\n          5.622298250542865\n        ],\n        \"semantic_type\": \"\",\n        \"description\": \"\"\n      }\n    },\n    {\n      \"column\": \"FlowRate\",\n      \"properties\": {\n        \"dtype\": \"number\",\n        \"std\": 15.406987881510444,\n        \"min\": 56.05826964996598,\n        \"max\": 148.646394543921,\n        \"num_unique_values\": 1000,\n        \"samples\": [\n          62.600937695048835,\n          97.6095665178114,\n          89.27978984514353\n        ],\n        \"semantic_type\": \"\",\n        \"description\": \"\"\n      }\n    },\n    {\n      \"column\": \"Fault\",\n      \"properties\": {\n        \"dtype\": \"number\",\n        \"std\": 0,\n        \"min\": 0,\n        \"max\": 1,\n        \"num_unique_values\": 2,\n        \"samples\": [\n          1,\n          0\n        ],\n        \"semantic_type\": \"\",\n        \"description\": \"\"\n      }\n    }\n  ]\n}"
            }
          },
          "metadata": {},
          "execution_count": 6
        }
      ]
    },
    {
      "cell_type": "markdown",
      "source": [
        "### Step 4: Data Preprocessing\n",
        "We will now preprocess the data for use in machine learning. This includes splitting the data into training and testing sets and scaling the features.\n"
      ],
      "metadata": {
        "id": "Kb6q0__mbxJw"
      }
    },
    {
      "cell_type": "code",
      "source": [
        "# Split data into features and target\n",
        "X = df[['Pressure', 'Temperature', 'Vibration', 'FlowRate']]\n",
        "y = df['Fault']\n",
        "\n",
        "# Split into training and test data\n",
        "X_train, X_test, y_train, y_test = train_test_split(X, y, test_size=0.2, random_state=42)\n",
        "\n",
        "# Standardize the features\n",
        "scaler = StandardScaler()\n",
        "X_train_scaled = scaler.fit_transform(X_train)\n",
        "X_test_scaled = scaler.transform(X_test)"
      ],
      "metadata": {
        "id": "LwavVlfUb0Mr"
      },
      "execution_count": 9,
      "outputs": []
    },
    {
      "cell_type": "markdown",
      "source": [
        "\n",
        "\n",
        "### Step 5: Building a Predictive Maintenance Model\n",
        "We will use a Random Forest Classifier to predict the occurrence of faults.\n"
      ],
      "metadata": {
        "id": "l2Dd3R8ib-Yq"
      }
    },
    {
      "cell_type": "code",
      "source": [
        "# Train Random Forest Classifier\n",
        "rf_model = RandomForestClassifier(n_estimators=100, random_state=42)\n",
        "rf_model.fit(X_train_scaled, y_train)\n",
        "\n",
        "# Predict on test set\n",
        "y_pred = rf_model.predict(X_test_scaled)\n",
        "\n"
      ],
      "metadata": {
        "id": "KGVpY6uycBgx"
      },
      "execution_count": 10,
      "outputs": []
    },
    {
      "cell_type": "markdown",
      "source": [
        "### Step 6: Evaluating the Model\n",
        "Let's evaluate the model's performance using accuracy, precision, and recall metrics.\n"
      ],
      "metadata": {
        "id": "-zlTjdNtcE5m"
      }
    },
    {
      "cell_type": "code",
      "source": [
        "from sklearn.metrics import accuracy_score, precision_score, recall_score\n",
        "\n",
        "accuracy = accuracy_score(y_test, y_pred)\n",
        "precision = precision_score(y_test, y_pred)\n",
        "recall = recall_score(y_test, y_pred)\n",
        "\n",
        "print(f'Accuracy: {accuracy:.2f}')\n",
        "print(f'Precision: {precision:.2f}')\n",
        "print(f'Recall: {recall:.2f}')"
      ],
      "metadata": {
        "id": "d9c2mnSdcHhd",
        "outputId": "5c19d94e-0684-4b85-b4c3-7fc808418960",
        "colab": {
          "base_uri": "https://localhost:8080/"
        }
      },
      "execution_count": 11,
      "outputs": [
        {
          "output_type": "stream",
          "name": "stdout",
          "text": [
            "Accuracy: 0.91\n",
            "Precision: 0.50\n",
            "Recall: 0.05\n"
          ]
        }
      ]
    }
  ]
}