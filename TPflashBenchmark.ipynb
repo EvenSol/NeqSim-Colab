{
  "nbformat": 4,
  "nbformat_minor": 0,
  "metadata": {
    "colab": {
      "name": "TPflashBenchmark.ipynb",
      "provenance": [],
      "collapsed_sections": [],
      "authorship_tag": "ABX9TyNmQVhDxQj2KcKu5cNsRdWM",
      "include_colab_link": true
    },
    "kernelspec": {
      "name": "python3",
      "display_name": "Python 3"
    }
  },
  "cells": [
    {
      "cell_type": "markdown",
      "metadata": {
        "id": "view-in-github",
        "colab_type": "text"
      },
      "source": [
        "<a href=\"https://colab.research.google.com/github/EvenSol/NeqSim-Colab/blob/master/TPflashBenchmark.ipynb\" target=\"_parent\"><img src=\"https://colab.research.google.com/assets/colab-badge.svg\" alt=\"Open In Colab\"/></a>"
      ]
    },
    {
      "cell_type": "code",
      "metadata": {
        "id": "b4Ne_81ytqKz",
        "colab": {
          "base_uri": "https://localhost:8080/"
        },
        "outputId": "35f5e4f5-63bb-4b17-d207-f023fa7efe82"
      },
      "source": [
        "!pip install neqsim"
      ],
      "execution_count": 1,
      "outputs": [
        {
          "output_type": "stream",
          "text": [
            "Collecting neqsim\n",
            "\u001b[?25l  Downloading https://files.pythonhosted.org/packages/be/5f/f7603b380b52cd8e0a323d79641f368dee8031a6bc5ea3021d37c8f17987/neqsim-2.3.1-py3-none-any.whl (66.0MB)\n",
            "\u001b[K     |████████████████████████████████| 66.1MB 59kB/s \n",
            "\u001b[?25hRequirement already satisfied: numpy in /usr/local/lib/python3.7/dist-packages (from neqsim) (1.19.5)\n",
            "Requirement already satisfied: matplotlib in /usr/local/lib/python3.7/dist-packages (from neqsim) (3.2.2)\n",
            "Requirement already satisfied: pandas in /usr/local/lib/python3.7/dist-packages (from neqsim) (1.1.5)\n",
            "Collecting jpype1\n",
            "\u001b[?25l  Downloading https://files.pythonhosted.org/packages/cd/a5/9781e2ef4ca92d09912c4794642c1653aea7607f473e156cf4d423a881a1/JPype1-1.2.1-cp37-cp37m-manylinux2010_x86_64.whl (457kB)\n",
            "\u001b[K     |████████████████████████████████| 460kB 35.1MB/s \n",
            "\u001b[?25hRequirement already satisfied: python-dateutil>=2.1 in /usr/local/lib/python3.7/dist-packages (from matplotlib->neqsim) (2.8.1)\n",
            "Requirement already satisfied: pyparsing!=2.0.4,!=2.1.2,!=2.1.6,>=2.0.1 in /usr/local/lib/python3.7/dist-packages (from matplotlib->neqsim) (2.4.7)\n",
            "Requirement already satisfied: kiwisolver>=1.0.1 in /usr/local/lib/python3.7/dist-packages (from matplotlib->neqsim) (1.3.1)\n",
            "Requirement already satisfied: cycler>=0.10 in /usr/local/lib/python3.7/dist-packages (from matplotlib->neqsim) (0.10.0)\n",
            "Requirement already satisfied: pytz>=2017.2 in /usr/local/lib/python3.7/dist-packages (from pandas->neqsim) (2018.9)\n",
            "Requirement already satisfied: typing-extensions; python_version < \"3.8\" in /usr/local/lib/python3.7/dist-packages (from jpype1->neqsim) (3.7.4.3)\n",
            "Requirement already satisfied: six>=1.5 in /usr/local/lib/python3.7/dist-packages (from python-dateutil>=2.1->matplotlib->neqsim) (1.15.0)\n",
            "Installing collected packages: jpype1, neqsim\n",
            "Successfully installed jpype1-1.2.1 neqsim-2.3.1\n"
          ],
          "name": "stdout"
        }
      ]
    },
    {
      "cell_type": "code",
      "metadata": {
        "id": "TXi-BaRnty_b",
        "colab": {
          "base_uri": "https://localhost:8080/"
        },
        "outputId": "03af9fd6-3898-425f-ef2c-cacda6a36612"
      },
      "source": [
        "from neqsim.thermo import fluid, createfluid, TPflash,printFrame,fluidcreator\n",
        "\n",
        "fluid1 = fluid(\"srk\", 303.15, 35.01325)\n",
        " \n",
        "fluid1.addComponent(\"nitrogen\", 0.0028941);\n",
        "fluid1.addComponent(\"CO2\", 0.054069291);\n",
        "fluid1.addComponent(\"methane\", 0.730570915);\n",
        "fluid1.addComponent(\"ethane\", 0.109004002);\n",
        "fluid1.addComponent(\"propane\", 0.061518891);\n",
        "fluid1.addComponent(\"n-butane\", 0.0164998);\n",
        "fluid1.addComponent(\"i-butane\", 0.006585);\n",
        "fluid1.addComponent(\"n-pentane\", 0.005953);\n",
        "fluid1.addComponent(\"i-pentane\", 0.0040184);\n",
        "fluid1.addTBPfraction(\"C6\", 0.6178399, 86.17801 / 1000.0, 0.6639999);\n",
        "fluid1.addComponent(\"water\", 0.27082);\n",
        "fluid1.createDatabase(True);\n",
        "fluid1.setMixingRule(2);\n",
        "fluid1.setMultiPhaseCheck(True);\n",
        "\n",
        "import time\n",
        "\n",
        "start = time.time()\n",
        "print(\"start benchmark...\")\n",
        "\n",
        "for lp in range(5000):\n",
        "    TPflash(fluid1)\n",
        "\n",
        "end = time.time()\n",
        "print(\"time \", (end - start), \" sec\")\n",
        "printFrame(fluid1)"
      ],
      "execution_count": 5,
      "outputs": [
        {
          "output_type": "stream",
          "text": [
            "start benchmark...\n",
            "time  4.480942487716675  sec\n",
            "                          total         gas          oil      aqueous                   \n",
            "           nitrogen   1.5396E-3  3.72093E-3   2.03085E-4   5.3483E-10    [mole fraction]\n",
            "                CO2  2.87637E-2  4.95261E-2   2.03023E-2   2.23283E-5    [mole fraction]\n",
            "            methane  3.88648E-1  8.34819E-1   1.37574E-1   2.19164E-7    [mole fraction]\n",
            "             ethane  5.79878E-2  7.71317E-2   5.97076E-2  5.94714E-10    [mole fraction]\n",
            "            propane  3.27268E-2  2.19863E-2   5.14963E-2  1.29002E-13    [mole fraction]\n",
            "           n-butane  8.77755E-3  2.37476E-3   1.67214E-2  5.04215E-17    [mole fraction]\n",
            "           i-butane  3.50308E-3  1.27767E-3    6.4009E-3  1.67078E-17    [mole fraction]\n",
            "          n-pentane  3.16687E-3  3.21665E-4   6.47506E-3  1.82465E-20    [mole fraction]\n",
            "          i-pentane   2.1377E-3  2.77047E-4    4.3213E-3  2.74085E-20    [mole fraction]\n",
            "              C6_PC  3.28678E-1  7.46058E-3   6.93439E-1  1.16776E-15    [mole fraction]\n",
            "              water  1.44071E-1  1.10398E-3   3.35895E-3   9.99977E-1    [mole fraction]\n",
            "                                                                                        \n",
            "            Density               3.00866E1    6.09739E2    9.97766E2           [kg/m^3]\n",
            "      PhaseFraction              3.88126E-1   4.69806E-1   1.42067E-1    [mole fraction]\n",
            "          MolarMass   4.27477E1   1.98841E1    6.91152E1    1.80156E1          [kg/kmol]\n",
            "           Z factor              9.19721E-1   1.71119E-1    3.3188E-2                [-]\n",
            " Heat Capacity (Cp)               2.23978E0    2.51135E0    4.80319E0          [kJ/kg*K]\n",
            " Heat Capacity (Cv)               1.59283E0    2.02406E0    3.50947E0          [kJ/kg*K]\n",
            "     Speed of Sound               3.88861E2    8.42774E2     3.4089E3            [m/sec]\n",
            "           Enthalpy  -4.19086E2   1.86211E1    -3.5623E2   -2.53636E3            [kJ/kg]\n",
            "            Entropy  -1.38473E0  -1.09405E0   -1.02859E0   -6.77947E0          [kJ/kg*K]\n",
            "     JT coefficient              5.21024E-1  -3.49181E-2  -2.16758E-2            [K/bar]\n",
            "                                                                                        \n",
            "          Viscosity              1.22789E-5   2.19592E-4   8.00023E-4         [kg/m*sec]\n",
            "       Conductivity               3.5515E-2    1.0019E-1   6.22135E-1            [W/m*K]\n",
            "     SurfaceTension              9.74704E-3   9.74704E-3                           [N/m]\n",
            "                                               4.7675E-2    4.7675E-2              [N/m]\n",
            "                                 6.17181E-2                6.17181E-2              [N/m]\n",
            "                                                                                        \n",
            "           Pressure                35.01325     35.01325     35.01325              [bar]\n",
            "        Temperature                  303.15       303.15       303.15                [K]\n",
            "                                                                                        \n",
            "              Model                 SRK-EOS      SRK-EOS      SRK-EOS                  -\n",
            "        Mixing Rule                 classic      classic      classic                  -\n",
            "                                                                                        \n",
            "             Stream                                                                    -\n",
            "                                                                                        \n",
            "                                                                                        \n",
            "                                                                                        \n",
            "                                                                                        \n"
          ],
          "name": "stdout"
        }
      ]
    }
  ]
}