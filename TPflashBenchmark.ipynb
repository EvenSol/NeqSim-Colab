{
  "nbformat": 4,
  "nbformat_minor": 0,
  "metadata": {
    "colab": {
      "provenance": [],
      "private_outputs": true,
      "authorship_tag": "ABX9TyOv8b+pHFl1NMObH0h1S9q+",
      "include_colab_link": true
    },
    "kernelspec": {
      "name": "python3",
      "display_name": "Python 3"
    }
  },
  "cells": [
    {
      "cell_type": "markdown",
      "metadata": {
        "id": "view-in-github",
        "colab_type": "text"
      },
      "source": [
        "<a href=\"https://colab.research.google.com/github/EvenSol/NeqSim-Colab/blob/master/TPflashBenchmark.ipynb\" target=\"_parent\"><img src=\"https://colab.research.google.com/assets/colab-badge.svg\" alt=\"Open In Colab\"/></a>"
      ]
    },
    {
      "cell_type": "code",
      "metadata": {
        "id": "b4Ne_81ytqKz"
      },
      "source": [
        "!pip install neqsim"
      ],
      "execution_count": null,
      "outputs": []
    },
    {
      "cell_type": "code",
      "metadata": {
        "id": "TXi-BaRnty_b"
      },
      "source": [
        "from neqsim.thermo import fluid, createfluid, TPflash,printFrame,fluidcreator\n",
        "\n",
        "fluid1 = fluid(\"srk\", 303.15, 35.01325)\n",
        "\n",
        "fluid1.addComponent(\"nitrogen\", 0.0028941)\n",
        "fluid1.addComponent(\"CO2\", 0.054069291)\n",
        "fluid1.addComponent(\"methane\", 0.730570915)\n",
        "fluid1.addComponent(\"ethane\", 0.109004002)\n",
        "fluid1.addComponent(\"propane\", 0.061518891)\n",
        "fluid1.addComponent(\"n-butane\", 0.0164998)\n",
        "fluid1.addComponent(\"i-butane\", 0.006585)\n",
        "fluid1.addComponent(\"n-pentane\", 0.005953)\n",
        "fluid1.addComponent(\"i-pentane\", 0.0040184)\n",
        "fluid1.addTBPfraction(\"C6\", 0.6178399, 86.17801 / 1000.0, 0.6639999)\n",
        "fluid1.addComponent(\"water\", 0.27082)\n",
        "fluid1.createDatabase(True)\n",
        "fluid1.setMixingRule(2)\n",
        "fluid1.setMultiPhaseCheck(True)\n",
        "\n",
        "import time\n",
        "\n",
        "start = time.time()\n",
        "print(\"start benchmark...\")\n",
        "\n",
        "for lp in range(5000):\n",
        "    TPflash(fluid1)\n",
        "\n",
        "end = time.time()\n",
        "print(\"time \", (end - start), \" sec\")\n",
        "printFrame(fluid1)"
      ],
      "execution_count": null,
      "outputs": []
    },
    {
      "cell_type": "code",
      "source": [
        "from neqsim.thermo import PHflash\n",
        "\n",
        "fluid1 = fluid(\"srk\", 303.15, 35.01325)\n",
        "\n",
        "fluid1.addComponent(\"nitrogen\",0.0028941)\n",
        "fluid1.addComponent(\"CO2\",0.054069291)\n",
        "fluid1.addComponent(\"methane\",0.730570915)\n",
        "fluid1.addComponent(\"ethane\",0.109004002)\n",
        "fluid1.addComponent(\"propane\",0.061518891)\n",
        "fluid1.setMixingRule(2)\n",
        "\n",
        "fluid1.init(0)\n",
        "fluid1.setNumberOfPhases(1)\n",
        "fluid1.setMaxNumberOfPhases(1)\n",
        "fluid1.setForcePhaseTypes(True)\n",
        "fluid1.setPhaseType(0, 'gas')\n",
        "\n",
        "import time\n",
        "fluid1.setPressure(25.0)\n",
        "start = time.time()\n",
        "print(\"start benchmark...\")\n",
        "\n",
        "for lp in range(5000):\n",
        "    TPflash(fluid1)\n",
        "\n",
        "\n",
        "fluid1.initProperties()\n",
        "ent = fluid1.getEnthalpy()\n",
        "\n",
        "fluid1.setPressure(85.0)\n",
        "\n",
        "for lp in range(5000):\n",
        "    PHflash(fluid1,ent)\n",
        "\n",
        "end = time.time()\n",
        "print(\"time \", (end - start), \" sec\")\n",
        "printFrame(fluid1)"
      ],
      "metadata": {
        "id": "N8DXDBxll4VQ"
      },
      "execution_count": null,
      "outputs": []
    }
  ]
}