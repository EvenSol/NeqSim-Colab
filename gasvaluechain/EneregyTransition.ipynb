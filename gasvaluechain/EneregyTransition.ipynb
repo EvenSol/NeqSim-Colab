{
  "nbformat": 4,
  "nbformat_minor": 0,
  "metadata": {
    "colab": {
      "name": "EneregyTransition.ipynb",
      "provenance": [],
      "collapsed_sections": [],
      "authorship_tag": "ABX9TyPyvUCOQjAHmuwKrUbXxWM5",
      "include_colab_link": true
    },
    "kernelspec": {
      "name": "python3",
      "display_name": "Python 3"
    },
    "language_info": {
      "name": "python"
    }
  },
  "cells": [
    {
      "cell_type": "markdown",
      "metadata": {
        "id": "view-in-github",
        "colab_type": "text"
      },
      "source": [
        "<a href=\"https://colab.research.google.com/github/EvenSol/NeqSim-Colab/blob/master/gasvaluechain/EneregyTransition.ipynb\" target=\"_parent\"><img src=\"https://colab.research.google.com/assets/colab-badge.svg\" alt=\"Open In Colab\"/></a>"
      ]
    },
    {
      "cell_type": "markdown",
      "metadata": {
        "id": "NkgUrkRPeDEK"
      },
      "source": [
        "# Use of natural gas (history, present and future)\n",
        "......."
      ]
    },
    {
      "cell_type": "markdown",
      "metadata": {
        "id": "Qz0xMgBKerCm"
      },
      "source": [
        "https://eto.dnv.com/2020#ETO2019-top\n",
        "\n",
        "https://eto.dnv.com/2020/oil-gas/transforming-the-oil-and-gas-industry\n",
        "\n"
      ]
    },
    {
      "cell_type": "markdown",
      "metadata": {
        "id": "btEc1YiZfPIL"
      },
      "source": [
        "We forecast that hydrogen and carbon capture and storage (CCS) will be a catalyst for deep decarbonization after 2035, removing carbon from natural gas – before or after combustion – to reach hard-to-abate sectors. This could transform the oil and gas industry into the decarbonizer of hydrocarbons and the world’s supplier of carbon capture and storage. It could transform the sector so that it is an essential contributor to realizing climate ambitions, rather than to missing them. "
      ]
    },
    {
      "cell_type": "code",
      "metadata": {
        "id": "wIC7sI34eCDV"
      },
      "source": [
        ""
      ],
      "execution_count": null,
      "outputs": []
    }
  ]
}