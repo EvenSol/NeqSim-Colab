{
  "nbformat": 4,
  "nbformat_minor": 0,
  "metadata": {
    "colab": {
      "name": "useOfNaturalGas.ipynb",
      "provenance": [],
      "collapsed_sections": [],
      "authorship_tag": "ABX9TyNKGinIxUOehRFmEpMdPd1P",
      "include_colab_link": true
    },
    "kernelspec": {
      "name": "python3",
      "display_name": "Python 3"
    },
    "language_info": {
      "name": "python"
    }
  },
  "cells": [
    {
      "cell_type": "markdown",
      "metadata": {
        "id": "view-in-github",
        "colab_type": "text"
      },
      "source": [
        "<a href=\"https://colab.research.google.com/github/EvenSol/NeqSim-Colab/blob/master/gasvaluechain/useOfNaturalGas.ipynb\" target=\"_parent\"><img src=\"https://colab.research.google.com/assets/colab-badge.svg\" alt=\"Open In Colab\"/></a>"
      ]
    },
    {
      "cell_type": "markdown",
      "metadata": {
        "id": "lD4_qOLefxIH"
      },
      "source": [
        "# Use of natural gas (history, present and future)\n",
        "...\n",
        "\n",
        "https://yearbook.enerdata.net/total-energy/world-consumption-statistics.html\n",
        "\n",
        "https://en.wikipedia.org/wiki/Natural_gas\n",
        "\n",
        "https://htt.io/natural-gas-past-present-future/\n",
        "\n",
        "\n",
        "# "
      ]
    },
    {
      "cell_type": "markdown",
      "metadata": {
        "id": "KjyHPkaCpT4f"
      },
      "source": [
        "#History\n",
        "\n",
        "##Production\n",
        "\n",
        "###World\n",
        "* https://yearbook.enerdata.net/natural-gas/world-natural-gas-production-statistics.html\n",
        "\n",
        "###Norway\n",
        "* https://www.norskpetroleum.no/en/framework/norways-petroleum-history/\n",
        "* https://www.norskpetroleum.no/en/production-and-exports/production-forecasts/\n",
        "* https://www.norskpetroleum.no/en/facts/field/\n",
        "* https://www.npd.no/en/facts/\n",
        "\n",
        "##Consumption\n",
        "\n",
        "* https://yearbook.enerdata.net/natural-gas/gas-consumption-data.html\n"
      ]
    },
    {
      "cell_type": "markdown",
      "metadata": {
        "id": "gX-z6Hbq8JzK"
      },
      "source": [
        "#Figures\n"
      ]
    },
    {
      "cell_type": "code",
      "metadata": {
        "id": "3FCBHmvvfsgX"
      },
      "source": [
        ""
      ],
      "execution_count": null,
      "outputs": []
    }
  ]
}