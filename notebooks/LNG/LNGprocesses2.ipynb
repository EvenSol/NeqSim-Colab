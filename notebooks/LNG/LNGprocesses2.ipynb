{
  "nbformat": 4,
  "nbformat_minor": 0,
  "metadata": {
    "colab": {
      "provenance": [],
      "authorship_tag": "ABX9TyOQVDyWt9qdF5a4dISIazhj",
      "include_colab_link": true
    },
    "kernelspec": {
      "name": "python3",
      "display_name": "Python 3"
    },
    "language_info": {
      "name": "python"
    }
  },
  "cells": [
    {
      "cell_type": "markdown",
      "metadata": {
        "id": "view-in-github",
        "colab_type": "text"
      },
      "source": [
        "<a href=\"https://colab.research.google.com/github/EvenSol/NeqSim-Colab/blob/master/process/LNGprocesses2.ipynb\" target=\"_parent\"><img src=\"https://colab.research.google.com/assets/colab-badge.svg\" alt=\"Open In Colab\"/></a>"
      ]
    },
    {
      "cell_type": "code",
      "execution_count": 1,
      "metadata": {
        "colab": {
          "base_uri": "https://localhost:8080/"
        },
        "id": "6FTF07WZBt-5",
        "outputId": "9ae64529-f35d-4998-9810-671a89fc6c6e"
      },
      "outputs": [
        {
          "output_type": "stream",
          "name": "stdout",
          "text": [
            "Looking in indexes: https://pypi.org/simple, https://us-python.pkg.dev/colab-wheels/public/simple/\n",
            "Collecting neqsim\n",
            "  Downloading neqsim-2.4.15-py3-none-any.whl (27.9 MB)\n",
            "\u001b[2K     \u001b[90m━━━━━━━━━━━━━━━━━━━━━━━━━━━━━━━━━━━━━━━━\u001b[0m \u001b[32m27.9/27.9 MB\u001b[0m \u001b[31m11.9 MB/s\u001b[0m eta \u001b[36m0:00:00\u001b[0m\n",
            "\u001b[?25hCollecting jpype1 (from neqsim)\n",
            "  Downloading JPype1-1.4.1-cp310-cp310-manylinux_2_12_x86_64.manylinux2010_x86_64.whl (465 kB)\n",
            "\u001b[2K     \u001b[90m━━━━━━━━━━━━━━━━━━━━━━━━━━━━━━━━━━━━━━\u001b[0m \u001b[32m465.3/465.3 kB\u001b[0m \u001b[31m25.3 MB/s\u001b[0m eta \u001b[36m0:00:00\u001b[0m\n",
            "\u001b[?25hRequirement already satisfied: pandas in /usr/local/lib/python3.10/dist-packages (from neqsim) (1.5.3)\n",
            "Requirement already satisfied: packaging in /usr/local/lib/python3.10/dist-packages (from jpype1->neqsim) (23.1)\n",
            "Requirement already satisfied: python-dateutil>=2.8.1 in /usr/local/lib/python3.10/dist-packages (from pandas->neqsim) (2.8.2)\n",
            "Requirement already satisfied: pytz>=2020.1 in /usr/local/lib/python3.10/dist-packages (from pandas->neqsim) (2022.7.1)\n",
            "Requirement already satisfied: numpy>=1.21.0 in /usr/local/lib/python3.10/dist-packages (from pandas->neqsim) (1.22.4)\n",
            "Requirement already satisfied: six>=1.5 in /usr/local/lib/python3.10/dist-packages (from python-dateutil>=2.8.1->pandas->neqsim) (1.16.0)\n",
            "Installing collected packages: jpype1, neqsim\n",
            "Successfully installed jpype1-1.4.1 neqsim-2.4.15\n"
          ]
        }
      ],
      "source": [
        "!pip install neqsim==2.5.35"
      ]
    },
    {
      "cell_type": "markdown",
      "source": [
        "#LNG liquefraction processees\n",
        "LNG (liquefied natural gas) liquefaction processes involve converting natural gas into a liquid state by cooling it to extremely low temperatures. The liquefaction process reduces the volume of natural gas by about 600 times, making it more feasible and economical for transportation and storage.\n",
        "\n",
        "There are several LNG liquefaction processes used in the industry, but I will describe the most commonly used processes:\n",
        "\n",
        "Cascade Process: The cascade process is a multistage cooling system that uses a combination of refrigerants to achieve the desired low temperature. In this process, natural gas is initially chilled and partially liquefied by a refrigerant, typically propane or ethylene. The partially liquefied gas is then further cooled using a mixed refrigerant, which consists of a combination of methane, ethane, propane, and nitrogen. The mixed refrigerant cools the gas to its final liquefaction temperature, typically around -162°C (-260°F).\n",
        "\n",
        "C3-MR (C3 Mixed Refrigerant) Process: This process uses a single mixed refrigerant, composed mainly of propane, to cool and liquefy the natural gas. The C3-MR process is known for its simplicity and energy efficiency. The natural gas is pre-cooled using ambient air or a separate refrigeration cycle before entering the main heat exchanger, where it is cooled by the C3 mixed refrigerant. The heat released during the liquefaction process is used to superheat the mixed refrigerant, improving the overall efficiency.\n",
        "\n",
        "Linde Process: The Linde process, also known as the classical cascade process, is one of the oldest and most widely used LNG liquefaction processes. It involves a series of heat exchangers and expansion valves to achieve liquefaction. The process uses multiple pure refrigerants, such as nitrogen, methane, and ethylene, in a cascading arrangement. Each refrigerant cools the natural gas in a separate heat exchanger, and the cooled natural gas passes through expansion valves to achieve liquefaction.\n",
        "\n",
        "AP-C3MR (Arctic Cascade C3 Mixed Refrigerant) Process: The AP-C3MR process is specifically designed for colder climates and Arctic regions. It is an advanced version of the C3-MR process, incorporating additional heat exchangers and equipment to handle extremely low temperatures. The process uses propane as the main refrigerant, with a combination of nitrogen and methane as sub-coolers. This process is suitable for LNG plants located in regions where ambient temperatures can reach extremely low levels."
      ],
      "metadata": {
        "id": "FKM75k6PBxdx"
      }
    },
    {
      "cell_type": "code",
      "source": [],
      "metadata": {
        "id": "ki6MF11lCMEr"
      },
      "execution_count": null,
      "outputs": []
    },
    {
      "cell_type": "markdown",
      "source": [
        "#NeqSim simulations of LNG liquefraction processes"
      ],
      "metadata": {
        "id": "HA_HKv_2CAiq"
      }
    },
    {
      "cell_type": "code",
      "source": [
        "#......"
      ],
      "metadata": {
        "id": "xgZ38SOBCIIK"
      },
      "execution_count": null,
      "outputs": []
    }
  ]
}