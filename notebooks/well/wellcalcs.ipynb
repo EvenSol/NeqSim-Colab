{
  "nbformat": 4,
  "nbformat_minor": 0,
  "metadata": {
    "colab": {
      "provenance": [],
      "authorship_tag": "ABX9TyPvA6D2/ZlZIX7RtLxQccvG",
      "include_colab_link": true
    },
    "kernelspec": {
      "name": "python3",
      "display_name": "Python 3"
    },
    "language_info": {
      "name": "python"
    }
  },
  "cells": [
    {
      "cell_type": "markdown",
      "metadata": {
        "id": "view-in-github",
        "colab_type": "text"
      },
      "source": [
        "<a href=\"https://colab.research.google.com/github/EvenSol/NeqSim-Colab/blob/master/notebooks/well/wellcalcs.ipynb\" target=\"_parent\"><img src=\"https://colab.research.google.com/assets/colab-badge.svg\" alt=\"Open In Colab\"/></a>"
      ]
    },
    {
      "cell_type": "code",
      "execution_count": 1,
      "metadata": {
        "id": "ZUCC2As5Ext5"
      },
      "outputs": [],
      "source": [
        "%%capture\n",
        "!pip install neqsim\n",
        "import neqsim\n",
        "from neqsim.thermo.thermoTools import *\n",
        "import matplotlib\n",
        "import numpy as np\n",
        "import matplotlib.pyplot as plt\n",
        "import math\n",
        "%matplotlib inline"
      ]
    },
    {
      "cell_type": "markdown",
      "source": [
        "# Oil and gas Wells"
      ],
      "metadata": {
        "id": "HYEneHgOEyTZ"
      }
    },
    {
      "cell_type": "markdown",
      "source": [
        "#Litterature\n",
        "\n",
        "https://www.youtube.com/watch?v=wjm5k6Kf-RU\n",
        "\n",
        "https://www.youtube.com/watch?v=YQtDiX2Dbr0\n",
        "\n",
        "Production Engineering: Flow in Well Tubing\n",
        "\n",
        "https://www.e-education.psu.edu/png301/node/526"
      ],
      "metadata": {
        "id": "EXU-XjaqE03a"
      }
    },
    {
      "cell_type": "markdown",
      "source": [
        "#Calculation of flow productivity from oil and gas wells"
      ],
      "metadata": {
        "id": "YR_rDSrXMIxv"
      }
    },
    {
      "cell_type": "markdown",
      "source": [
        "Calculating flow productivity from oil and gas wells involves using inflow performance relationships (IPR), which are equations that describe how the well production rate varies with the flowing bottom-hole pressure (FBHP). These equations are crucial for predicting the performance of the well under different operating conditions. There are several common models for this:\n",
        "\n",
        "1. **Vogel's Model**: This is one of the simplest and most widely used models for oil wells. It assumes a radial flow regime and is typically used for wells producing from solution-gas drive reservoirs. The basic form of Vogel's equation is:\n",
        "\n",
        "   $ q = q_{max} \\left( 1 - 0.2 \\frac{p_{wf}}{p_r} - 0.8 \\left( \\frac{p_{wf}}{p_r} \\right)^2 \\right) $\n",
        "\n",
        "   where $ q $ is the production rate, $ q_{max} $ is the maximum production rate (at zero bottom-hole flowing pressure), $ p_{wf} $ is the bottom-hole flowing pressure, and $ p_r $ is the average reservoir pressure.\n",
        "\n",
        "2. **Darcy's Law**: This is a fundamental equation used to describe the flow of fluids in porous media and can be applied to both oil and gas wells. The equation is:\n",
        "\n",
        "   $ q = \\frac{k A (p_r - p_{wf})}{\\mu B h} $\n",
        "\n",
        "   where $ k $ is the permeability of the rock, $ A $ is the cross-sectional area of the flow, $ \\mu $ is the fluid viscosity, $ B $ is the formation volume factor, $ h $ is the thickness of the reservoir, and $ p_r $ and $ p_{wf} $ are as described above.\n",
        "\n",
        "3. **For Gas Wells**: The inflow performance of gas wells is often described using a modified form of Darcy's law, taking into account the specific properties of gas, such as its compressibility. The equation is usually presented in a form that includes the gas flow rate, reservoir pressure, bottom-hole pressure, and factors related to the properties of the reservoir and the gas.\n",
        "\n",
        "For pure gas wells, the inflow performance relationships (IPR) can be a bit more complex due to the compressible nature of gas. Here are some common equations used to calculate flow productivity in gas wells:\n",
        "\n",
        "1. **Simple Linear IPR Model**:\n",
        "   This is a basic model where the gas flow rate is directly proportional to the difference in pressure between the reservoir and the bottom-hole. The equation is:\n",
        "   $ q = C \\cdot (p_r^2 - p_{wf}^2) $\n",
        "   where $ q $ is the gas flow rate, $ C $ is a constant that incorporates well and reservoir properties, $ p_r $ is the average reservoir pressure, and $ p_{wf} $ is the bottom-hole flowing pressure.\n",
        "\n",
        "2. **Real Gas Potential Equation**:\n",
        "The Real Gas Potential Equation is an important tool for predicting the performance of gas wells, especially under varying pressure conditions. In SI units, this equation is often expressed as follows:\n",
        "\n",
        "$ q = \\frac{7.08 \\times 10^{-3} \\times k \\times h \\times \\left( p_r^2 - p_{wf}^2 \\right)}{\\mu \\times z \\times T} \\ln \\left( \\frac{p_r + \\sqrt{p_r^2 - p_{wf}^2}}{p_{wf}} \\right) $\n",
        "\n",
        "Where:\n",
        "- $ q $ is the gas flow rate in cubic meters per day (m³/day).\n",
        "- $ k $ is the permeability of the formation in millidarcies (mD).\n",
        "- $ h $ is the thickness of the gas-bearing formation in meters (m).\n",
        "- $ p_r $ is the average reservoir pressure in Pascals (Pa).\n",
        "- $ p_{wf} $ is the flowing bottom hole pressure in Pascals (Pa).\n",
        "- $ \\mu $ is the gas viscosity in Pascal-seconds (Pa.s).\n",
        "- $ z $ is the gas deviation factor (dimensionless).\n",
        "- $ T $ is the temperature of the gas in the reservoir in Kelvin (K).\n",
        "\n",
        "To convert $ k $ from millidarcies to the SI unit (m²), use the conversion factor $ 1 \\text{ mD} = 9.869233 \\times 10^{-16} \\text{ m}^2 $.\n",
        "\n",
        "3. **Non-Darcy Flow Equation**:\n",
        "   For high-rate gas wells, non-Darcy flow effects can become significant. The IPR in such cases is adjusted to account for these effects. The equation often takes a form like:\n",
        "   $ q = \\left( \\frac{2 \\pi k h}{\\mu z \\ln(r_e/r_w)} \\right) \\left( p_r^2 - p_{wf}^2 \\right) - \\beta q^2 $\n",
        "   where $ \\beta $ is a non-Darcy flow coefficient, and $ r_e $ and $ r_w $ are the external radius of the drainage area and the wellbore radius, respectively."
      ],
      "metadata": {
        "id": "QRKNBAkuMrOm"
      }
    },
    {
      "cell_type": "markdown",
      "source": [
        "## Simple Linear IPR Model\n"
      ],
      "metadata": {
        "id": "PcuYSqTzOo0m"
      }
    },
    {
      "cell_type": "code",
      "source": [
        "def linear_ipr_si(p_r, p_wf, C):\n",
        "    # p_r and p_wf in Pascals, C in appropriate units (1/s²)\n",
        "    q = C * (p_r**2 - p_wf**2)\n",
        "    return q\n",
        "\n",
        "# Example usage\n",
        "p_r = 2.07e7  # Reservoir pressure in Pascals (3000 psi ≈ 2.07e7 Pa)\n",
        "p_wf = 6.9e6  # Bottom-hole flowing pressure in Pascals (1000 psi ≈ 6.9e6 Pa)\n",
        "C = 1.233e-10  # Constant in 1/s² (converted from original units)\n",
        "\n",
        "flow_rate_si = linear_ipr_si(p_r, p_wf, C)\n",
        "print(f\"Flow Rate: {flow_rate_si} m³/s\")\n"
      ],
      "metadata": {
        "colab": {
          "base_uri": "https://localhost:8080/"
        },
        "id": "9ltk_8o0Oyrr",
        "outputId": "1509ebde-4dcb-415b-e088-9981f38b9454"
      },
      "execution_count": 2,
      "outputs": [
        {
          "output_type": "stream",
          "name": "stdout",
          "text": [
            "Flow Rate: 46962.504 m³/s\n"
          ]
        }
      ]
    },
    {
      "cell_type": "markdown",
      "source": [
        "## Real Gas Potential Equation"
      ],
      "metadata": {
        "id": "VpbadE9hO71c"
      }
    },
    {
      "cell_type": "code",
      "source": [
        "import math\n",
        "\n",
        "def real_gas_potential_si(k_mD, h, p_r, p_wf, mu, z, T):\n",
        "    # Convert permeability from mD to m²\n",
        "    k = k_mD * 9.869233e-16\n",
        "\n",
        "    # Implementing the Real Gas Potential Equation in SI units\n",
        "    q = (7.08e-3 * k * h * (p_r**2 - p_wf**2)) / (mu * z * T) * math.log((p_r + math.sqrt(p_r**2 - p_wf**2)) / p_wf)\n",
        "\n",
        "    # Converting m³/s to m³/day\n",
        "    q_m3_per_day = q * 86400\n",
        "\n",
        "    return q_m3_per_day\n",
        "\n",
        "# Example usage\n",
        "k_mD = 50  # Permeability in millidarcies\n",
        "h = 30  # Thickness of the gas reservoir in meters\n",
        "p_r = 2.07e7  # Average reservoir pressure in Pascals\n",
        "p_wf = 1.38e7  # Flowing bottom hole pressure in Pascals\n",
        "mu = 1e-5  # Gas viscosity in Pa.s\n",
        "z = 0.9  # Gas deviation factor\n",
        "T = 350  # Reservoir temperature in Kelvin\n",
        "\n",
        "flow_rate = real_gas_potential_si(k_mD, h, p_r, p_wf, mu, z, T)\n",
        "print(f\"Flow Rate: {flow_rate} m³/day\")\n",
        "\n"
      ],
      "metadata": {
        "colab": {
          "base_uri": "https://localhost:8080/"
        },
        "id": "iiiUKHW8O9o_",
        "outputId": "1d17cd0e-0cb3-400d-ff11-73cb4c9c2bff"
      },
      "execution_count": 3,
      "outputs": [
        {
          "output_type": "stream",
          "name": "stdout",
          "text": [
            "Flow Rate: 65863617.471509494 m³/day\n"
          ]
        }
      ]
    },
    {
      "cell_type": "markdown",
      "source": [
        "#Calculation of inflow perfomance in wells based on well tests"
      ],
      "metadata": {
        "id": "IzjW96IDSgqe"
      }
    },
    {
      "cell_type": "markdown",
      "source": [
        "Calculating inflow performance in wells based on well test data typically involves analyzing the relationship between the well's production rate and its flowing bottom-hole pressure (FBHP). This process, often referred to as building an Inflow Performance Relationship (IPR), is crucial for understanding how a well will perform under different pressure conditions.\n",
        "\n",
        "The steps to calculate inflow performance from well test data are as follows:\n",
        "\n",
        "1. **Gather Well Test Data**: Collect data from well tests, including production rates (oil, gas, water) and corresponding FBHPs for each test point.\n",
        "\n",
        "2. **Plot the Data**: Plot the production rate against FBHP. For oil wells, it's common to plot the oil rate versus the FBHP. For gas wells, plot the gas rate against the square of the FBHP.\n",
        "\n",
        "3. **Fit a Curve to the Data**: Depending on the type of well and reservoir (oil or gas, type of drive mechanism), different types of curves or equations are used. Common models include:\n",
        "    - **Vogel's model** for oil wells.\n",
        "    - **Real Gas Potential equation** for gas wells.\n",
        "\n",
        "\n",
        "Here's a basic Python example to demonstrate how you might process and fit a curve to well test data for an oil well using Vogel's model:\n",
        "\n",
        "This code provides a basic framework for analyzing well test data to build an IPR. For more accurate and detailed analysis, especially for gas wells or more complex reservoir conditions, additional data processing and more sophisticated models might be needed."
      ],
      "metadata": {
        "id": "QJ0UIRi4Slrm"
      }
    },
    {
      "cell_type": "code",
      "source": [
        "import numpy as np\n",
        "import matplotlib.pyplot as plt\n",
        "from scipy.optimize import curve_fit\n",
        "\n",
        "# Example well test data (oil rate vs FBHP)\n",
        "fbhp = np.array([2500, 2300, 2000, 1800, 1500])  # FBHP in psi\n",
        "oil_rate = np.array([100, 90, 75, 60, 40])  # Oil rate in barrels per day\n",
        "\n",
        "# Vogel's model\n",
        "def vogels_model(p, pr, q_max):\n",
        "    return q_max * (1 - 0.2 * (p/pr) - 0.8 * (p/pr)**2)\n",
        "\n",
        "# Assuming a known average reservoir pressure (pr) and max oil rate (q_max)\n",
        "pr = 3000  # Average reservoir pressure in psi\n",
        "q_max = max(oil_rate)  # Max oil rate observed\n",
        "\n",
        "# Fit Vogel's model to the data\n",
        "popt, _ = curve_fit(vogels_model, fbhp, oil_rate, p0=[pr, q_max])\n",
        "\n",
        "# Plotting the data and the fitted curve\n",
        "plt.scatter(fbhp, oil_rate, label='Test Data')\n",
        "plt.plot(fbhp, vogels_model(fbhp, *popt), label='Vogel\\'s Model Fit', color='red')\n",
        "plt.xlabel('FBHP (psi)')\n",
        "plt.ylabel('Oil Rate (bbl/day)')\n",
        "plt.legend()\n",
        "plt.title('Inflow Performance Relationship')\n",
        "plt.show()"
      ],
      "metadata": {
        "colab": {
          "base_uri": "https://localhost:8080/",
          "height": 472
        },
        "id": "tRsWFfc5StoO",
        "outputId": "fe498e71-3c4c-4d59-b1a8-0370fbe5e5d7"
      },
      "execution_count": 4,
      "outputs": [
        {
          "output_type": "display_data",
          "data": {
            "text/plain": [
              "<Figure size 640x480 with 1 Axes>"
            ],
            "image/png": "[encoded data removed]"
          },
          "metadata": {}
        }
      ]
    },
    {
      "cell_type": "markdown",
      "source": [
        "#Flow of oil and gas in wells\n",
        "Simulating flow in oil and gas wells is a complex task that integrates principles from fluid dynamics, thermodynamics, rock mechanics, and more. The specific equations used can vary based on the details of the simulation and the assumptions made. However, here's a basic summary of the primary equations involved:\n",
        "\n",
        "1. **Darcy's Law for Single Phase Flow**:\n",
        "   Describes the flow of a fluid through a porous medium.\n",
        "   $ q = -kA\\frac{\\Delta P}{\\mu L} $\n",
        "   Where:\n",
        "   - $ q $ = flow rate (m³/s)\n",
        "   - $ k $ = permeability of the rock (m²)\n",
        "   - $ A $ = cross-sectional area perpendicular to the flow (m²)\n",
        "   - $ \\Delta P $ = pressure drop across the length $ L $ (Pa)\n",
        "   - $ \\mu $ = fluid viscosity (Pa.s)\n",
        "   - $ L $ = length over which the pressure drop occurs (m)\n",
        "\n",
        "2. **Multiphase Flow**:\n",
        "   The flow of oil, gas, and sometimes water concurrently in a well can be described using relative permeabilities and phase saturations. The generalized Darcy's law for a phase $ i $ becomes:\n",
        "   $ q_i = -\\frac{k k_{ri}}{\\mu_i}A\\frac{\\Delta P}{L} $\n",
        "   Where:\n",
        "   - $ k_{ri} $ = relative permeability for phase $ i $\n",
        "   - $ \\mu_i $ = viscosity of phase $ i $\n",
        "\n",
        "3. **Conservation of Mass**:\n",
        "   For any phase $ i $:\n",
        "   $ \\frac{\\partial (\\phi \\rho_i S_i)}{\\partial t} + \\nabla \\cdot (\\rho_i \\mathbf{v}_i) = q_i $\n",
        "   Where:\n",
        "   - $ \\phi $ = porosity of the rock\n",
        "   - $ \\rho_i $ = density of phase $ i $\n",
        "   - $ S_i $ = saturation of phase $ i $\n",
        "   - $ \\mathbf{v}_i $ = Darcy velocity of phase $ i $\n",
        "   - $ q_i $ = source/sink term (e.g., well injection/production rate)\n",
        "\n",
        "4. **Conservation of Momentum**:\n",
        "   The most basic form is the mechanical energy balance or the hydraulic gradient equation:\n",
        "   $ \\frac{\\Delta P}{L} = \\rho g h + \\frac{1}{2} \\rho v^2 + f \\frac{\\rho v^2}{2D} $\n",
        "   Where:\n",
        "   - $ \\rho $ = fluid density\n",
        "   - $ g $ = gravitational acceleration\n",
        "   - $ h $ = elevation head (height difference)\n",
        "   - $ v $ = fluid velocity\n",
        "   - $ D $ = pipe diameter\n",
        "   - $ f $ = friction factor\n",
        "\n",
        "5. **PVT Relations**:\n",
        "   Equations that relate pressure, volume, and temperature for oil and gas. These can be empirical correlations, cubic equations of state (like Peng-Robinson), or tabulated lab data.\n",
        "\n",
        "6. **Wellbore Flow Performance (Inflow and Outflow Curves)**:\n",
        "   $ P_{wf} = P_r - q \\times IPR $ for inflow\n",
        "   $ P_{wf} = P_{wh} + \\Delta P_{friction} + \\Delta P_{elevation} $ for outflow\n",
        "   Where:\n",
        "   - $ P_{wf} $ = flowing bottomhole pressure\n",
        "   - $ P_r $ = reservoir pressure\n",
        "   - $ P_{wh} $ = wellhead pressure\n",
        "   - $ IPR $ = Inflow Performance Relationship (function or curve describing reservoir deliverability)\n",
        "\n",
        "7. **Temperature Profiles**:\n",
        "   Considering joule-thomson effect, frictional heating, geothermal gradient, etc., can be essential for deep wells or when simulating well interventions.\n",
        "\n",
        "Simulation of flow in wells often involves coupling these equations and solving them iteratively. Advanced simulations might incorporate more complex phenomena like phase transitions, non-Newtonian fluid behavior, thermal effects, and rock-fluid interactions. Commercial reservoir and well simulators often solve these equations using numerical techniques like finite difference or finite element methods.\n"
      ],
      "metadata": {
        "id": "Ze-Kr-lBJ7nV"
      }
    },
    {
      "cell_type": "markdown",
      "source": [
        "#Beggs and Brills method\n"
      ],
      "metadata": {
        "id": "GjnSttvgKo_X"
      }
    },
    {
      "cell_type": "markdown",
      "source": [
        "The Beggs and Brill method is a widely recognized empirical method used for predicting multiphase flow in vertical and inclined wellbore tubing, primarily in the oil and gas industry. Developed by J.R. Brill and H. Beggs at the University of Tulsa in the 1960s, this method helps in predicting pressure drops for flowing gas-liquid mixtures in pipes.\n",
        "\n",
        "Here's a summary of the key equations and concepts associated with the Beggs and Brill method:\n",
        "\n",
        "1. **Flow Pattern Prediction**:\n",
        "   Flow pattern is an essential component for subsequent calculations. The method categorizes flow patterns into:\n",
        "   - Bubble Flow\n",
        "   - Slug Flow\n",
        "   - Transition Flow (only in upward flow in inclined and vertical pipes)\n",
        "   - Annular Flow\n",
        "   A set of dimensionless groups and curves derived from experimental data are used to determine which flow regime is present.\n",
        "\n",
        "2. **Liquid Holdup, $ \\epsilon $**:\n",
        "   The liquid holdup represents the fraction of the pipe cross-sectional area that's occupied by the liquid phase. An empirical correlation derived from experimental data provides the liquid holdup:\n",
        "   $ \\epsilon = f(Fr, N_{LV}, \\theta, \\rho_L, \\rho_G) $\n",
        "   Where:\n",
        "   - $ Fr $ is the Froude number\n",
        "   - $ N_{LV} $ is a dimensionless liquid velocity number\n",
        "   - $ \\theta $ is the angle of inclination of the pipe\n",
        "   - $ \\rho_L $ and $ \\rho_G $ are the densities of the liquid and gas phases, respectively.\n",
        "\n",
        "3. **Frictional Pressure Drop**:\n",
        "   The frictional pressure drop, $ \\Delta P_f $, is given as:\n",
        "   $ \\Delta P_f = f_p \\times \\frac{L}{D} \\times \\frac{\\rho_m v^2}{2} $\n",
        "   Where:\n",
        "   - $ f_p $ is the two-phase friction factor, which is determined using empirical correlations based on flow regime.\n",
        "   - $ L $ is the length of the pipe segment.\n",
        "   - $ D $ is the pipe diameter.\n",
        "   - $ \\rho_m $ is the two-phase mixture density.\n",
        "   - $ v $ is the mixture velocity.\n",
        "\n",
        "4. **Gravitational Pressure Drop**:\n",
        "   The gravitational pressure drop, $ \\Delta P_g $, due to the hydrostatic head of the fluid column, is calculated as:\n",
        "   $ \\Delta P_g = \\epsilon \\rho_L g h + (1 - \\epsilon) \\rho_G g h $\n",
        "   Where:\n",
        "   - $ g $ is the acceleration due to gravity.\n",
        "   - $ h $ is the height of the pipe segment.\n",
        "\n",
        "5. **Total Pressure Drop**:\n",
        "   The total pressure drop, $ \\Delta P $, across the pipe segment can then be obtained as the sum of the frictional and gravitational pressure drops:\n",
        "   $ \\Delta P = \\Delta P_f + \\Delta P_g $\n",
        "\n",
        "The Beggs and Brill method, while empirical, provides a practical way of estimating pressure drops in multiphase flow scenarios, especially when other detailed mechanistic models might be computationally expensive or require more detailed input data. However, users should be aware of its limitations, and it might not be appropriate for all situations, especially in non-standard conditions or when very accurate predictions are necessary."
      ],
      "metadata": {
        "id": "6cjVGTqiKz9W"
      }
    },
    {
      "cell_type": "markdown",
      "source": [
        "#NeqSim example using Beggs and Brills method"
      ],
      "metadata": {
        "id": "fAWiItoNK9aw"
      }
    },
    {
      "cell_type": "code",
      "source": [
        "inletPressure = 30.0\n",
        "inletTemperature = 45.2\n",
        "fluid1 = createfluid('light oil')\n",
        "fluid1.setMixingRule('classic')\n",
        "fluid1.setPressure(inletPressure, \"bara\")\n",
        "fluid1.setTemperature(inletTemperature, \"C\")\n",
        "fluid1.setMultiPhaseCheck(True)\n",
        "TPflash(fluid1)\n",
        "printFrame(fluid1)"
      ],
      "metadata": {
        "id": "DLfLo-ZkLBnQ",
        "outputId": "ded5dc1c-7d65-464c-c251-c1d66eb2f49f",
        "colab": {
          "base_uri": "https://localhost:8080/"
        }
      },
      "execution_count": 28,
      "outputs": [
        {
          "output_type": "stream",
          "name": "stdout",
          "text": [
            "| 0                  | 1           | 2                  | 3                  | 4   | 5   | 6               |\n",
            "|:-------------------|:------------|:-------------------|:-------------------|:----|:----|:----------------|\n",
            "|                    | total       | GAS                | OIL                |     |     |                 |\n",
            "| nitrogen           | 8.60585E-3  | 1.67173E-2         | 9.25641E-4         |     |     | [mole fraction] |\n",
            "| CO2                | 1.72117E-2  | 2.63875E-2         | 8.52371E-3         |     |     | [mole fraction] |\n",
            "| methane            | 4.47504E-1  | 7.95611E-1         | 1.17902E-1         |     |     | [mole fraction] |\n",
            "| ethane             | 9.46644E-2  | 1.1868E-1          | 7.1925E-2          |     |     | [mole fraction] |\n",
            "| propane            | 4.30293E-2  | 3.17267E-2         | 5.3731E-2          |     |     | [mole fraction] |\n",
            "| i-butane           | 8.60585E-3  | 3.75379E-3         | 1.32E-2            |     |     | [mole fraction] |\n",
            "| n-butane           | 1.0327E-2   | 3.54581E-3         | 1.67478E-2         |     |     | [mole fraction] |\n",
            "| i-pentane          | 8.60585E-3  | 1.5203E-3          | 1.53147E-2         |     |     | [mole fraction] |\n",
            "| n-pentane          | 8.60585E-3  | 1.23295E-3         | 1.55868E-2         |     |     | [mole fraction] |\n",
            "| n-hexane           | 8.60585E-3  | 4.91857E-4         | 1.62885E-2         |     |     | [mole fraction] |\n",
            "| n-heptane          | 8.60585E-3  | 1.95238E-4         | 1.65694E-2         |     |     | [mole fraction] |\n",
            "| n-octane           | 8.60585E-3  | 7.64653E-5         | 1.66818E-2         |     |     | [mole fraction] |\n",
            "| n-nonane           | 8.60585E-3  | 3.09921E-5         | 1.67249E-2         |     |     | [mole fraction] |\n",
            "| nC10               | 8.60585E-3  | 1.21036E-5         | 1.67428E-2         |     |     | [mole fraction] |\n",
            "| C10-C15_PC         | 1.72117E-1  | 1.72357E-5         | 3.35068E-1         |     |     | [mole fraction] |\n",
            "| C16-C19_PC         | 8.60585E-2  | 2.19941E-8         | 1.67542E-1         |     |     | [mole fraction] |\n",
            "| C20-C30_PC         | 4.30293E-2  | 3.37618E-10        | 8.37711E-2         |     |     | [mole fraction] |\n",
            "| C31-C50_PC         | 8.60585E-3  | 8.04334E-12        | 1.67542E-2         |     |     | [mole fraction] |\n",
            "|                    |             |                    |                    |     |     |                 |\n",
            "| Density            |             | 2.42267E1          | 7.25537E2          |     |     | [kg/m^3]        |\n",
            "| PhaseFraction      |             | 4.86347E-1         | 5.13653E-1         |     |     | [mole fraction] |\n",
            "| MolarMass          | 9.93533E1   | 2.00641E1          | 1.74427E2          |     |     | [kg/kmol]       |\n",
            "| Z factor           |             | 9.40056E-1         | 3.3497E-1          |     |     | [-]             |\n",
            "| Heat Capacity (Cp) |             | 2.23235E0          | 2.34522E0          |     |     | [kJ/kg*K]       |\n",
            "| Heat Capacity (Cv) |             | 1.64945E0          | 2.18102E0          |     |     | [kJ/kg*K]       |\n",
            "| Speed of Sound     |             | 3.97682E2          | 1.08022E3          |     |     | [m/sec]         |\n",
            "| Enthalpy           | -2.15185E2  | 5.75525E1          | -2.4489E2          |     |     | [kJ/kg]         |\n",
            "| Entropy            | -4.09109E-1 | -8.55238E-1        | -3.60519E-1        |     |     | [kJ/kg*K]       |\n",
            "| JT coefficient     |             | 4.81743E-1         | -5.63911E-2        |     |     | [K/bar]         |\n",
            "|                    |             |                    |                    |     |     |                 |\n",
            "| Viscosity          |             | 1.24526E-5         | 1.56357E-3         |     |     | [kg/m*sec]      |\n",
            "| Conductivity       |             | 3.66102E-2         | 1.03522E-1         |     |     | [W/m*K]         |\n",
            "| SurfaceTension     |             | 1.11873E-2         | 1.11873E-2         |     |     | [N/m]           |\n",
            "|                    |             |                    |                    |     |     |                 |\n",
            "|                    |             |                    |                    |     |     |                 |\n",
            "|                    |             |                    |                    |     |     |                 |\n",
            "| Pressure           |             | 30.0               | 30.0               |     |     | [bar]           |\n",
            "| Temperature        |             | 318.34999999999997 | 318.34999999999997 |     |     | [K]             |\n",
            "|                    |             |                    |                    |     |     |                 |\n",
            "| Model              |             | SRK-EOS            | SRK-EOS            |     |     | -               |\n",
            "| Mixing Rule        |             | classic            | classic            |     |     | -               |\n",
            "|                    |             |                    |                    |     |     |                 |\n",
            "| Stream             |             |                    |                    |     |     | -               |\n",
            "|                    |             |                    |                    |     |     |                 |\n",
            "|                    |             |                    |                    |     |     |                 |\n",
            "|                    |             |                    |                    |     |     |                 |\n",
            "|                    |             |                    |                    |     |     |                 |\n"
          ]
        }
      ]
    },
    {
      "cell_type": "code",
      "source": [
        "from neqsim.process import stream\n",
        "\n",
        "wellheadpressure = 100.0\n",
        "bottomholepressure = 200.0\n",
        "\n",
        "stream1 = jNeqSim.processSimulation.processEquipment.stream.Stream(fluid1.clone())\n",
        "stream1.setFlowRate(10.5, 'MSm3/day')\n",
        "stream1.setPressure(bottomholepressure, 'bara')\n",
        "stream1.setTemperature(75.0, 'C')\n",
        "\n",
        "flowline1 = jNeqSim.processSimulation.processEquipment.pipeline.PipeBeggsAndBrills(stream1);\n",
        "flowline1.setDiameter(0.635);\n",
        "flowline1.setPipeWallRoughness(15e-6);\n",
        "flowline1.setLength(1200);\n",
        "flowline1.setElevation(1200.0);\n",
        "flowline1.setNumberOfIncrements(20);\n",
        "\n",
        "adjuster = jNeqSim.processSimulation.processEquipment.util.Adjuster(\"adjuster\");\n",
        "adjuster.setTargetVariable(flowline1.getOutletStream(), \"pressure\",\n",
        "    wellheadpressure, \"bara\");\n",
        "adjuster.setAdjustedVariable(stream1, \"flow\", \"MSm3/day\");\n",
        "adjuster.setMaxAdjustedValue(200.0);\n",
        "adjuster.setMinAdjustedValue(0.1);\n",
        "\n",
        "process = jNeqSim.processSimulation.processSystem.ProcessSystem();\n",
        "process.add(stream1);\n",
        "process.add(flowline1);\n",
        "process.add(adjuster);\n",
        "process.run();\n",
        "\n",
        "print('inlet pressure ', flowline1.getInletStream().getPressure(), 'bara')\n",
        "print('outlet pressure ', flowline1.getOutStream().getPressure(), 'bara')\n",
        "print('flow ', flowline1.getOutStream().getFlowRate('MSm3/day'), 'MSm3/day')\n",
        "print('flow regime ', flowline1.getFlowRegime())"
      ],
      "metadata": {
        "id": "hhIKNw-MUVyU",
        "outputId": "052d55df-585f-4e3a-a7ee-6533a3068585",
        "colab": {
          "base_uri": "https://localhost:8080/"
        }
      },
      "execution_count": 6,
      "outputs": [
        {
          "output_type": "stream",
          "name": "stdout",
          "text": [
            "inlet pressure  200.0 bara\n",
            "outlet pressure  152.36296451669995 bara\n",
            "flow  10.394999999999989 MSm3/day\n",
            "flow regime  Single Phase\n"
          ]
        }
      ]
    },
    {
      "cell_type": "code",
      "source": [
        "bottomholepressure = []\n",
        "flows = []\n",
        "\n",
        "for pressure in range(100,170,1):\n",
        "  adjuster.setTargetVariable(flowline1.getOutletStream(), \"pressure\",\n",
        "    pressure, \"bara\");\n",
        "  process.run();\n",
        "  bottomholepressure.append(pressure)\n",
        "  flows.append( flowline1.getOutStream().getFlowRate('MSm3/day'))\n",
        "\n",
        "plt.plot(flows, bottomholepressure)"
      ],
      "metadata": {
        "id": "lNWic9k_WmSB",
        "outputId": "a1d338dc-ee6b-4024-8bfe-ca2a2b7fd034",
        "colab": {
          "base_uri": "https://localhost:8080/",
          "height": 448
        }
      },
      "execution_count": 11,
      "outputs": [
        {
          "output_type": "execute_result",
          "data": {
            "text/plain": [
              "[<matplotlib.lines.Line2D at 0x7f95c2365570>]"
            ]
          },
          "metadata": {},
          "execution_count": 11
        },
        {
          "output_type": "display_data",
          "data": {
            "text/plain": [
              "<Figure size 640x480 with 1 Axes>"
            ],
            "image/png": "[encoded data removed]"
          },
          "metadata": {}
        }
      ]
    },
    {
      "cell_type": "markdown",
      "source": [
        "#Generation of inflow curves"
      ],
      "metadata": {
        "id": "BLNQUy6zRjyb"
      }
    },
    {
      "cell_type": "code",
      "source": [
        "from scipy.optimize import least_squares\n",
        "\n",
        "outletpressure = 50\n",
        "\n",
        "#Establish the process\n",
        "stream1 = jNeqSim.processSimulation.processEquipment.stream.Stream(fluid1.clone())\n",
        "stream1.setFlowRate(10.0, \"kg/hr\")\n",
        "stream1.setTemperature(55.0, \"C\")\n",
        "stream1.setPressure(50.0, \"bara\")\n",
        "\n",
        "pipe = jNeqSim.processSimulation.processEquipment.pipeline.PipeBeggsAndBrills(stream1);\n",
        "pipe.setDiameter(0.2);\n",
        "pipe.setPipeWallRoughness(15e-6);\n",
        "pipe.setLength(1000);\n",
        "pipe.setElevation(1000.0);\n",
        "pipe.setNumberOfIncrements(50);\n",
        "\n",
        "def calcinpres(inletpressure):\n",
        "  stream1.setPressure(inletpressure, \"bara\")\n",
        "  stream1.run()\n",
        "  pipe.run()\n",
        "  return pipe.getOutletPressure()-outletpressure\n",
        "\n",
        "bottomholepressure = []\n",
        "flowlist = []\n",
        "\n",
        "#set flow and outlet pressure to calculate inlet pressure\n",
        "for flows in [0.2, 0.5, 1, 2, 3, 4 ]:\n",
        "  flowlist.append(flows)\n",
        "  stream1.setFlowRate(flows, \"MSm3/day\")\n",
        "  inletpres = least_squares(calcinpres, outletpressure+100.0, bounds = ((1.0,  np.inf)),verbose=0);\n",
        "  bottomholepressure.append(inletpres.x)\n",
        "  print('inlet pressure ' ,inletpres.x, ' otlet pressure ',  outletpressure,  'flow ', flows, ' flow regime ', pipe.getFlowRegime())\n",
        "\n",
        "plt.plot(flowlist, bottomholepressure)"
      ],
      "metadata": {
        "colab": {
          "base_uri": "https://localhost:8080/",
          "height": 558
        },
        "id": "89SwBNRrRpuk",
        "outputId": "60e3c0c4-48d8-4e82-ee15-857994d93530"
      },
      "execution_count": 63,
      "outputs": [
        {
          "output_type": "stream",
          "name": "stdout",
          "text": [
            "inlet pressure  [94.518406]  otlet pressure  50 flow  0.2  flow regime  INTERMITTENT\n",
            "inlet pressure  [93.75228781]  otlet pressure  50 flow  0.5  flow regime  INTERMITTENT\n",
            "inlet pressure  [95.38618328]  otlet pressure  50 flow  1  flow regime  INTERMITTENT\n",
            "inlet pressure  [106.33308178]  otlet pressure  50 flow  2  flow regime  INTERMITTENT\n",
            "inlet pressure  [120.50581]  otlet pressure  50 flow  3  flow regime  INTERMITTENT\n",
            "inlet pressure  [138.34735919]  otlet pressure  50 flow  4  flow regime  INTERMITTENT\n"
          ]
        },
        {
          "output_type": "execute_result",
          "data": {
            "text/plain": [
              "[<matplotlib.lines.Line2D at 0x7f95c1382e90>]"
            ]
          },
          "metadata": {},
          "execution_count": 63
        },
        {
          "output_type": "display_data",
          "data": {
            "text/plain": [
              "<Figure size 640x480 with 1 Axes>"
            ],
            "image/png": "[encoded data removed]"
          },
          "metadata": {}
        }
      ]
    },
    {
      "cell_type": "markdown",
      "source": [
        "#Inflow Performance Relationship (IPR), Tubing Performance Curve (TPC), and Operating Point for a Well"
      ],
      "metadata": {
        "id": "okpktDVwf2NI"
      }
    },
    {
      "cell_type": "code",
      "source": [
        "reservoir_pressure = 120\n",
        "\n",
        "#Establish the process\n",
        "stream2 = jNeqSim.processSimulation.processEquipment.stream.Stream(fluid1.clone())\n",
        "stream2.setFlowRate(1.0, \"MSm3/day\")\n",
        "stream2.setTemperature(55.0, \"C\")\n",
        "stream2.setPressure(reservoir_pressure, \"bara\")\n",
        "stream2.run()\n",
        "\n",
        "wellflow = jNeqSim.processSimulation.processEquipment.reservoir.WellFlow(\"well flow unit\");\n",
        "wellflow.setInletStream(stream2);\n",
        "wellflow.setWellProductionIndex(0.002);\n",
        "wellflow.run()\n",
        "\n",
        "wellflow.getOutletStream().getPressure(\"bara\")\n",
        "\n",
        "botpres = []\n",
        "flowlist2 = []\n",
        "for flows in [0.2, 0.5, 1, 4, 6, 8, 10]:\n",
        "  flowlist2.append(flows)\n",
        "  stream2.setFlowRate(flows, \"MSm3/day\")\n",
        "  wellflow.run()\n",
        "  botpres.append(wellflow.getOutletStream().getPressure(\"bara\"))\n",
        "\n",
        "plt.plot(flowlist2, botpres)\n",
        "plt.plot(flowlist, bottomholepressure)\n",
        "plt.ylabel('bhp [bara]')\n",
        "plt.xlabel('Flow [MSm3/day]')"
      ],
      "metadata": {
        "colab": {
          "base_uri": "https://localhost:8080/",
          "height": 469
        },
        "id": "g-s-pQDbanNy",
        "outputId": "a65627c7-d301-46bb-8559-ee3422b9b951"
      },
      "execution_count": 70,
      "outputs": [
        {
          "output_type": "execute_result",
          "data": {
            "text/plain": [
              "Text(0.5, 0, 'Flow [MSm3/day]')"
            ]
          },
          "metadata": {},
          "execution_count": 70
        },
        {
          "output_type": "display_data",
          "data": {
            "text/plain": [
              "<Figure size 640x480 with 1 Axes>"
            ],
            "image/png": "[encoded data removed]"
          },
          "metadata": {}
        }
      ]
    }
  ]
}