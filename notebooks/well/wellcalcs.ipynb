{
  "nbformat": 4,
  "nbformat_minor": 0,
  "metadata": {
    "colab": {
      "provenance": [],
      "authorship_tag": "ABX9TyNgSHTS6NyRoL0jS4AZQ3z6",
      "include_colab_link": true
    },
    "kernelspec": {
      "name": "python3",
      "display_name": "Python 3"
    },
    "language_info": {
      "name": "python"
    }
  },
  "cells": [
    {
      "cell_type": "markdown",
      "metadata": {
        "id": "view-in-github",
        "colab_type": "text"
      },
      "source": [
        "<a href=\"https://colab.research.google.com/github/EvenSol/NeqSim-Colab/blob/master/notebooks/well/wellcalcs.ipynb\" target=\"_parent\"><img src=\"https://colab.research.google.com/assets/colab-badge.svg\" alt=\"Open In Colab\"/></a>"
      ]
    },
    {
      "cell_type": "code",
      "execution_count": null,
      "metadata": {
        "id": "ZUCC2As5Ext5"
      },
      "outputs": [],
      "source": []
    },
    {
      "cell_type": "markdown",
      "source": [
        "# Oil and gas Wells"
      ],
      "metadata": {
        "id": "HYEneHgOEyTZ"
      }
    },
    {
      "cell_type": "markdown",
      "source": [
        "#Litterature\n",
        "\n",
        "https://www.youtube.com/watch?v=wjm5k6Kf-RU"
      ],
      "metadata": {
        "id": "EXU-XjaqE03a"
      }
    }
  ]
}