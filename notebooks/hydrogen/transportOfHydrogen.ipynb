{
  "nbformat": 4,
  "nbformat_minor": 0,
  "metadata": {
    "colab": {
      "name": "transportOfHydrogen.ipynb",
      "provenance": [],
      "authorship_tag": "ABX9TyMTk6TtFn02PHGPWtUwbFWs",
      "include_colab_link": true
    },
    "kernelspec": {
      "name": "python3",
      "display_name": "Python 3"
    }
  },
  "cells": [
    {
      "cell_type": "markdown",
      "metadata": {
        "id": "view-in-github",
        "colab_type": "text"
      },
      "source": [
        "<a href=\"https://colab.research.google.com/github/EvenSol/NeqSim-Colab/blob/master/notebooks/hydrogen/transportOfHydrogen.ipynb\" target=\"_parent\"><img src=\"https://colab.research.google.com/assets/colab-badge.svg\" alt=\"Open In Colab\"/></a>"
      ]
    },
    {
      "cell_type": "code",
      "metadata": {
        "id": "zzENlhlFWQ6h",
        "cellView": "form"
      },
      "source": [
        "#@title Transport of hydrogen\n",
        "#@markdown This page will give an introduction to transport of hydrogen.\n",
        "#@markdown <br><br>This document is part of the module [\"Introduction to Gas Processing using NeqSim in Colab\"](https://colab.research.google.com/github/EvenSol/NeqSim-Colab/blob/master/notebooks/examples_of_NeqSim_in_Colab.ipynb#scrollTo=_eRtkQnHpL70).\n",
        "%%capture\n",
        "!pip install neqsim==2.5.35\n",
        "import neqsim\n",
        "from neqsim.thermo.thermoTools import *\n",
        "import matplotlib\n",
        "import numpy as np\n",
        "import matplotlib.pyplot as plt\n",
        "import math\n",
        "plt.style.use('classic')\n",
        "%matplotlib inline"
      ],
      "execution_count": 31,
      "outputs": []
    },
    {
      "cell_type": "markdown",
      "metadata": {
        "id": "NCOmUsUQWY9K"
      },
      "source": [
        "#Litterature\n",
        "\n",
        "https://www.equinor.com/en/what-we-do/hydrogen.html"
      ]
    },
    {
      "cell_type": "code",
      "metadata": {
        "id": "unuRgwazWqe8",
        "cellView": "form",
        "outputId": "3b74fa29-cb9f-4133-a5a2-a9bb902e841a",
        "colab": {
          "base_uri": "https://localhost:8080/",
          "height": 422
        }
      },
      "source": [
        "#@title Introduction to transport of hydrogen\n",
        "from IPython.display import YouTubeVideo\n",
        "YouTubeVideo('LsYq9jRkXsg', width=600, height=400)"
      ],
      "execution_count": 32,
      "outputs": [
        {
          "output_type": "execute_result",
          "data": {
            "text/plain": [
              "<IPython.lib.display.YouTubeVideo at 0x7f1c4aea2200>"
            ],
            "text/html": [
              "\n",
              "        <iframe\n",
              "            width=\"600\"\n",
              "            height=\"400\"\n",
              "            src=\"https://www.youtube.com/embed/LsYq9jRkXsg\"\n",
              "            frameborder=\"0\"\n",
              "            allowfullscreen\n",
              "            \n",
              "        ></iframe>\n",
              "        "
            ],
            "image/jpeg": "[encoded data removed]"
          },
          "metadata": {},
          "execution_count": 32
        }
      ]
    },
    {
      "cell_type": "markdown",
      "source": [
        "#Pipeline transport of hydrogen\n",
        "\n",
        "Hydrogen Transportation in Pipelines\n",
        "Hydrogen transportation through pipelines is a feasible option, but it comes with certain challenges and considerations.\n",
        "\n",
        "* Pipeline Material\n",
        "The pipeline material must be able to withstand the high pressure and low temperature of hydrogen. Some metals may become embrittled due to hydrogen, so other pipeline materials like steel, plastic, and composite materials should be considered based on cost, operating conditions, and safety requirements.\n",
        "\n",
        "* Pipeline Design\n",
        "Designing pipelines to prevent hydrogen leakage is a critical safety requirement. Choosing reliable design features such as welded joints, fittings, and valves can ensure safe operation.\n",
        "\n",
        "* Compression and Decompression\n",
        "Hydrogen needs to be compressed to high pressures to move it over long distances, which requires energy and can result in some loss of the product due to compression heating. At the destination, the hydrogen must be decompressed, which also requires energy and can result in cooling of the product.\n",
        "\n",
        "* Safety Considerations\n",
        "Hydrogen is a flammable gas and must be handled with care to prevent ignition and explosion. Pipeline operators must have strict safety protocols in place to prevent accidents, and emergency response plans must be developed in case of an incident."
      ],
      "metadata": {
        "id": "q1gYXPqChwza"
      }
    },
    {
      "cell_type": "code",
      "source": [
        "from neqsim.thermo import fluid, TPflash\n",
        "\n",
        "fluid1 = fluid('pr')\n",
        "fluid1.addComponent('hydrogen', 1.0)\n",
        "fluid1.addComponent('methane', 0.0)\n",
        "fluid1.setPressure(1.01325, 'bara')\n",
        "fluid1.setTemperature(20.0, 'C')\n",
        "\n",
        "TPflash(fluid1);\n",
        "fluid1.initProperties()\n",
        "print('buble point temperature', fluid1.getTemperature('C'), \" at \", fluid1.getPressure(), \" bara\")\n",
        "print('gas density ', fluid1.getPhase('gas').getDensity())\n",
        "print('density ', fluid1.getDensity())\n",
        "\n",
        "method = \"friction theory\"\n",
        "fluid1.getPhase('gas').getPhysicalProperties().setViscosityModel(method)"
      ],
      "metadata": {
        "id": "Vy-nkWcDh1hA",
        "outputId": "d7aa444c-231e-42eb-e540-5ffbd4564830",
        "colab": {
          "base_uri": "https://localhost:8080/"
        }
      },
      "execution_count": 33,
      "outputs": [
        {
          "output_type": "stream",
          "name": "stdout",
          "text": [
            "buble point temperature 20.0  at  1.01325  bara\n",
            "gas density  0.08378487036468386\n",
            "density  0.08378487036468386\n"
          ]
        }
      ]
    },
    {
      "cell_type": "markdown",
      "source": [
        "# Compression of hydrogen"
      ],
      "metadata": {
        "id": "tXhYwXQjjXW4"
      }
    },
    {
      "cell_type": "code",
      "source": [
        "from neqsim import methods\n",
        "from neqsim.thermo import fluid, TPflash, createfluid2\n",
        "from neqsim.process import pipe, pipeline, clearProcess, stream, runProcess, compressor,heater\n",
        "\n",
        "pressureExport = 150.0 #@param {type:\"number\"}\n",
        "temperatureExport = 35.0 #@param {type:\"number\"}\n",
        "\n",
        "clearProcess()\n",
        "stream1 = stream(fluid1)\n",
        "\n",
        "stream1.setFlowRate(130.0, \"MSm3/day\")\n",
        "stream1.setTemperature(20.15, \"C\")\n",
        "stream1.setPressure(90.0, \"bara\")\n",
        "\n",
        "compressor_1 = compressor(stream1, 120.0)\n",
        "compressor_1.setIsentropicEfficiency(0.77)\n",
        "coolerMP1 = heater(compressor_1.getOutStream())\n",
        "coolerMP1.setOutTemperature(20.0+273.15)\n",
        "compressor_2 = compressor(coolerMP1.getOutStream(), pressureExport)\n",
        "compressor_2.setIsentropicEfficiency(0.77)\n",
        "coolerExport = heater(compressor_2.getOutStream())\n",
        "coolerExport.setOutTemperature(temperatureExport+273.15)\n",
        "runProcess()\n",
        "\n",
        "print(\"compressor1 power \", compressor_1.getPower()/1e6, \" MW\")\n",
        "print(\"compressor2 power \", compressor_2.getPower()/1e6, \" MW\")\n",
        "\n",
        "print(\"cooler1 duty \", coolerMP1.getDuty()/1e6, \" MW\")\n",
        "print(\"cooler2 duty \", coolerExport.getDuty()/1e6, \" MW\")"
      ],
      "metadata": {
        "id": "OqgAMjB4jbng",
        "outputId": "a37ba91e-a248-4249-e90a-921cbbb5fc9c",
        "colab": {
          "base_uri": "https://localhost:8080/"
        }
      },
      "execution_count": 43,
      "outputs": [
        {
          "output_type": "stream",
          "name": "stdout",
          "text": [
            "compressor1 power  62.677301375199555  MW\n",
            "compressor2 power  48.73870022018932  MW\n",
            "cooler1 duty  -62.65826537718139  MW\n",
            "cooler2 duty  -20.0442837192593  MW\n"
          ]
        }
      ]
    },
    {
      "cell_type": "code",
      "source": [
        "printFrame(coolerExport.getOutStream().getFluid())"
      ],
      "metadata": {
        "id": "UyS1v4C7m1mz",
        "outputId": "f29f5d75-7a25-4245-80a4-29e5322914d7",
        "colab": {
          "base_uri": "https://localhost:8080/"
        }
      },
      "execution_count": 44,
      "outputs": [
        {
          "output_type": "stream",
          "name": "stdout",
          "text": [
            "| 0                  | 1          | 2           | 3   | 4   | 5   | 6               |\n",
            "|:-------------------|:-----------|:------------|:----|:----|:----|:----------------|\n",
            "|                    | total      | gas         |     |     |     |                 |\n",
            "| hydrogen           | 1E0        | 1E0         |     |     |     | [mole fraction] |\n",
            "| methane            | 0E0        | 0E0         |     |     |     | [mole fraction] |\n",
            "|                    |            |             |     |     |     |                 |\n",
            "| Density            |            | 1.08551E1   |     |     |     | [kg/m^3]        |\n",
            "| PhaseFraction      |            | 1E0         |     |     |     | [mole fraction] |\n",
            "| MolarMass          | 2.016E0    | 2.016E0     |     |     |     | [kg/kmol]       |\n",
            "| Z factor           |            | 1.05603E0   |     |     |     | [-]             |\n",
            "| Heat Capacity (Cp) |            | 1.46332E1   |     |     |     | [kJ/kg*K]       |\n",
            "| Heat Capacity (Cv) |            | 1.01772E1   |     |     |     | [kJ/kg*K]       |\n",
            "| Speed of Sound     |            | 1.43612E3   |     |     |     | [m/sec]         |\n",
            "| Enthalpy           | 5.03406E2  | 5.03406E2   |     |     |     | [kJ/kg]         |\n",
            "| Entropy            | -1.90802E1 | -1.90802E1  |     |     |     | [kJ/kg*K]       |\n",
            "| JT coefficient     |            | -1.32065E-2 |     |     |     | [K/bar]         |\n",
            "|                    |            |             |     |     |     |                 |\n",
            "| Viscosity          |            | 1.0002E-5   |     |     |     | [kg/m*sec]      |\n",
            "| Conductivity       |            | 1E-5        |     |     |     | [W/m*K]         |\n",
            "| SurfaceTension     |            |             |     |     |     | [N/m]           |\n",
            "|                    |            |             |     |     |     |                 |\n",
            "|                    |            |             |     |     |     |                 |\n",
            "|                    |            |             |     |     |     |                 |\n",
            "| Pressure           |            | 150.0       |     |     |     | [bar]           |\n",
            "| Temperature        |            | 308.15      |     |     |     | [K]             |\n",
            "|                    |            |             |     |     |     |                 |\n",
            "| Model              |            | PR-EOS      |     |     |     | -               |\n",
            "| Mixing Rule        |            | no (kij=0)  |     |     |     | -               |\n",
            "|                    |            |             |     |     |     |                 |\n",
            "| Stream             |            |             |     |     |     | -               |\n",
            "|                    |            |             |     |     |     |                 |\n",
            "|                    |            |             |     |     |     |                 |\n",
            "|                    |            |             |     |     |     |                 |\n",
            "|                    |            |             |     |     |     |                 |\n"
          ]
        }
      ]
    },
    {
      "cell_type": "markdown",
      "source": [
        "# Transport of hydrogen in pipeline"
      ],
      "metadata": {
        "id": "ghEOYD6mkQmQ"
      }
    },
    {
      "cell_type": "code",
      "source": [
        "diameter = [0.98, 0.98] #meter\n",
        "roughnes = [5.0e-6, 5.0e-6] #meter\n",
        "position = [0.0, 500000.0] #meter\n",
        "height = [0.0, 0.0] #meter\n",
        "outtemperatures =[278.15, 278.15] #Kelvin\n",
        "outHeatU = [25.0, 25.0] #W/m2K\n",
        "wallHeatU = [35.0, 35.0] #W/m2K\n",
        "\n",
        "print(coolerExport.getOutStream().getFlowRate('MSm3/day'))\n",
        "\n",
        "clearProcess()\n",
        "pipe1 = pipeline(coolerExport.getOutStream(), position, diameter, height, outtemperatures, roughnes,outHeatU,wallHeatU)\n",
        "pipe1.setNumberOfNodesInLeg(100)\n",
        "runProcess()\n",
        "\n",
        "numberofnodes = pipe1.getPipe().getTotalNumberOfNodes()\n",
        "\n",
        "print('number of nodes ' , numberofnodes)\n",
        "print('outlet pressure ', pipe1.getPipe().getNode(numberofnodes-1).getBulkSystem().getPressure('bara'))\n",
        "print('outlet temperature ', pipe1.getPipe().getNode(numberofnodes-1).getBulkSystem().getTemperature('C'))"
      ],
      "metadata": {
        "id": "qVCttZcRkcKQ",
        "outputId": "cfe7d03d-53b5-45d2-a160-acd6cc175b09",
        "colab": {
          "base_uri": "https://localhost:8080/"
        }
      },
      "execution_count": 45,
      "outputs": [
        {
          "output_type": "stream",
          "name": "stdout",
          "text": [
            "130.0\n",
            "number of nodes  102\n",
            "outlet pressure  84.55103958296226\n",
            "outlet temperature  5.156214903892533\n"
          ]
        }
      ]
    },
    {
      "cell_type": "code",
      "source": [
        "diameter = [1.0, 1.0, 1.0]\n",
        "roughness = [15.0e-6, 15.0e-6, 15.0e-6]\n",
        "position = [0.0, 100000.0, 500000.0]\n",
        "elevation = [0.0, 0.0, 0.0]\n",
        "outtemperatures =[278.15, 278.15, 278.15]\n",
        "outHeatU = [15.0, 15.0, 15.0]\n",
        "wallHeatU = [15.0, 15.0, 15.0]\n",
        "\n",
        "clearProcess()\n",
        "stream1 = stream(coolerExport.getOutStream())\n",
        "pipe1 = pipeline(stream1, position, diameter, elevation, outtemperatures, roughness, outHeatU,wallHeatU)\n",
        "runProcess()\n",
        "\n",
        "print('pressure out of pipeline ', pipe1.getOutStream().getFluid().getPressure('bara'), '[bara]')\n",
        "printFrame(pipe1.getOutStream().getFluid())\n",
        "\n",
        "length = []\n",
        "pressure = []\n",
        "temperature = []\n",
        "lengthtot = 0.0\n",
        "for i in range(pipe1.getPipe().getTotalNumberOfNodes()):\n",
        "  length.append(lengthtot);\n",
        "  lengthtot = lengthtot+pipe1.getPipe().getNode(i).getLengthOfNode()\n",
        "  pressure.append(pipe1.getPipe().getNode(i).getBulkSystem().getPressure('bara'))\n",
        "  temperature.append(pipe1.getPipe().getNode(i).getBulkSystem().getTemperature('C'))\n",
        "\n",
        "plt.figure()\n",
        "plt.subplot(2, 1, 1)\n",
        "plt.plot(length, pressure)\n",
        "plt.xlabel('Length [meter]')\n",
        "plt.ylabel('Pressure [bara]')\n",
        "plt.subplot(2, 1, 2)\n",
        "plt.plot(length, temperature)\n",
        "plt.xlabel('Length [meter]')\n",
        "plt.ylabel('Temperature [C]')"
      ],
      "metadata": {
        "colab": {
          "base_uri": "https://localhost:8080/",
          "height": 1000
        },
        "id": "p6JxhU5XBnvh",
        "outputId": "9c0f3686-30fd-418f-e0f7-f5ed1ea220f2"
      },
      "execution_count": 47,
      "outputs": [
        {
          "output_type": "stream",
          "name": "stdout",
          "text": [
            "pressure out of pipeline  83.99771826987052 [bara]\n",
            "| 0                  | 1          | 2                  | 3   | 4   | 5   | 6               |\n",
            "|:-------------------|:-----------|:-------------------|:----|:----|:----|:----------------|\n",
            "|                    | total      | gas                |     |     |     |                 |\n",
            "| hydrogen           | 1E0        | 1E0                |     |     |     | [mole fraction] |\n",
            "| methane            | 0E0        | 0E0                |     |     |     | [mole fraction] |\n",
            "|                    |            |                    |     |     |     |                 |\n",
            "| Density            |            | 6.98214E0          |     |     |     | [kg/m^3]        |\n",
            "| PhaseFraction      |            | 1E0                |     |     |     | [mole fraction] |\n",
            "| MolarMass          | 2.016E0    | 2.016E0            |     |     |     | [kg/kmol]       |\n",
            "| Z factor           |            | 1.02832E0          |     |     |     | [-]             |\n",
            "| Heat Capacity (Cp) |            | 1.44792E1          |     |     |     | [kJ/kg*K]       |\n",
            "| Heat Capacity (Cv) |            | 1.00876E1          |     |     |     | [kJ/kg*K]       |\n",
            "| Speed of Sound     |            | 1.32414E3          |     |     |     | [m/sec]         |\n",
            "| Enthalpy           | 6.37085E1  | 6.37085E1          |     |     |     | [kJ/kg]         |\n",
            "| Entropy            | -1.80912E1 | -1.80912E1         |     |     |     | [kJ/kg*K]       |\n",
            "| JT coefficient     |            | 4.57035E-4         |     |     |     | [K/bar]         |\n",
            "|                    |            |                    |     |     |     |                 |\n",
            "| Viscosity          |            | 8.48511E-6         |     |     |     | [kg/m*sec]      |\n",
            "| Conductivity       |            | 3.48964E-2         |     |     |     | [W/m*K]         |\n",
            "| SurfaceTension     |            |                    |     |     |     | [N/m]           |\n",
            "|                    |            |                    |     |     |     |                 |\n",
            "|                    |            |                    |     |     |     |                 |\n",
            "|                    |            |                    |     |     |     |                 |\n",
            "| Pressure           |            | 83.99771826987052  |     |     |     | [bar]           |\n",
            "| Temperature        |            | 278.41638320213127 |     |     |     | [K]             |\n",
            "|                    |            |                    |     |     |     |                 |\n",
            "| Model              |            | PR-EOS             |     |     |     | -               |\n",
            "| Mixing Rule        |            | no (kij=0)         |     |     |     | -               |\n",
            "|                    |            |                    |     |     |     |                 |\n",
            "| Stream             |            |                    |     |     |     | -               |\n",
            "|                    |            |                    |     |     |     |                 |\n",
            "|                    |            |                    |     |     |     |                 |\n",
            "|                    |            |                    |     |     |     |                 |\n",
            "|                    |            |                    |     |     |     |                 |\n"
          ]
        },
        {
          "output_type": "execute_result",
          "data": {
            "text/plain": [
              "Text(0, 0.5, 'Temperature [C]')"
            ]
          },
          "metadata": {},
          "execution_count": 47
        },
        {
          "output_type": "display_data",
          "data": {
            "text/plain": [
              "<Figure size 640x480 with 2 Axes>"
            ],
            "image/png": "[encoded data removed]"
          },
          "metadata": {}
        }
      ]
    },
    {
      "cell_type": "markdown",
      "source": [
        "# Heat of combustion\n",
        "\n",
        "The heat of combustion of hydrogen is significantly higher than that of natural gas.\n",
        "\n",
        "The heat of combustion is the amount of heat released when a substance is burned. For hydrogen, the heat of combustion is about 141.8 MJ/kg, while for natural gas it is around 55.5 MJ/kg.\n",
        "\n",
        "This means that when hydrogen is burned, it releases more than twice as much heat per unit of mass compared to natural gas. This high heat release is one of the advantages of using hydrogen as a fuel, as it can provide more energy per unit of fuel compared to natural gas.\n",
        "\n",
        "However, it is important to note that the energy density of hydrogen is lower than that of natural gas, which means that a larger volume of hydrogen is required to provide the same amount of energy as natural gas. This can be a challenge for hydrogen storage and transportation, but ongoing research is exploring ways to overcome this limitation."
      ],
      "metadata": {
        "id": "EKgYNjX2gtVv"
      }
    },
    {
      "cell_type": "code",
      "source": [
        "from neqsim.standards import ISO6976\n",
        "referenceTemperatureVolume = \"15.0\" #@param ['0.0', '15.0', '20.0']\n",
        "referenceTemperatureCombustion = 15.0 #@param ['0.0', '15.0', '20.0']\n",
        "numberUnit = 'mass' #@param ['volume', 'mass', 'molar']\n",
        "\n",
        "iso6976 = ISO6976(fluid1)\n",
        "iso6976.setReferenceType(numberUnit)\n",
        "iso6976.setVolRefT(float(referenceTemperatureVolume))\n",
        "iso6976.setEnergyRefT(float(referenceTemperatureCombustion))\n",
        "iso6976.calculate()\n",
        "\n",
        "GCV = round(iso6976.getValue(\"SuperiorCalorificValue\")/1.0e3,3)\n",
        "WI = round(iso6976.getValue(\"SuperiorWobbeIndex\")/1.0e3,3)\n",
        "WIkwh = round(iso6976.getValue(\"SuperiorWobbeIndex\")/1.0e3/3.6,3)\n",
        "relDens = round(iso6976.getValue(\"RelativeDensity\"),3)\n",
        "\n",
        "print('GCV '+ str(GCV) + ' MJ/' +numberUnit)\n",
        "print('WI '+ str(WI), ' MJ/' +numberUnit)\n",
        "print('WI '+ str(WIkwh), ' kWh/' +numberUnit)\n",
        "print('Relative density '+ str(relDens), ' [-]')"
      ],
      "metadata": {
        "id": "vxCjxEpegtA7",
        "outputId": "dd8b76ca-8490-44f4-d50e-2422e3ce67c5",
        "colab": {
          "base_uri": "https://localhost:8080/"
        }
      },
      "execution_count": 48,
      "outputs": [
        {
          "output_type": "stream",
          "name": "stdout",
          "text": [
            "GCV 141.947 MJ/mass\n",
            "WI 538.173  MJ/mass\n",
            "WI 149.492  kWh/mass\n",
            "Relative density 0.07  [-]\n"
          ]
        }
      ]
    }
  ]
}