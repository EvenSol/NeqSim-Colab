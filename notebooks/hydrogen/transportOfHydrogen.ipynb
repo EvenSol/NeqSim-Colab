{
  "nbformat": 4,
  "nbformat_minor": 0,
  "metadata": {
    "colab": {
      "name": "transportOfHydrogen.ipynb",
      "provenance": [],
      "authorship_tag": "ABX9TyNlaWQ2rik7e3iJrDiox64B",
      "include_colab_link": true
    },
    "kernelspec": {
      "name": "python3",
      "display_name": "Python 3"
    }
  },
  "cells": [
    {
      "cell_type": "markdown",
      "metadata": {
        "id": "view-in-github",
        "colab_type": "text"
      },
      "source": [
        "<a href=\"https://colab.research.google.com/github/EvenSol/NeqSim-Colab/blob/master/notebooks/hydrogen/transportOfHydrogen.ipynb\" target=\"_parent\"><img src=\"https://colab.research.google.com/assets/colab-badge.svg\" alt=\"Open In Colab\"/></a>"
      ]
    },
    {
      "cell_type": "code",
      "metadata": {
        "id": "zzENlhlFWQ6h",
        "cellView": "form"
      },
      "source": [
        "#@title Transport of hydrogen\n",
        "#@markdown This page will give an introduction to transport of hydrogen.\n",
        "#@markdown <br><br>This document is part of the module [\"Introduction to Gas Processing using NeqSim in Colab\"](https://colab.research.google.com/github/EvenSol/NeqSim-Colab/blob/master/notebooks/examples_of_NeqSim_in_Colab.ipynb#scrollTo=_eRtkQnHpL70).\n",
        "%%capture\n",
        "!pip install neqsim\n",
        "import neqsim\n",
        "from neqsim.thermo.thermoTools import *\n",
        "import matplotlib\n",
        "import numpy as np\n",
        "import matplotlib.pyplot as plt\n",
        "import math\n",
        "plt.style.use('classic')\n",
        "%matplotlib inline"
      ],
      "execution_count": 1,
      "outputs": []
    },
    {
      "cell_type": "markdown",
      "metadata": {
        "id": "NCOmUsUQWY9K"
      },
      "source": [
        "#Litterature\n",
        "\n",
        "https://www.equinor.com/en/what-we-do/hydrogen.html"
      ]
    },
    {
      "cell_type": "code",
      "metadata": {
        "id": "unuRgwazWqe8",
        "cellView": "form",
        "outputId": "38e67114-d358-4b6e-ce5d-00da96a34c85",
        "colab": {
          "base_uri": "https://localhost:8080/",
          "height": 421
        }
      },
      "source": [
        "#@title Introduction to transport of hydrogen\n",
        "from IPython.display import YouTubeVideo\n",
        "YouTubeVideo('LsYq9jRkXsg', width=600, height=400)"
      ],
      "execution_count": 2,
      "outputs": [
        {
          "output_type": "execute_result",
          "data": {
            "text/plain": [
              "<IPython.lib.display.YouTubeVideo at 0x7f1e6057f9a0>"
            ],
            "text/html": [
              "\n",
              "        <iframe\n",
              "            width=\"600\"\n",
              "            height=\"400\"\n",
              "            src=\"https://www.youtube.com/embed/LsYq9jRkXsg\"\n",
              "            frameborder=\"0\"\n",
              "            allowfullscreen\n",
              "            \n",
              "        ></iframe>\n",
              "        "
            ],
            "image/jpeg": "[encoded data removed]"
          },
          "metadata": {},
          "execution_count": 2
        }
      ]
    },
    {
      "cell_type": "markdown",
      "source": [
        "#Pipeline transport of hydrogen"
      ],
      "metadata": {
        "id": "q1gYXPqChwza"
      }
    },
    {
      "cell_type": "code",
      "source": [
        "from neqsim.thermo import fluid, TPflash\n",
        "\n",
        "fluid1 = fluid('pr')\n",
        "fluid1.addComponent('hydrogen', 1.0)\n",
        "fluid1.addComponent('methane', 0.0)\n",
        "fluid1.setPressure(1.01325, 'bara')\n",
        "fluid1.setTemperature(20.0, 'C')\n",
        "\n",
        "TPflash(fluid1);\n",
        "fluid1.initProperties()\n",
        "print('buble point temperature', fluid1.getTemperature('C'), \" at \", fluid1.getPressure(), \" bara\")\n",
        "print('gas density ', fluid1.getPhase('gas').getDensity())\n",
        "print('density ', fluid1.getDensity())\n",
        "\n",
        "method = \"friction theory\"\n",
        "fluid1.getPhase('gas').getPhysicalProperties().setViscosityModel(method)"
      ],
      "metadata": {
        "id": "Vy-nkWcDh1hA",
        "outputId": "30976186-619b-4b51-c6a0-ff8b1597950c",
        "colab": {
          "base_uri": "https://localhost:8080/"
        }
      },
      "execution_count": 3,
      "outputs": [
        {
          "output_type": "stream",
          "name": "stdout",
          "text": [
            "buble point temperature 20.0  at  1.01325  bara\n",
            "gas density  0.08378487036468386\n",
            "density  0.08378487036468386\n"
          ]
        }
      ]
    },
    {
      "cell_type": "markdown",
      "source": [
        "# Compression of hydrogen"
      ],
      "metadata": {
        "id": "tXhYwXQjjXW4"
      }
    },
    {
      "cell_type": "code",
      "source": [
        "from neqsim import methods\n",
        "from neqsim.thermo import fluid, TPflash, createfluid2\n",
        "from neqsim.process import pipe, pipeline, clearProcess, stream, runProcess, compressor,heater\n",
        "\n",
        "pressureExport = 150.0 #@param {type:\"number\"}\n",
        "temperatureExport = 35.0 #@param {type:\"number\"}\n",
        "\n",
        "clearProcess()\n",
        "stream1 = stream(fluid1)\n",
        "\n",
        "stream1.setFlowRate(10.0, \"MSm3/day\")\n",
        "stream1.setTemperature(20.15, \"C\")\n",
        "stream1.setPressure(90.0, \"bara\")\n",
        "\n",
        "compressor_1 = compressor(stream1, 120.0)\n",
        "compressor_1.setIsentropicEfficiency(0.77)\n",
        "coolerMP1 = heater(compressor_1.getOutStream())\n",
        "coolerMP1.setOutTemperature(20.0+273.15)\n",
        "compressor_2 = compressor(coolerMP1.getOutStream(), pressureExport)\n",
        "compressor_2.setIsentropicEfficiency(0.77)\n",
        "coolerExport = heater(compressor_2.getOutStream())\n",
        "coolerExport.setOutTemperature(temperatureExport+273.15)\n",
        "runProcess()\n",
        "\n",
        "print(\"compressor1 power \", compressor_1.getPower()/1e6, \" MW\")\n",
        "print(\"compressor2 power \", compressor_2.getPower()/1e6, \" MW\")\n",
        "\n",
        "print(\"cooler1 duty \", coolerMP1.getDuty()/1e6, \" MW\")\n",
        "print(\"cooler2 duty \", coolerExport.getDuty()/1e6, \" MW\")"
      ],
      "metadata": {
        "id": "OqgAMjB4jbng",
        "outputId": "1759ec98-c673-4a3f-83ac-b761824a935e",
        "colab": {
          "base_uri": "https://localhost:8080/"
        }
      },
      "execution_count": 4,
      "outputs": [
        {
          "output_type": "stream",
          "name": "stdout",
          "text": [
            "compressor1 power  4.82133087501536  MW\n",
            "compressor2 power  3.749130786168436  MW\n",
            "cooler1 duty  -4.819866567475494  MW\n",
            "cooler2 duty  -1.54186797840459  MW\n"
          ]
        }
      ]
    },
    {
      "cell_type": "code",
      "source": [
        "printFrame(coolerExport.getOutStream().getFluid())"
      ],
      "metadata": {
        "id": "UyS1v4C7m1mz",
        "outputId": "d57e78ca-fa5c-4d8d-e724-f0e3e8d00446",
        "colab": {
          "base_uri": "https://localhost:8080/"
        }
      },
      "execution_count": 5,
      "outputs": [
        {
          "output_type": "stream",
          "name": "stdout",
          "text": [
            "| 0                  | 1          | 2           | 3   | 4   | 5   | 6               |\n",
            "|:-------------------|:-----------|:------------|:----|:----|:----|:----------------|\n",
            "|                    | total      | gas         |     |     |     |                 |\n",
            "| hydrogen           | 1E0        | 1E0         |     |     |     | [mole fraction] |\n",
            "| methane            | 0E0        | 0E0         |     |     |     | [mole fraction] |\n",
            "|                    |            |             |     |     |     |                 |\n",
            "| Density            |            | 1.08551E1   |     |     |     | [kg/m^3]        |\n",
            "| PhaseFraction      |            | 1E0         |     |     |     | [mole fraction] |\n",
            "| MolarMass          | 2.016E0    | 2.016E0     |     |     |     | [kg/kmol]       |\n",
            "| Z factor           |            | 1.05603E0   |     |     |     | [-]             |\n",
            "| Heat Capacity (Cp) |            | 1.46332E1   |     |     |     | [kJ/kg*K]       |\n",
            "| Heat Capacity (Cv) |            | 1.01772E1   |     |     |     | [kJ/kg*K]       |\n",
            "| Speed of Sound     |            | 1.43612E3   |     |     |     | [m/sec]         |\n",
            "| Enthalpy           | 5.03406E2  | 5.03406E2   |     |     |     | [kJ/kg]         |\n",
            "| Entropy            | -1.90802E1 | -1.90802E1  |     |     |     | [kJ/kg*K]       |\n",
            "| JT coefficient     |            | -1.32065E-2 |     |     |     | [K/bar]         |\n",
            "|                    |            |             |     |     |     |                 |\n",
            "| Viscosity          |            | 1.0002E-5   |     |     |     | [kg/m*sec]      |\n",
            "| Conductivity       |            | 1E-5        |     |     |     | [W/m*K]         |\n",
            "| SurfaceTension     |            |             |     |     |     | [N/m]           |\n",
            "|                    |            |             |     |     |     |                 |\n",
            "|                    |            |             |     |     |     |                 |\n",
            "|                    |            |             |     |     |     |                 |\n",
            "| Pressure           |            | 150.0       |     |     |     | [bar]           |\n",
            "| Temperature        |            | 308.15      |     |     |     | [K]             |\n",
            "|                    |            |             |     |     |     |                 |\n",
            "| Model              |            | PR-EOS      |     |     |     | -               |\n",
            "| Mixing Rule        |            | no (kij=0)  |     |     |     | -               |\n",
            "|                    |            |             |     |     |     |                 |\n",
            "| Stream             |            |             |     |     |     | -               |\n",
            "|                    |            |             |     |     |     |                 |\n",
            "|                    |            |             |     |     |     |                 |\n",
            "|                    |            |             |     |     |     |                 |\n",
            "|                    |            |             |     |     |     |                 |\n"
          ]
        }
      ]
    },
    {
      "cell_type": "markdown",
      "source": [
        "# Transport of hydrogen in pipeline"
      ],
      "metadata": {
        "id": "ghEOYD6mkQmQ"
      }
    },
    {
      "cell_type": "code",
      "source": [
        "diameter = [0.98, 0.98] #meter\n",
        "roughnes = [5.0e-6, 5.0e-6] #meter\n",
        "position = [0.0, 5000.0] #meter\n",
        "height = [0.0, 0.0] #meter\n",
        "outtemperatures =[278.15, 278.15] #Kelvin\n",
        "outHeatU = [25.0, 25.0] #W/m2K\n",
        "wallHeatU = [35.0, 35.0] #W/m2K\n",
        "\n",
        "print(coolerExport.getOutStream().getFlowRate('MSm3/day'))\n",
        "\n",
        "clearProcess()\n",
        "pipe1 = pipeline(stream1, position, diameter, height, outtemperatures, roughnes,outHeatU,wallHeatU)\n",
        "pipe1.setNumberOfNodesInLeg(100)\n",
        "runProcess()\n",
        "\n",
        "numberofnodes = pipe1.getPipe().getTotalNumberOfNodes()\n",
        "\n",
        "print('number of nodes ' , numberofnodes)\n",
        "print('outlet pressure ', pipe1.getPipe().getNode(numberofnodes-1).getBulkSystem().getPressure('bara'))\n",
        "print('outlet temperature ', pipe1.getPipe().getNode(numberofnodes-1).getBulkSystem().getTemperature('C'))"
      ],
      "metadata": {
        "id": "qVCttZcRkcKQ",
        "outputId": "1869507e-dccc-4cdf-8ef2-837f13055d29",
        "colab": {
          "base_uri": "https://localhost:8080/"
        }
      },
      "execution_count": 6,
      "outputs": [
        {
          "output_type": "stream",
          "name": "stdout",
          "text": [
            "10.0\n",
            "number of nodes  102\n",
            "outlet pressure  89.9975750071697\n",
            "outlet temperature  8.551217297561834\n"
          ]
        }
      ]
    },
    {
      "cell_type": "code",
      "source": [
        "diameter = [1.0, 1.0, 1.0]\n",
        "roughness = [15.0e-6, 15.0e-6, 15.0e-6]\n",
        "position = [0.0, 100000.0, 50000.0]\n",
        "elevation = [0.0, 0.0, 0.0]\n",
        "outtemperatures =[278.15, 278.15, 278.15]\n",
        "outHeatU = [15.0, 15.0, 15.0]\n",
        "wallHeatU = [15.0, 15.0, 15.0]\n",
        "\n",
        "clearProcess()\n",
        "stream1 = stream(fluid1)\n",
        "pipe1 = pipeline(stream1, position, diameter, elevation, outtemperatures, roughness, outHeatU,wallHeatU)\n",
        "runProcess()\n",
        "\n",
        "print('pressure out of pipeline ', pipe1.getOutStream().getFluid().getPressure('bara'), '[bara]')\n",
        "printFrame(pipe1.getOutStream().getFluid())\n",
        "\n",
        "length = []\n",
        "pressure = []\n",
        "temperature = []\n",
        "lengthtot = 0.0\n",
        "for i in range(pipe1.getPipe().getTotalNumberOfNodes()):\n",
        "  length.append(lengthtot);\n",
        "  lengthtot = lengthtot+pipe1.getPipe().getNode(i).getLengthOfNode()\n",
        "  pressure.append(pipe1.getPipe().getNode(i).getBulkSystem().getPressure('bara'))\n",
        "  temperature.append(pipe1.getPipe().getNode(i).getBulkSystem().getTemperature('C'))\n",
        "\n",
        "plt.figure()\n",
        "plt.subplot(2, 1, 1)\n",
        "plt.plot(length, pressure)\n",
        "plt.xlabel('Length [meter]')\n",
        "plt.ylabel('Pressure [bara]')\n",
        "plt.subplot(2, 1, 2)\n",
        "plt.plot(length, temperature)\n",
        "plt.xlabel('Length [meter]')\n",
        "plt.ylabel('Temperature [C]')"
      ],
      "metadata": {
        "id": "p6JxhU5XBnvh",
        "outputId": "a71ca54f-1eb1-4a76-adeb-7609cbe3b602",
        "colab": {
          "base_uri": "https://localhost:8080/",
          "height": 1000
        }
      },
      "execution_count": 8,
      "outputs": [
        {
          "output_type": "stream",
          "name": "stdout",
          "text": [
            "pressure out of pipeline  90.0 [bara]\n",
            "| 0                  | 1          | 2                  | 3                  | 4   | 5   | 6               |\n",
            "|:-------------------|:-----------|:-------------------|:-------------------|:----|:----|:----------------|\n",
            "|                    | total      | gas                | oil                |     |     |                 |\n",
            "| hydrogen           | 1E0        | 1E0                | 1E0                |     |     | [mole fraction] |\n",
            "| methane            | 0E0        | 0E0                | 0E0                |     |     | [mole fraction] |\n",
            "|                    |            |                    |                    |     |     |                 |\n",
            "| Density            |            | 7.08314E0          | 7.08314E0          |     |     | [kg/m^3]        |\n",
            "| PhaseFraction      |            | 1E0                | 1E0                |     |     | [mole fraction] |\n",
            "| MolarMass          | 2.016E0    | 2.016E0            | 2.016E0            |     |     | [kg/kmol]       |\n",
            "| Z factor           |            | 1.0307E0           | 1.0307E0           |     |     | [-]             |\n",
            "| Heat Capacity (Cp) |            | 1.45135E1          | 1.45135E1          |     |     | [kJ/kg*K]       |\n",
            "| Heat Capacity (Cv) |            | 1.01337E1          | 1.01337E1          |     |     | [kJ/kg*K]       |\n",
            "| Speed of Sound     |            | 1.36062E3          | 1.36062E3          |     |     | [m/sec]         |\n",
            "| Enthalpy           | 5.5917E2   | 2.79585E2          | 2.79585E2          |     |     | [kJ/kg]         |\n",
            "| Entropy            | -3.52579E1 | -1.76289E1         | -1.76289E1         |     |     | [kJ/kg*K]       |\n",
            "| JT coefficient     |            | -2.97601E-3        | -2.97601E-3        |     |     | [K/bar]         |\n",
            "|                    |            |                    |                    |     |     |                 |\n",
            "| Viscosity          |            | 8.82933E-6         | 7.73891E-6         |     |     | [kg/m*sec]      |\n",
            "| Conductivity       |            | 1E-5               | 1E-5               |     |     | [W/m*K]         |\n",
            "| SurfaceTension     |            | 0E0                | 0E0                |     |     | [N/m]           |\n",
            "|                    |            |                    |                    |     |     |                 |\n",
            "|                    |            |                    |                    |     |     |                 |\n",
            "|                    |            |                    |                    |     |     |                 |\n",
            "| Pressure           |            | 90.0               | 90.0               |     |     | [bar]           |\n",
            "| Temperature        |            | 293.29999999999995 | 293.29999999999995 |     |     | [K]             |\n",
            "|                    |            |                    |                    |     |     |                 |\n",
            "| Model              |            | PR-EOS             | PR-EOS             |     |     | -               |\n",
            "| Mixing Rule        |            | no (kij=0)         | no (kij=0)         |     |     | -               |\n",
            "|                    |            |                    |                    |     |     |                 |\n",
            "| Stream             |            |                    |                    |     |     | -               |\n",
            "|                    |            |                    |                    |     |     |                 |\n",
            "|                    |            |                    |                    |     |     |                 |\n",
            "|                    |            |                    |                    |     |     |                 |\n",
            "|                    |            |                    |                    |     |     |                 |\n"
          ]
        },
        {
          "output_type": "execute_result",
          "data": {
            "text/plain": [
              "Text(0, 0.5, 'Temperature [C]')"
            ]
          },
          "metadata": {},
          "execution_count": 8
        },
        {
          "output_type": "display_data",
          "data": {
            "text/plain": [
              "<Figure size 640x480 with 2 Axes>"
            ],
            "image/png": "[encoded data removed]"
          },
          "metadata": {}
        }
      ]
    }
  ]
}