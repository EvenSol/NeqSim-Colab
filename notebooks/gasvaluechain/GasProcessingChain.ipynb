{
  "cells": [
    {
      "cell_type": "markdown",
      "metadata": {
        "id": "view-in-github",
        "colab_type": "text"
      },
      "source": [
        "<a href=\"https://colab.research.google.com/github/EvenSol/NeqSim-Colab/blob/master/notebooks/gasvaluechain/GasProcessingChain.ipynb\" target=\"_parent\"><img src=\"https://colab.research.google.com/assets/colab-badge.svg\" alt=\"Open In Colab\"/></a>"
      ]
    },
    {
      "cell_type": "code",
      "execution_count": 66,
      "metadata": {
        "id": "8VP6GcYbnkVw"
      },
      "outputs": [],
      "source": [
        "%%capture\n",
        "#Install neqsim python package\n",
        "!pip install neqsim -q"
      ]
    },
    {
      "cell_type": "code",
      "execution_count": 67,
      "metadata": {
        "id": "1MR8im7ww95j"
      },
      "outputs": [],
      "source": [
        "#importing packages used\n",
        "import pandas as pd\n",
        "import math\n",
        "import matplotlib.pyplot as plt"
      ]
    },
    {
      "cell_type": "markdown",
      "metadata": {
        "id": "RrUHaHc7nmEj"
      },
      "source": [
        "## Gas Processing Calculations using NeqSim\n",
        "NeqSim is a library for calculation of fluid behavior, phase equilibrium and process simulation. See NeqSim homepage: https://equinor.github.io/neqsimhome/"
      ]
    },
    {
      "cell_type": "markdown",
      "metadata": {
        "id": "1lhtWDzYrV92"
      },
      "source": [
        "## Input parameters\n",
        "The following input parameters are given in the assignment. We will assume that the well stream inlet temperature to platform and rich gas inlet temperature to Kårstø is the same as sea water temperature."
      ]
    },
    {
      "cell_type": "code",
      "execution_count": 68,
      "metadata": {
        "colab": {
          "base_uri": "https://localhost:8080/"
        },
        "id": "bVaYGGfXu6oE",
        "outputId": "633e2706-8cb6-4735-a04b-5d893d32e6d6"
      },
      "outputs": [
        {
          "output_type": "stream",
          "name": "stdout",
          "text": [
            "   ComponentName  MolarComposition[-]\n",
            "0       nitrogen                 0.56\n",
            "1            CO2                 2.02\n",
            "2        methane                81.77\n",
            "3         ethane                 7.77\n",
            "4        propane                 3.91\n",
            "5       i-butane                 0.56\n",
            "6       n-butane                 0.90\n",
            "7      i-pentane                 0.25\n",
            "8      n-pentane                 0.24\n",
            "9       n-hexane                 0.50\n",
            "10     n-heptane                 0.30\n",
            "11      n-octane                 0.20\n",
            "12      n-nonane                 0.12\n",
            "13          nC10                 0.91\n"
          ]
        }
      ],
      "source": [
        "#well stream composition (mole fractions)\n",
        "reservoirFluid = {'ComponentName':  ['nitrogen', 'CO2', 'methane', 'ethane', 'propane', 'i-butane', 'n-butane', 'i-pentane', 'n-pentane', 'n-hexane','n-heptane', 'n-octane', 'n-nonane', 'nC10'],\n",
        "        'MolarComposition[-]':  [0.56, 2.02, 81.77, 7.77, 3.91, 0.56, 0.9, 0.25, 0.24, 0.5, 0.3, 0.2, 0.12, 0.91]\n",
        "}\n",
        "reservoirFluiddf = pd.DataFrame(reservoirFluid) #create a dataframe of the well fluid\n",
        "print(reservoirFluiddf.head(20).to_string())"
      ]
    },
    {
      "cell_type": "code",
      "execution_count": 69,
      "metadata": {
        "id": "P4dU69JOrdWT"
      },
      "outputs": [],
      "source": [
        "well_head_pressure = 180.0 #bara\n",
        "well_head_temperature = 80.0 #degC\n",
        "platform_inlet_pressure = 90.0 #bara\n",
        "platform_inlet_temperature = 5.0 #C\n",
        "platform_outlet_pressure = 200.0 #bara\n",
        "platform_outlet_temperature = 15.0 #C\n",
        "karsto_inlet_pressure = 110.0 #bara\n",
        "karsto_inlet_temperature = 5.0 #bara\n",
        "well_flow_rate = 20.0 #GSm3/year\n",
        "pipeline_length = 690.0 #km\n",
        "sea_water_temperature = 5.0 #C\n",
        "rich_gas_water_dew_point = -10.0 #degC\n",
        "rich_gas_cricondenbar = 90.0 #bara"
      ]
    },
    {
      "cell_type": "markdown",
      "metadata": {
        "id": "6DByaMp3q3OZ"
      },
      "source": [
        "# Q1:\n",
        "Calculate the water dropout during transport from well to platform inlet. Compare the HYSYS calculation with gas solubility diagram given in handouts. Calculate the amount of MEG for hydrate control based on the diagram given in handouts"
      ]
    },
    {
      "cell_type": "code",
      "execution_count": 70,
      "metadata": {
        "id": "OC2v2l5wxWHF"
      },
      "outputs": [],
      "source": [
        "from neqsim.thermo import fluid_df, printFrame\n",
        "from neqsim.process import stream,saturator,clearProcess, runProcess, cooler\n",
        "\n",
        "clearProcess() #reset process simulation\n",
        "\n",
        "reservoirFluid = fluid_df(reservoirFluiddf, modelName='pr') #create a neqsim fluid from the reservoir fluid dataframe. You can select 'pr', 'srk', or 'cpa-eos'\n",
        "reservoirFluid.setMixingRule('classic')\n",
        "reservoirFluid.setMultiPhaseCheck(True) #use multiphase flash in neqsim\n",
        "\n",
        "wellStream = stream('well stream', reservoirFluid) # create a neqsim stream from the reservoir fluid\n",
        "wellStream.setTemperature(well_head_temperature, 'C')\n",
        "wellStream.setPressure(well_head_pressure, 'bara')\n",
        "wellStream.setFlowRate(well_flow_rate*1000.0/365.0, 'MSm3/day') #convert flow to MSm3/day\n",
        "\n",
        "#saturate the well stream with water\n",
        "waterSaturator = saturator('water saturator', wellStream)\n",
        "\n",
        "#Simulating the pipeline using a cooler\n",
        "wellFlowLine = cooler('pipeline from well', waterSaturator.getOutStream())\n",
        "wellFlowLine.setOutTemperature(platform_inlet_temperature, 'C')\n",
        "wellFlowLine.setOutPressure(platform_inlet_pressure, 'bara')\n",
        "\n",
        "wellStreamEnteringPlatform = wellFlowLine.getOutStream()\n",
        "\n",
        "runProcess() #run the process simulation"
      ]
    },
    {
      "cell_type": "markdown",
      "metadata": {
        "id": "g6wlB9iO5uav"
      },
      "source": [
        "The MEG injection rate can be calculated using the formula\n",
        "\n",
        "$wt\\%\\:MEG = \\frac{\\dot{m}_{MEG}}{\\dot{m}_{MEG} + \\dot{m}_{water}}\\cdot 100$\n",
        "\n",
        "For a given wt% MEG, the MEG injection rate can be calculated as\n",
        "\n",
        "$\\dot{m}_{MEG}=\\frac{wt\\%\\:MEG}{100-wt\\%\\:MEG}\\cdot\\dot{m}_{water}$"
      ]
    },
    {
      "cell_type": "code",
      "execution_count": 71,
      "metadata": {
        "id": "LQ196Jfx-W1h"
      },
      "outputs": [],
      "source": [
        "#we will inject MEG to have minimum 45wt% MEG in water entering platform\n",
        "wtMEG = 45.0"
      ]
    },
    {
      "cell_type": "code",
      "execution_count": 72,
      "metadata": {
        "colab": {
          "base_uri": "https://localhost:8080/"
        },
        "id": "eIJwBe3SzkJi",
        "outputId": "abb0f4bb-a514-4f05-f540-bd4d4af50759"
      },
      "outputs": [
        {
          "output_type": "stream",
          "name": "stdout",
          "text": [
            "total water in gas from reservoir  5820.2269063420545  kg/hr\n",
            "condensed water entering platform inlet  5627.300966487732  kg/hr\n",
            "injection rate MEG  4762.003832461681 kg/hr\n"
          ]
        }
      ],
      "source": [
        "flowRateHydrocarbonGas = wellStream.getFlowRate('MSm3/day')\n",
        "flowRateSaturatedGas = waterSaturator.getOutStream().getFlowRate('MSm3/day')\n",
        "waterFromReservoir = waterSaturator.getOutStream().getFluid().getComponent('water').getFlowRate('kg/hr') #read the flow of water from the reservoir\n",
        "freeWaterEnteringPlatform = wellStreamEnteringPlatform.getFluid().getPhase('aqueous').getComponent('water').getFlowRate('kg/hr') #read the flow of condesed water entering platform\n",
        "injectionRateMEG = waterFromReservoir*wtMEG/(100.0-wtMEG)\n",
        "print('total water in gas from reservoir ', waterFromReservoir, ' kg/hr')\n",
        "print('condensed water entering platform inlet ', freeWaterEnteringPlatform, ' kg/hr')\n",
        "print('injection rate MEG ', injectionRateMEG, 'kg/hr')"
      ]
    },
    {
      "cell_type": "markdown",
      "metadata": {
        "id": "yynBkySLAWhu"
      },
      "source": [
        "# Q2:\n",
        "Set up and calculate separation and recompression process to meet the process specifications (cricondenbar) in the pipeline. The operational pressure of the inlet separator is set by a platform inlet choke valve. The inlet separation pressure should be selected in order to minimize recompression work. (use sea water for process cooling)"
      ]
    },
    {
      "cell_type": "markdown",
      "metadata": {
        "id": "Kntx_umoNuKM"
      },
      "source": [
        "NB!\n",
        "\n",
        "In the solution proposed below we will use a three stage separation process and and two stage recompression process. The compression ratios of the compressors will be high, and in a real proces we typically wont have a compressor ratio higher than aprox. 3. In a real process we would need more compression stages/coolers  and scrubbers (eg. four stages)."
      ]
    },
    {
      "cell_type": "code",
      "execution_count": 73,
      "metadata": {
        "id": "2sHqzS66AmUl"
      },
      "outputs": [],
      "source": [
        "%%capture\n",
        "inputdata = {\n",
        "  'firstStagePressure': 69.2,\n",
        "  'temperatureOilHeater' : 75.0,\n",
        "  'secondStagePressure': 8.6,\n",
        "  'thirdStagePressure': 1.3,\n",
        "  'firstStageSuctionCoolerTemperature': 25.0,\n",
        "  'secondStageSuctionCoolerTemperature': 25.0,\n",
        "  'thirdStageSuctionCoolerTemperature':25.0,\n",
        "  'dewPointScrubberTemperature': 25.0,\n",
        "  'firstStageExportCoolerTemperature': 25.0,\n",
        "  'secondStageExportCoolerTemperature': 25.0,\n",
        "  'compressor_efficiency' : 75.0 #%\n",
        "}\n",
        "\n",
        "from neqsim.process import compressor, cooler, separator3phase, getProcess, clearProcess, compsplitter, mixer, heater, stream, pump, separator, runProcess, stream, saturator, valve, filters, heatExchanger, simpleTEGAbsorber,distillationColumn, waterStripperColumn, recycle, setpoint, calculator\n",
        "\n",
        "clearProcess() #reset process simulation\n",
        "\n",
        "chokeValve = valve('inlet choke', wellFlowLine.getOutStream())\n",
        "chokeValve.setOutletPressure(inputdata['firstStagePressure'], 'bara')\n",
        "\n",
        "feedToOffshoreProcess = stream('feed to offshore', chokeValve.getOutStream())\n",
        "feedToOffshoreProcess.setName(\"feed to offshore\")\n",
        "\n",
        "firstStageSeparator = separator3phase('1st stage separator', feedToOffshoreProcess)\n",
        "\n",
        "oilHeaterFromFirstStage = heater('oil heater second stage', firstStageSeparator.getOilOutStream())\n",
        "oilHeaterFromFirstStage.setOutTemperature(inputdata['temperatureOilHeater'],'C')\n",
        "\n",
        "oilThrotValve = valve('valve oil from first stage', oilHeaterFromFirstStage.getOutStream())\n",
        "oilThrotValve.setOutletPressure(inputdata['secondStagePressure'])\n",
        "\n",
        "secondStageSeparator = separator3phase('2nd stage separator', oilThrotValve.getOutStream())\n",
        "\n",
        "oilThrotValve2 = valve('valve oil from second stage', secondStageSeparator.getOilOutStream())\n",
        "oilThrotValve2.setOutletPressure(inputdata['thirdStagePressure'])\n",
        "\n",
        "thirdStageSeparator = separator3phase('3rd stage separator', oilThrotValve2.getOutStream())\n",
        "\n",
        "oilThirdStageToSep =  wellStream.clone()\n",
        "oilThirdStageToSep.setName(\"resyc oil\")\n",
        "thirdStageSeparator.addStream(oilThirdStageToSep)\n",
        "\n",
        "stableOil = stream('stable oil', thirdStageSeparator.getOilOutStream())\n",
        "\n",
        "stableOilPump = pump('oil pump', stableOil,15.0)\n",
        "\n",
        "firstStageCooler = cooler('1st stage cooler', thirdStageSeparator.getGasOutStream())\n",
        "firstStageCooler.setOutTemperature(inputdata['firstStageSuctionCoolerTemperature'],'C')\n",
        "\n",
        "firstStageScrubber = separator(\"1st stage scrubber\", firstStageCooler.getOutStream())\n",
        "\n",
        "firstStageCompressor = compressor('1st stage compressor', firstStageScrubber.getGasOutStream())\n",
        "firstStageCompressor.setOutletPressure(inputdata['secondStagePressure'])\n",
        "firstStageCompressor.setIsentropicEfficiency(inputdata['compressor_efficiency']/100.0)\n",
        "\n",
        "secondStageMixer = mixer('2nd stage mixer')\n",
        "secondStageMixer.addStream(firstStageCompressor.getOutStream())\n",
        "secondStageMixer.addStream(secondStageSeparator.getGasOutStream())\n",
        "\n",
        "secondStageCooler = cooler(\"2nd stage cooler\", secondStageMixer.getOutStream())\n",
        "secondStageCooler.setOutTemperature(inputdata['secondStageSuctionCoolerTemperature'],'C')\n",
        "\n",
        "secondStageScrubber = separator(\"2nd stage scrubber\", secondStageCooler.getOutStream())\n",
        "\n",
        "secondStageCompressor = compressor(\"2nd stage compressor\", secondStageScrubber.getGasOutStream())\n",
        "secondStageCompressor.setOutletPressure(inputdata['firstStagePressure'])\n",
        "secondStageCompressor.setIsentropicEfficiency(inputdata['compressor_efficiency']/100.0)\n",
        "\n",
        "richGasMixer = mixer(\"fourth Stage mixer\")\n",
        "richGasMixer.addStream(secondStageCompressor.getOutStream())\n",
        "richGasMixer.addStream(firstStageSeparator.getGasOutStream())\n",
        "\n",
        "dewPointControlCooler = cooler(\"dew point cooler\", richGasMixer.getOutStream())\n",
        "dewPointControlCooler.setOutTemperature(inputdata['dewPointScrubberTemperature'],'C')\n",
        "\n",
        "dewPointScrubber = separator(\"dew point scrubber\", dewPointControlCooler.getOutStream())\n",
        "\n",
        "lpLiqmixer = mixer(\"LP liq gas mixer\");\n",
        "lpLiqmixer.addStream(firstStageScrubber.getLiquidOutStream());\n",
        "lpLiqmixer.addStream(secondStageScrubber.getLiquidOutStream());\n",
        "lpLiqmixer.addStream(dewPointScrubber.getLiquidOutStream());\n",
        "\n",
        "lpResycle = recycle(\"LP liq resycle\")\n",
        "lpResycle.addStream(lpLiqmixer.getOutStream())\n",
        "lpResycle.setOutletStream(oilThirdStageToSep)\n",
        "\n",
        "splitFactors = [1.0]*(dewPointScrubber.getGasOutStream().getFluid().getNumberOfComponents()+1)\n",
        "splitFactors[-1]=0\n",
        "\n",
        "watersplitter = compsplitter('TEG dehydration', dewPointScrubber.getGasOutStream(), splitFactors)\n",
        "\n",
        "dehydratedRichGas = stream('dehydrated rich gas', watersplitter.getSplitStream(0))\n",
        "\n",
        "runProcess(); #run the process simulation"
      ]
    },
    {
      "cell_type": "code",
      "execution_count": 74,
      "metadata": {
        "id": "xapWC26icBsZ"
      },
      "outputs": [],
      "source": [
        "temperature_firstStageCompressorOut = firstStageCompressor.getOutletStream().getTemperature('C')\n",
        "compressionratio_firstStageCompressor = firstStageCompressor.getOutletStream().getPressure()/firstStageCompressor.getInletStream().getPressure()\n",
        "\n",
        "temperature_secondStageCompressorOut = secondStageCompressor.getOutletStream().getTemperature('C')\n",
        "compressionratio_secondStageCompressor = secondStageCompressor.getOutletStream().getPressure()/secondStageCompressor.getInletStream().getPressure()"
      ]
    },
    {
      "cell_type": "code",
      "execution_count": 75,
      "metadata": {
        "colab": {
          "base_uri": "https://localhost:8080/"
        },
        "id": "acN-nHBHMjjs",
        "outputId": "7100d316-3349-404f-8096-4ee38119239f"
      },
      "outputs": [
        {
          "output_type": "stream",
          "name": "stdout",
          "text": [
            "TVP [bara]  0.993728284493161\n",
            "cricondenbar [bara]  89.93922338695921\n",
            "condensate production [m3/day]  9086.374980939356\n"
          ]
        }
      ],
      "source": [
        "TVP = stableOil.TVP(20.0, 'C')\n",
        "if dewPointScrubber.getGasOutStream().getFluid().hasComponent('water'):\n",
        "  dewPointScrubber.getGasOutStream().getFluid().removeComponent('water')\n",
        "  cricondenbar = dewPointScrubber.getGasOutStream().CCB('bara')\n",
        "offshorecondesateproduction =  stableOilPump.getOutStream().getFlowRate('m3/hr')*24\n",
        "print('TVP [bara] ', TVP)\n",
        "print('cricondenbar [bara] ', cricondenbar)\n",
        "print('condensate production [m3/day] ',offshorecondesateproduction)"
      ]
    },
    {
      "cell_type": "markdown",
      "metadata": {
        "id": "QXHvko47rq9X"
      },
      "source": [
        "Evaluate two vs. one stage export compressor"
      ]
    },
    {
      "cell_type": "code",
      "execution_count": 76,
      "metadata": {
        "colab": {
          "base_uri": "https://localhost:8080/"
        },
        "id": "XIR-ffcafe2E",
        "outputId": "895ab2f8-ffdf-4eeb-9b35-6997c3bbe516"
      },
      "outputs": [
        {
          "output_type": "stream",
          "name": "stdout",
          "text": [
            "power export compressor [kW]  86520.41268710246\n",
            "discharge temperature  118.7632513629191 C\n"
          ]
        }
      ],
      "source": [
        "#One stage export compression process\n",
        "\n",
        "clearProcess()\n",
        "\n",
        "exportCompressor2= compressor(\"export 2nd stage\", dehydratedRichGas)\n",
        "exportCompressor2.setOutletPressure(platform_outlet_pressure, 'bara')\n",
        "exportCompressor2.setIsentropicEfficiency(inputdata['compressor_efficiency']/100.0)\n",
        "\n",
        "exportCooler = cooler(\"export cooler\", exportCompressor2.getOutStream())\n",
        "exportCooler.setOutTemperature(inputdata['secondStageExportCoolerTemperature'],'C')\n",
        "\n",
        "runProcess()\n",
        "\n",
        "powerExpComp2 = exportCompressor2.getPower()/1.0e3\n",
        "print('power export compressor [kW] ', powerExpComp2)\n",
        "print('discharge temperature ', exportCompressor2.getOutStream().getTemperature('C'), 'C')"
      ]
    },
    {
      "cell_type": "code",
      "execution_count": 77,
      "metadata": {
        "colab": {
          "base_uri": "https://localhost:8080/"
        },
        "id": "-3if75LVgGQP",
        "outputId": "c64f4548-dc2b-4856-ae99-cc6604d7ea6a"
      },
      "outputs": [
        {
          "output_type": "stream",
          "name": "stdout",
          "text": [
            "interstage pressure [bara]  117.64352935882194\n",
            "power export compressor (total) [kW]  76589.84806790354\n",
            "discharge temperature 1 70.95900554898338 C  discharge temperature 2 66.61520530439049 C\n"
          ]
        }
      ],
      "source": [
        "#Two stage export compression process with intercooling\n",
        "\n",
        "interstagePressure = math.sqrt(platform_outlet_pressure*dewPointScrubber.getGasOutStream().getPressure('bara'))\n",
        "\n",
        "clearProcess()\n",
        "\n",
        "exportCompressor1 = compressor(\"export 1st stage\", dehydratedRichGas)\n",
        "exportCompressor1.setOutletPressure(interstagePressure, 'bara')\n",
        "exportCompressor1.setIsentropicEfficiency(inputdata['compressor_efficiency']/100.0)\n",
        "\n",
        "exportInterstageCooler = cooler(\"interstage stage cooler\", exportCompressor1.getOutStream())\n",
        "exportInterstageCooler.setOutTemperature(inputdata['firstStageExportCoolerTemperature'],'C')\n",
        "\n",
        "exportCompressor2= compressor(\"export 2nd stage\", exportInterstageCooler.getOutStream())\n",
        "exportCompressor2.setOutletPressure(platform_outlet_pressure, 'bara')\n",
        "exportCompressor2.setIsentropicEfficiency(inputdata['compressor_efficiency']/100.0)\n",
        "\n",
        "exportCooler = cooler(\"export cooler\", exportCompressor2.getOutStream())\n",
        "exportCooler.setOutTemperature(inputdata['secondStageExportCoolerTemperature'],'C')\n",
        "\n",
        "exportGas = stream(\"export gas\", exportCooler.getOutStream())\n",
        "\n",
        "runProcess()\n",
        "\n",
        "powerExpComp1 = exportCompressor1.getPower()/1.0e3\n",
        "powerExpComp2 = exportCompressor2.getPower()/1.0e3\n",
        "print('interstage pressure [bara] ', interstagePressure)\n",
        "print('power export compressor (total) [kW] ', (powerExpComp1+powerExpComp2))\n",
        "print('discharge temperature 1', exportCompressor1.getOutStream().getTemperature('C'), 'C', ' discharge temperature 2', exportCompressor2.getOutStream().getTemperature('C'), 'C')"
      ]
    },
    {
      "cell_type": "markdown",
      "metadata": {
        "id": "bZWzJQL7hXdi"
      },
      "source": [
        "As can be seen the power consumption is reduces siginificantly by selecting a two stage compressor with inter cooling. However a two stage compressor as well as an interstage heat exchanger will be needed."
      ]
    },
    {
      "cell_type": "markdown",
      "metadata": {
        "id": "m6-wcS1SMnu-"
      },
      "source": [
        "# Q3\n",
        "Calculate individual and total compressor work\n"
      ]
    },
    {
      "cell_type": "code",
      "execution_count": 78,
      "metadata": {
        "id": "2-Vei6NIM0su",
        "colab": {
          "base_uri": "https://localhost:8080/"
        },
        "outputId": "60d5e608-8535-47b7-8068-db14d6c63159"
      },
      "outputs": [
        {
          "output_type": "stream",
          "name": "stdout",
          "text": [
            "first stage recompressor power [kW]  993.5323240634063\n",
            "second stage recompressor power [kW]  11093.273540240725\n",
            "first stage export compresor power [kW]  39602.538916681304\n",
            "second stage export compresor power [kW]  36987.309151222245\n",
            "total power for offshore compressors [kW]  88676.65393220767\n"
          ]
        }
      ],
      "source": [
        "powerComp1 = firstStageCompressor.getPower()/1.0e3\n",
        "powerComp2 = secondStageCompressor.getPower()/1.0e3\n",
        "powerExpComp1 = exportCompressor1.getPower()/1.0e3\n",
        "powerExpComp2 = exportCompressor2.getPower()/1.0e3\n",
        "totalCompressorPowerOffshore = (powerComp1+powerComp2+powerExpComp1+powerExpComp2)\n",
        "print('first stage recompressor power [kW] ', powerComp1)\n",
        "print('second stage recompressor power [kW] ', powerComp2)\n",
        "print('first stage export compresor power [kW] ', powerExpComp1)\n",
        "print('second stage export compresor power [kW] ', powerExpComp2)\n",
        "print('total power for offshore compressors [kW] ', totalCompressorPowerOffshore)"
      ]
    },
    {
      "cell_type": "markdown",
      "metadata": {
        "id": "qDEDs48aM7d7"
      },
      "source": [
        "#Q4\n",
        "Estimate heat transfer area of all compressor after-coolers (assume an U value of 1000 W/m^2K for designing the after-coolers). We assume that cooling is done by sea water, and that the inlet cooling water temperature is 5$^{\\circ}$C and that the outlet water temperature is 20$^{\\circ}$. Heating is provided with a heating medium with an inlet temperature of 120$^{\\circ}$ and an outlet temperature of 60$^{\\circ}$.\n",
        "\n",
        "We assume counter current flow in the heat exchangers, and use the following equation for finding nessesary the heat exchanger area.\n",
        "\n",
        "$Q=U\\cdot A\\cdot LMTD$\n",
        "\n",
        "Where Q is the duty of the heat exhanger and the logarithmic mean temperature difference is calcuated from\n",
        "\n",
        "$LMTD=\\frac{\\Delta T_{hot} - \\Delta T_{cold}}{\\frac{\\Delta T_{hot}}{\\Delta T_{cold}}}$"
      ]
    },
    {
      "cell_type": "code",
      "execution_count": 79,
      "metadata": {
        "id": "EX3qFrw-NVx0"
      },
      "outputs": [],
      "source": [
        "#Assumptions\n",
        "U_heatExchanger = 1000.0 # W/(m^2K)\n",
        "coolingwater_inlet_temperature = 5.0 #degC\n",
        "coolingwater_outlet_temperature = 20.0 #degC\n",
        "\n",
        "heating_medium_inlet_temperature = 120.0 #degC\n",
        "heating_medium_outlet_temperature = 60.0 #degC"
      ]
    },
    {
      "cell_type": "code",
      "execution_count": 80,
      "metadata": {
        "id": "EP9FwJ2xNEtW",
        "colab": {
          "base_uri": "https://localhost:8080/"
        },
        "outputId": "dcbb1fe6-5dd6-42af-c479-11049b774099"
      },
      "outputs": [
        {
          "output_type": "stream",
          "name": "stdout",
          "text": [
            "first stage cooler duty [kW]  -99.7417875792693\n",
            "second stage cooler duty [kW]  -3722.552009216279\n",
            "gas heater duty [kW]  21772.33153069676\n",
            "export interstage compressor after cooler [kW]  -71456.1232765973\n",
            "export compressor after cooler [kW]  -70452.1866279742\n",
            "oil heater duty [kW]  25220.718484834175\n"
          ]
        }
      ],
      "source": [
        "exportInterstageCoolerDuty = exportInterstageCooler.getDuty()/1.0e3\n",
        "exportCoolerDuty = exportCooler.getDuty()/1.0e3\n",
        "gasHeaterDuty = dewPointControlCooler.getDuty()/1.0e3\n",
        "firstStageCoolerDuty = firstStageCooler.getDuty()/1e3\n",
        "secondStageCoolerDuty = secondStageCooler.getDuty()/1e3\n",
        "oilHeaterDuty = oilHeaterFromFirstStage.getDuty()/1e3\n",
        "print('first stage cooler duty [kW] ', firstStageCoolerDuty)\n",
        "print('second stage cooler duty [kW] ', secondStageCoolerDuty)\n",
        "print('gas heater duty [kW] ', gasHeaterDuty)\n",
        "print('export interstage compressor after cooler [kW] ', exportInterstageCoolerDuty)\n",
        "print('export compressor after cooler [kW] ', exportCoolerDuty)\n",
        "print('oil heater duty [kW] ', oilHeaterDuty)"
      ]
    },
    {
      "cell_type": "code",
      "execution_count": 81,
      "metadata": {
        "id": "NZ39Jk25R1rT",
        "colab": {
          "base_uri": "https://localhost:8080/"
        },
        "outputId": "be1d706e-5ce4-4088-ce7d-2e5fdca6e5dd"
      },
      "outputs": [
        {
          "output_type": "stream",
          "name": "stdout",
          "text": [
            "gas flow [kg/hr]  25175.896647786933  gas in temperature  31.955162950033582  out temperature  25.0\n",
            "first stage cooler area  6.38  m^2\n"
          ]
        }
      ],
      "source": [
        "#Calculate first stage cooler area\n",
        "deltaTA = firstStageCooler.getInStream().getTemperature('C')-coolingwater_outlet_temperature\n",
        "deltaTB = firstStageCooler.getOutStream().getTemperature('C')-coolingwater_inlet_temperature\n",
        "LMTD = (deltaTA-deltaTB)/(math.log(deltaTA/deltaTB))\n",
        "A = -firstStageCoolerDuty*1e3/U_heatExchanger/LMTD\n",
        "print('gas flow [kg/hr] ', firstStageCooler.getInStream().getFlowRate('kg/hr'),' gas in temperature ', firstStageCooler.getInStream().getTemperature('C'), ' out temperature ', firstStageCooler.getOutStream().getTemperature('C'))\n",
        "print(\"first stage cooler area \", round(A,3), \" m^2\")"
      ]
    },
    {
      "cell_type": "code",
      "execution_count": 82,
      "metadata": {
        "id": "y-Pjk_JoSn9j",
        "colab": {
          "base_uri": "https://localhost:8080/"
        },
        "outputId": "540aa33c-b5d0-4a2d-b010-019f1d96c165"
      },
      "outputs": [
        {
          "output_type": "stream",
          "name": "stdout",
          "text": [
            "gas flow [kg/hr]  172923.445526978  gas in temperature  55.53986125252362  out temperature  25.0\n",
            "second stage recompressor cooler area  137.722  m^2\n"
          ]
        }
      ],
      "source": [
        "#Calculate second stage recompressor cooler are\n",
        "deltaTA = secondStageCooler.getInStream().getTemperature('C')-coolingwater_outlet_temperature\n",
        "deltaTB = secondStageCooler.getOutStream().getTemperature('C')-coolingwater_inlet_temperature\n",
        "LMTD = (deltaTA-deltaTB)/(math.log(deltaTA/deltaTB))\n",
        "A = -secondStageCoolerDuty*1e3/U_heatExchanger/LMTD\n",
        "print('gas flow [kg/hr] ', secondStageCooler.getInStream().getFlowRate('kg/hr'),' gas in temperature ', secondStageCooler.getInStream().getTemperature('C'), ' out temperature ', secondStageCooler.getOutStream().getTemperature('C'))\n",
        "print(\"second stage recompressor cooler area \", round(A,3), \" m^2\")"
      ]
    },
    {
      "cell_type": "code",
      "execution_count": 83,
      "metadata": {
        "id": "TVS0c1FrO26a",
        "colab": {
          "base_uri": "https://localhost:8080/"
        },
        "outputId": "96930b7d-7a54-4b63-a3cf-a67867a01688"
      },
      "outputs": [
        {
          "output_type": "stream",
          "name": "stdout",
          "text": [
            "gas flow [kg/hr]  1851911.3707393329  gas in temperature  70.95900554898338  out temperature  25.0\n",
            "interstage export compressor cooler area  2158.73  m^2\n"
          ]
        }
      ],
      "source": [
        "#Calculate interstage export compressor cooler area\n",
        "deltaTA = exportInterstageCooler.getInStream().getTemperature('C')-coolingwater_outlet_temperature\n",
        "deltaTB = exportInterstageCooler.getOutStream().getTemperature('C')-coolingwater_inlet_temperature\n",
        "LMTD = (deltaTA-deltaTB)/(math.log(deltaTA/deltaTB))\n",
        "A = -exportInterstageCoolerDuty*1e3/U_heatExchanger/LMTD\n",
        "print('gas flow [kg/hr] ', exportInterstageCooler.getInStream().getFlowRate('kg/hr'),' gas in temperature ', exportInterstageCooler.getInStream().getTemperature('C'), ' out temperature ', exportInterstageCooler.getOutStream().getTemperature('C'))\n",
        "print(\"interstage export compressor cooler area \", round(A,3), \" m^2\")"
      ]
    },
    {
      "cell_type": "code",
      "execution_count": 84,
      "metadata": {
        "id": "-jYBu9VuOfc9",
        "colab": {
          "base_uri": "https://localhost:8080/"
        },
        "outputId": "20c79c46-8527-44cd-9c5a-f2eeeb0fd373"
      },
      "outputs": [
        {
          "output_type": "stream",
          "name": "stdout",
          "text": [
            "gas flow [kg/hr]  1851911.3707393329  gas in temperature  66.61520530439049  out temperature  25.0\n",
            "export compressor cooler area  2239.932  m^2\n"
          ]
        }
      ],
      "source": [
        "#Calculate export compressor cooler area\n",
        "deltaTA = exportCooler.getInStream().getTemperature('C')-coolingwater_outlet_temperature\n",
        "deltaTB = exportCooler.getOutStream().getTemperature('C')-coolingwater_inlet_temperature\n",
        "LMTD = (deltaTA-deltaTB)/math.log(deltaTA/deltaTB)\n",
        "A = -exportCoolerDuty*1e3/U_heatExchanger/LMTD\n",
        "print('gas flow [kg/hr] ', exportCooler.getInStream().getFlowRate('kg/hr'),' gas in temperature ', exportCooler.getInStream().getTemperature('C'), ' out temperature ', exportCooler.getOutStream().getTemperature('C'))\n",
        "print(\"export compressor cooler area \", round(A,3), \" m^2\")"
      ]
    },
    {
      "cell_type": "markdown",
      "metadata": {
        "id": "BidQ2kUh2buZ"
      },
      "source": [
        "### Heat transfer area for gas and oil heaters\n",
        "Calculation of heaters was not asked for, but area for the heaters could be calculated in the same way as compressor after coolers."
      ]
    },
    {
      "cell_type": "code",
      "execution_count": 85,
      "metadata": {
        "id": "dGk-kkPCF-j6",
        "colab": {
          "base_uri": "https://localhost:8080/"
        },
        "outputId": "3523f85e-b17f-4c42-daec-3eb46305e125"
      },
      "outputs": [
        {
          "output_type": "stream",
          "name": "stdout",
          "text": [
            "gas flow [kg/hr]  1851911.3707393329  gas in temperature  9.79849428386865  out temperature  25.0\n",
            "rich gas heater area area  309.99  m^2\n"
          ]
        }
      ],
      "source": [
        "#Calculate rich gas heater area\n",
        "deltaTA = richGasMixer.getOutStream().getTemperature('C')-heating_medium_outlet_temperature\n",
        "deltaTB = dewPointControlCooler.getOutStream().getTemperature('C')-heating_medium_inlet_temperature\n",
        "LMTD = (deltaTA-deltaTB)/(math.log(deltaTA/deltaTB))\n",
        "A = -gasHeaterDuty*1e3/U_heatExchanger/LMTD\n",
        "print('gas flow [kg/hr] ', dewPointControlCooler.getInStream().getFlowRate('kg/hr'),' gas in temperature ', dewPointControlCooler.getInStream().getTemperature('C'), ' out temperature ', dewPointControlCooler.getOutStream().getTemperature('C'))\n",
        "print(\"rich gas heater area area \", round(A,3), \" m^2\")"
      ]
    },
    {
      "cell_type": "code",
      "execution_count": 86,
      "metadata": {
        "id": "20OeOPHvrURl",
        "colab": {
          "base_uri": "https://localhost:8080/"
        },
        "outputId": "6afd85f7-b3f6-47b7-f1a7-5ba79e07cb33"
      },
      "outputs": [
        {
          "output_type": "stream",
          "name": "stdout",
          "text": [
            "oil flow [kg/hr]  419856.7155061662  oil in temperature  -3.5441198297371557  out temperature  75.0\n",
            "oil heater area  469.311  m^2\n"
          ]
        }
      ],
      "source": [
        "#Calculate oil heater area\n",
        "deltaTA = oilHeaterFromFirstStage.getInStream().getTemperature('C')-heating_medium_outlet_temperature\n",
        "deltaTB = oilHeaterFromFirstStage.getOutStream().getTemperature('C')-heating_medium_inlet_temperature\n",
        "LMTD = (deltaTA-deltaTB)/math.log(deltaTA/deltaTB)\n",
        "A = -oilHeaterDuty*1e3/U_heatExchanger/LMTD\n",
        "print('oil flow [kg/hr] ', oilHeaterFromFirstStage.getInStream().getFlowRate('kg/hr'),' oil in temperature ', oilHeaterFromFirstStage.getInStream().getTemperature('C'), ' out temperature ', oilHeaterFromFirstStage.getOutStream().getTemperature('C'))\n",
        "print(\"oil heater area \", round(A,3), \" m^2\")"
      ]
    },
    {
      "cell_type": "markdown",
      "metadata": {
        "id": "DYMqAM9fPh7k"
      },
      "source": [
        "# Q5\n",
        "Estimate internal diameters of all gas scrubbers"
      ]
    },
    {
      "cell_type": "code",
      "execution_count": 87,
      "metadata": {
        "id": "pUmGXnymT5hg"
      },
      "outputs": [],
      "source": [
        "gas_load_factor = 0.1"
      ]
    },
    {
      "cell_type": "markdown",
      "metadata": {
        "id": "iq5V3laBOi_T"
      },
      "source": [
        "In the dew oint scrubber there will be no liquids at normal operation. We therefore assume a liquid density of 600 kg/m3 for the scrubber design (oil density)."
      ]
    },
    {
      "cell_type": "code",
      "execution_count": 88,
      "metadata": {
        "id": "cA5yh9UATVuM",
        "colab": {
          "base_uri": "https://localhost:8080/"
        },
        "outputId": "150f0b61-f55a-4348-a6f6-858fe54fbd14"
      },
      "outputs": [
        {
          "output_type": "stream",
          "name": "stdout",
          "text": [
            "gas density  67.339  [kg/m3)]\n",
            "Liquid density  600.0  [kg/m3]\n",
            "Maximum gas velocity  0.281  [m/sec]\n",
            "Minimum scrubber internal diameter  5.882  [m]\n"
          ]
        }
      ],
      "source": [
        "#Dew point scrubber\n",
        "flowRate = dewPointScrubber.getGasOutStream().getFlowRate(\"m3/sec\")\n",
        "gas_density = dewPointScrubber.getGasOutStream().getFluid().getPhase(\"gas\").getDensity(\"kg/m3\")\n",
        "liquid_density = 600.0\n",
        "\n",
        "V_t = gas_load_factor*math.sqrt((liquid_density-gas_density)/gas_density)\n",
        "\n",
        "A_scrub = flowRate/V_t\n",
        "\n",
        "D_scrub = math.sqrt(A_scrub/(3.14/4.0))\n",
        "\n",
        "print(\"gas density \", round(gas_density,3), \" [kg/m3)]\")\n",
        "print(\"Liquid density \", round(liquid_density,3), \" [kg/m3]\")\n",
        "print(\"Maximum gas velocity \", round(V_t,3), \" [m/sec]\")\n",
        "print(\"Minimum scrubber internal diameter \", round(D_scrub,3), \" [m]\")"
      ]
    },
    {
      "cell_type": "code",
      "execution_count": 89,
      "metadata": {
        "id": "Ki1h_k61T9uX",
        "colab": {
          "base_uri": "https://localhost:8080/"
        },
        "outputId": "905a19a0-01bc-47ac-fc7e-7399669a61cb"
      },
      "outputs": [
        {
          "output_type": "stream",
          "name": "stdout",
          "text": [
            "gas density  2.468  [kg/m3)]\n",
            "liquid density  665.64  [kg/m3]\n",
            "Maximum gas velocity  1.639  [m/sec]\n",
            "Minimum scrubber internal diameter  1.479  [m]\n"
          ]
        }
      ],
      "source": [
        "#First stage scrubber\n",
        "flowRate = firstStageScrubber.getGasOutStream().getFlowRate(\"m3/sec\")\n",
        "gas_density = firstStageScrubber.getGasOutStream().getFluid().getPhase(\"gas\").getDensity(\"kg/m3\")\n",
        "liquid_density = firstStageScrubber.getLiquidOutStream().getFluid().getDensity(\"kg/m3\")\n",
        "\n",
        "V_t = gas_load_factor*math.sqrt((liquid_density-gas_density)/gas_density)\n",
        "\n",
        "A_scrub = flowRate/V_t\n",
        "\n",
        "D_scrub = math.sqrt(A_scrub/(3.14/4.0))\n",
        "\n",
        "print(\"gas density \", round(gas_density,3), \" [kg/m3)]\")\n",
        "print(\"liquid density \", round(liquid_density,3), \" [kg/m3]\")\n",
        "print(\"Maximum gas velocity \", round(V_t,3), \" [m/sec]\")\n",
        "print(\"Minimum scrubber internal diameter \", round(D_scrub,3), \" [m]\")"
      ]
    },
    {
      "cell_type": "code",
      "execution_count": 90,
      "metadata": {
        "id": "zs3gp3gkUnbv",
        "colab": {
          "base_uri": "https://localhost:8080/"
        },
        "outputId": "87e0d93f-6f30-40c9-86cc-8c7905f8829c"
      },
      "outputs": [
        {
          "output_type": "stream",
          "name": "stdout",
          "text": [
            "gas density  11.043  [kg/m3)]\n",
            "liquid density  599.449  [kg/m3]\n",
            "Maximum gas velocity  0.73  [m/sec]\n",
            "Minimum scrubber internal diameter  2.679  [m]\n"
          ]
        }
      ],
      "source": [
        "#Second stage scrubber\n",
        "flowRate = secondStageScrubber.getGasOutStream().getFlowRate(\"m3/sec\")\n",
        "gas_density = secondStageScrubber.getGasOutStream().getFluid().getPhase(\"gas\").getDensity(\"kg/m3\")\n",
        "liquid_density = secondStageScrubber.getLiquidOutStream().getFluid().getDensity(\"kg/m3\")\n",
        "\n",
        "V_t = gas_load_factor*math.sqrt((liquid_density-gas_density)/gas_density)\n",
        "\n",
        "A_scrub = flowRate/V_t\n",
        "\n",
        "D_scrub = math.sqrt(A_scrub/(3.14/4.0))\n",
        "\n",
        "print(\"gas density \", round(gas_density,3), \" [kg/m3)]\")\n",
        "print(\"liquid density \", round(liquid_density,3), \" [kg/m3]\")\n",
        "print(\"Maximum gas velocity \", round(V_t,3), \" [m/sec]\")\n",
        "print(\"Minimum scrubber internal diameter \", round(D_scrub,3), \" [m]\")"
      ]
    },
    {
      "cell_type": "markdown",
      "metadata": {
        "id": "tfo5qnQoVxVv"
      },
      "source": [
        "# Q6\n",
        "Calculate necessary TEG purity based on an outlet temperature of 25 °C from the absorber"
      ]
    },
    {
      "cell_type": "markdown",
      "metadata": {
        "id": "cKY4AhhmV9C-"
      },
      "source": [
        "A water dew point of -10 C means we need to have a lean TEG quality of at least 97.0 wt%"
      ]
    },
    {
      "cell_type": "markdown",
      "metadata": {
        "id": "L2ogtmpHWLhy"
      },
      "source": [
        "#Q7\n",
        "Estimate the internal diameter of the transport line from platform to the Kårstø onshore process in order to obtain the specified pressure drop.\n"
      ]
    },
    {
      "cell_type": "code",
      "execution_count": null,
      "metadata": {
        "id": "Tpz-TauqV6Cv"
      },
      "outputs": [],
      "source": [
        "from neqsim.process import pipeline\n",
        "\n",
        "#Creating stream and pipeline\n",
        "clearProcess()\n",
        "\n",
        "diameter = [0.965, 0.965, 0.965, 0.965, 0.965] #meter\n",
        "roughnes = [50.0e-6, 50.0e-6, 50.0e-6, 50.0e-6, 50.0e-6] #meter\n",
        "position = [0.0, 5000.0, 100000.0, 600000.0, 700000.0] #meter\n",
        "height = [0.0, -200.0, -300.0, -250.0, 0.0] #meter\n",
        "outtemperatures =[278.15, 278.15, 278.15, 278.15, 278.15] #Kelvin\n",
        "outHeatU = [25.0, 25.0, 25.0, 25.0, 25.0] #W/m2K\n",
        "wallHeatU = [35.0, 35.0, 35.0, 35.0, 35.0] #W/m2K\n",
        "\n",
        "pipe1 = pipeline('pipeline', exportGas, position, diameter, height, outtemperatures, roughnes,outHeatU,wallHeatU)\n",
        "pipe1.setNumberOfNodesInLeg(100)\n",
        "runProcess()\n",
        "numberofnodes = pipe1.getPipe().getTotalNumberOfNodes()\n",
        "print('outlet pressure ', pipe1.getPipe().getNode(numberofnodes-1).getBulkSystem().getPressure('bara'))\n",
        "print('outlet temperature ', pipe1.getPipe().getNode(numberofnodes-1).getBulkSystem().getTemperature('C'))"
      ]
    },
    {
      "cell_type": "code",
      "execution_count": null,
      "metadata": {
        "id": "MzBGPO7sXmYv"
      },
      "outputs": [],
      "source": [
        "pres = []\n",
        "temp = []\n",
        "length = []\n",
        "height = []\n",
        "calcdensity = []\n",
        "gasvelocity = []\n",
        "linepack = 0\n",
        "transportTimeGas = 0\n",
        "\n",
        "for node in range (0, pipe1.getPipe().getTotalNumberOfNodes()-1):\n",
        "  pres.append(pipe1.getPipe().getNode(node).getBulkSystem().getPressure('bara'))\n",
        "  temp.append(pipe1.getPipe().getNode(node).getBulkSystem().getTemperature('C'))\n",
        "  height.append(pipe1.getPipe().getNode(node).getVerticalPositionOfNode())\n",
        "  length.append(pipe1.getPipe().getNode(node).getDistanceToCenterOfNode())\n",
        "  calcdensity.append(pipe1.getPipe().getNode(node).getBulkSystem().getDensity('kg/m3'))\n",
        "  gasvelocity.append(pipe1.getPipe().getNode(node).getVelocity())\n",
        "  linepack += pipe1.getPipe().getNode(node+1).getBulkSystem().getDensity(\"kg/m3\")*pipe1.getPipe().getNode(node+1).getLengthOfNode()*pipe1.getPipe().getNode(node+1).getGeometry().getArea()\n",
        "  transportTimeGas += pipe1.getPipe().getNode(node).getLengthOfNode()/pipe1.getPipe().getNode(node).getVelocity()\n",
        "\n",
        "print('total linepack ', linepack/1.0e6, ' million tonnes gas')\n",
        "print('transport time gas ', transportTimeGas/3600, ' hrs')\n",
        "plt.rcParams['figure.figsize'] = [12, 12]\n",
        "plt.figure()\n",
        "plt.subplot(5, 1, 1)\n",
        "plt.plot(length, pres, '-')\n",
        "plt.ylabel('Pressure [bara]')\n",
        "plt.xlabel('Length [meter]')\n",
        "\n",
        "plt.subplot(5, 1, 2)\n",
        "plt.plot(length, temp)\n",
        "plt.xlabel('Length [meter]')\n",
        "plt.ylabel('Temperature[C]')\n",
        "\n",
        "plt.figure()\n",
        "plt.subplot(5, 1, 3)\n",
        "plt.plot(length, calcdensity, '-')\n",
        "plt.ylabel('Density [kg/m3]')\n",
        "plt.xlabel('Length [meter]')\n",
        "\n",
        "plt.figure()\n",
        "plt.subplot(5, 1, 4)\n",
        "plt.plot(length, gasvelocity, '-')\n",
        "plt.ylabel('gasvelocity [m/sec]')\n",
        "plt.xlabel('Length [meter]')\n",
        "\n",
        "plt.figure()\n",
        "plt.subplot(5, 1, 5)\n",
        "plt.plot(length, height, '-')\n",
        "plt.ylabel('height [meter]')\n",
        "plt.xlabel('position [meter]')"
      ]
    },
    {
      "cell_type": "markdown",
      "metadata": {
        "id": "293cQomAbWfS"
      },
      "source": [
        "# Q8\n",
        "Set up and calculate a simple expander extraction process at Kårstø in order to obtain a propane content less than 1.0 mole % in the dry gas (neglect further processing of the liquid product). We assume an UA of the cross heat exchanger of 3000 kW/K ( eg U=1000 W/m2K and heat transfer area of 3000 m2)."
      ]
    },
    {
      "cell_type": "code",
      "execution_count": null,
      "metadata": {
        "id": "nWVX0Wnybbpt"
      },
      "outputs": [],
      "source": [
        "#NGL expander code\n",
        "from neqsim.process import expander, heater, compsplitter, separator, heatExchanger\n",
        "\n",
        "pressureNGL = 50.0\n",
        "\n",
        "clearProcess()\n",
        "\n",
        "inletheater = heater('inlet heater', pipe1.getOutStream())\n",
        "inletheater.setOutPressure(karsto_inlet_pressure, 'bara')\n",
        "inletheater.setOutTemperature(karsto_inlet_temperature, 'C')\n",
        "\n",
        "inletValve = valve('inlet valve', inletheater.getOutStream())\n",
        "inletValve.setPressure(karsto_inlet_pressure, 'bara')\n",
        "\n",
        "heatEx = heatExchanger('hx1', inletValve.getOutStream())\n",
        "heatEx.setName(\"cross heat-exchanger\")\n",
        "heatEx.setGuessOutTemperature(273.15 - 30.0)\n",
        "heatEx.setUAvalue(3000e3) #assumes an UA vlue of 3000 MW/m2K\n",
        "\n",
        "expanderKarsto = expander('onshore expander', heatEx.getOutStream(0), pressureNGL)\n",
        "expanderKarsto.setOutletPressure(pressureNGL)\n",
        "expanderKarsto.setIsentropicEfficiency(inputdata['compressor_efficiency']/100.0) # assume same efficiency as for compressors\n",
        "\n",
        "scrubberNGL = separator('scurbber', expanderKarsto.getOutletStream())\n",
        "\n",
        "recyOut = stream('rec stream', scrubberNGL.getGasOutStream().clone())\n",
        "\n",
        "gasResycle = recycle(\"gas resycle\")\n",
        "gasResycle.addStream(scrubberNGL.getGasOutStream())\n",
        "gasResycle.setOutletStream(recyOut)\n",
        "\n",
        "heatEx.setFeedStream(1, recyOut)\n",
        "\n",
        "dryGasExportCompressor = compressor('exp compressor', heatEx.getOutStream(1))\n",
        "dryGasExportCompressor.setOutletPressure(200.0, 'bara')\n",
        "dryGasExportCompressor.setIsentropicEfficiency(0.75)\n",
        "\n",
        "exportDryGas = stream('sales gas', dryGasExportCompressor.getOutStream())\n",
        "\n",
        "runProcess()"
      ]
    },
    {
      "cell_type": "code",
      "execution_count": null,
      "metadata": {
        "id": "0NtQ6spIks02"
      },
      "outputs": [],
      "source": [
        "nglproduction = scrubberNGL.getLiquidOutStream().getFlowRate('kg/hr')*24/1000.0\n",
        "print('NGL production [tons/day] ' , nglproduction)\n",
        "print('propane in dry export gas ', exportDryGas.getFluid().getComponent('propane').getx()*100.0, ' mol%')\n",
        "print('temperature in NGL scrubber ', expanderKarsto.getOutStream().getTemperature('C'))\n",
        "\n",
        "printFrame(exportDryGas.getFluid())"
      ]
    },
    {
      "cell_type": "markdown",
      "metadata": {
        "id": "wCKQ88kKWnK0"
      },
      "source": [
        "# Q9\n",
        "Find the water dew point specifications necessary of the onshore dehydration unit based on the operational conditions of the expander process."
      ]
    },
    {
      "cell_type": "code",
      "execution_count": null,
      "metadata": {
        "id": "iHlfXWiZW_7U"
      },
      "outputs": [],
      "source": [
        "waterDewPointTemperature = scrubberNGL.getGasOutStream().getTemperature('C')\n",
        "print('water dew point temperauter NGL ', waterDewPointTemperature, ' degC')"
      ]
    },
    {
      "cell_type": "markdown",
      "metadata": {
        "id": "PSd-v0BZXd8U"
      },
      "source": [
        "# Q10\n",
        "Calculate necessary compressor work to meet export pressure."
      ]
    },
    {
      "cell_type": "code",
      "execution_count": null,
      "metadata": {
        "id": "q-EKvwXW0WEF"
      },
      "outputs": [],
      "source": [
        "powerProduced = expanderKarsto.getPower()/1.0e3\n",
        "powerExpCompressor = dryGasExportCompressor.getPower()/1.0e3\n",
        "totalPowerOnshore = powerExpCompressor+powerProduced\n",
        "print('expander produced power [kW] ', powerProduced)\n",
        "print('dry gas export compressor power [kW] ', powerExpCompressor)\n",
        "print('net power consumption [kW] ', totalPowerOnshore)"
      ]
    },
    {
      "cell_type": "markdown",
      "metadata": {
        "id": "jEmX20a6YNlM"
      },
      "source": [
        "#Q11\n",
        "Calculate and plot phase diagram for reservoir gas, export gas from platform (rich gas) and sales gas from Kårstø"
      ]
    },
    {
      "cell_type": "markdown",
      "metadata": {
        "id": "PBfb4nKuDbj4"
      },
      "source": [
        "##Reservoir fluid"
      ]
    },
    {
      "cell_type": "code",
      "execution_count": null,
      "metadata": {
        "id": "QUnoZY9kbtyj"
      },
      "outputs": [],
      "source": [
        "from neqsim.thermo import phaseenvelope\n",
        "envelope = phaseenvelope(reservoirFluid)\n",
        "plt.plot(list(envelope.getOperation().get(\"dewT2\")),list(envelope.getOperation().get(\"dewP2\")), label=\"dew point\")\n",
        "plt.plot(list(envelope.getOperation().get(\"bubT\")),list(envelope.getOperation().get(\"bubP\")), label=\"bubble point\")\n",
        "plt.title('PT envelope')\n",
        "plt.xlabel('Temperature [K]')\n",
        "plt.ylabel('Pressure [bar]')\n",
        "plt.legend()\n",
        "plt.show()"
      ]
    },
    {
      "cell_type": "markdown",
      "metadata": {
        "id": "gnqqmlfkDgrf"
      },
      "source": [
        "## Rich gas"
      ]
    },
    {
      "cell_type": "code",
      "execution_count": null,
      "metadata": {
        "id": "V2DD881aYUps"
      },
      "outputs": [],
      "source": [
        "if dewPointScrubber.getGasOutStream().getFluid().hasComponent('water'):\n",
        "  dewPointScrubber.getGasOutStream().getFluid().removeComponent(\"water\")\n",
        "envelope2 = phaseenvelope(dewPointScrubber.getGasOutStream().getFluid())\n",
        "plt.plot(list(envelope2.getOperation().get(\"dewT\")),list(envelope2.getOperation().get(\"dewP\")), label=\"dew point\")\n",
        "plt.plot(list(envelope2.getOperation().get(\"bubT\")),list(envelope2.getOperation().get(\"bubP\")), label=\"bubble point\")\n",
        "plt.title('PT envelope')\n",
        "plt.xlabel('Temperature [K]')\n",
        "plt.ylabel('Pressure [bar]')\n",
        "plt.legend()\n",
        "plt.show()\n",
        "print(envelope2.getOperation().get(\"CCB\"))"
      ]
    },
    {
      "cell_type": "markdown",
      "metadata": {
        "id": "bZMSUrSpDkAQ"
      },
      "source": [
        "## Dry gas"
      ]
    },
    {
      "cell_type": "code",
      "execution_count": null,
      "metadata": {
        "id": "ypePFzSzbUJM"
      },
      "outputs": [],
      "source": [
        "exportDryGas.getFluid().removeComponent(\"water\")\n",
        "envelope3 = phaseenvelope(exportDryGas.getFluid())\n",
        "plt.plot(list(envelope3.getOperation().get(\"dewT\")),list(envelope3.getOperation().get(\"dewP\")), label=\"dew point\")\n",
        "plt.plot(list(envelope3.getOperation().get(\"bubT\")),list(envelope3.getOperation().get(\"bubP\")), label=\"bubble point\")\n",
        "plt.title('PT envelope')\n",
        "plt.xlabel('Temperature [K]')\n",
        "plt.ylabel('Pressure [bar]')\n",
        "plt.legend()\n",
        "plt.show()"
      ]
    },
    {
      "cell_type": "markdown",
      "metadata": {
        "id": "zNf8VLkgMFCb"
      },
      "source": [
        "# Some final calculations"
      ]
    },
    {
      "cell_type": "markdown",
      "source": [
        "Total power from both offshore and onshore compressors"
      ],
      "metadata": {
        "id": "BdpBYbqWMg6F"
      }
    },
    {
      "cell_type": "code",
      "source": [
        "totalPowerOffshoreOnshore = totalPowerOnshore + totalCompressorPowerOffshore\n",
        "print('total compressor power onhsore and ofshore ',totalPowerOffshoreOnshore/1e3, ' MW')"
      ],
      "metadata": {
        "id": "IDADcm_vMsTz"
      },
      "execution_count": null,
      "outputs": []
    },
    {
      "cell_type": "markdown",
      "metadata": {
        "id": "r95rhqTqUEy0"
      },
      "source": [
        "In a real offshore process more recompressor stages would be needed. The compressor pressure stages can be calculated from:"
      ]
    },
    {
      "cell_type": "code",
      "execution_count": null,
      "metadata": {
        "id": "s0WrLwhlUDXK"
      },
      "outputs": [],
      "source": [
        "import math\n",
        "lowP = 1.3\n",
        "highP = 78.0\n",
        "numerOfCompressorStages = 4\n",
        "\n",
        "pres = [lowP]\n",
        "for stage in range(1,numerOfCompressorStages):\n",
        "  temp = math.pow(lowP,numerOfCompressorStages-stage)*math.pow(highP, stage)\n",
        "  pres.append(math.pow(temp, (1.0/numerOfCompressorStages)))\n",
        "\n",
        "pres.append(highP)\n",
        "print(pres)"
      ]
    },
    {
      "cell_type": "markdown",
      "source": [
        "Calculation of sales gas quality papreters from onshore process:"
      ],
      "metadata": {
        "id": "QWz46Weqcum3"
      }
    },
    {
      "cell_type": "code",
      "execution_count": null,
      "metadata": {
        "id": "eMwkG0ZFMOBw"
      },
      "outputs": [],
      "source": [
        "from neqsim.standards import ISO6976\n",
        "\n",
        "dryGasExportRate = exportDryGas.getFlowRate('kg/sec')\n",
        "dryGasExportRateperday = exportDryGas.getFlowRate('MSm3/day')\n",
        "\n",
        "referenceTemperatureVolume = \"15.0\"\n",
        "referenceTemperatureCombustion = 15.0\n",
        "numberUnit = 'mass'\n",
        "\n",
        "iso6976 = ISO6976(exportDryGas.getFluid())\n",
        "iso6976.setReferenceType(numberUnit)\n",
        "iso6976.setVolRefT(float(referenceTemperatureVolume))\n",
        "iso6976.setEnergyRefT(float(referenceTemperatureCombustion))\n",
        "iso6976.calculate()\n",
        "\n",
        "GCV = round(iso6976.getValue(\"SuperiorCalorificValue\")/1.0e3,3)\n",
        "WI = round(iso6976.getValue(\"SuperiorWobbeIndex\")/1.0e3,3)\n",
        "WIkwh = round(iso6976.getValue(\"SuperiorWobbeIndex\")/1.0e3/3.6,3)\n",
        "relDens = round(iso6976.getValue(\"RelativeDensity\"),3)\n",
        "\n",
        "print('GCV '+ str(GCV) + ' MJ/' +numberUnit)\n",
        "print('WI '+ str(WI), ' MJ/' +numberUnit)\n",
        "print('WI '+ str(WIkwh), ' kWh/' +numberUnit)\n",
        "print('Relative density '+ str(relDens), ' [-]')\n",
        "\n",
        "\n",
        "numberUnit = 'volume'\n",
        "\n",
        "iso6976 = ISO6976(exportDryGas.getFluid())\n",
        "iso6976.setReferenceType(numberUnit)\n",
        "iso6976.setVolRefT(float(referenceTemperatureVolume))\n",
        "iso6976.setEnergyRefT(float(referenceTemperatureCombustion))\n",
        "iso6976.calculate()\n",
        "\n",
        "LCV = round(iso6976.getValue(\"InferiorCalorificValue\")/1.0e3,3)\n",
        "\n",
        "print('LCV '+ str(LCV) + ' MJ/' +numberUnit)\n",
        "\n",
        "print('dry gas production ', dryGasExportRateperday, ' MSm^3/day')\n",
        "print('dry gas production ', dryGasExportRate, ' kg/sec')\n",
        "print('power to europe as dry gas ', dryGasExportRate*GCV, ' MW')\n",
        "print('annual energy of produced dry gas ', dryGasExportRate*GCV*24*365/1e6 , ' TWh per year')"
      ]
    },
    {
      "cell_type": "markdown",
      "source": [
        "Compare to electricity produced in Norway\n",
        "\n",
        "https://energifaktanorge.no/en/norsk-energiforsyning/kraftproduksjon/\n",
        "\n",
        "We see that the energy produced only from the Åsgard Transport pipeline, is significantly higher than the electrical production in Norway (total of hydro, wind, thermal)"
      ],
      "metadata": {
        "id": "MIF7ZBNsoJxT"
      }
    },
    {
      "cell_type": "markdown",
      "source": [
        "In a natural gas combined cycle power plant with an efficiency of 60 %, as another example, 0,33 kg of carbon dioxide is emitted per kWhel. How much of the sales gas will be used for production of power for delivering electricity to compressors (onshore and offshore combined)? What is the yearly amount of CO2 that needs to be captured from the flue gas from the gas fired power plant?"
      ],
      "metadata": {
        "id": "dZUOEiwNNZPj"
      }
    },
    {
      "cell_type": "code",
      "source": [
        "powerProductionEfficiency = 0.6\n",
        "gasNeedForPower = totalPowerOffshoreOnshore/1e3/LCV/powerProductionEfficiency*3600*24/1e6  #  J/sec / J/m3\n",
        "print('sales gas needed for power production ', gasNeedForPower, ' MSm3/day')\n",
        "print('% of dry gas export ', gasNeedForPower/exportDryGas.getFlowRate('MSm3/day')*100)\n",
        "\n",
        "co2emissionperkwhel = 0.33\n",
        "powerkWhperyear = totalPowerOffshoreOnshore*24*365\n",
        "co2emissionsperyear =  0.33*powerkWhperyear\n",
        "print('CO2 emission for power production ' , co2emissionsperyear/1e6, ' thousand tons per year')"
      ],
      "metadata": {
        "id": "9QBQ0krgNxAO"
      },
      "execution_count": null,
      "outputs": []
    },
    {
      "cell_type": "markdown",
      "source": [
        "Calculation of CO2 emission per boe produced in the chain"
      ],
      "metadata": {
        "id": "dsZ4oa0D04b_"
      }
    },
    {
      "cell_type": "code",
      "source": [
        "streamdaysperyear = 360\n",
        "boeperm3oe = 6.2898\n",
        "m3oeproducedyear = dryGasExportRateperday*1e3*streamdaysperyear + offshorecondesateproduction*streamdaysperyear + nglproduction*streamdaysperyear*1.9\n",
        "\n",
        "print('Sales gas [MSm oe] ', dryGasExportRateperday*1e3*streamdaysperyear/1e6)\n",
        "print('Condensate [MSm oe] ', offshorecondesateproduction*streamdaysperyear/1e6)\n",
        "print('NGL [MSm oe] ', nglproduction*streamdaysperyear*1.9/1e6)\n",
        "\n",
        "print('million m^3 oe produced per year ',  m3oeproducedyear/1e6)\n",
        "print('boe produced per year [boe per year] ',  m3oeproducedyear*boeperm3oe)\n",
        "\n",
        "print('kg CO2 per barrel of oil equivalent (boe) ' , co2emissionsperyear/(m3oeproducedyear*boeperm3oe))\n"
      ],
      "metadata": {
        "id": "lBu_18F009Is"
      },
      "execution_count": null,
      "outputs": []
    },
    {
      "cell_type": "markdown",
      "source": [
        "Reflection: What is the most effective way to reduce CO2 emissions per boe produced?"
      ],
      "metadata": {
        "id": "mzsjmmU95Lh9"
      }
    }
  ],
  "metadata": {
    "colab": {
      "collapsed_sections": [
        "RrUHaHc7nmEj",
        "1lhtWDzYrV92",
        "6DByaMp3q3OZ"
      ],
      "provenance": [],
      "include_colab_link": true
    },
    "kernelspec": {
      "display_name": "Python 3.8.13 64-bit ('shims')",
      "language": "python",
      "name": "python3"
    },
    "language_info": {
      "codemirror_mode": {
        "name": "ipython",
        "version": 3
      },
      "file_extension": ".py",
      "mimetype": "text/x-python",
      "name": "python",
      "nbconvert_exporter": "python",
      "pygments_lexer": "ipython3",
      "version": "3.8.13"
    },
    "vscode": {
      "interpreter": {
        "hash": "9ac03a0a6051494cc606d484d27d20fce22fb7b4d169f583271e11d5ba46a56e"
      }
    }
  },
  "nbformat": 4,
  "nbformat_minor": 0
}