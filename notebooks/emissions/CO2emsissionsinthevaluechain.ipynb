{
  "nbformat": 4,
  "nbformat_minor": 0,
  "metadata": {
    "colab": {
      "provenance": [],
      "authorship_tag": "ABX9TyO9/mrN+DT9Echqmcgik36M",
      "include_colab_link": true
    },
    "kernelspec": {
      "name": "python3",
      "display_name": "Python 3"
    },
    "language_info": {
      "name": "python"
    }
  },
  "cells": [
    {
      "cell_type": "markdown",
      "metadata": {
        "id": "view-in-github",
        "colab_type": "text"
      },
      "source": [
        "<a href=\"https://colab.research.google.com/github/EvenSol/NeqSim-Colab/blob/master/notebooks/emissions/CO2emsissionsinthevaluechain.ipynb\" target=\"_parent\"><img src=\"https://colab.research.google.com/assets/colab-badge.svg\" alt=\"Open In Colab\"/></a>"
      ]
    },
    {
      "cell_type": "markdown",
      "source": [
        "Calculation of CO2 emissions in the gas value chain"
      ],
      "metadata": {
        "id": "dCU8fP5p06Oy"
      }
    },
    {
      "cell_type": "code",
      "execution_count": null,
      "metadata": {
        "colab": {
          "base_uri": "https://localhost:8080/"
        },
        "id": "ZRtCET8XwRrC",
        "outputId": "84b430af-b008-4b7b-9799-720b8b90446a"
      },
      "outputs": [
        {
          "output_type": "stream",
          "name": "stdout",
          "text": [
            "Collecting neqsim\n",
            "  Downloading neqsim-2.5.5-py3-none-any.whl (28.3 MB)\n",
            "\u001b[2K     \u001b[90m━━━━━━━━━━━━━━━━━━━━━━━━━━━━━━━━━━━━━━━━\u001b[0m \u001b[32m28.3/28.3 MB\u001b[0m \u001b[31m73.0 MB/s\u001b[0m eta \u001b[36m0:00:00\u001b[0m\n",
            "\u001b[?25hCollecting jpype1 (from neqsim)\n",
            "  Downloading JPype1-1.4.1-cp310-cp310-manylinux_2_12_x86_64.manylinux2010_x86_64.whl (465 kB)\n",
            "\u001b[2K     \u001b[90m━━━━━━━━━━━━━━━━━━━━━━━━━━━━━━━━━━━━━━\u001b[0m \u001b[32m465.3/465.3 kB\u001b[0m \u001b[31m51.4 MB/s\u001b[0m eta \u001b[36m0:00:00\u001b[0m\n",
            "\u001b[?25hRequirement already satisfied: pandas in /usr/local/lib/python3.10/dist-packages (from neqsim) (1.5.3)\n",
            "Requirement already satisfied: packaging in /usr/local/lib/python3.10/dist-packages (from jpype1->neqsim) (23.1)\n",
            "Requirement already satisfied: python-dateutil>=2.8.1 in /usr/local/lib/python3.10/dist-packages (from pandas->neqsim) (2.8.2)\n",
            "Requirement already satisfied: pytz>=2020.1 in /usr/local/lib/python3.10/dist-packages (from pandas->neqsim) (2023.3)\n",
            "Requirement already satisfied: numpy>=1.21.0 in /usr/local/lib/python3.10/dist-packages (from pandas->neqsim) (1.23.5)\n",
            "Requirement already satisfied: six>=1.5 in /usr/local/lib/python3.10/dist-packages (from python-dateutil>=2.8.1->pandas->neqsim) (1.16.0)\n",
            "Installing collected packages: jpype1, neqsim\n",
            "Successfully installed jpype1-1.4.1 neqsim-2.5.5\n"
          ]
        }
      ],
      "source": [
        "!pip install neqsim==2.5.35"
      ]
    },
    {
      "cell_type": "markdown",
      "source": [
        "# CO2 emissions from subsea and offshore processing"
      ],
      "metadata": {
        "id": "XNjdvQwksXlc"
      }
    },
    {
      "cell_type": "code",
      "source": [
        "## calculation of power consumptions from offshore process (including injection)"
      ],
      "metadata": {
        "id": "jDjpUbqWshuz"
      },
      "execution_count": null,
      "outputs": []
    },
    {
      "cell_type": "code",
      "source": [
        "## Calculation of power generation\n",
        "##1. gas turbine\n",
        "##2. wind ..\n",
        "##power from shore\n",
        "##.."
      ],
      "metadata": {
        "id": "iCMdrksFsqgz"
      },
      "execution_count": null,
      "outputs": []
    },
    {
      "cell_type": "code",
      "source": [
        "##Calculation of emissions from power generation"
      ],
      "metadata": {
        "id": "IHDw6m1CsyEr"
      },
      "execution_count": null,
      "outputs": []
    },
    {
      "cell_type": "markdown",
      "source": [
        "#CO2 emissions from onshore processing"
      ],
      "metadata": {
        "id": "WGxGIvobu_1D"
      }
    },
    {
      "cell_type": "code",
      "source": [
        "##calcuation of power consuption"
      ],
      "metadata": {
        "id": "QPdqs4o9vHPU"
      },
      "execution_count": null,
      "outputs": []
    },
    {
      "cell_type": "markdown",
      "source": [
        "#Total emissions calculations"
      ],
      "metadata": {
        "id": "ZVsiyNwovNos"
      }
    },
    {
      "cell_type": "code",
      "source": [
        "## Total CO2 emissions\n",
        "#CO2 emission/boe\n"
      ],
      "metadata": {
        "id": "DvK8hhcpvSdM"
      },
      "execution_count": null,
      "outputs": []
    },
    {
      "cell_type": "markdown",
      "source": [
        "##Emissions from use of oil and gas"
      ],
      "metadata": {
        "id": "iit275C1vbrr"
      }
    },
    {
      "cell_type": "markdown",
      "source": [
        "## Total emissions calculations"
      ],
      "metadata": {
        "id": "oSweWx62vfpz"
      }
    },
    {
      "cell_type": "markdown",
      "source": [
        "## Cost of CO2 removal from natural gas (cost per ton CO2)\n",
        "\n",
        "###Increase size/capex estimation..\n",
        "\n",
        "- electrification (power from shore)\n",
        "- combined cycle\n",
        "- wind\n",
        "- new technologies\n",
        "- process intesification"
      ],
      "metadata": {
        "id": "_Zj7uyP9vkBj"
      }
    }
  ]
}