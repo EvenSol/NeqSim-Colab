{
  "nbformat": 4,
  "nbformat_minor": 0,
  "metadata": {
    "colab": {
      "provenance": [],
      "authorship_tag": "ABX9TyP3brVguS3ksTWHAbrSY7rf",
      "include_colab_link": true
    },
    "kernelspec": {
      "name": "python3",
      "display_name": "Python 3"
    },
    "language_info": {
      "name": "python"
    }
  },
  "cells": [
    {
      "cell_type": "markdown",
      "metadata": {
        "id": "view-in-github",
        "colab_type": "text"
      },
      "source": [
        "<a href=\"https://colab.research.google.com/github/EvenSol/NeqSim-Colab/blob/master/notebooks/emissions/Hydrocarbon_emissions.ipynb\" target=\"_parent\"><img src=\"https://colab.research.google.com/assets/colab-badge.svg\" alt=\"Open In Colab\"/></a>"
      ]
    },
    {
      "cell_type": "markdown",
      "metadata": {
        "id": "B4UtyH4f19HG"
      },
      "source": [
        "# Emissions from oil and gas production operations\n",
        "The currently applied technology for producing oil and gas from various installations results in three main types of gas emissions:\n",
        "\n",
        "Combustion gases consisting of carbon dioxides and minor amounts of carbon monoxide, nitrous oxide, N2O, SO2, and un-combusted hydrocarbons (methane and volatile organic compounds (VOCs)).\n",
        "Hydrocarbons consisting of methane and primarily aliphatic VOCs vented to the atmosphere or escaping from the hydrocarbon processes through fugitive emissions.\n",
        "Releases of halon and other Chlorofluorocarbon (CFC) gases from fire-fighting and refrigeration systems."
      ]
    },
    {
      "cell_type": "markdown",
      "metadata": {
        "id": "efyIvdj72apW"
      },
      "source": [
        "[See Petrowiki](https://petrowiki.spe.org/Emissions_from_oil_and_gas_production_operations)"
      ]
    },
    {
      "cell_type": "markdown",
      "metadata": {
        "id": "QtapbGhZ21Z2"
      },
      "source": [
        "# NeqSim calculations"
      ]
    },
    {
      "cell_type": "code",
      "source": [
        "# Install neqsim if not already installed\n",
        "!pip install neqsim==2.5.35"
      ],
      "metadata": {
        "id": "ImwG1pNBaI_L"
      },
      "execution_count": null,
      "outputs": []
    },
    {
      "cell_type": "code",
      "metadata": {
        "id": "ZBq4TsCe169f",
        "colab": {
          "base_uri": "https://localhost:8080/"
        },
        "outputId": "75f40dc4-e963-403e-d4bd-6eb71c16e9fb"
      },
      "source": [
        "#perform neqsim calculations related to emissins of hydrocarbons from water depressurizing in oil processing\n",
        "\n",
        "\n",
        "# Import necessary libraries\n",
        "from neqsim.thermo import fluid\n",
        "from neqsim.process import (\n",
        "    separator,\n",
        "    heater,\n",
        "    cooler,\n",
        "    valve,\n",
        "    pipeline,\n",
        "    compressor,\n",
        "    stream,\n",
        "    valve\n",
        ")\n",
        "\n",
        "# Create a fluid object\n",
        "fluid1 = fluid(\"cpa\")\n",
        "fluid1.addComponent(\"methane\", 1.0)\n",
        "fluid1.addComponent(\"ethane\", 0.1)\n",
        "fluid1.addComponent(\"propane\", 0.05)\n",
        "fluid1.addComponent(\"i-butane\", 0.02)\n",
        "fluid1.addComponent(\"n-butane\", 0.02)\n",
        "fluid1.addComponent(\"i-pentane\", 0.01)\n",
        "fluid1.addComponent(\"n-pentane\", 0.01)\n",
        "fluid1.addComponent(\"n-hexane\", 0.005)\n",
        "fluid1.addComponent(\"water\", 1.0)\n",
        "fluid1.setMixingRule(10)\n",
        "\n",
        "# Set temperature and pressure\n",
        "fluid1.setTemperature(20.0, \"C\")\n",
        "fluid1.setPressure(10.0, \"bara\")\n",
        "\n",
        "# Example calculations for oil and gas separation with hydrocarbon emissions\n",
        "# You can adapt this example to your specific process\n",
        "# Note: This is a simplified example, more detailed modeling might be needed\n",
        "stream1 = stream(fluid1)\n",
        "stream1.setFlowRate(100.0, 'kg/hr')\n",
        "stream1.run()\n",
        "\n",
        "# Separator\n",
        "sep1 = separator(\"separator1\")\n",
        "sep1.setInletStream(stream1)\n",
        "sep1.run()\n",
        "\n",
        "valve1 = valve(sep1.getLiquidOutStream())\n",
        "valve1.setOutletPressure(1.0, 'bara')\n",
        "valve1.run()\n",
        "\n",
        "\n",
        "# Example emission calculation (simplified)\n",
        "# You need to replace this with more sophisticated method\n",
        "# for calculating emissions based on operational parameters\n",
        "emissionRate = valve1.getOutStream().getFluid().getPhase('gas').getFlowRate(\"kg/hr\")\n",
        "\n",
        "print(\"Estimated hydrocarbon emission rate:\", emissionRate, \"kg/hr\")\n",
        "\n",
        "\n",
        "# Note: This is a basic example. You would need to adapt it\n",
        "# with more detailed process simulations for accurate emission calculations.\n"
      ],
      "execution_count": 26,
      "outputs": [
        {
          "output_type": "stream",
          "name": "stdout",
          "text": [
            "Estimated hydrocarbon emission rate: 0.01041205657719457 kg/hr\n"
          ]
        }
      ]
    }
  ]
}