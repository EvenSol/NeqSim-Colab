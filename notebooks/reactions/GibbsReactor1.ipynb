{
  "cells": [
    {
      "cell_type": "markdown",
      "metadata": {
        "id": "view-in-github",
        "colab_type": "text"
      },
      "source": [
        "<a href=\"https://colab.research.google.com/github/EvenSol/NeqSim-Colab/blob/master/notebooks/reactions/GibbsReactor1.ipynb\" target=\"_parent\"><img src=\"https://colab.research.google.com/assets/colab-badge.svg\" alt=\"Open In Colab\"/></a>"
      ]
    },
    {
      "cell_type": "code",
      "source": [
        "%%capture\n",
        "!pip install neqsim\n",
        "#"
      ],
      "metadata": {
        "id": "4Ye8RzF0c2BJ"
      },
      "id": "4Ye8RzF0c2BJ",
      "execution_count": 2,
      "outputs": []
    },
    {
      "cell_type": "markdown",
      "id": "382e4492",
      "metadata": {
        "id": "382e4492"
      },
      "source": [
        "# Gibbs Reactor\n",
        "This notebook demonstrates how to use the GibbsReactor in neqsim for chemical equilibrium calculations. The GibbsReactor is useful for simulating chemical reactions in process engineering, such as combustion, gas treatment, and hydrogen production. It shows the most stable state of chemical compounds with kinetics and activation energy of the reactions being ignored. The calculations are based on minimizing the total Gibbs energy of a mixture.\n"
      ]
    },
    {
      "cell_type": "code",
      "execution_count": 3,
      "id": "3d56741b",
      "metadata": {
        "id": "3d56741b"
      },
      "outputs": [],
      "source": [
        "from neqsim.thermo import printFrame\n",
        "from neqsim import jneqsim"
      ]
    },
    {
      "cell_type": "markdown",
      "id": "300220ff",
      "metadata": {
        "id": "300220ff"
      },
      "source": [
        "## Case : Hydrogen Combustion (Basic Example)\n",
        "We simulate the combustion of hydrogen with oxygen to form water. This is a classic example for testing the GibbsReactor and is relevant for hydrogen energy and fuel cell applications."
      ]
    },
    {
      "cell_type": "code",
      "execution_count": 4,
      "id": "2fbb5872",
      "metadata": {
        "id": "2fbb5872",
        "outputId": "326d2e0e-e0e5-4a6d-8ced-32609a644fe5",
        "colab": {
          "base_uri": "https://localhost:8080/"
        }
      },
      "outputs": [
        {
          "output_type": "stream",
          "name": "stdout",
          "text": [
            "Outlet temperature [K]: 980.15\n",
            "Hydrogen fraction: 0.0\n",
            "Oxygen fraction: 0.9048\n",
            "Water fraction: 0.0952\n"
          ]
        }
      ],
      "source": [
        "# Set up the system for hydrogen combustion using jNeqSim\n",
        "system1 = jneqsim.thermo.system.SystemSrkEos(298.0, 1.0)\n",
        "system1.addComponent('hydrogen', 0.1)\n",
        "system1.addComponent('oxygen', 1.0)\n",
        "system1.addComponent('water', 0.0)  # product will be formed\n",
        "system1.setMixingRule(2)\n",
        "\n",
        "# Create inlet stream\n",
        "inlet_stream1 = jneqsim.process.equipment.stream.Stream('Inlet Stream', system1)\n",
        "inlet_stream1.run()\n",
        "\n",
        "# Create and run GibbsReactor in adiabatic mode\n",
        "reactor = jneqsim.process.equipment.reactor.GibbsReactor('Gibbs Reactor', inlet_stream1)\n",
        "reactor.setUseAllDatabaseSpecies(False)\n",
        "reactor.setDampingComposition(0.01)\n",
        "reactor.setMaxIterations(2500)\n",
        "reactor.setConvergenceTolerance(1e-3)\n",
        "reactor.setEnergyMode(\"adiabatic\")\n",
        "reactor.run()\n",
        "\n",
        "# Get outlet system and print results\n",
        "outlet1 = reactor.getOutletStream().getThermoSystem()\n",
        "print('Outlet temperature [K]:', round(outlet1.getTemperature(), 2))\n",
        "print('Hydrogen fraction:', round(outlet1.getComponent('hydrogen').getz(), 4))\n",
        "print('Oxygen fraction:', round(outlet1.getComponent('oxygen').getz(), 4))\n",
        "print('Water fraction:', round(outlet1.getComponent('water').getz(), 4))"
      ]
    },
    {
      "cell_type": "markdown",
      "id": "aa1e151b",
      "metadata": {
        "id": "aa1e151b"
      },
      "source": [
        "## Case : Methane Steam Reforming (Hydrogen Production)\n",
        "Methane steam reforming is a key industrial process for hydrogen production. The GibbsReactor can be used to estimate equilibrium yields and outlet compositions."
      ]
    },
    {
      "cell_type": "code",
      "execution_count": 5,
      "id": "743a767c",
      "metadata": {
        "id": "743a767c",
        "outputId": "79087c58-b257-41d3-8029-1038e721283c",
        "colab": {
          "base_uri": "https://localhost:8080/"
        }
      },
      "outputs": [
        {
          "output_type": "stream",
          "name": "stdout",
          "text": [
            "Methane fraction: 0.0087\n",
            "Hydrogen fraction: 0.6341\n",
            "CO fraction: 0.145\n",
            "CO2 fraction: 0.0498\n",
            "Heat of reactions 0.0 kJ/mol\n",
            "Temperature is 1000.0\n"
          ]
        }
      ],
      "source": [
        "# Set up the system for methane steam reforming using jNeqSim\n",
        "system3 = jneqsim.thermo.system.SystemSrkEos(1000.0, 3.0)  # 1000 K, 3 bar\n",
        "system3.addComponent('methane', 1.0)\n",
        "system3.addComponent('water', 2.0)\n",
        "system3.addComponent('hydrogen', 0.0)\n",
        "system3.addComponent('CO', 0.0)\n",
        "system3.addComponent('CO2', 0.0)\n",
        "system3.setMixingRule(2)\n",
        "\n",
        "# Create inlet stream\n",
        "inlet_stream3 = jneqsim.process.equipment.stream.Stream('Inlet Stream', system3)\n",
        "inlet_stream3.run()\n",
        "\n",
        "# Create and run GibbsReactor\n",
        "reactor3 = jneqsim.process.equipment.reactor.GibbsReactor('Gibbs Reactor', inlet_stream3)\n",
        "reactor3.setUseAllDatabaseSpecies(False)\n",
        "reactor3.setDampingComposition(0.01)\n",
        "reactor3.setMaxIterations(2500)\n",
        "reactor3.setConvergenceTolerance(1e-3)\n",
        "reactor3.setEnergyMode(\"isothermal\")\n",
        "reactor3.run()\n",
        "\n",
        "# Get outlet system and print results\n",
        "outlet3 = reactor3.getOutletStream().getThermoSystem()\n",
        "print('Methane fraction:', round(outlet3.getComponent('methane').getz(), 4))\n",
        "print('Hydrogen fraction:', round(outlet3.getComponent('hydrogen').getz(), 4))\n",
        "print('CO fraction:', round(outlet3.getComponent('CO').getz(), 4))\n",
        "print('CO2 fraction:', round(outlet3.getComponent('CO2').getz(), 4))\n",
        "print(\"Heat of reactions\", reactor3.getEnthalpyOfReactions(), \"kJ/mol\")\n",
        "print(\"Temperature is\", reactor3.getOutletStream().getThermoSystem().getTemperature(\"K\"))\n"
      ]
    },
    {
      "cell_type": "markdown",
      "source": [
        "## Case Study: Methane Combustion in Air\n",
        "\n",
        "This example simulates the combustion of a natural gas mixture (primarily methane, ethane, propane, and pentane isomers) in air using the Gibbs Reactor. This is relevant for understanding the equilibrium composition of flue gas from combustion processes, which is important for emission control and energy recovery. We will analyze the composition of the outlet stream after the reaction."
      ],
      "metadata": {
        "id": "l9sXTRgjv3X-"
      },
      "id": "l9sXTRgjv3X-"
    },
    {
      "cell_type": "code",
      "execution_count": 6,
      "id": "ff0f2925",
      "metadata": {
        "id": "ff0f2925",
        "outputId": "d65d3e64-0591-4cdc-dfeb-a2255378019b",
        "colab": {
          "base_uri": "https://localhost:8080/"
        }
      },
      "outputs": [
        {
          "output_type": "stream",
          "name": "stdout",
          "text": [
            "| 0                    | 1           | 2                  | 3   | 4   | 5   | 6               |\n",
            "|:---------------------|:------------|:-------------------|:----|:----|:----|:----------------|\n",
            "|                      | total       | GAS                |     |     |     |                 |\n",
            "| methane              | 3.16578E-3  | 3.16578E-3         |     |     |     | [mole fraction] |\n",
            "| ethane               | 6.65088E-2  | 6.65088E-2         |     |     |     | [mole fraction] |\n",
            "| propane              | 5.99068E-3  | 5.99068E-3         |     |     |     | [mole fraction] |\n",
            "| i-butane             | 5.39789E-4  | 5.39789E-4         |     |     |     | [mole fraction] |\n",
            "| n-butane             | 5.3979E-4   | 5.3979E-4          |     |     |     | [mole fraction] |\n",
            "| i-pentane            | 4.86853E-5  | 4.86853E-5         |     |     |     | [mole fraction] |\n",
            "| n-pentane            | 4.86843E-5  | 4.86843E-5         |     |     |     | [mole fraction] |\n",
            "| oxygen               | 0E0         | 0E0                |     |     |     | [mole fraction] |\n",
            "| nitrogen             | 6.59951E-1  | 6.59951E-1         |     |     |     | [mole fraction] |\n",
            "| NO2                  | 0E0         | 0E0                |     |     |     | [mole fraction] |\n",
            "| NO                   | 6.87018E-11 | 6.87018E-11        |     |     |     | [mole fraction] |\n",
            "| N2O5                 | 0E0         | 0E0                |     |     |     | [mole fraction] |\n",
            "| N2O3                 | 0E0         | 0E0                |     |     |     | [mole fraction] |\n",
            "| N2O                  | 1.03677E-8  | 1.03677E-8         |     |     |     | [mole fraction] |\n",
            "| CO2                  | 7.75284E-4  | 7.75284E-4         |     |     |     | [mole fraction] |\n",
            "| CO                   | 8.51057E-2  | 8.51057E-2         |     |     |     | [mole fraction] |\n",
            "| water                | 1.77326E-1  | 1.77326E-1         |     |     |     | [mole fraction] |\n",
            "|                      |             |                    |     |     |     |                 |\n",
            "| Density              |             | 2.22532E-1         |     |     |     | kg/m3           |\n",
            "| Phase Fraction       |             | 1E0                |     |     |     | [mole fraction] |\n",
            "| Molar Mass           | 2.64847E-2  | 2.64847E-2         |     |     |     | kg/mol          |\n",
            "| Z factor             |             | 1.0002E0           |     |     |     | [-]             |\n",
            "| Heat Capacity (Cp)   |             | 2.02402E0          |     |     |     | kJ/kgK          |\n",
            "| Heat Capacity (Cv)   |             | 1.71009E0          |     |     |     | kJ/kgK          |\n",
            "| Speed of Sound       |             | 7.29376E2          |     |     |     | m/sec           |\n",
            "| Enthalpy             | 1.75715E6   | 1.75715E6          |     |     |     | J/kg            |\n",
            "| Entropy              | 2.68933E3   | 2.68933E3          |     |     |     | J/kgK           |\n",
            "| JT coefficient       |             | -4.95168E-2        |     |     |     | C/bar           |\n",
            "|                      |             |                    |     |     |     |                 |\n",
            "| Viscosity            |             | 4.74049E-5         |     |     |     | kg/msec         |\n",
            "| Thermal Conductivity |             | 1.20468E-1         |     |     |     | W/mK            |\n",
            "| Surface Tension      |             |                    |     |     |     | [N/m]           |\n",
            "|                      |             |                    |     |     |     |                 |\n",
            "|                      |             |                    |     |     |     |                 |\n",
            "|                      |             |                    |     |     |     |                 |\n",
            "| Pressure             |             | 1.0                |     |     |     | bara            |\n",
            "| Temperature          |             | 1157.9916848384005 |     |     |     | C               |\n",
            "|                      |             |                    |     |     |     |                 |\n",
            "| Model                |             | SRK-EOS            |     |     |     | -               |\n",
            "| Mixing Rule          |             | classic            |     |     |     | -               |\n",
            "|                      |             |                    |     |     |     |                 |\n",
            "| Stream               |             |                    |     |     |     | -               |\n",
            "|                      |             |                    |     |     |     |                 |\n",
            "|                      |             |                    |     |     |     |                 |\n",
            "|                      |             |                    |     |     |     |                 |\n",
            "|                      |             |                    |     |     |     |                 |\n"
          ]
        }
      ],
      "source": [
        "# Methane combustion in air using jneqsim\n",
        "system2 = jneqsim.thermo.system.SystemSrkEos(298.15, 1.0)\n",
        "system2.addComponent(\"methane\", 15)\n",
        "system2.addComponent(\"ethane\", 10)\n",
        "system2.addComponent(\"propane\", 0.1)\n",
        "system2.addComponent(\"i-butane\", 0.1)\n",
        "system2.addComponent(\"n-butane\", 0.1)\n",
        "system2.addComponent(\"i-pentane\", 0.1)\n",
        "system2.addComponent(\"n-pentane\", 0.1)\n",
        "system2.addComponent(\"oxygen\", 20.0)\n",
        "system2.addComponent(\"nitrogen\", 100.0)\n",
        "system2.addComponent(\"NO2\", 0.0)\n",
        "system2.addComponent(\"NO\", 0.0)\n",
        "system2.addComponent(\"N2O5\", 0.0)\n",
        "system2.addComponent(\"N2O3\", 0.0)\n",
        "system2.addComponent(\"N2O\", 0.0)\n",
        "system2.addComponent(\"CO2\", 0.0)\n",
        "system2.addComponent(\"CO\", 0.0)\n",
        "system2.addComponent(\"water\", 0.0)\n",
        "system2.setMixingRule(2)\n",
        "system2.init(0)\n",
        "\n",
        "inlet_stream2 = jneqsim.process.equipment.stream.Stream(\"Inlet Stream\", system2)\n",
        "inlet_stream2.run()\n",
        "\n",
        "reactor2 = jneqsim.process.equipment.reactor.GibbsReactor(\"Gibbs Reactor\", inlet_stream2)\n",
        "reactor2.setUseAllDatabaseSpecies(False)\n",
        "reactor2.setDampingComposition(0.01)\n",
        "reactor2.setMaxIterations(5000)\n",
        "reactor2.setConvergenceTolerance(1e-3)\n",
        "reactor2.run()\n",
        "\n",
        "outlet2 = reactor2.getOutletStream().getThermoSystem()\n",
        "printFrame(outlet2)"
      ]
    },
    {
      "cell_type": "code",
      "execution_count": 7,
      "id": "b718e027",
      "metadata": {
        "id": "b718e027"
      },
      "outputs": [],
      "source": [
        "# Utility function to get component names from a neqsim fluid object\n",
        "def get_component_list(fluid):\n",
        "    \"\"\"\n",
        "    This function takes a fluid neqsim object as input and returns a list of components in the fluid.\n",
        "\n",
        "    Args:\n",
        "    - fluid: a neqsim fluid object\n",
        "\n",
        "    Returns:\n",
        "    - components_list: a list of names of components in the fluid\n",
        "    \"\"\"\n",
        "    number_of_components = fluid.getNumberOfComponents()\n",
        "    components_list = []\n",
        "    for i in range(number_of_components):\n",
        "        component = fluid.getComponent(i)\n",
        "        name = component.getName()\n",
        "        components_list.append(name)\n",
        "    return components_list"
      ]
    },
    {
      "cell_type": "markdown",
      "id": "2ffe8787",
      "metadata": {
        "id": "2ffe8787"
      },
      "source": [
        "## Case Study: Ammonia Production via Haber-Bosch Process\n",
        "Ammonia (NH₃) is produced industrially by reacting nitrogen and hydrogen at high pressure and moderate temperature. The reaction is:\n",
        "$$\\mathrm{N_2 + 3H_2 \\rightleftharpoons 2NH_3}$$\n",
        "This process is crucial for fertilizer production. Here, we use the GibbsReactor to study the effect of pressure on ammonia yield at a fixed temperature (e.g., 450°C)."
      ]
    },
    {
      "cell_type": "code",
      "execution_count": 8,
      "id": "9f4553ea",
      "metadata": {
        "id": "9f4553ea",
        "outputId": "e49621be-aa9e-42dd-ed5b-ab6da4360aae",
        "colab": {
          "base_uri": "https://localhost:8080/",
          "height": 514
        }
      },
      "outputs": [
        {
          "output_type": "stream",
          "name": "stdout",
          "text": [
            "Pressure: 50 bar, Ammonia mole fraction: 0.0023\n",
            "Pressure: 100 bar, Ammonia mole fraction: 0.0023\n",
            "Pressure: 150 bar, Ammonia mole fraction: 0.0024\n",
            "Pressure: 200 bar, Ammonia mole fraction: 0.0024\n",
            "Pressure: 250 bar, Ammonia mole fraction: 0.0025\n",
            "Pressure: 300 bar, Ammonia mole fraction: 0.0025\n"
          ]
        },
        {
          "output_type": "display_data",
          "data": {
            "text/plain": [
              "<Figure size 700x400 with 1 Axes>"
            ],
            "image/png": "[encoded data removed]"
          },
          "metadata": {}
        }
      ],
      "source": [
        "import numpy as np\n",
        "import matplotlib.pyplot as plt\n",
        "\n",
        "# Parameters for Haber-Bosch process\n",
        "T_C = 450  # Temperature in Celsius\n",
        "T_K = T_C + 273.15\n",
        "pressures = np.linspace(50, 300, 6)  # bar\n",
        "NH3_yields = []\n",
        "\n",
        "for P in pressures:\n",
        "    # Set up the system for ammonia synthesis\n",
        "    system_NH3 = jneqsim.thermo.system.SystemSrkEos(T_K, P)\n",
        "    system_NH3.addComponent('nitrogen', 1.0)\n",
        "    system_NH3.addComponent('hydrogen', 3.0)\n",
        "    system_NH3.addComponent('ammonia', 0.0)\n",
        "    system_NH3.setMixingRule(2)\n",
        "\n",
        "    # Create inlet stream\n",
        "    inlet_stream_NH3 = jneqsim.process.equipment.stream.Stream('Inlet Stream', system_NH3)\n",
        "    inlet_stream_NH3.run()\n",
        "\n",
        "    # Create and run GibbsReactor\n",
        "    reactor_NH3 = jneqsim.process.equipment.reactor.GibbsReactor('Gibbs Reactor', inlet_stream_NH3)\n",
        "    reactor_NH3.setUseAllDatabaseSpecies(False)\n",
        "    reactor_NH3.setDampingComposition(0.1)\n",
        "    reactor_NH3.setMaxIterations(2500)\n",
        "    reactor_NH3.setConvergenceTolerance(1e-3)\n",
        "    reactor_NH3.setEnergyMode('isothermal')\n",
        "    reactor_NH3.run()\n",
        "\n",
        "    # Get outlet system and record ammonia yield\n",
        "    outlet_NH3 = reactor_NH3.getOutletStream().getThermoSystem()\n",
        "    NH3_frac = outlet_NH3.getComponent('ammonia').getz()\n",
        "    NH3_yields.append(NH3_frac)\n",
        "    print(f'Pressure: {P:.0f} bar, Ammonia mole fraction: {NH3_frac:.4f}')\n",
        "\n",
        "# Plot ammonia yield vs pressure\n",
        "plt.figure(figsize=(7,4))\n",
        "plt.plot(pressures, NH3_yields, marker='o')\n",
        "plt.xlabel('Pressure [bar]')\n",
        "plt.ylabel('Ammonia mole fraction')\n",
        "plt.title('Effect of Pressure on Ammonia Yield (Haber-Bosch Process)')\n",
        "plt.grid(True)\n",
        "plt.show()"
      ]
    },
    {
      "cell_type": "markdown",
      "source": [
        "## Case Study: Gas Turbine Process\n",
        "\n",
        "This case study demonstrates how to simulate a simplified gas turbine process using neqsim, incorporating a Gibbs Reactor for combustion. This example is relevant for understanding the thermodynamics and performance of gas turbines, particularly when using hydrogen as fuel. We will simulate the key components: compressor, mixer, combustor (Gibbs Reactor), and expander."
      ],
      "metadata": {
        "id": "BRtFsJhxwtgq"
      },
      "id": "BRtFsJhxwtgq"
    },
    {
      "cell_type": "code",
      "execution_count": 11,
      "id": "22f65bcf",
      "metadata": {
        "id": "22f65bcf"
      },
      "outputs": [],
      "source": [
        "#Gas turbine process\n",
        "# --- Variables (all at the top, temperatures in Celsius) ---\n",
        "air_flow_kg_s = 510.0  # kg/s\n",
        "air_temp_C = 15.0  # deg C\n",
        "air_press_bar = 1.013\n",
        "pressure_ratio = 10.7\n",
        "compressor_eff = 0.858\n",
        "expander_eff = 0.884\n",
        "combustor_pressure_loss = 0.015  # 1.5%\n",
        "pressure_loss_behind_expander_bar = 0.045  # 45 mbar\n",
        "mech_eff = 0.985\n",
        "fuel_temp_C = 15.0 # fuel temperature in Celsius\n",
        "mfuel = 3.4  # kg/sec, fuel mass flow rate\n",
        "fuel_heating_value = 120.0e6  # J/kg, lower heating value of hydrogen\n",
        "\n",
        "# --- 1. Create air stream ---\n",
        "# Standard dry air mole fractions: O2=0.2095, N2=0.7808, CO2=0.0004, Ar=0.0093\n",
        "air_system = jneqsim.thermo.system.SystemSrkEos(air_temp_C + 273.15, air_press_bar)\n",
        "air_system.addComponent('oxygen', 0.2095)\n",
        "air_system.addComponent('nitrogen', 0.7808)\n",
        "air_system.addComponent('CO2', 0.0004)\n",
        "air_system.addComponent('water', 0.0)\n",
        "air_system.addComponent('hydrogen', 0.0)\n",
        "air_system.addComponent('NO', 0.0) # Uncomment if needed to be consideredair_system.addComponent('NO2', 0.0)\n",
        "air_system.addComponent('NO2', 0.0)\n",
        "air_system.addComponent('CO', 0.0)\n",
        "\n",
        "\n",
        "air_system.setMixingRule(2)\n",
        "air_stream = jneqsim.process.equipment.stream.Stream('Air Stream', air_system)\n",
        "air_stream.setFlowRate(air_flow_kg_s, 'kg/sec')\n",
        "air_stream.run()\n",
        "\n",
        "# --- 2. Compressor ---\n",
        "comp_out_press = air_press_bar * pressure_ratio\n",
        "\n",
        "\n",
        "compressor = jneqsim.process.equipment.compressor.Compressor('Compressor', air_stream)\n",
        "compressor.setOutletPressure(comp_out_press)\n",
        "compressor.setIsentropicEfficiency(compressor_eff)\n",
        "compressor.run()\n",
        "\n",
        "# --- 3. Fuel stream (hydrogen) ---\n",
        "# Clone air system and set to pure fuel (hydrogen)\n",
        "fuel_system = air_stream.getThermoSystem().clone()\n",
        "comp_names = fuel_system.getComponentNames()\n",
        "fuel_mol_frac = [1.0 if name == 'hydrogen' else 0.0 for name in comp_names]\n",
        "fuel_system.setMolarComposition(fuel_mol_frac)\n",
        "\n",
        "fuel_stream = jneqsim.process.equipment.stream.Stream('Fuel Stream', fuel_system)\n",
        "fuel_stream.setTemperature(fuel_temp_C + 273.15)\n",
        "fuel_stream.setPressure(comp_out_press)\n",
        "fuel_stream.setFlowRate(mfuel, 'kg/sec')\n",
        "fuel_stream.run()\n",
        "\n",
        "\n",
        "# --- 4. Mixer (hot air after compressor + fuel) ---\n",
        "mixer = jneqsim.process.equipment.mixer.Mixer('Mixer')\n",
        "mixer.addStream(compressor.getOutStream())\n",
        "mixer.addStream(fuel_stream)\n",
        "mixer.run()\n",
        "\n",
        "\n",
        "# --- 5. Combustor (GibbsReactor, adiabatic) ---\n",
        "combustor = jneqsim.process.equipment.reactor.GibbsReactor('Combustor', mixer.getOutStream())\n",
        "combustor.setUseAllDatabaseSpecies(False)\n",
        "combustor.setDampingComposition(0.1)\n",
        "combustor.setMaxIterations(500)\n",
        "combustor.setConvergenceTolerance(1e-4)\n",
        "combustor.setEnergyMode('adiabatic')\n",
        "combustor.run()\n",
        "\n",
        "\n",
        "\n",
        "# --- 6. Expander ---\n",
        "expander_out_press = air_press_bar + pressure_loss_behind_expander_bar  # bar, pressure loss behind expander\n",
        "expander = jneqsim.process.equipment.expander.Expander('Expander', combustor.getOutStream())\n",
        "expander.setOutletPressure(expander_out_press)\n",
        "expander.setIsentropicEfficiency(expander_eff)\n",
        "expander.run()"
      ]
    },
    {
      "cell_type": "code",
      "execution_count": 14,
      "id": "1ed019ef",
      "metadata": {
        "id": "1ed019ef",
        "outputId": "6c543f78-634c-49c4-b211-5886cd060098",
        "colab": {
          "base_uri": "https://localhost:8080/"
        }
      },
      "outputs": [
        {
          "output_type": "stream",
          "name": "stdout",
          "text": [
            "\n",
            "|  COMPRESSOR  |    Value     |\n",
            "|--------------|--------------|\n",
            "| T0=T1        |       288.15 |\n",
            "| T2           |       604.98 |\n",
            "| P2           |      1083910 |\n",
            "| W            |  166908870.2 |\n",
            "\n",
            "|   COMBUST.   |    Value     |\n",
            "|--------------|--------------|\n",
            "| P3           |      1083910 |\n",
            "| T3           |         1250 |\n",
            "| m fuel       |         3.40 |\n",
            "| W            |  401731791.1 |\n",
            "\n",
            "|   TURBINE    |    Value     |\n",
            "|--------------|--------------|\n",
            "| P4/P3        |     0.097610 |\n",
            "| P4           |       105800 |\n",
            "| T4           |       771.38 |\n",
            "| Specific Power |    -594822.1 |\n",
            "| Wt           | -303359279.5 |\n",
            "| Eff          |       33.444 |\n",
            "|--------------|--------------|\n",
            "| Total Power  |        136.5 |\n"
          ]
        }
      ],
      "source": [
        "# Print summary table of results\n",
        "print(\"\\n| {:^12} | {:^12} |\".format(\"COMPRESSOR\", \"Value\"))\n",
        "print(\"|\" + \"-\"*14 + \"|\" + \"-\"*14 + \"|\")\n",
        "print(\"| {:<12} | {:>12} |\".format(\"T0=T1\", 288.15))\n",
        "print(\"| {:<12} | {:>12.2f} |\".format(\"T2\", compressor.getOutStream().getThermoSystem().getTemperature()))\n",
        "print(\"| {:<12} | {:>12.0f} |\".format(\"P2\", compressor.getOutStream().getThermoSystem().getPressure()*1e5))\n",
        "print(\"| {:<12} | {:>12.1f} |\".format(\"W\", compressor.getPower()))\n",
        "\n",
        "print(\"\\n| {:^12} | {:^12} |\".format(\"COMBUST.\", \"Value\"))\n",
        "print(\"|\" + \"-\"*14 + \"|\" + \"-\"*14 + \"|\")\n",
        "print(\"| {:<12} | {:>12.0f} |\".format(\"P3\", combustor.getOutStream().getThermoSystem().getPressure()*1e5))\n",
        "print(\"| {:<12} | {:>12.0f} |\".format(\"T3\", combustor.getOutStream().getThermoSystem().getTemperature()))\n",
        "print(\"| {:<12} | {:>12.2f} |\".format(\"m fuel\", mfuel))\n",
        "print(\"| {:<12} | {:>12.1f} |\".format(\"W\", combustor.getPower()))\n",
        "\n",
        "print(\"\\n| {:^12} | {:^12} |\".format(\"TURBINE\", \"Value\"))\n",
        "print(\"|\" + \"-\"*14 + \"|\" + \"-\"*14 + \"|\")\n",
        "print(\"| {:<12} | {:>12.6f} |\".format(\"P4/P3\", expander.getOutStream().getThermoSystem().getPressure()/combustor.getOutStream().getThermoSystem().getPressure()))\n",
        "print(\"| {:<12} | {:>12.0f} |\".format(\"P4\", expander.getOutStream().getThermoSystem().getPressure()*1e5))\n",
        "print(\"| {:<12} | {:>12.2f} |\".format(\"T4\", expander.getOutStream().getThermoSystem().getTemperature()))\n",
        "print(\"| {:<12} | {:>12.1f} |\".format(\"Specific Power\", expander.getPower()/air_flow_kg_s))\n",
        "print(\"| {:<12} | {:>12.1f} |\".format(\"Wt\", expander.getPower()))\n",
        "print(\"| {:<12} | {:>12.3f} |\".format(\"Eff\", (-expander.getPower() - compressor.getPower())/(mfuel*fuel_heating_value) * 100))\n",
        "print(\"|\" + \"-\"*14 + \"|\" + \"-\"*14 + \"|\")\n",
        "print(\"| {:<12} | {:>12.1f} |\".format(\"Total Power\", (-expander.getPower() - compressor.getPower())/1e6))"
      ]
    },
    {
      "cell_type": "code",
      "execution_count": 16,
      "id": "caab1ae8",
      "metadata": {
        "id": "caab1ae8",
        "outputId": "72304a52-794b-477a-bd09-fc2c6ec4872c",
        "colab": {
          "base_uri": "https://localhost:8080/"
        }
      },
      "outputs": [
        {
          "output_type": "stream",
          "name": "stdout",
          "text": [
            "\n",
            "--- Emissions at Expander Outlet (mole fractions) ---\n",
            "NO: 261.17930857236405 ppm\n",
            "NO2: 2.900519030495439 ppm\n",
            "CO: 5.515677755448412e-05 ppm\n",
            "CO2: 385.36475477531354 ppm\n"
          ]
        }
      ],
      "source": [
        "# Analyze and print key emissions from combustor and expander outlets\n",
        "emission_components = ['NO', 'NO2', 'CO', 'CO2']\n",
        "\n",
        "print('\\n--- Emissions at Expander Outlet (mole fractions) ---')\n",
        "for comp in emission_components:\n",
        "    try:\n",
        "        val = expander.getOutStream().getThermoSystem().getComponent(comp).getz()\n",
        "        print(f'{comp}: {val*1e6}' \" ppm\")\n",
        "    except Exception:\n",
        "        print(f'{comp}: not present')"
      ]
    },
    {
      "cell_type": "code",
      "execution_count": 25,
      "id": "70027f90",
      "metadata": {
        "id": "70027f90",
        "outputId": "c6636a46-ff78-4d87-96e6-411ffc91687c",
        "colab": {
          "base_uri": "https://localhost:8080/"
        }
      },
      "outputs": [
        {
          "output_type": "stream",
          "name": "stdout",
          "text": [
            "| 0                    | 1           | 2           | 3   | 4   | 5   | 6               |\n",
            "|:---------------------|:------------|:------------|:----|:----|:----|:----------------|\n",
            "|                      | total       | GAS         |     |     |     |                 |\n",
            "| CO2                  | 9.9996E-1   | 9.9996E-1   |     |     |     | [mole fraction] |\n",
            "| SO2                  | 9.94573E-6  | 9.94573E-6  |     |     |     | [mole fraction] |\n",
            "| SO3                  | 2.99716E-12 | 2.99716E-12 |     |     |     | [mole fraction] |\n",
            "| NO2                  | 0E0         | 0E0         |     |     |     | [mole fraction] |\n",
            "| NO                   | 9.97479E-6  | 9.97479E-6  |     |     |     | [mole fraction] |\n",
            "| water                | 1.99053E-5  | 1.99053E-5  |     |     |     | [mole fraction] |\n",
            "| ammonia              | 2.48406E-8  | 2.48406E-8  |     |     |     | [mole fraction] |\n",
            "| H2S                  | 0E0         | 0E0         |     |     |     | [mole fraction] |\n",
            "| oxygen               | 0E0         | 0E0         |     |     |     | [mole fraction] |\n",
            "| sulfuric acid        | 5.6646E-8   | 5.6646E-8   |     |     |     | [mole fraction] |\n",
            "| nitric acid          | 0E0         | 0E0         |     |     |     | [mole fraction] |\n",
            "| S8                   | 0E0         | 0E0         |     |     |     | [mole fraction] |\n",
            "|                      |             |             |     |     |     |                 |\n",
            "| Density              |             | 7.3959E2    |     |     |     | kg/m3           |\n",
            "| Phase Fraction       |             | 1E0         |     |     |     | [mole fraction] |\n",
            "| Molar Mass           | 4.40095E-2  | 4.40095E-2  |     |     |     | kg/mol          |\n",
            "| Z factor             |             | 2.40042E-1  |     |     |     | [-]             |\n",
            "| Heat Capacity (Cp)   |             | 3.29269E0   |     |     |     | kJ/kgK          |\n",
            "| Heat Capacity (Cv)   |             | 9.31268E-1  |     |     |     | kJ/kgK          |\n",
            "| Speed of Sound       |             | 4.08031E2   |     |     |     | m/sec           |\n",
            "| Enthalpy             | -2.23635E5  | -2.23635E5  |     |     |     | J/kg            |\n",
            "| Entropy              | -1.47941E3  | -1.47941E3  |     |     |     | J/kgK           |\n",
            "| JT coefficient       |             | 1.24304E-1  |     |     |     | C/bar           |\n",
            "|                      |             |             |     |     |     |                 |\n",
            "| Viscosity            |             | 6.70405E-5  |     |     |     | kg/msec         |\n",
            "| Thermal Conductivity |             | 7.4096E-2   |     |     |     | W/mK            |\n",
            "| Surface Tension      |             |             |     |     |     | [N/m]           |\n",
            "|                      |             |             |     |     |     |                 |\n",
            "|                      |             |             |     |     |     |                 |\n",
            "|                      |             |             |     |     |     |                 |\n",
            "| Pressure             |             | 100.0       |     |     |     | bara            |\n",
            "| Temperature          |             | 25.0        |     |     |     | C               |\n",
            "|                      |             |             |     |     |     |                 |\n",
            "| Model                |             | SRK-EOS     |     |     |     | -               |\n",
            "| Mixing Rule          |             | classic     |     |     |     | -               |\n",
            "|                      |             |             |     |     |     |                 |\n",
            "| Stream               |             |             |     |     |     | -               |\n",
            "|                      |             |             |     |     |     |                 |\n",
            "|                      |             |             |     |     |     |                 |\n",
            "|                      |             |             |     |     |     |                 |\n",
            "|                      |             |             |     |     |     |                 |\n"
          ]
        }
      ],
      "source": [
        "# Impurities in CO2\n",
        "from neqsim import jneqsim\n",
        "from neqsim.thermo import printFrame\n",
        "\n",
        "# Create a thermodynamic system using SRK EOS at 298 K and 100.0 bar\n",
        "system = jneqsim.thermo.system.SystemSrkEos(298, 100.0)\n",
        "\n",
        "# Adding components to the system\n",
        "system.addComponent(\"CO2\", 1e6, \"mole/sec\")\n",
        "system.addComponent(\"SO2\", 0, \"mole/sec\")\n",
        "system.addComponent(\"SO3\", 0, \"mole/sec\")\n",
        "system.addComponent(\"NO2\", 10, \"mole/sec\")\n",
        "system.addComponent(\"NO\", 0, \"mole/sec\")\n",
        "system.addComponent(\"water\", 10, \"mole/sec\")\n",
        "system.addComponent(\"ammonia\", 0, \"mole/sec\")\n",
        "system.addComponent(\"H2S\", 10, \"mole/sec\")\n",
        "system.addComponent(\"oxygen\", 10, \"mole/sec\")\n",
        "system.addComponent(\"sulfuric acid\", 0, \"mole/sec\")\n",
        "system.addComponent(\"nitric acid\", 0, \"mole/sec\")\n",
        "system.addComponent(\"S8\", 0, \"mole/sec\")\n",
        "\n",
        "# Set mixing rule\n",
        "system.setMixingRule(2)\n",
        "\n",
        "# Create an inlet stream\n",
        "inlet_stream = jneqsim.process.equipment.stream.Stream(\"Inlet Stream\", system)\n",
        "inlet_stream.setPressure(100, \"bara\")\n",
        "inlet_stream.setTemperature(25, \"C\")\n",
        "inlet_stream.run()\n",
        "\n",
        "# Create a Gibbs reactor\n",
        "reactor = jneqsim.process.equipment.reactor.GibbsReactor(\"Gibbs Reactor\", inlet_stream)\n",
        "reactor.setUseAllDatabaseSpecies(False);\n",
        "reactor.setDampingComposition(0.01);\n",
        "reactor.setMaxIterations(10000);\n",
        "reactor.setConvergenceTolerance(1e-3);\n",
        "reactor.setEnergyMode(jneqsim.process.equipment.reactor.GibbsReactor.EnergyMode.ISOTHERMAL);\n",
        "reactor.run()\n",
        "\n",
        "# Get the outlet system\n",
        "outlet_system = reactor.getOutletStream().getThermoSystem()\n",
        "\n",
        "# Check mass balance convergence\n",
        "assert reactor.getMassBalanceConverged(), \"Mass balance should be converged\"\n",
        "\n",
        "printFrame(outlet_system)\n",
        ""
      ]
    },
    {
      "cell_type": "markdown",
      "id": "a125bb0a",
      "metadata": {
        "id": "a125bb0a"
      },
      "source": [
        " You can further explore the effect of temperature, pressure, and feed composition on the equilibrium by modifying the input parameters in each case."
      ]
    }
  ],
  "metadata": {
    "kernelspec": {
      "display_name": "my_env",
      "language": "python",
      "name": "python3"
    },
    "language_info": {
      "codemirror_mode": {
        "name": "ipython",
        "version": 3
      },
      "file_extension": ".py",
      "mimetype": "text/x-python",
      "name": "python",
      "nbconvert_exporter": "python",
      "pygments_lexer": "ipython3",
      "version": "3.11.9"
    },
    "colab": {
      "provenance": [],
      "include_colab_link": true
    }
  },
  "nbformat": 4,
  "nbformat_minor": 5
}