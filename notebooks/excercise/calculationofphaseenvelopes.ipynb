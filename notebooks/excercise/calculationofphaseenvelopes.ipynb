{
  "nbformat": 4,
  "nbformat_minor": 0,
  "metadata": {
    "colab": {
      "name": "UMRcalcs.ipynb",
      "provenance": [],
      "collapsed_sections": [],
      "authorship_tag": "ABX9TyMfTfvHgguqK9N87tZg57E5",
      "include_colab_link": true
    },
    "kernelspec": {
      "name": "python3",
      "display_name": "Python 3"
    }
  },
  "cells": [
    {
      "cell_type": "markdown",
      "metadata": {
        "id": "view-in-github",
        "colab_type": "text"
      },
      "source": [
        "<a href=\"https://colab.research.google.com/github/EvenSol/NeqSim-Colab/blob/master/notebooks/excercise/calculationofphaseenvelopes.ipynb\" target=\"_parent\"><img src=\"https://colab.research.google.com/assets/colab-badge.svg\" alt=\"Open In Colab\"/></a>"
      ]
    },
    {
      "cell_type": "code",
      "metadata": {
        "id": "bfauyagjDT_O"
      },
      "source": [
        "%%capture\n",
        "!pip install neqsim==2.5.35\n",
        "import neqsim\n",
        "from neqsim.thermo.thermoTools import *\n",
        "import matplotlib\n",
        "import numpy as np\n",
        "import matplotlib.pyplot as plt\n",
        "import math\n",
        "%matplotlib inline"
      ],
      "execution_count": 1,
      "outputs": []
    },
    {
      "cell_type": "code",
      "metadata": {
        "id": "6debWpdaDXc4",
        "outputId": "183c5b60-62de-4dd5-868e-408ddc7acc5e",
        "colab": {
          "base_uri": "https://localhost:8080/",
          "height": 1000
        }
      },
      "source": [
        "from neqsim.thermo import fluid_df, TPflash, phaseenvelope,printFrame,dewt\n",
        "import pandas as pd\n",
        "\n",
        "\n",
        "naturalgas = {'ComponentName':  [\"nitrogen\", \"CO2\", \"methane\", \"ethane\", \"propane\", \"i-butane\", \"n-butane\",\"i-pentane\", \"n-pentane\",\"2-m-C5\", \"3-m-C5\", \"n-hexane\", \"benzene\", \"c-hexane\", \"n-heptane\", \"toluene\", \"c-C7\", \"n-octane\", \"m-Xylene\", \"c-C8\", \"n-nonane\", \"nC10\"], \n",
        "       'MolarComposition[-]':  [1.1799,0.5102,95.3303,2.1102,0.3217,0.1278,0.0846,0.0694,0.0340,0.0335,0.0109,0.0181,0.0017,0.00661,0.00207,0.0045,0.00530,0.0061,0.0033,0.000103,0.00032,0.0004]\n",
        "} \n",
        "\n",
        "\n",
        "naturalgasdf = pd.DataFrame(naturalgas) \n",
        "print(\"Natural Gas Fluid:\\n\")\n",
        "print(naturalgasdf.head(30).to_string())\n",
        "\n",
        "naturalgasFluid = fluid_df(naturalgasdf)#.setModel(\"UMR-PRU-EoS\")\n",
        "naturalgasFluid.autoSelectMixingRule()\n",
        "TPflash(naturalgasFluid)\n",
        "printFrame(naturalgasFluid)\n",
        "\n",
        "gasPhaseEnvelope = phaseenvelope(naturalgasFluid,True)\n",
        "cricobar = gasPhaseEnvelope.get(\"cricondenbar\")\n",
        "print(\"cricoP \",  cricobar[1], \"  [bara] \", \" cricoT \", cricobar[0], \" °C\")\n",
        "\n",
        "\n",
        "\n",
        "naturalgasFluid.setTemperature(-10.0, \"C\")\n",
        "naturalgasFluid.setPressure(21.0, \"bara\")\n",
        "TPflash(naturalgasFluid)\n",
        "printFrame(naturalgasFluid)\n",
        "\n",
        "\n",
        "naturalgasFluid.setPressure(21.0, \"bara\")\n",
        "dewPointT =dewt(naturalgasFluid)-273.15\n",
        "print(\"dew point T \", dewPointT, \" °C\")"
      ],
      "execution_count": 2,
      "outputs": [
        {
          "output_type": "stream",
          "text": [
            "Natural Gas Fluid:\n",
            "\n",
            "   ComponentName  MolarComposition[-]\n",
            "0       nitrogen             1.179900\n",
            "1            CO2             0.510200\n",
            "2        methane            95.330300\n",
            "3         ethane             2.110200\n",
            "4        propane             0.321700\n",
            "5       i-butane             0.127800\n",
            "6       n-butane             0.084600\n",
            "7      i-pentane             0.069400\n",
            "8      n-pentane             0.034000\n",
            "9         2-m-C5             0.033500\n",
            "10        3-m-C5             0.010900\n",
            "11      n-hexane             0.018100\n",
            "12       benzene             0.001700\n",
            "13      c-hexane             0.006610\n",
            "14     n-heptane             0.002070\n",
            "15       toluene             0.004500\n",
            "16          c-C7             0.005300\n",
            "17      n-octane             0.006100\n",
            "18      m-Xylene             0.003300\n",
            "19          c-C8             0.000103\n",
            "20      n-nonane             0.000320\n",
            "21          nC10             0.000400\n",
            "                          total         gas                       \n",
            "           nitrogen  1.18154E-2  1.18154E-2        [mole fraction]\n",
            "                CO2   5.1091E-3   5.1091E-3        [mole fraction]\n",
            "            methane   9.5463E-1   9.5463E-1        [mole fraction]\n",
            "             ethane  2.11314E-2  2.11314E-2        [mole fraction]\n",
            "            propane  3.22148E-3  3.22148E-3        [mole fraction]\n",
            "           i-butane  1.27978E-3  1.27978E-3        [mole fraction]\n",
            "           n-butane  8.47178E-4  8.47178E-4        [mole fraction]\n",
            "          i-pentane  6.94966E-4  6.94966E-4        [mole fraction]\n",
            "          n-pentane  3.40473E-4  3.40473E-4        [mole fraction]\n",
            "             2-m-C5  3.35466E-4  3.35466E-4        [mole fraction]\n",
            "             3-m-C5  1.09152E-4  1.09152E-4        [mole fraction]\n",
            "           n-hexane  1.81252E-4  1.81252E-4        [mole fraction]\n",
            "            benzene  1.70237E-5  1.70237E-5        [mole fraction]\n",
            "           c-hexane   6.6192E-5   6.6192E-5        [mole fraction]\n",
            "          n-heptane  2.07288E-5  2.07288E-5        [mole fraction]\n",
            "            toluene  4.50626E-5  4.50626E-5        [mole fraction]\n",
            "               c-C7  5.30738E-5  5.30738E-5        [mole fraction]\n",
            "           n-octane  6.10849E-5  6.10849E-5        [mole fraction]\n",
            "           m-Xylene  3.30459E-5  3.30459E-5        [mole fraction]\n",
            "               c-C8  1.03143E-6  1.03143E-6        [mole fraction]\n",
            "           n-nonane  3.20445E-6  3.20445E-6        [mole fraction]\n",
            "               nC10  4.00557E-6  4.00557E-6        [mole fraction]\n",
            "                                                                  \n",
            "            Density              6.84259E-1               [kg/m^3]\n",
            "      PhaseFraction                     1E0        [mole fraction]\n",
            "          MolarMass   1.69306E1   1.69306E1              [kg/kmol]\n",
            "           Z factor              9.98155E-1                    [-]\n",
            " Heat Capacity (Cp)               2.16114E0              [kJ/kg*K]\n",
            " Heat Capacity (Cv)               1.66486E0              [kJ/kg*K]\n",
            "     Speed of Sound                4.3516E2                [m/sec]\n",
            "           Enthalpy   5.20836E1   5.20836E1                [kJ/kg]\n",
            "            Entropy  3.14824E-1  3.14824E-1              [kJ/kg*K]\n",
            "     JT coefficient              4.82225E-1                [K/bar]\n",
            "                                                                  \n",
            "          Viscosity              1.12601E-5             [kg/m*sec]\n",
            "       Conductivity              3.38205E-2                [W/m*K]\n",
            "     SurfaceTension                                          [N/m]\n",
            "                                                                  \n",
            "                                                                  \n",
            "                                                                  \n",
            "           Pressure                     1.0                  [bar]\n",
            "        Temperature                  298.15                    [K]\n",
            "                                                                  \n",
            "              Model                 SRK-EOS                      -\n",
            "        Mixing Rule                 classic                      -\n",
            "                                                                  \n",
            "             Stream                                              -\n",
            "                                                                  \n",
            "                                                                  \n",
            "                                                                  \n",
            "                                                                  \n"
          ],
          "name": "stdout"
        },
        {
          "output_type": "display_data",
          "data": {
            "image/png": "[encoded data removed]",
            "text/plain": [
              "<Figure size 432x288 with 1 Axes>"
            ]
          },
          "metadata": {
            "tags": [],
            "needs_background": "light"
          }
        },
        {
          "output_type": "stream",
          "text": [
            "cricoP  83.3163022035517   [bara]   cricoT  233.96012927328314  °C\n",
            "                          total         gas          oil                     \n",
            "           nitrogen  1.18154E-2  1.18165E-2   3.70138E-4      [mole fraction]\n",
            "                CO2   5.1091E-3   5.1093E-3   3.03781E-3      [mole fraction]\n",
            "            methane   9.5463E-1  9.54712E-1   1.10392E-1      [mole fraction]\n",
            "             ethane  2.11314E-2  2.11314E-2   2.11119E-2      [mole fraction]\n",
            "            propane  3.22148E-3  3.22043E-3   1.40749E-2      [mole fraction]\n",
            "           i-butane  1.27978E-3  1.27844E-3    1.5054E-2      [mole fraction]\n",
            "           n-butane  8.47178E-4  8.45705E-4   1.60414E-2      [mole fraction]\n",
            "          i-pentane  6.94966E-4  6.91439E-4   3.70978E-2      [mole fraction]\n",
            "          n-pentane  3.40473E-4  3.37989E-4   2.59756E-2      [mole fraction]\n",
            "             2-m-C5  3.35466E-4  3.29281E-4   6.41738E-2      [mole fraction]\n",
            "             3-m-C5  1.09152E-4  1.06792E-4   2.44588E-2      [mole fraction]\n",
            "           n-hexane  1.81252E-4   1.7614E-4   5.29399E-2      [mole fraction]\n",
            "            benzene  1.70237E-5  1.63592E-5   6.87474E-3      [mole fraction]\n",
            "           c-hexane   6.6192E-5  6.33768E-5   2.91222E-2      [mole fraction]\n",
            "          n-heptane  2.07288E-5  1.86835E-5   2.11299E-2      [mole fraction]\n",
            "            toluene  4.50626E-5  3.84838E-5   6.79451E-2      [mole fraction]\n",
            "               c-C7  5.30738E-5  4.32326E-5   1.01623E-1      [mole fraction]\n",
            "           n-octane  6.10849E-5  4.32715E-5   1.83913E-1      [mole fraction]\n",
            "           m-Xylene  3.30459E-5  1.90366E-5   1.44623E-1      [mole fraction]\n",
            "               c-C8  1.03143E-6  4.95953E-7   5.52772E-3      [mole fraction]\n",
            "           n-nonane  3.20445E-6  1.30732E-6   1.95835E-2      [mole fraction]\n",
            "               nC10  4.00557E-6  6.21709E-7   3.49288E-2      [mole fraction]\n",
            "                                                                             \n",
            "            Density               1.73121E1    7.49898E2             [kg/m^3]\n",
            "      PhaseFraction              9.99903E-1   9.68806E-5      [mole fraction]\n",
            "          MolarMass   1.69306E1   1.69238E1    8.75385E1            [kg/kmol]\n",
            "           Z factor              9.39039E-1   1.28704E-1                  [-]\n",
            " Heat Capacity (Cp)               2.27228E0    1.83627E0            [kJ/kg*K]\n",
            " Heat Capacity (Cv)               1.60834E0    1.56733E0            [kJ/kg*K]\n",
            "     Speed of Sound               4.01355E2    1.13269E3              [m/sec]\n",
            "           Enthalpy  -4.89616E1  -4.87833E1   -4.04812E2              [kJ/kg]\n",
            "            Entropy   -1.5184E0  -1.51868E0  -9.48313E-1            [kJ/kg*K]\n",
            "     JT coefficient              6.05203E-1  -6.22137E-2              [K/bar]\n",
            "                                                                             \n",
            "          Viscosity               1.0523E-5   6.05238E-4           [kg/m*sec]\n",
            "       Conductivity              3.22405E-2   1.35866E-1              [W/m*K]\n",
            "     SurfaceTension              2.21739E-2   2.21739E-2                [N/m]\n",
            "                                                                             \n",
            "                                                                             \n",
            "                                                                             \n",
            "           Pressure                    21.0         21.0                [bar]\n",
            "        Temperature                  263.15       263.15                  [K]\n",
            "                                                                             \n",
            "              Model                 SRK-EOS      SRK-EOS                    -\n",
            "        Mixing Rule                 classic      classic                    -\n",
            "                                                                             \n",
            "             Stream                                                         -\n",
            "                                                                             \n",
            "                                                                             \n",
            "                                                                             \n",
            "                                                                             \n",
            "dew point T  -3.3535087985871996  °C\n"
          ],
          "name": "stdout"
        }
      ]
    },
    {
      "cell_type": "code",
      "metadata": {
        "id": "flEy4ODMFB2j",
        "outputId": "7a13b3ad-eca7-48f8-9b54-71db42843830",
        "colab": {
          "base_uri": "https://localhost:8080/",
          "height": 312
        }
      },
      "source": [
        "#Method to change fluid composition\n",
        "fluidComposition(naturalgasFluid, [1.1799,0.5102,92.3303,2.1102,0.3217,0.1278,0.0846,0.0694,0.340,0.0335,0.109,0.0181,0.0017,0.00661,0.00207,0.0045,0.00530,0.0061,0.0033,0.000103,0.00032,0.004])\n",
        "\n",
        "gasPhaseEnvelope = phaseenvelope(naturalgasFluid,True)\n",
        "cricobar = gasPhaseEnvelope.get(\"cricondenbar\")\n",
        "print(\"cricoP \",  cricobar[1], \"  [bara] \", \" cricoT \", cricobar[0], \" °C\")"
      ],
      "execution_count": 3,
      "outputs": [
        {
          "output_type": "display_data",
          "data": {
            "image/png": "[encoded data removed]",
            "text/plain": [
              "<Figure size 432x288 with 1 Axes>"
            ]
          },
          "metadata": {
            "tags": [],
            "needs_background": "light"
          }
        },
        {
          "output_type": "stream",
          "text": [
            "cricoP  98.91668850030412   [bara]   cricoT  243.7025511923998  °C\n"
          ],
          "name": "stdout"
        }
      ]
    },
    {
      "cell_type": "code",
      "metadata": {
        "id": "Ht-cG8988uUc",
        "outputId": "a6ca71b1-5947-495b-c42a-76ab1e76a786",
        "colab": {
          "base_uri": "https://localhost:8080/",
          "height": 1000
        }
      },
      "source": [
        "from neqsim.thermo import fluid_df, TPflash, phaseenvelope,printFrame,dewt\n",
        "import pandas as pd\n",
        "\n",
        "\n",
        "naturalgas = {'ComponentName':  [\"nitrogen\", \"CO2\", \"methane\", \"ethane\", \"propane\", \"i-butane\", \"n-butane\", \"22-dim-C3\", \"i-pentane\", \"n-pentane\",\"c-C5\",\"22-dim-C4\",\"23-dim-C4\",\"2-m-C5\", \"3-m-C5\", \"n-hexane\", \"c-hexane\",\"benzene\", \"n-heptane\", \"toluene\", \"c-C7\", \"n-octane\", \"m-Xylene\", \"c-C8\", \"n-nonane\", \"nC10\"], \n",
        "       'MolarComposition[-]':  [1.193650, 1.181640, 83.802429,7.524265,3.823774,0.527226,1.045926,0.003427,0.237201,0.269206,0.016500,0.003981,0.006793,0.052717,0.026874,0.076107,0.071310,0.018542,0.049300,0.011154,0.034016,0.011852,0.003668,0.004812,0.003253,0.000380]\n",
        "} \n",
        "\n",
        "\n",
        "naturalgasdf = pd.DataFrame(naturalgas) \n",
        "print(\"Natural Gas Fluid:\\n\")\n",
        "print(naturalgasdf.head(30).to_string())\n",
        "\n",
        "naturalgasFluid = fluid_df(naturalgasdf)#.setModel(\"UMR-PRU-EoS\")\n",
        "naturalgasFluid.autoSelectMixingRule()\n",
        "TPflash(naturalgasFluid)\n",
        "printFrame(naturalgasFluid)\n",
        "\n",
        "gasPhaseEnvelope = phaseenvelope(naturalgasFluid,True)\n",
        "cricobar = gasPhaseEnvelope.get(\"cricondenbar\")\n",
        "print(\"cricoP \",  cricobar[1], \"  [bara] \", \" cricoT \", cricobar[0], \" °C\")\n",
        "\n",
        "\n",
        "\n",
        "naturalgasFluid.setTemperature(-10.0, \"C\")\n",
        "naturalgasFluid.setPressure(21.0, \"bara\")\n",
        "TPflash(naturalgasFluid)\n",
        "printFrame(naturalgasFluid)\n",
        "\n",
        "\n",
        "naturalgasFluid.setPressure(21.0, \"bara\")\n",
        "dewPointT =dewt(naturalgasFluid)-273.15\n",
        "print(\"dew point T \", dewPointT, \" °C\")"
      ],
      "execution_count": 4,
      "outputs": [
        {
          "output_type": "stream",
          "text": [
            "Natural Gas Fluid:\n",
            "\n",
            "   ComponentName  MolarComposition[-]\n",
            "0       nitrogen             1.193650\n",
            "1            CO2             1.181640\n",
            "2        methane            83.802429\n",
            "3         ethane             7.524265\n",
            "4        propane             3.823774\n",
            "5       i-butane             0.527226\n",
            "6       n-butane             1.045926\n",
            "7      22-dim-C3             0.003427\n",
            "8      i-pentane             0.237201\n",
            "9      n-pentane             0.269206\n",
            "10          c-C5             0.016500\n",
            "11     22-dim-C4             0.003981\n",
            "12     23-dim-C4             0.006793\n",
            "13        2-m-C5             0.052717\n",
            "14        3-m-C5             0.026874\n",
            "15      n-hexane             0.076107\n",
            "16      c-hexane             0.071310\n",
            "17       benzene             0.018542\n",
            "18     n-heptane             0.049300\n",
            "19       toluene             0.011154\n",
            "20          c-C7             0.034016\n",
            "21      n-octane             0.011852\n",
            "22      m-Xylene             0.003668\n",
            "23          c-C8             0.004812\n",
            "24      n-nonane             0.003253\n",
            "25          nC10             0.000380\n",
            "                          total         gas                       \n",
            "           nitrogen  1.19365E-2  1.19365E-2        [mole fraction]\n",
            "                CO2  1.18164E-2  1.18164E-2        [mole fraction]\n",
            "            methane  8.38024E-1  8.38024E-1        [mole fraction]\n",
            "             ethane  7.52426E-2  7.52426E-2        [mole fraction]\n",
            "            propane  3.82377E-2  3.82377E-2        [mole fraction]\n",
            "           i-butane  5.27226E-3  5.27226E-3        [mole fraction]\n",
            "           n-butane  1.04593E-2  1.04593E-2        [mole fraction]\n",
            "          22-dim-C3    3.427E-5    3.427E-5        [mole fraction]\n",
            "          i-pentane  2.37201E-3  2.37201E-3        [mole fraction]\n",
            "          n-pentane  2.69206E-3  2.69206E-3        [mole fraction]\n",
            "               c-C5     1.65E-4     1.65E-4        [mole fraction]\n",
            "          22-dim-C4    3.981E-5    3.981E-5        [mole fraction]\n",
            "          23-dim-C4    6.793E-5    6.793E-5        [mole fraction]\n",
            "             2-m-C5   5.2717E-4   5.2717E-4        [mole fraction]\n",
            "             3-m-C5   2.6874E-4   2.6874E-4        [mole fraction]\n",
            "           n-hexane   7.6107E-4   7.6107E-4        [mole fraction]\n",
            "           c-hexane    7.131E-4    7.131E-4        [mole fraction]\n",
            "            benzene   1.8542E-4   1.8542E-4        [mole fraction]\n",
            "          n-heptane     4.93E-4     4.93E-4        [mole fraction]\n",
            "            toluene   1.1154E-4   1.1154E-4        [mole fraction]\n",
            "               c-C7   3.4016E-4   3.4016E-4        [mole fraction]\n",
            "           n-octane   1.1852E-4   1.1852E-4        [mole fraction]\n",
            "           m-Xylene    3.668E-5    3.668E-5        [mole fraction]\n",
            "               c-C8    4.812E-5    4.812E-5        [mole fraction]\n",
            "           n-nonane    3.253E-5    3.253E-5        [mole fraction]\n",
            "               nC10      3.8E-6      3.8E-6        [mole fraction]\n",
            "                                                                  \n",
            "            Density              8.04123E-1               [kg/m^3]\n",
            "      PhaseFraction                     1E0        [mole fraction]\n",
            "          MolarMass   1.98799E1   1.98799E1              [kg/kmol]\n",
            "           Z factor              9.97345E-1                    [-]\n",
            " Heat Capacity (Cp)               2.02826E0              [kJ/kg*K]\n",
            " Heat Capacity (Cv)               1.60432E0              [kJ/kg*K]\n",
            "     Speed of Sound               3.95994E2                [m/sec]\n",
            "           Enthalpy   4.84901E1   4.84901E1                [kJ/kg]\n",
            "            Entropy  4.73354E-1  4.73354E-1              [kJ/kg*K]\n",
            "     JT coefficient              5.81227E-1                [K/bar]\n",
            "                                                                  \n",
            "          Viscosity               1.1042E-5             [kg/m*sec]\n",
            "       Conductivity               3.1108E-2                [W/m*K]\n",
            "     SurfaceTension                                          [N/m]\n",
            "                                                                  \n",
            "                                                                  \n",
            "                                                                  \n",
            "           Pressure                     1.0                  [bar]\n",
            "        Temperature                  298.15                    [K]\n",
            "                                                                  \n",
            "              Model                 SRK-EOS                      -\n",
            "        Mixing Rule                 classic                      -\n",
            "                                                                  \n",
            "             Stream                                              -\n",
            "                                                                  \n",
            "                                                                  \n",
            "                                                                  \n",
            "                                                                  \n"
          ],
          "name": "stdout"
        },
        {
          "output_type": "display_data",
          "data": {
            "image/png": "[encoded data removed]",
            "text/plain": [
              "<Figure size 432x288 with 1 Axes>"
            ]
          },
          "metadata": {
            "tags": [],
            "needs_background": "light"
          }
        },
        {
          "output_type": "stream",
          "text": [
            "cricoP  108.44975730629042   [bara]   cricoT  262.31952734873397  °C\n",
            "                          total         gas         oil                     \n",
            "           nitrogen  1.19365E-2  1.20845E-2  4.50218E-4      [mole fraction]\n",
            "                CO2  1.18164E-2  1.18958E-2  5.65403E-3      [mole fraction]\n",
            "            methane  8.38024E-1  8.47315E-1  1.17048E-1      [mole fraction]\n",
            "             ethane  7.52426E-2  7.52114E-2   7.7669E-2      [mole fraction]\n",
            "            propane  3.82377E-2   3.6664E-2  1.60359E-1      [mole fraction]\n",
            "           i-butane  5.27226E-3   4.6361E-3  5.46376E-2      [mole fraction]\n",
            "           n-butane  1.04593E-2   8.5728E-3  1.56847E-1      [mole fraction]\n",
            "          22-dim-C3    3.427E-5  2.64064E-5  6.44478E-4      [mole fraction]\n",
            "          i-pentane  2.37201E-3  1.44971E-3  7.39417E-2      [mole fraction]\n",
            "          n-pentane  2.69206E-3  1.41775E-3  1.01578E-1      [mole fraction]\n",
            "               c-C5     1.65E-4  6.92501E-5  7.59512E-3      [mole fraction]\n",
            "          22-dim-C4    3.981E-5   1.6204E-5  1.87162E-3      [mole fraction]\n",
            "          23-dim-C4    6.793E-5  2.20532E-5  3.62793E-3      [mole fraction]\n",
            "             2-m-C5   5.2717E-4  1.57006E-4  2.92516E-2      [mole fraction]\n",
            "             3-m-C5   2.6874E-4  7.25046E-5  1.54965E-2      [mole fraction]\n",
            "           n-hexane   7.6107E-4  1.68417E-4  4.67505E-2      [mole fraction]\n",
            "           c-hexane    7.131E-4  1.23852E-4  4.64383E-2      [mole fraction]\n",
            "            benzene   1.8542E-4   3.7912E-5  1.16319E-2      [mole fraction]\n",
            "          n-heptane     4.93E-4  3.50841E-5  3.60269E-2      [mole fraction]\n",
            "            toluene   1.1154E-4  6.21493E-6  8.28468E-3      [mole fraction]\n",
            "               c-C7   3.4016E-4  1.41835E-5  2.56357E-2      [mole fraction]\n",
            "           n-octane   1.1852E-4  2.39908E-6  9.12941E-3      [mole fraction]\n",
            "           m-Xylene    3.668E-5   5.0664E-7   2.8437E-3      [mole fraction]\n",
            "               c-C8    4.812E-5  4.55224E-7  3.74687E-3      [mole fraction]\n",
            "           n-nonane    3.253E-5  1.91245E-7  2.54199E-3      [mole fraction]\n",
            "               nC10      3.8E-6  5.98271E-9  2.98213E-4      [mole fraction]\n",
            "                                                                            \n",
            "            Density               2.02923E1   6.35496E2             [kg/m^3]\n",
            "      PhaseFraction              9.87277E-1  1.27228E-2      [mole fraction]\n",
            "          MolarMass   1.98799E1   1.93722E1   5.92815E1            [kg/kmol]\n",
            "           Z factor              9.17397E-1  9.80505E-2                  [-]\n",
            " Heat Capacity (Cp)               2.17247E0   2.12155E0            [kJ/kg*K]\n",
            " Heat Capacity (Cv)               1.54335E0   1.65408E0            [kJ/kg*K]\n",
            "     Speed of Sound               3.65448E2   8.83142E2              [m/sec]\n",
            "           Enthalpy  -6.44121E1  -5.10039E1  -4.04418E2              [kJ/kg]\n",
            "            Entropy  -1.17611E0  -1.17784E0  -1.13246E0            [kJ/kg*K]\n",
            "     JT coefficient               7.2892E-1  -4.4693E-2              [K/bar]\n",
            "                                                                            \n",
            "          Viscosity               1.0417E-5  2.53485E-4           [kg/m*sec]\n",
            "       Conductivity              3.00397E-2  1.14251E-1              [W/m*K]\n",
            "     SurfaceTension              1.46885E-2  1.46885E-2                [N/m]\n",
            "                                                                            \n",
            "                                                                            \n",
            "                                                                            \n",
            "           Pressure                    21.0        21.0                [bar]\n",
            "        Temperature                  263.15      263.15                  [K]\n",
            "                                                                            \n",
            "              Model                 SRK-EOS     SRK-EOS                    -\n",
            "        Mixing Rule                 classic     classic                    -\n",
            "                                                                            \n",
            "             Stream                                                        -\n",
            "                                                                            \n",
            "                                                                            \n",
            "                                                                            \n",
            "                                                                            \n",
            "dew point T  24.174744440226448  °C\n"
          ],
          "name": "stdout"
        }
      ]
    },
    {
      "cell_type": "code",
      "metadata": {
        "id": "6FkNDi09DGuZ",
        "outputId": "641d14b7-dada-4cda-d767-4783dca2b0ae",
        "colab": {
          "base_uri": "https://localhost:8080/",
          "height": 34
        }
      },
      "source": [
        "naturalgasFluid.setPressure(61.0, \"bara\")\n",
        "dewPointT =dewt(naturalgasFluid)-273.15\n",
        "print(\"dew point T \", dewPointT, \" °C\")"
      ],
      "execution_count": 5,
      "outputs": [
        {
          "output_type": "stream",
          "text": [
            "dew point T  28.958026178848343  °C\n"
          ],
          "name": "stdout"
        }
      ]
    }
  ]
}