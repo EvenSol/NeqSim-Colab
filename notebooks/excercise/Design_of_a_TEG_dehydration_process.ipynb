{
  "nbformat": 4,
  "nbformat_minor": 0,
  "metadata": {
    "colab": {
      "name": "Design_of_a_TEG_dehydration_process.ipynb",
      "provenance": [],
      "collapsed_sections": [],
      "include_colab_link": true
    },
    "kernelspec": {
      "name": "python3",
      "display_name": "Python 3"
    }
  },
  "cells": [
    {
      "cell_type": "markdown",
      "metadata": {
        "id": "view-in-github",
        "colab_type": "text"
      },
      "source": [
        "<a href=\"https://colab.research.google.com/github/EvenSol/NeqSim-Colab/blob/master/notebooks/excercise/Design_of_a_TEG_dehydration_process.ipynb\" target=\"_parent\"><img src=\"https://colab.research.google.com/assets/colab-badge.svg\" alt=\"Open In Colab\"/></a>"
      ]
    },
    {
      "cell_type": "code",
      "metadata": {
        "id": "KyFtFHwbsZPy",
        "colab_type": "code",
        "colab": {}
      },
      "source": [
        "# Setting up the Colab page to use neqsim\n",
        "%%capture\n",
        "!pip install neqsim==2.5.35\n",
        "import neqsim\n",
        "from neqsim.thermo.thermoTools import *"
      ],
      "execution_count": 0,
      "outputs": []
    },
    {
      "cell_type": "markdown",
      "metadata": {
        "id": "sTe2BSJTxNNA",
        "colab_type": "text"
      },
      "source": [
        "# Estimation of water content of wet gas\n",
        "In this example we will estimate the water content of a gas comming from a separator operating at 70 bara and 40C. The gas will be saturated at the operational conditions. NeqSim will use the CPA-EoS as thermodynamic model.\n",
        "\n"
      ]
    },
    {
      "cell_type": "code",
      "metadata": {
        "id": "xIkl-oZkxkV9",
        "colab_type": "code",
        "outputId": "327adaab-7fe7-402b-bbd7-cb31999c45b4",
        "colab": {
          "base_uri": "https://localhost:8080/",
          "height": 833
        }
      },
      "source": [
        "#Define a fluid composition and select thermodynamic model\n",
        "components = [\"water\", \"methane\", \"ethane\", \"propane\", \"i-butane\", \"n-butane\", \"i-pentane\", \"n-pentane\", \"n-hexane\", \"n-heptane\", \"n-octane\", \"n-nonane\", \"n-decane\"]\n",
        "moleFraction = [5.0, 80.35, 8.03, 5.02, 0.56, 0.9, 0.25, 0.24, 0.5, 0.3, 0.2, 0.1, 0.05] # units are mol/sec, we add some excess water\n",
        "fluid1 = createfluid2(components, moleFraction, \"mol/sec\").autoSelectModel()\n",
        "\n",
        "#Set the temperature and pressure of the fluid\n",
        "fluid1.setPressure(70.0, \"bara\")\n",
        "fluid1.setTemperature(40.0, \"C\")\n",
        "\n",
        "#We run an equilibrium calculation at given temperature and pressure\n",
        "TPflash(fluid1)\n",
        "\n",
        "#Print results\n",
        "print(\"Wet gas composition:\")\n",
        "printFrame(fluid1)\n",
        "print(\"molar mass of gas \",fluid1.getPhase(\"gas\").getMolarMass()*1e3, \" [gr/mol]\")\n",
        "print(\"ppm water in wet gas \",fluid1.getPhase(\"gas\").getComponent(\"water\").getx()*1e6, \" [mol/mol]\")\n",
        "print(\"water content of wet gas \",fluid1.getPhase(\"gas\").getComponent(\"water\").getNumberOfMolesInPhase()*fluid1.getPhase(\"gas\").getComponent(\"water\").getMolarMass()/(fluid1.getPhase(\"gas\").getNumberOfMolesInPhase()*8.314*288.15/101325.0)*1e6, \" kg water/MSm3\")\n",
        "print(\"water dew point temperature of wet gas \", (dewt(fluid1.phaseToSystem(\"gas\"))-273.15), \" [C]\")\n",
        "print(\"hydrate formation temperature of wet gas \", (hydt(fluid1.phaseToSystem(\"gas\"))-273.15), \" [C]\")\n"
      ],
      "execution_count": 6,
      "outputs": [
        {
          "output_type": "stream",
          "text": [
            "Wet gas composition:\n",
            "                          total                   gas                   oil               aqueous                   \n",
            "              water  4.92854E-2            1.29422E-3            7.90183E-4            9.98803E-1    [mole fraction]\n",
            "            methane  7.92016E-1            8.40199E-1            2.50024E-1            1.05624E-3    [mole fraction]\n",
            "             ethane  7.91523E-2            8.31021E-2            8.63588E-2            1.19825E-4    [mole fraction]\n",
            "            propane  4.94825E-2            5.08163E-2            1.34788E-1             1.6564E-5    [mole fraction]\n",
            "           i-butane  5.51996E-3             5.5056E-3            2.66156E-2             1.9301E-6    [mole fraction]\n",
            "           n-butane  8.87137E-3             8.6764E-3            5.49791E-2            1.86435E-6    [mole fraction]\n",
            "          i-pentane  2.46427E-3            2.26608E-3            2.54962E-2            1.21287E-7    [mole fraction]\n",
            "          n-pentane   2.3657E-3            2.09553E-3            3.01474E-2            1.58991E-7    [mole fraction]\n",
            "           n-hexane  4.92854E-3            3.61436E-3            1.16133E-1            1.57198E-7    [mole fraction]\n",
            "          n-heptane  2.95712E-3            1.58466E-3            1.11126E-1             4.1395E-8    [mole fraction]\n",
            "           n-octane  1.97141E-3            6.61732E-4            1.02099E-1              1.341E-8    [mole fraction]\n",
            "           n-nonane  9.85707E-4            1.84427E-4            6.14428E-2            2.95261E-9    [mole fraction]\n",
            "                                                                                                                    \n",
            "            Density                         6.32896E1             5.66776E2             9.91459E2           [kg/m^3]\n",
            "      PhaseFraction                        9.38657E-1            1.32252E-2            4.81177E-2    [mole fraction]\n",
            "          MolarMass   2.04139E1             1.99509E1             6.20101E1              1.8015E1          [kg/kmol]\n",
            "           Z factor                        8.47501E-1            2.94145E-1            4.86579E-2                [-]\n",
            " Heat Capacity (Cp)                         2.73425E0             2.43195E0             3.74711E0          [kJ/kg*K]\n",
            " Heat Capacity (Cv)                         1.75994E0             1.92089E0             3.35307E0          [kJ/kg*K]\n",
            "     Speed of Sound                         3.86332E2              7.0755E2              1.6848E3            [m/sec]\n",
            "           Enthalpy  -1.10452E2            -1.87102E0             -2.7421E2            -2.30128E3            [kJ/kg]\n",
            "            Entropy  -1.59098E0            -1.41663E0           -7.59995E-1            -6.14373E0          [kJ/kg*K]\n",
            "     JT coefficient                        4.51959E-1            -2.6395E-2           -2.09016E-2            [K/bar]\n",
            "                                                                                                                    \n",
            "          Viscosity                        1.34358E-5            1.65348E-4            6.55281E-4         [kg/m*sec]\n",
            "       Conductivity                        4.10688E-2            9.58392E-2            6.34779E-1            [W/m*K]\n",
            "     SurfaceTension                        6.25518E-3            6.25518E-3                                    [N/m]\n",
            "                                                                   4.411E-2              4.411E-2              [N/m]\n",
            "                                            4.6418E-2                                   4.6418E-2              [N/m]\n",
            "                                                                                                                    \n",
            "           Pressure                              70.0                  70.0                  70.0              [bar]\n",
            "        Temperature                            313.15                313.15                313.15                [K]\n",
            "                                                                                                                    \n",
            "              Model              CPAs-SRK-EOS-statoil  CPAs-SRK-EOS-statoil  CPAs-SRK-EOS-statoil                  -\n",
            "        Mixing Rule                     classic-CPA_T         classic-CPA_T         classic-CPA_T                  -\n",
            "                                                                                                                    \n",
            "             Stream                                                                                                -\n",
            "                                                                                                                    \n",
            "                                                                                                                    \n",
            "                                                                                                                    \n",
            "                                                                                                                    \n",
            "molar mass of gas  19.95085293254687  [gr/mol]\n",
            "ppm water in wet gas  1294.2218267576118  [mol/mol]\n",
            "water content of wet gas  986.1226965376178  kg water/MSm3\n",
            "water dew point temperature of wet gas  39.9999999996179  [C]\n",
            "hydrate formation temperature of wet gas  19.54379240047217  [C]\n"
          ],
          "name": "stdout"
        }
      ]
    },
    {
      "cell_type": "markdown",
      "metadata": {
        "id": "eEZH44Dosgky",
        "colab_type": "text"
      },
      "source": [
        "# Estimate equilibrium water content in gas for a lean TEG composition\n",
        "Estimate the lean TEG concentration to reach a specified water dew point at 70 bara in methane. The operational temperature of the absorption column is 40C."
      ]
    },
    {
      "cell_type": "code",
      "metadata": {
        "id": "Xldn7K8Ssf7o",
        "colab_type": "code",
        "outputId": "b3021be5-230f-4d3b-a476-7aa208d8dc24",
        "colab": {
          "base_uri": "https://localhost:8080/",
          "height": 680
        }
      },
      "source": [
        "#Define a fluid composition and select thermodynamic model\n",
        "components = [\"methane\", \"water\", \"TEG\"]\n",
        "moleFraction = [1.0, 1.3, 98.7] #Define the TEG/water wt%, and add some excess methane \n",
        "fluid1 = createfluid2(components, moleFraction, \"kg/sec\").autoSelectModel()\n",
        "\n",
        "#Set the temperature and pressure of the fluid\n",
        "fluid1.setPressure(70.0, \"bara\")\n",
        "fluid1.setTemperature(40.0, \"C\")\n",
        "\n",
        "TPflash(fluid1)\n",
        "\n",
        "#Print results\n",
        "print(\"Dehydrated gas composition:\")\n",
        "printFrame(fluid1)\n",
        "print(\"ppm water in dehydrated gas \",fluid1.getPhase(\"gas\").getComponent(\"water\").getx()*1e6)\n",
        "print(\"water content of dehydrated gas \",fluid1.getPhase(\"gas\").getComponent(\"water\").getNumberOfMolesInPhase()*fluid1.getPhase(\"gas\").getComponent(\"water\").getMolarMass()/(fluid1.getPhase(\"gas\").getNumberOfMolesInPhase()*8.314*288.15/101325.0)*1e6, \" kg water/MSm3\")\n",
        "print(\"water dew point/hydrate formation temperature of dehydrated gas \", (hydt(fluid1.phaseToSystem(\"gas\"))-273.15))\n",
        "print(\"activity coefficient of water in lean TEG \",fluid1.getPhase(\"aqueous\").getActivityCoefficient(1))\n",
        "\n",
        "fluid1.setPressure(200.0, \"bara\")\n",
        "print(\"hydrate formation temperature of dehydrated gas at \",fluid1.getPressure(),\" bara \" , (hydt(fluid1.phaseToSystem(\"gas\"))-273.15), \" [C]\")"
      ],
      "execution_count": 7,
      "outputs": [
        {
          "output_type": "stream",
          "text": [
            "Dehydrated gas composition:\n",
            "                           total                   gas               aqueous                     \n",
            "            methane   7.87297E-2            9.99918E-1            2.55355E-2      [mole fraction]\n",
            "              water   9.11451E-2            8.13436E-5            9.64036E-2      [mole fraction]\n",
            "                TEG   8.30125E-1             2.0113E-7            8.78061E-1      [mole fraction]\n",
            "                                                                                                 \n",
            "            Density                          4.70154E1             1.09883E3             [kg/m^3]\n",
            "      PhaseFraction                         5.45927E-2            9.45407E-1      [mole fraction]\n",
            "          MolarMass    1.27569E2             1.60432E1             1.34009E2            [kg/kmol]\n",
            "           Z factor                         9.17406E-1            3.43589E-1                  [-]\n",
            " Heat Capacity (Cp)                          2.72364E0             2.28034E0            [kJ/kg*K]\n",
            " Heat Capacity (Cv)                          1.81253E0             2.14996E0            [kJ/kg*K]\n",
            "     Speed of Sound                          4.57524E2             1.78509E3              [m/sec]\n",
            "           Enthalpy   -5.35465E2             2.27261E1            -5.39324E2              [kJ/kg]\n",
            "            Entropy  -9.94965E-1            -2.05521E0           -9.87636E-1            [kJ/kg*K]\n",
            "     JT coefficient                         3.36686E-1           -3.69458E-2              [K/bar]\n",
            "                                                                                                 \n",
            "          Viscosity                          1.3162E-5             1.8936E-2           [kg/m*sec]\n",
            "       Conductivity                          4.4095E-2            2.27257E-1              [W/m*K]\n",
            "     SurfaceTension                         3.04159E-2            3.04159E-2                [N/m]\n",
            "                                                                                                 \n",
            "                                                                                                 \n",
            "                                                                                                 \n",
            "           Pressure                               70.0                  70.0                [bar]\n",
            "        Temperature                             313.15                313.15                  [K]\n",
            "                                                                                                 \n",
            "              Model               CPAs-SRK-EOS-statoil  CPAs-SRK-EOS-statoil                    -\n",
            "        Mixing Rule                     classic-CPA_Tx        classic-CPA_Tx                    -\n",
            "                                                                                                 \n",
            "             Stream                                                                             -\n",
            "                                                                                                 \n",
            "                                                                                                 \n",
            "                                                                                                 \n",
            "                                                                                                 \n",
            "ppm water in dehydrated gas  81.34357518426162\n",
            "water content of dehydrated gas  61.97913220771045  kg water/MSm3\n",
            "water dew point/hydrate formation temperature of dehydrated gas  -4.217717956748402\n",
            "activity coefficient of water in lean TEG  0.6591768004118456\n",
            "hydrate formation temperature of dehydrated gas at  200.0  bara  2.229236534666427  [C]\n"
          ],
          "name": "stdout"
        }
      ]
    },
    {
      "cell_type": "markdown",
      "metadata": {
        "colab_type": "text",
        "id": "vlMzPkkv7qTL"
      },
      "source": [
        "# Example 18.3 from Campbell\n",
        "\n",
        "Calculate the circulation rate of 98.7 wt% of lean TEG needed to dry 1 MSm3/day of gas at 70 bara and $40 ^{\\circ}C$ in a six tray absorber (1.5 theoretical stages) to achieve a water content of 117 kg/MSm3. The inlet gas is saturated with water (1100 kg water/MSm3)."
      ]
    },
    {
      "cell_type": "markdown",
      "metadata": {
        "colab_type": "text",
        "id": "4ufokqVX7qTM"
      },
      "source": [
        "## Calculate the circulation rate using the equiations from Campbell book\n",
        "\n",
        "The following equiations will be used in the calculations:\n",
        "\n",
        "$E_a=\\frac{W_{N+1}-W_1}{W_{N+1}-W_0} = \\frac{A^{N+1}-A}{A^{N+1}-1}$ (18.2) \n",
        "\n",
        "Where $W_N+1$ is the water content in (kg water/MSm3) in the feed gas (1100 kg/MSm3). $W_1$ is the water content in the dehydrated gas (117 kg/MSm3). A is the absorption factor calculates as A=L/VK. Where V and L is gas and liquid flow rate in mol/hr. K is the equilibrium constant.\n",
        "\n",
        "$W_0$ is given by raults law and is calculated from: \n",
        "\n",
        "$W_0=W\\cdot \\gamma_{water} \\cdot x_{water} $ (18.4)\n",
        "\n",
        "Where $\\gamma_{water}$ is the activity coefficient of water in lean TEG, and $x_{water}$ is the mol fraction of water in the lean TEG. From figure 18.7 we read at $40 ^{\\circ}C$ and 98.7 wt% TEG: $\\gamma_{water}=0.66$\n",
        "\n",
        "$x_{water}=\\frac{\\frac{100-X_{gl}}{18}}{\\frac{100-X_{gl}}{18}+\\frac{X_gl}{150}}$\n",
        "\n",
        "The equilibrium constant for water is calculated from:\n",
        "\n",
        "$K_{water}=\\frac{y_{water}}{x_{water}}=\\gamma \\cdot \\frac{P_{sat_water}}{P} = \\gamma_{water} \\cdot W_{sat}/B$\n",
        "\n",
        "Where B is kg gas/MSm3 and is  calculated assuming a molar mass of about 20.0 gr/mol of gas.\n",
        "\n",
        "$B=\\frac{n}{V} \\cdot M = \\frac{P}{RT} \\cdot M = \\frac{101325}{8.314*288.15} \\cdot 20.0 = 761000 \\frac{kg}{MSm^3}$\n"
      ]
    },
    {
      "cell_type": "code",
      "metadata": {
        "colab_type": "code",
        "outputId": "7cbe6104-2022-49ba-ce33-cf68fffe0750",
        "id": "RGFD9p727qTM",
        "colab": {
          "base_uri": "https://localhost:8080/",
          "height": 238
        }
      },
      "source": [
        "GasFlowRate = 1.0 # MSm3/day\n",
        "WNp1 = 1100.0 # kg water/MSm^3 (saturated at inlet)\n",
        "W1 = 117.0 # kg water/MSm3\n",
        "Np1 = 1.5 # Number of equilibrium stages\n",
        "wtLeanTEG = 98.7\n",
        "print(\"Number of equilibrium stages \",Np1)\n",
        "x0 = (100.0-wtLeanTEG)/18.0/((100.0-wtLeanTEG)/18.0+wtLeanTEG/150.0) # mole fraction water in lean TEG\n",
        "print(\"x0 \" , x0, \" [mol water/mol tot]\")\n",
        "\n",
        "gamma = 0.66 #activity coefficient of water in lean TEG\n",
        "\n",
        "W0 = WNp1*gamma*x0 #water content in equilibrium with lean TEG\n",
        "print(\"W0 \" , W0,\" kg/MSm3\")\n",
        "\n",
        "Ea = (WNp1-W1)/(WNp1-W0) #absorption efficiency calulated from relative water removal from gas\n",
        "print(\"Ea \" , Ea,\" -\")\n",
        "\n",
        "## setting up a function to solve A \n",
        "def func(A):\n",
        "        return (pow(A,Np1+1.0)-A)/(pow(A,Np1+1.0)-1.0)-Ea\n",
        "\n",
        "from scipy.optimize import fsolve\n",
        "solveA = fsolve(func, 0.1) # solve absorption factor using 0.1 as initial guess\n",
        "A = solveA[0]\n",
        "print('A ', A)\n",
        "Ea2 = (pow(A,Np1+1.0)-A)/(pow(A,Np1+1.0)-1.0)\n",
        "print(\"Ea2 \" , Ea2,\" - \", \" (should be same as Ea if solved correctly)\")\n",
        "\n",
        "VSm3hr = GasFlowRate*1e6/24.0 # MSm3/hr\n",
        "molperm3 = 101325.0/8.314/288.15  #mol/Sm3\n",
        "Vmolhr = VSm3hr*molperm3/1000.0 # mol/hr\n",
        "print(\"V_mol/hr \" , Vmolhr,\" kmol/hr\")\n",
        "\n",
        "B = 101325/(8.314*(273.15+40.0))*1e6 * 19.95/1000.0 #calculate B assuming molar mass of gas of 19.95 gr/mol\n",
        "# in this case we use B from book\n",
        "B = 761000.0\n",
        "\n",
        "K = WNp1*gamma/B # Calculating equilibrium constant\n",
        "print(\"K equilibrium constant water \" , K,\" [-]\")\n",
        "Lmolhr =  A*Vmolhr*K\n",
        "print(\"TEG mol/hr \" , Lmolhr,\" kmol/hr\")\n",
        "\n",
        "molecularW = (1.0-x0)*150.0 + x0*18.0\n",
        "print(\"molecularW\" , molecularW,\" gr/mol\")\n",
        "massRateTEG = molecularW * Lmolhr\n",
        "print(\"mass rate glycol \" , massRateTEG,\" kg TEG/hr\")\n",
        "\n",
        "densityTEG = 1.12 #kg/liter\n",
        "\n",
        "\n",
        "absRateWater = (WNp1-W1)/24.0\n",
        "print(\"absorption rate water \" , absRateWater,\" kg water/hr\")\n",
        "\n",
        "circRatio = massRateTEG/densityTEG/absRateWater\n",
        "print(\"circulation ratio TEG/water \" , circRatio,\" liter TEG/kg water\")\n"
      ],
      "execution_count": 8,
      "outputs": [
        {
          "output_type": "stream",
          "text": [
            "Number of equilibrium stages  1.5\n",
            "x0  0.09890444309190485  [mol water/mol tot]\n",
            "W0  71.80462568472292  kg/MSm3\n",
            "Ea  0.9560439820638419  -\n",
            "A  7.312899327464227\n",
            "Ea2  0.9560439820638403  -   (should be same as Ea if solved correctly)\n",
            "V_mol/hr  1762.2873614416887  kmol/hr\n",
            "K equilibrium constant water  0.0009540078843626807  [-]\n",
            "TEG mol/hr  12.294709886685112  kmol/hr\n",
            "molecularW 136.94461351186857  gr/mol\n",
            "mass rate glycol  1683.694293672642  kg TEG/hr\n",
            "absorption rate water  40.958333333333336  kg water/hr\n",
            "circulation ratio TEG/water  36.703116414895554  liter TEG/kg water\n"
          ],
          "name": "stdout"
        }
      ]
    }
  ]
}