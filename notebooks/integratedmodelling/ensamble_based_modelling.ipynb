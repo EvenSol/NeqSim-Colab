{
  "nbformat": 4,
  "nbformat_minor": 0,
  "metadata": {
    "colab": {
      "provenance": [],
      "authorship_tag": "ABX9TyOht3tHlAqkcYlisM/1b5iG",
      "include_colab_link": true
    },
    "kernelspec": {
      "name": "python3",
      "display_name": "Python 3"
    },
    "language_info": {
      "name": "python"
    }
  },
  "cells": [
    {
      "cell_type": "markdown",
      "metadata": {
        "id": "view-in-github",
        "colab_type": "text"
      },
      "source": [
        "<a href=\"https://colab.research.google.com/github/EvenSol/NeqSim-Colab/blob/master/notebooks/integratedmodelling/ensamble_based_modelling.ipynb\" target=\"_parent\"><img src=\"https://colab.research.google.com/assets/colab-badge.svg\" alt=\"Open In Colab\"/></a>"
      ]
    },
    {
      "cell_type": "code",
      "execution_count": 1,
      "metadata": {
        "colab": {
          "base_uri": "https://localhost:8080/"
        },
        "id": "GR6YM2UjOAL7",
        "outputId": "890512ce-fc13-48c1-ad8b-3ba30b4935c0"
      },
      "outputs": [
        {
          "output_type": "stream",
          "name": "stdout",
          "text": [
            "Requirement already satisfied: neqsim in /usr/local/lib/python3.10/dist-packages (3.0.6)\n",
            "Requirement already satisfied: JPype1<2.0.0,>=1.5.0 in /usr/local/lib/python3.10/dist-packages (from neqsim) (1.5.1)\n",
            "Requirement already satisfied: numpy<2.0.0,>=1.25.2 in /usr/local/lib/python3.10/dist-packages (from neqsim) (1.26.4)\n",
            "Requirement already satisfied: pandas<3.0.0,>=2.0.3 in /usr/local/lib/python3.10/dist-packages (from neqsim) (2.2.2)\n",
            "Requirement already satisfied: packaging in /usr/local/lib/python3.10/dist-packages (from JPype1<2.0.0,>=1.5.0->neqsim) (24.2)\n",
            "Requirement already satisfied: python-dateutil>=2.8.2 in /usr/local/lib/python3.10/dist-packages (from pandas<3.0.0,>=2.0.3->neqsim) (2.8.2)\n",
            "Requirement already satisfied: pytz>=2020.1 in /usr/local/lib/python3.10/dist-packages (from pandas<3.0.0,>=2.0.3->neqsim) (2024.2)\n",
            "Requirement already satisfied: tzdata>=2022.7 in /usr/local/lib/python3.10/dist-packages (from pandas<3.0.0,>=2.0.3->neqsim) (2024.2)\n",
            "Requirement already satisfied: six>=1.5 in /usr/local/lib/python3.10/dist-packages (from python-dateutil>=2.8.2->pandas<3.0.0,>=2.0.3->neqsim) (1.16.0)\n"
          ]
        }
      ],
      "source": [
        "!pip install neqsim"
      ]
    },
    {
      "cell_type": "markdown",
      "source": [
        "# The ERT framework\n",
        "\n",
        "https://github.com/equinor/ert\n",
        "\n"
      ],
      "metadata": {
        "id": "wLLK5neiOGiL"
      }
    },
    {
      "cell_type": "code",
      "source": [
        "!pip install ert\n",
        "!ert --help"
      ],
      "metadata": {
        "colab": {
          "base_uri": "https://localhost:8080/"
        },
        "id": "86Ta_P8hOOqH",
        "outputId": "2e459969-ce08-4c3e-f076-75cbda963802"
      },
      "execution_count": 2,
      "outputs": [
        {
          "output_type": "stream",
          "name": "stdout",
          "text": [
            "Requirement already satisfied: ert in /usr/local/lib/python3.10/dist-packages (11.1.4)\n",
            "Requirement already satisfied: aiohttp in /usr/local/lib/python3.10/dist-packages (from ert) (3.11.2)\n",
            "Requirement already satisfied: backports-datetime_fromisoformat in /usr/local/lib/python3.10/dist-packages (from ert) (2.0.2)\n",
            "Requirement already satisfied: cryptography in /usr/local/lib/python3.10/dist-packages (from ert) (43.0.3)\n",
            "Requirement already satisfied: dask in /usr/local/lib/python3.10/dist-packages (from ert) (2024.10.0)\n",
            "Requirement already satisfied: deprecation in /usr/local/lib/python3.10/dist-packages (from ert) (2.1.0)\n",
            "Requirement already satisfied: dnspython>=2 in /usr/local/lib/python3.10/dist-packages (from ert) (2.7.0)\n",
            "Requirement already satisfied: fastapi in /usr/local/lib/python3.10/dist-packages (from ert) (0.115.5)\n",
            "Requirement already satisfied: filelock in /usr/local/lib/python3.10/dist-packages (from ert) (3.16.1)\n",
            "Requirement already satisfied: httpx in /usr/local/lib/python3.10/dist-packages (from ert) (0.27.2)\n",
            "Requirement already satisfied: humanize in /usr/local/lib/python3.10/dist-packages (from ert) (4.11.0)\n",
            "Requirement already satisfied: iterative_ensemble_smoother>=0.2.6 in /usr/local/lib/python3.10/dist-packages (from ert) (0.2.7)\n",
            "Requirement already satisfied: jinja2>=2.10 in /usr/local/lib/python3.10/dist-packages (from ert) (3.1.4)\n",
            "Requirement already satisfied: lark in /usr/local/lib/python3.10/dist-packages (from ert) (1.2.2)\n",
            "Requirement already satisfied: lxml in /usr/local/lib/python3.10/dist-packages (from ert) (5.3.0)\n",
            "Requirement already satisfied: matplotlib in /usr/local/lib/python3.10/dist-packages (from ert) (3.8.0)\n",
            "Requirement already satisfied: netCDF4 in /usr/local/lib/python3.10/dist-packages (from ert) (1.7.2)\n",
            "Requirement already satisfied: numpy<2 in /usr/local/lib/python3.10/dist-packages (from ert) (1.26.4)\n",
            "Requirement already satisfied: openpyxl in /usr/local/lib/python3.10/dist-packages (from ert) (3.1.5)\n",
            "Requirement already satisfied: opentelemetry-api in /usr/local/lib/python3.10/dist-packages (from ert) (1.28.2)\n",
            "Requirement already satisfied: opentelemetry-sdk in /usr/local/lib/python3.10/dist-packages (from ert) (1.28.2)\n",
            "Requirement already satisfied: opentelemetry-instrumentation-threading in /usr/local/lib/python3.10/dist-packages (from ert) (0.49b2)\n",
            "Requirement already satisfied: orjson in /usr/local/lib/python3.10/dist-packages (from ert) (3.10.11)\n",
            "Requirement already satisfied: packaging in /usr/local/lib/python3.10/dist-packages (from ert) (24.2)\n",
            "Requirement already satisfied: pandas in /usr/local/lib/python3.10/dist-packages (from ert) (2.2.2)\n",
            "Requirement already satisfied: pluggy>=1.3.0 in /usr/local/lib/python3.10/dist-packages (from ert) (1.5.0)\n",
            "Requirement already satisfied: polars in /usr/local/lib/python3.10/dist-packages (from ert) (1.9.0)\n",
            "Requirement already satisfied: psutil in /usr/local/lib/python3.10/dist-packages (from ert) (5.9.5)\n",
            "Requirement already satisfied: pyarrow in /usr/local/lib/python3.10/dist-packages (from ert) (17.0.0)\n",
            "Requirement already satisfied: pydantic<2.10,>2 in /usr/local/lib/python3.10/dist-packages (from ert) (2.9.2)\n",
            "Requirement already satisfied: PyQt5 in /usr/local/lib/python3.10/dist-packages (from ert) (5.15.11)\n",
            "Requirement already satisfied: python-dateutil in /usr/local/lib/python3.10/dist-packages (from ert) (2.8.2)\n",
            "Requirement already satisfied: python-multipart in /usr/local/lib/python3.10/dist-packages (from ert) (0.0.17)\n",
            "Requirement already satisfied: pyyaml in /usr/local/lib/python3.10/dist-packages (from ert) (6.0.2)\n",
            "Requirement already satisfied: qtpy in /usr/local/lib/python3.10/dist-packages (from ert) (2.4.2)\n",
            "Requirement already satisfied: requests in /usr/local/lib/python3.10/dist-packages (from ert) (2.32.3)\n",
            "Requirement already satisfied: resfo in /usr/local/lib/python3.10/dist-packages (from ert) (4.2.0)\n",
            "Requirement already satisfied: scipy>=1.10.1 in /usr/local/lib/python3.10/dist-packages (from ert) (1.13.1)\n",
            "Requirement already satisfied: seaborn in /usr/local/lib/python3.10/dist-packages (from ert) (0.13.2)\n",
            "Requirement already satisfied: tables in /usr/local/lib/python3.10/dist-packages (from ert) (3.10.1)\n",
            "Requirement already satisfied: tabulate in /usr/local/lib/python3.10/dist-packages (from ert) (0.9.0)\n",
            "Requirement already satisfied: tqdm>=4.62.0 in /usr/local/lib/python3.10/dist-packages (from ert) (4.66.6)\n",
            "Requirement already satisfied: typing_extensions>=4.5 in /usr/local/lib/python3.10/dist-packages (from ert) (4.12.2)\n",
            "Requirement already satisfied: uvicorn>=0.17.0 in /usr/local/lib/python3.10/dist-packages (from ert) (0.32.1)\n",
            "Requirement already satisfied: websockets<14 in /usr/local/lib/python3.10/dist-packages (from ert) (13.1)\n",
            "Requirement already satisfied: xarray in /usr/local/lib/python3.10/dist-packages (from ert) (2024.10.0)\n",
            "Requirement already satisfied: xtgeo>=3.3.0 in /usr/local/lib/python3.10/dist-packages (from ert) (4.3.2)\n",
            "Requirement already satisfied: MarkupSafe>=2.0 in /usr/local/lib/python3.10/dist-packages (from jinja2>=2.10->ert) (3.0.2)\n",
            "Requirement already satisfied: annotated-types>=0.6.0 in /usr/local/lib/python3.10/dist-packages (from pydantic<2.10,>2->ert) (0.7.0)\n",
            "Requirement already satisfied: pydantic-core==2.23.4 in /usr/local/lib/python3.10/dist-packages (from pydantic<2.10,>2->ert) (2.23.4)\n",
            "Requirement already satisfied: click>=7.0 in /usr/local/lib/python3.10/dist-packages (from uvicorn>=0.17.0->ert) (8.1.7)\n",
            "Requirement already satisfied: h11>=0.8 in /usr/local/lib/python3.10/dist-packages (from uvicorn>=0.17.0->ert) (0.14.0)\n",
            "Requirement already satisfied: h5py>=3 in /usr/local/lib/python3.10/dist-packages (from xtgeo>=3.3.0->ert) (3.12.1)\n",
            "Requirement already satisfied: hdf5plugin>=2.3 in /usr/local/lib/python3.10/dist-packages (from xtgeo>=3.3.0->ert) (5.0.0)\n",
            "Requirement already satisfied: joblib in /usr/local/lib/python3.10/dist-packages (from xtgeo>=3.3.0->ert) (1.4.2)\n",
            "Requirement already satisfied: roffio>=0.0.2 in /usr/local/lib/python3.10/dist-packages (from xtgeo>=3.3.0->ert) (1.1.0)\n",
            "Requirement already satisfied: segyio>1.8.0 in /usr/local/lib/python3.10/dist-packages (from xtgeo>=3.3.0->ert) (1.9.12)\n",
            "Requirement already satisfied: shapely>=1.6.2 in /usr/local/lib/python3.10/dist-packages (from xtgeo>=3.3.0->ert) (2.0.6)\n",
            "Requirement already satisfied: xtgeoviz in /usr/local/lib/python3.10/dist-packages (from xtgeo>=3.3.0->ert) (0.1.3)\n",
            "Requirement already satisfied: contourpy>=1.0.1 in /usr/local/lib/python3.10/dist-packages (from matplotlib->ert) (1.3.1)\n",
            "Requirement already satisfied: cycler>=0.10 in /usr/local/lib/python3.10/dist-packages (from matplotlib->ert) (0.12.1)\n",
            "Requirement already satisfied: fonttools>=4.22.0 in /usr/local/lib/python3.10/dist-packages (from matplotlib->ert) (4.55.0)\n",
            "Requirement already satisfied: kiwisolver>=1.0.1 in /usr/local/lib/python3.10/dist-packages (from matplotlib->ert) (1.4.7)\n",
            "Requirement already satisfied: pillow>=6.2.0 in /usr/local/lib/python3.10/dist-packages (from matplotlib->ert) (11.0.0)\n",
            "Requirement already satisfied: pyparsing>=2.3.1 in /usr/local/lib/python3.10/dist-packages (from matplotlib->ert) (3.2.0)\n",
            "Requirement already satisfied: pytz>=2020.1 in /usr/local/lib/python3.10/dist-packages (from pandas->ert) (2024.2)\n",
            "Requirement already satisfied: tzdata>=2022.7 in /usr/local/lib/python3.10/dist-packages (from pandas->ert) (2024.2)\n",
            "Requirement already satisfied: six>=1.5 in /usr/local/lib/python3.10/dist-packages (from python-dateutil->ert) (1.16.0)\n",
            "Requirement already satisfied: aiohappyeyeballs>=2.3.0 in /usr/local/lib/python3.10/dist-packages (from aiohttp->ert) (2.4.3)\n",
            "Requirement already satisfied: aiosignal>=1.1.2 in /usr/local/lib/python3.10/dist-packages (from aiohttp->ert) (1.3.1)\n",
            "Requirement already satisfied: attrs>=17.3.0 in /usr/local/lib/python3.10/dist-packages (from aiohttp->ert) (24.2.0)\n",
            "Requirement already satisfied: frozenlist>=1.1.1 in /usr/local/lib/python3.10/dist-packages (from aiohttp->ert) (1.5.0)\n",
            "Requirement already satisfied: multidict<7.0,>=4.5 in /usr/local/lib/python3.10/dist-packages (from aiohttp->ert) (6.1.0)\n",
            "Requirement already satisfied: propcache>=0.2.0 in /usr/local/lib/python3.10/dist-packages (from aiohttp->ert) (0.2.0)\n",
            "Requirement already satisfied: yarl<2.0,>=1.17.0 in /usr/local/lib/python3.10/dist-packages (from aiohttp->ert) (1.17.2)\n",
            "Requirement already satisfied: async-timeout<6.0,>=4.0 in /usr/local/lib/python3.10/dist-packages (from aiohttp->ert) (4.0.3)\n",
            "Requirement already satisfied: cffi>=1.12 in /usr/local/lib/python3.10/dist-packages (from cryptography->ert) (1.17.1)\n",
            "Requirement already satisfied: cloudpickle>=3.0.0 in /usr/local/lib/python3.10/dist-packages (from dask->ert) (3.1.0)\n",
            "Requirement already satisfied: fsspec>=2021.09.0 in /usr/local/lib/python3.10/dist-packages (from dask->ert) (2024.10.0)\n",
            "Requirement already satisfied: partd>=1.4.0 in /usr/local/lib/python3.10/dist-packages (from dask->ert) (1.4.2)\n",
            "Requirement already satisfied: toolz>=0.10.0 in /usr/local/lib/python3.10/dist-packages (from dask->ert) (0.12.1)\n",
            "Requirement already satisfied: importlib-metadata>=4.13.0 in /usr/local/lib/python3.10/dist-packages (from dask->ert) (8.5.0)\n",
            "Requirement already satisfied: starlette<0.42.0,>=0.40.0 in /usr/local/lib/python3.10/dist-packages (from fastapi->ert) (0.41.3)\n",
            "Requirement already satisfied: anyio in /usr/local/lib/python3.10/dist-packages (from httpx->ert) (3.7.1)\n",
            "Requirement already satisfied: certifi in /usr/local/lib/python3.10/dist-packages (from httpx->ert) (2024.8.30)\n",
            "Requirement already satisfied: httpcore==1.* in /usr/local/lib/python3.10/dist-packages (from httpx->ert) (1.0.7)\n",
            "Requirement already satisfied: idna in /usr/local/lib/python3.10/dist-packages (from httpx->ert) (3.10)\n",
            "Requirement already satisfied: sniffio in /usr/local/lib/python3.10/dist-packages (from httpx->ert) (1.3.1)\n",
            "Requirement already satisfied: cftime in /usr/local/lib/python3.10/dist-packages (from netCDF4->ert) (1.6.4.post1)\n",
            "Requirement already satisfied: et-xmlfile in /usr/local/lib/python3.10/dist-packages (from openpyxl->ert) (2.0.0)\n",
            "Requirement already satisfied: deprecated>=1.2.6 in /usr/local/lib/python3.10/dist-packages (from opentelemetry-api->ert) (1.2.15)\n",
            "Requirement already satisfied: opentelemetry-instrumentation==0.49b2 in /usr/local/lib/python3.10/dist-packages (from opentelemetry-instrumentation-threading->ert) (0.49b2)\n",
            "Requirement already satisfied: wrapt<2.0.0,>=1.0.0 in /usr/local/lib/python3.10/dist-packages (from opentelemetry-instrumentation-threading->ert) (1.16.0)\n",
            "Requirement already satisfied: opentelemetry-semantic-conventions==0.49b2 in /usr/local/lib/python3.10/dist-packages (from opentelemetry-instrumentation==0.49b2->opentelemetry-instrumentation-threading->ert) (0.49b2)\n",
            "Requirement already satisfied: PyQt5-sip<13,>=12.15 in /usr/local/lib/python3.10/dist-packages (from PyQt5->ert) (12.15.0)\n",
            "Requirement already satisfied: PyQt5-Qt5<5.16.0,>=5.15.2 in /usr/local/lib/python3.10/dist-packages (from PyQt5->ert) (5.15.15)\n",
            "Requirement already satisfied: charset-normalizer<4,>=2 in /usr/local/lib/python3.10/dist-packages (from requests->ert) (3.4.0)\n",
            "Requirement already satisfied: urllib3<3,>=1.21.1 in /usr/local/lib/python3.10/dist-packages (from requests->ert) (2.2.3)\n",
            "Requirement already satisfied: numexpr>=2.6.2 in /usr/local/lib/python3.10/dist-packages (from tables->ert) (2.10.1)\n",
            "Requirement already satisfied: py-cpuinfo in /usr/local/lib/python3.10/dist-packages (from tables->ert) (9.0.0)\n",
            "Requirement already satisfied: blosc2>=2.3.0 in /usr/local/lib/python3.10/dist-packages (from tables->ert) (2.7.1)\n",
            "Requirement already satisfied: ndindex>=1.4 in /usr/local/lib/python3.10/dist-packages (from blosc2>=2.3.0->tables->ert) (1.9.2)\n",
            "Requirement already satisfied: msgpack in /usr/local/lib/python3.10/dist-packages (from blosc2>=2.3.0->tables->ert) (1.1.0)\n",
            "Requirement already satisfied: pycparser in /usr/local/lib/python3.10/dist-packages (from cffi>=1.12->cryptography->ert) (2.22)\n",
            "Requirement already satisfied: zipp>=3.20 in /usr/local/lib/python3.10/dist-packages (from importlib-metadata>=4.13.0->dask->ert) (3.21.0)\n",
            "Requirement already satisfied: locket in /usr/local/lib/python3.10/dist-packages (from partd>=1.4.0->dask->ert) (1.0.0)\n",
            "Requirement already satisfied: exceptiongroup in /usr/local/lib/python3.10/dist-packages (from anyio->httpx->ert) (1.2.2)\n",
            "usage: ert [-h] [--version] [--logdir LOGDIR] [--read-only]\n",
            "           {gui,lint,api,vis,test_run,ensemble_experiment,ensemble_smoother,iterative_ensemble_smoother,es_mda,workflow}\n",
            "           ...\n",
            "\n",
            "ERT - Ensemble Reservoir Tool\n",
            "\n",
            "options:\n",
            "  -h, --help            show this help message and exit\n",
            "  --version             show program's version number and exit\n",
            "  --logdir LOGDIR       Directory where ERT will store the logs. Default is ./logs\n",
            "  --read-only           Start ERT in read-only mode\n",
            "\n",
            "Available user entries:\n",
            "  ERT can be accessed through a GUI or CLI interface. Include one of the following arguments to\n",
            "  change between the interfaces. Note that different sub commands may require different\n",
            "  additional arguments. See the help section for each sub command for more details.\n",
            "\n",
            "  {gui,lint,api,vis,test_run,ensemble_experiment,ensemble_smoother,iterative_ensemble_smoother,es_mda,workflow}\n",
            "                        Available sub commands\n",
            "    test_run            Run 'test_run' in cli\n",
            "    ensemble_experiment\n",
            "                        Run experiments in cli without performing any updates on the parameters.\n",
            "    ensemble_smoother   Run experiments in cli while performing one update on the parameters by\n",
            "                        using the ensemble smoother algorithm.\n",
            "    iterative_ensemble_smoother\n",
            "                        Run experiments in cli while performing updates on the parameters using\n",
            "                        the iterative ensemble smoother algorithm.\n",
            "    es_mda              Run 'es_mda' in cli\n",
            "    workflow            Executes the workflow given\n"
          ]
        }
      ]
    }
  ]
}