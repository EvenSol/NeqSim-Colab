{
  "nbformat": 4,
  "nbformat_minor": 0,
  "metadata": {
    "colab": {
      "provenance": [],
      "authorship_tag": "ABX9TyNVqpoc2c3sJ8NP3k/K2nnX",
      "include_colab_link": true
    },
    "kernelspec": {
      "name": "python3",
      "display_name": "Python 3"
    },
    "language_info": {
      "name": "python"
    }
  },
  "cells": [
    {
      "cell_type": "markdown",
      "metadata": {
        "id": "view-in-github",
        "colab_type": "text"
      },
      "source": [
        "<a href=\"https://colab.research.google.com/github/EvenSol/NeqSim-Colab/blob/master/notebooks/bioprocesses/bioandneqsim.ipynb\" target=\"_parent\"><img src=\"https://colab.research.google.com/assets/colab-badge.svg\" alt=\"Open In Colab\"/></a>"
      ]
    },
    {
      "cell_type": "code",
      "execution_count": null,
      "metadata": {
        "id": "7ENiOlgNHX3t"
      },
      "outputs": [],
      "source": [
        "%%capture\n",
        "!pip install biosteam\n",
        "!pip install neqsim"
      ]
    },
    {
      "cell_type": "markdown",
      "source": [
        "https://biosteam.readthedocs.io/en/latest/\n",
        "\n",
        "https://github.com/BioSTEAMDevelopmentGroup/Bioindustrial-Park"
      ],
      "metadata": {
        "id": "GcGIMLLUJeRE"
      }
    },
    {
      "cell_type": "markdown",
      "source": [],
      "metadata": {
        "id": "eRrnblsCJMVh"
      }
    },
    {
      "cell_type": "markdown",
      "source": [
        "# Potential of Bioprocessing and the Role of NeqSim\n",
        "\n",
        "Bioprocessing refers to the use of biological systems—such as microorganisms, enzymes, or plant/animal cells—to produce or transform materials. Common applications include the production of biofuels (e.g., ethanol, biodiesel), pharmaceuticals, specialty chemicals, and other biologically derived products (e.g., amino acids, organic acids, enzymes). As concerns over sustainability, environmental impact, and the circular economy grow, bioprocessing is playing a more prominent role in modern process industries.\n",
        "\n",
        "NeqSim (short for *Non-ideal Equations of State for Simulation*) is an open-source process modeling library written in Java, widely used to perform thermodynamic and fluid property calculations in process simulation. It has a well-established track record in natural gas, petroleum, and CO₂ capture applications. However, many of the same thermodynamic and transport-property challenges in the hydrocarbon and CO₂ capture industries also exist in bioprocessing. Below is an overview of where bioprocessing is heading and how a tool like NeqSim can add value.\n",
        "\n",
        "---\n",
        "\n",
        "## 1. Growth and Importance of Bioprocessing\n",
        "\n",
        "1. **Biofuels and Energy**  \n",
        "   - **Ethanol and Biogas**: Fermentation-based production of ethanol or anaerobic digestion to produce biogas (methane) requires rigorous process design and optimization to ensure maximum yields and minimal by-product formation.  \n",
        "   - **Biodiesel**: Produced through transesterification of oils/fats, which requires careful handling of phase behavior (oil–methanol–glycerol separation, etc.).  \n",
        "   - **Advanced Biofuels**: Next-generation biofuels from lignocellulosic biomass (wood, agricultural residues) face complex process-design and separation challenges due to the wide variety of chemical species present.\n",
        "\n",
        "2. **Biochemicals and Bioplastics**  \n",
        "   - Renewable chemicals (e.g., organic acids like lactic acid) and bioplastics (e.g., polylactic acid (PLA)) are replacing petrochemical-derived counterparts.  \n",
        "   - Processes often involve complex fermentation broths that need accurate thermodynamic and separation modeling (liquid–liquid extraction, distillation, crystallization).\n",
        "\n",
        "3. **Biopharmaceuticals**  \n",
        "   - Production of enzymes, vaccines, monoclonal antibodies, and other biologics requires precise control of pH, temperature, and ionic strength.  \n",
        "   - Downstream purification (chromatography, ultrafiltration) is critical to product quality.\n",
        "\n",
        "4. **Waste Management and the Circular Economy**  \n",
        "   - Valorization of waste streams from food processing, agriculture, or municipal waste to produce valuable chemicals or fuels.  \n",
        "   - Emphasis on minimizing energy usage and integrating with existing industrial sites (industrial symbiosis).\n",
        "\n",
        "Overall, bioprocessing’s future hinges on improving yields, reducing costs, meeting purity requirements, and ensuring sustainability. Rigorous process modeling and simulation are crucial to attain these goals.\n",
        "\n",
        "---\n",
        "\n",
        "## 2. Where Thermodynamics Tools like NeqSim Fit In\n",
        "\n",
        "NeqSim provides a flexible environment for **thermodynamic modeling** and **fluid property calculations**. While it is frequently employed in natural gas and CO₂ capture modeling, many key features align well with bioprocess requirements:\n",
        "\n",
        "1. **Phase Equilibria Calculations**  \n",
        "   - Bioprocesses often involve multi-component mixtures: sugars, organic acids, alcohols, salts, and byproducts.  \n",
        "   - Understanding vapor–liquid and liquid–liquid equilibria is key for reactor design (e.g., stripping out CO₂ in fermentation) and downstream separations.\n",
        "\n",
        "2. **Property Predictions**  \n",
        "   - Density, viscosity, heat capacity, and mass transfer coefficients can be critical for designing pumps, heat exchangers, and separations equipment in a bio-based process.  \n",
        "   - Electrolyte systems are common (e.g., ionic species in fermentation media), so accurate electrolyte thermodynamics models (e.g., eNRTL, Pitzer) are invaluable.\n",
        "\n",
        "3. **CO₂-Related Processes**  \n",
        "   - Fermentation generates CO₂, which can be captured and utilized (CCU).  \n",
        "   - NeqSim’s strength in modeling CO₂ absorption (e.g., using amine solvents or other capture technologies) can be extended to capture CO₂ from bioprocess off-gas.\n",
        "\n",
        "4. **Multi-Phase and Complex Fluids**  \n",
        "   - Some bioprocess streams can form emulsions, foams, or have significant solids content.  \n",
        "   - While traditional thermodynamics tools focus on clear multi-phase scenarios, advanced models in NeqSim can approximate phase behavior in these complex systems or be coupled with other libraries for hybrid modeling.\n",
        "\n",
        "5. **Integration with Larger Simulation Environments**  \n",
        "   - Because NeqSim is written in Java and available as an open-source library, it can be integrated into custom software solutions or with larger process simulators (e.g., using CAPE-OPEN interfaces).  \n",
        "   - This flexibility allows users to design specialized unit operations or automation workflows relevant to bioprocess operations.\n",
        "\n",
        "---\n",
        "\n",
        "## 3. Potential Applications in Bioprocessing\n",
        "\n",
        "1. **Fermentation Process Design**  \n",
        "   - **Gas–Liquid Equilibria**: Accurately model how CO₂ evolves and how dissolved gases (O₂, CO₂, N₂) might affect cell growth or reaction rates.  \n",
        "   - **Temperature and pH Effects**: Incorporate thermodynamic models to understand how temperature shifts can change the solubility and reaction driving forces.\n",
        "\n",
        "2. **Downstream Separations**  \n",
        "   - **Distillation of Bioethanol**: Traditional separation of ethanol–water azeotropes requires robust vapor–liquid equilibrium data.  \n",
        "   - **Extraction**: Modeling liquid–liquid extraction of organic acids or other compounds from fermentation broth.  \n",
        "   - **Gas Stripping**: For removing volatiles from fermentation broths.\n",
        "\n",
        "3. **Biochemical Production**  \n",
        "   - **Organic Acid Recovery**: Predicting solubility and phase equilibria for acids like lactic, succinic, or acetic acids in various solvents.  \n",
        "   - **Enzyme-Catalyzed Reactions**: Estimating how solvents, temperature, and pH shifts affect reaction equilibria.\n",
        "\n",
        "4. **Process Optimization and Techno-Economic Analyses**  \n",
        "   - **Energy Integration**: Using thermodynamic data to optimize heat exchangers and reduce energy consumption.  \n",
        "   - **Scaling Up**: Conduct sensitivity analyses on parameters such as composition, temperature, and pressure to ensure robust scale-up from pilot to industrial scale.  \n",
        "   - **Sustainability Metrics**: Integrating CO₂ capture models to quantify carbon footprints of bio-based processes.\n",
        "\n",
        "5. **Research and Innovation**  \n",
        "   - **Electrolyte Systems**: Investigating novel ionic liquids or salt-based solvents for extraction processes.  \n",
        "   - **Hybrid Biological-Chemical Processes**: Coupling fermentation and catalytic upgrading steps, requiring robust multiphase thermodynamic modeling.\n",
        "\n",
        "---\n",
        "\n",
        "## 4. Advantages and Challenges\n",
        "\n",
        "### Advantages\n",
        "- **Open-Source & Extensible**: NeqSim’s open-source nature allows customization for biotech-specific needs (electrolyte models, custom reaction kinetics, etc.).  \n",
        "- **Comprehensive Thermodynamic Models**: Includes multiple equations of state (EoS) and activity coefficient models that can tackle both non-ideal mixtures and high-pressure systems—relevant for supercritical CO₂ extractions or pressurized fermentation.  \n",
        "- **Industry-Proven**: Although primarily used in oil and gas, it has proven stability and reliability in industrial settings where safety and accuracy are paramount.\n",
        "\n",
        "### Challenges\n",
        "- **Complex Fermentation Media**: Biological processes can contain colloids, cells, proteins, and other components that complicate classical thermodynamic approaches. Integrating such complexities may require specialized or empirical models.  \n",
        "- **Kinetics & Biological Factors**: While NeqSim handles thermodynamics well, modeling biological reaction kinetics (growth, death, substrate uptake) typically requires additional biochemical process modeling tools.  \n",
        "- **Data Availability**: Thermodynamic parameters for biological components (proteins, polysaccharides, etc.) can be sparse. Access to experimental data or reliable group-contribution methods is essential.\n",
        "\n",
        "---\n",
        "\n",
        "## 5. Future Outlook\n",
        "\n",
        "1. **Integration with Bioprocess Simulators**  \n",
        "   - Combining NeqSim with specialized bioprocess simulation environments (e.g., SuperPro Designer, Aspen Plus Biotech, custom Java-based frameworks) to create a hybrid approach that covers both biological reaction kinetics and advanced thermodynamic modeling.\n",
        "\n",
        "2. **Digital Twins and Real-Time Optimization**  \n",
        "   - Implementing NeqSim-based models in digital twins for large-scale fermentation facilities could enable real-time optimization of energy use, nutrient dosing, gas sparging, and CO₂ capture.\n",
        "\n",
        "3. **Expansion of Thermodynamic Databases**  \n",
        "   - Increased experimental work on bio-based solvents, ionic liquids, and novel materials will feed into more comprehensive thermodynamic data sets, improving model accuracy.\n",
        "\n",
        "4. **Sustainability and Carbon Capture**  \n",
        "   - As government incentives and carbon markets grow, capturing CO₂ from fermentation and other bioprocesses will become increasingly economical—NeqSim’s capabilities in CO₂ capture modeling will be directly applicable.\n",
        "\n"
      ],
      "metadata": {
        "id": "kRwBOTS6HZ2P"
      }
    },
    {
      "cell_type": "code",
      "source": [
        "import biosteam as bst\n",
        "from biosteam import settings\n",
        "bst.nbtutorial() # Light-mode html diagrams and filter warnings\n",
        "settings.set_thermo(['Water', 'Methanol'])\n",
        "feed = bst.Stream(Water=50, Methanol=20)\n",
        "feed.show()"
      ],
      "metadata": {
        "id": "JtUVTr6UJWtB",
        "outputId": "d94a01c2-9317-4d3c-c41f-dcb2f41dc948",
        "colab": {
          "base_uri": "https://localhost:8080/"
        }
      },
      "execution_count": null,
      "outputs": [
        {
          "output_type": "stream",
          "name": "stderr",
          "text": [
            "WARNING:pint.util:Calling the getitem method from a UnitRegistry is deprecated. use `parse_expression` method or use the registry as a callable.\n",
            "WARNING:pint.util:Calling the getitem method from a UnitRegistry is deprecated. use `parse_expression` method or use the registry as a callable.\n",
            "WARNING:pint.util:Calling the getitem method from a UnitRegistry is deprecated. use `parse_expression` method or use the registry as a callable.\n",
            "WARNING:pint.util:Calling the getitem method from a UnitRegistry is deprecated. use `parse_expression` method or use the registry as a callable.\n",
            "WARNING:pint.util:Calling the getitem method from a UnitRegistry is deprecated. use `parse_expression` method or use the registry as a callable.\n",
            "WARNING:pint.util:Calling the getitem method from a UnitRegistry is deprecated. use `parse_expression` method or use the registry as a callable.\n",
            "WARNING:pint.util:Calling the getitem method from a UnitRegistry is deprecated. use `parse_expression` method or use the registry as a callable.\n",
            "WARNING:pint.util:Calling the getitem method from a UnitRegistry is deprecated. use `parse_expression` method or use the registry as a callable.\n",
            "WARNING:pint.util:Calling the getitem method from a UnitRegistry is deprecated. use `parse_expression` method or use the registry as a callable.\n",
            "WARNING:pint.util:Calling the getitem method from a UnitRegistry is deprecated. use `parse_expression` method or use the registry as a callable.\n",
            "WARNING:pint.util:Calling the getitem method from a UnitRegistry is deprecated. use `parse_expression` method or use the registry as a callable.\n",
            "WARNING:pint.util:Calling the getitem method from a UnitRegistry is deprecated. use `parse_expression` method or use the registry as a callable.\n",
            "WARNING:pint.util:Calling the getitem method from a UnitRegistry is deprecated. use `parse_expression` method or use the registry as a callable.\n",
            "WARNING:pint.util:Calling the getitem method from a UnitRegistry is deprecated. use `parse_expression` method or use the registry as a callable.\n",
            "WARNING:pint.util:Calling the getitem method from a UnitRegistry is deprecated. use `parse_expression` method or use the registry as a callable.\n",
            "WARNING:pint.util:Calling the getitem method from a UnitRegistry is deprecated. use `parse_expression` method or use the registry as a callable.\n",
            "WARNING:pint.util:Calling the getitem method from a UnitRegistry is deprecated. use `parse_expression` method or use the registry as a callable.\n",
            "WARNING:pint.util:Calling the getitem method from a UnitRegistry is deprecated. use `parse_expression` method or use the registry as a callable.\n",
            "WARNING:pint.util:Calling the getitem method from a UnitRegistry is deprecated. use `parse_expression` method or use the registry as a callable.\n",
            "WARNING:pint.util:Calling the getitem method from a UnitRegistry is deprecated. use `parse_expression` method or use the registry as a callable.\n",
            "WARNING:pint.util:Calling the getitem method from a UnitRegistry is deprecated. use `parse_expression` method or use the registry as a callable.\n",
            "WARNING:pint.util:Calling the getitem method from a UnitRegistry is deprecated. use `parse_expression` method or use the registry as a callable.\n",
            "WARNING:pint.util:Calling the getitem method from a UnitRegistry is deprecated. use `parse_expression` method or use the registry as a callable.\n",
            "WARNING:pint.util:Calling the getitem method from a UnitRegistry is deprecated. use `parse_expression` method or use the registry as a callable.\n",
            "WARNING:pint.util:Calling the getitem method from a UnitRegistry is deprecated. use `parse_expression` method or use the registry as a callable.\n",
            "WARNING:pint.util:Calling the getitem method from a UnitRegistry is deprecated. use `parse_expression` method or use the registry as a callable.\n",
            "WARNING:pint.util:Calling the getitem method from a UnitRegistry is deprecated. use `parse_expression` method or use the registry as a callable.\n",
            "WARNING:pint.util:Calling the getitem method from a UnitRegistry is deprecated. use `parse_expression` method or use the registry as a callable.\n",
            "WARNING:pint.util:Calling the getitem method from a UnitRegistry is deprecated. use `parse_expression` method or use the registry as a callable.\n",
            "WARNING:pint.util:Calling the getitem method from a UnitRegistry is deprecated. use `parse_expression` method or use the registry as a callable.\n",
            "WARNING:pint.util:Calling the getitem method from a UnitRegistry is deprecated. use `parse_expression` method or use the registry as a callable.\n",
            "WARNING:pint.util:Calling the getitem method from a UnitRegistry is deprecated. use `parse_expression` method or use the registry as a callable.\n",
            "WARNING:pint.util:Calling the getitem method from a UnitRegistry is deprecated. use `parse_expression` method or use the registry as a callable.\n",
            "WARNING:pint.util:Calling the getitem method from a UnitRegistry is deprecated. use `parse_expression` method or use the registry as a callable.\n",
            "WARNING:pint.util:Calling the getitem method from a UnitRegistry is deprecated. use `parse_expression` method or use the registry as a callable.\n",
            "WARNING:pint.util:Calling the getitem method from a UnitRegistry is deprecated. use `parse_expression` method or use the registry as a callable.\n",
            "WARNING:pint.util:Calling the getitem method from a UnitRegistry is deprecated. use `parse_expression` method or use the registry as a callable.\n",
            "WARNING:pint.util:Calling the getitem method from a UnitRegistry is deprecated. use `parse_expression` method or use the registry as a callable.\n",
            "WARNING:pint.util:Calling the getitem method from a UnitRegistry is deprecated. use `parse_expression` method or use the registry as a callable.\n",
            "WARNING:pint.util:Calling the getitem method from a UnitRegistry is deprecated. use `parse_expression` method or use the registry as a callable.\n",
            "WARNING:pint.util:Calling the getitem method from a UnitRegistry is deprecated. use `parse_expression` method or use the registry as a callable.\n",
            "WARNING:pint.util:Calling the getitem method from a UnitRegistry is deprecated. use `parse_expression` method or use the registry as a callable.\n",
            "WARNING:pint.util:Calling the getitem method from a UnitRegistry is deprecated. use `parse_expression` method or use the registry as a callable.\n",
            "WARNING:pint.util:Calling the getitem method from a UnitRegistry is deprecated. use `parse_expression` method or use the registry as a callable.\n"
          ]
        },
        {
          "output_type": "stream",
          "name": "stdout",
          "text": [
            "Stream: s1\n",
            "phase: 'l', T: 298.15 K, P: 101325 Pa\n",
            "flow (kmol/hr): Water     50\n",
            "                Methanol  20\n"
          ]
        }
      ]
    }
  ]
}