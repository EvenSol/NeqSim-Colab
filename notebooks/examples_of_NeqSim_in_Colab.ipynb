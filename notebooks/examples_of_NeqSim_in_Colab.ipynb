{
 "cells": [
  {
   "cell_type": "markdown",
   "metadata": {
    "id": "view-in-github",
    "colab_type": "text"
   },
   "source": [
    "<a href=\"https://colab.research.google.com/github/EvenSol/NeqSim-Colab/blob/master/notebooks/examples_of_NeqSim_in_Colab.ipynb\" target=\"_parent\"><img src=\"https://colab.research.google.com/assets/colab-badge.svg\" alt=\"Open In Colab\"/></a>"
   ]
  },
  {
   "cell_type": "markdown",
   "metadata": {
    "id": "_eRtkQnHpL70"
   },
   "source": [
    "# Introduction to Gas Processing using NeqSim and Python"
   ]
  },
  {
   "cell_type": "markdown",
   "metadata": {
    "id": "kHt6u-utpvYf"
   },
   "source": [
    "[NeqSim (Non-Equilibrium Simulator)](https://equinor.github.io/neqsimhome/) is a library for calculation of fluid properties and process simulation. Colaboratory (Colab) is a free Jupyter notebook environment that requires no setup and runs entirely in the cloud. In the notebooks listed in this page you will find examples of typical gas processing calculations using NeqSim in Colab, and will serve both as introduction to natural gas processing and to interactive use of NeqSim in a Python based notebook. The notebooks serves as a theoretical introduction and as a simulation tool for many processes found in the gas industry.\n",
    "\n",
    "---\n",
    "\n",
    "This module gives an interactive intruduction to gas processing using NeqSim and Colaboratory. The notebooks use the NeqSim package in Python and calculations are run directly from the web browser (by selecting Runtime and Run all in the main menu). The user will need to log on using their google account. To learn more about Colab see the [Welcome To Colaboratory page](https://colab.research.google.com/notebooks/welcome.ipynb).\n",
    "\n",
    "\n",
    "\n",
    "---\n",
    "\n",
    "***Learn to use NeqSim in Colab and contribute with new material***\n",
    "\n",
    "Users are welcome to contribute with their own NeqSim Colab pages. [This template](template.ipynb) can be used as a basis for a new notebook. An introduction to how to use Neqsim in Colab is given in [this page](howtouseneqsim.ipynb). A Python script as basis for a notebook can be seen and modified by right clicking a form and trigger show code. All Colab notebooks are stored in an open [GitHub repository](https://github.com/EvenSol/NeqSim-Colab).\n",
    "\n",
    "---\n",
    "**Comments and request for new content**\n",
    "\n",
    "Please use the [discussion forum](https://github.com/EvenSol/NeqSim-Colab/discussions) to comment and discuss the topics covered in this tool. Users can request new content or suggest improvements by [reporting an issue](https://github.com/EvenSol/NeqSim-Colab/issues)."
   ]
  },
  {
   "cell_type": "markdown",
   "metadata": {
    "id": "9VqtmS_MpS6M"
   },
   "source": [
    "## Process control\n",
    "* [Process control](process/process_control_with_neqsim_v2.ipynb)\n",
    "* [Data-Driven Control Strategies](process/data_driven_control_strategies.ipynb)\n",
    "* [Reinforcement Learning Integration with NeqSim](process/reinforcement_learning_integration.ipynb)\n",
    "\n"
   ]
  }
 ],
 "metadata": {
  "colab": {
   "name": "examples of NeqSim in Colab.ipynb",
   "provenance": [],
   "include_colab_link": true
  },
  "kernelspec": {
   "display_name": "Python 3",
   "name": "python3"
  }
 },
 "nbformat": 4,
 "nbformat_minor": 0
}