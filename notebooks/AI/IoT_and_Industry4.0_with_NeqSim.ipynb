{
  "cells": [
    {
      "cell_type": "markdown",
      "metadata": {},
      "source": [
        "<a href=\"https://colab.research.google.com/github/EvenSol/NeqSim-Colab/blob/master/notebooks/AI/IoT_and_Industry4.0_with_NeqSim.ipynb\" target=\"_parent\"><img src=\"https://colab.research.google.com/assets/colab-badge.svg\" alt=\"Open In Colab\"/></a>"
      ]
    },
    {
      "cell_type": "markdown",
      "metadata": {},
      "source": [
        "# IoT and Industry 4.0 Applications with NeqSim\n",
        "\n",
        "Industrial Internet of Things (IoT) and Industry 4.0 strategies rely on high-quality data streams, physics-based models, and actionable analytics. NeqSim can act as the digital twin core that contextualizes field measurements, predicts system behavior, and exposes insights to operations and enterprise stakeholders.\n",
        "\n",
        "This notebook demonstrates how to:\n",
        "\n",
        "* contextualize smart-instrument readings with NeqSim simulations,\n",
        "* simulate dynamic behavior with PI-friendly time series, and\n",
        "* prepare data products that can be forwarded to IoT platforms or analytics pipelines."
      ]
    },
    {
      "cell_type": "markdown",
      "metadata": {},
      "source": [
        "## Learning objectives\n",
        "\n",
        "By the end of this notebook you will be able to:\n",
        "\n",
        "* Map the role of NeqSim within an Industry 4.0 architecture.\n",
        "* Configure digital instruments (temperature, pressure, flow) that mirror plant transmitters.\n",
        "* Run a transient simulation loop and collect IoT-ready data frames.\n",
        "* Derive rolling key performance indicators (KPIs) for monitoring and anomaly detection.\n",
        "* Prepare payloads that can be pushed to enterprise IoT or historian services."
      ]
    },
    {
      "cell_type": "markdown",
      "metadata": {},
      "source": [
        "## 1. Process IoT and Industry 4.0 overview\n",
        "\n",
        "Industry 4.0 combines cyber-physical systems, cloud/edge connectivity, and advanced analytics to drive resilient, autonomous operations. In a gas-processing context, the architecture typically includes:\n",
        "\n",
        "* **Smart field devices** \u2013 digital pressure, temperature, flow, and vibration transmitters with standardized protocols.\n",
        "* **Edge/field gateways** \u2013 OPC UA, MQTT, or Modbus brokers that aggregate and contextualize signals.\n",
        "* **Digital twin and simulation services** \u2013 NeqSim or other models that create soft-sensors, forecasts, and scenario insights.\n",
        "* **Analytics, AI, and optimization** \u2013 streaming analytics, machine learning, and prescriptive controls.\n",
        "* **Enterprise applications** \u2013 operations dashboards, maintenance management, and business systems.\n",
        "\n",
        "The diagram below illustrates how NeqSim can sit alongside IoT gateways to deliver hybrid analytics."
      ]
    },
    {
      "cell_type": "code",
      "metadata": {},
      "execution_count": null,
      "outputs": [],
      "source": [
        "import matplotlib.pyplot as plt\n",
        "    from matplotlib.patches import FancyBboxPatch\n",
        "\n",
        "    fig, ax = plt.subplots(figsize=(12, 3.2))\n",
        "    ax.axis('off')\n",
        "    ax.set_title(\"Conceptual data flow from instruments to enterprise value\", fontsize=13, fontweight='bold', color=\"#1b365d\")\n",
        "\n",
        "    boxes = [\n",
        "        (\"Smart field devices\", (0.02, 0.5), \"Sensors & transmitters\n",
        "(temperature, pressure, flow)\"),\n",
        "        (\"Edge IoT gateway\", (0.24, 0.5), \"Protocol conversion\n",
        "OPC UA / MQTT\"),\n",
        "        (\"NeqSim digital twin\", (0.46, 0.5), \"Simulation & soft sensors\n",
        "Physics-based context\"),\n",
        "        (\"Analytics & AI\", (0.68, 0.5), \"Anomaly detection\n",
        "Predictive maintenance\"),\n",
        "        (\"Enterprise systems\", (0.86, 0.5), \"MES / ERP / BI\n",
        "Decision support\"),\n",
        "    ]\n",
        "\n",
        "    for title, (x, y), desc in boxes:\n",
        "        ax.add_patch(\n",
        "            FancyBboxPatch(\n",
        "                (x, y - 0.18), 0.18, 0.32,\n",
        "                boxstyle=\"round,pad=0.03\",\n",
        "                fc=\"#f3f6fb\",\n",
        "                ec=\"#2a5599\",\n",
        "                linewidth=1.6,\n",
        "            )\n",
        "        )\n",
        "        ax.text(x + 0.09, y + 0.09, title, ha='center', va='center', fontsize=11, fontweight='bold', color=\"#1b365d\")\n",
        "        ax.text(x + 0.09, y - 0.02, desc, ha='center', va='center', fontsize=9, color=\"#333333\")\n",
        "\n",
        "    for idx in range(len(boxes) - 1):\n",
        "        x_start = boxes[idx][1][0] + 0.18\n",
        "        x_end = boxes[idx + 1][1][0]\n",
        "        y_pos = boxes[idx][1][1]\n",
        "        ax.annotate(\"\", xy=(x_end, y_pos), xytext=(x_start, y_pos), arrowprops=dict(arrowstyle=\"->\", linewidth=1.6, color=\"#4d4d4d\"))\n",
        "\n",
        "    plt.tight_layout()\n",
        "    plt.show()"
      ]
    },
    {
      "cell_type": "markdown",
      "metadata": {},
      "source": [
        "## 2. Setting up a NeqSim-based digital instrument rack\n",
        "\n",
        "The following cells assemble a simplified gas-processing segment with a heater, choke valve, and slug catcher. We attach NeqSim measurement devices to mimic plant transmitters that stream temperature, pressure, and volumetric flow.\n",
        "\n",
        "Execute the installation cell if you are running inside Google Colab."
      ]
    },
    {
      "cell_type": "code",
      "metadata": {},
      "execution_count": null,
      "outputs": [],
      "source": [
        "%%capture\n",
        "!pip install git+https://github.com/equinor/neqsim-python.git"
      ]
    },
    {
      "cell_type": "code",
      "metadata": {},
      "execution_count": null,
      "outputs": [],
      "source": [
        "import json\n",
        "import pandas as pd\n",
        "import matplotlib.pyplot as plt\n",
        "\n",
        "from neqsim.process import (\n",
        "    clearProcess,\n",
        "    stream,\n",
        "    heater,\n",
        "    valve,\n",
        "    separator,\n",
        "    runProcess,\n",
        "    getProcess,\n",
        ")\n",
        "from neqsim.thermo import fluid\n",
        "from neqsim import jneqsim"
      ]
    },
    {
      "cell_type": "markdown",
      "metadata": {},
      "source": [
        "### Build the process model and virtual instruments\n",
        "\n",
        "* Define a condensate-rich gas with methane, ethane, propane, and water.\n",
        "* Route the stream through a fired heater, control valve, and slug catcher separator.\n",
        "* Attach NeqSim measurement devices to emulate instrument tags."
      ]
    },
    {
      "cell_type": "code",
      "metadata": {},
      "execution_count": null,
      "outputs": [],
      "source": [
        "clearProcess()\n",
        "\n",
        "# Create the reservoir fluid\n",
        "feed_gas = fluid('srk')\n",
        "feed_gas.addComponent('methane', 0.92)\n",
        "feed_gas.addComponent('ethane', 0.04)\n",
        "feed_gas.addComponent('propane', 0.02)\n",
        "feed_gas.addComponent('water', 0.02)\n",
        "feed_gas.setMixingRule(2)\n",
        "\n",
        "# Configure the inlet stream\n",
        "feed = stream('Feed gas', feed_gas)\n",
        "feed.setFlowRate(45_000.0, 'kg/hr')\n",
        "feed.setTemperature(40.0, 'C')\n",
        "feed.setPressure(70.0, 'bara')\n",
        "feed.setCalculateSteadyState(False)\n",
        "\n",
        "# Add a heater prior to throttling\n",
        "preheater = heater('Feed preheater', feed)\n",
        "preheater.setDuty(2.0e5)  # W\n",
        "preheater.setCalculateSteadyState(False)\n",
        "\n",
        "# Model a choke valve towards the pipeline\n",
        "export_valve = valve('Export choke', preheater.getOutStream(), 45.0)\n",
        "export_valve.setPercentValveOpening(65.0)\n",
        "export_valve.setCalculateSteadyState(False)\n",
        "\n",
        "# Slug catcher / knock-out drum\n",
        "slug_catcher = separator('Slug catcher', export_valve.getOutletStream())\n",
        "slug_catcher.setSeparatorLength(6.0)\n",
        "slug_catcher.setInternalDiameter(1.4)\n",
        "slug_catcher.setLiquidLevel(0.35)\n",
        "slug_catcher.setCalculateSteadyState(False)\n",
        "\n",
        "process_system = getProcess()\n",
        "\n",
        "# Attach digital instruments mirroring plant transmitters\n",
        "temp_sensor = jneqsim.process.measurementdevice.TemperatureTransmitter(\n",
        "    'TT-501 Heater outlet temperature', preheater.getOutStream()\n",
        ")\n",
        "pressure_sensor = jneqsim.process.measurementdevice.PressureTransmitter(\n",
        "    'PT-502 Downstream pressure', export_valve.getOutletStream()\n",
        ")\n",
        "flow_sensor = jneqsim.process.measurementdevice.VolumeFlowTransmitter(\n",
        "    'FT-503 Gas export flow', slug_catcher.getGasOutStream()\n",
        ")\n",
        "\n",
        "for sensor in (temp_sensor, pressure_sensor, flow_sensor):\n",
        "    process_system.add(sensor)\n",
        "\n",
        "# Solve the initial steady-state condition\n",
        "runProcess()\n",
        "\n",
        "sensor_catalog = {\n",
        "    'heater_outlet_temp_C': (temp_sensor, 'C'),\n",
        "    'downstream_pressure_bar': (pressure_sensor, 'bar'),\n",
        "    'gas_flow_m3hr': (flow_sensor, 'm^3/hr'),\n",
        "}\n",
        "\n",
        "baseline_snapshot = {\n",
        "    name: sensor.getMeasuredValue(unit)\n",
        "    for name, (sensor, unit) in sensor_catalog.items()\n",
        "}\n",
        "baseline_snapshot['separator_liquid_level_fraction'] = slug_catcher.getLiquidLevel()\n",
        "\n",
        "baseline_snapshot"
      ]
    },
    {
      "cell_type": "code",
      "metadata": {},
      "execution_count": null,
      "outputs": [],
      "source": [
        "pd.DataFrame([baseline_snapshot])"
      ]
    },
    {
      "cell_type": "markdown",
      "metadata": {},
      "source": [
        "## 3. Dynamic instrumentation loop\n",
        "\n",
        "We next run a 6-minute (360 second) transient simulation with time steps of one second. The heater duty and valve opening are changed to emulate operator actions. Each step captures digital instrument values, suitable for streaming into a historian or IoT message bus."
      ]
    },
    {
      "cell_type": "code",
      "metadata": {},
      "execution_count": null,
      "outputs": [],
      "source": [
        "process_system.setTimeStep(1.0)  # seconds\n",
        "\n",
        "events = {\n",
        "    120: 'Increase heater duty by 20%',\n",
        "    240: 'Trim valve opening by 10%',\n",
        "    300: 'Return heater duty to 180 kW',\n",
        "}\n",
        "\n",
        "iot_records = []\n",
        "for step in range(360):\n",
        "    event_flag = None\n",
        "    if step == 120:\n",
        "        preheater.setDuty(2.4e5)\n",
        "        event_flag = events[120]\n",
        "    elif step == 240:\n",
        "        export_valve.setPercentValveOpening(export_valve.getPercentValveOpening() - 10.0)\n",
        "        event_flag = events[240]\n",
        "    elif step == 300:\n",
        "        preheater.setDuty(1.8e5)\n",
        "        event_flag = events[300]\n",
        "\n",
        "    record = {\n",
        "        'time_s': process_system.getTime(),\n",
        "        'heater_duty_kW': preheater.getDuty() / 1.0e3,\n",
        "        'heater_outlet_temp_C': temp_sensor.getMeasuredValue('C'),\n",
        "        'downstream_pressure_bar': pressure_sensor.getMeasuredValue('bar'),\n",
        "        'gas_flow_m3hr': flow_sensor.getMeasuredValue('m^3/hr'),\n",
        "        'separator_liquid_level_fraction': slug_catcher.getLiquidLevel(),\n",
        "        'event': event_flag,\n",
        "    }\n",
        "\n",
        "    iot_records.append(record)\n",
        "    process_system.runTransient()\n",
        "\n",
        "iot_frame = pd.DataFrame(iot_records)\n",
        "iot_frame.head()"
      ]
    },
    {
      "cell_type": "code",
      "metadata": {},
      "execution_count": null,
      "outputs": [],
      "source": [
        "iot_frame.tail()"
      ]
    },
    {
      "cell_type": "markdown",
      "metadata": {},
      "source": [
        "### Visualize the simulated telemetry\n",
        "\n",
        "The plots highlight how temperature, pressure, and flow respond to the operator actions. Vertical markers align with the heater duty increase, valve trim, and heater soft landing."
      ]
    },
    {
      "cell_type": "code",
      "metadata": {},
      "execution_count": null,
      "outputs": [],
      "source": [
        "fig, axes = plt.subplots(3, 1, figsize=(11, 9), sharex=True)\n",
        "\n",
        "axes[0].plot(iot_frame['time_s'], iot_frame['heater_outlet_temp_C'], color='#1b9e77', label='Outlet temperature [\u00b0C]')\n",
        "axes[0].set_ylabel('Temperature [\u00b0C]')\n",
        "axes[0].legend(loc='best')\n",
        "\n",
        "axes[1].plot(iot_frame['time_s'], iot_frame['downstream_pressure_bar'], color='#d95f02', label='Downstream pressure [bar]')\n",
        "axes[1].set_ylabel('Pressure [bar]')\n",
        "axes[1].legend(loc='best')\n",
        "\n",
        "axes[2].plot(iot_frame['time_s'], iot_frame['gas_flow_m3hr'], color='#7570b3', label='Gas flow [m\u00b3/h]')\n",
        "axes[2].set_ylabel('Flow [m\u00b3/h]')\n",
        "axes[2].set_xlabel('Time [s]')\n",
        "axes[2].legend(loc='best')\n",
        "\n",
        "for ax in axes:\n",
        "    for marker, label in events.items():\n",
        "        ax.axvline(marker, color='#555555', linestyle='--', linewidth=1.0)\n",
        "        ax.text(marker + 2, ax.get_ylim()[1] * 0.92, label, rotation=90, fontsize=9, color='#444444', va='top')\n",
        "\n",
        "plt.tight_layout()\n",
        "plt.show()"
      ]
    },
    {
      "cell_type": "markdown",
      "metadata": {},
      "source": [
        "### Rolling KPIs for anomaly detection and control\n",
        "\n",
        "With high-frequency data available, rolling statistics help detect drifts or oscillations that may go unnoticed in raw trends. The example below calculates 30-second moving averages for outlet temperature and pressure."
      ]
    },
    {
      "cell_type": "code",
      "metadata": {},
      "execution_count": null,
      "outputs": [],
      "source": [
        "kpi_frame = iot_frame.set_index('time_s')\n",
        "kpi_frame['temperature_sma_30s'] = kpi_frame['heater_outlet_temp_C'].rolling(window=30, min_periods=1).mean()\n",
        "kpi_frame['pressure_sma_30s'] = kpi_frame['downstream_pressure_bar'].rolling(window=30, min_periods=1).mean()\n",
        "\n",
        "fig, ax = plt.subplots(2, 1, figsize=(11, 6), sharex=True)\n",
        "ax[0].plot(kpi_frame.index, kpi_frame['heater_outlet_temp_C'], color='#1b9e77', alpha=0.4, label='Temperature [\u00b0C]')\n",
        "ax[0].plot(kpi_frame.index, kpi_frame['temperature_sma_30s'], color='#1b9e77', linewidth=2.0, label='30 s SMA')\n",
        "ax[0].set_ylabel('Temperature [\u00b0C]')\n",
        "ax[0].legend(loc='best')\n",
        "\n",
        "ax[1].plot(kpi_frame.index, kpi_frame['downstream_pressure_bar'], color='#d95f02', alpha=0.4, label='Pressure [bar]')\n",
        "ax[1].plot(kpi_frame.index, kpi_frame['pressure_sma_30s'], color='#d95f02', linewidth=2.0, label='30 s SMA')\n",
        "ax[1].set_ylabel('Pressure [bar]')\n",
        "ax[1].set_xlabel('Time [s]')\n",
        "ax[1].legend(loc='best')\n",
        "\n",
        "for axis in ax:\n",
        "    for marker in events.keys():\n",
        "        axis.axvline(marker, color='#666666', linestyle='--', linewidth=1.0)\n",
        "\n",
        "plt.tight_layout()\n",
        "plt.show()"
      ]
    },
    {
      "cell_type": "markdown",
      "metadata": {},
      "source": [
        "### Packaging NeqSim telemetry for IoT platforms\n",
        "\n",
        "The last few rows of the simulation can be serialized into JSON and posted to message brokers, historians, or analytics APIs. Replace the placeholder URL with your service endpoint when deploying."
      ]
    },
    {
      "cell_type": "code",
      "metadata": {},
      "execution_count": null,
      "outputs": [],
      "source": [
        "payload = iot_frame.tail(5).to_dict(orient='records')\n",
        "print(json.dumps(payload, indent=2)[:600])\n",
        "\n",
        "# Example of sending to an IoT endpoint (disabled by default)\n",
        "# import requests\n",
        "# response = requests.post('https://your-iot-endpoint/api/v1/telemetry', json=payload, timeout=10)\n",
        "# response.raise_for_status()"
      ]
    },
    {
      "cell_type": "markdown",
      "metadata": {},
      "source": [
        "## 4. Industry 4.0 use cases enabled by NeqSim\n",
        "\n",
        "* **Soft sensors and reconciliation** \u2013 combine physical transmitters with NeqSim predictions to infer unmeasured variables (e.g., dew point, compressor polytropic efficiency).\n",
        "* **Predictive maintenance** \u2013 track deviations between measured and simulated conditions to flag fouling, hydrate risk, or valve erosion.\n",
        "* **Closed-loop optimization** \u2013 connect NeqSim-calculated KPIs to advanced process control (APC) or AI agents that recommend set point changes.\n",
        "* **Virtual commissioning** \u2013 validate new instrumentation logic, alarm limits, and PI tags before field deployment.\n",
        "* **Operations training** \u2013 replay scenarios in operator training simulators (OTS) with realistic dynamics and instrument responses."
      ]
    },
    {
      "cell_type": "markdown",
      "metadata": {},
      "source": [
        "## 5. Implementation checklist\n",
        "\n",
        "1. Catalogue plant instruments and align each tag with a NeqSim sensor or calculated property.\n",
        "2. Deploy NeqSim services near the edge gateway (Docker, FastAPI, or serverless runtimes) for low-latency feedback.\n",
        "3. Stream simulator outputs alongside real measurements into your historian or IoT platform.\n",
        "4. Configure alerting on key deltas (measured vs. simulated) and rolling KPIs.\n",
        "5. Feed curated data sets into analytics notebooks, BI dashboards, or data-science pipelines."
      ]
    },
    {
      "cell_type": "markdown",
      "metadata": {},
      "source": [
        "## 6. Further exploration\n",
        "\n",
        "* [Real-time process monitoring for operational safety and compliance](./Real_Time_process_monitoring_for_operational_safety_and_compliance.ipynb) \u2013 complementary workflow for condition monitoring.\n",
        "* [NeqSim and Seeq integration](./NeqSim_and_Seeq.ipynb) \u2013 example of hybrid analytics using an industrial analytics platform.\n",
        "* [API examples](../../API/python/example/example.ipynb) \u2013 build REST endpoints for cloud-to-edge integrations."
      ]
    }
  ],
  "metadata": {
    "kernelspec": {
      "display_name": "Python 3",
      "language": "python",
      "name": "python3"
    },
    "language_info": {
      "name": "python",
      "version": "3.12"
    }
  },
  "nbformat": 4,
  "nbformat_minor": 5
}