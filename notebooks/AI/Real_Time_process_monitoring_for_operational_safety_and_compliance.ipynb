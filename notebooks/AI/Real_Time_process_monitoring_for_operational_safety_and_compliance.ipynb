{
  "nbformat": 4,
  "nbformat_minor": 0,
  "metadata": {
    "colab": {
      "provenance": [],
      "authorship_tag": "ABX9TyNsPk7jHITZGVVz65SbB80V",
      "include_colab_link": true
    },
    "kernelspec": {
      "name": "python3",
      "display_name": "Python 3"
    },
    "language_info": {
      "name": "python"
    }
  },
  "cells": [
    {
      "cell_type": "markdown",
      "metadata": {
        "id": "view-in-github",
        "colab_type": "text"
      },
      "source": [
        "<a href=\"https://colab.research.google.com/github/EvenSol/NeqSim-Colab/blob/master/notebooks/AI/Real_Time_process_monitoring_for_operational_safety_and_compliance.ipynb\" target=\"_parent\"><img src=\"https://colab.research.google.com/assets/colab-badge.svg\" alt=\"Open In Colab\"/></a>"
      ]
    },
    {
      "cell_type": "code",
      "execution_count": null,
      "metadata": {
        "id": "ju3rp8DUVga0"
      },
      "outputs": [],
      "source": [
        "# Install neqsim if not already installed\n",
        "!pip install neqsim"
      ]
    },
    {
      "cell_type": "markdown",
      "source": [
        "# NeqSim as a tool\n",
        "\n",
        "This document will contain sections with text descriptions, equations, and Python code that demonstrate real-time process monitoring. Let's break it into meaningful parts to create an engaging learning experience:\n",
        "\n",
        "## Title: Real-Time Process Monitoring for Operational Safety and Compliance using NeqSim\n",
        "\n",
        "### Introduction\n",
        "\n",
        "Real-time monitoring of industrial processes is critical for ensuring operational safety, meeting regulatory compliance, and optimizing efficiency. In this notebook, we will explore how to implement real-time process monitoring using NeqSim and other Python libraries. We will discuss key safety metrics, monitor process variables, and create visualizations that help assess operational risk.\n",
        "\n",
        "### Libraries Used:\n",
        "\n",
        "* **NeqSim:** (Thermodynamic simulations)\n",
        "* **Pandas:** (Data handling)\n",
        "* **Matplotlib:** (Visualization)\n",
        "* **NumPy:** (Mathematical operations)\n",
        "* **Plotly:** (Interactive plots)\n",
        "\n",
        "## Section 1: Understanding Real-Time Monitoring\n",
        "\n",
        "Real-time monitoring involves continuously tracking the operational parameters of a process plant to detect deviations that could lead to unsafe conditions or regulatory violations. Common parameters include pressure, temperature, composition, and flow rates.\n",
        "\n",
        "### Key Concepts:\n",
        "\n",
        "* **Operational Safety:** Monitoring pressure, temperature, and flow ensures processes operate within safe limits.\n",
        "* **Compliance:** Ensuring parameters meet regulatory standards to avoid penalties.\n",
        "* **Optimization:** Identifying trends that can be used for process optimization."
      ],
      "metadata": {
        "id": "TMz_TTPgVodN"
      }
    },
    {
      "cell_type": "code",
      "source": [
        "# Import necessary libraries\n",
        "import neqsim\n",
        "from neqsim.thermo import fluid, bubp\n",
        "import pandas as pd\n",
        "import numpy as np\n",
        "import matplotlib.pyplot as plt\n",
        "import plotly.graph_objs as go\n",
        "\n",
        "# Initialize a NeqSim fluid\n",
        "natural_gas = fluid('srk-eos')\n",
        "natural_gas.addComponent('methane', 90.0)\n",
        "natural_gas.addComponent('ethane', 5.0)\n",
        "natural_gas.addComponent('propane', 3.0)\n",
        "natural_gas.createDatabase(True)\n",
        "natural_gas.setMixingRule(2)\n",
        "\n",
        "\n",
        "def bubpfunc(T, P):\n",
        "  bubpfunc = bubp(natural_gas)\n",
        "  return natural_gas.getPressure()"
      ],
      "metadata": {
        "id": "i9k4Nzw9WQuP"
      },
      "execution_count": 9,
      "outputs": []
    },
    {
      "cell_type": "markdown",
      "source": [
        "## Section 3: Real-Time Data Generation\n",
        "\n",
        "For real-time monitoring, we need continuous data. Here, we'll simulate real-time data using time-series values for temperature and pressure. We use a combination of NumPy and Pandas to generate realistic data representing process variations."
      ],
      "metadata": {
        "id": "DqPMChddWhYD"
      }
    },
    {
      "cell_type": "code",
      "source": [
        "# Generate time-series data for simulation\n",
        "np.random.seed(42)  # For reproducibility\n",
        "\n",
        "time_steps = pd.date_range(start='2024-11-01', periods=100, freq='T')  # 100 minutes\n",
        "pressure_data = 50 + 5 * np.sin(np.linspace(0, 10, 100)) + np.random.normal(0, 0.5, 100)\n",
        "temperature_data = 273.15 + 25 + 2 * np.cos(np.linspace(0, 10, 100)) + np.random.normal(0, 0.3, 100)\n",
        "\n",
        "# Create a DataFrame\n",
        "data = pd.DataFrame({'Time': time_steps, 'Pressure (bar)': pressure_data, 'Temperature (K)': temperature_data})\n",
        "data.set_index('Time', inplace=True)"
      ],
      "metadata": {
        "colab": {
          "base_uri": "https://localhost:8080/"
        },
        "id": "E6_iXuWYWlGy",
        "outputId": "5e1dd405-b847-4224-a8b1-eb3d2d7b89b9"
      },
      "execution_count": 10,
      "outputs": [
        {
          "output_type": "stream",
          "name": "stderr",
          "text": [
            "<ipython-input-10-2c7735de7a58>:4: FutureWarning: 'T' is deprecated and will be removed in a future version, please use 'min' instead.\n",
            "  time_steps = pd.date_range(start='2024-11-01', periods=100, freq='T')  # 100 minutes\n"
          ]
        }
      ]
    },
    {
      "cell_type": "markdown",
      "source": [
        "## Section 4: Calculating Safety Metrics with NeqSim\n",
        "\n",
        "Using NeqSim, we can calculate phase envelopes and predict the operational conditions under which potential safety issues could arise. For example, the **bubble point pressure** and **dew point temperature** are critical limits.\n"
      ],
      "metadata": {
        "id": "UIjAMuiUWp1_"
      }
    },
    {
      "cell_type": "code",
      "source": [
        "# Calculating bubble point for safety analysis\n",
        "data['Bubble Point Pressure (bar)'] = [bubpfunc for _ in range(len(data))]"
      ],
      "metadata": {
        "id": "D1ypOja2WyjD"
      },
      "execution_count": 11,
      "outputs": []
    },
    {
      "cell_type": "markdown",
      "source": [
        "The calculated bubble point pressure can be used to check whether the system is approaching unsafe conditions.\n",
        "\n",
        "## Section 5: Visualization for Real-Time Monitoring\n",
        "\n",
        "Visualizations can help in better understanding trends and deviations in real-time. Below, we will create both static and interactive plots to visualize the process."
      ],
      "metadata": {
        "id": "ydrLug1OYZ9E"
      }
    },
    {
      "cell_type": "code",
      "source": [
        "# Plot using Matplotlib\n",
        "plt.figure(figsize=(10, 6))\n",
        "plt.plot(data.index, data['Pressure (bar)'], label='Pressure')\n",
        "plt.xlabel('Time')\n",
        "plt.ylabel('Pressure (bar)')\n",
        "plt.title('Real-Time Pressure Monitoring')\n",
        "plt.legend()\n",
        "plt.show()"
      ],
      "metadata": {
        "colab": {
          "base_uri": "https://localhost:8080/",
          "height": 564
        },
        "id": "Sv-TqhSDYbKD",
        "outputId": "7d41be02-7cf7-4476-f742-db33ba64f435"
      },
      "execution_count": 14,
      "outputs": [
        {
          "output_type": "display_data",
          "data": {
            "text/plain": [
              "<Figure size 1000x600 with 1 Axes>"
            ],
            "image/png": "[encoded data removed]"
          },
          "metadata": {}
        }
      ]
    },
    {
      "cell_type": "markdown",
      "source": [
        "## Section 6: Compliance Checks and Alerts\n",
        "\n",
        "A key part of real-time monitoring is compliance. We can set threshold limits for parameters and generate alerts when these thresholds are breached."
      ],
      "metadata": {
        "id": "2bRQDCH4ZMqF"
      }
    },
    {
      "cell_type": "code",
      "source": [
        "# Setting safety limits\n",
        "pressure_limit = 55  # Maximum allowable pressure in bar\n",
        "\n",
        "def check_compliance(data):\n",
        "    data['Alert'] = data['Pressure (bar)'] > pressure_limit\n",
        "    return data\n",
        "\n",
        "data = check_compliance(data)\n",
        "alerts = data[data['Alert']]\n",
        "\n",
        "# Display alerts if any\n",
        "if not alerts.empty:\n",
        "    print(\"Alert: Pressure exceeds the allowable limit at the following times:\")\n",
        "    display(alerts[['Pressure (bar)']])\n",
        "else:\n",
        "    print(\"No alerts. Pressure is within allowable limits.\")"
      ],
      "metadata": {
        "colab": {
          "base_uri": "https://localhost:8080/",
          "height": 286
        },
        "id": "NTYP7e3iZOSI",
        "outputId": "7adc2c8d-8dd3-4d23-f3ae-19d8d2cf1646"
      },
      "execution_count": 15,
      "outputs": [
        {
          "output_type": "stream",
          "name": "stdout",
          "text": [
            "Alert: Pressure exceeds the allowable limit at the following times:\n"
          ]
        },
        {
          "output_type": "display_data",
          "data": {
            "text/plain": [
              "                     Pressure (bar)\n",
              "Time                               \n",
              "2024-11-01 00:17:00       55.103655\n",
              "2024-11-01 00:20:00       55.236352\n",
              "2024-11-01 01:13:00       55.216732\n",
              "2024-11-01 01:15:00       55.218675\n",
              "2024-11-01 01:18:00       55.044342\n",
              "2024-11-01 01:22:00       55.286177"
            ],
            "text/html": [
              "\n",
              "  <div id=\"df-4fd3fd4f-23bb-4404-8cf2-a3e9acb6d700\" class=\"colab-df-container\">\n",
              "    <div>\n",
              "<style scoped>\n",
              "    .dataframe tbody tr th:only-of-type {\n",
              "        vertical-align: middle;\n",
              "    }\n",
              "\n",
              "    .dataframe tbody tr th {\n",
              "        vertical-align: top;\n",
              "    }\n",
              "\n",
              "    .dataframe thead th {\n",
              "        text-align: right;\n",
              "    }\n",
              "</style>\n",
              "<table border=\"1\" class=\"dataframe\">\n",
              "  <thead>\n",
              "    <tr style=\"text-align: right;\">\n",
              "      <th></th>\n",
              "      <th>Pressure (bar)</th>\n",
              "    </tr>\n",
              "    <tr>\n",
              "      <th>Time</th>\n",
              "      <th></th>\n",
              "    </tr>\n",
              "  </thead>\n",
              "  <tbody>\n",
              "    <tr>\n",
              "      <th>2024-11-01 00:17:00</th>\n",
              "      <td>55.103655</td>\n",
              "    </tr>\n",
              "    <tr>\n",
              "      <th>2024-11-01 00:20:00</th>\n",
              "      <td>55.236352</td>\n",
              "    </tr>\n",
              "    <tr>\n",
              "      <th>2024-11-01 01:13:00</th>\n",
              "      <td>55.216732</td>\n",
              "    </tr>\n",
              "    <tr>\n",
              "      <th>2024-11-01 01:15:00</th>\n",
              "      <td>55.218675</td>\n",
              "    </tr>\n",
              "    <tr>\n",
              "      <th>2024-11-01 01:18:00</th>\n",
              "      <td>55.044342</td>\n",
              "    </tr>\n",
              "    <tr>\n",
              "      <th>2024-11-01 01:22:00</th>\n",
              "      <td>55.286177</td>\n",
              "    </tr>\n",
              "  </tbody>\n",
              "</table>\n",
              "</div>\n",
              "    <div class=\"colab-df-buttons\">\n",
              "\n",
              "  <div class=\"colab-df-container\">\n",
              "    <button class=\"colab-df-convert\" onclick=\"convertToInteractive('df-4fd3fd4f-23bb-4404-8cf2-a3e9acb6d700')\"\n",
              "            title=\"Convert this dataframe to an interactive table.\"\n",
              "            style=\"display:none;\">\n",
              "\n",
              "  <svg xmlns=\"http://www.w3.org/2000/svg\" height=\"24px\" viewBox=\"0 -960 960 960\">\n",
              "    <path d=\"M120-120v-720h720v720H120Zm60-500h600v-160H180v160Zm220 220h160v-160H400v160Zm0 220h160v-160H400v160ZM180-400h160v-160H180v160Zm440 0h160v-160H620v160ZM180-180h160v-160H180v160Zm440 0h160v-160H620v160Z\"/>\n",
              "  </svg>\n",
              "    </button>\n",
              "\n",
              "  <style>\n",
              "    .colab-df-container {\n",
              "      display:flex;\n",
              "      gap: 12px;\n",
              "    }\n",
              "\n",
              "    .colab-df-convert {\n",
              "      background-color: #E8F0FE;\n",
              "      border: none;\n",
              "      border-radius: 50%;\n",
              "      cursor: pointer;\n",
              "      display: none;\n",
              "      fill: #1967D2;\n",
              "      height: 32px;\n",
              "      padding: 0 0 0 0;\n",
              "      width: 32px;\n",
              "    }\n",
              "\n",
              "    .colab-df-convert:hover {\n",
              "      background-color: #E2EBFA;\n",
              "      box-shadow: 0px 1px 2px rgba(60, 64, 67, 0.3), 0px 1px 3px 1px rgba(60, 64, 67, 0.15);\n",
              "      fill: #174EA6;\n",
              "    }\n",
              "\n",
              "    .colab-df-buttons div {\n",
              "      margin-bottom: 4px;\n",
              "    }\n",
              "\n",
              "    [theme=dark] .colab-df-convert {\n",
              "      background-color: #3B4455;\n",
              "      fill: #D2E3FC;\n",
              "    }\n",
              "\n",
              "    [theme=dark] .colab-df-convert:hover {\n",
              "      background-color: #434B5C;\n",
              "      box-shadow: 0px 1px 3px 1px rgba(0, 0, 0, 0.15);\n",
              "      filter: drop-shadow(0px 1px 2px rgba(0, 0, 0, 0.3));\n",
              "      fill: #FFFFFF;\n",
              "    }\n",
              "  </style>\n",
              "\n",
              "    <script>\n",
              "      const buttonEl =\n",
              "        document.querySelector('#df-4fd3fd4f-23bb-4404-8cf2-a3e9acb6d700 button.colab-df-convert');\n",
              "      buttonEl.style.display =\n",
              "        google.colab.kernel.accessAllowed ? 'block' : 'none';\n",
              "\n",
              "      async function convertToInteractive(key) {\n",
              "        const element = document.querySelector('#df-4fd3fd4f-23bb-4404-8cf2-a3e9acb6d700');\n",
              "        const dataTable =\n",
              "          await google.colab.kernel.invokeFunction('convertToInteractive',\n",
              "                                                    [key], {});\n",
              "        if (!dataTable) return;\n",
              "\n",
              "        const docLinkHtml = 'Like what you see? Visit the ' +\n",
              "          '<a target=\"_blank\" href=https://colab.research.google.com/notebooks/data_table.ipynb>data table notebook</a>'\n",
              "          + ' to learn more about interactive tables.';\n",
              "        element.innerHTML = '';\n",
              "        dataTable['output_type'] = 'display_data';\n",
              "        await google.colab.output.renderOutput(dataTable, element);\n",
              "        const docLink = document.createElement('div');\n",
              "        docLink.innerHTML = docLinkHtml;\n",
              "        element.appendChild(docLink);\n",
              "      }\n",
              "    </script>\n",
              "  </div>\n",
              "\n",
              "\n",
              "<div id=\"df-095a51a4-ab32-4cdb-bb63-00e06200d696\">\n",
              "  <button class=\"colab-df-quickchart\" onclick=\"quickchart('df-095a51a4-ab32-4cdb-bb63-00e06200d696')\"\n",
              "            title=\"Suggest charts\"\n",
              "            style=\"display:none;\">\n",
              "\n",
              "<svg xmlns=\"http://www.w3.org/2000/svg\" height=\"24px\"viewBox=\"0 0 24 24\"\n",
              "     width=\"24px\">\n",
              "    <g>\n",
              "        <path d=\"M19 3H5c-1.1 0-2 .9-2 2v14c0 1.1.9 2 2 2h14c1.1 0 2-.9 2-2V5c0-1.1-.9-2-2-2zM9 17H7v-7h2v7zm4 0h-2V7h2v10zm4 0h-2v-4h2v4z\"/>\n",
              "    </g>\n",
              "</svg>\n",
              "  </button>\n",
              "\n",
              "<style>\n",
              "  .colab-df-quickchart {\n",
              "      --bg-color: #E8F0FE;\n",
              "      --fill-color: #1967D2;\n",
              "      --hover-bg-color: #E2EBFA;\n",
              "      --hover-fill-color: #174EA6;\n",
              "      --disabled-fill-color: #AAA;\n",
              "      --disabled-bg-color: #DDD;\n",
              "  }\n",
              "\n",
              "  [theme=dark] .colab-df-quickchart {\n",
              "      --bg-color: #3B4455;\n",
              "      --fill-color: #D2E3FC;\n",
              "      --hover-bg-color: #434B5C;\n",
              "      --hover-fill-color: #FFFFFF;\n",
              "      --disabled-bg-color: #3B4455;\n",
              "      --disabled-fill-color: #666;\n",
              "  }\n",
              "\n",
              "  .colab-df-quickchart {\n",
              "    background-color: var(--bg-color);\n",
              "    border: none;\n",
              "    border-radius: 50%;\n",
              "    cursor: pointer;\n",
              "    display: none;\n",
              "    fill: var(--fill-color);\n",
              "    height: 32px;\n",
              "    padding: 0;\n",
              "    width: 32px;\n",
              "  }\n",
              "\n",
              "  .colab-df-quickchart:hover {\n",
              "    background-color: var(--hover-bg-color);\n",
              "    box-shadow: 0 1px 2px rgba(60, 64, 67, 0.3), 0 1px 3px 1px rgba(60, 64, 67, 0.15);\n",
              "    fill: var(--button-hover-fill-color);\n",
              "  }\n",
              "\n",
              "  .colab-df-quickchart-complete:disabled,\n",
              "  .colab-df-quickchart-complete:disabled:hover {\n",
              "    background-color: var(--disabled-bg-color);\n",
              "    fill: var(--disabled-fill-color);\n",
              "    box-shadow: none;\n",
              "  }\n",
              "\n",
              "  .colab-df-spinner {\n",
              "    border: 2px solid var(--fill-color);\n",
              "    border-color: transparent;\n",
              "    border-bottom-color: var(--fill-color);\n",
              "    animation:\n",
              "      spin 1s steps(1) infinite;\n",
              "  }\n",
              "\n",
              "  @keyframes spin {\n",
              "    0% {\n",
              "      border-color: transparent;\n",
              "      border-bottom-color: var(--fill-color);\n",
              "      border-left-color: var(--fill-color);\n",
              "    }\n",
              "    20% {\n",
              "      border-color: transparent;\n",
              "      border-left-color: var(--fill-color);\n",
              "      border-top-color: var(--fill-color);\n",
              "    }\n",
              "    30% {\n",
              "      border-color: transparent;\n",
              "      border-left-color: var(--fill-color);\n",
              "      border-top-color: var(--fill-color);\n",
              "      border-right-color: var(--fill-color);\n",
              "    }\n",
              "    40% {\n",
              "      border-color: transparent;\n",
              "      border-right-color: var(--fill-color);\n",
              "      border-top-color: var(--fill-color);\n",
              "    }\n",
              "    60% {\n",
              "      border-color: transparent;\n",
              "      border-right-color: var(--fill-color);\n",
              "    }\n",
              "    80% {\n",
              "      border-color: transparent;\n",
              "      border-right-color: var(--fill-color);\n",
              "      border-bottom-color: var(--fill-color);\n",
              "    }\n",
              "    90% {\n",
              "      border-color: transparent;\n",
              "      border-bottom-color: var(--fill-color);\n",
              "    }\n",
              "  }\n",
              "</style>\n",
              "\n",
              "  <script>\n",
              "    async function quickchart(key) {\n",
              "      const quickchartButtonEl =\n",
              "        document.querySelector('#' + key + ' button');\n",
              "      quickchartButtonEl.disabled = true;  // To prevent multiple clicks.\n",
              "      quickchartButtonEl.classList.add('colab-df-spinner');\n",
              "      try {\n",
              "        const charts = await google.colab.kernel.invokeFunction(\n",
              "            'suggestCharts', [key], {});\n",
              "      } catch (error) {\n",
              "        console.error('Error during call to suggestCharts:', error);\n",
              "      }\n",
              "      quickchartButtonEl.classList.remove('colab-df-spinner');\n",
              "      quickchartButtonEl.classList.add('colab-df-quickchart-complete');\n",
              "    }\n",
              "    (() => {\n",
              "      let quickchartButtonEl =\n",
              "        document.querySelector('#df-095a51a4-ab32-4cdb-bb63-00e06200d696 button');\n",
              "      quickchartButtonEl.style.display =\n",
              "        google.colab.kernel.accessAllowed ? 'block' : 'none';\n",
              "    })();\n",
              "  </script>\n",
              "</div>\n",
              "\n",
              "    </div>\n",
              "  </div>\n"
            ],
            "application/vnd.google.colaboratory.intrinsic+json": {
              "type": "dataframe",
              "summary": "{\n  \"name\": \"    print(\\\"No alerts\",\n  \"rows\": 6,\n  \"fields\": [\n    {\n      \"column\": \"Time\",\n      \"properties\": {\n        \"dtype\": \"date\",\n        \"min\": \"2024-11-01 00:17:00\",\n        \"max\": \"2024-11-01 01:22:00\",\n        \"num_unique_values\": 6,\n        \"samples\": [\n          \"2024-11-01 00:17:00\",\n          \"2024-11-01 00:20:00\",\n          \"2024-11-01 01:22:00\"\n        ],\n        \"semantic_type\": \"\",\n        \"description\": \"\"\n      }\n    },\n    {\n      \"column\": \"Pressure (bar)\",\n      \"properties\": {\n        \"dtype\": \"number\",\n        \"std\": 0.0910094269595903,\n        \"min\": 55.044342092698315,\n        \"max\": 55.28617673949307,\n        \"num_unique_values\": 6,\n        \"samples\": [\n          55.10365484886934,\n          55.236351615475556,\n          55.28617673949307\n        ],\n        \"semantic_type\": \"\",\n        \"description\": \"\"\n      }\n    }\n  ]\n}"
            }
          },
          "metadata": {}
        }
      ]
    },
    {
      "cell_type": "markdown",
      "source": [
        "## Section 7: Conclusion and Future Work\n",
        "\n",
        "Real-time process monitoring is essential for maintaining operational safety and regulatory compliance. In this notebook, we have used NeqSim and Python libraries to simulate, monitor, and visualize process conditions. As a next step, this framework could be extended to integrate with real-world sensor data using IoT technologies.\n",
        "\n",
        "### Key Extensions:\n",
        "\n",
        "* **Integration with SCADA Systems:** Read live data from SCADA for actual plant monitoring.\n",
        "* **Machine Learning for Anomaly Detection:** Use machine learning models to predict anomalies based on historical data."
      ],
      "metadata": {
        "id": "S6PotewXZWbh"
      }
    }
  ]
}