{
  "nbformat": 4,
  "nbformat_minor": 0,
  "metadata": {
    "colab": {
      "name": "first test neqsim",
      "version": "0.3.2",
      "provenance": [],
      "collapsed_sections": [],
      "include_colab_link": true
    },
    "kernelspec": {
      "name": "python3",
      "display_name": "Python 3"
    }
  },
  "cells": [
    {
      "cell_type": "markdown",
      "metadata": {
        "id": "view-in-github",
        "colab_type": "text"
      },
      "source": [
        "<a href=\"https://colab.research.google.com/github/EvenSol/NeqSim-Colab/blob/master/notebooks/first_test_neqsim.ipynb\" target=\"_parent\"><img src=\"https://colab.research.google.com/assets/colab-badge.svg\" alt=\"Open In Colab\"/></a>"
      ]
    },
    {
      "metadata": {
        "id": "_5S9BCzW3z3B",
        "colab_type": "code",
        "outputId": "0984c68f-205f-4c39-afe7-b87ce6c88227",
        "colab": {
          "base_uri": "https://localhost:8080/",
          "height": 230
        }
      },
      "cell_type": "code",
      "source": [
        "!git clone https://github.com/EvenSol/NeqSim-Colab.git\n",
        "!cd NeqSim-Colab\n",
        "!pip install py4j\n",
        "!pip install neqsim==2.5.35-Colab/lib/neqsim-0.0.1-py3-none-any.whl"
      ],
      "execution_count": 2,
      "outputs": [
        {
          "output_type": "stream",
          "text": [
            "Requirement already satisfied: py4j in /usr/local/lib/python3.6/dist-packages (0.10.8.1)\n",
            "Cloning into 'NeqSim-Colab'...\n",
            "remote: Enumerating objects: 72, done.\u001b[K\n",
            "remote: Counting objects: 100% (72/72), done.\u001b[K\n",
            "remote: Compressing objects: 100% (61/61), done.\u001b[K\n",
            "remote: Total 115 (delta 37), reused 10 (delta 3), pack-reused 43\u001b[K\n",
            "Receiving objects: 100% (115/115), 61.87 MiB | 10.31 MiB/s, done.\n",
            "Resolving deltas: 100% (58/58), done.\n",
            "Processing ./NeqSim-Colab/lib/neqsim-0.0.1-py3-none-any.whl\n",
            "Requirement already satisfied: py4j in /usr/local/lib/python3.6/dist-packages (from neqsim==0.0.1) (0.10.8.1)\n",
            "Installing collected packages: neqsim\n",
            "Successfully installed neqsim-0.0.1\n"
          ],
          "name": "stdout"
        }
      ]
    },
    {
      "metadata": {
        "id": "fTHcUlSccuSu",
        "colab_type": "text"
      },
      "cell_type": "markdown",
      "source": [
        "##Import NeqSim##\n",
        "\n",
        "Start by importing the NeqSim libraries and packages used for plotting."
      ]
    },
    {
      "metadata": {
        "id": "VvYqBnFpB0ek",
        "colab_type": "code",
        "colab": {}
      },
      "cell_type": "code",
      "source": [
        "import neqsim\n",
        "import time\n",
        "time.sleep(3)\n",
        "from neqsim.thermo.thermoTools import *\n",
        "import matplotlib\n",
        "import numpy as np\n",
        "import matplotlib.pyplot as plt\n",
        "import math\n",
        "%matplotlib inline"
      ],
      "execution_count": 0,
      "outputs": []
    },
    {
      "metadata": {
        "id": "2KYwxaSnUegp",
        "colab_type": "text"
      },
      "cell_type": "markdown",
      "source": [
        "## Calculation of boiling point of pure components.\n",
        "Calculate the boiling point temperature of pure methane, propane and n-heptane at 1 atm. \n",
        "Draw the boiling point temperatrure line of the pure components between 1 atm. and 10 bar."
      ]
    },
    {
      "metadata": {
        "id": "hsIRXvEcSlGn",
        "colab_type": "code",
        "outputId": "1a57680e-5571-42bf-a90b-0a1aaea004e0",
        "colab": {
          "base_uri": "https://localhost:8080/",
          "height": 332
        }
      },
      "cell_type": "code",
      "source": [
        "fluid1 = fluid('srk') #create a fluid using the SRK-EoS\n",
        "fluid1.addComponent('methane', 1.0) #adding 1 mole methane to the fluid\n",
        "fluid1.setTemperature(111.0) # setting an initial temperature of -160 deg C\n",
        "fluid1.setPressure(1.01325)#\n",
        "bubt(fluid1)\n",
        "print('methane buble point temperature ', fluid1.getTemperature('C'), \" at pressure \", fluid1.getPressure('bara'))\n",
        "print('methane entalpy of vaporization ', (fluid1.getPhase('gas').getEnthalpy('kJ/kg')-fluid1.getPhase('oil').getEnthalpy('kJ/kg'), ' kJ/kg'))\n",
        "\n",
        "def bubleP(pressure):\n",
        "    fluid1.setPressure(pressure)\n",
        "    bubt(fluid1)\n",
        "    return fluid1.getTemperature('C')\n",
        "\n",
        "pressure = np.arange(1.0, 11.0, 1.0)\n",
        "temperature = [bubleP(P) for P in pressure]\n",
        "\n",
        "plt.plot(temperature, pressure)\n",
        "plt.xlabel('Temperature [C]')\n",
        "plt.ylabel('Pressure [bara]')"
      ],
      "execution_count": 0,
      "outputs": [
        {
          "output_type": "stream",
          "text": [
            "methane buble point temperature  -161.14414719123826  at pressure  1.01325\n",
            "methane entalpy of vaporization  (404.8255398402311, ' kJ/kg')\n"
          ],
          "name": "stdout"
        },
        {
          "output_type": "execute_result",
          "data": {
            "text/plain": [
              "Text(0, 0.5, 'Pressure [bara]')"
            ]
          },
          "metadata": {
            "tags": []
          },
          "execution_count": 7
        },
        {
          "output_type": "display_data",
          "data": {
            "image/png": "[encoded data removed]",
            "text/plain": [
              "<Figure size 432x288 with 1 Axes>"
            ]
          },
          "metadata": {
            "tags": []
          }
        }
      ]
    },
    {
      "metadata": {
        "id": "rC8UENWBUjIy",
        "colab_type": "text"
      },
      "cell_type": "markdown",
      "source": [
        "## Calculation of heat of vapourization of pure components.\n",
        "Calculate the heat of vapourization at 1 atm for methane. Draw the heat of vapourization line  of methane between 1 atm. and 10 bar."
      ]
    },
    {
      "metadata": {
        "id": "aBgAM5_QTkqH",
        "colab_type": "code",
        "outputId": "477a1c59-bc14-47be-b9de-8d20cc4e173f",
        "colab": {
          "base_uri": "https://localhost:8080/",
          "height": 314
        }
      },
      "cell_type": "code",
      "source": [
        "fluid1 = fluid('srk') #create a fluid using the SRK-EoS\n",
        "fluid1.addComponent('methane', 1.0) #adding 1 mole methane to the fluid\n",
        "fluid1.setTemperature(111.0) # setting an initial temperature of -160 deg C\n",
        "fluid1.setPressure(1.01325)#\n",
        "bubt(fluid1)\n",
        "fluid1.init(3) #initializes/calculates all thermodynamic properties of the fluid (including enthalpy)\n",
        "print('methane entalpy of vapourization ', (fluid1.getPhase('gas').getEnthalpy('kJ/kg')-fluid1.getPhase('oil').getEnthalpy('kJ/kg'), ' kJ/kg'))\n",
        "\n",
        "def enthalp(pressure):\n",
        "    fluid1.setPressure(pressure)\n",
        "    bubt(fluid1)\n",
        "    fluid1.init(3) \n",
        "    return (fluid1.getPhase('gas').getEnthalpy('kJ/kg')-fluid1.getPhase('oil').getEnthalpy('kJ/kg'))\n",
        "\n",
        "pressure = np.arange(1.0, 11.0, 1.0)\n",
        "entha = [enthalp(P) for P in pressure]\n",
        "\n",
        "plt.plot(pressure, entha)\n",
        "plt.xlabel('Pressure [bara]')\n",
        "plt.ylabel('Enthalpy of vaporization [kJ/kg]')"
      ],
      "execution_count": 0,
      "outputs": [
        {
          "output_type": "stream",
          "text": [
            "methane entalpy of vapourization  (524.1675011225673, ' kJ/kg')\n"
          ],
          "name": "stdout"
        },
        {
          "output_type": "execute_result",
          "data": {
            "text/plain": [
              "Text(0, 0.5, 'Enthalpy of vaporization [kJ/kg]')"
            ]
          },
          "metadata": {
            "tags": []
          },
          "execution_count": 8
        },
        {
          "output_type": "display_data",
          "data": {
            "image/png": "[encoded data removed]",
            "text/plain": [
              "<Figure size 432x288 with 1 Axes>"
            ]
          },
          "metadata": {
            "tags": []
          }
        }
      ]
    },
    {
      "metadata": {
        "id": "zCXZIW7TTo7f",
        "colab_type": "code",
        "outputId": "bd2e434e-fa0e-478e-fb4c-f75c29394e4a",
        "colab": {
          "base_uri": "https://localhost:8080/",
          "height": 296
        }
      },
      "cell_type": "code",
      "source": [
        "bubtemp = []\n",
        "dewtemp = []\n",
        "x = []\n",
        "y = []\n",
        "x2 = []\n",
        "y2 = []\n",
        "comp1 = 'propane'\n",
        "comp2 = 'n-butane'\n",
        "\n",
        "fluid1 = fluid('srk')\n",
        "addComponent(fluid1, comp1,0.000001)\n",
        "addComponent(fluid1, comp2,1.01)\n",
        "fluid1.setMixingRule('classic')\n",
        "fluid1.setTemperature(200.0)\n",
        "fluid1.setPressure(5.0)\n",
        "try:\n",
        "    for temp in range(0,11):\n",
        "        bubtemp.append(bubt(fluid1))\n",
        "        dewtemp.append(dewt(fluid1))\n",
        "        fluid1.init(0)\n",
        "        x.append(fluid1.getPhase(0).getComponent(0).getz())\n",
        "        fluid1.addComponent(comp2, -0.1)\n",
        "        fluid1.addComponent(comp1, 0.1)\n",
        "except:\n",
        "        print('no dewt found')\n",
        "\n",
        "plt.plot(x, bubtemp, label='bubT')\n",
        "plt.plot(x, dewtemp, label=\"dewT\")\n",
        "plt.xlabel('Temperature [C]')\n",
        "plt.ylabel('Pressure [bara]')"
      ],
      "execution_count": 0,
      "outputs": [
        {
          "output_type": "execute_result",
          "data": {
            "text/plain": [
              "Text(0, 0.5, 'Pressure [bara]')"
            ]
          },
          "metadata": {
            "tags": []
          },
          "execution_count": 5
        },
        {
          "output_type": "display_data",
          "data": {
            "image/png": "[encoded data removed]",
            "text/plain": [
              "<Figure size 432x288 with 1 Axes>"
            ]
          },
          "metadata": {
            "tags": []
          }
        }
      ]
    },
    {
      "metadata": {
        "id": "_N2a_wBXTsQv",
        "colab_type": "code",
        "outputId": "cfa052be-1089-41f1-8807-365898eb0d4c",
        "colab": {
          "base_uri": "https://localhost:8080/",
          "height": 70
        }
      },
      "cell_type": "code",
      "source": [
        "adibaticEfficiency = 0.9\n",
        "\n",
        "fluid1 = fluid('srk') #create a fluid using the SRK-EoS\n",
        "fluid1.addComponent('methane', 90.0) #adding 1 mole methane to the fluid\n",
        "fluid1.addComponent('ethane', 10.0) #adding 1 mole methane to the fluid\n",
        "fluid1.setTemperature(23.0, 'C') # setting an initial temperature of -160 deg C\n",
        "fluid1.setPressure(25.0, 'bara')#\n",
        "fluid1.setTotalFlowRate(1.0, 'MSm3/day')\n",
        "TPflash(fluid1)\n",
        "fluid1.init(3)# need to call init 3 the read entropy/enthalpy\n",
        "\n",
        "inletEntropy = fluid1.getEntropy()\n",
        "inletEnthalpy = fluid1.getEnthalpy('J')\n",
        "\n",
        "fluid1.setPressure(50.0)\n",
        "PSflash(fluid1, inletEntropy)\n",
        "\n",
        "outAdiabaticEnthalpy = fluid1.getEnthalpy('J')\n",
        "outRealEnthalpy = (outAdiabaticEnthalpy-inletEnthalpy)/adibaticEfficiency + inletEnthalpy\n",
        "PHflash(fluid1, outRealEnthalpy)\n",
        "\n",
        "print('1.')\n",
        "print('Compressor power ', (outRealEnthalpy-inletEnthalpy)/1.0e3, 'kW')\n",
        "print('Real outlet temperature ', fluid1.getTemperature('C'), ' C')"
      ],
      "execution_count": 0,
      "outputs": [
        {
          "output_type": "stream",
          "text": [
            "1.\n",
            "Compressor power  954.4137091826815 kW\n",
            "Real outlet temperature  78.73166520253483  C\n"
          ],
          "name": "stdout"
        }
      ]
    },
    {
      "metadata": {
        "id": "pDlVZif3Ev_b",
        "colab_type": "text"
      },
      "cell_type": "markdown",
      "source": [
        "#Calculation of phase envelope\n",
        "Calculation of phase envelope...."
      ]
    },
    {
      "metadata": {
        "id": "bhx5DtNtEw5i",
        "colab_type": "code",
        "colab": {}
      },
      "cell_type": "code",
      "source": [
        "thermoSystem = neqsim.thermo.system.SystemSrkEos(280.0,10.0)\n",
        "thermoSystem.addComponent(\"nitrogen\", 1.0)\n",
        "thermoSystem.addComponent(\"methane\", 10.0)\n",
        "thermoSystem.addComponent(\"ethane\", 4.0)\n",
        "thermoSystem.addComponent(\"propane\", 2.0)\n",
        "thermoSystem.addComponent(\"i-butane\", 1.0)\n",
        "thermoSystem.addComponent(\"n-butane\", 1.0)\n",
        "thermoSystem.addComponent(\"nC10\", 1.0)\n",
        "\n",
        "thermoOps = neqsim.thermodynamicOperations.ThermodynamicOperations(thermoSystem)\n",
        "thermoOps.calcPTphaseEnvelope()\n",
        "\n",
        "plt.plot(list(thermoOps.getOperation().get(\"dewT\")),list(thermoOps.getOperation().get(\"dewP\")), label=\"dew point\")\n",
        "plt.plot(list(thermoOps.getOperation().get(\"bubT\")),list(thermoOps.getOperation().get(\"bubP\")), label=\"bubble point\")\n",
        "plt.title('PT envelope')\n",
        "plt.xlabel('Temperature [\\u00B0C]')\n",
        "plt.ylabel('Pressure [bar]')\n",
        "plt.legend()\n",
        "plt.show()"
      ],
      "execution_count": 0,
      "outputs": []
    },
    {
      "metadata": {
        "id": "8wWChuEuE3PO",
        "colab_type": "text"
      },
      "cell_type": "markdown",
      "source": [
        "#Hydrate calculations¶\n",
        "##How to find hydrate temperature\n",
        "Hydrate temperatures can be found ..."
      ]
    },
    {
      "metadata": {
        "id": "5VA_N1E6E7Qe",
        "colab_type": "code",
        "colab": {}
      },
      "cell_type": "code",
      "source": [
        "pressure = 150.0 #@param {type:\"number\"}\n",
        "thermoSystem = neqsim.thermo.system.SystemSrkEos(280.0,pressure)\n",
        "thermoSystem.addComponent(\"methane\", 90.0)\n",
        "thermoSystem.addComponent(\"ethane\", 10.0)\n",
        "thermoSystem.addComponent(\"propane\", 1.0)\n",
        "thermoSystem.addComponent(\"water\", 4.0)\n",
        "thermoSystem.setHydrateCheck(True);\n",
        "thermoOps = neqsim.thermodynamicOperations.ThermodynamicOperations(thermoSystem)\n",
        "thermoOps.hydrateFormationTemperature()\n",
        "\n",
        "print(\"Hydrate equilibrium temperature \", thermoSystem.getTemperature()-273.15, \" C\")"
      ],
      "execution_count": 0,
      "outputs": []
    }
  ]
}