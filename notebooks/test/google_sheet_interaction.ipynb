{
  "nbformat": 4,
  "nbformat_minor": 0,
  "metadata": {
    "colab": {
      "name": "google sheet interaction.ipynb",
      "version": "0.3.2",
      "provenance": [],
      "toc_visible": true,
      "include_colab_link": true
    },
    "kernelspec": {
      "name": "python3",
      "display_name": "Python 3"
    }
  },
  "cells": [
    {
      "cell_type": "markdown",
      "metadata": {
        "id": "view-in-github",
        "colab_type": "text"
      },
      "source": [
        "<a href=\"https://colab.research.google.com/github/EvenSol/NeqSim-Colab/blob/master/notebooks/google_sheet_interaction.ipynb\" target=\"_parent\"><img src=\"https://colab.research.google.com/assets/colab-badge.svg\" alt=\"Open In Colab\"/></a>"
      ]
    },
    {
      "metadata": {
        "id": "v7cWi1smrVEJ",
        "colab_type": "code",
        "outputId": "43c4f5e1-3462-4290-ae75-0552c8b6e24b",
        "cellView": "form",
        "colab": {
          "base_uri": "https://localhost:8080/",
          "height": 321
        }
      },
      "cell_type": "code",
      "source": [
        "#@title Use of NeqSim in Googel Sheets\n",
        "#@markdown Download and import packages \n",
        "!pip install py4j\n",
        "!pip install --upgrade -q gspread\n",
        "!rm -rf testneqsim\n",
        "!git clone https://github.com/EvenSol/NeqSim-Colab.git\n",
        "!cd NeqSim-Colab\n",
        "!pip install neqsim==2.5.35-Colab/lib/neqsim-0.0.1-py3-none-any.whl\n",
        "import neqsim\n",
        "from neqsim.thermo.thermoTools import *\n",
        "import matplotlib\n",
        "import numpy as np\n",
        "import matplotlib.pyplot as plt\n",
        "import math\n",
        "%matplotlib inline"
      ],
      "execution_count": 1,
      "outputs": [
        {
          "output_type": "stream",
          "text": [
            "Collecting py4j\n",
            "\u001b[?25l  Downloading https://files.pythonhosted.org/packages/04/de/2d314a921ef4c20b283e1de94e0780273678caac901564df06b948e4ba9b/py4j-0.10.8.1-py2.py3-none-any.whl (196kB)\n",
            "\u001b[K    100% |████████████████████████████████| 204kB 23.1MB/s \n",
            "\u001b[?25hInstalling collected packages: py4j\n",
            "Successfully installed py4j-0.10.8.1\n",
            "Cloning into 'NeqSim-Colab'...\n",
            "remote: Enumerating objects: 76, done.\u001b[K\n",
            "remote: Counting objects: 100% (76/76), done.\u001b[K\n",
            "remote: Compressing objects: 100% (65/65), done.\u001b[K\n",
            "remote: Total 119 (delta 39), reused 10 (delta 3), pack-reused 43\u001b[K\n",
            "Receiving objects: 100% (119/119), 61.91 MiB | 10.16 MiB/s, done.\n",
            "Resolving deltas: 100% (60/60), done.\n",
            "Processing ./NeqSim-Colab/lib/neqsim-0.0.1-py3-none-any.whl\n",
            "Requirement already satisfied: py4j in /usr/local/lib/python3.6/dist-packages (from neqsim==0.0.1) (0.10.8.1)\n",
            "Installing collected packages: neqsim\n",
            "Successfully installed neqsim-0.0.1\n"
          ],
          "name": "stdout"
        }
      ]
    },
    {
      "metadata": {
        "id": "_URKJgmwrYox",
        "colab_type": "text"
      },
      "cell_type": "markdown",
      "source": [
        "# How to connect and create a Google sheet"
      ]
    },
    {
      "metadata": {
        "id": "13qtyOSCsKv_",
        "colab_type": "code",
        "colab": {}
      },
      "cell_type": "code",
      "source": [
        "from google.colab import auth\n",
        "auth.authenticate_user()\n",
        "\n",
        "import gspread\n",
        "from oauth2client.client import GoogleCredentials\n",
        "sheetTitle = 'a new neqsim spread sheet2'  #@param {type:\"string\"}\n",
        "gc = gspread.authorize(GoogleCredentials.get_application_default())\n",
        "sh = gc.create(sheetTitle)"
      ],
      "execution_count": 0,
      "outputs": []
    },
    {
      "metadata": {
        "id": "3xfXatvQscib",
        "colab_type": "text"
      },
      "cell_type": "markdown",
      "source": [
        "# Writing values to a google sheet"
      ]
    },
    {
      "metadata": {
        "id": "VtyDU0HVsieT",
        "colab_type": "code",
        "outputId": "86956813-d9ae-4ccd-ca3e-8ef67da2dead",
        "cellView": "both",
        "colab": {
          "base_uri": "https://localhost:8080/",
          "height": 274
        }
      },
      "cell_type": "code",
      "source": [
        "#@title Input to calculations { run: \"auto\" }\n",
        "#@markdown Please input valuers for the parameters:\n",
        "componentName = \"methane\" #@param [\"methane\", \"ethane\", \"propane\"]\n",
        "minPressure = 1.0 #@param {type:\"number\"}\n",
        "maxPressure = 20.0 #@param {type:\"number\"}\n",
        "\n",
        "fluid1 = fluid('srk') #create a fluid using the SRK-EoS\n",
        "fluid1.addComponent('propane', 1.0) #adding 1 mole methane to the fluid\n",
        "fluid1.setTemperature(111.0) # setting an initial temperature of -160 deg C\n",
        "fluid1.setPressure(1.0)\n",
        "bubt(fluid1)\n",
        "print(componentName, ' buble point temperature ', fluid1.getTemperature('C'), \" at pressure \", fluid1.getPressure('bara'))\n",
        "print(componentName, ' entalpy of vaporization ', (fluid1.getPhase('gas').getEnthalpy('kJ/kg')-fluid1.getPhase('oil').getEnthalpy('kJ/kg'), ' kJ/kg'))\n",
        "\n",
        "def bubleP(pressure):\n",
        "    fluid1.setPressure(pressure)\n",
        "    bubt(fluid1)\n",
        "    return fluid1.getTemperature('C')\n",
        "\n",
        "pressure = np.arange(minPressure, maxPressure, 1.0)\n",
        "temperature = [bubleP(P) for P in pressure]\n",
        "\n",
        "# Open our new sheet and add some data.\n",
        "worksheet = gc.open(sheetTitle).sheet1\n",
        "worksheet.clear()\n",
        "\n",
        "worksheet.update_acell('A1', \"pressure [bara]\")\n",
        "worksheet.update_acell('B1', \"temperature [C]\")\n",
        "\n",
        "\n",
        "cell_list = worksheet.range('A2:A'+str(pressure.size+1))\n",
        "cell_list2 = worksheet.range('B2:B'+str(pressure.size+1))\n",
        "\n",
        "i=0\n",
        "for cell in cell_list:\n",
        "  cell.value = pressure[i]\n",
        "  i +=1\n",
        "\n",
        "i=0\n",
        "for cell in cell_list2:\n",
        "  cell.value = temperature[i]\n",
        "  i +=1\n",
        "  \n",
        "  \n",
        "worksheet.update_cells(cell_list)\n",
        "worksheet.update_cells(cell_list2)\n",
        "\n",
        "#\n",
        "worksheet.append_row(temperature)\n",
        "worksheet.append_row(pressure.tolist())\n",
        "\n",
        "\n",
        "# https://gspread.readthedocs.io/en/latest/index.html"
      ],
      "execution_count": 0,
      "outputs": [
        {
          "output_type": "stream",
          "text": [
            "methane  buble point temperature  -42.17772086617717  at pressure  1.0\n",
            "methane  entalpy of vaporization  (303.40514081044967, ' kJ/kg')\n"
          ],
          "name": "stdout"
        },
        {
          "output_type": "error",
          "ename": "AttributeError",
          "evalue": "ignored",
          "traceback": [
            "\u001b[0;31m---------------------------------------------------------------------------\u001b[0m",
            "\u001b[0;31mAttributeError\u001b[0m                            Traceback (most recent call last)",
            "\u001b[0;32m<ipython-input-23-7f55ce1b4282>\u001b[0m in \u001b[0;36m<module>\u001b[0;34m()\u001b[0m\n\u001b[1;32m     48\u001b[0m \u001b[0mworksheet\u001b[0m\u001b[0;34m.\u001b[0m\u001b[0mappend_row\u001b[0m\u001b[0;34m(\u001b[0m\u001b[0mpressure\u001b[0m\u001b[0;34m.\u001b[0m\u001b[0mtolist\u001b[0m\u001b[0;34m(\u001b[0m\u001b[0;34m)\u001b[0m\u001b[0;34m)\u001b[0m\u001b[0;34m\u001b[0m\u001b[0;34m\u001b[0m\u001b[0m\n\u001b[1;32m     49\u001b[0m \u001b[0;34m\u001b[0m\u001b[0m\n\u001b[0;32m---> 50\u001b[0;31m \u001b[0mworksheet\u001b[0m\u001b[0;34m.\u001b[0m\u001b[0mappend_column\u001b[0m\u001b[0;34m(\u001b[0m\u001b[0mtemperature\u001b[0m\u001b[0;34m)\u001b[0m\u001b[0;34m\u001b[0m\u001b[0;34m\u001b[0m\u001b[0m\n\u001b[0m\u001b[1;32m     51\u001b[0m \u001b[0mworksheet\u001b[0m\u001b[0;34m.\u001b[0m\u001b[0mappend_column\u001b[0m\u001b[0;34m(\u001b[0m\u001b[0mpressure\u001b[0m\u001b[0;34m.\u001b[0m\u001b[0mtolist\u001b[0m\u001b[0;34m(\u001b[0m\u001b[0;34m)\u001b[0m\u001b[0;34m)\u001b[0m\u001b[0;34m\u001b[0m\u001b[0;34m\u001b[0m\u001b[0m\n\u001b[1;32m     52\u001b[0m \u001b[0;34m\u001b[0m\u001b[0m\n",
            "\u001b[0;31mAttributeError\u001b[0m: 'Worksheet' object has no attribute 'append_column'"
          ]
        }
      ]
    },
    {
      "metadata": {
        "id": "VGbmZh7v2QDQ",
        "colab_type": "code",
        "colab": {}
      },
      "cell_type": "code",
      "source": [
        ""
      ],
      "execution_count": 0,
      "outputs": []
    }
  ]
}