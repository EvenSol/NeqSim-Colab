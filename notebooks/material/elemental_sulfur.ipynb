{
  "nbformat": 4,
  "nbformat_minor": 0,
  "metadata": {
    "colab": {
      "provenance": [],
      "authorship_tag": "ABX9TyNzW2qplQnDdgwq8eaM4A26",
      "include_colab_link": true
    },
    "kernelspec": {
      "name": "python3",
      "display_name": "Python 3"
    },
    "language_info": {
      "name": "python"
    }
  },
  "cells": [
    {
      "cell_type": "markdown",
      "metadata": {
        "id": "view-in-github",
        "colab_type": "text"
      },
      "source": [
        "<a href=\"https://colab.research.google.com/github/EvenSol/NeqSim-Colab/blob/master/notebooks/material/elemental_sulfur.ipynb\" target=\"_parent\"><img src=\"https://colab.research.google.com/assets/colab-badge.svg\" alt=\"Open In Colab\"/></a>"
      ]
    },
    {
      "cell_type": "markdown",
      "source": [
        "# Elemental sulfur deposition in gas value chain"
      ],
      "metadata": {
        "id": "i7i1EO9rhaM8"
      }
    },
    {
      "cell_type": "markdown",
      "source": [
        "Install NeqSim\n",
        "\n",
        "https://equinor.github.io/neqsimhome/"
      ],
      "metadata": {
        "id": "Tr7Lkry0bdWq"
      }
    },
    {
      "cell_type": "code",
      "source": [
        "%%capture\n",
        "!pip install neqsim"
      ],
      "metadata": {
        "id": "nSLg4acphe4E"
      },
      "execution_count": 1,
      "outputs": []
    },
    {
      "cell_type": "markdown",
      "source": [
        "Install Reaktoro\n",
        "\n",
        "https://reaktoro.org/index.html"
      ],
      "metadata": {
        "id": "bfHPnBZDbk5H"
      }
    },
    {
      "cell_type": "code",
      "execution_count": 2,
      "metadata": {
        "id": "PbXrWGiYhYRX"
      },
      "outputs": [],
      "source": [
        "%%capture\n",
        "#https://reaktoro.org/installation/installation-in-google-colab.html\n",
        "!pip install -q condacolab\n",
        "import condacolab\n",
        "condacolab.install_from_url(\"https://repo.anaconda.com/miniconda/Miniconda3-py38_4.12.0-Linux-x86_64.sh\")\n",
        "!conda config --remove channels defaults\n",
        "!conda config --add channels conda-forge\n",
        "!conda install reaktoro -y"
      ]
    },
    {
      "cell_type": "markdown",
      "source": [
        "# Create a TP flash calculation using NeqSim"
      ],
      "metadata": {
        "id": "qjrW4G68c6zc"
      }
    },
    {
      "cell_type": "code",
      "source": [
        "import neqsim\n",
        "from neqsim import jNeqSim\n",
        "from neqsim.thermo.thermoTools import fluid, TPflash, printFrame"
      ],
      "metadata": {
        "id": "xCP38Hp7dy1K"
      },
      "execution_count": 4,
      "outputs": []
    },
    {
      "cell_type": "code",
      "source": [
        "fluid1 = fluid('srk')\n",
        "fluid1.addComponent(\"nitrogen\", 5.84704017689321e-003)\n",
        "fluid1.addComponent(\"CO2\", 0.021)\n",
        "fluid1.addComponent(\"methane\", 0.63)\n",
        "fluid1.addComponent(\"ethane\", 0.134769062252199)\n",
        "fluid1.addComponent(\"propane\", 9.11979242318279e-002)\n",
        "fluid1.addComponent(\"i-butane\", 0.020654078469792)\n",
        "fluid1.addComponent(\"n-butane\", 3.74972131983075e-002)\n",
        "fluid1.addComponent(\"i-pentane\", 1.13683864588619e-002)\n",
        "fluid1.addComponent(\"n-pentane\", 1.03129901150887e-002)\n",
        "fluid1.addComponent(\"n-hexane\", 6.103129901150887e-002)\n",
        "fluid1.addComponent(\"S8\", 10.0077E-06)\n",
        "fluid1.setMixingRule(2)\n",
        "fluid1.setMultiPhaseCheck(True)\n",
        "fluid1.setSolidPhaseCheck(\"S8\")\n",
        "\n",
        "thermoops = jNeqSim.thermodynamicOperations.ThermodynamicOperations(fluid1)\n",
        "thermoops.TPSolidflash()\n",
        "\n",
        "printFrame(fluid1)"
      ],
      "metadata": {
        "id": "cgwJk9AldEQz",
        "outputId": "c73eaac8-69e2-447a-926e-1d40f293e36c",
        "colab": {
          "base_uri": "https://localhost:8080/"
        }
      },
      "execution_count": 13,
      "outputs": [
        {
          "output_type": "stream",
          "name": "stdout",
          "text": [
            "| 0                  | 1          | 2          | 3           | 4   | 5   | 6               |\n",
            "|:-------------------|:-----------|:-----------|:------------|:----|:----|:----------------|\n",
            "|                    | total      | GAS        | SOLID       |     |     |                 |\n",
            "| nitrogen           | 5.71174E-3 | 5.7118E-3  | 0E0         |     |     | [mole fraction] |\n",
            "| CO2                | 2.05141E-2 | 2.05143E-2 | 0E0         |     |     | [mole fraction] |\n",
            "| methane            | 6.15422E-1 | 6.15428E-1 | 0E0         |     |     | [mole fraction] |\n",
            "| ethane             | 1.31651E-1 | 1.31652E-1 | 0E0         |     |     | [mole fraction] |\n",
            "| propane            | 8.90876E-2 | 8.90885E-2 | 0E0         |     |     | [mole fraction] |\n",
            "| i-butane           | 2.01761E-2 | 2.01763E-2 | 0E0         |     |     | [mole fraction] |\n",
            "| n-butane           | 3.66295E-2 | 3.66299E-2 | 0E0         |     |     | [mole fraction] |\n",
            "| i-pentane          | 1.11053E-2 | 1.11054E-2 | 0E0         |     |     | [mole fraction] |\n",
            "| n-pentane          | 1.00743E-2 | 1.00744E-2 | 0E0         |     |     | [mole fraction] |\n",
            "| n-hexane           | 5.9619E-2  | 5.96196E-2 | 0E0         |     |     | [mole fraction] |\n",
            "| S8                 | 9.77612E-6 | 6.57025E-9 | 1E0         |     |     | [mole fraction] |\n",
            "|                    |            |            |             |     |     |                 |\n",
            "| Density            |            | 1.18406E0  | 2.02696E3   |     |     | [kg/m^3]        |\n",
            "| PhaseFraction      |            | 9.9999E-1  | 9.76955E-6  |     |     | [mole fraction] |\n",
            "| MolarMass          | 2.87934E1  | 2.87912E1  | 2.5648E2    |     |     | [kg/kmol]       |\n",
            "| Z factor           |            | 9.93999E-1 | 5.7302E-3   |     |     | [-]             |\n",
            "| Heat Capacity (Cp) |            | 1.8526E0   | 9.11345E-1  |     |     | [kJ/kg*K]       |\n",
            "| Heat Capacity (Cv) |            | 1.55627E0  | 8.52445E-1  |     |     | [kJ/kg*K]       |\n",
            "| Speed of Sound     |            | 3.18226E2  | 1.75686E3   |     |     | [m/sec]         |\n",
            "| Enthalpy           | 4.33522E1  | 4.33864E1  | -3.50174E2  |     |     | [kJ/kg]         |\n",
            "| Entropy            | 5.45018E-1 | 5.45103E-1 | -4.31446E-1 |     |     | [kJ/kg*K]       |\n",
            "| JT coefficient     |            | 8.71141E-1 | -5.52995E-2 |     |     | [K/bar]         |\n",
            "|                    |            |            |             |     |     |                 |\n",
            "| Viscosity          |            | 1.01783E-5 | NaN         |     |     | [kg/m*sec]      |\n",
            "| Conductivity       |            | 2.62259E-2 | 2.18E0      |     |     | [W/m*K]         |\n",
            "| SurfaceTension     |            | 3.20479E-1 | 3.20479E-1  |     |     | [N/m]           |\n",
            "|                    |            |            |             |     |     |                 |\n",
            "|                    |            |            |             |     |     |                 |\n",
            "|                    |            |            |             |     |     |                 |\n",
            "| Pressure           |            | 1.01325    | 1.01325     |     |     | [bar]           |\n",
            "| Temperature        |            | 298.15     | 298.15      |     |     | [K]             |\n",
            "|                    |            |            |             |     |     |                 |\n",
            "| Model              |            | SRK-EOS    | SRK-EOS     |     |     | -               |\n",
            "| Mixing Rule        |            | classic    | no (kij=0)  |     |     | -               |\n",
            "|                    |            |            |             |     |     |                 |\n",
            "| Stream             |            |            |             |     |     | -               |\n",
            "|                    |            |            |             |     |     |                 |\n",
            "|                    |            |            |             |     |     |                 |\n",
            "|                    |            |            |             |     |     |                 |\n",
            "|                    |            |            |             |     |     |                 |\n"
          ]
        }
      ]
    },
    {
      "cell_type": "markdown",
      "source": [
        "#Calculate solid formation from stream"
      ],
      "metadata": {
        "id": "kYd8FqKeeiTi"
      }
    },
    {
      "cell_type": "code",
      "source": [
        "fluid1.setTemperature(50.0, 'C')\n",
        "fluid1.setPressure(70.0, 'bara')\n",
        "thermoops.TPSolidflash()\n",
        "\n",
        "printFrame(fluid1)\n",
        "\n",
        "from neqsim.process import compressor, cooler, separator3phase, getProcess, clearProcess, compsplitter, mixer, heater, stream, pump, separator, runProcess, stream, saturator, valve, filters, heatExchanger, simpleTEGAbsorber,distillationColumn, waterStripperColumn, recycle2, setpoint, calculator\n",
        "\n",
        "clearProcess() #reset process simulation\n",
        "\n",
        "##"
      ],
      "metadata": {
        "id": "MUQvxhxcgAss",
        "outputId": "a06e0f88-8b38-4871-d24d-2a9ba8b3f983",
        "colab": {
          "base_uri": "https://localhost:8080/"
        }
      },
      "execution_count": 15,
      "outputs": [
        {
          "output_type": "stream",
          "name": "stdout",
          "text": [
            "| 0                  | 1           | 2          | 3           | 4   | 5   | 6               |\n",
            "|:-------------------|:------------|:-----------|:------------|:----|:----|:----------------|\n",
            "|                    | total       | GAS        | OIL         |     |     |                 |\n",
            "| nitrogen           | 5.71174E-3  | 6.87134E-3 | 1.22888E-3  |     |     | [mole fraction] |\n",
            "| CO2                | 2.05141E-2  | 2.23233E-2 | 1.35197E-2  |     |     | [mole fraction] |\n",
            "| methane            | 6.15422E-1  | 7.09236E-1 | 2.52749E-1  |     |     | [mole fraction] |\n",
            "| ethane             | 1.31651E-1  | 1.31622E-1 | 1.31761E-1  |     |     | [mole fraction] |\n",
            "| propane            | 8.90876E-2  | 7.27257E-2 | 1.52341E-1  |     |     | [mole fraction] |\n",
            "| i-butane           | 2.01761E-2  | 1.3294E-2  | 4.67816E-2  |     |     | [mole fraction] |\n",
            "| n-butane           | 3.66295E-2  | 2.16821E-2 | 9.44145E-2  |     |     | [mole fraction] |\n",
            "| i-pentane          | 1.11053E-2  | 4.77914E-3 | 3.55616E-2  |     |     | [mole fraction] |\n",
            "| n-pentane          | 1.00743E-2  | 3.88679E-3 | 3.39947E-2  |     |     | [mole fraction] |\n",
            "| n-hexane           | 5.9619E-2   | 1.358E-2   | 2.376E-1    |     |     | [mole fraction] |\n",
            "| S8                 | 9.77612E-6  | 7.19758E-9 | 4.75416E-5  |     |     | [mole fraction] |\n",
            "|                    |             |            |             |     |     |                 |\n",
            "| Density            |             | 7.67476E1  | 4.78951E2   |     |     | [kg/m^3]        |\n",
            "| PhaseFraction      |             | 7.94487E-1 | 2.05513E-1  |     |     | [mole fraction] |\n",
            "| MolarMass          | 2.87934E1   | 2.35465E1  | 4.90773E1   |     |     | [kg/kmol]       |\n",
            "| Z factor           |             | 8.04256E-1 | 2.8613E-1   |     |     | [-]             |\n",
            "| Heat Capacity (Cp) |             | 2.73154E0  | 2.8059E0    |     |     | [kJ/kg*K]       |\n",
            "| Heat Capacity (Cv) |             | 1.72143E0  | 1.93035E0   |     |     | [kJ/kg*K]       |\n",
            "| Speed of Sound     |             | 3.46908E2  | 5.47382E2   |     |     | [m/sec]         |\n",
            "| Enthalpy           | -8.14288E1  | 4.05372E0  | -2.39981E2  |     |     | [kJ/kg]         |\n",
            "| Entropy            | -9.50572E-1 | -1.00977E0 | -8.40769E-1 |     |     | [kJ/kg*K]       |\n",
            "| JT coefficient     |             | 5.1575E-1  | 1.36838E-2  |     |     | [K/bar]         |\n",
            "|                    |             |            |             |     |     |                 |\n",
            "| Viscosity          |             | 1.41045E-5 | 9.15218E-5  |     |     | [kg/m*sec]      |\n",
            "| Conductivity       |             | 3.9979E-2  | 8.46007E-2  |     |     | [W/m*K]         |\n",
            "| SurfaceTension     |             | 2.88397E-3 | 2.88397E-3  |     |     | [N/m]           |\n",
            "|                    |             |            |             |     |     |                 |\n",
            "|                    |             |            |             |     |     |                 |\n",
            "|                    |             |            |             |     |     |                 |\n",
            "| Pressure           |             | 70.0       | 70.0        |     |     | [bar]           |\n",
            "| Temperature        |             | 323.15     | 323.15      |     |     | [K]             |\n",
            "|                    |             |            |             |     |     |                 |\n",
            "| Model              |             | SRK-EOS    | SRK-EOS     |     |     | -               |\n",
            "| Mixing Rule        |             | classic    | classic     |     |     | -               |\n",
            "|                    |             |            |             |     |     |                 |\n",
            "| Stream             |             |            |             |     |     | -               |\n",
            "|                    |             |            |             |     |     |                 |\n",
            "|                    |             |            |             |     |     |                 |\n",
            "|                    |             |            |             |     |     |                 |\n",
            "|                    |             |            |             |     |     |                 |\n"
          ]
        }
      ]
    }
  ]
}