{
  "nbformat": 4,
  "nbformat_minor": 0,
  "metadata": {
    "colab": {
      "name": "ThermodynamicsOfCorrosion.ipynb",
      "provenance": [],
      "include_colab_link": true
    },
    "kernelspec": {
      "name": "python3",
      "display_name": "Python 3"
    }
  },
  "cells": [
    {
      "cell_type": "markdown",
      "metadata": {
        "id": "view-in-github",
        "colab_type": "text"
      },
      "source": [
        "<a href=\"https://colab.research.google.com/github/EvenSol/NeqSim-Colab/blob/master/notebooks/material/corrosionandthermo.ipynb\" target=\"_parent\"><img src=\"https://colab.research.google.com/assets/colab-badge.svg\" alt=\"Open In Colab\"/></a>"
      ]
    },
    {
      "cell_type": "code",
      "metadata": {
        "id": "c7oLiYgcEV2Y",
        "cellView": "form"
      },
      "source": [
        "#@title Thermodynamics of corrosion\n",
        "#@markdown This notebook describes corrosion related to oil and gas production.\n",
        "%%capture\n",
        "!pip install neqsim\n",
        "import neqsim\n",
        "from neqsim.thermo.thermoTools import *\n",
        "import matplotlib\n",
        "import numpy as np\n",
        "import matplotlib.pyplot as plt\n",
        "import math\n",
        "%matplotlib inline"
      ],
      "execution_count": null,
      "outputs": []
    },
    {
      "cell_type": "code",
      "metadata": {
        "id": "9Kkz5ZeLEyRv",
        "cellView": "form"
      },
      "source": [
        "#@title Fundamentals of Scale Formation\n",
        "#@markdown This video gives an introduction to mineral scale in oil and gas production\n",
        "#@markdown  https://www.youtube.com/watch?v=ahlGXV8tqC8\n"
      ],
      "execution_count": null,
      "outputs": []
    },
    {
      "cell_type": "markdown",
      "source": [
        "#Corrosion\n",
        "Corrosion inhibitors in gas pipelines play a crucial role in the transport of natural gas. These inhibitors are chemicals added to the gas or the pipeline to prevent or reduce corrosion, which can be caused by various factors such as moisture, acids, or bacterial activity in the pipeline.\n",
        "\n",
        "The effectiveness of a corrosion inhibitor depends on its chemical composition and the conditions inside the pipeline, like temperature, pressure, and the composition of the gas. Common types of corrosion inhibitors used in gas pipelines include:\n",
        "\n",
        "1. **Film-forming Inhibitors**: These create a protective layer on the inner surface of the pipeline, preventing corrosive substances from contacting the metal. They are often organic compounds containing elements like nitrogen, oxygen, or sulfur, which can bond to the metal surface.\n",
        "\n",
        "2. **Scavengers**: These chemicals react with corrosive substances, such as hydrogen sulfide or oxygen, neutralizing them before they can cause damage. For example, oxygen scavengers will react with dissolved oxygen, preventing it from reacting with the pipeline material.\n",
        "\n",
        "3. **Biocides**: Used to control the growth of bacteria that can cause microbiologically influenced corrosion (MIC). These bacteria can produce acids or other corrosive by-products that accelerate corrosion in pipelines.\n",
        "\n",
        "4. **Neutralizing Inhibitors**: These are alkaline substances that neutralize acids present in the gas stream, which could otherwise lead to acidic corrosion.\n",
        "\n",
        "The choice of a corrosion inhibitor is based on the specific conditions and requirements of each pipeline and the nature of the gas being transported. Regular monitoring and maintenance are also essential to ensure the long-term effectiveness of these inhibitors and the safety and integrity of the gas pipeline.\n",
        "\n",
        "Certainly! Here are some key chemical equations related to corrosion inhibitors in gas pipelines, formatted in Markdown:\n",
        "\n",
        "### Corrosion Inhibitors in Gas Pipelines\n",
        "\n",
        "#### Introduction\n",
        "Corrosion inhibitors are chemicals used in gas pipelines to prevent or mitigate the corrosion process. Below are essential chemical reactions involved in this context.\n",
        "\n",
        "#### Key Chemical Equations\n",
        "\n",
        "1. **General Corrosion Reaction:**\n",
        "   - Iron oxidation (corrosion):\n",
        "     ```markdown\n",
        "     Fe (s) → Fe²⁺ (aq) + 2e⁻\n",
        "     ```\n",
        "   - Oxygen reduction (in the presence of water):\n",
        "     ```markdown\n",
        "     O₂ (g) + 2H₂O (l) + 4e⁻ → 4OH⁻ (aq)\n",
        "     ```\n",
        "\n",
        "2. **Action of Film-Forming Inhibitors:**\n",
        "   - Example with an amine-based inhibitor:\n",
        "     ```markdown\n",
        "     R-NH₂ + Fe → [Fe-NH₂-R] (surface complex)\n",
        "     ```\n",
        "\n",
        "3. **Scavenging Reaction:**\n",
        "   - Oxygen scavenger reaction (e.g., with hydrazine):\n",
        "     ```markdown\n",
        "     N₂H₄ + O₂ → N₂ + 2H₂O\n",
        "     ```\n",
        "\n",
        "4. **Neutralization of Acids:**\n",
        "   - Neutralizing H₂S with an alkaline inhibitor:\n",
        "     ```markdown\n",
        "     2NaOH + H₂S → Na₂S + 2H₂O\n",
        "     ```\n",
        "\n",
        "These reactions are simplified representations of the complex chemistry involved in the corrosion inhibition process in gas pipelines.\n"
      ],
      "metadata": {
        "id": "8pvsHV0tokFe"
      }
    },
    {
      "cell_type": "code",
      "metadata": {
        "id": "EeJ3zgxwP9mv",
        "colab": {
          "base_uri": "https://localhost:8080/",
          "height": 383
        },
        "outputId": "3c76bf5e-86fb-471f-fd65-f57006bf60f2"
      },
      "source": [
        "#@title  Calculation of thermodynamics of corrosion\n",
        "\n",
        "from neqsim.thermo import fluid, TPflash, checkScalePotential\n",
        "nitrogen = 1.0 #@param {type:\"number\"}\n",
        "CO2 = 1.1 #@param {type:\"number\"}\n",
        "methane = 88.3  #@param {type:\"number\"}\n",
        "ethane = 5.0  #@param {type:\"number\"}\n",
        "propane =  1.5 #@param {type:\"number\"}\n",
        "water =  1.25 #@param {type:\"number\"}\n",
        "Naplus =  0.025 #@param {type:\"number\"}\n",
        "Clminus =  0.025 #@param {type:\"number\"}\n",
        "Caplus =  0.00025 #@param {type:\"number\"}\n",
        "Feplus =  0.00025 #@param {type:\"number\"}\n",
        "OHminus =  0.00025 #@param {type:\"number\"}\n",
        "\n",
        "fluid1 = fluid('Electrolyte-CPA-EoS')\n",
        "fluid1.addComponent(\"nitrogen\", nitrogen)\n",
        "fluid1.addComponent(\"CO2\", CO2)\n",
        "fluid1.addComponent(\"methane\", methane)\n",
        "fluid1.addComponent(\"ethane\", ethane)\n",
        "fluid1.addComponent(\"propane\", propane)\n",
        "fluid1.addComponent(\"water\", water,\"kg/sec\")\n",
        "fluid1.addComponent(\"Na+\", Naplus,\"mol/sec\")\n",
        "fluid1.addComponent(\"Cl-\", Clminus,\"mol/sec\")\n",
        "fluid1.addComponent(\"Ca++\", Caplus,\"mol/sec\")\n",
        "fluid1.addComponent(\"Fe++\", Feplus,\"mol/sec\")\n",
        "fluid1.addComponent(\"OH-\", OHminus,\"mol/sec\")\n",
        "fluid1.chemicalReactionInit()\n",
        "fluid1.setMixingRule(10)\n",
        "\n",
        "TPflash(fluid1)\n",
        "ionCompResults = calcIonComposition(fluid1)\n",
        "scaleResults = checkScalePotential(fluid1)\n",
        "\n",
        "print(\"pH of water \",fluid1.getPhase(\"aqueous\").getpH())\n",
        "\n",
        "import pandas\n",
        "printFrame(fluid1)\n",
        "print(\"Composition of aqueous phase:\")\n",
        "print(pandas.DataFrame(ionCompResults).to_markdown(index=False))\n",
        "print(\"Relative solubility in salts:\")\n",
        "print(pandas.DataFrame(scaleResults).to_markdown(index=False))"
      ],
      "execution_count": null,
      "outputs": [
        {
          "output_type": "error",
          "ename": "ModuleNotFoundError",
          "evalue": "ignored",
          "traceback": [
            "\u001b[0;31m---------------------------------------------------------------------------\u001b[0m",
            "\u001b[0;31mModuleNotFoundError\u001b[0m                       Traceback (most recent call last)",
            "\u001b[0;32m<ipython-input-3-e78bf5e750b4>\u001b[0m in \u001b[0;36m<cell line: 3>\u001b[0;34m()\u001b[0m\n\u001b[1;32m      1\u001b[0m \u001b[0;31m#@title  Calculation of thermodynamics of corrosion\u001b[0m\u001b[0;34m\u001b[0m\u001b[0;34m\u001b[0m\u001b[0m\n\u001b[1;32m      2\u001b[0m \u001b[0;34m\u001b[0m\u001b[0m\n\u001b[0;32m----> 3\u001b[0;31m \u001b[0;32mfrom\u001b[0m \u001b[0mneqsim\u001b[0m\u001b[0;34m.\u001b[0m\u001b[0mthermo\u001b[0m \u001b[0;32mimport\u001b[0m \u001b[0mfluid\u001b[0m\u001b[0;34m,\u001b[0m \u001b[0mTPflash\u001b[0m\u001b[0;34m,\u001b[0m \u001b[0mcheckScalePotential\u001b[0m\u001b[0;34m\u001b[0m\u001b[0;34m\u001b[0m\u001b[0m\n\u001b[0m\u001b[1;32m      4\u001b[0m \u001b[0mnitrogen\u001b[0m \u001b[0;34m=\u001b[0m \u001b[0;36m1.0\u001b[0m \u001b[0;31m#@param {type:\"number\"}\u001b[0m\u001b[0;34m\u001b[0m\u001b[0;34m\u001b[0m\u001b[0m\n\u001b[1;32m      5\u001b[0m \u001b[0mCO2\u001b[0m \u001b[0;34m=\u001b[0m \u001b[0;36m1.1\u001b[0m \u001b[0;31m#@param {type:\"number\"}\u001b[0m\u001b[0;34m\u001b[0m\u001b[0;34m\u001b[0m\u001b[0m\n",
            "\u001b[0;31mModuleNotFoundError\u001b[0m: No module named 'neqsim'",
            "",
            "\u001b[0;31m---------------------------------------------------------------------------\u001b[0;32m\nNOTE: If your import is failing due to a missing package, you can\nmanually install dependencies using either !pip or !apt.\n\nTo view examples of installing some common dependencies, click the\n\"Open Examples\" button below.\n\u001b[0;31m---------------------------------------------------------------------------\u001b[0m\n"
          ],
          "errorDetails": {
            "actions": [
              {
                "action": "open_url",
                "actionText": "Open Examples",
                "url": "/notebooks/snippets/importing_libraries.ipynb"
              }
            ]
          }
        }
      ]
    }
  ]
}