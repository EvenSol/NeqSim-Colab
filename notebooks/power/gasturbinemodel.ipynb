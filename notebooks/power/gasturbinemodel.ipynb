{
  "nbformat": 4,
  "nbformat_minor": 0,
  "metadata": {
    "colab": {
      "provenance": [],
      "authorship_tag": "ABX9TyPK6syujbknhS8PJpBbsOVn",
      "include_colab_link": true
    },
    "kernelspec": {
      "name": "python3",
      "display_name": "Python 3"
    },
    "language_info": {
      "name": "python"
    }
  },
  "cells": [
    {
      "cell_type": "markdown",
      "metadata": {
        "id": "view-in-github",
        "colab_type": "text"
      },
      "source": [
        "<a href=\"https://colab.research.google.com/github/EvenSol/NeqSim-Colab/blob/master/notebooks/power/gasturbinemodel.ipynb\" target=\"_parent\"><img src=\"https://colab.research.google.com/assets/colab-badge.svg\" alt=\"Open In Colab\"/></a>"
      ]
    },
    {
      "cell_type": "code",
      "execution_count": 1,
      "metadata": {
        "colab": {
          "base_uri": "https://localhost:8080/"
        },
        "id": "PLyQ2SYYDIL6",
        "outputId": "87a306a7-5478-4206-dd13-03674267e4ce"
      },
      "outputs": [
        {
          "output_type": "stream",
          "name": "stdout",
          "text": [
            "Collecting neqsim\n",
            "  Downloading neqsim-2.5.7.1-py3-none-any.whl (28.2 MB)\n",
            "\u001b[2K     \u001b[90m━━━━━━━━━━━━━━━━━━━━━━━━━━━━━━━━━━━━━━━━\u001b[0m \u001b[32m28.2/28.2 MB\u001b[0m \u001b[31m20.3 MB/s\u001b[0m eta \u001b[36m0:00:00\u001b[0m\n",
            "\u001b[?25hCollecting jpype1 (from neqsim)\n",
            "  Downloading JPype1-1.4.1-cp310-cp310-manylinux_2_12_x86_64.manylinux2010_x86_64.whl (465 kB)\n",
            "\u001b[2K     \u001b[90m━━━━━━━━━━━━━━━━━━━━━━━━━━━━━━━━━━━━━━\u001b[0m \u001b[32m465.3/465.3 kB\u001b[0m \u001b[31m33.6 MB/s\u001b[0m eta \u001b[36m0:00:00\u001b[0m\n",
            "\u001b[?25hRequirement already satisfied: pandas in /usr/local/lib/python3.10/dist-packages (from neqsim) (1.5.3)\n",
            "Requirement already satisfied: packaging in /usr/local/lib/python3.10/dist-packages (from jpype1->neqsim) (23.2)\n",
            "Requirement already satisfied: python-dateutil>=2.8.1 in /usr/local/lib/python3.10/dist-packages (from pandas->neqsim) (2.8.2)\n",
            "Requirement already satisfied: pytz>=2020.1 in /usr/local/lib/python3.10/dist-packages (from pandas->neqsim) (2023.3.post1)\n",
            "Requirement already satisfied: numpy>=1.21.0 in /usr/local/lib/python3.10/dist-packages (from pandas->neqsim) (1.23.5)\n",
            "Requirement already satisfied: six>=1.5 in /usr/local/lib/python3.10/dist-packages (from python-dateutil>=2.8.1->pandas->neqsim) (1.16.0)\n",
            "Installing collected packages: jpype1, neqsim\n",
            "Successfully installed jpype1-1.4.1 neqsim-2.5.7.1\n"
          ]
        }
      ],
      "source": [
        "!pip install neqsim"
      ]
    },
    {
      "cell_type": "markdown",
      "source": [
        "#Brayton cycle\n",
        "The Brayton cycle is a thermodynamic cycle named after George Brayton that describes the workings of a constant-pressure heat engine. The original Brayton engines used a piston compressor and piston expander, but more modern gas turbine engines and airbreathing jet engines also follow the Brayton cycle. Although the cycle is usually run as an open system (and indeed must be run as such if internal combustion is used), it is conventionally assumed for the purposes of thermodynamic analysis that the exhaust gases are reused in the intake, enabling analysis as a closed system.\n",
        "\n",
        "The efficiency of the ideal Brayton cycle is\n",
        "\n",
        "$\\eta = 1 - \\frac {T_1}{T_2} = 1 - \\left(\\frac{P_1}{P_2}\\right)^{(\\gamma-1)/\\gamma} $\n",
        "\n",
        "\n",
        "https://en.wikipedia.org/wiki/Brayton_cycle\n",
        "\n",
        "Ideal Brayton cycle:\n",
        "1. isentropic process – ambient air is drawn into the compressor, where it is pressurized.\n",
        "2. isobaric process – the compressed air then runs through a combustion chamber, where fuel is burned, heating that air—a constant-pressure process, since the chamber is open to flow in and out.\n",
        "3. isentropic process – the heated, pressurized air then gives up its energy, expanding through a turbine (or series of turbines). Some of the work extracted by the turbine is used to drive the compressor.\n",
        "4. isobaric process – heat rejection (in the atmosphere)."
      ],
      "metadata": {
        "id": "jh-ULiayDuY0"
      }
    },
    {
      "cell_type": "code",
      "source": [
        "#@markdown Simulation of a Braiton Cycle in neqsim\n",
        "import neqsim\n",
        "from neqsim.thermo.thermoTools import *\n",
        "from neqsim.standards import ISO6976\n",
        "\n",
        "T1 = 15.0\n",
        "P1 = 1.01325\n",
        "\n",
        "T2 = 30.0\n",
        "P2 = 15.4\n",
        "\n",
        "drygas = createfluid('dry gas')\n",
        "drygas.setPressure(P2, \"bara\")\n",
        "drygas.setTemperature(T2, \"C\")\n",
        "drygas.setTotalFlowRate(14.8, \"kg/sec\")\n",
        "TPflash(drygas)\n",
        "\n",
        "#printFrame(drygas)\n",
        "\n",
        "air =  createfluid('air')\n",
        "air.setPressure(P1, \"bara\")\n",
        "air.setTemperature(T1, \"C\")\n",
        "air.setTotalFlowRate(630.0, \"kg/sec\")\n",
        "TPflash(air)\n",
        "\n",
        "S1 = air.getEntropy(\"kJ/kgK\")\n",
        "H1 = air.getEnthalpy(\"kJ/kg\")\n",
        "V1 = air.getVolume(\"m3\")\n",
        "P1 = air.getPressure(\"bara\")\n",
        "T1 = air.getTemperature(\"C\")\n",
        "\n",
        "# 1. adiabatic process – compression\n",
        "air.setPressure(P2, \"bara\")\n",
        "PSflash(air, S1, \"kJ/kgK\")\n",
        "printFrame(air)\n",
        "\n",
        "S2 = air.getEntropy(\"kJ/kgK\")\n",
        "H2 = air.getEnthalpy(\"kJ/kg\")\n",
        "V2 = air.getVolume(\"m3\")\n",
        "P2 = air.getPressure(\"bara\")\n",
        "T2 = air.getTemperature(\"C\")\n",
        "\n",
        "\n",
        "# 2. isobaric process – heat addition\n",
        "GCVgas = GCV(drygas, 'kJ/kg')\n",
        "energyCombustion = GCVgas*1000.0*drygas.getFlowRate(\"kg/sec\")\n",
        "air.setTemperature(1400.0)\n",
        "PHflash(air, air.getEnthalpy()+energyCombustion, \"J\")\n",
        "\n",
        "S3 = air.getEntropy(\"kJ/kgK\")\n",
        "H3 = air.getEnthalpy(\"kJ/kg\")\n",
        "V3 = air.getVolume(\"m3\")\n",
        "P3 = air.getPressure(\"bara\")\n",
        "T3 = air.getTemperature(\"C\")\n",
        "\n",
        "# 3. adiabatic process – expansion\n",
        "air.setPressure(P1, \"bara\")\n",
        "PSflash(air, S3,\"kJ/kgK\")\n",
        "\n",
        "S4 = air.getEntropy(\"kJ/kgK\")\n",
        "H4 = air.getEnthalpy(\"kJ/kg\")\n",
        "V4 = air.getVolume(\"m3\")\n",
        "P4 = air.getPressure(\"bara\")\n",
        "T4 = air.getTemperature(\"C\")\n",
        "\n",
        "# 4. isobaric process – heat rejection\n",
        "PHflash(air, H1, \"kJ/kg\")\n",
        "\n",
        "S5 = air.getEntropy(\"kJ/kgK\")\n",
        "H5 = air.getEnthalpy(\"kJ/kg\")\n",
        "V5 = air.getVolume(\"m3\")\n",
        "P5 = air.getPressure(\"bara\")\n",
        "T5 = air.getTemperature(\"C\")\n",
        "\n",
        "idealBrytonEff = 1.0 - T1/T2\n",
        "airMassFlow = air.getFlowRate(\"kg/sec\")\n",
        "fuelMassFLow = drygas.getFlowRate(\"kg/sec\")\n",
        "AFR = airMassFlow/fuelMassFLow\n",
        "print(\"air fuel ratio \", AFR, \" kg/kg\")\n",
        "\n",
        "print(\"air inlet flow \", V1 , \" m3/sec\")\n",
        "print(\"fuel inlet flow \", drygas.getFlowRate(\"kg/sec\") , \" kg/sec\")\n",
        "print(\"compressor power \", (H2-H1)*airMassFlow/1e3 , \" MW\")\n",
        "print(\"Heat of combustion \", GCVgas/1e3, \" MJ/kg\")\n",
        "print(\"Turbine power \", (H3-H4)*airMassFlow/1e3, \" MW\")\n",
        "print(\"Temperature of air to turbine \", T3, \" C\")\n",
        "print(\"Temperature of exhaust air \", T4, \" C\")\n",
        "\n",
        "powerOutput = (H3-H4)*airMassFlow/1e3 - (H2-H1)*airMassFlow/1e3\n",
        "print(\"plant net output \", powerOutput, \" MW\")\n",
        "netEfficiency = powerOutput/(energyCombustion/1e6)\n",
        "print(\"efficiency \", netEfficiency)\n",
        "#plot results in Ts-diagram\n",
        "entropy = [S1, S2,S3, S4, S5]\n",
        "temperature = [T1, T2, T3, T4, T5]\n",
        "import matplotlib\n",
        "import matplotlib.pyplot as plt\n",
        "plt.plot(entropy, temperature);\n",
        "plt.xlabel('Entropy [kJ/kgK]');\n",
        "plt.ylabel('Temperature [C]');\n",
        "plt.show()"
      ],
      "metadata": {
        "id": "9qw5OuuxDKRK",
        "outputId": "7a43a118-0cbc-475d-ca54-5583c819a90a",
        "colab": {
          "base_uri": "https://localhost:8080/",
          "height": 1000
        }
      },
      "execution_count": 2,
      "outputs": [
        {
          "output_type": "stream",
          "name": "stdout",
          "text": [
            "| 0                  | 1          | 2                 | 3   | 4   | 5   | 6               |\n",
            "|:-------------------|:-----------|:------------------|:----|:----|:----|:----------------|\n",
            "|                    | total      | GAS               |     |     |     |                 |\n",
            "| nitrogen           | 7.8E-1     | 7.8E-1            |     |     |     | [mole fraction] |\n",
            "| oxygen             | 2.2E-1     | 2.2E-1            |     |     |     | [mole fraction] |\n",
            "|                    |            |                   |     |     |     |                 |\n",
            "| Density            |            | 8.61263E0         |     |     |     | [kg/m^3]        |\n",
            "| PhaseFraction      |            | 1E0               |     |     |     | [mole fraction] |\n",
            "| MolarMass          | 2.88903E1  | 2.88903E1         |     |     |     | [kg/kmol]       |\n",
            "| Z factor           |            | 1.00661E0         |     |     |     | [-]             |\n",
            "| Heat Capacity (Cp) |            | 1.0688E0          |     |     |     | [kJ/kg*K]       |\n",
            "| Heat Capacity (Cv) |            | 7.78385E-1        |     |     |     | [kJ/kg*K]       |\n",
            "| Speed of Sound     |            | 4.97205E2         |     |     |     | [m/sec]         |\n",
            "| Enthalpy           | 3.55205E2  | 3.55205E2         |     |     |     | [kJ/kg]         |\n",
            "| Entropy            | 2.04728E-1 | 2.04728E-1        |     |     |     | [kJ/kg*K]       |\n",
            "| JT coefficient     |            | -2.23872E-2       |     |     |     | [K/bar]         |\n",
            "|                    |            |                   |     |     |     |                 |\n",
            "| Viscosity          |            | 3.15928E-5        |     |     |     | [kg/m*sec]      |\n",
            "| Conductivity       |            | 5.0719E-2         |     |     |     | [W/m*K]         |\n",
            "| SurfaceTension     |            |                   |     |     |     | [N/m]           |\n",
            "|                    |            |                   |     |     |     |                 |\n",
            "|                    |            |                   |     |     |     |                 |\n",
            "|                    |            |                   |     |     |     |                 |\n",
            "| Pressure           |            | 15.4              |     |     |     | [bar]           |\n",
            "| Temperature        |            | 617.3795116954992 |     |     |     | [K]             |\n",
            "|                    |            |                   |     |     |     |                 |\n",
            "| Model              |            | SRK-EOS           |     |     |     | -               |\n",
            "| Mixing Rule        |            | no (kij=0)        |     |     |     | -               |\n",
            "|                    |            |                   |     |     |     |                 |\n",
            "| Stream             |            |                   |     |     |     | -               |\n",
            "|                    |            |                   |     |     |     |                 |\n",
            "|                    |            |                   |     |     |     |                 |\n",
            "|                    |            |                   |     |     |     |                 |\n",
            "|                    |            |                   |     |     |     |                 |\n",
            "air fuel ratio  42.567567567567565  kg/kg\n",
            "air inlet flow  515.4805565117781  m3/sec\n",
            "fuel inlet flow  14.799999999999997  kg/sec\n",
            "compressor power  214.41245221323686  MW\n",
            "Heat of combustion  51.037102597635254  MJ/kg\n",
            "Turbine power  804.1024570588704  MW\n",
            "Temperature of air to turbine  2034.7696867251561  C\n",
            "Temperature of exhaust air  875.9855011185335  C\n",
            "plant net output  589.6900048456336  MW\n",
            "efficiency  0.7806853684553151\n"
          ]
        },
        {
          "output_type": "display_data",
          "data": {
            "text/plain": [
              "<Figure size 640x480 with 1 Axes>"
            ],
            "image/png": "[encoded data removed]"
          },
          "metadata": {}
        }
      ]
    }
  ]
}