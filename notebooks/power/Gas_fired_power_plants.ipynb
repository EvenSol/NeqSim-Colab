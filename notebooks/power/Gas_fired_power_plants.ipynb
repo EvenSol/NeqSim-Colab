{
  "nbformat": 4,
  "nbformat_minor": 0,
  "metadata": {
    "colab": {
      "provenance": [],
      "authorship_tag": "ABX9TyOXbhCQKChtFvcp0hEty/SH",
      "include_colab_link": true
    },
    "kernelspec": {
      "name": "python3",
      "display_name": "Python 3"
    },
    "language_info": {
      "name": "python"
    }
  },
  "cells": [
    {
      "cell_type": "markdown",
      "metadata": {
        "id": "view-in-github",
        "colab_type": "text"
      },
      "source": [
        "<a href=\"https://colab.research.google.com/github/EvenSol/NeqSim-Colab/blob/master/notebooks/power/Gas_fired_power_plants.ipynb\" target=\"_parent\"><img src=\"https://colab.research.google.com/assets/colab-badge.svg\" alt=\"Open In Colab\"/></a>"
      ]
    },
    {
      "cell_type": "code",
      "execution_count": 1,
      "metadata": {
        "colab": {
          "base_uri": "https://localhost:8080/"
        },
        "id": "gIOw8mVLDu9h",
        "outputId": "26581c68-6a4c-4be8-fbf9-e14803299346"
      },
      "outputs": [
        {
          "output_type": "stream",
          "name": "stdout",
          "text": [
            "Collecting neqsim\n",
            "  Downloading neqsim-2.5.5-py3-none-any.whl (28.3 MB)\n",
            "\u001b[2K     \u001b[90m━━━━━━━━━━━━━━━━━━━━━━━━━━━━━━━━━━━━━━━━\u001b[0m \u001b[32m28.3/28.3 MB\u001b[0m \u001b[31m51.3 MB/s\u001b[0m eta \u001b[36m0:00:00\u001b[0m\n",
            "\u001b[?25hCollecting jpype1 (from neqsim)\n",
            "  Downloading JPype1-1.4.1-cp310-cp310-manylinux_2_12_x86_64.manylinux2010_x86_64.whl (465 kB)\n",
            "\u001b[2K     \u001b[90m━━━━━━━━━━━━━━━━━━━━━━━━━━━━━━━━━━━━━━\u001b[0m \u001b[32m465.3/465.3 kB\u001b[0m \u001b[31m35.4 MB/s\u001b[0m eta \u001b[36m0:00:00\u001b[0m\n",
            "\u001b[?25hRequirement already satisfied: pandas in /usr/local/lib/python3.10/dist-packages (from neqsim) (1.5.3)\n",
            "Requirement already satisfied: packaging in /usr/local/lib/python3.10/dist-packages (from jpype1->neqsim) (23.1)\n",
            "Requirement already satisfied: python-dateutil>=2.8.1 in /usr/local/lib/python3.10/dist-packages (from pandas->neqsim) (2.8.2)\n",
            "Requirement already satisfied: pytz>=2020.1 in /usr/local/lib/python3.10/dist-packages (from pandas->neqsim) (2022.7.1)\n",
            "Requirement already satisfied: numpy>=1.21.0 in /usr/local/lib/python3.10/dist-packages (from pandas->neqsim) (1.22.4)\n",
            "Requirement already satisfied: six>=1.5 in /usr/local/lib/python3.10/dist-packages (from python-dateutil>=2.8.1->pandas->neqsim) (1.16.0)\n",
            "Installing collected packages: jpype1, neqsim\n",
            "Successfully installed jpype1-1.4.1 neqsim-2.5.5\n"
          ]
        }
      ],
      "source": [
        "!pip install neqsim"
      ]
    },
    {
      "cell_type": "markdown",
      "source": [
        "# Calculation of ideal air fuel ratio\n",
        "...."
      ],
      "metadata": {
        "id": "-tKe9msgD5pb"
      }
    },
    {
      "cell_type": "code",
      "source": [
        "from neqsim import jNeqSim\n",
        "from neqsim.thermo import TPflash, printFrame\n",
        "\n",
        "fluid = jNeqSim.thermo.system.SystemSrkEos((273.15 + 25.0), 10.00)\n",
        "fluid.addComponent(\"nitrogen\", 1.0)\n",
        "fluid.addComponent(\"CO2\", 1.0)\n",
        "fluid.addComponent(\"methane\", 92.0)\n",
        "fluid.addComponent(\"ethane\", 5.0)\n",
        "fluid.addComponent(\"propane\", 1.0)\n",
        "fluid.addComponent(\"i-butane\", 0.5)\n",
        "fluid.addComponent(\"n-butane\", 0.5)\n",
        "fluid.addComponent(\"i-pentane\", 0.1)\n",
        "fluid.addComponent(\"n-pentane\", 0.1)\n",
        "fluid.addComponent(\"n-hexane\", 0.01)\n",
        "fluid.setMixingRule(2)\n",
        "\n",
        "TPflash(fluid)\n",
        "\n",
        "printFrame(fluid)"
      ],
      "metadata": {
        "id": "6YC8WxyAFE0E",
        "outputId": "d5fdc41d-957c-4e9f-de09-038f3b4d3133",
        "colab": {
          "base_uri": "https://localhost:8080/"
        }
      },
      "execution_count": 14,
      "outputs": [
        {
          "output_type": "stream",
          "name": "stdout",
          "text": [
            "| 0                  | 1           | 2           | 3   | 4   | 5   | 6               |\n",
            "|:-------------------|:------------|:------------|:----|:----|:----|:----------------|\n",
            "|                    | total       | GAS         |     |     |     |                 |\n",
            "| nitrogen           | 9.88045E-3  | 9.88045E-3  |     |     |     | [mole fraction] |\n",
            "| CO2                | 9.88045E-3  | 9.88045E-3  |     |     |     | [mole fraction] |\n",
            "| methane            | 9.09001E-1  | 9.09001E-1  |     |     |     | [mole fraction] |\n",
            "| ethane             | 4.94022E-2  | 4.94022E-2  |     |     |     | [mole fraction] |\n",
            "| propane            | 9.88045E-3  | 9.88045E-3  |     |     |     | [mole fraction] |\n",
            "| i-butane           | 4.94022E-3  | 4.94022E-3  |     |     |     | [mole fraction] |\n",
            "| n-butane           | 4.94022E-3  | 4.94022E-3  |     |     |     | [mole fraction] |\n",
            "| i-pentane          | 9.88045E-4  | 9.88045E-4  |     |     |     | [mole fraction] |\n",
            "| n-pentane          | 9.88045E-4  | 9.88045E-4  |     |     |     | [mole fraction] |\n",
            "| n-hexane           | 9.88045E-5  | 9.88045E-5  |     |     |     | [mole fraction] |\n",
            "|                    |             |             |     |     |     |                 |\n",
            "| Density            |             | 7.39514E0   |     |     |     | [kg/m^3]        |\n",
            "| PhaseFraction      |             | 1E0         |     |     |     | [mole fraction] |\n",
            "| MolarMass          | 1.79413E1   | 1.79413E1   |     |     |     | [kg/kmol]       |\n",
            "| Z factor           |             | 9.79059E-1  |     |     |     | [-]             |\n",
            "| Heat Capacity (Cp) |             | 2.16883E0   |     |     |     | [kJ/kg*K]       |\n",
            "| Heat Capacity (Cv) |             | 1.64894E0   |     |     |     | [kJ/kg*K]       |\n",
            "| Speed of Sound     |             | 4.17413E2   |     |     |     | [m/sec]         |\n",
            "| Enthalpy           | 4.08103E1   | 4.08103E1   |     |     |     | [kJ/kg]         |\n",
            "| Entropy            | -7.03128E-1 | -7.03128E-1 |     |     |     | [kJ/kg*K]       |\n",
            "| JT coefficient     |             | 5.09808E-1  |     |     |     | [K/bar]         |\n",
            "|                    |             |             |     |     |     |                 |\n",
            "| Viscosity          |             | 1.13603E-5  |     |     |     | [kg/m*sec]      |\n",
            "| Conductivity       |             | 3.40577E-2  |     |     |     | [W/m*K]         |\n",
            "| SurfaceTension     |             |             |     |     |     | [N/m]           |\n",
            "|                    |             |             |     |     |     |                 |\n",
            "|                    |             |             |     |     |     |                 |\n",
            "|                    |             |             |     |     |     |                 |\n",
            "| Pressure           |             | 10.0        |     |     |     | [bar]           |\n",
            "| Temperature        |             | 298.15      |     |     |     | [K]             |\n",
            "|                    |             |             |     |     |     |                 |\n",
            "| Model              |             | SRK-EOS     |     |     |     | -               |\n",
            "| Mixing Rule        |             | classic     |     |     |     | -               |\n",
            "|                    |             |             |     |     |     |                 |\n",
            "| Stream             |             |             |     |     |     | -               |\n",
            "|                    |             |             |     |     |     |                 |\n",
            "|                    |             |             |     |     |     |                 |\n",
            "|                    |             |             |     |     |     |                 |\n",
            "|                    |             |             |     |     |     |                 |\n"
          ]
        }
      ]
    },
    {
      "cell_type": "markdown",
      "source": [
        "#Combustion properties"
      ],
      "metadata": {
        "id": "yt02oN-vFF6j"
      }
    },
    {
      "cell_type": "code",
      "source": [
        "from neqsim.standards import ISO6976\n",
        "\n",
        "referenceTemperatureVolume = \"15.0\" #@param ['0.0', '15.0', '20.0']\n",
        "referenceTemperatureCombustion = 15.0 #@param ['0.0', '15.0', '20.0']\n",
        "numberUnit = 'mass' #@param ['volume', 'mass', 'molar']\n",
        "\n",
        "iso6976 = ISO6976(fluid)\n",
        "iso6976.setReferenceType(numberUnit)\n",
        "iso6976.setVolRefT(float(referenceTemperatureVolume))\n",
        "iso6976.setEnergyRefT(float(referenceTemperatureCombustion))\n",
        "iso6976.calculate()\n",
        "\n",
        "GCV = round(iso6976.getValue(\"SuperiorCalorificValue\")/1.0e3,3)\n",
        "WI = round(iso6976.getValue(\"SuperiorWobbeIndex\")/1.0e3,3)\n",
        "WIkwh = round(iso6976.getValue(\"SuperiorWobbeIndex\")/1.0e3/3.6,3)\n",
        "relDens = round(iso6976.getValue(\"RelativeDensity\"),3)\n",
        "\n",
        "print('GCV '+ str(GCV) + ' MJ/' +numberUnit)\n",
        "print('WI '+ str(WI), ' MJ/' +numberUnit)\n",
        "print('WI '+ str(WIkwh), ' kWh/' +numberUnit)\n",
        "print('Relative density '+ str(relDens), ' [-]')"
      ],
      "metadata": {
        "colab": {
          "base_uri": "https://localhost:8080/"
        },
        "id": "XnprYFbDFIgr",
        "outputId": "c027aa4a-7111-48b2-83b0-ccd978b8e63c"
      },
      "execution_count": 15,
      "outputs": [
        {
          "output_type": "stream",
          "name": "stdout",
          "text": [
            "GCV 52.692 MJ/mass\n",
            "WI 66.882  MJ/mass\n",
            "WI 18.578  kWh/mass\n",
            "Relative density 0.621  [-]\n"
          ]
        }
      ]
    },
    {
      "cell_type": "code",
      "source": [
        "elements_h = 0.0\n",
        "elements_c = 0.0\n",
        "sum_hc = 0.0\n",
        "molmass_hc = 0.0\n",
        "wtfrac_hc = 0.0\n",
        "\n",
        "for i in range(fluid.getNumberOfComponents()):\n",
        "    if fluid.getComponent(i).isHydrocarbon():\n",
        "        sum_hc = sum_hc + fluid.getComponent(i).getz()\n",
        "        molmass_hc = molmass_hc + fluid.getComponent(i).getz() * fluid.getComponent(i).getMolarMass()\n",
        "        elements_c = elements_c + fluid.getComponent(i).getz() * fluid.getComponent(i).getElements().getNumberOfElements(\"C\")\n",
        "        elements_h = elements_h + fluid.getComponent(i).getz() * fluid.getComponent(i).getElements().getNumberOfElements(\"H\")\n",
        "\n",
        "if sum_hc == 0:\n",
        "    print('no hydrocarbons in fluid ')\n",
        "else:\n",
        "    wtfrac_hc = molmass_hc / fluid.getMolarMass()\n",
        "    molmass_hc /= sum_hc\n",
        "    elements_c /= sum_hc\n",
        "    elements_h /= sum_hc\n",
        "    aconst = elements_c + elements_h / 4\n",
        "    afr = aconst * (32.0 + 3.76 * 28.0) / 1000.0 / molmass_hc * wtfrac_hc\n",
        "    print('ideal air fluid ratio ', afr)"
      ],
      "metadata": {
        "colab": {
          "base_uri": "https://localhost:8080/"
        },
        "id": "KJgbEHLiEB5L",
        "outputId": "26e3a649-245e-4cee-f0eb-2c0b91fdbcfc"
      },
      "execution_count": 16,
      "outputs": [
        {
          "output_type": "stream",
          "name": "stdout",
          "text": [
            "ideal air fluid ratio  16.231224867401274\n"
          ]
        }
      ]
    }
  ]
}