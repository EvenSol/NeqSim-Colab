{
  "nbformat": 4,
  "nbformat_minor": 0,
  "metadata": {
    "colab": {
      "provenance": [],
      "authorship_tag": "ABX9TyNhOIMiQpNg2zxsTikUdpXW",
      "include_colab_link": true
    },
    "kernelspec": {
      "name": "python3",
      "display_name": "Python 3"
    },
    "language_info": {
      "name": "python"
    }
  },
  "cells": [
    {
      "cell_type": "markdown",
      "metadata": {
        "id": "view-in-github",
        "colab_type": "text"
      },
      "source": [
        "<a href=\"https://colab.research.google.com/github/EvenSol/NeqSim-Colab/blob/master/notebooks/power/Gas_fired_power_plants.ipynb\" target=\"_parent\"><img src=\"https://colab.research.google.com/assets/colab-badge.svg\" alt=\"Open In Colab\"/></a>"
      ]
    },
    {
      "cell_type": "code",
      "execution_count": 1,
      "metadata": {
        "colab": {
          "base_uri": "https://localhost:8080/"
        },
        "id": "gIOw8mVLDu9h",
        "outputId": "0ea84d7e-d011-4cde-b8aa-561e7d2027be"
      },
      "outputs": [
        {
          "output_type": "stream",
          "name": "stdout",
          "text": [
            "Collecting neqsim\n",
            "  Downloading neqsim-2.5.5-py3-none-any.whl (28.3 MB)\n",
            "\u001b[2K     \u001b[90m━━━━━━━━━━━━━━━━━━━━━━━━━━━━━━━━━━━━━━━━\u001b[0m \u001b[32m28.3/28.3 MB\u001b[0m \u001b[31m13.0 MB/s\u001b[0m eta \u001b[36m0:00:00\u001b[0m\n",
            "\u001b[?25hCollecting jpype1 (from neqsim)\n",
            "  Downloading JPype1-1.4.1-cp310-cp310-manylinux_2_12_x86_64.manylinux2010_x86_64.whl (465 kB)\n",
            "\u001b[2K     \u001b[90m━━━━━━━━━━━━━━━━━━━━━━━━━━━━━━━━━━━━━━\u001b[0m \u001b[32m465.3/465.3 kB\u001b[0m \u001b[31m24.8 MB/s\u001b[0m eta \u001b[36m0:00:00\u001b[0m\n",
            "\u001b[?25hRequirement already satisfied: pandas in /usr/local/lib/python3.10/dist-packages (from neqsim) (1.5.3)\n",
            "Requirement already satisfied: packaging in /usr/local/lib/python3.10/dist-packages (from jpype1->neqsim) (23.1)\n",
            "Requirement already satisfied: python-dateutil>=2.8.1 in /usr/local/lib/python3.10/dist-packages (from pandas->neqsim) (2.8.2)\n",
            "Requirement already satisfied: pytz>=2020.1 in /usr/local/lib/python3.10/dist-packages (from pandas->neqsim) (2022.7.1)\n",
            "Requirement already satisfied: numpy>=1.21.0 in /usr/local/lib/python3.10/dist-packages (from pandas->neqsim) (1.22.4)\n",
            "Requirement already satisfied: six>=1.5 in /usr/local/lib/python3.10/dist-packages (from python-dateutil>=2.8.1->pandas->neqsim) (1.16.0)\n",
            "Installing collected packages: jpype1, neqsim\n",
            "Successfully installed jpype1-1.4.1 neqsim-2.5.5\n"
          ]
        }
      ],
      "source": [
        "!pip install neqsim"
      ]
    },
    {
      "cell_type": "markdown",
      "source": [
        "# Calculation of ideal air fuel ratio\n",
        "...."
      ],
      "metadata": {
        "id": "-tKe9msgD5pb"
      }
    },
    {
      "cell_type": "code",
      "source": [
        "from neqsim import jNeqSim\n",
        "from neqsim.thermo import TPflash\n",
        "\n",
        "fluid = jNeqSim.thermo.system.SystemSrkEos((273.15 + 25.0), 10.00)\n",
        "fluid.addComponent(\"nitrogen\", 1.0)\n",
        "fluid.addComponent(\"CO2\", 1.0)\n",
        "fluid.addComponent(\"methane\", 92.0)\n",
        "fluid.addComponent(\"ethane\", 5.0)\n",
        "fluid.addComponent(\"propane\", 1.0)\n",
        "fluid.addComponent(\"i-butane\", 0.5)\n",
        "fluid.addComponent(\"n-butane\", 0.5)\n",
        "fluid.addComponent(\"i-pentane\", 0.1)\n",
        "fluid.addComponent(\"n-pentane\", 0.1)\n",
        "fluid.addComponent(\"n-hexane\", 0.01)\n",
        "fluid.setMixingRule(2)\n",
        "TPflash(fluid)"
      ],
      "metadata": {
        "id": "6YC8WxyAFE0E"
      },
      "execution_count": 6,
      "outputs": []
    },
    {
      "cell_type": "markdown",
      "source": [
        "#Combustion properties"
      ],
      "metadata": {
        "id": "yt02oN-vFF6j"
      }
    },
    {
      "cell_type": "code",
      "source": [
        "from neqsim.standards import ISO6976\n",
        "\n",
        "referenceTemperatureVolume = \"15.0\" #@param ['0.0', '15.0', '20.0']\n",
        "referenceTemperatureCombustion = 15.0 #@param ['0.0', '15.0', '20.0']\n",
        "numberUnit = 'mass' #@param ['volume', 'mass', 'molar']\n",
        "\n",
        "iso6976 = ISO6976(fluid)\n",
        "iso6976.setReferenceType(numberUnit)\n",
        "iso6976.setVolRefT(float(referenceTemperatureVolume))\n",
        "iso6976.setEnergyRefT(float(referenceTemperatureCombustion))\n",
        "iso6976.calculate()\n",
        "\n",
        "GCV = round(iso6976.getValue(\"SuperiorCalorificValue\")/1.0e3,3)\n",
        "WI = round(iso6976.getValue(\"SuperiorWobbeIndex\")/1.0e3,3)\n",
        "WIkwh = round(iso6976.getValue(\"SuperiorWobbeIndex\")/1.0e3/3.6,3)\n",
        "relDens = round(iso6976.getValue(\"RelativeDensity\"),3)\n",
        "\n",
        "print('GCV '+ str(GCV) + ' MJ/' +numberUnit)\n",
        "print('WI '+ str(WI), ' MJ/' +numberUnit)\n",
        "print('WI '+ str(WIkwh), ' kWh/' +numberUnit)\n",
        "print('Relative density '+ str(relDens), ' [-]')"
      ],
      "metadata": {
        "colab": {
          "base_uri": "https://localhost:8080/"
        },
        "id": "XnprYFbDFIgr",
        "outputId": "76421eb2-0f94-45eb-c6c6-0705494f2a76"
      },
      "execution_count": 9,
      "outputs": [
        {
          "output_type": "stream",
          "name": "stdout",
          "text": [
            "GCV 52.692 MJ/mass\n",
            "WI 66.882  MJ/mass\n",
            "WI 18.578  kWh/mass\n",
            "Relative density 0.621  [-]\n"
          ]
        }
      ]
    },
    {
      "cell_type": "code",
      "source": [
        "elements_h = 0.0\n",
        "elements_c = 0.0\n",
        "sum_hc = 0.0\n",
        "molmass_hc = 0.0\n",
        "wtfrac_hc = 0.0\n",
        "\n",
        "for i in range(fluid.getNumberOfComponents()):\n",
        "    if fluid.getComponent(i).isHydrocarbon():\n",
        "        sum_hc = sum_hc + fluid.getComponent(i).getz()\n",
        "        molmass_hc = molmass_hc + fluid.getComponent(i).getz() * fluid.getComponent(i).getMolarMass()\n",
        "        elements_c = elements_c + fluid.getComponent(i).getz() * fluid.getComponent(i).getElements().getNumberOfElements(\"C\")\n",
        "        elements_h = elements_h + fluid.getComponent(i).getz() * fluid.getComponent(i).getElements().getNumberOfElements(\"H\")\n",
        "\n",
        "if sum_hc == 0:\n",
        "    print('air fluid ratio ', 0)\n",
        "else:\n",
        "    wtfrac_hc = molmass_hc / fluid.getMolarMass()\n",
        "    molmass_hc /= sum_hc\n",
        "    elements_c /= sum_hc\n",
        "    elements_h /= sum_hc\n",
        "\n",
        "aconst = elements_c + elements_h / 4\n",
        "afr = aconst * (32.0 + 3.76 * 28.0) / 1000.0 / molmass_hc * wtfrac_hc\n",
        "\n",
        "print('ideal air fluid ratio ', afr)"
      ],
      "metadata": {
        "colab": {
          "base_uri": "https://localhost:8080/"
        },
        "id": "KJgbEHLiEB5L",
        "outputId": "bdb2a1ea-e7b3-49d1-ba77-a06ff17dc5e7"
      },
      "execution_count": 10,
      "outputs": [
        {
          "output_type": "stream",
          "name": "stdout",
          "text": [
            "ideal air fluid ratio  16.231224867401274\n"
          ]
        }
      ]
    }
  ]
}