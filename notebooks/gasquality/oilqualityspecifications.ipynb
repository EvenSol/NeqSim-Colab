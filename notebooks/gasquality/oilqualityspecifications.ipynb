{
  "nbformat": 4,
  "nbformat_minor": 0,
  "metadata": {
    "colab": {
      "provenance": [],
      "authorship_tag": "ABX9TyNwBZ6MvcGA72eZ/2Hu+0tl",
      "include_colab_link": true
    },
    "kernelspec": {
      "name": "python3",
      "display_name": "Python 3"
    },
    "language_info": {
      "name": "python"
    }
  },
  "cells": [
    {
      "cell_type": "markdown",
      "metadata": {
        "id": "view-in-github",
        "colab_type": "text"
      },
      "source": [
        "<a href=\"https://colab.research.google.com/github/EvenSol/NeqSim-Colab/blob/master/notebooks/gasquality/oilqualityspecifications.ipynb\" target=\"_parent\"><img src=\"https://colab.research.google.com/assets/colab-badge.svg\" alt=\"Open In Colab\"/></a>"
      ]
    },
    {
      "cell_type": "code",
      "execution_count": 1,
      "metadata": {
        "id": "kAtDYiwd93Se"
      },
      "outputs": [],
      "source": [
        "%%capture\n",
        "!pip install neqsim"
      ]
    },
    {
      "cell_type": "markdown",
      "source": [
        "**Introduction to Oil Quality Specification in Oil Processing**\n",
        "\n",
        "Oil processing, a significant component of the energy and industrial sectors, deals with the transformation of crude oil into useful products such as gasoline, diesel, jet fuel, and many petrochemicals. The quality of these processed products is essential not only for their end-use efficiency but also for environmental, safety, and economic reasons. Therefore, understanding and adhering to oil quality specifications is of utmost importance for refiners and distributors.\n",
        "\n",
        "**1. Basic Composition of Crude Oil:**\n",
        "Crude oil is a complex mixture of hydrocarbons, varying in molecular size, structure, and properties. The composition includes:\n",
        "- Paraffins (alkanes): $ C_nH_{2n+2} $\n",
        "- Naphthenes (cycloalkanes): $ C_nH_{2n} $\n",
        "- Aromatics: Based on benzene ring structures, e.g., $ C_6H_6 $\n",
        "- Other compounds containing sulfur, nitrogen, oxygen, metals, and salts.\n",
        "\n",
        "**2. Key Quality Specifications:**\n",
        "Various quality parameters are monitored to ensure the oil and its derived products meet the desired specifications. Some of the critical quality specifications include:\n",
        "\n",
        "- **Density or API Gravity:** It's a measure of how heavy or light the petroleum liquid is compared to water. It is given by the formula:\n",
        "$ \\text{API Gravity} = \\frac{141.5}{\\text{specific gravity at 60°F}} - 131.5 $\n",
        "\n",
        "- **Viscosity:** This defines the oil's resistance to flow. Higher viscosity indicates a thicker fluid. It's often reported in centistokes (cSt) or Saybolt Universal Seconds (SUS).\n",
        "\n",
        "- **Sulfur Content:** Refers to the amount of sulfur present in the oil, which when burned, can produce harmful emissions. This is commonly measured in weight percent (wt%).\n",
        "\n",
        "- **Octane Number (for Gasoline):** This indicates the anti-knocking properties of gasoline. The higher the octane number, the greater the fuel's resistance to knocking or pinging during combustion.\n",
        "\n",
        "- **Cetane Number (for Diesel):** Represents the combustion speed of diesel fuel and the amount of delay period in diesel engines. Higher cetane numbers indicate better ignition properties.\n",
        "\n",
        "- **Distillation Profile:** It gives the range of boiling points for the components of the oil. Distillation tests measure the temperatures at which various fractions of the oil evaporate.\n",
        "\n",
        "**3. Refinement Processes Impact on Quality:**\n",
        "Refining processes such as distillation, cracking, hydrotreating, and reforming, among others, influence the quality of oil products. By adjusting conditions and catalysts, refineries can modify product quality to meet specific market demands.\n",
        "\n",
        "In conclusion, the oil quality specification is an intricate balance between the natural properties of crude oil, the demands of end-users, environmental regulations, and the capabilities of refining technologies. Ensuring the right quality is vital for the efficiency, safety, and environmental impact of the products derived from crude oil."
      ],
      "metadata": {
        "id": "3xe5-Mtg9_Be"
      }
    },
    {
      "cell_type": "markdown",
      "source": [
        "#API\n",
        "The API (American Petroleum Institute) gravity is a measure used in the petroleum industry to determine the relative density of hydrocarbon liquids as compared to water. It provides a way to characterize the 'heaviness' or 'lightness' of crude oil and its derivatives. The API gravity is inversely related to the true density of the crude oil: higher API gravity means a lighter oil, while a lower API gravity indicates a heavier oil.\n",
        "\n",
        "Here's a brief discussion about the API gravities of various oils:\n",
        "\n",
        "1. **Light Crude Oil:** Crude oil with an API gravity greater than 31.1 degrees can be termed as light. Light oils are generally more desirable because they produce a higher yield of gasoline and diesel fuel when refined. They typically flow easily and may even be pumped without heating in colder environments.\n",
        "\n",
        "2. **Medium Crude Oil:** Crude oils with API gravities between 22.3 and 31.1 degrees fall into this category. They have a density intermediate between light and heavy oils.\n",
        "\n",
        "3. **Heavy Crude Oil:** Crude oil with an API gravity less than 22.3 degrees is termed heavy. Heavy oils are thicker, more viscous, and may need to be heated to flow more easily. They also typically contain more impurities and, when refined, produce a greater percentage of heavy products like fuel oil and asphalt.\n",
        "\n",
        "4. **Extra Heavy Oil:** Oils like bitumen from oil sands have an API gravity of less than 10 degrees, making them very dense. They don't flow easily at room temperature, resembling a semi-solid or solid state.\n",
        "\n",
        "5. **Motor Oils (Lubricating Oils):** While API gravity is primarily used for crude oils and its fractions, motor oils can also have their densities characterized using this measure. However, it's worth noting that motor oils are typically more concerned with their viscosity grades, as defined by the SAE (Society of Automotive Engineers).\n",
        "\n",
        "6. **Vegetable Oils:** These are not typically characterized by API gravity since they are not petroleum products. However, they generally have densities closer to 0.9 g/cm³, making them less dense than water but more dense than many crude oils."
      ],
      "metadata": {
        "id": "A1iupQ5bA-fv"
      }
    },
    {
      "cell_type": "markdown",
      "source": [
        "#Calculation of API gravity"
      ],
      "metadata": {
        "id": "Jwhb3MIN-ToG"
      }
    },
    {
      "cell_type": "code",
      "source": [
        "import neqsim\n",
        "import pandas as pd\n",
        "from neqsim.thermo.thermoTools import *\n",
        "\n",
        "resfluidcomposition = {'ComponentName':  [\"nitrogen\", \"CO2\", \"methane\", \"ethane\", \"propane\", \"i-butane\", \"n-butane\", \"i-pentane\", \"n-pentane\", \"n-hexane\", \"C7\", \"C8\", \"C9\", \"C10-C11\", \"C12-C13\", \"C14-C15\", \"C16-C18\", \"C19-C20\", \"C21-C23\", \"C24-C29\", \"C30\"],\n",
        "        'MolarComposition[-]':  [0.0005948, 0.000717, 0.0002132, 0.0002734, 0.0, 0.009535, 1.8827, 0.6964, 0.8179, 0.9106,      1.2025, 1.2507, 0.7571, 1.5015, 1.3053, 2.1353, 4.4328, 0.802, 1.0127, 3.4921, 2.9922],\n",
        "        'MolarMass[kg/mol]': [None,None, None,None,None,None,None,None,None,None,0.09832, 0.11227, 0.12627, 0.14689, 0.174, 0.202, 0.237, 0.272, 0.307, 0.367, 0.594],\n",
        "        'RelativeDensity[-]': [None,None, None,None,None,None,None,None,None,None, 0.737, 0.758, 0.775, 0.794, 0.814, 0.830, 0.846, 0.860, 0.872, 0.889, 0.935]\n",
        "  }\n",
        "\n",
        "\n",
        "fluidcompositiondf = pd.DataFrame(resfluidcomposition)\n",
        "fluid1 = fluid_df(fluidcompositiondf, lastIsPlusFraction=False)\n",
        "fluid1.setMixingRule('classic')\n",
        "fluid1.setMultiPhaseCheck(True)\n",
        "\n",
        "fluid1.setPressure(1.01325, 'bara')\n",
        "fluid1.setTemperature(20.0, 'C')\n",
        "\n",
        "TPflash(fluid1)\n",
        "\n",
        "printFrame(fluid1)\n",
        "\n",
        "print('viscosity ', fluid1.getViscosity('cP'))\n",
        "stdoildensity = fluid1.getPhase('oil').getDensity('kg/m3')\n",
        "stdviscosity = fluid1.getPhase('oil').getViscosity('cP')\n",
        "print('API oil ', (141.5/(stdoildensity/1e3)-131.5))\n",
        "print('std viscosity oil ', stdviscosity, 'cP')"
      ],
      "metadata": {
        "colab": {
          "base_uri": "https://localhost:8080/"
        },
        "id": "Ez4vS51R-XsZ",
        "outputId": "e2379f27-dba0-468d-d5a1-0bd376779d50"
      },
      "execution_count": 6,
      "outputs": [
        {
          "output_type": "stream",
          "name": "stdout",
          "text": [
            "| 0                  | 1           | 2           | 3   | 4   | 5   | 6               |\n",
            "|:-------------------|:------------|:------------|:----|:----|:----|:----------------|\n",
            "|                    | total       | OIL         |     |     |     |                 |\n",
            "| nitrogen           | 2.36002E-5  | 2.36002E-5  |     |     |     | [mole fraction] |\n",
            "| CO2                | 2.84488E-5  | 2.84488E-5  |     |     |     | [mole fraction] |\n",
            "| methane            | 8.45927E-6  | 8.45927E-6  |     |     |     | [mole fraction] |\n",
            "| ethane             | 1.08479E-5  | 1.08479E-5  |     |     |     | [mole fraction] |\n",
            "| propane            | 0E0         | 0E0         |     |     |     | [mole fraction] |\n",
            "| i-butane           | 3.78326E-4  | 3.78326E-4  |     |     |     | [mole fraction] |\n",
            "| n-butane           | 7.4701E-2   | 7.4701E-2   |     |     |     | [mole fraction] |\n",
            "| i-pentane          | 2.76315E-2  | 2.76315E-2  |     |     |     | [mole fraction] |\n",
            "| n-pentane          | 3.24523E-2  | 3.24523E-2  |     |     |     | [mole fraction] |\n",
            "| n-hexane           | 3.61304E-2  | 3.61304E-2  |     |     |     | [mole fraction] |\n",
            "| C7_PC              | 4.77123E-2  | 4.77123E-2  |     |     |     | [mole fraction] |\n",
            "| C8_PC              | 4.96248E-2  | 4.96248E-2  |     |     |     | [mole fraction] |\n",
            "| C9_PC              | 3.00399E-2  | 3.00399E-2  |     |     |     | [mole fraction] |\n",
            "| C10-C11_PC         | 5.95759E-2  | 5.95759E-2  |     |     |     | [mole fraction] |\n",
            "| C12-C13_PC         | 5.17912E-2  | 5.17912E-2  |     |     |     | [mole fraction] |\n",
            "| C14-C15_PC         | 8.47236E-2  | 8.47236E-2  |     |     |     | [mole fraction] |\n",
            "| C16-C18_PC         | 1.75883E-1  | 1.75883E-1  |     |     |     | [mole fraction] |\n",
            "| C19-C20_PC         | 3.18214E-2  | 3.18214E-2  |     |     |     | [mole fraction] |\n",
            "| C21-C23_PC         | 4.01815E-2  | 4.01815E-2  |     |     |     | [mole fraction] |\n",
            "| C24-C29_PC         | 1.38558E-1  | 1.38558E-1  |     |     |     | [mole fraction] |\n",
            "| C30_PC             | 1.18723E-1  | 1.18723E-1  |     |     |     | [mole fraction] |\n",
            "|                    |             |             |     |     |     |                 |\n",
            "| Density            |             | 8.5718E2    |     |     |     | [kg/m^3]        |\n",
            "| PhaseFraction      |             | 1E0         |     |     |     | [mole fraction] |\n",
            "| MolarMass          | 2.44795E2   | 2.44795E2   |     |     |     | [kg/kmol]       |\n",
            "| Z factor           |             | 1.27211E-2  |     |     |     | [-]             |\n",
            "| Heat Capacity (Cp) |             | 1.96438E0   |     |     |     | [kJ/kg*K]       |\n",
            "| Heat Capacity (Cv) |             | 1.86026E0   |     |     |     | [kJ/kg*K]       |\n",
            "| Speed of Sound     |             | 1.42887E3   |     |     |     | [m/sec]         |\n",
            "| Enthalpy           | -3.11745E2  | -3.11745E2  |     |     |     | [kJ/kg]         |\n",
            "| Entropy            | -4.98332E-1 | -4.98332E-1 |     |     |     | [kJ/kg*K]       |\n",
            "| JT coefficient     |             | -5.56404E-2 |     |     |     | [K/bar]         |\n",
            "|                    |             |             |     |     |     |                 |\n",
            "| Viscosity          |             | 1.40233E-2  |     |     |     | [kg/m*sec]      |\n",
            "| Conductivity       |             | 1.19917E-1  |     |     |     | [W/m*K]         |\n",
            "| SurfaceTension     |             |             |     |     |     | [N/m]           |\n",
            "|                    |             |             |     |     |     |                 |\n",
            "|                    |             |             |     |     |     |                 |\n",
            "|                    |             |             |     |     |     |                 |\n",
            "| Pressure           |             | 1.01325     |     |     |     | [bar]           |\n",
            "| Temperature        |             | 293.15      |     |     |     | [K]             |\n",
            "|                    |             |             |     |     |     |                 |\n",
            "| Model              |             | SRK-EOS     |     |     |     | -               |\n",
            "| Mixing Rule        |             | classic     |     |     |     | -               |\n",
            "|                    |             |             |     |     |     |                 |\n",
            "| Stream             |             |             |     |     |     | -               |\n",
            "|                    |             |             |     |     |     |                 |\n",
            "|                    |             |             |     |     |     |                 |\n",
            "|                    |             |             |     |     |     |                 |\n",
            "|                    |             |             |     |     |     |                 |\n",
            "viscosity  14.023342087902565\n",
            "API oil  33.576265962296304\n",
            "std viscosity oil  14.023342087902565 cP\n"
          ]
        }
      ]
    }
  ]
}