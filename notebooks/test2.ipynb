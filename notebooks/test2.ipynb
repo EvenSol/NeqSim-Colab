{
 "cells": [
  {
   "attachments": {},
   "cell_type": "markdown",
   "metadata": {
    "colab_type": "text",
    "id": "view-in-github"
   },
   "source": [
    "<a href=\"https://colab.research.google.com/github/EvenSol/NeqSim-Colab/blob/master/notebooks/co2_solubility_water.ipynb\" target=\"_parent\"><img src=\"https://colab.research.google.com/assets/images/logo.png\" alt=\"Open In Colab\"/></a>"
   ]
  },
  {
   "cell_type": "markdown",
   "metadata": {},
   "source": [
    "# Calculation of CO₂ Solubility in Water\n",
    "\n",
    "This notebook demonstrates how to calculate the solubility of carbon dioxide (CO₂) in water using the NeqSim library. NeqSim (Non-Equilibrium Simulator) is a process simulation tool for fluid property calculations and process modeling.\n",
    "\n",
    "---\n",
    "\n",
    "### Prerequisites\n",
    "\n",
    "Make sure you have the NeqSim library installed. You can install it using pip if needed:\n",
    "```bash\n",
    "pip install neqsim\n",
    "```\n",
    "\n",
    "---\n",
    "\n",
    "## Steps\n",
    "\n",
    "1. **Import Libraries**: We'll start by importing the necessary Python libraries, including NeqSim.\n",
    "2. **Set Up Thermodynamic System**: Define the water and CO₂ system and set the appropriate conditions (temperature, pressure, and composition).\n",
    "3. **Run the Calculation**: Use the NeqSim methods to calculate the solubility.\n",
    "4. **Display Results**: Output the solubility of CO₂ in water under the specified conditions.\n",
    "\n",
    "---\n",
    "\n",
    "## Code"
   ]
  },
  {
   "cell_type": "code",
   "execution_count": null,
   "metadata": {
    "colab": {}
   },
   "outputs": [],
   "source": [
    "# Import necessary libraries\n",
    "from neqsim.thermo import fluid, TPflash\n",
    "from neqsim.thermo.thermoTools import *\n",
    "\n",
    "# Step 1: Create a thermodynamic system\n",
    "# Create a system with water and CO2\n",
    "system = fluid('Electrolyte-CPA')\n",
    "system.addComponent('water', 1.0)  # Water in moles\n",
    "system.addComponent('CO2', 1.0)   # CO2 in moles\n",
    "system.setMixingRule(10)          # Set appropriate mixing rule\n",
    "\n",
    "# Step 2: Define temperature and pressure\n",
    "temperature = 298.15  # Temperature in Kelvin (25°C)\n",
    "pressure = 10.0       # Pressure in bar\n",
    "system.setTemperature(temperature)\n",
    "system.setPressure(pressure)\n",
    "\n",
    "# Step 3: Perform a TP-Flash to calculate equilibrium\n",
    "TPflash(system)\n",
    "\n",
    "# Step 4: Get and display the results\n",
    "# Solubility of CO2 in water (mole fraction in aqueous phase)\n",
    "aqueous_phase = system.getPhase('aqueous')\n",
    "co2_solubility = aqueous_phase.getComponent('CO2').getx()\n",
    "\n",
    "print(f\"CO2 solubility in water at {temperature} K and {pressure} bar: {co2_solubility:.6f} mole fraction\")"
   ]
  },
  {
   "cell_type": "markdown",
   "metadata": {},
   "source": [
    "---\n",
    "\n",
    "## Output Example\n",
    "\n",
    "The code above will output the solubility of CO₂ in water under the given conditions. Adjust the temperature and pressure to explore different scenarios.\n",
    "\n",
    "---\n",
    "\n",
    "## Notes\n",
    "\n",
    "- Ensure that you have the NeqSim library properly installed and configured.\n",
    "- For accurate results, ensure the use of the correct thermodynamic model (e.g., Electrolyte-CPA in this case).\n",
    "\n",
    "Explore more about NeqSim at [NeqSim GitHub Repository](https://github.com/Equinor/neqsim)."
   ]
  }
 ],
 "metadata": {
  "colab": {
   "provenance": []
  },
  "kernelspec": {
   "display_name": "Python 3",
   "language": "python",
   "name": "python3"
  },
  "language_info": {
   "codemirror_mode": {
    "name": "ipython",
    "version": 3
   },
   "file_extension": ".py",
   "mimetype": "text/x-python",
   "name": "python",
   "nbconvert_exporter": "python",
   "pygments_lexer": "ipython3",
   "version": "3.8.16"
  }
 },
 "nbformat": 4,
 "nbformat_minor": 0
}
