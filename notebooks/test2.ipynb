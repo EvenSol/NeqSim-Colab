{
  "nbformat": 4,
  "nbformat_minor": 0,
  "metadata": {
    "colab": {
      "provenance": [],
      "authorship_tag": "ABX9TyOzA9F+VFNbYuE74+fiJHME",
      "include_colab_link": true
    },
    "kernelspec": {
      "name": "python3",
      "display_name": "Python 3"
    },
    "language_info": {
      "name": "python"
    }
  },
  "cells": [
    {
      "cell_type": "markdown",
      "metadata": {
        "id": "view-in-github",
        "colab_type": "text"
      },
      "source": [
        "<a href=\"https://colab.research.google.com/github/EvenSol/NeqSim-Colab/blob/master/notebooks/CO2_Solubility_in_Water.ipynb\" target=\"_parent\"><img src=\"https://colab.research.google.com/assets/colab-badge.svg\" alt=\"Open In Colab\"/></a>"
      ]
    },
    {
      "cell_type": "markdown",
      "metadata": {
        "id": "introduction",
        "colab_type": "text"
      },
      "source": [
        "# Calculation of CO2 Solubility in Water\n",
        "\n",
        "This notebook demonstrates how to use the NeqSim library to calculate the solubility of carbon dioxide (CO2) in water under different pressure and temperature conditions. Additionally, links to educational videos on the topic are provided."
      ]
    },
    {
      "cell_type": "markdown",
      "metadata": {
        "id": "video-links",
        "colab_type": "text"
      },
      "source": [
        "## Educational Videos\n",
        "\n",
        "Here are some helpful videos to understand the solubility of CO2 in water:\n",
        "\n",
        "1. [CO2 Solubility in Warm vs. Cold Water Demo](https://www.youtube.com/watch?v=C1HgycVC8e4)\n",
        "2. [Solubility of Carbon Dioxide in Water (HSC Chemistry)](https://www.youtube.com/watch?v=UNT77LKR11E)\n",
        "3. [Chemistry Lab: Solubility Curve for Carbon Dioxide in Water](https://www.youtube.com/watch?v=2QHxLyBQ75g)\n",
        "4. [Le Chatelier's Principle and the Solubility of Carbon Dioxide](https://www.youtube.com/watch?v=QtCRxvCxa6M)\n",
        "5. [Solubility of Carbon Dioxide: Cold vs. Warm Carbonated Water](https://www.youtube.com/watch?v=mLrGiWFFGB4)\n"
      ]
    },
    {
      "cell_type": "code",
      "metadata": {
        "id": "install-neqsim",
        "colab_type": "code"
      },
      "source": [
        "# Install NeqSim\n",
        "!pip install neqsim"
      ],
      "execution_count": null,
      "outputs": []
    },
    {
      "cell_type": "code",
      "metadata": {
        "id": "setup-environment",
        "colab_type": "code"
      },
      "source": [
        "# Import NeqSim and initialize\n",
        "import neqsim\n",
        "from neqsim.thermo import fluid\n",
        "from neqsim.thermodynamicOperations import TPflash\n",
        "print(\"NeqSim version:\", neqsim.__version__)"
      ],
      "execution_count": null,
      "outputs": []
    },
    {
      "cell_type": "code",
      "metadata": {
        "id": "define-fluid",
        "colab_type": "code"
      },
      "source": [
        "# Define the fluid system with CO2 and water\n",
        "fluid_system = fluid('srk')  # Using the Soave-Redlich-Kwong equation of state\n",
        "fluid_system.addComponent('CO2', 1.0)  # Add 1 mole of CO2\n",
        "fluid_system.addComponent('water', 55.51)  # Add water (molar equivalent to 1 kg of water)\n",
        "fluid_system.createDatabase(True)\n",
        "fluid_system.setMultiPhaseCheck(True)\n",
        "fluid_system.setTemperature(298.15)  # Set temperature to 25°C\n",
        "fluid_system.setPressure(10.0)  # Set pressure to 10 bar\n",
        "\n",
        "# Perform a TP flash calculation\n",
        "TPflash(fluid_system)\n",
        "fluid_system.display()"
      ],
      "execution_count": null,
      "outputs": []
    },
    {
      "cell_type": "code",
      "metadata": {
        "id": "calculate-solubility",
        "colab_type": "code"
      },
      "source": [
        "# Extract CO2 solubility in water\n",
        "water_phase = fluid_system.getPhase(1)  # Assume water is in phase 1\n",
        "CO2_solubility = water_phase.getComponent('CO2').getx()  # Mole fraction of CO2 in water\n",
        "print(f\"CO2 solubility in water: {CO2_solubility:.6f} mole fraction\")"
      ],
      "execution_count": null,
      "outputs": []
    },
    {
      "cell_type": "markdown",
      "metadata": {
        "id": "conclusion",
        "colab_type": "text"
      },
      "source": [
        "## Conclusion\n",
        "This notebook demonstrated how to calculate the solubility of CO2 in water using the NeqSim library. You can modify the temperature, pressure, or composition to simulate different conditions."
      ]
    }
  ]
}
