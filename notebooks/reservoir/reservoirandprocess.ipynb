{
  "metadata": {
    "language_info": {
      "codemirror_mode": {
        "name": "ipython",
        "version": 3
      },
      "file_extension": ".py",
      "mimetype": "text/x-python",
      "name": "python",
      "nbconvert_exporter": "python",
      "pygments_lexer": "ipython3",
      "version": "3.7.1-final"
    },
    "orig_nbformat": 2,
    "kernelspec": {
      "name": "python3",
      "display_name": "Python 3"
    },
    "colab": {
      "name": "reservoirandprocess.ipynb",
      "provenance": []
    }
  },
  "nbformat": 4,
  "nbformat_minor": 0,
  "cells": [
    {
      "cell_type": "code",
      "execution_count": 1,
      "metadata": {
        "id": "fRjuxbo7sNvf",
        "outputId": "782c3d94-f2f7-492a-de08-78a4a26737ac",
        "colab": {
          "base_uri": "https://localhost:8080/"
        },
        "cellView": "form"
      },
      "outputs": [
        {
          "output_type": "stream",
          "name": "stdout",
          "text": [
            "Collecting neqsim\n",
            "  Downloading neqsim-2.3.12-py3-none-any.whl (55.9 MB)\n",
            "\u001b[K     |████████████████████████████████| 55.9 MB 157 kB/s \n",
            "\u001b[?25hRequirement already satisfied: numpy in /usr/local/lib/python3.7/dist-packages (from neqsim) (1.19.5)\n",
            "Requirement already satisfied: matplotlib in /usr/local/lib/python3.7/dist-packages (from neqsim) (3.2.2)\n",
            "Collecting jpype1\n",
            "  Downloading JPype1-1.3.0-cp37-cp37m-manylinux_2_5_x86_64.manylinux1_x86_64.whl (448 kB)\n",
            "\u001b[K     |████████████████████████████████| 448 kB 57.0 MB/s \n",
            "\u001b[?25hRequirement already satisfied: pandas in /usr/local/lib/python3.7/dist-packages (from neqsim) (1.1.5)\n",
            "Requirement already satisfied: typing-extensions in /usr/local/lib/python3.7/dist-packages (from jpype1->neqsim) (3.10.0.2)\n",
            "Requirement already satisfied: python-dateutil>=2.1 in /usr/local/lib/python3.7/dist-packages (from matplotlib->neqsim) (2.8.2)\n",
            "Requirement already satisfied: cycler>=0.10 in /usr/local/lib/python3.7/dist-packages (from matplotlib->neqsim) (0.11.0)\n",
            "Requirement already satisfied: kiwisolver>=1.0.1 in /usr/local/lib/python3.7/dist-packages (from matplotlib->neqsim) (1.3.2)\n",
            "Requirement already satisfied: pyparsing!=2.0.4,!=2.1.2,!=2.1.6,>=2.0.1 in /usr/local/lib/python3.7/dist-packages (from matplotlib->neqsim) (3.0.6)\n",
            "Requirement already satisfied: six>=1.5 in /usr/local/lib/python3.7/dist-packages (from python-dateutil>=2.1->matplotlib->neqsim) (1.15.0)\n",
            "Requirement already satisfied: pytz>=2017.2 in /usr/local/lib/python3.7/dist-packages (from pandas->neqsim) (2018.9)\n",
            "Installing collected packages: jpype1, neqsim\n",
            "Successfully installed jpype1-1.3.0 neqsim-2.3.12\n"
          ]
        }
      ],
      "source": [
        "#@title Integration of a process model and simple reservoir model\n",
        "#@markdown This is a demo of how reservoir simulation can be intergrated into process simulation.\n",
        "#@markdown <br><br>This document is part of the module [\"Introduction to Gas Processing using NeqSim in Colab\"](https://colab.research.google.com/github/EvenSol/NeqSim-Colab/blob/master/notebooks/examples_of_NeqSim_in_Colab.ipynb#scrollTo=_eRtkQnHpL70).\n",
        "#%%capture\n",
        "!pip install neqsim\n",
        "import neqsim\n",
        "from neqsim.thermo.thermoTools import *\n",
        "\n",
        "from neqsim.process import openprocess\n",
        "import matplotlib\n",
        "import numpy as np\n",
        "import matplotlib.pyplot as plt\n",
        "import math\n",
        "plt.style.use('classic')\n",
        "%matplotlib inline"
      ]
    },
    {
      "cell_type": "markdown",
      "source": [
        "#Setting up a reservoir model\n",
        "We start by establishing a simple reservoir model with gas injector and water injection"
      ],
      "metadata": {
        "id": "_Ttm6R-aseuK"
      }
    },
    {
      "cell_type": "code",
      "source": [
        "from neqsim.process.processTools import simplereservoir,clearProcess,runProcess, getProcess\n",
        "\n",
        "fluid1 = fluid('srk')\n",
        "fluid1.addComponent(\"nitrogen\", 0.100)\n",
        "fluid1.addComponent(\"CO2\", 0.100)\n",
        "fluid1.addComponent(\"methane\", 30.00)\n",
        "fluid1.addComponent(\"ethane\", 1.0)\n",
        "fluid1.addComponent(\"propane\", 1.0)\n",
        "fluid1.addComponent(\"i-butane\", 01.0)\n",
        "fluid1.addComponent(\"n-butane\", 0.0)\n",
        "fluid1.addComponent(\"n-hexane\", 0.1)\n",
        "fluid1.addComponent(\"n-heptane\", 0.1)\n",
        "fluid1.addComponent(\"n-nonane\", 1.0)\n",
        "fluid1.addComponent(\"nC10\", 1.0)\n",
        "fluid1.addComponent(\"nC12\", 3.0)\n",
        "fluid1.addComponent(\"nC15\", 3.0)\n",
        "fluid1.addComponent(\"nC20\", 1.0)\n",
        "fluid1.addComponent(\"water\", 11.0)\n",
        "fluid1.setMixingRule(2)\n",
        "fluid1.setMultiPhaseCheck(True)\n",
        "\n",
        "fluid1.setPressure(100.0, 'bara')\n",
        "fluid1.setTemperature(100.0, 'C')\n",
        "\n",
        "TPflash(fluid1)\n",
        "\n",
        "clearProcess()\n",
        "reservoirOps = simplereservoir(fluid1, \"Well 1 reservoir\", gasvolume=5.0 * 1e7, oilvolume=552.0 * 1e6, watervolume=10.0e6)\n",
        "\n",
        "#producedGasStream = reservoirOps.addGasProducer(\"SLP_A32562G\")\n",
        "#producedGasStream.setFlowRate(0.01, \"MSm3/day\")\n",
        "\n",
        "#injectionGasStream = reservoirOps.addGasInjector(\"SLP_A32562GI\")\n",
        "#fluidComposition(injectionGasStream.getFluid(), [0.0, 1.0, 0.0, 0.0, 0.0, 0.0, 0.0, 0.0, 0.0, 0.0, 0.0, 0.0, 0.0, 0.0,0.0])\n",
        "#njectionGasStream.setFlowRate(1.1, \"MSm3/day\")\n",
        "\n",
        "injectionWaterStream = reservoirOps.addWaterInjector(\"SLP_A32562W\")\n",
        "injectionWaterStream.setFlowRate(10000000.1, \"kg/day\")\n",
        "\n",
        "producedOilStream = reservoirOps.addOilProducer(\"SLP_A32562O\")\n",
        "producedOilStream.setFlowRate(50000000.0, \"kg/day\")\n",
        "runProcess()\n",
        "getProcess().save('reservoir.neqsim')"
      ],
      "metadata": {
        "id": "YwxNybD5seL6"
      },
      "execution_count": 2,
      "outputs": []
    },
    {
      "cell_type": "markdown",
      "source": [
        "# Establish the oil and gas process\n",
        "A simple oil and gas process is established"
      ],
      "metadata": {
        "id": "KuYBBvpMw7s_"
      }
    },
    {
      "cell_type": "code",
      "source": [
        "from neqsim.process.processTools import valve,stream,simplereservoir,clearProcess,runProcess, getProcess,separator3phase,heater,separator,compressor,setpoint,recycle,mixer,pump\n",
        "\n",
        "fluid3 = fluid1.clone()\n",
        "\n",
        "clearProcess()\n",
        "wellStream = stream(fluid3)\n",
        "wellStream.setName(\"well stream\")\n",
        "wellStream.setFlowRate(6.63, \"MSm3/day\")\n",
        "wellStream.setTemperature(40.0, \"C\")\n",
        "wellStream.setPressure(120.0, \"bara\")\n",
        "\n",
        "wellheater = heater(wellStream)\n",
        "wellheater.setName(\"well stream cooler/heater\")\n",
        "wellheater.setOutPressure(62.21)\n",
        "wellheater.setOutTemperature(273.15+35.21);\n",
        "\n",
        "wellvalve = valve(wellheater.getOutStream())\n",
        "wellvalve.setName(\"inlet choke valve\")\n",
        "wellvalve.setOutletPressure(52.21);\n",
        "\n",
        "inletSeparator = separator3phase(wellvalve.getOutStream())\n",
        "inletSeparator.setName(\"1st stage separator\")\n",
        "\n",
        "oilToInletSep = stream(fluid1.clone())\n",
        "oilToInletSep.setFlowRate(1e-10, \"kg/hr\")\n",
        "inletSeparator.addStream(oilToInletSep)\n",
        "\n",
        "valve2 = valve(inletSeparator.getOilOutStream())\n",
        "valve2.setName(\"oil HP to MP valve\");\n",
        "valve2.setOutletPressure(15.0);\n",
        "\n",
        "cooler1 = heater(valve2.getOutStream())\n",
        "cooler1.setName(\"oil cooler/heater to 2nd stage\")\n",
        "cooler1.setOutTemperature(323.15)\n",
        "\n",
        "waterDPvalve =  valve(inletSeparator.getWaterOutStream())\n",
        "waterDPvalve.setName(\"Water HP to LP valve\")\n",
        "waterDPvalve.setOutletPressure(1.01325)\n",
        "\n",
        "waterStabSep = separator(waterDPvalve.getOutStream())\n",
        "waterStabSep.setName('water degasing separator\"')\n",
        "\n",
        "waterToTreatment = stream(waterStabSep.getLiquidOutStream())\n",
        "waterToTreatment.setName(\"water to treatment\")\n",
        "\t\t\n",
        "mpseparator = separator3phase(cooler1.getOutStream())\n",
        "mpseparator.setName(\"2nd stage separator\")\n",
        "\n",
        "oilToSep = stream(fluid1.clone())\n",
        "oilToSep.setFlowRate(1e-10, \"kg/hr\")\n",
        "mpseparator.addStream(oilToSep)\n",
        "\n",
        "valvempValve = valve(mpseparator.getOilOutStream())\n",
        "valvempValve.setName(\"oil MP to LP valve\")\n",
        "valvempValve.setOutletPressure(2.8)\n",
        "\n",
        "lpseparator = separator3phase(valvempValve.getOutStream())\n",
        "lpseparator.setName(\"3rd stage separator\")\n",
        "\n",
        "stableOilStream  = stream(lpseparator.getOilOutStream())\n",
        "stableOilStream.setName(\"stable oil\")\n",
        "\t\t\n",
        "lpcompressor = compressor(lpseparator.getGasOutStream())\n",
        "lpcompressor.setName(\"1st stage recompressor\");\n",
        "compressorPresSet2 =  setpoint(\"comp pres LP set\", lpcompressor, \"pressure\",valve2.getOutStream());\n",
        "\n",
        "lpgasheater = heater(lpcompressor.getOutStream())\n",
        "lpgasheater.setName('1st stage gas heat exchanger')\n",
        "lpgasheater.setOutTemperature(298.15)\n",
        "\n",
        "lpscrubber = separator(lpgasheater.getOutStream())\n",
        "lpscrubber.setName(\"2nd stage scrubber\")\n",
        "liqFromlpscrubber = lpscrubber.getLiquidOutStream()\n",
        "\n",
        "lpscrubberResyc = recycle(liqFromlpscrubber)\n",
        "lpscrubberResyc.setName(\"mpscrubberRes\")\n",
        "lpscrubberResyc.setOutletStream(oilToSep)\n",
        "\n",
        "mixermp = mixer(\"mp gas mixer\")\n",
        "mixermp.addStream(lpscrubber.getGasOutStream())\n",
        "mixermp.addStream(mpseparator.getGasOutStream())\n",
        "\n",
        "compressor2stage = compressor(mixermp.getOutStream())\n",
        "compressor2stage.setName(\"2nd stage recompressor\")\n",
        "\n",
        "compressorPresSet = setpoint(\"comp pres set\", compressor2stage, \"pressure\",inletSeparator)\n",
        "\t\t\n",
        "secondndstagecooler = heater(compressor2stage.getOutStream())\n",
        "secondndstagecooler.setName(\"2nd stage cooler\")\n",
        "secondndstagecooler.setOutTemperature(298.0)\n",
        "\n",
        "scrubbberfrom2ndstage = separator(secondndstagecooler.getOutStream())\n",
        "scrubbberfrom2ndstage.setName(\"scrubber of mix gas HP\")\n",
        "\n",
        "mixer = mixer(\"HP rich gas mixer\")\n",
        "mixer.addStream(inletSeparator.getGasOutStream())\n",
        "mixer.addStream(scrubbberfrom2ndstage.getGasOutStream())\n",
        "\n",
        "dewPointScrubberCooler = heater(mixer.getOutStream())\n",
        "dewPointScrubberCooler.setName(\"dew point scrubber cooler2\")\n",
        "dewPointScrubberCooler.setOutTemperature(273.15+32.3)\n",
        "\n",
        "mpscrubber = separator(dewPointScrubberCooler.getOutStream())\n",
        "mpscrubber.setName(\"dew point control scrubber\")\n",
        "\n",
        "liqFrommpscrubber = mpscrubber.getLiquidOutStream()\n",
        "\n",
        "mpscrubberResyc = recycle(liqFrommpscrubber)\n",
        "mpscrubberResyc.setName(\"hpscrubberRes\")\n",
        "mpscrubberResyc.addStream(scrubbberfrom2ndstage.getLiquidOutStream())\n",
        "mpscrubberResyc.setOutletStream(oilToInletSep)\n",
        "\n",
        "exportCompressor = compressor(mpscrubber.getGasOutStream())\n",
        "exportCompressor.setName(\"export compressor\")\n",
        "exportCompressor.setOutletPressure(150.0)\n",
        "\n",
        "exportCooler = heater(exportCompressor.getOutStream())\n",
        "exportCooler.setName('export cooler')\n",
        "exportCooler.setOutTemperature(30.0, 'C')\n",
        "\n",
        "richGas = stream(exportCooler.getOutStream())\n",
        "richGas.setName(\"rich gas\")\n",
        "\n",
        "#waterinjectionComposition = [0]*15\n",
        "#waterinjectionComposition[14]= 1.0\n",
        "#waterfluid = fluid1.clone()\n",
        "#waterfluid.setMolarComposition(waterinjectionComposition)\n",
        "\n",
        "#waterInjectionStream = stream(waterfluid)\n",
        "waterInjectionStream = injectionWaterStream.clone()\n",
        "waterInjectionStream.setName('injectionwater')\n",
        "waterInjectionStream.setPressure(1.0, 'bara')\n",
        "waterInjectionStream.setTemperature(10.0, 'C')\n",
        "waterpump = pump(waterInjectionStream, 5.0)\n",
        "waterpump.setOutletPressure(5.0)\n",
        "waterpump.setName('injection water pump')\n",
        "waterForInjectionStream = stream(waterpump.getOutStream())\n",
        "waterForInjectionStream.setName('injected water')\n",
        "\n",
        "getProcess().getUnit(\"well stream\").setStream(wellStream)\n",
        "getProcess().getUnit(\"well stream cooler/heater\").setOutTemperature(66.0, \"C\")\n",
        "getProcess().getUnit(\"well stream cooler/heater\").setOutPressure(52.21, \"bara\")\n",
        "getProcess().getUnit(\"inlet choke valve\").setOutletPressure(51.21, \"bara\")\n",
        "getProcess().getUnit(\"oil HP to MP valve\").setOutletPressure(15.0, \"bara\")\n",
        "getProcess().getUnit(\"oil cooler/heater to 2nd stage\").setOutTemperature(85.0, \"C\")\n",
        "getProcess().getUnit(\"oil MP to LP valve\").setOutletPressure(1.8, \"bara\")\n",
        "getProcess().getUnit(\"Water HP to LP valve\").setOutletPressure(1.01325, \"bara\")\n",
        "getProcess().getUnit(\"dew point scrubber cooler2\").setOutTemperature(33.0, \"C\")\n",
        "getProcess().getUnit(\"2nd stage cooler\").setOutTemperature(33.0, \"C\")\n",
        "getProcess().getUnit(\"1st stage gas heat exchanger\").setOutTemperature(33.0, \"C\")\n",
        "getProcess().getUnit(\"1st stage recompressor\").setIsentropicEfficiency(0.75)\n",
        "getProcess().getUnit(\"2nd stage recompressor\").setIsentropicEfficiency(0.75)\n",
        "getProcess().run()\n",
        "\n",
        "getProcess().save('gasprocess.neqsim')"
      ],
      "metadata": {
        "id": "0_ttk_CrxM3T"
      },
      "execution_count": 3,
      "outputs": []
    },
    {
      "source": [
        "# Running the combined reservoir and process model for the lifetime of the field\n",
        "Importing reservoir simulation ad process simulation and running simlation\n",
        "\n"
      ],
      "cell_type": "markdown",
      "metadata": {
        "id": "suf9OtU1sNvi"
      }
    },
    {
      "cell_type": "code",
      "execution_count": 4,
      "metadata": {
        "id": "vH2eHyxPsNvj",
        "outputId": "0df4e59d-d63f-4668-9b8a-f2308b483cc0",
        "colab": {
          "base_uri": "https://localhost:8080/",
          "height": 809
        }
      },
      "outputs": [
        {
          "output_type": "stream",
          "name": "stdout",
          "text": [
            "sim year  0.0\n",
            "sim year  1.0\n",
            "sim year  2.0\n",
            "sim year  3.0\n",
            "sim year  4.0\n"
          ]
        },
        {
          "output_type": "execute_result",
          "data": {
            "text/plain": [
              "Text(0, 0.5, 'Rich Gas FLow [MSm3/day]')"
            ]
          },
          "metadata": {},
          "execution_count": 4
        },
        {
          "output_type": "display_data",
          "data": {
            "image/png": "[encoded data removed]",
            "text/plain": [
              "<Figure size 720x720 with 5 Axes>"
            ]
          },
          "metadata": {
            "needs_background": "light"
          }
        }
      ],
      "source": [
        "from neqsim.process import getProcess, openprocess\n",
        "import matplotlib.pyplot as plt\n",
        "resmodel = openprocess('reservoir.neqsim')\n",
        "GasOilProcess = openprocess('gasprocess.neqsim')\n",
        "reservoir = resmodel.getUnit('Well 1 reservoir')\n",
        "wellStream = reservoir.getOilProducer(0).getStream()\n",
        "initPressure = resmodel.getUnit('Well 1 reservoir').getReservoirFluid().getPressure('bara')\n",
        "initFLowRate = 40000000.0\n",
        "deltat = 24*60*60.0*365\n",
        "resmodel.setTimeStep(deltat)\n",
        "\n",
        "time = []\n",
        "pressure = []\n",
        "GORprocess = []\n",
        "cricondenbarrichgas = []\n",
        "power = []\n",
        "richGasFLowMSm3day = []\n",
        "\n",
        "for step in range(5):\n",
        "    print('sim year ' , reservoir.getTime()/(60.0*60*24*365))\n",
        "    resmodel.runTransient()\n",
        "    wellStream.setFlowRate(initFLowRate*(resmodel.getUnit('Well 1 reservoir').getReservoirFluid().getPressure('bara')- GasOilProcess.getUnit(\"inlet choke valve\").getOutStream().getPressure('bara'))/initPressure, \"kg/day\")\n",
        "    GasOilProcess.getUnit(\"well stream\").setStream(wellStream)\n",
        "    #resmodel.getWaterInjector(0).setStream(GasOilProcess.getUnit('injected water'))\n",
        "    #resmodel.runTransient()\n",
        "    GasOilProcess.run()\n",
        "    time.append(reservoir.getTime()/(60.0*60*24*365))\n",
        "    inlet_pressure = GasOilProcess.getUnit(\"inlet choke valve\").getOutStream().getPressure('bara')\n",
        "    GOR=GasOilProcess.getUnit(\"rich gas\").getFluid().getFlowRate(\"Sm3/hr\")/GasOilProcess.getUnit(\"stable oil\").getFluid().getFlowRate(\"m3/hr\")\n",
        "    GORprocess.append(GOR)\n",
        "    cricondenbarrichgas.append(GasOilProcess.getUnit(\"rich gas\").CCB(\"bara\"))\n",
        "    power.append(GasOilProcess.getPower(\"W\")/1.0e6)\n",
        "    pressure.append(resmodel.getUnit('Well 1 reservoir').getReservoirFluid().getPressure('bara'))\n",
        "    richGasFLowMSm3day.append(GasOilProcess.getUnit(\"rich gas\").getFluid().getFlowRate(\"MSm3/day\"))\n",
        "\n",
        "\n",
        "plt.rcParams['figure.figsize'] = [10, 10]\n",
        "fig, ax = plt.subplots()\n",
        "plt.subplot(5, 1, 1)\n",
        "plt.plot(time, GORprocess)\n",
        "plt.xlabel('Year [-]')\n",
        "plt.ylabel('GOR produced [Sm3/Sm3]')\n",
        "plt.subplot(5, 1, 2)\n",
        "plt.plot(time, cricondenbarrichgas)\n",
        "plt.xlabel('Year [-]')\n",
        "plt.ylabel('CCB rich gas [bara]')\n",
        "plt.subplot(5, 1, 3)\n",
        "plt.plot(time, power)\n",
        "plt.xlabel('Year [-]')\n",
        "plt.ylabel('Power total [MW]')\n",
        "plt.subplot(5, 1, 4)\n",
        "plt.plot(time, pressure)\n",
        "plt.xlabel('Year [-]')\n",
        "plt.ylabel('Res pressure [bara]')\n",
        "plt.subplot(5, 1, 5)\n",
        "plt.plot(time, richGasFLowMSm3day)\n",
        "plt.xlabel('Year [-]')\n",
        "plt.ylabel('Rich Gas FLow [MSm3/day]')\n"
      ]
    },
    {
      "cell_type": "code",
      "execution_count": 5,
      "metadata": {
        "id": "pl1EnJAEsNvl",
        "outputId": "819a1be7-0f8e-409c-8057-f25f3fd90ba2",
        "colab": {
          "base_uri": "https://localhost:8080/"
        }
      },
      "outputs": [
        {
          "output_type": "stream",
          "name": "stdout",
          "text": [
            "rich gas flow 0.8778317177772114  MSm3/day\n",
            "1st stage recompressor power 1046.602283890055  kW\n",
            "2nd stage recompressor power 1474.2440397221112  kW\n",
            "export compressor power 1148.538999212509  kW\n",
            "injection water pump power 58.50778635275364  kW\n",
            "1st stage gas cooler duty  -2390.227354657877  kW\n",
            "2nd stage cooler duty  -2711.2001916155314  kW\n",
            "stable oil production  700.542211250243  m3/hr\n",
            "rich gas production  0.8778317177772114  MS3/day\n",
            "GOR  52.21144562976938\n",
            "TVP of export oil  0.9768697226230814\n",
            "cricondenbar pressure of rich gas  104.20200081567046  bara\n",
            "cricondentherm temperature of rich gas  34.665724064013716  C\n"
          ]
        }
      ],
      "source": [
        "#Read results of last year\n",
        "GasLiqidRatio = GasOilProcess.getUnit(\"rich gas\").getFluid().getFlowRate(\"Sm3/hr\")/GasOilProcess.getUnit(\"stable oil\").getFluid().getFlowRate(\"m3/hr\")\n",
        "compressorPower1 = GasOilProcess.getUnit(\"1st stage recompressor\").getPower()/1.0e3\n",
        "compressorPower2 = GasOilProcess.getUnit(\"2nd stage recompressor\").getPower()/1.0e3\n",
        "injectionWaterPumpPower = GasOilProcess.getUnit(\"injection water pump\").getPower()/1.0e3\n",
        "exportCompressorPower = GasOilProcess.getUnit(\"export compressor\").getPower()/1.0e3\n",
        "cooler1Duty = GasOilProcess.getUnit(\"1st stage gas heat exchanger\").getDuty()/1e3\n",
        "cooler2Duty = GasOilProcess.getUnit(\"2nd stage cooler\").getDuty()/1e3\n",
        "\n",
        "wellStreamFLowMSm3day = GasOilProcess.getUnit(\"well stream\").getFluid().getFlowRate(\"MSm3/day\")\n",
        "richGasFLowMSm3day = GasOilProcess.getUnit(\"rich gas\").getFluid().getFlowRate(\"MSm3/day\")\n",
        "gasInletSepFlowMSm3day = GasOilProcess.getUnit(\"1st stage separator\").getGasOutStream().getFluid().getFlowRate(\"MSm3/day\")\n",
        "stableOilFLowm3hr = GasOilProcess.getUnit(\"stable oil\").getFluid().getFlowRate(\"m3/hr\")\n",
        "waterToTreatmentRatem3hr = GasOilProcess.getUnit(\"water to treatment\").getFluid().getFlowRate(\"m3/hr\")\n",
        "resycleFLowDewPointScrubber = GasOilProcess.getUnit(\"dew point control scrubber\").getLiquidOutStream().getFluid().getFlowRate(\"kg/hr\")\n",
        "GOR=GasOilProcess.getUnit(\"rich gas\").getFluid().getFlowRate(\"Sm3/hr\")/ GasOilProcess.getUnit(\"stable oil\").getFluid().getFlowRate(\"m3/hr\")\n",
        "TVPofexportoil = GasOilProcess.getUnit(\"stable oil\").TVP(30.0, \"C\")\n",
        "CCB_exportgas = GasOilProcess.getUnit(\"rich gas\").CCB(\"bara\")\n",
        "CCT_exportgas = GasOilProcess.getUnit(\"rich gas\").CCT(\"C\")\n",
        "\n",
        "print(\"rich gas flow\", richGasFLowMSm3day, \" MSm3/day\")\n",
        "print(\"1st stage recompressor power\", compressorPower1, \" kW\")\n",
        "print(\"2nd stage recompressor power\", compressorPower2, \" kW\")\n",
        "print(\"export compressor power\", exportCompressorPower, \" kW\")\n",
        "print(\"injection water pump power\", injectionWaterPumpPower, \" kW\")\n",
        "print(\"1st stage gas cooler duty \", cooler1Duty, \" kW\")\n",
        "print(\"2nd stage cooler duty \", cooler2Duty, \" kW\")\n",
        "print(\"stable oil production \", stableOilFLowm3hr, \" m3/hr\")\n",
        "print(\"rich gas production \", richGasFLowMSm3day, \" MS3/day\")\n",
        "print(\"GOR \", GOR)\n",
        "print(\"TVP of export oil \", TVPofexportoil)\n",
        "print(\"cricondenbar pressure of rich gas \", CCB_exportgas, \" bara\")\n",
        "print(\"cricondentherm temperature of rich gas \", CCT_exportgas, \" C\")"
      ]
    },
    {
      "cell_type": "code",
      "execution_count": 6,
      "metadata": {
        "id": "yXVnXQ_0sNvm",
        "outputId": "20fe6cde-0132-4c70-b392-43efac0d8ea6",
        "colab": {
          "base_uri": "https://localhost:8080/"
        }
      },
      "outputs": [
        {
          "output_type": "execute_result",
          "data": {
            "text/plain": [
              "61183.99566656351"
            ]
          },
          "metadata": {},
          "execution_count": 6
        }
      ],
      "source": [
        "\n",
        "waterInjectionStream.run()\n",
        "waterpump.run()\n",
        "waterpump.getPower()\n"
      ]
    },
    {
      "cell_type": "markdown",
      "source": [
        "# Calculations using a model using compressor and pump charts\n",
        "....."
      ],
      "metadata": {
        "id": "SSqingKS3UOD"
      }
    },
    {
      "cell_type": "markdown",
      "source": [
        "We start by establising pump and compressor charts including surge conditions."
      ],
      "metadata": {
        "id": "YaKj0gR66jRR"
      }
    },
    {
      "cell_type": "code",
      "source": [
        "from neqsim.process import compressorChart,compressorSurgeCurve, compressorStoneWallCurve\n",
        "\n",
        "MW=28.01\n",
        "inlepPres=100.0\n",
        "inletTemp=26.2\n",
        "Zinlet=0.89\n",
        "curveConditions = [MW, inlepPres, inletTemp, Zinlet]\n",
        "\n",
        "flowFactor = 4.0\n",
        "\n",
        "speed = [12913, 12298, 11683, 11098, 10453, 9224, 8609, 8200]\n",
        "flow =[\n",
        "                [2789.1285, 3174.0375, 3689.2288, 4179.4503, 4570.2768, 4954.7728, 5246.0329,\n",
        "                        5661.0331],\n",
        "                [2571.1753, 2943.7254, 3440.2675, 3837.4448, 4253.0898, 4668.6643, 4997.1926,\n",
        "                        5387.4952],\n",
        "                [2415.3793, 2763.0706, 3141.7095, 3594.7436, 4047.6467, 4494.1889, 4853.7353,\n",
        "                        5138.7858],\n",
        "                [2247.2043, 2799.7342, 3178.3428, 3656.1551, 4102.778, 4394.1591, 4648.3224,\n",
        "                        4840.4998],\n",
        "                [2072.8397, 2463.9483, 2836.4078, 3202.5266, 3599.6333, 3978.0203, 4257.0022,\n",
        "                        4517.345],\n",
        "                [1835.9552, 2208.455, 2618.1322, 2940.8034, 3244.7852, 3530.1279, 3753.3738,\n",
        "                        3895.9746],\n",
        "                [1711.3386, 1965.8848, 2356.9431, 2685.9247, 3008.5154, 3337.2855, 3591.5092],\n",
        "                [1636.5807, 2002.8708, 2338.0319, 2642.1245, 2896.4894, 3113.6264, 3274.8764,\n",
        "                        3411.2977]]\n",
        "head = [\n",
        "                [80.0375, 78.8934, 76.2142, 71.8678, 67.0062, 60.6061, 53.0499, 39.728],\n",
        "                [72.2122, 71.8369, 68.9009, 65.8341, 60.7167, 54.702, 47.2749, 35.7471],\n",
        "                [65.1576, 64.5253, 62.6118, 59.1619, 54.0455, 47.0059, 39.195, 31.6387],\n",
        "                [58.6154, 56.9627, 54.6647, 50.4462, 44.4322, 38.4144, 32.9084, 28.8109],\n",
        "                [52.3295, 51.0573, 49.5283, 46.3326, 42.3685, 37.2502, 31.4884, 25.598],\n",
        "                [40.6578, 39.6416, 37.6008, 34.6603, 30.9503, 27.1116, 23.2713, 20.4546],\n",
        "                [35.2705, 34.6359, 32.7228, 31.0645, 27.0985, 22.7482, 18.0113],\n",
        "                [32.192, 31.1756, 29.1329, 26.833, 23.8909, 21.3324, 18.7726, 16.3403]\n",
        "        ]\n",
        "\n",
        "polyEff =  [\n",
        "                [77.2452238409573, 79.4154186459363, 80.737960012489, 80.5229826589649,\n",
        "                        79.2210931638144, 75.4719133864634, 69.6034181197298, 58.7322388482707],\n",
        "                [77.0107837113504, 79.3069974136389, 80.8941189021135, 80.7190194665918,\n",
        "                        79.5313242980328, 75.5912622896367, 69.6846136362097, 60.0043057990909],\n",
        "                [77.0043065299874, 79.1690958847856, 80.8038169975675, 80.6543975614197,\n",
        "                        78.8532389102705, 73.6664774270613, 66.2735600426727, 57.671664571658],\n",
        "                [77.0716623789093, 80.4629750233093, 81.1390811169072, 79.6374242667478,\n",
        "                        75.380928428817, 69.5332969549779, 63.7997587622339, 58.8120614497758],\n",
        "                [76.9705872525642, 79.8335492585324, 80.9468133671171, 80.5806471927835,\n",
        "                        78.0462158225426, 73.0403707523258, 66.5572286338589, 59.8624822515064],\n",
        "                [77.5063036680357, 80.2056198362559, 81.0339108025933, 79.6085962687939,\n",
        "                        76.3814534404405, 70.8027503005902, 64.6437367160571, 60.5299349982342],\n",
        "                [77.8175271586685, 80.065165942218, 81.0631362122632, 79.8955051771299,\n",
        "                        76.1983240929369, 69.289982774309, 60.8567149372229],\n",
        "                [78.0924334304045, 80.9353551568667, 80.7904437766234, 78.8639325223295,\n",
        "                        75.2170936751143, 70.3105081673411, 65.5507568533569, 61.0391468300337]\n",
        "                 ]\n",
        "\n",
        "compressorChart(exportCompressor, curveConditions, speed, flow, head, polyEff)\n",
        "exportCompressor.getCompressorChart().setHeadUnit('meter')\n",
        "exportCompressor.getCompressorChart().setHeadUnit(\"kJ/kg\")\n",
        "\n",
        "surgeFlow = [2789.1285, 2571.1753, 2415.3793, 2247.2043, 2072.8397, 1835.9552, 1711.3386, 1636.5807]\n",
        "surgeHead = [80.0375, 72.2122, 65.1576, 58.6154,52.3295,40.6578,35.2705,32.192 ]\n",
        "compressorSurgeCurve(exportCompressor, curveConditions, surgeFlow, surgeHead)\n",
        "\n",
        "#stoneWallFlow = [flowFactor*923.2, flowFactor*950.0, flowFactor*980.0, flowFactor*1000.0]\n",
        "#stoneWallHead = [6000.0, 7000.0, 8000.0, 10000.0]\n",
        "#compressorStoneWallCurve(exportCompressor, curveConditions, stoneWallFlow, stoneWallHead)\n",
        "\n",
        "exportCompressor.setUsePolytropicCalc(True)\n",
        "exportCompressor.getAntiSurge().setActive(True)\n",
        "exportCompressor.getAntiSurge().setSurgeControlFactor(1.0)\n",
        "#exportCompressor.setSpeed(2050)"
      ],
      "metadata": {
        "id": "gZAAhJYV6ZDS"
      },
      "execution_count": 7,
      "outputs": []
    },
    {
      "cell_type": "code",
      "source": [
        "exportCompressor.getCompressorChart().getSurgeCurve().getSurgeFlow(73.6359)\n",
        "wellStream.setFlowRate(6.33, \"MSm3/day\")\n",
        "runProcess()"
      ],
      "metadata": {
        "id": "6H-lUvrcY4bZ"
      },
      "execution_count": 8,
      "outputs": []
    },
    {
      "cell_type": "code",
      "source": [
        "exportCompressor.getCompressorChart().getSurgeCurve().getSurgeFlow(74.3174808)"
      ],
      "metadata": {
        "id": "a4Ujw_GHeC1z",
        "outputId": "d4d21822-73f6-4cc7-a949-5c6a4e7d2c87",
        "colab": {
          "base_uri": "https://localhost:8080/"
        }
      },
      "execution_count": 9,
      "outputs": [
        {
          "output_type": "execute_result",
          "data": {
            "text/plain": [
              "2636.0255400356264"
            ]
          },
          "metadata": {},
          "execution_count": 9
        }
      ]
    },
    {
      "cell_type": "code",
      "source": [
        "exportCompressor.setSpeed(12500)\n",
        "exportCompressor.run()\n",
        "inletCompFLuid = exportCompressor.getInStream().getFluid()\n",
        "extiCompFLuid = exportCompressor.getOutStream().getFluid()\n",
        "fluidHead = exportCompressor.getPolytropicHead()\n",
        "power = exportCompressor.getPower()\n",
        "fluidEff = exportCompressor.getPolytropicEfficiency()\n",
        "print('feed flow ', inletCompFLuid.getFlowRate('m3/hr'), ' inletpres ', inletCompFLuid.getPressure('bara'), ' outpres ', extiCompFLuid.getPressure('bara'), ' fluidhead ', fluidHead, ' meter ',  ' fluideff ', fluidEff, ' power ', power/1e6, ' MW')\n",
        "print(flow)\n",
        "printFrame(extiCompFLuid)"
      ],
      "metadata": {
        "id": "0OPoN-rm7KYS"
      },
      "execution_count": null,
      "outputs": []
    },
    {
      "cell_type": "markdown",
      "source": [
        "# Calculation of total power consumption and CO2 emsissions"
      ],
      "metadata": {
        "id": "t9fJNNTIpEKG"
      }
    },
    {
      "cell_type": "code",
      "source": [
        "totalElectricalPower = getProcess().getPower('MW')\n",
        "print('total electrical power ', totalElectricalPower, ' MW')"
      ],
      "metadata": {
        "id": "iKv5f1qRpJ9m"
      },
      "execution_count": null,
      "outputs": []
    },
    {
      "cell_type": "code",
      "source": [
        "gasLowerHeatingValue = 802.0*1e3 # richGas.LCV()  # J/mol - check the call to LCV in neqsim\n",
        "molSm3 = 101325.0/8.314/288.15\n",
        "gasLowerHeatingValue2 = gasLowerHeatingValue*molSm3/1e6 # MJ/Sm3\n",
        "\n",
        "efficiencyOFGasTurbines = 0.3\n",
        "\n",
        "gasForPower = totalElectricalPower/gasLowerHeatingValue2/efficiencyOFGasTurbines*3600.0*24/1e6 #MSm3/day"
      ],
      "metadata": {
        "id": "mkizIm6Cq_3G"
      },
      "execution_count": null,
      "outputs": []
    },
    {
      "cell_type": "code",
      "source": [
        "CO2emissionFactor = 2.2 # kg/Sm3\n",
        "\n",
        "CO2emissions = gasForPower*1e6*CO2emissionFactor/1e3*265  #tons CO2/year\n",
        "print('CO2 missions ', CO2emissions , ' tons CO2/year')"
      ],
      "metadata": {
        "id": "nQIzae3TtTtd"
      },
      "execution_count": null,
      "outputs": []
    },
    {
      "cell_type": "code",
      "source": [
        "#Calculation of production in oil equivalents\n",
        "\n",
        "oilEqu = getProcess().getUnit('rich gas').getFlowRate(\"Sm3/day\")/1000.0 + getProcess().getUnit('stable oil').getFlowRate(\"Sm3/day\")\n",
        "\n",
        "CO2emissionPerOilEquivalent = CO2emissions*1e6/(oilEqu*365)\n",
        "\n",
        "print('CO2 emissions per produced oil equivavalent ', CO2emissionPerOilEquivalent, ' kg/Sm3 oe')"
      ],
      "metadata": {
        "id": "OzHazq9OTqH6"
      },
      "execution_count": null,
      "outputs": []
    }
  ]
}