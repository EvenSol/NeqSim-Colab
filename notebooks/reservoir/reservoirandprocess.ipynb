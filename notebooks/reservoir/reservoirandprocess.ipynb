{
  "metadata": {
    "language_info": {
      "codemirror_mode": {
        "name": "ipython",
        "version": 3
      },
      "file_extension": ".py",
      "mimetype": "text/x-python",
      "name": "python",
      "nbconvert_exporter": "python",
      "pygments_lexer": "ipython3",
      "version": "3.7.1-final"
    },
    "orig_nbformat": 2,
    "kernelspec": {
      "name": "python3",
      "display_name": "Python 3"
    },
    "colab": {
      "name": "reservoirandprocess.ipynb",
      "provenance": []
    }
  },
  "nbformat": 4,
  "nbformat_minor": 0,
  "cells": [
    {
      "cell_type": "code",
      "execution_count": 1,
      "metadata": {
        "id": "fRjuxbo7sNvf",
        "outputId": "6f471fa4-151b-4fa6-af03-7684ecf6e21d",
        "colab": {
          "base_uri": "https://localhost:8080/"
        }
      },
      "outputs": [
        {
          "output_type": "stream",
          "name": "stdout",
          "text": [
            "Collecting neqsim\n",
            "  Downloading neqsim-2.3.12-py3-none-any.whl (55.9 MB)\n",
            "\u001b[K     |████████████████████████████████| 55.9 MB 1.3 MB/s \n",
            "\u001b[?25hRequirement already satisfied: matplotlib in /usr/local/lib/python3.7/dist-packages (from neqsim) (3.2.2)\n",
            "Collecting jpype1\n",
            "  Downloading JPype1-1.3.0-cp37-cp37m-manylinux_2_5_x86_64.manylinux1_x86_64.whl (448 kB)\n",
            "\u001b[K     |████████████████████████████████| 448 kB 62.4 MB/s \n",
            "\u001b[?25hRequirement already satisfied: pandas in /usr/local/lib/python3.7/dist-packages (from neqsim) (1.1.5)\n",
            "Requirement already satisfied: numpy in /usr/local/lib/python3.7/dist-packages (from neqsim) (1.19.5)\n",
            "Requirement already satisfied: typing-extensions in /usr/local/lib/python3.7/dist-packages (from jpype1->neqsim) (3.10.0.2)\n",
            "Requirement already satisfied: python-dateutil>=2.1 in /usr/local/lib/python3.7/dist-packages (from matplotlib->neqsim) (2.8.2)\n",
            "Requirement already satisfied: pyparsing!=2.0.4,!=2.1.2,!=2.1.6,>=2.0.1 in /usr/local/lib/python3.7/dist-packages (from matplotlib->neqsim) (3.0.6)\n",
            "Requirement already satisfied: cycler>=0.10 in /usr/local/lib/python3.7/dist-packages (from matplotlib->neqsim) (0.11.0)\n",
            "Requirement already satisfied: kiwisolver>=1.0.1 in /usr/local/lib/python3.7/dist-packages (from matplotlib->neqsim) (1.3.2)\n",
            "Requirement already satisfied: six>=1.5 in /usr/local/lib/python3.7/dist-packages (from python-dateutil>=2.1->matplotlib->neqsim) (1.15.0)\n",
            "Requirement already satisfied: pytz>=2017.2 in /usr/local/lib/python3.7/dist-packages (from pandas->neqsim) (2018.9)\n",
            "Installing collected packages: jpype1, neqsim\n",
            "Successfully installed jpype1-1.3.0 neqsim-2.3.12\n"
          ]
        }
      ],
      "source": [
        "#@title A demonstration of a integration of a process model and simple reservoir model\n",
        "#@markdown This is a demo of how reservoir simulation can be intergrated into process simulation.\n",
        "#@markdown <br><br>This document is part of the module [\"Introduction to Gas Processing using NeqSim in Colab\"](https://colab.research.google.com/github/EvenSol/NeqSim-Colab/blob/master/notebooks/examples_of_NeqSim_in_Colab.ipynb#scrollTo=_eRtkQnHpL70).\n",
        "#%%capture\n",
        "!pip install neqsim\n",
        "import neqsim\n",
        "from neqsim.thermo.thermoTools import *\n",
        "\n",
        "from neqsim.process import openprocess\n",
        "import matplotlib\n",
        "import numpy as np\n",
        "import matplotlib.pyplot as plt\n",
        "import math\n",
        "plt.style.use('classic')\n",
        "%matplotlib inline"
      ]
    },
    {
      "cell_type": "markdown",
      "source": [
        "#Setting up a reservoir model\n",
        "We start by establishing a simple reservoir model with gas injector and water injection"
      ],
      "metadata": {
        "id": "_Ttm6R-aseuK"
      }
    },
    {
      "cell_type": "code",
      "source": [
        "from neqsim.process.processTools import simplereservoir,clearProcess,runProcess, getProcess\n",
        "\n",
        "fluid1 = fluid('srk')\n",
        "fluid1.addComponent(\"nitrogen\", 0.100)\n",
        "fluid1.addComponent(\"CO2\", 0.100)\n",
        "fluid1.addComponent(\"methane\", 30.00)\n",
        "fluid1.addComponent(\"ethane\", 1.0)\n",
        "fluid1.addComponent(\"propane\", 1.0)\n",
        "fluid1.addComponent(\"i-butane\", 1.0)\n",
        "fluid1.addComponent(\"n-butane\", 1.0)\n",
        "fluid1.addComponent(\"n-hexane\", 0.1)\n",
        "fluid1.addComponent(\"n-heptane\", 0.1)\n",
        "fluid1.addComponent(\"n-nonane\", 1.0)\n",
        "fluid1.addComponent(\"nC10\", 1.0)\n",
        "fluid1.addComponent(\"nC12\", 3.0)\n",
        "fluid1.addComponent(\"nC15\", 3.0)\n",
        "fluid1.addComponent(\"nC20\", 3.0)\n",
        "fluid1.addComponent(\"water\", 11.0)\n",
        "fluid1.setMixingRule(2)\n",
        "fluid1.setMultiPhaseCheck(True)\n",
        "\n",
        "fluid1.setPressure(100.0, 'bara')\n",
        "fluid1.setTemperature(100.0, 'C')\n",
        "\n",
        "TPflash(fluid1)\n",
        "\n",
        "clearProcess()\n",
        "reservoirOps = simplereservoir(fluid1, \"Well 1 reservoir\", gasvolume=5.0 * 1e7, oilvolume=552.0 * 1e6, watervolume=10.0e6)\n",
        "\n",
        "#producedGasStream = reservoirOps.addGasProducer(\"SLP_A32562G\")\n",
        "#producedGasStream.setFlowRate(0.01, \"MSm3/day\")\n",
        "\n",
        "#injectionGasStream = reservoirOps.addGasInjector(\"SLP_A32562GI\")\n",
        "#fluidComposition(injectionGasStream.getFluid(), [0.0, 1.0, 0.0, 0.0, 0.0, 0.0, 0.0, 0.0, 0.0, 0.0, 0.0, 0.0, 0.0, 0.0,0.0])\n",
        "#njectionGasStream.setFlowRate(1.1, \"MSm3/day\")\n",
        "\n",
        "injectionWaterStream = reservoirOps.addWaterInjector(\"SLP_A32562W\")\n",
        "injectionWaterStream.setFlowRate(10000000.1, \"kg/day\")\n",
        "\n",
        "producedOilStream = reservoirOps.addOilProducer(\"SLP_A32562O\")\n",
        "producedOilStream.setFlowRate(50000000.0, \"kg/day\")\n",
        "runProcess()\n",
        "getProcess().save('reservoir.neqsim')"
      ],
      "metadata": {
        "id": "YwxNybD5seL6"
      },
      "execution_count": 2,
      "outputs": []
    },
    {
      "cell_type": "markdown",
      "source": [
        "# Establish the oil and gas process\n",
        "A simple oil and gas process is established"
      ],
      "metadata": {
        "id": "KuYBBvpMw7s_"
      }
    },
    {
      "cell_type": "code",
      "source": [
        "from neqsim.process.processTools import valve,stream,simplereservoir,clearProcess,runProcess, getProcess,separator3phase,heater,separator,compressor,setpoint,recycle,mixer,pump\n",
        "\n",
        "fluid3 = fluid1.clone()\n",
        "\n",
        "clearProcess()\n",
        "wellStream = stream(fluid3)\n",
        "wellStream.setName(\"well stream\")\n",
        "wellStream.setFlowRate(14.23, \"MSm3/day\")\n",
        "wellStream.setTemperature(40.0, \"C\")\n",
        "wellStream.setPressure(120.0, \"bara\")\n",
        "\n",
        "wellvalve = heater(wellStream)\n",
        "wellvalve.setName(\"well stream cooler/heater\")\n",
        "wellvalve.setOutPressure(62.21)\n",
        "wellvalve.setOutTemperature(273.15+35.21);\n",
        "\n",
        "wellvalve = valve(wellStream)\n",
        "wellvalve.setName(\"inlet choke valve\")\n",
        "wellvalve.setOutletPressure(52.21);\n",
        "\n",
        "inletSeparator = separator3phase(wellvalve.getOutStream())\n",
        "inletSeparator.setName(\"1st stage separator\")\n",
        "\n",
        "oilToInletSep = stream(fluid3.clone())\n",
        "oilToInletSep.setFlowRate(1e-10, \"kg/hr\")\n",
        "inletSeparator.addStream(oilToInletSep)\n",
        "\n",
        "valve2 = valve(wellStream)#inletSeparator.getGasOutStream())\n",
        "valve2.setName(\"oil HP to MP valve\");\n",
        "valve2.setOutletPressure(15.0);\n",
        "\n",
        "cooler1 = heater(valve2.getOutStream())\n",
        "cooler1.setName(\"oil cooler/heater to 2nd stage\")\n",
        "cooler1.setOutTemperature(323.15)\n",
        "\n",
        "waterDPvalve =  valve(inletSeparator.getWaterOutStream())\n",
        "waterDPvalve.setName(\"Water HP to LP valve\")\n",
        "waterDPvalve.setOutletPressure(1.01325)\n",
        "\n",
        "waterStabSep = separator(waterDPvalve.getOutStream())\n",
        "waterStabSep.setName('water degasing separator\"')\n",
        "\n",
        "waterToTreatment = stream(waterStabSep.getLiquidOutStream())\n",
        "waterToTreatment.setName(\"water to treatment\")\n",
        "\t\t\n",
        "mpseparator = separator3phase(cooler1.getOutStream())\n",
        "mpseparator.setName(\"2nd stage separator\")\n",
        "\n",
        "oilToSep = stream(fluid3.clone())\n",
        "oilToSep.setFlowRate(1e-10, \"kg/hr\")\n",
        "mpseparator.addStream(oilToSep)\n",
        "\n",
        "valvempValve = valve(mpseparator.getOilOutStream())\n",
        "valvempValve.setName(\"oil MP to LP valve\")\n",
        "valvempValve.setOutletPressure(2.8)\n",
        "\n",
        "lpseparator = separator3phase(valvempValve.getOutStream())\n",
        "lpseparator.setName(\"3rd stage separator\")\n",
        "\n",
        "stableOilStream  = stream(lpseparator.getOilOutStream())\n",
        "stableOilStream.setName(\"stable oil\")\n",
        "\t\t\n",
        "lpcompressor = compressor(lpseparator.getGasOutStream())\n",
        "lpcompressor.setName(\"1st stage recompressor\");\n",
        "compressorPresSet2 =  setpoint(\"comp pres LP set\", lpcompressor, \"pressure\",valve2.getOutStream());\n",
        "\n",
        "lpgasheater = heater(lpcompressor.getOutStream())\n",
        "lpgasheater.setName('1st stage gas heat exchanger')\n",
        "lpgasheater.setOutTemperature(290.0)\n",
        "\n",
        "lpscrubber = separator(lpgasheater.getOutStream())\n",
        "lpscrubber.setName(\"2nd stage scrubber\")\n",
        "liqFromlpscrubber = lpscrubber.getLiquidOutStream()\n",
        "\n",
        "lpscrubberResyc = recycle(liqFromlpscrubber)\n",
        "lpscrubberResyc.setName(\"mpscrubberRes\")\n",
        "lpscrubberResyc.setOutletStream(oilToSep)\n",
        "\n",
        "mixermp = mixer(\"mp gas mixer\")\n",
        "mixermp.addStream(lpscrubber.getGasOutStream())\n",
        "mixermp.addStream(mpseparator.getGasOutStream())\n",
        "\n",
        "compressor2stage = compressor(mixermp.getOutStream())\n",
        "compressor2stage.setName(\"2nd stage recompressor\")\n",
        "\n",
        "compressorPresSet = setpoint(\"comp pres set\", compressor2stage, \"pressure\",inletSeparator)\n",
        "\t\t\n",
        "secondndstagecooler = heater(compressor2stage.getOutStream())\n",
        "secondndstagecooler.setName(\"2nd stage cooler\")\n",
        "secondndstagecooler.setOutTemperature(290.0)\n",
        "\n",
        "scrubbberfrom2ndstage = separator(secondndstagecooler.getOutStream())\n",
        "scrubbberfrom2ndstage.setName(\"scrubber of mix gas HP\")\n",
        "\n",
        "mixer = mixer(\"HP rich gas mixer\")\n",
        "mixer.addStream(inletSeparator.getGasOutStream())\n",
        "mixer.addStream(scrubbberfrom2ndstage.getGasOutStream())\n",
        "\n",
        "dewPointScrubberCooler = heater(mixer.getOutStream())\n",
        "dewPointScrubberCooler.setName(\"dew point scrubber cooler2\")\n",
        "dewPointScrubberCooler.setOutTemperature(273.15+32.3)\n",
        "\n",
        "mpscrubber = separator(dewPointScrubberCooler.getOutStream())\n",
        "mpscrubber.setName(\"dew point control scrubber\")\n",
        "\n",
        "liqFrommpscrubber = mpscrubber.getLiquidOutStream()\n",
        "\n",
        "mpscrubberResyc = recycle(liqFrommpscrubber)\n",
        "mpscrubberResyc.setName(\"hpscrubberRes\")\n",
        "mpscrubberResyc.addStream(scrubbberfrom2ndstage.getLiquidOutStream())\n",
        "mpscrubberResyc.setOutletStream(oilToSep)\n",
        "\n",
        "exportCompressor = compressor(mpscrubber.getGasOutStream())\n",
        "exportCompressor.setName(\"export compressor\")\n",
        "exportCompressor.setOutletPressure(150.0)\n",
        "\n",
        "exportCooler = heater(exportCompressor.getOutStream())\n",
        "exportCooler.setName('export cooler')\n",
        "exportCooler.setOutTemperature(30.0, 'C')\n",
        "\n",
        "richGas = stream(exportCooler.getOutStream())\n",
        "richGas.setName(\"rich gas\")\n",
        "\n",
        "waterinjectionComposition = [0]*15\n",
        "waterinjectionComposition[14]= 1.0\n",
        "waterfluid = fluid1.clone()\n",
        "waterfluid.setMolarComposition(waterinjectionComposition)\n",
        "\n",
        "waterInjectionStream = stream(waterfluid)\n",
        "waterInjectionStream.setName('injectionwater')\n",
        "waterInjectionStream.setPressure(1.0, 'bara')\n",
        "waterInjectionStream.setTemperature(10.0, 'C')\n",
        "waterInjectionStream.setFlowRate(10000000., \"kg/day\")\n",
        "waterpump = pump(waterInjectionStream, 50.0)\n",
        "waterpump.setOutletPressure(50.0)\n",
        "waterpump.calculateAsCompressor(False)\n",
        "waterpump.setName('injection water pump')\n",
        "waterForInjectionStream = stream(waterpump.getOutStream())\n",
        "waterForInjectionStream.setName('injected water')\n",
        "\n",
        "getProcess().save('gasprocess.neqsim')"
      ],
      "metadata": {
        "id": "0_ttk_CrxM3T"
      },
      "execution_count": 18,
      "outputs": []
    },
    {
      "source": [
        "# Running the combined reservoir and process model\n",
        "Importing reservoir simulation ad process simulation and running simlation\n",
        "\n"
      ],
      "cell_type": "markdown",
      "metadata": {
        "id": "suf9OtU1sNvi"
      }
    },
    {
      "cell_type": "code",
      "execution_count": 19,
      "metadata": {
        "id": "vH2eHyxPsNvj",
        "outputId": "3284cd82-d7c3-4c82-fd24-954bdd392191",
        "colab": {
          "base_uri": "https://localhost:8080/",
          "height": 739
        }
      },
      "outputs": [
        {
          "output_type": "stream",
          "name": "stdout",
          "text": [
            "sim year  0.0\n",
            "sim year  1.0\n",
            "sim year  2.0\n",
            "sim year  3.0\n",
            "sim year  4.0\n"
          ]
        },
        {
          "output_type": "execute_result",
          "data": {
            "text/plain": [
              "Text(0, 0.5, 'Rich Gas FLow [MSm3/day]')"
            ]
          },
          "metadata": {},
          "execution_count": 19
        },
        {
          "output_type": "display_data",
          "data": {
            "image/png": "[encoded data removed]",
            "text/plain": [
              "<Figure size 720x720 with 5 Axes>"
            ]
          },
          "metadata": {
            "needs_background": "light"
          }
        }
      ],
      "source": [
        "from neqsim.process import getProcess, openprocess\n",
        "import matplotlib.pyplot as plt\n",
        "resmodel = openprocess('reservoir.neqsim')\n",
        "\n",
        "reservoir = resmodel.getUnit('Well 1 reservoir')\n",
        "wellStream = reservoir.getOilProducer(0).getStream()\n",
        "\n",
        "initPressure = resmodel.getUnit('Well 1 reservoir').getReservoirFluid().getPressure('bara')\n",
        "wellStream.setFlowRate(30000000.0*resmodel.getUnit('Well 1 reservoir').getReservoirFluid().getPressure('bara')/initPressure, \"kg/day\")\n",
        "\n",
        "deltat = 24*60*60.0*365\n",
        "resmodel.setTimeStep(deltat)\n",
        "\n",
        "GasOilProcess = openprocess('gasprocess.neqsim')\n",
        "GasOilProcess.getUnit(\"well stream\").setStream(wellStream)\n",
        "GasOilProcess.getUnit(\"well stream cooler/heater\").setOutTemperature(66.0, \"C\")\n",
        "GasOilProcess.getUnit(\"well stream cooler/heater\").setOutPressure(52.21, \"bara\")\n",
        "GasOilProcess.getUnit(\"inlet choke valve\").setOutletPressure(51.21, \"bara\")\n",
        "GasOilProcess.getUnit(\"oil HP to MP valve\").setOutletPressure(15.0, \"bara\")\n",
        "GasOilProcess.getUnit(\"oil cooler/heater to 2nd stage\").setOutTemperature(85.0, \"C\")\n",
        "GasOilProcess.getUnit(\"oil MP to LP valve\").setOutletPressure(1.8, \"bara\")\n",
        "GasOilProcess.getUnit(\"Water HP to LP valve\").setOutletPressure(1.01325, \"bara\")\n",
        "GasOilProcess.getUnit(\"dew point scrubber cooler2\").setOutTemperature(33.0, \"C\")\n",
        "GasOilProcess.getUnit(\"2nd stage cooler\").setOutTemperature(33.0, \"C\")\n",
        "GasOilProcess.getUnit(\"1st stage gas heat exchanger\").setOutTemperature(33.0, \"C\")\n",
        "GasOilProcess.getUnit(\"1st stage recompressor\").setIsentropicEfficiency(0.75)\n",
        "GasOilProcess.getUnit(\"2nd stage recompressor\").setIsentropicEfficiency(0.75)\n",
        "GasOilProcess.run()\n",
        "\n",
        "time = []\n",
        "pressure = []\n",
        "GORprocess = []\n",
        "cricondenbarrichgas = []\n",
        "power = []\n",
        "richGasFLowMSm3day = []\n",
        "\n",
        "for step in range(5):\n",
        "    print('sim year ' , reservoir.getTime()/(60.0*60*24*365))\n",
        "    wellStream.setFlowRate(40000000.0*(resmodel.getUnit('Well 1 reservoir').getReservoirFluid().getPressure('bara')- GasOilProcess.getUnit(\"inlet choke valve\").getOutStream().getPressure('bara'))/initPressure, \"kg/day\")\n",
        "    #resmodel.getWaterInjector(0).setStream(GasOilProcess.getUnit('injected water'))\n",
        "    resmodel.runTransient()\n",
        "    GasOilProcess.run()\n",
        "    time.append(reservoir.getTime()/(60.0*60*24*365))\n",
        "    inlet_pressure = GasOilProcess.getUnit(\"inlet choke valve\").getOutStream().getPressure('bara')\n",
        "    GOR=GasOilProcess.getUnit(\"rich gas\").getFluid().getFlowRate(\"Sm3/hr\")/GasOilProcess.getUnit(\"stable oil\").getFluid().getFlowRate(\"m3/hr\")\n",
        "    GORprocess.append(GOR)\n",
        "    cricondenbarrichgas.append(GasOilProcess.getUnit(\"rich gas\").CCB(\"bara\"))\n",
        "    power.append(GasOilProcess.getPower(\"W\")/1.0e6)\n",
        "    pressure.append(resmodel.getUnit('Well 1 reservoir').getReservoirFluid().getPressure('bara'))\n",
        "    richGasFLowMSm3day.append(GasOilProcess.getUnit(\"rich gas\").getFluid().getFlowRate(\"MSm3/day\"))\n",
        "\n",
        "\n",
        "plt.rcParams['figure.figsize'] = [10, 10]\n",
        "fig, ax = plt.subplots()\n",
        "plt.subplot(5, 1, 1)\n",
        "plt.plot(time, GORprocess)\n",
        "plt.xlabel('Year [-]')\n",
        "plt.ylabel('GOR produced [Sm3/Sm3]')\n",
        "plt.subplot(5, 1, 2)\n",
        "plt.plot(time, cricondenbarrichgas)\n",
        "plt.xlabel('Year [-]')\n",
        "plt.ylabel('CCB rich gas [bara]')\n",
        "plt.subplot(5, 1, 3)\n",
        "plt.plot(time, power)\n",
        "plt.xlabel('Year [-]')\n",
        "plt.ylabel('Power total [MW]')\n",
        "plt.subplot(5, 1, 4)\n",
        "plt.plot(time, pressure)\n",
        "plt.xlabel('Year [-]')\n",
        "plt.ylabel('Res pressure [bara]')\n",
        "plt.subplot(5, 1, 5)\n",
        "plt.plot(time, richGasFLowMSm3day)\n",
        "plt.xlabel('Year [-]')\n",
        "plt.ylabel('Rich Gas FLow [MSm3/day]')\n"
      ]
    },
    {
      "cell_type": "code",
      "execution_count": 20,
      "metadata": {
        "id": "pl1EnJAEsNvl",
        "outputId": "f4edc715-058c-40fd-fef9-ffb1d5ba9d96",
        "colab": {
          "base_uri": "https://localhost:8080/"
        }
      },
      "outputs": [
        {
          "output_type": "stream",
          "name": "stdout",
          "text": [
            "rich gas flow 1.51184177865818  MSm3/day\n",
            "1st stage recompressor power 1225.6922403179121  kW\n",
            "2nd stage recompressor power 2749.7166481332724  kW\n",
            "export compressor power 1994.3631826367657  kW\n",
            "injection water pump power -516660.79390617314  kW\n",
            "1st stage gas cooler duty  -3144.429945226396  kW\n",
            "2nd stage cooler duty  -5262.654637080815  kW\n",
            "stable oil production  797.5426520339394  m3/hr\n",
            "rich gas production  1.51184177865818  MS3/day\n",
            "GOR  78.9843744199027\n",
            "TVP of export oil  0.9300895607294423\n",
            "cricondenbar pressure of rich gas  110.17995264501977  bara\n",
            "cricondentherm temperature of rich gas  33.44423611330319  C\n"
          ]
        }
      ],
      "source": [
        "#Read results of last year\n",
        "GasLiqidRatio = GasOilProcess.getUnit(\"rich gas\").getFluid().getFlowRate(\"Sm3/hr\")/GasOilProcess.getUnit(\"stable oil\").getFluid().getFlowRate(\"m3/hr\")\n",
        "compressorPower1 = GasOilProcess.getUnit(\"1st stage recompressor\").getPower()/1.0e3\n",
        "compressorPower2 = GasOilProcess.getUnit(\"2nd stage recompressor\").getPower()/1.0e3\n",
        "injectionWaterPumpPower = GasOilProcess.getUnit(\"injection water pump\").getPower()/1.0e3\n",
        "exportCompressorPower = GasOilProcess.getUnit(\"export compressor\").getPower()/1.0e3\n",
        "cooler1Duty = GasOilProcess.getUnit(\"1st stage gas heat exchanger\").getDuty()/1e3\n",
        "cooler2Duty = GasOilProcess.getUnit(\"2nd stage cooler\").getDuty()/1e3\n",
        "\n",
        "wellStreamFLowMSm3day = GasOilProcess.getUnit(\"well stream\").getFluid().getFlowRate(\"MSm3/day\")\n",
        "richGasFLowMSm3day = GasOilProcess.getUnit(\"rich gas\").getFluid().getFlowRate(\"MSm3/day\")\n",
        "gasInletSepFlowMSm3day = GasOilProcess.getUnit(\"1st stage separator\").getGasOutStream().getFluid().getFlowRate(\"MSm3/day\")\n",
        "stableOilFLowm3hr = GasOilProcess.getUnit(\"stable oil\").getFluid().getFlowRate(\"m3/hr\")\n",
        "waterToTreatmentRatem3hr = GasOilProcess.getUnit(\"water to treatment\").getFluid().getFlowRate(\"m3/hr\")\n",
        "resycleFLowDewPointScrubber = GasOilProcess.getUnit(\"dew point control scrubber\").getLiquidOutStream().getFluid().getFlowRate(\"kg/hr\")\n",
        "GOR=GasOilProcess.getUnit(\"rich gas\").getFluid().getFlowRate(\"Sm3/hr\")/ GasOilProcess.getUnit(\"stable oil\").getFluid().getFlowRate(\"m3/hr\")\n",
        "TVPofexportoil = GasOilProcess.getUnit(\"stable oil\").TVP(30.0, \"C\")\n",
        "CCB_exportgas = GasOilProcess.getUnit(\"rich gas\").CCB(\"bara\")\n",
        "CCT_exportgas = GasOilProcess.getUnit(\"rich gas\").CCT(\"C\")\n",
        "\n",
        "print(\"rich gas flow\", richGasFLowMSm3day, \" MSm3/day\")\n",
        "print(\"1st stage recompressor power\", compressorPower1, \" kW\")\n",
        "print(\"2nd stage recompressor power\", compressorPower2, \" kW\")\n",
        "print(\"export compressor power\", exportCompressorPower, \" kW\")\n",
        "print(\"injection water pump power\", injectionWaterPumpPower, \" kW\")\n",
        "print(\"1st stage gas cooler duty \", cooler1Duty, \" kW\")\n",
        "print(\"2nd stage cooler duty \", cooler2Duty, \" kW\")\n",
        "print(\"stable oil production \", stableOilFLowm3hr, \" m3/hr\")\n",
        "print(\"rich gas production \", richGasFLowMSm3day, \" MS3/day\")\n",
        "print(\"GOR \", GOR)\n",
        "print(\"TVP of export oil \", TVPofexportoil)\n",
        "print(\"cricondenbar pressure of rich gas \", CCB_exportgas, \" bara\")\n",
        "print(\"cricondentherm temperature of rich gas \", CCT_exportgas, \" C\")"
      ]
    },
    {
      "cell_type": "code",
      "execution_count": 17,
      "metadata": {
        "id": "yXVnXQ_0sNvm",
        "outputId": "3e077039-4f22-46a7-b77e-f552f8612fd2",
        "colab": {
          "base_uri": "https://localhost:8080/"
        }
      },
      "outputs": [
        {
          "output_type": "execute_result",
          "data": {
            "text/plain": [
              "91416389.81369622"
            ]
          },
          "metadata": {},
          "execution_count": 17
        }
      ],
      "source": [
        "GasOilProcess.getUnit(\"injection water pump\").getDuty()"
      ]
    }
  ]
}