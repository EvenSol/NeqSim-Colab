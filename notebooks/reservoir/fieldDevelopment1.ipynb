{
  "nbformat": 4,
  "nbformat_minor": 0,
  "metadata": {
    "colab": {
      "provenance": [],
      "authorship_tag": "ABX9TyM1zcU66srSCulRjsztkaxK",
      "include_colab_link": true
    },
    "kernelspec": {
      "name": "python3",
      "display_name": "Python 3"
    },
    "language_info": {
      "name": "python"
    }
  },
  "cells": [
    {
      "cell_type": "markdown",
      "metadata": {
        "id": "view-in-github",
        "colab_type": "text"
      },
      "source": [
        "<a href=\"https://colab.research.google.com/github/EvenSol/NeqSim-Colab/blob/master/notebooks/reservoir/fieldDevelopment1.ipynb\" target=\"_parent\"><img src=\"https://colab.research.google.com/assets/colab-badge.svg\" alt=\"Open In Colab\"/></a>"
      ]
    },
    {
      "cell_type": "code",
      "execution_count": null,
      "metadata": {
        "id": "dZZoiemCrKaA"
      },
      "outputs": [],
      "source": []
    },
    {
      "cell_type": "markdown",
      "source": [
        "# Use of NeqSim for field development analysis\n",
        "In this notebokk we will analyze a field development using neqsim. The analysis will be from reservoir to market.\n",
        "\n",
        "We will use open data from Equinor to perform the field analsysis:\n",
        "\n",
        "https://data.equinor.com/?_ga=2.147929335.153137805.1645782099-612346679.1645782099\n",
        "\n",
        "In the follwoing case, we will use the open data for the decommissioned field Volve field:\n",
        "\n",
        "https://data.equinor.com/dataset/Volve\n",
        "\n",
        "\n"
      ],
      "metadata": {
        "id": "mMcanu2TrSbN"
      }
    },
    {
      "cell_type": "markdown",
      "source": [
        "# The Volve field\n",
        "The Volve field was discovered in 1993 (Discovery well 15/9-19 SR). Located in the central part of the north sea, 5 km north of Sleipner East, waterdepth 80 m.\n",
        "\n",
        "Volve is a field in the central part of the North Sea, five kilometres north of the Sleipner Øst field. The water depth is 80 metres. Volve was discovered in 1993, and the plan for development and operation (PDO) was approved in 2005. The field was developed with a jack-up processing and drilling facility. The vessel \"Navion Saga\" was used for storing stabilised oil. Production started in 2008.\n",
        "\n",
        "https://www.norskpetroleum.no/en/facts/field/volve/"
      ],
      "metadata": {
        "id": "J5RuVWYwk9-9"
      }
    },
    {
      "cell_type": "code",
      "source": [
        "%%capture\n",
        "!pip install neqsim"
      ],
      "metadata": {
        "id": "fSR6q-HVrmpu"
      },
      "execution_count": null,
      "outputs": []
    },
    {
      "cell_type": "code",
      "source": [
        "#Data https://www.norskpetroleum.no/en/facts/field/volve/\n",
        "reservesOil = 10.2 #MSm3 oe\n",
        "reservesGas = 0.8 #MSm3 oe\n",
        "\n",
        "reservesNGL = 0.3 #MSm3 oe\n",
        "\n",
        "reservoirT = 100.0\n",
        "reservoirP = 200.0"
      ],
      "metadata": {
        "id": "r2W1rsqelh6s"
      },
      "execution_count": null,
      "outputs": []
    },
    {
      "cell_type": "markdown",
      "source": [
        "# Creating reservoir fluid"
      ],
      "metadata": {
        "id": "GR90pwo-sur9"
      }
    },
    {
      "cell_type": "code",
      "source": [
        "import neqsim\n",
        "from neqsim.thermo.thermoTools import *\n",
        "from neqsim.process.processTools import simplereservoir,clearProcess,runProcess, getProcess\n",
        "import pandas as pd\n",
        "\n",
        "gascondensate = {'ComponentName':  [\"nitrogen\", \"CO2\", \"methane\", \"ethane\", \"propane\", \"i-butane\", \"n-butane\", \"i-pentane\", \"n-pentane\", \"n-hexane\", \"C7\", \"C8\", \"C9\", \"C10\", \"C11\", \"C12\", \"C13\", \"C14\", \"C15\", \"C16\", \"C17\", \"C18\", \"C19\", \"C20\"],\n",
        "        'MolarComposition[-]':  [0.53, 3.3, 72.98, 7.68, 4.1, 0.7, 1.42, 0.54, 0.67, 0.85, 1.33, 1.33, 0.78, 0.61, 0.42, 0.33, 0.42, 0.24, 0.3, 0.17, 0.21, 0.15, 0.15, 0.8],\n",
        "        'MolarMass[kg/mol]': [None,None, None,None,None,None,None,None,None,None,0.0913, 0.1041, 0.1188, 0.136, 0.150, 0.164, 0.179, 0.188, 0.204, 0.216, 0.236, 0.253, 0.27, 0.391],\n",
        "        'RelativeDensity[-]': [None,None, None,None,None,None,None,None,None,None, 0.746, 0.768, 0.79, 0.787, 0.793, 0.804, 0.817, 0.83, 0.835, 0.843, 0.837, 0.84, 0.85, 0.877]\n",
        "  }\n",
        "\n",
        "gascondensatedf = pd.DataFrame(gascondensate)\n",
        "print(gascondensatedf.head(30).to_string())\n",
        "gascondensateFluid = fluid_df(gascondensatedf, lastIsPlusFraction=True)\n",
        "gascondensateFluid.setMixingRule(2)\n",
        "gascondensateFluid.setMultiPhaseCheck(True)\n",
        "phaseenvelope(gascondensateFluid, True)\n",
        "\n",
        "watersaturate(gascondensateFluid)\n",
        "TPflash(gascondensateFluid)\n",
        "printFrame(gascondensateFluid)"
      ],
      "metadata": {
        "id": "7C0CKb2NsyGM",
        "colab": {
          "base_uri": "https://localhost:8080/",
          "height": 1000
        },
        "outputId": "ecb6d453-533d-47a5-9881-5a6fa61a117e"
      },
      "execution_count": null,
      "outputs": [
        {
          "output_type": "stream",
          "name": "stdout",
          "text": [
            "   ComponentName  MolarComposition[-]  MolarMass[kg/mol]  RelativeDensity[-]\n",
            "0       nitrogen                 0.53                NaN                 NaN\n",
            "1            CO2                 3.30                NaN                 NaN\n",
            "2        methane                72.98                NaN                 NaN\n",
            "3         ethane                 7.68                NaN                 NaN\n",
            "4        propane                 4.10                NaN                 NaN\n",
            "5       i-butane                 0.70                NaN                 NaN\n",
            "6       n-butane                 1.42                NaN                 NaN\n",
            "7      i-pentane                 0.54                NaN                 NaN\n",
            "8      n-pentane                 0.67                NaN                 NaN\n",
            "9       n-hexane                 0.85                NaN                 NaN\n",
            "10            C7                 1.33             0.0913               0.746\n",
            "11            C8                 1.33             0.1041               0.768\n",
            "12            C9                 0.78             0.1188               0.790\n",
            "13           C10                 0.61             0.1360               0.787\n",
            "14           C11                 0.42             0.1500               0.793\n",
            "15           C12                 0.33             0.1640               0.804\n",
            "16           C13                 0.42             0.1790               0.817\n",
            "17           C14                 0.24             0.1880               0.830\n",
            "18           C15                 0.30             0.2040               0.835\n",
            "19           C16                 0.17             0.2160               0.843\n",
            "20           C17                 0.21             0.2360               0.837\n",
            "21           C18                 0.15             0.2530               0.840\n",
            "22           C19                 0.15             0.2700               0.850\n",
            "23           C20                 0.80             0.3910               0.877\n"
          ]
        },
        {
          "output_type": "display_data",
          "data": {
            "text/plain": [
              "<Figure size 432x288 with 1 Axes>"
            ],
            "image/png": "[encoded data removed]"
          },
          "metadata": {
            "needs_background": "light"
          }
        },
        {
          "output_type": "stream",
          "name": "stdout",
          "text": [
            "| 0                  | 1          | 2           | 3           | 4   | 5   | 6               |\n",
            "|:-------------------|:-----------|:------------|:------------|:----|:----|:----------------|\n",
            "|                    | total      | gas         | oil         |     |     |                 |\n",
            "| nitrogen           | 5.18093E-3 | 5.53951E-3  | 7.17261E-6  |     |     | [mole fraction] |\n",
            "| CO2                | 3.22586E-2 | 3.44605E-2  | 4.88567E-4  |     |     | [mole fraction] |\n",
            "| methane            | 7.13404E-1 | 7.62596E-1  | 3.64317E-3  |     |     | [mole fraction] |\n",
            "| ethane             | 7.50746E-2 | 8.01116E-2  | 2.39896E-3  |     |     | [mole fraction] |\n",
            "| propane            | 4.00789E-2 | 4.25289E-2  | 4.72919E-3  |     |     | [mole fraction] |\n",
            "| i-butane           | 6.84273E-3 | 7.18062E-3  | 1.96769E-3  |     |     | [mole fraction] |\n",
            "| n-butane           | 1.3881E-2  | 1.44321E-2  | 5.92905E-3  |     |     | [mole fraction] |\n",
            "| i-pentane          | 5.27868E-3 | 5.26015E-3  | 5.54607E-3  |     |     | [mole fraction] |\n",
            "| n-pentane          | 6.54947E-3 | 6.37224E-3  | 9.10667E-3  |     |     | [mole fraction] |\n",
            "| n-hexane           | 8.30903E-3 | 6.66427E-3  | 3.20401E-2  |     |     | [mole fraction] |\n",
            "| C7_PC              | 1.30012E-2 | 6.69789E-3  | 1.03947E-1  |     |     | [mole fraction] |\n",
            "| C8_PC              | 1.30012E-2 | 3.45384E-3  | 1.50753E-1  |     |     | [mole fraction] |\n",
            "| C9_PC              | 7.62476E-3 | 7.80753E-4  | 1.06372E-1  |     |     | [mole fraction] |\n",
            "| C10_PC             | 5.96295E-3 | 1.9594E-4   | 8.91708E-2  |     |     | [mole fraction] |\n",
            "| C11_PC             | 4.10564E-3 | 5.19221E-5  | 6.25937E-2  |     |     | [mole fraction] |\n",
            "| C12_PC             | 3.22586E-3 | 1.52837E-5  | 4.95488E-2  |     |     | [mole fraction] |\n",
            "| C13_PC             | 4.10564E-3 | 6.6945E-6   | 6.32462E-2  |     |     | [mole fraction] |\n",
            "| C14_PC             | 2.34608E-3 | 1.95086E-6  | 3.61677E-2  |     |     | [mole fraction] |\n",
            "| C15_PC             | 2.9326E-3  | 8.08384E-7  | 4.52332E-2  |     |     | [mole fraction] |\n",
            "| C16_PC             | 1.66181E-3 | 1.94209E-7  | 2.56359E-2  |     |     | [mole fraction] |\n",
            "| C17_PC             | 2.05282E-3 | 6.45591E-8  | 3.16705E-2  |     |     | [mole fraction] |\n",
            "| C18_PC             | 1.4663E-3  | 1.4232E-8   | 2.26222E-2  |     |     | [mole fraction] |\n",
            "| C19_PC             | 1.4663E-3  | 4.12751E-9  | 2.26224E-2  |     |     | [mole fraction] |\n",
            "| C20-21_PC          | 1.59565E-3 | 1.69686E-9  | 2.4618E-2   |     |     | [mole fraction] |\n",
            "| C22-24_PC          | 1.80495E-3 | 1.72295E-10 | 2.78472E-2  |     |     | [mole fraction] |\n",
            "| C25-27_PC          | 1.28227E-3 | 6.89149E-12 | 1.97832E-2  |     |     | [mole fraction] |\n",
            "| C28-31_PC          | 1.15167E-3 | 2.15874E-13 | 1.77683E-2  |     |     | [mole fraction] |\n",
            "| C32-36_PC          | 8.66202E-4 | 2.69406E-15 | 1.3364E-2   |     |     | [mole fraction] |\n",
            "| C37-44_PC          | 6.74688E-4 | 1.14049E-17 | 1.04092E-2  |     |     | [mole fraction] |\n",
            "| C45-79_PC          | 4.44838E-4 | 2.87092E-21 | 6.86307E-3  |     |     | [mole fraction] |\n",
            "| water              | 2.23687E-2 | 2.36482E-2  | 3.90789E-3  |     |     | [mole fraction] |\n",
            "|                    |            |             |             |     |     |                 |\n",
            "| Density            |            | 9.0629E-1   | 8.09616E2   |     |     | [kg/m^3]        |\n",
            "| PhaseFraction      |            | 9.35184E-1  | 6.48162E-2  |     |     | [mole fraction] |\n",
            "| MolarMass          | 3.20559E1  | 2.23888E1   | 1.71534E2   |     |     | [kg/kmol]       |\n",
            "| Z factor           |            | 9.96612E-1  | 9.68352E-3  |     |     | [-]             |\n",
            "| Heat Capacity (Cp) |            | 1.92646E0   | 2.04842E0   |     |     | [kJ/kg*K]       |\n",
            "| Heat Capacity (Cv) |            | 1.54902E0   | 1.88965E0   |     |     | [kJ/kg*K]       |\n",
            "| Speed of Sound     |            | 3.69824E2   | 1.23967E3   |     |     | [m/sec]         |\n",
            "| Enthalpy           | -8.4043E1  | 4.58103E1   | -3.28582E2  |     |     | [kJ/kg]         |\n",
            "| Entropy            | 1.69379E-1 | 5.48378E-1  | -5.4435E-1  |     |     | [kJ/kg*K]       |\n",
            "| JT coefficient     |            | 6.62869E-1  | -5.58335E-2 |     |     | [K/bar]         |\n",
            "|                    |            |             |             |     |     |                 |\n",
            "| Viscosity          |            | 1.09083E-5  | 2.2935E-3   |     |     | [kg/m*sec]      |\n",
            "| Conductivity       |            | 2.92427E-2  | 1.20055E-1  |     |     | [W/m*K]         |\n",
            "| SurfaceTension     |            | 2.21859E-2  | 2.21859E-2  |     |     | [N/m]           |\n",
            "|                    |            |             |             |     |     |                 |\n",
            "|                    |            |             |             |     |     |                 |\n",
            "|                    |            |             |             |     |     |                 |\n",
            "| Pressure           |            | 1.0         | 1.0         |     |     | [bar]           |\n",
            "| Temperature        |            | 298.15      | 298.15      |     |     | [K]             |\n",
            "|                    |            |             |             |     |     |                 |\n",
            "| Model              |            | SRK-EOS     | SRK-EOS     |     |     | -               |\n",
            "| Mixing Rule        |            | classic     | classic     |     |     | -               |\n",
            "|                    |            |             |             |     |     |                 |\n",
            "| Stream             |            |             |             |     |     | -               |\n",
            "|                    |            |             |             |     |     |                 |\n",
            "|                    |            |             |             |     |     |                 |\n",
            "|                    |            |             |             |     |     |                 |\n",
            "|                    |            |             |             |     |     |                 |\n"
          ]
        }
      ]
    },
    {
      "cell_type": "markdown",
      "source": [
        "# Create reservoir and wells\n",
        "Volve produced oil from sandstone of Middle Jurassic age in the Hugin Formation. The reservoir is at a depth of 2,700-3,100 metres. The western part of the structure is heavily faulted and communication across the faults is uncertain.\n",
        "\n",
        "RECOVERY\n",
        "\n",
        "The field was produced with water injection for pressure support."
      ],
      "metadata": {
        "id": "8yp3GtuUt1Oe"
      }
    },
    {
      "cell_type": "code",
      "source": [
        "clearProcess()\n",
        "\n",
        "gascondensateFluid.setPressure(reservoirP, 'bara')\n",
        "gascondensateFluid.setTemperature(100.0, 'C')\n",
        "reservoir1Ops = simplereservoir(gascondensateFluid, \"Reservoir Formation 1\", gasvolume=5.0 * 1e7, oilvolume=552.0 * 1e6, watervolume=10.0e6)\n",
        "\n",
        "initFLowRate = 25020000.0\n",
        "producedOilStream1 = reservoir1Ops.addOilProducer(\"SLP_A32562O\")\n",
        "producedOilStream1.setFlowRate(initFLowRate, \"kg/day\")\n",
        "\n",
        "waterInjectionStream1 = reservoir1Ops.addWaterInjector(\"SLP_waterinj\")\n",
        "waterInjectionStream1.setFlowRate(initFLowRate/1.0, \"kg/day\")\n",
        "\n",
        "fluid2 = gascondensateFluid.clone()\n",
        "fluid2.addComponent('methane', 10.0);\n",
        "fluid2.setPressure(reservoirP, 'bara')\n",
        "fluid2.setTemperature(90.0, 'C')\n",
        "reservoir2Ops = simplereservoir(fluid2, \"Reservoir Formation 2\", gasvolume=5.0 * 1e8, oilvolume=52.0 * 1e6, watervolume=10.0e6)\n",
        "\n",
        "producedGasStream2 = reservoir2Ops.addGasProducer(\"SLP_A32562O\")\n",
        "producedGasStream2.setFlowRate(7.0, \"MSm3/day\")\n",
        "\n",
        "runProcess()\n",
        "getProcess().save('reservoir.neqsim')\n"
      ],
      "metadata": {
        "id": "acJj9N6Wr1oQ"
      },
      "execution_count": null,
      "outputs": []
    },
    {
      "cell_type": "markdown",
      "source": [
        "# Calculate well flow rates\n",
        "Insert Beggs and Brills multiphase calculation for well stream... and influx equiations for wells..."
      ],
      "metadata": {
        "id": "pvq6GchL1AmF"
      }
    },
    {
      "cell_type": "code",
      "source": [
        "from neqsim.process import getProcess, openprocess\n",
        "resmodel = openprocess('reservoir.neqsim')\n",
        "reservoir1 = resmodel.getUnit('Reservoir Formation 1')\n",
        "wellStream1 = reservoir1.getOilProducer(0).getStream()\n",
        "wellStream1.setFlowRate(initFLowRate, \"kg/day\")\n",
        "\n",
        "reservoir2 = resmodel.getUnit('Reservoir Formation 2')\n",
        "wellStream2 = reservoir2.getGasProducer(0).getStream()\n",
        "\n",
        "deltat = 24*60*60.0*365\n",
        "resmodel.setTimeStep(deltat)\n",
        "\n",
        "resmodel.runTransient()\n",
        "\n",
        "print('pressure res 1 ', reservoir1.getReservoirFluid().getPressure('bara'))\n",
        "print('pressure res 2 ', reservoir2.getReservoirFluid().getPressure('bara'))"
      ],
      "metadata": {
        "colab": {
          "base_uri": "https://localhost:8080/"
        },
        "id": "MvwndMIkzYoh",
        "outputId": "06b1df50-15c6-466d-c1e2-311bd5c0c505"
      },
      "execution_count": null,
      "outputs": [
        {
          "output_type": "stream",
          "name": "stdout",
          "text": [
            "pressure res 1  197.46877378795674\n",
            "pressure res 2  194.14692307797813\n"
          ]
        }
      ]
    },
    {
      "cell_type": "markdown",
      "source": [
        "# Add subsea system"
      ],
      "metadata": {
        "id": "XdWv3yFtt6j0"
      }
    },
    {
      "cell_type": "code",
      "source": [
        "from neqsim.process.processTools import mixer,cooler\n",
        "\n",
        "template1 = mixer(\"template 1\")\n",
        "template1.addStream(wellStream1)\n",
        "template1.addStream(wellStream2)\n",
        "\n",
        "template1.run()\n",
        "\n",
        "pipe = jNeqSim.processSimulation.processEquipment.pipeline.PipeBeggsAndBrills(template1.getOutStream())\n",
        "pipe.setDiameter(1.017112);\n",
        "pipe.setPipeWallRoughness(5e-6);\n",
        "pipe.setLength(1000);\n",
        "pipe.setElevation(500.0);\n",
        "pipe.setAngle(0);\n",
        "pipe.setNumberOfIncrements(2);\n",
        "pipe.run()\n",
        "\n",
        "print('pressure drop ', pipe.getPressureDrop(), 'bara')\n",
        "print('flow regine ',pipe.getFlowRegime())\n",
        "\n",
        "pipeline = cooler(pipe.getOutStream())\n",
        "pipeline.setOutPressure(85.0, 'bara')\n",
        "pipeline.setOutTemperature(45.0, 'C')\n",
        "pipeline.run()\n",
        "\n",
        "printFrame(pipe.getOutStream().getFluid())\n",
        "printFrame(pipeline.getOutStream().getFluid())\n",
        "\n",
        "#print('gas flow rate ',\n",
        "\n"
      ],
      "metadata": {
        "colab": {
          "base_uri": "https://localhost:8080/"
        },
        "id": "JreZ8BDAt9v4",
        "outputId": "c4ae57d1-4081-4e56-acd3-371eb1d284be"
      },
      "execution_count": null,
      "outputs": [
        {
          "output_type": "stream",
          "name": "stdout",
          "text": [
            "pressure drop  55.321459591667 bara\n",
            "flow regine  TRANSITION\n",
            "| 0                  | 1           | 2                 | 3                 | 4   | 5   | 6               |\n",
            "|:-------------------|:------------|:------------------|:------------------|:----|:----|:----------------|\n",
            "|                    | total       | gas               | oil               |     |     |                 |\n",
            "| nitrogen           | 3.98901E-3  | 5.58469E-3        | 6.78574E-4        |     |     | [mole fraction] |\n",
            "| CO2                | 2.97125E-2  | 3.59927E-2        | 1.66837E-2        |     |     | [mole fraction] |\n",
            "| methane            | 6.00755E-1  | 7.90369E-1        | 2.07379E-1        |     |     | [mole fraction] |\n",
            "| ethane             | 7.46447E-2  | 8.21468E-2        | 5.90808E-2        |     |     | [mole fraction] |\n",
            "| propane            | 4.58046E-2  | 3.98882E-2        | 5.80787E-2        |     |     | [mole fraction] |\n",
            "| i-butane           | 8.63655E-3  | 5.98422E-3        | 1.41391E-2        |     |     | [mole fraction] |\n",
            "| n-butane           | 1.84742E-2  | 1.13069E-2        | 3.33436E-2        |     |     | [mole fraction] |\n",
            "| i-pentane          | 7.81225E-3  | 3.44918E-3        | 1.6864E-2         |     |     | [mole fraction] |\n",
            "| n-pentane          | 1.00299E-2  | 3.95995E-3        | 2.26228E-2        |     |     | [mole fraction] |\n",
            "| n-hexane           | 1.44452E-2  | 3.44294E-3        | 3.72706E-2        |     |     | [mole fraction] |\n",
            "| C7_PC              | 2.54865E-2  | 3.65126E-3        | 7.07864E-2        |     |     | [mole fraction] |\n",
            "| C8_PC              | 2.76012E-2  | 2.41931E-3        | 7.9844E-2         |     |     | [mole fraction] |\n",
            "| C9_PC              | 1.74416E-2  | 8.75459E-4        | 5.181E-2          |     |     | [mole fraction] |\n",
            "| C10_PC             | 1.44245E-2  | 4.07916E-4        | 4.35035E-2        |     |     | [mole fraction] |\n",
            "| C11_PC             | 1.03421E-2  | 1.81527E-4        | 3.14215E-2        |     |     | [mole fraction] |\n",
            "| C12_PC             | 8.42921E-3  | 9.0043E-5         | 2.57298E-2        |     |     | [mole fraction] |\n",
            "| C13_PC             | 1.10902E-2  | 6.86909E-5        | 3.39555E-2        |     |     | [mole fraction] |\n",
            "| C14_PC             | 6.45786E-3  | 2.80383E-5        | 1.97973E-2        |     |     | [mole fraction] |\n",
            "| C15_PC             | 8.24978E-3  | 2.05064E-5        | 2.53224E-2        |     |     | [mole fraction] |\n",
            "| C16_PC             | 4.74285E-3  | 7.56022E-6        | 1.45668E-2        |     |     | [mole fraction] |\n",
            "| C17_PC             | 5.94425E-3  | 4.96274E-6        | 1.8266E-2         |     |     | [mole fraction] |\n",
            "| C18_PC             | 4.29255E-3  | 1.96648E-6        | 1.31939E-2        |     |     | [mole fraction] |\n",
            "| C19_PC             | 4.3323E-3   | 1.03358E-6        | 1.3318E-2         |     |     | [mole fraction] |\n",
            "| C20-21_PC          | 4.74208E-3  | 6.63073E-7        | 1.45787E-2        |     |     | [mole fraction] |\n",
            "| C22-24_PC          | 5.4052E-3   | 2.15859E-7        | 1.66185E-2        |     |     | [mole fraction] |\n",
            "| C25-27_PC          | 3.85723E-3  | 3.4005E-8         | 1.18594E-2        |     |     | [mole fraction] |\n",
            "| C28-31_PC          | 3.47201E-3  | 5.15726E-9        | 1.06751E-2        |     |     | [mole fraction] |\n",
            "| C32-36_PC          | 2.61384E-3  | 4.29366E-10       | 8.03657E-3        |     |     | [mole fraction] |\n",
            "| C37-44_PC          | 2.03657E-3  | 1.94348E-11       | 6.26167E-3        |     |     | [mole fraction] |\n",
            "| C45-79_PC          | 1.34285E-3  | 1.51055E-13       | 4.12874E-3        |     |     | [mole fraction] |\n",
            "| water              | 1.33912E-2  | 1.01164E-2        | 2.01852E-2        |     |     | [mole fraction] |\n",
            "|                    |             |                   |                   |     |     |                 |\n",
            "| Density            |             | 6.40872E1         | 6.91484E2         |     |     | [kg/m^3]        |\n",
            "| PhaseFraction      |             | 6.74756E-1        | 3.25244E-1        |     |     | [mole fraction] |\n",
            "| MolarMass          | 5.05913E1   | 2.14803E1         | 1.10985E2         |     |     | [kg/kmol]       |\n",
            "| Z factor           |             | 9.04833E-1        | 4.7724E-1         |     |     | [-]             |\n",
            "| Heat Capacity (Cp) |             | 2.57812E0         | 2.40661E0         |     |     | [kJ/kg*K]       |\n",
            "| Heat Capacity (Cv) |             | 1.81797E0         | 2.10198E0         |     |     | [kJ/kg*K]       |\n",
            "| Speed of Sound     |             | 4.10044E2         | 7.81628E2         |     |     | [m/sec]         |\n",
            "| Enthalpy           | -8.90722E1  | 1.11049E2         | -1.69426E2        |     |     | [kJ/kg]         |\n",
            "| Entropy            | -3.95866E-1 | -9.26959E-1       | -1.82618E-1       |     |     | [kJ/kg*K]       |\n",
            "| JT coefficient     |             | 3.20176E-1        | -3.62003E-2       |     |     | [K/bar]         |\n",
            "|                    |             |                   |                   |     |     |                 |\n",
            "| Viscosity          |             | 1.52461E-5        | 3.31248E-4        |     |     | [kg/m*sec]      |\n",
            "| Conductivity       |             | 4.59861E-2        | 1.00203E-1        |     |     | [W/m*K]         |\n",
            "| SurfaceTension     |             | 1.54016E-3        | 1.54016E-3        |     |     | [N/m]           |\n",
            "|                    |             |                   |                   |     |     |                 |\n",
            "|                    |             |                   |                   |     |     |                 |\n",
            "|                    |             |                   |                   |     |     |                 |\n",
            "| Pressure           |             | 81.21800657018147 | 81.21800657018147 |     |     | [bar]           |\n",
            "| Temperature        |             | 363.4947128385758 | 363.4947128385758 |     |     | [K]             |\n",
            "|                    |             |                   |                   |     |     |                 |\n",
            "| Model              |             | SRK-EOS           | SRK-EOS           |     |     | -               |\n",
            "| Mixing Rule        |             | classic           | classic           |     |     | -               |\n",
            "|                    |             |                   |                   |     |     |                 |\n",
            "| Stream             |             |                   |                   |     |     | -               |\n",
            "|                    |             |                   |                   |     |     |                 |\n",
            "|                    |             |                   |                   |     |     |                 |\n",
            "|                    |             |                   |                   |     |     |                 |\n",
            "|                    |             |                   |                   |     |     |                 |\n",
            "| 0                  | 1           | 2           | 3           | 4           | 5   | 6               |\n",
            "|:-------------------|:------------|:------------|:------------|:------------|:----|:----------------|\n",
            "|                    | total       | gas         | oil         | aqueous     |     |                 |\n",
            "| nitrogen           | 3.98901E-3  | 6.17843E-3  | 7.70539E-4  | 5.27834E-9  |     | [mole fraction] |\n",
            "| CO2                | 2.97125E-2  | 3.49739E-2  | 2.25294E-2  | 3.88927E-5  |     | [mole fraction] |\n",
            "| methane            | 6.00755E-1  | 8.362E-1    | 2.59364E-1  | 1.13853E-6  |     | [mole fraction] |\n",
            "| ethane             | 7.46447E-2  | 7.41934E-2  | 7.73786E-2  | 3.28271E-9  |     | [mole fraction] |\n",
            "| propane            | 4.58046E-2  | 2.96607E-2  | 7.15996E-2  | 1.54246E-12 |     | [mole fraction] |\n",
            "| i-butane           | 8.63655E-3  | 3.83355E-3  | 1.6174E-2   | 6.55896E-16 |     | [mole fraction] |\n",
            "| n-butane           | 1.84742E-2  | 6.637E-3    | 3.69735E-2  | 1.70819E-15 |     | [mole fraction] |\n",
            "| i-pentane          | 7.81225E-3  | 1.72453E-3  | 1.72798E-2  | 2.86729E-18 |     | [mole fraction] |\n",
            "| n-pentane          | 1.00299E-2  | 1.86132E-3  | 2.27212E-2  | 1.79229E-18 |     | [mole fraction] |\n",
            "| n-hexane           | 1.44452E-2  | 1.33087E-3  | 3.4775E-2   | 1.94138E-21 |     | [mole fraction] |\n",
            "| C7_PC              | 2.54865E-2  | 1.09022E-3  | 6.32678E-2  | 9.68704E-14 |     | [mole fraction] |\n",
            "| C8_PC              | 2.76012E-2  | 6.35306E-4  | 6.93462E-2  | 6.82132E-16 |     | [mole fraction] |\n",
            "| C9_PC              | 1.74416E-2  | 2.01791E-4  | 4.41244E-2  | 1.66571E-18 |     | [mole fraction] |\n",
            "| C10_PC             | 1.44245E-2  | 8.42374E-5  | 3.66172E-2  | 1.0361E-22  |     | [mole fraction] |\n",
            "| C11_PC             | 1.03421E-2  | 3.41652E-5  | 2.62938E-2  | 1.19681E-25 |     | [mole fraction] |\n",
            "| C12_PC             | 8.42921E-3  | 1.53298E-5  | 2.14494E-2  | 5.45487E-28 |     | [mole fraction] |\n",
            "| C13_PC             | 1.10902E-2  | 1.04507E-5  | 2.82354E-2  | 6.44463E-30 |     | [mole fraction] |\n",
            "| C14_PC             | 6.45786E-3  | 3.94183E-6  | 1.64449E-2  | 8.46302E-31 |     | [mole fraction] |\n",
            "| C15_PC             | 8.24978E-3  | 2.58147E-6  | 2.10117E-2  | 3.67158E-33 |     | [mole fraction] |\n",
            "| C16_PC             | 4.74285E-3  | 8.6676E-7   | 1.20807E-2  | 1.02538E-34 |     | [mole fraction] |\n",
            "| C17_PC             | 5.94425E-3  | 5.05823E-7  | 1.51417E-2  | 1.60565E-38 |     | [mole fraction] |\n",
            "| C18_PC             | 4.29255E-3  | 1.77747E-7  | 1.09347E-2  | 5.28992E-41 |     | [mole fraction] |\n",
            "| C19_PC             | 4.3323E-3   | 8.11411E-8  | 1.10361E-2  | 2.4711E-42  |     | [mole fraction] |\n",
            "| C20-21_PC          | 4.74208E-3  | 4.58802E-8  | 1.208E-2    | 3.69814E-42 |     | [mole fraction] |\n",
            "| C22-24_PC          | 5.4052E-3   | 1.15682E-8  | 1.37693E-2  | 6.23058E-46 |     | [mole fraction] |\n",
            "| C25-27_PC          | 3.85723E-3  | 1.3398E-9   | 9.82599E-3  | 3.79092E-50 |     | [mole fraction] |\n",
            "| C28-31_PC          | 3.47201E-3  | 1.41985E-10 | 8.84467E-3  | 1.80559E-54 |     | [mole fraction] |\n",
            "| C32-36_PC          | 2.61384E-3  | 7.67404E-12 | 6.65856E-3  | 2.34189E-59 |     | [mole fraction] |\n",
            "| C37-44_PC          | 2.03657E-3  | 2.05067E-13 | 5.18799E-3  | 2.59574E-65 |     | [mole fraction] |\n",
            "| C45-79_PC          | 1.34285E-3  | 8.32953E-16 | 3.4208E-3   | 1.45959E-76 |     | [mole fraction] |\n",
            "| water              | 1.33912E-2  | 1.32629E-3  | 4.66334E-3  | 9.9996E-1   |     | [mole fraction] |\n",
            "|                    |             |             |             |             |     |                 |\n",
            "| Density            |             | 7.52088E1   | 7.0416E2    | 9.84573E2   |     | [kg/m^3]        |\n",
            "| PhaseFraction      |             | 5.96676E-1  | 3.92554E-1  | 1.07697E-2  |     | [mole fraction] |\n",
            "| MolarMass          | 5.05913E1   | 1.98845E1   | 9.81588E1   | 1.8016E1    |     | [kg/kmol]       |\n",
            "| Z factor           |             | 8.53496E-1  | 4.95396E-1  | 7.75488E-2  |     | [-]             |\n",
            "| Heat Capacity (Cp) |             | 2.71459E0   | 2.24683E0   | 4.79154E0   |     | [kJ/kg*K]       |\n",
            "| Heat Capacity (Cv) |             | 1.7053E0    | 1.94419E0   | 3.44909E0   |     | [kJ/kg*K]       |\n",
            "| Speed of Sound     |             | 4.00926E2   | 8.98574E2   | 3.244E3     |     | [m/sec]         |\n",
            "| Enthalpy           | -2.15773E2  | -8.97758E-1 | -2.7064E2   | -2.45913E3  |     | [kJ/kg]         |\n",
            "| Entropy            | -7.73191E-1 | -1.4708E0   | -5.29288E-1 | -6.55233E0  |     | [kJ/kg*K]       |\n",
            "| JT coefficient     |             | 3.85412E-1  | -4.39537E-2 | -2.13186E-2 |     | [K/bar]         |\n",
            "|                    |             |             |             |             |     |                 |\n",
            "| Viscosity          |             | 1.44254E-5  | 3.80225E-4  | 5.96551E-4  |     | [kg/m*sec]      |\n",
            "| Conductivity       |             | 4.28099E-2  | 1.09106E-1  | 6.41519E-1  |     | [W/m*K]         |\n",
            "| SurfaceTension     |             | 1.54016E-3  | 1.54016E-3  |             |     | [N/m]           |\n",
            "|                    |             |             | 2.62927E-2  | 2.62927E-2  |     | [N/m]           |\n",
            "|                    |             | 1.81984E-2  |             | 1.81984E-2  |     | [N/m]           |\n",
            "|                    |             |             |             |             |     |                 |\n",
            "| Pressure           |             | 85.0        | 85.0        | 85.0        |     | [bar]           |\n",
            "| Temperature        |             | 318.15      | 318.15      | 318.15      |     | [K]             |\n",
            "|                    |             |             |             |             |     |                 |\n",
            "| Model              |             | SRK-EOS     | SRK-EOS     | SRK-EOS     |     | -               |\n",
            "| Mixing Rule        |             | classic     | classic     | classic     |     | -               |\n",
            "|                    |             |             |             |             |     |                 |\n",
            "| Stream             |             |             |             |             |     | -               |\n",
            "|                    |             |             |             |             |     |                 |\n",
            "|                    |             |             |             |             |     |                 |\n",
            "|                    |             |             |             |             |     |                 |\n",
            "|                    |             |             |             |             |     |                 |\n"
          ]
        }
      ]
    },
    {
      "cell_type": "markdown",
      "source": [
        "# Setting up topside process\n"
      ],
      "metadata": {
        "id": "IkDtifEqwtEg"
      }
    },
    {
      "cell_type": "code",
      "source": [
        "from neqsim.process.processTools import separator3phase\n",
        "\n",
        "inletSeparator = separator3phase(pipeline.getOutStream())\n",
        "inletSeparator.setName(\"1st stage separator\")\n",
        "\n",
        "inletSeparator.run()\n",
        "\n",
        "\n",
        "print('gas flow ', inletSeparator.getGasOutStream().getFlowRate('MSm3/day'), ' MSm3/day')\n",
        "print('oil flow ', inletSeparator.getOilOutStream().getFlowRate('kg/day')/inletSeparator.getOilOutStream().getFluid().getPhase('oil').getDensity('kg/m3'), ' m3/day')"
      ],
      "metadata": {
        "colab": {
          "base_uri": "https://localhost:8080/"
        },
        "id": "vUfBBL86wvoN",
        "outputId": "2327cae3-fe18-466f-b00d-64ae0995ecea"
      },
      "execution_count": null,
      "outputs": [
        {
          "output_type": "stream",
          "name": "stdout",
          "text": [
            "gas flow  6.29206218495144  MSm3/day\n",
            "oil flow  37283.37258974767  m3/day\n"
          ]
        }
      ]
    }
  ]
}