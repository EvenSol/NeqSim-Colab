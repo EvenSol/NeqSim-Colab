{
  "nbformat": 4,
  "nbformat_minor": 0,
  "metadata": {
    "colab": {
      "provenance": [],
      "authorship_tag": "ABX9TyOrfEQV8cLLUQ+PaplRAoxX",
      "include_colab_link": true
    },
    "kernelspec": {
      "name": "python3",
      "display_name": "Python 3"
    },
    "language_info": {
      "name": "python"
    }
  },
  "cells": [
    {
      "cell_type": "markdown",
      "metadata": {
        "id": "view-in-github",
        "colab_type": "text"
      },
      "source": [
        "<a href=\"https://colab.research.google.com/github/EvenSol/NeqSim-Colab/blob/master/notebooks/reservoir/fieldDevelopment1.ipynb\" target=\"_parent\"><img src=\"https://colab.research.google.com/assets/colab-badge.svg\" alt=\"Open In Colab\"/></a>"
      ]
    },
    {
      "cell_type": "code",
      "execution_count": null,
      "metadata": {
        "id": "dZZoiemCrKaA"
      },
      "outputs": [],
      "source": []
    },
    {
      "cell_type": "markdown",
      "source": [
        "# Use of NeqSim for field development analysis\n",
        "In this notebokk we will analyze a field development using neqsim. The analysis will be from reservoir to market."
      ],
      "metadata": {
        "id": "mMcanu2TrSbN"
      }
    },
    {
      "cell_type": "code",
      "source": [
        "%%capture\n",
        "!pip install neqsim"
      ],
      "metadata": {
        "id": "fSR6q-HVrmpu"
      },
      "execution_count": 1,
      "outputs": []
    },
    {
      "cell_type": "markdown",
      "source": [
        "# Creating reservoir fluid"
      ],
      "metadata": {
        "id": "GR90pwo-sur9"
      }
    },
    {
      "cell_type": "code",
      "source": [
        "import neqsim\n",
        "from neqsim.thermo.thermoTools import *\n",
        "from neqsim.process.processTools import simplereservoir,clearProcess,runProcess, getProcess\n",
        "\n",
        "\n",
        "fluid1 = fluid('pr')\n",
        "fluid1.addComponent(\"nitrogen\", 0.100)\n",
        "fluid1.addComponent(\"CO2\", 0.100)\n",
        "fluid1.addComponent(\"methane\", 30.00)\n",
        "fluid1.addComponent(\"ethane\", 1.0)\n",
        "fluid1.addComponent(\"propane\", 1.0)\n",
        "fluid1.addComponent(\"i-butane\", 1.0)\n",
        "fluid1.addComponent(\"n-butane\", 1.0)\n",
        "fluid1.addComponent(\"n-hexane\", 0.1)\n",
        "fluid1.addComponent(\"n-heptane\", 0.1)\n",
        "fluid1.addComponent(\"n-nonane\", 1.0)\n",
        "fluid1.addComponent(\"nC10\", 1.0)\n",
        "fluid1.addComponent(\"nC12\", 3.0)\n",
        "fluid1.addComponent(\"nC15\", 3.0)\n",
        "fluid1.addComponent(\"nC20\", 1.0)\n",
        "fluid1.addComponent(\"water\", 11.0)\n",
        "fluid1.setMixingRule(2)\n",
        "fluid1.setMultiPhaseCheck(True)"
      ],
      "metadata": {
        "id": "7C0CKb2NsyGM"
      },
      "execution_count": 2,
      "outputs": []
    },
    {
      "cell_type": "markdown",
      "source": [
        "# Create reservoir and wells"
      ],
      "metadata": {
        "id": "8yp3GtuUt1Oe"
      }
    },
    {
      "cell_type": "code",
      "source": [
        "clearProcess()\n",
        "\n",
        "fluid1.setPressure(100.0, 'bara')\n",
        "fluid1.setTemperature(100.0, 'C')\n",
        "reservoir1Ops = simplereservoir(fluid1, \"Reservoir Formation 1\", gasvolume=5.0 * 1e7, oilvolume=552.0 * 1e6, watervolume=10.0e6)\n",
        "\n",
        "initFLowRate = 25020000.0\n",
        "producedOilStream1 = reservoir1Ops.addOilProducer(\"SLP_A32562O\")\n",
        "producedOilStream1.setFlowRate(initFLowRate, \"kg/day\")\n",
        "\n",
        "fluid2 = fluid1.clone()\n",
        "fluid2.addComponent('methane', 10.0);\n",
        "fluid2.setPressure(100.0, 'bara')\n",
        "fluid2.setTemperature(90.0, 'C')\n",
        "reservoir2Ops = simplereservoir(fluid2, \"Reservoir Formation 2\", gasvolume=5.0 * 1e8, oilvolume=52.0 * 1e6, watervolume=10.0e6)\n",
        "\n",
        "producedGasStream2 = reservoir2Ops.addGasProducer(\"SLP_A32562O\")\n",
        "producedGasStream2.setFlowRate(7.0, \"MSm3/day\")\n",
        "\n",
        "runProcess()\n",
        "getProcess().save('reservoir.neqsim')\n"
      ],
      "metadata": {
        "id": "acJj9N6Wr1oQ"
      },
      "execution_count": 14,
      "outputs": []
    },
    {
      "cell_type": "markdown",
      "source": [
        "# Calculate well flow rates\n",
        "Insert Beggs and Brills multiphase calculation for well stream... and influx equiations for wells..."
      ],
      "metadata": {
        "id": "pvq6GchL1AmF"
      }
    },
    {
      "cell_type": "code",
      "source": [
        "from neqsim.process import getProcess, openprocess\n",
        "resmodel = openprocess('reservoir.neqsim')\n",
        "reservoir1 = resmodel.getUnit('Reservoir Formation 1')\n",
        "wellStream1 = reservoir1.getOilProducer(0).getStream()\n",
        "wellStream1.setFlowRate(initFLowRate, \"kg/day\")\n",
        "\n",
        "reservoir2 = resmodel.getUnit('Reservoir Formation 2')\n",
        "wellStream2 = reservoir2.getGasProducer(0).getStream()\n",
        "\n",
        "deltat = 24*60*60.0*365\n",
        "resmodel.setTimeStep(deltat)\n",
        "\n",
        "resmodel.runTransient()\n",
        "\n",
        "print('pressure res 1 ', reservoir1.getReservoirFluid().getPressure('bara'))\n",
        "print('pressure res 2 ', reservoir2.getReservoirFluid().getPressure('bara'))"
      ],
      "metadata": {
        "colab": {
          "base_uri": "https://localhost:8080/"
        },
        "id": "MvwndMIkzYoh",
        "outputId": "4fb515b6-c291-4830-d282-9d80d87d1aea"
      },
      "execution_count": 21,
      "outputs": [
        {
          "output_type": "stream",
          "name": "stdout",
          "text": [
            "pressure res 1  95.28551722459422\n",
            "pressure res 2  94.79809143790816\n"
          ]
        }
      ]
    },
    {
      "cell_type": "markdown",
      "source": [
        "# Add subsea system"
      ],
      "metadata": {
        "id": "XdWv3yFtt6j0"
      }
    },
    {
      "cell_type": "code",
      "source": [
        "from neqsim.process.processTools import mixer,cooler\n",
        "\n",
        "template1 = mixer(\"template 1\")\n",
        "template1.addStream(wellStream1)\n",
        "template1.addStream(wellStream2)\n",
        "\n",
        "template1.run()\n",
        "\n",
        "\n",
        "pipeline = cooler(template1.getOutStream())\n",
        "pipeline.setOutPressure(85.0, 'bara')\n",
        "pipeline.setOutTemperature(45.0, 'C')\n",
        "\n",
        "pipeline.run()\n",
        "\n",
        "printFrame(pipeline.getOutStream().getFluid())\n",
        "\n",
        "\n",
        "#print('gas flow rate ', \n",
        "\n"
      ],
      "metadata": {
        "colab": {
          "base_uri": "https://localhost:8080/"
        },
        "id": "JreZ8BDAt9v4",
        "outputId": "7b21c58f-9d37-48cf-e35a-d12472d203a3"
      },
      "execution_count": null,
      "outputs": [
        {
          "output_type": "stream",
          "name": "stdout",
          "text": [
            "| 0                  | 1           | 2          | 3           | 4           | 5   | 6               |\n",
            "|:-------------------|:------------|:-----------|:------------|:------------|:----|:----------------|\n",
            "|                    | total       | gas        | oil         | aqueous     |     |                 |\n",
            "| nitrogen           | 2.20418E-3  | 3.6422E-3  | 6.35498E-4  | 3.28952E-9  |     | [mole fraction] |\n",
            "| CO2                | 2.14563E-3  | 2.3016E-3  | 2.05536E-3  | 9.74335E-7  |     | [mole fraction] |\n",
            "| methane            | 6.48547E-1  | 9.42235E-1 | 3.36485E-1  | 1.90326E-7  |     | [mole fraction] |\n",
            "| ethane             | 2.16347E-2  | 2.08132E-2 | 2.34902E-2  | 4.01918E-11 |     | [mole fraction] |\n",
            "| propane            | 2.2196E-2   | 1.30954E-2 | 3.36383E-2  | 6.18221E-13 |     | [mole fraction] |\n",
            "| i-butane           | 2.27436E-2  | 8.76209E-3 | 3.98468E-2  | 1.31224E-15 |     | [mole fraction] |\n",
            "| n-butane           | 2.29588E-2  | 7.24962E-3 | 4.20667E-2  | 1.61785E-15 |     | [mole fraction] |\n",
            "| n-hexane           | 2.42424E-3  | 1.90942E-4 | 5.10552E-3  | 2.17514E-22 |     | [mole fraction] |\n",
            "| n-heptane          | 2.46314E-3  | 9.96987E-5 | 5.29638E-3  | 1.11865E-25 |     | [mole fraction] |\n",
            "| n-nonane           | 2.51223E-2  | 2.36819E-4 | 5.49204E-2  | 1.49161E-31 |     | [mole fraction] |\n",
            "| nC10               | 2.52664E-2  | 1.14381E-4 | 5.53784E-2  | 1.24725E-20 |     | [mole fraction] |\n",
            "| nC12               | 7.61183E-2  | 1.01853E-4 | 1.67115E-1  | 3.9669E-25  |     | [mole fraction] |\n",
            "| nC15               | 7.62964E-2  | 1.69106E-5 | 1.67604E-1  | 4.45038E-34 |     | [mole fraction] |\n",
            "| nC20               | 2.54523E-2  | 3.06483E-7 | 5.59187E-2  | 5.30637E-51 |     | [mole fraction] |\n",
            "| water              | 2.44272E-2  | 1.13981E-3 | 1.0443E-2   | 9.99999E-1  |     | [mole fraction] |\n",
            "|                    |             |            |             |             |     |                 |\n",
            "| Density            |             | 6.47182E1  | 6.76098E2   | 9.71211E2   |     | [kg/m^3]        |\n",
            "| PhaseFraction      |             | 5.25761E-1 | 4.55164E-1  | 1.90747E-2  |     | [mole fraction] |\n",
            "| MolarMass          | 5.89206E1   | 1.75682E1  | 1.08401E2   | 1.8015E1    |     | [kg/kmol]       |\n",
            "| Z factor           |             | 8.55665E-1 | 5.83316E-1  | 6.90159E-2  |     | [-]             |\n",
            "| Heat Capacity (Cp) |             | 2.78347E0  | 2.21644E0   | 4.49202E0   |     | [kJ/kg*K]       |\n",
            "| Heat Capacity (Cv) |             | 1.79019E0  | 1.97013E0   | 3.19202E0   |     | [kJ/kg*K]       |\n",
            "| Speed of Sound     |             | 4.23771E2  | 9.72885E2   | 3.41817E3   |     | [m/sec]         |\n",
            "| Enthalpy           | -2.17726E2  | 6.66355E0  | -2.44578E2  | -2.39374E3  |     | [kJ/kg]         |\n",
            "| Entropy            | -7.28774E-1 | -1.82324E0 | -4.84474E-1 | -6.38774E0  |     | [kJ/kg*K]       |\n",
            "| JT coefficient     |             | 3.56198E-1 | -5.24957E-2 | -2.06173E-2 |     | [K/bar]         |\n",
            "|                    |             |            |             |             |     |                 |\n",
            "| Viscosity          |             | 1.39221E-5 | 4.7187E-4   | 5.96561E-4  |     | [kg/m*sec]      |\n",
            "| Conductivity       |             | 4.48513E-2 | 1.05728E-1  | 6.4152E-1   |     | [W/m*K]         |\n",
            "| SurfaceTension     |             | 7.1783E-3  | 7.1783E-3   |             |     | [N/m]           |\n",
            "|                    |             |            | 3.12035E-2  | 3.12035E-2  |     | [N/m]           |\n",
            "|                    |             | 3.50758E-2 |             | 3.50758E-2  |     | [N/m]           |\n",
            "|                    |             |            |             |             |     |                 |\n",
            "| Pressure           |             | 85.0       | 85.0        | 85.0        |     | [bar]           |\n",
            "| Temperature        |             | 318.15     | 318.15      | 318.15      |     | [K]             |\n",
            "|                    |             |            |             |             |     |                 |\n",
            "| Model              |             | PR-EOS     | PR-EOS      | PR-EOS      |     | -               |\n",
            "| Mixing Rule        |             | classic    | classic     | classic     |     | -               |\n",
            "|                    |             |            |             |             |     |                 |\n",
            "| Stream             |             |            |             |             |     | -               |\n",
            "|                    |             |            |             |             |     |                 |\n",
            "|                    |             |            |             |             |     |                 |\n",
            "|                    |             |            |             |             |     |                 |\n",
            "|                    |             |            |             |             |     |                 |\n"
          ]
        }
      ]
    },
    {
      "cell_type": "markdown",
      "source": [
        "# Setting up topside process\n"
      ],
      "metadata": {
        "id": "IkDtifEqwtEg"
      }
    },
    {
      "cell_type": "code",
      "source": [
        "from neqsim.process.processTools import separator3phase\n",
        "\n",
        "inletSeparator = separator3phase(pipeline.getOutStream())\n",
        "inletSeparator.setName(\"1st stage separator\")\n",
        "\n",
        "inletSeparator.run()\n",
        "\n",
        "\n",
        "print('gas flow ', inletSeparator.getGasOutStream().getFlowRate('MSm3/day'), ' MSm3/day')\n",
        "print('oil flow ', inletSeparator.getOilOutStream().getFlowRate('kg/day')/inletSeparator.getOilOutStream().getFluid().getPhase('oil').getDensity('kg/m3'), ' m3/day')"
      ],
      "metadata": {
        "colab": {
          "base_uri": "https://localhost:8080/"
        },
        "id": "vUfBBL86wvoN",
        "outputId": "f17b191a-66b5-451c-d11d-9dab62ec610a"
      },
      "execution_count": null,
      "outputs": [
        {
          "output_type": "stream",
          "name": "stdout",
          "text": [
            "gas flow  6.520314669832758  MSm3/day\n",
            "oil flow  38276.84387956223  m3/day\n"
          ]
        }
      ]
    }
  ]
}