{
  "nbformat": 4,
  "nbformat_minor": 0,
  "metadata": {
    "colab": {
      "provenance": [],
      "authorship_tag": "ABX9TyPhQU50Wl9mfHwvgMbFZ8ah",
      "include_colab_link": true
    },
    "kernelspec": {
      "name": "python3",
      "display_name": "Python 3"
    },
    "language_info": {
      "name": "python"
    }
  },
  "cells": [
    {
      "cell_type": "markdown",
      "metadata": {
        "id": "view-in-github",
        "colab_type": "text"
      },
      "source": [
        "<a href=\"https://colab.research.google.com/github/EvenSol/NeqSim-Colab/blob/master/notebooks/reservoir/fieldDevelopment1.ipynb\" target=\"_parent\"><img src=\"https://colab.research.google.com/assets/colab-badge.svg\" alt=\"Open In Colab\"/></a>"
      ]
    },
    {
      "cell_type": "code",
      "execution_count": null,
      "metadata": {
        "id": "dZZoiemCrKaA"
      },
      "outputs": [],
      "source": []
    },
    {
      "cell_type": "markdown",
      "source": [
        "# Use of NeqSim for field development analysis\n",
        "In this notebokk we will analyze a field development using neqsim. The analysis will be from reservoir to market.\n",
        "\n",
        "We will use open data from Equinor to perform the field analsysis:\n",
        "\n",
        "https://data.equinor.com/?_ga=2.147929335.153137805.1645782099-612346679.1645782099\n",
        "\n",
        "In the follwoing case, we will use the open data for the decommissioned field Volve field:\n",
        "\n",
        "https://data.equinor.com/dataset/Volve\n",
        "\n",
        "\n"
      ],
      "metadata": {
        "id": "mMcanu2TrSbN"
      }
    },
    {
      "cell_type": "markdown",
      "source": [
        "# The Volve field\n",
        "The Volve field was discovered in 1993 (Discovery well 15/9-19 SR). Located in the central part of the north sea, 5 km north of Sleipner East, waterdepth 80 m.\n",
        "\n",
        "Volve is a field in the central part of the North Sea, five kilometres north of the Sleipner Øst field. The water depth is 80 metres. Volve was discovered in 1993, and the plan for development and operation (PDO) was approved in 2005. The field was developed with a jack-up processing and drilling facility. The vessel \"Navion Saga\" was used for storing stabilised oil. Production started in 2008.\n",
        "\n",
        "https://www.norskpetroleum.no/en/facts/field/volve/"
      ],
      "metadata": {
        "id": "J5RuVWYwk9-9"
      }
    },
    {
      "cell_type": "code",
      "source": [
        "%%capture\n",
        "!pip install neqsim"
      ],
      "metadata": {
        "id": "fSR6q-HVrmpu"
      },
      "execution_count": 1,
      "outputs": []
    },
    {
      "cell_type": "code",
      "source": [
        "#Data https://www.norskpetroleum.no/en/facts/field/volve/\n",
        "reservesOil = 10.2 #MSm3 oe\n",
        "reservesGas = 0.8 #MSm3 oe\n",
        "\n",
        "reservesNGL = 0.3 #MSm3 oe\n",
        "\n",
        "reservoirT = 100.0\n",
        "reservoirP = 200.0"
      ],
      "metadata": {
        "id": "r2W1rsqelh6s"
      },
      "execution_count": 8,
      "outputs": []
    },
    {
      "cell_type": "markdown",
      "source": [
        "# Creating reservoir fluid"
      ],
      "metadata": {
        "id": "GR90pwo-sur9"
      }
    },
    {
      "cell_type": "code",
      "source": [
        "import neqsim\n",
        "from neqsim.thermo.thermoTools import *\n",
        "from neqsim.process.processTools import simplereservoir,clearProcess,runProcess, getProcess\n",
        "import pandas as pd\n",
        "\n",
        "gascondensate = {'ComponentName':  [\"nitrogen\", \"CO2\", \"methane\", \"ethane\", \"propane\", \"i-butane\", \"n-butane\", \"i-pentane\", \"n-pentane\", \"n-hexane\", \"C7\", \"C8\", \"C9\", \"C10\", \"C11\", \"C12\", \"C13\", \"C14\", \"C15\", \"C16\", \"C17\", \"C18\", \"C19\", \"C20\"],\n",
        "        'MolarComposition[-]':  [0.53, 3.3, 72.98, 7.68, 4.1, 0.7, 1.42, 0.54, 0.67, 0.85, 1.33, 1.33, 0.78, 0.61, 0.42, 0.33, 0.42, 0.24, 0.3, 0.17, 0.21, 0.15, 0.15, 0.8],\n",
        "        'MolarMass[kg/mol]': [None,None, None,None,None,None,None,None,None,None,0.0913, 0.1041, 0.1188, 0.136, 0.150, 0.164, 0.179, 0.188, 0.204, 0.216, 0.236, 0.253, 0.27, 0.391],\n",
        "        'RelativeDensity[-]': [None,None, None,None,None,None,None,None,None,None, 0.746, 0.768, 0.79, 0.787, 0.793, 0.804, 0.817, 0.83, 0.835, 0.843, 0.837, 0.84, 0.85, 0.877]\n",
        "  }\n",
        "\n",
        "gascondensatedf = pd.DataFrame(gascondensate)\n",
        "print(gascondensatedf.head(30).to_string())\n",
        "gascondensateFluid = fluid_df(gascondensatedf, lastIsPlusFraction=True)\n",
        "gascondensateFluid.setMixingRule(2)\n",
        "gascondensateFluid.setMultiPhaseCheck(True)\n",
        "phaseenvelope(gascondensateFluid, True)\n",
        "\n",
        "watersaturate(gascondensateFluid)\n",
        "TPflash(gascondensateFluid)\n",
        "printFrame(gascondensateFluid)"
      ],
      "metadata": {
        "id": "7C0CKb2NsyGM",
        "colab": {
          "base_uri": "https://localhost:8080/",
          "height": 1000
        },
        "outputId": "e1170a53-f718-44d5-a7a2-38d83d772152"
      },
      "execution_count": 5,
      "outputs": [
        {
          "output_type": "stream",
          "name": "stdout",
          "text": [
            "   ComponentName  MolarComposition[-]  MolarMass[kg/mol]  RelativeDensity[-]\n",
            "0       nitrogen                 0.53                NaN                 NaN\n",
            "1            CO2                 3.30                NaN                 NaN\n",
            "2        methane                72.98                NaN                 NaN\n",
            "3         ethane                 7.68                NaN                 NaN\n",
            "4        propane                 4.10                NaN                 NaN\n",
            "5       i-butane                 0.70                NaN                 NaN\n",
            "6       n-butane                 1.42                NaN                 NaN\n",
            "7      i-pentane                 0.54                NaN                 NaN\n",
            "8      n-pentane                 0.67                NaN                 NaN\n",
            "9       n-hexane                 0.85                NaN                 NaN\n",
            "10            C7                 1.33             0.0913               0.746\n",
            "11            C8                 1.33             0.1041               0.768\n",
            "12            C9                 0.78             0.1188               0.790\n",
            "13           C10                 0.61             0.1360               0.787\n",
            "14           C11                 0.42             0.1500               0.793\n",
            "15           C12                 0.33             0.1640               0.804\n",
            "16           C13                 0.42             0.1790               0.817\n",
            "17           C14                 0.24             0.1880               0.830\n",
            "18           C15                 0.30             0.2040               0.835\n",
            "19           C16                 0.17             0.2160               0.843\n",
            "20           C17                 0.21             0.2360               0.837\n",
            "21           C18                 0.15             0.2530               0.840\n",
            "22           C19                 0.15             0.2700               0.850\n",
            "23           C20                 0.80             0.3910               0.877\n"
          ]
        },
        {
          "output_type": "display_data",
          "data": {
            "text/plain": [
              "<Figure size 640x480 with 1 Axes>"
            ],
            "image/png": "[encoded data removed]"
          },
          "metadata": {}
        },
        {
          "output_type": "stream",
          "name": "stdout",
          "text": [
            "| 0                  | 1          | 2           | 3           | 4   | 5   | 6               |\n",
            "|:-------------------|:-----------|:------------|:------------|:----|:----|:----------------|\n",
            "|                    | total      | GAS         | OIL         |     |     |                 |\n",
            "| nitrogen           | 5.18093E-3 | 5.53951E-3  | 7.17261E-6  |     |     | [mole fraction] |\n",
            "| CO2                | 3.22586E-2 | 3.44605E-2  | 4.88567E-4  |     |     | [mole fraction] |\n",
            "| methane            | 7.13404E-1 | 7.62596E-1  | 3.64317E-3  |     |     | [mole fraction] |\n",
            "| ethane             | 7.50746E-2 | 8.01116E-2  | 2.39896E-3  |     |     | [mole fraction] |\n",
            "| propane            | 4.00789E-2 | 4.25289E-2  | 4.72919E-3  |     |     | [mole fraction] |\n",
            "| i-butane           | 6.84273E-3 | 7.18062E-3  | 1.96769E-3  |     |     | [mole fraction] |\n",
            "| n-butane           | 1.3881E-2  | 1.44321E-2  | 5.92905E-3  |     |     | [mole fraction] |\n",
            "| i-pentane          | 5.27868E-3 | 5.26015E-3  | 5.54607E-3  |     |     | [mole fraction] |\n",
            "| n-pentane          | 6.54947E-3 | 6.37224E-3  | 9.10667E-3  |     |     | [mole fraction] |\n",
            "| n-hexane           | 8.30903E-3 | 6.66427E-3  | 3.20401E-2  |     |     | [mole fraction] |\n",
            "| C7_PC              | 1.30012E-2 | 6.69789E-3  | 1.03947E-1  |     |     | [mole fraction] |\n",
            "| C8_PC              | 1.30012E-2 | 3.45384E-3  | 1.50753E-1  |     |     | [mole fraction] |\n",
            "| C9_PC              | 7.62476E-3 | 7.80753E-4  | 1.06372E-1  |     |     | [mole fraction] |\n",
            "| C10_PC             | 5.96295E-3 | 1.9594E-4   | 8.91708E-2  |     |     | [mole fraction] |\n",
            "| C11_PC             | 4.10564E-3 | 5.19221E-5  | 6.25937E-2  |     |     | [mole fraction] |\n",
            "| C12_PC             | 3.22586E-3 | 1.52837E-5  | 4.95488E-2  |     |     | [mole fraction] |\n",
            "| C13_PC             | 4.10564E-3 | 6.6945E-6   | 6.32462E-2  |     |     | [mole fraction] |\n",
            "| C14_PC             | 2.34608E-3 | 1.95086E-6  | 3.61677E-2  |     |     | [mole fraction] |\n",
            "| C15_PC             | 2.9326E-3  | 8.08384E-7  | 4.52332E-2  |     |     | [mole fraction] |\n",
            "| C16_PC             | 1.66181E-3 | 1.94209E-7  | 2.56359E-2  |     |     | [mole fraction] |\n",
            "| C17_PC             | 2.05282E-3 | 6.45591E-8  | 3.16705E-2  |     |     | [mole fraction] |\n",
            "| C18_PC             | 1.4663E-3  | 1.4232E-8   | 2.26222E-2  |     |     | [mole fraction] |\n",
            "| C19_PC             | 1.4663E-3  | 4.12751E-9  | 2.26224E-2  |     |     | [mole fraction] |\n",
            "| C20-21_PC          | 1.59565E-3 | 1.69686E-9  | 2.4618E-2   |     |     | [mole fraction] |\n",
            "| C22-24_PC          | 1.80495E-3 | 1.72295E-10 | 2.78472E-2  |     |     | [mole fraction] |\n",
            "| C25-27_PC          | 1.28227E-3 | 6.89149E-12 | 1.97832E-2  |     |     | [mole fraction] |\n",
            "| C28-31_PC          | 1.15167E-3 | 2.15874E-13 | 1.77683E-2  |     |     | [mole fraction] |\n",
            "| C32-36_PC          | 8.66202E-4 | 2.69406E-15 | 1.3364E-2   |     |     | [mole fraction] |\n",
            "| C37-44_PC          | 6.74688E-4 | 1.14049E-17 | 1.04092E-2  |     |     | [mole fraction] |\n",
            "| C45-79_PC          | 4.44838E-4 | 2.87092E-21 | 6.86307E-3  |     |     | [mole fraction] |\n",
            "| water              | 2.23687E-2 | 2.36482E-2  | 3.90789E-3  |     |     | [mole fraction] |\n",
            "|                    |            |             |             |     |     |                 |\n",
            "| Density            |            | 9.0629E-1   | 8.09616E2   |     |     | [kg/m^3]        |\n",
            "| PhaseFraction      |            | 9.35184E-1  | 6.48162E-2  |     |     | [mole fraction] |\n",
            "| MolarMass          | 3.20559E1  | 2.23888E1   | 1.71534E2   |     |     | [kg/kmol]       |\n",
            "| Z factor           |            | 9.96612E-1  | 9.68352E-3  |     |     | [-]             |\n",
            "| Heat Capacity (Cp) |            | 1.927E0     | 2.04843E0   |     |     | [kJ/kg*K]       |\n",
            "| Heat Capacity (Cv) |            | 1.54956E0   | 1.88965E0   |     |     | [kJ/kg*K]       |\n",
            "| Speed of Sound     |            | 3.69812E2   | 1.23967E3   |     |     | [m/sec]         |\n",
            "| Enthalpy           | -8.40361E1 | 4.58208E1   | -3.28582E2  |     |     | [kJ/kg]         |\n",
            "| Entropy            | 1.69403E-1 | 5.48415E-1  | -5.4435E-1  |     |     | [kJ/kg*K]       |\n",
            "| JT coefficient     |            | 6.62684E-1  | -5.58333E-2 |     |     | [K/bar]         |\n",
            "|                    |            |             |             |     |     |                 |\n",
            "| Viscosity          |            | 1.09083E-5  | 2.2935E-3   |     |     | [kg/m*sec]      |\n",
            "| Conductivity       |            | 2.92483E-2  | 1.20055E-1  |     |     | [W/m*K]         |\n",
            "| SurfaceTension     |            | 2.21859E-2  | 2.21859E-2  |     |     | [N/m]           |\n",
            "|                    |            |             |             |     |     |                 |\n",
            "|                    |            |             |             |     |     |                 |\n",
            "|                    |            |             |             |     |     |                 |\n",
            "| Pressure           |            | 1.0         | 1.0         |     |     | [bar]           |\n",
            "| Temperature        |            | 298.15      | 298.15      |     |     | [K]             |\n",
            "|                    |            |             |             |     |     |                 |\n",
            "| Model              |            | SRK-EOS     | SRK-EOS     |     |     | -               |\n",
            "| Mixing Rule        |            | classic     | classic     |     |     | -               |\n",
            "|                    |            |             |             |     |     |                 |\n",
            "| Stream             |            |             |             |     |     | -               |\n",
            "|                    |            |             |             |     |     |                 |\n",
            "|                    |            |             |             |     |     |                 |\n",
            "|                    |            |             |             |     |     |                 |\n",
            "|                    |            |             |             |     |     |                 |\n"
          ]
        }
      ]
    },
    {
      "cell_type": "markdown",
      "source": [
        "# Create reservoir and wells\n",
        "Volve produced oil from sandstone of Middle Jurassic age in the Hugin Formation. The reservoir is at a depth of 2,700-3,100 metres. The western part of the structure is heavily faulted and communication across the faults is uncertain.\n",
        "\n",
        "RECOVERY\n",
        "\n",
        "The field was produced with water injection for pressure support."
      ],
      "metadata": {
        "id": "8yp3GtuUt1Oe"
      }
    },
    {
      "cell_type": "code",
      "source": [
        "clearProcess()\n",
        "\n",
        "gascondensateFluid.setPressure(reservoirP, 'bara')\n",
        "gascondensateFluid.setTemperature(100.0, 'C')\n",
        "reservoir1Ops = simplereservoir(gascondensateFluid, \"Reservoir Formation 1\", gasvolume=5.0 * 1e7, oilvolume=552.0 * 1e6, watervolume=10.0e6)\n",
        "\n",
        "initFLowRate = 25020000.0\n",
        "producedOilStream1 = reservoir1Ops.addOilProducer(\"SLP_A32562O\")\n",
        "producedOilStream1.setFlowRate(initFLowRate, \"kg/day\")\n",
        "\n",
        "waterInjectionStream1 = reservoir1Ops.addWaterInjector(\"SLP_waterinj\")\n",
        "waterInjectionStream1.setFlowRate(initFLowRate/1.0, \"kg/day\")\n",
        "\n",
        "fluid2 = gascondensateFluid.clone()\n",
        "fluid2.addComponent('methane', 10.0);\n",
        "fluid2.setPressure(reservoirP, 'bara')\n",
        "fluid2.setTemperature(90.0, 'C')\n",
        "reservoir2Ops = simplereservoir(fluid2, \"Reservoir Formation 2\", gasvolume=5.0 * 1e8, oilvolume=52.0 * 1e6, watervolume=10.0e6)\n",
        "\n",
        "producedGasStream2 = reservoir2Ops.addGasProducer(\"SLP_A32562O\")\n",
        "producedGasStream2.setFlowRate(7.0, \"MSm3/day\")\n",
        "\n",
        "runProcess()\n",
        "getProcess().save('reservoir.neqsim')\n"
      ],
      "metadata": {
        "id": "acJj9N6Wr1oQ"
      },
      "execution_count": 9,
      "outputs": []
    },
    {
      "cell_type": "markdown",
      "source": [
        "# Calculate well flow rates\n",
        "Insert Beggs and Brills multiphase calculation for well stream... and influx equiations for wells..."
      ],
      "metadata": {
        "id": "pvq6GchL1AmF"
      }
    },
    {
      "cell_type": "code",
      "source": [
        "from neqsim.process import getProcess, openprocess\n",
        "resmodel = openprocess('reservoir.neqsim')\n",
        "reservoir1 = resmodel.getUnit('Reservoir Formation 1')\n",
        "wellStream1 = reservoir1.getOilProducer(0).getStream()\n",
        "wellStream1.setFlowRate(initFLowRate, \"kg/day\")\n",
        "\n",
        "reservoir2 = resmodel.getUnit('Reservoir Formation 2')\n",
        "wellStream2 = reservoir2.getGasProducer(0).getStream()\n",
        "\n",
        "deltat = 24*60*60.0*365\n",
        "resmodel.setTimeStep(deltat)\n",
        "\n",
        "resmodel.runTransient()\n",
        "\n",
        "print('pressure res 1 ', reservoir1.getReservoirFluid().getPressure('bara'))\n",
        "print('pressure res 2 ', reservoir2.getReservoirFluid().getPressure('bara'))"
      ],
      "metadata": {
        "colab": {
          "base_uri": "https://localhost:8080/"
        },
        "id": "MvwndMIkzYoh",
        "outputId": "4bd40708-b3b2-40aa-cfb7-cab7e2fd937e"
      },
      "execution_count": 10,
      "outputs": [
        {
          "output_type": "stream",
          "name": "stdout",
          "text": [
            "pressure res 1  197.46877331849177\n",
            "pressure res 2  194.1470219661403\n"
          ]
        }
      ]
    },
    {
      "cell_type": "markdown",
      "source": [
        "# Add subsea system"
      ],
      "metadata": {
        "id": "XdWv3yFtt6j0"
      }
    },
    {
      "cell_type": "code",
      "source": [
        "from neqsim.process.processTools import mixer,cooler\n",
        "\n",
        "template1 = mixer(\"template 1\")\n",
        "template1.addStream(wellStream1)\n",
        "template1.addStream(wellStream2)\n",
        "\n",
        "template1.run()\n",
        "\n",
        "pipe = jNeqSim.processSimulation.processEquipment.pipeline.PipeBeggsAndBrills(template1.getOutStream())\n",
        "pipe.setDiameter(1.017112);\n",
        "pipe.setPipeWallRoughness(5e-6);\n",
        "pipe.setLength(1000);\n",
        "pipe.setElevation(500.0);\n",
        "pipe.setAngle(0);\n",
        "pipe.setNumberOfIncrements(2);\n",
        "pipe.run()\n",
        "\n",
        "print('pressure drop ', pipe.getPressureDrop(), 'bara')\n",
        "print('flow regine ',pipe.getFlowRegime())\n",
        "\n",
        "pipeline = cooler(pipe.getOutStream())\n",
        "pipeline.setOutPressure(85.0, 'bara')\n",
        "pipeline.setOutTemperature(45.0, 'C')\n",
        "pipeline.run()\n",
        "\n",
        "printFrame(pipe.getOutStream().getFluid())\n",
        "printFrame(pipeline.getOutStream().getFluid())\n",
        "\n",
        "#print('gas flow rate ',\n",
        "\n"
      ],
      "metadata": {
        "colab": {
          "base_uri": "https://localhost:8080/"
        },
        "id": "JreZ8BDAt9v4",
        "outputId": "b774f476-0009-4f0c-ebea-f6789f393ad8"
      },
      "execution_count": 11,
      "outputs": [
        {
          "output_type": "stream",
          "name": "stdout",
          "text": [
            "pressure drop  23.45388933755268 bara\n",
            "flow regine  TRANSITION\n",
            "| 0                  | 1           | 2                  | 3                  | 4   | 5   | 6               |\n",
            "|:-------------------|:------------|:-------------------|:-------------------|:----|:----|:----------------|\n",
            "|                    | total       | GAS                | OIL                |     |     |                 |\n",
            "| nitrogen           | 3.98899E-3  | 6.04283E-3         | 1.67979E-3         |     |     | [mole fraction] |\n",
            "| CO2                | 2.97125E-2  | 3.4152E-2          | 2.4721E-2          |     |     | [mole fraction] |\n",
            "| methane            | 6.00754E-1  | 7.94083E-1         | 3.83388E-1         |     |     | [mole fraction] |\n",
            "| ethane             | 7.46447E-2  | 7.61217E-2         | 7.29842E-2         |     |     | [mole fraction] |\n",
            "| propane            | 4.58046E-2  | 3.67482E-2         | 5.59871E-2         |     |     | [mole fraction] |\n",
            "| i-butane           | 8.63658E-3  | 5.74025E-3         | 1.1893E-2          |     |     | [mole fraction] |\n",
            "| n-butane           | 1.84743E-2  | 1.1051E-2          | 2.68205E-2         |     |     | [mole fraction] |\n",
            "| i-pentane          | 7.81228E-3  | 3.70557E-3         | 1.24296E-2         |     |     | [mole fraction] |\n",
            "| n-pentane          | 1.003E-2    | 4.39144E-3         | 1.63695E-2         |     |     | [mole fraction] |\n",
            "| n-hexane           | 1.44452E-2  | 4.54724E-3         | 2.55738E-2         |     |     | [mole fraction] |\n",
            "| C7_PC              | 2.54867E-2  | 5.57628E-3         | 4.78725E-2         |     |     | [mole fraction] |\n",
            "| C8_PC              | 2.76014E-2  | 4.47302E-3         | 5.36052E-2         |     |     | [mole fraction] |\n",
            "| C9_PC              | 1.74417E-2  | 2.01342E-3         | 3.47882E-2         |     |     | [mole fraction] |\n",
            "| C10_PC             | 1.44246E-2  | 1.2078E-3          | 2.92846E-2         |     |     | [mole fraction] |\n",
            "| C11_PC             | 1.03422E-2  | 6.55818E-4         | 2.12328E-2         |     |     | [mole fraction] |\n",
            "| C12_PC             | 8.42927E-3  | 3.95363E-4         | 1.7462E-2          |     |     | [mole fraction] |\n",
            "| C13_PC             | 1.10903E-2  | 3.70403E-4         | 2.31429E-2         |     |     | [mole fraction] |\n",
            "| C14_PC             | 6.45791E-3  | 1.70681E-4         | 1.35268E-2         |     |     | [mole fraction] |\n",
            "| C15_PC             | 8.24984E-3  | 1.54759E-4         | 1.73514E-2         |     |     | [mole fraction] |\n",
            "| C16_PC             | 4.74289E-3  | 6.68946E-5         | 1.00002E-2         |     |     | [mole fraction] |\n",
            "| C17_PC             | 5.9443E-3   | 5.72889E-5         | 1.25632E-2         |     |     | [mole fraction] |\n",
            "| C18_PC             | 4.29258E-3  | 2.83874E-5         | 9.08693E-3         |     |     | [mole fraction] |\n",
            "| C19_PC             | 4.33233E-3  | 1.8612E-5          | 9.18235E-3         |     |     | [mole fraction] |\n",
            "| C20-21_PC          | 4.74212E-3  | 1.39972E-5         | 1.00581E-2         |     |     | [mole fraction] |\n",
            "| C22-24_PC          | 5.40524E-3  | 7.11362E-6         | 1.14745E-2         |     |     | [mole fraction] |\n",
            "| C25-27_PC          | 3.85726E-3  | 1.89652E-6         | 8.19194E-3         |     |     | [mole fraction] |\n",
            "| C28-31_PC          | 3.47204E-3  | 5.29247E-7         | 7.37515E-3         |     |     | [mole fraction] |\n",
            "| C32-36_PC          | 2.61386E-3  | 9.262E-8           | 5.55259E-3         |     |     | [mole fraction] |\n",
            "| C37-44_PC          | 2.03658E-3  | 1.08523E-8         | 4.32635E-3         |     |     | [mole fraction] |\n",
            "| C45-79_PC          | 1.34286E-3  | 3.79205E-10        | 2.85267E-3         |     |     | [mole fraction] |\n",
            "| water              | 1.33913E-2  | 8.20422E-3         | 1.92232E-2         |     |     | [mole fraction] |\n",
            "|                    |             |                    |                    |     |     |                 |\n",
            "| Density            |             | 1.40995E2          | 6.26465E2          |     |     | [kg/m^3]        |\n",
            "| PhaseFraction      |             | 5.29262E-1         | 4.70738E-1         |     |     | [mole fraction] |\n",
            "| MolarMass          | 5.05915E1   | 2.21398E1          | 8.25805E1          |     |     | [kg/kmol]       |\n",
            "| Z factor           |             | 8.80146E-1         | 7.98377E-1         |     |     | [-]             |\n",
            "| Heat Capacity (Cp) |             | 2.9933E0           | 2.50794E0          |     |     | [kJ/kg*K]       |\n",
            "| Heat Capacity (Cv) |             | 1.90917E0          | 2.11126E0          |     |     | [kJ/kg*K]       |\n",
            "| Speed of Sound     |             | 4.47716E2          | 7.16679E2          |     |     | [m/sec]         |\n",
            "| Enthalpy           | -8.80523E1  | 6.24065E1          | -1.33405E2         |     |     | [kJ/kg]         |\n",
            "| Entropy            | -4.89818E-1 | -1.25675E0         | -2.58642E-1        |     |     | [kJ/kg*K]       |\n",
            "| JT coefficient     |             | 1.84779E-1         | -2.90015E-2        |     |     | [K/bar]         |\n",
            "|                    |             |                    |                    |     |     |                 |\n",
            "| Viscosity          |             | 1.96381E-5         | 1.99549E-4         |     |     | [kg/m*sec]      |\n",
            "| Conductivity       |             | 5.56201E-2         | 9.4927E-2          |     |     | [W/m*K]         |\n",
            "| SurfaceTension     |             | 1.54016E-3         | 1.54016E-3         |     |     | [N/m]           |\n",
            "|                    |             |                    |                    |     |     |                 |\n",
            "|                    |             |                    |                    |     |     |                 |\n",
            "|                    |             |                    |                    |     |     |                 |\n",
            "| Pressure           |             | 170.69313262858762 | 170.69313262858762 |     |     | [bar]           |\n",
            "| Temperature        |             | 370.1498487123422  | 370.1498487123422  |     |     | [K]             |\n",
            "|                    |             |                    |                    |     |     |                 |\n",
            "| Model              |             | SRK-EOS            | SRK-EOS            |     |     | -               |\n",
            "| Mixing Rule        |             | classic            | classic            |     |     | -               |\n",
            "|                    |             |                    |                    |     |     |                 |\n",
            "| Stream             |             |                    |                    |     |     | -               |\n",
            "|                    |             |                    |                    |     |     |                 |\n",
            "|                    |             |                    |                    |     |     |                 |\n",
            "|                    |             |                    |                    |     |     |                 |\n",
            "|                    |             |                    |                    |     |     |                 |\n",
            "| 0                  | 1           | 2           | 3           | 4           | 5   | 6               |\n",
            "|:-------------------|:------------|:------------|:------------|:------------|:----|:----------------|\n",
            "|                    | total       | GAS         | OIL         | AQUEOUS     |     |                 |\n",
            "| nitrogen           | 3.98899E-3  | 6.17843E-3  | 7.70539E-4  | 5.27833E-9  |     | [mole fraction] |\n",
            "| CO2                | 2.97125E-2  | 3.49739E-2  | 2.25294E-2  | 3.88928E-5  |     | [mole fraction] |\n",
            "| methane            | 6.00754E-1  | 8.362E-1    | 2.59364E-1  | 1.13853E-6  |     | [mole fraction] |\n",
            "| ethane             | 7.46447E-2  | 7.41934E-2  | 7.73786E-2  | 3.28271E-9  |     | [mole fraction] |\n",
            "| propane            | 4.58046E-2  | 2.96607E-2  | 7.15996E-2  | 1.54246E-12 |     | [mole fraction] |\n",
            "| i-butane           | 8.63658E-3  | 3.83355E-3  | 1.6174E-2   | 6.55895E-16 |     | [mole fraction] |\n",
            "| n-butane           | 1.84743E-2  | 6.637E-3    | 3.69734E-2  | 1.70818E-15 |     | [mole fraction] |\n",
            "| i-pentane          | 7.81228E-3  | 1.72453E-3  | 1.72798E-2  | 2.86728E-18 |     | [mole fraction] |\n",
            "| n-pentane          | 1.003E-2    | 1.86132E-3  | 2.27212E-2  | 1.79229E-18 |     | [mole fraction] |\n",
            "| n-hexane           | 1.44452E-2  | 1.33087E-3  | 3.4775E-2   | 1.94137E-21 |     | [mole fraction] |\n",
            "| C7_PC              | 2.54867E-2  | 1.09022E-3  | 6.32678E-2  | 9.68704E-14 |     | [mole fraction] |\n",
            "| C8_PC              | 2.76014E-2  | 6.35306E-4  | 6.93462E-2  | 6.82132E-16 |     | [mole fraction] |\n",
            "| C9_PC              | 1.74417E-2  | 2.01791E-4  | 4.41244E-2  | 1.66571E-18 |     | [mole fraction] |\n",
            "| C10_PC             | 1.44246E-2  | 8.42374E-5  | 3.66172E-2  | 1.0361E-22  |     | [mole fraction] |\n",
            "| C11_PC             | 1.03422E-2  | 3.41652E-5  | 2.62938E-2  | 1.19681E-25 |     | [mole fraction] |\n",
            "| C12_PC             | 8.42927E-3  | 1.53298E-5  | 2.14495E-2  | 5.45487E-28 |     | [mole fraction] |\n",
            "| C13_PC             | 1.10903E-2  | 1.04507E-5  | 2.82355E-2  | 6.44464E-30 |     | [mole fraction] |\n",
            "| C14_PC             | 6.45791E-3  | 3.94183E-6  | 1.64449E-2  | 8.46303E-31 |     | [mole fraction] |\n",
            "| C15_PC             | 8.24984E-3  | 2.58147E-6  | 2.10118E-2  | 3.67158E-33 |     | [mole fraction] |\n",
            "| C16_PC             | 4.74289E-3  | 8.66761E-7  | 1.20807E-2  | 1.02538E-34 |     | [mole fraction] |\n",
            "| C17_PC             | 5.9443E-3   | 5.05823E-7  | 1.51418E-2  | 1.60565E-38 |     | [mole fraction] |\n",
            "| C18_PC             | 4.29258E-3  | 1.77747E-7  | 1.09347E-2  | 5.28992E-41 |     | [mole fraction] |\n",
            "| C19_PC             | 4.33233E-3  | 8.11411E-8  | 1.10361E-2  | 2.4711E-42  |     | [mole fraction] |\n",
            "| C20-21_PC          | 4.74212E-3  | 4.58803E-8  | 1.208E-2    | 3.69814E-42 |     | [mole fraction] |\n",
            "| C22-24_PC          | 5.40524E-3  | 1.15683E-8  | 1.37693E-2  | 6.23059E-46 |     | [mole fraction] |\n",
            "| C25-27_PC          | 3.85726E-3  | 1.3398E-9   | 9.826E-3    | 3.79092E-50 |     | [mole fraction] |\n",
            "| C28-31_PC          | 3.47204E-3  | 1.41985E-10 | 8.84468E-3  | 1.80559E-54 |     | [mole fraction] |\n",
            "| C32-36_PC          | 2.61386E-3  | 7.67404E-12 | 6.65857E-3  | 2.3419E-59  |     | [mole fraction] |\n",
            "| C37-44_PC          | 2.03658E-3  | 2.05067E-13 | 5.188E-3    | 2.59574E-65 |     | [mole fraction] |\n",
            "| C45-79_PC          | 1.34286E-3  | 8.32953E-16 | 3.4208E-3   | 1.45959E-76 |     | [mole fraction] |\n",
            "| water              | 1.33913E-2  | 1.32629E-3  | 4.66334E-3  | 9.9996E-1   |     | [mole fraction] |\n",
            "|                    |             |             |             |             |     |                 |\n",
            "| Density            |             | 7.52088E1   | 7.0416E2    | 9.84573E2   |     | [kg/m^3]        |\n",
            "| PhaseFraction      |             | 5.96674E-1  | 3.92557E-1  | 1.07697E-2  |     | [mole fraction] |\n",
            "| MolarMass          | 5.05915E1   | 1.98845E1   | 9.81588E1   | 1.8016E1    |     | [kg/kmol]       |\n",
            "| Z factor           |             | 8.53496E-1  | 4.95396E-1  | 7.75488E-2  |     | [-]             |\n",
            "| Heat Capacity (Cp) |             | 2.71536E0   | 2.24694E0   | 4.79159E0   |     | [kJ/kg*K]       |\n",
            "| Heat Capacity (Cv) |             | 1.70607E0   | 1.9443E0    | 3.44914E0   |     | [kJ/kg*K]       |\n",
            "| Speed of Sound     |             | 4.00893E2   | 8.98571E2   | 3.24399E3   |     | [m/sec]         |\n",
            "| Enthalpy           | -2.15765E2  | -8.72118E-1 | -2.70636E2  | -2.45913E3  |     | [kJ/kg]         |\n",
            "| Entropy            | -7.73159E-1 | -1.47072E0  | -5.29275E-1 | -6.55233E0  |     | [kJ/kg*K]       |\n",
            "| JT coefficient     |             | 3.85302E-1  | -4.39516E-2 | -2.13184E-2 |     | [K/bar]         |\n",
            "|                    |             |             |             |             |     |                 |\n",
            "| Viscosity          |             | 1.44254E-5  | 3.80225E-4  | 5.96563E-4  |     | [kg/m*sec]      |\n",
            "| Conductivity       |             | 4.28176E-2  | 1.09106E-1  | 6.41519E-1  |     | [W/m*K]         |\n",
            "| SurfaceTension     |             | 1.54016E-3  | 1.54016E-3  |             |     | [N/m]           |\n",
            "|                    |             |             | 2.62927E-2  | 2.62927E-2  |     | [N/m]           |\n",
            "|                    |             | 1.81984E-2  |             | 1.81984E-2  |     | [N/m]           |\n",
            "|                    |             |             |             |             |     |                 |\n",
            "| Pressure           |             | 85.0        | 85.0        | 85.0        |     | [bar]           |\n",
            "| Temperature        |             | 318.15      | 318.15      | 318.15      |     | [K]             |\n",
            "|                    |             |             |             |             |     |                 |\n",
            "| Model              |             | SRK-EOS     | SRK-EOS     | SRK-EOS     |     | -               |\n",
            "| Mixing Rule        |             | classic     | classic     | classic     |     | -               |\n",
            "|                    |             |             |             |             |     |                 |\n",
            "| Stream             |             |             |             |             |     | -               |\n",
            "|                    |             |             |             |             |     |                 |\n",
            "|                    |             |             |             |             |     |                 |\n",
            "|                    |             |             |             |             |     |                 |\n",
            "|                    |             |             |             |             |     |                 |\n"
          ]
        }
      ]
    },
    {
      "cell_type": "markdown",
      "source": [
        "# Setting up topside process\n"
      ],
      "metadata": {
        "id": "IkDtifEqwtEg"
      }
    },
    {
      "cell_type": "code",
      "source": [
        "from neqsim.process.processTools import separator3phase\n",
        "\n",
        "inletSeparator = separator3phase(pipeline.getOutStream())\n",
        "inletSeparator.setName(\"1st stage separator\")\n",
        "\n",
        "inletSeparator.run()\n",
        "\n",
        "\n",
        "print('gas flow ', inletSeparator.getGasOutStream().getFlowRate('MSm3/day'), ' MSm3/day')\n",
        "print('oil flow ', inletSeparator.getOilOutStream().getFlowRate('kg/day')/inletSeparator.getOilOutStream().getFluid().getPhase('oil').getDensity('kg/m3'), ' m3/day')"
      ],
      "metadata": {
        "colab": {
          "base_uri": "https://localhost:8080/"
        },
        "id": "vUfBBL86wvoN",
        "outputId": "3c51a7ec-96ca-4479-adc5-edf0cdb34b4c"
      },
      "execution_count": 12,
      "outputs": [
        {
          "output_type": "stream",
          "name": "stdout",
          "text": [
            "gas flow  8.869179114629006  MSm3/day\n",
            "oil flow  34400.96873245272  m3/day\n"
          ]
        }
      ]
    },
    {
      "cell_type": "markdown",
      "source": [
        "# Design of the topside process"
      ],
      "metadata": {
        "id": "5pQZnt91x6F1"
      }
    },
    {
      "cell_type": "code",
      "source": [
        "from neqsim import jNeqSim\n",
        "sepMechDesign =jNeqSim.processSimulation.mechanicalDesign.separator.SeparatorMechanicalDesign(inletSeparator);\n",
        "sepMechDesign.calcDesign();\n",
        "print(\"separator inner diameter \" + str(sepMechDesign.innerDiameter), ' meter');\n",
        "print(\"separator tan-tan length \" + str(sepMechDesign.tantanLength), ' meter');\n",
        "print(\"separator weight vessel shell \" + str(sepMechDesign.weigthVesselShell), ' kg');"
      ],
      "metadata": {
        "id": "-K0sbCkPx9Ug",
        "outputId": "13e6ff7f-a4c6-4bce-85ff-735d8d714b8c",
        "colab": {
          "base_uri": "https://localhost:8080/"
        }
      },
      "execution_count": 20,
      "outputs": [
        {
          "output_type": "stream",
          "name": "stdout",
          "text": [
            "separator inner diameter 2.152305050424147  meter\n",
            "separator tan-tan length 6.038676083446046  meter\n",
            "separator weight vessel shell 4963.082780821551  kg\n"
          ]
        }
      ]
    }
  ]
}