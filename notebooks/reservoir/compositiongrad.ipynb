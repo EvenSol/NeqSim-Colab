{
  "nbformat": 4,
  "nbformat_minor": 0,
  "metadata": {
    "colab": {
      "name": "Untitled35.ipynb",
      "provenance": [],
      "include_colab_link": true
    },
    "kernelspec": {
      "name": "python3",
      "display_name": "Python 3.7.9 64-bit ('base': conda)"
    },
    "language_info": {
      "name": "python",
      "version": "3.7.9"
    },
    "interpreter": {
      "hash": "a5df7bd4ca0d6bb9986d9d69faf4f6c25893f82bf7982e9868ee8495bd8c927f"
    }
  },
  "cells": [
    {
      "cell_type": "markdown",
      "metadata": {
        "id": "view-in-github",
        "colab_type": "text"
      },
      "source": [
        "<a href=\"https://colab.research.google.com/github/EvenSol/NeqSim-Colab/blob/master/notebooks/reservoir/compositiongrad.ipynb\" target=\"_parent\"><img src=\"https://colab.research.google.com/assets/colab-badge.svg\" alt=\"Open In Colab\"/></a>"
      ]
    },
    {
      "cell_type": "code",
      "metadata": {
        "id": "qg0-7jgT7Qzl"
      },
      "source": [
        "#@title Compositional gradient in a gas reservoir\n",
        "#@markdown This notebook discuss compositional gradients in a gas reservoir\n",
        "%%capture\n",
        "!pip install git+https://github.com/Equinor/neqsim-python.git\n",
        "import neqsim\n",
        "from neqsim.thermo.thermoTools import *\n",
        "import matplotlib\n",
        "import numpy as np\n",
        "import matplotlib.pyplot as plt\n",
        "import math\n",
        "%matplotlib inline"
      ],
      "execution_count": 1,
      "outputs": []
    },
    {
      "cell_type": "code",
      "metadata": {
        "cellView": "form",
        "id": "HiJ-kfpG8DA8",
        "outputId": "29e0b9ae-a96b-4612-ec8e-eb882e4e22c9",
        "colab": {
          "base_uri": "https://localhost:8080/",
          "height": 421
        }
      },
      "source": [
        "#@title  Composition gradients in reservoirs\n",
        "#@markdown Why compositional gradients?\n",
        "from IPython.display import YouTubeVideo\n",
        "YouTubeVideo('K05k9uGapFs', width=600, height=400)"
      ],
      "execution_count": null,
      "outputs": [
        {
          "output_type": "execute_result",
          "data": {
            "text/html": [
              "\n",
              "        <iframe\n",
              "            width=\"600\"\n",
              "            height=\"400\"\n",
              "            src=\"https://www.youtube.com/embed/K05k9uGapFs\"\n",
              "            frameborder=\"0\"\n",
              "            allowfullscreen\n",
              "        ></iframe>\n",
              "        "
            ],
            "text/plain": [
              "<IPython.lib.display.YouTubeVideo at 0x7fc14b00cfd0>"
            ],
            "image/jpeg": "[encoded data removed]"
          },
          "metadata": {
            "tags": []
          },
          "execution_count": 1
        }
      ]
    },
    {
      "cell_type": "markdown",
      "metadata": {
        "id": "NWI_hzYo91Zq"
      },
      "source": [
        "# Calculation of composition gradient with NeqSim"
      ]
    },
    {
      "cell_type": "code",
      "metadata": {
        "id": "Yu6VC_OI95wS",
        "outputId": "81835bed-655c-4d00-9968-32cde6074566",
        "colab": {
          "base_uri": "https://localhost:8080/"
        }
      },
      "source": [
        "# Creating a fluid in neqsim\n",
        "\n",
        "pressure = 150.0\n",
        "temperature = 100.0\n",
        "fluid1 = fluid('srk') #create a fluid using the SRK-EoS\n",
        "fluid1.addComponent('methane', 0.99)\n",
        "fluid1.addComponent('n-heptane', 0.01)\n",
        "fluid1.setTemperature(temperature, \"C\")\n",
        "fluid1.setPressure(pressure, \"bara\")\n",
        "dewpointtemperature = dewt(fluid1)\n",
        "printFrame(fluid1)\n",
        "\n",
        "newFluid = TPgradientFlash(fluid1, height = 1000.0, temperature=dewpointtemperature+1.0).phaseToSystem(0)\n",
        "\n",
        "printFrame(newFluid)"
      ],
      "execution_count": 6,
      "outputs": [
        {
          "output_type": "stream",
          "name": "stdout",
          "text": [
            "| 0                    | 1          | 2                 | 3                 | 4   | 5   | 6               |\n",
            "|:---------------------|:-----------|:------------------|:------------------|:----|:----|:----------------|\n",
            "|                      | total      | GAS               | OIL               |     |     |                 |\n",
            "| methane              | 9.9E-1     | 9.9E-1            | 9.9E-1            |     |     | [mole fraction] |\n",
            "| n-heptane            | 1E-2       | 1E-2              | 1.00001E-2        |     |     | [mole fraction] |\n",
            "|                      |            |                   |                   |     |     |                 |\n",
            "| Density              |            | 8.68499E1         | 8.685E1           |     |     | kg/m3           |\n",
            "| Phase Fraction       |            | 1E0               | 1E-15             |     |     | [mole fraction] |\n",
            "| Molar Mass           | 1.68846E-2 | 1.68846E-2        | 1.68846E-2        |     |     | kg/mol          |\n",
            "| Z factor             |            | 9.47989E-1        | 9.47989E-1        |     |     | [-]             |\n",
            "| Heat Capacity (Cp)   |            | 2.99257E0         | 2.99257E0         |     |     | kJ/kgK          |\n",
            "| Heat Capacity (Cv)   |            | 2.01391E0         | 2.01391E0         |     |     | kJ/kgK          |\n",
            "| Speed of Sound       |            | 5.13139E2         | 5.13139E2         |     |     | m/sec           |\n",
            "| Enthalpy             | 1.2471E5   | 1.2471E5          | 1.2471E5          |     |     | J/kg            |\n",
            "| Entropy              | -1.96451E3 | -1.96451E3        | -1.96451E3        |     |     | J/kgK           |\n",
            "| JT coefficient       |            | 1.66005E-1        | 1.66005E-1        |     |     | C/bar           |\n",
            "|                      |            |                   |                   |     |     |                 |\n",
            "| Viscosity            |            | 1.67121E-5        | 1.67122E-5        |     |     | kg/msec         |\n",
            "| Thermal Conductivity |            | 5.68172E-2        | 5.68172E-2        |     |     | W/mK            |\n",
            "| Surface Tension      |            | 8.75004E-32       | 8.75004E-32       |     |     | [N/m]           |\n",
            "|                      |            |                   |                   |     |     |                 |\n",
            "|                      |            |                   |                   |     |     |                 |\n",
            "|                      |            |                   |                   |     |     |                 |\n",
            "| Pressure             |            | 150.0             | 150.0             |     |     | bara            |\n",
            "| Temperature          |            | 96.82769329567384 | 96.82769329567384 |     |     | C               |\n",
            "|                      |            |                   |                   |     |     |                 |\n",
            "| Model                |            | SRK-EOS           | SRK-EOS           |     |     | -               |\n",
            "| Mixing Rule          |            | no (kij=0)        | no (kij=0)        |     |     | -               |\n",
            "|                      |            |                   |                   |     |     |                 |\n",
            "| Stream               |            |                   |                   |     |     | -               |\n",
            "|                      |            |                   |                   |     |     |                 |\n",
            "|                      |            |                   |                   |     |     |                 |\n",
            "|                      |            |                   |                   |     |     |                 |\n",
            "|                      |            |                   |                   |     |     |                 |\n",
            "| 0                    | 1          | 2                  | 3   | 4   | 5   | 6               |\n",
            "|:---------------------|:-----------|:-------------------|:----|:----|:----|:----------------|\n",
            "|                      | total      | GAS                |     |     |     |                 |\n",
            "| methane              | 9.85919E-1 | 9.85919E-1         |     |     |     | [mole fraction] |\n",
            "| n-heptane            | 1.40814E-2 | 1.40814E-2         |     |     |     | [mole fraction] |\n",
            "|                      |            |                    |     |     |     |                 |\n",
            "| Density              |            | 9.36655E1          |     |     |     | kg/m3           |\n",
            "| Phase Fraction       |            | 1E0                |     |     |     | [mole fraction] |\n",
            "| Molar Mass           | 1.72281E-2 | 1.72281E-2         |     |     |     | kg/mol          |\n",
            "| Z factor             |            | 9.45524E-1         |     |     |     | [-]             |\n",
            "| Heat Capacity (Cp)   |            | 3.01763E0          |     |     |     | kJ/kgK          |\n",
            "| Heat Capacity (Cv)   |            | 2.02219E0          |     |     |     | kJ/kgK          |\n",
            "| Speed of Sound       |            | 5.11725E2          |     |     |     | m/sec           |\n",
            "| Enthalpy             | 1.20408E5  | 1.20408E5          |     |     |     | J/kg            |\n",
            "| Entropy              | -1.94293E3 | -1.94293E3         |     |     |     | J/kgK           |\n",
            "| JT coefficient       |            | 1.6031E-1          |     |     |     | C/bar           |\n",
            "|                      |            |                    |     |     |     |                 |\n",
            "| Viscosity            |            | 1.70821E-5         |     |     |     | kg/msec         |\n",
            "| Thermal Conductivity |            | 5.74463E-2         |     |     |     | W/mK            |\n",
            "| Surface Tension      |            |                    |     |     |     | [N/m]           |\n",
            "|                      |            |                    |     |     |     |                 |\n",
            "|                      |            |                    |     |     |     |                 |\n",
            "|                      |            |                    |     |     |     |                 |\n",
            "| Pressure             |            | 158.56099331167897 |     |     |     | bara            |\n",
            "| Temperature          |            | 97.82769329567407  |     |     |     | C               |\n",
            "|                      |            |                    |     |     |     |                 |\n",
            "| Model                |            | SRK-EOS            |     |     |     | -               |\n",
            "| Mixing Rule          |            | no (kij=0)         |     |     |     | -               |\n",
            "|                      |            |                    |     |     |     |                 |\n",
            "| Stream               |            |                    |     |     |     | -               |\n",
            "|                      |            |                    |     |     |     |                 |\n",
            "|                      |            |                    |     |     |     |                 |\n",
            "|                      |            |                    |     |     |     |                 |\n",
            "|                      |            |                    |     |     |     |                 |\n"
          ]
        }
      ]
    },
    {
      "cell_type": "markdown",
      "source": [
        "# Calculation composition gradient in a gas reservoir with hydrogen"
      ],
      "metadata": {
        "id": "qQVaCcjxuE6-"
      }
    },
    {
      "cell_type": "code",
      "source": [
        "fluid1 = fluid(\"srk\")  # create a fluid using the SRK-EoS\n",
        "fluid1.setTemperature(70.0, \"C\")\n",
        "fluid1.setPressure(100.0, \"bara\")\n",
        "fluid1.addComponent(\"hydrogen\", 1.0, \"mol/sec\")\n",
        "fluid1.addComponent(\"CO2\", 1.0, \"mol/sec\")\n",
        "fluid1.addComponent(\"methane\", 96.0, \"mol/sec\")\n",
        "fluid1.addComponent(\"ethane\", 1.0, \"mol/sec\")\n",
        "fluid1.addComponent(\"propane\", 1.0, \"mol/sec\")\n",
        "fluid1.setMixingRule(\"classic\")  # classic will use binary kij\n",
        "# True if more than two phases could be present\n",
        "TPflash(fluid1)\n",
        "\n",
        "depth = []\n",
        "x_hydrogen = []\n",
        "x_propane = []\n",
        "\n",
        "for i in range(100):\n",
        "\n",
        "\n",
        "deep_fluid = TPgradientFlash(fluid1, 1000.0, 273.15+70.0+10.0)\n",
        "assert deep_fluid.getComponent('CO2').getx() == 0.010905853658496048"
      ],
      "metadata": {
        "id": "LE_iASfeuNZQ"
      },
      "execution_count": null,
      "outputs": []
    }
  ]
}