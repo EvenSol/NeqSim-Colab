{
  "nbformat": 4,
  "nbformat_minor": 0,
  "metadata": {
    "colab": {
      "name": "Untitled35.ipynb",
      "provenance": [],
      "authorship_tag": "ABX9TyPDTHVabpcsDWugXWGbu/hs",
      "include_colab_link": true
    },
    "kernelspec": {
      "name": "python3",
      "display_name": "Python 3.7.9 64-bit ('base': conda)"
    },
    "language_info": {
      "name": "python",
      "version": "3.7.9"
    },
    "interpreter": {
      "hash": "a5df7bd4ca0d6bb9986d9d69faf4f6c25893f82bf7982e9868ee8495bd8c927f"
    }
  },
  "cells": [
    {
      "cell_type": "markdown",
      "metadata": {
        "id": "view-in-github",
        "colab_type": "text"
      },
      "source": [
        "<a href=\"https://colab.research.google.com/github/EvenSol/NeqSim-Colab/blob/master/notebooks/reservoir/compositiongrad.ipynb\" target=\"_parent\"><img src=\"https://colab.research.google.com/assets/colab-badge.svg\" alt=\"Open In Colab\"/></a>"
      ]
    },
    {
      "cell_type": "code",
      "metadata": {
        "id": "qg0-7jgT7Qzl",
        "cellView": "form"
      },
      "source": [
        "#@title Compositional gradient in a gas reservoir\n",
        "#@markdown This notebook discuss compositional gradients in a gas reservoir\n",
        "%%capture\n",
        "!pip install neqsim\n",
        "import neqsim\n",
        "from neqsim.thermo.thermoTools import *\n",
        "import matplotlib\n",
        "import numpy as np\n",
        "import matplotlib.pyplot as plt\n",
        "import math\n",
        "%matplotlib inline"
      ],
      "execution_count": 6,
      "outputs": []
    },
    {
      "cell_type": "code",
      "metadata": {
        "cellView": "form",
        "id": "HiJ-kfpG8DA8",
        "outputId": "29e0b9ae-a96b-4612-ec8e-eb882e4e22c9",
        "colab": {
          "base_uri": "https://localhost:8080/",
          "height": 421
        }
      },
      "source": [
        "#@title  Composition gradients in reservoirs\n",
        "#@markdown Why compositional gradients?\n",
        "from IPython.display import YouTubeVideo\n",
        "YouTubeVideo('K05k9uGapFs', width=600, height=400)"
      ],
      "execution_count": 1,
      "outputs": [
        {
          "output_type": "execute_result",
          "data": {
            "text/html": [
              "\n",
              "        <iframe\n",
              "            width=\"600\"\n",
              "            height=\"400\"\n",
              "            src=\"https://www.youtube.com/embed/K05k9uGapFs\"\n",
              "            frameborder=\"0\"\n",
              "            allowfullscreen\n",
              "        ></iframe>\n",
              "        "
            ],
            "text/plain": [
              "<IPython.lib.display.YouTubeVideo at 0x7fc14b00cfd0>"
            ],
            "image/jpeg": "[encoded data removed]"
          },
          "metadata": {
            "tags": []
          },
          "execution_count": 1
        }
      ]
    },
    {
      "cell_type": "markdown",
      "metadata": {
        "id": "NWI_hzYo91Zq"
      },
      "source": [
        "# Calculation of composition gradient with NeqSim"
      ]
    },
    {
      "cell_type": "code",
      "metadata": {
        "id": "Yu6VC_OI95wS"
      },
      "source": [
        "# Creating a fluid in neqsim\n",
        "\n",
        "pressure = 150.0\n",
        "temperature = 100.0 \n",
        "fluid1 = fluid('srk') #create a fluid using the SRK-EoS\n",
        "fluid1.addComponent('methane', 1.0)\n",
        "fluid1.addComponent('n-heptane', 0.5)\n",
        "fluid1.setTemperature(temperature, \"C\")\n",
        "fluid1.setPressure(pressure, \"bara\")\n",
        "dewpointtemperature = dewt(fluid1)\n",
        "printFrame(fluid1)\n",
        "\n",
        "TPgradientFlash(fluid1, height = 1000.0, temperature=dewpointtemperature+10.0)\n",
        "\n",
        "newFluid = fluid1.phaseToSystem(0)\n",
        "\n",
        "printFrame(newFluid)"
      ],
      "execution_count": 17,
      "outputs": [
        {
          "output_type": "stream",
          "name": "stdout",
          "text": [
            "                         total               gas               oil                  \n           methane  6.66667E-1        6.66667E-1        6.65483E-1   [mole fraction]\n         n-heptane  3.33333E-1        3.33333E-1        3.34517E-1   [mole fraction]\n                                                                                    \n           Density                     3.83688E2         3.84706E2          [kg/m^3]\n     PhaseFraction                           1E0             1E-15   [mole fraction]\n         MolarMass    4.4097E1          4.4097E1         4.41967E1         [kg/kmol]\n          Z factor                    6.09581E-1        6.09488E-1               [-]\nHeat Capacity (Cp)                     3.07554E0         3.07214E0         [kJ/kg*K]\nHeat Capacity (Cv)                     2.10637E0         2.10666E0         [kJ/kg*K]\n    Speed of Sound                     4.73191E2         4.74084E2           [m/sec]\n          Enthalpy  -9.14119E1        -9.14119E1        -9.17842E1           [kJ/kg]\n           Entropy -8.02744E-1       -8.02744E-1       -8.01264E-1         [kJ/kg*K]\n    JT coefficient                    4.69377E-2        4.62703E-2           [K/bar]\n                                                                                    \n         Viscosity                    5.68048E-5        5.71029E-5        [kg/m*sec]\n      Conductivity                    7.33092E-2        7.34168E-2           [W/m*K]\n    SurfaceTension                   7.47957E-14       7.47957E-14             [N/m]\n                                                                                    \n                                                                                    \n                                                                                    \n          Pressure                         150.0             150.0             [bar]\n       Temperature             364.2426970713371 364.2426970713371               [K]\n                                                                                    \n             Model                       SRK-EOS           SRK-EOS                 -\n       Mixing Rule                    no (kij=0)        no (kij=0)                 -\n                                                                                    \n            Stream                                                                 -\n                                                                                    \n                                                                                    \n                                                                                    \n                                                                                    \n                         total               gas                   \n           methane  6.66667E-1        6.66667E-1    [mole fraction]\n         n-heptane  3.33333E-1        3.33333E-1    [mole fraction]\n                                                                   \n           Density                     3.83688E2           [kg/m^3]\n     PhaseFraction                           1E0    [mole fraction]\n         MolarMass    4.4097E1          4.4097E1          [kg/kmol]\n          Z factor                    6.09581E-1                [-]\nHeat Capacity (Cp)                     3.07554E0          [kJ/kg*K]\nHeat Capacity (Cv)                     2.10637E0          [kJ/kg*K]\n    Speed of Sound                     4.73191E2            [m/sec]\n          Enthalpy  -9.14119E1        -9.14119E1            [kJ/kg]\n           Entropy -8.02744E-1       -8.02744E-1          [kJ/kg*K]\n    JT coefficient                    4.69377E-2            [K/bar]\n                                                                   \n         Viscosity                    5.68048E-5         [kg/m*sec]\n      Conductivity                    7.33092E-2            [W/m*K]\n    SurfaceTension                                            [N/m]\n                                                                   \n                                                                   \n                                                                   \n          Pressure                         150.0              [bar]\n       Temperature             364.2426970713371                [K]\n                                                                   \n             Model                       SRK-EOS                  -\n       Mixing Rule                    no (kij=0)                  -\n                                                                   \n            Stream                                                -\n                                                                   \n                                                                   \n                                                                   \n                                                                   \n"
          ]
        }
      ]
    },
    {
      "cell_type": "code",
      "metadata": {
        "id": "0_K6OMmf90bT",
        "outputId": "9f95b355-b83a-4c4d-bdf2-abd50694fea1",
        "colab": {
          "base_uri": "https://localhost:8080/"
        }
      },
      "source": [
        "dewpointtemperature"
      ],
      "execution_count": 9,
      "outputs": [
        {
          "output_type": "execute_result",
          "data": {
            "text/plain": [
              "364.2426970713371"
            ]
          },
          "metadata": {
            "tags": []
          },
          "execution_count": 9
        }
      ]
    }
  ]
}