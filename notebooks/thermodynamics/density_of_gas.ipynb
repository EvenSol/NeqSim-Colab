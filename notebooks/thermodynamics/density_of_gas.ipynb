{
  "nbformat": 4,
  "nbformat_minor": 0,
  "metadata": {
    "colab": {
      "name": "density-of-gas.ipynb",
      "provenance": [],
      "collapsed_sections": [],
      "include_colab_link": true
    },
    "kernelspec": {
      "name": "python3",
      "display_name": "Python 3"
    }
  },
  "cells": [
    {
      "cell_type": "markdown",
      "metadata": {
        "id": "view-in-github",
        "colab_type": "text"
      },
      "source": [
        "<a href=\"https://colab.research.google.com/github/EvenSol/NeqSim-Colab/blob/master/notebooks/thermodynamics/density_of_gas.ipynb\" target=\"_parent\"><img src=\"https://colab.research.google.com/assets/colab-badge.svg\" alt=\"Open In Colab\"/></a>"
      ]
    },
    {
      "cell_type": "code",
      "metadata": {
        "id": "9zm3luRxnQXr",
        "cellView": "form"
      },
      "source": [
        "#@title Calculation of density of gases\n",
        "#@markdown Demonstration of ideal gas law and equations of state. An introduction to equations of state can be seen in the [EoS Wikipedia pages](https://en.wikipedia.org/wiki/Equation_of_state).\n",
        "#@markdown <br><br>This document is part of the module [\"Introduction to Gas Processing using NeqSim in Colab\"](https://colab.research.google.com/github/EvenSol/NeqSim-Colab/blob/master/notebooks/examples_of_NeqSim_in_Colab.ipynb#scrollTo=_eRtkQnHpL70).\n",
        "%%capture\n",
        "!pip install neqsim\n",
        "import neqsim\n",
        "from neqsim.thermo.thermoTools import *\n",
        "import matplotlib\n",
        "import numpy as np\n",
        "import matplotlib.pyplot as plt\n",
        "import math\n",
        "plt.style.use('classic')\n",
        "%matplotlib inline"
      ],
      "execution_count": 1,
      "outputs": []
    },
    {
      "cell_type": "code",
      "metadata": {
        "id": "mruccT7JaGZT",
        "cellView": "form",
        "outputId": "be809e42-4d23-4850-85cd-731c7470aadd",
        "colab": {
          "base_uri": "https://localhost:8080/",
          "height": 421
        }
      },
      "source": [
        "#@title Introduction to Gas Laws\n",
        "#@markdown This video gives an intriduction to behavour of gases as function of pressure and temperature\n",
        "from IPython.display import YouTubeVideo\n",
        "YouTubeVideo('QhnlyHV8evY', width=600, height=400)"
      ],
      "execution_count": 2,
      "outputs": [
        {
          "output_type": "execute_result",
          "data": {
            "text/plain": [
              "<IPython.lib.display.YouTubeVideo at 0x7f0703d51890>"
            ],
            "text/html": [
              "\n",
              "        <iframe\n",
              "            width=\"600\"\n",
              "            height=\"400\"\n",
              "            src=\"https://www.youtube.com/embed/QhnlyHV8evY\"\n",
              "            frameborder=\"0\"\n",
              "            allowfullscreen\n",
              "        ></iframe>\n",
              "        "
            ],
            "image/jpeg": "[encoded data removed]"
          },
          "metadata": {},
          "execution_count": 2
        }
      ]
    },
    {
      "cell_type": "markdown",
      "metadata": {
        "id": "PDd0WZz9jB-s"
      },
      "source": [
        "# Comparison of ideal and real gas behaviour\n",
        "\n",
        "In the following example we use the ideal gas law and the PR/SRK-EOS to calculate the density of a pure component gas.  At low pressure we see that the ideal gas and the real density are the same, at higher pressures the real gas density is higher, while at very high pressures the ideal gas density is the highest. The reason for this is that at intermediate pressures, the atractive forces is dominating, while at very high pressures repulsive forces starts to dominate.\n",
        "\n",
        "The ideal gas equation of state is $pV=nRT$ where $R$ is the gas constant $8.314kJ/mol$. The real gas equation of state is given on the form $pV=ZnRT$ where $Z$ is the gas compressibility factor. The density can be calculated from $\\rho=n/V\\times M$ where $M$is the molar mass.\n",
        "\n",
        "Use the form to select molecule, temperature and pressure range, and calculate the density and compressibility of the gas. Can you find a gas that shifts from gas to liquid when pressure is increased?"
      ]
    },
    {
      "cell_type": "code",
      "metadata": {
        "id": "XmRyGw9WnemV",
        "outputId": "e187da58-0882-4d91-a725-1376138359f6",
        "colab": {
          "base_uri": "https://localhost:8080/",
          "height": 324
        },
        "cellView": "form"
      },
      "source": [
        "#@title Select component and equation of state. Set temperature [K] and pressure range [bara]. { run: \"auto\" }\n",
        "componentName = \"CO2\" #@param [\"methane\", \"ethane\", \"propane\", \"CO2\", \"nitrogen\"]\n",
        "temperature = 323.0   #@param {type:\"number\"}\n",
        "minPressure = 1.0  #@param {type:\"number\"}\n",
        "maxPressure = 350.0  #@param {type:\"number\"}\n",
        "eosname = \"srk\" #@param [\"srk\", \"pr\"]\n",
        "R = 8.314 # J/mol/K\n",
        "\n",
        "# Creating a fluid in neqsim\n",
        "fluid1 = fluid(eosname) #create a fluid using the SRK-EoS\n",
        "fluid1.addComponent(componentName, 1.0) #adding 1 mole to the fluid\n",
        "fluid1.init(0); \n",
        "\n",
        "print('molar mass of ', componentName, ' is ', fluid1.getMolarMass()*1000 , ' kg/mol')\n",
        "\n",
        "def idealgasdensity(pressure, temperature):\n",
        "  m3permol = R*temperature/(pressure*1e5)\n",
        "  m3perkg = m3permol/fluid1.getMolarMass()\n",
        "  return 1.0/m3perkg\n",
        "\n",
        "def realgasdensity(pressure, temperature):\n",
        "    fluid1.setPressure(pressure)\n",
        "    fluid1.setTemperature(temperature)\n",
        "    TPflash(fluid1)\n",
        "    fluid1.initPhysicalProperties();\n",
        "    return fluid1.getDensity('kg/m3')\n",
        "\n",
        "def compressibility(pressure, temperature):\n",
        "    fluid1.setPressure(pressure)\n",
        "    fluid1.setTemperature(temperature)\n",
        "    TPflash(fluid1)\n",
        "    fluid1.initPhysicalProperties();\n",
        "    return fluid1.getZ()\n",
        "\n",
        "pressure = np.arange(minPressure, maxPressure, int((maxPressure-minPressure)/100)+1)\n",
        "idealdensity = [idealgasdensity(P,temperature) for P in pressure]\n",
        "realdensity = [realgasdensity(P,temperature) for P in pressure]\n",
        "compressibility = [compressibility(P,temperature) for P in pressure]\n",
        "\n",
        "plt.figure()\n",
        "plt.subplot(2, 1, 1)\n",
        "plt.plot(pressure, idealdensity, '--')\n",
        "plt.plot(pressure, realdensity, '-')\n",
        "plt.xlabel('Pressure [bara]')\n",
        "plt.ylabel('Density [kg/m3]')\n",
        "plt.legend(['ideal', 'real'])\n",
        "plt.subplot(2, 1, 2)\n",
        "plt.plot(pressure, compressibility, '-')\n",
        "plt.xlabel('Pressure [bara]')\n",
        "plt.ylabel('Z [-]')\n",
        "plt.legend(['compressibility factor'])"
      ],
      "execution_count": 8,
      "outputs": [
        {
          "output_type": "stream",
          "name": "stdout",
          "text": [
            "molar mass of  CO2  is  44.01  kg/mol\n"
          ]
        },
        {
          "output_type": "execute_result",
          "data": {
            "text/plain": [
              "<matplotlib.legend.Legend at 0x7f06d2ab8f10>"
            ]
          },
          "metadata": {},
          "execution_count": 8
        },
        {
          "output_type": "display_data",
          "data": {
            "text/plain": [
              "<Figure size 432x288 with 2 Axes>"
            ],
            "image/png": "[encoded data removed]"
          },
          "metadata": {
            "needs_background": "light"
          }
        }
      ]
    },
    {
      "cell_type": "markdown",
      "metadata": {
        "id": "_NBQYd6h5lip"
      },
      "source": [
        "# Pressure of gas as function of volume\n",
        "\n",
        "1 m3 methane at 1 bar and 25 C is compressed to 200 bar and cooled to 25 C. What is\n",
        "the volume of the gas? What is the density of the compressed gas?"
      ]
    },
    {
      "cell_type": "code",
      "metadata": {
        "id": "C0-TETkB58hU",
        "cellView": "form",
        "outputId": "55f55864-3109-4fa1-ea9e-66b5cd27fd2f",
        "colab": {
          "base_uri": "https://localhost:8080/"
        }
      },
      "source": [
        "componentName = \"nitrogen\" #@param [\"methane\", \"ethane\", \"propane\", \"CO2\", \"nitrogen\"]\n",
        "temperature = 298.15   #@param {type:\"number\"}\n",
        "initialVolume = 1.0  #@param {type:\"number\"}\n",
        "initialPressure = 1.0  #@param {type:\"number\"}\n",
        "endPressure = 10.0  #@param {type:\"number\"}\n",
        "R = 8.314 # J/mol/K\n",
        "\n",
        "initialMoles = initialPressure*1e5*1.0/(R*temperature)\n",
        "\n",
        "# Creating a fluid in neqsim\n",
        "fluid1 = fluid('srk') #create a fluid using the SRK-EoS\n",
        "fluid1.addComponent(componentName, initialMoles) #adding 1 Sm3 to the fluid\n",
        "fluid1.setTemperature(temperature)\n",
        "fluid1.setPressure(initialPressure)\n",
        "TPflash(fluid1)\n",
        "fluid1.initPhysicalProperties()\n",
        "startVolume = fluid1.getVolume('m3/sec')\n",
        "\n",
        "\n",
        "print('initialVolume ', startVolume, 'm3')\n",
        "print('initial gas density ', fluid1.getDensity('kg/m3'), 'kg/m3')\n",
        "print('initial gas compressiility ', fluid1.getZ(), ' [-]')\n",
        "      \n",
        "fluid1.setPressure(endPressure)\n",
        "TPflash(fluid1)\n",
        "fluid1.initPhysicalProperties()\n",
        "\n",
        "endVolume = fluid1.getVolume('m3/sec')\n",
        "print('end volume ', fluid1.getVolume('Sm3/sec'), 'm3')\n",
        "print('volume ratio ', endVolume/startVolume, ' m3/m3')\n",
        "print('end gas density ', fluid1.getDensity('kg/m3'), ' kg/m3')\n",
        "print('end gas compressibility ', fluid1.getZ(), ' [-]')"
      ],
      "execution_count": 4,
      "outputs": [
        {
          "output_type": "stream",
          "name": "stdout",
          "text": [
            "initialVolume  1.0000083601119607 m3\n",
            "initial gas density  1.1301476964655142 kg/m3\n",
            "initial gas compressiility  0.9999527817885948  [-]\n",
            "end volume  0.09997979623211148 m3\n",
            "volume ratio  0.09997896039680884  m3/m3\n",
            "end gas density  11.30767486281327  kg/m3\n",
            "end gas compressibility  0.9997423956912075  [-]\n"
          ]
        }
      ]
    },
    {
      "cell_type": "markdown",
      "metadata": {
        "id": "_s47uG_3BbQd"
      },
      "source": [
        "# Calculation of density of LNG\n",
        "The density of liquified methane at the boiling point at atomspheric pressure can be calcuated as demonstrated in the following example. In this case we use the SRK EoS and the PR-EoS."
      ]
    },
    {
      "cell_type": "code",
      "metadata": {
        "id": "20BJKlLFBpV3",
        "outputId": "f3d7bce0-d2e7-465d-a470-e3bd8d112e9b",
        "colab": {
          "base_uri": "https://localhost:8080/"
        }
      },
      "source": [
        "# Creating a fluid in neqsim\n",
        "eos = 'srk' #@param [\"srk\", \"pr\"]\n",
        "pressure = 1.01325 #@param {type:\"number\"}\n",
        "temperature = -162.0 #@param {type:\"number\"}\n",
        "fluid1 = fluid(eos) #create a fluid using the SRK-EoS\n",
        "fluid1.addComponent('methane', 1.0)\n",
        "fluid1.setTemperature(temperature)\n",
        "fluid1.setPressure(pressure)\n",
        "bubt(fluid1)\n",
        "fluid1.initPhysicalProperties()\n",
        "print('temperature at boiling point ', fluid1.getTemperature()-273.15, 'C')\n",
        "print('LNG density ', fluid1.getDensity('kg/m3'), ' kg/m3')\n"
      ],
      "execution_count": 5,
      "outputs": [
        {
          "output_type": "stream",
          "name": "stdout",
          "text": [
            "temperature at boiling point  -161.1441471093413 C\n",
            "LNG density  428.1719693971862  kg/m3\n"
          ]
        }
      ]
    },
    {
      "cell_type": "markdown",
      "metadata": {
        "id": "uUW64YNgGnIb"
      },
      "source": [
        "# Accuracy of EoS for calculating the density\n",
        "The density calculated with any equation of state will have an uncertainty. The GERG-2008 is a reference equation of state with high accuracy in prediction of thermodynamic properties. In the following example we compare the gas density calculations of SRK/PR with the GERG-(2008 version)-EoS."
      ]
    },
    {
      "cell_type": "code",
      "metadata": {
        "id": "ksPgU6ElGlYV",
        "outputId": "2c93610b-2ea5-454b-9927-aba80d7ad9cf",
        "colab": {
          "base_uri": "https://localhost:8080/",
          "height": 306
        }
      },
      "source": [
        "#@title Select component and equation of state. Set temperature [K] and pressure range [bara]. { run: \"auto\" }\n",
        "componentName = \"methane\" #@param [\"methane\", \"ethane\", \"propane\", \"CO2\", \"nitrogen\"]\n",
        "temperature = 298.0   #@param {type:\"number\"}\n",
        "minPressure = 1.0  #@param {type:\"number\"}\n",
        "maxPressure = 500.0  #@param {type:\"number\"}\n",
        "eosname = \"srk\" #@param [\"srk\", \"pr\"]\n",
        "R = 8.314 # J/mol/K\n",
        "\n",
        "# Creating a fluid in neqsim\n",
        "fluid1 = fluid(eosname) #create a fluid using the SRK-EoS\n",
        "fluid1.addComponent(componentName, 1.0) #adding 1 mole to the fluid\n",
        "fluid1.init(0); \n",
        "\n",
        "\n",
        "def realgasdensity(pressure, temperature):\n",
        "    fluid1.setPressure(pressure)\n",
        "    fluid1.setTemperature(temperature)\n",
        "    TPflash(fluid1)\n",
        "    fluid1.initPhysicalProperties();\n",
        "    return fluid1.getDensity('kg/m3')\n",
        "\n",
        "def GERGgasdensity(pressure, temperature):\n",
        "    fluid1.setPressure(pressure)\n",
        "    fluid1.setTemperature(temperature)\n",
        "    TPflash(fluid1)\n",
        "    return fluid1.getPhase('gas').getDensity_GERG2008()\n",
        "\n",
        "pressure = np.arange(minPressure, maxPressure, int((maxPressure-minPressure)/100)+1)\n",
        "realdensity = [realgasdensity(P,temperature) for P in pressure]\n",
        "GERG2008density = [GERGgasdensity(P,temperature) for P in pressure]\n",
        "deviation = [((realgasdensity(P,temperature)-GERGgasdensity(P,temperature))/GERGgasdensity(P,temperature)*100.0) for P in pressure]\n",
        "\n",
        "plt.figure()\n",
        "plt.subplot(2, 1, 1)\n",
        "plt.plot(pressure, realdensity, '-')\n",
        "plt.plot(pressure, GERG2008density, '--')\n",
        "plt.xlabel('Pressure [bara]')\n",
        "plt.ylabel('Density [kg/m3]')\n",
        "plt.legend(['EoS', 'GERG-2008'])\n",
        "plt.subplot(2, 1, 2)\n",
        "\n",
        "plt.plot(pressure, deviation)\n",
        "plt.xlabel('Pressure [bara]')\n",
        "plt.ylabel('Deviation [%]')"
      ],
      "execution_count": 6,
      "outputs": [
        {
          "output_type": "execute_result",
          "data": {
            "text/plain": [
              "Text(0, 0.5, 'Deviation [%]')"
            ]
          },
          "metadata": {},
          "execution_count": 6
        },
        {
          "output_type": "display_data",
          "data": {
            "text/plain": [
              "<Figure size 432x288 with 2 Axes>"
            ],
            "image/png": "[encoded data removed]"
          },
          "metadata": {
            "needs_background": "light"
          }
        }
      ]
    },
    {
      "cell_type": "markdown",
      "metadata": {
        "id": "OoMT6DT1UtsW"
      },
      "source": [
        "##Calculation of density and compressibility factor for a natual gas mixture\n",
        "In the following example we calculate the density of a multicomponent gas mixture."
      ]
    },
    {
      "cell_type": "code",
      "metadata": {
        "id": "yv-CQtDbU8my",
        "outputId": "052f852f-0e27-4465-91d2-763741208e6c",
        "colab": {
          "base_uri": "https://localhost:8080/"
        }
      },
      "source": [
        "#@title Select equation of state and set temperature [C] and pressure [bara] { run: \"auto\" }\n",
        "temperature = 15.0   #@param {type:\"number\"}\n",
        "pressure = 100.0  #@param {type:\"number\"}\n",
        "eosname = \"srk\" #@param [\"srk\", \"pr\"]\n",
        "\n",
        "fluid1 = fluid(eosname)\n",
        "fluid1.addComponent('nitrogen', 1.2) \n",
        "fluid1.addComponent('CO2', 2.6) \n",
        "fluid1.addComponent('methane', 85.8)\n",
        "fluid1.addComponent('ethane', 7.0) \n",
        "fluid1.addComponent('propane', 3.4) \n",
        "fluid1.setTemperature(temperature, 'C')\n",
        "fluid1.setPressure(pressure, 'bara')\n",
        "TPflash(fluid1)\n",
        "fluid1.initProperties()\n",
        "print('gas compressibility ', fluid1.getZ(), ' -')\n",
        "print('gas density ', fluid1.getDensity('kg/m3'), ' kg/m3')\n"
      ],
      "execution_count": 7,
      "outputs": [
        {
          "output_type": "stream",
          "name": "stdout",
          "text": [
            "gas compressibility  0.7735308707131694  -\n",
            "gas density  102.2871090151433  kg/m3\n"
          ]
        }
      ]
    }
  ]
}