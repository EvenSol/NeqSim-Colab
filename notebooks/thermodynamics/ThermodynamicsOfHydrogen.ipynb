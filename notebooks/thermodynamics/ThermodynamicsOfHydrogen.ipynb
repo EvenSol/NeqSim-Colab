{
  "nbformat": 4,
  "nbformat_minor": 0,
  "metadata": {
    "colab": {
      "name": "ThermodynamicsOfHydrogen.ipynb",
      "provenance": [],
      "authorship_tag": "ABX9TyNhv6IcmWCILDzC77OrQ7sO",
      "include_colab_link": true
    },
    "kernelspec": {
      "name": "python3",
      "display_name": "Python 3"
    }
  },
  "cells": [
    {
      "cell_type": "markdown",
      "metadata": {
        "id": "view-in-github",
        "colab_type": "text"
      },
      "source": [
        "<a href=\"https://colab.research.google.com/github/EvenSol/NeqSim-Colab/blob/master/notebooks/thermodynamics/ThermodynamicsOfHydrogen.ipynb\" target=\"_parent\"><img src=\"https://colab.research.google.com/assets/colab-badge.svg\" alt=\"Open In Colab\"/></a>"
      ]
    },
    {
      "cell_type": "code",
      "metadata": {
        "id": "rjEPXNb_7YoF",
        "cellView": "form"
      },
      "source": [
        "#@title Thermodynamics and physical properties of hydrogen\n",
        "#@markdown This page will give an introduction to how to calculate thermodynamic and physical properties of hydrogen.\n",
        "#@markdown <br><br>This document is part of the module [\"Introduction to Gas Processing using NeqSim in Colab\"](https://colab.research.google.com/github/EvenSol/NeqSim-Colab/blob/master/notebooks/examples_of_NeqSim_in_Colab.ipynb#scrollTo=_eRtkQnHpL70).\n",
        "%%capture\n",
        "!pip install neqsim==2.5.35\n",
        "import neqsim\n",
        "from neqsim.thermo.thermoTools import *\n",
        "import matplotlib\n",
        "import numpy as np\n",
        "import matplotlib.pyplot as plt\n",
        "import math\n",
        "plt.style.use('classic')\n",
        "%matplotlib inline"
      ],
      "execution_count": null,
      "outputs": []
    },
    {
      "cell_type": "markdown",
      "metadata": {
        "id": "l9-QQsqd_WAP"
      },
      "source": [
        "#Litterature\n",
        "https://www.engineeringtoolbox.com/hydrogen-d_1419.html\n",
        "\n",
        "Thermodynamic and transport properties of hydrogen containing streams:\n",
        "https://www.nature.com/articles/s41597-020-0568-6"
      ]
    },
    {
      "cell_type": "markdown",
      "metadata": {
        "id": "9VogEhRm73EZ"
      },
      "source": [
        "#Hydrogen properties\n",
        "* Hydrogen is the lightest element and will explode at concentrations ranging from 4-75 percent by volume in the presence of sunlight, a flame, or a spark.\n",
        "* Despite its stability, hydrogen forms many bonds and is present in many different compounds.\n",
        "* Three naturally occurring isotopes of hydrogen exist: protium, deuterium, and tritium, each with different properties due to the difference in the number of neutrons in the nucleus.\n",
        "\n",
        "Hydrogen is the smallest chemical element because it consists of only one proton in its nucleus. Its symbol is H, and its atomic number is 1. It has an average atomic weight of 1.0079 amu, making it the lightest element. Hydrogen is the most abundant chemical substance in the universe, especially in stars and gas giant planets. However, monoatomic hydrogen is rare on Earth is rare due to its propensity to form covalent bonds with most elements. At standard temperature and pressure, hydrogen is a nontoxic, nonmetallic, odorless, tasteless, colorless, and highly combustible diatomic gas with the molecular formula H2. Hydrogen is also prevalent on Earth in the form of chemical compounds such as hydrocarbons and water.\n",
        "\n",
        "Hydrogen has one one proton and one electron; the most common isotope, protium (1H), has no neutrons. Hydrogen has a melting point of -259.14 °C and a boiling point of -252.87 °C. Hydrogen has a density of 0.08988 g/L, making it less dense than air. It has two distinct oxidation states, (+1, -1), which make it able to act as both an oxidizing and a reducing agent. Its covalent radius is 31.5 pm.\n",
        "\n",
        "Hydrogen exists in two different spin isomers of hydrogen diatomic molecules that differ by the relative spin of their nuclei. The orthohydrogen form has parallel spins; the parahydrogen form has antiparallel spins. At standard temperature and pressure, hydrogen gas consists of 75 percent orthohydrogen and 25 percent parahydrogen. Hydrogen is available in different forms, such as compressed gaseous hydrogen, liquid hydrogen, and slush hydrogen (composed of liquid and solid), as well as solid and metallic forms."
      ]
    },
    {
      "cell_type": "code",
      "metadata": {
        "id": "Tkm8-6Sw82d4",
        "cellView": "form",
        "outputId": "df9740cd-a88e-4240-d430-9b5a74473b56",
        "colab": {
          "base_uri": "https://localhost:8080/",
          "height": 421
        }
      },
      "source": [
        "#@title Introduction to properties of hydrogen\n",
        "#@markdown This video gives an intriduction to properties of hydrogen\n",
        "from IPython.display import YouTubeVideo\n",
        "YouTubeVideo('U-MNKK20Z_g', width=600, height=400)"
      ],
      "execution_count": null,
      "outputs": [
        {
          "output_type": "execute_result",
          "data": {
            "text/html": [
              "\n",
              "        <iframe\n",
              "            width=\"600\"\n",
              "            height=\"400\"\n",
              "            src=\"https://www.youtube.com/embed/U-MNKK20Z_g\"\n",
              "            frameborder=\"0\"\n",
              "            allowfullscreen\n",
              "        ></iframe>\n",
              "        "
            ],
            "text/plain": [
              "<IPython.lib.display.YouTubeVideo at 0x7f234ea05690>"
            ],
            "image/jpeg": "[encoded data removed]"
          },
          "metadata": {},
          "execution_count": 2
        }
      ]
    },
    {
      "cell_type": "markdown",
      "source": [
        "# NeqSim and hydrogen\n",
        "\n",
        "One of the key features of NeqSim is its ability to model hydrogen at high pressures and temperatures, which is particularly important for applications such as fuel cells and hydrogen production. The software uses a variety of thermodynamic models to accurately describe the behavior of hydrogen under these conditions, including the Peng-Robinson equation of state and the GERG-2008 equation of state.\n",
        "\n",
        "In addition to its equation of state models, NeqSim also includes a wide range of physical property models for hydrogen, including models for viscosity, thermal conductivity, and surface tension. These models allow for accurate prediction of the physical behavior of hydrogen in a variety of applications, such as gas pipelines and cryogenic systems.\n",
        "\n",
        "NeqSim is also capable of performing process simulations, allowing for the modeling of complex systems involving hydrogen, such as fuel cell systems and hydrogen production plants. The software can be used to optimize these systems, by predicting the behavior of hydrogen and other components under different operating conditions."
      ],
      "metadata": {
        "id": "K10EuYes8Nj7"
      }
    },
    {
      "cell_type": "code",
      "metadata": {
        "id": "cn_AokWM9rAp",
        "outputId": "bf5c0f47-5fd2-4a6c-c627-da29f734844d",
        "colab": {
          "base_uri": "https://localhost:8080/"
        }
      },
      "source": [
        "#@title  Calculation of vapour pressure and density of hydrogen\n",
        "#@markdown Hydrogen vapour pressure and phase densities can be calculated using a classic EoS such as the Peng Robinson.\n",
        "#@markdown\n",
        "\n",
        "from neqsim.thermo import fluid, TPflash\n",
        "\n",
        "fluid1 = fluid('pr')\n",
        "fluid1.addComponent('hydrogen', 1.0)\n",
        "fluid1.setPressure(1.01325, 'bara')\n",
        "fluid1.setTemperature(-250.0, 'C')\n",
        "dewt(fluid1);\n",
        "fluid1.initProperties()\n",
        "print('buble point temperature', fluid1.getTemperature('C'), \" at \", fluid1.getPressure(), \" bara\")\n",
        "print('gas density ', fluid1.getPhase('gas').getDensity())\n",
        "print('liquid density ', fluid1.getPhase('oil').getDensity())"
      ],
      "execution_count": null,
      "outputs": [
        {
          "output_type": "stream",
          "name": "stdout",
          "text": [
            "error could not calculate\n",
            "buble point temperature -252.80235819230342  at  1.01325  bara\n",
            "gas density  1.3305043138535513\n",
            "liquid density  88.59095725029313\n"
          ]
        }
      ]
    },
    {
      "cell_type": "markdown",
      "metadata": {
        "id": "jQ7aTky2_LNl"
      },
      "source": [
        "#Accuracy of property calculations for hydrogen\n",
        "In the following section we will evaluate models for calculation of preoprties of hydrogen dominated systems. \n",
        "\n",
        "In the following example we compare density calculations using SRK/PR EoS to the GERG-2008 EoS."
      ]
    },
    {
      "cell_type": "markdown",
      "metadata": {
        "id": "lXXwEJkLBeNv"
      },
      "source": [
        "##Calculation of density of hydrogen\n",
        "In the following example we evaluate the accuracy density calculation of two common EoS (SRK/PR) by comparing the the GERG-2008 EoS reference EoS."
      ]
    },
    {
      "cell_type": "code",
      "metadata": {
        "id": "SwpWAT09_avR",
        "outputId": "f14e2bcc-5176-48ba-cf59-5431c49dc00d",
        "colab": {
          "base_uri": "https://localhost:8080/",
          "height": 392
        }
      },
      "source": [
        "#@title Select component and equation of state. Set temperature [C] and pressure range [bara]. { run: \"auto\" }\n",
        "temperature = 20.0   #@param {type:\"number\"}\n",
        "minPressure = 1.0  #@param {type:\"number\"}\n",
        "maxPressure = 1000.0  #@param {type:\"number\"}\n",
        "eosname = \"srk\" #@param [\"srk\", \"pr\"]\n",
        "R = 8.314 # J/mol/K\n",
        "\n",
        "# Creating a fluid in neqsim\n",
        "fluid1 = fluid(eosname) #create a fluid using the SRK-EoS\n",
        "fluid1.addComponent('hydrogen', 1.0) #adding 1 mole to the fluid\n",
        "fluid1.init(0); \n",
        "\n",
        "\n",
        "def realgasdensity(pressure, temperature):\n",
        "    fluid1.setPressure(pressure, 'bara')\n",
        "    fluid1.setTemperature(temperature, \"C\")\n",
        "    TPflash(fluid1)\n",
        "    fluid1.initPhysicalProperties();\n",
        "    return fluid1.getDensity('kg/m3')\n",
        "\n",
        "def GERGgasdensity(pressure, temperature):\n",
        "    fluid1.setPressure(pressure, 'bara')\n",
        "    fluid1.setTemperature(temperature, 'C')\n",
        "    TPflash(fluid1)\n",
        "    return fluid1.getPhase('gas').getDensity_GERG2008()\n",
        "\n",
        "pressure = np.arange(minPressure, maxPressure, int((maxPressure-minPressure)/100)+1)\n",
        "realdensity = [realgasdensity(P,temperature) for P in pressure]\n",
        "GERG2008density = [GERGgasdensity(P,temperature) for P in pressure]\n",
        "deviation = [((realgasdensity(P,temperature)-GERGgasdensity(P,temperature))/GERGgasdensity(P,temperature)*100.0) for P in pressure]\n",
        "\n",
        "print('Pure component hydrogen parameters for SRK/PR EoS ')\n",
        "print('Critical temperature ', fluid1.getComponent('hydrogen').getTC(), ' [K]')\n",
        "print('Critical pressure ', fluid1.getComponent('hydrogen').getPC(), ' [bara]')\n",
        "print('Accentric factor ', fluid1.getComponent('hydrogen').getAcentricFactor(), ' [-]')\n",
        "fig = plt.figure()\n",
        "plt.subplot(2, 1, 1)\n",
        "plt.plot(pressure, realdensity, '-')\n",
        "plt.plot(pressure, GERG2008density, '--')\n",
        "plt.xlabel('Pressure [bara]')\n",
        "plt.ylabel('Density [kg/m3]')\n",
        "plt.legend([eosname, 'GERG-2008'],loc='best')\n",
        "plt.subplot(2, 1, 2)\n",
        "title = 'Density of hydrogen at '+ str(temperature)+ ' [C]'\n",
        "fig.suptitle(title)\n",
        "plt.plot(pressure, deviation)\n",
        "plt.xlabel('Pressure [bara]')\n",
        "plt.ylabel('Deviation [%]')"
      ],
      "execution_count": null,
      "outputs": [
        {
          "output_type": "stream",
          "name": "stdout",
          "text": [
            "Pure component hydrogen parameters for SRK/PR EoS \n",
            "Critical temperature  33.19999999999999  [K]\n",
            "Critical pressure  12.97  [bara]\n",
            "Accentric factor  -0.22  [-]\n"
          ]
        },
        {
          "output_type": "execute_result",
          "data": {
            "text/plain": [
              "Text(0, 0.5, 'Deviation [%]')"
            ]
          },
          "metadata": {},
          "execution_count": 4
        },
        {
          "output_type": "display_data",
          "data": {
            "image/png": "[encoded data removed]",
            "text/plain": [
              "<Figure size 432x288 with 2 Axes>"
            ]
          },
          "metadata": {
            "needs_background": "light"
          }
        }
      ]
    },
    {
      "cell_type": "markdown",
      "metadata": {
        "id": "TphDzxcIGKZh"
      },
      "source": [
        "#Phase envelope of hydrogen dominated gas mixtures\n",
        "In the follwing section we will evaluate the phase behaviour of gas mixtures dominated by hydrogen."
      ]
    },
    {
      "cell_type": "code",
      "metadata": {
        "id": "Zc2vFmzBGll-",
        "outputId": "ac794ea9-7d75-4838-88b7-c8388973fb0a",
        "colab": {
          "base_uri": "https://localhost:8080/",
          "height": 541
        }
      },
      "source": [
        "import pandas as pd\n",
        "\n",
        "naturalgas = {'ComponentName':  [\"hydrogen\", \"CO2\", \"methane\", \"ethane\", \"propane\", \"i-butane\", \"n-butane\",\"i-pentane\", \"n-pentane\"], \n",
        "       'MolarComposition[-]':  [90.0, 0.0, 10.0, 0.0, 0.0, 0.0, 0.0, 0.0, 0.0]\n",
        "} \n",
        "\n",
        "\n",
        "naturalgasdf = pd.DataFrame(naturalgas) \n",
        "print(\"Natural Gas Fluid:\\n\")\n",
        "print(naturalgasdf.head(30).to_string())\n",
        "\n",
        "naturalgasFluid = fluid_df(naturalgasdf)\n",
        "\n",
        "gasPhaseEnvelope = phaseenvelope(naturalgasFluid,True)\n",
        "cricobar = gasPhaseEnvelope.get(\"cricondenbar\")\n",
        "cricotherm = gasPhaseEnvelope.get(\"cricondentherm\")\n",
        "print(\"cricobarP \",  cricobar[1], \"  [bara] \", \" cricobarT \", cricobar[0], \" °K\")\n",
        "print(\"cricothermP \",  cricotherm[1], \"  [bara] \", \" cricothermT \", cricotherm[0], \" °K\")"
      ],
      "execution_count": null,
      "outputs": [
        {
          "output_type": "stream",
          "name": "stdout",
          "text": [
            "Natural Gas Fluid:\n",
            "\n",
            "  ComponentName  MolarComposition[-]\n",
            "0      hydrogen                 90.0\n",
            "1           CO2                  0.0\n",
            "2       methane                 10.0\n",
            "3        ethane                  0.0\n",
            "4       propane                  0.0\n",
            "5      i-butane                  0.0\n",
            "6      n-butane                  0.0\n",
            "7     i-pentane                  0.0\n",
            "8     n-pentane                  0.0\n"
          ]
        },
        {
          "output_type": "display_data",
          "data": {
            "image/png": "[encoded data removed]",
            "text/plain": [
              "<Figure size 432x288 with 1 Axes>"
            ]
          },
          "metadata": {
            "needs_background": "light"
          }
        },
        {
          "output_type": "stream",
          "name": "stdout",
          "text": [
            "cricobarP  1000.6796590240606   [bara]   cricobarT  105.61508992820364  °K\n",
            "cricothermP  104.69357339804696   [bara]   cricothermT  128.08944103616167  °K\n"
          ]
        }
      ]
    },
    {
      "cell_type": "markdown",
      "source": [
        "# Calculation of hydrogen properties using the GERG-2008 EoS\n",
        "In the following example we will use the GERG-EoS to calculate properties of hydrogen."
      ],
      "metadata": {
        "id": "5Q4pc03ovxBW"
      }
    },
    {
      "cell_type": "code",
      "source": [
        "gasFluid = fluid('pr') #Create a fluid uning the Peng Robinson EoS\n",
        "gasFluid.addComponent('hydrogen', 0.9, 'mole/sec')\n",
        "gasFluid.setMixingRule('classic')\n",
        "\n",
        "#Set pressure and temperature and calculate properties\n",
        "gasFluid.setTemperature(20.0, 'C')\n",
        "gasFluid.setPressure(20.0, 'bara')\n",
        "TPflash(gasFluid)\n",
        "gasFluid.initProperties()\n",
        "\n",
        "properties = gasFluid.getPhase('gas').getProperties_GERG2008()\n",
        "\n",
        "print(\"Compressibility factor: \", properties[1])\n",
        "print(\"d(P)/d(rho) [kPa/(mol/l)] \", properties[2])\n",
        "print(\"d^2(P)/d(rho)^2 [kPa/(mol/l)^2]: \",properties[3])\n",
        "print(\"d2(P)/d2(T) [kPa/K]:\", properties[4])\n",
        "print(\"d(P)/d(T) [kPa/K]: \", properties[5])\n",
        "print(\"Enthalpy [J/mol]:  \", properties[7])\n",
        "print(\"Entropy [J/mol-K]: \",properties[8])\n",
        "print(\"Isochoric heat capacity [J/mol-K]:\",properties[9])\n",
        "print(\"Isobaric heat capacity [J/mol-K]: \",properties[10])\n",
        "print(\"Speed of sound [m/s]:  \",properties[11])\n",
        "print(\"Gibbs energy [J/mol]: \",properties[12])\n",
        "print(\"Joule-Thomson coefficient [K/kPa]: \" ,properties[13])\n",
        "print(\"Isentropic exponent: \",properties[14])\n",
        "\n",
        "gergDensity = gasFluid.getPhase('gas').getDensity_GERG2008()\n",
        "print(\"Density [kg/m3]: \", gergDensity)"
      ],
      "metadata": {
        "colab": {
          "base_uri": "https://localhost:8080/"
        },
        "id": "T4S8_VBnvr0n",
        "outputId": "80e87470-fdf1-46ec-dace-776b5d21fd29"
      },
      "execution_count": null,
      "outputs": [
        {
          "output_type": "stream",
          "name": "stdout",
          "text": [
            "Compressibility factor:  1.0117723188083418\n",
            "d(P)/d(rho) [kPa/(mol/l)]  2495.3967367985256\n",
            "d^2(P)/d(rho)^2 [kPa/(mol/l)^2]:  73.82867814668732\n",
            "d2(P)/d2(T) [kPa/K]: 8.595191627130891\n",
            "d(P)/d(T) [kPa/K]:  6.856289122996033\n",
            "Enthalpy [J/mol]:   -127.68600489632873\n",
            "Entropy [J/mol-K]:  -25.327301385413335\n",
            "Isochoric heat capacity [J/mol-K]: 20.514329596446462\n",
            "Isobaric heat capacity [J/mol-K]:  28.91053944402919\n",
            "Speed of sound [m/s]:   1320.7995020938679\n",
            "Gibbs energy [J/mol]:  7297.012396237591\n",
            "Joule-Thomson coefficient [K/kPa]:  -0.00029196442088090464\n",
            "Isentropic exponent:  1.4260380125916234\n",
            "Density [kg/m3]:  1.6349826804123533\n"
          ]
        }
      ]
    },
    {
      "cell_type": "markdown",
      "source": [
        "# GERG-2008 for hydrogen and natural gas\n",
        "In the following exmaple we use the GERG-2008 EoS to calculate the properties of a mixture of hydrogen and methane/ethane"
      ],
      "metadata": {
        "id": "tE0Q8d0owCB2"
      }
    },
    {
      "cell_type": "code",
      "source": [
        "gasFluid = fluid('pr') #Create a fluid uning the Peng Robinson EoS\n",
        "gasFluid.addComponent('methane', 0.05, 'mole/sec')\n",
        "gasFluid.addComponent('ethane', 0.05, 'mole/sec')\n",
        "gasFluid.addComponent('hydrogen', 0.9, 'mole/sec')\n",
        "gasFluid.setMixingRule('classic')\n",
        "\n",
        "#Set pressure and temperature and calculate properties\n",
        "gasFluid.setTemperature(20.0, 'C')\n",
        "gasFluid.setPressure(20.0, 'bara')\n",
        "TPflash(gasFluid)\n",
        "gasFluid.initProperties()\n",
        "\n",
        "properties = gasFluid.getPhase('gas').getProperties_GERG2008()\n",
        "\n",
        "print(\"Compressibility factor: \", properties[1])\n",
        "print(\"d(P)/d(rho) [kPa/(mol/l)] \", properties[2])\n",
        "print(\"d^2(P)/d(rho)^2 [kPa/(mol/l)^2]: \",properties[3])\n",
        "print(\"d2(P)/d2(T) [kPa/K]:\", properties[4])\n",
        "print(\"d(P)/d(T) [kPa/K]: \", properties[5])\n",
        "print(\"Enthalpy [J/mol]:  \", properties[7])\n",
        "print(\"Entropy [J/mol-K]: \",properties[8])\n",
        "print(\"Isochoric heat capacity [J/mol-K]:\",properties[9])\n",
        "print(\"Isobaric heat capacity [J/mol-K]: \",properties[10])\n",
        "print(\"Speed of sound [m/s]:  \",properties[11])\n",
        "print(\"Gibbs energy [J/mol]: \",properties[12])\n",
        "print(\"Joule-Thomson coefficient [K/kPa]: \" ,properties[13])\n",
        "print(\"Isentropic exponent: \",properties[14])\n",
        "\n",
        "gergDensity = gasFluid.getPhase('gas').getDensity_GERG2008()\n",
        "print(\"Density [kg/m3]: \", gergDensity)"
      ],
      "metadata": {
        "colab": {
          "base_uri": "https://localhost:8080/"
        },
        "id": "1K60esf4wBMu",
        "outputId": "62d13e4d-8656-42ec-bc53-a4e56ea0541f"
      },
      "execution_count": null,
      "outputs": [
        {
          "output_type": "stream",
          "name": "stdout",
          "text": [
            "Compressibility factor:  1.0091813511710588\n",
            "d(P)/d(rho) [kPa/(mol/l)]  2483.0351793710392\n",
            "d^2(P)/d(rho)^2 [kPa/(mol/l)^2]:  59.43276455297705\n",
            "d2(P)/d2(T) [kPa/K]: 8.673088387524809\n",
            "d(P)/d(T) [kPa/K]:  6.905298834022544\n",
            "Enthalpy [J/mol]:   -159.22298173255533\n",
            "Entropy [J/mol-K]:  -22.133232643008775\n",
            "Isochoric heat capacity [J/mol-K]: 22.009238863722906\n",
            "Isobaric heat capacity [J/mol-K]:  30.524531364591894\n",
            "Speed of sound [m/s]:   914.2644411258295\n",
            "Gibbs energy [J/mol]:  6329.134167565467\n",
            "Joule-Thomson coefficient [K/kPa]:  0.00010713931987949455\n",
            "Isentropic exponent:  1.400016208677884\n",
            "Density [kg/m3]:  3.3499528316130935\n"
          ]
        }
      ]
    }
  ]
}