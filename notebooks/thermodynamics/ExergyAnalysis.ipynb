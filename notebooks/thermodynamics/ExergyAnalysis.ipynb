{
  "nbformat": 4,
  "nbformat_minor": 0,
  "metadata": {
    "colab": {
      "name": "ExergyAnalysis.ipynb",
      "provenance": [],
      "include_colab_link": true
    },
    "kernelspec": {
      "name": "python3",
      "display_name": "Python 3"
    }
  },
  "cells": [
    {
      "cell_type": "markdown",
      "metadata": {
        "id": "view-in-github",
        "colab_type": "text"
      },
      "source": [
        "<a href=\"https://colab.research.google.com/github/EvenSol/NeqSim-Colab/blob/master/notebooks/thermodynamics/ExergyAnalysis.ipynb\" target=\"_parent\"><img src=\"https://colab.research.google.com/assets/colab-badge.svg\" alt=\"Open In Colab\"/></a>"
      ]
    },
    {
      "cell_type": "code",
      "metadata": {
        "id": "eUg61ouJY8I-",
        "cellView": "form"
      },
      "source": [
        "#@title Exergy analysis\n",
        "#@markdown Exergy analysis is a thermodynamic analysis technique based on the second law of thermodynamics which provides an alternative and illuminating means of assessing and comparing processes and systems rationally and meaningfully.\n",
        "#@markdown <br><br>This document is part of the module [\"Introduction to Gas Processing using NeqSim in Colab\"](https://colab.research.google.com/github/EvenSol/NeqSim-Colab/blob/master/notebooks/examples_of_NeqSim_in_Colab.ipynb#scrollTo=_eRtkQnHpL70).\n",
        "%%capture\n",
        "!pip install neqsim"
      ],
      "execution_count": null,
      "outputs": []
    },
    {
      "cell_type": "markdown",
      "source": [
        "#Exergy analysis\n",
        "Exergy analysis is a thermodynamic tool used to evaluate and optimize energy conversion systems. It is based on the concept of exergy, which is the maximum useful work that can be obtained from a system as it comes into equilibrium with its environment.\n",
        "\n",
        "Exergy analysis involves analyzing the inputs and outputs of a system to determine the amount of exergy that is being destroyed or lost. This analysis can help identify the sources of inefficiencies in the system and identify opportunities for optimization.\n",
        "\n",
        "The exergy of a system can be calculated using the following equation:\n",
        "\n",
        "Exergy = (available energy) - (energy lost to the environment)\n",
        "\n",
        "Available energy refers to the energy that can be converted into useful work, while energy lost to the environment refers to energy that is dissipated as waste heat. The exergy analysis provides information about the system's energy efficiency, the amount of energy waste, and the opportunities for improving system performance.\n",
        "\n",
        "Exergy analysis is commonly used in the design and optimization of energy conversion systems such as power plants, engines, and refrigeration systems. It can also be applied to the analysis of industrial processes to identify areas of inefficiency and to develop strategies for improving process efficiency.\n",
        "\n",
        "Overall, exergy analysis is a powerf"
      ],
      "metadata": {
        "id": "E4qUsQLXTpHk"
      }
    },
    {
      "cell_type": "code",
      "metadata": {
        "id": "pytbPaqwZluA",
        "cellView": "form",
        "outputId": "4059efbd-6ae8-4256-fb3a-bd4b4b12f1c4",
        "colab": {
          "base_uri": "https://localhost:8080/",
          "height": 421
        }
      },
      "source": [
        "#@title  Exergy Analysis:\n",
        "#@markdown integrating the 1st and 2nd laws of thermodynamics. https://www.youtube.com/watch?v=cD3nFnzviqA\n",
        "from IPython.display import YouTubeVideo\n",
        "YouTubeVideo('cD3nFnzviqA', width=600, height=400)\n"
      ],
      "execution_count": null,
      "outputs": [
        {
          "output_type": "execute_result",
          "data": {
            "text/html": [
              "\n",
              "        <iframe\n",
              "            width=\"600\"\n",
              "            height=\"400\"\n",
              "            src=\"https://www.youtube.com/embed/cD3nFnzviqA\"\n",
              "            frameborder=\"0\"\n",
              "            allowfullscreen\n",
              "        ></iframe>\n",
              "        "
            ],
            "text/plain": [
              "<IPython.lib.display.YouTubeVideo at 0x7fa9f083c898>"
            ],
            "image/jpeg": "[encoded data removed]"
          },
          "metadata": {
            "tags": []
          },
          "execution_count": 2
        }
      ]
    },
    {
      "cell_type": "markdown",
      "metadata": {
        "id": "iq_j5n-ynD44"
      },
      "source": [
        "# Exergy\n",
        "In thermodynamics, the exergy of a system is the maximum useful work possible during a process that brings the system into equilibrium with a heat reservoir, reaching maximum entropy. When the surroundings are the reservoir, exergy is the potential of a system to cause a change as it achieves equilibrium with its environment. Exergy is the energy that is available to be used. After the system and surroundings reach equilibrium, the exergy is zero. Determining exergy was also the first goal of thermodynamics.\n",
        "\n",
        "Energy is neither created nor destroyed during a process. Energy changes from one form to another (see First Law of Thermodynamics). In contrast, exergy is always destroyed when a process is irreversible, for example loss of heat to the environment (see Second Law of Thermodynamics). This destruction is proportional to the entropy increase of the system together with its surroundings (see Entropy production). The destroyed exergy has been called anergy. For an isothermal process, exergy and energy are interchangeable terms, and there is no anergy.\n",
        "\n",
        "https://en.wikipedia.org/wiki/Exergy"
      ]
    },
    {
      "cell_type": "markdown",
      "metadata": {
        "id": "_fdXWsWH0YiG"
      },
      "source": [
        "#Example of Exergy Calculation using NeqSim\n",
        "THe exergy of a stream can be directly calculated in neasim. THe Exergy is defined as \n",
        "\n",
        "$e_x=(h_1 - h_0) - T_0(s_1-s_o)  $\n",
        "\n",
        "Where $T_0$ is the temperature of the surroundings.\n",
        "\n",
        "http://www.ivt.ntnu.no/ept/fag/tep4120/innhold/Exergy%20Light%20Version%203.pdf"
      ]
    },
    {
      "cell_type": "code",
      "metadata": {
        "id": "DzOXhiqvP2Ep",
        "outputId": "e77c67c4-40ef-4674-b9d5-10695ea4fd75",
        "colab": {
          "base_uri": "https://localhost:8080/",
          "height": 66
        }
      },
      "source": [
        "import neqsim\n",
        "from neqsim.thermo.thermoTools import *\n",
        "\n",
        "Tsurr = 20.0+273.15 # surrounding temperature in Kelvin\n",
        "\n",
        "Tgas = 50.0\n",
        "P_in = 20.0\n",
        "P_out = 10.0\n",
        "\n",
        "fluid_1 = fluid(\"srk\")\n",
        "fluid_1.addComponent(\"methane\", 1.0, \"kg/sec\")\n",
        "fluid_1.addComponent(\"ethane\", 0.10, \"kg/sec\")\n",
        "fluid_1.setTemperature(Tgas, \"C\")\n",
        "fluid_1.setPressure(P_in, \"bara\")\n",
        "TPflash(fluid_1)\n",
        "T1 = fluid_1.getTemperature(\"C\")\n",
        "H1 = fluid_1.getEnthalpy(\"kJ/kg\")\n",
        "U1 = fluid_1.getInternalEnergy(\"kJ/kg\")\n",
        "S1 = fluid_1.getEntropy(\"kJ/kgK\")\n",
        "V1 = fluid_1.getVolume(\"m3\")\n",
        "E1 = fluid_1.getExergy(Tsurr, \"kJ/kg\")\n",
        "\n",
        "\n",
        "#simulating a throtling process - an isenthalpic process\n",
        "fluid_1.setPressure(P_out)\n",
        "PHflash(fluid_1, E1, \"kJ/kg\")\n",
        "\n",
        "T2 = fluid_1.getTemperature(\"C\")\n",
        "H2 = fluid_1.getEnthalpy(\"kJ/kg\")\n",
        "U2 = fluid_1.getInternalEnergy(\"kJ/kg\")\n",
        "S2 = fluid_1.getEntropy(\"kJ/kgK\")\n",
        "V2 = fluid_1.getVolume(\"m3\")\n",
        "E2 = fluid_1.getExergy(Tsurr, \"kJ/kg\")\n",
        "\n",
        "\n",
        "#Reduction in exergy\n",
        "\n",
        "redEx = E1-E2\n",
        "\n",
        "print(\"Reduction in exergy in valve is \", redEx, \" kJ/kg\")\n",
        "\n",
        "\n",
        "#In an adiabatic expander we will take out work at constant entropy\n",
        "\n",
        "PSflash(fluid_1, S1, \"kJ/kgK\")\n",
        "\n",
        "T3 = fluid_1.getTemperature(\"C\")\n",
        "H3 = fluid_1.getEnthalpy(\"kJ/kg\")\n",
        "U3 = fluid_1.getInternalEnergy(\"kJ/kg\")\n",
        "S3 = fluid_1.getEntropy(\"kJ/kgK\")\n",
        "V3 = fluid_1.getVolume(\"m3\")\n",
        "E3 = fluid_1.getExergy(Tsurr, \"kJ/kg\")\n",
        "\n",
        "#THe work done will be\n",
        "work = H1-H3\n",
        "print(\"expander work \", work, \" kJ/kg\")\n",
        "#change in exergi is\n",
        "exChange = E1-E3\n",
        "\n",
        "print(\"reduced exergy \",  exChange, \" kJ/kg\")"
      ],
      "execution_count": null,
      "outputs": [
        {
          "output_type": "stream",
          "text": [
            "Reduction in exergy in valve is  28.083849245033832  kJ/kg\n",
            "expander work  99.94625084633307  kJ/kg\n",
            "reduced exergy  99.94625084633304  kJ/kg\n"
          ],
          "name": "stdout"
        }
      ]
    }
  ]
}