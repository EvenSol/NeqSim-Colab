{
  "nbformat": 4,
  "nbformat_minor": 0,
  "metadata": {
    "colab": {
      "name": "interfacialtension.ipynb",
      "provenance": [],
      "collapsed_sections": [],
      "include_colab_link": true
    },
    "kernelspec": {
      "name": "python3",
      "display_name": "Python 3"
    }
  },
  "cells": [
    {
      "cell_type": "markdown",
      "metadata": {
        "id": "view-in-github",
        "colab_type": "text"
      },
      "source": [
        "<a href=\"https://colab.research.google.com/github/EvenSol/NeqSim-Colab/blob/master/notebooks/thermodynamics/interfacialtension.ipynb\" target=\"_parent\"><img src=\"https://colab.research.google.com/assets/colab-badge.svg\" alt=\"Open In Colab\"/></a>"
      ]
    },
    {
      "cell_type": "code",
      "metadata": {
        "id": "c7oLiYgcEV2Y",
        "colab_type": "code",
        "cellView": "form",
        "colab": {}
      },
      "source": [
        "#@title Interfacial tension of fluids\n",
        "#@markdown Interfacial tension is the force of attraction between the molecules at the interface of two fluids. At the air–liquid interface, this force is often referred to as surface tension. The SI units for interfacial tension are milli-Newtons per meter (mN/m).\n",
        "#@markdown <br><br>This document is part of the module [\"Introduction to Gas Processing using NeqSim in Colab\"](https://colab.research.google.com/github/EvenSol/NeqSim-Colab/blob/master/notebooks/examples_of_NeqSim_in_Colab.ipynb#scrollTo=_eRtkQnHpL70).\n",
        "%%capture\n",
        "!pip install neqsim==2.5.35\n",
        "import neqsim\n",
        "from neqsim.thermo.thermoTools import *\n",
        "import matplotlib\n",
        "import numpy as np\n",
        "import matplotlib.pyplot as plt\n",
        "import math\n",
        "%matplotlib inline"
      ],
      "execution_count": 0,
      "outputs": []
    },
    {
      "cell_type": "code",
      "metadata": {
        "id": "9Kkz5ZeLEyRv",
        "colab_type": "code",
        "cellView": "form",
        "outputId": "372ae260-6ee8-4b98-d85e-81af9c844990",
        "colab": {
          "base_uri": "https://localhost:8080/",
          "height": 421
        }
      },
      "source": [
        "#@title  Introduction to Interfacial tension\n",
        "#@markdown Definitions, interfacial tension, capillary behavior\n",
        "from IPython.display import YouTubeVideo\n",
        "YouTubeVideo('Tecnb_Z4r4o', width=600, height=400)"
      ],
      "execution_count": 0,
      "outputs": [
        {
          "output_type": "execute_result",
          "data": {
            "text/html": [
              "\n",
              "        <iframe\n",
              "            width=\"600\"\n",
              "            height=\"400\"\n",
              "            src=\"https://www.youtube.com/embed/Tecnb_Z4r4o\"\n",
              "            frameborder=\"0\"\n",
              "            allowfullscreen\n",
              "        ></iframe>\n",
              "        "
            ],
            "text/plain": [
              "<IPython.lib.display.YouTubeVideo at 0x7f775cc8eb38>"
            ],
            "image/jpeg": "[encoded data removed]"
          },
          "metadata": {
            "tags": []
          },
          "execution_count": 2
        }
      ]
    },
    {
      "cell_type": "markdown",
      "metadata": {
        "id": "vT1Qy8vlRuDf",
        "colab_type": "text"
      },
      "source": [
        "## Surface tesnion between gas and oil\n",
        "Interfacial or surface tension exists when two phases are present. These phases can be gas/oil, oil/water, or gas/water. Interfacial tension is the force that holds the surface of a particular phase together and is normally measured in N/m. It is a function of pressure, temperature, and the composition of each phase.\n",
        "\n",
        "https://petrowiki.org/index.php?title=Interfacial_tension&action=edit"
      ]
    },
    {
      "cell_type": "markdown",
      "metadata": {
        "id": "70BE07Pt7NIx",
        "colab_type": "text"
      },
      "source": [
        "# Models for calculation of interfacial tension \n",
        "In 1973, Ramey[3] proposed a pseudocompositional method for calculating surface tension. The two components are oil and gas. Gas is free to dissolve in the oil phase, and oil is free to vaporize in the gas phase, which makes this method more versatile than the other methods discussed in this chapter. The Weinaug-Katz equation is modified as\n",
        "\n",
        "------ Weinaug-Katz equation -------\n",
        "\n",
        "\n",
        "The surface tension of a water-hydrocarbon system varies from approximately 72 dynes/cm for water/gas systems to 20 to 40 dynes/cm for water/oil systems at atmospheric conditions. In 1973, Ramey[3] published methods to evaluate the surface tension of water-hydrocarbon mixtures. Unfortunately, this work was for liquid hydrocarbons and did not extend into the gas-phase region. A later publication by Firoozabadi and Ramey[10] provided a more generalized correlation suitable for use with gas and liquid hydrocarbons. \n",
        "\n",
        "\n",
        "\n",
        "----- Firoozabadi and Ramey --------\n",
        "\n",
        "\n",
        "These approaches can be divided into two categories: empirical correlations and statistic thermodynamics-based methods that take into\n",
        "account the density gradient between the bulk phases. For instance, here list a\n",
        "few of techniques. Simple correlations methods: the parachor method and\n",
        "corresponding state correlations that are not satisfactory for computing interfacial tension of compounds that exhibit strong hydrogen bonding. Statistic\n",
        "thermodynamics-based methods: the perturbation theory, the density function theory and the gradient theory.\n",
        "\n",
        "\n",
        "\n",
        "------- gradient theory---------"
      ]
    },
    {
      "cell_type": "code",
      "metadata": {
        "id": "PzWrasHBWB3X",
        "colab_type": "code",
        "cellView": "both",
        "outputId": "f9a14f8b-900c-4082-ea6a-b749ee772554",
        "colab": {
          "base_uri": "https://localhost:8080/",
          "height": 66
        }
      },
      "source": [
        "#@title Selecting interfacial tension models for gas-oil in NeqSim\n",
        "#@markdown The following script calcluates the interfacial tension of methane/n-heptane using SRK in NeqSim using different methods for interfacial tension.\n",
        "\n",
        "fluid1 = fluid('srk')\n",
        "fluid1.addComponent('methane', 0.5)\n",
        "fluid1.addComponent('n-heptane', 0.5)\n",
        "fluid1.setTemperature(25.0, 'C')\n",
        "fluid1.setPressure(10.0, 'bara')\n",
        "fluid1.setMixingRule('classic')\n",
        "TPflash(fluid1)\n",
        "\n",
        "\n",
        "method = \"Parachor\"\n",
        "fluid1.getInterphaseProperties().setInterfacialTensionModel(\"gas\", \"oil\", method);\n",
        "fluid1.initProperties()\n",
        "print(\"Interfacial tension \", fluid1.getInterfacialTension('gas', 'oil'), \" N/m \", \" metod: \", method)\n",
        "\n",
        "method = \"Linear Gradient Theory\"\n",
        "fluid1.getInterphaseProperties().setInterfacialTensionModel(\"gas\", \"oil\", method);\n",
        "fluid1.initProperties()\n",
        "print(\"Interfacial tension \", fluid1.getInterfacialTension('gas', 'oil'), \" N/m \", \" metod: \", method)\n",
        "\n",
        "method = \"Simple Gradient Theory\"\n",
        "fluid1.getInterphaseProperties().setInterfacialTensionModel(\"gas\", \"oil\", method);\n",
        "fluid1.initProperties()\n",
        "print(\"Interfacial tension \", fluid1.getInterfacialTension('gas', 'oil'), \" N/m \", \" metod: \", method)\n"
      ],
      "execution_count": 0,
      "outputs": [
        {
          "output_type": "stream",
          "text": [
            "Interfacial tension  0.019465298474219166  N/m   metod:  Parachor\n",
            "Interfacial tension  0.019231442043744603  N/m   metod:  Linear Gradient Theory\n",
            "Interfacial tension  0.018709698815562628  N/m   metod:  Simple Gradient Theory\n"
          ],
          "name": "stdout"
        }
      ]
    },
    {
      "cell_type": "code",
      "metadata": {
        "id": "2zDwU8KjY9jF",
        "colab_type": "code",
        "outputId": "6244919f-6ae4-4a74-fa19-7b7f03d87d43",
        "cellView": "both",
        "colab": {
          "base_uri": "https://localhost:8080/",
          "height": 82
        }
      },
      "source": [
        "#@title Selecting interfacial tension models for gas-water in NeqSim\n",
        "#@markdown The following script calcluates the interfacial tension of methane/water using SRK in NeqSim using different methods for interfacial tension.\n",
        "\n",
        "fluid1 = fluid('cpa')\n",
        "fluid1.addComponent('methane', 0.5)\n",
        "fluid1.addComponent('water', 0.5)\n",
        "fluid1.setTemperature(25.0, 'C')\n",
        "fluid1.setPressure(10.0, 'bara')\n",
        "fluid1.setMixingRule(10)\n",
        "TPflash(fluid1)\n",
        "\n",
        "\n",
        "method = \"Parachor\"\n",
        "fluid1.getInterphaseProperties().setInterfacialTensionModel(\"gas\", \"aqueous\", method);\n",
        "fluid1.initProperties()\n",
        "print(\"Interfacial tension \", fluid1.getInterfacialTension('gas', 'aqueous'), \" N/m \", \" metod: \", method)\n",
        "\n",
        "method = \"Linear Gradient Theory\"\n",
        "fluid1.getInterphaseProperties().setInterfacialTensionModel(\"gas\", \"aqueous\", method);\n",
        "fluid1.initProperties()\n",
        "print(\"Interfacial tension \", fluid1.getInterfacialTension('gas', 'aqueous'), \" N/m \", \" metod: \", method)\n",
        "\n",
        "method = \"Simple Gradient Theory\"\n",
        "fluid1.getInterphaseProperties().setInterfacialTensionModel(\"gas\", \"aqueous\", method);\n",
        "fluid1.initProperties()\n",
        "print(\"Interfacial tension \", fluid1.getInterfacialTension('gas', 'aqueous'), \" N/m \", \" metod: \", method)\n",
        "\n",
        "method = \"Firozabadi Ramley\"\n",
        "fluid1.getInterphaseProperties().setInterfacialTensionModel(\"gas\", \"aqueous\", method);\n",
        "fluid1.initProperties()\n",
        "print(\"Interfacial tension \", fluid1.getInterfacialTension('gas', 'aqueous'), \" N/m \", \" metod: \", method)"
      ],
      "execution_count": 0,
      "outputs": [
        {
          "output_type": "stream",
          "text": [
            "Interfacial tension  0.07162394556655427  N/m   metod:  Parachor\n",
            "Interfacial tension  0.07415953853018091  N/m   metod:  Linear Gradient Theory\n",
            "Interfacial tension  0.08094489498567065  N/m   metod:  Simple Gradient Theory\n",
            "Interfacial tension  0.07512595363180251  N/m   metod:  Firozabadi Ramley\n"
          ],
          "name": "stdout"
        }
      ]
    },
    {
      "cell_type": "code",
      "metadata": {
        "id": "856trwI9_FVw",
        "colab_type": "code",
        "outputId": "08e4b12f-cfa5-4750-ca8e-5c50c86eb4a9",
        "colab": {
          "base_uri": "https://localhost:8080/",
          "height": 66
        }
      },
      "source": [
        "#@title Selecting interfacial tension models for oil-water in NeqSim\n",
        "#@markdown The following script calcluates the interfacial tension of n-heptane/water using SRK in NeqSim using different methods for interfacial tension.\n",
        "\n",
        "fluid1 = fluid('cpa')\n",
        "fluid1.addComponent('n-heptane', 0.5)\n",
        "fluid1.addComponent('water', 0.5)\n",
        "fluid1.setTemperature(25.0, 'C')\n",
        "fluid1.setPressure(10.0, 'bara')\n",
        "fluid1.setMixingRule(10)\n",
        "fluid1.setMultiPhaseCheck(True)\n",
        "TPflash(fluid1)\n",
        "\n",
        "\n",
        "method = \"Parachor\"\n",
        "fluid1.getInterphaseProperties().setInterfacialTensionModel(\"oil\", \"aqueous\", method);\n",
        "fluid1.initProperties()\n",
        "print(\"Interfacial tension \", fluid1.getInterfacialTension('oil', 'aqueous'), \" N/m \", \" metod: \", method)\n",
        "\n",
        "method = \"Linear Gradient Theory\"\n",
        "fluid1.getInterphaseProperties().setInterfacialTensionModel(\"oil\", \"aqueous\", method);\n",
        "fluid1.initProperties()\n",
        "print(\"Interfacial tension \", fluid1.getInterfacialTension('oil', 'aqueous'), \" N/m \", \" metod: \", method)\n",
        "\n",
        "method = \"Firozabadi Ramley\"\n",
        "fluid1.getInterphaseProperties().setInterfacialTensionModel(\"oil\", \"aqueous\", method);\n",
        "fluid1.initProperties()\n",
        "print(\"Interfacial tension \", fluid1.getInterfacialTension('oil', 'aqueous'), \" N/m \", \" metod: \", method)"
      ],
      "execution_count": 0,
      "outputs": [
        {
          "output_type": "stream",
          "text": [
            "Interfacial tension  0.051043188334397686  N/m   metod:  Parachor\n",
            "Interfacial tension  0.07305330229847552  N/m   metod:  Linear Gradient Theory\n",
            "Interfacial tension  0.051043188334397686  N/m   metod:  Firozabadi Ramley\n"
          ],
          "name": "stdout"
        }
      ]
    }
  ]
}