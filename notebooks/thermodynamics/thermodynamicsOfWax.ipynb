{
  "nbformat": 4,
  "nbformat_minor": 0,
  "metadata": {
    "colab": {
      "name": "thermodynamicsOfWax.ipynb",
      "provenance": [],
      "collapsed_sections": [],
      "authorship_tag": "ABX9TyMTJgYVnQcQPSRWmze/FppG",
      "include_colab_link": true
    },
    "kernelspec": {
      "name": "python3",
      "display_name": "Python 3"
    }
  },
  "cells": [
    {
      "cell_type": "markdown",
      "metadata": {
        "id": "view-in-github",
        "colab_type": "text"
      },
      "source": [
        "<a href=\"https://colab.research.google.com/github/EvenSol/NeqSim-Colab/blob/master/notebooks/thermodynamics/thermodynamicsOfWax.ipynb\" target=\"_parent\"><img src=\"https://colab.research.google.com/assets/colab-badge.svg\" alt=\"Open In Colab\"/></a>"
      ]
    },
    {
      "cell_type": "code",
      "metadata": {
        "id": "5tAs8wri2Z-K"
      },
      "source": [
        "#@markdown This document is part of the module [\"Introduction to Gas Processing using NeqSim in Colab\"](https://colab.research.google.com/github/EvenSol/NeqSim-Colab/blob/master/notebooks/examples_of_NeqSim_in_Colab.ipynb#scrollTo=_eRtkQnHpL70).\n",
        "%%capture\n",
        "!pip install neqsim\n",
        "!pip install wget\n",
        "import wget\n",
        "url = \"https://github.com/equinor/neqsim/releases/download/v2.0.1/neqsimthermodatabase.zip\"\n",
        "wget.download(url, 'neqsimdatabase.zip')\n",
        "!unzip neqsimdatabase.zip -d neqsimdatabase\n",
        "\n",
        "from neqsim import setDatabase\n",
        "setDatabase(\"jdbc:derby:neqsimdatabase/neqsimthermodatabase\")   "
      ],
      "execution_count": 1,
      "outputs": []
    },
    {
      "cell_type": "code",
      "metadata": {
        "id": "tsEAPIJ0G7PG",
        "cellView": "form",
        "outputId": "122ac8c4-33ab-4bfd-a457-ebd37c52d9be",
        "colab": {
          "base_uri": "https://localhost:8080/",
          "height": 422
        }
      },
      "source": [
        "#@title Introduction to Wax\n",
        "#@markdown This video gives an intriduction to behavour of wax in oil and gas production\n",
        "from IPython.display import YouTubeVideo\n",
        "YouTubeVideo('9vne-gWFQBw', width=600, height=400)"
      ],
      "execution_count": 2,
      "outputs": [
        {
          "output_type": "execute_result",
          "data": {
            "text/plain": [
              "<IPython.lib.display.YouTubeVideo at 0x7f74f7836f10>"
            ],
            "text/html": [
              "\n",
              "        <iframe\n",
              "            width=\"600\"\n",
              "            height=\"400\"\n",
              "            src=\"https://www.youtube.com/embed/9vne-gWFQBw\"\n",
              "            frameborder=\"0\"\n",
              "            allowfullscreen\n",
              "        ></iframe>\n",
              "        "
            ],
            "image/jpeg": "[encoded data removed]"
          },
          "metadata": {},
          "execution_count": 2
        }
      ]
    },
    {
      "cell_type": "markdown",
      "metadata": {
        "id": "BUAuhJM2G14s"
      },
      "source": [
        "# Demonstartion of a wax calculation in neqsim"
      ]
    },
    {
      "cell_type": "code",
      "metadata": {
        "id": "Z_VvMJF9FTUc",
        "outputId": "0347ae29-3ba1-4521-acd9-441098805047",
        "colab": {
          "base_uri": "https://localhost:8080/"
        }
      },
      "source": [
        "from neqsim.thermo import *\n",
        "        \n",
        "# Start by creating a fluid in neqsim\n",
        "fluid1 = fluid(\"srk\")  # create a fluid using the SRK-EoS\n",
        "\n",
        "fluid1.addComponent(\"nitrogen\", 1.0, \"mol/sec\")\n",
        "fluid1.addComponent(\"CO2\", 2.3, \"mol/sec\")\n",
        "fluid1.addComponent(\"methane\", 80.0, \"mol/sec\")\n",
        "fluid1.addComponent(\"ethane\", 6.0, \"mol/sec\")\n",
        "fluid1.addComponent(\"propane\", 3.0, \"mol/sec\")\n",
        "fluid1.addComponent(\"i-butane\", 1.0, \"mol/sec\")\n",
        "fluid1.addComponent(\"n-butane\", 1.0, \"mol/sec\")\n",
        "fluid1.addPlusFraction(\"C11\", 2.95, 217.0 / 1000.0, 0.8331);\n",
        "fluid1.getCharacterization().characterisePlusFraction();\n",
        "fluid1.getWaxModel().addTBPWax();\n",
        "fluid1.createDatabase(True);\n",
        "fluid1.setMixingRule(2);\n",
        "fluid1.addSolidComplexPhase(\"wax\");\n",
        "fluid1.setMultiphaseWaxCheck(True);\n",
        "\n",
        "fluid1.setTemperature(10.112, \"C\")\n",
        "fluid1.setPressure(10.0, \"bara\")\n",
        "\n",
        "TPflash(fluid1)\n",
        "printFrame(fluid1)\n",
        "\n",
        "fluid1.setTemperature(40.112, \"C\")\n",
        "fluid1.setPressure(10.0, \"bara\")\n",
        "waxTemp = WAT(fluid1)-273.15\n",
        "#printFrame(fluid1)\n",
        "print(\"WAT \", waxTemp, \" °C\")\n"
      ],
      "execution_count": 3,
      "outputs": [
        {
          "output_type": "stream",
          "name": "stdout",
          "text": [
            "                                                    ()                   (t, o, t, a, l)                         (g, a, s)                         (o, i, l)                         (w, a, x) ()                                            ()\n",
            "                              (n, i, t, r, o, g, e, n)    (1, ., 0, 2, 8, 2, 8, E, -, 2)    (1, ., 0, 6, 8, 3, 8, E, -, 2)       (1, ., 7, 9, 5, 9, E, -, 4) (1, ., 0, 7, 7, 9, 6, E, -, 5, 2) () ([, m, o, l, e,  , f, r, a, c, t, i, o, n, ])\n",
            "                                             (C, O, 2)    (2, ., 3, 6, 5, 0, 4, E, -, 2)    (2, ., 4, 4, 2, 1, 3, E, -, 2)    (4, ., 3, 5, 9, 3, 8, E, -, 3) (2, ., 3, 3, 5, 7, 4, E, -, 5, 2) () ([, m, o, l, e,  , f, r, a, c, t, i, o, n, ])\n",
            "                                 (m, e, t, h, a, n, e)    (8, ., 2, 2, 6, 2, 2, E, -, 1)    (8, ., 5, 3, 2, 7, 2, E, -, 1)    (5, ., 1, 6, 9, 7, 1, E, -, 2) (8, ., 3, 6, 4, 0, 5, E, -, 5, 1) () ([, m, o, l, e,  , f, r, a, c, t, i, o, n, ])\n",
            "                                    (e, t, h, a, n, e)    (6, ., 1, 6, 9, 6, 7, E, -, 2)    (6, ., 3, 2, 0, 5, 3, E, -, 2)    (2, ., 4, 4, 6, 8, 5, E, -, 2) (5, ., 8, 7, 1, 1, 2, E, -, 5, 2) () ([, m, o, l, e,  , f, r, a, c, t, i, o, n, ])\n",
            "                                 (p, r, o, p, a, n, e)    (3, ., 0, 8, 4, 8, 3, E, -, 2)    (3, ., 0, 3, 3, 2, 9, E, -, 2)    (4, ., 5, 3, 2, 8, 9, E, -, 2) (2, ., 6, 9, 5, 8, 8, E, -, 5, 2) () ([, m, o, l, e,  , f, r, a, c, t, i, o, n, ])\n",
            "                              (i, -, b, u, t, a, n, e)    (1, ., 0, 2, 8, 2, 8, E, -, 2)    (9, ., 3, 1, 6, 0, 4, E, -, 3)    (3, ., 5, 8, 2, 7, 9, E, -, 2) (8, ., 0, 0, 0, 7, 3, E, -, 5, 3) () ([, m, o, l, e,  , f, r, a, c, t, i, o, n, ])\n",
            "                              (n, -, b, u, t, a, n, e)    (1, ., 0, 2, 8, 2, 8, E, -, 2)    (8, ., 7, 6, 0, 6, 6, E, -, 3)    (5, ., 0, 3, 0, 3, 1, E, -, 2) (7, ., 4, 5, 6, 1, 6, E, -, 5, 3) () ([, m, o, l, e,  , f, r, a, c, t, i, o, n, ])\n",
            "                                    (P, C, 1, _, P, C)    (6, ., 5, 7, 9, 7, 9, E, -, 3)    (5, ., 5, 6, 8, 6, 4, E, -, 6)    (1, ., 7, 8, 1, 4, 9, E, -, 1) (3, ., 5, 0, 8, 5, 9, E, -, 5, 6) () ([, m, o, l, e,  , f, r, a, c, t, i, o, n, ])\n",
            "                                    (P, C, 2, _, P, C)    (4, ., 5, 1, 6, 5, 4, E, -, 3)    (4, ., 7, 3, 1, 2, 4, E, -, 7)    (1, ., 2, 2, 3, 7, 3, E, -, 1) (2, ., 7, 4, 8, 1, 5, E, -, 5, 7) () ([, m, o, l, e,  , f, r, a, c, t, i, o, n, ])\n",
            "                                    (P, C, 3, _, P, C)    (3, ., 0, 9, 3, 7, 3, E, -, 3)    (3, ., 2, 9, 0, 8, 8, E, -, 8)    (8, ., 3, 8, 3, 0, 7, E, -, 2) (1, ., 7, 5, 3, 5, 8, E, -, 5, 8) () ([, m, o, l, e,  , f, r, a, c, t, i, o, n, ])\n",
            "                                    (P, C, 4, _, P, C)       (2, ., 1, 2, 3, 5, E, -, 3)    (2, ., 5, 1, 7, 6, 6, E, -, 9)       (5, ., 7, 5, 4, 1, E, -, 2) (1, ., 2, 3, 9, 5, 3, E, -, 5, 9) () ([, m, o, l, e,  , f, r, a, c, t, i, o, n, ])\n",
            "                                    (P, C, 5, _, P, C)    (2, ., 0, 1, 3, 1, 9, E, -, 3) (2, ., 4, 0, 7, 4, 6, E, -, 1, 0)    (5, ., 4, 5, 5, 1, 8, E, -, 2) (1, ., 0, 9, 5, 6, 7, E, -, 6, 0) () ([, m, o, l, e,  , f, r, a, c, t, i, o, n, ])\n",
            "                                    (P, C, 6, _, P, C)    (1, ., 6, 2, 4, 4, 5, E, -, 3) (4, ., 2, 9, 6, 0, 7, E, -, 1, 2)    (4, ., 4, 0, 1, 8, 1, E, -, 2) (1, ., 7, 2, 3, 9, 6, E, -, 6, 2) () ([, m, o, l, e,  , f, r, a, c, t, i, o, n, ])\n",
            "                                    (P, C, 7, _, P, C)    (1, ., 0, 4, 9, 9, 6, E, -, 3) (7, ., 7, 5, 6, 1, 4, E, -, 1, 6)       (2, ., 8, 4, 5, 1, E, -, 2) (2, ., 4, 1, 1, 5, 5, E, -, 6, 6) () ([, m, o, l, e,  , f, r, a, c, t, i, o, n, ])\n",
            "                           (w, a, x, P, C, 1, _, P, C)    (2, ., 8, 9, 0, 9, 4, E, -, 3)    (2, ., 0, 9, 4, 9, 1, E, -, 6)    (7, ., 7, 5, 3, 6, 8, E, -, 2)    (2, ., 1, 9, 6, 8, 7, E, -, 2) () ([, m, o, l, e,  , f, r, a, c, t, i, o, n, ])\n",
            "                           (w, a, x, P, C, 2, _, P, C)    (1, ., 9, 9, 7, 3, 1, E, -, 3)    (2, ., 0, 1, 8, 4, 1, E, -, 7)    (5, ., 2, 9, 6, 8, 8, E, -, 2)    (3, ., 3, 8, 3, 4, 4, E, -, 2) () ([, m, o, l, e,  , f, r, a, c, t, i, o, n, ])\n",
            "                           (w, a, x, P, C, 3, _, P, C)    (1, ., 3, 8, 6, 4, 2, E, -, 3)    (1, ., 5, 1, 4, 1, 4, E, -, 8)    (3, ., 5, 7, 1, 3, 4, E, -, 2)    (5, ., 4, 6, 6, 9, 2, E, -, 2) () ([, m, o, l, e,  , f, r, a, c, t, i, o, n, ])\n",
            "                           (w, a, x, P, C, 4, _, P, C)    (9, ., 5, 7, 8, 8, 6, E, -, 4)    (1, ., 1, 3, 9, 4, 2, E, -, 9)       (2, ., 3, 2, 3, 6, E, -, 2)    (8, ., 0, 1, 9, 3, 5, E, -, 2) () ([, m, o, l, e,  , f, r, a, c, t, i, o, n, ])\n",
            "                           (w, a, x, P, C, 5, _, P, C)    (9, ., 0, 2, 9, 8, 2, E, -, 4) (9, ., 4, 8, 3, 7, 9, E, -, 1, 1)    (1, ., 9, 2, 8, 6, 9, E, -, 2)       (1, ., 5, 2, 7, 6, E, -, 1) () ([, m, o, l, e,  , f, r, a, c, t, i, o, n, ])\n",
            "                           (w, a, x, P, C, 6, _, P, C)    (7, ., 2, 8, 4, 8, 9, E, -, 4) (9, ., 6, 0, 5, 2, 8, E, -, 1, 3)    (9, ., 6, 5, 1, 3, 1, E, -, 3)    (2, ., 9, 7, 4, 3, 8, E, -, 1) () ([, m, o, l, e,  , f, r, a, c, t, i, o, n, ])\n",
            "                           (w, a, x, P, C, 7, _, P, C)    (4, ., 6, 9, 0, 0, 2, E, -, 4)    (9, ., 7, 9, 5, 6, E, -, 1, 8)       (5, ., 2, 7, 2, 2, E, -, 4)    (3, ., 5, 9, 1, 3, 6, E, -, 1) () ([, m, o, l, e,  , f, r, a, c, t, i, o, n, ])\n",
            "                                                    ()                                ()                                ()                                ()                                () ()                                            ()\n",
            "                                 (D, e, n, s, i, t, y)                                ()       (8, ., 4, 6, 8, 0, 1, E, 0)       (7, ., 3, 9, 6, 9, 4, E, 2)       (1, ., 0, 2, 0, 5, 1, E, 3) ()                      ([, k, g, /, m, ^, 3, ])\n",
            "               (P, h, a, s, e, F, r, a, c, t, i, o, n)                                ()    (9, ., 6, 1, 8, 4, 4, E, -, 1)    (3, ., 6, 9, 0, 4, 1, E, -, 2)    (1, ., 2, 5, 1, 7, 4, E, -, 3) () ([, m, o, l, e,  , f, r, a, c, t, i, o, n, ])\n",
            "                           (M, o, l, a, r, M, a, s, s)       (2, ., 5, 5, 1, 9, 6, E, 1)       (1, ., 9, 3, 5, 3, 3, E, 1)       (1, ., 7, 5, 6, 1, 8, E, 2)          (3, ., 3, 8, 5, 3, E, 2) ()                   ([, k, g, /, k, m, o, l, ])\n",
            "                              (Z,  , f, a, c, t, o, r)                                ()    (9, ., 7, 0, 8, 8, 2, E, -, 1)    (1, ., 1, 8, 4, 4, 7, E, -, 1)    (2, ., 5, 1, 7, 9, 8, E, -, 1) ()                                     ([, -, ])\n",
            "(H, e, a, t,  , C, a, p, a, c, i, t, y,  , (, C, p, ))                                ()          (2, ., 0, 5, 6, 7, E, 0)          (1, ., 9, 9, 4, 6, E, 0)          (1, ., 9, 4, 6, 2, E, 0) ()                   ([, k, J, /, k, g, *, K, ])\n",
            "(H, e, a, t,  , C, a, p, a, c, i, t, y,  , (, C, v, ))                                ()       (1, ., 5, 6, 0, 3, 7, E, 0)       (1, ., 8, 4, 7, 2, 1, E, 0)       (1, ., 8, 7, 4, 5, 2, E, 0) ()                   ([, k, J, /, k, g, *, K, ])\n",
            "            (S, p, e, e, d,  , o, f,  , S, o, u, n, d)                                ()       (3, ., 8, 8, 8, 3, 7, E, 2)       (1, ., 3, 1, 4, 8, 4, E, 3)       (1, ., 7, 4, 5, 6, 6, E, 3) ()                         ([, m, /, s, e, c, ])\n",
            "                              (E, n, t, h, a, l, p, y)    (-, 9, ., 1, 1, 0, 0, 6, E, 1)       (7, ., 4, 3, 8, 1, 9, E, 0)    (-, 3, ., 4, 6, 3, 2, 7, E, 2)    (-, 5, ., 1, 6, 2, 3, 7, E, 2) ()                         ([, k, J, /, k, g, ])\n",
            "                                 (E, n, t, r, o, p, y) (-, 6, ., 5, 7, 0, 5, 3, E, -, 1) (-, 6, ., 6, 8, 4, 5, 4, E, -, 1) (-, 6, ., 3, 2, 1, 6, 7, E, -, 1) (-, 5, ., 3, 6, 8, 3, 3, E, -, 1) ()                   ([, k, J, /, k, g, *, K, ])\n",
            "            (J, T,  , c, o, e, f, f, i, c, i, e, n, t)                                ()    (6, ., 1, 5, 2, 5, 5, E, -, 1) (-, 6, ., 6, 7, 7, 8, 5, E, -, 2) (-, 8, ., 2, 5, 2, 3, 7, E, -, 2) ()                         ([, K, /, b, a, r, ])\n",
            "                                                    ()                                ()                                ()                                ()                                () ()                                            ()\n",
            "                           (V, i, s, c, o, s, i, t, y)                                ()    (1, ., 0, 8, 8, 1, 8, E, -, 5)    (3, ., 6, 1, 1, 8, 2, E, -, 3)                         (N, a, N) ()                ([, k, g, /, m, *, s, e, c, ])\n",
            "                  (C, o, n, d, u, c, t, i, v, i, t, y)                                ()    (3, ., 0, 9, 4, 2, 7, E, -, 2)    (1, ., 1, 2, 2, 1, 2, E, -, 1)                (2, ., 5, E, -, 1) ()                         ([, W, /, m, *, K, ])\n",
            "            (S, u, r, f, a, c, e, T, e, n, s, i, o, n)                                ()    (1, ., 3, 9, 1, 4, 8, E, -, 2)    (1, ., 3, 9, 1, 4, 8, E, -, 2)                                () ()                               ([, N, /, m, ])\n",
            "                                                    ()                                ()                                ()    (5, ., 7, 2, 4, 3, 9, E, -, 2)    (5, ., 7, 2, 4, 3, 9, E, -, 2) ()                               ([, N, /, m, ])\n",
            "                                                    ()                                ()    (9, ., 1, 7, 2, 1, 7, E, -, 2)                                ()    (9, ., 1, 7, 2, 1, 7, E, -, 2) ()                               ([, N, /, m, ])\n",
            "                                                    ()                                ()                                ()                                ()                                () ()                                            ()\n",
            "                              (P, r, e, s, s, u, r, e)                                ()                      (1, 0, ., 0)                      (1, 0, ., 0)                      (1, 0, ., 0) ()                               ([, b, a, r, ])\n",
            "                     (T, e, m, p, e, r, a, t, u, r, e)                                ()             (2, 8, 3, ., 2, 6, 2)             (2, 8, 3, ., 2, 6, 2)             (2, 8, 3, ., 2, 6, 2) ()                                     ([, K, ])\n",
            "                                                    ()                                ()                                ()                                ()                                () ()                                            ()\n",
            "                                       (M, o, d, e, l)                                ()             (S, R, K, -, E, O, S)             (S, R, K, -, E, O, S)             (S, R, K, -, E, O, S) ()                                           (-)\n",
            "                     (M, i, x, i, n, g,  , R, u, l, e)                                ()             (c, l, a, s, s, i, c)             (c, l, a, s, s, i, c)    (n, o,  , (, k, i, j, =, 0, )) ()                                           (-)\n",
            "                                                    ()                                ()                                ()                                ()                                () ()                                            ()\n",
            "                                    (S, t, r, e, a, m)                                ()                                ()                                ()                                () ()                                           (-)\n",
            "                                                    ()                                ()                                ()                                ()                                () ()                                            ()\n",
            "                                                    ()                                ()                                ()                                ()                                () ()                                            ()\n",
            "                                                    ()                                ()                                ()                                ()                                () ()                                            ()\n",
            "                                                    ()                                ()                                ()                                ()                                () ()                                            ()\n",
            "WAT  29.29207006663603  °C\n"
          ]
        }
      ]
    },
    {
      "cell_type": "markdown",
      "metadata": {
        "id": "DlfUFnOvmkYU"
      },
      "source": [
        "# Tuning to wax PVT data\n",
        "\n",
        "Wax PVT studies are typically done by measureing the weigth fraction of wax formed as function of temperature and pressure. In the follwing example we illustrate how the neqsim wax model can be tuned to fit experiemntal data.\n"
      ]
    },
    {
      "cell_type": "code",
      "metadata": {
        "id": "oUXdPdDmnCI1",
        "colab": {
          "base_uri": "https://localhost:8080/"
        },
        "outputId": "9b10336c-5556-4791-9c4a-8a25ce08feb6"
      },
      "source": [
        "from neqsim.thermo import tunewaxmodel\n",
        "experimentaldata = {'temperature':  [22.0, 20.0, 10.0], \n",
        "        'pressure':  [10.0, 10.0, 10.0],\n",
        "        'experiment':  [0.02, 0.04, 0.06]\n",
        "} \n",
        "\n",
        "waxfitresults = tunewaxmodel(fluid1, experimentaldata,maxiterations=15) # try reducing maxiterations if convergence problems\n",
        "print(waxfitresults)"
      ],
      "execution_count": 5,
      "outputs": [
        {
          "output_type": "stream",
          "name": "stdout",
          "text": [
            "{'temperature': [295.15, 293.15, 283.15], 'pressure': [10.0, 10.0, 10.0], 'experiment': [[2.0, 4.0, 6.0]], 'results': [0.020505259780895204, 0.02425289948764045, 0.0502290177789668], 'parameters': [-0.46156981706165623, 0.004984910899708133, 0.5619193907862187]}\n"
          ]
        }
      ]
    }
  ]
}