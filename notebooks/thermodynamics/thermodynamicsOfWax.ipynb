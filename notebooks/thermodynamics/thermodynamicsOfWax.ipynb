{
  "nbformat": 4,
  "nbformat_minor": 0,
  "metadata": {
    "colab": {
      "name": "thermodynamicsOfWax.ipynb",
      "provenance": [],
      "authorship_tag": "ABX9TyPcE/Zf52xMLACy03ZOWIRx",
      "include_colab_link": true
    },
    "kernelspec": {
      "name": "python3",
      "display_name": "Python 3"
    }
  },
  "cells": [
    {
      "cell_type": "markdown",
      "metadata": {
        "id": "view-in-github",
        "colab_type": "text"
      },
      "source": [
        "<a href=\"https://colab.research.google.com/github/EvenSol/NeqSim-Colab/blob/master/notebooks/thermodynamics/thermodynamicsOfWax.ipynb\" target=\"_parent\"><img src=\"https://colab.research.google.com/assets/colab-badge.svg\" alt=\"Open In Colab\"/></a>"
      ]
    },
    {
      "cell_type": "code",
      "metadata": {
        "id": "5tAs8wri2Z-K",
        "colab": {
          "base_uri": "https://localhost:8080/"
        },
        "outputId": "b6ec353a-a767-4c1c-b368-70c666d28ad2"
      },
      "source": [
        "#@markdown This document is part of the module [\"Introduction to Gas Processing using NeqSim in Colab\"](https://colab.research.google.com/github/EvenSol/NeqSim-Colab/blob/master/notebooks/examples_of_NeqSim_in_Colab.ipynb#scrollTo=_eRtkQnHpL70).\n",
        "\n",
        "!pip install neqsim\n",
        "\n"
      ],
      "execution_count": 5,
      "outputs": [
        {
          "output_type": "stream",
          "name": "stdout",
          "text": [
            "Looking in indexes: https://pypi.org/simple, https://us-python.pkg.dev/colab-wheels/public/simple/\n",
            "Requirement already satisfied: neqsim in /usr/local/lib/python3.10/dist-packages (2.5.2)\n",
            "Requirement already satisfied: jpype1 in /usr/local/lib/python3.10/dist-packages (from neqsim) (1.4.1)\n",
            "Requirement already satisfied: pandas in /usr/local/lib/python3.10/dist-packages (from neqsim) (1.5.3)\n",
            "Requirement already satisfied: packaging in /usr/local/lib/python3.10/dist-packages (from jpype1->neqsim) (23.1)\n",
            "Requirement already satisfied: python-dateutil>=2.8.1 in /usr/local/lib/python3.10/dist-packages (from pandas->neqsim) (2.8.2)\n",
            "Requirement already satisfied: pytz>=2020.1 in /usr/local/lib/python3.10/dist-packages (from pandas->neqsim) (2022.7.1)\n",
            "Requirement already satisfied: numpy>=1.21.0 in /usr/local/lib/python3.10/dist-packages (from pandas->neqsim) (1.22.4)\n",
            "Requirement already satisfied: six>=1.5 in /usr/local/lib/python3.10/dist-packages (from python-dateutil>=2.8.1->pandas->neqsim) (1.16.0)\n"
          ]
        }
      ]
    },
    {
      "cell_type": "code",
      "metadata": {
        "id": "tsEAPIJ0G7PG",
        "cellView": "form",
        "outputId": "eb26099f-d5f9-4a67-b9c1-b8bc4ab7a621",
        "colab": {
          "base_uri": "https://localhost:8080/",
          "height": 441
        }
      },
      "source": [
        "#@title Introduction to Wax\n",
        "#@markdown This video gives an intriduction to behavour of wax in oil and gas production\n",
        "from IPython.display import YouTubeVideo\n",
        "YouTubeVideo('9vne-gWFQBw', width=600, height=400)"
      ],
      "execution_count": 6,
      "outputs": [
        {
          "output_type": "execute_result",
          "data": {
            "text/plain": [
              "<IPython.lib.display.YouTubeVideo at 0x7f5ff7de6b60>"
            ],
            "text/html": [
              "\n",
              "        <iframe\n",
              "            width=\"600\"\n",
              "            height=\"400\"\n",
              "            src=\"https://www.youtube.com/embed/9vne-gWFQBw\"\n",
              "            frameborder=\"0\"\n",
              "            allowfullscreen\n",
              "            \n",
              "        ></iframe>\n",
              "        "
            ],
            "image/jpeg": "[encoded data removed]"
          },
          "metadata": {},
          "execution_count": 6
        }
      ]
    },
    {
      "cell_type": "markdown",
      "metadata": {
        "id": "BUAuhJM2G14s"
      },
      "source": [
        "# Demonstartion of a wax calculation in neqsim"
      ]
    },
    {
      "cell_type": "code",
      "metadata": {
        "id": "Z_VvMJF9FTUc",
        "outputId": "bf4321e8-2806-4d07-cb0b-19a85ddb9fa7",
        "colab": {
          "base_uri": "https://localhost:8080/"
        }
      },
      "source": [
        "from neqsim.thermo import *\n",
        "from neqsim import jNeqSim\n",
        "jNeqSim.util.database.NeqSimDataBase.setCreateTemporaryTables(True)\n",
        "\n",
        "# Start by creating a fluid in neqsim\n",
        "fluid1 = fluid(\"srk\")  # create a fluid using the SRK-EoS\n",
        "\n",
        "fluid1.addComponent(\"nitrogen\", 1.0, \"mol/sec\")\n",
        "fluid1.addComponent(\"CO2\", 2.3, \"mol/sec\")\n",
        "fluid1.addComponent(\"methane\", 80.0, \"mol/sec\")\n",
        "fluid1.addComponent(\"ethane\", 6.0, \"mol/sec\")\n",
        "fluid1.addComponent(\"propane\", 3.0, \"mol/sec\")\n",
        "fluid1.addComponent(\"i-butane\", 1.0, \"mol/sec\")\n",
        "fluid1.addComponent(\"n-butane\", 1.0, \"mol/sec\")\n",
        "fluid1.addPlusFraction(\"C11\", 2.95, 217.0 / 1000.0, 0.8331);\n",
        "fluid1.getCharacterization().characterisePlusFraction();\n",
        "fluid1.getWaxModel().addTBPWax();\n",
        "fluid1.createDatabase(True);\n",
        "fluid1.setMixingRule(2);\n",
        "fluid1.addSolidComplexPhase(\"wax\");\n",
        "fluid1.setMultiphaseWaxCheck(True);\n",
        "\n",
        "fluid1.setTemperature(10.112, \"C\")\n",
        "fluid1.setPressure(10.0, \"bara\")\n",
        "\n",
        "TPflash(fluid1)\n",
        "printFrame(fluid1)\n",
        "\n",
        "fluid1.setTemperature(40.112, \"C\")\n",
        "fluid1.setPressure(10.0, \"bara\")\n",
        "waxTemp = WAT(fluid1)-273.15\n",
        "#printFrame(fluid1)\n",
        "print(\"WAT \", waxTemp, \" °C\")\n"
      ],
      "execution_count": 7,
      "outputs": [
        {
          "output_type": "stream",
          "name": "stdout",
          "text": [
            "| 0                  | 1           | 2           | 3           | 4           | 5   | 6               |\n",
            "|:-------------------|:------------|:------------|:------------|:------------|:----|:----------------|\n",
            "|                    | total       | GAS         | OIL         | WAX         |     |                 |\n",
            "| nitrogen           | 1.02828E-2  | 1.06838E-2  | 1.7959E-4   | 1.07796E-52 |     | [mole fraction] |\n",
            "| CO2                | 2.36504E-2  | 2.44213E-2  | 4.35938E-3  | 2.33574E-52 |     | [mole fraction] |\n",
            "| methane            | 8.22622E-1  | 8.53272E-1  | 5.16971E-2  | 8.36405E-51 |     | [mole fraction] |\n",
            "| ethane             | 6.16967E-2  | 6.32053E-2  | 2.44685E-2  | 5.87112E-52 |     | [mole fraction] |\n",
            "| propane            | 3.08483E-2  | 3.03329E-2  | 4.53289E-2  | 2.69588E-52 |     | [mole fraction] |\n",
            "| i-butane           | 1.02828E-2  | 9.31604E-3  | 3.58279E-2  | 8.00073E-53 |     | [mole fraction] |\n",
            "| n-butane           | 1.02828E-2  | 8.76066E-3  | 5.03031E-2  | 7.45616E-53 |     | [mole fraction] |\n",
            "| PC1_PC             | 6.57979E-3  | 5.56864E-6  | 1.78149E-1  | 3.50859E-56 |     | [mole fraction] |\n",
            "| PC2_PC             | 4.51654E-3  | 4.73124E-7  | 1.22373E-1  | 2.74815E-57 |     | [mole fraction] |\n",
            "| PC3_PC             | 3.09373E-3  | 3.29088E-8  | 8.38307E-2  | 1.75358E-58 |     | [mole fraction] |\n",
            "| PC4_PC             | 2.1235E-3   | 2.51766E-9  | 5.7541E-2   | 1.23953E-59 |     | [mole fraction] |\n",
            "| PC5_PC             | 2.01319E-3  | 2.40746E-10 | 5.45518E-2  | 1.09567E-60 |     | [mole fraction] |\n",
            "| PC6_PC             | 1.62445E-3  | 4.29607E-12 | 4.40181E-2  | 1.72396E-62 |     | [mole fraction] |\n",
            "| PC7_PC             | 1.04996E-3  | 7.75614E-16 | 2.8451E-2   | 2.41155E-66 |     | [mole fraction] |\n",
            "| waxPC1_PC          | 2.89094E-3  | 2.09491E-6  | 7.75368E-2  | 2.19687E-2  |     | [mole fraction] |\n",
            "| waxPC2_PC          | 1.99731E-3  | 2.01841E-7  | 5.29688E-2  | 3.38344E-2  |     | [mole fraction] |\n",
            "| waxPC3_PC          | 1.38642E-3  | 1.51414E-8  | 3.57134E-2  | 5.46692E-2  |     | [mole fraction] |\n",
            "| waxPC4_PC          | 9.57886E-4  | 1.13942E-9  | 2.3236E-2   | 8.01935E-2  |     | [mole fraction] |\n",
            "| waxPC5_PC          | 9.02982E-4  | 9.48379E-11 | 1.92869E-2  | 1.5276E-1   |     | [mole fraction] |\n",
            "| waxPC6_PC          | 7.28489E-4  | 9.60528E-13 | 9.65131E-3  | 2.97438E-1  |     | [mole fraction] |\n",
            "| waxPC7_PC          | 4.69002E-4  | 9.7956E-18  | 5.2722E-4   | 3.59136E-1  |     | [mole fraction] |\n",
            "|                    |             |             |             |             |     |                 |\n",
            "| Density            |             | 8.46801E0   | 7.39694E2   | 1.02051E3   |     | [kg/m^3]        |\n",
            "| PhaseFraction      |             | 9.61844E-1  | 3.69041E-2  | 1.25174E-3  |     | [mole fraction] |\n",
            "| MolarMass          | 2.55196E1   | 1.93533E1   | 1.75618E2   | 3.3853E2    |     | [kg/kmol]       |\n",
            "| Z factor           |             | 9.70882E-1  | 1.18447E-1  | 2.51798E-1  |     | [-]             |\n",
            "| Heat Capacity (Cp) |             | 2.05712E0   | 1.99461E0   | 1.9462E0    |     | [kJ/kg*K]       |\n",
            "| Heat Capacity (Cv) |             | 1.56078E0   | 1.84723E0   | 1.87452E0   |     | [kJ/kg*K]       |\n",
            "| Speed of Sound     |             | 3.88825E2   | 1.31484E3   | 1.74566E3   |     | [m/sec]         |\n",
            "| Enthalpy           | -9.10978E1  | 7.44189E0   | -3.46327E2  | -5.16237E2  |     | [kJ/kg]         |\n",
            "| Entropy            | -6.57043E-1 | -6.68441E-1 | -6.32167E-1 | -5.36833E-1 |     | [kJ/kg*K]       |\n",
            "| JT coefficient     |             | 6.15131E-1  | -6.6778E-2  | -8.25237E-2 |     | [K/bar]         |\n",
            "|                    |             |             |             |             |     |                 |\n",
            "| Viscosity          |             | 1.08818E-5  | 3.61182E-3  | NaN         |     | [kg/m*sec]      |\n",
            "| Conductivity       |             | 3.09455E-2  | 1.12212E-1  | 2.5E-1      |     | [W/m*K]         |\n",
            "| SurfaceTension     |             | 1.39148E-2  | 1.39148E-2  |             |     | [N/m]           |\n",
            "|                    |             |             | 5.72439E-2  | 5.72439E-2  |     | [N/m]           |\n",
            "|                    |             | 9.17217E-2  |             | 9.17217E-2  |     | [N/m]           |\n",
            "|                    |             |             |             |             |     |                 |\n",
            "| Pressure           |             | 10.0        | 10.0        | 10.0        |     | [bar]           |\n",
            "| Temperature        |             | 283.262     | 283.262     | 283.262     |     | [K]             |\n",
            "|                    |             |             |             |             |     |                 |\n",
            "| Model              |             | SRK-EOS     | SRK-EOS     | SRK-EOS     |     | -               |\n",
            "| Mixing Rule        |             | classic     | classic     | no (kij=0)  |     | -               |\n",
            "|                    |             |             |             |             |     |                 |\n",
            "| Stream             |             |             |             |             |     | -               |\n",
            "|                    |             |             |             |             |     |                 |\n",
            "|                    |             |             |             |             |     |                 |\n",
            "|                    |             |             |             |             |     |                 |\n",
            "|                    |             |             |             |             |     |                 |\n",
            "WAT  29.29207006663603  °C\n"
          ]
        }
      ]
    },
    {
      "cell_type": "markdown",
      "metadata": {
        "id": "DlfUFnOvmkYU"
      },
      "source": [
        "# Tuning to wax PVT data\n",
        "\n",
        "Wax PVT studies are typically done by measureing the weigth fraction of wax formed as function of temperature and pressure. In the follwing example we illustrate how the neqsim wax model can be tuned to fit experiemntal data.\n"
      ]
    },
    {
      "cell_type": "code",
      "metadata": {
        "id": "oUXdPdDmnCI1",
        "colab": {
          "base_uri": "https://localhost:8080/"
        },
        "outputId": "6e6cd05d-13a1-4372-8007-eb3b7ceda363"
      },
      "source": [
        "from neqsim.thermo import tunewaxmodel\n",
        "experimentaldata = {'temperature':  [22.0, 20.0, 10.0],\n",
        "        'pressure':  [10.0, 10.0, 10.0],\n",
        "        'experiment':  [0.01, 0.02, 0.03]\n",
        "}\n",
        "\n",
        "waxfitresults = tunewaxmodel(fluid1, experimentaldata,maxiterations=5) # try reducing maxiterations if convergence problems\n",
        "print(waxfitresults)"
      ],
      "execution_count": 8,
      "outputs": [
        {
          "output_type": "stream",
          "name": "stdout",
          "text": [
            "{'temperature': [295.15, 293.15, 283.15], 'pressure': [10.0, 10.0, 10.0], 'experiment': [[1.0, 2.0, 3.0]], 'results': [0.013162839109538726, 0.01554503515913078, 0.03073493567240819], 'parameters': [0.7058050741986903, 0.001330061932390401, 0.3316013778181304]}\n"
          ]
        }
      ]
    }
  ]
}