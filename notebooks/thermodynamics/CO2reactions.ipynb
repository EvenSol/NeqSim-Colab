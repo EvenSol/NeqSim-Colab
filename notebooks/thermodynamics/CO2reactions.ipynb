{
  "nbformat": 4,
  "nbformat_minor": 0,
  "metadata": {
    "colab": {
      "provenance": [],
      "authorship_tag": "ABX9TyNsmFGm1fMd4qqNBN0/sBFI",
      "include_colab_link": true
    },
    "kernelspec": {
      "name": "python3",
      "display_name": "Python 3"
    },
    "language_info": {
      "name": "python"
    }
  },
  "cells": [
    {
      "cell_type": "markdown",
      "metadata": {
        "id": "view-in-github",
        "colab_type": "text"
      },
      "source": [
        "<a href=\"https://colab.research.google.com/github/EvenSol/NeqSim-Colab/blob/master/notebooks/thermodynamics/CO2reactions.ipynb\" target=\"_parent\"><img src=\"https://colab.research.google.com/assets/colab-badge.svg\" alt=\"Open In Colab\"/></a>"
      ]
    },
    {
      "cell_type": "code",
      "execution_count": 1,
      "metadata": {
        "id": "Uve6FpCaIPim"
      },
      "outputs": [],
      "source": [
        "%%capture\n",
        "#https://reaktoro.org/installation/installation-in-google-colab.html\n",
        "!pip install -q condacolab\n",
        "import condacolab\n",
        "condacolab.install_from_url(\"https://repo.anaconda.com/miniconda/Miniconda3-py38_4.12.0-Linux-x86_64.sh\")\n",
        "!conda config --remove channels defaults\n",
        "!conda config --add channels conda-forge\n",
        "!conda install reaktoro -y"
      ]
    },
    {
      "cell_type": "markdown",
      "source": [
        "# Litterature\n",
        "\n",
        "* [Nitric and Sulfuric Acid Solubility in Dense Phase CO2](https://pubs.acs.org/doi/10.1021/acs.iecr.9b04957)\n",
        "\n",
        "* [Predict formation of strong acids in CO2 Transportation by applying OLI Systems desktop and cloud solutions](https://www.olisystems.com/resources/blog/predict-formation-of-strong-acids-in-co2-transportation-by-applying-oli-systems-desktop-and-cloud-solutions/)\n",
        "\n"
      ],
      "metadata": {
        "id": "5ZqmPQTIbzas"
      }
    },
    {
      "cell_type": "markdown",
      "source": [
        "#Reactoro Calculations"
      ],
      "metadata": {
        "id": "WqWtpCfDQ0sG"
      }
    },
    {
      "cell_type": "markdown",
      "source": [
        "# Chemical Equilibrium and Modeling: A Focus on CO2 and Trace Components\n",
        "\n",
        "Chemical equilibrium is a fundamental concept in chemistry that describes the state where the rates of forward and reverse reactions are equal, resulting in no net change in the concentrations of reactants and products. This state is characterized by a dynamic balance between the opposing reactions. Understanding chemical equilibrium is crucial for predicting the behavior of chemical systems and designing industrial processes, particularly in the context of CO2 capture and storage.\n",
        "\n",
        "## Chemical Equilibrium: A Dynamic Balance in CO2 Systems\n",
        "\n",
        "In the context of CO2-containing systems, chemical equilibrium plays a crucial role in determining the fate of CO2 and its interactions with other components. For example, in carbon capture and storage (CCS) technologies, CO2 is captured from industrial sources and stored in geological formations. Understanding the equilibrium behavior of CO2 with various minerals and fluids is essential for ensuring safe and effective storage.\n",
        "\n",
        "## Modeling Chemical Equilibrium with Reaktoro\n",
        "\n",
        "`Reaktoro` is a powerful open-source Python library designed for chemical equilibrium calculations. It offers a comprehensive set of tools and functionalities for modeling complex chemical systems, including:\n",
        "\n",
        "- **Thermodynamic Databases:** `Reaktoro` supports various thermodynamic databases, including the NASA CEA database, which provides thermodynamic properties for a wide range of chemical species relevant to CO2 systems.\n",
        "- **Chemical System Definition:** Users can define chemical systems by specifying the phases, species, and reactions involved. This flexibility allows for modeling diverse scenarios, from simple gas mixtures to multi-phase systems with complex interactions.\n",
        "- **Equilibrium Solvers:** `Reaktoro` offers a variety of equilibrium solvers, including Gibbs energy minimization and equilibrium constant-based approaches, to accurately calculate equilibrium compositions.\n",
        "- **Activity Models:** For non-ideal solutions, `Reaktoro` incorporates activity models like the Peng-Robinson equation of state to account for deviations from ideal behavior, particularly relevant for CO2-rich systems.\n",
        "\n",
        "## CO2 and Trace Components: Importance of Equilibrium Modeling\n",
        "\n",
        "In many industrial processes and environmental scenarios, CO2 is present alongside trace components, such as H2S, SO2, and NOx. These trace components can significantly influence the equilibrium behavior of CO2 and the overall system properties.\n",
        "\n",
        "`Reaktoro` enables comprehensive modeling of CO2 systems with trace components, allowing for:\n",
        "\n",
        "- **Prediction of Trace Component Behavior:** `Reaktoro` can calculate the equilibrium concentrations of trace components in CO2 streams, providing insights into their fate and potential impacts.\n",
        "- **Corrosion Assessment:** By modeling the equilibrium between CO2, trace components, and materials, `Reaktoro` can help assess corrosion risks in industrial equipment.\n",
        "- **Environmental Impact Analysis:** `Reaktoro` can be used to predict the environmental consequences of CO2 emissions, including the formation of acid rain and the impact on water quality."
      ],
      "metadata": {
        "id": "Vl8GVgk7bQkW"
      }
    },
    {
      "cell_type": "markdown",
      "source": [
        "# Example calculations\n",
        "In the following calculation we we will do a calculations to see effect of exxess or limited oxygen."
      ],
      "metadata": {
        "id": "VIXT7Zl5E9WW"
      }
    },
    {
      "cell_type": "code",
      "source": [
        "from reaktoro import *\n",
        "import numpy as np\n",
        "import pandas as pd\n",
        "import math as math\n",
        "\n",
        "from reaktoro import *\n",
        "\n",
        "db = NasaDatabase(\"nasa-cea\")\n",
        "\n",
        "gases = GaseousPhase(\"CO2 H2O H2S SO2 NO2 NO O2 H2 CO CH4 N2 H2SO4 CH3COOH N2O HNO3 NO3 N2O5 HNO3 S8\")\n",
        "#gases.set(ActivityModelPengRobinson())\n",
        "\n",
        "system = ChemicalSystem(db, gases)\n",
        "\n",
        "state = ChemicalState(system)\n",
        "state.temperature(30, \"celsius\")\n",
        "state.pressure(10, \"bar\")\n",
        "state.set(\"CO2\", 1, \"mol\")\n",
        "state.set(\"N2\", 100e-6, \"mol\")\n",
        "state.set(\"O2\", 30e-6, \"mol\")\n",
        "state.set(\"H2O\", 20e-6, \"mol\")\n",
        "state.set(\"H2S\", 10e-6, \"mol\")\n",
        "state.set(\"NO2\",  5e-6, \"mol\")\n",
        "state.set(\"SO2\",  5e-6, \"mol\")\n",
        "#state.set(\"NO\",  5e-6, \"mol\")\n",
        "\n",
        "print(\"=== INITIAL STATE ===\")\n",
        "print(state)\n",
        "\n",
        "solver = EquilibriumSolver(system)\n",
        "solver.solve(state)  # equilibrate the `state` object!\n",
        "\n",
        "print(\"=== FINAL STATE ===\")\n",
        "print(state)"
      ],
      "metadata": {
        "colab": {
          "base_uri": "https://localhost:8080/"
        },
        "id": "FW9ZbNs4IeRw",
        "outputId": "81d0203d-3352-477b-a876-9162f8cc95bd"
      },
      "execution_count": 7,
      "outputs": [
        {
          "output_type": "stream",
          "name": "stdout",
          "text": [
            "=== INITIAL STATE ===\n",
            "+----------------------+------------+------+\n",
            "| Property             |      Value | Unit |\n",
            "+----------------------+------------+------+\n",
            "| Temperature          |   303.1500 |    K |\n",
            "| Pressure             |    10.0000 |  bar |\n",
            "| Charge:              | 0.0000e+00 |  mol |\n",
            "| Element Amount:      |            |      |\n",
            "| :: H                 | 6.0000e-05 |  mol |\n",
            "| :: C                 | 1.0000e+00 |  mol |\n",
            "| :: N                 | 2.0500e-04 |  mol |\n",
            "| :: O                 | 2.0001e+00 |  mol |\n",
            "| :: S                 | 1.5000e-05 |  mol |\n",
            "| Species Amount:      |            |      |\n",
            "| :: CO2               | 1.0000e+00 |  mol |\n",
            "| :: H2O               | 2.0000e-05 |  mol |\n",
            "| :: H2S               | 1.0000e-05 |  mol |\n",
            "| :: SO2               | 5.0000e-06 |  mol |\n",
            "| :: NO2               | 5.0000e-06 |  mol |\n",
            "| :: NO                | 1.0000e-16 |  mol |\n",
            "| :: O2                | 3.0000e-05 |  mol |\n",
            "| :: H2                | 1.0000e-16 |  mol |\n",
            "| :: CO                | 1.0000e-16 |  mol |\n",
            "| :: CH4               | 1.0000e-16 |  mol |\n",
            "| :: N2                | 1.0000e-04 |  mol |\n",
            "| :: H2SO4             | 1.0000e-16 |  mol |\n",
            "| :: CH3COOH :: C2H4O2 | 1.0000e-16 |  mol |\n",
            "| :: N2O               | 1.0000e-16 |  mol |\n",
            "| :: HNO3              | 1.0000e-16 |  mol |\n",
            "| :: NO3               | 1.0000e-16 |  mol |\n",
            "| :: N2O5              | 1.0000e-16 |  mol |\n",
            "| :: HNO3!             | 1.0000e-16 |  mol |\n",
            "| :: S8                | 1.0000e-16 |  mol |\n",
            "+----------------------+------------+------+\n",
            "=== FINAL STATE ===\n",
            "+----------------------+------------+------+\n",
            "| Property             |      Value | Unit |\n",
            "+----------------------+------------+------+\n",
            "| Temperature          |   303.1500 |    K |\n",
            "| Pressure             |    10.0000 |  bar |\n",
            "| Charge:              | 0.0000e+00 |  mol |\n",
            "| Element Amount:      |            |      |\n",
            "| :: H                 | 6.0000e-05 |  mol |\n",
            "| :: C                 | 1.0000e+00 |  mol |\n",
            "| :: N                 | 2.0500e-04 |  mol |\n",
            "| :: O                 | 2.0001e+00 |  mol |\n",
            "| :: S                 | 1.5000e-05 |  mol |\n",
            "| Species Amount:      |            |      |\n",
            "| :: CO2               | 1.0000e+00 |  mol |\n",
            "| :: H2O               | 1.5000e-05 |  mol |\n",
            "| :: H2S               | 1.0000e-16 |  mol |\n",
            "| :: SO2               | 1.0000e-16 |  mol |\n",
            "| :: NO2               | 3.4336e-16 |  mol |\n",
            "| :: NO                | 1.0000e-16 |  mol |\n",
            "| :: O2                | 1.2500e-05 |  mol |\n",
            "| :: H2                | 1.0000e-16 |  mol |\n",
            "| :: CO                | 1.0000e-16 |  mol |\n",
            "| :: CH4               | 1.0000e-16 |  mol |\n",
            "| :: N2                | 1.0250e-04 |  mol |\n",
            "| :: H2SO4             | 1.5000e-05 |  mol |\n",
            "| :: CH3COOH :: C2H4O2 | 1.0000e-16 |  mol |\n",
            "| :: N2O               | 1.0000e-16 |  mol |\n",
            "| :: HNO3              | 1.0000e-16 |  mol |\n",
            "| :: NO3               | 1.0000e-16 |  mol |\n",
            "| :: N2O5              | 1.0000e-16 |  mol |\n",
            "| :: HNO3!             | 1.0000e-16 |  mol |\n",
            "| :: S8                | 1.0000e-16 |  mol |\n",
            "+----------------------+------------+------+\n"
          ]
        }
      ]
    },
    {
      "cell_type": "markdown",
      "source": [
        "#NeqSim calculations"
      ],
      "metadata": {
        "id": "Iqi652acQwzF"
      }
    },
    {
      "cell_type": "markdown",
      "source": [
        "## NeqSim Calculations: Simulating Thermodynamic Properties\n",
        "\n",
        "This section focuses on utilizing the NeqSim library in Python to perform thermodynamic calculations for fluid systems relevant to CO2 and associated components.\n",
        "\n",
        "### Introduction to NeqSim\n",
        "\n",
        "NeqSim is a process simulation tool developed by Equinor that provides a comprehensive framework for thermodynamic and process calculations. It offers a wide range of functionalities, including:\n",
        "\n",
        "- **Thermodynamic Models:** NeqSim supports various equations of state (EOS) and activity coefficient models for accurately representing fluid behavior.\n",
        "- **Phase Equilibrium Calculations:** It enables the calculation of phase equilibria, including vapor-liquid, liquid-liquid, and solid-liquid equilibria.\n",
        "- **Fluid Property Calculations:** NeqSim can calculate various fluid properties, such as density, viscosity, enthalpy, and entropy.\n",
        "- **Process Simulation:** It allows for the simulation of complex processes, including distillation, absorption, and heat transfer.\n",
        "\n",
        "### NeqSim in This Notebook\n",
        "\n",
        "In this notebook, NeqSim is primarily used to:\n",
        "\n",
        "1. **Simulate CO2-rich fluids:** NeqSim is employed to model the behavior of CO2-containing fluids, including mixtures with trace components like H2S, SO2, and NOx.\n",
        "2. **Calculate phase equilibria:** TPflash calculations are performed to determine the equilibrium compositions of different phases in the fluid system.\n",
        "3. **Predict sulfuric acid concentration:** NeqSim is used to simulate the distribution of sulfuric acid in CO2 streams, providing insights into its potential impacts on corrosion and environmental processes.\n",
        "4. **Analyze electrolyte systems:** The Electrolyte-CPA-EoS model in NeqSim is used to simulate systems containing electrolytes, such as acetic acid and water, and to calculate properties like pH."
      ],
      "metadata": {
        "id": "D2eebwMlbgND"
      }
    },
    {
      "cell_type": "markdown",
      "source": [
        "# Example sulfuric acid solubility in CO2"
      ],
      "metadata": {
        "id": "2SjxDJcdcbgK"
      }
    },
    {
      "cell_type": "code",
      "source": [
        "%%capture\n",
        "!pip install git+https://github.com/Equinor/neqsim-python.git"
      ],
      "metadata": {
        "id": "RTh8cTWNQtoH"
      },
      "execution_count": 1,
      "outputs": []
    },
    {
      "cell_type": "code",
      "source": [
        "H2SO4_concentration = state.speciesAmount(\"H2SO4\")\n",
        "HNO3_concentration = state.speciesAmount(\"HNO3\")\n",
        "CO2_concentration = state.speciesAmount(\"CO2\")\n",
        "N2_concentration = state.speciesAmount(\"N2\")\n",
        "O2_concentration = state.speciesAmount(\"O2\")\n",
        "H2O_concentration = state.speciesAmount(\"H2O\")\n",
        "H2S_concentration = state.speciesAmount(\"H2S\")\n",
        "SO2_concentration = state.speciesAmount(\"SO2\")\n",
        "S8_concentration = state.speciesAmount(\"S8\")\n",
        "\n",
        "# Print the variables to verify\n",
        "print(\"=== EQUILIBRIUM CONCENTRATIONS ===\")\n",
        "print(f\"H2SO4: {H2SO4_concentration} mol\")\n",
        "print(f\"HNO3: {HNO3_concentration} mol\")\n",
        "print(f\"CO2: {CO2_concentration} mol\")\n",
        "print(f\"N2: {N2_concentration} mol\")\n",
        "print(f\"O2: {O2_concentration} mol\")\n",
        "print(f\"H2O: {H2O_concentration} mol\")\n",
        "print(f\"H2S: {H2S_concentration} mol\")\n",
        "print(f\"SO2: {SO2_concentration} mol\")\n",
        "print(f\"S8: {S8_concentration} mol\")"
      ],
      "metadata": {
        "colab": {
          "base_uri": "https://localhost:8080/"
        },
        "id": "Np4pKGYP2poK",
        "outputId": "d9b812dd-b2dc-422a-ab5c-1b9a67c1223a"
      },
      "execution_count": 10,
      "outputs": [
        {
          "output_type": "stream",
          "name": "stdout",
          "text": [
            "=== EQUILIBRIUM CONCENTRATIONS ===\n",
            "H2SO4: 1.50000000008068e-05 mol\n",
            "HNO3: 1e-16 mol\n",
            "CO2: 0.9999999999999999 mol\n",
            "N2: 0.00010249999999982833 mol\n",
            "O2: 1.2499999999704611e-05 mol\n",
            "H2O: 1.499999999919329e-05 mol\n",
            "H2S: 1e-16 mol\n",
            "SO2: 1e-16 mol\n",
            "S8: 1e-16 mol\n"
          ]
        }
      ]
    },
    {
      "cell_type": "markdown",
      "source": [
        "In the follwoing calculation we will calculate gas, liquid and solid equailibrium. Potential solid phase will be elemental sulfur."
      ],
      "metadata": {
        "id": "Pa8Lzef2Ep9t"
      }
    },
    {
      "cell_type": "code",
      "source": [
        "from neqsim.thermo import TPflash, TPsolidflash, fluid, fluid_df, addOilFractions, printFrame, dataFrame, fluidcreator,createfluid,createfluid2, TPflash, phaseenvelope, calcIonComposition\n",
        "import pandas as pd\n",
        "\n",
        "fluid1 = fluid('pr')\n",
        "fluid1.addComponent(\"sulfuric acid\", H2SO4_concentration)\n",
        "fluid1.addComponent(\"CO2\", CO2_concentration)\n",
        "fluid1.addComponent(\"nitrogen\", N2_concentration)\n",
        "fluid1.addComponent(\"H2S\", H2S_concentration)\n",
        "fluid1.addComponent(\"SO2\", SO2_concentration)\n",
        "fluid1.addComponent(\"oxygen\", O2_concentration)\n",
        "fluid1.addComponent(\"water\", H2O_concentration)\n",
        "fluid1.addComponent(\"S8\", S8_concentration)\n",
        "fluid1.setMixingRule('classic')\n",
        "fluid1.setMultiPhaseCheck(True)\n",
        "fluid1.setSolidPhaseCheck(\"S8\")\n",
        "\n",
        "fluid1.setTemperature(25.0, \"C\")\n",
        "fluid1.setPressure(10.0, \"bara\")\n",
        "\n",
        "TPsolidflash(fluid1)\n",
        "printFrame(fluid1)"
      ],
      "metadata": {
        "id": "WDdfQpT-WLUj"
      },
      "execution_count": null,
      "outputs": []
    },
    {
      "cell_type": "markdown",
      "source": [
        "In the following calculation we will look into solubility of sulfuric acid in CO2 at 25C."
      ],
      "metadata": {
        "id": "FmyY53sDFsRg"
      }
    },
    {
      "cell_type": "code",
      "source": [
        "import neqsim.thermo.thermoTools as thermoTools\n",
        "\n",
        "# Create fluid with NeqSim\n",
        "fluid1 = thermoTools.fluid('pr')\n",
        "fluid1.addComponent(\"sulfuric acid\", 10000.0e-9)\n",
        "fluid1.addComponent(\"CO2\", 1.0)\n",
        "fluid1.addComponent(\"nitrogen\", 0.000001)\n",
        "fluid1.addComponent(\"H2S\", 0.000001)\n",
        "fluid1.addComponent(\"SO2\", 0.000001)\n",
        "fluid1.addComponent(\"oxygen\", 0.000001)\n",
        "fluid1.addComponent(\"NO2\", 0.0000001)\n",
        "fluid1.addComponent(\"CO\", 0.000001)\n",
        "fluid1.addComponent(\"water\", 1.0e-6)\n",
        "fluid1.setMixingRule('classic')\n",
        "fluid1.setMultiPhaseCheck(True)\n",
        "fluid1.setTemperature(25.0, \"C\")\n",
        "\n",
        "# Simulate and collect data\n",
        "pressures = []\n",
        "ppmSulfuric_acid_in_CO2 = []\n",
        "\n",
        "for pres in range(1, 200):\n",
        "    fluid1.setPressure(pres, \"bara\")\n",
        "    thermoTools.TPflash(fluid1)\n",
        "    # Get sulfuric acid concentration in the gas phase (phase 0)\n",
        "    sulfuric_acid_concentration = (\n",
        "        fluid1.getPhase(0).getComponent('sulfuric acid').getx() * 1e6\n",
        "    )\n",
        "    pressures.append(pres)\n",
        "    ppmSulfuric_acid_in_CO2.append(sulfuric_acid_concentration)\n",
        "\n",
        "# Plot the results\n",
        "import matplotlib.pyplot as plt\n",
        "\n",
        "plt.figure(figsize=(10, 6))\n",
        "plt.plot(pressures, ppmSulfuric_acid_in_CO2, label='Sulfuric Acid in CO2')\n",
        "plt.xlabel('Pressure (bara)')\n",
        "plt.ylabel('Sulfuric Acid Concentration (ppm mole)')\n",
        "plt.title('Sulfuric Acid Concentration in CO2 vs Pressure')\n",
        "plt.grid()\n",
        "plt.legend()\n",
        "plt.show()\n"
      ],
      "metadata": {
        "id": "qV6PL94eY6Li"
      },
      "execution_count": null,
      "outputs": []
    },
    {
      "cell_type": "markdown",
      "source": [
        "In the following calculation we will look into solubility of HNO3 in CO2 at 25C."
      ],
      "metadata": {
        "id": "KzTz8GTdUID-"
      }
    },
    {
      "cell_type": "code",
      "source": [
        "import neqsim.thermo.thermoTools as thermoTools\n",
        "\n",
        "# Create fluid with NeqSim\n",
        "fluid1 = thermoTools.fluid('pr')\n",
        "fluid1.addComponent(\"nitric acid\", 1.0)\n",
        "fluid1.addComponent(\"CO2\", 100.0)\n",
        "fluid1.setMixingRule('classic')\n",
        "fluid1.setMultiPhaseCheck(True)\n",
        "fluid1.setTemperature(25.0, \"C\")\n",
        "\n",
        "# Simulate and collect data\n",
        "pressures = []\n",
        "ppmSulfuric_acid_in_CO2 = []\n",
        "\n",
        "for pres in range(1, 200):\n",
        "    fluid1.setPressure(pres, \"bara\")\n",
        "    thermoTools.TPflash(fluid1)\n",
        "    # Get sulfuric acid concentration in the gas phase (phase 0)\n",
        "    sulfuric_acid_concentration = (\n",
        "        fluid1.getPhase(0).getComponent('sulfuric acid').getx() * 1e6\n",
        "    )\n",
        "    pressures.append(pres)\n",
        "    ppmSulfuric_acid_in_CO2.append(sulfuric_acid_concentration)\n",
        "\n",
        "# Plot the results\n",
        "import matplotlib.pyplot as plt\n",
        "\n",
        "plt.figure(figsize=(10, 6))\n",
        "plt.plot(pressures, ppmSulfuric_acid_in_CO2, label='HNO3 in CO2')\n",
        "plt.xlabel('Pressure (bara)')\n",
        "plt.ylabel('HNO3 Concentration (ppm mole)')\n",
        "plt.title('Sulfuric Acid Concentration in CO2 vs Pressure')\n",
        "plt.grid()\n",
        "plt.legend()\n",
        "plt.show()\n"
      ],
      "metadata": {
        "colab": {
          "base_uri": "https://localhost:8080/",
          "height": 419
        },
        "id": "ytxdEy7PUU0R",
        "outputId": "d34918a7-de84-4cda-8774-f2cee96e75a8"
      },
      "execution_count": 3,
      "outputs": [
        {
          "output_type": "error",
          "ename": "java.lang.RuntimeException",
          "evalue": "java.lang.RuntimeException: neqsim.util.exception.InvalidInputException: SystemPrEos:addComponent - Input componentName with value HNO3 not found in database.",
          "traceback": [
            "\u001b[0;31m---------------------------------------------------------------------------\u001b[0m",
            "\u001b[0;31mneqsim.util.exception.InvalidInputException\u001b[0mTraceback (most recent call last)",
            "\u001b[0;31mneqsim.util.exception.InvalidInputException\u001b[0m: neqsim.util.exception.InvalidInputException: SystemPrEos:addComponent - Input componentName with value HNO3 not found in database.",
            "\nThe above exception was the direct cause of the following exception:\n",
            "\u001b[0;31mException\u001b[0m                                 Traceback (most recent call last)",
            "\u001b[0;32m/usr/local/lib/python3.10/site-packages/_jpype.cpython-310-x86_64-linux-gnu.so\u001b[0m in \u001b[0;36mneqsim.thermo.system.SystemThermo.addComponent\u001b[0;34m()\u001b[0m\n",
            "\u001b[0;31mException\u001b[0m: Java Exception",
            "\nThe above exception was the direct cause of the following exception:\n",
            "\u001b[0;31mjava.lang.RuntimeException\u001b[0m                Traceback (most recent call last)",
            "\u001b[0;32m<ipython-input-3-af907653d74c>\u001b[0m in \u001b[0;36m<cell line: 5>\u001b[0;34m()\u001b[0m\n\u001b[1;32m      3\u001b[0m \u001b[0;31m# Create fluid with NeqSim\u001b[0m\u001b[0;34m\u001b[0m\u001b[0;34m\u001b[0m\u001b[0m\n\u001b[1;32m      4\u001b[0m \u001b[0mfluid1\u001b[0m \u001b[0;34m=\u001b[0m \u001b[0mthermoTools\u001b[0m\u001b[0;34m.\u001b[0m\u001b[0mfluid\u001b[0m\u001b[0;34m(\u001b[0m\u001b[0;34m'pr'\u001b[0m\u001b[0;34m)\u001b[0m\u001b[0;34m\u001b[0m\u001b[0;34m\u001b[0m\u001b[0m\n\u001b[0;32m----> 5\u001b[0;31m \u001b[0mfluid1\u001b[0m\u001b[0;34m.\u001b[0m\u001b[0maddComponent\u001b[0m\u001b[0;34m(\u001b[0m\u001b[0;34m\"HNO3\"\u001b[0m\u001b[0;34m,\u001b[0m \u001b[0;36m1.0\u001b[0m\u001b[0;34m)\u001b[0m\u001b[0;34m\u001b[0m\u001b[0;34m\u001b[0m\u001b[0m\n\u001b[0m\u001b[1;32m      6\u001b[0m \u001b[0mfluid1\u001b[0m\u001b[0;34m.\u001b[0m\u001b[0maddComponent\u001b[0m\u001b[0;34m(\u001b[0m\u001b[0;34m\"CO2\"\u001b[0m\u001b[0;34m,\u001b[0m \u001b[0;36m100.0\u001b[0m\u001b[0;34m)\u001b[0m\u001b[0;34m\u001b[0m\u001b[0;34m\u001b[0m\u001b[0m\n\u001b[1;32m      7\u001b[0m \u001b[0mfluid1\u001b[0m\u001b[0;34m.\u001b[0m\u001b[0msetMixingRule\u001b[0m\u001b[0;34m(\u001b[0m\u001b[0;34m'classic'\u001b[0m\u001b[0;34m)\u001b[0m\u001b[0;34m\u001b[0m\u001b[0;34m\u001b[0m\u001b[0m\n",
            "\u001b[0;31mjava.lang.RuntimeException\u001b[0m: java.lang.RuntimeException: neqsim.util.exception.InvalidInputException: SystemPrEos:addComponent - Input componentName with value HNO3 not found in database."
          ]
        }
      ]
    },
    {
      "cell_type": "markdown",
      "source": [
        "# Exmample calculation using the CPA electrolyte equation of state\n",
        "The electroly EoS can be used to stdy effects of chemical reactions in the water phase and calculate pH."
      ],
      "metadata": {
        "id": "yuaH9r-Vco2s"
      }
    },
    {
      "cell_type": "code",
      "source": [
        "from neqsim.thermo import TPflash, fluid, fluid_df, addOilFractions, printFrame, dataFrame, fluidcreator,createfluid,createfluid2, TPflash, phaseenvelope, calcIonComposition\n",
        "import pandas as pd\n",
        "\n",
        "fluid1 = fluid('Electrolyte-CPA-EoS')\n",
        "fluid1.addComponent(\"sulfuric acid\", 3.0e-6)\n",
        "fluid1.addComponent(\"CO2\", 100.0)\n",
        "fluid1.addComponent(\"nitrogen\", 0.0001)\n",
        "fluid1.addComponent(\"H2S\", 0.0001)\n",
        "fluid1.addComponent(\"SO2\", 0.0001)\n",
        "fluid1.addComponent(\"oxygen\", 0.0001)\n",
        "fluid1.addComponent(\"NO2\", 0.0001)\n",
        "fluid1.addComponent(\"CO\", 0.0001)\n",
        "fluid1.addComponent(\"acetic acid\", 1.0e-6)\n",
        "fluid1.addComponent(\"water\", 1.0e-4)\n",
        "\n",
        "fluid1.chemicalReactionInit()\n",
        "fluid1.setMixingRule(10)\n",
        "\n",
        "fluid1.setTemperature(55.0, \"C\")\n",
        "fluid1.setPressure(15.0, \"bara\")\n",
        "\n",
        "TPflash(fluid1)\n",
        "printFrame(fluid1)\n",
        "print('pH of water phase ', fluid1.getPhase('aqueous').getpH())"
      ],
      "metadata": {
        "id": "gJuIoU5PQ-f-"
      },
      "execution_count": null,
      "outputs": []
    }
  ]
}