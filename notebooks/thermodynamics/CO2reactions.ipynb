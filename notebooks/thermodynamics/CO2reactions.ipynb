{
  "nbformat": 4,
  "nbformat_minor": 0,
  "metadata": {
    "colab": {
      "provenance": [],
      "authorship_tag": "ABX9TyN2+JyCe4V53smlZ+MeObKD",
      "include_colab_link": true
    },
    "kernelspec": {
      "name": "python3",
      "display_name": "Python 3"
    },
    "language_info": {
      "name": "python"
    }
  },
  "cells": [
    {
      "cell_type": "markdown",
      "metadata": {
        "id": "view-in-github",
        "colab_type": "text"
      },
      "source": [
        "<a href=\"https://colab.research.google.com/github/EvenSol/NeqSim-Colab/blob/master/notebooks/thermodynamics/CO2reactions.ipynb\" target=\"_parent\"><img src=\"https://colab.research.google.com/assets/colab-badge.svg\" alt=\"Open In Colab\"/></a>"
      ]
    },
    {
      "cell_type": "code",
      "execution_count": null,
      "metadata": {
        "id": "Uve6FpCaIPim"
      },
      "outputs": [],
      "source": [
        "%%capture\n",
        "#https://reaktoro.org/installation/installation-in-google-colab.html\n",
        "!pip install -q condacolab\n",
        "import condacolab\n",
        "condacolab.install_from_url(\"https://repo.anaconda.com/miniconda/Miniconda3-py38_4.12.0-Linux-x86_64.sh\")\n",
        "!conda config --remove channels defaults\n",
        "!conda config --add channels conda-forge\n",
        "!conda install reaktoro -y"
      ]
    },
    {
      "cell_type": "markdown",
      "source": [
        "# Litterature\n",
        "\n",
        "* [Nitric and Sulfuric Acid Solubility in Dense Phase CO2](https://pubs.acs.org/doi/10.1021/acs.iecr.9b04957)\n",
        "\n",
        "* [Predict formation of strong acids in CO2 Transportation by applying OLI Systems desktop and cloud solutions](https://www.olisystems.com/resources/blog/predict-formation-of-strong-acids-in-co2-transportation-by-applying-oli-systems-desktop-and-cloud-solutions/)\n",
        "\n"
      ],
      "metadata": {
        "id": "5ZqmPQTIbzas"
      }
    },
    {
      "cell_type": "markdown",
      "source": [
        "#Reactoro Calculations"
      ],
      "metadata": {
        "id": "WqWtpCfDQ0sG"
      }
    },
    {
      "cell_type": "markdown",
      "source": [
        "# Chemical Equilibrium and Modeling: A Focus on CO2 and Trace Components\n",
        "\n",
        "Chemical equilibrium is a fundamental concept in chemistry that describes the state where the rates of forward and reverse reactions are equal, resulting in no net change in the concentrations of reactants and products. This state is characterized by a dynamic balance between the opposing reactions. Understanding chemical equilibrium is crucial for predicting the behavior of chemical systems and designing industrial processes, particularly in the context of CO2 capture and storage.\n",
        "\n",
        "## Chemical Equilibrium: A Dynamic Balance in CO2 Systems\n",
        "\n",
        "In the context of CO2-containing systems, chemical equilibrium plays a crucial role in determining the fate of CO2 and its interactions with other components. For example, in carbon capture and storage (CCS) technologies, CO2 is captured from industrial sources and stored in geological formations. Understanding the equilibrium behavior of CO2 with various minerals and fluids is essential for ensuring safe and effective storage.\n",
        "\n",
        "## Modeling Chemical Equilibrium with Reaktoro\n",
        "\n",
        "`Reaktoro` is a powerful open-source Python library designed for chemical equilibrium calculations. It offers a comprehensive set of tools and functionalities for modeling complex chemical systems, including:\n",
        "\n",
        "- **Thermodynamic Databases:** `Reaktoro` supports various thermodynamic databases, including the NASA CEA database, which provides thermodynamic properties for a wide range of chemical species relevant to CO2 systems.\n",
        "- **Chemical System Definition:** Users can define chemical systems by specifying the phases, species, and reactions involved. This flexibility allows for modeling diverse scenarios, from simple gas mixtures to multi-phase systems with complex interactions.\n",
        "- **Equilibrium Solvers:** `Reaktoro` offers a variety of equilibrium solvers, including Gibbs energy minimization and equilibrium constant-based approaches, to accurately calculate equilibrium compositions.\n",
        "- **Activity Models:** For non-ideal solutions, `Reaktoro` incorporates activity models like the Peng-Robinson equation of state to account for deviations from ideal behavior, particularly relevant for CO2-rich systems.\n",
        "\n",
        "## CO2 and Trace Components: Importance of Equilibrium Modeling\n",
        "\n",
        "In many industrial processes and environmental scenarios, CO2 is present alongside trace components, such as H2S, SO2, and NOx. These trace components can significantly influence the equilibrium behavior of CO2 and the overall system properties.\n",
        "\n",
        "`Reaktoro` enables comprehensive modeling of CO2 systems with trace components, allowing for:\n",
        "\n",
        "- **Prediction of Trace Component Behavior:** `Reaktoro` can calculate the equilibrium concentrations of trace components in CO2 streams, providing insights into their fate and potential impacts.\n",
        "- **Corrosion Assessment:** By modeling the equilibrium between CO2, trace components, and materials, `Reaktoro` can help assess corrosion risks in industrial equipment.\n",
        "- **Environmental Impact Analysis:** `Reaktoro` can be used to predict the environmental consequences of CO2 emissions, including the formation of acid rain and the impact on water quality."
      ],
      "metadata": {
        "id": "Vl8GVgk7bQkW"
      }
    },
    {
      "cell_type": "code",
      "source": [
        "from reaktoro import *\n",
        "import numpy as np\n",
        "import pandas as pd\n",
        "import math as math\n",
        "\n",
        "from reaktoro import *\n",
        "\n",
        "db = NasaDatabase(\"nasa-cea\")\n",
        "\n",
        "gases = GaseousPhase(\"CO2 H2O H2S SO2 NO2 NO O2 H2 CO CH4 N2 H2SO4 CH3COOH N2O HNO3 NO3 N2O5\")\n",
        "#gases.set(ActivityModelPengRobinson())\n",
        "\n",
        "system = ChemicalSystem(db, gases)\n",
        "\n",
        "state = ChemicalState(system)\n",
        "state.temperature(30, \"celsius\")\n",
        "state.pressure(10, \"bar\")\n",
        "state.set(\"CO2\", 1, \"mol\")\n",
        "state.set(\"N2\", 100e-6, \"mol\")\n",
        "state.set(\"O2\", 1e-6, \"mol\")\n",
        "state.set(\"H2O\", 20e-6, \"mol\")\n",
        "state.set(\"H2S\", 30e-6, \"mol\")\n",
        "state.set(\"SO2\",  1e-6, \"mol\")\n",
        "state.set(\"NO2\",  50e-6, \"mol\")\n",
        "state.set(\"NO\",  5e-6, \"mol\")\n",
        "\n",
        "print(\"=== INITIAL STATE ===\")\n",
        "print(state)\n",
        "\n",
        "solver = EquilibriumSolver(system)\n",
        "solver.solve(state)  # equilibrate the `state` object!\n",
        "\n",
        "print(\"=== FINAL STATE ===\")\n",
        "print(state)"
      ],
      "metadata": {
        "colab": {
          "base_uri": "https://localhost:8080/"
        },
        "id": "FW9ZbNs4IeRw",
        "outputId": "246a1eba-9960-428d-911c-fb89b317cbb6"
      },
      "execution_count": null,
      "outputs": [
        {
          "output_type": "stream",
          "name": "stdout",
          "text": [
            "=== INITIAL STATE ===\n",
            "+----------------------+------------+------+\n",
            "| Property             |      Value | Unit |\n",
            "+----------------------+------------+------+\n",
            "| Temperature          |   303.1500 |    K |\n",
            "| Pressure             |    10.0000 |  bar |\n",
            "| Charge:              | 0.0000e+00 |  mol |\n",
            "| Element Amount:      |            |      |\n",
            "| :: H                 | 1.0000e-04 |  mol |\n",
            "| :: C                 | 1.0000e+00 |  mol |\n",
            "| :: N                 | 2.5500e-04 |  mol |\n",
            "| :: O                 | 2.0001e+00 |  mol |\n",
            "| :: S                 | 3.1000e-05 |  mol |\n",
            "| Species Amount:      |            |      |\n",
            "| :: CO2               | 1.0000e+00 |  mol |\n",
            "| :: H2O               | 2.0000e-05 |  mol |\n",
            "| :: H2S               | 3.0000e-05 |  mol |\n",
            "| :: SO2               | 1.0000e-06 |  mol |\n",
            "| :: NO2               | 5.0000e-05 |  mol |\n",
            "| :: NO                | 5.0000e-06 |  mol |\n",
            "| :: O2                | 1.0000e-06 |  mol |\n",
            "| :: H2                | 1.0000e-16 |  mol |\n",
            "| :: CO                | 1.0000e-16 |  mol |\n",
            "| :: CH4               | 1.0000e-16 |  mol |\n",
            "| :: N2                | 1.0000e-04 |  mol |\n",
            "| :: H2SO4             | 1.0000e-16 |  mol |\n",
            "| :: CH3COOH :: C2H4O2 | 1.0000e-16 |  mol |\n",
            "| :: N2O               | 1.0000e-16 |  mol |\n",
            "| :: HNO3              | 1.0000e-16 |  mol |\n",
            "| :: NO3               | 1.0000e-16 |  mol |\n",
            "| :: N2O5              | 1.0000e-16 |  mol |\n",
            "+----------------------+------------+------+\n",
            "=== FINAL STATE ===\n",
            "+----------------------+------------+------+\n",
            "| Property             |      Value | Unit |\n",
            "+----------------------+------------+------+\n",
            "| Temperature          |   303.1500 |    K |\n",
            "| Pressure             |    10.0000 |  bar |\n",
            "| Charge:              | 0.0000e+00 |  mol |\n",
            "| Element Amount:      |            |      |\n",
            "| :: H                 | 1.0000e-04 |  mol |\n",
            "| :: C                 | 1.0000e+00 |  mol |\n",
            "| :: N                 | 2.5500e-04 |  mol |\n",
            "| :: O                 | 2.0001e+00 |  mol |\n",
            "| :: S                 | 3.1000e-05 |  mol |\n",
            "| Species Amount:      |            |      |\n",
            "| :: CO2               | 1.0000e+00 |  mol |\n",
            "| :: H2O               | 3.3000e-05 |  mol |\n",
            "| :: H2S               | 1.0000e-16 |  mol |\n",
            "| :: SO2               | 1.4000e-05 |  mol |\n",
            "| :: NO2               | 1.0000e-16 |  mol |\n",
            "| :: NO                | 1.0000e-16 |  mol |\n",
            "| :: O2                | 1.0000e-16 |  mol |\n",
            "| :: H2                | 1.0000e-16 |  mol |\n",
            "| :: CO                | 1.0000e-16 |  mol |\n",
            "| :: CH4               | 1.0000e-16 |  mol |\n",
            "| :: N2                | 1.2750e-04 |  mol |\n",
            "| :: H2SO4             | 1.7000e-05 |  mol |\n",
            "| :: CH3COOH :: C2H4O2 | 1.0000e-16 |  mol |\n",
            "| :: N2O               | 1.0000e-16 |  mol |\n",
            "| :: HNO3              | 1.0000e-16 |  mol |\n",
            "| :: NO3               | 1.0000e-16 |  mol |\n",
            "| :: N2O5              | 1.0000e-16 |  mol |\n",
            "+----------------------+------------+------+\n"
          ]
        }
      ]
    },
    {
      "cell_type": "markdown",
      "source": [
        "#NeqSim calculations"
      ],
      "metadata": {
        "id": "Iqi652acQwzF"
      }
    },
    {
      "cell_type": "markdown",
      "source": [
        "## NeqSim Calculations: Simulating Thermodynamic Properties\n",
        "\n",
        "This section focuses on utilizing the NeqSim library in Python to perform thermodynamic calculations for fluid systems relevant to CO2 and associated components.\n",
        "\n",
        "### Introduction to NeqSim\n",
        "\n",
        "NeqSim is a process simulation tool developed by Equinor that provides a comprehensive framework for thermodynamic and process calculations. It offers a wide range of functionalities, including:\n",
        "\n",
        "- **Thermodynamic Models:** NeqSim supports various equations of state (EOS) and activity coefficient models for accurately representing fluid behavior.\n",
        "- **Phase Equilibrium Calculations:** It enables the calculation of phase equilibria, including vapor-liquid, liquid-liquid, and solid-liquid equilibria.\n",
        "- **Fluid Property Calculations:** NeqSim can calculate various fluid properties, such as density, viscosity, enthalpy, and entropy.\n",
        "- **Process Simulation:** It allows for the simulation of complex processes, including distillation, absorption, and heat transfer.\n",
        "\n",
        "### NeqSim in This Notebook\n",
        "\n",
        "In this notebook, NeqSim is primarily used to:\n",
        "\n",
        "1. **Simulate CO2-rich fluids:** NeqSim is employed to model the behavior of CO2-containing fluids, including mixtures with trace components like H2S, SO2, and NOx.\n",
        "2. **Calculate phase equilibria:** TPflash calculations are performed to determine the equilibrium compositions of different phases in the fluid system.\n",
        "3. **Predict sulfuric acid concentration:** NeqSim is used to simulate the distribution of sulfuric acid in CO2 streams, providing insights into its potential impacts on corrosion and environmental processes.\n",
        "4. **Analyze electrolyte systems:** The Electrolyte-CPA-EoS model in NeqSim is used to simulate systems containing electrolytes, such as acetic acid and water, and to calculate properties like pH."
      ],
      "metadata": {
        "id": "D2eebwMlbgND"
      }
    },
    {
      "cell_type": "markdown",
      "source": [
        "# Example sulfuric acid solubility in CO2"
      ],
      "metadata": {
        "id": "2SjxDJcdcbgK"
      }
    },
    {
      "cell_type": "code",
      "source": [
        "%%capture\n",
        "!pip install git+https://github.com/Equinor/neqsim-python.git"
      ],
      "metadata": {
        "id": "RTh8cTWNQtoH"
      },
      "execution_count": null,
      "outputs": []
    },
    {
      "cell_type": "code",
      "source": [
        "H2SO4_concentration = state.speciesAmount(\"H2SO4\")\n",
        "CO2_concentration = state.speciesAmount(\"CO2\")\n",
        "N2_concentration = state.speciesAmount(\"N2\")\n",
        "O2_concentration = state.speciesAmount(\"O2\")\n",
        "H2O_concentration = state.speciesAmount(\"H2O\")\n",
        "H2S_concentration = state.speciesAmount(\"H2S\")\n",
        "SO2_concentration = state.speciesAmount(\"SO2\")\n",
        "\n",
        "# Print the variables to verify\n",
        "print(\"=== EQUILIBRIUM CONCENTRATIONS ===\")\n",
        "print(f\"H2SO4: {H2SO4_concentration} mol\")\n",
        "print(f\"CO2: {CO2_concentration} mol\")\n",
        "print(f\"N2: {N2_concentration} mol\")\n",
        "print(f\"O2: {O2_concentration} mol\")\n",
        "print(f\"H2O: {H2O_concentration} mol\")\n",
        "print(f\"H2S: {H2S_concentration} mol\")\n",
        "print(f\"SO2: {SO2_concentration} mol\")"
      ],
      "metadata": {
        "colab": {
          "base_uri": "https://localhost:8080/"
        },
        "id": "Np4pKGYP2poK",
        "outputId": "2ff33661-a98f-4aee-e894-da9ce7b60752"
      },
      "execution_count": null,
      "outputs": [
        {
          "output_type": "stream",
          "name": "stdout",
          "text": [
            "=== EQUILIBRIUM CONCENTRATIONS ===\n",
            "H2SO4: 1.7000000009232046e-05 mol\n",
            "CO2: 0.9999999999999999 mol\n",
            "N2: 0.0001274999999999 mol\n",
            "O2: 1e-16 mol\n",
            "H2O: 3.299999999065137e-05 mol\n",
            "H2S: 1e-16 mol\n",
            "SO2: 1.3999999990767906e-05 mol\n"
          ]
        }
      ]
    },
    {
      "cell_type": "code",
      "source": [
        "from neqsim.thermo import TPflash, fluid, fluid_df, addOilFractions, printFrame, dataFrame, fluidcreator,createfluid,createfluid2, TPflash, phaseenvelope, calcIonComposition\n",
        "import pandas as pd\n",
        "\n",
        "fluid1 = fluid('srk')\n",
        "fluid1.addComponent(\"sulfuric acid\", H2SO4_concentration)\n",
        "fluid1.addComponent(\"CO2\", CO2_concentration)\n",
        "fluid1.addComponent(\"nitrogen\", N2_concentration)\n",
        "fluid1.addComponent(\"H2S\", H2S_concentration)\n",
        "fluid1.addComponent(\"SO2\", SO2_concentration)\n",
        "fluid1.addComponent(\"oxygen\", O2_concentration)\n",
        "fluid1.addComponent(\"water\", H2O_concentration)\n",
        "fluid1.setMixingRule('classic')\n",
        "fluid1.setMultiPhaseCheck(True)\n",
        "\n",
        "fluid1.setTemperature(25.0, \"C\")\n",
        "fluid1.setPressure(150.0, \"bara\")\n",
        "\n",
        "TPflash(fluid1)\n",
        "printFrame(fluid1)"
      ],
      "metadata": {
        "colab": {
          "base_uri": "https://localhost:8080/"
        },
        "id": "WDdfQpT-WLUj",
        "outputId": "dce7b1d7-0309-4a47-ae3d-70dd5a6ea8c1"
      },
      "execution_count": null,
      "outputs": [
        {
          "output_type": "stream",
          "name": "stdout",
          "text": [
            "| 0                    | 1           | 2           | 3           | 4   | 5   | 6               |\n",
            "|:---------------------|:------------|:------------|:------------|:----|:----|:----------------|\n",
            "|                      | total       | GAS         | AQUEOUS     |     |     |                 |\n",
            "| sulfuric acid        | 1.69967E-5  | 2.97353E-6  | 9.82616E-1  |     |     | [mole fraction] |\n",
            "| CO2                  | 9.99809E-1  | 9.99823E-1  | 1.55289E-2  |     |     | [mole fraction] |\n",
            "| nitrogen             | 1.27476E-4  | 1.27477E-4  | 2.81798E-6  |     |     | [mole fraction] |\n",
            "| H2S                  | 9.99809E-17 | 9.99807E-17 | 1.08137E-16 |     |     | [mole fraction] |\n",
            "| SO2                  | 1.39973E-5  | 1.39973E-5  | 1.326E-5    |     |     | [mole fraction] |\n",
            "| oxygen               | 9.99809E-17 | 9.99822E-17 | 6.87215E-18 |     |     | [mole fraction] |\n",
            "| water                | 3.29937E-5  | 3.29679E-5  | 1.83872E-3  |     |     | [mole fraction] |\n",
            "|                      |             |             |             |     |     |                 |\n",
            "| Density              |             | 8.26091E2   | 1.11985E3   |     |     | kg/m3           |\n",
            "| Phase Fraction       |             | 9.99986E-1  | 1.42713E-5  |     |     | [mole fraction] |\n",
            "| Molar Mass           | 4.40083E-2  | 4.40075E-2  | 9.7091E-2   |     |     | kg/mol          |\n",
            "| Z factor             |             | 3.22346E-1  | 5.24614E-1  |     |     | [-]             |\n",
            "| Heat Capacity (Cp)   |             | 2.52354E0   | 1.184E0     |     |     | kJ/kgK          |\n",
            "| Heat Capacity (Cv)   |             | 9.56048E-1  | 9.92352E-1  |     |     | kJ/kgK          |\n",
            "| Speed of Sound       |             | 4.73406E2   | 2.91671E3   |     |     | m/sec           |\n",
            "| Enthalpy             | -2.36782E5  | -2.36763E5  | -8.48579E5  |     |     | J/kg            |\n",
            "| Entropy              | -1.54587E3  | -1.54587E3  | -1.54745E3  |     |     | J/kgK           |\n",
            "| JT coefficient       |             | 6.86059E-2  | -8.62801E-2 |     |     | C/bar           |\n",
            "|                      |             |             |             |     |     |                 |\n",
            "| Viscosity            |             | 8.03397E-5  | 1.48307E-9  |     |     | kg/msec         |\n",
            "| Thermal Conductivity |             | 8.48074E-2  | 4.53959E-3  |     |     | W/mK            |\n",
            "| Surface Tension      |             | 1.07716E-4  | 1.07716E-4  |     |     | [N/m]           |\n",
            "|                      |             |             |             |     |     |                 |\n",
            "|                      |             |             |             |     |     |                 |\n",
            "|                      |             |             |             |     |     |                 |\n",
            "| Pressure             |             | 150.0       | 150.0       |     |     | bara            |\n",
            "| Temperature          |             | 25.0        | 25.0        |     |     | C               |\n",
            "|                      |             |             |             |     |     |                 |\n",
            "| Model                |             | SRK-EOS     | SRK-EOS     |     |     | -               |\n",
            "| Mixing Rule          |             | classic     | classic     |     |     | -               |\n",
            "|                      |             |             |             |     |     |                 |\n",
            "| Stream               |             |             |             |     |     | -               |\n",
            "|                      |             |             |             |     |     |                 |\n",
            "|                      |             |             |             |     |     |                 |\n",
            "|                      |             |             |             |     |     |                 |\n",
            "|                      |             |             |             |     |     |                 |\n"
          ]
        }
      ]
    },
    {
      "cell_type": "code",
      "source": [
        "import neqsim.thermo.thermoTools as thermoTools\n",
        "\n",
        "# Create fluid with NeqSim\n",
        "fluid1 = thermoTools.fluid('srk')\n",
        "fluid1.addComponent(\"sulfuric acid\", 10000.0e-9)\n",
        "fluid1.addComponent(\"CO2\", 1.0)\n",
        "fluid1.addComponent(\"nitrogen\", 0.000001)\n",
        "fluid1.addComponent(\"H2S\", 0.000001)\n",
        "fluid1.addComponent(\"SO2\", 0.000001)\n",
        "fluid1.addComponent(\"oxygen\", 0.000001)\n",
        "fluid1.addComponent(\"NO2\", 0.0000001)\n",
        "fluid1.addComponent(\"CO\", 0.000001)\n",
        "fluid1.addComponent(\"water\", 1.0e-6)\n",
        "fluid1.setMixingRule('classic')\n",
        "fluid1.setMultiPhaseCheck(True)\n",
        "fluid1.setTemperature(25.0, \"C\")\n",
        "\n",
        "# Simulate and collect data\n",
        "pressures = []\n",
        "ppmSulfuric_acid_in_CO2 = []\n",
        "\n",
        "for pres in range(1, 200):\n",
        "    fluid1.setPressure(pres, \"bara\")\n",
        "    thermoTools.TPflash(fluid1)\n",
        "    # Get sulfuric acid concentration in the gas phase (phase 0)\n",
        "    sulfuric_acid_concentration = (\n",
        "        fluid1.getPhase(0).getComponent('sulfuric acid').getx() * 1e6\n",
        "    )\n",
        "    pressures.append(pres)\n",
        "    ppmSulfuric_acid_in_CO2.append(sulfuric_acid_concentration)\n",
        "\n",
        "# Plot the results\n",
        "import matplotlib.pyplot as plt\n",
        "\n",
        "plt.figure(figsize=(10, 6))\n",
        "plt.plot(pressures, ppmSulfuric_acid_in_CO2, label='Sulfuric Acid in CO2')\n",
        "plt.xlabel('Pressure (bara)')\n",
        "plt.ylabel('Sulfuric Acid Concentration (ppm mole)')\n",
        "plt.title('Sulfuric Acid Concentration in CO2 vs Pressure')\n",
        "plt.grid()\n",
        "plt.legend()\n",
        "plt.show()\n"
      ],
      "metadata": {
        "colab": {
          "base_uri": "https://localhost:8080/",
          "height": 564
        },
        "id": "qV6PL94eY6Li",
        "outputId": "7769316f-fd18-4a57-b423-d9a706dd3cd4"
      },
      "execution_count": null,
      "outputs": [
        {
          "output_type": "display_data",
          "data": {
            "text/plain": [
              "<Figure size 1000x600 with 1 Axes>"
            ],
            "image/png": "[encoded data removed]"
          },
          "metadata": {}
        }
      ]
    },
    {
      "cell_type": "markdown",
      "source": [
        "# Exmample calculation using the CPA electrolyte equation of state"
      ],
      "metadata": {
        "id": "yuaH9r-Vco2s"
      }
    },
    {
      "cell_type": "code",
      "source": [
        "from neqsim.thermo import TPflash, fluid, fluid_df, addOilFractions, printFrame, dataFrame, fluidcreator,createfluid,createfluid2, TPflash, phaseenvelope, calcIonComposition\n",
        "import pandas as pd\n",
        "\n",
        "fluid1 = fluid('Electrolyte-CPA-EoS')\n",
        "fluid1.addComponent(\"sulfuric acid\", 3.0e-6)\n",
        "fluid1.addComponent(\"CO2\", 100.0)\n",
        "fluid1.addComponent(\"nitrogen\", 0.0001)\n",
        "fluid1.addComponent(\"H2S\", 0.0001)\n",
        "fluid1.addComponent(\"SO2\", 0.0001)\n",
        "fluid1.addComponent(\"oxygen\", 0.0001)\n",
        "fluid1.addComponent(\"NO2\", 0.0001)\n",
        "fluid1.addComponent(\"CO\", 0.0001)\n",
        "fluid1.addComponent(\"acetic acid\", 1.0e-6)\n",
        "fluid1.addComponent(\"water\", 1.0e-4)\n",
        "\n",
        "fluid1.chemicalReactionInit()\n",
        "fluid1.setMixingRule(10)\n",
        "\n",
        "fluid1.setTemperature(55.0, \"C\")\n",
        "fluid1.setPressure(15.0, \"bara\")\n",
        "\n",
        "TPflash(fluid1)\n",
        "printFrame(fluid1)\n",
        "print('pH of water phase ', fluid1.getPhase('aqueous').getpH())"
      ],
      "metadata": {
        "id": "gJuIoU5PQ-f-",
        "colab": {
          "base_uri": "https://localhost:8080/"
        },
        "outputId": "cf5b2635-1dae-4e88-91c2-a8cedd17ffac"
      },
      "execution_count": null,
      "outputs": [
        {
          "output_type": "stream",
          "name": "stdout",
          "text": [
            "| 0                    | 1           | 2                           | 3                           | 4   | 5   | 6               |\n",
            "|:---------------------|:------------|:----------------------------|:----------------------------|:----|:----|:----------------|\n",
            "|                      | total       | GAS                         | AQUEOUS                     |     |     |                 |\n",
            "| sulfuric acid        | 3.31797E-3  | 1.48053E-5                  | 1.34626E-2                  |     |     | [mole fraction] |\n",
            "| CO2                  | 4.13566E-11 | 5.47288E-11                 | 2.87798E-13                 |     |     | [mole fraction] |\n",
            "| nitrogen             | 1.10599E-1  | 1.46601E-1                  | 3.00286E-5                  |     |     | [mole fraction] |\n",
            "| H2S                  | 1.99892E-1  | 2.62869E-1                  | 6.47492E-3                  |     |     | [mole fraction] |\n",
            "| SO2                  | 1.10599E-1  | 1.45087E-1                  | 4.67912E-3                  |     |     | [mole fraction] |\n",
            "| oxygen               | 1.10599E-1  | 1.4659E-1                   | 6.43997E-5                  |     |     | [mole fraction] |\n",
            "| NO2                  | 1.10599E-1  | 1.39819E-1                  | 2.0859E-2                   |     |     | [mole fraction] |\n",
            "| CO                   | 1.10599E-1  | 1.46605E-1                  | 1.81503E-5                  |     |     | [mole fraction] |\n",
            "| acetic acid          | 1.10599E-3  | 1.44958E-3                  | 5.07472E-5                  |     |     | [mole fraction] |\n",
            "| water                | 2.42686E-1  | 1.09641E-2                  | 9.54348E-1                  |     |     | [mole fraction] |\n",
            "| HS-                  | 1.56E-6     | 6.35105E-46                 | 6.35105E-6                  |     |     | [mole fraction] |\n",
            "| OH-                  | 7.59133E-13 | 3.09057E-52                 | 3.09057E-12                 |     |     | [mole fraction] |\n",
            "| H3O+                 | 1.56E-6     | 6.35105E-46                 | 6.35105E-6                  |     |     | [mole fraction] |\n",
            "| HCO3-                | 4.84983E-17 | 1.97446E-56                 | 1.97446E-16                 |     |     | [mole fraction] |\n",
            "| S--                  | 3.58057E-19 | 1.45772E-58                 | 1.45772E-18                 |     |     | [mole fraction] |\n",
            "| CO3--                | 7.84549E-23 | 3.19405E-62                 | 3.19405E-22                 |     |     | [mole fraction] |\n",
            "|                      |             |                             |                             |     |     |                 |\n",
            "| Density              |             | 2.19079E1                   | 9.80344E2                   |     |     | kg/m3           |\n",
            "| Phase Fraction       |             | 7.54372E-1                  | 2.45628E-1                  |     |     | [mole fraction] |\n",
            "| Molar Mass           | 3.34851E-2  | 3.7876E-2                   | 1.99998E-2                  |     |     | kg/mol          |\n",
            "| Z factor             |             | 9.50491E-1                  | 1.12159E-2                  |     |     | [-]             |\n",
            "| Heat Capacity (Cp)   |             | 1.0021E0                    | 3.66576E0                   |     |     | kJ/kgK          |\n",
            "| Heat Capacity (Cv)   |             | 7.20135E-1                  | 3.21737E0                   |     |     | kJ/kgK          |\n",
            "| Speed of Sound       |             | 3.00753E2                   | 1.57704E3                   |     |     | m/sec           |\n",
            "| Enthalpy             | -2.64344E5  | 3.71102E4                   | -2.01769E6                  |     |     | J/kg            |\n",
            "| Entropy              | -8.29438E2  | -5.61765E1                  | -5.32693E3                  |     |     | J/kgK           |\n",
            "| JT coefficient       |             | 8.79534E-1                  | -2.06365E-2                 |     |     | C/bar           |\n",
            "|                      |             |                             |                             |     |     |                 |\n",
            "| Viscosity            |             | 1.67433E-5                  | 5.47331E-5                  |     |     | kg/msec         |\n",
            "| Thermal Conductivity |             | 2.27444E-2                  | 5.6854E-1                   |     |     | W/mK            |\n",
            "| Surface Tension      |             | 4.57641E-2                  | 4.57641E-2                  |     |     | [N/m]           |\n",
            "|                      |             |                             |                             |     |     |                 |\n",
            "|                      |             |                             |                             |     |     |                 |\n",
            "|                      |             |                             |                             |     |     |                 |\n",
            "| Pressure             |             | 15.0                        | 15.0                        |     |     | bara            |\n",
            "| Temperature          |             | 55.0                        | 55.0                        |     |     | C               |\n",
            "|                      |             |                             |                             |     |     |                 |\n",
            "| Model                |             | Electrolyte-CPA-EOS-statoil | Electrolyte-CPA-EOS-statoil |     |     | -               |\n",
            "| Mixing Rule          |             | classic-CPA_T               | classic-CPA_T               |     |     | -               |\n",
            "|                      |             |                             |                             |     |     |                 |\n",
            "| Stream               |             |                             |                             |     |     | -               |\n",
            "|                      |             |                             |                             |     |     |                 |\n",
            "|                      |             |                             |                             |     |     |                 |\n",
            "|                      |             |                             |                             |     |     |                 |\n",
            "|                      |             |                             |                             |     |     |                 |\n",
            "pH of water phase  3.447124706014672\n"
          ]
        }
      ]
    }
  ]
}