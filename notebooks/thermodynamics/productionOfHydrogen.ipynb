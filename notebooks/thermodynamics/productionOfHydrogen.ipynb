{
  "nbformat": 4,
  "nbformat_minor": 0,
  "metadata": {
    "colab": {
      "name": "productionOfHydrogen.ipynb",
      "provenance": [],
      "authorship_tag": "ABX9TyPABtth27BmrOcTt5ySclFP",
      "include_colab_link": true
    },
    "kernelspec": {
      "name": "python3",
      "display_name": "Python 3"
    }
  },
  "cells": [
    {
      "cell_type": "markdown",
      "metadata": {
        "id": "view-in-github",
        "colab_type": "text"
      },
      "source": [
        "<a href=\"https://colab.research.google.com/github/EvenSol/NeqSim-Colab/blob/master/notebooks/thermodynamics/productionOfHydrogen.ipynb\" target=\"_parent\"><img src=\"https://colab.research.google.com/assets/colab-badge.svg\" alt=\"Open In Colab\"/></a>"
      ]
    },
    {
      "cell_type": "code",
      "metadata": {
        "id": "A2tiKhK3I4MA",
        "cellView": "form"
      },
      "source": [
        "#@title Production of hydrogen\n",
        "#@markdown This page will give an introduction to production of hydrogen.\n",
        "#@markdown <br><br>This document is part of the module [\"Introduction to Gas Processing using NeqSim in Colab\"](https://colab.research.google.com/github/EvenSol/NeqSim-Colab/blob/master/notebooks/examples_of_NeqSim_in_Colab.ipynb#scrollTo=_eRtkQnHpL70).\n",
        "%%capture\n",
        "!pip install neqsim==2.5.35\n",
        "import neqsim\n",
        "from neqsim.thermo.thermoTools import *\n",
        "import matplotlib\n",
        "import numpy as np\n",
        "import matplotlib.pyplot as plt\n",
        "import math\n",
        "plt.style.use('classic')\n",
        "%matplotlib inline"
      ],
      "execution_count": null,
      "outputs": []
    },
    {
      "cell_type": "code",
      "source": [
        "%%capture\n",
        "#https://reaktoro.org/installation/installation-in-google-colab.html\n",
        "!pip install -q condacolab\n",
        "import condacolab\n",
        "condacolab.install_from_url(\"https://repo.anaconda.com/miniconda/Miniconda3-py38_4.12.0-Linux-x86_64.sh\")\n",
        "!conda config --remove channels defaults\n",
        "!conda config --add channels conda-forge\n",
        "!conda install reaktoro -y"
      ],
      "metadata": {
        "id": "gsqY3R8ddQx9"
      },
      "execution_count": 1,
      "outputs": []
    },
    {
      "cell_type": "markdown",
      "metadata": {
        "id": "ILITXVSjJQ41"
      },
      "source": [
        "#Litterature\n",
        "\n",
        "https://www.equinor.com/en/what-we-do/hydrogen.html\n",
        "\n"
      ]
    },
    {
      "cell_type": "markdown",
      "source": [
        "# Hydrogen production"
      ],
      "metadata": {
        "id": "5gbZ8RXOdEuY"
      }
    },
    {
      "cell_type": "markdown",
      "source": [
        "## Steam methane reforming\n",
        "https://en.wikipedia.org/wiki/Steam_reforming\n",
        "\n",
        "Steam reforming or steam methane reforming (SMR) is a method for producing syngas (hydrogen and carbon monoxide) by reaction of hydrocarbons with water. Commonly natural gas is the feedstock. The main purpose of this technology is hydrogen production."
      ],
      "metadata": {
        "id": "HmBwWRmxeIwx"
      }
    },
    {
      "cell_type": "markdown",
      "source": [
        "## 1. pre-reforming\n",
        "\n",
        "The purpose of pre-reforming is to break down higher hydrocarbons such as propane, butane or naphtha into methane (CH4), which allows for more efficient reforming downstream."
      ],
      "metadata": {
        "id": "MS6I5GnyfIXH"
      }
    },
    {
      "cell_type": "code",
      "source": [
        "from reaktoro import *\n",
        "\n",
        "db = NasaDatabase(\"nasa-cea\")\n",
        "\n",
        "gases = GaseousPhase(\"CH4 C2H6 C3H8 CO CO2 H2O\")\n",
        "\n",
        "system = ChemicalSystem(db, gases)\n",
        "\n",
        "state = ChemicalState(system)\n",
        "state.temperature(1200, \"celsius\")\n",
        "state.pressure(100, \"bar\")\n",
        "state.set(\"CH4\", 1.0, \"mol\")\n",
        "state.set(\"C2H6\",  0.05, \"mol\")\n",
        "state.set(\"C3H8\",  0.01, \"mol\")\n",
        "state.set(\"H2O\",  0.1, \"mol\")\n",
        "\n",
        "equilibrate(state)\n",
        "\n",
        "print(state)"
      ],
      "metadata": {
        "id": "6Wbeux-BfH5c",
        "outputId": "5713dbae-a5bc-4e5f-8bcf-cac9a4d95dc1",
        "colab": {
          "base_uri": "https://localhost:8080/"
        }
      },
      "execution_count": 15,
      "outputs": [
        {
          "output_type": "stream",
          "name": "stdout",
          "text": [
            "+-----------------+------------+------+\n",
            "| Property        |      Value | Unit |\n",
            "+-----------------+------------+------+\n",
            "| Temperature     |  1473.1500 |    K |\n",
            "| Pressure        |   100.0000 |  bar |\n",
            "| Charge:         | 0.0000e+00 |  mol |\n",
            "| Element Amount: |            |      |\n",
            "| :: H            | 4.5800e+00 |  mol |\n",
            "| :: C            | 1.1300e+00 |  mol |\n",
            "| :: O            | 1.0000e-01 |  mol |\n",
            "| Species Amount: |            |      |\n",
            "| :: CH4          | 1.1053e+00 |  mol |\n",
            "| :: C2H6         | 8.3564e-04 |  mol |\n",
            "| :: C3H8         | 1.8350e-06 |  mol |\n",
            "| :: CO           | 2.2840e-02 |  mol |\n",
            "| :: CO2          | 1.5997e-04 |  mol |\n",
            "| :: H2O          | 7.6840e-02 |  mol |\n",
            "+-----------------+------------+------+\n"
          ]
        }
      ]
    },
    {
      "cell_type": "code",
      "source": [
        "solver = EquilibriumSolver(system)\n",
        "solver.solve(state)  # equilibrate the `state` object!\n",
        "\n",
        "print(\"=== FINAL STATE ===\")\n",
        "print(state)"
      ],
      "metadata": {
        "id": "RkrcIQU2f8GJ",
        "outputId": "fc155b1d-e06c-4e83-9ba3-81fe3042bcf3",
        "colab": {
          "base_uri": "https://localhost:8080/"
        }
      },
      "execution_count": 16,
      "outputs": [
        {
          "output_type": "stream",
          "name": "stdout",
          "text": [
            "=== FINAL STATE ===\n",
            "+-----------------+------------+------+\n",
            "| Property        |      Value | Unit |\n",
            "+-----------------+------------+------+\n",
            "| Temperature     |  1473.1500 |    K |\n",
            "| Pressure        |   100.0000 |  bar |\n",
            "| Charge:         | 0.0000e+00 |  mol |\n",
            "| Element Amount: |            |      |\n",
            "| :: H            | 4.5800e+00 |  mol |\n",
            "| :: C            | 1.1300e+00 |  mol |\n",
            "| :: O            | 1.0000e-01 |  mol |\n",
            "| Species Amount: |            |      |\n",
            "| :: CH4          | 1.1053e+00 |  mol |\n",
            "| :: C2H6         | 8.3564e-04 |  mol |\n",
            "| :: C3H8         | 1.8350e-06 |  mol |\n",
            "| :: CO           | 2.2840e-02 |  mol |\n",
            "| :: CO2          | 1.5997e-04 |  mol |\n",
            "| :: H2O          | 7.6840e-02 |  mol |\n",
            "+-----------------+------------+------+\n"
          ]
        }
      ]
    },
    {
      "cell_type": "markdown",
      "source": [
        "## 2. Steam reforming\n",
        "\n",
        "The name-giving reaction is the steam reforming (SR) reaction and is expressed by the equation:"
      ],
      "metadata": {
        "id": "nR8tPD36fYZk"
      }
    },
    {
      "cell_type": "code",
      "source": [
        "from reaktoro import *\n",
        "import numpy as np\n",
        "import pandas as pd\n",
        "import math as math\n",
        "\n",
        "db = NasaDatabase(\"nasa-cea\")\n",
        "db = NasaDatabase.withName(\"nasa-cea\")\n",
        "\n",
        "#print(f\"{'Species':<20}{'Formula':<60}{'Molar Mass (kg/mol)':<20}\")\n",
        "#for species in db.species():\n",
        "#    print(f\"{species.name():<20}{species.formula().str():<60}{species.molarMass():<20.6f}\")\n",
        "\n",
        "rxn = db.reaction(\"CO + 2*H2 = CH3OH\")\n",
        "\n",
        "rprops = rxn.props(25.0, \"C\", 1.0, \"atm\")\n",
        "print(rprops)\n",
        "\n",
        "#db = SupcrtDatabase(\"supcrtbl\")\n",
        "#db = SupcrtDatabase.withName(\"supcrtbl\")\n",
        "\n",
        "#gases = GaseousPhase(\"N2 CH4 C2H6 O2 CO2 CO H2O H2 NO NO2\")\n",
        "gases = GaseousPhase(\"CH4 O2 CO2 CO H2O H2\")\n",
        "gases.set(ActivityModelPengRobinson())\n",
        "\n",
        "solution = CondensedPhase(\"H2O(l) CH3OH(l)\")\n",
        "\n",
        "system = ChemicalSystem(db, gases,solution)"
      ],
      "metadata": {
        "id": "qVCgKYE7datZ",
        "outputId": "bc0f2f81-d029-4036-a477-7f2aa1429b75",
        "colab": {
          "base_uri": "https://localhost:8080/"
        }
      },
      "execution_count": 2,
      "outputs": [
        {
          "output_type": "stream",
          "name": "stdout",
          "text": [
            "+------------------------------------------------+-------------+-------------+\n",
            "| Property                                       |       Value |        Unit |\n",
            "+------------------------------------------------+-------------+-------------+\n",
            "| Temperature                                    |    298.1500 |           K |\n",
            "| Pressure                                       |      1.0132 |         bar |\n",
            "| Equilibrium Constant (log base 10)             |      4.3880 |           - |\n",
            "| Delta Standard Gibbs Energy                    | -25046.6852 |       J/mol |\n",
            "| Delta Standard Enthalpy                        | -90404.2836 |       J/mol |\n",
            "| Delta Standard Volume                          |  0.0000e+00 |      m3/mol |\n",
            "| Delta Standard Volume (Temperature Derivative) |  0.0000e+00 |  m3/(mol*K) |\n",
            "| Delta Standard Volume (Pressure Derivative)    |  0.0000e+00 | m3/(mol*Pa) |\n",
            "| Delta Standard Isobaric Heat Capacity          |    -42.7743 |   J/(mol*K) |\n",
            "| Delta Standard Isochoric Heat Capacity         |    -42.7743 |   J/(mol*K) |\n",
            "| Delta Standard Internal Energy                 | -90404.2836 |       J/mol |\n",
            "| Delta Standard Entropy                         |   -219.2105 |   J/(mol*K) |\n",
            "| Delta Standard Helmholtz Energy                | -25046.6852 |       J/mol |\n",
            "+------------------------------------------------+-------------+-------------+\n"
          ]
        }
      ]
    },
    {
      "cell_type": "code",
      "source": [
        "state = ChemicalState(system)\n",
        "state.temperature(1000, \"celsius\")\n",
        "state.pressure(1000, \"bar\")\n",
        "state.set(\"CH4\", 1.0, \"mol\")\n",
        "#state.set(\"C2H6\", 0.04, \"mol\")\n",
        "state.set(\"O2\",  1.5, \"mol\")\n",
        "#state.set(\"N2\",  0.5, \"mol\")\n",
        "\n",
        "print(\"=== INITIAL STATE ===\")\n",
        "print(state)"
      ],
      "metadata": {
        "id": "4z3Q-TTfddwL",
        "outputId": "06de1c58-af3e-498a-fe87-0d28eef505c0",
        "colab": {
          "base_uri": "https://localhost:8080/"
        }
      },
      "execution_count": 3,
      "outputs": [
        {
          "output_type": "stream",
          "name": "stdout",
          "text": [
            "=== INITIAL STATE ===\n",
            "+---------------------+------------+------+\n",
            "| Property            |      Value | Unit |\n",
            "+---------------------+------------+------+\n",
            "| Temperature         |  1273.1500 |    K |\n",
            "| Pressure            |  1000.0000 |  bar |\n",
            "| Charge:             | 0.0000e+00 |  mol |\n",
            "| Element Amount:     |            |      |\n",
            "| :: H                | 4.0000e+00 |  mol |\n",
            "| :: C                | 1.0000e+00 |  mol |\n",
            "| :: O                | 3.0000e+00 |  mol |\n",
            "| Species Amount:     |            |      |\n",
            "| :: CH4              | 1.0000e+00 |  mol |\n",
            "| :: O2               | 1.5000e+00 |  mol |\n",
            "| :: CO2              | 1.0000e-16 |  mol |\n",
            "| :: CO               | 1.0000e-16 |  mol |\n",
            "| :: H2O              | 1.0000e-16 |  mol |\n",
            "| :: H2               | 1.0000e-16 |  mol |\n",
            "| :: H2O(l)           | 1.0000e-16 |  mol |\n",
            "| :: CH3OH(l) :: CH4O | 1.0000e-16 |  mol |\n",
            "+---------------------+------------+------+\n"
          ]
        }
      ]
    },
    {
      "cell_type": "code",
      "source": [
        "solver = EquilibriumSolver(system)\n",
        "solver.solve(state)  # equilibrate the `state` object!\n",
        "\n",
        "print(\"=== FINAL STATE ===\")\n",
        "print(state)"
      ],
      "metadata": {
        "id": "6ZfEjWnodhKT",
        "outputId": "aca73ed0-ef11-4d82-9140-5509b5874c63",
        "colab": {
          "base_uri": "https://localhost:8080/"
        }
      },
      "execution_count": 4,
      "outputs": [
        {
          "output_type": "stream",
          "name": "stdout",
          "text": [
            "=== FINAL STATE ===\n",
            "+---------------------+------------+------+\n",
            "| Property            |      Value | Unit |\n",
            "+---------------------+------------+------+\n",
            "| Temperature         |  1273.1500 |    K |\n",
            "| Pressure            |  1000.0000 |  bar |\n",
            "| Charge:             | 0.0000e+00 |  mol |\n",
            "| Element Amount:     |            |      |\n",
            "| :: H                | 4.0000e+00 |  mol |\n",
            "| :: C                | 1.0000e+00 |  mol |\n",
            "| :: O                | 3.0000e+00 |  mol |\n",
            "| Species Amount:     |            |      |\n",
            "| :: CH4              | 1.1322e-01 |  mol |\n",
            "| :: O2               | 1.1275e-16 |  mol |\n",
            "| :: CO2              | 6.4407e-01 |  mol |\n",
            "| :: CO               | 2.4270e-01 |  mol |\n",
            "| :: H2O              | 1.4691e+00 |  mol |\n",
            "| :: H2               | 3.0441e-01 |  mol |\n",
            "| :: H2O(l)           | 1.0000e-16 |  mol |\n",
            "| :: CH3OH(l) :: CH4O | 1.0000e-16 |  mol |\n",
            "+---------------------+------------+------+\n"
          ]
        }
      ]
    },
    {
      "cell_type": "code",
      "source": [
        "from reaktoro import *\n",
        "\n",
        "db = NasaDatabase(\"nasa-cea\")\n",
        "\n",
        "gases = GaseousPhase(\"CH4 O2 CO2 CO H2O H2\")\n",
        "\n",
        "system = ChemicalSystem(db, gases)\n",
        "\n",
        "state = ChemicalState(system)\n",
        "state.temperature(1000, \"celsius\")\n",
        "state.pressure(100, \"bar\")\n",
        "state.set(\"CH4\", 1.0, \"mol\")\n",
        "state.set(\"O2\",  0.5, \"mol\")\n",
        "\n",
        "equilibrate(state)\n",
        "\n",
        "print(state)"
      ],
      "metadata": {
        "id": "fUb2EgHxdmm2",
        "outputId": "059693b2-000f-49d8-f18e-2fc0238828a2",
        "colab": {
          "base_uri": "https://localhost:8080/"
        }
      },
      "execution_count": 5,
      "outputs": [
        {
          "output_type": "stream",
          "name": "stdout",
          "text": [
            "+-----------------+------------+------+\n",
            "| Property        |      Value | Unit |\n",
            "+-----------------+------------+------+\n",
            "| Temperature     |  1273.1500 |    K |\n",
            "| Pressure        |   100.0000 |  bar |\n",
            "| Charge:         | 0.0000e+00 |  mol |\n",
            "| Element Amount: |            |      |\n",
            "| :: H            | 4.0000e+00 |  mol |\n",
            "| :: C            | 1.0000e+00 |  mol |\n",
            "| :: O            | 1.0000e+00 |  mol |\n",
            "| Species Amount: |            |      |\n",
            "| :: CH4          | 3.7606e-01 |  mol |\n",
            "| :: O2           | 1.0000e-16 |  mol |\n",
            "| :: CO2          | 9.3630e-02 |  mol |\n",
            "| :: CO           | 5.3031e-01 |  mol |\n",
            "| :: H2O          | 2.8243e-01 |  mol |\n",
            "| :: H2           | 9.6544e-01 |  mol |\n",
            "+-----------------+------------+------+\n"
          ]
        }
      ]
    }
  ]
}