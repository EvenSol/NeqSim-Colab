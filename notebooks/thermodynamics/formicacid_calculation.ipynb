{
  "nbformat": 4,
  "nbformat_minor": 0,
  "metadata": {
    "colab": {
      "provenance": [],
      "authorship_tag": "ABX9TyOtNrww3qVA988acIw8Zi/T",
      "include_colab_link": true
    },
    "kernelspec": {
      "name": "python3",
      "display_name": "Python 3"
    },
    "language_info": {
      "name": "python"
    }
  },
  "cells": [
    {
      "cell_type": "markdown",
      "metadata": {
        "id": "view-in-github",
        "colab_type": "text"
      },
      "source": [
        "<a href=\"https://colab.research.google.com/github/EvenSol/NeqSim-Colab/blob/master/notebooks/thermodynamics/formicacid_calculation.ipynb\" target=\"_parent\"><img src=\"https://colab.research.google.com/assets/colab-badge.svg\" alt=\"Open In Colab\"/></a>"
      ]
    },
    {
      "cell_type": "code",
      "execution_count": 7,
      "metadata": {
        "id": "dAkfgZVgBK1B"
      },
      "outputs": [],
      "source": [
        "%%capture\n",
        "!pip install neqsim==3.0.7"
      ]
    },
    {
      "cell_type": "markdown",
      "source": [
        "## Calculation of Acid Partitioning in Water, Oil, and Gas\n",
        "\n",
        "This document provides an introduction and theoretical background for calculating acid partitioning using the NeqSim library in Python.\n",
        "\n",
        "### Introduction\n",
        "\n",
        "The code provided utilizes the NeqSim library to perform thermodynamic calculations, focusing on acid partitioning. This involves determining the distribution of acid components (e.g., formic acid, acetic acid) between different phases: water, oil, and gas. Understanding this distribution is crucial in various chemical and process engineering applications.\n",
        "\n",
        "**Code Functionality:**\n",
        "\n",
        "1. **Fluid Definition:** Defines a fluid using an equation of state (EOS), like \"cpa\" (Cubic-Plus-Association). Components (acid, water, methane) are added to the fluid.\n",
        "2. **Mixing Rule and Phase Check:** Sets the mixing rule and enables multiphase check to account for component interactions and phase separation.\n",
        "3. **Conditions:** Defines the system's temperature and pressure, influencing acid partitioning.\n",
        "4. **Flash Calculation:** Uses the `TPflash` function to perform a thermodynamic flash calculation, determining the equilibrium state and component distribution between phases.\n",
        "5. **Output:** Displays the results using `printFrame`, showing the composition of each phase and the acid distribution.\n"
      ],
      "metadata": {
        "id": "8y9MFfSb89tl"
      }
    },
    {
      "cell_type": "markdown",
      "source": [
        "# Calculations\n",
        "In the following examples we calculate partitioning of formic aand acetic acid in a water and gas system."
      ],
      "metadata": {
        "id": "75gMSTg0BQbG"
      }
    },
    {
      "cell_type": "code",
      "source": [
        "from neqsim.thermo.thermoTools import fluid, TPflash, printFrame\n",
        "\n",
        "# Define the equation of state (EOS) to be used\n",
        "eosname = \"cpa\"  # Cubic-Plus-Association EOS\n",
        "\n",
        "# Create a fluid object using the specified EOS\n",
        "fluid1 = fluid(eosname)\n",
        "\n",
        "# Add components to the fluid with their respective flow rates and units\n",
        "fluid1.addComponent('methane', 1.0, 'kg/hr')  # Add methane (gas phase)\n",
        "fluid1.addComponent(\"formic acid\", 0.1, 'kg/hr')  # Add formic acid (acid component)\n",
        "fluid1.addComponent(\"water\", 100.0, 'kg/hr')  # Add water (aqueous phase)\n",
        "\n",
        "# Set the mixing rule for the fluid (mixing rule 10 is often used for aqueous systems)\n",
        "fluid1.setMixingRule(10)\n",
        "\n",
        "# Enable multiphase check to allow for phase separation\n",
        "fluid1.setMultiPhaseCheck(True)\n",
        "\n",
        "# Set the temperature and pressure of the system\n",
        "fluid1.setTemperature(70.0, 'C')  # Temperature in Celsius\n",
        "fluid1.setPressure(25.0, 'bara')  # Pressure in bar absolute\n",
        "\n",
        "# Perform a thermodynamic flash calculation to determine phase equilibrium\n",
        "TPflash(fluid1)\n",
        "\n",
        "# Print the results of the flash calculation, including phase compositions\n",
        "printFrame(fluid1)"
      ],
      "metadata": {
        "colab": {
          "base_uri": "https://localhost:8080/"
        },
        "id": "8dtDxfBFBYg4",
        "outputId": "8fdb151a-ad88-437c-83c8-5801ed2efc8a"
      },
      "execution_count": 8,
      "outputs": [
        {
          "output_type": "stream",
          "name": "stdout",
          "text": [
            "| 0                    | 1          | 2                    | 3                    | 4   | 5   | 6               |\n",
            "|:---------------------|:-----------|:---------------------|:---------------------|:----|:----|:----------------|\n",
            "|                      | total      | GAS                  | AQUEOUS              |     |     |                 |\n",
            "| methane              | 1.11002E-2 | 9.79445E-1           | 3.76485E-4           |     |     | [mole fraction] |\n",
            "| formic acid          | 3.86918E-4 | 7.38134E-3           | 3.0946E-4            |     |     | [mole fraction] |\n",
            "| water                | 9.88513E-1 | 1.31736E-2           | 9.99314E-1           |     |     | [mole fraction] |\n",
            "|                      |            |                      |                      |     |     |                 |\n",
            "| Density              |            | 1.46064E1            | 9.80802E2            |     |     | kg/m3           |\n",
            "| Phase Fraction       |            | 1.0953E-2            | 9.89047E-1           |     |     | [mole fraction] |\n",
            "| Molar Mass           | 1.80039E-2 | 1.62903E-2           | 1.80229E-2           |     |     | kg/mol          |\n",
            "| Z factor             |            | 9.77253E-1           | 1.61015E-2           |     |     | [-]             |\n",
            "| Heat Capacity (Cp)   |            | 2.44538E0            | 3.90709E0            |     |     | kJ/kgK          |\n",
            "| Heat Capacity (Cv)   |            | 1.83563E0            | 3.46272E0            |     |     | kJ/kgK          |\n",
            "| Speed of Sound       |            | 4.7242E2             | 1.57618E3            |     |     | m/sec           |\n",
            "| Enthalpy             | -2.16691E6 | 1.35843E5            | -2.18996E6           |     |     | J/kg            |\n",
            "| Entropy              | -5.74249E3 | -1.11723E3           | -5.78879E3           |     |     | J/kgK           |\n",
            "| JT coefficient       |            | 3.29146E-1           | -1.93785E-2          |     |     | C/bar           |\n",
            "|                      |            |                      |                      |     |     |                 |\n",
            "| Viscosity            |            | 1.28842E-5           | 4.00536E-4           |     |     | kg/msec         |\n",
            "| Thermal Conductivity |            | 4.28307E-2           | 6.66707E-1           |     |     | W/mK            |\n",
            "| Surface Tension      |            | 6.00551E-2           | 6.00551E-2           |     |     | [N/m]           |\n",
            "|                      |            |                      |                      |     |     |                 |\n",
            "|                      |            |                      |                      |     |     |                 |\n",
            "|                      |            |                      |                      |     |     |                 |\n",
            "| Pressure             |            | 25.0                 | 25.0                 |     |     | bara            |\n",
            "| Temperature          |            | 70.0                 | 70.0                 |     |     | C               |\n",
            "|                      |            |                      |                      |     |     |                 |\n",
            "| Model                |            | CPAs-SRK-EOS-statoil | CPAs-SRK-EOS-statoil |     |     | -               |\n",
            "| Mixing Rule          |            | classic-CPA_T        | classic-CPA_T        |     |     | -               |\n",
            "|                      |            |                      |                      |     |     |                 |\n",
            "| Stream               |            |                      |                      |     |     | -               |\n",
            "|                      |            |                      |                      |     |     |                 |\n",
            "|                      |            |                      |                      |     |     |                 |\n",
            "|                      |            |                      |                      |     |     |                 |\n",
            "|                      |            |                      |                      |     |     |                 |\n"
          ]
        }
      ]
    },
    {
      "cell_type": "code",
      "source": [
        "from neqsim.thermo.thermoTools import fluid, TPflash, printFrame\n",
        "\n",
        "# Define the equation of state (EOS) to be used\n",
        "eosname = \"cpa\"  # Cubic-Plus-Association EOS, suitable for systems with polar components like water and acids\n",
        "\n",
        "# Create a fluid object using the specified EOS\n",
        "fluid1 = fluid(eosname)\n",
        "\n",
        "# Add components to the fluid with their respective flow rates and units\n",
        "fluid1.addComponent('methane', 1.0, 'kg/hr')  # Add methane (gas phase)\n",
        "fluid1.addComponent(\"AceticAcid\", 0.1, 'kg/hr')  # Add acetic acid (acid component)\n",
        "fluid1.addComponent(\"water\", 100.0, 'kg/hr')  # Add water (aqueous phase)\n",
        "\n",
        "# Set the mixing rule for the fluid\n",
        "# Mixing rule 10 (Classic Mixing Rule) is often used for aqueous systems with polar components\n",
        "fluid1.setMixingRule(10)\n",
        "\n",
        "# Enable multiphase check to allow for phase separation (e.g., gas, liquid)\n",
        "fluid1.setMultiPhaseCheck(True)\n",
        "\n",
        "# Set the temperature and pressure of the system\n",
        "fluid1.setTemperature(70.0, 'C')  # Temperature in Celsius\n",
        "fluid1.setPressure(25.0, 'bara')  # Pressure in bar absolute\n",
        "\n",
        "# Perform a thermodynamic flash calculation to determine phase equilibrium\n",
        "# This calculation determines the distribution of components between phases\n",
        "TPflash(fluid1)\n",
        "\n",
        "# Print the results of the flash calculation, including phase compositions\n",
        "# This will show the amount of acetic acid in each phase (water, gas)\n",
        "printFrame(fluid1)"
      ],
      "metadata": {
        "colab": {
          "base_uri": "https://localhost:8080/"
        },
        "id": "Xo67jZZN8TVo",
        "outputId": "8c3278c6-e7eb-415d-e28a-e710bda3c896"
      },
      "execution_count": 9,
      "outputs": [
        {
          "output_type": "stream",
          "name": "stdout",
          "text": [
            "| 0                    | 1          | 2                    | 3                    | 4   | 5   | 6               |\n",
            "|:---------------------|:-----------|:---------------------|:---------------------|:----|:----|:----------------|\n",
            "|                      | total      | GAS                  | AQUEOUS              |     |     |                 |\n",
            "| methane              | 1.11012E-2 | 9.78073E-1           | 3.76071E-4           |     |     | [mole fraction] |\n",
            "| AceticAcid           | 2.96566E-4 | 8.75135E-3           | 2.0279E-4            |     |     | [mole fraction] |\n",
            "| water                | 9.88602E-1 | 1.31759E-2           | 9.99421E-1           |     |     | [mole fraction] |\n",
            "|                      |            |                      |                      |     |     |                 |\n",
            "| Density              |            | 1.47622E1            | 9.80691E2            |     |     | kg/m3           |\n",
            "| Phase Fraction       |            | 1.09698E-2           | 9.8903E-1            |     |     | [mole fraction] |\n",
            "| Molar Mass           | 1.80056E-2 | 1.64541E-2           | 1.80228E-2           |     |     | kg/mol          |\n",
            "| Z factor             |            | 9.76666E-1           | 1.61032E-2           |     |     | [-]             |\n",
            "| Heat Capacity (Cp)   |            | 2.39328E0            | 3.9065E0             |     |     | kJ/kgK          |\n",
            "| Heat Capacity (Cv)   |            | 1.7882E0             | 3.46216E0            |     |     | kJ/kgK          |\n",
            "| Speed of Sound       |            | 4.70874E2            | 1.5763E3             |     |     | m/sec           |\n",
            "| Enthalpy             | -2.16692E6 | 1.32255E5            | -2.1902E6            |     |     | J/kg            |\n",
            "| Entropy              | -5.74269E3 | -1.10964E3           | -5.7896E3            |     |     | J/kgK           |\n",
            "| JT coefficient       |            | 3.38312E-1           | -1.93843E-2          |     |     | C/bar           |\n",
            "|                      |            |                      |                      |     |     |                 |\n",
            "| Viscosity            |            | 1.29195E-5           | 4.13668E-4           |     |     | kg/msec         |\n",
            "| Thermal Conductivity |            | 4.20536E-2           | 6.66783E-1           |     |     | W/mK            |\n",
            "| Surface Tension      |            | 6.006E-2             | 6.006E-2             |     |     | [N/m]           |\n",
            "|                      |            |                      |                      |     |     |                 |\n",
            "|                      |            |                      |                      |     |     |                 |\n",
            "|                      |            |                      |                      |     |     |                 |\n",
            "| Pressure             |            | 25.0                 | 25.0                 |     |     | bara            |\n",
            "| Temperature          |            | 70.0                 | 70.0                 |     |     | C               |\n",
            "|                      |            |                      |                      |     |     |                 |\n",
            "| Model                |            | CPAs-SRK-EOS-statoil | CPAs-SRK-EOS-statoil |     |     | -               |\n",
            "| Mixing Rule          |            | classic-CPA_T        | classic-CPA_T        |     |     | -               |\n",
            "|                      |            |                      |                      |     |     |                 |\n",
            "| Stream               |            |                      |                      |     |     | -               |\n",
            "|                      |            |                      |                      |     |     |                 |\n",
            "|                      |            |                      |                      |     |     |                 |\n",
            "|                      |            |                      |                      |     |     |                 |\n",
            "|                      |            |                      |                      |     |     |                 |\n"
          ]
        }
      ]
    }
  ]
}