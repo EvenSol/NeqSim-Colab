{
  "nbformat": 4,
  "nbformat_minor": 0,
  "metadata": {
    "colab": {
      "provenance": [],
      "authorship_tag": "ABX9TyPMvyF+mLqHRB6d23uNyseJ",
      "include_colab_link": true
    },
    "kernelspec": {
      "name": "python3",
      "display_name": "Python 3"
    },
    "language_info": {
      "name": "python"
    }
  },
  "cells": [
    {
      "cell_type": "markdown",
      "metadata": {
        "id": "view-in-github",
        "colab_type": "text"
      },
      "source": [
        "<a href=\"https://colab.research.google.com/github/EvenSol/NeqSim-Colab/blob/master/notebooks/thermodynamics/water_ammonia_properties.ipynb\" target=\"_parent\"><img src=\"https://colab.research.google.com/assets/colab-badge.svg\" alt=\"Open In Colab\"/></a>"
      ]
    },
    {
      "cell_type": "code",
      "execution_count": 1,
      "metadata": {
        "colab": {
          "base_uri": "https://localhost:8080/"
        },
        "id": "M9GWLsWxhbUl",
        "outputId": "04ba88b8-61da-47ec-8ce8-a636d1b135a7"
      },
      "outputs": [
        {
          "output_type": "stream",
          "name": "stdout",
          "text": [
            "\u001b[2K   \u001b[90m━━━━━━━━━━━━━━━━━━━━━━━━━━━━━━━━━━━━━━━━\u001b[0m \u001b[32m62.9/62.9 MB\u001b[0m \u001b[31m12.1 MB/s\u001b[0m eta \u001b[36m0:00:00\u001b[0m\n",
            "\u001b[2K   \u001b[90m━━━━━━━━━━━━━━━━━━━━━━━━━━━━━━━━━━━━━━━━\u001b[0m \u001b[32m495.9/495.9 kB\u001b[0m \u001b[31m31.9 MB/s\u001b[0m eta \u001b[36m0:00:00\u001b[0m\n",
            "\u001b[?25h"
          ]
        }
      ],
      "source": [
        "!pip install neqsim -q"
      ]
    },
    {
      "cell_type": "markdown",
      "source": [
        "# Water properties\n",
        "\n",
        "https://www.thermo.ruhr-uni-bochum.de/thermo/forschung/wagner_IAPWS-IF97.html.de"
      ],
      "metadata": {
        "id": "ocia8ajwheZj"
      }
    },
    {
      "cell_type": "code",
      "source": [
        "from neqsim import jneqsim\n",
        "\n",
        "from neqsim.thermo import TPflash, printFrame,bubt,dewt\n",
        "from neqsim.process import stream,runProcess,clearProcess"
      ],
      "metadata": {
        "id": "wTVIjQ5Jhg3D"
      },
      "execution_count": 32,
      "outputs": []
    },
    {
      "cell_type": "code",
      "source": [
        "water = jneqsim.thermo.system.SystemWaterIF97()\n",
        "water.addComponent('water', 1.0)\n",
        "water.setTemperature(100, 'C')\n",
        "water.setPressure(12.01325)\n",
        "\n",
        "TPflash(water)\n",
        "\n",
        "printFrame(water)\n",
        "\n",
        "clearProcess()\n",
        "stream_water = stream('water_s1', water)\n",
        "stream_water.setFlowRate(100.0, 'kg/hr')\n",
        "stream_water.setTemperature(20, 'C')\n",
        "stream_water.setPressure(101325, 'Pa')\n",
        "#stream_water.run()\n",
        "\n",
        "runProcess()\n",
        "\n",
        "print('stream properties.....')\n",
        "\n",
        "printFrame(stream_water.getFluid())"
      ],
      "metadata": {
        "colab": {
          "base_uri": "https://localhost:8080/"
        },
        "id": "QpnLN6lmhiuV",
        "outputId": "f4b39421-b73e-4358-8fcb-2cd94d1c4092"
      },
      "execution_count": 36,
      "outputs": [
        {
          "output_type": "stream",
          "name": "stdout",
          "text": [
            "| 0                    | 1         | 2          | 3   | 4   | 5   | 6               |\n",
            "|:---------------------|:----------|:-----------|:----|:----|:----|:----------------|\n",
            "|                      | total     | AQUEOUS    |     |     |     |                 |\n",
            "| water                | 1E0       | 1E0        |     |     |     | [mole fraction] |\n",
            "|                      |           |            |     |     |     |                 |\n",
            "| Density              |           | 9.58869E7  |     |     |     | kg/m3           |\n",
            "| Phase Fraction       |           | 1E0        |     |     |     | [mole fraction] |\n",
            "| Molar Mass           | 1.8015E-2 | 1.8015E-2  |     |     |     | kg/mol          |\n",
            "| Z factor             |           | 7.27475E-8 |     |     |     | [-]             |\n",
            "| Heat Capacity (Cp)   |           | 4.21412E0  |     |     |     | kJ/kgK          |\n",
            "| Heat Capacity (Cv)   |           | 3.75259E0  |     |     |     | kJ/kgK          |\n",
            "| Speed of Sound       |           | 1.54734E3  |     |     |     | m/sec           |\n",
            "| Enthalpy             | 4.19925E5 | 4.19925E5  |     |     |     | J/kg            |\n",
            "| Entropy              | 1.30615E3 | 1.30615E3  |     |     |     | J/kgK           |\n",
            "| JT coefficient       |           | NaN        |     |     |     | C/bar           |\n",
            "|                      |           |            |     |     |     |                 |\n",
            "| Viscosity            |           | 2.82144E-4 |     |     |     | kg/msec         |\n",
            "| Thermal Conductivity |           | 6.88073E-1 |     |     |     | W/mK            |\n",
            "| Surface Tension      |           |            |     |     |     | [N/m]           |\n",
            "|                      |           |            |     |     |     |                 |\n",
            "|                      |           |            |     |     |     |                 |\n",
            "|                      |           |            |     |     |     |                 |\n",
            "| Pressure             |           | 12.01325   |     |     |     | bara            |\n",
            "| Temperature          |           | 100.0      |     |     |     | C               |\n",
            "|                      |           |            |     |     |     |                 |\n",
            "| Model                |           | IAPWS-IF97 |     |     |     | -               |\n",
            "| Mixing Rule          |           | no (kij=0) |     |     |     | -               |\n",
            "|                      |           |            |     |     |     |                 |\n",
            "| Stream               |           |            |     |     |     | -               |\n",
            "|                      |           |            |     |     |     |                 |\n",
            "|                      |           |            |     |     |     |                 |\n",
            "|                      |           |            |     |     |     |                 |\n",
            "|                      |           |            |     |     |     |                 |\n",
            "stream properties.....\n",
            "| 0                    | 1         | 2          | 3   | 4   | 5   | 6               |\n",
            "|:---------------------|:----------|:-----------|:----|:----|:----|:----------------|\n",
            "|                      | total     | AQUEOUS    |     |     |     |                 |\n",
            "| water                | 1E0       | 1E0        |     |     |     | [mole fraction] |\n",
            "|                      |           |            |     |     |     |                 |\n",
            "| Density              |           | 9.98206E7  |     |     |     | kg/m3           |\n",
            "| Phase Fraction       |           | 1E0        |     |     |     | [mole fraction] |\n",
            "| Molar Mass           | 1.8015E-2 | 1.8015E-2  |     |     |     | kg/mol          |\n",
            "| Z factor             |           | 7.50251E-9 |     |     |     | [-]             |\n",
            "| Heat Capacity (Cp)   |           | 4.18479E0  |     |     |     | kJ/kgK          |\n",
            "| Heat Capacity (Cv)   |           | 3.72327E0  |     |     |     | kJ/kgK          |\n",
            "| Speed of Sound       |           | 1.48342E3  |     |     |     | m/sec           |\n",
            "| Enthalpy             | 8.40131E4 | 8.40131E4  |     |     |     | J/kg            |\n",
            "| Entropy              | 2.96483E2 | 2.96483E2  |     |     |     | J/kgK           |\n",
            "| JT coefficient       |           | NaN        |     |     |     | C/bar           |\n",
            "|                      |           |            |     |     |     |                 |\n",
            "| Viscosity            |           | 1.00387E-3 |     |     |     | kg/msec         |\n",
            "| Thermal Conductivity |           | 6.07619E-1 |     |     |     | W/mK            |\n",
            "| Surface Tension      |           |            |     |     |     | [N/m]           |\n",
            "|                      |           |            |     |     |     |                 |\n",
            "|                      |           |            |     |     |     |                 |\n",
            "|                      |           |            |     |     |     |                 |\n",
            "| Pressure             |           | 1.01325    |     |     |     | bara            |\n",
            "| Temperature          |           | 20.0       |     |     |     | C               |\n",
            "|                      |           |            |     |     |     |                 |\n",
            "| Model                |           | IAPWS-IF97 |     |     |     | -               |\n",
            "| Mixing Rule          |           | no (kij=0) |     |     |     | -               |\n",
            "|                      |           |            |     |     |     |                 |\n",
            "| Stream               |           |            |     |     |     | -               |\n",
            "|                      |           |            |     |     |     |                 |\n",
            "|                      |           |            |     |     |     |                 |\n",
            "|                      |           |            |     |     |     |                 |\n",
            "|                      |           |            |     |     |     |                 |\n"
          ]
        }
      ]
    },
    {
      "cell_type": "markdown",
      "source": [
        "# Ammonia properties"
      ],
      "metadata": {
        "id": "tm1NQIKnkbxn"
      }
    },
    {
      "cell_type": "code",
      "source": [
        "ammonia = jneqsim.thermo.system.SystemAmmoniaEos()\n",
        "ammonia.addComponent('ammonia', 1.0)\n",
        "ammonia.setTemperature(30, 'C')\n",
        "ammonia.setPressure(1.01325, 'bara')\n",
        "\n",
        "bubt(ammonia)\n",
        "\n",
        "printFrame(ammonia)\n",
        "\n",
        "ammonia = jneqsim.thermo.system.SystemAmmoniaEos()\n",
        "ammonia.addComponent('ammonia', 1.0)\n",
        "ammonia.setTemperature(30, 'C')\n",
        "ammonia.setPressure(10.0, 'bara')\n",
        "\n",
        "TPflash(ammonia)\n",
        "\n",
        "printFrame(ammonia)"
      ],
      "metadata": {
        "colab": {
          "base_uri": "https://localhost:8080/"
        },
        "id": "YIq8YjfFkefX",
        "outputId": "e61eeb0d-e9ca-404a-88a5-6ac1471f7df3"
      },
      "execution_count": 43,
      "outputs": [
        {
          "output_type": "stream",
          "name": "stdout",
          "text": [
            "| 0                    | 1         | 2                  | 3                 | 4   | 5   | 6               |\n",
            "|:---------------------|:----------|:-------------------|:------------------|:----|:----|:----------------|\n",
            "|                      | total     | GAS                | LIQUID            |     |     |                 |\n",
            "| ammonia              | 1E0       | 1E0                | 1E0               |     |     | [mole fraction] |\n",
            "|                      |           |                    |                   |     |     |                 |\n",
            "| Density              |           | 6.19885E4          | 1.62822E7         |     |     | kg/m3           |\n",
            "| Phase Fraction       |           | 1E-10              | 1E0               |     |     | [mole fraction] |\n",
            "| Molar Mass           | 1.7031E-2 | 1.7031E-2          | 1.7031E-2         |     |     | kg/mol          |\n",
            "| Z factor             |           | 9.9152E-6          | 3.77486E-8        |     |     | [-]             |\n",
            "| Heat Capacity (Cp)   |           | 2.19737E0          | 1.06792E1         |     |     | kJ/kgK          |\n",
            "| Heat Capacity (Cv)   |           | 1.69219E0          | 1.17848E1         |     |     | kJ/kgK          |\n",
            "| Speed of Sound       |           | 4.59641E2          | 6.83819E2         |     |     | m/sec           |\n",
            "| Enthalpy             | 4.37949E5 | 1.77655E6          | 4.37949E5         |     |     | J/kg            |\n",
            "| Entropy              | 2.1852E3  | 7.35152E3          | 2.1852E3          |     |     | J/kgK           |\n",
            "| JT coefficient       |           | 2.56117E0          | -3.85081E-3       |     |     | C/bar           |\n",
            "|                      |           |                    |                   |     |     |                 |\n",
            "| Viscosity            |           | 8.88978E-6         | 5.95941E-5        |     |     | kg/msec         |\n",
            "| Thermal Conductivity |           | 4.00595E-2         | 4.00595E-2        |     |     | W/mK            |\n",
            "| Surface Tension      |           | 3.2945E5           | 3.2945E5          |     |     | [N/m]           |\n",
            "|                      |           |                    |                   |     |     |                 |\n",
            "|                      |           |                    |                   |     |     |                 |\n",
            "|                      |           |                    |                   |     |     |                 |\n",
            "| Pressure             |           | 1.0132500000000002 | 1.01325000000114  |     |     | bara            |\n",
            "| Temperature          |           | 64.53358657814573  | 64.53358657814573 |     |     | C               |\n",
            "|                      |           |                    |                   |     |     |                 |\n",
            "| Model                |           | Ammonia-EOS        | Ammonia-EOS       |     |     | -               |\n",
            "| Mixing Rule          |           | no (kij=0)         | no (kij=0)        |     |     | -               |\n",
            "|                      |           |                    |                   |     |     |                 |\n",
            "| Stream               |           |                    |                   |     |     | -               |\n",
            "|                      |           |                    |                   |     |     |                 |\n",
            "|                      |           |                    |                   |     |     |                 |\n",
            "|                      |           |                    |                   |     |     |                 |\n",
            "|                      |           |                    |                   |     |     |                 |\n",
            "| 0                    | 1         | 2                 | 3   | 4   | 5   | 6               |\n",
            "|:---------------------|:----------|:------------------|:----|:----|:----|:----------------|\n",
            "|                      | total     | GAS               |     |     |     |                 |\n",
            "| ammonia              | 1E0       | 1E0               |     |     |     | [mole fraction] |\n",
            "|                      |           |                   |     |     |     |                 |\n",
            "| Density              |           | 8.0292E5          |     |     |     | kg/m3           |\n",
            "| Phase Fraction       |           | 1E0               |     |     |     | [mole fraction] |\n",
            "| Molar Mass           | 1.7031E-2 | 1.7031E-2         |     |     |     | kg/mol          |\n",
            "| Z factor             |           | 8.41543E-6        |     |     |     | [-]             |\n",
            "| Heat Capacity (Cp)   |           | 2.93553E0         |     |     |     | kJ/kgK          |\n",
            "| Heat Capacity (Cv)   |           | 2.06684E0         |     |     |     | kJ/kgK          |\n",
            "| Speed of Sound       |           | 4.03444E2         |     |     |     | m/sec           |\n",
            "| Enthalpy             | 1.61481E6 | 1.61481E6         |     |     |     | J/kg            |\n",
            "| Entropy              | 5.77613E3 | 5.77613E3         |     |     |     | J/kgK           |\n",
            "| JT coefficient       |           | 4.14394E0         |     |     |     | C/bar           |\n",
            "|                      |           |                   |     |     |     |                 |\n",
            "| Viscosity            |           | 1.12059E-5        |     |     |     | kg/msec         |\n",
            "| Thermal Conductivity |           | 3.63534E-2        |     |     |     | W/mK            |\n",
            "| Surface Tension      |           |                   |     |     |     | [N/m]           |\n",
            "|                      |           |                   |     |     |     |                 |\n",
            "|                      |           |                   |     |     |     |                 |\n",
            "|                      |           |                   |     |     |     |                 |\n",
            "| Pressure             |           | 9.999999999999996 |     |     |     | bara            |\n",
            "| Temperature          |           | 30.0              |     |     |     | C               |\n",
            "|                      |           |                   |     |     |     |                 |\n",
            "| Model                |           | Ammonia-EOS       |     |     |     | -               |\n",
            "| Mixing Rule          |           | no (kij=0)        |     |     |     | -               |\n",
            "|                      |           |                   |     |     |     |                 |\n",
            "| Stream               |           |                   |     |     |     | -               |\n",
            "|                      |           |                   |     |     |     |                 |\n",
            "|                      |           |                   |     |     |     |                 |\n",
            "|                      |           |                   |     |     |     |                 |\n",
            "|                      |           |                   |     |     |     |                 |\n"
          ]
        }
      ]
    }
  ]
}