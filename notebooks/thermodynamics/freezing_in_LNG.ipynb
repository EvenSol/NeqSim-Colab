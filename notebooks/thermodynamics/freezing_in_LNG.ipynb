{
  "nbformat": 4,
  "nbformat_minor": 0,
  "metadata": {
    "colab": {
      "name": "freezing in LNG.ipynb",
      "provenance": [],
      "collapsed_sections": [],
      "include_colab_link": true
    },
    "kernelspec": {
      "name": "python3",
      "display_name": "Python 3"
    }
  },
  "cells": [
    {
      "cell_type": "markdown",
      "metadata": {
        "id": "view-in-github",
        "colab_type": "text"
      },
      "source": [
        "<a href=\"https://colab.research.google.com/github/EvenSol/NeqSim-Colab/blob/master/notebooks/thermodynamics/freezing_in_LNG.ipynb\" target=\"_parent\"><img src=\"https://colab.research.google.com/assets/colab-badge.svg\" alt=\"Open In Colab\"/></a>"
      ]
    },
    {
      "cell_type": "code",
      "metadata": {
        "id": "9zm3luRxnQXr",
        "cellView": "form"
      },
      "source": [
        "#@title Calculation of freezing point in LNG\n",
        "#@markdown Demonstration of calculations of freezing points in LNG processing\n",
        "%%capture\n",
        "!pip install neqsim==2.5.35\n",
        "import neqsim\n",
        "from neqsim.thermo.thermoTools import *\n",
        "import matplotlib\n",
        "import numpy as np\n",
        "import matplotlib.pyplot as plt\n",
        "import math\n",
        "%matplotlib inline"
      ],
      "execution_count": 1,
      "outputs": []
    },
    {
      "cell_type": "code",
      "metadata": {
        "id": "mruccT7JaGZT",
        "cellView": "form",
        "colab": {
          "base_uri": "https://localhost:8080/",
          "height": 421
        },
        "outputId": "8df3a21c-367d-444e-d672-2f91472108f1"
      },
      "source": [
        "#@title Introduction to freezing in LNG\n",
        "#@markdown This video gives an intriduction to freezing of CO2 in LNG processing\n",
        "from IPython.display import YouTubeVideo\n",
        "YouTubeVideo('RvoeLXCaSig', width=600, height=400)"
      ],
      "execution_count": 2,
      "outputs": [
        {
          "output_type": "execute_result",
          "data": {
            "text/html": [
              "\n",
              "        <iframe\n",
              "            width=\"600\"\n",
              "            height=\"400\"\n",
              "            src=\"https://www.youtube.com/embed/RvoeLXCaSig\"\n",
              "            frameborder=\"0\"\n",
              "            allowfullscreen\n",
              "        ></iframe>\n",
              "        "
            ],
            "text/plain": [
              "<IPython.lib.display.YouTubeVideo at 0x7f62c25b6ed0>"
            ],
            "image/jpeg": "[encoded data removed]"
          },
          "metadata": {
            "tags": []
          },
          "execution_count": 2
        }
      ]
    },
    {
      "cell_type": "markdown",
      "metadata": {
        "id": "PDd0WZz9jB-s"
      },
      "source": [
        "# Calculation off freezing point in LNG\n",
        "\n",
        "In the following example we use PR/SRK to claculate the freezing point in an LNG mixture"
      ]
    },
    {
      "cell_type": "code",
      "metadata": {
        "id": "XmRyGw9WnemV",
        "colab": {
          "base_uri": "https://localhost:8080/",
          "height": 313
        },
        "outputId": "94339616-6151-4932-a818-627e0f903354"
      },
      "source": [
        "camponentName = \"methane\" #@param [\"methane\", \"ethane\", \"CO2\"]\n",
        "eos = \"srk\" #@param [\"srk\", \"pr\"]\n",
        "fluid1 = fluid(eos) #create a fluid using the SRK-EoS\n",
        "fluid1.addComponent(camponentName, 1.0) #adding 1 mole methane to the fluid\n",
        "\n",
        "TTrip = fluid1.getPhase(0).getComponent(camponentName).getTriplePointTemperature()\n",
        "PTrip = fluid1.getPhase(0).getComponent(camponentName).getTriplePointPressure()\n",
        "Tcritical = fluid1.getPhase(0).getComponent(camponentName).getTC()\n",
        "Pcritical = fluid1.getPhase(0).getComponent(camponentName).getPC()\n",
        "\n",
        "fluid1.setTemperature(TTrip)\n",
        "fluid1.setPressure(PTrip)\n",
        "print('triple point temperature ', TTrip, \"[K] and pressure \", PTrip, \"[bara]\")\n",
        "print('critical temperature ', Tcritical, \"[K] and pressure \", Pcritical, \"[bara]\")\n",
        "\n",
        "def bubleP(pressure):\n",
        "    fluid1.setPressure(pressure)\n",
        "    bubt(fluid1)\n",
        "    return fluid1.getTemperature('C')\n",
        "\n",
        "pressure = np.arange(PTrip, Pcritical-15.0, 1.0)\n",
        "temperature = [bubleP(P) for P in pressure]\n",
        "\n",
        "plt.plot(temperature, pressure);\n",
        "plt.yscale('log')\n",
        "plt.xlabel('Temperature [C]');\n",
        "plt.ylabel('Pressure [bara]');"
      ],
      "execution_count": 3,
      "outputs": [
        {
          "output_type": "stream",
          "text": [
            "triple point temperature  90.69 [K] and pressure  0.116656057 [bara]\n",
            "critical temperature  190.55999999999997 [K] and pressure  45.99 [bara]\n"
          ],
          "name": "stdout"
        },
        {
          "output_type": "display_data",
          "data": {
            "image/png": "[encoded data removed]",
            "text/plain": [
              "<Figure size 432x288 with 1 Axes>"
            ]
          },
          "metadata": {
            "tags": [],
            "needs_background": "light"
          }
        }
      ]
    },
    {
      "cell_type": "markdown",
      "metadata": {
        "id": "_NBQYd6h5lip"
      },
      "source": [
        "# A TPflash with mercury\n",
        "\n",
        "Calculate the composition of a fluid including mercury"
      ]
    },
    {
      "cell_type": "code",
      "metadata": {
        "id": "C0-TETkB58hU",
        "cellView": "form",
        "colab": {
          "base_uri": "https://localhost:8080/"
        },
        "outputId": "c97c9b2a-da39-4202-9b5a-06fd6f9acb99"
      },
      "source": [
        "componentName = \"methane\" #@param [\"methane\", \"ethane\", \"propane\", \"CO2\", \"nitrogen\"]\n",
        "temperature = 55.0   #@param {type:\"number\"}\n",
        "pressure = 10.0 #@param {type:\"number\"}\n",
        "\n",
        "\n",
        "# Creating a fluid in neqsim\n",
        "fluid1 = fluid('srk') #create a fluid using the SRK-EoS\n",
        "fluid1.addComponent(componentName, 1.0) \n",
        "fluid1.addComponent('mercury', 1.0)\n",
        "fluid1.setTemperature(temperature)\n",
        "fluid1.setPressure(pressure)\n",
        "fluid1.setMultiPhaseCheck(True)\n",
        "\n",
        "fluid1.setTemperature(temperature+273.15)\n",
        "fluid1.setPressure(pressure)\n",
        "TPflash(fluid1)\n",
        "fluid1.initPhysicalProperties()\n",
        "print('mercury in ', fluid1.getPhase(0).getPhaseTypeName(), ' ',fluid1.getPhase(0).getComponent(0).getComponentName(), ' ', fluid1.getPhase(0).getComponent('mercury').getx())"
      ],
      "execution_count": 4,
      "outputs": [
        {
          "output_type": "stream",
          "text": [
            "mercury in  gas   methane   7.573992808703628e-07\n"
          ],
          "name": "stdout"
        }
      ]
    }
  ]
}