{
  "nbformat": 4,
  "nbformat_minor": 0,
  "metadata": {
    "colab": {
      "provenance": [],
      "authorship_tag": "ABX9TyN8GzxcfsVqtNdqpdaD4VJ0",
      "include_colab_link": true
    },
    "kernelspec": {
      "name": "python3",
      "display_name": "Python 3"
    },
    "language_info": {
      "name": "python"
    }
  },
  "cells": [
    {
      "cell_type": "markdown",
      "metadata": {
        "id": "view-in-github",
        "colab_type": "text"
      },
      "source": [
        "<a href=\"https://colab.research.google.com/github/EvenSol/NeqSim-Colab/blob/master/notebooks/thermodynamics/flash_with_salt_water.ipynb\" target=\"_parent\"><img src=\"https://colab.research.google.com/assets/colab-badge.svg\" alt=\"Open In Colab\"/></a>"
      ]
    },
    {
      "cell_type": "code",
      "execution_count": 1,
      "metadata": {
        "id": "Troipaq5dLQM"
      },
      "outputs": [],
      "source": [
        "%%capture\n",
        "!pip install neqsim"
      ]
    },
    {
      "cell_type": "markdown",
      "source": [
        "# Use of NeqSim for calculation of phase equilibrium and properties of gas, oil and water with salts\n",
        "In the following script we will illustrate calculation of properties of salt water with special models for calculating viscosity and density of the water phase."
      ],
      "metadata": {
        "id": "-gyBEzxEdOLr"
      }
    },
    {
      "cell_type": "code",
      "source": [
        "from neqsim import jneqsim\n",
        "from neqsim.thermo import TPflash,printFrame"
      ],
      "metadata": {
        "id": "fLBYC80d0hjT"
      },
      "execution_count": 2,
      "outputs": []
    },
    {
      "cell_type": "code",
      "source": [
        "fluid1 =  jneqsim.thermo.system.SystemSrkEos()\n",
        "\n",
        "#make 1 kg water and 100 gr NaCl\n",
        "nWater = 1000.0 / 18.01528\n",
        "nNaCl = 100.0 / 58.443\n",
        "\n",
        "fluid1.addComponent(\"methane\", 1.0);\n",
        "fluid1.addComponent(\"n-heptane\", 1.0);\n",
        "fluid1.addComponent(\"water\", nWater);\n",
        "fluid1.addComponent(\"NaCl\", nNaCl);\n",
        "fluid1.setMixingRule('classic')\n",
        "fluid1.setMultiPhaseCheck(True)\n",
        "\n",
        "fluid1.setPhysicalPropertyModel(jneqsim.physicalproperties.system.PhysicalPropertyModel.SALT_WATER)\n",
        "\n",
        "fluid1.setTemperature(20.0, 'C')\n",
        "fluid1.setPressure(50.0, 'bara')\n",
        "\n",
        "TPflash(fluid1)\n",
        "print('water density ' , fluid1.getPhase('aqueous').getWaterDensity('kg/m3'))\n",
        "printFrame(fluid1)"
      ],
      "metadata": {
        "colab": {
          "base_uri": "https://localhost:8080/"
        },
        "id": "U_hXVYybdjga",
        "outputId": "7815abf3-80a5-4600-91c9-a14c4ff2ce6f"
      },
      "execution_count": 6,
      "outputs": [
        {
          "output_type": "stream",
          "name": "stdout",
          "text": [
            "water density  1066.297889328627\n",
            "| 0                    | 1          | 2          | 3           | 4           | 5   | 6               |\n",
            "|:---------------------|:-----------|:-----------|:------------|:------------|:----|:----------------|\n",
            "|                      | total      | GAS        | OIL         | AQUEOUS     |     |                 |\n",
            "| methane              | 1.68863E-2 | 9.96391E-1 | 2.26938E-1  | 1.13528E-7  |     | [mole fraction] |\n",
            "| n-heptane            | 1.68863E-2 | 3.18428E-3 | 7.72791E-1  | 4.59917E-27 |     | [mole fraction] |\n",
            "| water                | 9.37334E-1 | 4.24536E-4 | 2.71138E-4  | 9.70096E-1  |     | [mole fraction] |\n",
            "| NaCl                 | 2.88937E-2 | 1E-50      | 1E-50       | 2.99039E-2  |     | [mole fraction] |\n",
            "|                      |            |            |             |             |     |                 |\n",
            "| Density              |            | 3.67327E1  | 6.54582E2   | 1.0663E3    |     | kg/m3           |\n",
            "| Phase Fraction       |            | 1.19819E-2 | 2.18018E-2  | 9.66216E-1  |     | [mole fraction] |\n",
            "| Molar Mass           | 2.05377E-2 | 1.63118E-2 | 8.10831E-2  | 1.92239E-2  |     | kg/mol          |\n",
            "| Z factor             |            | 9.10952E-1 | 2.54104E-1  | 3.69837E-2  |     | [-]             |\n",
            "| Heat Capacity (Cp)   |            | 2.59894E0  | 2.23833E0   | 3.85352E0   |     | kJ/kgK          |\n",
            "| Heat Capacity (Cv)   |            | 1.74729E0  | 1.8992E0    | 2.67753E0   |     | kJ/kgK          |\n",
            "| Speed of Sound       |            | 4.32212E2  | 9.05824E2   | 3.5417E3    |     | m/sec           |\n",
            "| Enthalpy             | -2.22952E6 | -1.1487E4  | -3.27118E5  | -2.43392E6  |     | J/kg            |\n",
            "| Entropy              | -5.97527E3 | -1.96183E3 | -9.62995E2  | -6.49453E3  |     | J/kgK           |\n",
            "| JT coefficient       |            | 4.30122E-1 | -4.86243E-2 | -2.56529E-2 |     | C/bar           |\n",
            "|                      |            |            |             |             |     |                 |\n",
            "| Viscosity            |            | 1.20984E-5 | 3.32432E-4  | 1.17435E-3  |     | kg/msec         |\n",
            "| Thermal Conductivity |            | 3.96246E-2 | 1.09615E-1  | 6.07619E-1  |     | W/mK            |\n",
            "| Surface Tension      |            | 1.32045E-2 | 1.32045E-2  |             |     | [N/m]           |\n",
            "|                      |            |            | 5.58891E-2  | 5.58891E-2  |     | [N/m]           |\n",
            "|                      |            | 8.24068E-2 |             | 8.24068E-2  |     | [N/m]           |\n",
            "|                      |            |            |             |             |     |                 |\n",
            "| Pressure             |            | 50.0       | 50.0        | 50.0        |     | bara            |\n",
            "| Temperature          |            | 20.0       | 20.0        | 20.0        |     | C               |\n",
            "|                      |            |            |             |             |     |                 |\n",
            "| Model                |            | SRK-EOS    | SRK-EOS     | SRK-EOS     |     | -               |\n",
            "| Mixing Rule          |            | classic    | classic     | classic     |     | -               |\n",
            "|                      |            |            |             |             |     |                 |\n",
            "| Stream               |            |            |             |             |     | -               |\n",
            "|                      |            |            |             |             |     |                 |\n",
            "|                      |            |            |             |             |     |                 |\n",
            "|                      |            |            |             |             |     |                 |\n",
            "|                      |            |            |             |             |     |                 |\n"
          ]
        }
      ]
    }
  ]
}