{
  "nbformat": 4,
  "nbformat_minor": 0,
  "metadata": {
    "colab": {
      "provenance": [],
      "authorship_tag": "ABX9TyNId7VYtlEaQZ6SiLi4XfiI",
      "include_colab_link": true
    },
    "kernelspec": {
      "name": "python3",
      "display_name": "Python 3"
    },
    "language_info": {
      "name": "python"
    }
  },
  "cells": [
    {
      "cell_type": "markdown",
      "metadata": {
        "id": "view-in-github",
        "colab_type": "text"
      },
      "source": [
        "<a href=\"https://colab.research.google.com/github/EvenSol/NeqSim-Colab/blob/master/notebooks/thermodynamics/flash_with_salt_water.ipynb\" target=\"_parent\"><img src=\"https://colab.research.google.com/assets/colab-badge.svg\" alt=\"Open In Colab\"/></a>"
      ]
    },
    {
      "cell_type": "code",
      "execution_count": 1,
      "metadata": {
        "colab": {
          "base_uri": "https://localhost:8080/"
        },
        "id": "Troipaq5dLQM",
        "outputId": "7cd23e56-74e8-4a1c-9e78-b1e56ac26961"
      },
      "outputs": [
        {
          "output_type": "stream",
          "name": "stdout",
          "text": [
            "/bin/bash: line 1: fg: no job control\n",
            "Collecting neqsim\n",
            "  Downloading neqsim-3.0.38-py3-none-any.whl.metadata (4.2 kB)\n",
            "Collecting JPype1<2.0.0,>=1.5.0 (from neqsim)\n",
            "  Downloading jpype1-1.6.0-cp312-cp312-manylinux2014_x86_64.manylinux_2_17_x86_64.whl.metadata (5.0 kB)\n",
            "Requirement already satisfied: numpy>1.25.2 in /usr/local/lib/python3.12/dist-packages (from neqsim) (2.0.2)\n",
            "Requirement already satisfied: pandas<3.0.0,>=2.0.3 in /usr/local/lib/python3.12/dist-packages (from neqsim) (2.2.2)\n",
            "Requirement already satisfied: packaging in /usr/local/lib/python3.12/dist-packages (from JPype1<2.0.0,>=1.5.0->neqsim) (25.0)\n",
            "Requirement already satisfied: python-dateutil>=2.8.2 in /usr/local/lib/python3.12/dist-packages (from pandas<3.0.0,>=2.0.3->neqsim) (2.9.0.post0)\n",
            "Requirement already satisfied: pytz>=2020.1 in /usr/local/lib/python3.12/dist-packages (from pandas<3.0.0,>=2.0.3->neqsim) (2025.2)\n",
            "Requirement already satisfied: tzdata>=2022.7 in /usr/local/lib/python3.12/dist-packages (from pandas<3.0.0,>=2.0.3->neqsim) (2025.2)\n",
            "Requirement already satisfied: six>=1.5 in /usr/local/lib/python3.12/dist-packages (from python-dateutil>=2.8.2->pandas<3.0.0,>=2.0.3->neqsim) (1.17.0)\n",
            "Downloading neqsim-3.0.38-py3-none-any.whl (62.7 MB)\n",
            "\u001b[2K   \u001b[90m━━━━━━━━━━━━━━━━━━━━━━━━━━━━━━━━━━━━━━━━\u001b[0m \u001b[32m62.7/62.7 MB\u001b[0m \u001b[31m7.3 MB/s\u001b[0m eta \u001b[36m0:00:00\u001b[0m\n",
            "\u001b[?25hDownloading jpype1-1.6.0-cp312-cp312-manylinux2014_x86_64.manylinux_2_17_x86_64.whl (495 kB)\n",
            "\u001b[2K   \u001b[90m━━━━━━━━━━━━━━━━━━━━━━━━━━━━━━━━━━━━━━━━\u001b[0m \u001b[32m495.9/495.9 kB\u001b[0m \u001b[31m31.3 MB/s\u001b[0m eta \u001b[36m0:00:00\u001b[0m\n",
            "\u001b[?25hInstalling collected packages: JPype1, neqsim\n",
            "Successfully installed JPype1-1.6.0 neqsim-3.0.38\n"
          ]
        }
      ],
      "source": [
        "!%%capture\n",
        "!pip install neqsim"
      ]
    },
    {
      "cell_type": "markdown",
      "source": [
        "# Use of NeqSim for calculation of phase equilibrium and properties of gas, oil and water with salts\n",
        "In the following script we will illustrate calculation of properties of salt water with special models for calculating viscosity and density of the water phase."
      ],
      "metadata": {
        "id": "-gyBEzxEdOLr"
      }
    },
    {
      "cell_type": "code",
      "source": [],
      "metadata": {
        "id": "12y7229xeeRe"
      },
      "execution_count": 2,
      "outputs": []
    },
    {
      "cell_type": "code",
      "source": [
        "from neqsim import jneqsim\n",
        "from neqsim.thermo import TPflash,printFrame\n",
        "\n",
        "fluid1 =  jneqsim.thermo.system.SystemSrkEos()\n",
        "\n",
        "#make 1 kg water and 100 gr NaCl\n",
        "nWater = 1000.0 / 18.01528\n",
        "nNaCl = 100.0 / 58.443\n",
        "\n",
        "fluid1.addComponent(\"methane\", 1.0);\n",
        "fluid1.addComponent(\"n-heptane\", 1.0);\n",
        "fluid1.addComponent(\"water\", nWater);\n",
        "fluid1.addComponent(\"NaCl\", nNaCl);\n",
        "fluid1.setMixingRule('classic')\n",
        "fluid1.setMultiPhaseCheck(True)\n",
        "\n",
        "fluid1.setPhysicalPropertyModel(jneqsim.physicalproperties.system.PhysicalPropertyModel.SALT_WATER)\n",
        "\n",
        "\n",
        "TPflash(fluid1)\n",
        "print('water density ' , fluid1.getPhase('aqueous').getWaterDensity('kg/m3'))\n",
        "printFrame(fluid1)"
      ],
      "metadata": {
        "colab": {
          "base_uri": "https://localhost:8080/"
        },
        "id": "U_hXVYybdjga",
        "outputId": "62f18e7d-323d-4891-8138-4a99c6dd1b83"
      },
      "execution_count": 16,
      "outputs": [
        {
          "output_type": "stream",
          "name": "stdout",
          "text": [
            "water density  1062.2436430740158\n",
            "| 0                    | 1          | 2           | 3          | 4           | 5   | 6               |\n",
            "|:---------------------|:-----------|:------------|:-----------|:------------|:----|:----------------|\n",
            "|                      | total      | GAS         | OIL        | AQUEOUS     |     |                 |\n",
            "| methane              | 1.68863E-2 | 9.15913E-1  | 4.58081E-3 | 3.4542E-9   |     | [mole fraction] |\n",
            "| n-heptane            | 1.68863E-2 | 6.11402E-2  | 9.95063E-1 | 3.51266E-26 |     | [mole fraction] |\n",
            "| water                | 9.37334E-1 | 2.29466E-2  | 3.56089E-4 | 9.70083E-1  |     | [mole fraction] |\n",
            "| NaCl                 | 2.88937E-2 | 1.00067E-50 | 1E-50      | 2.99168E-2  |     | [mole fraction] |\n",
            "|                      |            |             |            |             |     |                 |\n",
            "| Density              |            | 8.59354E-1  | 6.91335E2  | 1.06224E3   |     | kg/m3           |\n",
            "| Phase Fraction       |            | 1.83697E-2  | 1.58422E-2 | 9.65788E-1  |     | [mole fraction] |\n",
            "| Molar Mass           | 2.05377E-2 | 2.12339E-2  | 9.97902E-2 | 1.92245E-2  |     | kg/mol          |\n",
            "| Z factor             |            | 9.96757E-1  | 5.82278E-3 | 7.30065E-4  |     | [-]             |\n",
            "| Heat Capacity (Cp)   |            | 2.06438E0   | 2.1919E0   | 3.85617E0   |     | kJ/kgK          |\n",
            "| Heat Capacity (Cv)   |            | 1.66668E0   | 1.91395E0  | 2.65623E0   |     | kJ/kgK          |\n",
            "| Speed of Sound       |            | 3.79066E2   | 9.53462E2  | 3.45688E3   |     | m/sec           |\n",
            "| Enthalpy             | -2.21149E6 | 4.92596E4   | -3.27435E5 | -2.41941E6  |     | J/kg            |\n",
            "| Entropy              | -5.86846E3 | 3.11411E2   | -8.57031E2 | -6.42499E3  |     | J/kgK           |\n",
            "| JT coefficient       |            | 6.19668E-1  | -5.1775E-2 | -2.54332E-2 |     | C/bar           |\n",
            "|                      |            |             |            |             |     |                 |\n",
            "| Viscosity            |            | 1.07524E-5  | 4.31968E-4 | 1.04423E-3  |     | kg/msec         |\n",
            "| Thermal Conductivity |            | 3.0823E-2   | 1.11295E-1 | 6.15036E-1  |     | W/mK            |\n",
            "| Surface Tension      |            | 2.1084E-2   | 2.1084E-2  |             |     | [N/m]           |\n",
            "|                      |            |             | 6.03679E-2 | 6.03679E-2  |     | [N/m]           |\n",
            "|                      |            | 1.01348E-1  |            | 1.01348E-1  |     | [N/m]           |\n",
            "|                      |            |             |            |             |     |                 |\n",
            "| Pressure             |            | 1.0         | 1.0        | 1.0         |     | bara            |\n",
            "| Temperature          |            | 25.0        | 25.0       | 25.0        |     | C               |\n",
            "|                      |            |             |            |             |     |                 |\n",
            "| Model                |            | SRK-EOS     | SRK-EOS    | SRK-EOS     |     | -               |\n",
            "| Mixing Rule          |            | classic     | classic    | classic     |     | -               |\n",
            "|                      |            |             |            |             |     |                 |\n",
            "| Stream               |            |             |            |             |     | -               |\n",
            "|                      |            |             |            |             |     |                 |\n",
            "|                      |            |             |            |             |     |                 |\n",
            "|                      |            |             |            |             |     |                 |\n",
            "|                      |            |             |            |             |     |                 |\n"
          ]
        }
      ]
    }
  ]
}