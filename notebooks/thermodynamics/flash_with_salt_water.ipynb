{
  "nbformat": 4,
  "nbformat_minor": 0,
  "metadata": {
    "colab": {
      "provenance": [],
      "authorship_tag": "ABX9TyMy+8JCZ2vxUAjzXrdaDqBo",
      "include_colab_link": true
    },
    "kernelspec": {
      "name": "python3",
      "display_name": "Python 3"
    },
    "language_info": {
      "name": "python"
    }
  },
  "cells": [
    {
      "cell_type": "markdown",
      "metadata": {
        "id": "view-in-github",
        "colab_type": "text"
      },
      "source": [
        "<a href=\"https://colab.research.google.com/github/EvenSol/NeqSim-Colab/blob/master/notebooks/thermodynamics/flash_with_salt_water.ipynb\" target=\"_parent\"><img src=\"https://colab.research.google.com/assets/colab-badge.svg\" alt=\"Open In Colab\"/></a>"
      ]
    },
    {
      "cell_type": "code",
      "execution_count": 1,
      "metadata": {
        "id": "Troipaq5dLQM"
      },
      "outputs": [],
      "source": [
        "%%capture\n",
        "!pip install neqsim"
      ]
    },
    {
      "cell_type": "markdown",
      "source": [
        "# Use of NeqSim for calculation of phase equilibrium and properties of gas, oil and water with salts\n",
        "In the following script we will illustrate calculation of properties of salt water with special models for calculating viscosity and density of the water phase."
      ],
      "metadata": {
        "id": "-gyBEzxEdOLr"
      }
    },
    {
      "cell_type": "code",
      "source": [
        "from neqsim import jneqsim\n",
        "from neqsim.thermo import TPflash,printFrame"
      ],
      "metadata": {
        "id": "fLBYC80d0hjT"
      },
      "execution_count": 2,
      "outputs": []
    },
    {
      "cell_type": "code",
      "source": [
        "fluid1 =  jneqsim.thermo.system.SystemSrkEos()\n",
        "\n",
        "#make 1 kg water and 100 gr NaCl\n",
        "nWater = 1000.0 / 18.01528\n",
        "nNaCl = 100.0 / 58.443\n",
        "\n",
        "fluid1.addComponent(\"methane\", 1.0);\n",
        "fluid1.addComponent(\"n-heptane\", 1.0);\n",
        "fluid1.addComponent(\"water\", nWater);\n",
        "fluid1.addComponent(\"NaCl\", nNaCl);\n",
        "fluid1.setMixingRule('classic')\n",
        "fluid1.setMultiPhaseCheck(True)\n",
        "\n",
        "fluid1.setPhysicalPropertyModel(jneqsim.physicalproperties.system.PhysicalPropertyModel.SALT_WATER)\n",
        "\n",
        "fluid1.setTemperature(20.0, 'C')\n",
        "fluid1.setPressure(50.0 'bara')\n",
        "\n",
        "TPflash(fluid1)\n",
        "print('water density ' , fluid1.getPhase('aqueous').getWaterDensity('kg/m3'))\n",
        "printFrame(fluid1)"
      ],
      "metadata": {
        "colab": {
          "base_uri": "https://localhost:8080/"
        },
        "id": "U_hXVYybdjga",
        "outputId": "81aea103-011d-4bdf-ea4f-12dc1cab3c65"
      },
      "execution_count": 3,
      "outputs": [
        {
          "output_type": "stream",
          "name": "stdout",
          "text": [
            "water density  1062.2436430740158\n",
            "| 0                    | 1          | 2           | 3          | 4           | 5   | 6               |\n",
            "|:---------------------|:-----------|:------------|:-----------|:------------|:----|:----------------|\n",
            "|                      | total      | GAS         | OIL        | AQUEOUS     |     |                 |\n",
            "| methane              | 1.68863E-2 | 9.15913E-1  | 4.58081E-3 | 3.4542E-9   |     | [mole fraction] |\n",
            "| n-heptane            | 1.68863E-2 | 6.11402E-2  | 9.95063E-1 | 3.51266E-26 |     | [mole fraction] |\n",
            "| water                | 9.37334E-1 | 2.29466E-2  | 3.56089E-4 | 9.70083E-1  |     | [mole fraction] |\n",
            "| NaCl                 | 2.88937E-2 | 1.00067E-50 | 1E-50      | 2.99168E-2  |     | [mole fraction] |\n",
            "|                      |            |             |            |             |     |                 |\n",
            "| Density              |            | 8.59354E-1  | 6.91335E2  | 1.06224E3   |     | kg/m3           |\n",
            "| Phase Fraction       |            | 1.83697E-2  | 1.58422E-2 | 9.65788E-1  |     | [mole fraction] |\n",
            "| Molar Mass           | 2.05377E-2 | 2.12339E-2  | 9.97902E-2 | 1.92245E-2  |     | kg/mol          |\n",
            "| Z factor             |            | 9.96757E-1  | 5.82278E-3 | 7.30065E-4  |     | [-]             |\n",
            "| Heat Capacity (Cp)   |            | 2.06438E0   | 2.1919E0   | 3.85617E0   |     | kJ/kgK          |\n",
            "| Heat Capacity (Cv)   |            | 1.66668E0   | 1.91395E0  | 2.65623E0   |     | kJ/kgK          |\n",
            "| Speed of Sound       |            | 3.79066E2   | 9.53462E2  | 3.45688E3   |     | m/sec           |\n",
            "| Enthalpy             | -2.21149E6 | 4.92596E4   | -3.27435E5 | -2.41941E6  |     | J/kg            |\n",
            "| Entropy              | -5.86846E3 | 3.11411E2   | -8.57031E2 | -6.42499E3  |     | J/kgK           |\n",
            "| JT coefficient       |            | 6.19668E-1  | -5.1775E-2 | -2.54332E-2 |     | C/bar           |\n",
            "|                      |            |             |            |             |     |                 |\n",
            "| Viscosity            |            | 1.07524E-5  | 4.31968E-4 | 1.04423E-3  |     | kg/msec         |\n",
            "| Thermal Conductivity |            | 3.0823E-2   | 1.11295E-1 | 6.15036E-1  |     | W/mK            |\n",
            "| Surface Tension      |            | 2.1084E-2   | 2.1084E-2  |             |     | [N/m]           |\n",
            "|                      |            |             | 6.03679E-2 | 6.03679E-2  |     | [N/m]           |\n",
            "|                      |            | 1.01348E-1  |            | 1.01348E-1  |     | [N/m]           |\n",
            "|                      |            |             |            |             |     |                 |\n",
            "| Pressure             |            | 1.0         | 1.0        | 1.0         |     | bara            |\n",
            "| Temperature          |            | 25.0        | 25.0       | 25.0        |     | C               |\n",
            "|                      |            |             |            |             |     |                 |\n",
            "| Model                |            | SRK-EOS     | SRK-EOS    | SRK-EOS     |     | -               |\n",
            "| Mixing Rule          |            | classic     | classic    | classic     |     | -               |\n",
            "|                      |            |             |            |             |     |                 |\n",
            "| Stream               |            |             |            |             |     | -               |\n",
            "|                      |            |             |            |             |     |                 |\n",
            "|                      |            |             |            |             |     |                 |\n",
            "|                      |            |             |            |             |     |                 |\n",
            "|                      |            |             |            |             |     |                 |\n"
          ]
        }
      ]
    }
  ]
}