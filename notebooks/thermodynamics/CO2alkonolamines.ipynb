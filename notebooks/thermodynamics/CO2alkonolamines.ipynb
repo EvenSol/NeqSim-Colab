{
  "nbformat": 4,
  "nbformat_minor": 0,
  "metadata": {
    "colab": {
      "provenance": [],
      "include_colab_link": true
    },
    "kernelspec": {
      "name": "python3",
      "display_name": "Python 3"
    },
    "language_info": {
      "name": "python"
    }
  },
  "cells": [
    {
      "cell_type": "markdown",
      "metadata": {
        "id": "view-in-github",
        "colab_type": "text"
      },
      "source": [
        "<a href=\"https://colab.research.google.com/github/EvenSol/NeqSim-Colab/blob/master/notebooks/thermodynamics/CO2alkonolamines.ipynb\" target=\"_parent\"><img src=\"https://colab.research.google.com/assets/colab-badge.svg\" alt=\"Open In Colab\"/></a>"
      ]
    },
    {
      "cell_type": "code",
      "execution_count": 1,
      "metadata": {
        "colab": {
          "base_uri": "https://localhost:8080/"
        },
        "id": "f8h-pIecza4s",
        "outputId": "14c990d0-cd6b-4ad5-e62d-bcad0cb00de8"
      },
      "outputs": [
        {
          "output_type": "stream",
          "name": "stdout",
          "text": [
            "Collecting neqsim\n",
            "  Downloading neqsim-3.0.27-py3-none-any.whl.metadata (4.2 kB)\n",
            "Collecting JPype1<2.0.0,>=1.5.0 (from neqsim)\n",
            "  Downloading jpype1-1.5.2-cp311-cp311-manylinux_2_17_x86_64.manylinux2014_x86_64.whl.metadata (4.9 kB)\n",
            "Requirement already satisfied: numpy>1.25.2 in /usr/local/lib/python3.11/dist-packages (from neqsim) (2.0.2)\n",
            "Requirement already satisfied: pandas<3.0.0,>=2.0.3 in /usr/local/lib/python3.11/dist-packages (from neqsim) (2.2.2)\n",
            "Requirement already satisfied: packaging in /usr/local/lib/python3.11/dist-packages (from JPype1<2.0.0,>=1.5.0->neqsim) (24.2)\n",
            "Requirement already satisfied: python-dateutil>=2.8.2 in /usr/local/lib/python3.11/dist-packages (from pandas<3.0.0,>=2.0.3->neqsim) (2.9.0.post0)\n",
            "Requirement already satisfied: pytz>=2020.1 in /usr/local/lib/python3.11/dist-packages (from pandas<3.0.0,>=2.0.3->neqsim) (2025.2)\n",
            "Requirement already satisfied: tzdata>=2022.7 in /usr/local/lib/python3.11/dist-packages (from pandas<3.0.0,>=2.0.3->neqsim) (2025.2)\n",
            "Requirement already satisfied: six>=1.5 in /usr/local/lib/python3.11/dist-packages (from python-dateutil>=2.8.2->pandas<3.0.0,>=2.0.3->neqsim) (1.17.0)\n",
            "Downloading neqsim-3.0.27-py3-none-any.whl (62.2 MB)\n",
            "\u001b[2K   \u001b[90m━━━━━━━━━━━━━━━━━━━━━━━━━━━━━━━━━━━━━━━━\u001b[0m \u001b[32m62.2/62.2 MB\u001b[0m \u001b[31m11.5 MB/s\u001b[0m eta \u001b[36m0:00:00\u001b[0m\n",
            "\u001b[?25hDownloading jpype1-1.5.2-cp311-cp311-manylinux_2_17_x86_64.manylinux2014_x86_64.whl (494 kB)\n",
            "\u001b[2K   \u001b[90m━━━━━━━━━━━━━━━━━━━━━━━━━━━━━━━━━━━━━━━━\u001b[0m \u001b[32m494.1/494.1 kB\u001b[0m \u001b[31m17.6 MB/s\u001b[0m eta \u001b[36m0:00:00\u001b[0m\n",
            "\u001b[?25hInstalling collected packages: JPype1, neqsim\n",
            "Successfully installed JPype1-1.5.2 neqsim-3.0.27\n"
          ]
        }
      ],
      "source": [
        "!pip install neqsim"
      ]
    },
    {
      "cell_type": "markdown",
      "source": [
        "#Solubility of CO2 in MDEA"
      ],
      "metadata": {
        "id": "EXOQs9a82Ywt"
      }
    },
    {
      "cell_type": "markdown",
      "source": [
        "# Use of the Electrolyte CPA-EoS\n",
        "See model description in [Solbraa (2002)](https://ntnuopen.ntnu.no/ntnu-xmlui/handle/11250/231326)."
      ],
      "metadata": {
        "id": "_gp1R_E9USEa"
      }
    },
    {
      "cell_type": "code",
      "source": [
        "from neqsim.thermo import fluid, fluid_df, bubp, TPflash, printFrame\n",
        "import pandas as pd\n",
        "\n",
        "feedgas = fluid('Electrolyte-CPA-EoS')\n",
        "feedgas.addComponent(\"CO2\", 0.875, 'kg/sec')\n",
        "feedgas.addComponent(\"water\", 10.0,\"kg/sec\")\n",
        "feedgas.addComponent(\"MDEA\", 2.0, 'kg/sec')\n",
        "feedgas.chemicalReactionInit()\n",
        "feedgas.setMixingRule(10)\n",
        "feedgas.setTemperature(45.0, \"C\")\n",
        "feedgas.setPressure(0.4, \"bara\")\n",
        "feedgas.init(0)\n",
        "\n",
        "loading = feedgas.getComponent('CO2').getz()/feedgas.getComponent('MDEA').getz()\n",
        "\n",
        "bubp(feedgas)\n",
        "print('loading [CO2/MDEA] ',  loading, '  partial pressure CO2 in gas ',  feedgas.getPhase('gas').getComponent('CO2').getx()*feedgas.getPressure(), ' [bar]')\n",
        "printFrame(feedgas)"
      ],
      "metadata": {
        "id": "WvLp3Wkt10p_",
        "outputId": "228d5dd3-4a55-4f4b-8da6-14f28aa2fe59",
        "colab": {
          "base_uri": "https://localhost:8080/"
        }
      },
      "execution_count": 2,
      "outputs": [
        {
          "output_type": "stream",
          "name": "stdout",
          "text": [
            "loading [CO2/MDEA]  1.18459213815042   partial pressure CO2 in gas  22.879310510700726  [bar]\n",
            "| 0                    | 1          | 2                           | 3                           | 4   | 5   | 6               |\n",
            "|:---------------------|:-----------|:----------------------------|:----------------------------|:----|:----|:----------------|\n",
            "|                      | total      | GAS                         | AQUEOUS                     |     |     |                 |\n",
            "| CO2                  | 5.82659E-3 | 9.95318E-1                  | 5.82659E-3                  |     |     | [mole fraction] |\n",
            "| water                | 9.36259E-1 | 4.68238E-3                  | 9.36259E-1                  |     |     | [mole fraction] |\n",
            "| MDEA                 | 3.16132E-4 | 1.2673E-9                   | 3.16132E-4                  |     |     | [mole fraction] |\n",
            "| OH-                  | 7.32829E-9 | 7.32829E-49                 | 7.32829E-9                  |     |     | [mole fraction] |\n",
            "| H3O+                 | 1.6422E-9  | 1.6422E-49                  | 1.6422E-9                   |     |     | [mole fraction] |\n",
            "| HCO3-                | 2.86123E-2 | 2.86123E-42                 | 2.86123E-2                  |     |     | [mole fraction] |\n",
            "| CO3--                | 1.24522E-4 | 1.24522E-44                 | 1.24522E-4                  |     |     | [mole fraction] |\n",
            "| MDEA+                | 2.88613E-2 | 2.88613E-42                 | 2.88613E-2                  |     |     | [mole fraction] |\n",
            "|                      |            |                             |                             |     |     |                 |\n",
            "| Density              |            | 4.22393E1                   | 1.18118E3                   |     |     | kg/m3           |\n",
            "| Phase Fraction       |            | 1E-10                       | 1E0                         |     |     | [mole fraction] |\n",
            "| Molar Mass           | 2.23817E-2 | 4.38883E-2                  | 2.23817E-2                  |     |     | kg/mol          |\n",
            "| Z factor             |            | 9.02915E-1                  | 1.64661E-2                  |     |     | [-]             |\n",
            "| Heat Capacity (Cp)   |            | 1.0012E0                    | 2.91607E0                   |     |     | kJ/kgK          |\n",
            "| Heat Capacity (Cv)   |            | 6.97562E-1                  | 2.56016E0                   |     |     | kJ/kgK          |\n",
            "| Speed of Sound       |            | 2.64744E2                   | 1.28637E3                   |     |     | m/sec           |\n",
            "| Enthalpy             | -2.73937E6 | 1.76184E4                   | -2.73937E6                  |     |     | J/kg            |\n",
            "| Entropy              | -4.72347E3 | -5.03295E2                  | -4.72347E3                  |     |     | J/kgK           |\n",
            "| JT coefficient       |            | 9.61214E-1                  | -2.08901E-2                 |     |     | C/bar           |\n",
            "|                      |            |                             |                             |     |     |                 |\n",
            "| Viscosity            |            | 1.70873E-5                  | 5.4353E-4                   |     |     | kg/msec         |\n",
            "| Thermal Conductivity |            | 2.21072E-2                  | 6.4152E-1                   |     |     | W/mK            |\n",
            "| Surface Tension      |            | 1.04135E-1                  | 1.04135E-1                  |     |     | [N/m]           |\n",
            "|                      |            |                             |                             |     |     |                 |\n",
            "|                      |            |                             |                             |     |     |                 |\n",
            "|                      |            |                             |                             |     |     |                 |\n",
            "| Pressure             |            | 22.98694424038928           | 22.98694424038928           |     |     | bara            |\n",
            "| Temperature          |            | 45.0                        | 45.0                        |     |     | C               |\n",
            "|                      |            |                             |                             |     |     |                 |\n",
            "| Model                |            | Electrolyte-CPA-EOS-statoil | Electrolyte-CPA-EOS-statoil |     |     | -               |\n",
            "| Mixing Rule          |            | classic-CPA_T               | classic-CPA_T               |     |     | -               |\n",
            "|                      |            |                             |                             |     |     |                 |\n",
            "| Stream               |            |                             |                             |     |     | -               |\n",
            "|                      |            |                             |                             |     |     |                 |\n",
            "|                      |            |                             |                             |     |     |                 |\n",
            "|                      |            |                             |                             |     |     |                 |\n",
            "|                      |            |                             |                             |     |     |                 |\n"
          ]
        }
      ]
    },
    {
      "cell_type": "markdown",
      "source": [
        "#Thermodynamics of CO2 and alkanolamines\n",
        "In this notebook we will give examples of how to calculate solubility of CO2 in alkanolamines using neqsim."
      ],
      "metadata": {
        "id": "J2Gi7eMMziPc"
      }
    },
    {
      "cell_type": "code",
      "source": [
        "from neqsim.thermo import fluid, fluid_df, bubp, TPflash, printFrame\n",
        "import pandas as pd\n",
        "\n",
        "feedgas = fluid('Electrolyte-CPA-EoS')\n",
        "feedgas.addComponent(\"CO2\", 2.12, 'kg/sec')\n",
        "feedgas.addComponent(\"methane\", 90.0, 'kg/sec')\n",
        "feedgas.addComponent(\"ethane\", 2.0, 'kg/sec')\n",
        "feedgas.addComponent(\"water\", 10.0,\"kg/sec\")\n",
        "feedgas.addComponent(\"MDEA\", 1.0, 'kg/sec')\n",
        "feedgas.chemicalReactionInit()\n",
        "feedgas.setMixingRule(10)\n",
        "feedgas.setTemperature(45.0, \"C\")\n",
        "feedgas.setPressure(55.0, \"bara\")\n",
        "\n",
        "TPflash(feedgas)\n",
        "\n",
        "loading = (feedgas.getPhase('aqueous').getComponent('CO2').getx() + feedgas.getPhase('aqueous').getComponent('HCO3-').getx() + feedgas.getPhase('aqueous').getComponent('CO3--').getx())/(feedgas.getPhase('aqueous').getComponent('MDEA').getx()+feedgas.getPhase('aqueous').getComponent('MDEA+').getx())\n",
        "print('liquid loading ', loading, ' [mol CO2/mol MDEA]')\n",
        "\n",
        "print('partial pressure CO2 in gas ',  feedgas.getPhase('gas').getComponent('CO2').getx()*feedgas.getPressure(), ' [bar]')\n",
        "printFrame(feedgas)\n",
        "\n"
      ],
      "metadata": {
        "colab": {
          "base_uri": "https://localhost:8080/"
        },
        "id": "oxW3usO1zvSW",
        "outputId": "c5c5b982-8dfc-491b-a529-21097d19d833"
      },
      "execution_count": 3,
      "outputs": [
        {
          "output_type": "stream",
          "name": "stdout",
          "text": [
            "liquid loading  0.5239409981378345  [mol CO2/mol MDEA]\n",
            "partial pressure CO2 in gas  0.4201111702419514  [bar]\n",
            "| 0                    | 1           | 2                           | 3                           | 4   | 5   | 6               |\n",
            "|:---------------------|:------------|:----------------------------|:----------------------------|:----|:----|:----------------|\n",
            "|                      | total       | GAS                         | AQUEOUS                     |     |     |                 |\n",
            "| CO2                  | 6.97508E-3  | 7.63838E-3                  | 1.00586E-4                  |     |     | [mole fraction] |\n",
            "| methane              | 8.92767E-1  | 9.78771E-1                  | 1.41149E-3                  |     |     | [mole fraction] |\n",
            "| ethane               | 1.05847E-2  | 1.16039E-2                  | 2.13959E-5                  |     |     | [mole fraction] |\n",
            "| water                | 8.7647E-2   | 1.98651E-3                  | 9.75439E-1                  |     |     | [mole fraction] |\n",
            "| MDEA                 | 6.26876E-4  | 9.55392E-9                  | 7.12377E-3                  |     |     | [mole fraction] |\n",
            "| OH-                  | 9.11314E-9  | 1.03562E-47                 | 1.03562E-7                  |     |     | [mole fraction] |\n",
            "| H3O+                 | 4.01652E-11 | 4.56441E-50                 | 4.56441E-10                 |     |     | [mole fraction] |\n",
            "| HCO3-                | 6.73119E-4  | 7.64938E-43                 | 7.64938E-3                  |     |     | [mole fraction] |\n",
            "| CO3--                | 1.77406E-5  | 2.01605E-44                 | 2.01605E-4                  |     |     | [mole fraction] |\n",
            "| MDEA+                | 7.08609E-4  | 8.05269E-43                 | 8.05269E-3                  |     |     | [mole fraction] |\n",
            "|                      |             |                             |                             |     |     |                 |\n",
            "| Density              |             | 3.6561E1                    | 1.04168E3                   |     |     | kg/m3           |\n",
            "| Phase Fraction       |             | 9.12003E-1                  | 8.79966E-2                  |     |     | [mole fraction] |\n",
            "| Molar Mass           | 1.67288E-2  | 1.64233E-2                  | 1.98955E-2                  |     |     | kg/mol          |\n",
            "| Z factor             |             | 9.33984E-1                  | 3.97115E-2                  |     |     | [-]             |\n",
            "| Heat Capacity (Cp)   |             | 2.57782E0                   | 3.41816E0                   |     |     | kJ/kgK          |\n",
            "| Heat Capacity (Cv)   |             | 1.78443E0                   | 3.03287E0                   |     |     | kJ/kgK          |\n",
            "| Speed of Sound       |             | 4.52937E2                   | 1.56608E3                   |     |     | m/sec           |\n",
            "| Enthalpy             | -2.06229E5  | 4.75722E4                   | -2.37758E6                  |     |     | J/kg            |\n",
            "| Entropy              | -2.13998E3  | -1.7509E3                   | -5.46874E3                  |     |     | J/kgK           |\n",
            "| JT coefficient       |             | 3.53543E-1                  | -2.13801E-2                 |     |     | C/bar           |\n",
            "|                      |             |                             |                             |     |     |                 |\n",
            "| Viscosity            |             | 1.29564E-5                  | 6.53858E-4                  |     |     | kg/msec         |\n",
            "| Thermal Conductivity |             | 4.26378E-2                  | 6.4079E-1                   |     |     | W/mK            |\n",
            "| Surface Tension      |             | 6.00397E-2                  | 6.00397E-2                  |     |     | [N/m]           |\n",
            "|                      |             |                             |                             |     |     |                 |\n",
            "|                      |             |                             |                             |     |     |                 |\n",
            "|                      |             |                             |                             |     |     |                 |\n",
            "| Pressure             |             | 55.0                        | 55.0                        |     |     | bara            |\n",
            "| Temperature          |             | 45.0                        | 45.0                        |     |     | C               |\n",
            "|                      |             |                             |                             |     |     |                 |\n",
            "| Model                |             | Electrolyte-CPA-EOS-statoil | Electrolyte-CPA-EOS-statoil |     |     | -               |\n",
            "| Mixing Rule          |             | classic-CPA_T               | classic-CPA_T               |     |     | -               |\n",
            "|                      |             |                             |                             |     |     |                 |\n",
            "| Stream               |             |                             |                             |     |     | -               |\n",
            "|                      |             |                             |                             |     |     |                 |\n",
            "|                      |             |                             |                             |     |     |                 |\n",
            "|                      |             |                             |                             |     |     |                 |\n",
            "|                      |             |                             |                             |     |     |                 |\n"
          ]
        }
      ]
    },
    {
      "cell_type": "markdown",
      "source": [
        "# Use of the Electrolyte Scrk model\n",
        "See model description in [Solbraa (2002)](https://ntnuopen.ntnu.no/ntnu-xmlui/handle/11250/231326)."
      ],
      "metadata": {
        "id": "ZbzLf_CpT_3x"
      }
    },
    {
      "cell_type": "code",
      "source": [
        "from neqsim.thermo import fluid, fluid_df, bubp, TPflash, printFrame\n",
        "import pandas as pd\n",
        "\n",
        "feedgas = fluid('Electrolyte-ScRK-EoS')\n",
        "feedgas.addComponent(\"CO2\", 0.405, 'kg/sec')\n",
        "feedgas.addComponent(\"water\", 10.0,\"kg/sec\")\n",
        "feedgas.addComponent(\"MDEA\", 2.0, 'kg/sec')\n",
        "feedgas.chemicalReactionInit()\n",
        "feedgas.setMixingRule(4)\n",
        "feedgas.setTemperature(40.0, \"C\")\n",
        "feedgas.setPressure(0.4, \"bara\")\n",
        "feedgas.init(0)\n",
        "\n",
        "loading = feedgas.getComponent('CO2').getz()/feedgas.getComponent('MDEA').getz()\n",
        "\n",
        "bubp(feedgas)\n",
        "print('loading [CO2/MDEA] ',  loading, '  partial pressure CO2 in gas ',  feedgas.getPhase('gas').getComponent('CO2').getx()*feedgas.getPressure(), ' [bar]')\n",
        "printFrame(feedgas)"
      ],
      "metadata": {
        "id": "pr-VEzm8T326",
        "outputId": "efd4b9f2-afda-43f6-bea6-368662277c6e",
        "colab": {
          "base_uri": "https://localhost:8080/"
        }
      },
      "execution_count": 4,
      "outputs": [
        {
          "output_type": "stream",
          "name": "stdout",
          "text": [
            "loading [CO2/MDEA]  0.5482969325153374   partial pressure CO2 in gas  0.049157967118800105  [bar]\n",
            "| 0                    | 1          | 2                    | 3                    | 4   | 5   | 6               |\n",
            "|:---------------------|:-----------|:---------------------|:---------------------|:----|:----|:----------------|\n",
            "|                      | total      | GAS                  | AQUEOUS              |     |     |                 |\n",
            "| CO2                  | 2.19944E-5 | 4.08538E-1           | 2.19959E-5           |     |     | [mole fraction] |\n",
            "| water                | 9.54487E-1 | 5.91461E-1           | 9.5456E-1            |     |     | [mole fraction] |\n",
            "| MDEA                 | 1.10498E-2 | 1.18138E-6           | 1.10507E-2           |     |     | [mole fraction] |\n",
            "| OH-                  | 5.29743E-7 | 5.29743E-47          | 5.29784E-7           |     |     | [mole fraction] |\n",
            "| H3O+                 | 2.3584E-10 | 2.3584E-50           | 2.35857E-10          |     |     | [mole fraction] |\n",
            "| HCO3-                | 1.3841E-2  | 1.3841E-42           | 1.3842E-2            |     |     | [mole fraction] |\n",
            "| CO3--                | 2.22714E-3 | 2.22714E-43          | 2.22732E-3           |     |     | [mole fraction] |\n",
            "| MDEA+                | 1.82958E-2 | 1.82958E-42          | 1.82972E-2           |     |     | [mole fraction] |\n",
            "|                      |            |                      |                      |     |     |                 |\n",
            "| Density              |            | 1.3248E-1            | 1.10233E3            |     |     | kg/m3           |\n",
            "| Phase Fraction       |            | 1E-10                | 1E0                  |     |     | [mole fraction] |\n",
            "| Molar Mass           | 2.16892E-2 | 2.86351E-2           | 2.16908E-2           |     |     | kg/mol          |\n",
            "| Z factor             |            | 9.98901E-1           | 9.09369E-5           |     |     | [-]             |\n",
            "| Heat Capacity (Cp)   |            | 1.23525E0            | 3.61659E0            |     |     | kJ/kgK          |\n",
            "| Heat Capacity (Cv)   |            | 9.43664E-1           | 2.53382E0            |     |     | kJ/kgK          |\n",
            "| Speed of Sound       |            | 3.44623E2            | 2.73989E3            |     |     | m/sec           |\n",
            "| Enthalpy             | -2.61215E6 | 4.84474E4            | -2.61195E6           |     |     | J/kg            |\n",
            "| Entropy              | -5.06207E3 | 9.80904E2            | -5.06168E3           |     |     | J/kgK           |\n",
            "| JT coefficient       |            | 1.94508E0            | -2.42245E-2          |     |     | C/bar           |\n",
            "|                      |            |                      |                      |     |     |                 |\n",
            "| Viscosity            |            | 1.19306E-5           | 7.31595E-4           |     |     | kg/msec         |\n",
            "| Thermal Conductivity |            | 2.05306E-2           | 6.35377E-1           |     |     | W/mK            |\n",
            "| Surface Tension      |            | 8.5718E-2            | 8.5718E-2            |     |     | [N/m]           |\n",
            "|                      |            |                      |                      |     |     |                 |\n",
            "|                      |            |                      |                      |     |     |                 |\n",
            "|                      |            |                      |                      |     |     |                 |\n",
            "| Pressure             |            | 0.12032667017521254  | 0.12032667017521254  |     |     | bara            |\n",
            "| Temperature          |            | 40.0                 | 40.0                 |     |     | C               |\n",
            "|                      |            |                      |                      |     |     |                 |\n",
            "| Model                |            | Electrolyte-ScRK-EOS | Electrolyte-ScRK-EOS |     |     | -               |\n",
            "| Mixing Rule          |            | Huron-Vidal          | Huron-Vidal          |     |     | -               |\n",
            "|                      |            |                      |                      |     |     |                 |\n",
            "| Stream               |            |                      |                      |     |     | -               |\n",
            "|                      |            |                      |                      |     |     |                 |\n",
            "|                      |            |                      |                      |     |     |                 |\n",
            "|                      |            |                      |                      |     |     |                 |\n",
            "|                      |            |                      |                      |     |     |                 |\n"
          ]
        }
      ]
    }
  ]
}