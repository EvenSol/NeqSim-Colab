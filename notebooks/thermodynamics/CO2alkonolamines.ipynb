{
  "nbformat": 4,
  "nbformat_minor": 0,
  "metadata": {
    "colab": {
      "provenance": [],
      "authorship_tag": "ABX9TyNr/qoSO8v5HqnylYonRb3X",
      "include_colab_link": true
    },
    "kernelspec": {
      "name": "python3",
      "display_name": "Python 3"
    },
    "language_info": {
      "name": "python"
    }
  },
  "cells": [
    {
      "cell_type": "markdown",
      "metadata": {
        "id": "view-in-github",
        "colab_type": "text"
      },
      "source": [
        "<a href=\"https://colab.research.google.com/github/EvenSol/NeqSim-Colab/blob/master/notebooks/thermodynamics/CO2alkonolamines.ipynb\" target=\"_parent\"><img src=\"https://colab.research.google.com/assets/colab-badge.svg\" alt=\"Open In Colab\"/></a>"
      ]
    },
    {
      "cell_type": "code",
      "execution_count": 1,
      "metadata": {
        "colab": {
          "base_uri": "https://localhost:8080/"
        },
        "id": "f8h-pIecza4s",
        "outputId": "bc961933-51ae-427b-8606-7bcba4c5d8cc"
      },
      "outputs": [
        {
          "output_type": "stream",
          "name": "stdout",
          "text": [
            "Collecting neqsim\n",
            "  Downloading neqsim-2.5.5-py3-none-any.whl (28.3 MB)\n",
            "\u001b[2K     \u001b[90m━━━━━━━━━━━━━━━━━━━━━━━━━━━━━━━━━━━━━━━━\u001b[0m \u001b[32m28.3/28.3 MB\u001b[0m \u001b[31m9.2 MB/s\u001b[0m eta \u001b[36m0:00:00\u001b[0m\n",
            "\u001b[?25hCollecting jpype1 (from neqsim)\n",
            "  Downloading JPype1-1.4.1-cp310-cp310-manylinux_2_12_x86_64.manylinux2010_x86_64.whl (465 kB)\n",
            "\u001b[2K     \u001b[90m━━━━━━━━━━━━━━━━━━━━━━━━━━━━━━━━━━━━━━\u001b[0m \u001b[32m465.3/465.3 kB\u001b[0m \u001b[31m15.5 MB/s\u001b[0m eta \u001b[36m0:00:00\u001b[0m\n",
            "\u001b[?25hRequirement already satisfied: pandas in /usr/local/lib/python3.10/dist-packages (from neqsim) (1.5.3)\n",
            "Requirement already satisfied: packaging in /usr/local/lib/python3.10/dist-packages (from jpype1->neqsim) (23.1)\n",
            "Requirement already satisfied: python-dateutil>=2.8.1 in /usr/local/lib/python3.10/dist-packages (from pandas->neqsim) (2.8.2)\n",
            "Requirement already satisfied: pytz>=2020.1 in /usr/local/lib/python3.10/dist-packages (from pandas->neqsim) (2023.3)\n",
            "Requirement already satisfied: numpy>=1.21.0 in /usr/local/lib/python3.10/dist-packages (from pandas->neqsim) (1.23.5)\n",
            "Requirement already satisfied: six>=1.5 in /usr/local/lib/python3.10/dist-packages (from python-dateutil>=2.8.1->pandas->neqsim) (1.16.0)\n",
            "Installing collected packages: jpype1, neqsim\n",
            "Successfully installed jpype1-1.4.1 neqsim-2.5.5\n"
          ]
        }
      ],
      "source": [
        "!pip install neqsim"
      ]
    },
    {
      "cell_type": "markdown",
      "source": [
        "#Solubility of CO2 in MDEA"
      ],
      "metadata": {
        "id": "EXOQs9a82Ywt"
      }
    },
    {
      "cell_type": "code",
      "source": [
        "from neqsim.thermo import fluid, fluid_df, bubp, TPflash, printFrame\n",
        "import pandas as pd\n",
        "\n",
        "feedgas = fluid('Electrolyte-CPA-EoS')\n",
        "feedgas.addComponent(\"CO2\", 0.875, 'kg/sec')\n",
        "feedgas.addComponent(\"water\", 10.0,\"kg/sec\")\n",
        "feedgas.addComponent(\"MDEA\", 2.0, 'kg/sec')\n",
        "feedgas.chemicalReactionInit()\n",
        "feedgas.setMixingRule(10)\n",
        "feedgas.setTemperature(45.0, \"C\")\n",
        "feedgas.setPressure(0.4, \"bara\")\n",
        "feedgas.init(0)\n",
        "\n",
        "loading = feedgas.getComponent('CO2').getz()/feedgas.getComponent('MDEA').getz()\n",
        "\n",
        "bubp(feedgas)\n",
        "print('loading [CO2/MDEA] ',  loading, '  partial pressure CO2 in gas ',  feedgas.getPhase('gas').getComponent('CO2').getx()*feedgas.getPressure(), ' [bar]')\n",
        "printFrame(feedgas)"
      ],
      "metadata": {
        "id": "WvLp3Wkt10p_",
        "outputId": "aae62f80-5a6a-4d19-d27d-2e56a15d822f",
        "colab": {
          "base_uri": "https://localhost:8080/"
        }
      },
      "execution_count": 6,
      "outputs": [
        {
          "output_type": "stream",
          "name": "stdout",
          "text": [
            "loading [CO2/MDEA]  1.18459213815042   partial pressure CO2 in gas  22.878712363232566  [bar]\n",
            "| 0                  | 1          | 2                           | 3                           | 4   | 5   | 6               |\n",
            "|:-------------------|:-----------|:----------------------------|:----------------------------|:----|:----|:----------------|\n",
            "|                    | total      | GAS                         | AQUEOUS                     |     |     |                 |\n",
            "| CO2                | 5.82645E-3 | 9.95318E-1                  | 5.82645E-3                  |     |     | [mole fraction] |\n",
            "| water              | 9.36259E-1 | 4.68248E-3                  | 9.36259E-1                  |     |     | [mole fraction] |\n",
            "| MDEA               | 3.16049E-4 | 1.26698E-9                  | 3.16049E-4                  |     |     | [mole fraction] |\n",
            "| OH-                | 7.32021E-9 | 7.32021E-49                 | 7.32021E-9                  |     |     | [mole fraction] |\n",
            "| H3O+               | 1.64045E-9 | 1.64045E-49                 | 1.64045E-9                  |     |     | [mole fraction] |\n",
            "| HCO3-              | 2.86125E-2 | 2.86125E-42                 | 2.86125E-2                  |     |     | [mole fraction] |\n",
            "| CO3--              | 1.24465E-4 | 1.24465E-44                 | 1.24465E-4                  |     |     | [mole fraction] |\n",
            "| MDEA+              | 2.88614E-2 | 2.88614E-42                 | 2.88614E-2                  |     |     | [mole fraction] |\n",
            "|                    |            |                             |                             |     |     |                 |\n",
            "| Density            |            | 4.22381E1                   | 1.18118E3                   |     |     | [kg/m^3]        |\n",
            "| PhaseFraction      |            | 1E-10                       | 1E0                         |     |     | [mole fraction] |\n",
            "| MolarMass          | 2.23817E1  | 4.38883E1                   | 2.23817E1                   |     |     | [kg/kmol]       |\n",
            "| Z factor           |            | 9.02917E-1                  | 1.64365E-2                  |     |     | [-]             |\n",
            "| Heat Capacity (Cp) |            | 1.0012E0                    | 2.91607E0                   |     |     | [kJ/kg*K]       |\n",
            "| Heat Capacity (Cv) |            | 6.97562E-1                  | 2.56015E0                   |     |     | [kJ/kg*K]       |\n",
            "| Speed of Sound     |            | 2.64744E2                   | 1.28636E3                   |     |     | [m/sec]         |\n",
            "| Enthalpy           | -2.73937E3 | 1.7619E1                    | -2.73937E3                  |     |     | [kJ/kg]         |\n",
            "| Entropy            | -4.72347E0 | -5.03288E-1                 | -4.72347E0                  |     |     | [kJ/kg*K]       |\n",
            "| JT coefficient     |            | 9.61214E-1                  | -2.08901E-2                 |     |     | [K/bar]         |\n",
            "|                    |            |                             |                             |     |     |                 |\n",
            "| Viscosity          |            | 1.70873E-5                  | 5.43529E-4                  |     |     | [kg/m*sec]      |\n",
            "| Conductivity       |            | 2.21071E-2                  | 6.4152E-1                   |     |     | [W/m*K]         |\n",
            "| SurfaceTension     |            | 1.04135E-1                  | 1.04135E-1                  |     |     | [N/m]           |\n",
            "|                    |            |                             |                             |     |     |                 |\n",
            "|                    |            |                             |                             |     |     |                 |\n",
            "|                    |            |                             |                             |     |     |                 |\n",
            "| Pressure           |            | 22.986345574987237          | 22.986345574987237          |     |     | [bar]           |\n",
            "| Temperature        |            | 318.15                      | 318.15                      |     |     | [K]             |\n",
            "|                    |            |                             |                             |     |     |                 |\n",
            "| Model              |            | Electrolyte-CPA-EOS-statoil | Electrolyte-CPA-EOS-statoil |     |     | -               |\n",
            "| Mixing Rule        |            | classic-CPA_T               | classic-CPA_T               |     |     | -               |\n",
            "|                    |            |                             |                             |     |     |                 |\n",
            "| Stream             |            |                             |                             |     |     | -               |\n",
            "|                    |            |                             |                             |     |     |                 |\n",
            "|                    |            |                             |                             |     |     |                 |\n",
            "|                    |            |                             |                             |     |     |                 |\n",
            "|                    |            |                             |                             |     |     |                 |\n"
          ]
        }
      ]
    },
    {
      "cell_type": "markdown",
      "source": [
        "#Thermodynamics of CO2 and alkanolamines\n",
        "In this notebook we will give examples of how to calculate solubility of CO2 in alkanolamines using neqsim."
      ],
      "metadata": {
        "id": "J2Gi7eMMziPc"
      }
    },
    {
      "cell_type": "code",
      "source": [
        "from neqsim.thermo import fluid, fluid_df, bubp, TPflash, printFrame\n",
        "import pandas as pd\n",
        "\n",
        "feedgas = fluid('Electrolyte-CPA-EoS')\n",
        "feedgas.addComponent(\"CO2\", 2.12, 'kg/sec')\n",
        "feedgas.addComponent(\"methane\", 90.0, 'kg/sec')\n",
        "feedgas.addComponent(\"ethane\", 2.0, 'kg/sec')\n",
        "feedgas.addComponent(\"water\", 10.0,\"kg/sec\")\n",
        "feedgas.addComponent(\"MDEA\", 1.0, 'kg/sec')\n",
        "feedgas.chemicalReactionInit()\n",
        "feedgas.setMixingRule(10)\n",
        "feedgas.setTemperature(45.0, \"C\")\n",
        "feedgas.setPressure(55.0, \"bara\")\n",
        "\n",
        "TPflash(feedgas)\n",
        "\n",
        "loading = (feedgas.getPhase('aqueous').getComponent('CO2').getx() + feedgas.getPhase('aqueous').getComponent('HCO3-').getx() + feedgas.getPhase('aqueous').getComponent('CO3--').getx())/(feedgas.getPhase('aqueous').getComponent('MDEA').getx()+feedgas.getPhase('aqueous').getComponent('MDEA+').getx())\n",
        "print('liquid loading ', loading, ' [mol CO2/mol MDEA]')\n",
        "\n",
        "print('partial pressure CO2 in gas ',  feedgas.getPhase('gas').getComponent('CO2').getx()*feedgas.getPressure(), ' [bar]')\n",
        "printFrame(feedgas)\n",
        "\n"
      ],
      "metadata": {
        "colab": {
          "base_uri": "https://localhost:8080/"
        },
        "id": "oxW3usO1zvSW",
        "outputId": "00b7e79a-413f-469d-deca-c4527d0019bd"
      },
      "execution_count": 16,
      "outputs": [
        {
          "output_type": "stream",
          "name": "stdout",
          "text": [
            "liquid loading  0.5240042472789962  [mol CO2/mol MDEA]\n",
            "partial pressure CO2 in gas  0.42010611747086746  [bar]\n",
            "| 0                  | 1           | 2                           | 3                           | 4   | 5   | 6               |\n",
            "|:-------------------|:------------|:----------------------------|:----------------------------|:----|:----|:----------------|\n",
            "|                    | total       | GAS                         | AQUEOUS                     |     |     |                 |\n",
            "| CO2                | 6.975E-3    | 7.63829E-3                  | 1.00585E-4                  |     |     | [mole fraction] |\n",
            "| methane            | 8.92767E-1  | 9.78771E-1                  | 1.41153E-3                  |     |     | [mole fraction] |\n",
            "| ethane             | 1.05847E-2  | 1.16039E-2                  | 2.13963E-5                  |     |     | [mole fraction] |\n",
            "| water              | 8.76469E-2  | 1.98651E-3                  | 9.75438E-1                  |     |     | [mole fraction] |\n",
            "| MDEA               | 6.26794E-4  | 9.55288E-9                  | 7.12284E-3                  |     |     | [mole fraction] |\n",
            "| OH-                | 9.10416E-9  | 1.0346E-47                  | 1.0346E-7                   |     |     | [mole fraction] |\n",
            "| H3O+               | 4.01141E-11 | 4.5586E-50                  | 4.5586E-10                  |     |     | [mole fraction] |\n",
            "| HCO3-              | 6.73206E-4  | 7.65037E-43                 | 7.65037E-3                  |     |     | [mole fraction] |\n",
            "| CO3--              | 1.77377E-5  | 2.01572E-44                 | 2.01572E-4                  |     |     | [mole fraction] |\n",
            "| MDEA+              | 7.08691E-4  | 8.05362E-43                 | 8.05362E-3                  |     |     | [mole fraction] |\n",
            "|                    |             |                             |                             |     |     |                 |\n",
            "| Density            |             | 3.6561E1                    | 1.04169E3                   |     |     | [kg/m^3]        |\n",
            "| PhaseFraction      |             | 9.12003E-1                  | 8.79966E-2                  |     |     | [mole fraction] |\n",
            "| MolarMass          | 1.67288E1   | 1.64233E1                   | 1.98955E1                   |     |     | [kg/kmol]       |\n",
            "| Z factor           |             | 9.33983E-1                  | 3.96386E-2                  |     |     | [-]             |\n",
            "| Heat Capacity (Cp) |             | 2.57782E0                   | 3.41814E0                   |     |     | [kJ/kg*K]       |\n",
            "| Heat Capacity (Cv) |             | 1.78443E0                   | 3.03285E0                   |     |     | [kJ/kg*K]       |\n",
            "| Speed of Sound     |             | 4.52937E2                   | 1.56607E3                   |     |     | [m/sec]         |\n",
            "| Enthalpy           | -2.06232E2  | 4.75722E1                   | -2.3776E3                   |     |     | [kJ/kg]         |\n",
            "| Entropy            | -2.13998E0  | -1.7509E0                   | -5.46872E0                  |     |     | [kJ/kg*K]       |\n",
            "| JT coefficient     |             | 3.53543E-1                  | -2.138E-2                   |     |     | [K/bar]         |\n",
            "|                    |             |                             |                             |     |     |                 |\n",
            "| Viscosity          |             | 1.29564E-5                  | 6.53845E-4                  |     |     | [kg/m*sec]      |\n",
            "| Conductivity       |             | 4.26378E-2                  | 6.4079E-1                   |     |     | [W/m*K]         |\n",
            "| SurfaceTension     |             | 6.00414E-2                  | 6.00414E-2                  |     |     | [N/m]           |\n",
            "|                    |             |                             |                             |     |     |                 |\n",
            "|                    |             |                             |                             |     |     |                 |\n",
            "|                    |             |                             |                             |     |     |                 |\n",
            "| Pressure           |             | 55.0                        | 55.0                        |     |     | [bar]           |\n",
            "| Temperature        |             | 318.15                      | 318.15                      |     |     | [K]             |\n",
            "|                    |             |                             |                             |     |     |                 |\n",
            "| Model              |             | Electrolyte-CPA-EOS-statoil | Electrolyte-CPA-EOS-statoil |     |     | -               |\n",
            "| Mixing Rule        |             | classic-CPA_T               | classic-CPA_T               |     |     | -               |\n",
            "|                    |             |                             |                             |     |     |                 |\n",
            "| Stream             |             |                             |                             |     |     | -               |\n",
            "|                    |             |                             |                             |     |     |                 |\n",
            "|                    |             |                             |                             |     |     |                 |\n",
            "|                    |             |                             |                             |     |     |                 |\n",
            "|                    |             |                             |                             |     |     |                 |\n"
          ]
        }
      ]
    }
  ]
}