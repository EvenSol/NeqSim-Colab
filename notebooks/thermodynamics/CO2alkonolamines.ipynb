{
  "nbformat": 4,
  "nbformat_minor": 0,
  "metadata": {
    "colab": {
      "provenance": [],
      "authorship_tag": "ABX9TyM0/Wj4mh7B/nMchzq9WY65",
      "include_colab_link": true
    },
    "kernelspec": {
      "name": "python3",
      "display_name": "Python 3"
    },
    "language_info": {
      "name": "python"
    }
  },
  "cells": [
    {
      "cell_type": "markdown",
      "metadata": {
        "id": "view-in-github",
        "colab_type": "text"
      },
      "source": [
        "<a href=\"https://colab.research.google.com/github/EvenSol/NeqSim-Colab/blob/master/notebooks/thermodynamics/CO2alkonolamines.ipynb\" target=\"_parent\"><img src=\"https://colab.research.google.com/assets/colab-badge.svg\" alt=\"Open In Colab\"/></a>"
      ]
    },
    {
      "cell_type": "code",
      "execution_count": 1,
      "metadata": {
        "colab": {
          "base_uri": "https://localhost:8080/"
        },
        "id": "f8h-pIecza4s",
        "outputId": "09104541-4fd4-44ee-ea4f-eefd7252020d"
      },
      "outputs": [
        {
          "output_type": "stream",
          "name": "stdout",
          "text": [
            "Looking in indexes: https://pypi.org/simple, https://us-python.pkg.dev/colab-wheels/public/simple/\n",
            "Collecting neqsim\n",
            "  Downloading neqsim-2.5.2-py3-none-any.whl (28.2 MB)\n",
            "\u001b[2K     \u001b[90m━━━━━━━━━━━━━━━━━━━━━━━━━━━━━━━━━━━━━━━━\u001b[0m \u001b[32m28.2/28.2 MB\u001b[0m \u001b[31m29.0 MB/s\u001b[0m eta \u001b[36m0:00:00\u001b[0m\n",
            "\u001b[?25hCollecting jpype1 (from neqsim)\n",
            "  Downloading JPype1-1.4.1-cp310-cp310-manylinux_2_12_x86_64.manylinux2010_x86_64.whl (465 kB)\n",
            "\u001b[2K     \u001b[90m━━━━━━━━━━━━━━━━━━━━━━━━━━━━━━━━━━━━━━\u001b[0m \u001b[32m465.3/465.3 kB\u001b[0m \u001b[31m41.4 MB/s\u001b[0m eta \u001b[36m0:00:00\u001b[0m\n",
            "\u001b[?25hRequirement already satisfied: pandas in /usr/local/lib/python3.10/dist-packages (from neqsim) (1.5.3)\n",
            "Requirement already satisfied: packaging in /usr/local/lib/python3.10/dist-packages (from jpype1->neqsim) (23.1)\n",
            "Requirement already satisfied: python-dateutil>=2.8.1 in /usr/local/lib/python3.10/dist-packages (from pandas->neqsim) (2.8.2)\n",
            "Requirement already satisfied: pytz>=2020.1 in /usr/local/lib/python3.10/dist-packages (from pandas->neqsim) (2022.7.1)\n",
            "Requirement already satisfied: numpy>=1.21.0 in /usr/local/lib/python3.10/dist-packages (from pandas->neqsim) (1.22.4)\n",
            "Requirement already satisfied: six>=1.5 in /usr/local/lib/python3.10/dist-packages (from python-dateutil>=2.8.1->pandas->neqsim) (1.16.0)\n",
            "Installing collected packages: jpype1, neqsim\n",
            "Successfully installed jpype1-1.4.1 neqsim-2.5.2\n"
          ]
        }
      ],
      "source": [
        "!pip install neqsim"
      ]
    },
    {
      "cell_type": "markdown",
      "source": [
        "#Thermodunamics of CO2 and alkanolamines\n",
        "In this notebook we will give examples of how to calculate solubility of CO2 in alkanolamines using neqsim."
      ],
      "metadata": {
        "id": "J2Gi7eMMziPc"
      }
    },
    {
      "cell_type": "code",
      "source": [
        "from neqsim.thermo import fluid, fluid_df, addOilFractions, printFrame, dataFrame, fluidcreator,createfluid,createfluid2, TPflash, phaseenvelope\n",
        "import pandas as pd\n",
        "\n",
        "feedgas = fluid('Electrolyte-CPA-EoS')\n",
        "feedgas.addComponent(\"methane\", 90.0, 'kg/sec')\n",
        "feedgas.addComponent(\"CO2\", 4.12, 'kg/sec')\n",
        "feedgas.addComponent(\"water\", 10.0,\"kg/sec\")\n",
        "feedgas.addComponent(\"MDEA\", 1.0, 'kg/sec')\n",
        "feedgas.chemicalReactionInit()\n",
        "feedgas.setMixingRule(10)\n",
        "feedgas.setTemperature(45.0, \"C\")\n",
        "feedgas.setPressure(55.0, \"bara\")\n",
        "\n",
        "TPflash(feedgas)\n",
        "\n",
        "print('partial pressure CO2 in gas ',  feedgas.getPhase('gas').getComponent('CO2').getx()*feedgas.getPressure(), ' [bar]')\n",
        "printFrame(feedgas)\n",
        "\n"
      ],
      "metadata": {
        "colab": {
          "base_uri": "https://localhost:8080/"
        },
        "id": "oxW3usO1zvSW",
        "outputId": "b2576253-b0f6-4837-f920-13be3622cc6d"
      },
      "execution_count": 10,
      "outputs": [
        {
          "output_type": "stream",
          "name": "stdout",
          "text": [
            "partial pressure CO2 in gas  0.8460943285038254  [bar]\n",
            "| 0                  | 1           | 2                           | 3                           | 4   | 5   | 6               |\n",
            "|:-------------------|:------------|:----------------------------|:----------------------------|:----|:----|:----------------|\n",
            "|                    | total       | GAS                         | AQUEOUS                     |     |     |                 |\n",
            "| methane            | 8.95963E-1  | 9.82627E-1                  | 1.54388E-3                  |     |     | [mole fraction] |\n",
            "| CO2                | 1.40424E-2  | 1.53835E-2                  | 2.01372E-4                  |     |     | [mole fraction] |\n",
            "| water              | 8.77452E-2  | 1.98949E-3                  | 9.72793E-1                  |     |     | [mole fraction] |\n",
            "| MDEA               | 4.13297E-4  | 6.56139E-9                  | 4.67869E-3                  |     |     | [mole fraction] |\n",
            "| OH-                | 6.07287E-9  | 6.87483E-48                 | 6.87483E-8                  |     |     | [mole fraction] |\n",
            "| H3O+               | 4.62511E-11 | 5.23588E-50                 | 5.23588E-10                 |     |     | [mole fraction] |\n",
            "| HCO3-              | 8.90806E-4  | 1.00844E-42                 | 1.00844E-2                  |     |     | [mole fraction] |\n",
            "| CO3--              | 1.80789E-5  | 2.04663E-44                 | 2.04663E-4                  |     |     | [mole fraction] |\n",
            "| MDEA+              | 9.26969E-4  | 1.04938E-42                 | 1.04938E-2                  |     |     | [mole fraction] |\n",
            "|                    |             |                             |                             |     |     |                 |\n",
            "| Density            |             | 3.66258E1                   | 1.05898E3                   |     |     | [kg/m^3]        |\n",
            "| PhaseFraction      |             | 9.11665E-1                  | 8.83348E-2                  |     |     | [mole fraction] |\n",
            "| MolarMass          | 1.67887E1   | 1.64772E1                   | 2.00044E1                   |     |     | [kg/kmol]       |\n",
            "| Z factor           |             | 9.35387E-1                  | 3.92041E-2                  |     |     | [-]             |\n",
            "| Heat Capacity (Cp) |             | 2.55227E0                   | 3.37001E0                   |     |     | [kJ/kg*K]       |\n",
            "| Heat Capacity (Cv) |             | 1.76593E0                   | 2.98946E0                   |     |     | [kJ/kg*K]       |\n",
            "| Speed of Sound     |             | 4.52953E2                   | 1.53174E3                   |     |     | [m/sec]         |\n",
            "| Enthalpy           | -2.14491E2  | 4.76541E1                   | -2.44293E3                  |     |     | [kJ/kg]         |\n",
            "| Entropy            | -2.14449E0  | -1.75965E0                  | -5.41595E0                  |     |     | [kJ/kg*K]       |\n",
            "| JT coefficient     |             | 3.50387E-1                  | -2.12233E-2                 |     |     | [K/bar]         |\n",
            "|                    |             |                             |                             |     |     |                 |\n",
            "| Viscosity          |             | 1.30299E-5                  | 6.21413E-4                  |     |     | [kg/m*sec]      |\n",
            "| Conductivity       |             | 4.25302E-2                  | 6.40725E-1                  |     |     | [W/m*K]         |\n",
            "| SurfaceTension     |             | 6.48265E-2                  | 6.48265E-2                  |     |     | [N/m]           |\n",
            "|                    |             |                             |                             |     |     |                 |\n",
            "|                    |             |                             |                             |     |     |                 |\n",
            "|                    |             |                             |                             |     |     |                 |\n",
            "| Pressure           |             | 55.0                        | 55.0                        |     |     | [bar]           |\n",
            "| Temperature        |             | 318.15                      | 318.15                      |     |     | [K]             |\n",
            "|                    |             |                             |                             |     |     |                 |\n",
            "| Model              |             | Electrolyte-CPA-EOS-statoil | Electrolyte-CPA-EOS-statoil |     |     | -               |\n",
            "| Mixing Rule        |             | classic-CPA_T               | classic-CPA_T               |     |     | -               |\n",
            "|                    |             |                             |                             |     |     |                 |\n",
            "| Stream             |             |                             |                             |     |     | -               |\n",
            "|                    |             |                             |                             |     |     |                 |\n",
            "|                    |             |                             |                             |     |     |                 |\n",
            "|                    |             |                             |                             |     |     |                 |\n",
            "|                    |             |                             |                             |     |     |                 |\n"
          ]
        }
      ]
    }
  ]
}