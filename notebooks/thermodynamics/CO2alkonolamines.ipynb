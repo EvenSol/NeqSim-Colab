{
  "nbformat": 4,
  "nbformat_minor": 0,
  "metadata": {
    "colab": {
      "provenance": [],
      "authorship_tag": "ABX9TyOdWH+i5hobdLGlny8u6CqT",
      "include_colab_link": true
    },
    "kernelspec": {
      "name": "python3",
      "display_name": "Python 3"
    },
    "language_info": {
      "name": "python"
    }
  },
  "cells": [
    {
      "cell_type": "markdown",
      "metadata": {
        "id": "view-in-github",
        "colab_type": "text"
      },
      "source": [
        "<a href=\"https://colab.research.google.com/github/EvenSol/NeqSim-Colab/blob/master/notebooks/thermodynamics/CO2alkonolamines.ipynb\" target=\"_parent\"><img src=\"https://colab.research.google.com/assets/colab-badge.svg\" alt=\"Open In Colab\"/></a>"
      ]
    },
    {
      "cell_type": "code",
      "execution_count": 1,
      "metadata": {
        "colab": {
          "base_uri": "https://localhost:8080/"
        },
        "id": "f8h-pIecza4s",
        "outputId": "5f4f650d-15b0-4dc9-bb41-04a0bda1a342"
      },
      "outputs": [
        {
          "output_type": "stream",
          "name": "stdout",
          "text": [
            "Looking in indexes: https://pypi.org/simple, https://us-python.pkg.dev/colab-wheels/public/simple/\n",
            "Collecting neqsim\n",
            "  Downloading neqsim-2.5.2-py3-none-any.whl (28.2 MB)\n",
            "\u001b[2K     \u001b[90m━━━━━━━━━━━━━━━━━━━━━━━━━━━━━━━━━━━━━━━━\u001b[0m \u001b[32m28.2/28.2 MB\u001b[0m \u001b[31m74.2 MB/s\u001b[0m eta \u001b[36m0:00:00\u001b[0m\n",
            "\u001b[?25hCollecting jpype1 (from neqsim)\n",
            "  Downloading JPype1-1.4.1-cp310-cp310-manylinux_2_12_x86_64.manylinux2010_x86_64.whl (465 kB)\n",
            "\u001b[2K     \u001b[90m━━━━━━━━━━━━━━━━━━━━━━━━━━━━━━━━━━━━━━\u001b[0m \u001b[32m465.3/465.3 kB\u001b[0m \u001b[31m39.3 MB/s\u001b[0m eta \u001b[36m0:00:00\u001b[0m\n",
            "\u001b[?25hRequirement already satisfied: pandas in /usr/local/lib/python3.10/dist-packages (from neqsim) (1.5.3)\n",
            "Requirement already satisfied: packaging in /usr/local/lib/python3.10/dist-packages (from jpype1->neqsim) (23.1)\n",
            "Requirement already satisfied: python-dateutil>=2.8.1 in /usr/local/lib/python3.10/dist-packages (from pandas->neqsim) (2.8.2)\n",
            "Requirement already satisfied: pytz>=2020.1 in /usr/local/lib/python3.10/dist-packages (from pandas->neqsim) (2022.7.1)\n",
            "Requirement already satisfied: numpy>=1.21.0 in /usr/local/lib/python3.10/dist-packages (from pandas->neqsim) (1.22.4)\n",
            "Requirement already satisfied: six>=1.5 in /usr/local/lib/python3.10/dist-packages (from python-dateutil>=2.8.1->pandas->neqsim) (1.16.0)\n",
            "Installing collected packages: jpype1, neqsim\n",
            "Successfully installed jpype1-1.4.1 neqsim-2.5.2\n"
          ]
        }
      ],
      "source": [
        "!pip install neqsim"
      ]
    },
    {
      "cell_type": "markdown",
      "source": [
        "#Solubility of CO2 in MDEA"
      ],
      "metadata": {
        "id": "EXOQs9a82Ywt"
      }
    },
    {
      "cell_type": "code",
      "source": [
        "from neqsim.thermo import fluid, fluid_df, bubp, TPflash, printFrame\n",
        "import pandas as pd\n",
        "\n",
        "feedgas = fluid('Electrolyte-CPA-EoS')\n",
        "feedgas.addComponent(\"CO2\", 0.3, 'kg/sec')\n",
        "feedgas.addComponent(\"water\", 10.0,\"kg/sec\")\n",
        "feedgas.addComponent(\"MDEA\", 2.0, 'kg/sec')\n",
        "feedgas.chemicalReactionInit()\n",
        "feedgas.setMixingRule(10)\n",
        "feedgas.setTemperature(45.0, \"C\")\n",
        "feedgas.setPressure(0.4, \"bara\")\n",
        "feedgas.init(0)\n",
        "\n",
        "loading = feedgas.getComponent('CO2').getz()/feedgas.getComponent('MDEA').getz()\n",
        "\n",
        "bubp(feedgas)\n",
        "print('loading [CO2/MDEA] ',  loading, '  partial pressure CO2 in gas ',  feedgas.getPhase('gas').getComponent('CO2').getx()*feedgas.getPressure(), ' [bar]')\n",
        "printFrame(feedgas)"
      ],
      "metadata": {
        "id": "WvLp3Wkt10p_",
        "outputId": "4e91f890-75fc-4020-eeaa-5909129e543a",
        "colab": {
          "base_uri": "https://localhost:8080/"
        }
      },
      "execution_count": 26,
      "outputs": [
        {
          "output_type": "stream",
          "name": "stdout",
          "text": [
            "loading [CO2/MDEA]  0.406145875937287   partial pressure CO2 in gas  0.30145587651739447  [bar]\n",
            "| 0                  | 1           | 2                           | 3                           | 4   | 5   | 6               |\n",
            "|:-------------------|:------------|:----------------------------|:----------------------------|:----|:----|:----------------|\n",
            "|                    | total       | GAS                         | AQUEOUS                     |     |     |                 |\n",
            "| CO2                | 8.71138E-5  | 7.6878E-1                   | 8.71138E-5                  |     |     | [mole fraction] |\n",
            "| water              | 9.58735E-1  | 2.31218E-1                  | 9.58735E-1                  |     |     | [mole fraction] |\n",
            "| MDEA               | 1.69416E-2  | 1.2953E-6                   | 1.69416E-2                  |     |     | [mole fraction] |\n",
            "| OH-                | 1.72034E-7  | 1.72034E-47                 | 1.72034E-7                  |     |     | [mole fraction] |\n",
            "| H3O+               | 6.88095E-10 | 6.88095E-50                 | 6.88095E-10                 |     |     | [mole fraction] |\n",
            "| HCO3-              | 1.12591E-2  | 1.12591E-42                 | 1.12591E-2                  |     |     | [mole fraction] |\n",
            "| CO3--              | 5.72537E-4  | 5.72537E-44                 | 5.72537E-4                  |     |     | [mole fraction] |\n",
            "| MDEA+              | 1.24043E-2  | 1.24043E-42                 | 1.24043E-2                  |     |     | [mole fraction] |\n",
            "|                    |             |                             |                             |     |     |                 |\n",
            "| Density            |             | 5.65223E-1                  | 1.06272E3                   |     |     | [kg/m^3]        |\n",
            "| PhaseFraction      |             | 1E-10                       | 1E0                         |     |     | [mole fraction] |\n",
            "| MolarMass          | 2.1506E1    | 3.79996E1                   | 2.1506E1                    |     |     | [kg/kmol]       |\n",
            "| Z factor           |             | 9.96584E-1                  | 2.99473E-4                  |     |     | [-]             |\n",
            "| Heat Capacity (Cp) |             | 9.96838E-1                  | 3.19799E0                   |     |     | [kJ/kg*K]       |\n",
            "| Heat Capacity (Cv) |             | 7.71322E-1                  | 2.81752E0                   |     |     | [kJ/kg*K]       |\n",
            "| Speed of Sound     |             | 2.98918E2                   | 1.50547E3                   |     |     | [m/sec]         |\n",
            "| Enthalpy           | -2.38407E3  | 4.15778E1                   | -2.38407E3                  |     |     | [kJ/kg]         |\n",
            "| Entropy            | -5.06358E0  | 4.6793E-1                   | -5.06358E0                  |     |     | [kJ/kg*K]       |\n",
            "| JT coefficient     |             | 3.31886E0                   | -2.21419E-2                 |     |     | [K/bar]         |\n",
            "|                    |             |                             |                             |     |     |                 |\n",
            "| Viscosity          |             | 1.46716E-5                  | 7.42241E-4                  |     |     | [kg/m*sec]      |\n",
            "| Conductivity       |             | 2.02251E-2                  | 6.4152E-1                   |     |     | [W/m*K]         |\n",
            "| SurfaceTension     |             | 7.32626E-2                  | 7.32626E-2                  |     |     | [N/m]           |\n",
            "|                    |             |                             |                             |     |     |                 |\n",
            "|                    |             |                             |                             |     |     |                 |\n",
            "|                    |             |                             |                             |     |     |                 |\n",
            "| Pressure           |             | 0.3921222229070761          | 0.3921222229070761          |     |     | [bar]           |\n",
            "| Temperature        |             | 318.15                      | 318.15                      |     |     | [K]             |\n",
            "|                    |             |                             |                             |     |     |                 |\n",
            "| Model              |             | Electrolyte-CPA-EOS-statoil | Electrolyte-CPA-EOS-statoil |     |     | -               |\n",
            "| Mixing Rule        |             | classic-CPA_T               | classic-CPA_T               |     |     | -               |\n",
            "|                    |             |                             |                             |     |     |                 |\n",
            "| Stream             |             |                             |                             |     |     | -               |\n",
            "|                    |             |                             |                             |     |     |                 |\n",
            "|                    |             |                             |                             |     |     |                 |\n",
            "|                    |             |                             |                             |     |     |                 |\n",
            "|                    |             |                             |                             |     |     |                 |\n"
          ]
        }
      ]
    },
    {
      "cell_type": "markdown",
      "source": [
        "#Thermodynamics of CO2 and alkanolamines\n",
        "In this notebook we will give examples of how to calculate solubility of CO2 in alkanolamines using neqsim."
      ],
      "metadata": {
        "id": "J2Gi7eMMziPc"
      }
    },
    {
      "cell_type": "code",
      "source": [
        "from neqsim.thermo import fluid, fluid_df, bubp, TPflash, printFrame\n",
        "import pandas as pd\n",
        "\n",
        "feedgas = fluid('Electrolyte-CPA-EoS')\n",
        "feedgas.addComponent(\"CO2\", 4.12, 'kg/sec')\n",
        "feedgas.addComponent(\"methane\", 90.0, 'kg/sec')\n",
        "feedgas.addComponent(\"ethane\", 2.0, 'kg/sec')\n",
        "feedgas.addComponent(\"water\", 10.0,\"kg/sec\")\n",
        "feedgas.addComponent(\"MDEA\", 1.0, 'kg/sec')\n",
        "feedgas.chemicalReactionInit()\n",
        "feedgas.setMixingRule(10)\n",
        "feedgas.setTemperature(45.0, \"C\")\n",
        "feedgas.setPressure(55.0, \"bara\")\n",
        "\n",
        "TPflash(feedgas)\n",
        "\n",
        "print('partial pressure CO2 in gas ',  feedgas.getPhase('gas').getComponent('CO2').getx()*feedgas.getPressure(), ' [bar]')\n",
        "printFrame(feedgas)\n",
        "\n"
      ],
      "metadata": {
        "colab": {
          "base_uri": "https://localhost:8080/"
        },
        "id": "oxW3usO1zvSW",
        "outputId": "e866aaae-5e78-4ccd-ac8c-cca08daaf862"
      },
      "execution_count": 27,
      "outputs": [
        {
          "output_type": "stream",
          "name": "stdout",
          "text": [
            "partial pressure CO2 in gas  1.2786834665222244  [bar]\n",
            "| 0                  | 1           | 2                           | 3                           | 4   | 5   | 6               |\n",
            "|:-------------------|:------------|:----------------------------|:----------------------------|:----|:----|:----------------|\n",
            "|                    | total       | GAS                         | AQUEOUS                     |     |     |                 |\n",
            "| CO2                | 2.12742E-2  | 2.32488E-2                  | 1.77035E-4                  |     |     | [mole fraction] |\n",
            "| methane            | 8.81459E-1  | 9.63329E-1                  | 6.73075E-3                  |     |     | [mole fraction] |\n",
            "| ethane             | 1.04506E-2  | 1.14238E-2                  | 5.22965E-5                  |     |     | [mole fraction] |\n",
            "| water              | 8.14473E-2  | 1.99802E-3                  | 9.3031E-1                   |     |     | [mole fraction] |\n",
            "| MDEA               | 1.6199E-5   | 7.10385E-9                  | 1.89198E-4                  |     |     | [mole fraction] |\n",
            "| OH-                | 3.68759E-9  | 4.30871E-48                 | 4.30871E-8                  |     |     | [mole fraction] |\n",
            "| H3O+               | 2.02273E-11 | 2.36343E-50                 | 2.36343E-10                 |     |     | [mole fraction] |\n",
            "| HCO3-              | 6.26401E-4  | 7.31908E-43                 | 7.31908E-3                  |     |     | [mole fraction] |\n",
            "| CO3--              | 3.08474E-5  | 3.60431E-44                 | 3.60431E-4                  |     |     | [mole fraction] |\n",
            "| MDEA+              | 4.6953E-3   | 5.48614E-42                 | 5.48614E-2                  |     |     | [mole fraction] |\n",
            "|                    |             |                             |                             |     |     |                 |\n",
            "| Density            |             | 3.75833E1                   | 1.24028E3                   |     |     | [kg/m^3]        |\n",
            "| PhaseFraction      |             | 9.14415E-1                  | 8.55847E-2                  |     |     | [mole fraction] |\n",
            "| MolarMass          | 1.74652E1   | 1.68574E1                   | 2.39598E1                   |     |     | [kg/kmol]       |\n",
            "| Z factor           |             | 9.32591E-1                  | 4.00969E-2                  |     |     | [-]             |\n",
            "| Heat Capacity (Cp) |             | 2.51771E0                   | 2.72537E0                   |     |     | [kJ/kg*K]       |\n",
            "| Heat Capacity (Cv) |             | 1.74035E0                   | 2.39077E0                   |     |     | [kJ/kg*K]       |\n",
            "| Speed of Sound     |             | 4.46707E2                   | 1.2223E3                    |     |     | [m/sec]         |\n",
            "| Enthalpy           | -2.58247E2  | 4.56964E1                   | -2.54303E3                  |     |     | [kJ/kg]         |\n",
            "| Entropy            | -1.99465E0  | -1.6753E0                   | -4.39525E0                  |     |     | [kJ/kg*K]       |\n",
            "| JT coefficient     |             | 3.58283E-1                  | -2.11159E-2                 |     |     | [K/bar]         |\n",
            "|                    |             |                             |                             |     |     |                 |\n",
            "| Viscosity          |             | 1.31008E-5                  | 5.30749E-4                  |     |     | [kg/m*sec]      |\n",
            "| Conductivity       |             | 4.20481E-2                  | 6.38629E-1                  |     |     | [W/m*K]         |\n",
            "| SurfaceTension     |             | 8.92396E-2                  | 8.92396E-2                  |     |     | [N/m]           |\n",
            "|                    |             |                             |                             |     |     |                 |\n",
            "|                    |             |                             |                             |     |     |                 |\n",
            "|                    |             |                             |                             |     |     |                 |\n",
            "| Pressure           |             | 55.0                        | 55.0                        |     |     | [bar]           |\n",
            "| Temperature        |             | 318.15                      | 318.15                      |     |     | [K]             |\n",
            "|                    |             |                             |                             |     |     |                 |\n",
            "| Model              |             | Electrolyte-CPA-EOS-statoil | Electrolyte-CPA-EOS-statoil |     |     | -               |\n",
            "| Mixing Rule        |             | classic-CPA_T               | classic-CPA_T               |     |     | -               |\n",
            "|                    |             |                             |                             |     |     |                 |\n",
            "| Stream             |             |                             |                             |     |     | -               |\n",
            "|                    |             |                             |                             |     |     |                 |\n",
            "|                    |             |                             |                             |     |     |                 |\n",
            "|                    |             |                             |                             |     |     |                 |\n",
            "|                    |             |                             |                             |     |     |                 |\n"
          ]
        }
      ]
    }
  ]
}