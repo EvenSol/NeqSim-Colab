{
  "nbformat": 4,
  "nbformat_minor": 0,
  "metadata": {
    "colab": {
      "name": "ThermodynamicsOfMineralScale.ipynb",
      "provenance": [],
      "include_colab_link": true
    },
    "kernelspec": {
      "name": "python3",
      "display_name": "Python 3"
    }
  },
  "cells": [
    {
      "cell_type": "markdown",
      "metadata": {
        "id": "view-in-github",
        "colab_type": "text"
      },
      "source": [
        "<a href=\"https://colab.research.google.com/github/EvenSol/NeqSim-Colab/blob/master/notebooks/thermodynamics/ThermodynamicsOfMineralScale.ipynb\" target=\"_parent\"><img src=\"https://colab.research.google.com/assets/colab-badge.svg\" alt=\"Open In Colab\"/></a>"
      ]
    },
    {
      "cell_type": "code",
      "metadata": {
        "id": "c7oLiYgcEV2Y",
        "cellView": "form"
      },
      "source": [
        "#@title Thermodynamics of mineral scale formation\n",
        "#@markdown This notebook describes mineral scale formation in oil and gas production.\n",
        "%%capture\n",
        "!pip install neqsim==2.5.35\n",
        "import neqsim\n",
        "from neqsim.thermo.thermoTools import *\n",
        "import matplotlib\n",
        "import numpy as np\n",
        "import matplotlib.pyplot as plt\n",
        "import math\n",
        "%matplotlib inline"
      ],
      "execution_count": null,
      "outputs": []
    },
    {
      "cell_type": "code",
      "metadata": {
        "id": "9Kkz5ZeLEyRv",
        "cellView": "form"
      },
      "source": [
        "#@title Fundamentals of Scale Formation\n",
        "#@markdown This video gives an introduction to mineral scale in oil and gas production\n",
        "#@markdown  https://www.youtube.com/watch?v=-ssdObbztqA&t=850s\n"
      ],
      "execution_count": 1,
      "outputs": []
    },
    {
      "cell_type": "markdown",
      "source": [
        "#Mineral Scale Formation\n",
        "Mineral scale formation in oil and gas production, especially offshore, is a significant challenge that can impact the efficiency and safety of operations. Here's a detailed look at the process and the equations involved:\n",
        "\n",
        "### 1. **Understanding Mineral Scale Formation**\n",
        "\n",
        "   - **Causes**: Scale formation is primarily caused by the precipitation of minerals from production fluids. These minerals include calcium carbonate (CaCO₃), barium sulfate (BaSO₄), and strontium sulfate (SrSO₄). The precipitation occurs when temperature, pressure, or composition changes cause these minerals to exceed their solubility limits.\n",
        "\n",
        "   - **Common Locations**: Scale often forms in pipes, valves, and other equipment, which can lead to reduced flow, increased pressure drop, and even blockages.\n",
        "\n",
        "   - **Factors Affecting Scale Formation**:\n",
        "     - **Temperature and Pressure Changes**: Changes in temperature and pressure can alter the solubility of minerals.\n",
        "     - **Water Chemistry**: The presence of ions like Ca²⁺, Ba²⁺, Sr²⁺, and SO₄²⁻ in produced water.\n",
        "     - **Mixing of Waters**: Mixing of different waters (e.g., formation water with injected seawater) can lead to supersaturation of certain minerals.\n",
        "     - **pH Levels**: pH changes can affect carbonate scale precipitation.\n",
        "\n",
        "### 2. **Key Equations and Chemical Reactions**\n",
        "\n",
        "   - **Calcium Carbonate (CaCO₃) Scale**:\n",
        "  -  Solubility Product: $K_{sp} = [Ca^{2+}][CO_3^{2-}] $\n",
        "     - Formation Reaction: $ Ca^{2+} + CO_3^{2-} \\rightarrow CaCO_3(s) $\n",
        "\n",
        "   - **Barium Sulfate (BaSO₄) Scale**:\n",
        "     - Solubility Product: $ K_{sp} = [Ba^{2+}][SO_4^{2-}] $\n",
        "     - Formation Reaction: $ Ba^{2+} + SO_4^{2-} \\rightarrow BaSO_4(s) $\n",
        "\n",
        "   - **Strontium Sulfate (SrSO₄) Scale**:\n",
        "     - Solubility Product: $ K_{sp} = [Sr^{2+}][SO_4^{2-}] $\n",
        "     - Formation Reaction: $ Sr^{2+} + SO_4^{2-} \\rightarrow SrSO_4(s) $\n"
      ],
      "metadata": {
        "id": "8pvsHV0tokFe"
      }
    },
    {
      "cell_type": "code",
      "metadata": {
        "id": "EeJ3zgxwP9mv",
        "colab": {
          "base_uri": "https://localhost:8080/"
        },
        "outputId": "ab14a796-5d72-44e7-bc43-7ff493d02e39"
      },
      "source": [
        "#@title  Calculation of mineral scale in oil and gas production\n",
        "\n",
        "from neqsim.thermo import fluid, TPflash, checkScalePotential\n",
        "nitrogen = 1.0 #@param {type:\"number\"}\n",
        "CO2 = 1.1 #@param {type:\"number\"}\n",
        "methane = 88.3  #@param {type:\"number\"}\n",
        "ethane = 5.0  #@param {type:\"number\"}\n",
        "propane =  1.5 #@param {type:\"number\"}\n",
        "water =  1.25 #@param {type:\"number\"}\n",
        "Naplus =  0.025 #@param {type:\"number\"}\n",
        "Clminus =  0.025 #@param {type:\"number\"}\n",
        "Caplus =  0.00025 #@param {type:\"number\"}\n",
        "Feplus =  0.00025 #@param {type:\"number\"}\n",
        "OHminus =  0.00025 #@param {type:\"number\"}\n",
        "\n",
        "fluid1 = fluid('Electrolyte-CPA-EoS')\n",
        "fluid1.addComponent(\"nitrogen\", nitrogen)\n",
        "fluid1.addComponent(\"CO2\", CO2)\n",
        "fluid1.addComponent(\"methane\", methane)\n",
        "fluid1.addComponent(\"ethane\", ethane)\n",
        "fluid1.addComponent(\"propane\", propane)\n",
        "fluid1.addComponent(\"water\", water,\"kg/sec\")\n",
        "fluid1.addComponent(\"Na+\", Naplus,\"mol/sec\")\n",
        "fluid1.addComponent(\"Cl-\", Clminus,\"mol/sec\")\n",
        "fluid1.addComponent(\"Ca++\", Caplus,\"mol/sec\")\n",
        "fluid1.addComponent(\"Fe++\", Feplus,\"mol/sec\")\n",
        "fluid1.addComponent(\"OH-\", OHminus,\"mol/sec\")\n",
        "fluid1.chemicalReactionInit()\n",
        "fluid1.setMixingRule(10)\n",
        "\n",
        "TPflash(fluid1)\n",
        "ionCompResults = calcIonComposition(fluid1)\n",
        "scaleResults = checkScalePotential(fluid1)\n",
        "\n",
        "print(\"pH of water \",fluid1.getPhase(\"aqueous\").getpH())\n",
        "\n",
        "import pandas\n",
        "printFrame(fluid1)\n",
        "print(\"Composition of aqueous phase:\")\n",
        "print(pandas.DataFrame(ionCompResults).to_markdown(index=False))\n",
        "print(\"Relative solubility in salts:\")\n",
        "print(pandas.DataFrame(scaleResults).to_markdown(index=False))"
      ],
      "execution_count": null,
      "outputs": [
        {
          "output_type": "stream",
          "name": "stdout",
          "text": [
            "pH of water  4.582493379367544\n",
            "| 0                  | 1           | 2                           | 3                           | 4   | 5   | 6               |\n",
            "|:-------------------|:------------|:----------------------------|:----------------------------|:----|:----|:----------------|\n",
            "|                    | total       | gas                         | aqueous                     |     |     |                 |\n",
            "| nitrogen           | 6.01189E-3  | 9.99334E-3                  | 1.33045E-7                  |     |     | [mole fraction] |\n",
            "| CO2                | 6.61139E-3  | 1.09859E-2                  | 6.15446E-6                  |     |     | [mole fraction] |\n",
            "| methane            | 5.3085E-1   | 8.82401E-1                  | 2.75108E-5                  |     |     | [mole fraction] |\n",
            "| ethane             | 3.00594E-2  | 4.99656E-2                  | 2.32741E-6                  |     |     | [mole fraction] |\n",
            "| propane            | 9.01783E-3  | 1.499E-2                    | 2.05581E-7                  |     |     | [mole fraction] |\n",
            "| water              | 4.17144E-1  | 3.16638E-2                  | 9.99197E-1                  |     |     | [mole fraction] |\n",
            "| Na+                | 1.50297E-4  | 3.77237E-44                 | 3.77237E-4                  |     |     | [mole fraction] |\n",
            "| Cl-                | 1.50297E-4  | 3.77237E-44                 | 3.77237E-4                  |     |     | [mole fraction] |\n",
            "| Ca++               | 1.50297E-6  | 3.77237E-46                 | 3.77237E-6                  |     |     | [mole fraction] |\n",
            "| Fe++               | 1.50297E-6  | 3.77237E-46                 | 3.77237E-6                  |     |     | [mole fraction] |\n",
            "| OH-                | 1.26324E-10 | 3.17067E-50                 | 3.17067E-10                 |     |     | [mole fraction] |\n",
            "| H3O+               | 1.87151E-7  | 4.69738E-47                 | 4.69738E-7                  |     |     | [mole fraction] |\n",
            "| HCO3-              | 1.67776E-6  | 4.21108E-46                 | 4.21108E-6                  |     |     | [mole fraction] |\n",
            "| CO3--              | 6.11839E-9  | 1.53568E-48                 | 1.53568E-8                  |     |     | [mole fraction] |\n",
            "|                    |             |                             |                             |     |     |                 |\n",
            "| Density            |             | 7.23175E-1                  | 9.95553E2                   |     |     | [kg/m^3]        |\n",
            "| PhaseFraction      |             | 6.01584E-1                  | 3.98416E-1                  |     |     | [mole fraction] |\n",
            "| MolarMass          | 1.78012E1   | 1.76537E1                   | 1.8024E1                    |     |     | [kg/kmol]       |\n",
            "| Z factor           |             | 9.97792E-1                  | 7.32669E-4                  |     |     | [-]             |\n",
            "| Heat Capacity (Cp) |             | 2.1096E0                    | 3.64503E0                   |     |     | [kJ/kg*K]       |\n",
            "| Heat Capacity (Cv) |             | 1.63231E0                   | 3.27366E0                   |     |     | [kJ/kg*K]       |\n",
            "| Speed of Sound     |             | 4.25065E2                   | 1.71135E3                   |     |     | [m/sec]         |\n",
            "| Enthalpy           | -9.28569E2  | 5.04811E1                   | -2.37651E3                  |     |     | [kJ/kg]         |\n",
            "| Entropy            | -2.29197E0  | 4.26693E-1                  | -6.31266E0                  |     |     | [kJ/kg*K]       |\n",
            "| JT coefficient     |             | 5.84128E-1                  | -2.16861E-2                 |     |     | [K/bar]         |\n",
            "|                    |             |                             |                             |     |     |                 |\n",
            "| Viscosity          |             | 1.11399E-5                  | 8.90937E-4                  |     |     | [kg/m*sec]      |\n",
            "| Conductivity       |             | 3.26599E-2                  | 6.15021E-1                  |     |     | [W/m*K]         |\n",
            "| SurfaceTension     |             | 7.24646E-2                  | 7.24646E-2                  |     |     | [N/m]           |\n",
            "|                    |             |                             |                             |     |     |                 |\n",
            "|                    |             |                             |                             |     |     |                 |\n",
            "|                    |             |                             |                             |     |     |                 |\n",
            "| Pressure           |             | 1.01325                     | 1.01325                     |     |     | [bar]           |\n",
            "| Temperature        |             | 298.15                      | 298.15                      |     |     | [K]             |\n",
            "|                    |             |                             |                             |     |     |                 |\n",
            "| Model              |             | Electrolyte-CPA-EOS-statoil | Electrolyte-CPA-EOS-statoil |     |     | -               |\n",
            "| Mixing Rule        |             | classic-CPA_T               | classic-CPA_T               |     |     | -               |\n",
            "|                    |             |                             |                             |     |     |                 |\n",
            "| Stream             |             |                             |                             |     |     | -               |\n",
            "|                    |             |                             |                             |     |     |                 |\n",
            "|                    |             |                             |                             |     |     |                 |\n",
            "|                    |             |                             |                             |     |     |                 |\n",
            "|                    |             |                             |                             |     |     |                 |\n",
            "Composition of aqueous phase:\n",
            "| 0         | 1              | 2            | 3          |\n",
            "|:----------|:---------------|:-------------|:-----------|\n",
            "| Component | mmol/kgSolvent | mg/kgSolvent | Act.Coef   |\n",
            "| nitrogen  | 0.00739119     | 0.207053     | 9.43226E-7 |\n",
            "| CO2       | 0.341905       | 15.0472      | 1.02448    |\n",
            "| methane   | 1.52833        | 24.5191      | 1.02183    |\n",
            "| ethane    | 0.129297       | 3.88795      | 1.02922    |\n",
            "| propane   | 0.0114208      | 0.503625     | 1.03811    |\n",
            "| water     | 55509.3        | 1000000.0    | 1.00003    |\n",
            "| Na+       | 20.957         | 481.801      | 0.864912   |\n",
            "| Cl-       | 20.957         | 742.926      | 0.874832   |\n",
            "| Ca++      | 0.20957        | 8.39956      | 0.561159   |\n",
            "| Fe++      | 0.20957        | 11.7045      | 0.560018   |\n",
            "| OH-       | 1.76143E-5     | 2.99461E-4   | 0.874291   |\n",
            "| H3O+      | 0.0260958      | 0.496342     | 0.861623   |\n",
            "| HCO3-     | 0.233942       | 14.2705      | 0.871737   |\n",
            "| CO3--     | 8.5313E-4      | 0.0511725    | 0.557349   |\n",
            "|           |                |              |            |\n",
            "Relative solubility in salts:\n",
            "| 0      | 1                     | 2   |\n",
            "|:-------|:----------------------|:----|\n",
            "| Salt   | relative solubility   |     |\n",
            "| NaCl   | 8.549222154280598E-6  |     |\n",
            "| FeCO3  | 3.64259410872872      |     |\n",
            "| CaCO3  | 0.3643724463951765    |     |\n",
            "| Na2CO3 | 3.254435886030615E-12 |     |\n",
            "| NaHCO3 | 9.26231482045862E-6   |     |\n",
            "|        |                       |     |\n",
            "|        |                       |     |\n",
            "|        |                       |     |\n",
            "|        |                       |     |\n"
          ]
        }
      ]
    }
  ]
}