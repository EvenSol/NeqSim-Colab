{
  "nbformat": 4,
  "nbformat_minor": 0,
  "metadata": {
    "colab": {
      "provenance": [],
      "authorship_tag": "ABX9TyPpCHTrVBP/QQxGaPtNX7ha",
      "include_colab_link": true
    },
    "kernelspec": {
      "name": "python3",
      "display_name": "Python 3"
    },
    "language_info": {
      "name": "python"
    }
  },
  "cells": [
    {
      "cell_type": "markdown",
      "metadata": {
        "id": "view-in-github",
        "colab_type": "text"
      },
      "source": [
        "<a href=\"https://colab.research.google.com/github/EvenSol/NeqSim-Colab/blob/master/notebooks/thermodynamics/readproperties.ipynb\" target=\"_parent\"><img src=\"https://colab.research.google.com/assets/colab-badge.svg\" alt=\"Open In Colab\"/></a>"
      ]
    },
    {
      "cell_type": "code",
      "execution_count": 1,
      "metadata": {
        "id": "arKsu7l9Wh5j"
      },
      "outputs": [],
      "source": [
        "%%capture\n",
        "!pip install neqsim"
      ]
    },
    {
      "cell_type": "markdown",
      "source": [],
      "metadata": {
        "id": "eyakuRlO4KKn"
      }
    },
    {
      "cell_type": "markdown",
      "source": [
        "In this notebook we will show how to read various properties from a fluid."
      ],
      "metadata": {
        "id": "S1_-ukoe4KWz"
      }
    },
    {
      "cell_type": "markdown",
      "source": [
        "#Create a fluid"
      ],
      "metadata": {
        "id": "DCRq8lmOqZJe"
      }
    },
    {
      "cell_type": "code",
      "source": [
        "from neqsim.thermo import createfluid, TPflash, printFrame\n",
        "\n",
        "fluid1 = createfluid('rich gas')\n",
        "fluid1.setPressure(10.0, \"bara\")\n",
        "fluid1.setTemperature(22.3, \"C\")\n",
        "TPflash(fluid1)\n",
        "printFrame(fluid1)"
      ],
      "metadata": {
        "id": "3bdnoexzqhVV",
        "outputId": "553ea46e-3f57-4c11-afac-59f0a674f94e",
        "colab": {
          "base_uri": "https://localhost:8080/"
        }
      },
      "execution_count": 2,
      "outputs": [
        {
          "output_type": "stream",
          "name": "stdout",
          "text": [
            "| 0                    | 1          | 2                 | 3                 | 4   | 5   | 6               |\n",
            "|:---------------------|:-----------|:------------------|:------------------|:----|:----|:----------------|\n",
            "|                      | total      | GAS               | OIL               |     |     |                 |\n",
            "| nitrogen             | 9.07441E-3 | 9.65018E-3        | 1.91635E-4        |     |     | [mole fraction] |\n",
            "| CO2                  | 1.81488E-2 | 1.90263E-2        | 4.61185E-3        |     |     | [mole fraction] |\n",
            "| methane              | 7.44102E-1 | 7.89455E-1        | 4.44003E-2        |     |     | [mole fraction] |\n",
            "| ethane               | 9.98185E-2 | 1.04153E-1        | 3.295E-2          |     |     | [mole fraction] |\n",
            "| propane              | 4.53721E-2 | 4.50577E-2        | 5.0221E-2         |     |     | [mole fraction] |\n",
            "| i-butane             | 9.07441E-3 | 8.22288E-3        | 2.22115E-2        |     |     | [mole fraction] |\n",
            "| n-butane             | 1.08893E-2 | 9.24972E-3        | 3.61841E-2        |     |     | [mole fraction] |\n",
            "| i-pentane            | 9.07441E-3 | 5.90349E-3        | 5.79943E-2        |     |     | [mole fraction] |\n",
            "| n-pentane            | 9.07441E-3 | 5.22877E-3        | 6.84037E-2        |     |     | [mole fraction] |\n",
            "| n-hexane             | 9.07441E-3 | 2.571E-3          | 1.09407E-1        |     |     | [mole fraction] |\n",
            "| n-heptane            | 9.07441E-3 | 9.93815E-4        | 1.33739E-1        |     |     | [mole fraction] |\n",
            "| n-octane             | 9.07441E-3 | 3.37714E-4        | 1.43861E-1        |     |     | [mole fraction] |\n",
            "| n-nonane             | 9.07441E-3 | 1.14252E-4        | 1.47309E-1        |     |     | [mole fraction] |\n",
            "| nC10                 | 9.07441E-3 | 3.60697E-5        | 1.48515E-1        |     |     | [mole fraction] |\n",
            "|                      |            |                   |                   |     |     |                 |\n",
            "| Density              |            | 8.87057E0         | 6.85154E2         |     |     | kg/m3           |\n",
            "| Phase Fraction       |            | 9.39127E-1        | 6.08729E-2        |     |     | [mole fraction] |\n",
            "| Molar Mass           | 2.56456E-2 | 2.109E-2          | 9.59282E-2        |     |     | kg/mol          |\n",
            "| Z factor             |            | 9.67846E-1        | 5.69954E-2        |     |     | [-]             |\n",
            "| Heat Capacity (Cp)   |            | 2.04623E0         | 2.1916E0          |     |     | kJ/kgK          |\n",
            "| Heat Capacity (Cv)   |            | 1.586E0           | 1.90207E0         |     |     | kJ/kgK          |\n",
            "| Speed of Sound       |            | 3.75403E2         | 9.4231E2          |     |     | m/sec           |\n",
            "| Enthalpy             | -5.14492E4 | 3.03951E4         | -3.29049E5        |     |     | J/kg            |\n",
            "| Entropy              | -5.03583E2 | -4.46822E2        | -6.96104E2        |     |     | J/kgK           |\n",
            "| JT coefficient       |            | 6.37989E-1        | -5.20245E-2       |     |     | C/bar           |\n",
            "|                      |            |                   |                   |     |     |                 |\n",
            "| Viscosity            |            | 1.10659E-5        | 4.18066E-4        |     |     | kg/msec         |\n",
            "| Thermal Conductivity |            | 3.11363E-2        | 1.11498E-1        |     |     | W/mK            |\n",
            "| Surface Tension      |            | 1.92295E-2        | 1.92295E-2        |     |     | [N/m]           |\n",
            "|                      |            |                   |                   |     |     |                 |\n",
            "|                      |            |                   |                   |     |     |                 |\n",
            "|                      |            |                   |                   |     |     |                 |\n",
            "| Pressure             |            | 10.0              | 10.0              |     |     | bara            |\n",
            "| Temperature          |            | 22.30000000000001 | 22.30000000000001 |     |     | C               |\n",
            "|                      |            |                   |                   |     |     |                 |\n",
            "| Model                |            | SRK-EOS           | SRK-EOS           |     |     | -               |\n",
            "| Mixing Rule          |            | no (kij=0)        | no (kij=0)        |     |     | -               |\n",
            "|                      |            |                   |                   |     |     |                 |\n",
            "| Stream               |            |                   |                   |     |     | -               |\n",
            "|                      |            |                   |                   |     |     |                 |\n",
            "|                      |            |                   |                   |     |     |                 |\n",
            "|                      |            |                   |                   |     |     |                 |\n",
            "|                      |            |                   |                   |     |     |                 |\n"
          ]
        }
      ]
    },
    {
      "cell_type": "markdown",
      "source": [
        "# Change units\n",
        "NeqSim supports metric, SI, default and field units. Metric units is the default."
      ],
      "metadata": {
        "id": "gjiusY7NxLUp"
      }
    },
    {
      "cell_type": "code",
      "source": [
        "from neqsim import jNeqSim\n",
        "jNeqSim.util.unit.Units.activateFieldUnits()\n",
        "printFrame(fluid1)\n",
        "\n",
        "jNeqSim.util.unit.Units.activateSIUnits()\n",
        "printFrame(fluid1)\n",
        "\n",
        "jNeqSim.util.unit.Units.activateMetricUnits()\n",
        "printFrame(fluid1)"
      ],
      "metadata": {
        "id": "jXznQ0UbxUcS",
        "outputId": "bd9ff935-c160-4c07-bd2b-760221ee4716",
        "colab": {
          "base_uri": "https://localhost:8080/"
        }
      },
      "execution_count": 3,
      "outputs": [
        {
          "output_type": "stream",
          "name": "stdout",
          "text": [
            "| 0                    | 1           | 2                  | 3                  | 4   | 5   | 6               |\n",
            "|:---------------------|:------------|:-------------------|:-------------------|:----|:----|:----------------|\n",
            "|                      | total       | GAS                | OIL                |     |     |                 |\n",
            "| nitrogen             | 9.07441E-3  | 9.65018E-3         | 1.91635E-4         |     |     | [mole fraction] |\n",
            "| CO2                  | 1.81488E-2  | 1.90263E-2         | 4.61185E-3         |     |     | [mole fraction] |\n",
            "| methane              | 7.44102E-1  | 7.89455E-1         | 4.44003E-2         |     |     | [mole fraction] |\n",
            "| ethane               | 9.98185E-2  | 1.04153E-1         | 3.295E-2           |     |     | [mole fraction] |\n",
            "| propane              | 4.53721E-2  | 4.50577E-2         | 5.0221E-2          |     |     | [mole fraction] |\n",
            "| i-butane             | 9.07441E-3  | 8.22288E-3         | 2.22115E-2         |     |     | [mole fraction] |\n",
            "| n-butane             | 1.08893E-2  | 9.24972E-3         | 3.61841E-2         |     |     | [mole fraction] |\n",
            "| i-pentane            | 9.07441E-3  | 5.90349E-3         | 5.79943E-2         |     |     | [mole fraction] |\n",
            "| n-pentane            | 9.07441E-3  | 5.22877E-3         | 6.84037E-2         |     |     | [mole fraction] |\n",
            "| n-hexane             | 9.07441E-3  | 2.571E-3           | 1.09407E-1         |     |     | [mole fraction] |\n",
            "| n-heptane            | 9.07441E-3  | 9.93815E-4         | 1.33739E-1         |     |     | [mole fraction] |\n",
            "| n-octane             | 9.07441E-3  | 3.37714E-4         | 1.43861E-1         |     |     | [mole fraction] |\n",
            "| n-nonane             | 9.07441E-3  | 1.14252E-4         | 1.47309E-1         |     |     | [mole fraction] |\n",
            "| nC10                 | 9.07441E-3  | 3.60697E-5         | 1.48515E-1         |     |     | [mole fraction] |\n",
            "|                      |             |                    |                    |     |     |                 |\n",
            "| Density              |             | 5.53772E-1         | 4.27728E1          |     |     | lb/ft3          |\n",
            "| Phase Fraction       |             | 9.39127E-1         | 6.08729E-2         |     |     | [mole fraction] |\n",
            "| Molar Mass           | 2.56456E1   | 2.109E1            | 9.59282E1          |     |     | lbm/lbmol       |\n",
            "| Z factor             |             | 9.67846E-1         | 5.69954E-2         |     |     | [-]             |\n",
            "| Heat Capacity (Cp)   |             | 4.8864E-1          | 5.23354E-1         |     |     | btu/lbmole-F    |\n",
            "| Heat Capacity (Cv)   |             | 3.78736E-1         | 4.54215E-1         |     |     | btu/lbmole-F    |\n",
            "| Speed of Sound       |             | 1.23164E3          | 3.09157E3          |     |     | ft/sec          |\n",
            "| Enthalpy             | -5.6726E2   | 2.75594E2          | -1.35705E4         |     |     | Btu/lbmol       |\n",
            "| Entropy              | -1.20256E-1 | -1.06701E-1        | -1.6623E-1         |     |     | btu/lb-F        |\n",
            "| JT coefficient       |             | 7.9178E-2          | -6.45653E-3        |     |     | F/psi           |\n",
            "|                      |             |                    |                    |     |     |                 |\n",
            "| Viscosity            |             | 1.10659E-2         | 4.18066E-1         |     |     | cP              |\n",
            "| Thermal Conductivity |             | 1.80022E-2         | 6.44655E-2         |     |     | Btu/hr-ft-F     |\n",
            "| Surface Tension      |             | 1.92295E-2         | 1.92295E-2         |     |     | [N/m]           |\n",
            "|                      |             |                    |                    |     |     |                 |\n",
            "|                      |             |                    |                    |     |     |                 |\n",
            "|                      |             |                    |                    |     |     |                 |\n",
            "| Pressure             |             | 145.03773772999995 | 145.03773772999995 |     |     | psia            |\n",
            "| Temperature          |             | 72.13999999999993  | 72.13999999999993  |     |     | F               |\n",
            "|                      |             |                    |                    |     |     |                 |\n",
            "| Model                |             | SRK-EOS            | SRK-EOS            |     |     | -               |\n",
            "| Mixing Rule          |             | no (kij=0)         | no (kij=0)         |     |     | -               |\n",
            "|                      |             |                    |                    |     |     |                 |\n",
            "| Stream               |             |                    |                    |     |     | -               |\n",
            "|                      |             |                    |                    |     |     |                 |\n",
            "|                      |             |                    |                    |     |     |                 |\n",
            "|                      |             |                    |                    |     |     |                 |\n",
            "|                      |             |                    |                    |     |     |                 |\n",
            "| 0                    | 1          | 2                 | 3                 | 4   | 5   | 6               |\n",
            "|:---------------------|:-----------|:------------------|:------------------|:----|:----|:----------------|\n",
            "|                      | total      | GAS               | OIL               |     |     |                 |\n",
            "| nitrogen             | 9.07441E-3 | 9.65018E-3        | 1.91635E-4        |     |     | [mole fraction] |\n",
            "| CO2                  | 1.81488E-2 | 1.90263E-2        | 4.61185E-3        |     |     | [mole fraction] |\n",
            "| methane              | 7.44102E-1 | 7.89455E-1        | 4.44003E-2        |     |     | [mole fraction] |\n",
            "| ethane               | 9.98185E-2 | 1.04153E-1        | 3.295E-2          |     |     | [mole fraction] |\n",
            "| propane              | 4.53721E-2 | 4.50577E-2        | 5.0221E-2         |     |     | [mole fraction] |\n",
            "| i-butane             | 9.07441E-3 | 8.22288E-3        | 2.22115E-2        |     |     | [mole fraction] |\n",
            "| n-butane             | 1.08893E-2 | 9.24972E-3        | 3.61841E-2        |     |     | [mole fraction] |\n",
            "| i-pentane            | 9.07441E-3 | 5.90349E-3        | 5.79943E-2        |     |     | [mole fraction] |\n",
            "| n-pentane            | 9.07441E-3 | 5.22877E-3        | 6.84037E-2        |     |     | [mole fraction] |\n",
            "| n-hexane             | 9.07441E-3 | 2.571E-3          | 1.09407E-1        |     |     | [mole fraction] |\n",
            "| n-heptane            | 9.07441E-3 | 9.93815E-4        | 1.33739E-1        |     |     | [mole fraction] |\n",
            "| n-octane             | 9.07441E-3 | 3.37714E-4        | 1.43861E-1        |     |     | [mole fraction] |\n",
            "| n-nonane             | 9.07441E-3 | 1.14252E-4        | 1.47309E-1        |     |     | [mole fraction] |\n",
            "| nC10                 | 9.07441E-3 | 3.60697E-5        | 1.48515E-1        |     |     | [mole fraction] |\n",
            "|                      |            |                   |                   |     |     |                 |\n",
            "| Density              |            | 8.87057E0         | 6.85154E2         |     |     | kg/m3           |\n",
            "| Phase Fraction       |            | 9.39127E-1        | 6.08729E-2        |     |     | [mole fraction] |\n",
            "| Molar Mass           | 2.56456E-2 | 2.109E-2          | 9.59282E-2        |     |     | kg/mol          |\n",
            "| Z factor             |            | 9.67846E-1        | 5.69954E-2        |     |     | [-]             |\n",
            "| Heat Capacity (Cp)   |            | 2.04623E0         | 2.1916E0          |     |     | kJ/kgK          |\n",
            "| Heat Capacity (Cv)   |            | 1.586E0           | 1.90207E0         |     |     | kJ/kgK          |\n",
            "| Speed of Sound       |            | 3.75403E2         | 9.4231E2          |     |     | m/sec           |\n",
            "| Enthalpy             | -1.31945E3 | 6.41031E2         | -3.15651E4        |     |     | J/mol           |\n",
            "| Entropy              | -5.03583E2 | -4.46822E2        | -6.96104E2        |     |     | J/kgK           |\n",
            "| JT coefficient       |            | 6.37989E-6        | -5.20245E-7       |     |     | K/Pa            |\n",
            "|                      |            |                   |                   |     |     |                 |\n",
            "| Viscosity            |            | 1.10659E-5        | 4.18066E-4        |     |     | kg/msec         |\n",
            "| Thermal Conductivity |            | 3.11363E-2        | 1.11498E-1        |     |     | J/sec-m-K       |\n",
            "| Surface Tension      |            | 1.92295E-2        | 1.92295E-2        |     |     | [N/m]           |\n",
            "|                      |            |                   |                   |     |     |                 |\n",
            "|                      |            |                   |                   |     |     |                 |\n",
            "|                      |            |                   |                   |     |     |                 |\n",
            "| Pressure             |            | 999999.9999999999 | 999999.9999999999 |     |     | Pa              |\n",
            "| Temperature          |            | 295.45            | 295.45            |     |     | K               |\n",
            "|                      |            |                   |                   |     |     |                 |\n",
            "| Model                |            | SRK-EOS           | SRK-EOS           |     |     | -               |\n",
            "| Mixing Rule          |            | no (kij=0)        | no (kij=0)        |     |     | -               |\n",
            "|                      |            |                   |                   |     |     |                 |\n",
            "| Stream               |            |                   |                   |     |     | -               |\n",
            "|                      |            |                   |                   |     |     |                 |\n",
            "|                      |            |                   |                   |     |     |                 |\n",
            "|                      |            |                   |                   |     |     |                 |\n",
            "|                      |            |                   |                   |     |     |                 |\n",
            "| 0                    | 1          | 2                 | 3                 | 4   | 5   | 6               |\n",
            "|:---------------------|:-----------|:------------------|:------------------|:----|:----|:----------------|\n",
            "|                      | total      | GAS               | OIL               |     |     |                 |\n",
            "| nitrogen             | 9.07441E-3 | 9.65018E-3        | 1.91635E-4        |     |     | [mole fraction] |\n",
            "| CO2                  | 1.81488E-2 | 1.90263E-2        | 4.61185E-3        |     |     | [mole fraction] |\n",
            "| methane              | 7.44102E-1 | 7.89455E-1        | 4.44003E-2        |     |     | [mole fraction] |\n",
            "| ethane               | 9.98185E-2 | 1.04153E-1        | 3.295E-2          |     |     | [mole fraction] |\n",
            "| propane              | 4.53721E-2 | 4.50577E-2        | 5.0221E-2         |     |     | [mole fraction] |\n",
            "| i-butane             | 9.07441E-3 | 8.22288E-3        | 2.22115E-2        |     |     | [mole fraction] |\n",
            "| n-butane             | 1.08893E-2 | 9.24972E-3        | 3.61841E-2        |     |     | [mole fraction] |\n",
            "| i-pentane            | 9.07441E-3 | 5.90349E-3        | 5.79943E-2        |     |     | [mole fraction] |\n",
            "| n-pentane            | 9.07441E-3 | 5.22877E-3        | 6.84037E-2        |     |     | [mole fraction] |\n",
            "| n-hexane             | 9.07441E-3 | 2.571E-3          | 1.09407E-1        |     |     | [mole fraction] |\n",
            "| n-heptane            | 9.07441E-3 | 9.93815E-4        | 1.33739E-1        |     |     | [mole fraction] |\n",
            "| n-octane             | 9.07441E-3 | 3.37714E-4        | 1.43861E-1        |     |     | [mole fraction] |\n",
            "| n-nonane             | 9.07441E-3 | 1.14252E-4        | 1.47309E-1        |     |     | [mole fraction] |\n",
            "| nC10                 | 9.07441E-3 | 3.60697E-5        | 1.48515E-1        |     |     | [mole fraction] |\n",
            "|                      |            |                   |                   |     |     |                 |\n",
            "| Density              |            | 8.87057E0         | 6.85154E2         |     |     | kg/m3           |\n",
            "| Phase Fraction       |            | 9.39127E-1        | 6.08729E-2        |     |     | [mole fraction] |\n",
            "| Molar Mass           | 2.56456E1  | 2.109E1           | 9.59282E1         |     |     | gr/mol          |\n",
            "| Z factor             |            | 9.67846E-1        | 5.69954E-2        |     |     | [-]             |\n",
            "| Heat Capacity (Cp)   |            | 2.04623E0         | 2.1916E0          |     |     | kJ/kgK          |\n",
            "| Heat Capacity (Cv)   |            | 1.586E0           | 1.90207E0         |     |     | kJ/kgK          |\n",
            "| Speed of Sound       |            | 3.75403E2         | 9.4231E2          |     |     | m/sec           |\n",
            "| Enthalpy             | -5.14492E4 | 3.03951E4         | -3.29049E5        |     |     | J/kg            |\n",
            "| Entropy              | -5.03583E2 | -4.46822E2        | -6.96104E2        |     |     | J/kgK           |\n",
            "| JT coefficient       |            | 6.37989E-1        | -5.20245E-2       |     |     | C/bar           |\n",
            "|                      |            |                   |                   |     |     |                 |\n",
            "| Viscosity            |            | 1.10659E-5        | 4.18066E-4        |     |     | Pas             |\n",
            "| Thermal Conductivity |            | 3.11363E-2        | 1.11498E-1        |     |     | W/mK            |\n",
            "| Surface Tension      |            | 1.92295E-2        | 1.92295E-2        |     |     | [N/m]           |\n",
            "|                      |            |                   |                   |     |     |                 |\n",
            "|                      |            |                   |                   |     |     |                 |\n",
            "|                      |            |                   |                   |     |     |                 |\n",
            "| Pressure             |            | 10.0              | 10.0              |     |     | bara            |\n",
            "| Temperature          |            | 22.30000000000001 | 22.30000000000001 |     |     | C               |\n",
            "|                      |            |                   |                   |     |     |                 |\n",
            "| Model                |            | SRK-EOS           | SRK-EOS           |     |     | -               |\n",
            "| Mixing Rule          |            | no (kij=0)        | no (kij=0)        |     |     | -               |\n",
            "|                      |            |                   |                   |     |     |                 |\n",
            "| Stream               |            |                   |                   |     |     | -               |\n",
            "|                      |            |                   |                   |     |     |                 |\n",
            "|                      |            |                   |                   |     |     |                 |\n",
            "|                      |            |                   |                   |     |     |                 |\n",
            "|                      |            |                   |                   |     |     |                 |\n"
          ]
        }
      ]
    },
    {
      "cell_type": "markdown",
      "source": [
        "# Read properties"
      ],
      "metadata": {
        "id": "O-yLWFJPrUNl"
      }
    },
    {
      "cell_type": "markdown",
      "source": [
        "##Read fluid properties"
      ],
      "metadata": {
        "id": "WKxO874lvSIt"
      }
    },
    {
      "cell_type": "code",
      "source": [
        "#Mole fraction of a component in total fluid\n",
        "fluid1.getComponent('methane').getz()\n",
        "\n",
        "#Get molar mass of fluid\n",
        "fluid1.getMolarMass('kg/mol')\n",
        "\n",
        "#Get enthalpy of a fluid\n",
        "fluid1.getEnthalpy('J/mol')\n",
        "fluid1.getEnthalpy('J/kg')\n",
        "\n",
        "#Get specific heat capacty\n",
        "fluid1.getCp('kJ/kgK')\n",
        "\n",
        "#Get heat capacty\n",
        "fluid1.getCv('kJ/kgK')\n",
        "\n",
        "#Average fluid density\n",
        "fluid1.getDensity('kg/m3')\n",
        "\n",
        "#molar volume\n",
        "fluid1.getMolarVolume('m3/mol')\n",
        "\n",
        "#get molar composition\n",
        "list(fluid1.getMolarComposition())\n",
        "\n",
        "#Viscosity\n",
        "fluid1.getViscosity('cP')\n",
        "fluid1.getViscosity('kg/msec')\n",
        "\n",
        "#Thermal conductivity\n",
        "fluid1.getThermalConductivity('W/mK')\n",
        "\n",
        "#number of components\n",
        "fluid1.getNumberOfComponents()\n",
        "\n",
        "\n",
        "#Read critical properties\n",
        "fluid1.getComponent('methane').getTC()\n",
        "fluid1.getComponent('methane').getPC()\n",
        "fluid1.getComponent('methane').getAcentricFactor()\n",
        "fluid1.setMixingRule('classic')\n",
        "\n",
        "#read all pure component critical properties using json\n",
        "fluid1.toCompJson()\n",
        "\n",
        "#Print binary interaction coefficients\n",
        "kij_list = [[elem for elem in inner_array] for inner_array in fluid1.getPhase(0).getMixingRule().getBinaryInteractionParameters()]\n",
        "#print(kij_list)\n",
        "\n"
      ],
      "metadata": {
        "id": "XuVfmdrivh5k"
      },
      "execution_count": 26,
      "outputs": []
    },
    {
      "cell_type": "markdown",
      "source": [
        "#Read phase properties"
      ],
      "metadata": {
        "id": "A_UL5vSdvWSJ"
      }
    },
    {
      "cell_type": "code",
      "source": [
        "#Get mole fraction of a phase (moles in phase/total number of moles)\n",
        "fluid1.getPhase('gas').getMoleFraction()\n",
        "\n",
        "#Get wt fraction of a phase (weight of phase/wight in total fluid)\n",
        "fluid1.getPhase('gas').getWtFraction(fluid1)\n",
        "\n",
        "#Mole fraction of a component in total fluid\n",
        "fluid1.getComponent('methane').getz()\n",
        "\n",
        "#Mole fraction of component in a phase\n",
        "fluid1.getPhase('gas').getComponent('methane').getx()\n",
        "\n",
        "#Weight fraction of component in a phase\n",
        "fluid1.getPhase('gas').getWtFrac('methane')\n",
        "\n",
        "#Get molar mass of fluid\n",
        "fluid1.getMolarMass('kg/mol')"
      ],
      "metadata": {
        "id": "mFDN0TxivbQi",
        "outputId": "0818d0a1-2ac4-47f9-8b6f-750fb994a898",
        "colab": {
          "base_uri": "https://localhost:8080/"
        }
      },
      "execution_count": 5,
      "outputs": [
        {
          "output_type": "execute_result",
          "data": {
            "text/plain": [
              "0.02564558166969146"
            ]
          },
          "metadata": {},
          "execution_count": 5
        }
      ]
    },
    {
      "cell_type": "markdown",
      "source": [
        "#Read component properties"
      ],
      "metadata": {
        "id": "bHEtGC4E3Og4"
      }
    },
    {
      "cell_type": "code",
      "source": [
        "#get mole fraction of a component in a phase\n",
        "fluid1.getPhase('gas').getComponent('methane').getx()\n",
        "fluid1.getPhase('oil').getComponent('methane').getx()\n",
        "fluid1.getPhase('gas').getComponent(2).getx() #component number\n",
        "\n",
        "#get molar mass of a component (kg/mol)\n",
        "fluid1.getPhase('gas').getComponent('methane').getMolarMass()\n",
        "\n"
      ],
      "metadata": {
        "id": "7BW_i-8V3TDe",
        "outputId": "4f6042e0-d17b-4254-a995-5a0c7f8a5755",
        "colab": {
          "base_uri": "https://localhost:8080/"
        }
      },
      "execution_count": 6,
      "outputs": [
        {
          "output_type": "execute_result",
          "data": {
            "text/plain": [
              "0.016042999999999998"
            ]
          },
          "metadata": {},
          "execution_count": 6
        }
      ]
    },
    {
      "cell_type": "markdown",
      "source": [
        "#Read interphase properties"
      ],
      "metadata": {
        "id": "sFWErx0m4VBO"
      }
    },
    {
      "cell_type": "code",
      "source": [
        "#Interfacial tension N/m\n",
        "fluid1.getInterfacialTension('gas', 'oil')"
      ],
      "metadata": {
        "id": "NtW1z0zH4Ynz",
        "outputId": "493baa74-4af9-482b-a93e-4921f760561f",
        "colab": {
          "base_uri": "https://localhost:8080/"
        }
      },
      "execution_count": 7,
      "outputs": [
        {
          "output_type": "execute_result",
          "data": {
            "text/plain": [
              "0.019229459443054125"
            ]
          },
          "metadata": {},
          "execution_count": 7
        }
      ]
    }
  ]
}