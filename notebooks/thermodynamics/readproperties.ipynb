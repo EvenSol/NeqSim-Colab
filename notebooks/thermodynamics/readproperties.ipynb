{
  "nbformat": 4,
  "nbformat_minor": 0,
  "metadata": {
    "colab": {
      "provenance": [],
      "authorship_tag": "ABX9TyOOWwT9l8Hb/JZDS9OFN8fe",
      "include_colab_link": true
    },
    "kernelspec": {
      "name": "python3",
      "display_name": "Python 3"
    },
    "language_info": {
      "name": "python"
    }
  },
  "cells": [
    {
      "cell_type": "markdown",
      "metadata": {
        "id": "view-in-github",
        "colab_type": "text"
      },
      "source": [
        "<a href=\"https://colab.research.google.com/github/EvenSol/NeqSim-Colab/blob/master/notebooks/thermodynamics/readproperties.ipynb\" target=\"_parent\"><img src=\"https://colab.research.google.com/assets/colab-badge.svg\" alt=\"Open In Colab\"/></a>"
      ]
    },
    {
      "cell_type": "code",
      "execution_count": 1,
      "metadata": {
        "id": "arKsu7l9Wh5j"
      },
      "outputs": [],
      "source": [
        "%%capture\n",
        "!pip install neqsim"
      ]
    },
    {
      "cell_type": "markdown",
      "source": [],
      "metadata": {
        "id": "eyakuRlO4KKn"
      }
    },
    {
      "cell_type": "markdown",
      "source": [
        "In this notebook we will show how to read various properties from a fluid."
      ],
      "metadata": {
        "id": "S1_-ukoe4KWz"
      }
    },
    {
      "cell_type": "markdown",
      "source": [
        "#Create a fluid"
      ],
      "metadata": {
        "id": "DCRq8lmOqZJe"
      }
    },
    {
      "cell_type": "code",
      "source": [
        "from neqsim.thermo import createfluid, TPflash, printFrame\n",
        "\n",
        "fluid1 = createfluid('rich gas')\n",
        "fluid1.setPressure(10.0, \"bara\")\n",
        "fluid1.setTemperature(22.3, \"C\")\n",
        "TPflash(fluid1)\n",
        "printFrame(fluid1)"
      ],
      "metadata": {
        "id": "3bdnoexzqhVV",
        "outputId": "6d9c61a9-1bcc-4f6d-bc6e-140acd88f51b",
        "colab": {
          "base_uri": "https://localhost:8080/"
        }
      },
      "execution_count": 4,
      "outputs": [
        {
          "output_type": "stream",
          "name": "stdout",
          "text": [
            "| 0                  | 1           | 2           | 3           | 4   | 5   | 6               |\n",
            "|:-------------------|:------------|:------------|:------------|:----|:----|:----------------|\n",
            "|                    | total       | GAS         | OIL         |     |     |                 |\n",
            "| nitrogen           | 9.07441E-3  | 9.65018E-3  | 1.91635E-4  |     |     | [mole fraction] |\n",
            "| CO2                | 1.81488E-2  | 1.90263E-2  | 4.61185E-3  |     |     | [mole fraction] |\n",
            "| methane            | 7.44102E-1  | 7.89455E-1  | 4.44003E-2  |     |     | [mole fraction] |\n",
            "| ethane             | 9.98185E-2  | 1.04153E-1  | 3.295E-2    |     |     | [mole fraction] |\n",
            "| propane            | 4.53721E-2  | 4.50577E-2  | 5.0221E-2   |     |     | [mole fraction] |\n",
            "| i-butane           | 9.07441E-3  | 8.22288E-3  | 2.22115E-2  |     |     | [mole fraction] |\n",
            "| n-butane           | 1.08893E-2  | 9.24972E-3  | 3.61841E-2  |     |     | [mole fraction] |\n",
            "| i-pentane          | 9.07441E-3  | 5.90349E-3  | 5.79943E-2  |     |     | [mole fraction] |\n",
            "| n-pentane          | 9.07441E-3  | 5.22877E-3  | 6.84037E-2  |     |     | [mole fraction] |\n",
            "| n-hexane           | 9.07441E-3  | 2.571E-3    | 1.09407E-1  |     |     | [mole fraction] |\n",
            "| n-heptane          | 9.07441E-3  | 9.93815E-4  | 1.33739E-1  |     |     | [mole fraction] |\n",
            "| n-octane           | 9.07441E-3  | 3.37714E-4  | 1.43861E-1  |     |     | [mole fraction] |\n",
            "| n-nonane           | 9.07441E-3  | 1.14252E-4  | 1.47309E-1  |     |     | [mole fraction] |\n",
            "| nC10               | 9.07441E-3  | 3.60697E-5  | 1.48515E-1  |     |     | [mole fraction] |\n",
            "|                    |             |             |             |     |     |                 |\n",
            "| Density            |             | 8.87057E0   | 6.85154E2   |     |     | [kg/m^3]        |\n",
            "| PhaseFraction      |             | 9.39127E-1  | 6.08729E-2  |     |     | [mole fraction] |\n",
            "| MolarMass          | 2.56456E1   | 2.109E1     | 9.59282E1   |     |     | [kg/kmol]       |\n",
            "| Z factor           |             | 9.68443E-1  | 6.67697E-2  |     |     | [-]             |\n",
            "| Heat Capacity (Cp) |             | 2.04623E0   | 2.1916E0    |     |     | [kJ/kg*K]       |\n",
            "| Heat Capacity (Cv) |             | 1.586E0     | 1.90207E0   |     |     | [kJ/kg*K]       |\n",
            "| Speed of Sound     |             | 3.75403E2   | 9.4231E2    |     |     | [m/sec]         |\n",
            "| Enthalpy           | -5.14492E1  | 3.03951E1   | -3.29049E2  |     |     | [kJ/kg]         |\n",
            "| Entropy            | -5.03583E-1 | -4.46822E-1 | -6.96104E-1 |     |     | [kJ/kg*K]       |\n",
            "| JT coefficient     |             | 6.37989E-1  | -5.20245E-2 |     |     | [K/bar]         |\n",
            "|                    |             |             |             |     |     |                 |\n",
            "| Viscosity          |             | 1.10659E-5  | 4.18066E-4  |     |     | [kg/m*sec]      |\n",
            "| Conductivity       |             | 3.11363E-2  | 1.11498E-1  |     |     | [W/m*K]         |\n",
            "| SurfaceTension     |             | 1.92295E-2  | 1.92295E-2  |     |     | [N/m]           |\n",
            "|                    |             |             |             |     |     |                 |\n",
            "|                    |             |             |             |     |     |                 |\n",
            "|                    |             |             |             |     |     |                 |\n",
            "| Pressure           |             | 10.0        | 10.0        |     |     | [bar]           |\n",
            "| Temperature        |             | 295.45      | 295.45      |     |     | [K]             |\n",
            "|                    |             |             |             |     |     |                 |\n",
            "| Model              |             | SRK-EOS     | SRK-EOS     |     |     | -               |\n",
            "| Mixing Rule        |             | no (kij=0)  | no (kij=0)  |     |     | -               |\n",
            "|                    |             |             |             |     |     |                 |\n",
            "| Stream             |             |             |             |     |     | -               |\n",
            "|                    |             |             |             |     |     |                 |\n",
            "|                    |             |             |             |     |     |                 |\n",
            "|                    |             |             |             |     |     |                 |\n",
            "|                    |             |             |             |     |     |                 |\n"
          ]
        }
      ]
    },
    {
      "cell_type": "markdown",
      "source": [
        "# Read properties"
      ],
      "metadata": {
        "id": "O-yLWFJPrUNl"
      }
    },
    {
      "cell_type": "markdown",
      "source": [
        "##Read fluid properties"
      ],
      "metadata": {
        "id": "WKxO874lvSIt"
      }
    },
    {
      "cell_type": "code",
      "source": [
        "#Mole fraction of a component in total fluid\n",
        "fluid1.getComponent('methane').getz()\n",
        "\n",
        "#Get molar mass of fluid\n",
        "fluid1.getMolarMass('kg/mol')\n",
        "\n",
        "#Get enthalpy of a fluid\n",
        "fluid1.getEnthalpy('J/mol')\n",
        "fluid1.getEnthalpy('J/kg')\n",
        "\n",
        "#Get specific heat capacty\n",
        "fluid1.getCp('kJ/kgK')\n",
        "\n",
        "#Get heat capacty\n",
        "fluid1.getCv('kJ/kgK')\n",
        "\n",
        "#Average fluid density\n",
        "fluid1.getDensity('kg/m3')\n",
        "\n",
        "#molar volume\n",
        "fluid1.getMolarVolume('m3/mol')\n",
        "\n",
        "#get molar composition\n",
        "list(fluid1.getMolarComposition())\n",
        "\n",
        "#Viscosity\n",
        "fluid1.getViscosity('cP')\n",
        "fluid1.getViscosity('kg/msec')\n",
        "\n",
        "#Thermal conductivity\n",
        "fluid1.getThermalConductivity('W/mK')\n",
        "\n",
        "#number of components\n",
        "fluid1.getNumberOfComponents()"
      ],
      "metadata": {
        "id": "XuVfmdrivh5k",
        "outputId": "df34180a-993d-43c3-ad33-f9755e181b25",
        "colab": {
          "base_uri": "https://localhost:8080/"
        }
      },
      "execution_count": 35,
      "outputs": [
        {
          "output_type": "execute_result",
          "data": {
            "text/plain": [
              "14"
            ]
          },
          "metadata": {},
          "execution_count": 35
        }
      ]
    },
    {
      "cell_type": "markdown",
      "source": [
        "#Read phase properties"
      ],
      "metadata": {
        "id": "A_UL5vSdvWSJ"
      }
    },
    {
      "cell_type": "code",
      "source": [
        "#Get mole fraction of a phase (moles in phase/total number of moles)\n",
        "fluid1.getPhase('gas').getMoleFraction()\n",
        "\n",
        "#Get wt fraction of a phase (weight of phase/wight in total fluid)\n",
        "fluid1.getPhase('gas').getWtFraction(fluid1)\n",
        "\n",
        "#Mole fraction of a component in total fluid\n",
        "fluid1.getComponent('methane').getz()\n",
        "\n",
        "#Mole fraction of component in a phase\n",
        "fluid1.getPhase('gas').getComponent('methane').getx()\n",
        "\n",
        "#Weight fraction of component in a phase\n",
        "fluid1.getPhase('gas').getWtFrac('methane')\n",
        "\n",
        "#Get molar mass of fluid\n",
        "fluid1.getMolarMass('kg/mol')"
      ],
      "metadata": {
        "id": "mFDN0TxivbQi"
      },
      "execution_count": null,
      "outputs": []
    },
    {
      "cell_type": "markdown",
      "source": [
        "#Read component properties"
      ],
      "metadata": {
        "id": "bHEtGC4E3Og4"
      }
    },
    {
      "cell_type": "code",
      "source": [
        "#get mole fraction of a component in a phase\n",
        "fluid1.getPhase('gas').getComponent('methane').getx()\n",
        "fluid1.getPhase('oil').getComponent('methane').getx()\n",
        "fluid1.getPhase('gas').getComponent(2).getx() #component number\n",
        "\n",
        "#get molar mass of a component (kg/mol)\n",
        "fluid1.getPhase('gas').getComponent('methane').getMolarMass()\n",
        "\n"
      ],
      "metadata": {
        "id": "7BW_i-8V3TDe",
        "outputId": "a08cfc2e-c929-4741-e623-023c6ccd04c8",
        "colab": {
          "base_uri": "https://localhost:8080/"
        }
      },
      "execution_count": 38,
      "outputs": [
        {
          "output_type": "execute_result",
          "data": {
            "text/plain": [
              "0.016042999999999998"
            ]
          },
          "metadata": {},
          "execution_count": 38
        }
      ]
    },
    {
      "cell_type": "markdown",
      "source": [
        "#Read interphase properties"
      ],
      "metadata": {
        "id": "sFWErx0m4VBO"
      }
    },
    {
      "cell_type": "code",
      "source": [
        "#Interfacial tension N/m\n",
        "fluid1.getInterfacialTension('gas', 'oil')"
      ],
      "metadata": {
        "id": "NtW1z0zH4Ynz",
        "outputId": "b87cb08e-ee79-470b-a4b4-6efa08cb0c1a",
        "colab": {
          "base_uri": "https://localhost:8080/"
        }
      },
      "execution_count": 39,
      "outputs": [
        {
          "output_type": "execute_result",
          "data": {
            "text/plain": [
              "0.019229459443054125"
            ]
          },
          "metadata": {},
          "execution_count": 39
        }
      ]
    }
  ]
}