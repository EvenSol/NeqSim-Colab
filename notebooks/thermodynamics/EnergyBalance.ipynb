{
  "nbformat": 4,
  "nbformat_minor": 0,
  "metadata": {
    "colab": {
      "name": "LawsOfThermodynamics.ipynb",
      "provenance": [],
      "include_colab_link": true
    },
    "kernelspec": {
      "name": "python3",
      "display_name": "Python 3"
    }
  },
  "cells": [
    {
      "cell_type": "markdown",
      "metadata": {
        "id": "view-in-github",
        "colab_type": "text"
      },
      "source": [
        "<a href=\"https://colab.research.google.com/github/EvenSol/NeqSim-Colab/blob/master/notebooks/thermodynamics/EnergyBalance.ipynb\" target=\"_parent\"><img src=\"https://colab.research.google.com/assets/colab-badge.svg\" alt=\"Open In Colab\"/></a>"
      ]
    },
    {
      "cell_type": "code",
      "metadata": {
        "id": "ZoPhA4TXju42",
        "cellView": "form"
      },
      "source": [
        "#@markdown This document is part of the module [\"Introduction to Gas Processing using NeqSim in Colab\"](https://colab.research.google.com/github/EvenSol/NeqSim-Colab/blob/master/notebooks/examples_of_NeqSim_in_Colab.ipynb#scrollTo=_eRtkQnHpL70)."
      ],
      "execution_count": null,
      "outputs": []
    },
    {
      "cell_type": "code",
      "metadata": {
        "id": "JOZqeQe_ZQTB"
      },
      "source": [
        "%%capture\n",
        "!pip install neqsim"
      ],
      "execution_count": null,
      "outputs": []
    },
    {
      "cell_type": "markdown",
      "source": [
        "# Energy balance for a closed system\n",
        "\n",
        "\n",
        "The following example demonstrates simultion of a open system at constant pressure with a heat input source. The volume of the system is calculated as function of time.\n",
        "\n",
        "The energy balance is a fundamental principle in thermodynamics that governs the transfer of energy between a system and its surroundings. The energy balance is expressed as an equation that relates the energy entering and leaving a system to the energy stored within the system.\n",
        "\n",
        "There are two types of energy balances: the closed system energy balance and the open system energy balance.\n",
        "\n",
        "The closed system energy balance applies to a system that does not exchange matter or energy with its surroundings. The energy balance for a closed system can be expressed as:\n",
        "\n",
        "ΔE = Q - W\n",
        "\n",
        "where ΔE is the change in the internal energy of the system, Q is the heat added to the system, and W is the work done by the system. The energy balance equation is a statement of the first law of thermodynamics, which states that energy cannot be created or destroyed, only converted from one form to another.\n",
        "\n",
        "The open system energy balance applies to a system that exchanges matter or energy with its surroundings. The energy balance for an open system can be expressed as:\n",
        "\n",
        "ΔE = Q - W + ΔH_in - ΔH_out\n",
        "\n",
        "where ΔH_in is the enthalpy of the material entering the system, ΔH_out is the enthalpy of the material leaving the system, and all other terms are as defined in the closed system energy balance equation. The open system energy balance equation is a statement of the conservation of energy for a system that is not closed.\n",
        "\n",
        "The energy balance is a fundamental tool in the analysis of energy systems, including power plants, industrial processes, and heating and cooling systems. By balancing the energy entering and leaving a system, engineers and scientists can optimize the performance of the system and ensure that it operates efficiently and reliably."
      ],
      "metadata": {
        "id": "yredy4BMOfoD"
      }
    },
    {
      "cell_type": "code",
      "source": [
        "import neqsim\n",
        "from neqsim.thermo.thermoTools import *\n",
        " \n",
        "names = ['methane']\n",
        "molefractions = [1.0]\n",
        "methaneFluid = createfluid2(names, molefractions)\n",
        "methaneFluid.setTemperature(80.0, \"C\")\n",
        "methaneFluid.setPressure(78.65, \"barg\")\n",
        "methaneFluid.setTotalFlowRate(4.3, \"Am3/sec\")\n",
        " \n",
        "TPflash(methaneFluid)\n",
        "methaneFluid.initProperties()\n",
        "volume = methaneFluid.getVolume(\"m3\")\n",
        "internalEnergyStart = methaneFluid.getEnthalpy(\"J/sec\")\n",
        " \n",
        "heatInput = 245*1e3 # kW\n",
        " \n",
        "time = []\n",
        "volume = []\n",
        "step = 1 #sec\n",
        "for number in range(1, 100, step):\n",
        "    time.append(number)\n",
        "    methaneFluid.initProperties()\n",
        "    volold = methaneFluid.getVolume(\"m3\")\n",
        "    #PUflash(methaneFluid,78.65,methaneFluid.getInternalEnergy(\"J/sec\")+heatInput*step, \"barg\", \"J/sec\")\n",
        "    PHflash(methaneFluid,methaneFluid.getEnthalpy(\"J/sec\")+heatInput*step, \"J/sec\")\n",
        "    methaneFluid.initProperties()\n",
        "    volume.append(methaneFluid.getVolume(\"m3\"))\n",
        "\n",
        " \n",
        "import matplotlib.pyplot as plt\n",
        " \n",
        "plt.plot(time, volume)\n",
        "plt.ylabel('Flow [kg/sec]')\n",
        "plt.xlabel('Time [sec]')\n"
      ],
      "metadata": {
        "id": "3-Ss_3YeOwTC",
        "outputId": "9120be16-d840-4d09-b9e3-5fa2ef9b1dfa",
        "colab": {
          "base_uri": "https://localhost:8080/",
          "height": 296
        }
      },
      "execution_count": null,
      "outputs": [
        {
          "output_type": "execute_result",
          "data": {
            "text/plain": [
              "Text(0.5, 0, 'Time [sec]')"
            ]
          },
          "metadata": {},
          "execution_count": 11
        },
        {
          "output_type": "display_data",
          "data": {
            "image/png": "[encoded data removed]",
            "text/plain": [
              "<Figure size 432x288 with 1 Axes>"
            ]
          },
          "metadata": {
            "needs_background": "light"
          }
        }
      ]
    },
    {
      "cell_type": "markdown",
      "metadata": {
        "id": "wfj_VKfRVimy"
      },
      "source": [
        "# Energy balance for an open system\n",
        "\n",
        "\n",
        "The following example demonstrates simultion of a open system at constant pressure and volume with a heat input source. The flow of gas to the souroundings are calculated as function of time."
      ]
    },
    {
      "cell_type": "code",
      "metadata": {
        "id": "XorxVlDnVhou",
        "outputId": "861e411b-2dfa-4aa2-8a70-c01912dd864d",
        "colab": {
          "base_uri": "https://localhost:8080/",
          "height": 296
        }
      },
      "source": [
        "import neqsim\n",
        "from neqsim.thermo.thermoTools import *\n",
        "\n",
        "names = ['methane']\n",
        "molefractions = [1.0]\n",
        "methaneFluid = createfluid2(names, molefractions)\n",
        "methaneFluid.setTemperature(80.0, \"C\")\n",
        "methaneFluid.setPressure(78.65, \"barg\")\n",
        "methaneFluid.setTotalFlowRate(4.3, \"Am3/sec\")\n",
        "\n",
        "heatInput = 245*1e3\n",
        "\n",
        "time = []\n",
        "massrate = []\n",
        "temperature = []\n",
        "volume = []\n",
        "\n",
        "step = 1 #sec\n",
        "for number in range(1, 100, step):\n",
        "    time.append(number)\n",
        "    TPflash(methaneFluid)\n",
        "    methaneFluid.initProperties()\n",
        "    volold = methaneFluid.getVolume(\"m3\")\n",
        "    #PUflash(methaneFluid,78.65,methaneFluid.getInternalEnergy(\"J/sec\")+heatInput*step, \"barg\", \"J/sec\")\n",
        "    PHflash(methaneFluid,methaneFluid.getEnthalpy(\"J/sec\")+heatInput*step, \"J/sec\")\n",
        "    methaneFluid.initProperties()\n",
        "    massout = (methaneFluid.getVolume(\"m3\")-volold)*step*methaneFluid.getDensity(\"kg/m3\")\n",
        "    massrate.append(massout)\n",
        "    volume.append(methaneFluid.getVolume(\"m3\"))\n",
        "    methaneFluid.setTotalFlowRate(methaneFluid.getFlowRate(\"kg/sec\")-massout, \"kg/sec\")\n",
        "    temperature.append(methaneFluid.getTemperature(\"C\"))\n",
        "\n",
        "\n",
        "import matplotlib.pyplot as plt\n",
        "\n",
        "plt.plot(time, massrate)\n",
        "plt.ylabel('Flow [kg/sec]')\n",
        "plt.xlabel('Time [sec]')"
      ],
      "execution_count": null,
      "outputs": [
        {
          "output_type": "execute_result",
          "data": {
            "text/plain": [
              "Text(0.5, 0, 'Time [sec]')"
            ]
          },
          "metadata": {},
          "execution_count": 3
        },
        {
          "output_type": "display_data",
          "data": {
            "image/png": "[encoded data removed]",
            "text/plain": [
              "<Figure size 432x288 with 1 Axes>"
            ]
          },
          "metadata": {
            "needs_background": "light"
          }
        }
      ]
    }
  ]
}