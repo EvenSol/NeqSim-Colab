{
  "nbformat": 4,
  "nbformat_minor": 0,
  "metadata": {
    "colab": {
      "name": "ViscosityOfFluids.ipynb",
      "provenance": [],
      "include_colab_link": true
    },
    "kernelspec": {
      "name": "python3",
      "display_name": "Python 3"
    }
  },
  "cells": [
    {
      "cell_type": "markdown",
      "metadata": {
        "id": "view-in-github",
        "colab_type": "text"
      },
      "source": [
        "<a href=\"https://colab.research.google.com/github/EvenSol/NeqSim-Colab/blob/master/notebooks/thermodynamics/ViscosityOfFluids.ipynb\" target=\"_parent\"><img src=\"https://colab.research.google.com/assets/colab-badge.svg\" alt=\"Open In Colab\"/></a>"
      ]
    },
    {
      "cell_type": "code",
      "metadata": {
        "id": "c7oLiYgcEV2Y",
        "cellView": "form"
      },
      "source": [
        "#@title Viscosity of Fluids\n",
        "#@markdown The viscosity of a fluid is a measure of its resistance to deformation at a given rate. For liquids, it corresponds to the informal concept of \"thickness\": for example, syrup has a higher viscosity than water.\n",
        "%%capture\n",
        "!pip install neqsim\n",
        "import neqsim\n",
        "from neqsim.thermo.thermoTools import *\n",
        "import matplotlib\n",
        "import numpy as np\n",
        "import matplotlib.pyplot as plt\n",
        "import math\n",
        "%matplotlib inline"
      ],
      "execution_count": 1,
      "outputs": []
    },
    {
      "cell_type": "code",
      "metadata": {
        "id": "9Kkz5ZeLEyRv",
        "cellView": "form",
        "colab": {
          "base_uri": "https://localhost:8080/",
          "height": 421
        },
        "outputId": "f6f48d88-f861-486f-9098-6bcd0bbde23c"
      },
      "source": [
        "#@title  Introduction to Viscosity\n",
        "#@markdown What is viscosity?\n",
        "from IPython.display import YouTubeVideo\n",
        "YouTubeVideo('Q7VZh0dI35M', width=600, height=400)"
      ],
      "execution_count": 2,
      "outputs": [
        {
          "output_type": "execute_result",
          "data": {
            "text/plain": [
              "<IPython.lib.display.YouTubeVideo at 0x7f618b350b50>"
            ],
            "text/html": [
              "\n",
              "        <iframe\n",
              "            width=\"600\"\n",
              "            height=\"400\"\n",
              "            src=\"https://www.youtube.com/embed/Q7VZh0dI35M\"\n",
              "            frameborder=\"0\"\n",
              "            allowfullscreen\n",
              "        ></iframe>\n",
              "        "
            ],
            "image/jpeg": "[encoded data removed]"
          },
          "metadata": {},
          "execution_count": 2
        }
      ]
    },
    {
      "cell_type": "markdown",
      "metadata": {
        "id": "vT1Qy8vlRuDf"
      },
      "source": [
        "## Viscosity of gases\n",
        "The viscosity of a gas can be thought of as a measure of its resistance to flow and is measured in the CGS unit Poise = dyne sec/cm2. The viscosity of gases near room temperature are in the centiPoise range, so that is a commonly used unit. Gas viscosity is only weakly dependent on pressure near atmospheric pressure.\n",
        "\n",
        "https://en.wikipedia.org/wiki/Viscosity_models_for_mixtures"
      ]
    },
    {
      "cell_type": "code",
      "metadata": {
        "id": "PzWrasHBWB3X",
        "colab": {
          "base_uri": "https://localhost:8080/"
        },
        "outputId": "4521227f-35e0-41bc-e8e3-9e5f1a567580"
      },
      "source": [
        "#@title Selecting viscosity models for gas mixtures in NeqSim\n",
        "#@markdown The following script calcluates the viscosity of methane/ethane using SRK in NeqSim using different methods for viscosity calculation.\n",
        "\n",
        "fluid1 = fluid('srk')\n",
        "fluid1.addComponent('methane', 0.5)\n",
        "fluid1.addComponent('ethane', 0.5)\n",
        "fluid1.setTemperature(25.0, 'C')\n",
        "fluid1.setPressure(42.0, 'bara')\n",
        "TPflash(fluid1)\n",
        "\n",
        "method = \"friction theory\"\n",
        "fluid1.getPhase('gas').getPhysicalProperties().setViscosityModel(method)\n",
        "fluid1.initProperties()\n",
        "print(\"gas viscosity \", fluid1.getViscosity('cP'), \" cP \", \" metod: \", method)\n",
        "\n",
        "method = \"LBC\"\n",
        "fluid1.getPhase('gas').getPhysicalProperties().setViscosityModel(method)\n",
        "fluid1.initProperties()\n",
        "print(\"gas viscosity \", fluid1.getViscosity('cP'), \" cP \", \" metod: \", method)\n",
        "\n",
        "method = \"PFCT\"\n",
        "fluid1.getPhase('gas').getPhysicalProperties().setViscosityModel(method)\n",
        "fluid1.initProperties()\n",
        "print(\"gas viscosity \", fluid1.getViscosity('cP'), \" cP \", \" metod: \", method)\n",
        "\n",
        "method = \"PFCT-Heavy-Oil\"\n",
        "fluid1.getPhase('gas').getPhysicalProperties().setViscosityModel(method)\n",
        "fluid1.initProperties()\n",
        "print(\"gas viscosity \", fluid1.getViscosity('cP'), \" cP \", \" metod: \", method)\n",
        "\n",
        "method = \"polynom\"\n",
        "fluid1.getPhase('gas').getPhysicalProperties().setViscosityModel(method)\n",
        "fluid1.initProperties()\n",
        "print(\"gas viscosity \", fluid1.getViscosity('cP'), \" cP \", \" metod: \", method)"
      ],
      "execution_count": 3,
      "outputs": [
        {
          "output_type": "stream",
          "name": "stdout",
          "text": [
            "gas viscosity  0.011123455701169816  cP   metod:  friction theory\n",
            "gas viscosity  0.011460928467152952  cP   metod:  LBC\n",
            "gas viscosity  0.011848511832603428  cP   metod:  PFCT\n",
            "gas viscosity  0.011848511832603428  cP   metod:  PFCT-Heavy-Oil\n",
            "gas viscosity  0.09117303370997942  cP   metod:  polynom\n"
          ]
        }
      ]
    },
    {
      "cell_type": "markdown",
      "metadata": {
        "id": "vGMP_uDpyyf9"
      },
      "source": [
        "# Viscosity of oil"
      ]
    },
    {
      "cell_type": "code",
      "metadata": {
        "id": "2zDwU8KjY9jF",
        "colab": {
          "base_uri": "https://localhost:8080/"
        },
        "outputId": "f1124927-f8f2-4036-dba2-5729b60e5300"
      },
      "source": [
        "#@title Selecting viscosity models for oil mixtures in NeqSim\n",
        "#@markdown The following script calcluates the viscosity of methane/ethane using SRK in NeqSim using different methods for viscosity calculation.\n",
        "\n",
        "fluid1 = fluid('srk')\n",
        "fluid1.addComponent('n-heptane', 1.0)\n",
        "fluid1.setTemperature(25.0, 'C')\n",
        "fluid1.setPressure(4.0, 'bara')\n",
        "TPflash(fluid1)\n",
        "fluid1.initProperties()\n",
        "method = \"friction theory\"\n",
        "\n",
        "fluid1.getPhase(0).getPhysicalProperties().setViscosityModel(method)\n",
        "fluid1.initProperties()\n",
        "print(\"oil viscosity \", fluid1.getViscosity('cP'), \" cP \", \" metod: \", method)\n",
        "\n",
        "method = \"LBC\"\n",
        "fluid1.getPhase('oil').getPhysicalProperties().setViscosityModel(method)\n",
        "fluid1.initProperties()\n",
        "print(\"oil viscosity \", fluid1.getViscosity('cP'), \" cP \", \" metod: \", method)\n",
        "\n",
        "method = \"PFCT\"\n",
        "fluid1.getPhase('oil').getPhysicalProperties().setViscosityModel(method)\n",
        "fluid1.initProperties()\n",
        "print(\"oil viscosity \", fluid1.getViscosity('cP'), \" cP \", \" metod: \", method)\n",
        "\n",
        "method = \"PFCT-Heavy-Oil\"\n",
        "fluid1.getPhase('oil').getPhysicalProperties().setViscosityModel(method)\n",
        "fluid1.initProperties()\n",
        "print(\"oil viscosity \", fluid1.getViscosity('cP'), \" cP \", \" metod: \", method)\n",
        "\n",
        "method = \"polynom\"\n",
        "fluid1.getPhase('oil').getPhysicalProperties().setViscosityModel(method)\n",
        "fluid1.initProperties()\n",
        "print(\"oil viscosity \", fluid1.getViscosity('cP'), \" cP \", \" metod: \", method)"
      ],
      "execution_count": 4,
      "outputs": [
        {
          "output_type": "stream",
          "name": "stdout",
          "text": [
            "oil viscosity  0.3936903160651968  cP   metod:  friction theory\n",
            "oil viscosity  0.48626839717471015  cP   metod:  LBC\n",
            "oil viscosity  0.43844268847553475  cP   metod:  PFCT\n",
            "oil viscosity  0.43844268847553475  cP   metod:  PFCT-Heavy-Oil\n",
            "oil viscosity  0.9189777392752309  cP   metod:  polynom\n"
          ]
        }
      ]
    },
    {
      "cell_type": "markdown",
      "metadata": {
        "id": "Vn2m5xZBy03l"
      },
      "source": [
        "# Viscosity of aqueous phase"
      ]
    },
    {
      "cell_type": "code",
      "metadata": {
        "id": "cYCaZGLVy7cs",
        "outputId": "5cc60d16-195d-41ba-a159-13dd571bb813",
        "colab": {
          "base_uri": "https://localhost:8080/"
        }
      },
      "source": [
        "fluid1 = fluid('cpa')\n",
        "fluid1.addComponent('water', 0.0, 'kg/sec')\n",
        "fluid1.addComponent('MEG', 1.0, 'kg/sec')\n",
        "fluid1.setTemperature(25.0, 'C')\n",
        "fluid1.setPressure(40.0, 'bara')\n",
        "TPflash(fluid1)\n",
        "fluid1.initProperties()\n",
        "printFrame(fluid1)\n",
        "print(\"aqueous viscosity \", fluid1.getViscosity('cP'), \" cP \")"
      ],
      "execution_count": 5,
      "outputs": [
        {
          "output_type": "stream",
          "name": "stdout",
          "text": [
            "| 0                  | 1          | 2                    | 3   | 4   | 5   | 6               |\n",
            "|:-------------------|:-----------|:---------------------|:----|:----|:----|:----------------|\n",
            "|                    | total      | aqueous              |     |     |     |                 |\n",
            "| water              | 0E0        | 0E0                  |     |     |     | [mole fraction] |\n",
            "| MEG                | 1E0        | 1E0                  |     |     |     | [mole fraction] |\n",
            "|                    |            |                      |     |     |     |                 |\n",
            "| Density            |            | 1.11201E3            |     |     |     | [kg/m^3]        |\n",
            "| PhaseFraction      |            | 1E0                  |     |     |     | [mole fraction] |\n",
            "| MolarMass          | 6.2069E1   | 6.2069E1             |     |     |     | [kg/kmol]       |\n",
            "| Z factor           |            | 9.27645E-2           |     |     |     | [-]             |\n",
            "| Heat Capacity (Cp) |            | 2.54822E0            |     |     |     | [kJ/kg*K]       |\n",
            "| Heat Capacity (Cv) |            | 2.38318E0            |     |     |     | [kJ/kg*K]       |\n",
            "| Speed of Sound     |            | 1.77676E3            |     |     |     | [m/sec]         |\n",
            "| Enthalpy           | -1.03031E3 | -1.03031E3           |     |     |     | [kJ/kg]         |\n",
            "| Entropy            | -2.24692E0 | -2.24692E0           |     |     |     | [kJ/kg*K]       |\n",
            "| JT coefficient     |            | -3.16554E-2          |     |     |     | [K/bar]         |\n",
            "|                    |            |                      |     |     |     |                 |\n",
            "| Viscosity          |            | 1.70767E-2           |     |     |     | [kg/m*sec]      |\n",
            "| Conductivity       |            | 2.85125E-1           |     |     |     | [W/m*K]         |\n",
            "| SurfaceTension     |            |                      |     |     |     | [N/m]           |\n",
            "|                    |            |                      |     |     |     |                 |\n",
            "|                    |            |                      |     |     |     |                 |\n",
            "|                    |            |                      |     |     |     |                 |\n",
            "| Pressure           |            | 40.0                 |     |     |     | [bar]           |\n",
            "| Temperature        |            | 298.15               |     |     |     | [K]             |\n",
            "|                    |            |                      |     |     |     |                 |\n",
            "| Model              |            | CPAs-SRK-EOS-statoil |     |     |     | -               |\n",
            "| Mixing Rule        |            | no (kij=0)           |     |     |     | -               |\n",
            "|                    |            |                      |     |     |     |                 |\n",
            "| Stream             |            |                      |     |     |     | -               |\n",
            "|                    |            |                      |     |     |     |                 |\n",
            "|                    |            |                      |     |     |     |                 |\n",
            "|                    |            |                      |     |     |     |                 |\n",
            "|                    |            |                      |     |     |     |                 |\n",
            "aqueous viscosity  17.07669151897147  cP \n"
          ]
        }
      ]
    },
    {
      "cell_type": "markdown",
      "source": [
        "#Viscosity of helium"
      ],
      "metadata": {
        "id": "LU_MwoTmeLfX"
      }
    },
    {
      "cell_type": "code",
      "source": [
        "fluid1 = fluid('srk')\n",
        "fluid1.addComponent('helium', 0.5)\n",
        "fluid1.setTemperature(20.0, 'C')\n",
        "fluid1.setPressure(1.0, 'bara')\n",
        "TPflash(fluid1)\n",
        "\n",
        "method = \"friction theory\"\n",
        "fluid1.getPhase('gas').getPhysicalProperties().setViscosityModel(method)\n",
        "fluid1.initProperties()\n",
        "print(\"gas viscosity \", fluid1.getViscosity('cP'), \" cP \", \" metod: \", method)\n",
        "printFrame(fluid1)"
      ],
      "metadata": {
        "colab": {
          "base_uri": "https://localhost:8080/"
        },
        "id": "DpXqGyxqdjBn",
        "outputId": "dfff0c58-4613-4326-a7df-8d554a91684e"
      },
      "execution_count": 8,
      "outputs": [
        {
          "output_type": "stream",
          "name": "stdout",
          "text": [
            "gas viscosity  0.015557901765818184  cP   metod:  friction theory\n",
            "| 0                  | 1          | 2          | 3   | 4   | 5   | 6               |\n",
            "|:-------------------|:-----------|:-----------|:----|:----|:----|:----------------|\n",
            "|                    | total      | gas        |     |     |     |                 |\n",
            "| helium             | 1E0        | 1E0        |     |     |     | [mole fraction] |\n",
            "|                    |            |            |     |     |     |                 |\n",
            "| Density            |            | 1.64147E-1 |     |     |     | [kg/m^3]        |\n",
            "| PhaseFraction      |            | 1E0        |     |     |     | [mole fraction] |\n",
            "| MolarMass          | 4.003E0    | 4.003E0    |     |     |     | [kg/kmol]       |\n",
            "| Z factor           |            | 1.00043E0  |     |     |     | [-]             |\n",
            "| Heat Capacity (Cp) |            | 5.19334E0  |     |     |     | [kJ/kg*K]       |\n",
            "| Heat Capacity (Cv) |            | 3.11587E0  |     |     |     | [kJ/kg*K]       |\n",
            "| Speed of Sound     |            | 1.00784E3  |     |     |     | [m/sec]         |\n",
            "| Enthalpy           | 1.04058E2  | 1.04058E2  |     |     |     | [kJ/kg]         |\n",
            "| Entropy            | 3.94079E-1 | 3.94079E-1 |     |     |     | [kJ/kg*K]       |\n",
            "| JT coefficient     |            | -3.846E-2  |     |     |     | [K/bar]         |\n",
            "|                    |            |            |     |     |     |                 |\n",
            "| Viscosity          |            | 1.55579E-5 |     |     |     | [kg/m*sec]      |\n",
            "| Conductivity       |            | 7.04314E4  |     |     |     | [W/m*K]         |\n",
            "| SurfaceTension     |            |            |     |     |     | [N/m]           |\n",
            "|                    |            |            |     |     |     |                 |\n",
            "|                    |            |            |     |     |     |                 |\n",
            "|                    |            |            |     |     |     |                 |\n",
            "| Pressure           |            | 1.0        |     |     |     | [bar]           |\n",
            "| Temperature        |            | 293.15     |     |     |     | [K]             |\n",
            "|                    |            |            |     |     |     |                 |\n",
            "| Model              |            | SRK-EOS    |     |     |     | -               |\n",
            "| Mixing Rule        |            | no (kij=0) |     |     |     | -               |\n",
            "|                    |            |            |     |     |     |                 |\n",
            "| Stream             |            |            |     |     |     | -               |\n",
            "|                    |            |            |     |     |     |                 |\n",
            "|                    |            |            |     |     |     |                 |\n",
            "|                    |            |            |     |     |     |                 |\n",
            "|                    |            |            |     |     |     |                 |\n"
          ]
        }
      ]
    }
  ]
}