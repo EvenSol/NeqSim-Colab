{
  "nbformat": 4,
  "nbformat_minor": 0,
  "metadata": {
    "colab": {
      "name": "Interfacialadsorption.ipynb",
      "provenance": [],
      "collapsed_sections": [],
      "include_colab_link": true
    },
    "kernelspec": {
      "name": "python3",
      "display_name": "Python 3"
    }
  },
  "cells": [
    {
      "cell_type": "markdown",
      "metadata": {
        "id": "view-in-github",
        "colab_type": "text"
      },
      "source": [
        "<a href=\"https://colab.research.google.com/github/EvenSol/NeqSim-Colab/blob/master/notebooks/thermodynamics/Interfacialadsorption.ipynb\" target=\"_parent\"><img src=\"https://colab.research.google.com/assets/colab-badge.svg\" alt=\"Open In Colab\"/></a>"
      ]
    },
    {
      "cell_type": "code",
      "metadata": {
        "id": "c7oLiYgcEV2Y",
        "colab_type": "code",
        "cellView": "form",
        "colab": {}
      },
      "source": [
        "#@title Interfacial adsorption\n",
        "#@markdown Adsorption is the adhesion of atoms, ions or molecules from a gas, liquid or dissolved solid to a surface. This process creates a film of the adsorbate on the surface of the adsorbent.\n",
        "%%capture\n",
        "!pip install neqsim==2.5.35\n",
        "import neqsim\n",
        "from neqsim.thermo.thermoTools import *\n",
        "import matplotlib\n",
        "import numpy as np\n",
        "import matplotlib.pyplot as plt\n",
        "import math\n",
        "%matplotlib inline"
      ],
      "execution_count": 0,
      "outputs": []
    },
    {
      "cell_type": "code",
      "metadata": {
        "id": "9Kkz5ZeLEyRv",
        "colab_type": "code",
        "cellView": "form",
        "outputId": "fa9e1e00-c728-4b77-ee6f-40a60aded534",
        "colab": {
          "base_uri": "https://localhost:8080/",
          "height": 421
        }
      },
      "source": [
        "#@title  Introduction to Adsorption\n",
        "#@markdown Adsorption is the adhesion of atoms, ions, or molecules from a gas, liquid, or dissolved solid to a surface.\n",
        "from IPython.display import YouTubeVideo\n",
        "YouTubeVideo('RdEGB-9bdg8', width=600, height=400)"
      ],
      "execution_count": 0,
      "outputs": [
        {
          "output_type": "execute_result",
          "data": {
            "text/html": [
              "\n",
              "        <iframe\n",
              "            width=\"600\"\n",
              "            height=\"400\"\n",
              "            src=\"https://www.youtube.com/embed/RdEGB-9bdg8\"\n",
              "            frameborder=\"0\"\n",
              "            allowfullscreen\n",
              "        ></iframe>\n",
              "        "
            ],
            "text/plain": [
              "<IPython.lib.display.YouTubeVideo at 0x7f652723ee10>"
            ],
            "image/jpeg": "[encoded data removed]"
          },
          "metadata": {
            "tags": []
          },
          "execution_count": 2
        }
      ]
    },
    {
      "cell_type": "markdown",
      "metadata": {
        "id": "vT1Qy8vlRuDf",
        "colab_type": "text"
      },
      "source": [
        "## Adsorption of gases on soilds\n",
        "The following example shows how to calculate gas adsorption on soids using neqsim."
      ]
    },
    {
      "cell_type": "code",
      "metadata": {
        "id": "PzWrasHBWB3X",
        "colab_type": "code",
        "cellView": "both",
        "colab": {}
      },
      "source": [
        "#@title Selecting adsorptionmodels for gas-soild in NeqSim\n",
        "#@markdown The following script calcluates adsorption properties og methane/CO2 using SRK in NeqSim.\n",
        "\n",
        "   # Creating a fluid in neqsim\n",
        "\n",
        "import neqsim\n",
        "from neqsim.thermo.thermoTools import *\n",
        "\n",
        "temperature = 20.0 # C\n",
        "presssure = 10.0 # bara\n",
        "fluid1 = fluid('srk')\n",
        "fluid1.addComponent('CO2', 1.0, 'mol/sec')\n",
        "fluid1.addComponent('methane', 95.0, 'mol/sec')\n",
        "fluid1.addComponent('ethane', 4.0, 'mol/sec')\n",
        "\n",
        "fluid1.setTemperature(temperature, 'C')\n",
        "fluid1.setPressure(presssure, 'bara')\n",
        "\n",
        "TPflash(fluid1);\n",
        "\n",
        "fluid1.getInterphaseProperties().initAdsorption();\n",
        "fluid1.getInterphaseProperties().setSolidAdsorbentMaterial(\"AC\"); # AC Norit R1\n",
        "fluid1.getInterphaseProperties().calcAdsorption();\n",
        "surfaceExcessCO2 = fluid1.getInterphaseProperties().getAdsorptionCalc(\"gas\").getSurfaceExcess(\"CO2\")\n",
        "\n",
        "print(\"surface excess CO2 gas-solid \", surfaceExcessCO2, \" kg CO2/kg AC\")"
      ],
      "execution_count": 0,
      "outputs": []
    }
  ]
}