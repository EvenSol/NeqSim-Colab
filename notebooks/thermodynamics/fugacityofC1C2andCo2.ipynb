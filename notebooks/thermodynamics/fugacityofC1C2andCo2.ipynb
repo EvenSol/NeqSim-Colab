{
  "nbformat": 4,
  "nbformat_minor": 0,
  "metadata": {
    "colab": {
      "provenance": [],
      "authorship_tag": "ABX9TyNT5ThhaVCWPSolt6VZHCAs",
      "include_colab_link": true
    },
    "kernelspec": {
      "name": "python3",
      "display_name": "Python 3"
    },
    "language_info": {
      "name": "python"
    }
  },
  "cells": [
    {
      "cell_type": "markdown",
      "metadata": {
        "id": "view-in-github",
        "colab_type": "text"
      },
      "source": [
        "<a href=\"https://colab.research.google.com/github/EvenSol/NeqSim-Colab/blob/master/notebooks/thermodynamics/fugacityofC1C2andCo2.ipynb\" target=\"_parent\"><img src=\"https://colab.research.google.com/assets/colab-badge.svg\" alt=\"Open In Colab\"/></a>"
      ]
    },
    {
      "cell_type": "code",
      "execution_count": 28,
      "metadata": {
        "id": "arKsu7l9Wh5j"
      },
      "outputs": [],
      "source": [
        "%%capture\n",
        "!pip install neqsim"
      ]
    },
    {
      "cell_type": "code",
      "source": [
        "import neqsim\n",
        "from neqsim.neqsimpython import jNeqSim\n",
        "from neqsim.thermo.thermoTools import *\n",
        "import matplotlib.pyplot as plt\n",
        "\n",
        "#@title Select equation of state and set temperature [C] and pressure [bara] { run: \"auto\" }\n",
        "molC1= 7.0   #@param {type:\"number\"}\n",
        "molC2= 83.0   #@param {type:\"number\"}\n",
        "molCO2 = 10.0   #@param {type:\"number\"}\n",
        "temperature = 50.0   #@param {type:\"number\"}\n",
        "pressure = 47.0  #@param {type:\"number\"}\n",
        "eosname = \"pr-umr\" #@param [\"pr-umr\", \"srk\", \"pr\"]\n",
        "\n",
        "fluid1 = fluid(eosname)\n",
        "fluid1.addComponent('methane', molC1)\n",
        "fluid1.addComponent('ethane', molC2)\n",
        "fluid1.addComponent('CO2', molCO2)\n",
        "if(eosname == 'pr-umr'):\n",
        "  fluid1.setMixingRule(\"HV\", \"UNIFAC_UMRPRU\")\n",
        "else:\n",
        "  fluid1.setMixingRule(\"classic\")\n",
        "\n",
        "fluid1.setTemperature(temperature, 'C')\n",
        "fluid1.setPressure(pressure, 'bara')\n",
        "TPflash(fluid1)\n",
        "fluid1.initProperties()\n",
        "print('gas compressibility ', fluid1.getZ(), ' -')\n",
        "print('gas density ', fluid1.getDensity('kg/m3'), ' kg/m3')\n",
        "for i in range(fluid1.getNumberOfComponents()):\n",
        "  name = fluid1.getPhase('gas').getComponent(i).getName()\n",
        "  print('fagicity  ' ,  name, fluid1.getPhase('gas').getComponent(name).getFugacityCoefficient(), ' bar')\n",
        "\n",
        "\n",
        "print('----------------------------------')\n",
        "printFrame(fluid1)"
      ],
      "metadata": {
        "id": "ZgNAqI9_YmX2",
        "outputId": "ff5d9fed-0262-4888-b0cc-27ba1b77e464",
        "colab": {
          "base_uri": "https://localhost:8080/"
        }
      },
      "execution_count": 38,
      "outputs": [
        {
          "output_type": "stream",
          "name": "stdout",
          "text": [
            "gas compressibility  0.6950698000964131  -\n",
            "gas density  75.69742826633991  kg/m3\n",
            "fagicity   methane 1.014742512687926  bar\n",
            "fagicity   ethane 0.7177574877133616  bar\n",
            "fagicity   CO2 0.8875347455670609  bar\n",
            "----------------------------------\n",
            "| 0                  | 1           | 2              | 3   | 4   | 5   | 6               |\n",
            "|:-------------------|:------------|:---------------|:----|:----|:----|:----------------|\n",
            "|                    | total       | GAS            |     |     |     |                 |\n",
            "| methane            | 7E-2        | 7E-2           |     |     |     | [mole fraction] |\n",
            "| ethane             | 8.3E-1      | 8.3E-1         |     |     |     | [mole fraction] |\n",
            "| CO2                | 1E-1        | 1E-1           |     |     |     | [mole fraction] |\n",
            "|                    |             |                |     |     |     |                 |\n",
            "| Density            |             | 7.56974E1      |     |     |     | [kg/m^3]        |\n",
            "| PhaseFraction      |             | 1E0            |     |     |     | [mole fraction] |\n",
            "| MolarMass          | 3.04821E1   | 3.04821E1      |     |     |     | [kg/kmol]       |\n",
            "| Z factor           |             | 6.9507E-1      |     |     |     | [-]             |\n",
            "| Heat Capacity (Cp) |             | 2.55853E0      |     |     |     | [kJ/kg*K]       |\n",
            "| Heat Capacity (Cv) |             | 1.5107E0       |     |     |     | [kJ/kg*K]       |\n",
            "| Speed of Sound     |             | 2.62509E2      |     |     |     | [m/sec]         |\n",
            "| Enthalpy           | -5.90035E0  | -5.90035E0     |     |     |     | [kJ/kg]         |\n",
            "| Entropy            | -8.09563E-1 | -8.09563E-1    |     |     |     | [kJ/kg*K]       |\n",
            "| JT coefficient     |             | 9.6026E-1      |     |     |     | [K/bar]         |\n",
            "|                    |             |                |     |     |     |                 |\n",
            "| Viscosity          |             | 1.33442E-5     |     |     |     | [kg/m*sec]      |\n",
            "| Conductivity       |             | 3.27807E-2     |     |     |     | [W/m*K]         |\n",
            "| SurfaceTension     |             |                |     |     |     | [N/m]           |\n",
            "|                    |             |                |     |     |     |                 |\n",
            "|                    |             |                |     |     |     |                 |\n",
            "|                    |             |                |     |     |     |                 |\n",
            "| Pressure           |             | 47.0           |     |     |     | [bar]           |\n",
            "| Temperature        |             | 323.15         |     |     |     | [K]             |\n",
            "|                    |             |                |     |     |     |                 |\n",
            "| Model              |             | UMR-PRU-MC-EoS |     |     |     | -               |\n",
            "| Mixing Rule        |             | Huron-Vidal    |     |     |     | -               |\n",
            "|                    |             |                |     |     |     |                 |\n",
            "| Stream             |             |                |     |     |     | -               |\n",
            "|                    |             |                |     |     |     |                 |\n",
            "|                    |             |                |     |     |     |                 |\n",
            "|                    |             |                |     |     |     |                 |\n",
            "|                    |             |                |     |     |     |                 |\n"
          ]
        }
      ]
    },
    {
      "cell_type": "code",
      "source": [
        "fluid1.getPhase('gas').getMixingRule().getBinaryInteractionParameter(1,2)"
      ],
      "metadata": {
        "id": "L4JqGgBuhytV",
        "outputId": "6032a385-bc55-4905-adea-036ce6076116",
        "colab": {
          "base_uri": "https://localhost:8080/"
        }
      },
      "execution_count": 33,
      "outputs": [
        {
          "output_type": "execute_result",
          "data": {
            "text/plain": [
              "0.1346"
            ]
          },
          "metadata": {},
          "execution_count": 33
        }
      ]
    }
  ]
}