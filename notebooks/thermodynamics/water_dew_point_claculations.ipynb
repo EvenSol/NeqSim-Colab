{
  "nbformat": 4,
  "nbformat_minor": 0,
  "metadata": {
    "colab": {
      "provenance": [],
      "authorship_tag": "ABX9TyMae6gQlGPOkM7qfdy/I0hw",
      "include_colab_link": true
    },
    "kernelspec": {
      "name": "python3",
      "display_name": "Python 3"
    },
    "language_info": {
      "name": "python"
    }
  },
  "cells": [
    {
      "cell_type": "markdown",
      "metadata": {
        "id": "view-in-github",
        "colab_type": "text"
      },
      "source": [
        "<a href=\"https://colab.research.google.com/github/EvenSol/NeqSim-Colab/blob/master/notebooks/thermodynamics/water_dew_point_claculations.ipynb\" target=\"_parent\"><img src=\"https://colab.research.google.com/assets/colab-badge.svg\" alt=\"Open In Colab\"/></a>"
      ]
    },
    {
      "cell_type": "code",
      "execution_count": 1,
      "metadata": {
        "id": "JwWpbDTlbNAr"
      },
      "outputs": [],
      "source": [
        "%%capture\n",
        "!pip install neqsim"
      ]
    },
    {
      "cell_type": "markdown",
      "source": [
        "# Water Dew Point in Natural Gas Using NeqSim\n",
        "1. Introduction\n",
        "In natural gas processing, the water dew point is a critical property. It tells us the temperature at which water will start to condense out of the gas mixture at a given pressure. This information helps determine the drying requirements of a gas stream to avoid issues with hydrate formation, corrosion, or liquid water accumulation in pipelines.\n",
        "\n",
        "The NeqSim Python library provides thermodynamic and process modeling capabilities that allow engineers and scientists to model these kinds of systems."
      ],
      "metadata": {
        "id": "dkcf0u7Ebyol"
      }
    },
    {
      "cell_type": "markdown",
      "source": [
        "# SRK-EoS"
      ],
      "metadata": {
        "id": "HQblBGqSd9-q"
      }
    },
    {
      "cell_type": "code",
      "source": [
        "# Import required libraries\n",
        "from neqsim.thermo import fluid\n",
        "from neqsim import jneqsim as neqsim\n",
        "\n",
        "# Define thermodynamic system (using SRK-EOS)\n",
        "testSystem = fluid('srk')\n",
        "testSystem.setTemperature(270.15)  # initial guess temperature (K)\n",
        "testSystem.setPressure(70.0)     # pressure in bar\n",
        "\n",
        "# Define gas composition\n",
        "ppmWater = 35.0\n",
        "components = {\n",
        "    'CO2': 0.02,\n",
        "    'nitrogen': 0.01,\n",
        "    'methane': 0.9 - ppmWater * 1e-6,\n",
        "    'ethane': 0.05,\n",
        "    'propane': 0.01,\n",
        "    'i-butane': 0.005,\n",
        "    'n-butane': 0.005,\n",
        "    'water': ppmWater * 1e-6\n",
        "}\n",
        "\n",
        "for comp, frac in components.items():\n",
        "    testSystem.addComponent(comp, frac)\n",
        "\n",
        "# Set the mixing rule\n",
        "testSystem.setMixingRule(2)\n",
        "\n",
        "# Perform water dew point calculation\n",
        "ops = neqsim.thermodynamicoperations.ThermodynamicOperations(testSystem)\n",
        "ops.waterDewPointTemperatureFlash()\n",
        "\n",
        "# Display calculated dew point temperature\n",
        "dew_point_temperature = testSystem.getTemperature(\"C\")\n",
        "print(f\"Water Dew Point Temperature at {testSystem.getPressure()} bar: {dew_point_temperature:.2f} °C\")\n"
      ],
      "metadata": {
        "colab": {
          "base_uri": "https://localhost:8080/"
        },
        "id": "T31wWowGc-UZ",
        "outputId": "fdc6acb3-205e-4f4b-ada9-11a6c511aebd"
      },
      "execution_count": 9,
      "outputs": [
        {
          "output_type": "stream",
          "name": "stdout",
          "text": [
            "Water Dew Point Temperature at 70.0 bar: -12.10 °C\n"
          ]
        }
      ]
    },
    {
      "cell_type": "markdown",
      "source": [
        "# CPA-EoS"
      ],
      "metadata": {
        "id": "RiN_LngGdtbo"
      }
    },
    {
      "cell_type": "code",
      "source": [
        "# Import required libraries\n",
        "from neqsim.thermo import fluid\n",
        "from neqsim import jneqsim as neqsim\n",
        "\n",
        "# Define thermodynamic system (using SRK-EOS)\n",
        "testSystem = fluid('cpa')\n",
        "testSystem.setTemperature(270.15)  # initial guess temperature (K)\n",
        "testSystem.setPressure(70.0)     # pressure in bar\n",
        "\n",
        "# Define gas composition\n",
        "ppmWater = 35.0\n",
        "components = {\n",
        "    'CO2': 0.02,\n",
        "    'nitrogen': 0.01,\n",
        "    'methane': 0.9 - ppmWater * 1e-6,\n",
        "    'ethane': 0.05,\n",
        "    'propane': 0.01,\n",
        "    'i-butane': 0.005,\n",
        "    'n-butane': 0.005,\n",
        "    'water': ppmWater * 1e-6\n",
        "}\n",
        "\n",
        "for comp, frac in components.items():\n",
        "    testSystem.addComponent(comp, frac)\n",
        "\n",
        "# Set the mixing rule\n",
        "testSystem.setMixingRule(10)\n",
        "\n",
        "# Perform water dew point calculation\n",
        "ops = neqsim.thermodynamicoperations.ThermodynamicOperations(testSystem)\n",
        "ops.waterDewPointTemperatureMultiphaseFlash()\n",
        "\n",
        "# Display calculated dew point temperature\n",
        "dew_point_temperature = testSystem.getTemperature(\"C\")\n",
        "print(f\"Water Dew Point Temperature at {testSystem.getPressure()} bar: {dew_point_temperature:.2f} °C\")\n"
      ],
      "metadata": {
        "colab": {
          "base_uri": "https://localhost:8080/"
        },
        "id": "z2su3ZtidvEP",
        "outputId": "f9d2103d-10ef-4dde-8984-ccf4f5ab4578"
      },
      "execution_count": 10,
      "outputs": [
        {
          "output_type": "stream",
          "name": "stdout",
          "text": [
            "Water Dew Point Temperature at 70.0 bar: -18.63 °C\n"
          ]
        }
      ]
    },
    {
      "cell_type": "code",
      "source": [],
      "metadata": {
        "id": "uhjY1dY-ds1p"
      },
      "execution_count": null,
      "outputs": []
    }
  ]
}