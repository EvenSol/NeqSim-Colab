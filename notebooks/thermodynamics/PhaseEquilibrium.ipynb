{
  "nbformat": 4,
  "nbformat_minor": 0,
  "metadata": {
    "colab": {
      "name": "PhaseEquilibrium.ipynb",
      "provenance": [],
      "include_colab_link": true
    },
    "kernelspec": {
      "name": "python3",
      "display_name": "Python 3"
    }
  },
  "cells": [
    {
      "cell_type": "markdown",
      "metadata": {
        "id": "view-in-github",
        "colab_type": "text"
      },
      "source": [
        "<a href=\"https://colab.research.google.com/github/EvenSol/NeqSim-Colab/blob/master/notebooks/thermodynamics/PhaseEquilibrium.ipynb\" target=\"_parent\"><img src=\"https://colab.research.google.com/assets/colab-badge.svg\" alt=\"Open In Colab\"/></a>"
      ]
    },
    {
      "cell_type": "code",
      "metadata": {
        "id": "Wa0_UNp0V5Z6"
      },
      "source": [
        "%%capture\n",
        "!pip install neqsim\n",
        "import neqsim\n",
        "from neqsim.thermo.thermoTools import *"
      ],
      "execution_count": null,
      "outputs": []
    },
    {
      "cell_type": "markdown",
      "metadata": {
        "id": "rXjLlKCGgfAL"
      },
      "source": [
        "# Phase equilibrium\n",
        "Phase equilibrium is the study of the equilibrium which exists between or within different states of matter namely solid, liquid and gas. Equilibrium is defined as a stage when chemical potential of any component present in the system stays steady with time.\n",
        "\n",
        "http://www.jmcampbell.com/tip-of-the-month/2006/09/how-to-determine-k-values/\n",
        "\n",
        "\n",
        "Modeling and design of many types of equipment for separating gas and liquids such as flash separators at the well head, distillation columns and even a pipeline are based on the phases present being in vapor-liquid equilibrium. The thermodynamic equilibrium between vapor and liquid phases is expressed in terms equality of fugacity of component i in the vapor phase, fiV, and the fugacity of component i in the liquid phase, fiL, is written as\n",
        "\n"
      ]
    },
    {
      "cell_type": "markdown",
      "metadata": {
        "id": "OSkA8PGs5dzj"
      },
      "source": [
        "# K-values and EOS\n",
        "\n",
        "https://www.pogc.ir/portals/0/maghalat/890718-10.pdf\n"
      ]
    },
    {
      "cell_type": "markdown",
      "metadata": {
        "id": "vmsz4pjiWBQY"
      },
      "source": [
        "# Flash calculations\n",
        "Flash calculations are a common calculation technique used in chemical engineering to determine the phase behavior of a mixture. In a flash calculation, a feed stream is separated into two or more product streams at a certain temperature and pressure, based on the differences in the vapor pressures and liquid compositions of the components in the mixture.\n",
        "\n",
        "The Rachford-Rice equation is a key equation used in flash calculations. It relates the number of moles of vapor and liquid phases present in a mixture at equilibrium to the overall composition of the mixture. The equation is derived from the conservation of mass and the equilibrium condition for each component in the mixture. \n",
        "\n",
        "The Rachford-Rice equation can be solved iteratively for the unknown fraction phi, using methods such as the Newton-Raphson method, until the equation is satisfied within a certain tolerance.\n",
        "\n",
        "Flash calculations and the Rachford-Rice equation are used in a wide range of applications in the chemical and petroleum industries, such as in distillation, absorption, and gas processing. These calculations are essential for predicting the behavior of mixtures and designing efficient separation processes.\n",
        "\n",
        "https://slideplayer.com/slide/6136276/\n",
        "\n",
        "## The TP-flash##\n",
        " The TP-flash (also known as the two-phase flash) is a thermodynamic calculation that determines the equilibrium conditions of a mixture at a given temperature and pressure. It is a common technique used in process engineering to design and optimize separation processes, such as distillation and absorption.\n",
        "\n",
        "In a TP-flash calculation, the mixture is assumed to be separated into two phases: a liquid phase and a vapor phase. The TP-flash calculation determines the compositions and amounts of each phase at equilibrium, given the temperature and pressure of the system.\n",
        "\n",
        "The TP-flash calculation is based on the assumption of ideal gas and liquid behavior, and uses equations of state such as the Peng-Robinson or Redlich-Kwong equations to calculate the thermodynamic properties of the mixture. The calculation involves solving a set of nonlinear equations, including the material balance equations, the phase equilibrium condition, and the Gibbs-Duhem equation."
      ]
    },
    {
      "cell_type": "markdown",
      "source": [],
      "metadata": {
        "id": "mvF9Cyi8SAx-"
      }
    },
    {
      "cell_type": "markdown",
      "source": [
        "# Example of a TPflash using neqsim\n",
        "See the algorithm in the code:\n",
        "https://github.com/equinor/neqsim/blob/master/src/main/java/neqsim/thermodynamicOperations/flashOps/TPflash.java"
      ],
      "metadata": {
        "id": "H3h3_JhCSA5Z"
      }
    },
    {
      "cell_type": "code",
      "metadata": {
        "id": "Q4Dn05c_WTjx",
        "colab": {
          "base_uri": "https://localhost:8080/",
          "height": 68
        },
        "outputId": "f59f1ba3-061b-47b3-c5a0-9a8ed1b3cd87"
      },
      "source": [
        "# Creating a fluid in neqsim\n",
        "fluid1 = fluid('srk') #create a fluid using the SRK-EoS\n",
        "fluid1.addComponent('methane', 1.0) #adding 1 mole to the fluid\n",
        "fluid1.addComponent('nC10', 1.0) #adding 1 mole to the fluid\n",
        "fluid1.setTemperature(150.0, 'K')\n",
        "fluid1.setPressure(4.0, 'bara')\n",
        "TPflash(fluid1)\n",
        "fluid1.initProperties()\n",
        "print(\"number of phases \", fluid1.getNumberOfPhases())\n",
        "print(\"gas density \", fluid1.getPhase(\"gas\").getDensity(\"kg/m3\"), \" kg/m3\")\n",
        "print(\"oil density \", fluid1.getPhase(\"oil\").getDensity(\"kg/m3\"), \" kg/m3\")"
      ],
      "execution_count": null,
      "outputs": [
        {
          "output_type": "stream",
          "text": [
            "number of phases  2\n",
            "gas density  5.476376833072058  kg/m3\n",
            "oil density  784.1305064913755  kg/m3\n"
          ],
          "name": "stdout"
        }
      ]
    },
    {
      "cell_type": "markdown",
      "metadata": {
        "id": "U160OGqTITtC"
      },
      "source": [
        "See: https://ntnuopen.ntnu.no/ntnu-xmlui/handle/11250/231326\n",
        "\n",
        "#Thermodynamic Equilibrium Calculations\n",
        "Calculation of phase equilibrium is of importance for dimensioning of multistage separations\n",
        "cascades, as well as for single stage units. Satisfactory predictions of multiphase equilibrium\n",
        "require the adequate thermodynamic models for fluid phase are available. \n",
        "\n",
        "#Physical Equilibrium\n",
        "In thermodynamics, physical equilibrium refers to a state in which the thermodynamic properties of a system do not change over time. Physical equilibrium can be achieved in a closed or open system and is characterized by the absence of any net flow of matter or energy across the boundaries of the system.\n",
        "\n",
        "For a system to be in physical equilibrium, its internal energy, volume, and number of particles must be constant. In addition, the pressure, temperature, and chemical potential of the system must be uniform throughout. Any gradients in these properties will lead to a tendency for the system to reach a new equilibrium state.\n",
        "\n",
        "Physical equilibrium can be classified into two types: mechanical equilibrium and thermal equilibrium. Mechanical equilibrium occurs when the pressure throughout the system is uniform, and there is no tendency for the system to expand or contract. Thermal equilibrium occurs when the temperature throughout the system is uniform, and there is no tendency for heat to flow from one region to another.\n",
        "\n",
        "Physical equilibrium is important in many areas of science and engineering. For example, in chemical reactions, physical equilibrium is achieved when the rate of the forward reaction equals the rate of the reverse reaction, resulting in a constant concentration of reactants and products. In phase equilibrium, physical equilibrium is achieved when two or more phases of a substance (such as solid, liquid, or gas) are in contact with each other and the pressure and temperature are such that the substance is in a stable state.\n",
        "\n",
        "Understanding physical equilibrium is crucial for designing and optimizing chemical processes and for predicting the behavior of materials under different conditions. In addition, the principles of physical equilibrium are essential for understanding many natural phenomena, such as the behavior of gases in the atmosphere and the formation of minerals in the Earth's crust.\n",
        "\n",
        "The phase equilibrium criteria is expressed by equation (3.11) as\n",
        "1 2\n",
        "i i f = f\n",
        "In this work we use use the fugacity coefficient to calculate the fugacities, and the equilibrium\n",
        "criteria is\n",
        "(3.22) g l\n",
        "i i i i ϕ y P =ϕ x P\n",
        "where we can calculate the fugacity coefficient of both gas and liquid from an equation for the\n",
        "residual Helmholtz energy (equation (3.13)). In this work we use equations of state to\n",
        "calculate the fugacity. When we use equations of state the model used to calculate\n",
        "thermodynamic properties for the liquid and gas phase is the same – and gives us some\n",
        "advantages compared to the traditional gamma-phi approach (using a GE-model for the liquid\n",
        "phase). Supercritical components such as methane and nitrogen can easily be added – and it is\n",
        "able to calculate the critical point of a solution (Michelsen et.al., 2000). \n",
        "\n",
        "#Chemical Equilibrium\n",
        "Chemical equilibrium is a state in which the rates of the forward and reverse reactions of a chemical system are equal, resulting in a constant concentration of reactants and products. It is a fundamental concept in thermodynamics and is crucial for understanding many chemical and biochemical processes.\n",
        "\n",
        "In a chemical reaction, reactants are converted into products through a series of intermediate steps. The reaction can be represented by a chemical equation that shows the reactants on the left-hand side and the products on the right-hand side. Chemical equilibrium is reached when the rate of the forward reaction equals the rate of the reverse reaction. At this point, the concentrations of the reactants and products remain constant, and the reaction is said to be at equilibrium.\n",
        "\n",
        "The state of chemical equilibrium is characterized by the equilibrium constant, which is defined as the ratio of the product concentrations to the reactant concentrations at equilibrium, with each concentration raised to its stoichiometric coefficient. The equilibrium constant is a function of the temperature and pressure of the system, as well as the energy of activation for the forward and reverse reactions.\n",
        "\n",
        "The principle of chemical equilibrium is governed by the laws of thermodynamics, particularly the second law, which states that the total entropy of a system and its surroundings must always increase or remain constant in a reversible process. At equilibrium, the system has reached the maximum entropy state, and any further changes in the system will result in a decrease in entropy, which is not favored by thermodynamics.\n",
        "\n",
        "Chemical equilibrium has important applications in many areas of chemistry and biochemistry, including acid-base chemistry, solubility equilibria, and enzyme kinetics. Understanding chemical equilibrium is crucial for designing and optimizing chemical processes, as well as for predicting the behavior of chemical systems under different conditions.\n",
        "\n",
        "The calculation of chemical equilibrium is in many ways similar to the calculation of phase\n",
        "equilibrium. In both cases the equilibrium state corresponds to a global minimum of the Gibbs\n",
        "energy subject to a set of material balance constrains.\n",
        "Chemical equilibrium is commonly expressed in two ways. The Gibbs free energy is\n",
        "minimized at equilibrium yielding\n",
        "1\n",
        "0\n",
        "n\n",
        "i i\n",
        "i\n",
        "G µ n =\n",
        "∂ = ∂ ∑ = (3.23)\n",
        "where the chemical potential is expressed as\n",
        "( ) 0 ln i i RT i i µ µ = + γ x (3.24)\n",
        "A more common definition is the definition of the equilibrium constant n v\n",
        "i i\n",
        "i\n",
        "G x K\n",
        "RT γ\n",
        "=\n",
        " ∆ = = \n",
        "  ∏ \n",
        " (3.25)\n",
        "∆G0\n",
        " is calculated from µ0\n",
        " and is generally a function of temperature only. The equilibrium\n",
        "constant K will consequently be a function of temperature only, when defined reference state\n",
        "for all components are used.\n",
        "The activity coefficients in equation (3.24) can be calculated from a model for the fugacity\n",
        "coefficient, using equation (3.21). For the reaction between CO2 and an aqeous MDEA\n",
        "solution we have (equation 2.7).\n",
        "2\n",
        "2\n",
        "2 2 3\n",
        "k\n",
        "k\n",
        "CO MDEA H O HCO MDEA −\n",
        "→ − + + + ← +\n",
        "The chemical equilibrium relation is\n",
        "3\n",
        "2\n",
        "2 2\n",
        "3\n",
        "2 2\n",
        "[ ][ ] [ ][ ]\n",
        "[ ][ ][ ] [ ][ ][\n",
        "HCO MDEA\n",
        "CO MDEA\n",
        "CO H O MDEA\n",
        "HCO MDEA K\n",
        "CO H O MDEA ]\n",
        "γ γ\n",
        "γ γ γ\n",
        "− + − +\n",
        "− = ⋅ (3.26)\n",
        "In this study the reference state for the calculation of activity coefficients for CO2 and ions are\n",
        "at infinite dilution in water (unsymmetrical activity coefficient in water), while the reference\n",
        "state for water and MDEA is as pure component at the system temperature and pressure\n",
        "(symmetric activity coefficient). In general we choose the unsymmetrical reference state in\n",
        "water for ions and supercritical components, and pure component reference sate for subcritical molecular components. \n",
        "\n"
      ]
    }
  ]
}