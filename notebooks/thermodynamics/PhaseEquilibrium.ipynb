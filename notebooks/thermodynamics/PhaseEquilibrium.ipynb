{
  "nbformat": 4,
  "nbformat_minor": 0,
  "metadata": {
    "colab": {
      "name": "PhaseEquilibrium.ipynb",
      "provenance": [],
      "collapsed_sections": [],
      "include_colab_link": true
    },
    "kernelspec": {
      "name": "python3",
      "display_name": "Python 3"
    }
  },
  "cells": [
    {
      "cell_type": "markdown",
      "metadata": {
        "id": "view-in-github",
        "colab_type": "text"
      },
      "source": [
        "<a href=\"https://colab.research.google.com/github/EvenSol/NeqSim-Colab/blob/master/notebooks/thermodynamics/PhaseEquilibrium.ipynb\" target=\"_parent\"><img src=\"https://colab.research.google.com/assets/colab-badge.svg\" alt=\"Open In Colab\"/></a>"
      ]
    },
    {
      "cell_type": "code",
      "metadata": {
        "id": "Wa0_UNp0V5Z6"
      },
      "source": [
        "%%capture\n",
        "!pip install neqsim\n",
        "import neqsim\n",
        "from neqsim.thermo.thermoTools import *"
      ],
      "execution_count": null,
      "outputs": []
    },
    {
      "cell_type": "markdown",
      "metadata": {
        "id": "rXjLlKCGgfAL"
      },
      "source": [
        "# Phase equilibrium\n",
        "Phase equilibrium is the study of the equilibrium which exists between or within different states of matter namely solid, liquid and gas. Equilibrium is defined as a stage when chemical potential of any component present in the system stays steady with time.\n",
        "\n",
        "http://www.jmcampbell.com/tip-of-the-month/2006/09/how-to-determine-k-values/\n",
        "\n",
        "\n",
        "Modeling and design of many types of equipment for separating gas and liquids such as flash separators at the well head, distillation columns and even a pipeline are based on the phases present being in vapor-liquid equilibrium. The thermodynamic equilibrium between vapor and liquid phases is expressed in terms equality of fugacity of component i in the vapor phase, fiV, and the fugacity of component i in the liquid phase, fiL, is written as\n",
        "\n"
      ]
    },
    {
      "cell_type": "markdown",
      "metadata": {
        "id": "OSkA8PGs5dzj"
      },
      "source": [
        "# K-values and EOS\n",
        "\n",
        "https://www.pogc.ir/portals/0/maghalat/890718-10.pdf\n"
      ]
    },
    {
      "cell_type": "markdown",
      "metadata": {
        "id": "vmsz4pjiWBQY"
      },
      "source": [
        "# Flash calculations #\n",
        "\n",
        "https://slideplayer.com/slide/6136276/\n",
        "\n",
        "## The TP-flash##\n",
        "The TP flash is done at constant temperature and pressure. "
      ]
    },
    {
      "cell_type": "code",
      "metadata": {
        "id": "Q4Dn05c_WTjx",
        "colab": {
          "base_uri": "https://localhost:8080/",
          "height": 68
        },
        "outputId": "f59f1ba3-061b-47b3-c5a0-9a8ed1b3cd87"
      },
      "source": [
        "# Creating a fluid in neqsim\n",
        "fluid1 = fluid('srk') #create a fluid using the SRK-EoS\n",
        "fluid1.addComponent('methane', 1.0) #adding 1 mole to the fluid\n",
        "fluid1.addComponent('nC10', 1.0) #adding 1 mole to the fluid\n",
        "fluid1.setTemperature(150.0, 'K')\n",
        "fluid1.setPressure(4.0, 'bara')\n",
        "TPflash(fluid1)\n",
        "fluid1.initProperties()\n",
        "print(\"number of phases \", fluid1.getNumberOfPhases())\n",
        "print(\"gas density \", fluid1.getPhase(\"gas\").getDensity(\"kg/m3\"), \" kg/m3\")\n",
        "print(\"oil density \", fluid1.getPhase(\"oil\").getDensity(\"kg/m3\"), \" kg/m3\")"
      ],
      "execution_count": null,
      "outputs": [
        {
          "output_type": "stream",
          "text": [
            "number of phases  2\n",
            "gas density  5.476376833072058  kg/m3\n",
            "oil density  784.1305064913755  kg/m3\n"
          ],
          "name": "stdout"
        }
      ]
    },
    {
      "cell_type": "markdown",
      "metadata": {
        "id": "U160OGqTITtC"
      },
      "source": [
        "See: https://ntnuopen.ntnu.no/ntnu-xmlui/handle/11250/231326\n",
        "\n",
        "#Thermodynamic Equilibrium Calculations\n",
        "Calculation of phase equilibrium is of importance for dimensioning of multistage separations\n",
        "cascades, as well as for single stage units. Satisfactory predictions of multiphase equilibrium\n",
        "require the adequate thermodynamic models for fluid phase are available. \n",
        "\n",
        "#Physical Equilibrium\n",
        "The phase equilibrium criteria is expressed by equation (3.11) as\n",
        "1 2\n",
        "i i f = f\n",
        "In this work we use use the fugacity coefficient to calculate the fugacities, and the equilibrium\n",
        "criteria is\n",
        "(3.22) g l\n",
        "i i i i ϕ y P =ϕ x P\n",
        "where we can calculate the fugacity coefficient of both gas and liquid from an equation for the\n",
        "residual Helmholtz energy (equation (3.13)). In this work we use equations of state to\n",
        "calculate the fugacity. When we use equations of state the model used to calculate\n",
        "thermodynamic properties for the liquid and gas phase is the same – and gives us some\n",
        "advantages compared to the traditional gamma-phi approach (using a GE-model for the liquid\n",
        "phase). Supercritical components such as methane and nitrogen can easily be added – and it is\n",
        "able to calculate the critical point of a solution (Michelsen et.al., 2000). \n",
        "\n",
        "#Chemical Equilibrium\n",
        "The calculation of chemical equilibrium is in many ways similar to the calculation of phase\n",
        "equilibrium. In both cases the equilibrium state corresponds to a global minimum of the Gibbs\n",
        "energy subject to a set of material balance constrains.\n",
        "Chemical equilibrium is commonly expressed in two ways. The Gibbs free energy is\n",
        "minimized at equilibrium yielding\n",
        "1\n",
        "0\n",
        "n\n",
        "i i\n",
        "i\n",
        "G µ n =\n",
        "∂ = ∂ ∑ = (3.23)\n",
        "where the chemical potential is expressed as\n",
        "( ) 0 ln i i RT i i µ µ = + γ x (3.24)\n",
        "A more common definition is the definition of the equilibrium constant n v\n",
        "i i\n",
        "i\n",
        "G x K\n",
        "RT γ\n",
        "=\n",
        " ∆ = = \n",
        "  ∏ \n",
        " (3.25)\n",
        "∆G0\n",
        " is calculated from µ0\n",
        " and is generally a function of temperature only. The equilibrium\n",
        "constant K will consequently be a function of temperature only, when defined reference state\n",
        "for all components are used.\n",
        "The activity coefficients in equation (3.24) can be calculated from a model for the fugacity\n",
        "coefficient, using equation (3.21). For the reaction between CO2 and an aqeous MDEA\n",
        "solution we have (equation 2.7).\n",
        "2\n",
        "2\n",
        "2 2 3\n",
        "k\n",
        "k\n",
        "CO MDEA H O HCO MDEA −\n",
        "→ − + + + ← +\n",
        "The chemical equilibrium relation is\n",
        "3\n",
        "2\n",
        "2 2\n",
        "3\n",
        "2 2\n",
        "[ ][ ] [ ][ ]\n",
        "[ ][ ][ ] [ ][ ][\n",
        "HCO MDEA\n",
        "CO MDEA\n",
        "CO H O MDEA\n",
        "HCO MDEA K\n",
        "CO H O MDEA ]\n",
        "γ γ\n",
        "γ γ γ\n",
        "− + − +\n",
        "− = ⋅ (3.26)\n",
        "In this study the reference state for the calculation of activity coefficients for CO2 and ions are\n",
        "at infinite dilution in water (unsymmetrical activity coefficient in water), while the reference\n",
        "state for water and MDEA is as pure component at the system temperature and pressure\n",
        "(symmetric activity coefficient). In general we choose the unsymmetrical reference state in\n",
        "water for ions and supercritical components, and pure component reference sate for subcritical molecular components. \n",
        "\n"
      ]
    }
  ]
}