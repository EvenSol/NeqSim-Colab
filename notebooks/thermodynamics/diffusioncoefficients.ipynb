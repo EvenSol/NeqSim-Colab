{
  "nbformat": 4,
  "nbformat_minor": 0,
  "metadata": {
    "colab": {
      "name": "diffusioncoefficients.ipynb",
      "provenance": [],
      "include_colab_link": true
    },
    "kernelspec": {
      "name": "python3",
      "display_name": "Python 3"
    }
  },
  "cells": [
    {
      "cell_type": "markdown",
      "metadata": {
        "id": "view-in-github",
        "colab_type": "text"
      },
      "source": [
        "<a href=\"https://colab.research.google.com/github/EvenSol/NeqSim-Colab/blob/master/notebooks/thermodynamics/diffusioncoefficients.ipynb\" target=\"_parent\"><img src=\"https://colab.research.google.com/assets/colab-badge.svg\" alt=\"Open In Colab\"/></a>"
      ]
    },
    {
      "cell_type": "code",
      "metadata": {
        "id": "c7oLiYgcEV2Y",
        "cellView": "form"
      },
      "source": [
        "#@title Diffusion coefficient\n",
        "#@markdown Diffusivity, mass diffusivity or diffusion coefficient is a proportionality constant between the molar flux due to molecular diffusion and the gradient in the concentration of the species (or the driving force for diffusion). Diffusivity is encountered in Fick's law and numerous other equations of physical chemistry.\n",
        "%%capture\n",
        "!pip install neqsim==2.5.35\n",
        "import neqsim\n",
        "from neqsim.thermo.thermoTools import *\n",
        "import matplotlib\n",
        "import numpy as np\n",
        "import matplotlib.pyplot as plt\n",
        "import math\n",
        "%matplotlib inline"
      ],
      "execution_count": null,
      "outputs": []
    },
    {
      "cell_type": "markdown",
      "source": [],
      "metadata": {
        "id": "PdW0mwmxo09z"
      }
    },
    {
      "cell_type": "code",
      "metadata": {
        "id": "9Kkz5ZeLEyRv",
        "cellView": "form",
        "outputId": "e61c99a4-17ca-4182-a560-92f421b63cec",
        "colab": {
          "base_uri": "https://localhost:8080/",
          "height": 421
        }
      },
      "source": [
        "#@title  Diffusion\n",
        "#@markdown Learn the basics of Ficks law\n",
        "from IPython.display import YouTubeVideo\n",
        "YouTubeVideo('Cg4KlmI_acs', width=600, height=400)"
      ],
      "execution_count": null,
      "outputs": [
        {
          "output_type": "execute_result",
          "data": {
            "text/plain": [
              "<IPython.lib.display.YouTubeVideo at 0x7f15e30aef10>"
            ],
            "text/html": [
              "\n",
              "        <iframe\n",
              "            width=\"600\"\n",
              "            height=\"400\"\n",
              "            src=\"https://www.youtube.com/embed/Cg4KlmI_acs\"\n",
              "            frameborder=\"0\"\n",
              "            allowfullscreen\n",
              "        ></iframe>\n",
              "        "
            ],
            "image/jpeg": "[encoded data removed]"
          },
          "metadata": {},
          "execution_count": 2
        }
      ]
    },
    {
      "cell_type": "markdown",
      "source": [
        "## Calculation of Binary Diffusion Coefficient in Natural Gas\n",
        "\n",
        "The binary diffusion coefficient, \\(D_{AB}\\), describes the rate of mass transfer between two components (A and B) due to molecular diffusion. In natural gas systems, understanding these coefficients is essential for processes like gas separation, gas mixing, and gas transport in porous media. Here are some widely accepted models:\n",
        "\n",
        "### 1. Chapman-Enskog Theory:\n",
        "\n",
        "This theory is based on kinetic gas theory and is applicable under low-pressure conditions where collisions between different gas molecules dominate.\n",
        "\n",
        "$\n",
        "D_{AB} = \\frac{3\\sqrt{k_B T}}{16\\sqrt{\\pi} P \\sigma_{AB}^2 \\Omega_D}\n",
        "$\n",
        "\n",
        "Where:\n",
        "- $k_B$ = Boltzmann constant\n",
        "- $T$= Absolute temperature\n",
        "- $P$= Pressure\n",
        "- $\\sigma_{AB}$ = Collision diameter between molecules A and B\n",
        "- $\\Omega_D$ = Collision integral, which depends on temperature and is typically determined from tabulated data.\n",
        "\n",
        "### 2. Fuller's Method:\n",
        "\n",
        "Fuller and co-workers proposed an empirical correlation based on molecular weight and critical properties:\n",
        "\n",
        "$\n",
        "D_{AB} = \\frac{0.00143 T^{1.75}}{P\\left(\\sum V_A^{1/3}\\right)\\left(\\sum V_B^{1/3}\\right)\\sqrt{M_A + M_B}}\n",
        "$\n",
        "\n",
        "Where:\n",
        "- $T$ = Absolute temperature\n",
        "- $P$ = Pressure\n",
        "- $V_A$ and $V_B$ = Molar volumes of gases A and B at their normal boiling points\n",
        "- $M_A$ and $M_B$ = Molecular weights of gases A and B\n",
        "\n",
        "### 3. Wilke-Lee Model:\n",
        "\n",
        "This model is an empirical relation based on critical properties and acentric factors:\n",
        "\n",
        "$\n",
        "D_{AB} = \\frac{7.4 x 10^{-8} T^{3/2}}{P M^{1/2} (T_c^{2/3} \\omega^{1/2})}\n",
        "$\n",
        "\n",
        "Where:\n",
        "- $T$ = Absolute temperature\n",
        "- $P$= Pressure\n",
        "- $M$= Average molecular weight\n",
        "- $T_c$= Average critical temperature\n",
        "- $\\omega$ = Average acentric factor\n",
        "\n",
        "### 4. Stokes-Einstein Relation:\n",
        "\n",
        "This model is particularly used for systems involving larger molecules, like colloids:\n",
        "\n",
        "$\n",
        "D_{AB} = \\frac{k_B T}{6\\pi \\eta r}\n",
        "$\n",
        "\n",
        "Where:\n",
        "- $k_B$ = Boltzmann constant\n",
        "- $T$ = Absolute temperature\n",
        "- $\\eta$ = Viscosity of the medium\n",
        "- $r$ = Radius of the particle\n",
        "\n",
        "---\n",
        "\n",
        "**Note**: These models can provide initial estimates, but for precise calculations, experimental data is often necessary, especially at high pressures and temperatures. It's also essential to ensure the model's assumptions are consistent with your system's conditions."
      ],
      "metadata": {
        "id": "tKjP_H78q44x"
      }
    },
    {
      "cell_type": "markdown",
      "metadata": {
        "id": "vT1Qy8vlRuDf"
      },
      "source": [
        "## Calculation of diffusion coefficients in NeqSim\n",
        "The following example shows how to calculate diffusion coefficients using neqsim."
      ]
    },
    {
      "cell_type": "code",
      "metadata": {
        "id": "PzWrasHBWB3X",
        "outputId": "fb12f549-69fc-4906-9ef8-308f5e5dbeca",
        "colab": {
          "base_uri": "https://localhost:8080/"
        }
      },
      "source": [
        "#@title Selecting diffusion coefficient models for  gases in NeqSim\n",
        "#@markdown The following script calcluates the diffusion coeficient of methane in ethane using SRK in NeqSim using different methods.\n",
        "\n",
        "\n",
        "fluid1 = fluid('cpa')\n",
        "fluid1.addComponent('methane', 0.5)\n",
        "fluid1.addComponent('water', 0.5)\n",
        "fluid1.setTemperature(60.0, 'C')\n",
        "fluid1.setPressure(10.0, 'bara')\n",
        "fluid1.setMixingRule('classic')\n",
        "TPflash(fluid1)\n",
        "#fluid1.getInterphaseProperties().setInterfacialTensionModel(\"gas\", method);\n",
        "fluid1.initProperties()\n",
        "print('mole fraction of water in gas ' , fluid1.getPhase('gas').getComponent('water').getx())\n",
        "print('density of gas ',fluid1.getPhase('gas').getDensity('kg/m3'))\n",
        "method = \"CSP\"\n",
        "print(\"Diffusion coefficient \",  fluid1.getPhase('gas').getPhysicalProperties().getDiffusionCoefficient(0, 1), \" m2/sec \", \" metod: \", method)\n",
        "\n",
        "method = \"Wilke Lee\"\n",
        "#fluid1.getInterphaseProperties().setInterfacialTensionModel(\"gas\", method);\n",
        "fluid1.initProperties()\n",
        "print(\"Diffusion coefficient \",  fluid1.getPhase('gas').getPhysicalProperties().getDiffusionCoefficient(0, 1), \" m2/sec \", \" metod: \", method)"
      ],
      "execution_count": null,
      "outputs": [
        {
          "output_type": "stream",
          "name": "stdout",
          "text": [
            "mole fraction of water in gas  0.020967658393448697\n",
            "density of gas  5.874769525407652\n",
            "Diffusion coefficient  4.158923743354382e-06  m2/sec   metod:  CSP\n",
            "Diffusion coefficient  4.158923743354382e-06  m2/sec   metod:  Wilke Lee\n"
          ]
        }
      ]
    },
    {
      "cell_type": "code",
      "metadata": {
        "id": "06UhvZhLHs2C",
        "outputId": "c6700edd-e7b0-4c94-f63f-17eaa23e033d",
        "colab": {
          "base_uri": "https://localhost:8080/"
        }
      },
      "source": [
        "#@title Selecting diffusion coefficient models for  oils in NeqSim\n",
        "#@markdown The following script calcluates the diffusion coeficient of n-hexane in n-heptane using SRK in NeqSim using different methods.\n",
        "\n",
        "\n",
        "fluid1 = fluid('srk')\n",
        "fluid1.addComponent('n-hexane', 0.5)\n",
        "fluid1.addComponent('n-heptane', 0.5)\n",
        "fluid1.setTemperature(25.0, 'C')\n",
        "fluid1.setPressure(10.0, 'bara')\n",
        "fluid1.setMixingRule('classic')\n",
        "TPflash(fluid1)\n",
        "\n",
        "method = \"Siddiqi Lucas\"\n",
        "#fluid1.getInterphaseProperties().setDiffusionCoefficientModel(\"oil\", method);\n",
        "fluid1.initProperties()\n",
        "print(\"Diffusion coefficient \",  fluid1.getPhase('oil').getPhysicalProperties().getDiffusionCoefficient(0, 1), \" m2/sec \", \" metod: \", method)"
      ],
      "execution_count": null,
      "outputs": [
        {
          "output_type": "stream",
          "name": "stdout",
          "text": [
            "Diffusion coefficient  inf  m2/sec   metod:  Siddiqi Lucas\n"
          ]
        }
      ]
    },
    {
      "cell_type": "code",
      "metadata": {
        "id": "d8Au-WfxIZUw",
        "outputId": "b10d8d5e-dc6d-4cfa-a6ef-f0f1c6bc371f",
        "colab": {
          "base_uri": "https://localhost:8080/"
        }
      },
      "source": [
        "#@title Selecting diffusion coefficient models for aqueous fluids in NeqSim\n",
        "#@markdown The following script calcluates the diffusion coeficient of water in amine (MDEA) using SRK in NeqSim using different methods.\n",
        "\n",
        "\n",
        "fluid1 = fluid('srk')\n",
        "fluid1.addComponent('water', 0.5)\n",
        "fluid1.addComponent('MDEA', 0.5)\n",
        "fluid1.setTemperature(25.0, 'C')\n",
        "fluid1.setPressure(10.0, 'bara')\n",
        "fluid1.setMixingRule('classic')\n",
        "TPflash(fluid1)\n",
        "\n",
        "method = \"Alkanol amines\"\n",
        "#fluid1.getInterphaseProperties().setDiffusionCoefficientModel(\"oil\", method);\n",
        "fluid1.initProperties()\n",
        "print(\"Diffusion coefficient \",  fluid1.getPhase('aqueous').getPhysicalProperties().getDiffusionCoefficient(0, 1), \" m2/sec \", \" metod: \", method)"
      ],
      "execution_count": null,
      "outputs": [
        {
          "output_type": "stream",
          "name": "stdout",
          "text": [
            "Diffusion coefficient  2.0939212488531034e-10  m2/sec   metod:  Alkanol amines\n"
          ]
        }
      ]
    },
    {
      "cell_type": "code",
      "metadata": {
        "id": "QWK9-XKw0IfF",
        "colab": {
          "base_uri": "https://localhost:8080/",
          "height": 130
        },
        "outputId": "dac33ded-7740-4a45-c89b-0554935e81f0"
      },
      "source": [
        "  SystemInterface testSystem = new SystemSrkEos(273.15 + 28.66, 12.2);\n",
        "        testSystem.addComponent(\"nitrogen\", 0.037);\n",
        "        testSystem.addComponent(\"n-heptane\", 0.475);\n",
        "        testSystem.addComponent(\"water\", 0.475);\n",
        "\n",
        "        testSystem.createDatabase(true);\n",
        "        testSystem.setMixingRule(2);\n",
        "        testSystem.setMultiPhaseCheck(true);\n",
        "\n",
        "        ThermodynamicOperations testOps = new ThermodynamicOperations(testSystem);\n",
        "        try {\n",
        "            testOps.TPflash();\n",
        "            testSystem.display();\n",
        "        } catch (Exception e) {\n",
        "            logger.error(e.toString());\n",
        "        }\n",
        "\n",
        "     System.out.println(\"binary diffusion coefficient water in nitrogen gas \" + testSystem.getPhase(\"gas\").getPhysicalProperties().getDiffusionCoefficient(\"water\", \"nitrogen\") + \" m2/sec\");\n",
        "     System.out.println(\"binary diffusion coefficient nitrogen in liquid n-heptane \" + testSystem.getPhase(\"oil\").getPhysicalProperties().getDiffusionCoefficient(\"nitrogen\", \"n-heptane\") + \" m2/sec\");\n",
        "     System.out.println(\"binary diffusion coefficient nitrogen in water \" + testSystem.getPhase(\"aqueous\").getPhysicalProperties().getDiffusionCoefficient(\"nitrogen\", \"water\") + \" m2/sec\");\n",
        "\n",
        "     System.out.println(\"effective diffusion coefficient water in gas \" + testSystem.getPhase(\"gas\").getPhysicalProperties().getEffectiveDiffusionCoefficient(\"water\") + \" m2/sec\");\n",
        "     System.out.println(\"effective diffusion coefficient nitrogen in liquid n-heptane \" + testSystem.getPhase(\"oil\").getPhysicalProperties().getEffectiveDiffusionCoefficient(\"nitrogen\") + \" m2/sec\");\n",
        "     System.out.println(\"effective diffusion coefficient nitrogen in water \" + testSystem.getPhase(\"aqueous\").getPhysicalProperties().getEffectiveDiffusionCoefficient(\"nitrogen\") + \" m2/sec\");\n"
      ],
      "execution_count": null,
      "outputs": [
        {
          "output_type": "error",
          "ename": "IndentationError",
          "evalue": "ignored",
          "traceback": [
            "\u001b[0;36m  File \u001b[0;32m\"<tokenize>\"\u001b[0;36m, line \u001b[0;32m18\u001b[0m\n\u001b[0;31m    System.out.println(\"binary diffusion coefficient water in nitrogen gas \" + testSystem.getPhase(\"gas\").getPhysicalProperties().getDiffusionCoefficient(\"water\", \"nitrogen\") + \" m2/sec\");\u001b[0m\n\u001b[0m    ^\u001b[0m\n\u001b[0;31mIndentationError\u001b[0m\u001b[0;31m:\u001b[0m unindent does not match any outer indentation level\n"
          ]
        }
      ]
    }
  ]
}