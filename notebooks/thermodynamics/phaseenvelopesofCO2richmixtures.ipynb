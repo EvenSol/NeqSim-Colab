{
  "nbformat": 4,
  "nbformat_minor": 0,
  "metadata": {
    "colab": {
      "provenance": [],
      "authorship_tag": "ABX9TyODNTBCa+n4x4soL+qY13Ui",
      "include_colab_link": true
    },
    "kernelspec": {
      "name": "python3",
      "display_name": "Python 3"
    },
    "language_info": {
      "name": "python"
    }
  },
  "cells": [
    {
      "cell_type": "markdown",
      "metadata": {
        "id": "view-in-github",
        "colab_type": "text"
      },
      "source": [
        "<a href=\"https://colab.research.google.com/github/EvenSol/NeqSim-Colab/blob/master/notebooks/thermodynamics/phaseenvelopesofCO2richmixtures.ipynb\" target=\"_parent\"><img src=\"https://colab.research.google.com/assets/colab-badge.svg\" alt=\"Open In Colab\"/></a>"
      ]
    },
    {
      "cell_type": "code",
      "execution_count": 12,
      "metadata": {
        "id": "NAR7PcF8frmH"
      },
      "outputs": [],
      "source": [
        "%%capture\n",
        "!pip install neqsim"
      ]
    },
    {
      "cell_type": "markdown",
      "source": [
        "#Phase envelopes of CO2 rich mixtures\n",
        "In the following examples we will use the UMR-PRU EoS for calculation of phase behaviour of CO2 rich mixtures.\n"
      ],
      "metadata": {
        "id": "NgI3mAlZf2Kp"
      }
    },
    {
      "cell_type": "markdown",
      "source": [
        "##Phase curve of pure CO2\n"
      ],
      "metadata": {
        "id": "4OFiW07ii1jk"
      }
    },
    {
      "cell_type": "code",
      "source": [],
      "metadata": {
        "id": "E1lFargAjCKe"
      },
      "execution_count": null,
      "outputs": []
    }
  ]
}