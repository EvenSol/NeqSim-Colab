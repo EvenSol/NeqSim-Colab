{
 "nbformat": 4,
 "nbformat_minor": 0,
 "metadata": {
  "colab": {
   "name": "PengRobinsonEOS.ipynb",
   "provenance": [],
   "include_colab_link": true
  },
  "kernelspec": {
   "name": "python3",
   "display_name": "Python 3"
  }
 },
 "cells": [
  {
   "cell_type": "markdown",
   "metadata": {
    "id": "view-in-github",
    "colab_type": "text"
   },
   "source": [
    "<a href=\"https://colab.research.google.com/github/EvenSol/NeqSim-Colab/blob/master/notebooks/thermodynamics/PengRobinsonEOS.ipynb\" target=\"_parent\"><img src=\"https://colab.research.google.com/assets/colab-badge.svg\" alt=\"Open In Colab\"/></a>"
   ]
  },
  {
   "cell_type": "code",
   "metadata": {
    "id": "intro",
    "cellView": "form"
   },
   "source": [
    "#@title Introduksjon til Peng-Robinson EoS\n",
    "#@markdown Denne notatboken gir en kort innf\u00f8ring i Peng-Robinson (PR) likningen for tilstand.\n",
    "#@markdown <br><br>Dette dokumentet er en del av modulen [\"Introduction to Gas Processing using NeqSim in Colab\"](https://colab.research.google.com/github/EvenSol/NeqSim-Colab/blob/master/notebooks/examples_of_NeqSim_in_Colab.ipynb#scrollTo=_eRtkQnHpL70).\n",
    "%%capture\n",
    "!pip install neqsim==2.5.35\n",
    "import neqsim\n",
    "from neqsim.thermo.thermoTools import *\n",
    "import matplotlib\n",
    "import numpy as np\n",
    "import matplotlib.pyplot as plt\n",
    "import math\n",
    "%matplotlib inline"
   ],
   "execution_count": null,
   "outputs": []
  },
  {
   "cell_type": "markdown",
   "metadata": {
    "id": "description"
   },
   "source": [
    "Peng-Robinson-ligningen er en kubisk tilstandsligning som ofte brukes til \u00e5 beskrive faseoppf\u00f8rselen til hydrokarboner. Ligningen har formen:\n",
    "\n",
    "$${p}=\\frac{RT}{v-b}-\\frac{a(T)}{v(v+b)+b(v-b)}$$\n",
    "\n",
    "hvor parameterne $a$ og $b$ bestemmes fra kritiske verdier og acentrisk faktor.\n",
    "\n",
    "I kodesnutten under opprettes en metangass og kompressibilitetsfaktoren beregnes ved hjelp av PR-ligningen."
   ]
  },
  {
   "cell_type": "markdown",
   "metadata": {
    "id": "theory"
   },
   "source": [
    "## Mer teori om Peng-Robinson-ligningen\n",
    "Parametrene i ligningen kan uttrykkes som:\n",
    "$$a(T) = a_c [1 + \\kappa (1 - \\sqrt{T/T_c})]^2$$\n",
    "$$a_c = 0.45724 \frac{R^2 T_c^2}{P_c}$$\n",
    "$$b = 0.07780 \frac{R T_c}{P_c}$$\n",
    "$$\\kappa = 0.37464 + 1.54226 \\omega - 0.26992 \\omega^2$$\n",
    "Her er $T_c$, $P_c$ og $\\omega$ kritisk temperatur, kritisk trykk og acentrisk faktor.\n",
    "I blandinger benyttes van der Waals-lignende blandingsregler for $a$ og $b$.\n"
   ]
  },
  {
   "cell_type": "code",
   "metadata": {
    "id": "example",
    "cellView": "form"
   },
   "source": [
    "fluid1 = fluid('pr')\n",
    "fluid1.addComponent('methane', 1.0)\n",
    "fluid1.setTemperature(273.15, 'K')\n",
    "fluid1.setPressure(50.0, 'bara')\n",
    "TPflash(fluid1)\n",
    "print('Kompressibilitetsfaktor Z:', fluid1.getZ())"
   ],
   "execution_count": null,
   "outputs": []
  }
 ]
}
