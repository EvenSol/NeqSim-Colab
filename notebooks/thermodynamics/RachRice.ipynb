{
  "nbformat": 4,
  "nbformat_minor": 0,
  "metadata": {
    "colab": {
      "name": "TPflashRachRice.ipynb",
      "provenance": [],
      "authorship_tag": "ABX9TyO4LUS0LlK2fB0jWK3BGbxf",
      "include_colab_link": true
    },
    "kernelspec": {
      "name": "python3",
      "display_name": "Python 3"
    },
    "language_info": {
      "name": "python"
    }
  },
  "cells": [
    {
      "cell_type": "markdown",
      "metadata": {
        "id": "view-in-github",
        "colab_type": "text"
      },
      "source": [
        "<a href=\"https://colab.research.google.com/github/EvenSol/NeqSim-Colab/blob/master/notebooks/thermodynamics/RachRice.ipynb\" target=\"_parent\"><img src=\"https://colab.research.google.com/assets/colab-badge.svg\" alt=\"Open In Colab\"/></a>"
      ]
    },
    {
      "cell_type": "code",
      "execution_count": null,
      "metadata": {
        "id": "222-bx-bHuTL"
      },
      "outputs": [],
      "source": [
        "%%capture\n",
        "!pip install neqsim==2.5.35\n",
        "import neqsim\n",
        "from neqsim.thermo.thermoTools import *\n",
        "import matplotlib\n",
        "import numpy as np\n",
        "import matplotlib.pyplot as plt\n",
        "import math\n",
        "plt.style.use('classic')\n",
        "%matplotlib inline"
      ]
    },
    {
      "cell_type": "markdown",
      "source": [
        "#Flash calculations\n",
        "Flash calculations are a common calculation technique used in chemical engineering to determine the phase behavior of a mixture. In a flash calculation, a feed stream is separated into two or more product streams at a certain temperature and pressure, based on the differences in the vapor pressures and liquid compositions of the components in the mixture.\n",
        "\n",
        "The Rachford-Rice equation is a key equation used in flash calculations. It relates the number of moles of vapor and liquid phases present in a mixture at equilibrium to the overall composition of the mixture."
      ],
      "metadata": {
        "id": "AYGlOUbpScsU"
      }
    },
    {
      "cell_type": "markdown",
      "source": [
        "The Rachford-Rice (often abbreviated as RR) equation is a fundamental equation used to solve phase equilibrium problems in multicomponent systems. It's primarily utilized in the context of flash calculations where a feed is subjected to conditions (temperature and pressure) where both vapor and liquid coexist.\n",
        "\n",
        "For a given system in vapor-liquid equilibrium, the fraction of the feed that vaporizes (known as the vapor fraction or $ \\Phi $) can be found by solving the Rachford-Rice equation:\n",
        "\n",
        "### **Rachford-Rice Equation**:\n",
        "\n",
        " $\\sum_{i=1}^{C} \\frac{z_i (K_i - 1)}{1 + \\Phi(K_i - 1)} = 0 $\n",
        "\n",
        "Where:\n",
        "- $ C $ = Number of components in the mixture\n",
        "- $ z_i $ = Mole fraction of component $ i $ in the feed\n",
        "- $ K_i $ = Equilibrium constant (or distribution coefficient) for component $ i $, defined as the ratio of its mole fraction in the vapor phase ($ y_i $) to that in the liquid phase ($ x_i $): $ K_i = \\frac{y_i}{x_i} $\n",
        "- $ \\Phi $ = Vapor fraction (fraction of the feed that becomes vapor)\n",
        "\n",
        "### **Procedure**:\n",
        "\n",
        "1. **Initialization**: Start with an initial guess for $ \\Phi $.\n",
        "2. **Calculate $ K_i $ Values**: Using an equation of state or activity coefficient model combined with Raoult's law, determine the equilibrium constants $ K_i $ for each component at the given temperature and pressure.\n",
        "3. **Solve Rachford-Rice Equation**: Use an iterative numerical method (e.g., Newton-Raphson) to solve the Rachford-Rice equation for $ \\Phi $ given the calculated $ K_i $ values.\n",
        "4. **Determine Phase Compositions**:\n",
        "    - Vapor phase composition ($ y_i $): $ y_i = K_i x_i $\n",
        "    - Liquid phase composition ($ x_i $): $ x_i = \\frac{z_i}{1 + \\Phi(K_i - 1)} $\n",
        "\n",
        "5. **Check Convergence**: If the phase compositions or $ \\Phi $ do not change significantly with subsequent iterations, the solution is considered converged. Otherwise, return to step 2 and repeat.\n",
        "\n",
        "\n",
        "The Rachford-Rice equation provides a fundamental relationship for solving vapor-liquid equilibrium problems in multicomponent systems. By iteratively solving the equation combined with an appropriate thermodynamic model, one can determine the vapor fraction and the compositions of the coexisting vapor and liquid phases."
      ],
      "metadata": {
        "id": "yRqxCFR7FrJc"
      }
    },
    {
      "cell_type": "markdown",
      "source": [
        "#Python code demonstration\n",
        "\n"
      ],
      "metadata": {
        "id": "-g6lBcHRGNxj"
      }
    },
    {
      "cell_type": "code",
      "source": [
        "def rachford_rice(phi, zi, Ki):\n",
        "    \"\"\"Calculate the Rachford-Rice function value for given phi.\"\"\"\n",
        "    C = len(zi)\n",
        "    sum_val = 0\n",
        "    for i in range(C):\n",
        "        sum_val += zi[i] * (Ki[i] - 1) / (1 + phi * (Ki[i] - 1))\n",
        "    return sum_val\n",
        "\n",
        "def rachford_rice_prime(phi, zi, Ki):\n",
        "    \"\"\"Calculate the derivative of the Rachford-Rice function w.r.t phi.\"\"\"\n",
        "    C = len(zi)\n",
        "    sum_val = 0\n",
        "    for i in range(C):\n",
        "        sum_val -= zi[i] * (Ki[i] - 1)**2 / (1 + phi * (Ki[i] - 1))**2\n",
        "    return sum_val\n",
        "\n",
        "def newton_raphson(zi, Ki, phi_guess=0.5, tol=1e-6, max_iter=1000):\n",
        "    \"\"\"Solve Rachford-Rice equation using Newton-Raphson method.\"\"\"\n",
        "    phi = phi_guess\n",
        "    for _ in range(max_iter):\n",
        "        f_val = rachford_rice(phi, zi, Ki)\n",
        "        f_prime = rachford_rice_prime(phi, zi, Ki)\n",
        "        phi_new = phi - f_val / f_prime\n",
        "        if abs(phi_new - phi) < tol:\n",
        "            return phi_new\n",
        "        phi = phi_new\n",
        "    raise Exception(\"Newton-Raphson did not converge after {} iterations.\".format(max_iter))\n",
        "\n",
        "if __name__ == \"__main__\":\n",
        "    # Example with a binary mixture\n",
        "    zi = [0.5, 0.5]  # Mole fractions in the feed\n",
        "    Ki = [2.5, 0.5]  # Equilibrium constants for each component\n",
        "    phi_guess = 0.5  # Initial guess for vapor fraction\n",
        "\n",
        "    vapor_fraction = newton_raphson(zi, Ki, phi_guess)\n",
        "    print(\"Vapor Fraction:\", vapor_fraction)\n"
      ],
      "metadata": {
        "colab": {
          "base_uri": "https://localhost:8080/"
        },
        "id": "5q1yBnOeGTFK",
        "outputId": "fc4cd385-974f-4627-f469-d5b27accf6da"
      },
      "execution_count": 1,
      "outputs": [
        {
          "output_type": "stream",
          "name": "stdout",
          "text": [
            "Vapor Fraction: 0.6666666666666666\n"
          ]
        }
      ]
    },
    {
      "cell_type": "markdown",
      "source": [
        "# Mathematics of flash calculations\n",
        "**TP Flash Calculations in Equilibrium Thermodynamics**\n",
        "\n",
        "TP flash calculations refer to the determination of phase compositions and the amounts of each phase in a system at specified temperature (T) and pressure (P) conditions. The name \"flash\" originates from the process where a feed stream is \"flashed\" (or rapidly depressurized) into a separation vessel, resulting in the formation of vapor and liquid phases.\n",
        "\n",
        "### **Basis of TP Flash Calculations**\n",
        "\n",
        "When a mixture is brought to conditions where two or more phases coexist (e.g., vapor and liquid), the mixture will partition itself among the phases such that the overall Gibbs free energy of the system is minimized. This leads to the equality of fugacities for each component in all coexisting phases, which forms the basis for phase equilibrium.\n",
        "\n",
        "### **Basic Equations and Principles**\n",
        "\n",
        "1. **Fugacity Equality**:\n",
        "$ f_i^L = f_i^V $\n",
        "Where $ f_i^L $ and $ f_i^V $ are the fugacities of component $ i $ in the liquid and vapor phases, respectively.\n",
        "\n",
        "2. **Rachford-Rice Equation**:\n",
        "Given the vapor fraction $ \\Phi $ and the equilibrium constant $ K_i $ for each component:\n",
        "$ \\sum_{i=1}^{C} \\frac{z_i (K_i - 1)}{1 + \\Phi(K_i - 1)} = 0 $\n",
        "Where:\n",
        "- $ C $ = Number of components in the mixture\n",
        "- $ z_i $ = Mole fraction of component $ i $ in the feed\n",
        "- $ K_i $ = Equilibrium constant for component $ i $, typically defined as $ K_i = \\frac{y_i}{x_i} $\n",
        "\n",
        "3. **Calculation of Phase Compositions**:\n",
        "For each component:\n",
        "$ y_i = K_i x_i $\n",
        "Where $ y_i $ is the mole fraction of component $ i $ in the vapor phase, and $ x_i $ is the mole fraction in the liquid phase.\n",
        "\n",
        "### **Procedure for TP Flash Calculations**:\n",
        "\n",
        "1. **Initialization**: Start with an initial guess for the vapor fraction $ \\Phi $.\n",
        "\n",
        "2. **Calculate $ K_i $ Values**: Using an equation of state or activity coefficient model, determine the equilibrium constants $ K_i $ for each component at the given temperature and pressure.\n",
        "\n",
        "3. **Solve Rachford-Rice Equation**: Use a numerical method (e.g., Newton-Raphson) to solve the Rachford-Rice equation for $ \\Phi $ given the calculated $ K_i $ values.\n",
        "\n",
        "4. **Determine Phase Compositions**: Calculate $ y_i $ and $ x_i $ for each component using the previously mentioned equations.\n",
        "\n",
        "5. **Check Convergence**: If phase compositions do not change significantly with subsequent iterations, the solution is considered converged. If not, refine the $ K_i $ values using the newly determined phase compositions and return to step 3."
      ],
      "metadata": {
        "id": "pSVPk6NdGqLB"
      }
    },
    {
      "cell_type": "markdown",
      "source": [
        "# Python example of a TP flash calculation"
      ],
      "metadata": {
        "id": "bJE5xR_9HIwW"
      }
    },
    {
      "cell_type": "code",
      "source": [
        "def rachford_rice(phi, zi, Ki):\n",
        "    \"\"\"Calculate the Rachford-Rice function value for given phi.\"\"\"\n",
        "    C = len(zi)\n",
        "    sum_val = 0\n",
        "    for i in range(C):\n",
        "        sum_val += zi[i] * (Ki[i] - 1) / (1 + phi * (Ki[i] - 1))\n",
        "    return sum_val\n",
        "\n",
        "def rachford_rice_prime(phi, zi, Ki):\n",
        "    \"\"\"Calculate the derivative of the Rachford-Rice function w.r.t phi.\"\"\"\n",
        "    C = len(zi)\n",
        "    sum_val = 0\n",
        "    for i in range(C):\n",
        "        sum_val -= zi[i] * (Ki[i] - 1)**2 / (1 + phi * (Ki[i] - 1))**2\n",
        "    return sum_val\n",
        "\n",
        "def newton_raphson(zi, Ki, phi_guess=0.5, tol=1e-6, max_iter=1000):\n",
        "    \"\"\"Solve Rachford-Rice equation using Newton-Raphson method.\"\"\"\n",
        "    phi = phi_guess\n",
        "    for _ in range(max_iter):\n",
        "        f_val = rachford_rice(phi, zi, Ki)\n",
        "        f_prime = rachford_rice_prime(phi, zi, Ki)\n",
        "        phi_new = phi - f_val / f_prime\n",
        "        if abs(phi_new - phi) < tol:\n",
        "            return phi_new\n",
        "        phi = phi_new\n",
        "    raise Exception(\"Newton-Raphson did not converge after {} iterations.\".format(max_iter))\n",
        "\n",
        "if __name__ == \"__main__\":\n",
        "    # Example with a binary mixture\n",
        "    zi = [0.6, 0.4]  # Mole fractions in the feed\n",
        "    Ki = [2.7, 0.21]  # Hypothetical equilibrium constants for each component\n",
        "    phi_guess = 0.5  # Initial guess for vapor fraction\n",
        "\n",
        "    vapor_fraction = newton_raphson(zi, Ki, phi_guess)\n",
        "\n",
        "    # Calculate phase compositions\n",
        "    yi = [Ki[i] * zi[i] / (1 + vapor_fraction * (Ki[i] - 1)) for i in range(len(zi))]\n",
        "    xi = [zi[i] / (1 + vapor_fraction * (Ki[i] - 1)) for i in range(len(zi))]\n",
        "\n",
        "    print(\"Vapor Fraction:\", vapor_fraction)\n",
        "    print(\"Vapor Composition (y):\", yi)\n",
        "    print(\"Liquid Composition (x):\", xi)\n"
      ],
      "metadata": {
        "id": "jzQ1z96VHOOw",
        "outputId": "60e824c1-b408-4ff3-c5cd-d3e6dd5a2058",
        "colab": {
          "base_uri": "https://localhost:8080/"
        }
      },
      "execution_count": 3,
      "outputs": [
        {
          "output_type": "stream",
          "name": "stdout",
          "text": [
            "Vapor Fraction: 0.5241995532390172\n",
            "Vapor Composition (y): [0.8566265060240963, 0.14337349397590365]\n",
            "Liquid Composition (x): [0.31726907630522083, 0.6827309236947794]\n"
          ]
        }
      ]
    },
    {
      "cell_type": "markdown",
      "source": [
        "#Examples in NeqSim\n",
        "To perform a flash calculation in NeqSim, the user needs to define the feed composition, temperature, and pressure of the system. NeqSim can handle both single-phase and multiphase systems, and can calculate the phase behavior of the mixture for various thermodynamic conditions.\n",
        "\n",
        "Once the user inputs the necessary information, NeqSim will perform a flash calculation to determine the composition and properties of the vapor and liquid phases in equilibrium. The flash calculation can be performed in various modes, including constant temperature and pressure, constant enthalpy and pressure, and constant entropy and pressure."
      ],
      "metadata": {
        "id": "xEni9agTSpY3"
      }
    },
    {
      "cell_type": "markdown",
      "source": [
        "# Create fluid"
      ],
      "metadata": {
        "id": "fztGo9zg6_Hl"
      }
    },
    {
      "cell_type": "code",
      "source": [
        "nitrogen = 1.0 #@param {type:\"number\"}\n",
        "CO2 = 2.5 #@param {type:\"number\"}\n",
        "methane = 80.0  #@param {type:\"number\"}\n",
        "ethane = 5.0  #@param {type:\"number\"}\n",
        "propane =  2.5 #@param {type:\"number\"}\n",
        "ibutane =  1.25 #@param {type:\"number\"}\n",
        "nbutane =  1.0 #@param {type:\"number\"}\n",
        "ipentane =  0.4 #@param {type:\"number\"}\n",
        "npentane =  0.3 #@param {type:\"number\"}\n",
        "nhexane =  0.08#@param {type:\"number\"}\n",
        "\n",
        "fluid1 = fluid('srk')\n",
        "fluid1.addComponent(\"nitrogen\", nitrogen)\n",
        "fluid1.addComponent(\"CO2\", CO2)\n",
        "fluid1.addComponent(\"methane\", methane)\n",
        "fluid1.addComponent(\"ethane\", ethane)\n",
        "fluid1.addComponent(\"propane\", propane)\n",
        "fluid1.addComponent(\"i-butane\", ibutane)\n",
        "fluid1.addComponent(\"n-butane\", nbutane)\n",
        "fluid1.addComponent(\"i-pentane\", ipentane)\n",
        "fluid1.addComponent(\"n-pentane\", nbutane)\n",
        "fluid1.addComponent(\"n-hexane\", nhexane)\n",
        "fluid1.setMixingRule('classic')"
      ],
      "metadata": {
        "id": "j1aUnxwq6yek"
      },
      "execution_count": null,
      "outputs": []
    },
    {
      "cell_type": "markdown",
      "source": [
        "# TP flash"
      ],
      "metadata": {
        "id": "0R-V2t4CHxa9"
      }
    },
    {
      "cell_type": "code",
      "source": [
        "fluid1.setTemperature(20.0, 'C')\n",
        "fluid1.setPressure(50.0, 'bara')\n",
        "\n",
        "TPflash(fluid1)\n",
        "\n",
        "\n",
        "printFrame(fluid1)\n"
      ],
      "metadata": {
        "id": "rKeHziBT6acV",
        "outputId": "f6c57a50-8626-43c9-881c-32860877c4a5",
        "colab": {
          "base_uri": "https://localhost:8080/"
        }
      },
      "execution_count": null,
      "outputs": [
        {
          "output_type": "stream",
          "name": "stdout",
          "text": [
            "| 0                  | 1          | 2          | 3   | 4   | 5   | 6               |\n",
            "|:-------------------|:-----------|:-----------|:----|:----|:----|:----------------|\n",
            "|                    | total      | gas        |     |     |     |                 |\n",
            "| nitrogen           | 1.05563E-2 | 1.05563E-2 |     |     |     | [mole fraction] |\n",
            "| CO2                | 2.63908E-2 | 2.63908E-2 |     |     |     | [mole fraction] |\n",
            "| methane            | 8.44505E-1 | 8.44505E-1 |     |     |     | [mole fraction] |\n",
            "| ethane             | 5.27816E-2 | 5.27816E-2 |     |     |     | [mole fraction] |\n",
            "| propane            | 2.63908E-2 | 2.63908E-2 |     |     |     | [mole fraction] |\n",
            "| i-butane           | 1.31954E-2 | 1.31954E-2 |     |     |     | [mole fraction] |\n",
            "| n-butane           | 1.05563E-2 | 1.05563E-2 |     |     |     | [mole fraction] |\n",
            "| i-pentane          | 4.22253E-3 | 4.22253E-3 |     |     |     | [mole fraction] |\n",
            "| n-pentane          | 1.05563E-2 | 1.05563E-2 |     |     |     | [mole fraction] |\n",
            "| n-hexane           | 8.44505E-4 | 8.44505E-4 |     |     |     | [mole fraction] |\n",
            "|                    |            |            |     |     |     |                 |\n",
            "| Density            |            | 4.84621E1  |     |     |     | [kg/m^3]        |\n",
            "| PhaseFraction      |            | 1E0        |     |     |     | [mole fraction] |\n",
            "| MolarMass          | 2.02761E1  | 2.02761E1  |     |     |     | [kg/kmol]       |\n",
            "| Z factor           |            | 8.6099E-1  |     |     |     | [-]             |\n",
            "| Heat Capacity (Cp) |            | 2.47222E0  |     |     |     | [kJ/kg*K]       |\n",
            "| Heat Capacity (Cv) |            | 1.62543E0  |     |     |     | [kJ/kg*K]       |\n",
            "| Speed of Sound     |            | 3.69451E2  |     |     |     | [m/sec]         |\n",
            "| Enthalpy           | -2.51945E1 | -2.51945E1 |     |     |     | [kJ/kg]         |\n",
            "| Entropy            | -1.32692E0 | -1.32692E0 |     |     |     | [kJ/kg*K]       |\n",
            "| JT coefficient     |            | 5.55272E-1 |     |     |     | [K/bar]         |\n",
            "|                    |            |            |     |     |     |                 |\n",
            "| Viscosity          |            | 1.2398E-5  |     |     |     | [kg/m*sec]      |\n",
            "| Conductivity       |            | 3.62649E-2 |     |     |     | [W/m*K]         |\n",
            "| SurfaceTension     |            |            |     |     |     | [N/m]           |\n",
            "|                    |            |            |     |     |     |                 |\n",
            "|                    |            |            |     |     |     |                 |\n",
            "|                    |            |            |     |     |     |                 |\n",
            "| Pressure           |            | 50.0       |     |     |     | [bar]           |\n",
            "| Temperature        |            | 293.15     |     |     |     | [K]             |\n",
            "|                    |            |            |     |     |     |                 |\n",
            "| Model              |            | SRK-EOS    |     |     |     | -               |\n",
            "| Mixing Rule        |            | classic    |     |     |     | -               |\n",
            "|                    |            |            |     |     |     |                 |\n",
            "| Stream             |            |            |     |     |     | -               |\n",
            "|                    |            |            |     |     |     |                 |\n",
            "|                    |            |            |     |     |     |                 |\n",
            "|                    |            |            |     |     |     |                 |\n",
            "|                    |            |            |     |     |     |                 |\n"
          ]
        }
      ]
    },
    {
      "cell_type": "markdown",
      "source": [
        "#PS flash"
      ],
      "metadata": {
        "id": "ecgyDbNo6qFs"
      }
    },
    {
      "cell_type": "code",
      "source": [
        "fluid1.setTemperature(20.0, 'C')\n",
        "fluid1.setPressure(50.0, 'bara')\n",
        "\n",
        "TPflash(fluid1)\n",
        "\n",
        "fluid1.initProperties()\n",
        "Sunit = 'J/kgK'\n",
        "entropy = fluid1.getEntropy(Sunit)\n",
        "\n",
        "fluid1.setPressure(10.0, 'bara')\n",
        "\n",
        "PSflash(fluid1, entropy,unit=Sunit)\n",
        "\n",
        "endTemperature = fluid1.getTemperature('C')\n",
        "\n",
        "\n",
        "\n",
        "print('temperature after pressure reduction ', endTemperature)\n",
        "printFrame(fluid1)"
      ],
      "metadata": {
        "id": "ijjgYSyD63bc",
        "outputId": "6c3672cb-d2d5-4c06-ef42-1e97ac35bec7",
        "colab": {
          "base_uri": "https://localhost:8080/"
        }
      },
      "execution_count": null,
      "outputs": [
        {
          "output_type": "stream",
          "name": "stdout",
          "text": [
            "temperature after pressure reduction  -51.94236808395132\n",
            "| 0                  | 1          | 2                  | 3                  | 4   | 5   | 6               |\n",
            "|:-------------------|:-----------|:-------------------|:-------------------|:----|:----|:----------------|\n",
            "|                    | total      | gas                | oil                |     |     |                 |\n",
            "| nitrogen           | 1.05563E-2 | 1.11705E-2         | 2.23093E-4         |     |     | [mole fraction] |\n",
            "| CO2                | 2.63908E-2 | 2.70759E-2         | 1.48652E-2         |     |     | [mole fraction] |\n",
            "| methane            | 8.44505E-1 | 8.88608E-1         | 1.0256E-1          |     |     | [mole fraction] |\n",
            "| ethane             | 5.27816E-2 | 5.07632E-2         | 8.67372E-2         |     |     | [mole fraction] |\n",
            "| propane            | 2.63908E-2 | 1.62256E-2         | 1.97403E-1         |     |     | [mole fraction] |\n",
            "| i-butane           | 1.31954E-2 | 3.73148E-3         | 1.72409E-1         |     |     | [mole fraction] |\n",
            "| n-butane           | 1.05563E-2 | 1.8683E-3          | 1.56717E-1         |     |     | [mole fraction] |\n",
            "| i-pentane          | 4.22253E-3 | 2.1393E-4          | 7.166E-2           |     |     | [mole fraction] |\n",
            "| n-pentane          | 1.05563E-2 | 3.38823E-4         | 1.82447E-1         |     |     | [mole fraction] |\n",
            "| n-hexane           | 8.44505E-4 | 4.32845E-6         | 1.4979E-2          |     |     | [mole fraction] |\n",
            "|                    |            |                    |                    |     |     |                 |\n",
            "| Density            |            | 1.06199E1          | 6.37211E2          |     |     | [kg/m^3]        |\n",
            "| PhaseFraction      |            | 9.43893E-1         | 5.61066E-2         |     |     | [mole fraction] |\n",
            "| MolarMass          | 2.02761E1  | 1.83682E1          | 5.23734E1          |     |     | [kg/kmol]       |\n",
            "| Z factor           |            | 9.40926E-1         | 4.85896E-2         |     |     | [-]             |\n",
            "| Heat Capacity (Cp) |            | 2.02381E0          | 2.08725E0          |     |     | [kJ/kg*K]       |\n",
            "| Heat Capacity (Cv) |            | 1.44669E0          | 1.61653E0          |     |     | [kJ/kg*K]       |\n",
            "| Speed of Sound     |            | 3.51807E2          | 1.02296E3          |     |     | [m/sec]         |\n",
            "| Enthalpy           | -1.72854E2 | -1.1845E2          | -4.9385E2          |     |     | [kJ/kg]         |\n",
            "| Entropy            | -1.32692E0 | -1.26889E0         | -1.6693E0          |     |     | [kJ/kg*K]       |\n",
            "| JT coefficient     |            | 9.36796E-1         | -5.2448E-2         |     |     | [K/bar]         |\n",
            "|                    |            |                    |                    |     |     |                 |\n",
            "| Viscosity          |            | 8.87295E-6         | 3.035E-4           |     |     | [kg/m*sec]      |\n",
            "| Conductivity       |            | 2.48741E-2         | 1.32715E-1         |     |     | [W/m*K]         |\n",
            "| SurfaceTension     |            | 1.78316E-2         | 1.78316E-2         |     |     | [N/m]           |\n",
            "|                    |            |                    |                    |     |     |                 |\n",
            "|                    |            |                    |                    |     |     |                 |\n",
            "|                    |            |                    |                    |     |     |                 |\n",
            "| Pressure           |            | 10.0               | 10.0               |     |     | [bar]           |\n",
            "| Temperature        |            | 221.20763191604865 | 221.20763191604865 |     |     | [K]             |\n",
            "|                    |            |                    |                    |     |     |                 |\n",
            "| Model              |            | SRK-EOS            | SRK-EOS            |     |     | -               |\n",
            "| Mixing Rule        |            | classic            | classic            |     |     | -               |\n",
            "|                    |            |                    |                    |     |     |                 |\n",
            "| Stream             |            |                    |                    |     |     | -               |\n",
            "|                    |            |                    |                    |     |     |                 |\n",
            "|                    |            |                    |                    |     |     |                 |\n",
            "|                    |            |                    |                    |     |     |                 |\n",
            "|                    |            |                    |                    |     |     |                 |\n"
          ]
        }
      ]
    },
    {
      "cell_type": "markdown",
      "source": [
        "#PH flash"
      ],
      "metadata": {
        "id": "GUjvR_pG7mfF"
      }
    },
    {
      "cell_type": "code",
      "source": [
        "fluid1.setTemperature(20.0, 'C')\n",
        "fluid1.setPressure(50.0, 'bara')\n",
        "\n",
        "TPflash(fluid1)\n",
        "\n",
        "fluid1.initProperties()\n",
        "Sunit = 'J/kg'\n",
        "enthalpy = fluid1.getEnthalpy(Sunit)\n",
        "\n",
        "fluid1.setPressure(10.0, 'bara')\n",
        "\n",
        "PHflash(fluid1, enthalpy,unit=Sunit)\n",
        "printFrame(fluid1)"
      ],
      "metadata": {
        "id": "MxjXOBli7oJs",
        "outputId": "ce87727b-7973-4ac5-fa69-4f9df04e21f5",
        "colab": {
          "base_uri": "https://localhost:8080/"
        }
      },
      "execution_count": null,
      "outputs": [
        {
          "output_type": "stream",
          "name": "stdout",
          "text": [
            "| 0                  | 1           | 2                 | 3                 | 4   | 5   | 6               |\n",
            "|:-------------------|:------------|:------------------|:------------------|:----|:----|:----------------|\n",
            "|                    | total       | gas               | oil               |     |     |                 |\n",
            "| nitrogen           | 1.05563E-2  | 1.05593E-2        | 1.82811E-4        |     |     | [mole fraction] |\n",
            "| CO2                | 2.63908E-2  | 2.63968E-2        | 5.31001E-3        |     |     | [mole fraction] |\n",
            "| methane            | 8.44505E-1  | 8.44731E-1        | 5.58174E-2        |     |     | [mole fraction] |\n",
            "| ethane             | 5.27816E-2  | 5.2789E-2         | 2.68383E-2        |     |     | [mole fraction] |\n",
            "| propane            | 2.63908E-2  | 2.63814E-2        | 5.91808E-2        |     |     | [mole fraction] |\n",
            "| i-butane           | 1.31954E-2  | 1.31754E-2        | 8.32274E-2        |     |     | [mole fraction] |\n",
            "| n-butane           | 1.05563E-2  | 1.05299E-2        | 1.02839E-1        |     |     | [mole fraction] |\n",
            "| i-pentane          | 4.22253E-3  | 4.1897E-3         | 1.18994E-1        |     |     | [mole fraction] |\n",
            "| n-pentane          | 1.05563E-2  | 1.04397E-2        | 4.18306E-1        |     |     | [mole fraction] |\n",
            "| n-hexane           | 8.44505E-4  | 8.07764E-4        | 1.29303E-1        |     |     | [mole fraction] |\n",
            "|                    |             |                   |                   |     |     |                 |\n",
            "| Density            |             | 9.48192E0         | 6.36874E2         |     |     | [kg/m^3]        |\n",
            "| PhaseFraction      |             | 9.99714E-1        | 2.85937E-4        |     |     | [mole fraction] |\n",
            "| MolarMass          | 2.02761E1   | 2.02632E1         | 6.52751E1         |     |     | [kg/kmol]       |\n",
            "| Z factor           |             | 9.61096E-1        | 5.08006E-2        |     |     | [-]             |\n",
            "| Heat Capacity (Cp) |             | 2.00519E0         | 2.20153E0         |     |     | [kJ/kg*K]       |\n",
            "| Heat Capacity (Cv) |             | 1.51458E0         | 1.77333E0         |     |     | [kJ/kg*K]       |\n",
            "| Speed of Sound     |             | 3.66359E2         | 8.86073E2         |     |     | [m/sec]         |\n",
            "| Enthalpy           | -2.51945E1  | -2.48536E1        | -3.95211E2        |     |     | [kJ/kg]         |\n",
            "| Entropy            | -7.21364E-1 | -7.2097E-1        | -1.14966E0        |     |     | [kJ/kg*K]       |\n",
            "| JT coefficient     |             | 7.26158E-1        | -4.51732E-2       |     |     | [K/bar]         |\n",
            "|                    |             |                   |                   |     |     |                 |\n",
            "| Viscosity          |             | 1.03096E-5        | 2.74262E-4        |     |     | [kg/m*sec]      |\n",
            "| Conductivity       |             | 2.85765E-2        | 1.12734E-1        |     |     | [W/m*K]         |\n",
            "| SurfaceTension     |             | 1.66453E-2        | 1.66453E-2        |     |     | [N/m]           |\n",
            "|                    |             |                   |                   |     |     |                 |\n",
            "|                    |             |                   |                   |     |     |                 |\n",
            "|                    |             |                   |                   |     |     |                 |\n",
            "| Pressure           |             | 10.0              | 10.0              |     |     | [bar]           |\n",
            "| Temperature        |             | 267.5956154331354 | 267.5956154331354 |     |     | [K]             |\n",
            "|                    |             |                   |                   |     |     |                 |\n",
            "| Model              |             | SRK-EOS           | SRK-EOS           |     |     | -               |\n",
            "| Mixing Rule        |             | classic           | classic           |     |     | -               |\n",
            "|                    |             |                   |                   |     |     |                 |\n",
            "| Stream             |             |                   |                   |     |     | -               |\n",
            "|                    |             |                   |                   |     |     |                 |\n",
            "|                    |             |                   |                   |     |     |                 |\n",
            "|                    |             |                   |                   |     |     |                 |\n",
            "|                    |             |                   |                   |     |     |                 |\n"
          ]
        }
      ]
    }
  ]
}