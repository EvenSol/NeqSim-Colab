{
  "nbformat": 4,
  "nbformat_minor": 0,
  "metadata": {
    "colab": {
      "name": "TPflashRachRice.ipynb",
      "provenance": [],
      "authorship_tag": "ABX9TyPmiIs3gD5PSivREZPyqooF",
      "include_colab_link": true
    },
    "kernelspec": {
      "name": "python3",
      "display_name": "Python 3"
    },
    "language_info": {
      "name": "python"
    }
  },
  "cells": [
    {
      "cell_type": "markdown",
      "metadata": {
        "id": "view-in-github",
        "colab_type": "text"
      },
      "source": [
        "<a href=\"https://colab.research.google.com/github/EvenSol/NeqSim-Colab/blob/master/notebooks/thermodynamics/RachRice.ipynb\" target=\"_parent\"><img src=\"https://colab.research.google.com/assets/colab-badge.svg\" alt=\"Open In Colab\"/></a>"
      ]
    },
    {
      "cell_type": "code",
      "execution_count": 20,
      "metadata": {
        "id": "222-bx-bHuTL"
      },
      "outputs": [],
      "source": [
        "%%capture\n",
        "!pip install neqsim\n",
        "import neqsim\n",
        "from neqsim.thermo.thermoTools import *\n",
        "import matplotlib\n",
        "import numpy as np\n",
        "import matplotlib.pyplot as plt\n",
        "import math\n",
        "plt.style.use('classic')\n",
        "%matplotlib inline"
      ]
    },
    {
      "cell_type": "markdown",
      "source": [
        "# Create fluid"
      ],
      "metadata": {
        "id": "fztGo9zg6_Hl"
      }
    },
    {
      "cell_type": "code",
      "source": [
        "nitrogen = 1.0 #@param {type:\"number\"}\n",
        "CO2 = 2.5 #@param {type:\"number\"}\n",
        "methane = 80.0  #@param {type:\"number\"}\n",
        "ethane = 5.0  #@param {type:\"number\"}\n",
        "propane =  2.5 #@param {type:\"number\"}\n",
        "ibutane =  1.25 #@param {type:\"number\"}\n",
        "nbutane =  1.0 #@param {type:\"number\"}\n",
        "ipentane =  0.4 #@param {type:\"number\"}\n",
        "npentane =  0.3 #@param {type:\"number\"}\n",
        "nhexane =  0.08#@param {type:\"number\"}\n",
        "\n",
        "fluid1 = fluid('srk')\n",
        "fluid1.addComponent(\"nitrogen\", nitrogen)\n",
        "fluid1.addComponent(\"CO2\", CO2)\n",
        "fluid1.addComponent(\"methane\", methane)\n",
        "fluid1.addComponent(\"ethane\", ethane)\n",
        "fluid1.addComponent(\"propane\", propane)\n",
        "fluid1.addComponent(\"i-butane\", ibutane)\n",
        "fluid1.addComponent(\"n-butane\", nbutane)\n",
        "fluid1.addComponent(\"i-pentane\", ipentane)\n",
        "fluid1.addComponent(\"n-pentane\", nbutane)\n",
        "fluid1.addComponent(\"n-hexane\", nhexane)\n",
        "fluid1.setMixingRule('classic')"
      ],
      "metadata": {
        "id": "j1aUnxwq6yek"
      },
      "execution_count": 21,
      "outputs": []
    },
    {
      "cell_type": "markdown",
      "source": [
        "# TP flash"
      ],
      "metadata": {
        "id": "0R-V2t4CHxa9"
      }
    },
    {
      "cell_type": "code",
      "source": [
        "fluid1.setTemperature(20.0, 'C')\n",
        "fluid1.setPressure(50.0, 'bara')\n",
        "\n",
        "TPflash(fluid1)\n",
        "\n",
        "\n",
        "printFrame(fluid1)\n"
      ],
      "metadata": {
        "id": "rKeHziBT6acV",
        "outputId": "9f6a9e22-2d85-423c-e881-2942352470ad",
        "colab": {
          "base_uri": "https://localhost:8080/"
        }
      },
      "execution_count": 22,
      "outputs": [
        {
          "output_type": "stream",
          "name": "stdout",
          "text": [
            "| 0                  | 1          | 2          | 3   | 4   | 5   | 6               |\n",
            "|:-------------------|:-----------|:-----------|:----|:----|:----|:----------------|\n",
            "|                    | total      | gas        |     |     |     |                 |\n",
            "| nitrogen           | 1.05563E-2 | 1.05563E-2 |     |     |     | [mole fraction] |\n",
            "| CO2                | 2.63908E-2 | 2.63908E-2 |     |     |     | [mole fraction] |\n",
            "| methane            | 8.44505E-1 | 8.44505E-1 |     |     |     | [mole fraction] |\n",
            "| ethane             | 5.27816E-2 | 5.27816E-2 |     |     |     | [mole fraction] |\n",
            "| propane            | 2.63908E-2 | 2.63908E-2 |     |     |     | [mole fraction] |\n",
            "| i-butane           | 1.31954E-2 | 1.31954E-2 |     |     |     | [mole fraction] |\n",
            "| n-butane           | 1.05563E-2 | 1.05563E-2 |     |     |     | [mole fraction] |\n",
            "| i-pentane          | 4.22253E-3 | 4.22253E-3 |     |     |     | [mole fraction] |\n",
            "| n-pentane          | 1.05563E-2 | 1.05563E-2 |     |     |     | [mole fraction] |\n",
            "| n-hexane           | 8.44505E-4 | 8.44505E-4 |     |     |     | [mole fraction] |\n",
            "|                    |            |            |     |     |     |                 |\n",
            "| Density            |            | 4.84621E1  |     |     |     | [kg/m^3]        |\n",
            "| PhaseFraction      |            | 1E0        |     |     |     | [mole fraction] |\n",
            "| MolarMass          | 2.02761E1  | 2.02761E1  |     |     |     | [kg/kmol]       |\n",
            "| Z factor           |            | 8.6099E-1  |     |     |     | [-]             |\n",
            "| Heat Capacity (Cp) |            | 2.47222E0  |     |     |     | [kJ/kg*K]       |\n",
            "| Heat Capacity (Cv) |            | 1.62543E0  |     |     |     | [kJ/kg*K]       |\n",
            "| Speed of Sound     |            | 3.69451E2  |     |     |     | [m/sec]         |\n",
            "| Enthalpy           | -2.51945E1 | -2.51945E1 |     |     |     | [kJ/kg]         |\n",
            "| Entropy            | -1.32692E0 | -1.32692E0 |     |     |     | [kJ/kg*K]       |\n",
            "| JT coefficient     |            | 5.55272E-1 |     |     |     | [K/bar]         |\n",
            "|                    |            |            |     |     |     |                 |\n",
            "| Viscosity          |            | 1.2398E-5  |     |     |     | [kg/m*sec]      |\n",
            "| Conductivity       |            | 3.62649E-2 |     |     |     | [W/m*K]         |\n",
            "| SurfaceTension     |            |            |     |     |     | [N/m]           |\n",
            "|                    |            |            |     |     |     |                 |\n",
            "|                    |            |            |     |     |     |                 |\n",
            "|                    |            |            |     |     |     |                 |\n",
            "| Pressure           |            | 50.0       |     |     |     | [bar]           |\n",
            "| Temperature        |            | 293.15     |     |     |     | [K]             |\n",
            "|                    |            |            |     |     |     |                 |\n",
            "| Model              |            | SRK-EOS    |     |     |     | -               |\n",
            "| Mixing Rule        |            | classic    |     |     |     | -               |\n",
            "|                    |            |            |     |     |     |                 |\n",
            "| Stream             |            |            |     |     |     | -               |\n",
            "|                    |            |            |     |     |     |                 |\n",
            "|                    |            |            |     |     |     |                 |\n",
            "|                    |            |            |     |     |     |                 |\n",
            "|                    |            |            |     |     |     |                 |\n"
          ]
        }
      ]
    },
    {
      "cell_type": "markdown",
      "source": [
        "#PS flash"
      ],
      "metadata": {
        "id": "ecgyDbNo6qFs"
      }
    },
    {
      "cell_type": "code",
      "source": [
        "fluid1.setTemperature(20.0, 'C')\n",
        "fluid1.setPressure(50.0, 'bara')\n",
        "\n",
        "TPflash(fluid1)\n",
        "\n",
        "fluid1.initProperties()\n",
        "Sunit = 'J/kgK'\n",
        "entropy = fluid1.getEntropy(Sunit)\n",
        "\n",
        "fluid1.setPressure(10.0, 'bara')\n",
        "\n",
        "PSflash(fluid1, entropy,unit=Sunit)\n",
        "printFrame(fluid1)"
      ],
      "metadata": {
        "id": "ijjgYSyD63bc",
        "outputId": "b2a70904-ef8c-46d7-8001-ba174a50dcf2",
        "colab": {
          "base_uri": "https://localhost:8080/"
        }
      },
      "execution_count": 23,
      "outputs": [
        {
          "output_type": "stream",
          "name": "stdout",
          "text": [
            "| 0                  | 1          | 2                  | 3                  | 4   | 5   | 6               |\n",
            "|:-------------------|:-----------|:-------------------|:-------------------|:----|:----|:----------------|\n",
            "|                    | total      | gas                | oil                |     |     |                 |\n",
            "| nitrogen           | 1.05563E-2 | 1.11705E-2         | 2.23093E-4         |     |     | [mole fraction] |\n",
            "| CO2                | 2.63908E-2 | 2.70759E-2         | 1.48652E-2         |     |     | [mole fraction] |\n",
            "| methane            | 8.44505E-1 | 8.88608E-1         | 1.0256E-1          |     |     | [mole fraction] |\n",
            "| ethane             | 5.27816E-2 | 5.07632E-2         | 8.67372E-2         |     |     | [mole fraction] |\n",
            "| propane            | 2.63908E-2 | 1.62256E-2         | 1.97403E-1         |     |     | [mole fraction] |\n",
            "| i-butane           | 1.31954E-2 | 3.73148E-3         | 1.72409E-1         |     |     | [mole fraction] |\n",
            "| n-butane           | 1.05563E-2 | 1.8683E-3          | 1.56717E-1         |     |     | [mole fraction] |\n",
            "| i-pentane          | 4.22253E-3 | 2.1393E-4          | 7.166E-2           |     |     | [mole fraction] |\n",
            "| n-pentane          | 1.05563E-2 | 3.38823E-4         | 1.82447E-1         |     |     | [mole fraction] |\n",
            "| n-hexane           | 8.44505E-4 | 4.32845E-6         | 1.4979E-2          |     |     | [mole fraction] |\n",
            "|                    |            |                    |                    |     |     |                 |\n",
            "| Density            |            | 1.06199E1          | 6.37211E2          |     |     | [kg/m^3]        |\n",
            "| PhaseFraction      |            | 9.43893E-1         | 5.61066E-2         |     |     | [mole fraction] |\n",
            "| MolarMass          | 2.02761E1  | 1.83682E1          | 5.23734E1          |     |     | [kg/kmol]       |\n",
            "| Z factor           |            | 9.40926E-1         | 4.85896E-2         |     |     | [-]             |\n",
            "| Heat Capacity (Cp) |            | 2.02381E0          | 2.08725E0          |     |     | [kJ/kg*K]       |\n",
            "| Heat Capacity (Cv) |            | 1.44669E0          | 1.61653E0          |     |     | [kJ/kg*K]       |\n",
            "| Speed of Sound     |            | 3.51807E2          | 1.02296E3          |     |     | [m/sec]         |\n",
            "| Enthalpy           | -1.72854E2 | -1.1845E2          | -4.9385E2          |     |     | [kJ/kg]         |\n",
            "| Entropy            | -1.32692E0 | -1.26889E0         | -1.6693E0          |     |     | [kJ/kg*K]       |\n",
            "| JT coefficient     |            | 9.36796E-1         | -5.2448E-2         |     |     | [K/bar]         |\n",
            "|                    |            |                    |                    |     |     |                 |\n",
            "| Viscosity          |            | 8.87295E-6         | 3.035E-4           |     |     | [kg/m*sec]      |\n",
            "| Conductivity       |            | 2.48741E-2         | 1.32715E-1         |     |     | [W/m*K]         |\n",
            "| SurfaceTension     |            | 1.78316E-2         | 1.78316E-2         |     |     | [N/m]           |\n",
            "|                    |            |                    |                    |     |     |                 |\n",
            "|                    |            |                    |                    |     |     |                 |\n",
            "|                    |            |                    |                    |     |     |                 |\n",
            "| Pressure           |            | 10.0               | 10.0               |     |     | [bar]           |\n",
            "| Temperature        |            | 221.20763191604865 | 221.20763191604865 |     |     | [K]             |\n",
            "|                    |            |                    |                    |     |     |                 |\n",
            "| Model              |            | SRK-EOS            | SRK-EOS            |     |     | -               |\n",
            "| Mixing Rule        |            | classic            | classic            |     |     | -               |\n",
            "|                    |            |                    |                    |     |     |                 |\n",
            "| Stream             |            |                    |                    |     |     | -               |\n",
            "|                    |            |                    |                    |     |     |                 |\n",
            "|                    |            |                    |                    |     |     |                 |\n",
            "|                    |            |                    |                    |     |     |                 |\n",
            "|                    |            |                    |                    |     |     |                 |\n"
          ]
        }
      ]
    },
    {
      "cell_type": "markdown",
      "source": [
        "#PH flash"
      ],
      "metadata": {
        "id": "GUjvR_pG7mfF"
      }
    },
    {
      "cell_type": "code",
      "source": [
        "fluid1.setTemperature(20.0, 'C')\n",
        "fluid1.setPressure(50.0, 'bara')\n",
        "\n",
        "TPflash(fluid1)\n",
        "\n",
        "fluid1.initProperties()\n",
        "Sunit = 'J/kg'\n",
        "enthalpy = fluid1.getEnthalpy(Sunit)\n",
        "\n",
        "fluid1.setPressure(10.0, 'bara')\n",
        "\n",
        "PHflash(fluid1, enthalpy,unit=Sunit)\n",
        "printFrame(fluid1)"
      ],
      "metadata": {
        "id": "MxjXOBli7oJs",
        "outputId": "7f63437b-5773-463c-8429-08510221fc2b",
        "colab": {
          "base_uri": "https://localhost:8080/"
        }
      },
      "execution_count": 24,
      "outputs": [
        {
          "output_type": "stream",
          "name": "stdout",
          "text": [
            "| 0                  | 1           | 2                 | 3                 | 4   | 5   | 6               |\n",
            "|:-------------------|:------------|:------------------|:------------------|:----|:----|:----------------|\n",
            "|                    | total       | gas               | oil               |     |     |                 |\n",
            "| nitrogen           | 1.05563E-2  | 1.05593E-2        | 1.82811E-4        |     |     | [mole fraction] |\n",
            "| CO2                | 2.63908E-2  | 2.63968E-2        | 5.31001E-3        |     |     | [mole fraction] |\n",
            "| methane            | 8.44505E-1  | 8.44731E-1        | 5.58174E-2        |     |     | [mole fraction] |\n",
            "| ethane             | 5.27816E-2  | 5.2789E-2         | 2.68383E-2        |     |     | [mole fraction] |\n",
            "| propane            | 2.63908E-2  | 2.63814E-2        | 5.91808E-2        |     |     | [mole fraction] |\n",
            "| i-butane           | 1.31954E-2  | 1.31754E-2        | 8.32274E-2        |     |     | [mole fraction] |\n",
            "| n-butane           | 1.05563E-2  | 1.05299E-2        | 1.02839E-1        |     |     | [mole fraction] |\n",
            "| i-pentane          | 4.22253E-3  | 4.1897E-3         | 1.18994E-1        |     |     | [mole fraction] |\n",
            "| n-pentane          | 1.05563E-2  | 1.04397E-2        | 4.18306E-1        |     |     | [mole fraction] |\n",
            "| n-hexane           | 8.44505E-4  | 8.07764E-4        | 1.29303E-1        |     |     | [mole fraction] |\n",
            "|                    |             |                   |                   |     |     |                 |\n",
            "| Density            |             | 9.48192E0         | 6.36874E2         |     |     | [kg/m^3]        |\n",
            "| PhaseFraction      |             | 9.99714E-1        | 2.85937E-4        |     |     | [mole fraction] |\n",
            "| MolarMass          | 2.02761E1   | 2.02632E1         | 6.52751E1         |     |     | [kg/kmol]       |\n",
            "| Z factor           |             | 9.61096E-1        | 5.08006E-2        |     |     | [-]             |\n",
            "| Heat Capacity (Cp) |             | 2.00519E0         | 2.20153E0         |     |     | [kJ/kg*K]       |\n",
            "| Heat Capacity (Cv) |             | 1.51458E0         | 1.77333E0         |     |     | [kJ/kg*K]       |\n",
            "| Speed of Sound     |             | 3.66359E2         | 8.86073E2         |     |     | [m/sec]         |\n",
            "| Enthalpy           | -2.51945E1  | -2.48536E1        | -3.95211E2        |     |     | [kJ/kg]         |\n",
            "| Entropy            | -7.21364E-1 | -7.2097E-1        | -1.14966E0        |     |     | [kJ/kg*K]       |\n",
            "| JT coefficient     |             | 7.26158E-1        | -4.51732E-2       |     |     | [K/bar]         |\n",
            "|                    |             |                   |                   |     |     |                 |\n",
            "| Viscosity          |             | 1.03096E-5        | 2.74262E-4        |     |     | [kg/m*sec]      |\n",
            "| Conductivity       |             | 2.85765E-2        | 1.12734E-1        |     |     | [W/m*K]         |\n",
            "| SurfaceTension     |             | 1.66453E-2        | 1.66453E-2        |     |     | [N/m]           |\n",
            "|                    |             |                   |                   |     |     |                 |\n",
            "|                    |             |                   |                   |     |     |                 |\n",
            "|                    |             |                   |                   |     |     |                 |\n",
            "| Pressure           |             | 10.0              | 10.0              |     |     | [bar]           |\n",
            "| Temperature        |             | 267.5956154331354 | 267.5956154331354 |     |     | [K]             |\n",
            "|                    |             |                   |                   |     |     |                 |\n",
            "| Model              |             | SRK-EOS           | SRK-EOS           |     |     | -               |\n",
            "| Mixing Rule        |             | classic           | classic           |     |     | -               |\n",
            "|                    |             |                   |                   |     |     |                 |\n",
            "| Stream             |             |                   |                   |     |     | -               |\n",
            "|                    |             |                   |                   |     |     |                 |\n",
            "|                    |             |                   |                   |     |     |                 |\n",
            "|                    |             |                   |                   |     |     |                 |\n",
            "|                    |             |                   |                   |     |     |                 |\n"
          ]
        }
      ]
    }
  ]
}