{
  "nbformat": 4,
  "nbformat_minor": 0,
  "metadata": {
    "colab": {
      "name": "TPflashRachRice.ipynb",
      "provenance": [],
      "include_colab_link": true
    },
    "kernelspec": {
      "name": "python3",
      "display_name": "Python 3"
    },
    "language_info": {
      "name": "python"
    }
  },
  "cells": [
    {
      "cell_type": "markdown",
      "metadata": {
        "id": "view-in-github",
        "colab_type": "text"
      },
      "source": [
        "<a href=\"https://colab.research.google.com/github/EvenSol/NeqSim-Colab/blob/master/notebooks/thermodynamics/RachRice.ipynb\" target=\"_parent\"><img src=\"https://colab.research.google.com/assets/colab-badge.svg\" alt=\"Open In Colab\"/></a>"
      ]
    },
    {
      "cell_type": "code",
      "execution_count": 1,
      "metadata": {
        "id": "222-bx-bHuTL"
      },
      "outputs": [],
      "source": [
        "%%capture\n",
        "!pip install neqsim==2.5.35\n",
        "import neqsim\n",
        "from neqsim.thermo.thermoTools import *\n",
        "import matplotlib\n",
        "import numpy as np\n",
        "import matplotlib.pyplot as plt\n",
        "import math\n",
        "plt.style.use('classic')\n",
        "%matplotlib inline"
      ]
    },
    {
      "cell_type": "markdown",
      "source": [
        "#Flash calculations\n",
        "Flash calculations are a common calculation technique used in chemical engineering to determine the phase behavior of a mixture. In a flash calculation, a feed stream is separated into two or more product streams at a certain temperature and pressure, based on the differences in the vapor pressures and liquid compositions of the components in the mixture.\n",
        "\n",
        "The Rachford-Rice equation is a key equation used in flash calculations. It relates the number of moles of vapor and liquid phases present in a mixture at equilibrium to the overall composition of the mixture."
      ],
      "metadata": {
        "id": "AYGlOUbpScsU"
      }
    },
    {
      "cell_type": "markdown",
      "source": [
        "The Rachford-Rice (often abbreviated as RR) equation is a fundamental equation used to solve phase equilibrium problems in multicomponent systems. It's primarily utilized in the context of flash calculations where a feed is subjected to conditions (temperature and pressure) where both vapor and liquid coexist.\n",
        "\n",
        "For a given system in vapor-liquid equilibrium, the fraction of the feed that vaporizes (known as the vapor fraction or $ \\Phi $) can be found by solving the Rachford-Rice equation:\n",
        "\n",
        "### **Rachford-Rice Equation**:\n",
        "\n",
        " $\\sum_{i=1}^{C} \\frac{z_i (K_i - 1)}{1 + \\Phi(K_i - 1)} = 0 $\n",
        "\n",
        "Where:\n",
        "- $ C $ = Number of components in the mixture\n",
        "- $ z_i $ = Mole fraction of component $ i $ in the feed\n",
        "- $ K_i $ = Equilibrium constant (or distribution coefficient) for component $ i $, defined as the ratio of its mole fraction in the vapor phase ($ y_i $) to that in the liquid phase ($ x_i $): $ K_i = \\frac{y_i}{x_i} $\n",
        "- $ \\Phi $ = Vapor fraction (fraction of the feed that becomes vapor)\n",
        "\n",
        "### **Procedure**:\n",
        "\n",
        "1. **Initialization**: Start with an initial guess for $ \\Phi $.\n",
        "2. **Calculate $ K_i $ Values**: Using an equation of state or activity coefficient model combined with Raoult's law, determine the equilibrium constants $ K_i $ for each component at the given temperature and pressure.\n",
        "3. **Solve Rachford-Rice Equation**: Use an iterative numerical method (e.g., Newton-Raphson) to solve the Rachford-Rice equation for $ \\Phi $ given the calculated $ K_i $ values.\n",
        "4. **Determine Phase Compositions**:\n",
        "    - Vapor phase composition ($ y_i $): $ y_i = K_i x_i $\n",
        "    - Liquid phase composition ($ x_i $): $ x_i = \\frac{z_i}{1 + \\Phi(K_i - 1)} $\n",
        "\n",
        "5. **Check Convergence**: If the phase compositions or $ \\Phi $ do not change significantly with subsequent iterations, the solution is considered converged. Otherwise, return to step 2 and repeat.\n",
        "\n",
        "\n",
        "The Rachford-Rice equation provides a fundamental relationship for solving vapor-liquid equilibrium problems in multicomponent systems. By iteratively solving the equation combined with an appropriate thermodynamic model, one can determine the vapor fraction and the compositions of the coexisting vapor and liquid phases."
      ],
      "metadata": {
        "id": "yRqxCFR7FrJc"
      }
    },
    {
      "cell_type": "markdown",
      "source": [
        "#Python code demonstration\n",
        "\n"
      ],
      "metadata": {
        "id": "-g6lBcHRGNxj"
      }
    },
    {
      "cell_type": "code",
      "source": [
        "def rachford_rice(phi, zi, Ki):\n",
        "    \"\"\"Calculate the Rachford-Rice function value for given phi.\"\"\"\n",
        "    C = len(zi)\n",
        "    sum_val = 0\n",
        "    for i in range(C):\n",
        "        sum_val += zi[i] * (Ki[i] - 1) / (1 + phi * (Ki[i] - 1))\n",
        "    return sum_val\n",
        "\n",
        "def rachford_rice_prime(phi, zi, Ki):\n",
        "    \"\"\"Calculate the derivative of the Rachford-Rice function w.r.t phi.\"\"\"\n",
        "    C = len(zi)\n",
        "    sum_val = 0\n",
        "    for i in range(C):\n",
        "        sum_val -= zi[i] * (Ki[i] - 1)**2 / (1 + phi * (Ki[i] - 1))**2\n",
        "    return sum_val\n",
        "\n",
        "def newton_raphson(zi, Ki, phi_guess=0.5, tol=1e-6, max_iter=1000):\n",
        "    \"\"\"Solve Rachford-Rice equation using Newton-Raphson method.\"\"\"\n",
        "    phi = phi_guess\n",
        "    for _ in range(max_iter):\n",
        "        f_val = rachford_rice(phi, zi, Ki)\n",
        "        f_prime = rachford_rice_prime(phi, zi, Ki)\n",
        "        phi_new = phi - f_val / f_prime\n",
        "        if abs(phi_new - phi) < tol:\n",
        "            return phi_new\n",
        "        phi = phi_new\n",
        "    raise Exception(\"Newton-Raphson did not converge after {} iterations.\".format(max_iter))\n",
        "\n",
        "if __name__ == \"__main__\":\n",
        "    # Example with a binary mixture\n",
        "    zi = [0.5, 0.5]  # Mole fractions in the feed\n",
        "    Ki = [2.5, 0.5]  # Equilibrium constants for each component\n",
        "    phi_guess = 0.5  # Initial guess for vapor fraction\n",
        "\n",
        "    vapor_fraction = newton_raphson(zi, Ki, phi_guess)\n",
        "    print(\"Vapor Fraction:\", vapor_fraction)\n"
      ],
      "metadata": {
        "colab": {
          "base_uri": "https://localhost:8080/"
        },
        "id": "5q1yBnOeGTFK",
        "outputId": "d553b148-6c79-40da-a98f-fa6b4da27ceb"
      },
      "execution_count": 2,
      "outputs": [
        {
          "output_type": "stream",
          "name": "stdout",
          "text": [
            "Vapor Fraction: 0.6666666666666666\n"
          ]
        }
      ]
    },
    {
      "cell_type": "markdown",
      "source": [
        "# Mathematics of flash calculations\n",
        "**TP Flash Calculations in Equilibrium Thermodynamics**\n",
        "\n",
        "TP flash calculations refer to the determination of phase compositions and the amounts of each phase in a system at specified temperature (T) and pressure (P) conditions. The name \"flash\" originates from the process where a feed stream is \"flashed\" (or rapidly depressurized) into a separation vessel, resulting in the formation of vapor and liquid phases.\n",
        "\n",
        "### **Basis of TP Flash Calculations**\n",
        "\n",
        "When a mixture is brought to conditions where two or more phases coexist (e.g., vapor and liquid), the mixture will partition itself among the phases such that the overall Gibbs free energy of the system is minimized. This leads to the equality of fugacities for each component in all coexisting phases, which forms the basis for phase equilibrium.\n",
        "\n",
        "### **Basic Equations and Principles**\n",
        "\n",
        "1. **Fugacity Equality**:\n",
        "$ f_i^L = f_i^V $\n",
        "Where $ f_i^L $ and $ f_i^V $ are the fugacities of component $ i $ in the liquid and vapor phases, respectively.\n",
        "\n",
        "2. **Rachford-Rice Equation**:\n",
        "Given the vapor fraction $ \\Phi $ and the equilibrium constant $ K_i $ for each component:\n",
        "$ \\sum_{i=1}^{C} \\frac{z_i (K_i - 1)}{1 + \\Phi(K_i - 1)} = 0 $\n",
        "Where:\n",
        "- $ C $ = Number of components in the mixture\n",
        "- $ z_i $ = Mole fraction of component $ i $ in the feed\n",
        "- $ K_i $ = Equilibrium constant for component $ i $, typically defined as $ K_i = \\frac{y_i}{x_i} $\n",
        "\n",
        "3. **Calculation of Phase Compositions**:\n",
        "For each component:\n",
        "$ y_i = K_i x_i $\n",
        "Where $ y_i $ is the mole fraction of component $ i $ in the vapor phase, and $ x_i $ is the mole fraction in the liquid phase.\n",
        "\n",
        "### **Procedure for TP Flash Calculations**:\n",
        "\n",
        "1. **Initialization**: Start with an initial guess for the vapor fraction $ \\Phi $.\n",
        "\n",
        "2. **Calculate $ K_i $ Values**: Using an equation of state or activity coefficient model, determine the equilibrium constants $ K_i $ for each component at the given temperature and pressure.\n",
        "\n",
        "3. **Solve Rachford-Rice Equation**: Use a numerical method (e.g., Newton-Raphson) to solve the Rachford-Rice equation for $ \\Phi $ given the calculated $ K_i $ values.\n",
        "\n",
        "4. **Determine Phase Compositions**: Calculate $ y_i $ and $ x_i $ for each component using the previously mentioned equations.\n",
        "\n",
        "5. **Check Convergence**: If phase compositions do not change significantly with subsequent iterations, the solution is considered converged. If not, refine the $ K_i $ values using the newly determined phase compositions and return to step 3."
      ],
      "metadata": {
        "id": "pSVPk6NdGqLB"
      }
    },
    {
      "cell_type": "markdown",
      "source": [
        "# Python example of a TP flash calculation"
      ],
      "metadata": {
        "id": "bJE5xR_9HIwW"
      }
    },
    {
      "cell_type": "code",
      "source": [
        "def rachford_rice(phi, zi, Ki):\n",
        "    \"\"\"Calculate the Rachford-Rice function value for given phi.\"\"\"\n",
        "    C = len(zi)\n",
        "    sum_val = 0\n",
        "    for i in range(C):\n",
        "        sum_val += zi[i] * (Ki[i] - 1) / (1 + phi * (Ki[i] - 1))\n",
        "    return sum_val\n",
        "\n",
        "def rachford_rice_prime(phi, zi, Ki):\n",
        "    \"\"\"Calculate the derivative of the Rachford-Rice function w.r.t phi.\"\"\"\n",
        "    C = len(zi)\n",
        "    sum_val = 0\n",
        "    for i in range(C):\n",
        "        sum_val -= zi[i] * (Ki[i] - 1)**2 / (1 + phi * (Ki[i] - 1))**2\n",
        "    return sum_val\n",
        "\n",
        "def newton_raphson(zi, Ki, phi_guess=0.5, tol=1e-6, max_iter=1000):\n",
        "    \"\"\"Solve Rachford-Rice equation using Newton-Raphson method.\"\"\"\n",
        "    phi = phi_guess\n",
        "    for _ in range(max_iter):\n",
        "        f_val = rachford_rice(phi, zi, Ki)\n",
        "        f_prime = rachford_rice_prime(phi, zi, Ki)\n",
        "        phi_new = phi - f_val / f_prime\n",
        "        if abs(phi_new - phi) < tol:\n",
        "            return phi_new\n",
        "        phi = phi_new\n",
        "    raise Exception(\"Newton-Raphson did not converge after {} iterations.\".format(max_iter))\n",
        "\n",
        "if __name__ == \"__main__\":\n",
        "    # Example with a binary mixture\n",
        "    zi = [0.6, 0.4]  # Mole fractions in the feed\n",
        "    Ki = [2.7, 0.21]  # Hypothetical equilibrium constants for each component\n",
        "    phi_guess = 0.5  # Initial guess for vapor fraction\n",
        "\n",
        "    vapor_fraction = newton_raphson(zi, Ki, phi_guess)\n",
        "\n",
        "    # Calculate phase compositions\n",
        "    yi = [Ki[i] * zi[i] / (1 + vapor_fraction * (Ki[i] - 1)) for i in range(len(zi))]\n",
        "    xi = [zi[i] / (1 + vapor_fraction * (Ki[i] - 1)) for i in range(len(zi))]\n",
        "\n",
        "    print(\"Vapor Fraction:\", vapor_fraction)\n",
        "    print(\"Vapor Composition (y):\", yi)\n",
        "    print(\"Liquid Composition (x):\", xi)\n"
      ],
      "metadata": {
        "id": "jzQ1z96VHOOw",
        "outputId": "aa1df71d-eef0-415c-b9fe-f633bcacc828",
        "colab": {
          "base_uri": "https://localhost:8080/"
        }
      },
      "execution_count": 3,
      "outputs": [
        {
          "output_type": "stream",
          "name": "stdout",
          "text": [
            "Vapor Fraction: 0.5241995532390172\n",
            "Vapor Composition (y): [0.8566265060240963, 0.14337349397590365]\n",
            "Liquid Composition (x): [0.31726907630522083, 0.6827309236947794]\n"
          ]
        }
      ]
    },
    {
      "cell_type": "markdown",
      "source": [
        "#Examples in NeqSim\n",
        "To perform a flash calculation in NeqSim, the user needs to define the feed composition, temperature, and pressure of the system. NeqSim can handle both single-phase and multiphase systems, and can calculate the phase behavior of the mixture for various thermodynamic conditions.\n",
        "\n",
        "Once the user inputs the necessary information, NeqSim will perform a flash calculation to determine the composition and properties of the vapor and liquid phases in equilibrium. The flash calculation can be performed in various modes, including constant temperature and pressure, constant enthalpy and pressure, and constant entropy and pressure."
      ],
      "metadata": {
        "id": "xEni9agTSpY3"
      }
    },
    {
      "cell_type": "markdown",
      "source": [
        "# Create fluid"
      ],
      "metadata": {
        "id": "fztGo9zg6_Hl"
      }
    },
    {
      "cell_type": "code",
      "source": [
        "nitrogen = 1.0 #@param {type:\"number\"}\n",
        "CO2 = 2.5 #@param {type:\"number\"}\n",
        "methane = 80.0  #@param {type:\"number\"}\n",
        "ethane = 5.0  #@param {type:\"number\"}\n",
        "propane =  2.5 #@param {type:\"number\"}\n",
        "ibutane =  1.25 #@param {type:\"number\"}\n",
        "nbutane =  1.0 #@param {type:\"number\"}\n",
        "ipentane =  0.4 #@param {type:\"number\"}\n",
        "npentane =  0.3 #@param {type:\"number\"}\n",
        "nhexane =  0.08#@param {type:\"number\"}\n",
        "\n",
        "fluid1 = fluid('srk')\n",
        "fluid1.addComponent(\"nitrogen\", nitrogen)\n",
        "fluid1.addComponent(\"CO2\", CO2)\n",
        "fluid1.addComponent(\"methane\", methane)\n",
        "fluid1.addComponent(\"ethane\", ethane)\n",
        "fluid1.addComponent(\"propane\", propane)\n",
        "fluid1.addComponent(\"i-butane\", ibutane)\n",
        "fluid1.addComponent(\"n-butane\", nbutane)\n",
        "fluid1.addComponent(\"i-pentane\", ipentane)\n",
        "fluid1.addComponent(\"n-pentane\", nbutane)\n",
        "fluid1.addComponent(\"n-hexane\", nhexane)\n",
        "fluid1.setMixingRule('classic')"
      ],
      "metadata": {
        "id": "j1aUnxwq6yek"
      },
      "execution_count": 4,
      "outputs": []
    },
    {
      "cell_type": "markdown",
      "source": [
        "# TP flash"
      ],
      "metadata": {
        "id": "0R-V2t4CHxa9"
      }
    },
    {
      "cell_type": "code",
      "source": [
        "fluid1.setTemperature(20.0, 'C')\n",
        "fluid1.setPressure(50.0, 'bara')\n",
        "\n",
        "TPflash(fluid1)\n",
        "\n",
        "\n",
        "printFrame(fluid1)\n"
      ],
      "metadata": {
        "id": "rKeHziBT6acV",
        "outputId": "447842b9-af9c-44ac-af66-a6c58d8dad82",
        "colab": {
          "base_uri": "https://localhost:8080/"
        }
      },
      "execution_count": 5,
      "outputs": [
        {
          "output_type": "stream",
          "name": "stdout",
          "text": [
            "| 0                    | 1          | 2          | 3   | 4   | 5   | 6               |\n",
            "|:---------------------|:-----------|:-----------|:----|:----|:----|:----------------|\n",
            "|                      | total      | GAS        |     |     |     |                 |\n",
            "| nitrogen             | 1.05563E-2 | 1.05563E-2 |     |     |     | [mole fraction] |\n",
            "| CO2                  | 2.63908E-2 | 2.63908E-2 |     |     |     | [mole fraction] |\n",
            "| methane              | 8.44505E-1 | 8.44505E-1 |     |     |     | [mole fraction] |\n",
            "| ethane               | 5.27816E-2 | 5.27816E-2 |     |     |     | [mole fraction] |\n",
            "| propane              | 2.63908E-2 | 2.63908E-2 |     |     |     | [mole fraction] |\n",
            "| i-butane             | 1.31954E-2 | 1.31954E-2 |     |     |     | [mole fraction] |\n",
            "| n-butane             | 1.05563E-2 | 1.05563E-2 |     |     |     | [mole fraction] |\n",
            "| i-pentane            | 4.22253E-3 | 4.22253E-3 |     |     |     | [mole fraction] |\n",
            "| n-pentane            | 1.05563E-2 | 1.05563E-2 |     |     |     | [mole fraction] |\n",
            "| n-hexane             | 8.44505E-4 | 8.44505E-4 |     |     |     | [mole fraction] |\n",
            "|                      |            |            |     |     |     |                 |\n",
            "| Density              |            | 4.84621E1  |     |     |     | kg/m3           |\n",
            "| Phase Fraction       |            | 1E0        |     |     |     | [mole fraction] |\n",
            "| Molar Mass           | 2.02761E-2 | 2.02761E-2 |     |     |     | kg/mol          |\n",
            "| Z factor             |            | 8.58278E-1 |     |     |     | [-]             |\n",
            "| Heat Capacity (Cp)   |            | 2.47271E0  |     |     |     | kJ/kgK          |\n",
            "| Heat Capacity (Cv)   |            | 1.62591E0  |     |     |     | kJ/kgK          |\n",
            "| Speed of Sound       |            | 3.69432E2  |     |     |     | m/sec           |\n",
            "| Enthalpy             | -2.51867E4 | -2.51867E4 |     |     |     | J/kg            |\n",
            "| Entropy              | -1.32689E3 | -1.32689E3 |     |     |     | J/kgK           |\n",
            "| JT coefficient       |            | 5.55164E-1 |     |     |     | C/bar           |\n",
            "|                      |            |            |     |     |     |                 |\n",
            "| Viscosity            |            | 1.2398E-5  |     |     |     | kg/msec         |\n",
            "| Thermal Conductivity |            | 3.62688E-2 |     |     |     | W/mK            |\n",
            "| Surface Tension      |            |            |     |     |     | [N/m]           |\n",
            "|                      |            |            |     |     |     |                 |\n",
            "|                      |            |            |     |     |     |                 |\n",
            "|                      |            |            |     |     |     |                 |\n",
            "| Pressure             |            | 50.0       |     |     |     | bara            |\n",
            "| Temperature          |            | 20.0       |     |     |     | C               |\n",
            "|                      |            |            |     |     |     |                 |\n",
            "| Model                |            | SRK-EOS    |     |     |     | -               |\n",
            "| Mixing Rule          |            | classic    |     |     |     | -               |\n",
            "|                      |            |            |     |     |     |                 |\n",
            "| Stream               |            |            |     |     |     | -               |\n",
            "|                      |            |            |     |     |     |                 |\n",
            "|                      |            |            |     |     |     |                 |\n",
            "|                      |            |            |     |     |     |                 |\n",
            "|                      |            |            |     |     |     |                 |\n"
          ]
        }
      ]
    },
    {
      "cell_type": "markdown",
      "source": [
        "#PS flash"
      ],
      "metadata": {
        "id": "ecgyDbNo6qFs"
      }
    },
    {
      "cell_type": "code",
      "source": [
        "fluid1.setTemperature(20.0, 'C')\n",
        "fluid1.setPressure(50.0, 'bara')\n",
        "\n",
        "TPflash(fluid1)\n",
        "\n",
        "fluid1.initProperties()\n",
        "Sunit = 'J/kgK'\n",
        "entropy = fluid1.getEntropy(Sunit)\n",
        "\n",
        "fluid1.setPressure(10.0, 'bara')\n",
        "\n",
        "PSflash(fluid1, entropy,unit=Sunit)\n",
        "\n",
        "endTemperature = fluid1.getTemperature('C')\n",
        "\n",
        "\n",
        "\n",
        "print('temperature after pressure reduction ', endTemperature)\n",
        "printFrame(fluid1)"
      ],
      "metadata": {
        "id": "ijjgYSyD63bc",
        "outputId": "fdd47114-23cf-4ced-c1cc-96cb6d4819f7",
        "colab": {
          "base_uri": "https://localhost:8080/"
        }
      },
      "execution_count": 6,
      "outputs": [
        {
          "output_type": "stream",
          "name": "stdout",
          "text": [
            "temperature after pressure reduction  -51.941007904751274\n",
            "| 0                    | 1          | 2                   | 3                   | 4   | 5   | 6               |\n",
            "|:---------------------|:-----------|:--------------------|:--------------------|:----|:----|:----------------|\n",
            "|                      | total      | GAS                 | OIL                 |     |     |                 |\n",
            "| nitrogen             | 1.05563E-2 | 1.11705E-2          | 2.23091E-4          |     |     | [mole fraction] |\n",
            "| CO2                  | 2.63908E-2 | 2.70759E-2          | 1.48647E-2          |     |     | [mole fraction] |\n",
            "| methane              | 8.44505E-1 | 8.88607E-1          | 1.02558E-1          |     |     | [mole fraction] |\n",
            "| ethane               | 5.27816E-2 | 5.07635E-2          | 8.67338E-2          |     |     | [mole fraction] |\n",
            "| propane              | 2.63908E-2 | 1.62262E-2          | 1.97398E-1          |     |     | [mole fraction] |\n",
            "| i-butane             | 1.31954E-2 | 3.73177E-3          | 1.7241E-1           |     |     | [mole fraction] |\n",
            "| n-butane             | 1.05563E-2 | 1.86847E-3          | 1.56719E-1          |     |     | [mole fraction] |\n",
            "| i-pentane            | 4.22253E-3 | 2.13955E-4          | 7.16619E-2          |     |     | [mole fraction] |\n",
            "| n-pentane            | 1.05563E-2 | 3.38864E-4          | 1.82453E-1          |     |     | [mole fraction] |\n",
            "| n-hexane             | 8.44505E-4 | 4.32907E-6          | 1.49795E-2          |     |     | [mole fraction] |\n",
            "|                      |            |                     |                     |     |     |                 |\n",
            "| Density              |            | 1.06198E1           | 6.37211E2           |     |     | kg/m3           |\n",
            "| Phase Fraction       |            | 9.43895E-1          | 5.61048E-2          |     |     | [mole fraction] |\n",
            "| Molar Mass           | 2.02761E-2 | 1.83682E-2          | 5.23738E-2          |     |     | kg/mol          |\n",
            "| Z factor             |            | 9.40397E-1          | 4.46883E-2          |     |     | [-]             |\n",
            "| Heat Capacity (Cp)   |            | 2.02333E0           | 2.08722E0           |     |     | kJ/kgK          |\n",
            "| Heat Capacity (Cv)   |            | 1.44621E0           | 1.6165E0            |     |     | kJ/kgK          |\n",
            "| Speed of Sound       |            | 3.51824E2           | 1.02296E3           |     |     | m/sec           |\n",
            "| Enthalpy             | -1.72849E5 | -1.18445E5          | -4.9385E5           |     |     | J/kg            |\n",
            "| Entropy              | -1.32689E3 | -1.26886E3          | -1.66929E3          |     |     | J/kgK           |\n",
            "| JT coefficient       |            | 9.37009E-1          | -5.24488E-2         |     |     | C/bar           |\n",
            "|                      |            |                     |                     |     |     |                 |\n",
            "| Viscosity            |            | 8.87299E-6          | 3.03499E-4          |     |     | kg/msec         |\n",
            "| Thermal Conductivity |            | 2.48669E-2          | 1.32715E-1          |     |     | W/mK            |\n",
            "| Surface Tension      |            | 1.78316E-2          | 1.78316E-2          |     |     | [N/m]           |\n",
            "|                      |            |                     |                     |     |     |                 |\n",
            "|                      |            |                     |                     |     |     |                 |\n",
            "|                      |            |                     |                     |     |     |                 |\n",
            "| Pressure             |            | 10.0                | 10.0                |     |     | bara            |\n",
            "| Temperature          |            | -51.941007904751274 | -51.941007904751274 |     |     | C               |\n",
            "|                      |            |                     |                     |     |     |                 |\n",
            "| Model                |            | SRK-EOS             | SRK-EOS             |     |     | -               |\n",
            "| Mixing Rule          |            | classic             | classic             |     |     | -               |\n",
            "|                      |            |                     |                     |     |     |                 |\n",
            "| Stream               |            |                     |                     |     |     | -               |\n",
            "|                      |            |                     |                     |     |     |                 |\n",
            "|                      |            |                     |                     |     |     |                 |\n",
            "|                      |            |                     |                     |     |     |                 |\n",
            "|                      |            |                     |                     |     |     |                 |\n"
          ]
        }
      ]
    },
    {
      "cell_type": "markdown",
      "source": [
        "#PH flash"
      ],
      "metadata": {
        "id": "GUjvR_pG7mfF"
      }
    },
    {
      "cell_type": "code",
      "source": [
        "fluid1.setTemperature(20.0, 'C')\n",
        "fluid1.setPressure(50.0, 'bara')\n",
        "\n",
        "TPflash(fluid1)\n",
        "\n",
        "fluid1.initProperties()\n",
        "Sunit = 'J/kg'\n",
        "enthalpy = fluid1.getEnthalpy(Sunit)\n",
        "\n",
        "fluid1.setPressure(10.0, 'bara')\n",
        "\n",
        "PHflash(fluid1, enthalpy,unit=Sunit)\n",
        "printFrame(fluid1)"
      ],
      "metadata": {
        "id": "MxjXOBli7oJs",
        "outputId": "17cf02f3-11e3-4cb7-928c-870f47cd5c6f",
        "colab": {
          "base_uri": "https://localhost:8080/"
        }
      },
      "execution_count": 7,
      "outputs": [
        {
          "output_type": "stream",
          "name": "stdout",
          "text": [
            "| 0                    | 1          | 2                  | 3                  | 4   | 5   | 6               |\n",
            "|:---------------------|:-----------|:-------------------|:-------------------|:----|:----|:----------------|\n",
            "|                      | total      | GAS                | OIL                |     |     |                 |\n",
            "| nitrogen             | 1.05563E-2 | 1.05593E-2         | 1.8281E-4          |     |     | [mole fraction] |\n",
            "| CO2                  | 2.63908E-2 | 2.63968E-2         | 5.30975E-3         |     |     | [mole fraction] |\n",
            "| methane              | 8.44505E-1 | 8.44729E-1         | 5.58157E-2         |     |     | [mole fraction] |\n",
            "| ethane               | 5.27816E-2 | 5.27889E-2         | 2.68367E-2         |     |     | [mole fraction] |\n",
            "| propane              | 2.63908E-2 | 2.63815E-2         | 5.9176E-2          |     |     | [mole fraction] |\n",
            "| i-butane             | 1.31954E-2 | 1.31756E-2         | 8.32203E-2         |     |     | [mole fraction] |\n",
            "| n-butane             | 1.05563E-2 | 1.05302E-2         | 1.02831E-1         |     |     | [mole fraction] |\n",
            "| i-pentane            | 4.22253E-3 | 4.19004E-3         | 1.18989E-1         |     |     | [mole fraction] |\n",
            "| n-pentane            | 1.05563E-2 | 1.04409E-2         | 4.18298E-1         |     |     | [mole fraction] |\n",
            "| n-hexane             | 8.44505E-4 | 8.08126E-4         | 1.29341E-1         |     |     | [mole fraction] |\n",
            "|                      |            |                    |                    |     |     |                 |\n",
            "| Density              |            | 9.48187E0          | 6.36875E2          |     |     | kg/m3           |\n",
            "| Phase Fraction       |            | 9.99717E-1         | 2.83034E-4         |     |     | [mole fraction] |\n",
            "| Molar Mass           | 2.02761E-2 | 2.02633E-2         | 6.52762E-2         |     |     | kg/mol          |\n",
            "| Z factor             |            | 9.60503E-1         | 4.60662E-2         |     |     | [-]             |\n",
            "| Heat Capacity (Cp)   |            | 2.00543E0          | 2.20162E0          |     |     | kJ/kgK          |\n",
            "| Heat Capacity (Cv)   |            | 1.51482E0          | 1.77343E0          |     |     | kJ/kgK          |\n",
            "| Speed of Sound       |            | 3.66353E2          | 8.86063E2          |     |     | m/sec           |\n",
            "| Enthalpy             | -2.51867E4 | -2.48492E4         | -3.95205E5         |     |     | J/kg            |\n",
            "| Entropy              | -7.21335E2 | -7.20945E2         | -1.14963E3         |     |     | J/kgK           |\n",
            "| JT coefficient       |            | 7.26061E-1         | -4.51711E-2        |     |     | C/bar           |\n",
            "|                      |            |                    |                    |     |     |                 |\n",
            "| Viscosity            |            | 1.03097E-5         | 2.74262E-4         |     |     | kg/msec         |\n",
            "| Thermal Conductivity |            | 2.85778E-2         | 1.12733E-1         |     |     | W/mK            |\n",
            "| Surface Tension      |            | 1.66452E-2         | 1.66452E-2         |     |     | [N/m]           |\n",
            "|                      |            |                    |                    |     |     |                 |\n",
            "|                      |            |                    |                    |     |     |                 |\n",
            "|                      |            |                    |                    |     |     |                 |\n",
            "| Pressure             |            | 10.0               | 10.0               |     |     | bara            |\n",
            "| Temperature          |            | -5.551433953472724 | -5.551433953472724 |     |     | C               |\n",
            "|                      |            |                    |                    |     |     |                 |\n",
            "| Model                |            | SRK-EOS            | SRK-EOS            |     |     | -               |\n",
            "| Mixing Rule          |            | classic            | classic            |     |     | -               |\n",
            "|                      |            |                    |                    |     |     |                 |\n",
            "| Stream               |            |                    |                    |     |     | -               |\n",
            "|                      |            |                    |                    |     |     |                 |\n",
            "|                      |            |                    |                    |     |     |                 |\n",
            "|                      |            |                    |                    |     |     |                 |\n",
            "|                      |            |                    |                    |     |     |                 |\n"
          ]
        }
      ]
    },
    {
      "cell_type": "markdown",
      "source": [
        "#Pure component flashes\n",
        "In the following example we illustrate the PH and PS flash for single components."
      ],
      "metadata": {
        "id": "wMZEt1469Nvx"
      }
    },
    {
      "cell_type": "code",
      "source": [
        "# Import the neqsim library\n",
        "from neqsim.thermo.thermoTools import *\n",
        "\n",
        "# Create a fluid using the SRK equation of state\n",
        "fluid2 = fluid('srk')\n",
        "# Add CO2 as the component with a mole fraction of 1.0\n",
        "fluid2.addComponent(\"CO2\", 1.0)\n",
        "# Set the temperature to -20 degrees Celsius\n",
        "fluid2.setTemperature(-20.0, 'C')\n",
        "\n",
        "# Calculate the bubble point pressure\n",
        "bubp(fluid2)\n",
        "\n",
        "# Print the calculated bubble point pressure in bara\n",
        "print('pressure ', fluid2.getPressure('bara'), ' bara')\n",
        "\n",
        "# Print the fluid composition and properties in a frame format\n",
        "printFrame(fluid2)\n",
        "\n",
        "# Initialize the fluid properties\n",
        "fluid2.initProperties()\n",
        "# Get the enthalpy of the fluid in J/kg\n",
        "enthalpy = fluid2.getEnthalpy('J/kg')\n",
        "\n",
        "# Set the pressure to 10 bara\n",
        "fluid2.setPressure(10.0, 'bara')\n",
        "# Perform a PH flash calculation at constant enthalpy and pressure\n",
        "PHflash(fluid2, enthalpy, 'J/kg')\n",
        "\n",
        "# Print the temperature after the pressure reduction in degrees Celsius\n",
        "print('temperature after pressure reduction ', fluid2.getTemperature('C'), ' C')\n",
        "# Print the fluid composition and properties in a frame format after PH flash\n",
        "printFrame(fluid2)"
      ],
      "metadata": {
        "id": "XpCf_Xq29QVQ",
        "outputId": "385b0a0a-b9c7-4cee-b538-1afaf6f0322d",
        "colab": {
          "base_uri": "https://localhost:8080/"
        }
      },
      "execution_count": 25,
      "outputs": [
        {
          "output_type": "stream",
          "name": "stdout",
          "text": [
            "pressure  19.71345579310901  bara\n",
            "| 0                    | 1          | 2                 | 3                 | 4   | 5   | 6               |\n",
            "|:---------------------|:-----------|:------------------|:------------------|:----|:----|:----------------|\n",
            "|                      | total      | GAS               | OIL               |     |     |                 |\n",
            "| CO2                  | 1E0        | 1E0               | 1E0               |     |     | [mole fraction] |\n",
            "|                      |            |                   |                   |     |     |                 |\n",
            "| Density              |            | 5.11567E1         | 9.971E2           |     |     | kg/m3           |\n",
            "| Phase Fraction       |            | 1E-10             | 1E0               |     |     | [mole fraction] |\n",
            "| Molar Mass           | 4.401E-2   | 4.401E-2          | 4.401E-2          |     |     | kg/mol          |\n",
            "| Z factor             |            | 8.05749E-1        | 4.13393E-2        |     |     | [-]             |\n",
            "| Heat Capacity (Cp)   |            | 1.06353E0         | 2.32018E0         |     |     | kJ/kgK          |\n",
            "| Heat Capacity (Cv)   |            | 6.32594E-1        | 9.82788E-1        |     |     | kJ/kgK          |\n",
            "| Speed of Sound       |            | 2.24447E2         | 5.70926E2         |     |     | m/sec           |\n",
            "| Enthalpy             | -3.32098E5 | -4.40741E4        | -3.32098E5        |     |     | J/kg            |\n",
            "| Entropy              | -1.83722E3 | -6.99458E2        | -1.83722E3        |     |     | J/kgK           |\n",
            "| JT coefficient       |            | 1.67548E0         | 2.63062E-2        |     |     | C/bar           |\n",
            "|                      |            |                   |                   |     |     |                 |\n",
            "| Viscosity            |            | 1.39859E-5        | 1.39859E-5        |     |     | kg/msec         |\n",
            "| Thermal Conductivity |            | 1.73919E-2        | 1.73919E-2        |     |     | W/mK            |\n",
            "| Surface Tension      |            | 7.90013E-3        | 7.90013E-3        |     |     | [N/m]           |\n",
            "|                      |            |                   |                   |     |     |                 |\n",
            "|                      |            |                   |                   |     |     |                 |\n",
            "|                      |            |                   |                   |     |     |                 |\n",
            "| Pressure             |            | 19.71345579310901 | 19.71345579310901 |     |     | bara            |\n",
            "| Temperature          |            | -20.0             | -20.0             |     |     | C               |\n",
            "|                      |            |                   |                   |     |     |                 |\n",
            "| Model                |            | SRK-EOS           | SRK-EOS           |     |     | -               |\n",
            "| Mixing Rule          |            | no (kij=0)        | no (kij=0)        |     |     | -               |\n",
            "|                      |            |                   |                   |     |     |                 |\n",
            "| Stream               |            |                   |                   |     |     | -               |\n",
            "|                      |            |                   |                   |     |     |                 |\n",
            "|                      |            |                   |                   |     |     |                 |\n",
            "|                      |            |                   |                   |     |     |                 |\n",
            "|                      |            |                   |                   |     |     |                 |\n",
            "temperature after pressure reduction  -39.9925849573967  C\n",
            "| 0                    | 1          | 2                 | 3                 | 4   | 5   | 6               |\n",
            "|:---------------------|:-----------|:------------------|:------------------|:----|:----|:----------------|\n",
            "|                      | total      | GAS               | OIL               |     |     |                 |\n",
            "| CO2                  | 1E0        | 1E0               | 1E0               |     |     | [mole fraction] |\n",
            "|                      |            |                   |                   |     |     |                 |\n",
            "| Density              |            | 2.57239E1         | 1.10759E3         |     |     | kg/m3           |\n",
            "| Phase Fraction       |            | 1.30422E-1        | 8.69578E-1        |     |     | [mole fraction] |\n",
            "| Molar Mass           | 4.401E-2   | 4.401E-2          | 4.401E-2          |     |     | kg/mol          |\n",
            "| Z factor             |            | 8.82535E-1        | 2.0497E-2         |     |     | [-]             |\n",
            "| Heat Capacity (Cp)   |            | 8.96572E-1        | 2.02155E0         |     |     | kJ/kgK          |\n",
            "| Heat Capacity (Cv)   |            | 5.97206E-1        | 1.00668E0         |     |     | kJ/kgK          |\n",
            "| Speed of Sound       |            | 2.25812E2         | 6.8304E2          |     |     | m/sec           |\n",
            "| Enthalpy             | -3.32098E5 | -4.67241E4        | -3.749E5          |     |     | J/kg            |\n",
            "| Entropy              | -1.82553E3 | -6.01573E2        | -2.0091E3         |     |     | J/kgK           |\n",
            "| JT coefficient       |            | 1.88344E0         | 4.45384E-4        |     |     | C/bar           |\n",
            "|                      |            |                   |                   |     |     |                 |\n",
            "| Viscosity            |            | 1.25213E-5        | 1.25213E-5        |     |     | kg/msec         |\n",
            "| Thermal Conductivity |            | 1.47617E-2        | 1.47617E-2        |     |     | W/mK            |\n",
            "| Surface Tension      |            | 1.35165E-2        | 1.35165E-2        |     |     | [N/m]           |\n",
            "|                      |            |                   |                   |     |     |                 |\n",
            "|                      |            |                   |                   |     |     |                 |\n",
            "|                      |            |                   |                   |     |     |                 |\n",
            "| Pressure             |            | 10.0              | 10.0              |     |     | bara            |\n",
            "| Temperature          |            | -39.9925849573967 | -39.9925849573967 |     |     | C               |\n",
            "|                      |            |                   |                   |     |     |                 |\n",
            "| Model                |            | SRK-EOS           | SRK-EOS           |     |     | -               |\n",
            "| Mixing Rule          |            | no (kij=0)        | no (kij=0)        |     |     | -               |\n",
            "|                      |            |                   |                   |     |     |                 |\n",
            "| Stream               |            |                   |                   |     |     | -               |\n",
            "|                      |            |                   |                   |     |     |                 |\n",
            "|                      |            |                   |                   |     |     |                 |\n",
            "|                      |            |                   |                   |     |     |                 |\n",
            "|                      |            |                   |                   |     |     |                 |\n"
          ]
        }
      ]
    },
    {
      "cell_type": "code",
      "source": [
        "# Import the neqsim library\n",
        "from neqsim.thermo.thermoTools import *\n",
        "\n",
        "# Create a fluid object using the SRK equation of state\n",
        "fluid2 = fluid('srk')\n",
        "# Add CO2 as the component with a mole fraction of 1.0 (pure CO2)\n",
        "fluid2.addComponent(\"CO2\", 1.0)\n",
        "# Set the temperature to -20 degrees Celsius\n",
        "fluid2.setTemperature(-20.0, 'C')\n",
        "\n",
        "# Calculate the bubble point pressure at the given temperature\n",
        "bubp(fluid2)\n",
        "\n",
        "# Print the calculated bubble point pressure in bara\n",
        "print('pressure ', fluid2.getPressure('bara'), ' bara')\n",
        "\n",
        "# Print the fluid's composition and properties\n",
        "printFrame(fluid2)\n",
        "\n",
        "# Initialize the fluid's thermodynamic properties\n",
        "fluid2.initProperties()\n",
        "# Get the initial enthalpy of the fluid in J/kg\n",
        "enthalpy1 = fluid2.getEnthalpy('J/kg')\n",
        "# Get the entropy of the fluid in J/kgK\n",
        "entropy = fluid2.getEntropy('J/kgK')\n",
        "\n",
        "# Set the pressure to 10 bara\n",
        "fluid2.setPressure(10.0, 'bara')\n",
        "# Perform a PS flash calculation at constant entropy and pressure\n",
        "PSflash(fluid2, entropy, 'J/kgK')\n",
        "\n",
        "# Re-initialize the fluid's properties after the flash calculation\n",
        "fluid2.initProperties()\n",
        "# Get the enthalpy of the fluid after the flash calculation in J/kg\n",
        "enthalpy2 = fluid2.getEnthalpy('J/kg')\n",
        "\n",
        "# Print the temperature after the pressure reduction in degrees Celsius\n",
        "print('temperature after pressure reduction ', fluid2.getTemperature('C'), ' C')\n",
        "# Print the fluid's composition and properties after the flash calculation\n",
        "printFrame(fluid2)\n",
        "# Print the change in enthalpy (delta enthalpy) in J/kg\n",
        "print('delta enthalpy ', enthalpy1 - enthalpy2, ' J/kg')"
      ],
      "metadata": {
        "id": "tuiDHkcX-4Zj",
        "outputId": "0c10a565-db8b-4de8-ffcf-8c81cbf11fe9",
        "colab": {
          "base_uri": "https://localhost:8080/"
        }
      },
      "execution_count": 21,
      "outputs": [
        {
          "output_type": "stream",
          "name": "stdout",
          "text": [
            "pressure  19.71345579310901  bara\n",
            "| 0                    | 1          | 2                 | 3                 | 4   | 5   | 6               |\n",
            "|:---------------------|:-----------|:------------------|:------------------|:----|:----|:----------------|\n",
            "|                      | total      | GAS               | OIL               |     |     |                 |\n",
            "| CO2                  | 1E0        | 1E0               | 1E0               |     |     | [mole fraction] |\n",
            "|                      |            |                   |                   |     |     |                 |\n",
            "| Density              |            | 5.11567E1         | 9.971E2           |     |     | kg/m3           |\n",
            "| Phase Fraction       |            | 1E-10             | 1E0               |     |     | [mole fraction] |\n",
            "| Molar Mass           | 4.401E-2   | 4.401E-2          | 4.401E-2          |     |     | kg/mol          |\n",
            "| Z factor             |            | 8.05749E-1        | 4.13393E-2        |     |     | [-]             |\n",
            "| Heat Capacity (Cp)   |            | 1.06353E0         | 2.32018E0         |     |     | kJ/kgK          |\n",
            "| Heat Capacity (Cv)   |            | 6.32594E-1        | 9.82788E-1        |     |     | kJ/kgK          |\n",
            "| Speed of Sound       |            | 2.24447E2         | 5.70926E2         |     |     | m/sec           |\n",
            "| Enthalpy             | -3.32098E5 | -4.40741E4        | -3.32098E5        |     |     | J/kg            |\n",
            "| Entropy              | -1.83722E3 | -6.99458E2        | -1.83722E3        |     |     | J/kgK           |\n",
            "| JT coefficient       |            | 1.67548E0         | 2.63062E-2        |     |     | C/bar           |\n",
            "|                      |            |                   |                   |     |     |                 |\n",
            "| Viscosity            |            | 1.39859E-5        | 1.39859E-5        |     |     | kg/msec         |\n",
            "| Thermal Conductivity |            | 1.73919E-2        | 1.73919E-2        |     |     | W/mK            |\n",
            "| Surface Tension      |            | 7.90013E-3        | 7.90013E-3        |     |     | [N/m]           |\n",
            "|                      |            |                   |                   |     |     |                 |\n",
            "|                      |            |                   |                   |     |     |                 |\n",
            "|                      |            |                   |                   |     |     |                 |\n",
            "| Pressure             |            | 19.71345579310901 | 19.71345579310901 |     |     | bara            |\n",
            "| Temperature          |            | -20.0             | -20.0             |     |     | C               |\n",
            "|                      |            |                   |                   |     |     |                 |\n",
            "| Model                |            | SRK-EOS           | SRK-EOS           |     |     | -               |\n",
            "| Mixing Rule          |            | no (kij=0)        | no (kij=0)        |     |     | -               |\n",
            "|                      |            |                   |                   |     |     |                 |\n",
            "| Stream               |            |                   |                   |     |     | -               |\n",
            "|                      |            |                   |                   |     |     |                 |\n",
            "|                      |            |                   |                   |     |     |                 |\n",
            "|                      |            |                   |                   |     |     |                 |\n",
            "|                      |            |                   |                   |     |     |                 |\n",
            "temperature after pressure reduction  -39.9925849573967  C\n",
            "| 0                    | 1          | 2                 | 3                 | 4   | 5   | 6               |\n",
            "|:---------------------|:-----------|:------------------|:------------------|:----|:----|:----------------|\n",
            "|                      | total      | GAS               | OIL               |     |     |                 |\n",
            "| CO2                  | 1E0        | 1E0               | 1E0               |     |     | [mole fraction] |\n",
            "|                      |            |                   |                   |     |     |                 |\n",
            "| Density              |            | 2.57239E1         | 1.10759E3         |     |     | kg/m3           |\n",
            "| Phase Fraction       |            | 1.22116E-1        | 8.77884E-1        |     |     | [mole fraction] |\n",
            "| Molar Mass           | 4.401E-2   | 4.401E-2          | 4.401E-2          |     |     | kg/mol          |\n",
            "| Z factor             |            | 8.82535E-1        | 2.0497E-2         |     |     | [-]             |\n",
            "| Heat Capacity (Cp)   |            | 8.96572E-1        | 2.02155E0         |     |     | kJ/kgK          |\n",
            "| Heat Capacity (Cv)   |            | 5.97206E-1        | 1.00668E0         |     |     | kJ/kgK          |\n",
            "| Speed of Sound       |            | 2.25812E2         | 6.8304E2          |     |     | m/sec           |\n",
            "| Enthalpy             | -3.34824E5 | -4.67241E4        | -3.749E5          |     |     | J/kg            |\n",
            "| Entropy              | -1.83722E3 | -6.01573E2        | -2.0091E3         |     |     | J/kgK           |\n",
            "| JT coefficient       |            | 1.88344E0         | 4.45384E-4        |     |     | C/bar           |\n",
            "|                      |            |                   |                   |     |     |                 |\n",
            "| Viscosity            |            | 1.25213E-5        | 1.25213E-5        |     |     | kg/msec         |\n",
            "| Thermal Conductivity |            | 1.47617E-2        | 1.47617E-2        |     |     | W/mK            |\n",
            "| Surface Tension      |            | 1.35165E-2        | 1.35165E-2        |     |     | [N/m]           |\n",
            "|                      |            |                   |                   |     |     |                 |\n",
            "|                      |            |                   |                   |     |     |                 |\n",
            "|                      |            |                   |                   |     |     |                 |\n",
            "| Pressure             |            | 10.0              | 10.0              |     |     | bara            |\n",
            "| Temperature          |            | -39.9925849573967 | -39.9925849573967 |     |     | C               |\n",
            "|                      |            |                   |                   |     |     |                 |\n",
            "| Model                |            | SRK-EOS           | SRK-EOS           |     |     | -               |\n",
            "| Mixing Rule          |            | no (kij=0)        | no (kij=0)        |     |     | -               |\n",
            "|                      |            |                   |                   |     |     |                 |\n",
            "| Stream               |            |                   |                   |     |     | -               |\n",
            "|                      |            |                   |                   |     |     |                 |\n",
            "|                      |            |                   |                   |     |     |                 |\n",
            "|                      |            |                   |                   |     |     |                 |\n",
            "|                      |            |                   |                   |     |     |                 |\n",
            "delta enthalpy  2725.8435532957665  J/kg\n"
          ]
        }
      ]
    }
  ]
}