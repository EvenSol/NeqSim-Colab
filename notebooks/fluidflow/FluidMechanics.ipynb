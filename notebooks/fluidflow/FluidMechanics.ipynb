{
  "nbformat": 4,
  "nbformat_minor": 0,
  "metadata": {
    "colab": {
      "name": "FluidMechanics.ipynb",
      "provenance": [],
      "collapsed_sections": [],
      "include_colab_link": true
    },
    "kernelspec": {
      "name": "python3",
      "display_name": "Python 3"
    }
  },
  "cells": [
    {
      "cell_type": "markdown",
      "metadata": {
        "id": "view-in-github",
        "colab_type": "text"
      },
      "source": [
        "<a href=\"https://colab.research.google.com/github/EvenSol/NeqSim-Colab/blob/master/notebooks/fluidflow/FluidMechanics.ipynb\" target=\"_parent\"><img src=\"https://colab.research.google.com/assets/colab-badge.svg\" alt=\"Open In Colab\"/></a>"
      ]
    },
    {
      "cell_type": "code",
      "metadata": {
        "id": "c7oLiYgcEV2Y",
        "colab_type": "code",
        "cellView": "form",
        "colab": {}
      },
      "source": [
        "#@title Fluid Mechanics with NeqSim\n",
        "#@markdown Fluid dynamics is a subdiscipline of fluid mechanics that deals with fluid flow—the science of liquids and gases in motion. Fluid dynamics offers a systematic structure—which underlies these practical disciplines—that embraces empirical and semi-empirical laws derived from flow measurement and used to solve practical problems. The solution to a fluid dynamics problem typically involves calculating various properties of the fluid, such as velocity, pressure, density, and temperature, as functions of space and time. \n",
        "%%capture\n",
        "!pip install neqsim==2.5.35\n",
        "import neqsim\n",
        "from neqsim.thermo.thermoTools import *\n",
        "import matplotlib\n",
        "import numpy as np\n",
        "import matplotlib.pyplot as plt\n",
        "import math\n",
        "%matplotlib inline"
      ],
      "execution_count": 0,
      "outputs": []
    },
    {
      "cell_type": "markdown",
      "metadata": {
        "id": "qRnvZfSX1UJx",
        "colab_type": "text"
      },
      "source": [
        "##Litterature\n",
        "Navier Stokes/CFD in Python: https://github.com/barbagroup/CFDPython\n"
      ]
    },
    {
      "cell_type": "code",
      "metadata": {
        "id": "EeJ3zgxwP9mv",
        "colab_type": "code",
        "cellView": "both",
        "outputId": "42974a6e-2359-4c8e-924b-2d70c3bb7b17",
        "colab": {
          "base_uri": "https://localhost:8080/",
          "height": 635
        }
      },
      "source": [
        "#@title  Calculation of pressure drop in a pipeline\n",
        "#@markdown Introduction to fluid mechanics\n",
        "from neqsim.process import pipe, pipeline, clearProcess, stream, runProcess\n",
        "\n",
        "pressure = 10.0 # bara\n",
        "temperature = 88.0 #C\n",
        "flowRate = 10.0\n",
        "fluid1 = createfluid('dry gas')\n",
        "fluid1.setPressure(pressure, \"bara\")\n",
        "fluid1.setTemperature(temperature, \"C\")\n",
        "fluid1.setTotalFlowRate(flowRate, \"MSm3/day\")\n",
        "TPflash(fluid1)\n",
        "print('results of TPflash for fluid 1')\n",
        "printFrame(fluid1)\n",
        "\n",
        "diameter = [1.0, 1.0, 1.0] #meter\n",
        "roughnes = [15.0e-6, 15.0e-6, 15.0e-6] #meter\n",
        "position = [0.0, 1000.0, 5000.0] #meter\n",
        "height = [0.0, 0.0, 0.0] #meter\n",
        "outtemperatures =[278.15, 278.15, 278.15] #Kelvin\n",
        "outHeatU = [15.0, 15.0, 15.0] # W/m2K\n",
        "wallHeatU = [15.0, 15.0, 15.0] # W/m2K\n",
        "\n",
        "clearProcess()\n",
        "stream1 = stream(fluid1)\n",
        "deltaElevation = 0.0\n",
        "pipeLength = 500000.0\n",
        "pipeLine = pipe(stream1, 1000.0, 10.0, 1.0, 1.0e-6)\n",
        "#pipe1 = pipeline(stream1, position, diameter, height, outtemperatures, roughnes,outHeatU,wallHeatU)\n",
        "#pipeSimple = pipe(stream1, pipeLength, deltaElevation, diameter, roughness)\n",
        "pipeLine.run()\n",
        "#runProcess()\n"
      ],
      "execution_count": 0,
      "outputs": [
        {
          "output_type": "stream",
          "text": [
            "results of TPflash for fluid 1\n",
            "                           total          gas                       \n",
            "           nitrogen   9.68992E-3   9.68992E-3        [mole fraction]\n",
            "                CO2   1.93798E-2   1.93798E-2        [mole fraction]\n",
            "            methane   7.94574E-1   7.94574E-1        [mole fraction]\n",
            "             ethane   1.06589E-1   1.06589E-1        [mole fraction]\n",
            "            propane   4.84496E-2   4.84496E-2        [mole fraction]\n",
            "           i-butane   9.68992E-3   9.68992E-3        [mole fraction]\n",
            "           n-butane   1.16279E-2   1.16279E-2        [mole fraction]\n",
            "                                                                    \n",
            "            Density                  6.9053E0               [kg/m^3]\n",
            "      PhaseFraction                       1E0        [mole fraction]\n",
            "          MolarMass    2.04524E1    2.04524E1              [kg/kmol]\n",
            "           Z factor                9.86806E-1                    [-]\n",
            " Heat Capacity (Cp)                 2.23361E0              [kJ/kg*K]\n",
            " Heat Capacity (Cv)                 1.78934E0              [kJ/kg*K]\n",
            "     Speed of Sound                 4.22506E2                [m/sec]\n",
            "           Enthalpy     1.7175E2     1.7175E2                [kJ/kg]\n",
            "            Entropy  -5.89551E-2  -5.89551E-2              [kJ/kg*K]\n",
            "     JT coefficient                3.84244E-1                [K/bar]\n",
            "                                                                    \n",
            "          Viscosity                1.31689E-5             [kg/m*sec]\n",
            "       Conductivity                 4.0113E-2                [W/m*K]\n",
            "     SurfaceTension                                            [N/m]\n",
            "                                                                    \n",
            "                                                                    \n",
            "                                                                    \n",
            "           Pressure                      10.0                  [bar]\n",
            "        Temperature                    361.15                    [K]\n",
            "                                                                    \n",
            "              Model                   SRK-EOS                      -\n",
            "        Mixing Rule                   classic                      -\n",
            "                                                                    \n",
            "             Stream                                                -\n",
            "                                                                    \n",
            "                                                                    \n",
            "                                                                    \n",
            "                                                                    \n"
          ],
          "name": "stdout"
        }
      ]
    }
  ]
}