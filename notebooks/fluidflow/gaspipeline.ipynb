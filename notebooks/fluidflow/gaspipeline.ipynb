{
  "nbformat": 4,
  "nbformat_minor": 0,
  "metadata": {
    "colab": {
      "name": "gas-oil-separation.ipynb",
      "provenance": [],
      "include_colab_link": true
    },
    "kernelspec": {
      "name": "python3",
      "display_name": "Python 3"
    }
  },
  "cells": [
    {
      "cell_type": "markdown",
      "metadata": {
        "id": "view-in-github",
        "colab_type": "text"
      },
      "source": [
        "<a href=\"https://colab.research.google.com/github/EvenSol/NeqSim-Colab/blob/master/notebooks/fluidflow/gaspipeline.ipynb\" target=\"_parent\"><img src=\"https://colab.research.google.com/assets/colab-badge.svg\" alt=\"Open In Colab\"/></a>"
      ]
    },
    {
      "cell_type": "markdown",
      "metadata": {
        "id": "zWS_wtU6cynA"
      },
      "source": [
        "# examples of pressure drop calculations for gas export pipelines"
      ]
    },
    {
      "cell_type": "code",
      "metadata": {
        "id": "_7LDVNIkcnp4"
      },
      "source": [
        "%%capture\n",
        "!pip install neqsim\n",
        "import neqsim\n",
        "from neqsim.thermo.thermoTools import *\n",
        "import matplotlib\n",
        "import numpy as np\n",
        "import matplotlib.pyplot as plt\n",
        "import math\n",
        "plt.style.use('classic')\n",
        "%matplotlib inline"
      ],
      "execution_count": null,
      "outputs": []
    },
    {
      "cell_type": "code",
      "metadata": {
        "id": "TNt4qbstcikw",
        "colab": {
          "base_uri": "https://localhost:8080/"
        },
        "outputId": "4f4b4b50-d105-4dc5-b0cf-613753d60beb"
      },
      "source": [
        "from neqsim import methods\n",
        "from neqsim.thermo import fluid, TPflash\n",
        "from neqsim.process import pipe, pipeline, clearProcess, stream, runProcess\n",
        "\n",
        "fluid1 = fluid(\"srk\")  # create a fluid using the SRK-Eo\n",
        "fluid1.addComponent(\"methane\", 85.0)\n",
        "fluid1.addComponent(\"ethane\", 5.0)\n",
        "fluid1.setMixingRule(2)\n",
        "fluid1.setTemperature(20.15, \"C\")\n",
        "fluid1.setPressure(150.0, \"bara\")\n",
        "fluid1.setTotalFlowRate(20.0, \"MSm3/day\")\n",
        "\n",
        "TPflash(fluid1)\n",
        "fluid1.initPhysicalProperties()\n",
        "\n",
        "diameter = [0.5, 0.5, 0.5] #meter\n",
        "roughnes = [50.0e-6, 50.0e-6, 50.0e-6] #meter\n",
        "position = [0.0, 500.0, 1000.0] #meter\n",
        "height = [0.0, -400.0, -800.0] #meter\n",
        "outtemperatures =[278.15, 278.15, 278.15] #Kelvin\n",
        "outHeatU = [15.0, 15.0, 15.0] #W/m2K\n",
        "wallHeatU = [15.0, 15.0, 15.0]\n",
        "clearProcess()\n",
        "stream1 = stream(fluid1)\n",
        "pipe1 = pipeline(stream1, position, diameter, height, outtemperatures, roughnes,outHeatU,wallHeatU)\n",
        "runProcess()\n",
        "print('outlet pressure ', pipe1.getOutStream().getPressure('bara'))\n",
        "print('outlet temperature ', pipe1.getOutStream().getTemperature('C'))"
      ],
      "execution_count": null,
      "outputs": [
        {
          "output_type": "stream",
          "text": [
            "outlet pressure  159.67223772013034\n",
            "outlet temperature  23.03322660961834\n"
          ],
          "name": "stdout"
        }
      ]
    },
    {
      "cell_type": "code",
      "metadata": {
        "id": "jpWE6llSf50x",
        "colab": {
          "base_uri": "https://localhost:8080/",
          "height": 201
        },
        "outputId": "fd6f9485-5640-4c60-d146-69c3789b9c93"
      },
      "source": [
        "import matplotlib\n",
        "\n",
        "numberOfNodes = pipe1.getPipe().getTotalNumberOfNodes()\n",
        "\n",
        "print(numberOfNodes)\n",
        "pres = []\n",
        "temp = []\n",
        "length = []\n",
        "height = []\n",
        "\n",
        "for node in range (0,numberOfNodes):\n",
        "  pres.append(pipe1.getPipe().getNode(node).getBulkSystem().getPressure('bara'))\n",
        "  temp.append(pipe1.getPipe().getNode(node).getBulkSystem().getTemperature('C'))\n",
        "  height.append(pipe1.getPipe().getNode(node).getVerticalPositionOfNode())\n",
        "  length.append(pipe1.getPipe().getNode(node).getDistanceToCenterOfNode())\n",
        "\n",
        "plt.figure()\n",
        "plt.subplot(2, 1, 1)\n",
        "plt.plot(length, pres, '-')\n",
        "plt.ylabel('Pressure [bara]')\n",
        "plt.xlabel('Length [meter]')"
      ],
      "execution_count": null,
      "outputs": [
        {
          "output_type": "stream",
          "text": [
            "202\n"
          ],
          "name": "stdout"
        },
        {
          "output_type": "execute_result",
          "data": {
            "text/plain": [
              "Text(0.5, 0, 'Length [meter]')"
            ]
          },
          "metadata": {
            "tags": []
          },
          "execution_count": 15
        },
        {
          "output_type": "display_data",
          "data": {
            "image/png": "[encoded data removed]",
            "text/plain": [
              "<Figure size 432x288 with 1 Axes>"
            ]
          },
          "metadata": {
            "tags": [],
            "needs_background": "light"
          }
        }
      ]
    }
  ]
}