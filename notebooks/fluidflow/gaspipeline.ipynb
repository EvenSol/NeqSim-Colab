{
  "nbformat": 4,
  "nbformat_minor": 0,
  "metadata": {
    "colab": {
      "name": "gas-oil-separation.ipynb",
      "provenance": [],
      "include_colab_link": true
    },
    "kernelspec": {
      "name": "python3",
      "display_name": "Python 3"
    }
  },
  "cells": [
    {
      "cell_type": "markdown",
      "metadata": {
        "id": "view-in-github",
        "colab_type": "text"
      },
      "source": [
        "<a href=\"https://colab.research.google.com/github/EvenSol/NeqSim-Colab/blob/master/notebooks/fluidflow/gaspipeline.ipynb\" target=\"_parent\"><img src=\"https://colab.research.google.com/assets/colab-badge.svg\" alt=\"Open In Colab\"/></a>"
      ]
    },
    {
      "cell_type": "markdown",
      "metadata": {
        "id": "zWS_wtU6cynA"
      },
      "source": [
        "# examples of pressure drop in pipleine calculations"
      ]
    },
    {
      "cell_type": "code",
      "metadata": {
        "id": "_7LDVNIkcnp4"
      },
      "source": [
        "%%capture\n",
        "!pip install neqsim\n",
        "import neqsim\n",
        "from neqsim.thermo.thermoTools import *\n",
        "import matplotlib\n",
        "import numpy as np\n",
        "import matplotlib.pyplot as plt\n",
        "import math\n",
        "plt.style.use('classic')\n",
        "%matplotlib inline"
      ],
      "execution_count": 3,
      "outputs": []
    },
    {
      "cell_type": "code",
      "metadata": {
        "id": "TNt4qbstcikw",
        "outputId": "f746bf06-c7cd-496f-f16d-471280e17d25",
        "colab": {
          "base_uri": "https://localhost:8080/"
        }
      },
      "source": [
        "from neqsim import methods\n",
        "from neqsim.thermo import fluid, TPflash\n",
        "from neqsim.process import pipe, pipeline, clearProcess, stream, runProcess\n",
        "\n",
        "fluid1 = fluid(\"srk\")  # create a fluid using the SRK-Eo\n",
        "fluid1.addComponent(\"methane\", 85.0)\n",
        "fluid1.addComponent(\"ethane\", 5.0)\n",
        "fluid1.setMixingRule(2)\n",
        "fluid1.setTemperature(50.15, \"C\")\n",
        "fluid1.setPressure(150.0, \"bara\")\n",
        "fluid1.setTotalFlowRate(20.0, \"MSm3/day\")\n",
        "\n",
        "TPflash(fluid1)\n",
        "fluid1.initPhysicalProperties()\n",
        "\n",
        "diameter = [0.5, 0.5, 0.5] #meter\n",
        "roughnes = [50.0e-6, 50.0e-6, 50.0e-6] #meter\n",
        "position = [0.0, 500.0, 1000.0] #meter\n",
        "height = [0.0, -400.0, -800.0] #meter\n",
        "outtemperatures =[278.15, 278.15, 278.15] #Kelvin\n",
        "outHeatU = [15.0, 15.0, 15.0] #W/m2K\n",
        "wallHeatU = [15.0, 15.0, 15.0]\n",
        "clearProcess()\n",
        "stream1 = stream(fluid1)\n",
        "\n",
        "deltaElevation = 0.0\n",
        "pipeLength = 500000.0\n",
        "pipe1 = pipeline(stream1, position, diameter, height, outtemperatures, roughnes,outHeatU,wallHeatU)\n",
        "runProcess()\n",
        "print('outlet pressure ', pipe1.getOutStream().getPressure('bara'))\n",
        "print('outlet temperature ', pipe1.getOutStream().getTemperature('C'))"
      ],
      "execution_count": 4,
      "outputs": [
        {
          "output_type": "stream",
          "text": [
            "pressure  157.80012666423417\n",
            "temperature  51.296939853010315\n"
          ],
          "name": "stdout"
        }
      ]
    }
  ]
}