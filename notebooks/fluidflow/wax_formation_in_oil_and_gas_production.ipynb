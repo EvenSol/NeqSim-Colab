{
  "nbformat": 4,
  "nbformat_minor": 0,
  "metadata": {
    "colab": {
      "name": "wax formation in oil and gas production.ipynb",
      "version": "0.3.2",
      "provenance": [],
      "collapsed_sections": [],
      "include_colab_link": true
    },
    "kernelspec": {
      "name": "python3",
      "display_name": "Python 3"
    }
  },
  "cells": [
    {
      "cell_type": "markdown",
      "metadata": {
        "id": "view-in-github",
        "colab_type": "text"
      },
      "source": [
        "<a href=\"https://colab.research.google.com/github/EvenSol/NeqSim-Colab/blob/master/notebooks/fluidflow/wax_formation_in_oil_and_gas_production.ipynb\" target=\"_parent\"><img src=\"https://colab.research.google.com/assets/colab-badge.svg\" alt=\"Open In Colab\"/></a>"
      ]
    },
    {
      "metadata": {
        "id": "Yl8uCWTuQxbz",
        "colab_type": "code",
        "cellView": "form",
        "colab": {}
      },
      "cell_type": "code",
      "source": [
        "#@title Phase enevelopes of oil and gas\n",
        "#@markdown Demonstration of phase envelopes of gas and oil\n",
        "%%capture\n",
        "!git clone https://github.com/EvenSol/NeqSim-Colab.git\n",
        "!pip install py4j\n",
        "!pip install neqsim==2.5.35-Colab/lib/neqsim-0.0.1-py3-none-any.whl\n",
        "import neqsim\n",
        "import time\n",
        "time.sleep(3)\n",
        "from neqsim.thermo.thermoTools import *\n",
        "import matplotlib\n",
        "import numpy as np\n",
        "import matplotlib.pyplot as plt\n",
        "import math\n",
        "%matplotlib inline"
      ],
      "execution_count": 0,
      "outputs": []
    },
    {
      "metadata": {
        "id": "7sTCtpppT13d",
        "colab_type": "code",
        "outputId": "27a163f9-8eff-4325-be82-dd73ac6bd748",
        "cellView": "form",
        "colab": {
          "base_uri": "https://localhost:8080/",
          "height": 421
        }
      },
      "cell_type": "code",
      "source": [
        "#@title Wax formation in oil and gas production\n",
        "#@markdown This video gives an intriduction to wax behaviout in oil and gas production\n",
        "from IPython.display import YouTubeVideo\n",
        "YouTubeVideo('9vne-gWFQBw', width=600, height=400)"
      ],
      "execution_count": 0,
      "outputs": [
        {
          "output_type": "execute_result",
          "data": {
            "text/html": [
              "\n",
              "        <iframe\n",
              "            width=\"600\"\n",
              "            height=\"400\"\n",
              "            src=\"https://www.youtube.com/embed/9vne-gWFQBw\"\n",
              "            frameborder=\"0\"\n",
              "            allowfullscreen\n",
              "        ></iframe>\n",
              "        "
            ],
            "text/plain": [
              "<IPython.lib.display.YouTubeVideo at 0x7fb1ced7e5c0>"
            ],
            "image/jpeg": "[encoded data removed]"
          },
          "metadata": {
            "tags": []
          },
          "execution_count": 1
        }
      ]
    },
    {
      "metadata": {
        "colab_type": "text",
        "id": "tUFbr749P1nk"
      },
      "cell_type": "markdown",
      "source": [
        "#Calculation of vol% wax in oil and wax formation temperature\n",
        "Calculation of amount of wax formation temperature"
      ]
    },
    {
      "metadata": {
        "colab_type": "code",
        "outputId": "87c26037-4f97-4f98-b970-7cdfdbcb7d6b",
        "id": "VL8hrXl9P1nY",
        "colab": {
          "base_uri": "https://localhost:8080/",
          "height": 132
        }
      },
      "cell_type": "code",
      "source": [
        "nitrogen = 0.5 #@param {type:\"number\"}\n",
        "CO2 = 2.5 #@param {type:\"number\"}\n",
        "methane = 30.0  #@param {type:\"number\"}\n",
        "ethane = 10.0  #@param {type:\"number\"}\n",
        "propane =  5.0 #@param {type:\"number\"}\n",
        "ibutane =  1.25 #@param {type:\"number\"}\n",
        "nbutane =  1.25 #@param {type:\"number\"}\n",
        "ipentane =  0.25 #@param {type:\"number\"}\n",
        "npentane = 0.25 #@param {type:\"number\"}\n",
        "nhexane =  0.125 #@param {type:\"number\"}\n",
        "C7 =  50.225 #@param {type:\"number\"}\n",
        "C7Molarmass =  410.0 #@param {type:\"number\"}\n",
        "C7Density =  900.2 #@param {type:\"number\"}\n",
        "\n",
        "fluid1 = fluid('srk')\n",
        "fluid1.addComponent(\"nitrogen\", nitrogen)\n",
        "fluid1.addComponent(\"CO2\", CO2)\n",
        "fluid1.addComponent(\"methane\", methane)\n",
        "fluid1.addComponent(\"ethane\", ethane)\n",
        "fluid1.addComponent(\"propane\", propane)\n",
        "fluid1.addComponent(\"i-butane\", ibutane)\n",
        "fluid1.addComponent(\"n-butane\", nbutane)\n",
        "fluid1.addComponent(\"i-pentane\", ipentane)\n",
        "fluid1.addComponent(\"n-pentane\", npentane)\n",
        "fluid1.addComponent(\"n-hexane\", nhexane)\n",
        "fluid1.addPlusFraction(\"C7\", C7, C7Molarmass/1000.0, C7Density/1000.0)\n",
        "fluid1.getCharacterization().characterisePlusFraction()\n",
        "fluid1.getWaxModel().addTBPWax();\n",
        "fluid1.addSolidComplexPhase(\"wax\");\n",
        "fluid1.setMultiphaseWaxCheck(true);\n",
        "\n",
        "TPflash(fluid1)\n",
        "\n",
        "print('wt% wax ', fluid1.getWtFraction(testSystem.getPhaseIndexOfPhase(\"wax\"))\n",
        "      \n"
      ],
      "execution_count": 0,
      "outputs": [
        {
          "output_type": "error",
          "ename": "SyntaxError",
          "evalue": "ignored",
          "traceback": [
            "\u001b[0;36m  File \u001b[0;32m\"<ipython-input-1-06e0093064f0>\"\u001b[0;36m, line \u001b[0;32m35\u001b[0m\n\u001b[0;31m    \u001b[0m\n\u001b[0m    ^\u001b[0m\n\u001b[0;31mSyntaxError\u001b[0m\u001b[0;31m:\u001b[0m unexpected EOF while parsing\n"
          ]
        }
      ]
    }
  ]
}