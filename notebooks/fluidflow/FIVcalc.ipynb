{
  "nbformat": 4,
  "nbformat_minor": 0,
  "metadata": {
    "colab": {
      "provenance": [],
      "authorship_tag": "ABX9TyMxANEdSqzjM9he7I+b/tS8",
      "include_colab_link": true
    },
    "kernelspec": {
      "name": "python3",
      "display_name": "Python 3"
    },
    "language_info": {
      "name": "python"
    }
  },
  "cells": [
    {
      "cell_type": "markdown",
      "metadata": {
        "id": "view-in-github",
        "colab_type": "text"
      },
      "source": [
        "<a href=\"https://colab.research.google.com/github/EvenSol/NeqSim-Colab/blob/master/notebooks/fluidflow/FIVcalc.ipynb\" target=\"_parent\"><img src=\"https://colab.research.google.com/assets/colab-badge.svg\" alt=\"Open In Colab\"/></a>"
      ]
    },
    {
      "cell_type": "code",
      "execution_count": 8,
      "metadata": {
        "id": "2XhobgM7XT3_"
      },
      "outputs": [],
      "source": [
        "%%capture\n",
        "!pip install neqsim"
      ]
    },
    {
      "cell_type": "markdown",
      "metadata": {
        "id": "cde3bd16"
      },
      "source": [
        "**Flow-Induced Vibrations (FIV)**\n",
        "\n",
        "Flow-induced vibrations are dynamic responses of structures when subjected to fluid flow. These vibrations can be caused by various mechanisms, including:\n",
        "\n",
        "*   **Vortex Shedding:** As fluid flows past a bluff body (an object with a blunt shape), vortices are shed alternately from each side. This shedding creates oscillating forces perpendicular to the flow direction, which can induce vibrations in the body.\n",
        "*   **Buffeting:** This occurs when turbulent flow imparts random pressure fluctuations on a structure, leading to random vibrations.\n",
        "*   **Galloping:** This is a self-excited vibration that can occur in structures with non-circular cross-sections, like power lines or bridge decks. It's driven by aerodynamic forces that increase with the amplitude of vibration.\n",
        "*   **Flutter:** Aeroelastic instability that can occur in flexible structures like aircraft wings. It's a coupling between aerodynamic forces and the structure's elastic response.\n"
      ]
    },
    {
      "cell_type": "markdown",
      "source": [
        "# FlowInducedVibrationAnalyser\n",
        "\n",
        "The `FlowInducedVibrationAnalyser` class is a measurement device within the Neqsim framework designed to assess the likelihood of flow-induced vibration (FIV) in a pipeline. High-velocity turbulent fluids can generate significant kinetic energy, leading to low-frequency vibrations that may damage piping and supports. This class implements methods to quantify the risk of such vibrations.\n",
        "\n",
        "## Constructors\n",
        "\n",
        "### FlowInducedVibrationAnalyser(PipeBeggsAndBrills pipe)\n",
        "\n",
        "Creates a `FlowInducedVibrationAnalyser` instance associated with a specific `PipeBeggsAndBrills` object.\n",
        "\n",
        "*   **Parameters:**\n",
        "    *   `pipe`: The pipeline segment to be analyzed.\n",
        "\n",
        "### FlowInducedVibrationAnalyser(String name, PipeBeggsAndBrills pipe)\n",
        "\n",
        "Creates a `FlowInducedVibrationAnalyser` instance with a specified name, associated with a `PipeBeggsAndBrills` object.\n",
        "\n",
        "*   **Parameters:**\n",
        "    *   `name`: A custom name for the analyzer.\n",
        "    *   `pipe`: The pipeline segment to be analyzed.\n",
        "\n",
        "## Methods\n",
        "\n",
        "### displayResult()\n",
        "\n",
        "This method is intended to display the analysis results. *Note: This method is currently not implemented.*\n",
        "\n",
        "### getMeasuredValue(String unit)\n",
        "\n",
        "Calculates and returns a value representing the likelihood of flow-induced vibration. The calculation method is determined by the `method` property.\n",
        "\n",
        "*   **Parameters:**\n",
        "    *   `unit`: The desired unit for the returned value (currently not used).\n",
        "*   **Returns:**\n",
        "    *   A `double` representing the calculated Likelihood of Failure (LOF) or Flow-induced Root Mean Square (FRMS) value.\n",
        "\n",
        "#### Likelihood of Failure (LOF) Method\n",
        "\n",
        "This method, based on Energy Institute guidelines, calculates a Likelihood of Failure (LOF) score, which is a screening value to assess the risk of vibration-induced fatigue. The LOF is determined by comparing the kinetic energy of the flow to the pipe's resistance to vibration.\n",
        "\n",
        "The LOF is calculated as follows:\n",
        "\n",
        "$LOF = \\frac{\\rho_{mix} \\cdot v_{mix}^2 \\cdot FVF}{F_v}$\n",
        "\n",
        "Where:\n",
        "\n",
        "*   $\\rho_{mix}$: Density of the fluid mixture.\n",
        "*   $v_{mix}$: Velocity of the fluid mixture.\n",
        "*   $FVF$: A factor accounting for the influence of the gas volume fraction (GVF) on the vibration potential. It is calculated as:\n",
        "    *   If $GVF \\le 0.88$:\n",
        "        $FVF = 1.0$\n",
        "    *   If $0.88 < GVF \\le 0.99$:\n",
        "        $FVF = -27.882 \\cdot GVF^2 + 45.545 \\cdot GVF - 17.495$\n",
        "    *   If $GVF > 0.99$:\n",
        "        $FVF = \\sqrt{\\frac{\\mu_{mix}}{\\sqrt{0.001}}}$\n",
        "        Where $\\mu_{mix}$ is the mixture viscosity.\n",
        "\n",
        "*   $F_v$: The flow-induced vibration factor, which represents the pipe's structural resistance to vibration. It is a function of the pipe's geometry and support arrangement. The calculation is:\n",
        "    $F_v = \\alpha \\cdot \\left(\\frac{D_{ext}}{t}\\right)^\\beta$\n",
        "    Where:\n",
        "    *   $D_{ext}$: External diameter of the pipe.\n",
        "    *   $t$: Pipe wall thickness.\n",
        "    *   $\\alpha$ and $\\beta$: Coefficients determined by the `supportArrangement` property. The values are empirically derived and depend on the stiffness of the pipe supports.\n",
        "\n",
        "| Support Arrangement | $\\alpha$ | $\\beta$ |\n",
        "| :--- | :--- | :--- |\n",
        "| Stiff | $446187 + 646 \\cdot D_{ext} + 9.17 \\cdot 10^{-4} \\cdot D_{ext}^3$ | $0.1 \\cdot \\ln(D_{ext}) - 1.3739$ |\n",
        "| Medium stiff | $283921 + 370 \\cdot D_{ext}$ | $0.1106 \\cdot \\ln(D_{ext}) - 1.501$ |\n",
        "| Medium | $150412 + 209 \\cdot D_{ext}$ | $0.0815 \\cdot \\ln(D_{ext}) - 1.3269$ |\n",
        "| Flexible | $41.21 \\cdot \\ln(D_{ext}) + 49397$ | $0.0815 \\cdot \\ln(D_{ext}) - 1.3842$ |\n",
        "\n",
        "#### Flow-induced Root Mean Square (FRMS) Method\n",
        "\n",
        "This method provides an alternative assessment of vibration.\n",
        "\n",
        "*   If $GVF < 0.8$:\n",
        "    The method returns the Gas Volume Fraction (GVF).\n",
        "\n",
        "*   If $GVF \\ge 0.8$:\n",
        "    $FRMS = 1 + 5 \\cdot (1 - GVF) \\cdot D^{1.6} \\cdot C_{FRMS} \\cdot \\rho_{liq}^{0.6} \\cdot v_{mix}^{1.2}$\n",
        "    Where:\n",
        "    *   $D$: Pipe diameter.\n",
        "    *   $C_{FRMS}$: A user-defined constant (`FRMSConstant`).\n",
        "    *   $\\rho_{liq}$: Density of the liquid phase.\n",
        "\n",
        "### getMethod()\n",
        "\n",
        "Returns the current calculation method (\"LOF\" or \"FRMS\").\n",
        "\n",
        "*   **Returns:**\n",
        "    *   A `String` indicating the active method.\n",
        "\n",
        "### setMethod(String method)\n",
        "\n",
        "Sets the calculation method to be used.\n",
        "\n",
        "*   **Parameters:**\n",
        "    *   `method`: The desired method (\"LOF\" or \"FRMS\").\n",
        "\n",
        "### setSegment(int segment)\n",
        "\n",
        "Specifies the pipeline segment to be analyzed.\n",
        "\n",
        "*   **Parameters:**\n",
        "    *   `segment`: The index of the pipe segment.\n",
        "\n",
        "### setFRMSConstant(double frms)\n",
        "\n",
        "Sets the constant used in the FRMS calculation.\n",
        "\n",
        "*   **Parameters:**\n",
        "    *   `frms`: The value for the `FRMSConstant`.\n",
        "\n",
        "### setSupportArrangement(String arrangement)\n",
        "\n",
        "Defines the type of pipe support arrangement, which influences the $F_v$ calculation.\n",
        "\n",
        "*   **Parameters:**\n",
        "    *   `arrangement`: A `String` representing the support stiffness (\"Stiff\", \"Medium stiff\", \"Medium\", or \"Flexible\").\n",
        "\n",
        "### setSupportDistance(Double distance)\n",
        "\n",
        "Sets the distance between pipe supports. *Note: This property is not currently used in the calculations.*\n",
        "\n",
        "*   **Parameters:**\n",
        "    *   `distance`: The support distance."
      ],
      "metadata": {
        "id": "g-0zLMmTcTwI"
      }
    },
    {
      "cell_type": "markdown",
      "source": [
        "# NeqSim examples"
      ],
      "metadata": {
        "id": "TuR3DLiaYN-l"
      }
    },
    {
      "cell_type": "markdown",
      "source": [],
      "metadata": {
        "id": "cZ-LE0OZc6Kk"
      }
    },
    {
      "cell_type": "code",
      "source": [
        "from neqsim import jneqsim"
      ],
      "metadata": {
        "id": "gQaWhmYYYQ9V"
      },
      "execution_count": 11,
      "outputs": []
    },
    {
      "cell_type": "code",
      "metadata": {
        "colab": {
          "base_uri": "https://localhost:8080/"
        },
        "id": "b318db80",
        "outputId": "a0ba3c9e-dd72-49ec-d9d8-a5ce74004f3a"
      },
      "source": [
        "from neqsim.thermo import fluid, TPflash\n",
        "from neqsim.process import stream\n",
        "\n",
        "# Create a simple thermodynamic system with methane/ethane\n",
        "thermoSystem = fluid(\"srk\")\n",
        "thermoSystem.addComponent(\"methane\", 0.90)\n",
        "thermoSystem.addComponent(\"ethane\", 0.10)\n",
        "thermoSystem.addComponent(\"nC10\", 0.10)\n",
        "thermoSystem.addComponent(\"water\", 1.10)\n",
        "thermoSystem.setMixingRule(\"classic\")\n",
        "thermoSystem.setMultiPhaseCheck(True)\n",
        "thermoSystem.setTemperature(298.15, \"K\")\n",
        "thermoSystem.setPressure(70.0, \"bara\")\n",
        "thermoSystem.setTotalFlowRate(100000.0, \"kg/hr\")\n",
        "\n",
        "# Perform a flash calculation to determine phase properties\n",
        "TPflash(thermoSystem)\n",
        "thermoSystem.initPhysicalProperties()\n",
        "\n",
        "# Create a stream from the thermodynamic system\n",
        "stream1 = stream('stream 1', thermoSystem)\n",
        "stream1.setName(\"test stream\")\n",
        "stream1.run()\n",
        "\n",
        "# Create a pipe using the Beggs and Brill correlation\n",
        "pipe = jneqsim.process.equipment.pipeline.PipeBeggsAndBrills('pipe1', stream1)\n",
        "pipe.setDiameter(0.1)\n",
        "pipe.setLength(50.0)\n",
        "pipe.setElevation(0.0)\n",
        "pipe.setPipeWallRoughness(1.0e-5)\n",
        "pipe.setThickness(0.01)\n",
        "pipe.setNumberOfIncrements(10)\n",
        "pipe.run()\n",
        "\n",
        "print(\"Fluid properties and pipe parameters are set up.\")\n",
        "print(f\"Density: {thermoSystem.getDensity('kg/m3')} kg/m³\")\n",
        "print(f\"Viscosity: {thermoSystem.getViscosity('Pas')} Pa.s\")\n",
        "print(f\"Pipe Diameter: {pipe.getDiameter()} m\")\n",
        "print(f\"Pipe Length: {pipe.getLength()} m\")\n",
        "\n",
        "analyzerDefaultSegment = jneqsim.process.measurementdevice.FlowInducedVibrationAnalyser(\"Default segment analyzer\", pipe)\n",
        "analyzerDefaultSegment.setMethod(\"LOF\")\n",
        "analyzerDefaultSegment.setSupportArrangement(\"Stiff\");\n",
        "fiv = analyzerDefaultSegment.getMeasuredValue()\n",
        "print(\"Stiff segment LOF value: \" + str(fiv))\n",
        "analyzerDefaultSegment.setMethod(\"FRMS\")\n",
        "frms = analyzerDefaultSegment.getMeasuredValue()\n",
        "print(\"Stiff segment FRMS value: \" + str(frms))\n",
        "\n",
        "analyzerDefaultSegment = jneqsim.process.measurementdevice.FlowInducedVibrationAnalyser(\"Default segment analyzer\", pipe)\n",
        "analyzerDefaultSegment.setMethod(\"LOF\")\n",
        "analyzerDefaultSegment.setSupportArrangement(\"Medium\");\n",
        "fiv = analyzerDefaultSegment.getMeasuredValue()\n",
        "print(\"Medium segment LOF value: \" + str(fiv))\n",
        "analyzerDefaultSegment.setMethod(\"FRMS\")\n",
        "frms = analyzerDefaultSegment.getMeasuredValue()\n",
        "print(\"Medium segment FRMS value: \" + str(frms))"
      ],
      "execution_count": 50,
      "outputs": [
        {
          "output_type": "stream",
          "name": "stdout",
          "text": [
            "Fluid properties and pipe parameters are set up.\n",
            "Density: 178.40877112695264 kg/m³\n",
            "Viscosity: 0.0004862460287701426 Pa.s\n",
            "Pipe Diameter: 0.1 m\n",
            "Pipe Length: 50.0 m\n",
            "Stiff segment LOF value: 1.5382190619225382\n",
            "Stiff segment FRMS value: 267.5233468338844\n",
            "Medium segment LOF value: 5.105300996972015\n",
            "Medium segment FRMS value: 267.5233468338844\n"
          ]
        }
      ]
    }
  ]
}