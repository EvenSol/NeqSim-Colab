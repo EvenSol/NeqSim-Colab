{
  "nbformat": 4,
  "nbformat_minor": 0,
  "metadata": {
    "colab": {
      "name": "WorldStats.ipynb",
      "provenance": [],
      "authorship_tag": "ABX9TyNj50MIPuL3iNzqF+Py2wne",
      "include_colab_link": true
    },
    "kernelspec": {
      "name": "python379jvsc74a57bd0a5df7bd4ca0d6bb9986d9d69faf4f6c25893f82bf7982e9868ee8495bd8c927f",
      "display_name": "Python 3.7.9 64-bit ('base': conda)"
    },
    "language_info": {
      "name": "python",
      "version": "3.7.9"
    }
  },
  "cells": [
    {
      "cell_type": "code",
      "metadata": {
        "id": "XUuKa8iTIPbp"
      },
      "source": [],
      "execution_count": null,
      "outputs": []
    },
    {
      "cell_type": "markdown",
      "metadata": {
        "id": "Tn8lUElDITcd"
      },
      "source": [
        "# Web sites with statistics\n",
        " \n",
        "https://ec.europa.eu/eurostat/\n",
        "\n",
        "https://www.bls.gov/bls/other.htm\n",
        "\n",
        "https://www.ssb.no/en/\n",
        "\n",
        "# Learn statistical analysis in Python\n",
        "\n",
        "https://www.youtube.com/results?search_query=use+statistics+in+python&sp=CAM%253D"
      ]
    },
    {
      "source": [
        "#@title Data Analysis with Python \n",
        "#@markdown Introduction to data Analysis with Python \n",
        "from IPython.display import YouTubeVideo\n",
        "YouTubeVideo('uOLxNrNk8', width=600, height=400)"
      ],
      "cell_type": "code",
      "metadata": {},
      "execution_count": 1,
      "outputs": [
        {
          "output_type": "execute_result",
          "data": {
            "text/plain": [
              "<IPython.lib.display.YouTubeVideo at 0x258274eb7c8>"
            ],
            "text/html": "\n        <iframe\n            width=\"600\"\n            height=\"400\"\n            src=\"https://www.youtube.com/embed/uOLxNrNk8\"\n            frameborder=\"0\"\n            allowfullscreen\n        ></iframe>\n        "
          },
          "metadata": {},
          "execution_count": 1
        }
      ]
    }
  ]
}