{
  "nbformat": 4,
  "nbformat_minor": 0,
  "metadata": {
    "colab": {
      "name": "WorldStats.ipynb",
      "provenance": [],
      "include_colab_link": true
    },
    "kernelspec": {
      "name": "python379jvsc74a57bd0a5df7bd4ca0d6bb9986d9d69faf4f6c25893f82bf7982e9868ee8495bd8c927f",
      "display_name": "Python 3.7.9 64-bit ('base': conda)"
    },
    "language_info": {
      "name": "python",
      "version": "3.7.9"
    }
  },
  "cells": [
    {
      "cell_type": "markdown",
      "metadata": {
        "id": "view-in-github",
        "colab_type": "text"
      },
      "source": [
        "<a href=\"https://colab.research.google.com/github/EvenSol/NeqSim-Colab/blob/master/notebooks/statistics/WorldStats.ipynb\" target=\"_parent\"><img src=\"https://colab.research.google.com/assets/colab-badge.svg\" alt=\"Open In Colab\"/></a>"
      ]
    },
    {
      "cell_type": "code",
      "metadata": {
        "id": "XUuKa8iTIPbp"
      },
      "source": [
        ""
      ],
      "execution_count": null,
      "outputs": []
    },
    {
      "cell_type": "markdown",
      "metadata": {
        "id": "Tn8lUElDITcd"
      },
      "source": [
        "# Web sites with statistics\n",
        " \n",
        "https://ec.europa.eu/eurostat/\n",
        "\n",
        "https://www.bls.gov/bls/other.htm\n",
        "\n",
        "https://www.ssb.no/en/\n",
        "\n",
        "# Learn statistical analysis in Python\n",
        "\n",
        "https://www.youtube.com/results?search_query=use+statistics+in+python&sp=CAM%253D"
      ]
    },
    {
      "cell_type": "code",
      "metadata": {
        "cellView": "form",
        "id": "Av3nVXpiWRBG",
        "outputId": "5a6958c2-7a55-41e3-b163-2fa4647709d9"
      },
      "source": [
        "#@title Data Analysis with Python \n",
        "#@markdown Introduction to data analysis with Python \n",
        "from IPython.display import YouTubeVideo\n",
        "YouTubeVideo('uOLxNrNk8', width=600, height=400)"
      ],
      "execution_count": null,
      "outputs": [
        {
          "output_type": "execute_result",
          "data": {
            "text/plain": [
              "<IPython.lib.display.YouTubeVideo at 0x258274eb7c8>"
            ],
            "text/html": [
              "\n",
              "        <iframe\n",
              "            width=\"600\"\n",
              "            height=\"400\"\n",
              "            src=\"https://www.youtube.com/embed/uOLxNrNk8\"\n",
              "            frameborder=\"0\"\n",
              "            allowfullscreen\n",
              "        ></iframe>\n",
              "        "
            ]
          },
          "metadata": {
            "tags": []
          },
          "execution_count": 1
        }
      ]
    }
  ]
}