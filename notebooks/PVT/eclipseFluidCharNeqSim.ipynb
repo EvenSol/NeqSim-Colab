{
  "nbformat": 4,
  "nbformat_minor": 0,
  "metadata": {
    "colab": {
      "provenance": [],
      "authorship_tag": "ABX9TyMFPuCTYQWfT/Xh984cCuOk",
      "include_colab_link": true
    },
    "kernelspec": {
      "name": "python3",
      "display_name": "Python 3"
    },
    "language_info": {
      "name": "python"
    }
  },
  "cells": [
    {
      "cell_type": "markdown",
      "metadata": {
        "id": "view-in-github",
        "colab_type": "text"
      },
      "source": [
        "<a href=\"https://colab.research.google.com/github/EvenSol/NeqSim-Colab/blob/master/notebooks/PVT/eclipseFluidCharNeqSim.ipynb\" target=\"_parent\"><img src=\"https://colab.research.google.com/assets/colab-badge.svg\" alt=\"Open In Colab\"/></a>"
      ]
    },
    {
      "cell_type": "markdown",
      "source": [
        "#Install Python packages read Eclipse file and import Python libraries"
      ],
      "metadata": {
        "id": "oK93-gRGWKpj"
      }
    },
    {
      "cell_type": "code",
      "execution_count": 1,
      "metadata": {
        "id": "njafYeS1GIDE"
      },
      "outputs": [],
      "source": [
        "%%capture\n",
        "!pip install neqsim\n",
        "!pip install wget\n",
        "!wget https://raw.githubusercontent.com/EvenSol/NeqSim-Colab/master/notebooks/PVT/examplefile.txt\n",
        "\n",
        "import neqsim\n",
        "from neqsim.thermo.thermoTools import *\n",
        "import matplotlib\n",
        "import numpy as np\n",
        "import matplotlib.pyplot as plt\n",
        "import math\n",
        "import pandas as pd"
      ]
    },
    {
      "cell_type": "markdown",
      "source": [
        "#Read fluid from Eclipse 300 file"
      ],
      "metadata": {
        "id": "jNjQd_7LWOKp"
      }
    },
    {
      "cell_type": "code",
      "source": [
        "file1 = open('examplefile.txt', \"r\")\n",
        "FileContent = file1.read()\n",
        "print(FileContent)"
      ],
      "metadata": {
        "colab": {
          "base_uri": "https://localhost:8080/"
        },
        "id": "pocthykeWX2T",
        "outputId": "0142badf-f56d-48ab-b69c-b62f88caf5a8"
      },
      "execution_count": 2,
      "outputs": [
        {
          "output_type": "stream",
          "name": "stdout",
          "text": [
            "-- Generated with ...\n",
            "-- Fluid: TEST       \n",
            "-- Database: test\n",
            "-- Units\n",
            "METRIC\n",
            "-- Number of components:\n",
            "NCOMPS\n",
            " 7 /\n",
            "-- Equation of state\n",
            "EOS\n",
            "SRK /\n",
            "-- Reservoir temperature (C)\n",
            "RTEMP\n",
            "     30.00 /\n",
            "-- Standard Conditions (C and bara)\n",
            "STCOND\n",
            "   15.00000    1.01325  /\n",
            "-- Component names\n",
            "CNAMES\n",
            "N2+C1\n",
            "CO2+C2+C\n",
            "iC4-C6\n",
            "C7-C10\n",
            "C11-C20\n",
            "C21-C35\n",
            "C36-C80 /\n",
            "-- Tc (K)\n",
            "TCRIT\n",
            "   190.491\n",
            "   326.113\n",
            "   456.737\n",
            "   536.885\n",
            "   638.575\n",
            "   780.675\n",
            "   933.953 /\n",
            "-- Pc (Bar)\n",
            "PCRIT\n",
            "   45.9811\n",
            "   52.4076\n",
            "   34.3310\n",
            "   26.6653\n",
            "   24.3755\n",
            "   21.3919\n",
            "   22.1465 /\n",
            "-- Omega\n",
            "ACF\n",
            "   0.00805\n",
            "   0.14438\n",
            "   0.23198\n",
            "   0.51020\n",
            "   0.70682\n",
            "   1.03701\n",
            "   1.32441 /\n",
            "-- OmegaA\n",
            "OMEGAA\n",
            "     0.42748\n",
            "     0.42748\n",
            "     0.42748\n",
            "     0.42748\n",
            "     0.42748\n",
            "     0.42748\n",
            "     0.42748 /\n",
            "-- OmegaB\n",
            "OMEGAB\n",
            "     0.08664\n",
            "     0.08664\n",
            "     0.08664\n",
            "     0.08664\n",
            "     0.08664\n",
            "     0.08664\n",
            "     0.08664 /\n",
            "-- Molecular weights\n",
            "MW\n",
            "   16.0545\n",
            "   36.4677\n",
            "   68.0160\n",
            "  109.1187\n",
            "  177.1353\n",
            "  322.5892\n",
            "  527.7741 /\n",
            "-- Boiling points (K)\n",
            "TBOIL\n",
            "   111.542\n",
            "   202.030\n",
            "   299.301\n",
            "   395.126\n",
            "   507.605\n",
            "   653.271\n",
            "   780.883 /\n",
            "-- Critical volumes (m3/kg-mole)\n",
            "VCRIT\n",
            "   0.09898\n",
            "   0.15368\n",
            "   0.30130\n",
            "   0.54085\n",
            "   0.74300\n",
            "   1.37772\n",
            "   2.51445 /\n",
            "-- Critical Z-factors\n",
            "ZCRIT\n",
            "   0.28736\n",
            "   0.29703\n",
            "   0.27237\n",
            "   0.32307\n",
            "   0.34110\n",
            "   0.45404\n",
            "   0.71709 /\n",
            "-- Volume translation/co-volume\n",
            "SSHIFT\n",
            "  0.021119\n",
            "  0.074945\n",
            "  0.114077\n",
            "  0.129432\n",
            " -0.010859\n",
            " -0.195030\n",
            " -0.550531 /\n",
            "-- Parachors (dyn/cm)\n",
            "PARACHOR\n",
            "    77.238\n",
            "   115.909\n",
            "   222.744\n",
            "   318.521\n",
            "   487.782\n",
            "   823.698\n",
            "  1298.022 /\n",
            "-- Overall composition\n",
            "ZI\n",
            "  0.824420\n",
            "  0.106839\n",
            "  0.036416\n",
            "  0.024350\n",
            "  0.007734\n",
            "  0.000240\n",
            "  0.000001 /\n",
            "-- Binary interaction coefficients for SRK\n",
            "BIC\n",
            "  0.0225\n",
            "  0.0001  0.0225\n",
            "  0.0001  0.0188  0.0000\n",
            "  0.0001  0.0188  0.0000  0.0000\n",
            "  0.0001  0.0188  0.0000  0.0000  0.0000\n",
            "  0.0001  0.0188  0.0000  0.0000  0.0000  0.0000\n",
            "/\n",
            "BICS\n",
            "  0.0225\n",
            "  0.0001  0.0225\n",
            "  0.0001  0.0188  0.0000\n",
            "  0.0001  0.0188  0.0000  0.0000\n",
            "  0.0001  0.0188  0.0000  0.0000  0.0000\n",
            "  0.0001  0.0188  0.0000  0.0000  0.0000  0.0000\n",
            "/\n",
            "-- LBC coefficients\n",
            "LBCCOEF\n",
            "   0.1023000    0.0233640    0.0585330   -0.0407580    0.0093324 /\n",
            "\n"
          ]
        }
      ]
    },
    {
      "cell_type": "markdown",
      "source": [
        "#Create NeqSim fluid from Eclipse file\n",
        "Run TP flash at reservoir temperature and pressure"
      ],
      "metadata": {
        "id": "x39m0hZAWlUF"
      }
    },
    {
      "cell_type": "code",
      "source": [
        "fluid1 = readEclipseFluid('examplefile.txt')\n",
        "\n",
        "reservoirPressure = 907\n",
        "fluid1.setPressure(reservoirPressure, 'bara')\n",
        "reservoirTemperature = 100.0 # C\n",
        "fluid1.setTemperature(reservoirTemperature, 'C')\n",
        "\n",
        "TPflash(fluid1)\n",
        "\n",
        "printFrame(fluid1)"
      ],
      "metadata": {
        "colab": {
          "base_uri": "https://localhost:8080/"
        },
        "id": "clqUR329H5bc",
        "outputId": "837e9cb0-5e21-42fc-f5a9-b46d00d68e31"
      },
      "execution_count": 3,
      "outputs": [
        {
          "output_type": "stream",
          "name": "stdout",
          "text": [
            "| 0                  | 1          | 2           | 3   | 4   | 5   | 6               |\n",
            "|:-------------------|:-----------|:------------|:----|:----|:----|:----------------|\n",
            "|                    | total      | OIL         |     |     |     |                 |\n",
            "| N2+C1              | 8.2442E-1  | 8.2442E-1   |     |     |     | [mole fraction] |\n",
            "| CO2+C2+C           | 1.06839E-1 | 1.06839E-1  |     |     |     | [mole fraction] |\n",
            "| iC4-C6             | 3.6416E-2  | 3.6416E-2   |     |     |     | [mole fraction] |\n",
            "| C7-C10             | 2.435E-2   | 2.435E-2    |     |     |     | [mole fraction] |\n",
            "| C11-C20            | 7.734E-3   | 7.734E-3    |     |     |     | [mole fraction] |\n",
            "| C21-C35            | 2.4E-4     | 2.4E-4      |     |     |     | [mole fraction] |\n",
            "| C36-C80            | 1E-6       | 1E-6        |     |     |     | [mole fraction] |\n",
            "|                    |            |             |     |     |     |                 |\n",
            "| Density            |            | 4.02974E2   |     |     |     | [kg/m^3]        |\n",
            "| PhaseFraction      |            | 1E0         |     |     |     | [mole fraction] |\n",
            "| MolarMass          | 2.37136E1  | 2.37136E1   |     |     |     | [kg/kmol]       |\n",
            "| Z factor           |            | 1.77018E0   |     |     |     | [-]             |\n",
            "| Heat Capacity (Cp) |            | 2.066E0     |     |     |     | [kJ/kg*K]       |\n",
            "| Heat Capacity (Cv) |            | 1.3418E0    |     |     |     | [kJ/kg*K]       |\n",
            "| Speed of Sound     |            | 1.07195E3   |     |     |     | [m/sec]         |\n",
            "| Enthalpy           | -5.56137E1 | -5.56137E1  |     |     |     | [kJ/kg]         |\n",
            "| Entropy            | -2.26941E0 | -2.26941E0  |     |     |     | [kJ/kg*K]       |\n",
            "| JT coefficient     |            | -4.92211E-2 |     |     |     | [K/bar]         |\n",
            "|                    |            |             |     |     |     |                 |\n",
            "| Viscosity          |            | 5.77402E-5  |     |     |     | [kg/m*sec]      |\n",
            "| Conductivity       |            | 1.06464E-1  |     |     |     | [W/m*K]         |\n",
            "| SurfaceTension     |            |             |     |     |     | [N/m]           |\n",
            "|                    |            |             |     |     |     |                 |\n",
            "|                    |            |             |     |     |     |                 |\n",
            "|                    |            |             |     |     |     |                 |\n",
            "| Pressure           |            | 907.0       |     |     |     | [bar]           |\n",
            "| Temperature        |            | 373.15      |     |     |     | [K]             |\n",
            "|                    |            |             |     |     |     |                 |\n",
            "| Model              |            | SRK-EOS     |     |     |     | -               |\n",
            "| Mixing Rule        |            | classic     |     |     |     | -               |\n",
            "|                    |            |             |     |     |     |                 |\n",
            "| Stream             |            |             |     |     |     | -               |\n",
            "|                    |            |             |     |     |     |                 |\n",
            "|                    |            |             |     |     |     |                 |\n",
            "|                    |            |             |     |     |     |                 |\n",
            "|                    |            |             |     |     |     |                 |\n"
          ]
        }
      ]
    },
    {
      "cell_type": "markdown",
      "source": [
        "#Create well streams, fit GVF, mix and separate"
      ],
      "metadata": {
        "id": "jYU9P6ggW9Ml"
      }
    },
    {
      "cell_type": "code",
      "source": [
        "from neqsim.process import  mixer, heater, stream, separator, GORfitter"
      ],
      "metadata": {
        "id": "KCAUyEdzXCjj"
      },
      "execution_count": 4,
      "outputs": []
    },
    {
      "cell_type": "code",
      "source": [
        "# Creating Well 1\n",
        "well1 = stream(fluid1.clone())\n",
        "well1.getFluid().setMolarComposition([0.3824420, 0.106839, 0.036416, 0.024350, 0.007734, 0.000240, 0.000001])\n",
        "well1.setTemperature(55.0, 'C')\n",
        "well1.setPressure(125.0, 'bara')\n",
        "well1.setFlowRate(2000000.0, 'kg/hr')\n",
        "well1.run()\n",
        "\n",
        "well1GORfitter = GORfitter(well1)\n",
        "well1GORfitter.setGVF(0.3) #setting GVF at meeter condition\n",
        "well1GORfitter.setReferenceConditions('actual')\n",
        "well1GORfitter.run()\n",
        "\n",
        "well1Fitted = well1GORfitter.getOutStream()\n",
        "\n",
        "\n",
        "#Creating Well 2\n",
        "well2 = stream(fluid1.clone())\n",
        "well2.setFlowRate(30000.0, 'kg/hr')\n",
        "well2.getFluid().setMolarComposition([0.524420, 0.206839, 0.136416, 0.124350, 0.07734, 0.1240, 0.0021])\n",
        "well2.setTemperature(55.0, 'C')\n",
        "well2.setPressure(115.0, 'bara')\n",
        "well2.setFlowRate(1200000.0, 'kg/hr')\n",
        "well2.run()\n",
        "\n",
        "well2GORfitter = GORfitter(well2)\n",
        "well2GORfitter.setGVF(0.2) #setting GOR at meeter condition\n",
        "well2GORfitter.setReferenceConditions('actual')\n",
        "well2GORfitter.run()\n",
        "\n",
        "well2Fitted = well2GORfitter.getOutStream()\n",
        "\n",
        "\n",
        "#Mixing stream\n",
        "wellmixer = mixer('well mixer')\n",
        "wellmixer.addStream(well1Fitted)\n",
        "wellmixer.addStream(well2Fitted)\n",
        "wellmixer.run()\n",
        "\n",
        "#Setting pressure and temperature of inlet separator\n",
        "wellTP = heater(wellmixer.getOutStream())\n",
        "wellTP.setOutTemperature(45.0, 'C')\n",
        "wellTP.setOutPressure(65.0, 'bara')\n",
        "wellTP.run()\n",
        "\n",
        "#creating a inlet separator\n",
        "inletsep = separator(wellTP.getOutStream())\n",
        "inletsep.run()\n",
        "\n",
        "\n",
        "\n",
        "gasFlowRate = inletsep.getGasOutStream().getFlowRate('MSm3/hr')\n",
        "gasAFlowRate = inletsep.getGasOutStream().getFlowRate('m3/hr')\n",
        "oilFlowRate = inletsep.getLiquidOutStream().getFlowRate('m3/hr')\n",
        "\n",
        "print('gas flow rate from separator ', gasFlowRate, ' MSm3/hr')\n",
        "print('gas flow rate from separator ', gasAFlowRate, ' Am3/hr')\n",
        "print('oil flow rate from separator ', oilFlowRate, ' m3/hr')"
      ],
      "metadata": {
        "colab": {
          "base_uri": "https://localhost:8080/"
        },
        "id": "wF6M3PbMXMPM",
        "outputId": "6de4a577-cc00-4884-ad10-aa8e10c12296"
      },
      "execution_count": 5,
      "outputs": [
        {
          "output_type": "stream",
          "name": "stdout",
          "text": [
            "gas flow rate from separator  0.5343879771185415  MSm3/hr\n",
            "gas flow rate from separator  7764.513538145074  Am3/hr\n",
            "oil flow rate from separator  3907.1951798675204  m3/hr\n"
          ]
        }
      ]
    },
    {
      "cell_type": "markdown",
      "source": [
        "#Running a CME simulation for the reservoir fluid"
      ],
      "metadata": {
        "id": "EYv99prfd3p4"
      }
    },
    {
      "cell_type": "code",
      "source": [
        "fluid1 = well1.getFluid().clone()\n",
        "\n",
        "pressure = [300.0, 250.0, 200.0, 150.0, 100.0, 70.0, 50.0]\n",
        "temperature = [301.0, 301.0, 301.0, 301.0, 301.0, 301.0, 301.0]\n",
        "\n",
        "relativevolume = []\n",
        "liquidrelativevolume = []\n",
        "Zgas =  []\n",
        "Yfactor = []\n",
        "isothermalcompressibility = []\n",
        "satPressure = None\n",
        "CME(fluid1,pressure,temperature,satPressure,relativevolume, liquidrelativevolume,Zgas,Yfactor,isothermalcompressibility)\n",
        "\n",
        "plt.figure(figsize=(20, 5))\n",
        "plt.subplot(131)\n",
        "plt.plot(pressure, relativevolume, \"o\")\n",
        "plt.xlabel('Pressure [bara]')\n",
        "plt.ylabel('relative volume [-]')\n",
        "plt.subplot(132)\n",
        "plt.plot(pressure, Yfactor, \"o\")\n",
        "plt.xlabel('Pressure [bara]')\n",
        "plt.ylabel('Yfactor [-]')\n",
        "plt.subplot(133)\n",
        "plt.plot(pressure, isothermalcompressibility, \"o\")\n",
        "plt.xlabel('Pressure [bara]')\n",
        "plt.ylabel('isothermalcompressibility [1/bar]')\n",
        "plt.show()"
      ],
      "metadata": {
        "colab": {
          "base_uri": "https://localhost:8080/",
          "height": 455
        },
        "id": "o2Ihsk1IeGFs",
        "outputId": "3b2f0430-329b-4b5e-8cf4-c391c3d64c0b"
      },
      "execution_count": 6,
      "outputs": [
        {
          "output_type": "display_data",
          "data": {
            "text/plain": [
              "<Figure size 2000x500 with 3 Axes>"
            ],
            "image/png": "[encoded data removed]"
          },
          "metadata": {}
        }
      ]
    }
  ]
}