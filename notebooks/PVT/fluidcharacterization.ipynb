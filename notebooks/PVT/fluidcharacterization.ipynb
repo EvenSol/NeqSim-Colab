{
  "nbformat": 4,
  "nbformat_minor": 0,
  "metadata": {
    "colab": {
      "name": "fluidcharacterization.ipynb",
      "provenance": [],
      "include_colab_link": true
    },
    "kernelspec": {
      "name": "python3",
      "display_name": "Python 3"
    }
  },
  "cells": [
    {
      "cell_type": "markdown",
      "metadata": {
        "id": "view-in-github",
        "colab_type": "text"
      },
      "source": [
        "<a href=\"https://colab.research.google.com/github/EvenSol/NeqSim-Colab/blob/master/notebooks/PVT/fluidcharacterization.ipynb\" target=\"_parent\"><img src=\"https://colab.research.google.com/assets/colab-badge.svg\" alt=\"Open In Colab\"/></a>"
      ]
    },
    {
      "cell_type": "code",
      "metadata": {
        "id": "PbTEe4C_rhPm",
        "cellView": "form"
      },
      "source": [
        "#@title Introduction to fluid characterization\n",
        "#@markdown This section gives an introdution to fluid characterization of oil and gas.\n",
        "%%capture\n",
        "!pip install neqsim\n",
        "import neqsim\n",
        "from neqsim.thermo.thermoTools import *\n",
        "import matplotlib\n",
        "import numpy as np\n",
        "import matplotlib.pyplot as plt\n",
        "import math\n",
        "%matplotlib inline"
      ],
      "execution_count": null,
      "outputs": []
    },
    {
      "cell_type": "code",
      "metadata": {
        "id": "yRogUUO26bux",
        "outputId": "e3010a45-82b4-413d-d08e-bac79591ae67",
        "colab": {
          "base_uri": "https://localhost:8080/",
          "height": 421
        },
        "cellView": "form"
      },
      "source": [
        "#@title Introduction to fluid characterization in HYSYS\n",
        "#@markdown This video gives an introduction introduction to fluid characterization in HYSYS\n",
        "from IPython.display import YouTubeVideo\n",
        "YouTubeVideo('D7xnyEDu1KU', width=600, height=400)"
      ],
      "execution_count": null,
      "outputs": [
        {
          "output_type": "execute_result",
          "data": {
            "text/plain": [
              "<IPython.lib.display.YouTubeVideo at 0x7f85f4c0ec50>"
            ],
            "text/html": [
              "\n",
              "        <iframe\n",
              "            width=\"600\"\n",
              "            height=\"400\"\n",
              "            src=\"https://www.youtube.com/embed/D7xnyEDu1KU\"\n",
              "            frameborder=\"0\"\n",
              "            allowfullscreen\n",
              "        ></iframe>\n",
              "        "
            ],
            "image/jpeg": "[encoded data removed]"
          },
          "metadata": {},
          "execution_count": 5
        }
      ]
    },
    {
      "cell_type": "markdown",
      "source": [
        "## Mathematical Methods for Well Fluid Characterization\n",
        "\n",
        "### 1. **Equation of State (EOS) Models**:\n",
        "These are mathematical models relating pressure, volume, and temperature (PVT) for a pure substance or mixture.\n",
        "\n",
        "- **Van der Waals EOS**: One of the first equations developed to account for the non-ideal behavior of gases.\n",
        "- **Peng-Robinson EOS** and **Soave-Redlich-Kwong EOS**: More advanced models, popular in the oil and gas industry due to their ability to handle hydrocarbons and their mixtures.\n",
        "\n",
        "### 2. **Component Grouping**:\n",
        "Given the vast number of components in a reservoir fluid, it's impractical to treat each individually. Grouping simplifies the number of components:\n",
        "\n",
        "- **Plus Fraction Analysis**: Heavy components (C7+ and beyond) are lumped together and characterized by average properties like molecular weight and critical properties.\n",
        "- **Pseudo-components**: The extensive hydrocarbon fraction is split into pseudo-components, each representing a range of molecular weights.\n",
        "\n",
        "### 3. **Empirical Correlations**:\n",
        "Over the years, many correlations have been developed based on experimental data to predict properties of reservoir fluids:\n",
        "\n",
        "- **Standing-Katz Correlation**: For predicting the z-factor of natural gases.\n",
        "- **Vazquez and Beggs Correlation**: Often used for oil viscosity estimation.\n",
        "\n",
        "### 4. **Pedersen Method**:\n",
        "A characterization technique that's especially useful for heavy and complex mixtures. It uses a combination of EOS models with empirical correlations.\n",
        "\n",
        "### 5. **Whitson and Torp Method**:\n",
        "For gas condensates and volatile oils. This method combines split characterization with an EOS model.\n",
        "\n",
        "### 6. **Statistical Associating Fluid Theory (SAFT)**:\n",
        "A molecular-based approach that offers a more rigorous description of the fluid's thermodynamic properties. It provides insights into molecular interactions and structures.\n",
        "\n",
        "### 7. **Black-Oil Models**:\n",
        "These are the simplest form of reservoir simulation models, treating the reservoir fluid as a combination of oil, water, and gas, neglecting the compositional details."
      ],
      "metadata": {
        "id": "emqduRr6tjhf"
      }
    },
    {
      "cell_type": "markdown",
      "metadata": {
        "id": "xpiT_R56D2VT"
      },
      "source": [
        "#Tuning the molar mass of a plus fraction to reservoir conductions\n",
        "Phase Envelope (two-phase region): The region enclosed by the bubble-point curve and the dew point curve wherein gas and liquid coexist in equlibrium, is identified as the phase envelope of the hydrocarbon system. A gas reservoir is dominated by light components, and generally contain low amounts of C7+ components.\n",
        "\n",
        "In the example below we tune the molar mass of the plus fraction to match reservoir pressure and temperature conditions."
      ]
    },
    {
      "cell_type": "code",
      "metadata": {
        "id": "nSrXyT__DXaa",
        "outputId": "483d314d-32bb-4f79-8e67-2d66624dfeb1",
        "colab": {
          "base_uri": "https://localhost:8080/",
          "height": 295
        }
      },
      "source": [
        "nitrogen = 0.51 #@param {type:\"number\"}\n",
        "CO2 = 2.51 #@param {type:\"number\"}\n",
        "methane = 20.0  #@param {type:\"number\"}\n",
        "ethane = 4.01  #@param {type:\"number\"}\n",
        "propane =  3.01 #@param {type:\"number\"}\n",
        "ibutane =  1.25 #@param {type:\"number\"}\n",
        "nbutane =  1.25 #@param {type:\"number\"}\n",
        "ipentane =  0.25 #@param {type:\"number\"}\n",
        "npentane = 0.25 #@param {type:\"number\"}\n",
        "nhexane =  0.125 #@param {type:\"number\"}\n",
        "C7 =  4.05 #@param {type:\"number\"}\n",
        "C7Molarmass =  210.0 #@param {type:\"number\"}\n",
        "C7Density =  810.2 #@param {type:\"number\"}\n",
        "\n",
        "fluid1 = fluid('srk')\n",
        "fluid1.addComponent(\"nitrogen\", nitrogen)\n",
        "fluid1.addComponent(\"CO2\", CO2)\n",
        "fluid1.addComponent(\"methane\", methane)\n",
        "fluid1.addComponent(\"ethane\", ethane)\n",
        "fluid1.addComponent(\"propane\", propane)\n",
        "fluid1.addComponent(\"i-butane\", ibutane)\n",
        "fluid1.addComponent(\"n-butane\", nbutane)\n",
        "fluid1.addComponent(\"i-pentane\", ipentane)\n",
        "fluid1.addComponent(\"n-pentane\", npentane)\n",
        "fluid1.addComponent(\"n-hexane\", nhexane)\n",
        "fluid1.addPlusFraction(\"C7\", C7, C7Molarmass/1000.0, C7Density/1000.0)\n",
        "fluid1.getCharacterization().characterisePlusFraction()\n",
        "fluid1.setMixingRule('classic')\n",
        "\n",
        "thermoOps = jNeqSim.thermodynamicOperations.ThermodynamicOperations(fluid1)\n",
        "thermoOps.calcPTphaseEnvelope()\n",
        "\n",
        "plt.plot(list(thermoOps.getOperation().get(\"dewT\")),list(thermoOps.getOperation().get(\"dewP\")), label=\"dew point\")\n",
        "plt.plot(list(thermoOps.getOperation().get(\"bubT\")),list(thermoOps.getOperation().get(\"bubP\")), label=\"bubble point\")\n",
        "plt.title('PT envelope')\n",
        "plt.xlabel('Temperature [K]')\n",
        "plt.ylabel('Pressure [bar]')\n",
        "plt.legend()\n",
        "plt.show()"
      ],
      "execution_count": null,
      "outputs": [
        {
          "output_type": "display_data",
          "data": {
            "text/plain": [
              "<Figure size 432x288 with 1 Axes>"
            ],
            "image/png": "[encoded data removed]"
          },
          "metadata": {
            "needs_background": "light"
          }
        }
      ]
    },
    {
      "cell_type": "code",
      "metadata": {
        "id": "YPQnDQXBGzJb",
        "colab": {
          "base_uri": "https://localhost:8080/"
        },
        "outputId": "926a7d20-886b-4959-8420-c3722fc1c35b"
      },
      "source": [
        "fluid1.setTemperature(630.0, \"K\")\n",
        "fluid1.setPressure(200.0), \"bara\"\n",
        "saturationTemperature = dewt(fluid1)\n",
        "print('saturation temperature ', saturationTemperature, ' K')"
      ],
      "execution_count": null,
      "outputs": [
        {
          "output_type": "stream",
          "name": "stdout",
          "text": [
            "saturation temperature  645.0619453996553  K\n"
          ]
        }
      ]
    }
  ]
}