{
  "nbformat": 4,
  "nbformat_minor": 0,
  "metadata": {
    "colab": {
      "name": "fluidcharacterization.ipynb",
      "provenance": [],
      "include_colab_link": true
    },
    "kernelspec": {
      "name": "python3",
      "display_name": "Python 3"
    }
  },
  "cells": [
    {
      "cell_type": "markdown",
      "metadata": {
        "id": "view-in-github",
        "colab_type": "text"
      },
      "source": [
        "<a href=\"https://colab.research.google.com/github/EvenSol/NeqSim-Colab/blob/master/notebooks/PVT/fluidcharacterization.ipynb\" target=\"_parent\"><img src=\"https://colab.research.google.com/assets/colab-badge.svg\" alt=\"Open In Colab\"/></a>"
      ]
    },
    {
      "cell_type": "code",
      "metadata": {
        "id": "PbTEe4C_rhPm",
        "cellView": "form"
      },
      "source": [
        "#@title Introduction to fluid characterization\n",
        "#@markdown This section gives an introdution to fluid characterization of oil and gas.\n",
        "%%capture\n",
        "!pip install neqsim\n",
        "import neqsim\n",
        "from neqsim.thermo.thermoTools import *\n",
        "import matplotlib\n",
        "import numpy as np\n",
        "import matplotlib.pyplot as plt\n",
        "import math\n",
        "%matplotlib inline"
      ],
      "execution_count": null,
      "outputs": []
    },
    {
      "cell_type": "code",
      "metadata": {
        "id": "yRogUUO26bux",
        "cellView": "form",
        "outputId": "16e7f4dd-2a30-427d-9e31-2eeb4a1c977d",
        "colab": {
          "base_uri": "https://localhost:8080/",
          "height": 421
        }
      },
      "source": [
        "#@title Introduction to fluid characterization in HYSYS\n",
        "#@markdown This video gives an introduction introduction to fluid characterization in HYSYS\n",
        "from IPython.display import YouTubeVideo\n",
        "YouTubeVideo('OEPnWpa2ikg', width=600, height=400)"
      ],
      "execution_count": null,
      "outputs": [
        {
          "output_type": "execute_result",
          "data": {
            "text/html": [
              "\n",
              "        <iframe\n",
              "            width=\"600\"\n",
              "            height=\"400\"\n",
              "            src=\"https://www.youtube.com/embed/OEPnWpa2ikg\"\n",
              "            frameborder=\"0\"\n",
              "            allowfullscreen\n",
              "        ></iframe>\n",
              "        "
            ],
            "text/plain": [
              "<IPython.lib.display.YouTubeVideo at 0x7f515f6d7e90>"
            ]
          },
          "metadata": {},
          "execution_count": 2
        }
      ]
    },
    {
      "cell_type": "markdown",
      "metadata": {
        "id": "xpiT_R56D2VT"
      },
      "source": [
        "#Tuning the molar mass of a plus fraction to reservoir conductions\n",
        "Phase Envelope (two-phase region): The region enclosed by the bubble-point curve and the dew point curve wherein gas and liquid coexist in equlibrium, is identified as the phase envelope of the hydrocarbon system. A gas reservoir is dominated by light components, and generally contain low amounts of C7+ components. \n",
        "\n",
        "In the example below we tune the molar mass of the plus fraction to match reservoir pressure and temperature conditions."
      ]
    },
    {
      "cell_type": "code",
      "metadata": {
        "id": "nSrXyT__DXaa",
        "outputId": "ef04b2af-9e9a-4626-fcbe-439824cfbb81",
        "colab": {
          "base_uri": "https://localhost:8080/",
          "height": 295
        }
      },
      "source": [
        "nitrogen = 0.51 #@param {type:\"number\"}\n",
        "CO2 = 2.51 #@param {type:\"number\"}\n",
        "methane = 20.0  #@param {type:\"number\"}\n",
        "ethane = 4.01  #@param {type:\"number\"}\n",
        "propane =  3.01 #@param {type:\"number\"}\n",
        "ibutane =  1.25 #@param {type:\"number\"}\n",
        "nbutane =  1.25 #@param {type:\"number\"}\n",
        "ipentane =  0.25 #@param {type:\"number\"}\n",
        "npentane = 0.25 #@param {type:\"number\"}\n",
        "nhexane =  0.125 #@param {type:\"number\"}\n",
        "C7 =  4.05 #@param {type:\"number\"}\n",
        "C7Molarmass =  210.0 #@param {type:\"number\"}\n",
        "C7Density =  810.2 #@param {type:\"number\"}\n",
        "\n",
        "fluid1 = fluid('srk')\n",
        "fluid1.addComponent(\"nitrogen\", nitrogen)\n",
        "fluid1.addComponent(\"CO2\", CO2)\n",
        "fluid1.addComponent(\"methane\", methane)\n",
        "fluid1.addComponent(\"ethane\", ethane)\n",
        "fluid1.addComponent(\"propane\", propane)\n",
        "fluid1.addComponent(\"i-butane\", ibutane)\n",
        "fluid1.addComponent(\"n-butane\", nbutane)\n",
        "fluid1.addComponent(\"i-pentane\", ipentane)\n",
        "fluid1.addComponent(\"n-pentane\", npentane)\n",
        "fluid1.addComponent(\"n-hexane\", nhexane)\n",
        "fluid1.addPlusFraction(\"C7\", C7, C7Molarmass/1000.0, C7Density/1000.0)\n",
        "fluid1.getCharacterization().characterisePlusFraction()\n",
        "fluid1.setMixingRule('classic')\n",
        "\n",
        "thermoOps = jNeqSim.thermodynamicOperations.ThermodynamicOperations(fluid1)\n",
        "thermoOps.calcPTphaseEnvelope()\n",
        "\n",
        "plt.plot(list(thermoOps.getOperation().get(\"dewT\")),list(thermoOps.getOperation().get(\"dewP\")), label=\"dew point\")\n",
        "plt.plot(list(thermoOps.getOperation().get(\"bubT\")),list(thermoOps.getOperation().get(\"bubP\")), label=\"bubble point\")\n",
        "plt.title('PT envelope')\n",
        "plt.xlabel('Temperature [K]')\n",
        "plt.ylabel('Pressure [bar]')\n",
        "plt.legend()\n",
        "plt.show()"
      ],
      "execution_count": null,
      "outputs": [
        {
          "output_type": "display_data",
          "data": {
            "image/png": "[encoded data removed]",
            "text/plain": [
              "<Figure size 432x288 with 1 Axes>"
            ]
          },
          "metadata": {
            "needs_background": "light"
          }
        }
      ]
    },
    {
      "cell_type": "code",
      "metadata": {
        "id": "YPQnDQXBGzJb",
        "colab": {
          "base_uri": "https://localhost:8080/"
        },
        "outputId": "3b982ced-9641-4e26-bfbb-7e7a7026eccf"
      },
      "source": [
        "fluid1.setTemperature(630.0, \"K\")\n",
        "fluid1.setPressure(200.0), \"bara\"\n",
        "saturationTemperature = dewt(fluid1)\n",
        "print('saturation temperature ', saturationTemperature, ' K')"
      ],
      "execution_count": null,
      "outputs": [
        {
          "output_type": "stream",
          "name": "stdout",
          "text": [
            "saturation temperature  645.0619453996553  K\n"
          ]
        }
      ]
    }
  ]
}