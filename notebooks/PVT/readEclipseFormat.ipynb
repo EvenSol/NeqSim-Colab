{
 "cells": [
  {
   "cell_type": "markdown",
   "metadata": {},
   "source": [
    "<a href=\"https://colab.research.google.com/github/EvenSol/NeqSim-Colab/blob/master/notebooks/PVT/readEclipseFormat.ipynb\" target=\"_parent\"><img src=\"https://colab.research.google.com/assets/colab-badge.svg\" alt=\"Open In Colab\"/></a>"
   ]
  },
  {
   "cell_type": "code",
   "execution_count": 4,
   "metadata": {},
   "outputs": [
    {
     "name": "stdout",
     "output_type": "stream",
     "text": [
      "Requirement already satisfied: neqsim in c:\\appl\\anaconda3\\lib\\site-packages (2.3.0)\n",
      "Requirement already satisfied: numpy in c:\\appl\\anaconda3\\lib\\site-packages (from neqsim) (1.19.4)\n",
      "Requirement already satisfied: pandas in c:\\appl\\anaconda3\\lib\\site-packages (from neqsim) (1.2.0)\n",
      "Requirement already satisfied: jpype1 in c:\\appl\\anaconda3\\lib\\site-packages (from neqsim) (1.3.0)\n",
      "Requirement already satisfied: matplotlib in c:\\appl\\anaconda3\\lib\\site-packages (from neqsim) (3.3.2)\n",
      "Requirement already satisfied: typing-extensions in c:\\appl\\anaconda3\\lib\\site-packages (from jpype1->neqsim) (3.7.4.3)\n",
      "Requirement already satisfied: kiwisolver>=1.0.1 in c:\\appl\\anaconda3\\lib\\site-packages (from matplotlib->neqsim) (1.3.0)\n",
      "Requirement already satisfied: cycler>=0.10 in c:\\appl\\anaconda3\\lib\\site-packages (from matplotlib->neqsim) (0.10.0)\n",
      "Requirement already satisfied: pyparsing!=2.0.4,!=2.1.2,!=2.1.6,>=2.0.3 in c:\\appl\\anaconda3\\lib\\site-packages (from matplotlib->neqsim) (2.4.7)\n",
      "Requirement already satisfied: python-dateutil>=2.1 in c:\\users\\esol\\appdata\\roaming\\python\\python37\\site-packages (from matplotlib->neqsim) (2.8.1)\n",
      "Requirement already satisfied: certifi>=2020.06.20 in c:\\appl\\anaconda3\\lib\\site-packages (from matplotlib->neqsim) (2020.12.5)\n",
      "Requirement already satisfied: pillow>=6.2.0 in c:\\appl\\anaconda3\\lib\\site-packages (from matplotlib->neqsim) (8.0.1)\n",
      "Requirement already satisfied: six in c:\\users\\esol\\appdata\\roaming\\python\\python37\\site-packages (from cycler>=0.10->matplotlib->neqsim) (1.15.0)\n",
      "Requirement already satisfied: pytz>=2017.3 in c:\\appl\\anaconda3\\lib\\site-packages (from pandas->neqsim) (2020.5)\n"
     ]
    }
   ],
   "source": [
    "#@title Create a fluid based on Eclipse  format\n",
    "#@markdown This section gives an example of creating a fluid reading a text file on the Eclipse fluid format\n",
    "#%%capture\n",
    "!pip install neqsim"
   ]
  }
 ],
 "metadata": {
  "interpreter": {
   "hash": "57baa5815c940fdaff4d14510622de9616cae602444507ba5d0b6727c008cbd6"
  },
  "kernelspec": {
   "display_name": "Python 3.7.8 64-bit",
   "language": "python",
   "name": "python3"
  },
  "language_info": {
   "codemirror_mode": {
    "name": "ipython",
    "version": 3
   },
   "file_extension": ".py",
   "mimetype": "text/x-python",
   "name": "python",
   "nbconvert_exporter": "python",
   "pygments_lexer": "ipython3",
   "version": "3.7.8"
  },
  "orig_nbformat": 4
 },
 "nbformat": 4,
 "nbformat_minor": 2
}
