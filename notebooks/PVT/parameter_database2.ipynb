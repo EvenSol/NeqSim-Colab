{
  "nbformat": 4,
  "nbformat_minor": 0,
  "metadata": {
    "colab": {
      "provenance": [],
      "include_colab_link": true
    },
    "kernelspec": {
      "name": "python3",
      "display_name": "Python 3"
    },
    "language_info": {
      "name": "python"
    }
  },
  "cells": [
    {
      "cell_type": "markdown",
      "metadata": {
        "id": "view-in-github",
        "colab_type": "text"
      },
      "source": [
        "<a href=\"https://colab.research.google.com/github/EvenSol/NeqSim-Colab/blob/master/notebooks/PVT/parameter_database2.ipynb\" target=\"_parent\"><img src=\"https://colab.research.google.com/assets/colab-badge.svg\" alt=\"Open In Colab\"/></a>"
      ]
    },
    {
      "cell_type": "code",
      "execution_count": 2,
      "metadata": {
        "id": "lgQivEihXFsU"
      },
      "outputs": [],
      "source": [
        "%%capture\n",
        "!pip install neqsim\n",
        "!pip install wget"
      ]
    },
    {
      "cell_type": "markdown",
      "source": [
        "# NeqSim using your own property database\n",
        "\n",
        "In this notebook, we will demonstrate how to utilize your own customized parameter database within the NeqSim thermodynamic framework. This functionality allows you to:\n",
        "\n",
        "* **Extend NeqSim's capabilities:** By incorporating new components and their associated properties, you can model systems beyond the default database.\n",
        "* **Improve accuracy:**  Refine existing component parameters or introduce new interaction parameters to enhance the precision of your simulations.\n",
        "* **Tailor to specific needs:** Create databases tailored to your particular research or industrial applications.\n",
        "\n",
        "We will guide you through the process of:\n",
        "\n",
        "1. Accessing and modifying NeqSim's database tables.\n",
        "2. Adding new components with comprehensive property data.\n",
        "3. Defining interaction parameters for mixtures.\n",
        "4. Updating existing component parameters.\n",
        "5. Using the `Chemicals` package to gather property data for new components.\n",
        "\n",
        "By the end of this notebook, you will have the knowledge to effectively leverage your own property databases within NeqSim, opening up a wider range of thermodynamic modeling possibilities."
      ],
      "metadata": {
        "id": "hydIkIWJrDTl"
      }
    },
    {
      "cell_type": "markdown",
      "source": [
        "# Further reading\n",
        "See:\n",
        "https://colab.research.google.com/github/EvenSol/NeqSim-Colab/blob/master/notebooks/PVT/parameter_database.ipynb\n",
        "\n",
        "\n",
        "and\n",
        "\n",
        "https://colab.research.google.com/github/EvenSol/NeqSim-Colab/blob/master/notebooks/thermodynamics/readproperties.ipynb"
      ],
      "metadata": {
        "id": "YrP1_TaYxZsI"
      }
    },
    {
      "cell_type": "markdown",
      "source": [
        "# NeqSim parameter database\n",
        "NeqSim reads pure and mixture component parmaters from a built in database.\n",
        "\n",
        "The database tables used are stored in this folder:\n",
        "\n",
        "https://github.com/equinor/neqsim/tree/master/src/main/resources/data\n",
        "\n",
        "The two main tables are the COMP.csv file with pure component parameters and the INTER.csv file with the binary interaction parameters.\n",
        "\n",
        "THe other tables are also important but used for various specialized calculations."
      ],
      "metadata": {
        "id": "YUjATP1Hrl_Y"
      }
    },
    {
      "cell_type": "markdown",
      "source": [
        "# Use your own database\n",
        "\n",
        "You can establish your own database table by storing your parameters in a file with the same format as, for example, COMP.csv, and set that table to be used by NeqSim.\n",
        "\n",
        "In the following example, we will show how this can be done.\n",
        "\n",
        "We first download the COMP and INTER tables from GitHub and then rename them to COMP_user and INTER_user. The tables can then be changed or extended by the user. These files should be stored on your local drive and read into neqsim every time you run the program.\n",
        "\n",
        "After this is done, we write the tables back to NeqSim, and the new tables will be used as the basis for calculations."
      ],
      "metadata": {
        "id": "11ilhn60sYn3"
      }
    },
    {
      "cell_type": "code",
      "source": [
        "# we start by downloading the COMP and INTER tables\n",
        "\n",
        "%%capture\n",
        "!wget https://raw.githubusercontent.com/equinor/neqsim/master/src/main/resources/data/COMP.csv\n",
        "!wget https://raw.githubusercontent.com/equinor/neqsim/master/src/main/resources/data/INTER.csv\n",
        "\n",
        "import os\n",
        "\n",
        "# Rename the COMP table\n",
        "os.rename('COMP.csv', 'COMP_user.csv')\n",
        "\n",
        "# Rename the INTER table\n",
        "os.rename('INTER.csv', 'INTER_user.csv')\n",
        "\n",
        "!chmod 644 /content/COMP_user.csv"
      ],
      "metadata": {
        "id": "bVABZ0gvXabI"
      },
      "execution_count": 10,
      "outputs": []
    },
    {
      "cell_type": "markdown",
      "source": [
        "Further, we will modify the tables and add components directly in the csv text file (not done here).\n",
        "\n",
        "We will then write it back to NeqSim by overwriting the COMP or INTER database."
      ],
      "metadata": {
        "id": "C-WAFxputsbM"
      }
    },
    {
      "cell_type": "code",
      "source": [
        "from neqsim import jneqsim as neqsim\n",
        "from neqsim.thermo import TPflash, printFrame\n",
        "\n",
        "# Replace the default 'COMP' table in the NeqSim database with the user-defined 'COMP_user.csv' table\n",
        "# located at '/content/COMP_user.csv'.\n",
        "neqsim.util.database.NeqSimDataBase.replaceTable('COMP', '/content/COMP_user.csv')\n",
        "# Replace the default 'INTER' table in the NeqSim database with the user-defined 'INTER_user.csv' table\n",
        "# located at '/content/INTER_user.csv'.\n",
        "neqsim.util.database.NeqSimDataBase.replaceTable('INTER', '/content/INTER_user.csv')\n",
        "\n",
        "#and then use the new component and table\n",
        "from neqsim.thermo import fluid\n",
        "\n",
        "fluid1 = fluid('srk')\n",
        "fluid1.setTemperature(20.0, 'C')\n",
        "fluid1.setPressure(1.1, 'bara')\n",
        "fluid1.addComponent('methane', 1.0)\n",
        "TPflash(fluid1)\n",
        "printFrame(fluid1)"
      ],
      "metadata": {
        "id": "i5O8WXZKi0D0",
        "outputId": "7c1a9a7e-e2f5-4ef9-c4c3-bd4f2ab845ad",
        "colab": {
          "base_uri": "https://localhost:8080/"
        }
      },
      "execution_count": 24,
      "outputs": [
        {
          "output_type": "stream",
          "name": "stdout",
          "text": [
            "| 0                    | 1         | 2          | 3   | 4   | 5   | 6               |\n",
            "|:---------------------|:----------|:-----------|:----|:----|:----|:----------------|\n",
            "|                      | total     | GAS        |     |     |     |                 |\n",
            "| methane              | 1E0       | 1E0        |     |     |     | [mole fraction] |\n",
            "|                      |           |            |     |     |     |                 |\n",
            "| Density              |           | 7.25498E-1 |     |     |     | kg/m3           |\n",
            "| Phase Fraction       |           | 1E0        |     |     |     | [mole fraction] |\n",
            "| Molar Mass           | 1.6043E-2 | 1.6043E-2  |     |     |     | kg/mol          |\n",
            "| Z factor             |           | 9.97971E-1 |     |     |     | [-]             |\n",
            "| Heat Capacity (Cp)   |           | 2.22537E0  |     |     |     | kJ/kgK          |\n",
            "| Heat Capacity (Cv)   |           | 1.70117E0  |     |     |     | kJ/kgK          |\n",
            "| Speed of Sound       |           | 4.44916E2  |     |     |     | m/sec           |\n",
            "| Enthalpy             | 4.27335E4 | 4.27335E4  |     |     |     | J/kg            |\n",
            "| Entropy              | 1.09571E2 | 1.09571E2  |     |     |     | J/kgK           |\n",
            "| JT coefficient       |           | 4.78464E-1 |     |     |     | C/bar           |\n",
            "|                      |           |            |     |     |     |                 |\n",
            "| Viscosity            |           | 1.10375E-5 |     |     |     | kg/msec         |\n",
            "| Thermal Conductivity |           | 3.41766E-2 |     |     |     | W/mK            |\n",
            "| Surface Tension      |           |            |     |     |     | [N/m]           |\n",
            "|                      |           |            |     |     |     |                 |\n",
            "|                      |           |            |     |     |     |                 |\n",
            "|                      |           |            |     |     |     |                 |\n",
            "| Pressure             |           | 1.1        |     |     |     | bara            |\n",
            "| Temperature          |           | 20.0       |     |     |     | C               |\n",
            "|                      |           |            |     |     |     |                 |\n",
            "| Model                |           | SRK-EOS    |     |     |     | -               |\n",
            "| Mixing Rule          |           | no (kij=0) |     |     |     | -               |\n",
            "|                      |           |            |     |     |     |                 |\n",
            "| Stream               |           |            |     |     |     | -               |\n",
            "|                      |           |            |     |     |     |                 |\n",
            "|                      |           |            |     |     |     |                 |\n",
            "|                      |           |            |     |     |     |                 |\n",
            "|                      |           |            |     |     |     |                 |\n"
          ]
        }
      ]
    },
    {
      "cell_type": "markdown",
      "source": [
        "# Changing parameters from program code\n",
        "THe alternative way of changing parameters in neqsim, is to do it derectly in the program code.\n",
        "\n",
        "We then set parameters like Tc, Pc and ecentric factors directly on the fluid.\n",
        "\n",
        "THis is illustrated in the folloing code."
      ],
      "metadata": {
        "id": "Ept-FelAxREp"
      }
    },
    {
      "cell_type": "code",
      "source": [
        "from neqsim.thermo import fluid, TPflash, printFrame\n",
        "\n",
        "# Create a fluid object using the SRK equation of state\n",
        "fluid1 = fluid('srk')\n",
        "\n",
        "# Add methane to the fluid with a mole fraction of 1.0\n",
        "fluid1.addComponent('methane', 1.0)\n",
        "\n",
        "# Set the fluid temperature and pressure\n",
        "fluid1.setTemperature(20.0, 'C')\n",
        "fluid1.setPressure(1.1, 'bara')\n",
        "\n",
        "for phase_number in range(fluid1.getMaxNumberOfPhases()):\n",
        "  # Get the component (methane) and modify its properties\n",
        "  methane = fluid1.getPhase(phase_number).getComponent('methane')\n",
        "\n",
        "  # Change critical temperature (Tc) to 195.0 K\n",
        "  methane.setTC(195.0, 'K')\n",
        "  # Change critical pressure (Pc) to 50.0 bara\n",
        "  methane.setPC(50.0, 'bara')\n",
        "  # Change acentric factor (omega) to 0.011\n",
        "  methane.setAcentricFactor(0.011)\n",
        "\n",
        "# Perform a two-phase flash calculation on the fluid\n",
        "TPflash(fluid1)\n",
        "\n",
        "# Print the results of the flash calculation in a formatted table\n",
        "printFrame(fluid1)"
      ],
      "metadata": {
        "id": "iV4wiaFbxwF1",
        "outputId": "6763f19a-b025-41ce-dd55-600e7991583d",
        "colab": {
          "base_uri": "https://localhost:8080/"
        }
      },
      "execution_count": 30,
      "outputs": [
        {
          "output_type": "stream",
          "name": "stdout",
          "text": [
            "| 0                    | 1         | 2          | 3   | 4   | 5   | 6               |\n",
            "|:---------------------|:----------|:-----------|:----|:----|:----|:----------------|\n",
            "|                      | total     | GAS        |     |     |     |                 |\n",
            "| methane              | 1E0       | 1E0        |     |     |     | [mole fraction] |\n",
            "|                      |           |            |     |     |     |                 |\n",
            "| Density              |           | 7.25504E-1 |     |     |     | kg/m3           |\n",
            "| Phase Fraction       |           | 1E0        |     |     |     | [mole fraction] |\n",
            "| Molar Mass           | 1.6043E-2 | 1.6043E-2  |     |     |     | kg/mol          |\n",
            "| Z factor             |           | 9.97963E-1 |     |     |     | [-]             |\n",
            "| Heat Capacity (Cp)   |           | 2.22514E0  |     |     |     | kJ/kgK          |\n",
            "| Heat Capacity (Cv)   |           | 1.70112E0  |     |     |     | kJ/kgK          |\n",
            "| Speed of Sound       |           | 4.44896E2  |     |     |     | m/sec           |\n",
            "| Enthalpy             | 4.27575E4 | 4.27575E4  |     |     |     | J/kg            |\n",
            "| Entropy              | 1.09658E2 | 1.09658E2  |     |     |     | J/kgK           |\n",
            "| JT coefficient       |           | 4.68761E-1 |     |     |     | C/bar           |\n",
            "|                      |           |            |     |     |     |                 |\n",
            "| Viscosity            |           | 1.13943E-5 |     |     |     | kg/msec         |\n",
            "| Thermal Conductivity |           | 3.52994E-2 |     |     |     | W/mK            |\n",
            "| Surface Tension      |           |            |     |     |     | [N/m]           |\n",
            "|                      |           |            |     |     |     |                 |\n",
            "|                      |           |            |     |     |     |                 |\n",
            "|                      |           |            |     |     |     |                 |\n",
            "| Pressure             |           | 1.1        |     |     |     | bara            |\n",
            "| Temperature          |           | 20.0       |     |     |     | C               |\n",
            "|                      |           |            |     |     |     |                 |\n",
            "| Model                |           | SRK-EOS    |     |     |     | -               |\n",
            "| Mixing Rule          |           | no (kij=0) |     |     |     | -               |\n",
            "|                      |           |            |     |     |     |                 |\n",
            "| Stream               |           |            |     |     |     | -               |\n",
            "|                      |           |            |     |     |     |                 |\n",
            "|                      |           |            |     |     |     |                 |\n",
            "|                      |           |            |     |     |     |                 |\n",
            "|                      |           |            |     |     |     |                 |\n"
          ]
        }
      ]
    }
  ]
}