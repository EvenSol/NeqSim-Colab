{
  "nbformat": 4,
  "nbformat_minor": 0,
  "metadata": {
    "colab": {
      "provenance": [],
      "include_colab_link": true
    },
    "kernelspec": {
      "name": "python3",
      "display_name": "Python 3"
    },
    "language_info": {
      "name": "python"
    }
  },
  "cells": [
    {
      "cell_type": "markdown",
      "metadata": {
        "id": "view-in-github",
        "colab_type": "text"
      },
      "source": [
        "<a href=\"https://colab.research.google.com/github/EvenSol/NeqSim-Colab/blob/master/notebooks/PVT/parameter_database2.ipynb\" target=\"_parent\"><img src=\"https://colab.research.google.com/assets/colab-badge.svg\" alt=\"Open In Colab\"/></a>"
      ]
    },
    {
      "cell_type": "code",
      "execution_count": null,
      "metadata": {
        "id": "lgQivEihXFsU"
      },
      "outputs": [],
      "source": [
        "%%capture\n",
        "!pip install neqsim\n",
        "!pip install wget"
      ]
    },
    {
      "cell_type": "markdown",
      "source": [
        "# NeqSim using your own property database\n",
        "\n",
        "In this notebook, we demonstrate how to utilize your own customized parameter database within the NeqSim thermodynamic framework. This functionality allows you to:\n",
        "\n",
        "*   **Extend NeqSim's capabilities:** Incorporate new components and associated properties to model systems beyond the default database.\n",
        "*   **Improve accuracy:** Refine existing component parameters or introduce new interaction parameters to enhance the precision of simulations.\n",
        "*   **Tailor to specific needs:** Create databases tailored to your particular research or industrial applications.\n",
        "\n",
        "## Workflow for using a custom property database:\n",
        "\n",
        "### Step 1: Create a User-Specific Parameter Database\n",
        "\n",
        "Create new database files based on the format of the default NeqSim database files. These files typically have a `.csv` extension, such as `COMP_user.csv` for pure component parameters and `INTER_user.csv` for binary interaction parameters.\n",
        "\n",
        "### Step 2: Modify or Extend the Database\n",
        "\n",
        "Add new components, modify existing parameters, and introduce new interaction parameters within the user-specific database files. Here are some examples of common modifications:\n",
        "\n",
        "*   **Adjusting critical properties:** Modify critical temperature (Tc), critical pressure (Pc), and acentric factor (ω) for existing components.\n",
        "*   **Introducing new interaction parameters:** Add binary interaction parameters for component pairs, such as those used in activity coefficient models.\n",
        "*   **Modifying equation of state parameters:** Adjust parameters specific to the equation of state used in your simulations.\n",
        "\n",
        "### Step 3: Replace the Default Database\n",
        "\n",
        "Replace the default NeqSim database with your custom database using the `neqsim.util.database.NeqSimDataBase.replaceTable` function. Here's an example code snippet:"
      ],
      "metadata": {
        "id": "hydIkIWJrDTl"
      }
    },
    {
      "cell_type": "markdown",
      "source": [
        "# Further reading\n",
        "See:\n",
        "https://colab.research.google.com/github/EvenSol/NeqSim-Colab/blob/master/notebooks/PVT/parameter_database.ipynb\n",
        "\n",
        "\n",
        "and\n",
        "\n",
        "https://colab.research.google.com/github/EvenSol/NeqSim-Colab/blob/master/notebooks/thermodynamics/readproperties.ipynb\n",
        "\n",
        "and\n",
        "\n",
        "https://github.com/equinor/neqsim-parameterfitting"
      ],
      "metadata": {
        "id": "YrP1_TaYxZsI"
      }
    },
    {
      "cell_type": "markdown",
      "source": [
        "# NeqSim parameter database\n",
        "NeqSim reads pure and mixture component parmaters from a built in database.\n",
        "\n",
        "The database tables used are stored in this folder:\n",
        "\n",
        "https://github.com/equinor/neqsim/tree/master/src/main/resources/data\n",
        "\n",
        "The two main tables are the COMP.csv file with pure component parameters and the INTER.csv file with the binary interaction parameters.\n",
        "\n",
        "THe other tables are also important but used for various specialized calculations."
      ],
      "metadata": {
        "id": "YUjATP1Hrl_Y"
      }
    },
    {
      "cell_type": "markdown",
      "source": [
        "# Use your own parameter database\n",
        "\n",
        "You can establish your own database table by storing your parameters in a file with the same format as, for example, COMP.csv, and set that table to be used by NeqSim.\n",
        "\n",
        "In the following example, we will show how this can be done.\n",
        "\n",
        "We first download the COMP and INTER tables from GitHub and then rename them to COMP_user and INTER_user. The tables can then be changed or extended by the user. These files should be stored on your local drive and read into neqsim every time you run the program.\n",
        "\n",
        "After this is done, we write the tables back to NeqSim, and the new tables will be used as the basis for calculations."
      ],
      "metadata": {
        "id": "11ilhn60sYn3"
      }
    },
    {
      "cell_type": "code",
      "source": [
        "# we start by downloading the COMP and INTER tables\n",
        "\n",
        "%%capture\n",
        "!wget https://raw.githubusercontent.com/equinor/neqsim/master/src/main/resources/data/COMP.csv\n",
        "!wget https://raw.githubusercontent.com/equinor/neqsim/master/src/main/resources/data/INTER.csv\n",
        "\n",
        "import os\n",
        "\n",
        "# Rename the COMP table\n",
        "os.rename('COMP.csv', 'COMP_user.csv')\n",
        "\n",
        "# Rename the INTER table\n",
        "os.rename('INTER.csv', 'INTER_user.csv')\n",
        "\n",
        "!chmod 644 /content/COMP_user.csv"
      ],
      "metadata": {
        "id": "bVABZ0gvXabI"
      },
      "execution_count": null,
      "outputs": []
    },
    {
      "cell_type": "markdown",
      "source": [
        "Further, we will modify the tables and add components directly in the csv text file (not done here).\n",
        "\n",
        "We will then write it back to NeqSim by overwriting the COMP or INTER database."
      ],
      "metadata": {
        "id": "C-WAFxputsbM"
      }
    },
    {
      "cell_type": "code",
      "source": [
        "from neqsim import jneqsim as neqsim\n",
        "from neqsim.thermo import TPflash, printFrame\n",
        "\n",
        "# Replace the default 'COMP' table in the NeqSim database with the user-defined 'COMP_user.csv' table\n",
        "# located at '/content/COMP_user.csv'.\n",
        "neqsim.util.database.NeqSimDataBase.replaceTable('COMP', '/content/COMP_user.csv')\n",
        "# Replace the default 'INTER' table in the NeqSim database with the user-defined 'INTER_user.csv' table\n",
        "# located at '/content/INTER_user.csv'.\n",
        "neqsim.util.database.NeqSimDataBase.replaceTable('INTER', '/content/INTER_user.csv')\n",
        "\n",
        "#and then use the new component and table\n",
        "from neqsim.thermo import fluid\n",
        "\n",
        "fluid1 = fluid('srk')\n",
        "fluid1.setTemperature(20.0, 'C')\n",
        "fluid1.setPressure(1.1, 'bara')\n",
        "fluid1.addComponent('methane', 1.0)\n",
        "TPflash(fluid1)\n",
        "printFrame(fluid1)"
      ],
      "metadata": {
        "id": "i5O8WXZKi0D0",
        "outputId": "fe77c90e-a2ee-488d-870d-a1019db6b75f",
        "colab": {
          "base_uri": "https://localhost:8080/"
        }
      },
      "execution_count": null,
      "outputs": [
        {
          "output_type": "stream",
          "name": "stdout",
          "text": [
            "| 0                    | 1         | 2          | 3   | 4   | 5   | 6               |\n",
            "|:---------------------|:----------|:-----------|:----|:----|:----|:----------------|\n",
            "|                      | total     | GAS        |     |     |     |                 |\n",
            "| methane              | 1E0       | 1E0        |     |     |     | [mole fraction] |\n",
            "|                      |           |            |     |     |     |                 |\n",
            "| Density              |           | 7.25498E-1 |     |     |     | kg/m3           |\n",
            "| Phase Fraction       |           | 1E0        |     |     |     | [mole fraction] |\n",
            "| Molar Mass           | 1.6043E-2 | 1.6043E-2  |     |     |     | kg/mol          |\n",
            "| Z factor             |           | 9.97971E-1 |     |     |     | [-]             |\n",
            "| Heat Capacity (Cp)   |           | 2.22537E0  |     |     |     | kJ/kgK          |\n",
            "| Heat Capacity (Cv)   |           | 1.70117E0  |     |     |     | kJ/kgK          |\n",
            "| Speed of Sound       |           | 4.44916E2  |     |     |     | m/sec           |\n",
            "| Enthalpy             | 4.27335E4 | 4.27335E4  |     |     |     | J/kg            |\n",
            "| Entropy              | 1.09571E2 | 1.09571E2  |     |     |     | J/kgK           |\n",
            "| JT coefficient       |           | 4.78464E-1 |     |     |     | C/bar           |\n",
            "|                      |           |            |     |     |     |                 |\n",
            "| Viscosity            |           | 1.10375E-5 |     |     |     | kg/msec         |\n",
            "| Thermal Conductivity |           | 3.41766E-2 |     |     |     | W/mK            |\n",
            "| Surface Tension      |           |            |     |     |     | [N/m]           |\n",
            "|                      |           |            |     |     |     |                 |\n",
            "|                      |           |            |     |     |     |                 |\n",
            "|                      |           |            |     |     |     |                 |\n",
            "| Pressure             |           | 1.1        |     |     |     | bara            |\n",
            "| Temperature          |           | 20.0       |     |     |     | C               |\n",
            "|                      |           |            |     |     |     |                 |\n",
            "| Model                |           | SRK-EOS    |     |     |     | -               |\n",
            "| Mixing Rule          |           | no (kij=0) |     |     |     | -               |\n",
            "|                      |           |            |     |     |     |                 |\n",
            "| Stream               |           |            |     |     |     | -               |\n",
            "|                      |           |            |     |     |     |                 |\n",
            "|                      |           |            |     |     |     |                 |\n",
            "|                      |           |            |     |     |     |                 |\n",
            "|                      |           |            |     |     |     |                 |\n"
          ]
        }
      ]
    },
    {
      "cell_type": "markdown",
      "source": [
        "## Modifying Parameters Directly in Program Code\n",
        "\n",
        "NeqSim provides the flexibility to modify component parameters directly within your program code. This approach allows for dynamic adjustments during simulations, offering greater control over the thermodynamic properties of your system.\n",
        "\n",
        "Instead of relying on external database files, you can set parameters like critical temperature (Tc), critical pressure (Pc), and acentric factor directly on the fluid object using NeqSim's API.\n",
        "\n",
        "See:\n",
        "\n",
        "https://colab.research.google.com/github/EvenSol/NeqSim-Colab/blob/master/notebooks/thermodynamics/readproperties.ipynb\n",
        "\n",
        "Also see:\n",
        "\n",
        "https://github.com/equinor/neqsim-parameterfitting\n",
        "\n",
        "**Benefits of In-Code Parameter Modification:**\n",
        "\n",
        "*   **Dynamic Adjustments:** Change parameters during runtime based on simulation conditions or specific requirements.\n",
        "*   **Flexibility and Control:** Fine-tune component properties without modifying external files.\n",
        "*   **Enhanced Customization:** Implement custom property calculations or correlations directly within your code.\n",
        "\n",
        "**Example:**"
      ],
      "metadata": {
        "id": "Ept-FelAxREp"
      }
    },
    {
      "cell_type": "code",
      "source": [
        "from neqsim.thermo import fluid, TPflash, printFrame\n",
        "\n",
        "# Create a fluid object using the SRK equation of state\n",
        "fluid1 = fluid('srk')\n",
        "\n",
        "# Add methane to the fluid with a mole fraction of 1.0\n",
        "fluid1.addComponent('methane', 1.0)\n",
        "\n",
        "# Set the fluid temperature and pressure\n",
        "fluid1.setTemperature(20.0, 'C')\n",
        "fluid1.setPressure(1.1, 'bara')\n",
        "\n",
        "for phase_number in range(fluid1.getMaxNumberOfPhases()):\n",
        "  # Get the component (methane) and modify its properties\n",
        "  methane = fluid1.getPhase(phase_number).getComponent('methane')\n",
        "\n",
        "  # Change critical temperature (Tc) to 195.0 K\n",
        "  methane.setTC(190.56, 'K')\n",
        "  # Change critical pressure (Pc) to 50.0 bara\n",
        "  methane.setPC(45.992, 'bara')\n",
        "  # Change acentric factor (omega) to 0.011\n",
        "  methane.setAcentricFactor(0.011)\n",
        "  # Change molar mass\n",
        "  methane.setMolarMass(16.04, 'gr/mol')\n",
        "\n",
        "# Perform a two-phase flash calculation on the fluid\n",
        "TPflash(fluid1)\n",
        "\n",
        "# Print the results of the flash calculation in a formatted table\n",
        "printFrame(fluid1)"
      ],
      "metadata": {
        "id": "iV4wiaFbxwF1",
        "outputId": "9dc8f44b-33d3-4c49-df69-22ceef42cf55",
        "colab": {
          "base_uri": "https://localhost:8080/"
        }
      },
      "execution_count": null,
      "outputs": [
        {
          "output_type": "stream",
          "name": "stdout",
          "text": [
            "| 0                    | 1         | 2          | 3   | 4   | 5   | 6               |\n",
            "|:---------------------|:----------|:-----------|:----|:----|:----|:----------------|\n",
            "|                      | total     | GAS        |     |     |     |                 |\n",
            "| methane              | 1E0       | 1E0        |     |     |     | [mole fraction] |\n",
            "|                      |           |            |     |     |     |                 |\n",
            "| Density              |           | 7.25364E-1 |     |     |     | kg/m3           |\n",
            "| Phase Fraction       |           | 1E0        |     |     |     | [mole fraction] |\n",
            "| Molar Mass           | 1.604E-2  | 1.604E-2   |     |     |     | kg/mol          |\n",
            "| Z factor             |           | 9.97969E-1 |     |     |     | [-]             |\n",
            "| Heat Capacity (Cp)   |           | 2.22578E0  |     |     |     | kJ/kgK          |\n",
            "| Heat Capacity (Cv)   |           | 1.70149E0  |     |     |     | kJ/kgK          |\n",
            "| Speed of Sound       |           | 4.44957E2  |     |     |     | m/sec           |\n",
            "| Enthalpy             | 4.27416E4 | 4.27416E4  |     |     |     | J/kg            |\n",
            "| Entropy              | 1.09593E2 | 1.09593E2  |     |     |     | J/kgK           |\n",
            "| JT coefficient       |           | 4.78425E-1 |     |     |     | C/bar           |\n",
            "|                      |           |            |     |     |     |                 |\n",
            "| Viscosity            |           | 1.10368E-5 |     |     |     | kg/msec         |\n",
            "| Thermal Conductivity |           | 3.41808E-2 |     |     |     | W/mK            |\n",
            "| Surface Tension      |           |            |     |     |     | [N/m]           |\n",
            "|                      |           |            |     |     |     |                 |\n",
            "|                      |           |            |     |     |     |                 |\n",
            "|                      |           |            |     |     |     |                 |\n",
            "| Pressure             |           | 1.1        |     |     |     | bara            |\n",
            "| Temperature          |           | 20.0       |     |     |     | C               |\n",
            "|                      |           |            |     |     |     |                 |\n",
            "| Model                |           | SRK-EOS    |     |     |     | -               |\n",
            "| Mixing Rule          |           | no (kij=0) |     |     |     | -               |\n",
            "|                      |           |            |     |     |     |                 |\n",
            "| Stream               |           |            |     |     |     | -               |\n",
            "|                      |           |            |     |     |     |                 |\n",
            "|                      |           |            |     |     |     |                 |\n",
            "|                      |           |            |     |     |     |                 |\n",
            "|                      |           |            |     |     |     |                 |\n"
          ]
        }
      ]
    }
  ]
}