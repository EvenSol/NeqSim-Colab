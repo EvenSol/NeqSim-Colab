{
 "nbformat": 4,
 "nbformat_minor": 0,
 "metadata": {
  "kernelspec": {
   "name": "python3",
   "display_name": "Python 3"
  },
  "language_info": {
   "name": "python"
  }
 },
 "cells": [
  {
   "cell_type": "markdown",
   "metadata": {
    "id": "view-in-github",
    "colab_type": "text"
   },
   "source": [
    "<a href=\"https://colab.research.google.com/github/EvenSol/NeqSim-Colab/blob/master/notebooks/energyopt/PyPSA_Norway_Atlite_PPM.ipynb\" target=\"_parent\"><img src=\"https://colab.research.google.com/assets/colab-badge.svg\" alt=\"Open In Colab\"/></a>"
   ]
  },
  {
   "cell_type": "markdown",
   "metadata": {},
   "source": [
    "# PyPSA Norge med Atlite og Powerplantmatching",
    "Dette eksemplet viser hvordan du kan sette opp et enkelt PyPSA-nettverk for Norge i Google Colab.",
    "Vi henter v\u00e6rdata fra **atlite** og kraftverksdata fra **powerplantmatching**. Nettverksdata kan lastes ned fra NVE eller ENTSO-E og leses inn med `geopandas`.",
    ""
   ]
  },
  {
   "cell_type": "code",
   "metadata": {},
   "execution_count": null,
   "outputs": [],
   "source": [
    "!pip install pypsa atlite powerplantmatching geopandas"
   ]
  },
  {
   "cell_type": "code",
   "metadata": {},
   "execution_count": null,
   "outputs": [],
   "source": [
    "import atlite\n",
    "cutout = atlite.Cutout('norway', module='era5', x=slice(4, 12), y=slice(57, 71), time='2021')\n",
    "# Dette vil laste ned ERA5 data (kan ta litt tid)\n",
    "cutout.prepare()"
   ]
  },
  {
   "cell_type": "code",
   "metadata": {},
   "execution_count": null,
   "outputs": [],
   "source": [
    "from powerplantmatching import DataPortal\n",
    "ppm = DataPortal.fetch('powerplantmatching')\n",
    "plants_no = ppm.get_powerplants(country='Norway')\n",
    "print(plants_no[['Name', 'Fueltype', 'Capacity']].head())"
   ]
  },
  {
   "cell_type": "markdown",
   "metadata": {},
   "source": [
    "## Nettverksdata\n",
    "Du kan hente inn transmisjonslinjer fra NVE sitt [\u00e5pne datalager](https://www.nve.no/energi/kraftsystemet/nettanlegg/) eller ENTSO-E. Filene kan leses med `geopandas` slik:\n"
   ]
  },
  {
   "cell_type": "code",
   "metadata": {},
   "execution_count": null,
   "outputs": [],
   "source": [
    "import geopandas as gpd\n",
    "# Example: gpd.read_file('path_to/NVE_Nettanlegg.shp')"
   ]
  },
  {
   "cell_type": "code",
   "metadata": {},
   "execution_count": null,
   "outputs": [],
   "source": [
    "import pypsa\n",
    "\n",
    "network = pypsa.Network()\n",
    "\n",
    "# Legg til en buss for eksempelvis Oslo\n",
    "network.add('Bus', 'Oslo')\n",
    "# Legg til en generator med produksjonsprofil fra atlite-cutouten\n",
    "profile = cutout.wind(turbine='Vestas_V90_3MW', panel=None)\n",
    "network.add('Generator', 'WindFarm', bus='Oslo', p_nom=10, p_max_pu=profile)\n",
    "\n",
    "network.snapshots = profile.index\n",
    "print(network)"
   ]
  }
 ]
}