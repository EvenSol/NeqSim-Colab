{
  "cells": [
    {
      "cell_type": "markdown",
      "metadata": {
        "id": "view-in-github",
        "colab_type": "text"
      },
      "source": [
        "<a href=\"https://colab.research.google.com/github/EvenSol/NeqSim-Colab/blob/master/notebooks/energyopt/PyPSA-Earth_Norway.ipynb\" target=\"_parent\"><img src=\"https://colab.research.google.com/assets/colab-badge.svg\" alt=\"Open In Colab\"/></a>"
      ]
    },
    {
      "cell_type": "markdown",
      "metadata": {
        "id": "Z1Bab60kporu"
      },
      "source": [
        "# PyPSA-Earth Example: Norway\n",
        "This notebook shows the basic steps for running [PyPSA-Earth](https://github.com/pypsa/pypsa-earth) for Norway.\n",
        "The full workflow downloads open energy and geographic data to build a PyPSA model.\n",
        "\n",
        "See:\n",
        "https://nmbu.brage.unit.no/nmbu-xmlui/handle/11250/3188543\n"
      ]
    },
    {
      "cell_type": "markdown",
      "metadata": {
        "id": "IMEIDD7-porz"
      },
      "source": [
        "## Background\n",
        "Norway's electricity system is mainly based on hydropower, providing a large share of renewable generation.\n",
        "The country also has significant potential for offshore wind and increasing electrification of industry and transport.\n",
        "Energy system models help explore how these resources can meet future demand while integrating with the Nordic and European power grid.\n"
      ]
    },
    {
      "cell_type": "markdown",
      "metadata": {
        "id": "_Rj4iUQFporz"
      },
      "source": [
        "## Energy system modelling theory\n",
        "In an energy system model each node represents a bus such as a geographical region or voltage level, while generators, storage units and transmission lines represent the physical infrastructure.\n",
        "PyPSA-Earth automates the creation of such a model by pulling publicly available data from sources like OpenStreetMap,\n",
        "ENTSO-E statistics and reanalysis weather datasets. The resulting PyPSA network can be used for power flow studies or for optimisation of investment and dispatch.\n"
      ]
    },
    {
      "cell_type": "markdown",
      "metadata": {
        "id": "b7Yx5w5-por0"
      },
      "source": [
        "## Install dependencies\n",
        "PyPSA-Earth is available from PyPI and installs PyPSA and other required packages."
      ]
    },
    {
      "cell_type": "code",
      "metadata": {
        "id": "UkdSuO1vpor0",
        "outputId": "bd0e0cfe-e360-4a44-be54-b627fd99f9da",
        "colab": {
          "base_uri": "https://localhost:8080/"
        }
      },
      "source": [
        "!git clone https://github.com/pypsa-meets-earth/pypsa-earth.git\n",
        "!cd pypsa-earth"
      ],
      "execution_count": null,
      "outputs": [
        {
          "output_type": "stream",
          "name": "stdout",
          "text": [
            "Cloning into 'pypsa-earth'...\n",
            "remote: Enumerating objects: 27624, done.\u001b[K\n",
            "remote: Counting objects: 100% (54/54), done.\u001b[K\n",
            "remote: Compressing objects: 100% (29/29), done.\u001b[K\n",
            "remote: Total 27624 (delta 33), reused 30 (delta 25), pack-reused 27570 (from 2)\u001b[K\n",
            "Receiving objects: 100% (27624/27624), 30.13 MiB | 21.49 MiB/s, done.\n",
            "Resolving deltas: 100% (20387/20387), done.\n"
          ]
        }
      ]
    },
    {
      "cell_type": "markdown",
      "metadata": {
        "id": "BIOlhHawpor1"
      },
      "source": [
        "## Create configuration for Norway\n",
        "The snippet below writes a minimal YAML configuration that restricts the model to Norway."
      ]
    },
    {
      "cell_type": "code",
      "metadata": {
        "id": "HtBYbZICpor2"
      },
      "source": [
        "import yaml, os\n",
        "os.makedirs('config', exist_ok=True)\n",
        "config = {\n",
        "    'country': 'Norway',\n",
        "    'countries': ['NOR'],  # ISO 3166-1 alpha-3 code\n",
        "    'cutouts': {'module': 'cutout:country', 'opts': {'countries': ['NOR']}},\n",
        "}\n",
        "with open('config/config.yaml', 'w') as f:\n",
        "    yaml.dump(config, f)\n",
        "print(open('config/config.yaml').read())"
      ],
      "execution_count": null,
      "outputs": []
    },
    {
      "cell_type": "markdown",
      "metadata": {
        "id": "nO07IYazpor2"
      },
      "source": [
        "## Run PyPSA-Earth\n",
        "This command launches the Snakemake pipeline to build the Norwegian energy system model."
      ]
    },
    {
      "cell_type": "code",
      "metadata": {
        "id": "45nKRn5Cpor2"
      },
      "source": [
        "!pypsa-earth -c config/config.yaml"
      ],
      "execution_count": null,
      "outputs": []
    },
    {
      "cell_type": "markdown",
      "metadata": {
        "id": "DbalOD0Cpor3"
      },
      "source": [
        "### Norwegian scenarios\n",
        "With the generated network you can investigate questions such as:\n",
        "* how new interconnectors affect power exchanges with neighbouring countries,\n",
        "* the role of offshore wind in replacing fossil fuel use, and\n",
        "* how storage or demand-side flexibility can balance variable renewables.\n"
      ]
    },
    {
      "cell_type": "markdown",
      "metadata": {
        "id": "ULHfwlRwpor3"
      },
      "source": [
        "## Next steps\n",
        "After the pipeline finishes, the resulting PyPSA network files will be stored in the `results` directory and can be analysed with PyPSA."
      ]
    },
    {
      "cell_type": "markdown",
      "source": [
        "Theory\n",
        "Electrifying offshore fields allows operators to replace onboard generation from gas turbines with mainland electricity, reducing greenhouse gas emissions and improving efficiency. In network studies PyPSA-Earth represents onshore and offshore locations as buses connected via high-voltage links. The optimal power flow determines whether the grid can supply the new demand without violating transmission constraints.\n",
        "\n",
        "Grid capacity and potential bottlenecks\n",
        "Norway's electricity grid is generally robust but congested corridors exist, especially in the western region with large industrial consumers. Adding 100 MW of demand offshore requires checking if the relevant onshore connection point has spare capacity. In the notebook we run an optimal power flow to verify transmission constraints are respected. If the OPF shows congestion, reinforcing the grid or adding local generation might be necessary."
      ],
      "metadata": {
        "id": "1mLY6VFm03RV"
      }
    }
  ],
  "metadata": {
    "kernelspec": {
      "display_name": "Python 3",
      "language": "python",
      "name": "python3"
    },
    "language_info": {
      "name": "python",
      "version": "3.x"
    },
    "colab": {
      "provenance": [],
      "include_colab_link": true
    }
  },
  "nbformat": 4,
  "nbformat_minor": 0
}