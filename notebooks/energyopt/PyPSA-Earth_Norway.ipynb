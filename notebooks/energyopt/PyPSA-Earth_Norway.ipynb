{
 "cells": [
  {
   "cell_type": "markdown",
   "metadata": {
    "id": "view-in-github",
    "colab_type": "text"
   },
   "source": [
    "<a href=\"https://colab.research.google.com/github/EvenSol/NeqSim-Colab/blob/master/notebooks/energyopt/PyPSA-Earth_Norway.ipynb\" target=\"_parent\"><img src=\"https://colab.research.google.com/assets/colab-badge.svg\" alt=\"Open In Colab\"/></a>"
   ]
  },
  {
   "cell_type": "markdown",
   "metadata": {},
   "source": [
    "# PyPSA-Earth Example: Norway\n",
    "This notebook shows the basic steps for running [PyPSA-Earth](https://github.com/pypsa/pypsa-earth) for Norway.\n",
    "The full workflow downloads open energy and geographic data to build a PyPSA model.\n"
   ]
  },
  {
   "cell_type": "markdown",
   "metadata": {},
   "source": [
    "## Background\n",
    "Norway's electricity system is mainly based on hydropower, providing a large share of renewable generation.\n",
    "The country also has significant potential for offshore wind and increasing electrification of industry and transport.\n",
    "Energy system models help explore how these resources can meet future demand while integrating with the Nordic and European power grid.\n"
   ]
  },
  {
   "cell_type": "markdown",
   "metadata": {},
   "source": [
    "## Energy system modelling theory\n",
    "In an energy system model each node represents a bus such as a geographical region or voltage level, while generators, storage units and transmission lines represent the physical infrastructure.\n",
    "PyPSA-Earth automates the creation of such a model by pulling publicly available data from sources like OpenStreetMap,\n",
    "ENTSO-E statistics and reanalysis weather datasets. The resulting PyPSA network can be used for power flow studies or for optimisation of investment and dispatch.\n"
   ]
  },
  {
   "cell_type": "markdown",
   "metadata": {},
   "source": [
    "## Install dependencies\n",
    "PyPSA-Earth is available from PyPI and installs PyPSA and other required packages."
   ]
  },
  {
   "cell_type": "code",
   "metadata": {},
   "source": [
    "!pip install pypsa-earth"
   ],
   "execution_count": null,
   "outputs": []
  },
  {
   "cell_type": "markdown",
   "metadata": {},
   "source": [
    "## Create configuration for Norway\n",
    "The snippet below writes a minimal YAML configuration that restricts the model to Norway."
   ]
  },
  {
   "cell_type": "code",
   "metadata": {},
   "source": [
    "import yaml, os\n",
    "os.makedirs('config', exist_ok=True)\n",
    "config = {\n",
    "    'country': 'Norway',\n",
    "    'countries': ['NOR'],  # ISO 3166-1 alpha-3 code\n",
    "    'cutouts': {'module': 'cutout:country', 'opts': {'countries': ['NOR']}},\n",
    "}\n",
    "with open('config/config.yaml', 'w') as f:\n",
    "    yaml.dump(config, f)\n",
    "print(open('config/config.yaml').read())"
   ],
   "execution_count": null,
   "outputs": []
  },
  {
   "cell_type": "markdown",
   "metadata": {},
   "source": [
    "## Run PyPSA-Earth\n",
    "This command launches the Snakemake pipeline to build the Norwegian energy system model."
   ]
  },
  {
   "cell_type": "code",
   "metadata": {},
   "source": [
    "!pypsa-earth -c config/config.yaml"
   ],
   "execution_count": null,
   "outputs": []
  },
  {
   "cell_type": "markdown",
   "metadata": {},
   "source": [
    "### Norwegian scenarios\n",
    "With the generated network you can investigate questions such as:\n",
    "* how new interconnectors affect power exchanges with neighbouring countries,\n",
    "* the role of offshore wind in replacing fossil fuel use, and\n",
    "* how storage or demand-side flexibility can balance variable renewables.\n"
   ]
  },
  {
   "cell_type": "markdown",
   "metadata": {},
   "source": [
    "## Next steps\n",
    "After the pipeline finishes, the resulting PyPSA network files will be stored in the `results` directory and can be analysed with PyPSA."
   ]
  }
 ],
 "metadata": {
  "kernelspec": {
   "display_name": "Python 3",
   "language": "python",
   "name": "python3"
  },
  "language_info": {
   "name": "python",
   "version": "3.x"
  }
 },
 "nbformat": 4,
 "nbformat_minor": 2
}