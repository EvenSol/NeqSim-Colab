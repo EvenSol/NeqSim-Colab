{
  "nbformat": 4,
  "nbformat_minor": 0,
  "metadata": {
    "colab": {
      "name": "ThermalEnergyAndNeqSim.ipynb",
      "provenance": [],
      "authorship_tag": "ABX9TyPg80qMRP/QXoYwNx8mDGeP",
      "include_colab_link": true
    },
    "kernelspec": {
      "name": "python3",
      "display_name": "Python 3"
    },
    "language_info": {
      "name": "python"
    }
  },
  "cells": [
    {
      "cell_type": "markdown",
      "metadata": {
        "id": "view-in-github",
        "colab_type": "text"
      },
      "source": [
        "<a href=\"https://colab.research.google.com/github/EvenSol/NeqSim-Colab/blob/master/notebooks/energyopt/ThermalEnergyAndNeqSim.ipynb\" target=\"_parent\"><img src=\"https://colab.research.google.com/assets/colab-badge.svg\" alt=\"Open In Colab\"/></a>"
      ]
    },
    {
      "cell_type": "markdown",
      "source": [
        "# Introduction to TESPy and NeqSim interacations\n",
        "We start by installing the TESTpy and neqsim python packages.\n",
        "\n",
        "See: https://tespy.readthedocs.io/en/main/first_steps.html\n"
      ],
      "metadata": {
        "id": "w3sJsMEgP3o2"
      }
    },
    {
      "cell_type": "code",
      "source": [
        "!pip install tespy\n",
        "!pip install neqsim"
      ],
      "metadata": {
        "colab": {
          "base_uri": "https://localhost:8080/"
        },
        "id": "bIlZSAYnP_23",
        "outputId": "fbe13b34-6952-4ba9-d3c6-78ee3add8c35"
      },
      "execution_count": 2,
      "outputs": [
        {
          "output_type": "stream",
          "name": "stdout",
          "text": [
            "Collecting tespy\n",
            "  Downloading TESPy-0.5.1-py2.py3-none-any.whl (221 kB)\n",
            "\u001b[?25l\r\u001b[K     |█▌                              | 10 kB 19.0 MB/s eta 0:00:01\r\u001b[K     |███                             | 20 kB 26.3 MB/s eta 0:00:01\r\u001b[K     |████▍                           | 30 kB 32.6 MB/s eta 0:00:01\r\u001b[K     |██████                          | 40 kB 18.9 MB/s eta 0:00:01\r\u001b[K     |███████▍                        | 51 kB 13.4 MB/s eta 0:00:01\r\u001b[K     |████████▉                       | 61 kB 15.2 MB/s eta 0:00:01\r\u001b[K     |██████████▍                     | 71 kB 14.4 MB/s eta 0:00:01\r\u001b[K     |███████████▉                    | 81 kB 12.5 MB/s eta 0:00:01\r\u001b[K     |█████████████▎                  | 92 kB 13.7 MB/s eta 0:00:01\r\u001b[K     |██████████████▉                 | 102 kB 14.7 MB/s eta 0:00:01\r\u001b[K     |████████████████▎               | 112 kB 14.7 MB/s eta 0:00:01\r\u001b[K     |█████████████████▊              | 122 kB 14.7 MB/s eta 0:00:01\r\u001b[K     |███████████████████▏            | 133 kB 14.7 MB/s eta 0:00:01\r\u001b[K     |████████████████████▊           | 143 kB 14.7 MB/s eta 0:00:01\r\u001b[K     |██████████████████████▏         | 153 kB 14.7 MB/s eta 0:00:01\r\u001b[K     |███████████████████████▋        | 163 kB 14.7 MB/s eta 0:00:01\r\u001b[K     |█████████████████████████▏      | 174 kB 14.7 MB/s eta 0:00:01\r\u001b[K     |██████████████████████████▋     | 184 kB 14.7 MB/s eta 0:00:01\r\u001b[K     |████████████████████████████    | 194 kB 14.7 MB/s eta 0:00:01\r\u001b[K     |█████████████████████████████▋  | 204 kB 14.7 MB/s eta 0:00:01\r\u001b[K     |███████████████████████████████ | 215 kB 14.7 MB/s eta 0:00:01\r\u001b[K     |████████████████████████████████| 221 kB 14.7 MB/s \n",
            "\u001b[?25hRequirement already satisfied: matplotlib<4,>=3.2.1 in /usr/local/lib/python3.7/dist-packages (from tespy) (3.2.2)\n",
            "Requirement already satisfied: tabulate<0.9,>=0.8.2 in /usr/local/lib/python3.7/dist-packages (from tespy) (0.8.9)\n",
            "Requirement already satisfied: pandas<2,>=1.3.0 in /usr/local/lib/python3.7/dist-packages (from tespy) (1.3.5)\n",
            "Requirement already satisfied: numpy<2,>=1.13.3 in /usr/local/lib/python3.7/dist-packages (from tespy) (1.21.5)\n",
            "Requirement already satisfied: scipy<2,>=0.19.1 in /usr/local/lib/python3.7/dist-packages (from tespy) (1.4.1)\n",
            "Collecting CoolProp<7,>=6.4\n",
            "  Downloading CoolProp-6.4.1-cp37-cp37m-manylinux1_x86_64.whl (4.2 MB)\n",
            "\u001b[K     |████████████████████████████████| 4.2 MB 54.8 MB/s \n",
            "\u001b[?25hRequirement already satisfied: python-dateutil>=2.1 in /usr/local/lib/python3.7/dist-packages (from matplotlib<4,>=3.2.1->tespy) (2.8.2)\n",
            "Requirement already satisfied: kiwisolver>=1.0.1 in /usr/local/lib/python3.7/dist-packages (from matplotlib<4,>=3.2.1->tespy) (1.4.0)\n",
            "Requirement already satisfied: pyparsing!=2.0.4,!=2.1.2,!=2.1.6,>=2.0.1 in /usr/local/lib/python3.7/dist-packages (from matplotlib<4,>=3.2.1->tespy) (3.0.7)\n",
            "Requirement already satisfied: cycler>=0.10 in /usr/local/lib/python3.7/dist-packages (from matplotlib<4,>=3.2.1->tespy) (0.11.0)\n",
            "Requirement already satisfied: typing-extensions in /usr/local/lib/python3.7/dist-packages (from kiwisolver>=1.0.1->matplotlib<4,>=3.2.1->tespy) (3.10.0.2)\n",
            "Requirement already satisfied: pytz>=2017.3 in /usr/local/lib/python3.7/dist-packages (from pandas<2,>=1.3.0->tespy) (2018.9)\n",
            "Requirement already satisfied: six>=1.5 in /usr/local/lib/python3.7/dist-packages (from python-dateutil>=2.1->matplotlib<4,>=3.2.1->tespy) (1.15.0)\n",
            "Installing collected packages: CoolProp, tespy\n",
            "Successfully installed CoolProp-6.4.1 tespy-0.5.1\n",
            "Collecting neqsim\n",
            "  Downloading neqsim-2.3.21-py3-none-any.whl (31.9 MB)\n",
            "\u001b[K     |████████████████████████████████| 31.9 MB 1.2 MB/s \n",
            "\u001b[?25hRequirement already satisfied: pandas in /usr/local/lib/python3.7/dist-packages (from neqsim) (1.3.5)\n",
            "Collecting jpype1\n",
            "  Downloading JPype1-1.3.0-cp37-cp37m-manylinux_2_5_x86_64.manylinux1_x86_64.whl (448 kB)\n",
            "\u001b[K     |████████████████████████████████| 448 kB 49.7 MB/s \n",
            "\u001b[?25hRequirement already satisfied: typing-extensions in /usr/local/lib/python3.7/dist-packages (from jpype1->neqsim) (3.10.0.2)\n",
            "Requirement already satisfied: python-dateutil>=2.7.3 in /usr/local/lib/python3.7/dist-packages (from pandas->neqsim) (2.8.2)\n",
            "Requirement already satisfied: numpy>=1.17.3 in /usr/local/lib/python3.7/dist-packages (from pandas->neqsim) (1.21.5)\n",
            "Requirement already satisfied: pytz>=2017.3 in /usr/local/lib/python3.7/dist-packages (from pandas->neqsim) (2018.9)\n",
            "Requirement already satisfied: six>=1.5 in /usr/local/lib/python3.7/dist-packages (from python-dateutil>=2.7.3->pandas->neqsim) (1.15.0)\n",
            "Installing collected packages: jpype1, neqsim\n",
            "Successfully installed jpype1-1.3.0 neqsim-2.3.21\n"
          ]
        }
      ]
    },
    {
      "cell_type": "code",
      "execution_count": 3,
      "metadata": {
        "id": "ROY7d7ZTPySw"
      },
      "outputs": [],
      "source": [
        "from tespy.networks import Network\n",
        "\n",
        "# create a network object with water as fluid\n",
        "fluid_list = ['water']\n",
        "my_plant = Network(fluids=fluid_list)"
      ]
    }
  ]
}