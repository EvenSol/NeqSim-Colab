{
  "nbformat": 4,
  "nbformat_minor": 0,
  "metadata": {
    "colab": {
      "name": "ThermalEnergyAndNeqSim.ipynb",
      "provenance": [],
      "authorship_tag": "ABX9TyP0oeaCQMNHBVEGyiv9KJUr",
      "include_colab_link": true
    },
    "kernelspec": {
      "name": "python3",
      "display_name": "Python 3"
    },
    "language_info": {
      "name": "python"
    }
  },
  "cells": [
    {
      "cell_type": "markdown",
      "metadata": {
        "id": "view-in-github",
        "colab_type": "text"
      },
      "source": [
        "<a href=\"https://colab.research.google.com/github/EvenSol/NeqSim-Colab/blob/master/notebooks/energyopt/ThermalEnergyAndNeqSim.ipynb\" target=\"_parent\"><img src=\"https://colab.research.google.com/assets/colab-badge.svg\" alt=\"Open In Colab\"/></a>"
      ]
    },
    {
      "cell_type": "markdown",
      "source": [
        "# Introduction to TESPy and NeqSim interacations\n",
        "We start by installing the TESTpy and neqsim python packages.\n",
        "\n",
        "See: https://tespy.readthedocs.io/en/main/first_steps.html\n"
      ],
      "metadata": {
        "id": "w3sJsMEgP3o2"
      }
    },
    {
      "cell_type": "code",
      "source": [
        "%%capture\n",
        "!pip install tespy\n",
        "!pip install neqsim"
      ],
      "metadata": {
        "id": "bIlZSAYnP_23"
      },
      "execution_count": 2,
      "outputs": []
    },
    {
      "cell_type": "code",
      "execution_count": 3,
      "metadata": {
        "id": "ROY7d7ZTPySw"
      },
      "outputs": [],
      "source": [
        "from tespy.networks import Network\n",
        "\n",
        "# create a network object with water as fluid\n",
        "fluid_list = ['water']\n",
        "my_plant = Network(fluids=fluid_list)\n",
        "\n",
        "# set the unitsystem for temperatures to °C and for pressure to bar\n",
        "my_plant.set_attr(T_unit='C', p_unit='bar', h_unit='kJ / kg')"
      ]
    },
    {
      "cell_type": "code",
      "source": [
        "from tespy.components import (\n",
        "    Sink, Source, Pipe, Valve, HeatExchangerSimple)\n",
        "\n",
        "# sources & sinks (central heating plant)\n",
        "so = Source('heat source output')\n",
        "si = Sink('heat source input')\n",
        "\n",
        "# consumer\n",
        "cons = HeatExchangerSimple('consumer')\n",
        "cons.set_attr(Q=-10000, pr=0.98)  # Q in W\n",
        "val = Valve('valve')\n",
        "val.set_attr(pr=1)  # pr - pressure ratio (output/input pressure)\n",
        "\n",
        "# pipes\n",
        "pipe_feed = Pipe('pipe_feed')\n",
        "pipe_back = Pipe('pipe_back')\n",
        "\n",
        "pipe_feed.set_attr(ks=0.0005,  # pipe's roughness in meters\n",
        "                   L=100,  # length in m\n",
        "                   D=0.06,  # diameter in m\n",
        "                   kA=10,  # area independent heat transfer coefficient kA in W/K\n",
        "                   Tamb=10)  # ambient temperature of the pipe environment (ground temperature)\n",
        "pipe_back.set_attr(ks=0.0005,\n",
        "                   L=100,\n",
        "                   D=0.06,\n",
        "                   kA=10,\n",
        "                   Tamb=10)"
      ],
      "metadata": {
        "id": "F2gjOriQQ72P"
      },
      "execution_count": 6,
      "outputs": []
    },
    {
      "cell_type": "code",
      "source": [
        "from tespy.connections import Connection\n",
        "\n",
        "# connections of the disctrict heating system\n",
        "so_pif = Connection(so, 'out1', pipe_feed, 'in1')\n",
        "\n",
        "pif_cons = Connection(pipe_feed, 'out1', cons, 'in1')\n",
        "cons_val = Connection(cons, 'out1', val, 'in1')\n",
        "\n",
        "val_pib = Connection(val, 'out1', pipe_back, 'in1')\n",
        "pib_si = Connection(pipe_back, 'out1', si, 'in1')\n",
        "\n",
        "# this line is crutial: you have to add all connections to your network\n",
        "my_plant.add_conns(so_pif, pif_cons, cons_val, val_pib, pib_si)\n",
        "\n",
        "so_pif.set_attr(T=90, p=15, fluid={'water': 1})\n",
        "cons_val.set_attr(T=60)"
      ],
      "metadata": {
        "id": "PFg9uJBoREWO"
      },
      "execution_count": 5,
      "outputs": []
    },
    {
      "cell_type": "code",
      "source": [
        "my_plant.solve(mode='design')\n",
        "my_plant.print_results()"
      ],
      "metadata": {
        "id": "YmCy4-sDRGWe",
        "outputId": "a50db4b6-38e8-4ae0-e407-2ceab799959f",
        "colab": {
          "base_uri": "https://localhost:8080/"
        }
      },
      "execution_count": 7,
      "outputs": [
        {
          "output_type": "stream",
          "name": "stdout",
          "text": [
            "iter\t| residual | massflow | pressure | enthalpy | fluid\n",
            "--------+----------+----------+----------+----------+---------\n",
            "1\t| 1.44e+06 | 2.03e+00 | 2.60e+06 | 2.03e+05 | 0.00e+00\n",
            "2\t| 1.02e+04 | 1.64e-02 | 8.29e+03 | 8.28e+04 | 0.00e+00\n",
            "3\t| 6.47e+02 | 5.35e-05 | 7.84e-01 | 7.10e+03 | 0.00e+00\n"
          ]
        },
        {
          "output_type": "stream",
          "name": "stderr",
          "text": [
            "WARNING:root:Invalid value for zeta: zeta = -7.677582640727144e-05 below minimum value (0) at component valve.\n"
          ]
        },
        {
          "output_type": "stream",
          "name": "stdout",
          "text": [
            "4\t| 2.21e-01 | 6.71e-08 | 1.78e-03 | 2.47e+00 | 0.00e+00\n",
            "5\t| 8.19e-08 | 3.47e-14 | 9.88e-10 | 9.08e-07 | 0.00e+00\n",
            "--------+----------+----------+----------+----------+---------\n",
            "Total iterations: 5, Calculation time: 0.7 s, Iterations per second: 7.22\n",
            "##### RESULTS (Pipe) #####\n",
            "+-----------+-----------+----------+----------+----------+----------+----------+----------+----------+\n",
            "|           |         Q |       pr |     zeta |        D |        L |       ks |       kA |     Tamb |\n",
            "|-----------+-----------+----------+----------+----------+----------+----------+----------+----------|\n",
            "| pipe_feed | -7.89e+02 | 1.00e+00 | 4.68e+06 | \u001b[94m6.00e-02\u001b[0m | \u001b[94m1.00e+02\u001b[0m | \u001b[94m5.00e-04\u001b[0m | \u001b[94m1.00e+01\u001b[0m | \u001b[94m1.00e+01\u001b[0m |\n",
            "| pipe_back | -4.93e+02 | 1.00e+00 | 5.16e+06 | \u001b[94m6.00e-02\u001b[0m | \u001b[94m1.00e+02\u001b[0m | \u001b[94m5.00e-04\u001b[0m | \u001b[94m1.00e+01\u001b[0m | \u001b[94m1.00e+01\u001b[0m |\n",
            "+-----------+-----------+----------+----------+----------+----------+----------+----------+----------+\n",
            "##### RESULTS (HeatExchangerSimple) #####\n",
            "+----------+-----------+----------+----------+-----+-----+------+------+--------+\n",
            "|          |         Q |       pr |     zeta |   D |   L |   ks |   kA |   Tamb |\n",
            "|----------+-----------+----------+----------+-----+-----+------+------+--------|\n",
            "| consumer | \u001b[94m-1.00e+04\u001b[0m | \u001b[94m9.80e-01\u001b[0m | 4.90e+09 | nan | nan |  nan |  nan |    nan |\n",
            "+----------+-----------+----------+----------+-----+-----+------+------+--------+\n",
            "##### RESULTS (Valve) #####\n",
            "+-------+----------+-----------+\n",
            "|       |       pr |      zeta |\n",
            "|-------+----------+-----------|\n",
            "| valve | \u001b[94m1.00e+00\u001b[0m | \u001b[31m-7.68e-05\u001b[0m |\n",
            "+-------+----------+-----------+\n",
            "##### RESULTS (Connection) #####\n",
            "+---------------------------------------+-----------+-----------+-----------+-----------+\n",
            "|                                       |         m |         p |         h |         T |\n",
            "|---------------------------------------+-----------+-----------+-----------+-----------|\n",
            "| heat source output:out1_pipe_feed:in1 | 8.580e-02 | \u001b[94m1.500e+01\u001b[0m | 3.781e+02 | \u001b[94m9.000e+01\u001b[0m |\n",
            "| pipe_feed:out1_consumer:in1           | 8.580e-02 | 1.500e+01 | 3.690e+02 | 8.781e+01 |\n",
            "| consumer:out1_valve:in1               | 8.580e-02 | 1.470e+01 | 2.524e+02 | \u001b[94m6.000e+01\u001b[0m |\n",
            "| valve:out1_pipe_back:in1              | 8.580e-02 | 1.470e+01 | 2.524e+02 | 6.000e+01 |\n",
            "| pipe_back:out1_heat source input:in1  | 8.580e-02 | 1.470e+01 | 2.467e+02 | 5.863e+01 |\n",
            "+---------------------------------------+-----------+-----------+-----------+-----------+\n"
          ]
        }
      ]
    }
  ]
}