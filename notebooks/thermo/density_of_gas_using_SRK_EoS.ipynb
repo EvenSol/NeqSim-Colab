{
  "nbformat": 4,
  "nbformat_minor": 0,
  "metadata": {
    "colab": {
      "provenance": [],
      "authorship_tag": "ABX9TyNML1Yl/Rg+HLocbCo6wyra",
      "include_colab_link": true
    },
    "kernelspec": {
      "name": "python3",
      "display_name": "Python 3"
    },
    "language_info": {
      "name": "python"
    }
  },
  "cells": [
    {
      "cell_type": "markdown",
      "metadata": {
        "id": "view-in-github",
        "colab_type": "text"
      },
      "source": [
        "<a href=\"https://colab.research.google.com/github/EvenSol/NeqSim-Colab/blob/master/notebooks/thermo/density_of_gas_using_SRK_EoS.ipynb\" target=\"_parent\"><img src=\"https://colab.research.google.com/assets/colab-badge.svg\" alt=\"Open In Colab\"/></a>"
      ]
    },
    {
      "cell_type": "code",
      "execution_count": 1,
      "metadata": {
        "id": "HwmRvD8IioFQ"
      },
      "outputs": [],
      "source": [
        "%%capture\n",
        "!pip install neqsim"
      ]
    },
    {
      "cell_type": "markdown",
      "source": [
        "# Density Calculation of a Natural Gas using the SRK-EoS in NeqSim\n",
        "\n",
        "## Introduction\n",
        "\n",
        "This notebook demonstrates the use of the NeqSim library to calculate the thermodynamic properties of a fluid mixture. The notebook covers the following steps:\n",
        "\n",
        "1.  **Fluid Definition:** Define the fluid composition and properties using the SRK equation of state.\n",
        "2.  **Flash Calculation:** Perform a TPflash calculation to determine the phase equilibrium of the fluid.\n",
        "3.  **Property Calculation:** Calculate various properties of the fluid, such as density, using NeqSim functions.\n",
        "4.  **Component Properties:** Display the critical properties (Tc, Pc, acentric factor) and molecular weight of each component.\n",
        "5.  **GERG-2008 Calculation:** Calculate the density using the GERG-2008 equation of state for comparison.\n",
        "\n",
        "## Methodology\n",
        "\n",
        "The calculations are based on the following assumptions:\n",
        "\n",
        "*   The fluid is modeled using the SRK equation of state with the classic mixing rule.\n",
        "*   The TPflash calculation is performed at constant temperature and pressure.\n",
        "*   The density is calculated for both the gas and liquid phases.\n",
        "\n",
        "## Results\n",
        "\n",
        "The notebook outputs the following results:\n",
        "\n",
        "*   Phase equilibrium information from the TPflash calculation.\n",
        "*   Density of the fluid in both gas and liquid phases.\n",
        "*   Critical properties and molecular weight of each component.\n",
        "*   Density calculated using the GERG-2008 equation of state.\n"
      ],
      "metadata": {
        "id": "SEi3FCMrofdK"
      }
    },
    {
      "cell_type": "markdown",
      "source": [
        "Create a fluid in NeqSim and run a TPflash, calculate properties and read density.\n",
        "\n",
        "By default neqsim will used volumme correction."
      ],
      "metadata": {
        "id": "yjLU8XXslDNw"
      }
    },
    {
      "cell_type": "code",
      "source": [
        "from neqsim import thermo\n",
        "from neqsim.thermo import fluid, TPflash, printFrame\n",
        "\n",
        "fluid1 = fluid('srk') # Create a fluid using the SRK equation of state\n",
        "\n",
        "# Add components with their mole fractions\n",
        "fluid1.addComponent('nitrogen', 1.09)\n",
        "fluid1.addComponent('CO2', 1.67)\n",
        "fluid1.addComponent('methane', 83.48)\n",
        "fluid1.addComponent('ethane', 7.36)\n",
        "fluid1.addComponent('propane', 3.68)\n",
        "fluid1.addComponent('i-butane', 0.59)\n",
        "fluid1.addComponent('n-butane', 1.06)\n",
        "fluid1.addComponent('i-pentane', 0.28)\n",
        "fluid1.addComponent('n-pentane', 0.28)\n",
        "fluid1.addComponent('n-hexane', 0.16)\n",
        "fluid1.addComponent('water', 0.23)\n",
        "fluid1.addComponent('n-heptane', 0.1118)\n",
        "fluid1.addComponent('n-octane', 0.0182)\n",
        "fluid1.setMixingRule('classic') # Set the mixing rule to classic using one binary kij\n",
        "fluid1.setMultiPhaseCheck(True)\n",
        "# Set temperature and pressure\n",
        "fluid1.setTemperature(30.0, 'C') # Temperature in Celsius\n",
        "fluid1.setPressure(13.813, 'bara') # Pressure in bara\n",
        "\n",
        "TPflash(fluid1) # Flash calculation at constant T and P\n",
        "printFrame(fluid1) # Print the flash results\n"
      ],
      "metadata": {
        "colab": {
          "base_uri": "https://localhost:8080/"
        },
        "id": "o2KRSKCQir8-",
        "outputId": "f58c28ef-44cb-4938-e6a9-b0e95dbf47ba"
      },
      "execution_count": 25,
      "outputs": [
        {
          "output_type": "stream",
          "name": "stdout",
          "text": [
            "| 0                    | 1          | 2          | 3   | 4   | 5   | 6               |\n",
            "|:---------------------|:-----------|:-----------|:----|:----|:----|:----------------|\n",
            "|                      | total      | GAS        |     |     |     |                 |\n",
            "| nitrogen             | 1.08989E-2 | 1.08989E-2 |     |     |     | [mole fraction] |\n",
            "| CO2                  | 1.66983E-2 | 1.66983E-2 |     |     |     | [mole fraction] |\n",
            "| methane              | 8.34717E-1 | 8.34717E-1 |     |     |     | [mole fraction] |\n",
            "| ethane               | 7.35926E-2 | 7.35926E-2 |     |     |     | [mole fraction] |\n",
            "| propane              | 3.67963E-2 | 3.67963E-2 |     |     |     | [mole fraction] |\n",
            "| i-butane             | 5.89941E-3 | 5.89941E-3 |     |     |     | [mole fraction] |\n",
            "| n-butane             | 1.05989E-2 | 1.05989E-2 |     |     |     | [mole fraction] |\n",
            "| i-pentane            | 2.79972E-3 | 2.79972E-3 |     |     |     | [mole fraction] |\n",
            "| n-pentane            | 2.79972E-3 | 2.79972E-3 |     |     |     | [mole fraction] |\n",
            "| n-hexane             | 1.59984E-3 | 1.59984E-3 |     |     |     | [mole fraction] |\n",
            "| water                | 2.29977E-3 | 2.29977E-3 |     |     |     | [mole fraction] |\n",
            "| n-heptane            | 1.11789E-3 | 1.11789E-3 |     |     |     | [mole fraction] |\n",
            "| n-octane             | 1.81982E-4 | 1.81982E-4 |     |     |     | [mole fraction] |\n",
            "|                      |            |            |     |     |     |                 |\n",
            "| Density              |            | 1.13256E1  |     |     |     | kg/m3           |\n",
            "| Phase Fraction       |            | 1E0        |     |     |     | [mole fraction] |\n",
            "| Molar Mass           | 1.99421E-2 | 1.99421E-2 |     |     |     | kg/mol          |\n",
            "| Z factor             |            | 9.64955E-1 |     |     |     | [-]             |\n",
            "| Heat Capacity (Cp)   |            | 2.12649E0  |     |     |     | kJ/kgK          |\n",
            "| Heat Capacity (Cv)   |            | 1.62707E0  |     |     |     | kJ/kgK          |\n",
            "| Speed of Sound       |            | 3.9252E2   |     |     |     | m/sec           |\n",
            "| Enthalpy             | 4.36619E4  | 4.36619E4  |     |     |     | J/kg            |\n",
            "| Entropy              | -6.17461E2 | -6.17461E2 |     |     |     | J/kgK           |\n",
            "| JT coefficient       |            | 5.53745E-1 |     |     |     | C/bar           |\n",
            "|                      |            |            |     |     |     |                 |\n",
            "| Viscosity            |            | 1.14902E-5 |     |     |     | kg/msec         |\n",
            "| Thermal Conductivity |            | 3.33919E-2 |     |     |     | W/mK            |\n",
            "| Surface Tension      |            |            |     |     |     | [N/m]           |\n",
            "|                      |            |            |     |     |     |                 |\n",
            "|                      |            |            |     |     |     |                 |\n",
            "|                      |            |            |     |     |     |                 |\n",
            "| Pressure             |            | 13.813     |     |     |     | bara            |\n",
            "| Temperature          |            | 30.0       |     |     |     | C               |\n",
            "|                      |            |            |     |     |     |                 |\n",
            "| Model                |            | SRK-EOS    |     |     |     | -               |\n",
            "| Mixing Rule          |            | classic    |     |     |     | -               |\n",
            "|                      |            |            |     |     |     |                 |\n",
            "| Stream               |            |            |     |     |     | -               |\n",
            "|                      |            |            |     |     |     |                 |\n",
            "|                      |            |            |     |     |     |                 |\n",
            "|                      |            |            |     |     |     |                 |\n",
            "|                      |            |            |     |     |     |                 |\n",
            "gas density  11.325595174548683  kg/m3\n"
          ]
        }
      ]
    },
    {
      "cell_type": "code",
      "source": [
        "fluid1.useVolumeCorrection(True)\n",
        "fluid1.initProperties()\n",
        "density_gas = fluid1.getDensity('kg/m3')\n",
        "print('with volume correction: on')\n",
        "print('gas density ', density_gas , ' kg/m3')\n",
        "\n",
        "fluid1.useVolumeCorrection(False)\n",
        "fluid1.initProperties()\n",
        "density_gas = fluid1.getDensity('kg/m3')\n",
        "print('volume correction: off')\n",
        "print('gas density ', density_gas , ' kg/m3')"
      ],
      "metadata": {
        "colab": {
          "base_uri": "https://localhost:8080/"
        },
        "id": "pszURCfZkEm1",
        "outputId": "d8870bf9-26f2-43e7-c6b1-8def0f773f06"
      },
      "execution_count": 36,
      "outputs": [
        {
          "output_type": "stream",
          "name": "stdout",
          "text": [
            "with volume correction: on\n",
            "gas density  11.325595174548683  kg/m3\n",
            "volume correction: off\n",
            "gas density  11.317330784433851  kg/m3\n"
          ]
        }
      ]
    },
    {
      "cell_type": "markdown",
      "source": [
        "#Check Tc, Pc, acentric factor"
      ],
      "metadata": {
        "id": "sc8afy4fmZu2"
      }
    },
    {
      "cell_type": "code",
      "source": [
        "for component_name in fluid1.getComponentNames():\n",
        "    print(component_name)\n",
        "    print('TC ', fluid1.getComponent(component_name).getTC(\"C\"), ' C')\n",
        "    print('PC ', fluid1.getComponent(component_name).getPC(\"bara\"), ' bara')\n",
        "    print('acentric factor ', fluid1.getComponent(component_name).getAcentricFactor(), ' -')\n",
        "    print('Molecular Weight ', fluid1.getComponent(component_name).getMolarMass('gr/mol'), ' gr/mol')\n",
        "    print('-------')"
      ],
      "metadata": {
        "colab": {
          "base_uri": "https://localhost:8080/"
        },
        "id": "Q-OU6kgImd_b",
        "outputId": "717b7706-a6fd-4719-eb9d-5791aecfeb8b"
      },
      "execution_count": 31,
      "outputs": [
        {
          "output_type": "stream",
          "name": "stdout",
          "text": [
            "nitrogen\n",
            "TC  -147.05  C\n",
            "PC  33.944  bara\n",
            "acentric factor  0.0403  -\n",
            "Molecular Weight  28.0135  gr/mol\n",
            "-------\n",
            "CO2\n",
            "TC  31.04000000000002  C\n",
            "PC  73.815  bara\n",
            "acentric factor  0.2276  -\n",
            "Molecular Weight  44.01  gr/mol\n",
            "-------\n",
            "methane\n",
            "TC  -82.59  C\n",
            "PC  45.99  bara\n",
            "acentric factor  0.0115  -\n",
            "Molecular Weight  16.043  gr/mol\n",
            "-------\n",
            "ethane\n",
            "TC  32.170000000000016  C\n",
            "PC  48.72  bara\n",
            "acentric factor  0.0995  -\n",
            "Molecular Weight  30.07  gr/mol\n",
            "-------\n",
            "propane\n",
            "TC  96.68  C\n",
            "PC  42.48  bara\n",
            "acentric factor  0.1523  -\n",
            "Molecular Weight  44.097  gr/mol\n",
            "-------\n",
            "i-butane\n",
            "TC  134.99  C\n",
            "PC  36.48  bara\n",
            "acentric factor  0.177  -\n",
            "Molecular Weight  58.123  gr/mol\n",
            "-------\n",
            "n-butane\n",
            "TC  151.97000000000003  C\n",
            "PC  37.96  bara\n",
            "acentric factor  0.2002  -\n",
            "Molecular Weight  58.123  gr/mol\n",
            "-------\n",
            "i-pentane\n",
            "TC  187.27999999999997  C\n",
            "PC  33.812  bara\n",
            "acentric factor  0.2275  -\n",
            "Molecular Weight  72.151  gr/mol\n",
            "-------\n",
            "n-pentane\n",
            "TC  196.55  C\n",
            "PC  33.7  bara\n",
            "acentric factor  0.2515  -\n",
            "Molecular Weight  72.15  gr/mol\n",
            "-------\n",
            "n-hexane\n",
            "TC  234.45  C\n",
            "PC  30.25  bara\n",
            "acentric factor  0.3013  -\n",
            "Molecular Weight  86.177  gr/mol\n",
            "-------\n",
            "water\n",
            "TC  374.15  C\n",
            "PC  220.89  bara\n",
            "acentric factor  0.344  -\n",
            "Molecular Weight  18.015  gr/mol\n",
            "-------\n",
            "n-heptane\n",
            "TC  267.05000000000007  C\n",
            "PC  27.4  bara\n",
            "acentric factor  0.3495  -\n",
            "Molecular Weight  100.205  gr/mol\n",
            "-------\n",
            "n-octane\n",
            "TC  295.55000000000007  C\n",
            "PC  24.9  bara\n",
            "acentric factor  0.3996  -\n",
            "Molecular Weight  114.232  gr/mol\n",
            "-------\n"
          ]
        }
      ]
    },
    {
      "cell_type": "markdown",
      "source": [
        "# Calculate the density using GERG-2008 EoS"
      ],
      "metadata": {
        "id": "Epy2_PcZnhdt"
      }
    },
    {
      "cell_type": "code",
      "source": [
        "print('gerg 2008 density ', fluid1.getPhase(0).getDensity_GERG2008(), ' kg/m3')"
      ],
      "metadata": {
        "colab": {
          "base_uri": "https://localhost:8080/"
        },
        "id": "FMxFLAsFnpwL",
        "outputId": "b29c78f5-da71-409a-fc5e-4bb1b5e84545"
      },
      "execution_count": 34,
      "outputs": [
        {
          "output_type": "stream",
          "name": "stdout",
          "text": [
            "gerg 2008 density  11.323184477822604  kg/m3\n"
          ]
        }
      ]
    }
  ]
}