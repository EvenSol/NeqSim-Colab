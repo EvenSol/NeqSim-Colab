{
  "nbformat": 4,
  "nbformat_minor": 0,
  "metadata": {
    "colab": {
      "provenance": [],
      "authorship_tag": "ABX9TyNfSaoNerrIhAo0SzcEt2RG",
      "include_colab_link": true
    },
    "kernelspec": {
      "name": "python3",
      "display_name": "Python 3"
    },
    "language_info": {
      "name": "python"
    }
  },
  "cells": [
    {
      "cell_type": "markdown",
      "metadata": {
        "id": "view-in-github",
        "colab_type": "text"
      },
      "source": [
        "<a href=\"https://colab.research.google.com/github/EvenSol/NeqSim-Colab/blob/master/notebooks/process/newunitoperation.ipynb\" target=\"_parent\"><img src=\"https://colab.research.google.com/assets/colab-badge.svg\" alt=\"Open In Colab\"/></a>"
      ]
    },
    {
      "cell_type": "markdown",
      "source": [
        "# Implement a new unit operation in Python code\n",
        "In this workbook we deonstrate how to implement a new unit operation in Python code."
      ],
      "metadata": {
        "id": "s863d-bFHkjw"
      }
    },
    {
      "cell_type": "code",
      "execution_count": 1,
      "metadata": {
        "colab": {
          "base_uri": "https://localhost:8080/"
        },
        "id": "F1oAKqiybXFf",
        "outputId": "a9f8ebb6-7ca4-420d-f021-d5c0bfbbcdd4"
      },
      "outputs": [
        {
          "output_type": "stream",
          "name": "stdout",
          "text": [
            "Collecting neqsim\n",
            "  Downloading neqsim-2.5.31-py3-none-any.whl.metadata (4.1 kB)\n",
            "Collecting JPype1<2.0.0,>=1.5.0 (from neqsim)\n",
            "  Downloading JPype1-1.5.0-cp310-cp310-manylinux_2_17_x86_64.manylinux2014_x86_64.whl.metadata (4.9 kB)\n",
            "Requirement already satisfied: numpy<2.0.0,>=1.25.2 in /usr/local/lib/python3.10/dist-packages (from neqsim) (1.26.4)\n",
            "Requirement already satisfied: pandas<3.0.0,>=2.0.3 in /usr/local/lib/python3.10/dist-packages (from neqsim) (2.1.4)\n",
            "Requirement already satisfied: packaging in /usr/local/lib/python3.10/dist-packages (from JPype1<2.0.0,>=1.5.0->neqsim) (24.1)\n",
            "Requirement already satisfied: python-dateutil>=2.8.2 in /usr/local/lib/python3.10/dist-packages (from pandas<3.0.0,>=2.0.3->neqsim) (2.8.2)\n",
            "Requirement already satisfied: pytz>=2020.1 in /usr/local/lib/python3.10/dist-packages (from pandas<3.0.0,>=2.0.3->neqsim) (2024.1)\n",
            "Requirement already satisfied: tzdata>=2022.1 in /usr/local/lib/python3.10/dist-packages (from pandas<3.0.0,>=2.0.3->neqsim) (2024.1)\n",
            "Requirement already satisfied: six>=1.5 in /usr/local/lib/python3.10/dist-packages (from python-dateutil>=2.8.2->pandas<3.0.0,>=2.0.3->neqsim) (1.16.0)\n",
            "Downloading neqsim-2.5.31-py3-none-any.whl (57.0 MB)\n",
            "\u001b[2K   \u001b[90m━━━━━━━━━━━━━━━━━━━━━━━━━━━━━━━━━━━━━━━━\u001b[0m \u001b[32m57.0/57.0 MB\u001b[0m \u001b[31m8.2 MB/s\u001b[0m eta \u001b[36m0:00:00\u001b[0m\n",
            "\u001b[?25hDownloading JPype1-1.5.0-cp310-cp310-manylinux_2_17_x86_64.manylinux2014_x86_64.whl (488 kB)\n",
            "\u001b[2K   \u001b[90m━━━━━━━━━━━━━━━━━━━━━━━━━━━━━━━━━━━━━━━━\u001b[0m \u001b[32m488.6/488.6 kB\u001b[0m \u001b[31m19.2 MB/s\u001b[0m eta \u001b[36m0:00:00\u001b[0m\n",
            "\u001b[?25hInstalling collected packages: JPype1, neqsim\n",
            "Successfully installed JPype1-1.5.0 neqsim-2.5.31\n"
          ]
        }
      ],
      "source": [
        "!pip install neqsim"
      ]
    },
    {
      "cell_type": "markdown",
      "source": [
        "# Implementing a new unit operation in NeqSim\n",
        "A unit operation is created by extending the unitop interface from the neqsim library.\n",
        "\n",
        "In the following example we illustrate this be adding a simple compressor model (CompressorExample class). The method description of the compressor model is found in the following link:\n",
        "\n",
        "http://www.jmcampbell.com/tip-of-the-month/2011/11/compressor-calculations-rigorous-using-equation-of-state-vs-shortcut-method/"
      ],
      "metadata": {
        "id": "158kYPMGc1hy"
      }
    },
    {
      "cell_type": "code",
      "source": [
        "from neqsim import jNeqSim\n",
        "from neqsim.process.unitop import unitop\n",
        "from jpype import JImplements, JOverride\n",
        "import json\n",
        "import math\n",
        "from neqsim.thermo import printFrame\n",
        "\n",
        "class CompressorExample(unitop):\n",
        "    def __init__(self):\n",
        "        super().__init__()\n",
        "        self.serialVersionUID = None\n",
        "        self.name = \"\"\n",
        "        self.inletstream = None\n",
        "        self.outletstream = None\n",
        "        self.power = None\n",
        "        self.polytropic_efficiency = None\n",
        "        self.pressure_out = None\n",
        "        self.temperature_outlet = None\n",
        "        self.gas_flow_rate = None\n",
        "        self.temperature_inlet = None\n",
        "        self.pressure_inlet = None\n",
        "\n",
        "    def setInputStream(self, stream):\n",
        "        self.inletstream = stream\n",
        "        self.outletstream = stream.clone()\n",
        "\n",
        "    def getOutputStream(self):\n",
        "        return self.outletstream\n",
        "\n",
        "    def setoutlet_pressure(self, presout):\n",
        "        self.pressure_out = presout\n",
        "\n",
        "    def setpolytropic_efficiency(self, polyeff):\n",
        "        self.polytropic_efficiency = polyeff\n",
        "\n",
        "    @JOverride\n",
        "    def run(self, id):\n",
        "      self.serialVersionUID = id\n",
        "      input_fluid = self.inletstream.getFluid().clone()\n",
        "      self.pressure_inlet = self.inletstream.getPressure()\n",
        "      self.gas_flow_rate = self.inletstream.getFlowRate('MSm3/day')\n",
        "      self.temperature_inlet = self.inletstream.getTemperature()\n",
        "      input_fluid.initProperties()\n",
        "      kappa = input_fluid.getGamma2()\n",
        "      MW = input_fluid.getMolarMass()\n",
        "      z_inlet = input_fluid.getZ()\n",
        "      n = 1.0/ (1.0 - (kappa-1.0)/kappa*1.0/(self.polytropic_efficiency/100.0))\n",
        "      self.power = n/(n-1.0)*(input_fluid.getTemperature()+273.15)*z_inlet/(self.polytropic_efficiency/100.0)*(self.gas_flow_rate*1.0e6/24.0/3600.0)*(101325.0/288.15)*(math.pow(self.pressure_out/self.pressure_inlet, (n-1.0)/n)-1.0)\n",
        "      self.temperature_outlet = (self.temperature_inlet)*math.pow(self.pressure_out/self.pressure_inlet, (n-1.0)/n)\n",
        "      self.outletstream = self.inletstream.clone()\n",
        "      self.outletstream.setTemperature(self.temperature_outlet)\n",
        "      self.outletstream.setPressure(self.pressure_out)\n",
        "      self.outletstream.run()\n",
        "      printFrame(self.outletstream.getFluid())\n",
        "\n",
        "    @JOverride\n",
        "    def toJson(self):\n",
        "      data_dict = {\n",
        "            \"name\": self.name,\n",
        "            \"power\": self.power,\n",
        "            \"temperature_inlet\": self.temperature_inlet,\n",
        "            \"temperature_outlet\": self.temperature_outlet,\n",
        "            \"gas_flow_rate\": self.gas_flow_rate,\n",
        "            \"pressure_inlet\": self.pressure_inlet,\n",
        "            \"pressure_out\": self.pressure_out,\n",
        "            \"polytropic_efficiency\": self.polytropic_efficiency\n",
        "      }\n",
        "      return json.dumps(data_dict)\n"
      ],
      "metadata": {
        "id": "71qW9mH-dFEo"
      },
      "execution_count": 18,
      "outputs": []
    },
    {
      "cell_type": "markdown",
      "source": [
        "# Implement the compressor model in a NeqSim process simulation"
      ],
      "metadata": {
        "id": "D5qdzKGdjxde"
      }
    },
    {
      "cell_type": "code",
      "source": [
        "from neqsim.thermo import fluid\n",
        "from neqsim import jNeqSim\n",
        "\n",
        "fluid1 = fluid(\"srk\")  # create a fluid using the SRK-EoS\n",
        "fluid1.addComponent(\"methane\", 0.9)\n",
        "fluid1.addComponent(\"CO2\", 0.1)\n",
        "fluid1.setMixingRule('classic')\n",
        "\n",
        "stream1 = jNeqSim.processSimulation.processEquipment.stream.Stream(fluid1)\n",
        "stream1.setFlowRate(10.0, \"MSm3/day\")\n",
        "stream1.setPressure(50.0, 'bara')\n",
        "stream1.setTemperature(20.0, 'C')\n",
        "\n",
        "compressor1 = CompressorExample()\n",
        "compressor1.setInputStream(stream1)\n",
        "compressor1.setName(\"Compressor 1\")\n",
        "compressor1.setpolytropic_efficiency(77.0)\n",
        "compressor1.setoutlet_pressure(120.0)\n",
        "\n",
        "stream2 = jNeqSim.processSimulation.processEquipment.stream.Stream('out stream')\n",
        "stream2.setStream(compressor1.getOutputStream())\n",
        "\n",
        "example_process = jNeqSim.processSimulation.processSystem.ProcessSystem()\n",
        "example_process.add(stream1)\n",
        "example_process.add(compressor1)\n",
        "example_process.add(stream2)\n",
        "\n",
        "example_process.run()"
      ],
      "metadata": {
        "id": "0_0qWw3EkAHe"
      },
      "execution_count": 21,
      "outputs": []
    },
    {
      "cell_type": "code",
      "source": [
        "json_report= str(jNeqSim.processSimulation.util.report.Report(example_process).generateJsonReport())\n",
        "output = json.loads(json_report)\n",
        "print(output['Compressor 1'])"
      ],
      "metadata": {
        "colab": {
          "base_uri": "https://localhost:8080/"
        },
        "id": "WcuaEZXlkrtc",
        "outputId": "60059b47-fb56-4eec-d31d-7a2929750301"
      },
      "execution_count": 22,
      "outputs": [
        {
          "output_type": "stream",
          "name": "stdout",
          "text": [
            "{'name': 'Compressor 1', 'power': 26531455.8604666, 'temperature_inlet': 293.15, 'temperature_outlet': 365.91290390056565, 'gas_flow_rate': 10.000000000000002, 'pressure_inlet': 50.0, 'pressure_out': 120.0, 'polytropic_efficiency': 77.0}\n"
          ]
        }
      ]
    }
  ]
}