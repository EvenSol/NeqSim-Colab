{
  "nbformat": 4,
  "nbformat_minor": 0,
  "metadata": {
    "colab": {
      "provenance": [],
      "authorship_tag": "ABX9TyPGin5BjmN7YIjtf7hh6xEu",
      "include_colab_link": true
    },
    "kernelspec": {
      "name": "python3",
      "display_name": "Python 3"
    },
    "language_info": {
      "name": "python"
    }
  },
  "cells": [
    {
      "cell_type": "markdown",
      "metadata": {
        "id": "view-in-github",
        "colab_type": "text"
      },
      "source": [
        "<a href=\"https://colab.research.google.com/github/EvenSol/NeqSim-Colab/blob/master/notebooks/process/topoflinecondensation.ipynb\" target=\"_parent\"><img src=\"https://colab.research.google.com/assets/colab-badge.svg\" alt=\"Open In Colab\"/></a>"
      ]
    },
    {
      "cell_type": "markdown",
      "source": [
        "# Top of line condensation in gas pipelines\n",
        "In the follwing section we will demonstrate calculation related to top of line condensation in a pipeline where MEG is used as hydrate or corrosion inhibitor.\n",
        "\n",
        "Litterature:\n",
        "\n",
        "https://iopscience.iop.org/article/10.1088/1757-899X/1201/1/012082/pdf \n",
        "\n",
        "https://www.sciencedirect.com/science/article/pii/S1878535221001313"
      ],
      "metadata": {
        "id": "AXMCjaTqfg4e"
      }
    },
    {
      "cell_type": "code",
      "source": [
        "%%capture\n",
        "#We start by installing the neqsim Python package\n",
        "!pip install neqsim\n",
        "import neqsim\n",
        "from neqsim.thermo import fluid, TPflash, printFrame"
      ],
      "metadata": {
        "id": "p9gDaRFMgq22"
      },
      "execution_count": null,
      "outputs": []
    },
    {
      "cell_type": "markdown",
      "source": [
        "#Saturate the gas with a MEG/water solution\n",
        "Select the gas component and set wt% MEG in the bulk glycol solution. For low pressures (<10 bara) the type of gas will have little effect on results."
      ],
      "metadata": {
        "id": "HZvZ4uH3gqPc"
      }
    },
    {
      "cell_type": "code",
      "source": [
        "wtPercentageMEG = 60.0 #@param {type:\"number\"}\n",
        "gascomponent = 'nitrogen' #@param ['methane', 'nitrogen', 'CO2']"
      ],
      "metadata": {
        "id": "_VLXYJpNuvm1"
      },
      "execution_count": null,
      "outputs": []
    },
    {
      "cell_type": "code",
      "execution_count": null,
      "metadata": {
        "id": "dkoXuPJ0ffQX"
      },
      "outputs": [],
      "source": [
        "fluid1 = fluid('cpa')\n",
        "fluid1.addComponent(gascomponent, 5.0, 'kg/hr')\n",
        "fluid1.addComponent(\"MEG\", wtPercentageMEG, 'kg/hr')\n",
        "fluid1.addComponent(\"water\", 100.0- wtPercentageMEG, 'kg/hr')\n",
        "fluid1.setMixingRule(10)"
      ]
    },
    {
      "cell_type": "markdown",
      "source": [
        "We set the temperature and pressure and run a TPflash to calculate the composition of the gas and liquid. We then display the resulting fluid composition."
      ],
      "metadata": {
        "id": "RZSysQuIjGj6"
      }
    },
    {
      "cell_type": "code",
      "source": [
        "temperature_C = 50.0 #@param {type:\"number\"}\n",
        "pressure_bara = 1.01325 #@param {type:\"number\"}\n",
        "\n",
        "fluid1.setTemperature(temperature_C, 'C')\n",
        "fluid1.setPressure(pressure_bara, 'bara')\n",
        "\n",
        "TPflash(fluid1)\n",
        "\n",
        "printFrame(fluid1)"
      ],
      "metadata": {
        "colab": {
          "base_uri": "https://localhost:8080/"
        },
        "id": "I82K0Ie8i81l",
        "outputId": "f5eeef0b-ad7c-436d-a0a8-13ffdb613812"
      },
      "execution_count": null,
      "outputs": [
        {
          "output_type": "stream",
          "name": "stdout",
          "text": [
            "| 0                  | 1          | 2                    | 3                    | 4   | 5   | 6               |\n",
            "|:-------------------|:-----------|:---------------------|:---------------------|:----|:----|:----------------|\n",
            "|                    | total      | gas                  | aqueous              |     |     |                 |\n",
            "| nitrogen           | 5.30335E-2 | 9.18891E-1           | 2.15455E-5           |     |     | [mole fraction] |\n",
            "| MEG                | 2.87226E-1 | 2.84392E-4           | 3.04794E-1           |     |     | [mole fraction] |\n",
            "| water              | 6.5974E-1  | 8.08245E-2           | 6.95184E-1           |     |     | [mole fraction] |\n",
            "|                    |            |                      |                      |     |     |                 |\n",
            "| Density            |            | 1.02687E0            | 1.04048E3            |     |     | [kg/m^3]        |\n",
            "| PhaseFraction      |            | 5.76925E-2           | 9.42307E-1           |     |     | [mole fraction] |\n",
            "| MolarMass          | 3.11987E1  | 2.72151E1            | 3.14426E1            |     |     | [kg/kmol]       |\n",
            "| Z factor           |            | 9.99473E-1           | 1.15998E-3           |     |     | [-]             |\n",
            "| Heat Capacity (Cp) |            | 1.09449E0            | 3.23586E0            |     |     | [kJ/kg*K]       |\n",
            "| Heat Capacity (Cv) |            | 7.85614E-1           | 2.93664E0            |     |     | [kJ/kg*K]       |\n",
            "| Speed of Sound     |            | 3.7067E2             | 1.61465E3            |     |     | [m/sec]         |\n",
            "| Enthalpy           | -1.42254E3 | 5.35824E1            | -1.50077E3           |     |     | [kJ/kg]         |\n",
            "| Entropy            | -3.30749E0 | 2.67024E-1           | -3.49692E0           |     |     | [kJ/kg*K]       |\n",
            "| JT coefficient     |            | 5.35435E-1           | -2.41203E-2          |     |     | [K/bar]         |\n",
            "|                    |            |                      |                      |     |     |                 |\n",
            "| Viscosity          |            | 1.83146E-5           | 2.49543E-3           |     |     | [kg/m*sec]      |\n",
            "| Conductivity       |            | 2.80975E-2           | 4.18005E-1           |     |     | [W/m*K]         |\n",
            "| SurfaceTension     |            | 5.60007E-2           | 5.60007E-2           |     |     | [N/m]           |\n",
            "|                    |            |                      |                      |     |     |                 |\n",
            "|                    |            |                      |                      |     |     |                 |\n",
            "|                    |            |                      |                      |     |     |                 |\n",
            "| Pressure           |            | 1.01325              | 1.01325              |     |     | [bar]           |\n",
            "| Temperature        |            | 323.15               | 323.15               |     |     | [K]             |\n",
            "|                    |            |                      |                      |     |     |                 |\n",
            "| Model              |            | CPAs-SRK-EOS-statoil | CPAs-SRK-EOS-statoil |     |     | -               |\n",
            "| Mixing Rule        |            | classic-CPA_T        | classic-CPA_T        |     |     | -               |\n",
            "|                    |            |                      |                      |     |     |                 |\n",
            "| Stream             |            |                      |                      |     |     | -               |\n",
            "|                    |            |                      |                      |     |     |                 |\n",
            "|                    |            |                      |                      |     |     |                 |\n",
            "|                    |            |                      |                      |     |     |                 |\n",
            "|                    |            |                      |                      |     |     |                 |\n"
          ]
        }
      ]
    },
    {
      "cell_type": "markdown",
      "source": [
        "# Calculation of activity coefficients and water and MEG in gas\n",
        "The equilibrium can be represented by the equation using vapour pressure of pure components and activity coefficients. The mole fraction of water and MEG in the gas phase can be calculated using the equal fugacity criteria for gas and liquid.\n",
        "\n",
        "$y_{water}=\\frac{x_{water}\\times\\gamma_{water}*P_{water}}{\\varphi_{water}\\times P_{total}}$\n",
        "\n",
        "and\n",
        "\n",
        "$y_{MEG}=\\frac{x_{water}\\times\\gamma_{MEG}*P_{MEG}}{\\varphi_{MEG}\\times P_{total}}$\n",
        "\n",
        "Vapour pressure of MEG can be calculated from the Antonie equation:\n",
        "\n",
        "https://webbook.nist.gov/cgi/cbook.cgi?ID=C107211&Mask=4\n",
        "\n",
        "and water:\n",
        "\n",
        "https://webbook.nist.gov/cgi/cbook.cgi?ID=C7732185&Units=SI&Mask=4#Thermo-Phase\n",
        "\n",
        "\n",
        "At low pressures fugacity coefficients in will be close to one ($\\varphi =1) $. In the following calculations the CPA-EoS in NeqSim are used for the calculations of the fluid phase equilibrium.\n",
        "\n"
      ],
      "metadata": {
        "id": "Q4UiYJa7luqo"
      }
    },
    {
      "cell_type": "code",
      "source": [
        "waterInGas = fluid1.getPhase('gas').getComponent('water').getx()*1e2\n",
        "MEGinGas = fluid1.getPhase('gas').getComponent('MEG').getx()*1e2\n",
        "\n",
        "print('saturated gas compostion')\n",
        "print('water in gas ', waterInGas, ' MEG in gas', MEGinGas,' [mole%] ')\n",
        "\n",
        "water_activity_coefficient = fluid1.getPhase('aqueous').getActivityCoefficient(2)\n",
        "MEG_activity_coefficient = fluid1.getPhase('aqueous').getActivityCoefficient(1)\n",
        "print('activity coefficients')\n",
        "print('water ', water_activity_coefficient, ' MEG ', MEG_activity_coefficient)"
      ],
      "metadata": {
        "colab": {
          "base_uri": "https://localhost:8080/"
        },
        "id": "Y2UB9SP7jrR-",
        "outputId": "f1029c01-4193-43f3-9ebe-7d2fcc39ddd7"
      },
      "execution_count": null,
      "outputs": [
        {
          "output_type": "stream",
          "name": "stdout",
          "text": [
            "saturated gas compostion\n",
            "water in gas  8.082451279191206  MEG in gas 0.02843921721572875  [mole%] \n",
            "activity coefficients\n",
            "water  0.9566203004345136  MEG  1.0183644488228412\n"
          ]
        }
      ]
    },
    {
      "cell_type": "markdown",
      "source": [
        "#Calculation of top of line (TOL) fluid composition\n",
        "The composition of the liquid after condensing the gas on a cold surface can be calulated by running a TPflash calculation on the saturated gas phase. A liquid phase will typically form if the temperature is reduced."
      ],
      "metadata": {
        "id": "dLuWxXl9rCgk"
      }
    },
    {
      "cell_type": "code",
      "source": [
        "coldSurfaceTemperature = 20.0 #@param {type:\"number\"}\n",
        "coldSurfacePressure = 1.01325 #@param {type:\"number\"}\n",
        "\n",
        "gasFluid = fluid1.phaseToSystem('gas')\n",
        "gasFluid.setTemperature(coldSurfaceTemperature, 'C')\n",
        "gasFluid.setPressure(coldSurfacePressure, 'bara')\n",
        "TPflash(gasFluid)\n",
        "printFrame(gasFluid)"
      ],
      "metadata": {
        "colab": {
          "base_uri": "https://localhost:8080/"
        },
        "id": "SwLAOB88rXzW",
        "outputId": "464ae4bb-52c7-4e3c-8023-a974be39b60e"
      },
      "execution_count": null,
      "outputs": [
        {
          "output_type": "stream",
          "name": "stdout",
          "text": [
            "| 0                  | 1           | 2                    | 3                    | 4   | 5   | 6               |\n",
            "|:-------------------|:------------|:---------------------|:---------------------|:----|:----|:----------------|\n",
            "|                    | total       | gas                  | aqueous              |     |     |                 |\n",
            "| nitrogen           | 9.18891E-1  | 9.76669E-1           | 1.18159E-5           |     |     | [mole fraction] |\n",
            "| MEG                | 2.84392E-4  | 1.9604E-7            | 4.80411E-3           |     |     | [mole fraction] |\n",
            "| water              | 8.08245E-2  | 2.33304E-2           | 9.95184E-1           |     |     | [mole fraction] |\n",
            "|                    |             |                      |                      |     |     |                 |\n",
            "| Density            |             | 1.15514E0            | 9.97748E2            |     |     | [kg/m^3]        |\n",
            "| PhaseFraction      |             | 9.40841E-1           | 5.91592E-2           |     |     | [mole fraction] |\n",
            "| MolarMass          | 2.72151E1   | 2.77802E1            | 1.82268E1            |     |     | [kg/kmol]       |\n",
            "| Z factor           |             | 9.99755E-1           | 7.50831E-4           |     |     | [-]             |\n",
            "| Heat Capacity (Cp) |             | 1.05515E0            | 3.60483E0            |     |     | [kJ/kg*K]       |\n",
            "| Heat Capacity (Cv) |             | 7.5384E-1            | 3.23861E0            |     |     | [kJ/kg*K]       |\n",
            "| Speed of Sound     |             | 3.50352E2            | 1.72536E3            |     |     | [m/sec]         |\n",
            "| Enthalpy           | -7.36967E1  | 2.0708E1             | -2.362E3             |     |     | [kJ/kg]         |\n",
            "| Entropy            | -1.47736E-1 | 1.06419E-1           | -6.30828E0           |     |     | [kJ/kg*K]       |\n",
            "| JT coefficient     |             | 2.95169E-1           | -2.19813E-2          |     |     | [K/bar]         |\n",
            "|                    |             |                      |                      |     |     |                 |\n",
            "| Viscosity          |             | 1.76189E-5           | 1.05494E-3           |     |     | [kg/m*sec]      |\n",
            "| Conductivity       |             | 2.6166E-2            | 6.02406E-1           |     |     | [W/m*K]         |\n",
            "| SurfaceTension     |             | 5.60007E-2           | 5.60007E-2           |     |     | [N/m]           |\n",
            "|                    |             |                      |                      |     |     |                 |\n",
            "|                    |             |                      |                      |     |     |                 |\n",
            "|                    |             |                      |                      |     |     |                 |\n",
            "| Pressure           |             | 1.01325              | 1.01325              |     |     | [bar]           |\n",
            "| Temperature        |             | 293.15               | 293.15               |     |     | [K]             |\n",
            "|                    |             |                      |                      |     |     |                 |\n",
            "| Model              |             | CPAs-SRK-EOS-statoil | CPAs-SRK-EOS-statoil |     |     | -               |\n",
            "| Mixing Rule        |             | classic-CPA_T        | classic-CPA_T        |     |     | -               |\n",
            "|                    |             |                      |                      |     |     |                 |\n",
            "| Stream             |             |                      |                      |     |     | -               |\n",
            "|                    |             |                      |                      |     |     |                 |\n",
            "|                    |             |                      |                      |     |     |                 |\n",
            "|                    |             |                      |                      |     |     |                 |\n",
            "|                    |             |                      |                      |     |     |                 |\n"
          ]
        }
      ]
    },
    {
      "cell_type": "markdown",
      "source": [
        "The composition of the condensed phase is"
      ],
      "metadata": {
        "id": "YilRbbANt9Tp"
      }
    },
    {
      "cell_type": "code",
      "source": [
        "wtPrecentMEG = gasFluid.getPhase('aqueous').getWtFrac('MEG')*100\n",
        "wtPrecentwater = gasFluid.getPhase('aqueous').getWtFrac('water')*100\n",
        "print('composition of condensed phase')\n",
        "print('water ', wtPrecentwater, ' wt%')\n",
        "print('MEG ', wtPrecentMEG, ' wt%')"
      ],
      "metadata": {
        "colab": {
          "base_uri": "https://localhost:8080/"
        },
        "id": "WAMmqn8LsUPz",
        "outputId": "56875178-e56e-4856-b856-2e39e09885a7"
      },
      "execution_count": null,
      "outputs": [
        {
          "output_type": "stream",
          "name": "stdout",
          "text": [
            "composition of condensed phase\n",
            "water  98.36220162724736  wt%\n",
            "MEG  1.6359823420484667  wt%\n"
          ]
        }
      ]
    }
  ]
}