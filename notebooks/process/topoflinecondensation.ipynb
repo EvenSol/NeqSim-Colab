{
  "nbformat": 4,
  "nbformat_minor": 0,
  "metadata": {
    "colab": {
      "provenance": [],
      "authorship_tag": "ABX9TyNhlyoKpa2FxMVGjaOicEeg",
      "include_colab_link": true
    },
    "kernelspec": {
      "name": "python3",
      "display_name": "Python 3"
    },
    "language_info": {
      "name": "python"
    }
  },
  "cells": [
    {
      "cell_type": "markdown",
      "metadata": {
        "id": "view-in-github",
        "colab_type": "text"
      },
      "source": [
        "<a href=\"https://colab.research.google.com/github/EvenSol/NeqSim-Colab/blob/master/notebooks/process/topoflinecondensation.ipynb\" target=\"_parent\"><img src=\"https://colab.research.google.com/assets/colab-badge.svg\" alt=\"Open In Colab\"/></a>"
      ]
    },
    {
      "cell_type": "markdown",
      "source": [
        "# Top of line condensation in gas pipelines\n",
        "In the follwing section we will demonstrate calculation related to top of line condensation in a pipeline where MEG is used as hydrate or corrosion inhibitor.\n",
        "\n",
        "Litterature:\n",
        "\n",
        "https://iopscience.iop.org/article/10.1088/1757-899X/1201/1/012082/pdf "
      ],
      "metadata": {
        "id": "AXMCjaTqfg4e"
      }
    },
    {
      "cell_type": "code",
      "source": [
        "%%capture\n",
        "#We start by installing the neqsim Python package\n",
        "!pip install neqsim\n",
        "import neqsim\n",
        "from neqsim.thermo import fluid, TPflash, printFrame"
      ],
      "metadata": {
        "id": "p9gDaRFMgq22"
      },
      "execution_count": 1,
      "outputs": []
    },
    {
      "cell_type": "markdown",
      "source": [
        "#Saturate the gas with a MEG/water solution\n",
        "Select the gas component and set wt% MEG in the bulk glycol solution. For low pressures (<10 bara) the type of gas will have little effect on results."
      ],
      "metadata": {
        "id": "HZvZ4uH3gqPc"
      }
    },
    {
      "cell_type": "code",
      "source": [
        "wtPercentageMEG = 60.0 #@param {type:\"number\"}\n",
        "gascomponent = 'nitrogen' #@param ['methane', 'nitrogen', 'CO2']"
      ],
      "metadata": {
        "id": "_VLXYJpNuvm1"
      },
      "execution_count": 2,
      "outputs": []
    },
    {
      "cell_type": "code",
      "execution_count": 3,
      "metadata": {
        "id": "dkoXuPJ0ffQX"
      },
      "outputs": [],
      "source": [
        "fluid1 = fluid('cpa')\n",
        "fluid1.addComponent(gascomponent, 5.0, 'kg/hr')\n",
        "fluid1.addComponent(\"MEG\", wtPercentageMEG, 'kg/hr')\n",
        "fluid1.addComponent(\"water\", 100.0- wtPercentageMEG, 'kg/hr')\n",
        "fluid1.setMixingRule(10)"
      ]
    },
    {
      "cell_type": "markdown",
      "source": [
        "We set the temperature and pressure and run a TPflash to calculate the composition of the gas and liquid. We then display the resulting fluid composition."
      ],
      "metadata": {
        "id": "RZSysQuIjGj6"
      }
    },
    {
      "cell_type": "code",
      "source": [
        "temperature_C = 50.0 #@param {type:\"number\"}\n",
        "pressure_bara = 1.01325 #@param {type:\"number\"}\n",
        "\n",
        "TPflash(fluid1)\n",
        "\n",
        "printFrame(fluid1)"
      ],
      "metadata": {
        "colab": {
          "base_uri": "https://localhost:8080/"
        },
        "id": "I82K0Ie8i81l",
        "outputId": "38ff907d-d0e5-4f96-9b3b-95e641015b09"
      },
      "execution_count": 4,
      "outputs": [
        {
          "output_type": "stream",
          "name": "stdout",
          "text": [
            "| 0                  | 1          | 2                    | 3                    | 4   | 5   | 6               |\n",
            "|:-------------------|:-----------|:---------------------|:---------------------|:----|:----|:----------------|\n",
            "|                    | total      | gas                  | aqueous              |     |     |                 |\n",
            "| nitrogen           | 5.30335E-2 | 9.79246E-1           | 2.36601E-5           |     |     | [mole fraction] |\n",
            "| MEG                | 2.87226E-1 | 3.5611E-5            | 3.03663E-1           |     |     | [mole fraction] |\n",
            "| water              | 6.5974E-1  | 2.07179E-2           | 6.96314E-1           |     |     | [mole fraction] |\n",
            "|                    |            |                      |                      |     |     |                 |\n",
            "| Density            |            | 1.13679E0            | 1.05106E3            |     |     | [kg/m^3]        |\n",
            "| PhaseFraction      |            | 5.41346E-2           | 9.45865E-1           |     |     | [mole fraction] |\n",
            "| MolarMass          | 3.11987E1  | 2.78076E1            | 3.13928E1            |     |     | [kg/kmol]       |\n",
            "| Z factor           |            | 9.99836E-1           | 1.23647E-3           |     |     | [-]             |\n",
            "| Heat Capacity (Cp) |            | 1.05335E0            | 3.08295E0            |     |     | [kJ/kg*K]       |\n",
            "| Heat Capacity (Cv) |            | 7.52533E-1           | 2.80831E0            |     |     | [kJ/kg*K]       |\n",
            "| Speed of Sound     |            | 3.53188E2            | 1.70588E3            |     |     | [m/sec]         |\n",
            "| Enthalpy           | -1.50394E3 | 2.59624E1            | -1.58151E3           |     |     | [kJ/kg]         |\n",
            "| Entropy            | -3.56947E0 | 1.21303E-1           | -3.75658E0           |     |     | [kJ/kg*K]       |\n",
            "| JT coefficient     |            | 2.67046E-1           | -2.5763E-2           |     |     | [K/bar]         |\n",
            "|                    |            |                      |                      |     |     |                 |\n",
            "| Viscosity          |            | 1.78835E-5           | 5.212E-3             |     |     | [kg/m*sec]      |\n",
            "| Conductivity       |            | 2.65588E-2           | 4.1696E-1            |     |     | [W/m*K]         |\n",
            "| SurfaceTension     |            | 5.83586E-2           | 5.83586E-2           |     |     | [N/m]           |\n",
            "|                    |            |                      |                      |     |     |                 |\n",
            "|                    |            |                      |                      |     |     |                 |\n",
            "|                    |            |                      |                      |     |     |                 |\n",
            "| Pressure           |            | 1.01325              | 1.01325              |     |     | [bar]           |\n",
            "| Temperature        |            | 298.15               | 298.15               |     |     | [K]             |\n",
            "|                    |            |                      |                      |     |     |                 |\n",
            "| Model              |            | CPAs-SRK-EOS-statoil | CPAs-SRK-EOS-statoil |     |     | -               |\n",
            "| Mixing Rule        |            | classic-CPA_T        | classic-CPA_T        |     |     | -               |\n",
            "|                    |            |                      |                      |     |     |                 |\n",
            "| Stream             |            |                      |                      |     |     | -               |\n",
            "|                    |            |                      |                      |     |     |                 |\n",
            "|                    |            |                      |                      |     |     |                 |\n",
            "|                    |            |                      |                      |     |     |                 |\n",
            "|                    |            |                      |                      |     |     |                 |\n"
          ]
        }
      ]
    },
    {
      "cell_type": "markdown",
      "source": [
        "# Calculation of activity coefficients and water and MEG in gas\n",
        "The equilibrium can be represented by the equation using vapour pressure of pure components and activity coefficients. \n",
        "\n",
        "$y_{water}=\\frac{x_{water}\\times\\gamma_{water}*P_{water}}{\\varphi_{water}\\times P_{total}}$\n",
        "\n",
        "and\n",
        "\n",
        "$y_{MEG}=\\frac{x_{water}\\times\\gamma_{MEG}*P_{MEG}}{\\varphi_{MEG}\\times P_{total}}$\n",
        "\n",
        "Vapour pressure of MEG can be calculated from the Antonie equation:\n",
        "\n",
        "https://webbook.nist.gov/cgi/cbook.cgi?ID=C107211&Mask=4\n",
        "\n",
        "and water:\n",
        "\n",
        "https://webbook.nist.gov/cgi/cbook.cgi?ID=C7732185&Units=SI&Mask=4#Thermo-Phase\n",
        "\n",
        "\n",
        "At low pressures fugacity coefficients in will be close to one ($\\varphi =1) $. In the following calculations the CPA-EoS in NeqSim are used for the calculations of the fluid phase equilibrium.\n",
        "\n"
      ],
      "metadata": {
        "id": "Q4UiYJa7luqo"
      }
    },
    {
      "cell_type": "code",
      "source": [
        "waterInGas = fluid1.getPhase('gas').getComponent('water').getx()*1e2\n",
        "MEGinGas = fluid1.getPhase('gas').getComponent('MEG').getx()*1e2\n",
        "\n",
        "print('saturated gas compostion')\n",
        "print('water in gas ', waterInGas, ' MEG in gas', MEGinGas,' [mole%] ')\n",
        "\n",
        "water_activity_coefficient = fluid1.getPhase('aqueous').getActivityCoefficient(2)\n",
        "MEG_activity_coefficient = fluid1.getPhase('aqueous').getActivityCoefficient(1)\n",
        "print('activity coefficients')\n",
        "print('water ', water_activity_coefficient, ' MEG ', MEG_activity_coefficient)"
      ],
      "metadata": {
        "colab": {
          "base_uri": "https://localhost:8080/"
        },
        "id": "Y2UB9SP7jrR-",
        "outputId": "4b39b1d6-6e1e-4477-ec6b-bc6f18d4461e"
      },
      "execution_count": 5,
      "outputs": [
        {
          "output_type": "stream",
          "name": "stdout",
          "text": [
            "saturated gas compostion\n",
            "water in gas  2.071794132617124  MEG in gas 0.0035610959737163743  [mole%] \n",
            "activity coefficients\n",
            "water  0.9424089599110065  MEG  1.0038140122521804\n"
          ]
        }
      ]
    },
    {
      "cell_type": "markdown",
      "source": [
        "#Calculation of condensed gas composition\n",
        "The composition of the liquid after condensing the gas on a cold surface can be calulated by running a TPflash calculation on the saturated gas phase. A liquid phase will typically form if the temperature is reduced."
      ],
      "metadata": {
        "id": "dLuWxXl9rCgk"
      }
    },
    {
      "cell_type": "code",
      "source": [
        "coldSurfaceTemperature = 20.0 #@param {type:\"number\"}\n",
        "coldSurfacePressure = 1.01325 #@param {type:\"number\"}\n",
        "\n",
        "gasFluid = fluid1.phaseToSystem('gas')\n",
        "gasFluid.setTemperature(coldSurfaceTemperature, 'C')\n",
        "gasFluid.setPressure(coldSurfacePressure, 'bara')\n",
        "TPflash(gasFluid)\n",
        "printFrame(gasFluid)"
      ],
      "metadata": {
        "colab": {
          "base_uri": "https://localhost:8080/"
        },
        "id": "SwLAOB88rXzW",
        "outputId": "9b8616e6-9886-4b88-8cd4-b947248be8d6"
      },
      "execution_count": null,
      "outputs": [
        {
          "output_type": "stream",
          "name": "stdout",
          "text": [
            "| 0                  | 1          | 2                    | 3                    | 4   | 5   | 6               |\n",
            "|:-------------------|:-----------|:---------------------|:---------------------|:----|:----|:----------------|\n",
            "|                    | total      | gas                  | aqueous              |     |     |                 |\n",
            "| nitrogen           | 9.79246E-1 | 9.79511E-1           | 1.50126E-5           |     |     | [mole fraction] |\n",
            "| MEG                | 3.5611E-5  | 6.54532E-6           | 1.07516E-1           |     |     | [mole fraction] |\n",
            "| water              | 2.07179E-2 | 2.04822E-2           | 8.92469E-1           |     |     | [mole fraction] |\n",
            "|                    |            |                      |                      |     |     |                 |\n",
            "| Density            |            | 1.1563E0             | 1.02174E3            |     |     | [kg/m^3]        |\n",
            "| PhaseFraction      |            | 9.9973E-1            | 2.70354E-4           |     |     | [mole fraction] |\n",
            "| MolarMass          | 2.78076E1  | 2.78089E1            | 2.27517E1            |     |     | [kg/kmol]       |\n",
            "| Z factor           |            | 9.99783E-1           | 9.25082E-4           |     |     | [-]             |\n",
            "| Heat Capacity (Cp) |            | 1.05326E0            | 3.36657E0            |     |     | [kJ/kg*K]       |\n",
            "| Heat Capacity (Cv) |            | 7.52357E-1           | 3.03831E0            |     |     | [kJ/kg*K]       |\n",
            "| Speed of Sound     |            | 3.50213E2            | 1.72811E3            |     |     | [m/sec]         |\n",
            "| Enthalpy           | 2.02455E1  | 2.06938E1            | -2.00632E3           |     |     | [kJ/kg]         |\n",
            "| Entropy            | 1.01963E-1 | 1.03113E-1           | -5.09881E0           |     |     | [kJ/kg*K]       |\n",
            "| JT coefficient     |            | 2.80657E-1           | -2.35629E-2          |     |     | [K/bar]         |\n",
            "|                    |            |                      |                      |     |     |                 |\n",
            "| Viscosity          |            | 1.7652E-5            | 2.44343E-3           |     |     | [kg/m*sec]      |\n",
            "| Conductivity       |            | 2.61823E-2           | 5.14141E-1           |     |     | [W/m*K]         |\n",
            "| SurfaceTension     |            | 5.83586E-2           | 5.83586E-2           |     |     | [N/m]           |\n",
            "|                    |            |                      |                      |     |     |                 |\n",
            "|                    |            |                      |                      |     |     |                 |\n",
            "|                    |            |                      |                      |     |     |                 |\n",
            "| Pressure           |            | 1.01325              | 1.01325              |     |     | [bar]           |\n",
            "| Temperature        |            | 293.15               | 293.15               |     |     | [K]             |\n",
            "|                    |            |                      |                      |     |     |                 |\n",
            "| Model              |            | CPAs-SRK-EOS-statoil | CPAs-SRK-EOS-statoil |     |     | -               |\n",
            "| Mixing Rule        |            | classic-CPA_T        | classic-CPA_T        |     |     | -               |\n",
            "|                    |            |                      |                      |     |     |                 |\n",
            "| Stream             |            |                      |                      |     |     | -               |\n",
            "|                    |            |                      |                      |     |     |                 |\n",
            "|                    |            |                      |                      |     |     |                 |\n",
            "|                    |            |                      |                      |     |     |                 |\n",
            "|                    |            |                      |                      |     |     |                 |\n"
          ]
        }
      ]
    },
    {
      "cell_type": "markdown",
      "source": [
        "The composition of the condensed phase is"
      ],
      "metadata": {
        "id": "YilRbbANt9Tp"
      }
    },
    {
      "cell_type": "code",
      "source": [
        "wtPrecentMEG = gasFluid.getPhase('aqueous').getWtFrac('MEG')*100\n",
        "wtPrecentwater = gasFluid.getPhase('aqueous').getWtFrac('water')*100\n",
        "print('composition of condensed phase')\n",
        "print('water ', wtPrecentwater, ' wt%')\n",
        "print('MEG ', wtPrecentMEG, ' wt%')"
      ],
      "metadata": {
        "colab": {
          "base_uri": "https://localhost:8080/"
        },
        "id": "WAMmqn8LsUPz",
        "outputId": "83524062-54b5-4a44-a362-7a53df4d9546"
      },
      "execution_count": null,
      "outputs": [
        {
          "output_type": "stream",
          "name": "stdout",
          "text": [
            "composition of condensed phase\n",
            "water  70.66656958212609  wt%\n",
            "MEG  29.331581956200054  wt%\n"
          ]
        }
      ]
    }
  ]
}