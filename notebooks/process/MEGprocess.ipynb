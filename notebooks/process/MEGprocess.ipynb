{
  "nbformat": 4,
  "nbformat_minor": 0,
  "metadata": {
    "colab": {
      "name": "TEGdehydration.ipynb",
      "provenance": [],
      "include_colab_link": true
    },
    "kernelspec": {
      "name": "python3",
      "display_name": "Python 3"
    }
  },
  "cells": [
    {
      "cell_type": "markdown",
      "metadata": {
        "id": "view-in-github",
        "colab_type": "text"
      },
      "source": [
        "<a href=\"https://colab.research.google.com/github/EvenSol/NeqSim-Colab/blob/master/notebooks/process/MEGprocess.ipynb\" target=\"_parent\"><img src=\"https://colab.research.google.com/assets/colab-badge.svg\" alt=\"Open In Colab\"/></a>"
      ]
    },
    {
      "cell_type": "code",
      "metadata": {
        "id": "Ag6rxEbsomnO"
      },
      "source": [
        "# Setting up the Colab page to use neqsim\n",
        "%%capture\n",
        "!pip install git+https://github.com/equinor/neqsim-python.git\n",
        "#!pip install neqsim==3.0.19\n",
        "import neqsim\n",
        "from neqsim.thermo.thermoTools import *"
      ],
      "execution_count": 1,
      "outputs": []
    },
    {
      "cell_type": "markdown",
      "metadata": {
        "id": "8SDaGn-s5VV6"
      },
      "source": [
        "# MEG for hydrate inhibition and regeneration of MEG\n",
        "\n",
        "**Introduction**\n",
        "\n",
        "Monoethylene glycol (MEG) is commonly used in the oil and gas industry for hydrate inhibition in pipelines and process equipment. This process involves injecting MEG into the gas stream to prevent hydrate formation. After use, the MEG is regenerated to remove water and maintain its effectiveness. This notebook explores the principles of MEG for hydrate inhibition and regeneration, including:\n",
        "\n",
        "* **Hydrate Formation:** Understanding the conditions that lead to hydrate formation in natural gas systems.\n",
        "* **MEG Inhibition:** How MEG prevents hydrate formation by lowering the hydrate formation temperature.\n",
        "* **MEG Regeneration:** Methods for removing water from MEG to restore its hydrate inhibition properties.\n",
        "* **Case Studies:** Examples of MEG applications in real-world scenarios."
      ]
    },
    {
      "cell_type": "markdown",
      "metadata": {
        "id": "sQkG3Js35v6i"
      },
      "source": [
        "# Litterature\n",
        "\n",
        "Wikipedia\n",
        "\n",
        "https://en.wikipedia.org/wiki/Ethylene_glycol\n"
      ]
    },
    {
      "cell_type": "code",
      "metadata": {
        "id": "92l4fRFP52Aw",
        "colab": {
          "base_uri": "https://localhost:8080/",
          "height": 422
        },
        "cellView": "form",
        "outputId": "550d4347-2624-4a7b-eae8-2981e383d6de"
      },
      "source": [
        "#@title MEG reclamation\n",
        "#@markdown This video gives an intriduction to MEG reclamation\n",
        "from IPython.display import YouTubeVideo\n",
        "YouTubeVideo('4HosHcGvtVM', width=600, height=400)"
      ],
      "execution_count": 2,
      "outputs": [
        {
          "output_type": "execute_result",
          "data": {
            "text/plain": [
              "<IPython.lib.display.YouTubeVideo at 0x7f6d724d2850>"
            ],
            "text/html": [
              "\n",
              "        <iframe\n",
              "            width=\"600\"\n",
              "            height=\"400\"\n",
              "            src=\"https://www.youtube.com/embed/4HosHcGvtVM\"\n",
              "            frameborder=\"0\"\n",
              "            allowfullscreen\n",
              "            \n",
              "        ></iframe>\n",
              "        "
            ],
            "image/jpeg": "[encoded data removed]"
          },
          "metadata": {},
          "execution_count": 2
        }
      ]
    },
    {
      "cell_type": "markdown",
      "source": [
        "# Simulation fo MEG regeneration"
      ],
      "metadata": {
        "id": "0ApDfJTFO5p6"
      }
    },
    {
      "cell_type": "code",
      "metadata": {
        "id": "UtOgsp4A6jD2"
      },
      "source": [
        "from neqsim.process import stream, clearProcess\n",
        "from neqsim.thermo.thermoTools import fluid, TPflash\n",
        "from neqsim import jneqsim as neqsim\n",
        "from neqsim.thermo import thermodynamicoperations\n",
        "\n",
        "# -----------------------------------------------------------------------------\n",
        "# 1) Create fluid (equivalent to new SystemSrkCPAstatoil(273.15 + 40, 6.0))\n",
        "# -----------------------------------------------------------------------------\n",
        "fluid1 = fluid('cpa', temperature=273.15 + 40.0, pressure=6.0)\n",
        "\n",
        "# 2) Add components\n",
        "fluid1.addComponent(\"nitrogen\", 0.1)\n",
        "fluid1.addComponent(\"CO2\", 0.05)\n",
        "fluid1.addComponent(\"methane\", 9.0)\n",
        "fluid1.addComponent(\"ethane\", 0.5)\n",
        "fluid1.addComponent(\"propane\", 0.3)\n",
        "fluid1.addComponent(\"water\", 75.0)\n",
        "fluid1.addComponent(\"MEG\", 25.0)\n",
        "\n",
        "# 3) Set mixing rule\n",
        "fluid1.setMixingRule(10)  # 10 => classic CPA mixing rule\n",
        "\n",
        "# 4) Perform a TP flash\n",
        "TPflash(fluid1)\n",
        "\n",
        "# 5) Extract phases as separate SystemInterfaces\n",
        "#    phaseToSystem(0) => likely the gas phase\n",
        "#    phaseToSystem(1) => likely the liquid phase\n",
        "feedGas = fluid1.phaseToSystem(0)\n",
        "feedMEG = fluid1.phaseToSystem(1)\n",
        "\n",
        "# 6) Calculate weight fraction of MEG in the second phase\n",
        "wtMEG = feedMEG.getPhase(0).getWtFrac(\"MEG\") * 100.0\n",
        "\n",
        "clearProcess()\n",
        "# -----------------------------------------------------------------------------\n",
        "# 7) Create process streams\n",
        "# -----------------------------------------------------------------------------\n",
        "stream1 = stream(\"stream 1\", feedMEG)\n",
        "stream1.setFlowRate(6000.0, \"kg/hr\")\n",
        "stream1.setTemperature(80.0, \"C\")\n",
        "stream1.setPressure(1.021, \"bara\")\n",
        "stream1.run()\n",
        "\n",
        "stripgas = stream(\"stream 2\", feedGas)\n",
        "stripgas.setFlowRate(10.0, \"kg/hr\")\n",
        "stripgas.setTemperature(80.0, \"C\")\n",
        "stripgas.setPressure(1.021, \"bara\")\n",
        "stripgas.run()\n",
        "\n",
        "# -----------------------------------------------------------------------------\n",
        "# 8) Create and configure the distillation column\n",
        "# -----------------------------------------------------------------------------\n",
        "distillationColumn = neqsim.process.equipment.distillation.DistillationColumn(\"MEG column\", 2, True, True)\n",
        "distillationColumn.addFeedStream(stream1, 1)\n",
        "distillationColumn.addFeedStream(stripgas, 1)\n",
        "\n",
        "distillationColumn.getReboiler().setOutTemperature(273.15 + 140.0)  # 140 C\n",
        "distillationColumn.getCondenser().setOutTemperature(273.15 + 35.0)  # 35 C\n",
        "\n",
        "distillationColumn.setTopPressure(1.021)\n",
        "distillationColumn.setBottomPressure(1.021)\n",
        "\n",
        "# enable separation with liquid reflux => 370.0 kg/hr reflux flow\n",
        "distillationColumn.getCondenser().setSeparation_with_liquid_reflux(True,\n",
        "                                                                   370.0,\n",
        "                                                                   \"kg/hr\")\n",
        "# 9) Run the column simulation\n",
        "distillationColumn.run()\n"
      ],
      "execution_count": null,
      "outputs": []
    },
    {
      "cell_type": "code",
      "source": [
        "print(f\"\"\"\n",
        "---------- PROCESS RESULTS ----------\n",
        "density feed: {wtMEG} kg/m3\n",
        "Distillation column top gas flow: {distillationColumn.getGasOutStream().getFlowRate('kg/hr')} kg/hr\n",
        "Distillation column top temperature: {distillationColumn.getGasOutStream().getTemperature('C')} °C\n",
        "Distillation column bottom liquid flow: {distillationColumn.getLiquidOutStream().getFlowRate('kg/hr')} kg/hr\n",
        "Split to water treatment: {distillationColumn.getCondenser().getLiquidProductStream().getFlowRate('kg/hr')} kg/hr\n",
        "Split to recycle to column: {distillationColumn.getCondenser().getLiquidOutStream().getFlowRate('kg/hr')} kg/hr\n",
        "wt% MEG to treatment: {distillationColumn.getCondenser().getLiquidProductStream().getFluid().getPhase(0).getWtFrac('MEG') * 100.0} wt%\n",
        "flow MEG to treatment: {distillationColumn.getCondenser().getLiquidProductStream().getFluid().getComponent('MEG').getFlowRate('kg/hr')} kg/hr\n",
        "density reflux: {distillationColumn.getCondenser().getLiquidProductStream().getFluid().getDensity('kg/m3')} kg/m3\n",
        "wt% MEG in bottom: {distillationColumn.getLiquidOutStream().getFluid().getPhase(0).getWtFrac('MEG') * 100.0} wt%\n",
        "KOF: {distillationColumn.getCondenser().getLiquidProductStream().getFluid().getPhase(0).getWtFrac('MEG') * 1.0e6 / 1.547} KOF\n",
        "Reboiler duty: {distillationColumn.getReboiler().getDuty() / 1.0e6} MW\n",
        "Condenser duty: {distillationColumn.getCondenser().getDuty() / 1.0e6} MW\n",
        "Condenser temperature: {distillationColumn.getCondenser().getTemperature()} °C\n",
        "Tray 1 temperature: {distillationColumn.getTray(1).getTemperature()} °C\n",
        "Tray 2 temperature: {distillationColumn.getTray(2).getTemperature()} °C\n",
        "\"\"\".strip())"
      ],
      "metadata": {
        "id": "CHbQGSAIQmLV"
      },
      "execution_count": null,
      "outputs": []
    },
    {
      "cell_type": "markdown",
      "source": [
        "# Printing streams"
      ],
      "metadata": {
        "id": "kjSALKR3PYMF"
      }
    },
    {
      "cell_type": "code",
      "source": [
        "printFrame(distillationColumn.getCondenser().getFluid())\n",
        "printFrame(distillationColumn.getReboiler().getFluid())"
      ],
      "metadata": {
        "id": "ApWgYHQQQDed"
      },
      "execution_count": null,
      "outputs": []
    },
    {
      "cell_type": "markdown",
      "source": [
        "# Evaluation of reboiler temperature"
      ],
      "metadata": {
        "id": "IJhhHHDH-CCo"
      }
    },
    {
      "cell_type": "code",
      "source": [
        "import numpy as np\n",
        "import matplotlib.pyplot as plt\n",
        "\n",
        "temperatures = np.linspace(120, 250, 10)  # Create 10 temperature points between 120 and 150°C\n",
        "\n",
        "# Create lists to store the variables:\n",
        "flow_to_treatment = []\n",
        "flow_MEG_to_treatment = []\n",
        "wt_MEG_to_treatment = []\n",
        "temperature_top_column = []\n",
        "reboiler_duty = []\n",
        "cooler_duty = []\n",
        "\n",
        "# Iterate through the temperature range:\n",
        "for temp in temperatures:\n",
        "    splitter1.setFlowRates([temp, -1], 'kg/hr')\n",
        "    pro1.run()\n",
        "\n",
        "    # Append the calculated values to the lists:\n",
        "    flow_to_treatment.append(pro1.getUnit('to treatment').getFlowRate('kg/hr'))\n",
        "    flow_MEG_to_treatment.append(pro1.getUnit('to treatment').getFluid().getComponent('MEG').getFlowRate('kg/hr'))\n",
        "    wt_MEG_to_treatment.append(pro1.getUnit('to treatment').getFluid().getPhase(0).getWtFrac('MEG')*100)\n",
        "    reboiler_duty.append(distillationColumn.getReboiler().getDuty()/1e6)\n",
        "    cooler_duty.append(cooler.getDuty()/1e6)\n",
        "    temperature_top_column.append(distillationColumn.getGasOutStream().getTemperature('C'))\n",
        "\n",
        "# Plotting the results:\n",
        "plt.figure(figsize=(10, 6))\n",
        "\n",
        "plt.subplot(2, 2, 1)\n",
        "plt.plot(temperatures, flow_to_treatment)\n",
        "plt.title('Flow to Treatment')\n",
        "plt.xlabel('Temperature (°C)')\n",
        "plt.ylabel('Flow (kg/hr)')\n",
        "\n",
        "plt.subplot(2, 2, 2)\n",
        "plt.plot(temperatures, flow_MEG_to_treatment)\n",
        "plt.title('Flow MEG to Treatment')\n",
        "plt.xlabel('Temperature (°C)')\n",
        "plt.ylabel('Flow (kg/hr)')\n",
        "\n",
        "plt.subplot(2, 2, 3)\n",
        "plt.plot(temperatures, wt_MEG_to_treatment)\n",
        "plt.title('wt% MEG to Treatment')\n",
        "plt.xlabel('Temperature (°C)')\n",
        "plt.ylabel('wt%')\n",
        "\n",
        "plt.subplot(2, 2, 4)\n",
        "plt.plot(temperatures, reboiler_duty)\n",
        "plt.title('Reboiler Duty')\n",
        "plt.xlabel('Temperature (°C)')\n",
        "plt.ylabel('Duty (MW)')\n",
        "\n",
        "#Adjust layout to prevent overlapping\n",
        "plt.tight_layout()\n",
        "plt.show()\n",
        "\n",
        "\n",
        "plt.figure(figsize=(5,3))\n",
        "plt.plot(temperatures, cooler_duty)\n",
        "plt.title('Cooler Duty')\n",
        "plt.xlabel('Temperature (°C)')\n",
        "plt.ylabel('Duty (MW)')\n",
        "plt.show()\n",
        "\n",
        "plt.figure(figsize=(5,3))\n",
        "plt.plot(temperatures, temperature_top_column)\n",
        "plt.title('temperature_top_column')\n",
        "plt.xlabel('Temperature (°C)')\n",
        "plt.ylabel('temperature_top_column (C)')\n",
        "plt.show()"
      ],
      "metadata": {
        "id": "M7xMgZkqQDqh"
      },
      "execution_count": null,
      "outputs": []
    }
  ]
}