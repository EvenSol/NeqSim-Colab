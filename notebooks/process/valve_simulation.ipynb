{
 "cells": [
  {
   "cell_type": "markdown",
   "metadata": {
    "id": "view-in-github",
    "colab_type": "text"
   },
   "source": [
    "<a href=\"https://colab.research.google.com/github/EvenSol/NeqSim-Colab/blob/master/notebooks/process/valve_simulation.ipynb\" target=\"_parent\"><img src=\"https://colab.research.google.com/assets/colab-badge.svg\" /></a>"
   ]
  },
  {
   "cell_type": "code",
   "metadata": {
    "id": "valveIntro",
    "cellView": "form"
   },
   "source": [
    "#@title Valve simulation in NeqSim",
    "#@markdown This notebook demonstrates how valves are simulated in NeqSim with emphasis on Cv and Cg handling."
   ],
   "outputs": [],
   "execution_count": null
  },
  {
   "cell_type": "code",
   "metadata": {
    "id": "setup"
   },
   "source": [
    "%%capture",
    "!pip install neqsim==2.5.35",
    "import neqsim",
    "from neqsim.thermo.thermoTools import *",
    "import matplotlib.pyplot as plt",
    "import numpy as np",
    "%matplotlib inline"
   ],
   "outputs": [],
   "execution_count": null
  },
  {
   "cell_type": "markdown",
   "metadata": {
    "id": "cvcg"
   },
   "source": [
    "# Cv and Cg coefficients",
    "In NeqSim the valve unit operation may be specified by a flow coefficient. The most common is **Cv**, normally defined in US units. For gas flow it is often convenient to use the gas sizing coefficient **Cg**. The relation between them is roughly",
    "",
    "$$ C_g \u0007pprox 22.67 \times C_v $$",
    "",
    "Setting either value in NeqSim will control the flow through the valve."
   ]
  },
  {
   "cell_type": "code",
   "metadata": {
    "id": "cvexample"
   },
   "source": [
    "from neqsim.thermo import fluid",
    "from neqsim.process import clearProcess, stream, runProcess, valve",
    "",
    "fluid1 = fluid('srk')",
    "fluid1.addComponent('methane', 1.0)",
    "fluid1.setTemperature(20.0, 'C')",
    "fluid1.setPressure(80.0, 'bara')",
    "fluid1.setTotalFlowRate(2.0, 'MSm3/day')",
    "",
    "clearProcess()",
    "stream1 = stream(fluid1)",
    "valve1 = valve(stream1)",
    "valve1.setCv(15.0)",
    "valve1.setPercentValveOpening(100.0)",
    "valve1.setOutletPressure(70.0, 'bara')",
    "runProcess()",
    "print('Outlet pressure:', valve1.getOutStream().getPressure('bara'), 'bara')",
    "print('Outlet temperature:', valve1.getOutStream().getTemperature('C'), 'C')"
   ],
   "outputs": [],
   "execution_count": null
  },
  {
   "cell_type": "markdown",
   "metadata": {
    "id": "sizing"
   },
   "source": [
    "# Valve sizing",
    "To size a valve for a required flow we can calculate the needed Cv (or Cg) from the flow and pressure drop. For an incompressible fluid the relation is",
    "",
    "$$ C_v = \\frac{Q}{\\sqrt{\\Delta P / \rho}} $$",
    "",
    "where $Q$ is the volumetric flow rate and $\rho$ the fluid density.",
    "The same approach can be used with Cg by converting between Cv and Cg."
   ]
  },
  {
   "cell_type": "code",
   "metadata": {
    "id": "cvcalc"
   },
   "source": [
    "# Compute required Cv for water flow",
    "from math import sqrt",
    "water = fluid('srk')",
    "water.addComponent('water',1.0)",
    "water.setTemperature(25.0,'C')",
    "water.setPressure(5.0,'bara')",
    "water.setTotalFlowRate(10.0,'m3/hr')",
    "",
    "rho = water.getDensity('kg/m3')",
    "DeltaP = 1.0  # bar",
    "Q = 10.0       # m3/hr",
    "Cv_required = Q / sqrt(DeltaP / (rho/1000.0))",
    "print('Required Cv:', round(Cv_required,2))"
   ],
   "outputs": [],
   "execution_count": null
  },
  {
   "cell_type": "markdown",
   "metadata": {
    "id": "control"
   },
   "source": [
    "# Controlling downstream pressure by valve opening",
    "The percent valve opening can be adjusted to reach a desired downstream pressure. The snippet below uses a simple iterative approach to find the opening giving approximately 60 bar downstream pressure."
   ]
  },
  {
   "cell_type": "code",
   "metadata": {
    "id": "iter"
   },
   "source": [
    "target = 60.0",
    "valve1.setCv(15.0)",
    "open = 10.0",
    "for i in range(10):",
    "    valve1.setPercentValveOpening(open)",
    "    runProcess()",
    "    p_out = valve1.getOutStream().getPressure('bara')",
    "    open *= target/p_out",
    "print('Final opening', round(open,1),'%')",
    "print('Resulting downstream pressure', p_out,'bara')"
   ],
   "outputs": [],
   "execution_count": null
  }
 ],
 "metadata": {
  "kernelspec": {
   "display_name": "Python 3",
   "language": "python",
   "name": "python3"
  },
  "language_info": {
   "name": "python"
  }
 },
 "nbformat": 4,
 "nbformat_minor": 0
}