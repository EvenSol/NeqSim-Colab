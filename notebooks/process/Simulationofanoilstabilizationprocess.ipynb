{
  "nbformat": 4,
  "nbformat_minor": 2,
  "metadata": {
    "colab": {
      "name": "Simulationofanoilstabilizationprocess.ipynb",
      "provenance": [],
      "collapsed_sections": [],
      "authorship_tag": "ABX9TyOPkdLwR4nc+lc/3phP4bl2",
      "include_colab_link": true
    },
    "kernelspec": {
      "name": "python3",
      "display_name": "Python 3.7.9 64-bit ('base': conda)"
    },
    "language_info": {
      "name": "python",
      "version": "3.7.9",
      "mimetype": "text/x-python",
      "codemirror_mode": {
        "name": "ipython",
        "version": 3
      },
      "pygments_lexer": "ipython3",
      "nbconvert_exporter": "python",
      "file_extension": ".py"
    },
    "interpreter": {
      "hash": "a5df7bd4ca0d6bb9986d9d69faf4f6c25893f82bf7982e9868ee8495bd8c927f"
    }
  },
  "cells": [
    {
      "cell_type": "markdown",
      "source": [
        "<a href=\"https://colab.research.google.com/github/EvenSol/NeqSim-Colab/blob/master/notebooks/process/Simulationofanoilstabilizationprocess.ipynb\" target=\"_parent\"><img src=\"https://colab.research.google.com/assets/colab-badge.svg\" alt=\"Open In Colab\"/></a>"
      ],
      "metadata": {
        "id": "view-in-github",
        "colab_type": "text"
      }
    },
    {
      "cell_type": "markdown",
      "source": [
        "#Simulation of an oil stabilization process\n",
        "In this notebook we will establish code for using NeqSim for simulation of an oil stabilization process"
      ],
      "metadata": {
        "id": "rPro0rQqbeWG"
      }
    },
    {
      "cell_type": "code",
      "execution_count": 1,
      "source": [
        "# Setting up the Colab page to use neqsim\r\n",
        "%%capture\r\n",
        "!pip install neqsim\r\n",
        "import neqsim\r\n",
        "from neqsim.thermo.thermoTools import *"
      ],
      "outputs": [
        {
          "output_type": "stream",
          "name": "stderr",
          "text": [
            "UsageError: Line magic function `%%capture` not found.\n"
          ]
        }
      ],
      "metadata": {
        "id": "UMv-vbo2bjNW"
      }
    },
    {
      "cell_type": "markdown",
      "source": [
        "# Process flow diagram"
      ],
      "metadata": {
        "id": "oOBN7Ha8b3oY"
      }
    },
    {
      "cell_type": "code",
      "execution_count": 1,
      "source": [
        "inputdata = {\r\n",
        "  'feedFlowRateWell': 10,\r\n",
        "  'wellPressure': 180.0,\r\n",
        "  'wellTemperature':100.0,\r\n",
        "  'topsidePressure': 90.0,\r\n",
        "  'topsideTemperature': 5.0,\r\n",
        "  'chokePressure': 80.0,\r\n",
        "\r\n",
        "\r\n",
        "\r\n",
        "  'feedTemperature': 43.8, \r\n",
        "  'firstStageTemperature': 78.5,\r\n",
        "  'firstStagePressure': 70.0, \r\n",
        "  'secondStagePressure': 24.6, \r\n",
        "  'temperatureOilHeater' : 55.9,\r\n",
        "  'thirdStagePressure': 1.9,\r\n",
        "  'secondStageRecompPressure': 6.6,\r\n",
        "  'thirdStageRecompPressure': 12.7,  \r\n",
        "  'fourthStageRecompPressure': 24.7,\r\n",
        "  'exportCompressorPressure': 123.7,\r\n",
        "  'firstStageSuctionCoolerTemperature': 25.3, \r\n",
        "  'secondStageSuctionCoolerTemperature': 24.5, \r\n",
        "   'thirdStageSuctionCoolerTemperature': 30.0, \r\n",
        "   'fourthStageSuctionCoolerTemperature': 25.0, \r\n",
        "  'firstStageCompressorOutTemperature': 125.3, \r\n",
        "  'secondStageCompressorOutTemperature': 90.0,\r\n",
        "  'thirdStageCompressorOutTemperature': 93.7, \r\n",
        "  'fourthStageCompressorOutTemperature': 132.9, \r\n",
        "  'exportCompressorOutTemperature': 90.9, \r\n",
        "  'suctionCoolerOutTemperature': 25.0, \r\n",
        "  'exportCoolerTemp': 35.0,\r\n",
        "  'exportGasFlowRate': 10000.0\r\n",
        "}"
      ],
      "outputs": [],
      "metadata": {
        "id": "XRqU7EeeclcA"
      }
    },
    {
      "cell_type": "code",
      "execution_count": 13,
      "source": [
        "from neqsim.thermo import fluid, printFrame\r\n",
        "from neqsim.process import compressor, cooler, separator3phase, getProcess, clearProcess, mixer, heater, stream, pump, separator, runProcess, stream, saturator, valve, filters, heatExchanger, simpleTEGAbsorber,distillationColumn, waterStripperColumn, recycle2, setpoint, calculator\r\n",
        "\r\n",
        "clearProcess()\r\n",
        "\r\n",
        "wellFluid = fluid('pr')\r\n",
        "wellFluid.addComponent(\"nitrogen\", 0.08)\r\n",
        "wellFluid.addComponent(\"CO2\", 3.56)\r\n",
        "wellFluid.addComponent(\"methane\", 87.36)\r\n",
        "wellFluid.addComponent(\"ethane\", 4.02)\r\n",
        "wellFluid.addComponent(\"propane\", 1.54)\r\n",
        "wellFluid.addComponent(\"i-butane\", 0.2)\r\n",
        "wellFluid.addComponent(\"n-butane\", 0.42)\r\n",
        "wellFluid.addComponent(\"i-pentane\", 0.15)\r\n",
        "wellFluid.addComponent(\"n-pentane\", 0.20)\r\n",
        "\t\t\r\n",
        "wellFluid.addTBPfraction(\"C6\", 0.24, 84.99/1000.0, 695.0/1000.0)\r\n",
        "wellFluid.addTBPfraction(\"C7\", 0.34, 97.87/1000.0, 718.0/1000.0)\r\n",
        "wellFluid.addTBPfraction(\"C8\", 0.33, 111.54/1000.0, 729.0/1000.0)\r\n",
        "wellFluid.addTBPfraction(\"C9\", 0.19, 126.1/1000.0, 749.0/1000.0)\r\n",
        "wellFluid.addTBPfraction(\"C10\", 0.15, 140.14/1000.0, 760.0/1000.0)\r\n",
        "wellFluid.addTBPfraction(\"C11\", 0.69, 175.0/1000.0, 830.0/1000.0)\r\n",
        "wellFluid.addTBPfraction(\"C12\", 0.5, 280.0/1000.0, 914.0/1000.0)\r\n",
        "wellFluid.addTBPfraction(\"C13\", 0.103, 560.0/1000.0, 980.0/1000.0)\r\n",
        "\r\n",
        "wellFluid.setMixingRule(2)\r\n",
        "wellFluid.init(0)\r\n",
        "\r\n",
        "wellFluid.setMolarComposition([0.08, 3.56, 87.36, 4.02, 1.54, 0.2, 0.42, 0.15, 0.2, 0.24, 0.34, 0.33, 0.19, 0.15, 0.69, 0.5, 0.03])\r\n",
        "\r\n",
        "wellStream = stream(wellFluid)\r\n",
        "wellStream.setName(\"dry well stream\")\r\n",
        "wellStream.setFlowRate(inputdata['feedFlowRateWell'], \"MSm3/day\")\r\n",
        "wellStream.setTemperature(inputdata['wellTemperature'], \"C\")\r\n",
        "wellStream.setPressure(inputdata['wellPressure'], \"bara\")\r\n",
        "\r\n",
        "saturatedFeedGas = saturator(wellStream)\r\n",
        "saturatedFeedGas.setName(\"water saturator\")\r\n",
        "\r\n",
        "waterSaturatedFeedGas = stream(saturatedFeedGas.getOutStream())\r\n",
        "waterSaturatedFeedGas.setName(\"water saturated feed gas\")\r\n",
        "\r\n",
        "feedTPsetter = heater(waterSaturatedFeedGas)\r\n",
        "feedTPsetter.setName('inletTP')\r\n",
        "feedTPsetter.setOutPressure(inputdata['topsidePressure'], \"bara\")\r\n",
        "feedTPsetter.setOutTemperature(inputdata['topsideTemperature'], \"C\")\r\n",
        "\r\n",
        "chokeValve = valve(feedTPsetter.getOutStream())\r\n",
        "chokeValve.setOutletPressure(inputdata['chokePressure'], 'bara')\r\n",
        "\r\n",
        "feedToOffshoreProcess = stream(chokeValve.getOutStream())\r\n",
        "feedToOffshoreProcess.setName(\"feed to offshore\")\r\n",
        "\r\n",
        "firstStageSeparator = separator3phase(feedToOffshoreProcess)\r\n",
        "firstStageSeparator.setName(\"1st stage separator\")\r\n",
        "\r\n",
        "oilHeaterFromFirstStage = heater(firstStageSeparator.getOilOutStream())\r\n",
        "oilHeaterFromFirstStage.setName(\"oil heater second stage\")\r\n",
        "oilHeaterFromFirstStage.setOutTemperature(273.15+inputdata['temperatureOilHeater'])\r\n",
        "\r\n",
        "oilThrotValve = valve(oilHeaterFromFirstStage.getOutStream())\r\n",
        "oilThrotValve.setName(\"valve oil from first stage\")\r\n",
        "oilThrotValve.setOutletPressure(inputdata['secondStagePressure'])\r\n",
        "\r\n",
        "secondStageSeparator = separator3phase(oilThrotValve.getOutStream())\r\n",
        "secondStageSeparator.setName(\"2nd stage separator\")\r\n",
        "\r\n",
        "oilThrotValve2 = valve(secondStageSeparator.getOilOutStream())\r\n",
        "oilThrotValve2.setName(\"valve oil from second stage\")\r\n",
        "oilThrotValve2.setOutletPressure(inputdata['thirdStagePressure'])\r\n",
        "\r\n",
        "thirdStageSeparator = separator3phase(oilThrotValve2.getOutStream())\r\n",
        "thirdStageSeparator.setName(\"3rd stage separator\")\r\n",
        "\r\n",
        "oilThirdStageToSep =  wellStream.clone()\r\n",
        "oilThirdStageToSep.setName(\"resyc oil\")\r\n",
        "thirdStageSeparator.addStream(oilThirdStageToSep)\r\n",
        "\r\n",
        "stableOil = stream(thirdStageSeparator.getOilOutStream())\r\n",
        "stableOil.setName(\"stable oil\")\r\n",
        "\r\n",
        "stableOilPump = pump(stableOil,15.0,\"stable oil pump\")\r\n",
        "\r\n",
        "firstStageCooler = cooler(thirdStageSeparator.getGasOutStream())\r\n",
        "firstStageCooler.setName(\"1st stage cooler\")\r\n",
        "firstStageCooler.setOutTemperature(273.15+inputdata['firstStageSuctionCoolerTemperature'])\r\n",
        "\r\n",
        "firstStageScrubber = separator(firstStageCooler.getOutStream())\r\n",
        "firstStageScrubber.setName(\"1st stage scrubber\")\r\n",
        "\r\n",
        "firstStageCompressor = compressor(firstStageScrubber.getGasOutStream())\r\n",
        "firstStageCompressor.setName(\"1st stage compressor\")\r\n",
        "firstStageCompressor.setOutletPressure(inputdata['secondStageRecompPressure'])\r\n",
        "firstStageCompressor.setIsentropicEfficiency(0.75)\r\n",
        "\r\n",
        "secondStageCooler = cooler(firstStageCompressor.getOutStream())\r\n",
        "secondStageCooler.setName(\"2nd stage cooler\")\r\n",
        "secondStageCooler.setOutTemperature(273.15+inputdata['secondStageSuctionCoolerTemperature'])\r\n",
        "\r\n",
        "secondStageScrubber = separator(secondStageCooler.getOutStream())\r\n",
        "secondStageScrubber.setName(\"2nd stage scrubber\")\r\n",
        "\r\n",
        "secondStageCompressor = compressor(secondStageScrubber.getGasOutStream())\r\n",
        "secondStageCompressor.setName(\"2nd stage compressor\")\r\n",
        "secondStageCompressor.setOutletPressure(inputdata['chokePressure'])\r\n",
        "secondStageCompressor.setIsentropicEfficiency(0.75)\r\n",
        "\r\n",
        "richGasMixer = mixer(\"fourth Stage mixer\")\r\n",
        "richGasMixer.addStream(secondStageCompressor.getOutStream())\r\n",
        "richGasMixer.addStream(firstStageSeparator.getGasOutStream())\r\n",
        "\r\n",
        "dewPointControlCooler = cooler(richGasMixer.getOutStream())\r\n",
        "dewPointControlCooler.setName(\"dew point cooler\")\r\n",
        "dewPointControlCooler.setOutTemperature(273.15+inputdata['fourthStageSuctionCoolerTemperature'])\r\n",
        "\r\n",
        "dewPointScrubber = separator(dewPointControlCooler.getOutStream())\r\n",
        "dewPointScrubber.setName(\"dew point scrubber\")\r\n",
        "\r\n",
        "lpLiqmixer = mixer(\"LP liq gas mixer\");\r\n",
        "lpLiqmixer.addStream(firstStageScrubber.getLiquidOutStream());\r\n",
        "lpLiqmixer.addStream(secondStageScrubber.getLiquidOutStream());\r\n",
        "lpLiqmixer.addStream(dewPointScrubber.getLiquidOutStream());\r\n",
        "\r\n",
        "lpResycle = recycle2(\"LP liq resycle\")\r\n",
        "lpResycle.addStream(lpLiqmixer.getOutStream())\r\n",
        "lpResycle.setOutletStream(oilThirdStageToSep)\r\n",
        "\r\n",
        "exportCompressor1 = compressor(dewPointScrubber.getGasOutStream())\r\n",
        "exportCompressor1.setName(\"export 1st stage\")\r\n",
        "exportCompressor1.setOutletPressure(140.0)\r\n",
        "exportCompressor1.setIsentropicEfficiency(0.75)\r\n",
        "\r\n",
        "exportInterstageCooler = cooler(exportCompressor1.getOutStream())\r\n",
        "exportInterstageCooler.setName(\"interstage stage cooler\")\r\n",
        "exportInterstageCooler.setOutTemperature(273.15+inputdata['secondStageSuctionCoolerTemperature'])\r\n",
        "\r\n",
        "exportCompressor2= compressor(exportInterstageCooler.getOutStream())\r\n",
        "exportCompressor2.setName(\"export 2nd stage\")\r\n",
        "exportCompressor2.setOutletPressure(200.0)\r\n",
        "exportCompressor2.setIsentropicEfficiency(0.75)\r\n",
        "\r\n",
        "exportCooler = cooler(exportCompressor1.getOutStream())\r\n",
        "exportCooler.setName(\"export cooler\")\r\n",
        "exportCooler.setOutTemperature(273.15+inputdata['secondStageSuctionCoolerTemperature'])\r\n",
        "\r\n",
        "oilprocess = getProcess()\r\n"
      ],
      "outputs": [],
      "metadata": {
        "id": "-zm_LJX1bYdN"
      }
    },
    {
      "cell_type": "markdown",
      "source": [
        "# Start simulation"
      ],
      "metadata": {
        "id": "hWT8cRZ01PYY"
      }
    },
    {
      "cell_type": "code",
      "execution_count": 14,
      "source": [
        "thread = oilprocess.runAsThread()"
      ],
      "outputs": [],
      "metadata": {
        "id": "JeI3lwpj1R02"
      }
    },
    {
      "cell_type": "markdown",
      "source": [
        "# Check if simulation has converged/stopped\r\n",
        "\r\n",
        "True if still running.\r\n",
        "False if finished."
      ],
      "metadata": {
        "id": "A1I8qVv51aO5"
      }
    },
    {
      "cell_type": "code",
      "execution_count": 16,
      "source": [
        "thread.isAlive() "
      ],
      "outputs": [
        {
          "output_type": "execute_result",
          "data": {
            "text/plain": [
              "False"
            ]
          },
          "metadata": {},
          "execution_count": 16
        }
      ],
      "metadata": {
        "colab": {
          "base_uri": "https://localhost:8080/"
        },
        "id": "9g78aFvJ1cux",
        "outputId": "2ccc2e28-6a78-4dbc-e38a-5180cb8da1e4"
      }
    },
    {
      "cell_type": "markdown",
      "source": [
        "# Read results from simulation"
      ],
      "metadata": {
        "id": "cFzMn5nG1fJZ"
      }
    },
    {
      "cell_type": "code",
      "execution_count": 17,
      "source": [
        "powerComp1 = oilprocess.getUnit(\"1st stage compressor\").getPower()/1.0e3\r\n",
        "powerComp2 = oilprocess.getUnit(\"2nd stage compressor\").getPower()/1.0e3\r\n",
        "powerExpComp1 = oilprocess.getUnit(\"export 1st stage\").getPower()/1.0e3\r\n",
        "powerExpComp2 = oilprocess.getUnit(\"export 2nd stage\").getPower()/1.0e3\r\n",
        "\r\n",
        "print('recomp power 1 [kW] ', powerComp1)\r\n",
        "print('recomp power 2 [kW] ', powerComp2)\r\n",
        "print('exp power 1 [kW] ', powerExpComp1)\r\n",
        "print('exp power 2 [kW] ', powerExpComp2)\r\n"
      ],
      "outputs": [
        {
          "output_type": "stream",
          "name": "stdout",
          "text": [
            "recomp power 1 [kW]  155.86741627256927\n",
            "recomp power 2 [kW]  297.82728223784227\n",
            "exp power 1 [kW]  7659.0357066900515\n",
            "exp power 2 [kW]  4457.977878960649\n"
          ]
        }
      ],
      "metadata": {
        "colab": {
          "base_uri": "https://localhost:8080/"
        },
        "id": "vh30bp0h1iuR",
        "outputId": "7a0f04af-4c1c-4b59-d7ab-28f7de8b60aa"
      }
    },
    {
      "cell_type": "code",
      "execution_count": 8,
      "source": [
        "from neqsim.thermo import fluid, printFrame\r\n",
        "printFrame(waterSaturatedFeedGas.getFluid())"
      ],
      "outputs": [
        {
          "output_type": "stream",
          "name": "stdout",
          "text": [
            "                        total        gas         oil                  \n",
            "          nitrogen 7.94066E-4 8.11334E-4  2.12556E-4   [mole fraction]\n",
            "               CO2 3.53359E-2 3.56464E-2  2.48808E-2   [mole fraction]\n",
            "           methane  8.6712E-1 8.80525E-1  4.15706E-1   [mole fraction]\n",
            "            ethane 3.99018E-2 3.99399E-2  3.86186E-2   [mole fraction]\n",
            "           propane 1.52858E-2 1.50306E-2    2.388E-2   [mole fraction]\n",
            "          i-butane 1.98516E-3 1.91844E-3  4.23211E-3   [mole fraction]\n",
            "          n-butane 4.16884E-3 3.98566E-3  1.03376E-2   [mole fraction]\n",
            "         i-pentane 1.48887E-3 1.38289E-3  5.05786E-3   [mole fraction]\n",
            "         n-pentane 1.98516E-3  1.8232E-3  7.43943E-3   [mole fraction]\n",
            "             C6_PC  2.3822E-3 2.05829E-3  1.32898E-2   [mole fraction]\n",
            "             C7_PC 3.37478E-3 2.74265E-3  2.46619E-2   [mole fraction]\n",
            "             C8_PC 3.27552E-3  2.4597E-3  3.07486E-2   [mole fraction]\n",
            "             C9_PC 1.88591E-3 1.26801E-3   2.2694E-2   [mole fraction]\n",
            "            C10_PC 1.48887E-3   8.782E-4  2.20535E-2   [mole fraction]\n",
            "            C11_PC 6.84882E-3 2.40857E-3  1.56376E-1   [mole fraction]\n",
            "            C12_PC 4.96291E-3 1.25234E-4  1.67874E-1   [mole fraction]\n",
            "            C13_PC 2.97775E-4 3.04419E-9  1.03254E-2   [mole fraction]\n",
            "             water 7.41795E-3 6.99644E-3  2.16126E-2   [mole fraction]\n",
            "                                                                      \n",
            "           Density             1.25669E2   7.07036E2          [kg/m^3]\n",
            "     PhaseFraction            9.71161E-1  2.88389E-2   [mole fraction]\n",
            "         MolarMass  2.22039E1  1.97393E1     1.052E2         [kg/kmol]\n",
            "          Z factor            8.83399E-1  9.13538E-1               [-]\n",
            "Heat Capacity (Cp)             2.90988E0   2.27542E0         [kJ/kg*K]\n",
            "Heat Capacity (Cv)             1.89826E0   2.00202E0         [kJ/kg*K]\n",
            "    Speed of Sound             4.68013E2    8.2997E2           [m/sec]\n",
            "          Enthalpy  5.35248E1  8.16105E1  -1.23941E2           [kJ/kg]\n",
            "           Entropy -1.36171E0 -1.54518E0  -2.0241E-1         [kJ/kg*K]\n",
            "    JT coefficient            1.65777E-1 -3.87919E-2           [K/bar]\n",
            "                                                                      \n",
            "         Viscosity            1.89417E-5  3.27257E-4        [kg/m*sec]\n",
            "      Conductivity            5.72688E-2  9.97419E-2           [W/m*K]\n",
            "    SurfaceTension            4.32298E-3  4.32298E-3             [N/m]\n",
            "                                                                      \n",
            "                                                                      \n",
            "                                                                      \n",
            "          Pressure                 180.0       180.0             [bar]\n",
            "       Temperature                373.15      373.15               [K]\n",
            "                                                                      \n",
            "             Model                PR-EOS      PR-EOS                 -\n",
            "       Mixing Rule               classic     classic                 -\n",
            "                                                                      \n",
            "            Stream                                                   -\n",
            "                                                                      \n",
            "                                                                      \n",
            "                                                                      \n",
            "                                                                      \n"
          ]
        }
      ],
      "metadata": {}
    },
    {
      "cell_type": "markdown",
      "source": [
        "# Save process to file"
      ],
      "metadata": {}
    },
    {
      "cell_type": "code",
      "execution_count": 18,
      "source": [
        "oilprocess.save('c:/temp/oilpro.neqsim')"
      ],
      "outputs": [],
      "metadata": {}
    }
  ]
}