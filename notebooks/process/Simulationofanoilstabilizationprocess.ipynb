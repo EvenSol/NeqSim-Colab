{
  "nbformat": 4,
  "nbformat_minor": 0,
  "metadata": {
    "colab": {
      "name": "Simulationofanoilstabilizationprocess.ipynb",
      "provenance": [],
      "collapsed_sections": [],
      "include_colab_link": true
    },
    "kernelspec": {
      "name": "python3",
      "display_name": "Python 3.7.9 64-bit ('base': conda)"
    },
    "language_info": {
      "name": "python",
      "version": "3.7.9",
      "mimetype": "text/x-python",
      "codemirror_mode": {
        "name": "ipython",
        "version": 3
      },
      "pygments_lexer": "ipython3",
      "nbconvert_exporter": "python",
      "file_extension": ".py"
    },
    "interpreter": {
      "hash": "a5df7bd4ca0d6bb9986d9d69faf4f6c25893f82bf7982e9868ee8495bd8c927f"
    }
  },
  "cells": [
    {
      "cell_type": "markdown",
      "metadata": {
        "id": "view-in-github",
        "colab_type": "text"
      },
      "source": [
        "<a href=\"https://colab.research.google.com/github/EvenSol/NeqSim-Colab/blob/master/notebooks/process/Simulationofanoilstabilizationprocess.ipynb\" target=\"_parent\"><img src=\"https://colab.research.google.com/assets/colab-badge.svg\" alt=\"Open In Colab\"/></a>"
      ]
    },
    {
      "cell_type": "markdown",
      "metadata": {
        "id": "rPro0rQqbeWG"
      },
      "source": [
        "#Simulation of an oil stabilization process\n",
        "In this notebook we will establish code for using NeqSim for simulation of an oil stabilization process"
      ]
    },
    {
      "cell_type": "code",
      "metadata": {
        "id": "UMv-vbo2bjNW"
      },
      "source": [
        "# Setting up the Colab page to use neqsim\n",
        "%%capture\n",
        "!pip install neqsim\n",
        "import neqsim\n",
        "from neqsim.thermo.thermoTools import *"
      ],
      "execution_count": 1,
      "outputs": []
    },
    {
      "cell_type": "markdown",
      "metadata": {
        "id": "oOBN7Ha8b3oY"
      },
      "source": [
        "# Process flow diagram"
      ]
    },
    {
      "cell_type": "code",
      "metadata": {
        "id": "XRqU7EeeclcA"
      },
      "source": [
        "inputdata = {\n",
        "  'feedFlowRateWell': 10,\n",
        "  'wellPressure': 180.0,\n",
        "  'wellTemperature':100.0,\n",
        "  'topsidePressure': 90.0,\n",
        "  'topsideTemperature': 5.0,\n",
        "  'firstStagePressure': 75.0, \n",
        "  'temperatureOilHeater' : 75.9,\n",
        "  'secondStagePressure': 8.6,\n",
        "  'thirdStagePressure': 1.9,\n",
        "  'firstStageSuctionCoolerTemperature': 25.3, \n",
        "  'secondStageSuctionCoolerTemperature': 24.5, \n",
        "  'thirdStageSuctionCoolerTemperature':25.0,\n",
        "  'firstStageExportCoolerTemperature': 25.3, \n",
        "  'secondStageExportCoolerTemperature': 24.5\n",
        "}"
      ],
      "execution_count": 2,
      "outputs": []
    },
    {
      "cell_type": "code",
      "metadata": {
        "id": "-zm_LJX1bYdN"
      },
      "source": [
        "from neqsim.thermo import fluid, printFrame\n",
        "from neqsim.process import compressor, cooler, separator3phase, getProcess, clearProcess, mixer, heater, stream, pump, separator, runProcess, stream, saturator, valve, filters, heatExchanger, simpleTEGAbsorber,distillationColumn, waterStripperColumn, recycle2, setpoint, calculator\n",
        "\n",
        "clearProcess()\n",
        "\n",
        "wellFluid = fluid('pr')\n",
        "wellFluid.addComponent(\"nitrogen\", 0.08)\n",
        "wellFluid.addComponent(\"CO2\", 3.56)\n",
        "wellFluid.addComponent(\"methane\", 87.36)\n",
        "wellFluid.addComponent(\"ethane\", 4.02)\n",
        "wellFluid.addComponent(\"propane\", 1.54)\n",
        "wellFluid.addComponent(\"i-butane\", 0.2)\n",
        "wellFluid.addComponent(\"n-butane\", 0.42)\n",
        "wellFluid.addComponent(\"i-pentane\", 0.15)\n",
        "wellFluid.addComponent(\"n-pentane\", 0.20)\n",
        "\t\t\n",
        "wellFluid.addTBPfraction(\"C6\", 3.24, 84.99/1000.0, 695.0/1000.0)\n",
        "wellFluid.addTBPfraction(\"C7\", 1.34, 97.87/1000.0, 718.0/1000.0)\n",
        "wellFluid.addTBPfraction(\"C8\", 1.33, 111.54/1000.0, 729.0/1000.0)\n",
        "wellFluid.addTBPfraction(\"C9\", 1.19, 126.1/1000.0, 749.0/1000.0)\n",
        "wellFluid.addTBPfraction(\"C10\", 1.15, 140.14/1000.0, 760.0/1000.0)\n",
        "wellFluid.addTBPfraction(\"C11\", 1.69, 175.0/1000.0, 830.0/1000.0)\n",
        "wellFluid.addTBPfraction(\"C12\", 1.5, 280.0/1000.0, 914.0/1000.0)\n",
        "wellFluid.addTBPfraction(\"C13\", 2.103, 560.0/1000.0, 980.0/1000.0)\n",
        "\n",
        "wellFluid.setMixingRule(2)\n",
        "wellFluid.init(0)\n",
        "\n",
        "wellFluid.setMolarComposition([0.08, 3.56, 87.36, 4.02, 1.54, 0.2, 0.42, 0.15, 0.2, 1.24, 1.34, 1.33, 1.19, 1.15, 1.69, 1.5, 1.03])\n",
        "\n",
        "wellStream = stream(wellFluid)\n",
        "wellStream.setName(\"dry well stream\")\n",
        "wellStream.setFlowRate(inputdata['feedFlowRateWell'], \"MSm3/day\")\n",
        "wellStream.setTemperature(inputdata['wellTemperature'], \"C\")\n",
        "wellStream.setPressure(inputdata['wellPressure'], \"bara\")\n",
        "\n",
        "saturatedFeedGas = saturator(wellStream)\n",
        "saturatedFeedGas.setName(\"water saturator\")\n",
        "\n",
        "waterSaturatedFeedGas = stream(saturatedFeedGas.getOutStream())\n",
        "waterSaturatedFeedGas.setName(\"water saturated feed gas\")\n",
        "\n",
        "feedTPsetter = heater(waterSaturatedFeedGas)\n",
        "feedTPsetter.setName('inletTP')\n",
        "feedTPsetter.setOutPressure(inputdata['topsidePressure'], \"bara\")\n",
        "feedTPsetter.setOutTemperature(inputdata['topsideTemperature'], \"C\")\n",
        "\n",
        "chokeValve = valve(feedTPsetter.getOutStream())\n",
        "chokeValve.setOutletPressure(inputdata['firstStagePressure'], 'bara')\n",
        "\n",
        "feedToOffshoreProcess = stream(chokeValve.getOutStream())\n",
        "feedToOffshoreProcess.setName(\"feed to offshore\")\n",
        "\n",
        "firstStageSeparator = separator3phase(feedToOffshoreProcess)\n",
        "firstStageSeparator.setName(\"1st stage separator\")\n",
        "\n",
        "oilHeaterFromFirstStage = heater(firstStageSeparator.getOilOutStream())\n",
        "oilHeaterFromFirstStage.setName(\"oil heater second stage\")\n",
        "oilHeaterFromFirstStage.setOutTemperature(inputdata['temperatureOilHeater'],'C')\n",
        "\n",
        "oilThrotValve = valve(oilHeaterFromFirstStage.getOutStream())\n",
        "oilThrotValve.setName(\"valve oil from first stage\")\n",
        "oilThrotValve.setOutletPressure(inputdata['secondStagePressure'])\n",
        "\n",
        "secondStageSeparator = separator3phase(oilThrotValve.getOutStream())\n",
        "secondStageSeparator.setName(\"2nd stage separator\")\n",
        "\n",
        "oilThrotValve2 = valve(secondStageSeparator.getOilOutStream())\n",
        "oilThrotValve2.setName(\"valve oil from second stage\")\n",
        "oilThrotValve2.setOutletPressure(inputdata['thirdStagePressure'])\n",
        "\n",
        "thirdStageSeparator = separator3phase(oilThrotValve2.getOutStream())\n",
        "thirdStageSeparator.setName(\"3rd stage separator\")\n",
        "\n",
        "oilThirdStageToSep =  wellStream.clone()\n",
        "oilThirdStageToSep.setName(\"resyc oil\")\n",
        "thirdStageSeparator.addStream(oilThirdStageToSep)\n",
        "\n",
        "stableOil = stream(thirdStageSeparator.getOilOutStream())\n",
        "stableOil.setName(\"stable oil\")\n",
        "\n",
        "stableOilPump = pump(stableOil,15.0,\"stable oil pump\")\n",
        "\n",
        "firstStageCooler = cooler(thirdStageSeparator.getGasOutStream())\n",
        "firstStageCooler.setName(\"1st stage cooler\")\n",
        "firstStageCooler.setOutTemperature(inputdata['firstStageSuctionCoolerTemperature'],'C')\n",
        "\n",
        "firstStageScrubber = separator(firstStageCooler.getOutStream())\n",
        "firstStageScrubber.setName(\"1st stage scrubber\")\n",
        "\n",
        "firstStageCompressor = compressor(firstStageScrubber.getGasOutStream())\n",
        "firstStageCompressor.setName(\"1st stage compressor\")\n",
        "firstStageCompressor.setOutletPressure(inputdata['secondStagePressure'])\n",
        "firstStageCompressor.setIsentropicEfficiency(0.75)\n",
        "\n",
        "secondStageCooler = cooler(firstStageCompressor.getOutStream())\n",
        "secondStageCooler.setName(\"2nd stage cooler\")\n",
        "secondStageCooler.setOutTemperature(inputdata['secondStageSuctionCoolerTemperature'],'C')\n",
        "\n",
        "secondStageScrubber = separator(secondStageCooler.getOutStream())\n",
        "secondStageScrubber.setName(\"2nd stage scrubber\")\n",
        "\n",
        "secondStageCompressor = compressor(secondStageScrubber.getGasOutStream())\n",
        "secondStageCompressor.setName(\"2nd stage compressor\")\n",
        "secondStageCompressor.setOutletPressure(inputdata['firstStagePressure'])\n",
        "secondStageCompressor.setIsentropicEfficiency(0.75)\n",
        "\n",
        "richGasMixer = mixer(\"fourth Stage mixer\")\n",
        "richGasMixer.addStream(secondStageCompressor.getOutStream())\n",
        "richGasMixer.addStream(firstStageSeparator.getGasOutStream())\n",
        "\n",
        "dewPointControlCooler = cooler(richGasMixer.getOutStream())\n",
        "dewPointControlCooler.setName(\"dew point cooler\")\n",
        "dewPointControlCooler.setOutTemperature(inputdata['thirdStageSuctionCoolerTemperature'],'C')\n",
        "\n",
        "dewPointScrubber = separator(dewPointControlCooler.getOutStream())\n",
        "dewPointScrubber.setName(\"dew point scrubber\")\n",
        "\n",
        "lpLiqmixer = mixer(\"LP liq gas mixer\");\n",
        "lpLiqmixer.addStream(firstStageScrubber.getLiquidOutStream());\n",
        "lpLiqmixer.addStream(secondStageScrubber.getLiquidOutStream());\n",
        "lpLiqmixer.addStream(dewPointScrubber.getLiquidOutStream());\n",
        "\n",
        "lpResycle = recycle2(\"LP liq resycle\")\n",
        "lpResycle.addStream(lpLiqmixer.getOutStream())\n",
        "lpResycle.setOutletStream(oilThirdStageToSep)\n",
        "\n",
        "exportCompressor1 = compressor(dewPointScrubber.getGasOutStream())\n",
        "exportCompressor1.setName(\"export 1st stage\")\n",
        "exportCompressor1.setOutletPressure(140.0)\n",
        "exportCompressor1.setIsentropicEfficiency(0.75)\n",
        "\n",
        "exportInterstageCooler = cooler(exportCompressor1.getOutStream())\n",
        "exportInterstageCooler.setName(\"interstage stage cooler\")\n",
        "exportInterstageCooler.setOutTemperature(inputdata['firstStageExportCoolerTemperature'],'C')\n",
        "\n",
        "exportCompressor2= compressor(exportInterstageCooler.getOutStream())\n",
        "exportCompressor2.setName(\"export 2nd stage\")\n",
        "exportCompressor2.setOutletPressure(200.0)\n",
        "exportCompressor2.setIsentropicEfficiency(0.75)\n",
        "\n",
        "exportCooler = cooler(exportCompressor1.getOutStream())\n",
        "exportCooler.setName(\"export cooler\")\n",
        "exportCooler.setOutTemperature(inputdata['secondStageExportCoolerTemperature'],'C')\n",
        "\n",
        "exportGas = stream(exportCooler.getOutStream())\n",
        "exportGas.setName(\"export gas\")\n",
        "\n",
        "oilprocess = getProcess()\n"
      ],
      "execution_count": 3,
      "outputs": []
    },
    {
      "cell_type": "markdown",
      "metadata": {
        "id": "hWT8cRZ01PYY"
      },
      "source": [
        "# Start simulation as a thread"
      ]
    },
    {
      "cell_type": "code",
      "metadata": {
        "id": "JeI3lwpj1R02"
      },
      "source": [
        "#oilprocess.run() #run this to finish thread before continuing\n",
        "thread = oilprocess.runAsThread()\n",
        "thread.join(50000) # set maximum time to 50000 msec before continuing\n"
      ],
      "execution_count": 14,
      "outputs": []
    },
    {
      "cell_type": "markdown",
      "metadata": {
        "id": "A1I8qVv51aO5"
      },
      "source": [
        "# Check if simulation has converged/stopped\n",
        "\n",
        "True if still running.\n",
        "False if finished."
      ]
    },
    {
      "cell_type": "code",
      "metadata": {
        "id": "9g78aFvJ1cux",
        "outputId": "f54d63ba-fc88-44c3-c621-1dc4505242d3",
        "colab": {
          "base_uri": "https://localhost:8080/"
        }
      },
      "source": [
        "thread.isAlive() "
      ],
      "execution_count": 5,
      "outputs": [
        {
          "output_type": "execute_result",
          "data": {
            "text/plain": [
              "False"
            ]
          },
          "metadata": {},
          "execution_count": 5
        }
      ]
    },
    {
      "cell_type": "markdown",
      "metadata": {
        "id": "cFzMn5nG1fJZ"
      },
      "source": [
        "# Read results from simulation"
      ]
    },
    {
      "cell_type": "code",
      "metadata": {
        "colab": {
          "base_uri": "https://localhost:8080/"
        },
        "id": "vh30bp0h1iuR",
        "outputId": "96676898-3fad-470f-bef7-d8f09ce54643"
      },
      "source": [
        "TVP = stableOil.TVP(20.0, 'C')\n",
        "cricondenbar = exportGas.CCB('bara')\n",
        "powerComp1 = oilprocess.getUnit(\"1st stage compressor\").getPower()/1.0e3\n",
        "powerComp2 = oilprocess.getUnit(\"2nd stage compressor\").getPower()/1.0e3\n",
        "powerExpComp1 = oilprocess.getUnit(\"export 1st stage\").getPower()/1.0e3\n",
        "powerExpComp2 = oilprocess.getUnit(\"export 2nd stage\").getPower()/1.0e3\n",
        "\n",
        "print('TVP [bara] ', TVP)\n",
        "print('cricondenbar [bara] ', cricondenbar)\n",
        "print('recomp power 1 [kW] ', powerComp1)\n",
        "print('recomp power 2 [kW] ', powerComp2)\n",
        "print('exp power 1 [kW] ', powerExpComp1)\n",
        "print('exp power 2 [kW] ', powerExpComp2)\n"
      ],
      "execution_count": 6,
      "outputs": [
        {
          "output_type": "stream",
          "name": "stdout",
          "text": [
            "TVP [bara]  1.0021664087084787\n",
            "cricondenbar [bara]  88.46834793531004\n",
            "recomp power 1 [kW]  144.1193649852365\n",
            "recomp power 2 [kW]  185.20441103834375\n",
            "exp power 1 [kW]  7574.093190900284\n",
            "exp power 2 [kW]  3916.637810927001\n"
          ]
        }
      ]
    },
    {
      "cell_type": "code",
      "metadata": {
        "id": "IClI0TNZsnh7",
        "colab": {
          "base_uri": "https://localhost:8080/"
        },
        "outputId": "faab29ea-be1a-4761-ff61-69f811fd028e"
      },
      "source": [
        "from neqsim.thermo import fluid, printFrame\n",
        "printFrame(waterSaturatedFeedGas.getFluid())"
      ],
      "execution_count": 7,
      "outputs": [
        {
          "output_type": "stream",
          "name": "stdout",
          "text": [
            "| 0                  | 1           | 2          | 3           | 4   | 5   | 6               |\n",
            "|:-------------------|:------------|:-----------|:------------|:----|:----|:----------------|\n",
            "|                    | total       | gas        | oil         |     |     |                 |\n",
            "| nitrogen           | 7.33587E-4  | 8.31898E-4 | 2.07073E-4  |     |     | [mole fraction] |\n",
            "| CO2                | 3.26446E-2  | 3.43896E-2 | 2.3299E-2   |     |     | [mole fraction] |\n",
            "| methane            | 8.01077E-1  | 8.76413E-1 | 3.97608E-1  |     |     | [mole fraction] |\n",
            "| ethane             | 3.68627E-2  | 3.72651E-2 | 3.47077E-2  |     |     | [mole fraction] |\n",
            "| propane            | 1.41215E-2  | 1.30485E-2 | 1.98681E-2  |     |     | [mole fraction] |\n",
            "| i-butane           | 1.83397E-3  | 1.56455E-3 | 3.27685E-3  |     |     | [mole fraction] |\n",
            "| n-butane           | 3.85133E-3  | 3.1271E-3  | 7.73001E-3  |     |     | [mole fraction] |\n",
            "| i-pentane          | 1.37548E-3  | 9.92069E-4 | 3.42884E-3  |     |     | [mole fraction] |\n",
            "| n-pentane          | 1.83397E-3  | 1.26514E-3 | 4.88036E-3  |     |     | [mole fraction] |\n",
            "| C6_PC              | 1.13706E-2  | 6.32709E-3 | 3.83815E-2  |     |     | [mole fraction] |\n",
            "| C7_PC              | 1.22876E-2  | 5.69427E-3 | 4.75986E-2  |     |     | [mole fraction] |\n",
            "| C8_PC              | 1.21959E-2  | 4.60605E-3 | 5.28439E-2  |     |     | [mole fraction] |\n",
            "| C9_PC              | 1.09121E-2  | 3.21385E-3 | 5.21408E-2  |     |     | [mole fraction] |\n",
            "| C10_PC             | 1.05453E-2  | 2.40709E-3 | 5.41303E-2  |     |     | [mole fraction] |\n",
            "| C11_PC             | 1.5497E-2   | 1.57836E-3 | 9.00397E-2  |     |     | [mole fraction] |\n",
            "| C12_PC             | 1.37548E-2  | 7.68485E-5 | 8.7008E-2   |     |     | [mole fraction] |\n",
            "| C13_PC             | 9.44493E-3  | 2.1672E-8  | 6.0028E-2   |     |     | [mole fraction] |\n",
            "| water              | 9.65796E-3  | 7.19967E-3 | 2.28236E-2  |     |     | [mole fraction] |\n",
            "|                    |             |            |             |     |     |                 |\n",
            "| Density            |             | 1.32308E2  | 7.26778E2   |     |     | [kg/m^3]        |\n",
            "| PhaseFraction      |             | 8.42658E-1 | 1.57342E-1  |     |     | [mole fraction] |\n",
            "| MolarMass          | 3.50117E1   | 2.05074E1  | 1.12691E2   |     |     | [kg/kmol]       |\n",
            "| Z factor           |             | 8.72202E-1 | 9.24077E-1  |     |     | [-]             |\n",
            "| Heat Capacity (Cp) |             | 2.92864E0  | 2.25469E0   |     |     | [kJ/kg*K]       |\n",
            "| Heat Capacity (Cv) |             | 1.90603E0  | 2.00725E0   |     |     | [kJ/kg*K]       |\n",
            "| Speed of Sound     |             | 4.57849E2  | 8.56933E2   |     |     | [m/sec]         |\n",
            "| Enthalpy           | -2.38852E1  | 7.53938E1  | -1.20644E2  |     |     | [kJ/kg]         |\n",
            "| Entropy            | -8.04596E-1 | -1.47192E0 | -1.54218E-1 |     |     | [kJ/kg*K]       |\n",
            "| JT coefficient     |             | 1.68314E-1 | -3.91282E-2 |     |     | [K/bar]         |\n",
            "|                    |             |            |             |     |     |                 |\n",
            "| Viscosity          |             | 1.92693E-5 | 3.83517E-4  |     |     | [kg/m*sec]      |\n",
            "| Conductivity       |             | 5.71529E-2 | 1.04723E-1  |     |     | [W/m*K]         |\n",
            "| SurfaceTension     |             | 4.51777E-3 | 4.51777E-3  |     |     | [N/m]           |\n",
            "|                    |             |            |             |     |     |                 |\n",
            "|                    |             |            |             |     |     |                 |\n",
            "|                    |             |            |             |     |     |                 |\n",
            "| Pressure           |             | 180.0      | 180.0       |     |     | [bar]           |\n",
            "| Temperature        |             | 373.15     | 373.15      |     |     | [K]             |\n",
            "|                    |             |            |             |     |     |                 |\n",
            "| Model              |             | PR-EOS     | PR-EOS      |     |     | -               |\n",
            "| Mixing Rule        |             | classic    | classic     |     |     | -               |\n",
            "|                    |             |            |             |     |     |                 |\n",
            "| Stream             |             |            |             |     |     | -               |\n",
            "|                    |             |            |             |     |     |                 |\n",
            "|                    |             |            |             |     |     |                 |\n",
            "|                    |             |            |             |     |     |                 |\n",
            "|                    |             |            |             |     |     |                 |\n"
          ]
        }
      ]
    },
    {
      "cell_type": "markdown",
      "metadata": {
        "id": "412Men18snh8"
      },
      "source": [
        "# Save process to file"
      ]
    },
    {
      "cell_type": "code",
      "metadata": {
        "id": "Ibvb4mlxsnh9"
      },
      "source": [
        "oilprocess.save('oilpro.neqsim')"
      ],
      "execution_count": 8,
      "outputs": []
    },
    {
      "cell_type": "markdown",
      "metadata": {
        "id": "qOJ7Vv695Y_u"
      },
      "source": [
        "# Sizing of heat exchangers\n",
        "\n",
        "https://www.engineeringtoolbox.com/heat-transfer-coefficients-exchangers-d_450.html\n",
        "\n",
        "\n"
      ]
    },
    {
      "cell_type": "code",
      "metadata": {
        "id": "TGSfOSkQxpaT",
        "colab": {
          "base_uri": "https://localhost:8080/"
        },
        "outputId": "69cc5ddf-8b2d-4e82-ca89-79fe21a68458"
      },
      "source": [
        "import math\n",
        "U_Wm2K = 100.0\n",
        "\n",
        "water_inlet_temperature = 15.0\n",
        "water_outlet_temperature = oilprocess.getUnit('1st stage cooler').getInStream().getTemperature(\"C\")-10.0\n",
        "gas_inlet_temperature=oilprocess.getUnit('1st stage cooler').getInStream().getTemperature(\"C\")\n",
        "gas_outlet_temperature = oilprocess.getUnit('1st stage cooler').getOutStream().getTemperature(\"C\")\n",
        "\n",
        "\n",
        "deltaTA = gas_inlet_temperature-water_outlet_temperature\n",
        "deltaTB = gas_outlet_temperature-water_inlet_temperature\n",
        "\n",
        "LMTD = (deltaTA-deltaTB)/(math.log(deltaTA/deltaTB))\n",
        "\n",
        "Q = -oilprocess.getUnit('1st stage cooler').getEnergyInput()\n",
        "A = Q/U_Wm2K/LMTD\n",
        "print(\"LMTD \", round(LMTD,3), \" degC\")\n",
        "print(\"heat exchanger duty \", round(oilprocess.getUnit('1st stage cooler').getEnergyInput()/1e6,3), \" MW\")\n",
        "print(\"heat exchanger area \", round(A,3), \" m^2\")\n",
        "\n",
        "cPwater = 4200.0 #J/kgC\n",
        "densityWater = 1000.0 #kg/m3\n",
        "waterCirculationRate =  Q/(cPwater*(water_outlet_temperature-water_inlet_temperature))*3600/densityWater\n",
        "print(\"water circulation rate \", round(waterCirculationRate,3), \" m3/hr\")\n",
        "\n",
        "\n",
        "water_inlet_temperature = 15.0\n",
        "water_outlet_temperature = oilprocess.getUnit('2nd stage cooler').getInStream().getTemperature(\"C\")-10.0\n",
        "gas_inlet_temperature=oilprocess.getUnit('2nd stage cooler').getInStream().getTemperature(\"C\")\n",
        "gas_outlet_temperature = oilprocess.getUnit('2nd stage cooler').getOutStream().getTemperature(\"C\")\n",
        "\n",
        "\n",
        "deltaTA = gas_inlet_temperature-water_outlet_temperature\n",
        "deltaTB = gas_outlet_temperature-water_inlet_temperature\n",
        "\n",
        "LMTD = (deltaTA-deltaTB)/(math.log(deltaTA/deltaTB))\n",
        "Q = -oilprocess.getUnit('2nd stage cooler').getEnergyInput()\n",
        "A = Q/U_Wm2K/LMTD\n",
        "print(\"LMTD2 \", round(LMTD,3), \" degC\")\n",
        "print(\"heat exchanger duty2 \", round(oilprocess.getUnit('2nd stage cooler').getEnergyInput()/1e6,3), \" MW\")\n",
        "print(\"heat exchanger area2 \", round(A,3), \" m^2\")\n",
        "\n",
        "cPwater = 4200.0 #J/kgC\n",
        "densityWater = 1000.0 #kg/m3\n",
        "waterCirculationRate =  Q/(cPwater*(water_outlet_temperature-water_inlet_temperature))*3600/densityWater\n",
        "print(\"water circulation rate \", round(waterCirculationRate,3), \" m3/hr\")\n",
        "\n",
        "water_inlet_temperature = 15.0\n",
        "water_outlet_temperature = oilprocess.getUnit('interstage stage cooler').getInStream().getTemperature(\"C\")-10.0\n",
        "gas_inlet_temperature=oilprocess.getUnit('interstage stage cooler').getInStream().getTemperature(\"C\")\n",
        "gas_outlet_temperature = oilprocess.getUnit('interstage stage cooler').getOutStream().getTemperature(\"C\")\n",
        "\n",
        "\n",
        "deltaTA = gas_inlet_temperature-water_outlet_temperature\n",
        "deltaTB = gas_outlet_temperature-water_inlet_temperature\n",
        "\n",
        "LMTD = (deltaTA-deltaTB)/(math.log(deltaTA/deltaTB))\n",
        "Q = -oilprocess.getUnit('interstage stage cooler').getEnergyInput()\n",
        "A = Q/U_Wm2K/LMTD\n",
        "print(\"LMTD3 \", round(LMTD,3), \" degC\")\n",
        "print(\"heat exchanger duty3 \", round(oilprocess.getUnit('interstage stage cooler').getEnergyInput()/1e6,3), \" MW\")\n",
        "print(\"heat exchanger area3 \", round(A,3), \" m^2\")\n",
        "\n",
        "cPwater = 4200.0 #J/kgC\n",
        "densityWater = 1000.0 #kg/m3\n",
        "waterCirculationRate =  Q/(cPwater*(water_outlet_temperature-water_inlet_temperature))*3600/densityWater\n",
        "print(\"water circulation rate \", round(waterCirculationRate,3), \" m3/hr\")\n",
        "\n",
        "water_inlet_temperature = 15.0\n",
        "water_outlet_temperature = oilprocess.getUnit('export cooler').getInStream().getTemperature(\"C\")-10.0\n",
        "gas_inlet_temperature=oilprocess.getUnit('export cooler').getInStream().getTemperature(\"C\")\n",
        "gas_outlet_temperature = oilprocess.getUnit('export cooler').getOutStream().getTemperature(\"C\")\n",
        "\n",
        "\n",
        "deltaTA = gas_inlet_temperature-water_outlet_temperature\n",
        "deltaTB = gas_outlet_temperature-water_inlet_temperature\n",
        "\n",
        "LMTD = (deltaTA-deltaTB)/(math.log(deltaTA/deltaTB))\n",
        "Q = -oilprocess.getUnit('export cooler').getEnergyInput()\n",
        "A = Q/U_Wm2K/LMTD\n",
        "print(\"LMTD4 \", round(LMTD,3), \" degC\")\n",
        "print(\"heat exchanger duty4 \", round(oilprocess.getUnit('export cooler').getEnergyInput()/1e6,3), \" MW\")\n",
        "print(\"heat exchanger area4 \", round(A,3), \" m^2\")\n",
        "\n",
        "cPwater = 4200.0 #J/kgC\n",
        "densityWater = 1000.0 #kg/m3\n",
        "waterCirculationRate =  Q/(cPwater*(water_outlet_temperature-water_inlet_temperature))*3600/densityWater\n",
        "print(\"water circulation rate \", round(waterCirculationRate,3), \" m3/hr\")"
      ],
      "execution_count": 9,
      "outputs": [
        {
          "output_type": "stream",
          "name": "stdout",
          "text": [
            "LMTD  10.149  degC\n",
            "heat exchanger duty  -0.144  MW\n",
            "heat exchanger area  141.845  m^2\n",
            "water circulation rate  2.876  m3/hr\n",
            "LMTD2  9.748  degC\n",
            "heat exchanger duty2  -0.215  MW\n",
            "heat exchanger area2  220.86  m^2\n",
            "water circulation rate  2.067  m3/hr\n",
            "LMTD3  10.149  degC\n",
            "heat exchanger duty3  -12.325  MW\n",
            "heat exchanger area3  12143.613  m^2\n",
            "water circulation rate  182.799  m3/hr\n",
            "LMTD4  9.748  degC\n",
            "heat exchanger duty4  -12.511  MW\n",
            "heat exchanger area4  12834.614  m^2\n",
            "water circulation rate  185.56  m3/hr\n"
          ]
        }
      ]
    },
    {
      "cell_type": "markdown",
      "metadata": {
        "id": "vjS6FtWWjrsQ"
      },
      "source": [
        "# Sizing of gas scrubbers\n"
      ]
    },
    {
      "cell_type": "code",
      "metadata": {
        "id": "qqD38AvMj0GO",
        "outputId": "f216af04-b5ce-4fe6-91b2-b43d1f55d9da",
        "colab": {
          "base_uri": "https://localhost:8080/"
        }
      },
      "source": [
        "gas_load_factor = 0.1\n",
        "gas_density = oilprocess.getUnit('1st stage scrubber').getGasOutStream().getFluid().getDensity(\"kg/m3\")\n",
        "oil_density = oilprocess.getUnit('1st stage scrubber').getLiquidOutStream().getFluid().getDensity(\"kg/m3\")\n",
        "flowRate = oilprocess.getUnit('1st stage scrubber').getGasOutStream().getFluid().getFlowRate(\"m3/sec\")\n",
        "\n",
        "V_t = gas_load_factor*math.sqrt((oil_density-gas_density)/gas_density)\n",
        "A_scrub = flowRate/V_t\n",
        "\n",
        "D_scrub = math.sqrt(A_scrub/(3.14/4.0))\n",
        "\n",
        "print(\"gas density \", round(gas_density,3), \" [kg/m3)]\")\n",
        "print(\"oil density \", round(oil_density,3), \" [kg/m3]\")\n",
        "print(\"Maximum gas velocity \", round(V_t,3), \" [m/sec]\")\n",
        "print(\"Minimum scrubber internal diameter \", round(D_scrub,3), \" [m]\")\n",
        "\n",
        "gas_load_factor = 0.1\n",
        "gas_density = oilprocess.getUnit('2nd stage scrubber').getGasOutStream().getFluid().getDensity(\"kg/m3\")\n",
        "oil_density = oilprocess.getUnit('2nd stage scrubber').getLiquidOutStream().getFluid().getDensity(\"kg/m3\")\n",
        "flowRate = oilprocess.getUnit('2nd stage scrubber').getGasOutStream().getFluid().getFlowRate(\"m3/sec\")\n",
        "\n",
        "V_t = gas_load_factor*math.sqrt((oil_density-gas_density)/gas_density)\n",
        "A_scrub = flowRate/V_t\n",
        "\n",
        "D_scrub = math.sqrt(A_scrub/(3.14/4.0))\n",
        "\n",
        "print(\"gas density \", round(gas_density,3), \" [kg/m3)]\")\n",
        "print(\"oil density \", round(oil_density,3), \" [kg/m3]\")\n",
        "print(\"Maximum gas velocity \", round(V_t,3), \" [m/sec]\")\n",
        "print(\"Minimum scrubber internal diameter \", round(D_scrub,3), \" [m]\")\n",
        "\n",
        "gas_load_factor = 0.1\n",
        "gas_density = oilprocess.getUnit('dew point scrubber').getGasOutStream().getFluid().getDensity(\"kg/m3\")\n",
        "oil_density = oilprocess.getUnit('dew point scrubber').getLiquidOutStream().getFluid().getDensity(\"kg/m3\")\n",
        "if(abs(oil_density-gas_density)<10.0):\n",
        "  oil_density = 800.0\n",
        "flowRate = oilprocess.getUnit('dew point scrubber').getGasOutStream().getFluid().getFlowRate(\"m3/sec\")\n",
        "\n",
        "V_t = gas_load_factor*math.sqrt((oil_density-gas_density)/gas_density)\n",
        "A_scrub = flowRate/V_t\n",
        "\n",
        "D_scrub = math.sqrt(A_scrub/(3.14/4.0))\n",
        "\n",
        "print(\"gas density \", round(gas_density,3), \" [kg/m3)]\")\n",
        "print(\"oil density \", round(oil_density,3), \" [kg/m3]\")\n",
        "print(\"Maximum gas velocity \", round(V_t,3), \" [m/sec]\")\n",
        "print(\"Minimum scrubber internal diameter \", round(D_scrub,3), \" [m]\")"
      ],
      "execution_count": 10,
      "outputs": [
        {
          "output_type": "stream",
          "name": "stdout",
          "text": [
            "gas density  2.631  [kg/m3)]\n",
            "oil density  691.741  [kg/m3]\n",
            "Maximum gas velocity  1.618  [m/sec]\n",
            "Minimum scrubber internal diameter  0.519  [m]\n",
            "gas density  11.229  [kg/m3)]\n",
            "oil density  621.307  [kg/m3]\n",
            "Maximum gas velocity  0.737  [m/sec]\n",
            "Minimum scrubber internal diameter  0.336  [m]\n",
            "gas density  64.14  [kg/m3)]\n",
            "oil density  439.96  [kg/m3]\n",
            "Maximum gas velocity  0.242  [m/sec]\n",
            "Minimum scrubber internal diameter  2.431  [m]\n"
          ]
        }
      ]
    },
    {
      "cell_type": "code",
      "metadata": {
        "id": "AtSbwNxZlxzO",
        "outputId": "ed039c8e-ee43-439e-e1f4-857b59882cbd",
        "colab": {
          "base_uri": "https://localhost:8080/"
        }
      },
      "source": [
        "printFrame(oilprocess.getUnit('dew point scrubber').getFluid())"
      ],
      "execution_count": 11,
      "outputs": [
        {
          "output_type": "stream",
          "name": "stdout",
          "text": [
            "| 0                  | 1           | 2           | 3   | 4   | 5   | 6               |\n",
            "|:-------------------|:------------|:------------|:----|:----|:----|:----------------|\n",
            "|                    | total       | gas         |     |     |     |                 |\n",
            "| nitrogen           | 8.8267E-4   | 8.8267E-4   |     |     |     | [mole fraction] |\n",
            "| CO2                | 3.3853E-2   | 3.3853E-2   |     |     |     | [mole fraction] |\n",
            "| methane            | 9.16928E-1  | 9.16928E-1  |     |     |     | [mole fraction] |\n",
            "| ethane             | 3.44027E-2  | 3.44027E-2  |     |     |     | [mole fraction] |\n",
            "| propane            | 9.56487E-3  | 9.56487E-3  |     |     |     | [mole fraction] |\n",
            "| i-butane           | 8.83259E-4  | 8.83259E-4  |     |     |     | [mole fraction] |\n",
            "| n-butane           | 1.48446E-3  | 1.48446E-3  |     |     |     | [mole fraction] |\n",
            "| i-pentane          | 2.94464E-4  | 2.94464E-4  |     |     |     | [mole fraction] |\n",
            "| n-pentane          | 3.10208E-4  | 3.10208E-4  |     |     |     | [mole fraction] |\n",
            "| C6_PC              | 6.88436E-4  | 6.88436E-4  |     |     |     | [mole fraction] |\n",
            "| C7_PC              | 3.44639E-4  | 3.44639E-4  |     |     |     | [mole fraction] |\n",
            "| C8_PC              | 1.61076E-4  | 1.61076E-4  |     |     |     | [mole fraction] |\n",
            "| C9_PC              | 6.39754E-5  | 6.39754E-5  |     |     |     | [mole fraction] |\n",
            "| C10_PC             | 2.85651E-5  | 2.85651E-5  |     |     |     | [mole fraction] |\n",
            "| C11_PC             | 4.97023E-6  | 4.97023E-6  |     |     |     | [mole fraction] |\n",
            "| C12_PC             | 5.25757E-9  | 5.25757E-9  |     |     |     | [mole fraction] |\n",
            "| C13_PC             | 2.64762E-16 | 2.64762E-16 |     |     |     | [mole fraction] |\n",
            "| water              | 1.04488E-4  | 1.04488E-4  |     |     |     | [mole fraction] |\n",
            "|                    |             |             |     |     |     |                 |\n",
            "| Density            |             | 6.41401E1   |     |     |     | [kg/m^3]        |\n",
            "| PhaseFraction      |             | 1E0         |     |     |     | [mole fraction] |\n",
            "| MolarMass          | 1.79874E1   | 1.79874E1   |     |     |     | [kg/kmol]       |\n",
            "| Z factor           |             | 8.33162E-1  |     |     |     | [-]             |\n",
            "| Heat Capacity (Cp) |             | 2.68596E0   |     |     |     | [kJ/kg*K]       |\n",
            "| Heat Capacity (Cv) |             | 1.66011E0   |     |     |     | [kJ/kg*K]       |\n",
            "| Speed of Sound     |             | 4.01096E2   |     |     |     | [m/sec]         |\n",
            "| Enthalpy           | -3.70247E1  | -3.70247E1  |     |     |     | [kJ/kg]         |\n",
            "| Entropy            | -1.84076E0  | -1.84076E0  |     |     |     | [kJ/kg*K]       |\n",
            "| JT coefficient     |             | 4.29688E-1  |     |     |     | [K/bar]         |\n",
            "|                    |             |             |     |     |     |                 |\n",
            "| Viscosity          |             | 1.34076E-5  |     |     |     | [kg/m*sec]      |\n",
            "| Conductivity       |             | 4.11605E-2  |     |     |     | [W/m*K]         |\n",
            "| SurfaceTension     |             |             |     |     |     | [N/m]           |\n",
            "|                    |             |             |     |     |     |                 |\n",
            "|                    |             |             |     |     |     |                 |\n",
            "|                    |             |             |     |     |     |                 |\n",
            "| Pressure           |             | 75.0        |     |     |     | [bar]           |\n",
            "| Temperature        |             | 298.15      |     |     |     | [K]             |\n",
            "|                    |             |             |     |     |     |                 |\n",
            "| Model              |             | PR-EOS      |     |     |     | -               |\n",
            "| Mixing Rule        |             | classic     |     |     |     | -               |\n",
            "|                    |             |             |     |     |     |                 |\n",
            "| Stream             |             |             |     |     |     | -               |\n",
            "|                    |             |             |     |     |     |                 |\n",
            "|                    |             |             |     |     |     |                 |\n",
            "|                    |             |             |     |     |     |                 |\n",
            "|                    |             |             |     |     |     |                 |\n"
          ]
        }
      ]
    }
  ]
}