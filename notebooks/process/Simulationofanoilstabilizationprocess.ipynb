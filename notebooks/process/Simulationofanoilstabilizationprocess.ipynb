{
  "nbformat": 4,
  "nbformat_minor": 0,
  "metadata": {
    "colab": {
      "name": "Simulationofanoilstabilizationprocess.ipynb",
      "provenance": [],
      "collapsed_sections": [],
      "include_colab_link": true
    },
    "kernelspec": {
      "name": "python3",
      "display_name": "Python 3.7.9 64-bit ('base': conda)"
    },
    "language_info": {
      "name": "python",
      "version": "3.7.9",
      "mimetype": "text/x-python",
      "codemirror_mode": {
        "name": "ipython",
        "version": 3
      },
      "pygments_lexer": "ipython3",
      "nbconvert_exporter": "python",
      "file_extension": ".py"
    },
    "interpreter": {
      "hash": "a5df7bd4ca0d6bb9986d9d69faf4f6c25893f82bf7982e9868ee8495bd8c927f"
    }
  },
  "cells": [
    {
      "cell_type": "markdown",
      "metadata": {
        "id": "view-in-github",
        "colab_type": "text"
      },
      "source": [
        "<a href=\"https://colab.research.google.com/github/EvenSol/NeqSim-Colab/blob/master/notebooks/process/Simulationofanoilstabilizationprocess.ipynb\" target=\"_parent\"><img src=\"https://colab.research.google.com/assets/colab-badge.svg\" alt=\"Open In Colab\"/></a>"
      ]
    },
    {
      "cell_type": "markdown",
      "metadata": {
        "id": "rPro0rQqbeWG"
      },
      "source": [
        "#Simulation of an oil stabilization process\n",
        "In this notebook we will establish code for using NeqSim for simulation of an oil stabilization process"
      ]
    },
    {
      "cell_type": "code",
      "metadata": {
        "id": "UMv-vbo2bjNW"
      },
      "source": [
        "# Setting up the Colab page to use neqsim\n",
        "%%capture\n",
        "!pip install neqsim\n",
        "import neqsim\n",
        "from neqsim.thermo.thermoTools import *"
      ],
      "execution_count": 1,
      "outputs": []
    },
    {
      "cell_type": "markdown",
      "metadata": {
        "id": "oOBN7Ha8b3oY"
      },
      "source": [
        "# Process flow diagram"
      ]
    },
    {
      "cell_type": "code",
      "metadata": {
        "id": "XRqU7EeeclcA"
      },
      "source": [
        "inputdata = {\n",
        "  'feedFlowRateWell': 10,\n",
        "  'wellPressure': 180.0,\n",
        "  'wellTemperature':100.0,\n",
        "  'topsidePressure': 90.0,\n",
        "  'topsideTemperature': 5.0,\n",
        "  'firstStagePressure': 75.0, \n",
        "  'temperatureOilHeater' : 75.9,\n",
        "  'secondStagePressure': 8.6,\n",
        "  'thirdStagePressure': 1.9,\n",
        "  'firstStageSuctionCoolerTemperature': 25.3, \n",
        "  'secondStageSuctionCoolerTemperature': 24.5, \n",
        "  'thirdStageSuctionCoolerTemperature':25.0,\n",
        "  'firstStageExportCoolerTemperature': 25.3, \n",
        "  'secondStageExportCoolerTemperature': 24.5\n",
        "}"
      ],
      "execution_count": 2,
      "outputs": []
    },
    {
      "cell_type": "code",
      "metadata": {
        "id": "-zm_LJX1bYdN"
      },
      "source": [
        "from neqsim.thermo import fluid, printFrame\n",
        "from neqsim.process import compressor, cooler, separator3phase, getProcess, clearProcess, mixer, heater, stream, pump, separator, runProcess, stream, saturator, valve, filters, heatExchanger, simpleTEGAbsorber,distillationColumn, waterStripperColumn, recycle2, setpoint, calculator\n",
        "\n",
        "clearProcess()\n",
        "\n",
        "wellFluid = fluid('pr')\n",
        "wellFluid.addComponent(\"nitrogen\", 0.08)\n",
        "wellFluid.addComponent(\"CO2\", 3.56)\n",
        "wellFluid.addComponent(\"methane\", 87.36)\n",
        "wellFluid.addComponent(\"ethane\", 4.02)\n",
        "wellFluid.addComponent(\"propane\", 1.54)\n",
        "wellFluid.addComponent(\"i-butane\", 0.2)\n",
        "wellFluid.addComponent(\"n-butane\", 0.42)\n",
        "wellFluid.addComponent(\"i-pentane\", 0.15)\n",
        "wellFluid.addComponent(\"n-pentane\", 0.20)\n",
        "\t\t\n",
        "wellFluid.addTBPfraction(\"C6\", 0.24, 84.99/1000.0, 695.0/1000.0)\n",
        "wellFluid.addTBPfraction(\"C7\", 0.34, 97.87/1000.0, 718.0/1000.0)\n",
        "wellFluid.addTBPfraction(\"C8\", 0.33, 111.54/1000.0, 729.0/1000.0)\n",
        "wellFluid.addTBPfraction(\"C9\", 0.19, 126.1/1000.0, 749.0/1000.0)\n",
        "wellFluid.addTBPfraction(\"C10\", 0.15, 140.14/1000.0, 760.0/1000.0)\n",
        "wellFluid.addTBPfraction(\"C11\", 0.69, 175.0/1000.0, 830.0/1000.0)\n",
        "wellFluid.addTBPfraction(\"C12\", 0.5, 280.0/1000.0, 914.0/1000.0)\n",
        "wellFluid.addTBPfraction(\"C13\", 0.103, 560.0/1000.0, 980.0/1000.0)\n",
        "\n",
        "wellFluid.setMixingRule(2)\n",
        "wellFluid.init(0)\n",
        "\n",
        "wellFluid.setMolarComposition([0.08, 3.56, 87.36, 4.02, 1.54, 0.2, 0.42, 0.15, 0.2, 0.24, 0.34, 0.33, 0.19, 0.15, 0.69, 0.5, 0.03])\n",
        "\n",
        "wellStream = stream(wellFluid)\n",
        "wellStream.setName(\"dry well stream\")\n",
        "wellStream.setFlowRate(inputdata['feedFlowRateWell'], \"MSm3/day\")\n",
        "wellStream.setTemperature(inputdata['wellTemperature'], \"C\")\n",
        "wellStream.setPressure(inputdata['wellPressure'], \"bara\")\n",
        "\n",
        "saturatedFeedGas = saturator(wellStream)\n",
        "saturatedFeedGas.setName(\"water saturator\")\n",
        "\n",
        "waterSaturatedFeedGas = stream(saturatedFeedGas.getOutStream())\n",
        "waterSaturatedFeedGas.setName(\"water saturated feed gas\")\n",
        "\n",
        "feedTPsetter = heater(waterSaturatedFeedGas)\n",
        "feedTPsetter.setName('inletTP')\n",
        "feedTPsetter.setOutPressure(inputdata['topsidePressure'], \"bara\")\n",
        "feedTPsetter.setOutTemperature(inputdata['topsideTemperature'], \"C\")\n",
        "\n",
        "chokeValve = valve(feedTPsetter.getOutStream())\n",
        "chokeValve.setOutletPressure(inputdata['firstStagePressure'], 'bara')\n",
        "\n",
        "feedToOffshoreProcess = stream(chokeValve.getOutStream())\n",
        "feedToOffshoreProcess.setName(\"feed to offshore\")\n",
        "\n",
        "firstStageSeparator = separator3phase(feedToOffshoreProcess)\n",
        "firstStageSeparator.setName(\"1st stage separator\")\n",
        "\n",
        "oilHeaterFromFirstStage = heater(firstStageSeparator.getOilOutStream())\n",
        "oilHeaterFromFirstStage.setName(\"oil heater second stage\")\n",
        "oilHeaterFromFirstStage.setOutTemperature(inputdata['temperatureOilHeater'],'C')\n",
        "\n",
        "oilThrotValve = valve(oilHeaterFromFirstStage.getOutStream())\n",
        "oilThrotValve.setName(\"valve oil from first stage\")\n",
        "oilThrotValve.setOutletPressure(inputdata['secondStagePressure'])\n",
        "\n",
        "secondStageSeparator = separator3phase(oilThrotValve.getOutStream())\n",
        "secondStageSeparator.setName(\"2nd stage separator\")\n",
        "\n",
        "oilThrotValve2 = valve(secondStageSeparator.getOilOutStream())\n",
        "oilThrotValve2.setName(\"valve oil from second stage\")\n",
        "oilThrotValve2.setOutletPressure(inputdata['thirdStagePressure'])\n",
        "\n",
        "thirdStageSeparator = separator3phase(oilThrotValve2.getOutStream())\n",
        "thirdStageSeparator.setName(\"3rd stage separator\")\n",
        "\n",
        "oilThirdStageToSep =  wellStream.clone()\n",
        "oilThirdStageToSep.setName(\"resyc oil\")\n",
        "thirdStageSeparator.addStream(oilThirdStageToSep)\n",
        "\n",
        "stableOil = stream(thirdStageSeparator.getOilOutStream())\n",
        "stableOil.setName(\"stable oil\")\n",
        "\n",
        "stableOilPump = pump(stableOil,15.0,\"stable oil pump\")\n",
        "\n",
        "firstStageCooler = cooler(thirdStageSeparator.getGasOutStream())\n",
        "firstStageCooler.setName(\"1st stage cooler\")\n",
        "firstStageCooler.setOutTemperature(inputdata['firstStageSuctionCoolerTemperature'],'C')\n",
        "\n",
        "firstStageScrubber = separator(firstStageCooler.getOutStream())\n",
        "firstStageScrubber.setName(\"1st stage scrubber\")\n",
        "\n",
        "firstStageCompressor = compressor(firstStageScrubber.getGasOutStream())\n",
        "firstStageCompressor.setName(\"1st stage compressor\")\n",
        "firstStageCompressor.setOutletPressure(inputdata['secondStagePressure'])\n",
        "firstStageCompressor.setIsentropicEfficiency(0.75)\n",
        "\n",
        "secondStageCooler = cooler(firstStageCompressor.getOutStream())\n",
        "secondStageCooler.setName(\"2nd stage cooler\")\n",
        "secondStageCooler.setOutTemperature(inputdata['secondStageSuctionCoolerTemperature'],'C')\n",
        "\n",
        "secondStageScrubber = separator(secondStageCooler.getOutStream())\n",
        "secondStageScrubber.setName(\"2nd stage scrubber\")\n",
        "\n",
        "secondStageCompressor = compressor(secondStageScrubber.getGasOutStream())\n",
        "secondStageCompressor.setName(\"2nd stage compressor\")\n",
        "secondStageCompressor.setOutletPressure(inputdata['firstStagePressure'])\n",
        "secondStageCompressor.setIsentropicEfficiency(0.75)\n",
        "\n",
        "richGasMixer = mixer(\"fourth Stage mixer\")\n",
        "richGasMixer.addStream(secondStageCompressor.getOutStream())\n",
        "richGasMixer.addStream(firstStageSeparator.getGasOutStream())\n",
        "\n",
        "dewPointControlCooler = cooler(richGasMixer.getOutStream())\n",
        "dewPointControlCooler.setName(\"dew point cooler\")\n",
        "dewPointControlCooler.setOutTemperature(inputdata['thirdStageSuctionCoolerTemperature'],'C')\n",
        "\n",
        "dewPointScrubber = separator(dewPointControlCooler.getOutStream())\n",
        "dewPointScrubber.setName(\"dew point scrubber\")\n",
        "\n",
        "lpLiqmixer = mixer(\"LP liq gas mixer\");\n",
        "lpLiqmixer.addStream(firstStageScrubber.getLiquidOutStream());\n",
        "lpLiqmixer.addStream(secondStageScrubber.getLiquidOutStream());\n",
        "lpLiqmixer.addStream(dewPointScrubber.getLiquidOutStream());\n",
        "\n",
        "lpResycle = recycle2(\"LP liq resycle\")\n",
        "lpResycle.addStream(lpLiqmixer.getOutStream())\n",
        "lpResycle.setOutletStream(oilThirdStageToSep)\n",
        "\n",
        "exportCompressor1 = compressor(dewPointScrubber.getGasOutStream())\n",
        "exportCompressor1.setName(\"export 1st stage\")\n",
        "exportCompressor1.setOutletPressure(140.0)\n",
        "exportCompressor1.setIsentropicEfficiency(0.75)\n",
        "\n",
        "exportInterstageCooler = cooler(exportCompressor1.getOutStream())\n",
        "exportInterstageCooler.setName(\"interstage stage cooler\")\n",
        "exportInterstageCooler.setOutTemperature(inputdata['firstStageExportCoolerTemperature'],'C')\n",
        "\n",
        "exportCompressor2= compressor(exportInterstageCooler.getOutStream())\n",
        "exportCompressor2.setName(\"export 2nd stage\")\n",
        "exportCompressor2.setOutletPressure(200.0)\n",
        "exportCompressor2.setIsentropicEfficiency(0.75)\n",
        "\n",
        "exportCooler = cooler(exportCompressor1.getOutStream())\n",
        "exportCooler.setName(\"export cooler\")\n",
        "exportCooler.setOutTemperature(inputdata['secondStageExportCoolerTemperature'],'C')\n",
        "\n",
        "exportGas = stream(exportCooler.getOutStream())\n",
        "exportGas.setName(\"export gas\")\n",
        "\n",
        "oilprocess = getProcess()\n"
      ],
      "execution_count": 3,
      "outputs": []
    },
    {
      "cell_type": "markdown",
      "metadata": {
        "id": "hWT8cRZ01PYY"
      },
      "source": [
        "# Start simulation"
      ]
    },
    {
      "cell_type": "code",
      "metadata": {
        "id": "JeI3lwpj1R02"
      },
      "source": [
        "#thread = oilprocess.runAsThread()\n",
        "oilprocess.run()"
      ],
      "execution_count": 4,
      "outputs": []
    },
    {
      "cell_type": "markdown",
      "metadata": {
        "id": "A1I8qVv51aO5"
      },
      "source": [
        "# Check if simulation has converged/stopped\n",
        "\n",
        "True if still running.\n",
        "False if finished."
      ]
    },
    {
      "cell_type": "code",
      "metadata": {
        "id": "9g78aFvJ1cux"
      },
      "source": [
        "#thread.isAlive() "
      ],
      "execution_count": 5,
      "outputs": []
    },
    {
      "cell_type": "markdown",
      "metadata": {
        "id": "cFzMn5nG1fJZ"
      },
      "source": [
        "# Read results from simulation"
      ]
    },
    {
      "cell_type": "code",
      "metadata": {
        "colab": {
          "base_uri": "https://localhost:8080/"
        },
        "id": "vh30bp0h1iuR",
        "outputId": "786a3fb8-084f-46cd-da80-6d9738f6cac7"
      },
      "source": [
        "TVP = stableOil.TVP(20.0, 'C')\n",
        "cricondenbar = exportGas.CCB('bara')\n",
        "powerComp1 = oilprocess.getUnit(\"1st stage compressor\").getPower()/1.0e3\n",
        "powerComp2 = oilprocess.getUnit(\"2nd stage compressor\").getPower()/1.0e3\n",
        "powerExpComp1 = oilprocess.getUnit(\"export 1st stage\").getPower()/1.0e3\n",
        "powerExpComp2 = oilprocess.getUnit(\"export 2nd stage\").getPower()/1.0e3\n",
        "\n",
        "print('TVP [bara] ', TVP)\n",
        "print('cricondenbar [bara] ', cricondenbar)\n",
        "print('recomp power 1 [kW] ', powerComp1)\n",
        "print('recomp power 2 [kW] ', powerComp2)\n",
        "print('exp power 1 [kW] ', powerExpComp1)\n",
        "print('exp power 2 [kW] ', powerExpComp2)\n"
      ],
      "execution_count": 6,
      "outputs": [
        {
          "output_type": "stream",
          "name": "stdout",
          "text": [
            "TVP [bara]  1.0172395402888048\n",
            "cricondenbar [bara]  86.7341553332676\n",
            "recomp power 1 [kW]  63.25679123907593\n",
            "recomp power 2 [kW]  71.84636683376594\n",
            "exp power 1 [kW]  8677.903943983109\n",
            "exp power 2 [kW]  4475.98774288613\n"
          ]
        }
      ]
    },
    {
      "cell_type": "code",
      "metadata": {
        "id": "IClI0TNZsnh7",
        "colab": {
          "base_uri": "https://localhost:8080/"
        },
        "outputId": "a96f5764-a5f0-41e6-86a0-bd87cbd648ed"
      },
      "source": [
        "from neqsim.thermo import fluid, printFrame\n",
        "printFrame(waterSaturatedFeedGas.getFluid())"
      ],
      "execution_count": 7,
      "outputs": [
        {
          "output_type": "stream",
          "name": "stdout",
          "text": [
            "                          total         gas          oil                     \n",
            "           nitrogen  7.94066E-4  8.11334E-4   2.12556E-4      [mole fraction]\n",
            "                CO2  3.53359E-2  3.56464E-2   2.48808E-2      [mole fraction]\n",
            "            methane   8.6712E-1  8.80525E-1   4.15706E-1      [mole fraction]\n",
            "             ethane  3.99018E-2  3.99399E-2   3.86186E-2      [mole fraction]\n",
            "            propane  1.52858E-2  1.50306E-2     2.388E-2      [mole fraction]\n",
            "           i-butane  1.98516E-3  1.91844E-3   4.23211E-3      [mole fraction]\n",
            "           n-butane  4.16884E-3  3.98566E-3   1.03376E-2      [mole fraction]\n",
            "          i-pentane  1.48887E-3  1.38289E-3   5.05786E-3      [mole fraction]\n",
            "          n-pentane  1.98516E-3   1.8232E-3   7.43943E-3      [mole fraction]\n",
            "              C6_PC   2.3822E-3  2.05829E-3   1.32898E-2      [mole fraction]\n",
            "              C7_PC  3.37478E-3  2.74265E-3   2.46619E-2      [mole fraction]\n",
            "              C8_PC  3.27552E-3   2.4597E-3   3.07486E-2      [mole fraction]\n",
            "              C9_PC  1.88591E-3  1.26801E-3    2.2694E-2      [mole fraction]\n",
            "             C10_PC  1.48887E-3    8.782E-4   2.20535E-2      [mole fraction]\n",
            "             C11_PC  6.84882E-3  2.40857E-3   1.56376E-1      [mole fraction]\n",
            "             C12_PC  4.96291E-3  1.25234E-4   1.67874E-1      [mole fraction]\n",
            "             C13_PC  2.97775E-4  3.04419E-9   1.03254E-2      [mole fraction]\n",
            "              water  7.41795E-3  6.99644E-3   2.16126E-2      [mole fraction]\n",
            "                                                                             \n",
            "            Density               1.25669E2    7.07036E2             [kg/m^3]\n",
            "      PhaseFraction              9.71161E-1   2.88389E-2      [mole fraction]\n",
            "          MolarMass   2.22039E1   1.97393E1      1.052E2            [kg/kmol]\n",
            "           Z factor              8.83399E-1   9.13538E-1                  [-]\n",
            " Heat Capacity (Cp)               2.90988E0    2.27542E0            [kJ/kg*K]\n",
            " Heat Capacity (Cv)               1.89826E0    2.00202E0            [kJ/kg*K]\n",
            "     Speed of Sound               4.68013E2     8.2997E2              [m/sec]\n",
            "           Enthalpy   5.35248E1   8.16105E1   -1.23941E2              [kJ/kg]\n",
            "            Entropy  -1.36171E0  -1.54518E0   -2.0241E-1            [kJ/kg*K]\n",
            "     JT coefficient              1.65777E-1  -3.87919E-2              [K/bar]\n",
            "                                                                             \n",
            "          Viscosity              1.89417E-5   3.27257E-4           [kg/m*sec]\n",
            "       Conductivity              5.72688E-2   9.97419E-2              [W/m*K]\n",
            "     SurfaceTension              4.32298E-3   4.32298E-3                [N/m]\n",
            "                                                                             \n",
            "                                                                             \n",
            "                                                                             \n",
            "           Pressure                   180.0        180.0                [bar]\n",
            "        Temperature                  373.15       373.15                  [K]\n",
            "                                                                             \n",
            "              Model                  PR-EOS       PR-EOS                    -\n",
            "        Mixing Rule                 classic      classic                    -\n",
            "                                                                             \n",
            "             Stream                                                         -\n",
            "                                                                             \n",
            "                                                                             \n",
            "                                                                             \n",
            "                                                                             \n"
          ]
        }
      ]
    },
    {
      "cell_type": "markdown",
      "metadata": {
        "id": "412Men18snh8"
      },
      "source": [
        "# Save process to file"
      ]
    },
    {
      "cell_type": "code",
      "metadata": {
        "id": "Ibvb4mlxsnh9"
      },
      "source": [
        "oilprocess.save('oilpro.neqsim')"
      ],
      "execution_count": 8,
      "outputs": []
    },
    {
      "cell_type": "markdown",
      "metadata": {
        "id": "qOJ7Vv695Y_u"
      },
      "source": [
        "# Calculation of heat exchanger area\n"
      ]
    },
    {
      "cell_type": "code",
      "metadata": {
        "id": "TGSfOSkQxpaT",
        "outputId": "f43b69ee-150b-4698-be93-d694590356d5",
        "colab": {
          "base_uri": "https://localhost:8080/"
        }
      },
      "source": [
        "import math\n",
        "U_Wm2K = 100.0\n",
        "\n",
        "water_inlet_temperature = 15.0\n",
        "water_outlet_temperature = oilprocess.getUnit('1st stage cooler').getInStream().getTemperature(\"C\")-10.0\n",
        "gas_inlet_temperature=oilprocess.getUnit('1st stage cooler').getInStream().getTemperature(\"C\")\n",
        "gas_outlet_temperature = oilprocess.getUnit('1st stage cooler').getOutStream().getTemperature(\"C\")\n",
        "\n",
        "\n",
        "deltaTA = gas_inlet_temperature-water_outlet_temperature\n",
        "deltaTB = gas_outlet_temperature-water_inlet_temperature\n",
        "\n",
        "LMTD = (deltaTA-deltaTB)/(math.log(deltaTA/deltaTB))\n",
        "\n",
        "Q = -oilprocess.getUnit('1st stage cooler').getEnergyInput()\n",
        "A = Q/U_Wm2K/LMTD\n",
        "print(\"LMTD \", round(LMTD,3), \" degC\")\n",
        "print(\"heat exchanger duty \", round(oilprocess.getUnit('1st stage cooler').getEnergyInput()/1e6,3), \" MW\")\n",
        "print(\"heat exchanger area \", round(A,3), \" m^2\")\n",
        "\n",
        "cPwater = 4200.0 #J/kgC\n",
        "densityWater = 1000.0 #kg/m3\n",
        "waterCirculationRate =  Q/(cPwater*(water_outlet_temperature-water_inlet_temperature))*3600/densityWater\n",
        "print(\"water circulation rate \", round(waterCirculationRate,3), \" m3/hr\")"
      ],
      "execution_count": 9,
      "outputs": [
        {
          "output_type": "stream",
          "name": "stdout",
          "text": [
            "LMTD  10.149  degC\n",
            "heat exchanger duty  -0.048  MW\n",
            "heat exchanger area  47.485  m^2\n",
            "water circulation rate  1.149  m3/hr\n"
          ]
        }
      ]
    }
  ]
}