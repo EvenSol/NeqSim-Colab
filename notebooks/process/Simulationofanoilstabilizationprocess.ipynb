{
  "nbformat": 4,
  "nbformat_minor": 0,
  "metadata": {
    "colab": {
      "name": "Simulationofanoilstabilizationprocess.ipynb",
      "provenance": [],
      "include_colab_link": true
    },
    "kernelspec": {
      "name": "python3",
      "display_name": "Python 3.7.9 64-bit ('base': conda)"
    },
    "language_info": {
      "name": "python",
      "version": "3.7.9",
      "mimetype": "text/x-python",
      "codemirror_mode": {
        "name": "ipython",
        "version": 3
      },
      "pygments_lexer": "ipython3",
      "nbconvert_exporter": "python",
      "file_extension": ".py"
    },
    "interpreter": {
      "hash": "a5df7bd4ca0d6bb9986d9d69faf4f6c25893f82bf7982e9868ee8495bd8c927f"
    }
  },
  "cells": [
    {
      "cell_type": "markdown",
      "metadata": {
        "id": "view-in-github",
        "colab_type": "text"
      },
      "source": [
        "<a href=\"https://colab.research.google.com/github/EvenSol/NeqSim-Colab/blob/master/notebooks/process/Simulationofanoilstabilizationprocess.ipynb\" target=\"_parent\"><img src=\"https://colab.research.google.com/assets/colab-badge.svg\" alt=\"Open In Colab\"/></a>"
      ]
    },
    {
      "cell_type": "markdown",
      "metadata": {
        "id": "rPro0rQqbeWG"
      },
      "source": [
        "#Simulation of an oil stabilization process\n",
        "In this notebook we will establish code for using NeqSim for simulation of an oil stabilization process"
      ]
    },
    {
      "cell_type": "code",
      "metadata": {
        "id": "UMv-vbo2bjNW"
      },
      "source": [
        "# Setting up the Colab page to use neqsim\n",
        "%%capture\n",
        "!pip install neqsim==3.0.12\n",
        "import neqsim\n",
        "from neqsim.thermo.thermoTools import *"
      ],
      "execution_count": 1,
      "outputs": []
    },
    {
      "cell_type": "markdown",
      "metadata": {
        "id": "oOBN7Ha8b3oY"
      },
      "source": [
        "# Process flow diagram"
      ]
    },
    {
      "cell_type": "code",
      "metadata": {
        "id": "XRqU7EeeclcA"
      },
      "source": [
        "inputdata = {\n",
        "  'feedFlowRateWell': 10,\n",
        "  'wellPressure': 180.0,\n",
        "  'wellTemperature':100.0,\n",
        "  'topsidePressure': 90.0,\n",
        "  'topsideTemperature': 5.0,\n",
        "  'firstStagePressure': 75.0,\n",
        "  'temperatureOilHeater' : 75.9,\n",
        "  'secondStagePressure': 8.6,\n",
        "  'thirdStagePressure': 1.9,\n",
        "  'firstStageSuctionCoolerTemperature': 25.3,\n",
        "  'secondStageSuctionCoolerTemperature': 24.5,\n",
        "  'thirdStageSuctionCoolerTemperature':25.0,\n",
        "  'firstStageExportCoolerTemperature': 25.3,\n",
        "  'secondStageExportCoolerTemperature': 24.5\n",
        "}"
      ],
      "execution_count": 2,
      "outputs": []
    },
    {
      "cell_type": "code",
      "metadata": {
        "id": "-zm_LJX1bYdN"
      },
      "source": [
        "from neqsim.thermo import fluid, printFrame\n",
        "from neqsim.process import compressor, cooler, separator3phase, getProcess, clearProcess, mixer, heater, stream, pump, separator, runProcess, stream, saturator, valve, filters, heatExchanger, simpleTEGAbsorber,distillationColumn, waterStripperColumn, recycle, setpoint, calculator\n",
        "\n",
        "clearProcess()\n",
        "\n",
        "wellFluid = fluid('pr')\n",
        "wellFluid.addComponent(\"nitrogen\", 0.08)\n",
        "wellFluid.addComponent(\"CO2\", 3.56)\n",
        "wellFluid.addComponent(\"methane\", 87.36)\n",
        "wellFluid.addComponent(\"ethane\", 4.02)\n",
        "wellFluid.addComponent(\"propane\", 1.54)\n",
        "wellFluid.addComponent(\"i-butane\", 0.2)\n",
        "wellFluid.addComponent(\"n-butane\", 0.42)\n",
        "wellFluid.addComponent(\"i-pentane\", 0.15)\n",
        "wellFluid.addComponent(\"n-pentane\", 0.20)\n",
        "\n",
        "wellFluid.addTBPfraction(\"C6\", 3.24, 84.99/1000.0, 695.0/1000.0)\n",
        "wellFluid.addTBPfraction(\"C7\", 1.34, 97.87/1000.0, 718.0/1000.0)\n",
        "wellFluid.addTBPfraction(\"C8\", 1.33, 111.54/1000.0, 729.0/1000.0)\n",
        "wellFluid.addTBPfraction(\"C9\", 1.19, 126.1/1000.0, 749.0/1000.0)\n",
        "wellFluid.addTBPfraction(\"C10\", 1.15, 140.14/1000.0, 760.0/1000.0)\n",
        "wellFluid.addTBPfraction(\"C11\", 1.69, 175.0/1000.0, 830.0/1000.0)\n",
        "wellFluid.addTBPfraction(\"C12\", 1.5, 280.0/1000.0, 914.0/1000.0)\n",
        "wellFluid.addTBPfraction(\"C13\", 2.103, 560.0/1000.0, 980.0/1000.0)\n",
        "\n",
        "wellFluid.setMixingRule(2)\n",
        "wellFluid.init(0)\n",
        "\n",
        "wellFluid.setMolarComposition([0.08, 3.56, 87.36, 4.02, 1.54, 0.2, 0.42, 0.15, 0.2, 1.24, 1.34, 1.33, 1.19, 1.15, 1.69, 1.5, 1.03])\n",
        "\n",
        "wellStream = stream(\"dry well stream\", wellFluid)\n",
        "wellStream.setFlowRate(inputdata['feedFlowRateWell'], \"MSm3/day\")\n",
        "wellStream.setTemperature(inputdata['wellTemperature'], \"C\")\n",
        "wellStream.setPressure(inputdata['wellPressure'], \"bara\")\n",
        "\n",
        "saturatedFeedGas = saturator(\"water saturator\", wellStream)\n",
        "\n",
        "waterSaturatedFeedGas = stream(\"water saturated feed gas\", saturatedFeedGas.getOutStream())\n",
        "\n",
        "feedTPsetter = heater('inletTP', waterSaturatedFeedGas)\n",
        "feedTPsetter.setOutPressure(inputdata['topsidePressure'], \"bara\")\n",
        "feedTPsetter.setOutTemperature(inputdata['topsideTemperature'], \"C\")\n",
        "\n",
        "chokeValve = valve('valve 1', feedTPsetter.getOutStream())\n",
        "chokeValve.setOutletPressure(inputdata['firstStagePressure'], 'bara')\n",
        "\n",
        "feedToOffshoreProcess = stream(\"feed to offshore\", chokeValve.getOutStream())\n",
        "\n",
        "firstStageSeparator = separator3phase(\"1st stage separator\", feedToOffshoreProcess)\n",
        "\n",
        "oilHeaterFromFirstStage = heater(\"oil heater second stage\", firstStageSeparator.getOilOutStream())\n",
        "oilHeaterFromFirstStage.setOutTemperature(inputdata['temperatureOilHeater'],'C')\n",
        "\n",
        "oilThrotValve = valve(\"valve oil from first stage\", oilHeaterFromFirstStage.getOutStream())\n",
        "oilThrotValve.setOutletPressure(inputdata['secondStagePressure'])\n",
        "\n",
        "secondStageSeparator = separator3phase(\"2nd stage separator\", oilThrotValve.getOutStream())\n",
        "\n",
        "oilThrotValve2 = valve(\"valve oil from second stage\", secondStageSeparator.getOilOutStream())\n",
        "oilThrotValve2.setOutletPressure(inputdata['thirdStagePressure'])\n",
        "\n",
        "thirdStageSeparator = separator3phase(\"3rd stage separator\", oilThrotValve2.getOutStream())\n",
        "\n",
        "oilThirdStageToSep =  wellStream.clone()\n",
        "oilThirdStageToSep.setName(\"resyc oil\")\n",
        "thirdStageSeparator.addStream(oilThirdStageToSep)\n",
        "\n",
        "stableOil = stream(\"stable oil\", thirdStageSeparator.getOilOutStream())\n",
        "\n",
        "stableOilPump = pump(\"stable oil pump\", stableOil,p=15.0)\n",
        "\n",
        "firstStageCooler = cooler(\"1st stage cooler\", thirdStageSeparator.getGasOutStream())\n",
        "firstStageCooler.setOutTemperature(inputdata['firstStageSuctionCoolerTemperature'],'C')\n",
        "\n",
        "firstStageScrubber = separator(\"1st stage scrubber\", firstStageCooler.getOutStream())\n",
        "\n",
        "firstStageCompressor = compressor(\"1st stage compressor\", firstStageScrubber.getGasOutStream())\n",
        "firstStageCompressor.setOutletPressure(inputdata['secondStagePressure'])\n",
        "firstStageCompressor.setIsentropicEfficiency(0.75)\n",
        "\n",
        "secondStageCooler = cooler(\"2nd stage cooler\", firstStageCompressor.getOutStream())\n",
        "secondStageCooler.setOutTemperature(inputdata['secondStageSuctionCoolerTemperature'],'C')\n",
        "\n",
        "secondStageScrubber = separator(\"2nd stage scrubber\", secondStageCooler.getOutStream())\n",
        "\n",
        "secondStageCompressor = compressor(\"2nd stage compressor\", secondStageScrubber.getGasOutStream())\n",
        "secondStageCompressor.setOutletPressure(inputdata['firstStagePressure'])\n",
        "secondStageCompressor.setIsentropicEfficiency(0.75)\n",
        "\n",
        "richGasMixer = mixer(\"fourth Stage mixer\")\n",
        "richGasMixer.addStream(secondStageCompressor.getOutStream())\n",
        "richGasMixer.addStream(firstStageSeparator.getGasOutStream())\n",
        "\n",
        "dewPointControlCooler = cooler(\"dew point cooler\", richGasMixer.getOutStream())\n",
        "dewPointControlCooler.setOutTemperature(inputdata['thirdStageSuctionCoolerTemperature'],'C')\n",
        "\n",
        "dewPointScrubber = separator(\"dew point scrubber\", dewPointControlCooler.getOutStream())\n",
        "\n",
        "lpLiqmixer = mixer(\"LP liq gas mixer\");\n",
        "lpLiqmixer.addStream(firstStageScrubber.getLiquidOutStream());\n",
        "lpLiqmixer.addStream(secondStageScrubber.getLiquidOutStream());\n",
        "lpLiqmixer.addStream(dewPointScrubber.getLiquidOutStream());\n",
        "\n",
        "lpResycle = recycle(\"LP liq resycle\")\n",
        "lpResycle.addStream(lpLiqmixer.getOutStream())\n",
        "lpResycle.setOutletStream(oilThirdStageToSep)\n",
        "\n",
        "exportCompressor1 = compressor(\"export 1st stage\", dewPointScrubber.getGasOutStream())\n",
        "exportCompressor1.setOutletPressure(140.0)\n",
        "exportCompressor1.setIsentropicEfficiency(0.75)\n",
        "\n",
        "exportInterstageCooler = cooler(\"interstage stage cooler\", exportCompressor1.getOutStream())\n",
        "exportInterstageCooler.setOutTemperature(inputdata['firstStageExportCoolerTemperature'],'C')\n",
        "\n",
        "exportCompressor2= compressor(\"export 2nd stage\", exportInterstageCooler.getOutStream())\n",
        "exportCompressor2.setOutletPressure(200.0)\n",
        "exportCompressor2.setIsentropicEfficiency(0.75)\n",
        "\n",
        "exportCooler = cooler(\"export cooler\", exportCompressor1.getOutStream())\n",
        "exportCooler.setOutTemperature(inputdata['secondStageExportCoolerTemperature'],'C')\n",
        "\n",
        "exportGas = stream(\"export gas\", exportCooler.getOutStream())\n",
        "\n",
        "oilprocess = getProcess()\n"
      ],
      "execution_count": 6,
      "outputs": []
    },
    {
      "cell_type": "markdown",
      "metadata": {
        "id": "hWT8cRZ01PYY"
      },
      "source": [
        "# Start simulation as a thread"
      ]
    },
    {
      "cell_type": "code",
      "metadata": {
        "id": "JeI3lwpj1R02"
      },
      "source": [
        "#oilprocess.run() #run this to finish thread before continuing\n",
        "thread = oilprocess.runAsThread()\n",
        "thread.join(50000) # set maximum time to 50000 msec before continuing\n",
        "if thread.isAlive():\n",
        "  thread.interrupt()\n",
        "  thread.join()"
      ],
      "execution_count": 7,
      "outputs": []
    },
    {
      "cell_type": "markdown",
      "metadata": {
        "id": "cFzMn5nG1fJZ"
      },
      "source": [
        "# Read results from simulation"
      ]
    },
    {
      "cell_type": "code",
      "metadata": {
        "colab": {
          "base_uri": "https://localhost:8080/"
        },
        "id": "vh30bp0h1iuR",
        "outputId": "7e782b39-f9b1-4de0-dfa3-fe0a347be23b"
      },
      "source": [
        "TVP = stableOil.TVP(20.0, 'C')\n",
        "cricondenbar = exportGas.CCB('bara')\n",
        "powerComp1 = oilprocess.getUnit(\"1st stage compressor\").getPower()/1.0e3\n",
        "powerComp2 = oilprocess.getUnit(\"2nd stage compressor\").getPower()/1.0e3\n",
        "powerExpComp1 = oilprocess.getUnit(\"export 1st stage\").getPower()/1.0e3\n",
        "powerExpComp2 = oilprocess.getUnit(\"export 2nd stage\").getPower()/1.0e3\n",
        "\n",
        "print('TVP [bara] ', TVP)\n",
        "print('cricondenbar [bara] ', cricondenbar)\n",
        "print('recomp power 1 [kW] ', powerComp1)\n",
        "print('recomp power 2 [kW] ', powerComp2)\n",
        "print('exp power 1 [kW] ', powerExpComp1)\n",
        "print('exp power 2 [kW] ', powerExpComp2)\n"
      ],
      "execution_count": 8,
      "outputs": [
        {
          "output_type": "stream",
          "name": "stdout",
          "text": [
            "TVP [bara]  0.9994563400733689\n",
            "cricondenbar [bara]  88.4576902001664\n",
            "recomp power 1 [kW]  143.26369311314653\n",
            "recomp power 2 [kW]  184.03248828270947\n",
            "exp power 1 [kW]  7584.58555297371\n",
            "exp power 2 [kW]  3922.0111306267986\n"
          ]
        }
      ]
    },
    {
      "cell_type": "code",
      "metadata": {
        "id": "IClI0TNZsnh7",
        "colab": {
          "base_uri": "https://localhost:8080/"
        },
        "outputId": "7dc14b04-9602-4530-93d2-7be1e46f8275"
      },
      "source": [
        "from neqsim.thermo import fluid, printFrame\n",
        "printFrame(waterSaturatedFeedGas.getFluid())"
      ],
      "execution_count": 9,
      "outputs": [
        {
          "output_type": "stream",
          "name": "stdout",
          "text": [
            "| 0                    | 1          | 2          | 3           | 4   | 5   | 6               |\n",
            "|:---------------------|:-----------|:-----------|:------------|:----|:----|:----------------|\n",
            "|                      | total      | GAS        | OIL         |     |     |                 |\n",
            "| nitrogen             | 7.33585E-4 | 8.31521E-4 | 2.03897E-4  |     |     | [mole fraction] |\n",
            "| CO2                  | 3.26445E-2 | 3.4396E-2  | 2.31715E-2  |     |     | [mole fraction] |\n",
            "| methane              | 8.01074E-1 | 8.7639E-1  | 3.93731E-1  |     |     | [mole fraction] |\n",
            "| ethane               | 3.68626E-2 | 3.72901E-2 | 3.45504E-2  |     |     | [mole fraction] |\n",
            "| propane              | 1.41215E-2 | 1.30659E-2 | 1.98308E-2  |     |     | [mole fraction] |\n",
            "| i-butane             | 1.83396E-3 | 1.56775E-3 | 3.27374E-3  |     |     | [mole fraction] |\n",
            "| n-butane             | 3.85132E-3 | 3.13332E-3 | 7.73461E-3  |     |     | [mole fraction] |\n",
            "| i-pentane            | 1.37547E-3 | 9.94719E-4 | 3.43476E-3  |     |     | [mole fraction] |\n",
            "| n-pentane            | 1.83396E-3 | 1.26852E-3 | 4.89216E-3  |     |     | [mole fraction] |\n",
            "| C6_PC                | 1.13706E-2 | 6.33267E-3 | 3.86179E-2  |     |     | [mole fraction] |\n",
            "| C7_PC                | 1.22875E-2 | 5.69437E-3 | 4.79465E-2  |     |     | [mole fraction] |\n",
            "| C8_PC                | 1.21958E-2 | 4.60042E-3 | 5.32755E-2  |     |     | [mole fraction] |\n",
            "| C9_PC                | 1.09121E-2 | 3.20476E-3 | 5.25968E-2  |     |     | [mole fraction] |\n",
            "| C10_PC               | 1.05453E-2 | 2.39603E-3 | 5.46203E-2  |     |     | [mole fraction] |\n",
            "| C11_PC               | 1.5497E-2  | 1.56312E-3 | 9.08579E-2  |     |     | [mole fraction] |\n",
            "| C12_PC               | 1.37547E-2 | 7.48937E-5 | 8.77417E-2  |     |     | [mole fraction] |\n",
            "| C13_PC               | 9.4449E-3  | 2.03446E-8 | 6.05273E-2  |     |     | [mole fraction] |\n",
            "| water                | 9.66086E-3 | 7.1958E-3  | 2.2993E-2   |     |     | [mole fraction] |\n",
            "|                      |            |            |             |     |     |                 |\n",
            "| Density              |            | 1.32239E2  | 7.29076E2   |     |     | kg/m3           |\n",
            "| Phase Fraction       |            | 8.43957E-1 | 1.56043E-1  |     |     | [mole fraction] |\n",
            "| Molar Mass           | 3.50116E-2 | 2.05037E-2 | 1.13477E-1  |     |     | kg/mol          |\n",
            "| Z factor             |            | 8.99552E-1 | 9.03008E-1  |     |     | [-]             |\n",
            "| Heat Capacity (Cp)   |            | 2.92594E0  | 2.23421E0   |     |     | kJ/kgK          |\n",
            "| Heat Capacity (Cv)   |            | 1.90381E0  | 1.98837E0   |     |     | kJ/kgK          |\n",
            "| Speed of Sound       |            | 4.57839E2  | 8.59286E2   |     |     | m/sec           |\n",
            "| Enthalpy             | -2.48919E4 | 7.53153E4  | -1.22818E5  |     |     | J/kg            |\n",
            "| Entropy              | -8.07803E2 | -1.47266E3 | -1.58087E2  |     |     | J/kgK           |\n",
            "| JT coefficient       |            | 1.68463E-1 | -3.91314E-2 |     |     | C/bar           |\n",
            "|                      |            |            |             |     |     |                 |\n",
            "| Viscosity            |            | 1.92699E-5 | 3.8969E-4   |     |     | kg/msec         |\n",
            "| Thermal Conductivity |            | 5.71238E-2 | 1.05374E-1  |     |     | W/mK            |\n",
            "| Surface Tension      |            | 0E0        | 0E0         |     |     | [N/m]           |\n",
            "|                      |            |            |             |     |     |                 |\n",
            "|                      |            |            |             |     |     |                 |\n",
            "|                      |            |            |             |     |     |                 |\n",
            "| Pressure             |            | 180.0      | 180.0       |     |     | bara            |\n",
            "| Temperature          |            | 100.0      | 100.0       |     |     | C               |\n",
            "|                      |            |            |             |     |     |                 |\n",
            "| Model                |            | PR-EOS     | PR-EOS      |     |     | -               |\n",
            "| Mixing Rule          |            | classic    | classic     |     |     | -               |\n",
            "|                      |            |            |             |     |     |                 |\n",
            "| Stream               |            |            |             |     |     | -               |\n",
            "|                      |            |            |             |     |     |                 |\n",
            "|                      |            |            |             |     |     |                 |\n",
            "|                      |            |            |             |     |     |                 |\n",
            "|                      |            |            |             |     |     |                 |\n"
          ]
        }
      ]
    },
    {
      "cell_type": "markdown",
      "metadata": {
        "id": "412Men18snh8"
      },
      "source": [
        "# Save process to file"
      ]
    },
    {
      "cell_type": "code",
      "metadata": {
        "id": "Ibvb4mlxsnh9"
      },
      "source": [
        "oilprocess.save('oilpro.neqsim')"
      ],
      "execution_count": 10,
      "outputs": []
    },
    {
      "cell_type": "markdown",
      "metadata": {
        "id": "qOJ7Vv695Y_u"
      },
      "source": [
        "# Sizing of heat exchangers\n",
        "\n",
        "https://www.engineeringtoolbox.com/heat-transfer-coefficients-exchangers-d_450.html\n",
        "\n",
        "\n"
      ]
    },
    {
      "cell_type": "code",
      "metadata": {
        "id": "TGSfOSkQxpaT",
        "colab": {
          "base_uri": "https://localhost:8080/"
        },
        "outputId": "18c0d964-da63-4a0b-f8d6-48e202e6df35"
      },
      "source": [
        "import math\n",
        "U_Wm2K = 100.0\n",
        "\n",
        "water_inlet_temperature = 15.0\n",
        "water_outlet_temperature = oilprocess.getUnit('1st stage cooler').getInStream().getTemperature(\"C\")-10.0\n",
        "gas_inlet_temperature=oilprocess.getUnit('1st stage cooler').getInStream().getTemperature(\"C\")\n",
        "gas_outlet_temperature = oilprocess.getUnit('1st stage cooler').getOutStream().getTemperature(\"C\")\n",
        "\n",
        "\n",
        "deltaTA = gas_inlet_temperature-water_outlet_temperature\n",
        "deltaTB = gas_outlet_temperature-water_inlet_temperature\n",
        "\n",
        "LMTD = (deltaTA-deltaTB)/(math.log(deltaTA/deltaTB))\n",
        "\n",
        "Q = -oilprocess.getUnit('1st stage cooler').getEnergyInput()\n",
        "A = Q/U_Wm2K/LMTD\n",
        "print(\"LMTD \", round(LMTD,3), \" degC\")\n",
        "print(\"heat exchanger duty \", round(oilprocess.getUnit('1st stage cooler').getEnergyInput()/1e6,3), \" MW\")\n",
        "print(\"heat exchanger area \", round(A,3), \" m^2\")\n",
        "\n",
        "cPwater = 4200.0 #J/kgC\n",
        "densityWater = 1000.0 #kg/m3\n",
        "waterCirculationRate =  Q/(cPwater*(water_outlet_temperature-water_inlet_temperature))*3600/densityWater\n",
        "print(\"water circulation rate \", round(waterCirculationRate,3), \" m3/hr\")\n",
        "\n",
        "\n",
        "water_inlet_temperature = 15.0\n",
        "water_outlet_temperature = oilprocess.getUnit('2nd stage cooler').getInStream().getTemperature(\"C\")-10.0\n",
        "gas_inlet_temperature=oilprocess.getUnit('2nd stage cooler').getInStream().getTemperature(\"C\")\n",
        "gas_outlet_temperature = oilprocess.getUnit('2nd stage cooler').getOutStream().getTemperature(\"C\")\n",
        "\n",
        "\n",
        "deltaTA = gas_inlet_temperature-water_outlet_temperature\n",
        "deltaTB = gas_outlet_temperature-water_inlet_temperature\n",
        "\n",
        "LMTD = (deltaTA-deltaTB)/(math.log(deltaTA/deltaTB))\n",
        "Q = -oilprocess.getUnit('2nd stage cooler').getEnergyInput()\n",
        "A = Q/U_Wm2K/LMTD\n",
        "print(\"LMTD2 \", round(LMTD,3), \" degC\")\n",
        "print(\"heat exchanger duty2 \", round(oilprocess.getUnit('2nd stage cooler').getEnergyInput()/1e6,3), \" MW\")\n",
        "print(\"heat exchanger area2 \", round(A,3), \" m^2\")\n",
        "\n",
        "cPwater = 4200.0 #J/kgC\n",
        "densityWater = 1000.0 #kg/m3\n",
        "waterCirculationRate =  Q/(cPwater*(water_outlet_temperature-water_inlet_temperature))*3600/densityWater\n",
        "print(\"water circulation rate \", round(waterCirculationRate,3), \" m3/hr\")\n",
        "\n",
        "water_inlet_temperature = 15.0\n",
        "water_outlet_temperature = oilprocess.getUnit('interstage stage cooler').getInStream().getTemperature(\"C\")-10.0\n",
        "gas_inlet_temperature=oilprocess.getUnit('interstage stage cooler').getInStream().getTemperature(\"C\")\n",
        "gas_outlet_temperature = oilprocess.getUnit('interstage stage cooler').getOutStream().getTemperature(\"C\")\n",
        "\n",
        "\n",
        "deltaTA = gas_inlet_temperature-water_outlet_temperature\n",
        "deltaTB = gas_outlet_temperature-water_inlet_temperature\n",
        "\n",
        "LMTD = (deltaTA-deltaTB)/(math.log(deltaTA/deltaTB))\n",
        "Q = -oilprocess.getUnit('interstage stage cooler').getEnergyInput()\n",
        "A = Q/U_Wm2K/LMTD\n",
        "print(\"LMTD3 \", round(LMTD,3), \" degC\")\n",
        "print(\"heat exchanger duty3 \", round(oilprocess.getUnit('interstage stage cooler').getEnergyInput()/1e6,3), \" MW\")\n",
        "print(\"heat exchanger area3 \", round(A,3), \" m^2\")\n",
        "\n",
        "cPwater = 4200.0 #J/kgC\n",
        "densityWater = 1000.0 #kg/m3\n",
        "waterCirculationRate =  Q/(cPwater*(water_outlet_temperature-water_inlet_temperature))*3600/densityWater\n",
        "print(\"water circulation rate \", round(waterCirculationRate,3), \" m3/hr\")\n",
        "\n",
        "water_inlet_temperature = 15.0\n",
        "water_outlet_temperature = oilprocess.getUnit('export cooler').getInStream().getTemperature(\"C\")-10.0\n",
        "gas_inlet_temperature=oilprocess.getUnit('export cooler').getInStream().getTemperature(\"C\")\n",
        "gas_outlet_temperature = oilprocess.getUnit('export cooler').getOutStream().getTemperature(\"C\")\n",
        "\n",
        "\n",
        "deltaTA = gas_inlet_temperature-water_outlet_temperature\n",
        "deltaTB = gas_outlet_temperature-water_inlet_temperature\n",
        "\n",
        "LMTD = (deltaTA-deltaTB)/(math.log(deltaTA/deltaTB))\n",
        "Q = -oilprocess.getUnit('export cooler').getEnergyInput()\n",
        "A = Q/U_Wm2K/LMTD\n",
        "print(\"LMTD4 \", round(LMTD,3), \" degC\")\n",
        "print(\"heat exchanger duty4 \", round(oilprocess.getUnit('export cooler').getEnergyInput()/1e6,3), \" MW\")\n",
        "print(\"heat exchanger area4 \", round(A,3), \" m^2\")\n",
        "\n",
        "cPwater = 4200.0 #J/kgC\n",
        "densityWater = 1000.0 #kg/m3\n",
        "waterCirculationRate =  Q/(cPwater*(water_outlet_temperature-water_inlet_temperature))*3600/densityWater\n",
        "print(\"water circulation rate \", round(waterCirculationRate,3), \" m3/hr\")"
      ],
      "execution_count": 11,
      "outputs": [
        {
          "output_type": "stream",
          "name": "stdout",
          "text": [
            "LMTD  10.149  degC\n",
            "heat exchanger duty  -0.144  MW\n",
            "heat exchanger area  142.009  m^2\n",
            "water circulation rate  2.881  m3/hr\n",
            "LMTD2  9.748  degC\n",
            "heat exchanger duty2  -0.213  MW\n",
            "heat exchanger area2  218.769  m^2\n",
            "water circulation rate  2.053  m3/hr\n",
            "LMTD3  10.149  degC\n",
            "heat exchanger duty3  -12.344  MW\n",
            "heat exchanger area3  12162.057  m^2\n",
            "water circulation rate  183.142  m3/hr\n",
            "LMTD4  9.748  degC\n",
            "heat exchanger duty4  -12.53  MW\n",
            "heat exchanger area4  12854.161  m^2\n",
            "water circulation rate  185.908  m3/hr\n"
          ]
        }
      ]
    },
    {
      "cell_type": "markdown",
      "metadata": {
        "id": "vjS6FtWWjrsQ"
      },
      "source": [
        "# Sizing of gas scrubbers\n"
      ]
    },
    {
      "cell_type": "code",
      "metadata": {
        "id": "qqD38AvMj0GO",
        "outputId": "bedf5ca2-ee7b-4d93-c0b0-66108e0de337",
        "colab": {
          "base_uri": "https://localhost:8080/"
        }
      },
      "source": [
        "gas_load_factor = 0.1\n",
        "gas_density = oilprocess.getUnit('1st stage scrubber').getGasOutStream().getFluid().getDensity(\"kg/m3\")\n",
        "oil_density = oilprocess.getUnit('1st stage scrubber').getLiquidOutStream().getFluid().getDensity(\"kg/m3\")\n",
        "flowRate = oilprocess.getUnit('1st stage scrubber').getGasOutStream().getFluid().getFlowRate(\"m3/sec\")\n",
        "\n",
        "V_t = gas_load_factor*math.sqrt((oil_density-gas_density)/gas_density)\n",
        "A_scrub = flowRate/V_t\n",
        "\n",
        "D_scrub = math.sqrt(A_scrub/(3.14/4.0))\n",
        "\n",
        "print(\"gas density \", round(gas_density,3), \" [kg/m3)]\")\n",
        "print(\"oil density \", round(oil_density,3), \" [kg/m3]\")\n",
        "print(\"Maximum gas velocity \", round(V_t,3), \" [m/sec]\")\n",
        "print(\"Minimum scrubber internal diameter \", round(D_scrub,3), \" [m]\")\n",
        "\n",
        "gas_load_factor = 0.1\n",
        "gas_density = oilprocess.getUnit('2nd stage scrubber').getGasOutStream().getFluid().getDensity(\"kg/m3\")\n",
        "oil_density = oilprocess.getUnit('2nd stage scrubber').getLiquidOutStream().getFluid().getDensity(\"kg/m3\")\n",
        "flowRate = oilprocess.getUnit('2nd stage scrubber').getGasOutStream().getFluid().getFlowRate(\"m3/sec\")\n",
        "\n",
        "V_t = gas_load_factor*math.sqrt((oil_density-gas_density)/gas_density)\n",
        "A_scrub = flowRate/V_t\n",
        "\n",
        "D_scrub = math.sqrt(A_scrub/(3.14/4.0))\n",
        "\n",
        "print(\"gas density \", round(gas_density,3), \" [kg/m3)]\")\n",
        "print(\"oil density \", round(oil_density,3), \" [kg/m3]\")\n",
        "print(\"Maximum gas velocity \", round(V_t,3), \" [m/sec]\")\n",
        "print(\"Minimum scrubber internal diameter \", round(D_scrub,3), \" [m]\")\n",
        "\n",
        "gas_load_factor = 0.1\n",
        "gas_density = oilprocess.getUnit('dew point scrubber').getGasOutStream().getFluid().getDensity(\"kg/m3\")\n",
        "oil_density = oilprocess.getUnit('dew point scrubber').getLiquidOutStream().getFluid().getDensity(\"kg/m3\")\n",
        "if(abs(oil_density-gas_density)<10.0):\n",
        "  oil_density = 800.0\n",
        "flowRate = oilprocess.getUnit('dew point scrubber').getGasOutStream().getFluid().getFlowRate(\"m3/sec\")\n",
        "\n",
        "V_t = gas_load_factor*math.sqrt((oil_density-gas_density)/gas_density)\n",
        "A_scrub = flowRate/V_t\n",
        "\n",
        "D_scrub = math.sqrt(A_scrub/(3.14/4.0))\n",
        "\n",
        "print(\"gas density \", round(gas_density,3), \" [kg/m3)]\")\n",
        "print(\"oil density \", round(oil_density,3), \" [kg/m3]\")\n",
        "print(\"Maximum gas velocity \", round(V_t,3), \" [m/sec]\")\n",
        "print(\"Minimum scrubber internal diameter \", round(D_scrub,3), \" [m]\")"
      ],
      "execution_count": 12,
      "outputs": [
        {
          "output_type": "stream",
          "name": "stdout",
          "text": [
            "gas density  2.641  [kg/m3)]\n",
            "oil density  691.885  [kg/m3]\n",
            "Maximum gas velocity  1.616  [m/sec]\n",
            "Minimum scrubber internal diameter  0.518  [m]\n",
            "gas density  11.256  [kg/m3)]\n",
            "oil density  620.406  [kg/m3]\n",
            "Maximum gas velocity  0.736  [m/sec]\n",
            "Minimum scrubber internal diameter  0.335  [m]\n",
            "gas density  64.152  [kg/m3)]\n",
            "oil density  440.27  [kg/m3]\n",
            "Maximum gas velocity  0.242  [m/sec]\n",
            "Minimum scrubber internal diameter  2.432  [m]\n"
          ]
        }
      ]
    },
    {
      "cell_type": "code",
      "metadata": {
        "id": "AtSbwNxZlxzO",
        "outputId": "c0834d90-c98e-478d-9622-c399961162e0",
        "colab": {
          "base_uri": "https://localhost:8080/"
        }
      },
      "source": [
        "printFrame(oilprocess.getUnit('dew point scrubber').getFluid())"
      ],
      "execution_count": 13,
      "outputs": [
        {
          "output_type": "stream",
          "name": "stdout",
          "text": [
            "| 0                    | 1           | 2           | 3   | 4   | 5   | 6               |\n",
            "|:---------------------|:------------|:------------|:----|:----|:----|:----------------|\n",
            "|                      | total       | GAS         |     |     |     |                 |\n",
            "| nitrogen             | 8.81942E-4  | 8.81942E-4  |     |     |     | [mole fraction] |\n",
            "| CO2                  | 3.38677E-2  | 3.38677E-2  |     |     |     | [mole fraction] |\n",
            "| methane              | 9.16808E-1  | 9.16808E-1  |     |     |     | [mole fraction] |\n",
            "| ethane               | 3.44599E-2  | 3.44599E-2  |     |     |     | [mole fraction] |\n",
            "| propane              | 9.5965E-3   | 9.5965E-3   |     |     |     | [mole fraction] |\n",
            "| i-butane             | 8.87449E-4  | 8.87449E-4  |     |     |     | [mole fraction] |\n",
            "| n-butane             | 1.48953E-3  | 1.48953E-3  |     |     |     | [mole fraction] |\n",
            "| i-pentane            | 2.95602E-4  | 2.95602E-4  |     |     |     | [mole fraction] |\n",
            "| n-pentane            | 3.11132E-4  | 3.11132E-4  |     |     |     | [mole fraction] |\n",
            "| C6_PC                | 6.89808E-4  | 6.89808E-4  |     |     |     | [mole fraction] |\n",
            "| C7_PC                | 3.44606E-4  | 3.44606E-4  |     |     |     | [mole fraction] |\n",
            "| C8_PC                | 1.60685E-4  | 1.60685E-4  |     |     |     | [mole fraction] |\n",
            "| C9_PC                | 6.36661E-5  | 6.36661E-5  |     |     |     | [mole fraction] |\n",
            "| C10_PC               | 2.83615E-5  | 2.83615E-5  |     |     |     | [mole fraction] |\n",
            "| C11_PC               | 4.90883E-6  | 4.90883E-6  |     |     |     | [mole fraction] |\n",
            "| C12_PC               | 5.11446E-9  | 5.11446E-9  |     |     |     | [mole fraction] |\n",
            "| C13_PC               | 2.48982E-16 | 2.48982E-16 |     |     |     | [mole fraction] |\n",
            "| water                | 1.10645E-4  | 1.10645E-4  |     |     |     | [mole fraction] |\n",
            "|                      |             |             |     |     |     |                 |\n",
            "| Density              |             | 6.4152E1    |     |     |     | kg/m3           |\n",
            "| Phase Fraction       |             | 1E0         |     |     |     | [mole fraction] |\n",
            "| Molar Mass           | 1.799E-2    | 1.799E-2    |     |     |     | kg/mol          |\n",
            "| Z factor             |             | 8.48426E-1  |     |     |     | [-]             |\n",
            "| Heat Capacity (Cp)   |             | 2.68642E0   |     |     |     | kJ/kgK          |\n",
            "| Heat Capacity (Cv)   |             | 1.66056E0   |     |     |     | kJ/kgK          |\n",
            "| Speed of Sound       |             | 4.01027E2   |     |     |     | m/sec           |\n",
            "| Enthalpy             | -3.70235E4  | -3.70235E4  |     |     |     | J/kg            |\n",
            "| Entropy              | -1.84026E3  | -1.84026E3  |     |     |     | J/kgK           |\n",
            "| JT coefficient       |             | 4.29659E-1  |     |     |     | C/bar           |\n",
            "|                      |             |             |     |     |     |                 |\n",
            "| Viscosity            |             | 1.34083E-5  |     |     |     | kg/msec         |\n",
            "| Thermal Conductivity |             | 4.11623E-2  |     |     |     | W/mK            |\n",
            "| Surface Tension      |             |             |     |     |     | [N/m]           |\n",
            "|                      |             |             |     |     |     |                 |\n",
            "|                      |             |             |     |     |     |                 |\n",
            "|                      |             |             |     |     |     |                 |\n",
            "| Pressure             |             | 75.0        |     |     |     | bara            |\n",
            "| Temperature          |             | 25.0        |     |     |     | C               |\n",
            "|                      |             |             |     |     |     |                 |\n",
            "| Model                |             | PR-EOS      |     |     |     | -               |\n",
            "| Mixing Rule          |             | classic     |     |     |     | -               |\n",
            "|                      |             |             |     |     |     |                 |\n",
            "| Stream               |             |             |     |     |     | -               |\n",
            "|                      |             |             |     |     |     |                 |\n",
            "|                      |             |             |     |     |     |                 |\n",
            "|                      |             |             |     |     |     |                 |\n",
            "|                      |             |             |     |     |     |                 |\n"
          ]
        }
      ]
    }
  ]
}