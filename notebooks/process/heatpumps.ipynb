{
  "nbformat": 4,
  "nbformat_minor": 0,
  "metadata": {
    "colab": {
      "name": "heatpumps.ipynb",
      "provenance": [],
      "include_colab_link": true
    },
    "kernelspec": {
      "name": "python3",
      "display_name": "Python 3"
    }
  },
  "cells": [
    {
      "cell_type": "markdown",
      "metadata": {
        "id": "view-in-github",
        "colab_type": "text"
      },
      "source": [
        "<a href=\"https://colab.research.google.com/github/EvenSol/NeqSim-Colab/blob/master/notebooks/process/heatpumps.ipynb\" target=\"_parent\"><img src=\"https://colab.research.google.com/assets/colab-badge.svg\" alt=\"Open In Colab\"/></a>"
      ]
    },
    {
      "cell_type": "code",
      "metadata": {
        "id": "UVxfMoBKemCO"
      },
      "source": [
        "#@title Heat pumps\n",
        "#@markdown Introduction to heat pumps using NeqSim\n",
        "%%capture\n",
        "!pip install neqsim\n",
        "import neqsim\n",
        "from neqsim.thermo.thermoTools import *\n",
        "import matplotlib\n",
        "import numpy as np\n",
        "import matplotlib.pyplot as plt\n",
        "import math\n",
        "%matplotlib inline"
      ],
      "execution_count": 1,
      "outputs": []
    },
    {
      "cell_type": "markdown",
      "metadata": {
        "id": "jFQYZ8yzex3e"
      },
      "source": [
        "#Litterature\n",
        "\n",
        "https://en.wikipedia.org/wiki/Heat_pump"
      ]
    },
    {
      "cell_type": "code",
      "metadata": {
        "id": "o10cESjQfcD2",
        "cellView": "form",
        "outputId": "94850569-9274-4881-9b2a-1c3b51a47229",
        "colab": {
          "base_uri": "https://localhost:8080/",
          "height": 421
        }
      },
      "source": [
        "#@title  Heat Pumps\n",
        "#@markdown Introduction to heat pumps\n",
        "from IPython.display import YouTubeVideo\n",
        "YouTubeVideo('vU9x3dFMrU', width=600, height=400)"
      ],
      "execution_count": null,
      "outputs": [
        {
          "output_type": "execute_result",
          "data": {
            "text/html": [
              "\n",
              "        <iframe\n",
              "            width=\"600\"\n",
              "            height=\"400\"\n",
              "            src=\"https://www.youtube.com/embed/vU9x3dFMrU\"\n",
              "            frameborder=\"0\"\n",
              "            allowfullscreen\n",
              "        ></iframe>\n",
              "        "
            ],
            "text/plain": [
              "<IPython.lib.display.YouTubeVideo at 0x7feb4c233b00>"
            ]
          },
          "metadata": {
            "tags": []
          },
          "execution_count": 1
        }
      ]
    },
    {
      "cell_type": "code",
      "metadata": {
        "id": "FpIXx0SPeoZy",
        "outputId": "49dd241e-a748-4d71-f41c-e5e04d520299",
        "colab": {
          "base_uri": "https://localhost:8080/"
        }
      },
      "source": [
        "import neqsim\n",
        "from neqsim.thermo.thermoTools import *\n",
        "from neqsim.process import stream,clearProcess,runProcess, pump, heater, cooler, expander, valve, compressor, heater\n",
        "\n",
        "fluid_1 = fluid(\"srk\")\n",
        "fluid_1.addComponent(\"propane\", 1.0)\n",
        "\n",
        "fluid_1.setPressure(15.0, \"bara\")\n",
        "fluid_1.setTemperature(30.0, \"C\")\n",
        "fluid_1.setTotalFlowRate(1000.0, \"kg/hr\")\n",
        "\n",
        "clearProcess()\n",
        "stream_1 = stream('stream 1', fluid_1)\n",
        "stream_1.setSpecification(\"bubT\")\n",
        "\n",
        "JTvalve = valve('valve 1', stream_1, 1.0)\n",
        "\n",
        "cooler_1 = cooler('cooler 1', JTvalve.getOutStream())\n",
        "cooler_1.setSpecification(\"out stream\")\n",
        "\n",
        "stream_2 = stream('stream 2', cooler_1.getOutStream())\n",
        "stream_2.setSpecification(\"dewP\")\n",
        "\n",
        "cooler_1.setOutStream(stream_2)\n",
        "JTvalve.setOutletPressure(stream_2.getPressure());\n",
        "\n",
        "compressor_1 = compressor('compressor 1', stream_2, 10.0);\n",
        "compressor_1.setSpecification(\"out stream\")\n",
        "compressor_1.setOutletPressure(stream_1.getPressure())\n",
        "\n",
        "heater = heater('heater 1', compressor_1.getOutStream())\n",
        "heater.setSpecification(\"out stream\");\n",
        "heater.setOutStream(stream_1);\n",
        "\n",
        "runProcess()\n",
        "\n",
        "print(\"Compressor power \", compressor_1.getTotalWork()/1e3, \" kW\")\n",
        "print(\"Cooling duty \", cooler_1.getDuty()/1e3, \" kW\")\n",
        "print(\"Heating duty \", heater.getDuty()/1e3, \" kW\")"
      ],
      "execution_count": 3,
      "outputs": [
        {
          "output_type": "stream",
          "name": "stdout",
          "text": [
            "Compressor power  35.84847647400145  kW\n",
            "Cooling duty  68.6834670522777  kW\n",
            "Heating duty  -104.53194352628789  kW\n"
          ]
        }
      ]
    }
  ]
}