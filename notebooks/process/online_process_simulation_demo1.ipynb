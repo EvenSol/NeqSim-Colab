{
  "cells": [
    {
      "cell_type": "markdown",
      "metadata": {
        "id": "view-in-github",
        "colab_type": "text"
      },
      "source": [
        "<a href=\"https://colab.research.google.com/github/EvenSol/NeqSim-Colab/blob/master/notebooks/process/online_process_simulation_demo1.ipynb\" target=\"_parent\"><img src=\"https://colab.research.google.com/assets/colab-badge.svg\" alt=\"Open In Colab\"/></a>"
      ]
    },
    {
      "cell_type": "code",
      "execution_count": 3,
      "metadata": {
        "id": "gu7WUja-F0jK"
      },
      "outputs": [],
      "source": [
        "%%capture\n",
        "!pip install neqsim\n",
        "!pip install -U pydantic"
      ]
    },
    {
      "cell_type": "markdown",
      "metadata": {
        "id": "p4JePxgTF3CA"
      },
      "source": [
        "# 1. Read Eclipse E300 file"
      ]
    },
    {
      "cell_type": "code",
      "execution_count": 102,
      "metadata": {
        "colab": {
          "base_uri": "https://localhost:8080/"
        },
        "id": "XvgQDa9xF2r4",
        "outputId": "3af3339c-2ee7-4a3a-e129-092b0cbcea79"
      },
      "outputs": [
        {
          "output_type": "stream",
          "name": "stdout",
          "text": [
            "Eclipse fluid file ok...\n"
          ]
        }
      ],
      "source": [
        "import os\n",
        "\n",
        "if os.path.isfile('fluid1.e300'):\n",
        "   print(\"Eclipse fluid file ok...\")\n",
        "else:\n",
        "  print(\"Error...please provide an Eclipse fluid file...\")"
      ]
    },
    {
      "cell_type": "markdown",
      "metadata": {
        "id": "24aNae0CHJ4c"
      },
      "source": [
        "# 2. Process model"
      ]
    },
    {
      "cell_type": "code",
      "execution_count": 103,
      "metadata": {
        "id": "C0LD-fXTGEB-"
      },
      "outputs": [],
      "source": [
        "from pydantic import Field, field_validator\n",
        "from pydantic.dataclasses import dataclass\n",
        "from typing import Optional, List\n",
        "from neqsim import jNeqSim\n",
        "from functools import cache\n",
        "\n",
        "@dataclass\n",
        "class ProcessInput():\n",
        "    \"\"\"\n",
        "    A class to define input parameters for the oil process.\n",
        "    \"\"\"\n",
        "    flowRateHPsep: float = Field(ge=0.0, le=100000000.0, title=\"Flow rate to HP separator [kg/hr]\")\n",
        "    flowRateLPsep: float = Field(ge=0.0, le=1000000000.0, title=\"Flow rate to LP separator [kg/hr]\")\n",
        "    firstStagePressure: float = Field(ge=0.0, le=100.0, title=\"Pressure of first stage separator [bara]\")\n",
        "    firstStageTemperature: float = Field(ge=0.0, le=100.0, title=\"Temperature of first stage separator [C]\")\n",
        "    secondStagePressure: float = Field(ge=0.0, le=100.0, title=\"Second stage separator pressure [bara]\")\n",
        "    secondStageTemperature: float = Field(ge=0.0, le=100.0, title=\"Second stage separator temperature [C]\")\n",
        "    thirdStagePressure: float = Field(ge=0.0, le=100.0, title=\"Third stage separator pressure [bara]\")\n",
        "    thirdStageTemperature: float = Field(ge=0.0, le=100.0, title=\"Third stage separator temperature [C]\")\n",
        "    fourthStagePressure: float = Field(ge=0.0, le=100.0, title=\"Fourth stage separator pressure [bara]\")\n",
        "    fourthStageTemperature: float = Field(ge=0.0, le=100.0, title=\"Fourth stage separator temperature [C]\")\n",
        "    export_oil_temperature: float = Field(ge=0.0, le=100.0, title=\"Export oil temperature [C]\")\n",
        "    export_oil_pressure: float = Field(ge=0.0, le=100.0, title=\"Export oil pressure [bara]\")\n",
        "    export_gas_pressure: float = Field(ge=0.0, le=200.0, title=\"Export gas pressure [bara]\")\n",
        "    export_gas_temperature: float = Field(ge=0.0, le=100.0, title=\"Export gas temperature [C]\")\n",
        "    gasCoolerTemperature:float = Field(ge=0.0, le=100.0, title=\"Gas cooler temperature [C]\")\n",
        "\n",
        "@dataclass\n",
        "class ProcessOutput:\n",
        "    \"\"\"\n",
        "    A class to define output results from an Oil process simulation.\n",
        "    \"\"\"\n",
        "    mass_balance: Optional[float] = None\n",
        "    recompressor1_power: Optional[float] = None\n",
        "    recompressor2_power: Optional[float] = None\n",
        "    recompressor3_power: Optional[float] = None\n",
        "    exportcompressor_power: Optional[float] = None\n",
        "    gasexportflow: Optional[float] = None\n",
        "    oilexportflow: Optional[float] = None\n",
        "    export_gas_cooler_duty: Optional[float] = None\n",
        "\n",
        "@cache\n",
        "def getprocess():\n",
        "    \"\"\"\n",
        "    The method creates a oil process object using neqsim\n",
        "    \"\"\"\n",
        "\n",
        "    wellFluid = jNeqSim.thermo.util.readwrite.EclipseFluidReadWrite.read('fluid1.e300')\n",
        "    wellFluid .setMultiPhaseCheck(True)\n",
        "    LPwellFLuid = wellFluid.clone()\n",
        "\n",
        "    wellStreamHP = jNeqSim.processSimulation.processEquipment.stream.Stream(wellFluid)\n",
        "    wellStreamHP.setName(\"HP well stream\")\n",
        "\n",
        "    LPwellStream = jNeqSim.processSimulation.processEquipment.stream.Stream(LPwellFLuid)\n",
        "    LPwellStream.setName(\"LP well stream\")\n",
        "\n",
        "    firstStageSeparator = jNeqSim.processSimulation.processEquipment.separator.ThreePhaseSeparator(wellStreamHP)\n",
        "    firstStageSeparator.setName(\"1st stage separator\")\n",
        "\n",
        "    oilHeaterFromFirstStage = jNeqSim.processSimulation.processEquipment.heatExchanger.Heater(firstStageSeparator.getOilOutStream())\n",
        "    oilHeaterFromFirstStage.setName(\"oil heater second stage\")\n",
        "\n",
        "    secondStageSeparator = jNeqSim.processSimulation.processEquipment.separator.ThreePhaseSeparator(oilHeaterFromFirstStage.getOutStream())\n",
        "    secondStageSeparator.addStream(LPwellStream)\n",
        "    secondStageSeparator.setName(\"2nd stage separator\")\n",
        "\n",
        "    oilHeaterFromSecondStage = jNeqSim.processSimulation.processEquipment.heatExchanger.Heater(secondStageSeparator.getOilOutStream())\n",
        "    oilHeaterFromSecondStage.setName(\"oil heater third stage\")\n",
        "\n",
        "    thirdStageSeparator = jNeqSim.processSimulation.processEquipment.separator.ThreePhaseSeparator(oilHeaterFromSecondStage.getOutStream())\n",
        "    thirdStageSeparator.setName(\"3rd stage separator\")\n",
        "\n",
        "    oilThirdStage =  wellStreamHP.clone()\n",
        "    oilThirdStage.setName(\"third stage oil reflux\")\n",
        "    oilThirdStage.setFlowRate(10.0, 'kg/hr')\n",
        "\n",
        "    oilThirdStageMixer = jNeqSim.processSimulation.processEquipment.mixer.Mixer()\n",
        "    oilThirdStageMixer.setName(\"third stage oil mixer\")\n",
        "    oilThirdStageMixer.addStream(thirdStageSeparator.getOilOutStream())\n",
        "    oilThirdStageMixer.addStream(oilThirdStage)\n",
        "\n",
        "    oilHeaterFromThirdStage = jNeqSim.processSimulation.processEquipment.heatExchanger.Heater(oilThirdStageMixer.getOutStream())\n",
        "    oilHeaterFromThirdStage.setName(\"oil heater fourth stage\")\n",
        "\n",
        "    fourthStageSeparator = jNeqSim.processSimulation.processEquipment.separator.ThreePhaseSeparator(oilHeaterFromThirdStage.getOutStream())\n",
        "    fourthStageSeparator.setName(\"4th stage separator\")\n",
        "\n",
        "    firstStageCooler = jNeqSim.processSimulation.processEquipment.heatExchanger.Cooler(fourthStageSeparator.getGasOutStream())\n",
        "    firstStageCooler.setName(\"1st stage cooler\")\n",
        "\n",
        "    firstStageScrubber = jNeqSim.processSimulation.processEquipment.separator.Separator(firstStageCooler.getOutStream())\n",
        "    firstStageScrubber.setName(\"1st stage scrubber\")\n",
        "\n",
        "    firstStageCompressor = jNeqSim.processSimulation.processEquipment.compressor.Compressor(firstStageScrubber.getGasOutStream())\n",
        "    firstStageCompressor.setName(\"1st stage compressor\")\n",
        "    firstStageCompressor.setUsePolytropicCalc(True)\n",
        "    firstStageCompressor.setPolytropicEfficiency(0.8)\n",
        "\n",
        "    firststagegasmixer = jNeqSim.processSimulation.processEquipment.mixer.Mixer(\"first stage mixer\")\n",
        "    firststagegasmixer.addStream(firstStageCompressor.getOutStream())\n",
        "    firststagegasmixer.addStream(thirdStageSeparator.getGasOutStream())\n",
        "\n",
        "    firstStageCooler2 = jNeqSim.processSimulation.processEquipment.heatExchanger.Cooler(firststagegasmixer.getOutStream())\n",
        "    firstStageCooler2.setName(\"1st stage cooler2\")\n",
        "\n",
        "    firstStageScrubber2 = jNeqSim.processSimulation.processEquipment.separator.Separator(firstStageCooler2.getOutStream())\n",
        "    firstStageScrubber2.setName(\"1st stage scrubber2\")\n",
        "\n",
        "    firstStageCompressor2 = jNeqSim.processSimulation.processEquipment.compressor.Compressor(firstStageScrubber2.getGasOutStream())\n",
        "    firstStageCompressor2.setName(\"2nd stage compressor\")\n",
        "    firstStageCompressor2.setUsePolytropicCalc(True)\n",
        "    firstStageCompressor2.setPolytropicEfficiency(0.8)\n",
        "\n",
        "    secondstagegasmixer = jNeqSim.processSimulation.processEquipment.mixer.Mixer(\"second Stage mixer\")\n",
        "    secondstagegasmixer.addStream(firstStageCompressor2.getOutStream())\n",
        "    secondstagegasmixer.addStream(secondStageSeparator.getGasOutStream())\n",
        "\n",
        "    secondStageCooler = jNeqSim.processSimulation.processEquipment.heatExchanger.Cooler(secondstagegasmixer.getOutStream())\n",
        "    secondStageCooler.setName(\"2nd stage cooler\")\n",
        "\n",
        "    secondStageScrubber = jNeqSim.processSimulation.processEquipment.separator.Separator(secondStageCooler.getOutStream())\n",
        "    secondStageScrubber.setName(\"2nd stage scrubber\")\n",
        "\n",
        "    secondStageCompressor = jNeqSim.processSimulation.processEquipment.compressor.Compressor(secondStageScrubber.getGasOutStream())\n",
        "    secondStageCompressor.setName(\"3rd stage compressor\")\n",
        "    secondStageCompressor.setUsePolytropicCalc(True)\n",
        "    secondStageCompressor.setPolytropicEfficiency(0.8)\n",
        "\n",
        "    richGasMixer = jNeqSim.processSimulation.processEquipment.mixer.Mixer(\"fourth Stage mixer\")\n",
        "    richGasMixer.addStream(secondStageCompressor.getOutStream())\n",
        "    richGasMixer.addStream(firstStageSeparator.getGasOutStream())\n",
        "\n",
        "    dewPointControlCooler = jNeqSim.processSimulation.processEquipment.heatExchanger.Cooler(richGasMixer.getOutStream())\n",
        "    dewPointControlCooler.setName(\"dew point cooler\")\n",
        "\n",
        "    dewPointScrubber = jNeqSim.processSimulation.processEquipment.separator.Separator(dewPointControlCooler.getOutStream())\n",
        "    dewPointScrubber.setName(\"dew point scrubber\")\n",
        "\n",
        "    lpLiqmixer = jNeqSim.processSimulation.processEquipment.mixer.Mixer(\"LP liq gas mixer\");\n",
        "    lpLiqmixer.addStream(firstStageScrubber.getLiquidOutStream());\n",
        "    lpLiqmixer.addStream(firstStageScrubber2.getLiquidOutStream());\n",
        "    lpLiqmixer.addStream(secondStageScrubber.getLiquidOutStream());\n",
        "    lpLiqmixer.addStream(dewPointScrubber.getLiquidOutStream());\n",
        "\n",
        "    lpResycle = jNeqSim.processSimulation.processEquipment.util.Recycle(\"LP liq resycle\")\n",
        "    lpResycle.addStream(lpLiqmixer.getOutStream())\n",
        "    lpResycle.setOutletStream(oilThirdStage)\n",
        "    lpResycle.setTolerance(1e-6)\n",
        "\n",
        "    exportoil = jNeqSim.processSimulation.processEquipment.heatExchanger.Heater(fourthStageSeparator.getOilOutStream())\n",
        "    exportoil.setName(\"export oil cooler\")\n",
        "\n",
        "    exportoilstream = jNeqSim.processSimulation.processEquipment.stream.Stream(exportoil.getOutStream())\n",
        "    exportoilstream.setName('export oil')\n",
        "\n",
        "    exportCompressor1 = jNeqSim.processSimulation.processEquipment.compressor.Compressor(dewPointScrubber.getGasOutStream())\n",
        "    exportCompressor1.setName(\"export gas compressor\")\n",
        "    exportCompressor1.setUsePolytropicCalc(True)\n",
        "    exportCompressor1.setPolytropicEfficiency(0.8857)\n",
        "\n",
        "    exportGasCooler = jNeqSim.processSimulation.processEquipment.heatExchanger.Cooler(exportCompressor1.getOutStream())\n",
        "    exportGasCooler.setName(\"export gas cooler\")\n",
        "\n",
        "    exportGas = jNeqSim.processSimulation.processEquipment.stream.Stream(exportGasCooler.getOutStream())\n",
        "    exportGas.setName(\"export gas\")\n",
        "\n",
        "    oilprocess = jNeqSim.processSimulation.processSystem.ProcessSystem()\n",
        "    oilprocess.add(wellStreamHP)\n",
        "    oilprocess.add(LPwellStream)\n",
        "    oilprocess.add(firstStageSeparator)\n",
        "    oilprocess.add(oilHeaterFromFirstStage)\n",
        "    oilprocess.add(secondStageSeparator)\n",
        "    oilprocess.add(oilHeaterFromSecondStage)\n",
        "    oilprocess.add(thirdStageSeparator)\n",
        "    oilprocess.add(oilThirdStage)\n",
        "    oilprocess.add(oilThirdStageMixer)\n",
        "    oilprocess.add(oilHeaterFromThirdStage)\n",
        "    oilprocess.add(fourthStageSeparator)\n",
        "    oilprocess.add(firstStageCooler)\n",
        "    oilprocess.add(firstStageScrubber)\n",
        "    oilprocess.add(firstStageCompressor)\n",
        "    oilprocess.add(firststagegasmixer)\n",
        "    oilprocess.add(firstStageCooler2)\n",
        "    oilprocess.add(firstStageScrubber2)\n",
        "    oilprocess.add(firstStageCompressor2)\n",
        "    oilprocess.add(secondstagegasmixer)\n",
        "    oilprocess.add(secondStageCooler)\n",
        "    oilprocess.add(secondStageScrubber)\n",
        "    oilprocess.add(secondStageCompressor)\n",
        "    oilprocess.add(richGasMixer)\n",
        "    oilprocess.add(dewPointControlCooler)\n",
        "    oilprocess.add(dewPointScrubber)\n",
        "    oilprocess.add(lpLiqmixer)\n",
        "    oilprocess.add(lpResycle)\n",
        "    oilprocess.add(exportoil)\n",
        "    oilprocess.add(exportoilstream)\n",
        "    oilprocess.add(exportCompressor1)\n",
        "    oilprocess.add(exportGasCooler)\n",
        "    oilprocess.add(exportGas)\n",
        "\n",
        "    return oilprocess\n",
        "\n",
        "\n",
        "def updateinput(process, locinput):\n",
        "    \"\"\"\n",
        "    Update process with input parameters. Error handling added for non-existing units.\n",
        "    \"\"\"\n",
        "    # Try accessing each unit and catch any potential AttributeError\n",
        "    try:\n",
        "      process.getUnit('HP well stream').setFlowRate(locinput.flowRateHPsep, 'kg/hr')\n",
        "      process.getUnit('HP well stream').setTemperature(locinput.firstStageTemperature, \"C\")\n",
        "      process.getUnit('HP well stream').setPressure(locinput.firstStagePressure, \"bara\")\n",
        "      process.getUnit('LP well stream').setFlowRate(locinput.flowRateLPsep,'kg/hr')\n",
        "      process.getUnit('LP well stream').setTemperature(locinput.secondStageTemperature, \"C\")\n",
        "      process.getUnit('LP well stream').setPressure(locinput.secondStagePressure, \"bara\")\n",
        "      process.getUnit('oil heater second stage').setOutTemperature(locinput.secondStageTemperature,'C')\n",
        "      process.getUnit('oil heater second stage').setOutPressure(locinput.secondStagePressure,'bara')\n",
        "      process.getUnit('oil heater third stage').setOutTemperature(locinput.thirdStageTemperature,'C')\n",
        "      process.getUnit('oil heater third stage').setOutPressure(locinput.thirdStagePressure,'bara')\n",
        "      process.getUnit('oil heater fourth stage').setOutTemperature(locinput.fourthStageTemperature,'C')\n",
        "      process.getUnit('oil heater fourth stage').setOutPressure(locinput.fourthStagePressure,'bara')\n",
        "      process.getUnit('export oil cooler').setOutTemperature(locinput.export_oil_temperature,'C')\n",
        "      process.getUnit('export oil cooler').setOutPressure(locinput.export_oil_pressure,'bara')\n",
        "      process.getUnit('1st stage cooler').setOutTemperature(locinput.gasCoolerTemperature,'C')\n",
        "      process.getUnit('1st stage compressor').setOutletPressure(locinput.thirdStagePressure)\n",
        "      process.getUnit('1st stage cooler2').setOutTemperature(locinput.gasCoolerTemperature,'C')\n",
        "      process.getUnit('2nd stage compressor').setOutletPressure(locinput.secondStagePressure)\n",
        "      process.getUnit('2nd stage cooler').setOutTemperature(locinput.gasCoolerTemperature,'C')\n",
        "      process.getUnit('3rd stage compressor').setOutletPressure(locinput.firstStagePressure)\n",
        "      process.getUnit('export gas compressor').setOutletPressure(locinput.export_gas_pressure, 'bara')\n",
        "      process.getUnit('export gas cooler').setOutTemperature(locinput.export_gas_temperature,'C')\n",
        "    except AttributeError as e:\n",
        "        print(f\"Failed to update unit parameters: {e}\")\n",
        "\n",
        "\n",
        "def getoutput(process):\n",
        "    # update output\n",
        "    #oilprocess.getUnit('HP well stream').getFluid().prettyPrint()\n",
        "    outputparam = {\n",
        "        'mass_balance': process.getUnit('HP well stream').getFlowRate('kg/hr')+process.getUnit('LP well stream').getFlowRate('kg/hr')-process.getUnit('export gas').getFlowRate('kg/hr')-process.getUnit('export oil').getFlowRate('kg/hr'),\n",
        "        'recompressor1_power': process.getUnit('1st stage compressor').getPower()/1e3,\n",
        "        'export_gas_cooler_duty':process.getUnit('export gas cooler').getDuty()/1e3,\n",
        "        'recompressor2_power': process.getUnit('2nd stage compressor').getPower()/1e3,\n",
        "        'recompressor3_power': process.getUnit('3rd stage compressor').getPower()/1e3,\n",
        "        'exportcompressor_power': process.getUnit('export gas compressor').getPower()/1e3,\n",
        "        'oilexportflow':process.getUnit('export oil').getFlowRate('idSm3/hr')*24.0,\n",
        "        'gasexportflow':process.getUnit('export gas').getFlowRate('MSm3/day'),\n",
        "    }\n",
        "    return outputparam\n",
        "\n",
        "def run_process_with_timeout(process, input_params, timeout=60, runstep=False):\n",
        "    \"\"\"Run the oil process calculation with a specified timeout.\"\"\"\n",
        "    updateinput(process=process, locinput=ProcessInput(**input_params))\n",
        "    process.setRunInSteps(runstep)\n",
        "    thread = process.runAsThread()\n",
        "    thread.join(timeout*1000)\n",
        "    if thread.isAlive():\n",
        "        print('Process calculation timed out. Consider recreating the process object or adjusting parameters.')\n",
        "        return None\n",
        "    return ProcessOutput(**getoutput(process=process))"
      ]
    },
    {
      "cell_type": "code",
      "execution_count": 104,
      "metadata": {
        "id": "7siCzihIGGyU"
      },
      "outputs": [],
      "source": [
        "# Create oil process (only do first time)\n",
        "oilprocess = getprocess()"
      ]
    },
    {
      "cell_type": "markdown",
      "metadata": {
        "id": "SiOUvNTXGo-Z"
      },
      "source": [
        "# 3. Set input and Run Simulations"
      ]
    },
    {
      "cell_type": "code",
      "execution_count": 105,
      "metadata": {
        "colab": {
          "base_uri": "https://localhost:8080/"
        },
        "id": "RTXdsFCrGOP1",
        "outputId": "9c2bea97-a585-43b1-9a36-2ebd8ff3da1d"
      },
      "outputs": [
        {
          "output_type": "stream",
          "name": "stdout",
          "text": [
            "Calculation successful. Results: %s {'mass_balance': 0.04321766062639654, 'recompressor1_power': 118.65480989452183, 'recompressor2_power': 964.9700505775024, 'recompressor3_power': 3557.7022617369566, 'exportcompressor_power': 6644.004455087077, 'gasexportflow': 5.91141487915347, 'oilexportflow': 32553.6994817719, 'export_gas_cooler_duty': -16149.443558661655}\n"
          ]
        }
      ],
      "source": [
        "inputparam = {\n",
        "    'flowRateHPsep': 1000000.0,\n",
        "    'flowRateLPsep': 300000.0,\n",
        "    'firstStagePressure': 65.0,\n",
        "    'firstStageTemperature': 85.0,\n",
        "    'secondStagePressure': 22.0,\n",
        "    'secondStageTemperature': 65.0,\n",
        "    'thirdStagePressure': 4.5,\n",
        "    'thirdStageTemperature': 63.5,\n",
        "    'fourthStagePressure': 1.7,\n",
        "    'fourthStageTemperature': 63.0,\n",
        "    'export_oil_temperature': 20.0,\n",
        "    'export_oil_pressure': 20.8,\n",
        "    'export_gas_pressure': 126.5,\n",
        "    'export_gas_temperature': 55.0,\n",
        "    'gasCoolerTemperature': 25.0\n",
        "}\n",
        "\n",
        "# Update input parameters for process calculations.\n",
        "# Note: In case of a process crash, the `oilprocess` object should be recreated to ensure stability for subsequent runs.\n",
        "# Reusing the `oilprocess` object without unnecessary recreation can enhance numerical performance,\n",
        "# as new calculations can leverage the solutions from previous runs. However, ensure to manage this carefully to avoid state-related errors.\n",
        "# The `getprocess()` function is tasked with either creating a new `oilprocess` object or fetching an existing one,\n",
        "# depending on the design to balance between computational efficiency and error resilience.\n",
        "\n",
        "runstep=False\n",
        "\n",
        "#timout parameter has unit seconds\n",
        "results = run_process_with_timeout(process=oilprocess, input_params=inputparam, timeout=60,runstep=runstep)\n",
        "if results and (results.mass_balance > 0.5 and runstep==False):\n",
        "    print('Calculation failed to converge. Recreating process object...')\n",
        "    print('Mass balance: ' , results.mass_balance, ' %')\n",
        "    oilprocess = getprocess()\n",
        "else:\n",
        "    print('Calculation successful. Results: %s', results.__dict__ if results else 'No results')"
      ]
    },
    {
      "cell_type": "markdown",
      "source": [
        "# We start by creating a time series of input parameters\n",
        "\n",
        "The flow rate is constant for the first 5 steps. Increase Phase: The flow rate increases by a total of 20% over the next 10 steps. Decrease Phase: The flow rate goes back to the original value over another 10 steps.\n",
        "\n",
        "Final Constant Phase: The flow rate is constant again for the final 5 steps.\n",
        "Given the starting flow rate of 10,000, a 20% increase over 10 steps results in an increment of 2% per step. Let's generate the structures accordingly. Here's how to calculate it:"
      ],
      "metadata": {
        "id": "yrLdY6SaF_Iv"
      }
    },
    {
      "cell_type": "code",
      "source": [
        "# Define the starting input parameters\n",
        "start_struct = {\n",
        "    'flowRateHPsep': 1000000.0,\n",
        "    'flowRateLPsep': 300000.0,\n",
        "    'firstStagePressure': 65.0,\n",
        "    'firstStageTemperature': 85.0,\n",
        "    'secondStagePressure': 22.0,\n",
        "    'secondStageTemperature': 65.0,\n",
        "    'thirdStagePressure': 4.5,\n",
        "    'thirdStageTemperature': 63.5,\n",
        "    'fourthStagePressure': 1.7,\n",
        "    'fourthStageTemperature': 63.0,\n",
        "    'export_oil_temperature': 20.0,\n",
        "    'export_oil_pressure': 20.8,\n",
        "    'export_gas_pressure': 126.5,\n",
        "    'export_gas_temperature': 55.0,\n",
        "    'gasCoolerTemperature': 25.0\n",
        "}\n",
        "\n",
        "# Initialize list to hold all the structs\n",
        "inputparam = []\n",
        "\n",
        "# Constants\n",
        "initial_flow_rate = start_struct['flowRateHPsep']\n",
        "increase_step = 0.02 * initial_flow_rate  # 2% of initial\n",
        "total_steps = 5 + 10 + 10 + 5  # Total steps\n",
        "\n",
        "# Generate structs\n",
        "for step in range(total_steps):\n",
        "    if step < 5:\n",
        "        flow_rate = initial_flow_rate\n",
        "    elif step < 15:\n",
        "        flow_rate = initial_flow_rate + (step - 5 + 1) * increase_step\n",
        "    elif step < 25:\n",
        "        flow_rate = initial_flow_rate + (10 - (step - 15)) * increase_step\n",
        "    else:\n",
        "        flow_rate = initial_flow_rate\n",
        "\n",
        "    # Create a new struct with the updated flow rate\n",
        "    new_struct = start_struct.copy()\n",
        "    new_struct['flowRateHPsep'] = flow_rate\n",
        "    inputparam.append(new_struct)"
      ],
      "metadata": {
        "id": "VrcAoWZjFq4n"
      },
      "execution_count": 106,
      "outputs": []
    },
    {
      "cell_type": "markdown",
      "source": [
        "# Online simulation where each time step is fully solved\n",
        "In the first method we will run a simulation where each step (new input parameters) is run to full converegnece. This means that all recycles are fully solved. This is leads to a relatively time intensive caluclations (especielly when input is changing significantly)."
      ],
      "metadata": {
        "id": "qPcaza2cEgwr"
      }
    },
    {
      "cell_type": "code",
      "source": [
        "import time\n",
        "import json\n",
        "runstep = True\n",
        "# Start the timer\n",
        "start_time = time.time()\n",
        "\n",
        "runstep = False\n",
        "\n",
        "results = []\n",
        "for param in inputparam:  # param is each dictionary in the inputparam list\n",
        "    # Assuming oilprocess and runstep are defined elsewhere in your code\n",
        "    result = run_process_with_timeout(process=oilprocess, input_params=param, timeout=60,runstep=runstep)\n",
        "    json_out = str(oilprocess.getReport_json())\n",
        "    json_object = json.loads(json_out)\n",
        "    for key, value in json_object.items():\n",
        "        json_object[key] = json.loads(value)\n",
        "    results.append(json_object)\n",
        "    if result and (result.mass_balance > 0.5 and not runstep):\n",
        "        print('Calculation failed to converge. Recreating process object...')\n",
        "        print('Mass balance:', result.mass_balance, '%')\n",
        "        oilprocess = getprocess()  # Assuming get_process() is correctly defined elsewhere\n",
        "    else:\n",
        "        if result:\n",
        "            print('Calculation successful. Results:', result)  # Assuming result can be directly printed\n",
        "        else:\n",
        "            print('No results')\n",
        "\n",
        "\n",
        "# Stop the timer\n",
        "end_time = time.time()\n",
        "\n",
        "# Calculate total time taken\n",
        "total_time = end_time - start_time\n",
        "print('Total calculation time: {:.2f} seconds'.format(total_time))"
      ],
      "metadata": {
        "colab": {
          "base_uri": "https://localhost:8080/"
        },
        "id": "Y5jgPUJ3HMex",
        "outputId": "92300c7a-dafd-49fa-86a0-5840b43fd294"
      },
      "execution_count": 107,
      "outputs": [
        {
          "output_type": "stream",
          "name": "stdout",
          "text": [
            "Calculation successful. Results: ProcessOutput(mass_balance=3.634137101471424e-05, recompressor1_power=118.65481295372004, recompressor2_power=964.9700552552035, recompressor3_power=3557.702264041255, exportcompressor_power=6644.004456442356, gasexportflow=5.911414880936977, oilexportflow=32553.700968421756, export_gas_cooler_duty=-16149.443565929443)\n",
            "Calculation successful. Results: ProcessOutput(mass_balance=1.2512318789958954e-06, recompressor1_power=118.6548130380801, recompressor2_power=964.9700553841551, recompressor3_power=3557.7022641047843, exportcompressor_power=6644.004456479639, gasexportflow=5.9114148809861575, oilexportflow=32553.700969520527, export_gas_cooler_duty=-16149.443566129803)\n",
            "Calculation successful. Results: ProcessOutput(mass_balance=2.8335489332675934e-07, recompressor1_power=118.65481304041013, recompressor2_power=964.9700553877233, recompressor3_power=3557.7022641064214, exportcompressor_power=6644.004456480482, gasexportflow=5.911414880987514, oilexportflow=32553.700969550828, export_gas_cooler_duty=-16149.443566135013)\n",
            "Calculation successful. Results: ProcessOutput(mass_balance=2.568121999502182e-07, recompressor1_power=118.65481304047152, recompressor2_power=964.9700553878338, recompressor3_power=3557.702264106501, exportcompressor_power=6644.00445648067, gasexportflow=5.911414880987552, oilexportflow=32553.700969551668, export_gas_cooler_duty=-16149.443566135356)\n",
            "Calculation successful. Results: ProcessOutput(mass_balance=2.5564804673194885e-07, recompressor1_power=118.65481304047627, recompressor2_power=964.970055387819, recompressor3_power=3557.702264106662, exportcompressor_power=6644.004456480602, gasexportflow=5.911414880987553, oilexportflow=32553.7009695517, export_gas_cooler_duty=-16149.443566135466)\n",
            "Calculation failed to converge. Recreating process object...\n",
            "Mass balance: 1.0126246029976755 %\n",
            "Calculation failed to converge. Recreating process object...\n",
            "Mass balance: 1.019429390784353 %\n",
            "Calculation failed to converge. Recreating process object...\n",
            "Mass balance: 1.0261422712355852 %\n",
            "Calculation failed to converge. Recreating process object...\n",
            "Mass balance: 1.032784954411909 %\n",
            "Calculation failed to converge. Recreating process object...\n",
            "Mass balance: 1.0393582966644317 %\n",
            "Calculation failed to converge. Recreating process object...\n",
            "Mass balance: 1.0458629943896085 %\n",
            "Calculation failed to converge. Recreating process object...\n",
            "Mass balance: 1.052300181472674 %\n",
            "Calculation failed to converge. Recreating process object...\n",
            "Mass balance: 1.0586705403402448 %\n",
            "Calculation failed to converge. Recreating process object...\n",
            "Mass balance: 1.064975046319887 %\n",
            "Calculation successful. Results: ProcessOutput(mass_balance=0.0009956026915460825, recompressor1_power=138.07765950359163, recompressor2_power=1118.7374210392777, recompressor3_power=3787.863434849333, exportcompressor_power=7640.59819282829, gasexportflow=6.820203713884258, oilexportflow=37562.81422217915, export_gas_cooler_duty=-18454.709593462303)\n",
            "Calculation successful. Results: ProcessOutput(mass_balance=2.944725565612316e-05, recompressor1_power=138.07766193993035, recompressor2_power=1118.7374247650073, recompressor3_power=3787.863436677129, exportcompressor_power=7640.598193906509, gasexportflow=6.820203715298919, oilexportflow=37562.814252323726, export_gas_cooler_duty=-18454.709599221373)\n",
            "Calculation successful. Results: ProcessOutput(mass_balance=-1.0694812803994864, recompressor1_power=136.12929323012057, recompressor2_power=1103.337195919353, recompressor3_power=3764.8512272989333, exportcompressor_power=7540.942351445336, gasexportflow=6.7293282751834615, oilexportflow=37061.927751584604, export_gas_cooler_duty=-18224.204989389535)\n",
            "Calculation successful. Results: ProcessOutput(mass_balance=-1.0632525302935392, recompressor1_power=134.18212936503468, recompressor2_power=1087.9417498327007, recompressor3_power=3741.838155127599, exportcompressor_power=7441.285761820533, gasexportflow=6.638452080946033, oilexportflow=36561.00674957116, export_gas_cooler_duty=-17993.69565558697)\n",
            "Calculation successful. Results: ProcessOutput(mass_balance=-1.0569316276814789, recompressor1_power=132.23628472910787, recompressor2_power=1072.5513363145237, recompressor3_power=3718.824265099423, exportcompressor_power=7341.628439989032, gasexportflow=6.547575165037334, oilexportflow=36060.08828771217, export_gas_cooler_duty=-17763.181688464007)\n",
            "Calculation successful. Results: ProcessOutput(mass_balance=-1.0505447268951684, recompressor1_power=130.29178850575605, recompressor2_power=1057.1660775130772, recompressor3_power=3695.8095368175777, exportcompressor_power=7241.970361695602, gasexportflow=6.456697509243997, oilexportflow=35559.17242869076, export_gas_cooler_duty=-17532.66297083571)\n",
            "Calculation successful. Results: ProcessOutput(mass_balance=-1.0440910109318793, recompressor1_power=128.34867079994967, recompressor2_power=1041.7860997376388, recompressor3_power=3672.7939490972262, exportcompressor_power=7142.311501493205, gasexportflow=6.3658190946393685, oilexportflow=35058.25923658711, export_gas_cooler_duty=-17302.139380947425)\n",
            "Calculation successful. Results: ProcessOutput(mass_balance=-0.0008963891305029392, recompressor1_power=126.40688712200196, recompressor2_power=1026.411418105813, recompressor3_power=3649.7774230995865, exportcompressor_power=7042.651799202399, gasexportflow=6.274939857566881, oilexportflow=34557.31314634056, export_gas_cooler_duty=-17071.61061308862)\n",
            "Calculation successful. Results: ProcessOutput(mass_balance=-1.030956739326939, recompressor1_power=124.46669631130254, recompressor2_power=1011.0425146039456, recompressor3_power=3626.760106506062, exportcompressor_power=6942.991327197362, gasexportflow=6.184059909549628, oilexportflow=34056.44112092842, export_gas_cooler_duty=-16841.077073251738)\n",
            "Calculation successful. Results: ProcessOutput(mass_balance=-1.024319148156792, recompressor1_power=122.52790486552644, recompressor2_power=995.6791826494416, recompressor3_power=3603.741805074018, exportcompressor_power=6843.3299556043785, gasexportflow=6.093179097373757, oilexportflow=33555.5363396946, export_gas_cooler_duty=-16610.538087107623)\n",
            "Calculation successful. Results: ProcessOutput(mass_balance=-1.0175891970284283, recompressor1_power=120.59062270524133, recompressor2_power=980.3216829644722, recompressor3_power=3580.7225509864957, exportcompressor_power=6743.667686916429, gasexportflow=6.002297442915729, oilexportflow=33054.63450646133, export_gas_cooler_duty=-16379.993691442607)\n",
            "Calculation successful. Results: ProcessOutput(mass_balance=-1.0107877748087049, recompressor1_power=118.65488532264615, recompressor2_power=964.9701659169056, recompressor3_power=3557.7023185609773, exportcompressor_power=6644.004488506484, gasexportflow=5.911414923130071, oilexportflow=32553.735699571556, export_gas_cooler_duty=-16149.443737864016)\n",
            "Calculation successful. Results: ProcessOutput(mass_balance=-0.000828759279102087, recompressor1_power=118.65481503232175, recompressor2_power=964.9700584334829, recompressor3_power=3557.7022656070544, exportcompressor_power=6644.004457362928, gasexportflow=5.911414882148805, oilexportflow=32553.700995510975, export_gas_cooler_duty=-16149.443570867565)\n",
            "Calculation successful. Results: ProcessOutput(mass_balance=-2.259155735373497e-05, recompressor1_power=118.65481309539568, recompressor2_power=964.9700554718187, recompressor3_power=3557.7022641479257, exportcompressor_power=6644.004456505034, gasexportflow=5.911414881019572, oilexportflow=32553.7009702671, export_gas_cooler_duty=-16149.443566265949)\n",
            "Calculation successful. Results: ProcessOutput(mass_balance=-3.7462450563907623e-07, recompressor1_power=118.65481304198623, recompressor2_power=964.9700553901405, recompressor3_power=3557.7022641077697, exportcompressor_power=6644.004456481177, gasexportflow=5.9114148809884375, oilexportflow=32553.700969571415, export_gas_cooler_duty=-16149.44356613895)\n",
            "Calculation successful. Results: ProcessOutput(mass_balance=2.3818574845790863e-07, recompressor1_power=118.65481304051441, recompressor2_power=964.970055387874, recompressor3_power=3557.7022641066005, exportcompressor_power=6644.004456480986, gasexportflow=5.9114148809875795, oilexportflow=32553.700969552225, export_gas_cooler_duty=-16149.443566135851)\n",
            "Total calculation time: 269.08 seconds\n"
          ]
        }
      ]
    },
    {
      "cell_type": "code",
      "source": [
        "import matplotlib.pyplot as plt\n",
        "\n",
        "# Extract the 'standard flow rate' from each result if available\n",
        "flow_rates = []\n",
        "for result in results:\n",
        "    try:\n",
        "        # Navigate through the dictionary according to your structure\n",
        "        flow_rate = result['export gas']['properties']['gas']['standard flow rate']\n",
        "        flow_rates.append(float(flow_rate['value'])/1e6*24)\n",
        "    except KeyError:\n",
        "        # Handle the case where the key might not exist\n",
        "        flow_rates.append(None)  # Appending None or could use a placeholder like 0\n",
        "\n",
        "# Plotting the results\n",
        "plt.figure(figsize=(10, 5))  # Set the figure size as needed\n",
        "plt.plot(flow_rates, marker='o', linestyle='-', color='b')  # Customize the plot with markers and line style\n",
        "plt.title('Standard Flow Rate of Export Gas over Time [MSm3/day]')\n",
        "plt.xlabel('Index (i)')\n",
        "plt.ylabel('Standard Flow Rate')\n",
        "plt.grid(True)\n",
        "plt.show()"
      ],
      "metadata": {
        "colab": {
          "base_uri": "https://localhost:8080/",
          "height": 487
        },
        "id": "TCUG-wqONRNL",
        "outputId": "4ffe4ac7-f6ca-4d34-c0ae-99ef345bb5eb"
      },
      "execution_count": 109,
      "outputs": [
        {
          "output_type": "display_data",
          "data": {
            "text/plain": [
              "<Figure size 1000x500 with 1 Axes>"
            ],
            "image/png": "[encoded data removed]"
          },
          "metadata": {}
        }
      ]
    },
    {
      "cell_type": "markdown",
      "source": [],
      "metadata": {
        "id": "_U9wUYULSrpi"
      }
    },
    {
      "cell_type": "markdown",
      "source": [
        "# Online simulation where each time step is solved in steps\n",
        "In the seccond method we will run a simulation where each simulation is run but recycles are not solved. This will improve calculations significantly."
      ],
      "metadata": {
        "id": "PclmuPW3RlX4"
      }
    },
    {
      "cell_type": "code",
      "source": [
        "import time\n",
        "import json\n",
        "\n",
        "#timout parameter has unit seconds\n",
        "# Start the timer\n",
        "start_time = time.time()\n",
        "\n",
        "runstep = True\n",
        "\n",
        "results = []\n",
        "for param in inputparam:  # param is each dictionary in the inputparam list\n",
        "    # Assuming oilprocess and runstep are defined elsewhere in your code\n",
        "    result = run_process_with_timeout(process=oilprocess, input_params=param, timeout=60,runstep=runstep)\n",
        "    json_out = str(oilprocess.getReport_json())\n",
        "    json_object = json.loads(json_out)\n",
        "    for key, value in json_object.items():\n",
        "        json_object[key] = json.loads(value)\n",
        "    results.append(json_object)\n",
        "\n",
        "# Stop the timer\n",
        "end_time = time.time()\n",
        "\n",
        "# Calculate total time taken\n",
        "total_time = end_time - start_time\n",
        "print('Total calculation time: {:.2f} seconds'.format(total_time))"
      ],
      "metadata": {
        "colab": {
          "base_uri": "https://localhost:8080/"
        },
        "id": "pYj5hxndRyc2",
        "outputId": "cbd75c9f-6565-4671-b351-4c17b7060152"
      },
      "execution_count": 110,
      "outputs": [
        {
          "output_type": "stream",
          "name": "stdout",
          "text": [
            "Calculation successful. Results: ProcessOutput(mass_balance=2.551823854446411e-07, recompressor1_power=118.65481304047243, recompressor2_power=964.9700553878263, recompressor3_power=3557.70226410655, exportcompressor_power=6644.004456480675, gasexportflow=5.911414880987555, oilexportflow=32553.700969551704, export_gas_cooler_duty=-16149.443566135435)\n",
            "Calculation successful. Results: ProcessOutput(mass_balance=2.551823854446411e-07, recompressor1_power=118.65481304047088, recompressor2_power=964.9700553878328, recompressor3_power=3557.7022641065446, exportcompressor_power=6644.0044564806185, gasexportflow=5.911414880987553, oilexportflow=32553.700969551697, export_gas_cooler_duty=-16149.443566135364)\n",
            "Calculation successful. Results: ProcessOutput(mass_balance=2.5564804673194885e-07, recompressor1_power=118.65481304047219, recompressor2_power=964.9700553878394, recompressor3_power=3557.7022641065437, exportcompressor_power=6644.0044564804675, gasexportflow=5.911414880987555, oilexportflow=32553.70096955168, export_gas_cooler_duty=-16149.443566135216)\n",
            "Calculation successful. Results: ProcessOutput(mass_balance=2.55415216088295e-07, recompressor1_power=118.65481304047213, recompressor2_power=964.9700553878466, recompressor3_power=3557.7022641065446, exportcompressor_power=6644.004456480681, gasexportflow=5.911414880987555, oilexportflow=32553.700969551683, export_gas_cooler_duty=-16149.443566135435)\n",
            "Calculation successful. Results: ProcessOutput(mass_balance=2.551823854446411e-07, recompressor1_power=118.65481304047097, recompressor2_power=964.9700553878491, recompressor3_power=3557.702264106666, exportcompressor_power=6644.004456480496, gasexportflow=5.911414880987555, oilexportflow=32553.70096955169, export_gas_cooler_duty=-16149.44356613537)\n",
            "Calculation successful. Results: ProcessOutput(mass_balance=36.81835274002515, recompressor1_power=120.48467378206858, recompressor2_power=980.1576222841326, recompressor3_power=3580.6398653921274, exportcompressor_power=6743.61803345676, gasexportflow=6.002235441877042, oilexportflow=33053.47587938466, export_gas_cooler_duty=-16379.744246812614)\n",
            "Calculation successful. Results: ProcessOutput(mass_balance=38.00938310427591, recompressor1_power=122.4187494415264, recompressor2_power=995.5102142577732, recompressor3_power=3603.6567303864554, exportcompressor_power=6843.278880442018, gasexportflow=6.093115251551219, oilexportflow=33554.340559531876, export_gas_cooler_duty=-16610.281153761174)\n",
            "Calculation successful. Results: ProcessOutput(mass_balance=38.12501039658673, recompressor1_power=124.35689720106913, recompressor2_power=1010.8725609270263, recompressor3_power=3626.674577766698, exportcompressor_power=6942.939970650246, gasexportflow=6.183995713178642, oilexportflow=34055.24183506317, export_gas_cooler_duty=-16840.81873560965)\n",
            "Calculation successful. Results: ProcessOutput(mass_balance=38.20993651589379, recompressor1_power=126.296597656289, recompressor2_power=1026.2407136679255, recompressor3_power=3649.691555791118, exportcompressor_power=7042.6002294730915, gasexportflow=6.274875399997048, oilexportflow=34556.14694366647, export_gas_cooler_duty=-17071.35123529865)\n",
            "Calculation successful. Results: ProcessOutput(mass_balance=38.29260823875666, recompressor1_power=128.23774909440667, recompressor2_power=1041.6144276199445, recompressor3_power=3672.7076366089163, exportcompressor_power=7142.25965601257, gasexportflow=6.365754293347585, oilexportflow=35057.05492312384, export_gas_cooler_duty=-17301.878627022896)\n",
            "Calculation successful. Results: ProcessOutput(mass_balance=38.373846649425104, recompressor1_power=130.18031736726462, recompressor2_power=1056.993564395774, recompressor3_power=3695.7228415263053, exportcompressor_power=7241.918277401168, gasexportflow=6.456632412484302, oilexportflow=35557.965678724075, export_gas_cooler_duty=-17532.40103747111)\n",
            "Calculation successful. Results: ProcessOutput(mass_balance=38.453707236098126, recompressor1_power=132.12427118842064, recompressor2_power=1072.377992996199, recompressor3_power=3718.737192376013, exportcompressor_power=7341.576120240487, gasexportflow=6.547509776950846, oilexportflow=36058.879142293925, export_gas_cooler_duty=-17762.918592657865)\n",
            "Calculation successful. Results: ProcessOutput(mass_balance=38.53222270356491, recompressor1_power=134.0695803569744, recompressor2_power=1087.7675869653815, recompressor3_power=3741.7507102638583, exportcompressor_power=7441.233209928487, gasexportflow=6.638386405612052, oilexportflow=36559.795248744966, export_gas_cooler_duty=-17993.431414071412)\n",
            "Calculation successful. Results: ProcessOutput(mass_balance=38.60942407650873, recompressor1_power=136.01621560196742, recompressor2_power=1103.1622240213435, recompressor3_power=3764.7634155156084, exportcompressor_power=7540.889570674134, gasexportflow=6.729262316624522, oilexportflow=37060.71393536347, export_gas_cooler_duty=-18223.939618651035)\n",
            "Calculation successful. Results: ProcessOutput(mass_balance=38.68534184526652, recompressor1_power=137.96414853847864, recompressor2_power=1118.5617858686323, recompressor3_power=3787.7753277106913, exportcompressor_power=7640.54522556613, gasexportflow=6.820137527468951, oilexportflow=37561.63514166344, export_gas_cooler_duty=-18454.44331900572)\n",
            "Calculation successful. Results: ProcessOutput(mass_balance=1.215757385827601, recompressor1_power=138.07462923028442, recompressor2_power=1118.7327833600057, recompressor3_power=3787.8611560234044, exportcompressor_power=7640.596847015679, gasexportflow=6.820201953639921, oilexportflow=37562.77634122006, export_gas_cooler_duty=-18454.702431510137)\n",
            "Calculation successful. Results: ProcessOutput(mass_balance=-37.44486541324295, recompressor1_power=136.23960305218728, recompressor2_power=1103.5079322661707, recompressor3_power=3764.936955627391, exportcompressor_power=7540.9939015985965, gasexportflow=6.729392625845603, oilexportflow=37063.03137716254, export_gas_cooler_duty=-18224.463824003436)\n",
            "Calculation successful. Results: ProcessOutput(mass_balance=-38.58966123475693, recompressor1_power=134.29496472141247, recompressor2_power=1088.1163514413129, recompressor3_power=3741.9258143233264, exportcompressor_power=7441.338439702499, gasexportflow=6.638517923334267, oilexportflow=36562.1465937955, export_gas_cooler_duty=-17993.960583787964)\n",
            "Calculation successful. Results: ProcessOutput(mass_balance=-38.54778294428252, recompressor1_power=132.34868190019418, recompressor2_power=1072.725267246027, recompressor3_power=3718.911625450367, exportcompressor_power=7341.680928923281, gasexportflow=6.547640776836285, oilexportflow=36061.227355702504, export_gas_cooler_duty=-17763.445701701345)\n",
            "Calculation successful. Results: ProcessOutput(mass_balance=-38.47043779748492, recompressor1_power=130.40365508755715, recompressor2_power=1057.339196410769, recompressor3_power=3695.89652886113, exportcompressor_power=7242.022620541196, gasexportflow=6.456762836710831, oilexportflow=35560.30962001259, export_gas_cooler_duty=-17532.925850158663)\n",
            "Calculation successful. Results: ProcessOutput(mass_balance=-38.39075833559036, recompressor1_power=128.45999734892297, recompressor2_power=1041.9583921141448, recompressor3_power=3672.880565658649, exportcompressor_power=7142.363525821479, gasexportflow=6.3658841322357, oilexportflow=35059.39448493823, export_gas_cooler_duty=-17302.401103670592)\n",
            "Calculation successful. Results: ProcessOutput(mass_balance=-38.30967429978773, recompressor1_power=126.51774206019178, recompressor2_power=1026.5829885454189, recompressor3_power=3649.8637155579404, exportcompressor_power=7042.703619062872, gasexportflow=6.2750046450689485, oilexportflow=34558.482046105775, export_gas_cooler_duty=-17071.87134109317)\n",
            "Calculation successful. Results: ProcessOutput(mass_balance=-38.227180468151346, recompressor1_power=124.5769213194942, recompressor2_power=1011.2131209562223, recompressor3_power=3626.845955694751, exportcompressor_power=6943.042872203615, gasexportflow=6.184124354749927, oilexportflow=34057.57237247258, export_gas_cooler_duty=-16841.33643078816)\n",
            "Calculation successful. Results: ProcessOutput(mass_balance=-38.14324305043556, recompressor1_power=122.63756818690922, recompressor2_power=995.848929221606, recompressor3_power=3603.8272622180816, exportcompressor_power=6843.381255702058, gasexportflow=6.093243239931135, oilexportflow=33556.66553484552, export_gas_cooler_duty=-16610.796235549882)\n",
            "Calculation successful. Results: ProcessOutput(mass_balance=-38.05782664846629, recompressor1_power=120.6997169016029, recompressor2_power=980.4905583301345, recompressor3_power=3580.8076103800813, exportcompressor_power=6743.718738519013, gasexportflow=6.00236127843088, oilexportflow=33055.76160675599, export_gas_cooler_duty=-16380.250612683425)\n",
            "Calculation successful. Results: ProcessOutput(mass_balance=-37.970894309692085, recompressor1_power=118.76340282893182, recompressor2_power=965.1381584540483, recompressor3_power=3557.7869743927545, exportcompressor_power=6644.055287958979, gasexportflow=5.911478447122586, oilexportflow=32554.860664740427, export_gas_cooler_duty=-16149.699413450002)\n",
            "Calculation successful. Results: ProcessOutput(mass_balance=-1.1413578793872148, recompressor1_power=118.65753053762114, recompressor2_power=964.9742143065442, recompressor3_power=3557.704316308747, exportcompressor_power=6644.005665104248, gasexportflow=5.911416465981826, oilexportflow=32553.7366815543, export_gas_cooler_duty=-16149.450021005377)\n",
            "Calculation successful. Results: ProcessOutput(mass_balance=-0.03102658875286579, recompressor1_power=118.65488739461267, recompressor2_power=964.9701690850663, recompressor3_power=3557.702320121818, exportcompressor_power=6644.004489424316, gasexportflow=5.91141492433803, oilexportflow=32553.70194111766, export_gas_cooler_duty=-16149.443742786589)\n",
            "Calculation successful. Results: ProcessOutput(mass_balance=-0.0008525256998836994, recompressor1_power=118.65481508945142, recompressor2_power=964.9700585208316, recompressor3_power=3557.702265650042, exportcompressor_power=6644.004457388271, gasexportflow=5.911414882182111, oilexportflow=32553.700996255175, export_gas_cooler_duty=-16149.443571003267)\n",
            "Calculation successful. Results: ProcessOutput(mass_balance=-2.324744127690792e-05, recompressor1_power=118.65481309696797, recompressor2_power=964.9700554742166, recompressor3_power=3557.702264149146, exportcompressor_power=6644.004456505606, gasexportflow=5.911414881020488, oilexportflow=32553.70097028765, export_gas_cooler_duty=-16149.443566269572)\n",
            "Total calculation time: 88.06 seconds\n"
          ]
        }
      ]
    },
    {
      "cell_type": "code",
      "source": [
        "import matplotlib.pyplot as plt\n",
        "\n",
        "# Extract the 'standard flow rate' from each result if available\n",
        "flow_rates = []\n",
        "for result in results:\n",
        "    try:\n",
        "        # Navigate through the dictionary according to your structure\n",
        "        flow_rate = result['export gas']['properties']['gas']['standard flow rate']\n",
        "        flow_rates.append(float(flow_rate['value'])/1e6*24)\n",
        "    except KeyError:\n",
        "        # Handle the case where the key might not exist\n",
        "        flow_rates.append(None)  # Appending None or could use a placeholder like 0\n",
        "\n",
        "# Plotting the results\n",
        "plt.figure(figsize=(10, 5))  # Set the figure size as needed\n",
        "plt.plot(flow_rates, marker='o', linestyle='-', color='b')  # Customize the plot with markers and line style\n",
        "plt.title('Standard Flow Rate of Export Gas over Time [MSm3/day]')\n",
        "plt.xlabel('Index (i)')\n",
        "plt.ylabel('Standard Flow Rate')\n",
        "plt.grid(True)\n",
        "plt.show()"
      ],
      "metadata": {
        "colab": {
          "base_uri": "https://localhost:8080/",
          "height": 487
        },
        "id": "Qdyn-sC0STO0",
        "outputId": "822965fc-350d-4351-a346-5e0b7d5daf61"
      },
      "execution_count": 92,
      "outputs": [
        {
          "output_type": "display_data",
          "data": {
            "text/plain": [
              "<Figure size 1000x500 with 1 Axes>"
            ],
            "image/png": "[encoded data removed]"
          },
          "metadata": {}
        }
      ]
    },
    {
      "cell_type": "markdown",
      "metadata": {
        "id": "WA69Dti1G4Xq"
      },
      "source": [
        "# 4. Report results (ORF, etc.)"
      ]
    },
    {
      "cell_type": "code",
      "execution_count": 112,
      "metadata": {
        "colab": {
          "base_uri": "https://localhost:8080/"
        },
        "id": "ktYcvJOrG6og",
        "outputId": "21cf79f8-2641-404c-96ae-1f861375647b"
      },
      "outputs": [
        {
          "output_type": "stream",
          "name": "stdout",
          "text": [
            "ORF  nitrogen   8.566581810136758e-05\n",
            "ORF  CO2   0.01127952027741991\n",
            "ORF  methane   0.0012160066611811345\n",
            "ORF  ethane   0.04847045074430298\n",
            "ORF  propane   0.2270144897888624\n",
            "ORF  i-butane   0.43017520021871053\n",
            "ORF  n-butane   0.5179277643205474\n",
            "ORF  i-pentane   0.709302320198044\n",
            "ORF  n-pentane   0.7554650373053092\n",
            "ORF  n-hexane   0.889592335985279\n",
            "ORF  C7   0.9321553314329033\n",
            "ORF  C8   0.9677001848472195\n",
            "ORF  C9   0.9844861958517954\n",
            "ORF  C10-C12   0.9955898817442038\n",
            "ORF  C13-C14   0.998938112878278\n",
            "ORF  C15-C16   0.9997559535976701\n",
            "ORF  C17-C19   0.9999560877355309\n",
            "ORF  C20-C22   0.9999930206698331\n",
            "ORF  C23-C25   0.999998756892628\n",
            "ORF  C26-C28   0.9999997829200027\n",
            "ORF  C29-C33   0.9999999710326746\n",
            "ORF  C34-C80    0.9999999999408283\n"
          ]
        }
      ],
      "source": [
        "#Recovery factors\n",
        "RF = []\n",
        "componentNames = oilprocess.getUnit('export oil').getFluid().getComponentNames()\n",
        "for name in componentNames:\n",
        "    total = oilprocess.getUnit('export oil').getFluid().getComponent(name).getTotalFlowRate('kg/hr') + oilprocess.getUnit('export gas').getFluid().getComponent(name).getTotalFlowRate('kg/hr')\n",
        "    ORF = oilprocess.getUnit('export oil').getFluid().getComponent(name).getTotalFlowRate('kg/hr')/total\n",
        "    print('ORF ', name, ' ', ORF)"
      ]
    },
    {
      "cell_type": "markdown",
      "metadata": {
        "id": "uvHVHG2eaOfr"
      },
      "source": [
        "# 5. Gas Composition"
      ]
    },
    {
      "cell_type": "code",
      "source": [
        "json_object['export gas']['composition']['gas']"
      ],
      "metadata": {
        "colab": {
          "base_uri": "https://localhost:8080/"
        },
        "id": "uBpEN6viiMUw",
        "outputId": "02750686-fbd8-4229-a8b8-8bca543e04a0"
      },
      "execution_count": 113,
      "outputs": [
        {
          "output_type": "execute_result",
          "data": {
            "text/plain": [
              "{'C10-C12': {'value': '3.0022441441741876E-4', 'unit': 'mole fraction'},\n",
              " 'C26-C28': {'value': '5.514163469832291E-9', 'unit': 'mole fraction'},\n",
              " 'n-hexane': {'value': '0.0019468268626297203', 'unit': 'mole fraction'},\n",
              " 'nitrogen': {'value': '0.0053524398728711405', 'unit': 'mole fraction'},\n",
              " 'CO2': {'value': '0.015240086485964172', 'unit': 'mole fraction'},\n",
              " 'propane': {'value': '0.03144545922089588', 'unit': 'mole fraction'},\n",
              " 'i-pentane': {'value': '0.0024975660053455245', 'unit': 'mole fraction'},\n",
              " 'n-pentane': {'value': '0.002951600866464099', 'unit': 'mole fraction'},\n",
              " 'C23-C25': {'value': '4.024409693084352E-8', 'unit': 'mole fraction'},\n",
              " 'C29-C33': {'value': '8.23985197069747E-10', 'unit': 'mole fraction'},\n",
              " 'n-butane': {'value': '0.010033527858733472', 'unit': 'mole fraction'},\n",
              " 'i-butane': {'value': '0.0046308575319705956', 'unit': 'mole fraction'},\n",
              " 'C34-C80 ': {'value': '1.0362813893097826E-12', 'unit': 'mole fraction'},\n",
              " 'ethane': {'value': '0.06547568512895545', 'unit': 'mole fraction'},\n",
              " 'C7': {'value': '0.0022909952188548406', 'unit': 'mole fraction'},\n",
              " 'C8': {'value': '0.0012456862576257395', 'unit': 'mole fraction'},\n",
              " 'C9': {'value': '4.28734063898015E-4', 'unit': 'mole fraction'},\n",
              " 'methane': {'value': '0.856100691082045', 'unit': 'mole fraction'},\n",
              " 'C20-C22': {'value': '2.7973688635562596E-7', 'unit': 'mole fraction'},\n",
              " 'C17-C19': {'value': '2.1741867342142136E-6', 'unit': 'mole fraction'},\n",
              " 'C13-C14': {'value': '4.7735915406688E-5', 'unit': 'mole fraction'},\n",
              " 'C15-C16': {'value': '9.382707019517541E-6', 'unit': 'mole fraction'}}"
            ]
          },
          "metadata": {},
          "execution_count": 113
        }
      ]
    },
    {
      "cell_type": "code",
      "execution_count": 114,
      "metadata": {
        "colab": {
          "base_uri": "https://localhost:8080/"
        },
        "id": "bQfEg7tUaeso",
        "outputId": "62089003-7423-465f-a051-90f3efaa164d"
      },
      "outputs": [
        {
          "output_type": "execute_result",
          "data": {
            "text/plain": [
              "{'gas': {'relative density': {'value': '6.839493574231442E-4', 'unit': '[-]'},\n",
              "  'molar mass': {'value': '0.01976824489094464', 'unit': 'kg/mol'},\n",
              "  'WI': {'value': '52.63413356779045', 'unit': 'MJ/Sm3 @15C,15C'},\n",
              "  'density': {'value': '112.05604707887231', 'unit': 'kg/m3'},\n",
              "  'standard flow rate': {'value': '246308.95337585374', 'unit': 'Sm3/hr'},\n",
              "  'GCV': {'value': '43.52907627637626', 'unit': 'MJ/Sm3 @15C,15C'},\n",
              "  'flow rate': {'value': '1837.709429331108', 'unit': 'm3/hr'}},\n",
              " 'export gas': {'molar mass': {'value': '0.01976824489094464',\n",
              "   'unit': 'kg/mol'},\n",
              "  'density': {'value': '112.05604707887231', 'unit': 'kg/m3'},\n",
              "  'flow rate': {'value': '1837.7094293311081', 'unit': 'm3/hr'}}}"
            ]
          },
          "metadata": {},
          "execution_count": 114
        }
      ],
      "source": [
        "json_object['export gas']['properties']"
      ]
    },
    {
      "cell_type": "code",
      "source": [
        "json_object['export gas']['conditions']"
      ],
      "metadata": {
        "colab": {
          "base_uri": "https://localhost:8080/"
        },
        "id": "RKspBJ_EkeJb",
        "outputId": "19934786-b6af-46f9-c9d2-415c54c22bf6"
      },
      "execution_count": 115,
      "outputs": [
        {
          "output_type": "execute_result",
          "data": {
            "text/plain": [
              "{'gas': {'temperature': {'value': '55.0', 'unit': 'C'},\n",
              "  'mass flow': {'value': '205926.4543304142', 'unit': 'kg/hr'},\n",
              "  'fluid model': {'value': 'PR78-EoS', 'unit': ''},\n",
              "  'pressure': {'value': '126.49999999999977', 'unit': 'bara'},\n",
              "  'molar flow': {'value': '1.0417032744507542E7', 'unit': 'mole/hr'},\n",
              "  'enthalpy': {'value': '-20328.95548608208', 'unit': 'J/kg'}},\n",
              " 'export gas': {'temperature': {'value': '55.0', 'unit': 'C'},\n",
              "  'mass flow': {'value': '205926.4543304142', 'unit': 'kg/hr'},\n",
              "  'fluid model': {'value': 'PR78-EoS', 'unit': ''},\n",
              "  'pressure': {'value': '126.49999999999977', 'unit': 'bara'},\n",
              "  'molar flow': {'value': '1.0417032744507542E7', 'unit': 'mole/hr'},\n",
              "  'enthalpy': {'value': '-20328.95548608208', 'unit': 'J/kg'}}}"
            ]
          },
          "metadata": {},
          "execution_count": 115
        }
      ]
    },
    {
      "cell_type": "code",
      "execution_count": 116,
      "metadata": {
        "colab": {
          "base_uri": "https://localhost:8080/"
        },
        "id": "ivGvn0rDbqFl",
        "outputId": "b34a5cd4-c60f-408e-ef5f-be5d19c0929f"
      },
      "outputs": [
        {
          "output_type": "execute_result",
          "data": {
            "text/plain": [
              "{'oil': {'relative density': {'value': '0.845895096176311', 'unit': '-'},\n",
              "  'molar mass': {'value': '0.2103029692109486', 'unit': 'kg/mol'},\n",
              "  'density': {'value': '845.895096176311', 'unit': 'kg/m3'},\n",
              "  'flow rate': {'value': '1293.3915217600384', 'unit': 'm3/hr'},\n",
              "  'RVP': {'value': '0.4469108143439132', 'unit': 'bara'},\n",
              "  'TVP': {'value': '1.2014143109464377', 'unit': 'bara'}},\n",
              " 'export oil': {'molar mass': {'value': '0.2103029692109486',\n",
              "   'unit': 'kg/mol'},\n",
              "  'density': {'value': '845.895096176311', 'unit': 'kg/m3'},\n",
              "  'flow rate': {'value': '1293.3915217600384', 'unit': 'm3/hr'}}}"
            ]
          },
          "metadata": {},
          "execution_count": 116
        }
      ],
      "source": [
        "json_object['export oil']['properties']"
      ]
    }
  ],
  "metadata": {
    "colab": {
      "provenance": [],
      "collapsed_sections": [
        "PclmuPW3RlX4"
      ],
      "authorship_tag": "ABX9TyMNdoY05Ypf8iYT+eWmOvTC",
      "include_colab_link": true
    },
    "kernelspec": {
      "display_name": "Python 3",
      "name": "python3"
    },
    "language_info": {
      "name": "python"
    }
  },
  "nbformat": 4,
  "nbformat_minor": 0
}