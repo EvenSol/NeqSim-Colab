{
  "nbformat": 4,
  "nbformat_minor": 0,
  "metadata": {
    "colab": {
      "name": "distillationoilgas.ipynb",
      "provenance": [],
      "authorship_tag": "ABX9TyOnyCYAPuj5NGwbQwmD+Zk7",
      "include_colab_link": true
    },
    "kernelspec": {
      "name": "python3",
      "display_name": "Python 3"
    }
  },
  "cells": [
    {
      "cell_type": "markdown",
      "metadata": {
        "id": "view-in-github",
        "colab_type": "text"
      },
      "source": [
        "<a href=\"https://colab.research.google.com/github/EvenSol/NeqSim-Colab/blob/master/notebooks/process/distillationoilgas.ipynb\" target=\"_parent\"><img src=\"https://colab.research.google.com/assets/colab-badge.svg\" alt=\"Open In Colab\"/></a>"
      ]
    },
    {
      "cell_type": "code",
      "metadata": {
        "id": "aK1BA7a0Nnn8",
        "cellView": "form"
      },
      "source": [
        "#@title Distillation\n",
        "#@markdown Introduction to distillation in oil and gas processing\n",
        "%%capture\n",
        "!pip install neqsim==2.5.35\n",
        "import neqsim\n",
        "from neqsim.thermo.thermoTools import *\n",
        "import matplotlib\n",
        "import numpy as np\n",
        "import matplotlib.pyplot as plt\n",
        "import math\n",
        "%matplotlib inline"
      ],
      "execution_count": 1,
      "outputs": []
    },
    {
      "cell_type": "code",
      "metadata": {
        "colab": {
          "base_uri": "https://localhost:8080/",
          "height": 421
        },
        "cellView": "form",
        "id": "yEiYFv25NvcH",
        "outputId": "470349ef-6bab-4db7-fae7-98e2bf062fcb"
      },
      "source": [
        "#@title  Oil and gas distillation\n",
        "#@markdown Introduction to Oil and gas distillation\n",
        "from IPython.display import YouTubeVideo\n",
        "YouTubeVideo('gYnGgre83CI', width=600, height=400)"
      ],
      "execution_count": 2,
      "outputs": [
        {
          "output_type": "execute_result",
          "data": {
            "text/plain": [
              "<IPython.lib.display.YouTubeVideo at 0x7e392ba13ca0>"
            ],
            "text/html": [
              "\n",
              "        <iframe\n",
              "            width=\"600\"\n",
              "            height=\"400\"\n",
              "            src=\"https://www.youtube.com/embed/gYnGgre83CI\"\n",
              "            frameborder=\"0\"\n",
              "            allowfullscreen\n",
              "            \n",
              "        ></iframe>\n",
              "        "
            ],
            "image/jpeg": "[encoded data removed]"
          },
          "metadata": {},
          "execution_count": 2
        }
      ]
    },
    {
      "cell_type": "markdown",
      "metadata": {
        "id": "lvWBiczTPCjx"
      },
      "source": [
        "#Simulation of a distillation process using NeqSim\n",
        "In the following example we will illustrate the distillation of a water-ethanol mixture using NeqSim."
      ]
    },
    {
      "cell_type": "code",
      "metadata": {
        "colab": {
          "base_uri": "https://localhost:8080/"
        },
        "id": "EdsWV_qpPRNX",
        "outputId": "b120066e-eb39-4124-e1ac-b07a7522e01f"
      },
      "source": [
        "from neqsim.thermo import fluid\n",
        "from neqsim.process import clearProcess, stream, runProcess, valve\n",
        "from neqsim.thermo.thermoTools import *\n",
        "import pandas as pd\n",
        "# Create a gas-condensate fluid\n",
        "wateretoh = {'ComponentName':  ['methane', 'water', \"MEG\"],\n",
        "        'MolarComposition[-]':  [0.02, 0.48, 0.5]\n",
        "}\n",
        "\n",
        "gascondensatedf = pd.DataFrame(wateretoh)\n",
        "print(\"Fluid:\\n\")\n",
        "print(gascondensatedf.head(30).to_string())\n",
        "aqueousFluid = fluid_df(gascondensatedf, lastIsPlusFraction=False).autoSelectModel()"
      ],
      "execution_count": 3,
      "outputs": [
        {
          "output_type": "stream",
          "name": "stdout",
          "text": [
            "Fluid:\n",
            "\n",
            "  ComponentName  MolarComposition[-]\n",
            "0       methane                 0.02\n",
            "1         water                 0.48\n",
            "2           MEG                 0.50\n"
          ]
        }
      ]
    },
    {
      "cell_type": "code",
      "metadata": {
        "colab": {
          "base_uri": "https://localhost:8080/"
        },
        "id": "BpzIgAP5QXUw",
        "outputId": "a056c78a-c215-48d8-ee5b-988dfc18239e"
      },
      "source": [
        "feedStream = stream(aqueousFluid)\n",
        "feedStream.setFlowRate(1000.0, 'kg/day')\n",
        "feedStream.setPressure(1.1, 'bara')\n",
        "feedStream.setTemperature(90.0, 'C')\n",
        "feedStream.run()\n",
        "printFrame(feedStream.getFluid())"
      ],
      "execution_count": 4,
      "outputs": [
        {
          "output_type": "stream",
          "name": "stdout",
          "text": [
            "| 0                  | 1          | 2                    | 3                    | 4   | 5   | 6               |\n",
            "|:-------------------|:-----------|:---------------------|:---------------------|:----|:----|:----------------|\n",
            "|                    | total      | GAS                  | AQUEOUS              |     |     |                 |\n",
            "| methane            | 2E-2       | 6.95071E-1           | 5.7603E-5            |     |     | [mole fraction] |\n",
            "| water              | 4.8E-1     | 2.98837E-1           | 4.85352E-1           |     |     | [mole fraction] |\n",
            "| MEG                | 5E-1       | 6.09211E-3           | 5.14591E-1           |     |     | [mole fraction] |\n",
            "|                    |            |                      |                      |     |     |                 |\n",
            "| Density            |            | 6.18831E-1           | 1.04319E3            |     |     | [kg/m^3]        |\n",
            "| PhaseFraction      |            | 2.86935E-2           | 9.71306E-1           |     |     | [mole fraction] |\n",
            "| MolarMass          | 4.00026E1  | 1.69127E1            | 4.06847E1            |     |     | [kg/kmol]       |\n",
            "| Z factor           |            | 9.95663E-1           | 1.46202E-3           |     |     | [-]             |\n",
            "| Heat Capacity (Cp) |            | 2.30568E0            | 3.21694E0            |     |     | [kJ/kg*K]       |\n",
            "| Heat Capacity (Cv) |            | 1.7914E0             | 2.924E0              |     |     | [kJ/kg*K]       |\n",
            "| Speed of Sound     |            | 4.7728E2             | 1.47144E3            |     |     | [m/sec]         |\n",
            "| Enthalpy           | -1.11578E3 | 1.87568E2            | -1.13179E3           |     |     | [kJ/kg]         |\n",
            "| Entropy            | -2.37098E0 | 8.73127E-1           | -2.41082E0           |     |     | [kJ/kg*K]       |\n",
            "| JT coefficient     |            | 1.90948E0            | -2.35333E-2          |     |     | [K/bar]         |\n",
            "|                    |            |                      |                      |     |     |                 |\n",
            "| Viscosity          |            | 1.23853E-5           | 1.58859E-3           |     |     | [kg/m*sec]      |\n",
            "| Conductivity       |            | 3.86447E-2           | 3.31888E-1           |     |     | [W/m*K]         |\n",
            "| SurfaceTension     |            | 4.9543E-2            | 4.9543E-2            |     |     | [N/m]           |\n",
            "|                    |            |                      |                      |     |     |                 |\n",
            "|                    |            |                      |                      |     |     |                 |\n",
            "|                    |            |                      |                      |     |     |                 |\n",
            "| Pressure           |            | 1.1                  | 1.1                  |     |     | [bar]           |\n",
            "| Temperature        |            | 363.15               | 363.15               |     |     | [K]             |\n",
            "|                    |            |                      |                      |     |     |                 |\n",
            "| Model              |            | CPAs-SRK-EOS-statoil | CPAs-SRK-EOS-statoil |     |     | -               |\n",
            "| Mixing Rule        |            | classic-CPA_Tx       | classic-CPA_Tx       |     |     | -               |\n",
            "|                    |            |                      |                      |     |     |                 |\n",
            "| Stream             |            |                      |                      |     |     | -               |\n",
            "|                    |            |                      |                      |     |     |                 |\n",
            "|                    |            |                      |                      |     |     |                 |\n",
            "|                    |            |                      |                      |     |     |                 |\n",
            "|                    |            |                      |                      |     |     |                 |\n"
          ]
        }
      ]
    },
    {
      "cell_type": "markdown",
      "source": [
        "# Simulation of a de-ethanizer"
      ],
      "metadata": {
        "id": "8GYzjET65u0t"
      }
    },
    {
      "cell_type": "code",
      "source": [
        "import neqsim\n",
        "from neqsim.thermo.thermoTools import *\n",
        "\n",
        "from neqsim.process import stream, heater, distillationColumn"
      ],
      "metadata": {
        "id": "fp7dedeO6Duu"
      },
      "execution_count": 15,
      "outputs": []
    },
    {
      "cell_type": "code",
      "source": [
        "#Feed gas\n",
        "fluidcomposition = {'ComponentName':  [\"methane\", \"ethane\", \"propane\", \"i-butane\", \"n-butane\", \"i-pentane\", \"n-pentane\", \"n-octane\"],\n",
        "      'MolarComposition[-]':  [24.423, 38.0634, 14.8, 14.9, 6.7896, 1.6, 2.8, 3.8],\n",
        "  }\n",
        "fluidcompositiondf = pd.DataFrame(fluidcomposition)\n",
        "fluid1 = fluid_df(fluidcompositiondf, lastIsPlusFraction=False)\n",
        "fluid1.setMixingRule('classic')\n",
        "\n",
        "clearProcess()\n",
        "\n",
        "streamfeed = stream(fluid1)\n",
        "\n",
        "inletheater = heater(streamfeed)\n",
        "inletheater.setOutPressure(31.0, 'bara')\n",
        "inletheater.setOutTemperature(-25.0, 'C')\n",
        "\n",
        "#FRACTIONATION PROCESS\n",
        "deethanizer = distillationColumn(trays=5, reboil=True, condenser=False, name=\"deethanizer\")\n",
        "deethanizer.addFeedStream(inletheater.getOutStream(),5)\n",
        "deethanizer.getReboiler().setOutTemperature(273.15+120.0)\n",
        "deethanizer.setTopPressure(30.0)\n",
        "deethanizer.setBottomPressure(32.0)\n",
        "\n",
        "runProcess()\n",
        "\n",
        "printFrame(inletheater.getOutStream().getFluid())\n",
        "\n",
        "printFrame(deethanizer.getGasOutStream().getFluid())\n",
        "\n",
        "printFrame(deethanizer.getLiquidOutStream().getFluid())"
      ],
      "metadata": {
        "id": "GtQzQoAF6E_e",
        "outputId": "622a6cca-facc-4c35-ff04-01bb9d581dcc",
        "colab": {
          "base_uri": "https://localhost:8080/"
        }
      },
      "execution_count": 30,
      "outputs": [
        {
          "output_type": "stream",
          "name": "stdout",
          "text": [
            "| 0                  | 1          | 2                  | 3                  | 4   | 5   | 6               |\n",
            "|:-------------------|:-----------|:-------------------|:-------------------|:----|:----|:----------------|\n",
            "|                    | total      | GAS                | OIL                |     |     |                 |\n",
            "| methane            | 2.27878E-1 | 7.79532E-1         | 2.11782E-1         |     |     | [mole fraction] |\n",
            "| ethane             | 3.55149E-1 | 1.92009E-1         | 3.59909E-1         |     |     | [mole fraction] |\n",
            "| propane            | 1.38091E-1 | 1.86754E-2         | 1.41575E-1         |     |     | [mole fraction] |\n",
            "| i-butane           | 1.39024E-1 | 7.18468E-3         | 1.4287E-1          |     |     | [mole fraction] |\n",
            "| n-butane           | 6.335E-2   | 2.16517E-3         | 6.51352E-2         |     |     | [mole fraction] |\n",
            "| i-pentane          | 1.49287E-2 | 1.8879E-4          | 1.53588E-2         |     |     | [mole fraction] |\n",
            "| n-pentane          | 2.61253E-2 | 2.38644E-4         | 2.68806E-2         |     |     | [mole fraction] |\n",
            "| n-octane           | 3.54557E-2 | 6.30052E-6         | 3.649E-2           |     |     | [mole fraction] |\n",
            "|                    |            |                    |                    |     |     |                 |\n",
            "| Density            |            | 3.60057E1          | 5.20341E2          |     |     | [kg/m^3]        |\n",
            "| PhaseFraction      |            | 2.83503E-2         | 9.7165E-1          |     |     | [mole fraction] |\n",
            "| MolarMass          | 3.91993E1  | 1.96783E1          | 3.97689E1          |     |     | [kg/kmol]       |\n",
            "| Z factor           |            | 8.24817E-1         | 1.22622E-1         |     |     | [-]             |\n",
            "| Heat Capacity (Cp) |            | 2.45655E0          | 2.53858E0          |     |     | [kJ/kg*K]       |\n",
            "| Heat Capacity (Cv) |            | 1.53562E0          | 1.70051E0          |     |     | [kJ/kg*K]       |\n",
            "| Speed of Sound     |            | 3.34367E2          | 7.41936E2          |     |     | [m/sec]         |\n",
            "| Enthalpy           | -4.31224E2 | -1.09121E2         | -4.35874E2         |     |     | [kJ/kg]         |\n",
            "| Entropy            | -1.70206E0 | -1.53624E0         | -1.70445E0         |     |     | [kJ/kg*K]       |\n",
            "| JT coefficient     |            | 9.13606E-1         | -2.01521E-2        |     |     | [K/bar]         |\n",
            "|                    |            |                    |                    |     |     |                 |\n",
            "| Viscosity          |            | 1.0133E-5          | 1.22905E-4         |     |     | [kg/m*sec]      |\n",
            "| Conductivity       |            | 2.95472E-2         | 1.06875E-1         |     |     | [W/m*K]         |\n",
            "| SurfaceTension     |            | 2.14977E-2         | 2.14977E-2         |     |     | [N/m]           |\n",
            "|                    |            |                    |                    |     |     |                 |\n",
            "|                    |            |                    |                    |     |     |                 |\n",
            "|                    |            |                    |                    |     |     |                 |\n",
            "| Pressure           |            | 31.0               | 31.0               |     |     | [bar]           |\n",
            "| Temperature        |            | 247.60033817864993 | 247.60033817864993 |     |     | [K]             |\n",
            "|                    |            |                    |                    |     |     |                 |\n",
            "| Model              |            | SRK-EOS            | SRK-EOS            |     |     | -               |\n",
            "| Mixing Rule        |            | classic            | classic            |     |     | -               |\n",
            "|                    |            |                    |                    |     |     |                 |\n",
            "| Stream             |            |                    |                    |     |     | -               |\n",
            "|                    |            |                    |                    |     |     |                 |\n",
            "|                    |            |                    |                    |     |     |                 |\n",
            "|                    |            |                    |                    |     |     |                 |\n",
            "|                    |            |                    |                    |     |     |                 |\n",
            "| 0                  | 1          | 2                 | 3   | 4   | 5   | 6               |\n",
            "|:-------------------|:-----------|:------------------|:----|:----|:----|:----------------|\n",
            "|                    | total      | GAS               |     |     |     |                 |\n",
            "| methane            | 5.28973E-1 | 5.28973E-1        |     |     |     | [mole fraction] |\n",
            "| ethane             | 4.08414E-1 | 4.08414E-1        |     |     |     | [mole fraction] |\n",
            "| propane            | 3.99704E-2 | 3.99704E-2        |     |     |     | [mole fraction] |\n",
            "| i-butane           | 1.62102E-2 | 1.62102E-2        |     |     |     | [mole fraction] |\n",
            "| n-butane           | 5.19458E-3 | 5.19458E-3        |     |     |     | [mole fraction] |\n",
            "| i-pentane          | 5.14621E-4 | 5.14621E-4        |     |     |     | [mole fraction] |\n",
            "| n-pentane          | 6.89377E-4 | 6.89377E-4        |     |     |     | [mole fraction] |\n",
            "| n-octane           | 3.3572E-5  | 3.3572E-5         |     |     |     | [mole fraction] |\n",
            "|                    |            |                   |     |     |     |                 |\n",
            "| Density            |            | 3.92757E1         |     |     |     | [kg/m^3]        |\n",
            "| PhaseFraction      |            | 1E0               |     |     |     | [mole fraction] |\n",
            "| MolarMass          | 2.38647E1  | 2.38647E1         |     |     |     | [kg/kmol]       |\n",
            "| Z factor           |            | 8.05465E-1        |     |     |     | [-]             |\n",
            "| Heat Capacity (Cp) |            | 2.35376E0         |     |     |     | [kJ/kg*K]       |\n",
            "| Heat Capacity (Cv) |            | 1.52309E0         |     |     |     | [kJ/kg*K]       |\n",
            "| Speed of Sound     |            | 3.04578E2         |     |     |     | [m/sec]         |\n",
            "| Enthalpy           | -6.00624E1 | -6.00624E1        |     |     |     | [kJ/kg]         |\n",
            "| Entropy            | -1.01097E0 | -1.01097E0        |     |     |     | [kJ/kg*K]       |\n",
            "| JT coefficient     |            | 1.02387E0         |     |     |     | [K/bar]         |\n",
            "|                    |            |                   |     |     |     |                 |\n",
            "| Viscosity          |            | 1.06326E-5        |     |     |     | [kg/m*sec]      |\n",
            "| Conductivity       |            | 2.89951E-2        |     |     |     | [W/m*K]         |\n",
            "| SurfaceTension     |            |                   |     |     |     | [N/m]           |\n",
            "|                    |            |                   |     |     |     |                 |\n",
            "|                    |            |                   |     |     |     |                 |\n",
            "|                    |            |                   |     |     |     |                 |\n",
            "| Pressure           |            | 30.0              |     |     |     | [bar]           |\n",
            "| Temperature        |            | 273.0112464956056 |     |     |     | [K]             |\n",
            "|                    |            |                   |     |     |     |                 |\n",
            "| Model              |            | SRK-EOS           |     |     |     | -               |\n",
            "| Mixing Rule        |            | classic           |     |     |     | -               |\n",
            "|                    |            |                   |     |     |     |                 |\n",
            "| Stream             |            |                   |     |     |     | -               |\n",
            "|                    |            |                   |     |     |     |                 |\n",
            "|                    |            |                   |     |     |     |                 |\n",
            "|                    |            |                   |     |     |     |                 |\n",
            "|                    |            |                   |     |     |     |                 |\n",
            "| 0                  | 1           | 2           | 3   | 4   | 5   | 6               |\n",
            "|:-------------------|:------------|:------------|:----|:----|:----|:----------------|\n",
            "|                    | total       | GAS         |     |     |     |                 |\n",
            "| methane            | 2.38686E-3  | 2.38686E-3  |     |     |     | [mole fraction] |\n",
            "| ethane             | 1.37299E-1  | 1.37299E-1  |     |     |     | [mole fraction] |\n",
            "| propane            | 1.91541E-1  | 1.91541E-1  |     |     |     | [mole fraction] |\n",
            "| i-butane           | 2.98239E-1  | 2.98239E-1  |     |     |     | [mole fraction] |\n",
            "| n-butane           | 1.49609E-1  | 1.49609E-1  |     |     |     | [mole fraction] |\n",
            "| i-pentane          | 4.11329E-2  | 4.11329E-2  |     |     |     | [mole fraction] |\n",
            "| n-pentane          | 7.35505E-2  | 7.35505E-2  |     |     |     | [mole fraction] |\n",
            "| n-octane           | 1.06241E-1  | 1.06241E-1  |     |     |     | [mole fraction] |\n",
            "|                    |             |             |     |     |     |                 |\n",
            "| Density            |             | 4.10058E2   |     |     |     | [kg/m^3]        |\n",
            "| PhaseFraction      |             | 1E0         |     |     |     | [mole fraction] |\n",
            "| MolarMass          | 5.90541E1   | 5.90541E1   |     |     |     | [kg/kmol]       |\n",
            "| Z factor           |             | 1.54007E-1  |     |     |     | [-]             |\n",
            "| Heat Capacity (Cp) |             | 3.45068E0   |     |     |     | [kJ/kg*K]       |\n",
            "| Heat Capacity (Cv) |             | 2.13132E0   |     |     |     | [kJ/kg*K]       |\n",
            "| Speed of Sound     |             | 3.54506E2   |     |     |     | [m/sec]         |\n",
            "| Enthalpy           | -8.0757E1   | -8.0757E1   |     |     |     | [kJ/kg]         |\n",
            "| Entropy            | -2.55313E-1 | -2.55313E-1 |     |     |     | [kJ/kg*K]       |\n",
            "| JT coefficient     |             | 1.16765E-1  |     |     |     | [K/bar]         |\n",
            "|                    |             |             |     |     |     |                 |\n",
            "| Viscosity          |             | 6.5733E-5   |     |     |     | [kg/m*sec]      |\n",
            "| Conductivity       |             | 6.78174E-2  |     |     |     | [W/m*K]         |\n",
            "| SurfaceTension     |             |             |     |     |     | [N/m]           |\n",
            "|                    |             |             |     |     |     |                 |\n",
            "|                    |             |             |     |     |     |                 |\n",
            "|                    |             |             |     |     |     |                 |\n",
            "| Pressure           |             | 32.0        |     |     |     | [bar]           |\n",
            "| Temperature        |             | 383.15      |     |     |     | [K]             |\n",
            "|                    |             |             |     |     |     |                 |\n",
            "| Model              |             | SRK-EOS     |     |     |     | -               |\n",
            "| Mixing Rule        |             | classic     |     |     |     | -               |\n",
            "|                    |             |             |     |     |     |                 |\n",
            "| Stream             |             |             |     |     |     | -               |\n",
            "|                    |             |             |     |     |     |                 |\n",
            "|                    |             |             |     |     |     |                 |\n",
            "|                    |             |             |     |     |     |                 |\n",
            "|                    |             |             |     |     |     |                 |\n"
          ]
        }
      ]
    },
    {
      "cell_type": "markdown",
      "source": [
        "#Simulation of a de-butanizer"
      ],
      "metadata": {
        "id": "cY0t_0lB-d7D"
      }
    },
    {
      "cell_type": "code",
      "source": [
        "clearProcess()\n",
        "valvetodebutanizer = valve(deethanizer.getLiquidOutStream())\n",
        "valvetodebutanizer.setOutletPressure(14.0)\n",
        "\n",
        "debutanizer = distillationColumn(trays=10, reboil=True, condenser=True, name=\"debutanizer\")\n",
        "debutanizer.addFeedStream(valvetodebutanizer.getOutStream(),9)\n",
        "debutanizer.getCondenser().setRefluxRatio(0.1)\n",
        "debutanizer.getCondenser().setTotalCondenser(True)\n",
        "debutanizer.getReboiler().setOutTemperature(273.15+203.0);\n",
        "debutanizer.setTopPressure(12.8)\n",
        "debutanizer.setBottomPressure(15.0)\n",
        "\n",
        "runProcess()\n",
        "\n"
      ],
      "metadata": {
        "id": "0644jIj_7K1l"
      },
      "execution_count": 33,
      "outputs": []
    },
    {
      "cell_type": "code",
      "source": [
        "#debutanizer results\n",
        "print('LPG from top debutanizer ')\n",
        "printFrame(debutanizer.getGasOutStream().getFluid())\n",
        "print('C5+ from bottom debutanizer ')\n",
        "printFrame(debutanizer.getLiquidOutStream().getFluid())"
      ],
      "metadata": {
        "id": "AV3EUzx0-_zO",
        "outputId": "831b9054-4ee9-4ef0-ab87-ece145e738de",
        "colab": {
          "base_uri": "https://localhost:8080/"
        }
      },
      "execution_count": 34,
      "outputs": [
        {
          "output_type": "stream",
          "name": "stdout",
          "text": [
            "LPG from top debutanizer \n",
            "| 0                  | 1          | 2                 | 3   | 4   | 5   | 6               |\n",
            "|:-------------------|:-----------|:------------------|:----|:----|:----|:----------------|\n",
            "|                    | total      | OIL               |     |     |     |                 |\n",
            "| methane            | 2.22482E-3 | 2.22482E-3        |     |     |     | [mole fraction] |\n",
            "| ethane             | 1.53336E-1 | 1.53336E-1        |     |     |     | [mole fraction] |\n",
            "| propane            | 2.66989E-1 | 2.66989E-1        |     |     |     | [mole fraction] |\n",
            "| i-butane           | 3.56216E-1 | 3.56216E-1        |     |     |     | [mole fraction] |\n",
            "| n-butane           | 1.55481E-1 | 1.55481E-1        |     |     |     | [mole fraction] |\n",
            "| i-pentane          | 2.50394E-2 | 2.50394E-2        |     |     |     | [mole fraction] |\n",
            "| n-pentane          | 3.79316E-2 | 3.79316E-2        |     |     |     | [mole fraction] |\n",
            "| n-octane           | 2.78278E-3 | 2.78278E-3        |     |     |     | [mole fraction] |\n",
            "|                    |            |                   |     |     |     |                 |\n",
            "| Density            |            | 4.93479E2         |     |     |     | [kg/m^3]        |\n",
            "| PhaseFraction      |            | 1E0               |     |     |     | [mole fraction] |\n",
            "| MolarMass          | 5.10225E1  | 5.10225E1         |     |     |     | [kg/kmol]       |\n",
            "| Z factor           |            | 5.49229E-2        |     |     |     | [-]             |\n",
            "| Heat Capacity (Cp) |            | 2.7954E0          |     |     |     | [kJ/kg*K]       |\n",
            "| Heat Capacity (Cv) |            | 1.87323E0         |     |     |     | [kJ/kg*K]       |\n",
            "| Speed of Sound     |            | 5.34529E2         |     |     |     | [m/sec]         |\n",
            "| Enthalpy           | -2.77827E2 | -2.77827E2        |     |     |     | [kJ/kg]         |\n",
            "| Entropy            | -9.44E-1   | -9.44E-1          |     |     |     | [kJ/kg*K]       |\n",
            "| JT coefficient     |            | 1.75135E-2        |     |     |     | [K/bar]         |\n",
            "|                    |            |                   |     |     |     |                 |\n",
            "| Viscosity          |            | 9.6147E-5         |     |     |     | [kg/m*sec]      |\n",
            "| Conductivity       |            | 8.33294E-2        |     |     |     | [W/m*K]         |\n",
            "| SurfaceTension     |            |                   |     |     |     | [N/m]           |\n",
            "|                    |            |                   |     |     |     |                 |\n",
            "|                    |            |                   |     |     |     |                 |\n",
            "|                    |            |                   |     |     |     |                 |\n",
            "| Pressure           |            | 13.0              |     |     |     | [bar]           |\n",
            "| Temperature        |            | 312.7687086910361 |     |     |     | [K]             |\n",
            "|                    |            |                   |     |     |     |                 |\n",
            "| Model              |            | SRK-EOS           |     |     |     | -               |\n",
            "| Mixing Rule        |            | classic           |     |     |     | -               |\n",
            "|                    |            |                   |     |     |     |                 |\n",
            "| Stream             |            |                   |     |     |     | -               |\n",
            "|                    |            |                   |     |     |     |                 |\n",
            "|                    |            |                   |     |     |     |                 |\n",
            "|                    |            |                   |     |     |     |                 |\n",
            "|                    |            |                   |     |     |     |                 |\n",
            "C5+ from bottom debutanizer \n",
            "| 0                  | 1          | 2          | 3   | 4   | 5   | 6               |\n",
            "|:-------------------|:-----------|:-----------|:----|:----|:----|:----------------|\n",
            "|                    | total      | OIL        |     |     |     |                 |\n",
            "| methane            | 5.58161E-9 | 5.58161E-9 |     |     |     | [mole fraction] |\n",
            "| ethane             | 7.02421E-5 | 7.02421E-5 |     |     |     | [mole fraction] |\n",
            "| propane            | 4.00135E-3 | 4.00135E-3 |     |     |     | [mole fraction] |\n",
            "| i-butane           | 5.43251E-2 | 5.43251E-2 |     |     |     | [mole fraction] |\n",
            "| n-butane           | 5.00123E-2 | 5.00123E-2 |     |     |     | [mole fraction] |\n",
            "| i-pentane          | 5.20954E-2 | 5.20954E-2 |     |     |     | [mole fraction] |\n",
            "| n-pentane          | 1.19903E-1 | 1.19903E-1 |     |     |     | [mole fraction] |\n",
            "| n-octane           | 7.19593E-1 | 7.19593E-1 |     |     |     | [mole fraction] |\n",
            "|                    |            |            |     |     |     |                 |\n",
            "| Density            |            | 4.55355E2  |     |     |     | [kg/m^3]        |\n",
            "| PhaseFraction      |            | 1E0        |     |     |     | [mole fraction] |\n",
            "| MolarMass          | 1.00853E2  | 1.00853E2  |     |     |     | [kg/kmol]       |\n",
            "| Z factor           |            | 9.32179E-2 |     |     |     | [-]             |\n",
            "| Heat Capacity (Cp) |            | 3.3519E0   |     |     |     | [kJ/kg*K]       |\n",
            "| Heat Capacity (Cv) |            | 2.53607E0  |     |     |     | [kJ/kg*K]       |\n",
            "| Speed of Sound     |            | 3.26194E2  |     |     |     | [m/sec]         |\n",
            "| Enthalpy           | 1.50935E2  | 1.50935E2  |     |     |     | [kJ/kg]         |\n",
            "| Entropy            | 4.55042E-1 | 4.55042E-1 |     |     |     | [kJ/kg*K]       |\n",
            "| JT coefficient     |            | 8.70908E-2 |     |     |     | [K/bar]         |\n",
            "|                    |            |            |     |     |     |                 |\n",
            "| Viscosity          |            | 8.79594E-5 |     |     |     | [kg/m*sec]      |\n",
            "| Conductivity       |            | 6.50885E-2 |     |     |     | [W/m*K]         |\n",
            "| SurfaceTension     |            |            |     |     |     | [N/m]           |\n",
            "|                    |            |            |     |     |     |                 |\n",
            "|                    |            |            |     |     |     |                 |\n",
            "|                    |            |            |     |     |     |                 |\n",
            "| Pressure           |            | 15.0       |     |     |     | [bar]           |\n",
            "| Temperature        |            | 476.15     |     |     |     | [K]             |\n",
            "|                    |            |            |     |     |     |                 |\n",
            "| Model              |            | SRK-EOS    |     |     |     | -               |\n",
            "| Mixing Rule        |            | classic    |     |     |     | -               |\n",
            "|                    |            |            |     |     |     |                 |\n",
            "| Stream             |            |            |     |     |     | -               |\n",
            "|                    |            |            |     |     |     |                 |\n",
            "|                    |            |            |     |     |     |                 |\n",
            "|                    |            |            |     |     |     |                 |\n",
            "|                    |            |            |     |     |     |                 |\n"
          ]
        }
      ]
    }
  ]
}