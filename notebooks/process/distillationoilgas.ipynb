{
  "nbformat": 4,
  "nbformat_minor": 0,
  "metadata": {
    "colab": {
      "name": "distillationoilgas.ipynb",
      "provenance": [],
      "collapsed_sections": [],
      "authorship_tag": "ABX9TyNpifXM8oN6OZdCrYWrHeLz",
      "include_colab_link": true
    },
    "kernelspec": {
      "name": "python3",
      "display_name": "Python 3"
    }
  },
  "cells": [
    {
      "cell_type": "markdown",
      "metadata": {
        "id": "view-in-github",
        "colab_type": "text"
      },
      "source": [
        "<a href=\"https://colab.research.google.com/github/EvenSol/NeqSim-Colab/blob/master/notebooks/process/distillationoilgas.ipynb\" target=\"_parent\"><img src=\"https://colab.research.google.com/assets/colab-badge.svg\" alt=\"Open In Colab\"/></a>"
      ]
    },
    {
      "cell_type": "code",
      "metadata": {
        "colab": {
          "base_uri": "https://localhost:8080/"
        },
        "id": "aK1BA7a0Nnn8",
        "outputId": "4313a4a3-2fb6-47dc-c808-5beccbf0796f"
      },
      "source": [
        "#@title Distillation\r\n",
        "#@markdown Introduction to distillation in oil and gas processing \r\n",
        "%%capture\r\n",
        "!pip install neqsim\r\n",
        "import neqsim\r\n",
        "from neqsim.thermo.thermoTools import *\r\n",
        "import matplotlib\r\n",
        "import numpy as np\r\n",
        "import matplotlib.pyplot as plt\r\n",
        "import math\r\n",
        "%matplotlib inline"
      ],
      "execution_count": 1,
      "outputs": [
        {
          "output_type": "stream",
          "text": [
            "Collecting neqsim\n",
            "\u001b[?25l  Downloading https://files.pythonhosted.org/packages/3d/26/6ee1009596686bc42ca8f6728de170d08b89413caf34b189eaadc9e091c4/neqsim-2.3.0-py3-none-any.whl (66.0MB)\n",
            "\u001b[K     |████████████████████████████████| 66.1MB 64kB/s \n",
            "\u001b[?25hRequirement already satisfied: numpy in /usr/local/lib/python3.7/dist-packages (from neqsim) (1.19.5)\n",
            "Requirement already satisfied: pandas in /usr/local/lib/python3.7/dist-packages (from neqsim) (1.1.5)\n",
            "Requirement already satisfied: matplotlib in /usr/local/lib/python3.7/dist-packages (from neqsim) (3.2.2)\n",
            "Collecting jpype1\n",
            "\u001b[?25l  Downloading https://files.pythonhosted.org/packages/cd/a5/9781e2ef4ca92d09912c4794642c1653aea7607f473e156cf4d423a881a1/JPype1-1.2.1-cp37-cp37m-manylinux2010_x86_64.whl (457kB)\n",
            "\u001b[K     |████████████████████████████████| 460kB 37.5MB/s \n",
            "\u001b[?25hRequirement already satisfied: python-dateutil>=2.7.3 in /usr/local/lib/python3.7/dist-packages (from pandas->neqsim) (2.8.1)\n",
            "Requirement already satisfied: pytz>=2017.2 in /usr/local/lib/python3.7/dist-packages (from pandas->neqsim) (2018.9)\n",
            "Requirement already satisfied: kiwisolver>=1.0.1 in /usr/local/lib/python3.7/dist-packages (from matplotlib->neqsim) (1.3.1)\n",
            "Requirement already satisfied: cycler>=0.10 in /usr/local/lib/python3.7/dist-packages (from matplotlib->neqsim) (0.10.0)\n",
            "Requirement already satisfied: pyparsing!=2.0.4,!=2.1.2,!=2.1.6,>=2.0.1 in /usr/local/lib/python3.7/dist-packages (from matplotlib->neqsim) (2.4.7)\n",
            "Requirement already satisfied: typing-extensions; python_version < \"3.8\" in /usr/local/lib/python3.7/dist-packages (from jpype1->neqsim) (3.7.4.3)\n",
            "Requirement already satisfied: six>=1.5 in /usr/local/lib/python3.7/dist-packages (from python-dateutil>=2.7.3->pandas->neqsim) (1.15.0)\n",
            "Installing collected packages: jpype1, neqsim\n",
            "Successfully installed jpype1-1.2.1 neqsim-2.3.0\n"
          ],
          "name": "stdout"
        }
      ]
    },
    {
      "cell_type": "code",
      "metadata": {
        "colab": {
          "base_uri": "https://localhost:8080/",
          "height": 421
        },
        "cellView": "form",
        "id": "yEiYFv25NvcH",
        "outputId": "4032429a-a7db-495d-f217-5e96d6089d7a"
      },
      "source": [
        "#@title  Oil and gas distillation\r\n",
        "#@markdown Introduction to Oil and gas distillation\r\n",
        "from IPython.display import YouTubeVideo\r\n",
        "YouTubeVideo('gYnGgre83CI', width=600, height=400)"
      ],
      "execution_count": 2,
      "outputs": [
        {
          "output_type": "execute_result",
          "data": {
            "text/html": [
              "\n",
              "        <iframe\n",
              "            width=\"600\"\n",
              "            height=\"400\"\n",
              "            src=\"https://www.youtube.com/embed/gYnGgre83CI\"\n",
              "            frameborder=\"0\"\n",
              "            allowfullscreen\n",
              "        ></iframe>\n",
              "        "
            ],
            "text/plain": [
              "<IPython.lib.display.YouTubeVideo at 0x7fb1477bedd0>"
            ],
            "image/jpeg": "[encoded data removed]"
          },
          "metadata": {
            "tags": []
          },
          "execution_count": 2
        }
      ]
    },
    {
      "cell_type": "markdown",
      "metadata": {
        "id": "lvWBiczTPCjx"
      },
      "source": [
        "#Simulation of a distillation process using NeqSim\r\n",
        "In the following example we will illustrate the distillation of a water-ethanol mixture using NeqSim."
      ]
    },
    {
      "cell_type": "code",
      "metadata": {
        "colab": {
          "base_uri": "https://localhost:8080/"
        },
        "id": "EdsWV_qpPRNX",
        "outputId": "867aa35c-6493-4392-a58c-7e3e1ac9dc9a"
      },
      "source": [
        "from neqsim.thermo import fluid\r\n",
        "from neqsim.process import clearProcess, stream, runProcess, valve\r\n",
        "from neqsim.thermo.thermoTools import *\r\n",
        "import pandas as pd\r\n",
        "# Create a gas-condensate fluid\r\n",
        "wateretoh = {'ComponentName':  ['methane', 'water', \"MEG\"], \r\n",
        "        'MolarComposition[-]':  [0.02, 0.48, 0.5]\r\n",
        "} \r\n",
        "\r\n",
        "gascondensatedf = pd.DataFrame(wateretoh) \r\n",
        "print(\"Fluid:\\n\")\r\n",
        "print(gascondensatedf.head(30).to_string())\r\n",
        "aqueousFluid = fluid_df(gascondensatedf, lastIsPlusFraction=False).autoSelectModel()"
      ],
      "execution_count": 17,
      "outputs": [
        {
          "output_type": "stream",
          "text": [
            "Fluid:\n",
            "\n",
            "  ComponentName  MolarComposition[-]\n",
            "0       methane                 0.02\n",
            "1         water                 0.48\n",
            "2           MEG                 0.50\n"
          ],
          "name": "stdout"
        }
      ]
    },
    {
      "cell_type": "code",
      "metadata": {
        "colab": {
          "base_uri": "https://localhost:8080/"
        },
        "id": "BpzIgAP5QXUw",
        "outputId": "2530c97d-da99-423d-939a-9217118d35a6"
      },
      "source": [
        "feedStream = stream(aqueousFluid)\r\n",
        "feedStream.setFlowRate(1000.0, 'kg/day')\r\n",
        "feedStream.setPressure(1.1, 'bara')\r\n",
        "feedStream.setTemperature(90.0, 'C')\r\n",
        "feedStream.run()\r\n",
        "printFrame(feedStream.getFluid())"
      ],
      "execution_count": 18,
      "outputs": [
        {
          "output_type": "stream",
          "text": [
            "                                                     ()                 (t, o, t, a, l)                                                     (g, a, s)                                         (a, q, u, e, o, u, s)  ()  ()                                             ()\n",
            "                                  (m, e, t, h, a, n, e)                    (2, E, -, 2)                                (6, ., 9, 5, 0, 7, 1, E, -, 1)                                   (5, ., 7, 6, 0, 3, E, -, 5)  ()  ()  ([, m, o, l, e,  , f, r, a, c, t, i, o, n, ])\n",
            "                                        (w, a, t, e, r)              (4, ., 8, E, -, 1)                                (2, ., 9, 8, 8, 3, 7, E, -, 1)                                (4, ., 8, 5, 3, 5, 2, E, -, 1)  ()  ()  ([, m, o, l, e,  , f, r, a, c, t, i, o, n, ])\n",
            "                                              (M, E, G)                    (5, E, -, 1)                                (6, ., 0, 9, 2, 1, 1, E, -, 3)                                (5, ., 1, 4, 5, 9, 1, E, -, 1)  ()  ()  ([, m, o, l, e,  , f, r, a, c, t, i, o, n, ])\n",
            "                                                     ()                              ()                                                            ()                                                            ()  ()  ()                                             ()\n",
            "                                  (D, e, n, s, i, t, y)                              ()                                (6, ., 1, 8, 8, 3, 1, E, -, 1)                                   (1, ., 0, 4, 3, 1, 9, E, 3)  ()  ()                       ([, k, g, /, m, ^, 3, ])\n",
            "                (P, h, a, s, e, F, r, a, c, t, i, o, n)                              ()                                (2, ., 8, 6, 9, 3, 5, E, -, 2)                                (9, ., 7, 1, 3, 0, 6, E, -, 1)  ()  ()  ([, m, o, l, e,  , f, r, a, c, t, i, o, n, ])\n",
            "                            (M, o, l, a, r, M, a, s, s)     (4, ., 0, 0, 0, 2, 6, E, 1)                                   (1, ., 6, 9, 1, 2, 7, E, 1)                                   (4, ., 0, 6, 8, 4, 7, E, 1)  ()  ()                    ([, k, g, /, k, m, o, l, ])\n",
            "                               (Z,  , f, a, c, t, o, r)                              ()                                (9, ., 9, 5, 6, 6, 3, E, -, 1)                                (1, ., 4, 6, 2, 0, 2, E, -, 3)  ()  ()                                      ([, -, ])\n",
            " (H, e, a, t,  , C, a, p, a, c, i, t, y,  , (, C, p, ))                              ()                                   (2, ., 3, 0, 5, 1, 5, E, 0)                                   (3, ., 2, 1, 6, 9, 9, E, 0)  ()  ()                    ([, k, J, /, k, g, *, K, ])\n",
            " (H, e, a, t,  , C, a, p, a, c, i, t, y,  , (, C, v, ))                              ()                                   (1, ., 7, 9, 0, 8, 7, E, 0)                                   (2, ., 9, 2, 4, 0, 5, E, 0)  ()  ()                    ([, k, J, /, k, g, *, K, ])\n",
            "             (S, p, e, e, d,  , o, f,  , S, o, u, n, d)                              ()                                   (4, ., 7, 7, 2, 9, 6, E, 2)                                   (1, ., 4, 7, 1, 4, 4, E, 3)  ()  ()                          ([, m, /, s, e, c, ])\n",
            "                               (E, n, t, h, a, l, p, y)  (-, 1, ., 1, 1, 5, 7, 8, E, 3)                                   (1, ., 8, 7, 5, 3, 6, E, 2)                                (-, 1, ., 1, 3, 1, 7, 9, E, 3)  ()  ()                          ([, k, J, /, k, g, ])\n",
            "                                  (E, n, t, r, o, p, y)  (-, 2, ., 3, 7, 0, 9, 8, E, 0)                                (8, ., 7, 3, 0, 2, 6, E, -, 1)                                (-, 2, ., 4, 1, 0, 8, 1, E, 0)  ()  ()                    ([, k, J, /, k, g, *, K, ])\n",
            "             (J, T,  , c, o, e, f, f, i, c, i, e, n, t)                              ()                                   (1, ., 9, 0, 9, 9, 2, E, 0)                             (-, 2, ., 3, 5, 3, 2, 9, E, -, 2)  ()  ()                          ([, K, /, b, a, r, ])\n",
            "                                                     ()                              ()                                                            ()                                                            ()  ()  ()                                             ()\n",
            "                            (V, i, s, c, o, s, i, t, y)                              ()                                (1, ., 2, 3, 8, 5, 3, E, -, 5)                                (1, ., 5, 8, 8, 5, 8, E, -, 3)  ()  ()                 ([, k, g, /, m, *, s, e, c, ])\n",
            "                   (C, o, n, d, u, c, t, i, v, i, t, y)                              ()                                (3, ., 8, 6, 3, 9, 5, E, -, 2)                                (3, ., 3, 1, 9, 7, 1, E, -, 1)  ()  ()                          ([, W, /, m, *, K, ])\n",
            "             (S, u, r, f, a, c, e, T, e, n, s, i, o, n)                              ()                                   (4, ., 9, 5, 4, 3, E, -, 2)                                   (4, ., 9, 5, 4, 3, E, -, 2)  ()  ()                                ([, N, /, m, ])\n",
            "                                                     ()                              ()                                                            ()                                                            ()  ()  ()                                             ()\n",
            "                                                     ()                              ()                                                            ()                                                            ()  ()  ()                                             ()\n",
            "                                                     ()                              ()                                                            ()                                                            ()  ()  ()                                             ()\n",
            "                               (P, r, e, s, s, u, r, e)                              ()                                                     (1, ., 1)                                                     (1, ., 1)  ()  ()                                ([, b, a, r, ])\n",
            "                      (T, e, m, p, e, r, a, t, u, r, e)                              ()                                            (3, 6, 3, ., 1, 5)                                            (3, 6, 3, ., 1, 5)  ()  ()                                      ([, K, ])\n",
            "                                                     ()                              ()                                                            ()                                                            ()  ()  ()                                             ()\n",
            "                                        (M, o, d, e, l)                              ()  (C, P, A, s, -, S, R, K, -, E, O, S, -, s, t, a, t, o, i, l)  (C, P, A, s, -, S, R, K, -, E, O, S, -, s, t, a, t, o, i, l)  ()  ()                                            (-)\n",
            "                      (M, i, x, i, n, g,  , R, u, l, e)                              ()                    (c, l, a, s, s, i, c, -, C, P, A, _, T, x)                    (c, l, a, s, s, i, c, -, C, P, A, _, T, x)  ()  ()                                            (-)\n",
            "                                                     ()                              ()                                                            ()                                                            ()  ()  ()                                             ()\n",
            "                                     (S, t, r, e, a, m)                              ()                                                            ()                                                            ()  ()  ()                                            (-)\n",
            "                                                     ()                              ()                                                            ()                                                            ()  ()  ()                                             ()\n",
            "                                                     ()                              ()                                                            ()                                                            ()  ()  ()                                             ()\n",
            "                                                     ()                              ()                                                            ()                                                            ()  ()  ()                                             ()\n",
            "                                                     ()                              ()                                                            ()                                                            ()  ()  ()                                             ()\n"
          ],
          "name": "stdout"
        }
      ]
    }
  ]
}