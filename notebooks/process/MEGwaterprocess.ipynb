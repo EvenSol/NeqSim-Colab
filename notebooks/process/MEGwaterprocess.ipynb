{
  "nbformat": 4,
  "nbformat_minor": 0,
  "metadata": {
    "colab": {
      "provenance": [],
      "authorship_tag": "ABX9TyPM2ox2fBSfMc1u3dzgS0Z+",
      "include_colab_link": true
    },
    "kernelspec": {
      "name": "python3",
      "display_name": "Python 3"
    },
    "language_info": {
      "name": "python"
    }
  },
  "cells": [
    {
      "cell_type": "markdown",
      "metadata": {
        "id": "view-in-github",
        "colab_type": "text"
      },
      "source": [
        "<a href=\"https://colab.research.google.com/github/EvenSol/NeqSim-Colab/blob/master/notebooks/process/MEGwaterprocess.ipynb\" target=\"_parent\"><img src=\"https://colab.research.google.com/assets/colab-badge.svg\" alt=\"Open In Colab\"/></a>"
      ]
    },
    {
      "cell_type": "code",
      "execution_count": null,
      "metadata": {
        "id": "arKsu7l9Wh5j",
        "outputId": "38ea02f3-e4af-4292-c1cd-a4912f2b57b4",
        "colab": {
          "base_uri": "https://localhost:8080/"
        }
      },
      "outputs": [
        {
          "output_type": "stream",
          "name": "stdout",
          "text": [
            "Collecting neqsim\n",
            "  Downloading neqsim-2.5.21-py3-none-any.whl (56.4 MB)\n",
            "\u001b[2K     \u001b[90m━━━━━━━━━━━━━━━━━━━━━━━━━━━━━━━━━━━━━━━━\u001b[0m \u001b[32m56.4/56.4 MB\u001b[0m \u001b[31m2.5 MB/s\u001b[0m eta \u001b[36m0:00:00\u001b[0m\n",
            "\u001b[?25hCollecting JPype1<2.0.0,>=1.5.0 (from neqsim)\n",
            "  Downloading JPype1-1.5.0-cp310-cp310-manylinux_2_17_x86_64.manylinux2014_x86_64.whl (488 kB)\n",
            "\u001b[2K     \u001b[90m━━━━━━━━━━━━━━━━━━━━━━━━━━━━━━━━━━━━━━━━\u001b[0m \u001b[32m488.6/488.6 kB\u001b[0m \u001b[31m31.9 MB/s\u001b[0m eta \u001b[36m0:00:00\u001b[0m\n",
            "\u001b[?25hRequirement already satisfied: numpy<2.0.0,>=1.25.2 in /usr/local/lib/python3.10/dist-packages (from neqsim) (1.25.2)\n",
            "Requirement already satisfied: pandas<3.0.0,>=2.0.3 in /usr/local/lib/python3.10/dist-packages (from neqsim) (2.0.3)\n",
            "Requirement already satisfied: packaging in /usr/local/lib/python3.10/dist-packages (from JPype1<2.0.0,>=1.5.0->neqsim) (24.0)\n",
            "Requirement already satisfied: python-dateutil>=2.8.2 in /usr/local/lib/python3.10/dist-packages (from pandas<3.0.0,>=2.0.3->neqsim) (2.8.2)\n",
            "Requirement already satisfied: pytz>=2020.1 in /usr/local/lib/python3.10/dist-packages (from pandas<3.0.0,>=2.0.3->neqsim) (2023.4)\n",
            "Requirement already satisfied: tzdata>=2022.1 in /usr/local/lib/python3.10/dist-packages (from pandas<3.0.0,>=2.0.3->neqsim) (2024.1)\n",
            "Requirement already satisfied: six>=1.5 in /usr/local/lib/python3.10/dist-packages (from python-dateutil>=2.8.2->pandas<3.0.0,>=2.0.3->neqsim) (1.16.0)\n",
            "Installing collected packages: JPype1, neqsim\n",
            "Successfully installed JPype1-1.5.0 neqsim-2.5.21\n"
          ]
        }
      ],
      "source": [
        "!pip install neqsim"
      ]
    },
    {
      "cell_type": "markdown",
      "source": [
        "#Estimation of water in contact with a MEG water phase"
      ],
      "metadata": {
        "id": "ZixGE5W8HaQV"
      }
    },
    {
      "cell_type": "code",
      "source": [
        "from neqsim.thermo import fluid, TPflash,printFrame,hydt\n",
        "Sm3gas = 1.0 #standard volume of gas\n",
        "kg_aqueous = 1.0 # kg water/MEG phase\n",
        "wtfracMEG = 0.5 #wt fraction of MEG in water\n",
        "\n",
        "temperature = 20.0\n",
        "pressure = 50.0\n",
        "\n",
        "fluid = fluid('cpa')\n",
        "# List of components to be added to the fluid\n",
        "components = [\n",
        "    \"nitrogen\", \"CO2\", \"methane\", \"ethane\", \"propane\", \"i-butane\", \"n-butane\", \"water\", \"MEG\"\n",
        "]\n",
        "\n",
        "gascomposition = [0.01, 0.02, 0.88, 0.05, 0.02, 0.01, 0.01, 0.00, 0.0] #molefractions\n",
        "liquidcomposition = [0.0, 0.0, 0.0, 0., 0.0, 0.0, 0.0, 1.0-wtfracMEG, wtfracMEG]\n",
        "for component, gascomp, liqcomp in zip(components,gascomposition,liquidcomposition):\n",
        "    fluid.addComponent(component, gascomp*Sm3gas, 'Sm3/sec')\n",
        "    fluid.addComponent(component, liqcomp*kg_aqueous, 'kg/sec')\n",
        "\n",
        "fluid.setMixingRule(10)\n",
        "\n",
        "\n",
        "fluid.setTemperature(temperature, 'C')\n",
        "fluid.setPressure(pressure, 'bara')\n",
        "\n",
        "TPflash(fluid)\n",
        "\n",
        "printFrame(fluid)\n",
        "\n",
        "gasphase = fluid.phaseToSystem('GAS')\n",
        "\n",
        "print('hydrate temperature of gas ', (hydt(gasphase)-273.15), ' C')\n",
        "for temp in range(0,int(temperature)):\n",
        "  gasphase.setTemperature(temp, 'C')\n",
        "  TPflash(gasphase)\n",
        "  print('temperature ',temp,  ' wt fraction aqueous ', gasphase.getWtFraction(1), ' water in aqueous ', gasphase.getPhase(1).getWtFrac('water'))\n",
        "\n",
        "\n",
        "\n"
      ],
      "metadata": {
        "colab": {
          "base_uri": "https://localhost:8080/"
        },
        "id": "8hPjx74jHg4U",
        "outputId": "5e09f0ca-1f38-4015-e58f-7e6ea14cbd49"
      },
      "execution_count": null,
      "outputs": [
        {
          "output_type": "stream",
          "name": "stdout",
          "text": [
            "| 0                  | 1          | 2                    | 3                    | 4   | 5   | 6               |\n",
            "|:-------------------|:-----------|:---------------------|:---------------------|:----|:----|:----------------|\n",
            "|                    | total      | GAS                  | AQUEOUS              |     |     |                 |\n",
            "| nitrogen           | 5.41499E-3 | 1.00096E-2           | 1.00861E-5           |     |     | [mole fraction] |\n",
            "| CO2                | 1.083E-2   | 1.94788E-2           | 6.55774E-4           |     |     | [mole fraction] |\n",
            "| methane            | 4.76519E-1 | 8.80121E-1           | 1.73638E-3           |     |     | [mole fraction] |\n",
            "| ethane             | 2.70749E-2 | 4.99724E-2           | 1.39184E-4           |     |     | [mole fraction] |\n",
            "| propane            | 1.083E-2   | 2.00109E-2           | 2.98896E-5           |     |     | [mole fraction] |\n",
            "| i-butane           | 5.41499E-3 | 9.99372E-3           | 2.87325E-5           |     |     | [mole fraction] |\n",
            "| n-butane           | 5.41499E-3 | 9.99035E-3           | 3.26984E-5           |     |     | [mole fraction] |\n",
            "| water              | 3.55361E-1 | 4.22856E-4           | 7.72897E-1           |     |     | [mole fraction] |\n",
            "| MEG                | 1.0314E-1  | 7.42716E-7           | 2.2447E-1            |     |     | [mole fraction] |\n",
            "|                    |            |                      |                      |     |     |                 |\n",
            "| Density            |            | 4.37017E1            | 1.04193E3            |     |     | [kg/m^3]        |\n",
            "| PhaseFraction      |            | 5.40518E-1           | 4.59482E-1           |     |     | [mole fraction] |\n",
            "| MolarMass          | 2.29979E1  | 1.88117E1            | 2.79225E1            |     |     | [kg/kmol]       |\n",
            "| Z factor           |            | 8.83032E-1           | 5.5394E-2            |     |     | [-]             |\n",
            "| Heat Capacity (Cp) |            | 2.47785E0            | 3.16017E0            |     |     | [kJ/kg*K]       |\n",
            "| Heat Capacity (Cv) |            | 1.64778E0            | 2.86871E0            |     |     | [kJ/kg*K]       |\n",
            "| Speed of Sound     |            | 3.91374E2            | 1.74172E3            |     |     | [m/sec]         |\n",
            "| Enthalpy           | -9.70818E2 | -1.95006E1           | -1.72477E3           |     |     | [kJ/kg]         |\n",
            "| Entropy            | -3.01149E0 | -1.48507E0           | -4.22122E0           |     |     | [kJ/kg*K]       |\n",
            "| JT coefficient     |            | 5.03847E-1           | -2.52118E-2          |     |     | [K/bar]         |\n",
            "|                    |            |                      |                      |     |     |                 |\n",
            "| Viscosity          |            | 1.23254E-5           | 4.61505E-3           |     |     | [kg/m*sec]      |\n",
            "| Conductivity       |            | 3.72103E-2           | 4.47958E-1           |     |     | [W/m*K]         |\n",
            "| SurfaceTension     |            | 4.57415E-2           | 4.57415E-2           |     |     | [N/m]           |\n",
            "|                    |            |                      |                      |     |     |                 |\n",
            "|                    |            |                      |                      |     |     |                 |\n",
            "|                    |            |                      |                      |     |     |                 |\n",
            "| Pressure           |            | 50.0                 | 50.0                 |     |     | [bar]           |\n",
            "| Temperature        |            | 293.15               | 293.15               |     |     | [K]             |\n",
            "|                    |            |                      |                      |     |     |                 |\n",
            "| Model              |            | CPAs-SRK-EOS-statoil | CPAs-SRK-EOS-statoil |     |     | -               |\n",
            "| Mixing Rule        |            | classic-CPA_Tx       | classic-CPA_Tx       |     |     | -               |\n",
            "|                    |            |                      |                      |     |     |                 |\n",
            "| Stream             |            |                      |                      |     |     | -               |\n",
            "|                    |            |                      |                      |     |     |                 |\n",
            "|                    |            |                      |                      |     |     |                 |\n",
            "|                    |            |                      |                      |     |     |                 |\n",
            "|                    |            |                      |                      |     |     |                 |\n",
            "hydrate temperature of gas  14.078191683284956  C\n",
            "temperature  0  wt fraction aqueous  0.00025340718615160084  water in aqueous  0.9871440296640119\n",
            "temperature  1  wt fraction aqueous  0.00024252867583215344  water in aqueous  0.986786841680819\n",
            "temperature  2  wt fraction aqueous  0.00023098484599458992  water in aqueous  0.9863563829158732\n",
            "temperature  3  wt fraction aqueous  0.00021874186787485745  water in aqueous  0.9858353868081831\n",
            "temperature  4  wt fraction aqueous  0.0002057651326965292  water in aqueous  0.9852003960772017\n",
            "temperature  5  wt fraction aqueous  0.00019201959258867253  water in aqueous  0.984418756614439\n",
            "temperature  6  wt fraction aqueous  0.00017747035822344157  water in aqueous  0.9834436819267532\n",
            "temperature  7  wt fraction aqueous  0.0001620837725722441  water in aqueous  0.9822057847474577\n",
            "temperature  8  wt fraction aqueous  0.00014582942041136047  water in aqueous  0.980597765289625\n",
            "temperature  9  wt fraction aqueous  0.00012868411084832637  water in aqueous  0.9784449206171899\n",
            "temperature  10  wt fraction aqueous  0.00011064039428769227  water in aqueous  0.9754437895202437\n",
            "temperature  11  wt fraction aqueous  9.172667306192336e-05  water in aqueous  0.9710217786982641\n",
            "temperature  12  wt fraction aqueous  7.20611085168126e-05  water in aqueous  0.9639766781655748\n",
            "temperature  13  wt fraction aqueous  5.2019770966582375e-05  water in aqueous  0.9514278626801724\n",
            "temperature  14  wt fraction aqueous  3.2819504258526555e-05  water in aqueous  0.9256798788103958\n",
            "temperature  15  wt fraction aqueous  1.7788794145626294e-05  water in aqueous  0.8708808296280754\n",
            "temperature  16  wt fraction aqueous  9.630547398302977e-06  water in aqueous  0.7875017390827942\n",
            "temperature  17  wt fraction aqueous  5.633390245718536e-06  water in aqueous  0.701654913853628\n",
            "temperature  18  wt fraction aqueous  3.232591652220958e-06  water in aqueous  0.6246812596638702\n",
            "temperature  19  wt fraction aqueous  1.4729188951051114e-06  water in aqueous  0.5573895498237961\n"
          ]
        }
      ]
    }
  ]
}