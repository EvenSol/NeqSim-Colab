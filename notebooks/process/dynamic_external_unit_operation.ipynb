{
 "cells": [
  {
   "cell_type": "markdown",
   "metadata": {
    "id": "view-in-github",
    "colab_type": "text"
   },
   "source": [
    "<a href=\"https://colab.research.google.com/github/EvenSol/NeqSim-Colab/blob/master/notebooks/process/dynamic_external_unit_operation.ipynb\" target=\"_parent\"><img src=\"https://colab.research.google.com/assets/colab-badge.svg\" alt=\"Open In Colab\"/></a>"
   ]
  },
  {
   "cell_type": "markdown",
   "metadata": {
    "id": "intro"
   },
   "source": [
    "# Dynamic simulation with a custom external unit operation\n",
    "This tutorial shows how to extend NeqSim with a Python-based unit operation that participates in dynamic process simulations. We implement an electrically heated coil with thermal inertia and connect it to a simple gas process so that students can study the interaction between the custom model and the built-in equipment.\n"
   ]
  },
  {
   "cell_type": "markdown",
   "metadata": {
    "id": "objectives"
   },
   "source": [
    "## Learning objectives\n",
    "- Build a minimal dynamic flowsheet in NeqSim.\n",
    "- Implement a custom unit operation in Python that follows the `unitop` interface.\n",
    "- Derive and integrate a first-order energy balance to drive dynamic behaviour.\n",
    "- Log and visualise results from a transient simulation.\n"
   ]
  },
  {
   "cell_type": "markdown",
   "metadata": {
    "id": "setup-text"
   },
   "source": [
    "## 0. Environment setup\n",
    "The notebook is designed for Google Colab, where `neqsim` and `matplotlib` are available. Run the next cell if you need to install or upgrade NeqSim in a fresh environment.\n"
   ]
  },
  {
   "cell_type": "code",
   "execution_count": null,
   "metadata": {
    "id": "pip-install"
   },
   "outputs": [],
   "source": [
    "%%capture\n",
    "!pip install neqsim"
   ]
  },
  {
   "cell_type": "code",
   "execution_count": null,
   "metadata": {
    "id": "imports"
   },
   "outputs": [],
   "source": [
    "import numpy as np\n",
    "import pandas as pd\n",
    "import matplotlib.pyplot as plt\n",
    "from matplotlib import patches\n",
    "from neqsim import jneqsim\n",
    "from neqsim.process.unitop import unitop\n"
   ]
  },
  {
   "cell_type": "markdown",
   "metadata": {
    "id": "base-process-text"
   },
   "source": [
    "## 1. Define the base process\n",
    "We start by creating a feed gas, assigning composition and flow conditions, and routing the stream into the flowsheet. The stream is set to *dynamic* mode so that NeqSim integrates mass and energy balances over time.\n"
   ]
  },
  {
   "cell_type": "code",
   "execution_count": null,
   "metadata": {
    "id": "base-process-code"
   },
   "outputs": [],
   "source": [
    "# Define a lean gas mixture using the SRK equation of state\n",
    "feed_fluid = jneqsim.thermo.system.SystemSrkEos(273.15 + 15.0, 50.0)\n",
    "feed_fluid.addComponent('methane', 0.70)\n",
    "feed_fluid.addComponent('ethane', 0.20)\n",
    "feed_fluid.addComponent('n-butane', 0.10)\n",
    "feed_fluid.setMixingRule('classic')\n",
    "\n",
    "# Build the inlet stream and enable dynamic calculations\n",
    "feed_stream = jneqsim.process.equipment.stream.Stream('feed gas', feed_fluid)\n",
    "feed_stream.setFlowRate(2.0, 'kg/sec')\n",
    "feed_stream.setPressure(50.0, 'bara')\n",
    "feed_stream.setTemperature(280.0)  # Kelvin by default\n",
    "feed_stream.setCalculateSteadyState(False)\n",
    "\n",
    "# Display the initial thermodynamic state\n",
    "print(f'Feed temperature: {feed_stream.getTemperature('C'):.1f} \u00b0C')\n",
    "print(f'Feed pressure: {feed_stream.getPressure('bara'):.1f} bara')\n",
    "print(f'Mass flow rate: {feed_stream.getFlowRate('kg/hr'):.1f} kg/h')\n"
   ]
  },
  {
   "cell_type": "markdown",
   "metadata": {
    "id": "heater-text"
   },
   "source": [
    "## 2. Implement a dynamic external heater\n",
    "To represent equipment that is not bundled with NeqSim we extend the `unitop` base class.\n",
    "The heater stores energy in a thermal mass and exchanges heat with the flowing gas.\n",
    "Its state variable is the wall temperature $T$.\n",
    "\n",
    "### 2.1 Energy balance formulation\n",
    "Applying the first law of thermodynamics to a lumped heater wall gives\n",
    "\n",
    "$$\n",
    "  C \\frac{dT}{dt} = \\dot m c_p (T_{\\text{in}} - T) + Q_{\\text{heater}} - U A (T - T_{\\text{amb}}),\n",
    "$$\n",
    "where $C$ is the wall heat capacity [kJ/K], $\\dot m$ the mass flow rate [kg/s], $c_p$ the flowing-fluid heat capacity [kJ/kg K], $Q_{\\text{heater}}$ the applied electric duty [kW], and $U A$ the overall heat-transfer coefficient to the ambient [kW/K].\n",
    "The three terms on the right-hand side respectively describe convective exchange with the stream, deliberate heating, and ambient heat loss.\n",
    "\n",
    "Dividing by $C$ isolates the time derivative that drives the state update,\n",
    "\n",
    "$$\n",
    "  \\frac{dT}{dt} = \\frac{\\dot m c_p}{C}(T_{\\text{in}} - T) + \\frac{Q_{\\text{heater}}}{C} - \\frac{U A}{C} (T - T_{\\text{amb}}).\n",
    "$$\n",
    "NeqSim advances the state explicitly, so over a time step $\\Delta t$ the wall temperature becomes\n",
    "\n",
    "$$\n",
    "  T_{k+1} = T_k + \\Delta t \\left[ \\frac{\\dot m c_p}{C}(T_{\\text{in}} - T_k) + \\frac{Q_{\\text{heater}}}{C} - \\frac{U A}{C} (T_k - T_{\\text{amb}}) \\right].\n",
    "$$\n",
    "The larger the thermal mass $C$, the slower the wall responds to disturbances.\n",
    "\n",
    "### 2.2 Parameter interpretation\n",
    "- **Thermal mass ($C$):** captures the combined metal and holdup inertia; higher values increase lag and smooth the temperature response.\n",
    "- **Heater duty ($Q_{\\text{heater}}$):** a user-specified input that can vary with time to execute operating scenarios.\n",
    "- **Heat loss ($U A$):** penalises deviations from the ambient and ensures the model cools down realistically.\n",
    "- **Stream coupling ($\\dot m c_p$):** represents the ability of the process stream to remove or supply energy.\n"
   ]
  },
  {
   "cell_type": "markdown",
   "metadata": {},
   "source": [
    "### 2.3 Visualise the heater concept\n",
    "The following schematic emphasises the energy flows captured by the differential equation: convection from the stream, deliberate electrical heating, and losses to the surroundings.\n"
   ]
  },
  {
   "cell_type": "code",
   "metadata": {},
   "execution_count": null,
   "outputs": [],
   "source": [
    "fig, ax = plt.subplots(figsize=(6, 3))\n",
    "ax.axis('off')\n",
    "# Draw heater body\n",
    "heater_box = patches.FancyBboxPatch((0.3, 0.2), 0.4, 0.6, boxstyle='round,pad=0.1', linewidth=2, edgecolor='tab:red', facecolor='mistyrose')\n",
    "ax.add_patch(heater_box)\n",
    "ax.text(0.5, 0.5, 'Dynamic\nHeater', ha='center', va='center', fontsize=12, weight='bold')\n",
    "# Incoming stream arrow\n",
    "ax.annotate('', xy=(0.3, 0.5), xytext=(0.05, 0.5), arrowprops=dict(arrowstyle='-|>', linewidth=2, color='tab:blue'))\n",
    "ax.text(0.07, 0.55, '$T_{\\mathrm{in}}$', color='tab:blue', fontsize=11)\n",
    "# Outgoing stream arrow\n",
    "ax.annotate('', xy=(0.7, 0.5), xytext=(0.95, 0.5), arrowprops=dict(arrowstyle='-|>', linewidth=2, color='tab:orange'))\n",
    "ax.text(0.9, 0.55, '$T_{\\mathrm{out}}$', color='tab:orange', fontsize=11, ha='right')\n",
    "# Heater power arrow\n",
    "ax.annotate('Electrical heating $Q_{\\mathrm{heater}}$', xy=(0.5, 0.82), xytext=(0.5, 0.95), ha='center', arrowprops=dict(arrowstyle='-|>', linewidth=2, color='tab:red'))\n",
    "# Heat loss arrow\n",
    "ax.annotate('Ambient loss $U A (T - T_{\\mathrm{amb}})$', xy=(0.5, 0.18), xytext=(0.5, 0.02), ha='center', arrowprops=dict(arrowstyle='-|>', linewidth=2, color='tab:green'))\n",
    "ax.set_title('Energy interactions represented by the dynamic heater model', fontsize=12)\n",
    "plt.tight_layout()\n"
   ]
  },
  {
   "cell_type": "code",
   "execution_count": null,
   "metadata": {
    "id": "heater-code"
   },
   "outputs": [],
   "source": [
    "class DynamicHeater(unitop):\n",
    "    \"\"\"Electrically heated coil with thermal inertia.\n",
    "\n",
    "    Attributes\n",
    "    ----------\n",
    "    thermal_mass : float\n",
    "        Lumped heat capacity of metal and fluid holdup [kJ/K].\n",
    "    heater_power : float\n",
    "        External heat input applied to the coil [kW].\n",
    "    heat_loss_coeff : float\n",
    "        Overall heat-transfer coefficient to ambient [kW/K].\n",
    "    ambient_temperature : float\n",
    "        Ambient temperature that drives heat losses [K].\n",
    "    \"\"\"\n",
    "    def __init__(self, name):\n",
    "        super().__init__()\n",
    "        self.setName(name)\n",
    "        self.inlet = None\n",
    "        self.outlet = None\n",
    "        self.thermal_mass = 5000.0\n",
    "        self.heater_power = 0.0\n",
    "        self.heat_loss_coeff = 0.0\n",
    "        self.ambient_temperature = 298.15\n",
    "        self.temperature = None\n",
    "        self.last_energy_terms = {\n",
    "            'inlet_temperature': None,\n",
    "            'wall_temperature': None,\n",
    "            'convective': 0.0,\n",
    "            'heat_input': 0.0,\n",
    "            'heat_loss': 0.0,\n",
    "            'storage_rate': 0.0,\n",
    "            'residual': 0.0,\n",
    "            'time_step': 0.0,\n",
    "            'capacity': self.thermal_mass,\n",
    "        }\n",
    "\n",
    "    def setInputStream(self, stream):\n",
    "        \"\"\"Attach the incoming stream and prepare the outlet clone.\"\"\"\n",
    "        self.inlet = stream\n",
    "        outlet_name = f\"{self.getName()} outlet\"\n",
    "        self.outlet = jneqsim.process.equipment.stream.Stream(outlet_name, stream.getFluid().clone())\n",
    "        self.outlet.setCalculateSteadyState(False)\n",
    "\n",
    "    def getOutputStream(self):\n",
    "        return self.outlet\n",
    "\n",
    "    def setThermalMass(self, value_kJ_per_K):\n",
    "        self.thermal_mass = float(value_kJ_per_K)\n",
    "\n",
    "    def setHeaterPower(self, power_kW):\n",
    "        self.heater_power = float(power_kW)\n",
    "\n",
    "    def setHeatLoss(self, UA_kW_per_K, ambient_K):\n",
    "        self.heat_loss_coeff = float(UA_kW_per_K)\n",
    "        self.ambient_temperature = float(ambient_K)\n",
    "\n",
    "    def _update_outlet(self):\n",
    "        if self.temperature is None:\n",
    "            self.temperature = self.inlet.getTemperature('K')\n",
    "        updated_fluid = self.inlet.getFluid().clone()\n",
    "        updated_fluid.setTemperature(self.temperature, 'K')\n",
    "        updated_fluid.setPressure(self.inlet.getPressure('bara'), 'bara')\n",
    "        updated_fluid.initProperties()\n",
    "        self.outlet.setThermoSystem(updated_fluid)\n",
    "        self.outlet.setPressure(self.inlet.getPressure('bara'))\n",
    "        self.outlet.setTemperature(self.temperature)\n",
    "\n",
    "    def _record_energy_terms(self, inlet_temperature, convective, heat_input, heat_loss, storage_rate, residual, dt):\n",
    "        self.last_energy_terms = {\n",
    "            'inlet_temperature': float(inlet_temperature),\n",
    "            'wall_temperature': float(self.temperature),\n",
    "            'convective': float(convective),\n",
    "            'heat_input': float(heat_input),\n",
    "            'heat_loss': float(heat_loss),\n",
    "            'storage_rate': float(storage_rate),\n",
    "            'residual': float(residual),\n",
    "            'time_step': float(dt),\n",
    "            'capacity': float(self.thermal_mass),\n",
    "        }\n",
    "\n",
    "    def getLastEnergyTerms(self):\n",
    "        \"\"\"Return a copy of the most recent energy balance terms.\"\"\"\n",
    "        return dict(self.last_energy_terms)\n",
    "\n",
    "    def run(self, uuid):\n",
    "        \"\"\"Initialise the state during the steady-state solve.\"\"\"\n",
    "        self.temperature = self.inlet.getTemperature('K')\n",
    "        fluid = self.inlet.getFluid()\n",
    "        mdot = self.inlet.getFlowRate('kg/hr') / 3600.0\n",
    "        cp = fluid.getCp('kJ/kgK')\n",
    "        convective_term = mdot * cp * (self.inlet.getTemperature('K') - self.temperature)\n",
    "        heat_input = self.heater_power\n",
    "        heat_loss = self.heat_loss_coeff * (self.temperature - self.ambient_temperature)\n",
    "        storage_rate = 0.0\n",
    "        residual = convective_term + heat_input - heat_loss - storage_rate\n",
    "        self._record_energy_terms(self.temperature, convective_term, heat_input, heat_loss, storage_rate, residual, 0.0)\n",
    "        self._update_outlet()\n",
    "\n",
    "    def runTransient(self, dt, uuid):\n",
    "        \"\"\"Advance the heater temperature using the first-order energy balance.\"\"\"\n",
    "        dt = float(dt)\n",
    "        fluid = self.inlet.getFluid()\n",
    "        tin = self.inlet.getTemperature('K')\n",
    "        if self.temperature is None:\n",
    "            self.temperature = tin\n",
    "        previous_temp = self.temperature\n",
    "        mdot = self.inlet.getFlowRate('kg/hr') / 3600.0  # kg/s\n",
    "        cp = fluid.getCp('kJ/kgK')\n",
    "        convective_term = mdot * cp * (tin - previous_temp)\n",
    "        heat_input = self.heater_power\n",
    "        heat_loss = self.heat_loss_coeff * (previous_temp - self.ambient_temperature)\n",
    "        capacity = max(self.thermal_mass, 1e-6)\n",
    "        rhs = convective_term + heat_input - heat_loss\n",
    "        self.temperature = previous_temp + rhs * dt / capacity\n",
    "        storage_rate = capacity * (self.temperature - previous_temp) / dt if dt > 0 else 0.0\n",
    "        residual = rhs - storage_rate\n",
    "        self._record_energy_terms(tin, convective_term, heat_input, heat_loss, storage_rate, residual, dt)\n",
    "        self._update_outlet()\n"
   ]
  },
  {
   "cell_type": "markdown",
   "metadata": {
    "id": "flowsheet-text"
   },
   "source": [
    "## 3. Assemble the flowsheet\n",
    "The dynamic heater is inserted between the feed stream and a downstream throttle valve that maintains 45 bara. The `ProcessSystem` collects all units, solves the steady state, and exposes the time-integration settings used in the transient study. The custom class also provides `getLastEnergyTerms()` so that any process controller or historian can audit the first-law balance while the simulation runs.\n"
   ]
  },
  {
   "cell_type": "code",
   "execution_count": null,
   "metadata": {
    "id": "flowsheet-code"
   },
   "outputs": [],
   "source": [
    "# Instantiate the custom heater and configure its physics\n",
    "heater = DynamicHeater('electric heater')\n",
    "heater.setInputStream(feed_stream)\n",
    "heater.setThermalMass(5000.0)       # kJ/K\n",
    "heater.setHeatLoss(2.0, 295.0)      # kW/K and ambient temperature in K\n",
    "heater.setHeaterPower(100.0)        # initial heater load in kW\n",
    "\n",
    "# Add an export valve to close the flowsheet\n",
    "export_valve = jneqsim.process.equipment.valve.ThrottlingValve('export valve', heater.getOutputStream())\n",
    "export_valve.setOutletPressure(45.0)\n",
    "export_valve.setCalculateSteadyState(False)\n",
    "\n",
    "# Build the process model\n",
    "process = jneqsim.process.processmodel.ProcessSystem()\n",
    "process.add(feed_stream)\n",
    "process.add(heater)\n",
    "process.add(export_valve)\n",
    "process.setTimeStep(5.0)  # seconds\n",
    "process.run()\n",
    "\n",
    "print(f\"Steady heater outlet temperature: {heater.getOutputStream().getTemperature('C'):.2f} \u00b0C\")\n"
   ]
  },
  {
   "cell_type": "markdown",
   "metadata": {
    "id": "scenario-text"
   },
   "source": [
    "## 4. Execute a transient scenario\n",
    "We apply three operating phases to illustrate the effect of the external unit:\n",
    "\n",
    "1. **0\u20131500 s** \u2013 warm-up at 100 kW.\n",
    "2. **1500\u20134500 s** \u2013 power increased to 300 kW to reach a higher outlet temperature.\n",
    "3. **4500\u20139000 s** \u2013 power reduced to 50 kW, allowing the heater to cool while gas still flows.\n",
    "\n",
    "During integration we log time, the heater wall and outlet temperatures, every energy-balance contribution, and the downstream pressure so the mathematics can be checked against the simulated trajectory.\n"
   ]
  },
  {
   "cell_type": "code",
   "execution_count": null,
   "metadata": {
    "id": "scenario-code"
   },
   "outputs": [],
   "source": [
    "log_rows = []\n",
    "\n",
    "def record_state():\n",
    "    terms = heater.getLastEnergyTerms()\n",
    "    wall_temp = terms.get('wall_temperature')\n",
    "    inlet_temp = terms.get('inlet_temperature')\n",
    "    log_rows.append({\n",
    "        'time [s]': process.getTime(),\n",
    "        'heater inlet T [C]': (inlet_temp - 273.15) if inlet_temp is not None else np.nan,\n",
    "        'heater wall T [C]': (wall_temp - 273.15) if wall_temp is not None else np.nan,\n",
    "        'heater outlet T [C]': heater.getOutputStream().getTemperature('C'),\n",
    "        'heater power [kW]': terms.get('heat_input', heater.heater_power),\n",
    "        'convective term [kW]': terms.get('convective', 0.0),\n",
    "        'heat loss [kW]': terms.get('heat_loss', 0.0),\n",
    "        'storage rate [kW]': terms.get('storage_rate', 0.0),\n",
    "        'energy residual [kW]': terms.get('residual', 0.0),\n",
    "        'time step [s]': terms.get('time_step', np.nan),\n",
    "        'thermal mass [kJ/K]': terms.get('capacity', heater.thermal_mass),\n",
    "        'export pressure [bara]': export_valve.getOutletStream().getPressure('bara')\n",
    "    })\n",
    "\n",
    "record_state()\n",
    "total_steps = 1800\n",
    "for step in range(total_steps):\n",
    "    if step == 300:\n",
    "        heater.setHeaterPower(300.0)\n",
    "    if step == 900:\n",
    "        heater.setHeaterPower(50.0)\n",
    "    process.runTransient()\n",
    "    record_state()\n",
    "\n",
    "df = pd.DataFrame(log_rows)\n",
    "df.head()\n"
   ]
  },
  {
   "cell_type": "markdown",
   "metadata": {
    "id": "plots-text"
   },
   "source": [
    "## 5. Visualise and verify the response\n",
    "The plots contrast the heater temperatures with the power schedule and decompose the energy balance into convection, applied duty, and losses. We also quantify the numerical residual to show that the simulated trajectory honours the governing equation.\n"
   ]
  },
  {
   "cell_type": "code",
   "execution_count": null,
   "metadata": {
    "id": "plots-code"
   },
   "outputs": [],
   "source": [
    "fig, ax1 = plt.subplots(figsize=(10, 5))\n",
    "ax1.plot(df['time [s]'], df['heater outlet T [C]'], color='tab:red', label='Outlet T [\u00b0C]')\n",
    "ax1.plot(df['time [s]'], df['heater wall T [C]'], color='tab:orange', linestyle='--', linewidth=2, label='Wall T [\u00b0C]')\n",
    "ax1.plot(df['time [s]'], df['heater inlet T [C]'], color='tab:green', linestyle=':', linewidth=2, label='Inlet T [\u00b0C]')\n",
    "ax1.set_xlabel('Time [s]')\n",
    "ax1.set_ylabel('Temperature [\u00b0C]')\n",
    "ax1.legend(loc='upper left')\n",
    "ax1.grid(True, which='major', linestyle='--', alpha=0.3)\n",
    "\n",
    "ax2 = ax1.twinx()\n",
    "ax2.step(df['time [s]'], df['heater power [kW]'], where='post', color='tab:blue', label='Heater power [kW]')\n",
    "ax2.set_ylabel('Power [kW]', color='tab:blue')\n",
    "ax2.tick_params(axis='y', labelcolor='tab:blue')\n",
    "ax2.legend(loc='upper right')\n",
    "\n",
    "ax1.set_title('Dynamic heater response driven by a custom unit operation')\n",
    "plt.tight_layout()\n",
    "plt.show()\n",
    "\n",
    "df.tail()\n"
   ]
  },
  {
   "cell_type": "markdown",
   "metadata": {},
   "source": [
    "### 5.1 Energy balance decomposition\n",
    "Tracking every term in the governing equation reveals how the heater stores and exchanges energy. The next figure overlays the convective exchange with the feed, the applied electrical duty, the heat loss to ambient, and the implied accumulation term $C\\,dT/dt$.\n"
   ]
  },
  {
   "cell_type": "code",
   "metadata": {},
   "execution_count": null,
   "outputs": [],
   "source": [
    "fig, (ax_top, ax_bottom) = plt.subplots(2, 1, figsize=(10, 8), sharex=True)\n",
    "ax_top.plot(df['time [s]'], df['heater power [kW]'], label='Electrical duty $Q_{\\mathrm{heater}}$', color='tab:red')\n",
    "ax_top.plot(df['time [s]'], df['convective term [kW]'], label='Stream convection $\\dot m c_p (T_\\mathrm{in}-T)$', color='tab:blue')\n",
    "ax_top.plot(df['time [s]'], -df['heat loss [kW]'], label='Ambient loss $-U A (T-T_\\mathrm{amb})$', color='tab:green')\n",
    "ax_top.plot(df['time [s]'], df['storage rate [kW]'], label='Accumulation $C\\,dT/dt$', color='tab:orange', linestyle='--')\n",
    "ax_top.set_ylabel('Energy rate [kW]')\n",
    "ax_top.set_title('Contributions to the heater energy balance')\n",
    "ax_top.legend(loc='upper right')\n",
    "ax_top.grid(True, linestyle='--', alpha=0.3)\n",
    "\n",
    "ax_bottom.plot(df['time [s]'], df['energy residual [kW]'], color='tab:purple')\n",
    "ax_bottom.axhline(0.0, color='black', linewidth=1, linestyle=':')\n",
    "ax_bottom.set_xlabel('Time [s]')\n",
    "ax_bottom.set_ylabel('Residual [kW]')\n",
    "ax_bottom.set_title('Energy balance residual (should remain near zero)')\n",
    "ax_bottom.grid(True, linestyle='--', alpha=0.3)\n",
    "plt.tight_layout()\n",
    "plt.show()\n"
   ]
  },
  {
   "cell_type": "code",
   "metadata": {},
   "execution_count": null,
   "outputs": [],
   "source": [
    "max_residual = df['energy residual [kW]'].abs().max()\n",
    "print(f'Max absolute residual: {max_residual:.6f} kW')\n"
   ]
  },
  {
   "cell_type": "markdown",
   "metadata": {},
   "source": [
    "The residual remains close to numerical round-off, confirming that the logged accumulation balances the sum of convective exchange, electrical heating, and heat loss at every time step.\n"
   ]
  },
  {
   "cell_type": "markdown",
   "metadata": {
    "id": "takeaways"
   },
   "source": [
    "## Key takeaways\n",
    "- External Python units integrate seamlessly with NeqSim flowsheets when they inherit from `unitop` and implement both `run` and `runTransient`.\n",
    "- Writing the unit in terms of an explicit energy balance (here, $C\\,dT/dt = \\dot m c_p (T_{\\text{in}} - T) + Q_{\\text{heater}} - U A (T - T_{\\text{amb}})$) makes the mathematical assumptions transparent and easy to validate.\n",
    "- Systematic logging of state variables and energy terms enables rich visualisations, residual checks, and, ultimately, confidence that the numerical solution obeys the governing physics.\n"
   ]
  },
  {
   "cell_type": "markdown",
   "metadata": {},
   "source": [
    "## References\n",
    "- W. L. Luyben, *Process Modeling, Simulation, and Control for Chemical Engineers*, 2nd ed., McGraw-Hill, 1990.\n",
    "- B. W. Bequette, *Process Control: Modeling, Design, and Simulation*, Prentice Hall, 2003.\n",
    "- R. B. Bird, W. E. Stewart, and E. N. Lightfoot, *Transport Phenomena*, 2nd ed., John Wiley & Sons, 2002.\n"
   ]
  }
 ],
 "metadata": {
  "colab": {
   "provenance": [],
   "include_colab_link": true
  },
  "kernelspec": {
   "display_name": "Python 3",
   "name": "python3"
  },
  "language_info": {
   "name": "python"
  }
 },
 "nbformat": 4,
 "nbformat_minor": 5
}