{
  "nbformat": 4,
  "nbformat_minor": 0,
  "metadata": {
    "colab": {
      "name": "NGLextractionprocess.ipynb",
      "provenance": [],
      "include_colab_link": true
    },
    "kernelspec": {
      "name": "python3",
      "display_name": "Python 3"
    }
  },
  "cells": [
    {
      "cell_type": "markdown",
      "metadata": {
        "id": "view-in-github",
        "colab_type": "text"
      },
      "source": [
        "<a href=\"https://colab.research.google.com/github/EvenSol/NeqSim-Colab/blob/master/notebooks/process/NGLextractionprocess.ipynb\" target=\"_parent\"><img src=\"https://colab.research.google.com/assets/colab-badge.svg\" alt=\"Open In Colab\"/></a>"
      ]
    },
    {
      "cell_type": "code",
      "source": [
        "!pip install neqsim\n",
        "import neqsim\n",
        "from neqsim.thermo.thermoTools import *\n",
        "import matplotlib\n",
        "import numpy as np\n",
        "import matplotlib.pyplot as plt\n",
        "import math\n",
        "import pandas as pd\n",
        "\n",
        "from neqsim.process import stream, expander, heater, compsplitter, separator, heatExchanger\n",
        "from neqsim.thermo import fluid, printFrame\n",
        "from neqsim.process import compsplitter, compressor, splitter, cooler, separator3phase, getProcess, clearProcess, mixer, heater, stream, pump, separator, runProcess, stream, saturator, valve, filters, heatExchanger, simpleTEGAbsorber,distillationColumn, waterStripperColumn, recycle2, setpoint, calculator\n"
      ],
      "metadata": {
        "colab": {
          "base_uri": "https://localhost:8080/"
        },
        "id": "pmeuf3oasHEt",
        "outputId": "0afa69c0-4634-49ba-8676-1d046e3e81d2"
      },
      "execution_count": 1,
      "outputs": [
        {
          "output_type": "stream",
          "name": "stdout",
          "text": [
            "Collecting neqsim\n",
            "  Downloading neqsim-2.5.5-py3-none-any.whl (28.3 MB)\n",
            "\u001b[2K     \u001b[90m━━━━━━━━━━━━━━━━━━━━━━━━━━━━━━━━━━━━━━━━\u001b[0m \u001b[32m28.3/28.3 MB\u001b[0m \u001b[31m33.8 MB/s\u001b[0m eta \u001b[36m0:00:00\u001b[0m\n",
            "\u001b[?25hCollecting jpype1 (from neqsim)\n",
            "  Downloading JPype1-1.4.1-cp310-cp310-manylinux_2_12_x86_64.manylinux2010_x86_64.whl (465 kB)\n",
            "\u001b[2K     \u001b[90m━━━━━━━━━━━━━━━━━━━━━━━━━━━━━━━━━━━━━━\u001b[0m \u001b[32m465.3/465.3 kB\u001b[0m \u001b[31m27.7 MB/s\u001b[0m eta \u001b[36m0:00:00\u001b[0m\n",
            "\u001b[?25hRequirement already satisfied: pandas in /usr/local/lib/python3.10/dist-packages (from neqsim) (1.5.3)\n",
            "Requirement already satisfied: packaging in /usr/local/lib/python3.10/dist-packages (from jpype1->neqsim) (23.1)\n",
            "Requirement already satisfied: python-dateutil>=2.8.1 in /usr/local/lib/python3.10/dist-packages (from pandas->neqsim) (2.8.2)\n",
            "Requirement already satisfied: pytz>=2020.1 in /usr/local/lib/python3.10/dist-packages (from pandas->neqsim) (2023.3)\n",
            "Requirement already satisfied: numpy>=1.21.0 in /usr/local/lib/python3.10/dist-packages (from pandas->neqsim) (1.23.5)\n",
            "Requirement already satisfied: six>=1.5 in /usr/local/lib/python3.10/dist-packages (from python-dateutil>=2.8.1->pandas->neqsim) (1.16.0)\n",
            "Installing collected packages: jpype1, neqsim\n",
            "Successfully installed jpype1-1.4.1 neqsim-2.5.5\n"
          ]
        }
      ]
    },
    {
      "cell_type": "code",
      "metadata": {
        "id": "0NiCf_rvqecx",
        "colab": {
          "base_uri": "https://localhost:8080/",
          "height": 421
        },
        "outputId": "27e1b58b-b408-473a-9499-4d2f4cbc97fd"
      },
      "source": [
        "# NGL extraction process\n",
        "from IPython.display import YouTubeVideo\n",
        "YouTubeVideo('LrwlUReymlw', width=600, height=400)"
      ],
      "execution_count": 18,
      "outputs": [
        {
          "output_type": "execute_result",
          "data": {
            "text/plain": [
              "<IPython.lib.display.YouTubeVideo at 0x7c3365d20430>"
            ],
            "text/html": [
              "\n",
              "        <iframe\n",
              "            width=\"600\"\n",
              "            height=\"400\"\n",
              "            src=\"https://www.youtube.com/embed/LrwlUReymlw\"\n",
              "            frameborder=\"0\"\n",
              "            allowfullscreen\n",
              "            \n",
              "        ></iframe>\n",
              "        "
            ],
            "image/jpeg": "[encoded data removed]"
          },
          "metadata": {},
          "execution_count": 18
        }
      ]
    },
    {
      "cell_type": "markdown",
      "source": [
        "# NGL extraction plant"
      ],
      "metadata": {
        "id": "hK1Kl7hesVQ5"
      }
    },
    {
      "cell_type": "code",
      "source": [
        "#Feed gas\n",
        "fluidcomposition = {'ComponentName':  [\"nitrogen\", \"CO2\", \"methane\", \"ethane\", \"propane\", \"i-butane\", \"n-butane\", \"i-pentane\", \"n-pentane\", \"n-hexane\", \"C7\", \"C8\", \"C9\", \"C10-C11\", \"C12-C13\", \"C14-C15\", \"C16-C18\", \"C19-C20\", \"C21-C23\", \"C24-C29\", \"C30\"],\n",
        "      'MolarComposition[-]':  [0.5901, 0.00704, 64.423, 8.0634, 4.8112, 0.9095, 1.7896, 0.6577, 0.7712, 0.8545, 1.2025, 1.2507, 0.7571, 1.5015, 1.3053, 1.1353, 1.4328, 0.802, 1.0127, 1.4921, 2.9922],\n",
        "      'MolarMass[kg/mol]': [None,None, None,None,None,None,None,None,None,None,0.09832, 0.11227, 0.12627, 0.14689, 0.174, 0.202, 0.237, 0.272, 0.307, 0.367, 0.594],\n",
        "      'RelativeDensity[-]': [None,None, None,None,None,None,None,None,None,None, 0.737, 0.758, 0.775, 0.794, 0.814, 0.830, 0.846, 0.860, 0.872, 0.889, 0.935]\n",
        "}\n",
        "fluidcompositiondf = pd.DataFrame(fluidcomposition)\n",
        "fluid1 = fluid_df(fluidcompositiondf, lastIsPlusFraction=False)\n",
        "fluid1.setMixingRule('classic')\n",
        "\n",
        "clearProcess()\n",
        "\n",
        "streamfeed = stream(fluid1)\n",
        "\n",
        "inletheater = heater(streamfeed)\n",
        "inletheater.setOutPressure(110.0, 'bara')\n",
        "inletheater.setOutTemperature(25.0, 'C')\n",
        "\n",
        "separatorinlet = separator(inletheater.getOutletStream())\n",
        "\n",
        "runProcess()"
      ],
      "metadata": {
        "id": "cZ-1snissbVS"
      },
      "execution_count": 8,
      "outputs": []
    },
    {
      "cell_type": "code",
      "source": [
        "printFrame(separatorinlet.getGasOutStream().getFluid())"
      ],
      "metadata": {
        "id": "iscctws14zCv",
        "outputId": "4c592e60-b589-4939-ef1b-867d82351a14",
        "colab": {
          "base_uri": "https://localhost:8080/"
        }
      },
      "execution_count": 9,
      "outputs": [
        {
          "output_type": "stream",
          "name": "stdout",
          "text": [
            "| 0                  | 1           | 2           | 3   | 4   | 5   | 6               |\n",
            "|:-------------------|:------------|:------------|:----|:----|:----|:----------------|\n",
            "|                    | total       | GAS         |     |     |     |                 |\n",
            "| nitrogen           | 9.03421E-3  | 9.03421E-3  |     |     |     | [mole fraction] |\n",
            "| CO2                | 7.72754E-5  | 7.72754E-5  |     |     |     | [mole fraction] |\n",
            "| methane            | 8.7205E-1   | 8.7205E-1   |     |     |     | [mole fraction] |\n",
            "| ethane             | 7.5403E-2   | 7.5403E-2   |     |     |     | [mole fraction] |\n",
            "| propane            | 2.9109E-2   | 2.9109E-2   |     |     |     | [mole fraction] |\n",
            "| i-butane           | 3.88989E-3  | 3.88989E-3  |     |     |     | [mole fraction] |\n",
            "| n-butane           | 6.06717E-3  | 6.06717E-3  |     |     |     | [mole fraction] |\n",
            "| i-pentane          | 1.42372E-3  | 1.42372E-3  |     |     |     | [mole fraction] |\n",
            "| n-pentane          | 1.39327E-3  | 1.39327E-3  |     |     |     | [mole fraction] |\n",
            "| n-hexane           | 8.00734E-4  | 8.00734E-4  |     |     |     | [mole fraction] |\n",
            "| C7_PC              | 3.67772E-4  | 3.67772E-4  |     |     |     | [mole fraction] |\n",
            "| C8_PC              | 2.14576E-4  | 2.14576E-4  |     |     |     | [mole fraction] |\n",
            "| C9_PC              | 7.44537E-5  | 7.44537E-5  |     |     |     | [mole fraction] |\n",
            "| C10-C11_PC         | 6.68349E-5  | 6.68349E-5  |     |     |     | [mole fraction] |\n",
            "| C12-C13_PC         | 2.03563E-5  | 2.03563E-5  |     |     |     | [mole fraction] |\n",
            "| C14-C15_PC         | 5.83716E-6  | 5.83716E-6  |     |     |     | [mole fraction] |\n",
            "| C16-C18_PC         | 1.74052E-6  | 1.74052E-6  |     |     |     | [mole fraction] |\n",
            "| C19-C20_PC         | 2.14389E-7  | 2.14389E-7  |     |     |     | [mole fraction] |\n",
            "| C21-C23_PC         | 5.69227E-8  | 5.69227E-8  |     |     |     | [mole fraction] |\n",
            "| C24-C29_PC         | 5.54051E-9  | 5.54051E-9  |     |     |     | [mole fraction] |\n",
            "| C30_PC             | 9.70159E-13 | 9.70159E-13 |     |     |     | [mole fraction] |\n",
            "|                    |             |             |     |     |     |                 |\n",
            "| Density            |             | 1.06385E2   |     |     |     | [kg/m^3]        |\n",
            "| PhaseFraction      |             | 1E0         |     |     |     | [mole fraction] |\n",
            "| MolarMass          | 1.87334E1   | 1.87334E1   |     |     |     | [kg/kmol]       |\n",
            "| Z factor           |             | 7.86226E-1  |     |     |     | [-]             |\n",
            "| Heat Capacity (Cp) |             | 3.2731E0    |     |     |     | [kJ/kg*K]       |\n",
            "| Heat Capacity (Cv) |             | 1.77E0      |     |     |     | [kJ/kg*K]       |\n",
            "| Speed of Sound     |             | 4.11768E2   |     |     |     | [m/sec]         |\n",
            "| Enthalpy           | -8.41947E1  | -8.41947E1  |     |     |     | [kJ/kg]         |\n",
            "| Entropy            | -2.0038E0   | -2.0038E0   |     |     |     | [kJ/kg*K]       |\n",
            "| JT coefficient     |             | 3.49883E-1  |     |     |     | [K/bar]         |\n",
            "|                    |             |             |     |     |     |                 |\n",
            "| Viscosity          |             | 1.52508E-5  |     |     |     | [kg/m*sec]      |\n",
            "| Conductivity       |             | 4.62395E-2  |     |     |     | [W/m*K]         |\n",
            "| SurfaceTension     |             |             |     |     |     | [N/m]           |\n",
            "|                    |             |             |     |     |     |                 |\n",
            "|                    |             |             |     |     |     |                 |\n",
            "|                    |             |             |     |     |     |                 |\n",
            "| Pressure           |             | 110.0       |     |     |     | [bar]           |\n",
            "| Temperature        |             | 298.15      |     |     |     | [K]             |\n",
            "|                    |             |             |     |     |     |                 |\n",
            "| Model              |             | SRK-EOS     |     |     |     | -               |\n",
            "| Mixing Rule        |             | classic     |     |     |     | -               |\n",
            "|                    |             |             |     |     |     |                 |\n",
            "| Stream             |             |             |     |     |     | -               |\n",
            "|                    |             |             |     |     |     |                 |\n",
            "|                    |             |             |     |     |     |                 |\n",
            "|                    |             |             |     |     |     |                 |\n",
            "|                    |             |             |     |     |     |                 |\n"
          ]
        }
      ]
    },
    {
      "cell_type": "code",
      "source": [
        "#NGL expander code\n",
        "\n",
        "feedstream = separatorinlet.getGasOutStream()\n",
        "feedstream.setFlowRate(10.0, 'MSm3/day')\n",
        "\n",
        "pressureNGL = 50.6\n",
        "onshoreplant_inlet_pressure = 110.0\n",
        "onshoreplant_inlet_temperature = 20.0\n",
        "\n",
        "clearProcess()\n",
        "\n",
        "inletheater = heater(feedstream)\n",
        "inletheater.setOutPressure(onshoreplant_inlet_pressure, 'bara')\n",
        "inletheater.setOutTemperature(onshoreplant_inlet_temperature, 'C')\n",
        "\n",
        "heatEx = heatExchanger(inletheater.getOutStream())\n",
        "heatEx.setName(\"cross heat-exchanger\")\n",
        "heatEx.setGuessOutTemperature(273.15 - 30.0)\n",
        "heatEx.setUAvalue(3000e3) #assumes an UA vlue of 3000 MW/m2K\n",
        "\n",
        "expanderKarsto = expander(heatEx.getOutStream(0), pressureNGL)\n",
        "expanderKarsto.setOutletPressure(pressureNGL)\n",
        "expanderKarsto.setIsentropicEfficiency(0.75) # assume same efficiency as for compressors\n",
        "\n",
        "scrubberNGL = separator(expanderKarsto.getOutletStream())\n",
        "\n",
        "recyOut = stream(scrubberNGL.getGasOutStream().clone())\n",
        "\n",
        "gasResycle = recycle2(\"gas resycle\")\n",
        "gasResycle.addStream(scrubberNGL.getGasOutStream())\n",
        "gasResycle.setOutletStream(recyOut)\n",
        "\n",
        "heatEx.setFeedStream(1, recyOut)\n",
        "\n",
        "gasfromdeethanizer = stream(heatEx.getOutStream(1).clone())\n",
        "\n",
        "gasmixer = mixer('gas mixer')\n",
        "gasmixer.addStream(heatEx.getOutStream(1))\n",
        "gasmixer.addStream(gasfromdeethanizer)\n",
        "\n",
        "dryGasExportCompressor = compressor(gasmixer.getOutletStream())\n",
        "dryGasExportCompressor.setOutletPressure(100.0, 'bara')\n",
        "dryGasExportCompressor.setIsentropicEfficiency(0.75)\n",
        "\n",
        "exportDryGas = stream(dryGasExportCompressor.getOutStream())\n",
        "\n",
        "NGLvalve1 = valve(scrubberNGL.getLiquidOutStream())\n",
        "NGLvalve1.setOutletPressure(30.0)\n",
        "\n",
        "#FRACTIONATION PROCESS\n",
        "deethanizer = distillationColumn(trays=5, reboil=True, condenser=False, name=\"deethanizer\")\n",
        "deethanizer.addFeedStream(NGLvalve1.getOutStream(),5)\n",
        "deethanizer.getReboiler().setOutTemperature(273.15+105.0)\n",
        "deethanizer.setTopPressure(30.0)\n",
        "deethanizer.setBottomPressure(32.0)\n",
        "\n",
        "compressorgasdeethanizer = compressor(deethanizer.getGasOutStream())\n",
        "compressorgasdeethanizer.setOutletPressure(pressureNGL, 'bara')\n",
        "\n",
        "nglGasResycle = recycle2(\"gas resycle 2\")\n",
        "nglGasResycle.addStream(compressorgasdeethanizer.getOutStream())\n",
        "nglGasResycle.setOutletStream(gasfromdeethanizer)\n",
        "\n",
        "valvetodebutanizer = valve(deethanizer.getLiquidOutStream())\n",
        "valvetodebutanizer.setOutletPressure(14.0)\n",
        "\n",
        "debutanizer = distillationColumn(trays=10, reboil=True, condenser=True, name=\"debutanizer\")\n",
        "debutanizer.addFeedStream(valvetodebutanizer.getOutStream(),9)\n",
        "debutanizer.getCondenser().setRefluxRatio(0.1)\n",
        "debutanizer.getCondenser().setTotalCondenser(True)\n",
        "debutanizer.getReboiler().setOutTemperature(273.15+163.0);\n",
        "debutanizer.setTopPressure(12.8)\n",
        "debutanizer.setBottomPressure(15.0)\n",
        "\n",
        "onshoreprocess = getProcess()"
      ],
      "metadata": {
        "id": "tleYRy8NsXwB"
      },
      "execution_count": 10,
      "outputs": []
    },
    {
      "cell_type": "code",
      "source": [
        "thread = onshoreprocess.runAsThread()\n",
        "thread.join(60 * 60 * 1000)   # 60 min maks tid"
      ],
      "metadata": {
        "id": "GlN-crUKuTxc"
      },
      "execution_count": 11,
      "outputs": []
    },
    {
      "cell_type": "code",
      "source": [
        "#mass balance onshore process should be close to 0% lost\n",
        "massbalanceonshore = (feedstream.getFlowRate('kg/hr') - exportDryGas.getFlowRate('kg/hr') - debutanizer.getLiquidOutStream().getFlowRate('kg/hr') - debutanizer.getGasOutStream().getFlowRate('kg/hr') )/feedstream.getFlowRate('kg/hr')\n",
        "\n",
        "print('mass lost % ',massbalanceonshore*100)"
      ],
      "metadata": {
        "colab": {
          "base_uri": "https://localhost:8080/"
        },
        "id": "CsSR1Tdbugu6",
        "outputId": "054bded2-7565-4261-acb5-c34379a0fbbe"
      },
      "execution_count": 12,
      "outputs": [
        {
          "output_type": "stream",
          "name": "stdout",
          "text": [
            "mass lost %  0.4965471601187552\n"
          ]
        }
      ]
    },
    {
      "cell_type": "code",
      "source": [
        "print('feed gas rate ', feedstream.getFlowRate('MSm3/day'), ' MSm3/day')\n",
        "printFrame(inletheater.getOutStream().getFluid())"
      ],
      "metadata": {
        "colab": {
          "base_uri": "https://localhost:8080/"
        },
        "id": "FBzGd49guj3x",
        "outputId": "b02b5654-2730-4fca-a281-1207f2fa15ff"
      },
      "execution_count": 13,
      "outputs": [
        {
          "output_type": "stream",
          "name": "stdout",
          "text": [
            "feed gas rate  10.000000000000002  MSm3/day\n",
            "| 0                  | 1           | 2           | 3           | 4   | 5   | 6               |\n",
            "|:-------------------|:------------|:------------|:------------|:----|:----|:----------------|\n",
            "|                    | total       | GAS         | OIL         |     |     |                 |\n",
            "| nitrogen           | 9.03421E-3  | 9.03421E-3  | 1.55259E-3  |     |     | [mole fraction] |\n",
            "| CO2                | 7.72754E-5  | 7.72754E-5  | 6.91749E-5  |     |     | [mole fraction] |\n",
            "| methane            | 8.7205E-1   | 8.7205E-1   | 3.67397E-1  |     |     | [mole fraction] |\n",
            "| ethane             | 7.5403E-2   | 7.5403E-2   | 1.02593E-1  |     |     | [mole fraction] |\n",
            "| propane            | 2.9109E-2   | 2.9109E-2   | 8.74908E-2  |     |     | [mole fraction] |\n",
            "| i-butane           | 3.88989E-3  | 3.88989E-3  | 1.93784E-2  |     |     | [mole fraction] |\n",
            "| n-butane           | 6.06717E-3  | 6.06717E-3  | 4.00908E-2  |     |     | [mole fraction] |\n",
            "| i-pentane          | 1.42372E-3  | 1.42372E-3  | 1.60965E-2  |     |     | [mole fraction] |\n",
            "| n-pentane          | 1.39327E-3  | 1.39327E-3  | 1.9193E-2   |     |     | [mole fraction] |\n",
            "| n-hexane           | 8.00734E-4  | 8.00734E-4  | 2.24893E-2  |     |     | [mole fraction] |\n",
            "| C7_PC              | 3.67772E-4  | 3.67772E-4  | 3.13162E-2  |     |     | [mole fraction] |\n",
            "| C8_PC              | 2.14576E-4  | 2.14576E-4  | 3.31522E-2  |     |     | [mole fraction] |\n",
            "| C9_PC              | 7.44537E-5  | 7.44537E-5  | 2.0369E-2   |     |     | [mole fraction] |\n",
            "| C10-C11_PC         | 6.68349E-5  | 6.68348E-5  | 4.11648E-2  |     |     | [mole fraction] |\n",
            "| C12-C13_PC         | 2.03563E-5  | 2.03563E-5  | 3.63354E-2  |     |     | [mole fraction] |\n",
            "| C14-C15_PC         | 5.83716E-6  | 5.83716E-6  | 3.17872E-2  |     |     | [mole fraction] |\n",
            "| C16-C18_PC         | 1.74052E-6  | 1.74051E-6  | 3.98482E-2  |     |     | [mole fraction] |\n",
            "| C19-C20_PC         | 2.14389E-7  | 2.14386E-7  | 2.18027E-2  |     |     | [mole fraction] |\n",
            "| C21-C23_PC         | 5.69227E-8  | 5.6918E-8   | 2.66005E-2  |     |     | [mole fraction] |\n",
            "| C24-C29_PC         | 5.54051E-9  | 5.53421E-9  | 3.62426E-2  |     |     | [mole fraction] |\n",
            "| C30_PC             | 9.70159E-13 | 9.56546E-14 | 5.03081E-3  |     |     | [mole fraction] |\n",
            "|                    |             |             |             |     |     |                 |\n",
            "| Density            |             | 1.10565E2   | 6.99538E2   |     |     | [kg/m^3]        |\n",
            "| PhaseFraction      |             | 1E0         | 1.73829E-10 |     |     | [mole fraction] |\n",
            "| MolarMass          | 1.87334E1   | 1.87334E1   | 8.88176E1   |     |     | [kg/kmol]       |\n",
            "| Z factor           |             | 7.69596E-1  | 6.34752E-1  |     |     | [-]             |\n",
            "| Heat Capacity (Cp) |             | 3.36459E0   | 2.17529E0   |     |     | [kJ/kg*K]       |\n",
            "| Heat Capacity (Cv) |             | 1.76147E0   | 1.86912E0   |     |     | [kJ/kg*K]       |\n",
            "| Speed of Sound     |             | 4.08497E2   | 9.69855E2   |     |     | [m/sec]         |\n",
            "| Enthalpy           | -1.00783E2  | -1.00783E2  | -3.15481E2  |     |     | [kJ/kg]         |\n",
            "| Entropy            | -2.05991E0  | -2.05991E0  | -7.76539E-1 |     |     | [kJ/kg*K]       |\n",
            "| JT coefficient     |             | 3.5695E-1   | -4.8539E-2  |     |     | [K/bar]         |\n",
            "|                    |             |             |             |     |     |                 |\n",
            "| Viscosity          |             | 1.53143E-5  | 3.86057E-4  |     |     | [kg/m*sec]      |\n",
            "| Conductivity       |             | 4.62069E-2  | 1.12945E-1  |     |     | [W/m*K]         |\n",
            "| SurfaceTension     |             | 2.43045E-2  | 2.43045E-2  |     |     | [N/m]           |\n",
            "|                    |             |             |             |     |     |                 |\n",
            "|                    |             |             |             |     |     |                 |\n",
            "|                    |             |             |             |     |     |                 |\n",
            "| Pressure           |             | 110.0       | 110.0       |     |     | [bar]           |\n",
            "| Temperature        |             | 293.15      | 293.15      |     |     | [K]             |\n",
            "|                    |             |             |             |     |     |                 |\n",
            "| Model              |             | SRK-EOS     | SRK-EOS     |     |     | -               |\n",
            "| Mixing Rule        |             | classic     | classic     |     |     | -               |\n",
            "|                    |             |             |             |     |     |                 |\n",
            "| Stream             |             |             |             |     |     | -               |\n",
            "|                    |             |             |             |     |     |                 |\n",
            "|                    |             |             |             |     |     |                 |\n",
            "|                    |             |             |             |     |     |                 |\n",
            "|                    |             |             |             |     |     |                 |\n"
          ]
        }
      ]
    },
    {
      "cell_type": "code",
      "source": [
        "#De-ethanizer results\n",
        "print('gas from deethanizer')\n",
        "printFrame(deethanizer.getGasOutStream().getFluid())\n",
        "print('liquid from deethanizer')\n",
        "printFrame(deethanizer.getLiquidOutStream().getFluid())"
      ],
      "metadata": {
        "colab": {
          "base_uri": "https://localhost:8080/"
        },
        "id": "FW6U3GzwuluB",
        "outputId": "59c79687-0ee1-4422-c339-c0e2b7de19cb"
      },
      "execution_count": 14,
      "outputs": [
        {
          "output_type": "stream",
          "name": "stdout",
          "text": [
            "gas from deethanizer\n",
            "| 0                  | 1           | 2                  | 3   | 4   | 5   | 6               |\n",
            "|:-------------------|:------------|:-------------------|:----|:----|:----|:----------------|\n",
            "|                    | total       | GAS                |     |     |     |                 |\n",
            "| nitrogen           | 2.78545E-3  | 2.78545E-3         |     |     |     | [mole fraction] |\n",
            "| CO2                | 1.45524E-4  | 1.45524E-4         |     |     |     | [mole fraction] |\n",
            "| methane            | 7.23315E-1  | 7.23315E-1         |     |     |     | [mole fraction] |\n",
            "| ethane             | 2.17227E-1  | 2.17227E-1         |     |     |     | [mole fraction] |\n",
            "| propane            | 5.17951E-2  | 5.17951E-2         |     |     |     | [mole fraction] |\n",
            "| i-butane           | 2.16869E-3  | 2.16869E-3         |     |     |     | [mole fraction] |\n",
            "| n-butane           | 2.21223E-3  | 2.21223E-3         |     |     |     | [mole fraction] |\n",
            "| i-pentane          | 1.91244E-4  | 1.91244E-4         |     |     |     | [mole fraction] |\n",
            "| n-pentane          | 1.36901E-4  | 1.36901E-4         |     |     |     | [mole fraction] |\n",
            "| n-hexane           | 2.07338E-5  | 2.07338E-5         |     |     |     | [mole fraction] |\n",
            "| C7_PC              | 1.58833E-6  | 1.58833E-6         |     |     |     | [mole fraction] |\n",
            "| C8_PC              | 2.88493E-7  | 2.88493E-7         |     |     |     | [mole fraction] |\n",
            "| C9_PC              | 3.24349E-8  | 3.24349E-8         |     |     |     | [mole fraction] |\n",
            "| C10-C11_PC         | 5.84912E-9  | 5.84912E-9         |     |     |     | [mole fraction] |\n",
            "| C12-C13_PC         | 2.2806E-10  | 2.2806E-10         |     |     |     | [mole fraction] |\n",
            "| C14-C15_PC         | 8.07002E-12 | 8.07002E-12        |     |     |     | [mole fraction] |\n",
            "| C16-C18_PC         | 1.78981E-13 | 1.78981E-13        |     |     |     | [mole fraction] |\n",
            "| C19-C20_PC         | 1.6562E-15  | 1.6562E-15         |     |     |     | [mole fraction] |\n",
            "| C21-C23_PC         | 3.3666E-17  | 3.3666E-17         |     |     |     | [mole fraction] |\n",
            "| C24-C29_PC         | 4.35574E-20 | 4.35574E-20        |     |     |     | [mole fraction] |\n",
            "| C30_PC             | 6.20917E-30 | 6.20917E-30        |     |     |     | [mole fraction] |\n",
            "|                    |             |                    |     |     |     |                 |\n",
            "| Density            |             | 3.6111E1           |     |     |     | [kg/m^3]        |\n",
            "| PhaseFraction      |             | 1E0                |     |     |     | [mole fraction] |\n",
            "| MolarMass          | 2.07849E1   | 2.07849E1          |     |     |     | [kg/kmol]       |\n",
            "| Z factor           |             | 8.22243E-1         |     |     |     | [-]             |\n",
            "| Heat Capacity (Cp) |             | 2.40051E0          |     |     |     | [kJ/kg*K]       |\n",
            "| Heat Capacity (Cv) |             | 1.52031E0          |     |     |     | [kJ/kg*K]       |\n",
            "| Speed of Sound     |             | 3.25516E2          |     |     |     | [m/sec]         |\n",
            "| Enthalpy           | -9.61456E1  | -9.61456E1         |     |     |     | [kJ/kg]         |\n",
            "| Entropy            | -1.355E0    | -1.355E0           |     |     |     | [kJ/kg*K]       |\n",
            "| JT coefficient     |             | 9.50898E-1         |     |     |     | [K/bar]         |\n",
            "|                    |             |                    |     |     |     |                 |\n",
            "| Viscosity          |             | 1.02232E-5         |     |     |     | [kg/m*sec]      |\n",
            "| Conductivity       |             | 2.90975E-2         |     |     |     | [W/m*K]         |\n",
            "| SurfaceTension     |             |                    |     |     |     | [N/m]           |\n",
            "|                    |             |                    |     |     |     |                 |\n",
            "|                    |             |                    |     |     |     |                 |\n",
            "|                    |             |                    |     |     |     |                 |\n",
            "| Pressure           |             | 30.0               |     |     |     | [bar]           |\n",
            "| Temperature        |             | 253.18297533116205 |     |     |     | [K]             |\n",
            "|                    |             |                    |     |     |     |                 |\n",
            "| Model              |             | SRK-EOS            |     |     |     | -               |\n",
            "| Mixing Rule        |             | classic            |     |     |     | -               |\n",
            "|                    |             |                    |     |     |     |                 |\n",
            "| Stream             |             |                    |     |     |     | -               |\n",
            "|                    |             |                    |     |     |     |                 |\n",
            "|                    |             |                    |     |     |     |                 |\n",
            "|                    |             |                    |     |     |     |                 |\n",
            "|                    |             |                    |     |     |     |                 |\n",
            "liquid from deethanizer\n",
            "| 0                  | 1           | 2           | 3   | 4   | 5   | 6               |\n",
            "|:-------------------|:------------|:------------|:----|:----|:----|:----------------|\n",
            "|                    | total       | GAS         |     |     |     |                 |\n",
            "| nitrogen           | 2.98752E-8  | 2.98752E-8  |     |     |     | [mole fraction] |\n",
            "| CO2                | 1.81938E-6  | 1.81938E-6  |     |     |     | [mole fraction] |\n",
            "| methane            | 4.37404E-4  | 4.37404E-4  |     |     |     | [mole fraction] |\n",
            "| ethane             | 4.92334E-2  | 4.92334E-2  |     |     |     | [mole fraction] |\n",
            "| propane            | 5.00527E-1  | 5.00527E-1  |     |     |     | [mole fraction] |\n",
            "| i-butane           | 1.10666E-1  | 1.10666E-1  |     |     |     | [mole fraction] |\n",
            "| n-butane           | 1.87067E-1  | 1.87067E-1  |     |     |     | [mole fraction] |\n",
            "| i-pentane          | 4.83271E-2  | 4.83271E-2  |     |     |     | [mole fraction] |\n",
            "| n-pentane          | 4.80769E-2  | 4.80769E-2  |     |     |     | [mole fraction] |\n",
            "| n-hexane           | 2.85459E-2  | 2.85459E-2  |     |     |     | [mole fraction] |\n",
            "| C7_PC              | 1.32539E-2  | 1.32539E-2  |     |     |     | [mole fraction] |\n",
            "| C8_PC              | 7.74351E-3  | 7.74351E-3  |     |     |     | [mole fraction] |\n",
            "| C9_PC              | 2.68799E-3  | 2.68799E-3  |     |     |     | [mole fraction] |\n",
            "| C10-C11_PC         | 2.41334E-3  | 2.41334E-3  |     |     |     | [mole fraction] |\n",
            "| C12-C13_PC         | 7.35073E-4  | 7.35073E-4  |     |     |     | [mole fraction] |\n",
            "| C14-C15_PC         | 2.10783E-4  | 2.10783E-4  |     |     |     | [mole fraction] |\n",
            "| C16-C18_PC         | 6.28511E-5  | 6.28511E-5  |     |     |     | [mole fraction] |\n",
            "| C19-C20_PC         | 7.74174E-6  | 7.74174E-6  |     |     |     | [mole fraction] |\n",
            "| C21-C23_PC         | 2.05551E-6  | 2.05551E-6  |     |     |     | [mole fraction] |\n",
            "| C24-C29_PC         | 2.00071E-7  | 2.00071E-7  |     |     |     | [mole fraction] |\n",
            "| C30_PC             | 3.50331E-11 | 3.50331E-11 |     |     |     | [mole fraction] |\n",
            "|                    |             |             |     |     |     |                 |\n",
            "| Density            |             | 3.71595E2   |     |     |     | [kg/m^3]        |\n",
            "| PhaseFraction      |             | 1E0         |     |     |     | [mole fraction] |\n",
            "| MolarMass          | 5.33346E1   | 5.33346E1   |     |     |     | [kg/kmol]       |\n",
            "| Z factor           |             | 1.53386E-1  |     |     |     | [-]             |\n",
            "| Heat Capacity (Cp) |             | 4.02745E0   |     |     |     | [kJ/kg*K]       |\n",
            "| Heat Capacity (Cv) |             | 2.08206E0   |     |     |     | [kJ/kg*K]       |\n",
            "| Speed of Sound     |             | 3.1646E2    |     |     |     | [m/sec]         |\n",
            "| Enthalpy           | -8.80142E1  | -8.80142E1  |     |     |     | [kJ/kg]         |\n",
            "| Entropy            | -3.63747E-1 | -3.63747E-1 |     |     |     | [kJ/kg*K]       |\n",
            "| JT coefficient     |             | 1.94312E-1  |     |     |     | [K/bar]         |\n",
            "|                    |             |             |     |     |     |                 |\n",
            "| Viscosity          |             | 5.28191E-5  |     |     |     | [kg/m*sec]      |\n",
            "| Conductivity       |             | 6.38675E-2  |     |     |     | [W/m*K]         |\n",
            "| SurfaceTension     |             |             |     |     |     | [N/m]           |\n",
            "|                    |             |             |     |     |     |                 |\n",
            "|                    |             |             |     |     |     |                 |\n",
            "|                    |             |             |     |     |     |                 |\n",
            "| Pressure           |             | 32.0        |     |     |     | [bar]           |\n",
            "| Temperature        |             | 378.15      |     |     |     | [K]             |\n",
            "|                    |             |             |     |     |     |                 |\n",
            "| Model              |             | SRK-EOS     |     |     |     | -               |\n",
            "| Mixing Rule        |             | classic     |     |     |     | -               |\n",
            "|                    |             |             |     |     |     |                 |\n",
            "| Stream             |             |             |     |     |     | -               |\n",
            "|                    |             |             |     |     |     |                 |\n",
            "|                    |             |             |     |     |     |                 |\n",
            "|                    |             |             |     |     |     |                 |\n",
            "|                    |             |             |     |     |     |                 |\n"
          ]
        }
      ]
    },
    {
      "cell_type": "code",
      "source": [
        "#debutanizer results\n",
        "print('LPG from top debutanizer ')\n",
        "printFrame(debutanizer.getGasOutStream().getFluid())\n",
        "print('C5+ from bottom debutanizer ')\n",
        "printFrame(debutanizer.getLiquidOutStream().getFluid())"
      ],
      "metadata": {
        "colab": {
          "base_uri": "https://localhost:8080/"
        },
        "id": "o0gkXVNHun1S",
        "outputId": "ea78e2e4-9108-4d94-d490-19d3e52857eb"
      },
      "execution_count": 15,
      "outputs": [
        {
          "output_type": "stream",
          "name": "stdout",
          "text": [
            "LPG from top debutanizer \n",
            "| 0                  | 1           | 2                  | 3   | 4   | 5   | 6               |\n",
            "|:-------------------|:------------|:-------------------|:----|:----|:----|:----------------|\n",
            "|                    | total       | OIL                |     |     |     |                 |\n",
            "| nitrogen           | 3.11266E-8  | 3.11266E-8         |     |     |     | [mole fraction] |\n",
            "| CO2                | 1.94625E-6  | 1.94625E-6         |     |     |     | [mole fraction] |\n",
            "| methane            | 4.60158E-4  | 4.60158E-4         |     |     |     | [mole fraction] |\n",
            "| ethane             | 5.46086E-2  | 5.46086E-2         |     |     |     | [mole fraction] |\n",
            "| propane            | 6.1516E-1   | 6.1516E-1          |     |     |     | [mole fraction] |\n",
            "| i-butane           | 1.17164E-1  | 1.17164E-1         |     |     |     | [mole fraction] |\n",
            "| n-butane           | 1.65591E-1  | 1.65591E-1         |     |     |     | [mole fraction] |\n",
            "| i-pentane          | 2.3177E-2   | 2.3177E-2          |     |     |     | [mole fraction] |\n",
            "| n-pentane          | 1.91069E-2  | 1.91069E-2         |     |     |     | [mole fraction] |\n",
            "| n-hexane           | 4.19543E-3  | 4.19543E-3         |     |     |     | [mole fraction] |\n",
            "| C7_PC              | 4.55349E-4  | 4.55349E-4         |     |     |     | [mole fraction] |\n",
            "| C8_PC              | 7.29745E-5  | 7.29745E-5         |     |     |     | [mole fraction] |\n",
            "| C9_PC              | 6.64386E-6  | 6.64386E-6         |     |     |     | [mole fraction] |\n",
            "| C10-C11_PC         | 8.22397E-7  | 8.22397E-7         |     |     |     | [mole fraction] |\n",
            "| C12-C13_PC         | 1.89524E-8  | 1.89524E-8         |     |     |     | [mole fraction] |\n",
            "| C14-C15_PC         | 3.89201E-10 | 3.89201E-10        |     |     |     | [mole fraction] |\n",
            "| C16-C18_PC         | 4.40473E-12 | 4.40473E-12        |     |     |     | [mole fraction] |\n",
            "| C19-C20_PC         | 2.09312E-14 | 2.09312E-14        |     |     |     | [mole fraction] |\n",
            "| C21-C23_PC         | 2.19071E-16 | 2.19071E-16        |     |     |     | [mole fraction] |\n",
            "| C24-C29_PC         | 9.11367E-20 | 9.11367E-20        |     |     |     | [mole fraction] |\n",
            "| C30_PC             | 2.18831E-31 | 2.18831E-31        |     |     |     | [mole fraction] |\n",
            "|                    |             |                    |     |     |     |                 |\n",
            "| Density            |             | 4.73819E2          |     |     |     | [kg/m^3]        |\n",
            "| PhaseFraction      |             | 1E0                |     |     |     | [mole fraction] |\n",
            "| MolarMass          | 4.86771E1   | 4.86771E1          |     |     |     | [kg/kmol]       |\n",
            "| Z factor           |             | 5.36907E-2         |     |     |     | [-]             |\n",
            "| Heat Capacity (Cp) |             | 2.94442E0          |     |     |     | [kJ/kg*K]       |\n",
            "| Heat Capacity (Cv) |             | 1.88018E0          |     |     |     | [kJ/kg*K]       |\n",
            "| Speed of Sound     |             | 5.08905E2          |     |     |     | [m/sec]         |\n",
            "| Enthalpy           | -2.73425E2  | -2.73425E2         |     |     |     | [kJ/kg]         |\n",
            "| Entropy            | -1.01149E0  | -1.01149E0         |     |     |     | [kJ/kg*K]       |\n",
            "| JT coefficient     |             | 3.24682E-2         |     |     |     | [K/bar]         |\n",
            "|                    |             |                    |     |     |     |                 |\n",
            "| Viscosity          |             | 8.49127E-5         |     |     |     | [kg/m*sec]      |\n",
            "| Conductivity       |             | 8.06893E-2         |     |     |     | [W/m*K]         |\n",
            "| SurfaceTension     |             |                    |     |     |     | [N/m]           |\n",
            "|                    |             |                    |     |     |     |                 |\n",
            "|                    |             |                    |     |     |     |                 |\n",
            "|                    |             |                    |     |     |     |                 |\n",
            "| Pressure           |             | 13.0               |     |     |     | [bar]           |\n",
            "| Temperature        |             | 316.78432366518234 |     |     |     | [K]             |\n",
            "|                    |             |                    |     |     |     |                 |\n",
            "| Model              |             | SRK-EOS            |     |     |     | -               |\n",
            "| Mixing Rule        |             | classic            |     |     |     | -               |\n",
            "|                    |             |                    |     |     |     |                 |\n",
            "| Stream             |             |                    |     |     |     | -               |\n",
            "|                    |             |                    |     |     |     |                 |\n",
            "|                    |             |                    |     |     |     |                 |\n",
            "|                    |             |                    |     |     |     |                 |\n",
            "|                    |             |                    |     |     |     |                 |\n",
            "C5+ from bottom debutanizer \n",
            "| 0                  | 1           | 2           | 3   | 4   | 5   | 6               |\n",
            "|:-------------------|:------------|:------------|:----|:----|:----|:----------------|\n",
            "|                    | total       | OIL         |     |     |     |                 |\n",
            "| nitrogen           | 4.58788E-20 | 4.58788E-20 |     |     |     | [mole fraction] |\n",
            "| CO2                | 1.81635E-13 | 1.81635E-13 |     |     |     | [mole fraction] |\n",
            "| methane            | 6.22469E-13 | 6.22469E-13 |     |     |     | [mole fraction] |\n",
            "| ethane             | 7.06881E-7  | 7.06881E-7  |     |     |     | [mole fraction] |\n",
            "| propane            | 5.07269E-3  | 5.07269E-3  |     |     |     | [mole fraction] |\n",
            "| i-butane           | 3.65166E-2  | 3.65166E-2  |     |     |     | [mole fraction] |\n",
            "| n-butane           | 1.35413E-1  | 1.35413E-1  |     |     |     | [mole fraction] |\n",
            "| i-pentane          | 1.30644E-1  | 1.30644E-1  |     |     |     | [mole fraction] |\n",
            "| n-pentane          | 1.6236E-1   | 1.6236E-1   |     |     |     | [mole fraction] |\n",
            "| n-hexane           | 1.90177E-1  | 1.90177E-1  |     |     |     | [mole fraction] |\n",
            "| C7_PC              | 1.2673E-1   | 1.2673E-1   |     |     |     | [mole fraction] |\n",
            "| C8_PC              | 9.29762E-2  | 9.29762E-2  |     |     |     | [mole fraction] |\n",
            "| C9_PC              | 3.98994E-2  | 3.98994E-2  |     |     |     | [mole fraction] |\n",
            "| C10-C11_PC         | 4.86202E-2  | 4.86202E-2  |     |     |     | [mole fraction] |\n",
            "| C12-C13_PC         | 2.10445E-2  | 2.10445E-2  |     |     |     | [mole fraction] |\n",
            "| C14-C15_PC         | 7.66454E-3  | 7.66454E-3  |     |     |     | [mole fraction] |\n",
            "| C16-C18_PC         | 2.51414E-3  | 2.51414E-3  |     |     |     | [mole fraction] |\n",
            "| C19-C20_PC         | 2.90904E-4  | 2.90904E-4  |     |     |     | [mole fraction] |\n",
            "| C21-C23_PC         | 6.96708E-5  | 6.96708E-5  |     |     |     | [mole fraction] |\n",
            "| C24-C29_PC         | 6.13797E-6  | 6.13797E-6  |     |     |     | [mole fraction] |\n",
            "| C30_PC             | 1.0406E-9   | 1.0406E-9   |     |     |     | [mole fraction] |\n",
            "|                    |             |             |     |     |     |                 |\n",
            "| Density            |             | 4.97565E2   |     |     |     | [kg/m^3]        |\n",
            "| PhaseFraction      |             | 1E0         |     |     |     | [mole fraction] |\n",
            "| MolarMass          | 8.87331E1   | 8.87331E1   |     |     |     | [kg/kmol]       |\n",
            "| Z factor           |             | 8.04815E-2  |     |     |     | [-]             |\n",
            "| Heat Capacity (Cp) |             | 3.12589E0   |     |     |     | [kJ/kg*K]       |\n",
            "| Heat Capacity (Cv) |             | 2.337E0     |     |     |     | [kJ/kg*K]       |\n",
            "| Speed of Sound     |             | 3.92433E2   |     |     |     | [m/sec]         |\n",
            "| Enthalpy           | 1.59683E1   | 1.59683E1   |     |     |     | [kJ/kg]         |\n",
            "| Entropy            | 2.11499E-1  | 2.11499E-1  |     |     |     | [kJ/kg*K]       |\n",
            "| JT coefficient     |             | 5.11166E-2  |     |     |     | [K/bar]         |\n",
            "|                    |             |             |     |     |     |                 |\n",
            "| Viscosity          |             | 9.68452E-5  |     |     |     | [kg/m*sec]      |\n",
            "| Conductivity       |             | 6.92236E-2  |     |     |     | [W/m*K]         |\n",
            "| SurfaceTension     |             |             |     |     |     | [N/m]           |\n",
            "|                    |             |             |     |     |     |                 |\n",
            "|                    |             |             |     |     |     |                 |\n",
            "|                    |             |             |     |     |     |                 |\n",
            "| Pressure           |             | 15.0        |     |     |     | [bar]           |\n",
            "| Temperature        |             | 436.15      |     |     |     | [K]             |\n",
            "|                    |             |             |     |     |     |                 |\n",
            "| Model              |             | SRK-EOS     |     |     |     | -               |\n",
            "| Mixing Rule        |             | classic     |     |     |     | -               |\n",
            "|                    |             |             |     |     |     |                 |\n",
            "| Stream             |             |             |     |     |     | -               |\n",
            "|                    |             |             |     |     |     |                 |\n",
            "|                    |             |             |     |     |     |                 |\n",
            "|                    |             |             |     |     |     |                 |\n",
            "|                    |             |             |     |     |     |                 |\n"
          ]
        }
      ]
    },
    {
      "cell_type": "code",
      "source": [
        "print('propane in dry export gas ', exportDryGas.getFluid().getComponent('propane').getx()*100.0, ' mol%')\n",
        "print('LPG production rat ', debutanizer.getGasOutStream().getFlowRate('idSm3/hr')*24.0 , ' Sm3/day')\n",
        "print('C5+ rate ', debutanizer.getLiquidOutStream().getFlowRate('idSm3/hr')*24.0, ' Sm3/day')\n",
        "print('temperature in NGL scrubber ', expanderKarsto.getOutStream().getTemperature('C'))\n",
        "print('temperature LPG extraction reflux condenser ', debutanizer.getGasOutStream().getTemperature('C'))\n",
        "print('GCV ', exportDryGas.GCV()/1e6, ' MJ/m3')\n",
        "\n",
        "print('duty deethanizer reboiler ', deethanizer.getReboiler().getDuty()/1e6, ' MW')\n",
        "print('duty debutanizer reboiler ', debutanizer.getReboiler().getDuty()/1e6, ' MW')\n",
        "print('duty debutanizer condenser ', debutanizer.getCondenser().getDuty()/1e6, ' MW')\n",
        "propaneRecovery = 1.0 - exportDryGas.getFluid().getComponent('propane').getNumberOfmoles()/feedstream.getFluid().getComponent('propane').getNumberOfmoles()\n",
        "ibutaneRecovery = 1.0 - exportDryGas.getFluid().getComponent('i-butane').getNumberOfmoles()/feedstream.getFluid().getComponent('i-butane').getNumberOfmoles()\n",
        "nbutaneRecovery = 1.0 - exportDryGas.getFluid().getComponent('n-butane').getNumberOfmoles()/feedstream.getFluid().getComponent('n-butane').getNumberOfmoles()\n",
        "print('propane recovery ' ,propaneRecovery)\n",
        "print('i-butane recovery ' ,ibutaneRecovery)\n",
        "print('n-butane recovery ' ,nbutaneRecovery)"
      ],
      "metadata": {
        "colab": {
          "base_uri": "https://localhost:8080/"
        },
        "id": "O5evRLUku4Fo",
        "outputId": "bae9fd4f-c8b3-486a-8fad-f08861c0fd62"
      },
      "execution_count": 16,
      "outputs": [
        {
          "output_type": "stream",
          "name": "stdout",
          "text": [
            "propane in dry export gas  1.5676944799207406  mol%\n",
            "LPG production rat  922.1760915669067  Sm3/day\n",
            "C5+ rate  50.18916804695333  Sm3/day\n",
            "temperature in NGL scrubber  -56.627611494795445\n",
            "temperature LPG extraction reflux condenser  43.634323665182364\n",
            "GCV  42.912603551551626  MJ/m3\n",
            "duty deethanizer reboiler  8.928232469927742  MW\n",
            "duty debutanizer reboiler  2.4773622557589494  MW\n",
            "duty debutanizer condenser  -2.4784755187465883  MW\n",
            "propane recovery  0.4763538860091807\n",
            "i-butane recovery  0.7878657540164207\n",
            "n-butane recovery  0.8538597722977967\n"
          ]
        }
      ]
    },
    {
      "cell_type": "code",
      "source": [
        "print('export gas')\n",
        "printFrame(exportDryGas.getFluid())"
      ],
      "metadata": {
        "colab": {
          "base_uri": "https://localhost:8080/"
        },
        "id": "T6A4HStfu6v4",
        "outputId": "1a7d88e0-f720-4b8a-9989-7759b3c4a1e2"
      },
      "execution_count": 17,
      "outputs": [
        {
          "output_type": "stream",
          "name": "stdout",
          "text": [
            "export gas\n",
            "| 0                  | 1           | 2                  | 3   | 4   | 5   | 6               |\n",
            "|:-------------------|:------------|:-------------------|:----|:----|:----|:----------------|\n",
            "|                    | total       | GAS                |     |     |     |                 |\n",
            "| nitrogen           | 9.29151E-3  | 9.29151E-3         |     |     |     | [mole fraction] |\n",
            "| CO2                | 7.94248E-5  | 7.94248E-5         |     |     |     | [mole fraction] |\n",
            "| methane            | 8.96874E-1  | 8.96874E-1         |     |     |     | [mole fraction] |\n",
            "| ethane             | 7.61544E-2  | 7.61544E-2         |     |     |     | [mole fraction] |\n",
            "| propane            | 1.56769E-2  | 1.56769E-2         |     |     |     | [mole fraction] |\n",
            "| i-butane           | 8.48681E-4  | 8.48681E-4         |     |     |     | [mole fraction] |\n",
            "| n-butane           | 9.1191E-4   | 9.1191E-4          |     |     |     | [mole fraction] |\n",
            "| i-pentane          | 8.7829E-5   | 8.7829E-5          |     |     |     | [mole fraction] |\n",
            "| n-pentane          | 6.36373E-5  | 6.36373E-5         |     |     |     | [mole fraction] |\n",
            "| n-hexane           | 1.05073E-5  | 1.05073E-5         |     |     |     | [mole fraction] |\n",
            "| C7_PC              | 7.54535E-7  | 7.54535E-7         |     |     |     | [mole fraction] |\n",
            "| C8_PC              | 1.41282E-7  | 1.41282E-7         |     |     |     | [mole fraction] |\n",
            "| C9_PC              | 1.63193E-8  | 1.63193E-8         |     |     |     | [mole fraction] |\n",
            "| C10-C11_PC         | 3.05124E-9  | 3.05124E-9         |     |     |     | [mole fraction] |\n",
            "| C12-C13_PC         | 1.24311E-10 | 1.24311E-10        |     |     |     | [mole fraction] |\n",
            "| C14-C15_PC         | 4.59438E-12 | 4.59438E-12        |     |     |     | [mole fraction] |\n",
            "| C16-C18_PC         | 1.07556E-13 | 1.07556E-13        |     |     |     | [mole fraction] |\n",
            "| C19-C20_PC         | 1.05189E-15 | 1.05189E-15        |     |     |     | [mole fraction] |\n",
            "| C21-C23_PC         | 2.26532E-17 | 2.26532E-17        |     |     |     | [mole fraction] |\n",
            "| C24-C29_PC         | 3.2598E-20  | 3.2598E-20         |     |     |     | [mole fraction] |\n",
            "| C30_PC             | 7.58093E-30 | 7.58093E-30        |     |     |     | [mole fraction] |\n",
            "|                    |             |                    |     |     |     |                 |\n",
            "| Density            |             | 6.52442E1          |     |     |     | [kg/m^3]        |\n",
            "| PhaseFraction      |             | 1E0                |     |     |     | [mole fraction] |\n",
            "| MolarMass          | 1.77479E1   | 1.77479E1          |     |     |     | [kg/kmol]       |\n",
            "| Z factor           |             | 9.25938E-1         |     |     |     | [-]             |\n",
            "| Heat Capacity (Cp) |             | 2.78552E0          |     |     |     | [kJ/kg*K]       |\n",
            "| Heat Capacity (Cv) |             | 1.89952E0          |     |     |     | [kJ/kg*K]       |\n",
            "| Speed of Sound     |             | 4.6566E2           |     |     |     | [m/sec]         |\n",
            "| Enthalpy           | 9.92782E1   | 9.92782E1          |     |     |     | [kJ/kg]         |\n",
            "| Entropy            | -1.56694E0  | -1.56694E0         |     |     |     | [kJ/kg*K]       |\n",
            "| JT coefficient     |             | 2.52582E-1         |     |     |     | [K/bar]         |\n",
            "|                    |             |                    |     |     |     |                 |\n",
            "| Viscosity          |             | 1.51198E-5         |     |     |     | [kg/m*sec]      |\n",
            "| Conductivity       |             | 4.96797E-2         |     |     |     | [W/m*K]         |\n",
            "| SurfaceTension     |             |                    |     |     |     | [N/m]           |\n",
            "|                    |             |                    |     |     |     |                 |\n",
            "|                    |             |                    |     |     |     |                 |\n",
            "|                    |             |                    |     |     |     |                 |\n",
            "| Pressure           |             | 100.0              |     |     |     | [bar]           |\n",
            "| Temperature        |             | 354.53064896233576 |     |     |     | [K]             |\n",
            "|                    |             |                    |     |     |     |                 |\n",
            "| Model              |             | SRK-EOS            |     |     |     | -               |\n",
            "| Mixing Rule        |             | classic            |     |     |     | -               |\n",
            "|                    |             |                    |     |     |     |                 |\n",
            "| Stream             |             |                    |     |     |     | -               |\n",
            "|                    |             |                    |     |     |     |                 |\n",
            "|                    |             |                    |     |     |     |                 |\n",
            "|                    |             |                    |     |     |     |                 |\n",
            "|                    |             |                    |     |     |     |                 |\n"
          ]
        }
      ]
    }
  ]
}