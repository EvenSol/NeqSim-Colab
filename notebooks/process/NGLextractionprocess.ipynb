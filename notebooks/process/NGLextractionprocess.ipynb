{
  "nbformat": 4,
  "nbformat_minor": 0,
  "metadata": {
    "colab": {
      "name": "NGLextractionprocess.ipynb",
      "provenance": [],
      "include_colab_link": true
    },
    "kernelspec": {
      "name": "python3",
      "display_name": "Python 3"
    }
  },
  "cells": [
    {
      "cell_type": "markdown",
      "metadata": {
        "id": "view-in-github",
        "colab_type": "text"
      },
      "source": [
        "<a href=\"https://colab.research.google.com/github/EvenSol/NeqSim-Colab/blob/master/notebooks/process/NGLextractionprocess.ipynb\" target=\"_parent\"><img src=\"https://colab.research.google.com/assets/colab-badge.svg\" alt=\"Open In Colab\"/></a>"
      ]
    },
    {
      "cell_type": "code",
      "metadata": {
        "id": "0NiCf_rvqecx"
      },
      "source": [
        "NGL extraction process"
      ],
      "execution_count": null,
      "outputs": []
    },
    {
      "cell_type": "code",
      "source": [
        "!pip install neqsim\n",
        "import neqsim\n",
        "from neqsim.thermo.thermoTools import *\n",
        "import matplotlib\n",
        "import numpy as np\n",
        "import matplotlib.pyplot as plt\n",
        "import math\n",
        "import pandas as pd"
      ],
      "metadata": {
        "id": "pmeuf3oasHEt",
        "outputId": "0a16b325-9331-4908-e2c1-09a2f8b8a5d2",
        "colab": {
          "base_uri": "https://localhost:8080/"
        }
      },
      "execution_count": 2,
      "outputs": [
        {
          "output_type": "stream",
          "name": "stdout",
          "text": [
            "Requirement already satisfied: neqsim in /usr/local/lib/python3.10/dist-packages (2.5.5)\n",
            "Requirement already satisfied: jpype1 in /usr/local/lib/python3.10/dist-packages (from neqsim) (1.4.1)\n",
            "Requirement already satisfied: pandas in /usr/local/lib/python3.10/dist-packages (from neqsim) (1.5.3)\n",
            "Requirement already satisfied: packaging in /usr/local/lib/python3.10/dist-packages (from jpype1->neqsim) (23.1)\n",
            "Requirement already satisfied: python-dateutil>=2.8.1 in /usr/local/lib/python3.10/dist-packages (from pandas->neqsim) (2.8.2)\n",
            "Requirement already satisfied: pytz>=2020.1 in /usr/local/lib/python3.10/dist-packages (from pandas->neqsim) (2023.3)\n",
            "Requirement already satisfied: numpy>=1.21.0 in /usr/local/lib/python3.10/dist-packages (from pandas->neqsim) (1.23.5)\n",
            "Requirement already satisfied: six>=1.5 in /usr/local/lib/python3.10/dist-packages (from python-dateutil>=2.8.1->pandas->neqsim) (1.16.0)\n"
          ]
        }
      ]
    },
    {
      "cell_type": "markdown",
      "source": [
        "# NGL extraction plant"
      ],
      "metadata": {
        "id": "hK1Kl7hesVQ5"
      }
    },
    {
      "cell_type": "code",
      "source": [
        "#Feed gas\n",
        "fluidcomposition = {'ComponentName':  [\"nitrogen\", \"CO2\", \"methane\", \"ethane\", \"propane\", \"i-butane\", \"n-butane\", \"i-pentane\", \"n-pentane\", \"n-hexane\", \"C7\", \"C8\", \"C9\", \"C10-C11\", \"C12-C13\", \"C14-C15\", \"C16-C18\", \"C19-C20\", \"C21-C23\", \"C24-C29\", \"C30\"],\n",
        "      'MolarComposition[-]':  [0.5901, 0.00704, 80.423, 8.0634, 2.8112, 0.9095, 0.7896, 0.06577, 0.07712, 0.08545, 0.2025, 0.2507, 0.07571, 0.05015, 0.003053, 0.001353, 0.0004328, 0.00802, 0.000127, 0.0004921, 0.00009922],\n",
        "      'MolarMass[kg/mol]': [None,None, None,None,None,None,None,None,None,None,0.09832, 0.11227, 0.12627, 0.14689, 0.174, 0.202, 0.237, 0.272, 0.307, 0.367, 0.594],\n",
        "      'RelativeDensity[-]': [None,None, None,None,None,None,None,None,None,None, 0.737, 0.758, 0.775, 0.794, 0.814, 0.830, 0.846, 0.860, 0.872, 0.889, 0.935]\n",
        "}\n",
        "fluidcompositiondf = pd.DataFrame(fluidcomposition)\n",
        "fluid1 = fluid_df(fluidcompositiondf, lastIsPlusFraction=False)\n",
        "fluid1.setMixingRule('classic')\n",
        "fluid1.setMultiPhaseCheck(True)\n",
        "\n",
        "print('viscosity ', fluid1.getViscosity('cP'))\n",
        "\n",
        "\n",
        "standardPressure = 1.01325\n",
        "fluid1.setPressure(standardPressure, 'bara')\n",
        "standardTemperature = 20.0 # C\n",
        "fluid1.setTemperature(standardTemperature, 'C')\n",
        "\n",
        "TPflash(fluid1)\n",
        "fluid1.initProperties()\n",
        "stdoildensity = fluid1.getPhase('oil').getDensity('kg/m3')\n",
        "stdviscosity = fluid1.getPhase('oil').getViscosity('cP')\n",
        "stdGOR = fluid1.getPhase('gas').getVolume('m3')/fluid1.getPhase('oil').getVolume('m3')\n",
        "print('API oil ', (141.5/(stdoildensity/1e3)-131.5))\n",
        "print('std viscosity oil ', stdviscosity, 'cP')\n",
        "print('GOR ', stdGOR, ' Sm3 gas / Sm3 oil')"
      ],
      "metadata": {
        "id": "cZ-1snissbVS",
        "outputId": "e8979252-fc54-446a-8d5c-2a848e27cd42",
        "colab": {
          "base_uri": "https://localhost:8080/"
        }
      },
      "execution_count": 10,
      "outputs": [
        {
          "output_type": "stream",
          "name": "stdout",
          "text": [
            "viscosity  0.0218781506556418\n",
            "API oil  48.433703440199395\n",
            "std viscosity oil  1.1357740274575026 cP\n",
            "GOR  110226.37355245513  Sm3 gas / Sm3 oil\n"
          ]
        }
      ]
    },
    {
      "cell_type": "code",
      "source": [
        "thermoOps = jNeqSim.thermodynamicOperations.ThermodynamicOperations(fluid1.clone())\n",
        "thermoOps.calcPTphaseEnvelope()\n",
        "\n",
        "\n",
        "#plt.plot(list(thermoOps.getOperation().get(\"dewT\")),list(thermoOps.getOperation().get(\"dewP\")), label=\"dew point\")\n",
        "#plt.plot(list(thermoOps.getOperation().get(\"bubT\")),list(thermoOps.getOperation().get(\"bubP\")), label=\"bubble point\")\n",
        "plt.plot(list(thermoOps.getOperation().get(\"dewT2\")),list(thermoOps.getOperation().get(\"dewP2\")), label=\"dew point\")\n",
        "plt.plot(list(thermoOps.getOperation().get(\"bubT2\")),list(thermoOps.getOperation().get(\"bubP2\")), label=\"bubble point\")\n",
        "plt.title('PT envelope')\n",
        "plt.xlabel('Temperature [K]')\n",
        "plt.ylabel('Pressure [bar]')\n",
        "plt.legend()\n",
        "plt.show()"
      ],
      "metadata": {
        "id": "ZbABLr1Htg77",
        "outputId": "f9b1c804-de93-4ba5-dfa9-577f2f9b3f61",
        "colab": {
          "base_uri": "https://localhost:8080/",
          "height": 382
        }
      },
      "execution_count": 8,
      "outputs": [
        {
          "output_type": "error",
          "ename": "java.lang.ArrayIndexOutOfBoundsException",
          "evalue": "ignored",
          "traceback": [
            "\u001b[0;31m---------------------------------------------------------------------------\u001b[0m",
            "\u001b[0;31mException\u001b[0m                                 Traceback (most recent call last)",
            "\u001b[0;32m/usr/local/lib/python3.10/dist-packages/_jpype.cpython-310-x86_64-linux-gnu.so\u001b[0m in \u001b[0;36mneqsim.thermodynamicOperations.phaseEnvelopeOps.multicomponentEnvelopeOps.pTphaseEnvelope.get\u001b[0;34m()\u001b[0m\n",
            "\u001b[0;31mException\u001b[0m: Java Exception",
            "\nThe above exception was the direct cause of the following exception:\n",
            "\u001b[0;31mjava.lang.ArrayIndexOutOfBoundsException\u001b[0m  Traceback (most recent call last)",
            "\u001b[0;32m<ipython-input-8-ed7207a003df>\u001b[0m in \u001b[0;36m<cell line: 7>\u001b[0;34m()\u001b[0m\n\u001b[1;32m      5\u001b[0m \u001b[0;31m#plt.plot(list(thermoOps.getOperation().get(\"dewT\")),list(thermoOps.getOperation().get(\"dewP\")), label=\"dew point\")\u001b[0m\u001b[0;34m\u001b[0m\u001b[0;34m\u001b[0m\u001b[0m\n\u001b[1;32m      6\u001b[0m \u001b[0;31m#plt.plot(list(thermoOps.getOperation().get(\"bubT\")),list(thermoOps.getOperation().get(\"bubP\")), label=\"bubble point\")\u001b[0m\u001b[0;34m\u001b[0m\u001b[0;34m\u001b[0m\u001b[0m\n\u001b[0;32m----> 7\u001b[0;31m \u001b[0mplt\u001b[0m\u001b[0;34m.\u001b[0m\u001b[0mplot\u001b[0m\u001b[0;34m(\u001b[0m\u001b[0mlist\u001b[0m\u001b[0;34m(\u001b[0m\u001b[0mthermoOps\u001b[0m\u001b[0;34m.\u001b[0m\u001b[0mgetOperation\u001b[0m\u001b[0;34m(\u001b[0m\u001b[0;34m)\u001b[0m\u001b[0;34m.\u001b[0m\u001b[0mget\u001b[0m\u001b[0;34m(\u001b[0m\u001b[0;34m\"dewT2\"\u001b[0m\u001b[0;34m)\u001b[0m\u001b[0;34m)\u001b[0m\u001b[0;34m,\u001b[0m\u001b[0mlist\u001b[0m\u001b[0;34m(\u001b[0m\u001b[0mthermoOps\u001b[0m\u001b[0;34m.\u001b[0m\u001b[0mgetOperation\u001b[0m\u001b[0;34m(\u001b[0m\u001b[0;34m)\u001b[0m\u001b[0;34m.\u001b[0m\u001b[0mget\u001b[0m\u001b[0;34m(\u001b[0m\u001b[0;34m\"dewP2\"\u001b[0m\u001b[0;34m)\u001b[0m\u001b[0;34m)\u001b[0m\u001b[0;34m,\u001b[0m \u001b[0mlabel\u001b[0m\u001b[0;34m=\u001b[0m\u001b[0;34m\"dew point\"\u001b[0m\u001b[0;34m)\u001b[0m\u001b[0;34m\u001b[0m\u001b[0;34m\u001b[0m\u001b[0m\n\u001b[0m\u001b[1;32m      8\u001b[0m \u001b[0mplt\u001b[0m\u001b[0;34m.\u001b[0m\u001b[0mplot\u001b[0m\u001b[0;34m(\u001b[0m\u001b[0mlist\u001b[0m\u001b[0;34m(\u001b[0m\u001b[0mthermoOps\u001b[0m\u001b[0;34m.\u001b[0m\u001b[0mgetOperation\u001b[0m\u001b[0;34m(\u001b[0m\u001b[0;34m)\u001b[0m\u001b[0;34m.\u001b[0m\u001b[0mget\u001b[0m\u001b[0;34m(\u001b[0m\u001b[0;34m\"bubT2\"\u001b[0m\u001b[0;34m)\u001b[0m\u001b[0;34m)\u001b[0m\u001b[0;34m,\u001b[0m\u001b[0mlist\u001b[0m\u001b[0;34m(\u001b[0m\u001b[0mthermoOps\u001b[0m\u001b[0;34m.\u001b[0m\u001b[0mgetOperation\u001b[0m\u001b[0;34m(\u001b[0m\u001b[0;34m)\u001b[0m\u001b[0;34m.\u001b[0m\u001b[0mget\u001b[0m\u001b[0;34m(\u001b[0m\u001b[0;34m\"bubP2\"\u001b[0m\u001b[0;34m)\u001b[0m\u001b[0;34m)\u001b[0m\u001b[0;34m,\u001b[0m \u001b[0mlabel\u001b[0m\u001b[0;34m=\u001b[0m\u001b[0;34m\"bubble point\"\u001b[0m\u001b[0;34m)\u001b[0m\u001b[0;34m\u001b[0m\u001b[0;34m\u001b[0m\u001b[0m\n\u001b[1;32m      9\u001b[0m \u001b[0mplt\u001b[0m\u001b[0;34m.\u001b[0m\u001b[0mtitle\u001b[0m\u001b[0;34m(\u001b[0m\u001b[0;34m'PT envelope'\u001b[0m\u001b[0;34m)\u001b[0m\u001b[0;34m\u001b[0m\u001b[0;34m\u001b[0m\u001b[0m\n",
            "\u001b[0;31mjava.lang.ArrayIndexOutOfBoundsException\u001b[0m: java.lang.ArrayIndexOutOfBoundsException: Index 4 out of bounds for length 4"
          ]
        }
      ]
    },
    {
      "cell_type": "code",
      "source": [
        "#NGL expander code\n",
        "from neqsim.process import stream, expander, heater, compsplitter, separator, heatExchanger\n",
        "from neqsim.thermo import fluid, printFrame\n",
        "from neqsim.process import compsplitter, compressor, splitter, cooler, separator3phase, getProcess, clearProcess, mixer, heater, stream, pump, separator, runProcess, stream, saturator, valve, filters, heatExchanger, simpleTEGAbsorber,distillationColumn, waterStripperColumn, recycle2, setpoint, calculator\n",
        "\n",
        "feedstream = stream(fluid1)\n",
        "\n",
        "pressureNGL = 50.6\n",
        "onshoreplant_inlet_pressure = 110.0\n",
        "onshoreplant_inlet_temperature = 20.0\n",
        "\n",
        "clearProcess()\n",
        "\n",
        "inletheater = heater(feedstream)\n",
        "inletheater.setOutPressure(onshoreplant_inlet_pressure, 'bara')\n",
        "inletheater.setOutTemperature(onshoreplant_inlet_temperature, 'C')\n",
        "\n",
        "heatEx = heatExchanger(inletheater.getOutStream())\n",
        "heatEx.setName(\"cross heat-exchanger\")\n",
        "heatEx.setGuessOutTemperature(273.15 - 30.0)\n",
        "heatEx.setUAvalue(3000e3) #assumes an UA vlue of 3000 MW/m2K\n",
        "\n",
        "expanderKarsto = expander(heatEx.getOutStream(0), pressureNGL)\n",
        "expanderKarsto.setOutletPressure(pressureNGL)\n",
        "expanderKarsto.setIsentropicEfficiency(0.75) # assume same efficiency as for compressors\n",
        "\n",
        "scrubberNGL = separator(expanderKarsto.getOutletStream())\n",
        "\n",
        "recyOut = stream(scrubberNGL.getGasOutStream().clone())\n",
        "\n",
        "gasResycle = recycle2(\"gas resycle\")\n",
        "gasResycle.addStream(scrubberNGL.getGasOutStream())\n",
        "gasResycle.setOutletStream(recyOut)\n",
        "\n",
        "heatEx.setFeedStream(1, recyOut)\n",
        "\n",
        "gasfromdeethanizer = stream(heatEx.getOutStream(1).clone())\n",
        "\n",
        "gasmixer = mixer('gas mixer')\n",
        "gasmixer.addStream(heatEx.getOutStream(1))\n",
        "gasmixer.addStream(gasfromdeethanizer)\n",
        "\n",
        "dryGasExportCompressor = compressor(gasmixer.getOutletStream())\n",
        "dryGasExportCompressor.setOutletPressure(100.0, 'bara')\n",
        "dryGasExportCompressor.setIsentropicEfficiency(0.75)\n",
        "\n",
        "exportDryGas = stream(dryGasExportCompressor.getOutStream())\n",
        "\n",
        "NGLvalve1 = valve(scrubberNGL.getLiquidOutStream())\n",
        "NGLvalve1.setOutletPressure(30.0)\n",
        "\n",
        "#FRACTIONATION PROCESS\n",
        "deethanizer = distillationColumn(trays=5, reboil=True, condenser=False, name=\"deethanizer\")\n",
        "deethanizer.addFeedStream(NGLvalve1.getOutStream(),5)\n",
        "deethanizer.getReboiler().setOutTemperature(273.15+105.0)\n",
        "deethanizer.setTopPressure(30.0)\n",
        "deethanizer.setBottomPressure(32.0)\n",
        "\n",
        "compressorgasdeethanizer = compressor(deethanizer.getGasOutStream())\n",
        "compressorgasdeethanizer.setOutletPressure(pressureNGL, 'bara')\n",
        "\n",
        "nglGasResycle = recycle2(\"gas resycle 2\")\n",
        "nglGasResycle.addStream(compressorgasdeethanizer.getOutStream())\n",
        "nglGasResycle.setOutletStream(gasfromdeethanizer)\n",
        "\n",
        "valvetodebutanizer = valve(deethanizer.getLiquidOutStream())\n",
        "valvetodebutanizer.setOutletPressure(14.0)\n",
        "\n",
        "debutanizer = distillationColumn(trays=10, reboil=True, condenser=True, name=\"debutanizer\")\n",
        "debutanizer.addFeedStream(valvetodebutanizer.getOutStream(),9)\n",
        "debutanizer.getCondenser().setRefluxRatio(0.1)\n",
        "debutanizer.getCondenser().setTotalCondenser(True)\n",
        "debutanizer.getReboiler().setOutTemperature(273.15+163.0);\n",
        "debutanizer.setTopPressure(12.8)\n",
        "debutanizer.setBottomPressure(15.0)\n",
        "\n",
        "onshoreprocess = getProcess()"
      ],
      "metadata": {
        "id": "tleYRy8NsXwB"
      },
      "execution_count": 11,
      "outputs": []
    },
    {
      "cell_type": "code",
      "source": [
        "thread = onshoreprocess.runAsThread()\n",
        "thread.join(60 * 60 * 1000)   # 60 min maks tid"
      ],
      "metadata": {
        "id": "GlN-crUKuTxc"
      },
      "execution_count": null,
      "outputs": []
    },
    {
      "cell_type": "code",
      "source": [
        "#mass balance onshore process should be close to 0% lost\n",
        "massbalanceonshore = (feedstream.getOutStream().getFlowRate('kg/hr') - exportDryGas.getFlowRate('kg/hr') - debutanizer.getLiquidOutStream().getFlowRate('kg/hr') - debutanizer.getGasOutStream().getFlowRate('kg/hr') )/pipe1.getOutStream().getFlowRate('kg/hr')\n",
        "\n",
        "print('mass lost % ',massbalanceonshore*100)"
      ],
      "metadata": {
        "id": "CsSR1Tdbugu6"
      },
      "execution_count": null,
      "outputs": []
    },
    {
      "cell_type": "code",
      "source": [
        "print('feed gas')\n",
        "printFrame(inletheater.getOutStream().getFluid())"
      ],
      "metadata": {
        "id": "FBzGd49guj3x"
      },
      "execution_count": null,
      "outputs": []
    },
    {
      "cell_type": "code",
      "source": [
        "#De-ethanizer results\n",
        "print('gas from deethanizer')\n",
        "printFrame(deethanizer.getGasOutStream().getFluid())\n",
        "print('liquid from deethanizer')\n",
        "printFrame(deethanizer.getLiquidOutStream().getFluid())"
      ],
      "metadata": {
        "id": "FW6U3GzwuluB"
      },
      "execution_count": null,
      "outputs": []
    },
    {
      "cell_type": "code",
      "source": [
        "#debutanizer results\n",
        "print('LPG from top debutanizer ')\n",
        "printFrame(debutanizer.getGasOutStream().getFluid())\n",
        "print('C5+ from bottom debutanizer ')\n",
        "printFrame(debutanizer.getLiquidOutStream().getFluid())"
      ],
      "metadata": {
        "id": "o0gkXVNHun1S"
      },
      "execution_count": null,
      "outputs": []
    },
    {
      "cell_type": "code",
      "source": [
        "print('propane in dry export gas ', exportDryGas.getFluid().getComponent('propane').getx()*100.0, ' mol%')\n",
        "print('LPG production rat ', debutanizer.getGasOutStream().getFlowRate('idSm3/hr')*24.0 , ' Sm3/day')\n",
        "print('C5+ rate ', debutanizer.getLiquidOutStream().getFlowRate('idSm3/hr')*24.0, ' Sm3/day')\n",
        "print('temperature in NGL scrubber ', expanderKarsto.getOutStream().getTemperature('C'))\n",
        "print('temperature LPG extraction reflux condenser ', debutanizer.getGasOutStream().getTemperature('C'))\n",
        "print('GCV ', exportDryGas.GCV()/1e6, ' MJ/m3')\n",
        "\n",
        "print('duty deethanizer reboiler ', deethanizer.getReboiler().getDuty()/1e6, ' MW')\n",
        "print('duty debutanizer reboiler ', debutanizer.getReboiler().getDuty()/1e6, ' MW')\n",
        "print('duty debutanizer condenser ', debutanizer.getCondenser().getDuty()/1e6, ' MW')\n",
        "propaneRecovery = 1.0 - exportDryGas.getFluid().getComponent('propane').getNumberOfmoles()/pipe1.getOutStream().getFluid().getComponent('propane').getNumberOfmoles()\n",
        "ibutaneRecovery = 1.0 - exportDryGas.getFluid().getComponent('i-butane').getNumberOfmoles()/pipe1.getOutStream().getFluid().getComponent('i-butane').getNumberOfmoles()\n",
        "nbutaneRecovery = 1.0 - exportDryGas.getFluid().getComponent('n-butane').getNumberOfmoles()/pipe1.getOutStream().getFluid().getComponent('n-butane').getNumberOfmoles()\n",
        "print('propane recovery ' ,propaneRecovery)\n",
        "print('i-butane recovery ' ,ibutaneRecovery)\n",
        "print('n-butane recovery ' ,nbutaneRecovery)"
      ],
      "metadata": {
        "id": "O5evRLUku4Fo"
      },
      "execution_count": null,
      "outputs": []
    },
    {
      "cell_type": "code",
      "source": [
        "print('export gas')\n",
        "printFrame(exportDryGas.getFluid())"
      ],
      "metadata": {
        "id": "T6A4HStfu6v4"
      },
      "execution_count": null,
      "outputs": []
    }
  ]
}