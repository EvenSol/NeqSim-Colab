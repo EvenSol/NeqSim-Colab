{
  "nbformat": 4,
  "nbformat_minor": 0,
  "metadata": {
    "colab": {
      "name": "allocationoilandgas.ipynb",
      "provenance": [],
      "include_colab_link": true
    },
    "kernelspec": {
      "name": "python3",
      "display_name": "Python 3"
    },
    "language_info": {
      "name": "python"
    }
  },
  "cells": [
    {
      "cell_type": "markdown",
      "metadata": {
        "id": "view-in-github",
        "colab_type": "text"
      },
      "source": [
        "<a href=\"https://colab.research.google.com/github/EvenSol/NeqSim-Colab/blob/master/notebooks/process/allocationoilandgas2.ipynb\" target=\"_parent\"><img src=\"https://colab.research.google.com/assets/colab-badge.svg\" alt=\"Open In Colab\"/></a>"
      ]
    },
    {
      "cell_type": "code",
      "execution_count": 161,
      "metadata": {
        "id": "g6AAfT2tXdS_"
      },
      "outputs": [],
      "source": [
        "# Setting up the Colab page to use neqsim\n",
        "#@markdown <br><br>This document is part of the module [\"Introduction to Gas Processing using NeqSim in Colab\"](https://colab.research.google.com/github/EvenSol/NeqSim-Colab/blob/master/notebooks/examples_of_NeqSim_in_Colab.ipynb#scrollTo=_eRtkQnHpL70).\n",
        "%%capture\n",
        "!pip install neqsim==3.0.6\n",
        "import neqsim\n",
        "from neqsim.thermo.thermoTools import *"
      ]
    },
    {
      "cell_type": "markdown",
      "source": [
        "# Introduction\n",
        "\n",
        "This Colab notebook demonstrates how to use the NeqSim process simulation library to perform **allocation calculations** for oil and gas production. Allocation is the process of determining the contribution of individual wells or streams to the total production of a field. This is important for accounting purposes and for optimizing production.\n",
        "\n",
        "The notebook first defines a simple process flow diagram consisting of two wells, a separator, and an export pipeline. The process is simulated using NeqSim, and the results are used to calculate **Oil Recovery Factors (ORF)** for each well. The ORF is the fraction of the oil in the well stream that is recovered in the separator.\n",
        "\n",
        "The notebook then demonstrates how to track individual components from each well through the process. This allows for a more detailed analysis of the allocation results.\n",
        "\n",
        "Finally, the notebook explores the impact of different production rates on the allocation results. This shows how changes in production can affect the allocation of oil and gas to individual wells.\n",
        "\n",
        "In addition to demonstrating the use of NeqSim for allocation calculations, the notebook provides a brief overview of the allocation process and its importance in the petroleum industry."
      ],
      "metadata": {
        "id": "P50z6iCBbHUc"
      }
    },
    {
      "cell_type": "markdown",
      "source": [
        "# Litterature\n",
        "\n",
        "Recommended guideline for allocation simulation\n",
        "\n",
        "https://openarchive.usn.no/usn-xmlui/handle/11250/2765116\n",
        "\n",
        "Production Allocation of Oil and Gas: A case Study:\n",
        "\n",
        "https://ntnuopen.ntnu.no/ntnu-xmlui/handle/11250/2351061\n",
        "\n",
        "\n",
        "Energy Institute\n",
        "\n",
        "https://publishing.energyinst.org/topics/hydrocarbon-management/upstream-measurement/hm-96.-guidelines-for-the-allocation-of-fluid-streams-in-oil-and-gas-production"
      ],
      "metadata": {
        "id": "0Vh75b1NOzsI"
      }
    },
    {
      "cell_type": "markdown",
      "source": [
        "#Allocation of oil and gas\n",
        "\n",
        "https://en.wikipedia.org/wiki/Allocation_(oil_and_gas)\n",
        "\n",
        "\n",
        "In the petroleum industry, allocation refers to practices of breaking down measures of quantities of extracted hydrocarbons across various contributing sources. Allocation aids the attribution of ownerships of hydrocarbons as each contributing element to a commingled flow or to a storage of petroleum may have a unique ownership. Contributing sources in this context are typically producing petroleum wells delivering flows of petroleum or flows of natural gas to a commingled flow or storage.\n",
        "\n",
        "The terms hydrocarbon accounting and allocation are sometimes used interchangeably. Hydrocarbon accounting has a wider scope, taking advantages of allocation results, it is the petroleum management process by which ownership of extracted hydrocarbons is determined and tracked from a point of sale or discharge back to the point of extraction. In this way, hydrocarbon accounting also covers inventory control, material balance, and practices to trace ownership of hydrocarbons being transported in a transportation system, e.g. through pipelines to customers distant from the production plant.\n",
        "\n",
        "In an allocation problem, contributing sources are more widely natural gas streams, fluid flows or multiphase flows derived from formations or zones in a well, from wells, and from fields, unitised production entities or production facilities. In hydrocarbon accounting, quantities of extracted hydrocarbon can be further split by ownership, by \"cost oil\" or \"profit oil\" categories, and broken down to individual composition fraction types. Such components may be alkane hydrocarbons, boiling point fractions, and mole weight fractions.\n",
        "\n"
      ],
      "metadata": {
        "id": "z2BKO_zSX54a"
      }
    },
    {
      "cell_type": "code",
      "source": [
        "#@title Introduction to Allocation\n",
        "#@markdown This video gives an intriduction to allocation of oil and gas\n",
        "from IPython.display import YouTubeVideo\n",
        "YouTubeVideo('pdIzRGTgmco', width=600, height=400)"
      ],
      "metadata": {
        "colab": {
          "base_uri": "https://localhost:8080/",
          "height": 422
        },
        "cellView": "form",
        "id": "S1Zn6wSkhbD8",
        "outputId": "406b5f1c-fb0f-4c06-eb08-667943478930"
      },
      "execution_count": 162,
      "outputs": [
        {
          "output_type": "execute_result",
          "data": {
            "text/plain": [
              "<IPython.lib.display.YouTubeVideo at 0x787ce53d87f0>"
            ],
            "text/html": [
              "\n",
              "        <iframe\n",
              "            width=\"600\"\n",
              "            height=\"400\"\n",
              "            src=\"https://www.youtube.com/embed/pdIzRGTgmco\"\n",
              "            frameborder=\"0\"\n",
              "            allowfullscreen\n",
              "            \n",
              "        ></iframe>\n",
              "        "
            ],
            "image/jpeg": "[encoded data removed]"
          },
          "metadata": {},
          "execution_count": 162
        }
      ]
    },
    {
      "cell_type": "markdown",
      "source": [
        "# Process simulation for allocation"
      ],
      "metadata": {
        "id": "8J_B0ZW6YnBT"
      }
    },
    {
      "cell_type": "code",
      "source": [
        "inputdata = {\n",
        "  'feedFlowRateWellA': 10,\n",
        "  'wellPressure': 280.0,\n",
        "  'wellTemperature':200.0,\n",
        "  'topsidePressure': 90.0,\n",
        "  'topsideTemperature': 5.0,\n",
        "  'firstStagePressure': 75.0,\n",
        "  'temperatureOilHeater' : 90.0,\n",
        "  'secondStagePressure': 8.6,\n",
        "  'thirdStagePressure': 1.9,\n",
        "  'firstStageSuctionCoolerTemperature': 25.3,\n",
        "  'secondStageSuctionCoolerTemperature': 24.5,\n",
        "  'thirdStageSuctionCoolerTemperature':25.0,\n",
        "  'firstStageExportCoolerTemperature': 25.3,\n",
        "  'secondStageExportCoolerTemperature': 24.5\n",
        "}"
      ],
      "metadata": {
        "id": "eI3E7rf_YvAD"
      },
      "execution_count": 163,
      "outputs": []
    },
    {
      "cell_type": "code",
      "source": [
        "from neqsim.thermo import fluid, printFrame\n",
        "from neqsim.process import compressor, cooler, separator3phase, getProcess, clearProcess, mixer, heater, stream, pump, separator, runProcess, stream, saturator, valve, filters, heatExchanger, simpleTEGAbsorber,distillationColumn, waterStripperColumn, recycle, setpoint, calculator\n",
        "\n",
        "clearProcess()\n",
        "\n",
        "wellFluid = fluid('pr')\n",
        "wellFluid.addComponent(\"nitrogen\", 0.08)\n",
        "wellFluid.addComponent(\"CO2\", 3.56)\n",
        "wellFluid.addComponent(\"methane\", 87.36)\n",
        "wellFluid.addComponent(\"ethane\", 4.02)\n",
        "wellFluid.addComponent(\"propane\", 1.54)\n",
        "wellFluid.addComponent(\"i-butane\", 0.2)\n",
        "wellFluid.addComponent(\"n-butane\", 0.42)\n",
        "wellFluid.addComponent(\"i-pentane\", 0.15)\n",
        "wellFluid.addComponent(\"n-pentane\", 0.20)\n",
        "\n",
        "wellFluid.addTBPfraction(\"C6\", 3.24, 84.99/1000.0, 695.0/1000.0)\n",
        "wellFluid.addTBPfraction(\"C7\", 1.34, 97.87/1000.0, 718.0/1000.0)\n",
        "wellFluid.addTBPfraction(\"C8\", 1.33, 111.54/1000.0, 729.0/1000.0)\n",
        "wellFluid.addTBPfraction(\"C9\", 1.19, 126.1/1000.0, 749.0/1000.0)\n",
        "wellFluid.addTBPfraction(\"C10\", 1.15, 140.14/1000.0, 760.0/1000.0)\n",
        "wellFluid.addTBPfraction(\"C11\", 1.69, 175.0/1000.0, 830.0/1000.0)\n",
        "wellFluid.addTBPfraction(\"C12\", 1.5, 280.0/1000.0, 914.0/1000.0)\n",
        "wellFluid.addTBPfraction(\"C13\", 2.103, 560.0/1000.0, 980.0/1000.0)\n",
        "\n",
        "wellFluid.setMixingRule('classic')\n",
        "\n",
        "wellFluid.setMolarComposition([0.08, 3.56, 87.36, 4.02, 1.54, 0.2, 0.42, 0.15, 0.2, 1.24, 1.34, 1.33, 1.19, 1.15, 1.69, 1.5, 1.03])\n",
        "\n",
        "wellStream = stream(\"dry well stream\", wellFluid)\n",
        "wellStream.setFlowRate(inputdata['feedFlowRateWellA'], \"MSm3/day\")\n",
        "wellStream.setTemperature(inputdata['wellTemperature'], \"C\")\n",
        "wellStream.setPressure(inputdata['wellPressure'], \"bara\")\n",
        "\n",
        "saturatedFeedGas = saturator(\"water saturator\", wellStream)\n",
        "\n",
        "waterSaturatedFeedGas = stream(\"water saturated feed gas\", saturatedFeedGas.getOutStream())\n",
        "\n",
        "feedTPsetter = heater('inletTP', waterSaturatedFeedGas)\n",
        "feedTPsetter.setOutPressure(inputdata['topsidePressure'], \"bara\")\n",
        "feedTPsetter.setOutTemperature(inputdata['topsideTemperature'], \"C\")\n",
        "\n",
        "chokeValve = valve('valve 1', feedTPsetter.getOutStream())\n",
        "chokeValve.setOutletPressure(inputdata['firstStagePressure'], 'bara')\n",
        "\n",
        "feedToOffshoreProcess = stream(\"feed to offshore\", chokeValve.getOutStream())\n",
        "\n",
        "firstStageSeparator = separator3phase(\"1st stage separator\", feedToOffshoreProcess)\n",
        "\n",
        "oilHeaterFromFirstStage = heater(\"oil heater second stage\", firstStageSeparator.getOilOutStream())\n",
        "oilHeaterFromFirstStage.setOutTemperature(inputdata['temperatureOilHeater'],'C')\n",
        "\n",
        "oilThrotValve = valve(\"valve oil from first stage\", oilHeaterFromFirstStage.getOutStream())\n",
        "oilThrotValve.setOutletPressure(inputdata['secondStagePressure'])\n",
        "\n",
        "secondStageSeparator = separator3phase(\"2nd stage separator\", oilThrotValve.getOutStream())\n",
        "\n",
        "oilThrotValve2 = valve(\"valve oil from second stage\", secondStageSeparator.getOilOutStream())\n",
        "oilThrotValve2.setOutletPressure(inputdata['thirdStagePressure'])\n",
        "\n",
        "thirdStageSeparator = separator3phase(\"3rd stage separator\", oilThrotValve2.getOutStream())\n",
        "\n",
        "oilThirdStageToSep =  wellStream.clone()\n",
        "oilThirdStageToSep.setName(\"resyc oil\")\n",
        "thirdStageSeparator.addStream(oilThirdStageToSep)\n",
        "\n",
        "stableOil = stream(\"stable oil\", thirdStageSeparator.getOilOutStream())\n",
        "\n",
        "stableOilPump = pump(\"stable oil pump\", stableOil,15.0)\n",
        "\n",
        "firstStageCooler = cooler(\"1st stage cooler\", thirdStageSeparator.getGasOutStream())\n",
        "firstStageCooler.setOutTemperature(inputdata['firstStageSuctionCoolerTemperature'],'C')\n",
        "\n",
        "firstStageScrubber = separator(\"1st stage scrubber\", firstStageCooler.getOutStream())\n",
        "\n",
        "firstStageCompressor = compressor(\"1st stage compressor\", firstStageScrubber.getGasOutStream())\n",
        "firstStageCompressor.setOutletPressure(inputdata['secondStagePressure'])\n",
        "firstStageCompressor.setIsentropicEfficiency(0.75)\n",
        "\n",
        "firststGasMixer = mixer(\"first Stage mixer\")\n",
        "firststGasMixer.addStream(firstStageCompressor.getOutStream())\n",
        "firststGasMixer.addStream(secondStageSeparator.getGasOutStream())\n",
        "\n",
        "secondStageCooler = cooler(\"2nd stage cooler\", firststGasMixer.getOutStream())\n",
        "secondStageCooler.setOutTemperature(inputdata['secondStageSuctionCoolerTemperature'],'C')\n",
        "\n",
        "secondStageScrubber = separator(\"2nd stage scrubber\", secondStageCooler.getOutStream())\n",
        "\n",
        "secondStageCompressor = compressor(\"2nd stage compressor\", secondStageScrubber.getGasOutStream())\n",
        "secondStageCompressor.setOutletPressure(inputdata['firstStagePressure'])\n",
        "secondStageCompressor.setIsentropicEfficiency(0.75)\n",
        "\n",
        "richGasMixer = mixer(\"fourth Stage mixer\")\n",
        "richGasMixer.addStream(secondStageCompressor.getOutStream())\n",
        "richGasMixer.addStream(firstStageSeparator.getGasOutStream())\n",
        "\n",
        "dewPointControlCooler = cooler(\"dew point cooler\", richGasMixer.getOutStream())\n",
        "dewPointControlCooler.setOutTemperature(inputdata['thirdStageSuctionCoolerTemperature'],'C')\n",
        "\n",
        "dewPointScrubber = separator(\"dew point scrubber\", dewPointControlCooler.getOutStream())\n",
        "\n",
        "lpLiqmixer = mixer(\"LP liq gas mixer\");\n",
        "lpLiqmixer.addStream(firstStageScrubber.getLiquidOutStream());\n",
        "lpLiqmixer.addStream(secondStageScrubber.getLiquidOutStream());\n",
        "lpLiqmixer.addStream(dewPointScrubber.getLiquidOutStream());\n",
        "\n",
        "lpResycle = recycle(\"LP liq resycle\")\n",
        "lpResycle.addStream(lpLiqmixer.getOutStream())\n",
        "lpResycle.setOutletStream(oilThirdStageToSep)\n",
        "\n",
        "exportCompressor1 = compressor(\"export 1st stage\", dewPointScrubber.getGasOutStream())\n",
        "exportCompressor1.setOutletPressure(140.0)\n",
        "exportCompressor1.setIsentropicEfficiency(0.75)\n",
        "\n",
        "exportInterstageCooler = cooler(\"interstage stage cooler\", exportCompressor1.getOutStream())\n",
        "exportInterstageCooler.setOutTemperature(inputdata['firstStageExportCoolerTemperature'],'C')\n",
        "\n",
        "exportCompressor2= compressor(\"export 2nd stage\", exportInterstageCooler.getOutStream())\n",
        "exportCompressor2.setOutletPressure(200.0)\n",
        "exportCompressor2.setIsentropicEfficiency(0.75)\n",
        "\n",
        "exportCooler = cooler(\"export cooler\", exportCompressor1.getOutStream())\n",
        "exportCooler.setOutTemperature(inputdata['secondStageExportCoolerTemperature'],'C')\n",
        "\n",
        "exportGas = stream(\"export gas\", exportCooler.getOutStream())\n",
        "\n",
        "oilprocess = getProcess()"
      ],
      "metadata": {
        "id": "BLc5mDf4Y9VT"
      },
      "execution_count": 164,
      "outputs": []
    },
    {
      "cell_type": "code",
      "source": [
        "oilprocess.run()"
      ],
      "metadata": {
        "id": "vmy81v2NZF1L"
      },
      "execution_count": 165,
      "outputs": []
    },
    {
      "cell_type": "code",
      "source": [
        "TVP = stableOil.TVP(30.0, 'C')\n",
        "cricondenbar = exportGas.CCB('bara')\n",
        "gasexport = exportGas.getFlowRate('MSm3/day')\n",
        "oilexport = stableOil.getFlowRate('m3/hr')\n",
        "\n",
        "print('TVP [bara] ', TVP)\n",
        "print('cricondenbar [bara] ', cricondenbar)\n",
        "print('gas export [MSm3/day] ', gasexport)\n",
        "print('oil export [m3/hr] ', oilexport)"
      ],
      "metadata": {
        "colab": {
          "base_uri": "https://localhost:8080/"
        },
        "id": "kov6bLXOZJRD",
        "outputId": "5a845825-3868-45c8-b17d-fd77d49b7820"
      },
      "execution_count": 166,
      "outputs": [
        {
          "output_type": "stream",
          "name": "stdout",
          "text": [
            "TVP [bara]  0.9587981327877181\n",
            "cricondenbar [bara]  92.66412118894853\n",
            "gas export [MSm3/day]  8.994078680788608\n",
            "oil export [m3/hr]  402.7604400576984\n"
          ]
        }
      ]
    },
    {
      "cell_type": "markdown",
      "source": [
        "#ORF factors\n",
        "In the following code the ORF factors are calculated"
      ],
      "metadata": {
        "id": "aMj8rZG2aB7N"
      }
    },
    {
      "cell_type": "code",
      "source": [
        "componentNames = wellStream.getFluid().getComponentNames()\n",
        "\n",
        "print ('ORF.......................')\n",
        "for name in componentNames:\n",
        "  total = wellStream.getFluid().getComponent(name).getTotalFlowRate('kg/hr')\n",
        "  ORF = stableOil.getFluid().getComponent(name).getTotalFlowRate('kg/hr')/total\n",
        "  print('ORF ', name, ' ', ORF)\n"
      ],
      "metadata": {
        "colab": {
          "base_uri": "https://localhost:8080/"
        },
        "id": "dq59pYRIaBlN",
        "outputId": "02568e5e-36c2-4fd9-8147-68e0513182e5"
      },
      "execution_count": 167,
      "outputs": [
        {
          "output_type": "stream",
          "name": "stdout",
          "text": [
            "ORF.......................\n",
            "ORF  nitrogen   1.541524999585756e-05\n",
            "ORF  CO2   0.0024259122327606087\n",
            "ORF  methane   0.000308188975740714\n",
            "ORF  ethane   0.01165683029791552\n",
            "ORF  propane   0.0880112503942461\n",
            "ORF  i-butane   0.23910184802401435\n",
            "ORF  n-butane   0.33477677446942383\n",
            "ORF  i-pentane   0.5905448043206003\n",
            "ORF  n-pentane   0.6666430995186313\n",
            "ORF  C6_PC   0.8931914994634801\n",
            "ORF  C7_PC   0.9614799212683567\n",
            "ORF  C8_PC   0.9858115246258424\n",
            "ORF  C9_PC   0.9946177064307077\n",
            "ORF  C10_PC   0.9976832119015394\n",
            "ORF  C11_PC   0.9997382346895111\n",
            "ORF  C12_PC   0.999999692021875\n",
            "ORF  C13_PC   0.9999999999997708\n"
          ]
        }
      ]
    },
    {
      "cell_type": "markdown",
      "source": [
        "# Adding a new well stream\n",
        "In the following example we will add a new well stream and add it to the inlet separator."
      ],
      "metadata": {
        "id": "J8v0XKXn_tGn"
      }
    },
    {
      "cell_type": "code",
      "source": [
        "inputdata2 = {\n",
        "  'feedFlowRateWellB': 5,\n",
        "  'wellPressure': 280.0,\n",
        "  'wellTemperature':200.0\n",
        "}"
      ],
      "metadata": {
        "id": "qxH8VGosKLEu"
      },
      "execution_count": 168,
      "outputs": []
    },
    {
      "cell_type": "code",
      "source": [
        "wellFluid2 = fluid('pr')\n",
        "wellFluid2.addComponent(\"nitrogen\", 0.08)\n",
        "wellFluid2.addComponent(\"CO2\", 3.56)\n",
        "wellFluid2.addComponent(\"methane\", 87.36)\n",
        "wellFluid2.addComponent(\"ethane\", 4.02)\n",
        "wellFluid2.addComponent(\"propane\", 1.54)\n",
        "wellFluid2.addComponent(\"i-butane\", 0.2)\n",
        "wellFluid2.addComponent(\"n-butane\", 0.42)\n",
        "wellFluid2.addComponent(\"i-pentane\", 0.15)\n",
        "wellFluid2.addComponent(\"n-pentane\", 0.20)\n",
        "\n",
        "wellFluid2.addTBPfraction(\"C6\", 3.24, 84.99/1000.0, 695.0/1000.0)\n",
        "wellFluid2.addTBPfraction(\"C7\", 1.34, 97.87/1000.0, 718.0/1000.0)\n",
        "wellFluid2.addTBPfraction(\"C8\", 1.33, 111.54/1000.0, 729.0/1000.0)\n",
        "wellFluid2.addTBPfraction(\"C9\", 1.19, 126.1/1000.0, 749.0/1000.0)\n",
        "wellFluid2.addTBPfraction(\"C10\", 1.15, 140.14/1000.0, 760.0/1000.0)\n",
        "wellFluid2.addTBPfraction(\"C11\", 1.69, 175.0/1000.0, 830.0/1000.0)\n",
        "wellFluid2.addTBPfraction(\"C12\", 1.5, 280.0/1000.0, 914.0/1000.0)\n",
        "wellFluid2.addTBPfraction(\"C13\", 2.103, 560.0/1000.0, 980.0/1000.0)\n",
        "\n",
        "wellFluid2.setMixingRule(2)\n",
        "wellFluid2.init(0)\n",
        "\n",
        "wellFluid2.setMolarComposition([0.08, 3.56, 45.36, 4.02, 1.54, 0.2, 0.42, 0.15, 0.2, 1.24, 1.34, 1.33, 1.19, 2.15, 2.69, 3.5, 1.03])\n",
        "\n",
        "wellStream2 = stream(\"dry well stream 2\", wellFluid2)\n",
        "wellStream2.setFlowRate(inputdata2['feedFlowRateWellB'], \"MSm3/day\")\n",
        "wellStream2.setTemperature(inputdata2['wellTemperature'], \"C\")\n",
        "wellStream2.setPressure(inputdata2['wellPressure'], \"bara\")\n",
        "wellStream2.run()\n",
        "\n",
        "saturatedFeedGas2 = saturator(\"water saturator 2\", wellStream2)\n",
        "saturatedFeedGas2.run()\n",
        "\n",
        "waterSaturatedFeedGas2 = stream(\"water saturated feed gas 2\", saturatedFeedGas2.getOutStream())\n",
        "waterSaturatedFeedGas2.run()\n",
        "\n",
        "feedTPsetter2 = heater('inletTP2', waterSaturatedFeedGas2)\n",
        "feedTPsetter2.setOutPressure(inputdata['topsidePressure'], \"bara\")\n",
        "feedTPsetter2.setOutTemperature(inputdata['topsideTemperature'], \"C\")\n",
        "feedTPsetter2.run()\n",
        "\n",
        "firstStageSeparator.addStream(feedTPsetter2.getOutStream())\n",
        "\n",
        "oilprocess = getProcess()"
      ],
      "metadata": {
        "id": "-gzBm5iL_zzN"
      },
      "execution_count": 169,
      "outputs": []
    },
    {
      "cell_type": "code",
      "source": [
        "oilprocess.run()"
      ],
      "metadata": {
        "id": "UZq2G5zRA3id"
      },
      "execution_count": 170,
      "outputs": []
    },
    {
      "cell_type": "code",
      "source": [
        "TVP = stableOil.TVP(30.0, 'C')\n",
        "cricondenbar = exportGas.CCB('bara')\n",
        "gasexport = exportGas.getFlowRate('MSm3/day')\n",
        "oilexport = stableOil.getFlowRate('m3/hr')\n",
        "\n",
        "print('TVP [bara] ', TVP)\n",
        "print('cricondenbar [bara] ', cricondenbar)\n",
        "print('gas export [MSm3/day] ', gasexport)\n",
        "print('oil export [m3/hr] ', oilexport)"
      ],
      "metadata": {
        "colab": {
          "base_uri": "https://localhost:8080/"
        },
        "id": "WKIM6Dr7A6MF",
        "outputId": "01184e43-4a55-48e7-fc88-c48dc6268edc"
      },
      "execution_count": 171,
      "outputs": [
        {
          "output_type": "stream",
          "name": "stdout",
          "text": [
            "TVP [bara]  0.9733146721194524\n",
            "cricondenbar [bara]  93.58635759214465\n",
            "gas export [MSm3/day]  12.919770068421135\n",
            "oil export [m3/hr]  847.1380575824852\n"
          ]
        }
      ]
    },
    {
      "cell_type": "code",
      "source": [
        "componentNames = wellStream.getFluid().getComponentNames()\n",
        "\n",
        "print ('ORF.......................')\n",
        "for name in componentNames:\n",
        "  total = wellStream.getFluid().getComponent(name).getTotalFlowRate('kg/hr')+wellStream2.getFluid().getComponent(name).getTotalFlowRate('kg/hr')\n",
        "  ORF = stableOil.getFluid().getComponent(name).getTotalFlowRate('kg/hr')/total\n",
        "  print('ORF ', name, ' ', ORF)"
      ],
      "metadata": {
        "colab": {
          "base_uri": "https://localhost:8080/"
        },
        "id": "5_Pak0odA_0s",
        "outputId": "1ddb3311-592b-4a75-cb3f-941c6a0bcd6b"
      },
      "execution_count": 172,
      "outputs": [
        {
          "output_type": "stream",
          "name": "stdout",
          "text": [
            "ORF.......................\n",
            "ORF  nitrogen   2.3676482107329073e-05\n",
            "ORF  CO2   0.003361586995655756\n",
            "ORF  methane   0.0004543507335242167\n",
            "ORF  ethane   0.015329350937399037\n",
            "ORF  propane   0.1028786152142967\n",
            "ORF  i-butane   0.26086370079980664\n",
            "ORF  n-butane   0.3547978599835905\n",
            "ORF  i-pentane   0.6035374975516526\n",
            "ORF  n-pentane   0.6759994308855479\n",
            "ORF  C6_PC   0.89750989699228\n",
            "ORF  C7_PC   0.9654353809739403\n",
            "ORF  C8_PC   0.9885469031792476\n",
            "ORF  C9_PC   0.9960432175492079\n",
            "ORF  C10_PC   0.9983784593733636\n",
            "ORF  C11_PC   0.9998216038462393\n",
            "ORF  C12_PC   0.9999997840960891\n",
            "ORF  C13_PC   0.9999999999998795\n"
          ]
        }
      ]
    },
    {
      "cell_type": "code",
      "source": [
        "#Calculation of K-factors\n",
        "componentNames = wellStream.getFluid().getComponentNames()\n",
        "\n",
        "print ('K.......................')\n",
        "for name in componentNames:\n",
        "  K = exportGas.getFluid().getComponent(name).getz()/stableOil.getFluid().getComponent(name).getz()\n",
        "  print('K ', name, ' ', K)"
      ],
      "metadata": {
        "id": "vSPZaHGXHgqX",
        "outputId": "18aff37c-1f36-4364-d947-334a135ef55e",
        "colab": {
          "base_uri": "https://localhost:8080/"
        }
      },
      "execution_count": 173,
      "outputs": [
        {
          "output_type": "stream",
          "name": "stdout",
          "text": [
            "K.......................\n",
            "K  nitrogen   6815.004720984303\n",
            "K  CO2   47.838863300494594\n",
            "K  methane   354.9809272066515\n",
            "K  ethane   10.364797252120582\n",
            "K  propane   1.4070816813453455\n",
            "K  i-butane   0.45719614278771165\n",
            "K  n-butane   0.293430277384947\n",
            "K  i-pentane   0.10599386688786973\n",
            "K  n-pentane   0.07733551692518068\n",
            "K  C6_PC   0.018425318217675634\n",
            "K  C7_PC   0.0057767650766130324\n",
            "K  C8_PC   0.001869410990665298\n",
            "K  C9_PC   0.0006409797408232483\n",
            "K  C10_PC   0.00026206804036344404\n",
            "K  C11_PC   2.8790391124801608e-05\n",
            "K  C12_PC   3.4838892247469586e-08\n",
            "K  C13_PC   2.7162059142797325e-15\n"
          ]
        }
      ]
    },
    {
      "cell_type": "markdown",
      "source": [
        "# Comment\n",
        "As we can see the ORF of the light components like eg. propane are now a bit higher. This is due to more of the lighter components are extracted in the oil of the more oil dominated new well."
      ],
      "metadata": {
        "id": "iRN6hAcrJG1M"
      }
    },
    {
      "cell_type": "markdown",
      "source": [
        "## Tracking induvidual components from wells\n",
        "IN this example we still send all wells to the 1st stage separator. But we will track components from individual wells."
      ],
      "metadata": {
        "id": "LP6vkQLN0JF8"
      }
    },
    {
      "cell_type": "code",
      "source": [
        "wellFluid = fluid('pr')\n",
        "wellFluid.addComponent(\"nitrogen\", 0.08)\n",
        "wellFluid.addComponent(\"CO2\", 3.56)\n",
        "wellFluid.addComponent(\"methane\", 87.36)\n",
        "wellFluid.addComponent(\"ethane\", 4.02)\n",
        "wellFluid.addComponent(\"propane\", 1.54)\n",
        "wellFluid.addComponent(\"i-butane\", 0.2)\n",
        "wellFluid.addComponent(\"n-butane\", 0.42)\n",
        "wellFluid.addComponent(\"i-pentane\", 0.15)\n",
        "wellFluid.addComponent(\"n-pentane\", 0.20)\n",
        "\n",
        "wellFluid.addTBPfraction(\"C6\", 3.24, 84.99/1000.0, 695.0/1000.0)\n",
        "wellFluid.addTBPfraction(\"C7\", 1.34, 97.87/1000.0, 718.0/1000.0)\n",
        "wellFluid.addTBPfraction(\"C8\", 1.33, 111.54/1000.0, 729.0/1000.0)\n",
        "wellFluid.addTBPfraction(\"C9\", 1.19, 126.1/1000.0, 749.0/1000.0)\n",
        "wellFluid.addTBPfraction(\"C10\", 1.15, 140.14/1000.0, 760.0/1000.0)\n",
        "wellFluid.addTBPfraction(\"C11\", 1.69, 175.0/1000.0, 830.0/1000.0)\n",
        "wellFluid.addTBPfraction(\"C12\", 1.5, 280.0/1000.0, 914.0/1000.0)\n",
        "wellFluid.addTBPfraction(\"C13\", 2.103, 560.0/1000.0, 980.0/1000.0)\n",
        "\n",
        "names = wellFluid.getComponentNames()\n",
        "\n",
        "for i in range(names.length):\n",
        "  wellFluid.changeComponentName(wellFluid.getComponent(i).getName(), (wellFluid.getComponent(i).getName()+\"__well1\"))\n",
        "\n",
        "wellFluid.addComponent(\"nitrogen\", 0.08)\n",
        "wellFluid.addComponent(\"CO2\", 3.56)\n",
        "wellFluid.addComponent(\"methane\", 87.36)\n",
        "wellFluid.addComponent(\"ethane\", 4.02)\n",
        "wellFluid.addComponent(\"propane\", 1.54)\n",
        "wellFluid.addComponent(\"i-butane\", 0.2)\n",
        "wellFluid.addComponent(\"n-butane\", 0.42)\n",
        "wellFluid.addComponent(\"i-pentane\", 0.15)\n",
        "wellFluid.addComponent(\"n-pentane\", 0.20)\n",
        "\n",
        "wellFluid.addTBPfraction(\"C6\", 3.24, 82.99/1000.0, 695.0/1000.0)\n",
        "wellFluid.addTBPfraction(\"C7\", 1.34, 95.87/1000.0, 718.0/1000.0)\n",
        "wellFluid.addTBPfraction(\"C8\", 1.33, 121.54/1000.0, 729.0/1000.0)\n",
        "wellFluid.addTBPfraction(\"C9\", 1.19, 136.1/1000.0, 749.0/1000.0)\n",
        "wellFluid.addTBPfraction(\"C10\", 1.15, 150.14/1000.0, 760.0/1000.0)\n",
        "wellFluid.addTBPfraction(\"C11\", 1.69, 175.0/1000.0, 830.0/1000.0)\n",
        "wellFluid.addTBPfraction(\"C12\", 1.5, 310.0/1000.0, 914.0/1000.0)\n",
        "wellFluid.addTBPfraction(\"C13\", 2.103, 520.0/1000.0, 980.0/1000.0)\n",
        "\n",
        "for i in range(names.length):\n",
        "  wellFluid.changeComponentName(names[i], (wellFluid.getComponent(i).getName().replace(\"well1\", \"well2\")))\n",
        "\n",
        "wellFluid.setMixingRule('classic')\n",
        "\n",
        "printFrame(wellFluid)\n",
        "\n",
        "\n",
        "#and then set the fluid composition of the wells and run simulation\n",
        "\n",
        "from neqsim.thermo import fluid, printFrame\n",
        "from neqsim.process import compressor, cooler, separator3phase, getProcess, clearProcess, mixer, heater, stream, pump, separator, runProcess, stream, saturator, valve, filters, heatExchanger, simpleTEGAbsorber,distillationColumn, waterStripperColumn, recycle, setpoint, calculator\n",
        "\n",
        "wellFluid.setMolarComposition([0.08, 3.56, 87.36, 4.02, 1.54, 0.2, 0.42, 0.15, 0.2, 1.24, 1.34, 1.33, 1.19, 1.15, 1.69, 1.5, 1.03,\n",
        "                               0.0, 0.0, 0.0, 0.0, 0.0, 0.0, 0.0, 0.0, 0.0, 0.0, 0.0, 0.0, 0.0, 0.0, 0.0, 0.0, 0.0])\n",
        "\n",
        "\n",
        "welFluid2 = wellFluid.clone()\n",
        "welFluid2.setMolarComposition([ 0.0, 0.0, 0.0, 0.0, 0.0, 0.0, 0.0, 0.0, 0.0, 0.0, 0.0, 0.0, 0.0, 0.0, 0.0, 0.0, 0.0,\n",
        "                               0.08, 3.56, 45.36, 4.02, 1.54, 0.2, 0.42, 0.15, 0.2, 1.24, 1.34, 1.33, 1.19, 2.15, 2.69, 3.5, 1.03])\n",
        "\n",
        "clearProcess()\n",
        "\n",
        "wellStream = stream(\"dry well stream\", wellFluid)\n",
        "wellStream.setFlowRate(inputdata['feedFlowRateWellA'], \"MSm3/day\")\n",
        "wellStream.setTemperature(inputdata['wellTemperature'], \"C\")\n",
        "wellStream.setPressure(inputdata['wellPressure'], \"bara\")\n",
        "\n",
        "wellStream2 = stream(\"dry well stream2\", welFluid2)\n",
        "wellStream2.setFlowRate(inputdata2['feedFlowRateWellB'], \"MSm3/day\")\n",
        "wellStream2.setTemperature(inputdata2['wellTemperature'], \"C\")\n",
        "wellStream2.setPressure(inputdata2['wellPressure'], \"bara\")\n",
        "\n",
        "wellmixer = mixer('mixer')\n",
        "wellmixer.addStream(wellStream)\n",
        "wellmixer.addStream(wellStream2)\n",
        "\n",
        "feedTPsetter = heater('inletTP', wellmixer.getOutletStream())\n",
        "feedTPsetter.setOutPressure(inputdata['topsidePressure'], \"bara\")\n",
        "feedTPsetter.setOutTemperature(inputdata['topsideTemperature'], \"C\")\n",
        "\n",
        "chokeValve = valve('valve1', feedTPsetter.getOutStream())\n",
        "chokeValve.setOutletPressure(inputdata['firstStagePressure'], 'bara')\n",
        "\n",
        "feedToOffshoreProcess = stream(\"feed to offshore\", chokeValve.getOutStream())\n",
        "\n",
        "firstStageSeparator = separator3phase(\"1st stage separator\", feedToOffshoreProcess)\n",
        "\n",
        "oilHeaterFromFirstStage = heater(\"oil heater second stage\", firstStageSeparator.getOilOutStream())\n",
        "oilHeaterFromFirstStage.setOutTemperature(inputdata['temperatureOilHeater'],'C')\n",
        "\n",
        "oilThrotValve = valve(\"valve oil from first stage\", oilHeaterFromFirstStage.getOutStream())\n",
        "oilThrotValve.setOutletPressure(inputdata['secondStagePressure'])\n",
        "\n",
        "secondStageSeparator = separator3phase(\"2nd stage separator\", oilThrotValve.getOutStream())\n",
        "\n",
        "oilThrotValve2 = valve(\"valve oil from second stage\", secondStageSeparator.getOilOutStream())\n",
        "oilThrotValve2.setOutletPressure(inputdata['thirdStagePressure'])\n",
        "\n",
        "thirdStageSeparator = separator3phase(\"3rd stage separator\", oilThrotValve2.getOutStream())\n",
        "\n",
        "oilThirdStageToSep =  wellStream.clone()\n",
        "oilThirdStageToSep.setName(\"resyc oil\")\n",
        "thirdStageSeparator.addStream(oilThirdStageToSep)\n",
        "\n",
        "stableOil = stream(\"stable oil\", thirdStageSeparator.getOilOutStream())\n",
        "\n",
        "stableOilPump = pump(\"stable oil pump\", stableOil,15.0)\n",
        "\n",
        "firstStageCooler = cooler(\"1st stage cooler\", thirdStageSeparator.getGasOutStream())\n",
        "firstStageCooler.setOutTemperature(inputdata['firstStageSuctionCoolerTemperature'],'C')\n",
        "\n",
        "firstStageScrubber = separator(\"1st stage scrubber\", firstStageCooler.getOutStream())\n",
        "\n",
        "firstStageCompressor = compressor(\"1st stage compressor\", firstStageScrubber.getGasOutStream())\n",
        "firstStageCompressor.setOutletPressure(inputdata['secondStagePressure'])\n",
        "firstStageCompressor.setIsentropicEfficiency(0.75)\n",
        "\n",
        "firststGasMixer = mixer(\"first Stage mixer\")\n",
        "firststGasMixer.addStream(firstStageCompressor.getOutStream())\n",
        "firststGasMixer.addStream(secondStageSeparator.getGasOutStream())\n",
        "\n",
        "secondStageCooler = cooler(\"2nd stage cooler\", firststGasMixer.getOutStream())\n",
        "secondStageCooler.setOutTemperature(inputdata['secondStageSuctionCoolerTemperature'],'C')\n",
        "\n",
        "secondStageScrubber = separator(\"2nd stage scrubber\", secondStageCooler.getOutStream())\n",
        "\n",
        "secondStageCompressor = compressor(\"2nd stage compressor\", secondStageScrubber.getGasOutStream())\n",
        "secondStageCompressor.setOutletPressure(inputdata['firstStagePressure'])\n",
        "secondStageCompressor.setIsentropicEfficiency(0.75)\n",
        "\n",
        "richGasMixer = mixer(\"fourth Stage mixer\")\n",
        "richGasMixer.addStream(secondStageCompressor.getOutStream())\n",
        "richGasMixer.addStream(firstStageSeparator.getGasOutStream())\n",
        "\n",
        "dewPointControlCooler = cooler(\"dew point cooler\", richGasMixer.getOutStream())\n",
        "dewPointControlCooler.setOutTemperature(inputdata['thirdStageSuctionCoolerTemperature'],'C')\n",
        "\n",
        "dewPointScrubber = separator(\"dew point scrubber\", dewPointControlCooler.getOutStream())\n",
        "\n",
        "lpLiqmixer = mixer(\"LP liq gas mixer\");\n",
        "lpLiqmixer.addStream(firstStageScrubber.getLiquidOutStream());\n",
        "lpLiqmixer.addStream(secondStageScrubber.getLiquidOutStream());\n",
        "lpLiqmixer.addStream(dewPointScrubber.getLiquidOutStream());\n",
        "\n",
        "lpResycle = recycle(\"LP liq resycle\")\n",
        "lpResycle.addStream(lpLiqmixer.getOutStream())\n",
        "lpResycle.setOutletStream(oilThirdStageToSep)\n",
        "\n",
        "exportCompressor1 = compressor(\"export 1st stage\", dewPointScrubber.getGasOutStream())\n",
        "exportCompressor1.setOutletPressure(140.0)\n",
        "exportCompressor1.setIsentropicEfficiency(0.75)\n",
        "\n",
        "exportInterstageCooler = cooler(\"interstage stage cooler\", exportCompressor1.getOutStream())\n",
        "exportInterstageCooler.setOutTemperature(inputdata['firstStageExportCoolerTemperature'],'C')\n",
        "\n",
        "exportCompressor2= compressor(\"export 2nd stage\", exportInterstageCooler.getOutStream())\n",
        "exportCompressor2.setOutletPressure(200.0)\n",
        "exportCompressor2.setIsentropicEfficiency(0.75)\n",
        "\n",
        "exportCooler = cooler(\"export cooler\", exportCompressor1.getOutStream())\n",
        "exportCooler.setOutTemperature(inputdata['secondStageExportCoolerTemperature'],'C')\n",
        "\n",
        "exportGas = stream(\"export gas\", exportCooler.getOutStream())\n",
        "\n",
        "oilprocess = getProcess()"
      ],
      "metadata": {
        "id": "TxX3nkb50NrZ",
        "outputId": "444481bd-e7c4-4f60-9688-9d38ada34e7b",
        "colab": {
          "base_uri": "https://localhost:8080/"
        }
      },
      "execution_count": 185,
      "outputs": [
        {
          "output_type": "stream",
          "name": "stdout",
          "text": [
            "| 0                    | 1          | 2          | 3          | 4   | 5   | 6               |\n",
            "|:---------------------|:-----------|:-----------|:-----------|:----|:----|:----------------|\n",
            "|                      | total      | GAS        | OIL        |     |     |                 |\n",
            "| nitrogen__well1      | 3.60124E-4 | 3.60124E-4 | 3.60124E-4 |     |     | [mole fraction] |\n",
            "| CO2__well1           | 1.60255E-2 | 1.60255E-2 | 1.60255E-2 |     |     | [mole fraction] |\n",
            "| methane__well1       | 3.93255E-1 | 3.93255E-1 | 3.93255E-1 |     |     | [mole fraction] |\n",
            "| ethane__well1        | 1.80962E-2 | 1.80962E-2 | 1.80962E-2 |     |     | [mole fraction] |\n",
            "| propane__well1       | 6.93238E-3 | 6.93238E-3 | 6.93238E-3 |     |     | [mole fraction] |\n",
            "| i-butane__well1      | 9.00309E-4 | 9.00309E-4 | 9.00309E-4 |     |     | [mole fraction] |\n",
            "| n-butane__well1      | 1.89065E-3 | 1.89065E-3 | 1.89065E-3 |     |     | [mole fraction] |\n",
            "| i-pentane__well1     | 6.75232E-4 | 6.75232E-4 | 6.75232E-4 |     |     | [mole fraction] |\n",
            "| n-pentane__well1     | 9.00309E-4 | 9.00309E-4 | 9.00309E-4 |     |     | [mole fraction] |\n",
            "| C6_PC__well1         | 1.4585E-2  | 1.4585E-2  | 1.4585E-2  |     |     | [mole fraction] |\n",
            "| C7_PC__well1         | 6.03207E-3 | 6.03207E-3 | 6.03207E-3 |     |     | [mole fraction] |\n",
            "| C8_PC__well1         | 5.98705E-3 | 5.98705E-3 | 5.98705E-3 |     |     | [mole fraction] |\n",
            "| C9_PC__well1         | 5.35684E-3 | 5.35684E-3 | 5.35684E-3 |     |     | [mole fraction] |\n",
            "| C10_PC__well1        | 5.17678E-3 | 5.17678E-3 | 5.17678E-3 |     |     | [mole fraction] |\n",
            "| C11_PC__well1        | 7.60761E-3 | 7.60761E-3 | 7.60761E-3 |     |     | [mole fraction] |\n",
            "| C12_PC__well1        | 6.75232E-3 | 6.75232E-3 | 6.75232E-3 |     |     | [mole fraction] |\n",
            "| C13_PC__well1        | 9.46675E-3 | 9.46675E-3 | 9.46675E-3 |     |     | [mole fraction] |\n",
            "| nitrogen__well2      | 3.60124E-4 | 3.60124E-4 | 3.60124E-4 |     |     | [mole fraction] |\n",
            "| CO2__well2           | 1.60255E-2 | 1.60255E-2 | 1.60255E-2 |     |     | [mole fraction] |\n",
            "| methane__well2       | 3.93255E-1 | 3.93255E-1 | 3.93255E-1 |     |     | [mole fraction] |\n",
            "| ethane__well2        | 1.80962E-2 | 1.80962E-2 | 1.80962E-2 |     |     | [mole fraction] |\n",
            "| propane__well2       | 6.93238E-3 | 6.93238E-3 | 6.93238E-3 |     |     | [mole fraction] |\n",
            "| i-butane__well2      | 9.00309E-4 | 9.00309E-4 | 9.00309E-4 |     |     | [mole fraction] |\n",
            "| n-butane__well2      | 1.89065E-3 | 1.89065E-3 | 1.89065E-3 |     |     | [mole fraction] |\n",
            "| i-pentane__well2     | 6.75232E-4 | 6.75232E-4 | 6.75232E-4 |     |     | [mole fraction] |\n",
            "| n-pentane__well2     | 9.00309E-4 | 9.00309E-4 | 9.00309E-4 |     |     | [mole fraction] |\n",
            "| C6_PC__well2         | 1.4585E-2  | 1.4585E-2  | 1.4585E-2  |     |     | [mole fraction] |\n",
            "| C7_PC__well2         | 6.03207E-3 | 6.03207E-3 | 6.03207E-3 |     |     | [mole fraction] |\n",
            "| C8_PC__well2         | 5.98705E-3 | 5.98705E-3 | 5.98705E-3 |     |     | [mole fraction] |\n",
            "| C9_PC__well2         | 5.35684E-3 | 5.35684E-3 | 5.35684E-3 |     |     | [mole fraction] |\n",
            "| C10_PC__well2        | 5.17678E-3 | 5.17678E-3 | 5.17678E-3 |     |     | [mole fraction] |\n",
            "| C11_PC__well2        | 7.60761E-3 | 7.60761E-3 | 7.60761E-3 |     |     | [mole fraction] |\n",
            "| C12_PC__well2        | 6.75232E-3 | 6.75232E-3 | 6.75232E-3 |     |     | [mole fraction] |\n",
            "| C13_PC__well2        | 9.46675E-3 | 9.46675E-3 | 9.46675E-3 |     |     | [mole fraction] |\n",
            "|                      |            |            |            |     |     |                 |\n",
            "| Density              |            | 1.69943E0  | 1.69943E0  |     |     | kg/m3           |\n",
            "| Phase Fraction       |            | 1E0        | 1E0        |     |     | [mole fraction] |\n",
            "| Molar Mass           | 4.10922E-2 | 4.10922E-2 | 4.10922E-2 |     |     | kg/mol          |\n",
            "| Z factor             |            | 9.88333E-1 | 9.88333E-1 |     |     | [-]             |\n",
            "| Heat Capacity (Cp)   |            | 1.70505E0  | 1.70505E0  |     |     | kJ/kgK          |\n",
            "| Heat Capacity (Cv)   |            | 1.4937E0   | 1.4937E0   |     |     | kJ/kgK          |\n",
            "| Speed of Sound       |            | 2.59305E2  | 2.59305E2  |     |     | m/sec           |\n",
            "| Enthalpy             | 7.84441E4  | 3.9222E4   | 3.9222E4   |     |     | J/kg            |\n",
            "| Entropy              | 9.8092E2   | 4.9046E2   | 4.9046E2   |     |     | J/kgK           |\n",
            "| JT coefficient       |            | 1.18288E0  | 1.18288E0  |     |     | C/bar           |\n",
            "|                      |            |            |            |     |     |                 |\n",
            "| Viscosity            |            | 1.02915E-5 | 1.02915E-5 |     |     | kg/msec         |\n",
            "| Thermal Conductivity |            | 2.43471E-2 | 2.43471E-2 |     |     | W/mK            |\n",
            "| Surface Tension      |            | 0E0        | 0E0        |     |     | [N/m]           |\n",
            "|                      |            |            |            |     |     |                 |\n",
            "|                      |            |            |            |     |     |                 |\n",
            "|                      |            |            |            |     |     |                 |\n",
            "| Pressure             |            | 1.01325    | 1.01325    |     |     | bara            |\n",
            "| Temperature          |            | 25.0       | 25.0       |     |     | C               |\n",
            "|                      |            |            |            |     |     |                 |\n",
            "| Model                |            | PR-EOS     | PR-EOS     |     |     | -               |\n",
            "| Mixing Rule          |            | classic    | classic    |     |     | -               |\n",
            "|                      |            |            |            |     |     |                 |\n",
            "| Stream               |            |            |            |     |     | -               |\n",
            "|                      |            |            |            |     |     |                 |\n",
            "|                      |            |            |            |     |     |                 |\n",
            "|                      |            |            |            |     |     |                 |\n",
            "|                      |            |            |            |     |     |                 |\n"
          ]
        }
      ]
    },
    {
      "cell_type": "code",
      "source": [
        "oilprocess.run()"
      ],
      "metadata": {
        "id": "FYtX6Cw54sji"
      },
      "execution_count": 186,
      "outputs": []
    },
    {
      "cell_type": "code",
      "source": [
        "TVP = stableOil.TVP(30.0, 'C')\n",
        "cricondenbar = exportGas.CCB('bara')\n",
        "gasexport = exportGas.getFlowRate('MSm3/day')\n",
        "oilexport = stableOil.getFlowRate('m3/hr')\n",
        "\n",
        "print('TVP [bara] ', TVP)\n",
        "print('cricondenbar [bara] ', cricondenbar)\n",
        "print('gas export [MSm3/day] ', gasexport)\n",
        "print('oil export [m3/hr] ', oilexport)"
      ],
      "metadata": {
        "id": "GL_4ViMW4x9I",
        "outputId": "fcbc5d4e-74ec-46ed-f937-0546e356373f",
        "colab": {
          "base_uri": "https://localhost:8080/"
        }
      },
      "execution_count": 187,
      "outputs": [
        {
          "output_type": "stream",
          "name": "stdout",
          "text": [
            "TVP [bara]  0.9710335465410879\n",
            "cricondenbar [bara]  93.41499393508316\n",
            "gas export [MSm3/day]  12.918436531278617\n",
            "oil export [m3/hr]  862.783626988959\n"
          ]
        }
      ]
    },
    {
      "cell_type": "code",
      "source": [
        "printFrame(exportGas.getFluid())"
      ],
      "metadata": {
        "id": "iD7UEcvO46vd",
        "outputId": "50a10b3d-d5c8-4c90-f8cf-589880de7a00",
        "colab": {
          "base_uri": "https://localhost:8080/"
        }
      },
      "execution_count": 177,
      "outputs": [
        {
          "output_type": "stream",
          "name": "stdout",
          "text": [
            "| 0                    | 1           | 2           | 3   | 4   | 5   | 6               |\n",
            "|:---------------------|:------------|:------------|:----|:----|:----|:----------------|\n",
            "|                      | total       | GAS         |     |     |     |                 |\n",
            "| nitrogen__well1      | 5.61595E-4  | 5.61595E-4  |     |     |     | [mole fraction] |\n",
            "| CO2__well1           | 2.4947E-2   | 2.4947E-2   |     |     |     | [mole fraction] |\n",
            "| methane__well1       | 6.13133E-1  | 6.13133E-1  |     |     |     | [mole fraction] |\n",
            "| ethane__well1        | 2.79685E-2  | 2.79685E-2  |     |     |     | [mole fraction] |\n",
            "| propane__well1       | 1.00256E-2  | 1.00256E-2  |     |     |     | [mole fraction] |\n",
            "| i-butane__well1      | 1.10662E-3  | 1.10662E-3  |     |     |     | [mole fraction] |\n",
            "| n-butane__well1      | 2.05451E-3  | 2.05451E-3  |     |     |     | [mole fraction] |\n",
            "| i-pentane__well1     | 4.55129E-4  | 4.55129E-4  |     |     |     | [mole fraction] |\n",
            "| n-pentane__well1     | 4.93857E-4  | 4.93857E-4  |     |     |     | [mole fraction] |\n",
            "| C6_PC__well1         | 9.20212E-4  | 9.20212E-4  |     |     |     | [mole fraction] |\n",
            "| C7_PC__well1         | 3.24031E-4  | 3.24031E-4  |     |     |     | [mole fraction] |\n",
            "| C8_PC__well1         | 1.0669E-4   | 1.0669E-4   |     |     |     | [mole fraction] |\n",
            "| C9_PC__well1         | 3.38396E-5  | 3.38396E-5  |     |     |     | [mole fraction] |\n",
            "| C10_PC__well1        | 1.37392E-5  | 1.37392E-5  |     |     |     | [mole fraction] |\n",
            "| C11_PC__well1        | 2.32955E-6  | 2.32955E-6  |     |     |     | [mole fraction] |\n",
            "| C12_PC__well1        | 2.81406E-9  | 2.81406E-9  |     |     |     | [mole fraction] |\n",
            "| C13_PC__well1        | 2.02618E-16 | 2.02618E-16 |     |     |     | [mole fraction] |\n",
            "| nitrogen__well2      | 5.38688E-3  | 5.38688E-3  |     |     |     | [mole fraction] |\n",
            "| CO2__well2           | 1.77255E-2  | 1.77255E-2  |     |     |     | [mole fraction] |\n",
            "| methane__well2       | 2.26201E-1  | 2.26201E-1  |     |     |     | [mole fraction] |\n",
            "| ethane__well2        | 9.9856E-3   | 9.9856E-3   |     |     |     | [mole fraction] |\n",
            "| propane__well2       | 3.4877E-2   | 3.4877E-2   |     |     |     | [mole fraction] |\n",
            "| i-butane__well2      | 2.04433E-2  | 2.04433E-2  |     |     |     | [mole fraction] |\n",
            "| n-butane__well2      | 1.45978E-3  | 1.45978E-3  |     |     |     | [mole fraction] |\n",
            "| i-pentane__well2     | 3.23381E-4  | 3.23381E-4  |     |     |     | [mole fraction] |\n",
            "| n-pentane__well2     | 3.50898E-4  | 3.50898E-4  |     |     |     | [mole fraction] |\n",
            "| C6_PC__well2         | 7.68943E-4  | 7.68943E-4  |     |     |     | [mole fraction] |\n",
            "| C7_PC__well2         | 2.72323E-4  | 2.72323E-4  |     |     |     | [mole fraction] |\n",
            "| C8_PC__well2         | 3.78767E-5  | 3.78767E-5  |     |     |     | [mole fraction] |\n",
            "| C9_PC__well2         | 1.31482E-5  | 1.31482E-5  |     |     |     | [mole fraction] |\n",
            "| C10_PC__well2        | 5.56332E-6  | 5.56332E-6  |     |     |     | [mole fraction] |\n",
            "| C11_PC__well2        | 1.65521E-6  | 1.65521E-6  |     |     |     | [mole fraction] |\n",
            "| C12_PC__well2        | 3.0107E-10  | 3.0107E-10  |     |     |     | [mole fraction] |\n",
            "| C13_PC__well2        | 8.23314E-16 | 8.23314E-16 |     |     |     | [mole fraction] |\n",
            "|                      |             |             |     |     |     |                 |\n",
            "| Density              |             | 1.59222E2   |     |     |     | kg/m3           |\n",
            "| Phase Fraction       |             | 1E0         |     |     |     | [mole fraction] |\n",
            "| Molar Mass           | 2.04312E-2  | 2.04312E-2  |     |     |     | kg/mol          |\n",
            "| Z factor             |             | 7.25907E-1  |     |     |     | [-]             |\n",
            "| Heat Capacity (Cp)   |             | 3.38641E0   |     |     |     | kJ/kgK          |\n",
            "| Heat Capacity (Cv)   |             | 1.68007E0   |     |     |     | kJ/kgK          |\n",
            "| Speed of Sound       |             | 4.01461E2   |     |     |     | m/sec           |\n",
            "| Enthalpy             | -1.27551E5  | -1.27551E5  |     |     |     | J/kg            |\n",
            "| Entropy              | -1.74261E3  | -1.74261E3  |     |     |     | J/kgK           |\n",
            "| JT coefficient       |             | 2.70739E-1  |     |     |     | C/bar           |\n",
            "|                      |             |             |     |     |     |                 |\n",
            "| Viscosity            |             | 1.85586E-5  |     |     |     | kg/msec         |\n",
            "| Thermal Conductivity |             | 5.08133E-2  |     |     |     | W/mK            |\n",
            "| Surface Tension      |             |             |     |     |     | [N/m]           |\n",
            "|                      |             |             |     |     |     |                 |\n",
            "|                      |             |             |     |     |     |                 |\n",
            "|                      |             |             |     |     |     |                 |\n",
            "| Pressure             |             | 140.0       |     |     |     | bara            |\n",
            "| Temperature          |             | 24.5        |     |     |     | C               |\n",
            "|                      |             |             |     |     |     |                 |\n",
            "| Model                |             | PR-EOS      |     |     |     | -               |\n",
            "| Mixing Rule          |             | classic     |     |     |     | -               |\n",
            "|                      |             |             |     |     |     |                 |\n",
            "| Stream               |             |             |     |     |     | -               |\n",
            "|                      |             |             |     |     |     |                 |\n",
            "|                      |             |             |     |     |     |                 |\n",
            "|                      |             |             |     |     |     |                 |\n",
            "|                      |             |             |     |     |     |                 |\n"
          ]
        }
      ]
    },
    {
      "cell_type": "markdown",
      "source": [
        "calculation of ORF factors for the induvidual components from well 1 and 2."
      ],
      "metadata": {
        "id": "gLilbWyiDw3u"
      }
    },
    {
      "cell_type": "code",
      "source": [
        "componentNames = wellStream.getFluid().getComponentNames()\n",
        "\n",
        "print ('ORF factors.......................')\n",
        "for name in componentNames:\n",
        "  total = wellStream.getFluid().getComponent(name).getTotalFlowRate('kg/hr') + wellStream2.getFluid().getComponent(name).getTotalFlowRate('kg/hr')\n",
        "  ORF = stableOil.getFluid().getComponent(name).getTotalFlowRate('kg/hr')/total\n",
        "  print('ORF ', name, ' ', ORF)"
      ],
      "metadata": {
        "colab": {
          "base_uri": "https://localhost:8080/"
        },
        "id": "bQRf5rpBDwFR",
        "outputId": "e7e6672d-6b86-4b7a-c76a-f8357845a8fc"
      },
      "execution_count": 178,
      "outputs": [
        {
          "output_type": "stream",
          "name": "stdout",
          "text": [
            "ORF factors.......................\n",
            "ORF  nitrogen__well1   1.0774586850732603e-05\n",
            "ORF  CO2__well1   0.0017712599962050656\n",
            "ORF  methane__well1   0.0002211624486556166\n",
            "ORF  ethane__well1   0.008929986697870847\n",
            "ORF  propane__well1   0.07263622696727312\n",
            "ORF  i-butane__well1   0.21181078192935954\n",
            "ORF  n-butane__well1   0.30317555760562104\n",
            "ORF  i-pentane__well1   0.5677737744883214\n",
            "ORF  n-pentane__well1   0.6482443749891507\n",
            "ORF  C6_PC__well1   0.8942840122610006\n",
            "ORF  C7_PC__well1   0.965552522688288\n",
            "ORF  C8_PC__well1   0.9885726108922712\n",
            "ORF  C9_PC__well1   0.9959490872136797\n",
            "ORF  C10_PC__well1   0.9982980887044435\n",
            "ORF  C11_PC__well1   0.9998036393046543\n",
            "ORF  C12_PC__well1   0.9999997327618382\n",
            "ORF  C13_PC__well1   0.9999999999999717\n",
            "ORF  nitrogen__well2   1.0774586850732587e-05\n",
            "ORF  CO2__well2   0.0017712599961938467\n",
            "ORF  methane__well2   0.00022116244865557272\n",
            "ORF  ethane__well2   0.008929986696756811\n",
            "ORF  propane__well2   0.07263622653074119\n",
            "ORF  i-butane__well2   0.21181077255380007\n",
            "ORF  n-butane__well2   0.303175533651004\n",
            "ORF  i-pentane__well2   0.5677736745587211\n",
            "ORF  n-pentane__well2   0.648244256113988\n",
            "ORF  C6_PC__well2   0.8756726623943807\n",
            "ORF  C7_PC__well2   0.9592550397716014\n",
            "ORF  C8_PC__well2   0.9942902734588493\n",
            "ORF  C9_PC__well2   0.9977848083422939\n",
            "ORF  C10_PC__well2   0.9990300980987771\n",
            "ORF  C11_PC__well2   0.9998036393046543\n",
            "ORF  C12_PC__well2   0.9999999597608609\n",
            "ORF  C13_PC__well2   0.9999999999998396\n"
          ]
        }
      ]
    },
    {
      "cell_type": "code",
      "source": [
        "#calculation of flow of wellstream 1 in oil and gas export\n",
        "\n",
        "componentNames = wellStream.getFluid().getComponentNames()\n",
        "\n",
        "totalGasFlowFromWell1 = 0\n",
        "totalOilFlowFromWell1 = 0\n",
        "for name in componentNames:\n",
        "  if(wellStream.getFluid().getComponent(name).getz()>0):\n",
        "    totalGasFlowFromWell1 = totalGasFlowFromWell1 + exportGas.getFluid().getComponent(name).getFlowRate('kg/hr')\n",
        "    totalOilFlowFromWell1 = totalOilFlowFromWell1 + stableOil.getFluid().getComponent(name).getFlowRate('kg/hr')\n",
        "\n",
        "print('well stream 1 flow ' , wellStream.getFlowRate('kg/hr'), ' kg/hr')\n",
        "print('well stream 1 in export gas ', totalGasFlowFromWell1, ' kg/hr')\n",
        "print('well stream 1 in stable oil ', totalOilFlowFromWell1, ' kg/hr')\n"
      ],
      "metadata": {
        "colab": {
          "base_uri": "https://localhost:8080/"
        },
        "id": "1zVbgjLMHpYZ",
        "outputId": "3220bb7d-5738-414d-cbf4-001ef0130aed"
      },
      "execution_count": 179,
      "outputs": [
        {
          "output_type": "stream",
          "name": "stdout",
          "text": [
            "well stream 1 flow  619893.2766954034  kg/hr\n",
            "well stream 1 in export gas  293183.3621807517  kg/hr\n",
            "well stream 1 in stable oil  326709.77040884685  kg/hr\n"
          ]
        }
      ]
    },
    {
      "cell_type": "markdown",
      "source": [
        "Evaluating effect of production rate of well 1 for well 2 gas/oil export allocation"
      ],
      "metadata": {
        "id": "7nsBLE-WN-Vl"
      }
    },
    {
      "cell_type": "code",
      "source": [
        "import matplotlib.pyplot as plt\n",
        "\n",
        "well1production = [0.1, 0.5, 0.9, 1.5, 2, 2.5, 3, 3.5, 4, 4.5, 5]\n",
        "well2Gas = []\n",
        "well2Oil = []\n",
        "\n",
        "#set flow from well 2\n",
        "oilprocess.getUnit('dry well stream2').setFlowRate(5.0, \"MSm3/day\")\n",
        "\n",
        "for production in well1production:\n",
        "  oilprocess.getUnit('dry well stream').setFlowRate(production, \"MSm3/day\")\n",
        "  oilprocess.run()\n",
        "\n",
        "  totalGasFlowFromWell2 = 0\n",
        "  totalOilFlowFromWell2 = 0\n",
        "  for name in componentNames:\n",
        "    if(wellStream2.getFluid().getComponent(name).getz()>0):\n",
        "      totalGasFlowFromWell2 = totalGasFlowFromWell2 + exportGas.getFluid().getComponent(name).getFlowRate('kg/hr')\n",
        "      totalOilFlowFromWell2 = totalOilFlowFromWell2 + stableOil.getFluid().getComponent(name).getFlowRate('kg/hr')\n",
        "  well2Gas.append(totalGasFlowFromWell2)\n",
        "  well2Oil.append(totalOilFlowFromWell2)\n",
        "\n",
        "plt.figure()\n",
        "plt.xlabel('Well 1 production [MSm3/day]')\n",
        "plt.ylabel('Well 2 export [kg/hr]')\n",
        "plt.plot(well1production, well2Gas)\n",
        "plt.plot(well1production, well2Oil)\n",
        "plt.legend(['gas', 'oil'])"
      ],
      "metadata": {
        "id": "HGwSAfaaOLnW",
        "outputId": "a3ac9439-dbfe-4c8b-d6f9-981ce7e9b959",
        "colab": {
          "base_uri": "https://localhost:8080/",
          "height": 466
        }
      },
      "execution_count": 180,
      "outputs": [
        {
          "output_type": "execute_result",
          "data": {
            "text/plain": [
              "<matplotlib.legend.Legend at 0x787ce52c4b50>"
            ]
          },
          "metadata": {},
          "execution_count": 180
        },
        {
          "output_type": "display_data",
          "data": {
            "text/plain": [
              "<Figure size 640x480 with 1 Axes>"
            ],
            "image/png": "[encoded data removed]"
          },
          "metadata": {}
        }
      ]
    },
    {
      "cell_type": "markdown",
      "source": [
        "We see that when increasing the production of a well with high GOR (well 1), the the allocated oil production for the low GOR well (well 2) will decrease while gas allocation will increase.\n",
        "\n",
        "A similar analysis could be done to see how different wells influence process capacity, power consumption and emissions for a field."
      ],
      "metadata": {
        "id": "q7h4IxRPYAXC"
      }
    },
    {
      "cell_type": "markdown",
      "source": [
        "# Sending well stream 2 to the 2nd stage separator\n",
        "IN the follwoing example we will see how ORF will be affected if we instead of sending both well stream 1 and well stream 2 to first stage (same ORF), but rather send well stream 1 to ast stage and well strem 2 to 2nd stage."
      ],
      "metadata": {
        "id": "mrT_zFwDTokC"
      }
    },
    {
      "cell_type": "code",
      "source": [
        "wellFluid = fluid('pr')\n",
        "wellFluid.addComponent(\"nitrogen\", 0.08)\n",
        "wellFluid.addComponent(\"CO2\", 3.56)\n",
        "wellFluid.addComponent(\"methane\", 87.36)\n",
        "wellFluid.addComponent(\"ethane\", 4.02)\n",
        "wellFluid.addComponent(\"propane\", 1.54)\n",
        "wellFluid.addComponent(\"i-butane\", 0.2)\n",
        "wellFluid.addComponent(\"n-butane\", 0.42)\n",
        "wellFluid.addComponent(\"i-pentane\", 0.15)\n",
        "wellFluid.addComponent(\"n-pentane\", 0.20)\n",
        "\n",
        "wellFluid.addTBPfraction(\"C6\", 3.24, 84.99/1000.0, 695.0/1000.0)\n",
        "wellFluid.addTBPfraction(\"C7\", 1.34, 97.87/1000.0, 718.0/1000.0)\n",
        "wellFluid.addTBPfraction(\"C8\", 1.33, 111.54/1000.0, 729.0/1000.0)\n",
        "wellFluid.addTBPfraction(\"C9\", 1.19, 126.1/1000.0, 749.0/1000.0)\n",
        "wellFluid.addTBPfraction(\"C10\", 1.15, 140.14/1000.0, 760.0/1000.0)\n",
        "wellFluid.addTBPfraction(\"C11\", 1.69, 175.0/1000.0, 830.0/1000.0)\n",
        "wellFluid.addTBPfraction(\"C12\", 1.5, 280.0/1000.0, 914.0/1000.0)\n",
        "wellFluid.addTBPfraction(\"C13\", 2.103, 560.0/1000.0, 980.0/1000.0)\n",
        "\n",
        "names = wellFluid.getComponentNames()\n",
        "\n",
        "for i in range(names.length):\n",
        "  wellFluid.changeComponentName(wellFluid.getComponent(i).getName(), (wellFluid.getComponent(i).getName()+\"__well1\"))\n",
        "\n",
        "wellFluid.addComponent(\"nitrogen\", 0.08)\n",
        "wellFluid.addComponent(\"CO2\", 3.56)\n",
        "wellFluid.addComponent(\"methane\", 87.36)\n",
        "wellFluid.addComponent(\"ethane\", 4.02)\n",
        "wellFluid.addComponent(\"propane\", 1.54)\n",
        "wellFluid.addComponent(\"i-butane\", 0.2)\n",
        "wellFluid.addComponent(\"n-butane\", 0.42)\n",
        "wellFluid.addComponent(\"i-pentane\", 0.15)\n",
        "wellFluid.addComponent(\"n-pentane\", 0.20)\n",
        "\n",
        "wellFluid.addTBPfraction(\"C6\", 3.24, 82.99/1000.0, 695.0/1000.0)\n",
        "wellFluid.addTBPfraction(\"C7\", 1.34, 95.87/1000.0, 718.0/1000.0)\n",
        "wellFluid.addTBPfraction(\"C8\", 1.33, 121.54/1000.0, 729.0/1000.0)\n",
        "wellFluid.addTBPfraction(\"C9\", 1.19, 136.1/1000.0, 749.0/1000.0)\n",
        "wellFluid.addTBPfraction(\"C10\", 1.15, 150.14/1000.0, 760.0/1000.0)\n",
        "wellFluid.addTBPfraction(\"C11\", 1.69, 175.0/1000.0, 830.0/1000.0)\n",
        "wellFluid.addTBPfraction(\"C12\", 1.5, 310.0/1000.0, 914.0/1000.0)\n",
        "wellFluid.addTBPfraction(\"C13\", 2.103, 520.0/1000.0, 980.0/1000.0)\n",
        "\n",
        "for i in range(names.length):\n",
        "  wellFluid.changeComponentName(names[i], (wellFluid.getComponent(i).getName().replace(\"well1\", \"well2\")))\n",
        "\n",
        "wellFluid.setMixingRule('classic')\n",
        "\n",
        "printFrame(wellFluid)\n",
        "\n",
        "\n",
        "#and then set the fluid composition of the wells and run simulation\n",
        "\n",
        "from neqsim.thermo import fluid, printFrame\n",
        "from neqsim.process import compressor, cooler, separator3phase, getProcess, clearProcess, mixer, heater, stream, pump, separator, runProcess, stream, saturator, valve, filters, heatExchanger, simpleTEGAbsorber,distillationColumn, waterStripperColumn, recycle, setpoint, calculator\n",
        "\n",
        "wellFluid.setMolarComposition([0.08, 3.56, 87.36, 4.02, 1.54, 0.2, 0.42, 0.15, 0.2, 1.24, 1.34, 1.33, 1.19, 1.15, 1.69, 1.5, 1.03,\n",
        "                               0.0, 0.0, 0.0, 0.0, 0.0, 0.0, 0.0, 0.0, 0.0, 0.0, 0.0, 0.0, 0.0, 0.0, 0.0, 0.0, 0.0])\n",
        "\n",
        "\n",
        "welFluid2 = wellFluid.clone()\n",
        "welFluid2.setMolarComposition([ 0.0, 0.0, 0.0, 0.0, 0.0, 0.0, 0.0, 0.0, 0.0, 0.0, 0.0, 0.0, 0.0, 0.0, 0.0, 0.0, 0.0,\n",
        "                               1.08, 3.56, 45.36, 2.02, 7.54, 5.2, 0.42, 0.15, 0.2, 1.24, 1.34, 1.33, 1.19, 1.15, 1.69, 1.5, 1.03])\n",
        "\n",
        "clearProcess()\n",
        "\n",
        "wellStream = stream(\"dry well stream\", wellFluid)\n",
        "wellStream.setFlowRate(inputdata['feedFlowRateWellA'], \"MSm3/day\")\n",
        "wellStream.setTemperature(inputdata['wellTemperature'], \"C\")\n",
        "wellStream.setPressure(inputdata['wellPressure'], \"bara\")\n",
        "\n",
        "wellStream2 = stream(\"dry well stream2\", welFluid2)\n",
        "wellStream2.setFlowRate(inputdata2['feedFlowRateWellB'], \"MSm3/day\")\n",
        "wellStream2.setTemperature(inputdata['temperatureOilHeater'], \"C\")\n",
        "wellStream2.setPressure(inputdata['secondStagePressure'], \"bara\")\n",
        "\n",
        "wellmixer = mixer('mixer')\n",
        "wellmixer.addStream(wellStream)\n",
        "#wellmixer.addStream(wellStream2)\n",
        "\n",
        "feedTPsetter = heater('inletTP', wellmixer.getOutletStream())\n",
        "feedTPsetter.setOutPressure(inputdata['topsidePressure'], \"bara\")\n",
        "feedTPsetter.setOutTemperature(inputdata['topsideTemperature'], \"C\")\n",
        "\n",
        "chokeValve = valve('valve1', feedTPsetter.getOutStream())\n",
        "chokeValve.setOutletPressure(inputdata['firstStagePressure'], 'bara')\n",
        "\n",
        "feedToOffshoreProcess = stream(\"feed to offshore\", chokeValve.getOutStream())\n",
        "\n",
        "firstStageSeparator = separator3phase(\"1st stage separator\", feedToOffshoreProcess)\n",
        "\n",
        "oilHeaterFromFirstStage = heater(\"oil heater second stage\", firstStageSeparator.getOilOutStream())\n",
        "oilHeaterFromFirstStage.setOutTemperature(inputdata['temperatureOilHeater'],'C')\n",
        "\n",
        "oilThrotValve = valve(\"valve oil from first stage\", oilHeaterFromFirstStage.getOutStream())\n",
        "oilThrotValve.setOutletPressure(inputdata['secondStagePressure'])\n",
        "\n",
        "secondStageSeparator = separator3phase(\"2nd stage separator\", oilThrotValve.getOutStream())\n",
        "secondStageSeparator.addStream(wellStream2)\n",
        "\n",
        "oilThrotValve2 = valve(\"valve oil from second stage\", secondStageSeparator.getOilOutStream())\n",
        "oilThrotValve2.setOutletPressure(inputdata['thirdStagePressure'])\n",
        "\n",
        "thirdStageSeparator = separator3phase(\"3rd stage separator\", oilThrotValve2.getOutStream())\n",
        "\n",
        "oilThirdStageToSep =  wellStream.clone()\n",
        "oilThirdStageToSep.setName(\"resyc oil\")\n",
        "thirdStageSeparator.addStream(oilThirdStageToSep)\n",
        "\n",
        "stableOil = stream(\"stable oil\", thirdStageSeparator.getOilOutStream())\n",
        "\n",
        "stableOilPump = pump(\"stable oil pump\", stableOil,15.0)\n",
        "\n",
        "firstStageCooler = cooler(\"1st stage cooler\", thirdStageSeparator.getGasOutStream())\n",
        "firstStageCooler.setOutTemperature(inputdata['firstStageSuctionCoolerTemperature'],'C')\n",
        "\n",
        "firstStageScrubber = separator(\"1st stage scrubber\", firstStageCooler.getOutStream())\n",
        "\n",
        "firstStageCompressor = compressor(\"1st stage compressor\", firstStageScrubber.getGasOutStream())\n",
        "firstStageCompressor.setOutletPressure(inputdata['secondStagePressure'])\n",
        "firstStageCompressor.setIsentropicEfficiency(0.75)\n",
        "\n",
        "firststGasMixer = mixer(\"first Stage mixer\")\n",
        "firststGasMixer.addStream(firstStageCompressor.getOutStream())\n",
        "firststGasMixer.addStream(secondStageSeparator.getGasOutStream())\n",
        "\n",
        "secondStageCooler = cooler(\"2nd stage cooler\", firststGasMixer.getOutStream())\n",
        "secondStageCooler.setOutTemperature(inputdata['secondStageSuctionCoolerTemperature'],'C')\n",
        "\n",
        "secondStageScrubber = separator(\"2nd stage scrubber\", secondStageCooler.getOutStream())\n",
        "\n",
        "secondStageCompressor = compressor(\"2nd stage compressor\", secondStageScrubber.getGasOutStream())\n",
        "secondStageCompressor.setOutletPressure(inputdata['firstStagePressure'])\n",
        "secondStageCompressor.setIsentropicEfficiency(0.75)\n",
        "\n",
        "richGasMixer = mixer(\"fourth Stage mixer\")\n",
        "richGasMixer.addStream(secondStageCompressor.getOutStream())\n",
        "richGasMixer.addStream(firstStageSeparator.getGasOutStream())\n",
        "\n",
        "dewPointControlCooler = cooler(\"dew point cooler\", richGasMixer.getOutStream())\n",
        "dewPointControlCooler.setOutTemperature(inputdata['thirdStageSuctionCoolerTemperature'],'C')\n",
        "\n",
        "dewPointScrubber = separator(\"dew point scrubber\", dewPointControlCooler.getOutStream())\n",
        "\n",
        "lpLiqmixer = mixer(\"LP liq gas mixer\");\n",
        "lpLiqmixer.addStream(firstStageScrubber.getLiquidOutStream());\n",
        "lpLiqmixer.addStream(secondStageScrubber.getLiquidOutStream());\n",
        "lpLiqmixer.addStream(dewPointScrubber.getLiquidOutStream());\n",
        "\n",
        "lpResycle = recycle(\"LP liq resycle\")\n",
        "lpResycle.addStream(lpLiqmixer.getOutStream())\n",
        "lpResycle.setOutletStream(oilThirdStageToSep)\n",
        "\n",
        "exportCompressor1 = compressor(\"export 1st stage\", dewPointScrubber.getGasOutStream())\n",
        "exportCompressor1.setOutletPressure(140.0)\n",
        "exportCompressor1.setIsentropicEfficiency(0.75)\n",
        "\n",
        "exportInterstageCooler = cooler(\"interstage stage cooler\", exportCompressor1.getOutStream())\n",
        "exportInterstageCooler.setOutTemperature(inputdata['firstStageExportCoolerTemperature'],'C')\n",
        "\n",
        "exportCompressor2= compressor(\"export 2nd stage\", exportInterstageCooler.getOutStream())\n",
        "exportCompressor2.setOutletPressure(200.0)\n",
        "exportCompressor2.setIsentropicEfficiency(0.75)\n",
        "\n",
        "exportCooler = cooler(\"export cooler\", exportCompressor1.getOutStream())\n",
        "exportCooler.setOutTemperature(inputdata['secondStageExportCoolerTemperature'],'C')\n",
        "\n",
        "exportGas = stream(\"export gas\", exportCooler.getOutStream())\n",
        "\n",
        "oilprocess = getProcess()"
      ],
      "metadata": {
        "id": "jNWvNEUPT_FQ",
        "outputId": "ebad7eeb-8b6e-4a7f-b1ae-4b2febab96e6",
        "colab": {
          "base_uri": "https://localhost:8080/"
        }
      },
      "execution_count": 181,
      "outputs": [
        {
          "output_type": "stream",
          "name": "stdout",
          "text": [
            "| 0                    | 1          | 2          | 3          | 4   | 5   | 6               |\n",
            "|:---------------------|:-----------|:-----------|:-----------|:----|:----|:----------------|\n",
            "|                      | total      | GAS        | OIL        |     |     |                 |\n",
            "| nitrogen__well1      | 3.60124E-4 | 3.60124E-4 | 3.60124E-4 |     |     | [mole fraction] |\n",
            "| CO2__well1           | 1.60255E-2 | 1.60255E-2 | 1.60255E-2 |     |     | [mole fraction] |\n",
            "| methane__well1       | 3.93255E-1 | 3.93255E-1 | 3.93255E-1 |     |     | [mole fraction] |\n",
            "| ethane__well1        | 1.80962E-2 | 1.80962E-2 | 1.80962E-2 |     |     | [mole fraction] |\n",
            "| propane__well1       | 6.93238E-3 | 6.93238E-3 | 6.93238E-3 |     |     | [mole fraction] |\n",
            "| i-butane__well1      | 9.00309E-4 | 9.00309E-4 | 9.00309E-4 |     |     | [mole fraction] |\n",
            "| n-butane__well1      | 1.89065E-3 | 1.89065E-3 | 1.89065E-3 |     |     | [mole fraction] |\n",
            "| i-pentane__well1     | 6.75232E-4 | 6.75232E-4 | 6.75232E-4 |     |     | [mole fraction] |\n",
            "| n-pentane__well1     | 9.00309E-4 | 9.00309E-4 | 9.00309E-4 |     |     | [mole fraction] |\n",
            "| C6_PC__well1         | 1.4585E-2  | 1.4585E-2  | 1.4585E-2  |     |     | [mole fraction] |\n",
            "| C7_PC__well1         | 6.03207E-3 | 6.03207E-3 | 6.03207E-3 |     |     | [mole fraction] |\n",
            "| C8_PC__well1         | 5.98705E-3 | 5.98705E-3 | 5.98705E-3 |     |     | [mole fraction] |\n",
            "| C9_PC__well1         | 5.35684E-3 | 5.35684E-3 | 5.35684E-3 |     |     | [mole fraction] |\n",
            "| C10_PC__well1        | 5.17678E-3 | 5.17678E-3 | 5.17678E-3 |     |     | [mole fraction] |\n",
            "| C11_PC__well1        | 7.60761E-3 | 7.60761E-3 | 7.60761E-3 |     |     | [mole fraction] |\n",
            "| C12_PC__well1        | 6.75232E-3 | 6.75232E-3 | 6.75232E-3 |     |     | [mole fraction] |\n",
            "| C13_PC__well1        | 9.46675E-3 | 9.46675E-3 | 9.46675E-3 |     |     | [mole fraction] |\n",
            "| nitrogen__well2      | 3.60124E-4 | 3.60124E-4 | 3.60124E-4 |     |     | [mole fraction] |\n",
            "| CO2__well2           | 1.60255E-2 | 1.60255E-2 | 1.60255E-2 |     |     | [mole fraction] |\n",
            "| methane__well2       | 3.93255E-1 | 3.93255E-1 | 3.93255E-1 |     |     | [mole fraction] |\n",
            "| ethane__well2        | 1.80962E-2 | 1.80962E-2 | 1.80962E-2 |     |     | [mole fraction] |\n",
            "| propane__well2       | 6.93238E-3 | 6.93238E-3 | 6.93238E-3 |     |     | [mole fraction] |\n",
            "| i-butane__well2      | 9.00309E-4 | 9.00309E-4 | 9.00309E-4 |     |     | [mole fraction] |\n",
            "| n-butane__well2      | 1.89065E-3 | 1.89065E-3 | 1.89065E-3 |     |     | [mole fraction] |\n",
            "| i-pentane__well2     | 6.75232E-4 | 6.75232E-4 | 6.75232E-4 |     |     | [mole fraction] |\n",
            "| n-pentane__well2     | 9.00309E-4 | 9.00309E-4 | 9.00309E-4 |     |     | [mole fraction] |\n",
            "| C6_PC__well2         | 1.4585E-2  | 1.4585E-2  | 1.4585E-2  |     |     | [mole fraction] |\n",
            "| C7_PC__well2         | 6.03207E-3 | 6.03207E-3 | 6.03207E-3 |     |     | [mole fraction] |\n",
            "| C8_PC__well2         | 5.98705E-3 | 5.98705E-3 | 5.98705E-3 |     |     | [mole fraction] |\n",
            "| C9_PC__well2         | 5.35684E-3 | 5.35684E-3 | 5.35684E-3 |     |     | [mole fraction] |\n",
            "| C10_PC__well2        | 5.17678E-3 | 5.17678E-3 | 5.17678E-3 |     |     | [mole fraction] |\n",
            "| C11_PC__well2        | 7.60761E-3 | 7.60761E-3 | 7.60761E-3 |     |     | [mole fraction] |\n",
            "| C12_PC__well2        | 6.75232E-3 | 6.75232E-3 | 6.75232E-3 |     |     | [mole fraction] |\n",
            "| C13_PC__well2        | 9.46675E-3 | 9.46675E-3 | 9.46675E-3 |     |     | [mole fraction] |\n",
            "|                      |            |            |            |     |     |                 |\n",
            "| Density              |            | 1.69943E0  | 1.69943E0  |     |     | kg/m3           |\n",
            "| Phase Fraction       |            | 1E0        | 1E0        |     |     | [mole fraction] |\n",
            "| Molar Mass           | 4.10922E-2 | 4.10922E-2 | 4.10922E-2 |     |     | kg/mol          |\n",
            "| Z factor             |            | 9.88333E-1 | 9.88333E-1 |     |     | [-]             |\n",
            "| Heat Capacity (Cp)   |            | 1.70505E0  | 1.70505E0  |     |     | kJ/kgK          |\n",
            "| Heat Capacity (Cv)   |            | 1.4937E0   | 1.4937E0   |     |     | kJ/kgK          |\n",
            "| Speed of Sound       |            | 2.59305E2  | 2.59305E2  |     |     | m/sec           |\n",
            "| Enthalpy             | 7.84441E4  | 3.9222E4   | 3.9222E4   |     |     | J/kg            |\n",
            "| Entropy              | 9.8092E2   | 4.9046E2   | 4.9046E2   |     |     | J/kgK           |\n",
            "| JT coefficient       |            | 1.18288E0  | 1.18288E0  |     |     | C/bar           |\n",
            "|                      |            |            |            |     |     |                 |\n",
            "| Viscosity            |            | 1.02915E-5 | 1.02915E-5 |     |     | kg/msec         |\n",
            "| Thermal Conductivity |            | 2.43471E-2 | 2.43471E-2 |     |     | W/mK            |\n",
            "| Surface Tension      |            | 0E0        | 0E0        |     |     | [N/m]           |\n",
            "|                      |            |            |            |     |     |                 |\n",
            "|                      |            |            |            |     |     |                 |\n",
            "|                      |            |            |            |     |     |                 |\n",
            "| Pressure             |            | 1.01325    | 1.01325    |     |     | bara            |\n",
            "| Temperature          |            | 25.0       | 25.0       |     |     | C               |\n",
            "|                      |            |            |            |     |     |                 |\n",
            "| Model                |            | PR-EOS     | PR-EOS     |     |     | -               |\n",
            "| Mixing Rule          |            | classic    | classic    |     |     | -               |\n",
            "|                      |            |            |            |     |     |                 |\n",
            "| Stream               |            |            |            |     |     | -               |\n",
            "|                      |            |            |            |     |     |                 |\n",
            "|                      |            |            |            |     |     |                 |\n",
            "|                      |            |            |            |     |     |                 |\n",
            "|                      |            |            |            |     |     |                 |\n"
          ]
        }
      ]
    },
    {
      "cell_type": "code",
      "source": [
        "oilprocess.run()"
      ],
      "metadata": {
        "id": "hQtjIPTCU5uJ"
      },
      "execution_count": 182,
      "outputs": []
    },
    {
      "cell_type": "code",
      "source": [
        "TVP = stableOil.TVP(30.0, 'C')\n",
        "cricondenbar = exportGas.CCB('bara')\n",
        "gasexport = exportGas.getFlowRate('MSm3/day')\n",
        "oilexport = stableOil.getFlowRate('m3/hr')\n",
        "\n",
        "print('TVP [bara] ', TVP)\n",
        "print('cricondenbar [bara] ', cricondenbar)\n",
        "print('gas export [MSm3/day] ', gasexport)\n",
        "print('oil export [m3/hr] ', oilexport)"
      ],
      "metadata": {
        "outputId": "4a0d4975-af86-4bcd-d6b2-b97fd042d345",
        "colab": {
          "base_uri": "https://localhost:8080/"
        },
        "id": "saliE4AgU5uK"
      },
      "execution_count": 183,
      "outputs": [
        {
          "output_type": "stream",
          "name": "stdout",
          "text": [
            "TVP [bara]  0.8711286315614469\n",
            "cricondenbar [bara]  106.62875721034258\n",
            "gas export [MSm3/day]  13.273631631218711\n",
            "oil export [m3/hr]  693.4264048088706\n"
          ]
        }
      ]
    },
    {
      "cell_type": "code",
      "source": [
        "componentNames = wellStream.getFluid().getComponentNames()\n",
        "\n",
        "print ('ORF factors.......................')\n",
        "for name in componentNames:\n",
        "  total = wellStream.getFluid().getComponent(name).getTotalFlowRate('kg/hr') + wellStream2.getFluid().getComponent(name).getTotalFlowRate('kg/hr')\n",
        "  ORF = stableOil.getFluid().getComponent(name).getTotalFlowRate('kg/hr')/total\n",
        "  print('ORF ', name, ' ', ORF)"
      ],
      "metadata": {
        "id": "wB-JqvPXU5Zp",
        "outputId": "85867a2d-49ab-48ee-c39d-9e08b461f006",
        "colab": {
          "base_uri": "https://localhost:8080/"
        }
      },
      "execution_count": 184,
      "outputs": [
        {
          "output_type": "stream",
          "name": "stdout",
          "text": [
            "ORF factors.......................\n",
            "ORF  nitrogen__well1   3.210635258377961e-06\n",
            "ORF  CO2__well1   0.0005702985234059915\n",
            "ORF  methane__well1   6.748794577115684e-05\n",
            "ORF  ethane__well1   0.0030407253849874714\n",
            "ORF  propane__well1   0.02948296649341373\n",
            "ORF  i-butane__well1   0.10210264807724995\n",
            "ORF  n-butane__well1   0.15954426521505718\n",
            "ORF  i-pentane__well1   0.371796586920508\n",
            "ORF  n-pentane__well1   0.4534168000080546\n",
            "ORF  C6_PC__well1   0.7831423067165216\n",
            "ORF  C7_PC__well1   0.9219686269503302\n",
            "ORF  C8_PC__well1   0.9756192800794884\n",
            "ORF  C9_PC__well1   0.992653500329987\n",
            "ORF  C10_PC__well1   0.99731768171491\n",
            "ORF  C11_PC__well1   0.9997371226139201\n",
            "ORF  C12_PC__well1   0.9999996982471767\n",
            "ORF  C13_PC__well1   0.9999999999999787\n",
            "ORF  nitrogen__well2   0.00012672662388846549\n",
            "ORF  CO2__well2   0.003365431368744435\n",
            "ORF  methane__well2   0.0009048815114397167\n",
            "ORF  ethane__well2   0.011361505775760167\n",
            "ORF  propane__well2   0.057845898894550316\n",
            "ORF  i-butane__well2   0.15194092157225073\n",
            "ORF  n-butane__well2   0.2141095227183536\n",
            "ORF  i-pentane__well2   0.4340648858380053\n",
            "ORF  n-pentane__well2   0.5120945240141556\n",
            "ORF  C6_PC__well2   0.7919192438161443\n",
            "ORF  C7_PC__well2   0.9311577045290805\n",
            "ORF  C8_PC__well2   0.9953500005072323\n",
            "ORF  C9_PC__well2   0.9991675772528064\n",
            "ORF  C10_PC__well2   0.9998458418923608\n",
            "ORF  C11_PC__well2   0.9999941604677471\n",
            "ORF  C12_PC__well2   1.0000000000042193\n",
            "ORF  C13_PC__well2   0.9999999999999998\n"
          ]
        }
      ]
    },
    {
      "cell_type": "markdown",
      "source": [
        "### Main Results\n",
        "\n",
        "1. **Oil Recovery Factors (ORF):** The notebook calculates the ORF for each well, which represents the fraction of oil recovered from the well stream. The ORF values vary for different components, with heavier components generally having higher ORFs. For example, propane has a lower ORF, whereas heavier fractions (C6+) have higher ORFs. This indicates that more of the lighter components end up in the gas phase, while heavier components are primarily recovered in the oil phase.\n",
        "\n",
        "2. **Impact of Well Production Rates:** The notebook demonstrates how changing the production rate of one well can affect the allocated oil and gas production of other wells. Specifically, increasing the production of a well with a high Gas-Oil Ratio (GOR) can decrease the allocated oil production for a well with a low GOR, while increasing its gas allocation. This highlights the importance of considering the interplay between wells when optimizing production.\n",
        "\n",
        "3. **Allocation with Well Stream Routing:** The notebook explores how different well stream routing configurations can impact the allocation results. Sending a high-GOR well stream to the second-stage separator instead of the first-stage separator can influence the ORFs for different components and ultimately affect the overall allocation. This demonstrates the potential for optimizing allocation by carefully managing the flow of well streams within the process."
      ],
      "metadata": {
        "id": "hrnm9LlAbmE2"
      }
    }
  ]
}