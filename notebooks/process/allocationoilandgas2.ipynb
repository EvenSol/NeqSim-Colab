{
  "nbformat": 4,
  "nbformat_minor": 0,
  "metadata": {
    "colab": {
      "name": "allocationoilandgas.ipynb",
      "provenance": [],
      "authorship_tag": "ABX9TyNix1K5bFBW9W272hSKSPui",
      "include_colab_link": true
    },
    "kernelspec": {
      "name": "python3",
      "display_name": "Python 3"
    },
    "language_info": {
      "name": "python"
    }
  },
  "cells": [
    {
      "cell_type": "markdown",
      "metadata": {
        "id": "view-in-github",
        "colab_type": "text"
      },
      "source": [
        "<a href=\"https://colab.research.google.com/github/EvenSol/NeqSim-Colab/blob/master/notebooks/process/allocationoilandgas2.ipynb\" target=\"_parent\"><img src=\"https://colab.research.google.com/assets/colab-badge.svg\" alt=\"Open In Colab\"/></a>"
      ]
    },
    {
      "cell_type": "code",
      "execution_count": 30,
      "metadata": {
        "id": "g6AAfT2tXdS_"
      },
      "outputs": [],
      "source": [
        "# Setting up the Colab page to use neqsim\n",
        "#@markdown <br><br>This document is part of the module [\"Introduction to Gas Processing using NeqSim in Colab\"](https://colab.research.google.com/github/EvenSol/NeqSim-Colab/blob/master/notebooks/examples_of_NeqSim_in_Colab.ipynb#scrollTo=_eRtkQnHpL70).\n",
        "%%capture\n",
        "!pip install neqsim\n",
        "import neqsim\n",
        "from neqsim.thermo.thermoTools import *"
      ]
    },
    {
      "cell_type": "markdown",
      "source": [
        "# Litterature\n",
        "\n",
        "Recommended guideline for allocation simulation\n",
        "\n",
        "https://openarchive.usn.no/usn-xmlui/handle/11250/2765116\n",
        "\n",
        "Production Allocation of Oil and Gas: A case Study:\n",
        "\n",
        "https://ntnuopen.ntnu.no/ntnu-xmlui/handle/11250/2351061"
      ],
      "metadata": {
        "id": "0Vh75b1NOzsI"
      }
    },
    {
      "cell_type": "markdown",
      "source": [
        "#Allocation of oil and gas\n",
        "\n",
        "https://en.wikipedia.org/wiki/Allocation_(oil_and_gas)\n",
        "\n",
        "\n",
        "In the petroleum industry, allocation refers to practices of breaking down measures of quantities of extracted hydrocarbons across various contributing sources. Allocation aids the attribution of ownerships of hydrocarbons as each contributing element to a commingled flow or to a storage of petroleum may have a unique ownership. Contributing sources in this context are typically producing petroleum wells delivering flows of petroleum or flows of natural gas to a commingled flow or storage.\n",
        "\n",
        "The terms hydrocarbon accounting and allocation are sometimes used interchangeably. Hydrocarbon accounting has a wider scope, taking advantages of allocation results, it is the petroleum management process by which ownership of extracted hydrocarbons is determined and tracked from a point of sale or discharge back to the point of extraction. In this way, hydrocarbon accounting also covers inventory control, material balance, and practices to trace ownership of hydrocarbons being transported in a transportation system, e.g. through pipelines to customers distant from the production plant.\n",
        "\n",
        "In an allocation problem, contributing sources are more widely natural gas streams, fluid flows or multiphase flows derived from formations or zones in a well, from wells, and from fields, unitised production entities or production facilities. In hydrocarbon accounting, quantities of extracted hydrocarbon can be further split by ownership, by \"cost oil\" or \"profit oil\" categories, and broken down to individual composition fraction types. Such components may be alkane hydrocarbons, boiling point fractions, and mole weight fractions.\n",
        "\n"
      ],
      "metadata": {
        "id": "z2BKO_zSX54a"
      }
    },
    {
      "cell_type": "code",
      "source": [
        "#@title Introduction to Allocation\n",
        "#@markdown This video gives an intriduction to allocation of oil and gas\n",
        "from IPython.display import YouTubeVideo\n",
        "YouTubeVideo('pdIzRGTgmco', width=600, height=400)"
      ],
      "metadata": {
        "colab": {
          "base_uri": "https://localhost:8080/",
          "height": 421
        },
        "cellView": "form",
        "id": "S1Zn6wSkhbD8",
        "outputId": "a2486b79-2993-4f26-dec5-cd63fed82cd5"
      },
      "execution_count": 31,
      "outputs": [
        {
          "output_type": "execute_result",
          "data": {
            "text/plain": [
              "<IPython.lib.display.YouTubeVideo at 0x799f9c231a80>"
            ],
            "text/html": [
              "\n",
              "        <iframe\n",
              "            width=\"600\"\n",
              "            height=\"400\"\n",
              "            src=\"https://www.youtube.com/embed/pdIzRGTgmco\"\n",
              "            frameborder=\"0\"\n",
              "            allowfullscreen\n",
              "            \n",
              "        ></iframe>\n",
              "        "
            ],
            "image/jpeg": "[encoded data removed]"
          },
          "metadata": {},
          "execution_count": 31
        }
      ]
    },
    {
      "cell_type": "markdown",
      "source": [
        "# Process simulation for allocation"
      ],
      "metadata": {
        "id": "8J_B0ZW6YnBT"
      }
    },
    {
      "cell_type": "code",
      "source": [
        "inputdata = {\n",
        "  'feedFlowRateWellA': 10,\n",
        "  'wellPressure': 280.0,\n",
        "  'wellTemperature':200.0,\n",
        "  'topsidePressure': 90.0,\n",
        "  'topsideTemperature': 5.0,\n",
        "  'firstStagePressure': 75.0,\n",
        "  'temperatureOilHeater' : 75.9,\n",
        "  'secondStagePressure': 8.6,\n",
        "  'thirdStagePressure': 1.9,\n",
        "  'firstStageSuctionCoolerTemperature': 25.3,\n",
        "  'secondStageSuctionCoolerTemperature': 24.5,\n",
        "  'thirdStageSuctionCoolerTemperature':25.0,\n",
        "  'firstStageExportCoolerTemperature': 25.3,\n",
        "  'secondStageExportCoolerTemperature': 24.5\n",
        "}"
      ],
      "metadata": {
        "id": "eI3E7rf_YvAD"
      },
      "execution_count": 32,
      "outputs": []
    },
    {
      "cell_type": "code",
      "source": [
        "from neqsim.thermo import fluid, printFrame\n",
        "from neqsim.process import compressor, cooler, separator3phase, getProcess, clearProcess, mixer, heater, stream, pump, separator, runProcess, stream, saturator, valve, filters, heatExchanger, simpleTEGAbsorber,distillationColumn, waterStripperColumn, recycle2, setpoint, calculator\n",
        "\n",
        "clearProcess()\n",
        "\n",
        "wellFluid = fluid('pr')\n",
        "wellFluid.addComponent(\"nitrogen\", 0.08)\n",
        "wellFluid.addComponent(\"CO2\", 3.56)\n",
        "wellFluid.addComponent(\"methane\", 87.36)\n",
        "wellFluid.addComponent(\"ethane\", 4.02)\n",
        "wellFluid.addComponent(\"propane\", 1.54)\n",
        "wellFluid.addComponent(\"i-butane\", 0.2)\n",
        "wellFluid.addComponent(\"n-butane\", 0.42)\n",
        "wellFluid.addComponent(\"i-pentane\", 0.15)\n",
        "wellFluid.addComponent(\"n-pentane\", 0.20)\n",
        "\n",
        "wellFluid.addTBPfraction(\"C6\", 3.24, 84.99/1000.0, 695.0/1000.0)\n",
        "wellFluid.addTBPfraction(\"C7\", 1.34, 97.87/1000.0, 718.0/1000.0)\n",
        "wellFluid.addTBPfraction(\"C8\", 1.33, 111.54/1000.0, 729.0/1000.0)\n",
        "wellFluid.addTBPfraction(\"C9\", 1.19, 126.1/1000.0, 749.0/1000.0)\n",
        "wellFluid.addTBPfraction(\"C10\", 1.15, 140.14/1000.0, 760.0/1000.0)\n",
        "wellFluid.addTBPfraction(\"C11\", 1.69, 175.0/1000.0, 830.0/1000.0)\n",
        "wellFluid.addTBPfraction(\"C12\", 1.5, 280.0/1000.0, 914.0/1000.0)\n",
        "wellFluid.addTBPfraction(\"C13\", 2.103, 560.0/1000.0, 980.0/1000.0)\n",
        "\n",
        "wellFluid.setMixingRule(2)\n",
        "wellFluid.init(0)\n",
        "\n",
        "wellFluid.setMolarComposition([0.08, 3.56, 87.36, 4.02, 1.54, 0.2, 0.42, 0.15, 0.2, 1.24, 1.34, 1.33, 1.19, 1.15, 1.69, 1.5, 1.03])\n",
        "\n",
        "wellStream = stream(wellFluid)\n",
        "wellStream.setName(\"dry well stream\")\n",
        "wellStream.setFlowRate(inputdata['feedFlowRateWellA'], \"MSm3/day\")\n",
        "wellStream.setTemperature(inputdata['wellTemperature'], \"C\")\n",
        "wellStream.setPressure(inputdata['wellPressure'], \"bara\")\n",
        "\n",
        "saturatedFeedGas = saturator(wellStream)\n",
        "saturatedFeedGas.setName(\"water saturator\")\n",
        "\n",
        "waterSaturatedFeedGas = stream(saturatedFeedGas.getOutStream())\n",
        "waterSaturatedFeedGas.setName(\"water saturated feed gas\")\n",
        "\n",
        "feedTPsetter = heater(waterSaturatedFeedGas)\n",
        "feedTPsetter.setName('inletTP')\n",
        "feedTPsetter.setOutPressure(inputdata['topsidePressure'], \"bara\")\n",
        "feedTPsetter.setOutTemperature(inputdata['topsideTemperature'], \"C\")\n",
        "\n",
        "chokeValve = valve(feedTPsetter.getOutStream())\n",
        "chokeValve.setOutletPressure(inputdata['firstStagePressure'], 'bara')\n",
        "\n",
        "feedToOffshoreProcess = stream(chokeValve.getOutStream())\n",
        "feedToOffshoreProcess.setName(\"feed to offshore\")\n",
        "\n",
        "firstStageSeparator = separator3phase(feedToOffshoreProcess)\n",
        "firstStageSeparator.setName(\"1st stage separator\")\n",
        "\n",
        "oilHeaterFromFirstStage = heater(firstStageSeparator.getOilOutStream())\n",
        "oilHeaterFromFirstStage.setName(\"oil heater second stage\")\n",
        "oilHeaterFromFirstStage.setOutTemperature(inputdata['temperatureOilHeater'],'C')\n",
        "\n",
        "oilThrotValve = valve(oilHeaterFromFirstStage.getOutStream())\n",
        "oilThrotValve.setName(\"valve oil from first stage\")\n",
        "oilThrotValve.setOutletPressure(inputdata['secondStagePressure'])\n",
        "\n",
        "secondStageSeparator = separator3phase(oilThrotValve.getOutStream())\n",
        "secondStageSeparator.setName(\"2nd stage separator\")\n",
        "\n",
        "oilThrotValve2 = valve(secondStageSeparator.getOilOutStream())\n",
        "oilThrotValve2.setName(\"valve oil from second stage\")\n",
        "oilThrotValve2.setOutletPressure(inputdata['thirdStagePressure'])\n",
        "\n",
        "thirdStageSeparator = separator3phase(oilThrotValve2.getOutStream())\n",
        "thirdStageSeparator.setName(\"3rd stage separator\")\n",
        "\n",
        "oilThirdStageToSep =  wellStream.clone()\n",
        "oilThirdStageToSep.setName(\"resyc oil\")\n",
        "thirdStageSeparator.addStream(oilThirdStageToSep)\n",
        "\n",
        "stableOil = stream(thirdStageSeparator.getOilOutStream())\n",
        "stableOil.setName(\"stable oil\")\n",
        "\n",
        "stableOilPump = pump(stableOil,15.0,\"stable oil pump\")\n",
        "\n",
        "firstStageCooler = cooler(thirdStageSeparator.getGasOutStream())\n",
        "firstStageCooler.setName(\"1st stage cooler\")\n",
        "firstStageCooler.setOutTemperature(inputdata['firstStageSuctionCoolerTemperature'],'C')\n",
        "\n",
        "firstStageScrubber = separator(firstStageCooler.getOutStream())\n",
        "firstStageScrubber.setName(\"1st stage scrubber\")\n",
        "\n",
        "firstStageCompressor = compressor(firstStageScrubber.getGasOutStream())\n",
        "firstStageCompressor.setName(\"1st stage compressor\")\n",
        "firstStageCompressor.setOutletPressure(inputdata['secondStagePressure'])\n",
        "firstStageCompressor.setIsentropicEfficiency(0.75)\n",
        "\n",
        "firststGasMixer = mixer(\"first Stage mixer\")\n",
        "firststGasMixer.addStream(firstStageCompressor.getOutStream())\n",
        "firststGasMixer.addStream(secondStageSeparator.getGasOutStream())\n",
        "\n",
        "secondStageCooler = cooler(firststGasMixer.getOutStream())\n",
        "secondStageCooler.setName(\"2nd stage cooler\")\n",
        "secondStageCooler.setOutTemperature(inputdata['secondStageSuctionCoolerTemperature'],'C')\n",
        "\n",
        "secondStageScrubber = separator(secondStageCooler.getOutStream())\n",
        "secondStageScrubber.setName(\"2nd stage scrubber\")\n",
        "\n",
        "secondStageCompressor = compressor(secondStageScrubber.getGasOutStream())\n",
        "secondStageCompressor.setName(\"2nd stage compressor\")\n",
        "secondStageCompressor.setOutletPressure(inputdata['firstStagePressure'])\n",
        "secondStageCompressor.setIsentropicEfficiency(0.75)\n",
        "\n",
        "richGasMixer = mixer(\"fourth Stage mixer\")\n",
        "richGasMixer.addStream(secondStageCompressor.getOutStream())\n",
        "richGasMixer.addStream(firstStageSeparator.getGasOutStream())\n",
        "\n",
        "dewPointControlCooler = cooler(richGasMixer.getOutStream())\n",
        "dewPointControlCooler.setName(\"dew point cooler\")\n",
        "dewPointControlCooler.setOutTemperature(inputdata['thirdStageSuctionCoolerTemperature'],'C')\n",
        "\n",
        "dewPointScrubber = separator(dewPointControlCooler.getOutStream())\n",
        "dewPointScrubber.setName(\"dew point scrubber\")\n",
        "\n",
        "lpLiqmixer = mixer(\"LP liq gas mixer\");\n",
        "lpLiqmixer.addStream(firstStageScrubber.getLiquidOutStream());\n",
        "lpLiqmixer.addStream(secondStageScrubber.getLiquidOutStream());\n",
        "lpLiqmixer.addStream(dewPointScrubber.getLiquidOutStream());\n",
        "\n",
        "lpResycle = recycle2(\"LP liq resycle\")\n",
        "lpResycle.addStream(lpLiqmixer.getOutStream())\n",
        "lpResycle.setOutletStream(oilThirdStageToSep)\n",
        "\n",
        "exportCompressor1 = compressor(dewPointScrubber.getGasOutStream())\n",
        "exportCompressor1.setName(\"export 1st stage\")\n",
        "exportCompressor1.setOutletPressure(140.0)\n",
        "exportCompressor1.setIsentropicEfficiency(0.75)\n",
        "\n",
        "exportInterstageCooler = cooler(exportCompressor1.getOutStream())\n",
        "exportInterstageCooler.setName(\"interstage stage cooler\")\n",
        "exportInterstageCooler.setOutTemperature(inputdata['firstStageExportCoolerTemperature'],'C')\n",
        "\n",
        "exportCompressor2= compressor(exportInterstageCooler.getOutStream())\n",
        "exportCompressor2.setName(\"export 2nd stage\")\n",
        "exportCompressor2.setOutletPressure(200.0)\n",
        "exportCompressor2.setIsentropicEfficiency(0.75)\n",
        "\n",
        "exportCooler = cooler(exportCompressor1.getOutStream())\n",
        "exportCooler.setName(\"export cooler\")\n",
        "exportCooler.setOutTemperature(inputdata['secondStageExportCoolerTemperature'],'C')\n",
        "\n",
        "exportGas = stream(exportCooler.getOutStream())\n",
        "exportGas.setName(\"export gas\")\n",
        "\n",
        "oilprocess = getProcess()"
      ],
      "metadata": {
        "id": "BLc5mDf4Y9VT"
      },
      "execution_count": 33,
      "outputs": []
    },
    {
      "cell_type": "code",
      "source": [
        "oilprocess.run()"
      ],
      "metadata": {
        "id": "vmy81v2NZF1L"
      },
      "execution_count": 34,
      "outputs": []
    },
    {
      "cell_type": "code",
      "source": [
        "TVP = stableOil.TVP(20.0, 'C')\n",
        "cricondenbar = exportGas.CCB('bara')\n",
        "gasexport = exportGas.getFlowRate('MSm3/day')\n",
        "oilexport = stableOil.getFlowRate('m3/hr')\n",
        "\n",
        "print('TVP [bara] ', TVP)\n",
        "print('cricondenbar [bara] ', cricondenbar)\n",
        "print('gas export [MSm3/day] ', gasexport)\n",
        "print('oil export [m3/hr] ', oilexport)"
      ],
      "metadata": {
        "colab": {
          "base_uri": "https://localhost:8080/"
        },
        "id": "kov6bLXOZJRD",
        "outputId": "28510882-bf5e-4194-a449-626f21c142b7"
      },
      "execution_count": 35,
      "outputs": [
        {
          "output_type": "stream",
          "name": "stdout",
          "text": [
            "TVP [bara]  1.0052094606026456\n",
            "cricondenbar [bara]  92.71002203613847\n",
            "gas export [MSm3/day]  8.985694498372132\n",
            "oil export [m3/hr]  400.8707749264762\n"
          ]
        }
      ]
    },
    {
      "cell_type": "markdown",
      "source": [
        "#ORF factors\n",
        "In the following code the ORF factors are calculated"
      ],
      "metadata": {
        "id": "aMj8rZG2aB7N"
      }
    },
    {
      "cell_type": "code",
      "source": [
        "componentNames = wellStream.getFluid().getComponentNames()\n",
        "\n",
        "print ('ORF.......................')\n",
        "for name in componentNames:\n",
        "  total = wellStream.getFluid().getComponent(name).getTotalFlowRate('kg/hr')\n",
        "  ORF = stableOil.getFluid().getComponent(name).getTotalFlowRate('kg/hr')/total\n",
        "  print('ORF ', name, ' ', ORF)\n"
      ],
      "metadata": {
        "colab": {
          "base_uri": "https://localhost:8080/"
        },
        "id": "dq59pYRIaBlN",
        "outputId": "a916f6ea-9463-40b9-e71d-69c74cb70866"
      },
      "execution_count": 36,
      "outputs": [
        {
          "output_type": "stream",
          "name": "stdout",
          "text": [
            "ORF.......................\n",
            "ORF  nitrogen   1.752867482152913e-05\n",
            "ORF  CO2   0.0031583062145849818\n",
            "ORF  methane   0.00037686751573882434\n",
            "ORF  ethane   0.015138077368355223\n",
            "ORF  propane   0.10952978738792997\n",
            "ORF  i-butane   0.2775181363396506\n",
            "ORF  n-butane   0.37637050062879074\n",
            "ORF  i-pentane   0.6187993508613983\n",
            "ORF  n-pentane   0.6879622585759975\n",
            "ORF  C6_PC   0.8943638415590003\n",
            "ORF  C7_PC   0.9607760896105136\n",
            "ORF  C8_PC   0.9856034413555248\n",
            "ORF  C9_PC   0.9945850180316577\n",
            "ORF  C10_PC   0.9976725620268115\n",
            "ORF  C11_PC   0.9997355649701535\n",
            "ORF  C12_PC   0.9999996839343801\n",
            "ORF  C13_PC   0.999999999999769\n"
          ]
        }
      ]
    },
    {
      "cell_type": "markdown",
      "source": [
        "# Adding a new well stream\n",
        "In the following example we will add a new well stream and add it to the inlet separator."
      ],
      "metadata": {
        "id": "J8v0XKXn_tGn"
      }
    },
    {
      "cell_type": "code",
      "source": [
        "inputdata2 = {\n",
        "  'feedFlowRateWellB': 3,\n",
        "  'wellPressure': 280.0,\n",
        "  'wellTemperature':200.0,\n",
        "  'topsidePressure': 90.0,\n",
        "  'topsideTemperature': 5.0,\n",
        "  'firstStagePressure': 75.0,\n",
        "  'temperatureOilHeater' : 75.9,\n",
        "  'secondStagePressure': 8.6,\n",
        "  'thirdStagePressure': 1.9,\n",
        "  'firstStageSuctionCoolerTemperature': 25.3,\n",
        "  'secondStageSuctionCoolerTemperature': 24.5,\n",
        "  'thirdStageSuctionCoolerTemperature':25.0,\n",
        "  'firstStageExportCoolerTemperature': 25.3,\n",
        "  'secondStageExportCoolerTemperature': 24.5\n",
        "}"
      ],
      "metadata": {
        "id": "qxH8VGosKLEu"
      },
      "execution_count": 37,
      "outputs": []
    },
    {
      "cell_type": "code",
      "source": [
        "wellFluid2 = fluid('pr')\n",
        "wellFluid2.addComponent(\"nitrogen\", 0.08)\n",
        "wellFluid2.addComponent(\"CO2\", 3.56)\n",
        "wellFluid2.addComponent(\"methane\", 87.36)\n",
        "wellFluid2.addComponent(\"ethane\", 4.02)\n",
        "wellFluid2.addComponent(\"propane\", 1.54)\n",
        "wellFluid2.addComponent(\"i-butane\", 0.2)\n",
        "wellFluid2.addComponent(\"n-butane\", 0.42)\n",
        "wellFluid2.addComponent(\"i-pentane\", 0.15)\n",
        "wellFluid2.addComponent(\"n-pentane\", 0.20)\n",
        "\n",
        "wellFluid2.addTBPfraction(\"C6\", 3.24, 84.99/1000.0, 695.0/1000.0)\n",
        "wellFluid2.addTBPfraction(\"C7\", 1.34, 97.87/1000.0, 718.0/1000.0)\n",
        "wellFluid2.addTBPfraction(\"C8\", 1.33, 111.54/1000.0, 729.0/1000.0)\n",
        "wellFluid2.addTBPfraction(\"C9\", 1.19, 126.1/1000.0, 749.0/1000.0)\n",
        "wellFluid2.addTBPfraction(\"C10\", 1.15, 140.14/1000.0, 760.0/1000.0)\n",
        "wellFluid2.addTBPfraction(\"C11\", 1.69, 175.0/1000.0, 830.0/1000.0)\n",
        "wellFluid2.addTBPfraction(\"C12\", 1.5, 280.0/1000.0, 914.0/1000.0)\n",
        "wellFluid2.addTBPfraction(\"C13\", 2.103, 560.0/1000.0, 980.0/1000.0)\n",
        "\n",
        "wellFluid2.setMixingRule(2)\n",
        "wellFluid2.init(0)\n",
        "\n",
        "wellFluid2.setMolarComposition([0.08, 3.56, 45.36, 4.02, 1.54, 0.2, 0.42, 0.15, 0.2, 1.24, 1.34, 1.33, 1.19, 2.15, 2.69, 3.5, 1.03])\n",
        "\n",
        "wellStream2 = stream(wellFluid2)\n",
        "wellStream2.setName(\"dry well stream 2\")\n",
        "wellStream2.setFlowRate(inputdata2['feedFlowRateWellB'], \"MSm3/day\")\n",
        "wellStream2.setTemperature(inputdata2['wellTemperature'], \"C\")\n",
        "wellStream2.setPressure(inputdata2['wellPressure'], \"bara\")\n",
        "\n",
        "\n",
        "saturatedFeedGas2 = saturator(wellStream2)\n",
        "saturatedFeedGas2.setName(\"water saturator 2\")\n",
        "\n",
        "waterSaturatedFeedGas2 = stream(saturatedFeedGas2.getOutStream())\n",
        "waterSaturatedFeedGas2.setName(\"water saturated feed gas 2\")\n",
        "\n",
        "feedTPsetter2 = heater(waterSaturatedFeedGas2)\n",
        "feedTPsetter2.setName('inletTP')\n",
        "feedTPsetter2.setOutPressure(inputdata['topsidePressure'], \"bara\")\n",
        "feedTPsetter2.setOutTemperature(inputdata['topsideTemperature'], \"C\")\n",
        "\n",
        "firstStageSeparator.addStream(feedTPsetter2.getOutStream())"
      ],
      "metadata": {
        "id": "-gzBm5iL_zzN"
      },
      "execution_count": 38,
      "outputs": []
    },
    {
      "cell_type": "code",
      "source": [
        "# wellStream.setFlowRate(1.0e-6, 'kg/hr')  #uncomment it you new well to be run alone\n",
        "oilprocess.run()"
      ],
      "metadata": {
        "id": "UZq2G5zRA3id"
      },
      "execution_count": 39,
      "outputs": []
    },
    {
      "cell_type": "code",
      "source": [
        "TVP = stableOil.TVP(20.0, 'C')\n",
        "cricondenbar = exportGas.CCB('bara')\n",
        "gasexport = exportGas.getFlowRate('MSm3/day')\n",
        "oilexport = stableOil.getFlowRate('m3/hr')\n",
        "\n",
        "print('TVP [bara] ', TVP)\n",
        "print('cricondenbar [bara] ', cricondenbar)\n",
        "print('gas export [MSm3/day] ', gasexport)\n",
        "print('oil export [m3/hr] ', oilexport)"
      ],
      "metadata": {
        "colab": {
          "base_uri": "https://localhost:8080/"
        },
        "id": "WKIM6Dr7A6MF",
        "outputId": "ee9c2887-e4a6-420b-b241-bd9d3dafb8a2"
      },
      "execution_count": 40,
      "outputs": [
        {
          "output_type": "stream",
          "name": "stdout",
          "text": [
            "TVP [bara]  1.0116125586732616\n",
            "cricondenbar [bara]  92.94931395113228\n",
            "gas export [MSm3/day]  11.335272316386336\n",
            "oil export [m3/hr]  666.2813873174427\n"
          ]
        }
      ]
    },
    {
      "cell_type": "code",
      "source": [
        "componentNames = wellStream.getFluid().getComponentNames()\n",
        "\n",
        "print ('ORF.......................')\n",
        "for name in componentNames:\n",
        "  total = wellStream.getFluid().getComponent(name).getTotalFlowRate('kg/hr')+wellStream2.getFluid().getComponent(name).getTotalFlowRate('kg/hr')\n",
        "  ORF = stableOil.getFluid().getComponent(name).getTotalFlowRate('kg/hr')/total\n",
        "  print('ORF ', name, ' ', ORF)"
      ],
      "metadata": {
        "colab": {
          "base_uri": "https://localhost:8080/"
        },
        "id": "5_Pak0odA_0s",
        "outputId": "2ecd246a-c42d-48b3-9c57-1a1c8498886e"
      },
      "execution_count": 41,
      "outputs": [
        {
          "output_type": "stream",
          "name": "stdout",
          "text": [
            "ORF.......................\n",
            "ORF  nitrogen   2.3520339595319078e-05\n",
            "ORF  CO2   0.0039669852688277085\n",
            "ORF  methane   0.0004926258215878587\n",
            "ORF  ethane   0.018386752345276487\n",
            "ORF  propane   0.1231498608910212\n",
            "ORF  i-butane   0.297957503219527\n",
            "ORF  n-butane   0.39603888555659433\n",
            "ORF  i-pentane   0.6335226251488559\n",
            "ORF  n-pentane   0.6996366037314387\n",
            "ORF  C6_PC   0.8988915086772578\n",
            "ORF  C7_PC   0.9637951439532014\n",
            "ORF  C8_PC   0.9876347830891222\n",
            "ORF  C9_PC   0.9956624343592636\n",
            "ORF  C10_PC   0.9982029007179809\n",
            "ORF  C11_PC   0.9997996519860115\n",
            "ORF  C12_PC   0.9999997558570332\n",
            "ORF  C13_PC   0.9999999999998592\n"
          ]
        }
      ]
    },
    {
      "cell_type": "markdown",
      "source": [
        "# Comment\n",
        "As we can see the ORF of the light components like eg. propane are now a bit higher. This is due to more of the lighter components are extracted in the oil of the more oil dominated new well."
      ],
      "metadata": {
        "id": "iRN6hAcrJG1M"
      }
    },
    {
      "cell_type": "markdown",
      "source": [
        "## Tracking induvidual components from wells"
      ],
      "metadata": {
        "id": "LP6vkQLN0JF8"
      }
    },
    {
      "cell_type": "code",
      "source": [
        "wellFluid = fluid('pr')\n",
        "wellFluid.addComponent(\"nitrogen\", 0.08)\n",
        "wellFluid.addComponent(\"CO2\", 3.56)\n",
        "wellFluid.addComponent(\"methane\", 87.36)\n",
        "wellFluid.addComponent(\"ethane\", 4.02)\n",
        "wellFluid.addComponent(\"propane\", 1.54)\n",
        "wellFluid.addComponent(\"i-butane\", 0.2)\n",
        "wellFluid.addComponent(\"n-butane\", 0.42)\n",
        "wellFluid.addComponent(\"i-pentane\", 0.15)\n",
        "wellFluid.addComponent(\"n-pentane\", 0.20)\n",
        "\n",
        "wellFluid.addTBPfraction(\"C6\", 3.24, 84.99/1000.0, 695.0/1000.0)\n",
        "wellFluid.addTBPfraction(\"C7\", 1.34, 97.87/1000.0, 718.0/1000.0)\n",
        "wellFluid.addTBPfraction(\"C8\", 1.33, 111.54/1000.0, 729.0/1000.0)\n",
        "wellFluid.addTBPfraction(\"C9\", 1.19, 126.1/1000.0, 749.0/1000.0)\n",
        "wellFluid.addTBPfraction(\"C10\", 1.15, 140.14/1000.0, 760.0/1000.0)\n",
        "wellFluid.addTBPfraction(\"C11\", 1.69, 175.0/1000.0, 830.0/1000.0)\n",
        "wellFluid.addTBPfraction(\"C12\", 1.5, 280.0/1000.0, 914.0/1000.0)\n",
        "wellFluid.addTBPfraction(\"C13\", 2.103, 560.0/1000.0, 980.0/1000.0)\n",
        "\n",
        "names = wellFluid.getComponentNames()\n",
        "\n",
        "for i in range(names.length):\n",
        "  wellFluid.changeComponentName(wellFluid.getComponent(i).getName(), (wellFluid.getComponent(i).getName()+\"_well1\"))\n",
        "\n",
        "wellFluid.addComponent(\"nitrogen\", 0.08)\n",
        "wellFluid.addComponent(\"CO2\", 3.56)\n",
        "wellFluid.addComponent(\"methane\", 87.36)\n",
        "wellFluid.addComponent(\"ethane\", 4.02)\n",
        "wellFluid.addComponent(\"propane\", 1.54)\n",
        "wellFluid.addComponent(\"i-butane\", 0.2)\n",
        "wellFluid.addComponent(\"n-butane\", 0.42)\n",
        "wellFluid.addComponent(\"i-pentane\", 0.15)\n",
        "wellFluid.addComponent(\"n-pentane\", 0.20)\n",
        "\n",
        "wellFluid.addTBPfraction(\"C6\", 3.24, 82.99/1000.0, 695.0/1000.0)\n",
        "wellFluid.addTBPfraction(\"C7\", 1.34, 95.87/1000.0, 718.0/1000.0)\n",
        "wellFluid.addTBPfraction(\"C8\", 1.33, 121.54/1000.0, 729.0/1000.0)\n",
        "wellFluid.addTBPfraction(\"C9\", 1.19, 136.1/1000.0, 749.0/1000.0)\n",
        "wellFluid.addTBPfraction(\"C10\", 1.15, 150.14/1000.0, 760.0/1000.0)\n",
        "wellFluid.addTBPfraction(\"C11\", 1.69, 175.0/1000.0, 830.0/1000.0)\n",
        "wellFluid.addTBPfraction(\"C12\", 1.5, 310.0/1000.0, 914.0/1000.0)\n",
        "wellFluid.addTBPfraction(\"C13\", 2.103, 520.0/1000.0, 980.0/1000.0)\n",
        "\n",
        "for i in range(names.length):\n",
        "  wellFluid.changeComponentName(names[i], (wellFluid.getComponent(i).getName().replace(\"well1\", \"well2\")))\n",
        "\n",
        "wellFluid.setMixingRule('classic')\n",
        "\n",
        "printFrame(wellFluid)\n",
        "\n",
        "\n",
        "#and then set the fluid composition of the wells and run simulation\n",
        "\n",
        "from neqsim.thermo import fluid, printFrame\n",
        "from neqsim.process import compressor, cooler, separator3phase, getProcess, clearProcess, mixer, heater, stream, pump, separator, runProcess, stream, saturator, valve, filters, heatExchanger, simpleTEGAbsorber,distillationColumn, waterStripperColumn, recycle2, setpoint, calculator\n",
        "\n",
        "wellFluid.setMolarComposition([0.08, 3.56, 87.36, 4.02, 1.54, 0.2, 0.42, 0.15, 0.2, 1.24, 1.34, 1.33, 1.19, 1.15, 1.69, 1.5, 1.03,\n",
        "                               0.0, 0.0, 0.0, 0.0, 0.0, 0.0, 0.0, 0.0, 0.0, 0.0, 0.0, 0.0, 0.0, 0.0, 0.0, 0.0, 0.0])\n",
        "\n",
        "\n",
        "welFluid2 = wellFluid.clone()\n",
        "welFluid2.setMolarComposition([ 0.0, 0.0, 0.0, 0.0, 0.0, 0.0, 0.0, 0.0, 0.0, 0.0, 0.0, 0.0, 0.0, 0.0, 0.0, 0.0, 0.0,\n",
        "                               1.08, 3.56, 45.36, 2.02, 7.54, 5.2, 0.42, 0.15, 0.2, 1.24, 1.34, 1.33, 1.19, 1.15, 1.69, 1.5, 1.03])\n",
        "\n",
        "clearProcess()\n",
        "\n",
        "wellStream = stream(wellFluid)\n",
        "wellStream.setName(\"dry well stream\")\n",
        "wellStream.setFlowRate(inputdata['feedFlowRateWellA'], \"MSm3/day\")\n",
        "wellStream.setTemperature(inputdata['wellTemperature'], \"C\")\n",
        "wellStream.setPressure(inputdata['wellPressure'], \"bara\")\n",
        "\n",
        "wellStream2 = stream(welFluid2)\n",
        "wellStream2.setName(\"dry well stream2\")\n",
        "wellStream2.setFlowRate(inputdata['feedFlowRateWellA'], \"MSm3/day\")\n",
        "wellStream2.setTemperature(inputdata['wellTemperature'], \"C\")\n",
        "wellStream2.setPressure(inputdata['wellPressure'], \"bara\")\n",
        "\n",
        "wellmixer = mixer('mixer')\n",
        "wellmixer.addStream(wellStream)\n",
        "wellmixer.addStream(wellStream2)\n",
        "\n",
        "feedTPsetter = heater(wellmixer.getOutletStream())\n",
        "feedTPsetter.setName('inletTP')\n",
        "feedTPsetter.setOutPressure(inputdata['topsidePressure'], \"bara\")\n",
        "feedTPsetter.setOutTemperature(inputdata['topsideTemperature'], \"C\")\n",
        "\n",
        "chokeValve = valve(feedTPsetter.getOutStream())\n",
        "chokeValve.setOutletPressure(inputdata['firstStagePressure'], 'bara')\n",
        "\n",
        "feedToOffshoreProcess = stream(chokeValve.getOutStream())\n",
        "feedToOffshoreProcess.setName(\"feed to offshore\")\n",
        "\n",
        "firstStageSeparator = separator3phase(feedToOffshoreProcess)\n",
        "firstStageSeparator.setName(\"1st stage separator\")\n",
        "\n",
        "oilHeaterFromFirstStage = heater(firstStageSeparator.getOilOutStream())\n",
        "oilHeaterFromFirstStage.setName(\"oil heater second stage\")\n",
        "oilHeaterFromFirstStage.setOutTemperature(inputdata['temperatureOilHeater'],'C')\n",
        "\n",
        "oilThrotValve = valve(oilHeaterFromFirstStage.getOutStream())\n",
        "oilThrotValve.setName(\"valve oil from first stage\")\n",
        "oilThrotValve.setOutletPressure(inputdata['secondStagePressure'])\n",
        "\n",
        "secondStageSeparator = separator3phase(oilThrotValve.getOutStream())\n",
        "secondStageSeparator.setName(\"2nd stage separator\")\n",
        "\n",
        "oilThrotValve2 = valve(secondStageSeparator.getOilOutStream())\n",
        "oilThrotValve2.setName(\"valve oil from second stage\")\n",
        "oilThrotValve2.setOutletPressure(inputdata['thirdStagePressure'])\n",
        "\n",
        "thirdStageSeparator = separator3phase(oilThrotValve2.getOutStream())\n",
        "thirdStageSeparator.setName(\"3rd stage separator\")\n",
        "\n",
        "oilThirdStageToSep =  wellStream.clone()\n",
        "oilThirdStageToSep.setName(\"resyc oil\")\n",
        "thirdStageSeparator.addStream(oilThirdStageToSep)\n",
        "\n",
        "stableOil = stream(thirdStageSeparator.getOilOutStream())\n",
        "stableOil.setName(\"stable oil\")\n",
        "\n",
        "stableOilPump = pump(stableOil,15.0,\"stable oil pump\")\n",
        "\n",
        "firstStageCooler = cooler(thirdStageSeparator.getGasOutStream())\n",
        "firstStageCooler.setName(\"1st stage cooler\")\n",
        "firstStageCooler.setOutTemperature(inputdata['firstStageSuctionCoolerTemperature'],'C')\n",
        "\n",
        "firstStageScrubber = separator(firstStageCooler.getOutStream())\n",
        "firstStageScrubber.setName(\"1st stage scrubber\")\n",
        "\n",
        "firstStageCompressor = compressor(firstStageScrubber.getGasOutStream())\n",
        "firstStageCompressor.setName(\"1st stage compressor\")\n",
        "firstStageCompressor.setOutletPressure(inputdata['secondStagePressure'])\n",
        "firstStageCompressor.setIsentropicEfficiency(0.75)\n",
        "\n",
        "firststGasMixer = mixer(\"first Stage mixer\")\n",
        "firststGasMixer.addStream(firstStageCompressor.getOutStream())\n",
        "firststGasMixer.addStream(secondStageSeparator.getGasOutStream())\n",
        "\n",
        "secondStageCooler = cooler(firststGasMixer.getOutStream())\n",
        "secondStageCooler.setName(\"2nd stage cooler\")\n",
        "secondStageCooler.setOutTemperature(inputdata['secondStageSuctionCoolerTemperature'],'C')\n",
        "\n",
        "secondStageScrubber = separator(secondStageCooler.getOutStream())\n",
        "secondStageScrubber.setName(\"2nd stage scrubber\")\n",
        "\n",
        "secondStageCompressor = compressor(secondStageScrubber.getGasOutStream())\n",
        "secondStageCompressor.setName(\"2nd stage compressor\")\n",
        "secondStageCompressor.setOutletPressure(inputdata['firstStagePressure'])\n",
        "secondStageCompressor.setIsentropicEfficiency(0.75)\n",
        "\n",
        "richGasMixer = mixer(\"fourth Stage mixer\")\n",
        "richGasMixer.addStream(secondStageCompressor.getOutStream())\n",
        "richGasMixer.addStream(firstStageSeparator.getGasOutStream())\n",
        "\n",
        "dewPointControlCooler = cooler(richGasMixer.getOutStream())\n",
        "dewPointControlCooler.setName(\"dew point cooler\")\n",
        "dewPointControlCooler.setOutTemperature(inputdata['thirdStageSuctionCoolerTemperature'],'C')\n",
        "\n",
        "dewPointScrubber = separator(dewPointControlCooler.getOutStream())\n",
        "dewPointScrubber.setName(\"dew point scrubber\")\n",
        "\n",
        "lpLiqmixer = mixer(\"LP liq gas mixer\");\n",
        "lpLiqmixer.addStream(firstStageScrubber.getLiquidOutStream());\n",
        "lpLiqmixer.addStream(secondStageScrubber.getLiquidOutStream());\n",
        "lpLiqmixer.addStream(dewPointScrubber.getLiquidOutStream());\n",
        "\n",
        "lpResycle = recycle2(\"LP liq resycle\")\n",
        "lpResycle.addStream(lpLiqmixer.getOutStream())\n",
        "lpResycle.setOutletStream(oilThirdStageToSep)\n",
        "\n",
        "exportCompressor1 = compressor(dewPointScrubber.getGasOutStream())\n",
        "exportCompressor1.setName(\"export 1st stage\")\n",
        "exportCompressor1.setOutletPressure(140.0)\n",
        "exportCompressor1.setIsentropicEfficiency(0.75)\n",
        "\n",
        "exportInterstageCooler = cooler(exportCompressor1.getOutStream())\n",
        "exportInterstageCooler.setName(\"interstage stage cooler\")\n",
        "exportInterstageCooler.setOutTemperature(inputdata['firstStageExportCoolerTemperature'],'C')\n",
        "\n",
        "exportCompressor2= compressor(exportInterstageCooler.getOutStream())\n",
        "exportCompressor2.setName(\"export 2nd stage\")\n",
        "exportCompressor2.setOutletPressure(200.0)\n",
        "exportCompressor2.setIsentropicEfficiency(0.75)\n",
        "\n",
        "exportCooler = cooler(exportCompressor1.getOutStream())\n",
        "exportCooler.setName(\"export cooler\")\n",
        "exportCooler.setOutTemperature(inputdata['secondStageExportCoolerTemperature'],'C')\n",
        "\n",
        "exportGas = stream(exportCooler.getOutStream())\n",
        "exportGas.setName(\"export gas\")\n",
        "\n",
        "oilprocess = getProcess()"
      ],
      "metadata": {
        "id": "TxX3nkb50NrZ",
        "outputId": "2b2b1dbb-90fc-44b4-a0fd-696dcd2ad31c",
        "colab": {
          "base_uri": "https://localhost:8080/"
        }
      },
      "execution_count": 42,
      "outputs": [
        {
          "output_type": "stream",
          "name": "stdout",
          "text": [
            "| 0                  | 1          | 2          | 3          | 4   | 5   | 6               |\n",
            "|:-------------------|:-----------|:-----------|:-----------|:----|:----|:----------------|\n",
            "|                    | total      | GAS        | OIL        |     |     |                 |\n",
            "| nitrogen_well1     | 3.60124E-4 | 3.60124E-4 | 3.60124E-4 |     |     | [mole fraction] |\n",
            "| CO2_well1          | 1.60255E-2 | 1.60255E-2 | 1.60255E-2 |     |     | [mole fraction] |\n",
            "| methane_well1      | 3.93255E-1 | 3.93255E-1 | 3.93255E-1 |     |     | [mole fraction] |\n",
            "| ethane_well1       | 1.80962E-2 | 1.80962E-2 | 1.80962E-2 |     |     | [mole fraction] |\n",
            "| propane_well1      | 6.93238E-3 | 6.93238E-3 | 6.93238E-3 |     |     | [mole fraction] |\n",
            "| i-butane_well1     | 9.00309E-4 | 9.00309E-4 | 9.00309E-4 |     |     | [mole fraction] |\n",
            "| n-butane_well1     | 1.89065E-3 | 1.89065E-3 | 1.89065E-3 |     |     | [mole fraction] |\n",
            "| i-pentane_well1    | 6.75232E-4 | 6.75232E-4 | 6.75232E-4 |     |     | [mole fraction] |\n",
            "| n-pentane_well1    | 9.00309E-4 | 9.00309E-4 | 9.00309E-4 |     |     | [mole fraction] |\n",
            "| C6_PC_well1        | 1.4585E-2  | 1.4585E-2  | 1.4585E-2  |     |     | [mole fraction] |\n",
            "| C7_PC_well1        | 6.03207E-3 | 6.03207E-3 | 6.03207E-3 |     |     | [mole fraction] |\n",
            "| C8_PC_well1        | 5.98705E-3 | 5.98705E-3 | 5.98705E-3 |     |     | [mole fraction] |\n",
            "| C9_PC_well1        | 5.35684E-3 | 5.35684E-3 | 5.35684E-3 |     |     | [mole fraction] |\n",
            "| C10_PC_well1       | 5.17678E-3 | 5.17678E-3 | 5.17678E-3 |     |     | [mole fraction] |\n",
            "| C11_PC_well1       | 7.60761E-3 | 7.60761E-3 | 7.60761E-3 |     |     | [mole fraction] |\n",
            "| C12_PC_well1       | 6.75232E-3 | 6.75232E-3 | 6.75232E-3 |     |     | [mole fraction] |\n",
            "| C13_PC_well1       | 9.46675E-3 | 9.46675E-3 | 9.46675E-3 |     |     | [mole fraction] |\n",
            "| nitrogen_well2     | 3.60124E-4 | 3.60124E-4 | 3.60124E-4 |     |     | [mole fraction] |\n",
            "| CO2_well2          | 1.60255E-2 | 1.60255E-2 | 1.60255E-2 |     |     | [mole fraction] |\n",
            "| methane_well2      | 3.93255E-1 | 3.93255E-1 | 3.93255E-1 |     |     | [mole fraction] |\n",
            "| ethane_well2       | 1.80962E-2 | 1.80962E-2 | 1.80962E-2 |     |     | [mole fraction] |\n",
            "| propane_well2      | 6.93238E-3 | 6.93238E-3 | 6.93238E-3 |     |     | [mole fraction] |\n",
            "| i-butane_well2     | 9.00309E-4 | 9.00309E-4 | 9.00309E-4 |     |     | [mole fraction] |\n",
            "| n-butane_well2     | 1.89065E-3 | 1.89065E-3 | 1.89065E-3 |     |     | [mole fraction] |\n",
            "| i-pentane_well2    | 6.75232E-4 | 6.75232E-4 | 6.75232E-4 |     |     | [mole fraction] |\n",
            "| n-pentane_well2    | 9.00309E-4 | 9.00309E-4 | 9.00309E-4 |     |     | [mole fraction] |\n",
            "| C6_PC_well2        | 1.4585E-2  | 1.4585E-2  | 1.4585E-2  |     |     | [mole fraction] |\n",
            "| C7_PC_well2        | 6.03207E-3 | 6.03207E-3 | 6.03207E-3 |     |     | [mole fraction] |\n",
            "| C8_PC_well2        | 5.98705E-3 | 5.98705E-3 | 5.98705E-3 |     |     | [mole fraction] |\n",
            "| C9_PC_well2        | 5.35684E-3 | 5.35684E-3 | 5.35684E-3 |     |     | [mole fraction] |\n",
            "| C10_PC_well2       | 5.17678E-3 | 5.17678E-3 | 5.17678E-3 |     |     | [mole fraction] |\n",
            "| C11_PC_well2       | 7.60761E-3 | 7.60761E-3 | 7.60761E-3 |     |     | [mole fraction] |\n",
            "| C12_PC_well2       | 6.75232E-3 | 6.75232E-3 | 6.75232E-3 |     |     | [mole fraction] |\n",
            "| C13_PC_well2       | 9.46675E-3 | 9.46675E-3 | 9.46675E-3 |     |     | [mole fraction] |\n",
            "|                    |            |            |            |     |     |                 |\n",
            "| Density            |            | 1.69971E0  | 1.69971E0  |     |     | [kg/m^3]        |\n",
            "| PhaseFraction      |            | 1E0        | 1E0        |     |     | [mole fraction] |\n",
            "| MolarMass          | 4.10922E1  | 4.10922E1  | 4.10922E1  |     |     | [kg/kmol]       |\n",
            "| Z factor           |            | 9.88036E-1 | 9.88036E-1 |     |     | [-]             |\n",
            "| Heat Capacity (Cp) |            | 1.71764E0  | 1.71764E0  |     |     | [kJ/kg*K]       |\n",
            "| Heat Capacity (Cv) |            | 1.50619E0  | 1.50619E0  |     |     | [kJ/kg*K]       |\n",
            "| Speed of Sound     |            | 2.59142E2  | 2.59142E2  |     |     | [m/sec]         |\n",
            "| Enthalpy           | 7.9013E1   | 3.95065E1  | 3.95065E1  |     |     | [kJ/kg]         |\n",
            "| Entropy            | 9.82978E-1 | 4.91489E-1 | 4.91489E-1 |     |     | [kJ/kg*K]       |\n",
            "| JT coefficient     |            | 1.18846E0  | 1.18846E0  |     |     | [K/bar]         |\n",
            "|                    |            |            |            |     |     |                 |\n",
            "| Viscosity          |            | 1.02516E-5 | 1.02516E-5 |     |     | [kg/m*sec]      |\n",
            "| Conductivity       |            | 2.44281E-2 | 2.44281E-2 |     |     | [W/m*K]         |\n",
            "| SurfaceTension     |            | 0E0        | 0E0        |     |     | [N/m]           |\n",
            "|                    |            |            |            |     |     |                 |\n",
            "|                    |            |            |            |     |     |                 |\n",
            "|                    |            |            |            |     |     |                 |\n",
            "| Pressure           |            | 1.01325    | 1.01325    |     |     | [bar]           |\n",
            "| Temperature        |            | 298.15     | 298.15     |     |     | [K]             |\n",
            "|                    |            |            |            |     |     |                 |\n",
            "| Model              |            | PR-EOS     | PR-EOS     |     |     | -               |\n",
            "| Mixing Rule        |            | classic    | classic    |     |     | -               |\n",
            "|                    |            |            |            |     |     |                 |\n",
            "| Stream             |            |            |            |     |     | -               |\n",
            "|                    |            |            |            |     |     |                 |\n",
            "|                    |            |            |            |     |     |                 |\n",
            "|                    |            |            |            |     |     |                 |\n",
            "|                    |            |            |            |     |     |                 |\n"
          ]
        }
      ]
    },
    {
      "cell_type": "code",
      "source": [
        "oilprocess.run()"
      ],
      "metadata": {
        "id": "FYtX6Cw54sji"
      },
      "execution_count": 43,
      "outputs": []
    },
    {
      "cell_type": "code",
      "source": [
        "TVP = stableOil.TVP(20.0, 'C')\n",
        "cricondenbar = exportGas.CCB('bara')\n",
        "gasexport = exportGas.getFlowRate('MSm3/day')\n",
        "oilexport = stableOil.getFlowRate('m3/hr')\n",
        "\n",
        "print('TVP [bara] ', TVP)\n",
        "print('cricondenbar [bara] ', cricondenbar)\n",
        "print('gas export [MSm3/day] ', gasexport)\n",
        "print('oil export [m3/hr] ', oilexport)"
      ],
      "metadata": {
        "id": "GL_4ViMW4x9I",
        "outputId": "681aa4d1-6be2-46b9-ee35-a8753a8074ff",
        "colab": {
          "base_uri": "https://localhost:8080/"
        }
      },
      "execution_count": 44,
      "outputs": [
        {
          "output_type": "stream",
          "name": "stdout",
          "text": [
            "TVP [bara]  0.9879870053584401\n",
            "cricondenbar [bara]  102.72635953281646\n",
            "gas export [MSm3/day]  17.32793532166701\n",
            "oil export [m3/hr]  1011.5725095505974\n"
          ]
        }
      ]
    },
    {
      "cell_type": "code",
      "source": [
        "printFrame(exportGas.getFluid())"
      ],
      "metadata": {
        "id": "iD7UEcvO46vd",
        "outputId": "e3b0b62d-8358-4b7a-e8eb-a42f55001346",
        "colab": {
          "base_uri": "https://localhost:8080/"
        }
      },
      "execution_count": 45,
      "outputs": [
        {
          "output_type": "stream",
          "name": "stdout",
          "text": [
            "| 0                  | 1           | 2           | 3   | 4   | 5   | 6               |\n",
            "|:-------------------|:------------|:------------|:----|:----|:----|:----------------|\n",
            "|                    | total       | GAS         |     |     |     |                 |\n",
            "| nitrogen_well1     | 4.27475E-4  | 4.27475E-4  |     |     |     | [mole fraction] |\n",
            "| CO2_well1          | 1.88941E-2  | 1.88941E-2  |     |     |     | [mole fraction] |\n",
            "| methane_well1      | 4.66685E-1  | 4.66685E-1  |     |     |     | [mole fraction] |\n",
            "| ethane_well1       | 2.12307E-2  | 2.12307E-2  |     |     |     | [mole fraction] |\n",
            "| propane_well1      | 7.48218E-3  | 7.48218E-3  |     |     |     | [mole fraction] |\n",
            "| i-butane_well1     | 8.05698E-4  | 8.05698E-4  |     |     |     | [mole fraction] |\n",
            "| n-butane_well1     | 1.4805E-3   | 1.4805E-3   |     |     |     | [mole fraction] |\n",
            "| i-pentane_well1    | 3.2863E-4   | 3.2863E-4   |     |     |     | [mole fraction] |\n",
            "| n-pentane_well1    | 3.60469E-4  | 3.60469E-4  |     |     |     | [mole fraction] |\n",
            "| C6_PC_well1        | 7.31194E-4  | 7.31194E-4  |     |     |     | [mole fraction] |\n",
            "| C7_PC_well1        | 2.6308E-4   | 2.6308E-4   |     |     |     | [mole fraction] |\n",
            "| C8_PC_well1        | 7.98672E-5  | 7.98672E-5  |     |     |     | [mole fraction] |\n",
            "| C9_PC_well1        | 2.29649E-5  | 2.29649E-5  |     |     |     | [mole fraction] |\n",
            "| C10_PC_well1       | 8.92443E-6  | 8.92443E-6  |     |     |     | [mole fraction] |\n",
            "| C11_PC_well1       | 1.51654E-6  | 1.51654E-6  |     |     |     | [mole fraction] |\n",
            "| C12_PC_well1       | 2.01451E-9  | 2.01451E-9  |     |     |     | [mole fraction] |\n",
            "| C13_PC_well1       | 1.83243E-16 | 1.83243E-16 |     |     |     | [mole fraction] |\n",
            "| nitrogen_well2     | 8.20077E-3  | 8.20077E-3  |     |     |     | [mole fraction] |\n",
            "| CO2_well2          | 2.68495E-2  | 2.68495E-2  |     |     |     | [mole fraction] |\n",
            "| methane_well2      | 3.44346E-1  | 3.44346E-1  |     |     |     | [mole fraction] |\n",
            "| ethane_well2       | 1.516E-2    | 1.516E-2    |     |     |     | [mole fraction] |\n",
            "| propane_well2      | 5.20581E-2  | 5.20581E-2  |     |     |     | [mole fraction] |\n",
            "| i-butane_well2     | 2.97684E-2  | 2.97684E-2  |     |     |     | [mole fraction] |\n",
            "| n-butane_well2     | 2.10387E-3  | 2.10387E-3  |     |     |     | [mole fraction] |\n",
            "| i-pentane_well2    | 4.67E-4     | 4.67E-4     |     |     |     | [mole fraction] |\n",
            "| n-pentane_well2    | 5.12246E-4  | 5.12246E-4  |     |     |     | [mole fraction] |\n",
            "| C6_PC_well2        | 1.20854E-3  | 1.20854E-3  |     |     |     | [mole fraction] |\n",
            "| C7_PC_well2        | 4.43996E-4  | 4.43996E-4  |     |     |     | [mole fraction] |\n",
            "| C8_PC_well2        | 5.27844E-5  | 5.27844E-5  |     |     |     | [mole fraction] |\n",
            "| C9_PC_well2        | 1.7218E-5   | 1.7218E-5   |     |     |     | [mole fraction] |\n",
            "| C10_PC_well2       | 7.16327E-6  | 7.16327E-6  |     |     |     | [mole fraction] |\n",
            "| C11_PC_well2       | 2.15508E-6  | 2.15508E-6  |     |     |     | [mole fraction] |\n",
            "| C12_PC_well2       | 4.43102E-10 | 4.43102E-10 |     |     |     | [mole fraction] |\n",
            "| C13_PC_well2       | 1.45227E-15 | 1.45227E-15 |     |     |     | [mole fraction] |\n",
            "|                    |             |             |     |     |     |                 |\n",
            "| Density            |             | 1.74814E2   |     |     |     | [kg/m^3]        |\n",
            "| PhaseFraction      |             | 1E0         |     |     |     | [mole fraction] |\n",
            "| MolarMass          | 2.13461E1   | 2.13461E1   |     |     |     | [kg/kmol]       |\n",
            "| Z factor           |             | 6.61798E-1  |     |     |     | [-]             |\n",
            "| Heat Capacity (Cp) |             | 3.51883E0   |     |     |     | [kJ/kg*K]       |\n",
            "| Heat Capacity (Cv) |             | 1.67502E0   |     |     |     | [kJ/kg*K]       |\n",
            "| Speed of Sound     |             | 3.94457E2   |     |     |     | [m/sec]         |\n",
            "| Enthalpy           | -1.41324E2  | -1.41324E2  |     |     |     | [kJ/kg]         |\n",
            "| Entropy            | -1.65221E0  | -1.65221E0  |     |     |     | [kJ/kg*K]       |\n",
            "| JT coefficient     |             | 2.68209E-1  |     |     |     | [K/bar]         |\n",
            "|                    |             |             |     |     |     |                 |\n",
            "| Viscosity          |             | 1.94664E-5  |     |     |     | [kg/m*sec]      |\n",
            "| Conductivity       |             | 5.1426E-2   |     |     |     | [W/m*K]         |\n",
            "| SurfaceTension     |             |             |     |     |     | [N/m]           |\n",
            "|                    |             |             |     |     |     |                 |\n",
            "|                    |             |             |     |     |     |                 |\n",
            "|                    |             |             |     |     |     |                 |\n",
            "| Pressure           |             | 140.0       |     |     |     | [bar]           |\n",
            "| Temperature        |             | 297.65      |     |     |     | [K]             |\n",
            "|                    |             |             |     |     |     |                 |\n",
            "| Model              |             | PR-EOS      |     |     |     | -               |\n",
            "| Mixing Rule        |             | classic     |     |     |     | -               |\n",
            "|                    |             |             |     |     |     |                 |\n",
            "| Stream             |             |             |     |     |     | -               |\n",
            "|                    |             |             |     |     |     |                 |\n",
            "|                    |             |             |     |     |     |                 |\n",
            "|                    |             |             |     |     |     |                 |\n",
            "|                    |             |             |     |     |     |                 |\n"
          ]
        }
      ]
    },
    {
      "cell_type": "markdown",
      "source": [
        "calculation of ORF factors for the induvidual components from well 1 and 2."
      ],
      "metadata": {
        "id": "gLilbWyiDw3u"
      }
    },
    {
      "cell_type": "code",
      "source": [
        "componentNames = wellStream.getFluid().getComponentNames()\n",
        "\n",
        "print ('ORF factors.......................')\n",
        "for name in componentNames:\n",
        "  total = wellStream.getFluid().getComponent(name).getTotalFlowRate('kg/hr') + wellStream2.getFluid().getComponent(name).getTotalFlowRate('kg/hr')\n",
        "  ORF = stableOil.getFluid().getComponent(name).getTotalFlowRate('kg/hr')/total\n",
        "  print('ORF ', name, ' ', ORF)"
      ],
      "metadata": {
        "colab": {
          "base_uri": "https://localhost:8080/"
        },
        "id": "bQRf5rpBDwFR",
        "outputId": "9caf929f-7499-4b72-bc9b-9052b41bbf83"
      },
      "execution_count": 46,
      "outputs": [
        {
          "output_type": "stream",
          "name": "stdout",
          "text": [
            "ORF factors.......................\n",
            "ORF  nitrogen_well1   1.9660369911838256e-05\n",
            "ORF  CO2_well1   0.00677730461279986\n",
            "ORF  methane_well1   0.0002716786138988942\n",
            "ORF  ethane_well1   0.011653468930230799\n",
            "ORF  propane_well1   0.09075826027783129\n",
            "ORF  i-butane_well1   0.24609225812357086\n",
            "ORF  n-butane_well1   0.34031176817853737\n",
            "ORF  i-pentane_well1   0.5899772774334563\n",
            "ORF  n-pentane_well1   0.6626843607326044\n",
            "ORF  C6_PC_well1   0.889633024903191\n",
            "ORF  C7_PC_well1   0.9632522492439479\n",
            "ORF  C8_PC_well1   0.9887598638389035\n",
            "ORF  C9_PC_well1   0.9963878892301804\n",
            "ORF  C10_PC_well1   0.9985475234629053\n",
            "ORF  C11_PC_well1   0.9998320573594831\n",
            "ORF  C12_PC_well1   0.9999997486768035\n",
            "ORF  C13_PC_well1   0.9999999999999661\n",
            "ORF  nitrogen_well2   1.9660369908117234e-05\n",
            "ORF  CO2_well2   0.006777304453327738\n",
            "ORF  methane_well2   0.0002716786134996127\n",
            "ORF  ethane_well2   0.011653468421779343\n",
            "ORF  propane_well2   0.09075822757801508\n",
            "ORF  i-butane_well2   0.24609197720709095\n",
            "ORF  n-butane_well2   0.34031121416078164\n",
            "ORF  i-pentane_well2   0.589975357248632\n",
            "ORF  n-pentane_well2   0.6626819069077585\n",
            "ORF  C6_PC_well2   0.8716302541259696\n",
            "ORF  C7_PC_well2   0.956356365439502\n",
            "ORF  C8_PC_well2   0.9947724966616623\n",
            "ORF  C9_PC_well2   0.9980942902567287\n",
            "ORF  C10_PC_well2   0.9991796133238647\n",
            "ORF  C11_PC_well2   0.9998320573592785\n",
            "ORF  C12_PC_well2   0.9999999610998608\n",
            "ORF  C13_PC_well2   0.9999999999998138\n"
          ]
        }
      ]
    },
    {
      "cell_type": "code",
      "source": [
        "#calculation of flow of wellstream 1 in oil and gas export\n",
        "\n",
        "componentNames = wellStream.getFluid().getComponentNames()\n",
        "\n",
        "totalGasFlowFromWell1 = 0\n",
        "totalOilFlowFromWell1 = 0\n",
        "for name in componentNames:\n",
        "  if(wellStream.getFluid().getComponent(name).getz()>0):\n",
        "    totalGasFlowFromWell1 = totalGasFlowFromWell1 + exportGas.getFluid().getComponent(name).getFlowRate('kg/hr')\n",
        "    totalOilFlowFromWell1 = totalOilFlowFromWell1 + stableOil.getFluid().getComponent(name).getFlowRate('kg/hr')\n",
        "\n",
        "print('well stream 1 flow ' , wellStream.getFlowRate('kg/hr'), ' kg/hr')\n",
        "print('well stream 1 in export gas ', totalGasFlowFromWell1, ' kg/hr')\n",
        "print('well stream 1 in stable oil ', totalOilFlowFromWell1, ' kg/hr')\n"
      ],
      "metadata": {
        "colab": {
          "base_uri": "https://localhost:8080/"
        },
        "id": "1zVbgjLMHpYZ",
        "outputId": "b9fe777c-26c9-4840-e8c3-75bf90c9be9e"
      },
      "execution_count": 47,
      "outputs": [
        {
          "output_type": "stream",
          "name": "stdout",
          "text": [
            "well stream 1 flow  619893.2766954034  kg/hr\n",
            "well stream 1 in export gas  292608.6161569333  kg/hr\n",
            "well stream 1 in stable oil  327283.9767350981  kg/hr\n"
          ]
        }
      ]
    },
    {
      "cell_type": "markdown",
      "source": [
        "Evaluating effect of production rate of well 1 for well 2 gas/oil export allocation"
      ],
      "metadata": {
        "id": "7nsBLE-WN-Vl"
      }
    },
    {
      "cell_type": "code",
      "source": [
        "import matplotlib.pyplot as plt\n",
        "\n",
        "well1production = [0, 1, 2, 3, 4, 5, 6, 7, 8, 9, 10]\n",
        "well2Gas = []\n",
        "well2Oil = []\n",
        "\n",
        "#set flow from well 2\n",
        "oilprocess.getUnit('dry well stream2').setFlowRate(10.0, \"MSm3/day\")\n",
        "\n",
        "for production in well1production:\n",
        "  oilprocess.getUnit('dry well stream').setFlowRate(production, \"MSm3/day\")\n",
        "  oilprocess.run()\n",
        "\n",
        "  totalGasFlowFromWell2 = 0\n",
        "  totalOilFlowFromWell2 = 0\n",
        "  for name in componentNames:\n",
        "    if(wellStream2.getFluid().getComponent(name).getz()>0):\n",
        "      totalGasFlowFromWell2 = totalGasFlowFromWell2 + exportGas.getFluid().getComponent(name).getFlowRate('kg/hr')\n",
        "      totalOilFlowFromWell2 = totalOilFlowFromWell2 + stableOil.getFluid().getComponent(name).getFlowRate('kg/hr')\n",
        "  well2Gas.append(totalGasFlowFromWell2)\n",
        "  well2Oil.append(totalOilFlowFromWell2)\n",
        "\n",
        "plt.figure()\n",
        "plt.xlabel('Well 1 production [MSm3/day]')\n",
        "plt.ylabel('Well 2 export [kg/hr]')\n",
        "plt.plot(well1production, well2Gas)\n",
        "plt.plot(well1production, well2Oil)\n",
        "plt.legend(['gas', 'oil'])"
      ],
      "metadata": {
        "id": "HGwSAfaaOLnW",
        "outputId": "6d3f213d-c168-47c9-ee4e-de02a92748c0",
        "colab": {
          "base_uri": "https://localhost:8080/",
          "height": 466
        }
      },
      "execution_count": 49,
      "outputs": [
        {
          "output_type": "execute_result",
          "data": {
            "text/plain": [
              "<matplotlib.legend.Legend at 0x799f9c1222c0>"
            ]
          },
          "metadata": {},
          "execution_count": 49
        },
        {
          "output_type": "display_data",
          "data": {
            "text/plain": [
              "<Figure size 640x480 with 1 Axes>"
            ],
            "image/png": "[encoded data removed]"
          },
          "metadata": {}
        }
      ]
    }
  ]
}