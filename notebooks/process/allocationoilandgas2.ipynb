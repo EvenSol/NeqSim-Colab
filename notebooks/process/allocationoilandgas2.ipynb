{
  "nbformat": 4,
  "nbformat_minor": 0,
  "metadata": {
    "colab": {
      "name": "allocationoilandgas.ipynb",
      "provenance": [],
      "include_colab_link": true
    },
    "kernelspec": {
      "name": "python3",
      "display_name": "Python 3"
    },
    "language_info": {
      "name": "python"
    }
  },
  "cells": [
    {
      "cell_type": "markdown",
      "metadata": {
        "id": "view-in-github",
        "colab_type": "text"
      },
      "source": [
        "<a href=\"https://colab.research.google.com/github/EvenSol/NeqSim-Colab/blob/master/notebooks/process/allocationoilandgas2.ipynb\" target=\"_parent\"><img src=\"https://colab.research.google.com/assets/colab-badge.svg\" alt=\"Open In Colab\"/></a>"
      ]
    },
    {
      "cell_type": "code",
      "execution_count": 18,
      "metadata": {
        "id": "g6AAfT2tXdS_"
      },
      "outputs": [],
      "source": [
        "# Setting up the Colab page to use neqsim\n",
        "#@markdown <br><br>This document is part of the module [\"Introduction to Gas Processing using NeqSim in Colab\"](https://colab.research.google.com/github/EvenSol/NeqSim-Colab/blob/master/notebooks/examples_of_NeqSim_in_Colab.ipynb#scrollTo=_eRtkQnHpL70).\n",
        "%%capture\n",
        "!pip install neqsim==3.0.14\n",
        "import neqsim\n",
        "from neqsim.thermo.thermoTools import *"
      ]
    },
    {
      "cell_type": "markdown",
      "source": [
        "# Introduction\n",
        "\n",
        "This Colab notebook demonstrates how to use the NeqSim process simulation library to perform **allocation calculations** for oil and gas production. Allocation is the process of determining the contribution of individual wells or streams to the total production of a field. This is important for accounting purposes and for optimizing production.\n",
        "\n",
        "The notebook first defines a simple process flow diagram consisting of two wells, a separator, and an export pipeline. The process is simulated using NeqSim, and the results are used to calculate **Oil Recovery Factors (ORF)** for each well. The ORF is the fraction of the oil in the well stream that is recovered in the separator.\n",
        "\n",
        "The notebook then demonstrates how to track individual components from each well through the process. This allows for a more detailed analysis of the allocation results.\n",
        "\n",
        "Finally, the notebook explores the impact of different production rates on the allocation results. This shows how changes in production can affect the allocation of oil and gas to individual wells.\n",
        "\n",
        "In addition to demonstrating the use of NeqSim for allocation calculations, the notebook provides a brief overview of the allocation process and its importance in the petroleum industry."
      ],
      "metadata": {
        "id": "P50z6iCBbHUc"
      }
    },
    {
      "cell_type": "markdown",
      "source": [
        "# Litterature\n",
        "\n",
        "Recommended guideline for allocation simulation\n",
        "\n",
        "https://openarchive.usn.no/usn-xmlui/handle/11250/2765116\n",
        "\n",
        "Production Allocation of Oil and Gas: A case Study:\n",
        "\n",
        "https://ntnuopen.ntnu.no/ntnu-xmlui/handle/11250/2351061\n",
        "\n",
        "\n",
        "Energy Institute\n",
        "\n",
        "https://publishing.energyinst.org/topics/hydrocarbon-management/upstream-measurement/hm-96.-guidelines-for-the-allocation-of-fluid-streams-in-oil-and-gas-production"
      ],
      "metadata": {
        "id": "0Vh75b1NOzsI"
      }
    },
    {
      "cell_type": "markdown",
      "source": [
        "#Allocation of oil and gas\n",
        "\n",
        "https://en.wikipedia.org/wiki/Allocation_(oil_and_gas)\n",
        "\n",
        "\n",
        "In the petroleum industry, allocation refers to practices of breaking down measures of quantities of extracted hydrocarbons across various contributing sources. Allocation aids the attribution of ownerships of hydrocarbons as each contributing element to a commingled flow or to a storage of petroleum may have a unique ownership. Contributing sources in this context are typically producing petroleum wells delivering flows of petroleum or flows of natural gas to a commingled flow or storage.\n",
        "\n",
        "The terms hydrocarbon accounting and allocation are sometimes used interchangeably. Hydrocarbon accounting has a wider scope, taking advantages of allocation results, it is the petroleum management process by which ownership of extracted hydrocarbons is determined and tracked from a point of sale or discharge back to the point of extraction. In this way, hydrocarbon accounting also covers inventory control, material balance, and practices to trace ownership of hydrocarbons being transported in a transportation system, e.g. through pipelines to customers distant from the production plant.\n",
        "\n",
        "In an allocation problem, contributing sources are more widely natural gas streams, fluid flows or multiphase flows derived from formations or zones in a well, from wells, and from fields, unitised production entities or production facilities. In hydrocarbon accounting, quantities of extracted hydrocarbon can be further split by ownership, by \"cost oil\" or \"profit oil\" categories, and broken down to individual composition fraction types. Such components may be alkane hydrocarbons, boiling point fractions, and mole weight fractions.\n",
        "\n"
      ],
      "metadata": {
        "id": "z2BKO_zSX54a"
      }
    },
    {
      "cell_type": "code",
      "source": [
        "#@title Introduction to Allocation\n",
        "#@markdown This video gives an intriduction to allocation of oil and gas\n",
        "from IPython.display import YouTubeVideo\n",
        "YouTubeVideo('pdIzRGTgmco', width=600, height=400)"
      ],
      "metadata": {
        "colab": {
          "base_uri": "https://localhost:8080/",
          "height": 421
        },
        "cellView": "form",
        "id": "S1Zn6wSkhbD8",
        "outputId": "f7c02784-6f16-4462-e98b-9282c7e9f0e2"
      },
      "execution_count": 19,
      "outputs": [
        {
          "output_type": "execute_result",
          "data": {
            "text/plain": [
              "<IPython.lib.display.YouTubeVideo at 0x7c5f38df7490>"
            ],
            "text/html": [
              "\n",
              "        <iframe\n",
              "            width=\"600\"\n",
              "            height=\"400\"\n",
              "            src=\"https://www.youtube.com/embed/pdIzRGTgmco\"\n",
              "            frameborder=\"0\"\n",
              "            allowfullscreen\n",
              "            \n",
              "        ></iframe>\n",
              "        "
            ],
            "image/jpeg": "[encoded data removed]"
          },
          "metadata": {},
          "execution_count": 19
        }
      ]
    },
    {
      "cell_type": "markdown",
      "source": [
        "# Process simulation for allocation"
      ],
      "metadata": {
        "id": "8J_B0ZW6YnBT"
      }
    },
    {
      "cell_type": "code",
      "source": [
        "inputdata = {\n",
        "  'feedFlowRateWellA': 10,\n",
        "  'wellPressure': 280.0,\n",
        "  'wellTemperature':200.0,\n",
        "  'topsidePressure': 90.0,\n",
        "  'topsideTemperature': 5.0,\n",
        "  'firstStagePressure': 75.0,\n",
        "  'temperatureOilHeater' : 90.0,\n",
        "  'secondStagePressure': 8.6,\n",
        "  'thirdStagePressure': 1.9,\n",
        "  'firstStageSuctionCoolerTemperature': 25.3,\n",
        "  'secondStageSuctionCoolerTemperature': 24.5,\n",
        "  'thirdStageSuctionCoolerTemperature':25.0,\n",
        "  'firstStageExportCoolerTemperature': 25.3,\n",
        "  'secondStageExportCoolerTemperature': 24.5\n",
        "}"
      ],
      "metadata": {
        "id": "eI3E7rf_YvAD"
      },
      "execution_count": 20,
      "outputs": []
    },
    {
      "cell_type": "code",
      "source": [
        "from neqsim.thermo import fluid, printFrame\n",
        "from neqsim.process import compressor, cooler, separator3phase, getProcess, clearProcess, mixer, heater, stream, pump, separator, runProcess, stream, saturator, valve, filters, heatExchanger, simpleTEGAbsorber,distillationColumn, waterStripperColumn, recycle, setpoint, calculator\n",
        "\n",
        "clearProcess()\n",
        "\n",
        "wellFluid = fluid('pr')\n",
        "wellFluid.addComponent(\"nitrogen\", 0.08)\n",
        "wellFluid.addComponent(\"CO2\", 3.56)\n",
        "wellFluid.addComponent(\"methane\", 87.36)\n",
        "wellFluid.addComponent(\"ethane\", 4.02)\n",
        "wellFluid.addComponent(\"propane\", 1.54)\n",
        "wellFluid.addComponent(\"i-butane\", 0.2)\n",
        "wellFluid.addComponent(\"n-butane\", 0.42)\n",
        "wellFluid.addComponent(\"i-pentane\", 0.15)\n",
        "wellFluid.addComponent(\"n-pentane\", 0.20)\n",
        "\n",
        "wellFluid.addTBPfraction(\"C6\", 3.24, 84.99/1000.0, 695.0/1000.0)\n",
        "wellFluid.addTBPfraction(\"C7\", 1.34, 97.87/1000.0, 718.0/1000.0)\n",
        "wellFluid.addTBPfraction(\"C8\", 1.33, 111.54/1000.0, 729.0/1000.0)\n",
        "wellFluid.addTBPfraction(\"C9\", 1.19, 126.1/1000.0, 749.0/1000.0)\n",
        "wellFluid.addTBPfraction(\"C10\", 1.15, 140.14/1000.0, 760.0/1000.0)\n",
        "wellFluid.addTBPfraction(\"C11\", 1.69, 175.0/1000.0, 830.0/1000.0)\n",
        "wellFluid.addTBPfraction(\"C12\", 1.5, 280.0/1000.0, 914.0/1000.0)\n",
        "wellFluid.addTBPfraction(\"C13\", 2.103, 560.0/1000.0, 980.0/1000.0)\n",
        "\n",
        "wellFluid.setMixingRule('classic')\n",
        "\n",
        "wellFluid.setMolarComposition([0.08, 3.56, 87.36, 4.02, 1.54, 0.2, 0.42, 0.15, 0.2, 1.24, 1.34, 1.33, 1.19, 1.15, 1.69, 1.5, 1.03])\n",
        "\n",
        "wellStream = stream(\"dry well stream\", wellFluid)\n",
        "wellStream.setFlowRate(inputdata['feedFlowRateWellA'], \"MSm3/day\")\n",
        "wellStream.setTemperature(inputdata['wellTemperature'], \"C\")\n",
        "wellStream.setPressure(inputdata['wellPressure'], \"bara\")\n",
        "\n",
        "saturatedFeedGas = saturator(\"water saturator\", wellStream)\n",
        "\n",
        "waterSaturatedFeedGas = stream(\"water saturated feed gas\", saturatedFeedGas.getOutStream())\n",
        "\n",
        "feedTPsetter = heater('inletTP', waterSaturatedFeedGas)\n",
        "feedTPsetter.setOutPressure(inputdata['topsidePressure'], \"bara\")\n",
        "feedTPsetter.setOutTemperature(inputdata['topsideTemperature'], \"C\")\n",
        "\n",
        "chokeValve = valve('valve 1', feedTPsetter.getOutStream())\n",
        "chokeValve.setOutletPressure(inputdata['firstStagePressure'], 'bara')\n",
        "\n",
        "feedToOffshoreProcess = stream(\"feed to offshore\", chokeValve.getOutStream())\n",
        "\n",
        "firstStageSeparator = separator3phase(\"1st stage separator\", feedToOffshoreProcess)\n",
        "\n",
        "oilHeaterFromFirstStage = heater(\"oil heater second stage\", firstStageSeparator.getOilOutStream())\n",
        "oilHeaterFromFirstStage.setOutTemperature(inputdata['temperatureOilHeater'],'C')\n",
        "\n",
        "oilThrotValve = valve(\"valve oil from first stage\", oilHeaterFromFirstStage.getOutStream())\n",
        "oilThrotValve.setOutletPressure(inputdata['secondStagePressure'])\n",
        "\n",
        "secondStageSeparator = separator3phase(\"2nd stage separator\", oilThrotValve.getOutStream())\n",
        "\n",
        "oilThrotValve2 = valve(\"valve oil from second stage\", secondStageSeparator.getOilOutStream())\n",
        "oilThrotValve2.setOutletPressure(inputdata['thirdStagePressure'])\n",
        "\n",
        "thirdStageSeparator = separator3phase(\"3rd stage separator\", oilThrotValve2.getOutStream())\n",
        "\n",
        "oilThirdStageToSep =  wellStream.clone()\n",
        "oilThirdStageToSep.setName(\"resyc oil\")\n",
        "thirdStageSeparator.addStream(oilThirdStageToSep)\n",
        "\n",
        "stableOil = stream(\"stable oil\", thirdStageSeparator.getOilOutStream())\n",
        "\n",
        "stableOilPump = pump(\"stable oil pump\", stableOil,15.0)\n",
        "\n",
        "firstStageCooler = cooler(\"1st stage cooler\", thirdStageSeparator.getGasOutStream())\n",
        "firstStageCooler.setOutTemperature(inputdata['firstStageSuctionCoolerTemperature'],'C')\n",
        "\n",
        "firstStageScrubber = separator(\"1st stage scrubber\", firstStageCooler.getOutStream())\n",
        "\n",
        "firstStageCompressor = compressor(\"1st stage compressor\", firstStageScrubber.getGasOutStream())\n",
        "firstStageCompressor.setOutletPressure(inputdata['secondStagePressure'])\n",
        "firstStageCompressor.setIsentropicEfficiency(0.75)\n",
        "\n",
        "firststGasMixer = mixer(\"first Stage mixer\")\n",
        "firststGasMixer.addStream(firstStageCompressor.getOutStream())\n",
        "firststGasMixer.addStream(secondStageSeparator.getGasOutStream())\n",
        "\n",
        "secondStageCooler = cooler(\"2nd stage cooler\", firststGasMixer.getOutStream())\n",
        "secondStageCooler.setOutTemperature(inputdata['secondStageSuctionCoolerTemperature'],'C')\n",
        "\n",
        "secondStageScrubber = separator(\"2nd stage scrubber\", secondStageCooler.getOutStream())\n",
        "\n",
        "secondStageCompressor = compressor(\"2nd stage compressor\", secondStageScrubber.getGasOutStream())\n",
        "secondStageCompressor.setOutletPressure(inputdata['firstStagePressure'])\n",
        "secondStageCompressor.setIsentropicEfficiency(0.75)\n",
        "\n",
        "richGasMixer = mixer(\"fourth Stage mixer\")\n",
        "richGasMixer.addStream(secondStageCompressor.getOutStream())\n",
        "richGasMixer.addStream(firstStageSeparator.getGasOutStream())\n",
        "\n",
        "dewPointControlCooler = cooler(\"dew point cooler\", richGasMixer.getOutStream())\n",
        "dewPointControlCooler.setOutTemperature(inputdata['thirdStageSuctionCoolerTemperature'],'C')\n",
        "\n",
        "dewPointScrubber = separator(\"dew point scrubber\", dewPointControlCooler.getOutStream())\n",
        "\n",
        "lpLiqmixer = mixer(\"LP liq gas mixer\");\n",
        "lpLiqmixer.addStream(firstStageScrubber.getLiquidOutStream());\n",
        "lpLiqmixer.addStream(secondStageScrubber.getLiquidOutStream());\n",
        "lpLiqmixer.addStream(dewPointScrubber.getLiquidOutStream());\n",
        "\n",
        "lpResycle = recycle(\"LP liq resycle\")\n",
        "lpResycle.addStream(lpLiqmixer.getOutStream())\n",
        "lpResycle.setOutletStream(oilThirdStageToSep)\n",
        "\n",
        "exportCompressor1 = compressor(\"export 1st stage\", dewPointScrubber.getGasOutStream())\n",
        "exportCompressor1.setOutletPressure(140.0)\n",
        "exportCompressor1.setIsentropicEfficiency(0.75)\n",
        "\n",
        "exportInterstageCooler = cooler(\"interstage stage cooler\", exportCompressor1.getOutStream())\n",
        "exportInterstageCooler.setOutTemperature(inputdata['firstStageExportCoolerTemperature'],'C')\n",
        "\n",
        "exportCompressor2= compressor(\"export 2nd stage\", exportInterstageCooler.getOutStream())\n",
        "exportCompressor2.setOutletPressure(200.0)\n",
        "exportCompressor2.setIsentropicEfficiency(0.75)\n",
        "\n",
        "exportCooler = cooler(\"export cooler\", exportCompressor1.getOutStream())\n",
        "exportCooler.setOutTemperature(inputdata['secondStageExportCoolerTemperature'],'C')\n",
        "\n",
        "exportGas = stream(\"export gas\", exportCooler.getOutStream())\n",
        "\n",
        "oilprocess = getProcess()"
      ],
      "metadata": {
        "id": "BLc5mDf4Y9VT"
      },
      "execution_count": 21,
      "outputs": []
    },
    {
      "cell_type": "code",
      "source": [
        "oilprocess.run()"
      ],
      "metadata": {
        "id": "vmy81v2NZF1L"
      },
      "execution_count": 22,
      "outputs": []
    },
    {
      "cell_type": "code",
      "source": [
        "TVP = stableOil.TVP(30.0, 'C')\n",
        "cricondenbar = exportGas.CCB('bara')\n",
        "gasexport = exportGas.getFlowRate('MSm3/day')\n",
        "oilexport = stableOil.getFlowRate('m3/hr')\n",
        "\n",
        "print('TVP [bara] ', TVP)\n",
        "print('cricondenbar [bara] ', cricondenbar)\n",
        "print('gas export [MSm3/day] ', gasexport)\n",
        "print('oil export [m3/hr] ', oilexport)"
      ],
      "metadata": {
        "colab": {
          "base_uri": "https://localhost:8080/"
        },
        "id": "kov6bLXOZJRD",
        "outputId": "ad01f355-0f76-4e70-f5f6-cea471eef6a9"
      },
      "execution_count": 23,
      "outputs": [
        {
          "output_type": "stream",
          "name": "stdout",
          "text": [
            "TVP [bara]  0.9587981327894299\n",
            "cricondenbar [bara]  92.66412118896277\n",
            "gas export [MSm3/day]  8.994078680789759\n",
            "oil export [m3/hr]  402.7604400572848\n"
          ]
        }
      ]
    },
    {
      "cell_type": "markdown",
      "source": [
        "#ORF factors\n",
        "In the following code the ORF factors are calculated"
      ],
      "metadata": {
        "id": "aMj8rZG2aB7N"
      }
    },
    {
      "cell_type": "code",
      "source": [
        "componentNames = wellStream.getFluid().getComponentNames()\n",
        "\n",
        "print ('ORF.......................')\n",
        "for name in componentNames:\n",
        "  total = wellStream.getFluid().getComponent(name).getTotalFlowRate('kg/hr')\n",
        "  ORF = stableOil.getFluid().getComponent(name).getTotalFlowRate('kg/hr')/total\n",
        "  print('ORF ', name, ' ', ORF)\n"
      ],
      "metadata": {
        "colab": {
          "base_uri": "https://localhost:8080/"
        },
        "id": "dq59pYRIaBlN",
        "outputId": "238b2d20-1771-4b7c-cb00-a52f240eb0d0"
      },
      "execution_count": 24,
      "outputs": [
        {
          "output_type": "stream",
          "name": "stdout",
          "text": [
            "ORF.......................\n",
            "ORF  nitrogen   1.5415249996733158e-05\n",
            "ORF  CO2   0.002425912232747733\n",
            "ORF  methane   0.0003081889757429978\n",
            "ORF  ethane   0.011656830297804269\n",
            "ORF  propane   0.08801125039351439\n",
            "ORF  i-butane   0.23910184802269915\n",
            "ORF  n-butane   0.3347767744679579\n",
            "ORF  i-pentane   0.5905448043193046\n",
            "ORF  n-pentane   0.6666430995174567\n",
            "ORF  C6_PC   0.8931914994626522\n",
            "ORF  C7_PC   0.9614799212675081\n",
            "ORF  C8_PC   0.9858115246249408\n",
            "ORF  C9_PC   0.9946177064297749\n",
            "ORF  C10_PC   0.9976832119005926\n",
            "ORF  C11_PC   0.9997382346885532\n",
            "ORF  C12_PC   0.9999996920209154\n",
            "ORF  C13_PC   0.9999999999988108\n"
          ]
        }
      ]
    },
    {
      "cell_type": "markdown",
      "source": [
        "# Adding a new well stream\n",
        "In the following example we will add a new well stream and add it to the inlet separator."
      ],
      "metadata": {
        "id": "J8v0XKXn_tGn"
      }
    },
    {
      "cell_type": "code",
      "source": [
        "inputdata2 = {\n",
        "  'feedFlowRateWellB': 5,\n",
        "  'wellPressure': 280.0,\n",
        "  'wellTemperature':200.0\n",
        "}"
      ],
      "metadata": {
        "id": "qxH8VGosKLEu"
      },
      "execution_count": 25,
      "outputs": []
    },
    {
      "cell_type": "code",
      "source": [
        "wellFluid2 = fluid('pr')\n",
        "wellFluid2.addComponent(\"nitrogen\", 0.08)\n",
        "wellFluid2.addComponent(\"CO2\", 3.56)\n",
        "wellFluid2.addComponent(\"methane\", 87.36)\n",
        "wellFluid2.addComponent(\"ethane\", 4.02)\n",
        "wellFluid2.addComponent(\"propane\", 1.54)\n",
        "wellFluid2.addComponent(\"i-butane\", 0.2)\n",
        "wellFluid2.addComponent(\"n-butane\", 0.42)\n",
        "wellFluid2.addComponent(\"i-pentane\", 0.15)\n",
        "wellFluid2.addComponent(\"n-pentane\", 0.20)\n",
        "\n",
        "wellFluid2.addTBPfraction(\"C6\", 3.24, 84.99/1000.0, 695.0/1000.0)\n",
        "wellFluid2.addTBPfraction(\"C7\", 1.34, 97.87/1000.0, 718.0/1000.0)\n",
        "wellFluid2.addTBPfraction(\"C8\", 1.33, 111.54/1000.0, 729.0/1000.0)\n",
        "wellFluid2.addTBPfraction(\"C9\", 1.19, 126.1/1000.0, 749.0/1000.0)\n",
        "wellFluid2.addTBPfraction(\"C10\", 1.15, 140.14/1000.0, 760.0/1000.0)\n",
        "wellFluid2.addTBPfraction(\"C11\", 1.69, 175.0/1000.0, 830.0/1000.0)\n",
        "wellFluid2.addTBPfraction(\"C12\", 1.5, 280.0/1000.0, 914.0/1000.0)\n",
        "wellFluid2.addTBPfraction(\"C13\", 2.103, 560.0/1000.0, 980.0/1000.0)\n",
        "\n",
        "wellFluid2.setMixingRule(2)\n",
        "wellFluid2.init(0)\n",
        "\n",
        "wellFluid2.setMolarComposition([0.08, 3.56, 45.36, 4.02, 1.54, 0.2, 0.42, 0.15, 0.2, 1.24, 1.34, 1.33, 1.19, 2.15, 2.69, 3.5, 1.03])\n",
        "\n",
        "wellStream2 = stream(\"dry well stream 2\", wellFluid2)\n",
        "wellStream2.setFlowRate(inputdata2['feedFlowRateWellB'], \"MSm3/day\")\n",
        "wellStream2.setTemperature(inputdata2['wellTemperature'], \"C\")\n",
        "wellStream2.setPressure(inputdata2['wellPressure'], \"bara\")\n",
        "wellStream2.run()\n",
        "\n",
        "saturatedFeedGas2 = saturator(\"water saturator 2\", wellStream2)\n",
        "saturatedFeedGas2.run()\n",
        "\n",
        "waterSaturatedFeedGas2 = stream(\"water saturated feed gas 2\", saturatedFeedGas2.getOutStream())\n",
        "waterSaturatedFeedGas2.run()\n",
        "\n",
        "feedTPsetter2 = heater('inletTP2', waterSaturatedFeedGas2)\n",
        "feedTPsetter2.setOutPressure(inputdata['topsidePressure'], \"bara\")\n",
        "feedTPsetter2.setOutTemperature(inputdata['topsideTemperature'], \"C\")\n",
        "feedTPsetter2.run()\n",
        "\n",
        "firstStageSeparator.addStream(feedTPsetter2.getOutStream())\n",
        "\n",
        "oilprocess = getProcess()"
      ],
      "metadata": {
        "id": "-gzBm5iL_zzN"
      },
      "execution_count": 26,
      "outputs": []
    },
    {
      "cell_type": "code",
      "source": [
        "oilprocess.run()"
      ],
      "metadata": {
        "id": "UZq2G5zRA3id"
      },
      "execution_count": 27,
      "outputs": []
    },
    {
      "cell_type": "code",
      "source": [
        "TVP = stableOil.TVP(30.0, 'C')\n",
        "cricondenbar = exportGas.CCB('bara')\n",
        "gasexport = exportGas.getFlowRate('MSm3/day')\n",
        "oilexport = stableOil.getFlowRate('m3/hr')\n",
        "\n",
        "print('TVP [bara] ', TVP)\n",
        "print('cricondenbar [bara] ', cricondenbar)\n",
        "print('gas export [MSm3/day] ', gasexport)\n",
        "print('oil export [m3/hr] ', oilexport)"
      ],
      "metadata": {
        "colab": {
          "base_uri": "https://localhost:8080/"
        },
        "id": "WKIM6Dr7A6MF",
        "outputId": "c7b01259-6d04-4b0d-fb51-733c065fbae4"
      },
      "execution_count": 28,
      "outputs": [
        {
          "output_type": "stream",
          "name": "stdout",
          "text": [
            "TVP [bara]  0.9733146721193785\n",
            "cricondenbar [bara]  93.58635759214441\n",
            "gas export [MSm3/day]  12.91977006842107\n",
            "oil export [m3/hr]  847.1380575825385\n"
          ]
        }
      ]
    },
    {
      "cell_type": "code",
      "source": [
        "componentNames = wellStream.getFluid().getComponentNames()\n",
        "\n",
        "print ('ORF.......................')\n",
        "for name in componentNames:\n",
        "  total = wellStream.getFluid().getComponent(name).getTotalFlowRate('kg/hr')+wellStream2.getFluid().getComponent(name).getTotalFlowRate('kg/hr')\n",
        "  ORF = stableOil.getFluid().getComponent(name).getTotalFlowRate('kg/hr')/total\n",
        "  print('ORF ', name, ' ', ORF)"
      ],
      "metadata": {
        "colab": {
          "base_uri": "https://localhost:8080/"
        },
        "id": "5_Pak0odA_0s",
        "outputId": "520e76b0-c6b5-417a-c006-fbfe665d995e"
      },
      "execution_count": 29,
      "outputs": [
        {
          "output_type": "stream",
          "name": "stdout",
          "text": [
            "ORF.......................\n",
            "ORF  nitrogen   2.367648210732346e-05\n",
            "ORF  CO2   0.0033615869956553942\n",
            "ORF  methane   0.0004543507335241345\n",
            "ORF  ethane   0.015329350937399231\n",
            "ORF  propane   0.10287861521433811\n",
            "ORF  i-butane   0.26086370080003785\n",
            "ORF  n-butane   0.35479785998398294\n",
            "ORF  i-pentane   0.6035374975524873\n",
            "ORF  n-pentane   0.6759994308864715\n",
            "ORF  C6_PC   0.8975098969928499\n",
            "ORF  C7_PC   0.9654353809741212\n",
            "ORF  C8_PC   0.9885469031792817\n",
            "ORF  C9_PC   0.9960432175492071\n",
            "ORF  C10_PC   0.9983784593733581\n",
            "ORF  C11_PC   0.9998216038462365\n",
            "ORF  C12_PC   0.9999997840960876\n",
            "ORF  C13_PC   0.9999999999998778\n"
          ]
        }
      ]
    },
    {
      "cell_type": "code",
      "source": [
        "#Calculation of K-factors\n",
        "componentNames = wellStream.getFluid().getComponentNames()\n",
        "\n",
        "print ('K.......................')\n",
        "for name in componentNames:\n",
        "  K = exportGas.getFluid().getComponent(name).getz()/stableOil.getFluid().getComponent(name).getz()\n",
        "  print('K ', name, ' ', K)"
      ],
      "metadata": {
        "id": "vSPZaHGXHgqX",
        "outputId": "6d956fa3-49f4-4aa9-c139-67e6a0a51c99",
        "colab": {
          "base_uri": "https://localhost:8080/"
        }
      },
      "execution_count": 30,
      "outputs": [
        {
          "output_type": "stream",
          "name": "stdout",
          "text": [
            "K.......................\n",
            "K  nitrogen   6815.004720986784\n",
            "K  CO2   47.83886330050521\n",
            "K  methane   354.9809272067596\n",
            "K  ethane   10.364797252121512\n",
            "K  propane   1.407081681344912\n",
            "K  i-butane   0.45719614278736814\n",
            "K  n-butane   0.29343027738467004\n",
            "K  i-pentane   0.10599386688774326\n",
            "K  n-pentane   0.07733551692508904\n",
            "K  C6_PC   0.018425318217665316\n",
            "K  C7_PC   0.005776765076612385\n",
            "K  C8_PC   0.0018694109906654223\n",
            "K  C9_PC   0.0006409797408233196\n",
            "K  C10_PC   0.0002620680403634756\n",
            "K  C11_PC   2.8790391124805145e-05\n",
            "K  C12_PC   3.483889224747382e-08\n",
            "K  C13_PC   2.716205914280006e-15\n"
          ]
        }
      ]
    },
    {
      "cell_type": "markdown",
      "source": [
        "# Comment\n",
        "As we can see the ORF of the light components like eg. propane are now a bit higher. This is due to more of the lighter components are extracted in the oil of the more oil dominated new well."
      ],
      "metadata": {
        "id": "iRN6hAcrJG1M"
      }
    },
    {
      "cell_type": "markdown",
      "source": [
        "## Tracking induvidual components from wells\n",
        "IN this example we still send all wells to the 1st stage separator. But we will track components from individual wells."
      ],
      "metadata": {
        "id": "LP6vkQLN0JF8"
      }
    },
    {
      "cell_type": "code",
      "source": [
        "wellFluid = fluid('pr')\n",
        "wellFluid.addComponent(\"nitrogen\", 0.08)\n",
        "wellFluid.addComponent(\"CO2\", 3.56)\n",
        "wellFluid.addComponent(\"methane\", 87.36)\n",
        "wellFluid.addComponent(\"ethane\", 4.02)\n",
        "wellFluid.addComponent(\"propane\", 1.54)\n",
        "wellFluid.addComponent(\"i-butane\", 0.2)\n",
        "wellFluid.addComponent(\"n-butane\", 0.42)\n",
        "wellFluid.addComponent(\"i-pentane\", 0.15)\n",
        "wellFluid.addComponent(\"n-pentane\", 0.20)\n",
        "\n",
        "wellFluid.addTBPfraction(\"C6\", 3.24, 84.99/1000.0, 695.0/1000.0)\n",
        "wellFluid.addTBPfraction(\"C7\", 1.34, 97.87/1000.0, 718.0/1000.0)\n",
        "wellFluid.addTBPfraction(\"C8\", 1.33, 111.54/1000.0, 729.0/1000.0)\n",
        "wellFluid.addTBPfraction(\"C9\", 1.19, 126.1/1000.0, 749.0/1000.0)\n",
        "wellFluid.addTBPfraction(\"C10\", 1.15, 140.14/1000.0, 760.0/1000.0)\n",
        "wellFluid.addTBPfraction(\"C11\", 1.69, 175.0/1000.0, 830.0/1000.0)\n",
        "wellFluid.addTBPfraction(\"C12\", 1.5, 280.0/1000.0, 914.0/1000.0)\n",
        "wellFluid.addTBPfraction(\"C13\", 2.103, 560.0/1000.0, 980.0/1000.0)\n",
        "\n",
        "names = wellFluid.getComponentNames()\n",
        "\n",
        "for i in range(names.length):\n",
        "  wellFluid.changeComponentName(wellFluid.getComponent(i).getName(), (wellFluid.getComponent(i).getName()+\"__well1\"))\n",
        "\n",
        "wellFluid.addComponent(\"nitrogen\", 0.08)\n",
        "wellFluid.addComponent(\"CO2\", 3.56)\n",
        "wellFluid.addComponent(\"methane\", 87.36)\n",
        "wellFluid.addComponent(\"ethane\", 4.02)\n",
        "wellFluid.addComponent(\"propane\", 1.54)\n",
        "wellFluid.addComponent(\"i-butane\", 0.2)\n",
        "wellFluid.addComponent(\"n-butane\", 0.42)\n",
        "wellFluid.addComponent(\"i-pentane\", 0.15)\n",
        "wellFluid.addComponent(\"n-pentane\", 0.20)\n",
        "\n",
        "wellFluid.addTBPfraction(\"C6\", 3.24, 82.99/1000.0, 695.0/1000.0)\n",
        "wellFluid.addTBPfraction(\"C7\", 1.34, 95.87/1000.0, 718.0/1000.0)\n",
        "wellFluid.addTBPfraction(\"C8\", 1.33, 121.54/1000.0, 729.0/1000.0)\n",
        "wellFluid.addTBPfraction(\"C9\", 1.19, 136.1/1000.0, 749.0/1000.0)\n",
        "wellFluid.addTBPfraction(\"C10\", 1.15, 150.14/1000.0, 760.0/1000.0)\n",
        "wellFluid.addTBPfraction(\"C11\", 1.69, 175.0/1000.0, 830.0/1000.0)\n",
        "wellFluid.addTBPfraction(\"C12\", 1.5, 310.0/1000.0, 914.0/1000.0)\n",
        "wellFluid.addTBPfraction(\"C13\", 2.103, 520.0/1000.0, 980.0/1000.0)\n",
        "\n",
        "for i in range(names.length):\n",
        "  wellFluid.changeComponentName(names[i], (wellFluid.getComponent(i).getName().replace(\"well1\", \"well2\")))\n",
        "\n",
        "wellFluid.setMixingRule('classic')\n",
        "\n",
        "printFrame(wellFluid)\n",
        "\n",
        "\n",
        "#and then set the fluid composition of the wells and run simulation\n",
        "\n",
        "from neqsim.thermo import fluid, printFrame\n",
        "from neqsim.process import compressor, cooler, separator3phase, getProcess, clearProcess, mixer, heater, stream, pump, separator, runProcess, stream, saturator, valve, filters, heatExchanger, simpleTEGAbsorber,distillationColumn, waterStripperColumn, recycle, setpoint, calculator\n",
        "\n",
        "wellFluid.setMolarComposition([0.08, 3.56, 87.36, 4.02, 1.54, 0.2, 0.42, 0.15, 0.2, 1.24, 1.34, 1.33, 1.19, 1.15, 1.69, 1.5, 1.03,\n",
        "                               0.0, 0.0, 0.0, 0.0, 0.0, 0.0, 0.0, 0.0, 0.0, 0.0, 0.0, 0.0, 0.0, 0.0, 0.0, 0.0, 0.0])\n",
        "\n",
        "\n",
        "welFluid2 = wellFluid.clone()\n",
        "welFluid2.setMolarComposition([ 0.0, 0.0, 0.0, 0.0, 0.0, 0.0, 0.0, 0.0, 0.0, 0.0, 0.0, 0.0, 0.0, 0.0, 0.0, 0.0, 0.0,\n",
        "                               0.08, 3.56, 45.36, 4.02, 1.54, 0.2, 0.42, 0.15, 0.2, 1.24, 1.34, 1.33, 1.19, 2.15, 2.69, 3.5, 1.03])\n",
        "\n",
        "clearProcess()\n",
        "\n",
        "wellStream = stream(\"dry well stream\", wellFluid)\n",
        "wellStream.setFlowRate(inputdata['feedFlowRateWellA'], \"MSm3/day\")\n",
        "wellStream.setTemperature(inputdata['wellTemperature'], \"C\")\n",
        "wellStream.setPressure(inputdata['wellPressure'], \"bara\")\n",
        "\n",
        "wellStream2 = stream(\"dry well stream2\", welFluid2)\n",
        "wellStream2.setFlowRate(inputdata2['feedFlowRateWellB'], \"MSm3/day\")\n",
        "wellStream2.setTemperature(inputdata2['wellTemperature'], \"C\")\n",
        "wellStream2.setPressure(inputdata2['wellPressure'], \"bara\")\n",
        "\n",
        "wellmixer = mixer('mixer')\n",
        "wellmixer.addStream(wellStream)\n",
        "wellmixer.addStream(wellStream2)\n",
        "\n",
        "feedTPsetter = heater('inletTP', wellmixer.getOutletStream())\n",
        "feedTPsetter.setOutPressure(inputdata['topsidePressure'], \"bara\")\n",
        "feedTPsetter.setOutTemperature(inputdata['topsideTemperature'], \"C\")\n",
        "\n",
        "chokeValve = valve('valve1', feedTPsetter.getOutStream())\n",
        "chokeValve.setOutletPressure(inputdata['firstStagePressure'], 'bara')\n",
        "\n",
        "feedToOffshoreProcess = stream(\"feed to offshore\", chokeValve.getOutStream())\n",
        "\n",
        "firstStageSeparator = separator3phase(\"1st stage separator\", feedToOffshoreProcess)\n",
        "\n",
        "oilHeaterFromFirstStage = heater(\"oil heater second stage\", firstStageSeparator.getOilOutStream())\n",
        "oilHeaterFromFirstStage.setOutTemperature(inputdata['temperatureOilHeater'],'C')\n",
        "\n",
        "oilThrotValve = valve(\"valve oil from first stage\", oilHeaterFromFirstStage.getOutStream())\n",
        "oilThrotValve.setOutletPressure(inputdata['secondStagePressure'])\n",
        "\n",
        "secondStageSeparator = separator3phase(\"2nd stage separator\", oilThrotValve.getOutStream())\n",
        "\n",
        "oilThrotValve2 = valve(\"valve oil from second stage\", secondStageSeparator.getOilOutStream())\n",
        "oilThrotValve2.setOutletPressure(inputdata['thirdStagePressure'])\n",
        "\n",
        "thirdStageSeparator = separator3phase(\"3rd stage separator\", oilThrotValve2.getOutStream())\n",
        "\n",
        "oilThirdStageToSep =  wellStream.clone()\n",
        "oilThirdStageToSep.setName(\"resyc oil\")\n",
        "thirdStageSeparator.addStream(oilThirdStageToSep)\n",
        "\n",
        "stableOil = stream(\"stable oil\", thirdStageSeparator.getOilOutStream())\n",
        "\n",
        "stableOilPump = pump(\"stable oil pump\", stableOil,15.0)\n",
        "\n",
        "firstStageCooler = cooler(\"1st stage cooler\", thirdStageSeparator.getGasOutStream())\n",
        "firstStageCooler.setOutTemperature(inputdata['firstStageSuctionCoolerTemperature'],'C')\n",
        "\n",
        "firstStageScrubber = separator(\"1st stage scrubber\", firstStageCooler.getOutStream())\n",
        "\n",
        "firstStageCompressor = compressor(\"1st stage compressor\", firstStageScrubber.getGasOutStream())\n",
        "firstStageCompressor.setOutletPressure(inputdata['secondStagePressure'])\n",
        "firstStageCompressor.setIsentropicEfficiency(0.75)\n",
        "\n",
        "firststGasMixer = mixer(\"first Stage mixer\")\n",
        "firststGasMixer.addStream(firstStageCompressor.getOutStream())\n",
        "firststGasMixer.addStream(secondStageSeparator.getGasOutStream())\n",
        "\n",
        "secondStageCooler = cooler(\"2nd stage cooler\", firststGasMixer.getOutStream())\n",
        "secondStageCooler.setOutTemperature(inputdata['secondStageSuctionCoolerTemperature'],'C')\n",
        "\n",
        "secondStageScrubber = separator(\"2nd stage scrubber\", secondStageCooler.getOutStream())\n",
        "\n",
        "secondStageCompressor = compressor(\"2nd stage compressor\", secondStageScrubber.getGasOutStream())\n",
        "secondStageCompressor.setOutletPressure(inputdata['firstStagePressure'])\n",
        "secondStageCompressor.setIsentropicEfficiency(0.75)\n",
        "\n",
        "richGasMixer = mixer(\"fourth Stage mixer\")\n",
        "richGasMixer.addStream(secondStageCompressor.getOutStream())\n",
        "richGasMixer.addStream(firstStageSeparator.getGasOutStream())\n",
        "\n",
        "dewPointControlCooler = cooler(\"dew point cooler\", richGasMixer.getOutStream())\n",
        "dewPointControlCooler.setOutTemperature(inputdata['thirdStageSuctionCoolerTemperature'],'C')\n",
        "\n",
        "dewPointScrubber = separator(\"dew point scrubber\", dewPointControlCooler.getOutStream())\n",
        "\n",
        "lpLiqmixer = mixer(\"LP liq gas mixer\");\n",
        "lpLiqmixer.addStream(firstStageScrubber.getLiquidOutStream());\n",
        "lpLiqmixer.addStream(secondStageScrubber.getLiquidOutStream());\n",
        "lpLiqmixer.addStream(dewPointScrubber.getLiquidOutStream());\n",
        "\n",
        "lpResycle = recycle(\"LP liq resycle\")\n",
        "lpResycle.addStream(lpLiqmixer.getOutStream())\n",
        "lpResycle.setOutletStream(oilThirdStageToSep)\n",
        "\n",
        "exportCompressor1 = compressor(\"export 1st stage\", dewPointScrubber.getGasOutStream())\n",
        "exportCompressor1.setOutletPressure(140.0)\n",
        "exportCompressor1.setIsentropicEfficiency(0.75)\n",
        "\n",
        "exportInterstageCooler = cooler(\"interstage stage cooler\", exportCompressor1.getOutStream())\n",
        "exportInterstageCooler.setOutTemperature(inputdata['firstStageExportCoolerTemperature'],'C')\n",
        "\n",
        "exportCompressor2= compressor(\"export 2nd stage\", exportInterstageCooler.getOutStream())\n",
        "exportCompressor2.setOutletPressure(200.0)\n",
        "exportCompressor2.setIsentropicEfficiency(0.75)\n",
        "\n",
        "exportCooler = cooler(\"export cooler\", exportCompressor1.getOutStream())\n",
        "exportCooler.setOutTemperature(inputdata['secondStageExportCoolerTemperature'],'C')\n",
        "\n",
        "exportGas = stream(\"export gas\", exportCooler.getOutStream())\n",
        "\n",
        "oilprocess = getProcess()"
      ],
      "metadata": {
        "id": "TxX3nkb50NrZ",
        "outputId": "2d21486f-c4f4-424f-8b92-d7621eafeb86",
        "colab": {
          "base_uri": "https://localhost:8080/"
        }
      },
      "execution_count": 31,
      "outputs": [
        {
          "output_type": "stream",
          "name": "stdout",
          "text": [
            "| 0                    | 1          | 2          | 3          | 4   | 5   | 6               |\n",
            "|:---------------------|:-----------|:-----------|:-----------|:----|:----|:----------------|\n",
            "|                      | total      | GAS        | OIL        |     |     |                 |\n",
            "| nitrogen__well1      | 3.60124E-4 | 3.60124E-4 | 3.60124E-4 |     |     | [mole fraction] |\n",
            "| CO2__well1           | 1.60255E-2 | 1.60255E-2 | 1.60255E-2 |     |     | [mole fraction] |\n",
            "| methane__well1       | 3.93255E-1 | 3.93255E-1 | 3.93255E-1 |     |     | [mole fraction] |\n",
            "| ethane__well1        | 1.80962E-2 | 1.80962E-2 | 1.80962E-2 |     |     | [mole fraction] |\n",
            "| propane__well1       | 6.93238E-3 | 6.93238E-3 | 6.93238E-3 |     |     | [mole fraction] |\n",
            "| i-butane__well1      | 9.00309E-4 | 9.00309E-4 | 9.00309E-4 |     |     | [mole fraction] |\n",
            "| n-butane__well1      | 1.89065E-3 | 1.89065E-3 | 1.89065E-3 |     |     | [mole fraction] |\n",
            "| i-pentane__well1     | 6.75232E-4 | 6.75232E-4 | 6.75232E-4 |     |     | [mole fraction] |\n",
            "| n-pentane__well1     | 9.00309E-4 | 9.00309E-4 | 9.00309E-4 |     |     | [mole fraction] |\n",
            "| C6_PC__well1         | 1.4585E-2  | 1.4585E-2  | 1.4585E-2  |     |     | [mole fraction] |\n",
            "| C7_PC__well1         | 6.03207E-3 | 6.03207E-3 | 6.03207E-3 |     |     | [mole fraction] |\n",
            "| C8_PC__well1         | 5.98705E-3 | 5.98705E-3 | 5.98705E-3 |     |     | [mole fraction] |\n",
            "| C9_PC__well1         | 5.35684E-3 | 5.35684E-3 | 5.35684E-3 |     |     | [mole fraction] |\n",
            "| C10_PC__well1        | 5.17678E-3 | 5.17678E-3 | 5.17678E-3 |     |     | [mole fraction] |\n",
            "| C11_PC__well1        | 7.60761E-3 | 7.60761E-3 | 7.60761E-3 |     |     | [mole fraction] |\n",
            "| C12_PC__well1        | 6.75232E-3 | 6.75232E-3 | 6.75232E-3 |     |     | [mole fraction] |\n",
            "| C13_PC__well1        | 9.46675E-3 | 9.46675E-3 | 9.46675E-3 |     |     | [mole fraction] |\n",
            "| nitrogen__well2      | 3.60124E-4 | 3.60124E-4 | 3.60124E-4 |     |     | [mole fraction] |\n",
            "| CO2__well2           | 1.60255E-2 | 1.60255E-2 | 1.60255E-2 |     |     | [mole fraction] |\n",
            "| methane__well2       | 3.93255E-1 | 3.93255E-1 | 3.93255E-1 |     |     | [mole fraction] |\n",
            "| ethane__well2        | 1.80962E-2 | 1.80962E-2 | 1.80962E-2 |     |     | [mole fraction] |\n",
            "| propane__well2       | 6.93238E-3 | 6.93238E-3 | 6.93238E-3 |     |     | [mole fraction] |\n",
            "| i-butane__well2      | 9.00309E-4 | 9.00309E-4 | 9.00309E-4 |     |     | [mole fraction] |\n",
            "| n-butane__well2      | 1.89065E-3 | 1.89065E-3 | 1.89065E-3 |     |     | [mole fraction] |\n",
            "| i-pentane__well2     | 6.75232E-4 | 6.75232E-4 | 6.75232E-4 |     |     | [mole fraction] |\n",
            "| n-pentane__well2     | 9.00309E-4 | 9.00309E-4 | 9.00309E-4 |     |     | [mole fraction] |\n",
            "| C6_PC__well2         | 1.4585E-2  | 1.4585E-2  | 1.4585E-2  |     |     | [mole fraction] |\n",
            "| C7_PC__well2         | 6.03207E-3 | 6.03207E-3 | 6.03207E-3 |     |     | [mole fraction] |\n",
            "| C8_PC__well2         | 5.98705E-3 | 5.98705E-3 | 5.98705E-3 |     |     | [mole fraction] |\n",
            "| C9_PC__well2         | 5.35684E-3 | 5.35684E-3 | 5.35684E-3 |     |     | [mole fraction] |\n",
            "| C10_PC__well2        | 5.17678E-3 | 5.17678E-3 | 5.17678E-3 |     |     | [mole fraction] |\n",
            "| C11_PC__well2        | 7.60761E-3 | 7.60761E-3 | 7.60761E-3 |     |     | [mole fraction] |\n",
            "| C12_PC__well2        | 6.75232E-3 | 6.75232E-3 | 6.75232E-3 |     |     | [mole fraction] |\n",
            "| C13_PC__well2        | 9.46675E-3 | 9.46675E-3 | 9.46675E-3 |     |     | [mole fraction] |\n",
            "|                      |            |            |            |     |     |                 |\n",
            "| Density              |            | 1.69943E0  | 1.69943E0  |     |     | kg/m3           |\n",
            "| Phase Fraction       |            | 1E0        | 1E0        |     |     | [mole fraction] |\n",
            "| Molar Mass           | 4.10922E-2 | 4.10922E-2 | 4.10922E-2 |     |     | kg/mol          |\n",
            "| Z factor             |            | 9.88333E-1 | 9.88333E-1 |     |     | [-]             |\n",
            "| Heat Capacity (Cp)   |            | 1.70505E0  | 1.70505E0  |     |     | kJ/kgK          |\n",
            "| Heat Capacity (Cv)   |            | 1.4937E0   | 1.4937E0   |     |     | kJ/kgK          |\n",
            "| Speed of Sound       |            | 2.59305E2  | 2.59305E2  |     |     | m/sec           |\n",
            "| Enthalpy             | 7.84441E4  | 3.9222E4   | 3.9222E4   |     |     | J/kg            |\n",
            "| Entropy              | 9.8092E2   | 4.9046E2   | 4.9046E2   |     |     | J/kgK           |\n",
            "| JT coefficient       |            | 1.18288E0  | 1.18288E0  |     |     | C/bar           |\n",
            "|                      |            |            |            |     |     |                 |\n",
            "| Viscosity            |            | 1.02915E-5 | 1.02915E-5 |     |     | kg/msec         |\n",
            "| Thermal Conductivity |            | 2.43471E-2 | 2.43471E-2 |     |     | W/mK            |\n",
            "| Surface Tension      |            | 0E0        | 0E0        |     |     | [N/m]           |\n",
            "|                      |            |            |            |     |     |                 |\n",
            "|                      |            |            |            |     |     |                 |\n",
            "|                      |            |            |            |     |     |                 |\n",
            "| Pressure             |            | 1.01325    | 1.01325    |     |     | bara            |\n",
            "| Temperature          |            | 25.0       | 25.0       |     |     | C               |\n",
            "|                      |            |            |            |     |     |                 |\n",
            "| Model                |            | PR-EOS     | PR-EOS     |     |     | -               |\n",
            "| Mixing Rule          |            | classic    | classic    |     |     | -               |\n",
            "|                      |            |            |            |     |     |                 |\n",
            "| Stream               |            |            |            |     |     | -               |\n",
            "|                      |            |            |            |     |     |                 |\n",
            "|                      |            |            |            |     |     |                 |\n",
            "|                      |            |            |            |     |     |                 |\n",
            "|                      |            |            |            |     |     |                 |\n"
          ]
        }
      ]
    },
    {
      "cell_type": "markdown",
      "source": [
        "## Binary interaction parameters"
      ],
      "metadata": {
        "id": "cX22kK1MIsJW"
      }
    },
    {
      "cell_type": "code",
      "source": [
        "import jpype\n",
        "import jpype.imports\n",
        "from jpype.types import JDouble\n",
        "# Import the Java Arrays class.\n",
        "from java.util import Arrays\n",
        "from pprint import pprint\n",
        "import json\n",
        "import ast\n",
        "\n",
        "print(exportCompressor1.getOutStream().getFluid().getComponentNames())\n",
        "# Assume params is something like \"[[1.0, 2.0], [3.0, 4.0]]\"\n",
        "params = str(Arrays.deepToString(exportCompressor1.getOutStream().getFluid().getPhase(0)\n",
        "                                 .getMixingRule().getBinaryInteractionParameters()))\n",
        "\n",
        "try:\n",
        "    # Convert the string representation to a Python list\n",
        "    data = ast.literal_eval(params)\n",
        "\n",
        "    # Print each row on a separate line\n",
        "    for row in data:\n",
        "        print(row)\n",
        "except Exception as e:\n",
        "    print(\"Error converting string to list:\", e)\n"
      ],
      "metadata": {
        "colab": {
          "base_uri": "https://localhost:8080/"
        },
        "id": "KhGWc-uHFijx",
        "outputId": "3abdbd9e-8106-4b1e-a9ef-a869c35af15c"
      },
      "execution_count": 32,
      "outputs": [
        {
          "output_type": "stream",
          "name": "stdout",
          "text": [
            "['nitrogen__well1', 'CO2__well1', 'methane__well1', 'ethane__well1', 'propane__well1', 'i-butane__well1', 'n-butane__well1', 'i-pentane__well1', 'n-pentane__well1', 'C6_PC__well1', 'C7_PC__well1', 'C8_PC__well1', 'C9_PC__well1', 'C10_PC__well1', 'C11_PC__well1', 'C12_PC__well1', 'C13_PC__well1', 'nitrogen__well2', 'CO2__well2', 'methane__well2', 'ethane__well2', 'propane__well2', 'i-butane__well2', 'n-butane__well2', 'i-pentane__well2', 'n-pentane__well2', 'C6_PC__well2', 'C7_PC__well2', 'C8_PC__well2', 'C9_PC__well2', 'C10_PC__well2', 'C11_PC__well2', 'C12_PC__well2', 'C13_PC__well2']\n",
            "[0.0, -0.019997, 0.0319, 0.0388, 0.079998, 0.094999, 0.1007, 0.094999, 0.1, 0.08, 0.08, 0.08, 0.08, 0.08, 0.08, 0.08, 0.08, 0.0, -0.019997, 0.0319, 0.0388, 0.079998, 0.094999, 0.1007, 0.094999, 0.1, 0.08, 0.08, 0.08, 0.08, 0.08, 0.08, 0.08, 0.08]\n",
            "[-0.019997, 0.0, 0.0973, 0.12980001, 0.13500001, 0.12980001, 0.12980001, 0.125, 0.125, 0.1, 0.1, 0.1, 0.1, 0.1, 0.1, 0.1, 0.1, -0.019997, 0.0, 0.0973, 0.12980001, 0.13500001, 0.12980001, 0.12980001, 0.125, 0.125, 0.1, 0.1, 0.1, 0.1, 0.1, 0.1, 0.1, 0.1]\n",
            "[0.0319, 0.0973, 0.0, 0.00295295, 0.00747722, 0.01369935, 0.01289789, 0.01817552, 0.01847102, 0.0, 0.0, 0.0, 0.0, 0.0, 0.0, 0.0, 0.0, 0.0319, 0.0973, 0.0, 0.00295295, 0.00747722, 0.01369935, 0.01289789, 0.01817552, 0.01847102, 0.0, 0.0, 0.0, 0.0, 0.0, 0.0, 0.0, 0.0]\n",
            "[0.0388, 0.12980001, 0.00295295, 0.0, 0.00185286, 0.00511365, 0.00464288, 0.00791956, 0.00811359, 0.0, 0.0, 0.0, 0.0, 0.0, 0.0, 0.0, 0.0, 0.0388, 0.12980001, 0.00295295, 0.0, 0.00185286, 0.00511365, 0.00464288, 0.00791956, 0.00811359, 0.0, 0.0, 0.0, 0.0, 0.0, 0.0, 0.0, 0.0]\n",
            "[0.079998, 0.13500001, 0.00747722, 0.00185286, 0.0, 0.00153851, 0.00132268, 0.00305075, 0.00316586, 0.0, 0.0, 0.0, 0.0, 0.0, 0.0, 0.0, 0.0, 0.079998, 0.13500001, 0.00747722, 0.00185286, 0.0, 0.00153851, 0.00132268, 0.00305075, 0.00316586, 0.0, 0.0, 0.0, 0.0, 0.0, 0.0, 0.0, 0.0]\n",
            "[0.094999, 0.12980001, 0.01369935, 0.00511365, 0.00153851, 0.0, 0.00047251, 0.0, 0.00081462, 0.0, 0.0, 0.0, 0.0, 0.0, 0.0, 0.0, 0.0, 0.094999, 0.12980001, 0.01369935, 0.00511365, 0.00153851, 0.0, 0.00047251, 0.0, 0.00081462, 0.0, 0.0, 0.0, 0.0, 0.0, 0.0, 0.0, 0.0]\n",
            "[0.1007, 0.12980001, 0.01289789, 0.00464288, 0.00132268, 0.00047251, 0.0, 0.00092632, 0.00097665, 0.0, 0.0, 0.0, 0.0, 0.0, 0.0, 0.0, 0.0, 0.1007, 0.12980001, 0.01289789, 0.00464288, 0.00132268, 0.00047251, 0.0, 0.00092632, 0.00097665, 0.0, 0.0, 0.0, 0.0, 0.0, 0.0, 0.0, 0.0]\n",
            "[0.094999, 0.125, 0.01817552, 0.00791956, 0.00305075, 0.0, 0.00092632, 0.0, 0.00039999, 0.0, 0.0, 0.0, 0.0, 0.0, 0.0, 0.0, 0.0, 0.094999, 0.125, 0.01817552, 0.00791956, 0.00305075, 0.0, 0.00092632, 0.0, 0.00039999, 0.0, 0.0, 0.0, 0.0, 0.0, 0.0, 0.0, 0.0]\n",
            "[0.1, 0.125, 0.01847102, 0.00811359, 0.00316586, 0.00081462, 0.00097665, 0.00039999, 0.0, 0.0, 0.0, 0.0, 0.0, 0.0, 0.0, 0.0, 0.0, 0.1, 0.125, 0.01847102, 0.00811359, 0.00316586, 0.00081462, 0.00097665, 0.00039999, 0.0, 0.0, 0.0, 0.0, 0.0, 0.0, 0.0, 0.0, 0.0]\n",
            "[0.08, 0.1, 0.0, 0.0, 0.0, 0.0, 0.0, 0.0, 0.0, 0.0, 0.0, 0.0, 0.0, 0.0, 0.0, 0.0, 0.0, 0.08, 0.1, 0.0, 0.0, 0.0, 0.0, 0.0, 0.0, 0.0, 0.0, 0.0, 0.0, 0.0, 0.0, 0.0, 0.0, 0.0]\n",
            "[0.08, 0.1, 0.0, 0.0, 0.0, 0.0, 0.0, 0.0, 0.0, 0.0, 0.0, 0.0, 0.0, 0.0, 0.0, 0.0, 0.0, 0.08, 0.1, 0.0, 0.0, 0.0, 0.0, 0.0, 0.0, 0.0, 0.0, 0.0, 0.0, 0.0, 0.0, 0.0, 0.0, 0.0]\n",
            "[0.08, 0.1, 0.0, 0.0, 0.0, 0.0, 0.0, 0.0, 0.0, 0.0, 0.0, 0.0, 0.0, 0.0, 0.0, 0.0, 0.0, 0.08, 0.1, 0.0, 0.0, 0.0, 0.0, 0.0, 0.0, 0.0, 0.0, 0.0, 0.0, 0.0, 0.0, 0.0, 0.0, 0.0]\n",
            "[0.08, 0.1, 0.0, 0.0, 0.0, 0.0, 0.0, 0.0, 0.0, 0.0, 0.0, 0.0, 0.0, 0.0, 0.0, 0.0, 0.0, 0.08, 0.1, 0.0, 0.0, 0.0, 0.0, 0.0, 0.0, 0.0, 0.0, 0.0, 0.0, 0.0, 0.0, 0.0, 0.0, 0.0]\n",
            "[0.08, 0.1, 0.0, 0.0, 0.0, 0.0, 0.0, 0.0, 0.0, 0.0, 0.0, 0.0, 0.0, 0.0, 0.0, 0.0, 0.0, 0.08, 0.1, 0.0, 0.0, 0.0, 0.0, 0.0, 0.0, 0.0, 0.0, 0.0, 0.0, 0.0, 0.0, 0.0, 0.0, 0.0]\n",
            "[0.08, 0.1, 0.0, 0.0, 0.0, 0.0, 0.0, 0.0, 0.0, 0.0, 0.0, 0.0, 0.0, 0.0, 0.0, 0.0, 0.0, 0.08, 0.1, 0.0, 0.0, 0.0, 0.0, 0.0, 0.0, 0.0, 0.0, 0.0, 0.0, 0.0, 0.0, 0.0, 0.0, 0.0]\n",
            "[0.08, 0.1, 0.0, 0.0, 0.0, 0.0, 0.0, 0.0, 0.0, 0.0, 0.0, 0.0, 0.0, 0.0, 0.0, 0.0, 0.0, 0.08, 0.1, 0.0, 0.0, 0.0, 0.0, 0.0, 0.0, 0.0, 0.0, 0.0, 0.0, 0.0, 0.0, 0.0, 0.0, 0.0]\n",
            "[0.08, 0.1, 0.0, 0.0, 0.0, 0.0, 0.0, 0.0, 0.0, 0.0, 0.0, 0.0, 0.0, 0.0, 0.0, 0.0, 0.0, 0.08, 0.1, 0.0, 0.0, 0.0, 0.0, 0.0, 0.0, 0.0, 0.0, 0.0, 0.0, 0.0, 0.0, 0.0, 0.0, 0.0]\n",
            "[0.0, -0.019997, 0.0319, 0.0388, 0.079998, 0.094999, 0.1007, 0.094999, 0.1, 0.08, 0.08, 0.08, 0.08, 0.08, 0.08, 0.08, 0.08, 0.0, -0.019997, 0.0319, 0.0388, 0.079998, 0.094999, 0.1007, 0.094999, 0.1, 0.08, 0.08, 0.08, 0.08, 0.08, 0.08, 0.08, 0.08]\n",
            "[-0.019997, 0.0, 0.0973, 0.12980001, 0.13500001, 0.12980001, 0.12980001, 0.125, 0.125, 0.1, 0.1, 0.1, 0.1, 0.1, 0.1, 0.1, 0.1, -0.019997, 0.0, 0.0973, 0.12980001, 0.13500001, 0.12980001, 0.12980001, 0.125, 0.125, 0.1, 0.1, 0.1, 0.1, 0.1, 0.1, 0.1, 0.1]\n",
            "[0.0319, 0.0973, 0.0, 0.00295295, 0.00747722, 0.01369935, 0.01289789, 0.01817552, 0.01847102, 0.0, 0.0, 0.0, 0.0, 0.0, 0.0, 0.0, 0.0, 0.0319, 0.0973, 0.0, 0.00295295, 0.00747722, 0.01369935, 0.01289789, 0.01817552, 0.01847102, 0.0, 0.0, 0.0, 0.0, 0.0, 0.0, 0.0, 0.0]\n",
            "[0.0388, 0.12980001, 0.00295295, 0.0, 0.00185286, 0.00511365, 0.00464288, 0.00791956, 0.00811359, 0.0, 0.0, 0.0, 0.0, 0.0, 0.0, 0.0, 0.0, 0.0388, 0.12980001, 0.00295295, 0.0, 0.00185286, 0.00511365, 0.00464288, 0.00791956, 0.00811359, 0.0, 0.0, 0.0, 0.0, 0.0, 0.0, 0.0, 0.0]\n",
            "[0.079998, 0.13500001, 0.00747722, 0.00185286, 0.0, 0.00153851, 0.00132268, 0.00305075, 0.00316586, 0.0, 0.0, 0.0, 0.0, 0.0, 0.0, 0.0, 0.0, 0.079998, 0.13500001, 0.00747722, 0.00185286, 0.0, 0.00153851, 0.00132268, 0.00305075, 0.00316586, 0.0, 0.0, 0.0, 0.0, 0.0, 0.0, 0.0, 0.0]\n",
            "[0.094999, 0.12980001, 0.01369935, 0.00511365, 0.00153851, 0.0, 0.00047251, 0.0, 0.00081462, 0.0, 0.0, 0.0, 0.0, 0.0, 0.0, 0.0, 0.0, 0.094999, 0.12980001, 0.01369935, 0.00511365, 0.00153851, 0.0, 0.00047251, 0.0, 0.00081462, 0.0, 0.0, 0.0, 0.0, 0.0, 0.0, 0.0, 0.0]\n",
            "[0.1007, 0.12980001, 0.01289789, 0.00464288, 0.00132268, 0.00047251, 0.0, 0.00092632, 0.00097665, 0.0, 0.0, 0.0, 0.0, 0.0, 0.0, 0.0, 0.0, 0.1007, 0.12980001, 0.01289789, 0.00464288, 0.00132268, 0.00047251, 0.0, 0.00092632, 0.00097665, 0.0, 0.0, 0.0, 0.0, 0.0, 0.0, 0.0, 0.0]\n",
            "[0.094999, 0.125, 0.01817552, 0.00791956, 0.00305075, 0.0, 0.00092632, 0.0, 0.00039999, 0.0, 0.0, 0.0, 0.0, 0.0, 0.0, 0.0, 0.0, 0.094999, 0.125, 0.01817552, 0.00791956, 0.00305075, 0.0, 0.00092632, 0.0, 0.00039999, 0.0, 0.0, 0.0, 0.0, 0.0, 0.0, 0.0, 0.0]\n",
            "[0.1, 0.125, 0.01847102, 0.00811359, 0.00316586, 0.00081462, 0.00097665, 0.00039999, 0.0, 0.0, 0.0, 0.0, 0.0, 0.0, 0.0, 0.0, 0.0, 0.1, 0.125, 0.01847102, 0.00811359, 0.00316586, 0.00081462, 0.00097665, 0.00039999, 0.0, 0.0, 0.0, 0.0, 0.0, 0.0, 0.0, 0.0, 0.0]\n",
            "[0.08, 0.1, 0.0, 0.0, 0.0, 0.0, 0.0, 0.0, 0.0, 0.0, 0.0, 0.0, 0.0, 0.0, 0.0, 0.0, 0.0, 0.08, 0.1, 0.0, 0.0, 0.0, 0.0, 0.0, 0.0, 0.0, 0.0, 0.0, 0.0, 0.0, 0.0, 0.0, 0.0, 0.0]\n",
            "[0.08, 0.1, 0.0, 0.0, 0.0, 0.0, 0.0, 0.0, 0.0, 0.0, 0.0, 0.0, 0.0, 0.0, 0.0, 0.0, 0.0, 0.08, 0.1, 0.0, 0.0, 0.0, 0.0, 0.0, 0.0, 0.0, 0.0, 0.0, 0.0, 0.0, 0.0, 0.0, 0.0, 0.0]\n",
            "[0.08, 0.1, 0.0, 0.0, 0.0, 0.0, 0.0, 0.0, 0.0, 0.0, 0.0, 0.0, 0.0, 0.0, 0.0, 0.0, 0.0, 0.08, 0.1, 0.0, 0.0, 0.0, 0.0, 0.0, 0.0, 0.0, 0.0, 0.0, 0.0, 0.0, 0.0, 0.0, 0.0, 0.0]\n",
            "[0.08, 0.1, 0.0, 0.0, 0.0, 0.0, 0.0, 0.0, 0.0, 0.0, 0.0, 0.0, 0.0, 0.0, 0.0, 0.0, 0.0, 0.08, 0.1, 0.0, 0.0, 0.0, 0.0, 0.0, 0.0, 0.0, 0.0, 0.0, 0.0, 0.0, 0.0, 0.0, 0.0, 0.0]\n",
            "[0.08, 0.1, 0.0, 0.0, 0.0, 0.0, 0.0, 0.0, 0.0, 0.0, 0.0, 0.0, 0.0, 0.0, 0.0, 0.0, 0.0, 0.08, 0.1, 0.0, 0.0, 0.0, 0.0, 0.0, 0.0, 0.0, 0.0, 0.0, 0.0, 0.0, 0.0, 0.0, 0.0, 0.0]\n",
            "[0.08, 0.1, 0.0, 0.0, 0.0, 0.0, 0.0, 0.0, 0.0, 0.0, 0.0, 0.0, 0.0, 0.0, 0.0, 0.0, 0.0, 0.08, 0.1, 0.0, 0.0, 0.0, 0.0, 0.0, 0.0, 0.0, 0.0, 0.0, 0.0, 0.0, 0.0, 0.0, 0.0, 0.0]\n",
            "[0.08, 0.1, 0.0, 0.0, 0.0, 0.0, 0.0, 0.0, 0.0, 0.0, 0.0, 0.0, 0.0, 0.0, 0.0, 0.0, 0.0, 0.08, 0.1, 0.0, 0.0, 0.0, 0.0, 0.0, 0.0, 0.0, 0.0, 0.0, 0.0, 0.0, 0.0, 0.0, 0.0, 0.0]\n",
            "[0.08, 0.1, 0.0, 0.0, 0.0, 0.0, 0.0, 0.0, 0.0, 0.0, 0.0, 0.0, 0.0, 0.0, 0.0, 0.0, 0.0, 0.08, 0.1, 0.0, 0.0, 0.0, 0.0, 0.0, 0.0, 0.0, 0.0, 0.0, 0.0, 0.0, 0.0, 0.0, 0.0, 0.0]\n"
          ]
        }
      ]
    },
    {
      "cell_type": "code",
      "source": [
        "oilprocess.run()"
      ],
      "metadata": {
        "id": "FYtX6Cw54sji"
      },
      "execution_count": 33,
      "outputs": []
    },
    {
      "cell_type": "code",
      "source": [
        "TVP = stableOil.TVP(30.0, 'C')\n",
        "cricondenbar = exportGas.CCB('bara')\n",
        "gasexport = exportGas.getFlowRate('MSm3/day')\n",
        "oilexport = stableOil.getFlowRate('m3/hr')\n",
        "\n",
        "print('TVP [bara] ', TVP)\n",
        "print('cricondenbar [bara] ', cricondenbar)\n",
        "print('gas export [MSm3/day] ', gasexport)\n",
        "print('oil export [m3/hr] ', oilexport)"
      ],
      "metadata": {
        "id": "GL_4ViMW4x9I",
        "outputId": "2ababe03-3202-49f1-a5e2-4e960a1b24a1",
        "colab": {
          "base_uri": "https://localhost:8080/"
        }
      },
      "execution_count": 34,
      "outputs": [
        {
          "output_type": "stream",
          "name": "stdout",
          "text": [
            "TVP [bara]  0.9710335465410675\n",
            "cricondenbar [bara]  93.41499393508282\n",
            "gas export [MSm3/day]  12.918436531278624\n",
            "oil export [m3/hr]  862.7836269889585\n"
          ]
        }
      ]
    },
    {
      "cell_type": "code",
      "source": [
        "printFrame(exportGas.getFluid())"
      ],
      "metadata": {
        "id": "iD7UEcvO46vd",
        "outputId": "b605c249-3646-49c7-fbfb-200d611efd38",
        "colab": {
          "base_uri": "https://localhost:8080/"
        }
      },
      "execution_count": 35,
      "outputs": [
        {
          "output_type": "stream",
          "name": "stdout",
          "text": [
            "| 0                    | 1           | 2           | 3   | 4   | 5   | 6               |\n",
            "|:---------------------|:------------|:------------|:----|:----|:----|:----------------|\n",
            "|                      | total       | GAS         |     |     |     |                 |\n",
            "| nitrogen__well1      | 5.73385E-4  | 5.73385E-4  |     |     |     | [mole fraction] |\n",
            "| CO2__well1           | 2.54307E-2  | 2.54307E-2  |     |     |     | [mole fraction] |\n",
            "| methane__well1       | 6.25867E-1  | 6.25867E-1  |     |     |     | [mole fraction] |\n",
            "| ethane__well1        | 2.8373E-2   | 2.8373E-2   |     |     |     | [mole fraction] |\n",
            "| propane__well1       | 9.90781E-3  | 9.90781E-3  |     |     |     | [mole fraction] |\n",
            "| i-butane__well1      | 1.06164E-3  | 1.06164E-3  |     |     |     | [mole fraction] |\n",
            "| n-butane__well1      | 1.94818E-3  | 1.94818E-3  |     |     |     | [mole fraction] |\n",
            "| i-pentane__well1     | 4.295E-4    | 4.295E-4    |     |     |     | [mole fraction] |\n",
            "| n-pentane__well1     | 4.68921E-4  | 4.68921E-4  |     |     |     | [mole fraction] |\n",
            "| C6_PC__well1         | 9.28941E-4  | 9.28941E-4  |     |     |     | [mole fraction] |\n",
            "| C7_PC__well1         | 3.39259E-4  | 3.39259E-4  |     |     |     | [mole fraction] |\n",
            "| C8_PC__well1         | 1.11145E-4  | 1.11145E-4  |     |     |     | [mole fraction] |\n",
            "| C9_PC__well1         | 3.41519E-5  | 3.41519E-5  |     |     |     | [mole fraction] |\n",
            "| C10_PC__well1        | 1.34731E-5  | 1.34731E-5  |     |     |     | [mole fraction] |\n",
            "| C11_PC__well1        | 2.17067E-6  | 2.17067E-6  |     |     |     | [mole fraction] |\n",
            "| C12_PC__well1        | 2.32578E-9  | 2.32578E-9  |     |     |     | [mole fraction] |\n",
            "| C13_PC__well1        | 1.23462E-16 | 1.23462E-16 |     |     |     | [mole fraction] |\n",
            "| nitrogen__well2      | 4.42325E-4  | 4.42325E-4  |     |     |     | [mole fraction] |\n",
            "| CO2__well2           | 1.9618E-2   | 1.9618E-2   |     |     |     | [mole fraction] |\n",
            "| methane__well2       | 2.50691E-1  | 2.50691E-1  |     |     |     | [mole fraction] |\n",
            "| ethane__well2        | 2.18877E-2  | 2.18877E-2  |     |     |     | [mole fraction] |\n",
            "| propane__well2       | 7.64317E-3  | 7.64317E-3  |     |     |     | [mole fraction] |\n",
            "| i-butane__well2      | 8.18976E-4  | 8.18976E-4  |     |     |     | [mole fraction] |\n",
            "| n-butane__well2      | 1.50288E-3  | 1.50288E-3  |     |     |     | [mole fraction] |\n",
            "| i-pentane__well2     | 3.31329E-4  | 3.31329E-4  |     |     |     | [mole fraction] |\n",
            "| n-pentane__well2     | 3.61739E-4  | 3.61739E-4  |     |     |     | [mole fraction] |\n",
            "| C6_PC__well2         | 8.35837E-4  | 8.35837E-4  |     |     |     | [mole fraction] |\n",
            "| C7_PC__well2         | 3.08627E-4  | 3.08627E-4  |     |     |     | [mole fraction] |\n",
            "| C8_PC__well2         | 4.19991E-5  | 4.19991E-5  |     |     |     | [mole fraction] |\n",
            "| C9_PC__well2         | 1.41155E-5  | 1.41155E-5  |     |     |     | [mole fraction] |\n",
            "| C10_PC__well2        | 1.09071E-5  | 1.09071E-5  |     |     |     | [mole fraction] |\n",
            "| C11_PC__well2        | 2.66536E-6  | 2.66536E-6  |     |     |     | [mole fraction] |\n",
            "| C12_PC__well2        | 6.09052E-10 | 6.09052E-10 |     |     |     | [mole fraction] |\n",
            "| C13_PC__well2        | 5.62313E-16 | 5.62313E-16 |     |     |     | [mole fraction] |\n",
            "|                      |             |             |     |     |     |                 |\n",
            "| Density              |             | 1.40702E2   |     |     |     | kg/m3           |\n",
            "| Phase Fraction       |             | 1E0         |     |     |     | [mole fraction] |\n",
            "| Molar Mass           | 1.90229E-2  | 1.90229E-2  |     |     |     | kg/mol          |\n",
            "| Z factor             |             | 7.64828E-1  |     |     |     | [-]             |\n",
            "| Heat Capacity (Cp)   |             | 3.2718E0    |     |     |     | kJ/kgK          |\n",
            "| Heat Capacity (Cv)   |             | 1.68212E0   |     |     |     | kJ/kgK          |\n",
            "| Speed of Sound       |             | 4.16638E2   |     |     |     | m/sec           |\n",
            "| Enthalpy             | -1.13937E5  | -1.13937E5  |     |     |     | J/kg            |\n",
            "| Entropy              | -1.87489E3  | -1.87489E3  |     |     |     | J/kgK           |\n",
            "| JT coefficient       |             | 2.72411E-1  |     |     |     | C/bar           |\n",
            "|                      |             |             |     |     |     |                 |\n",
            "| Viscosity            |             | 1.74247E-5  |     |     |     | kg/msec         |\n",
            "| Thermal Conductivity |             | 5.01126E-2  |     |     |     | W/mK            |\n",
            "| Surface Tension      |             |             |     |     |     | [N/m]           |\n",
            "|                      |             |             |     |     |     |                 |\n",
            "|                      |             |             |     |     |     |                 |\n",
            "|                      |             |             |     |     |     |                 |\n",
            "| Pressure             |             | 140.0       |     |     |     | bara            |\n",
            "| Temperature          |             | 24.5        |     |     |     | C               |\n",
            "|                      |             |             |     |     |     |                 |\n",
            "| Model                |             | PR-EOS      |     |     |     | -               |\n",
            "| Mixing Rule          |             | classic     |     |     |     | -               |\n",
            "|                      |             |             |     |     |     |                 |\n",
            "| Stream               |             |             |     |     |     | -               |\n",
            "|                      |             |             |     |     |     |                 |\n",
            "|                      |             |             |     |     |     |                 |\n",
            "|                      |             |             |     |     |     |                 |\n",
            "|                      |             |             |     |     |     |                 |\n"
          ]
        }
      ]
    },
    {
      "cell_type": "markdown",
      "source": [
        "calculation of ORF factors for the induvidual components from well 1 and 2."
      ],
      "metadata": {
        "id": "gLilbWyiDw3u"
      }
    },
    {
      "cell_type": "code",
      "source": [
        "componentNames = wellStream.getFluid().getComponentNames()\n",
        "\n",
        "print ('ORF factors.......................')\n",
        "for name in componentNames:\n",
        "  total = wellStream.getFluid().getComponent(name).getTotalFlowRate('kg/hr') + wellStream2.getFluid().getComponent(name).getTotalFlowRate('kg/hr')\n",
        "  ORF = stableOil.getFluid().getComponent(name).getTotalFlowRate('kg/hr')/total\n",
        "  print('ORF ', name, ' ', ORF)"
      ],
      "metadata": {
        "colab": {
          "base_uri": "https://localhost:8080/"
        },
        "id": "bQRf5rpBDwFR",
        "outputId": "afc1a74b-c8a5-4fb2-f1fd-2d31113ef05a"
      },
      "execution_count": 36,
      "outputs": [
        {
          "output_type": "stream",
          "name": "stdout",
          "text": [
            "ORF factors.......................\n",
            "ORF  nitrogen__well1   2.3614318783695375e-05\n",
            "ORF  CO2__well1   0.003349789347364145\n",
            "ORF  methane__well1   0.00045350633173131365\n",
            "ORF  ethane__well1   0.015280150534672098\n",
            "ORF  propane__well1   0.10238369235309915\n",
            "ORF  i-butane__well1   0.25940606482767326\n",
            "ORF  n-butane__well1   0.35283449068253775\n",
            "ORF  i-pentane__well1   0.600504942689956\n",
            "ORF  n-pentane__well1   0.6728771894730922\n",
            "ORF  C6_PC__well1   0.8954774713813148\n",
            "ORF  C7_PC__well1   0.9646761235169312\n",
            "ORF  C8_PC__well1   0.9883404675092585\n",
            "ORF  C9_PC__well1   0.9959958619298745\n",
            "ORF  C10_PC__well1   0.9983654028361428\n",
            "ORF  C11_PC__well1   0.9998207963094464\n",
            "ORF  C12_PC__well1   0.9999997836740269\n",
            "ORF  C13_PC__well1   0.9999999999999831\n",
            "ORF  nitrogen__well2   2.361431878368575e-05\n",
            "ORF  CO2__well2   0.0033497893465672017\n",
            "ORF  methane__well2   0.0004535063317239697\n",
            "ORF  ethane__well2   0.015280150504876399\n",
            "ORF  propane__well2   0.10238368901680783\n",
            "ORF  i-butane__well2   0.25940602665684265\n",
            "ORF  n-butane__well2   0.35283440586089276\n",
            "ORF  i-pentane__well2   0.6005046305132873\n",
            "ORF  n-pentane__well2   0.6728767977064609\n",
            "ORF  C6_PC__well2   0.8780872728135317\n",
            "ORF  C7_PC__well2   0.9583440756712491\n",
            "ORF  C8_PC__well2   0.9942887065844379\n",
            "ORF  C9_PC__well2   0.9978546670498076\n",
            "ORF  C10_PC__well2   0.9990824836237456\n",
            "ORF  C11_PC__well2   0.9998207963094464\n",
            "ORF  C12_PC__well2   0.9999999685285615\n",
            "ORF  C13_PC__well2   0.9999999999999012\n"
          ]
        }
      ]
    },
    {
      "cell_type": "code",
      "source": [
        "#calculation of flow of wellstream 1 in oil and gas export\n",
        "\n",
        "componentNames = wellStream.getFluid().getComponentNames()\n",
        "\n",
        "totalGasFlowFromWell1 = 0\n",
        "totalOilFlowFromWell1 = 0\n",
        "for name in componentNames:\n",
        "  if(wellStream.getFluid().getComponent(name).getz()>0):\n",
        "    totalGasFlowFromWell1 = totalGasFlowFromWell1 + exportGas.getFluid().getComponent(name).getFlowRate('kg/hr')\n",
        "    totalOilFlowFromWell1 = totalOilFlowFromWell1 + stableOil.getFluid().getComponent(name).getFlowRate('kg/hr')\n",
        "\n",
        "print('well stream 1 flow ' , wellStream.getFlowRate('kg/hr'), ' kg/hr')\n",
        "print('well stream 1 in export gas ', totalGasFlowFromWell1, ' kg/hr')\n",
        "print('well stream 1 in stable oil ', totalOilFlowFromWell1, ' kg/hr')\n"
      ],
      "metadata": {
        "colab": {
          "base_uri": "https://localhost:8080/"
        },
        "id": "1zVbgjLMHpYZ",
        "outputId": "fd372c2c-7d44-4ee3-bfcf-3c14c53183a9"
      },
      "execution_count": 37,
      "outputs": [
        {
          "output_type": "stream",
          "name": "stdout",
          "text": [
            "well stream 1 flow  619893.2766954034  kg/hr\n",
            "well stream 1 in export gas  292231.2775063294  kg/hr\n",
            "well stream 1 in stable oil  327661.89365981263  kg/hr\n"
          ]
        }
      ]
    },
    {
      "cell_type": "markdown",
      "source": [
        "Evaluating effect of production rate of well 1 for well 2 gas/oil export allocation"
      ],
      "metadata": {
        "id": "7nsBLE-WN-Vl"
      }
    },
    {
      "cell_type": "code",
      "source": [
        "import matplotlib.pyplot as plt\n",
        "\n",
        "well1production = [0.1, 0.5, 0.9, 1.5, 2, 2.5, 3, 3.5, 4, 4.5, 5]\n",
        "well2Gas = []\n",
        "well2Oil = []\n",
        "\n",
        "#set flow from well 2\n",
        "oilprocess.getUnit('dry well stream2').setFlowRate(5.0, \"MSm3/day\")\n",
        "\n",
        "for production in well1production:\n",
        "  oilprocess.getUnit('dry well stream').setFlowRate(production, \"MSm3/day\")\n",
        "  oilprocess.run()\n",
        "\n",
        "  totalGasFlowFromWell2 = 0\n",
        "  totalOilFlowFromWell2 = 0\n",
        "  for name in componentNames:\n",
        "    if(wellStream2.getFluid().getComponent(name).getz()>0):\n",
        "      totalGasFlowFromWell2 = totalGasFlowFromWell2 + exportGas.getFluid().getComponent(name).getFlowRate('kg/hr')\n",
        "      totalOilFlowFromWell2 = totalOilFlowFromWell2 + stableOil.getFluid().getComponent(name).getFlowRate('kg/hr')\n",
        "  well2Gas.append(totalGasFlowFromWell2)\n",
        "  well2Oil.append(totalOilFlowFromWell2)\n",
        "\n",
        "plt.figure()\n",
        "plt.xlabel('Well 1 production [MSm3/day]')\n",
        "plt.ylabel('Well 2 export [kg/hr]')\n",
        "plt.plot(well1production, well2Gas)\n",
        "plt.plot(well1production, well2Oil)\n",
        "plt.legend(['gas', 'oil'])"
      ],
      "metadata": {
        "id": "HGwSAfaaOLnW",
        "outputId": "999a22d7-94b1-4d1f-c81d-b80656801a41",
        "colab": {
          "base_uri": "https://localhost:8080/",
          "height": 466
        }
      },
      "execution_count": 38,
      "outputs": [
        {
          "output_type": "execute_result",
          "data": {
            "text/plain": [
              "<matplotlib.legend.Legend at 0x7c5f38d35f90>"
            ]
          },
          "metadata": {},
          "execution_count": 38
        },
        {
          "output_type": "display_data",
          "data": {
            "text/plain": [
              "<Figure size 640x480 with 1 Axes>"
            ],
            "image/png": "[encoded data removed]"
          },
          "metadata": {}
        }
      ]
    },
    {
      "cell_type": "markdown",
      "source": [
        "We see that when increasing the production of a well with high GOR (well 1), the the allocated oil production for the low GOR well (well 2) will decrease while gas allocation will increase.\n",
        "\n",
        "A similar analysis could be done to see how different wells influence process capacity, power consumption and emissions for a field."
      ],
      "metadata": {
        "id": "q7h4IxRPYAXC"
      }
    },
    {
      "cell_type": "markdown",
      "source": [
        "# Sending well stream 2 to the 2nd stage separator\n",
        "IN the follwoing example we will see how ORF will be affected if we instead of sending both well stream 1 and well stream 2 to first stage (same ORF), but rather send well stream 1 to ast stage and well strem 2 to 2nd stage."
      ],
      "metadata": {
        "id": "mrT_zFwDTokC"
      }
    },
    {
      "cell_type": "code",
      "source": [
        "wellFluid = fluid('pr')\n",
        "wellFluid.addComponent(\"nitrogen\", 0.08)\n",
        "wellFluid.addComponent(\"CO2\", 3.56)\n",
        "wellFluid.addComponent(\"methane\", 87.36)\n",
        "wellFluid.addComponent(\"ethane\", 4.02)\n",
        "wellFluid.addComponent(\"propane\", 1.54)\n",
        "wellFluid.addComponent(\"i-butane\", 0.2)\n",
        "wellFluid.addComponent(\"n-butane\", 0.42)\n",
        "wellFluid.addComponent(\"i-pentane\", 0.15)\n",
        "wellFluid.addComponent(\"n-pentane\", 0.20)\n",
        "\n",
        "wellFluid.addTBPfraction(\"C6\", 3.24, 84.99/1000.0, 695.0/1000.0)\n",
        "wellFluid.addTBPfraction(\"C7\", 1.34, 97.87/1000.0, 718.0/1000.0)\n",
        "wellFluid.addTBPfraction(\"C8\", 1.33, 111.54/1000.0, 729.0/1000.0)\n",
        "wellFluid.addTBPfraction(\"C9\", 1.19, 126.1/1000.0, 749.0/1000.0)\n",
        "wellFluid.addTBPfraction(\"C10\", 1.15, 140.14/1000.0, 760.0/1000.0)\n",
        "wellFluid.addTBPfraction(\"C11\", 1.69, 175.0/1000.0, 830.0/1000.0)\n",
        "wellFluid.addTBPfraction(\"C12\", 1.5, 280.0/1000.0, 914.0/1000.0)\n",
        "wellFluid.addTBPfraction(\"C13\", 2.103, 560.0/1000.0, 980.0/1000.0)\n",
        "\n",
        "names = wellFluid.getComponentNames()\n",
        "\n",
        "for i in range(names.length):\n",
        "  wellFluid.changeComponentName(wellFluid.getComponent(i).getName(), (wellFluid.getComponent(i).getName()+\"__well1\"))\n",
        "\n",
        "wellFluid.addComponent(\"nitrogen\", 0.08)\n",
        "wellFluid.addComponent(\"CO2\", 3.56)\n",
        "wellFluid.addComponent(\"methane\", 87.36)\n",
        "wellFluid.addComponent(\"ethane\", 4.02)\n",
        "wellFluid.addComponent(\"propane\", 1.54)\n",
        "wellFluid.addComponent(\"i-butane\", 0.2)\n",
        "wellFluid.addComponent(\"n-butane\", 0.42)\n",
        "wellFluid.addComponent(\"i-pentane\", 0.15)\n",
        "wellFluid.addComponent(\"n-pentane\", 0.20)\n",
        "\n",
        "wellFluid.addTBPfraction(\"C6\", 3.24, 82.99/1000.0, 695.0/1000.0)\n",
        "wellFluid.addTBPfraction(\"C7\", 1.34, 95.87/1000.0, 718.0/1000.0)\n",
        "wellFluid.addTBPfraction(\"C8\", 1.33, 121.54/1000.0, 729.0/1000.0)\n",
        "wellFluid.addTBPfraction(\"C9\", 1.19, 136.1/1000.0, 749.0/1000.0)\n",
        "wellFluid.addTBPfraction(\"C10\", 1.15, 150.14/1000.0, 760.0/1000.0)\n",
        "wellFluid.addTBPfraction(\"C11\", 1.69, 175.0/1000.0, 830.0/1000.0)\n",
        "wellFluid.addTBPfraction(\"C12\", 1.5, 310.0/1000.0, 914.0/1000.0)\n",
        "wellFluid.addTBPfraction(\"C13\", 2.103, 520.0/1000.0, 980.0/1000.0)\n",
        "\n",
        "for i in range(names.length):\n",
        "  wellFluid.changeComponentName(names[i], (wellFluid.getComponent(i).getName().replace(\"well1\", \"well2\")))\n",
        "\n",
        "wellFluid.setMixingRule('classic')\n",
        "\n",
        "printFrame(wellFluid)\n",
        "\n",
        "\n",
        "#and then set the fluid composition of the wells and run simulation\n",
        "\n",
        "from neqsim.thermo import fluid, printFrame\n",
        "from neqsim.process import compressor, cooler, separator3phase, getProcess, clearProcess, mixer, heater, stream, pump, separator, runProcess, stream, saturator, valve, filters, heatExchanger, simpleTEGAbsorber,distillationColumn, waterStripperColumn, recycle, setpoint, calculator\n",
        "\n",
        "wellFluid.setMolarComposition([0.08, 3.56, 87.36, 4.02, 1.54, 0.2, 0.42, 0.15, 0.2, 1.24, 1.34, 1.33, 1.19, 1.15, 1.69, 1.5, 1.03,\n",
        "                               0.0, 0.0, 0.0, 0.0, 0.0, 0.0, 0.0, 0.0, 0.0, 0.0, 0.0, 0.0, 0.0, 0.0, 0.0, 0.0, 0.0])\n",
        "\n",
        "\n",
        "welFluid2 = wellFluid.clone()\n",
        "welFluid2.setMolarComposition([ 0.0, 0.0, 0.0, 0.0, 0.0, 0.0, 0.0, 0.0, 0.0, 0.0, 0.0, 0.0, 0.0, 0.0, 0.0, 0.0, 0.0,\n",
        "                               0.08, 3.56, 45.36, 4.02, 1.54, 0.2, 0.42, 0.15, 0.2, 1.24, 1.34, 1.33, 1.19, 2.15, 2.69, 3.5, 1.03])\n",
        "\n",
        "clearProcess()\n",
        "\n",
        "wellStream = stream(\"dry well stream\", wellFluid)\n",
        "wellStream.setFlowRate(inputdata['feedFlowRateWellA'], \"MSm3/day\")\n",
        "wellStream.setTemperature(inputdata['wellTemperature'], \"C\")\n",
        "wellStream.setPressure(inputdata['wellPressure'], \"bara\")\n",
        "\n",
        "wellStream2 = stream(\"dry well stream2\", welFluid2)\n",
        "wellStream2.setFlowRate(inputdata2['feedFlowRateWellB'], \"MSm3/day\")\n",
        "wellStream2.setTemperature(inputdata['temperatureOilHeater'], \"C\")\n",
        "wellStream2.setPressure(inputdata['secondStagePressure'], \"bara\")\n",
        "\n",
        "wellmixer = mixer('mixer')\n",
        "wellmixer.addStream(wellStream)\n",
        "#wellmixer.addStream(wellStream2)\n",
        "\n",
        "feedTPsetter = heater('inletTP', wellmixer.getOutletStream())\n",
        "feedTPsetter.setOutPressure(inputdata['topsidePressure'], \"bara\")\n",
        "feedTPsetter.setOutTemperature(inputdata['topsideTemperature'], \"C\")\n",
        "\n",
        "chokeValve = valve('valve1', feedTPsetter.getOutStream())\n",
        "chokeValve.setOutletPressure(inputdata['firstStagePressure'], 'bara')\n",
        "\n",
        "feedToOffshoreProcess = stream(\"feed to offshore\", chokeValve.getOutStream())\n",
        "\n",
        "firstStageSeparator = separator3phase(\"1st stage separator\", feedToOffshoreProcess)\n",
        "\n",
        "oilHeaterFromFirstStage = heater(\"oil heater second stage\", firstStageSeparator.getOilOutStream())\n",
        "oilHeaterFromFirstStage.setOutTemperature(inputdata['temperatureOilHeater'],'C')\n",
        "\n",
        "oilThrotValve = valve(\"valve oil from first stage\", oilHeaterFromFirstStage.getOutStream())\n",
        "oilThrotValve.setOutletPressure(inputdata['secondStagePressure'])\n",
        "\n",
        "secondStageSeparator = separator3phase(\"2nd stage separator\", oilThrotValve.getOutStream())\n",
        "secondStageSeparator.addStream(wellStream2)\n",
        "\n",
        "oilThrotValve2 = valve(\"valve oil from second stage\", secondStageSeparator.getOilOutStream())\n",
        "oilThrotValve2.setOutletPressure(inputdata['thirdStagePressure'])\n",
        "\n",
        "thirdStageSeparator = separator3phase(\"3rd stage separator\", oilThrotValve2.getOutStream())\n",
        "\n",
        "oilThirdStageToSep =  wellStream.clone()\n",
        "oilThirdStageToSep.setName(\"resyc oil\")\n",
        "thirdStageSeparator.addStream(oilThirdStageToSep)\n",
        "\n",
        "stableOil = stream(\"stable oil\", thirdStageSeparator.getOilOutStream())\n",
        "\n",
        "stableOilPump = pump(\"stable oil pump\", stableOil,15.0)\n",
        "\n",
        "firstStageCooler = cooler(\"1st stage cooler\", thirdStageSeparator.getGasOutStream())\n",
        "firstStageCooler.setOutTemperature(inputdata['firstStageSuctionCoolerTemperature'],'C')\n",
        "\n",
        "firstStageScrubber = separator(\"1st stage scrubber\", firstStageCooler.getOutStream())\n",
        "\n",
        "firstStageCompressor = compressor(\"1st stage compressor\", firstStageScrubber.getGasOutStream())\n",
        "firstStageCompressor.setOutletPressure(inputdata['secondStagePressure'])\n",
        "firstStageCompressor.setIsentropicEfficiency(0.75)\n",
        "\n",
        "firststGasMixer = mixer(\"first Stage mixer\")\n",
        "firststGasMixer.addStream(firstStageCompressor.getOutStream())\n",
        "firststGasMixer.addStream(secondStageSeparator.getGasOutStream())\n",
        "\n",
        "secondStageCooler = cooler(\"2nd stage cooler\", firststGasMixer.getOutStream())\n",
        "secondStageCooler.setOutTemperature(inputdata['secondStageSuctionCoolerTemperature'],'C')\n",
        "\n",
        "secondStageScrubber = separator(\"2nd stage scrubber\", secondStageCooler.getOutStream())\n",
        "\n",
        "secondStageCompressor = compressor(\"2nd stage compressor\", secondStageScrubber.getGasOutStream())\n",
        "secondStageCompressor.setOutletPressure(inputdata['firstStagePressure'])\n",
        "secondStageCompressor.setIsentropicEfficiency(0.75)\n",
        "\n",
        "richGasMixer = mixer(\"fourth Stage mixer\")\n",
        "richGasMixer.addStream(secondStageCompressor.getOutStream())\n",
        "richGasMixer.addStream(firstStageSeparator.getGasOutStream())\n",
        "\n",
        "dewPointControlCooler = cooler(\"dew point cooler\", richGasMixer.getOutStream())\n",
        "dewPointControlCooler.setOutTemperature(inputdata['thirdStageSuctionCoolerTemperature'],'C')\n",
        "\n",
        "dewPointScrubber = separator(\"dew point scrubber\", dewPointControlCooler.getOutStream())\n",
        "\n",
        "lpLiqmixer = mixer(\"LP liq gas mixer\");\n",
        "lpLiqmixer.addStream(firstStageScrubber.getLiquidOutStream());\n",
        "lpLiqmixer.addStream(secondStageScrubber.getLiquidOutStream());\n",
        "lpLiqmixer.addStream(dewPointScrubber.getLiquidOutStream());\n",
        "\n",
        "lpResycle = recycle(\"LP liq resycle\")\n",
        "lpResycle.addStream(lpLiqmixer.getOutStream())\n",
        "lpResycle.setOutletStream(oilThirdStageToSep)\n",
        "\n",
        "exportCompressor1 = compressor(\"export 1st stage\", dewPointScrubber.getGasOutStream())\n",
        "exportCompressor1.setOutletPressure(140.0)\n",
        "exportCompressor1.setIsentropicEfficiency(0.75)\n",
        "\n",
        "exportInterstageCooler = cooler(\"interstage stage cooler\", exportCompressor1.getOutStream())\n",
        "exportInterstageCooler.setOutTemperature(inputdata['firstStageExportCoolerTemperature'],'C')\n",
        "\n",
        "exportCompressor2= compressor(\"export 2nd stage\", exportInterstageCooler.getOutStream())\n",
        "exportCompressor2.setOutletPressure(200.0)\n",
        "exportCompressor2.setIsentropicEfficiency(0.75)\n",
        "\n",
        "exportCooler = cooler(\"export cooler\", exportCompressor1.getOutStream())\n",
        "exportCooler.setOutTemperature(inputdata['secondStageExportCoolerTemperature'],'C')\n",
        "\n",
        "exportGas = stream(\"export gas\", exportCooler.getOutStream())\n",
        "\n",
        "oilprocess = getProcess()"
      ],
      "metadata": {
        "colab": {
          "base_uri": "https://localhost:8080/"
        },
        "id": "jNWvNEUPT_FQ",
        "outputId": "6b78fb68-ada3-436f-b707-9e9d6358d5bb"
      },
      "execution_count": 39,
      "outputs": [
        {
          "output_type": "stream",
          "name": "stdout",
          "text": [
            "| 0                    | 1          | 2          | 3          | 4   | 5   | 6               |\n",
            "|:---------------------|:-----------|:-----------|:-----------|:----|:----|:----------------|\n",
            "|                      | total      | GAS        | OIL        |     |     |                 |\n",
            "| nitrogen__well1      | 3.60124E-4 | 3.60124E-4 | 3.60124E-4 |     |     | [mole fraction] |\n",
            "| CO2__well1           | 1.60255E-2 | 1.60255E-2 | 1.60255E-2 |     |     | [mole fraction] |\n",
            "| methane__well1       | 3.93255E-1 | 3.93255E-1 | 3.93255E-1 |     |     | [mole fraction] |\n",
            "| ethane__well1        | 1.80962E-2 | 1.80962E-2 | 1.80962E-2 |     |     | [mole fraction] |\n",
            "| propane__well1       | 6.93238E-3 | 6.93238E-3 | 6.93238E-3 |     |     | [mole fraction] |\n",
            "| i-butane__well1      | 9.00309E-4 | 9.00309E-4 | 9.00309E-4 |     |     | [mole fraction] |\n",
            "| n-butane__well1      | 1.89065E-3 | 1.89065E-3 | 1.89065E-3 |     |     | [mole fraction] |\n",
            "| i-pentane__well1     | 6.75232E-4 | 6.75232E-4 | 6.75232E-4 |     |     | [mole fraction] |\n",
            "| n-pentane__well1     | 9.00309E-4 | 9.00309E-4 | 9.00309E-4 |     |     | [mole fraction] |\n",
            "| C6_PC__well1         | 1.4585E-2  | 1.4585E-2  | 1.4585E-2  |     |     | [mole fraction] |\n",
            "| C7_PC__well1         | 6.03207E-3 | 6.03207E-3 | 6.03207E-3 |     |     | [mole fraction] |\n",
            "| C8_PC__well1         | 5.98705E-3 | 5.98705E-3 | 5.98705E-3 |     |     | [mole fraction] |\n",
            "| C9_PC__well1         | 5.35684E-3 | 5.35684E-3 | 5.35684E-3 |     |     | [mole fraction] |\n",
            "| C10_PC__well1        | 5.17678E-3 | 5.17678E-3 | 5.17678E-3 |     |     | [mole fraction] |\n",
            "| C11_PC__well1        | 7.60761E-3 | 7.60761E-3 | 7.60761E-3 |     |     | [mole fraction] |\n",
            "| C12_PC__well1        | 6.75232E-3 | 6.75232E-3 | 6.75232E-3 |     |     | [mole fraction] |\n",
            "| C13_PC__well1        | 9.46675E-3 | 9.46675E-3 | 9.46675E-3 |     |     | [mole fraction] |\n",
            "| nitrogen__well2      | 3.60124E-4 | 3.60124E-4 | 3.60124E-4 |     |     | [mole fraction] |\n",
            "| CO2__well2           | 1.60255E-2 | 1.60255E-2 | 1.60255E-2 |     |     | [mole fraction] |\n",
            "| methane__well2       | 3.93255E-1 | 3.93255E-1 | 3.93255E-1 |     |     | [mole fraction] |\n",
            "| ethane__well2        | 1.80962E-2 | 1.80962E-2 | 1.80962E-2 |     |     | [mole fraction] |\n",
            "| propane__well2       | 6.93238E-3 | 6.93238E-3 | 6.93238E-3 |     |     | [mole fraction] |\n",
            "| i-butane__well2      | 9.00309E-4 | 9.00309E-4 | 9.00309E-4 |     |     | [mole fraction] |\n",
            "| n-butane__well2      | 1.89065E-3 | 1.89065E-3 | 1.89065E-3 |     |     | [mole fraction] |\n",
            "| i-pentane__well2     | 6.75232E-4 | 6.75232E-4 | 6.75232E-4 |     |     | [mole fraction] |\n",
            "| n-pentane__well2     | 9.00309E-4 | 9.00309E-4 | 9.00309E-4 |     |     | [mole fraction] |\n",
            "| C6_PC__well2         | 1.4585E-2  | 1.4585E-2  | 1.4585E-2  |     |     | [mole fraction] |\n",
            "| C7_PC__well2         | 6.03207E-3 | 6.03207E-3 | 6.03207E-3 |     |     | [mole fraction] |\n",
            "| C8_PC__well2         | 5.98705E-3 | 5.98705E-3 | 5.98705E-3 |     |     | [mole fraction] |\n",
            "| C9_PC__well2         | 5.35684E-3 | 5.35684E-3 | 5.35684E-3 |     |     | [mole fraction] |\n",
            "| C10_PC__well2        | 5.17678E-3 | 5.17678E-3 | 5.17678E-3 |     |     | [mole fraction] |\n",
            "| C11_PC__well2        | 7.60761E-3 | 7.60761E-3 | 7.60761E-3 |     |     | [mole fraction] |\n",
            "| C12_PC__well2        | 6.75232E-3 | 6.75232E-3 | 6.75232E-3 |     |     | [mole fraction] |\n",
            "| C13_PC__well2        | 9.46675E-3 | 9.46675E-3 | 9.46675E-3 |     |     | [mole fraction] |\n",
            "|                      |            |            |            |     |     |                 |\n",
            "| Density              |            | 1.69943E0  | 1.69943E0  |     |     | kg/m3           |\n",
            "| Phase Fraction       |            | 1E0        | 1E0        |     |     | [mole fraction] |\n",
            "| Molar Mass           | 4.10922E-2 | 4.10922E-2 | 4.10922E-2 |     |     | kg/mol          |\n",
            "| Z factor             |            | 9.88333E-1 | 9.88333E-1 |     |     | [-]             |\n",
            "| Heat Capacity (Cp)   |            | 1.70505E0  | 1.70505E0  |     |     | kJ/kgK          |\n",
            "| Heat Capacity (Cv)   |            | 1.4937E0   | 1.4937E0   |     |     | kJ/kgK          |\n",
            "| Speed of Sound       |            | 2.59305E2  | 2.59305E2  |     |     | m/sec           |\n",
            "| Enthalpy             | 7.84441E4  | 3.9222E4   | 3.9222E4   |     |     | J/kg            |\n",
            "| Entropy              | 9.8092E2   | 4.9046E2   | 4.9046E2   |     |     | J/kgK           |\n",
            "| JT coefficient       |            | 1.18288E0  | 1.18288E0  |     |     | C/bar           |\n",
            "|                      |            |            |            |     |     |                 |\n",
            "| Viscosity            |            | 1.02915E-5 | 1.02915E-5 |     |     | kg/msec         |\n",
            "| Thermal Conductivity |            | 2.43471E-2 | 2.43471E-2 |     |     | W/mK            |\n",
            "| Surface Tension      |            | 0E0        | 0E0        |     |     | [N/m]           |\n",
            "|                      |            |            |            |     |     |                 |\n",
            "|                      |            |            |            |     |     |                 |\n",
            "|                      |            |            |            |     |     |                 |\n",
            "| Pressure             |            | 1.01325    | 1.01325    |     |     | bara            |\n",
            "| Temperature          |            | 25.0       | 25.0       |     |     | C               |\n",
            "|                      |            |            |            |     |     |                 |\n",
            "| Model                |            | PR-EOS     | PR-EOS     |     |     | -               |\n",
            "| Mixing Rule          |            | classic    | classic    |     |     | -               |\n",
            "|                      |            |            |            |     |     |                 |\n",
            "| Stream               |            |            |            |     |     | -               |\n",
            "|                      |            |            |            |     |     |                 |\n",
            "|                      |            |            |            |     |     |                 |\n",
            "|                      |            |            |            |     |     |                 |\n",
            "|                      |            |            |            |     |     |                 |\n"
          ]
        }
      ]
    },
    {
      "cell_type": "code",
      "source": [
        "oilprocess.run()"
      ],
      "metadata": {
        "id": "hQtjIPTCU5uJ"
      },
      "execution_count": 40,
      "outputs": []
    },
    {
      "cell_type": "code",
      "source": [
        "TVP = stableOil.TVP(30.0, 'C')\n",
        "cricondenbar = exportGas.CCB('bara')\n",
        "gasexport = exportGas.getFlowRate('MSm3/day')\n",
        "oilexport = stableOil.getFlowRate('m3/hr')\n",
        "\n",
        "print('TVP [bara] ', TVP)\n",
        "print('cricondenbar [bara] ', cricondenbar)\n",
        "print('gas export [MSm3/day] ', gasexport)\n",
        "print('oil export [m3/hr] ', oilexport)"
      ],
      "metadata": {
        "outputId": "5e93407d-3517-4ed1-e9ad-50127cd22e0e",
        "colab": {
          "base_uri": "https://localhost:8080/"
        },
        "id": "saliE4AgU5uK"
      },
      "execution_count": 41,
      "outputs": [
        {
          "output_type": "stream",
          "name": "stdout",
          "text": [
            "TVP [bara]  1.0535269775774034\n",
            "cricondenbar [bara]  65.62285414087063\n",
            "gas export [MSm3/day]  12.9882191497662\n",
            "oil export [m3/hr]  849.0289412932319\n"
          ]
        }
      ]
    },
    {
      "cell_type": "code",
      "source": [
        "componentNames = wellStream.getFluid().getComponentNames()\n",
        "\n",
        "print ('ORF factors.......................')\n",
        "for name in componentNames:\n",
        "  total = wellStream.getFluid().getComponent(name).getTotalFlowRate('kg/hr') + wellStream2.getFluid().getComponent(name).getTotalFlowRate('kg/hr')\n",
        "  ORF = stableOil.getFluid().getComponent(name).getTotalFlowRate('kg/hr')/total\n",
        "  print('ORF ', name, ' ', ORF)"
      ],
      "metadata": {
        "colab": {
          "base_uri": "https://localhost:8080/"
        },
        "id": "wB-JqvPXU5Zp",
        "outputId": "c384f017-385a-43a1-bb80-6e1e63e24c75"
      },
      "execution_count": 42,
      "outputs": [
        {
          "output_type": "stream",
          "name": "stdout",
          "text": [
            "ORF factors.......................\n",
            "ORF  nitrogen__well1   6.794140178239817e-06\n",
            "ORF  CO2__well1   0.0010484241111241403\n",
            "ORF  methane__well1   0.00013421546177493174\n",
            "ORF  ethane__well1   0.005077504420703867\n",
            "ORF  propane__well1   0.04065637238174241\n",
            "ORF  i-butane__well1   0.1227207202037567\n",
            "ORF  n-butane__well1   0.1824168049893729\n",
            "ORF  i-pentane__well1   0.3865343924458691\n",
            "ORF  n-pentane__well1   0.4625657276159398\n",
            "ORF  C6_PC__well1   0.7749902454154901\n",
            "ORF  C7_PC__well1   0.916401233800724\n",
            "ORF  C8_PC__well1   0.9739183106758189\n",
            "ORF  C9_PC__well1   0.9923310528820286\n",
            "ORF  C10_PC__well1   0.9972612575866393\n",
            "ORF  C11_PC__well1   0.9997366939127033\n",
            "ORF  C12_PC__well1   0.9999996982523949\n",
            "ORF  C13_PC__well1   0.9999999999999795\n",
            "ORF  nitrogen__well2   0.00026817074376332147\n",
            "ORF  CO2__well2   0.006186933386838766\n",
            "ORF  methane__well2   0.0017995671053222786\n",
            "ORF  ethane__well2   0.018971812916088633\n",
            "ORF  propane__well2   0.07976811381856706\n",
            "ORF  i-butane__well2   0.18262254421302843\n",
            "ORF  n-butane__well2   0.24480378038867948\n",
            "ORF  i-pentane__well2   0.45126860753288545\n",
            "ORF  n-pentane__well2   0.5224243287282039\n",
            "ORF  C6_PC__well2   0.7839914239646797\n",
            "ORF  C7_PC__well2   0.9247133977491183\n",
            "ORF  C8_PC__well2   0.9947639121475498\n",
            "ORF  C9_PC__well2   0.9990702609105702\n",
            "ORF  C10_PC__well2   0.9998298106637896\n",
            "ORF  C11_PC__well2   0.9999937316545234\n",
            "ORF  C12_PC__well2   1.0000000000040217\n",
            "ORF  C13_PC__well2   1.0\n"
          ]
        }
      ]
    },
    {
      "cell_type": "markdown",
      "source": [
        "### Main Results\n",
        "\n",
        "1. **Oil Recovery Factors (ORF):** The notebook calculates the ORF for each well, which represents the fraction of oil recovered from the well stream. The ORF values vary for different components, with heavier components generally having higher ORFs. For example, propane has a lower ORF, whereas heavier fractions (C6+) have higher ORFs. This indicates that more of the lighter components end up in the gas phase, while heavier components are primarily recovered in the oil phase.\n",
        "\n",
        "2. **Impact of Well Production Rates:** The notebook demonstrates how changing the production rate of one well can affect the allocated oil and gas production of other wells. Specifically, increasing the production of a well with a high Gas-Oil Ratio (GOR) can decrease the allocated oil production for a well with a low GOR, while increasing its gas allocation. This highlights the importance of considering the interplay between wells when optimizing production.\n",
        "\n",
        "3. **Allocation with Well Stream Routing:** The notebook explores how different well stream routing configurations can impact the allocation results. Sending a high-GOR well stream to the second-stage separator instead of the first-stage separator can influence the ORFs for different components and ultimately affect the overall allocation. This demonstrates the potential for optimizing allocation by carefully managing the flow of well streams within the process."
      ],
      "metadata": {
        "id": "hrnm9LlAbmE2"
      }
    },
    {
      "cell_type": "markdown",
      "source": [
        "# Allocation using Eclipse 300 input"
      ],
      "metadata": {
        "id": "sf0l666jkpnt"
      }
    },
    {
      "cell_type": "markdown",
      "source": [],
      "metadata": {
        "id": "Cz79nyjnkt2C"
      }
    },
    {
      "cell_type": "code",
      "source": [
        "from neqsim.thermo.thermoTools import readEclipseFluid, TPflash\n",
        "\n",
        "res_fluid = jneqsim.thermo.util.readwrite.EclipseFluidReadWrite.read('eclipsefluid.E300', ['res1', 'res2'])\n",
        "\n",
        "printFrame(res_fluid)\n",
        "\n",
        "res_1 = res_fluid.clone()\n",
        "res_2 = res_fluid.clone()\n",
        "\n",
        "res_1_composition = [0.01, ]\n",
        "\n",
        "res_1.setMolarCompositionOfNamedComponents('res1',[0.08, 0.2, 59.0, 2.0, 1.0, 0.1, 0.2, 0.1, 0.1, 0.0, 0.0, 0.0, 0.0, 0.1, 1.0, 1.0, 0.0, 0.0, 0.0, 0.0, 0.0])\n",
        "res_2.setMolarCompositionOfNamedComponents('res2',[0.08, 0.2, 59.0, 2.0, 1.0, 0.1, 0.2, 0.1, 0.1, 0.0, 0.0, 0.0, 0.0, 0.1, 1.0, 1.0, 0.0, 0.0, 0.0, 0.0, 0.0])\n",
        "\n",
        "\n",
        "clearProcess()\n",
        "\n",
        "wellStream = stream(\"dry well stream\", res_1)\n",
        "wellStream.setFlowRate(inputdata['feedFlowRateWellA'], \"MSm3/day\")\n",
        "wellStream.setTemperature(inputdata['wellTemperature'], \"C\")\n",
        "wellStream.setPressure(inputdata['wellPressure'], \"bara\")\n",
        "\n",
        "wellStream2 = stream(\"dry well stream2\", res_2)\n",
        "wellStream2.setFlowRate(inputdata2['feedFlowRateWellB'], \"MSm3/day\")\n",
        "wellStream2.setTemperature(inputdata['temperatureOilHeater'], \"C\")\n",
        "wellStream2.setPressure(inputdata['secondStagePressure'], \"bara\")\n",
        "\n",
        "wellmixer = mixer('mixer')\n",
        "wellmixer.addStream(wellStream)\n",
        "#if add to first sage uncomment here\n",
        "#wellmixer.addStream(wellStream2)\n",
        "\n",
        "feedTPsetter = heater('inletTP', wellmixer.getOutletStream())\n",
        "feedTPsetter.setOutPressure(inputdata['topsidePressure'], \"bara\")\n",
        "feedTPsetter.setOutTemperature(inputdata['topsideTemperature'], \"C\")\n",
        "\n",
        "chokeValve = valve('valve1', feedTPsetter.getOutStream())\n",
        "chokeValve.setOutletPressure(inputdata['firstStagePressure'], 'bara')\n",
        "\n",
        "feedToOffshoreProcess = stream(\"feed to offshore\", chokeValve.getOutStream())\n",
        "\n",
        "firstStageSeparator = separator3phase(\"1st stage separator\", feedToOffshoreProcess)\n",
        "\n",
        "oilHeaterFromFirstStage = heater(\"oil heater second stage\", firstStageSeparator.getOilOutStream())\n",
        "oilHeaterFromFirstStage.setOutTemperature(inputdata['temperatureOilHeater'],'C')\n",
        "\n",
        "oilThrotValve = valve(\"valve oil from first stage\", oilHeaterFromFirstStage.getOutStream())\n",
        "oilThrotValve.setOutletPressure(inputdata['secondStagePressure'])\n",
        "\n",
        "secondStageSeparator = separator3phase(\"2nd stage separator\", oilThrotValve.getOutStream())\n",
        "secondStageSeparator.addStream(wellStream2)\n",
        "\n",
        "oilThrotValve2 = valve(\"valve oil from second stage\", secondStageSeparator.getOilOutStream())\n",
        "oilThrotValve2.setOutletPressure(inputdata['thirdStagePressure'])\n",
        "\n",
        "thirdStageSeparator = separator3phase(\"3rd stage separator\", oilThrotValve2.getOutStream())\n",
        "\n",
        "oilThirdStageToSep =  wellStream.clone()\n",
        "oilThirdStageToSep.setName(\"resyc oil\")\n",
        "thirdStageSeparator.addStream(oilThirdStageToSep)\n",
        "\n",
        "stableOil = stream(\"stable oil\", thirdStageSeparator.getOilOutStream())\n",
        "\n",
        "stableOilPump = pump(\"stable oil pump\", stableOil,15.0)\n",
        "\n",
        "firstStageCooler = cooler(\"1st stage cooler\", thirdStageSeparator.getGasOutStream())\n",
        "firstStageCooler.setOutTemperature(inputdata['firstStageSuctionCoolerTemperature'],'C')\n",
        "\n",
        "firstStageScrubber = separator(\"1st stage scrubber\", firstStageCooler.getOutStream())\n",
        "\n",
        "firstStageCompressor = compressor(\"1st stage compressor\", firstStageScrubber.getGasOutStream())\n",
        "firstStageCompressor.setOutletPressure(inputdata['secondStagePressure'])\n",
        "firstStageCompressor.setIsentropicEfficiency(0.75)\n",
        "\n",
        "firststGasMixer = mixer(\"first Stage mixer\")\n",
        "firststGasMixer.addStream(firstStageCompressor.getOutStream())\n",
        "firststGasMixer.addStream(secondStageSeparator.getGasOutStream())\n",
        "\n",
        "secondStageCooler = cooler(\"2nd stage cooler\", firststGasMixer.getOutStream())\n",
        "secondStageCooler.setOutTemperature(inputdata['secondStageSuctionCoolerTemperature'],'C')\n",
        "\n",
        "secondStageScrubber = separator(\"2nd stage scrubber\", secondStageCooler.getOutStream())\n",
        "\n",
        "secondStageCompressor = compressor(\"2nd stage compressor\", secondStageScrubber.getGasOutStream())\n",
        "secondStageCompressor.setOutletPressure(inputdata['firstStagePressure'])\n",
        "secondStageCompressor.setIsentropicEfficiency(0.75)\n",
        "\n",
        "richGasMixer = mixer(\"fourth Stage mixer\")\n",
        "richGasMixer.addStream(secondStageCompressor.getOutStream())\n",
        "richGasMixer.addStream(firstStageSeparator.getGasOutStream())\n",
        "\n",
        "dewPointControlCooler = cooler(\"dew point cooler\", richGasMixer.getOutStream())\n",
        "dewPointControlCooler.setOutTemperature(inputdata['thirdStageSuctionCoolerTemperature'],'C')\n",
        "\n",
        "dewPointScrubber = separator(\"dew point scrubber\", dewPointControlCooler.getOutStream())\n",
        "\n",
        "lpLiqmixer = mixer(\"LP liq gas mixer\");\n",
        "lpLiqmixer.addStream(firstStageScrubber.getLiquidOutStream());\n",
        "lpLiqmixer.addStream(secondStageScrubber.getLiquidOutStream());\n",
        "lpLiqmixer.addStream(dewPointScrubber.getLiquidOutStream());\n",
        "\n",
        "lpResycle = recycle(\"LP liq resycle\")\n",
        "lpResycle.addStream(lpLiqmixer.getOutStream())\n",
        "lpResycle.setOutletStream(oilThirdStageToSep)\n",
        "\n",
        "exportCompressor1 = compressor(\"export 1st stage\", dewPointScrubber.getGasOutStream())\n",
        "exportCompressor1.setOutletPressure(140.0)\n",
        "exportCompressor1.setIsentropicEfficiency(0.75)\n",
        "\n",
        "exportInterstageCooler = cooler(\"interstage stage cooler\", exportCompressor1.getOutStream())\n",
        "exportInterstageCooler.setOutTemperature(inputdata['firstStageExportCoolerTemperature'],'C')\n",
        "\n",
        "exportCompressor2= compressor(\"export 2nd stage\", exportInterstageCooler.getOutStream())\n",
        "exportCompressor2.setOutletPressure(200.0)\n",
        "exportCompressor2.setIsentropicEfficiency(0.75)\n",
        "\n",
        "exportCooler = cooler(\"export cooler\", exportCompressor1.getOutStream())\n",
        "exportCooler.setOutTemperature(inputdata['secondStageExportCoolerTemperature'],'C')\n",
        "\n",
        "exportGas = stream(\"export gas\", exportCooler.getOutStream())\n",
        "\n",
        "oilprocess = getProcess()"
      ],
      "metadata": {
        "id": "LbCox9FDlTfn",
        "outputId": "3c8c297a-4063-4bdc-a718-96c3a191b2fb",
        "colab": {
          "base_uri": "https://localhost:8080/"
        }
      },
      "execution_count": 44,
      "outputs": [
        {
          "output_type": "stream",
          "name": "stdout",
          "text": [
            "| 0                    | 1          | 2          | 3          | 4   | 5   | 6               |\n",
            "|:---------------------|:-----------|:-----------|:-----------|:----|:----|:----------------|\n",
            "|                      | total      | GAS        | OIL        |     |     |                 |\n",
            "| nitrogen_res1        | 2.443E-3   | 2.443E-3   | 2.443E-3   |     |     | [mole fraction] |\n",
            "| CO2_res1             | 8.7165E-3  | 8.7165E-3  | 8.7165E-3  |     |     | [mole fraction] |\n",
            "| methane_res1         | 3.7697E-1  | 3.7697E-1  | 3.7697E-1  |     |     | [mole fraction] |\n",
            "| ethane_res1          | 3.3001E-2  | 3.3001E-2  | 3.3001E-2  |     |     | [mole fraction] |\n",
            "| propane_res1         | 1.71535E-2 | 1.71535E-2 | 1.71535E-2 |     |     | [mole fraction] |\n",
            "| I-C4_PC_res1         | 3.7495E-3  | 3.7495E-3  | 3.7495E-3  |     |     | [mole fraction] |\n",
            "| N-C4_PC_res1         | 6.91E-3    | 6.91E-3    | 6.91E-3    |     |     | [mole fraction] |\n",
            "| I-C5_PC_res1         | 2.671E-3   | 2.671E-3   | 2.671E-3   |     |     | [mole fraction] |\n",
            "| N-C5_PC_res1         | 3.7195E-3  | 3.7195E-3  | 3.7195E-3  |     |     | [mole fraction] |\n",
            "| n-hexane_res1        | 3.063E-3   | 3.063E-3   | 3.063E-3   |     |     | [mole fraction] |\n",
            "| C7_PC_res1           | 4.206E-3   | 4.206E-3   | 4.206E-3   |     |     | [mole fraction] |\n",
            "| C8_PC_res1           | 5.718E-3   | 5.718E-3   | 5.718E-3   |     |     | [mole fraction] |\n",
            "| C9_PC_res1           | 4.444E-3   | 4.444E-3   | 4.444E-3   |     |     | [mole fraction] |\n",
            "| C10-C11_PC_res1      | 5.899E-3   | 5.899E-3   | 5.899E-3   |     |     | [mole fraction] |\n",
            "| C12-C13_PC_res1      | 4.6245E-3  | 4.6245E-3  | 4.6245E-3  |     |     | [mole fraction] |\n",
            "| C14-C15_PC_res1      | 3.626E-3   | 3.626E-3   | 3.626E-3   |     |     | [mole fraction] |\n",
            "| C16-C18_PC_res1      | 4.0245E-3  | 4.0245E-3  | 4.0245E-3  |     |     | [mole fraction] |\n",
            "| C19-C20_PC_res1      | 1.976E-3   | 1.976E-3   | 1.976E-3   |     |     | [mole fraction] |\n",
            "| C21-C23_PC_res1      | 2.195E-3   | 2.195E-3   | 2.195E-3   |     |     | [mole fraction] |\n",
            "| C24-C29_PC_res1      | 2.5825E-3  | 2.5825E-3  | 2.5825E-3  |     |     | [mole fraction] |\n",
            "| C30P    _PC_res1     | 2.3075E-3  | 2.3075E-3  | 2.3075E-3  |     |     | [mole fraction] |\n",
            "| nitrogen_res2        | 2.443E-3   | 2.443E-3   | 2.443E-3   |     |     | [mole fraction] |\n",
            "| CO2_res2             | 8.7165E-3  | 8.7165E-3  | 8.7165E-3  |     |     | [mole fraction] |\n",
            "| methane_res2         | 3.7697E-1  | 3.7697E-1  | 3.7697E-1  |     |     | [mole fraction] |\n",
            "| ethane_res2          | 3.3001E-2  | 3.3001E-2  | 3.3001E-2  |     |     | [mole fraction] |\n",
            "| propane_res2         | 1.71535E-2 | 1.71535E-2 | 1.71535E-2 |     |     | [mole fraction] |\n",
            "| I-C4_PC_res2         | 3.7495E-3  | 3.7495E-3  | 3.7495E-3  |     |     | [mole fraction] |\n",
            "| N-C4_PC_res2         | 6.91E-3    | 6.91E-3    | 6.91E-3    |     |     | [mole fraction] |\n",
            "| I-C5_PC_res2         | 2.671E-3   | 2.671E-3   | 2.671E-3   |     |     | [mole fraction] |\n",
            "| N-C5_PC_res2         | 3.7195E-3  | 3.7195E-3  | 3.7195E-3  |     |     | [mole fraction] |\n",
            "| n-hexane_res2        | 3.063E-3   | 3.063E-3   | 3.063E-3   |     |     | [mole fraction] |\n",
            "| C7_PC_res2           | 4.206E-3   | 4.206E-3   | 4.206E-3   |     |     | [mole fraction] |\n",
            "| C8_PC_res2           | 5.718E-3   | 5.718E-3   | 5.718E-3   |     |     | [mole fraction] |\n",
            "| C9_PC_res2           | 4.444E-3   | 4.444E-3   | 4.444E-3   |     |     | [mole fraction] |\n",
            "| C10-C11_PC_res2      | 5.899E-3   | 5.899E-3   | 5.899E-3   |     |     | [mole fraction] |\n",
            "| C12-C13_PC_res2      | 4.6245E-3  | 4.6245E-3  | 4.6245E-3  |     |     | [mole fraction] |\n",
            "| C14-C15_PC_res2      | 3.626E-3   | 3.626E-3   | 3.626E-3   |     |     | [mole fraction] |\n",
            "| C16-C18_PC_res2      | 4.0245E-3  | 4.0245E-3  | 4.0245E-3  |     |     | [mole fraction] |\n",
            "| C19-C20_PC_res2      | 1.976E-3   | 1.976E-3   | 1.976E-3   |     |     | [mole fraction] |\n",
            "| C21-C23_PC_res2      | 2.195E-3   | 2.195E-3   | 2.195E-3   |     |     | [mole fraction] |\n",
            "| C24-C29_PC_res2      | 2.5825E-3  | 2.5825E-3  | 2.5825E-3  |     |     | [mole fraction] |\n",
            "| C30P    _PC_res2     | 2.3075E-3  | 2.3075E-3  | 2.3075E-3  |     |     | [mole fraction] |\n",
            "|                      |            |            |            |     |     |                 |\n",
            "| Density              |            | 1.54078E0  | 1.54078E0  |     |     | kg/m3           |\n",
            "| Phase Fraction       |            | 1E0        | 1E0        |     |     | [mole fraction] |\n",
            "| Molar Mass           | 3.60307E-2 | 3.60307E-2 | 3.60307E-2 |     |     | kg/mol          |\n",
            "| Z factor             |            | 9.88999E-1 | 9.88999E-1 |     |     | [-]             |\n",
            "| Heat Capacity (Cp)   |            | 1.77595E0  | 1.77595E0  |     |     | kJ/kgK          |\n",
            "| Heat Capacity (Cv)   |            | 1.53567E0  | 1.53567E0  |     |     | kJ/kgK          |\n",
            "| Speed of Sound       |            | 2.74235E2  | 2.74235E2  |     |     | m/sec           |\n",
            "| Enthalpy             | 4.79664E4  | 2.39832E4  | 2.39832E4  |     |     | J/kg            |\n",
            "| Entropy              | 1.04891E3  | 5.24455E2  | 5.24455E2  |     |     | J/kgK           |\n",
            "| JT coefficient       |            | 1.16291E0  | 1.16291E0  |     |     | C/bar           |\n",
            "|                      |            |            |            |     |     |                 |\n",
            "| Viscosity            |            | 9.66737E-6 | 9.66737E-6 |     |     | kg/msec         |\n",
            "| Thermal Conductivity |            | 2.39344E-2 | 2.39344E-2 |     |     | W/mK            |\n",
            "| Surface Tension      |            | 0E0        | 0E0        |     |     | [N/m]           |\n",
            "|                      |            |            |            |     |     |                 |\n",
            "|                      |            |            |            |     |     |                 |\n",
            "|                      |            |            |            |     |     |                 |\n",
            "| Pressure             |            | 1.01325    | 1.01325    |     |     | bara            |\n",
            "| Temperature          |            | 15.0       | 15.0       |     |     | C               |\n",
            "|                      |            |            |            |     |     |                 |\n",
            "| Model                |            | PR78-EoS   | PR78-EoS   |     |     | -               |\n",
            "| Mixing Rule          |            | classic    | classic    |     |     | -               |\n",
            "|                      |            |            |            |     |     |                 |\n",
            "| Stream               |            |            |            |     |     | -               |\n",
            "|                      |            |            |            |     |     |                 |\n",
            "|                      |            |            |            |     |     |                 |\n",
            "|                      |            |            |            |     |     |                 |\n",
            "|                      |            |            |            |     |     |                 |\n"
          ]
        }
      ]
    },
    {
      "cell_type": "code",
      "source": [
        "oilprocess.run()"
      ],
      "metadata": {
        "id": "yv4XKtkJoLAI"
      },
      "execution_count": 45,
      "outputs": []
    },
    {
      "cell_type": "code",
      "source": [
        "TVP = stableOil.TVP(30.0, 'C')\n",
        "cricondenbar = exportGas.CCB('bara')\n",
        "gasexport = exportGas.getFlowRate('MSm3/day')\n",
        "oilexport = stableOil.getFlowRate('m3/hr')\n",
        "\n",
        "print('TVP [bara] ', TVP)\n",
        "print('cricondenbar [bara] ', cricondenbar)\n",
        "print('gas export [MSm3/day] ', gasexport)\n",
        "print('oil export [m3/hr] ', oilexport)"
      ],
      "metadata": {
        "id": "QJdVwQLUlbV9",
        "outputId": "b920a012-3c15-4ffa-e1db-66615f4acd98",
        "colab": {
          "base_uri": "https://localhost:8080/"
        }
      },
      "execution_count": 46,
      "outputs": [
        {
          "output_type": "stream",
          "name": "stdout",
          "text": [
            "TVP [bara]  1.2894120698735105\n",
            "cricondenbar [bara]  88.56330032266341\n",
            "gas export [MSm3/day]  14.500251021072021\n",
            "oil export [m3/hr]  209.417914044114\n"
          ]
        }
      ]
    },
    {
      "cell_type": "code",
      "source": [
        "componentNames = wellStream.getFluid().getComponentNames()\n",
        "\n",
        "print ('ORF factors.......................')\n",
        "for name in componentNames:\n",
        "  total = wellStream.getFluid().getComponent(name).getTotalFlowRate('kg/hr') + wellStream2.getFluid().getComponent(name).getTotalFlowRate('kg/hr')\n",
        "  ORF = None\n",
        "  if(total>0):\n",
        "    ORF = stableOil.getFluid().getComponent(name).getTotalFlowRate('kg/hr')/total\n",
        "  print('ORF ', name, ' ', ORF)"
      ],
      "metadata": {
        "id": "s073Kq3CoUfG",
        "outputId": "f2840c0d-8a73-4064-c458-56adb537dc11",
        "colab": {
          "base_uri": "https://localhost:8080/"
        }
      },
      "execution_count": 48,
      "outputs": [
        {
          "output_type": "stream",
          "name": "stdout",
          "text": [
            "ORF factors.......................\n",
            "ORF  nitrogen_res1   1.1124190005006672e-06\n",
            "ORF  CO2_res1   0.0003562877379934391\n",
            "ORF  methane_res1   1.895194755839665e-05\n",
            "ORF  ethane_res1   0.0006486637542648385\n",
            "ORF  propane_res1   0.005711742680366457\n",
            "ORF  I-C4_PC_res1   0.020596137493499787\n",
            "ORF  N-C4_PC_res1   0.032571312513332513\n",
            "ORF  I-C5_PC_res1   0.08908613666516446\n",
            "ORF  N-C5_PC_res1   0.11545292541803602\n",
            "ORF  n-hexane_res1   None\n",
            "ORF  C7_PC_res1   None\n",
            "ORF  C8_PC_res1   None\n",
            "ORF  C9_PC_res1   None\n",
            "ORF  C10-C11_PC_res1   0.9825790257535252\n",
            "ORF  C12-C13_PC_res1   0.9986118346762279\n",
            "ORF  C14-C15_PC_res1   0.9997875915185797\n",
            "ORF  C16-C18_PC_res1   None\n",
            "ORF  C19-C20_PC_res1   None\n",
            "ORF  C21-C23_PC_res1   None\n",
            "ORF  C24-C29_PC_res1   None\n",
            "ORF  C30P    _PC_res1   None\n",
            "ORF  nitrogen_res2   0.00014346551761863148\n",
            "ORF  CO2_res2   0.003465725724839568\n",
            "ORF  methane_res2   0.000641592960800961\n",
            "ORF  ethane_res2   0.0055998298915860955\n",
            "ORF  propane_res2   0.021319210870863796\n",
            "ORF  I-C4_PC_res2   0.04863532661514565\n",
            "ORF  N-C4_PC_res2   0.06479792665846436\n",
            "ORF  I-C5_PC_res2   0.13210051730251648\n",
            "ORF  N-C5_PC_res2   0.1590492693285699\n",
            "ORF  n-hexane_res2   None\n",
            "ORF  C7_PC_res2   None\n",
            "ORF  C8_PC_res2   None\n",
            "ORF  C9_PC_res2   None\n",
            "ORF  C10-C11_PC_res2   0.9863866060110393\n",
            "ORF  C12-C13_PC_res2   0.9993870903655775\n",
            "ORF  C14-C15_PC_res2   0.9999497831682352\n",
            "ORF  C16-C18_PC_res2   None\n",
            "ORF  C19-C20_PC_res2   None\n",
            "ORF  C21-C23_PC_res2   None\n",
            "ORF  C24-C29_PC_res2   None\n",
            "ORF  C30P    _PC_res2   None\n"
          ]
        }
      ]
    },
    {
      "cell_type": "code",
      "source": [],
      "metadata": {
        "id": "jae71DmgoUrf"
      },
      "execution_count": null,
      "outputs": []
    }
  ]
}