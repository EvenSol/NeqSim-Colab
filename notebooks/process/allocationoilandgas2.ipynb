{
  "nbformat": 4,
  "nbformat_minor": 0,
  "metadata": {
    "colab": {
      "name": "allocationoilandgas.ipynb",
      "provenance": [],
      "authorship_tag": "ABX9TyOnqndrYzv3vSSdRQ85QmZb",
      "include_colab_link": true
    },
    "kernelspec": {
      "name": "python3",
      "display_name": "Python 3"
    },
    "language_info": {
      "name": "python"
    }
  },
  "cells": [
    {
      "cell_type": "markdown",
      "metadata": {
        "id": "view-in-github",
        "colab_type": "text"
      },
      "source": [
        "<a href=\"https://colab.research.google.com/github/EvenSol/NeqSim-Colab/blob/master/notebooks/process/allocationoilandgas2.ipynb\" target=\"_parent\"><img src=\"https://colab.research.google.com/assets/colab-badge.svg\" alt=\"Open In Colab\"/></a>"
      ]
    },
    {
      "cell_type": "code",
      "execution_count": 1,
      "metadata": {
        "id": "g6AAfT2tXdS_"
      },
      "outputs": [],
      "source": [
        "# Setting up the Colab page to use neqsim\n",
        "#@markdown <br><br>This document is part of the module [\"Introduction to Gas Processing using NeqSim in Colab\"](https://colab.research.google.com/github/EvenSol/NeqSim-Colab/blob/master/notebooks/examples_of_NeqSim_in_Colab.ipynb#scrollTo=_eRtkQnHpL70).\n",
        "%%capture\n",
        "!pip install neqsim\n",
        "import neqsim\n",
        "from neqsim.thermo.thermoTools import *"
      ]
    },
    {
      "cell_type": "markdown",
      "source": [
        "# Litterature\n",
        "\n",
        "Recommended guideline for allocation simulation\n",
        "\n",
        "https://openarchive.usn.no/usn-xmlui/handle/11250/2765116\n",
        "\n",
        "Production Allocation of Oil and Gas: A case Study:\n",
        "\n",
        "https://ntnuopen.ntnu.no/ntnu-xmlui/handle/11250/2351061"
      ],
      "metadata": {
        "id": "0Vh75b1NOzsI"
      }
    },
    {
      "cell_type": "markdown",
      "source": [
        "#Allocation of oil and gas\n",
        "\n",
        "https://en.wikipedia.org/wiki/Allocation_(oil_and_gas)\n",
        "\n",
        "\n",
        "In the petroleum industry, allocation refers to practices of breaking down measures of quantities of extracted hydrocarbons across various contributing sources. Allocation aids the attribution of ownerships of hydrocarbons as each contributing element to a commingled flow or to a storage of petroleum may have a unique ownership. Contributing sources in this context are typically producing petroleum wells delivering flows of petroleum or flows of natural gas to a commingled flow or storage.\n",
        "\n",
        "The terms hydrocarbon accounting and allocation are sometimes used interchangeably. Hydrocarbon accounting has a wider scope, taking advantages of allocation results, it is the petroleum management process by which ownership of extracted hydrocarbons is determined and tracked from a point of sale or discharge back to the point of extraction. In this way, hydrocarbon accounting also covers inventory control, material balance, and practices to trace ownership of hydrocarbons being transported in a transportation system, e.g. through pipelines to customers distant from the production plant.\n",
        "\n",
        "In an allocation problem, contributing sources are more widely natural gas streams, fluid flows or multiphase flows derived from formations or zones in a well, from wells, and from fields, unitised production entities or production facilities. In hydrocarbon accounting, quantities of extracted hydrocarbon can be further split by ownership, by \"cost oil\" or \"profit oil\" categories, and broken down to individual composition fraction types. Such components may be alkane hydrocarbons, boiling point fractions, and mole weight fractions.\n",
        "\n"
      ],
      "metadata": {
        "id": "z2BKO_zSX54a"
      }
    },
    {
      "cell_type": "code",
      "source": [
        "#@title Introduction to Allocation\n",
        "#@markdown This video gives an intriduction to allocation of oil and gas\n",
        "from IPython.display import YouTubeVideo\n",
        "YouTubeVideo('pdIzRGTgmco', width=600, height=400)"
      ],
      "metadata": {
        "colab": {
          "base_uri": "https://localhost:8080/",
          "height": 421
        },
        "cellView": "form",
        "id": "S1Zn6wSkhbD8",
        "outputId": "b61f2353-daa7-47f7-d2b5-7ec4dc123527"
      },
      "execution_count": 2,
      "outputs": [
        {
          "output_type": "execute_result",
          "data": {
            "text/plain": [
              "<IPython.lib.display.YouTubeVideo at 0x7af4d84aee90>"
            ],
            "text/html": [
              "\n",
              "        <iframe\n",
              "            width=\"600\"\n",
              "            height=\"400\"\n",
              "            src=\"https://www.youtube.com/embed/pdIzRGTgmco\"\n",
              "            frameborder=\"0\"\n",
              "            allowfullscreen\n",
              "            \n",
              "        ></iframe>\n",
              "        "
            ],
            "image/jpeg": "[encoded data removed]"
          },
          "metadata": {},
          "execution_count": 2
        }
      ]
    },
    {
      "cell_type": "markdown",
      "source": [
        "# Process simulation for allocation"
      ],
      "metadata": {
        "id": "8J_B0ZW6YnBT"
      }
    },
    {
      "cell_type": "code",
      "source": [
        "inputdata = {\n",
        "  'feedFlowRateWellA': 10,\n",
        "  'wellPressure': 280.0,\n",
        "  'wellTemperature':200.0,\n",
        "  'topsidePressure': 90.0,\n",
        "  'topsideTemperature': 5.0,\n",
        "  'firstStagePressure': 75.0,\n",
        "  'temperatureOilHeater' : 75.9,\n",
        "  'secondStagePressure': 8.6,\n",
        "  'thirdStagePressure': 1.9,\n",
        "  'firstStageSuctionCoolerTemperature': 25.3,\n",
        "  'secondStageSuctionCoolerTemperature': 24.5,\n",
        "  'thirdStageSuctionCoolerTemperature':25.0,\n",
        "  'firstStageExportCoolerTemperature': 25.3,\n",
        "  'secondStageExportCoolerTemperature': 24.5\n",
        "}"
      ],
      "metadata": {
        "id": "eI3E7rf_YvAD"
      },
      "execution_count": 3,
      "outputs": []
    },
    {
      "cell_type": "code",
      "source": [
        "from neqsim.thermo import fluid, printFrame\n",
        "from neqsim.process import compressor, cooler, separator3phase, getProcess, clearProcess, mixer, heater, stream, pump, separator, runProcess, stream, saturator, valve, filters, heatExchanger, simpleTEGAbsorber,distillationColumn, waterStripperColumn, recycle2, setpoint, calculator\n",
        "\n",
        "clearProcess()\n",
        "\n",
        "wellFluid = fluid('pr')\n",
        "wellFluid.addComponent(\"nitrogen\", 0.08)\n",
        "wellFluid.addComponent(\"CO2\", 3.56)\n",
        "wellFluid.addComponent(\"methane\", 87.36)\n",
        "wellFluid.addComponent(\"ethane\", 4.02)\n",
        "wellFluid.addComponent(\"propane\", 1.54)\n",
        "wellFluid.addComponent(\"i-butane\", 0.2)\n",
        "wellFluid.addComponent(\"n-butane\", 0.42)\n",
        "wellFluid.addComponent(\"i-pentane\", 0.15)\n",
        "wellFluid.addComponent(\"n-pentane\", 0.20)\n",
        "\n",
        "wellFluid.addTBPfraction(\"C6\", 3.24, 84.99/1000.0, 695.0/1000.0)\n",
        "wellFluid.addTBPfraction(\"C7\", 1.34, 97.87/1000.0, 718.0/1000.0)\n",
        "wellFluid.addTBPfraction(\"C8\", 1.33, 111.54/1000.0, 729.0/1000.0)\n",
        "wellFluid.addTBPfraction(\"C9\", 1.19, 126.1/1000.0, 749.0/1000.0)\n",
        "wellFluid.addTBPfraction(\"C10\", 1.15, 140.14/1000.0, 760.0/1000.0)\n",
        "wellFluid.addTBPfraction(\"C11\", 1.69, 175.0/1000.0, 830.0/1000.0)\n",
        "wellFluid.addTBPfraction(\"C12\", 1.5, 280.0/1000.0, 914.0/1000.0)\n",
        "wellFluid.addTBPfraction(\"C13\", 2.103, 560.0/1000.0, 980.0/1000.0)\n",
        "\n",
        "wellFluid.setMixingRule(2)\n",
        "wellFluid.init(0)\n",
        "\n",
        "wellFluid.setMolarComposition([0.08, 3.56, 87.36, 4.02, 1.54, 0.2, 0.42, 0.15, 0.2, 1.24, 1.34, 1.33, 1.19, 1.15, 1.69, 1.5, 1.03])\n",
        "\n",
        "wellStream = stream(wellFluid)\n",
        "wellStream.setName(\"dry well stream\")\n",
        "wellStream.setFlowRate(inputdata['feedFlowRateWellA'], \"MSm3/day\")\n",
        "wellStream.setTemperature(inputdata['wellTemperature'], \"C\")\n",
        "wellStream.setPressure(inputdata['wellPressure'], \"bara\")\n",
        "\n",
        "saturatedFeedGas = saturator(wellStream)\n",
        "saturatedFeedGas.setName(\"water saturator\")\n",
        "\n",
        "waterSaturatedFeedGas = stream(saturatedFeedGas.getOutStream())\n",
        "waterSaturatedFeedGas.setName(\"water saturated feed gas\")\n",
        "\n",
        "feedTPsetter = heater(waterSaturatedFeedGas)\n",
        "feedTPsetter.setName('inletTP')\n",
        "feedTPsetter.setOutPressure(inputdata['topsidePressure'], \"bara\")\n",
        "feedTPsetter.setOutTemperature(inputdata['topsideTemperature'], \"C\")\n",
        "\n",
        "chokeValve = valve(feedTPsetter.getOutStream())\n",
        "chokeValve.setOutletPressure(inputdata['firstStagePressure'], 'bara')\n",
        "\n",
        "feedToOffshoreProcess = stream(chokeValve.getOutStream())\n",
        "feedToOffshoreProcess.setName(\"feed to offshore\")\n",
        "\n",
        "firstStageSeparator = separator3phase(feedToOffshoreProcess)\n",
        "firstStageSeparator.setName(\"1st stage separator\")\n",
        "\n",
        "oilHeaterFromFirstStage = heater(firstStageSeparator.getOilOutStream())\n",
        "oilHeaterFromFirstStage.setName(\"oil heater second stage\")\n",
        "oilHeaterFromFirstStage.setOutTemperature(inputdata['temperatureOilHeater'],'C')\n",
        "\n",
        "oilThrotValve = valve(oilHeaterFromFirstStage.getOutStream())\n",
        "oilThrotValve.setName(\"valve oil from first stage\")\n",
        "oilThrotValve.setOutletPressure(inputdata['secondStagePressure'])\n",
        "\n",
        "secondStageSeparator = separator3phase(oilThrotValve.getOutStream())\n",
        "secondStageSeparator.setName(\"2nd stage separator\")\n",
        "\n",
        "oilThrotValve2 = valve(secondStageSeparator.getOilOutStream())\n",
        "oilThrotValve2.setName(\"valve oil from second stage\")\n",
        "oilThrotValve2.setOutletPressure(inputdata['thirdStagePressure'])\n",
        "\n",
        "thirdStageSeparator = separator3phase(oilThrotValve2.getOutStream())\n",
        "thirdStageSeparator.setName(\"3rd stage separator\")\n",
        "\n",
        "oilThirdStageToSep =  wellStream.clone()\n",
        "oilThirdStageToSep.setName(\"resyc oil\")\n",
        "thirdStageSeparator.addStream(oilThirdStageToSep)\n",
        "\n",
        "stableOil = stream(thirdStageSeparator.getOilOutStream())\n",
        "stableOil.setName(\"stable oil\")\n",
        "\n",
        "stableOilPump = pump(stableOil,15.0,\"stable oil pump\")\n",
        "\n",
        "firstStageCooler = cooler(thirdStageSeparator.getGasOutStream())\n",
        "firstStageCooler.setName(\"1st stage cooler\")\n",
        "firstStageCooler.setOutTemperature(inputdata['firstStageSuctionCoolerTemperature'],'C')\n",
        "\n",
        "firstStageScrubber = separator(firstStageCooler.getOutStream())\n",
        "firstStageScrubber.setName(\"1st stage scrubber\")\n",
        "\n",
        "firstStageCompressor = compressor(firstStageScrubber.getGasOutStream())\n",
        "firstStageCompressor.setName(\"1st stage compressor\")\n",
        "firstStageCompressor.setOutletPressure(inputdata['secondStagePressure'])\n",
        "firstStageCompressor.setIsentropicEfficiency(0.75)\n",
        "\n",
        "firststGasMixer = mixer(\"first Stage mixer\")\n",
        "firststGasMixer.addStream(firstStageCompressor.getOutStream())\n",
        "firststGasMixer.addStream(secondStageSeparator.getGasOutStream())\n",
        "\n",
        "secondStageCooler = cooler(firststGasMixer.getOutStream())\n",
        "secondStageCooler.setName(\"2nd stage cooler\")\n",
        "secondStageCooler.setOutTemperature(inputdata['secondStageSuctionCoolerTemperature'],'C')\n",
        "\n",
        "secondStageScrubber = separator(secondStageCooler.getOutStream())\n",
        "secondStageScrubber.setName(\"2nd stage scrubber\")\n",
        "\n",
        "secondStageCompressor = compressor(secondStageScrubber.getGasOutStream())\n",
        "secondStageCompressor.setName(\"2nd stage compressor\")\n",
        "secondStageCompressor.setOutletPressure(inputdata['firstStagePressure'])\n",
        "secondStageCompressor.setIsentropicEfficiency(0.75)\n",
        "\n",
        "richGasMixer = mixer(\"fourth Stage mixer\")\n",
        "richGasMixer.addStream(secondStageCompressor.getOutStream())\n",
        "richGasMixer.addStream(firstStageSeparator.getGasOutStream())\n",
        "\n",
        "dewPointControlCooler = cooler(richGasMixer.getOutStream())\n",
        "dewPointControlCooler.setName(\"dew point cooler\")\n",
        "dewPointControlCooler.setOutTemperature(inputdata['thirdStageSuctionCoolerTemperature'],'C')\n",
        "\n",
        "dewPointScrubber = separator(dewPointControlCooler.getOutStream())\n",
        "dewPointScrubber.setName(\"dew point scrubber\")\n",
        "\n",
        "lpLiqmixer = mixer(\"LP liq gas mixer\");\n",
        "lpLiqmixer.addStream(firstStageScrubber.getLiquidOutStream());\n",
        "lpLiqmixer.addStream(secondStageScrubber.getLiquidOutStream());\n",
        "lpLiqmixer.addStream(dewPointScrubber.getLiquidOutStream());\n",
        "\n",
        "lpResycle = recycle2(\"LP liq resycle\")\n",
        "lpResycle.addStream(lpLiqmixer.getOutStream())\n",
        "lpResycle.setOutletStream(oilThirdStageToSep)\n",
        "\n",
        "exportCompressor1 = compressor(dewPointScrubber.getGasOutStream())\n",
        "exportCompressor1.setName(\"export 1st stage\")\n",
        "exportCompressor1.setOutletPressure(140.0)\n",
        "exportCompressor1.setIsentropicEfficiency(0.75)\n",
        "\n",
        "exportInterstageCooler = cooler(exportCompressor1.getOutStream())\n",
        "exportInterstageCooler.setName(\"interstage stage cooler\")\n",
        "exportInterstageCooler.setOutTemperature(inputdata['firstStageExportCoolerTemperature'],'C')\n",
        "\n",
        "exportCompressor2= compressor(exportInterstageCooler.getOutStream())\n",
        "exportCompressor2.setName(\"export 2nd stage\")\n",
        "exportCompressor2.setOutletPressure(200.0)\n",
        "exportCompressor2.setIsentropicEfficiency(0.75)\n",
        "\n",
        "exportCooler = cooler(exportCompressor1.getOutStream())\n",
        "exportCooler.setName(\"export cooler\")\n",
        "exportCooler.setOutTemperature(inputdata['secondStageExportCoolerTemperature'],'C')\n",
        "\n",
        "exportGas = stream(exportCooler.getOutStream())\n",
        "exportGas.setName(\"export gas\")\n",
        "\n",
        "oilprocess = getProcess()"
      ],
      "metadata": {
        "id": "BLc5mDf4Y9VT"
      },
      "execution_count": 4,
      "outputs": []
    },
    {
      "cell_type": "code",
      "source": [
        "oilprocess.run()"
      ],
      "metadata": {
        "id": "vmy81v2NZF1L"
      },
      "execution_count": 5,
      "outputs": []
    },
    {
      "cell_type": "code",
      "source": [
        "TVP = stableOil.TVP(20.0, 'C')\n",
        "cricondenbar = exportGas.CCB('bara')\n",
        "gasexport = exportGas.getFlowRate('MSm3/day')\n",
        "oilexport = stableOil.getFlowRate('m3/hr')\n",
        "\n",
        "print('TVP [bara] ', TVP)\n",
        "print('cricondenbar [bara] ', cricondenbar)\n",
        "print('gas export [MSm3/day] ', gasexport)\n",
        "print('oil export [m3/hr] ', oilexport)"
      ],
      "metadata": {
        "colab": {
          "base_uri": "https://localhost:8080/"
        },
        "id": "kov6bLXOZJRD",
        "outputId": "7820947c-d8c5-4392-ab3f-ee4ea26e6956"
      },
      "execution_count": 6,
      "outputs": [
        {
          "output_type": "stream",
          "name": "stdout",
          "text": [
            "TVP [bara]  1.0052094606026456\n",
            "cricondenbar [bara]  92.71002203613847\n",
            "gas export [MSm3/day]  8.985694498372132\n",
            "oil export [m3/hr]  400.8707749264762\n"
          ]
        }
      ]
    },
    {
      "cell_type": "markdown",
      "source": [
        "#ORF factors\n",
        "In the following code the ORF factors are calculated"
      ],
      "metadata": {
        "id": "aMj8rZG2aB7N"
      }
    },
    {
      "cell_type": "code",
      "source": [
        "componentNames = wellStream.getFluid().getComponentNames()\n",
        "\n",
        "print ('ORF.......................')\n",
        "for name in componentNames:\n",
        "  total = wellStream.getFluid().getComponent(name).getTotalFlowRate('kg/hr')\n",
        "  ORF = stableOil.getFluid().getComponent(name).getTotalFlowRate('kg/hr')/total\n",
        "  print('ORF ', name, ' ', ORF)\n"
      ],
      "metadata": {
        "colab": {
          "base_uri": "https://localhost:8080/"
        },
        "id": "dq59pYRIaBlN",
        "outputId": "d2821f61-8a18-4233-e566-05777e1e5552"
      },
      "execution_count": 7,
      "outputs": [
        {
          "output_type": "stream",
          "name": "stdout",
          "text": [
            "ORF.......................\n",
            "ORF  nitrogen   1.752867482152913e-05\n",
            "ORF  CO2   0.0031583062145849818\n",
            "ORF  methane   0.00037686751573882434\n",
            "ORF  ethane   0.015138077368355223\n",
            "ORF  propane   0.10952978738792997\n",
            "ORF  i-butane   0.2775181363396506\n",
            "ORF  n-butane   0.37637050062879074\n",
            "ORF  i-pentane   0.6187993508613983\n",
            "ORF  n-pentane   0.6879622585759975\n",
            "ORF  C6_PC   0.8943638415590003\n",
            "ORF  C7_PC   0.9607760896105136\n",
            "ORF  C8_PC   0.9856034413555248\n",
            "ORF  C9_PC   0.9945850180316577\n",
            "ORF  C10_PC   0.9976725620268115\n",
            "ORF  C11_PC   0.9997355649701535\n",
            "ORF  C12_PC   0.9999996839343801\n",
            "ORF  C13_PC   0.999999999999769\n"
          ]
        }
      ]
    },
    {
      "cell_type": "markdown",
      "source": [
        "# Adding a new well stream\n",
        "In the following example we will add a new well stream and add it to the inlet separator."
      ],
      "metadata": {
        "id": "J8v0XKXn_tGn"
      }
    },
    {
      "cell_type": "code",
      "source": [
        "inputdata2 = {\n",
        "  'feedFlowRateWellB': 5,\n",
        "  'wellPressure': 280.0,\n",
        "  'wellTemperature':200.0\n",
        "}"
      ],
      "metadata": {
        "id": "qxH8VGosKLEu"
      },
      "execution_count": 8,
      "outputs": []
    },
    {
      "cell_type": "code",
      "source": [
        "wellFluid2 = fluid('pr')\n",
        "wellFluid2.addComponent(\"nitrogen\", 0.08)\n",
        "wellFluid2.addComponent(\"CO2\", 3.56)\n",
        "wellFluid2.addComponent(\"methane\", 87.36)\n",
        "wellFluid2.addComponent(\"ethane\", 4.02)\n",
        "wellFluid2.addComponent(\"propane\", 1.54)\n",
        "wellFluid2.addComponent(\"i-butane\", 0.2)\n",
        "wellFluid2.addComponent(\"n-butane\", 0.42)\n",
        "wellFluid2.addComponent(\"i-pentane\", 0.15)\n",
        "wellFluid2.addComponent(\"n-pentane\", 0.20)\n",
        "\n",
        "wellFluid2.addTBPfraction(\"C6\", 3.24, 84.99/1000.0, 695.0/1000.0)\n",
        "wellFluid2.addTBPfraction(\"C7\", 1.34, 97.87/1000.0, 718.0/1000.0)\n",
        "wellFluid2.addTBPfraction(\"C8\", 1.33, 111.54/1000.0, 729.0/1000.0)\n",
        "wellFluid2.addTBPfraction(\"C9\", 1.19, 126.1/1000.0, 749.0/1000.0)\n",
        "wellFluid2.addTBPfraction(\"C10\", 1.15, 140.14/1000.0, 760.0/1000.0)\n",
        "wellFluid2.addTBPfraction(\"C11\", 1.69, 175.0/1000.0, 830.0/1000.0)\n",
        "wellFluid2.addTBPfraction(\"C12\", 1.5, 280.0/1000.0, 914.0/1000.0)\n",
        "wellFluid2.addTBPfraction(\"C13\", 2.103, 560.0/1000.0, 980.0/1000.0)\n",
        "\n",
        "wellFluid2.setMixingRule(2)\n",
        "wellFluid2.init(0)\n",
        "\n",
        "wellFluid2.setMolarComposition([0.08, 3.56, 45.36, 4.02, 1.54, 0.2, 0.42, 0.15, 0.2, 1.24, 1.34, 1.33, 1.19, 2.15, 2.69, 3.5, 1.03])\n",
        "\n",
        "wellStream2 = stream(wellFluid2)\n",
        "wellStream2.setName(\"dry well stream 2\")\n",
        "wellStream2.setFlowRate(inputdata2['feedFlowRateWellB'], \"MSm3/day\")\n",
        "wellStream2.setTemperature(inputdata2['wellTemperature'], \"C\")\n",
        "wellStream2.setPressure(inputdata2['wellPressure'], \"bara\")\n",
        "\n",
        "\n",
        "saturatedFeedGas2 = saturator(wellStream2)\n",
        "saturatedFeedGas2.setName(\"water saturator 2\")\n",
        "\n",
        "waterSaturatedFeedGas2 = stream(saturatedFeedGas2.getOutStream())\n",
        "waterSaturatedFeedGas2.setName(\"water saturated feed gas 2\")\n",
        "\n",
        "feedTPsetter2 = heater(waterSaturatedFeedGas2)\n",
        "feedTPsetter2.setName('inletTP')\n",
        "feedTPsetter2.setOutPressure(inputdata['topsidePressure'], \"bara\")\n",
        "feedTPsetter2.setOutTemperature(inputdata['topsideTemperature'], \"C\")\n",
        "\n",
        "firstStageSeparator.addStream(feedTPsetter2.getOutStream())"
      ],
      "metadata": {
        "id": "-gzBm5iL_zzN"
      },
      "execution_count": 9,
      "outputs": []
    },
    {
      "cell_type": "code",
      "source": [
        "# wellStream.setFlowRate(1.0e-6, 'kg/hr')  #uncomment it you new well to be run alone\n",
        "oilprocess.run()"
      ],
      "metadata": {
        "id": "UZq2G5zRA3id"
      },
      "execution_count": 10,
      "outputs": []
    },
    {
      "cell_type": "code",
      "source": [
        "TVP = stableOil.TVP(20.0, 'C')\n",
        "cricondenbar = exportGas.CCB('bara')\n",
        "gasexport = exportGas.getFlowRate('MSm3/day')\n",
        "oilexport = stableOil.getFlowRate('m3/hr')\n",
        "\n",
        "print('TVP [bara] ', TVP)\n",
        "print('cricondenbar [bara] ', cricondenbar)\n",
        "print('gas export [MSm3/day] ', gasexport)\n",
        "print('oil export [m3/hr] ', oilexport)"
      ],
      "metadata": {
        "colab": {
          "base_uri": "https://localhost:8080/"
        },
        "id": "WKIM6Dr7A6MF",
        "outputId": "9fcc3a85-037c-4439-90c0-c57039a55801"
      },
      "execution_count": 11,
      "outputs": [
        {
          "output_type": "stream",
          "name": "stdout",
          "text": [
            "TVP [bara]  1.0136016340141212\n",
            "cricondenbar [bara]  93.21056759697021\n",
            "gas export [MSm3/day]  12.901970211566471\n",
            "oil export [m3/hr]  843.1274407156999\n"
          ]
        }
      ]
    },
    {
      "cell_type": "code",
      "source": [
        "componentNames = wellStream.getFluid().getComponentNames()\n",
        "\n",
        "print ('ORF.......................')\n",
        "for name in componentNames:\n",
        "  total = wellStream.getFluid().getComponent(name).getTotalFlowRate('kg/hr')+wellStream2.getFluid().getComponent(name).getTotalFlowRate('kg/hr')\n",
        "  ORF = stableOil.getFluid().getComponent(name).getTotalFlowRate('kg/hr')/total\n",
        "  print('ORF ', name, ' ', ORF)"
      ],
      "metadata": {
        "colab": {
          "base_uri": "https://localhost:8080/"
        },
        "id": "5_Pak0odA_0s",
        "outputId": "6396a182-85a0-4fcf-a093-f5a272f5df4d"
      },
      "execution_count": 12,
      "outputs": [
        {
          "output_type": "stream",
          "name": "stdout",
          "text": [
            "ORF.......................\n",
            "ORF  nitrogen   2.634851253943355e-05\n",
            "ORF  CO2   0.004318681407785925\n",
            "ORF  methane   0.0005456702638253894\n",
            "ORF  ethane   0.019732108060646163\n",
            "ORF  propane   0.1281855693226593\n",
            "ORF  i-butane   0.3049878496131026\n",
            "ORF  n-butane   0.402570769001271\n",
            "ORF  i-pentane   0.638097666466646\n",
            "ORF  n-pentane   0.7031508817252375\n",
            "ORF  C6_PC   0.9000533784097183\n",
            "ORF  C7_PC   0.964595681243531\n",
            "ORF  C8_PC   0.9882304950875226\n",
            "ORF  C9_PC   0.9959950453680304\n",
            "ORF  C10_PC   0.9983696058882222\n",
            "ORF  C11_PC   0.9998199720989351\n",
            "ORF  C12_PC   0.9999997785582522\n",
            "ORF  C13_PC   0.999999999999878\n"
          ]
        }
      ]
    },
    {
      "cell_type": "markdown",
      "source": [
        "# Comment\n",
        "As we can see the ORF of the light components like eg. propane are now a bit higher. This is due to more of the lighter components are extracted in the oil of the more oil dominated new well."
      ],
      "metadata": {
        "id": "iRN6hAcrJG1M"
      }
    },
    {
      "cell_type": "markdown",
      "source": [
        "## Tracking induvidual components from wells"
      ],
      "metadata": {
        "id": "LP6vkQLN0JF8"
      }
    },
    {
      "cell_type": "code",
      "source": [
        "wellFluid = fluid('pr')\n",
        "wellFluid.addComponent(\"nitrogen\", 0.08)\n",
        "wellFluid.addComponent(\"CO2\", 3.56)\n",
        "wellFluid.addComponent(\"methane\", 87.36)\n",
        "wellFluid.addComponent(\"ethane\", 4.02)\n",
        "wellFluid.addComponent(\"propane\", 1.54)\n",
        "wellFluid.addComponent(\"i-butane\", 0.2)\n",
        "wellFluid.addComponent(\"n-butane\", 0.42)\n",
        "wellFluid.addComponent(\"i-pentane\", 0.15)\n",
        "wellFluid.addComponent(\"n-pentane\", 0.20)\n",
        "\n",
        "wellFluid.addTBPfraction(\"C6\", 3.24, 84.99/1000.0, 695.0/1000.0)\n",
        "wellFluid.addTBPfraction(\"C7\", 1.34, 97.87/1000.0, 718.0/1000.0)\n",
        "wellFluid.addTBPfraction(\"C8\", 1.33, 111.54/1000.0, 729.0/1000.0)\n",
        "wellFluid.addTBPfraction(\"C9\", 1.19, 126.1/1000.0, 749.0/1000.0)\n",
        "wellFluid.addTBPfraction(\"C10\", 1.15, 140.14/1000.0, 760.0/1000.0)\n",
        "wellFluid.addTBPfraction(\"C11\", 1.69, 175.0/1000.0, 830.0/1000.0)\n",
        "wellFluid.addTBPfraction(\"C12\", 1.5, 280.0/1000.0, 914.0/1000.0)\n",
        "wellFluid.addTBPfraction(\"C13\", 2.103, 560.0/1000.0, 980.0/1000.0)\n",
        "\n",
        "names = wellFluid.getComponentNames()\n",
        "\n",
        "for i in range(names.length):\n",
        "  wellFluid.changeComponentName(wellFluid.getComponent(i).getName(), (wellFluid.getComponent(i).getName()+\"_well1\"))\n",
        "\n",
        "wellFluid.addComponent(\"nitrogen\", 0.08)\n",
        "wellFluid.addComponent(\"CO2\", 3.56)\n",
        "wellFluid.addComponent(\"methane\", 87.36)\n",
        "wellFluid.addComponent(\"ethane\", 4.02)\n",
        "wellFluid.addComponent(\"propane\", 1.54)\n",
        "wellFluid.addComponent(\"i-butane\", 0.2)\n",
        "wellFluid.addComponent(\"n-butane\", 0.42)\n",
        "wellFluid.addComponent(\"i-pentane\", 0.15)\n",
        "wellFluid.addComponent(\"n-pentane\", 0.20)\n",
        "\n",
        "wellFluid.addTBPfraction(\"C6\", 3.24, 82.99/1000.0, 695.0/1000.0)\n",
        "wellFluid.addTBPfraction(\"C7\", 1.34, 95.87/1000.0, 718.0/1000.0)\n",
        "wellFluid.addTBPfraction(\"C8\", 1.33, 121.54/1000.0, 729.0/1000.0)\n",
        "wellFluid.addTBPfraction(\"C9\", 1.19, 136.1/1000.0, 749.0/1000.0)\n",
        "wellFluid.addTBPfraction(\"C10\", 1.15, 150.14/1000.0, 760.0/1000.0)\n",
        "wellFluid.addTBPfraction(\"C11\", 1.69, 175.0/1000.0, 830.0/1000.0)\n",
        "wellFluid.addTBPfraction(\"C12\", 1.5, 310.0/1000.0, 914.0/1000.0)\n",
        "wellFluid.addTBPfraction(\"C13\", 2.103, 520.0/1000.0, 980.0/1000.0)\n",
        "\n",
        "for i in range(names.length):\n",
        "  wellFluid.changeComponentName(names[i], (wellFluid.getComponent(i).getName().replace(\"well1\", \"well2\")))\n",
        "\n",
        "wellFluid.setMixingRule('classic')\n",
        "\n",
        "printFrame(wellFluid)\n",
        "\n",
        "\n",
        "#and then set the fluid composition of the wells and run simulation\n",
        "\n",
        "from neqsim.thermo import fluid, printFrame\n",
        "from neqsim.process import compressor, cooler, separator3phase, getProcess, clearProcess, mixer, heater, stream, pump, separator, runProcess, stream, saturator, valve, filters, heatExchanger, simpleTEGAbsorber,distillationColumn, waterStripperColumn, recycle2, setpoint, calculator\n",
        "\n",
        "wellFluid.setMolarComposition([0.08, 3.56, 87.36, 4.02, 1.54, 0.2, 0.42, 0.15, 0.2, 1.24, 1.34, 1.33, 1.19, 1.15, 1.69, 1.5, 1.03,\n",
        "                               0.0, 0.0, 0.0, 0.0, 0.0, 0.0, 0.0, 0.0, 0.0, 0.0, 0.0, 0.0, 0.0, 0.0, 0.0, 0.0, 0.0])\n",
        "\n",
        "\n",
        "welFluid2 = wellFluid.clone()\n",
        "welFluid2.setMolarComposition([ 0.0, 0.0, 0.0, 0.0, 0.0, 0.0, 0.0, 0.0, 0.0, 0.0, 0.0, 0.0, 0.0, 0.0, 0.0, 0.0, 0.0,\n",
        "                               1.08, 3.56, 45.36, 2.02, 7.54, 5.2, 0.42, 0.15, 0.2, 1.24, 1.34, 1.33, 1.19, 1.15, 1.69, 1.5, 1.03])\n",
        "\n",
        "clearProcess()\n",
        "\n",
        "wellStream = stream(wellFluid)\n",
        "wellStream.setName(\"dry well stream\")\n",
        "wellStream.setFlowRate(inputdata['feedFlowRateWellA'], \"MSm3/day\")\n",
        "wellStream.setTemperature(inputdata['wellTemperature'], \"C\")\n",
        "wellStream.setPressure(inputdata['wellPressure'], \"bara\")\n",
        "\n",
        "wellStream2 = stream(welFluid2)\n",
        "wellStream2.setName(\"dry well stream2\")\n",
        "wellStream2.setFlowRate(inputdata2['feedFlowRateWellB'], \"MSm3/day\")\n",
        "wellStream2.setTemperature(inputdata2['wellTemperature'], \"C\")\n",
        "wellStream2.setPressure(inputdata2['wellPressure'], \"bara\")\n",
        "\n",
        "wellmixer = mixer('mixer')\n",
        "wellmixer.addStream(wellStream)\n",
        "wellmixer.addStream(wellStream2)\n",
        "\n",
        "feedTPsetter = heater(wellmixer.getOutletStream())\n",
        "feedTPsetter.setName('inletTP')\n",
        "feedTPsetter.setOutPressure(inputdata['topsidePressure'], \"bara\")\n",
        "feedTPsetter.setOutTemperature(inputdata['topsideTemperature'], \"C\")\n",
        "\n",
        "chokeValve = valve(feedTPsetter.getOutStream())\n",
        "chokeValve.setOutletPressure(inputdata['firstStagePressure'], 'bara')\n",
        "\n",
        "feedToOffshoreProcess = stream(chokeValve.getOutStream())\n",
        "feedToOffshoreProcess.setName(\"feed to offshore\")\n",
        "\n",
        "firstStageSeparator = separator3phase(feedToOffshoreProcess)\n",
        "firstStageSeparator.setName(\"1st stage separator\")\n",
        "\n",
        "oilHeaterFromFirstStage = heater(firstStageSeparator.getOilOutStream())\n",
        "oilHeaterFromFirstStage.setName(\"oil heater second stage\")\n",
        "oilHeaterFromFirstStage.setOutTemperature(inputdata['temperatureOilHeater'],'C')\n",
        "\n",
        "oilThrotValve = valve(oilHeaterFromFirstStage.getOutStream())\n",
        "oilThrotValve.setName(\"valve oil from first stage\")\n",
        "oilThrotValve.setOutletPressure(inputdata['secondStagePressure'])\n",
        "\n",
        "secondStageSeparator = separator3phase(oilThrotValve.getOutStream())\n",
        "secondStageSeparator.setName(\"2nd stage separator\")\n",
        "\n",
        "oilThrotValve2 = valve(secondStageSeparator.getOilOutStream())\n",
        "oilThrotValve2.setName(\"valve oil from second stage\")\n",
        "oilThrotValve2.setOutletPressure(inputdata['thirdStagePressure'])\n",
        "\n",
        "thirdStageSeparator = separator3phase(oilThrotValve2.getOutStream())\n",
        "thirdStageSeparator.setName(\"3rd stage separator\")\n",
        "\n",
        "oilThirdStageToSep =  wellStream.clone()\n",
        "oilThirdStageToSep.setName(\"resyc oil\")\n",
        "thirdStageSeparator.addStream(oilThirdStageToSep)\n",
        "\n",
        "stableOil = stream(thirdStageSeparator.getOilOutStream())\n",
        "stableOil.setName(\"stable oil\")\n",
        "\n",
        "stableOilPump = pump(stableOil,15.0,\"stable oil pump\")\n",
        "\n",
        "firstStageCooler = cooler(thirdStageSeparator.getGasOutStream())\n",
        "firstStageCooler.setName(\"1st stage cooler\")\n",
        "firstStageCooler.setOutTemperature(inputdata['firstStageSuctionCoolerTemperature'],'C')\n",
        "\n",
        "firstStageScrubber = separator(firstStageCooler.getOutStream())\n",
        "firstStageScrubber.setName(\"1st stage scrubber\")\n",
        "\n",
        "firstStageCompressor = compressor(firstStageScrubber.getGasOutStream())\n",
        "firstStageCompressor.setName(\"1st stage compressor\")\n",
        "firstStageCompressor.setOutletPressure(inputdata['secondStagePressure'])\n",
        "firstStageCompressor.setIsentropicEfficiency(0.75)\n",
        "\n",
        "firststGasMixer = mixer(\"first Stage mixer\")\n",
        "firststGasMixer.addStream(firstStageCompressor.getOutStream())\n",
        "firststGasMixer.addStream(secondStageSeparator.getGasOutStream())\n",
        "\n",
        "secondStageCooler = cooler(firststGasMixer.getOutStream())\n",
        "secondStageCooler.setName(\"2nd stage cooler\")\n",
        "secondStageCooler.setOutTemperature(inputdata['secondStageSuctionCoolerTemperature'],'C')\n",
        "\n",
        "secondStageScrubber = separator(secondStageCooler.getOutStream())\n",
        "secondStageScrubber.setName(\"2nd stage scrubber\")\n",
        "\n",
        "secondStageCompressor = compressor(secondStageScrubber.getGasOutStream())\n",
        "secondStageCompressor.setName(\"2nd stage compressor\")\n",
        "secondStageCompressor.setOutletPressure(inputdata['firstStagePressure'])\n",
        "secondStageCompressor.setIsentropicEfficiency(0.75)\n",
        "\n",
        "richGasMixer = mixer(\"fourth Stage mixer\")\n",
        "richGasMixer.addStream(secondStageCompressor.getOutStream())\n",
        "richGasMixer.addStream(firstStageSeparator.getGasOutStream())\n",
        "\n",
        "dewPointControlCooler = cooler(richGasMixer.getOutStream())\n",
        "dewPointControlCooler.setName(\"dew point cooler\")\n",
        "dewPointControlCooler.setOutTemperature(inputdata['thirdStageSuctionCoolerTemperature'],'C')\n",
        "\n",
        "dewPointScrubber = separator(dewPointControlCooler.getOutStream())\n",
        "dewPointScrubber.setName(\"dew point scrubber\")\n",
        "\n",
        "lpLiqmixer = mixer(\"LP liq gas mixer\");\n",
        "lpLiqmixer.addStream(firstStageScrubber.getLiquidOutStream());\n",
        "lpLiqmixer.addStream(secondStageScrubber.getLiquidOutStream());\n",
        "lpLiqmixer.addStream(dewPointScrubber.getLiquidOutStream());\n",
        "\n",
        "lpResycle = recycle2(\"LP liq resycle\")\n",
        "lpResycle.addStream(lpLiqmixer.getOutStream())\n",
        "lpResycle.setOutletStream(oilThirdStageToSep)\n",
        "\n",
        "exportCompressor1 = compressor(dewPointScrubber.getGasOutStream())\n",
        "exportCompressor1.setName(\"export 1st stage\")\n",
        "exportCompressor1.setOutletPressure(140.0)\n",
        "exportCompressor1.setIsentropicEfficiency(0.75)\n",
        "\n",
        "exportInterstageCooler = cooler(exportCompressor1.getOutStream())\n",
        "exportInterstageCooler.setName(\"interstage stage cooler\")\n",
        "exportInterstageCooler.setOutTemperature(inputdata['firstStageExportCoolerTemperature'],'C')\n",
        "\n",
        "exportCompressor2= compressor(exportInterstageCooler.getOutStream())\n",
        "exportCompressor2.setName(\"export 2nd stage\")\n",
        "exportCompressor2.setOutletPressure(200.0)\n",
        "exportCompressor2.setIsentropicEfficiency(0.75)\n",
        "\n",
        "exportCooler = cooler(exportCompressor1.getOutStream())\n",
        "exportCooler.setName(\"export cooler\")\n",
        "exportCooler.setOutTemperature(inputdata['secondStageExportCoolerTemperature'],'C')\n",
        "\n",
        "exportGas = stream(exportCooler.getOutStream())\n",
        "exportGas.setName(\"export gas\")\n",
        "\n",
        "oilprocess = getProcess()"
      ],
      "metadata": {
        "id": "TxX3nkb50NrZ",
        "outputId": "f6f4b3d1-dcf3-4f70-bf98-6a801538b5fa",
        "colab": {
          "base_uri": "https://localhost:8080/"
        }
      },
      "execution_count": 13,
      "outputs": [
        {
          "output_type": "stream",
          "name": "stdout",
          "text": [
            "| 0                  | 1          | 2          | 3          | 4   | 5   | 6               |\n",
            "|:-------------------|:-----------|:-----------|:-----------|:----|:----|:----------------|\n",
            "|                    | total      | GAS        | OIL        |     |     |                 |\n",
            "| nitrogen_well1     | 3.60124E-4 | 3.60124E-4 | 3.60124E-4 |     |     | [mole fraction] |\n",
            "| CO2_well1          | 1.60255E-2 | 1.60255E-2 | 1.60255E-2 |     |     | [mole fraction] |\n",
            "| methane_well1      | 3.93255E-1 | 3.93255E-1 | 3.93255E-1 |     |     | [mole fraction] |\n",
            "| ethane_well1       | 1.80962E-2 | 1.80962E-2 | 1.80962E-2 |     |     | [mole fraction] |\n",
            "| propane_well1      | 6.93238E-3 | 6.93238E-3 | 6.93238E-3 |     |     | [mole fraction] |\n",
            "| i-butane_well1     | 9.00309E-4 | 9.00309E-4 | 9.00309E-4 |     |     | [mole fraction] |\n",
            "| n-butane_well1     | 1.89065E-3 | 1.89065E-3 | 1.89065E-3 |     |     | [mole fraction] |\n",
            "| i-pentane_well1    | 6.75232E-4 | 6.75232E-4 | 6.75232E-4 |     |     | [mole fraction] |\n",
            "| n-pentane_well1    | 9.00309E-4 | 9.00309E-4 | 9.00309E-4 |     |     | [mole fraction] |\n",
            "| C6_PC_well1        | 1.4585E-2  | 1.4585E-2  | 1.4585E-2  |     |     | [mole fraction] |\n",
            "| C7_PC_well1        | 6.03207E-3 | 6.03207E-3 | 6.03207E-3 |     |     | [mole fraction] |\n",
            "| C8_PC_well1        | 5.98705E-3 | 5.98705E-3 | 5.98705E-3 |     |     | [mole fraction] |\n",
            "| C9_PC_well1        | 5.35684E-3 | 5.35684E-3 | 5.35684E-3 |     |     | [mole fraction] |\n",
            "| C10_PC_well1       | 5.17678E-3 | 5.17678E-3 | 5.17678E-3 |     |     | [mole fraction] |\n",
            "| C11_PC_well1       | 7.60761E-3 | 7.60761E-3 | 7.60761E-3 |     |     | [mole fraction] |\n",
            "| C12_PC_well1       | 6.75232E-3 | 6.75232E-3 | 6.75232E-3 |     |     | [mole fraction] |\n",
            "| C13_PC_well1       | 9.46675E-3 | 9.46675E-3 | 9.46675E-3 |     |     | [mole fraction] |\n",
            "| nitrogen_well2     | 3.60124E-4 | 3.60124E-4 | 3.60124E-4 |     |     | [mole fraction] |\n",
            "| CO2_well2          | 1.60255E-2 | 1.60255E-2 | 1.60255E-2 |     |     | [mole fraction] |\n",
            "| methane_well2      | 3.93255E-1 | 3.93255E-1 | 3.93255E-1 |     |     | [mole fraction] |\n",
            "| ethane_well2       | 1.80962E-2 | 1.80962E-2 | 1.80962E-2 |     |     | [mole fraction] |\n",
            "| propane_well2      | 6.93238E-3 | 6.93238E-3 | 6.93238E-3 |     |     | [mole fraction] |\n",
            "| i-butane_well2     | 9.00309E-4 | 9.00309E-4 | 9.00309E-4 |     |     | [mole fraction] |\n",
            "| n-butane_well2     | 1.89065E-3 | 1.89065E-3 | 1.89065E-3 |     |     | [mole fraction] |\n",
            "| i-pentane_well2    | 6.75232E-4 | 6.75232E-4 | 6.75232E-4 |     |     | [mole fraction] |\n",
            "| n-pentane_well2    | 9.00309E-4 | 9.00309E-4 | 9.00309E-4 |     |     | [mole fraction] |\n",
            "| C6_PC_well2        | 1.4585E-2  | 1.4585E-2  | 1.4585E-2  |     |     | [mole fraction] |\n",
            "| C7_PC_well2        | 6.03207E-3 | 6.03207E-3 | 6.03207E-3 |     |     | [mole fraction] |\n",
            "| C8_PC_well2        | 5.98705E-3 | 5.98705E-3 | 5.98705E-3 |     |     | [mole fraction] |\n",
            "| C9_PC_well2        | 5.35684E-3 | 5.35684E-3 | 5.35684E-3 |     |     | [mole fraction] |\n",
            "| C10_PC_well2       | 5.17678E-3 | 5.17678E-3 | 5.17678E-3 |     |     | [mole fraction] |\n",
            "| C11_PC_well2       | 7.60761E-3 | 7.60761E-3 | 7.60761E-3 |     |     | [mole fraction] |\n",
            "| C12_PC_well2       | 6.75232E-3 | 6.75232E-3 | 6.75232E-3 |     |     | [mole fraction] |\n",
            "| C13_PC_well2       | 9.46675E-3 | 9.46675E-3 | 9.46675E-3 |     |     | [mole fraction] |\n",
            "|                    |            |            |            |     |     |                 |\n",
            "| Density            |            | 1.69971E0  | 1.69971E0  |     |     | [kg/m^3]        |\n",
            "| PhaseFraction      |            | 1E0        | 1E0        |     |     | [mole fraction] |\n",
            "| MolarMass          | 4.10922E1  | 4.10922E1  | 4.10922E1  |     |     | [kg/kmol]       |\n",
            "| Z factor           |            | 9.88036E-1 | 9.88036E-1 |     |     | [-]             |\n",
            "| Heat Capacity (Cp) |            | 1.71764E0  | 1.71764E0  |     |     | [kJ/kg*K]       |\n",
            "| Heat Capacity (Cv) |            | 1.50619E0  | 1.50619E0  |     |     | [kJ/kg*K]       |\n",
            "| Speed of Sound     |            | 2.59142E2  | 2.59142E2  |     |     | [m/sec]         |\n",
            "| Enthalpy           | 7.9013E1   | 3.95065E1  | 3.95065E1  |     |     | [kJ/kg]         |\n",
            "| Entropy            | 9.82978E-1 | 4.91489E-1 | 4.91489E-1 |     |     | [kJ/kg*K]       |\n",
            "| JT coefficient     |            | 1.18846E0  | 1.18846E0  |     |     | [K/bar]         |\n",
            "|                    |            |            |            |     |     |                 |\n",
            "| Viscosity          |            | 1.02516E-5 | 1.02516E-5 |     |     | [kg/m*sec]      |\n",
            "| Conductivity       |            | 2.44281E-2 | 2.44281E-2 |     |     | [W/m*K]         |\n",
            "| SurfaceTension     |            | 0E0        | 0E0        |     |     | [N/m]           |\n",
            "|                    |            |            |            |     |     |                 |\n",
            "|                    |            |            |            |     |     |                 |\n",
            "|                    |            |            |            |     |     |                 |\n",
            "| Pressure           |            | 1.01325    | 1.01325    |     |     | [bar]           |\n",
            "| Temperature        |            | 298.15     | 298.15     |     |     | [K]             |\n",
            "|                    |            |            |            |     |     |                 |\n",
            "| Model              |            | PR-EOS     | PR-EOS     |     |     | -               |\n",
            "| Mixing Rule        |            | classic    | classic    |     |     | -               |\n",
            "|                    |            |            |            |     |     |                 |\n",
            "| Stream             |            |            |            |     |     | -               |\n",
            "|                    |            |            |            |     |     |                 |\n",
            "|                    |            |            |            |     |     |                 |\n",
            "|                    |            |            |            |     |     |                 |\n",
            "|                    |            |            |            |     |     |                 |\n"
          ]
        }
      ]
    },
    {
      "cell_type": "code",
      "source": [
        "oilprocess.run()"
      ],
      "metadata": {
        "id": "FYtX6Cw54sji"
      },
      "execution_count": 14,
      "outputs": []
    },
    {
      "cell_type": "code",
      "source": [
        "TVP = stableOil.TVP(20.0, 'C')\n",
        "cricondenbar = exportGas.CCB('bara')\n",
        "gasexport = exportGas.getFlowRate('MSm3/day')\n",
        "oilexport = stableOil.getFlowRate('m3/hr')\n",
        "\n",
        "print('TVP [bara] ', TVP)\n",
        "print('cricondenbar [bara] ', cricondenbar)\n",
        "print('gas export [MSm3/day] ', gasexport)\n",
        "print('oil export [m3/hr] ', oilexport)"
      ],
      "metadata": {
        "id": "GL_4ViMW4x9I",
        "outputId": "210bd52d-7a08-49d6-ed88-eade4c198529",
        "colab": {
          "base_uri": "https://localhost:8080/"
        }
      },
      "execution_count": 15,
      "outputs": [
        {
          "output_type": "stream",
          "name": "stdout",
          "text": [
            "TVP [bara]  0.9605156429147605\n",
            "cricondenbar [bara]  99.0855881653341\n",
            "gas export [MSm3/day]  13.15414203954231\n",
            "oil export [m3/hr]  706.5275267401072\n"
          ]
        }
      ]
    },
    {
      "cell_type": "code",
      "source": [
        "printFrame(exportGas.getFluid())"
      ],
      "metadata": {
        "id": "iD7UEcvO46vd",
        "outputId": "7a06c30c-b1f5-4f87-a97d-38ffa21b86ba",
        "colab": {
          "base_uri": "https://localhost:8080/"
        }
      },
      "execution_count": 16,
      "outputs": [
        {
          "output_type": "stream",
          "name": "stdout",
          "text": [
            "| 0                  | 1           | 2           | 3   | 4   | 5   | 6               |\n",
            "|:-------------------|:------------|:------------|:----|:----|:----|:----------------|\n",
            "|                    | total       | GAS         |     |     |     |                 |\n",
            "| nitrogen_well1     | 5.63112E-4  | 5.63112E-4  |     |     |     | [mole fraction] |\n",
            "| CO2_well1          | 2.48829E-2  | 2.48829E-2  |     |     |     | [mole fraction] |\n",
            "| methane_well1      | 6.14759E-1  | 6.14759E-1  |     |     |     | [mole fraction] |\n",
            "| ethane_well1       | 2.79559E-2  | 2.79559E-2  |     |     |     | [mole fraction] |\n",
            "| propane_well1      | 9.82525E-3  | 9.82525E-3  |     |     |     | [mole fraction] |\n",
            "| i-butane_well1     | 1.05409E-3  | 1.05409E-3  |     |     |     | [mole fraction] |\n",
            "| n-butane_well1     | 1.93175E-3  | 1.93175E-3  |     |     |     | [mole fraction] |\n",
            "| i-pentane_well1    | 4.27495E-4  | 4.27495E-4  |     |     |     | [mole fraction] |\n",
            "| n-pentane_well1    | 4.68361E-4  | 4.68361E-4  |     |     |     | [mole fraction] |\n",
            "| C6_PC_well1        | 9.52568E-4  | 9.52568E-4  |     |     |     | [mole fraction] |\n",
            "| C7_PC_well1        | 3.51065E-4  | 3.51065E-4  |     |     |     | [mole fraction] |\n",
            "| C8_PC_well1        | 1.12548E-4  | 1.12548E-4  |     |     |     | [mole fraction] |\n",
            "| C9_PC_well1        | 3.4255E-5   | 3.4255E-5   |     |     |     | [mole fraction] |\n",
            "| C10_PC_well1       | 1.36822E-5  | 1.36822E-5  |     |     |     | [mole fraction] |\n",
            "| C11_PC_well1       | 2.32804E-6  | 2.32804E-6  |     |     |     | [mole fraction] |\n",
            "| C12_PC_well1       | 2.91411E-9  | 2.91411E-9  |     |     |     | [mole fraction] |\n",
            "| C13_PC_well1       | 2.27005E-16 | 2.27005E-16 |     |     |     | [mole fraction] |\n",
            "| nitrogen_well2     | 5.40143E-3  | 5.40143E-3  |     |     |     | [mole fraction] |\n",
            "| CO2_well2          | 1.76799E-2  | 1.76799E-2  |     |     |     | [mole fraction] |\n",
            "| methane_well2      | 2.26801E-1  | 2.26801E-1  |     |     |     | [mole fraction] |\n",
            "| ethane_well2       | 9.98112E-3  | 9.98112E-3  |     |     |     | [mole fraction] |\n",
            "| propane_well2      | 3.41802E-2  | 3.41802E-2  |     |     |     | [mole fraction] |\n",
            "| i-butane_well2     | 1.94729E-2  | 1.94729E-2  |     |     |     | [mole fraction] |\n",
            "| n-butane_well2     | 1.37256E-3  | 1.37256E-3  |     |     |     | [mole fraction] |\n",
            "| i-pentane_well2    | 3.03746E-4  | 3.03746E-4  |     |     |     | [mole fraction] |\n",
            "| n-pentane_well2    | 3.32783E-4  | 3.32783E-4  |     |     |     | [mole fraction] |\n",
            "| C6_PC_well2        | 7.8593E-4   | 7.8593E-4   |     |     |     | [mole fraction] |\n",
            "| C7_PC_well2        | 2.94555E-4  | 2.94555E-4  |     |     |     | [mole fraction] |\n",
            "| C8_PC_well2        | 3.8778E-5   | 3.8778E-5   |     |     |     | [mole fraction] |\n",
            "| C9_PC_well2        | 1.31316E-5  | 1.31316E-5  |     |     |     | [mole fraction] |\n",
            "| C10_PC_well2       | 5.52954E-6  | 5.52954E-6  |     |     |     | [mole fraction] |\n",
            "| C11_PC_well2       | 1.65414E-6  | 1.65414E-6  |     |     |     | [mole fraction] |\n",
            "| C12_PC_well2       | 3.14862E-10 | 3.14862E-10 |     |     |     | [mole fraction] |\n",
            "| C13_PC_well2       | 9.13886E-16 | 9.13886E-16 |     |     |     | [mole fraction] |\n",
            "|                    |             |             |     |     |     |                 |\n",
            "| Density            |             | 1.60053E2   |     |     |     | [kg/m^3]        |\n",
            "| PhaseFraction      |             | 1E0         |     |     |     | [mole fraction] |\n",
            "| MolarMass          | 2.0354E1    | 2.0354E1    |     |     |     | [kg/kmol]       |\n",
            "| Z factor           |             | 6.9057E-1   |     |     |     | [-]             |\n",
            "| Heat Capacity (Cp) |             | 3.43582E0   |     |     |     | [kJ/kg*K]       |\n",
            "| Heat Capacity (Cv) |             | 1.68369E0   |     |     |     | [kJ/kg*K]       |\n",
            "| Speed of Sound     |             | 4.0221E2    |     |     |     | [m/sec]         |\n",
            "| Enthalpy           | -1.31196E2  | -1.31196E2  |     |     |     | [kJ/kg]         |\n",
            "| Entropy            | -1.7602E0   | -1.7602E0   |     |     |     | [kJ/kg*K]       |\n",
            "| JT coefficient     |             | 2.73163E-1  |     |     |     | [K/bar]         |\n",
            "|                    |             |             |     |     |     |                 |\n",
            "| Viscosity          |             | 1.84865E-5  |     |     |     | [kg/m*sec]      |\n",
            "| Conductivity       |             | 5.07613E-2  |     |     |     | [W/m*K]         |\n",
            "| SurfaceTension     |             |             |     |     |     | [N/m]           |\n",
            "|                    |             |             |     |     |     |                 |\n",
            "|                    |             |             |     |     |     |                 |\n",
            "|                    |             |             |     |     |     |                 |\n",
            "| Pressure           |             | 140.0       |     |     |     | [bar]           |\n",
            "| Temperature        |             | 297.65      |     |     |     | [K]             |\n",
            "|                    |             |             |     |     |     |                 |\n",
            "| Model              |             | PR-EOS      |     |     |     | -               |\n",
            "| Mixing Rule        |             | classic     |     |     |     | -               |\n",
            "|                    |             |             |     |     |     |                 |\n",
            "| Stream             |             |             |     |     |     | -               |\n",
            "|                    |             |             |     |     |     |                 |\n",
            "|                    |             |             |     |     |     |                 |\n",
            "|                    |             |             |     |     |     |                 |\n",
            "|                    |             |             |     |     |     |                 |\n"
          ]
        }
      ]
    },
    {
      "cell_type": "markdown",
      "source": [
        "calculation of ORF factors for the induvidual components from well 1 and 2."
      ],
      "metadata": {
        "id": "gLilbWyiDw3u"
      }
    },
    {
      "cell_type": "code",
      "source": [
        "componentNames = wellStream.getFluid().getComponentNames()\n",
        "\n",
        "print ('ORF factors.......................')\n",
        "for name in componentNames:\n",
        "  total = wellStream.getFluid().getComponent(name).getTotalFlowRate('kg/hr') + wellStream2.getFluid().getComponent(name).getTotalFlowRate('kg/hr')\n",
        "  ORF = stableOil.getFluid().getComponent(name).getTotalFlowRate('kg/hr')/total\n",
        "  print('ORF ', name, ' ', ORF)"
      ],
      "metadata": {
        "colab": {
          "base_uri": "https://localhost:8080/"
        },
        "id": "bQRf5rpBDwFR",
        "outputId": "c9c5db4b-3be1-4662-f1ce-ae7c21f5f64c"
      },
      "execution_count": 17,
      "outputs": [
        {
          "output_type": "stream",
          "name": "stdout",
          "text": [
            "ORF factors.......................\n",
            "ORF  nitrogen_well1   2.0189379446066245e-05\n",
            "ORF  CO2_well1   0.007028119748784879\n",
            "ORF  methane_well1   0.00027928087858549084\n",
            "ORF  ethane_well1   0.012051854358947362\n",
            "ORF  propane_well1   0.09361799612549128\n",
            "ORF  i-butane_well1   0.2512436747574284\n",
            "ORF  n-butane_well1   0.34656942898608445\n",
            "ORF  i-pentane_well1   0.59508784535553\n",
            "ORF  n-pentane_well1   0.6672771298805253\n",
            "ORF  C6_PC_well1   0.8908415058753164\n",
            "ORF  C7_PC_well1   0.96277064833508\n",
            "ORF  C8_PC_well1   0.9879750844882502\n",
            "ORF  C9_PC_well1   0.9959097330620179\n",
            "ORF  C10_PC_well1   0.9983095170240023\n",
            "ORF  C11_PC_well1   0.9998042856888982\n",
            "ORF  C12_PC_well1   0.9999997240196382\n",
            "ORF  C13_PC_well1   0.9999999999999686\n",
            "ORF  nitrogen_well2   2.018937944269106e-05\n",
            "ORF  CO2_well2   0.0070281196114597815\n",
            "ORF  methane_well2   0.0002792808782156997\n",
            "ORF  ethane_well2   0.012051853937646982\n",
            "ORF  propane_well2   0.09361797288092685\n",
            "ORF  i-butane_well2   0.2512434901363216\n",
            "ORF  n-butane_well2   0.34656906976546203\n",
            "ORF  i-pentane_well2   0.5950866200381805\n",
            "ORF  n-pentane_well2   0.6672755576360193\n",
            "ORF  C6_PC_well2   0.8732446277355016\n",
            "ORF  C7_PC_well2   0.9560366491489669\n",
            "ORF  C8_PC_well2   0.9941690961168943\n",
            "ORF  C9_PC_well2   0.9977932610556837\n",
            "ORF  C10_PC_well2   0.9990384941428769\n",
            "ORF  C11_PC_well2   0.9998042856886129\n",
            "ORF  C12_PC_well2   0.9999999580333985\n",
            "ORF  C13_PC_well2   0.9999999999998228\n"
          ]
        }
      ]
    },
    {
      "cell_type": "code",
      "source": [
        "#calculation of flow of wellstream 1 in oil and gas export\n",
        "\n",
        "componentNames = wellStream.getFluid().getComponentNames()\n",
        "\n",
        "totalGasFlowFromWell1 = 0\n",
        "totalOilFlowFromWell1 = 0\n",
        "for name in componentNames:\n",
        "  if(wellStream.getFluid().getComponent(name).getz()>0):\n",
        "    totalGasFlowFromWell1 = totalGasFlowFromWell1 + exportGas.getFluid().getComponent(name).getFlowRate('kg/hr')\n",
        "    totalOilFlowFromWell1 = totalOilFlowFromWell1 + stableOil.getFluid().getComponent(name).getFlowRate('kg/hr')\n",
        "\n",
        "print('well stream 1 flow ' , wellStream.getFlowRate('kg/hr'), ' kg/hr')\n",
        "print('well stream 1 in export gas ', totalGasFlowFromWell1, ' kg/hr')\n",
        "print('well stream 1 in stable oil ', totalOilFlowFromWell1, ' kg/hr')\n"
      ],
      "metadata": {
        "colab": {
          "base_uri": "https://localhost:8080/"
        },
        "id": "1zVbgjLMHpYZ",
        "outputId": "3677002d-9d75-4874-8e95-eee2780e661b"
      },
      "execution_count": 18,
      "outputs": [
        {
          "output_type": "stream",
          "name": "stdout",
          "text": [
            "well stream 1 flow  619893.2766954034  kg/hr\n",
            "well stream 1 in export gas  292533.8459090735  kg/hr\n",
            "well stream 1 in stable oil  327358.37782692607  kg/hr\n"
          ]
        }
      ]
    },
    {
      "cell_type": "markdown",
      "source": [
        "Evaluating effect of production rate of well 1 for well 2 gas/oil export allocation"
      ],
      "metadata": {
        "id": "7nsBLE-WN-Vl"
      }
    },
    {
      "cell_type": "code",
      "source": [
        "import matplotlib.pyplot as plt\n",
        "\n",
        "well1production = [0.1, 0.5, 0.9, 1.5, 2, 2.5, 3, 3.5, 4, 4.5, 5]\n",
        "well2Gas = []\n",
        "well2Oil = []\n",
        "\n",
        "#set flow from well 2\n",
        "oilprocess.getUnit('dry well stream2').setFlowRate(5.0, \"MSm3/day\")\n",
        "\n",
        "for production in well1production:\n",
        "  oilprocess.getUnit('dry well stream').setFlowRate(production, \"MSm3/day\")\n",
        "  oilprocess.run()\n",
        "\n",
        "  totalGasFlowFromWell2 = 0\n",
        "  totalOilFlowFromWell2 = 0\n",
        "  for name in componentNames:\n",
        "    if(wellStream2.getFluid().getComponent(name).getz()>0):\n",
        "      totalGasFlowFromWell2 = totalGasFlowFromWell2 + exportGas.getFluid().getComponent(name).getFlowRate('kg/hr')\n",
        "      totalOilFlowFromWell2 = totalOilFlowFromWell2 + stableOil.getFluid().getComponent(name).getFlowRate('kg/hr')\n",
        "  well2Gas.append(totalGasFlowFromWell2)\n",
        "  well2Oil.append(totalOilFlowFromWell2)\n",
        "\n",
        "plt.figure()\n",
        "plt.xlabel('Well 1 production [MSm3/day]')\n",
        "plt.ylabel('Well 2 export [kg/hr]')\n",
        "plt.plot(well1production, well2Gas)\n",
        "plt.plot(well1production, well2Oil)\n",
        "plt.legend(['gas', 'oil'])"
      ],
      "metadata": {
        "id": "HGwSAfaaOLnW",
        "outputId": "b135f779-e559-4c36-d4ca-1fce0ad5afc8",
        "colab": {
          "base_uri": "https://localhost:8080/",
          "height": 467
        }
      },
      "execution_count": 21,
      "outputs": [
        {
          "output_type": "execute_result",
          "data": {
            "text/plain": [
              "<matplotlib.legend.Legend at 0x7af4702f94b0>"
            ]
          },
          "metadata": {},
          "execution_count": 21
        },
        {
          "output_type": "display_data",
          "data": {
            "text/plain": [
              "<Figure size 640x480 with 1 Axes>"
            ],
            "image/png": "[encoded data removed]"
          },
          "metadata": {}
        }
      ]
    },
    {
      "cell_type": "markdown",
      "source": [
        "We see that when increasing the production of a well with high GOR (well 1), the the allocated oil production for the low GOR well (well 2) will decrease while gas allocation will increase.\n",
        "\n",
        "A similar analysis could be done to see how different wells influence process capacity, power consumption and emissions for a field."
      ],
      "metadata": {
        "id": "q7h4IxRPYAXC"
      }
    }
  ]
}