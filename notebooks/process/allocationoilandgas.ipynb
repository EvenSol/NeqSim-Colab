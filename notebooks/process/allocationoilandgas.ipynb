{
  "nbformat": 4,
  "nbformat_minor": 0,
  "metadata": {
    "colab": {
      "name": "allocationoilandgas.ipynb",
      "provenance": [],
      "collapsed_sections": [],
      "authorship_tag": "ABX9TyOAq2cJqw3kGFGFWKgJy5w7",
      "include_colab_link": true
    },
    "kernelspec": {
      "name": "python3",
      "display_name": "Python 3"
    },
    "language_info": {
      "name": "python"
    }
  },
  "cells": [
    {
      "cell_type": "markdown",
      "metadata": {
        "id": "view-in-github",
        "colab_type": "text"
      },
      "source": [
        "<a href=\"https://colab.research.google.com/github/EvenSol/NeqSim-Colab/blob/master/notebooks/process/allocationoilandgas.ipynb\" target=\"_parent\"><img src=\"https://colab.research.google.com/assets/colab-badge.svg\" alt=\"Open In Colab\"/></a>"
      ]
    },
    {
      "cell_type": "code",
      "execution_count": 1,
      "metadata": {
        "id": "g6AAfT2tXdS_"
      },
      "outputs": [],
      "source": [
        "# Setting up the Colab page to use neqsim\n",
        "%%capture\n",
        "!pip install neqsim==2.5.35\n",
        "import neqsim\n",
        "from neqsim.thermo.thermoTools import *"
      ]
    },
    {
      "cell_type": "markdown",
      "source": [
        "#Allocation of oil and gas\n",
        "\n",
        "https://en.wikipedia.org/wiki/Allocation_(oil_and_gas)\n",
        "\n",
        "\n",
        "In the petroleum industry, allocation refers to practices of breaking down measures of quantities of extracted hydrocarbons across various contributing sources. Allocation aids the attribution of ownerships of hydrocarbons as each contributing element to a commingled flow or to a storage of petroleum may have a unique ownership. Contributing sources in this context are typically producing petroleum wells delivering flows of petroleum or flows of natural gas to a commingled flow or storage.\n",
        "\n",
        "The terms hydrocarbon accounting and allocation are sometimes used interchangeably. Hydrocarbon accounting has a wider scope, taking advantages of allocation results, it is the petroleum management process by which ownership of extracted hydrocarbons is determined and tracked from a point of sale or discharge back to the point of extraction. In this way, hydrocarbon accounting also covers inventory control, material balance, and practices to trace ownership of hydrocarbons being transported in a transportation system, e.g. through pipelines to customers distant from the production plant.\n",
        "\n",
        "In an allocation problem, contributing sources are more widely natural gas streams, fluid flows or multiphase flows derived from formations or zones in a well, from wells, and from fields, unitised production entities or production facilities. In hydrocarbon accounting, quantities of extracted hydrocarbon can be further split by ownership, by \"cost oil\" or \"profit oil\" categories, and broken down to individual composition fraction types. Such components may be alkane hydrocarbons, boiling point fractions, and mole weight fractions.\n",
        "\n"
      ],
      "metadata": {
        "id": "z2BKO_zSX54a"
      }
    },
    {
      "cell_type": "code",
      "source": [
        "#@title Introduction to Allocation\n",
        "#@markdown This video gives an intriduction to allocation of oil and gas\n",
        "from IPython.display import YouTubeVideo\n",
        "YouTubeVideo('pdIzRGTgmco', width=600, height=400)"
      ],
      "metadata": {
        "colab": {
          "base_uri": "https://localhost:8080/",
          "height": 422
        },
        "cellView": "form",
        "id": "S1Zn6wSkhbD8",
        "outputId": "85e187c9-dfdd-4cfc-9703-34617aabb059"
      },
      "execution_count": 2,
      "outputs": [
        {
          "output_type": "execute_result",
          "data": {
            "text/html": [
              "\n",
              "        <iframe\n",
              "            width=\"600\"\n",
              "            height=\"400\"\n",
              "            src=\"https://www.youtube.com/embed/pdIzRGTgmco\"\n",
              "            frameborder=\"0\"\n",
              "            allowfullscreen\n",
              "        ></iframe>\n",
              "        "
            ],
            "text/plain": [
              "<IPython.lib.display.YouTubeVideo at 0x7f74631bd490>"
            ],
            "image/jpeg": "[encoded data removed]"
          },
          "metadata": {},
          "execution_count": 2
        }
      ]
    },
    {
      "cell_type": "markdown",
      "source": [
        "# Process simulation for allocation"
      ],
      "metadata": {
        "id": "8J_B0ZW6YnBT"
      }
    },
    {
      "cell_type": "code",
      "source": [
        "inputdata = {\n",
        "  'feedFlowRateWellA': 10,\n",
        "  'wellPressure': 280.0,\n",
        "  'wellTemperature':200.0,\n",
        "  'topsidePressure': 90.0,\n",
        "  'topsideTemperature': 5.0,\n",
        "  'firstStagePressure': 75.0, \n",
        "  'temperatureOilHeater' : 75.9,\n",
        "  'secondStagePressure': 8.6,\n",
        "  'thirdStagePressure': 1.9,\n",
        "  'firstStageSuctionCoolerTemperature': 25.3, \n",
        "  'secondStageSuctionCoolerTemperature': 24.5, \n",
        "  'thirdStageSuctionCoolerTemperature':25.0,\n",
        "  'firstStageExportCoolerTemperature': 25.3, \n",
        "  'secondStageExportCoolerTemperature': 24.5\n",
        "}"
      ],
      "metadata": {
        "id": "eI3E7rf_YvAD"
      },
      "execution_count": 3,
      "outputs": []
    },
    {
      "cell_type": "code",
      "source": [
        "from neqsim.thermo import fluid, printFrame\n",
        "from neqsim.process import compressor, cooler, separator3phase, getProcess, clearProcess, mixer, heater, stream, pump, separator, runProcess, stream, saturator, valve, filters, heatExchanger, simpleTEGAbsorber,distillationColumn, waterStripperColumn, recycle2, setpoint, calculator\n",
        "\n",
        "clearProcess()\n",
        "\n",
        "wellFluid = fluid('pr')\n",
        "wellFluid.addComponent(\"nitrogen\", 0.08)\n",
        "wellFluid.addComponent(\"CO2\", 3.56)\n",
        "wellFluid.addComponent(\"methane\", 87.36)\n",
        "wellFluid.addComponent(\"ethane\", 4.02)\n",
        "wellFluid.addComponent(\"propane\", 1.54)\n",
        "wellFluid.addComponent(\"i-butane\", 0.2)\n",
        "wellFluid.addComponent(\"n-butane\", 0.42)\n",
        "wellFluid.addComponent(\"i-pentane\", 0.15)\n",
        "wellFluid.addComponent(\"n-pentane\", 0.20)\n",
        "\t\t\n",
        "wellFluid.addTBPfraction(\"C6\", 3.24, 84.99/1000.0, 695.0/1000.0)\n",
        "wellFluid.addTBPfraction(\"C7\", 1.34, 97.87/1000.0, 718.0/1000.0)\n",
        "wellFluid.addTBPfraction(\"C8\", 1.33, 111.54/1000.0, 729.0/1000.0)\n",
        "wellFluid.addTBPfraction(\"C9\", 1.19, 126.1/1000.0, 749.0/1000.0)\n",
        "wellFluid.addTBPfraction(\"C10\", 1.15, 140.14/1000.0, 760.0/1000.0)\n",
        "wellFluid.addTBPfraction(\"C11\", 1.69, 175.0/1000.0, 830.0/1000.0)\n",
        "wellFluid.addTBPfraction(\"C12\", 1.5, 280.0/1000.0, 914.0/1000.0)\n",
        "wellFluid.addTBPfraction(\"C13\", 2.103, 560.0/1000.0, 980.0/1000.0)\n",
        "\n",
        "wellFluid.setMixingRule(2)\n",
        "wellFluid.init(0)\n",
        "\n",
        "wellFluid.setMolarComposition([0.08, 3.56, 87.36, 4.02, 1.54, 0.2, 0.42, 0.15, 0.2, 1.24, 1.34, 1.33, 1.19, 1.15, 1.69, 1.5, 1.03])\n",
        "\n",
        "wellStream = stream(wellFluid)\n",
        "wellStream.setName(\"dry well stream\")\n",
        "wellStream.setFlowRate(inputdata['feedFlowRateWellA'], \"MSm3/day\")\n",
        "wellStream.setTemperature(inputdata['wellTemperature'], \"C\")\n",
        "wellStream.setPressure(inputdata['wellPressure'], \"bara\")\n",
        "\n",
        "saturatedFeedGas = saturator(wellStream)\n",
        "saturatedFeedGas.setName(\"water saturator\")\n",
        "\n",
        "waterSaturatedFeedGas = stream(saturatedFeedGas.getOutStream())\n",
        "waterSaturatedFeedGas.setName(\"water saturated feed gas\")\n",
        "\n",
        "feedTPsetter = heater(waterSaturatedFeedGas)\n",
        "feedTPsetter.setName('inletTP')\n",
        "feedTPsetter.setOutPressure(inputdata['topsidePressure'], \"bara\")\n",
        "feedTPsetter.setOutTemperature(inputdata['topsideTemperature'], \"C\")\n",
        "\n",
        "chokeValve = valve(feedTPsetter.getOutStream())\n",
        "chokeValve.setOutletPressure(inputdata['firstStagePressure'], 'bara')\n",
        "\n",
        "feedToOffshoreProcess = stream(chokeValve.getOutStream())\n",
        "feedToOffshoreProcess.setName(\"feed to offshore\")\n",
        "\n",
        "firstStageSeparator = separator3phase(feedToOffshoreProcess)\n",
        "firstStageSeparator.setName(\"1st stage separator\")\n",
        "\n",
        "oilHeaterFromFirstStage = heater(firstStageSeparator.getOilOutStream())\n",
        "oilHeaterFromFirstStage.setName(\"oil heater second stage\")\n",
        "oilHeaterFromFirstStage.setOutTemperature(inputdata['temperatureOilHeater'],'C')\n",
        "\n",
        "oilThrotValve = valve(oilHeaterFromFirstStage.getOutStream())\n",
        "oilThrotValve.setName(\"valve oil from first stage\")\n",
        "oilThrotValve.setOutletPressure(inputdata['secondStagePressure'])\n",
        "\n",
        "secondStageSeparator = separator3phase(oilThrotValve.getOutStream())\n",
        "secondStageSeparator.setName(\"2nd stage separator\")\n",
        "\n",
        "oilThrotValve2 = valve(secondStageSeparator.getOilOutStream())\n",
        "oilThrotValve2.setName(\"valve oil from second stage\")\n",
        "oilThrotValve2.setOutletPressure(inputdata['thirdStagePressure'])\n",
        "\n",
        "thirdStageSeparator = separator3phase(oilThrotValve2.getOutStream())\n",
        "thirdStageSeparator.setName(\"3rd stage separator\")\n",
        "\n",
        "oilThirdStageToSep =  wellStream.clone()\n",
        "oilThirdStageToSep.setName(\"resyc oil\")\n",
        "thirdStageSeparator.addStream(oilThirdStageToSep)\n",
        "\n",
        "stableOil = stream(thirdStageSeparator.getOilOutStream())\n",
        "stableOil.setName(\"stable oil\")\n",
        "\n",
        "stableOilPump = pump(stableOil,15.0,\"stable oil pump\")\n",
        "\n",
        "firstStageCooler = cooler(thirdStageSeparator.getGasOutStream())\n",
        "firstStageCooler.setName(\"1st stage cooler\")\n",
        "firstStageCooler.setOutTemperature(inputdata['firstStageSuctionCoolerTemperature'],'C')\n",
        "\n",
        "firstStageScrubber = separator(firstStageCooler.getOutStream())\n",
        "firstStageScrubber.setName(\"1st stage scrubber\")\n",
        "\n",
        "firstStageCompressor = compressor(firstStageScrubber.getGasOutStream())\n",
        "firstStageCompressor.setName(\"1st stage compressor\")\n",
        "firstStageCompressor.setOutletPressure(inputdata['secondStagePressure'])\n",
        "firstStageCompressor.setIsentropicEfficiency(0.75)\n",
        "\n",
        "secondStageCooler = cooler(firstStageCompressor.getOutStream())\n",
        "secondStageCooler.setName(\"2nd stage cooler\")\n",
        "secondStageCooler.setOutTemperature(inputdata['secondStageSuctionCoolerTemperature'],'C')\n",
        "\n",
        "secondStageScrubber = separator(secondStageCooler.getOutStream())\n",
        "secondStageScrubber.setName(\"2nd stage scrubber\")\n",
        "\n",
        "secondStageCompressor = compressor(secondStageScrubber.getGasOutStream())\n",
        "secondStageCompressor.setName(\"2nd stage compressor\")\n",
        "secondStageCompressor.setOutletPressure(inputdata['firstStagePressure'])\n",
        "secondStageCompressor.setIsentropicEfficiency(0.75)\n",
        "\n",
        "richGasMixer = mixer(\"fourth Stage mixer\")\n",
        "richGasMixer.addStream(secondStageCompressor.getOutStream())\n",
        "richGasMixer.addStream(firstStageSeparator.getGasOutStream())\n",
        "\n",
        "dewPointControlCooler = cooler(richGasMixer.getOutStream())\n",
        "dewPointControlCooler.setName(\"dew point cooler\")\n",
        "dewPointControlCooler.setOutTemperature(inputdata['thirdStageSuctionCoolerTemperature'],'C')\n",
        "\n",
        "dewPointScrubber = separator(dewPointControlCooler.getOutStream())\n",
        "dewPointScrubber.setName(\"dew point scrubber\")\n",
        "\n",
        "lpLiqmixer = mixer(\"LP liq gas mixer\");\n",
        "lpLiqmixer.addStream(firstStageScrubber.getLiquidOutStream());\n",
        "lpLiqmixer.addStream(secondStageScrubber.getLiquidOutStream());\n",
        "lpLiqmixer.addStream(dewPointScrubber.getLiquidOutStream());\n",
        "\n",
        "lpResycle = recycle2(\"LP liq resycle\")\n",
        "lpResycle.addStream(lpLiqmixer.getOutStream())\n",
        "lpResycle.setOutletStream(oilThirdStageToSep)\n",
        "\n",
        "exportCompressor1 = compressor(dewPointScrubber.getGasOutStream())\n",
        "exportCompressor1.setName(\"export 1st stage\")\n",
        "exportCompressor1.setOutletPressure(140.0)\n",
        "exportCompressor1.setIsentropicEfficiency(0.75)\n",
        "\n",
        "exportInterstageCooler = cooler(exportCompressor1.getOutStream())\n",
        "exportInterstageCooler.setName(\"interstage stage cooler\")\n",
        "exportInterstageCooler.setOutTemperature(inputdata['firstStageExportCoolerTemperature'],'C')\n",
        "\n",
        "exportCompressor2= compressor(exportInterstageCooler.getOutStream())\n",
        "exportCompressor2.setName(\"export 2nd stage\")\n",
        "exportCompressor2.setOutletPressure(200.0)\n",
        "exportCompressor2.setIsentropicEfficiency(0.75)\n",
        "\n",
        "exportCooler = cooler(exportCompressor1.getOutStream())\n",
        "exportCooler.setName(\"export cooler\")\n",
        "exportCooler.setOutTemperature(inputdata['secondStageExportCoolerTemperature'],'C')\n",
        "\n",
        "exportGas = stream(exportCooler.getOutStream())\n",
        "exportGas.setName(\"export gas\")\n",
        "\n",
        "oilprocess = getProcess()"
      ],
      "metadata": {
        "id": "BLc5mDf4Y9VT"
      },
      "execution_count": 4,
      "outputs": []
    },
    {
      "cell_type": "code",
      "source": [
        "oilprocess.run()"
      ],
      "metadata": {
        "id": "vmy81v2NZF1L"
      },
      "execution_count": 5,
      "outputs": []
    },
    {
      "cell_type": "code",
      "source": [
        "TVP = stableOil.TVP(20.0, 'C')\n",
        "cricondenbar = exportGas.CCB('bara')\n",
        "gasexport = exportGas.getFlowRate('MSm3/day')\n",
        "oilexport = stableOil.getFlowRate('m3/hr')\n",
        "\n",
        "print('TVP [bara] ', TVP)\n",
        "print('cricondenbar [bara] ', cricondenbar)\n",
        "print('gas export [MSm3/day] ', gasexport)\n",
        "print('oil export [m3/hr] ', oilexport)"
      ],
      "metadata": {
        "colab": {
          "base_uri": "https://localhost:8080/"
        },
        "id": "kov6bLXOZJRD",
        "outputId": "05295a6f-d638-42c4-94c6-7ec09eccceb3"
      },
      "execution_count": 6,
      "outputs": [
        {
          "output_type": "stream",
          "name": "stdout",
          "text": [
            "TVP [bara]  1.0019103056510192\n",
            "cricondenbar [bara]  88.6410913139977\n",
            "gas export [MSm3/day]  8.180799323587202\n",
            "oil export [m3/hr]  397.6968985368483\n"
          ]
        }
      ]
    },
    {
      "cell_type": "markdown",
      "source": [
        "#ORF factors\n",
        "In the following code the ORF factors are calculated"
      ],
      "metadata": {
        "id": "aMj8rZG2aB7N"
      }
    },
    {
      "cell_type": "code",
      "source": [
        "componentNames = ['methane', 'ethane', 'propane', 'i-butane', 'n-butane', 'i-pentane', 'n-pentane', 'C6_PC','C9_PC']\n",
        "\n",
        "print ('ORF.......................')\n",
        "for name in componentNames:\n",
        "  total = wellStream.getFluid().getComponent(name).getFlowRate('kg/hr')\n",
        "  ORF = stableOil.getFluid().getComponent(name).getFlowRate('kg/hr')/total\n",
        "  print('ORF ', name, ' ', ORF)\n"
      ],
      "metadata": {
        "colab": {
          "base_uri": "https://localhost:8080/"
        },
        "id": "dq59pYRIaBlN",
        "outputId": "98c3902f-fdfb-48f7-a8a5-dee9daccd768"
      },
      "execution_count": 8,
      "outputs": [
        {
          "output_type": "stream",
          "name": "stdout",
          "text": [
            "ORF.......................\n",
            "ORF  methane   0.0003887035612746275\n",
            "ORF  ethane   0.015952158128644135\n",
            "ORF  propane   0.11815281265776598\n",
            "ORF  i-butane   0.3041733469992136\n",
            "ORF  n-butane   0.41563142326894825\n",
            "ORF  i-pentane   0.6917879673764595\n",
            "ORF  n-pentane   0.7716164520002414\n",
            "ORF  C6_PC   1.0306331075569908\n",
            "ORF  C9_PC   1.3056743337535277\n"
          ]
        }
      ]
    },
    {
      "cell_type": "markdown",
      "source": [
        "# Adding a new well stream\n",
        "In the following example we will add a new well stream and add it to the inlet separator."
      ],
      "metadata": {
        "id": "J8v0XKXn_tGn"
      }
    },
    {
      "cell_type": "code",
      "source": [
        "wellFluid2 = fluid('pr')\n",
        "wellFluid2.addComponent(\"nitrogen\", 0.08)\n",
        "wellFluid2.addComponent(\"CO2\", 3.56)\n",
        "wellFluid2.addComponent(\"methane\", 87.36)\n",
        "wellFluid2.addComponent(\"ethane\", 4.02)\n",
        "wellFluid2.addComponent(\"propane\", 1.54)\n",
        "wellFluid2.addComponent(\"i-butane\", 0.2)\n",
        "wellFluid2.addComponent(\"n-butane\", 0.42)\n",
        "wellFluid2.addComponent(\"i-pentane\", 0.15)\n",
        "wellFluid2.addComponent(\"n-pentane\", 0.20)\n",
        "\t\t\n",
        "wellFluid2.addTBPfraction(\"C6\", 3.24, 84.99/1000.0, 695.0/1000.0)\n",
        "wellFluid2.addTBPfraction(\"C7\", 1.34, 97.87/1000.0, 718.0/1000.0)\n",
        "wellFluid2.addTBPfraction(\"C8\", 1.33, 111.54/1000.0, 729.0/1000.0)\n",
        "wellFluid2.addTBPfraction(\"C9\", 1.19, 126.1/1000.0, 749.0/1000.0)\n",
        "wellFluid2.addTBPfraction(\"C10\", 1.15, 140.14/1000.0, 760.0/1000.0)\n",
        "wellFluid2.addTBPfraction(\"C11\", 1.69, 175.0/1000.0, 830.0/1000.0)\n",
        "wellFluid2.addTBPfraction(\"C12\", 1.5, 280.0/1000.0, 914.0/1000.0)\n",
        "wellFluid2.addTBPfraction(\"C13\", 2.103, 560.0/1000.0, 980.0/1000.0)\n",
        "\n",
        "wellFluid.setMixingRule(2)\n",
        "wellFluid.init(0)\n",
        "\n",
        "wellFluid.setMolarComposition([0.08, 3.56, 45.36, 4.02, 1.54, 0.2, 0.42, 0.15, 0.2, 1.24, 1.34, 1.33, 1.19, 2.15, 2.69, 3.5, 1.03])\n",
        "\n",
        "wellStream2 = stream(wellFluid2)\n",
        "wellStream2.setName(\"dry well stream 2\")\n",
        "wellStream2.setFlowRate(inputdata['feedFlowRateWellA'], \"MSm3/day\")\n",
        "wellStream2.setTemperature(inputdata['wellTemperature'], \"C\")\n",
        "wellStream2.setPressure(inputdata['wellPressure'], \"bara\")\n",
        "\n",
        "\n",
        "saturatedFeedGas2 = saturator(wellStream2)\n",
        "saturatedFeedGas2.setName(\"water saturator 2\")\n",
        "\n",
        "waterSaturatedFeedGas2 = stream(saturatedFeedGas.getOutStream())\n",
        "waterSaturatedFeedGas2.setName(\"water saturated feed gas 2\")\n",
        "\n",
        "feedTPsetter2 = heater(waterSaturatedFeedGas)\n",
        "feedTPsetter2.setName('inletTP')\n",
        "feedTPsetter2.setOutPressure(inputdata['topsidePressure'], \"bara\")\n",
        "feedTPsetter2.setOutTemperature(inputdata['topsideTemperature'], \"C\")\n",
        "\n",
        "firstStageSeparator.addStream(feedTPsetter2.getOutStream())"
      ],
      "metadata": {
        "id": "-gzBm5iL_zzN"
      },
      "execution_count": 9,
      "outputs": []
    },
    {
      "cell_type": "code",
      "source": [
        "oilprocess.run()"
      ],
      "metadata": {
        "id": "UZq2G5zRA3id"
      },
      "execution_count": 10,
      "outputs": []
    },
    {
      "cell_type": "code",
      "source": [
        "TVP = stableOil.TVP(20.0, 'C')\n",
        "cricondenbar = exportGas.CCB('bara')\n",
        "gasexport = exportGas.getFlowRate('MSm3/day')\n",
        "oilexport = stableOil.getFlowRate('m3/hr')\n",
        "\n",
        "print('TVP [bara] ', TVP)\n",
        "print('cricondenbar [bara] ', cricondenbar)\n",
        "print('gas export [MSm3/day] ', gasexport)\n",
        "print('oil export [m3/hr] ', oilexport)"
      ],
      "metadata": {
        "colab": {
          "base_uri": "https://localhost:8080/"
        },
        "id": "WKIM6Dr7A6MF",
        "outputId": "67d202dd-8c48-4517-a33d-4e14938fca2f"
      },
      "execution_count": 11,
      "outputs": [
        {
          "output_type": "stream",
          "name": "stdout",
          "text": [
            "TVP [bara]  1.0180596029676439\n",
            "cricondenbar [bara]  86.92683866936937\n",
            "gas export [MSm3/day]  11.895726965688752\n",
            "oil export [m3/hr]  1758.7779740991891\n"
          ]
        }
      ]
    },
    {
      "cell_type": "code",
      "source": [
        "componentNames = ['methane', 'ethane', 'propane', 'i-butane', 'n-butane', 'i-pentane', 'n-pentane', 'C6_PC','C9_PC']\n",
        "\n",
        "print ('ORF.......................')\n",
        "for name in componentNames:\n",
        "  total = wellStream.getFluid().getComponent(name).getFlowRate('kg/hr')+wellStream2.getFluid().getComponent(name).getFlowRate('kg/hr')\n",
        "  ORF = stableOil.getFluid().getComponent(name).getFlowRate('kg/hr')/total\n",
        "  print('ORF ', name, ' ', ORF)"
      ],
      "metadata": {
        "colab": {
          "base_uri": "https://localhost:8080/"
        },
        "id": "5_Pak0odA_0s",
        "outputId": "d3c7e718-fc01-406a-981a-11c4e8d11719"
      },
      "execution_count": 13,
      "outputs": [
        {
          "output_type": "stream",
          "name": "stdout",
          "text": [
            "ORF.......................\n",
            "ORF  methane   0.0009938332978591132\n",
            "ORF  ethane   0.04488589765336575\n",
            "ORF  propane   0.26429493249193464\n",
            "ORF  i-butane   0.6095958425423027\n",
            "ORF  n-butane   0.7990767914369237\n",
            "ORF  i-pentane   1.2766636219243594\n",
            "ORF  n-pentane   1.412192945616172\n",
            "ORF  C6_PC   1.0197016401008985\n",
            "ORF  C9_PC   2.551797943069573\n"
          ]
        }
      ]
    }
  ]
}