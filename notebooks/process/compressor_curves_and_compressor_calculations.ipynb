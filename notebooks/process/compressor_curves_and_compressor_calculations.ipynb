{
  "nbformat": 4,
  "nbformat_minor": 0,
  "metadata": {
    "colab": {
      "provenance": [],
      "collapsed_sections": [
        "cl_su2AaMN15",
        "paCMcznpI3HG",
        "GIGpVA67MruD",
        "B0lcjmraPhJ4",
        "KAfm4lhyEuDV",
        "8VWlrchfP53W",
        "4U2UUtt3DvSX",
        "NMCSJER8QbS2",
        "65Gb1lkTBB9L"
      ],
      "authorship_tag": "ABX9TyOtbCvK/i/jUdyNVCBKg08X",
      "include_colab_link": true
    },
    "kernelspec": {
      "name": "python3",
      "display_name": "Python 3"
    },
    "language_info": {
      "name": "python"
    }
  },
  "cells": [
    {
      "cell_type": "markdown",
      "metadata": {
        "id": "view-in-github",
        "colab_type": "text"
      },
      "source": [
        "<a href=\"https://colab.research.google.com/github/EvenSol/NeqSim-Colab/blob/master/notebooks/process/compressor_curves_and_compressor_calculations.ipynb\" target=\"_parent\"><img src=\"https://colab.research.google.com/assets/colab-badge.svg\" alt=\"Open In Colab\"/></a>"
      ]
    },
    {
      "cell_type": "code",
      "execution_count": null,
      "metadata": {
        "id": "6-AZ7o_0Mh0h"
      },
      "outputs": [],
      "source": [
        "%%capture\n",
        "!pip install git+https://github.com/equinor/neqsim-python.git"
      ]
    },
    {
      "cell_type": "markdown",
      "source": [
        "# NeqSim and compressor calculations\n",
        "1. https://github.com/equinor/neqsim/wiki/Compressor-Calc\n",
        "2. https://github.com/equinor/neqsim/wiki/Compressor-curves"
      ],
      "metadata": {
        "id": "HbqfBmyfIk0G"
      }
    },
    {
      "cell_type": "markdown",
      "source": [
        "# Compressor Curves\n",
        "We define the compressor curves in python code:"
      ],
      "metadata": {
        "id": "cl_su2AaMN15"
      }
    },
    {
      "cell_type": "code",
      "source": [
        "# Define chart data\n",
        "chartConditions = [] #used to set molecular weight etc.\n",
        "\n",
        "speed = [7000, 7500, 8000, 8500, 9000, 9500, 9659, 10000, 10500]\n",
        "flow = [\n",
        "    [4512.7, 5120.8, 5760.9, 6401, 6868.27],\n",
        "    [4862.47, 5486.57, 6172.39, 6858.21, 7550.89],\n",
        "    [5237.84, 5852.34, 6583.88, 7315.43, 8046.97, 8266.43],\n",
        "    [5642.94, 6218.11, 6995.38, 7772.64, 8549.9, 9000.72],\n",
        "    [6221.77, 6583.88, 7406.87, 8229.85, 9052.84, 9768.84],\n",
        "    [6888.85, 6949.65, 7818.36, 8687.07, 9555.77, 10424.5, 10546.1],\n",
        "    [7109.83, 7948.87, 8832.08, 9715.29, 10598.5, 10801.6],\n",
        "    [7598.9, 8229.85, 9144.28, 10058.7, 10973.1, 11338.9],\n",
        "    [8334.1, 8641.35, 9601.5, 10561.6, 11521.8, 11963.5],\n",
        "]\n",
        "head = [\n",
        "    [61.885, 59.639, 56.433, 52.481, 49.132],\n",
        "    [71.416, 69.079, 65.589, 61.216, 55.858],\n",
        "    [81.621, 79.311, 75.545, 70.727, 64.867, 62.879],\n",
        "    [92.493, 90.312, 86.3, 81.079, 74.658, 70.216],\n",
        "    [103.512, 102.073, 97.83, 92.254, 85.292, 77.638],\n",
        "    [114.891, 114.632, 110.169, 104.221, 96.727, 87.002, 85.262],\n",
        "    [118.595, 114.252, 108.203, 100.55, 90.532, 87.54],\n",
        "    [126.747, 123.376, 117.113, 109.056, 98.369, 92.632],\n",
        "    [139.082, 137.398, 130.867, 122.264, 110.548, 103.247],\n",
        "]\n",
        "polyEff = [\n",
        "    [78.3, 78.2, 77.2, 75.4, 73.4],\n",
        "    [78.3, 78.3, 77.5, 75.8, 73],\n",
        "    [78.2, 78.4, 77.7, 76.1, 73.5, 72.5],\n",
        "    [78.2, 78.4, 77.9, 76.4, 74, 71.9],\n",
        "    [78.3, 78.4, 78, 76.7, 74.5, 71.2],\n",
        "    [78.3, 78.4, 78.1, 77, 74.9, 71.3, 70.5],\n",
        "    [78.4, 78.1, 77.1, 75, 71.4, 70.2],\n",
        "    [78.3, 78.2, 77.2, 75.2, 71.7, 69.5],\n",
        "    [78.2, 78.2, 77.3, 75.5, 72.2, 69.6],\n",
        "]"
      ],
      "metadata": {
        "id": "-1Q2vZ6QMTmI"
      },
      "execution_count": null,
      "outputs": []
    },
    {
      "cell_type": "code",
      "source": [
        "surgeflow = [4512.7, 4862.47, 5237.84, 5642.94, 6221.77, 6888.85, 7109.83, 7598.9]\n",
        "surgehead = [61.885, 71.416, 81.621, 92.493, 103.512, 114.891, 118.595, 126.747]"
      ],
      "metadata": {
        "id": "IPBFXvcwPKrZ"
      },
      "execution_count": null,
      "outputs": []
    },
    {
      "cell_type": "markdown",
      "source": [
        "# Establish the process model"
      ],
      "metadata": {
        "id": "paCMcznpI3HG"
      }
    },
    {
      "cell_type": "code",
      "source": [
        "import neqsim\n",
        "import neqsim.thermo\n",
        "from neqsim.thermo import fluid\n",
        "from neqsim.process import compressor, stream, clearProcess\n",
        "\n",
        "clearProcess()\n",
        "\n",
        "# Define the fluid\n",
        "testFluid = fluid('pr', 273.15 + 29.96, 75.73)\n",
        "testFluid.addComponent('nitrogen', 0.7823)\n",
        "testFluid.addComponent('CO2', 1.245)\n",
        "testFluid.addComponent('methane', 88.4681)\n",
        "testFluid.addComponent('ethane', 4.7652)\n",
        "testFluid.addComponent('propane', 2.3669)\n",
        "testFluid.addComponent('i-butane', 0.3848)\n",
        "testFluid.addComponent('n-butane', 0.873)\n",
        "testFluid.addComponent('i-pentane', 0.243)\n",
        "testFluid.addComponent('n-pentane', 0.2947)\n",
        "testFluid.addComponent('n-hexane', 0.2455)\n",
        "testFluid.addComponent('n-heptane', 0.1735)\n",
        "testFluid.addComponent('n-octane', 0.064)\n",
        "testFluid.addComponent('water', 0.076)\n",
        "testFluid.setMixingRule('classic')\n",
        "\n",
        "# Create and run the stream and set temperature, pressure and flow rate\n",
        "stream_1 = stream('Stream1', testFluid)\n",
        "stream_1.setTemperature(29.96, 'C')\n",
        "stream_1.setPressure(75.73, 'bara')\n",
        "stream_1.setFlowRate(559401.418270102, 'kg/hr')\n",
        "stream_1.run()\n",
        "\n",
        "# Print fluid properties\n",
        "stream_1.getFluid().prettyPrint()\n",
        "\n",
        "# Define the compressor\n",
        "comp1 = compressor('compressor 1', stream_1)\n",
        "comp1.setCompressorChartType('interpolate and extrapolate')\n",
        "comp1.setUsePolytropicCalc(True)\n",
        "comp1.setSpeed(8765)\n",
        "comp1.setUseGERG2008(False)\n",
        "\n",
        "comp1.getCompressorChart().setCurves(chartConditions, speed, flow, head, polyEff)\n",
        "comp1.getCompressorChart().setHeadUnit('kJ/kg')\n",
        "\n",
        "comp1.getCompressorChart().getSurgeCurve().setCurve(chartConditions, surgeflow, surgehead)\n",
        "\n",
        "comp1.getAntiSurge().setSurgeControlFactor(1.0)\n",
        "comp1.run()"
      ],
      "metadata": {
        "id": "qz4Yg6FXI7kG"
      },
      "execution_count": null,
      "outputs": []
    },
    {
      "cell_type": "markdown",
      "source": [
        "# 1. The interpolate and extrapolate compressor curve method\n",
        "\n",
        "See [documentation](https://github.com/equinor/neqsim/wiki/Compressor-curves#compressor-calculations-using-interpolation-and-extrapolation-method)\n",
        "\n"
      ],
      "metadata": {
        "id": "GIGpVA67MruD"
      }
    },
    {
      "cell_type": "markdown",
      "source": [
        "## Descrption of \"interpolate and extrapolate\" method\n",
        "This class predicts compressor performance using map lookup and extrapolation. It involves:\n",
        "\n",
        "Map Lookup: Finding closest data points to the operating conditions.\n",
        "Interpolation (if needed): Estimating performance between data points.\n",
        "Extrapolation (if needed): Predicting performance outside the map's range.\n",
        "Mathematical Equations in Colab Markdown\n",
        "Interpolation:\n",
        "\n",
        "Bilinear Interpolation: Used for interpolating across two dimensions (e.g., flow and speed).\n",
        "\n",
        "$f(x, y) \\approx f(x_1, y_1)(1 - \\alpha)(1 - \\beta) + f(x_2, y_1)\\alpha(1 - \\beta) + f(x_1, y_2)(1 - \\alpha)\\beta + f(x_2, y_2)\\alpha\\beta$\n",
        "Use code with caution\n",
        "where: - $f(x, y)$ is the interpolated value at coordinates $(x, y)$. - $f(x_1, y_1)$, $f(x_2, y_1)$, $f(x_1, y_2)$, $f(x_2, y_2)$ are values at surrounding data points. - $\\alpha = \\frac{x - x_1}{x_2 - x_1}$ and $\\beta = \\frac{y - y_1}{y_2 - y_1}$ are interpolation factors.\n",
        "\n",
        "Extrapolation:\n",
        "\n",
        "Extrapolation along Speed Lines: Assumes head and efficiency vary along lines of constant speed.\n",
        "\n",
        "$H = aN^2 + bNQ + cQ^2$\n",
        "     $\\eta = dN + eQ + f$\n",
        "Use code with caution\n",
        " where:\n",
        "   - $H$ is the head, $Q$ is the flow rate, $N$ is the speed, and $\\eta$ is the efficiency.\n",
        "   - $a$, $b$, $c$, $d$, $e$, $f$ are coefficients determined from map data.\n",
        "Other Extrapolation Methods: NeqSim might employ other techniques, like polynomial or exponential functions.\n",
        "Key Methods and Math\n",
        "calcHead(): Estimates compressor head using map lookup and interpolation/extrapolation based on the equations above.\n",
        "calcEfficiency(): Estimates compressor efficiency using a similar approach to calcHead(), possibly using the efficiency equation above.\n",
        "calcSurge(): Calculates surge conditions, likely by finding the intersection of operating conditions with the surge curve in the map.\n",
        "\n",
        "\n"
      ],
      "metadata": {
        "id": "nv8S3firEBCF"
      }
    },
    {
      "cell_type": "code",
      "source": [
        "comp1.setCompressorChartType('interpolate and extrapolate')\n",
        "comp1.getCompressorChart().setCurves(chartConditions, speed, flow, head, polyEff)\n",
        "comp1.getCompressorChart().getSurgeCurve().setCurve(chartConditions, surgeflow, surgehead)\n",
        "comp1.getCompressorChart().setHeadUnit('kJ/kg')\n",
        "comp1.run()\n",
        "\n",
        "# Logging results\n",
        "print(f\"Speed: {comp1.getSpeed()}\")\n",
        "print(f\"Outlet Pressure: {comp1.getOutletPressure()}\")\n",
        "print(f\"Outlet Temperature (°C): {comp1.getOutTemperature() - 273.15}\")\n",
        "print(f\"Inlet Flow Rate (m3/hr): {comp1.getInletStream().getFlowRate('m3/hr')}\")\n",
        "print(f\"Polytropic Head: {comp1.getPolytropicFluidHead()}\")\n",
        "print(f\"Polytropic Efficiency: {comp1.getPolytropicEfficiency()}\")\n",
        "print(f\"Distance to Surge: {comp1.getDistanceToSurge()}\")\n",
        "print(f\"Surge Flow Rate Margin: {comp1.getSurgeFlowRateMargin()}\")\n",
        "print(f\"Surge Flow Rate: {comp1.getSurgeFlowRate()}\")\n",
        "print(f\"Power (MW): {comp1.getPower('MW')}\")\n",
        "print(f\"Is in Surge: {comp1.isSurge()}\")"
      ],
      "metadata": {
        "colab": {
          "base_uri": "https://localhost:8080/"
        },
        "id": "Xxbm9YNzLdeA",
        "outputId": "4a626296-02ae-40f7-84cf-3baa7a9449ce"
      },
      "execution_count": null,
      "outputs": [
        {
          "output_type": "stream",
          "name": "stdout",
          "text": [
            "Speed: 8765.0\n",
            "Outlet Pressure: 158.7732888810945\n",
            "Outlet Temperature (°C): 93.8019936363861\n",
            "Inlet Flow Rate (m3/hr): 8111.242453468489\n",
            "Polytropic Head: 86.23770148382565\n",
            "Polytropic Efficiency: 0.7626474550172627\n",
            "Distance to Surge: 0.5002947355261009\n",
            "Surge Flow Rate Margin: 2704.8097963385153\n",
            "Surge Flow Rate: 5406.432657129973\n",
            "Power (MW): 17.570916286795605\n",
            "Is in Surge: False\n"
          ]
        }
      ]
    },
    {
      "cell_type": "markdown",
      "source": [
        "# 2. The interpolate method (extrapolation not possible)\n",
        "\n",
        "Se [documentation](https://github.com/equinor/neqsim/wiki/Compressor-curves#compressor-calculations-using-interpolation-and-extrapolation-method)\n"
      ],
      "metadata": {
        "id": "B0lcjmraPhJ4"
      }
    },
    {
      "cell_type": "markdown",
      "source": [
        "## Method description for interpolate method\n",
        "\n",
        "The CompressorChartAlternativeMapLookup class in NeqSim provides a way to predict compressor performance based on data from a performance map (chart). It primarily uses interpolation within the map's boundaries.\n",
        "\n",
        "Here's a description and output for Colab:\n",
        "\n",
        "Method Description: CompressorChartAlternativeMapLookup\n",
        "This class focuses on estimating compressor performance by:\n",
        "\n",
        "Map Lookup: Finding the closest data points in the compressor map to the given operating conditions (e.g., flow rate, speed).\n",
        "\n",
        "Interpolation: If an exact match is not found, it interpolates between nearby data points to approximate the desired performance characteristics.\n",
        "\n",
        "Important: This method generally does not perform extrapolation outside the map's data range.\n",
        "\n",
        "Mathematical Concepts:\n",
        "Interpolation:\n",
        "Bilinear Interpolation: Often used for 2D interpolation across flow rate and speed.\n",
        "Equation:\n",
        "\n",
        "f(x, y) ≈ f(x₁, y₁)(1 - α)(1 - β) + f(x₂, y₁)(α)(1 - β) + f(x₁, y₂)(1 - α)(β) + f(x₂, y₂)(α)(β)\n",
        "Use code with caution\n",
        " where:\n",
        "   -  `f(x, y)` is the interpolated value.\n",
        "   -  `f(x₁, y₁)`, `f(x₂, y₁)`, `f(x₁, y₂)`, `f(x₂, y₂)` are values at surrounding data points.\n",
        "   -  `α = (x - x₁) / (x₂ - x₁)` and `β = (y - y₁) / (y₂ - y₁)` are interpolation factors.\n",
        "Key Methods:\n",
        "calcHead(): Estimates compressor head.\n",
        "calcEfficiency(): Estimates compressor efficiency.\n",
        "calcSurge(): Estimates surge conditions (within map limits).points within the map's surge region to estimate surge conditions, but it would not typically perform extrapolation to predict surge outside the map's boundaries."
      ],
      "metadata": {
        "id": "KAfm4lhyEuDV"
      }
    },
    {
      "cell_type": "code",
      "source": [
        "comp1.setCompressorChartType('interpolate')\n",
        "comp1.getCompressorChart().setCurves(chartConditions, speed, flow, head, polyEff)\n",
        "comp1.getCompressorChart().getSurgeCurve().setCurve(chartConditions, surgeflow, surgehead)\n",
        "comp1.getCompressorChart().setHeadUnit('kJ/kg')\n",
        "comp1.run()\n",
        "\n",
        "# Logging results\n",
        "print(f\"Speed: {comp1.getSpeed()}\")\n",
        "print(f\"Outlet Pressure: {comp1.getOutletPressure()}\")\n",
        "print(f\"Outlet Temperature (°C): {comp1.getOutTemperature() - 273.15}\")\n",
        "print(f\"Inlet Flow Rate (m3/hr): {comp1.getInletStream().getFlowRate('m3/hr')}\")\n",
        "print(f\"Polytropic Head: {comp1.getPolytropicFluidHead()}\")\n",
        "print(f\"Polytropic Efficiency: {comp1.getPolytropicEfficiency()}\")\n",
        "print(f\"Distance to Surge: {comp1.getDistanceToSurge()}\")\n",
        "print(f\"Surge Flow Rate Margin: {comp1.getSurgeFlowRateMargin()}\")\n",
        "print(f\"Surge Flow Rate: {comp1.getSurgeFlowRate()}\")\n",
        "print(f\"Power (MW): {comp1.getPower('MW')}\")\n",
        "print(f\"Is in Surge: {comp1.isSurge()}\")"
      ],
      "metadata": {
        "colab": {
          "base_uri": "https://localhost:8080/"
        },
        "id": "_IWybVeXPkK_",
        "outputId": "d1399356-26b2-47d2-91a8-b44e7c5765ca"
      },
      "execution_count": null,
      "outputs": [
        {
          "output_type": "stream",
          "name": "stdout",
          "text": [
            "Speed: 8765.0\n",
            "Outlet Pressure: 158.2135387717481\n",
            "Outlet Temperature (°C): 93.52026031985628\n",
            "Inlet Flow Rate (m3/hr): 8111.242453468489\n",
            "Polytropic Head: 85.79774720204375\n",
            "Polytropic Efficiency: 0.7622231339229714\n",
            "Distance to Surge: 0.5055314232664454\n",
            "Surge Flow Rate Margin: 2723.6149831164603\n",
            "Surge Flow Rate: 5387.6274703520285\n",
            "Power (MW): 17.4910073110681\n",
            "Is in Surge: False\n"
          ]
        }
      ]
    },
    {
      "cell_type": "markdown",
      "source": [
        "# 3.0 The fan law method\n",
        "\n",
        "Se [documentation](https://github.com/equinor/neqsim/wiki/Compressor-curves#compressor-calculations-using-fan-law)"
      ],
      "metadata": {
        "id": "8VWlrchfP53W"
      }
    },
    {
      "cell_type": "markdown",
      "source": [
        "## Core Functionality of fan law method\n",
        "\n",
        "Fan Laws\n",
        "\n",
        "The fan laws describe the relationships between the following variables in a centrifugal compressor:\n",
        "\n",
        "Flow rate (Q): The volume of gas compressed per unit time.\n",
        "Head (H): The energy imparted to the gas by the compressor.\n",
        "Speed (N): The rotational speed of the compressor shaft.\n",
        "Power (P): The power consumed by the compressor.\n",
        "The fan laws are as follows:\n",
        "\n",
        "Flow Law: Flow rate is proportional to speed. $$ \\frac{Q_1}{Q_2} = \\frac{N_1}{N_2} $$\n",
        "Head Law: Head is proportional to the square of the speed. $$ \\frac{H_1}{H_2} = \\left(\\frac{N_1}{N_2}\\right)^2 $$\n",
        "Power Law: Power is proportional to the cube of the speed. $$ \\frac{P_1}{P_2} = \\left(\\frac{N_1}{N_2}\\right)^3 $$\n",
        "Application in CompressorChart.java\n",
        "\n",
        "The CompressorChart.java file uses the fan laws to generate compressor performance curves for different operating conditions. The calcHead, calcFlow, and calcPolytropicEfficiency methods in the code use the fan laws to calculate the head, flow rate, and polytropic efficiency at a given speed based on the values at a reference speed. This allows the code to predict the compressor's performance at various operating points within the operating range of the compressor.\n",
        "\n",
        "\n",
        "**Fan Laws**\n",
        "\n",
        "1.  **Flow Law:**\n",
        "    $ \\frac{Q_1}{Q_2} = \\frac{N_1}{N_2} $\n",
        "2.  **Head Law:**\n",
        "    $ \\frac{H_1}{H_2} = \\left(\\frac{N_1}{N_2}\\right)^2 $\n",
        "3.  **Power Law:**\n",
        "    $ \\frac{P_1}{P_2} = \\left(\\frac{N_1}{N_2}\\right)^3 $\n"
      ],
      "metadata": {
        "id": "4U2UUtt3DvSX"
      }
    },
    {
      "cell_type": "code",
      "source": [
        "comp1.setCompressorChartType('normal curves')\n",
        "comp1.getCompressorChart().setCurves(chartConditions, speed, flow, head, polyEff)\n",
        "comp1.getCompressorChart().getSurgeCurve().setCurve(chartConditions, surgeflow, surgehead)\n",
        "comp1.getCompressorChart().setHeadUnit('kJ/kg')\n",
        "comp1.run()\n",
        "\n",
        "# Logging results\n",
        "print(f\"Speed: {comp1.getSpeed()}\")\n",
        "print(f\"Outlet Pressure: {comp1.getOutletPressure()}\")\n",
        "print(f\"Outlet Temperature (°C): {comp1.getOutTemperature() - 273.15}\")\n",
        "print(f\"Inlet Flow Rate (m3/hr): {comp1.getInletStream().getFlowRate('m3/hr')}\")\n",
        "print(f\"Polytropic Head: {comp1.getPolytropicFluidHead()}\")\n",
        "print(f\"Polytropic Efficiency: {comp1.getPolytropicEfficiency()}\")\n",
        "print(f\"Distance to Surge: {comp1.getDistanceToSurge()}\")\n",
        "print(f\"Surge Flow Rate Margin: {comp1.getSurgeFlowRateMargin()}\")\n",
        "print(f\"Surge Flow Rate: {comp1.getSurgeFlowRate()}\")\n",
        "print(f\"Power (MW): {comp1.getPower('MW')}\")\n",
        "print(f\"Is in Surge: {comp1.isSurge()}\")"
      ],
      "metadata": {
        "colab": {
          "base_uri": "https://localhost:8080/"
        },
        "id": "p5Xgu5vCP9s6",
        "outputId": "f0ab49ec-d56f-4e0c-cc6d-b4808ed82115"
      },
      "execution_count": null,
      "outputs": [
        {
          "output_type": "stream",
          "name": "stdout",
          "text": [
            "Speed: 8765.0\n",
            "Outlet Pressure: 158.97969860054363\n",
            "Outlet Temperature (°C): 93.92402211119077\n",
            "Inlet Flow Rate (m3/hr): 8111.242453468489\n",
            "Polytropic Head: 86.40263949372887\n",
            "Polytropic Efficiency: 0.7624651160455247\n",
            "Distance to Surge: 0.4983329803640235\n",
            "Surge Flow Rate Margin: 2697.7311981146595\n",
            "Surge Flow Rate: 5413.511255353829\n",
            "Power (MW): 17.608732393100645\n",
            "Is in Surge: False\n"
          ]
        }
      ]
    },
    {
      "cell_type": "markdown",
      "source": [
        "# Automatic generation of compressor curves using NeqSim\n",
        "Se [documentation](https://github.com/equinor/neqsim/wiki/Compressor-curves#generation-of-compressor-curves)"
      ],
      "metadata": {
        "id": "NMCSJER8QbS2"
      }
    },
    {
      "cell_type": "markdown",
      "source": [
        "This class utilizes a simplified approach based on the concept of polytropic efficiency and the fan laws to generate performance curves for centrifugal compressors.\n",
        "\n",
        "Core Functionality\n",
        "\n",
        "Reference Point: A reference point is established, often at the compressor's design conditions or a known operating point. This point defines the head, flow rate, speed, and polytropic efficiency used as a basis for curve generation.\n",
        "\n",
        "Flow and Head Calculation: The fan laws are employed to calculate head and flow at different speeds relative to the reference point:\n",
        "\n",
        "Flow Law:\n",
        "\n",
        "Q2 = Q1 * (N2 / N1)\n",
        "Use code with caution\n",
        "    Where:\n",
        "    *   Q1, Q2: Flow rates at speeds N1 and N2, respectively.\n",
        "    *   N1, N2: Compressor speeds.\n",
        "\n",
        "*   **Head Law:**\n",
        "\n",
        "H2 = H1 * (N2 / N1)^2\n",
        "Use code with caution\n",
        "    Where:\n",
        "    *   H1, H2: Heads at speeds N1 and N2, respectively.\n",
        "Polytropic Efficiency: The polytropic efficiency is assumed to remain relatively constant across the operating range or to vary according to a simplified relationship with flow rate or speed.\n",
        "\n",
        "NeqSim's implementation may use a fixed value or apply a small correction factor based on the flow rate deviation from the reference point.\n",
        "Surge Curve Estimation: Surge conditions are estimated based on empirical relationships or simplified models derived from compressor characteristics. These relationships might involve flow rate, head, and speed, and are used to generate a surge curve, which defines the compressor's operational limit.\n",
        "\n",
        "Equations for Colab Text Cell\n",
        "\n",
        "You can directly paste the following equations into a Colab text cell:\n",
        "\n",
        "\n",
        "**Fan Laws**\n",
        "\n",
        "1.  Flow Law:\n",
        "    Q₂ = Q₁ * (N₂ / N₁)\n",
        "\n",
        "2.  Head Law:\n",
        "    H₂ = H₁ * (N₂ / N₁)²\n",
        "\n",
        "3.  Polytropic Head:\n",
        "    H_p = (Z * R * T₁ / MW) * (k / (k - 1)) * [(P₂ / P₁)^((k - 1) / k) - 1]\n",
        "\n",
        "Where:\n",
        "\n",
        "*   Q: Flow rate\n",
        "*   N: Speed\n",
        "*   H: Head\n",
        "*   H_p: Polytropic Head\n",
        "*   Z: Compressibility factor\n",
        "*   R: Ideal gas constant\n",
        "*   T₁: Inlet temperature\n",
        "*   MW: Molecular weight\n",
        "*   k: Polytropic exponent\n",
        "*   P₁, P₂: Inlet and outlet pressures, respectively.\n"
      ],
      "metadata": {
        "id": "TlDgWj-DIG-O"
      }
    },
    {
      "cell_type": "code",
      "source": [
        "from neqsim import jneqsim\n",
        "compchartgenerator1 = jneqsim.process.equipment.compressor.CompressorChartGenerator(comp1)\n",
        "compressor_chart1 = compchartgenerator1.generateCompressorChart(\"normal curves\")\n",
        "comp1.setCompressorChart(compressor_chart1)"
      ],
      "metadata": {
        "id": "EHWsEvGRBmsU"
      },
      "execution_count": null,
      "outputs": []
    },
    {
      "cell_type": "code",
      "source": [
        "comp1.run()\n",
        "# Logging results\n",
        "print(f\"Speed: {comp1.getSpeed()}\")\n",
        "print(f\"Outlet Pressure: {comp1.getOutletPressure()}\")\n",
        "print(f\"Outlet Temperature (°C): {comp1.getOutTemperature() - 273.15}\")\n",
        "print(f\"Inlet Flow Rate (m3/hr): {comp1.getInletStream().getFlowRate('m3/hr')}\")\n",
        "print(f\"Polytropic Head: {comp1.getPolytropicFluidHead()}\")\n",
        "print(f\"Polytropic Efficiency: {comp1.getPolytropicEfficiency()}\")\n",
        "print(f\"Distance to Surge: {comp1.getDistanceToSurge()}\")\n",
        "print(f\"Surge Flow Rate Margin: {comp1.getSurgeFlowRateMargin()}\")\n",
        "print(f\"Surge Flow Rate: {comp1.getSurgeFlowRate()}\")\n",
        "print(f\"Power (MW): {comp1.getPower('MW')}\")\n",
        "print(f\"Is in Surge: {comp1.isSurge()}\")"
      ],
      "metadata": {
        "colab": {
          "base_uri": "https://localhost:8080/"
        },
        "id": "R4rrUpC8Qfpk",
        "outputId": "436983c8-1db2-40dd-97a5-28efb63f1377"
      },
      "execution_count": null,
      "outputs": [
        {
          "output_type": "stream",
          "name": "stdout",
          "text": [
            "Speed: 8765.0\n",
            "Outlet Pressure: 158.9796985963348\n",
            "Outlet Temperature (°C): 93.9240221089064\n",
            "Inlet Flow Rate (m3/hr): 8111.242453468489\n",
            "Polytropic Head: 86.40263949040019\n",
            "Polytropic Efficiency: 0.7624651160455247\n",
            "Distance to Surge: 1.7749012206186667\n",
            "Surge Flow Rate Margin: 5188.168149706396\n",
            "Surge Flow Rate: 2923.0743037620923\n",
            "Power (MW): 17.60873239242226\n",
            "Is in Surge: False\n"
          ]
        }
      ]
    },
    {
      "cell_type": "markdown",
      "source": [
        "# Test run at different flow rates\n",
        "In the following script you can test the model at different flow rates"
      ],
      "metadata": {
        "id": "65Gb1lkTBB9L"
      }
    },
    {
      "cell_type": "code",
      "source": [
        "flow_factor = 0.9\n",
        "stream_1.setFlowRate(559401.418270102*flow_factor, 'kg/hr')\n",
        "stream_1.run()\n",
        "comp1.setSpeed(9000)\n",
        "comp1.run()\n",
        "# Logging results\n",
        "print(f\"Speed: {comp1.getSpeed()}\")\n",
        "print(f\"Outlet Pressure: {comp1.getOutletPressure()}\")\n",
        "print(f\"Outlet Temperature (°C): {comp1.getOutTemperature() - 273.15}\")\n",
        "print(f\"Inlet Flow Rate (m3/hr): {comp1.getInletStream().getFlowRate('m3/hr')}\")\n",
        "print(f\"Polytropic Head: {comp1.getPolytropicFluidHead()}\")\n",
        "print(f\"Polytropic Efficiency: {comp1.getPolytropicEfficiency()}\")\n",
        "print(f\"Distance to Surge: {comp1.getDistanceToSurge()}\")\n",
        "print(f\"Surge Flow Rate Margin: {comp1.getSurgeFlowRateMargin()}\")\n",
        "print(f\"Surge Flow Rate: {comp1.getSurgeFlowRate()}\")\n",
        "print(f\"Power (MW): {comp1.getPower('MW')}\")\n",
        "print(f\"Is in Surge: {comp1.isSurge()}\")"
      ],
      "metadata": {
        "id": "TA9Xe4F_tYCz",
        "colab": {
          "base_uri": "https://localhost:8080/"
        },
        "outputId": "e6df3113-ff67-4665-8852-e98656f14b6e"
      },
      "execution_count": null,
      "outputs": [
        {
          "output_type": "stream",
          "name": "stdout",
          "text": [
            "Speed: 9000.0\n",
            "Outlet Pressure: 177.0429643376422\n",
            "Outlet Temperature (°C): 105.56695844247429\n",
            "Inlet Flow Rate (m3/hr): 7300.118208121634\n",
            "Polytropic Head: 100.53110530119093\n",
            "Polytropic Efficiency: 0.7268765415077076\n",
            "Distance to Surge: 0.3788182960563067\n",
            "Surge Flow Rate Margin: 2005.643780997032\n",
            "Surge Flow Rate: 5294.474427124602\n",
            "Power (MW): 19.342088949898667\n",
            "Is in Surge: False\n"
          ]
        }
      ]
    }
  ]
}