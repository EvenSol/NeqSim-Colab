{
  "cells": [
    {
      "cell_type": "markdown",
      "metadata": {
        "colab_type": "text",
        "id": "view-in-github"
      },
      "source": [
        "<a href=\"https://colab.research.google.com/github/EvenSol/NeqSim-Colab/blob/master/notebooks/process/valvesCvCg.ipynb\" target=\"_parent\"><img src=\"https://colab.research.google.com/assets/colab-badge.svg\" alt=\"Open In Colab\"/></a>"
      ]
    },
    {
      "cell_type": "markdown",
      "metadata": {},
      "source": [
        "# Valve simulation with NeqSim\n",
        "This notebook demonstrates how control valves are simulated using the NeqSim process library. It shows how the valve flow coefficients **Cv** and **Cg** are handled, how to size a valve, and how to control downstream pressure or flow by setting the valve opening."
      ]
    },
    {
      "cell_type": "code",
      "metadata": {
        "cellView": "form"
      },
      "execution_count": null,
      "outputs": [],
      "source": [
        "%%capture\n",
        "!pip install neqsim\n",
        "import neqsim\n",
        "from neqsim.thermo.thermoTools import *\n",
        "from neqsim.process import clearProcess, stream, valve, runProcess\n"
      ]
    },
    {
      "cell_type": "markdown",
      "metadata": {},
      "source": [
        "## Basic valve simulation\n",
        "Create a simple gas stream and let it flow through a valve. The downstream pressure is fixed using `setOutletPressure`. When a `Cv` value is specified the mass flow through the valve is calculated from the pressure drop."
      ]
    },
    {
      "cell_type": "code",
      "metadata": {},
      "execution_count": null,
      "outputs": [],
      "source": [
        "inletTemperature = 20.0  # C\n",
        "inletPressure = 100.0  # bara\n",
        "outletPressure = 50.0  # bara\n",
        "\n",
        "fluid1 = fluid('srk')\n",
        "fluid1.addComponent('methane', 1.0)\n",
        "fluid1.setTemperature(inletTemperature, 'C')\n",
        "fluid1.setPressure(inletPressure, 'bara')\n",
        "fluid1.setTotalFlowRate(1000.0, 'kg/hr')\n",
        "\n",
        "clearProcess()\n",
        "stream1 = stream(fluid1)\n",
        "valve1 = valve(stream1)\n",
        "valve1.setOutletPressure(outletPressure, 'bara')\n",
        "valve1.setCv(80.0)\n",
        "runProcess()\n",
        "\n",
        "print('Valve outlet pressure', valve1.getOutStream().getPressure('bara'), 'bara')\n",
        "print('Valve outlet temperature', valve1.getOutStream().getTemperature('C'), 'C')\n",
        "print('Valve mass flow', valve1.getOutStream().getFlowRate('kg/hr'))\n",
        "print('Valve Cv used', valve1.getCv())"
      ]
    },
    {
      "cell_type": "markdown",
      "metadata": {},
      "source": [
        "### Cv and Cg\n",
        "The valve can alternatively be characterised with the gas sizing coefficient **Cg**. In NeqSim the relationship between Cv and Cg follows standard valve sizing correlations. Setting one automatically updates the other."
      ]
    },
    {
      "cell_type": "code",
      "metadata": {},
      "execution_count": null,
      "outputs": [],
      "source": [
        "valve1.setCg(95.0)  # set gas sizing coefficient\n",
        "print('Updated Cv from Cg:', valve1.getCv())\n",
        "print('Cg now:', valve1.getCg())"
      ]
    },
    {
      "cell_type": "markdown",
      "metadata": {},
      "source": [
        "## Valve sizing\n",
        "The required size of a valve is normally given by its flow coefficient. For liquid service the metric value is Kv while for gas service the coefficients Cv or Cg are used. Kv is related to Cv by `Kv = 0.865 * Cv`. The table below gives typical Cv values for different valve types."
      ]
    },
    {
      "cell_type": "code",
      "metadata": {},
      "execution_count": null,
      "outputs": [],
      "source": [
        "Kv = stream1.getFlowRate('m3/hr')/math.sqrt(inletPressure-outletPressure)\n",
        "Cv = Kv/0.865\n",
        "print('Calculated Kv', Kv)\n",
        "print('Corresponding Cv', Cv)"
      ]
    },
    {
      "cell_type": "markdown",
      "metadata": {},
      "source": [
        "## Controlling downstream pressure by valve opening\n",
        "Instead of fixing the outlet pressure it is possible to set a valve opening and let NeqSim calculate the resulting flow or downstream pressure. The method `setPercentValveOpening` defines the degree of opening from 0 to 100%."
      ]
    },
    {
      "cell_type": "code",
      "metadata": {},
      "execution_count": null,
      "outputs": [],
      "source": [
        "valve1.setOutletPressure(None)  # clear fixed pressure\n",
        "valve1.setPercentValveOpening(50.0)\n",
        "runProcess()\n",
        "print('Downstream pressure with 50% opening', valve1.getOutStream().getPressure('bara'))\n",
        "print('Resulting flow', valve1.getOutStream().getFlowRate('kg/hr'))"
      ]
    }
  ],
  "metadata": {
    "colab": {
      "collapsed_sections": [],
      "include_colab_link": true,
      "name": "CalorificValueNaturalGas.ipynb",
      "provenance": []
    },
    "kernelspec": {
      "display_name": "Python 3",
      "name": "python3"
    }
  },
  "nbformat": 4,
  "nbformat_minor": 0
}