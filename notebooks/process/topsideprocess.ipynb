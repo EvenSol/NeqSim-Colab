{
  "nbformat": 4,
  "nbformat_minor": 0,
  "metadata": {
    "colab": {
      "name": "topsideprocess.ipynb",
      "provenance": [],
      "include_colab_link": true
    },
    "kernelspec": {
      "name": "python3",
      "display_name": "Python 3"
    }
  },
  "cells": [
    {
      "cell_type": "markdown",
      "metadata": {
        "id": "view-in-github",
        "colab_type": "text"
      },
      "source": [
        "<a href=\"https://colab.research.google.com/github/EvenSol/NeqSim-Colab/blob/master/notebooks/process/topsideprocess.ipynb\" target=\"_parent\"><img src=\"https://colab.research.google.com/assets/colab-badge.svg\" alt=\"Open In Colab\"/></a>"
      ]
    },
    {
      "cell_type": "code",
      "metadata": {
        "id": "z0Zitu7MqRMt",
        "colab_type": "code",
        "cellView": "form",
        "colab": {}
      },
      "source": [
        "#@title Simulation and design of a top side process\n",
        "#@markdown This notebook describes how to set up a topside process and simulate it using neqsim. It will also go throught some steps of equipment sizing.\n",
        "#@markdown This document is part of the module [\"Introduction to Gas Processing using NeqSim in Colab\"](https://colab.research.google.com/github/EvenSol/NeqSim-Colab/blob/master/notebooks/examples_of_NeqSim_in_Colab.ipynb#scrollTo=_eRtkQnHpL70).\n",
        "%%capture\n",
        "!pip install neqsim==2.5.35"
      ],
      "execution_count": 0,
      "outputs": []
    },
    {
      "cell_type": "markdown",
      "metadata": {
        "id": "gib4PI1UjiwW",
        "colab_type": "text"
      },
      "source": [
        ""
      ]
    },
    {
      "cell_type": "code",
      "metadata": {
        "id": "7rjloaFE3dXo",
        "colab_type": "code",
        "cellView": "form",
        "outputId": "d895e8a4-cfa2-474e-f416-fc05dc388668",
        "colab": {
          "base_uri": "https://localhost:8080/",
          "height": 421
        }
      },
      "source": [
        "#@title Introduction to Oil & Gas facilities Design\n",
        "#@markdown This video gives an intriduction to Oil & Gas facilities Design\n",
        "from IPython.display import YouTubeVideo\n",
        "YouTubeVideo('ALfV6CNAQhU', width=600, height=400)"
      ],
      "execution_count": 2,
      "outputs": [
        {
          "output_type": "execute_result",
          "data": {
            "text/html": [
              "\n",
              "        <iframe\n",
              "            width=\"600\"\n",
              "            height=\"400\"\n",
              "            src=\"https://www.youtube.com/embed/ALfV6CNAQhU\"\n",
              "            frameborder=\"0\"\n",
              "            allowfullscreen\n",
              "        ></iframe>\n",
              "        "
            ],
            "text/plain": [
              "<IPython.lib.display.YouTubeVideo at 0x7f4a284c9a58>"
            ],
            "image/jpeg": "[encoded data removed]"
          },
          "metadata": {
            "tags": []
          },
          "execution_count": 2
        }
      ]
    },
    {
      "cell_type": "markdown",
      "metadata": {
        "id": "hj71ZcjW4ZV8",
        "colab_type": "text"
      },
      "source": [
        "# Defining a well stream\n",
        "Al simulations will start by defining a well stream as feed to the process plant. In the following example we set up a well stream using NeqSim."
      ]
    },
    {
      "cell_type": "code",
      "metadata": {
        "id": "zksSoMCQ4N3m",
        "colab_type": "code",
        "colab": {}
      },
      "source": [
        "#@title Defining a well stram\n",
        "from neqsim.thermo import fluid, phaseenvelope\n",
        "from neqsim.process import clearProcess, stream, valve, separator, compressor, runProcess, viewProcess, heater, mixer, recycle\n",
        "\n",
        "feedPressure = 30.0\n",
        "\n",
        "\n",
        "# Start by creating a fluid in neqsim\n",
        "fluid1 = fluid(\"srk\")  # create a fluid using the SRK-EoS\n",
        "fluid1.addComponent(\"nitrogen\", 1.0)\n",
        "fluid1.addComponent(\"CO2\", 2.0)\n",
        "fluid1.addComponent(\"methane\", 85.0)\n",
        "fluid1.addComponent(\"ethane\", 5.0)\n",
        "fluid1.addComponent(\"propane\", 3.0)\n",
        "fluid1.addComponent(\"i-butane\", 2.0)\n",
        "fluid1.addComponent(\"n-butane\", 2.0)\n",
        "fluid1.addComponent(\"n-hexane\", 1.1)\n",
        "fluid1.addComponent(\"n-heptane\", 2.1)\n",
        "fluid1.addComponent(\"n-octane\", 1.1)\n",
        "fluid1.addComponent(\"n-nonane\", 0.51)\n",
        "fluid1.addComponent(\"nC10\", 5.1)\n",
        "fluid1.setMixingRule('classic')\n",
        "fluid1.setTemperature(35.15, \"C\")\n",
        "fluid1.setPressure(feedPressure, \"bara\")\n",
        "fluid1.setTotalFlowRate(5.0, \"MSm3/day\")"
      ],
      "execution_count": 0,
      "outputs": []
    },
    {
      "cell_type": "markdown",
      "metadata": {
        "id": "iLy37UQQ4o1b",
        "colab_type": "text"
      },
      "source": [
        "# Setting up a top side process\n",
        "A top side process is defined starting with the well stream to an inlet separator. In the follwoing example we set up and simulate a standard top side process in NeqSim."
      ]
    },
    {
      "cell_type": "code",
      "metadata": {
        "id": "mi11Rl_O3sts",
        "colab_type": "code",
        "outputId": "5d6f94d8-b429-40d4-dcb2-a17a6d5984c4",
        "colab": {
          "base_uri": "https://localhost:8080/",
          "height": 87
        }
      },
      "source": [
        "#@title Setting up a topside process simultion using NeqSim\n",
        "from neqsim.thermo import fluid, phaseenvelope\n",
        "from neqsim.process import clearProcess, stream, valve, separator, compressor, runProcess, viewProcess, heater, mixer, recycle\n",
        "\n",
        "MPpressure = 10.0\n",
        "LPpressure = 2.1\n",
        "\n",
        "clearProcess()\n",
        "stream1 = stream(fluid1)\n",
        "separator1 = separator(stream1, \"inlet separator\")\n",
        "valve1 = valve(separator1.getLiquidOutStream(), MPpressure, \"HP oil valve\")\n",
        "separator2 = separator(valve1.getOutStream(), \"MP separator\")\n",
        "valve2 = valve(separator2.getLiquidOutStream(), LPpressure)\n",
        "separator3 = separator(valve2.getOutStream(), \"LP separator\")\n",
        "\n",
        "compressorLP1 = compressor(separator3.getGasOutStream(), MPpressure)\n",
        "coolerMP1 = heater(compressorLP1.getOutStream())\n",
        "coolerMP1.setOutTemperature(303.0)\n",
        "scrubberLP = separator(coolerMP1.getOutStream())\n",
        "\n",
        "recycleLP = recycle(scrubberLP.getLiquidOutStream())\n",
        "#separator2.addStream(recycleLP.getOutStream())\n",
        "\n",
        "mixerLP = mixer()\n",
        "mixerLP.addStream(scrubberLP.getGasOutStream())\n",
        "mixerLP.addStream(separator2.getGasOutStream())\n",
        "\n",
        "compressorMP1 = compressor(mixerLP.getOutStream(), feedPressure)\n",
        "coolerMP1 = heater(compressorMP1.getOutStream())\n",
        "coolerMP1.setOutTemperature(303.0)\n",
        "scrubberMP1 = separator(coolerMP1.getOutStream())\n",
        "\n",
        "recycleMP = recycle(scrubberMP1.getLiquidOutStream())\n",
        "#separator1.addStream(recycleMP.getOutStream())\n",
        "\n",
        "mixer1 = mixer()\n",
        "mixer1.addStream(scrubberMP1.getGasOutStream())\n",
        "mixer1.addStream(separator1.getGasOutStream())\n",
        "\n",
        "compressor1 = compressor(mixer1.getOutStream(), 60.0)  # add compressor and set out pressure\n",
        "compressor1.setIsentropicEfficiency(0.8)\n",
        "cooler1 = heater(compressor1.getOutStream())\n",
        "cooler1.setOutTemperature(303.0)\n",
        "compressor2 = compressor(cooler1.getOutStream(), 120.0)\n",
        "compressor2.setIsentropicEfficiency(0.77)\n",
        "\n",
        "runProcess()\n",
        "\n",
        "print(\"LPcompressor power \", compressorLP1.getPower()/1e6, \" MW\")\n",
        "print(\"MPcompressor power \", compressorMP1.getPower()/1e6, \" MW\")\n",
        "print(\"compressor1 power \", compressor1.getPower()/1e6, \" MW\")\n",
        "print(\"compressor2 power \", compressor2.getPower()/1e6, \" MW\")"
      ],
      "execution_count": 4,
      "outputs": [
        {
          "output_type": "stream",
          "text": [
            "LPcompressor power  0.09590979188587616  MW\n",
            "MPcompressor power  0.16551525593771121  MW\n",
            "compressor1 power  4.908395066269919  MW\n",
            "compressor2 power  4.743008563644452  MW\n"
          ],
          "name": "stdout"
        }
      ]
    },
    {
      "cell_type": "markdown",
      "metadata": {
        "id": "EODMSFsH5OJM",
        "colab_type": "text"
      },
      "source": [
        "# Calculating the mechanical design\n",
        "A mechanical design can be automaically calculated using the built in design rules in NeqSim. A design of a separato is given in the following example."
      ]
    },
    {
      "cell_type": "code",
      "metadata": {
        "id": "XVro7AdE5hw4",
        "colab_type": "code",
        "outputId": "16505626-838f-4cc3-8702-f60de30315b1",
        "colab": {
          "base_uri": "https://localhost:8080/",
          "height": 70
        }
      },
      "source": [
        "separator1.getMechanicalDesign().setMaxOperationPressure(150.0);\n",
        "separator1.addSeparatorSection(\"tray\", \"\");\n",
        "separator1.getMechanicalDesign().calcDesign();\n",
        "sepDesign = separator1.getMechanicalDesign()\n",
        "\n",
        "print(\"Inlet seperator module length \", sepDesign.getModuleLength(), \" m\")\n",
        "print(\"Inlet seperator module height \", sepDesign.getModuleHeight(), \" m\")\n",
        "print(\"Inlet separartor module total weight \", sepDesign.getWeightTotal(), \" kg\")"
      ],
      "execution_count": 5,
      "outputs": [
        {
          "output_type": "stream",
          "text": [
            "Inlet seperator module length  16.36161738838289  m\n",
            "Inlet seperator module height  5.363097970235437  m\n",
            "Inlet separartor module total weight  21692.34857594136  kg\n"
          ],
          "name": "stdout"
        }
      ]
    },
    {
      "cell_type": "markdown",
      "metadata": {
        "id": "dN4HtkpwTcvf",
        "colab_type": "text"
      },
      "source": [
        "# Calculating a process with a recycle stream\n",
        "The following example demonstrates the simulation of a process with a inlet separator, a gas cooler and a gas scrubber with resirculation of the liquids back to the inlet separator. It also shows how to modify inlet conditions and re-run the simulation."
      ]
    },
    {
      "cell_type": "code",
      "metadata": {
        "id": "GMAeCYRhTZDH",
        "colab_type": "code",
        "outputId": "7edea425-c9d1-4245-a8e4-5b3ba87ef1f2",
        "colab": {
          "base_uri": "https://localhost:8080/",
          "height": 1000
        }
      },
      "source": [
        "from neqsim.thermo import fluid, createfluid, TPflash,printFrame,fluidcreator\n",
        "from neqsim.process import mixer, separator3phase, clearProcess, stream, valve, separator, recycle, compressor, runProcess, viewProcess, heater\n",
        "\n",
        "fluidcreator.setHasWater(True)\n",
        "fluid1 = createfluid('gas condensate')\n",
        "TPflash(fluid1)\n",
        "\n",
        "#Setting inlet temperature and pressure\n",
        "fluid1.setTemperature(45.0, 'C')\n",
        "fluid1.setPressure(50.0, 'bara')\n",
        "\n",
        "\n",
        "clearProcess()\n",
        "stream_inlet = stream(fluid1)\n",
        "mixer1 = mixer(\"mixer\")\n",
        "mixer1.addStream(stream_inlet)\n",
        "separator_inlet = separator3phase(mixer1.getOutStream())\n",
        "steam_gasFromSep = separator_inlet.getGasOutStream()\n",
        "cooler_gasFromInletSep = heater(steam_gasFromSep)\n",
        "cooler_gasFromInletSep.setOutTemperature(293.15)\n",
        "stream_gasFromCooler = cooler_gasFromInletSep.getOutStream()\n",
        "separator_scrubber = separator(stream_gasFromCooler)\n",
        "recycle_liquid = recycle(separator_scrubber.getLiquidOutStream())\n",
        "mixer1.addStream(recycle_liquid.getOutStream())\n",
        "\n",
        "runProcess()\n",
        "printFrame(separator_scrubber.getThermoSystem())\n",
        "\n",
        "#Setting new inlet temperature\n",
        "stream_inlet.getThermoSystem().setTemperature(40.0, \"C\")\n",
        "runProcess()\n",
        "printFrame(separator_scrubber.getThermoSystem())"
      ],
      "execution_count": 6,
      "outputs": [
        {
          "output_type": "stream",
          "text": [
            "                          total          gas          oil      aqueous                   \n",
            "           nitrogen  3.09458E-2   3.09933E-2   3.32334E-3   3.29828E-9    [mole fraction]\n",
            "                CO2  3.90405E-2    3.9099E-2   2.48681E-2   1.95005E-5    [mole fraction]\n",
            "            methane  8.22122E-1   8.23372E-1   2.30913E-1   1.54025E-7    [mole fraction]\n",
            "             ethane  7.20188E-2   7.21239E-2   8.63307E-2  2.83063E-10    [mole fraction]\n",
            "            propane   2.1978E-2   2.20069E-2   7.46096E-2  3.83159E-14    [mole fraction]\n",
            "           i-butane  4.14675E-3   4.15116E-3   2.93697E-2  1.01517E-17    [mole fraction]\n",
            "           n-butane    3.842E-3   3.84545E-3   3.67787E-2  1.54985E-17    [mole fraction]\n",
            "          i-pentane  1.66111E-3   1.66138E-3   3.40853E-2  2.05345E-20    [mole fraction]\n",
            "          n-pentane  1.34917E-3   1.34889E-3   3.50267E-2  9.10849E-21    [mole fraction]\n",
            "           n-hexane  5.62693E-4   5.60951E-4    3.8891E-2   2.2411E-24    [mole fraction]\n",
            "          n-heptane  2.36384E-4   2.33905E-4   4.23861E-2  3.95759E-28    [mole fraction]\n",
            "           n-octane  9.86403E-5   9.57344E-5   4.55893E-2  3.76075E-32    [mole fraction]\n",
            "           n-nonane  4.27132E-5   3.96043E-5   4.73321E-2  5.02758E-36    [mole fraction]\n",
            "               nC10  1.77601E-5   1.46852E-5   4.62517E-2  1.53168E-23    [mole fraction]\n",
            "         C10-C15_PC  1.93417E-5   4.45557E-6   2.22387E-1  3.65366E-53    [mole fraction]\n",
            "         C16-C19_PC  5.16027E-8   3.4637E-11   7.70033E-4  4.87212E-61    [mole fraction]\n",
            "         C20-C30_PC  1.06169E-9  2.05734E-14   1.58533E-5  2.27374E-59    [mole fraction]\n",
            "         C31-C50_PC  2.6259E-11  5.86238E-17   3.92107E-7  1.53555E-58    [mole fraction]\n",
            "              water  1.91824E-3   4.48631E-4   1.07199E-3    9.9998E-1    [mole fraction]\n",
            "                                                                                         \n",
            "            Density                4.60574E1    6.27522E2    1.00727E3           [kg/m^3]\n",
            "      PhaseFraction               9.98463E-1   6.69687E-5   1.47026E-3    [mole fraction]\n",
            "          MolarMass   1.97206E1    1.97184E1    8.98011E1    1.80155E1          [kg/kmol]\n",
            "           Z factor               8.80599E-1   3.60977E-1   4.86604E-2                [-]\n",
            " Heat Capacity (Cp)                2.37487E0    2.42996E0    4.80829E0          [kJ/kg*K]\n",
            " Heat Capacity (Cv)                1.57135E0    2.11017E0    3.55335E0          [kJ/kg*K]\n",
            "     Speed of Sound                3.82184E2    8.92687E2    3.54712E3            [m/sec]\n",
            "           Enthalpy  -2.35219E1    -1.9992E1   -3.07455E2   -2.58286E3            [kJ/kg]\n",
            "            Entropy  -1.35012E0   -1.34279E0  -7.12453E-1   -6.94209E0          [kJ/kg*K]\n",
            "     JT coefficient               5.14434E-1  -5.09597E-2  -2.19369E-2            [K/bar]\n",
            "                                                                                         \n",
            "          Viscosity               1.25829E-5   3.59315E-4   1.00869E-3         [kg/m*sec]\n",
            "       Conductivity               3.62428E-2   1.03917E-1   6.07619E-1            [W/m*K]\n",
            "     SurfaceTension                      0E0          0E0                           [N/m]\n",
            "                                                      0E0          0E0              [N/m]\n",
            "                                         0E0                       0E0              [N/m]\n",
            "                                                                                         \n",
            "           Pressure                     50.0         50.0         50.0              [bar]\n",
            "        Temperature                   293.15       293.15       293.15                [K]\n",
            "                                                                                         \n",
            "              Model                  SRK-EOS      SRK-EOS      SRK-EOS                  -\n",
            "        Mixing Rule                  classic      classic      classic                  -\n",
            "                                                                                         \n",
            "             Stream                                                                     -\n",
            "                                                                                         \n",
            "                                                                                         \n",
            "                                                                                         \n",
            "                                                                                         \n",
            "                           total          gas          oil      aqueous                   \n",
            "           nitrogen   3.15035E-2   3.15364E-2   3.44661E-3   3.35034E-9    [mole fraction]\n",
            "                CO2   3.84713E-2   3.85108E-2   2.47155E-2   1.92194E-5    [mole fraction]\n",
            "            methane   8.27523E-1   8.28384E-1   2.36435E-1   1.54906E-7    [mole fraction]\n",
            "             ethane   6.97683E-2   6.98388E-2   8.40163E-2  2.74677E-10    [mole fraction]\n",
            "            propane   2.05334E-2   2.05526E-2   6.98611E-2  3.59366E-14    [mole fraction]\n",
            "           i-butane   3.78681E-3   3.78989E-3   2.68963E-2   9.3235E-18    [mole fraction]\n",
            "           n-butane   3.47102E-3   3.47356E-3   3.32507E-2  1.40884E-17    [mole fraction]\n",
            "          i-pentane   1.47024E-3   1.47078E-3   3.02067E-2  1.83257E-20    [mole fraction]\n",
            "          n-pentane   1.18512E-3   1.18535E-3   3.07825E-2  8.07212E-21    [mole fraction]\n",
            "           n-hexane   4.82147E-4   4.81547E-4   3.33564E-2  1.94455E-24    [mole fraction]\n",
            "          n-heptane   1.97952E-4   1.96977E-4   3.56633E-2  3.37613E-28    [mole fraction]\n",
            "           n-octane   8.07582E-5   7.95866E-5   3.78927E-2  3.17433E-32    [mole fraction]\n",
            "           n-nonane   3.42705E-5   3.29988E-5   3.94413E-2  4.26233E-36    [mole fraction]\n",
            "               nC10   1.39566E-5   1.26485E-5   3.98958E-2  1.34541E-23    [mole fraction]\n",
            "         C10-C15_PC   1.43075E-5   5.30636E-6   2.71938E-1  4.48098E-53    [mole fraction]\n",
            "         C16-C19_PC   3.27947E-8  4.44548E-11   9.88816E-4  6.50772E-61    [mole fraction]\n",
            "         C20-C30_PC   6.1498E-10   2.4747E-14   1.85671E-5   2.8593E-59    [mole fraction]\n",
            "         C31-C50_PC  1.43802E-11  6.78335E-17   4.34174E-7  1.86249E-58    [mole fraction]\n",
            "              water   1.46355E-3   4.48347E-4   1.19441E-3   9.99981E-1    [mole fraction]\n",
            "                                                                                          \n",
            "            Density                 4.55931E1    6.30556E2    1.00727E3           [kg/m^3]\n",
            "      PhaseFraction                9.98951E-1   3.31207E-5   1.01566E-3    [mole fraction]\n",
            "          MolarMass    1.95747E1    1.95738E1    9.47053E1    1.80155E1          [kg/kmol]\n",
            "           Z factor                8.82985E-1   3.83844E-1   4.86604E-2                [-]\n",
            " Heat Capacity (Cp)                 2.37435E0    2.45049E0    4.80829E0          [kJ/kg*K]\n",
            " Heat Capacity (Cv)                 1.57275E0     2.1495E0    3.55335E0          [kJ/kg*K]\n",
            "     Speed of Sound                 3.84446E2    9.14298E2    3.54712E3            [m/sec]\n",
            "           Enthalpy   -2.18171E1    -1.9375E1   -3.05426E2   -2.58287E3            [kJ/kg]\n",
            "            Entropy   -1.36396E0   -1.35885E0  -7.00087E-1   -6.94209E0          [kJ/kg*K]\n",
            "     JT coefficient                5.08731E-1  -5.26584E-2  -2.19369E-2            [K/bar]\n",
            "                                                                                          \n",
            "          Viscosity                1.25826E-5   3.88938E-4   1.00868E-3         [kg/m*sec]\n",
            "       Conductivity                3.63403E-2   1.03422E-1   6.07619E-1            [W/m*K]\n",
            "     SurfaceTension                       0E0          0E0                           [N/m]\n",
            "                                                       0E0          0E0              [N/m]\n",
            "                                          0E0                       0E0              [N/m]\n",
            "                                                                                          \n",
            "           Pressure                      50.0         50.0         50.0              [bar]\n",
            "        Temperature                    293.15       293.15       293.15                [K]\n",
            "                                                                                          \n",
            "              Model                   SRK-EOS      SRK-EOS      SRK-EOS                  -\n",
            "        Mixing Rule                   classic      classic      classic                  -\n",
            "                                                                                          \n",
            "             Stream                                                                      -\n",
            "                                                                                          \n",
            "                                                                                          \n",
            "                                                                                          \n",
            "                                                                                          \n"
          ],
          "name": "stdout"
        }
      ]
    }
  ]
}