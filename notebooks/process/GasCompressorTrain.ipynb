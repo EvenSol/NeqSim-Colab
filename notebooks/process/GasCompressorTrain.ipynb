{
  "cells": [
    {
      "cell_type": "markdown",
      "metadata": {
        "id": "view-in-github",
        "colab_type": "text"
      },
      "source": [
        "<a href=\"https://colab.research.google.com/github/EvenSol/NeqSim-Colab/blob/master/notebooks/process/GasCompressorTrain.ipynb\" target=\"_parent\"><img src=\"https://colab.research.google.com/assets/colab-badge.svg\" alt=\"Open In Colab\"/></a>"
      ]
    },
    {
      "cell_type": "code",
      "execution_count": 4,
      "metadata": {
        "cellView": "form",
        "id": "c7oLiYgcEV2Y"
      },
      "outputs": [],
      "source": [
        "#@title Simulation of a Gas Compression Train\n",
        "#@markdown A compressor is a mechanical device that increases the pressure of a gas by reducing its volume.\n",
        "#@markdown Compressors are similar to pumps: both increase the pressure on a fluid and both can transport the fluid through a pipe. As gases are compressible, the compressor also reduces the volume of a gas. Liquids are relatively incompressible; while some can be compressed, the main action of a pump is to pressurize and transport liquids.\n",
        "%%capture\n",
        "!pip install neqsim\n",
        "import neqsim\n",
        "from neqsim.thermo.thermoTools import *\n",
        "import matplotlib\n",
        "import numpy as np\n",
        "import matplotlib.pyplot as plt\n",
        "import math\n",
        "%matplotlib inline"
      ]
    },
    {
      "cell_type": "markdown",
      "metadata": {
        "id": "OgnpZwDDB4X7"
      },
      "source": [
        "# Litterature\n",
        "\n",
        "https://petrowiki.org/Compressors"
      ]
    },
    {
      "cell_type": "code",
      "execution_count": 2,
      "metadata": {
        "cellView": "form",
        "colab": {
          "base_uri": "https://localhost:8080/",
          "height": 421
        },
        "id": "9Kkz5ZeLEyRv",
        "outputId": "a1d68689-d4ed-4330-a231-2cf371bd5bff"
      },
      "outputs": [
        {
          "output_type": "execute_result",
          "data": {
            "text/plain": [
              "<IPython.lib.display.YouTubeVideo at 0x7e5b94d6bd90>"
            ],
            "text/html": [
              "\n",
              "        <iframe\n",
              "            width=\"600\"\n",
              "            height=\"400\"\n",
              "            src=\"https://www.youtube.com/embed/WXaTF_ajADE\"\n",
              "            frameborder=\"0\"\n",
              "            allowfullscreen\n",
              "            \n",
              "        ></iframe>\n",
              "        "
            ],
            "image/jpeg": "[encoded data removed]"
          },
          "metadata": {},
          "execution_count": 2
        }
      ],
      "source": [
        "#@title  Åsgard Subsea Gas Compression\n",
        "#@markdown The installation of the modules that collectively constitute Åsgard subsea gas compression has commenced in the Åsgard field.​\n",
        "#@markdown Innovative technology at a depth of 300 metres will create more than 300 million extra barrels BOE from the Åsgard field.\n",
        "from IPython.display import YouTubeVideo\n",
        "YouTubeVideo('WXaTF_ajADE', width=600, height=400)"
      ]
    },
    {
      "cell_type": "markdown",
      "metadata": {
        "id": "jpDLDLgdecvP"
      },
      "source": [
        "# Natural Gas Compressors\n",
        " Produced gas pressure at the wellhead normally is not sufficient to allow export for sales and further treatment. Therefore, an export gas compression system is required, with a centrifugal compressor being the most suitable for variable sales gas demand and near-constant export pressure.\n",
        "\n",
        "Normally, the export gas centrifugal compressor works well under constant inlet pressure. Compressor operation is challenged when the gas well reservoir pressure is reduced (due to reservoir depletion), and when the full well steam (FWS) water cut increases and the gas fraction in the FWS decreases. Consequently, inlet pressure to the compressor is reduced.\n",
        "\n",
        "The compressor operation becomes unstable due to reduced inlet pressure and reduced flow. To meet the required export gas pressure, the speed of the compressor must be increased. However, the temperature of the compressor discharge also increases at reduced flow and higher speed; therefore, the recycle is also required to maintain the compressor discharge temperature within a defined limit."
      ]
    },
    {
      "cell_type": "code",
      "execution_count": 5,
      "metadata": {
        "colab": {
          "base_uri": "https://localhost:8080/"
        },
        "id": "EeJ3zgxwP9mv",
        "outputId": "15bb99e6-53be-4bca-e41c-03d334ba30d6"
      },
      "outputs": [
        {
          "output_type": "stream",
          "name": "stdout",
          "text": [
            "compressor1 power  4.668918155189743  MW\n",
            "compressor2 power  2.905746639359289  MW\n",
            "cooler1 duty  -7.114604286439549  MW\n",
            "cooler2 duty  -5.192202419577604  MW\n"
          ]
        }
      ],
      "source": [
        "#@title  Calculation of a gas compression train\n",
        "#@markdown This script demonstrates the calculations of a simple gas compression train\n",
        "\n",
        "from neqsim.thermo import fluid, phaseenvelope\n",
        "from neqsim.process import separator, heater, clearProcess, stream,  compressor, runProcess, viewProcess, getProcess\n",
        "\n",
        "gasFlowRate = 5.0#@param {type:\"number\"} # MSm3/day\n",
        "\n",
        "temperature_inlet = 35.0 #@param {type:\"number\"}\n",
        "pressure_inlet = 55.0 #@param {type:\"number\"}\n",
        "\n",
        "pressureMP = 100.0 #@param {type:\"number\"}\n",
        "temperatureMP = 35.0 #@param {type:\"number\"}\n",
        "\n",
        "pressureExport = 150.0 #@param {type:\"number\"}\n",
        "temperatureExport = 35.0 #@param {type:\"number\"}\n",
        "\n",
        "fluid1 = fluid('srk')\n",
        "fluid1.addComponent(\"nitrogen\", 1.0)\n",
        "fluid1.addComponent(\"CO2\", 2.0)\n",
        "fluid1.addComponent(\"methane\", 79.2)\n",
        "fluid1.addComponent(\"ethane\", 7.3)\n",
        "fluid1.addComponent(\"propane\", 2.3)\n",
        "fluid1.addComponent(\"i-butane\", 1.0)\n",
        "fluid1.addComponent(\"n-butane\", 0.7)\n",
        "fluid1.addComponent(\"i-pentane\", 0.04)\n",
        "fluid1.addComponent(\"n-pentane\", 0.02)\n",
        "fluid1.addComponent(\"n-hexane\", 0.003)\n",
        "\n",
        "fluid1.setPressure(pressure_inlet, 'bara')\n",
        "fluid1.setTemperature(temperature_inlet, 'C')\n",
        "fluid1.setTotalFlowRate(gasFlowRate, \"MSm3/day\")\n",
        "\n",
        "clearProcess()\n",
        "stream1 = stream('stream 1', fluid1)\n",
        "compressor_1 = compressor('compressor 1', stream1, pressureMP)\n",
        "compressor_1.setIsentropicEfficiency(0.77)\n",
        "coolerMP1 = heater('cooler 1', compressor_1.getOutStream())\n",
        "coolerMP1.setOutTemperature(temperatureMP+273.15)\n",
        "compressor_2 = compressor('compressor 2', coolerMP1.getOutStream(), pressureExport)\n",
        "compressor_2.setIsentropicEfficiency(0.77)\n",
        "coolerExport = heater('cooler 2', compressor_2.getOutStream())\n",
        "coolerExport.setOutTemperature(temperatureExport+273.15)\n",
        "runProcess()\n",
        "\n",
        "print(\"compressor1 power \", compressor_1.getPower()/1e6, \" MW\")\n",
        "print(\"compressor2 power \", compressor_2.getPower()/1e6, \" MW\")\n",
        "\n",
        "print(\"cooler1 duty \", coolerMP1.getDuty()/1e6, \" MW\")\n",
        "print(\"cooler2 duty \", coolerExport.getDuty()/1e6, \" MW\")"
      ]
    },
    {
      "cell_type": "markdown",
      "metadata": {
        "id": "ZM3R66bFjF_B"
      },
      "source": [
        "# Fuel gas consumption\n",
        "This section demonstrates hot to estimate the fule gas consumption."
      ]
    },
    {
      "cell_type": "code",
      "execution_count": 6,
      "metadata": {
        "colab": {
          "base_uri": "https://localhost:8080/"
        },
        "id": "6tSeD8MAjVrJ",
        "outputId": "f7a97fe7-98f7-4629-8562-ef0ec84bdf74"
      },
      "outputs": [
        {
          "output_type": "stream",
          "name": "stdout",
          "text": [
            "GCV 41.77 MJ/volume\n",
            "WI 51.035  MJ/volume\n",
            "WI 14.176  kWh/volume\n",
            "Relative density 0.67  [-]\n",
            "total compressor power  7.574664794549032  [MW]\n",
            "Fuel gas consumption  2403.892349904485  [Sm^3/hr]\n",
            "Fuel gas consumption  1.1538683279541528  % of gas production\n"
          ]
        }
      ],
      "source": [
        "from neqsim.thermo import fluid, TPflash\n",
        "from neqsim.standards import ISO6976\n",
        "\n",
        "referenceTemperatureVolume = 15.0 #@param ['0.0', '15.0', '20.0']\n",
        "referenceTemperatureCombustion = 25.0 #@param ['0.0', '15.0', '20.0', '25.0']\n",
        "numberUnit = 'volume' #@param ['volume', 'mass', 'molar']\n",
        "\n",
        "iso6976 = ISO6976(fluid1)\n",
        "iso6976.setReferenceType(numberUnit)\n",
        "iso6976.setVolRefT(float(referenceTemperatureVolume))\n",
        "iso6976.setEnergyRefT(float(referenceTemperatureCombustion))\n",
        "iso6976.calculate()\n",
        "\n",
        "\n",
        "GCV = round(iso6976.getValue(\"SuperiorCalorificValue\")/1.0e3,3)\n",
        "GCVinf = round(iso6976.getValue(\"InferiorCalorificValue\")/1.0e3,3)\n",
        "WI = round(iso6976.getValue(\"SuperiorWobbeIndex\")/1.0e3,3)\n",
        "WIkwh = round(iso6976.getValue(\"SuperiorWobbeIndex\")/1.0e3/3.6,3)\n",
        "relDens = round(iso6976.getValue(\"RelativeDensity\"),3)\n",
        "\n",
        "print('GCV '+ str(GCV) + ' MJ/' +numberUnit)\n",
        "print('WI '+ str(WI), ' MJ/' +numberUnit)\n",
        "print('WI '+ str(WIkwh), ' kWh/' +numberUnit)\n",
        "print('Relative density '+ str(relDens), ' [-]')\n",
        "\n",
        "turbineEfficiency = 0.3 #turbine power generation efficiency set to 30%\n",
        "\n",
        "fuelGasConsumption = getProcess().getPower('MW')/turbineEfficiency/GCVinf*3600.0\n",
        "print('total compressor power ', getProcess().getPower('MW'), ' [MW]')\n",
        "print('Fuel gas consumption ', fuelGasConsumption, ' [Sm^3/hr]')\n",
        "print('Fuel gas consumption ' ,(fuelGasConsumption*24.0/1.0e6/gasFlowRate*100.0),  ' % of gas production')"
      ]
    },
    {
      "cell_type": "markdown",
      "metadata": {
        "id": "7AjLm2vqA_V2"
      },
      "source": [
        "# Compressor efficiency\n",
        "\n",
        "\n",
        "## Compression theory\n",
        "\n",
        "Specific topics relating to compression theory include:\n",
        "\n",
        "* Power requirement\n",
        "* Isentropic exponent\n",
        "* Compressibility factor\n",
        "* Intercooling\n",
        "* Adiabatic and polytropic efficiency\n",
        "* Actual and standard volume flow rates\n",
        "* Mass flow rates\n",
        "* Inlet and discharge pressures\n",
        "* Inlet and discharge temperatures\n",
        "* Adiabatic and polytropic head\n",
        "\n",
        "\n",
        "## Isentropic (adiabatic) compression\n",
        "\n",
        "An adiabatic process is one in which no heat is added or removed from the system. Adiabatic compression is expressed by\n",
        "\n",
        "$P_1 \\times {V_1}^k=P_2 \\times {V_2}^k$\n",
        "\n",
        "where k = C<sub>p</sub>/C<sub>v</sub> = ratio of specific heats, dimensionless.\n",
        "\n",
        "Although compressors are designed to remove as much heat as possible, some heat gain is inevitable. Nevertheless, the adiabatic compression cycle is rather closely approached by most positive displacement compressors and is generally the base to which they are referred.\n",
        "\n",
        "## Polytropic compression\n",
        "\n",
        "A polytropic process is one in which changes in gas characteristics during compression are considered. Dynamic compressors generally follow the polytropic cycle as defined by the formula\n",
        "\n",
        "$P_1 \\times {V_1}^n=P_2 \\times {V_2}^n$\n",
        "\n",
        "where n = polytropic exponent.\n",
        "\n",
        "The polytropic exponent n is experimentally determined for a given type of machine and may be lower or higher than the adiabatic exponent ''k''. Because the value of ''n'' changes during the compression process, an average value is used.\n",
        "\n",
        "\n"
      ]
    },
    {
      "cell_type": "code",
      "execution_count": 8,
      "metadata": {
        "colab": {
          "base_uri": "https://localhost:8080/"
        },
        "id": "HTzUIfohA-dA",
        "outputId": "6241377b-e012-4fb7-8fe3-d4661dc3ff56"
      },
      "outputs": [
        {
          "output_type": "stream",
          "name": "stdout",
          "text": [
            "Compression ratio:  1.7647058823529411\n",
            "\n",
            "Calculations using Adibatic efficiency:  77.0 %\n",
            "compressor1 power  4.562025327549757  MW\n",
            "temperature out  89.74632437420064\n",
            "\n",
            "Calculations using polytropic efficiency:  77.0 %\n",
            "compressor1 power  4.654968883041333  MW\n",
            "temperature out  90.5343782328423\n"
          ]
        }
      ],
      "source": [
        "temperature_inlet = 35.0 #@param {type:\"number\"}\n",
        "pressure_inlet = 85.0 #@param {type:\"number\"}\n",
        "\n",
        "pressure_Out = 150.0 #@param {type:\"number\"}\n",
        "\n",
        "gasFlowRate = 5.0#@param {type:\"number\"} # MSm3/day\n",
        "\n",
        "adibaticEfficiency = 77.0 #@param {type:\"number\"} # compressor efficiency%\n",
        "polytropicEfficiency = 77.0 #@param {type:\"number\"} # compressor efficiency%\n",
        "\n",
        "fluid1 = fluid('srk')\n",
        "fluid1.addComponent('methane', 1.0)\n",
        "fluid1.setTotalFlowRate(gasFlowRate, \"MSm3/day\")\n",
        "fluid1.setPressure(pressure_inlet, 'bara')\n",
        "fluid1.setTemperature(temperature_inlet, 'C')\n",
        "\n",
        "clearProcess()\n",
        "stream1 = stream('stream 1', fluid1)\n",
        "compressor_1 = compressor('compressor 1', stream1, pressure_Out)\n",
        "compressor_1.setOutletPressure(150.0)\n",
        "compressor_1.setIsentropicEfficiency(adibaticEfficiency/100.0)\n",
        "runProcess()\n",
        "\n",
        "print(\"Compression ratio: \", (pressure_Out/pressure_inlet))\n",
        "print()\n",
        "print(\"Calculations using Adibatic efficiency: \", (adibaticEfficiency), '%')\n",
        "print(\"compressor1 power \", compressor_1.getTotalWork()/1e6, \" MW\")\n",
        "print(\"temperature out \", (compressor_1.getThermoSystem().getTemperature()-273.15))\n",
        "\n",
        "compressor_1.setPolytropicEfficiency(polytropicEfficiency/100.0)\n",
        "compressor_1.setUsePolytropicCalc(True)\n",
        "runProcess()\n",
        "print()\n",
        "print(\"Calculations using polytropic efficiency: \", (polytropicEfficiency), '%')\n",
        "print(\"compressor1 power \", compressor_1.getTotalWork()/1e6, \" MW\")\n",
        "print(\"temperature out \", (compressor_1.getThermoSystem().getTemperature()-273.15))"
      ]
    },
    {
      "cell_type": "markdown",
      "metadata": {
        "id": "TY9VejqINT5F"
      },
      "source": [
        "# Hand calculation of power consumption\n",
        "\n",
        "In this section a short cut method for calculation of compressor power is tested. The method description of the short cut method is found in the following link:\n",
        "\n",
        "http://www.jmcampbell.com/tip-of-the-month/2011/11/compressor-calculations-rigorous-using-equation-of-state-vs-shortcut-method/\n"
      ]
    },
    {
      "cell_type": "code",
      "execution_count": 9,
      "metadata": {
        "colab": {
          "base_uri": "https://localhost:8080/"
        },
        "id": "5n7Nl3kWM3To",
        "outputId": "33af1f79-b3b6-476e-c2be-d22e41cb0caa"
      },
      "outputs": [
        {
          "output_type": "stream",
          "name": "stdout",
          "text": [
            "kappa  1.2220496916626586\n",
            "polytropic exponent  1.308861965771162\n",
            "power based in simple method  4.44150496724336 MW\n",
            "temperature out based on simple method (Z inlet)  79.19757833123418  C\n",
            "Z inlet  0.8973022076776481  Z average  0.9313874270433666\n",
            "power based in simple method (average Z)  4.6102214485214335 MW\n"
          ]
        }
      ],
      "source": [
        "temperature_inlet = 35.0 #@param {type:\"number\"}\n",
        "pressure_inlet = 85.0 #@param {type:\"number\"}\n",
        "\n",
        "pressure_Out = 150.0 #@param {type:\"number\"}\n",
        "temperature_out = 100.0\n",
        "\n",
        "gasFlowRate = 5.0#@param {type:\"number\"} # MSm3/day\n",
        "\n",
        "polytropicEfficiency = 77.0 #@param {type:\"number\"} # compressor efficiency%\n",
        "\n",
        "fluid1 = fluid('srk')\n",
        "fluid1.addComponent('methane', 1.0)\n",
        "fluid1.setTotalFlowRate(gasFlowRate, \"MSm3/day\")\n",
        "fluid1.setPressure(pressure_inlet, 'bara')\n",
        "fluid1.setTemperature(temperature_inlet, 'C')\n",
        "\n",
        "TPflash(fluid1)\n",
        "fluid1.initProperties()\n",
        "\n",
        "kappa = fluid1.getGamma2()  # using \"ideal gamma\" gamma = Cp/(Cp-R)\n",
        "print(\"kappa \", kappa)\n",
        "MW = fluid1.getMolarMass()\n",
        "z_inlet = fluid1.getZ()\n",
        "\n",
        "n = 1.0/ (1.0 - (kappa-1.0)/kappa*1.0/(polytropicEfficiency/100.0))\n",
        "print(\"polytropic exponent \", n)\n",
        "power = n/(n-1.0)*(temperature_inlet+273.15)*z_inlet/(polytropicEfficiency/100.0)*(gasFlowRate*1.0e6/24.0/3600.0)*(101325.0/288.15)*(math.pow(pressure_Out/pressure_inlet, (n-1.0)/n)-1.0)\n",
        "estOutTemp = (temperature_inlet+273.15)*math.pow(pressure_Out/pressure_inlet, (n-1.0)/n)\n",
        "print(\"power based in simple method \", power/1e6, \"MW\")\n",
        "print(\"temperature out based on simple method (Z inlet) \", (estOutTemp-273.15), \" C\")\n",
        "\n",
        "fluid1.setPressure(pressure_Out, 'bara')\n",
        "fluid1.setTemperature(temperature_out, 'C')\n",
        "TPflash(fluid1)\n",
        "z_outlet = fluid1.getZ()\n",
        "\n",
        "Z_average = (z_inlet+z_outlet)/2.0\n",
        "print(\"Z inlet \" ,z_inlet, \" Z average \", Z_average)\n",
        "\n",
        "power = n/(n-1.0)*(temperature_inlet+273.15)*Z_average/(polytropicEfficiency/100.0)*(gasFlowRate*1.0e6/24.0/3600.0)*(101325.0/288.15)*(math.pow(pressure_Out/pressure_inlet, (n-1.0)/n)-1.0)\n",
        "print(\"power based in simple method (average Z) \", power/1e6, \"MW\")\n"
      ]
    },
    {
      "cell_type": "markdown",
      "metadata": {
        "id": "HhNiixWWiF-v"
      },
      "source": [
        "# Using regorous method based on EoS\n",
        "In the follwong example we use the case from the previous example using the regorous comprooser calculation method in NeqSim (rigorous). In the regorous method the compressor is calculated using a number of adabatic pressure stages.\n",
        "\n",
        "The method is as follows:\n",
        "\n",
        "1. Define number of pressure stages\n",
        "2. Perform an adibatic flash for each stage\n",
        "3. Calculate the outlet enthalpy based on polytroipic efficiency (hout = hin+(hadi-hin)/polytropic efficiency. Run a PHflash (return temperature of pressure stage)"
      ]
    },
    {
      "cell_type": "code",
      "execution_count": 12,
      "metadata": {
        "colab": {
          "base_uri": "https://localhost:8080/"
        },
        "id": "uwXs_POtiXlc",
        "outputId": "a4236001-39d0-4ed9-c62f-d3696b1dd74d"
      },
      "outputs": [
        {
          "output_type": "stream",
          "name": "stdout",
          "text": [
            "Compressor power  4.654968883041333  MW\n",
            "Temperature out  90.5343782328423  C\n"
          ]
        }
      ],
      "source": [
        "from neqsim.process import stream,  compressor, runProcess,clearProcess\n",
        "\n",
        "fluid1 = fluid('srk')\n",
        "fluid1.addComponent('methane', 1.0)\n",
        "fluid1.setPressure(pressure_inlet, 'bara')\n",
        "fluid1.setTemperature(temperature_inlet, \"C\")\n",
        "fluid1.setTotalFlowRate(gasFlowRate, \"MSm3/day\")\n",
        "\n",
        "clearProcess()\n",
        "inletStream  = stream('stream1 ', fluid1)\n",
        "compressor1 = compressor('compressor 1', inletStream)\n",
        "compressor1.setOutletPressure(pressure_Out)\n",
        "compressor1.setPolytropicEfficiency(polytropicEfficiency/100.0)\n",
        "compressor1.setUsePolytropicCalc(True)\n",
        "compressor1.setPolytropicMethod('detailed')\n",
        "runProcess()\n",
        "\n",
        "print('Compressor power ', compressor1.getPower()/1e6, ' MW')\n",
        "print('Temperature out ', compressor1.getOutStream().getTemperature('C'), ' C')"
      ]
    },
    {
      "cell_type": "markdown",
      "metadata": {
        "id": "0ZVHHmpT1Tbd"
      },
      "source": [
        "# Method based on EoS\n",
        "The following calculatin method uses a simplified method often used in process simulators.\n",
        "\n",
        "Power is calculated based on the equation:\n",
        "\n",
        "$ W = m\\times\\frac{n}{n-1}\\times CF \\times \\frac{P_{1}}{\\rho_{1}} \\times(\\frac{P_2}{P_1}^\\frac{n-1}{n}-1)$\n",
        "\n",
        "\n"
      ]
    },
    {
      "cell_type": "code",
      "execution_count": 13,
      "metadata": {
        "colab": {
          "base_uri": "https://localhost:8080/"
        },
        "id": "yOz3OH-41aX2",
        "outputId": "694faa71-617f-4b00-ae18-6342f2ced7a4"
      },
      "outputs": [
        {
          "output_type": "stream",
          "name": "stdout",
          "text": [
            "power  4.697550368060345  MW\n"
          ]
        }
      ],
      "source": [
        "from neqsim.thermo import PSflash\n",
        "fluid1 = fluid('srk')\n",
        "fluid1.addComponent('methane', 1.0)\n",
        "fluid1.setPressure(pressure_inlet, 'bara')\n",
        "fluid1.setTemperature(temperature_inlet, \"C\")\n",
        "fluid1.setTotalFlowRate(gasFlowRate, \"MSm3/day\")\n",
        "\n",
        "#Calculate inlet properties\n",
        "TPflash(fluid1)\n",
        "fluid1.initProperties()\n",
        "densIn = float(fluid1.getDensity(\"kg/m3\"))\n",
        "enthIn = fluid1.getEnthalpy()\n",
        "entrIn = fluid1.getEntropy()\n",
        "MW = fluid1.getMolarMass()\n",
        "\n",
        "#Calculate adibatic/isentripic properties\n",
        "fluid1.setPressure(pressure_Out, 'bara')\n",
        "PSflash(fluid1, entrIn)\n",
        "fluid1.initProperties()\n",
        "densOutIsentropic = float(fluid1.getDensity(\"kg/m3\"))\n",
        "enthalpyOutIsentropic = fluid1.getEnthalpy()\n",
        "isenthalpicvolumeexponent = math.log(pressure_Out / pressure_inlet) / math.log(densOutIsentropic / densIn)\n",
        "term = isenthalpicvolumeexponent/(isenthalpicvolumeexponent-1.0)*(polytropicEfficiency/100.0)\n",
        "term2 = 1e5*(pressure_Out/densOutIsentropic-pressure_inlet/densIn)\n",
        "CF = (enthalpyOutIsentropic-enthIn)/(term*term2)\n",
        "\n",
        "#Calculate power\n",
        "power = term*CF*1e5*pressure_inlet/densIn*(math.pow(pressure_Out / pressure_inlet, 1.0/term)-1.0)/1e6\n",
        "\n",
        "print('power ',power, ' MW')"
      ]
    },
    {
      "cell_type": "markdown",
      "metadata": {
        "id": "DLdwAMx5cKxK"
      },
      "source": [
        "#Comparing methods for compressor calculations in NeqSim"
      ]
    },
    {
      "cell_type": "code",
      "execution_count": 17,
      "metadata": {
        "colab": {
          "base_uri": "https://localhost:8080/"
        },
        "id": "XSUj0GAdcYLq",
        "outputId": "775488a7-d446-411f-a76f-092ce03029e1"
      },
      "outputs": [
        {
          "output_type": "stream",
          "name": "stdout",
          "text": [
            "Detailed: Compressor power  4.654968883041333  MW\n",
            "Detailed: Temperature out  90.5343782328423  C\n",
            "schultz: Compressor power  4.668262328473301  MW\n",
            "schultz: Temperature out  90.64712209459867  C\n",
            "simple: Compressor power  4.695650833015089  MW\n",
            "simple: Temperature out  90.87943238249852  C\n"
          ]
        }
      ],
      "source": [
        "from neqsim.process import stream,  compressor, runProcess,clearProcess\n",
        "\n",
        "fluid1 = fluid('srk')\n",
        "fluid1.addComponent('methane', 1.0)\n",
        "fluid1.setPressure(pressure_inlet, 'bara')\n",
        "fluid1.setTemperature(temperature_inlet, \"C\")\n",
        "fluid1.setTotalFlowRate(gasFlowRate, \"MSm3/day\")\n",
        "\n",
        "clearProcess()\n",
        "inletStream  = stream('steam 1', fluid1)\n",
        "compressor1 = compressor('compressor 1', inletStream)\n",
        "compressor1.setOutletPressure(pressure_Out)\n",
        "compressor1.setPolytropicEfficiency(polytropicEfficiency/100.0)\n",
        "compressor1.setUsePolytropicCalc(True)\n",
        "compressor1.setPolytropicMethod('detailed')\n",
        "runProcess()\n",
        "\n",
        "print('Detailed: Compressor power ', compressor1.getPower()/1e6, ' MW')\n",
        "print('Detailed: Temperature out ', compressor1.getOutStream().getTemperature('C'), ' C')\n",
        "\n",
        "clearProcess()\n",
        "inletStream  = stream('stream 1', fluid1)\n",
        "compressor1 = compressor('compressor 1', inletStream)\n",
        "compressor1.setOutletPressure(pressure_Out)\n",
        "compressor1.setPolytropicEfficiency(polytropicEfficiency/100.0)\n",
        "compressor1.setUsePolytropicCalc(True)\n",
        "compressor1.setPolytropicMethod('schultz')\n",
        "runProcess()\n",
        "\n",
        "print('schultz: Compressor power ', compressor1.getPower()/1e6, ' MW')\n",
        "print('schultz: Temperature out ', compressor1.getOutStream().getTemperature('C'), ' C')\n",
        "\n",
        "clearProcess()\n",
        "inletStream  = stream('stream 1', fluid1)\n",
        "compressor1 = compressor('compressor 1',inletStream)\n",
        "compressor1.setOutletPressure(pressure_Out)\n",
        "compressor1.setPolytropicEfficiency(polytropicEfficiency/100.0)\n",
        "compressor1.setUsePolytropicCalc(True)\n",
        "compressor1.setPolytropicMethod('simple')\n",
        "runProcess()\n",
        "\n",
        "print('simple: Compressor power ', compressor1.getPower()/1e6, ' MW')\n",
        "print('simple: Temperature out ', compressor1.getOutStream().getTemperature('C'), ' C')"
      ]
    },
    {
      "cell_type": "markdown",
      "metadata": {
        "id": "LT-y18615ufh"
      },
      "source": [
        "## Case Study using SRK EoS##\n",
        "\n",
        "http://www.jmcampbell.com/tip-of-the-month/2011/11/compressor-calculations-rigorous-using-equation-of-state-vs-shortcut-method/\n",
        "\n",
        "The gas mixture with the composition shown in Table1 at 105 °F (40.6 °C) and 115 Psia (793 kPa) is compressed using a single-stage centrifugal compressor with the polytropic head and efficiency curves shown in Figures 1 and 2 at a speed of 7992 rpm. The total feed gas volumetric flow rate was 101 MMSCFD (2.86×106 Sm3/d)."
      ]
    },
    {
      "cell_type": "code",
      "execution_count": 19,
      "metadata": {
        "colab": {
          "base_uri": "https://localhost:8080/"
        },
        "id": "aqXcwP7UcyVE",
        "outputId": "14b8f48e-d0ba-437a-f8ca-1ea66fcfcd64"
      },
      "outputs": [
        {
          "output_type": "stream",
          "name": "stdout",
          "text": [
            "kappa  1.2337246290201793\n",
            "actual flow rate  16205.49354807249  m3/hr\n",
            "n  1.3177277845180726\n",
            "head  15535.0  meter\n",
            "pressure ratio  2.9073059602493334\n",
            "pressure out   23.05493626477721\n",
            "estimated out temperature  132.67580428210812\n",
            "\n",
            "Calculations using polytropic efficiency:  78.57 %\n",
            "compressor1 power  5.503886582096322  MW\n",
            "temperature out  127.89823198186195\n",
            "pressure out  23.054936264777204\n"
          ]
        }
      ],
      "source": [
        "temperature_inlet = 40.6 #@param {type:\"number\"} # temperature in C\n",
        "pressure_inlet = 7.93 #@param {type:\"number\"} # pressure in bar\n",
        "\n",
        "gasFlowRate = 2.86#@param {type:\"number\"} # MSm3/day\n",
        "\n",
        "polytropicEfficiency = 77.0 #@param {type:\"number\"} # compressor efficiency%\n",
        "\n",
        "fluid1 = fluid('srk')\n",
        "fluid1.addComponent('methane', 83.099)\n",
        "fluid1.addComponent('ethane', 6.925)\n",
        "fluid1.addComponent('propane', 4.946)\n",
        "fluid1.addComponent('i-butane', 1.484)\n",
        "fluid1.addComponent('n-butane', 0.989)\n",
        "fluid1.addComponent('i-pentane', 0.495)\n",
        "fluid1.addComponent('n-pentane', 0.495)\n",
        "fluid1.addComponent('n-hexane', 0.198)\n",
        "fluid1.addComponent('n-heptane', 0.148)\n",
        "fluid1.addComponent('n-octane', 0.099)\n",
        "fluid1.addComponent('water', 0.983)\n",
        "fluid1.setTotalFlowRate(gasFlowRate, \"MSm3/day\")\n",
        "fluid1.setPressure(pressure_inlet, 'bara')\n",
        "fluid1.setTemperature(temperature_inlet, 'C')\n",
        "fluid1.setMixingRule(2)\n",
        "fluid1.setMultiPhaseCheck(True)\n",
        "TPflash(fluid1)\n",
        "fluid1.initProperties()\n",
        "actFlowRate = fluid1.getFlowRate(\"m3/hr\")\n",
        "gasdensty = fluid1.getDensity(\"kg/m3\")\n",
        "kappa = fluid1.getGamma2() # using \"ideal gamma\" gamma = Cp/(Cp-R)\n",
        "MW = fluid1.getMolarMass()\n",
        "enthalpy_inlet = fluid1.getEnthalpy('J/kg')\n",
        "entropy_inlet = fluid1.getEntropy()\n",
        "z_inlet = fluid1.getZ()\n",
        "vol_inlet = fluid1.getVolume()\n",
        "print(\"kappa \", kappa)\n",
        "print(\"actual flow rate \", actFlowRate, \" m3/hr\")\n",
        "\n",
        "compressorspeed = 7992 # RPM\n",
        "\n",
        "def polytropEfficiency(flow, speed):\n",
        "        return 78.57\n",
        "\n",
        "def polytropHead(flow, speed):\n",
        "        return 15535.0\n",
        "\n",
        "polytropEff = polytropEfficiency(actFlowRate, compressorspeed)\n",
        "head_meter = polytropHead(actFlowRate, compressorspeed)\n",
        "\n",
        "n = 1.0/ (1.0 - (kappa-1.0)/kappa*1.0/(polytropEff/100.0))\n",
        "print(\"n \",n)\n",
        "print(\"head \", head_meter, \" meter\")\n",
        "head_kjkg = head_meter/1000.0*9.81\n",
        "pressureRatio = math.pow((head_kjkg*1000.0 +  (n/(n-1.0)*z_inlet*8.314*(temperature_inlet+273.15)/MW))/ (n/(n-1.0)*z_inlet*8.314*(temperature_inlet+273.15)/MW), n/(n-1.0))\n",
        "print(\"pressure ratio \", pressureRatio)\n",
        "pressure_outlet = pressure_inlet*pressureRatio\n",
        "print(\"pressure out  \", pressure_outlet)\n",
        "estOutTemp = (temperature_inlet+273.15)*math.pow(pressureRatio, (n-1.0)/n)-273.15\n",
        "print(\"estimated out temperature \", estOutTemp)\n",
        "\n",
        "\n",
        "clearProcess()\n",
        "stream1 = stream('stream 1', fluid1)\n",
        "compressor_1 = compressor('compressor 1', stream1, pressure_outlet)\n",
        "compressor_1.setOutletPressure(pressure_outlet)\n",
        "compressor_1.setPolytropicEfficiency(polytropEff/100.0)\n",
        "compressor_1.setUsePolytropicCalc(True)\n",
        "runProcess()\n",
        "print()\n",
        "print(\"Calculations using polytropic efficiency: \", (polytropEff), '%')\n",
        "print(\"compressor1 power \", compressor_1.getTotalWork()/1e6, \" MW\")\n",
        "print(\"temperature out \", (compressor_1.getThermoSystem().getTemperature()-273.15))\n",
        "print(\"pressure out \", (compressor_1.getThermoSystem().getPressure()))"
      ]
    },
    {
      "cell_type": "markdown",
      "metadata": {
        "id": "ZWgzj3JquP8p"
      },
      "source": [
        "# Using neqsim with compressor curves #\n",
        "This example demostrates use of NeqSim for compressor calculations when compresor curves are used as basis for calculation.\n",
        "\n",
        "Anti surge control is enabeled by setting compressor.getAntiSurge().setActive(True). The anit surge will activate when flow rate through compressor is lower than surge conditions. Gas recirculation will be set to a level so th gas flow through the compressor will be at the surge line."
      ]
    },
    {
      "cell_type": "code",
      "execution_count": 22,
      "metadata": {
        "colab": {
          "base_uri": "https://localhost:8080/"
        },
        "id": "C30SK_y7ugXo",
        "outputId": "db82c15a-f4eb-416c-a3ee-9125a11cb73e"
      },
      "outputs": [
        {
          "output_type": "stream",
          "name": "stdout",
          "text": [
            "inlet flow  484.560486357535  m3/hr\n",
            "pressure out  84.0772345011972  bara\n",
            "compressor2 power  0.4110579653963213  MW\n",
            "temperature out of compressor2  65.07571694584834  °C\n"
          ]
        }
      ],
      "source": [
        "from neqsim.process import compressorChart\n",
        "\n",
        "from neqsim.thermo import fluid\n",
        "from neqsim.process import clearProcess, stream, compressor, runProcess, compressorChart,compressorSurgeCurve, compressorStoneWallCurve\n",
        "\n",
        "# Start by creating a fluid in neqsim\n",
        "fluid1 = fluid(\"srk\")  # create a fluid using the SRK-EoS\n",
        "#fluid1.addComponent(\"nitrogen\", 1.0)\n",
        "#fluid1.addComponent(\"CO2\", 2.0)\n",
        "fluid1.addComponent(\"methane\", 91.0)\n",
        "fluid1.addComponent(\"ethane\", 5.0)\n",
        "fluid1.addComponent(\"propane\", 3.0)\n",
        "fluid1.addComponent(\"i-butane\", 2.0)\n",
        "fluid1.addComponent(\"n-butane\", 2.0)\n",
        "fluid1.setMixingRule(2)\n",
        "\n",
        "fluid1.setTemperature(25.0, \"C\")\n",
        "fluid1.setPressure(50.0, \"bara\")\n",
        "fluid1.setTotalFlowRate(0.635, \"MSm3/day\")\n",
        "# demonstration of setting up a simple process calculation\n",
        "\n",
        "clearProcess()\n",
        "stream1 = stream('stream 1', fluid1)\n",
        "compressor2 = compressor('compressor 1', stream1, 51.0)\n",
        "\n",
        "\n",
        "MW=28.01\n",
        "inlepPres=100.0\n",
        "inletTemp=26.2\n",
        "Zinlet=0.89\n",
        "curveConditions = [MW, inlepPres, inletTemp, Zinlet]\n",
        "\n",
        "speed = [1000.0, 2000.0, 3000.0, 4000.0]\n",
        "flow = [[453.2, 600.0, 750.0, 800.0], [533.2, 620.0, 750.0, 800.0],[560.2, 711.0, 750.0, 800.0],[583.2, 720.0, 780.0, 830.0]]\n",
        "head = [[ 9000.0, 8000.0, 7000.0, 6000.0], [10000.0, 9500.0, 9000.0, 8000.0 ], [10900.0, 10000.0, 9300.0, 8390.0], [ 11200.0, 10500.0, 9800.0, 9000.0]]\n",
        "polyEff = [[ 90.0, 91.0, 89.0, 88.0 ], [90.0, 91.0, 89.0, 88.0 ], [90.0, 91.0, 89.0, 88.1],[90.0, 91.0, 89.0, 88.1]]\n",
        "compressorChart(compressor2, curveConditions, speed, flow, head, polyEff)\n",
        "\n",
        "\n",
        "surgeFlow = [453.2, 500.0, 520.0, 550.0]\n",
        "surgeHead = [6000.0, 7000.0, 8000.0, 12000.0]\n",
        "compressorSurgeCurve(compressor2, curveConditions, surgeFlow, surgeHead)\n",
        "\n",
        "stoneWallFlow = [923.2, 950.0, 980.0, 1000.0]\n",
        "stoneWallHead = [6000.0, 7000.0, 8000.0, 10000.0]\n",
        "compressorStoneWallCurve(compressor2, curveConditions, stoneWallFlow, stoneWallHead)\n",
        "\n",
        "\n",
        "compressor2.setUsePolytropicCalc(True)\n",
        "compressor2.getAntiSurge().setActive(True)\n",
        "compressor2.getAntiSurge().setSurgeControlFactor(1.05) # flow will be set to this factor higher than surge line\n",
        "compressor2.setSpeed(2050)\n",
        "\n",
        "runProcess()\n",
        "print(\"inlet flow \", stream1.getThermoSystem().getFlowRate(\"m3/hr\"), \" m3/hr\")\n",
        "#print(\"active anti surge? \", compressor2.getAntiSurge().isSurge()\n",
        "#print(\"flow fraction in surge line \", compressor2.getAntiSurge().getCurrentSurgeFraction())\n",
        "#print(\"polytropic head \", compressor2.getPolytropicHead(), \" meter\")\n",
        "#print(\"polytropic fluid head \", compressor2.getPolytropicFluidHead(), \" kJ/kg\")\n",
        "#print(\"polytropic exponent\", compressor2.getPolytropicExponent(), \" -\")\n",
        "print(\"pressure out \", compressor2.getOutStream().getPressure(), \" bara\")\n",
        "print(\"compressor2 power \", compressor2.getPower()/1.0e6, \" MW\")\n",
        "print(\"temperature out of compressor2 \", compressor2.getOutStream().getTemperature()-273.15, \" °C\")"
      ]
    },
    {
      "cell_type": "code",
      "source": [
        "compressor2.getCompressorChart().getPolytropicHead(700.0, 2000)"
      ],
      "metadata": {
        "id": "lRIaRua1N-5u",
        "outputId": "2d5171cc-3502-4f26-b238-92af7e859c00",
        "colab": {
          "base_uri": "https://localhost:8080/"
        }
      },
      "execution_count": 23,
      "outputs": [
        {
          "output_type": "execute_result",
          "data": {
            "text/plain": [
              "14464.868081803765"
            ]
          },
          "metadata": {},
          "execution_count": 23
        }
      ]
    },
    {
      "cell_type": "code",
      "source": [
        "stream1.setFlowRate(0.8635, \"MSm3/day\")\n",
        "stream1.run()\n",
        "compressor2.setSpeed(1000)\n",
        "compressor2.run()\n",
        "import matplotlib.pyplot as plt\n",
        "plt.plot(flow[0], head[0])\n",
        "plt.plot(flow[1], head[1])\n",
        "plt.plot(flow[2], head[2])\n",
        "plt.plot(flow[3], head[3])\n",
        "plt.plot(surgeFlow, surgeHead)\n",
        "plt.plot(compressor2.getInStream().getFlowRate('m3/hr'), compressor2.getPolytropicHead(), marker='*')\n",
        "plt.xlabel('Flow [m3/hr]')\n",
        "plt.ylabel('Head [kJ/kg]')"
      ],
      "metadata": {
        "id": "vU4yubERHHdA",
        "outputId": "ed1b59b2-4319-49cc-d59d-effdbc6217d8",
        "colab": {
          "base_uri": "https://localhost:8080/",
          "height": 466
        }
      },
      "execution_count": 24,
      "outputs": [
        {
          "output_type": "execute_result",
          "data": {
            "text/plain": [
              "Text(0, 0.5, 'Head [kJ/kg]')"
            ]
          },
          "metadata": {},
          "execution_count": 24
        },
        {
          "output_type": "display_data",
          "data": {
            "text/plain": [
              "<Figure size 640x480 with 1 Axes>"
            ],
            "image/png": "[encoded data removed]"
          },
          "metadata": {}
        }
      ]
    },
    {
      "cell_type": "markdown",
      "metadata": {
        "id": "lSggAOasyOpi"
      },
      "source": [
        "# Calculation of a gas compression train (two stage calculation)\n",
        "In this example we calculate the pressure and power in a compression train of two compressors operating on the same shaft (same speed for both compressores). The calculations are further run for a series of inlet pressures, gas flow rates, compressor speeds. Resulting pressure levels and compressor powers are calculated. For details of the compressor code implementation see [this link to the Java code](https://github.com/equinor/neqsim/tree/master/src/main/java/neqsim/processSimulation/processEquipment/compressor)."
      ]
    },
    {
      "cell_type": "code",
      "execution_count": 27,
      "metadata": {
        "colab": {
          "base_uri": "https://localhost:8080/"
        },
        "id": "z19AYce4ytcE",
        "outputId": "444a08de-2989-47ff-aa85-a9d3910c2f3a"
      },
      "outputs": [
        {
          "output_type": "stream",
          "name": "stdout",
          "text": [
            "compressor1 power  1.346363853477925  MW\n",
            "compressor2 power  0.28367359349767224  MW\n",
            "feed pressure  50.03  bara\n",
            "1 stage pressure  149.79487079835394  bara\n",
            "2 stage pressure  201.47835879794022  bara\n"
          ]
        }
      ],
      "source": [
        "gasFlowRate = 0.86#@param {type:\"number\"} # MSm3/day\n",
        "compressorSpeed = 1500 #@param {type:\"number\"} # MSm3/day\n",
        "\n",
        "temperature_inlet = 40.6 #@param {type:\"number\"} # temperature in C\n",
        "pressure_inlet = 50.03 #@param {type:\"number\"} # pressure in bar\n",
        "\n",
        "temperature_MP = 35.2 #@param {type:\"number\"} # temperature in C\n",
        "\n",
        "fluid1 = fluid('srk')\n",
        "fluid1.addComponent('methane', 83.099)\n",
        "fluid1.addComponent('ethane', 6.925)\n",
        "fluid1.addComponent('propane', 4.946)\n",
        "fluid1.addComponent('i-butane', 1.484)\n",
        "fluid1.setTotalFlowRate(gasFlowRate, \"MSm3/day\")\n",
        "fluid1.setPressure(pressure_inlet, 'bara')\n",
        "fluid1.setTemperature(temperature_inlet, 'C')\n",
        "fluid1.setMixingRule(2)\n",
        "\n",
        "clearProcess()\n",
        "stream1 = stream('stream 1',fluid1)\n",
        "compressor_1 = compressor('compressor 1', stream1,70.0)\n",
        "compressor_1.setUsePolytropicCalc(True)\n",
        "coolerMP1 = heater('cooler 1', compressor_1.getOutStream())\n",
        "coolerMP1.setOutTemperature(temperature_MP+273.15)\n",
        "gasscrubber = separator('sep 1', coolerMP1.getOutStream())\n",
        "compressor_2 = compressor('compressor 2', gasscrubber.getGasOutStream(), 50.0)\n",
        "\n",
        "speed = [1000.0, 2000.0, 3000.0, 4000.0]\n",
        "flow = [[453.2, 600.0, 750.0, 800.0], [453.2, 600.0, 750.0, 800.0],[453.2, 600.0, 750.0, 800.0],[453.2, 600.0, 750.0, 800.0]]\n",
        "head = [[ 10000.0, 9000.0, 8000.0, 7500.0], [10000.0, 9000.0, 8000.0, 7500.0 ], [10000.0, 9000.0, 8000.0, 7500.0], [ 10000.0, 9000.0, 8000.0, 7500.0]]\n",
        "polyEff = [[ 90.0, 91.0, 89.0, 88.0 ], [90.0, 91.0, 89.0, 88.0 ], [90.0, 91.0, 89.0, 88.1],[90.0, 91.0, 89.0, 88.1]]\n",
        "compressorChart(compressor2, curveConditions, speed, flow, head, polyEff)\n",
        "\n",
        "\n",
        "compressorChart(compressor_1, curveConditions, speed, flow, head, polyEff)\n",
        "compressor_1.setSpeed(2050);\n",
        "compressor_1.setUsePolytropicCalc(True)\n",
        "\n",
        "flow2 = [[253.2, 400.0, 650.0, 800.0], [253.2, 400.0, 650.0, 800.0],[253.2, 400.0, 650.0, 800.0],[253.2, 400.0, 650.0, 800.0]]\n",
        "compressorChart(compressor_2, curveConditions, speed, flow2, head, polyEff)\n",
        "compressor_2.setSpeed(2050);\n",
        "compressor_2.setUsePolytropicCalc(True)\n",
        "\n",
        "\n",
        "runProcess()\n",
        "\n",
        "print(\"compressor1 power \", compressor_1.getPower()/1e6, \" MW\")\n",
        "print(\"compressor2 power \", compressor_2.getPower()/1e6, \" MW\")\n",
        "\n",
        "print(\"feed pressure \", stream1.getThermoSystem().getPressure(\"bara\"), \" bara\")\n",
        "print(\"1 stage pressure \", compressor_1.getThermoSystem().getPressure(\"bara\"), \" bara\")\n",
        "print(\"2 stage pressure \", compressor_2.getThermoSystem().getPressure(\"bara\"), \" bara\")\n"
      ]
    },
    {
      "cell_type": "code",
      "execution_count": 29,
      "metadata": {
        "colab": {
          "base_uri": "https://localhost:8080/"
        },
        "id": "-dnPIIR8UQbV",
        "outputId": "1f528b0a-1150-456f-f703-61735e60c978"
      },
      "outputs": [
        {
          "output_type": "stream",
          "name": "stdout",
          "text": [
            "feed pressure  40.0\n",
            "compressor1 power  1.8370486980778453  MW\n",
            "compressor2 power  0.23464723228930356  MW\n",
            "feed pressure  40.0  bara\n",
            "1 stage pressure  163.82641046226797  bara\n",
            "2 stage pressure  209.41045058047334  bara\n",
            "feed pressure  50.0\n",
            "compressor1 power  1.3307735739459978  MW\n",
            "compressor2 power  0.29183046211990854  MW\n",
            "feed pressure  50.0  bara\n",
            "1 stage pressure  147.9680254158244  bara\n",
            "2 stage pressure  200.67538947245097  bara\n",
            "feed pressure  55.0\n",
            "compressor1 power  1.1297936098140555  MW\n",
            "compressor2 power  0.3193688708303743  MW\n",
            "feed pressure  55.0  bara\n",
            "1 stage pressure  141.6001594193097  bara\n",
            "2 stage pressure  197.43782628547206  bara\n",
            "flow  0.7\n",
            "compressor1 power  0.7728392696705538  MW\n",
            "compressor2 power  0.2906542499672867  MW\n",
            "feed pressure  50.03  bara\n",
            "1 stage pressure  111.05431109855701  bara\n",
            "2 stage pressure  159.62082266419765  bara\n",
            "flow  0.8\n",
            "compressor1 power  1.1076655807925029  MW\n",
            "compressor2 power  0.2912023491219197  MW\n",
            "feed pressure  50.03  bara\n",
            "1 stage pressure  133.48064367634169  bara\n",
            "2 stage pressure  184.7548737648654  bara\n",
            "flow  0.9\n",
            "compressor1 power  1.485481735764455  MW\n",
            "compressor2 power  0.29341801422051433  MW\n",
            "feed pressure  50.03  bara\n",
            "1 stage pressure  157.94352278656763  bara\n",
            "2 stage pressure  211.6631616092981  bara\n",
            "flow  1.0\n",
            "compressor1 power  1.9019064971571387  MW\n",
            "compressor2 power  0.3015373873309754  MW\n",
            "feed pressure  50.03  bara\n",
            "1 stage pressure  184.2214902213878  bara\n",
            "2 stage pressure  240.76700774378583  bara\n",
            "speed  1000\n",
            "compressor1 power  0.7052066296976194  MW\n",
            "compressor2 power  0.38915690093866434  MW\n",
            "feed pressure  50.03  bara\n",
            "1 stage pressure  91.11619689478225  bara\n",
            "2 stage pressure  133.1833699478582  bara\n",
            "speed  1500\n",
            "compressor1 power  1.0856234805787852  MW\n",
            "compressor2 power  0.3666626337752128  MW\n",
            "feed pressure  50.03  bara\n",
            "1 stage pressure  123.03508015409984  bara\n",
            "2 stage pressure  179.1459151015848  bara\n",
            "speed  2000\n",
            "compressor1 power  1.3294767712723272  MW\n",
            "compressor2 power  0.29199934297373425  MW\n",
            "feed pressure  50.03  bara\n",
            "1 stage pressure  147.92680401782744  bara\n",
            "2 stage pressure  200.65391152864524  bara\n"
          ]
        }
      ],
      "source": [
        "inletPressure = [40.0, 50.0, 55.0]\n",
        "\n",
        "\n",
        "\n",
        "# Using for loop\n",
        "for pressure in inletPressure:\n",
        "  stream1.getThermoSystem().setPressure(pressure)\n",
        "  runProcess()\n",
        "  print(\"feed pressure \", pressure)\n",
        "  print(\"compressor1 power \", compressor_1.getPower()/1e6, \" MW\")\n",
        "  print(\"compressor2 power \", compressor_2.getPower()/1e6, \" MW\")\n",
        "  print(\"feed pressure \", stream1.getThermoSystem().getPressure(\"bara\"), \" bara\")\n",
        "  print(\"1 stage pressure \", compressor_1.getThermoSystem().getPressure(\"bara\"), \" bara\")\n",
        "  print(\"2 stage pressure \", compressor_2.getThermoSystem().getPressure(\"bara\"), \" bara\")\n",
        "\n",
        "stream1.getThermoSystem().setPressure(pressure_inlet)\n",
        "inletFlow = [0.7, 0.8, 0.9, 1.0]\n",
        "# Using for loop\n",
        "for flow in inletFlow:\n",
        "  stream1.getThermoSystem().setTotalFlowRate(flow, \"MSm3/day\")\n",
        "  runProcess()\n",
        "  print(\"flow \", flow)\n",
        "  print(\"compressor1 power \", compressor_1.getPower()/1e6, \" MW\")\n",
        "  print(\"compressor2 power \", compressor_2.getPower()/1e6, \" MW\")\n",
        "  print(\"feed pressure \", stream1.getThermoSystem().getPressure(\"bara\"), \" bara\")\n",
        "  print(\"1 stage pressure \", compressor_1.getThermoSystem().getPressure(\"bara\"), \" bara\")\n",
        "  print(\"2 stage pressure \", compressor_2.getThermoSystem().getPressure(\"bara\"), \" bara\")\n",
        "\n",
        "stream1.getThermoSystem().setTotalFlowRate(gasFlowRate, \"MSm3/day\")\n",
        "speedRuns = [1000, 1500, 2000]\n",
        "\n",
        "# Using for loop\n",
        "for speed in speedRuns:\n",
        "  compressor_1.setSpeed(speed)\n",
        "  compressor_2.setSpeed(speed)\n",
        "  runProcess()\n",
        "  print(\"speed \", speed)\n",
        "  print(\"compressor1 power \", compressor_1.getPower()/1e6, \" MW\")\n",
        "  print(\"compressor2 power \", compressor_2.getPower()/1e6, \" MW\")\n",
        "  print(\"feed pressure \", stream1.getThermoSystem().getPressure(\"bara\"), \" bara\")\n",
        "  print(\"1 stage pressure \", compressor_1.getThermoSystem().getPressure(\"bara\"), \" bara\")\n",
        "  print(\"2 stage pressure \", compressor_2.getThermoSystem().getPressure(\"bara\"), \" bara\")"
      ]
    },
    {
      "cell_type": "markdown",
      "metadata": {
        "id": "MUsZwcbMpn-d"
      },
      "source": [
        "# More examples of compressor calculations\n",
        "Evaluation of alternative methods for compressor calculations"
      ]
    },
    {
      "cell_type": "code",
      "execution_count": 31,
      "metadata": {
        "colab": {
          "base_uri": "https://localhost:8080/"
        },
        "id": "6m_nFQPU8KfA",
        "outputId": "6dba235a-f0da-4067-fda3-7bd3bd440243"
      },
      "outputs": [
        {
          "output_type": "stream",
          "name": "stdout",
          "text": [
            "kappa  1.2419141565372038\n",
            "actual flow rate  16205.49354807249  m3/hr\n",
            "n  1.3296471847434705\n",
            "head_meter  15535.0\n",
            "pressure ratio  2.897012868556815\n",
            "pressure out   22.973312047655543\n",
            "\n",
            "Calculations using polytropic efficiency:  78.57 %\n",
            "compressor1 power  5.483253309822206  MW\n",
            "temperature out  127.58341422739824\n",
            "pressure out  22.97331204765553\n"
          ]
        }
      ],
      "source": [
        "temperature_inlet = 40.6 #@param {type:\"number\"}\n",
        "pressure_inlet = 7.93 #@param {type:\"number\"}\n",
        "\n",
        "gasFlowRate = 2.86#@param {type:\"number\"} # MSm3/day\n",
        "\n",
        "polytropicEfficiency = 77.0 #@param {type:\"number\"} # compressor efficiency%\n",
        "\n",
        "fluid1 = fluid('srk')\n",
        "fluid1.addComponent('methane', 83.099)\n",
        "fluid1.addComponent('ethane', 6.925)\n",
        "fluid1.addComponent('propane', 4.946)\n",
        "fluid1.addComponent('i-butane', 1.484)\n",
        "fluid1.addComponent('n-butane', 0.989)\n",
        "fluid1.addComponent('i-pentane', 0.495)\n",
        "fluid1.addComponent('n-pentane', 0.495)\n",
        "fluid1.addComponent('n-hexane', 0.198)\n",
        "fluid1.addComponent('n-heptane', 0.148)\n",
        "fluid1.addComponent('n-octane', 0.099)\n",
        "fluid1.addComponent('water', 0.983)\n",
        "fluid1.setTotalFlowRate(gasFlowRate, \"MSm3/day\")\n",
        "fluid1.setPressure(pressure_inlet, 'bara')\n",
        "fluid1.setTemperature(temperature_inlet, 'C')\n",
        "fluid1.setMixingRule(2)\n",
        "fluid1.setMultiPhaseCheck(True)\n",
        "TPflash(fluid1)\n",
        "fluid1.initProperties()\n",
        "actFlowRate = fluid1.getFlowRate(\"m3/hr\")\n",
        "gasdensty = fluid1.getDensity(\"kg/m3\")\n",
        "kappa = fluid1.getPhase(0).getKappa()\n",
        "MW = fluid1.getMolarMass()\n",
        "enthalpy_inlet = fluid1.getEnthalpy('J/kg')\n",
        "entropy_inlet = fluid1.getEntropy()\n",
        "z_inlet = fluid1.getZ()\n",
        "vol_inlet = fluid1.getVolume()\n",
        "n=kappa;\n",
        "print(\"kappa \", kappa)\n",
        "print(\"actual flow rate \", actFlowRate, \" m3/hr\")\n",
        "\n",
        "compressorspeed = 7992 # RPM\n",
        "\n",
        "def polytropEfficiency(flow, speed):\n",
        "        return 78.57\n",
        "\n",
        "def polytropHead(flow, speed):\n",
        "        return 15535.0\n",
        "\n",
        "polytropEff = polytropEfficiency(actFlowRate, compressorspeed)\n",
        "head_meter = polytropHead(actFlowRate, compressorspeed)\n",
        "\n",
        "n = 1.0/ (1.0 - (kappa-1.0)/kappa*1.0/(polytropEff/100.0))\n",
        "print(\"n \",n)\n",
        "print(\"head_meter \", head_meter)\n",
        "head_kjkg = head_meter/1000.0*9.81\n",
        "pressureRatio = math.pow((head_kjkg*1000.0 +  (n/(n-1.0)*z_inlet*8.314*(temperature_inlet+273.15)/MW))/ (n/(n-1.0)*z_inlet*8.314*(temperature_inlet+273.15)/MW), n/(n-1.0))\n",
        "print(\"pressure ratio \", pressureRatio)\n",
        "pressure_outlet = pressure_inlet*pressureRatio\n",
        "print(\"pressure out  \", pressure_outlet)\n",
        "\n",
        "clearProcess()\n",
        "stream1 = stream('stream 1', fluid1)\n",
        "compressor_1 = compressor('comp 1', stream1, pressure_outlet)\n",
        "compressor_1.setPolytropicEfficiency(polytropEff/100.0)\n",
        "compressor_1.setUsePolytropicCalc(True)\n",
        "runProcess()\n",
        "print()\n",
        "print(\"Calculations using polytropic efficiency: \", (polytropEff), '%')\n",
        "print(\"compressor1 power \", compressor_1.getTotalWork()/1e6, \" MW\")\n",
        "print(\"temperature out \", (compressor_1.getThermoSystem().getTemperature()-273.15))\n",
        "print(\"pressure out \", (compressor_1.getThermoSystem().getPressure()))"
      ]
    },
    {
      "cell_type": "code",
      "execution_count": 32,
      "metadata": {
        "colab": {
          "base_uri": "https://localhost:8080/"
        },
        "id": "yqTbZIDLSM2c",
        "outputId": "fae5dc35-0e5c-4949-e774-1ea6a7f9bfc8"
      },
      "outputs": [
        {
          "output_type": "stream",
          "name": "stdout",
          "text": [
            "kappa  1.45715985758999\n",
            "polytropic exponent  1.6876101898401001\n",
            "power based in simple method  4.67005623452687 MW\n",
            "temperature out based on simple method  115.23983254530901  C\n"
          ]
        },
        {
          "output_type": "execute_result",
          "data": {
            "text/plain": [
              "1.1841780119115959"
            ]
          },
          "metadata": {},
          "execution_count": 32
        }
      ],
      "source": [
        "temperature_inlet = 35.0 #@param {type:\"number\"}\n",
        "pressure_inlet = 85.0 #@param {type:\"number\"}\n",
        "\n",
        "pressure_Out = 150.0 #@param {type:\"number\"}\n",
        "temperature_out = 100.0\n",
        "\n",
        "gasFlowRate = 5.0#@param {type:\"number\"} # MSm3/day\n",
        "\n",
        "polytropicEfficiency = 77.0 #@param {type:\"number\"} # compressor efficiency%\n",
        "\n",
        "fluid1 = fluid('srk')\n",
        "fluid1.addComponent('methane', 1.0)\n",
        "fluid1.setTotalFlowRate(gasFlowRate, \"MSm3/day\")\n",
        "fluid1.setPressure(pressure_inlet, 'bara')\n",
        "fluid1.setTemperature(temperature_inlet, 'C')\n",
        "\n",
        "TPflash(fluid1)\n",
        "fluid1.initProperties()\n",
        "\n",
        "kappa = fluid1.getPhase(0).getKappa()\n",
        "print(\"kappa \", kappa)\n",
        "MW = fluid1.getMolarMass()\n",
        "density_inlet = fluid1.getDensity('kg/m3')\n",
        "enthalpy_inlet = fluid1.getEnthalpy('J/kg')\n",
        "entropy_inlet = fluid1.getEntropy()\n",
        "z_inlet = fluid1.getZ()\n",
        "\n",
        "n = 1.0/ (1.0 - (kappa-1.0)/kappa*1.0/(polytropicEfficiency/100.0))\n",
        "print(\"polytropic exponent \", n)\n",
        "power = n/(n-1.0)*(temperature_inlet+273.15)*z_inlet/(polytropicEfficiency/100.0)*(gasFlowRate*1.0e6/24.0/3600.0)*(101325.0/288.15)*(math.pow(pressure_Out/pressure_inlet, (n-1.0)/n)-1.0)\n",
        "estOutTemp = (temperature_inlet+273.15)*math.pow(pressure_Out/pressure_inlet, (n-1.0)/n)\n",
        "print(\"power based in simple method \", power/1e6, \"MW\")\n",
        "print(\"temperature out based on simple method \", (estOutTemp-273.15), \" C\")\n",
        "\n",
        "fluid1.setPressure(pressure_Out, \"bara\")\n",
        "PSflash(fluid1, entropy_inlet)\n",
        "fluid1.initProperties()\n",
        "enthalpy_isentr = fluid1.getEnthalpy('J/kg')\n",
        "density_isentr = fluid1.getDensity('kg/m3')\n",
        "Z_isentr = fluid1.getZ()\n",
        "\n",
        "fluid1.setPressure(pressure_Out, 'bara')\n",
        "fluid1.setTemperature(temperature_out, 'C')\n",
        "TPflash(fluid1)\n",
        "fluid1.initProperties()\n",
        "\n",
        "density_outlet = fluid1.getDensity('kg/m3')\n",
        "enthalpy_outlet = fluid1.getEnthalpy('J/kg')\n",
        "\n",
        "k_s = math.log(pressure_Out/pressure_inlet)/math.log(density_outlet/density_inlet)\n",
        "\n",
        "n = k_s/(k_s-1.0)\n",
        "\n",
        "k_h = (enthalpy_outlet-enthalpy_isentr)/(100000.0 * n * (pressure_Out/density_isentr-pressure_inlet/density_inlet))\n",
        "\n",
        "k_p = (1.0-math.log(density_outlet/density_inlet))/math.log(pressure_Out/pressure_inlet)\n",
        "k_p\n",
        "\n",
        "h_p = k_h*(temperature_inlet+273.15)*Z_isentr*8.314*(math.pow(pressure_Out/pressure_inlet,k_p)-1.0)/(MW*1000.0)/k_p\n",
        "\n",
        "h_tot = h_p/(polytropicEfficiency/100.0)\n",
        "\n",
        "E_p = h_tot*fluid1.getVolume('m3')/density_inlet\n",
        "\n",
        "E_p"
      ]
    },
    {
      "cell_type": "markdown",
      "metadata": {
        "id": "8QPvjsXK6SHX"
      },
      "source": [
        "# Calcuation of compressor head, efficiency and power using the GERG-2008 EoS\n",
        "In the following calculation we will use measured gas composition, flow rates and inlet and outlet temperatures to calculate compressor head, efficiency and power. The GERG-2008 EoS will be used internally in the compressor to calculate properties of the gas."
      ]
    },
    {
      "cell_type": "code",
      "execution_count": 33,
      "metadata": {
        "colab": {
          "base_uri": "https://localhost:8080/"
        },
        "id": "xBBkg_3xBL4C",
        "outputId": "7ae7aedf-1914-42bf-800d-9651d5b9bfc7"
      },
      "outputs": [
        {
          "output_type": "stream",
          "name": "stdout",
          "text": [
            "Natural Gas Fluid:\n",
            "\n",
            "  ComponentName  MolarComposition[-]\n",
            "0      nitrogen                0.340\n",
            "1           CO2                0.840\n",
            "2       methane               90.400\n",
            "3        ethane                5.199\n",
            "4       propane                2.060\n",
            "5      i-butane                0.360\n",
            "6      n-butane                0.550\n",
            "7     i-pentane                0.140\n",
            "8     n-pentane                0.097\n",
            "9      n-hexane                0.014\n"
          ]
        }
      ],
      "source": [
        "#Create fluid\n",
        "from neqsim.thermo import fluid_df\n",
        "import pandas as pd\n",
        "\n",
        "naturalgas = {'ComponentName':  [\"nitrogen\", \"CO2\", \"methane\", \"ethane\", \"propane\", \"i-butane\", \"n-butane\", \"i-pentane\", \"n-pentane\", \"n-hexane\"],\n",
        "        'MolarComposition[-]':  [0.34, 0.84, 90.4, 5.199, 2.06, 0.36, 0.55, 0.14, 0.097, 0.014]\n",
        "}\n",
        "\n",
        "naturalgasdf = pd.DataFrame(naturalgas)\n",
        "print(\"Natural Gas Fluid:\\n\")\n",
        "print(naturalgasdf.head(30).to_string())\n",
        "naturalgasFluid = fluid_df(naturalgasdf)"
      ]
    },
    {
      "cell_type": "code",
      "execution_count": 38,
      "metadata": {
        "colab": {
          "base_uri": "https://localhost:8080/"
        },
        "id": "T7lqwso86sgl",
        "outputId": "dfc8e229-ad9e-4b72-d9fc-d7aa54ddfc6d"
      },
      "outputs": [
        {
          "output_type": "stream",
          "name": "stdout",
          "text": [
            "power  7.298434428721964  MW\n",
            "polytropic efficiency  73.13325871224932  %\n",
            "polytropic head  120.146614013618  kJ/kg\n",
            "delta enthalpy 165.47276340600249  kJ/kg\n",
            "delta enthalpy GERG2008  164.28450766339807  kJ/kg\n"
          ]
        }
      ],
      "source": [
        "from neqsim.process import stream,  compressor\n",
        "\n",
        "gasCompostion = [0.34, 0.84, 90.4, 5.199, 2.06, 0.36, 0.55, 0.14, 0.097, 0.014]\n",
        "gasFlowRate = 5.0\n",
        "\n",
        "temperature_inlet = 35.0\n",
        "pressure_inlet = 40.0\n",
        "\n",
        "temperatureOut = 115.0\n",
        "pressureOut = 90.0\n",
        "\n",
        "naturalgasFluid.setMolarComposition(gasCompostion) # update composition\n",
        "naturalgasFluid.setPressure(pressure_inlet, 'bara')\n",
        "naturalgasFluid.setTemperature(temperature_inlet, 'C')\n",
        "naturalgasFluid.setTotalFlowRate(gasFlowRate, \"MSm3/day\")\n",
        "\n",
        "#Setting up a simple process (one stream and a compressor)\n",
        "inputStream = stream('stream 3', naturalgasFluid)\n",
        "compressor_1 = compressor('comp 2', inputStream)\n",
        "compressor_1.setOutletPressure(pressureOut)\n",
        "compressor_1.setOutTemperature(temperatureOut+273.15)\n",
        "compressor_1.setUsePolytropicCalc(True)\n",
        "compressor_1.setUseRigorousPolytropicMethod(False) #If True it will use advanced integrationm method (see section about regorous method based on EoS), if fasle it uses simplified method (described above)\n",
        "compressor_1.setUseGERG2008(True) # If True GERG-2008 will be used internally in the calculation of the compressor (see implementation: https://github.com/equinor/neqsim/blob/master/src/main/java/neqsim/processSimulation/processEquipment/compressor/Compressor.java#L292)\n",
        "inputStream.run()\n",
        "compressor_1.run()\n",
        "\n",
        "print(\"power \", compressor_1.getPower()/1e6, \" MW\")\n",
        "print(\"polytropic efficiency \", compressor_1.getPolytropicEfficiency()*100, \" %\")\n",
        "print(\"polytropic head \", compressor_1.getPolytropicHead(\"kJ/kg\"), \" kJ/kg\")\n",
        "\n",
        "\n",
        "deltaEnthalpy = compressor_1.getOutStream().getFluid().getEnthalpy(\"kJ/kg\")-compressor_1.getInStream().getFluid().getEnthalpy(\"kJ/kg\")\n",
        "print('delta enthalpy', deltaEnthalpy, ' kJ/kg')\n",
        "\n",
        "enthalpyOutGerg = compressor_1.getOutStream().getFluid().getPhase('gas').getProperties_GERG2008()[7]/compressor_1.getOutStream().getFluid().getPhase('gas').getMolarMass()/1000.0\n",
        "enthalpyInGerg = compressor_1.getInStream().getFluid().getPhase('gas').getProperties_GERG2008()[7]/compressor_1.getInStream().getFluid().getPhase('gas').getMolarMass()/1000.0\n",
        "deltaEnthalpyGERG = enthalpyOutGerg-enthalpyInGerg\n",
        "print('delta enthalpy GERG2008 ', deltaEnthalpyGERG, ' kJ/kg')"
      ]
    },
    {
      "cell_type": "markdown",
      "metadata": {
        "id": "5gnEn0B9xQwa"
      },
      "source": [
        "## Calculation of density/property profile of compression path\n",
        "In the following exmaple we calculate the compression path of a compressor"
      ]
    },
    {
      "cell_type": "code",
      "execution_count": 40,
      "metadata": {
        "id": "hlAGxOvMxQwb",
        "outputId": "d7e0ce97-53ac-412c-e104-6362dd6617d0",
        "colab": {
          "base_uri": "https://localhost:8080/",
          "height": 956
        }
      },
      "outputs": [
        {
          "output_type": "stream",
          "name": "stdout",
          "text": [
            "power  7.0098535524284085  MW\n",
            "density stage 3  29.323233433930927  kg/m3\n",
            "density stage 23  39.38550231651478  kg/m3\n"
          ]
        },
        {
          "output_type": "display_data",
          "data": {
            "text/plain": [
              "<Figure size 640x480 with 1 Axes>"
            ],
            "image/png": "[encoded data removed]"
          },
          "metadata": {}
        },
        {
          "output_type": "display_data",
          "data": {
            "text/plain": [
              "<Figure size 640x480 with 1 Axes>"
            ],
            "image/png": "[encoded data removed]"
          },
          "metadata": {}
        }
      ],
      "source": [
        "from neqsim.process import stream,  compressor, runProcess,clearProcess\n",
        "\n",
        "gasFlowRate = 5.0\n",
        "temperature_inlet = 30.0\n",
        "pressure_inlet = 40.0\n",
        "pressure_Out = 90.0\n",
        "\n",
        "fluid1 = fluid('srk')\n",
        "fluid1.addComponent('methane', 1.0)\n",
        "fluid1.setPressure(pressure_inlet, 'bara')\n",
        "fluid1.setTemperature(temperature_inlet, \"C\")\n",
        "fluid1.setTotalFlowRate(gasFlowRate, \"MSm3/day\")\n",
        "\n",
        "clearProcess()\n",
        "inletStream  = stream('stream 1', fluid1)\n",
        "compressor1 = compressor('comp1 ', inletStream)\n",
        "compressor1.setOutletPressure(pressure_Out)\n",
        "compressor1.setPolytropicEfficiency(polytropicEfficiency/100.0)\n",
        "compressor1.setUsePolytropicCalc(True)\n",
        "compressor1.setPolytropicMethod('detailed')\n",
        "compressor1.setNumberOfCompressorCalcSteps(40);\n",
        "compressor1.getPropertyProfile().setActive(True);\n",
        "runProcess()\n",
        "\n",
        "print('power ', compressor1.getPower()/1e6, ' MW')\n",
        "print('density stage 3 ',compressor1.getPropertyProfile().getFluid().get(3).getDensity(\"kg/m3\"), ' kg/m3')\n",
        "print('density stage 23 ', compressor1.getPropertyProfile().getFluid().get(23).getDensity(\"kg/m3\"), ' kg/m3')\n",
        "\n",
        "\n",
        "density = []\n",
        "pressure = []\n",
        "temperature = []\n",
        "\n",
        "for i in range(40):\n",
        "  density.append(compressor1.getPropertyProfile().getFluid().get(i).getDensity(\"kg/m3\"))\n",
        "  temperature.append(compressor1.getPropertyProfile().getFluid().get(i).getTemperature(\"C\"))\n",
        "  pressure.append(compressor1.getPropertyProfile().getFluid().get(i).getPressure(\"bara\"))\n",
        "\n",
        "import matplotlib.pyplot as plt\n",
        "plt.subplot(1,2,1)\n",
        "plt.plot(pressure, density)\n",
        "plt.xlabel(\"Pressure  [bara]\")\n",
        "plt.ylabel(\"Density [kg/m3]\")\n",
        "plt.show()\n",
        "\n",
        "plt.subplot(1,2,2)\n",
        "plt.plot(pressure, temperature)\n",
        "plt.xlabel(\"Pressure  [bara]\")\n",
        "plt.ylabel(\"Temperature [C]\")\n",
        "plt.title(\"Temperature profile in compressor\")\n",
        "plt.show()"
      ]
    },
    {
      "cell_type": "markdown",
      "source": [
        "# Create lift curves for Eclipse based on compressor maps\n",
        "In the following example we will generate lift curves to be used in Eclipse simulations based on compressor curves."
      ],
      "metadata": {
        "id": "gyyLBLWuh6rG"
      }
    },
    {
      "cell_type": "code",
      "source": [
        "from neqsim.process import stream,  compressor, runProcess,clearProcess\n",
        "from scipy.optimize import least_squares\n",
        "\n",
        "gasFlowRate = 5.0\n",
        "temperature_inlet = 30.0\n",
        "pressure_inlet = 40.0\n",
        "pressure_Out = 90.0\n",
        "\n",
        "fluid1 = fluid('srk')\n",
        "fluid1.addComponent('nitrogen', 1.0)\n",
        "fluid1.addComponent('CO2', 1.0)\n",
        "fluid1.addComponent('methane', 90.0)\n",
        "fluid1.addComponent('ethane', 5.0)\n",
        "fluid1.addComponent('propane', 3.0)\n",
        "\n",
        "\n",
        "clearProcess()\n",
        "inletStream  = stream('stream 1', fluid1)\n",
        "inletStream.setPressure(pressure_inlet, 'bara')\n",
        "inletStream.setTemperature(temperature_inlet, \"C\")\n",
        "inletStream.setFlowRate(gasFlowRate, \"MSm3/day\")\n",
        "\n",
        "compressor1 = compressor('comp 1', inletStream)\n",
        "compressor1.setOutletPressure(pressure_Out)\n",
        "runProcess()\n",
        "\n",
        "print('flow rate ', compressor1.getInletStream().getFlowRate('m3/hr'), ' m3/hr')\n",
        "print('inlet pressure ', compressor1.getInletStream().getPressure('bara'), ' bara')\n",
        "print('outlet pressure ', compressor1.getOutletStream().getPressure('bara'), ' bara')\n",
        "print('polytropic head ', compressor1.getPolytropicFluidHead(), ' kJ/kg')\n",
        "print('head ', compressor1.getPolytropicHeadMeter(), ' meter')\n",
        "print('power ', compressor1.getPower('MW'),  ' MW')"
      ],
      "metadata": {
        "id": "wANldJxNiLaQ",
        "outputId": "7d2c4074-360b-4948-f16d-bda8fe9ca717",
        "colab": {
          "base_uri": "https://localhost:8080/"
        }
      },
      "execution_count": 41,
      "outputs": [
        {
          "output_type": "stream",
          "name": "stdout",
          "text": [
            "flow rate  5116.057516261762  m3/hr\n",
            "inlet pressure  40.0  bara\n",
            "outlet pressure  90.0  bara\n",
            "polytropic head  116.31179074242331  kJ/kg\n",
            "head  11856.451655700643  meter\n",
            "power  5.119913309448702  MW\n"
          ]
        }
      ]
    },
    {
      "cell_type": "code",
      "source": [
        "#input flow rate and out pressure, power\n",
        "\n",
        "#predict input pressure\n",
        "\n",
        "def calcinpres(inlet_pressure, power, outlet_pressure, flow, temperature_inlet):\n",
        "  clearProcess()\n",
        "  inletStream  = stream('stream 1', fluid1)\n",
        "  inletStream.setPressure(inlet_pressure, 'bara')\n",
        "  inletStream.setTemperature(temperature_inlet, \"C\")\n",
        "  inletStream.setFlowRate(flow, \"MSm3/day\")\n",
        "\n",
        "  compressor1 = compressor('comp1', inletStream)\n",
        "  compressor1.setOutletPressure(outlet_pressure)\n",
        "  compressor1.setUsePolytropicCalc(True);\n",
        "  compressor1.setPolytropicEfficiency(0.62);\n",
        "  runProcess()\n",
        "  return compressor1.getPower('MW')-power\n",
        "\n",
        "\n",
        "inletpres = least_squares(calcinpres, 10.0, args=(5.0, 90.0, 5.0, 30.0));\n",
        "print('inlet pressure ' ,inletpres.x[0], ' bara')"
      ],
      "metadata": {
        "colab": {
          "base_uri": "https://localhost:8080/"
        },
        "id": "2n3Oxtk6Cqxi",
        "outputId": "5ae149a3-2d8c-4bad-9b00-bf0c65511437"
      },
      "execution_count": 43,
      "outputs": [
        {
          "output_type": "stream",
          "name": "stderr",
          "text": [
            "<ipython-input-43-8591e0f8e5e2>:8: DeprecationWarning: Conversion of an array with ndim > 0 to a scalar is deprecated, and will error in future. Ensure you extract a single element from your array before performing this operation. (Deprecated NumPy 1.25.)\n",
            "  inletStream.setPressure(inlet_pressure, 'bara')\n"
          ]
        },
        {
          "output_type": "stream",
          "name": "stdout",
          "text": [
            "inlet pressure  54.363785066316304  bara\n"
          ]
        }
      ]
    },
    {
      "cell_type": "code",
      "source": [
        "MW=28.01\n",
        "inlepPres=100.0\n",
        "inletTemp=26.2\n",
        "Zinlet=0.89\n",
        "curveConditions = [MW, inlepPres, inletTemp, Zinlet]\n",
        "\n",
        "speed = [1000.0, 2000.0, 3000.0, 4000.0]\n",
        "flow = [[4503.2, 6000.0, 7500.0, 8000.0], [5330.2, 6200.0, 7500.0, 8000.0],[5600.2, 7110.0, 7500.0, 8000.0],[5830.2, 7200.0, 7800.0, 8300.0]]\n",
        "head = [[ 9000.0*2, 8000.0*2, 7000.0*2, 6000.0*2], [10000.0*2, 9500.0*2, 9000.0*2, 8000.0*2 ], [10900.0*2, 10000.0*2, 9300.0*2, 8390.0*2], [ 11200.0*2, 10500.0*2, 9800.0*2, 9000.0*2]]\n",
        "polyEff = [[ 90.0, 91.0, 89.0, 88.0 ], [90.0, 91.0, 89.0, 88.0 ], [90.0, 91.0, 89.0, 88.1],[90.0, 91.0, 89.0, 88.1]]\n",
        "\n",
        "surgeFlow = [4530.2, 5000.0, 5200.0, 5500.0]\n",
        "surgeHead = [6000.0, 7000.0, 8000.0, 12000.0]\n",
        "clearProcess()\n",
        "inletStream  = stream('stream 21', fluid1)\n",
        "inletStream.setPressure(pressure_inlet, 'bara')\n",
        "inletStream.setTemperature(temperature_inlet, \"C\")\n",
        "inletStream.setFlowRate(7, \"MSm3/day\")\n",
        "inletStream.run()\n",
        "\n",
        "compressor1 = compressor('comp21', inletStream)\n",
        "compressorChart(compressor1, curveConditions, speed, flow, head, polyEff)\n",
        "compressor1.setUsePolytropicCalc(True)\n",
        "compressor1.getAntiSurge().setSurgeControlFactor(1.05)\n",
        "compressor1.setSpeed(4000)\n",
        "compressor1.run()\n",
        "\n",
        "print('flow rate ', compressor1.getInletStream().getFlowRate('m3/hr'), ' m3/hr')\n",
        "print('inlet pressure ', compressor1.getInletStream().getPressure('bara'), ' bara')\n",
        "print('outlet pressure ', compressor1.getOutletStream().getPressure('bara'), ' bara')\n",
        "print('pressure ratio ', compressor1.getOutletStream().getPressure('bara')/compressor1.getInletStream().getPressure('bara'), ' -')\n",
        "print('polytropic head ', compressor1.getPolytropicFluidHead(), ' kJ/kg')\n",
        "print('polytropic efficiency ', compressor1.getPolytropicEfficiency()*100, ' %')\n",
        "print('head ', compressor1.getPolytropicHead(), ' meter')\n",
        "print('power ', compressor1.getPower('MW'),  ' MW')"
      ],
      "metadata": {
        "colab": {
          "base_uri": "https://localhost:8080/"
        },
        "id": "4qotEt3GCq9F",
        "outputId": "0160f4de-4897-434e-e8a0-706d2f16ac2e"
      },
      "execution_count": 50,
      "outputs": [
        {
          "output_type": "stream",
          "name": "stdout",
          "text": [
            "flow rate  7162.480522766466  m3/hr\n",
            "inlet pressure  40.0  bara\n",
            "outlet pressure  69.29421614044891  bara\n",
            "pressure ratio  1.7323554035112227  -\n",
            "polytropic head  75.43230759857258  kJ/kg\n",
            "polytropic efficiency  89.63112223080603  %\n",
            "head  7689.327993799344  meter\n",
            "power  5.186393456601157  MW\n"
          ]
        }
      ]
    },
    {
      "cell_type": "code",
      "source": [
        "pressure_inlet = 40.0\n",
        "temperature_inlet = 20.0\n",
        "flow_rate = 7\n",
        "pressure_outlet = 80.0\n",
        "\n",
        "fluid1 = fluid('srk')\n",
        "fluid1.addComponent('methane', 100.0)\n",
        "fluid1.setMixingRule('classic')\n",
        "\n",
        "inletStream  = stream('stream 11', fluid1)\n",
        "inletStream.setPressure(pressure_inlet, 'bara')\n",
        "inletStream.setTemperature(temperature_inlet, \"C\")\n",
        "inletStream.setFlowRate(flow_rate, \"MSm3/day\")\n",
        "inletStream.run()\n",
        "\n",
        "compressor1 = compressor('comp 11', inletStream)\n",
        "compressor1.setUsePolytropicCalc(True)\n",
        "compressor1.setPolytropicEfficiency(0.62)\n",
        "compressor1.setOutletPressure(pressure_outlet, 'bara')\n",
        "\n",
        "compressor1.run()\n",
        "\n",
        "print('Power ', compressor1.getPower('MW'),  'MW')"
      ],
      "metadata": {
        "id": "OdNrZKxEr4Za",
        "outputId": "c1f8456e-1ad4-42b6-b8b7-430858554fc1",
        "colab": {
          "base_uri": "https://localhost:8080/"
        }
      },
      "execution_count": 51,
      "outputs": [
        {
          "output_type": "stream",
          "name": "stdout",
          "text": [
            "Power  10.050984110675666 MW\n"
          ]
        }
      ]
    },
    {
      "cell_type": "code",
      "source": [
        "def calcpowerdev(inpers, power, rate, outpres):\n",
        "  inletStream.setPressure(inpers, 'bara')\n",
        "  inletStream.setFlowRate(rate, \"MSm3/day\")\n",
        "  inletStream.run()\n",
        "  compressor1.setOutletPressure(outpres, 'bara')\n",
        "  compressor1.run()\n",
        "  return compressor1.getPower('MW') - power\n",
        "\n",
        "\n",
        "data = {'flow': [],  'in_pressure':[], 'out_pressure': [], 'pressure_ratio': [], 'power':[], 'feedflowAm3hr': [], 'polytropicfluidhead_kj_kg': []}\n",
        "\n",
        "max_pressure_ratio = 3.5\n",
        "\n",
        "for rate in [0.5, 2, 4, 6, 8, 10, 12, 14]:\n",
        "  for THP in [10, 20, 40, 60, 80, 100, 120, 140, 180, 200]:\n",
        "    for powerset in [5, 10, 15, 20]:\n",
        "      inletpreure = least_squares(calcpowerdev, THP-5, args=(powerset, rate, THP), bounds=(THP/max_pressure_ratio, THP))\n",
        "      data['flow'].append(rate)\n",
        "      data['out_pressure'].append(THP)\n",
        "      data['power'].append(round(compressor1.getPower('MW'),3))\n",
        "      data['in_pressure'].append(round(inletpreure.x[0],5))\n",
        "      data['pressure_ratio'].append(round(THP/inletpreure.x[0],3))\n",
        "      data['feedflowAm3hr'].append(round(compressor1.getInletStream().getFlowRate('m3/hr'),3))\n",
        "      data['polytropicfluidhead_kj_kg'].append(round(compressor1.getPolytropicFluidHead(),3))\n",
        "\n",
        "from scipy.optimize import least_squares\n",
        "\n",
        "df = pd.DataFrame(data)\n",
        "df.to_csv('data - max pressure ratio 3_5.csv')"
      ],
      "metadata": {
        "id": "3LtG-aJDr-OJ",
        "outputId": "7adb723d-dc39-44e2-8189-2382208748a8",
        "colab": {
          "base_uri": "https://localhost:8080/"
        }
      },
      "execution_count": 52,
      "outputs": [
        {
          "output_type": "stream",
          "name": "stderr",
          "text": [
            "<ipython-input-52-305717230a02>:2: DeprecationWarning: Conversion of an array with ndim > 0 to a scalar is deprecated, and will error in future. Ensure you extract a single element from your array before performing this operation. (Deprecated NumPy 1.25.)\n",
            "  inletStream.setPressure(inpers, 'bara')\n"
          ]
        }
      ]
    },
    {
      "cell_type": "markdown",
      "source": [
        "# Compresssor minimum flow and antisurge line\n",
        "In the following code we illustrate how an antisurge calculator can be made and implemented into a compressor simulation."
      ],
      "metadata": {
        "id": "0F7eshAUL5rz"
      }
    },
    {
      "cell_type": "markdown",
      "source": [
        "# Making a new antisurge calculator object\n",
        "This is an example of a antisurge calculator object that can be used in a neqsim process simulation. The object uses the compressor method getDistanceToSurge() which return how close the compressor is to the surge line. The mathematics of this function is (dsurge = distance to surge):\n",
        "\n",
        "$$\n",
        "dsurge = \\frac{Q}{Q_{surge}}-1\n",
        "$$\n",
        "\n",
        "It will be negative if Q is less than the surge flow and positive if flow is higher than surge flow.\n",
        "\n",
        "https://ntnuopen.ntnu.no/ntnu-xmlui/bitstream/handle/11250/261184/725629_FULLTEXT01.pd"
      ],
      "metadata": {
        "id": "gnJPHzQTpNq9"
      }
    },
    {
      "cell_type": "code",
      "source": [
        "from neqsim import jneqsim\n",
        "from neqsim.process.unitop import unitop\n",
        "\n",
        "class PyAnitiSurgeCalculator(unitop):\n",
        "    def __init__(self, name):\n",
        "        super().__init__()\n",
        "        self.serialVersionUID = None\n",
        "        self.name = name\n",
        "        self.compressor = None\n",
        "        self.splitter = None\n",
        "        self.anti_surge_control_factor = 1.1\n",
        "\n",
        "    def run(self, id):\n",
        "      distToSurge = self.compressor.getDistanceToSurge()\n",
        "      flowInAntiSurge =  self.splitter.getSplitStream(1).getFlowRate(\"MSm3/day\") - self.compressor.getInletStream().getFlowRate(\"MSm3/day\") * distToSurge * 0.5;\n",
        "      if (flowInAntiSurge > self.compressor.getInletStream().getFlowRate(\"MSm3/day\")):\n",
        "        flowInAntiSurge = self.compressor.getInletStream().getFlowRate(\"MSm3/day\") * 0.99;\n",
        "      if (flowInAntiSurge < 1e-6):\n",
        "        flowInAntiSurge = 1e-6\n",
        "      self.splitter.setFlowRates([-1, flowInAntiSurge*self.anti_surge_control_factor], \"MSm3/day\");\n",
        "      self.splitter.run()"
      ],
      "metadata": {
        "id": "b7-m-yiXo2tl"
      },
      "execution_count": 54,
      "outputs": []
    },
    {
      "cell_type": "markdown",
      "source": [
        "# NeqSim compressor calculation with antisurge line\n",
        "We implement the model in two steps\n",
        "\n",
        "Step 1. Create the compressor model with antisurge line and run the calculation\n",
        "\n",
        "Step 2 . Generate default compressor curves using the CompressorChartGenerator and set the curves on the compressor we will not used compressur cures but antisurge line will be used in the calculator. Create and add the calculator\n",
        "\n",
        "Step 3 - Run calculation with various feed flow rates (some with need for anti surge, and some not)"
      ],
      "metadata": {
        "id": "eedyKcrN2fd4"
      }
    },
    {
      "cell_type": "code",
      "source": [
        "from neqsim import jneqsim\n",
        "from neqsim.process import stream, splitter, compressor, splitter, cooler, valve, mixer, calculator, separator, clearProcess\n",
        "from neqsim.thermo import fluid\n",
        "\n",
        "clearProcess()\n",
        "\n",
        "#Step 1 . Create the compressor model with antisurge line and run the calculation\n",
        "fluid1 = fluid('srk')\n",
        "fluid1.addComponent(\"nitrogen\", 1.0)\n",
        "fluid1.addComponent(\"CO2\", 2.0)\n",
        "fluid1.addComponent(\"methane\", 51.0)\n",
        "fluid1.addComponent(\"ethane\", 1.0)\n",
        "fluid1.setMixingRule(\"classic\")\n",
        "\n",
        "gas_from_separator = stream(\"feed stream\", fluid1)\n",
        "gas_from_separator.setPressure(55.0, \"bara\")\n",
        "gas_from_separator.setTemperature(30.0, \"C\")\n",
        "gas_from_separator.setFlowRate(7.0, \"MSm3/day\")\n",
        "\n",
        "recyclegasstream = stream('recy', gas_from_separator.clone())\n",
        "recyclegasstream.setFlowRate(1e-10, \"MSm3/day\")\n",
        "\n",
        "gasmixer = mixer(\"gas mixer\")\n",
        "gasmixer.addStream(gas_from_separator)\n",
        "gasmixer.addStream(recyclegasstream)\n",
        "\n",
        "gascompressor = compressor(\"gas compressor\", gasmixer.getOutletStream())\n",
        "gascompressor.setPolytropicEfficiency(0.85);\n",
        "gascompressor.setOutletPressure(90.0, \"bara\")\n",
        "\n",
        "gascooler = cooler(\"gas cooler\", gascompressor.getOutletStream());\n",
        "gascooler.setOutTemperature(30.0, \"C\")\n",
        "\n",
        "gassep = separator(\"gas separator\", gascooler.getOutletStream())\n",
        "\n",
        "gassplitter = splitter(\"gas splitter\", gassep.getGasOutStream())\n",
        "gassplitter.setFlowRates([7.0, 1.2], \"MSm3/day\")\n",
        "\n",
        "antisurgevalve = valve('aniti surge valve', gassplitter.getSplitStream(1))\n",
        "antisurgevalve.setOutletPressure(55.0, \"bara\")\n",
        "\n",
        "recycl = jneqsim.processs.equipment.util.Recycle(\"recyc2\")\n",
        "recycl.addStream(antisurgevalve.getOutletStream())\n",
        "recycl.setOutletStream(recyclegasstream)\n",
        "recycl.setFlowAccuracy(1e-2)\n",
        "recycl.setTolerance(1e-2)\n",
        "\n",
        "operations = neqsim.processsimulation.processsystem.ProcessSystem()\n",
        "operations.add(gas_from_separator)\n",
        "operations.add(recyclegasstream)\n",
        "operations.add(gasmixer)\n",
        "operations.add(gascompressor)\n",
        "operations.add(gascooler)\n",
        "operations.add(gassep)\n",
        "operations.add(gassplitter)\n",
        "operations.add(antisurgevalve)\n",
        "operations.add(recycl)\n",
        "\n",
        "operations.run()\n",
        "exportflowrate = gassplitter.getSplitStream(0).getFlowRate(\"MSm3/day\")\n",
        "surgeflowrate = gassplitter.getSplitStream(1).getFlowRate(\"MSm3/day\")\n",
        "outpressure = gascompressor.getOutletPressure()\n",
        "flow = gascompressor.getInletStream().getFlowRate(\"m3/hr\")\n",
        "polytropichead = gascompressor.getPolytropicFluidHead()\n",
        "power = gascompressor.getPower('MW')\n",
        "print(exportflowrate, surgeflowrate, outpressure, polytropichead, flow, power)\n",
        "\n",
        "#Step 2 . Generate default compressor curves using the CompressorChartGenerator and set the curves on the compressor we will not used compressur cures but antisurge line will be used in the calculator\n",
        "compchartgenerator = neqsim.processsimulation.processequipment.compressor.CompressorChartGenerator(gascompressor)\n",
        "compressor_chart = compchartgenerator.generateCompressorChart(\"mid range\")\n",
        "\n",
        "gascompressor.setCompressorChart(compressor_chart)\n",
        "gascompressor.getCompressorChart().setUseCompressorChart(False)\n",
        "\n",
        "# Create and add a antis surge calculator\n",
        "antisurgeCalculator = PyAnitiSurgeCalculator(\"anti surge calculator\")\n",
        "antisurgeCalculator.compressor = gascompressor\n",
        "antisurgeCalculator.splitter = gassplitter\n",
        "#antisurgeCalculator = jNeqSim.processSimulation.processEquipment.util.Calculator(\"anti surge calculator\")\n",
        "#antisurgeCalculator.addInputVariable(gascompressor)\n",
        "#antisurgeCalculator.setOutputVariable(gassplitter)\n",
        "\n",
        "operations.add(antisurgeCalculator)\n",
        "\n",
        "#Step 3 - Run calculation with various feed flow rates (some with need for anti surge, and some not)\n",
        "operations.run()\n",
        "exportflowrate = gassplitter.getSplitStream(0).getFlowRate(\"MSm3/day\")\n",
        "surgeflowrate = gassplitter.getSplitStream(1).getFlowRate(\"MSm3/day\")\n",
        "surgeflow = gascompressor.getCompressorChart().getSurgeCurve().getSurgeFlow(gascompressor.getPolytropicFluidHead())\n",
        "flow = gascompressor.getInletStream().getFlowRate(\"m3/hr\")\n",
        "outpressure = gascompressor.getOutletPressure()\n",
        "polytropichead = gascompressor.getPolytropicFluidHead()\n",
        "power = gascompressor.getPower('MW')\n",
        "print(exportflowrate, surgeflowrate, outpressure, polytropichead, surgeflow, flow, power)\n",
        "\n",
        "gas_from_separator.setFlowRate(2.2, \"MSm3/day\")\n",
        "operations.run()\n",
        "\n",
        "exportflowrate = gassplitter.getSplitStream(0).getFlowRate(\"MSm3/day\")\n",
        "surgeflowrate = gassplitter.getSplitStream(1).getFlowRate(\"MSm3/day\")\n",
        "surgeflow = gascompressor.getCompressorChart().getSurgeCurve().getSurgeFlow(gascompressor.getPolytropicFluidHead())\n",
        "flow = gascompressor.getInletStream().getFlowRate(\"m3/hr\")\n",
        "outpressure = gascompressor.getOutletPressure()\n",
        "polytropichead = gascompressor.getPolytropicFluidHead()\n",
        "power = gascompressor.getPower('MW')\n",
        "print(exportflowrate, surgeflowrate, outpressure, polytropichead, surgeflow, flow, power)\n",
        "\n",
        "gas_from_separator.setFlowRate(6.0, \"MSm3/day\")\n",
        "operations.run()\n",
        "\n",
        "exportflowrate = gassplitter.getSplitStream(0).getFlowRate(\"MSm3/day\")\n",
        "surgeflowrate = gassplitter.getSplitStream(1).getFlowRate(\"MSm3/day\")\n",
        "surgeflow = gascompressor.getCompressorChart().getSurgeCurve().getSurgeFlow(gascompressor.getPolytropicFluidHead())\n",
        "flow = gascompressor.getInletStream().getFlowRate(\"m3/hr\")\n",
        "outpressure = gascompressor.getOutletPressure()\n",
        "polytropichead = gascompressor.getPolytropicFluidHead()\n",
        "power = gascompressor.getPower('MW')\n",
        "print(exportflowrate, surgeflowrate, outpressure, polytropichead, surgeflow, flow, power)\n",
        "\n",
        "gas_from_separator.setFlowRate(1.0, \"MSm3/day\")\n",
        "operations.run()\n",
        "\n",
        "exportflowrate = gassplitter.getSplitStream(0).getFlowRate(\"MSm3/day\")\n",
        "surgeflowrate = gassplitter.getSplitStream(1).getFlowRate(\"MSm3/day\")\n",
        "surgeflow = gascompressor.getCompressorChart().getSurgeCurve().getSurgeFlow(gascompressor.getPolytropicFluidHead())\n",
        "flow = gascompressor.getInletStream().getFlowRate(\"m3/hr\")\n",
        "outpressure = gascompressor.getOutletPressure()\n",
        "polytropichead = gascompressor.getPolytropicFluidHead()\n",
        "power = gascompressor.getPower('MW')\n",
        "print(exportflowrate, surgeflowrate, outpressure, polytropichead, surgeflow, flow, power)\n",
        "\n",
        "gas_from_separator.setFlowRate(0.5, \"MSm3/day\")\n",
        "operations.run()\n",
        "\n",
        "exportflowrate = gassplitter.getSplitStream(0).getFlowRate(\"MSm3/day\")\n",
        "surgeflowrate = gassplitter.getSplitStream(1).getFlowRate(\"MSm3/day\")\n",
        "surgeflow = gascompressor.getCompressorChart().getSurgeCurve().getSurgeFlow(gascompressor.getPolytropicFluidHead())\n",
        "flow = gascompressor.getInletStream().getFlowRate(\"m3/hr\")\n",
        "outpressure = gascompressor.getOutletPressure()\n",
        "polytropichead = gascompressor.getPolytropicFluidHead()\n",
        "power = gascompressor.getPower('MW')\n",
        "print(exportflowrate, surgeflowrate, outpressure, polytropichead, surgeflow, flow, power)\n",
        "\n",
        "gas_from_separator.setFlowRate(8.5, \"MSm3/day\")\n",
        "operations.run()\n",
        "\n",
        "exportflowrate = gassplitter.getSplitStream(0).getFlowRate(\"MSm3/day\")\n",
        "surgeflowrate = gassplitter.getSplitStream(1).getFlowRate(\"MSm3/day\")\n",
        "surgeflow = gascompressor.getCompressorChart().getSurgeCurve().getSurgeFlow(gascompressor.getPolytropicFluidHead())\n",
        "flow = gascompressor.getInletStream().getFlowRate(\"m3/hr\")\n",
        "outpressure = gascompressor.getOutletPressure()\n",
        "polytropichead = gascompressor.getPolytropicFluidHead()\n",
        "power = gascompressor.getPower('MW')\n",
        "print(exportflowrate, surgeflowrate, outpressure, polytropichead, surgeflow, flow, power)"
      ],
      "metadata": {
        "colab": {
          "base_uri": "https://localhost:8080/",
          "height": 211
        },
        "id": "6zYRxnrDobmT",
        "outputId": "74858572-3998-4730-8485-47a8acec6dc6"
      },
      "execution_count": 60,
      "outputs": [
        {
          "output_type": "error",
          "ename": "AttributeError",
          "evalue": "Java package 'neqsim' has no attribute 'processs'",
          "traceback": [
            "\u001b[0;31m---------------------------------------------------------------------------\u001b[0m",
            "\u001b[0;31mAttributeError\u001b[0m                            Traceback (most recent call last)",
            "\u001b[0;32m<ipython-input-60-df14574206b4>\u001b[0m in \u001b[0;36m<cell line: 0>\u001b[0;34m()\u001b[0m\n\u001b[1;32m     40\u001b[0m \u001b[0mantisurgevalve\u001b[0m\u001b[0;34m.\u001b[0m\u001b[0msetOutletPressure\u001b[0m\u001b[0;34m(\u001b[0m\u001b[0;36m55.0\u001b[0m\u001b[0;34m,\u001b[0m \u001b[0;34m\"bara\"\u001b[0m\u001b[0;34m)\u001b[0m\u001b[0;34m\u001b[0m\u001b[0;34m\u001b[0m\u001b[0m\n\u001b[1;32m     41\u001b[0m \u001b[0;34m\u001b[0m\u001b[0m\n\u001b[0;32m---> 42\u001b[0;31m \u001b[0mrecycl\u001b[0m \u001b[0;34m=\u001b[0m \u001b[0mjneqsim\u001b[0m\u001b[0;34m.\u001b[0m\u001b[0mprocesss\u001b[0m\u001b[0;34m.\u001b[0m\u001b[0mequipment\u001b[0m\u001b[0;34m.\u001b[0m\u001b[0mutil\u001b[0m\u001b[0;34m.\u001b[0m\u001b[0mRecycle\u001b[0m\u001b[0;34m(\u001b[0m\u001b[0;34m\"recyc2\"\u001b[0m\u001b[0;34m)\u001b[0m\u001b[0;34m\u001b[0m\u001b[0;34m\u001b[0m\u001b[0m\n\u001b[0m\u001b[1;32m     43\u001b[0m \u001b[0mrecycl\u001b[0m\u001b[0;34m.\u001b[0m\u001b[0maddStream\u001b[0m\u001b[0;34m(\u001b[0m\u001b[0mantisurgevalve\u001b[0m\u001b[0;34m.\u001b[0m\u001b[0mgetOutletStream\u001b[0m\u001b[0;34m(\u001b[0m\u001b[0;34m)\u001b[0m\u001b[0;34m)\u001b[0m\u001b[0;34m\u001b[0m\u001b[0;34m\u001b[0m\u001b[0m\n\u001b[1;32m     44\u001b[0m \u001b[0mrecycl\u001b[0m\u001b[0;34m.\u001b[0m\u001b[0msetOutletStream\u001b[0m\u001b[0;34m(\u001b[0m\u001b[0mrecyclegasstream\u001b[0m\u001b[0;34m)\u001b[0m\u001b[0;34m\u001b[0m\u001b[0;34m\u001b[0m\u001b[0m\n",
            "\u001b[0;31mAttributeError\u001b[0m: Java package 'neqsim' has no attribute 'processs'"
          ]
        }
      ]
    }
  ],
  "metadata": {
    "colab": {
      "name": "GasCompressorTrain.ipynb",
      "provenance": [],
      "include_colab_link": true
    },
    "interpreter": {
      "hash": "a5df7bd4ca0d6bb9986d9d69faf4f6c25893f82bf7982e9868ee8495bd8c927f"
    },
    "kernelspec": {
      "display_name": "Python 3.7.9 64-bit ('base': conda)",
      "language": "python",
      "name": "python3"
    },
    "language_info": {
      "codemirror_mode": {
        "name": "ipython",
        "version": 3
      },
      "file_extension": ".py",
      "mimetype": "text/x-python",
      "name": "python",
      "nbconvert_exporter": "python",
      "pygments_lexer": "ipython3",
      "version": "3.7.9"
    }
  },
  "nbformat": 4,
  "nbformat_minor": 0
}