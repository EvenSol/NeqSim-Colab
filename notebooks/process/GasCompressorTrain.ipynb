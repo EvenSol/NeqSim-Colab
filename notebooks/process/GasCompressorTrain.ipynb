{
  "cells": [
    {
      "cell_type": "markdown",
      "metadata": {
        "id": "view-in-github",
        "colab_type": "text"
      },
      "source": [
        "<a href=\"https://colab.research.google.com/github/EvenSol/NeqSim-Colab/blob/master/notebooks/process/GasCompressorTrain.ipynb\" target=\"_parent\"><img src=\"https://colab.research.google.com/assets/colab-badge.svg\" alt=\"Open In Colab\"/></a>"
      ]
    },
    {
      "cell_type": "code",
      "execution_count": 1,
      "metadata": {
        "cellView": "form",
        "id": "c7oLiYgcEV2Y"
      },
      "outputs": [],
      "source": [
        "#@title Simulation of a Gas Compression Train\n",
        "#@markdown A compressor is a mechanical device that increases the pressure of a gas by reducing its volume.\n",
        "#@markdown Compressors are similar to pumps: both increase the pressure on a fluid and both can transport the fluid through a pipe. As gases are compressible, the compressor also reduces the volume of a gas. Liquids are relatively incompressible; while some can be compressed, the main action of a pump is to pressurize and transport liquids.\n",
        "%%capture\n",
        "!pip install neqsim\n",
        "import neqsim\n",
        "from neqsim.thermo.thermoTools import *\n",
        "import matplotlib\n",
        "import numpy as np\n",
        "import matplotlib.pyplot as plt\n",
        "import math\n",
        "%matplotlib inline"
      ]
    },
    {
      "cell_type": "markdown",
      "metadata": {
        "id": "OgnpZwDDB4X7"
      },
      "source": [
        "# Litterature\n",
        "\n",
        "https://petrowiki.org/Compressors"
      ]
    },
    {
      "cell_type": "code",
      "execution_count": 2,
      "metadata": {
        "cellView": "form",
        "colab": {
          "base_uri": "https://localhost:8080/",
          "height": 421
        },
        "id": "9Kkz5ZeLEyRv",
        "outputId": "c9a8ca65-6451-4bc5-c706-6e5cf64e583f"
      },
      "outputs": [
        {
          "output_type": "execute_result",
          "data": {
            "text/plain": [
              "<IPython.lib.display.YouTubeVideo at 0x78f615c39570>"
            ],
            "text/html": [
              "\n",
              "        <iframe\n",
              "            width=\"600\"\n",
              "            height=\"400\"\n",
              "            src=\"https://www.youtube.com/embed/WXaTF_ajADE\"\n",
              "            frameborder=\"0\"\n",
              "            allowfullscreen\n",
              "            \n",
              "        ></iframe>\n",
              "        "
            ],
            "image/jpeg": "[encoded data removed]"
          },
          "metadata": {},
          "execution_count": 2
        }
      ],
      "source": [
        "#@title  Åsgard Subsea Gas Compression\n",
        "#@markdown The installation of the modules that collectively constitute Åsgard subsea gas compression has commenced in the Åsgard field.​\n",
        "#@markdown Innovative technology at a depth of 300 metres will create more than 300 million extra barrels BOE from the Åsgard field.\n",
        "from IPython.display import YouTubeVideo\n",
        "YouTubeVideo('WXaTF_ajADE', width=600, height=400)"
      ]
    },
    {
      "cell_type": "markdown",
      "metadata": {
        "id": "jpDLDLgdecvP"
      },
      "source": [
        "# Natural Gas Compressors\n",
        " Produced gas pressure at the wellhead normally is not sufficient to allow export for sales and further treatment. Therefore, an export gas compression system is required, with a centrifugal compressor being the most suitable for variable sales gas demand and near-constant export pressure.\n",
        "\n",
        "Normally, the export gas centrifugal compressor works well under constant inlet pressure. Compressor operation is challenged when the gas well reservoir pressure is reduced (due to reservoir depletion), and when the full well steam (FWS) water cut increases and the gas fraction in the FWS decreases. Consequently, inlet pressure to the compressor is reduced.\n",
        "\n",
        "The compressor operation becomes unstable due to reduced inlet pressure and reduced flow. To meet the required export gas pressure, the speed of the compressor must be increased. However, the temperature of the compressor discharge also increases at reduced flow and higher speed; therefore, the recycle is also required to maintain the compressor discharge temperature within a defined limit."
      ]
    },
    {
      "cell_type": "code",
      "execution_count": 3,
      "metadata": {
        "colab": {
          "base_uri": "https://localhost:8080/"
        },
        "id": "EeJ3zgxwP9mv",
        "outputId": "d03195f4-3db2-4cab-b8b1-45db3f0a121c"
      },
      "outputs": [
        {
          "output_type": "stream",
          "name": "stdout",
          "text": [
            "compressor1 power  4.668918155189743  MW\n",
            "compressor2 power  2.905746639359289  MW\n",
            "cooler1 duty  -7.114604286439549  MW\n",
            "cooler2 duty  -5.192202419577604  MW\n"
          ]
        }
      ],
      "source": [
        "#@title  Calculation of a gas compression train\n",
        "#@markdown This script demonstrates the calculations of a simple gas compression train\n",
        "\n",
        "from neqsim.thermo import fluid, phaseenvelope\n",
        "from neqsim.process import separator, heater, clearProcess, stream,  compressor, runProcess, viewProcess, getProcess\n",
        "\n",
        "gasFlowRate = 5.0#@param {type:\"number\"} # MSm3/day\n",
        "\n",
        "temperature_inlet = 35.0 #@param {type:\"number\"}\n",
        "pressure_inlet = 55.0 #@param {type:\"number\"}\n",
        "\n",
        "pressureMP = 100.0 #@param {type:\"number\"}\n",
        "temperatureMP = 35.0 #@param {type:\"number\"}\n",
        "\n",
        "pressureExport = 150.0 #@param {type:\"number\"}\n",
        "temperatureExport = 35.0 #@param {type:\"number\"}\n",
        "\n",
        "fluid1 = fluid('srk')\n",
        "fluid1.addComponent(\"nitrogen\", 1.0)\n",
        "fluid1.addComponent(\"CO2\", 2.0)\n",
        "fluid1.addComponent(\"methane\", 79.2)\n",
        "fluid1.addComponent(\"ethane\", 7.3)\n",
        "fluid1.addComponent(\"propane\", 2.3)\n",
        "fluid1.addComponent(\"i-butane\", 1.0)\n",
        "fluid1.addComponent(\"n-butane\", 0.7)\n",
        "fluid1.addComponent(\"i-pentane\", 0.04)\n",
        "fluid1.addComponent(\"n-pentane\", 0.02)\n",
        "fluid1.addComponent(\"n-hexane\", 0.003)\n",
        "\n",
        "fluid1.setPressure(pressure_inlet, 'bara')\n",
        "fluid1.setTemperature(temperature_inlet, 'C')\n",
        "fluid1.setTotalFlowRate(gasFlowRate, \"MSm3/day\")\n",
        "\n",
        "clearProcess()\n",
        "stream1 = stream(fluid1)\n",
        "compressor_1 = compressor(stream1, pressureMP)\n",
        "compressor_1.setIsentropicEfficiency(0.77)\n",
        "coolerMP1 = heater(compressor_1.getOutStream())\n",
        "coolerMP1.setOutTemperature(temperatureMP+273.15)\n",
        "compressor_2 = compressor(coolerMP1.getOutStream(), pressureExport)\n",
        "compressor_2.setIsentropicEfficiency(0.77)\n",
        "coolerExport = heater(compressor_2.getOutStream())\n",
        "coolerExport.setOutTemperature(temperatureExport+273.15)\n",
        "runProcess()\n",
        "\n",
        "print(\"compressor1 power \", compressor_1.getPower()/1e6, \" MW\")\n",
        "print(\"compressor2 power \", compressor_2.getPower()/1e6, \" MW\")\n",
        "\n",
        "print(\"cooler1 duty \", coolerMP1.getDuty()/1e6, \" MW\")\n",
        "print(\"cooler2 duty \", coolerExport.getDuty()/1e6, \" MW\")"
      ]
    },
    {
      "cell_type": "markdown",
      "metadata": {
        "id": "ZM3R66bFjF_B"
      },
      "source": [
        "# Fuel gas consumption\n",
        "This section demonstrates hot to estimate the fule gas consumption."
      ]
    },
    {
      "cell_type": "code",
      "execution_count": 4,
      "metadata": {
        "colab": {
          "base_uri": "https://localhost:8080/"
        },
        "id": "6tSeD8MAjVrJ",
        "outputId": "32c9cf0c-d493-4904-a641-5b692eab052e"
      },
      "outputs": [
        {
          "output_type": "stream",
          "name": "stdout",
          "text": [
            "GCV 41.77 MJ/volume\n",
            "WI 51.035  MJ/volume\n",
            "WI 14.176  kWh/volume\n",
            "Relative density 0.67  [-]\n",
            "total compressor power  7.574664794549032  [MW]\n",
            "Fuel gas consumption  2403.892349904485  [Sm^3/hr]\n",
            "Fuel gas consumption  1.1538683279541528  % of gas production\n"
          ]
        }
      ],
      "source": [
        "from neqsim.thermo import fluid, TPflash\n",
        "from neqsim.standards import ISO6976\n",
        "\n",
        "referenceTemperatureVolume = 15.0 #@param ['0.0', '15.0', '20.0']\n",
        "referenceTemperatureCombustion = 25.0 #@param ['0.0', '15.0', '20.0', '25.0']\n",
        "numberUnit = 'volume' #@param ['volume', 'mass', 'molar']\n",
        "\n",
        "iso6976 = ISO6976(fluid1)\n",
        "iso6976.setReferenceType(numberUnit)\n",
        "iso6976.setVolRefT(float(referenceTemperatureVolume))\n",
        "iso6976.setEnergyRefT(float(referenceTemperatureCombustion))\n",
        "iso6976.calculate()\n",
        "\n",
        "\n",
        "GCV = round(iso6976.getValue(\"SuperiorCalorificValue\")/1.0e3,3)\n",
        "GCVinf = round(iso6976.getValue(\"InferiorCalorificValue\")/1.0e3,3)\n",
        "WI = round(iso6976.getValue(\"SuperiorWobbeIndex\")/1.0e3,3)\n",
        "WIkwh = round(iso6976.getValue(\"SuperiorWobbeIndex\")/1.0e3/3.6,3)\n",
        "relDens = round(iso6976.getValue(\"RelativeDensity\"),3)\n",
        "\n",
        "print('GCV '+ str(GCV) + ' MJ/' +numberUnit)\n",
        "print('WI '+ str(WI), ' MJ/' +numberUnit)\n",
        "print('WI '+ str(WIkwh), ' kWh/' +numberUnit)\n",
        "print('Relative density '+ str(relDens), ' [-]')\n",
        "\n",
        "turbineEfficiency = 0.3 #turbine power generation efficiency set to 30%\n",
        "\n",
        "fuelGasConsumption = getProcess().getPower('MW')/turbineEfficiency/GCVinf*3600.0\n",
        "print('total compressor power ', getProcess().getPower('MW'), ' [MW]')\n",
        "print('Fuel gas consumption ', fuelGasConsumption, ' [Sm^3/hr]')\n",
        "print('Fuel gas consumption ' ,(fuelGasConsumption*24.0/1.0e6/gasFlowRate*100.0),  ' % of gas production')"
      ]
    },
    {
      "cell_type": "markdown",
      "metadata": {
        "id": "7AjLm2vqA_V2"
      },
      "source": [
        "# Compressor efficiency\n",
        "\n",
        "\n",
        "## Compression theory\n",
        "\n",
        "Specific topics relating to compression theory include:\n",
        "\n",
        "* Power requirement\n",
        "* Isentropic exponent\n",
        "* Compressibility factor\n",
        "* Intercooling\n",
        "* Adiabatic and polytropic efficiency\n",
        "* Actual and standard volume flow rates\n",
        "* Mass flow rates\n",
        "* Inlet and discharge pressures\n",
        "* Inlet and discharge temperatures\n",
        "* Adiabatic and polytropic head\n",
        "\n",
        "\n",
        "## Isentropic (adiabatic) compression\n",
        "\n",
        "An adiabatic process is one in which no heat is added or removed from the system. Adiabatic compression is expressed by\n",
        "\n",
        "$P_1 \\times {V_1}^k=P_2 \\times {V_2}^k$\n",
        "\n",
        "where k = C<sub>p</sub>/C<sub>v</sub> = ratio of specific heats, dimensionless.\n",
        "\n",
        "Although compressors are designed to remove as much heat as possible, some heat gain is inevitable. Nevertheless, the adiabatic compression cycle is rather closely approached by most positive displacement compressors and is generally the base to which they are referred.\n",
        "\n",
        "## Polytropic compression\n",
        "\n",
        "A polytropic process is one in which changes in gas characteristics during compression are considered. Dynamic compressors generally follow the polytropic cycle as defined by the formula\n",
        "\n",
        "$P_1 \\times {V_1}^n=P_2 \\times {V_2}^n$\n",
        "\n",
        "where n = polytropic exponent.\n",
        "\n",
        "The polytropic exponent n is experimentally determined for a given type of machine and may be lower or higher than the adiabatic exponent ''k''. Because the value of ''n'' changes during the compression process, an average value is used.\n",
        "\n",
        "\n"
      ]
    },
    {
      "cell_type": "code",
      "execution_count": 5,
      "metadata": {
        "colab": {
          "base_uri": "https://localhost:8080/"
        },
        "id": "HTzUIfohA-dA",
        "outputId": "29867093-4e8e-4c74-ce1a-9b88ac46c987"
      },
      "outputs": [
        {
          "output_type": "stream",
          "name": "stdout",
          "text": [
            "Compression ratio:  1.7647058823529411\n",
            "\n",
            "Calculations using Adibatic efficiency:  77.0 %\n",
            "compressor1 power  4.562025327549757  MW\n",
            "temperature out  89.74632437420064\n",
            "\n",
            "Calculations using polytropic efficiency:  77.0 %\n",
            "compressor1 power  4.654968883041471  MW\n",
            "temperature out  90.53437823284344\n"
          ]
        }
      ],
      "source": [
        "temperature_inlet = 35.0 #@param {type:\"number\"}\n",
        "pressure_inlet = 85.0 #@param {type:\"number\"}\n",
        "\n",
        "pressure_Out = 150.0 #@param {type:\"number\"}\n",
        "\n",
        "gasFlowRate = 5.0#@param {type:\"number\"} # MSm3/day\n",
        "\n",
        "adibaticEfficiency = 77.0 #@param {type:\"number\"} # compressor efficiency%\n",
        "polytropicEfficiency = 77.0 #@param {type:\"number\"} # compressor efficiency%\n",
        "\n",
        "fluid1 = fluid('srk')\n",
        "fluid1.addComponent('methane', 1.0)\n",
        "fluid1.setTotalFlowRate(gasFlowRate, \"MSm3/day\")\n",
        "fluid1.setPressure(pressure_inlet, 'bara')\n",
        "fluid1.setTemperature(temperature_inlet, 'C')\n",
        "\n",
        "clearProcess()\n",
        "stream1 = stream(fluid1)\n",
        "compressor_1 = compressor(stream1, pressure_Out)\n",
        "compressor_1.setOutletPressure(150.0)\n",
        "compressor_1.setIsentropicEfficiency(adibaticEfficiency/100.0)\n",
        "runProcess()\n",
        "\n",
        "print(\"Compression ratio: \", (pressure_Out/pressure_inlet))\n",
        "print()\n",
        "print(\"Calculations using Adibatic efficiency: \", (adibaticEfficiency), '%')\n",
        "print(\"compressor1 power \", compressor_1.getTotalWork()/1e6, \" MW\")\n",
        "print(\"temperature out \", (compressor_1.getThermoSystem().getTemperature()-273.15))\n",
        "\n",
        "compressor_1.setPolytropicEfficiency(polytropicEfficiency/100.0)\n",
        "compressor_1.setUsePolytropicCalc(True)\n",
        "runProcess()\n",
        "print()\n",
        "print(\"Calculations using polytropic efficiency: \", (polytropicEfficiency), '%')\n",
        "print(\"compressor1 power \", compressor_1.getTotalWork()/1e6, \" MW\")\n",
        "print(\"temperature out \", (compressor_1.getThermoSystem().getTemperature()-273.15))"
      ]
    },
    {
      "cell_type": "markdown",
      "metadata": {
        "id": "TY9VejqINT5F"
      },
      "source": [
        "# Hand calculation of power consumption\n",
        "\n",
        "In this section a short cut method for calculation of compressor power is tested. The method description of the short cut method is found in the following link:\n",
        "\n",
        "http://www.jmcampbell.com/tip-of-the-month/2011/11/compressor-calculations-rigorous-using-equation-of-state-vs-shortcut-method/\n"
      ]
    },
    {
      "cell_type": "code",
      "execution_count": 6,
      "metadata": {
        "colab": {
          "base_uri": "https://localhost:8080/"
        },
        "id": "5n7Nl3kWM3To",
        "outputId": "ecb5ab89-d6c3-4cf2-ed9a-96be2340c2a7"
      },
      "outputs": [
        {
          "output_type": "stream",
          "name": "stdout",
          "text": [
            "kappa  1.2220496916626586\n",
            "polytropic exponent  1.308861965771162\n",
            "power based in simple method  4.44150496724336 MW\n",
            "temperature out based on simple method (Z inlet)  79.19757833123418  C\n",
            "Z inlet  0.8973022076776481  Z average  0.9313874270433666\n",
            "power based in simple method (average Z)  4.6102214485214335 MW\n"
          ]
        }
      ],
      "source": [
        "temperature_inlet = 35.0 #@param {type:\"number\"}\n",
        "pressure_inlet = 85.0 #@param {type:\"number\"}\n",
        "\n",
        "pressure_Out = 150.0 #@param {type:\"number\"}\n",
        "temperature_out = 100.0\n",
        "\n",
        "gasFlowRate = 5.0#@param {type:\"number\"} # MSm3/day\n",
        "\n",
        "polytropicEfficiency = 77.0 #@param {type:\"number\"} # compressor efficiency%\n",
        "\n",
        "fluid1 = fluid('srk')\n",
        "fluid1.addComponent('methane', 1.0)\n",
        "fluid1.setTotalFlowRate(gasFlowRate, \"MSm3/day\")\n",
        "fluid1.setPressure(pressure_inlet, 'bara')\n",
        "fluid1.setTemperature(temperature_inlet, 'C')\n",
        "\n",
        "TPflash(fluid1)\n",
        "fluid1.initProperties()\n",
        "\n",
        "kappa = fluid1.getGamma2()  # using \"ideal gamma\" gamma = Cp/(Cp-R)\n",
        "print(\"kappa \", kappa)\n",
        "MW = fluid1.getMolarMass()\n",
        "z_inlet = fluid1.getZ()\n",
        "\n",
        "n = 1.0/ (1.0 - (kappa-1.0)/kappa*1.0/(polytropicEfficiency/100.0))\n",
        "print(\"polytropic exponent \", n)\n",
        "power = n/(n-1.0)*(temperature_inlet+273.15)*z_inlet/(polytropicEfficiency/100.0)*(gasFlowRate*1.0e6/24.0/3600.0)*(101325.0/288.15)*(math.pow(pressure_Out/pressure_inlet, (n-1.0)/n)-1.0)\n",
        "estOutTemp = (temperature_inlet+273.15)*math.pow(pressure_Out/pressure_inlet, (n-1.0)/n)\n",
        "print(\"power based in simple method \", power/1e6, \"MW\")\n",
        "print(\"temperature out based on simple method (Z inlet) \", (estOutTemp-273.15), \" C\")\n",
        "\n",
        "fluid1.setPressure(pressure_Out, 'bara')\n",
        "fluid1.setTemperature(temperature_out, 'C')\n",
        "TPflash(fluid1)\n",
        "z_outlet = fluid1.getZ()\n",
        "\n",
        "Z_average = (z_inlet+z_outlet)/2.0\n",
        "print(\"Z inlet \" ,z_inlet, \" Z average \", Z_average)\n",
        "\n",
        "power = n/(n-1.0)*(temperature_inlet+273.15)*Z_average/(polytropicEfficiency/100.0)*(gasFlowRate*1.0e6/24.0/3600.0)*(101325.0/288.15)*(math.pow(pressure_Out/pressure_inlet, (n-1.0)/n)-1.0)\n",
        "print(\"power based in simple method (average Z) \", power/1e6, \"MW\")\n"
      ]
    },
    {
      "cell_type": "markdown",
      "metadata": {
        "id": "HhNiixWWiF-v"
      },
      "source": [
        "# Using regorous method based on EoS\n",
        "In the follwong example we use the case from the previous example using the regorous comprooser calculation method in NeqSim (rigorous). In the regorous method the compressor is calculated using a number of adabatic pressure stages.\n",
        "\n",
        "The method is as follows:\n",
        "\n",
        "1. Define number of pressure stages\n",
        "2. Perform an adibatic flash for each stage\n",
        "3. Calculate the outlet enthalpy based on polytroipic efficiency (hout = hin+(hadi-hin)/polytropic efficiency. Run a PHflash (return temperature of pressure stage)"
      ]
    },
    {
      "cell_type": "code",
      "execution_count": 7,
      "metadata": {
        "colab": {
          "base_uri": "https://localhost:8080/"
        },
        "id": "uwXs_POtiXlc",
        "outputId": "f95f71e8-7c97-4700-9d92-7f551bf66c21"
      },
      "outputs": [
        {
          "output_type": "stream",
          "name": "stdout",
          "text": [
            "Compressor power  4.654968883041471  MW\n",
            "Temperature out  90.53437823284344  C\n"
          ]
        }
      ],
      "source": [
        "from neqsim.process import stream,  compressor, runProcess,clearProcess\n",
        "\n",
        "fluid1 = fluid('srk')\n",
        "fluid1.addComponent('methane', 1.0)\n",
        "fluid1.setPressure(pressure_inlet, 'bara')\n",
        "fluid1.setTemperature(temperature_inlet, \"C\")\n",
        "fluid1.setTotalFlowRate(gasFlowRate, \"MSm3/day\")\n",
        "\n",
        "clearProcess()\n",
        "inletStream  = stream(fluid1)\n",
        "compressor1 = compressor(inletStream)\n",
        "compressor1.setOutletPressure(pressure_Out)\n",
        "compressor1.setPolytropicEfficiency(polytropicEfficiency/100.0)\n",
        "compressor1.setUsePolytropicCalc(True)\n",
        "compressor1.setPolytropicMethod('detailed')\n",
        "runProcess()\n",
        "\n",
        "print('Compressor power ', compressor1.getPower()/1e6, ' MW')\n",
        "print('Temperature out ', compressor1.getOutStream().getTemperature('C'), ' C')"
      ]
    },
    {
      "cell_type": "markdown",
      "metadata": {
        "id": "0ZVHHmpT1Tbd"
      },
      "source": [
        "# Method based on EoS\n",
        "The following calculatin method uses a simplified method often used in process simulators.\n",
        "\n",
        "Power is calculated based on the equation:\n",
        "\n",
        "$ W = m\\times\\frac{n}{n-1}\\times CF \\times \\frac{P_{1}}{\\rho_{1}} \\times(\\frac{P_2}{P_1}^\\frac{n-1}{n}-1)$\n",
        "\n",
        "\n"
      ]
    },
    {
      "cell_type": "code",
      "execution_count": 8,
      "metadata": {
        "colab": {
          "base_uri": "https://localhost:8080/"
        },
        "id": "yOz3OH-41aX2",
        "outputId": "31491ed8-b23b-427c-f0d0-c74c194117e0"
      },
      "outputs": [
        {
          "output_type": "stream",
          "name": "stdout",
          "text": [
            "power  4.697550368060345  MW\n"
          ]
        }
      ],
      "source": [
        "from neqsim.thermo import PSflash\n",
        "fluid1 = fluid('srk')\n",
        "fluid1.addComponent('methane', 1.0)\n",
        "fluid1.setPressure(pressure_inlet, 'bara')\n",
        "fluid1.setTemperature(temperature_inlet, \"C\")\n",
        "fluid1.setTotalFlowRate(gasFlowRate, \"MSm3/day\")\n",
        "\n",
        "#Calculate inlet properties\n",
        "TPflash(fluid1)\n",
        "fluid1.initProperties()\n",
        "densIn = float(fluid1.getDensity(\"kg/m3\"))\n",
        "enthIn = fluid1.getEnthalpy()\n",
        "entrIn = fluid1.getEntropy()\n",
        "MW = fluid1.getMolarMass()\n",
        "\n",
        "#Calculate adibatic/isentripic properties\n",
        "fluid1.setPressure(pressure_Out, 'bara')\n",
        "PSflash(fluid1, entrIn)\n",
        "fluid1.initProperties()\n",
        "densOutIsentropic = float(fluid1.getDensity(\"kg/m3\"))\n",
        "enthalpyOutIsentropic = fluid1.getEnthalpy()\n",
        "isenthalpicvolumeexponent = math.log(pressure_Out / pressure_inlet) / math.log(densOutIsentropic / densIn)\n",
        "term = isenthalpicvolumeexponent/(isenthalpicvolumeexponent-1.0)*(polytropicEfficiency/100.0)\n",
        "term2 = 1e5*(pressure_Out/densOutIsentropic-pressure_inlet/densIn)\n",
        "CF = (enthalpyOutIsentropic-enthIn)/(term*term2)\n",
        "\n",
        "#Calculate power\n",
        "power = term*CF*1e5*pressure_inlet/densIn*(math.pow(pressure_Out / pressure_inlet, 1.0/term)-1.0)/1e6\n",
        "\n",
        "print('power ',power, ' MW')"
      ]
    },
    {
      "cell_type": "markdown",
      "metadata": {
        "id": "DLdwAMx5cKxK"
      },
      "source": [
        "#Comparing methods for compressor calculations in NeqSim"
      ]
    },
    {
      "cell_type": "code",
      "execution_count": 9,
      "metadata": {
        "colab": {
          "base_uri": "https://localhost:8080/"
        },
        "id": "XSUj0GAdcYLq",
        "outputId": "40bc848d-b1b7-4897-c595-4136e0b87881"
      },
      "outputs": [
        {
          "output_type": "stream",
          "name": "stdout",
          "text": [
            "Detailed: Compressor power  4.654968883041471  MW\n",
            "Detailed: Temperature out  90.53437823284344  C\n",
            "schultz: Compressor power  4.668262328473296  MW\n",
            "schultz: Temperature out  90.64712209459867  C\n",
            "simple: Compressor power  4.695650833015089  MW\n",
            "simple: Temperature out  90.87943238249852  C\n"
          ]
        }
      ],
      "source": [
        "from neqsim.process import stream,  compressor, runProcess,clearProcess\n",
        "\n",
        "fluid1 = fluid('srk')\n",
        "fluid1.addComponent('methane', 1.0)\n",
        "fluid1.setPressure(pressure_inlet, 'bara')\n",
        "fluid1.setTemperature(temperature_inlet, \"C\")\n",
        "fluid1.setTotalFlowRate(gasFlowRate, \"MSm3/day\")\n",
        "\n",
        "clearProcess()\n",
        "inletStream  = stream(fluid1)\n",
        "compressor1 = compressor(inletStream)\n",
        "compressor1.setOutletPressure(pressure_Out)\n",
        "compressor1.setPolytropicEfficiency(polytropicEfficiency/100.0)\n",
        "compressor1.setUsePolytropicCalc(True)\n",
        "compressor1.setPolytropicMethod('detailed')\n",
        "runProcess()\n",
        "\n",
        "print('Detailed: Compressor power ', compressor1.getPower()/1e6, ' MW')\n",
        "print('Detailed: Temperature out ', compressor1.getOutStream().getTemperature('C'), ' C')\n",
        "\n",
        "clearProcess()\n",
        "inletStream  = stream(fluid1)\n",
        "compressor1 = compressor(inletStream)\n",
        "compressor1.setOutletPressure(pressure_Out)\n",
        "compressor1.setPolytropicEfficiency(polytropicEfficiency/100.0)\n",
        "compressor1.setUsePolytropicCalc(True)\n",
        "compressor1.setPolytropicMethod('schultz')\n",
        "runProcess()\n",
        "\n",
        "print('schultz: Compressor power ', compressor1.getPower()/1e6, ' MW')\n",
        "print('schultz: Temperature out ', compressor1.getOutStream().getTemperature('C'), ' C')\n",
        "\n",
        "clearProcess()\n",
        "inletStream  = stream(fluid1)\n",
        "compressor1 = compressor(inletStream)\n",
        "compressor1.setOutletPressure(pressure_Out)\n",
        "compressor1.setPolytropicEfficiency(polytropicEfficiency/100.0)\n",
        "compressor1.setUsePolytropicCalc(True)\n",
        "compressor1.setPolytropicMethod('simple')\n",
        "runProcess()\n",
        "\n",
        "print('simple: Compressor power ', compressor1.getPower()/1e6, ' MW')\n",
        "print('simple: Temperature out ', compressor1.getOutStream().getTemperature('C'), ' C')"
      ]
    },
    {
      "cell_type": "markdown",
      "metadata": {
        "id": "LT-y18615ufh"
      },
      "source": [
        "## Case Study using SRK EoS##\n",
        "\n",
        "http://www.jmcampbell.com/tip-of-the-month/2011/11/compressor-calculations-rigorous-using-equation-of-state-vs-shortcut-method/\n",
        "\n",
        "The gas mixture with the composition shown in Table1 at 105 °F (40.6 °C) and 115 Psia (793 kPa) is compressed using a single-stage centrifugal compressor with the polytropic head and efficiency curves shown in Figures 1 and 2 at a speed of 7992 rpm. The total feed gas volumetric flow rate was 101 MMSCFD (2.86×106 Sm3/d)."
      ]
    },
    {
      "cell_type": "code",
      "execution_count": 10,
      "metadata": {
        "colab": {
          "base_uri": "https://localhost:8080/"
        },
        "id": "aqXcwP7UcyVE",
        "outputId": "b7f4459d-7400-4ff0-dd75-625027e3a9d4"
      },
      "outputs": [
        {
          "output_type": "stream",
          "name": "stdout",
          "text": [
            "kappa  1.2337246290201793\n",
            "actual flow rate  16205.49354807249  m3/hr\n",
            "n  1.3177277845180726\n",
            "head  15535.0  meter\n",
            "pressure ratio  2.9073059602493334\n",
            "pressure out   23.05493626477721\n",
            "estimated out temperature  132.67580428210812\n",
            "\n",
            "Calculations using polytropic efficiency:  78.57 %\n",
            "compressor1 power  5.503886582096322  MW\n",
            "temperature out  127.89823198186195\n",
            "pressure out  23.054936264777204\n"
          ]
        }
      ],
      "source": [
        "temperature_inlet = 40.6 #@param {type:\"number\"} # temperature in C\n",
        "pressure_inlet = 7.93 #@param {type:\"number\"} # pressure in bar\n",
        "\n",
        "gasFlowRate = 2.86#@param {type:\"number\"} # MSm3/day\n",
        "\n",
        "polytropicEfficiency = 77.0 #@param {type:\"number\"} # compressor efficiency%\n",
        "\n",
        "fluid1 = fluid('srk')\n",
        "fluid1.addComponent('methane', 83.099)\n",
        "fluid1.addComponent('ethane', 6.925)\n",
        "fluid1.addComponent('propane', 4.946)\n",
        "fluid1.addComponent('i-butane', 1.484)\n",
        "fluid1.addComponent('n-butane', 0.989)\n",
        "fluid1.addComponent('i-pentane', 0.495)\n",
        "fluid1.addComponent('n-pentane', 0.495)\n",
        "fluid1.addComponent('n-hexane', 0.198)\n",
        "fluid1.addComponent('n-heptane', 0.148)\n",
        "fluid1.addComponent('n-octane', 0.099)\n",
        "fluid1.addComponent('water', 0.983)\n",
        "fluid1.setTotalFlowRate(gasFlowRate, \"MSm3/day\")\n",
        "fluid1.setPressure(pressure_inlet, 'bara')\n",
        "fluid1.setTemperature(temperature_inlet, 'C')\n",
        "fluid1.setMixingRule(2)\n",
        "fluid1.setMultiPhaseCheck(True)\n",
        "TPflash(fluid1)\n",
        "fluid1.initProperties()\n",
        "actFlowRate = fluid1.getFlowRate(\"m3/hr\")\n",
        "gasdensty = fluid1.getDensity(\"kg/m3\")\n",
        "kappa = fluid1.getGamma2() # using \"ideal gamma\" gamma = Cp/(Cp-R)\n",
        "MW = fluid1.getMolarMass()\n",
        "enthalpy_inlet = fluid1.getEnthalpy('J/kg')\n",
        "entropy_inlet = fluid1.getEntropy()\n",
        "z_inlet = fluid1.getZ()\n",
        "vol_inlet = fluid1.getVolume()\n",
        "print(\"kappa \", kappa)\n",
        "print(\"actual flow rate \", actFlowRate, \" m3/hr\")\n",
        "\n",
        "compressorspeed = 7992 # RPM\n",
        "\n",
        "def polytropEfficiency(flow, speed):\n",
        "        return 78.57\n",
        "\n",
        "def polytropHead(flow, speed):\n",
        "        return 15535.0\n",
        "\n",
        "polytropEff = polytropEfficiency(actFlowRate, compressorspeed)\n",
        "head_meter = polytropHead(actFlowRate, compressorspeed)\n",
        "\n",
        "n = 1.0/ (1.0 - (kappa-1.0)/kappa*1.0/(polytropEff/100.0))\n",
        "print(\"n \",n)\n",
        "print(\"head \", head_meter, \" meter\")\n",
        "head_kjkg = head_meter/1000.0*9.81\n",
        "pressureRatio = math.pow((head_kjkg*1000.0 +  (n/(n-1.0)*z_inlet*8.314*(temperature_inlet+273.15)/MW))/ (n/(n-1.0)*z_inlet*8.314*(temperature_inlet+273.15)/MW), n/(n-1.0))\n",
        "print(\"pressure ratio \", pressureRatio)\n",
        "pressure_outlet = pressure_inlet*pressureRatio\n",
        "print(\"pressure out  \", pressure_outlet)\n",
        "estOutTemp = (temperature_inlet+273.15)*math.pow(pressureRatio, (n-1.0)/n)-273.15\n",
        "print(\"estimated out temperature \", estOutTemp)\n",
        "\n",
        "\n",
        "clearProcess()\n",
        "stream1 = stream(fluid1)\n",
        "compressor_1 = compressor(stream1, pressure_outlet)\n",
        "compressor_1.setOutletPressure(pressure_outlet)\n",
        "compressor_1.setPolytropicEfficiency(polytropEff/100.0)\n",
        "compressor_1.setUsePolytropicCalc(True)\n",
        "runProcess()\n",
        "print()\n",
        "print(\"Calculations using polytropic efficiency: \", (polytropEff), '%')\n",
        "print(\"compressor1 power \", compressor_1.getTotalWork()/1e6, \" MW\")\n",
        "print(\"temperature out \", (compressor_1.getThermoSystem().getTemperature()-273.15))\n",
        "print(\"pressure out \", (compressor_1.getThermoSystem().getPressure()))"
      ]
    },
    {
      "cell_type": "markdown",
      "metadata": {
        "id": "ZWgzj3JquP8p"
      },
      "source": [
        "# Using neqsim with compressor curves #\n",
        "This example demostrates use of NeqSim for compressor calculations when compresor curves are used as basis for calculation.\n",
        "\n",
        "Anti surge control is enabeled by setting compressor.getAntiSurge().setActive(True). The anit surge will activate when flow rate through compressor is lower than surge conditions. Gas recirculation will be set to a level so th gas flow through the compressor will be at the surge line."
      ]
    },
    {
      "cell_type": "code",
      "execution_count": 11,
      "metadata": {
        "colab": {
          "base_uri": "https://localhost:8080/"
        },
        "id": "C30SK_y7ugXo",
        "outputId": "aa9ad57b-cf2a-4b52-a819-7d5d798abe07"
      },
      "outputs": [
        {
          "output_type": "stream",
          "name": "stdout",
          "text": [
            "inlet flow  484.560486357535  m3/hr\n",
            "pressure out  84.0772345011972  bara\n",
            "compressor2 power  0.4110579653963213  MW\n",
            "temperature out of compressor2  65.07571694584834  °C\n"
          ]
        }
      ],
      "source": [
        "from neqsim.process import compressorChart\n",
        "\n",
        "from neqsim.thermo import fluid\n",
        "from neqsim.process import clearProcess, stream, compressor, runProcess, compressorChart,compressorSurgeCurve, compressorStoneWallCurve\n",
        "\n",
        "# Start by creating a fluid in neqsim\n",
        "fluid1 = fluid(\"srk\")  # create a fluid using the SRK-EoS\n",
        "#fluid1.addComponent(\"nitrogen\", 1.0)\n",
        "#fluid1.addComponent(\"CO2\", 2.0)\n",
        "fluid1.addComponent(\"methane\", 91.0)\n",
        "fluid1.addComponent(\"ethane\", 5.0)\n",
        "fluid1.addComponent(\"propane\", 3.0)\n",
        "fluid1.addComponent(\"i-butane\", 2.0)\n",
        "fluid1.addComponent(\"n-butane\", 2.0)\n",
        "fluid1.setMixingRule(2)\n",
        "\n",
        "fluid1.setTemperature(25.0, \"C\")\n",
        "fluid1.setPressure(50.0, \"bara\")\n",
        "fluid1.setTotalFlowRate(0.635, \"MSm3/day\")\n",
        "# demonstration of setting up a simple process calculation\n",
        "\n",
        "clearProcess()\n",
        "stream1 = stream(fluid1)\n",
        "compressor2 = compressor(stream1, 51.0)\n",
        "\n",
        "\n",
        "MW=28.01\n",
        "inlepPres=100.0\n",
        "inletTemp=26.2\n",
        "Zinlet=0.89\n",
        "curveConditions = [MW, inlepPres, inletTemp, Zinlet]\n",
        "\n",
        "speed = [1000.0, 2000.0, 3000.0, 4000.0]\n",
        "flow = [[453.2, 600.0, 750.0, 800.0], [533.2, 620.0, 750.0, 800.0],[560.2, 711.0, 750.0, 800.0],[583.2, 720.0, 780.0, 830.0]]\n",
        "head = [[ 9000.0, 8000.0, 7000.0, 6000.0], [10000.0, 9500.0, 9000.0, 8000.0 ], [10900.0, 10000.0, 9300.0, 8390.0], [ 11200.0, 10500.0, 9800.0, 9000.0]]\n",
        "polyEff = [[ 90.0, 91.0, 89.0, 88.0 ], [90.0, 91.0, 89.0, 88.0 ], [90.0, 91.0, 89.0, 88.1],[90.0, 91.0, 89.0, 88.1]]\n",
        "compressorChart(compressor2, curveConditions, speed, flow, head, polyEff)\n",
        "\n",
        "\n",
        "surgeFlow = [453.2, 500.0, 520.0, 550.0]\n",
        "surgeHead = [6000.0, 7000.0, 8000.0, 12000.0]\n",
        "compressorSurgeCurve(compressor2, curveConditions, surgeFlow, surgeHead)\n",
        "\n",
        "stoneWallFlow = [923.2, 950.0, 980.0, 1000.0]\n",
        "stoneWallHead = [6000.0, 7000.0, 8000.0, 10000.0]\n",
        "compressorStoneWallCurve(compressor2, curveConditions, stoneWallFlow, stoneWallHead)\n",
        "\n",
        "\n",
        "compressor2.setUsePolytropicCalc(True)\n",
        "compressor2.getAntiSurge().setActive(True)\n",
        "compressor2.getAntiSurge().setSurgeControlFactor(1.05) # flow will be set to this factor higher than surge line\n",
        "compressor2.setSpeed(2050)\n",
        "\n",
        "runProcess()\n",
        "print(\"inlet flow \", stream1.getThermoSystem().getFlowRate(\"m3/hr\"), \" m3/hr\")\n",
        "#print(\"active anti surge? \", compressor2.getAntiSurge().isSurge()\n",
        "#print(\"flow fraction in surge line \", compressor2.getAntiSurge().getCurrentSurgeFraction())\n",
        "#print(\"polytropic head \", compressor2.getPolytropicHead(), \" meter\")\n",
        "#print(\"polytropic fluid head \", compressor2.getPolytropicFluidHead(), \" kJ/kg\")\n",
        "#print(\"polytropic exponent\", compressor2.getPolytropicExponent(), \" -\")\n",
        "print(\"pressure out \", compressor2.getOutStream().getPressure(), \" bara\")\n",
        "print(\"compressor2 power \", compressor2.getPower()/1.0e6, \" MW\")\n",
        "print(\"temperature out of compressor2 \", compressor2.getOutStream().getTemperature()-273.15, \" °C\")"
      ]
    },
    {
      "cell_type": "code",
      "source": [
        "compressor2.getCompressorChart().getPolytropicHead(700.0, 2000)"
      ],
      "metadata": {
        "id": "lRIaRua1N-5u",
        "outputId": "63af6cb3-1af2-4ee2-f98f-9784965300cc",
        "colab": {
          "base_uri": "https://localhost:8080/"
        }
      },
      "execution_count": 12,
      "outputs": [
        {
          "output_type": "execute_result",
          "data": {
            "text/plain": [
              "14464.868081803765"
            ]
          },
          "metadata": {},
          "execution_count": 12
        }
      ]
    },
    {
      "cell_type": "code",
      "source": [
        "stream1.setFlowRate(0.8635, \"MSm3/day\")\n",
        "stream1.run()\n",
        "compressor2.setSpeed(1000)\n",
        "compressor2.run()\n",
        "import matplotlib.pyplot as plt\n",
        "plt.plot(flow[0], head[0])\n",
        "plt.plot(flow[1], head[1])\n",
        "plt.plot(flow[2], head[2])\n",
        "plt.plot(flow[3], head[3])\n",
        "plt.plot(surgeFlow, surgeHead)\n",
        "plt.plot(compressor2.getInStream().getFlowRate('m3/hr'), compressor2.getPolytropicHead(), marker='*')\n",
        "plt.xlabel('Flow [m3/hr]')\n",
        "plt.ylabel('Head [kJ/kg]')"
      ],
      "metadata": {
        "id": "vU4yubERHHdA",
        "outputId": "74879ead-f9bd-4e6d-d392-a96381da4fbd",
        "colab": {
          "base_uri": "https://localhost:8080/",
          "height": 466
        }
      },
      "execution_count": 13,
      "outputs": [
        {
          "output_type": "execute_result",
          "data": {
            "text/plain": [
              "Text(0, 0.5, 'Head [kJ/kg]')"
            ]
          },
          "metadata": {},
          "execution_count": 13
        },
        {
          "output_type": "display_data",
          "data": {
            "text/plain": [
              "<Figure size 640x480 with 1 Axes>"
            ],
            "image/png": "[encoded data removed]"
          },
          "metadata": {}
        }
      ]
    },
    {
      "cell_type": "markdown",
      "metadata": {
        "id": "lSggAOasyOpi"
      },
      "source": [
        "# Calculation of a gas compression train (two stage calculation)\n",
        "In this example we calculate the pressure and power in a compression train of two compressors operating on the same shaft (same speed for both compressores). The calculations are further run for a series of inlet pressures, gas flow rates, compressor speeds. Resulting pressure levels and compressor powers are calculated. For details of the compressor code implementation see [this link to the Java code](https://github.com/equinor/neqsim/tree/master/src/main/java/neqsim/processSimulation/processEquipment/compressor)."
      ]
    },
    {
      "cell_type": "code",
      "execution_count": 14,
      "metadata": {
        "colab": {
          "base_uri": "https://localhost:8080/"
        },
        "id": "z19AYce4ytcE",
        "outputId": "b877f6bf-398a-4cd5-ab81-b97b12beff84"
      },
      "outputs": [
        {
          "output_type": "stream",
          "name": "stdout",
          "text": [
            "compressor1 power  1.346363853477925  MW\n",
            "compressor2 power  0.28367359349767224  MW\n",
            "feed pressure  50.03  bara\n",
            "1 stage pressure  149.79487079835394  bara\n",
            "2 stage pressure  201.47835879794022  bara\n"
          ]
        }
      ],
      "source": [
        "gasFlowRate = 0.86#@param {type:\"number\"} # MSm3/day\n",
        "compressorSpeed = 1500 #@param {type:\"number\"} # MSm3/day\n",
        "\n",
        "temperature_inlet = 40.6 #@param {type:\"number\"} # temperature in C\n",
        "pressure_inlet = 50.03 #@param {type:\"number\"} # pressure in bar\n",
        "\n",
        "temperature_MP = 35.2 #@param {type:\"number\"} # temperature in C\n",
        "\n",
        "fluid1 = fluid('srk')\n",
        "fluid1.addComponent('methane', 83.099)\n",
        "fluid1.addComponent('ethane', 6.925)\n",
        "fluid1.addComponent('propane', 4.946)\n",
        "fluid1.addComponent('i-butane', 1.484)\n",
        "fluid1.setTotalFlowRate(gasFlowRate, \"MSm3/day\")\n",
        "fluid1.setPressure(pressure_inlet, 'bara')\n",
        "fluid1.setTemperature(temperature_inlet, 'C')\n",
        "fluid1.setMixingRule(2)\n",
        "\n",
        "clearProcess()\n",
        "stream1 = stream(fluid1)\n",
        "compressor_1 = compressor(stream1,70.0)\n",
        "compressor_1.setUsePolytropicCalc(True)\n",
        "coolerMP1 = heater(compressor_1.getOutStream())\n",
        "coolerMP1.setOutTemperature(temperature_MP+273.15)\n",
        "gasscrubber = separator(coolerMP1.getOutStream())\n",
        "compressor_2 = compressor(gasscrubber.getGasOutStream(), 50.0)\n",
        "\n",
        "speed = [1000.0, 2000.0, 3000.0, 4000.0]\n",
        "flow = [[453.2, 600.0, 750.0, 800.0], [453.2, 600.0, 750.0, 800.0],[453.2, 600.0, 750.0, 800.0],[453.2, 600.0, 750.0, 800.0]]\n",
        "head = [[ 10000.0, 9000.0, 8000.0, 7500.0], [10000.0, 9000.0, 8000.0, 7500.0 ], [10000.0, 9000.0, 8000.0, 7500.0], [ 10000.0, 9000.0, 8000.0, 7500.0]]\n",
        "polyEff = [[ 90.0, 91.0, 89.0, 88.0 ], [90.0, 91.0, 89.0, 88.0 ], [90.0, 91.0, 89.0, 88.1],[90.0, 91.0, 89.0, 88.1]]\n",
        "compressorChart(compressor2, curveConditions, speed, flow, head, polyEff)\n",
        "\n",
        "\n",
        "compressorChart(compressor_1, curveConditions, speed, flow, head, polyEff)\n",
        "compressor_1.setSpeed(2050);\n",
        "compressor_1.setUsePolytropicCalc(True)\n",
        "\n",
        "flow2 = [[253.2, 400.0, 650.0, 800.0], [253.2, 400.0, 650.0, 800.0],[253.2, 400.0, 650.0, 800.0],[253.2, 400.0, 650.0, 800.0]]\n",
        "compressorChart(compressor_2, curveConditions, speed, flow2, head, polyEff)\n",
        "compressor_2.setSpeed(2050);\n",
        "compressor_2.setUsePolytropicCalc(True)\n",
        "\n",
        "\n",
        "runProcess()\n",
        "\n",
        "print(\"compressor1 power \", compressor_1.getPower()/1e6, \" MW\")\n",
        "print(\"compressor2 power \", compressor_2.getPower()/1e6, \" MW\")\n",
        "\n",
        "print(\"feed pressure \", stream1.getThermoSystem().getPressure(\"bara\"), \" bara\")\n",
        "print(\"1 stage pressure \", compressor_1.getThermoSystem().getPressure(\"bara\"), \" bara\")\n",
        "print(\"2 stage pressure \", compressor_2.getThermoSystem().getPressure(\"bara\"), \" bara\")\n"
      ]
    },
    {
      "cell_type": "code",
      "execution_count": 15,
      "metadata": {
        "colab": {
          "base_uri": "https://localhost:8080/"
        },
        "id": "-dnPIIR8UQbV",
        "outputId": "040bd252-005c-4ac6-b74a-0bf3886aa9c3"
      },
      "outputs": [
        {
          "output_type": "stream",
          "name": "stdout",
          "text": [
            "feed pressure  40.0\n",
            "compressor1 power  1.8739643310570908  MW\n",
            "compressor2 power  0.21949286088259273  MW\n",
            "feed pressure  40.0  bara\n",
            "1 stage pressure  167.95200902382368  bara\n",
            "2 stage pressure  211.28951906950803  bara\n",
            "feed pressure  50.0\n",
            "compressor1 power  1.3477084496663307  MW\n",
            "compressor2 power  0.28348365859347024  MW\n",
            "feed pressure  50.0  bara\n",
            "1 stage pressure  149.84142322431154  bara\n",
            "2 stage pressure  201.50187346428  bara\n",
            "feed pressure  55.0\n",
            "compressor1 power  1.139492978777697  MW\n",
            "compressor2 power  0.31456782894949686  MW\n",
            "feed pressure  55.0  bara\n",
            "1 stage pressure  142.6709158368205  bara\n",
            "2 stage pressure  197.9871188781852  bara\n",
            "flow  0.7\n",
            "compressor1 power  0.7756700671812945  MW\n",
            "compressor2 power  0.2899245154210166  MW\n",
            "feed pressure  50.03  bara\n",
            "1 stage pressure  111.36390004764951  bara\n",
            "2 stage pressure  159.95321187060648  bara\n",
            "flow  0.8\n",
            "compressor1 power  1.1186964760629958  MW\n",
            "compressor2 power  0.2855647597214378  MW\n",
            "feed pressure  50.03  bara\n",
            "1 stage pressure  134.68871002086036  bara\n",
            "2 stage pressure  185.325821095556  bara\n",
            "flow  0.9\n",
            "compressor1 power  1.5066631272347712  MW\n",
            "compressor2 power  0.28345191198683356  MW\n",
            "feed pressure  50.03  bara\n",
            "1 stage pressure  160.30437024794404  bara\n",
            "2 stage pressure  212.7191057693867  bara\n",
            "flow  1.0\n",
            "compressor1 power  1.935189879020511  MW\n",
            "compressor2 power  0.28800508530003077  MW\n",
            "feed pressure  50.03  bara\n",
            "1 stage pressure  188.00553705429928  bara\n",
            "2 stage pressure  242.65705170436877  bara\n",
            "speed  1000\n",
            "compressor1 power  0.7052066296976194  MW\n",
            "compressor2 power  0.38915690093866434  MW\n",
            "feed pressure  50.03  bara\n",
            "1 stage pressure  91.11619689478225  bara\n",
            "2 stage pressure  133.1833699478582  bara\n",
            "speed  1500\n",
            "compressor1 power  1.0856234805787852  MW\n",
            "compressor2 power  0.3666626337752128  MW\n",
            "feed pressure  50.03  bara\n",
            "1 stage pressure  123.03508015409984  bara\n",
            "2 stage pressure  179.1459151015848  bara\n",
            "speed  2000\n",
            "compressor1 power  1.3294767712723272  MW\n",
            "compressor2 power  0.29199934297373425  MW\n",
            "feed pressure  50.03  bara\n",
            "1 stage pressure  147.92680401782744  bara\n",
            "2 stage pressure  200.65391152864524  bara\n"
          ]
        }
      ],
      "source": [
        "inletPressure = [40.0, 50.0, 55.0]\n",
        "\n",
        "\n",
        "\n",
        "# Using for loop\n",
        "for pressure in inletPressure:\n",
        "  stream1.getThermoSystem().setPressure(pressure)\n",
        "  runProcess()\n",
        "  print(\"feed pressure \", pressure)\n",
        "  print(\"compressor1 power \", compressor_1.getPower()/1e6, \" MW\")\n",
        "  print(\"compressor2 power \", compressor_2.getPower()/1e6, \" MW\")\n",
        "  print(\"feed pressure \", stream1.getThermoSystem().getPressure(\"bara\"), \" bara\")\n",
        "  print(\"1 stage pressure \", compressor_1.getThermoSystem().getPressure(\"bara\"), \" bara\")\n",
        "  print(\"2 stage pressure \", compressor_2.getThermoSystem().getPressure(\"bara\"), \" bara\")\n",
        "\n",
        "stream1.getThermoSystem().setPressure(pressure_inlet)\n",
        "inletFlow = [0.7, 0.8, 0.9, 1.0]\n",
        "# Using for loop\n",
        "for flow in inletFlow:\n",
        "  stream1.getThermoSystem().setTotalFlowRate(flow, \"MSm3/day\")\n",
        "  runProcess()\n",
        "  print(\"flow \", flow)\n",
        "  print(\"compressor1 power \", compressor_1.getPower()/1e6, \" MW\")\n",
        "  print(\"compressor2 power \", compressor_2.getPower()/1e6, \" MW\")\n",
        "  print(\"feed pressure \", stream1.getThermoSystem().getPressure(\"bara\"), \" bara\")\n",
        "  print(\"1 stage pressure \", compressor_1.getThermoSystem().getPressure(\"bara\"), \" bara\")\n",
        "  print(\"2 stage pressure \", compressor_2.getThermoSystem().getPressure(\"bara\"), \" bara\")\n",
        "\n",
        "stream1.getThermoSystem().setTotalFlowRate(gasFlowRate, \"MSm3/day\")\n",
        "speedRuns = [1000, 1500, 2000]\n",
        "\n",
        "# Using for loop\n",
        "for speed in speedRuns:\n",
        "  compressor_1.setSpeed(speed)\n",
        "  compressor_2.setSpeed(speed)\n",
        "  runProcess()\n",
        "  print(\"speed \", speed)\n",
        "  print(\"compressor1 power \", compressor_1.getPower()/1e6, \" MW\")\n",
        "  print(\"compressor2 power \", compressor_2.getPower()/1e6, \" MW\")\n",
        "  print(\"feed pressure \", stream1.getThermoSystem().getPressure(\"bara\"), \" bara\")\n",
        "  print(\"1 stage pressure \", compressor_1.getThermoSystem().getPressure(\"bara\"), \" bara\")\n",
        "  print(\"2 stage pressure \", compressor_2.getThermoSystem().getPressure(\"bara\"), \" bara\")"
      ]
    },
    {
      "cell_type": "markdown",
      "metadata": {
        "id": "MUsZwcbMpn-d"
      },
      "source": [
        "# More examples of compressor calculations\n",
        "Evaluation of alternative methods for compressor calculations"
      ]
    },
    {
      "cell_type": "code",
      "execution_count": 16,
      "metadata": {
        "colab": {
          "base_uri": "https://localhost:8080/"
        },
        "id": "6m_nFQPU8KfA",
        "outputId": "f7122783-86d9-4f73-bc27-e403b8bd83aa"
      },
      "outputs": [
        {
          "output_type": "stream",
          "name": "stdout",
          "text": [
            "kappa  1.2419141565372038\n",
            "actual flow rate  16205.49354807249  m3/hr\n",
            "n  1.3296471847434705\n",
            "head_meter  15535.0\n",
            "pressure ratio  2.897012868556815\n",
            "pressure out   22.973312047655543\n",
            "\n",
            "Calculations using polytropic efficiency:  78.57 %\n",
            "compressor1 power  5.483253309822206  MW\n",
            "temperature out  127.58341422739824\n",
            "pressure out  22.97331204765553\n"
          ]
        }
      ],
      "source": [
        "temperature_inlet = 40.6 #@param {type:\"number\"}\n",
        "pressure_inlet = 7.93 #@param {type:\"number\"}\n",
        "\n",
        "gasFlowRate = 2.86#@param {type:\"number\"} # MSm3/day\n",
        "\n",
        "polytropicEfficiency = 77.0 #@param {type:\"number\"} # compressor efficiency%\n",
        "\n",
        "fluid1 = fluid('srk')\n",
        "fluid1.addComponent('methane', 83.099)\n",
        "fluid1.addComponent('ethane', 6.925)\n",
        "fluid1.addComponent('propane', 4.946)\n",
        "fluid1.addComponent('i-butane', 1.484)\n",
        "fluid1.addComponent('n-butane', 0.989)\n",
        "fluid1.addComponent('i-pentane', 0.495)\n",
        "fluid1.addComponent('n-pentane', 0.495)\n",
        "fluid1.addComponent('n-hexane', 0.198)\n",
        "fluid1.addComponent('n-heptane', 0.148)\n",
        "fluid1.addComponent('n-octane', 0.099)\n",
        "fluid1.addComponent('water', 0.983)\n",
        "fluid1.setTotalFlowRate(gasFlowRate, \"MSm3/day\")\n",
        "fluid1.setPressure(pressure_inlet, 'bara')\n",
        "fluid1.setTemperature(temperature_inlet, 'C')\n",
        "fluid1.setMixingRule(2)\n",
        "fluid1.setMultiPhaseCheck(True)\n",
        "TPflash(fluid1)\n",
        "fluid1.initProperties()\n",
        "actFlowRate = fluid1.getFlowRate(\"m3/hr\")\n",
        "gasdensty = fluid1.getDensity(\"kg/m3\")\n",
        "kappa = fluid1.getPhase(0).getKappa()\n",
        "MW = fluid1.getMolarMass()\n",
        "enthalpy_inlet = fluid1.getEnthalpy('J/kg')\n",
        "entropy_inlet = fluid1.getEntropy()\n",
        "z_inlet = fluid1.getZ()\n",
        "vol_inlet = fluid1.getVolume()\n",
        "n=kappa;\n",
        "print(\"kappa \", kappa)\n",
        "print(\"actual flow rate \", actFlowRate, \" m3/hr\")\n",
        "\n",
        "compressorspeed = 7992 # RPM\n",
        "\n",
        "def polytropEfficiency(flow, speed):\n",
        "        return 78.57\n",
        "\n",
        "def polytropHead(flow, speed):\n",
        "        return 15535.0\n",
        "\n",
        "polytropEff = polytropEfficiency(actFlowRate, compressorspeed)\n",
        "head_meter = polytropHead(actFlowRate, compressorspeed)\n",
        "\n",
        "n = 1.0/ (1.0 - (kappa-1.0)/kappa*1.0/(polytropEff/100.0))\n",
        "print(\"n \",n)\n",
        "print(\"head_meter \", head_meter)\n",
        "head_kjkg = head_meter/1000.0*9.81\n",
        "pressureRatio = math.pow((head_kjkg*1000.0 +  (n/(n-1.0)*z_inlet*8.314*(temperature_inlet+273.15)/MW))/ (n/(n-1.0)*z_inlet*8.314*(temperature_inlet+273.15)/MW), n/(n-1.0))\n",
        "print(\"pressure ratio \", pressureRatio)\n",
        "pressure_outlet = pressure_inlet*pressureRatio\n",
        "print(\"pressure out  \", pressure_outlet)\n",
        "\n",
        "clearProcess()\n",
        "stream1 = stream(fluid1)\n",
        "compressor_1 = compressor(stream1, pressure_outlet)\n",
        "compressor_1.setPolytropicEfficiency(polytropEff/100.0)\n",
        "compressor_1.setUsePolytropicCalc(True)\n",
        "runProcess()\n",
        "print()\n",
        "print(\"Calculations using polytropic efficiency: \", (polytropEff), '%')\n",
        "print(\"compressor1 power \", compressor_1.getTotalWork()/1e6, \" MW\")\n",
        "print(\"temperature out \", (compressor_1.getThermoSystem().getTemperature()-273.15))\n",
        "print(\"pressure out \", (compressor_1.getThermoSystem().getPressure()))"
      ]
    },
    {
      "cell_type": "code",
      "execution_count": 17,
      "metadata": {
        "colab": {
          "base_uri": "https://localhost:8080/"
        },
        "id": "yqTbZIDLSM2c",
        "outputId": "0392f7f6-386c-4f0d-f275-7dd388f261c4"
      },
      "outputs": [
        {
          "output_type": "stream",
          "name": "stdout",
          "text": [
            "kappa  1.45715985758999\n",
            "polytropic exponent  1.6876101898401001\n",
            "power based in simple method  4.67005623452687 MW\n",
            "temperature out based on simple method  115.23983254530901  C\n"
          ]
        },
        {
          "output_type": "execute_result",
          "data": {
            "text/plain": [
              "1.1841780119115959"
            ]
          },
          "metadata": {},
          "execution_count": 17
        }
      ],
      "source": [
        "temperature_inlet = 35.0 #@param {type:\"number\"}\n",
        "pressure_inlet = 85.0 #@param {type:\"number\"}\n",
        "\n",
        "pressure_Out = 150.0 #@param {type:\"number\"}\n",
        "temperature_out = 100.0\n",
        "\n",
        "gasFlowRate = 5.0#@param {type:\"number\"} # MSm3/day\n",
        "\n",
        "polytropicEfficiency = 77.0 #@param {type:\"number\"} # compressor efficiency%\n",
        "\n",
        "fluid1 = fluid('srk')\n",
        "fluid1.addComponent('methane', 1.0)\n",
        "fluid1.setTotalFlowRate(gasFlowRate, \"MSm3/day\")\n",
        "fluid1.setPressure(pressure_inlet, 'bara')\n",
        "fluid1.setTemperature(temperature_inlet, 'C')\n",
        "\n",
        "TPflash(fluid1)\n",
        "fluid1.initProperties()\n",
        "\n",
        "kappa = fluid1.getPhase(0).getKappa()\n",
        "print(\"kappa \", kappa)\n",
        "MW = fluid1.getMolarMass()\n",
        "density_inlet = fluid1.getDensity('kg/m3')\n",
        "enthalpy_inlet = fluid1.getEnthalpy('J/kg')\n",
        "entropy_inlet = fluid1.getEntropy()\n",
        "z_inlet = fluid1.getZ()\n",
        "\n",
        "n = 1.0/ (1.0 - (kappa-1.0)/kappa*1.0/(polytropicEfficiency/100.0))\n",
        "print(\"polytropic exponent \", n)\n",
        "power = n/(n-1.0)*(temperature_inlet+273.15)*z_inlet/(polytropicEfficiency/100.0)*(gasFlowRate*1.0e6/24.0/3600.0)*(101325.0/288.15)*(math.pow(pressure_Out/pressure_inlet, (n-1.0)/n)-1.0)\n",
        "estOutTemp = (temperature_inlet+273.15)*math.pow(pressure_Out/pressure_inlet, (n-1.0)/n)\n",
        "print(\"power based in simple method \", power/1e6, \"MW\")\n",
        "print(\"temperature out based on simple method \", (estOutTemp-273.15), \" C\")\n",
        "\n",
        "fluid1.setPressure(pressure_Out, \"bara\")\n",
        "PSflash(fluid1, entropy_inlet)\n",
        "fluid1.initProperties()\n",
        "enthalpy_isentr = fluid1.getEnthalpy('J/kg')\n",
        "density_isentr = fluid1.getDensity('kg/m3')\n",
        "Z_isentr = fluid1.getZ()\n",
        "\n",
        "fluid1.setPressure(pressure_Out, 'bara')\n",
        "fluid1.setTemperature(temperature_out, 'C')\n",
        "TPflash(fluid1)\n",
        "fluid1.initProperties()\n",
        "\n",
        "density_outlet = fluid1.getDensity('kg/m3')\n",
        "enthalpy_outlet = fluid1.getEnthalpy('J/kg')\n",
        "\n",
        "k_s = math.log(pressure_Out/pressure_inlet)/math.log(density_outlet/density_inlet)\n",
        "\n",
        "n = k_s/(k_s-1.0)\n",
        "\n",
        "k_h = (enthalpy_outlet-enthalpy_isentr)/(100000.0 * n * (pressure_Out/density_isentr-pressure_inlet/density_inlet))\n",
        "\n",
        "k_p = (1.0-math.log(density_outlet/density_inlet))/math.log(pressure_Out/pressure_inlet)\n",
        "k_p\n",
        "\n",
        "h_p = k_h*(temperature_inlet+273.15)*Z_isentr*8.314*(math.pow(pressure_Out/pressure_inlet,k_p)-1.0)/(MW*1000.0)/k_p\n",
        "\n",
        "h_tot = h_p/(polytropicEfficiency/100.0)\n",
        "\n",
        "E_p = h_tot*fluid1.getVolume('m3')/density_inlet\n",
        "\n",
        "E_p"
      ]
    },
    {
      "cell_type": "markdown",
      "metadata": {
        "id": "8QPvjsXK6SHX"
      },
      "source": [
        "# Calcuation of compressor head, efficiency and power using the GERG-2008 EoS\n",
        "In the following calculation we will use measured gas composition, flow rates and inlet and outlet temperatures to calculate compressor head, efficiency and power. The GERG-2008 EoS will be used internally in the compressor to calculate properties of the gas."
      ]
    },
    {
      "cell_type": "code",
      "execution_count": 18,
      "metadata": {
        "colab": {
          "base_uri": "https://localhost:8080/"
        },
        "id": "xBBkg_3xBL4C",
        "outputId": "8c12288c-cb61-4c1d-e4c0-da3b154b93a0"
      },
      "outputs": [
        {
          "output_type": "stream",
          "name": "stdout",
          "text": [
            "Natural Gas Fluid:\n",
            "\n",
            "  ComponentName  MolarComposition[-]\n",
            "0      nitrogen                0.340\n",
            "1           CO2                0.840\n",
            "2       methane               90.400\n",
            "3        ethane                5.199\n",
            "4       propane                2.060\n",
            "5      i-butane                0.360\n",
            "6      n-butane                0.550\n",
            "7     i-pentane                0.140\n",
            "8     n-pentane                0.097\n",
            "9      n-hexane                0.014\n"
          ]
        }
      ],
      "source": [
        "#Create fluid\n",
        "from neqsim.thermo import fluid_df\n",
        "import pandas as pd\n",
        "\n",
        "naturalgas = {'ComponentName':  [\"nitrogen\", \"CO2\", \"methane\", \"ethane\", \"propane\", \"i-butane\", \"n-butane\", \"i-pentane\", \"n-pentane\", \"n-hexane\"],\n",
        "        'MolarComposition[-]':  [0.34, 0.84, 90.4, 5.199, 2.06, 0.36, 0.55, 0.14, 0.097, 0.014]\n",
        "}\n",
        "\n",
        "naturalgasdf = pd.DataFrame(naturalgas)\n",
        "print(\"Natural Gas Fluid:\\n\")\n",
        "print(naturalgasdf.head(30).to_string())\n",
        "naturalgasFluid = fluid_df(naturalgasdf)"
      ]
    },
    {
      "cell_type": "code",
      "execution_count": 19,
      "metadata": {
        "colab": {
          "base_uri": "https://localhost:8080/"
        },
        "id": "T7lqwso86sgl",
        "outputId": "de840183-9f4c-4685-c61c-186fc75d7e27"
      },
      "outputs": [
        {
          "output_type": "stream",
          "name": "stdout",
          "text": [
            "power  7.298434428721965  MW\n",
            "polytropic efficiency  73.13325871225011  %\n",
            "polytropic head  120.14661401361928  kJ/kg\n",
            "delta enthalpy 165.47276340600234  kJ/kg\n",
            "delta enthalpy GERG2008  164.28450766339807  kJ/kg\n"
          ]
        }
      ],
      "source": [
        "from neqsim.process import stream,  compressor\n",
        "\n",
        "gasCompostion = [0.34, 0.84, 90.4, 5.199, 2.06, 0.36, 0.55, 0.14, 0.097, 0.014]\n",
        "gasFlowRate = 5.0\n",
        "\n",
        "temperature_inlet = 35.0\n",
        "pressure_inlet = 40.0\n",
        "\n",
        "temperatureOut = 115.0\n",
        "pressureOut = 90.0\n",
        "\n",
        "naturalgasFluid.setMolarComposition(gasCompostion) # update composition\n",
        "naturalgasFluid.setPressure(pressure_inlet, 'bara')\n",
        "naturalgasFluid.setTemperature(temperature_inlet, 'C')\n",
        "naturalgasFluid.setTotalFlowRate(gasFlowRate, \"MSm3/day\")\n",
        "\n",
        "#Setting up a simple process (one stream and a compressor)\n",
        "inputStream = stream(naturalgasFluid)\n",
        "compressor_1 = compressor(inputStream)\n",
        "compressor_1.setOutletPressure(pressureOut)\n",
        "compressor_1.setOutTemperature(temperatureOut+273.15)\n",
        "compressor_1.setUsePolytropicCalc(True)\n",
        "compressor_1.setUseRigorousPolytropicMethod(False) #If True it will use advanced integrationm method (see section about regorous method based on EoS), if fasle it uses simplified method (described above)\n",
        "compressor_1.setUseGERG2008(True) # If True GERG-2008 will be used internally in the calculation of the compressor (see implementation: https://github.com/equinor/neqsim/blob/master/src/main/java/neqsim/processSimulation/processEquipment/compressor/Compressor.java#L292)\n",
        "inputStream.run()\n",
        "compressor_1.run()\n",
        "\n",
        "print(\"power \", compressor_1.getPower()/1e6, \" MW\")\n",
        "print(\"polytropic efficiency \", compressor_1.getPolytropicEfficiency()*100, \" %\")\n",
        "print(\"polytropic head \", compressor_1.getPolytropicHead(\"kJ/kg\"), \" kJ/kg\")\n",
        "\n",
        "\n",
        "deltaEnthalpy = compressor_1.getOutStream().getFluid().getEnthalpy(\"kJ/kg\")-compressor_1.getInStream().getFluid().getEnthalpy(\"kJ/kg\")\n",
        "print('delta enthalpy', deltaEnthalpy, ' kJ/kg')\n",
        "\n",
        "enthalpyOutGerg = compressor_1.getOutStream().getFluid().getPhase('gas').getProperties_GERG2008()[7]/compressor_1.getOutStream().getFluid().getPhase('gas').getMolarMass()/1000.0\n",
        "enthalpyInGerg = compressor_1.getInStream().getFluid().getPhase('gas').getProperties_GERG2008()[7]/compressor_1.getInStream().getFluid().getPhase('gas').getMolarMass()/1000.0\n",
        "deltaEnthalpyGERG = enthalpyOutGerg-enthalpyInGerg\n",
        "print('delta enthalpy GERG2008 ', deltaEnthalpyGERG, ' kJ/kg')"
      ]
    },
    {
      "cell_type": "markdown",
      "metadata": {
        "id": "5gnEn0B9xQwa"
      },
      "source": [
        "## Calculation of density/property profile of compression path\n",
        "In the following exmaple we calculate the compression path of a compressor"
      ]
    },
    {
      "cell_type": "code",
      "execution_count": 20,
      "metadata": {
        "id": "hlAGxOvMxQwb",
        "outputId": "fee14eb7-23f1-43b7-bb49-9bbd68ad34f9",
        "colab": {
          "base_uri": "https://localhost:8080/",
          "height": 956
        }
      },
      "outputs": [
        {
          "output_type": "stream",
          "name": "stdout",
          "text": [
            "power  7.0098535524284085  MW\n",
            "density stage 3  29.323233433930927  kg/m3\n",
            "density stage 23  39.38550231651478  kg/m3\n"
          ]
        },
        {
          "output_type": "display_data",
          "data": {
            "text/plain": [
              "<Figure size 640x480 with 1 Axes>"
            ],
            "image/png": "[encoded data removed]"
          },
          "metadata": {}
        },
        {
          "output_type": "display_data",
          "data": {
            "text/plain": [
              "<Figure size 640x480 with 1 Axes>"
            ],
            "image/png": "[encoded data removed]"
          },
          "metadata": {}
        }
      ],
      "source": [
        "from neqsim.process import stream,  compressor, runProcess,clearProcess\n",
        "\n",
        "gasFlowRate = 5.0\n",
        "temperature_inlet = 30.0\n",
        "pressure_inlet = 40.0\n",
        "pressure_Out = 90.0\n",
        "\n",
        "fluid1 = fluid('srk')\n",
        "fluid1.addComponent('methane', 1.0)\n",
        "fluid1.setPressure(pressure_inlet, 'bara')\n",
        "fluid1.setTemperature(temperature_inlet, \"C\")\n",
        "fluid1.setTotalFlowRate(gasFlowRate, \"MSm3/day\")\n",
        "\n",
        "clearProcess()\n",
        "inletStream  = stream(fluid1)\n",
        "compressor1 = compressor(inletStream)\n",
        "compressor1.setOutletPressure(pressure_Out)\n",
        "compressor1.setPolytropicEfficiency(polytropicEfficiency/100.0)\n",
        "compressor1.setUsePolytropicCalc(True)\n",
        "compressor1.setPolytropicMethod('detailed')\n",
        "compressor1.setNumberOfCompressorCalcSteps(40);\n",
        "compressor1.getPropertyProfile().setActive(True);\n",
        "runProcess()\n",
        "\n",
        "print('power ', compressor1.getPower()/1e6, ' MW')\n",
        "print('density stage 3 ',compressor1.getPropertyProfile().getFluid().get(3).getDensity(\"kg/m3\"), ' kg/m3')\n",
        "print('density stage 23 ', compressor1.getPropertyProfile().getFluid().get(23).getDensity(\"kg/m3\"), ' kg/m3')\n",
        "\n",
        "\n",
        "density = []\n",
        "pressure = []\n",
        "temperature = []\n",
        "\n",
        "for i in range(40):\n",
        "  density.append(compressor1.getPropertyProfile().getFluid().get(i).getDensity(\"kg/m3\"))\n",
        "  temperature.append(compressor1.getPropertyProfile().getFluid().get(i).getTemperature(\"C\"))\n",
        "  pressure.append(compressor1.getPropertyProfile().getFluid().get(i).getPressure(\"bara\"))\n",
        "\n",
        "import matplotlib.pyplot as plt\n",
        "plt.subplot(1,2,1)\n",
        "plt.plot(pressure, density)\n",
        "plt.xlabel(\"Pressure  [bara]\")\n",
        "plt.ylabel(\"Density [kg/m3]\")\n",
        "plt.show()\n",
        "\n",
        "plt.subplot(1,2,2)\n",
        "plt.plot(pressure, temperature)\n",
        "plt.xlabel(\"Pressure  [bara]\")\n",
        "plt.ylabel(\"Temperature [C]\")\n",
        "plt.title(\"Temperature profile in compressor\")\n",
        "plt.show()"
      ]
    },
    {
      "cell_type": "markdown",
      "source": [
        "# Create lift curves for Eclipse based on compressor maps\n",
        "In the following example we will generate lift curves to be used in Eclipse simulations based on compressor curves."
      ],
      "metadata": {
        "id": "gyyLBLWuh6rG"
      }
    },
    {
      "cell_type": "code",
      "source": [
        "from neqsim.process import stream,  compressor, runProcess,clearProcess\n",
        "from scipy.optimize import least_squares\n",
        "\n",
        "gasFlowRate = 5.0\n",
        "temperature_inlet = 30.0\n",
        "pressure_inlet = 40.0\n",
        "pressure_Out = 90.0\n",
        "\n",
        "fluid1 = fluid('srk')\n",
        "fluid1.addComponent('nitrogen', 1.0)\n",
        "fluid1.addComponent('CO2', 1.0)\n",
        "fluid1.addComponent('methane', 90.0)\n",
        "fluid1.addComponent('ethane', 5.0)\n",
        "fluid1.addComponent('propane', 3.0)\n",
        "\n",
        "\n",
        "clearProcess()\n",
        "inletStream  = stream(fluid1)\n",
        "inletStream.setPressure(pressure_inlet, 'bara')\n",
        "inletStream.setTemperature(temperature_inlet, \"C\")\n",
        "inletStream.setFlowRate(gasFlowRate, \"MSm3/day\")\n",
        "\n",
        "compressor1 = compressor(inletStream)\n",
        "compressor1.setOutletPressure(pressure_Out)\n",
        "runProcess()\n",
        "\n",
        "print('flow rate ', compressor1.getInletStream().getFlowRate('m3/hr'), ' m3/hr')\n",
        "print('inlet pressure ', compressor1.getInletStream().getPressure('bara'), ' bara')\n",
        "print('outlet pressure ', compressor1.getOutletStream().getPressure('bara'), ' bara')\n",
        "print('polytropic head ', compressor1.getPolytropicFluidHead(), ' kJ/kg')\n",
        "print('head ', compressor1.getPolytropicHeadMeter(), ' meter')\n",
        "print('power ', compressor1.getPower('MW'),  ' MW')"
      ],
      "metadata": {
        "id": "wANldJxNiLaQ",
        "outputId": "cdd52a30-f5e1-4675-efd9-26363f9c4ff0",
        "colab": {
          "base_uri": "https://localhost:8080/"
        }
      },
      "execution_count": 21,
      "outputs": [
        {
          "output_type": "stream",
          "name": "stdout",
          "text": [
            "flow rate  5116.057516261762  m3/hr\n",
            "inlet pressure  40.0  bara\n",
            "outlet pressure  90.0  bara\n",
            "polytropic head  116.31179074242331  kJ/kg\n",
            "head  11856.451655700643  meter\n",
            "power  5.119913309448702  MW\n"
          ]
        }
      ]
    },
    {
      "cell_type": "code",
      "source": [
        "#input flow rate and out pressure, power\n",
        "\n",
        "#predict input pressure\n",
        "\n",
        "def calcinpres(inlet_pressure, power, outlet_pressure, flow, temperature_inlet):\n",
        "  clearProcess()\n",
        "  inletStream  = stream(fluid1)\n",
        "  inletStream.setPressure(inlet_pressure, 'bara')\n",
        "  inletStream.setTemperature(temperature_inlet, \"C\")\n",
        "  inletStream.setFlowRate(flow, \"MSm3/day\")\n",
        "\n",
        "  compressor1 = compressor(inletStream)\n",
        "  compressor1.setOutletPressure(outlet_pressure)\n",
        "  compressor1.setUsePolytropicCalc(True);\n",
        "  compressor1.setPolytropicEfficiency(0.62);\n",
        "  runProcess()\n",
        "  return compressor1.getPower('MW')-power\n",
        "\n",
        "\n",
        "inletpres = least_squares(calcinpres, 10.0, args=(5.0, 90.0, 5.0, 30.0));\n",
        "print('inlet pressure ' ,inletpres.x[0], ' bara')"
      ],
      "metadata": {
        "colab": {
          "base_uri": "https://localhost:8080/"
        },
        "id": "2n3Oxtk6Cqxi",
        "outputId": "100b28a8-f4fa-4edd-9613-b56e4bf57e69"
      },
      "execution_count": 22,
      "outputs": [
        {
          "output_type": "stream",
          "name": "stderr",
          "text": [
            "<ipython-input-22-9406e42606bd>:8: DeprecationWarning: Conversion of an array with ndim > 0 to a scalar is deprecated, and will error in future. Ensure you extract a single element from your array before performing this operation. (Deprecated NumPy 1.25.)\n",
            "  inletStream.setPressure(inlet_pressure, 'bara')\n"
          ]
        },
        {
          "output_type": "stream",
          "name": "stdout",
          "text": [
            "inlet pressure  54.363785066316304  bara\n"
          ]
        }
      ]
    },
    {
      "cell_type": "code",
      "source": [
        "MW=28.01\n",
        "inlepPres=100.0\n",
        "inletTemp=26.2\n",
        "Zinlet=0.89\n",
        "curveConditions = [MW, inlepPres, inletTemp, Zinlet]\n",
        "\n",
        "speed = [1000.0, 2000.0, 3000.0, 4000.0]\n",
        "flow = [[4503.2, 6000.0, 7500.0, 8000.0], [5330.2, 6200.0, 7500.0, 8000.0],[5600.2, 7110.0, 7500.0, 8000.0],[5830.2, 7200.0, 7800.0, 8300.0]]\n",
        "head = [[ 9000.0*2, 8000.0*2, 7000.0*2, 6000.0*2], [10000.0*2, 9500.0*2, 9000.0*2, 8000.0*2 ], [10900.0*2, 10000.0*2, 9300.0*2, 8390.0*2], [ 11200.0*2, 10500.0*2, 9800.0*2, 9000.0*2]]\n",
        "polyEff = [[ 90.0, 91.0, 89.0, 88.0 ], [90.0, 91.0, 89.0, 88.0 ], [90.0, 91.0, 89.0, 88.1],[90.0, 91.0, 89.0, 88.1]]\n",
        "\n",
        "surgeFlow = [4530.2, 5000.0, 5200.0, 5500.0]\n",
        "surgeHead = [6000.0, 7000.0, 8000.0, 12000.0]\n",
        "\n",
        "inletStream  = stream(fluid1)\n",
        "inletStream.setPressure(pressure_inlet, 'bara')\n",
        "inletStream.setTemperature(temperature_inlet, \"C\")\n",
        "inletStream.setFlowRate(7, \"MSm3/day\")\n",
        "inletStream.run()\n",
        "\n",
        "compressor1 = compressor(inletStream)\n",
        "compressorChart(compressor1, curveConditions, speed, flow, head, polyEff)\n",
        "compressor1.setUsePolytropicCalc(True)\n",
        "compressor1.getAntiSurge().setSurgeControlFactor(1.05)\n",
        "compressor1.setSpeed(4000)\n",
        "compressor1.run()\n",
        "\n",
        "print('flow rate ', compressor1.getInletStream().getFlowRate('m3/hr'), ' m3/hr')\n",
        "print('inlet pressure ', compressor1.getInletStream().getPressure('bara'), ' bara')\n",
        "print('outlet pressure ', compressor1.getOutletStream().getPressure('bara'), ' bara')\n",
        "print('pressure ratio ', compressor1.getOutletStream().getPressure('bara')/compressor1.getInletStream().getPressure('bara'), ' -')\n",
        "print('polytropic head ', compressor1.getPolytropicFluidHead(), ' kJ/kg')\n",
        "print('polytropic efficiency ', compressor1.getPolytropicEfficiency()*100, ' %')\n",
        "print('head ', compressor1.getPolytropicHead(), ' meter')\n",
        "print('power ', compressor1.getPower('MW'),  ' MW')"
      ],
      "metadata": {
        "colab": {
          "base_uri": "https://localhost:8080/"
        },
        "id": "4qotEt3GCq9F",
        "outputId": "0dd0474b-0df7-42e5-9678-8c765d5cb30a"
      },
      "execution_count": 23,
      "outputs": [
        {
          "output_type": "stream",
          "name": "stdout",
          "text": [
            "flow rate  7162.480522766466  m3/hr\n",
            "inlet pressure  40.0  bara\n",
            "outlet pressure  69.29421614044891  bara\n",
            "pressure ratio  1.7323554035112227  -\n",
            "polytropic head  75.43230759857258  kJ/kg\n",
            "polytropic efficiency  89.63112223080603  %\n",
            "head  7689.327993799344  meter\n",
            "power  5.186393456601157  MW\n"
          ]
        }
      ]
    },
    {
      "cell_type": "code",
      "source": [
        "pressure_inlet = 40.0\n",
        "temperature_inlet = 20.0\n",
        "flow_rate = 7\n",
        "pressure_outlet = 80.0\n",
        "\n",
        "fluid1 = fluid('srk')\n",
        "fluid1.addComponent('methane', 100.0)\n",
        "fluid1.setMixingRule('classic')\n",
        "\n",
        "inletStream  = stream(fluid1)\n",
        "inletStream.setPressure(pressure_inlet, 'bara')\n",
        "inletStream.setTemperature(temperature_inlet, \"C\")\n",
        "inletStream.setFlowRate(flow_rate, \"MSm3/day\")\n",
        "inletStream.run()\n",
        "\n",
        "compressor1 = compressor(inletStream)\n",
        "compressor1.setUsePolytropicCalc(True)\n",
        "compressor1.setPolytropicEfficiency(0.62)\n",
        "compressor1.setOutletPressure(pressure_outlet, 'bara')\n",
        "\n",
        "compressor1.run()\n",
        "\n",
        "print('Power ', compressor1.getPower('MW'),  'MW')"
      ],
      "metadata": {
        "id": "OdNrZKxEr4Za",
        "outputId": "29d4b2b6-82c2-4070-b60f-6555961f745e",
        "colab": {
          "base_uri": "https://localhost:8080/"
        }
      },
      "execution_count": 24,
      "outputs": [
        {
          "output_type": "stream",
          "name": "stdout",
          "text": [
            "Power  10.050984110676257 MW\n"
          ]
        }
      ]
    },
    {
      "cell_type": "code",
      "source": [
        "def calcpowerdev(inpers, power, rate, outpres):\n",
        "  inletStream.setPressure(inpers, 'bara')\n",
        "  inletStream.setFlowRate(rate, \"MSm3/day\")\n",
        "  inletStream.run()\n",
        "  compressor1.setOutletPressure(outpres, 'bara')\n",
        "  compressor1.run()\n",
        "  return compressor1.getPower('MW') - power\n",
        "\n",
        "\n",
        "data = {'flow': [],  'in_pressure':[], 'out_pressure': [], 'pressure_ratio': [], 'power':[], 'feedflowAm3hr': [], 'polytropicfluidhead_kj_kg': []}\n",
        "\n",
        "max_pressure_ratio = 3.5\n",
        "\n",
        "for rate in [0.5, 2, 4, 6, 8, 10, 12, 14]:\n",
        "  for THP in [10, 20, 40, 60, 80, 100, 120, 140, 180, 200]:\n",
        "    for powerset in [5, 10, 15, 20]:\n",
        "      inletpreure = least_squares(calcpowerdev, THP-5, args=(powerset, rate, THP), bounds=(THP/max_pressure_ratio, THP))\n",
        "      data['flow'].append(rate)\n",
        "      data['out_pressure'].append(THP)\n",
        "      data['power'].append(round(compressor1.getPower('MW'),3))\n",
        "      data['in_pressure'].append(round(inletpreure.x[0],5))\n",
        "      data['pressure_ratio'].append(round(THP/inletpreure.x[0],3))\n",
        "      data['feedflowAm3hr'].append(round(compressor1.getInletStream().getFlowRate('m3/hr'),3))\n",
        "      data['polytropicfluidhead_kj_kg'].append(round(compressor1.getPolytropicFluidHead(),3))\n",
        "\n",
        "from scipy.optimize import least_squares\n",
        "\n",
        "df = pd.DataFrame(data)\n",
        "df.to_csv('data - max pressure ratio 3_5.csv')"
      ],
      "metadata": {
        "id": "3LtG-aJDr-OJ",
        "outputId": "1a5d53a8-fd83-4c81-de44-a8f0f38b94e3",
        "colab": {
          "base_uri": "https://localhost:8080/"
        }
      },
      "execution_count": 25,
      "outputs": [
        {
          "output_type": "stream",
          "name": "stderr",
          "text": [
            "<ipython-input-25-305717230a02>:2: DeprecationWarning: Conversion of an array with ndim > 0 to a scalar is deprecated, and will error in future. Ensure you extract a single element from your array before performing this operation. (Deprecated NumPy 1.25.)\n",
            "  inletStream.setPressure(inpers, 'bara')\n"
          ]
        }
      ]
    },
    {
      "cell_type": "markdown",
      "source": [
        "# Compresssor minimum flow and antisurge line"
      ],
      "metadata": {
        "id": "0F7eshAUL5rz"
      }
    },
    {
      "cell_type": "code",
      "source": [
        "from neqsim.process import stream,  compressor, runProcess,clearProcess,splitter,cooler,valve, mixer,recycle2\n",
        "\n",
        "pressure_inlet = 55.0\n",
        "temperature_inlet = 30.0\n",
        "\n",
        "fluid1 = fluid('srk')\n",
        "fluid1.addComponent(\"nitrogen\", 1.0)\n",
        "fluid1.addComponent(\"CO2\", 2.0)\n",
        "fluid1.addComponent(\"methane\", 79.2)\n",
        "fluid1.addComponent(\"ethane\", 7.3)\n",
        "\n",
        "gas_from_separator  = stream(fluid1)\n",
        "gas_from_separator.setPressure(pressure_inlet, 'bara')\n",
        "gas_from_separator.setTemperature(temperature_inlet, \"C\")\n",
        "gas_from_separator.setFlowRate(7.0, \"MSm3/day\")\n",
        "gas_from_separator.run()\n",
        "\n",
        "recyclegasstream = gas_from_separator.clone()\n",
        "recyclegasstream.setFlowRate(1.0, \"MSm3/day\")\n",
        "recyclegasstream.run()\n",
        "\n",
        "gasmixer = mixer(\"gas mixer\")\n",
        "gasmixer.addStream(gas_from_separator)\n",
        "gasmixer.addStream(recyclegasstream)\n",
        "gasmixer.run()\n",
        "\n",
        "gascompressor = compressor(\"gas compressor\")\n",
        "gascompressor.setInletStream(gasmixer.getOutStream())\n",
        "gascompressor.setOutletPressure(90.0, \"bara\")\n",
        "gascompressor.run()\n",
        "\n",
        "printFrame(gascompressor.getOutStream().getFluid())\n",
        "\n",
        "gascooler = cooler(\"gas cooler\")\n",
        "gascooler.setInletStream(gascompressor.getOutStream())\n",
        "gascooler.setOutTemperature(54.0, 'C')\n",
        "gascooler.setOutPressure(89.0, 'bara')\n",
        "gascooler.run();\n",
        "\n",
        "\n",
        "\n",
        "gassep = separator(\"gas separator\")\n",
        "gassep.setInletStream(gascooler.getOutStream())\n",
        "gassep.run()\n",
        "\n",
        "gassplitter = splitter(\"gas splitter\")\n",
        "gassplitter.setInletStream(gassep.getOutStream())\n",
        "gassplitter.setSplitFlows(-1, 0.5)\n",
        "gassplitter.run()\n",
        "\n",
        "\n",
        "antisurgevalve = valve(\"antisurge valve\")\n",
        "antisurgevalve.setInletStream(gassplitter.getOutStream())\n",
        "antisurgevalve.run()\n",
        "\n",
        "recycl = recycle2(antisurgevalve.getOutStream())\n",
        "recycl.setOutletStream(recyclegasstream)\n",
        "recycl.run()\n",
        "\n",
        "\n",
        "\n",
        "\n",
        "\n",
        "\n",
        "\n",
        "\n"
      ],
      "metadata": {
        "id": "E74T0XqMM2d1",
        "outputId": "e17ee205-0c57-4382-f55f-e9c070e9c70f",
        "colab": {
          "base_uri": "https://localhost:8080/",
          "height": 835
        }
      },
      "execution_count": 26,
      "outputs": [
        {
          "output_type": "stream",
          "name": "stdout",
          "text": [
            "| 0                    | 1          | 2                 | 3   | 4   | 5   | 6               |\n",
            "|:---------------------|:-----------|:------------------|:----|:----|:----|:----------------|\n",
            "|                      | total      | GAS               |     |     |     |                 |\n",
            "| nitrogen             | 1.11732E-2 | 1.11732E-2        |     |     |     | [mole fraction] |\n",
            "| CO2                  | 2.23464E-2 | 2.23464E-2        |     |     |     | [mole fraction] |\n",
            "| methane              | 8.84916E-1 | 8.84916E-1        |     |     |     | [mole fraction] |\n",
            "| ethane               | 8.15642E-2 | 8.15642E-2        |     |     |     | [mole fraction] |\n",
            "|                      |            |                   |     |     |     |                 |\n",
            "| Density              |            | 6.22751E1         |     |     |     | kg/m3           |\n",
            "| Phase Fraction       |            | 1E0               |     |     |     | [mole fraction] |\n",
            "| Molar Mass           | 1.79458E-2 | 1.79458E-2        |     |     |     | kg/mol          |\n",
            "| Z factor             |            | 9.13844E-1        |     |     |     | [-]             |\n",
            "| Heat Capacity (Cp)   |            | 2.67208E0         |     |     |     | kJ/kgK          |\n",
            "| Heat Capacity (Cv)   |            | 1.79425E0         |     |     |     | kJ/kgK          |\n",
            "| Speed of Sound       |            | 4.52056E2         |     |     |     | m/sec           |\n",
            "| Enthalpy             | 6.8784E4   | 6.8784E4          |     |     |     | J/kg            |\n",
            "| Entropy              | -1.57726E3 | -1.57726E3        |     |     |     | J/kgK           |\n",
            "| JT coefficient       |            | 2.87979E-1        |     |     |     | C/bar           |\n",
            "|                      |            |                   |     |     |     |                 |\n",
            "| Viscosity            |            | 1.47538E-5        |     |     |     | kg/msec         |\n",
            "| Thermal Conductivity |            | 4.67705E-2        |     |     |     | W/mK            |\n",
            "| Surface Tension      |            |                   |     |     |     | [N/m]           |\n",
            "|                      |            |                   |     |     |     |                 |\n",
            "|                      |            |                   |     |     |     |                 |\n",
            "|                      |            |                   |     |     |     |                 |\n",
            "| Pressure             |            | 90.0              |     |     |     | bara            |\n",
            "| Temperature          |            | 68.18827048467938 |     |     |     | C               |\n",
            "|                      |            |                   |     |     |     |                 |\n",
            "| Model                |            | SRK-EOS           |     |     |     | -               |\n",
            "| Mixing Rule          |            | no (kij=0)        |     |     |     | -               |\n",
            "|                      |            |                   |     |     |     |                 |\n",
            "| Stream               |            |                   |     |     |     | -               |\n",
            "|                      |            |                   |     |     |     |                 |\n",
            "|                      |            |                   |     |     |     |                 |\n",
            "|                      |            |                   |     |     |     |                 |\n",
            "|                      |            |                   |     |     |     |                 |\n"
          ]
        },
        {
          "output_type": "error",
          "ename": "AttributeError",
          "evalue": "'neqsim.processSimulation.processEquipment.separato' object has no attribute 'getOutStream'",
          "traceback": [
            "\u001b[0;31m---------------------------------------------------------------------------\u001b[0m",
            "\u001b[0;31mAttributeError\u001b[0m                            Traceback (most recent call last)",
            "\u001b[0;32m<ipython-input-26-95fe50500693>\u001b[0m in \u001b[0;36m<cell line: 47>\u001b[0;34m()\u001b[0m\n\u001b[1;32m     45\u001b[0m \u001b[0;34m\u001b[0m\u001b[0m\n\u001b[1;32m     46\u001b[0m \u001b[0mgassplitter\u001b[0m \u001b[0;34m=\u001b[0m \u001b[0msplitter\u001b[0m\u001b[0;34m(\u001b[0m\u001b[0;34m\"gas splitter\"\u001b[0m\u001b[0;34m)\u001b[0m\u001b[0;34m\u001b[0m\u001b[0;34m\u001b[0m\u001b[0m\n\u001b[0;32m---> 47\u001b[0;31m \u001b[0mgassplitter\u001b[0m\u001b[0;34m.\u001b[0m\u001b[0msetInletStream\u001b[0m\u001b[0;34m(\u001b[0m\u001b[0mgassep\u001b[0m\u001b[0;34m.\u001b[0m\u001b[0mgetOutStream\u001b[0m\u001b[0;34m(\u001b[0m\u001b[0;34m)\u001b[0m\u001b[0;34m)\u001b[0m\u001b[0;34m\u001b[0m\u001b[0;34m\u001b[0m\u001b[0m\n\u001b[0m\u001b[1;32m     48\u001b[0m \u001b[0mgassplitter\u001b[0m\u001b[0;34m.\u001b[0m\u001b[0msetSplitFlows\u001b[0m\u001b[0;34m(\u001b[0m\u001b[0;34m-\u001b[0m\u001b[0;36m1\u001b[0m\u001b[0;34m,\u001b[0m \u001b[0;36m0.5\u001b[0m\u001b[0;34m)\u001b[0m\u001b[0;34m\u001b[0m\u001b[0;34m\u001b[0m\u001b[0m\n\u001b[1;32m     49\u001b[0m \u001b[0mgassplitter\u001b[0m\u001b[0;34m.\u001b[0m\u001b[0mrun\u001b[0m\u001b[0;34m(\u001b[0m\u001b[0;34m)\u001b[0m\u001b[0;34m\u001b[0m\u001b[0;34m\u001b[0m\u001b[0m\n",
            "\u001b[0;31mAttributeError\u001b[0m: 'neqsim.processSimulation.processEquipment.separato' object has no attribute 'getOutStream'"
          ]
        }
      ]
    },
    {
      "cell_type": "code",
      "source": [
        "from neqsim.process import stream, splitter, compressor, splitter, cooler, valve, mixer, recycle2, calculator\n",
        "from neqsim import jNeqSim\n",
        "\n",
        "fluid1 = fluid('srk')\n",
        "fluid1.addComponent(\"nitrogen\", 1.0)\n",
        "fluid1.addComponent(\"CO2\", 2.0)\n",
        "fluid1.addComponent(\"methane\", 79.2)\n",
        "fluid1.addComponent(\"ethane\", 7.3)\n",
        "fluid1.setMixingRule(\"classic\")\n",
        "\n",
        "gas_from_separator = stream(fluid1,\"feed stream\")\n",
        "gas_from_separator.setPressure(55.0, \"bara\")\n",
        "gas_from_separator.setTemperature(30.0, \"C\")\n",
        "gas_from_separator.setFlowRate(7.0, \"MSm3/day\")\n",
        "\n",
        "recyclegasstream = stream(gas_from_separator.clone())\n",
        "recyclegasstream.setFlowRate(1.2, \"MSm3/day\")\n",
        "\n",
        "gasmixer = mixer(\"gas mixer\")\n",
        "gasmixer.addStream(gas_from_separator)\n",
        "gasmixer.addStream(recyclegasstream)\n",
        "\n",
        "gascompressor = compressor(\"gas compressor\")\n",
        "gascompressor.setInletStream(gasmixer.getOutletStream())\n",
        "gascompressor.setOutletPressure(90.0, \"bara\")\n",
        "\n",
        "gascooler = cooler(\"gas cooler\");\n",
        "gascooler.setInletStream(gascompressor.getOutletStream())\n",
        "gascooler.setOutTemperature(30.0, \"C\")\n",
        "\n",
        "gassep = separator(\"gas separator\")\n",
        "gassep.setInletStream(gascooler.getOutletStream())\n",
        "\n",
        "gassplitter = splitter(\"gas splitter\")\n",
        "gassplitter.setInletStream(gassep.getGasOutStream())\n",
        "gassplitter.setFlowRates([7.0, 1.2], \"MSm3/day\")\n",
        "\n",
        "antisurgevalve = valve(gassplitter.getSplitStream(1))\n",
        "antisurgevalve.setName(\"anita surge valve\")\n",
        "antisurgevalve.setOutletPressure(55.0, \"bara\")\n",
        "\n",
        "recycl = jNeqSim.processSimulation.processEquipment.util.Recycle(\"rec\")\n",
        "recycl.addStream(antisurgevalve.getOutletStream())\n",
        "recycl.setOutletStream(recyclegasstream)\n",
        "recycl.setFlowAccuracy(1e-15)\n",
        "\n",
        "operations = jNeqSim.processSimulation.processSystem.ProcessSystem();\n",
        "operations.add(gas_from_separator);\n",
        "operations.add(recyclegasstream);\n",
        "operations.add(gasmixer);\n",
        "operations.add(gascompressor);\n",
        "operations.add(gascooler);\n",
        "operations.add(gassep);\n",
        "operations.add(gassplitter);\n",
        "operations.add(antisurgevalve);\n",
        "operations.add(recycl);\n",
        "\n",
        "operations.run();\n",
        "\n",
        "exportflowrate = gassplitter.getSplitStream(0).getFlowRate(\"MSm3/day\")\n",
        "surgeflowrate = gassplitter.getSplitStream(1).getFlowRate(\"MSm3/day\")\n",
        "outpressure = gascompressor.getOutletPressure()\n",
        "flow = gascompressor.getInletStream().getFlowRate(\"m3/hr\")\n",
        "polytropichead = gascompressor.getPolytropicFluidHead()\n",
        "print(exportflowrate, surgeflowrate, outpressure, polytropichead, flow)\n",
        "\n",
        "compchartgenerator = jNeqSim.processSimulation.processEquipment.compressor.CompressorChartGenerator(gascompressor)\n",
        "gascompressor.setCompressorChart(compchartgenerator.generateCompressorChart(\"mid range\"))\n",
        "gascompressor.getCompressorChart().setUseCompressorChart(False)\n",
        "\n",
        "antisurgeCalculator = jNeqSim.processSimulation.processEquipment.util.Calculator(\"anti surge calculator\")\n",
        "antisurgeCalculator.addInputVariable(gascompressor)\n",
        "antisurgeCalculator.setOutputVariable(gassplitter)\n",
        "\n",
        "operations.add(antisurgeCalculator)\n",
        "\n",
        "operations.run()\n",
        "\n",
        "exportflowrate = gassplitter.getSplitStream(0).getFlowRate(\"MSm3/day\")\n",
        "surgeflowrate = gassplitter.getSplitStream(1).getFlowRate(\"MSm3/day\")\n",
        "surgeflow = gascompressor.getCompressorChart().getSurgeCurve().getSurgeFlow(gascompressor.getPolytropicFluidHead())\n",
        "flow = gascompressor.getInletStream().getFlowRate(\"m3/hr\")\n",
        "outpressure = gascompressor.getOutletPressure()\n",
        "polytropichead = gascompressor.getPolytropicFluidHead()\n",
        "print(exportflowrate, surgeflowrate, outpressure, polytropichead, surgeflow, flow)\n",
        "\n",
        "gas_from_separator.setFlowRate(2.0, \"MSm3/day\")\n",
        "operations.run()\n",
        "\n",
        "exportflowrate = gassplitter.getSplitStream(0).getFlowRate(\"MSm3/day\")\n",
        "surgeflowrate = gassplitter.getSplitStream(1).getFlowRate(\"MSm3/day\")\n",
        "surgeflow = gascompressor.getCompressorChart().getSurgeCurve().getSurgeFlow(gascompressor.getPolytropicFluidHead())\n",
        "flow = gascompressor.getInletStream().getFlowRate(\"m3/hr\")\n",
        "outpressure = gascompressor.getOutletPressure()\n",
        "polytropichead = gascompressor.getPolytropicFluidHead()\n",
        "print(exportflowrate, surgeflowrate, outpressure, polytropichead, surgeflow, flow)\n",
        "\n",
        "gas_from_separator.setFlowRate(6.0, \"MSm3/day\")\n",
        "operations.run()\n",
        "\n",
        "exportflowrate = gassplitter.getSplitStream(0).getFlowRate(\"MSm3/day\")\n",
        "surgeflowrate = gassplitter.getSplitStream(1).getFlowRate(\"MSm3/day\")\n",
        "surgeflow = gascompressor.getCompressorChart().getSurgeCurve().getSurgeFlow(gascompressor.getPolytropicFluidHead())\n",
        "flow = gascompressor.getInletStream().getFlowRate(\"m3/hr\")\n",
        "outpressure = gascompressor.getOutletPressure()\n",
        "polytropichead = gascompressor.getPolytropicFluidHead()\n",
        "print(exportflowrate, surgeflowrate, outpressure, polytropichead, surgeflow, flow)"
      ],
      "metadata": {
        "colab": {
          "base_uri": "https://localhost:8080/"
        },
        "id": "IBdKCsO0JGE_",
        "outputId": "ffe4ba2c-8760-4618-c100-c3efc005662b"
      },
      "execution_count": 88,
      "outputs": [
        {
          "output_type": "stream",
          "name": "stdout",
          "text": [
            "7.0000000000000036 1.2 90.0 66.08274705429486 5895.488914185134\n",
            "7.000000000000001 1.000000000814321e-06 90.0 66.77236527113031 4559.988182020886 5087.030528388716\n",
            "2.000001045210187 1.5949095554827606 90.0 64.67281877994928 4543.2676557864315 2527.6122467387636\n",
            "5.737268428675114 0.2627325713248874 90.0 66.77236515920062 4559.988181132691 4360.311977738711\n"
          ]
        }
      ]
    },
    {
      "cell_type": "code",
      "source": [
        "\n",
        "\n",
        "\n",
        "\n",
        "    operations.run();\n",
        "    assertEquals(6.9999999, gassplitter.getSplitStream(0).getFlowRate(\"MSm3/day\"), 1e-4);\n",
        "    assertEquals(1e-6, gassplitter.getSplitStream(1).getFlowRate(\"MSm3/day\"), 1e-4);\n",
        "    assertEquals(4646.77601821, gascompressor.getCompressorChart().getSurgeCurve()\n",
        "        .getSurgeFlow(gascompressor.getPolytropicFluidHead()), 1e-4);\n",
        "    assertEquals(90.0, gascompressor.getOutletPressure(), 1e-4);\n",
        "\n",
        "    gas_from_separator.setFlowRate(2.0, \"MSm3/day\");\n",
        "    operations.run();\n",
        "    assertEquals(1.58988554, gassplitter.getSplitStream(1).getFlowRate(\"MSm3/day\"), 1e-2);\n",
        "    assertEquals(1.99847869184, gassplitter.getSplitStream(0).getFlowRate(\"MSm3/day\"), 1e-4);\n",
        "    assertEquals(4632.1489149, gascompressor.getCompressorChart().getSurgeCurve()\n",
        "        .getSurgeFlow(gascompressor.getPolytropicFluidHead()), 1e-4);\n",
        "    assertEquals(90.0, gascompressor.getOutletPressure(), 1e-4);\n",
        "\n",
        "    gas_from_separator.setFlowRate(8.0, \"MSm3/day\");\n",
        "    operations.run();\n",
        "    assertEquals(1.0000000000014376E-6, gassplitter.getSplitStream(1).getFlowRate(\"MSm3/day\"),\n",
        "        1e-4);\n",
        "    assertEquals(8.000000000000004, gassplitter.getSplitStream(0).getFlowRate(\"MSm3/day\"), 1e-4);\n",
        "    assertEquals(4646.77601880, gascompressor.getCompressorChart().getSurgeCurve()\n",
        "        .getSurgeFlow(gascompressor.getPolytropicFluidHead()), 1e-4);\n",
        "    assertEquals(90.0, gascompressor.getOutletPressure(), 1e-4);\n",
        "\n",
        "    double[] flows = new double[] {7044, 7560, 7760};\n",
        "    double[] head = new double[] {74, 80, 90};\n",
        "    SurgeCurve surg = new SurgeCurve(flows, head);\n",
        "    gascompressor.getCompressorChart().setSurgeCurve(surg);\n",
        "    operations.run();\n",
        "    assertEquals(6753.1900, gascompressor.getCompressorChart().getSurgeCurve()\n",
        "        .getSurgeFlow(gascompressor.getPolytropicFluidHead()), 1e-2);\n",
        "    assertEquals(5998.55269, gascompressor.getInletStream().getFlowRate(\"m3/hr\"), 1e-4);\n",
        "    assertEquals(0.9071841061, gassplitter.getSplitStream(1).getFlowRate(\"MSm3/day\"), 1e-4);"
      ],
      "metadata": {
        "id": "A_57bGXuJB8i"
      },
      "execution_count": null,
      "outputs": []
    },
    {
      "cell_type": "code",
      "source": [
        "\n",
        "\n",
        "\n",
        "compressor1 = compressor(inletStream)\n",
        "compressorChart(compressor1, curveConditions, speed, flow, head, polyEff)\n",
        "compressor1.setUsePolytropicCalc(True)\n",
        "compressor1.getAntiSurge().setSurgeControlFactor(1.05)\n",
        "compressor1.setSpeed(4000)\n",
        "compressor1.run()\n",
        "\n",
        "compressorcooler = cooler(compressor1.getOutStream())\n",
        "compressorcooler.setName(\"1st stage cooler\")\n",
        "compressorcooler.setOutTemperature(30.0, 'C')\n",
        "\n",
        "scrub = separator('gas scrubb')\n",
        "\n",
        "gassplit = splitter('gas spliktter')\n",
        "gassplit.setInletStream(scrub.getOutStream())\n",
        "gassplit.setSplitFlows(-1, 0.5)\n",
        "\n",
        "valvejt = valve(gassplit.getOutStream())\n",
        "\n",
        "\n",
        "\n",
        "\n",
        "print('flow rate ', compressor1.getInletStream().getFlowRate('m3/hr'), ' m3/hr')\n",
        "print('inlet pressure ', compressor1.getInletStream().getPressure('bara'), ' bara')\n",
        "print('outlet pressure ', compressor1.getOutletStream().getPressure('bara'), ' bara')\n",
        "print('pressure ratio ', compressor1.getOutletStream().getPressure('bara')/compressor1.getInletStream().getPressure('bara'), ' -')\n",
        "print('polytropic head ', compressor1.getPolytropicFluidHead(), ' kJ/kg')\n",
        "print('polytropic efficiency ', compressor1.getPolytropicEfficiency()*100, ' %')\n",
        "print('head ', compressor1.getPolytropicHead(), ' meter')"
      ],
      "metadata": {
        "id": "ryzogze9AS6O"
      },
      "execution_count": null,
      "outputs": []
    }
  ],
  "metadata": {
    "colab": {
      "name": "GasCompressorTrain.ipynb",
      "provenance": [],
      "include_colab_link": true
    },
    "interpreter": {
      "hash": "a5df7bd4ca0d6bb9986d9d69faf4f6c25893f82bf7982e9868ee8495bd8c927f"
    },
    "kernelspec": {
      "display_name": "Python 3.7.9 64-bit ('base': conda)",
      "language": "python",
      "name": "python3"
    },
    "language_info": {
      "codemirror_mode": {
        "name": "ipython",
        "version": 3
      },
      "file_extension": ".py",
      "mimetype": "text/x-python",
      "name": "python",
      "nbconvert_exporter": "python",
      "pygments_lexer": "ipython3",
      "version": "3.7.9"
    }
  },
  "nbformat": 4,
  "nbformat_minor": 0
}