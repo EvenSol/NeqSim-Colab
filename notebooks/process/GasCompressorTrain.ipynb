{
  "nbformat": 4,
  "nbformat_minor": 0,
  "metadata": {
    "colab": {
      "name": "GasCompressorTrain.ipynb",
      "provenance": [],
      "collapsed_sections": [],
      "include_colab_link": true
    },
    "kernelspec": {
      "name": "python379jvsc74a57bd0a5df7bd4ca0d6bb9986d9d69faf4f6c25893f82bf7982e9868ee8495bd8c927f",
      "display_name": "Python 3.7.9 64-bit ('base': conda)"
    }
  },
  "cells": [
    {
      "cell_type": "markdown",
      "metadata": {
        "id": "view-in-github",
        "colab_type": "text"
      },
      "source": [
        "<a href=\"https://colab.research.google.com/github/EvenSol/NeqSim-Colab/blob/master/notebooks/process/GasCompressorTrain.ipynb\" target=\"_parent\"><img src=\"https://colab.research.google.com/assets/colab-badge.svg\" alt=\"Open In Colab\"/></a>"
      ]
    },
    {
      "cell_type": "code",
      "metadata": {
        "id": "c7oLiYgcEV2Y",
        "cellView": "form"
      },
      "source": [
        "#@title Simulation of a Gas Compression Train\n",
        "#@markdown A compressor is a mechanical device that increases the pressure of a gas by reducing its volume.\n",
        "#@markdown Compressors are similar to pumps: both increase the pressure on a fluid and both can transport the fluid through a pipe. As gases are compressible, the compressor also reduces the volume of a gas. Liquids are relatively incompressible; while some can be compressed, the main action of a pump is to pressurize and transport liquids.\n",
        "#%%capture\n",
        "!pip install neqsim\n",
        "import neqsim\n",
        "from neqsim.thermo.thermoTools import *\n",
        "import matplotlib\n",
        "import numpy as np\n",
        "import matplotlib.pyplot as plt\n",
        "import math\n",
        "%matplotlib inline"
      ],
      "execution_count": 1,
      "outputs": [
        {
          "output_type": "stream",
          "name": "stdout",
          "text": [
            "Requirement already satisfied: neqsim in c:\\appl\\anaconda3\\lib\\site-packages (2.3.0)\nRequirement already satisfied: numpy in c:\\appl\\anaconda3\\lib\\site-packages (from neqsim) (1.19.4)\nRequirement already satisfied: jpype1 in c:\\appl\\anaconda3\\lib\\site-packages (from neqsim) (1.2.1)\nRequirement already satisfied: pandas in c:\\appl\\anaconda3\\lib\\site-packages (from neqsim) (1.2.0)\nRequirement already satisfied: matplotlib in c:\\appl\\anaconda3\\lib\\site-packages (from neqsim) (3.3.2)\nRequirement already satisfied: typing-extensions in c:\\appl\\anaconda3\\lib\\site-packages (from jpype1->neqsim) (3.7.4.3)\nRequirement already satisfied: pyparsing!=2.0.4,!=2.1.2,!=2.1.6,>=2.0.3 in c:\\appl\\anaconda3\\lib\\site-packages (from matplotlib->neqsim) (2.4.7)\nRequirement already satisfied: certifi>=2020.06.20 in c:\\appl\\anaconda3\\lib\\site-packages (from matplotlib->neqsim) (2020.12.5)\nRequirement already satisfied: python-dateutil>=2.1 in c:\\users\\esol\\appdata\\roaming\\python\\python37\\site-packages (from matplotlib->neqsim) (2.8.1)\nRequirement already satisfied: cycler>=0.10 in c:\\appl\\anaconda3\\lib\\site-packages (from matplotlib->neqsim) (0.10.0)\nRequirement already satisfied: kiwisolver>=1.0.1 in c:\\appl\\anaconda3\\lib\\site-packages (from matplotlib->neqsim) (1.3.0)\nRequirement already satisfied: pillow>=6.2.0 in c:\\appl\\anaconda3\\lib\\site-packages (from matplotlib->neqsim) (8.0.1)\nRequirement already satisfied: six in c:\\users\\esol\\appdata\\roaming\\python\\python37\\site-packages (from cycler>=0.10->matplotlib->neqsim) (1.15.0)\nRequirement already satisfied: pytz>=2017.3 in c:\\appl\\anaconda3\\lib\\site-packages (from pandas->neqsim) (2020.5)\n"
          ]
        }
      ]
    },
    {
      "cell_type": "markdown",
      "metadata": {
        "id": "OgnpZwDDB4X7"
      },
      "source": [
        "# Litterature\n",
        "\n",
        "https://petrowiki.org/Compressors"
      ]
    },
    {
      "cell_type": "code",
      "metadata": {
        "id": "9Kkz5ZeLEyRv",
        "cellView": "form",
        "colab": {
          "base_uri": "https://localhost:8080/",
          "height": 421
        },
        "outputId": "eae40730-33da-43f7-c539-339b42e5bcea"
      },
      "source": [
        "#@title  Åsgard Subsea Gas Compression\n",
        "#@markdown The installation of the modules that collectively constitute Åsgard subsea gas compression has commenced in the Åsgard field.​\n",
        "#@markdown Innovative technology at a depth of 300 metres will create more than 300 million extra barrels BOE from the Åsgard field.\n",
        "from IPython.display import YouTubeVideo\n",
        "YouTubeVideo('Ew1h9aU4odo', width=600, height=400)"
      ],
      "execution_count": 2,
      "outputs": [
        {
          "output_type": "execute_result",
          "data": {
            "text/plain": [
              "<IPython.lib.display.YouTubeVideo at 0x25b4cb65c08>"
            ],
            "text/html": "\n        <iframe\n            width=\"600\"\n            height=\"400\"\n            src=\"https://www.youtube.com/embed/Ew1h9aU4odo\"\n            frameborder=\"0\"\n            allowfullscreen\n        ></iframe>\n        "
          },
          "metadata": {},
          "execution_count": 2
        }
      ]
    },
    {
      "cell_type": "markdown",
      "metadata": {
        "id": "jpDLDLgdecvP"
      },
      "source": [
        "# Natural Gas Compressors\n",
        " Produced gas pressure at the wellhead normally is not sufficient to allow export for sales and further treatment. Therefore, an export gas compression system is required, with a centrifugal compressor being the most suitable for variable sales gas demand and near-constant export pressure.\n",
        "\n",
        "Normally, the export gas centrifugal compressor works well under constant inlet pressure. Compressor operation is challenged when the gas well reservoir pressure is reduced (due to reservoir depletion), and when the full well steam (FWS) water cut increases and the gas fraction in the FWS decreases. Consequently, inlet pressure to the compressor is reduced.\n",
        "\n",
        "The compressor operation becomes unstable due to reduced inlet pressure and reduced flow. To meet the required export gas pressure, the speed of the compressor must be increased. However, the temperature of the compressor discharge also increases at reduced flow and higher speed; therefore, the recycle is also required to maintain the compressor discharge temperature within a defined limit."
      ]
    },
    {
      "cell_type": "code",
      "metadata": {
        "id": "EeJ3zgxwP9mv",
        "colab": {
          "base_uri": "https://localhost:8080/"
        },
        "outputId": "517632fe-bf92-4212-f819-fc072172ef01"
      },
      "source": [
        "#@title  Calculation of a gas compression train\n",
        "#@markdown This script demonstrates the calculations of a simple gas compression train\n",
        "\n",
        "from neqsim.thermo import fluid, phaseenvelope\n",
        "from neqsim.process import separator, heater, clearProcess, stream,  compressor, runProcess, viewProcess\n",
        "\n",
        "gasFlowRate = 5.0#@param {type:\"number\"} # MSm3/day\n",
        "\n",
        "temperature_inlet = 35.0 #@param {type:\"number\"}\n",
        "pressure_inlet = 55.0 #@param {type:\"number\"}\n",
        "\n",
        "pressureMP = 100.0 #@param {type:\"number\"}\n",
        "temperatureMP = 35.0 #@param {type:\"number\"}\n",
        "\n",
        "pressureExport = 150.0 #@param {type:\"number\"}\n",
        "temperatureExport = 35.0 #@param {type:\"number\"}\n",
        "\n",
        "fluid1 = fluid('srk')\n",
        "fluid1.addComponent(\"nitrogen\", 1.0)\n",
        "fluid1.addComponent(\"CO2\", 2.0)\n",
        "fluid1.addComponent(\"methane\", 79.2)\n",
        "fluid1.addComponent(\"ethane\", 7.3)\n",
        "fluid1.addComponent(\"propane\", 2.3)\n",
        "fluid1.addComponent(\"i-butane\", 1.0)\n",
        "fluid1.addComponent(\"n-butane\", 0.7)\n",
        "fluid1.addComponent(\"i-pentane\", 0.04)\n",
        "fluid1.addComponent(\"n-pentane\", 0.02)\n",
        "fluid1.addComponent(\"n-hexane\", 0.003)\n",
        "\n",
        "fluid1.setPressure(pressure_inlet, 'bara')\n",
        "fluid1.setTemperature(temperature_inlet, 'C')\n",
        "fluid1.setTotalFlowRate(gasFlowRate, \"MSm3/day\")\n",
        "\n",
        "clearProcess()\n",
        "stream1 = stream(fluid1)\n",
        "compressor_1 = compressor(stream1, pressureMP)\n",
        "compressor_1.setIsentropicEfficiency(0.77)\n",
        "coolerMP1 = heater(compressor_1.getOutStream())\n",
        "coolerMP1.setOutTemperature(temperatureMP+273.15)\n",
        "compressor_2 = compressor(coolerMP1.getOutStream(), pressureExport)\n",
        "compressor_2.setIsentropicEfficiency(0.77)\n",
        "coolerExport = heater(compressor_2.getOutStream())\n",
        "coolerExport.setOutTemperature(temperatureExport+273.15)\n",
        "runProcess()\n",
        "\n",
        "print(\"compressor1 power \", compressor_1.getPower()/1e6, \" MW\")\n",
        "print(\"compressor2 power \", compressor_2.getPower()/1e6, \" MW\")\n",
        "\n",
        "print(\"cooler1 duty \", coolerMP1.getDuty()/1e6, \" MW\")\n",
        "print(\"cooler2 duty \", coolerExport.getDuty()/1e6, \" MW\")"
      ],
      "execution_count": 3,
      "outputs": [
        {
          "output_type": "stream",
          "name": "stdout",
          "text": [
            "compressor1 power  4.669057449552735  MW\ncompressor2 power  2.905806060201757  MW\ncooler1 duty  -7.114743580802541  MW\ncooler2 duty  -5.1922618404200716  MW\n"
          ]
        }
      ]
    },
    {
      "cell_type": "markdown",
      "metadata": {
        "id": "ZM3R66bFjF_B"
      },
      "source": [
        "# Fuel gas consumption\n",
        "This section demonstrates hot to estimate the fule gas consumption."
      ]
    },
    {
      "cell_type": "code",
      "metadata": {
        "id": "6tSeD8MAjVrJ",
        "colab": {
          "base_uri": "https://localhost:8080/"
        },
        "outputId": "8980ff45-91b4-4661-bfad-fa35ccef4b84"
      },
      "source": [
        "from neqsim.thermo import fluid, TPflash\n",
        "from neqsim.standards import ISO6976\n",
        "\n",
        "referenceTemperatureVolume = 15.0 #@param ['0.0', '15.0', '20.0']\n",
        "referenceTemperatureCombustion = 25.0 #@param ['0.0', '15.0', '20.0', '25.0']\n",
        "numberUnit = 'volume' #@param ['volume', 'mass', 'molar']\n",
        "\n",
        "iso6976 = ISO6976(fluid1)\n",
        "iso6976.setReferenceType(numberUnit)\n",
        "iso6976.setVolRefT(float(referenceTemperatureVolume))\n",
        "iso6976.setEnergyRefT(float(referenceTemperatureCombustion))\n",
        "iso6976.calculate()\n",
        "\n",
        "\n",
        "GCV = round(iso6976.getValue(\"SuperiorCalorificValue\")/1.0e3,3)\n",
        "WI = round(iso6976.getValue(\"SuperiorWobbeIndex\")/1.0e3,3)\n",
        "WIkwh = round(iso6976.getValue(\"SuperiorWobbeIndex\")/1.0e3/3.6,3)\n",
        "relDens = round(iso6976.getValue(\"RelativeDensity\"),3)\n",
        "\n",
        "print('GCV '+ str(GCV) + ' MJ/' +numberUnit)\n",
        "print('WI '+ str(WI), ' MJ/' +numberUnit)\n",
        "print('WI '+ str(WIkwh), ' kWh/' +numberUnit)\n",
        "print('Relative density '+ str(relDens), ' [-]')\n",
        "\n",
        "turbineEfficiency = 0.3 #@param\n",
        "\n",
        "fuelGasConsumption = -coolerExport.getDuty()/1e6/turbineEfficiency/GCV*3600.0\n",
        "\n",
        "print('Fuel gas consumption ', fuelGasConsumption, ' [Sm^3/hr]')\n",
        "print('Fuel gas consumption ' ,(fuelGasConsumption*24.0/1.0e6/gasFlowRate*100.0),  ' % of gas production')"
      ],
      "execution_count": 4,
      "outputs": [
        {
          "output_type": "stream",
          "name": "stdout",
          "text": [
            "GCV 41.705 MJ/volume\nWI 50.997  MJ/volume\nWI 14.166  kWh/volume\nRelative density 0.669  [-]\nFuel gas consumption  1493.996932862747  [Sm^3/hr]\nFuel gas consumption  0.7171185277741186  % of gas production\n"
          ]
        }
      ]
    },
    {
      "cell_type": "markdown",
      "metadata": {
        "id": "7AjLm2vqA_V2"
      },
      "source": [
        "# Compressor efficiency\n",
        "\n",
        "\n",
        "## Compression theory\n",
        "\n",
        "Specific topics relating to compression theory include:\n",
        "\n",
        "* Power requirement\n",
        "* Isentropic exponent\n",
        "* Compressibility factor\n",
        "* Intercooling\n",
        "* Adiabatic and polytropic efficiency\n",
        "* Actual and standard volume flow rates\n",
        "* Mass flow rates\n",
        "* Inlet and discharge pressures\n",
        "* Inlet and discharge temperatures\n",
        "* Adiabatic and polytropic head\n",
        "\n",
        "\n",
        "## Isentropic (adiabatic) compression\n",
        "\n",
        "An adiabatic process is one in which no heat is added or removed from the system. Adiabatic compression is expressed by\n",
        "\n",
        "$P_1 \\times {V_1}^k=P_2 \\times {V_2}^k$\n",
        "\n",
        "where k = C<sub>p</sub>/C<sub>v</sub> = ratio of specific heats, dimensionless.\n",
        "\n",
        "Although compressors are designed to remove as much heat as possible, some heat gain is inevitable. Nevertheless, the adiabatic compression cycle is rather closely approached by most positive displacement compressors and is generally the base to which they are referred.\n",
        "\n",
        "## Polytropic compression\n",
        "\n",
        "A polytropic process is one in which changes in gas characteristics during compression are considered. Dynamic compressors generally follow the polytropic cycle as defined by the formula\n",
        "\n",
        "$P_1 \\times {V_1}^n=P_2 \\times {V_2}^n$\n",
        "\n",
        "where n = polytropic exponent.\n",
        "\n",
        "The polytropic exponent n is experimentally determined for a given type of machine and may be lower or higher than the adiabatic exponent ''k''. Because the value of ''n'' changes during the compression process, an average value is used.\n",
        "\n",
        "\n"
      ]
    },
    {
      "cell_type": "code",
      "metadata": {
        "id": "HTzUIfohA-dA",
        "colab": {
          "base_uri": "https://localhost:8080/"
        },
        "outputId": "3935da5c-ff2a-4c54-dfe1-45bd14d82eae"
      },
      "source": [
        "temperature_inlet = 35.0 #@param {type:\"number\"}\n",
        "pressure_inlet = 85.0 #@param {type:\"number\"}\n",
        "\n",
        "pressure_Out = 150.0 #@param {type:\"number\"}\n",
        "\n",
        "gasFlowRate = 5.0#@param {type:\"number\"} # MSm3/day\n",
        "\n",
        "adibaticEfficiency = 77.0 #@param {type:\"number\"} # compressor efficiency%\n",
        "polytropicEfficiency = 77.0 #@param {type:\"number\"} # compressor efficiency%\n",
        "\n",
        "fluid1 = fluid('srk')\n",
        "fluid1.addComponent('methane', 1.0)\n",
        "fluid1.setTotalFlowRate(gasFlowRate, \"MSm3/day\")\n",
        "fluid1.setPressure(pressure_inlet, 'bara')\n",
        "fluid1.setTemperature(temperature_inlet, 'C')\n",
        "\n",
        "clearProcess()\n",
        "stream1 = stream(fluid1)\n",
        "compressor_1 = compressor(stream1, pressure_Out)\n",
        "compressor_1.setOutletPressure(150.0)\n",
        "compressor_1.setIsentropicEfficiency(adibaticEfficiency/100.0)\n",
        "runProcess()\n",
        "\n",
        "print(\"Compression ratio: \", (pressure_Out/pressure_inlet))\n",
        "print()\n",
        "print(\"Calculations using Adibatic efficiency: \", (adibaticEfficiency), '%')\n",
        "print(\"compressor1 power \", compressor_1.getTotalWork()/1e6, \" MW\")\n",
        "print(\"temperature out \", (compressor_1.getThermoSystem().getTemperature()-273.15))\n",
        "\n",
        "compressor_1.setPolytropicEfficiency(polytropicEfficiency/100.0)\n",
        "compressor_1.setUsePolytropicCalc(True)\n",
        "runProcess()\n",
        "print()\n",
        "print(\"Calculations using polytropic efficiency: \", (polytropicEfficiency), '%')\n",
        "print(\"compressor1 power \", compressor_1.getTotalWork()/1e6, \" MW\")\n",
        "print(\"temperature out \", (compressor_1.getThermoSystem().getTemperature()-273.15))"
      ],
      "execution_count": 5,
      "outputs": [
        {
          "output_type": "stream",
          "name": "stdout",
          "text": [
            "Compression ratio:  1.7647058823529411\n",
            "\n",
            "Calculations using Adibatic efficiency:  77.0 %\n",
            "compressor1 power  4.5621157449685  MW\n",
            "temperature out  89.75823679727034\n",
            "\n",
            "Calculations using polytropic efficiency:  77.0 %\n",
            "compressor1 power  4.655081035416562  MW\n",
            "temperature out  90.54668320808861\n"
          ]
        }
      ]
    },
    {
      "cell_type": "markdown",
      "metadata": {
        "id": "TY9VejqINT5F"
      },
      "source": [
        "# Hand calculation of power consumption\n",
        "\n",
        "In this section a short cut method for calculation of compressor power is tested. The method description of the short cut method is found in the following link:\n",
        "\n",
        "http://www.jmcampbell.com/tip-of-the-month/2011/11/compressor-calculations-rigorous-using-equation-of-state-vs-shortcut-method/\n"
      ]
    },
    {
      "cell_type": "code",
      "metadata": {
        "id": "5n7Nl3kWM3To",
        "colab": {
          "base_uri": "https://localhost:8080/"
        },
        "outputId": "826236e2-c39b-4eb4-b9f8-8735e8270347"
      },
      "source": [
        "temperature_inlet = 35.0 #@param {type:\"number\"}\n",
        "pressure_inlet = 85.0 #@param {type:\"number\"}\n",
        "\n",
        "pressure_Out = 150.0 #@param {type:\"number\"}\n",
        "temperature_out = 100.0 \n",
        "\n",
        "gasFlowRate = 5.0#@param {type:\"number\"} # MSm3/day\n",
        "\n",
        "polytropicEfficiency = 77.0 #@param {type:\"number\"} # compressor efficiency%\n",
        "\n",
        "fluid1 = fluid('srk')\n",
        "fluid1.addComponent('methane', 1.0)\n",
        "fluid1.setTotalFlowRate(gasFlowRate, \"MSm3/day\")\n",
        "fluid1.setPressure(pressure_inlet, 'bara')\n",
        "fluid1.setTemperature(temperature_inlet, 'C')\n",
        "\n",
        "TPflash(fluid1)\n",
        "fluid1.initProperties()\n",
        "\n",
        "kappa = fluid1.getGamma2()  # using \"ideal gamma\" gamma = Cp/(Cp-R)\n",
        "print(\"kappa \", kappa)\n",
        "MW = fluid1.getMolarMass()\n",
        "z_inlet = fluid1.getZ()\n",
        "\n",
        "n = 1.0/ (1.0 - (kappa-1.0)/kappa*1.0/(polytropicEfficiency/100.0))\n",
        "print(\"polytropic exponent \", n)\n",
        "power = n/(n-1.0)*(temperature_inlet+273.15)*z_inlet/(polytropicEfficiency/100.0)*(gasFlowRate*1.0e6/24.0/3600.0)*(101325.0/288.15)*(math.pow(pressure_Out/pressure_inlet, (n-1.0)/n)-1.0)\n",
        "estOutTemp = (temperature_inlet+273.15)*math.pow(pressure_Out/pressure_inlet, (n-1.0)/n)\n",
        "print(\"power based in simple method \", power/1e6, \"MW\")\n",
        "print(\"temperature out based on simple method (Z inlet) \", (estOutTemp-273.15), \" C\")\n",
        "\n",
        "fluid1.setPressure(pressure_Out, 'bara')\n",
        "fluid1.setTemperature(temperature_out, 'C')\n",
        "TPflash(fluid1)\n",
        "z_outlet = fluid1.getZ()\n",
        "\n",
        "Z_average = (z_inlet+z_outlet)/2.0\n",
        "print(\"Z inlet \" ,z_inlet, \" Z average \", Z_average)\n",
        "\n",
        "power = n/(n-1.0)*(temperature_inlet+273.15)*Z_average/(polytropicEfficiency/100.0)*(gasFlowRate*1.0e6/24.0/3600.0)*(101325.0/288.15)*(math.pow(pressure_Out/pressure_inlet, (n-1.0)/n)-1.0)\n",
        "print(\"power based in simple method (average Z) \", power/1e6, \"MW\")\n"
      ],
      "execution_count": 6,
      "outputs": [
        {
          "output_type": "stream",
          "name": "stdout",
          "text": [
            "kappa  1.2220944713167272\n",
            "polytropic exponent  1.3089286781143021\n",
            "power based in simple method  4.441555181587676 MW\n",
            "temperature out based on simple method (Z inlet)  79.20537140143148  C\n",
            "Z inlet  0.8973022076776481  Z average  0.9313874270433666\n",
            "power based in simple method (average Z)  4.610273570324491 MW\n"
          ]
        }
      ]
    },
    {
      "cell_type": "markdown",
      "metadata": {
        "id": "HhNiixWWiF-v"
      },
      "source": [
        "# Using regorous method based on EoS\n",
        "In the follwong example we use the case from the previous example using the regorous comprooser calculation method in NeqSim (rigorous). In the regorous method the compressor is calculated using a number of adabatic pressure stages.\n",
        "\n",
        "The method is as follows:\n",
        "\n",
        "1. Define number of pressure stages\n",
        "2. Perform an adibatic flash for each stage\n",
        "3. Calculate the outlet enthalpy based on polytroipic efficiency (hout = hin+(hadi-hin)/polytropic efficiency. Run a PHflash (return temperature of pressure stage)"
      ]
    },
    {
      "cell_type": "code",
      "metadata": {
        "colab": {
          "base_uri": "https://localhost:8080/"
        },
        "id": "uwXs_POtiXlc",
        "outputId": "e12790f8-399e-4e12-8541-3c19c7a25216"
      },
      "source": [
        "from neqsim.process import stream,  compressor, runProcess,clearProcess\n",
        "\n",
        "fluid1 = fluid('srk')\n",
        "fluid1.addComponent('methane', 1.0)\n",
        "fluid1.setPressure(pressure_inlet, 'bara')\n",
        "fluid1.setTemperature(temperature_inlet, \"C\")\n",
        "fluid1.setTotalFlowRate(gasFlowRate, \"MSm3/day\")\n",
        "\n",
        "clearProcess()\n",
        "inletStream  = stream(fluid1) \n",
        "compressor1 = compressor(inletStream)\n",
        "compressor1.setOutletPressure(pressure_Out)\n",
        "compressor1.setPolytropicEfficiency(polytropicEfficiency/100.0)\n",
        "compressor1.setUsePolytropicCalc(True)\n",
        "compressor1.setPolytropicMethod('detailed')\n",
        "runProcess()\n",
        "\n",
        "print('Compressor power ', compressor1.getPower()/1e6, ' MW')\n",
        "print('Temperature out ', compressor1.getOutStream().getTemperature('C'), ' C')"
      ],
      "execution_count": 15,
      "outputs": [
        {
          "output_type": "stream",
          "name": "stdout",
          "text": [
            "Compressor power  4.655081035416562  MW\nTemperature out  90.54668320808861  C\n"
          ]
        }
      ]
    },
    {
      "cell_type": "markdown",
      "metadata": {
        "id": "0ZVHHmpT1Tbd"
      },
      "source": [
        "# Method based on EoS\n",
        "The following calculatin method uses a simplified method often used in process simulators.\n",
        "\n",
        "Power is calculated based on the equation:\n",
        " \n",
        "$ W = m\\times\\frac{n}{n-1}\\times CF \\times \\frac{P_{1}}{\\rho_{1}} \\times(\\frac{P_2}{P_1}^\\frac{n-1}{n}-1)$\n",
        "\n",
        "\n"
      ]
    },
    {
      "cell_type": "code",
      "metadata": {
        "colab": {
          "base_uri": "https://localhost:8080/"
        },
        "id": "yOz3OH-41aX2",
        "outputId": "a94f37c1-53e2-4db9-be7c-3747ff337452"
      },
      "source": [
        "from neqsim.thermo import PSflash\n",
        "fluid1 = fluid('srk')\n",
        "fluid1.addComponent('methane', 1.0)\n",
        "fluid1.setPressure(pressure_inlet, 'bara')\n",
        "fluid1.setTemperature(temperature_inlet, \"C\")\n",
        "fluid1.setTotalFlowRate(gasFlowRate, \"MSm3/day\")\n",
        "\n",
        "#Calculate inlet properties\n",
        "TPflash(fluid1)\n",
        "fluid1.initProperties()\n",
        "densIn = float(fluid1.getDensity(\"kg/m3\"))\n",
        "enthIn = fluid1.getEnthalpy()\n",
        "entrIn = fluid1.getEntropy()\n",
        "MW = fluid1.getMolarMass()\n",
        "\n",
        "#Calculate adibatic/isentripic properties\n",
        "fluid1.setPressure(pressure_Out, 'bara')\n",
        "PSflash(fluid1, entrIn)\n",
        "fluid1.initProperties()\n",
        "densOutIsentropic = float(fluid1.getDensity(\"kg/m3\"))\n",
        "enthalpyOutIsentropic = fluid1.getEnthalpy()\n",
        "isenthalpicvolumeexponent = math.log(pressure_Out / pressure_inlet) / math.log(densOutIsentropic / densIn)\n",
        "term = isenthalpicvolumeexponent/(isenthalpicvolumeexponent-1.0)*(polytropicEfficiency/100.0)\n",
        "term2 = 1e5*(pressure_Out/densOutIsentropic-pressure_inlet/densIn)\n",
        "CF = (enthalpyOutIsentropic-enthIn)/(term*term2)\n",
        "\n",
        "#Calculate power\n",
        "power = term*CF*1e5*pressure_inlet/densIn*(math.pow(pressure_Out / pressure_inlet, 1.0/term)-1.0)/1e6\n",
        "\n",
        "print('power ',power, ' MW')"
      ],
      "execution_count": 8,
      "outputs": [
        {
          "output_type": "stream",
          "name": "stdout",
          "text": [
            "power  4.697672891758695  MW\n"
          ]
        }
      ]
    },
    {
      "cell_type": "markdown",
      "metadata": {
        "id": "LT-y18615ufh"
      },
      "source": [
        "## Case Study using SRK EoS##\n",
        "\n",
        "http://www.jmcampbell.com/tip-of-the-month/2011/11/compressor-calculations-rigorous-using-equation-of-state-vs-shortcut-method/\n",
        "\n",
        "The gas mixture with the composition shown in Table1 at 105 °F (40.6 °C) and 115 Psia (793 kPa) is compressed using a single-stage centrifugal compressor with the polytropic head and efficiency curves shown in Figures 1 and 2 at a speed of 7992 rpm. The total feed gas volumetric flow rate was 101 MMSCFD (2.86×106 Sm3/d)."
      ]
    },
    {
      "cell_type": "code",
      "metadata": {
        "id": "aqXcwP7UcyVE",
        "colab": {
          "base_uri": "https://localhost:8080/"
        },
        "outputId": "dd1052cb-5f11-4ba2-9111-5c282294e616"
      },
      "source": [
        "temperature_inlet = 40.6 #@param {type:\"number\"} # temperature in C\n",
        "pressure_inlet = 7.93 #@param {type:\"number\"} # pressure in bar\n",
        "\n",
        "gasFlowRate = 2.86#@param {type:\"number\"} # MSm3/day\n",
        "\n",
        "polytropicEfficiency = 77.0 #@param {type:\"number\"} # compressor efficiency%\n",
        "\n",
        "fluid1 = fluid('srk')\n",
        "fluid1.addComponent('methane', 83.099)\n",
        "fluid1.addComponent('ethane', 6.925)\n",
        "fluid1.addComponent('propane', 4.946)\n",
        "fluid1.addComponent('i-butane', 1.484)\n",
        "fluid1.addComponent('n-butane', 0.989)\n",
        "fluid1.addComponent('i-pentane', 0.495)\n",
        "fluid1.addComponent('n-pentane', 0.495)\n",
        "fluid1.addComponent('n-hexane', 0.198)\n",
        "fluid1.addComponent('n-heptane', 0.148)\n",
        "fluid1.addComponent('n-octane', 0.099)\n",
        "fluid1.addComponent('water', 0.983)\n",
        "fluid1.setTotalFlowRate(gasFlowRate, \"MSm3/day\")\n",
        "fluid1.setPressure(pressure_inlet, 'bara')\n",
        "fluid1.setTemperature(temperature_inlet, 'C')\n",
        "fluid1.setMixingRule(2)\n",
        "fluid1.setMultiPhaseCheck(True)\n",
        "TPflash(fluid1)\n",
        "fluid1.initProperties()\n",
        "actFlowRate = fluid1.getFlowRate(\"m3/hr\")\n",
        "gasdensty = fluid1.getDensity(\"kg/m3\")\n",
        "kappa = fluid1.getGamma2() # using \"ideal gamma\" gamma = Cp/(Cp-R)\n",
        "MW = fluid1.getMolarMass()\n",
        "enthalpy_inlet = fluid1.getEnthalpy('J/kg')\n",
        "entropy_inlet = fluid1.getEntropy()\n",
        "z_inlet = fluid1.getZ()\n",
        "vol_inlet = fluid1.getVolume()\n",
        "print(\"kappa \", kappa)\n",
        "print(\"actual flow rate \", actFlowRate, \" m3/hr\")\n",
        "\n",
        "compressorspeed = 7992 # RPM\n",
        "\n",
        "def polytropEfficiency(flow, speed):\n",
        "        return 78.57\n",
        "\n",
        "def polytropHead(flow, speed):\n",
        "        return 15535.0\n",
        "\n",
        "polytropEff = polytropEfficiency(actFlowRate, compressorspeed)\n",
        "head_meter = polytropHead(actFlowRate, compressorspeed)\n",
        "\n",
        "n = 1.0/ (1.0 - (kappa-1.0)/kappa*1.0/(polytropEff/100.0))\n",
        "print(\"n \",n)\n",
        "print(\"head \", head_meter, \" meter\")\n",
        "head_kjkg = head_meter/1000.0*9.81\n",
        "pressureRatio = math.pow((head_kjkg*1000.0 +  (n/(n-1.0)*z_inlet*8.314*(temperature_inlet+273.15)/MW))/ (n/(n-1.0)*z_inlet*8.314*(temperature_inlet+273.15)/MW), n/(n-1.0))\n",
        "print(\"pressure ratio \", pressureRatio)\n",
        "pressure_outlet = pressure_inlet*pressureRatio\n",
        "print(\"pressure out  \", pressure_outlet)\n",
        "estOutTemp = (temperature_inlet+273.15)*math.pow(pressureRatio, (n-1.0)/n)-273.15\n",
        "print(\"estimated out temperature \", estOutTemp)\n",
        "\n",
        "\n",
        "clearProcess()\n",
        "stream1 = stream(fluid1)\n",
        "compressor_1 = compressor(stream1, pressure_outlet)\n",
        "compressor_1.setOutletPressure(pressure_outlet)\n",
        "compressor_1.setPolytropicEfficiency(polytropEff/100.0)\n",
        "compressor_1.setUsePolytropicCalc(True)\n",
        "runProcess()\n",
        "print()\n",
        "print(\"Calculations using polytropic efficiency: \", (polytropEff), '%')\n",
        "print(\"compressor1 power \", compressor_1.getTotalWork()/1e6, \" MW\")\n",
        "print(\"temperature out \", (compressor_1.getThermoSystem().getTemperature()-273.15))\n",
        "print(\"pressure out \", (compressor_1.getThermoSystem().getPressure()))"
      ],
      "execution_count": 9,
      "outputs": [
        {
          "output_type": "stream",
          "name": "stdout",
          "text": [
            "kappa  1.233787593689816\n",
            "actual flow rate  16205.49354807249  m3/hr\n",
            "n  1.3178192091202494\n",
            "head  15535.0  meter\n",
            "pressure ratio  2.9072258159337365\n",
            "pressure out   23.05430072035453\n",
            "estimated out temperature  132.69590898095714\n",
            "\n",
            "Calculations using polytropic efficiency:  78.57 %\n",
            "compressor1 power  5.503924212258974  MW\n",
            "temperature out  127.92336291667897\n",
            "pressure out  23.05430072035453\n"
          ]
        }
      ]
    },
    {
      "cell_type": "markdown",
      "metadata": {
        "id": "ZWgzj3JquP8p"
      },
      "source": [
        "# Using neqsim with compressor curves #\n",
        "This example demostrates use of NeqSim for compressor calculations when compresor curves are used as basis for calculation. \n",
        "\n",
        "Anti surge control is enabeled by setting compressor.getAntiSurge().setActive(True). The anit surge will activate when flow rate through compressor is lower than surge conditions. Gas recirculation will be set to a level so th gas flow through the compressor will be at the surge line."
      ]
    },
    {
      "cell_type": "code",
      "metadata": {
        "id": "C30SK_y7ugXo",
        "colab": {
          "base_uri": "https://localhost:8080/"
        },
        "outputId": "a39f8ed9-7d49-4010-87e1-2adcb6224492"
      },
      "source": [
        "from neqsim.process import compressorChart\n",
        "\n",
        "from neqsim.thermo import fluid\n",
        "from neqsim.process import clearProcess, stream, compressor, runProcess, compressorChart,compressorSurgeCurve, compressorStoneWallCurve\n",
        "\n",
        "# Start by creating a fluid in neqsim\n",
        "fluid1 = fluid(\"srk\")  # create a fluid using the SRK-EoS\n",
        "#fluid1.addComponent(\"nitrogen\", 1.0)\n",
        "#fluid1.addComponent(\"CO2\", 2.0)\n",
        "fluid1.addComponent(\"methane\", 91.0)\n",
        "fluid1.addComponent(\"ethane\", 5.0)\n",
        "fluid1.addComponent(\"propane\", 3.0)\n",
        "fluid1.addComponent(\"i-butane\", 2.0)\n",
        "fluid1.addComponent(\"n-butane\", 2.0)\n",
        "fluid1.setMixingRule(2)\n",
        "\n",
        "fluid1.setTemperature(25.0, \"C\")\n",
        "fluid1.setPressure(50.0, \"bara\")\n",
        "fluid1.setTotalFlowRate(0.635, \"MSm3/day\")\n",
        "# demonstration of setting up a simple process calculation\n",
        "\n",
        "clearProcess()\n",
        "stream1 = stream(fluid1)\n",
        "compressor2 = compressor(stream1, 51.0)\n",
        "\n",
        "\n",
        "MW=28.01\n",
        "inlepPres=100.0\n",
        "inletTemp=26.2\n",
        "Zinlet=0.89\n",
        "curveConditions = [MW, inlepPres, inletTemp, Zinlet]\n",
        "\n",
        "speed = [1000.0, 2000.0, 3000.0, 4000.0]\n",
        "flow = [[453.2, 600.0, 750.0, 800.0], [453.2, 600.0, 750.0, 800.0],[453.2, 600.0, 750.0, 800.0],[453.2, 600.0, 750.0, 800.0]]\n",
        "head = [[ 10000.0, 9000.0, 8000.0, 7500.0], [10000.0, 9000.0, 8000.0, 7500.0 ], [10000.0, 9000.0, 8000.0, 7500.0], [ 10000.0, 9000.0, 8000.0, 7500.0]]\n",
        "polyEff = [[ 90.0, 91.0, 89.0, 88.0 ], [90.0, 91.0, 89.0, 88.0 ], [90.0, 91.0, 89.0, 88.1],[90.0, 91.0, 89.0, 88.1]] \n",
        "compressorChart(compressor2, curveConditions, speed, flow, head, polyEff)\n",
        "\n",
        "\n",
        "surgeFlow = [453.2, 600.0, 750.0, 800.0]\n",
        "surgeHead = [6000.0, 7000.0, 8000.0, 10000.0]\n",
        "compressorSurgeCurve(compressor2, curveConditions, surgeFlow, surgeHead)\n",
        "\n",
        "stoneWallFlow = [923.2, 950.0, 980.0, 1000.0]\n",
        "stoneWallHead = [6000.0, 7000.0, 8000.0, 10000.0]\n",
        "compressorStoneWallCurve(compressor2, curveConditions, stoneWallFlow, stoneWallHead)\n",
        "\n",
        "\n",
        "compressor2.setUsePolytropicCalc(True)\n",
        "compressor2.getAntiSurge().setActive(True)\n",
        "compressor2.getAntiSurge().setSurgeControlFactor(1.05) # flow will be set to this factor higher than surge line\n",
        "compressor2.setSpeed(2050)\n",
        "\n",
        "runProcess()\n",
        "print(\"inlet flow \", stream1.getThermoSystem().getFlowRate(\"m3/hr\"), \" m3/hr\")\n",
        "#print(\"active anti surge? \", compressor2.getAntiSurge().isSurge()\n",
        "#print(\"flow fraction in surge line \", compressor2.getAntiSurge().getCurrentSurgeFraction())\n",
        "#print(\"polytropic head \", compressor2.getPolytropicHead(), \" meter\")\n",
        "#print(\"polytropic fluid head \", compressor2.getPolytropicFluidHead(), \" kJ/kg\")\n",
        "#print(\"polytropic exponent\", compressor2.getPolytropicExponent(), \" -\")\n",
        "print(\"pressure out \", compressor2.getOutStream().getPressure(), \" bara\")\n",
        "print(\"compressor2 power \", compressor2.getPower()/1.0e6, \" MW\")\n",
        "print(\"temperature out of compressor2 \", compressor2.getOutStream().getTemperature()-273.15, \" °C\")"
      ],
      "execution_count": 10,
      "outputs": [
        {
          "output_type": "stream",
          "name": "stdout",
          "text": [
            "inlet flow  484.560486357535  m3/hr\npressure out  131.55987208855316  bara\ncompressor2 power  0.7997972140367995  MW\ntemperature out of compressor2  100.50727422965889  °C\n"
          ]
        }
      ]
    },
    {
      "cell_type": "markdown",
      "metadata": {
        "id": "lSggAOasyOpi"
      },
      "source": [
        "# Calculation of a gas compression train (two stage calculation)\n",
        "In this example we calculate the pressure and power in a compression train of two compressors operating on the same shaft (same speed for both compressores). The calculations are further run for a series of inlet pressures, gas flow rates, compressor speeds. Resulting pressure levels and compressor powers are calculated. For details of the compressor code implementation see [this link to the Java code](https://github.com/equinor/neqsim/tree/master/src/main/java/neqsim/processSimulation/processEquipment/compressor)."
      ]
    },
    {
      "cell_type": "code",
      "metadata": {
        "id": "z19AYce4ytcE",
        "colab": {
          "base_uri": "https://localhost:8080/"
        },
        "outputId": "b861c9a6-7e29-476a-bb1f-1515832ef6b7"
      },
      "source": [
        "gasFlowRate = 0.86#@param {type:\"number\"} # MSm3/day\n",
        "compressorSpeed = 1500 #@param {type:\"number\"} # MSm3/day\n",
        "\n",
        "temperature_inlet = 40.6 #@param {type:\"number\"} # temperature in C\n",
        "pressure_inlet = 50.03 #@param {type:\"number\"} # pressure in bar\n",
        "\n",
        "temperature_MP = 35.2 #@param {type:\"number\"} # temperature in C\n",
        "\n",
        "fluid1 = fluid('srk')\n",
        "fluid1.addComponent('methane', 83.099)\n",
        "fluid1.addComponent('ethane', 6.925)\n",
        "fluid1.addComponent('propane', 4.946)\n",
        "fluid1.addComponent('i-butane', 1.484)\n",
        "fluid1.setTotalFlowRate(gasFlowRate, \"MSm3/day\")\n",
        "fluid1.setPressure(pressure_inlet, 'bara')\n",
        "fluid1.setTemperature(temperature_inlet, 'C')\n",
        "fluid1.setMixingRule(2)\n",
        "\n",
        "clearProcess()\n",
        "stream1 = stream(fluid1)\n",
        "compressor_1 = compressor(stream1,70.0)\n",
        "compressor_1.setUsePolytropicCalc(True)\n",
        "coolerMP1 = heater(compressor_1.getOutStream())\n",
        "coolerMP1.setOutTemperature(temperature_MP+273.15)\n",
        "gasscrubber = separator(coolerMP1.getOutStream())\n",
        "compressor_2 = compressor(gasscrubber.getGasOutStream(), 50.0)\n",
        "\n",
        "speed = [1000.0, 2000.0, 3000.0, 4000.0]\n",
        "flow = [[453.2, 600.0, 750.0, 800.0], [453.2, 600.0, 750.0, 800.0],[453.2, 600.0, 750.0, 800.0],[453.2, 600.0, 750.0, 800.0]]\n",
        "head = [[ 10000.0, 9000.0, 8000.0, 7500.0], [10000.0, 9000.0, 8000.0, 7500.0 ], [10000.0, 9000.0, 8000.0, 7500.0], [ 10000.0, 9000.0, 8000.0, 7500.0]]\n",
        "polyEff = [[ 90.0, 91.0, 89.0, 88.0 ], [90.0, 91.0, 89.0, 88.0 ], [90.0, 91.0, 89.0, 88.1],[90.0, 91.0, 89.0, 88.1]] \n",
        "compressorChart(compressor2, curveConditions, speed, flow, head, polyEff)\n",
        "\n",
        "\n",
        "compressorChart(compressor_1, curveConditions, speed, flow, head, polyEff)\n",
        "compressor_1.setSpeed(2050);\n",
        "compressor_1.setUsePolytropicCalc(True)\n",
        "\n",
        "flow2 = [[253.2, 400.0, 650.0, 800.0], [253.2, 400.0, 650.0, 800.0],[253.2, 400.0, 650.0, 800.0],[253.2, 400.0, 650.0, 800.0]]\n",
        "compressorChart(compressor_2, curveConditions, speed, flow2, head, polyEff)\n",
        "compressor_2.setSpeed(2050);\n",
        "compressor_2.setUsePolytropicCalc(True)\n",
        "\n",
        "\n",
        "runProcess()\n",
        "\n",
        "print(\"compressor1 power \", compressor_1.getPower()/1e6, \" MW\")\n",
        "print(\"compressor2 power \", compressor_2.getPower()/1e6, \" MW\")\n",
        "\n",
        "print(\"feed pressure \", stream1.getThermoSystem().getPressure(\"bara\"), \" bara\")\n",
        "print(\"1 stage pressure \", compressor_1.getThermoSystem().getPressure(\"bara\"), \" bara\")\n",
        "print(\"2 stage pressure \", compressor_2.getThermoSystem().getPressure(\"bara\"), \" bara\")\n"
      ],
      "execution_count": 11,
      "outputs": [
        {
          "output_type": "stream",
          "name": "stdout",
          "text": [
            "compressor1 power  1.3463638534777895  MW\ncompressor2 power  0.2836530640792942  MW\nfeed pressure  50.03  bara\n1 stage pressure  149.79990075041985  bara\n2 stage pressure  201.48398646210086  bara\n"
          ]
        }
      ]
    },
    {
      "cell_type": "code",
      "metadata": {
        "id": "-dnPIIR8UQbV",
        "colab": {
          "base_uri": "https://localhost:8080/"
        },
        "outputId": "d02b3f18-2c6b-4648-e663-731f1edef0d3"
      },
      "source": [
        "inletPressure = [40.0, 50.0, 55.0] \n",
        "\n",
        "\n",
        "\n",
        "# Using for loop \n",
        "for pressure in inletPressure:\n",
        "  stream1.getThermoSystem().setPressure(pressure)\n",
        "  runProcess()\n",
        "  print(\"feed pressure \", pressure)\n",
        "  print(\"compressor1 power \", compressor_1.getPower()/1e6, \" MW\")\n",
        "  print(\"compressor2 power \", compressor_2.getPower()/1e6, \" MW\")\n",
        "  print(\"feed pressure \", stream1.getThermoSystem().getPressure(\"bara\"), \" bara\")\n",
        "  print(\"1 stage pressure \", compressor_1.getThermoSystem().getPressure(\"bara\"), \" bara\")\n",
        "  print(\"2 stage pressure \", compressor_2.getThermoSystem().getPressure(\"bara\"), \" bara\")\n",
        "\n",
        "stream1.getThermoSystem().setPressure(pressure_inlet)\n",
        "inletFlow = [0.7, 0.8, 0.9, 1.0] \n",
        "# Using for loop \n",
        "for flow in inletFlow:\n",
        "  stream1.getThermoSystem().setTotalFlowRate(flow, \"MSm3/day\")\n",
        "  runProcess()\n",
        "  print(\"flow \", flow)\n",
        "  print(\"compressor1 power \", compressor_1.getPower()/1e6, \" MW\")\n",
        "  print(\"compressor2 power \", compressor_2.getPower()/1e6, \" MW\")\n",
        "  print(\"feed pressure \", stream1.getThermoSystem().getPressure(\"bara\"), \" bara\")\n",
        "  print(\"1 stage pressure \", compressor_1.getThermoSystem().getPressure(\"bara\"), \" bara\")\n",
        "  print(\"2 stage pressure \", compressor_2.getThermoSystem().getPressure(\"bara\"), \" bara\")\n",
        "\n",
        "stream1.getThermoSystem().setTotalFlowRate(gasFlowRate, \"MSm3/day\")\n",
        "speedRuns = [1000, 1500, 2000] \n",
        "   \n",
        "# Using for loop \n",
        "for speed in speedRuns:\n",
        "  compressor_1.setSpeed(speed)\n",
        "  compressor_2.setSpeed(speed)\n",
        "  runProcess()\n",
        "  print(\"speed \", speed)\n",
        "  print(\"compressor1 power \", compressor_1.getPower()/1e6, \" MW\")\n",
        "  print(\"compressor2 power \", compressor_2.getPower()/1e6, \" MW\")\n",
        "  print(\"feed pressure \", stream1.getThermoSystem().getPressure(\"bara\"), \" bara\")\n",
        "  print(\"1 stage pressure \", compressor_1.getThermoSystem().getPressure(\"bara\"), \" bara\")\n",
        "  print(\"2 stage pressure \", compressor_2.getThermoSystem().getPressure(\"bara\"), \" bara\")"
      ],
      "execution_count": 12,
      "outputs": [
        {
          "output_type": "stream",
          "name": "stdout",
          "text": [
            "feed pressure  40.0\n",
            "compressor1 power  1.873964331056405  MW\n",
            "compressor2 power  0.21947706784468413  MW\n",
            "feed pressure  40.0  bara\n",
            "1 stage pressure  167.95718390817612  bara\n",
            "2 stage pressure  211.29504072614918  bara\n",
            "feed pressure  50.0\n",
            "compressor1 power  1.3477084496661984  MW\n",
            "compressor2 power  0.283463137942805  MW\n",
            "feed pressure  50.0  bara\n",
            "1 stage pressure  149.84645493239768  bara\n",
            "2 stage pressure  201.50750148760812  bara\n",
            "feed pressure  55.0\n",
            "compressor1 power  1.139492978777466  MW\n",
            "compressor2 power  0.3145462877698328  MW\n",
            "feed pressure  55.0  bara\n",
            "1 stage pressure  142.67559391472489  bara\n",
            "2 stage pressure  197.99266321654872  bara\n",
            "flow  0.7\n",
            "compressor1 power  0.7756700671809693  MW\n",
            "compressor2 power  0.2899061726390111  MW\n",
            "feed pressure  50.03  bara\n",
            "1 stage pressure  111.36720108580788  bara\n",
            "2 stage pressure  159.95752215169736  bara\n",
            "flow  0.8\n",
            "compressor1 power  1.118696476062796  MW\n",
            "compressor2 power  0.2855445019546702  MW\n",
            "feed pressure  50.03  bara\n",
            "1 stage pressure  134.69309812632707  bara\n",
            "2 stage pressure  185.33090985288487  bara\n",
            "flow  0.9\n",
            "compressor1 power  1.5066631272346744  MW\n",
            "compressor2 power  0.28343148179694916  MW\n",
            "feed pressure  50.03  bara\n",
            "1 stage pressure  160.30981749591672  bara\n",
            "2 stage pressure  212.72512605407468  bara\n",
            "flow  1.0\n",
            "compressor1 power  1.9351898790193074  MW\n",
            "compressor2 power  0.28798552773780667  MW\n",
            "feed pressure  50.03  bara\n",
            "1 stage pressure  188.0119697683636  bara\n",
            "2 stage pressure  242.66414657849324  bara\n",
            "speed  1000\n",
            "compressor1 power  0.7052066296975368  MW\n",
            "compressor2 power  0.38914599594003313  MW\n",
            "feed pressure  50.03  bara\n",
            "1 stage pressure  91.11845958689001  bara\n",
            "2 stage pressure  133.1879982884363  bara\n",
            "speed  1500\n",
            "compressor1 power  1.085623480578538  MW\n",
            "compressor2 power  0.36664503213431987  MW\n",
            "feed pressure  50.03  bara\n",
            "1 stage pressure  123.038933955343  bara\n",
            "2 stage pressure  179.15198807709984  bara\n",
            "speed  2000\n",
            "compressor1 power  1.3294767712721913  MW\n",
            "compressor2 power  0.291979046190309  MW\n",
            "feed pressure  50.03  bara\n",
            "1 stage pressure  147.93175666386009  bara\n",
            "2 stage pressure  200.65964645081206  bara\n"
          ]
        }
      ]
    },
    {
      "cell_type": "markdown",
      "metadata": {
        "id": "MUsZwcbMpn-d"
      },
      "source": [
        "# Back up calculations #\n",
        "Evaluation of alternative methods for compressor calculations"
      ]
    },
    {
      "cell_type": "code",
      "metadata": {
        "id": "6m_nFQPU8KfA",
        "colab": {
          "base_uri": "https://localhost:8080/"
        },
        "outputId": "4fb0b32a-deb3-47c7-c703-09bd2bca4b02"
      },
      "source": [
        "temperature_inlet = 40.6 #@param {type:\"number\"}\n",
        "pressure_inlet = 7.93 #@param {type:\"number\"}\n",
        "\n",
        "gasFlowRate = 2.86#@param {type:\"number\"} # MSm3/day\n",
        "\n",
        "polytropicEfficiency = 77.0 #@param {type:\"number\"} # compressor efficiency%\n",
        "\n",
        "fluid1 = fluid('srk')\n",
        "fluid1.addComponent('methane', 83.099)\n",
        "fluid1.addComponent('ethane', 6.925)\n",
        "fluid1.addComponent('propane', 4.946)\n",
        "fluid1.addComponent('i-butane', 1.484)\n",
        "fluid1.addComponent('n-butane', 0.989)\n",
        "fluid1.addComponent('i-pentane', 0.495)\n",
        "fluid1.addComponent('n-pentane', 0.495)\n",
        "fluid1.addComponent('n-hexane', 0.198)\n",
        "fluid1.addComponent('n-heptane', 0.148)\n",
        "fluid1.addComponent('n-octane', 0.099)\n",
        "fluid1.addComponent('water', 0.983)\n",
        "fluid1.setTotalFlowRate(gasFlowRate, \"MSm3/day\")\n",
        "fluid1.setPressure(pressure_inlet, 'bara')\n",
        "fluid1.setTemperature(temperature_inlet, 'C')\n",
        "fluid1.setMixingRule(2)\n",
        "fluid1.setMultiPhaseCheck(True)\n",
        "TPflash(fluid1)\n",
        "fluid1.initProperties()\n",
        "actFlowRate = fluid1.getFlowRate(\"m3/hr\")\n",
        "gasdensty = fluid1.getDensity(\"kg/m3\")\n",
        "kappa = fluid1.getPhase(0).getKappa()\n",
        "MW = fluid1.getMolarMass()\n",
        "enthalpy_inlet = fluid1.getEnthalpy('J/kg')\n",
        "entropy_inlet = fluid1.getEntropy()\n",
        "z_inlet = fluid1.getZ()\n",
        "vol_inlet = fluid1.getVolume()\n",
        "n=kappa;\n",
        "print(\"kappa \", kappa)\n",
        "print(\"actual flow rate \", actFlowRate, \" m3/hr\")\n",
        "\n",
        "compressorspeed = 7992 # RPM\n",
        "\n",
        "def polytropEfficiency(flow, speed):\n",
        "        return 78.57\n",
        "\n",
        "def polytropHead(flow, speed):\n",
        "        return 15535.0\n",
        "\n",
        "polytropEff = polytropEfficiency(actFlowRate, compressorspeed)\n",
        "head_meter = polytropHead(actFlowRate, compressorspeed)\n",
        "\n",
        "n = 1.0/ (1.0 - (kappa-1.0)/kappa*1.0/(polytropEff/100.0))\n",
        "print(\"n \",n)\n",
        "print(\"head_meter \", head_meter)\n",
        "head_kjkg = head_meter/1000.0*9.81\n",
        "pressureRatio = math.pow((head_kjkg*1000.0 +  (n/(n-1.0)*z_inlet*8.314*(temperature_inlet+273.15)/MW))/ (n/(n-1.0)*z_inlet*8.314*(temperature_inlet+273.15)/MW), n/(n-1.0))\n",
        "print(\"pressure ratio \", pressureRatio)\n",
        "pressure_outlet = pressure_inlet*pressureRatio\n",
        "print(\"pressure out  \", pressure_outlet)\n",
        "\n",
        "clearProcess()\n",
        "stream1 = stream(fluid1)\n",
        "compressor_1 = compressor(stream1, pressure_outlet)\n",
        "compressor_1.setPolytropicEfficiency(polytropEff/100.0)\n",
        "compressor_1.setUsePolytropicCalc(True)\n",
        "runProcess()\n",
        "print()\n",
        "print(\"Calculations using polytropic efficiency: \", (polytropEff), '%')\n",
        "print(\"compressor1 power \", compressor_1.getTotalWork()/1e6, \" MW\")\n",
        "print(\"temperature out \", (compressor_1.getThermoSystem().getTemperature()-273.15))\n",
        "print(\"pressure out \", (compressor_1.getThermoSystem().getPressure()))"
      ],
      "execution_count": 13,
      "outputs": [
        {
          "output_type": "stream",
          "name": "stdout",
          "text": [
            "kappa  1.2419867315193245\n",
            "actual flow rate  16205.49354807249  m3/hr\n",
            "n  1.3297530684340109\n",
            "head_meter  15535.0\n",
            "pressure ratio  2.896922816399007\n",
            "pressure out   22.972597934044124\n",
            "\n",
            "Calculations using polytropic efficiency:  78.57 %\n",
            "compressor1 power  5.483269053041092  MW\n",
            "temperature out  127.60810181371363\n",
            "pressure out  22.972597934044153\n"
          ]
        }
      ]
    },
    {
      "cell_type": "code",
      "metadata": {
        "id": "yqTbZIDLSM2c"
      },
      "source": [
        "temperature_inlet = 35.0 #@param {type:\"number\"}\n",
        "pressure_inlet = 85.0 #@param {type:\"number\"}\n",
        "\n",
        "pressure_Out = 150.0 #@param {type:\"number\"}\n",
        "temperature_out = 100.0 \n",
        "\n",
        "gasFlowRate = 5.0#@param {type:\"number\"} # MSm3/day\n",
        "\n",
        "polytropicEfficiency = 77.0 #@param {type:\"number\"} # compressor efficiency%\n",
        "\n",
        "fluid1 = fluid('srk')\n",
        "fluid1.addComponent('methane', 1.0)\n",
        "fluid1.setTotalFlowRate(gasFlowRate, \"MSm3/day\")\n",
        "fluid1.setPressure(pressure_inlet, 'bara')\n",
        "fluid1.setTemperature(temperature_inlet, 'C')\n",
        "\n",
        "TPflash(fluid1)\n",
        "fluid1.initProperties()\n",
        "\n",
        "kappa = fluid1.getPhase(0).getKappa()\n",
        "print(\"kappa \", kappa)\n",
        "MW = fluid1.getMolarMass()\n",
        "density_inlet = fluid1.getDensity('kg/m3')\n",
        "enthalpy_inlet = fluid1.getEnthalpy('J/kg')\n",
        "entropy_inlet = fluid1.getEntropy()\n",
        "z_inlet = fluid1.getZ()\n",
        "\n",
        "n = 1.0/ (1.0 - (kappa-1.0)/kappa*1.0/(polytropicEfficiency/100.0))\n",
        "print(\"polytropic exponent \", n)\n",
        "power = n/(n-1.0)*(temperature_inlet+273.15)*z_inlet/(polytropicEfficiency/100.0)*(gasFlowRate*1.0e6/24.0/3600.0)*(101325.0/288.15)*(math.pow(pressure_Out/pressure_inlet, (n-1.0)/n)-1.0)\n",
        "estOutTemp = (temperature_inlet+273.15)*math.pow(pressure_Out/pressure_inlet, (n-1.0)/n)\n",
        "print(\"power based in simple method \", power/1e6, \"MW\")\n",
        "print(\"temperature out based on simple method \", (estOutTemp-273.15), \" C\")\n",
        "\n",
        "fluid1.setPressure(pressure_Out, \"bara\")\n",
        "PSflash(fluid1, entropy_inlet)\n",
        "fluid1.initProperties()\n",
        "enthalpy_isentr = fluid1.getEnthalpy('J/kg')\n",
        "density_isentr = fluid1.getDensity('kg/m3')\n",
        "Z_isentr = fluid1.getZ()\n",
        "\n",
        "fluid1.setPressure(pressure_Out, 'bara')\n",
        "fluid1.setTemperature(temperature_out, 'C')\n",
        "TPflash(fluid1)\n",
        "fluid1.initProperties()\n",
        "\n",
        "density_outlet = fluid1.getDensity('kg/m3')\n",
        "enthalpy_outlet = fluid1.getEnthalpy('J/kg')\n",
        "\n",
        "k_s = math.log(pressure_Out/pressure_inlet)/math.log(density_outlet/density_inlet)\n",
        "\n",
        "n = k_s/(k_s-1.0)\n",
        "\n",
        "k_h = (enthalpy_outlet-enthalpy_isentr)/(100000.0 * n * (pressure_Out/density_isentr-pressure_inlet/density_inlet))\n",
        "\n",
        "k_p = (1.0-math.log(density_outlet/density_inlet))/math.log(pressure_Out/pressure_inlet)\n",
        "k_p\n",
        "\n",
        "h_p = k_h*(temperature_inlet+273.15)*Z_isentr*8.314*(math.pow(pressure_Out/pressure_inlet,k_p)-1.0)/(MW*1000.0)/k_p\n",
        "\n",
        "h_tot = h_p/(polytropicEfficiency/100.0)\n",
        "\n",
        "E_p = h_tot*fluid1.getVolume('m3')/density_inlet\n",
        "\n",
        "E_p"
      ],
      "execution_count": 14,
      "outputs": [
        {
          "output_type": "stream",
          "name": "stdout",
          "text": [
            "kappa  1.4572970574114572\npolytropic exponent  1.6878491983230195\npower based in simple method  4.6701718096608404 MW\ntemperature out based on simple method  115.25834320371132  C\n"
          ]
        },
        {
          "output_type": "execute_result",
          "data": {
            "text/plain": [
              "1.1830278263101393"
            ]
          },
          "metadata": {},
          "execution_count": 14
        }
      ]
    }
  ]
}