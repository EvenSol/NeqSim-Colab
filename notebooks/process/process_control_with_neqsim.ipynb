{
 "cells": [
  {
   "cell_type": "markdown",
   "metadata": {
    "id": "view-in-github",
    "colab_type": "text"
   },
   "source": [
    "<a href=\"https://colab.research.google.com/github/EvenSol/NeqSim-Colab/blob/master/notebooks/process/process_control_with_neqsim.ipynb\" target=\"_parent\"><img src=\"https://colab.research.google.com/assets/colab-badge.svg\" alt=\"Open In Colab\"/></a>"
   ]
  },
  {
   "cell_type": "code",
   "metadata": {
    "id": "setup"
   },
   "execution_count": null,
   "outputs": [],
   "source": [
    "#@title Process Control in NeqSim\n",
    "#@markdown This notebook introduces basic process control concepts and shows how they can be implemented in the [NeqSim](https://neqsim.github.io/neqsimpython/) process simulator.\n",
    "%%capture\n",
    "!pip install neqsim matplotlib\n",
    "from neqsim import jneqsim\n",
    "import matplotlib.pyplot as plt\n",
    "from IPython.display import YouTubeVideo\n"
   ]
  },
  {
   "cell_type": "code",
   "metadata": {
    "id": "process_control_basics"
   },
   "execution_count": null,
   "outputs": [],
   "source": [
    "#@title Video: Process Control Basics\n",
    "#@markdown A short introduction to process control concepts.\n",
    "YouTubeVideo('FEnwYVPDRDE', width=600, height=400)"
   ]
  },
  {
   "cell_type": "code",
   "metadata": {
    "id": "pid_explained"
   },
   "execution_count": null,
   "outputs": [],
   "source": [
    "#@title Video: PID Controller Explained\n",
    "#@markdown Understanding proportional-integral-derivative control.\n",
    "YouTubeVideo('UR0hOmjaHp0', width=600, height=400)"
   ]
  },
  {
   "cell_type": "markdown",
   "metadata": {},
   "source": [
    "## Process control theory\n",
    "Process control keeps process variables such as pressure, flow or level close to desired setpoints. Feedback controllers (P, PI and PID) compare a measured value with the setpoint and manipulate an actuator to reduce the error.\n"
   ]
  },
  {
   "cell_type": "markdown",
   "metadata": {},
   "source": [
    "## Control options in NeqSim\n",
    "NeqSim supports dynamic simulation with measurement devices (transmitters) and controller devices. Controllers can be attached to valves or other equipment and tuned by specifying proportional (K$_p$), integral (T$_i$) and derivative (T$_d$) parameters.\n"
   ]
  },
  {
   "cell_type": "markdown",
   "metadata": {},
   "source": [
    "## Example: controlling separator level and pressure\n",
    "The example below shows a simple separator with control of both liquid level and gas outlet pressure. A level transmitter and a pressure transmitter provide measurements which are used by PID controllers connected to outlet valves.\n"
   ]
  },
  {
   "cell_type": "code",
   "metadata": {},
   "execution_count": null,
   "outputs": [],
   "source": [
    "# define the feed fluid\n",
    "fluid1 = jneqsim.thermo.system.SystemSrkEos(298.15, 10.0)\n",
    "fluid1.addComponent(\"methane\", 0.9)\n",
    "fluid1.addComponent(\"ethane\", 0.1)\n",
    "fluid1.addComponent(\"n-heptane\", 1.0)\n",
    "fluid1.setMixingRule('classic')\n",
    "\n",
    "# build process equipment\n",
    "feed = jneqsim.process.equipment.stream.Stream(\"Feed\", fluid1)\n",
    "feed.setFlowRate(50.0, \"kg/hr\")\n",
    "feed.setPressure(10.0, \"bara\")\n",
    "\n",
    "inlet_valve = jneqsim.process.equipment.valve.ThrottlingValve(\"inlet valve\", feed)\n",
    "inlet_valve.setOutletPressure(5.0)\n",
    "inlet_valve.setPercentValveOpening(30)\n",
    "\n",
    "sep = jneqsim.process.equipment.separator.Separator(\"Separator\")\n",
    "sep.addStream(inlet_valve.getOutletStream())\n",
    "sep.setSeparatorLength(0.3)\n",
    "sep.setInternalDiameter(1.0)\n",
    "sep.setLiquidLevel(0.5)\n",
    "\n",
    "liq_valve = jneqsim.process.equipment.valve.ThrottlingValve(\"liquid valve\", sep.getLiquidOutStream())\n",
    "liq_valve.setOutletPressure(1.0)\n",
    "liq_valve.setPercentValveOpening(50)\n",
    "\n",
    "gas_valve = jneqsim.process.equipment.valve.ThrottlingValve(\"gas valve\", sep.getGasOutStream())\n",
    "gas_valve.setOutletPressure(1.0)\n",
    "gas_valve.setPercentValveOpening(50)\n",
    "\n",
    "# measurement devices\n",
    "level_trans = jneqsim.process.measurementdevice.LevelTransmitter(sep)\n",
    "level_trans.setMaximumValue(0.8)\n",
    "level_trans.setMinimumValue(0.2)\n",
    "\n",
    "pressure_trans = jneqsim.process.measurementdevice.PressureTransmitter(sep.getGasOutStream())\n",
    "pressure_trans.setUnit(\"bar\")\n",
    "pressure_trans.setMaximumValue(10.0)\n",
    "pressure_trans.setMinimumValue(1.0)\n",
    "\n",
    "# controllers\n",
    "level_contr = jneqsim.process.controllerdevice.ControllerDeviceBaseClass()\n",
    "level_contr.setReverseActing(False)\n",
    "level_contr.setTransmitter(level_trans)\n",
    "level_contr.setControllerSetPoint(0.45)\n",
    "level_contr.setControllerParameters(1.0, 200.0, 0.0)\n",
    "\n",
    "pressure_contr = jneqsim.process.controllerdevice.ControllerDeviceBaseClass()\n",
    "pressure_contr.setReverseActing(False)\n",
    "pressure_contr.setTransmitter(pressure_trans)\n",
    "pressure_contr.setControllerSetPoint(5.0)\n",
    "pressure_contr.setControllerParameters(1.0, 50.0, 0.0)\n",
    "\n",
    "liq_valve.setController(level_contr)\n",
    "gas_valve.setController(pressure_contr)\n",
    "\n",
    "# assemble and run process\n",
    "p = jneqsim.process.processmodel.ProcessSystem()\n",
    "p.add(feed)\n",
    "p.add(inlet_valve)\n",
    "p.add(sep)\n",
    "p.add(liq_valve)\n",
    "p.add(gas_valve)\n",
    "p.add(level_trans)\n",
    "p.add(pressure_trans)\n",
    "p.run()\n",
    "\n",
    "# dynamic simulation\n",
    "p.setTimeStep(1.0)\n",
    "time=[]; level=[]; pressure=[]\n",
    "for i in range(20):\n",
    "    time.append(p.getTime())\n",
    "    level.append(level_trans.getMeasuredValue())\n",
    "    pressure.append(pressure_trans.getMeasuredValue())\n",
    "    p.runTransient()\n",
    "\n",
    "pressure_contr.setControllerSetPoint(4.0)\n",
    "for i in range(20):\n",
    "    time.append(p.getTime())\n",
    "    level.append(level_trans.getMeasuredValue())\n",
    "    pressure.append(pressure_trans.getMeasuredValue())\n",
    "    p.runTransient()\n",
    "\n",
    "plt.plot(time, level, label='Separator level')\n",
    "plt.plot(time, pressure, label='Separator pressure (bar)')\n",
    "plt.xlabel('Time [s]')\n",
    "plt.legend()\n",
    "plt.show()\n"
   ]
  },
  {
   "cell_type": "markdown",
   "metadata": {},
   "source": [
    "The plot shows how the PID controllers keep level and pressure close to their setpoints and how the pressure responds when the setpoint is changed from 5 to 4 bar.\n"
   ]
  }
 ],
 "metadata": {
  "kernelspec": {
   "display_name": "Python 3",
   "language": "python",
   "name": "python3"
  },
  "language_info": {
   "name": "python",
   "version": "3.12"
  },
  "colab": {
   "provenance": [],
   "include_colab_link": true,
   "name": "process_control_with_neqsim.ipynb"
  }
 },
 "nbformat": 4,
 "nbformat_minor": 5
}