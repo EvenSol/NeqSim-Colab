{
  "nbformat": 4,
  "nbformat_minor": 0,
  "metadata": {
    "colab": {
      "name": "Separators.ipynb",
      "provenance": [],
      "collapsed_sections": [],
      "include_colab_link": true
    },
    "kernelspec": {
      "name": "python3",
      "display_name": "Python 3"
    }
  },
  "cells": [
    {
      "cell_type": "markdown",
      "metadata": {
        "id": "view-in-github",
        "colab_type": "text"
      },
      "source": [
        "<a href=\"https://colab.research.google.com/github/EvenSol/NeqSim-Colab/blob/master/notebooks/process/Separators.ipynb\" target=\"_parent\"><img src=\"https://colab.research.google.com/assets/colab-badge.svg\" alt=\"Open In Colab\"/></a>"
      ]
    },
    {
      "cell_type": "code",
      "metadata": {
        "id": "c7oLiYgcEV2Y",
        "colab_type": "code",
        "cellView": "form",
        "colab": {}
      },
      "source": [
        "#@title Separators\n",
        "#@markdown Introduction to oil and gas separators\n",
        "%%capture\n",
        "!pip install neqsim==2.5.35\n",
        "import neqsim\n",
        "from neqsim.thermo.thermoTools import *\n",
        "import matplotlib\n",
        "import numpy as np\n",
        "import matplotlib.pyplot as plt\n",
        "import math\n",
        "%matplotlib inline"
      ],
      "execution_count": 0,
      "outputs": []
    },
    {
      "cell_type": "code",
      "metadata": {
        "id": "9Kkz5ZeLEyRv",
        "colab_type": "code",
        "cellView": "form",
        "outputId": "44a441ee-196b-4744-c53f-da19b6e8c454",
        "colab": {
          "base_uri": "https://localhost:8080/",
          "height": 421
        }
      },
      "source": [
        "#@title  Oil and gas separator  design\n",
        "#@markdown Introduction to oil and gas separator design\n",
        "from IPython.display import YouTubeVideo\n",
        "YouTubeVideo('XtOvCicplOE', width=600, height=400)"
      ],
      "execution_count": 4,
      "outputs": [
        {
          "output_type": "execute_result",
          "data": {
            "text/html": [
              "\n",
              "        <iframe\n",
              "            width=\"600\"\n",
              "            height=\"400\"\n",
              "            src=\"https://www.youtube.com/embed/XtOvCicplOE\"\n",
              "            frameborder=\"0\"\n",
              "            allowfullscreen\n",
              "        ></iframe>\n",
              "        "
            ],
            "text/plain": [
              "<IPython.lib.display.YouTubeVideo at 0x7f39d0e44a20>"
            ],
            "image/jpeg": "[encoded data removed]"
          },
          "metadata": {
            "tags": []
          },
          "execution_count": 4
        }
      ]
    },
    {
      "cell_type": "markdown",
      "metadata": {
        "id": "5DY6kmu1A720",
        "colab_type": "text"
      },
      "source": [
        ""
      ]
    },
    {
      "cell_type": "code",
      "metadata": {
        "id": "EeJ3zgxwP9mv",
        "colab_type": "code",
        "cellView": "both",
        "colab": {
          "base_uri": "https://localhost:8080/",
          "height": 833
        },
        "outputId": "3241d4b6-e2bf-4f19-fb15-6bf07fc4de4a"
      },
      "source": [
        "#@title  Separation of a well stream\n",
        "#@markdown A well stream typically contains gas, oil and water.\n",
        "#@markdown in NeqSim a well stream can be made in a simple way by using pre defined well stream types. In this example we use a typicall light oil.\n",
        "\n",
        "from neqsim.thermo import fluid, TPflash\n",
        "from neqsim.thermo import fluid, addOilFractions, printFrame, dataFrame, fluidcreator,createfluid,createfluid2, TPflash, phaseenvelope\n",
        "\n",
        "inletPressure = 30.0\n",
        "inletTemperature = 45.2\n",
        "fluid1 = createfluid('light oil')\n",
        "fluid1.setPressure(inletPressure, \"bara\")\n",
        "fluid1.setTemperature(inletTemperature, \"C\")\n",
        "TPflash(fluid1)\n",
        "printFrame(fluid1)\n"
      ],
      "execution_count": 5,
      "outputs": [
        {
          "output_type": "stream",
          "text": [
            "                           total                 gas                 oil                     \n",
            "           nitrogen   8.60585E-3          1.67173E-2          9.25641E-4      [mole fraction]\n",
            "                CO2   1.72117E-2          2.63875E-2          8.52371E-3      [mole fraction]\n",
            "            methane   4.47504E-1          7.95611E-1          1.17902E-1      [mole fraction]\n",
            "             ethane   9.46644E-2           1.1868E-1           7.1925E-2      [mole fraction]\n",
            "            propane   4.30293E-2          3.17267E-2           5.3731E-2      [mole fraction]\n",
            "           i-butane   8.60585E-3          3.75379E-3             1.32E-2      [mole fraction]\n",
            "           n-butane    1.0327E-2          3.54581E-3          1.67478E-2      [mole fraction]\n",
            "          i-pentane   8.60585E-3           1.5203E-3          1.53147E-2      [mole fraction]\n",
            "          n-pentane   8.60585E-3          1.23295E-3          1.55868E-2      [mole fraction]\n",
            "           n-hexane   8.60585E-3          4.91857E-4          1.62885E-2      [mole fraction]\n",
            "          n-heptane   8.60585E-3          1.95238E-4          1.65694E-2      [mole fraction]\n",
            "           n-octane   8.60585E-3          7.64653E-5          1.66818E-2      [mole fraction]\n",
            "           n-nonane   8.60585E-3          3.09921E-5          1.67249E-2      [mole fraction]\n",
            "               nC10   8.60585E-3          1.21036E-5          1.67428E-2      [mole fraction]\n",
            "         C10-C15_PC   1.72117E-1          1.72357E-5          3.35068E-1      [mole fraction]\n",
            "         C16-C19_PC   8.60585E-2          2.19941E-8          1.67542E-1      [mole fraction]\n",
            "         C20-C30_PC   4.30293E-2         3.37618E-10          8.37711E-2      [mole fraction]\n",
            "         C31-C50_PC   8.60585E-3         8.04334E-12          1.67542E-2      [mole fraction]\n",
            "                                                                                             \n",
            "            Density                        2.42267E1           7.25537E2             [kg/m^3]\n",
            "      PhaseFraction                       4.86347E-1          5.13653E-1      [mole fraction]\n",
            "          MolarMass    9.93533E1           2.00641E1           1.74427E2            [kg/kmol]\n",
            "           Z factor                       9.40056E-1           3.3497E-1                  [-]\n",
            " Heat Capacity (Cp)                        2.23162E0           2.34518E0            [kJ/kg*K]\n",
            " Heat Capacity (Cv)                        1.64872E0           2.18098E0            [kJ/kg*K]\n",
            "     Speed of Sound                        3.97705E2           1.08022E3              [m/sec]\n",
            "           Enthalpy   -2.15189E2           5.75279E1          -2.44892E2              [kJ/kg]\n",
            "            Entropy  -4.09121E-1         -8.55321E-1         -3.60524E-1            [kJ/kg*K]\n",
            "     JT coefficient                       4.81901E-1          -5.6392E-2              [K/bar]\n",
            "                                                                                             \n",
            "          Viscosity                       1.24526E-5          1.56357E-3           [kg/m*sec]\n",
            "       Conductivity                       3.66031E-2          1.03522E-1              [W/m*K]\n",
            "     SurfaceTension                       1.11873E-2          1.11873E-2                [N/m]\n",
            "                                                                                             \n",
            "                                                                                             \n",
            "                                                                                             \n",
            "           Pressure                             30.0                30.0                [bar]\n",
            "        Temperature               318.34999999999997  318.34999999999997                  [K]\n",
            "                                                                                             \n",
            "              Model                          SRK-EOS             SRK-EOS                    -\n",
            "        Mixing Rule                          classic             classic                    -\n",
            "                                                                                             \n",
            "             Stream                                                                         -\n",
            "                                                                                             \n",
            "                                                                                             \n",
            "                                                                                             \n",
            "                                                                                             \n"
          ],
          "name": "stdout"
        }
      ]
    },
    {
      "cell_type": "markdown",
      "metadata": {
        "id": "kKHi1Ttx25h7",
        "colab_type": "text"
      },
      "source": [
        "#Calculation of size and weight of separation equipment\n",
        "The general equation for sizing a separator or scrubber is given by the Sauder Brown equation:\n",
        "\n",
        "$v=K_s\\times(\\rho_L-\\rho_g)/\\rho_g$\n",
        "\n",
        "Where $\\rho_g$ is the gas density $\\rho_l$ the liquid density and $K_s$ is the gas load factor. v is the maximum allowable velocty of the gas in the separator. In this excercise we will use a Ks value for horizontal separators of 0.2and a L/D retio of 5.0.\n",
        "\n",
        "For vertical scrubbers we will use a Ks factor of 0.1 and a L/D ratio of 4.0.\n",
        "\n",
        "The separator diameter is calculated from the equation\n",
        "\n",
        "$D=\\sqrt{4.0\\cdot \\frac{Q_g}{\\pi \\cdot v \\cdot F_g}}$\n",
        "\n",
        "Where $F_g$ is the fraction of area occupied by the gas (we will use 0.8 here).\n",
        "\n",
        "$v=\\frac{g\\cdot {D_p}^2 (\\rho_l - \\rho_g)}{18 \\cdot \\mu_{oil} }$\n",
        "\n",
        "The crosssectional area neccesary to degass the oil is calculated from\n",
        "\n",
        "For oil-water separation we use the equation\n",
        "\n",
        "$v=\\frac{A \\cdot C ((\\rho_w - \\rho_o)}{\\mu} \\cdot L_c$\n",
        "\n",
        "where v is setling velocity, A is a coefficient 0.167, C is correction factor from diagram and Lc is length correction ($0.52L^{0.2}$).\n"
      ]
    }
  ]
}