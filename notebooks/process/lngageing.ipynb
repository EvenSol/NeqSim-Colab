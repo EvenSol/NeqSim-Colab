{
  "nbformat": 4,
  "nbformat_minor": 0,
  "metadata": {
    "colab": {
      "provenance": [],
      "authorship_tag": "ABX9TyP5t2tfEnl8cv8lohZZgXZJ",
      "include_colab_link": true
    },
    "kernelspec": {
      "name": "python3",
      "display_name": "Python 3"
    },
    "language_info": {
      "name": "python"
    }
  },
  "cells": [
    {
      "cell_type": "markdown",
      "metadata": {
        "id": "view-in-github",
        "colab_type": "text"
      },
      "source": [
        "<a href=\"https://colab.research.google.com/github/EvenSol/NeqSim-Colab/blob/master/notebooks/process/lngageing.ipynb\" target=\"_parent\"><img src=\"https://colab.research.google.com/assets/colab-badge.svg\" alt=\"Open In Colab\"/></a>"
      ]
    },
    {
      "cell_type": "code",
      "execution_count": 88,
      "metadata": {
        "colab": {
          "base_uri": "https://localhost:8080/"
        },
        "id": "lGQFRonc2GZo",
        "outputId": "75102a54-8c5a-4dfd-f5c8-f38715d8d88a"
      },
      "outputs": [
        {
          "output_type": "stream",
          "name": "stdout",
          "text": [
            "Looking in indexes: https://pypi.org/simple, https://us-python.pkg.dev/colab-wheels/public/simple/\n",
            "Requirement already satisfied: neqsim in /usr/local/lib/python3.10/dist-packages (2.4.15)\n",
            "Requirement already satisfied: jpype1 in /usr/local/lib/python3.10/dist-packages (from neqsim) (1.4.1)\n",
            "Requirement already satisfied: pandas in /usr/local/lib/python3.10/dist-packages (from neqsim) (1.5.3)\n",
            "Requirement already satisfied: packaging in /usr/local/lib/python3.10/dist-packages (from jpype1->neqsim) (23.1)\n",
            "Requirement already satisfied: python-dateutil>=2.8.1 in /usr/local/lib/python3.10/dist-packages (from pandas->neqsim) (2.8.2)\n",
            "Requirement already satisfied: pytz>=2020.1 in /usr/local/lib/python3.10/dist-packages (from pandas->neqsim) (2022.7.1)\n",
            "Requirement already satisfied: numpy>=1.21.0 in /usr/local/lib/python3.10/dist-packages (from pandas->neqsim) (1.22.4)\n",
            "Requirement already satisfied: six>=1.5 in /usr/local/lib/python3.10/dist-packages (from python-dateutil>=2.8.1->pandas->neqsim) (1.16.0)\n"
          ]
        }
      ],
      "source": [
        "!pip install neqsim"
      ]
    },
    {
      "cell_type": "markdown",
      "source": [
        "#LNG ageing\n",
        "\n",
        "During the ship transport of liquefied natural gas (LNG), several factors can influence the quality and aging of the gas. Here are some key considerations:\n",
        "\n",
        "1. Temperature: LNG is transported at cryogenic temperatures of around -160°C (-260°F) to maintain its liquid state. Temperature fluctuations during transport can affect the quality of LNG. Heat transfer from the environment or neighboring tanks can cause slight vaporization, leading to changes in the LNG composition.\n",
        "\n",
        "2. Pressure: The pressure in LNG carriers is maintained to keep the LNG in a liquid state. Variations in pressure can impact the LNG's stability and composition. High pressure can cause boil-off gas (BOG) formation, which can affect the LNG quality.\n",
        "\n",
        "3. Composition: LNG consists primarily of methane, with smaller amounts of ethane, propane, and other hydrocarbons. Over time, the lighter hydrocarbons can evaporate more readily, leading to changes in the LNG composition. This process is known as \"fractionation.\" However, the impact of fractionation is relatively minor during typical shipping durations.\n",
        "\n",
        "4. Contamination: Contamination during the loading, transportation, and unloading processes can affect the LNG quality. It is essential to prevent any foreign materials or substances from entering the LNG during these operations, as they can cause impurities or react with the LNG components.\n",
        "\n",
        "5. Storage time: The duration of LNG storage on board the ship can also influence gas quality. Prolonged storage can lead to minor changes in the composition due to fractionation and gradual evaporation of the lighter hydrocarbons. However, LNG carriers are designed to minimize these effects by utilizing well-insulated tanks and advanced management techniques."
      ],
      "metadata": {
        "id": "ETi2J_mh2LHq"
      }
    },
    {
      "cell_type": "markdown",
      "source": [
        "#Litterature\n",
        "\n",
        "https://onlinelibrary.wiley.com/doi/full/10.1002/ese3.475\n",
        "\n",
        "\n"
      ],
      "metadata": {
        "id": "oBT_xBCm3OUr"
      }
    },
    {
      "cell_type": "markdown",
      "source": [
        "# LNG ageing calculations using NeqSim\n",
        "\n",
        "Calculating the aging of LNG during transportation involves considering various factors such as temperature, pressure, composition, and storage time. However, it is important to note that LNG aging is a complex process influenced by many variables, and there is no standardized calculation method. Aging calculations often involve empirical models and industry-specific guidelines.\n",
        "\n",
        "To estimate LNG aging, you can consider the following factors:\n",
        "\n",
        "1. Boil-off gas (BOG): BOG refers to the vaporization of LNG that occurs during storage and transportation. It mainly consists of lighter hydrocarbons that evaporate more easily than methane. The rate of BOG formation depends on factors such as temperature, pressure, insulation, and containment system efficiency. By monitoring and measuring the BOG, you can estimate the extent of aging.\n",
        "\n",
        "2. Composition changes: As LNG ages, lighter hydrocarbons, such as ethane and propane, can evaporate more readily than methane. This fractionation process can lead to changes in the LNG composition. The rate of composition change depends on factors like storage time, temperature, and initial composition.\n",
        "\n",
        "3. Sampling and analysis: Periodic sampling and analysis of the LNG cargo can provide valuable insights into its aging process. By analyzing the composition and properties of the LNG over time, you can detect any deviations from the initial specifications and assess the extent of aging.\n",
        "\n",
        "4. Quality specifications: Each LNG cargo typically has specific quality specifications defined by the buyer and seller. By comparing the LNG's properties at the beginning and end of transportation, you can evaluate whether it meets the desired quality standards."
      ],
      "metadata": {
        "id": "qy3pNwsT2pi2"
      }
    },
    {
      "cell_type": "code",
      "source": [
        "from neqsim.thermo import fluid, fluid_df, addOilFractions, printFrame, dataFrame, fluidcreator,createfluid,createfluid2, TPflash, phaseenvelope\n",
        "import pandas as pd\n",
        "\n",
        "import matplotlib.pyplot as plt\n",
        "plt.style.use('classic')\n",
        "plt.style.use('seaborn-whitegrid')"
      ],
      "metadata": {
        "colab": {
          "base_uri": "https://localhost:8080/"
        },
        "id": "XGFv-KH741qo",
        "outputId": "57cd22a9-5e4c-4435-a799-9f551bf86be0"
      },
      "execution_count": 89,
      "outputs": [
        {
          "output_type": "stream",
          "name": "stderr",
          "text": [
            "<ipython-input-89-18c822794c5e>:6: MatplotlibDeprecationWarning: The seaborn styles shipped by Matplotlib are deprecated since 3.6, as they no longer correspond to the styles shipped by seaborn. However, they will remain available as 'seaborn-v0_8-<style>'. Alternatively, directly use the seaborn API instead.\n",
            "  plt.style.use('seaborn-whitegrid')\n"
          ]
        }
      ]
    },
    {
      "cell_type": "code",
      "source": [
        "#Create the initial fluid composition in NeqSim\n",
        "\n",
        "# Create a gas-condensate fluid\n",
        "naturalgas = {'ComponentName':  [\"nitrogen\", \"methane\", \"ethane\", \"propane\", \"i-butane\", \"n-butane\", \"i-pentane\", \"n-pentane\", \"n-hexane\"], \n",
        "        'MolarComposition[-]':  [1.34, 95.4, 2.199, 1.06, 0.36, 0.55, 0.14, 0.097, 0.0014]\n",
        "} \n",
        "\n",
        "naturalgasdf = pd.DataFrame(naturalgas) \n",
        "print(\"Natural Gas Fluid:\\n\")\n",
        "print(naturalgasdf.head(30).to_string())\n",
        "lngfluid = fluid_df(naturalgasdf)\n",
        "print(\"\\nPhase envelope of LNG Fluid:\\n\")\n",
        "phaseenvelope(lngfluid, True)"
      ],
      "metadata": {
        "colab": {
          "base_uri": "https://localhost:8080/",
          "height": 746
        },
        "id": "5EEtAQ-_4bGZ",
        "outputId": "ec7b30e0-cde3-4954-bf67-6ee50484f154"
      },
      "execution_count": 90,
      "outputs": [
        {
          "output_type": "stream",
          "name": "stdout",
          "text": [
            "Natural Gas Fluid:\n",
            "\n",
            "  ComponentName  MolarComposition[-]\n",
            "0      nitrogen               1.3400\n",
            "1       methane              95.4000\n",
            "2        ethane               2.1990\n",
            "3       propane               1.0600\n",
            "4      i-butane               0.3600\n",
            "5      n-butane               0.5500\n",
            "6     i-pentane               0.1400\n",
            "7     n-pentane               0.0970\n",
            "8      n-hexane               0.0014\n",
            "\n",
            "Phase envelope of LNG Fluid:\n",
            "\n"
          ]
        },
        {
          "output_type": "display_data",
          "data": {
            "text/plain": [
              "<Figure size 640x480 with 1 Axes>"
            ],
            "image/png": "[encoded data removed]"
          },
          "metadata": {}
        },
        {
          "output_type": "execute_result",
          "data": {
            "text/plain": [
              "<java object 'neqsim.thermodynamicOperations.ThermodynamicOperations'>"
            ]
          },
          "metadata": {},
          "execution_count": 90
        }
      ]
    },
    {
      "cell_type": "code",
      "source": [
        "#Input inital conditions\n",
        "\n",
        "pressure_transport = 1.01325 #pressure in bara\n",
        "volume_initial = 125000 #initial LNG filling volume in m^3\n",
        "time_transport = 48 # transport time in hours\n",
        "BOR = 0.1 #boil off rate in unit %of initial LNG volume \n",
        "\n",
        "#Set IOS6976 specifications\n",
        "isoversion = \"2016\"\n",
        "refvolT = 15.0 # reference temperature for calculation of standard density\n",
        "refEnergyT = 15.0 # reference temperature for calculation of GCV/WI"
      ],
      "metadata": {
        "id": "BOxMsIr55BmK"
      },
      "execution_count": 91,
      "outputs": []
    },
    {
      "cell_type": "code",
      "source": [
        "from neqsim import jNeqSim\n",
        "\n",
        "lngfluid.setPressure(pressure_transport, 'bara')\n",
        "lngfluid.setTemperature(-160.0, \"C\"); #setting a guessed initial temperature\n",
        "\n",
        "ship = jNeqSim.fluidMechanics.flowSystem.twoPhaseFlowSystem.shipSystem.LNGship(lngfluid, volume_initial, BOR / 100.0)\n",
        "ship.useStandardVersion(\"\", \"2016\")\n",
        "ship.getStandardISO6976().setEnergyRefT(refEnergyT)\n",
        "ship.getStandardISO6976().setVolRefT(refvolT)\n",
        "ship.setEndTime(time_transport)\n",
        "ship.createSystem()\n",
        "ship.solveSteadyState(0)\n",
        "ship.solveTransient(0)\n",
        "ageingresults = ship.getResults(\"temp\")"
      ],
      "metadata": {
        "id": "prUUN9xP5w7f"
      },
      "execution_count": 92,
      "outputs": []
    },
    {
      "cell_type": "code",
      "source": [
        "results = ageingresults[1:]\n",
        "columns = ageingresults[0:1]\n",
        "resultsDF = pd.DataFrame([[float(str(j).replace(',','')) for j in i] for i in results])\n",
        "resultsDF.columns = ['time', 'temperature','GCV','WI','density','volume','C1','C2','C3','iC4','nC4','iC5','nC5','C6','N2','energy', 'GCV_mass', 'gC1','gC2','gC3','giC4','gnC4','giC5','gnC5','gC6','gN2']\n",
        "resultsDF"
      ],
      "metadata": {
        "colab": {
          "base_uri": "https://localhost:8080/",
          "height": 424
        },
        "id": "HNJQdsXa8f_0",
        "outputId": "f4ad5fcc-c229-414b-b5fc-feb5862298b9"
      },
      "execution_count": 132,
      "outputs": [
        {
          "output_type": "execute_result",
          "data": {
            "text/plain": [
              "        time  temperature       GCV        WI    density        volume  \\\n",
              "0    0.00000   -163.72913  51.07479  39.52249  450.44678  125000.00000   \n",
              "1    0.48485   -163.72792  51.07518  39.52275  450.44396  124997.48167   \n",
              "2    0.96970   -163.72671  51.07557  39.52301  450.44115  124994.96325   \n",
              "3    1.45455   -163.72551  51.07596  39.52327  450.43833  124992.44468   \n",
              "4    1.93939   -163.72430  51.07635  39.52353  450.43552  124989.92597   \n",
              "..       ...          ...       ...       ...        ...           ...   \n",
              "95  46.06061   -163.61592  51.11144  39.54688  450.18379  124760.12823   \n",
              "96  46.54545   -163.61475  51.11182  39.54713  450.18107  124757.59646   \n",
              "97  47.03030   -163.61357  51.11220  39.54739  450.17835  124755.06455   \n",
              "98  47.51515   -163.61240  51.11258  39.54764  450.17563  124752.53250   \n",
              "99  48.00000   -163.61122  51.11296  39.54790  450.17292  124750.00031   \n",
              "\n",
              "         C1       C2       C3      iC4  ...  GCV_mass      gC1      gC2  gC3  \\\n",
              "0   0.94318  0.02174  0.01048  0.00356  ...  53.85730  0.76280  0.00002  0.0   \n",
              "1   0.94318  0.02174  0.01048  0.00356  ...  53.85777  0.76288  0.00002  0.0   \n",
              "2   0.94319  0.02174  0.01048  0.00356  ...  53.85824  0.76297  0.00002  0.0   \n",
              "3   0.94319  0.02174  0.01048  0.00356  ...  53.85872  0.76305  0.00002  0.0   \n",
              "4   0.94320  0.02174  0.01048  0.00356  ...  53.85919  0.76313  0.00002  0.0   \n",
              "..      ...      ...      ...      ...  ...       ...      ...      ...  ...   \n",
              "95  0.94358  0.02179  0.01050  0.00357  ...  53.90136  0.77055  0.00002  0.0   \n",
              "96  0.94359  0.02179  0.01050  0.00357  ...  53.90182  0.77063  0.00002  0.0   \n",
              "97  0.94359  0.02179  0.01050  0.00357  ...  53.90228  0.77071  0.00002  0.0   \n",
              "98  0.94360  0.02179  0.01050  0.00357  ...  53.90273  0.77079  0.00002  0.0   \n",
              "99  0.94360  0.02179  0.01050  0.00357  ...  53.90319  0.77087  0.00002  0.0   \n",
              "\n",
              "    giC4  gnC4  giC5  gnC5  gC6      gN2  \n",
              "0    0.0   0.0   0.0   0.0  0.0  0.23718  \n",
              "1    0.0   0.0   0.0   0.0  0.0  0.23709  \n",
              "2    0.0   0.0   0.0   0.0  0.0  0.23701  \n",
              "3    0.0   0.0   0.0   0.0  0.0  0.23693  \n",
              "4    0.0   0.0   0.0   0.0  0.0  0.23685  \n",
              "..   ...   ...   ...   ...  ...      ...  \n",
              "95   0.0   0.0   0.0   0.0  0.0  0.22943  \n",
              "96   0.0   0.0   0.0   0.0  0.0  0.22935  \n",
              "97   0.0   0.0   0.0   0.0  0.0  0.22927  \n",
              "98   0.0   0.0   0.0   0.0  0.0  0.22918  \n",
              "99   0.0   0.0   0.0   0.0  0.0  0.22910  \n",
              "\n",
              "[100 rows x 26 columns]"
            ],
            "text/html": [
              "\n",
              "  <div id=\"df-1281fba3-1380-494b-a053-8c3bbebac1a8\">\n",
              "    <div class=\"colab-df-container\">\n",
              "      <div>\n",
              "<style scoped>\n",
              "    .dataframe tbody tr th:only-of-type {\n",
              "        vertical-align: middle;\n",
              "    }\n",
              "\n",
              "    .dataframe tbody tr th {\n",
              "        vertical-align: top;\n",
              "    }\n",
              "\n",
              "    .dataframe thead th {\n",
              "        text-align: right;\n",
              "    }\n",
              "</style>\n",
              "<table border=\"1\" class=\"dataframe\">\n",
              "  <thead>\n",
              "    <tr style=\"text-align: right;\">\n",
              "      <th></th>\n",
              "      <th>time</th>\n",
              "      <th>temperature</th>\n",
              "      <th>GCV</th>\n",
              "      <th>WI</th>\n",
              "      <th>density</th>\n",
              "      <th>volume</th>\n",
              "      <th>C1</th>\n",
              "      <th>C2</th>\n",
              "      <th>C3</th>\n",
              "      <th>iC4</th>\n",
              "      <th>...</th>\n",
              "      <th>GCV_mass</th>\n",
              "      <th>gC1</th>\n",
              "      <th>gC2</th>\n",
              "      <th>gC3</th>\n",
              "      <th>giC4</th>\n",
              "      <th>gnC4</th>\n",
              "      <th>giC5</th>\n",
              "      <th>gnC5</th>\n",
              "      <th>gC6</th>\n",
              "      <th>gN2</th>\n",
              "    </tr>\n",
              "  </thead>\n",
              "  <tbody>\n",
              "    <tr>\n",
              "      <th>0</th>\n",
              "      <td>0.00000</td>\n",
              "      <td>-163.72913</td>\n",
              "      <td>51.07479</td>\n",
              "      <td>39.52249</td>\n",
              "      <td>450.44678</td>\n",
              "      <td>125000.00000</td>\n",
              "      <td>0.94318</td>\n",
              "      <td>0.02174</td>\n",
              "      <td>0.01048</td>\n",
              "      <td>0.00356</td>\n",
              "      <td>...</td>\n",
              "      <td>53.85730</td>\n",
              "      <td>0.76280</td>\n",
              "      <td>0.00002</td>\n",
              "      <td>0.0</td>\n",
              "      <td>0.0</td>\n",
              "      <td>0.0</td>\n",
              "      <td>0.0</td>\n",
              "      <td>0.0</td>\n",
              "      <td>0.0</td>\n",
              "      <td>0.23718</td>\n",
              "    </tr>\n",
              "    <tr>\n",
              "      <th>1</th>\n",
              "      <td>0.48485</td>\n",
              "      <td>-163.72792</td>\n",
              "      <td>51.07518</td>\n",
              "      <td>39.52275</td>\n",
              "      <td>450.44396</td>\n",
              "      <td>124997.48167</td>\n",
              "      <td>0.94318</td>\n",
              "      <td>0.02174</td>\n",
              "      <td>0.01048</td>\n",
              "      <td>0.00356</td>\n",
              "      <td>...</td>\n",
              "      <td>53.85777</td>\n",
              "      <td>0.76288</td>\n",
              "      <td>0.00002</td>\n",
              "      <td>0.0</td>\n",
              "      <td>0.0</td>\n",
              "      <td>0.0</td>\n",
              "      <td>0.0</td>\n",
              "      <td>0.0</td>\n",
              "      <td>0.0</td>\n",
              "      <td>0.23709</td>\n",
              "    </tr>\n",
              "    <tr>\n",
              "      <th>2</th>\n",
              "      <td>0.96970</td>\n",
              "      <td>-163.72671</td>\n",
              "      <td>51.07557</td>\n",
              "      <td>39.52301</td>\n",
              "      <td>450.44115</td>\n",
              "      <td>124994.96325</td>\n",
              "      <td>0.94319</td>\n",
              "      <td>0.02174</td>\n",
              "      <td>0.01048</td>\n",
              "      <td>0.00356</td>\n",
              "      <td>...</td>\n",
              "      <td>53.85824</td>\n",
              "      <td>0.76297</td>\n",
              "      <td>0.00002</td>\n",
              "      <td>0.0</td>\n",
              "      <td>0.0</td>\n",
              "      <td>0.0</td>\n",
              "      <td>0.0</td>\n",
              "      <td>0.0</td>\n",
              "      <td>0.0</td>\n",
              "      <td>0.23701</td>\n",
              "    </tr>\n",
              "    <tr>\n",
              "      <th>3</th>\n",
              "      <td>1.45455</td>\n",
              "      <td>-163.72551</td>\n",
              "      <td>51.07596</td>\n",
              "      <td>39.52327</td>\n",
              "      <td>450.43833</td>\n",
              "      <td>124992.44468</td>\n",
              "      <td>0.94319</td>\n",
              "      <td>0.02174</td>\n",
              "      <td>0.01048</td>\n",
              "      <td>0.00356</td>\n",
              "      <td>...</td>\n",
              "      <td>53.85872</td>\n",
              "      <td>0.76305</td>\n",
              "      <td>0.00002</td>\n",
              "      <td>0.0</td>\n",
              "      <td>0.0</td>\n",
              "      <td>0.0</td>\n",
              "      <td>0.0</td>\n",
              "      <td>0.0</td>\n",
              "      <td>0.0</td>\n",
              "      <td>0.23693</td>\n",
              "    </tr>\n",
              "    <tr>\n",
              "      <th>4</th>\n",
              "      <td>1.93939</td>\n",
              "      <td>-163.72430</td>\n",
              "      <td>51.07635</td>\n",
              "      <td>39.52353</td>\n",
              "      <td>450.43552</td>\n",
              "      <td>124989.92597</td>\n",
              "      <td>0.94320</td>\n",
              "      <td>0.02174</td>\n",
              "      <td>0.01048</td>\n",
              "      <td>0.00356</td>\n",
              "      <td>...</td>\n",
              "      <td>53.85919</td>\n",
              "      <td>0.76313</td>\n",
              "      <td>0.00002</td>\n",
              "      <td>0.0</td>\n",
              "      <td>0.0</td>\n",
              "      <td>0.0</td>\n",
              "      <td>0.0</td>\n",
              "      <td>0.0</td>\n",
              "      <td>0.0</td>\n",
              "      <td>0.23685</td>\n",
              "    </tr>\n",
              "    <tr>\n",
              "      <th>...</th>\n",
              "      <td>...</td>\n",
              "      <td>...</td>\n",
              "      <td>...</td>\n",
              "      <td>...</td>\n",
              "      <td>...</td>\n",
              "      <td>...</td>\n",
              "      <td>...</td>\n",
              "      <td>...</td>\n",
              "      <td>...</td>\n",
              "      <td>...</td>\n",
              "      <td>...</td>\n",
              "      <td>...</td>\n",
              "      <td>...</td>\n",
              "      <td>...</td>\n",
              "      <td>...</td>\n",
              "      <td>...</td>\n",
              "      <td>...</td>\n",
              "      <td>...</td>\n",
              "      <td>...</td>\n",
              "      <td>...</td>\n",
              "      <td>...</td>\n",
              "    </tr>\n",
              "    <tr>\n",
              "      <th>95</th>\n",
              "      <td>46.06061</td>\n",
              "      <td>-163.61592</td>\n",
              "      <td>51.11144</td>\n",
              "      <td>39.54688</td>\n",
              "      <td>450.18379</td>\n",
              "      <td>124760.12823</td>\n",
              "      <td>0.94358</td>\n",
              "      <td>0.02179</td>\n",
              "      <td>0.01050</td>\n",
              "      <td>0.00357</td>\n",
              "      <td>...</td>\n",
              "      <td>53.90136</td>\n",
              "      <td>0.77055</td>\n",
              "      <td>0.00002</td>\n",
              "      <td>0.0</td>\n",
              "      <td>0.0</td>\n",
              "      <td>0.0</td>\n",
              "      <td>0.0</td>\n",
              "      <td>0.0</td>\n",
              "      <td>0.0</td>\n",
              "      <td>0.22943</td>\n",
              "    </tr>\n",
              "    <tr>\n",
              "      <th>96</th>\n",
              "      <td>46.54545</td>\n",
              "      <td>-163.61475</td>\n",
              "      <td>51.11182</td>\n",
              "      <td>39.54713</td>\n",
              "      <td>450.18107</td>\n",
              "      <td>124757.59646</td>\n",
              "      <td>0.94359</td>\n",
              "      <td>0.02179</td>\n",
              "      <td>0.01050</td>\n",
              "      <td>0.00357</td>\n",
              "      <td>...</td>\n",
              "      <td>53.90182</td>\n",
              "      <td>0.77063</td>\n",
              "      <td>0.00002</td>\n",
              "      <td>0.0</td>\n",
              "      <td>0.0</td>\n",
              "      <td>0.0</td>\n",
              "      <td>0.0</td>\n",
              "      <td>0.0</td>\n",
              "      <td>0.0</td>\n",
              "      <td>0.22935</td>\n",
              "    </tr>\n",
              "    <tr>\n",
              "      <th>97</th>\n",
              "      <td>47.03030</td>\n",
              "      <td>-163.61357</td>\n",
              "      <td>51.11220</td>\n",
              "      <td>39.54739</td>\n",
              "      <td>450.17835</td>\n",
              "      <td>124755.06455</td>\n",
              "      <td>0.94359</td>\n",
              "      <td>0.02179</td>\n",
              "      <td>0.01050</td>\n",
              "      <td>0.00357</td>\n",
              "      <td>...</td>\n",
              "      <td>53.90228</td>\n",
              "      <td>0.77071</td>\n",
              "      <td>0.00002</td>\n",
              "      <td>0.0</td>\n",
              "      <td>0.0</td>\n",
              "      <td>0.0</td>\n",
              "      <td>0.0</td>\n",
              "      <td>0.0</td>\n",
              "      <td>0.0</td>\n",
              "      <td>0.22927</td>\n",
              "    </tr>\n",
              "    <tr>\n",
              "      <th>98</th>\n",
              "      <td>47.51515</td>\n",
              "      <td>-163.61240</td>\n",
              "      <td>51.11258</td>\n",
              "      <td>39.54764</td>\n",
              "      <td>450.17563</td>\n",
              "      <td>124752.53250</td>\n",
              "      <td>0.94360</td>\n",
              "      <td>0.02179</td>\n",
              "      <td>0.01050</td>\n",
              "      <td>0.00357</td>\n",
              "      <td>...</td>\n",
              "      <td>53.90273</td>\n",
              "      <td>0.77079</td>\n",
              "      <td>0.00002</td>\n",
              "      <td>0.0</td>\n",
              "      <td>0.0</td>\n",
              "      <td>0.0</td>\n",
              "      <td>0.0</td>\n",
              "      <td>0.0</td>\n",
              "      <td>0.0</td>\n",
              "      <td>0.22918</td>\n",
              "    </tr>\n",
              "    <tr>\n",
              "      <th>99</th>\n",
              "      <td>48.00000</td>\n",
              "      <td>-163.61122</td>\n",
              "      <td>51.11296</td>\n",
              "      <td>39.54790</td>\n",
              "      <td>450.17292</td>\n",
              "      <td>124750.00031</td>\n",
              "      <td>0.94360</td>\n",
              "      <td>0.02179</td>\n",
              "      <td>0.01050</td>\n",
              "      <td>0.00357</td>\n",
              "      <td>...</td>\n",
              "      <td>53.90319</td>\n",
              "      <td>0.77087</td>\n",
              "      <td>0.00002</td>\n",
              "      <td>0.0</td>\n",
              "      <td>0.0</td>\n",
              "      <td>0.0</td>\n",
              "      <td>0.0</td>\n",
              "      <td>0.0</td>\n",
              "      <td>0.0</td>\n",
              "      <td>0.22910</td>\n",
              "    </tr>\n",
              "  </tbody>\n",
              "</table>\n",
              "<p>100 rows × 26 columns</p>\n",
              "</div>\n",
              "      <button class=\"colab-df-convert\" onclick=\"convertToInteractive('df-1281fba3-1380-494b-a053-8c3bbebac1a8')\"\n",
              "              title=\"Convert this dataframe to an interactive table.\"\n",
              "              style=\"display:none;\">\n",
              "        \n",
              "  <svg xmlns=\"http://www.w3.org/2000/svg\" height=\"24px\"viewBox=\"0 0 24 24\"\n",
              "       width=\"24px\">\n",
              "    <path d=\"M0 0h24v24H0V0z\" fill=\"none\"/>\n",
              "    <path d=\"M18.56 5.44l.94 2.06.94-2.06 2.06-.94-2.06-.94-.94-2.06-.94 2.06-2.06.94zm-11 1L8.5 8.5l.94-2.06 2.06-.94-2.06-.94L8.5 2.5l-.94 2.06-2.06.94zm10 10l.94 2.06.94-2.06 2.06-.94-2.06-.94-.94-2.06-.94 2.06-2.06.94z\"/><path d=\"M17.41 7.96l-1.37-1.37c-.4-.4-.92-.59-1.43-.59-.52 0-1.04.2-1.43.59L10.3 9.45l-7.72 7.72c-.78.78-.78 2.05 0 2.83L4 21.41c.39.39.9.59 1.41.59.51 0 1.02-.2 1.41-.59l7.78-7.78 2.81-2.81c.8-.78.8-2.07 0-2.86zM5.41 20L4 18.59l7.72-7.72 1.47 1.35L5.41 20z\"/>\n",
              "  </svg>\n",
              "      </button>\n",
              "      \n",
              "  <style>\n",
              "    .colab-df-container {\n",
              "      display:flex;\n",
              "      flex-wrap:wrap;\n",
              "      gap: 12px;\n",
              "    }\n",
              "\n",
              "    .colab-df-convert {\n",
              "      background-color: #E8F0FE;\n",
              "      border: none;\n",
              "      border-radius: 50%;\n",
              "      cursor: pointer;\n",
              "      display: none;\n",
              "      fill: #1967D2;\n",
              "      height: 32px;\n",
              "      padding: 0 0 0 0;\n",
              "      width: 32px;\n",
              "    }\n",
              "\n",
              "    .colab-df-convert:hover {\n",
              "      background-color: #E2EBFA;\n",
              "      box-shadow: 0px 1px 2px rgba(60, 64, 67, 0.3), 0px 1px 3px 1px rgba(60, 64, 67, 0.15);\n",
              "      fill: #174EA6;\n",
              "    }\n",
              "\n",
              "    [theme=dark] .colab-df-convert {\n",
              "      background-color: #3B4455;\n",
              "      fill: #D2E3FC;\n",
              "    }\n",
              "\n",
              "    [theme=dark] .colab-df-convert:hover {\n",
              "      background-color: #434B5C;\n",
              "      box-shadow: 0px 1px 3px 1px rgba(0, 0, 0, 0.15);\n",
              "      filter: drop-shadow(0px 1px 2px rgba(0, 0, 0, 0.3));\n",
              "      fill: #FFFFFF;\n",
              "    }\n",
              "  </style>\n",
              "\n",
              "      <script>\n",
              "        const buttonEl =\n",
              "          document.querySelector('#df-1281fba3-1380-494b-a053-8c3bbebac1a8 button.colab-df-convert');\n",
              "        buttonEl.style.display =\n",
              "          google.colab.kernel.accessAllowed ? 'block' : 'none';\n",
              "\n",
              "        async function convertToInteractive(key) {\n",
              "          const element = document.querySelector('#df-1281fba3-1380-494b-a053-8c3bbebac1a8');\n",
              "          const dataTable =\n",
              "            await google.colab.kernel.invokeFunction('convertToInteractive',\n",
              "                                                     [key], {});\n",
              "          if (!dataTable) return;\n",
              "\n",
              "          const docLinkHtml = 'Like what you see? Visit the ' +\n",
              "            '<a target=\"_blank\" href=https://colab.research.google.com/notebooks/data_table.ipynb>data table notebook</a>'\n",
              "            + ' to learn more about interactive tables.';\n",
              "          element.innerHTML = '';\n",
              "          dataTable['output_type'] = 'display_data';\n",
              "          await google.colab.output.renderOutput(dataTable, element);\n",
              "          const docLink = document.createElement('div');\n",
              "          docLink.innerHTML = docLinkHtml;\n",
              "          element.appendChild(docLink);\n",
              "        }\n",
              "      </script>\n",
              "    </div>\n",
              "  </div>\n",
              "  "
            ]
          },
          "metadata": {},
          "execution_count": 132
        }
      ]
    },
    {
      "cell_type": "code",
      "source": [
        "resultsDF.plot(x='time', y=['volume'], kind='line', title='LNG volume')\n",
        "plt.show()"
      ],
      "metadata": {
        "colab": {
          "base_uri": "https://localhost:8080/",
          "height": 468
        },
        "id": "WMh8CqizQZIo",
        "outputId": "65318a62-392f-4ccd-9207-60e99f5823a1"
      },
      "execution_count": 139,
      "outputs": [
        {
          "output_type": "display_data",
          "data": {
            "text/plain": [
              "<Figure size 640x480 with 1 Axes>"
            ],
            "image/png": "[encoded data removed]"
          },
          "metadata": {}
        }
      ]
    },
    {
      "cell_type": "code",
      "source": [
        "resultsDF.plot(x='time', y=['gC1', 'gC2', 'gC3', 'gN2'], kind='line', title='BOG composition')\n",
        "plt.show()"
      ],
      "metadata": {
        "colab": {
          "base_uri": "https://localhost:8080/",
          "height": 468
        },
        "id": "mPZeQIu1BeS3",
        "outputId": "8bf63ba3-d2c1-4eae-b176-6bae895ace15"
      },
      "execution_count": 138,
      "outputs": [
        {
          "output_type": "display_data",
          "data": {
            "text/plain": [
              "<Figure size 640x480 with 1 Axes>"
            ],
            "image/png": "[encoded data removed]"
          },
          "metadata": {}
        }
      ]
    },
    {
      "cell_type": "markdown",
      "source": [
        "#Mathematics of LNG ageing calculations\n",
        "\n",
        "See implementation:\n",
        "https://github.com/equinor/neqsim/blob/717133f1a2134e47d7f31c43923e0b5b77fc6278/src/main/java/neqsim/fluidMechanics/flowSystem/twoPhaseFlowSystem/shipSystem/LNGship.java#L168\n",
        "\n"
      ],
      "metadata": {
        "id": "21pO41KvQxb_"
      }
    },
    {
      "cell_type": "markdown",
      "source": [
        "ship.createSystem()\n",
        "\n",
        "    standardDensity = new Standard_ISO6578(getThermoSystem());\n",
        "    timeStep = getEndTime() / (numberOffTimeSteps * 1.0 - 1.0);\n",
        "    dailyBoilOffVolume = totalTankVolume * dailyBoilOffRatio;\n",
        "\n",
        "ship.solveSteadyState(0)\n",
        "\n",
        "    thermoOperations.bubblePointTemperatureFlash();\n",
        "\n",
        "\n",
        "ship.solveTransient(0)\n",
        "\n",
        "      endVolume = totalTankVolume - mulitplicator * dailyBoilOffVolume * getEndTime() / 24.0;\n",
        "      molarBoilOffRate = dailyBoilOffVolume * liquidDensity\n",
        "      / getThermoSystem().getPhase(1).getMolarMass() / 24.0 * timeStep;\n",
        "      ....\n",
        "      thermoOperations.bubblePointTemperatureFlash();\n",
        "      ....\n",
        "      for (int i = 0; i < getThermoSystem().getPhase(0).getNumberOfComponents(); i++) {\n",
        "        getThermoSystem().addComponent(getThermoSystem().getPhase(0).getComponent(i).getName(),\n",
        "            -xgas[i] * molarBoilOffRate);\n",
        "      }\n",
        "      ...\n",
        "\n",
        "  "
      ],
      "metadata": {
        "id": "P3O8L-OMRojJ"
      }
    },
    {
      "cell_type": "markdown",
      "source": [
        "# How to implement more advanced methods\n",
        "\n",
        "* Use of liquid lNG for propulsion\n",
        "* Temperature and composition gradients\n",
        "* Not constant pressure..\n",
        "\n"
      ],
      "metadata": {
        "id": "FgvLvT6pTLLX"
      }
    }
  ]
}