{
  "nbformat": 4,
  "nbformat_minor": 0,
  "metadata": {
    "colab": {
      "name": "cemicalsconsumption.ipynb",
      "provenance": [],
      "collapsed_sections": [],
      "authorship_tag": "ABX9TyNXZsfEUN5Q//yEwy7KO23j",
      "include_colab_link": true
    },
    "kernelspec": {
      "name": "python3",
      "display_name": "Python 3"
    },
    "language_info": {
      "name": "python"
    }
  },
  "cells": [
    {
      "cell_type": "markdown",
      "metadata": {
        "id": "view-in-github",
        "colab_type": "text"
      },
      "source": [
        "<a href=\"https://colab.research.google.com/github/EvenSol/NeqSim-Colab/blob/master/notebooks/process/cemicalsconsumption.ipynb\" target=\"_parent\"><img src=\"https://colab.research.google.com/assets/colab-badge.svg\" alt=\"Open In Colab\"/></a>"
      ]
    },
    {
      "cell_type": "markdown",
      "metadata": {
        "id": "lH7mBH5C0QCo"
      },
      "source": [
        "# Consumption of Chemcials in Gas Processing Operations\n",
        "In this notebook we will demonstrate calculations of chemcials consumption in a number of gas processing operations."
      ]
    },
    {
      "cell_type": "code",
      "metadata": {
        "id": "uBD_LWI519uH"
      },
      "source": [
        "%%capture\n",
        "!pip install neqsim\n",
        "import neqsim"
      ],
      "execution_count": 1,
      "outputs": []
    },
    {
      "cell_type": "markdown",
      "metadata": {
        "id": "e2cJag2l0uVv"
      },
      "source": [
        "# TEG loss to gas phase from dehydration operations"
      ]
    },
    {
      "cell_type": "code",
      "metadata": {
        "colab": {
          "base_uri": "https://localhost:8080/",
          "height": 297
        },
        "id": "tbL9ls540PkK",
        "outputId": "4ccdfd97-140f-43a0-a78d-afd43b73fe1b"
      },
      "source": [
        "from neqsim.thermo import fluid, fluid_df, printFrame, TPflash\n",
        "import pandas as pd\n",
        "import numpy as np\n",
        "import matplotlib.pyplot as plt\n",
        "\n",
        "temperature = 45.0\n",
        "minPressure = 10.0\n",
        "maxPressure = 200.0\n",
        "componentName = 'TEG'\n",
        "\n",
        "naturalgasDef = {'ComponentName':  [\"nitrogen\", \"CO2\", \"methane\", \"ethane\", \"propane\", \"i-butane\", \"n-butane\", \"i-pentane\", \"n-pentane\", \"n-hexane\", 'TEG'], \n",
        "        'MolarComposition[-]':  [0.39, 0.4382, 71.8873, 11.58, 10.2143, 1.5705, 2.7704, 0.486, 0.4488, 0.1365, 1.0]\n",
        "} \n",
        "\n",
        "naturalgas = fluid_df(pd.DataFrame(naturalgasDef)).setModel('CPAs-SRK-EOS-statoil')\n",
        "#printFrame(naturalgas)\n",
        "\n",
        "def gassol(pressure, temperature):\n",
        "    naturalgas.setPressure(pressure, 'bara')\n",
        "    naturalgas.setTemperature(temperature, 'C')\n",
        "    TPflash(naturalgas)\n",
        "    molarMassTEG = 150.0\n",
        "    densityTEG = 1.1255\n",
        "    molSm3 = 42.2949\n",
        "    TEGinGas = naturalgas.getPhase('gas').getComponent(componentName).getx()*molSm3*molarMassTEG*1e3/densityTEG  # mol TEG / mol gas * mol gas / Sm3 * gr TEG /mol TEG / 1000 ' 1e6  * litre / kg TEG = litre TEG / MSm3\n",
        "    return TEGinGas\n",
        "\n",
        "pressure = np.arange(minPressure, maxPressure, int((maxPressure-minPressure)/10.0)+1.0)\n",
        "gassolubuility = [gassol(P,temperature) for P in pressure]\n",
        "\n",
        "plt.plot(pressure, gassolubuility)\n",
        "plt.xlabel('Pressure [bar]')\n",
        "plt.ylabel(componentName+ ' in gas [litre TEG/MSm3 gas]')"
      ],
      "execution_count": 5,
      "outputs": [
        {
          "output_type": "execute_result",
          "data": {
            "text/plain": [
              "Text(0, 0.5, 'TEG in gas [litre TEG/MSm3 gas]')"
            ]
          },
          "metadata": {},
          "execution_count": 5
        },
        {
          "output_type": "display_data",
          "data": {
            "image/png": "[encoded data removed]",
            "text/plain": [
              "<Figure size 432x288 with 1 Axes>"
            ]
          },
          "metadata": {
            "needs_background": "light"
          }
        }
      ]
    }
  ]
}