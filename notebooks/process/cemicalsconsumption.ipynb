{
  "nbformat": 4,
  "nbformat_minor": 0,
  "metadata": {
    "colab": {
      "name": "cemicalsconsumption.ipynb",
      "provenance": [],
      "collapsed_sections": [],
      "authorship_tag": "ABX9TyOmK0ileYflFd5dVhUITsVY",
      "include_colab_link": true
    },
    "kernelspec": {
      "name": "python3",
      "display_name": "Python 3"
    },
    "language_info": {
      "name": "python"
    }
  },
  "cells": [
    {
      "cell_type": "markdown",
      "metadata": {
        "id": "view-in-github",
        "colab_type": "text"
      },
      "source": [
        "<a href=\"https://colab.research.google.com/github/EvenSol/NeqSim-Colab/blob/master/notebooks/process/cemicalsconsumption.ipynb\" target=\"_parent\"><img src=\"https://colab.research.google.com/assets/colab-badge.svg\" alt=\"Open In Colab\"/></a>"
      ]
    },
    {
      "cell_type": "markdown",
      "metadata": {
        "id": "lH7mBH5C0QCo"
      },
      "source": [
        "# Consumption of Chemcials in Gas Processing Operations\n",
        "In this notebook we will demonstrate calculations of chemcials consumption in a number of gas processing operations."
      ]
    },
    {
      "cell_type": "code",
      "metadata": {
        "id": "uBD_LWI519uH"
      },
      "source": [
        "%%capture\n",
        "!pip install neqsim\n",
        "import neqsim"
      ],
      "execution_count": 36,
      "outputs": []
    },
    {
      "cell_type": "markdown",
      "metadata": {
        "id": "e2cJag2l0uVv"
      },
      "source": [
        "# TEG loss to gas phase from dehydration operations"
      ]
    },
    {
      "cell_type": "code",
      "metadata": {
        "colab": {
          "base_uri": "https://localhost:8080/",
          "height": 297
        },
        "id": "tbL9ls540PkK",
        "outputId": "e8e3faca-6da5-4c04-a3c9-dc4f3097c2e5"
      },
      "source": [
        "from neqsim.thermo import fluid, fluid_df, printFrame, TPflash\n",
        "import pandas as pd\n",
        "import numpy as np\n",
        "import matplotlib.pyplot as plt\n",
        "\n",
        "temperature = 45.0\n",
        "minPressure = 10.0\n",
        "maxPressure = 200.0\n",
        "componentName = 'TEG'\n",
        "\n",
        "naturalgasDef = {'ComponentName':  [\"nitrogen\", \"CO2\", \"methane\", \"ethane\", \"propane\", \"i-butane\", \"n-butane\", \"i-pentane\", \"n-pentane\", \"n-hexane\", 'TEG'], \n",
        "        'MolarComposition[-]':  [0.39, 0.4382, 71.8873, 11.58, 10.2143, 1.5705, 2.7704, 0.486, 0.4488, 0.1365, 1.0]\n",
        "} \n",
        "\n",
        "naturalgas = fluid_df(pd.DataFrame(naturalgasDef)).setModel('CPAs-SRK-EOS-statoil')\n",
        "#printFrame(naturalgas)\n",
        "\n",
        "def gassol(pressure, temperature):\n",
        "    naturalgas.setPressure(pressure, 'bara')\n",
        "    naturalgas.setTemperature(temperature, 'C')\n",
        "    TPflash(naturalgas)\n",
        "    molarMassTEG = 150.0\n",
        "    densityTEG = 1.1255\n",
        "    molSm3 = 42.2949\n",
        "    TEGinGas = naturalgas.getPhase('gas').getComponent(componentName).getx()*molSm3*molarMassTEG*1e3/densityTEG  # mol TEG / mol gas * mol gas / Sm3 * gr TEG /mol TEG / 1000 ' 1e6  * litre / kg TEG = litre TEG / MSm3\n",
        "    return TEGinGas\n",
        "\n",
        "pressure = np.arange(minPressure, maxPressure, int((maxPressure-minPressure)/10.0)+1.0)\n",
        "gassolubuility = [gassol(P,temperature) for P in pressure]\n",
        "\n",
        "plt.plot(pressure, gassolubuility)\n",
        "plt.xlabel('Pressure [bar]')\n",
        "plt.ylabel(componentName+ ' in gas [litre TEG/MSm3 gas] at '+ str(temperature)+ ' C')\n",
        "\n"
      ],
      "execution_count": 37,
      "outputs": [
        {
          "output_type": "execute_result",
          "data": {
            "text/plain": [
              "Text(0, 0.5, 'TEG in gas [litre TEG/MSm3 gas] at 45.0 C')"
            ]
          },
          "metadata": {},
          "execution_count": 37
        },
        {
          "output_type": "display_data",
          "data": {
            "image/png": "[encoded data removed]",
            "text/plain": [
              "<Figure size 432x288 with 1 Axes>"
            ]
          },
          "metadata": {
            "needs_background": "light"
          }
        }
      ]
    },
    {
      "cell_type": "code",
      "metadata": {
        "id": "hxLwSor2YhtW",
        "outputId": "d6299bdf-03a4-47df-cb85-0c06a1ac0814",
        "colab": {
          "base_uri": "https://localhost:8080/",
          "height": 363
        }
      },
      "source": [
        "df = pd.DataFrame([pressure, gassolubuility]).transpose()\n",
        "df.columns = ['pressure [bara]', 'TEG in gas [litre/MSm3]']\n",
        "df\n"
      ],
      "execution_count": 38,
      "outputs": [
        {
          "output_type": "execute_result",
          "data": {
            "text/html": [
              "<div>\n",
              "<style scoped>\n",
              "    .dataframe tbody tr th:only-of-type {\n",
              "        vertical-align: middle;\n",
              "    }\n",
              "\n",
              "    .dataframe tbody tr th {\n",
              "        vertical-align: top;\n",
              "    }\n",
              "\n",
              "    .dataframe thead th {\n",
              "        text-align: right;\n",
              "    }\n",
              "</style>\n",
              "<table border=\"1\" class=\"dataframe\">\n",
              "  <thead>\n",
              "    <tr style=\"text-align: right;\">\n",
              "      <th></th>\n",
              "      <th>pressure [bara]</th>\n",
              "      <th>TEG in gas [litre/MSm3]</th>\n",
              "    </tr>\n",
              "  </thead>\n",
              "  <tbody>\n",
              "    <tr>\n",
              "      <th>0</th>\n",
              "      <td>10.0</td>\n",
              "      <td>3.030901</td>\n",
              "    </tr>\n",
              "    <tr>\n",
              "      <th>1</th>\n",
              "      <td>30.0</td>\n",
              "      <td>2.092438</td>\n",
              "    </tr>\n",
              "    <tr>\n",
              "      <th>2</th>\n",
              "      <td>50.0</td>\n",
              "      <td>2.759583</td>\n",
              "    </tr>\n",
              "    <tr>\n",
              "      <th>3</th>\n",
              "      <td>70.0</td>\n",
              "      <td>4.539314</td>\n",
              "    </tr>\n",
              "    <tr>\n",
              "      <th>4</th>\n",
              "      <td>90.0</td>\n",
              "      <td>8.246698</td>\n",
              "    </tr>\n",
              "    <tr>\n",
              "      <th>5</th>\n",
              "      <td>110.0</td>\n",
              "      <td>15.121655</td>\n",
              "    </tr>\n",
              "    <tr>\n",
              "      <th>6</th>\n",
              "      <td>130.0</td>\n",
              "      <td>26.036207</td>\n",
              "    </tr>\n",
              "    <tr>\n",
              "      <th>7</th>\n",
              "      <td>150.0</td>\n",
              "      <td>40.790606</td>\n",
              "    </tr>\n",
              "    <tr>\n",
              "      <th>8</th>\n",
              "      <td>170.0</td>\n",
              "      <td>58.422270</td>\n",
              "    </tr>\n",
              "    <tr>\n",
              "      <th>9</th>\n",
              "      <td>190.0</td>\n",
              "      <td>77.880670</td>\n",
              "    </tr>\n",
              "  </tbody>\n",
              "</table>\n",
              "</div>"
            ],
            "text/plain": [
              "   pressure [bara]  TEG in gas [litre/MSm3]\n",
              "0             10.0                 3.030901\n",
              "1             30.0                 2.092438\n",
              "2             50.0                 2.759583\n",
              "3             70.0                 4.539314\n",
              "4             90.0                 8.246698\n",
              "5            110.0                15.121655\n",
              "6            130.0                26.036207\n",
              "7            150.0                40.790606\n",
              "8            170.0                58.422270\n",
              "9            190.0                77.880670"
            ]
          },
          "metadata": {},
          "execution_count": 38
        }
      ]
    },
    {
      "cell_type": "code",
      "metadata": {
        "id": "3B0VQfhsb2-7"
      },
      "source": [
        ""
      ],
      "execution_count": 38,
      "outputs": []
    }
  ]
}