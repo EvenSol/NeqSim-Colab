{
  "nbformat": 4,
  "nbformat_minor": 0,
  "metadata": {
    "colab": {
      "name": "simulationTEG.ipynb",
      "provenance": [],
      "include_colab_link": true
    },
    "kernelspec": {
      "name": "python3",
      "display_name": "Python 3.7.9 64-bit ('base': conda)"
    },
    "language_info": {
      "name": "python",
      "version": "3.7.9",
      "mimetype": "text/x-python",
      "codemirror_mode": {
        "name": "ipython",
        "version": 3
      },
      "pygments_lexer": "ipython3",
      "nbconvert_exporter": "python",
      "file_extension": ".py"
    },
    "interpreter": {
      "hash": "a5df7bd4ca0d6bb9986d9d69faf4f6c25893f82bf7982e9868ee8495bd8c927f"
    }
  },
  "cells": [
    {
      "cell_type": "markdown",
      "metadata": {
        "id": "view-in-github",
        "colab_type": "text"
      },
      "source": [
        "<a href=\"https://colab.research.google.com/github/EvenSol/NeqSim-Colab/blob/master/notebooks/process/simulationTEG.ipynb\" target=\"_parent\"><img src=\"https://colab.research.google.com/assets/colab-badge.svg\" alt=\"Open In Colab\"/></a>"
      ]
    },
    {
      "cell_type": "markdown",
      "metadata": {
        "id": "7eMsnESCMQRB"
      },
      "source": [
        "#Simulation of a TEG dehdyration process\n",
        "In this notebook we will establish code for using NeqSim for simulation of a TEG dehdyration process."
      ]
    },
    {
      "cell_type": "code",
      "metadata": {
        "id": "aAQ-BaKDMN6B"
      },
      "source": [
        "# Setting up the Colab page to use neqsim\n",
        "%%capture\n",
        "!pip install neqsim\n",
        "import neqsim\n",
        "from neqsim.thermo.thermoTools import *"
      ],
      "execution_count": 5,
      "outputs": []
    },
    {
      "cell_type": "markdown",
      "metadata": {
        "id": "Lkyxsf5pM9Wx"
      },
      "source": [
        "# Seting up the process in Python code\n"
      ]
    },
    {
      "cell_type": "code",
      "metadata": {
        "id": "0QXUhIsMP-9C"
      },
      "source": [
        "#Input parameters\n",
        "inputData = {\n",
        "  \"feedGasFlowRate\": (117000.0+90000.0)*24.0/1.0e6,\n",
        "  \"feedGasTemperature\": 30.0,\n",
        "  \"feedGasPressure\": 44.0,\n",
        "  \"absorberFeedGasTemperature\": 30.7,\n",
        "  \"absorberFeedGasPressure\": 44.0,\n",
        "  \"leanTEGFlowRate\": 5932.0*1.1,\n",
        "  \"leanTEGTemperature\": 36.2,\n",
        "  \"flashDrumPressure\": 6.0,\n",
        "  \"reboilerPressure\": 1.3,\n",
        "  \"condenserTemperature\": 94.0,\n",
        "  \"condenserPressure\": 1.2,\n",
        "  \"reboilerTemperature\": 201.0,\n",
        "  \"strippingGasRate\": 300.0,\n",
        "  \"strippingGasFeedTemperature\": 200.0,\n",
        "  \"regenerationGasCoolerTemperature\": 35.0,\n",
        "  \"TEGpumpIsentropicEfficiency\": 0.75,\n",
        "  'finefilterdeltaP': 0.01,\n",
        "  'carbonfilterdeltaP': 0.01,\n",
        "  \"numberOfEquilibriumStagesTEGabsorber\": 4,\n",
        "  \"stageEfficiencyTEGabsorber\": 0.53,\n",
        "  \"stageEfficiencyStripper\": 0.5,\n",
        "  \"numberOfEquilibriumStagesStripper\": 7,\n",
        "  \"UAvalueLeanRichTEGHeatExchanger\": 16000.0\n",
        "}"
      ],
      "execution_count": 6,
      "outputs": []
    },
    {
      "cell_type": "code",
      "metadata": {
        "id": "aj1M6SDNNCB_"
      },
      "source": [
        "from neqsim.thermo import fluid, printFrame\n",
        "from neqsim.process import getProcess, clearProcess, mixer, heater, stream, pump, separator, runProcess, stream, saturator, valve, filters, heatExchanger, simpleTEGAbsorber,distillationColumn, waterStripperColumn, recycle2, setpoint, calculator\n",
        "\n",
        "clearProcess()\n",
        "\n",
        "# Start by creating a fluid in neqsim\n",
        "feedGas = fluid(\"cpa\")  # create a fluid using the SRK-Eo\n",
        "feedGas.addComponent(\"nitrogen\", 1.0)\n",
        "feedGas.addComponent(\"CO2\", 2.0)\n",
        "feedGas.addComponent(\"methane\", 85.0)\n",
        "feedGas.addComponent(\"ethane\", 5.0)\n",
        "feedGas.addComponent(\"propane\", 3.0)\n",
        "feedGas.addComponent(\"i-butane\", 2.0)\n",
        "feedGas.addComponent(\"n-butane\", 2.0)\n",
        "feedGas.addComponent(\"water\", 0.0)\n",
        "feedGas.addComponent(\"TEG\", 0.0)\n",
        "feedGas.setMixingRule(10)\n",
        "\n",
        "dryFeedGas = stream(feedGas)\n",
        "dryFeedGas.setName('dry feed gas')\n",
        "dryFeedGas.setFlowRate(inputData['feedGasFlowRate'], 'MSm3/day')\n",
        "dryFeedGas.setTemperature(inputData['feedGasTemperature'], 'C')\n",
        "dryFeedGas.setPressure(inputData['feedGasPressure'], 'bara')\n",
        "\n",
        "saturatedFeedGas = saturator(dryFeedGas)\n",
        "saturatedFeedGas.setName(\"water saturator\")\n",
        "\n",
        "waterSaturatedFeedGas = stream(saturatedFeedGas.getOutStream())\n",
        "waterSaturatedFeedGas.setName(\"water saturated feed gas\")\n",
        "\n",
        "feedTEG = feedGas.clone()\n",
        "feedTEG.setMolarComposition([0.0, 0.0, 0.0, 0.0, 0.0, 0.0, 0.0, 0.015, 0.985])\n",
        "\n",
        "feedTPsetterToAbsorber = heater(waterSaturatedFeedGas)\n",
        "feedTPsetterToAbsorber.setOutPressure(inputData['absorberFeedGasPressure'], \"bara\")\n",
        "feedTPsetterToAbsorber.setOutTemperature(inputData['absorberFeedGasTemperature'], \"C\")\n",
        "\n",
        "feedToAbsorber = stream(feedTPsetterToAbsorber.getOutStream())\n",
        "feedToAbsorber.setName(\"feed to TEG absorber\")\n",
        "\n",
        "TEGFeed = stream(feedTEG)\n",
        "TEGFeed.setName('lean TEG to absorber')\n",
        "TEGFeed.setFlowRate(inputData['leanTEGFlowRate'], 'kg/hr')\n",
        "TEGFeed.setTemperature(inputData['leanTEGTemperature'], 'C')\n",
        "TEGFeed.setPressure(inputData['absorberFeedGasPressure'], 'bara')\n",
        "\n",
        "absorber = simpleTEGAbsorber()\n",
        "absorber.setName(\"TEG absorber\")\n",
        "absorber.addGasInStream(feedToAbsorber)\n",
        "absorber.addSolventInStream(TEGFeed)\n",
        "absorber.setNumberOfStages(inputData['numberOfEquilibriumStagesTEGabsorber'])\n",
        "absorber.setStageEfficiency(inputData['stageEfficiencyTEGabsorber'])\n",
        "absorber.setInternalDiameter(1.7)\n",
        "\n",
        "dehydratedGas = stream(absorber.getGasOutStream())\n",
        "dehydratedGas.setName('dry gas from absorber')\n",
        "\n",
        "richTEG = stream(absorber.getSolventOutStream())\n",
        "richTEG.setName(\"rich TEG from absorber\")\n",
        "\n",
        "glycol_flash_valve = valve(richTEG)\n",
        "glycol_flash_valve.setName(\"Rich TEG HP flash valve\")\n",
        "glycol_flash_valve.setOutletPressure(inputData['flashDrumPressure'])\n",
        "\n",
        "richGLycolHeaterCondenser = heater(glycol_flash_valve.getOutStream())\n",
        "richGLycolHeaterCondenser.setName(\"rich TEG preheater\")\n",
        "\n",
        "\n",
        "flashSep = separator(richGLycolHeaterCondenser.getOutStream())\n",
        "flashSep.setName(\"degasing separator\")\n",
        "\n",
        "flashGas = stream(flashSep.getGasOutStream())\n",
        "flashGas.setName(\"gas from degasing separator\")\n",
        "\n",
        "flashLiquid = stream(flashSep.getLiquidOutStream())\n",
        "flashLiquid.setName(\"liquid from degasing separator\")\n",
        "\n",
        "fineFilter = filters(flashLiquid)\n",
        "fineFilter.setName(\"TEG fine filter\")\n",
        "fineFilter.setDeltaP(inputData['finefilterdeltaP'], \"bara\")\n",
        "\n",
        "heatEx = heatExchanger(fineFilter.getOutStream())\n",
        "heatEx.setName(\"lean/rich TEG heat-exchanger\")\n",
        "heatEx.setGuessOutTemperature(273.15 + 130.0)\n",
        "heatEx.setUAvalue(inputData['UAvalueLeanRichTEGHeatExchanger'])\n",
        "\n",
        "glycol_flash_valve2 = valve(heatEx.getOutStream(0))\n",
        "glycol_flash_valve2.setName(\"Rich TEG LP flash valve\")\n",
        "glycol_flash_valve2.setOutletPressure(inputData['reboilerPressure'])\n",
        "\n",
        "stripGas = feedGas.clone()\n",
        "\n",
        "strippingGas = stream(stripGas)\n",
        "strippingGas.setName('stripGas')\n",
        "strippingGas.setFlowRate(inputData['strippingGasRate'], \"Sm3/hr\")\n",
        "strippingGas.setTemperature(inputData['strippingGasFeedTemperature'], \"C\")\n",
        "strippingGas.setPressure(inputData['reboilerPressure'], \"bara\")\n",
        "\n",
        "gasToReboiler = strippingGas.clone()\n",
        "gasToReboiler.setName(\"gas to reboiler\")\n",
        "\n",
        "column = distillationColumn(1, True, True)\n",
        "column.setName(\"TEG regeneration column\")\n",
        "column.addFeedStream(glycol_flash_valve2.getOutStream(), 0)\n",
        "column.getReboiler().setOutTemperature(273.15 + inputData['reboilerTemperature'])\n",
        "column.getCondenser().setOutTemperature(273.15 + inputData['condenserTemperature'])\n",
        "column.getReboiler().addStream(gasToReboiler)\n",
        "column.setTopPressure(inputData['condenserPressure'])\n",
        "column.setBottomPressure(inputData['reboilerPressure'])\n",
        "\n",
        "coolerRegenGas = heater(column.getGasOutStream())\n",
        "coolerRegenGas.setName(\"regen gas cooler\")\n",
        "coolerRegenGas.setOutTemperature(273.15 + inputData['regenerationGasCoolerTemperature'])\n",
        "\n",
        "sepregenGas = separator(coolerRegenGas.getOutStream())\n",
        "sepregenGas.setName(\"regen gas separator\");\n",
        "\n",
        "gasToFlare = stream(sepregenGas.getGasOutStream())\n",
        "gasToFlare.setName(\"gas to flare\");\n",
        "\n",
        "liquidToTrreatment = stream(sepregenGas.getLiquidOutStream())\n",
        "liquidToTrreatment.setName(\"water to treatment\")\n",
        "\n",
        "stripper = waterStripperColumn(\"TEG stripper\")\n",
        "stripper.addSolventInStream(column.getLiquidOutStream())\n",
        "stripper.addGasInStream(strippingGas)\n",
        "stripper.setNumberOfStages(inputData['numberOfEquilibriumStagesStripper'])\n",
        "stripper.setStageEfficiency(inputData['stageEfficiencyStripper'])\n",
        "\n",
        "recycleGasFromStripper = recycle2(\"stripping gas recirc\")\n",
        "recycleGasFromStripper.addStream(stripper.getGasOutStream())\n",
        "recycleGasFromStripper.setOutletStream(gasToReboiler)\n",
        "\n",
        "heatEx.setFeedStream(1, stripper.getSolventOutStream())\n",
        "\n",
        "coolerhOTteg3 = heater(heatEx.getOutStream(1))\n",
        "coolerhOTteg3.setName(\"lean TEG cooler\")\n",
        "coolerhOTteg3.setOutTemperature(273.15 + inputData['leanTEGTemperature'])\n",
        "\n",
        "hotLeanTEGPump2 = pump(coolerhOTteg3.getOutStream(), inputData['absorberFeedGasPressure'], \"lean TEG HP pump\")\n",
        "hotLeanTEGPump2.setName(\"lean TEG HP pump\")\n",
        "hotLeanTEGPump2.setOutletPressure(inputData['absorberFeedGasPressure'])\n",
        "hotLeanTEGPump2.setIsentropicEfficiency(inputData['TEGpumpIsentropicEfficiency'])\n",
        "\n",
        "pumpHPPresSet = setpoint(\"HP pump set\", hotLeanTEGPump2, \"pressure\", feedToAbsorber)\n",
        "\n",
        "leanTEGtoabs = stream(hotLeanTEGPump2.getOutStream())\n",
        "leanTEGtoabs.setName(\"lean TEG to absorber\")\n",
        "\n",
        "pureTEG = feedGas.clone()\n",
        "pureTEG.setMolarComposition([0.0, 0.0, 0.0, 0.0, 0.0, 0.0, 0.0, 0.0, 1.0])\n",
        "\n",
        "makeupTEG = stream(pureTEG)\n",
        "makeupTEG.setName(\"makeup TEG\")\n",
        "makeupTEG.setFlowRate(1e-6, \"kg/hr\")\n",
        "makeupTEG.setTemperature(inputData['leanTEGTemperature'], \"C\")\n",
        "makeupTEG.setPressure(inputData['absorberFeedGasPressure'], \"bara\")\n",
        "\n",
        "makeupCalculator = calculator(\"TEG makeup calculator\")\n",
        "makeupCalculator.addInputVariable(dehydratedGas)\n",
        "makeupCalculator.addInputVariable(flashGas)\n",
        "makeupCalculator.addInputVariable(gasToFlare)\n",
        "makeupCalculator.addInputVariable(liquidToTrreatment)\n",
        "makeupCalculator.setOutputVariable(makeupTEG)\n",
        "\n",
        "makeupMixer = mixer(\"makeup mixer\")\n",
        "makeupMixer.addStream(leanTEGtoabs)\n",
        "makeupMixer.addStream(makeupTEG)\n",
        "\n",
        "resycleLeanTEG = recycle2(\"lean TEG resycle\")\n",
        "resycleLeanTEG.addStream(makeupMixer.getOutStream())\n",
        "resycleLeanTEG.setOutletStream(TEGFeed)\n",
        "resycleLeanTEG.setPriority(200)\n",
        "resycleLeanTEG.setDownstreamProperty(\"flow rate\")\n",
        "\n",
        "richGLycolHeaterCondenser.setEnergyStream(column.getCondenser().getEnergyStream())\n",
        "\n",
        "TEGprocess = getProcess()\n"
      ],
      "execution_count": 7,
      "outputs": []
    },
    {
      "cell_type": "markdown",
      "metadata": {
        "id": "Uy_j4WjugzjL"
      },
      "source": [
        "# Run simulation"
      ]
    },
    {
      "cell_type": "code",
      "metadata": {
        "id": "6652e6uRgzjN"
      },
      "source": [
        "TEGprocess.run()"
      ],
      "execution_count": 8,
      "outputs": []
    },
    {
      "cell_type": "markdown",
      "metadata": {
        "id": "6_ltRQnTgzjP"
      },
      "source": [
        "# Read results from simulation"
      ]
    },
    {
      "cell_type": "code",
      "metadata": {
        "id": "Stn6_CqSgzjR"
      },
      "source": [
        "wetGasRatekghr = TEGprocess.getUnit(\"water saturated feed gas\").getFlowRate(\"kg/hr\")\n",
        "waterInWetGasppm = TEGprocess.getUnit(\"water saturated feed gas\").getFluid().getPhase(0).getComponent('water').getz()*1.0e6\n",
        "waterInDryGasppm = TEGprocess.getUnit(\"dry gas from absorber\").getFluid().getPhase(0).getComponent('water').getz()*1.0e6\n",
        "waterInWetGaskgMSm3 = waterInWetGasppm*0.01802*101325.0/(8.314*288.15)\n",
        "waterInDryGaskgMSm3 = waterInDryGasppm*0.01802*101325.0/(8.314*288.15)\n",
        "waterInWetGaskghr = waterInWetGaskgMSm3*TEGprocess.getUnit(\"water saturated feed gas\").getFlowRate(\"Sm3/day\")/1.0e6/24.0\n",
        "waterInDryGaskghr = waterInDryGaskgMSm3*TEGprocess.getUnit(\"dry gas from absorber\").getFlowRate(\"Sm3/day\")/1.0e6/24.0\n",
        "waterInDryGaskgMSm3 = waterInDryGasppm*0.01802*101325.0/(8.314*288.15)\n",
        "wtLeanTEGFromReboiler = TEGprocess.getUnit(\"TEG regeneration column\").getLiquidOutStream().getFluid().getPhase(\"aqueous\").getWtFrac(\"TEG\")*100.0\n",
        "wtLeanTEGFromStripper = TEGprocess.getUnit(\"TEG stripper\").getSolventOutStream().getFluid().getPhase(\"aqueous\").getWtFrac(\"TEG\")*100.0\n",
        "wtWaterFromStripper = TEGprocess.getUnit(\"TEG stripper\").getSolventOutStream().getFluid().getPhase(\"aqueous\").getWtFrac(\"water\")*100.0\n",
        "wtRichTEGFromAbsorber = TEGprocess.getUnit(\"TEG absorber\").getSolventOutStream().getFluid().getPhase(\"aqueous\").getWtFrac(\"TEG\")*100.0\n",
        "richTEGtemperature = TEGprocess.getUnit(\"TEG absorber\").getSolventOutStream().getFluid().getTemperature(\"C\")\n",
        "waterInRichTEGkghr = TEGprocess.getUnit(\"TEG absorber\").getSolventOutStream().getFluid().getPhase(\"aqueous\").getWtFrac(\"water\")*TEGprocess.getUnit(\"TEG absorber\").getSolventOutStream().getFluid().getFlowRate(\"kg/hr\")\n",
        "TEGcirculationratelitreperkg = TEGprocess.getUnit(\"TEG absorber\").getSolventInStream().getFlowRate(\"kg/hr\")*wtLeanTEGFromStripper/100/waterInWetGaskghr\n",
        "richTEGtemperatureAfterDepres = TEGprocess.getUnit(\"Rich TEG HP flash valve\").getOutStream().getFluid().getTemperature(\"C\")\n",
        "RichTEGwtprbinary = TEGprocess.getUnit(\"TEG absorber\").getSolventOutStream().getFluid().getPhase(\"aqueous\").getWtFrac(\"TEG\")/(TEGprocess.getUnit(\"TEG absorber\").getSolventOutStream().getFluid().getPhase(\"aqueous\").getWtFrac(\"TEG\")+TEGprocess.getUnit(\"TEG absorber\").getSolventOutStream().getFluid().getPhase(\"aqueous\").getWtFrac(\"water\"))*100\n",
        "reboilerdutykW = TEGprocess.getUnit(\"TEG regeneration column\").getReboiler().getDuty()/1.0e3\n",
        "condenserdutykW = TEGprocess.getUnit(\"TEG regeneration column\").getCondenser().getDuty()/1.0e3\n",
        "condensertemperature= TEGprocess.getUnit(\"TEG regeneration column\").getCondenser().getTemperature()-273.15\n",
        "reboilertemperature= TEGprocess.getUnit(\"TEG regeneration column\").getReboiler().getTemperature()-273.15\n",
        "TEGmakeupkghr = TEGprocess.getUnit(\"TEG makeup calculator\").getOutputVariable().getFluid().getFlowRate(\"kg/hr\")\n",
        "TEGmakeupkgMSm3 = TEGmakeupkghr/TEGprocess.getUnit(\"dry feed gas\").getFlowRate(\"Sm3/day\")/1.0e6*24\n",
        "leanTEGflow = TEGprocess.getUnit(\"TEG absorber\").getSolventInStream().getFlowRate(\"kg/hr\")\n",
        "richTEGflow = TEGprocess.getUnit(\"TEG absorber\").getSolventOutStream().getFlowRate(\"kg/hr\")\n",
        "pump2DutykW = TEGprocess.getUnit(\"lean TEG HP pump\").getEnergy()/1.0e3\n",
        "flashGasRate = TEGprocess.getUnit(\"gas from degasing separator\").getFlowRate(\"kg/hr\")\n",
        "gasToFLareRatekghr = TEGprocess.getUnit(\"gas to flare\").getFlowRate(\"kg/hr\")\n",
        "stripGasRatekghr = TEGprocess.getUnit(\"stripGas\").getFlowRate(\"kg/hr\")\n",
        "waterToTreatment = TEGprocess.getUnit(\"water to treatment\").getFlowRate(\"kg/hr\")\n",
        "TEGinwatertoTreatmentwtprecent = TEGprocess.getUnit(\"water to treatment\").getFluid().getPhase(\"aqueous\").getWtFrac(\"TEG\")*100.0\n",
        "flowFromReboiler = TEGprocess.getUnit(\"TEG regeneration column\").getReboiler().getLiquidOutStream().getFlowRate(\"kg/hr\")\n",
        "richTEGpreheaterDutykW = TEGprocess.getUnit(\"rich TEG preheater\").getDuty()/1000.0\n",
        "richTEGpreheaterTemperature = TEGprocess.getUnit(\"rich TEG preheater\").getOutStream().getTemperature(\"C\")\n",
        "richTEGtemperatureOutOfLPflashValve = TEGprocess.getUnit(\"Rich TEG LP flash valve\").getOutStream().getTemperature(\"C\")\n",
        "waterInGasFromCondenser= TEGprocess.getUnit(\"TEG regeneration column\").getCondenser().getGasOutStream().getFlowRate(\"kg/hr\")*TEGprocess.getUnit(\"TEG regeneration column\").getCondenser().getGasOutStream().getFluid().getPhase(0).getWtFrac(\"water\")\n",
        "richTEGtemperatureIntoHX1 = TEGprocess.getUnit(\"lean/rich TEG heat-exchanger\").getOutStream(0).getTemperature(\"C\")\n",
        "richTEGtemperatureOutHX1 = TEGprocess.getUnit(\"lean/rich TEG heat-exchanger\").getOutStream(0).getTemperature(\"C\")\n",
        "leanTEGtemperatureintoHX1  = TEGprocess.getUnit(\"lean/rich TEG heat-exchanger\").getOutStream(1).getTemperature(\"C\")   \n",
        "leanTEGtemperatureoutTEGHX1 =  TEGprocess.getUnit(\"lean/rich TEG heat-exchanger\").getOutStream(1).getTemperature(\"C\")\n"
      ],
      "execution_count": 9,
      "outputs": []
    },
    {
      "cell_type": "markdown",
      "metadata": {
        "id": "e4jcFEtZgzjT"
      },
      "source": [
        "# Update and run simulation"
      ]
    },
    {
      "cell_type": "code",
      "metadata": {
        "id": "cPZMQ9OOgzjU"
      },
      "source": [
        "dryFeedGas.setTemperature(35.0, 'C')\n",
        "TEGprocess.run()\n",
        "waterInDryGasppm = TEGprocess.getUnit(\"dry gas from absorber\").getFluid().getPhase(0).getComponent('water').getz()*1.0e6"
      ],
      "execution_count": null,
      "outputs": []
    },
    {
      "cell_type": "code",
      "metadata": {
        "id": "I9FbeaGugzjU"
      },
      "source": [
        "waterInWetGasppm"
      ],
      "execution_count": null,
      "outputs": []
    }
  ]
}