{
  "nbformat": 4,
  "nbformat_minor": 2,
  "metadata": {
    "colab": {
      "name": "simulationTEG.ipynb",
      "provenance": [],
      "authorship_tag": "ABX9TyMsv5FsrNC1o5kkYLNqLPPV",
      "include_colab_link": true
    },
    "kernelspec": {
      "name": "python3",
      "display_name": "Python 3.7.9 64-bit ('base': conda)"
    },
    "language_info": {
      "name": "python",
      "version": "3.7.9",
      "mimetype": "text/x-python",
      "codemirror_mode": {
        "name": "ipython",
        "version": 3
      },
      "pygments_lexer": "ipython3",
      "nbconvert_exporter": "python",
      "file_extension": ".py"
    },
    "interpreter": {
      "hash": "a5df7bd4ca0d6bb9986d9d69faf4f6c25893f82bf7982e9868ee8495bd8c927f"
    }
  },
  "cells": [
    {
      "cell_type": "markdown",
      "source": [
        "<a href=\"https://colab.research.google.com/github/EvenSol/NeqSim-Colab/blob/master/notebooks/process/simulationTEG.ipynb\" target=\"_parent\"><img src=\"https://colab.research.google.com/assets/colab-badge.svg\" alt=\"Open In Colab\"/></a>"
      ],
      "metadata": {
        "id": "view-in-github",
        "colab_type": "text"
      }
    },
    {
      "cell_type": "markdown",
      "source": [
        "#Simulation of a TEG dehdyration process\n",
        "In this notebook we will establish code for using NeqSim for simulation of a TEG dehdyration process."
      ],
      "metadata": {
        "id": "7eMsnESCMQRB"
      }
    },
    {
      "cell_type": "code",
      "execution_count": 1,
      "source": [
        "# Setting up the Colab page to use neqsim\r\n",
        "%%capture\r\n",
        "!pip install neqsim\r\n",
        "import neqsim\r\n",
        "from neqsim.thermo.thermoTools import *"
      ],
      "outputs": [
        {
          "output_type": "stream",
          "name": "stderr",
          "text": [
            "UsageError: Line magic function `%%capture` not found.\n"
          ]
        }
      ],
      "metadata": {
        "id": "aAQ-BaKDMN6B"
      }
    },
    {
      "cell_type": "markdown",
      "source": [
        "# Seting up the process in Python code\r\n"
      ],
      "metadata": {
        "id": "Lkyxsf5pM9Wx"
      }
    },
    {
      "cell_type": "code",
      "execution_count": 2,
      "source": [
        "#Input parameters\r\n",
        "inputData = {\r\n",
        "  \"feedGasFlowRate\": (117000.0+90000.0)*24.0/1.0e6,\r\n",
        "  \"feedGasTemperature\": 30.0,\r\n",
        "  \"feedGasPressure\": 44.0,\r\n",
        "  \"absorberFeedGasTemperature\": 30.7,\r\n",
        "  \"absorberFeedGasPressure\": 44.0,\r\n",
        "  \"leanTEGFlowRate\": 5932.0*1.1,\r\n",
        "  \"leanTEGTemperature\": 36.2,\r\n",
        "  \"flashDrumPressure\": 6.0,\r\n",
        "  \"reboilerPressure\": 1.3,\r\n",
        "  \"condenserTemperature\": 94.0,\r\n",
        "  \"condenserPressure\": 1.2,\r\n",
        "  \"reboilerTemperature\": 201.0,\r\n",
        "  \"strippingGasRate\": 300.0,\r\n",
        "  \"strippingGasFeedTemperature\": 200.0,\r\n",
        "  \"regenerationGasCoolerTemperature\": 35.0,\r\n",
        "  \"TEGpumpIsentropicEfficiency\": 0.75,\r\n",
        "  'finefilterdeltaP': 0.01,\r\n",
        "  'carbonfilterdeltaP': 0.01,\r\n",
        "  \"numberOfEquilibriumStagesTEGabsorber\": 4,\r\n",
        "  \"stageEfficiencyTEGabsorber\": 0.53,\r\n",
        "  \"stageEfficiencyStripper\": 0.5,\r\n",
        "  \"numberOfEquilibriumStagesStripper\": 7,\r\n",
        "  \"UAvalueLeanRichTEGHeatExchanger\": 16000.0\r\n",
        "}"
      ],
      "outputs": [],
      "metadata": {
        "id": "0QXUhIsMP-9C"
      }
    },
    {
      "cell_type": "code",
      "execution_count": 3,
      "source": [
        "from neqsim.thermo import fluid, printFrame\r\n",
        "from neqsim.process import getProcess, clearProcess, mixer, heater, stream, pump, separator, runProcess, stream, saturator, valve, filters, heatExchanger, simpleTEGAbsorber,distillationColumn, waterStripperColumn, recycle2, setpoint, calculator\r\n",
        "\r\n",
        "clearProcess()\r\n",
        "\r\n",
        "# Start by creating a fluid in neqsim\r\n",
        "feedGas = fluid(\"cpa\")  # create a fluid using the SRK-Eo\r\n",
        "feedGas.addComponent(\"nitrogen\", 1.0)\r\n",
        "feedGas.addComponent(\"CO2\", 2.0)\r\n",
        "feedGas.addComponent(\"methane\", 85.0)\r\n",
        "feedGas.addComponent(\"ethane\", 5.0)\r\n",
        "feedGas.addComponent(\"propane\", 3.0)\r\n",
        "feedGas.addComponent(\"i-butane\", 2.0)\r\n",
        "feedGas.addComponent(\"n-butane\", 2.0)\r\n",
        "feedGas.addComponent(\"water\", 0.0)\r\n",
        "feedGas.addComponent(\"TEG\", 0.0)\r\n",
        "feedGas.setMixingRule(10)\r\n",
        "\r\n",
        "dryFeedGas = stream(feedGas)\r\n",
        "dryFeedGas.setName('dry feed gas')\r\n",
        "dryFeedGas.setFlowRate(inputData['feedGasFlowRate'], 'MSm3/day')\r\n",
        "dryFeedGas.setTemperature(inputData['feedGasTemperature'], 'C')\r\n",
        "dryFeedGas.setPressure(inputData['feedGasPressure'], 'bara')\r\n",
        "\r\n",
        "saturatedFeedGas = saturator(dryFeedGas)\r\n",
        "saturatedFeedGas.setName(\"water saturator\")\r\n",
        "\r\n",
        "waterSaturatedFeedGas = stream(saturatedFeedGas.getOutStream())\r\n",
        "waterSaturatedFeedGas.setName(\"water saturated feed gas\")\r\n",
        "\r\n",
        "feedTEG = feedGas.clone()\r\n",
        "feedTEG.setMolarComposition([0.0, 0.0, 0.0, 0.0, 0.0, 0.0, 0.0, 0.015, 0.985])\r\n",
        "\r\n",
        "feedTPsetterToAbsorber = heater(waterSaturatedFeedGas)\r\n",
        "feedTPsetterToAbsorber.setOutPressure(inputData['absorberFeedGasPressure'], \"bara\")\r\n",
        "feedTPsetterToAbsorber.setOutTemperature(inputData['absorberFeedGasTemperature'], \"C\")\r\n",
        "\r\n",
        "feedToAbsorber = stream(feedTPsetterToAbsorber.getOutStream())\r\n",
        "feedToAbsorber.setName(\"feed to TEG absorber\")\r\n",
        "\r\n",
        "TEGFeed = stream(feedTEG)\r\n",
        "TEGFeed.setName('lean TEG to absorber')\r\n",
        "TEGFeed.setFlowRate(inputData['leanTEGFlowRate'], 'kg/hr')\r\n",
        "TEGFeed.setTemperature(inputData['leanTEGTemperature'], 'C')\r\n",
        "TEGFeed.setPressure(inputData['absorberFeedGasPressure'], 'bara')\r\n",
        "\r\n",
        "absorber = simpleTEGAbsorber()\r\n",
        "absorber.setName(\"TEG absorber\")\r\n",
        "absorber.addGasInStream(feedToAbsorber)\r\n",
        "absorber.addSolventInStream(TEGFeed)\r\n",
        "absorber.setNumberOfStages(inputData['numberOfEquilibriumStagesTEGabsorber'])\r\n",
        "absorber.setStageEfficiency(inputData['stageEfficiencyTEGabsorber'])\r\n",
        "absorber.setInternalDiameter(1.7)\r\n",
        "\r\n",
        "dehydratedGas = stream(absorber.getGasOutStream())\r\n",
        "dehydratedGas.setName('dry gas from absorber')\r\n",
        "\r\n",
        "richTEG = stream(absorber.getSolventOutStream())\r\n",
        "richTEG.setName(\"rich TEG from absorber\")\r\n",
        "\r\n",
        "glycol_flash_valve = valve(richTEG)\r\n",
        "glycol_flash_valve.setName(\"Rich TEG HP flash valve\")\r\n",
        "glycol_flash_valve.setOutletPressure(inputData['flashDrumPressure'])\r\n",
        "\r\n",
        "richGLycolHeaterCondenser = heater(glycol_flash_valve.getOutStream())\r\n",
        "richGLycolHeaterCondenser.setName(\"rich TEG preheater\")\r\n",
        "\r\n",
        "\r\n",
        "flashSep = separator(richGLycolHeaterCondenser.getOutStream())\r\n",
        "flashSep.setName(\"degasing separator\")\r\n",
        "\r\n",
        "flashGas = stream(flashSep.getGasOutStream())\r\n",
        "flashGas.setName(\"gas from degasing separator\")\r\n",
        "\r\n",
        "flashLiquid = stream(flashSep.getLiquidOutStream())\r\n",
        "flashLiquid.setName(\"liquid from degasing separator\")\r\n",
        "\r\n",
        "fineFilter = filters(flashLiquid)\r\n",
        "fineFilter.setName(\"TEG fine filter\")\r\n",
        "fineFilter.setDeltaP(inputData['finefilterdeltaP'], \"bara\")\r\n",
        "\r\n",
        "heatEx = heatExchanger(fineFilter.getOutStream())\r\n",
        "heatEx.setName(\"lean/rich TEG heat-exchanger\")\r\n",
        "heatEx.setGuessOutTemperature(273.15 + 130.0)\r\n",
        "heatEx.setUAvalue(inputData['UAvalueLeanRichTEGHeatExchanger'])\r\n",
        "\r\n",
        "glycol_flash_valve2 = valve(heatEx.getOutStream(0))\r\n",
        "glycol_flash_valve2.setName(\"Rich TEG LP flash valve\")\r\n",
        "glycol_flash_valve2.setOutletPressure(inputData['reboilerPressure'])\r\n",
        "\r\n",
        "stripGas = feedGas.clone()\r\n",
        "\r\n",
        "strippingGas = stream(stripGas)\r\n",
        "strippingGas.setName('stripGas')\r\n",
        "strippingGas.setFlowRate(inputData['strippingGasRate'], \"Sm3/hr\")\r\n",
        "strippingGas.setTemperature(inputData['strippingGasFeedTemperature'], \"C\")\r\n",
        "strippingGas.setPressure(inputData['reboilerPressure'], \"bara\")\r\n",
        "\r\n",
        "gasToReboiler = strippingGas.clone()\r\n",
        "gasToReboiler.setName(\"gas to reboiler\")\r\n",
        "\r\n",
        "column = distillationColumn(1, True, True)\r\n",
        "column.setName(\"TEG regeneration column\")\r\n",
        "column.addFeedStream(glycol_flash_valve2.getOutStream(), 0)\r\n",
        "column.getReboiler().setOutTemperature(273.15 + inputData['reboilerTemperature'])\r\n",
        "column.getCondenser().setOutTemperature(273.15 + inputData['condenserTemperature'])\r\n",
        "column.getReboiler().addStream(gasToReboiler)\r\n",
        "column.setTopPressure(inputData['condenserPressure'])\r\n",
        "column.setBottomPressure(inputData['reboilerPressure'])\r\n",
        "\r\n",
        "coolerRegenGas = heater(column.getGasOutStream())\r\n",
        "coolerRegenGas.setName(\"regen gas cooler\")\r\n",
        "coolerRegenGas.setOutTemperature(273.15 + inputData['regenerationGasCoolerTemperature'])\r\n",
        "\r\n",
        "sepregenGas = separator(coolerRegenGas.getOutStream())\r\n",
        "sepregenGas.setName(\"regen gas separator\");\r\n",
        "\r\n",
        "gasToFlare = stream(sepregenGas.getGasOutStream())\r\n",
        "gasToFlare.setName(\"gas to flare\");\r\n",
        "\r\n",
        "liquidToTrreatment = stream(sepregenGas.getLiquidOutStream())\r\n",
        "liquidToTrreatment.setName(\"water to treatment\")\r\n",
        "\r\n",
        "stripper = waterStripperColumn(\"TEG stripper\")\r\n",
        "stripper.addSolventInStream(column.getLiquidOutStream())\r\n",
        "stripper.addGasInStream(strippingGas)\r\n",
        "stripper.setNumberOfStages(inputData['numberOfEquilibriumStagesStripper'])\r\n",
        "stripper.setStageEfficiency(inputData['stageEfficiencyStripper'])\r\n",
        "\r\n",
        "recycleGasFromStripper = recycle2(\"stripping gas recirc\")\r\n",
        "recycleGasFromStripper.addStream(stripper.getGasOutStream())\r\n",
        "recycleGasFromStripper.setOutletStream(gasToReboiler)\r\n",
        "\r\n",
        "heatEx.setFeedStream(1, stripper.getSolventOutStream())\r\n",
        "\r\n",
        "coolerhOTteg3 = heater(heatEx.getOutStream(1))\r\n",
        "coolerhOTteg3.setName(\"lean TEG cooler\")\r\n",
        "coolerhOTteg3.setOutTemperature(273.15 + inputData['leanTEGTemperature'])\r\n",
        "\r\n",
        "hotLeanTEGPump2 = pump(coolerhOTteg3.getOutStream(), inputData['absorberFeedGasPressure'], \"lean TEG HP pump\")\r\n",
        "hotLeanTEGPump2.setName(\"lean TEG HP pump\")\r\n",
        "hotLeanTEGPump2.setOutletPressure(inputData['absorberFeedGasPressure'])\r\n",
        "hotLeanTEGPump2.setIsentropicEfficiency(inputData['TEGpumpIsentropicEfficiency'])\r\n",
        "\r\n",
        "pumpHPPresSet = setpoint(\"HP pump set\", hotLeanTEGPump2, \"pressure\", feedToAbsorber)\r\n",
        "\r\n",
        "leanTEGtoabs = stream(hotLeanTEGPump2.getOutStream())\r\n",
        "leanTEGtoabs.setName(\"lean TEG to absorber\")\r\n",
        "\r\n",
        "pureTEG = feedGas.clone()\r\n",
        "pureTEG.setMolarComposition([0.0, 0.0, 0.0, 0.0, 0.0, 0.0, 0.0, 0.0, 1.0])\r\n",
        "\r\n",
        "makeupTEG = stream(pureTEG)\r\n",
        "makeupTEG.setName(\"makeup TEG\")\r\n",
        "makeupTEG.setFlowRate(1e-6, \"kg/hr\")\r\n",
        "makeupTEG.setTemperature(inputData['leanTEGTemperature'], \"C\")\r\n",
        "makeupTEG.setPressure(inputData['absorberFeedGasPressure'], \"bara\")\r\n",
        "\r\n",
        "makeupCalculator = calculator(\"TEG makeup calculator\")\r\n",
        "makeupCalculator.addInputVariable(dehydratedGas)\r\n",
        "makeupCalculator.addInputVariable(flashGas)\r\n",
        "makeupCalculator.addInputVariable(gasToFlare)\r\n",
        "makeupCalculator.addInputVariable(liquidToTrreatment)\r\n",
        "makeupCalculator.setOutputVariable(makeupTEG)\r\n",
        "\r\n",
        "makeupMixer = mixer(\"makeup mixer\")\r\n",
        "makeupMixer.addStream(leanTEGtoabs)\r\n",
        "makeupMixer.addStream(makeupTEG)\r\n",
        "\r\n",
        "resycleLeanTEG = recycle2(\"lean TEG resycle\")\r\n",
        "resycleLeanTEG.addStream(makeupMixer.getOutStream())\r\n",
        "resycleLeanTEG.setOutletStream(TEGFeed)\r\n",
        "resycleLeanTEG.setPriority(200)\r\n",
        "resycleLeanTEG.setDownstreamProperty(\"flow rate\")\r\n",
        "\r\n",
        "richGLycolHeaterCondenser.setEnergyStream(column.getCondenser().getEnergyStream())\r\n",
        "\r\n",
        "TEGprocess = getProcess()\r\n"
      ],
      "outputs": [],
      "metadata": {
        "colab": {
          "base_uri": "https://localhost:8080/",
          "height": 425
        },
        "id": "aj1M6SDNNCB_",
        "outputId": "a4437434-fe4a-4049-fcf2-e98db59540dc"
      }
    },
    {
      "cell_type": "markdown",
      "source": [
        "# Run simulation"
      ],
      "metadata": {}
    },
    {
      "cell_type": "code",
      "execution_count": 30,
      "source": [
        "TEGprocess.run()"
      ],
      "outputs": [],
      "metadata": {}
    },
    {
      "cell_type": "markdown",
      "source": [
        "# Read results from simulation"
      ],
      "metadata": {}
    },
    {
      "cell_type": "code",
      "execution_count": 26,
      "source": [
        "wetGasRatekghr = TEGprocess.getUnit(\"water saturated feed gas\").getFlowRate(\"kg/hr\")\r\n",
        "waterInWetGasppm = TEGprocess.getUnit(\"water saturated feed gas\").getFluid().getPhase(0).getComponent('water').getz()*1.0e6\r\n",
        "waterInDryGasppm = TEGprocess.getUnit(\"dry gas from absorber\").getFluid().getPhase(0).getComponent('water').getz()*1.0e6\r\n",
        "waterInWetGaskgMSm3 = waterInWetGasppm*0.01802*101325.0/(8.314*288.15)\r\n",
        "waterInDryGaskgMSm3 = waterInDryGasppm*0.01802*101325.0/(8.314*288.15)\r\n",
        "waterInWetGaskghr = waterInWetGaskgMSm3*TEGprocess.getUnit(\"water saturated feed gas\").getFlowRate(\"Sm3/day\")/1.0e6/24.0\r\n",
        "waterInDryGaskghr = waterInDryGaskgMSm3*TEGprocess.getUnit(\"dry gas from absorber\").getFlowRate(\"Sm3/day\")/1.0e6/24.0\r\n",
        "waterInDryGaskgMSm3 = waterInDryGasppm*0.01802*101325.0/(8.314*288.15)\r\n",
        "wtLeanTEGFromReboiler = TEGprocess.getUnit(\"TEG regeneration column\").getLiquidOutStream().getFluid().getPhase(\"aqueous\").getWtFrac(\"TEG\")*100.0\r\n",
        "wtLeanTEGFromStripper = TEGprocess.getUnit(\"TEG stripper\").getSolventOutStream().getFluid().getPhase(\"aqueous\").getWtFrac(\"TEG\")*100.0\r\n",
        "wtWaterFromStripper = TEGprocess.getUnit(\"TEG stripper\").getSolventOutStream().getFluid().getPhase(\"aqueous\").getWtFrac(\"water\")*100.0\r\n",
        "wtRichTEGFromAbsorber = TEGprocess.getUnit(\"TEG absorber\").getSolventOutStream().getFluid().getPhase(\"aqueous\").getWtFrac(\"TEG\")*100.0\r\n",
        "richTEGtemperature = TEGprocess.getUnit(\"TEG absorber\").getSolventOutStream().getFluid().getTemperature(\"C\")\r\n",
        "waterInRichTEGkghr = TEGprocess.getUnit(\"TEG absorber\").getSolventOutStream().getFluid().getPhase(\"aqueous\").getWtFrac(\"water\")*TEGprocess.getUnit(\"TEG absorber\").getSolventOutStream().getFluid().getFlowRate(\"kg/hr\")\r\n",
        "TEGcirculationratelitreperkg = TEGprocess.getUnit(\"TEG absorber\").getSolventInStream().getFlowRate(\"kg/hr\")*wtLeanTEGFromStripper/100/waterInWetGaskghr\r\n",
        "richTEGtemperatureAfterDepres = TEGprocess.getUnit(\"Rich TEG HP flash valve\").getOutStream().getFluid().getTemperature(\"C\")\r\n",
        "RichTEGwtprbinary = TEGprocess.getUnit(\"TEG absorber\").getSolventOutStream().getFluid().getPhase(\"aqueous\").getWtFrac(\"TEG\")/(TEGprocess.getUnit(\"TEG absorber\").getSolventOutStream().getFluid().getPhase(\"aqueous\").getWtFrac(\"TEG\")+TEGprocess.getUnit(\"TEG absorber\").getSolventOutStream().getFluid().getPhase(\"aqueous\").getWtFrac(\"water\"))*100\r\n",
        "reboilerdutykW = TEGprocess.getUnit(\"TEG regeneration column\").getReboiler().getDuty()/1.0e3\r\n",
        "condenserdutykW = TEGprocess.getUnit(\"TEG regeneration column\").getCondenser().getDuty()/1.0e3\r\n",
        "condensertemperature= TEGprocess.getUnit(\"TEG regeneration column\").getCondenser().getTemperature()-273.15\r\n",
        "reboilertemperature= TEGprocess.getUnit(\"TEG regeneration column\").getReboiler().getTemperature()-273.15\r\n",
        "TEGmakeupkghr = TEGprocess.getUnit(\"TEG makeup calculator\").getOutputVariable().getFluid().getFlowRate(\"kg/hr\")\r\n",
        "TEGmakeupkgMSm3 = TEGmakeupkghr/TEGprocess.getUnit(\"dry feed gas\").getFlowRate(\"Sm3/day\")/1.0e6*24\r\n",
        "leanTEGflow = TEGprocess.getUnit(\"TEG absorber\").getSolventInStream().getFlowRate(\"kg/hr\")\r\n",
        "richTEGflow = TEGprocess.getUnit(\"TEG absorber\").getSolventOutStream().getFlowRate(\"kg/hr\")\r\n",
        "pump2DutykW = TEGprocess.getUnit(\"lean TEG HP pump\").getEnergy()/1.0e3\r\n",
        "flashGasRate = TEGprocess.getUnit(\"gas from degasing separator\").getFlowRate(\"kg/hr\")\r\n",
        "gasToFLareRatekghr = TEGprocess.getUnit(\"gas to flare\").getFlowRate(\"kg/hr\")\r\n",
        "stripGasRatekghr = TEGprocess.getUnit(\"stripGas\").getFlowRate(\"kg/hr\")\r\n",
        "waterToTreatment = TEGprocess.getUnit(\"water to treatment\").getFlowRate(\"kg/hr\")\r\n",
        "TEGinwatertoTreatmentwtprecent = TEGprocess.getUnit(\"water to treatment\").getFluid().getPhase(\"aqueous\").getWtFrac(\"TEG\")*100.0\r\n",
        "flowFromReboiler = TEGprocess.getUnit(\"TEG regeneration column\").getReboiler().getLiquidOutStream().getFlowRate(\"kg/hr\")\r\n",
        "richTEGpreheaterDutykW = TEGprocess.getUnit(\"rich TEG preheater\").getDuty()/1000.0\r\n",
        "richTEGpreheaterTemperature = TEGprocess.getUnit(\"rich TEG preheater\").getOutStream().getTemperature(\"C\")\r\n",
        "richTEGtemperatureOutOfLPflashValve = TEGprocess.getUnit(\"Rich TEG LP flash valve\").getOutStream().getTemperature(\"C\")\r\n",
        "waterInGasFromCondenser= TEGprocess.getUnit(\"TEG regeneration column\").getCondenser().getGasOutStream().getFlowRate(\"kg/hr\")*TEGprocess.getUnit(\"TEG regeneration column\").getCondenser().getGasOutStream().getFluid().getPhase(0).getWtFrac(\"water\")\r\n",
        "richTEGtemperatureIntoHX1 = TEGprocess.getUnit(\"lean/rich TEG heat-exchanger\").getOutStream(0).getTemperature(\"C\")\r\n",
        "richTEGtemperatureOutHX1 = TEGprocess.getUnit(\"lean/rich TEG heat-exchanger\").getOutStream(0).getTemperature(\"C\")\r\n",
        "leanTEGtemperatureintoHX1  = TEGprocess.getUnit(\"lean/rich TEG heat-exchanger\").getOutStream(1).getTemperature(\"C\")   \r\n",
        "leanTEGtemperatureoutTEGHX1 =  TEGprocess.getUnit(\"lean/rich TEG heat-exchanger\").getOutStream(1).getTemperature(\"C\")\r\n"
      ],
      "outputs": [],
      "metadata": {}
    },
    {
      "cell_type": "markdown",
      "source": [
        "# Update and run simulation"
      ],
      "metadata": {}
    },
    {
      "cell_type": "code",
      "execution_count": 12,
      "source": [
        "dryFeedGas.setTemperature(35.0, 'C')\r\n",
        "TEGprocess.run()\r\n",
        "waterInDryGasppm = TEGprocess.getUnit(\"dry gas from absorber\").getFluid().getPhase(0).getComponent('water').getz()*1.0e6"
      ],
      "outputs": [],
      "metadata": {}
    },
    {
      "cell_type": "code",
      "execution_count": 29,
      "source": [
        "waterInWetGasppm"
      ],
      "outputs": [
        {
          "output_type": "execute_result",
          "data": {
            "text/plain": [
              "1476.5837081998125"
            ]
          },
          "metadata": {},
          "execution_count": 29
        }
      ],
      "metadata": {}
    }
  ]
}