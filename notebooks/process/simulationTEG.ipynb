{
  "nbformat": 4,
  "nbformat_minor": 0,
  "metadata": {
    "colab": {
      "name": "simulationTEG.ipynb",
      "provenance": [],
      "authorship_tag": "ABX9TyMml4/fUpogqDZ7UoIMOREk",
      "include_colab_link": true
    },
    "kernelspec": {
      "name": "python3",
      "display_name": "Python 3"
    },
    "language_info": {
      "name": "python"
    }
  },
  "cells": [
    {
      "cell_type": "markdown",
      "metadata": {
        "id": "view-in-github",
        "colab_type": "text"
      },
      "source": [
        "<a href=\"https://colab.research.google.com/github/EvenSol/NeqSim-Colab/blob/master/notebooks/process/simulationTEG.ipynb\" target=\"_parent\"><img src=\"https://colab.research.google.com/assets/colab-badge.svg\" alt=\"Open In Colab\"/></a>"
      ]
    },
    {
      "cell_type": "markdown",
      "metadata": {
        "id": "7eMsnESCMQRB"
      },
      "source": [
        "#Simulation of a TEG dehdyration process\n",
        "In this notebook we will establish code for using NeqSim for simulation of a TEG dehdyration process."
      ]
    },
    {
      "cell_type": "code",
      "metadata": {
        "id": "aAQ-BaKDMN6B"
      },
      "source": [
        "# Setting up the Colab page to use neqsim\n",
        "%%capture\n",
        "!pip install neqsim\n",
        "import neqsim\n",
        "from neqsim.thermo.thermoTools import *"
      ],
      "execution_count": 2,
      "outputs": []
    },
    {
      "cell_type": "markdown",
      "metadata": {
        "id": "Lkyxsf5pM9Wx"
      },
      "source": [
        "# Seting up the process in Python code\n",
        "...."
      ]
    },
    {
      "cell_type": "code",
      "metadata": {
        "id": "0QXUhIsMP-9C"
      },
      "source": [
        "#Input parameters\n",
        "inputData = {\n",
        "  \"feedGasFlowRate\": (117000.0+90000.0)*24.0/1.0e6,\n",
        "  \"feedGasTemperature\": 30.0,\n",
        "  \"feedGasPressure\": 44.0,\n",
        "  \"absorberFeedGasTemperature\": 30.7,\n",
        "  \"absorberFeedGasPressure\": 44.0,\n",
        "  \"leanTEGFlowRate\": 5932.0,\n",
        "  \"leanTEGTemperature\": 36.2,\n",
        "  \"flashDrumPressure\": 6.0,\n",
        "  \"reboilerPressure\": 1.3,\n",
        "  \"condenserTemperature\": 94.0,\n",
        "  \"condenserPressure\": 1.2,\n",
        "  \"reboilerTemperature\": 201.0,\n",
        "  \"strippingGasRate\": 300.0,\n",
        "  \"strippingGasFeedTemperature\": 200.0,\n",
        "  \"regenerationGasCoolerTemperature\": 35.0,\n",
        "  \"TEGpumpIsentropicEfficiency\": 0.75,\n",
        "  'finefilterdeltaP': 0.01,\n",
        "  'carbonfilterdeltaP': 0.01,\n",
        "  \"numberOfEquilibriumStagesTEGabsorber\": 4,\n",
        "  \"stageEfficiencyTEGabsorber\": 0.53,\n",
        "  \"stageEfficiencyStripper\": 0.5,\n",
        "  \"numberOfEquilibriumStagesStripper\": 7,\n",
        "  \"UAvalueLeanRichTEGHeatExchanger\": 16000.0\n",
        "}"
      ],
      "execution_count": 31,
      "outputs": []
    },
    {
      "cell_type": "code",
      "metadata": {
        "id": "aj1M6SDNNCB_",
        "outputId": "a4437434-fe4a-4049-fcf2-e98db59540dc",
        "colab": {
          "base_uri": "https://localhost:8080/",
          "height": 425
        }
      },
      "source": [
        "from neqsim.thermo import fluid\n",
        "from neqsim import methods\n",
        "from neqsim.process import clearProcess, heater, stream, runProcess, stream, saturator, valve, filters, heatExchanger, simpleTEGAbsorber\n",
        "\n",
        "# Start by creating a fluid in neqsim\n",
        "feedGas = fluid(\"cpa\")  # create a fluid using the SRK-Eo\n",
        "feedGas.addComponent(\"nitrogen\", 1.0)\n",
        "feedGas.addComponent(\"CO2\", 2.0)\n",
        "feedGas.addComponent(\"methane\", 85.0)\n",
        "feedGas.addComponent(\"ethane\", 5.0)\n",
        "feedGas.addComponent(\"propane\", 3.0)\n",
        "feedGas.addComponent(\"i-butane\", 2.0)\n",
        "feedGas.addComponent(\"n-butane\", 2.0)\n",
        "feedGas.addComponent(\"water\", 0.0)\n",
        "feedGas.addComponent(\"TEG\", 0.0)\n",
        "feedGas.setMixingRule(10)\n",
        "\n",
        "dryFeedGas = stream(feedGas)\n",
        "dryFeedGas.setName('dry feed gas')\n",
        "dryFeedGas.setFlowRate(inputData['feedGasFlowRate'], 'MSm3/day')\n",
        "dryFeedGas.setTemperature(inputData['feedGasTemperature'], 'C')\n",
        "dryFeedGas.setPressure(inputData['feedGasPressure'], 'bara')\n",
        "\n",
        "saturatedFeedGas = saturator(dryFeedGas)\n",
        "saturatedFeedGas.setName(\"water saturator\")\n",
        "\n",
        "waterSaturatedFeedGas = stream(saturatedFeedGas.getOutStream())\n",
        "waterSaturatedFeedGas.setName(\"water saturated feed gas\");\n",
        "\n",
        "feedTEG = feedGas.clone();\n",
        "feedTEG.setMolarComposition([0.0, 0.0, 0.0, 0.0, 0.0, 0.0, 0.0, 0.0, 0.0, 0.0, 0.0, 0.0, 0.0, 0.015, 0.985])\n",
        "\n",
        "feedTPsetterToAbsorber = heater(waterSaturatedFeedGas)\n",
        "feedTPsetterToAbsorber.setOutPressure(inputData['absorberFeedGasPressure'], \"bara\")\n",
        "feedTPsetterToAbsorber.setOutTemperature(inputData['absorberFeedGasTemperature'], \"C\")\n",
        "\n",
        "feedToAbsorber = stream(feedTPsetterToAbsorber.getOutStream())\n",
        "feedToAbsorber.setName(\"feed to TEG absorber\")\n",
        "\n",
        "TEGFeed = stream(feedTEG)\n",
        "TEGFeed.setName('lean TEG to absorber')\n",
        "#TEGFeed.setFlowRate(inputData['feedGasFlowRate'], 'MSm3/day')\n",
        "#TEGFeed.setFlowRate(inputData['leanTEGFlowRate'], 'kg/hr')\n",
        "TEGFeed.setTemperature(inputData['leanTEGTemperature'], 'C')\n",
        "TEGFeed.setPressure(inputData['absorberFeedGasPressure'], 'bara')\n",
        "\n",
        "absorber = simpleTEGAbsorber()\n",
        "absorber.setName(\"TEG absorber\")\n",
        "absorber.addGasInStream(feedToAbsorber)\n",
        "absorber.addSolventInStream(TEGFeed)\n",
        "absorber.setNumberOfStages(inputData['numberOfEquilibriumStagesTEGabsorber'])\n",
        "absorber.setStageEfficiency(inputData['stageEfficiencyTEGabsorber'])\n",
        "absorber.setInternalDiameter(1.7)\n",
        "\n",
        "dehydratedGas = stream(absorber.getGasOutStream());\n",
        "dehydratedGas.setName(\"dry gas from absorber\")\n",
        "\n",
        "richTEG = stream(absorber.getSolventOutStream())\n",
        "richTEG.setName(\"rich TEG from absorber\")\n",
        "\n",
        "glycol_flash_valve = valve(richTEG)\n",
        "glycol_flash_valve.setName(\"Rich TEG HP flash valve\")\n",
        "glycol_flash_valve.setOutletPressure(inputData['flashDrumPressure'])\n",
        "\n",
        "richGLycolHeaterCondenser = heater(glycol_flash_valve.getOutStream())\n",
        "richGLycolHeaterCondenser.setName(\"rich TEG preheater\");\n",
        "\n",
        "flashSep = separator(richGLycolHeaterCondenser.getOutStream())\n",
        "flashSep.setName(\"degasing separator\")\n",
        "\n",
        "flashGas = stream(flashSep.getGasOutStream())\n",
        "flashGas.setName(\"gas from degasing separator\")\n",
        "\n",
        "flashLiquid = stream(flashSep.getLiquidOutStream())\n",
        "flashLiquid.setName(\"liquid from degasing separator\")\n",
        "\n",
        "fineFilter = filters(flashLiquid)\n",
        "fineFilter.setName(\"TEG fine filter\")\n",
        "fineFilter.setDeltaP(inputData['finefilterdeltaP'], \"bara\")\n",
        "\n",
        "heatEx = new heatExchanger(carbonFilter.getOutStream())\n",
        "heatEx.setName(\"lean/rich TEG heat-exchanger\")\n",
        "heatEx.setGuessOutTemperature(273.15 + 130.0)\n",
        "heatEx.setUAvalue(inputData['UAvalueLeanRichTEGHeatExchanger'])\n",
        "\n"
      ],
      "execution_count": 40,
      "outputs": [
        {
          "output_type": "error",
          "ename": "java.lang.RuntimeException",
          "evalue": "ignored",
          "traceback": [
            "\u001b[0;31m---------------------------------------------------------------------------\u001b[0m",
            "\u001b[0;31morg.ejml.MatrixDimensionException\u001b[0m         Traceback (most recent call last)",
            "\u001b[0;32m/usr/local/lib/python3.7/dist-packages/_jpype.cpython-37m-x86_64-linux-gnu.so\u001b[0m in \u001b[0;36mneqsim.processSimulation.processEquipment.stream.Stream.setFlowRate\u001b[0;34m()\u001b[0m\n",
            "\u001b[0;32m/usr/local/lib/python3.7/dist-packages/_jpype.cpython-37m-x86_64-linux-gnu.so\u001b[0m in \u001b[0;36mneqsim.thermo.system.SystemSrkCPAstatoil.setTotalFlowRate\u001b[0;34m()\u001b[0m\n",
            "\u001b[0;32m/usr/local/lib/python3.7/dist-packages/_jpype.cpython-37m-x86_64-linux-gnu.so\u001b[0m in \u001b[0;36mneqsim.thermo.system.SystemSrkCPAs.setTotalFlowRate\u001b[0;34m()\u001b[0m\n",
            "\u001b[0;32m/usr/local/lib/python3.7/dist-packages/_jpype.cpython-37m-x86_64-linux-gnu.so\u001b[0m in \u001b[0;36mneqsim.thermo.system.SystemSrkCPA.setTotalFlowRate\u001b[0;34m()\u001b[0m\n",
            "\u001b[0;32m/usr/local/lib/python3.7/dist-packages/_jpype.cpython-37m-x86_64-linux-gnu.so\u001b[0m in \u001b[0;36mneqsim.thermo.system.SystemSrkEos.setTotalFlowRate\u001b[0;34m()\u001b[0m\n",
            "\u001b[0;32m/usr/local/lib/python3.7/dist-packages/_jpype.cpython-37m-x86_64-linux-gnu.so\u001b[0m in \u001b[0;36mneqsim.thermo.system.SystemThermo.setTotalFlowRate\u001b[0;34m()\u001b[0m\n",
            "\u001b[0;32m/usr/local/lib/python3.7/dist-packages/_jpype.cpython-37m-x86_64-linux-gnu.so\u001b[0m in \u001b[0;36mneqsim.thermo.system.SystemSrkCPAstatoil.init\u001b[0;34m()\u001b[0m\n",
            "\u001b[0;32m/usr/local/lib/python3.7/dist-packages/_jpype.cpython-37m-x86_64-linux-gnu.so\u001b[0m in \u001b[0;36mneqsim.thermo.system.SystemSrkCPAs.init\u001b[0;34m()\u001b[0m\n",
            "\u001b[0;32m/usr/local/lib/python3.7/dist-packages/_jpype.cpython-37m-x86_64-linux-gnu.so\u001b[0m in \u001b[0;36mneqsim.thermo.system.SystemSrkCPA.init\u001b[0;34m()\u001b[0m\n",
            "\u001b[0;32m/usr/local/lib/python3.7/dist-packages/_jpype.cpython-37m-x86_64-linux-gnu.so\u001b[0m in \u001b[0;36mneqsim.thermo.system.SystemSrkEos.init\u001b[0;34m()\u001b[0m\n",
            "\u001b[0;32m/usr/local/lib/python3.7/dist-packages/_jpype.cpython-37m-x86_64-linux-gnu.so\u001b[0m in \u001b[0;36mneqsim.thermo.system.SystemThermo.init\u001b[0;34m()\u001b[0m\n",
            "\u001b[0;32m/usr/local/lib/python3.7/dist-packages/_jpype.cpython-37m-x86_64-linux-gnu.so\u001b[0m in \u001b[0;36mneqsim.thermo.system.SystemSrkCPAstatoil.initAnalytic\u001b[0;34m()\u001b[0m\n",
            "\u001b[0;32m/usr/local/lib/python3.7/dist-packages/_jpype.cpython-37m-x86_64-linux-gnu.so\u001b[0m in \u001b[0;36mneqsim.thermo.system.SystemSrkCPAs.initAnalytic\u001b[0;34m()\u001b[0m\n",
            "\u001b[0;32m/usr/local/lib/python3.7/dist-packages/_jpype.cpython-37m-x86_64-linux-gnu.so\u001b[0m in \u001b[0;36mneqsim.thermo.system.SystemSrkCPA.initAnalytic\u001b[0;34m()\u001b[0m\n",
            "\u001b[0;32m/usr/local/lib/python3.7/dist-packages/_jpype.cpython-37m-x86_64-linux-gnu.so\u001b[0m in \u001b[0;36mneqsim.thermo.system.SystemSrkEos.initAnalytic\u001b[0;34m()\u001b[0m\n",
            "\u001b[0;32m/usr/local/lib/python3.7/dist-packages/_jpype.cpython-37m-x86_64-linux-gnu.so\u001b[0m in \u001b[0;36mneqsim.thermo.system.SystemThermo.initAnalytic\u001b[0;34m()\u001b[0m\n",
            "\u001b[0;32m/usr/local/lib/python3.7/dist-packages/_jpype.cpython-37m-x86_64-linux-gnu.so\u001b[0m in \u001b[0;36mneqsim.thermo.phase.PhaseSrkCPA.init\u001b[0;34m()\u001b[0m\n",
            "\u001b[0;32m/usr/local/lib/python3.7/dist-packages/_jpype.cpython-37m-x86_64-linux-gnu.so\u001b[0m in \u001b[0;36mneqsim.thermo.phase.PhaseSrkEos.init\u001b[0;34m()\u001b[0m\n",
            "\u001b[0;32m/usr/local/lib/python3.7/dist-packages/_jpype.cpython-37m-x86_64-linux-gnu.so\u001b[0m in \u001b[0;36mneqsim.thermo.phase.PhaseEos.init\u001b[0;34m()\u001b[0m\n",
            "\u001b[0;32m/usr/local/lib/python3.7/dist-packages/_jpype.cpython-37m-x86_64-linux-gnu.so\u001b[0m in \u001b[0;36mneqsim.thermo.phase.PhaseSrkCPA.molarVolume\u001b[0;34m()\u001b[0m\n",
            "\u001b[0;32m/usr/local/lib/python3.7/dist-packages/_jpype.cpython-37m-x86_64-linux-gnu.so\u001b[0m in \u001b[0;36mneqsim.thermo.phase.PhaseSrkCPA.initCPAMatrix\u001b[0;34m()\u001b[0m\n",
            "\u001b[0;32m/usr/local/lib/python3.7/dist-packages/_jpype.cpython-37m-x86_64-linux-gnu.so\u001b[0m in \u001b[0;36morg.ejml.simple.SimpleBase.mult\u001b[0;34m()\u001b[0m\n",
            "\u001b[0;32m/usr/local/lib/python3.7/dist-packages/_jpype.cpython-37m-x86_64-linux-gnu.so\u001b[0m in \u001b[0;36morg.ejml.simple.ops.SimpleOperations_DDRM.mult\u001b[0;34m()\u001b[0m\n",
            "\u001b[0;32m/usr/local/lib/python3.7/dist-packages/_jpype.cpython-37m-x86_64-linux-gnu.so\u001b[0m in \u001b[0;36morg.ejml.simple.ops.SimpleOperations_DDRM.mult\u001b[0;34m()\u001b[0m\n",
            "\u001b[0;32m/usr/local/lib/python3.7/dist-packages/_jpype.cpython-37m-x86_64-linux-gnu.so\u001b[0m in \u001b[0;36morg.ejml.dense.row.CommonOps_DDRM.mult\u001b[0;34m()\u001b[0m\n",
            "\u001b[0;32m/usr/local/lib/python3.7/dist-packages/_jpype.cpython-37m-x86_64-linux-gnu.so\u001b[0m in \u001b[0;36morg.ejml.dense.row.mult.MatrixVectorMult_DDRM.mult\u001b[0;34m()\u001b[0m\n",
            "\u001b[0;31morg.ejml.MatrixDimensionException\u001b[0m: org.ejml.MatrixDimensionException: A and B are not compatible",
            "\nThe above exception was the direct cause of the following exception:\n",
            "\u001b[0;31mException\u001b[0m                                 Traceback (most recent call last)",
            "\u001b[0;32m/usr/local/lib/python3.7/dist-packages/_jpype.cpython-37m-x86_64-linux-gnu.so\u001b[0m in \u001b[0;36mneqsim.processSimulation.processEquipment.stream.Stream.setFlowRate\u001b[0;34m()\u001b[0m\n",
            "\u001b[0;32m/usr/local/lib/python3.7/dist-packages/_jpype.cpython-37m-x86_64-linux-gnu.so\u001b[0m in \u001b[0;36mneqsim.thermo.system.SystemSrkCPAstatoil.setTotalFlowRate\u001b[0;34m()\u001b[0m\n",
            "\u001b[0;32m/usr/local/lib/python3.7/dist-packages/_jpype.cpython-37m-x86_64-linux-gnu.so\u001b[0m in \u001b[0;36mneqsim.thermo.system.SystemSrkCPAs.setTotalFlowRate\u001b[0;34m()\u001b[0m\n",
            "\u001b[0;32m/usr/local/lib/python3.7/dist-packages/_jpype.cpython-37m-x86_64-linux-gnu.so\u001b[0m in \u001b[0;36mneqsim.thermo.system.SystemSrkCPA.setTotalFlowRate\u001b[0;34m()\u001b[0m\n",
            "\u001b[0;32m/usr/local/lib/python3.7/dist-packages/_jpype.cpython-37m-x86_64-linux-gnu.so\u001b[0m in \u001b[0;36mneqsim.thermo.system.SystemSrkEos.setTotalFlowRate\u001b[0;34m()\u001b[0m\n",
            "\u001b[0;32m/usr/local/lib/python3.7/dist-packages/_jpype.cpython-37m-x86_64-linux-gnu.so\u001b[0m in \u001b[0;36mneqsim.thermo.system.SystemThermo.setTotalFlowRate\u001b[0;34m()\u001b[0m\n",
            "\u001b[0;32m/usr/local/lib/python3.7/dist-packages/_jpype.cpython-37m-x86_64-linux-gnu.so\u001b[0m in \u001b[0;36mneqsim.thermo.system.SystemSrkCPAstatoil.init\u001b[0;34m()\u001b[0m\n",
            "\u001b[0;32m/usr/local/lib/python3.7/dist-packages/_jpype.cpython-37m-x86_64-linux-gnu.so\u001b[0m in \u001b[0;36mneqsim.thermo.system.SystemSrkCPAs.init\u001b[0;34m()\u001b[0m\n",
            "\u001b[0;32m/usr/local/lib/python3.7/dist-packages/_jpype.cpython-37m-x86_64-linux-gnu.so\u001b[0m in \u001b[0;36mneqsim.thermo.system.SystemSrkCPA.init\u001b[0;34m()\u001b[0m\n",
            "\u001b[0;32m/usr/local/lib/python3.7/dist-packages/_jpype.cpython-37m-x86_64-linux-gnu.so\u001b[0m in \u001b[0;36mneqsim.thermo.system.SystemSrkEos.init\u001b[0;34m()\u001b[0m\n",
            "\u001b[0;32m/usr/local/lib/python3.7/dist-packages/_jpype.cpython-37m-x86_64-linux-gnu.so\u001b[0m in \u001b[0;36mneqsim.thermo.system.SystemThermo.init\u001b[0;34m()\u001b[0m\n",
            "\u001b[0;32m/usr/local/lib/python3.7/dist-packages/_jpype.cpython-37m-x86_64-linux-gnu.so\u001b[0m in \u001b[0;36mneqsim.thermo.system.SystemSrkCPAstatoil.initAnalytic\u001b[0;34m()\u001b[0m\n",
            "\u001b[0;32m/usr/local/lib/python3.7/dist-packages/_jpype.cpython-37m-x86_64-linux-gnu.so\u001b[0m in \u001b[0;36mneqsim.thermo.system.SystemSrkCPAs.initAnalytic\u001b[0;34m()\u001b[0m\n",
            "\u001b[0;32m/usr/local/lib/python3.7/dist-packages/_jpype.cpython-37m-x86_64-linux-gnu.so\u001b[0m in \u001b[0;36mneqsim.thermo.system.SystemSrkCPA.initAnalytic\u001b[0;34m()\u001b[0m\n",
            "\u001b[0;32m/usr/local/lib/python3.7/dist-packages/_jpype.cpython-37m-x86_64-linux-gnu.so\u001b[0m in \u001b[0;36mneqsim.thermo.system.SystemSrkEos.initAnalytic\u001b[0;34m()\u001b[0m\n",
            "\u001b[0;32m/usr/local/lib/python3.7/dist-packages/_jpype.cpython-37m-x86_64-linux-gnu.so\u001b[0m in \u001b[0;36mneqsim.thermo.system.SystemThermo.initAnalytic\u001b[0;34m()\u001b[0m\n",
            "\u001b[0;32m/usr/local/lib/python3.7/dist-packages/_jpype.cpython-37m-x86_64-linux-gnu.so\u001b[0m in \u001b[0;36mneqsim.thermo.phase.PhaseSrkCPA.init\u001b[0;34m()\u001b[0m\n",
            "\u001b[0;32m/usr/local/lib/python3.7/dist-packages/_jpype.cpython-37m-x86_64-linux-gnu.so\u001b[0m in \u001b[0;36mneqsim.thermo.phase.PhaseSrkEos.init\u001b[0;34m()\u001b[0m\n",
            "\u001b[0;32m/usr/local/lib/python3.7/dist-packages/_jpype.cpython-37m-x86_64-linux-gnu.so\u001b[0m in \u001b[0;36mneqsim.thermo.phase.PhaseEos.init\u001b[0;34m()\u001b[0m\n",
            "\u001b[0;31mException\u001b[0m: Java Exception",
            "\nThe above exception was the direct cause of the following exception:\n",
            "\u001b[0;31mjava.lang.RuntimeException\u001b[0m                Traceback (most recent call last)",
            "\u001b[0;32m<ipython-input-40-c86667203022>\u001b[0m in \u001b[0;36m<module>\u001b[0;34m()\u001b[0m\n\u001b[1;32m     46\u001b[0m \u001b[0;34m\u001b[0m\u001b[0m\n\u001b[1;32m     47\u001b[0m \u001b[0;34m\u001b[0m\u001b[0m\n\u001b[0;32m---> 48\u001b[0;31m \u001b[0mTEGFeed\u001b[0m\u001b[0;34m.\u001b[0m\u001b[0msetFlowRate\u001b[0m\u001b[0;34m(\u001b[0m\u001b[0;36m1.0\u001b[0m\u001b[0;34m,\u001b[0m \u001b[0;34m'kg/hr'\u001b[0m\u001b[0;34m)\u001b[0m\u001b[0;34m\u001b[0m\u001b[0;34m\u001b[0m\u001b[0m\n\u001b[0m",
            "\u001b[0;31mjava.lang.RuntimeException\u001b[0m: java.lang.RuntimeException: org.ejml.MatrixDimensionException: A and B are not compatible"
          ]
        }
      ]
    }
  ]
}