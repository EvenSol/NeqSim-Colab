{
  "nbformat": 4,
  "nbformat_minor": 0,
  "metadata": {
    "colab": {
      "name": "automatedprocessdesign.ipynb",
      "provenance": [],
      "authorship_tag": "ABX9TyOsUPODiSkkzJ8DjADjOdXs",
      "include_colab_link": true
    },
    "kernelspec": {
      "name": "python3",
      "display_name": "Python 3"
    }
  },
  "cells": [
    {
      "cell_type": "markdown",
      "metadata": {
        "id": "view-in-github",
        "colab_type": "text"
      },
      "source": [
        "<a href=\"https://colab.research.google.com/github/EvenSol/NeqSim-Colab/blob/master/notebooks/process/fluidsandneqsim.ipynb\" target=\"_parent\"><img src=\"https://colab.research.google.com/assets/colab-badge.svg\" alt=\"Open In Colab\"/></a>"
      ]
    },
    {
      "cell_type": "markdown",
      "source": [
        "#Calculation of flow in fittings, valves, orifice plates etc."
      ],
      "metadata": {
        "id": "S3o98-mH3zIb"
      }
    },
    {
      "cell_type": "code",
      "metadata": {
        "id": "ylKgUNRj6PSV"
      },
      "source": [
        "%%capture\n",
        "!pip install neqsim\n",
        "!pip install fluids"
      ],
      "execution_count": 3,
      "outputs": []
    },
    {
      "cell_type": "markdown",
      "metadata": {
        "id": "eGMfD3_26UB_"
      },
      "source": [
        "#Litterature\n",
        "https://ntnuopen.ntnu.no/ntnu-xmlui/handle/11250/2561545?show=full&locale-attribute=en\n",
        "\n"
      ]
    },
    {
      "cell_type": "markdown",
      "source": [
        "# Calculation of valves\n",
        "Control valve sizing: Gas flow"
      ],
      "metadata": {
        "id": "sazeFFg034YR"
      }
    },
    {
      "cell_type": "code",
      "source": [
        "from neqsim.thermo import createfluid, TPflash\n",
        "from fluids.control_valve import size_control_valve_g\n",
        "\n",
        "fluid = createfluid('dry gas')\n",
        "fluid.setPressure(50.0, 'bara')\n",
        "fluid.setTemperature(25.0, 'C')\n",
        "fluid.setTotalFlowRate(1.0, 'MSm3/day')\n",
        "\n",
        "TPflash(fluid)\n",
        "rho = fluid.getDensity('kg/m3')\n",
        "Psat = 1000.0\n",
        "Pc = fluid.getPC()\n",
        "T = fluid.getTemperature('K')\n",
        "MW = fluid.getMolarMass('kg/mol')\n",
        "gamma = fluid.getKappa()\n",
        "mu = fluid.getViscosity()\n",
        "Z = fluid.getZ()\n",
        "P1 = 50.0\n",
        "P2 = 10.0\n",
        "Q = fluid.getFlowRate('kg/hr')\n",
        "D1 = 0.1\n",
        "D2 = 0.12\n",
        "d = 0.11\n",
        "\n",
        "Kv = size_control_valve_g(T, MW, mu, gamma, Z, P1, P2, Q, D1, D2, d, FL=1, Fd=1, xT=.137)\n",
        "Kv_to_Cv(Kv)\n",
        "\n"
      ],
      "metadata": {
        "colab": {
          "base_uri": "https://localhost:8080/",
          "height": 381
        },
        "id": "xrLuNGa-37jy",
        "outputId": "932e7cb4-a9ac-4cf5-d71f-87e303af111f"
      },
      "execution_count": 7,
      "outputs": [
        {
          "output_type": "error",
          "ename": "ZeroDivisionError",
          "evalue": "ignored",
          "traceback": [
            "\u001b[0;31m---------------------------------------------------------------------------\u001b[0m",
            "\u001b[0;31mZeroDivisionError\u001b[0m                         Traceback (most recent call last)",
            "\u001b[0;32m<ipython-input-7-6b84ecb56c66>\u001b[0m in \u001b[0;36m<cell line: 25>\u001b[0;34m()\u001b[0m\n\u001b[1;32m     23\u001b[0m \u001b[0md\u001b[0m \u001b[0;34m=\u001b[0m \u001b[0;36m0.11\u001b[0m\u001b[0;34m\u001b[0m\u001b[0;34m\u001b[0m\u001b[0m\n\u001b[1;32m     24\u001b[0m \u001b[0;34m\u001b[0m\u001b[0m\n\u001b[0;32m---> 25\u001b[0;31m \u001b[0mKv\u001b[0m \u001b[0;34m=\u001b[0m \u001b[0msize_control_valve_g\u001b[0m\u001b[0;34m(\u001b[0m\u001b[0mT\u001b[0m\u001b[0;34m,\u001b[0m \u001b[0mMW\u001b[0m\u001b[0;34m,\u001b[0m \u001b[0mmu\u001b[0m\u001b[0;34m,\u001b[0m \u001b[0mgamma\u001b[0m\u001b[0;34m,\u001b[0m \u001b[0mZ\u001b[0m\u001b[0;34m,\u001b[0m \u001b[0mP1\u001b[0m\u001b[0;34m,\u001b[0m \u001b[0mP2\u001b[0m\u001b[0;34m,\u001b[0m \u001b[0mQ\u001b[0m\u001b[0;34m,\u001b[0m \u001b[0mD1\u001b[0m\u001b[0;34m,\u001b[0m \u001b[0mD2\u001b[0m\u001b[0;34m,\u001b[0m \u001b[0md\u001b[0m\u001b[0;34m,\u001b[0m \u001b[0mFL\u001b[0m\u001b[0;34m=\u001b[0m\u001b[0;36m1\u001b[0m\u001b[0;34m,\u001b[0m \u001b[0mFd\u001b[0m\u001b[0;34m=\u001b[0m\u001b[0;36m1\u001b[0m\u001b[0;34m,\u001b[0m \u001b[0mxT\u001b[0m\u001b[0;34m=\u001b[0m\u001b[0;36m.137\u001b[0m\u001b[0;34m)\u001b[0m\u001b[0;34m\u001b[0m\u001b[0;34m\u001b[0m\u001b[0m\n\u001b[0m\u001b[1;32m     26\u001b[0m \u001b[0mKv_to_Cv\u001b[0m\u001b[0;34m(\u001b[0m\u001b[0mKv\u001b[0m\u001b[0;34m)\u001b[0m\u001b[0;34m\u001b[0m\u001b[0;34m\u001b[0m\u001b[0m\n\u001b[1;32m     27\u001b[0m \u001b[0;34m\u001b[0m\u001b[0m\n",
            "\u001b[0;32m/usr/local/lib/python3.10/dist-packages/fluids/control_valve.py\u001b[0m in \u001b[0;36msize_control_valve_g\u001b[0;34m(T, MW, mu, gamma, Z, P1, P2, Q, D1, D2, d, FL, Fd, xT, allow_choked, allow_laminar, full_output)\u001b[0m\n\u001b[1;32m    898\u001b[0m         \u001b[0;31m# m to mm, according to constants in standard\u001b[0m\u001b[0;34m\u001b[0m\u001b[0;34m\u001b[0m\u001b[0m\n\u001b[1;32m    899\u001b[0m         \u001b[0mD1\u001b[0m\u001b[0;34m,\u001b[0m \u001b[0mD2\u001b[0m\u001b[0;34m,\u001b[0m \u001b[0md\u001b[0m \u001b[0;34m=\u001b[0m \u001b[0mD1\u001b[0m\u001b[0;34m*\u001b[0m\u001b[0;36m1000.\u001b[0m\u001b[0;34m,\u001b[0m \u001b[0mD2\u001b[0m\u001b[0;34m*\u001b[0m\u001b[0;36m1000.\u001b[0m\u001b[0;34m,\u001b[0m \u001b[0md\u001b[0m\u001b[0;34m*\u001b[0m\u001b[0;36m1000.\u001b[0m \u001b[0;31m# Convert diameters to mm which is used in the standard\u001b[0m\u001b[0;34m\u001b[0m\u001b[0;34m\u001b[0m\u001b[0m\n\u001b[0;32m--> 900\u001b[0;31m         \u001b[0mRev\u001b[0m \u001b[0;34m=\u001b[0m \u001b[0mReynolds_valve\u001b[0m\u001b[0;34m(\u001b[0m\u001b[0mnu\u001b[0m\u001b[0;34m=\u001b[0m\u001b[0mnu\u001b[0m\u001b[0;34m,\u001b[0m \u001b[0mQ\u001b[0m\u001b[0;34m=\u001b[0m\u001b[0mQ\u001b[0m\u001b[0;34m,\u001b[0m \u001b[0mD1\u001b[0m\u001b[0;34m=\u001b[0m\u001b[0mD1\u001b[0m\u001b[0;34m,\u001b[0m \u001b[0mFL\u001b[0m\u001b[0;34m=\u001b[0m\u001b[0mFL\u001b[0m\u001b[0;34m,\u001b[0m \u001b[0mFd\u001b[0m\u001b[0;34m=\u001b[0m\u001b[0mFd\u001b[0m\u001b[0;34m,\u001b[0m \u001b[0mC\u001b[0m\u001b[0;34m=\u001b[0m\u001b[0mC\u001b[0m\u001b[0;34m)\u001b[0m\u001b[0;34m\u001b[0m\u001b[0;34m\u001b[0m\u001b[0m\n\u001b[0m\u001b[1;32m    901\u001b[0m         \u001b[0;32mif\u001b[0m \u001b[0mfull_output\u001b[0m\u001b[0;34m:\u001b[0m  \u001b[0;31m# numba: delete\u001b[0m\u001b[0;34m\u001b[0m\u001b[0;34m\u001b[0m\u001b[0m\n\u001b[1;32m    902\u001b[0m             \u001b[0mans\u001b[0m\u001b[0;34m[\u001b[0m\u001b[0;34m'Rev'\u001b[0m\u001b[0;34m]\u001b[0m \u001b[0;34m=\u001b[0m \u001b[0mRev\u001b[0m  \u001b[0;31m# numba: delete\u001b[0m\u001b[0;34m\u001b[0m\u001b[0;34m\u001b[0m\u001b[0m\n",
            "\u001b[0;32m/usr/local/lib/python3.10/dist-packages/fluids/control_valve.py\u001b[0m in \u001b[0;36mReynolds_valve\u001b[0;34m(nu, Q, D1, FL, Fd, C)\u001b[0m\n\u001b[1;32m    440\u001b[0m     \u001b[0;34m.\u001b[0m\u001b[0;34m.\u001b[0m \u001b[0;34m[\u001b[0m\u001b[0;36m1\u001b[0m\u001b[0;34m]\u001b[0m \u001b[0mIEC\u001b[0m \u001b[0;36m60534\u001b[0m\u001b[0;34m-\u001b[0m\u001b[0;36m2\u001b[0m\u001b[0;34m-\u001b[0m\u001b[0;36m1\u001b[0m \u001b[0;34m/\u001b[0m \u001b[0mISA\u001b[0m\u001b[0;34m-\u001b[0m\u001b[0;36m75.01\u001b[0m\u001b[0;36m.01\u001b[0m\u001b[0;34m-\u001b[0m\u001b[0;36m2007\u001b[0m\u001b[0;34m\u001b[0m\u001b[0;34m\u001b[0m\u001b[0m\n\u001b[1;32m    441\u001b[0m     '''\n\u001b[0;32m--> 442\u001b[0;31m     \u001b[0;32mreturn\u001b[0m \u001b[0mN4\u001b[0m\u001b[0;34m*\u001b[0m\u001b[0mFd\u001b[0m\u001b[0;34m*\u001b[0m\u001b[0mQ\u001b[0m\u001b[0;34m/\u001b[0m\u001b[0mnu\u001b[0m\u001b[0;34m*\u001b[0m\u001b[0;36m1.0\u001b[0m\u001b[0;34m/\u001b[0m\u001b[0msqrt\u001b[0m\u001b[0;34m(\u001b[0m\u001b[0mC\u001b[0m\u001b[0;34m*\u001b[0m\u001b[0mFL\u001b[0m\u001b[0;34m)\u001b[0m\u001b[0;34m*\u001b[0m\u001b[0msqrt\u001b[0m\u001b[0;34m(\u001b[0m\u001b[0msqrt\u001b[0m\u001b[0;34m(\u001b[0m\u001b[0mFL\u001b[0m\u001b[0;34m*\u001b[0m\u001b[0mFL\u001b[0m\u001b[0;34m*\u001b[0m\u001b[0mC\u001b[0m\u001b[0;34m*\u001b[0m\u001b[0mC\u001b[0m\u001b[0;34m/\u001b[0m\u001b[0mN2\u001b[0m\u001b[0;34m*\u001b[0m\u001b[0mD1\u001b[0m\u001b[0;34m**\u001b[0m\u001b[0;34m-\u001b[0m\u001b[0;36m4.0\u001b[0m \u001b[0;34m+\u001b[0m \u001b[0;36m1.0\u001b[0m\u001b[0;34m)\u001b[0m\u001b[0;34m)\u001b[0m\u001b[0;34m\u001b[0m\u001b[0;34m\u001b[0m\u001b[0m\n\u001b[0m\u001b[1;32m    443\u001b[0m \u001b[0;34m\u001b[0m\u001b[0m\n\u001b[1;32m    444\u001b[0m \u001b[0;34m\u001b[0m\u001b[0m\n",
            "\u001b[0;31mZeroDivisionError\u001b[0m: float division by zero"
          ]
        }
      ]
    }
  ]
}