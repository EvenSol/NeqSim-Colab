{
  "nbformat": 4,
  "nbformat_minor": 0,
  "metadata": {
    "colab": {
      "name": "automatedprocessdesign.ipynb",
      "provenance": [],
      "authorship_tag": "ABX9TyPKNJDFLxO0on9kQD8g6BxS",
      "include_colab_link": true
    },
    "kernelspec": {
      "name": "python3",
      "display_name": "Python 3"
    }
  },
  "cells": [
    {
      "cell_type": "markdown",
      "metadata": {
        "id": "view-in-github",
        "colab_type": "text"
      },
      "source": [
        "<a href=\"https://colab.research.google.com/github/EvenSol/NeqSim-Colab/blob/master/notebooks/process/fluidsandneqsim.ipynb\" target=\"_parent\"><img src=\"https://colab.research.google.com/assets/colab-badge.svg\" alt=\"Open In Colab\"/></a>"
      ]
    },
    {
      "cell_type": "markdown",
      "source": [
        "#Calculation of flow in fittings, valves, orifice plates etc."
      ],
      "metadata": {
        "id": "S3o98-mH3zIb"
      }
    },
    {
      "cell_type": "code",
      "metadata": {
        "id": "ylKgUNRj6PSV"
      },
      "source": [
        "%%capture\n",
        "!pip install neqsim==2.5.35\n",
        "!pip install fluids"
      ],
      "execution_count": 1,
      "outputs": []
    },
    {
      "cell_type": "markdown",
      "metadata": {
        "id": "eGMfD3_26UB_"
      },
      "source": [
        "#Litterature\n",
        "https://ntnuopen.ntnu.no/ntnu-xmlui/handle/11250/2561545?show=full&locale-attribute=en\n",
        "\n"
      ]
    },
    {
      "cell_type": "markdown",
      "source": [
        "# Calculation of valves\n",
        "Control valve sizing: Gas flow"
      ],
      "metadata": {
        "id": "sazeFFg034YR"
      }
    },
    {
      "cell_type": "code",
      "source": [
        "from neqsim.thermo import createfluid, TPflash\n",
        "from fluids.control_valve import size_control_valve_g\n",
        "\n",
        "fluid = createfluid('dry gas')\n",
        "fluid.setPressure(50.0, 'bara')\n",
        "fluid.setTemperature(25.0, 'C')\n",
        "fluid.setTotalFlowRate(1.0, 'MSm3/day')\n",
        "\n",
        "TPflash(fluid)\n",
        "fluid.initProperties()\n",
        "rho = fluid.getDensity('kg/m3')\n",
        "Psat = 1000.0\n",
        "Pc = fluid.getPC()\n",
        "T = fluid.getTemperature('K')\n",
        "MW = fluid.getMolarMass('kg/mol')\n",
        "gamma = fluid.getKappa()\n",
        "mu = fluid.getViscosity()\n",
        "Z = fluid.getZ()\n",
        "P1 = 50.0\n",
        "P2 = 10.0\n",
        "Q = fluid.getFlowRate('kg/hr')\n",
        "D1 = 0.1\n",
        "D2 = 0.12\n",
        "d = 0.11\n",
        "\n",
        "Kv = size_control_valve_g(T, MW, mu, gamma, Z, P1, P2, Q, D1, D2, d, FL=1, Fd=1, xT=.137)\n",
        "Kv_to_Cv(Kv)\n",
        "\n"
      ],
      "metadata": {
        "colab": {
          "base_uri": "https://localhost:8080/",
          "height": 637
        },
        "id": "xrLuNGa-37jy",
        "outputId": "973a16fc-cf2f-4b51-b6e1-971893162921"
      },
      "execution_count": 3,
      "outputs": [
        {
          "output_type": "error",
          "ename": "ValueError",
          "evalue": "math domain error",
          "traceback": [
            "\u001b[0;31m---------------------------------------------------------------------------\u001b[0m",
            "\u001b[0;31mValueError\u001b[0m                                Traceback (most recent call last)",
            "\u001b[0;32m<ipython-input-3-2e578c0e00e4>\u001b[0m in \u001b[0;36m<cell line: 26>\u001b[0;34m()\u001b[0m\n\u001b[1;32m     24\u001b[0m \u001b[0md\u001b[0m \u001b[0;34m=\u001b[0m \u001b[0;36m0.11\u001b[0m\u001b[0;34m\u001b[0m\u001b[0;34m\u001b[0m\u001b[0m\n\u001b[1;32m     25\u001b[0m \u001b[0;34m\u001b[0m\u001b[0m\n\u001b[0;32m---> 26\u001b[0;31m \u001b[0mKv\u001b[0m \u001b[0;34m=\u001b[0m \u001b[0msize_control_valve_g\u001b[0m\u001b[0;34m(\u001b[0m\u001b[0mT\u001b[0m\u001b[0;34m,\u001b[0m \u001b[0mMW\u001b[0m\u001b[0;34m,\u001b[0m \u001b[0mmu\u001b[0m\u001b[0;34m,\u001b[0m \u001b[0mgamma\u001b[0m\u001b[0;34m,\u001b[0m \u001b[0mZ\u001b[0m\u001b[0;34m,\u001b[0m \u001b[0mP1\u001b[0m\u001b[0;34m,\u001b[0m \u001b[0mP2\u001b[0m\u001b[0;34m,\u001b[0m \u001b[0mQ\u001b[0m\u001b[0;34m,\u001b[0m \u001b[0mD1\u001b[0m\u001b[0;34m,\u001b[0m \u001b[0mD2\u001b[0m\u001b[0;34m,\u001b[0m \u001b[0md\u001b[0m\u001b[0;34m,\u001b[0m \u001b[0mFL\u001b[0m\u001b[0;34m=\u001b[0m\u001b[0;36m1\u001b[0m\u001b[0;34m,\u001b[0m \u001b[0mFd\u001b[0m\u001b[0;34m=\u001b[0m\u001b[0;36m1\u001b[0m\u001b[0;34m,\u001b[0m \u001b[0mxT\u001b[0m\u001b[0;34m=\u001b[0m\u001b[0;36m.137\u001b[0m\u001b[0;34m)\u001b[0m\u001b[0;34m\u001b[0m\u001b[0;34m\u001b[0m\u001b[0m\n\u001b[0m\u001b[1;32m     27\u001b[0m \u001b[0mKv_to_Cv\u001b[0m\u001b[0;34m(\u001b[0m\u001b[0mKv\u001b[0m\u001b[0;34m)\u001b[0m\u001b[0;34m\u001b[0m\u001b[0;34m\u001b[0m\u001b[0m\n\u001b[1;32m     28\u001b[0m \u001b[0;34m\u001b[0m\u001b[0m\n",
            "\u001b[0;32m/usr/local/lib/python3.10/dist-packages/fluids/control_valve.py\u001b[0m in \u001b[0;36msize_control_valve_g\u001b[0;34m(T, MW, mu, gamma, Z, P1, P2, Q, D1, D2, d, FL, Fd, xT, allow_choked, allow_laminar, full_output)\u001b[0m\n\u001b[1;32m    949\u001b[0m \u001b[0;31m#            plt.show()\u001b[0m\u001b[0;34m\u001b[0m\u001b[0;34m\u001b[0m\u001b[0m\n\u001b[1;32m    950\u001b[0m \u001b[0;34m\u001b[0m\u001b[0m\n\u001b[0;32m--> 951\u001b[0;31m             \u001b[0mC\u001b[0m \u001b[0;34m=\u001b[0m \u001b[0miterate_piping_coef_g\u001b[0m\u001b[0;34m(\u001b[0m\u001b[0mC\u001b[0m\u001b[0;34m,\u001b[0m \u001b[0;36m0\u001b[0m\u001b[0;34m)\u001b[0m\u001b[0;34m\u001b[0m\u001b[0;34m\u001b[0m\u001b[0m\n\u001b[0m\u001b[1;32m    952\u001b[0m         \u001b[0;32melif\u001b[0m \u001b[0mRev\u001b[0m \u001b[0;34m<=\u001b[0m \u001b[0;36m10000\u001b[0m \u001b[0;32mand\u001b[0m \u001b[0mallow_laminar\u001b[0m\u001b[0;34m:\u001b[0m\u001b[0;34m\u001b[0m\u001b[0;34m\u001b[0m\u001b[0m\n\u001b[1;32m    953\u001b[0m             \u001b[0;31m# Laminar;\u001b[0m\u001b[0;34m\u001b[0m\u001b[0;34m\u001b[0m\u001b[0m\n",
            "\u001b[0;32m/usr/local/lib/python3.10/dist-packages/fluids/control_valve.py\u001b[0m in \u001b[0;36miterate_piping_coef_g\u001b[0;34m(Ci, iterations)\u001b[0m\n\u001b[1;32m    909\u001b[0m             \u001b[0;32mdef\u001b[0m \u001b[0miterate_piping_coef_g\u001b[0m\u001b[0;34m(\u001b[0m\u001b[0mCi\u001b[0m\u001b[0;34m,\u001b[0m \u001b[0miterations\u001b[0m\u001b[0;34m)\u001b[0m\u001b[0;34m:\u001b[0m\u001b[0;34m\u001b[0m\u001b[0;34m\u001b[0m\u001b[0m\n\u001b[1;32m    910\u001b[0m                 \u001b[0mloss\u001b[0m \u001b[0;34m=\u001b[0m \u001b[0mloss_coefficient_piping\u001b[0m\u001b[0;34m(\u001b[0m\u001b[0md\u001b[0m\u001b[0;34m,\u001b[0m \u001b[0mD1\u001b[0m\u001b[0;34m,\u001b[0m \u001b[0mD2\u001b[0m\u001b[0;34m)\u001b[0m\u001b[0;34m\u001b[0m\u001b[0;34m\u001b[0m\u001b[0m\n\u001b[0;32m--> 911\u001b[0;31m                 \u001b[0mFP\u001b[0m \u001b[0;34m=\u001b[0m \u001b[0;36m1.0\u001b[0m\u001b[0;34m/\u001b[0m\u001b[0msqrt\u001b[0m\u001b[0;34m(\u001b[0m\u001b[0;36m1.\u001b[0m \u001b[0;34m+\u001b[0m \u001b[0mloss\u001b[0m\u001b[0;34m/\u001b[0m\u001b[0mN2\u001b[0m\u001b[0;34m*\u001b[0m\u001b[0;34m(\u001b[0m\u001b[0mCi\u001b[0m\u001b[0;34m/\u001b[0m\u001b[0md\u001b[0m\u001b[0;34m**\u001b[0m\u001b[0;36m2\u001b[0m\u001b[0;34m)\u001b[0m\u001b[0;34m**\u001b[0m\u001b[0;36m2\u001b[0m\u001b[0;34m)\u001b[0m\u001b[0;34m\u001b[0m\u001b[0;34m\u001b[0m\u001b[0m\n\u001b[0m\u001b[1;32m    912\u001b[0m                 \u001b[0mloss_upstream\u001b[0m \u001b[0;34m=\u001b[0m \u001b[0mloss_coefficient_piping\u001b[0m\u001b[0;34m(\u001b[0m\u001b[0md\u001b[0m\u001b[0;34m,\u001b[0m \u001b[0mD1\u001b[0m\u001b[0;34m)\u001b[0m\u001b[0;34m\u001b[0m\u001b[0;34m\u001b[0m\u001b[0m\n\u001b[1;32m    913\u001b[0m                 \u001b[0mxTP\u001b[0m \u001b[0;34m=\u001b[0m \u001b[0mxT\u001b[0m\u001b[0;34m/\u001b[0m\u001b[0mFP\u001b[0m\u001b[0;34m**\u001b[0m\u001b[0;36m2\u001b[0m\u001b[0;34m/\u001b[0m\u001b[0;34m(\u001b[0m\u001b[0;36m1\u001b[0m \u001b[0;34m+\u001b[0m \u001b[0mxT\u001b[0m\u001b[0;34m*\u001b[0m\u001b[0mloss_upstream\u001b[0m\u001b[0;34m/\u001b[0m\u001b[0mN5\u001b[0m\u001b[0;34m*\u001b[0m\u001b[0;34m(\u001b[0m\u001b[0mCi\u001b[0m\u001b[0;34m/\u001b[0m\u001b[0md\u001b[0m\u001b[0;34m**\u001b[0m\u001b[0;36m2\u001b[0m\u001b[0;34m)\u001b[0m\u001b[0;34m**\u001b[0m\u001b[0;36m2\u001b[0m\u001b[0;34m)\u001b[0m\u001b[0;34m\u001b[0m\u001b[0;34m\u001b[0m\u001b[0m\n",
            "\u001b[0;31mValueError\u001b[0m: math domain error"
          ]
        }
      ]
    }
  ]
}