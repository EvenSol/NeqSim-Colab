{
  "nbformat": 4,
  "nbformat_minor": 0,
  "metadata": {
    "colab": {
      "name": "GasCompressors.ipynb",
      "provenance": [],
      "include_colab_link": true
    },
    "kernelspec": {
      "name": "python3",
      "display_name": "Python 3"
    }
  },
  "cells": [
    {
      "cell_type": "markdown",
      "metadata": {
        "id": "view-in-github",
        "colab_type": "text"
      },
      "source": [
        "<a href=\"https://colab.research.google.com/github/EvenSol/NeqSim-Colab/blob/master/notebooks/process/GasCompressors.ipynb\" target=\"_parent\"><img src=\"https://colab.research.google.com/assets/colab-badge.svg\" alt=\"Open In Colab\"/></a>"
      ]
    },
    {
      "cell_type": "code",
      "metadata": {
        "id": "c7oLiYgcEV2Y"
      },
      "source": [
        "#@title Gas compressors\n",
        "#@markdown A compressor is a mechanical device that increases the pressure of a gas by reducing its volume.\n",
        "#@markdown Compressors are similar to pumps: both increase the pressure on a fluid and both can transport the fluid through a pipe. As gases are compressible, the compressor also reduces the volume of a gas. Liquids are relatively incompressible; while some can be compressed, the main action of a pump is to pressurize and transport liquids.\n",
        "%%capture\n",
        "!pip install neqsim\n",
        "import neqsim\n",
        "from neqsim.thermo.thermoTools import *\n",
        "import matplotlib\n",
        "import numpy as np\n",
        "import matplotlib.pyplot as plt\n",
        "import math\n",
        "%matplotlib inline"
      ],
      "execution_count": 1,
      "outputs": []
    },
    {
      "cell_type": "markdown",
      "metadata": {
        "id": "OgnpZwDDB4X7"
      },
      "source": [
        "# Litterature\n",
        "\n",
        "https://petrowiki.org/Compressors\n",
        "\n",
        "https://www.turbomachinerymag.com/view/compressor-performance-and-thermodynamic"
      ]
    },
    {
      "cell_type": "code",
      "metadata": {
        "id": "9Kkz5ZeLEyRv",
        "colab": {
          "base_uri": "https://localhost:8080/",
          "height": 421
        },
        "outputId": "be7ec70b-d757-4422-f61e-4e63381f1321"
      },
      "source": [
        "#@title  Åsgard Subsea Gas Compression\n",
        "#@markdown The installation of the modules that collectively constitute Åsgard subsea gas compression has commenced in the Åsgard field.​\n",
        "#@markdown Innovative technology at a depth of 300 metres will create more than 300 million extra barrels BOE from the Åsgard field.\n",
        "from IPython.display import YouTubeVideo\n",
        "YouTubeVideo('Ew1h9aU4odo', width=600, height=400)"
      ],
      "execution_count": 2,
      "outputs": [
        {
          "output_type": "execute_result",
          "data": {
            "text/plain": [
              "<IPython.lib.display.YouTubeVideo at 0x7fcfc9b0dab0>"
            ],
            "text/html": [
              "\n",
              "        <iframe\n",
              "            width=\"600\"\n",
              "            height=\"400\"\n",
              "            src=\"https://www.youtube.com/embed/Ew1h9aU4odo\"\n",
              "            frameborder=\"0\"\n",
              "            allowfullscreen\n",
              "            \n",
              "        ></iframe>\n",
              "        "
            ]
          },
          "metadata": {},
          "execution_count": 2
        }
      ]
    },
    {
      "cell_type": "markdown",
      "metadata": {
        "id": "jpDLDLgdecvP"
      },
      "source": [
        "# Natural Gas Compressors\n",
        " Produced gas pressure at the wellhead normally is not sufficient to allow export for sales and further treatment. Therefore, an export gas compression system is required, with a centrifugal compressor being the most suitable for variable sales gas demand and near-constant export pressure.\n",
        "\n",
        "Normally, the export gas centrifugal compressor works well under constant inlet pressure. Compressor operation is challenged when the gas well reservoir pressure is reduced (due to reservoir depletion), and when the full well steam (FWS) water cut increases and the gas fraction in the FWS decreases. Consequently, inlet pressure to the compressor is reduced.\n",
        "\n",
        "The compressor operation becomes unstable due to reduced inlet pressure and reduced flow. To meet the required export gas pressure, the speed of the compressor must be increased. However, the temperature of the compressor discharge also increases at reduced flow and higher speed; therefore, the recycle is also required to maintain the compressor discharge temperature within a defined limit."
      ]
    },
    {
      "cell_type": "code",
      "metadata": {
        "id": "EeJ3zgxwP9mv",
        "colab": {
          "base_uri": "https://localhost:8080/"
        },
        "outputId": "a222c084-02ea-4a83-f73a-6b3061838c86"
      },
      "source": [
        "#@title  Calculation of a gas compression train\n",
        "#@markdown This script demonstrates the calculations of a simple gas compression train\n",
        "\n",
        "from neqsim.thermo import fluid, phaseenvelope\n",
        "from neqsim.process import separator, heater, clearProcess, stream,  compressor, runProcess, viewProcess,getProcess\n",
        "\n",
        "gasFlowRate = 5.0#@param {type:\"number\"} # MSm3/day\n",
        "\n",
        "temperature_inlet = 35.0 #@param {type:\"number\"}\n",
        "pressure_inlet = 55.0 #@param {type:\"number\"}\n",
        "\n",
        "pressureMP = 100.0 #@param {type:\"number\"}\n",
        "temperatureMP = 35.0 #@param {type:\"number\"}\n",
        "\n",
        "pressureExport = 150.0 #@param {type:\"number\"}\n",
        "temperatureExport = 35.0 #@param {type:\"number\"}\n",
        "\n",
        "fluid1 = fluid('srk')\n",
        "fluid1.addComponent(\"nitrogen\", 1.0)\n",
        "fluid1.addComponent(\"CO2\", 2.0)\n",
        "fluid1.addComponent(\"methane\", 79.2)\n",
        "fluid1.addComponent(\"ethane\", 7.3)\n",
        "fluid1.addComponent(\"propane\", 2.3)\n",
        "fluid1.addComponent(\"i-butane\", 1.0)\n",
        "fluid1.addComponent(\"n-butane\", 0.7)\n",
        "fluid1.addComponent(\"i-pentane\", 0.04)\n",
        "fluid1.addComponent(\"n-pentane\", 0.02)\n",
        "fluid1.addComponent(\"n-hexane\", 0.003)\n",
        "\n",
        "fluid1.setPressure(pressure_inlet, 'bara')\n",
        "fluid1.setTemperature(temperature_inlet, 'C')\n",
        "fluid1.setTotalFlowRate(gasFlowRate, \"MSm3/day\")\n",
        "\n",
        "clearProcess()\n",
        "stream1 = stream('stream1', fluid1)\n",
        "compressor_1 = compressor('comp1', stream1, pressureMP)\n",
        "compressor_1.setIsentropicEfficiency(0.77)\n",
        "coolerMP1 = heater('cooler1', compressor_1.getOutStream())\n",
        "coolerMP1.setOutTemperature(temperatureMP+273.15)\n",
        "compressor_2 = compressor('compressor 2', coolerMP1.getOutStream(), pressureExport)\n",
        "compressor_2.setIsentropicEfficiency(0.77)\n",
        "coolerExport = heater('heater 1', compressor_2.getOutStream())\n",
        "coolerExport.setOutTemperature(temperatureExport+273.15)\n",
        "runProcess()\n",
        "\n",
        "print(\"compressor1 power \", compressor_1.getPower()/1e6, \" MW\")\n",
        "print(\"compressor2 power \", compressor_2.getPower()/1e6, \" MW\")\n",
        "\n",
        "print(\"cooler1 duty \", coolerMP1.getDuty()/1e6, \" MW\")\n",
        "print(\"cooler2 duty \", coolerExport.getDuty()/1e6, \" MW\")"
      ],
      "execution_count": 5,
      "outputs": [
        {
          "output_type": "stream",
          "name": "stdout",
          "text": [
            "compressor1 power  4.668918155189743  MW\n",
            "compressor2 power  2.905746639359289  MW\n",
            "cooler1 duty  -7.114604286439549  MW\n",
            "cooler2 duty  -5.192202419577604  MW\n"
          ]
        }
      ]
    },
    {
      "cell_type": "markdown",
      "metadata": {
        "id": "ZM3R66bFjF_B"
      },
      "source": [
        "# Fuel gas consumption\n",
        "This section demonstrates hot to estimate the fule gas consumption."
      ]
    },
    {
      "cell_type": "code",
      "metadata": {
        "id": "6tSeD8MAjVrJ",
        "colab": {
          "base_uri": "https://localhost:8080/"
        },
        "outputId": "f1d1adb8-22b6-44cf-8d08-cbc66a11ebf0"
      },
      "source": [
        "from neqsim.thermo import fluid, TPflash\n",
        "from neqsim.standards import ISO6976\n",
        "\n",
        "referenceTemperatureVolume = 15.0 #@param ['0.0', '15.0', '20.0']\n",
        "referenceTemperatureCombustion = 25.0 #@param ['0.0', '15.0', '20.0', '25.0']\n",
        "numberUnit = 'volume' #@param ['volume', 'mass', 'molar']\n",
        "\n",
        "iso6976 = ISO6976(fluid1)\n",
        "iso6976.setReferenceType(numberUnit)\n",
        "iso6976.setVolRefT(float(referenceTemperatureVolume))\n",
        "iso6976.setEnergyRefT(float(referenceTemperatureCombustion))\n",
        "iso6976.calculate()\n",
        "\n",
        "\n",
        "GCV = round(iso6976.getValue(\"SuperiorCalorificValue\")/1.0e3,3)\n",
        "WI = round(iso6976.getValue(\"SuperiorWobbeIndex\")/1.0e3,3)\n",
        "WIkwh = round(iso6976.getValue(\"SuperiorWobbeIndex\")/1.0e3/3.6,3)\n",
        "relDens = round(iso6976.getValue(\"RelativeDensity\"),3)\n",
        "\n",
        "print('GCV '+ str(GCV) + ' MJ/' +numberUnit)\n",
        "print('WI '+ str(WI), ' MJ/' +numberUnit)\n",
        "print('WI '+ str(WIkwh), ' kWh/' +numberUnit)\n",
        "print('Relative density '+ str(relDens), ' [-]')\n",
        "\n",
        "turbineEfficiency = 0.3 #@param\n",
        "\n",
        "fuelGasConsumption = getProcess().getPower('W')/1e6/turbineEfficiency/GCV*3600.0\n",
        "\n",
        "print('Fuel gas consumption ', fuelGasConsumption, ' [Sm^3/hr]')\n",
        "print('Fuel gas consumption ' ,(fuelGasConsumption*24.0/1.0e6/gasFlowRate*100.0),  ' % of gas production')"
      ],
      "execution_count": 6,
      "outputs": [
        {
          "output_type": "stream",
          "name": "stdout",
          "text": [
            "GCV 41.77 MJ/volume\n",
            "WI 51.035  MJ/volume\n",
            "WI 14.176  kWh/volume\n",
            "Relative density 0.67  [-]\n",
            "Fuel gas consumption  2176.1067161740098  [Sm^3/hr]\n",
            "Fuel gas consumption  1.0445312237635247  % of gas production\n"
          ]
        }
      ]
    },
    {
      "cell_type": "markdown",
      "metadata": {
        "id": "7AjLm2vqA_V2"
      },
      "source": [
        "# Compressor efficiency\n",
        "\n",
        "\n",
        "## Compression theory\n",
        "\n",
        "Specific topics relating to compression theory include:\n",
        "\n",
        "* Power requirement\n",
        "* Isentropic exponent\n",
        "* Compressibility factor\n",
        "* Intercooling\n",
        "* Adiabatic and polytropic efficiency\n",
        "* Actual and standard volume flow rates\n",
        "* Mass flow rates\n",
        "* Inlet and discharge pressures\n",
        "* Inlet and discharge temperatures\n",
        "* Adiabatic and polytropic head\n",
        "\n",
        "\n",
        "## Isentropic (adiabatic) compression\n",
        "\n",
        "An adiabatic process is one in which no heat is added or removed from the system. Adiabatic compression is expressed by\n",
        "\n",
        "$P_1 \\times {V_1}^k=P_2 \\times {V_2}^k$\n",
        "\n",
        "where k = C<sub>p</sub>/C<sub>v</sub> = ratio of specific heats, dimensionless.\n",
        "\n",
        "Although compressors are designed to remove as much heat as possible, some heat gain is inevitable. Nevertheless, the adiabatic compression cycle is rather closely approached by most positive displacement compressors and is generally the base to which they are referred.\n",
        "\n",
        "## Polytropic compression\n",
        "\n",
        "A polytropic process is one in which changes in gas characteristics during compression are considered. Dynamic compressors generally follow the polytropic cycle as defined by the formula\n",
        "\n",
        "$P_1 \\times {V_1}^n=P_2 \\times {V_2}^n$\n",
        "\n",
        "where n = polytropic exponent.\n",
        "\n",
        "The polytropic exponent n is experimentally determined for a given type of machine and may be lower or higher than the adiabatic exponent ''k''. Because the value of ''n'' changes during the compression process, an average value is used.\n",
        "\n",
        "\n"
      ]
    },
    {
      "cell_type": "code",
      "metadata": {
        "id": "HTzUIfohA-dA",
        "colab": {
          "base_uri": "https://localhost:8080/"
        },
        "outputId": "a20cd07c-791b-4eb1-bcdc-727d12295556"
      },
      "source": [
        "temperature_inlet = 35.0 #@param {type:\"number\"}\n",
        "pressure_inlet = 85.0 #@param {type:\"number\"}\n",
        "\n",
        "pressure_Out = 150.0 #@param {type:\"number\"}\n",
        "\n",
        "gasFlowRate = 5.0#@param {type:\"number\"} # MSm3/day\n",
        "\n",
        "adibaticEfficiency = 77.0 #@param {type:\"number\"} # compressor efficiency%\n",
        "polytropicEfficiency = 77.0 #@param {type:\"number\"} # compressor efficiency%\n",
        "\n",
        "fluid1 = fluid('srk')\n",
        "fluid1.addComponent('methane', 1.0)\n",
        "fluid1.setTotalFlowRate(gasFlowRate, \"MSm3/day\")\n",
        "fluid1.setPressure(pressure_inlet, 'bara')\n",
        "fluid1.setTemperature(temperature_inlet, 'C')\n",
        "\n",
        "clearProcess()\n",
        "stream1 = stream('stream 1', fluid1)\n",
        "compressor_1 = compressor('compressor 1',stream1, pressure_Out)\n",
        "compressor_1.setOutletPressure(150.0)\n",
        "compressor_1.setIsentropicEfficiency(adibaticEfficiency/100.0)\n",
        "runProcess()\n",
        "\n",
        "print(\"Compression ratio: \", (pressure_Out/pressure_inlet))\n",
        "print()\n",
        "print(\"Calculations using Adibatic efficiency: \", (adibaticEfficiency), '%')\n",
        "print(\"compressor1 power \", compressor_1.getTotalWork()/1e6, \" MW\")\n",
        "print(\"temperature out \", (compressor_1.getThermoSystem().getTemperature()-273.15))\n",
        "\n",
        "compressor_1.setPolytropicEfficiency(polytropicEfficiency/100.0)\n",
        "compressor_1.setUsePolytropicCalc(True)\n",
        "runProcess()\n",
        "print()\n",
        "print(\"Calculations using polytropic efficiency: \", (polytropicEfficiency), '%')\n",
        "print(\"compressor1 power \", compressor_1.getTotalWork()/1e6, \" MW\")\n",
        "print(\"temperature out \", (compressor_1.getThermoSystem().getTemperature()-273.15))"
      ],
      "execution_count": 7,
      "outputs": [
        {
          "output_type": "stream",
          "name": "stdout",
          "text": [
            "Compression ratio:  1.7647058823529411\n",
            "\n",
            "Calculations using Adibatic efficiency:  77.0 %\n",
            "compressor1 power  4.562025327549757  MW\n",
            "temperature out  89.74632437420064\n",
            "\n",
            "Calculations using polytropic efficiency:  77.0 %\n",
            "compressor1 power  4.654968883041333  MW\n",
            "temperature out  90.5343782328423\n"
          ]
        }
      ]
    },
    {
      "cell_type": "markdown",
      "metadata": {
        "id": "TY9VejqINT5F"
      },
      "source": [
        "# Hand calculation of power consumption\n",
        "\n",
        "In this section a short cut method for calculation of compressor power is tested. The method description of the short cut method is found in the following link:\n",
        "\n",
        "http://www.jmcampbell.com/tip-of-the-month/2011/11/compressor-calculations-rigorous-using-equation-of-state-vs-shortcut-method/\n"
      ]
    },
    {
      "cell_type": "code",
      "metadata": {
        "id": "5n7Nl3kWM3To",
        "colab": {
          "base_uri": "https://localhost:8080/"
        },
        "outputId": "fce2d56d-904b-421c-ed4a-39ea1d203717"
      },
      "source": [
        "temperature_inlet = 35.0 #@param {type:\"number\"}\n",
        "pressure_inlet = 85.0 #@param {type:\"number\"}\n",
        "\n",
        "pressure_Out = 150.0 #@param {type:\"number\"}\n",
        "temperature_out = 100.0\n",
        "\n",
        "gasFlowRate = 5.0#@param {type:\"number\"} # MSm3/day\n",
        "\n",
        "polytropicEfficiency = 77.0 #@param {type:\"number\"} # compressor efficiency%\n",
        "\n",
        "fluid1 = fluid('srk')\n",
        "fluid1.addComponent('methane', 1.0)\n",
        "fluid1.setTotalFlowRate(gasFlowRate, \"MSm3/day\")\n",
        "fluid1.setPressure(pressure_inlet, 'bara')\n",
        "fluid1.setTemperature(temperature_inlet, 'C')\n",
        "\n",
        "TPflash(fluid1)\n",
        "fluid1.initProperties()\n",
        "\n",
        "kappa = fluid1.getGamma2()  # using \"ideal gamma\" gamma = Cp/(Cp-R)\n",
        "print(\"kappa \", kappa)\n",
        "MW = fluid1.getMolarMass()\n",
        "z_inlet = fluid1.getZ()\n",
        "\n",
        "n = 1.0/ (1.0 - (kappa-1.0)/kappa*1.0/(polytropicEfficiency/100.0))\n",
        "print(\"polytropic exponent \", n)\n",
        "power = n/(n-1.0)*(temperature_inlet+273.15)*z_inlet/(polytropicEfficiency/100.0)*(gasFlowRate*1.0e6/24.0/3600.0)*(101325.0/288.15)*(math.pow(pressure_Out/pressure_inlet, (n-1.0)/n)-1.0)\n",
        "estOutTemp = (temperature_inlet+273.15)*math.pow(pressure_Out/pressure_inlet, (n-1.0)/n)\n",
        "print(\"power based in simple method \", power/1e6, \"MW\")\n",
        "print(\"temperature out based on simple method (Z inlet) \", (estOutTemp-273.15), \" C\")\n",
        "\n",
        "fluid1.setPressure(pressure_Out, 'bara')\n",
        "fluid1.setTemperature(temperature_out, 'C')\n",
        "TPflash(fluid1)\n",
        "z_outlet = fluid1.getZ()\n",
        "\n",
        "Z_average = (z_inlet+z_outlet)/2.0\n",
        "print(\"Z inlet \" ,z_inlet, \" Z average \", Z_average)\n",
        "\n",
        "power = n/(n-1.0)*(temperature_inlet+273.15)*Z_average/(polytropicEfficiency/100.0)*(gasFlowRate*1.0e6/24.0/3600.0)*(101325.0/288.15)*(math.pow(pressure_Out/pressure_inlet, (n-1.0)/n)-1.0)\n",
        "print(\"power based in simple method (average Z) \", power/1e6, \"MW\")\n"
      ],
      "execution_count": 8,
      "outputs": [
        {
          "output_type": "stream",
          "name": "stdout",
          "text": [
            "kappa  1.2220496916626586\n",
            "polytropic exponent  1.308861965771162\n",
            "power based in simple method  4.44150496724336 MW\n",
            "temperature out based on simple method (Z inlet)  79.19757833123418  C\n",
            "Z inlet  0.8973022076776481  Z average  0.9313874270433666\n",
            "power based in simple method (average Z)  4.6102214485214335 MW\n"
          ]
        }
      ]
    },
    {
      "cell_type": "markdown",
      "metadata": {
        "id": "LT-y18615ufh"
      },
      "source": [
        "## Case Study using SRK EoS##\n",
        "\n",
        "http://www.jmcampbell.com/tip-of-the-month/2011/11/compressor-calculations-rigorous-using-equation-of-state-vs-shortcut-method/\n",
        "\n",
        "The gas mixture with the composition shown in Table1 at 105 °F (40.6 °C) and 115 Psia (793 kPa) is compressed using a single-stage centrifugal compressor with the polytropic head and efficiency curves shown in Figures 1 and 2 at a speed of 7992 rpm. The total feed gas volumetric flow rate was 101 MMSCFD (2.86×106 Sm3/d)."
      ]
    },
    {
      "cell_type": "code",
      "metadata": {
        "id": "aqXcwP7UcyVE",
        "colab": {
          "base_uri": "https://localhost:8080/"
        },
        "outputId": "d87fa84b-d05e-408d-fa5c-bdaf24b20dc5"
      },
      "source": [
        "temperature_inlet = 40.6 #@param {type:\"number\"} # temperature in C\n",
        "pressure_inlet = 7.93 #@param {type:\"number\"} # pressure in bar\n",
        "\n",
        "gasFlowRate = 2.86#@param {type:\"number\"} # MSm3/day\n",
        "\n",
        "polytropicEfficiency = 77.0 #@param {type:\"number\"} # compressor efficiency%\n",
        "\n",
        "fluid1 = fluid('srk')\n",
        "fluid1.addComponent('methane', 83.099)\n",
        "fluid1.addComponent('ethane', 6.925)\n",
        "fluid1.addComponent('propane', 4.946)\n",
        "fluid1.addComponent('i-butane', 1.484)\n",
        "fluid1.addComponent('n-butane', 0.989)\n",
        "fluid1.addComponent('i-pentane', 0.495)\n",
        "fluid1.addComponent('n-pentane', 0.495)\n",
        "fluid1.addComponent('n-hexane', 0.198)\n",
        "fluid1.addComponent('n-heptane', 0.148)\n",
        "fluid1.addComponent('n-octane', 0.099)\n",
        "fluid1.addComponent('water', 0.983)\n",
        "fluid1.setTotalFlowRate(gasFlowRate, \"MSm3/day\")\n",
        "fluid1.setPressure(pressure_inlet, 'bara')\n",
        "fluid1.setTemperature(temperature_inlet, 'C')\n",
        "fluid1.setMixingRule(2)\n",
        "fluid1.setMultiPhaseCheck(True)\n",
        "TPflash(fluid1)\n",
        "fluid1.initProperties()\n",
        "actFlowRate = fluid1.getFlowRate(\"m3/hr\")\n",
        "gasdensty = fluid1.getDensity(\"kg/m3\")\n",
        "kappa = fluid1.getGamma2() # using \"ideal gamma\" gamma = Cp/(Cp-R)\n",
        "MW = fluid1.getMolarMass()\n",
        "enthalpy_inlet = fluid1.getEnthalpy('J/kg')\n",
        "entropy_inlet = fluid1.getEntropy()\n",
        "z_inlet = fluid1.getZ()\n",
        "vol_inlet = fluid1.getVolume()\n",
        "print(\"kappa \", kappa)\n",
        "print(\"actual flow rate \", actFlowRate, \" m3/hr\")\n",
        "\n",
        "compressorspeed = 7992 # RPM\n",
        "\n",
        "def polytropEfficiency(flow, speed):\n",
        "        return 78.57\n",
        "\n",
        "def polytropHead(flow, speed):\n",
        "        return 15535.0\n",
        "\n",
        "polytropEff = polytropEfficiency(actFlowRate, compressorspeed)\n",
        "head_meter = polytropHead(actFlowRate, compressorspeed)\n",
        "\n",
        "n = 1.0/ (1.0 - (kappa-1.0)/kappa*1.0/(polytropEff/100.0))\n",
        "print(\"n \",n)\n",
        "print(\"head \", head_meter, \" meter\")\n",
        "head_kjkg = head_meter/1000.0*9.81\n",
        "pressureRatio = math.pow((head_kjkg*1000.0 +  (n/(n-1.0)*z_inlet*8.314*(temperature_inlet+273.15)/MW))/ (n/(n-1.0)*z_inlet*8.314*(temperature_inlet+273.15)/MW), n/(n-1.0))\n",
        "print(\"pressure ratio \", pressureRatio)\n",
        "pressure_outlet = pressure_inlet*pressureRatio\n",
        "print(\"pressure out  \", pressure_outlet)\n",
        "estOutTemp = (temperature_inlet+273.15)*math.pow(pressureRatio, (n-1.0)/n)-273.15\n",
        "print(\"estimated out temperature \", estOutTemp)\n",
        "\n",
        "\n",
        "clearProcess()\n",
        "stream1 = stream('stream 1', fluid1)\n",
        "compressor_1 = compressor('compressor 1', stream1, pressure_outlet)\n",
        "compressor_1.setOutletPressure(pressure_outlet)\n",
        "compressor_1.setPolytropicEfficiency(polytropEff/100.0)\n",
        "compressor_1.setUsePolytropicCalc(True)\n",
        "runProcess()\n",
        "print()\n",
        "print(\"Calculations using polytropic efficiency: \", (polytropEff), '%')\n",
        "print(\"compressor1 power \", compressor_1.getTotalWork()/1e6, \" MW\")\n",
        "print(\"temperature out \", (compressor_1.getThermoSystem().getTemperature()-273.15))\n",
        "print(\"pressure out \", (compressor_1.getThermoSystem().getPressure()))"
      ],
      "execution_count": 10,
      "outputs": [
        {
          "output_type": "stream",
          "name": "stdout",
          "text": [
            "kappa  1.2337246290201793\n",
            "actual flow rate  16205.49354807249  m3/hr\n",
            "n  1.3177277845180726\n",
            "head  15535.0  meter\n",
            "pressure ratio  2.9073059602493334\n",
            "pressure out   23.05493626477721\n",
            "estimated out temperature  132.67580428210812\n",
            "\n",
            "Calculations using polytropic efficiency:  78.57 %\n",
            "compressor1 power  5.503886582096322  MW\n",
            "temperature out  127.89823198186195\n",
            "pressure out  23.054936264777204\n"
          ]
        }
      ]
    },
    {
      "cell_type": "markdown",
      "metadata": {
        "id": "ZWgzj3JquP8p"
      },
      "source": [
        "# Using neqsim with compressor curves #\n",
        "This example demostrates use of NeqSim for compressor calculations when compresor curves are used as basis for calculation.\n",
        "\n",
        "Anti surge control is enabeled by setting compressor.getAntiSurge().setActive(True). The anit surge will activate when flow rate through compressor is lower than surge conditions. Gas recirculation will be set to a level so th gas flow through the compressor will be at the surge line."
      ]
    },
    {
      "cell_type": "code",
      "metadata": {
        "id": "C30SK_y7ugXo",
        "colab": {
          "base_uri": "https://localhost:8080/"
        },
        "outputId": "f86f7d9d-face-4676-825c-c087960e88db"
      },
      "source": [
        "from neqsim.process import compressorChart\n",
        "\n",
        "from neqsim.thermo import fluid\n",
        "from neqsim.process import clearProcess, stream, compressor, runProcess, compressorChart,compressorSurgeCurve, compressorStoneWallCurve\n",
        "\n",
        "# Start by creating a fluid in neqsim\n",
        "fluid1 = fluid(\"srk\")  # create a fluid using the SRK-EoS\n",
        "#fluid1.addComponent(\"nitrogen\", 1.0)\n",
        "#fluid1.addComponent(\"CO2\", 2.0)\n",
        "fluid1.addComponent(\"methane\", 91.0)\n",
        "fluid1.addComponent(\"ethane\", 5.0)\n",
        "fluid1.addComponent(\"propane\", 3.0)\n",
        "fluid1.addComponent(\"i-butane\", 2.0)\n",
        "fluid1.addComponent(\"n-butane\", 2.0)\n",
        "fluid1.setMixingRule(2)\n",
        "\n",
        "fluid1.setTemperature(25.0, \"C\")\n",
        "fluid1.setPressure(50.0, \"bara\")\n",
        "fluid1.setTotalFlowRate(0.635, \"MSm3/day\")\n",
        "# demonstration of setting up a simple process calculation\n",
        "\n",
        "clearProcess()\n",
        "stream1 = stream('stream 1', fluid1)\n",
        "compressor2 = compressor('compressor 1',stream1, 51.0)\n",
        "\n",
        "\n",
        "MW=28.01\n",
        "inlepPres=100.0\n",
        "inletTemp=26.2\n",
        "Zinlet=0.89\n",
        "curveConditions = [MW, inlepPres, inletTemp, Zinlet]\n",
        "\n",
        "speed = [1000.0, 2000.0, 3000.0, 4000.0]\n",
        "flow = [[453.2, 600.0, 750.0, 800.0], [453.2, 600.0, 750.0, 800.0],[453.2, 600.0, 750.0, 800.0],[453.2, 600.0, 750.0, 800.0]]\n",
        "head = [[ 10000.0, 9000.0, 8000.0, 7500.0], [10000.0, 9000.0, 8000.0, 7500.0 ], [10000.0, 9000.0, 8000.0, 7500.0], [ 10000.0, 9000.0, 8000.0, 7500.0]]\n",
        "polyEff = [[ 90.0, 91.0, 89.0, 88.0 ], [90.0, 91.0, 89.0, 88.0 ], [90.0, 91.0, 89.0, 88.1],[90.0, 91.0, 89.0, 88.1]]\n",
        "compressorChart(compressor2, curveConditions, speed, flow, head, polyEff)\n",
        "\n",
        "\n",
        "surgeFlow = [453.2, 600.0, 750.0, 800.0]\n",
        "surgeHead = [6000.0, 7000.0, 8000.0, 10000.0]\n",
        "compressorSurgeCurve(compressor2, curveConditions, surgeFlow, surgeHead)\n",
        "\n",
        "stoneWallFlow = [923.2, 950.0, 980.0, 1000.0]\n",
        "stoneWallHead = [6000.0, 7000.0, 8000.0, 10000.0]\n",
        "compressorStoneWallCurve(compressor2, curveConditions, stoneWallFlow, stoneWallHead)\n",
        "\n",
        "\n",
        "compressor2.setUsePolytropicCalc(True)\n",
        "compressor2.getAntiSurge().setActive(True)\n",
        "compressor2.getAntiSurge().setSurgeControlFactor(1.05) # flow will be set to this factor higher than surge line\n",
        "compressor2.setSpeed(2050)\n",
        "\n",
        "runProcess()\n",
        "print(\"inlet flow \", stream1.getThermoSystem().getFlowRate(\"m3/hr\"), \" m3/hr\")\n",
        "#print(\"active anti surge? \", compressor2.getAntiSurge().isSurge()\n",
        "#print(\"flow fraction in surge line \", compressor2.getAntiSurge().getCurrentSurgeFraction())\n",
        "#print(\"polytropic head \", compressor2.getPolytropicHead(), \" meter\")\n",
        "#print(\"polytropic fluid head \", compressor2.getPolytropicFluidHead(), \" kJ/kg\")\n",
        "#print(\"polytropic exponent\", compressor2.getPolytropicExponent(), \" -\")\n",
        "print(\"pressure out \", compressor2.getOutStream().getPressure(), \" bara\")\n",
        "print(\"compressor2 power \", compressor2.getPower()/1.0e6, \" MW\")\n",
        "print(\"temperature out of compressor2 \", compressor2.getOutStream().getTemperature()-273.15, \" °C\")"
      ],
      "execution_count": 13,
      "outputs": [
        {
          "output_type": "stream",
          "name": "stdout",
          "text": [
            "inlet flow  484.560486357535  m3/hr\n",
            "pressure out  50.0  bara\n",
            "compressor2 power  -0.37693122045191535  MW\n",
            "temperature out of compressor2  25.0  °C\n"
          ]
        }
      ]
    },
    {
      "cell_type": "markdown",
      "metadata": {
        "id": "lSggAOasyOpi"
      },
      "source": [
        "# Calculation of a gas compression train (two stage calculation)\n",
        "In this example we calculate the pressure and power in a compression train of two compressors operating on the same shaft (same speed for both compressores). The calculations are further run for a series of inlet pressures, gas flow rates, compressor speeds. Resulting pressure levels and compressor powers are calculated. For details of the compressor code implementation see [this link to the Java code](https://github.com/equinor/neqsim/tree/master/src/main/java/neqsim/processSimulation/processEquipment/compressor)."
      ]
    },
    {
      "cell_type": "code",
      "metadata": {
        "id": "z19AYce4ytcE",
        "colab": {
          "base_uri": "https://localhost:8080/"
        },
        "outputId": "3b26c4dc-5c79-4dd0-dfe3-0e0c932dbb67"
      },
      "source": [
        "gasFlowRate = 0.86#@param {type:\"number\"} # MSm3/day\n",
        "compressorSpeed = 1500 #@param {type:\"number\"} # MSm3/day\n",
        "\n",
        "temperature_inlet = 40.6 #@param {type:\"number\"} # temperature in C\n",
        "pressure_inlet = 50.03 #@param {type:\"number\"} # pressure in bar\n",
        "\n",
        "temperature_MP = 35.2 #@param {type:\"number\"} # temperature in C\n",
        "\n",
        "fluid1 = fluid('srk')\n",
        "fluid1.addComponent('methane', 83.099)\n",
        "fluid1.addComponent('ethane', 6.925)\n",
        "fluid1.addComponent('propane', 4.946)\n",
        "fluid1.addComponent('i-butane', 1.484)\n",
        "fluid1.setTotalFlowRate(gasFlowRate, \"MSm3/day\")\n",
        "fluid1.setPressure(pressure_inlet, 'bara')\n",
        "fluid1.setTemperature(temperature_inlet, 'C')\n",
        "fluid1.setMixingRule(2)\n",
        "\n",
        "clearProcess()\n",
        "stream1 = stream('stream 1', fluid1)\n",
        "compressor_1 = compressor('compressor 1', stream1,70.0)\n",
        "compressor_1.setUsePolytropicCalc(True)\n",
        "coolerMP1 = heater('cooler 1', compressor_1.getOutStream())\n",
        "coolerMP1.setOutTemperature(temperature_MP+273.15)\n",
        "gasscrubber = separator('scrubber 1', coolerMP1.getOutStream())\n",
        "compressor_2 = compressor('compressor 2', gasscrubber.getGasOutStream(), 50.0)\n",
        "\n",
        "speed = [1000.0, 2000.0, 3000.0, 4000.0]\n",
        "flow = [[453.2, 600.0, 750.0, 800.0], [453.2, 600.0, 750.0, 800.0],[453.2, 600.0, 750.0, 800.0],[453.2, 600.0, 750.0, 800.0]]\n",
        "head = [[ 10000.0, 9000.0, 8000.0, 7500.0], [10000.0, 9000.0, 8000.0, 7500.0 ], [10000.0, 9000.0, 8000.0, 7500.0], [ 10000.0, 9000.0, 8000.0, 7500.0]]\n",
        "polyEff = [[ 90.0, 91.0, 89.0, 88.0 ], [90.0, 91.0, 89.0, 88.0 ], [90.0, 91.0, 89.0, 88.1],[90.0, 91.0, 89.0, 88.1]]\n",
        "compressorChart(compressor2, curveConditions, speed, flow, head, polyEff)\n",
        "\n",
        "\n",
        "compressorChart(compressor_1, curveConditions, speed, flow, head, polyEff)\n",
        "compressor_1.setSpeed(2050);\n",
        "compressor_1.setUsePolytropicCalc(True)\n",
        "\n",
        "flow2 = [[253.2, 400.0, 650.0, 800.0], [253.2, 400.0, 650.0, 800.0],[253.2, 400.0, 650.0, 800.0],[253.2, 400.0, 650.0, 800.0]]\n",
        "compressorChart(compressor_2, curveConditions, speed, flow2, head, polyEff)\n",
        "compressor_2.setSpeed(2050);\n",
        "compressor_2.setUsePolytropicCalc(True)\n",
        "\n",
        "\n",
        "runProcess()\n",
        "\n",
        "print(\"compressor1 power \", compressor_1.getPower()/1e6, \" MW\")\n",
        "print(\"compressor2 power \", compressor_2.getPower()/1e6, \" MW\")\n",
        "\n",
        "print(\"feed pressure \", stream1.getThermoSystem().getPressure(\"bara\"), \" bara\")\n",
        "print(\"1 stage pressure \", compressor_1.getThermoSystem().getPressure(\"bara\"), \" bara\")\n",
        "print(\"2 stage pressure \", compressor_2.getThermoSystem().getPressure(\"bara\"), \" bara\")\n"
      ],
      "execution_count": 14,
      "outputs": [
        {
          "output_type": "stream",
          "name": "stdout",
          "text": [
            "compressor1 power  1.346363853477925  MW\n",
            "compressor2 power  0.28367359349767224  MW\n",
            "feed pressure  50.03  bara\n",
            "1 stage pressure  149.79487079835394  bara\n",
            "2 stage pressure  201.47835879794022  bara\n"
          ]
        }
      ]
    },
    {
      "cell_type": "code",
      "metadata": {
        "id": "-dnPIIR8UQbV",
        "colab": {
          "base_uri": "https://localhost:8080/"
        },
        "outputId": "e3acb739-8ea2-4f05-8abd-8ffac103656a"
      },
      "source": [
        "inletPressure = [40.0, 50.0, 55.0]\n",
        "\n",
        "\n",
        "\n",
        "# Using for loop\n",
        "for pressure in inletPressure:\n",
        "  stream1.getThermoSystem().setPressure(pressure)\n",
        "  runProcess()\n",
        "  print(\"feed pressure \", pressure)\n",
        "  print(\"compressor1 power \", compressor_1.getPower()/1e6, \" MW\")\n",
        "  print(\"compressor2 power \", compressor_2.getPower()/1e6, \" MW\")\n",
        "  print(\"feed pressure \", stream1.getThermoSystem().getPressure(\"bara\"), \" bara\")\n",
        "  print(\"1 stage pressure \", compressor_1.getThermoSystem().getPressure(\"bara\"), \" bara\")\n",
        "  print(\"2 stage pressure \", compressor_2.getThermoSystem().getPressure(\"bara\"), \" bara\")\n",
        "\n",
        "stream1.getThermoSystem().setPressure(pressure_inlet)\n",
        "inletFlow = [0.7, 0.8, 0.9, 1.0]\n",
        "# Using for loop\n",
        "for flow in inletFlow:\n",
        "  stream1.getThermoSystem().setTotalFlowRate(flow, \"MSm3/day\")\n",
        "  runProcess()\n",
        "  print(\"flow \", flow)\n",
        "  print(\"compressor1 power \", compressor_1.getPower()/1e6, \" MW\")\n",
        "  print(\"compressor2 power \", compressor_2.getPower()/1e6, \" MW\")\n",
        "  print(\"feed pressure \", stream1.getThermoSystem().getPressure(\"bara\"), \" bara\")\n",
        "  print(\"1 stage pressure \", compressor_1.getThermoSystem().getPressure(\"bara\"), \" bara\")\n",
        "  print(\"2 stage pressure \", compressor_2.getThermoSystem().getPressure(\"bara\"), \" bara\")\n",
        "\n",
        "stream1.getThermoSystem().setTotalFlowRate(gasFlowRate, \"MSm3/day\")\n",
        "speedRuns = [1000, 1500, 2000]\n",
        "\n",
        "# Using for loop\n",
        "for speed in speedRuns:\n",
        "  compressor_1.setSpeed(speed)\n",
        "  compressor_2.setSpeed(speed)\n",
        "  runProcess()\n",
        "  print(\"speed \", speed)\n",
        "  print(\"compressor1 power \", compressor_1.getPower()/1e6, \" MW\")\n",
        "  print(\"compressor2 power \", compressor_2.getPower()/1e6, \" MW\")\n",
        "  print(\"feed pressure \", stream1.getThermoSystem().getPressure(\"bara\"), \" bara\")\n",
        "  print(\"1 stage pressure \", compressor_1.getThermoSystem().getPressure(\"bara\"), \" bara\")\n",
        "  print(\"2 stage pressure \", compressor_2.getThermoSystem().getPressure(\"bara\"), \" bara\")"
      ],
      "execution_count": 15,
      "outputs": [
        {
          "output_type": "stream",
          "name": "stdout",
          "text": [
            "feed pressure  40.0\n",
            "compressor1 power  1.8739643310570908  MW\n",
            "compressor2 power  0.21949286088259273  MW\n",
            "feed pressure  40.0  bara\n",
            "1 stage pressure  167.95200902382368  bara\n",
            "2 stage pressure  211.28951906950803  bara\n",
            "feed pressure  50.0\n",
            "compressor1 power  1.3477084496663307  MW\n",
            "compressor2 power  0.28348365859347024  MW\n",
            "feed pressure  50.0  bara\n",
            "1 stage pressure  149.84142322431154  bara\n",
            "2 stage pressure  201.50187346428  bara\n",
            "feed pressure  55.0\n",
            "compressor1 power  1.139492978777697  MW\n",
            "compressor2 power  0.31456782894949686  MW\n",
            "feed pressure  55.0  bara\n",
            "1 stage pressure  142.6709158368205  bara\n",
            "2 stage pressure  197.9871188781852  bara\n",
            "flow  0.7\n",
            "compressor1 power  0.7756700671812945  MW\n",
            "compressor2 power  0.2899245154210166  MW\n",
            "feed pressure  50.03  bara\n",
            "1 stage pressure  111.36390004764951  bara\n",
            "2 stage pressure  159.95321187060648  bara\n",
            "flow  0.8\n",
            "compressor1 power  1.1186964760629958  MW\n",
            "compressor2 power  0.2855647597214378  MW\n",
            "feed pressure  50.03  bara\n",
            "1 stage pressure  134.68871002086036  bara\n",
            "2 stage pressure  185.325821095556  bara\n",
            "flow  0.9\n",
            "compressor1 power  1.5066631272347712  MW\n",
            "compressor2 power  0.28345191198683356  MW\n",
            "feed pressure  50.03  bara\n",
            "1 stage pressure  160.30437024794404  bara\n",
            "2 stage pressure  212.7191057693867  bara\n",
            "flow  1.0\n",
            "compressor1 power  1.935189879020511  MW\n",
            "compressor2 power  0.28800508530003077  MW\n",
            "feed pressure  50.03  bara\n",
            "1 stage pressure  188.00553705429928  bara\n",
            "2 stage pressure  242.65705170436877  bara\n",
            "speed  1000\n",
            "compressor1 power  0.7052066296976194  MW\n",
            "compressor2 power  0.38915690093866434  MW\n",
            "feed pressure  50.03  bara\n",
            "1 stage pressure  91.11619689478225  bara\n",
            "2 stage pressure  133.1833699478582  bara\n",
            "speed  1500\n",
            "compressor1 power  1.0856234805787852  MW\n",
            "compressor2 power  0.3666626337752128  MW\n",
            "feed pressure  50.03  bara\n",
            "1 stage pressure  123.03508015409984  bara\n",
            "2 stage pressure  179.1459151015848  bara\n",
            "speed  2000\n",
            "compressor1 power  1.3294767712723272  MW\n",
            "compressor2 power  0.29199934297373425  MW\n",
            "feed pressure  50.03  bara\n",
            "1 stage pressure  147.92680401782744  bara\n",
            "2 stage pressure  200.65391152864524  bara\n"
          ]
        }
      ]
    },
    {
      "cell_type": "markdown",
      "metadata": {
        "id": "MUsZwcbMpn-d"
      },
      "source": [
        "# Back up calculations #\n",
        "Evaluation of alternative methods for compressor calculations"
      ]
    },
    {
      "cell_type": "code",
      "metadata": {
        "id": "6m_nFQPU8KfA",
        "colab": {
          "base_uri": "https://localhost:8080/"
        },
        "outputId": "d2f97069-8a4f-4475-b61a-0f21c17444dc"
      },
      "source": [
        "temperature_inlet = 40.6 #@param {type:\"number\"}\n",
        "pressure_inlet = 7.93 #@param {type:\"number\"}\n",
        "\n",
        "gasFlowRate = 2.86#@param {type:\"number\"} # MSm3/day\n",
        "\n",
        "polytropicEfficiency = 77.0 #@param {type:\"number\"} # compressor efficiency%\n",
        "\n",
        "fluid1 = fluid('srk')\n",
        "fluid1.addComponent('methane', 83.099)\n",
        "fluid1.addComponent('ethane', 6.925)\n",
        "fluid1.addComponent('propane', 4.946)\n",
        "fluid1.addComponent('i-butane', 1.484)\n",
        "fluid1.addComponent('n-butane', 0.989)\n",
        "fluid1.addComponent('i-pentane', 0.495)\n",
        "fluid1.addComponent('n-pentane', 0.495)\n",
        "fluid1.addComponent('n-hexane', 0.198)\n",
        "fluid1.addComponent('n-heptane', 0.148)\n",
        "fluid1.addComponent('n-octane', 0.099)\n",
        "fluid1.addComponent('water', 0.983)\n",
        "fluid1.setTotalFlowRate(gasFlowRate, \"MSm3/day\")\n",
        "fluid1.setPressure(pressure_inlet, 'bara')\n",
        "fluid1.setTemperature(temperature_inlet, 'C')\n",
        "fluid1.setMixingRule(2)\n",
        "fluid1.setMultiPhaseCheck(True)\n",
        "TPflash(fluid1)\n",
        "fluid1.initProperties()\n",
        "actFlowRate = fluid1.getFlowRate(\"m3/hr\")\n",
        "gasdensty = fluid1.getDensity(\"kg/m3\")\n",
        "kappa = fluid1.getPhase(0).getKappa()\n",
        "MW = fluid1.getMolarMass()\n",
        "enthalpy_inlet = fluid1.getEnthalpy('J/kg')\n",
        "entropy_inlet = fluid1.getEntropy()\n",
        "z_inlet = fluid1.getZ()\n",
        "vol_inlet = fluid1.getVolume()\n",
        "n=kappa;\n",
        "print(\"kappa \", kappa)\n",
        "print(\"actual flow rate \", actFlowRate, \" m3/hr\")\n",
        "\n",
        "compressorspeed = 7992 # RPM\n",
        "\n",
        "def polytropEfficiency(flow, speed):\n",
        "        return 78.57\n",
        "\n",
        "def polytropHead(flow, speed):\n",
        "        return 15535.0\n",
        "\n",
        "polytropEff = polytropEfficiency(actFlowRate, compressorspeed)\n",
        "head_meter = polytropHead(actFlowRate, compressorspeed)\n",
        "\n",
        "n = 1.0/ (1.0 - (kappa-1.0)/kappa*1.0/(polytropEff/100.0))\n",
        "print(\"n \",n)\n",
        "print(\"head_meter \", head_meter)\n",
        "head_kjkg = head_meter/1000.0*9.81\n",
        "pressureRatio = math.pow((head_kjkg*1000.0 +  (n/(n-1.0)*z_inlet*8.314*(temperature_inlet+273.15)/MW))/ (n/(n-1.0)*z_inlet*8.314*(temperature_inlet+273.15)/MW), n/(n-1.0))\n",
        "print(\"pressure ratio \", pressureRatio)\n",
        "pressure_outlet = pressure_inlet*pressureRatio\n",
        "print(\"pressure out  \", pressure_outlet)\n",
        "\n",
        "clearProcess()\n",
        "stream1 = stream('stream 1', fluid1)\n",
        "compressor_1 = compressor('compressor 1', stream1, pressure_outlet)\n",
        "compressor_1.setPolytropicEfficiency(polytropEff/100.0)\n",
        "compressor_1.setUsePolytropicCalc(True)\n",
        "runProcess()\n",
        "print()\n",
        "print(\"Calculations using polytropic efficiency: \", (polytropEff), '%')\n",
        "print(\"compressor1 power \", compressor_1.getTotalWork()/1e6, \" MW\")\n",
        "print(\"temperature out \", (compressor_1.getThermoSystem().getTemperature()-273.15))\n",
        "print(\"pressure out \", (compressor_1.getThermoSystem().getPressure()))"
      ],
      "execution_count": 17,
      "outputs": [
        {
          "output_type": "stream",
          "name": "stdout",
          "text": [
            "kappa  1.2419141565372038\n",
            "actual flow rate  16205.49354807249  m3/hr\n",
            "n  1.3296471847434705\n",
            "head_meter  15535.0\n",
            "pressure ratio  2.897012868556815\n",
            "pressure out   22.973312047655543\n",
            "\n",
            "Calculations using polytropic efficiency:  78.57 %\n",
            "compressor1 power  5.483253309822206  MW\n",
            "temperature out  127.58341422739824\n",
            "pressure out  22.97331204765553\n"
          ]
        }
      ]
    },
    {
      "cell_type": "code",
      "metadata": {
        "id": "yqTbZIDLSM2c",
        "colab": {
          "base_uri": "https://localhost:8080/"
        },
        "outputId": "12d15689-28c6-4e85-c71a-3e44dc7d8a44"
      },
      "source": [
        "temperature_inlet = 35.0 #@param {type:\"number\"}\n",
        "pressure_inlet = 85.0 #@param {type:\"number\"}\n",
        "\n",
        "pressure_Out = 150.0 #@param {type:\"number\"}\n",
        "temperature_out = 100.0\n",
        "\n",
        "gasFlowRate = 5.0#@param {type:\"number\"} # MSm3/day\n",
        "\n",
        "polytropicEfficiency = 77.0 #@param {type:\"number\"} # compressor efficiency%\n",
        "\n",
        "fluid1 = fluid('srk')\n",
        "fluid1.addComponent('methane', 1.0)\n",
        "fluid1.setTotalFlowRate(gasFlowRate, \"MSm3/day\")\n",
        "fluid1.setPressure(pressure_inlet, 'bara')\n",
        "fluid1.setTemperature(temperature_inlet, 'C')\n",
        "\n",
        "TPflash(fluid1)\n",
        "fluid1.initProperties()\n",
        "\n",
        "kappa = fluid1.getPhase(0).getKappa()\n",
        "print(\"kappa \", kappa)\n",
        "MW = fluid1.getMolarMass()\n",
        "density_inlet = fluid1.getDensity('kg/m3')\n",
        "enthalpy_inlet = fluid1.getEnthalpy('J/kg')\n",
        "entropy_inlet = fluid1.getEntropy()\n",
        "z_inlet = fluid1.getZ()\n",
        "\n",
        "n = 1.0/ (1.0 - (kappa-1.0)/kappa*1.0/(polytropicEfficiency/100.0))\n",
        "print(\"polytropic exponent \", n)\n",
        "power = n/(n-1.0)*(temperature_inlet+273.15)*z_inlet/(polytropicEfficiency/100.0)*(gasFlowRate*1.0e6/24.0/3600.0)*(101325.0/288.15)*(math.pow(pressure_Out/pressure_inlet, (n-1.0)/n)-1.0)\n",
        "estOutTemp = (temperature_inlet+273.15)*math.pow(pressure_Out/pressure_inlet, (n-1.0)/n)\n",
        "print(\"power based in simple method \", power/1e6, \"MW\")\n",
        "print(\"temperature out based on simple method \", (estOutTemp-273.15), \" C\")\n",
        "\n",
        "fluid1.setPressure(pressure_Out, \"bara\")\n",
        "PSflash(fluid1, entropy_inlet)\n",
        "fluid1.initProperties()\n",
        "enthalpy_isentr = fluid1.getEnthalpy('J/kg')\n",
        "density_isentr = fluid1.getDensity('kg/m3')\n",
        "Z_isentr = fluid1.getZ()\n",
        "\n",
        "fluid1.setPressure(pressure_Out, 'bara')\n",
        "fluid1.setTemperature(temperature_out, 'C')\n",
        "TPflash(fluid1)\n",
        "fluid1.initProperties()\n",
        "\n",
        "density_outlet = fluid1.getDensity('kg/m3')\n",
        "enthalpy_outlet = fluid1.getEnthalpy('J/kg')\n",
        "\n",
        "k_s = math.log(pressure_Out/pressure_inlet)/math.log(density_outlet/density_inlet)\n",
        "\n",
        "n = k_s/(k_s-1.0)\n",
        "\n",
        "k_h = (enthalpy_outlet-enthalpy_isentr)/(100000.0 * n * (pressure_Out/density_isentr-pressure_inlet/density_inlet))\n",
        "\n",
        "k_p = (1.0-math.log(density_outlet/density_inlet))/math.log(pressure_Out/pressure_inlet)\n",
        "k_p\n",
        "\n",
        "h_p = k_h*(temperature_inlet+273.15)*Z_isentr*8.314*(math.pow(pressure_Out/pressure_inlet,k_p)-1.0)/(MW*1000.0)/k_p\n",
        "\n",
        "h_tot = h_p/(polytropicEfficiency/100.0)\n",
        "\n",
        "E_p = h_tot*fluid1.getVolume('m3')/density_inlet\n",
        "\n",
        "E_p"
      ],
      "execution_count": 18,
      "outputs": [
        {
          "output_type": "stream",
          "name": "stdout",
          "text": [
            "kappa  1.45715985758999\n",
            "polytropic exponent  1.6876101898401001\n",
            "power based in simple method  4.67005623452687 MW\n",
            "temperature out based on simple method  115.23983254530901  C\n"
          ]
        },
        {
          "output_type": "execute_result",
          "data": {
            "text/plain": [
              "1.1841780119115959"
            ]
          },
          "metadata": {},
          "execution_count": 18
        }
      ]
    },
    {
      "cell_type": "markdown",
      "source": [
        "## Effect of molecular weight on performance of centrifugal compressors\n",
        "\n",
        "http://www.jmcampbell.com/tip-of-the-month/2008/11/effect-of-gas-molecular-weight-on-centrifugal-compressor-performance/"
      ],
      "metadata": {
        "id": "6_GVZJw7B2fu"
      }
    },
    {
      "cell_type": "code",
      "source": [
        "#.... code to come here"
      ],
      "metadata": {
        "id": "VUoo2wYvCAeY"
      },
      "execution_count": null,
      "outputs": []
    },
    {
      "cell_type": "markdown",
      "source": [
        "# Anti surge flow\n",
        "Calculation of compressors with anti surge"
      ],
      "metadata": {
        "id": "UZjKGLupwDzl"
      }
    },
    {
      "cell_type": "code",
      "source": [
        "from neqsim.thermo import fluid, phaseenvelope\n",
        "from neqsim.process import separator, heater, clearProcess, stream,  compressor, runProcess, viewProcess, getProcess, splitter, mixer, recycle, valve, virtualstream\n",
        "from jpype.types import JDouble\n",
        "\n",
        "temperature_inlet = 35.0\n",
        "pressure_inlet = 55.0\n",
        "pressure_outlet = 100.0\n",
        "gasFlowRate = 5.0\n",
        "\n",
        "\n",
        "fluid1 = fluid('srk')\n",
        "fluid1.addComponent(\"methane\", 1.0)\n",
        "\n",
        "clearProcess()\n",
        "\n",
        "stream1 = stream('stream 1', fluid1)\n",
        "stream1.setPressure(pressure_inlet, 'bara')\n",
        "stream1.setTemperature(temperature_inlet, 'C')\n",
        "stream1.setFlowRate(gasFlowRate, \"MSm3/day\")\n",
        "\n",
        "streamresycl  = stream('stream 2', stream1.clone())\n",
        "streamresycl.setFlowRate(1.0, 'MSm3/day')\n",
        "mixerStream = mixer()\n",
        "mixerStream.addStream(stream1)\n",
        "mixerStream.addStream(streamresycl)\n",
        "\n",
        "compressor_1 = compressor('compressor 1', mixerStream.getOutletStream(), pressure_outlet)\n",
        "compressor_1.setIsentropicEfficiency(0.77)\n",
        "\n",
        "stream2 = stream('stream 22', compressor_1.getOutStream())\n",
        "\n",
        "streamSplit = splitter('splitter 1', stream2)\n",
        "streamSplit.setFlowRates(JDouble[:]([5, 0.1]), 'MSm3/day')\n",
        "\n",
        "resycStream1 = streamSplit.getSplitStream(1)\n",
        "\n",
        "valve1 = valve('valve 1', resycStream1)\n",
        "valve1.setOutletPressure(pressure_inlet)\n",
        "valve1.setPercentValveOpening(5.0)\n",
        "\n",
        "resycleOp = recycle('recycle')\n",
        "resycleOp.addStream(valve1.getOutletStream())\n",
        "resycleOp.setOutletStream(streamresycl)\n",
        "resycleOp.setTolerance(1e-4)\n",
        "\n",
        "exportStream = stream('stream 3', streamSplit.getSplitStream(0))\n",
        "\n",
        "virtualStream1 = virtualstream('virtaual stream 1', exportStream)\n",
        "virtualStream1.setFlowRate(10.0, 'MSm3/day')\n",
        "\n",
        "runProcess()\n",
        "print('export flow ' , exportStream.getFlowRate('MSm3/day'))\n",
        "print('recycle flow ' , resycStream1.getFlowRate('MSm3/day'))\n",
        "print('flow to compressor ' , mixerStream.getOutStream().getFlowRate('MSm3/day'))\n",
        "print('power ', compressor_1.getPower('kW'), ' kW')\n",
        "print('valve Cv ', valve1.getCv())\n",
        "print('valve opening', valve1.getPercentValveOpening(), ' %')\n",
        "\n",
        "streamSplit.setFlowRates(JDouble[:]([5, 2.1]), 'MSm3/day')\n",
        "runProcess()\n",
        "print('export flow ' , exportStream.getFlowRate('MSm3/day'))\n",
        "print('recycle flow ' , resycStream1.getFlowRate('MSm3/day'))\n",
        "print('flow to compressor ' , mixerStream.getOutStream().getFlowRate('MSm3/day'))\n",
        "print('power ', compressor_1.getPower('kW'), ' kW')\n",
        "print('valve Cv ', valve1.getCv())\n",
        "print('valve opening', valve1.getPercentValveOpening(), ' %')\n",
        "\n",
        "print('virtual stream flow ' , virtualStream1.getOutStream().getFlowRate('MSm3/day'))"
      ],
      "metadata": {
        "id": "5XMqUVAswLl0",
        "outputId": "23350788-3183-4cb8-be9c-434ebb5e0551",
        "colab": {
          "base_uri": "https://localhost:8080/"
        }
      },
      "execution_count": 23,
      "outputs": [
        {
          "output_type": "stream",
          "name": "stdout",
          "text": [
            "export flow  5.000000130425236\n",
            "recycle flow  0.10000000260850474\n",
            "flow to compressor  5.100000133033741\n",
            "power  5029.895481942548  kW\n",
            "valve Cv  3994.683024063272\n",
            "valve opening 4.33479204934919  %\n",
            "export flow  4.999999813261464\n",
            "recycle flow  2.0999999215698155\n",
            "flow to compressor  7.099999734831278\n",
            "power  7610.345217440737  kW\n",
            "valve Cv  3994.683024063272\n",
            "valve opening 94.68804188226498  %\n",
            "virtual stream flow  10.0\n"
          ]
        }
      ]
    },
    {
      "cell_type": "markdown",
      "source": [
        "# Connect energy from expander to a compressor\n",
        "In the following exmaple we connect an expander energy output to a compressor."
      ],
      "metadata": {
        "id": "RONFSaKcj1bc"
      }
    },
    {
      "cell_type": "code",
      "source": [
        "fluid1 = fluid('srk')\n",
        "fluid1.addComponent(\"nitrogen\", 2.0)\n",
        "fluid1.addComponent(\"methane\", 50.0)\n",
        "fluid1.setMixingRule(2)\n",
        "\n",
        "clearProcess()\n",
        "\n",
        "inletStream = stream(\"feed stream\", fluid1);\n",
        "inletStream.setPressure(100, \"bara\");\n",
        "inletStream.setTemperature(30, \"C\");\n",
        "inletStream.setFlowRate(1, \"MSm3/day\");\n",
        "inletStream.run();\n",
        "\n",
        "from neqsim import jneqsim\n",
        "from neqsim.process import expander\n",
        "estream1 = jneqsim.process.equipment.stream.EnergyStream(\"e_stream\");\n",
        "\n",
        "expander1 = expander(\"expander 1\", inletStream, p=55)\n",
        "expander1.setPolytropicEfficiency(0.8)\n",
        "expander1.setUsePolytropicCalc(True)\n",
        "expander1.setOutletPressure(55.0, \"bara\")\n",
        "expander1.setEnergyStream(estream1)\n",
        "expander1.run()\n",
        "\n",
        "compressor1 = compressor(\"compressor 1\", expander1.getOutletStream());\n",
        "compressor1.setUsePolytropicCalc(True)\n",
        "compressor1.setPolytropicEfficiency(0.8)\n",
        "compressor1.setEnergyStream(estream1)\n",
        "compressor1.setCalcPressureOut(True)\n",
        "compressor1.run()\n",
        "\n",
        "\n",
        "runProcess()\n",
        "print('expander duty ', expander1.getPower('kW'), ' kW')\n",
        "print('compressor duty ', compressor1.getPower('kW'), ' kW')\n",
        "print('outlet pressure ', compressor1.getOutletStream().getPressure('bara'), ' bara')"
      ],
      "metadata": {
        "id": "aDZwnK0fkE4A",
        "outputId": "9eb89ffb-58c4-4d86-d874-2c3d095f0258",
        "colab": {
          "base_uri": "https://localhost:8080/"
        }
      },
      "execution_count": 29,
      "outputs": [
        {
          "output_type": "stream",
          "name": "stdout",
          "text": [
            "expander duty  -481.3762231247436  kW\n",
            "compressor duty  481.3762229928018  kW\n",
            "outlet pressure  81.61462472294008  bara\n"
          ]
        }
      ]
    }
  ]
}