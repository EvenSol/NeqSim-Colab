{
  "nbformat": 4,
  "nbformat_minor": 0,
  "metadata": {
    "colab": {
      "name": "heatexchanger.ipynb",
      "provenance": [],
      "include_colab_link": true
    },
    "kernelspec": {
      "name": "python3",
      "display_name": "Python 3"
    }
  },
  "cells": [
    {
      "cell_type": "markdown",
      "metadata": {
        "id": "view-in-github",
        "colab_type": "text"
      },
      "source": [
        "<a href=\"https://colab.research.google.com/github/EvenSol/NeqSim-Colab/blob/master/notebooks/process/heatexchanger.ipynb\" target=\"_parent\"><img src=\"https://colab.research.google.com/assets/colab-badge.svg\" alt=\"Open In Colab\"/></a>"
      ]
    },
    {
      "cell_type": "code",
      "metadata": {
        "id": "CEdjZZHBo3y_",
        "cellView": "form"
      },
      "source": [
        "#@title Calculation of shell and tube heat exchangers\n",
        "#@markdown This section gives and introduction to design of shell and tube heat exchangers.\n",
        "%%capture\n",
        "%pip install neqsim\n",
        "%pip install ht\n",
        "import neqsim\n",
        "from neqsim.thermo.thermoTools import *\n",
        "import matplotlib\n",
        "import numpy as np\n",
        "import matplotlib.pyplot as plt\n",
        "import math\n",
        "%matplotlib inline"
      ],
      "execution_count": 56,
      "outputs": []
    },
    {
      "cell_type": "markdown",
      "metadata": {
        "id": "5t6c9swXIE-y"
      },
      "source": [
        "###Theory\n",
        "A number of web pages describe the fundamental theory of heat exchange. MIT has published a web course with a [simple introduction to heat treansfer and heat exchangers](http://web.mit.edu/16.unified/www/FALL/thermodynamics/notes/node131.html). "
      ]
    },
    {
      "cell_type": "code",
      "metadata": {
        "id": "X8RVCLq35hX_",
        "cellView": "form",
        "colab": {
          "base_uri": "https://localhost:8080/",
          "height": 421
        },
        "outputId": "07de853f-3779-44f1-e75d-4acc68136209"
      },
      "source": [
        "#@title Introduction to shell and tube heat exchangers\n",
        "#@markdown This video gives introduction to shell and tube heat exchangers\n",
        "from IPython.display import YouTubeVideo\n",
        "YouTubeVideo('zUjTa5BajxQ', width=600, height=400)"
      ],
      "execution_count": 7,
      "outputs": [
        {
          "output_type": "execute_result",
          "data": {
            "text/plain": [
              "<IPython.lib.display.YouTubeVideo at 0x7f067a91a690>"
            ],
            "text/html": [
              "\n",
              "        <iframe\n",
              "            width=\"600\"\n",
              "            height=\"400\"\n",
              "            src=\"https://www.youtube.com/embed/zUjTa5BajxQ\"\n",
              "            frameborder=\"0\"\n",
              "            allowfullscreen\n",
              "        ></iframe>\n",
              "        "
            ],
            "image/jpeg": "[encoded data removed]"
          },
          "metadata": {},
          "execution_count": 7
        }
      ]
    },
    {
      "cell_type": "markdown",
      "metadata": {
        "id": "FxWhofMrD1po"
      },
      "source": [
        "### Design of a shell and tube heat exchanger\n",
        "\n",
        "The duty of a heat exchanger is calculated using general equation \n",
        "\n",
        "$Q=U \\times A \\times LMTD $\n",
        "\n",
        "Where ''Q'' is the exchanged heat duty (in watt), ''U'' is the heat transfer coefficient (in watts per Kelvin per square meter) and ''A'' is the exchange area. LMTD is the [log mean temperature difference](https://en.wikipedia.org/wiki/Logarithmic_mean_temperature_difference) given by the equation:\n",
        "\n",
        "$LMTD=\\frac{\\Delta T_A - \\Delta T_B}{\\ln \\left( \\frac{\\Delta T_A}{\\Delta T_B} \\right ) }$ \n",
        "\n",
        "\n",
        "where $\\Delta T_A$ is the temperature difference between the two streams at end ''A'', and $\\Delta T_B$ is the temperature difference between the two streams at end ''B''. \n",
        "\n",
        "The process simulation will give the necessary duty (Q) for a heat exchanger. "
      ]
    },
    {
      "cell_type": "markdown",
      "metadata": {
        "id": "zPpoaJyhL1PL"
      },
      "source": [
        "###Example\n",
        "1. Estimate the duty of a heat exchager that will cool 1 $MSm^3/day$ of a natural gas at 100 bara from $100 ^\\circ C $ to 30 $ ^\\circ C $\n",
        "2. Use a shell and tube heat echanger to cool the gas. Assume an overall heat transfer coefficient of 100 $\\frac{W}{m^2 \\times K}$. The gas will be cooled using sea water with an inlet temperature of 12  $ ^\\circ C $ and an outlet temperature of 80  $ ^\\circ C $. Estimate the neccesary heat exchanger area. "
      ]
    },
    {
      "cell_type": "code",
      "metadata": {
        "id": "aj2BENL9Lj0E",
        "colab": {
          "base_uri": "https://localhost:8080/"
        },
        "outputId": "7c803fd9-c74e-4176-812f-e34a682fff5a"
      },
      "source": [
        "U_Wm2K = 100.0 #@param {type:\"number\"}\n",
        "gas_flow = 1.0 #@param {type:\"number\"}\n",
        "gas_inlet_pressure = 100.0 #@param {type:\"number\"}\n",
        "gas_inlet_temperature = 100.0 #@param {type:\"number\"}\n",
        "gas_outlet_temperature = 30.0 #@param {type:\"number\"}\n",
        "water_inlet_temperature = 12.0 #@param {type:\"number\"}\n",
        "water_outlet_temperature = 80.0 #@param {type:\"number\"}\n",
        "\n",
        "from neqsim.thermo import fluid\n",
        "from neqsim import methods\n",
        "from neqsim.process import clearProcess, heater, stream, runProcess\n",
        "\n",
        "# Start by creating a fluid in neqsim\n",
        "fluid1 = fluid(\"srk\")  # create a fluid using the SRK-Eo\n",
        "fluid1.addComponent(\"CO2\", 2.0)\n",
        "fluid1.addComponent(\"methane\", 85.0)\n",
        "fluid1.addComponent(\"ethane\", 5.0)\n",
        "fluid1.addComponent(\"propane\", 3.0)\n",
        "fluid1.addComponent(\"i-butane\", 2.0)\n",
        "fluid1.addComponent(\"n-butane\", 2.0)\n",
        "fluid1.setMixingRule(2)\n",
        "fluid1.setTemperature(gas_inlet_temperature, \"C\")\n",
        "fluid1.setPressure(gas_inlet_pressure, \"bara\")\n",
        "fluid1.setTotalFlowRate(gas_flow, \"MSm3/day\")\n",
        "\n",
        "clearProcess()\n",
        "stream1 = stream(fluid1)\n",
        "cooler1 = heater(stream1)\n",
        "cooler1.setOutTemperature(273.15+gas_outlet_temperature)\n",
        "runProcess()\n",
        "\n",
        "deltaTA = gas_inlet_temperature-water_outlet_temperature\n",
        "deltaTB = gas_outlet_temperature-water_inlet_temperature\n",
        "\n",
        "LMTD = (deltaTA-deltaTB)/(math.log(deltaTA/deltaTB))\n",
        "\n",
        "Q = -cooler1.getEnergyInput()\n",
        "A = Q/U_Wm2K/LMTD\n",
        "print(\"LMTD \", round(LMTD,3), \" degC\")\n",
        "print(\"heat exchanger duty \", round(cooler1.getEnergyInput()/1e6,3), \" MW\")\n",
        "print(\"heat exchanger area \", round(A,3), \" m^2\")"
      ],
      "execution_count": 8,
      "outputs": [
        {
          "output_type": "stream",
          "name": "stdout",
          "text": [
            "LMTD  18.982  degC\n",
            "heat exchanger duty  -1.935  MW\n",
            "heat exchanger area  1019.242  m^2\n"
          ]
        }
      ]
    },
    {
      "cell_type": "markdown",
      "source": [
        "## Use of the Python ht package\n",
        "https://ht.readthedocs.io/en/release/\n",
        "\n",
        "ht is open-source software for engineers and technicians working in the fields of chemical or mechanical engineering. It includes modules for various heat transfer functions.\n",
        "\n",
        "Caleb Bell and Contributors (2016-2021). ht: Heat transfer component of Chemical Engineering Design Library (ChEDL)\n",
        "https://github.com/CalebBell/ht.\n"
      ],
      "metadata": {
        "id": "6S3dZYTv9rjH"
      }
    },
    {
      "cell_type": "code",
      "source": [
        "from neqsim.process import heatExchanger\n",
        "coolingWaterFlow = 100000.0; #kg/hr\n",
        "\n",
        "fluid1 = fluid(\"srk\")  # create a fluid using the SRK-Eo\n",
        "fluid1.addComponent(\"CO2\", 2.0)\n",
        "fluid1.addComponent(\"methane\", 85.0)\n",
        "fluid1.addComponent(\"ethane\", 5.0)\n",
        "fluid1.addComponent(\"propane\", 3.0)\n",
        "fluid1.addComponent(\"i-butane\", 2.0)\n",
        "fluid1.addComponent(\"n-butane\", 2.0)\n",
        "fluid1.setMixingRule(2)\n",
        "fluid1.setTemperature(gas_inlet_temperature, \"C\")\n",
        "fluid1.setPressure(gas_inlet_pressure, \"bara\")\n",
        "fluid1.setTotalFlowRate(gas_flow, \"MSm3/day\")\n",
        "\n",
        "fluid2 = fluid(\"srk\")  # create a fluid using the SRK-Eo\n",
        "fluid2.addComponent(\"water\", 100.0)\n",
        "fluid2.setMixingRule(2)\n",
        "fluid2.setTemperature(water_inlet_temperature, \"C\")\n",
        "fluid2.setPressure(5.0, \"bara\")\n",
        "fluid2.setTotalFlowRate(coolingWaterFlow, \"kg/hr\")\n",
        "\n",
        "clearProcess()\n",
        "hotgasStream = stream(fluid1)\n",
        "collingWaterStream = stream(fluid2)\n",
        "coolerHX = heatExchanger(hotgasStream, collingWaterStream, 'HX1')\n",
        "coolerHX.setUAvalue(U_Wm2K*A) \n",
        "runProcess()\n",
        "\n",
        "print('gas out temperature ' , coolerHX.getOutStream(1).getTemperature('C'))\n",
        "print(' duty ' , coolerHX.getDuty())\n"
      ],
      "metadata": {
        "id": "mASpCc0x_tqZ",
        "outputId": "618842a4-748a-484c-8777-0a6fb844754b",
        "colab": {
          "base_uri": "https://localhost:8080/"
        }
      },
      "execution_count": 52,
      "outputs": [
        {
          "output_type": "stream",
          "name": "stdout",
          "text": [
            "gas out temperature  29.86950892181784\n",
            " duty  -2389454.821219723\n"
          ]
        }
      ]
    },
    {
      "cell_type": "code",
      "source": [
        "from ht import *\n",
        "\n",
        "U = U_Wm2K # W/m^2/K\n",
        "A = A # m^2\n",
        "m_gas = hotgasStream.getFlowRate('kg/sec') # kg/s\n",
        "Cp_gas = hotgasStream.getFluid().getCp('J/kgK') # J/kg/K\n",
        "Cp_water = collingWaterStream.getFluid().getCp('J/kgK') # J/kg/K\n",
        "m_water = collingWaterStream.getFlowRate('kg/sec' )# kg/s\n",
        "\n",
        "Thi = hotgasStream.getTemperature('C')\n",
        "Tci = collingWaterStream.getTemperature('C')\n",
        "\n",
        "Cmin = calc_Cmin(mh=m_gas, mc=m_water, Cph=Cp_gas, Cpc=Cp_water)\n",
        "Cmax = calc_Cmax(mh=m_gas, mc=m_water, Cph=Cp_gas, Cpc=Cp_water)\n",
        "Cr = calc_Cr(mh=m_gas, mc=m_water, Cph=Cp_gas, Cpc=Cp_water)\n",
        "NTU = NTU_from_UA(UA=U*A, Cmin=Cmin)\n",
        "eff = effectiveness_from_NTU(NTU=NTU, Cr=Cr, subtype='crossflow, mixed Cmax')\n",
        "Q = eff*Cmin*(Thi - coolerHX.getOutStream(0).getTemperature('C'))\n",
        "Tco = Tci + Q/(m_water*Cp_water)\n",
        "Tho = Thi - Q/(m_gas*Cp_gas)\n",
        "\n",
        "Cmin, Cmax, Cr, NTU, eff, Q, Tco, Tho, Q"
      ],
      "metadata": {
        "id": "ouAbM0rx9w4L",
        "outputId": "0e7b9fb4-9090-4635-db6b-5ca0b85de87f",
        "colab": {
          "base_uri": "https://localhost:8080/"
        }
      },
      "execution_count": 70,
      "outputs": [
        {
          "output_type": "execute_result",
          "data": {
            "text/plain": [
              "(26499.53174398009,\n",
              " 133944.4382623062,\n",
              " 0.19783973181540765,\n",
              " 3.846265578987752,\n",
              " 0.8897308112487075,\n",
              " 1990348.484754998,\n",
              " 26.859508245181907,\n",
              " 24.891182833555305,\n",
              " 1990348.484754998)"
            ]
          },
          "metadata": {},
          "execution_count": 70
        }
      ]
    }
  ]
}