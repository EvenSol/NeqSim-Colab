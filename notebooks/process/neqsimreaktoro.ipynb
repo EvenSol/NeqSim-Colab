{
  "nbformat": 4,
  "nbformat_minor": 0,
  "metadata": {
    "colab": {
      "provenance": [],
      "include_colab_link": true
    },
    "kernelspec": {
      "name": "python3",
      "display_name": "Python 3"
    },
    "language_info": {
      "name": "python"
    }
  },
  "cells": [
    {
      "cell_type": "markdown",
      "metadata": {
        "id": "view-in-github",
        "colab_type": "text"
      },
      "source": [
        "<a href=\"https://colab.research.google.com/github/EvenSol/NeqSim-Colab/blob/master/notebooks/process/neqsimreaktoro.ipynb\" target=\"_parent\"><img src=\"https://colab.research.google.com/assets/colab-badge.svg\" alt=\"Open In Colab\"/></a>"
      ]
    },
    {
      "cell_type": "markdown",
      "source": [
        "# Use of third party libraries in NeqSim process simulations\n",
        "In this workbook we will give examples of how to use third party tools such as Reaktoro, Refprop, CoolProp, Cantera and ThermoPack in a NeqSim process simulation.\n",
        "\n",
        "This documentation is part of [Introduction of Gas Processsing using NeqSim and Python](https://colab.research.google.com/github/EvenSol/NeqSim-Colab/blob/master/notebooks/examples_of_NeqSim_in_Colab.ipynb)."
      ],
      "metadata": {
        "id": "s863d-bFHkjw"
      }
    },
    {
      "cell_type": "markdown",
      "source": [
        "# Use of Reaktoro as a unit operation in NeqSim process simulation\n",
        "In the following example we will integrate Reaktoro as an unit operation in a NeqSim process simulation"
      ],
      "metadata": {
        "id": "wk4-LsDJbqjL"
      }
    },
    {
      "cell_type": "code",
      "execution_count": null,
      "metadata": {
        "colab": {
          "base_uri": "https://localhost:8080/"
        },
        "id": "F1oAKqiybXFf",
        "outputId": "60991709-b47f-4a63-e122-03bed154d501"
      },
      "outputs": [
        {
          "output_type": "stream",
          "name": "stdout",
          "text": [
            "Collecting neqsim==2.5.35\n",
            "  Downloading neqsim-2.5.35-py3-none-any.whl.metadata (4.1 kB)\n",
            "Collecting JPype1<2.0.0,>=1.5.0 (from neqsim==2.5.35)\n",
            "  Downloading JPype1-1.5.0-cp310-cp310-manylinux_2_17_x86_64.manylinux2014_x86_64.whl.metadata (4.9 kB)\n",
            "Requirement already satisfied: numpy<2.0.0,>=1.25.2 in /usr/local/lib/python3.10/dist-packages (from neqsim==2.5.35) (1.26.4)\n",
            "Requirement already satisfied: pandas<3.0.0,>=2.0.3 in /usr/local/lib/python3.10/dist-packages (from neqsim==2.5.35) (2.2.2)\n",
            "Requirement already satisfied: packaging in /usr/local/lib/python3.10/dist-packages (from JPype1<2.0.0,>=1.5.0->neqsim==2.5.35) (24.1)\n",
            "Requirement already satisfied: python-dateutil>=2.8.2 in /usr/local/lib/python3.10/dist-packages (from pandas<3.0.0,>=2.0.3->neqsim==2.5.35) (2.8.2)\n",
            "Requirement already satisfied: pytz>=2020.1 in /usr/local/lib/python3.10/dist-packages (from pandas<3.0.0,>=2.0.3->neqsim==2.5.35) (2024.2)\n",
            "Requirement already satisfied: tzdata>=2022.7 in /usr/local/lib/python3.10/dist-packages (from pandas<3.0.0,>=2.0.3->neqsim==2.5.35) (2024.2)\n",
            "Requirement already satisfied: six>=1.5 in /usr/local/lib/python3.10/dist-packages (from python-dateutil>=2.8.2->pandas<3.0.0,>=2.0.3->neqsim==2.5.35) (1.16.0)\n",
            "Downloading neqsim-2.5.35-py3-none-any.whl (57.1 MB)\n",
            "\u001b[2K   \u001b[90m━━━━━━━━━━━━━━━━━━━━━━━━━━━━━━━━━━━━━━━━\u001b[0m \u001b[32m57.1/57.1 MB\u001b[0m \u001b[31m10.2 MB/s\u001b[0m eta \u001b[36m0:00:00\u001b[0m\n",
            "\u001b[?25hDownloading JPype1-1.5.0-cp310-cp310-manylinux_2_17_x86_64.manylinux2014_x86_64.whl (488 kB)\n",
            "\u001b[2K   \u001b[90m━━━━━━━━━━━━━━━━━━━━━━━━━━━━━━━━━━━━━━━━\u001b[0m \u001b[32m488.6/488.6 kB\u001b[0m \u001b[31m12.5 MB/s\u001b[0m eta \u001b[36m0:00:00\u001b[0m\n",
            "\u001b[?25hInstalling collected packages: JPype1, neqsim\n",
            "Successfully installed JPype1-1.5.0 neqsim-2.5.35\n"
          ]
        }
      ],
      "source": [
        "!pip install neqsim==2.5.35"
      ]
    },
    {
      "cell_type": "code",
      "source": [
        "%%capture\n",
        "!pip install -q condacolab\n",
        "import condacolab\n",
        "condacolab.install_from_url(\"https://repo.anaconda.com/miniconda/Miniconda3-py38_4.12.0-Linux-x86_64.sh\")\n",
        "!conda config --remove channels defaults\n",
        "!conda config --add channels conda-forge\n",
        "!conda install reaktoro -y"
      ],
      "metadata": {
        "id": "6R_27ps-b4le"
      },
      "execution_count": null,
      "outputs": []
    },
    {
      "cell_type": "markdown",
      "source": [
        "# Implementing a Reaktoro unit operation in NeqSim"
      ],
      "metadata": {
        "id": "158kYPMGc1hy"
      }
    },
    {
      "cell_type": "code",
      "source": [
        "from neqsim.process.unitop import unitop\n",
        "from neqsim import jNeqSim\n",
        "from jpype import JImplements, JOverride\n",
        "import reaktoro as rkt\n",
        "import json\n",
        "\n",
        "class ReaktoroUnitOperation(unitop):\n",
        "    def __init__(self):\n",
        "        super().__init__()\n",
        "        self.serialVersionUID = None\n",
        "        self.name = \"\"\n",
        "        self.inputstream = None\n",
        "        self.aprops = None\n",
        "        self.fugacity_co2 = None\n",
        "\n",
        "    def setInputStream(self, stream):\n",
        "        self.inputstream = stream\n",
        "\n",
        "    def calc_reaktoro(self, pressure, temperature , fugacity_co2):\n",
        "      db = rkt.PhreeqcDatabase(\"phreeqc.dat\")\n",
        "      solution = rkt.AqueousPhase(rkt.speciate(\"H O Na Cl C Ca\"))\n",
        "      solution.set(rkt.ActivityModelPhreeqc(db))\n",
        "\n",
        "      calcite = rkt.MineralPhase(\"Calcite\")\n",
        "\n",
        "      system = rkt.ChemicalSystem(db, solution, calcite)\n",
        "\n",
        "      specs = rkt.EquilibriumSpecs(system)\n",
        "      specs.temperature()\n",
        "      specs.pressure()\n",
        "      specs.fugacity(\"CO2(g)\")\n",
        "\n",
        "      solver = rkt.EquilibriumSolver(specs)\n",
        "\n",
        "      state = rkt.ChemicalState(system)\n",
        "      state.temperature(50.0, \"celsius\")\n",
        "      state.pressure(10.0, \"bar\")\n",
        "      state.set(\"H2O\", 1.0, \"kg\")\n",
        "      state.set(\"Na+\", 1.0, \"mol\")\n",
        "      state.set(\"Cl-\", 1.0, \"mol\")\n",
        "      state.set(\"Calcite\", 10, \"g\")\n",
        "\n",
        "      conditions = rkt.EquilibriumConditions(specs)\n",
        "      conditions.temperature(temperature, \"celsius\")\n",
        "      conditions.pressure(pressure, \"bar\")\n",
        "      conditions.fugacity(\"CO2(g)\", fugacity_co2, \"bar\")\n",
        "\n",
        "      result = solver.solve(state, conditions)\n",
        "      return rkt.AqueousProps(state)\n",
        "\n",
        "    @JOverride\n",
        "    def run(self, uuid):\n",
        "      self.serialVersionUID = uuid\n",
        "      print(\"ReaktoroUnitOperation.run()\")\n",
        "      self.fugacity_co2 = self.inputstream.getFluid().getPhase(0).getFugacity('CO2')\n",
        "      self.aprops = self.calc_reaktoro(self.inputstream.getPressure('bara'), self.inputstream.getTemperature('C'), self.fugacity_co2)\n",
        "\n",
        "    @JOverride\n",
        "    def toJson(self):\n",
        "      data_dict = {\n",
        "            \"name\": self.name,\n",
        "            \"pH\": self.aprops.pH()[0],\n",
        "            \"fugacity CO2\": self.fugacity_co2\n",
        "      }\n",
        "      return json.dumps(data_dict)\n"
      ],
      "metadata": {
        "id": "71qW9mH-dFEo"
      },
      "execution_count": null,
      "outputs": []
    },
    {
      "cell_type": "markdown",
      "source": [
        "# Implement the Reaktoro unit operation in a NeqSim simulation\n",
        "The unit operation will report the pH of an aqueous phase with some ions in equilibrium with the gas."
      ],
      "metadata": {
        "id": "D5qdzKGdjxde"
      }
    },
    {
      "cell_type": "code",
      "source": [
        "from neqsim.thermo import fluid\n",
        "fluid1 = fluid(\"srk\")  # create a fluid using the SRK-EoS\n",
        "fluid1.setTemperature(30.0, \"C\")\n",
        "fluid1.setPressure(100.0, \"bara\")\n",
        "fluid1.addComponent(\"methane\", 0.9)\n",
        "fluid1.addComponent(\"CO2\", 0.1)\n",
        "fluid1.setMixingRule(2)\n",
        "\n",
        "stream1 = jNeqSim.processSimulation.processEquipment.stream.Stream(fluid1)\n",
        "stream1.setFlowRate(30000, \"kg/hr\")\n",
        "\n",
        "uop = ReaktoroUnitOperation()\n",
        "uop.setName(\"Reaktoro Unit Operation\")\n",
        "uop.setInputStream(stream1)\n",
        "\n",
        "example_process = jNeqSim.processSimulation.processSystem.ProcessSystem()\n",
        "example_process.add(stream1)\n",
        "example_process.add(uop)\n",
        "\n",
        "example_process.run()\n"
      ],
      "metadata": {
        "id": "0_0qWw3EkAHe"
      },
      "execution_count": null,
      "outputs": []
    },
    {
      "cell_type": "code",
      "source": [
        "json_report= str(jNeqSim.processSimulation.util.report.Report(example_process).generateJsonReport())\n",
        "output = json.loads(json_report)\n",
        "print(output['Reaktoro Unit Operation'])"
      ],
      "metadata": {
        "colab": {
          "base_uri": "https://localhost:8080/"
        },
        "id": "WcuaEZXlkrtc",
        "outputId": "b5971961-a1ee-421b-fdc7-98b6680b60a6"
      },
      "execution_count": null,
      "outputs": [
        {
          "output_type": "stream",
          "name": "stdout",
          "text": [
            "ReaktoroUnitOperation.run()\n",
            "{'name': 'Reaktoro Unit Operation', 'pH': 5.520539435475417, 'fugacity CO2': 6.970782669382442}\n"
          ]
        }
      ]
    },
    {
      "cell_type": "markdown",
      "source": [
        "# Use of CoolProp as a unit operation in NeqSim process simulation\n",
        "In the following example we will integrate CoolProp as an unit operation in a NeqSim process simulation\n",
        "\n",
        "http://www.coolprop.org/coolprop/examples.html"
      ],
      "metadata": {
        "id": "slLtdQV5IGZ8"
      }
    },
    {
      "cell_type": "code",
      "source": [
        "!pip install CoolProp"
      ],
      "metadata": {
        "colab": {
          "base_uri": "https://localhost:8080/"
        },
        "id": "iyd2CbqYINU4",
        "outputId": "21c1e26c-0d07-4053-8896-09c5c60d08e7"
      },
      "execution_count": null,
      "outputs": [
        {
          "output_type": "stream",
          "name": "stdout",
          "text": [
            "Requirement already satisfied: CoolProp in /usr/local/lib/python3.10/site-packages (6.6.0)\n"
          ]
        }
      ]
    },
    {
      "cell_type": "code",
      "source": [
        "from neqsim.process.unitop import unitop\n",
        "from neqsim import jNeqSim\n",
        "from jpype import JImplements, JOverride\n",
        "import CoolProp.CoolProp as CP\n",
        "from CoolProp.CoolProp import PropsSI\n",
        "import json\n",
        "\n",
        "class CoolPropUnitOperation(unitop):\n",
        "    def __init__(self):\n",
        "        super().__init__()\n",
        "        self.serialVersionUID = None\n",
        "        self.name = \"\"\n",
        "        self.inputstream = None\n",
        "        self.densityCO2 = None\n",
        "        self.densityCO2_neqsim = None\n",
        "\n",
        "\n",
        "    def setInputStream(self, stream):\n",
        "        self.inputstream = stream\n",
        "\n",
        "    def calc_cool_prop(self):\n",
        "      return PropsSI('D', 'T', self.inputstream.getTemperature('K'), 'P', self.inputstream.getPressure('Pa'), 'CO2')\n",
        "\n",
        "    @JOverride\n",
        "    def run(self, uuid):\n",
        "      self.serialVersionUID = id\n",
        "      self.inputstream.getFluid().initPhysicalProperties('Density')\n",
        "      self.densityCO2 = self.calc_cool_prop()\n",
        "      self.densityCO2_neqsim = self.inputstream.getFluid().getPhase(0).getDensity('kg/m3')\n",
        "\n",
        "    @JOverride\n",
        "    def toJson(self):\n",
        "      data_dict = {\n",
        "            \"name\": self.name,\n",
        "            \"densityCO2_CoolProp\": self.densityCO2,\n",
        "            \"densityCO2_NeqSim\": self.densityCO2_neqsim\n",
        "      }\n",
        "      return json.dumps(data_dict)"
      ],
      "metadata": {
        "id": "7TXXC6ehL18r"
      },
      "execution_count": null,
      "outputs": []
    },
    {
      "cell_type": "code",
      "source": [
        "from neqsim.thermo import fluid\n",
        "fluid1 = fluid(\"srk\")  # create a fluid using the SRK-EoS\n",
        "fluid1.setTemperature(14.3, \"C\")\n",
        "fluid1.setPressure(55.0, \"bara\")\n",
        "fluid1.addComponent(\"CO2\", 0.1)\n",
        "fluid1.setMixingRule(2)\n",
        "\n",
        "stream1 = jNeqSim.processSimulation.processEquipment.stream.Stream(fluid1)\n",
        "stream1.setFlowRate(30000, \"kg/hr\")\n",
        "\n",
        "uop = CoolPropUnitOperation()\n",
        "uop.setName(\"CoolProp Unit Operation\")\n",
        "uop.setInputStream(stream1)\n",
        "\n",
        "example_process = jNeqSim.processSimulation.processSystem.ProcessSystem()\n",
        "example_process.add(stream1)\n",
        "example_process.add(uop)\n",
        "\n",
        "example_process.run()"
      ],
      "metadata": {
        "id": "LrO_jcP-Rqs9"
      },
      "execution_count": null,
      "outputs": []
    },
    {
      "cell_type": "code",
      "source": [
        "json_report= str(jNeqSim.processSimulation.util.report.Report(example_process).generateJsonReport())\n",
        "output = json.loads(json_report)\n",
        "print(output['CoolProp Unit Operation'])"
      ],
      "metadata": {
        "colab": {
          "base_uri": "https://localhost:8080/"
        },
        "id": "c3Pxx5CnR0_7",
        "outputId": "d857fc32-529e-4ead-ab77-4212056986ab"
      },
      "execution_count": null,
      "outputs": [
        {
          "output_type": "stream",
          "name": "stdout",
          "text": [
            "{'name': 'CoolProp Unit Operation', 'densityCO2_CoolProp': 837.1416548396195, 'densityCO2_NeqSim': 742.8594991083878}\n"
          ]
        }
      ]
    },
    {
      "cell_type": "markdown",
      "source": [
        "# Use of ThermoPack as a unit operation in NeqSim process simulation\n",
        "In the following example we will integrate ThermoPack as an unit operation in a NeqSim process simulation\n",
        "\n",
        "https://pypi.org/project/thermopack/"
      ],
      "metadata": {
        "id": "I3Z_pMYGU178"
      }
    },
    {
      "cell_type": "code",
      "source": [
        "!pip install thermopack"
      ],
      "metadata": {
        "colab": {
          "base_uri": "https://localhost:8080/"
        },
        "id": "uHa-E5j3U9rf",
        "outputId": "f1cdb0cb-d1c9-48b1-e16c-80a23c290a81"
      },
      "execution_count": null,
      "outputs": [
        {
          "output_type": "stream",
          "name": "stdout",
          "text": [
            "Requirement already satisfied: thermopack in /usr/local/lib/python3.10/site-packages (2.2.3)\n"
          ]
        }
      ]
    },
    {
      "cell_type": "code",
      "source": [
        "from neqsim.process.unitop import unitop\n",
        "from neqsim import jNeqSim\n",
        "from jpype import JImplements, JOverride\n",
        "from thermopack.saftvrmie import saftvrmie\n",
        "import json\n",
        "\n",
        "class ThermoPackUnitOperation(unitop):\n",
        "    def __init__(self):\n",
        "        super().__init__()\n",
        "        self.serialVersionUID = None\n",
        "        self.name = \"\"\n",
        "        self.inputstream = None\n",
        "        self.densityCO2 = None\n",
        "        self.densityCO2_neqsim = None\n",
        "\n",
        "    def setInputStream(self, stream):\n",
        "        self.inputstream = stream\n",
        "\n",
        "    def calc_thermo_pack_prop(self):\n",
        "      eos = saftvrmie('C1,CO2')\n",
        "      T = 300 # Kelvin\n",
        "      p = 1e5 # Pascal\n",
        "      x = self.inputstream.getFluid().getzvector() # Molar composition\n",
        "      vg, = eos.specific_volume(self.inputstream.getTemperature('K'), self.inputstream.getPressure('Pa'), x, eos.TWOPH) # Molar volume of gas phase (NB: Notice the comma)\n",
        "      return self.inputstream.getFluid().getPhase(0).getMolarMass('kg/mol')/vg\n",
        "\n",
        "    @JOverride\n",
        "    def run(self, uuid):\n",
        "      self.serialVersionUID = uuid\n",
        "      self.inputstream.getFluid().initPhysicalProperties('Density')\n",
        "      self.densityCO2 = self.calc_thermo_pack_prop()\n",
        "      self.densityCO2_neqsim = self.inputstream.getFluid().getPhase(0).getDensity('kg/m3')\n",
        "\n",
        "    @JOverride\n",
        "    def toJson(self):\n",
        "      data_dict = {\n",
        "            \"name\": self.name,\n",
        "            \"densityCO2_ThermoPack\": self.densityCO2,\n",
        "            \"densityCO2_NeqSim\": self.densityCO2_neqsim\n",
        "      }\n",
        "      return json.dumps(data_dict)"
      ],
      "metadata": {
        "id": "E78B61YsYKGG"
      },
      "execution_count": null,
      "outputs": []
    },
    {
      "cell_type": "code",
      "source": [
        "from neqsim.thermo import fluid\n",
        "fluid1 = fluid(\"srk\")  # create a fluid using the SRK-EoS\n",
        "fluid1.setTemperature(14.3, \"C\")\n",
        "fluid1.setPressure(65.0, \"bara\")\n",
        "fluid1.addComponent(\"methane\", 0.01)\n",
        "fluid1.addComponent(\"CO2\", 0.99)\n",
        "fluid1.setMixingRule(2)\n",
        "\n",
        "stream1 = jNeqSim.processSimulation.processEquipment.stream.Stream(fluid1)\n",
        "stream1.setFlowRate(30000, \"kg/hr\")\n",
        "\n",
        "uop = ThermoPackUnitOperation()\n",
        "uop.setName(\"ThermoPack Unit Operation\")\n",
        "uop.setInputStream(stream1)\n",
        "\n",
        "example_process = jNeqSim.processSimulation.processSystem.ProcessSystem()\n",
        "example_process.add(stream1)\n",
        "example_process.add(uop)\n",
        "\n",
        "example_process.run()"
      ],
      "metadata": {
        "id": "rfniROMzZVT4"
      },
      "execution_count": null,
      "outputs": []
    },
    {
      "cell_type": "code",
      "source": [
        "json_report= str(jNeqSim.processSimulation.util.report.Report(example_process).generateJsonReport())\n",
        "output = json.loads(json_report)\n",
        "print(output['ThermoPack Unit Operation'])"
      ],
      "metadata": {
        "colab": {
          "base_uri": "https://localhost:8080/"
        },
        "id": "YgUwiNFAZccX",
        "outputId": "f05b9255-54da-4a6a-fa34-c37450655ef8"
      },
      "execution_count": null,
      "outputs": [
        {
          "output_type": "stream",
          "name": "stdout",
          "text": [
            "{'name': 'ThermoPack Unit Operation', 'densityCO2_ThermoPack': 856.638171127874, 'densityCO2_NeqSim': 751.3317350536282}\n"
          ]
        }
      ]
    },
    {
      "cell_type": "markdown",
      "source": [
        "**Use of Cantera as a unit operation in NeqSim process simulation**\n",
        "\n",
        "Cantera is an open-source collection of object-oriented software tools for problems involving chemical kinetics, thermodynamics, and transport processes.\n",
        "\n",
        "*   Evaluate thermodynamic and transport properties of mixtures\n",
        "*   Evaluate species chemical production rates\n",
        "*   Compute chemical equilibrium\n",
        "*   Evaluate species chemical production rates\n",
        "*   Conduct kinetics simulations with large reaction mechanisms\n",
        "*   Simulate one-dimensional flames\n",
        "*   Conduct reaction path analysis\n",
        "*   Create process simulations using networks of stirred reactors\n",
        "*   Model non-ideal fluids\n",
        "\n",
        "![image.png](data:image/png;base64,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)\n",
        "\n",
        "https://github.com/Cantera/cantera-jupyter/blob/main/flames/flame_speed_with_convergence_analysis.ipynb"
      ],
      "metadata": {
        "id": "DYytzkhwehHN"
      }
    },
    {
      "cell_type": "code",
      "source": [
        "%%capture\n",
        "!pip install neqsim==2.5.35\n",
        "!pip install cantera"
      ],
      "metadata": {
        "id": "Eqi29awDevzv"
      },
      "execution_count": null,
      "outputs": []
    },
    {
      "cell_type": "code",
      "source": [
        "from neqsim.process.unitop import unitop\n",
        "from neqsim import jNeqSim\n",
        "from jpype import JImplements, JOverride\n",
        "import cantera as ct\n",
        "import numpy as np\n",
        "import pandas as pd\n",
        "import matplotlib.pylab as plt"
      ],
      "metadata": {
        "id": "VvtbXONOe3yb"
      },
      "execution_count": null,
      "outputs": []
    },
    {
      "cell_type": "code",
      "source": [
        "class CanteraUnitOperation(unitop):\n",
        "    def __init__(self):\n",
        "        super().__init__()\n",
        "        self.serialVersionUID = None\n",
        "        self.name = \"\"\n",
        "        self.inputstream = None\n",
        "        self.oxidizerStream = None\n",
        "        self.flameSpeed = None\n",
        "        self.width = 0.015 #m\n",
        "        self.flame_speed = None\n",
        "        self.flame = None\n",
        "\n",
        "        # Import plotting modules and define plotting preference\n",
        "        %config InlineBackend.figure_formats = [\"svg\"]\n",
        "        %matplotlib inline\n",
        "\n",
        "        plt.rcParams[\"axes.labelsize\"] = 14\n",
        "        plt.rcParams[\"xtick.labelsize\"] = 12\n",
        "        plt.rcParams[\"ytick.labelsize\"] = 12\n",
        "        plt.rcParams[\"legend.fontsize\"] = 10\n",
        "        plt.rcParams[\"figure.figsize\"] = (8, 6)\n",
        "        plt.rcParams[\"figure.dpi\"] = 120\n",
        "\n",
        "        # Get the best of both ggplot and seaborn\n",
        "        plt.style.use(\"ggplot\")\n",
        "        plt.style.use(\"seaborn-v0_8-deep\")\n",
        "\n",
        "        plt.rcParams[\"figure.autolayout\"] = True\n",
        "\n",
        "    def setInputStream(self, stream):\n",
        "        self.inputstream = stream\n",
        "\n",
        "    def setFuelStream(self, stream):\n",
        "        self.inputstream = stream\n",
        "\n",
        "    def setOxidizerStream(self, stream):\n",
        "        self.oxidizerStream = stream\n",
        "\n",
        "    def setWidth(self, width):\n",
        "        self.width = width\n",
        "\n",
        "    def getFlameSpeed(self):\n",
        "      return self.flameSpeed\n",
        "\n",
        "    def plotFlame(self):\n",
        "      plt.figure()\n",
        "\n",
        "      plt.plot(self.flame.grid * 100, self.flame.T, \"-o\")\n",
        "      plt.xlabel(\"Distance (cm)\")\n",
        "      plt.ylabel(\"Temperature (K)\");\n",
        "      plt.show()\n",
        "\n",
        "    def calc_flame(self):\n",
        "      # Inlet Temperature in Kelvin and Inlet Pressure in Pascals\n",
        "      # In this case we are setting the inlet T and P to room temperature conditions\n",
        "      To = self.inputstream.getTemperature()\n",
        "      Po = self.inputstream.getPressure(\"Pa\")\n",
        "      fuel_oxidizer_ratio = self.inputstream.getFlowRate(\"mole/sec\")/self.oxidizerStream.getFlowRate(\"mole/sec\")\n",
        "\n",
        "      # Define the gas-mixutre and kinetics\n",
        "      # In this case, we are choosing a GRI3.0 gas kinetics\n",
        "      gas = ct.Solution(\"gri30.yaml\")\n",
        "\n",
        "      fuel_composition = self.get_composition(self.inputstream)\n",
        "      oxidizer_composition = self.get_composition(self.oxidizerStream)\n",
        "\n",
        "      # Create a stoichiometric CH4/Air premixed mixture\n",
        "      gas.set_equivalence_ratio(fuel_oxidizer_ratio, fuel_composition, oxidizer_composition, basis='mole')\n",
        "\n",
        "\n",
        "      gas.TP = To, Po\n",
        "\n",
        "      # Create the flame object\n",
        "      self.flame = ct.FreeFlame(gas, width=self.width)\n",
        "\n",
        "      # Define tolerances for the solver\n",
        "      self.flame.set_refine_criteria(ratio=3, slope=0.1, curve=0.1)\n",
        "\n",
        "      # Define logging level\n",
        "      loglevel = 0\n",
        "\n",
        "      self.flame.solve(loglevel=loglevel, auto=True)\n",
        "      self.flameSpeed = self.flame.velocity[0]\n",
        "\n",
        "      #return rkt.AqueousProps(state)\n",
        "\n",
        "    def get_composition(self, stream):\n",
        "      composition = \"\"\n",
        "      components_list = [stream.getFluid().getComponent(i).getName() for i in range(stream.getFluid().getNumberOfComponents())]\n",
        "      for component in components_list:\n",
        "        mole_fraction = stream.getFluid().getComponent(component).getz()\n",
        "        if component == \"methane\":\n",
        "          component = \"CH4\"\n",
        "        elif component == \"ethane\":\n",
        "          component = \"C2H6\"\n",
        "        elif component == \"propane\":\n",
        "          component = \"C3H8\"\n",
        "        elif component == \"nitrogen\":\n",
        "          component = \"N2\"\n",
        "        elif component == \"oxygen\":\n",
        "          component = \"O2\"\n",
        "\n",
        "        composition += str(component) + \":\"+ str(mole_fraction) + \",\"\n",
        "      return composition[:-1]\n",
        "\n",
        "    @JOverride\n",
        "    def run(self, uuid):\n",
        "      self.serialVersionUID = uuid\n",
        "      self.calc_flame()\n",
        "\n",
        "    @JOverride\n",
        "    def toJson(self):\n",
        "      data_dict = {\n",
        "            \"name\": self.name,\n",
        "            \"flame_speed\": self.flameSpeed\n",
        "      }\n",
        "      return json.dumps(data_dict)"
      ],
      "metadata": {
        "id": "87Ta9i7ne4kH"
      },
      "execution_count": null,
      "outputs": []
    },
    {
      "cell_type": "code",
      "source": [
        "temperature = 100 #C\n",
        "pressure = 1.01325 #bara\n",
        "\n",
        "#Fuel\n",
        "fuel_rate = 10 #kg/hr\n",
        "methane = 0.5 #mol fraction\n",
        "ethane = 0.25\n",
        "propane = 0.24\n",
        "nitrogen = 0.005\n",
        "CO2 = 0.005\n",
        "O2 = 0.0\n",
        "#oxidizer\n",
        "oxidizer_rate = 5 #kg/hr\n",
        "o2_oxidizer = 0.21 #mole fraction\n",
        "n2_oxidizer = 0.79\n",
        "#burner\n",
        "burner_width = 0.015 #m\n",
        "\n",
        "from neqsim.thermo import fluid\n",
        "#Fuel\n",
        "fluid1 = fluid(\"srk\")  # create a fluid using the SRK-EoS\n",
        "fluid1.setTemperature(temperature, \"C\")\n",
        "fluid1.setPressure(pressure, \"bara\")\n",
        "fluid1.addComponent(\"methane\", methane)\n",
        "fluid1.addComponent(\"ethane\", ethane)\n",
        "fluid1.addComponent(\"propane\", propane)\n",
        "fluid1.addComponent(\"nitrogen\", nitrogen)\n",
        "fluid1.addComponent(\"CO2\", CO2)\n",
        "fluid1.addComponent(\"O2\", O2)\n",
        "fluid1.setMixingRule(2)\n",
        "\n",
        "stream1 = jNeqSim.processSimulation.processEquipment.stream.Stream(fluid1)\n",
        "stream1.setFlowRate(fuel_rate, \"kg/hr\")\n",
        "\n",
        "components_list = [stream1.getFluid().getComponent(i).getName() for i in range(stream1.getFluid().getNumberOfComponents())]\n",
        "\n",
        "#Oxidizer\n",
        "fluid2 = fluid1.clone()\n",
        "fluid2.setMolarComposition(        [\n",
        "            n2_oxidizer if component == \"nitrogen\" else o2_oxidizer if component == \"oxygen\" else 0\n",
        "            for component in components_list\n",
        "        ])\n",
        "\n",
        "stream2 = jNeqSim.processSimulation.processEquipment.stream.Stream(fluid2)\n",
        "stream2.setFlowRate(oxidizer_rate, \"kg/hr\")\n",
        "\n",
        "burner = CanteraUnitOperation()\n",
        "burner.setName(\"Adiabatic Burner\")\n",
        "burner.setFuelStream(stream1)\n",
        "burner.setOxidizerStream(stream2)\n",
        "burner.setWidth(burner_width)\n",
        "\n",
        "example_process = jNeqSim.processSimulation.processSystem.ProcessSystem()\n",
        "example_process.add(stream1)\n",
        "example_process.add(stream2)\n",
        "example_process.add(burner)\n",
        "example_process.run()\n",
        "\n",
        "flame_speed = burner.getFlameSpeed()\n",
        "print(f\"Flame Speed is: {flame_speed * 100:.2f} cm/s\")\n",
        "burner.plotFlame()"
      ],
      "metadata": {
        "colab": {
          "base_uri": "https://localhost:8080/",
          "height": 605
        },
        "id": "av5i30mZe_h-",
        "outputId": "e90d81bb-5223-4328-a5eb-f4de4829090f"
      },
      "execution_count": null,
      "outputs": [
        {
          "output_type": "stream",
          "name": "stdout",
          "text": [
            "Flame Speed is: 7.35 cm/s\n"
          ]
        },
        {
          "output_type": "display_data",
          "data": {
            "text/plain": [
              "<Figure size 960x720 with 1 Axes>"
            ],
            "image/svg+xml": "<?xml version=\"1.0\" encoding=\"utf-8\" standalone=\"no\"?>\n<!DOCTYPE svg PUBLIC \"-//W3C//DTD SVG 1.1//EN\"\n  \"http://www.w3.org/Graphics/SVG/1.1/DTD/svg11.dtd\">\n<svg xmlns:xlink=\"http://www.w3.org/1999/xlink\" width=\"568.8pt\" height=\"424.8pt\" viewBox=\"0 0 568.8 424.8\" xmlns=\"http://www.w3.org/2000/svg\" version=\"1.1\">\n <metadata>\n  <rdf:RDF xmlns:dc=\"http://purl.org/dc/elements/1.1/\" xmlns:cc=\"http://creativecommons.org/ns#\" xmlns:rdf=\"http://www.w3.org/1999/02/22-rdf-syntax-ns#\">\n   <cc:Work>\n    <dc:type rdf:resource=\"http://purl.org/dc/dcmitype/StillImage\"/>\n    <dc:date>2024-08-21T19:49:12.467947</dc:date>\n    <dc:format>image/svg+xml</dc:format>\n    <dc:creator>\n     <cc:Agent>\n      <dc:title>Matplotlib v3.7.1, https://matplotlib.org/</dc:title>\n     </cc:Agent>\n    </dc:creator>\n   </cc:Work>\n  </rdf:RDF>\n </metadata>\n <defs>\n  <style type=\"text/css\">*{stroke-linejoin: round; stroke-linecap: butt}</style>\n </defs>\n <g id=\"figure_1\">\n  <g id=\"patch_1\">\n   <path d=\"M 0 424.8 \nL 568.8 424.8 \nL 568.8 0 \nL 0 0 \nz\n\" style=\"fill: #ffffff\"/>\n  </g>\n  <g id=\"axes_1\">\n   <g id=\"patch_2\">\n    <path d=\"M 60.35375 383.3725 \nL 561.6 383.3725 \nL 561.6 7.2 \nL 60.35375 7.2 \nz\n\" style=\"fill: #e5e5e5\"/>\n   </g>\n   <g id=\"matplotlib.axis_1\">\n    <g id=\"xtick_1\">\n     <g id=\"line2d_1\">\n      <path d=\"M 83.13767 383.3725 \nL 83.13767 7.2 \n\" clip-path=\"url(#p10e7e609dc)\" style=\"fill: none; stroke: #ffffff; stroke-width: 0.8; stroke-linecap: square\"/>\n     </g>\n     <g id=\"line2d_2\">\n      <defs>\n       <path id=\"md8605d3880\" d=\"M 0 0 \nL 0 3.5 \n\" style=\"stroke: #555555; stroke-width: 0.8\"/>\n      </defs>\n      <g>\n       <use xlink:href=\"#md8605d3880\" x=\"83.13767\" y=\"383.3725\" style=\"fill: #555555; stroke: #555555; stroke-width: 0.8\"/>\n      </g>\n     </g>\n     <g id=\"text_1\">\n      <!-- 0.0 -->\n      <g style=\"fill: #555555\" transform=\"translate(73.595795 399.490625) scale(0.12 -0.12)\">\n       <defs>\n        <path id=\"DejaVuSans-30\" d=\"M 2034 4250 \nQ 1547 4250 1301 3770 \nQ 1056 3291 1056 2328 \nQ 1056 1369 1301 889 \nQ 1547 409 2034 409 \nQ 2525 409 2770 889 \nQ 3016 1369 3016 2328 \nQ 3016 3291 2770 3770 \nQ 2525 4250 2034 4250 \nz\nM 2034 4750 \nQ 2819 4750 3233 4129 \nQ 3647 3509 3647 2328 \nQ 3647 1150 3233 529 \nQ 2819 -91 2034 -91 \nQ 1250 -91 836 529 \nQ 422 1150 422 2328 \nQ 422 3509 836 4129 \nQ 1250 4750 2034 4750 \nz\n\" transform=\"scale(0.015625)\"/>\n        <path id=\"DejaVuSans-2e\" d=\"M 684 794 \nL 1344 794 \nL 1344 0 \nL 684 0 \nL 684 794 \nz\n\" transform=\"scale(0.015625)\"/>\n       </defs>\n       <use xlink:href=\"#DejaVuSans-30\"/>\n       <use xlink:href=\"#DejaVuSans-2e\" x=\"63.623047\"/>\n       <use xlink:href=\"#DejaVuSans-30\" x=\"95.410156\"/>\n      </g>\n     </g>\n    </g>\n    <g id=\"xtick_2\">\n     <g id=\"line2d_3\">\n      <path d=\"M 159.084072 383.3725 \nL 159.084072 7.2 \n\" clip-path=\"url(#p10e7e609dc)\" style=\"fill: none; stroke: #ffffff; stroke-width: 0.8; stroke-linecap: square\"/>\n     </g>\n     <g id=\"line2d_4\">\n      <g>\n       <use xlink:href=\"#md8605d3880\" x=\"159.084072\" y=\"383.3725\" style=\"fill: #555555; stroke: #555555; stroke-width: 0.8\"/>\n      </g>\n     </g>\n     <g id=\"text_2\">\n      <!-- 0.5 -->\n      <g style=\"fill: #555555\" transform=\"translate(149.542197 399.490625) scale(0.12 -0.12)\">\n       <defs>\n        <path id=\"DejaVuSans-35\" d=\"M 691 4666 \nL 3169 4666 \nL 3169 4134 \nL 1269 4134 \nL 1269 2991 \nQ 1406 3038 1543 3061 \nQ 1681 3084 1819 3084 \nQ 2600 3084 3056 2656 \nQ 3513 2228 3513 1497 \nQ 3513 744 3044 326 \nQ 2575 -91 1722 -91 \nQ 1428 -91 1123 -41 \nQ 819 9 494 109 \nL 494 744 \nQ 775 591 1075 516 \nQ 1375 441 1709 441 \nQ 2250 441 2565 725 \nQ 2881 1009 2881 1497 \nQ 2881 1984 2565 2268 \nQ 2250 2553 1709 2553 \nQ 1456 2553 1204 2497 \nQ 953 2441 691 2322 \nL 691 4666 \nz\n\" transform=\"scale(0.015625)\"/>\n       </defs>\n       <use xlink:href=\"#DejaVuSans-30\"/>\n       <use xlink:href=\"#DejaVuSans-2e\" x=\"63.623047\"/>\n       <use xlink:href=\"#DejaVuSans-35\" x=\"95.410156\"/>\n      </g>\n     </g>\n    </g>\n    <g id=\"xtick_3\">\n     <g id=\"line2d_5\">\n      <path d=\"M 235.030473 383.3725 \nL 235.030473 7.2 \n\" clip-path=\"url(#p10e7e609dc)\" style=\"fill: none; stroke: #ffffff; stroke-width: 0.8; stroke-linecap: square\"/>\n     </g>\n     <g id=\"line2d_6\">\n      <g>\n       <use xlink:href=\"#md8605d3880\" x=\"235.030473\" y=\"383.3725\" style=\"fill: #555555; stroke: #555555; stroke-width: 0.8\"/>\n      </g>\n     </g>\n     <g id=\"text_3\">\n      <!-- 1.0 -->\n      <g style=\"fill: #555555\" transform=\"translate(225.488598 399.490625) scale(0.12 -0.12)\">\n       <defs>\n        <path id=\"DejaVuSans-31\" d=\"M 794 531 \nL 1825 531 \nL 1825 4091 \nL 703 3866 \nL 703 4441 \nL 1819 4666 \nL 2450 4666 \nL 2450 531 \nL 3481 531 \nL 3481 0 \nL 794 0 \nL 794 531 \nz\n\" transform=\"scale(0.015625)\"/>\n       </defs>\n       <use xlink:href=\"#DejaVuSans-31\"/>\n       <use xlink:href=\"#DejaVuSans-2e\" x=\"63.623047\"/>\n       <use xlink:href=\"#DejaVuSans-30\" x=\"95.410156\"/>\n      </g>\n     </g>\n    </g>\n    <g id=\"xtick_4\">\n     <g id=\"line2d_7\">\n      <path d=\"M 310.976875 383.3725 \nL 310.976875 7.2 \n\" clip-path=\"url(#p10e7e609dc)\" style=\"fill: none; stroke: #ffffff; stroke-width: 0.8; stroke-linecap: square\"/>\n     </g>\n     <g id=\"line2d_8\">\n      <g>\n       <use xlink:href=\"#md8605d3880\" x=\"310.976875\" y=\"383.3725\" style=\"fill: #555555; stroke: #555555; stroke-width: 0.8\"/>\n      </g>\n     </g>\n     <g id=\"text_4\">\n      <!-- 1.5 -->\n      <g style=\"fill: #555555\" transform=\"translate(301.435 399.490625) scale(0.12 -0.12)\">\n       <use xlink:href=\"#DejaVuSans-31\"/>\n       <use xlink:href=\"#DejaVuSans-2e\" x=\"63.623047\"/>\n       <use xlink:href=\"#DejaVuSans-35\" x=\"95.410156\"/>\n      </g>\n     </g>\n    </g>\n    <g id=\"xtick_5\">\n     <g id=\"line2d_9\">\n      <path d=\"M 386.923277 383.3725 \nL 386.923277 7.2 \n\" clip-path=\"url(#p10e7e609dc)\" style=\"fill: none; stroke: #ffffff; stroke-width: 0.8; stroke-linecap: square\"/>\n     </g>\n     <g id=\"line2d_10\">\n      <g>\n       <use xlink:href=\"#md8605d3880\" x=\"386.923277\" y=\"383.3725\" style=\"fill: #555555; stroke: #555555; stroke-width: 0.8\"/>\n      </g>\n     </g>\n     <g id=\"text_5\">\n      <!-- 2.0 -->\n      <g style=\"fill: #555555\" transform=\"translate(377.381402 399.490625) scale(0.12 -0.12)\">\n       <defs>\n        <path id=\"DejaVuSans-32\" d=\"M 1228 531 \nL 3431 531 \nL 3431 0 \nL 469 0 \nL 469 531 \nQ 828 903 1448 1529 \nQ 2069 2156 2228 2338 \nQ 2531 2678 2651 2914 \nQ 2772 3150 2772 3378 \nQ 2772 3750 2511 3984 \nQ 2250 4219 1831 4219 \nQ 1534 4219 1204 4116 \nQ 875 4013 500 3803 \nL 500 4441 \nQ 881 4594 1212 4672 \nQ 1544 4750 1819 4750 \nQ 2544 4750 2975 4387 \nQ 3406 4025 3406 3419 \nQ 3406 3131 3298 2873 \nQ 3191 2616 2906 2266 \nQ 2828 2175 2409 1742 \nQ 1991 1309 1228 531 \nz\n\" transform=\"scale(0.015625)\"/>\n       </defs>\n       <use xlink:href=\"#DejaVuSans-32\"/>\n       <use xlink:href=\"#DejaVuSans-2e\" x=\"63.623047\"/>\n       <use xlink:href=\"#DejaVuSans-30\" x=\"95.410156\"/>\n      </g>\n     </g>\n    </g>\n    <g id=\"xtick_6\">\n     <g id=\"line2d_11\">\n      <path d=\"M 462.869678 383.3725 \nL 462.869678 7.2 \n\" clip-path=\"url(#p10e7e609dc)\" style=\"fill: none; stroke: #ffffff; stroke-width: 0.8; stroke-linecap: square\"/>\n     </g>\n     <g id=\"line2d_12\">\n      <g>\n       <use xlink:href=\"#md8605d3880\" x=\"462.869678\" y=\"383.3725\" style=\"fill: #555555; stroke: #555555; stroke-width: 0.8\"/>\n      </g>\n     </g>\n     <g id=\"text_6\">\n      <!-- 2.5 -->\n      <g style=\"fill: #555555\" transform=\"translate(453.327803 399.490625) scale(0.12 -0.12)\">\n       <use xlink:href=\"#DejaVuSans-32\"/>\n       <use xlink:href=\"#DejaVuSans-2e\" x=\"63.623047\"/>\n       <use xlink:href=\"#DejaVuSans-35\" x=\"95.410156\"/>\n      </g>\n     </g>\n    </g>\n    <g id=\"xtick_7\">\n     <g id=\"line2d_13\">\n      <path d=\"M 538.81608 383.3725 \nL 538.81608 7.2 \n\" clip-path=\"url(#p10e7e609dc)\" style=\"fill: none; stroke: #ffffff; stroke-width: 0.8; stroke-linecap: square\"/>\n     </g>\n     <g id=\"line2d_14\">\n      <g>\n       <use xlink:href=\"#md8605d3880\" x=\"538.81608\" y=\"383.3725\" style=\"fill: #555555; stroke: #555555; stroke-width: 0.8\"/>\n      </g>\n     </g>\n     <g id=\"text_7\">\n      <!-- 3.0 -->\n      <g style=\"fill: #555555\" transform=\"translate(529.274205 399.490625) scale(0.12 -0.12)\">\n       <defs>\n        <path id=\"DejaVuSans-33\" d=\"M 2597 2516 \nQ 3050 2419 3304 2112 \nQ 3559 1806 3559 1356 \nQ 3559 666 3084 287 \nQ 2609 -91 1734 -91 \nQ 1441 -91 1130 -33 \nQ 819 25 488 141 \nL 488 750 \nQ 750 597 1062 519 \nQ 1375 441 1716 441 \nQ 2309 441 2620 675 \nQ 2931 909 2931 1356 \nQ 2931 1769 2642 2001 \nQ 2353 2234 1838 2234 \nL 1294 2234 \nL 1294 2753 \nL 1863 2753 \nQ 2328 2753 2575 2939 \nQ 2822 3125 2822 3475 \nQ 2822 3834 2567 4026 \nQ 2313 4219 1838 4219 \nQ 1578 4219 1281 4162 \nQ 984 4106 628 3988 \nL 628 4550 \nQ 988 4650 1302 4700 \nQ 1616 4750 1894 4750 \nQ 2613 4750 3031 4423 \nQ 3450 4097 3450 3541 \nQ 3450 3153 3228 2886 \nQ 3006 2619 2597 2516 \nz\n\" transform=\"scale(0.015625)\"/>\n       </defs>\n       <use xlink:href=\"#DejaVuSans-33\"/>\n       <use xlink:href=\"#DejaVuSans-2e\" x=\"63.623047\"/>\n       <use xlink:href=\"#DejaVuSans-30\" x=\"95.410156\"/>\n      </g>\n     </g>\n    </g>\n    <g id=\"text_8\">\n     <!-- Distance (cm) -->\n     <g style=\"fill: #555555\" transform=\"translate(269.009687 415.104375) scale(0.12 -0.12)\">\n      <defs>\n       <path id=\"DejaVuSans-44\" d=\"M 1259 4147 \nL 1259 519 \nL 2022 519 \nQ 2988 519 3436 956 \nQ 3884 1394 3884 2338 \nQ 3884 3275 3436 3711 \nQ 2988 4147 2022 4147 \nL 1259 4147 \nz\nM 628 4666 \nL 1925 4666 \nQ 3281 4666 3915 4102 \nQ 4550 3538 4550 2338 \nQ 4550 1131 3912 565 \nQ 3275 0 1925 0 \nL 628 0 \nL 628 4666 \nz\n\" transform=\"scale(0.015625)\"/>\n       <path id=\"DejaVuSans-69\" d=\"M 603 3500 \nL 1178 3500 \nL 1178 0 \nL 603 0 \nL 603 3500 \nz\nM 603 4863 \nL 1178 4863 \nL 1178 4134 \nL 603 4134 \nL 603 4863 \nz\n\" transform=\"scale(0.015625)\"/>\n       <path id=\"DejaVuSans-73\" d=\"M 2834 3397 \nL 2834 2853 \nQ 2591 2978 2328 3040 \nQ 2066 3103 1784 3103 \nQ 1356 3103 1142 2972 \nQ 928 2841 928 2578 \nQ 928 2378 1081 2264 \nQ 1234 2150 1697 2047 \nL 1894 2003 \nQ 2506 1872 2764 1633 \nQ 3022 1394 3022 966 \nQ 3022 478 2636 193 \nQ 2250 -91 1575 -91 \nQ 1294 -91 989 -36 \nQ 684 19 347 128 \nL 347 722 \nQ 666 556 975 473 \nQ 1284 391 1588 391 \nQ 1994 391 2212 530 \nQ 2431 669 2431 922 \nQ 2431 1156 2273 1281 \nQ 2116 1406 1581 1522 \nL 1381 1569 \nQ 847 1681 609 1914 \nQ 372 2147 372 2553 \nQ 372 3047 722 3315 \nQ 1072 3584 1716 3584 \nQ 2034 3584 2315 3537 \nQ 2597 3491 2834 3397 \nz\n\" transform=\"scale(0.015625)\"/>\n       <path id=\"DejaVuSans-74\" d=\"M 1172 4494 \nL 1172 3500 \nL 2356 3500 \nL 2356 3053 \nL 1172 3053 \nL 1172 1153 \nQ 1172 725 1289 603 \nQ 1406 481 1766 481 \nL 2356 481 \nL 2356 0 \nL 1766 0 \nQ 1100 0 847 248 \nQ 594 497 594 1153 \nL 594 3053 \nL 172 3053 \nL 172 3500 \nL 594 3500 \nL 594 4494 \nL 1172 4494 \nz\n\" transform=\"scale(0.015625)\"/>\n       <path id=\"DejaVuSans-61\" d=\"M 2194 1759 \nQ 1497 1759 1228 1600 \nQ 959 1441 959 1056 \nQ 959 750 1161 570 \nQ 1363 391 1709 391 \nQ 2188 391 2477 730 \nQ 2766 1069 2766 1631 \nL 2766 1759 \nL 2194 1759 \nz\nM 3341 1997 \nL 3341 0 \nL 2766 0 \nL 2766 531 \nQ 2569 213 2275 61 \nQ 1981 -91 1556 -91 \nQ 1019 -91 701 211 \nQ 384 513 384 1019 \nQ 384 1609 779 1909 \nQ 1175 2209 1959 2209 \nL 2766 2209 \nL 2766 2266 \nQ 2766 2663 2505 2880 \nQ 2244 3097 1772 3097 \nQ 1472 3097 1187 3025 \nQ 903 2953 641 2809 \nL 641 3341 \nQ 956 3463 1253 3523 \nQ 1550 3584 1831 3584 \nQ 2591 3584 2966 3190 \nQ 3341 2797 3341 1997 \nz\n\" transform=\"scale(0.015625)\"/>\n       <path id=\"DejaVuSans-6e\" d=\"M 3513 2113 \nL 3513 0 \nL 2938 0 \nL 2938 2094 \nQ 2938 2591 2744 2837 \nQ 2550 3084 2163 3084 \nQ 1697 3084 1428 2787 \nQ 1159 2491 1159 1978 \nL 1159 0 \nL 581 0 \nL 581 3500 \nL 1159 3500 \nL 1159 2956 \nQ 1366 3272 1645 3428 \nQ 1925 3584 2291 3584 \nQ 2894 3584 3203 3211 \nQ 3513 2838 3513 2113 \nz\n\" transform=\"scale(0.015625)\"/>\n       <path id=\"DejaVuSans-63\" d=\"M 3122 3366 \nL 3122 2828 \nQ 2878 2963 2633 3030 \nQ 2388 3097 2138 3097 \nQ 1578 3097 1268 2742 \nQ 959 2388 959 1747 \nQ 959 1106 1268 751 \nQ 1578 397 2138 397 \nQ 2388 397 2633 464 \nQ 2878 531 3122 666 \nL 3122 134 \nQ 2881 22 2623 -34 \nQ 2366 -91 2075 -91 \nQ 1284 -91 818 406 \nQ 353 903 353 1747 \nQ 353 2603 823 3093 \nQ 1294 3584 2113 3584 \nQ 2378 3584 2631 3529 \nQ 2884 3475 3122 3366 \nz\n\" transform=\"scale(0.015625)\"/>\n       <path id=\"DejaVuSans-65\" d=\"M 3597 1894 \nL 3597 1613 \nL 953 1613 \nQ 991 1019 1311 708 \nQ 1631 397 2203 397 \nQ 2534 397 2845 478 \nQ 3156 559 3463 722 \nL 3463 178 \nQ 3153 47 2828 -22 \nQ 2503 -91 2169 -91 \nQ 1331 -91 842 396 \nQ 353 884 353 1716 \nQ 353 2575 817 3079 \nQ 1281 3584 2069 3584 \nQ 2775 3584 3186 3129 \nQ 3597 2675 3597 1894 \nz\nM 3022 2063 \nQ 3016 2534 2758 2815 \nQ 2500 3097 2075 3097 \nQ 1594 3097 1305 2825 \nQ 1016 2553 972 2059 \nL 3022 2063 \nz\n\" transform=\"scale(0.015625)\"/>\n       <path id=\"DejaVuSans-20\" transform=\"scale(0.015625)\"/>\n       <path id=\"DejaVuSans-28\" d=\"M 1984 4856 \nQ 1566 4138 1362 3434 \nQ 1159 2731 1159 2009 \nQ 1159 1288 1364 580 \nQ 1569 -128 1984 -844 \nL 1484 -844 \nQ 1016 -109 783 600 \nQ 550 1309 550 2009 \nQ 550 2706 781 3412 \nQ 1013 4119 1484 4856 \nL 1984 4856 \nz\n\" transform=\"scale(0.015625)\"/>\n       <path id=\"DejaVuSans-6d\" d=\"M 3328 2828 \nQ 3544 3216 3844 3400 \nQ 4144 3584 4550 3584 \nQ 5097 3584 5394 3201 \nQ 5691 2819 5691 2113 \nL 5691 0 \nL 5113 0 \nL 5113 2094 \nQ 5113 2597 4934 2840 \nQ 4756 3084 4391 3084 \nQ 3944 3084 3684 2787 \nQ 3425 2491 3425 1978 \nL 3425 0 \nL 2847 0 \nL 2847 2094 \nQ 2847 2600 2669 2842 \nQ 2491 3084 2119 3084 \nQ 1678 3084 1418 2786 \nQ 1159 2488 1159 1978 \nL 1159 0 \nL 581 0 \nL 581 3500 \nL 1159 3500 \nL 1159 2956 \nQ 1356 3278 1631 3431 \nQ 1906 3584 2284 3584 \nQ 2666 3584 2933 3390 \nQ 3200 3197 3328 2828 \nz\n\" transform=\"scale(0.015625)\"/>\n       <path id=\"DejaVuSans-29\" d=\"M 513 4856 \nL 1013 4856 \nQ 1481 4119 1714 3412 \nQ 1947 2706 1947 2009 \nQ 1947 1309 1714 600 \nQ 1481 -109 1013 -844 \nL 513 -844 \nQ 928 -128 1133 580 \nQ 1338 1288 1338 2009 \nQ 1338 2731 1133 3434 \nQ 928 4138 513 4856 \nz\n\" transform=\"scale(0.015625)\"/>\n      </defs>\n      <use xlink:href=\"#DejaVuSans-44\"/>\n      <use xlink:href=\"#DejaVuSans-69\" x=\"77.001953\"/>\n      <use xlink:href=\"#DejaVuSans-73\" x=\"104.785156\"/>\n      <use xlink:href=\"#DejaVuSans-74\" x=\"156.884766\"/>\n      <use xlink:href=\"#DejaVuSans-61\" x=\"196.09375\"/>\n      <use xlink:href=\"#DejaVuSans-6e\" x=\"257.373047\"/>\n      <use xlink:href=\"#DejaVuSans-63\" x=\"320.751953\"/>\n      <use xlink:href=\"#DejaVuSans-65\" x=\"375.732422\"/>\n      <use xlink:href=\"#DejaVuSans-20\" x=\"437.255859\"/>\n      <use xlink:href=\"#DejaVuSans-28\" x=\"469.042969\"/>\n      <use xlink:href=\"#DejaVuSans-63\" x=\"508.056641\"/>\n      <use xlink:href=\"#DejaVuSans-6d\" x=\"563.037109\"/>\n      <use xlink:href=\"#DejaVuSans-29\" x=\"660.449219\"/>\n     </g>\n    </g>\n   </g>\n   <g id=\"matplotlib.axis_2\">\n    <g id=\"ytick_1\">\n     <g id=\"line2d_15\">\n      <path d=\"M 60.35375 359.109317 \nL 561.6 359.109317 \n\" clip-path=\"url(#p10e7e609dc)\" style=\"fill: none; stroke: #ffffff; stroke-width: 0.8; stroke-linecap: square\"/>\n     </g>\n     <g id=\"line2d_16\">\n      <defs>\n       <path id=\"m232a5ef2f8\" d=\"M 0 0 \nL -3.5 0 \n\" style=\"stroke: #555555; stroke-width: 0.8\"/>\n      </defs>\n      <g>\n       <use xlink:href=\"#m232a5ef2f8\" x=\"60.35375\" y=\"359.109317\" style=\"fill: #555555; stroke: #555555; stroke-width: 0.8\"/>\n      </g>\n     </g>\n     <g id=\"text_9\">\n      <!-- 400 -->\n      <g style=\"fill: #555555\" transform=\"translate(30.44875 363.668379) scale(0.12 -0.12)\">\n       <defs>\n        <path id=\"DejaVuSans-34\" d=\"M 2419 4116 \nL 825 1625 \nL 2419 1625 \nL 2419 4116 \nz\nM 2253 4666 \nL 3047 4666 \nL 3047 1625 \nL 3713 1625 \nL 3713 1100 \nL 3047 1100 \nL 3047 0 \nL 2419 0 \nL 2419 1100 \nL 313 1100 \nL 313 1709 \nL 2253 4666 \nz\n\" transform=\"scale(0.015625)\"/>\n       </defs>\n       <use xlink:href=\"#DejaVuSans-34\"/>\n       <use xlink:href=\"#DejaVuSans-30\" x=\"63.623047\"/>\n       <use xlink:href=\"#DejaVuSans-30\" x=\"127.246094\"/>\n      </g>\n     </g>\n    </g>\n    <g id=\"ytick_2\">\n     <g id=\"line2d_17\">\n      <path d=\"M 60.35375 305.74296 \nL 561.6 305.74296 \n\" clip-path=\"url(#p10e7e609dc)\" style=\"fill: none; stroke: #ffffff; stroke-width: 0.8; stroke-linecap: square\"/>\n     </g>\n     <g id=\"line2d_18\">\n      <g>\n       <use xlink:href=\"#m232a5ef2f8\" x=\"60.35375\" y=\"305.74296\" style=\"fill: #555555; stroke: #555555; stroke-width: 0.8\"/>\n      </g>\n     </g>\n     <g id=\"text_10\">\n      <!-- 600 -->\n      <g style=\"fill: #555555\" transform=\"translate(30.44875 310.302022) scale(0.12 -0.12)\">\n       <defs>\n        <path id=\"DejaVuSans-36\" d=\"M 2113 2584 \nQ 1688 2584 1439 2293 \nQ 1191 2003 1191 1497 \nQ 1191 994 1439 701 \nQ 1688 409 2113 409 \nQ 2538 409 2786 701 \nQ 3034 994 3034 1497 \nQ 3034 2003 2786 2293 \nQ 2538 2584 2113 2584 \nz\nM 3366 4563 \nL 3366 3988 \nQ 3128 4100 2886 4159 \nQ 2644 4219 2406 4219 \nQ 1781 4219 1451 3797 \nQ 1122 3375 1075 2522 \nQ 1259 2794 1537 2939 \nQ 1816 3084 2150 3084 \nQ 2853 3084 3261 2657 \nQ 3669 2231 3669 1497 \nQ 3669 778 3244 343 \nQ 2819 -91 2113 -91 \nQ 1303 -91 875 529 \nQ 447 1150 447 2328 \nQ 447 3434 972 4092 \nQ 1497 4750 2381 4750 \nQ 2619 4750 2861 4703 \nQ 3103 4656 3366 4563 \nz\n\" transform=\"scale(0.015625)\"/>\n       </defs>\n       <use xlink:href=\"#DejaVuSans-36\"/>\n       <use xlink:href=\"#DejaVuSans-30\" x=\"63.623047\"/>\n       <use xlink:href=\"#DejaVuSans-30\" x=\"127.246094\"/>\n      </g>\n     </g>\n    </g>\n    <g id=\"ytick_3\">\n     <g id=\"line2d_19\">\n      <path d=\"M 60.35375 252.376603 \nL 561.6 252.376603 \n\" clip-path=\"url(#p10e7e609dc)\" style=\"fill: none; stroke: #ffffff; stroke-width: 0.8; stroke-linecap: square\"/>\n     </g>\n     <g id=\"line2d_20\">\n      <g>\n       <use xlink:href=\"#m232a5ef2f8\" x=\"60.35375\" y=\"252.376603\" style=\"fill: #555555; stroke: #555555; stroke-width: 0.8\"/>\n      </g>\n     </g>\n     <g id=\"text_11\">\n      <!-- 800 -->\n      <g style=\"fill: #555555\" transform=\"translate(30.44875 256.935666) scale(0.12 -0.12)\">\n       <defs>\n        <path id=\"DejaVuSans-38\" d=\"M 2034 2216 \nQ 1584 2216 1326 1975 \nQ 1069 1734 1069 1313 \nQ 1069 891 1326 650 \nQ 1584 409 2034 409 \nQ 2484 409 2743 651 \nQ 3003 894 3003 1313 \nQ 3003 1734 2745 1975 \nQ 2488 2216 2034 2216 \nz\nM 1403 2484 \nQ 997 2584 770 2862 \nQ 544 3141 544 3541 \nQ 544 4100 942 4425 \nQ 1341 4750 2034 4750 \nQ 2731 4750 3128 4425 \nQ 3525 4100 3525 3541 \nQ 3525 3141 3298 2862 \nQ 3072 2584 2669 2484 \nQ 3125 2378 3379 2068 \nQ 3634 1759 3634 1313 \nQ 3634 634 3220 271 \nQ 2806 -91 2034 -91 \nQ 1263 -91 848 271 \nQ 434 634 434 1313 \nQ 434 1759 690 2068 \nQ 947 2378 1403 2484 \nz\nM 1172 3481 \nQ 1172 3119 1398 2916 \nQ 1625 2713 2034 2713 \nQ 2441 2713 2670 2916 \nQ 2900 3119 2900 3481 \nQ 2900 3844 2670 4047 \nQ 2441 4250 2034 4250 \nQ 1625 4250 1398 4047 \nQ 1172 3844 1172 3481 \nz\n\" transform=\"scale(0.015625)\"/>\n       </defs>\n       <use xlink:href=\"#DejaVuSans-38\"/>\n       <use xlink:href=\"#DejaVuSans-30\" x=\"63.623047\"/>\n       <use xlink:href=\"#DejaVuSans-30\" x=\"127.246094\"/>\n      </g>\n     </g>\n    </g>\n    <g id=\"ytick_4\">\n     <g id=\"line2d_21\">\n      <path d=\"M 60.35375 199.010246 \nL 561.6 199.010246 \n\" clip-path=\"url(#p10e7e609dc)\" style=\"fill: none; stroke: #ffffff; stroke-width: 0.8; stroke-linecap: square\"/>\n     </g>\n     <g id=\"line2d_22\">\n      <g>\n       <use xlink:href=\"#m232a5ef2f8\" x=\"60.35375\" y=\"199.010246\" style=\"fill: #555555; stroke: #555555; stroke-width: 0.8\"/>\n      </g>\n     </g>\n     <g id=\"text_12\">\n      <!-- 1000 -->\n      <g style=\"fill: #555555\" transform=\"translate(22.81375 203.569309) scale(0.12 -0.12)\">\n       <use xlink:href=\"#DejaVuSans-31\"/>\n       <use xlink:href=\"#DejaVuSans-30\" x=\"63.623047\"/>\n       <use xlink:href=\"#DejaVuSans-30\" x=\"127.246094\"/>\n       <use xlink:href=\"#DejaVuSans-30\" x=\"190.869141\"/>\n      </g>\n     </g>\n    </g>\n    <g id=\"ytick_5\">\n     <g id=\"line2d_23\">\n      <path d=\"M 60.35375 145.64389 \nL 561.6 145.64389 \n\" clip-path=\"url(#p10e7e609dc)\" style=\"fill: none; stroke: #ffffff; stroke-width: 0.8; stroke-linecap: square\"/>\n     </g>\n     <g id=\"line2d_24\">\n      <g>\n       <use xlink:href=\"#m232a5ef2f8\" x=\"60.35375\" y=\"145.64389\" style=\"fill: #555555; stroke: #555555; stroke-width: 0.8\"/>\n      </g>\n     </g>\n     <g id=\"text_13\">\n      <!-- 1200 -->\n      <g style=\"fill: #555555\" transform=\"translate(22.81375 150.202952) scale(0.12 -0.12)\">\n       <use xlink:href=\"#DejaVuSans-31\"/>\n       <use xlink:href=\"#DejaVuSans-32\" x=\"63.623047\"/>\n       <use xlink:href=\"#DejaVuSans-30\" x=\"127.246094\"/>\n       <use xlink:href=\"#DejaVuSans-30\" x=\"190.869141\"/>\n      </g>\n     </g>\n    </g>\n    <g id=\"ytick_6\">\n     <g id=\"line2d_25\">\n      <path d=\"M 60.35375 92.277533 \nL 561.6 92.277533 \n\" clip-path=\"url(#p10e7e609dc)\" style=\"fill: none; stroke: #ffffff; stroke-width: 0.8; stroke-linecap: square\"/>\n     </g>\n     <g id=\"line2d_26\">\n      <g>\n       <use xlink:href=\"#m232a5ef2f8\" x=\"60.35375\" y=\"92.277533\" style=\"fill: #555555; stroke: #555555; stroke-width: 0.8\"/>\n      </g>\n     </g>\n     <g id=\"text_14\">\n      <!-- 1400 -->\n      <g style=\"fill: #555555\" transform=\"translate(22.81375 96.836596) scale(0.12 -0.12)\">\n       <use xlink:href=\"#DejaVuSans-31\"/>\n       <use xlink:href=\"#DejaVuSans-34\" x=\"63.623047\"/>\n       <use xlink:href=\"#DejaVuSans-30\" x=\"127.246094\"/>\n       <use xlink:href=\"#DejaVuSans-30\" x=\"190.869141\"/>\n      </g>\n     </g>\n    </g>\n    <g id=\"ytick_7\">\n     <g id=\"line2d_27\">\n      <path d=\"M 60.35375 38.911176 \nL 561.6 38.911176 \n\" clip-path=\"url(#p10e7e609dc)\" style=\"fill: none; stroke: #ffffff; stroke-width: 0.8; stroke-linecap: square\"/>\n     </g>\n     <g id=\"line2d_28\">\n      <g>\n       <use xlink:href=\"#m232a5ef2f8\" x=\"60.35375\" y=\"38.911176\" style=\"fill: #555555; stroke: #555555; stroke-width: 0.8\"/>\n      </g>\n     </g>\n     <g id=\"text_15\">\n      <!-- 1600 -->\n      <g style=\"fill: #555555\" transform=\"translate(22.81375 43.470239) scale(0.12 -0.12)\">\n       <use xlink:href=\"#DejaVuSans-31\"/>\n       <use xlink:href=\"#DejaVuSans-36\" x=\"63.623047\"/>\n       <use xlink:href=\"#DejaVuSans-30\" x=\"127.246094\"/>\n       <use xlink:href=\"#DejaVuSans-30\" x=\"190.869141\"/>\n      </g>\n     </g>\n    </g>\n    <g id=\"text_16\">\n     <!-- Temperature (K) -->\n     <g style=\"fill: #555555\" transform=\"translate(16.318125 243.813125) rotate(-90) scale(0.12 -0.12)\">\n      <defs>\n       <path id=\"DejaVuSans-54\" d=\"M -19 4666 \nL 3928 4666 \nL 3928 4134 \nL 2272 4134 \nL 2272 0 \nL 1638 0 \nL 1638 4134 \nL -19 4134 \nL -19 4666 \nz\n\" transform=\"scale(0.015625)\"/>\n       <path id=\"DejaVuSans-70\" d=\"M 1159 525 \nL 1159 -1331 \nL 581 -1331 \nL 581 3500 \nL 1159 3500 \nL 1159 2969 \nQ 1341 3281 1617 3432 \nQ 1894 3584 2278 3584 \nQ 2916 3584 3314 3078 \nQ 3713 2572 3713 1747 \nQ 3713 922 3314 415 \nQ 2916 -91 2278 -91 \nQ 1894 -91 1617 61 \nQ 1341 213 1159 525 \nz\nM 3116 1747 \nQ 3116 2381 2855 2742 \nQ 2594 3103 2138 3103 \nQ 1681 3103 1420 2742 \nQ 1159 2381 1159 1747 \nQ 1159 1113 1420 752 \nQ 1681 391 2138 391 \nQ 2594 391 2855 752 \nQ 3116 1113 3116 1747 \nz\n\" transform=\"scale(0.015625)\"/>\n       <path id=\"DejaVuSans-72\" d=\"M 2631 2963 \nQ 2534 3019 2420 3045 \nQ 2306 3072 2169 3072 \nQ 1681 3072 1420 2755 \nQ 1159 2438 1159 1844 \nL 1159 0 \nL 581 0 \nL 581 3500 \nL 1159 3500 \nL 1159 2956 \nQ 1341 3275 1631 3429 \nQ 1922 3584 2338 3584 \nQ 2397 3584 2469 3576 \nQ 2541 3569 2628 3553 \nL 2631 2963 \nz\n\" transform=\"scale(0.015625)\"/>\n       <path id=\"DejaVuSans-75\" d=\"M 544 1381 \nL 544 3500 \nL 1119 3500 \nL 1119 1403 \nQ 1119 906 1312 657 \nQ 1506 409 1894 409 \nQ 2359 409 2629 706 \nQ 2900 1003 2900 1516 \nL 2900 3500 \nL 3475 3500 \nL 3475 0 \nL 2900 0 \nL 2900 538 \nQ 2691 219 2414 64 \nQ 2138 -91 1772 -91 \nQ 1169 -91 856 284 \nQ 544 659 544 1381 \nz\nM 1991 3584 \nL 1991 3584 \nz\n\" transform=\"scale(0.015625)\"/>\n       <path id=\"DejaVuSans-4b\" d=\"M 628 4666 \nL 1259 4666 \nL 1259 2694 \nL 3353 4666 \nL 4166 4666 \nL 1850 2491 \nL 4331 0 \nL 3500 0 \nL 1259 2247 \nL 1259 0 \nL 628 0 \nL 628 4666 \nz\n\" transform=\"scale(0.015625)\"/>\n      </defs>\n      <use xlink:href=\"#DejaVuSans-54\"/>\n      <use xlink:href=\"#DejaVuSans-65\" x=\"44.083984\"/>\n      <use xlink:href=\"#DejaVuSans-6d\" x=\"105.607422\"/>\n      <use xlink:href=\"#DejaVuSans-70\" x=\"203.019531\"/>\n      <use xlink:href=\"#DejaVuSans-65\" x=\"266.496094\"/>\n      <use xlink:href=\"#DejaVuSans-72\" x=\"328.019531\"/>\n      <use xlink:href=\"#DejaVuSans-61\" x=\"369.132812\"/>\n      <use xlink:href=\"#DejaVuSans-74\" x=\"430.412109\"/>\n      <use xlink:href=\"#DejaVuSans-75\" x=\"469.621094\"/>\n      <use xlink:href=\"#DejaVuSans-72\" x=\"533\"/>\n      <use xlink:href=\"#DejaVuSans-65\" x=\"571.863281\"/>\n      <use xlink:href=\"#DejaVuSans-20\" x=\"633.386719\"/>\n      <use xlink:href=\"#DejaVuSans-28\" x=\"665.173828\"/>\n      <use xlink:href=\"#DejaVuSans-4b\" x=\"704.1875\"/>\n      <use xlink:href=\"#DejaVuSans-29\" x=\"769.763672\"/>\n     </g>\n    </g>\n   </g>\n   <g id=\"line2d_29\">\n    <path d=\"M 83.13767 366.27375 \nL 128.705511 366.26792 \nL 151.489432 366.248939 \nL 174.273352 366.160877 \nL 185.665312 365.998011 \nL 191.361293 365.807902 \nL 197.057273 365.450775 \nL 202.753253 364.784962 \nL 208.449233 363.557134 \nL 214.145213 361.328937 \nL 219.841193 357.379922 \nL 222.689183 354.319588 \nL 225.537173 350.205838 \nL 228.385163 344.767902 \nL 231.233153 337.715738 \nL 234.081143 328.760392 \nL 236.929134 317.63707 \nL 239.777124 304.125337 \nL 241.201119 296.371278 \nL 242.625114 287.918292 \nL 244.049109 278.755001 \nL 245.473104 268.874591 \nL 246.897099 258.274691 \nL 248.321094 246.957486 \nL 249.745089 234.930302 \nL 250.457086 228.649375 \nL 251.169084 222.192558 \nL 251.881081 215.563492 \nL 252.593079 208.766881 \nL 253.305076 201.808804 \nL 254.017074 194.697138 \nL 254.373073 191.086965 \nL 254.729071 187.442162 \nL 255.08507 183.76456 \nL 255.441069 180.056217 \nL 255.797068 176.319448 \nL 256.153066 172.556843 \nL 256.509065 168.771292 \nL 256.865064 164.966005 \nL 257.221063 161.144532 \nL 257.577061 157.310784 \nL 257.93306 153.469052 \nL 258.289059 149.624018 \nL 258.645058 145.780768 \nL 259.001056 141.944803 \nL 259.357055 138.122028 \nL 259.713054 134.31875 \nL 260.069053 130.541647 \nL 260.425051 126.797726 \nL 260.78105 123.094267 \nL 261.137049 119.438737 \nL 261.493048 115.838693 \nL 261.849047 112.301658 \nL 262.205045 108.834989 \nL 262.561044 105.445731 \nL 262.917043 102.140475 \nL 263.273042 98.925215 \nL 263.62904 95.805232 \nL 263.985039 92.784989 \nL 264.341038 89.868062 \nL 264.697037 87.057105 \nL 265.053035 84.353839 \nL 265.409034 81.75908 \nL 265.765033 79.272789 \nL 266.121032 76.894136 \nL 266.47703 74.621608 \nL 266.833029 72.453071 \nL 267.189028 70.385909 \nL 267.545027 68.417081 \nL 267.901025 66.54325 \nL 268.257024 64.760837 \nL 268.613023 63.066127 \nL 268.969022 61.455304 \nL 269.32502 59.924539 \nL 269.681019 58.470011 \nL 270.393017 55.777717 \nL 271.105014 53.34395 \nL 271.817012 51.141893 \nL 272.529009 49.147027 \nL 273.241007 47.33722 \nL 273.953004 45.69268 \nL 275.376999 42.845172 \nL 276.800994 40.462629 \nL 278.224989 38.454609 \nL 279.648984 36.750456 \nL 281.072979 35.294765 \nL 282.496974 34.043852 \nL 285.344964 32.051247 \nL 288.192955 30.524245 \nL 291.040945 29.334139 \nL 293.888935 28.393132 \nL 299.584915 27.073884 \nL 305.280895 26.184301 \nL 310.976875 25.568018 \nL 322.368835 24.877554 \nL 333.760795 24.523138 \nL 345.152756 24.35586 \nL 356.544716 24.29875 \nL 379.328636 24.383585 \nL 402.112557 24.565811 \nL 447.680398 25.020708 \nL 493.248239 25.388072 \nL 538.81608 25.388072 \n\" clip-path=\"url(#p10e7e609dc)\" style=\"fill: none; stroke: #4c72b0; stroke-width: 1.5; stroke-linecap: square\"/>\n    <defs>\n     <path id=\"maf77d62555\" d=\"M 0 3 \nC 0.795609 3 1.55874 2.683901 2.12132 2.12132 \nC 2.683901 1.55874 3 0.795609 3 0 \nC 3 -0.795609 2.683901 -1.55874 2.12132 -2.12132 \nC 1.55874 -2.683901 0.795609 -3 0 -3 \nC -0.795609 -3 -1.55874 -2.683901 -2.12132 -2.12132 \nC -2.683901 -1.55874 -3 -0.795609 -3 0 \nC -3 0.795609 -2.683901 1.55874 -2.12132 2.12132 \nC -1.55874 2.683901 -0.795609 3 0 3 \nz\n\" style=\"stroke: #4c72b0\"/>\n    </defs>\n    <g clip-path=\"url(#p10e7e609dc)\">\n     <use xlink:href=\"#maf77d62555\" x=\"83.13767\" y=\"366.27375\" style=\"fill: #4c72b0; stroke: #4c72b0\"/>\n     <use xlink:href=\"#maf77d62555\" x=\"128.705511\" y=\"366.26792\" style=\"fill: #4c72b0; stroke: #4c72b0\"/>\n     <use xlink:href=\"#maf77d62555\" x=\"151.489432\" y=\"366.248939\" style=\"fill: #4c72b0; stroke: #4c72b0\"/>\n     <use xlink:href=\"#maf77d62555\" x=\"174.273352\" y=\"366.160877\" style=\"fill: #4c72b0; stroke: #4c72b0\"/>\n     <use xlink:href=\"#maf77d62555\" x=\"185.665312\" y=\"365.998011\" style=\"fill: #4c72b0; stroke: #4c72b0\"/>\n     <use xlink:href=\"#maf77d62555\" x=\"191.361293\" y=\"365.807902\" style=\"fill: #4c72b0; stroke: #4c72b0\"/>\n     <use xlink:href=\"#maf77d62555\" x=\"197.057273\" y=\"365.450775\" style=\"fill: #4c72b0; stroke: #4c72b0\"/>\n     <use xlink:href=\"#maf77d62555\" x=\"202.753253\" y=\"364.784962\" style=\"fill: #4c72b0; stroke: #4c72b0\"/>\n     <use xlink:href=\"#maf77d62555\" x=\"208.449233\" y=\"363.557134\" style=\"fill: #4c72b0; stroke: #4c72b0\"/>\n     <use xlink:href=\"#maf77d62555\" x=\"214.145213\" y=\"361.328937\" style=\"fill: #4c72b0; stroke: #4c72b0\"/>\n     <use xlink:href=\"#maf77d62555\" x=\"219.841193\" y=\"357.379922\" style=\"fill: #4c72b0; stroke: #4c72b0\"/>\n     <use xlink:href=\"#maf77d62555\" x=\"222.689183\" y=\"354.319588\" style=\"fill: #4c72b0; stroke: #4c72b0\"/>\n     <use xlink:href=\"#maf77d62555\" x=\"225.537173\" y=\"350.205838\" style=\"fill: #4c72b0; stroke: #4c72b0\"/>\n     <use xlink:href=\"#maf77d62555\" x=\"228.385163\" y=\"344.767902\" style=\"fill: #4c72b0; stroke: #4c72b0\"/>\n     <use xlink:href=\"#maf77d62555\" x=\"231.233153\" y=\"337.715738\" style=\"fill: #4c72b0; stroke: #4c72b0\"/>\n     <use xlink:href=\"#maf77d62555\" x=\"234.081143\" y=\"328.760392\" style=\"fill: #4c72b0; stroke: #4c72b0\"/>\n     <use xlink:href=\"#maf77d62555\" x=\"236.929134\" y=\"317.63707\" style=\"fill: #4c72b0; stroke: #4c72b0\"/>\n     <use xlink:href=\"#maf77d62555\" x=\"239.777124\" y=\"304.125337\" style=\"fill: #4c72b0; stroke: #4c72b0\"/>\n     <use xlink:href=\"#maf77d62555\" x=\"241.201119\" y=\"296.371278\" style=\"fill: #4c72b0; stroke: #4c72b0\"/>\n     <use xlink:href=\"#maf77d62555\" x=\"242.625114\" y=\"287.918292\" style=\"fill: #4c72b0; stroke: #4c72b0\"/>\n     <use xlink:href=\"#maf77d62555\" x=\"244.049109\" y=\"278.755001\" style=\"fill: #4c72b0; stroke: #4c72b0\"/>\n     <use xlink:href=\"#maf77d62555\" x=\"245.473104\" y=\"268.874591\" style=\"fill: #4c72b0; stroke: #4c72b0\"/>\n     <use xlink:href=\"#maf77d62555\" x=\"246.897099\" y=\"258.274691\" style=\"fill: #4c72b0; stroke: #4c72b0\"/>\n     <use xlink:href=\"#maf77d62555\" x=\"248.321094\" y=\"246.957486\" style=\"fill: #4c72b0; stroke: #4c72b0\"/>\n     <use xlink:href=\"#maf77d62555\" x=\"249.745089\" y=\"234.930302\" style=\"fill: #4c72b0; stroke: #4c72b0\"/>\n     <use xlink:href=\"#maf77d62555\" x=\"250.457086\" y=\"228.649375\" style=\"fill: #4c72b0; stroke: #4c72b0\"/>\n     <use xlink:href=\"#maf77d62555\" x=\"251.169084\" y=\"222.192558\" style=\"fill: #4c72b0; stroke: #4c72b0\"/>\n     <use xlink:href=\"#maf77d62555\" x=\"251.881081\" y=\"215.563492\" style=\"fill: #4c72b0; stroke: #4c72b0\"/>\n     <use xlink:href=\"#maf77d62555\" x=\"252.593079\" y=\"208.766881\" style=\"fill: #4c72b0; stroke: #4c72b0\"/>\n     <use xlink:href=\"#maf77d62555\" x=\"253.305076\" y=\"201.808804\" style=\"fill: #4c72b0; stroke: #4c72b0\"/>\n     <use xlink:href=\"#maf77d62555\" x=\"254.017074\" y=\"194.697138\" style=\"fill: #4c72b0; stroke: #4c72b0\"/>\n     <use xlink:href=\"#maf77d62555\" x=\"254.373073\" y=\"191.086965\" style=\"fill: #4c72b0; stroke: #4c72b0\"/>\n     <use xlink:href=\"#maf77d62555\" x=\"254.729071\" y=\"187.442162\" style=\"fill: #4c72b0; stroke: #4c72b0\"/>\n     <use xlink:href=\"#maf77d62555\" x=\"255.08507\" y=\"183.76456\" style=\"fill: #4c72b0; stroke: #4c72b0\"/>\n     <use xlink:href=\"#maf77d62555\" x=\"255.441069\" y=\"180.056217\" style=\"fill: #4c72b0; stroke: #4c72b0\"/>\n     <use xlink:href=\"#maf77d62555\" x=\"255.797068\" y=\"176.319448\" style=\"fill: #4c72b0; stroke: #4c72b0\"/>\n     <use xlink:href=\"#maf77d62555\" x=\"256.153066\" y=\"172.556843\" style=\"fill: #4c72b0; stroke: #4c72b0\"/>\n     <use xlink:href=\"#maf77d62555\" x=\"256.509065\" y=\"168.771292\" style=\"fill: #4c72b0; stroke: #4c72b0\"/>\n     <use xlink:href=\"#maf77d62555\" x=\"256.865064\" y=\"164.966005\" style=\"fill: #4c72b0; stroke: #4c72b0\"/>\n     <use xlink:href=\"#maf77d62555\" x=\"257.221063\" y=\"161.144532\" style=\"fill: #4c72b0; stroke: #4c72b0\"/>\n     <use xlink:href=\"#maf77d62555\" x=\"257.577061\" y=\"157.310784\" style=\"fill: #4c72b0; stroke: #4c72b0\"/>\n     <use xlink:href=\"#maf77d62555\" x=\"257.93306\" y=\"153.469052\" style=\"fill: #4c72b0; stroke: #4c72b0\"/>\n     <use xlink:href=\"#maf77d62555\" x=\"258.289059\" y=\"149.624018\" style=\"fill: #4c72b0; stroke: #4c72b0\"/>\n     <use xlink:href=\"#maf77d62555\" x=\"258.645058\" y=\"145.780768\" style=\"fill: #4c72b0; stroke: #4c72b0\"/>\n     <use xlink:href=\"#maf77d62555\" x=\"259.001056\" y=\"141.944803\" style=\"fill: #4c72b0; stroke: #4c72b0\"/>\n     <use xlink:href=\"#maf77d62555\" x=\"259.357055\" y=\"138.122028\" style=\"fill: #4c72b0; stroke: #4c72b0\"/>\n     <use xlink:href=\"#maf77d62555\" x=\"259.713054\" y=\"134.31875\" style=\"fill: #4c72b0; stroke: #4c72b0\"/>\n     <use xlink:href=\"#maf77d62555\" x=\"260.069053\" y=\"130.541647\" style=\"fill: #4c72b0; stroke: #4c72b0\"/>\n     <use xlink:href=\"#maf77d62555\" x=\"260.425051\" y=\"126.797726\" style=\"fill: #4c72b0; stroke: #4c72b0\"/>\n     <use xlink:href=\"#maf77d62555\" x=\"260.78105\" y=\"123.094267\" style=\"fill: #4c72b0; stroke: #4c72b0\"/>\n     <use xlink:href=\"#maf77d62555\" x=\"261.137049\" y=\"119.438737\" style=\"fill: #4c72b0; stroke: #4c72b0\"/>\n     <use xlink:href=\"#maf77d62555\" x=\"261.493048\" y=\"115.838693\" style=\"fill: #4c72b0; stroke: #4c72b0\"/>\n     <use xlink:href=\"#maf77d62555\" x=\"261.849047\" y=\"112.301658\" style=\"fill: #4c72b0; stroke: #4c72b0\"/>\n     <use xlink:href=\"#maf77d62555\" x=\"262.205045\" y=\"108.834989\" style=\"fill: #4c72b0; stroke: #4c72b0\"/>\n     <use xlink:href=\"#maf77d62555\" x=\"262.561044\" y=\"105.445731\" style=\"fill: #4c72b0; stroke: #4c72b0\"/>\n     <use xlink:href=\"#maf77d62555\" x=\"262.917043\" y=\"102.140475\" style=\"fill: #4c72b0; stroke: #4c72b0\"/>\n     <use xlink:href=\"#maf77d62555\" x=\"263.273042\" y=\"98.925215\" style=\"fill: #4c72b0; stroke: #4c72b0\"/>\n     <use xlink:href=\"#maf77d62555\" x=\"263.62904\" y=\"95.805232\" style=\"fill: #4c72b0; stroke: #4c72b0\"/>\n     <use xlink:href=\"#maf77d62555\" x=\"263.985039\" y=\"92.784989\" style=\"fill: #4c72b0; stroke: #4c72b0\"/>\n     <use xlink:href=\"#maf77d62555\" x=\"264.341038\" y=\"89.868062\" style=\"fill: #4c72b0; stroke: #4c72b0\"/>\n     <use xlink:href=\"#maf77d62555\" x=\"264.697037\" y=\"87.057105\" style=\"fill: #4c72b0; stroke: #4c72b0\"/>\n     <use xlink:href=\"#maf77d62555\" x=\"265.053035\" y=\"84.353839\" style=\"fill: #4c72b0; stroke: #4c72b0\"/>\n     <use xlink:href=\"#maf77d62555\" x=\"265.409034\" y=\"81.75908\" style=\"fill: #4c72b0; stroke: #4c72b0\"/>\n     <use xlink:href=\"#maf77d62555\" x=\"265.765033\" y=\"79.272789\" style=\"fill: #4c72b0; stroke: #4c72b0\"/>\n     <use xlink:href=\"#maf77d62555\" x=\"266.121032\" y=\"76.894136\" style=\"fill: #4c72b0; stroke: #4c72b0\"/>\n     <use xlink:href=\"#maf77d62555\" x=\"266.47703\" y=\"74.621608\" style=\"fill: #4c72b0; stroke: #4c72b0\"/>\n     <use xlink:href=\"#maf77d62555\" x=\"266.833029\" y=\"72.453071\" style=\"fill: #4c72b0; stroke: #4c72b0\"/>\n     <use xlink:href=\"#maf77d62555\" x=\"267.189028\" y=\"70.385909\" style=\"fill: #4c72b0; stroke: #4c72b0\"/>\n     <use xlink:href=\"#maf77d62555\" x=\"267.545027\" y=\"68.417081\" style=\"fill: #4c72b0; stroke: #4c72b0\"/>\n     <use xlink:href=\"#maf77d62555\" x=\"267.901025\" y=\"66.54325\" style=\"fill: #4c72b0; stroke: #4c72b0\"/>\n     <use xlink:href=\"#maf77d62555\" x=\"268.257024\" y=\"64.760837\" style=\"fill: #4c72b0; stroke: #4c72b0\"/>\n     <use xlink:href=\"#maf77d62555\" x=\"268.613023\" y=\"63.066127\" style=\"fill: #4c72b0; stroke: #4c72b0\"/>\n     <use xlink:href=\"#maf77d62555\" x=\"268.969022\" y=\"61.455304\" style=\"fill: #4c72b0; stroke: #4c72b0\"/>\n     <use xlink:href=\"#maf77d62555\" x=\"269.32502\" y=\"59.924539\" style=\"fill: #4c72b0; stroke: #4c72b0\"/>\n     <use xlink:href=\"#maf77d62555\" x=\"269.681019\" y=\"58.470011\" style=\"fill: #4c72b0; stroke: #4c72b0\"/>\n     <use xlink:href=\"#maf77d62555\" x=\"270.393017\" y=\"55.777717\" style=\"fill: #4c72b0; stroke: #4c72b0\"/>\n     <use xlink:href=\"#maf77d62555\" x=\"271.105014\" y=\"53.34395\" style=\"fill: #4c72b0; stroke: #4c72b0\"/>\n     <use xlink:href=\"#maf77d62555\" x=\"271.817012\" y=\"51.141893\" style=\"fill: #4c72b0; stroke: #4c72b0\"/>\n     <use xlink:href=\"#maf77d62555\" x=\"272.529009\" y=\"49.147027\" style=\"fill: #4c72b0; stroke: #4c72b0\"/>\n     <use xlink:href=\"#maf77d62555\" x=\"273.241007\" y=\"47.33722\" style=\"fill: #4c72b0; stroke: #4c72b0\"/>\n     <use xlink:href=\"#maf77d62555\" x=\"273.953004\" y=\"45.69268\" style=\"fill: #4c72b0; stroke: #4c72b0\"/>\n     <use xlink:href=\"#maf77d62555\" x=\"275.376999\" y=\"42.845172\" style=\"fill: #4c72b0; stroke: #4c72b0\"/>\n     <use xlink:href=\"#maf77d62555\" x=\"276.800994\" y=\"40.462629\" style=\"fill: #4c72b0; stroke: #4c72b0\"/>\n     <use xlink:href=\"#maf77d62555\" x=\"278.224989\" y=\"38.454609\" style=\"fill: #4c72b0; stroke: #4c72b0\"/>\n     <use xlink:href=\"#maf77d62555\" x=\"279.648984\" y=\"36.750456\" style=\"fill: #4c72b0; stroke: #4c72b0\"/>\n     <use xlink:href=\"#maf77d62555\" x=\"281.072979\" y=\"35.294765\" style=\"fill: #4c72b0; stroke: #4c72b0\"/>\n     <use xlink:href=\"#maf77d62555\" x=\"282.496974\" y=\"34.043852\" style=\"fill: #4c72b0; stroke: #4c72b0\"/>\n     <use xlink:href=\"#maf77d62555\" x=\"285.344964\" y=\"32.051247\" style=\"fill: #4c72b0; stroke: #4c72b0\"/>\n     <use xlink:href=\"#maf77d62555\" x=\"288.192955\" y=\"30.524245\" style=\"fill: #4c72b0; stroke: #4c72b0\"/>\n     <use xlink:href=\"#maf77d62555\" x=\"291.040945\" y=\"29.334139\" style=\"fill: #4c72b0; stroke: #4c72b0\"/>\n     <use xlink:href=\"#maf77d62555\" x=\"293.888935\" y=\"28.393132\" style=\"fill: #4c72b0; stroke: #4c72b0\"/>\n     <use xlink:href=\"#maf77d62555\" x=\"299.584915\" y=\"27.073884\" style=\"fill: #4c72b0; stroke: #4c72b0\"/>\n     <use xlink:href=\"#maf77d62555\" x=\"305.280895\" y=\"26.184301\" style=\"fill: #4c72b0; stroke: #4c72b0\"/>\n     <use xlink:href=\"#maf77d62555\" x=\"310.976875\" y=\"25.568018\" style=\"fill: #4c72b0; stroke: #4c72b0\"/>\n     <use xlink:href=\"#maf77d62555\" x=\"322.368835\" y=\"24.877554\" style=\"fill: #4c72b0; stroke: #4c72b0\"/>\n     <use xlink:href=\"#maf77d62555\" x=\"333.760795\" y=\"24.523138\" style=\"fill: #4c72b0; stroke: #4c72b0\"/>\n     <use xlink:href=\"#maf77d62555\" x=\"345.152756\" y=\"24.35586\" style=\"fill: #4c72b0; stroke: #4c72b0\"/>\n     <use xlink:href=\"#maf77d62555\" x=\"356.544716\" y=\"24.29875\" style=\"fill: #4c72b0; stroke: #4c72b0\"/>\n     <use xlink:href=\"#maf77d62555\" x=\"379.328636\" y=\"24.383585\" style=\"fill: #4c72b0; stroke: #4c72b0\"/>\n     <use xlink:href=\"#maf77d62555\" x=\"402.112557\" y=\"24.565811\" style=\"fill: #4c72b0; stroke: #4c72b0\"/>\n     <use xlink:href=\"#maf77d62555\" x=\"447.680398\" y=\"25.020708\" style=\"fill: #4c72b0; stroke: #4c72b0\"/>\n     <use xlink:href=\"#maf77d62555\" x=\"493.248239\" y=\"25.388072\" style=\"fill: #4c72b0; stroke: #4c72b0\"/>\n     <use xlink:href=\"#maf77d62555\" x=\"538.81608\" y=\"25.388072\" style=\"fill: #4c72b0; stroke: #4c72b0\"/>\n    </g>\n   </g>\n   <g id=\"patch_3\">\n    <path d=\"M 60.35375 383.3725 \nL 60.35375 7.2 \n\" style=\"fill: none; stroke: #ffffff; stroke-linejoin: miter; stroke-linecap: square\"/>\n   </g>\n   <g id=\"patch_4\">\n    <path d=\"M 561.6 383.3725 \nL 561.6 7.2 \n\" style=\"fill: none; stroke: #ffffff; stroke-linejoin: miter; stroke-linecap: square\"/>\n   </g>\n   <g id=\"patch_5\">\n    <path d=\"M 60.35375 383.3725 \nL 561.6 383.3725 \n\" style=\"fill: none; stroke: #ffffff; stroke-linejoin: miter; stroke-linecap: square\"/>\n   </g>\n   <g id=\"patch_6\">\n    <path d=\"M 60.35375 7.2 \nL 561.6 7.2 \n\" style=\"fill: none; stroke: #ffffff; stroke-linejoin: miter; stroke-linecap: square\"/>\n   </g>\n  </g>\n </g>\n <defs>\n  <clipPath id=\"p10e7e609dc\">\n   <rect x=\"60.35375\" y=\"7.2\" width=\"501.24625\" height=\"376.1725\"/>\n  </clipPath>\n </defs>\n</svg>\n"
          },
          "metadata": {}
        }
      ]
    },
    {
      "cell_type": "code",
      "source": [],
      "metadata": {
        "id": "lO7jrTAkewDG"
      },
      "execution_count": null,
      "outputs": []
    },
    {
      "cell_type": "markdown",
      "source": [
        "#Use of the Fluids package in a NeqSim process simulation\n"
      ],
      "metadata": {
        "id": "cmHtZrXNVHXY"
      }
    },
    {
      "cell_type": "markdown",
      "source": [
        "In t his section we will use calculations of an orifice pressure drop (see documentation):\n",
        "\n",
        "\n",
        "https://fluids.readthedocs.io/fluids.flow_meter.html"
      ],
      "metadata": {
        "id": "RNGqpmB3Wu_h"
      }
    },
    {
      "cell_type": "code",
      "source": [
        "%%capture\n",
        "!pip install fluids"
      ],
      "metadata": {
        "id": "DtbjHggBVSHg"
      },
      "execution_count": null,
      "outputs": []
    },
    {
      "cell_type": "code",
      "source": [
        "from neqsim.process.unitop import unitop\n",
        "from neqsim import jNeqSim\n",
        "from jpype import JImplements, JOverride\n",
        "import fluids\n",
        "import json\n",
        "\n",
        "class Orifice(unitop):\n",
        "    def __init__(self, name):\n",
        "        super().__init__()\n",
        "        self.serialVersionUID = None\n",
        "        self.name = name\n",
        "        self.inputstream = None\n",
        "        self.outputstream = None\n",
        "        self.dp = None\n",
        "        self.diameter = None\n",
        "        self.diameter_outer = None\n",
        "        self.C = None\n",
        "\n",
        "    def setInputStream(self, stream):\n",
        "        self.outputstream = stream.clone()\n",
        "        self.inputstream = stream\n",
        "\n",
        "    def getOutputStream(self):\n",
        "        return self.outputstream\n",
        "\n",
        "    def setOrificeParameters(self, diameter, diameter_outer, C):\n",
        "        self.diameter = diameter\n",
        "        self.diameter_outer = diameter_outer\n",
        "        self.C = C\n",
        "\n",
        "    def calc_dp(self):\n",
        "        try:\n",
        "            self.dp = fluids.flow_meter.dP_orifice(\n",
        "                D=self.diameter,\n",
        "                Do=self.diameter_outer,\n",
        "                P1=self.inputstream.getPressure('Pa'),\n",
        "                P2=self.inputstream.getPressure('Pa') * 0.95,\n",
        "                C=self.C\n",
        "            ) / 1e5\n",
        "        except Exception as e:\n",
        "            print(f\"An error occurred in calc_dp: {e}\")\n",
        "        return self.dp\n",
        "\n",
        "    @JOverride\n",
        "    def run(self, uuid):\n",
        "        out_fluid = self.inputstream.getFluid().clone()\n",
        "        out_fluid.setPressure(self.inputstream.getPressure('bara') - self.calc_dp(), 'bara')\n",
        "        self.outputstream.setFluid(out_fluid)\n",
        "        self.outputstream.run()\n",
        "\n",
        "    @JOverride\n",
        "    def toJson(self):\n",
        "        data_dict = {\n",
        "            \"name\": self.name,\n",
        "            \"diameter\": self.diameter,\n",
        "            \"diameter_outer\": self.diameter_outer,\n",
        "            \"C\": self.C,\n",
        "            \"dP\": self.dp\n",
        "        }\n",
        "        return json.dumps(data_dict)"
      ],
      "metadata": {
        "id": "q6mrVs8rVRGC"
      },
      "execution_count": null,
      "outputs": []
    },
    {
      "cell_type": "code",
      "source": [
        "from neqsim import jNeqSim\n",
        "from neqsim.thermo.thermoTools import fluid\n",
        "\n",
        "# Create a fluid with the SRK (Soave-Redlich-Kwong) equation of state\n",
        "fluid1 = fluid(\"srk\")\n",
        "fluid1.setTemperature(30.0, \"C\")\n",
        "fluid1.setPressure(10.0, \"bara\")\n",
        "fluid1.addComponent(\"methane\", 1.0, \"kg/sec\")\n",
        "fluid1.setMixingRule(2)\n",
        "\n",
        "# Create a stream with the fluid\n",
        "stream1 = jNeqSim.processSimulation.processEquipment.stream.Stream(\"stream 1\", fluid1)\n",
        "stream1.setFlowRate(3000, \"kg/hr\")\n",
        "\n",
        "# Define and set up the orifice unit operation\n",
        "orif1 = Orifice(name=\"orifice 1\")\n",
        "orif1.setName(\"orifice 1\")\n",
        "orif1.setInputStream(stream1)\n",
        "orif1.setOrificeParameters(diameter=0.07366, diameter_outer=0.05, C=0.61)  # Corrected parameter spelling\n",
        "\n",
        "# Define the output stream after the orifice\n",
        "stream2 = jNeqSim.processSimulation.processEquipment.stream.Stream(\"stream2\", orif1.getOutputStream())\n",
        "\n",
        "# Set up and run the process system\n",
        "oilprocess = jNeqSim.processSimulation.processSystem.ProcessSystem()\n",
        "oilprocess.add(stream1)\n",
        "oilprocess.add(orif1)\n",
        "oilprocess.add(stream2)\n",
        "\n",
        "oilprocess.run()\n",
        "\n",
        "# Output the pressure after the orifice\n",
        "print('Pressure out of orifice:', stream2.getPressure('bara'), 'bara')"
      ],
      "metadata": {
        "colab": {
          "base_uri": "https://localhost:8080/"
        },
        "id": "qDg0C0p7afKQ",
        "outputId": "2fcc4f5f-7314-4f6b-8974-dce0c79cae6b"
      },
      "execution_count": null,
      "outputs": [
        {
          "output_type": "stream",
          "name": "stdout",
          "text": [
            "Pressure out of orifice: 9.731895927508736 bara\n"
          ]
        }
      ]
    }
  ]
}