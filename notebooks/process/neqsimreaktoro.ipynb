{
  "nbformat": 4,
  "nbformat_minor": 0,
  "metadata": {
    "colab": {
      "provenance": [],
      "authorship_tag": "ABX9TyMWRJnDv5OgEoXDyIhc525v",
      "include_colab_link": true
    },
    "kernelspec": {
      "name": "python3",
      "display_name": "Python 3"
    },
    "language_info": {
      "name": "python"
    }
  },
  "cells": [
    {
      "cell_type": "markdown",
      "metadata": {
        "id": "view-in-github",
        "colab_type": "text"
      },
      "source": [
        "<a href=\"https://colab.research.google.com/github/EvenSol/NeqSim-Colab/blob/master/notebooks/process/neqsimreaktoro.ipynb\" target=\"_parent\"><img src=\"https://colab.research.google.com/assets/colab-badge.svg\" alt=\"Open In Colab\"/></a>"
      ]
    },
    {
      "cell_type": "markdown",
      "source": [
        "# Use of third party libraries in NeqSim process simulations\n",
        "In this workbook we will give examples of how to use third party tools such as Reaktoro, Refprop, CoolProp and ThermoPack in a NeqSim process simulation.\n",
        "\n",
        "This documentation is part of [Introduction of Gas Processsing using NeqSim and Python](https://colab.research.google.com/github/EvenSol/NeqSim-Colab/blob/master/notebooks/examples_of_NeqSim_in_Colab.ipynb)."
      ],
      "metadata": {
        "id": "s863d-bFHkjw"
      }
    },
    {
      "cell_type": "markdown",
      "source": [
        "# Use of Reaktoro as a unit operation in NeqSim process simulation\n",
        "In the following example we will integrate Reaktoro as an unit operation in a NeqSim process simulation"
      ],
      "metadata": {
        "id": "wk4-LsDJbqjL"
      }
    },
    {
      "cell_type": "code",
      "execution_count": null,
      "metadata": {
        "colab": {
          "base_uri": "https://localhost:8080/"
        },
        "id": "F1oAKqiybXFf",
        "outputId": "01331c55-4b0e-44d7-861b-5a5aca6d0557"
      },
      "outputs": [
        {
          "output_type": "stream",
          "name": "stdout",
          "text": [
            "Requirement already satisfied: neqsim in /usr/local/lib/python3.10/site-packages (2.5.31)\n",
            "Requirement already satisfied: JPype1<2.0.0,>=1.5.0 in /usr/local/lib/python3.10/site-packages (from neqsim) (1.5.0)\n",
            "Requirement already satisfied: numpy<2.0.0,>=1.25.2 in /usr/local/lib/python3.10/site-packages (from neqsim) (1.26.4)\n",
            "Requirement already satisfied: pandas<3.0.0,>=2.0.3 in /usr/local/lib/python3.10/site-packages (from neqsim) (2.2.2)\n",
            "Requirement already satisfied: packaging in /usr/local/lib/python3.10/site-packages (from JPype1<2.0.0,>=1.5.0->neqsim) (24.1)\n",
            "Requirement already satisfied: python-dateutil>=2.8.2 in /usr/local/lib/python3.10/site-packages (from pandas<3.0.0,>=2.0.3->neqsim) (2.9.0)\n",
            "Requirement already satisfied: pytz>=2020.1 in /usr/local/lib/python3.10/site-packages (from pandas<3.0.0,>=2.0.3->neqsim) (2024.1)\n",
            "Requirement already satisfied: tzdata>=2022.7 in /usr/local/lib/python3.10/site-packages (from pandas<3.0.0,>=2.0.3->neqsim) (2024.1)\n",
            "Requirement already satisfied: six>=1.5 in /usr/local/lib/python3.10/site-packages (from python-dateutil>=2.8.2->pandas<3.0.0,>=2.0.3->neqsim) (1.16.0)\n"
          ]
        }
      ],
      "source": [
        "!pip install neqsim"
      ]
    },
    {
      "cell_type": "code",
      "source": [
        "%%capture\n",
        "!pip install -q condacolab\n",
        "import condacolab\n",
        "condacolab.install_from_url(\"https://repo.anaconda.com/miniconda/Miniconda3-py38_4.12.0-Linux-x86_64.sh\")\n",
        "!conda config --remove channels defaults\n",
        "!conda config --add channels conda-forge\n",
        "!conda install reaktoro -y"
      ],
      "metadata": {
        "id": "6R_27ps-b4le"
      },
      "execution_count": null,
      "outputs": []
    },
    {
      "cell_type": "markdown",
      "source": [
        "# Implementing a Reaktoro unit operation in NeqSim"
      ],
      "metadata": {
        "id": "158kYPMGc1hy"
      }
    },
    {
      "cell_type": "code",
      "source": [
        "from neqsim.process.unitop import unitop\n",
        "from neqsim import jNeqSim\n",
        "from jpype import JImplements, JOverride\n",
        "import reaktoro as rkt\n",
        "import json\n",
        "\n",
        "class ReaktoroUnitOperation(unitop):\n",
        "    def __init__(self):\n",
        "        super().__init__()\n",
        "        self.serialVersionUID = None\n",
        "        self.name = \"\"\n",
        "        self.inputstream = None\n",
        "        self.aprops = None\n",
        "        self.fugacity_co2 = None\n",
        "\n",
        "    def setInputStream(self, stream):\n",
        "        self.inputstream = stream\n",
        "\n",
        "    def calc_reaktoro(self, pressure, temperature , fugacity_co2):\n",
        "      db = rkt.PhreeqcDatabase(\"phreeqc.dat\")\n",
        "      solution = rkt.AqueousPhase(rkt.speciate(\"H O Na Cl C Ca\"))\n",
        "      solution.set(rkt.ActivityModelPhreeqc(db))\n",
        "\n",
        "      calcite = rkt.MineralPhase(\"Calcite\")\n",
        "\n",
        "      system = rkt.ChemicalSystem(db, solution, calcite)\n",
        "\n",
        "      specs = rkt.EquilibriumSpecs(system)\n",
        "      specs.temperature()\n",
        "      specs.pressure()\n",
        "      specs.fugacity(\"CO2(g)\")\n",
        "\n",
        "      solver = rkt.EquilibriumSolver(specs)\n",
        "\n",
        "      state = rkt.ChemicalState(system)\n",
        "      state.temperature(50.0, \"celsius\")\n",
        "      state.pressure(10.0, \"bar\")\n",
        "      state.set(\"H2O\", 1.0, \"kg\")\n",
        "      state.set(\"Na+\", 1.0, \"mol\")\n",
        "      state.set(\"Cl-\", 1.0, \"mol\")\n",
        "      state.set(\"Calcite\", 10, \"g\")\n",
        "\n",
        "      conditions = rkt.EquilibriumConditions(specs)\n",
        "      conditions.temperature(temperature, \"celsius\")\n",
        "      conditions.pressure(pressure, \"bar\")\n",
        "      conditions.fugacity(\"CO2(g)\", fugacity_co2, \"bar\")\n",
        "\n",
        "      result = solver.solve(state, conditions)\n",
        "      return rkt.AqueousProps(state)\n",
        "\n",
        "    @JOverride\n",
        "    def run(self, uuid):\n",
        "      self.serialVersionUID = uuid\n",
        "      print(\"ReaktoroUnitOperation.run()\")\n",
        "      self.fugacity_co2 = self.inputstream.getFluid().getPhase(0).getFugacity('CO2')\n",
        "      self.aprops = self.calc_reaktoro(self.inputstream.getPressure('bara'), self.inputstream.getTemperature('C'), self.fugacity_co2)\n",
        "\n",
        "    @JOverride\n",
        "    def toJson(self):\n",
        "      data_dict = {\n",
        "            \"name\": self.name,\n",
        "            \"pH\": self.aprops.pH()[0],\n",
        "            \"fugacity CO2\": self.fugacity_co2\n",
        "      }\n",
        "      return json.dumps(data_dict)\n"
      ],
      "metadata": {
        "id": "71qW9mH-dFEo"
      },
      "execution_count": null,
      "outputs": []
    },
    {
      "cell_type": "markdown",
      "source": [
        "# Implement the Reaktoro unit operation in a NeqSim simulation\n",
        "The unit operation will report the pH of an aqueous phase with some ions in equilibrium with the gas."
      ],
      "metadata": {
        "id": "D5qdzKGdjxde"
      }
    },
    {
      "cell_type": "code",
      "source": [
        "from neqsim.thermo import fluid\n",
        "fluid1 = fluid(\"srk\")  # create a fluid using the SRK-EoS\n",
        "fluid1.setTemperature(30.0, \"C\")\n",
        "fluid1.setPressure(100.0, \"bara\")\n",
        "fluid1.addComponent(\"methane\", 0.9)\n",
        "fluid1.addComponent(\"CO2\", 0.1)\n",
        "fluid1.setMixingRule(2)\n",
        "\n",
        "stream1 = jNeqSim.processSimulation.processEquipment.stream.Stream(fluid1)\n",
        "stream1.setFlowRate(30000, \"kg/hr\")\n",
        "\n",
        "uop = ReaktoroUnitOperation()\n",
        "uop.setName(\"Reaktoro Unit Operation\")\n",
        "uop.setInputStream(stream1)\n",
        "\n",
        "example_process = jNeqSim.processSimulation.processSystem.ProcessSystem()\n",
        "example_process.add(stream1)\n",
        "example_process.add(uop)\n",
        "\n",
        "example_process.run()\n"
      ],
      "metadata": {
        "id": "0_0qWw3EkAHe"
      },
      "execution_count": null,
      "outputs": []
    },
    {
      "cell_type": "code",
      "source": [
        "json_report= str(jNeqSim.processSimulation.util.report.Report(example_process).generateJsonReport())\n",
        "output = json.loads(json_report)\n",
        "print(output['Reaktoro Unit Operation'])"
      ],
      "metadata": {
        "colab": {
          "base_uri": "https://localhost:8080/"
        },
        "id": "WcuaEZXlkrtc",
        "outputId": "b5971961-a1ee-421b-fdc7-98b6680b60a6"
      },
      "execution_count": null,
      "outputs": [
        {
          "output_type": "stream",
          "name": "stdout",
          "text": [
            "ReaktoroUnitOperation.run()\n",
            "{'name': 'Reaktoro Unit Operation', 'pH': 5.520539435475417, 'fugacity CO2': 6.970782669382442}\n"
          ]
        }
      ]
    },
    {
      "cell_type": "markdown",
      "source": [
        "# Use of CoolProp as a unit operation in NeqSim process simulation\n",
        "In the following example we will integrate CoolProp as an unit operation in a NeqSim process simulation\n",
        "\n",
        "http://www.coolprop.org/coolprop/examples.html"
      ],
      "metadata": {
        "id": "slLtdQV5IGZ8"
      }
    },
    {
      "cell_type": "code",
      "source": [
        "!pip install CoolProp"
      ],
      "metadata": {
        "colab": {
          "base_uri": "https://localhost:8080/"
        },
        "id": "iyd2CbqYINU4",
        "outputId": "21c1e26c-0d07-4053-8896-09c5c60d08e7"
      },
      "execution_count": null,
      "outputs": [
        {
          "output_type": "stream",
          "name": "stdout",
          "text": [
            "Requirement already satisfied: CoolProp in /usr/local/lib/python3.10/site-packages (6.6.0)\n"
          ]
        }
      ]
    },
    {
      "cell_type": "code",
      "source": [
        "from neqsim.process.unitop import unitop\n",
        "from neqsim import jNeqSim\n",
        "from jpype import JImplements, JOverride\n",
        "import CoolProp.CoolProp as CP\n",
        "from CoolProp.CoolProp import PropsSI\n",
        "import json\n",
        "\n",
        "class CoolPropUnitOperation(unitop):\n",
        "    def __init__(self):\n",
        "        super().__init__()\n",
        "        self.serialVersionUID = None\n",
        "        self.name = \"\"\n",
        "        self.inputstream = None\n",
        "        self.densityCO2 = None\n",
        "        self.densityCO2_neqsim = None\n",
        "\n",
        "\n",
        "    def setInputStream(self, stream):\n",
        "        self.inputstream = stream\n",
        "\n",
        "    def calc_cool_prop(self):\n",
        "      return PropsSI('D', 'T', self.inputstream.getTemperature('K'), 'P', self.inputstream.getPressure('Pa'), 'CO2')\n",
        "\n",
        "    @JOverride\n",
        "    def run(self, uuid):\n",
        "      self.serialVersionUID = id\n",
        "      self.inputstream.getFluid().initPhysicalProperties('Density')\n",
        "      self.densityCO2 = self.calc_cool_prop()\n",
        "      self.densityCO2_neqsim = self.inputstream.getFluid().getPhase(0).getDensity('kg/m3')\n",
        "\n",
        "    @JOverride\n",
        "    def toJson(self):\n",
        "      data_dict = {\n",
        "            \"name\": self.name,\n",
        "            \"densityCO2_CoolProp\": self.densityCO2,\n",
        "            \"densityCO2_NeqSim\": self.densityCO2_neqsim\n",
        "      }\n",
        "      return json.dumps(data_dict)"
      ],
      "metadata": {
        "id": "7TXXC6ehL18r"
      },
      "execution_count": null,
      "outputs": []
    },
    {
      "cell_type": "code",
      "source": [
        "from neqsim.thermo import fluid\n",
        "fluid1 = fluid(\"srk\")  # create a fluid using the SRK-EoS\n",
        "fluid1.setTemperature(14.3, \"C\")\n",
        "fluid1.setPressure(55.0, \"bara\")\n",
        "fluid1.addComponent(\"CO2\", 0.1)\n",
        "fluid1.setMixingRule(2)\n",
        "\n",
        "stream1 = jNeqSim.processSimulation.processEquipment.stream.Stream(fluid1)\n",
        "stream1.setFlowRate(30000, \"kg/hr\")\n",
        "\n",
        "uop = CoolPropUnitOperation()\n",
        "uop.setName(\"CoolProp Unit Operation\")\n",
        "uop.setInputStream(stream1)\n",
        "\n",
        "example_process = jNeqSim.processSimulation.processSystem.ProcessSystem()\n",
        "example_process.add(stream1)\n",
        "example_process.add(uop)\n",
        "\n",
        "example_process.run()"
      ],
      "metadata": {
        "id": "LrO_jcP-Rqs9"
      },
      "execution_count": null,
      "outputs": []
    },
    {
      "cell_type": "code",
      "source": [
        "json_report= str(jNeqSim.processSimulation.util.report.Report(example_process).generateJsonReport())\n",
        "output = json.loads(json_report)\n",
        "print(output['CoolProp Unit Operation'])"
      ],
      "metadata": {
        "colab": {
          "base_uri": "https://localhost:8080/"
        },
        "id": "c3Pxx5CnR0_7",
        "outputId": "d857fc32-529e-4ead-ab77-4212056986ab"
      },
      "execution_count": null,
      "outputs": [
        {
          "output_type": "stream",
          "name": "stdout",
          "text": [
            "{'name': 'CoolProp Unit Operation', 'densityCO2_CoolProp': 837.1416548396195, 'densityCO2_NeqSim': 742.8594991083878}\n"
          ]
        }
      ]
    },
    {
      "cell_type": "markdown",
      "source": [
        "# Use of ThermoPack as a unit operation in NeqSim process simulation\n",
        "In the following example we will integrate ThermoPack as an unit operation in a NeqSim process simulation\n",
        "\n",
        "https://pypi.org/project/thermopack/"
      ],
      "metadata": {
        "id": "I3Z_pMYGU178"
      }
    },
    {
      "cell_type": "code",
      "source": [
        "!pip install thermopack"
      ],
      "metadata": {
        "colab": {
          "base_uri": "https://localhost:8080/"
        },
        "id": "uHa-E5j3U9rf",
        "outputId": "f1cdb0cb-d1c9-48b1-e16c-80a23c290a81"
      },
      "execution_count": null,
      "outputs": [
        {
          "output_type": "stream",
          "name": "stdout",
          "text": [
            "Requirement already satisfied: thermopack in /usr/local/lib/python3.10/site-packages (2.2.3)\n"
          ]
        }
      ]
    },
    {
      "cell_type": "code",
      "source": [
        "from neqsim.process.unitop import unitop\n",
        "from neqsim import jNeqSim\n",
        "from jpype import JImplements, JOverride\n",
        "from thermopack.saftvrmie import saftvrmie\n",
        "import json\n",
        "\n",
        "class ThermoPackUnitOperation(unitop):\n",
        "    def __init__(self):\n",
        "        super().__init__()\n",
        "        self.serialVersionUID = None\n",
        "        self.name = \"\"\n",
        "        self.inputstream = None\n",
        "        self.densityCO2 = None\n",
        "        self.densityCO2_neqsim = None\n",
        "\n",
        "    def setInputStream(self, stream):\n",
        "        self.inputstream = stream\n",
        "\n",
        "    def calc_thermo_pack_prop(self):\n",
        "      eos = saftvrmie('C1,CO2')\n",
        "      T = 300 # Kelvin\n",
        "      p = 1e5 # Pascal\n",
        "      x = self.inputstream.getFluid().getzvector() # Molar composition\n",
        "      vg, = eos.specific_volume(self.inputstream.getTemperature('K'), self.inputstream.getPressure('Pa'), x, eos.TWOPH) # Molar volume of gas phase (NB: Notice the comma)\n",
        "      return self.inputstream.getFluid().getPhase(0).getMolarMass('kg/mol')/vg\n",
        "\n",
        "    @JOverride\n",
        "    def run(self, uuid):\n",
        "      self.serialVersionUID = uuid\n",
        "      self.inputstream.getFluid().initPhysicalProperties('Density')\n",
        "      self.densityCO2 = self.calc_thermo_pack_prop()\n",
        "      self.densityCO2_neqsim = self.inputstream.getFluid().getPhase(0).getDensity('kg/m3')\n",
        "\n",
        "    @JOverride\n",
        "    def toJson(self):\n",
        "      data_dict = {\n",
        "            \"name\": self.name,\n",
        "            \"densityCO2_ThermoPack\": self.densityCO2,\n",
        "            \"densityCO2_NeqSim\": self.densityCO2_neqsim\n",
        "      }\n",
        "      return json.dumps(data_dict)"
      ],
      "metadata": {
        "id": "E78B61YsYKGG"
      },
      "execution_count": null,
      "outputs": []
    },
    {
      "cell_type": "code",
      "source": [
        "from neqsim.thermo import fluid\n",
        "fluid1 = fluid(\"srk\")  # create a fluid using the SRK-EoS\n",
        "fluid1.setTemperature(14.3, \"C\")\n",
        "fluid1.setPressure(65.0, \"bara\")\n",
        "fluid1.addComponent(\"methane\", 0.01)\n",
        "fluid1.addComponent(\"CO2\", 0.99)\n",
        "fluid1.setMixingRule(2)\n",
        "\n",
        "stream1 = jNeqSim.processSimulation.processEquipment.stream.Stream(fluid1)\n",
        "stream1.setFlowRate(30000, \"kg/hr\")\n",
        "\n",
        "uop = ThermoPackUnitOperation()\n",
        "uop.setName(\"ThermoPack Unit Operation\")\n",
        "uop.setInputStream(stream1)\n",
        "\n",
        "example_process = jNeqSim.processSimulation.processSystem.ProcessSystem()\n",
        "example_process.add(stream1)\n",
        "example_process.add(uop)\n",
        "\n",
        "example_process.run()"
      ],
      "metadata": {
        "id": "rfniROMzZVT4"
      },
      "execution_count": null,
      "outputs": []
    },
    {
      "cell_type": "code",
      "source": [
        "json_report= str(jNeqSim.processSimulation.util.report.Report(example_process).generateJsonReport())\n",
        "output = json.loads(json_report)\n",
        "print(output['ThermoPack Unit Operation'])"
      ],
      "metadata": {
        "colab": {
          "base_uri": "https://localhost:8080/"
        },
        "id": "YgUwiNFAZccX",
        "outputId": "f05b9255-54da-4a6a-fa34-c37450655ef8"
      },
      "execution_count": null,
      "outputs": [
        {
          "output_type": "stream",
          "name": "stdout",
          "text": [
            "{'name': 'ThermoPack Unit Operation', 'densityCO2_ThermoPack': 856.638171127874, 'densityCO2_NeqSim': 751.3317350536282}\n"
          ]
        }
      ]
    }
  ]
}