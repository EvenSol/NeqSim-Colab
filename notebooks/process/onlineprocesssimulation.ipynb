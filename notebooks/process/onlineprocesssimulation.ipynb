{
  "nbformat": 4,
  "nbformat_minor": 0,
  "metadata": {
    "colab": {
      "name": "onlineprocesssimulation.ipynb",
      "provenance": [],
      "collapsed_sections": [],
      "include_colab_link": true
    },
    "kernelspec": {
      "name": "python3",
      "display_name": "Python 3.7.9 64-bit ('base': conda)"
    },
    "language_info": {
      "name": "python",
      "version": "3.7.9",
      "mimetype": "text/x-python",
      "codemirror_mode": {
        "name": "ipython",
        "version": 3
      },
      "pygments_lexer": "ipython3",
      "nbconvert_exporter": "python",
      "file_extension": ".py"
    },
    "interpreter": {
      "hash": "a5df7bd4ca0d6bb9986d9d69faf4f6c25893f82bf7982e9868ee8495bd8c927f"
    }
  },
  "cells": [
    {
      "cell_type": "markdown",
      "metadata": {
        "id": "view-in-github",
        "colab_type": "text"
      },
      "source": [
        "<a href=\"https://colab.research.google.com/github/EvenSol/NeqSim-Colab/blob/master/notebooks/process/onlineprocesssimulation.ipynb\" target=\"_parent\"><img src=\"https://colab.research.google.com/assets/colab-badge.svg\" alt=\"Open In Colab\"/></a>"
      ]
    },
    {
      "cell_type": "markdown",
      "metadata": {
        "id": "rPro0rQqbeWG"
      },
      "source": [
        "#Online simulation of an oil stabilization process\n",
        "In this notebook we will establish code for using NeqSim for simulation of an oil stabilization process using online data"
      ]
    },
    {
      "cell_type": "code",
      "metadata": {
        "id": "UMv-vbo2bjNW"
      },
      "source": [
        "# Setting up the Colab page to use neqsim\n",
        "%%capture\n",
        "!pip install neqsim\n",
        "import neqsim\n",
        "from neqsim.thermo.thermoTools import *"
      ],
      "execution_count": 1,
      "outputs": []
    },
    {
      "cell_type": "markdown",
      "metadata": {
        "id": "oOBN7Ha8b3oY"
      },
      "source": [
        "# Process flow diagram"
      ]
    },
    {
      "cell_type": "code",
      "metadata": {
        "id": "XRqU7EeeclcA"
      },
      "source": [
        "inputdata = {\n",
        "  'feedFlowRateWell': 10,\n",
        "  'wellPressure': 180.0,\n",
        "  'wellTemperature':100.0,\n",
        "  'topsidePressure': 90.0,\n",
        "  'topsideTemperature': 5.0,\n",
        "  'firstStagePressure': 75.0, \n",
        "  'temperatureOilHeater' : 75.9,\n",
        "  'secondStagePressure': 8.6,\n",
        "  'thirdStagePressure': 1.9,\n",
        "  'firstStageSuctionCoolerTemperature': 25.3, \n",
        "  'secondStageSuctionCoolerTemperature': 24.5, \n",
        "  'thirdStageSuctionCoolerTemperature':25.0,\n",
        "  'firstStageExportCoolerTemperature': 25.3, \n",
        "  'secondStageExportCoolerTemperature': 24.5\n",
        "}"
      ],
      "execution_count": 2,
      "outputs": []
    },
    {
      "cell_type": "code",
      "metadata": {
        "id": "-zm_LJX1bYdN"
      },
      "source": [
        "from neqsim.thermo import fluid, printFrame\n",
        "from neqsim.process import compressor, cooler, separator3phase, getProcess, clearProcess, mixer, heater, stream, pump, separator, runProcess, stream, saturator, valve, filters, heatExchanger, simpleTEGAbsorber,distillationColumn, waterStripperColumn, recycle2, setpoint, calculator\n",
        "\n",
        "clearProcess()\n",
        "\n",
        "wellFluid = fluid('pr')\n",
        "wellFluid.addComponent(\"nitrogen\", 0.08)\n",
        "wellFluid.addComponent(\"CO2\", 3.56)\n",
        "wellFluid.addComponent(\"methane\", 87.36)\n",
        "wellFluid.addComponent(\"ethane\", 4.02)\n",
        "wellFluid.addComponent(\"propane\", 1.54)\n",
        "wellFluid.addComponent(\"i-butane\", 0.2)\n",
        "wellFluid.addComponent(\"n-butane\", 0.42)\n",
        "wellFluid.addComponent(\"i-pentane\", 0.15)\n",
        "wellFluid.addComponent(\"n-pentane\", 0.20)\n",
        "\t\t\n",
        "wellFluid.addTBPfraction(\"C6\", 3.24, 84.99/1000.0, 695.0/1000.0)\n",
        "wellFluid.addTBPfraction(\"C7\", 1.34, 97.87/1000.0, 718.0/1000.0)\n",
        "wellFluid.addTBPfraction(\"C8\", 1.33, 111.54/1000.0, 729.0/1000.0)\n",
        "wellFluid.addTBPfraction(\"C9\", 1.19, 126.1/1000.0, 749.0/1000.0)\n",
        "wellFluid.addTBPfraction(\"C10\", 1.15, 140.14/1000.0, 760.0/1000.0)\n",
        "wellFluid.addTBPfraction(\"C11\", 1.69, 175.0/1000.0, 830.0/1000.0)\n",
        "wellFluid.addTBPfraction(\"C12\", 1.5, 280.0/1000.0, 914.0/1000.0)\n",
        "wellFluid.addTBPfraction(\"C13\", 2.103, 560.0/1000.0, 980.0/1000.0)\n",
        "\n",
        "wellFluid.setMixingRule(2)\n",
        "wellFluid.init(0)\n",
        "\n",
        "wellFluid.setMolarComposition([0.08, 3.56, 87.36, 4.02, 1.54, 0.2, 0.42, 0.15, 0.2, 1.24, 1.34, 1.33, 1.19, 1.15, 1.69, 1.5, 1.03])\n",
        "\n",
        "wellStream = stream(wellFluid)\n",
        "wellStream.setName(\"dry well stream\")\n",
        "wellStream.setFlowRate(inputdata['feedFlowRateWell'], \"MSm3/day\")\n",
        "wellStream.setTemperature(inputdata['wellTemperature'], \"C\")\n",
        "wellStream.setPressure(inputdata['wellPressure'], \"bara\")\n",
        "\n",
        "saturatedFeedGas = saturator(wellStream)\n",
        "saturatedFeedGas.setName(\"water saturator\")\n",
        "\n",
        "waterSaturatedFeedGas = stream(saturatedFeedGas.getOutStream())\n",
        "waterSaturatedFeedGas.setName(\"water saturated feed gas\")\n",
        "\n",
        "feedTPsetter = heater(waterSaturatedFeedGas)\n",
        "feedTPsetter.setName('inletTP')\n",
        "feedTPsetter.setOutPressure(inputdata['topsidePressure'], \"bara\")\n",
        "feedTPsetter.setOutTemperature(inputdata['topsideTemperature'], \"C\")\n",
        "\n",
        "chokeValve = valve(feedTPsetter.getOutStream())\n",
        "chokeValve.setOutletPressure(inputdata['firstStagePressure'], 'bara')\n",
        "\n",
        "feedToOffshoreProcess = stream(chokeValve.getOutStream())\n",
        "feedToOffshoreProcess.setName(\"feed to offshore\")\n",
        "\n",
        "firstStageSeparator = separator3phase(feedToOffshoreProcess)\n",
        "firstStageSeparator.setName(\"1st stage separator\")\n",
        "\n",
        "oilHeaterFromFirstStage = heater(firstStageSeparator.getOilOutStream())\n",
        "oilHeaterFromFirstStage.setName(\"oil heater second stage\")\n",
        "oilHeaterFromFirstStage.setOutTemperature(inputdata['temperatureOilHeater'],'C')\n",
        "\n",
        "oilThrotValve = valve(oilHeaterFromFirstStage.getOutStream())\n",
        "oilThrotValve.setName(\"valve oil from first stage\")\n",
        "oilThrotValve.setOutletPressure(inputdata['secondStagePressure'])\n",
        "\n",
        "secondStageSeparator = separator3phase(oilThrotValve.getOutStream())\n",
        "secondStageSeparator.setName(\"2nd stage separator\")\n",
        "\n",
        "oilThrotValve2 = valve(secondStageSeparator.getOilOutStream())\n",
        "oilThrotValve2.setName(\"valve oil from second stage\")\n",
        "oilThrotValve2.setOutletPressure(inputdata['thirdStagePressure'])\n",
        "\n",
        "thirdStageSeparator = separator3phase(oilThrotValve2.getOutStream())\n",
        "thirdStageSeparator.setName(\"3rd stage separator\")\n",
        "\n",
        "oilThirdStageToSep =  wellStream.clone()\n",
        "oilThirdStageToSep.setName(\"resyc oil\")\n",
        "thirdStageSeparator.addStream(oilThirdStageToSep)\n",
        "\n",
        "stableOil = stream(thirdStageSeparator.getOilOutStream())\n",
        "stableOil.setName(\"stable oil\")\n",
        "\n",
        "stableOilPump = pump(stableOil,15.0,\"stable oil pump\")\n",
        "\n",
        "firstStageCooler = cooler(thirdStageSeparator.getGasOutStream())\n",
        "firstStageCooler.setName(\"1st stage cooler\")\n",
        "firstStageCooler.setOutTemperature(inputdata['firstStageSuctionCoolerTemperature'],'C')\n",
        "\n",
        "firstStageScrubber = separator(firstStageCooler.getOutStream())\n",
        "firstStageScrubber.setName(\"1st stage scrubber\")\n",
        "\n",
        "firstStageCompressor = compressor(firstStageScrubber.getGasOutStream())\n",
        "firstStageCompressor.setName(\"1st stage compressor\")\n",
        "firstStageCompressor.setOutletPressure(inputdata['secondStagePressure'])\n",
        "firstStageCompressor.setIsentropicEfficiency(0.75)\n",
        "\n",
        "secondStageCooler = cooler(firstStageCompressor.getOutStream())\n",
        "secondStageCooler.setName(\"2nd stage cooler\")\n",
        "secondStageCooler.setOutTemperature(inputdata['secondStageSuctionCoolerTemperature'],'C')\n",
        "\n",
        "secondStageScrubber = separator(secondStageCooler.getOutStream())\n",
        "secondStageScrubber.setName(\"2nd stage scrubber\")\n",
        "\n",
        "secondStageCompressor = compressor(secondStageScrubber.getGasOutStream())\n",
        "secondStageCompressor.setName(\"2nd stage compressor\")\n",
        "secondStageCompressor.setOutletPressure(inputdata['firstStagePressure'])\n",
        "secondStageCompressor.setIsentropicEfficiency(0.75)\n",
        "\n",
        "richGasMixer = mixer(\"fourth Stage mixer\")\n",
        "richGasMixer.addStream(secondStageCompressor.getOutStream())\n",
        "richGasMixer.addStream(firstStageSeparator.getGasOutStream())\n",
        "\n",
        "dewPointControlCooler = cooler(richGasMixer.getOutStream())\n",
        "dewPointControlCooler.setName(\"dew point cooler\")\n",
        "dewPointControlCooler.setOutTemperature(inputdata['thirdStageSuctionCoolerTemperature'],'C')\n",
        "\n",
        "dewPointScrubber = separator(dewPointControlCooler.getOutStream())\n",
        "dewPointScrubber.setName(\"dew point scrubber\")\n",
        "\n",
        "lpLiqmixer = mixer(\"LP liq gas mixer\");\n",
        "lpLiqmixer.addStream(firstStageScrubber.getLiquidOutStream());\n",
        "lpLiqmixer.addStream(secondStageScrubber.getLiquidOutStream());\n",
        "lpLiqmixer.addStream(dewPointScrubber.getLiquidOutStream());\n",
        "\n",
        "lpResycle = recycle2(\"LP liq resycle\")\n",
        "lpResycle.addStream(lpLiqmixer.getOutStream())\n",
        "lpResycle.setOutletStream(oilThirdStageToSep)\n",
        "\n",
        "exportCompressor1 = compressor(dewPointScrubber.getGasOutStream())\n",
        "exportCompressor1.setName(\"export 1st stage\")\n",
        "exportCompressor1.setOutletPressure(140.0)\n",
        "exportCompressor1.setIsentropicEfficiency(0.75)\n",
        "\n",
        "exportInterstageCooler = cooler(exportCompressor1.getOutStream())\n",
        "exportInterstageCooler.setName(\"interstage stage cooler\")\n",
        "exportInterstageCooler.setOutTemperature(inputdata['firstStageExportCoolerTemperature'],'C')\n",
        "\n",
        "exportCompressor2= compressor(exportInterstageCooler.getOutStream())\n",
        "exportCompressor2.setName(\"export 2nd stage\")\n",
        "exportCompressor2.setOutletPressure(200.0)\n",
        "exportCompressor2.setIsentropicEfficiency(0.75)\n",
        "\n",
        "exportCooler = cooler(exportCompressor1.getOutStream())\n",
        "exportCooler.setName(\"export cooler\")\n",
        "exportCooler.setOutTemperature(inputdata['secondStageExportCoolerTemperature'],'C')\n",
        "\n",
        "exportGas = stream(exportCooler.getOutStream())\n",
        "exportGas.setName(\"export gas\")\n",
        "\n",
        "oilprocess = getProcess()\n"
      ],
      "execution_count": 3,
      "outputs": []
    },
    {
      "cell_type": "markdown",
      "metadata": {
        "id": "hWT8cRZ01PYY"
      },
      "source": [
        "# Start simulation"
      ]
    },
    {
      "cell_type": "code",
      "metadata": {
        "id": "U3JtdMaFewJc"
      },
      "source": [
        "oilprocess.run()"
      ],
      "execution_count": 4,
      "outputs": []
    },
    {
      "cell_type": "code",
      "metadata": {
        "colab": {
          "base_uri": "https://localhost:8080/"
        },
        "id": "MxwnkO8VfnPT",
        "outputId": "803115a9-08fa-4533-94d7-4bfadc593d66"
      },
      "source": [
        "TVP = stableOil.TVP(20.0, 'C')\n",
        "cricondenbar = exportGas.CCB('bara')\n",
        "powerComp1 = oilprocess.getUnit(\"1st stage compressor\").getPower()/1.0e3\n",
        "powerComp2 = oilprocess.getUnit(\"2nd stage compressor\").getPower()/1.0e3\n",
        "powerExpComp1 = oilprocess.getUnit(\"export 1st stage\").getPower()/1.0e3\n",
        "powerExpComp2 = oilprocess.getUnit(\"export 2nd stage\").getPower()/1.0e3\n",
        "\n",
        "print('TVP [bara] ', TVP)\n",
        "print('cricondenbar [bara] ', cricondenbar)\n",
        "print('recomp power 1 [kW] ', powerComp1)\n",
        "print('recomp power 2 [kW] ', powerComp2)\n",
        "print('exp power 1 [kW] ', powerExpComp1)\n",
        "print('exp power 2 [kW] ', powerExpComp2)"
      ],
      "execution_count": 5,
      "outputs": [
        {
          "output_type": "stream",
          "name": "stdout",
          "text": [
            "TVP [bara]  1.0021664087084787\n",
            "cricondenbar [bara]  88.46834793531004\n",
            "recomp power 1 [kW]  144.1193649852365\n",
            "recomp power 2 [kW]  185.2044110383442\n",
            "exp power 1 [kW]  7574.093190900219\n",
            "exp power 2 [kW]  3916.63781092697\n"
          ]
        }
      ]
    },
    {
      "cell_type": "markdown",
      "metadata": {
        "id": "p7MIcF__exhD"
      },
      "source": [
        "#Set new parameters and run new calculation\n",
        "\n",
        "New input data can be read from online or from a history data set"
      ]
    },
    {
      "cell_type": "code",
      "metadata": {
        "id": "0Br5gYj4e0Zz"
      },
      "source": [
        "\n",
        "inputdata = {\n",
        "  'feedFlowRateWell': 11.1,\n",
        "  'wellPressure': 180.0,\n",
        "  'wellTemperature':100.0,\n",
        "  'topsidePressure': 91.0,\n",
        "  'topsideTemperature': 5.0,\n",
        "  'firstStagePressure': 75.0, \n",
        "  'temperatureOilHeater' : 75.9,\n",
        "  'secondStagePressure': 8.6,\n",
        "  'thirdStagePressure': 1.9,\n",
        "  'firstStageSuctionCoolerTemperature': 25.3, \n",
        "  'secondStageSuctionCoolerTemperature': 24.5, \n",
        "  'thirdStageSuctionCoolerTemperature':25.0,\n",
        "  'firstStageExportCoolerTemperature': 25.3, \n",
        "  'secondStageExportCoolerTemperature': 24.5\n",
        "}\n",
        "\n",
        "wellStream.setFlowRate(inputdata['feedFlowRateWell'], \"MSm3/day\")\n",
        "wellStream.setTemperature(inputdata['wellTemperature'], \"C\")\n",
        "wellStream.setPressure(inputdata['wellPressure'], \"bara\")\n",
        "feedTPsetter.setOutPressure(inputdata['topsidePressure'], \"bara\")\n",
        "feedTPsetter.setOutTemperature(inputdata['topsideTemperature'], \"C\")\n",
        "chokeValve.setOutletPressure(inputdata['firstStagePressure'], 'bara')\n",
        "oilHeaterFromFirstStage.setOutTemperature(inputdata['temperatureOilHeater'],'C')\n",
        "oilThrotValve.setOutletPressure(inputdata['secondStagePressure'])\n",
        "oilThrotValve2.setOutletPressure(inputdata['thirdStagePressure'])\n",
        "firstStageCooler.setOutTemperature(inputdata['firstStageSuctionCoolerTemperature'],'C')\n",
        "firstStageCompressor.setOutletPressure(inputdata['secondStagePressure'])\n",
        "secondStageCooler.setOutTemperature(inputdata['secondStageSuctionCoolerTemperature'],'C')\n",
        "secondStageCompressor.setOutletPressure(inputdata['firstStagePressure'])\n",
        "dewPointControlCooler.setOutTemperature(inputdata['thirdStageSuctionCoolerTemperature'],'C')\n",
        "exportInterstageCooler.setOutTemperature(inputdata['firstStageExportCoolerTemperature'],'C')\n",
        "exportCooler.setOutTemperature(inputdata['secondStageExportCoolerTemperature'],'C')"
      ],
      "execution_count": 7,
      "outputs": []
    },
    {
      "cell_type": "code",
      "metadata": {
        "id": "mcltQyzifjr8"
      },
      "source": [
        "oilprocess.run()"
      ],
      "execution_count": 8,
      "outputs": []
    },
    {
      "cell_type": "code",
      "metadata": {
        "colab": {
          "base_uri": "https://localhost:8080/"
        },
        "id": "VsBgqPjNfopj",
        "outputId": "e05b0414-35d5-473b-ded6-df90e08c0aa7"
      },
      "source": [
        "TVP = stableOil.TVP(20.0, 'C')\n",
        "cricondenbar = exportGas.CCB('bara')\n",
        "powerComp1 = oilprocess.getUnit(\"1st stage compressor\").getPower()/1.0e3\n",
        "powerComp2 = oilprocess.getUnit(\"2nd stage compressor\").getPower()/1.0e3\n",
        "powerExpComp1 = oilprocess.getUnit(\"export 1st stage\").getPower()/1.0e3\n",
        "powerExpComp2 = oilprocess.getUnit(\"export 2nd stage\").getPower()/1.0e3\n",
        "\n",
        "print('TVP [bara] ', TVP)\n",
        "print('cricondenbar [bara] ', cricondenbar)\n",
        "print('recomp power 1 [kW] ', powerComp1)\n",
        "print('recomp power 2 [kW] ', powerComp2)\n",
        "print('exp power 1 [kW] ', powerExpComp1)\n",
        "print('exp power 2 [kW] ', powerExpComp2)"
      ],
      "execution_count": 9,
      "outputs": [
        {
          "output_type": "stream",
          "name": "stdout",
          "text": [
            "TVP [bara]  1.0023697627523414\n",
            "cricondenbar [bara]  87.92510683416253\n",
            "recomp power 1 [kW]  160.0088316766515\n",
            "recomp power 2 [kW]  205.637281998233\n",
            "exp power 1 [kW]  8404.711415611837\n",
            "exp power 2 [kW]  4346.2490884992685\n"
          ]
        }
      ]
    },
    {
      "cell_type": "markdown",
      "metadata": {
        "id": "VmpYV7eggJrD"
      },
      "source": [
        "#Live calculations\n",
        "\n",
        "Read data from a process using TagReader: https://github.com/equinor/tagreader-python\n",
        "\n",
        "Update input data, and run a simulations."
      ]
    }
  ]
}