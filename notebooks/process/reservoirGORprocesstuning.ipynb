{
  "nbformat": 4,
  "nbformat_minor": 0,
  "metadata": {
    "colab": {
      "provenance": [],
      "authorship_tag": "ABX9TyMx2xVfqq6KEZlOnopNUWug",
      "include_colab_link": true
    },
    "kernelspec": {
      "name": "python3",
      "display_name": "Python 3"
    },
    "language_info": {
      "name": "python"
    }
  },
  "cells": [
    {
      "cell_type": "markdown",
      "metadata": {
        "id": "view-in-github",
        "colab_type": "text"
      },
      "source": [
        "<a href=\"https://colab.research.google.com/github/EvenSol/NeqSim-Colab/blob/master/notebooks/process/reservoirGORprocesstuning.ipynb\" target=\"_parent\"><img src=\"https://colab.research.google.com/assets/colab-badge.svg\" alt=\"Open In Colab\"/></a>"
      ]
    },
    {
      "cell_type": "code",
      "execution_count": null,
      "metadata": {
        "id": "7C1Pk8A1-mBI"
      },
      "outputs": [],
      "source": [
        "%%capture\n",
        "!pip install neqsim"
      ]
    },
    {
      "cell_type": "markdown",
      "source": [
        "#Oil and Gas Reference Process Using NeqSim"
      ],
      "metadata": {
        "id": "fco1--wV-qhq"
      }
    },
    {
      "cell_type": "markdown",
      "source": [
        "#1. Create the fluid\n",
        "In this case we establish a initial reservoir fluid. THis fluid will typically be created from Eclipse fluid description files (E300). For simplicity we estrablish a simple fluid in this workbook."
      ],
      "metadata": {
        "id": "o8wdOXSp_FJp"
      }
    },
    {
      "cell_type": "code",
      "source": [
        "import pandas as pd\n",
        "from neqsim.thermo import fluid_df,TPflash,printFrame\n",
        "# Read gas-oil process from file\n",
        "\n",
        "# Uncomment to create alternative well stream\n",
        "wellStreamComposition = {'ComponentName':  [\"nitrogen\", \"CO2\", \"methane\", \"ethane\", \"propane\", \"i-butane\", \"n-butane\", \"i-pentane\", \"n-pentane\", \"n-hexane\", \"C7\", \"C8\", \"C9\", \"C10\", \"C11\", \"C12\", \"C13\", \"C14\", \"C15\", \"C16\", \"C17\", \"C18\", \"C19\", \"C20\"],\n",
        "        'MolarComposition[-]':  [0.53, 3.3, 72.98, 7.68, 4.1, 0.7, 1.42, 0.54, 0.67, 0.85, 1.33, 1.33, 0.78, 0.61, 0.42, 0.33, 0.42, 0.24, 0.3, 0.17, 0.21, 0.15, 0.15, 0.8],\n",
        "        'MolarMass[kg/mol]': [None,None, None,None,None,None,None,None,None,None,0.0913, 0.1041, 0.1188, 0.136, 0.150, 0.164, 0.179, 0.188, 0.204, 0.216, 0.236, 0.253, 0.27, 0.391],\n",
        "        'RelativeDensity[-]': [None,None, None,None,None,None,None,None,None,None, 0.746, 0.768, 0.79, 0.787, 0.793, 0.804, 0.817, 0.83, 0.835, 0.843, 0.837, 0.84, 0.85, 0.877]\n",
        "  }\n",
        "\n",
        "wellStreamCompositiondf = pd.DataFrame(wellStreamComposition)\n",
        "wellStream = fluid_df(wellStreamCompositiondf)\n",
        "wellStream.setMixingRule('classic')\n",
        "\n",
        "wellStream.setTemperature(15.0, 'C')\n",
        "wellStream.setPressure(1.0, 'atm')\n",
        "TPflash(wellStream)\n",
        "\n",
        "gor_one_Stage_process = wellStream.getPhase('gas').getFlowRate('Sm3/hr')/(wellStream.getPhase('oil').getFlowRate('m3/hr'))\n",
        "print('GOR one stage flash ', gor_one_Stage_process)\n",
        "printFrame(wellStream)\n"
      ],
      "metadata": {
        "colab": {
          "base_uri": "https://localhost:8080/"
        },
        "id": "LGN2Dkwd-3Hn",
        "outputId": "8871daa5-5175-4a6e-efa4-978b37e2866b"
      },
      "execution_count": null,
      "outputs": [
        {
          "output_type": "stream",
          "name": "stdout",
          "text": [
            "GOR one stage flash  1489.182661194047\n",
            "| 0                    | 1          | 2           | 3           | 4   | 5   | 6               |\n",
            "|:---------------------|:-----------|:------------|:------------|:----|:----|:----------------|\n",
            "|                      | total      | GAS         | OIL         |     |     |                 |\n",
            "| nitrogen             | 5.29947E-3 | 5.71188E-3  | 7.34389E-6  |     |     | [mole fraction] |\n",
            "| CO2                  | 3.29967E-2 | 3.55226E-2  | 5.84197E-4  |     |     | [mole fraction] |\n",
            "| methane              | 7.29727E-1 | 7.86281E-1  | 4.01184E-3  |     |     | [mole fraction] |\n",
            "| ethane               | 7.67923E-2 | 8.25468E-2  | 2.94875E-3  |     |     | [mole fraction] |\n",
            "| propane              | 4.09959E-2 | 4.37039E-2  | 6.24656E-3  |     |     | [mole fraction] |\n",
            "| i-butane             | 6.9993E-3  | 7.33427E-3  | 2.70091E-3  |     |     | [mole fraction] |\n",
            "| n-butane             | 1.41986E-2 | 1.46562E-2  | 8.32679E-3  |     |     | [mole fraction] |\n",
            "| i-pentane            | 5.39946E-3 | 5.20032E-3  | 7.95493E-3  |     |     | [mole fraction] |\n",
            "| n-pentane            | 6.69933E-3 | 6.19787E-3  | 1.31342E-2  |     |     | [mole fraction] |\n",
            "| n-hexane             | 8.49915E-3 | 5.74493E-3  | 4.38421E-2  |     |     | [mole fraction] |\n",
            "| C7_PC                | 1.32987E-2 | 4.62554E-3  | 1.24595E-1  |     |     | [mole fraction] |\n",
            "| C8_PC                | 1.32987E-2 | 1.97313E-3  | 1.58631E-1  |     |     | [mole fraction] |\n",
            "| C9_PC                | 7.79922E-3 | 3.84108E-4  | 1.02952E-1  |     |     | [mole fraction] |\n",
            "| C10_PC               | 6.09939E-3 | 8.68123E-5  | 8.32546E-2  |     |     | [mole fraction] |\n",
            "| C11_PC               | 4.19958E-3 | 2.15114E-5  | 5.78138E-2  |     |     | [mole fraction] |\n",
            "| C12_PC               | 3.29967E-3 | 5.94897E-6  | 4.55657E-2  |     |     | [mole fraction] |\n",
            "| C13_PC               | 4.19958E-3 | 2.44134E-6  | 5.80585E-2  |     |     | [mole fraction] |\n",
            "| C14_PC               | 2.39976E-3 | 6.82715E-7  | 3.31854E-2  |     |     | [mole fraction] |\n",
            "| C15_PC               | 2.9997E-3  | 2.64923E-7  | 4.14894E-2  |     |     | [mole fraction] |\n",
            "| C16_PC               | 1.69983E-3 | 6.0449E-8   | 2.35118E-2  |     |     | [mole fraction] |\n",
            "| C17_PC               | 2.09979E-3 | 1.86139E-8  | 2.90447E-2  |     |     | [mole fraction] |\n",
            "| C18_PC               | 1.49985E-3 | 3.82722E-9  | 2.07463E-2  |     |     | [mole fraction] |\n",
            "| C19_PC               | 1.49985E-3 | 1.03024E-9  | 2.07464E-2  |     |     | [mole fraction] |\n",
            "| C20_PC               | 7.9992E-3  | 6.54253E-13 | 1.10647E-1  |     |     | [mole fraction] |\n",
            "|                      |            |             |             |     |     |                 |\n",
            "| Density              |            | 9.35295E-1  | 8.10434E2   |     |     | kg/m3           |\n",
            "| Phase Fraction       |            | 9.27705E-1  | 7.22946E-2  |     |     | [mole fraction] |\n",
            "| Molar Mass           | 3.23774E-2 | 2.20327E-2  | 1.65124E-1  |     |     | kg/mol          |\n",
            "| Z factor             |            | 9.96282E-1  | 8.61701E-3  |     |     | [-]             |\n",
            "| Heat Capacity (Cp)   |            | 1.90921E0   | 1.9903E0    |     |     | kJ/kgK          |\n",
            "| Heat Capacity (Cv)   |            | 1.52531E0   | 1.82966E0   |     |     | kJ/kgK          |\n",
            "| Speed of Sound       |            | 3.6758E2    | 1.28542E3   |     |     | m/sec           |\n",
            "| Enthalpy             | -1.13087E5 | 2.68726E4   | -3.52729E5  |     |     | J/kg            |\n",
            "| Entropy              | 4.18828E1  | 4.39769E2   | -6.39387E2  |     |     | J/kgK           |\n",
            "| JT coefficient       |            | 6.89989E-1  | -5.74367E-2 |     |     | C/bar           |\n",
            "|                      |            |             |             |     |     |                 |\n",
            "| Viscosity            |            | 1.0671E-5   | 2.36417E-3  |     |     | kg/msec         |\n",
            "| Thermal Conductivity |            | 2.83968E-2  | 1.23075E-1  |     |     | W/mK            |\n",
            "| Surface Tension      |            | 2.27714E-2  | 2.27714E-2  |     |     | [N/m]           |\n",
            "|                      |            |             |             |     |     |                 |\n",
            "|                      |            |             |             |     |     |                 |\n",
            "|                      |            |             |             |     |     |                 |\n",
            "| Pressure             |            | 1.01325     | 1.01325     |     |     | bara            |\n",
            "| Temperature          |            | 15.0        | 15.0        |     |     | C               |\n",
            "|                      |            |             |             |     |     |                 |\n",
            "| Model                |            | SRK-EOS     | SRK-EOS     |     |     | -               |\n",
            "| Mixing Rule          |            | classic     | classic     |     |     | -               |\n",
            "|                      |            |             |             |     |     |                 |\n",
            "| Stream               |            |             |             |     |     | -               |\n",
            "|                      |            |             |             |     |     |                 |\n",
            "|                      |            |             |             |     |     |                 |\n",
            "|                      |            |             |             |     |     |                 |\n",
            "|                      |            |             |             |     |     |                 |\n"
          ]
        }
      ]
    },
    {
      "cell_type": "markdown",
      "source": [
        "# Reference process\n",
        "In this exmaple we establish a three stage separation process for reference. Such a process can typically be used in as a basis for reservoir simulators when reporting gas and oil production. We need to simulate it to get the feed composition corresponding to a given GOR from the reservoir simulator."
      ],
      "metadata": {
        "id": "EsP5K5yNA2Z2"
      }
    },
    {
      "cell_type": "code",
      "source": [
        "from neqsim.process import recycle2, compressor, cooler, splitter, separator3phase, getProcess, clearProcess, compsplitter, mixer, heater, stream, pump, separator, runProcess, stream, saturator, valve, filters, heatExchanger, simpleTEGAbsorber,distillationColumn, waterStripperColumn, recycle2, setpoint, calculator\n",
        "\n",
        "first_stage_pressure = 70.0\n",
        "first_stage_temperature = 55.0\n",
        "\n",
        "second_stage_pressure = 15.0\n",
        "second_stage_temperature = 45.0\n",
        "\n",
        "third_stage_pressure = 5.0\n",
        "third_stage_temperature = 45.0\n",
        "\n",
        "clearProcess()\n",
        "\n",
        "feedToOffshoreProcess = stream(wellStream)\n",
        "feedToOffshoreProcess.setName('feed to process')\n",
        "feedToOffshoreProcess.setFlowRate(1000.0, 'kg/hr')\n",
        "\n",
        "gasres= feedToOffshoreProcess.clone()\n",
        "gasres.setFlowRate(0.001,'kg/hr')\n",
        "\n",
        "oilres= feedToOffshoreProcess.clone()\n",
        "oilres.setFlowRate(0.001,'kg/hr')\n",
        "\n",
        "feedMixer = mixer(\"feed mixer\")\n",
        "feedMixer.addStream(feedToOffshoreProcess)\n",
        "feedMixer.addStream(gasres)\n",
        "feedMixer.addStream(oilres)\n",
        "\n",
        "feedHeater = heater(feedMixer.getOutletStream())\n",
        "feedHeater.setName(\"feed heater\")\n",
        "feedHeater.setOutPressure(first_stage_pressure, 'bara')\n",
        "feedHeater.setOutTemperature(first_stage_temperature, 'C')\n",
        "\n",
        "firstStageSeparator = separator(feedHeater.getOutStream())\n",
        "firstStageSeparator.setName(\"1st stage separator\")\n",
        "firstStageSeparator.addStream(gasres)\n",
        "\n",
        "oilHeaterFromFirstStage = heater(firstStageSeparator.getLiquidOutStream())\n",
        "oilHeaterFromFirstStage.setName(\"1st stage heater\")\n",
        "oilHeaterFromFirstStage.setOutPressure(second_stage_pressure, 'bara')\n",
        "oilHeaterFromFirstStage.setOutTemperature(second_stage_temperature, 'C')\n",
        "\n",
        "secondStageSeparator = separator(oilHeaterFromFirstStage.getOutStream())\n",
        "secondStageSeparator.setName(\"2nd stage separator\")\n",
        "\n",
        "oilHeaterFrom_secondstage = heater(secondStageSeparator.getLiquidOutStream())\n",
        "oilHeaterFrom_secondstage.setName(\"2nd stage heater\")\n",
        "oilHeaterFrom_secondstage.setOutPressure(third_stage_pressure, 'bara')\n",
        "oilHeaterFrom_secondstage.setOutTemperature(third_stage_temperature, 'C')\n",
        "\n",
        "thirdStageSeparator = separator(oilHeaterFrom_secondstage.getOutStream())\n",
        "thirdStageSeparator.setName(\"3rd stage separator\")\n",
        "\n",
        "oilHeaterFrom_thirdstage = heater(thirdStageSeparator.getLiquidOutStream())\n",
        "oilHeaterFrom_thirdstage.setName(\"3rd stage heater\")\n",
        "oilHeaterFrom_thirdstage.setOutPressure(0.0, 'barg')\n",
        "oilHeaterFrom_thirdstage.setOutTemperature(15.0, 'C')\n",
        "\n",
        "standardSeparator = separator(oilHeaterFrom_thirdstage.getOutStream())\n",
        "standardSeparator.setName(\"standard stage separator\")\n",
        "\n",
        "gasMixer = mixer(\"gas mixer\")\n",
        "gasMixer.addStream(firstStageSeparator.getGasOutStream())\n",
        "gasMixer.addStream(secondStageSeparator.getGasOutStream())\n",
        "gasMixer.addStream(thirdStageSeparator.getGasOutStream())\n",
        "gasMixer.addStream(standardSeparator.getGasOutStream())\n",
        "\n",
        "\n",
        "gas_split = splitter(gasMixer.getOutletStream())\n",
        "gas_split.setName(\"gas splitter\")\n",
        "gas_split.setFlowRates([-1, 0.001], 'kg/hr')\n",
        "\n",
        "oil_split = splitter(standardSeparator.getLiquidOutStream())\n",
        "oil_split.setName(\"oil splitter\")\n",
        "oil_split.setFlowRates([-1, 0.001],'kg/hr')\n",
        "\n",
        "total_stream = mixer('total mixer')\n",
        "total_stream.addStream(standardSeparator.getLiquidOutStream())\n",
        "total_stream.addStream(gasMixer.getOutStream())\n",
        "\n",
        "oil_recylce_heater = heater(oil_split.getSplitStream(1))\n",
        "oil_recylce_heater.setName(\"oil split heater\")\n",
        "oil_recylce_heater.setOutPressure(first_stage_pressure, 'bara')\n",
        "oil_recylce_heater.setOutTemperature(first_stage_temperature, 'C')\n",
        "\n",
        "gas_recylce_heater = heater(gas_split.getSplitStream(1))\n",
        "gas_recylce_heater.setName(\"gas split heater\")\n",
        "gas_recylce_heater.setOutPressure(first_stage_pressure, 'bara')\n",
        "gas_recylce_heater.setOutTemperature(first_stage_temperature, 'C')\n",
        "\n",
        "gasresycle = recycle2()\n",
        "gasresycle.addStream(gas_recylce_heater.getOutStream())\n",
        "gasresycle.setName(\"gas recycle\")\n",
        "gasresycle.setOutletStream(gasres)\n",
        "gasresycle.setTolerance(1e-10)\n",
        "\n",
        "oilresycle = recycle2()\n",
        "oilresycle.addStream(oil_recylce_heater.getOutStream())\n",
        "oilresycle.setName(\"gas recycle\")\n",
        "oilresycle.setOutletStream(oilres)\n",
        "oilresycle.setTolerance(1e-10)\n",
        "\n",
        "runProcess()\n",
        "\n",
        "def calc_process(rate):\n",
        "  if(rate>=0):\n",
        "      gas_split.setFlowRates([-1, rate], 'kg/hr')\n",
        "      oil_split.setFlowRates([-1, 0.001],'kg/hr')\n",
        "  else:\n",
        "      gas_split.setFlowRates([-1, 0.001], 'kg/hr')\n",
        "      oil_split.setFlowRates([-1, abs(rate)],'kg/hr')\n",
        "  runProcess()\n",
        "  gor_process = gasMixer.getOutletStream().getFluid().getPhase('gas').getFlowRate('Sm3/hr')/(standardSeparator.getLiquidOutStream().getFluid().getPhase('oil').getFlowRate('m3/hr'))\n",
        "  return gor_process-target_gor"
      ],
      "metadata": {
        "id": "q0sK9_zPA5iQ"
      },
      "execution_count": null,
      "outputs": []
    },
    {
      "cell_type": "markdown",
      "source": [
        "# Tuning the feed fluid composition to a given reference process GOR\n",
        "I"
      ],
      "metadata": {
        "id": "VmqZ7wYah6RF"
      }
    },
    {
      "cell_type": "code",
      "source": [
        "import numpy as np\n",
        "import scipy\n",
        "from scipy.optimize import fsolve\n",
        "\n",
        "target_gor = 1489.0\n",
        "minimum=fsolve(calc_process, 30)\n",
        "print('The minimum:',minimum)"
      ],
      "metadata": {
        "colab": {
          "base_uri": "https://localhost:8080/"
        },
        "id": "rrMb0eGIIpR0",
        "outputId": "d6f82ec0-07cd-4088-b876-d7375c4e0d59"
      },
      "execution_count": null,
      "outputs": [
        {
          "output_type": "stream",
          "name": "stderr",
          "text": [
            "<ipython-input-15-037127dcedb5>:107: DeprecationWarning: Conversion of an array with ndim > 0 to a scalar is deprecated, and will error in future. Ensure you extract a single element from your array before performing this operation. (Deprecated NumPy 1.25.)\n",
            "  gas_split.setFlowRates([-1, rate], 'kg/hr')\n"
          ]
        },
        {
          "output_type": "stream",
          "name": "stdout",
          "text": [
            "The minimum: [57.4147442]\n"
          ]
        }
      ]
    },
    {
      "cell_type": "markdown",
      "source": [
        "# Show optimized stream\n"
      ],
      "metadata": {
        "id": "D6VTCaUNMqXP"
      }
    },
    {
      "cell_type": "code",
      "source": [
        "print('gor reference process ', target_gor)\n",
        "printFrame(total_stream.getFluid())\n",
        "fluid_comp = list(total_stream.getFluid().getMolarComposition())\n",
        "fluid_comp\n",
        "\n",
        "wellStream = total_stream.getFluid().clone()\n",
        "wellStream.setTemperature(15.0, 'C')\n",
        "wellStream.setPressure(1.0, 'atm')\n",
        "TPflash(wellStream)\n",
        "gor_one_Stage_process = wellStream.getPhase('gas').getFlowRate('Sm3/hr')/(wellStream.getPhase('oil').getFlowRate('m3/hr'))\n",
        "print('GOR one stage flash ', gor_one_Stage_process)"
      ],
      "metadata": {
        "colab": {
          "base_uri": "https://localhost:8080/"
        },
        "id": "U7xsVe8QMvHT",
        "outputId": "ff67ccd1-0543-409d-9b6c-ca5f04a3b0f8"
      },
      "execution_count": null,
      "outputs": [
        {
          "output_type": "stream",
          "name": "stdout",
          "text": [
            "gor reference process  1489.0\n",
            "| 0                    | 1          | 2                  | 3                  | 4   | 5   | 6               |\n",
            "|:---------------------|:-----------|:-------------------|:-------------------|:----|:----|:----------------|\n",
            "|                      | total      | GAS                | OIL                |     |     |                 |\n",
            "| nitrogen             | 5.38437E-3 | 5.74433E-3         | 7.39032E-6         |     |     | [mole fraction] |\n",
            "| CO2                  | 3.35139E-2 | 3.57153E-2         | 6.29268E-4         |     |     | [mole fraction] |\n",
            "| methane              | 7.41405E-1 | 7.90761E-1         | 4.16497E-3         |     |     | [mole fraction] |\n",
            "| ethane               | 7.7859E-2  | 8.28564E-2         | 3.20989E-3         |     |     | [mole fraction] |\n",
            "| propane              | 4.08998E-2 | 4.31743E-2         | 6.9239E-3          |     |     | [mole fraction] |\n",
            "| i-butane             | 6.80544E-3 | 7.06149E-3         | 2.98072E-3         |     |     | [mole fraction] |\n",
            "| n-butane             | 1.36029E-2 | 1.39E-2            | 9.16484E-3         |     |     | [mole fraction] |\n",
            "| i-pentane            | 4.9973E-3  | 4.75381E-3         | 8.63428E-3         |     |     | [mole fraction] |\n",
            "| n-pentane            | 6.1356E-3  | 5.59464E-3         | 1.42162E-2         |     |     | [mole fraction] |\n",
            "| n-hexane             | 7.52253E-3 | 4.9163E-3          | 4.64529E-2         |     |     | [mole fraction] |\n",
            "| C7_PC                | 1.15332E-2 | 3.68002E-3         | 1.2884E-1          |     |     | [mole fraction] |\n",
            "| C8_PC                | 1.1418E-2  | 1.48661E-3         | 1.59768E-1         |     |     | [mole fraction] |\n",
            "| C9_PC                | 6.65665E-3 | 2.75872E-4         | 1.01969E-1         |     |     | [mole fraction] |\n",
            "| C10_PC               | 5.19019E-3 | 5.98978E-5         | 8.18237E-2         |     |     | [mole fraction] |\n",
            "| C11_PC               | 3.56902E-3 | 1.44134E-5         | 5.66657E-2         |     |     | [mole fraction] |\n",
            "| C12_PC               | 2.80221E-3 | 3.87295E-6         | 4.46022E-2         |     |     | [mole fraction] |\n",
            "| C13_PC               | 3.56498E-3 | 1.54135E-6         | 5.67936E-2         |     |     | [mole fraction] |\n",
            "| C14_PC               | 2.03682E-3 | 4.22686E-7         | 3.24554E-2         |     |     | [mole fraction] |\n",
            "| C15_PC               | 2.54568E-3 | 1.58997E-7         | 4.05692E-2         |     |     | [mole fraction] |\n",
            "| C16_PC               | 1.44247E-3 | 3.54027E-8         | 2.29887E-2         |     |     | [mole fraction] |\n",
            "| C17_PC               | 1.78179E-3 | 1.05137E-8         | 2.83971E-2         |     |     | [mole fraction] |\n",
            "| C18_PC               | 1.27269E-3 | 2.0915E-9          | 2.02833E-2         |     |     | [mole fraction] |\n",
            "| C19_PC               | 1.27267E-3 | 5.43443E-10        | 2.02832E-2         |     |     | [mole fraction] |\n",
            "| C20_PC               | 6.78755E-3 | 2.71807E-13        | 1.08176E-1         |     |     | [mole fraction] |\n",
            "|                      |            |                    |                    |     |     |                 |\n",
            "| Density              |            | 9.374E-1           | 8.1165E2           |     |     | kg/m3           |\n",
            "| Phase Fraction       |            | 9.37255E-1         | 6.27453E-2         |     |     | [mole fraction] |\n",
            "| Molar Mass           | 3.06278E-2 | 2.17378E-2         | 1.63422E-1         |     |     | kg/mol          |\n",
            "| Z factor             |            | 9.96197E-1         | 8.6496E-3          |     |     | [-]             |\n",
            "| Heat Capacity (Cp)   |            | 1.90359E0          | 1.974E0            |     |     | kJ/kgK          |\n",
            "| Heat Capacity (Cv)   |            | 1.51438E0          | 1.81388E0          |     |     | kJ/kgK          |\n",
            "| Speed of Sound       |            | 3.6793E2           | 1.30773E3          |     |     | m/sec           |\n",
            "| Enthalpy             | -1.08932E5 | 1.84559E4          | -3.62043E5         |     |     | J/kg            |\n",
            "| Entropy              | 4.49855E1  | 4.06201E2          | -6.72722E2         |     |     | J/kgK           |\n",
            "| JT coefficient       |            | 7.01998E-1         | -5.81364E-2        |     |     | C/bar           |\n",
            "|                      |            |                    |                    |     |     |                 |\n",
            "| Viscosity            |            | 1.05457E-5         | 2.45993E-3         |     |     | kg/msec         |\n",
            "| Thermal Conductivity |            | 2.80197E-2         | 1.24104E-1         |     |     | W/mK            |\n",
            "| Surface Tension      |            | 6.95603E-2         | 6.95603E-2         |     |     | [N/m]           |\n",
            "|                      |            |                    |                    |     |     |                 |\n",
            "|                      |            |                    |                    |     |     |                 |\n",
            "|                      |            |                    |                    |     |     |                 |\n",
            "| Pressure             |            | 1.01325            | 1.01325            |     |     | bara            |\n",
            "| Temperature          |            | 10.529293965654858 | 10.529293965654858 |     |     | C               |\n",
            "|                      |            |                    |                    |     |     |                 |\n",
            "| Model                |            | SRK-EOS            | SRK-EOS            |     |     | -               |\n",
            "| Mixing Rule          |            | classic            | classic            |     |     | -               |\n",
            "|                      |            |                    |                    |     |     |                 |\n",
            "| Stream               |            |                    |                    |     |     | -               |\n",
            "|                      |            |                    |                    |     |     |                 |\n",
            "|                      |            |                    |                    |     |     |                 |\n",
            "|                      |            |                    |                    |     |     |                 |\n",
            "|                      |            |                    |                    |     |     |                 |\n",
            "GOR one stage flash  1793.023594864805\n"
          ]
        }
      ]
    }
  ]
}