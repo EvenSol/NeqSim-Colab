{
 "cells": [
  {
   "cell_type": "markdown",
   "metadata": {},
   "source": [
    "# Data-Driven Control Strategies\n",
    "\n",
    "This notebook describes how NeqSim's thermodynamic predictions can be combined with plant data to enable data-driven process control.\n",
    "\n",
    "- [Control theory (Wikipedia)](https://en.wikipedia.org/wiki/Control_theory)\n",
    "- [Kalman filter (Wikipedia)](https://en.wikipedia.org/wiki/Kalman_filter)\n",
    "- [Model predictive control (Wikipedia)](https://en.wikipedia.org/wiki/Model_predictive_control)\n",
    "- [Kalman Filter video](https://www.youtube.com/watch?v=FdJc1_IBKJA)\n",
    "- [Model Predictive Control video](https://www.youtube.com/watch?v=3F6p19L-9N8)\n"
   ]
  },
  {
   "cell_type": "markdown",
   "metadata": {},
   "source": [
    "## Birth of Data-Driven Control\n",
    "\n",
    "Modern control theory emerged in the mid-20th century with the development of state-space methods and stochastic estimation. Researchers like Rudolf E. K\u00e1lm\u00e1n laid the foundation for combining models and measurements to obtain optimal control policies.\n"
   ]
  },
  {
   "cell_type": "markdown",
   "metadata": {},
   "source": [
    "## State Estimation with the Kalman Filter\n",
    "\n",
    "Given a linear system\n",
    "\n",
    "$$x_{k+1} = A x_k + B u_k + w_k$$\n",
    "$$y_k = C x_k + v_k$$\n",
    "\n",
    "the Kalman filter recursively updates the state estimate:\n",
    "\n",
    "$$\\hat{x}_{k|k-1} = A\\hat{x}_{k-1|k-1} + B u_{k-1}$$\n",
    "$$K_k = P_{k|k-1}C^T(CP_{k|k-1}C^T + R)^{-1}$$\n",
    "$$\\hat{x}_{k|k} = \\hat{x}_{k|k-1} + K_k(y_k - C\\hat{x}_{k|k-1})$$\n"
   ]
  },
  {
   "cell_type": "markdown",
   "metadata": {},
   "source": [
    "## Model Predictive Control\n",
    "\n",
    "At each time step MPC solves\n",
    "\n",
    "$$\\min_{u_0,\\dots,u_{N-1}} \\sum_{i=0}^{N-1} \\left\\|x_{k+i} - x^{ref}_{k+i}\\right\\|_Q^2 + \\|u_{k+i}\\|_R^2$$\n",
    "\n",
    "subject to process dynamics and constraints. NeqSim simulations provide predictions \\(x_{k+i}\\) that improve this optimization.\n"
   ]
  },
  {
   "cell_type": "code",
   "metadata": {},
   "source": [
    "%%capture\n",
    "!pip install neqsim matplotlib\n"
   ]
  },
  {
   "cell_type": "markdown",
   "metadata": {},
   "source": [
    "## Example: Kalman Filter with NeqSim\n",
    "\n",
    "The following example builds a simple separator process in NeqSim and applies a scalar Kalman filter to fuse model predictions with noisy measurements.\n"
   ]
  },
  {
   "cell_type": "code",
   "metadata": {},
   "source": [
    "import numpy as np\n",
    "import matplotlib.pyplot as plt\n",
    "from neqsim import jneqsim\n",
    "\n",
    "# Build a simple valve and pressure transmitter\n",
    "fluid = jneqsim.thermo.system.SystemSrkEos(298.15, 10.0)\n",
    "fluid.addComponent(\"methane\", 0.9)\n",
    "fluid.addComponent(\"ethane\", 0.1)\n",
    "fluid.addComponent(\"n-heptane\", 1.0)\n",
    "fluid.setMixingRule('classic')\n",
    "feed = jneqsim.process.equipment.stream.Stream(\"Feed\", fluid)\n",
    "feed.setFlowRate(50.0, \"kg/hr\")\n",
    "feed.setPressure(10.0, \"bara\")\n",
    "valve = jneqsim.process.equipment.valve.ThrottlingValve(\"valve\", feed)\n",
    "valve.setOutletPressure(1.0)\n",
    "valve.setCalculateSteadyState(False)\n",
    "trans = jneqsim.process.measurementdevice.PressureTransmitter(valve.getOutletStream())\n",
    "trans.setUnit(\"bar\")\n",
    "process = jneqsim.process.processmodel.ProcessSystem()\n",
    "process.add(feed); process.add(valve); process.add(trans)\n",
    "\n",
    "press_true=[]; press_est=[]; press_meas=[]\n",
    "x_hat=1.0; P=1.0; Q=0.01; R=0.05\n",
    "for k in range(20):\n",
    "    valve.setPercentValveOpening(40 + 20*np.sin(0.3*k))\n",
    "    process.run()\n",
    "    p_true = trans.getMeasuredValue()\n",
    "    y = p_true + np.random.normal(0, np.sqrt(R))\n",
    "    # Kalman update\n",
    "    P = P + Q\n",
    "    K = P/(P + R)\n",
    "    x_hat = x_hat + K*(y - x_hat)\n",
    "    P = (1-K)*P\n",
    "    press_true.append(p_true)\n",
    "    press_meas.append(y)\n",
    "    press_est.append(x_hat)\n",
    "\n",
    "plt.plot(press_true, label='True pressure')\n",
    "plt.plot(press_meas, label='Measured', alpha=0.5)\n",
    "plt.plot(press_est, label='Kalman estimate')\n",
    "plt.ylabel('Pressure [bar]')\n",
    "plt.xlabel('Step')\n",
    "plt.legend()\n",
    "plt.show()\n"
   ]
  },
  {
   "cell_type": "markdown",
   "metadata": {},
   "source": [
    "## Example: Simple MPC for Valve Position\n",
    "\n",
    "NeqSim predictions can evaluate candidate valve openings. The controller below selects an opening that keeps pressure near a target while avoiding large moves.\n"
   ]
  },
  {
   "cell_type": "code",
   "metadata": {},
   "source": [
    "import numpy as np\n",
    "target=2.0\n",
    "current=valve.getPercentValveOpening()\n",
    "candidates=np.linspace(20,80,7)\n",
    "best_u=current\n",
    "best_cost=1e9\n",
    "for u in candidates:\n",
    "    valve.setPercentValveOpening(float(u))\n",
    "    process.run()\n",
    "    p_pred=trans.getMeasuredValue()\n",
    "    cost=(p_pred-target)**2 + 0.01*(u-current)**2\n",
    "    if cost<best_cost:\n",
    "        best_cost=cost\n",
    "        best_u=u\n",
    "valve.setPercentValveOpening(float(best_u))\n",
    "process.run()\n",
    "print(f'Chosen valve opening {best_u:.1f}% giving pressure {trans.getMeasuredValue():.2f} bar')\n"
   ]
  }
 ],
 "metadata": {
  "kernelspec": {
   "display_name": "Python 3",
   "language": "python",
   "name": "python3"
  },
  "language_info": {
   "name": "python"
  }
 },
 "nbformat": 4,
 "nbformat_minor": 5
}
