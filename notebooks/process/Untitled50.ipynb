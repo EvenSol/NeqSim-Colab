{
  "nbformat": 4,
  "nbformat_minor": 0,
  "metadata": {
    "colab": {
      "provenance": [],
      "authorship_tag": "ABX9TyOntQebEHr00ZWXHAP9nQWC",
      "include_colab_link": true
    },
    "kernelspec": {
      "name": "python3",
      "display_name": "Python 3"
    },
    "language_info": {
      "name": "python"
    }
  },
  "cells": [
    {
      "cell_type": "markdown",
      "metadata": {
        "id": "view-in-github",
        "colab_type": "text"
      },
      "source": [
        "<a href=\"https://colab.research.google.com/github/EvenSol/NeqSim-Colab/blob/master/Untitled50.ipynb\" target=\"_parent\"><img src=\"https://colab.research.google.com/assets/colab-badge.svg\" alt=\"Open In Colab\"/></a>"
      ]
    },
    {
      "cell_type": "code",
      "execution_count": 1,
      "metadata": {
        "colab": {
          "base_uri": "https://localhost:8080/"
        },
        "id": "jZx7ziW7_ULk",
        "outputId": "17beeafa-e6ab-4228-c04c-8614fd05d06b"
      },
      "outputs": [
        {
          "output_type": "stream",
          "name": "stdout",
          "text": [
            "Looking in indexes: https://pypi.org/simple, https://us-python.pkg.dev/colab-wheels/public/simple/\n",
            "Collecting neqsim\n",
            "  Downloading neqsim-2.4.13-py3-none-any.whl (61.0 MB)\n",
            "\u001b[2K     \u001b[90m━━━━━━━━━━━━━━━━━━━━━━━━━━━━━━━━━━━━━━━━\u001b[0m \u001b[32m61.0/61.0 MB\u001b[0m \u001b[31m8.4 MB/s\u001b[0m eta \u001b[36m0:00:00\u001b[0m\n",
            "\u001b[?25hRequirement already satisfied: pandas in /usr/local/lib/python3.9/dist-packages (from neqsim) (1.4.4)\n",
            "Collecting jpype1\n",
            "  Downloading JPype1-1.4.1-cp39-cp39-manylinux_2_12_x86_64.manylinux2010_x86_64.whl (465 kB)\n",
            "\u001b[2K     \u001b[90m━━━━━━━━━━━━━━━━━━━━━━━━━━━━━━━━━━━━━━\u001b[0m \u001b[32m465.3/465.3 KB\u001b[0m \u001b[31m10.4 MB/s\u001b[0m eta \u001b[36m0:00:00\u001b[0m\n",
            "\u001b[?25hRequirement already satisfied: packaging in /usr/local/lib/python3.9/dist-packages (from jpype1->neqsim) (23.0)\n",
            "Requirement already satisfied: numpy>=1.18.5 in /usr/local/lib/python3.9/dist-packages (from pandas->neqsim) (1.22.4)\n",
            "Requirement already satisfied: python-dateutil>=2.8.1 in /usr/local/lib/python3.9/dist-packages (from pandas->neqsim) (2.8.2)\n",
            "Requirement already satisfied: pytz>=2020.1 in /usr/local/lib/python3.9/dist-packages (from pandas->neqsim) (2022.7.1)\n",
            "Requirement already satisfied: six>=1.5 in /usr/local/lib/python3.9/dist-packages (from python-dateutil>=2.8.1->pandas->neqsim) (1.16.0)\n",
            "Installing collected packages: jpype1, neqsim\n",
            "Successfully installed jpype1-1.4.1 neqsim-2.4.13\n"
          ]
        }
      ],
      "source": [
        "!pip install neqsim==2.5.35"
      ]
    },
    {
      "cell_type": "code",
      "source": [
        "from neqsim.thermo import fluid, phaseenvelope\n",
        "from neqsim.process import separator, heater, clearProcess, stream,  compressor, runProcess, viewProcess, getProcess, splitter, mixer, recycle2, valve, virtualstream, cooler\n",
        "from jpype.types import JDouble\n",
        "\n",
        "temperature_inlet = 35.0\n",
        "pressure_inlet = 55.0\n",
        "pressure_outlet = 100.0\n",
        "gasFlowRate = 5.0 \n",
        "\n",
        "\n",
        "fluid1 = fluid('srk')\n",
        "fluid1.addComponent(\"methane\", 1.0)\n",
        "\n",
        "clearProcess()\n",
        "\n",
        "stream1 = stream(fluid1)\n",
        "stream1.setPressure(pressure_inlet, 'bara')\n",
        "stream1.setTemperature(temperature_inlet, 'C')\n",
        "stream1.setFlowRate(gasFlowRate, \"MSm3/day\")\n",
        "\n",
        "streamresycl  = stream(stream1.clone())\n",
        "streamresycl.setFlowRate(1.0, 'MSm3/day')\n",
        "\n",
        "mixerStream = mixer()\n",
        "mixerStream.addStream(stream1)\n",
        "mixerStream.addStream(streamresycl)\n",
        "\n",
        "cooler1 = cooler(mixerStream.getOutletStream())\n",
        "cooler1.setOutTemperature(temperature_inlet, 'C')\n",
        "\n",
        "compressor_1 = compressor(cooler1.getOutletStream(), pressure_outlet)\n",
        "compressor_1.setIsentropicEfficiency(0.77)\n",
        "\n",
        "stream2 = stream(compressor_1.getOutStream())\n",
        "\n",
        "streamSplit = splitter(stream2)\n",
        "streamSplit.setFlowRates(JDouble[:]([5, 0.1]), 'MSm3/day')\n",
        "\n",
        "resycStream1 = streamSplit.getSplitStream(1)\n",
        "\n",
        "valve1 = valve(resycStream1)\n",
        "valve1.setOutletPressure(pressure_inlet)\n",
        "valve1.setPercentValveOpening(5.0)\n",
        "\n",
        "resycleOp = recycle2()\n",
        "resycleOp.addStream(valve1.getOutletStream())\n",
        "resycleOp.setOutletStream(streamresycl)\n",
        "resycleOp.setFlowAccuracy(1e-6)\n",
        "\n",
        "exportStream = stream(streamSplit.getSplitStream(0))\n",
        "\n",
        "virtualStream1 = virtualstream(exportStream)\n",
        "virtualStream1.setFlowRate(10.0, 'MSm3/day')\n",
        "\n",
        "runProcess()\n",
        "print('export flow ' , exportStream.getFlowRate('MSm3/day'))\n",
        "print('recycle flow ' , resycStream1.getFlowRate('MSm3/day'))\n",
        "print('flow to compressor ' , mixerStream.getOutStream().getFlowRate('MSm3/day'))\n",
        "print('power ', compressor_1.getPower('kW'), ' kW')\n",
        "print('valve Cv ', valve1.getCv())\n",
        "print('valve opening', valve1.getPercentValveOpening(), ' %')\n",
        "\n",
        "print('virtual stream flow ' , virtualStream1.getOutStream().getFlowRate('MSm3/day'))\n",
        "\n"
      ],
      "metadata": {
        "colab": {
          "base_uri": "https://localhost:8080/"
        },
        "id": "YIx3RMaa_iGG",
        "outputId": "3c10099b-4f1a-4abc-8806-29b520aa42e0"
      },
      "execution_count": null,
      "outputs": [
        {
          "output_type": "stream",
          "name": "stdout",
          "text": [
            "export flow  5.000000002557359\n",
            "recycle flow  0.1000000000511473\n",
            "flow to compressor  5.100000002608504\n",
            "power  5009.597839665677  kW\n",
            "valve Cv  954.2922257865447\n",
            "valve opening 4.250000002173752  %\n",
            "virtual stream flow  10.0\n"
          ]
        }
      ]
    },
    {
      "cell_type": "code",
      "source": [
        "streamSplit.setFlowRates(JDouble[:]([-1, 1.5]), 'MSm3/day')\n",
        "runProcess()\n",
        "\n",
        "print('export flow ' , exportStream.getFlowRate('MSm3/day'))\n",
        "print('recycle flow ' , resycStream1.getFlowRate('MSm3/day'))\n",
        "print('flow to compressor ' , mixerStream.getOutStream().getFlowRate('MSm3/day'))\n",
        "print('power ', compressor_1.getPower('kW'), ' kW')\n",
        "print('valve Cv ', valve1.getCv())\n",
        "print('valve opening ', valve1.getPercentValveOpening())"
      ],
      "metadata": {
        "id": "PvipJs7CEqHi",
        "outputId": "f4d90eba-f061-48a5-9eec-dbae383e1b16",
        "colab": {
          "base_uri": "https://localhost:8080/"
        }
      },
      "execution_count": null,
      "outputs": [
        {
          "output_type": "stream",
          "name": "stdout",
          "text": [
            "export flow  5.0\n",
            "recycle flow  1.5\n",
            "flow to compressor  6.5\n",
            "power  6384.781557092568  kW\n",
            "valve Cv  954.2922257865447\n",
            "valve opening  63.74999999999989\n"
          ]
        }
      ]
    },
    {
      "cell_type": "markdown",
      "source": [
        "# Test compressor med recycle\n",
        "FLow recycle regnes som Cv*dP."
      ],
      "metadata": {
        "id": "M4_aZL4XLUob"
      }
    },
    {
      "cell_type": "code",
      "source": [
        "from neqsim.thermo import fluid, phaseenvelope\n",
        "from neqsim.process import separator, heater, clearProcess, stream,  compressor, runProcess, viewProcess, getProcess, splitter, mixer, recycle2, valve, virtualstream, cooler\n",
        "from jpype.types import JDouble\n",
        "\n",
        "temperature_inlet = 35.0\n",
        "pressure_inlet = 55.0\n",
        "pressure_outlet = 100.0\n",
        "gasFlowRate = 5.0 \n",
        "Cv = 0.05\n",
        "\n",
        "fluid1 = fluid('srk')\n",
        "fluid1.addComponent(\"methane\", 1.0)\n",
        "\n",
        "clearProcess()\n",
        "\n",
        "stream1 = stream(fluid1)\n",
        "stream1.setPressure(pressure_inlet, 'bara')\n",
        "stream1.setTemperature(temperature_inlet, 'C')\n",
        "stream1.setFlowRate(gasFlowRate, \"MSm3/day\")\n",
        "\n",
        "flowResycl = Cv * (pressure_outlet-pressure_inlet)\n",
        "\n",
        "streamresycl  = stream(stream1.clone())\n",
        "streamresycl.setFlowRate(flowResycl, 'MSm3/day')\n",
        "\n",
        "mixerStream = mixer()\n",
        "mixerStream.addStream(stream1)\n",
        "mixerStream.addStream(streamresycl)\n",
        "\n",
        "cooler1 = cooler(mixerStream.getOutletStream())\n",
        "cooler1.setOutTemperature(temperature_inlet, 'C')\n",
        "\n",
        "compressor_1 = compressor(cooler1.getOutletStream(), pressure_outlet)\n",
        "compressor_1.setIsentropicEfficiency(0.77)\n",
        "\n",
        "stream2 = stream(compressor_1.getOutStream())\n",
        "\n",
        "streamSplit = splitter(stream2)\n",
        "streamSplit.setFlowRates(JDouble[:]([gasFlowRate, flowResycl]), 'MSm3/day')\n",
        "\n",
        "exportStream = stream(streamSplit.getSplitStream(0))\n",
        "\n",
        "runProcess()\n",
        "print('export flow ' , exportStream.getFlowRate('MSm3/day'))\n",
        "print('recycle flow ' , streamresycl.getFlowRate('MSm3/day'))\n",
        "print('flow to compressor ' , mixerStream.getOutStream().getFlowRate('MSm3/day'))"
      ],
      "metadata": {
        "id": "UDSAWJwz4ypQ",
        "colab": {
          "base_uri": "https://localhost:8080/"
        },
        "outputId": "4a528e15-8b4b-4969-b131-8fec4fa3356d"
      },
      "execution_count": 4,
      "outputs": [
        {
          "output_type": "stream",
          "name": "stdout",
          "text": [
            "export flow  5.000000000000001\n",
            "recycle flow  2.25\n",
            "flow to compressor  7.25\n"
          ]
        }
      ]
    }
  ]
}