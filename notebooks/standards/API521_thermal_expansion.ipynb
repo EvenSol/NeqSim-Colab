{
  "nbformat": 4,
  "nbformat_minor": 0,
  "metadata": {
    "colab": {
      "provenance": [],
      "authorship_tag": "ABX9TyNwJMDHIPezyKd8VAnziq3Y",
      "include_colab_link": true
    },
    "kernelspec": {
      "name": "python3",
      "display_name": "Python 3"
    },
    "language_info": {
      "name": "python"
    }
  },
  "cells": [
    {
      "cell_type": "markdown",
      "metadata": {
        "id": "view-in-github",
        "colab_type": "text"
      },
      "source": [
        "<a href=\"https://colab.research.google.com/github/EvenSol/NeqSim-Colab/blob/master/notebooks/standards/API521_thermal_expansion.ipynb\" target=\"_parent\"><img src=\"https://colab.research.google.com/assets/colab-badge.svg\" alt=\"Open In Colab\"/></a>"
      ]
    },
    {
      "cell_type": "code",
      "execution_count": null,
      "metadata": {
        "colab": {
          "base_uri": "https://localhost:8080/"
        },
        "id": "EAxnfD3DLDsZ",
        "outputId": "c1cdd237-a4cd-4f43-e197-e0273bb2e037"
      },
      "outputs": [
        {
          "output_type": "stream",
          "name": "stdout",
          "text": [
            "Collecting neqsim\n",
            "  Downloading neqsim-2.5.4-py3-none-any.whl (28.3 MB)\n",
            "\u001b[2K     \u001b[90m━━━━━━━━━━━━━━━━━━━━━━━━━━━━━━━━━━━━━━━━\u001b[0m \u001b[32m28.3/28.3 MB\u001b[0m \u001b[31m5.6 MB/s\u001b[0m eta \u001b[36m0:00:00\u001b[0m\n",
            "\u001b[?25hCollecting jpype1 (from neqsim)\n",
            "  Downloading JPype1-1.4.1-cp310-cp310-manylinux_2_12_x86_64.manylinux2010_x86_64.whl (465 kB)\n",
            "\u001b[2K     \u001b[90m━━━━━━━━━━━━━━━━━━━━━━━━━━━━━━━━━━━━━━━\u001b[0m \u001b[32m465.3/465.3 kB\u001b[0m \u001b[31m5.8 MB/s\u001b[0m eta \u001b[36m0:00:00\u001b[0m\n",
            "\u001b[?25hRequirement already satisfied: pandas in /usr/local/lib/python3.10/dist-packages (from neqsim) (1.5.3)\n",
            "Requirement already satisfied: packaging in /usr/local/lib/python3.10/dist-packages (from jpype1->neqsim) (23.1)\n",
            "Requirement already satisfied: python-dateutil>=2.8.1 in /usr/local/lib/python3.10/dist-packages (from pandas->neqsim) (2.8.2)\n",
            "Requirement already satisfied: pytz>=2020.1 in /usr/local/lib/python3.10/dist-packages (from pandas->neqsim) (2022.7.1)\n",
            "Requirement already satisfied: numpy>=1.21.0 in /usr/local/lib/python3.10/dist-packages (from pandas->neqsim) (1.22.4)\n",
            "Requirement already satisfied: six>=1.5 in /usr/local/lib/python3.10/dist-packages (from python-dateutil>=2.8.1->pandas->neqsim) (1.16.0)\n",
            "Installing collected packages: jpype1, neqsim\n",
            "Successfully installed jpype1-1.4.1 neqsim-2.5.4\n"
          ]
        }
      ],
      "source": [
        "!pip install neqsim"
      ]
    },
    {
      "cell_type": "markdown",
      "source": [
        "https://www.emerson.com/documents/automation/on-correlation-between-isothermal-compressibility-isobaric-expansivity-en-5396676.pdf"
      ],
      "metadata": {
        "id": "tHvpMJwsTaPk"
      }
    },
    {
      "cell_type": "code",
      "source": [
        "alphal = 0.21e-5 # /1C\n",
        "E = 207e6 #kPa"
      ],
      "metadata": {
        "id": "FYgNdj8OLPJg"
      },
      "execution_count": null,
      "outputs": []
    },
    {
      "cell_type": "code",
      "source": [
        "import neqsim\n",
        "from neqsim.thermo import fluid, TPflash, printFrame\n",
        "fluid1 = fluid('pr') #create a fluid using the SRK-EoS\n",
        "fluid1.addComponent('CO2', 1.0)\n",
        "fluid1.addComponent('methane', 10.0)\n",
        "fluid1.addComponent('ethane', 20.0)\n",
        "fluid1.addComponent('propane', 20.0)\n",
        "fluid1.addComponent('n-butane', 20.0)\n",
        "fluid1.setMixingRule('classic')\n",
        "fluid1.setTemperature(-60, 'C')\n",
        "fluid1.setPressure(40.0, 'bara')\n",
        "TPflash(fluid1)\n",
        "fluid1.initProperties()\n",
        "printFrame(fluid1)\n",
        "\n",
        "#neqsim.methods(fluid1.getPhase(0))\n",
        "\n",
        "isothermalComp = fluid1.getPhase(0).getIsothermalCompressibility()/100\n",
        "thermalExpansion = fluid1.getPhase(0).getIsobaricThermalExpansivity()\n",
        "\n",
        "print('isothermal comp ', isothermalComp)\n",
        "print('thermalExpansion ', thermalExpansion, ' 1/c')"
      ],
      "metadata": {
        "colab": {
          "base_uri": "https://localhost:8080/"
        },
        "id": "Xn_Ka0agLsoJ",
        "outputId": "d9e0d6f1-6e96-4630-b134-ec0217e70da3"
      },
      "execution_count": null,
      "outputs": [
        {
          "output_type": "stream",
          "name": "stdout",
          "text": [
            "| 0                  | 1          | 2                  | 3   | 4   | 5   | 6               |\n",
            "|:-------------------|:-----------|:-------------------|:----|:----|:----|:----------------|\n",
            "|                    | total      | OIL                |     |     |     |                 |\n",
            "| CO2                | 1.40845E-2 | 1.40845E-2         |     |     |     | [mole fraction] |\n",
            "| methane            | 1.40845E-1 | 1.40845E-1         |     |     |     | [mole fraction] |\n",
            "| ethane             | 2.8169E-1  | 2.8169E-1          |     |     |     | [mole fraction] |\n",
            "| propane            | 2.8169E-1  | 2.8169E-1          |     |     |     | [mole fraction] |\n",
            "| n-butane           | 2.8169E-1  | 2.8169E-1          |     |     |     | [mole fraction] |\n",
            "|                    |            |                    |     |     |     |                 |\n",
            "| Density            |            | 5.70006E2          |     |     |     | [kg/m^3]        |\n",
            "| PhaseFraction      |            | 1E0                |     |     |     | [mole fraction] |\n",
            "| MolarMass          | 4.01442E1  | 4.01442E1          |     |     |     | [kg/kmol]       |\n",
            "| Z factor           |            | 1.45622E-1         |     |     |     | [-]             |\n",
            "| Heat Capacity (Cp) |            | 2.17131E0          |     |     |     | [kJ/kg*K]       |\n",
            "| Heat Capacity (Cv) |            | 1.55357E0          |     |     |     | [kJ/kg*K]       |\n",
            "| Speed of Sound     |            | 1.01846E3          |     |     |     | [m/sec]         |\n",
            "| Enthalpy           | -5.19736E2 | -5.19736E2         |     |     |     | [kJ/kg]         |\n",
            "| Entropy            | -2.10538E0 | -2.10538E0         |     |     |     | [kJ/kg*K]       |\n",
            "| JT coefficient     |            | -4.28413E-2        |     |     |     | [K/bar]         |\n",
            "|                    |            |                    |     |     |     |                 |\n",
            "| Viscosity          |            | 2.05751E-4         |     |     |     | [kg/m*sec]      |\n",
            "| Conductivity       |            | 1.31866E-1         |     |     |     | [W/m*K]         |\n",
            "| SurfaceTension     |            |                    |     |     |     | [N/m]           |\n",
            "|                    |            |                    |     |     |     |                 |\n",
            "|                    |            |                    |     |     |     |                 |\n",
            "|                    |            |                    |     |     |     |                 |\n",
            "| Pressure           |            | 40.0               |     |     |     | [bar]           |\n",
            "| Temperature        |            | 213.14999999999998 |     |     |     | [K]             |\n",
            "|                    |            |                    |     |     |     |                 |\n",
            "| Model              |            | PR-EOS             |     |     |     | -               |\n",
            "| Mixing Rule        |            | classic            |     |     |     | -               |\n",
            "|                    |            |                    |     |     |     |                 |\n",
            "| Stream             |            |                    |     |     |     | -               |\n",
            "|                    |            |                    |     |     |     |                 |\n",
            "|                    |            |                    |     |     |     |                 |\n",
            "|                    |            |                    |     |     |     |                 |\n",
            "|                    |            |                    |     |     |     |                 |\n",
            "isothermal comp  2.1655529052373846e-06\n",
            "thermalExpansion  -0.0019761208438481767  1/c\n"
          ]
        }
      ]
    },
    {
      "cell_type": "code",
      "source": [
        "T2 = 20\n",
        "T1 = -60\n",
        "d = 0.1\n",
        "wallthickness = 0.02 #m\n",
        "posonsratio = 0.3\n",
        "\n",
        "p1 = 4000 #kPa\n",
        "\n",
        "\n",
        "p2 = p1 + (T2-T1)*(thermalExpansion - 3.0*alphal) / (isothermalComp + (d/(2*E*wallthickness)*(2.5-2.0*posonsratio)))\n",
        "print('p2 ', p2/100, ' bar')\n"
      ],
      "metadata": {
        "colab": {
          "base_uri": "https://localhost:8080/"
        },
        "id": "NEY4YWKQPDSw",
        "outputId": "4b8e8829-4ff6-411e-874a-a9e3c1968b83"
      },
      "execution_count": null,
      "outputs": [
        {
          "output_type": "stream",
          "name": "stdout",
          "text": [
            "p2  801.3930230813129  bar\n"
          ]
        }
      ]
    },
    {
      "cell_type": "code",
      "source": [],
      "metadata": {
        "id": "4f5AnWEIOAbB"
      },
      "execution_count": null,
      "outputs": []
    }
  ]
}