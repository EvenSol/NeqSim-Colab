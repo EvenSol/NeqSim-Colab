{
  "nbformat": 4,
  "nbformat_minor": 0,
  "metadata": {
    "colab": {
      "provenance": [],
      "authorship_tag": "ABX9TyNWlziz/7/6Nmlrwt711U9Q",
      "include_colab_link": true
    },
    "kernelspec": {
      "name": "python3",
      "display_name": "Python 3"
    },
    "language_info": {
      "name": "python"
    }
  },
  "cells": [
    {
      "cell_type": "markdown",
      "metadata": {
        "id": "view-in-github",
        "colab_type": "text"
      },
      "source": [
        "<a href=\"https://colab.research.google.com/github/EvenSol/NeqSim-Colab/blob/master/notebooks/standards/technicalsafetyP0001.ipynb\" target=\"_parent\"><img src=\"https://colab.research.google.com/assets/colab-badge.svg\" alt=\"Open In Colab\"/></a>"
      ]
    },
    {
      "cell_type": "code",
      "execution_count": 1,
      "metadata": {
        "id": "tWpuVq8H4utV"
      },
      "outputs": [],
      "source": [
        "%%capture\n",
        "!pip install neqsim"
      ]
    },
    {
      "cell_type": "markdown",
      "source": [
        "# Litterature\n",
        "\n",
        "[NORSOK S-001 Technical safety](https://handle.standard.no/en/webshop/ProductCatalog/ProductPresentation/?ProductID=1357800)"
      ],
      "metadata": {
        "id": "h7G8gLcvOget"
      }
    },
    {
      "cell_type": "markdown",
      "source": [
        "NORSOK S-001 is a Norwegian standard created by the Norwegian petroleum industry for the design and engineering of offshore oil and gas production facilities. The standard provides guidelines for the design and engineering of safety systems, including fire protection, escape and evacuation, and emergency response.\n",
        "\n",
        "NORSOK S-001 is focused on providing guidance for designing offshore structures that can withstand harsh marine conditions and extreme weather events, with a particular focus on safe and reliable operations. The standard covers a range of topics, from the design of the facility itself to the materials and equipment used in its construction.\n",
        "\n",
        "\n",
        "NORSOK S-001 is an essential tool for the petroleum industry, providing a comprehensive set of guidelines for designing safe and effective offshore oil and gas production facilities. The standard emphasizes safety and reliability, helping to minimize the risk of accidents, injuries, and environmental damage in the offshore environment."
      ],
      "metadata": {
        "id": "OVg09mA-PHH5"
      }
    }
  ]
}