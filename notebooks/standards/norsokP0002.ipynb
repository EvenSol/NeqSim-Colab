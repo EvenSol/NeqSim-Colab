{
  "nbformat": 4,
  "nbformat_minor": 0,
  "metadata": {
    "colab": {
      "provenance": [],
      "authorship_tag": "ABX9TyNBfqh/ral6betB+6xr/YmJ",
      "include_colab_link": true
    },
    "kernelspec": {
      "name": "python3",
      "display_name": "Python 3"
    },
    "language_info": {
      "name": "python"
    }
  },
  "cells": [
    {
      "cell_type": "markdown",
      "metadata": {
        "id": "view-in-github",
        "colab_type": "text"
      },
      "source": [
        "<a href=\"https://colab.research.google.com/github/EvenSol/NeqSim-Colab/blob/master/notebooks/standards/norsokP0002.ipynb\" target=\"_parent\"><img src=\"https://colab.research.google.com/assets/colab-badge.svg\" alt=\"Open In Colab\"/></a>"
      ]
    },
    {
      "cell_type": "code",
      "execution_count": 1,
      "metadata": {
        "id": "hj9skfQQXRxE",
        "colab": {
          "base_uri": "https://localhost:8080/"
        },
        "outputId": "9c154236-745e-4917-f451-1f9497203206"
      },
      "outputs": [
        {
          "output_type": "stream",
          "name": "stdout",
          "text": [
            "Collecting neqsim\n",
            "  Downloading neqsim-2.5.7.1-py3-none-any.whl (28.2 MB)\n",
            "\u001b[2K     \u001b[90m━━━━━━━━━━━━━━━━━━━━━━━━━━━━━━━━━━━━━━━━\u001b[0m \u001b[32m28.2/28.2 MB\u001b[0m \u001b[31m38.5 MB/s\u001b[0m eta \u001b[36m0:00:00\u001b[0m\n",
            "\u001b[?25hCollecting jpype1 (from neqsim)\n",
            "  Downloading JPype1-1.4.1-cp310-cp310-manylinux_2_12_x86_64.manylinux2010_x86_64.whl (465 kB)\n",
            "\u001b[2K     \u001b[90m━━━━━━━━━━━━━━━━━━━━━━━━━━━━━━━━━━━━━━\u001b[0m \u001b[32m465.3/465.3 kB\u001b[0m \u001b[31m42.0 MB/s\u001b[0m eta \u001b[36m0:00:00\u001b[0m\n",
            "\u001b[?25hRequirement already satisfied: pandas in /usr/local/lib/python3.10/dist-packages (from neqsim) (1.5.3)\n",
            "Requirement already satisfied: packaging in /usr/local/lib/python3.10/dist-packages (from jpype1->neqsim) (23.2)\n",
            "Requirement already satisfied: python-dateutil>=2.8.1 in /usr/local/lib/python3.10/dist-packages (from pandas->neqsim) (2.8.2)\n",
            "Requirement already satisfied: pytz>=2020.1 in /usr/local/lib/python3.10/dist-packages (from pandas->neqsim) (2023.3.post1)\n",
            "Requirement already satisfied: numpy>=1.21.0 in /usr/local/lib/python3.10/dist-packages (from pandas->neqsim) (1.23.5)\n",
            "Requirement already satisfied: six>=1.5 in /usr/local/lib/python3.10/dist-packages (from python-dateutil>=2.8.1->pandas->neqsim) (1.16.0)\n",
            "Installing collected packages: jpype1, neqsim\n",
            "Successfully installed jpype1-1.4.1 neqsim-2.5.7.1\n"
          ]
        }
      ],
      "source": [
        "!pip install neqsim==2.5.35"
      ]
    },
    {
      "cell_type": "markdown",
      "source": [
        "# Litterature\n",
        "\n",
        "[Norsok P-002 Prosess system design](https://handle.standard.no/en/webshop/ProductCatalog/ProductPresentation/?ProductID=1455151)"
      ],
      "metadata": {
        "id": "NDTrn3_TXsBP"
      }
    },
    {
      "cell_type": "markdown",
      "source": [
        "NORSOK P-0002 is a technical standard established by the Norwegian oil and gas industry to provide guidelines for design, construction, and maintenance of offshore oil and gas production facilities. The standard outlines the requirements and recommendations for developing structural, mechanical, electrical, and instrumentation systems in offshore installations.\n",
        "\n",
        "The purpose of this standard is to ensure safety measures at all stages of the offshore oil and gas production facility life cycle, from initial design to decommissioning. It also defines the requirements for materials and equipment used in the construction, installation, and maintenance of offshore production facilities.\n",
        "\n",
        "The document is essential for companies that are involved in the design, construction, and operation of offshore oil and gas facilities. It provides a common framework for design, construction, and maintenance practices, thereby ensuring safety, reliability, and cost-effectiveness for both operators and contractors.\n",
        "\n"
      ],
      "metadata": {
        "id": "o1rAufTaYoKB"
      }
    },
    {
      "cell_type": "markdown",
      "source": [
        "# Process system design"
      ],
      "metadata": {
        "id": "sQpcR9xyZSiJ"
      }
    },
    {
      "cell_type": "markdown",
      "source": [
        "## Design pressure\n",
        "Design pressure is the pressure, together with the design temperature, used to determine the minimum permissible thickness or physical characteristic of each component as determined by the design rules of the pressure design code.\n",
        "\n",
        "Minimum design pressure\n",
        "For equipment where cooling or condensing vapours (e.g. after steam-out of vessels), drainage or pump\n",
        "out may lead to less than atmospheric pressure, the equipment shall be designed for full vacuum or\n",
        "protected by vacuum relief.\n",
        "\n",
        "---\n",
        "\n",
        "Maximum operating pressure (barg) Design pressure (barg)\n",
        "\n",
        "0-35 Maximum operating pressure +3,5 bar\n",
        "\n",
        "35–70 Maximum operating pressure +10 %\n",
        "\n",
        "70-200 Maximum operating pressure +8,5 % but minimum 7\n",
        "bar and maximum 10 bar\n",
        "\n",
        "200 + Maximum operating pressure + 5 %\n"
      ],
      "metadata": {
        "id": "KPrjRaybZcva"
      }
    },
    {
      "cell_type": "markdown",
      "source": [
        "## Design temperature\n",
        "Maximum design temperature\n",
        "Where the maximum operating temperature can be determined accurately, this temperature should be\n",
        "used as maximum design temperature, without adding a safety margin.\n",
        "\n",
        "Where the maximum operating temperature cannot be determined accurately, the maximum design\n",
        "temperature should be determined by adding 30 °C to the normal operating temperature.\n",
        "For equipment operating at ambient conditions, the maximum design temperature should be limited to\n",
        "50 °C in the Norwegian sector.\n",
        "\n",
        "The minimum design temperature determines the requirements to the low temperature characteristics\n",
        "of the material. Typical can be minimum operating temperature (obtained during normal operation, start-up, shutdown or process\n",
        "upsets) with a margin of 5 °C;"
      ],
      "metadata": {
        "id": "N8rk8VJHbJyZ"
      }
    },
    {
      "cell_type": "markdown",
      "source": [
        "#Process Safety\n",
        "...."
      ],
      "metadata": {
        "id": "_PP6u4qXgqg0"
      }
    },
    {
      "cell_type": "markdown",
      "source": [
        "# Line sizing\n",
        ".."
      ],
      "metadata": {
        "id": "Zx1qZk_7guwx"
      }
    },
    {
      "cell_type": "markdown",
      "source": [
        "When sizing piping, the following constraints shall be addressed:\n",
        "\n",
        "— required capacity/available driving pressure;\n",
        "\n",
        "— flow induced forces;\n",
        "\n",
        "— noise/vibration;\n",
        "\n",
        "— pressure surges;\n",
        "\n",
        "— material degradation (erosion, corrosion and cavitation);\n",
        "\n",
        "— liquid accumulation/slug flow;\n",
        "\n",
        "— sand accumulation."
      ],
      "metadata": {
        "id": "hnqWBubdg06k"
      }
    },
    {
      "cell_type": "markdown",
      "source": [
        "A minimum pipe size of DN 50 (2 in) should be used for all process, process support and utility piping.\n",
        "\n",
        "Minimum size for the sewage and open drain header shall be DN 100 (4 in) and sub-headers DN 80 (3\n",
        "in).\n",
        "Overflow from atmospheric tanks shall as a minimum be equal to the largest inlet pipe.\n",
        "Tubing may be used for air, hydraulic oil and other non-combustible/non-hazardous fluids."
      ],
      "metadata": {
        "id": "RAZSAPm9hGmq"
      }
    },
    {
      "cell_type": "markdown",
      "source": [
        "## Pipe roughness\n",
        "For all calculations of pressure\n",
        "\n",
        "— Carbon steel (CS) non-corroded: 0,05 mm;\n",
        "\n",
        "— Carbon steel (CS) corroded: 0,5 mm;\n",
        "\n",
        "— Stainless steel (SS): 0,05 mm;"
      ],
      "metadata": {
        "id": "K_X-TfAjhaCe"
      }
    },
    {
      "cell_type": "markdown",
      "source": [
        "## Sizing of liquid line..."
      ],
      "metadata": {
        "id": "aS0CC4ebhpQE"
      }
    },
    {
      "cell_type": "markdown",
      "source": [
        "## Sizing of gas lines\n",
        "..."
      ],
      "metadata": {
        "id": "hB3zdfA5hsai"
      }
    },
    {
      "cell_type": "markdown",
      "source": [
        "For streams having a gas volume fraction above 99 %, all normally flowing pipes with velocities of 25\n",
        "m/s or higher shall be subject to vibration screening."
      ],
      "metadata": {
        "id": "YbWuL7eQiGVj"
      }
    },
    {
      "cell_type": "markdown",
      "source": [
        "## Sizing of two phase/multiphase lines\n",
        "..."
      ],
      "metadata": {
        "id": "RzpB8fDEiV0k"
      }
    },
    {
      "cell_type": "markdown",
      "source": [
        "Wellhead flow-lines, production manifolds, process headers and other lines made of steel and transporting\n",
        "two-phase or multiphase flow, have a velocity limitation.\n",
        "When determining the maximum allowable velocity, factors such as piping geometry, well-stream\n",
        "composition, sand particle (or proppant) contamination and the material choice for the line shall be\n",
        "considered.\n",
        "For two phase/multiphase streams with gas volume fraction (GVF) below 99 %, all piping subject to\n",
        "mixture velocities of 10 m/s or higher shall undertake vibration screening according to Energy Institute's\n",
        "guideline for AVIFF in process pipework, using fluid viscosity factor (FVF) = 1 for GVF less than 0,88.\n",
        "Calculated LOF (likelihood of failure) should be < 0,5 with the selected support arrangement."
      ],
      "metadata": {
        "id": "K2_XjwpRihO8"
      }
    },
    {
      "cell_type": "markdown",
      "source": [
        "## Sizing of flare and vent lines"
      ],
      "metadata": {
        "id": "U-BH6lnlipfq"
      }
    },
    {
      "cell_type": "markdown",
      "source": [
        "In general, all flare lines should be designed to keep below ρv2 < 200 000 kg/ms2 (where ρ is the fluid\n",
        "density or mixed density for two phase conditions in kg/m3 and v is the velocity in m/s) to minimise\n",
        "reaction forces in piping systems."
      ],
      "metadata": {
        "id": "zECkEk5YivmT"
      }
    },
    {
      "cell_type": "markdown",
      "source": [
        "\n",
        "...."
      ],
      "metadata": {
        "id": "aXlDgVfFiqIV"
      }
    },
    {
      "cell_type": "markdown",
      "source": [
        "# General process equipment design\n",
        "..."
      ],
      "metadata": {
        "id": "EQruxMJvi-ND"
      }
    },
    {
      "cell_type": "markdown",
      "source": [
        "## Horizontal separator design\n",
        "\n",
        "1. Separator inlet nozzles\n",
        "2. Separator sizing\n",
        "- Gas velocity\n",
        "- Liquid residence time\n",
        "- Liquid levels\n",
        "- Level instrumentation\n",
        "3. Separator internals\n",
        "\n"
      ],
      "metadata": {
        "id": "OZmKVBknjADN"
      }
    },
    {
      "cell_type": "markdown",
      "source": [
        "## Vertical separator design\n",
        "Vertical separators may be used instead of horizontal separators in gas dominated systems or if liquid\n",
        "degassing or separation is less critical and space is at a premium.\n",
        "...\n"
      ],
      "metadata": {
        "id": "AcpYSS8BkHa1"
      }
    },
    {
      "cell_type": "markdown",
      "source": [],
      "metadata": {
        "id": "jKv0zSc5kVss"
      }
    },
    {
      "cell_type": "markdown",
      "source": [
        "# Gas scrubbers\n",
        "\n",
        "Scrubber design\n",
        "\n",
        "Design rates and vessel sizing\n",
        "\n",
        "\n",
        "\n"
      ],
      "metadata": {
        "id": "f2uDCF0akVy3"
      }
    },
    {
      "cell_type": "markdown",
      "source": [
        "## Atmospheric tank design\n",
        "\n",
        "..."
      ],
      "metadata": {
        "id": "0XWOYiY9k3Iw"
      }
    },
    {
      "cell_type": "markdown",
      "source": [
        "## Heat exchanger design\n",
        "\n",
        "\n",
        "...\n",
        "\n",
        "- Design of heat exchanger area\n",
        "- Primary side design margin\n",
        "- Secondary side margin\n",
        "- Secondary side of shell and tube heat exchangers and plate heat exchangers"
      ],
      "metadata": {
        "id": "mhO_BQdklCpD"
      }
    },
    {
      "cell_type": "markdown",
      "source": [
        "## Pig launcher/receiver design\n",
        "......"
      ],
      "metadata": {
        "id": "lD_PWsSjltiO"
      }
    },
    {
      "cell_type": "markdown",
      "source": [
        "## Filters"
      ],
      "metadata": {
        "id": "Xl5S7gbylx0h"
      }
    },
    {
      "cell_type": "markdown",
      "source": [
        "\n",
        "..."
      ],
      "metadata": {
        "id": "sl_Xi5xVlyOD"
      }
    },
    {
      "cell_type": "markdown",
      "source": [
        "# Detailed requirements for system and equipment isolation\n",
        "\n",
        "It shall be possible to isolate equipment, instrumentation, valves and process sections during maintenance\n",
        "work to obtain safe working conditions for the maintenance personnel.\n",
        "\n",
        "Physical separation with double block and bleed"
      ],
      "metadata": {
        "id": "-3Nu2NHal621"
      }
    },
    {
      "cell_type": "markdown",
      "source": [
        "# Insulation and heat tracing of piping and equipment\n",
        "...."
      ],
      "metadata": {
        "id": "kE8kt0wnmWbr"
      }
    },
    {
      "cell_type": "markdown",
      "source": [
        "Due to corrosion under insulation being a general problem, the philosophy shall be to avoid insulation,\n",
        "where possible. Appropriate coating systems shall be selected to minimise this problem. Where\n",
        "unacceptable ruptures due to fire exposure are identified; increased wall thickness shall be evaluated to\n",
        "avoid passive fire protection.\n",
        "The insulation and heat tracing requirements shall be determined with due consideration"
      ],
      "metadata": {
        "id": "MGpW1PuImdUS"
      }
    },
    {
      "cell_type": "markdown",
      "source": [
        "# Topside flow lines and manifolds\n",
        "\n",
        "......"
      ],
      "metadata": {
        "id": "9YDPHnYTmkFD"
      }
    },
    {
      "cell_type": "markdown",
      "source": [
        "The topside flow lines and manifolds system shall gather and transfer well stream from individual wells\n",
        "to downstream systems."
      ],
      "metadata": {
        "id": "PbYoqvGKmjYA"
      }
    },
    {
      "cell_type": "markdown",
      "source": [
        "# Separation and stabilisation\n",
        "....."
      ],
      "metadata": {
        "id": "VKl1wz7swDTT"
      }
    },
    {
      "cell_type": "markdown",
      "source": [
        "# Crude handling\n",
        "....\n",
        "\n"
      ],
      "metadata": {
        "id": "sq_qAR-BwNbY"
      }
    },
    {
      "cell_type": "markdown",
      "source": [
        "# Gas compression\n",
        "....\n"
      ],
      "metadata": {
        "id": "JOC7kR3qwSGX"
      }
    },
    {
      "cell_type": "markdown",
      "source": [
        "# Gas treatment\n",
        "...\n"
      ],
      "metadata": {
        "id": "_jsSPEr1wV-q"
      }
    },
    {
      "cell_type": "markdown",
      "source": [
        "# Gas conditioning\n",
        "The gas conditioning system shall lower the hydrocarbon dew point to a level suitable for transport,\n",
        "injection or sales gas requirements. The objective of the gas conditioning system is to process the feed gas\n",
        "stream to meet the downstream requirement or optimise the economic value of the products."
      ],
      "metadata": {
        "id": "AHQEJ-h5wb5X"
      }
    },
    {
      "cell_type": "markdown",
      "source": [
        "# Water injection\n",
        "....\n"
      ],
      "metadata": {
        "id": "7T0hkte6wlAi"
      }
    },
    {
      "cell_type": "markdown",
      "source": [
        "The water injection system shall deliver water (seawater, formation water, produced water or a mixture)\n",
        "at specified quality and pressure to maintain reservoir pressure or for disposal. Consideration should be\n",
        "given to maintaining injectivity, scale potential, corrosion and reservoir souring."
      ],
      "metadata": {
        "id": "EqR8dNZxwubT"
      }
    },
    {
      "cell_type": "markdown",
      "source": [
        "# Cooling medium..\n",
        "The cooling medium system shall remove heat from process and utility systems where direct seawater\n",
        "cooling or air cooling is not applicable."
      ],
      "metadata": {
        "id": "d-rmIoIowvjb"
      }
    },
    {
      "cell_type": "markdown",
      "source": [
        "# Heating medium\n",
        "The heating medium systems shall provide heat to process and utility systems."
      ],
      "metadata": {
        "id": "Nh32RfV5w7Xx"
      }
    },
    {
      "cell_type": "markdown",
      "source": [
        "# Chemical injection\n",
        "....\n",
        "The chemical injection system shall store, distribute and inject chemicals into the process and utility\n",
        "systems."
      ],
      "metadata": {
        "id": "Ll-_679OxDeN"
      }
    },
    {
      "cell_type": "markdown",
      "source": [
        "# Flare and vent\n",
        "The flare system shall provide safe disposal of fluids from pressure relief, depressurisation and control\n",
        "valves. This clause also covers common vent systems.\n"
      ],
      "metadata": {
        "id": "Vpwk4SfMxNmN"
      }
    },
    {
      "cell_type": "markdown",
      "source": [
        "# Oily water treatment\n",
        "The produced water treatment shall collect and treat produced water from the production separators and\n",
        "coalescers to specified quality, such that the water can be re-injected for pressure support, injected for\n",
        "disposal, or discharged to sea."
      ],
      "metadata": {
        "id": "at2S_NxFxX2D"
      }
    },
    {
      "cell_type": "markdown",
      "source": [
        "# Fuel gas\n",
        "The fuel gas system shall provide superheated fuel gas to the consumers.\n",
        "Dry and dew-point controlled hydrocarbon gas should preferably be used to prevent hydrate formation\n",
        "or condensation."
      ],
      "metadata": {
        "id": "m76UUcYUxjmt"
      }
    },
    {
      "cell_type": "markdown",
      "source": [
        "# Methanol and MEG injection\n",
        "Methanol injection shall be avoided and replaced by alternatives, as methanol is extremely flammable\n",
        "(with an invisible flame) and toxic.\n",
        "The number of mechanical connections (flanges and hubs) in systems with methanol inventory shall be\n",
        "kept to a minimum, i.e. by use of welded connections where feasible.\n",
        "The methanol and MEG injection system shall receive, store and inject methanol and MEG.\n",
        "Injection of hydrate inhibitor shall prevent and dissolve hydrates, when required."
      ],
      "metadata": {
        "id": "BYVrIqV1xr_X"
      }
    },
    {
      "cell_type": "markdown",
      "source": [
        "# Chlorination\n",
        "...The chlorination system shall generate or receive, store and inject hypochlorite into systems containing\n",
        "seawater."
      ],
      "metadata": {
        "id": "k1s6dgd8xTRA"
      }
    },
    {
      "cell_type": "markdown",
      "source": [
        "# Seawater\n",
        "The system shall lift and filter seawater for distribution to the various consumers."
      ],
      "metadata": {
        "id": "ufD-KWotx8nT"
      }
    },
    {
      "cell_type": "markdown",
      "source": [
        "# Fresh water\n",
        "The system shall produce and/or receive, store and distribute fresh water to all users on the facility."
      ],
      "metadata": {
        "id": "-i8Al_PsyH8I"
      }
    },
    {
      "cell_type": "markdown",
      "source": [
        "# Open drain\n",
        "The open drain systems shall handle rainwater, firewater, wash down water, including spillage of liquids\n",
        "containing solids from deck areas, equipment drip trays and bunded areas."
      ],
      "metadata": {
        "id": "TITeOH9myLlm"
      }
    },
    {
      "cell_type": "markdown",
      "source": [
        "# Closed drain\n",
        "The closed drain system shall collect hydrocarbon liquid drains from equipment and piping, and safely\n",
        "dispose and degas the liquid."
      ],
      "metadata": {
        "id": "aHFwkmyFyXz5"
      }
    },
    {
      "cell_type": "markdown",
      "source": [
        "# Diesel oil\n",
        "The diesel system shall provide storage and treatment of raw diesel and supply diesel to users"
      ],
      "metadata": {
        "id": "QKEJ8X_hyhWg"
      }
    },
    {
      "cell_type": "markdown",
      "source": [
        "# Compressed air\n",
        "The compressed air system shall provide compressed air at a defined quality and pressure to instrument\n",
        "air consumers and to plant air consumers."
      ],
      "metadata": {
        "id": "Y5-lfRoYyoAS"
      }
    },
    {
      "cell_type": "markdown",
      "source": [
        "# Inert gas\n",
        "The inert gas generator shall deliver inert gas with low oxygen content at a specified pressure and\n",
        "temperature. The inert gas content shall be >97 % by volume at normal operation and 95 % by volume at peak load.\n",
        "For some consumers, stricter quality requirements may be required."
      ],
      "metadata": {
        "id": "upjA0TB5yvVy"
      }
    },
    {
      "cell_type": "markdown",
      "source": [
        "# Hydraulic power\n",
        "The hydraulic power package shall provide hydraulic power to all topside users at specified pressures and\n",
        "cleanliness levels."
      ],
      "metadata": {
        "id": "xo53aq2kzBF0"
      }
    },
    {
      "cell_type": "markdown",
      "source": [
        "# Sewage\n",
        "Sewage on oil and gas offshore refers to the waste produced by workers on offshore oil and gas production facilities.\n"
      ],
      "metadata": {
        "id": "AuOuTIZizHY8"
      }
    },
    {
      "cell_type": "code",
      "source": [],
      "metadata": {
        "id": "N0Pv7sOmZWXs"
      },
      "execution_count": null,
      "outputs": []
    }
  ]
}