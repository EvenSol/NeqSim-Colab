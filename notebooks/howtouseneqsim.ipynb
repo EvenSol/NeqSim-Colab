{
  "nbformat": 4,
  "nbformat_minor": 0,
  "metadata": {
    "colab": {
      "name": "howtouseneqsim.ipynb",
      "provenance": [],
      "collapsed_sections": [],
      "include_colab_link": true
    },
    "kernelspec": {
      "name": "python3",
      "display_name": "Python 3"
    }
  },
  "cells": [
    {
      "cell_type": "markdown",
      "metadata": {
        "id": "view-in-github",
        "colab_type": "text"
      },
      "source": [
        "<a href=\"https://colab.research.google.com/github/EvenSol/NeqSim-Colab/blob/master/notebooks/howtouseneqsim.ipynb\" target=\"_parent\"><img src=\"https://colab.research.google.com/assets/colab-badge.svg\" alt=\"Open In Colab\"/></a>"
      ]
    },
    {
      "cell_type": "markdown",
      "source": [
        "# How to use NeqSim\n",
        "This document is part of the module [\"Introduction to Gas Processing using NeqSim in Colab\"](https://colab.research.google.com/github/EvenSol/NeqSim-Colab/blob/master/notebooks/examples_of_NeqSim_in_Colab.ipynb#scrollTo=_eRtkQnHpL70)."
      ],
      "metadata": {
        "id": "K3nvreI3ifTc"
      }
    },
    {
      "cell_type": "code",
      "metadata": {
        "id": "em7r_nM7_Qb9"
      },
      "source": [
        "#@title Download an install neqsim python package\n",
        "#@markdown The first step of using neqsim in Colab will be to download the neqsim python package, and install it using pip. The py4j library is neccesary for using the neqsim java library from python.\n",
        "%%capture\n",
        "!pip install neqsim"
      ],
      "execution_count": 1,
      "outputs": []
    },
    {
      "cell_type": "code",
      "metadata": {
        "id": "2Fe6fiYmDP8m"
      },
      "source": [
        "#@title Import the neqsim package in python\n",
        "#@markdown This example shos how to import the neqsim package in puthon\n",
        "import neqsim\n",
        "from neqsim.thermo.thermoTools import *\n",
        "import matplotlib\n",
        "import numpy as np\n",
        "import matplotlib.pyplot as plt\n",
        "import math\n",
        "%matplotlib inline"
      ],
      "execution_count": 2,
      "outputs": []
    },
    {
      "cell_type": "code",
      "metadata": {
        "id": "9Kkz5ZeLEyRv",
        "colab": {
          "base_uri": "https://localhost:8080/"
        },
        "outputId": "a5dfa80f-0798-4110-cb68-a4a3d76726f0"
      },
      "source": [
        "#@title  Example create a fluid in neqsim, run a TPflash, and report properties of the fluid\n",
        "#@markdown A standard calculation in neqsim will be to create a fluid and perofrm various unit operations. In this exampl we will run a TPflash for a three component fluid.\n",
        "\n",
        "eosname = 'srk' #@param [\"srk\", \"pr\", \"cpa\"]\n",
        "mixingRule = 'classic' #@param [\"classic\", \"HV\"]\n",
        "componentName1 = \"methane\" #@param [\"CO2\", \"nitrogen\", \"methane\", \"ethane\", \"propane\", \"n-hexane\", \"n-heptane\", \"water\"]\n",
        "componentName2 = \"n-heptane\" #@param [\"CO2\", \"nitrogen\", \"methane\", \"ethane\", \"propane\", \"n-hexane\", \"n-heptane\", \"water\"]\n",
        "componentName3 = \"water\" #@param [\"CO2\", \"nitrogen\", \"methane\", \"ethane\", \"propane\", \"n-hexane\", \"n-heptane\", \"water\"]\n",
        "\n",
        "molescomponent1 = 1.0 #@param {type:\"number\"}\n",
        "molescomponent2 = 1.0  #@param {type:\"number\"}\n",
        "molescomponent3 = 1.0  #@param {type:\"number\"}\n",
        "\n",
        "# Creating a fluid in neqsim\n",
        "fluid1 = fluid(eosname) #create a fluid using the SRK-EoS\n",
        "fluid1.addComponent(componentName1, molescomponent1)\n",
        "fluid1.addComponent(componentName2, molescomponent2)\n",
        "fluid1.addComponent(componentName3, molescomponent3)\n",
        "fluid1.setMixingRule(mixingRule)\n",
        "fluid1.setMultiPhaseCheck(True)\n",
        "\n",
        "TPflash(fluid1)\n",
        "fluid1.initProperties()\n",
        "\n",
        "printFrame(fluid1)\n",
        "\n",
        "print('number of phases ', fluid1.getNumberOfPhases(), '-')\n",
        "\n",
        "if fluid1.hasPhaseType(\"gas\"):\n",
        "    phaseNumber = fluid1.getPhaseNumberOfPhase(\"gas\")\n",
        "    gasFractionc = fluid1.getMoleFraction(phaseNumber) * 100\n",
        "    gasMolarVolume = 1.0 / fluid1.getPhase(phaseNumber).getDensity(\"mol/m3\")\n",
        "    gasVolumeFraction = fluid1.getCorrectedVolumeFraction(phaseNumber) * 100\n",
        "    gasDensity = fluid1.getPhase(phaseNumber).getDensity(\"kg/m3\")\n",
        "    gasZ = fluid1.getPhase(phaseNumber).getZ()\n",
        "    gasMolarMass = fluid1.getPhase(phaseNumber).getMolarMass() * 1000\n",
        "    gasEnthalpy = fluid1.getPhase(phaseNumber).getEnthalpy(\"J/mol\")\n",
        "    gasEntropy = fluid1.getPhase(phaseNumber).getEntropy(\"J/molK\")\n",
        "    gasWtFraction = fluid1.getWtFraction(phaseNumber) * 100\n",
        "    gasKappa = fluid1.getPhase(phaseNumber).getGamma()\n",
        "    gasViscosity = fluid1.getPhase(phaseNumber).getViscosity(\"kg/msec\")\n",
        "    gasThermalConductivity = fluid1.getPhase(phaseNumber).getConductivity(\"W/mK\")\n",
        "    gasSoundSpeed = fluid1.getPhase(phaseNumber).getSoundSpeed()\n",
        "    gasJouleThomsonCoefficient = fluid1.getPhase(phaseNumber).getJouleThomsonCoefficient() / 1e5\n",
        "    print('gas fractionc ', round(gasFractionc,3), ' mol%')\n",
        "    print('gas density ', round(gasDensity,3), ' kg/m3')\n",
        "    print('gas molar mass ', round(gasMolarMass,3), ' kg/mol')\n",
        "    print('gas viscosity ', round(gasViscosity,7), ' kg/msec')\n",
        "\n",
        "if fluid1.hasPhaseType(\"oil\"):\n",
        "    phaseNumber = fluid1.getPhaseNumberOfPhase(\"oil\")\n",
        "    oilFractionc = fluid1.getMoleFraction(phaseNumber) * 100\n",
        "    oilMolarVolume = 1.0 / fluid1.getPhase(phaseNumber).getDensity(\"mol/m3\")\n",
        "    oilVolumeFraction = fluid1.getCorrectedVolumeFraction(phaseNumber) * 100\n",
        "    oilDensity = fluid1.getPhase(phaseNumber).getDensity(\"kg/m3\")\n",
        "    oilZ = fluid1.getPhase(phaseNumber).getZ()\n",
        "    oilMolarMass = fluid1.getPhase(phaseNumber).getMolarMass() * 1000\n",
        "    oilEnthalpy = fluid1.getPhase(phaseNumber).getEnthalpy(\"J/mol\")\n",
        "    oilWtFraction = fluid1.getWtFraction(phaseNumber) * 100\n",
        "    oilKappa = fluid1.getPhase(phaseNumber).getGamma()\n",
        "    oilViscosity = fluid1.getPhase(phaseNumber).getViscosity(\"kg/msec\")\n",
        "    oilThermalConductivity = fluid1.getPhase(phaseNumber).getConductivity(\"W/mK\")\n",
        "    oilSoundSpeed = fluid1.getPhase(phaseNumber).getSoundSpeed()\n",
        "    oilJouleThomsonCoefficient = fluid1.getPhase(phaseNumber).getJouleThomsonCoefficient() / 1e5\n",
        "    print('oil fractionc ', round(oilFractionc,3), ' mol%')\n",
        "    print('oil density ', round(oilDensity,3), ' kg/m3')\n",
        "    print('oil molar mass ', round(oilMolarMass,3), ' kg/mol')\n",
        "    print('oil viscosity ', round(oilViscosity,6), ' kg/msec')\n",
        "\n",
        "if fluid1.hasPhaseType(\"aqueous\"):\n",
        "    phaseNumber = fluid1.getPhaseNumberOfPhase(\"aqueous\")\n",
        "    aqueousFractionc = fluid1.getMoleFraction(phaseNumber) * 100\n",
        "    aqueousMolarVolume = 1.0 / fluid1.getPhase(phaseNumber).getDensity(\"mol/m3\")\n",
        "    aqueousVolumeFraction = fluid1.getCorrectedVolumeFraction(phaseNumber) * 100\n",
        "    aqueousDensity = fluid1.getPhase(phaseNumber).getDensity(\"kg/m3\")\n",
        "    aqueousZ = fluid1.getPhase(phaseNumber).getZ()\n",
        "    aqueousMolarMass = fluid1.getPhase(phaseNumber).getMolarMass() * 1000\n",
        "    aqueousEnthalpy = fluid1.getPhase(phaseNumber).getEnthalpy(\"J/mol\")\n",
        "    aqueousWtFraction = fluid1.getWtFraction(phaseNumber) * 100\n",
        "    aqueousKappa = fluid1.getPhase(phaseNumber).getGamma()\n",
        "    aqueousViscosity = fluid1.getPhase(phaseNumber).getViscosity(\"kg/msec\")\n",
        "    aqueousThermalConductivity = fluid1.getPhase(phaseNumber).getConductivity(\"W/mK\")\n",
        "    aqueousSoundSpeed = fluid1.getPhase(phaseNumber).getSoundSpeed()\n",
        "    aqueousJouleThomsonCoefficient = fluid1.getPhase(phaseNumber).getJouleThomsonCoefficient() / 1e5\n",
        "    print('aqueous fractionc ', round(aqueousFractionc,3), ' mol%')\n",
        "    print('aqueous density ', round(aqueousDensity,3), ' kg/m3')\n",
        "    print('aqueous molar mass ', round(aqueousMolarMass,3), ' kg/mol')\n",
        "    print('aqueous viscosity ', round(aqueousViscosity,6), ' kg/msec')\n"
      ],
      "execution_count": 3,
      "outputs": [
        {
          "output_type": "stream",
          "name": "stdout",
          "text": [
            "| 0                  | 1          | 2          | 3           | 4           | 5   | 6               |\n",
            "|:-------------------|:-----------|:-----------|:------------|:------------|:----|:----------------|\n",
            "|                    | total      | gas        | oil         | aqueous     |     |                 |\n",
            "| methane            | 3.33333E-1 | 9.16351E-1 | 4.64669E-3  | 5.65039E-9  |     | [mole fraction] |\n",
            "| n-heptane          | 3.33333E-1 | 6.03181E-2 | 9.94986E-1  | 4.85494E-26 |     | [mole fraction] |\n",
            "| water              | 3.33333E-1 | 2.33308E-2 | 3.67074E-4  | 1E0         |     | [mole fraction] |\n",
            "|                    |            |            |             |             |     |                 |\n",
            "| Density            |            | 8.67953E-1 | 6.91323E2   | 1.00172E3   |     | [kg/m^3]        |\n",
            "| PhaseFraction      |            | 3.62174E-1 | 3.13057E-1  | 3.24769E-1  |     | [mole fraction] |\n",
            "| MolarMass          | 4.47543E1  | 2.11655E1  | 9.97838E1   | 1.8015E1    |     | [kg/kmol]       |\n",
            "| Z factor           |            | 9.96823E-1 | 6.83802E-3  | 9.73597E-4  |     | [-]             |\n",
            "| Heat Capacity (Cp) |            | 2.0657E0   | 2.19184E0   | 4.81088E0   |     | [kJ/kg*K]       |\n",
            "| Heat Capacity (Cv) |            | 1.66667E0  | 1.91387E0   | 3.53033E0   |     | [kJ/kg*K]       |\n",
            "| Speed of Sound     |            | 3.79794E2  | 9.5344E2    | 3.45954E3   |     | [m/sec]         |\n",
            "| Enthalpy           | -5.55308E2 | 4.92796E1  | -3.27434E2  | -2.5641E3   |     | [kJ/kg]         |\n",
            "| Entropy            | -1.44208E0 | 3.06448E-1 | -8.57034E-1 | -6.85668E0  |     | [kJ/kg*K]       |\n",
            "| JT coefficient     |            | 6.1786E-1  | -5.17754E-2 | -2.17533E-2 |     | [K/bar]         |\n",
            "|                    |            |            |             |             |     |                 |\n",
            "| Viscosity          |            | 1.07574E-5 | 4.31935E-4  | 8.9153E-4   |     | [kg/m*sec]      |\n",
            "| Conductivity       |            | 3.08609E-2 | 1.11295E-1  | 6.15036E-1  |     | [W/m*K]         |\n",
            "| SurfaceTension     |            | 2.10816E-2 | 2.10816E-2  |             |     | [N/m]           |\n",
            "|                    |            |            | 5.11881E-2  | 5.11881E-2  |     | [N/m]           |\n",
            "|                    |            | 7.43659E-2 |             | 7.43659E-2  |     | [N/m]           |\n",
            "|                    |            |            |             |             |     |                 |\n",
            "| Pressure           |            | 1.01325    | 1.01325     | 1.01325     |     | [bar]           |\n",
            "| Temperature        |            | 298.15     | 298.15      | 298.15      |     | [K]             |\n",
            "|                    |            |            |             |             |     |                 |\n",
            "| Model              |            | SRK-EOS    | SRK-EOS     | SRK-EOS     |     | -               |\n",
            "| Mixing Rule        |            | classic    | classic     | classic     |     | -               |\n",
            "|                    |            |            |             |             |     |                 |\n",
            "| Stream             |            |            |             |             |     | -               |\n",
            "|                    |            |            |             |             |     |                 |\n",
            "|                    |            |            |             |             |     |                 |\n",
            "|                    |            |            |             |             |     |                 |\n",
            "|                    |            |            |             |             |     |                 |\n",
            "number of phases  3 -\n",
            "gas fractionc  36.217  mol%\n",
            "gas density  0.868  kg/m3\n",
            "gas molar mass  21.165  kg/mol\n",
            "gas viscosity  1.08e-05  kg/msec\n",
            "oil fractionc  31.306  mol%\n",
            "oil density  691.323  kg/m3\n",
            "oil molar mass  99.784  kg/mol\n",
            "oil viscosity  0.000432  kg/msec\n",
            "aqueous fractionc  32.477  mol%\n",
            "aqueous density  1001.724  kg/m3\n",
            "aqueous molar mass  18.015  kg/mol\n",
            "aqueous viscosity  0.000892  kg/msec\n"
          ]
        }
      ]
    },
    {
      "cell_type": "markdown",
      "metadata": {
        "id": "C7Sm7fsb_tuE"
      },
      "source": [
        "#Calculating gas properties of pure gas or pure liquid\n",
        "In the following exmaple we will assume that the the fluid will always be in the gas phase (hence a flash calculation is not done)."
      ]
    },
    {
      "cell_type": "code",
      "metadata": {
        "id": "gb-McTmiAG3c"
      },
      "source": [
        "gasFluid = fluid('pr') #Create a fluid uning the Peng Robinson EoS\n",
        "gasFluid.addComponent('methane', 0.9, 'mole/sec')\n",
        "gasFluid.addComponent('ethane', 0.1, 'mole/sec')\n",
        "gasFluid.setMixingRule('classic')\n",
        "\n",
        "#Initializing calcs\n",
        "gasFluid.init(0)\n",
        "gasFluid.setNumberOfPhases(1)\n",
        "gasFluid.setPhaseType(0, 'gas')\n",
        "\n",
        "#Set pressure and temperature and calculate properties\n",
        "gasFluid.setTemperature(298.15, 'K')\n",
        "gasFluid.setPressure(20.0, 'bara')\n",
        "gasFluid.initProperties()\n",
        "enthalpy1 = gasFluid.getEnthalpy(\"J/mol\")\n",
        "entropy1 = gasFluid.getEntropy(\"J/mol\")\n",
        "density1 = gasFluid.getDensity('kg/m3')\n",
        "\n",
        "#calculating properties at new conditions\n",
        "gasFluid.setTemperature(303.15, 'K')\n",
        "gasFluid.setPressure(30.0, 'bara')\n",
        "gasFluid.initProperties()\n",
        "enthalpy2 = gasFluid.getEnthalpy(\"J/mol\")\n",
        "entropy2 = gasFluid.getEntropy(\"J/mol\")\n",
        "density2 = gasFluid.getDensity('kg/m3')\n"
      ],
      "execution_count": 4,
      "outputs": []
    },
    {
      "cell_type": "markdown",
      "metadata": {
        "id": "nZfueckIEr-b"
      },
      "source": [
        "In the following exmaple we will assume that the the fluid will always be in the gas phase (hence a flash calculation is not done)."
      ]
    },
    {
      "cell_type": "code",
      "metadata": {
        "id": "-AsvfDeZDqRm"
      },
      "source": [
        "gasFluid = fluid('pr') #Create a fluid uning the Peng Robinson EoS\n",
        "gasFluid.addComponent('water', 0.9, 'mole/sec')\n",
        "gasFluid.setMixingRule('classic')\n",
        "\n",
        "#Initializing calcs\n",
        "gasFluid.init(0)\n",
        "gasFluid.setNumberOfPhases(1)\n",
        "gasFluid.setPhaseType(0, 'liquid')\n",
        "\n",
        "#Set pressure and temperature and calculate properties\n",
        "gasFluid.setTemperature(298.15, 'K')\n",
        "gasFluid.setPressure(20.0, 'bara')\n",
        "gasFluid.initProperties()\n",
        "enthalpy1 = gasFluid.getEnthalpy(\"J/mol\")\n",
        "entropy1 = gasFluid.getEntropy(\"J/mol\")\n",
        "density1 = gasFluid.getDensity('kg/m3')\n",
        "\n",
        "#calculating properties at new conditions\n",
        "gasFluid.setTemperature(303.15, 'K')\n",
        "gasFluid.setPressure(30.0, 'bara')\n",
        "gasFluid.initProperties()\n",
        "enthalpy2 = gasFluid.getEnthalpy(\"J/mol\")\n",
        "entropy2 = gasFluid.getEntropy(\"J/mol\")\n",
        "density2 = gasFluid.getDensity('kg/m3')"
      ],
      "execution_count": 5,
      "outputs": []
    },
    {
      "cell_type": "markdown",
      "metadata": {
        "id": "MhfQy7TzFNNH"
      },
      "source": [
        "#Calculating gas and liquid properties at equilibrium\n"
      ]
    },
    {
      "cell_type": "code",
      "metadata": {
        "id": "ZSYcCDeVFaxe"
      },
      "source": [
        "gasFluid = fluid('pr') #Create a fluid uning the Peng Robinson EoS\n",
        "gasFluid.addComponent('methane', 0.5, 'mole/sec')\n",
        "gasFluid.addComponent('water', 0.5, 'mole/sec')\n",
        "gasFluid.setMixingRule('classic')\n",
        "\n",
        "#Set pressure and temperature and calculate properties\n",
        "gasFluid.setTemperature(298.15, 'K')\n",
        "gasFluid.setPressure(20.0, 'bara')\n",
        "TPflash(gasFluid)\n",
        "gasFluid.initProperties()\n",
        "enthalpy1 = gasFluid.getEnthalpy(\"J/mol\")\n",
        "entropy1 = gasFluid.getEntropy(\"J/mol\")\n",
        "density1 = gasFluid.getDensity('kg/m3')\n",
        "gasEnthalpy1 = gasFluid.getPhase('gas').getEnthalpy('J/mol')\n",
        "aqueousEnthalpy1 = gasFluid.getPhase('aqueous').getEnthalpy('J/mol')\n",
        "aqueousDensity1 = gasFluid.getPhase('aqueous').getDensity('kg/m3')\n",
        "\n",
        "#calculating properties at new conditions\n",
        "gasFluid.setTemperature(303.15, 'K')\n",
        "gasFluid.setPressure(30.0, 'bara')\n",
        "TPflash(gasFluid)\n",
        "gasFluid.initProperties()\n",
        "enthalpy2 = gasFluid.getEnthalpy(\"J/mol\")\n",
        "entropy2 = gasFluid.getEntropy(\"J/mol\")\n",
        "density2 = gasFluid.getDensity('kg/m3')\n",
        "gasEnthalpy2 = gasFluid.getPhase('gas').getEnthalpy('J/mol')\n",
        "aqueousEnthalpy2 = gasFluid.getPhase('aqueous').getEnthalpy('J/mol')\n",
        "aqueousDensity2 = gasFluid.getPhase('aqueous').getDensity('kg/m3')"
      ],
      "execution_count": 6,
      "outputs": []
    },
    {
      "cell_type": "markdown",
      "metadata": {
        "id": "AR7zTgSXdPzc"
      },
      "source": [
        "# GERG2008 EoS for calculation of gas properties\n",
        "In the following example we use the GERG2008-EoS to calculate the properties of a gas phase. "
      ]
    },
    {
      "cell_type": "code",
      "metadata": {
        "colab": {
          "base_uri": "https://localhost:8080/"
        },
        "id": "kPc4OyIldflt",
        "outputId": "4be2c5d3-b32a-488c-d62d-ef9a45713fe3"
      },
      "source": [
        "gasFluid = fluid('pr') #Create a fluid uning the Peng Robinson EoS\n",
        "gasFluid.addComponent('methane', 0.9, 'mole/sec')\n",
        "gasFluid.addComponent('ethane', 0.1, 'mole/sec')\n",
        "gasFluid.setMixingRule('classic')\n",
        "\n",
        "#Set pressure and temperature and calculate properties\n",
        "gasFluid.setTemperature(20.0, 'C')\n",
        "gasFluid.setPressure(20.0, 'bara')\n",
        "TPflash(gasFluid)\n",
        "gasFluid.initProperties()\n",
        "\n",
        "properties = gasFluid.getPhase('gas').getProperties_GERG2008()\n",
        "\n",
        "print(\"Compressibility factor: \", properties[1])\n",
        "print(\"d(P)/d(rho) [kPa/(mol/l)] \", properties[2])\n",
        "print(\"d^2(P)/d(rho)^2 [kPa/(mol/l)^2]: \",properties[3])\n",
        "print(\"d2(P)/d2(T) [kPa/K]:\", properties[4])\n",
        "print(\"d(P)/d(T) [kPa/K]: \", properties[5])\n",
        "print(\"Enthalpy [J/mol]:  \", properties[7])\n",
        "print(\"Entropy [J/mol-K]: \",properties[8])\n",
        "print(\"Isochoric heat capacity [J/mol-K]:\",properties[9])\n",
        "print(\"Isobaric heat capacity [J/mol-K]: \",properties[10])\n",
        "print(\"Speed of sound [m/s]:  \",properties[11])\n",
        "print(\"Gibbs energy [J/mol]: \",properties[12])\n",
        "print(\"Joule-Thomson coefficient [K/kPa]: \" ,properties[13])\n",
        "print(\"Isentropic exponent: \",properties[14])\n",
        "\n",
        "gergDensity = gasFluid.getPhase('gas').getDensity_GERG2008()\n",
        "print(\"Density [kg/m3]: \", gergDensity)"
      ],
      "execution_count": 7,
      "outputs": [
        {
          "output_type": "stream",
          "name": "stdout",
          "text": [
            "Compressibility factor:  0.9548487127276054\n",
            "d(P)/d(rho) [kPa/(mol/l)]  2222.4812953490887\n",
            "d^2(P)/d(rho)^2 [kPa/(mol/l)^2]:  -231.76913740527033\n",
            "d2(P)/d2(T) [kPa/K]: 9.449796588261842\n",
            "d(P)/d(T) [kPa/K]:  7.634451963477322\n",
            "Enthalpy [J/mol]:   -576.4855558389515\n",
            "Entropy [J/mol-K]:  -23.68132475261732\n",
            "Isochoric heat capacity [J/mol-K]: 29.304185502070087\n",
            "Isobaric heat capacity [J/mol-K]:  39.71454692438516\n",
            "Speed of sound [m/s]:   415.52014166301075\n",
            "Gibbs energy [J/mol]:  6365.694795390817\n",
            "Joule-Thomson coefficient [K/kPa]:  0.00503429724281334\n",
            "Isentropic exponent:  1.2941926573760574\n",
            "Density [kg/m3]:  14.991989006270769\n"
          ]
        }
      ]
    },
    {
      "cell_type": "markdown",
      "source": [
        "# Calculation of properties for a list of temperatures and pressures\n",
        "In the exmaple below we calculate properties of a fluid for a range of pressures and temperatures"
      ],
      "metadata": {
        "id": "UPeP4a6ahjet"
      }
    },
    {
      "cell_type": "code",
      "source": [
        "from neqsim.thermo import fluid, createfluid, TPflash,printFrame,fluidcreator\n",
        "\n",
        "fluid1 = fluid(\"srk\", 303.15, 35.01325)\n",
        " \n",
        "fluid1.addComponent(\"nitrogen\", 0.0028941);\n",
        "fluid1.addComponent(\"CO2\", 0.054069291);\n",
        "fluid1.addComponent(\"methane\", 0.730570915);\n",
        "fluid1.addComponent(\"ethane\", 0.109004002);\n",
        "fluid1.addComponent(\"propane\", 0.061518891);\n",
        "fluid1.addComponent(\"n-butane\", 0.0164998);\n",
        "fluid1.addComponent(\"i-butane\", 0.006585);\n",
        "fluid1.addComponent(\"n-pentane\", 0.005953);\n",
        "fluid1.addComponent(\"i-pentane\", 0.0040184);\n",
        "fluid1.addTBPfraction(\"C6\", 0.6178399, 86.17801 / 1000.0, 0.6639999);\n",
        "fluid1.addComponent(\"water\", 0.27082);\n",
        "fluid1.createDatabase(True);\n",
        "fluid1.setMixingRule(2);\n",
        "fluid1.setMultiPhaseCheck(True);\n"
      ],
      "metadata": {
        "id": "vVwCV9W2hdx9"
      },
      "execution_count": 8,
      "outputs": []
    },
    {
      "cell_type": "markdown",
      "source": [
        "# Example 1"
      ],
      "metadata": {
        "id": "Vv_U2C9WhwD7"
      }
    },
    {
      "cell_type": "code",
      "source": [
        "import time, random\n",
        "\n",
        "start = time.time()\n",
        "print(\"start benchmark...\")\n",
        "\n",
        "for lp in range(15000):\n",
        "    fluid1.setTemperature(random.uniform(0.0, 100.0), 'C')\n",
        "    fluid1.setPressure(random.uniform(10.0, 100.0), 'bara')\n",
        "    TPflash(fluid1)\n",
        "    fluid1.initProperties()\n",
        "    denity = fluid1.getDensity('kg/m3')\n",
        "\n",
        "end = time.time()\n",
        "print(\"time \", (end - start), \" sec\")\n",
        "printFrame(fluid1)"
      ],
      "metadata": {
        "colab": {
          "base_uri": "https://localhost:8080/"
        },
        "id": "qXFlHaT1hx0z",
        "outputId": "0ca796d0-796e-42d5-fd1b-5f132d2ece58"
      },
      "execution_count": 13,
      "outputs": [
        {
          "output_type": "stream",
          "name": "stdout",
          "text": [
            "start benchmark...\n",
            "time  15.654478788375854  sec\n",
            "| 0                  | 1          | 2                  | 3                  | 4                  | 5   | 6               |\n",
            "|:-------------------|:-----------|:-------------------|:-------------------|:-------------------|:----|:----------------|\n",
            "|                    | total      | gas                | oil                | aqueous            |     |                 |\n",
            "| nitrogen           | 1.5396E-3  | 4.30785E-3         | 3.02309E-4         | 1.69403E-10        |     | [mole fraction] |\n",
            "| CO2                | 2.87637E-2 | 4.30622E-2         | 2.79254E-2         | 1.5648E-5          |     | [mole fraction] |\n",
            "| methane            | 3.88648E-1 | 8.75666E-1         | 2.02421E-1         | 6.1874E-8          |     | [mole fraction] |\n",
            "| ethane             | 5.79878E-2 | 5.88891E-2         | 7.2934E-2          | 6.40504E-11        |     | [mole fraction] |\n",
            "| propane            | 3.27268E-2 | 1.3049E-2          | 5.3182E-2          | 3.428E-15          |     | [mole fraction] |\n",
            "| n-butane           | 8.77755E-3 | 1.17951E-3         | 1.56454E-2         | 4.4239E-19         |     | [mole fraction] |\n",
            "| i-butane           | 3.50308E-3 | 6.74328E-4         | 6.1228E-3          | 1.46899E-19        |     | [mole fraction] |\n",
            "| n-pentane          | 3.16687E-3 | 1.42011E-4         | 5.8136E-3          | 5.37011E-23        |     | [mole fraction] |\n",
            "| i-pentane          | 2.1377E-3  | 1.26744E-4         | 3.90591E-3         | 9.15128E-23        |     | [mole fraction] |\n",
            "| C6_PC              | 3.28678E-1 | 2.68993E-3         | 6.10546E-1         | 8.20051E-18        |     | [mole fraction] |\n",
            "| water              | 1.44071E-1 | 2.13165E-4         | 1.20121E-3         | 9.99984E-1         |     | [mole fraction] |\n",
            "|                    |            |                    |                    |                    |     |                 |\n",
            "| Density            |            | 4.07044E1          | 6.15659E2          | 1.01823E3          |     | [kg/m^3]        |\n",
            "| PhaseFraction      |            | 3.19715E-1         | 5.36926E-1         | 1.4336E-1          |     | [mole fraction] |\n",
            "| MolarMass          | 4.27477E1  | 1.87732E1          | 6.3627E1           | 1.80154E1          |     | [kg/kmol]       |\n",
            "| Z factor           |            | 8.80471E-1         | 2.13708E-1         | 4.48174E-2         |     | [-]             |\n",
            "| Heat Capacity (Cp) |            | 2.39549E0          | 2.42709E0          | 4.8229E0           |     | [kJ/kg*K]       |\n",
            "| Heat Capacity (Cv) |            | 1.57315E0          | 1.94037E0          | 3.61036E0          |     | [kJ/kg*K]       |\n",
            "| Speed of Sound     |            | 3.83934E2          | 9.10791E2          | 3.718E3            |     | [m/sec]         |\n",
            "| Enthalpy           | -4.88898E2 | -4.13818E1         | -4.04651E2         | -2.6433E3          |     | [kJ/kg]         |\n",
            "| Entropy            | -1.64361E0 | -1.53255E0         | -1.24683E0         | -7.1502E0          |     | [kJ/kg*K]       |\n",
            "| JT coefficient     |            | 5.59411E-1         | -3.9674E-2         | -2.21679E-2        |     | [K/bar]         |\n",
            "|                    |            |                    |                    |                    |     |                 |\n",
            "| Viscosity          |            | 1.19406E-5         | 2.34437E-4         | 1.39897E-3         |     | [kg/m*sec]      |\n",
            "| Conductivity       |            | 3.51343E-2         | 1.06817E-1         | 5.87811E-1         |     | [W/m*K]         |\n",
            "| SurfaceTension     |            | 9.51356E-3         | 9.51356E-3         |                    |     | [N/m]           |\n",
            "|                    |            |                    | 5.04313E-2         | 5.04313E-2         |     | [N/m]           |\n",
            "|                    |            | 6.2674E-2          |                    | 6.2674E-2          |     | [N/m]           |\n",
            "|                    |            |                    |                    |                    |     |                 |\n",
            "| Pressure           |            | 44.460608427767085 | 44.460608427767085 | 44.460608427767085 |     | [bar]           |\n",
            "| Temperature        |            | 280.726342272616   | 280.726342272616   | 280.726342272616   |     | [K]             |\n",
            "|                    |            |                    |                    |                    |     |                 |\n",
            "| Model              |            | SRK-EOS            | SRK-EOS            | SRK-EOS            |     | -               |\n",
            "| Mixing Rule        |            | classic            | classic            | classic            |     | -               |\n",
            "|                    |            |                    |                    |                    |     |                 |\n",
            "| Stream             |            |                    |                    |                    |     | -               |\n",
            "|                    |            |                    |                    |                    |     |                 |\n",
            "|                    |            |                    |                    |                    |     |                 |\n",
            "|                    |            |                    |                    |                    |     |                 |\n",
            "|                    |            |                    |                    |                    |     |                 |\n"
          ]
        }
      ]
    },
    {
      "cell_type": "markdown",
      "source": [
        "# Example 2\n",
        "\n",
        "Properties are stored in the res list:\n",
        "https://github.com/equinor/neqsim/blob/master/src/main/java/neqsim/thermo/system/SystemProperties.java"
      ],
      "metadata": {
        "id": "mdWwnTpzh7_U"
      }
    },
    {
      "cell_type": "code",
      "source": [
        "from neqsim.thermo.thermoTools import fluidflashproperties\n",
        "start = time.time()\n",
        "print(\"start benchmark...\")\n",
        "\n",
        "Sp1 = [303.15] * 15000\n",
        "Sp2 = [35.01325] * 15000\n",
        "\n",
        "res = fluidflashproperties(Sp1, Sp2, 'TP', fluid1)\n",
        "\n",
        "end = time.time()\n",
        "print(\"time \", (end - start), \" sec\")\n",
        "printFrame(fluid1)\n"
      ],
      "metadata": {
        "colab": {
          "base_uri": "https://localhost:8080/"
        },
        "id": "vMTC-aggh9c6",
        "outputId": "6f575fd2-9da4-4afc-c1e1-f19698dd8539"
      },
      "execution_count": 14,
      "outputs": [
        {
          "output_type": "stream",
          "name": "stdout",
          "text": [
            "start benchmark...\n",
            "time  14.600427150726318  sec\n",
            "| 0                  | 1          | 2          | 3           | 4           | 5   | 6               |\n",
            "|:-------------------|:-----------|:-----------|:------------|:------------|:----|:----------------|\n",
            "|                    | total      | gas        | oil         | aqueous     |     |                 |\n",
            "| nitrogen           | 1.5396E-3  | 3.72093E-3 | 2.03085E-4  | 5.3483E-10  |     | [mole fraction] |\n",
            "| CO2                | 2.87637E-2 | 4.95261E-2 | 2.03023E-2  | 2.23283E-5  |     | [mole fraction] |\n",
            "| methane            | 3.88648E-1 | 8.34819E-1 | 1.37574E-1  | 2.19164E-7  |     | [mole fraction] |\n",
            "| ethane             | 5.79878E-2 | 7.71317E-2 | 5.97076E-2  | 5.94714E-10 |     | [mole fraction] |\n",
            "| propane            | 3.27268E-2 | 2.19863E-2 | 5.14963E-2  | 1.29002E-13 |     | [mole fraction] |\n",
            "| n-butane           | 8.77755E-3 | 2.37476E-3 | 1.67214E-2  | 5.04215E-17 |     | [mole fraction] |\n",
            "| i-butane           | 3.50308E-3 | 1.27767E-3 | 6.4009E-3   | 1.67078E-17 |     | [mole fraction] |\n",
            "| n-pentane          | 3.16687E-3 | 3.21665E-4 | 6.47506E-3  | 1.82465E-20 |     | [mole fraction] |\n",
            "| i-pentane          | 2.1377E-3  | 2.77047E-4 | 4.3213E-3   | 2.74085E-20 |     | [mole fraction] |\n",
            "| C6_PC              | 3.28678E-1 | 7.46058E-3 | 6.93439E-1  | 1.16776E-15 |     | [mole fraction] |\n",
            "| water              | 1.44071E-1 | 1.10398E-3 | 3.35895E-3  | 9.99977E-1  |     | [mole fraction] |\n",
            "|                    |            |            |             |             |     |                 |\n",
            "| Density            |            | 3.00866E1  | 6.09739E2   | 9.97766E2   |     | [kg/m^3]        |\n",
            "| PhaseFraction      |            | 3.88126E-1 | 4.69806E-1  | 1.42067E-1  |     | [mole fraction] |\n",
            "| MolarMass          | 4.27477E1  | 1.98841E1  | 6.91152E1   | 1.80156E1   |     | [kg/kmol]       |\n",
            "| Z factor           |            | 9.19721E-1 | 1.71119E-1  | 3.3188E-2   |     | [-]             |\n",
            "| Heat Capacity (Cp) |            | 2.23978E0  | 2.51135E0   | 4.80319E0   |     | [kJ/kg*K]       |\n",
            "| Heat Capacity (Cv) |            | 1.59283E0  | 2.02406E0   | 3.50947E0   |     | [kJ/kg*K]       |\n",
            "| Speed of Sound     |            | 3.88861E2  | 8.42774E2   | 3.4089E3    |     | [m/sec]         |\n",
            "| Enthalpy           | -4.19086E2 | 1.86211E1  | -3.5623E2   | -2.53636E3  |     | [kJ/kg]         |\n",
            "| Entropy            | -1.38473E0 | -1.09405E0 | -1.02859E0  | -6.77947E0  |     | [kJ/kg*K]       |\n",
            "| JT coefficient     |            | 5.21024E-1 | -3.49181E-2 | -2.16758E-2 |     | [K/bar]         |\n",
            "|                    |            |            |             |             |     |                 |\n",
            "| Viscosity          |            | 1.22789E-5 | 2.19592E-4  | 8.00023E-4  |     | [kg/m*sec]      |\n",
            "| Conductivity       |            | 3.5515E-2  | 1.0019E-1   | 6.22135E-1  |     | [W/m*K]         |\n",
            "| SurfaceTension     |            | 9.74704E-3 | 9.74704E-3  |             |     | [N/m]           |\n",
            "|                    |            |            | 4.7675E-2   | 4.7675E-2   |     | [N/m]           |\n",
            "|                    |            | 6.17181E-2 |             | 6.17181E-2  |     | [N/m]           |\n",
            "|                    |            |            |             |             |     |                 |\n",
            "| Pressure           |            | 35.01325   | 35.01325    | 35.01325    |     | [bar]           |\n",
            "| Temperature        |            | 303.15     | 303.15      | 303.15      |     | [K]             |\n",
            "|                    |            |            |             |             |     |                 |\n",
            "| Model              |            | SRK-EOS    | SRK-EOS     | SRK-EOS     |     | -               |\n",
            "| Mixing Rule        |            | classic    | classic     | classic     |     | -               |\n",
            "|                    |            |            |             |             |     |                 |\n",
            "| Stream             |            |            |             |             |     | -               |\n",
            "|                    |            |            |             |             |     |                 |\n",
            "|                    |            |            |             |             |     |                 |\n",
            "|                    |            |            |             |             |     |                 |\n",
            "|                    |            |            |             |             |     |                 |\n"
          ]
        }
      ]
    },
    {
      "cell_type": "code",
      "source": [
        "point = 0\n",
        "\n",
        "res.fluidProperties[point][0] #number of phases\n",
        "res.fluidProperties[point][1] #pressure [Pa]\n",
        "res.fluidProperties[point][2] #temperature [K]\n",
        "res.fluidProperties[point][5] #Mix Molar Volume [m3/mol]\n",
        "#....see: \n",
        "# class https://github.com/equinor/neqsim/blob/32ff77b5fbb29ee1e757487a63ce6c5b0b4bd931/src/main/java/neqsim/thermo/system/SystemProperties.java#L10\n"
      ],
      "metadata": {
        "id": "Ci0sPzGd6C-P",
        "outputId": "07f3237b-6231-4761-d746-981e5d3ac470",
        "colab": {
          "base_uri": "https://localhost:8080/"
        }
      },
      "execution_count": 33,
      "outputs": [
        {
          "output_type": "execute_result",
          "data": {
            "text/plain": [
              "0.00029315596556492047"
            ]
          },
          "metadata": {},
          "execution_count": 33
        }
      ]
    }
  ]
}