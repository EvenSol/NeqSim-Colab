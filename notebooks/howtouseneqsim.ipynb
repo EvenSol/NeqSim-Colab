{
  "nbformat": 4,
  "nbformat_minor": 0,
  "metadata": {
    "colab": {
      "name": "howtouseneqsim.ipynb",
      "provenance": [],
      "include_colab_link": true
    },
    "kernelspec": {
      "name": "python3",
      "display_name": "Python 3"
    }
  },
  "cells": [
    {
      "cell_type": "markdown",
      "metadata": {
        "id": "view-in-github",
        "colab_type": "text"
      },
      "source": [
        "<a href=\"https://colab.research.google.com/github/EvenSol/NeqSim-Colab/blob/master/notebooks/howtouseneqsim.ipynb\" target=\"_parent\"><img src=\"https://colab.research.google.com/assets/colab-badge.svg\" alt=\"Open In Colab\"/></a>"
      ]
    },
    {
      "cell_type": "markdown",
      "source": [
        "# How to use NeqSim\n",
        "This document is part of the module [\"Introduction to Gas Processing using NeqSim in Colab\"](https://colab.research.google.com/github/EvenSol/NeqSim-Colab/blob/master/notebooks/examples_of_NeqSim_in_Colab.ipynb#scrollTo=_eRtkQnHpL70)."
      ],
      "metadata": {
        "id": "K3nvreI3ifTc"
      }
    },
    {
      "cell_type": "code",
      "metadata": {
        "id": "em7r_nM7_Qb9"
      },
      "source": [
        "#@title Download an install neqsim python package\n",
        "#@markdown The first step of using neqsim in Colab will be to download the neqsim python package, and install it using pip. The py4j library is neccesary for using the neqsim java library from python.\n",
        "%%capture\n",
        "!pip install neqsim"
      ],
      "execution_count": 3,
      "outputs": []
    },
    {
      "cell_type": "code",
      "metadata": {
        "id": "2Fe6fiYmDP8m"
      },
      "source": [
        "#@title Import the neqsim package in python\n",
        "#@markdown This example shos how to import the neqsim package in puthon\n",
        "import neqsim\n",
        "from neqsim.thermo.thermoTools import *\n",
        "import matplotlib\n",
        "import numpy as np\n",
        "import matplotlib.pyplot as plt\n",
        "import math\n",
        "%matplotlib inline"
      ],
      "execution_count": 4,
      "outputs": []
    },
    {
      "cell_type": "code",
      "metadata": {
        "id": "9Kkz5ZeLEyRv",
        "colab": {
          "base_uri": "https://localhost:8080/"
        },
        "outputId": "7e5f3f33-1e0e-4a5e-9181-7a86018a9293"
      },
      "source": [
        "#@title  Example create a fluid in neqsim, run a TPflash, and report properties of the fluid\n",
        "#@markdown A standard calculation in neqsim will be to create a fluid and perofrm various unit operations. In this exampl we will run a TPflash for a three component fluid.\n",
        "\n",
        "eosname = 'srk' #@param [\"srk\", \"pr\", \"cpa\"]\n",
        "mixingRule = 'classic' #@param [\"classic\", \"HV\"]\n",
        "componentName1 = \"methane\" #@param [\"CO2\", \"nitrogen\", \"methane\", \"ethane\", \"propane\", \"n-hexane\", \"n-heptane\", \"water\"]\n",
        "componentName2 = \"n-heptane\" #@param [\"CO2\", \"nitrogen\", \"methane\", \"ethane\", \"propane\", \"n-hexane\", \"n-heptane\", \"water\"]\n",
        "componentName3 = \"water\" #@param [\"CO2\", \"nitrogen\", \"methane\", \"ethane\", \"propane\", \"n-hexane\", \"n-heptane\", \"water\"]\n",
        "\n",
        "molescomponent1 = 1.0 #@param {type:\"number\"}\n",
        "molescomponent2 = 1.0  #@param {type:\"number\"}\n",
        "molescomponent3 = 1.0  #@param {type:\"number\"}\n",
        "\n",
        "# Creating a fluid in neqsim\n",
        "fluid1 = fluid(eosname) #create a fluid using the SRK-EoS\n",
        "fluid1.addComponent(componentName1, molescomponent1)\n",
        "fluid1.addComponent(componentName2, molescomponent2)\n",
        "fluid1.addComponent(componentName3, molescomponent3)\n",
        "fluid1.setMixingRule(mixingRule)\n",
        "fluid1.setMultiPhaseCheck(True)\n",
        "\n",
        "TPflash(fluid1)\n",
        "fluid1.initProperties()\n",
        "\n",
        "printFrame(fluid1)\n",
        "\n",
        "print('number of phases ', fluid1.getNumberOfPhases(), '-')\n",
        "\n",
        "if fluid1.hasPhaseType(\"gas\"):\n",
        "    phaseNumber = fluid1.getPhaseNumberOfPhase(\"gas\")\n",
        "    gasFractionc = fluid1.getMoleFraction(phaseNumber) * 100\n",
        "    gasMolarVolume = 1.0 / fluid1.getPhase(phaseNumber).getDensity(\"mol/m3\")\n",
        "    gasVolumeFraction = fluid1.getCorrectedVolumeFraction(phaseNumber) * 100\n",
        "    gasDensity = fluid1.getPhase(phaseNumber).getDensity(\"kg/m3\")\n",
        "    gasZ = fluid1.getPhase(phaseNumber).getZ()\n",
        "    gasMolarMass = fluid1.getPhase(phaseNumber).getMolarMass() * 1000\n",
        "    gasEnthalpy = fluid1.getPhase(phaseNumber).getEnthalpy(\"J/mol\")\n",
        "    gasEntropy = fluid1.getPhase(phaseNumber).getEntropy(\"J/molK\")\n",
        "    gasWtFraction = fluid1.getWtFraction(phaseNumber) * 100\n",
        "    gasKappa = fluid1.getPhase(phaseNumber).getGamma()\n",
        "    gasViscosity = fluid1.getPhase(phaseNumber).getViscosity(\"kg/msec\")\n",
        "    gasThermalConductivity = fluid1.getPhase(phaseNumber).getThermalConductivity(\"W/mK\")\n",
        "    gasSoundSpeed = fluid1.getPhase(phaseNumber).getSoundSpeed()\n",
        "    gasJouleThomsonCoefficient = fluid1.getPhase(phaseNumber).getJouleThomsonCoefficient() / 1e5\n",
        "    print('gas fractionc ', round(gasFractionc,3), ' mol%')\n",
        "    print('gas density ', round(gasDensity,3), ' kg/m3')\n",
        "    print('gas molar mass ', round(gasMolarMass,3), ' kg/mol')\n",
        "    print('gas viscosity ', round(gasViscosity,7), ' kg/msec')\n",
        "\n",
        "if fluid1.hasPhaseType(\"oil\"):\n",
        "    phaseNumber = fluid1.getPhaseNumberOfPhase(\"oil\")\n",
        "    oilFractionc = fluid1.getMoleFraction(phaseNumber) * 100\n",
        "    oilMolarVolume = 1.0 / fluid1.getPhase(phaseNumber).getDensity(\"mol/m3\")\n",
        "    oilVolumeFraction = fluid1.getCorrectedVolumeFraction(phaseNumber) * 100\n",
        "    oilDensity = fluid1.getPhase(phaseNumber).getDensity(\"kg/m3\")\n",
        "    oilZ = fluid1.getPhase(phaseNumber).getZ()\n",
        "    oilMolarMass = fluid1.getPhase(phaseNumber).getMolarMass() * 1000\n",
        "    oilEnthalpy = fluid1.getPhase(phaseNumber).getEnthalpy(\"J/mol\")\n",
        "    oilWtFraction = fluid1.getWtFraction(phaseNumber) * 100\n",
        "    oilKappa = fluid1.getPhase(phaseNumber).getGamma()\n",
        "    oilViscosity = fluid1.getPhase(phaseNumber).getViscosity(\"kg/msec\")\n",
        "    oilThermalConductivity = fluid1.getPhase(phaseNumber).getThermalConductivity(\"W/mK\")\n",
        "    oilSoundSpeed = fluid1.getPhase(phaseNumber).getSoundSpeed()\n",
        "    oilJouleThomsonCoefficient = fluid1.getPhase(phaseNumber).getJouleThomsonCoefficient() / 1e5\n",
        "    print('oil fractionc ', round(oilFractionc,3), ' mol%')\n",
        "    print('oil density ', round(oilDensity,3), ' kg/m3')\n",
        "    print('oil molar mass ', round(oilMolarMass,3), ' kg/mol')\n",
        "    print('oil viscosity ', round(oilViscosity,6), ' kg/msec')\n",
        "\n",
        "if fluid1.hasPhaseType(\"aqueous\"):\n",
        "    phaseNumber = fluid1.getPhaseNumberOfPhase(\"aqueous\")\n",
        "    aqueousFractionc = fluid1.getMoleFraction(phaseNumber) * 100\n",
        "    aqueousMolarVolume = 1.0 / fluid1.getPhase(phaseNumber).getDensity(\"mol/m3\")\n",
        "    aqueousVolumeFraction = fluid1.getCorrectedVolumeFraction(phaseNumber) * 100\n",
        "    aqueousDensity = fluid1.getPhase(phaseNumber).getDensity(\"kg/m3\")\n",
        "    aqueousZ = fluid1.getPhase(phaseNumber).getZ()\n",
        "    aqueousMolarMass = fluid1.getPhase(phaseNumber).getMolarMass() * 1000\n",
        "    aqueousEnthalpy = fluid1.getPhase(phaseNumber).getEnthalpy(\"J/mol\")\n",
        "    aqueousWtFraction = fluid1.getWtFraction(phaseNumber) * 100\n",
        "    aqueousKappa = fluid1.getPhase(phaseNumber).getGamma()\n",
        "    aqueousViscosity = fluid1.getPhase(phaseNumber).getViscosity(\"kg/msec\")\n",
        "    aqueousThermalConductivity = fluid1.getPhase(phaseNumber).getThermalConductivity(\"W/mK\")\n",
        "    aqueousSoundSpeed = fluid1.getPhase(phaseNumber).getSoundSpeed()\n",
        "    aqueousJouleThomsonCoefficient = fluid1.getPhase(phaseNumber).getJouleThomsonCoefficient() / 1e5\n",
        "    print('aqueous fractionc ', round(aqueousFractionc,3), ' mol%')\n",
        "    print('aqueous density ', round(aqueousDensity,3), ' kg/m3')\n",
        "    print('aqueous molar mass ', round(aqueousMolarMass,3), ' kg/mol')\n",
        "    print('aqueous viscosity ', round(aqueousViscosity,6), ' kg/msec')\n"
      ],
      "execution_count": 5,
      "outputs": [
        {
          "output_type": "stream",
          "name": "stdout",
          "text": [
            "| 0                    | 1          | 2          | 3           | 4           | 5   | 6               |\n",
            "|:---------------------|:-----------|:-----------|:------------|:------------|:----|:----------------|\n",
            "|                      | total      | GAS        | OIL         | AQUEOUS     |     |                 |\n",
            "| methane              | 3.33333E-1 | 9.16351E-1 | 4.64669E-3  | 5.65039E-9  |     | [mole fraction] |\n",
            "| n-heptane            | 3.33333E-1 | 6.03181E-2 | 9.94986E-1  | 4.85494E-26 |     | [mole fraction] |\n",
            "| water                | 3.33333E-1 | 2.33308E-2 | 3.67074E-4  | 1E0         |     | [mole fraction] |\n",
            "|                      |            |            |             |             |     |                 |\n",
            "| Density              |            | 8.67953E-1 | 6.91323E2   | 1.00172E3   |     | kg/m3           |\n",
            "| Phase Fraction       |            | 3.62174E-1 | 3.13057E-1  | 3.24769E-1  |     | [mole fraction] |\n",
            "| Molar Mass           | 4.47543E-2 | 2.11655E-2 | 9.97838E-2  | 1.8015E-2   |     | kg/mol          |\n",
            "| Z factor             |            | 9.96735E-1 | 5.89965E-3  | 7.35079E-4  |     | [-]             |\n",
            "| Heat Capacity (Cp)   |            | 2.06602E0  | 2.19192E0   | 4.81092E0   |     | kJ/kgK          |\n",
            "| Heat Capacity (Cv)   |            | 1.66699E0  | 1.91395E0   | 3.53037E0   |     | kJ/kgK          |\n",
            "| Speed of Sound       |            | 3.79786E2  | 9.53438E2   | 3.45954E3   |     | m/sec           |\n",
            "| Enthalpy             | -5.55306E5 | 4.92866E4  | -3.27433E5  | -2.5641E6   |     | J/kg            |\n",
            "| Entropy              | -1.44207E3 | 3.06473E2  | -8.57028E2  | -6.85667E3  |     | J/kgK           |\n",
            "| JT coefficient       |            | 6.17765E-1 | -5.17736E-2 | -2.17531E-2 |     | C/bar           |\n",
            "|                      |            |            |             |             |     |                 |\n",
            "| Viscosity            |            | 1.07574E-5 | 4.31935E-4  | 8.91546E-4  |     | kg/msec         |\n",
            "| Thermal Conductivity |            | 3.08629E-2 | 1.11295E-1  | 6.15036E-1  |     | W/mK            |\n",
            "| Surface Tension      |            | 2.10816E-2 | 2.10816E-2  |             |     | [N/m]           |\n",
            "|                      |            |            | 5.11881E-2  | 5.11881E-2  |     | [N/m]           |\n",
            "|                      |            | 7.43659E-2 |             | 7.43659E-2  |     | [N/m]           |\n",
            "|                      |            |            |             |             |     |                 |\n",
            "| Pressure             |            | 1.01325    | 1.01325     | 1.01325     |     | bara            |\n",
            "| Temperature          |            | 25.0       | 25.0        | 25.0        |     | C               |\n",
            "|                      |            |            |             |             |     |                 |\n",
            "| Model                |            | SRK-EOS    | SRK-EOS     | SRK-EOS     |     | -               |\n",
            "| Mixing Rule          |            | classic    | classic     | classic     |     | -               |\n",
            "|                      |            |            |             |             |     |                 |\n",
            "| Stream               |            |            |             |             |     | -               |\n",
            "|                      |            |            |             |             |     |                 |\n",
            "|                      |            |            |             |             |     |                 |\n",
            "|                      |            |            |             |             |     |                 |\n",
            "|                      |            |            |             |             |     |                 |\n",
            "number of phases  3 -\n",
            "gas fractionc  36.217  mol%\n",
            "gas density  0.868  kg/m3\n",
            "gas molar mass  21.165  kg/mol\n",
            "gas viscosity  1.08e-05  kg/msec\n",
            "oil fractionc  31.306  mol%\n",
            "oil density  691.323  kg/m3\n",
            "oil molar mass  99.784  kg/mol\n",
            "oil viscosity  0.000432  kg/msec\n",
            "aqueous fractionc  32.477  mol%\n",
            "aqueous density  1001.724  kg/m3\n",
            "aqueous molar mass  18.015  kg/mol\n",
            "aqueous viscosity  0.000892  kg/msec\n"
          ]
        }
      ]
    },
    {
      "cell_type": "markdown",
      "metadata": {
        "id": "C7Sm7fsb_tuE"
      },
      "source": [
        "#Calculating properties of pure gas or pure liquid\n",
        "In the following exmaple we will assume that the the fluid will always be in the gas phase (hence a flash calculation is not done)."
      ]
    },
    {
      "cell_type": "code",
      "metadata": {
        "id": "gb-McTmiAG3c"
      },
      "source": [
        "gasFluid = fluid('pr') #Create a fluid uning the Peng Robinson EoS\n",
        "gasFluid.addComponent('methane', 0.9, 'mole/sec')\n",
        "gasFluid.addComponent('ethane', 0.1, 'mole/sec')\n",
        "gasFluid.setMixingRule('classic')\n",
        "\n",
        "#Initializing calcs\n",
        "gasFluid.init(0)\n",
        "gasFluid.setNumberOfPhases(1)\n",
        "gasFluid.setPhaseType(0, 'GAS')\n",
        "\n",
        "#Set pressure and temperature and calculate properties\n",
        "gasFluid.setTemperature(298.15, 'K')\n",
        "gasFluid.setPressure(20.0, 'bara')\n",
        "gasFluid.initProperties()\n",
        "enthalpy1 = gasFluid.getEnthalpy(\"J/mol\")\n",
        "entropy1 = gasFluid.getEntropy(\"J/molK\")\n",
        "density1 = gasFluid.getDensity('kg/m3')\n",
        "\n",
        "#calculating properties at new conditions\n",
        "gasFluid.setTemperature(303.15, 'K')\n",
        "gasFluid.setPressure(30.0, 'bara')\n",
        "gasFluid.initProperties()\n",
        "enthalpy2 = gasFluid.getEnthalpy(\"J/mol\")\n",
        "entropy2 = gasFluid.getEntropy(\"J/molK\")\n",
        "density2 = gasFluid.getDensity('kg/m3')\n"
      ],
      "execution_count": 6,
      "outputs": []
    },
    {
      "cell_type": "markdown",
      "source": [
        "#Flash calculations for pure phases\n",
        "In some cases we know that we will only have one phase at all times. In such cases the search for more than one phase can be omitted, and a significant speedup will be obtained. Such a flash calculation is done in the following way:"
      ],
      "metadata": {
        "id": "XeUnCzYYe1WS"
      }
    },
    {
      "cell_type": "code",
      "source": [
        "gasFluid = fluid('pr') #Create a fluid uning the Peng Robinson EoS\n",
        "gasFluid.addComponent('methane', 0.9, 'mole/sec')\n",
        "gasFluid.addComponent('ethane', 0.1, 'mole/sec')\n",
        "gasFluid.setMixingRule('classic')\n",
        "gasFluid.setTotalFlowRate(5.0, 'MSm3/day')\n",
        "\n",
        "#Initializing calcs\n",
        "gasFluid.init(0)\n",
        "gasFluid.setNumberOfPhases(1)\n",
        "gasFluid.setMaxNumberOfPhases(1)\n",
        "gasFluid.setForcePhaseTypes(True)\n",
        "gasFluid.setPhaseType(0, 'GAS')\n",
        "\n",
        "#Set pressure and temperature and calculate properties\n",
        "gasFluid.setTemperature(298.15, 'K')\n",
        "gasFluid.setPressure(20.0, 'bara')\n",
        "#Calculate properties at given temperature and pressure\n",
        "gasFluid.initProperties()\n",
        "enthalpy1 = gasFluid.getEnthalpy(\"J/mol\")\n",
        "entropy1 = gasFluid.getEntropy(\"J/molK\")\n",
        "density1 = gasFluid.getDensity('kg/m3')\n",
        "\n",
        "#set new pressure\n",
        "gasFluid.setPressure(50.0)\n",
        "\n",
        "#run a flash at new pressure and given entropy/enthalpy\n",
        "PSflash(gasFluid, entropy=entropy1, unit='J/molK')\n",
        "print('isentropic temperature ', gasFluid.getTemperature('C'))\n",
        "PHflash(gasFluid, enthalpy=enthalpy1, unit='J/mol')\n",
        "print('isenthalpic temperature ', gasFluid.getTemperature('C'))"
      ],
      "metadata": {
        "id": "rT10YNDjfJXL",
        "outputId": "93e3d034-bc81-48ca-9363-ad0a982d0278",
        "colab": {
          "base_uri": "https://localhost:8080/"
        }
      },
      "execution_count": 7,
      "outputs": [
        {
          "output_type": "stream",
          "name": "stdout",
          "text": [
            "isentropic temperature  93.62494139346848\n",
            "isenthalpic temperature  39.816041498742436\n"
          ]
        }
      ]
    },
    {
      "cell_type": "markdown",
      "metadata": {
        "id": "MhfQy7TzFNNH"
      },
      "source": [
        "#Calculating gas and liquid properties at equilibrium\n"
      ]
    },
    {
      "cell_type": "code",
      "metadata": {
        "id": "ZSYcCDeVFaxe"
      },
      "source": [
        "gasFluid = fluid('pr') #Create a fluid uning the Peng Robinson EoS\n",
        "gasFluid.addComponent('methane', 0.5, 'mole/sec')\n",
        "gasFluid.addComponent('water', 0.5, 'mole/sec')\n",
        "gasFluid.setMixingRule('classic')\n",
        "\n",
        "#Set pressure and temperature and calculate properties\n",
        "gasFluid.setTemperature(298.15, 'K')\n",
        "gasFluid.setPressure(20.0, 'bara')\n",
        "TPflash(gasFluid)\n",
        "gasFluid.initProperties()\n",
        "enthalpy1 = gasFluid.getEnthalpy(\"J/mol\")\n",
        "entropy1 = gasFluid.getEntropy(\"J/molK\")\n",
        "density1 = gasFluid.getDensity('kg/m3')\n",
        "gasEnthalpy1 = gasFluid.getPhase('gas').getEnthalpy('J/mol')\n",
        "aqueousEnthalpy1 = gasFluid.getPhase('aqueous').getEnthalpy('J/mol')\n",
        "aqueousDensity1 = gasFluid.getPhase('aqueous').getDensity('kg/m3')\n",
        "\n",
        "#calculating properties at new conditions\n",
        "gasFluid.setTemperature(303.15, 'K')\n",
        "gasFluid.setPressure(30.0, 'bara')\n",
        "TPflash(gasFluid)\n",
        "gasFluid.initProperties()\n",
        "enthalpy2 = gasFluid.getEnthalpy(\"J/mol\")\n",
        "entropy2 = gasFluid.getEntropy(\"J/molK\")\n",
        "density2 = gasFluid.getDensity('kg/m3')\n",
        "gasEnthalpy2 = gasFluid.getPhase('gas').getEnthalpy('J/mol')\n",
        "aqueousEnthalpy2 = gasFluid.getPhase('aqueous').getEnthalpy('J/mol')\n",
        "aqueousDensity2 = gasFluid.getPhase('aqueous').getDensity('kg/m3')"
      ],
      "execution_count": 8,
      "outputs": []
    },
    {
      "cell_type": "markdown",
      "metadata": {
        "id": "AR7zTgSXdPzc"
      },
      "source": [
        "# GERG2008 EoS for calculation of gas properties\n",
        "In the following example we use the GERG2008-EoS to calculate the properties of a gas phase."
      ]
    },
    {
      "cell_type": "code",
      "metadata": {
        "colab": {
          "base_uri": "https://localhost:8080/"
        },
        "id": "kPc4OyIldflt",
        "outputId": "4c7fa197-fdd3-4f81-ef53-61f0066476ca"
      },
      "source": [
        "gasFluid = fluid('pr') #Create a fluid uning the Peng Robinson EoS\n",
        "gasFluid.addComponent('methane', 0.9, 'mole/sec')\n",
        "gasFluid.addComponent('ethane', 0.1, 'mole/sec')\n",
        "gasFluid.setMixingRule('classic')\n",
        "\n",
        "#Set pressure and temperature and calculate properties\n",
        "gasFluid.setTemperature(20.0, 'C')\n",
        "gasFluid.setPressure(20.0, 'bara')\n",
        "TPflash(gasFluid)\n",
        "gasFluid.initProperties()\n",
        "\n",
        "print('results using PR-EoS')\n",
        "print(\"Compressibility factor: \", gasFluid.getZ())\n",
        "print(\"Density: \", gasFluid.getDensity('kg/m3'))\n",
        "print(\"Isobaric heat capacity [J/mol-K]: \", gasFluid.getCp('J/molK'))\n",
        "print(\"Isochoric heat capacity [J/mol-K]: \", gasFluid.getCv('J/molK'))\n",
        "print(\"Speed of Sound: \", gasFluid.getSoundSpeed())\n",
        "print(\"Joule-Thomson coefficient [K/kPa]: \", gasFluid.getJouleThomsonCoefficient()/100.0)\n",
        "\n",
        "\n",
        "print('-----------------------------------------------------')\n",
        "properties = gasFluid.getPhase('gas').getProperties_GERG2008()\n",
        "\n",
        "print('results using GERG-2008')\n",
        "print(\"Compressibility factor: \", properties[1])\n",
        "print(\"d(P)/d(rho) [kPa/(mol/l)] \", properties[2])\n",
        "print(\"d^2(P)/d(rho)^2 [kPa/(mol/l)^2]: \",properties[3])\n",
        "print(\"d2(P)/d2(T) [kPa/K]:\", properties[4])\n",
        "print(\"d(P)/d(T) [kPa/K]: \", properties[5])\n",
        "print(\"Enthalpy [J/mol]:  \", properties[7])\n",
        "print(\"Entropy [J/mol-K]: \",properties[8])\n",
        "print(\"Isochoric heat capacity [J/mol-K]:\",properties[9])\n",
        "print(\"Isobaric heat capacity [J/mol-K]: \",properties[10])\n",
        "print(\"Speed of sound [m/s]:  \",properties[11])\n",
        "print(\"Gibbs energy [J/mol]: \",properties[12])\n",
        "print(\"Joule-Thomson coefficient [K/kPa]: \" ,properties[13])\n",
        "print(\"Isentropic exponent: \",properties[14])\n",
        "\n",
        "gergDensity = gasFluid.getPhase('gas').getDensity_GERG2008()\n",
        "print(\"Density [kg/m3]: \", gergDensity)"
      ],
      "execution_count": 9,
      "outputs": [
        {
          "output_type": "stream",
          "name": "stdout",
          "text": [
            "results using PR-EoS\n",
            "Compressibility factor:  0.9449345223530935\n",
            "Density:  15.081078234719067\n",
            "Isobaric heat capacity [J/mol-K]:  39.79781324583209\n",
            "Isochoric heat capacity [J/mol-K]:  29.195724859489275\n",
            "Speed of Sound:  412.6601202256086\n",
            "Joule-Thomson coefficient [K/kPa]:  0.005619096887885961\n",
            "-----------------------------------------------------\n",
            "results using GERG-2008\n",
            "Compressibility factor:  0.9548487127276054\n",
            "d(P)/d(rho) [kPa/(mol/l)]  2222.4812953490887\n",
            "d^2(P)/d(rho)^2 [kPa/(mol/l)^2]:  -231.76913740527033\n",
            "d2(P)/d2(T) [kPa/K]: 9.449796588261842\n",
            "d(P)/d(T) [kPa/K]:  7.634451963477322\n",
            "Enthalpy [J/mol]:   -576.4855558389515\n",
            "Entropy [J/mol-K]:  -23.68132475261732\n",
            "Isochoric heat capacity [J/mol-K]: 29.304185502070087\n",
            "Isobaric heat capacity [J/mol-K]:  39.71454692438516\n",
            "Speed of sound [m/s]:   415.52014166301075\n",
            "Gibbs energy [J/mol]:  6365.694795390817\n",
            "Joule-Thomson coefficient [K/kPa]:  0.00503429724281334\n",
            "Isentropic exponent:  1.2941926573760574\n",
            "Density [kg/m3]:  14.991989006270769\n"
          ]
        }
      ]
    },
    {
      "cell_type": "markdown",
      "source": [
        "# Calculation of properties for a list of temperatures and pressures\n",
        "In the exmaple below we calculate properties of a fluid for a range of pressures and temperatures"
      ],
      "metadata": {
        "id": "UPeP4a6ahjet"
      }
    },
    {
      "cell_type": "code",
      "source": [
        "from neqsim.thermo import fluid, createfluid, TPflash,printFrame,fluidcreator\n",
        "\n",
        "fluid1 = fluid(\"srk\", 303.15, 35.01325)\n",
        "\n",
        "fluid1.addComponent(\"nitrogen\", 0.0028941);\n",
        "fluid1.addComponent(\"CO2\", 0.054069291);\n",
        "fluid1.addComponent(\"methane\", 0.730570915);\n",
        "fluid1.addComponent(\"ethane\", 0.109004002);\n",
        "fluid1.addComponent(\"propane\", 0.061518891);\n",
        "fluid1.addComponent(\"n-butane\", 0.0164998);\n",
        "fluid1.addComponent(\"i-butane\", 0.006585);\n",
        "fluid1.addComponent(\"n-pentane\", 0.005953);\n",
        "fluid1.addComponent(\"i-pentane\", 0.0040184);\n",
        "fluid1.addTBPfraction(\"C6\", 0.6178399, 86.17801 / 1000.0, 0.6639999);\n",
        "fluid1.addComponent(\"water\", 0.27082);\n",
        "fluid1.createDatabase(True);\n",
        "fluid1.setMixingRule(2);\n",
        "fluid1.setMultiPhaseCheck(True);\n"
      ],
      "metadata": {
        "id": "vVwCV9W2hdx9"
      },
      "execution_count": 10,
      "outputs": []
    },
    {
      "cell_type": "markdown",
      "source": [
        "# Example 1"
      ],
      "metadata": {
        "id": "Vv_U2C9WhwD7"
      }
    },
    {
      "cell_type": "code",
      "source": [
        "import time, random\n",
        "\n",
        "start = time.time()\n",
        "print(\"start benchmark...\")\n",
        "\n",
        "for lp in range(15000):\n",
        "    fluid1.setTemperature(random.uniform(0.0, 100.0), 'C')\n",
        "    fluid1.setPressure(random.uniform(10.0, 100.0), 'bara')\n",
        "    TPflash(fluid1)\n",
        "    fluid1.initProperties()\n",
        "    denity = fluid1.getDensity('kg/m3')\n",
        "\n",
        "end = time.time()\n",
        "print(\"time \", (end - start), \" sec\")\n",
        "printFrame(fluid1)"
      ],
      "metadata": {
        "colab": {
          "base_uri": "https://localhost:8080/"
        },
        "id": "qXFlHaT1hx0z",
        "outputId": "fc9dfc55-7a03-4caa-b326-ebee55f1cc47"
      },
      "execution_count": 11,
      "outputs": [
        {
          "output_type": "stream",
          "name": "stdout",
          "text": [
            "start benchmark...\n",
            "time  37.109516620635986  sec\n",
            "| 0                    | 1          | 2                  | 3                  | 4                  | 5   | 6               |\n",
            "|:---------------------|:-----------|:-------------------|:-------------------|:-------------------|:----|:----------------|\n",
            "|                      | total      | GAS                | OIL                | AQUEOUS            |     |                 |\n",
            "| nitrogen             | 1.5396E-3  | 3.55932E-3         | 2.10309E-4         | 1.62364E-9         |     | [mole fraction] |\n",
            "| CO2                  | 2.87637E-2 | 5.05726E-2         | 1.81369E-2         | 3.21479E-5         |     | [mole fraction] |\n",
            "| methane              | 3.88648E-1 | 8.11447E-1         | 1.30806E-1         | 6.63103E-7         |     | [mole fraction] |\n",
            "| ethane               | 5.79878E-2 | 8.28244E-2         | 5.36637E-2         | 2.96329E-9         |     | [mole fraction] |\n",
            "| propane              | 3.27268E-2 | 2.71789E-2         | 4.77541E-2         | 1.58458E-12        |     | [mole fraction] |\n",
            "| n-butane             | 8.77755E-3 | 3.42529E-3         | 1.6258E-2          | 1.329E-15          |     | [mole fraction] |\n",
            "| i-butane             | 3.50308E-3 | 1.75108E-3         | 6.14562E-3         | 4.39827E-16        |     | [mole fraction] |\n",
            "| n-pentane            | 3.16687E-3 | 5.30901E-4         | 6.49513E-3         | 1.04386E-18        |     | [mole fraction] |\n",
            "| i-pentane            | 2.1377E-3  | 4.41143E-4         | 4.31045E-3         | 1.43122E-18        |     | [mole fraction] |\n",
            "| C6_PC                | 3.28678E-1 | 1.53276E-2         | 7.09615E-1         | 5.9547E-14         |     | [mole fraction] |\n",
            "| water                | 1.44071E-1 | 2.94168E-3         | 6.60458E-3         | 9.99967E-1         |     | [mole fraction] |\n",
            "|                      |            |                    |                    |                    |     |                 |\n",
            "| Density              |            | 3.13508E1          | 5.93046E2          | 9.80116E2          |     | kg/m3           |\n",
            "| Phase Fraction       |            | 4.05705E-1         | 4.54415E-1         | 1.3988E-1          |     | [mole fraction] |\n",
            "| Molar Mass           | 4.27477E-2 | 2.07774E-2         | 6.99761E-2         | 1.80158E-2         |     | kg/mol          |\n",
            "| Z factor             |            | 9.22893E-1         | 1.64313E-1         | 2.55969E-2         |     | [-]             |\n",
            "| Heat Capacity (Cp)   |            | 2.25664E0          | 2.60371E0          | 4.79945E0          |     | kJ/kgK          |\n",
            "| Heat Capacity (Cv)   |            | 1.64118E0          | 2.08017E0          | 3.43446E0          |     | kJ/kgK          |\n",
            "| Speed of Sound       |            | 3.89746E2          | 7.68183E2          | 3.1831E3           |     | m/sec           |\n",
            "| Enthalpy             | -3.64749E5 | 5.46016E4          | -3.10839E5         | -2.4477E6          |     | J/kg            |\n",
            "| Entropy              | -1.21705E3 | -9.11738E2         | -8.79576E2         | -6.49652E3         |     | J/kgK           |\n",
            "| JT coefficient       |            | 4.79325E-1         | -2.79882E-2        | -2.11162E-2        |     | C/bar           |\n",
            "|                      |            |                    |                    |                    |     |                 |\n",
            "| Viscosity            |            | 1.28428E-5         | 1.90759E-4         | 5.58886E-4         |     | kg/msec         |\n",
            "| Thermal Conductivity |            | 3.72765E-2         | 9.55706E-2         | 6.45523E-1         |     | W/mK            |\n",
            "| Surface Tension      |            | 8.537E-3           | 8.537E-3           |                    |     | [N/m]           |\n",
            "|                      |            |                    | 4.47973E-2         | 4.47973E-2         |     | [N/m]           |\n",
            "|                      |            | 5.7031E-2          |                    | 5.7031E-2          |     | [N/m]           |\n",
            "|                      |            |                    |                    |                    |     |                 |\n",
            "| Pressure             |            | 37.23083407697483  | 37.23083407697483  | 37.23083407697483  |     | bara            |\n",
            "| Temperature          |            | 48.407522411622836 | 48.407522411622836 | 48.407522411622836 |     | C               |\n",
            "|                      |            |                    |                    |                    |     |                 |\n",
            "| Model                |            | SRK-EOS            | SRK-EOS            | SRK-EOS            |     | -               |\n",
            "| Mixing Rule          |            | classic            | classic            | classic            |     | -               |\n",
            "|                      |            |                    |                    |                    |     |                 |\n",
            "| Stream               |            |                    |                    |                    |     | -               |\n",
            "|                      |            |                    |                    |                    |     |                 |\n",
            "|                      |            |                    |                    |                    |     |                 |\n",
            "|                      |            |                    |                    |                    |     |                 |\n",
            "|                      |            |                    |                    |                    |     |                 |\n"
          ]
        }
      ]
    },
    {
      "cell_type": "markdown",
      "source": [
        "# Example 2\n",
        "\n",
        "Properties are stored in the res list:\n",
        "https://github.com/equinor/neqsim/blob/master/src/main/java/neqsim/thermo/system/SystemProperties.java"
      ],
      "metadata": {
        "id": "mdWwnTpzh7_U"
      }
    },
    {
      "cell_type": "code",
      "source": [
        "from neqsim.thermo.thermoTools import fluidflashproperties\n",
        "start = time.time()\n",
        "print(\"start benchmark...\")\n",
        "\n",
        "Sp1 = [303.15] * 15000\n",
        "Sp2 = [35.01325] * 15000\n",
        "\n",
        "res = fluidflashproperties(Sp1, Sp2, 'TP', fluid1)\n",
        "\n",
        "end = time.time()\n",
        "print(\"time \", (end - start), \" sec\")\n",
        "printFrame(fluid1)\n"
      ],
      "metadata": {
        "colab": {
          "base_uri": "https://localhost:8080/"
        },
        "id": "vMTC-aggh9c6",
        "outputId": "f7b7b858-28c6-4ee9-eda3-f1a39e133831"
      },
      "execution_count": 12,
      "outputs": [
        {
          "output_type": "stream",
          "name": "stdout",
          "text": [
            "start benchmark...\n",
            "time  20.278740882873535  sec\n",
            "| 0                    | 1          | 2          | 3           | 4           | 5   | 6               |\n",
            "|:---------------------|:-----------|:-----------|:------------|:------------|:----|:----------------|\n",
            "|                      | total      | GAS        | OIL         | AQUEOUS     |     |                 |\n",
            "| nitrogen             | 1.5396E-3  | 3.71407E-3 | 1.99251E-4  | 5.33872E-10 |     | [mole fraction] |\n",
            "| CO2                  | 2.87637E-2 | 4.95479E-2 | 2.02046E-2  | 2.23378E-5  |     | [mole fraction] |\n",
            "| methane              | 3.88648E-1 | 8.34447E-1 | 1.35991E-1  | 2.1907E-7   |     | [mole fraction] |\n",
            "| ethane               | 5.79878E-2 | 7.7316E-2  | 5.95057E-2  | 5.96101E-10 |     | [mole fraction] |\n",
            "| propane              | 3.27268E-2 | 2.20742E-2 | 5.15019E-2  | 1.29502E-13 |     | [mole fraction] |\n",
            "| n-butane             | 8.77755E-3 | 2.3842E-3  | 1.6752E-2   | 5.06131E-17 |     | [mole fraction] |\n",
            "| i-butane             | 3.50308E-3 | 1.28472E-3 | 6.40876E-3  | 1.67972E-17 |     | [mole fraction] |\n",
            "| n-pentane            | 3.16687E-3 | 3.22833E-4 | 6.49059E-3  | 1.83084E-20 |     | [mole fraction] |\n",
            "| i-pentane            | 2.1377E-3  | 2.7828E-4  | 4.33112E-3  | 2.75242E-20 |     | [mole fraction] |\n",
            "| C6_PC                | 3.28678E-1 | 7.5264E-3  | 6.95225E-1  | 2.01424E-15 |     | [mole fraction] |\n",
            "| water                | 1.44071E-1 | 1.10401E-3 | 3.38995E-3  | 9.99977E-1  |     | [mole fraction] |\n",
            "|                      |            |            |             |             |     |                 |\n",
            "| Density              |            | 3.01055E1  | 6.10591E2   | 9.97766E2   |     | kg/m3           |\n",
            "| Phase Fraction       |            | 3.89395E-1 | 4.68549E-1  | 1.42056E-1  |     | [mole fraction] |\n",
            "| Molar Mass           | 4.27477E-2 | 1.98951E-2 | 6.92381E-2  | 1.80156E-2  |     | kg/mol          |\n",
            "| Z factor             |            | 9.17996E-1 | 1.5752E-1   | 2.50819E-2  |     | [-]             |\n",
            "| Heat Capacity (Cp)   |            | 2.24002E0  | 2.50424E0   | 4.80323E0   |     | kJ/kgK          |\n",
            "| Heat Capacity (Cv)   |            | 1.59324E0  | 2.01795E0   | 3.50952E0   |     | kJ/kgK          |\n",
            "| Speed of Sound       |            | 3.88687E2  | 8.43691E2   | 3.4089E3    |     | m/sec           |\n",
            "| Enthalpy             | -4.19053E5 | 1.86123E4  | -3.56539E5  | -2.53636E6  |     | J/kg            |\n",
            "| Entropy              | -1.38551E3 | -1.0929E3  | -1.02988E3  | -6.77947E3  |     | J/kgK           |\n",
            "| JT coefficient       |            | 5.21126E-1 | -3.46875E-2 | -2.16756E-2 |     | C/bar           |\n",
            "|                      |            |            |             |             |     |                 |\n",
            "| Viscosity            |            | 1.22807E-5 | 2.21482E-4  | 8.00038E-4  |     | kg/msec         |\n",
            "| Thermal Conductivity |            | 3.55168E-2 | 1.008E-1    | 6.22135E-1  |     | W/mK            |\n",
            "| Surface Tension      |            | 9.79426E-3 | 9.79426E-3  |             |     | [N/m]           |\n",
            "|                      |            |            | 4.76544E-2  | 4.76544E-2  |     | [N/m]           |\n",
            "|                      |            | 6.17137E-2 |             | 6.17137E-2  |     | [N/m]           |\n",
            "|                      |            |            |             |             |     |                 |\n",
            "| Pressure             |            | 35.01325   | 35.01325    | 35.01325    |     | bara            |\n",
            "| Temperature          |            | 30.0       | 30.0        | 30.0        |     | C               |\n",
            "|                      |            |            |             |             |     |                 |\n",
            "| Model                |            | SRK-EOS    | SRK-EOS     | SRK-EOS     |     | -               |\n",
            "| Mixing Rule          |            | classic    | classic     | classic     |     | -               |\n",
            "|                      |            |            |             |             |     |                 |\n",
            "| Stream               |            |            |             |             |     | -               |\n",
            "|                      |            |            |             |             |     |                 |\n",
            "|                      |            |            |             |             |     |                 |\n",
            "|                      |            |            |             |             |     |                 |\n",
            "|                      |            |            |             |             |     |                 |\n"
          ]
        }
      ]
    },
    {
      "cell_type": "code",
      "source": [
        "point = 0\n",
        "\n",
        "res.fluidProperties[point][0] #number of phases\n",
        "res.fluidProperties[point][1] #pressure [Pa]\n",
        "res.fluidProperties[point][2] #temperature [K]\n",
        "res.fluidProperties[point][5] #Mix Molar Volume [m3/mol]\n",
        "#....see:\n",
        "# class https://github.com/equinor/neqsim/blob/32ff77b5fbb29ee1e757487a63ce6c5b0b4bd931/src/main/java/neqsim/thermo/system/SystemProperties.java#L10\n"
      ],
      "metadata": {
        "id": "Ci0sPzGd6C-P",
        "outputId": "427d0252-5c3e-4a0e-9507-acaf5cd77c2e",
        "colab": {
          "base_uri": "https://localhost:8080/"
        }
      },
      "execution_count": 13,
      "outputs": [
        {
          "output_type": "execute_result",
          "data": {
            "text/plain": [
              "0.0002955326963727687"
            ]
          },
          "metadata": {},
          "execution_count": 13
        }
      ]
    },
    {
      "cell_type": "markdown",
      "source": [
        "# Calculation of fugacity coefficients\n",
        "See example:\n",
        "\n",
        "https://github.com/EvenSol/NeqSim-Colab/blob/master/notebooks/thermodynamics/fugacityofC1C2andCo2.ipynb"
      ],
      "metadata": {
        "id": "DxNu76mZmdRz"
      }
    }
  ]
}